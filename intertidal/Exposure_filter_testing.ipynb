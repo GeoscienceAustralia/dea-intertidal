{
 "cells": [
  {
   "cell_type": "code",
   "execution_count": null,
   "id": "2caa67a6-89df-41a6-9e24-45ee364f60f7",
   "metadata": {
    "tags": []
   },
   "outputs": [],
   "source": [
    "import re"
   ]
  },
  {
   "cell_type": "code",
   "execution_count": null,
   "id": "df7d6204-caae-4420-9520-32ee8688e4aa",
   "metadata": {
    "tags": []
   },
   "outputs": [],
   "source": [
    "modelled_freq='30min'"
   ]
  },
  {
   "cell_type": "code",
   "execution_count": null,
   "id": "d42cb264-8f35-4df9-a89d-e9c5a1371cea",
   "metadata": {
    "tags": []
   },
   "outputs": [],
   "source": [
    "freq_time = (re.findall(r'(\\d+)(\\w+)', modelled_freq)[0][0])"
   ]
  },
  {
   "cell_type": "code",
   "execution_count": null,
   "id": "39d8b17e-0100-437f-9d3e-7e4651ac34a1",
   "metadata": {
    "tags": []
   },
   "outputs": [],
   "source": [
    "int(freq_time)"
   ]
  },
  {
   "cell_type": "code",
   "execution_count": null,
   "id": "5c674000-6ba4-4d10-b1e7-b07fd0ed7549",
   "metadata": {
    "tags": []
   },
   "outputs": [],
   "source": [
    "re?"
   ]
  },
  {
   "cell_type": "code",
   "execution_count": null,
   "id": "0a730d92-2ce2-4d92-ad1c-7ed79f573cd5",
   "metadata": {},
   "outputs": [],
   "source": []
  },
  {
   "cell_type": "code",
   "execution_count": null,
   "id": "75d15295-3cce-4805-9188-2602ee851f31",
   "metadata": {},
   "outputs": [],
   "source": []
  },
  {
   "cell_type": "code",
   "execution_count": null,
   "id": "58402e3d-7c78-472e-a097-df3b548dff9b",
   "metadata": {},
   "outputs": [],
   "source": []
  },
  {
   "cell_type": "code",
   "execution_count": 16,
   "id": "236b78f0-fb45-4db4-b740-3fb26ddfd64a",
   "metadata": {},
   "outputs": [
    {
     "data": {
      "text/plain": [
       "'/home/jovyan/dea_intertidal'"
      ]
     },
     "execution_count": 16,
     "metadata": {},
     "output_type": "execute_result"
    }
   ],
   "source": [
    "%pwd"
   ]
  },
  {
   "cell_type": "code",
   "execution_count": 22,
   "id": "a2ed0d9b-4096-4759-92e6-9335e87e7e3e",
   "metadata": {
    "tags": []
   },
   "outputs": [
    {
     "name": "stdout",
     "output_type": "stream",
     "text": [
      "/home/jovyan/dea_intertidal/dea-intertidal\n"
     ]
    }
   ],
   "source": [
    "cd 'dea-intertidal'"
   ]
  },
  {
   "cell_type": "code",
   "execution_count": 9,
   "id": "66fd68ec-a12d-4058-bbcf-fbef3e09da62",
   "metadata": {},
   "outputs": [
    {
     "name": "stdout",
     "output_type": "stream",
     "text": [
      "\u001b[31mERROR: Could not open requirements file: [Errno 2] No such file or directory: 'requirements.in'\u001b[0m\u001b[31m\n",
      "\u001b[0mNote: you may need to restart the kernel to use updated packages.\n"
     ]
    }
   ],
   "source": [
    "pip install -r requirements.in --quiet"
   ]
  },
  {
   "cell_type": "code",
   "execution_count": 10,
   "id": "063bacab-a8db-4009-953f-3e6ac36d81e5",
   "metadata": {
    "tags": []
   },
   "outputs": [
    {
     "name": "stdout",
     "output_type": "stream",
     "text": [
      "The autoreload extension is already loaded. To reload it, use:\n",
      "  %reload_ext autoreload\n"
     ]
    }
   ],
   "source": [
    "%load_ext autoreload\n",
    "%autoreload 2\n",
    "\n",
    "import pandas as pd\n",
    "import numpy as np\n",
    "import xarray as xr\n",
    "import re\n",
    "import datetime\n",
    "import pytz\n",
    "import sunriset\n",
    "\n",
    "from math import ceil\n",
    "from datetime import timedelta\n",
    "from shapely.geometry import Point\n",
    "from numpy import interp\n",
    "from scipy.signal import argrelmax, argrelmin\n",
    "\n",
    "from intertidal.utils import (\n",
    "    round_date_strings,\n",
    "    intertidal_hillshade,\n",
    ")\n",
    "from intertidal.tide_modelling import pixel_tides_ensemble"
   ]
  },
  {
   "cell_type": "code",
   "execution_count": 11,
   "id": "93bd2264-4e65-4663-b03a-31788fbcf1a4",
   "metadata": {
    "tags": []
   },
   "outputs": [],
   "source": [
    "%store -r ds"
   ]
  },
  {
   "cell_type": "code",
   "execution_count": 12,
   "id": "37e6dabb-0b50-43b4-8ce4-8efb2f566e22",
   "metadata": {
    "tags": []
   },
   "outputs": [],
   "source": [
    "dem = ds.elevation"
   ]
  },
  {
   "cell_type": "code",
   "execution_count": 45,
   "id": "4e1eb5ed-8336-40fd-9720-6696c6a767b9",
   "metadata": {
    "tags": []
   },
   "outputs": [
    {
     "name": "stdout",
     "output_type": "stream",
     "text": [
      "Running ensemble tide modelling\n",
      "Creating reduced resolution 3000 x 3000 metre tide modelling array\n",
      "Modelling tides using FES2014, FES2012, TPXO8-atlas-v1, TPXO9-atlas-v5, EOT20, HAMTIDE11, GOT4.10 in parallel\n"
     ]
    },
    {
     "name": "stderr",
     "output_type": "stream",
     "text": [
      "100%|██████████| 35/35 [02:03<00:00,  3.54s/it]  \n"
     ]
    },
    {
     "name": "stdout",
     "output_type": "stream",
     "text": [
      "Returning low resolution tide array\n",
      "Generating ensemble tide model from point inputs\n",
      "Interpolating model weights using 'idw' interpolation\n",
      "                 weights\n",
      "tide_model              \n",
      "FES2014         0.402385\n",
      "TPXO9-atlas-v5  0.400415\n",
      "EOT20           0.399260\n",
      "TPXO8-atlas-v1  0.395403\n",
      "FES2012         0.392284\n",
      "GOT4.10         0.372850\n",
      "HAMTIDE11       0.127742\n",
      "Reducing multiple models into single ensemble model using 'mean'\n",
      "Reprojecting ensemble tides into original array\n"
     ]
    }
   ],
   "source": [
    "tide_model = \"ensemble\"  # Tide model to use in analysis\n",
    "tide_model_dir = \"/gdata1/data/tide_models_clipped\"\n",
    "start_date = \"2020\"  # Start date for analysis\n",
    "end_date = \"2022\"  # End date for analysis\n",
    "modelled_freq = \"30min\"  # Frequency to run tidal model e.g '30min' or '1h'\n",
    "\n",
    "time_range = pd.date_range(\n",
    "    start=round_date_strings(start_date, round_type=\"start\"),\n",
    "    end=round_date_strings(end_date, round_type=\"end\"),\n",
    "    freq=modelled_freq,\n",
    ")\n",
    "\n",
    "calculate_quantiles = np.linspace(0, 1, 101) #nb formerly 'pc_range'\n",
    "\n",
    "ModelledTides, _ = pixel_tides_ensemble(\n",
    "    dem,\n",
    "    # calculate_quantiles=calculate_quantiles,\n",
    "    times=time_range,\n",
    "    directory=tide_model_dir,\n",
    "    ancillary_points=\"data/raw/tide_correlations_2017-2019.geojson\",\n",
    "    top_n=3,\n",
    "    reduce_method='mean',\n",
    "    resolution=3000,\n",
    ")\n",
    "\n",
    "stacked_everything = ModelledTides.mean(dim=[\"x\",\"y\"])\n",
    "\n",
    "# Extract the modelling freq units\n",
    "# Split the number and text characters in modelled_freq\n",
    "freq_time = int(re.findall(r'(\\d+)(\\w+)', modelled_freq)[0][0])\n",
    "freq_unit = str(re.findall(r'(\\d+)(\\w+)', modelled_freq)[0][-1])\n",
    "\n",
    "# Extract the number of modelled timesteps per 14 days (half lunar cycle) for neap/spring calcs\n",
    "mod_timesteps = pd.Timedelta((29.5/2),\"d\")/pd.Timedelta(freq_time, freq_unit)\n",
    "\n",
    "## Identify kwargs for peak detection algorithm\n",
    "order=(int(mod_timesteps/2))\n",
    "\n",
    "tide_cq_dict={}\n",
    "exposure={}\n",
    "timeranges={}"
   ]
  },
  {
   "cell_type": "code",
   "execution_count": 81,
   "id": "07489450-0846-46ac-984d-21ecd75685ae",
   "metadata": {},
   "outputs": [
    {
     "data": {
      "text/plain": [
       "[<matplotlib.lines.Line2D at 0x7fc72761da50>]"
      ]
     },
     "execution_count": 81,
     "metadata": {},
     "output_type": "execute_result"
    },
    {
     "data": {
      "image/png": "[encoded data removed]",
      "text/plain": [
       "<Figure size 640x480 with 1 Axes>"
      ]
     },
     "metadata": {},
     "output_type": "display_data"
    }
   ],
   "source": [
    "stacked_everything[0:5000].plot()"
   ]
  },
  {
   "cell_type": "code",
   "execution_count": null,
   "id": "654f23a8-9de3-49ce-99b6-c7c1b7831390",
   "metadata": {},
   "outputs": [],
   "source": []
  },
  {
   "cell_type": "code",
   "execution_count": 46,
   "id": "d5e4b13c-c78b-4cdb-bc36-594168b411b5",
   "metadata": {
    "tags": []
   },
   "outputs": [
    {
     "name": "stdout",
     "output_type": "stream",
     "text": [
      "Calculating Daylight\n",
      "Calculating Night\n"
     ]
    }
   ],
   "source": [
    "filters = ['Daylight', 'Night']\n",
    "\n",
    "for x in filters:\n",
    "    if x in ['Daylight','Night']: \n",
    "        print (f'Calculating {x}')\n",
    "\n",
    "        # Identify the central coordinate directly from the dem GeoBox\n",
    "        tidepost_lon_4326, tidepost_lat_4326 = dem.odc.geobox.extent.centroid.to_crs(\"EPSG:4326\").coords[0]\n",
    "\n",
    "        ## Coordinate point to locate the sunriset calculation\n",
    "        point_4326 = Point(tidepost_lon_4326, tidepost_lat_4326)\n",
    "\n",
    "        ## Calculate the local sunrise and sunset times\n",
    "        # Place start and end dates in correct format\n",
    "        start = time_range[0]\n",
    "        end = time_range[-1]\n",
    "        startdate = datetime.date(pd.to_datetime(start).year, \n",
    "                                  pd.to_datetime(start).month, \n",
    "                                  pd.to_datetime(start).day)\n",
    "\n",
    "        # Make 'all_timerange' time-zone aware\n",
    "        localtides = time_range.tz_localize(tz=pytz.UTC)#.tz_convert(timezone)\n",
    "\n",
    "        # Replace the UTC datetimes from all_timerange with local times\n",
    "        modelledtides = pd.DataFrame(index = localtides)\n",
    "\n",
    "        # Return the difference in years for the time-period. \n",
    "        # Round up to ensure all modelledtide datetimes are captured in the solar model\n",
    "        diff = pd.to_datetime(end) - pd.to_datetime(start)\n",
    "        diff = int(ceil(diff.days/365))\n",
    "\n",
    "        local_tz=0\n",
    "        \n",
    "        ## Model sunrise and sunset\n",
    "        sun_df = sunriset.to_pandas(startdate, tidepost_lat_4326, tidepost_lon_4326, local_tz, diff)\n",
    "\n",
    "        ## Set the index as a datetimeindex to match the modelledtide df\n",
    "        sun_df = sun_df.set_index(pd.DatetimeIndex(sun_df.index))\n",
    "\n",
    "        ## Append the date to each Sunrise and Sunset time\n",
    "        sun_df['Sunrise dt'] = sun_df.index + sun_df['Sunrise']\n",
    "        sun_df['Sunset dt'] = sun_df.index + (sun_df['Sunset'])\n",
    "\n",
    "        ## Create new dataframes where daytime and nightime datetimes are recorded, then merged \n",
    "        ## on a new `Sunlight` column\n",
    "        daytime=pd.DataFrame(data = 'Sunrise', index=sun_df['Sunrise dt'], columns=['Sunlight'])\n",
    "        nighttime=pd.DataFrame(data = 'Sunset', index=sun_df['Sunset dt'], columns=['Sunlight'])\n",
    "        DayNight = pd.concat([daytime, nighttime], join='outer')\n",
    "        DayNight.sort_index(inplace=True)\n",
    "        DayNight.index.rename('Datetime', inplace=True)\n",
    "\n",
    "        ## Create an xarray object from the merged day/night dataframe\n",
    "        day_night = xr.Dataset.from_dataframe(DayNight)\n",
    "\n",
    "        ## Remove local timezone timestamp column in modelledtides dataframe. Xarray doesn't handle \n",
    "        ## timezone aware datetimeindexes 'from_dataframe' very well.\n",
    "        modelledtides.index = modelledtides.index.tz_localize(tz=None)\n",
    "\n",
    "        ## Create an xr Dataset from the modelledtides pd.dataframe\n",
    "        mt = modelledtides.to_xarray()\n",
    "\n",
    "        ## Filter the modelledtides (mt) by the daytime, nighttime datetimes from the sunriset module\n",
    "        ## Modelled tides are designated as either day or night by propogation of the last valid index \n",
    "        ## value forward\n",
    "        Solar=day_night.sel(Datetime=mt.index, method='ffill')\n",
    "\n",
    "        ## Assign the day and night tideheight datasets\n",
    "        SolarDayTides = mt.where(Solar.Sunlight=='Sunrise', drop=True)\n",
    "        SolarNightTides = mt.where(Solar.Sunlight=='Sunset', drop=True)\n",
    "\n",
    "        ## Extract DatetimeIndexes to use in exposure calculations\n",
    "        all_timerange_day = pd.DatetimeIndex(SolarDayTides.index)\n",
    "        all_timerange_night = pd.DatetimeIndex(SolarNightTides.index)\n",
    "\n",
    "        if x == 'Daylight':\n",
    "            timeranges['Daylight'] = all_timerange_day\n",
    "        if x == 'Night':\n",
    "            timeranges['Night'] = all_timerange_night"
   ]
  },
  {
   "cell_type": "code",
   "execution_count": 25,
   "id": "61d8d8aa-a22f-4596-b9de-dbf3b35c0a3f",
   "metadata": {
    "tags": []
   },
   "outputs": [],
   "source": [
    "# Solar.Sunlight.where(Solar.Sunlight == 'Sunrise',False)#.plot()"
   ]
  },
  {
   "cell_type": "code",
   "execution_count": 33,
   "id": "d4a76e60-1d1e-487a-ba2b-0d61dbcab276",
   "metadata": {
    "tags": []
   },
   "outputs": [
    {
     "data": {
      "text/plain": [
       "4380"
      ]
     },
     "execution_count": 33,
     "metadata": {},
     "output_type": "execute_result"
    }
   ],
   "source": [
    "len(timeranges['Daylight'])"
   ]
  },
  {
   "cell_type": "code",
   "execution_count": 34,
   "id": "fed7c3da-cef5-48b2-bb46-84cf26c49e5f",
   "metadata": {
    "tags": []
   },
   "outputs": [
    {
     "data": {
      "text/plain": [
       "4381"
      ]
     },
     "execution_count": 34,
     "metadata": {},
     "output_type": "execute_result"
    }
   ],
   "source": [
    "len(timeranges['Night'])"
   ]
  },
  {
   "cell_type": "code",
   "execution_count": 27,
   "id": "250bb796-13dc-485c-be6d-031d98f763cb",
   "metadata": {
    "tags": []
   },
   "outputs": [],
   "source": [
    "# timeranges['Daylight'].tz_localize(pytz.utc).tz_convert('Australia/Adelaide')"
   ]
  },
  {
   "cell_type": "code",
   "execution_count": 28,
   "id": "c59d3d30-5035-4dcb-a68e-ed0d2db75c06",
   "metadata": {
    "tags": []
   },
   "outputs": [],
   "source": [
    "# timeranges['Daylight'].tz_localize(pytz.utc).tz_convert('Australia/Adelaide')"
   ]
  },
  {
   "cell_type": "code",
   "execution_count": 29,
   "id": "185c00f6-3e24-4385-8c52-ecc8f404138a",
   "metadata": {
    "tags": []
   },
   "outputs": [],
   "source": [
    "# timeranges['Night'].tz_localize(pytz.utc).tz_convert('Australia/Adelaide')"
   ]
  },
  {
   "cell_type": "code",
   "execution_count": 30,
   "id": "c24d353e-afc6-4a39-8408-56a737531347",
   "metadata": {
    "tags": []
   },
   "outputs": [],
   "source": [
    "import matplotlib.pyplot as plt"
   ]
  },
  {
   "cell_type": "code",
   "execution_count": 69,
   "id": "8475a109-ed52-49bc-92d7-88584e9d255d",
   "metadata": {
    "tags": []
   },
   "outputs": [],
   "source": [
    "nt = np.full((len(timeranges['Night']),1),1)\n",
    "day = np.full((len(timeranges['Daylight']),1),1)"
   ]
  },
  {
   "cell_type": "code",
   "execution_count": 79,
   "id": "df0f3c27-c138-4f3f-a65f-542dc5a47d93",
   "metadata": {
    "tags": []
   },
   "outputs": [
    {
     "data": {
      "text/plain": [
       "[<matplotlib.lines.Line2D at 0x7fc7277acc10>]"
      ]
     },
     "execution_count": 79,
     "metadata": {},
     "output_type": "execute_result"
    },
    {
     "data": {
      "image/png": "[encoded data removed]",
      "text/plain": [
       "<Figure size 640x480 with 1 Axes>"
      ]
     },
     "metadata": {},
     "output_type": "display_data"
    }
   ],
   "source": [
    "plt.plot(timeranges['Daylight'].tz_localize(pytz.utc).tz_convert('Australia/Adelaide')[0:1500],day[0:1500], marker='o',color='blue', linestyle='')\n",
    "plt.plot(timeranges['Night'].tz_localize(pytz.utc).tz_convert('Australia/Adelaide')[0:1000],nt[0:1000], marker='.', color='r', linestyle='')"
   ]
  },
  {
   "cell_type": "code",
   "execution_count": 50,
   "id": "243483d4-2975-43e3-9271-4e9772cbc422",
   "metadata": {
    "tags": []
   },
   "outputs": [
    {
     "data": {
      "text/plain": [
       "[<matplotlib.lines.Line2D at 0x7fc72c8f1a80>]"
      ]
     },
     "execution_count": 50,
     "metadata": {},
     "output_type": "execute_result"
    },
    {
     "data": {
      "image/png": "[encoded data removed]",
      "text/plain": [
       "<Figure size 640x480 with 1 Axes>"
      ]
     },
     "metadata": {},
     "output_type": "display_data"
    }
   ],
   "source": [
    "plt.plot(timeranges['Daylight'][0:20],day[0:20], marker='o')\n",
    "plt.plot(timeranges['Night'][0:20],nt[0:20], marker='o')"
   ]
  },
  {
   "cell_type": "code",
   "execution_count": 63,
   "id": "2e67948d-f521-4b2b-8ce5-b67087e75e11",
   "metadata": {
    "tags": []
   },
   "outputs": [
    {
     "data": {
      "text/plain": [
       "DatetimeIndex(['2020-02-01 07:00:00+10:30', '2020-02-01 07:30:00+10:30',\n",
       "               '2020-02-01 08:00:00+10:30', '2020-02-01 08:30:00+10:30',\n",
       "               '2020-02-01 09:00:00+10:30', '2020-02-01 09:30:00+10:30',\n",
       "               '2020-02-01 10:00:00+10:30', '2020-02-01 10:30:00+10:30',\n",
       "               '2020-02-01 11:00:00+10:30', '2020-02-01 11:30:00+10:30',\n",
       "               '2020-02-01 12:00:00+10:30', '2020-02-01 12:30:00+10:30',\n",
       "               '2020-02-01 13:00:00+10:30', '2020-02-01 13:30:00+10:30',\n",
       "               '2020-02-01 14:00:00+10:30', '2020-02-01 14:30:00+10:30',\n",
       "               '2020-02-01 15:00:00+10:30', '2020-02-01 15:30:00+10:30',\n",
       "               '2020-02-01 16:00:00+10:30', '2020-02-01 16:30:00+10:30',\n",
       "               '2020-02-01 17:00:00+10:30', '2020-02-01 17:30:00+10:30',\n",
       "               '2020-02-01 18:00:00+10:30', '2020-02-01 18:30:00+10:30',\n",
       "               '2020-02-01 19:00:00+10:30', '2020-02-01 19:30:00+10:30',\n",
       "               '2020-02-01 20:00:00+10:30'],\n",
       "              dtype='datetime64[ns, Australia/Adelaide]', freq=None)"
      ]
     },
     "execution_count": 63,
     "metadata": {},
     "output_type": "execute_result"
    }
   ],
   "source": [
    "daySA = timeranges['Daylight'].tz_localize(pytz.utc).tz_convert('Australia/Adelaide')\n",
    "daySA[daySA.slice_indexer(start='2020-02-01', end='2020-02-01')]"
   ]
  },
  {
   "cell_type": "code",
   "execution_count": 67,
   "id": "7b37db55-9913-42ac-b36e-cfdad1595b27",
   "metadata": {
    "tags": []
   },
   "outputs": [
    {
     "data": {
      "text/plain": [
       "DatetimeIndex(['2020-01-31 00:00:00+10:30', '2020-01-31 00:30:00+10:30',\n",
       "               '2020-01-31 01:00:00+10:30', '2020-01-31 01:30:00+10:30',\n",
       "               '2020-01-31 02:00:00+10:30', '2020-01-31 02:30:00+10:30',\n",
       "               '2020-01-31 03:00:00+10:30', '2020-01-31 03:30:00+10:30',\n",
       "               '2020-01-31 04:00:00+10:30', '2020-01-31 04:30:00+10:30',\n",
       "               '2020-01-31 05:00:00+10:30', '2020-01-31 05:30:00+10:30',\n",
       "               '2020-01-31 06:00:00+10:30', '2020-01-31 06:30:00+10:30',\n",
       "               '2020-01-31 20:30:00+10:30', '2020-01-31 21:00:00+10:30',\n",
       "               '2020-01-31 21:30:00+10:30', '2020-01-31 22:00:00+10:30',\n",
       "               '2020-01-31 22:30:00+10:30', '2020-01-31 23:00:00+10:30',\n",
       "               '2020-01-31 23:30:00+10:30', '2020-02-01 00:00:00+10:30',\n",
       "               '2020-02-01 00:30:00+10:30', '2020-02-01 01:00:00+10:30',\n",
       "               '2020-02-01 01:30:00+10:30', '2020-02-01 02:00:00+10:30',\n",
       "               '2020-02-01 02:30:00+10:30', '2020-02-01 03:00:00+10:30',\n",
       "               '2020-02-01 03:30:00+10:30', '2020-02-01 04:00:00+10:30',\n",
       "               '2020-02-01 04:30:00+10:30', '2020-02-01 05:00:00+10:30',\n",
       "               '2020-02-01 05:30:00+10:30', '2020-02-01 06:00:00+10:30',\n",
       "               '2020-02-01 06:30:00+10:30', '2020-02-01 20:30:00+10:30',\n",
       "               '2020-02-01 21:00:00+10:30', '2020-02-01 21:30:00+10:30',\n",
       "               '2020-02-01 22:00:00+10:30', '2020-02-01 22:30:00+10:30',\n",
       "               '2020-02-01 23:00:00+10:30', '2020-02-01 23:30:00+10:30'],\n",
       "              dtype='datetime64[ns, Australia/Adelaide]', freq=None)"
      ]
     },
     "execution_count": 67,
     "metadata": {},
     "output_type": "execute_result"
    }
   ],
   "source": [
    "nightSA = timeranges['Night'].tz_localize(pytz.utc).tz_convert('Australia/Adelaide')\n",
    "nightSA[nightSA.slice_indexer(start='2020-01-31', end='2020-02-01')]"
   ]
  },
  {
   "cell_type": "code",
   "execution_count": 65,
   "id": "91672a1f-2d8c-49ae-86f3-85c0ad1b01a6",
   "metadata": {
    "tags": []
   },
   "outputs": [
    {
     "data": {
      "text/plain": [
       "<matplotlib.collections.QuadMesh at 0x7fc6fd521930>"
      ]
     },
     "execution_count": 65,
     "metadata": {},
     "output_type": "execute_result"
    },
    {
     "data": {
      "image/png": "[encoded data removed]",
      "text/plain": [
       "<Figure size 640x480 with 2 Axes>"
      ]
     },
     "metadata": {},
     "output_type": "display_data"
    }
   ],
   "source": [
    "dem.plot()"
   ]
  },
  {
   "cell_type": "code",
   "execution_count": null,
   "id": "351e2948-5cd3-48d7-b717-d18753bb5692",
   "metadata": {
    "tags": []
   },
   "outputs": [],
   "source": [
    "filters =['Neap_high']\n",
    "\n",
    "# if x == 'Spring_high' or x == 'Spring_low':\n",
    "for x in filters:\n",
    "    if x in ['Spring_high', 'Spring_low', 'Neap_high', 'Neap_low']:\n",
    "\n",
    "        print (f'Calculating {x}')\n",
    "\n",
    "        #1D tide modelling workflow\n",
    "\n",
    "        ## apply the peak detection routine\n",
    "        if x in ['Spring_high', 'Neap_high']:\n",
    "            stacked_everything_peaks = argrelmax(stacked_everything.values, order=order)[0]\n",
    "        if x in ['Spring_low', 'Neap_low']:\n",
    "            stacked_everything_peaks = argrelmin(stacked_everything.values, order=order)[0]\n",
    "        if x == 'Neap_high':       \n",
    "            ## apply the peak detection routine to calculate all the high tide maxima\n",
    "            Max_testarray = argrelmax(stacked_everything.values)[0]\n",
    "            \n",
    "            Max_testarray = stacked_everything.isel(time=Max_testarray)\n",
    "            ## extract all hightide peaks\n",
    "            Max_testarray = ModelledTides.to_dataset().sel(time=Max_testarray.time)\n",
    "            ## repeat the peak detection to identify neap high tides (minima in the high tide maxima)\n",
    "            stacked_everything2 = Max_testarray.mean(dim=[\"x\",\"y\"])\n",
    "            ## extract neap high tides based on 14 day half lunar cycle - determined as the fraction of all high tide points\n",
    "            ## relative to the number of spring high tide values\n",
    "            order_nh = int(ceil((len(Max_testarray.time)/(len(stacked_everything_peaks))/2)))\n",
    "            ## apply the peak detection routine to calculate all the neap high tide minima within the high tide peaks\n",
    "            neap_peaks = argrelmin(stacked_everything2.tide_m.values, order=order_nh)[0] \n",
    "\n",
    "        if x == 'Neap_low':       \n",
    "            ## apply the peak detection routine to calculate all the high tide maxima\n",
    "            Max_testarray = argrelmin(stacked_everything.values)[0]\n",
    "            \n",
    "            Max_testarray = stacked_everything.isel(time=Max_testarray)\n",
    "            ## extract all hightide peaks\n",
    "            Max_testarray = ModelledTides.to_dataset().sel(time=Max_testarray.time)\n",
    "            ## repeat the peak detection to identify neap high tides (maxima in the low tide minima)\n",
    "            stacked_everything2 = Max_testarray.mean(dim=[\"x\",\"y\"])\n",
    "            ## extract neap high tides based on 14 day half lunar cycle - determined as the fraction of all high tide points\n",
    "            ## relative to the number of spring high tide values\n",
    "            order_nh = int(ceil((len(Max_testarray.time)/(len(stacked_everything_peaks))/2)))\n",
    "            ## apply the peak detection routine to calculate all the neap high tide minima within the high tide peaks\n",
    "            neap_peaks = argrelmax(stacked_everything2.tide_m.values, order=order_nh)[0]\n",
    "\n",
    "        if x in ['Neap_high', 'Neap_low']: \n",
    "            ## extract neap high tides\n",
    "            neappeaks = Max_testarray.isel(time=neap_peaks)\n",
    "\n",
    "            timeranges[str(x)]=pd.to_datetime(neappeaks.time)\n",
    "\n",
    "            # Extract the peak height dates\n",
    "            tide_cq = neappeaks.quantile(q=calculate_quantiles,dim='time')\n",
    "\n",
    "\n",
    "        if x in ['Spring_high', 'Spring_low']:  \n",
    "            # select for indices associated with peaks\n",
    "            springpeaks = stacked_everything.isel(time=stacked_everything_peaks)\n",
    "\n",
    "            # Select dates associated with detected peaks\n",
    "            springpeaks = ModelledTides.to_dataset().sel(time=springpeaks.time)\n",
    "\n",
    "            # Save datetimes for calculation of combined filter exposure\n",
    "            timeranges[str(x)]=pd.to_datetime(springpeaks.time)\n",
    "\n",
    "            # Extract the peak height dates\n",
    "            tide_cq = springpeaks.quantile(q=calculate_quantiles,dim='time')\n",
    "\n",
    "        # Add tide_cq to output dict\n",
    "        tide_cq_dict[str(x)]=tide_cq.tide_m\n",
    "\n",
    "        # Calculate the tide-height difference between the elevation value and\n",
    "        # each percentile value per pixel\n",
    "        diff = abs(tide_cq.tide_m - dem)\n",
    "\n",
    "        # Take the percentile of the smallest tide-height difference as the\n",
    "        # exposure % per pixel\n",
    "        idxmin = diff.idxmin(dim=\"quantile\")\n",
    "\n",
    "        # Convert to percentage\n",
    "        exposure[str(x)] = idxmin * 100 \n",
    "    \n"
   ]
  },
  {
   "cell_type": "code",
   "execution_count": null,
   "id": "339b2908-f002-4582-b7f7-e565f7aaa441",
   "metadata": {
    "tags": []
   },
   "outputs": [],
   "source": [
    "tide_cq_dict"
   ]
  },
  {
   "cell_type": "code",
   "execution_count": null,
   "id": "31bad702-1c09-408d-8307-61737be62bc5",
   "metadata": {
    "tags": []
   },
   "outputs": [],
   "source": [
    "tide_cq"
   ]
  },
  {
   "cell_type": "code",
   "execution_count": null,
   "id": "e9d64b39-f7c4-45f6-956b-026dd6d0f7e3",
   "metadata": {
    "tags": []
   },
   "outputs": [],
   "source": [
    "# exposure['Neap_high'].plot()\n",
    "int(ceil((len(Max_testarray.time)/(len(stacked_everything_peaks))/2)))\n",
    "# len(stacked_everything_peaks)\n",
    "# len(Max_testarray.time)\n",
    "# stacked_everything.isel(time=Max_testarray)\n",
    "# order\n",
    "\n",
    "testc = argrelmax(stacked_everything2.tide_m.values, order=order_nh)[0] #order_nh\n",
    "\n",
    "stacked_everything2.tide_m[0:340].plot(marker='o')\n",
    "Max_testarray.tide_m.isel(time=testc).mean(dim=[\"x\",\"y\"])[0:16].plot(marker='o',color='red')\n"
   ]
  },
  {
   "cell_type": "code",
   "execution_count": null,
   "id": "d4d49195-f769-4a98-b6e1-14438e7bb57e",
   "metadata": {
    "tags": []
   },
   "outputs": [],
   "source": [
    "testb = stacked_everything.isel(time=argrelmin(stacked_everything.values)[0])"
   ]
  },
  {
   "cell_type": "code",
   "execution_count": null,
   "id": "0a918b6b-c155-4db7-89cb-e7076c26cf60",
   "metadata": {
    "tags": []
   },
   "outputs": [],
   "source": [
    "stacked_everything[0:600].plot()\n",
    "stacked_everything.isel(time=stacked_everything_peaks)[0:6].plot()\n",
    "stacked_everything2.tide_m[0:100].plot(marker='o')\n",
    "# testb[0:100].plot(marker='o')\n",
    "# stacked_everything2.tide_m.sel(time=neaphighs_all).plot()\n",
    "Max_testarray.tide_m.isel(time=neap_peaks).mean(dim=[\"x\",\"y\"])[0:6].plot(marker='o',color='red')\n",
    "# neappeaks.plot()\n",
    "# springpeaks.plot()#.isel(time=stacked_everything_peaks2).plot()\n",
    "# test.plot()"
   ]
  },
  {
   "cell_type": "code",
   "execution_count": null,
   "id": "4ff553db-4ccf-4b47-9885-0bc49f8145f2",
   "metadata": {
    "tags": []
   },
   "outputs": [],
   "source": [
    "stacked_everything[0:600].plot()\n",
    "stacked_everything.isel(time=stacked_everything_peaks)[0:6].plot()\n",
    "stacked_everything2.tide_m[0:100].plot(marker='o')\n",
    "# testb[0:100].plot(marker='o')\n",
    "# stacked_everything2.tide_m.sel(time=neaphighs_all).plot()\n",
    "Max_testarray.tide_m.isel(time=neap_peaks).mean(dim=[\"x\",\"y\"])[0:6].plot(marker='o',color='red')\n",
    "# neappeaks.plot()\n",
    "# springpeaks.plot()#.isel(time=stacked_everything_peaks2).plot()\n",
    "# test.plot()"
   ]
  },
  {
   "cell_type": "code",
   "execution_count": null,
   "id": "448d7fec-134c-4656-a70e-de45dcecb76a",
   "metadata": {
    "tags": []
   },
   "outputs": [],
   "source": [
    "stacked_everything[0:1200].plot()\n",
    "stacked_everything.isel(time=stacked_everything_peaks)[0:10].plot()\n",
    "# stacked_everything2.tide_m.sel(time=neaphighs_all).plot()\n",
    "Max_testarray.tide_m.isel(time=neaphighs_all).mean(dim=[\"x\",\"y\"])[0:10].plot()\n",
    "# neappeaks.plot()\n",
    "# springpeaks.plot()#.isel(time=stacked_everything_peaks2).plot()\n",
    "# test.plot()"
   ]
  },
  {
   "cell_type": "code",
   "execution_count": null,
   "id": "3dff815f-49a1-48a1-83d7-57713d08ff7d",
   "metadata": {
    "tags": []
   },
   "outputs": [],
   "source": [
    "print(len(Max_testarray.time))\n",
    "len(stacked_everything2.tide_m)"
   ]
  },
  {
   "cell_type": "code",
   "execution_count": null,
   "id": "363df1f7-5307-4147-9294-70bf9811a918",
   "metadata": {
    "tags": []
   },
   "outputs": [],
   "source": [
    "exposure#['Spring_high'].plot()"
   ]
  },
  {
   "cell_type": "code",
   "execution_count": null,
   "id": "b129233c-ea50-4990-92c3-f3adf6dfbfa0",
   "metadata": {
    "tags": []
   },
   "outputs": [],
   "source": [
    "list = ['a','b','c','d']\n",
    "\n",
    "for x in list:\n",
    "    # if x == 'a' or x== 'b':\n",
    "    if x in ['a','b','f','x']:\n",
    "    # if x == 'a'|'b':\n",
    "        print (x)\n",
    "    else:\n",
    "        print('not in list')"
   ]
  },
  {
   "cell_type": "code",
   "execution_count": null,
   "id": "69666125-f5ac-487f-b460-85c77e90c198",
   "metadata": {
    "tags": []
   },
   "outputs": [],
   "source": [
    "if x == 'Neap_high':\n",
    "    print ('Calculating Neap_high')\n",
    "    ## Calculate the number of spring high tides to support calculation of neap highs\n",
    "    ## apply the peak detection routine\n",
    "    stacked_everything_high = stacked_everything.apply(lambda x: xr.DataArray(argrelmax(x.values, order=order)[0]))\n",
    "    ## Unstack\n",
    "    springhighs_all = stacked_everything_high.unstack('z')\n",
    "\n",
    "    ## apply the peak detection routine to calculate all the high tide maxima\n",
    "    Max_testarray = stacked_everything.apply(lambda x: xr.DataArray(argrelmax(x.values)[0]))\n",
    "    ## extract the corresponding dates from the peaks\n",
    "    Max_testarray = (Max_testarray.unstack('z'))\n",
    "    Max_testarray = (Max_testarray.reindex(y=Max_testarray.y[::-1])\n",
    "                     .rename({'dim_0':'time'})\n",
    "                     .to_dataset(name = 'time')\n",
    "                     [['time','y','x']]\n",
    "                    )\n",
    "    ## extract all hightide peaks\n",
    "    # Max_testarray = ModelledTides[0].to_dataset().isel(time=Max_testarray.time)\n",
    "    Max_testarray = ModelledTides.to_dataset().isel(time=Max_testarray.time)## removed reference to ModelledTides[0]. Possibly an artefact of new pixel_tides_ensemble func. If using pixel_tides, may need to revert to ModelledTides[0].\n",
    "\n",
    "    ## repeat the peak detection to identify neap high tides (minima in the high tide maxima)\n",
    "    stacked_everything2 = Max_testarray.tide_m.stack(z=['y','x']).groupby('z')\n",
    "    ## extract neap high tides based on 14 day half lunar cycle - determined as the fraction of all high tide points\n",
    "    ## relative to the number of spring high tide values\n",
    "    order_nh = int(ceil((len(Max_testarray.time)/(len(springhighs_all))/2)))\n",
    "    ## apply the peak detection routine to calculate all the neap high tide minima within the high tide peaks\n",
    "    neaphighs_all = stacked_everything2.apply(lambda x: xr.DataArray(argrelmin(x.values, order=order_nh)[0]))\n",
    "    ## unstack and format as above                                    \n",
    "    neaphighs_all = neaphighs_all.unstack('z')\n",
    "    neaphighs_all = (\n",
    "                    neaphighs_all\n",
    "                     .reindex(y=neaphighs_all.y[::-1])\n",
    "                     .rename({'dim_0':'time'})\n",
    "                     .to_dataset(name = 'time')\n",
    "                     [['time','y','x']]\n",
    "                    )\n",
    "    ## extract neap high tides\n",
    "    neaphighs_all = Max_testarray.isel(time=neaphighs_all.time)\n",
    "\n",
    "    ## Save datetimes for calculation of combined filter exposure\n",
    "    timeranges['Neap_high'] = pd.to_datetime(neaphighs_all.isel(x=1,y=1).time)\n",
    "\n",
    "    tide_cq = neaphighs_all.tide_m.quantile(q=calculate_quantiles,dim='time')\n",
    "\n",
    "    # Add tide_cq to output dict\n",
    "    tide_cq_dict[str(x)]=tide_cq\n",
    "\n",
    "    # Calculate the tide-height difference between the elevation value and\n",
    "    # each percentile value per pixel\n",
    "    diff = abs(tide_cq - dem)\n",
    "\n",
    "    # Take the percentile of the smallest tide-height difference as the\n",
    "    # exposure % per pixel\n",
    "    idxmin = diff.idxmin(dim=\"quantile\")\n",
    "\n",
    "    # Convert to percentage\n",
    "    exposure['Neap_high'] = idxmin * 100\n"
   ]
  },
  {
   "cell_type": "code",
   "execution_count": null,
   "id": "8cf95636-c671-4863-9bbb-6e88f11f2cb2",
   "metadata": {
    "tags": []
   },
   "outputs": [],
   "source": [
    "stacked_everything_high[0]"
   ]
  },
  {
   "cell_type": "code",
   "execution_count": null,
   "id": "7b853fbb-037d-4b6f-b78a-178b7162c551",
   "metadata": {
    "tags": []
   },
   "outputs": [],
   "source": [
    "stacked_everything"
   ]
  },
  {
   "cell_type": "code",
   "execution_count": null,
   "id": "2128989b-606a-484a-816b-bde54dbec01d",
   "metadata": {
    "tags": []
   },
   "outputs": [],
   "source": [
    "stacked_everything.plot()\n",
    "stacked_everything.isel(time=stacked_everything_high).plot()"
   ]
  },
  {
   "cell_type": "code",
   "execution_count": null,
   "id": "2c64fb1f-1e77-4cb8-aa01-69a2b1deca39",
   "metadata": {},
   "outputs": [],
   "source": []
  },
  {
   "cell_type": "code",
   "execution_count": null,
   "id": "f663a407-e7dd-48a1-b3d0-47ee2c597053",
   "metadata": {},
   "outputs": [],
   "source": []
  },
  {
   "cell_type": "code",
   "execution_count": null,
   "id": "84d8b90b-a064-4959-9ff8-9443281a45c0",
   "metadata": {
    "tags": []
   },
   "outputs": [],
   "source": [
    "def highestlowtides(z):\n",
    "    '''\n",
    "    x is a grouping of x and y pixels from the peaks_array (labelled as 'z')\n",
    "    '''\n",
    "\n",
    "    ## apply the peak detection routine to calculate all the high tide maxima\n",
    "    low_peaks = np.array(argrelmin(z.values)[0])\n",
    "\n",
    "    ## extract all hightide peaks\n",
    "    Min_testarray = z.isel(time=low_peaks)\n",
    "\n",
    "    ## Identify all lower hightide peaks\n",
    "    highlow_peaks = np.array(argrelmax(Min_testarray.values)[0])\n",
    "\n",
    "    ## Interpolate the lower hightide curve\n",
    "    neap_low_linear = interp(\n",
    "                            ## Create an array to interpolate into\n",
    "                            np.arange(0,len(z.time)),\n",
    "                            ## low high peaks as a subset of all high tide peaks\n",
    "                            low_peaks[highlow_peaks],\n",
    "                            ## Corresponding tide heights\n",
    "                            Min_testarray.isel(time=highlow_peaks).squeeze(['z']).values,\n",
    "                            )\n",
    "\n",
    "    # # Extract hightides as all tides higher than/equal to the extrapolated lowest high tide line\n",
    "    lowtide = z.squeeze(['z']).where(z.squeeze(['z']) <= neap_low_linear, drop=True)\n",
    "\n",
    "    return lowtide "
   ]
  },
  {
   "cell_type": "code",
   "execution_count": null,
   "id": "a8f2a381-c6dc-473e-b25f-83185e334be1",
   "metadata": {
    "tags": []
   },
   "outputs": [],
   "source": [
    "## Vectorise the lowtide calculation\n",
    "highlows_all = stacked_everything.apply(lambda x: xr.DataArray(highestlowtides(x)))\n",
    "# highlows_all = stacked_everything.map(lambda y: xr.DataArray(highestlowtides(y)))"
   ]
  },
  {
   "cell_type": "code",
   "execution_count": null,
   "id": "9c3aa3a1-7c83-4dce-8ebe-39f71670d9da",
   "metadata": {
    "tags": []
   },
   "outputs": [],
   "source": [
    "import matplotlib.pyplot as plt"
   ]
  },
  {
   "cell_type": "code",
   "execution_count": null,
   "id": "9f17f15f-b3ab-477e-8ff1-4cdf39c4c3b3",
   "metadata": {
    "tags": []
   },
   "outputs": [],
   "source": [
    "\n",
    "stacked_everything[0:300].plot(marker='.', linestyle='', color='blue', zorder=10)\n",
    "low_peaks2[0:70].plot(linestyle='', color='orange')\n",
    "highlow_peaks2[0:30].plot(linestyle='', color='g')\n",
    "plt.plot(stacked_everything.time[0:300], high_low_linear[0:300])\n",
    "lowtide[0:100].plot(marker='o', color='black', zorder=1, linestyle='')"
   ]
  },
  {
   "cell_type": "code",
   "execution_count": null,
   "id": "1c639df5-b2eb-4347-b218-e79ad37d033b",
   "metadata": {
    "tags": []
   },
   "outputs": [],
   "source": [
    "# calculate all the low tide maxima\n",
    "low_peaks = argrelmin(stacked_everything.values)[0]\n",
    "\n",
    "# extract all lowtide peaks\n",
    "low_peaks2 = stacked_everything.isel(time=low_peaks)\n",
    "\n",
    "# identify all higher lowtide peaks\n",
    "highlow_peaks = argrelmax(low_peaks2.values)[0]\n",
    "\n",
    "# extract all higher lowtide peaks\n",
    "highlow_peaks2 = low_peaks2.isel(time=highlow_peaks)\n",
    "\n",
    "# interpolate the higher lowtide curve\n",
    "high_low_linear = interp(np.arange(0,len(stacked_everything)),\n",
    "                         low_peaks[highlow_peaks],\n",
    "                         highlow_peaks2.values)\n",
    "# Extract all tides lower than/equal to the extrapolated higher lowtide line\n",
    "lowtide = stacked_everything.where(stacked_everything <= high_low_linear, drop=True)\n",
    "\n",
    "## Save datetimes for calculation of combined filter exposure\n",
    "timeranges['Lowtide'] = pd.to_datetime(lowtide.time)\n",
    "\n",
    "tide_cq = lowtide.quantile(q=calculate_quantiles,dim='time').to_dataset()"
   ]
  },
  {
   "cell_type": "code",
   "execution_count": null,
   "id": "d87b062e-a7a9-4c1c-baa5-c0abb7656640",
   "metadata": {},
   "outputs": [],
   "source": [
    "tide_cq.to_dataset()"
   ]
  },
  {
   "cell_type": "code",
   "execution_count": null,
   "id": "bed07cd7-0f69-4375-907b-504d3fb68878",
   "metadata": {
    "tags": []
   },
   "outputs": [],
   "source": [
    "stacked_everything"
   ]
  },
  {
   "cell_type": "code",
   "execution_count": null,
   "id": "44c35705-d4a3-4bc0-9f60-a7e0a3c3bc8f",
   "metadata": {},
   "outputs": [],
   "source": []
  }
 ],
 "metadata": {
  "kernelspec": {
   "display_name": "Python 3 (ipykernel)",
   "language": "python",
   "name": "python3"
  },
  "language_info": {
   "codemirror_mode": {
    "name": "ipython",
    "version": 3
   },
   "file_extension": ".py",
   "mimetype": "text/x-python",
   "name": "python",
   "nbconvert_exporter": "python",
   "pygments_lexer": "ipython3",
   "version": "3.10.13"
  }
 },
 "nbformat": 4,
 "nbformat_minor": 5
}

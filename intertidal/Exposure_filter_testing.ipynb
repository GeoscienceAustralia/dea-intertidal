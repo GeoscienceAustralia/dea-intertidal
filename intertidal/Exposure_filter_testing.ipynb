{
 "cells": [
  {
   "cell_type": "code",
   "execution_count": null,
   "id": "2caa67a6-89df-41a6-9e24-45ee364f60f7",
   "metadata": {
    "tags": []
   },
   "outputs": [],
   "source": [
    "import re"
   ]
  },
  {
   "cell_type": "code",
   "execution_count": null,
   "id": "df7d6204-caae-4420-9520-32ee8688e4aa",
   "metadata": {
    "tags": []
   },
   "outputs": [],
   "source": [
    "modelled_freq='30min'"
   ]
  },
  {
   "cell_type": "code",
   "execution_count": null,
   "id": "d42cb264-8f35-4df9-a89d-e9c5a1371cea",
   "metadata": {
    "tags": []
   },
   "outputs": [],
   "source": [
    "freq_time = (re.findall(r'(\\d+)(\\w+)', modelled_freq)[0][0])"
   ]
  },
  {
   "cell_type": "code",
   "execution_count": null,
   "id": "39d8b17e-0100-437f-9d3e-7e4651ac34a1",
   "metadata": {
    "tags": []
   },
   "outputs": [],
   "source": [
    "int(freq_time)"
   ]
  },
  {
   "cell_type": "code",
   "execution_count": null,
   "id": "5c674000-6ba4-4d10-b1e7-b07fd0ed7549",
   "metadata": {
    "tags": []
   },
   "outputs": [],
   "source": [
    "re?"
   ]
  },
  {
   "cell_type": "code",
   "execution_count": null,
   "id": "0a730d92-2ce2-4d92-ad1c-7ed79f573cd5",
   "metadata": {},
   "outputs": [],
   "source": []
  },
  {
   "cell_type": "code",
   "execution_count": null,
   "id": "75d15295-3cce-4805-9188-2602ee851f31",
   "metadata": {},
   "outputs": [],
   "source": []
  },
  {
   "cell_type": "code",
   "execution_count": null,
   "id": "58402e3d-7c78-472e-a097-df3b548dff9b",
   "metadata": {},
   "outputs": [],
   "source": []
  },
  {
   "cell_type": "code",
   "execution_count": 1,
   "id": "236b78f0-fb45-4db4-b740-3fb26ddfd64a",
   "metadata": {},
   "outputs": [
    {
     "data": {
      "text/plain": [
       "'/home/jovyan/dea_intertidal/dea-intertidal/intertidal'"
      ]
     },
     "execution_count": 1,
     "metadata": {},
     "output_type": "execute_result"
    }
   ],
   "source": [
    "%pwd"
   ]
  },
  {
   "cell_type": "code",
   "execution_count": 2,
   "id": "a2ed0d9b-4096-4759-92e6-9335e87e7e3e",
   "metadata": {
    "tags": []
   },
   "outputs": [
    {
     "name": "stdout",
     "output_type": "stream",
     "text": [
      "/home/jovyan/dea_intertidal/dea-intertidal\n"
     ]
    }
   ],
   "source": [
    "cd .."
   ]
  },
  {
   "cell_type": "code",
   "execution_count": 3,
   "id": "66fd68ec-a12d-4058-bbcf-fbef3e09da62",
   "metadata": {},
   "outputs": [
    {
     "name": "stdout",
     "output_type": "stream",
     "text": [
      "Note: you may need to restart the kernel to use updated packages.\n"
     ]
    }
   ],
   "source": [
    "pip install -r requirements.in --quiet"
   ]
  },
  {
   "cell_type": "code",
   "execution_count": 58,
   "id": "063bacab-a8db-4009-953f-3e6ac36d81e5",
   "metadata": {
    "tags": []
   },
   "outputs": [
    {
     "name": "stdout",
     "output_type": "stream",
     "text": [
      "The autoreload extension is already loaded. To reload it, use:\n",
      "  %reload_ext autoreload\n"
     ]
    }
   ],
   "source": [
    "%load_ext autoreload\n",
    "%autoreload 2\n",
    "\n",
    "import pandas as pd\n",
    "import numpy as np\n",
    "import xarray as xr\n",
    "import re\n",
    "import datetime\n",
    "import pytz\n",
    "import sunriset\n",
    "\n",
    "from math import ceil\n",
    "from datetime import timedelta\n",
    "from shapely.geometry import Point\n",
    "from numpy import interp\n",
    "from scipy.signal import argrelmax, argrelmin\n",
    "\n",
    "from intertidal.utils import (\n",
    "    round_date_strings,\n",
    "    intertidal_hillshade,\n",
    ")\n",
    "from intertidal.tide_modelling import pixel_tides_ensemble"
   ]
  },
  {
   "cell_type": "code",
   "execution_count": 5,
   "id": "93bd2264-4e65-4663-b03a-31788fbcf1a4",
   "metadata": {
    "tags": []
   },
   "outputs": [],
   "source": [
    "%store -r ds"
   ]
  },
  {
   "cell_type": "code",
   "execution_count": 6,
   "id": "37e6dabb-0b50-43b4-8ce4-8efb2f566e22",
   "metadata": {
    "tags": []
   },
   "outputs": [],
   "source": [
    "dem = ds.elevation"
   ]
  },
  {
   "cell_type": "code",
   "execution_count": 11,
   "id": "4e1eb5ed-8336-40fd-9720-6696c6a767b9",
   "metadata": {
    "tags": []
   },
   "outputs": [],
   "source": [
    "tide_model = \"ensemble\"  # Tide model to use in analysis\n",
    "tide_model_dir = \"/gdata1/data/tide_models_clipped\"\n",
    "start_date = \"2020\"  # Start date for analysis\n",
    "end_date = \"2022\"  # End date for analysis\n",
    "modelled_freq = \"3h\"  # Frequency to run tidal model e.g '30min' or '1h'\n",
    "\n",
    "time_range = pd.date_range(\n",
    "    start=round_date_strings(start_date, round_type=\"start\"),\n",
    "    end=round_date_strings(end_date, round_type=\"end\"),\n",
    "    freq=modelled_freq,\n",
    ")\n",
    "\n",
    "calculate_quantiles = np.linspace(0, 1, 101) #nb formerly 'pc_range'\n",
    "\n",
    "ModelledTides, _ = pixel_tides_ensemble(\n",
    "    dem,\n",
    "    # calculate_quantiles=calculate_quantiles,\n",
    "    times=time_range,\n",
    "    directory=tide_model_dir,\n",
    "    ancillary_points=\"data/raw/tide_correlations_2017-2019.geojson\",\n",
    "    top_n=3,\n",
    "    reduce_method='mean',\n",
    "    resolution=3000,\n",
    ")\n",
    "\n",
    "stacked_everything = ModelledTides.mean(dim=[\"x\",\"y\"])\n",
    "\n",
    "# Extract the modelling freq units\n",
    "# Split the number and text characters in modelled_freq\n",
    "freq_time = int(re.findall(r'(\\d+)(\\w+)', modelled_freq)[0][0])\n",
    "freq_unit = str(re.findall(r'(\\d+)(\\w+)', modelled_freq)[0][-1])\n",
    "\n",
    "# Extract the number of modelled timesteps per 14 days (half lunar cycle) for neap/spring calcs\n",
    "mod_timesteps = pd.Timedelta((29.5/2),\"d\")/pd.Timedelta(freq_time, freq_unit)\n",
    "\n",
    "## Identify kwargs for peak detection algorithm\n",
    "order=(int(mod_timesteps/2))\n",
    "\n",
    "tide_cq_dict={}\n",
    "exposure={}\n",
    "timeranges={}"
   ]
  },
  {
   "cell_type": "code",
   "execution_count": null,
   "id": "07489450-0846-46ac-984d-21ecd75685ae",
   "metadata": {},
   "outputs": [],
   "source": []
  },
  {
   "cell_type": "code",
   "execution_count": null,
   "id": "654f23a8-9de3-49ce-99b6-c7c1b7831390",
   "metadata": {},
   "outputs": [],
   "source": []
  },
  {
   "cell_type": "code",
   "execution_count": 95,
   "id": "d5e4b13c-c78b-4cdb-bc36-594168b411b5",
   "metadata": {
    "tags": []
   },
   "outputs": [
    {
     "name": "stdout",
     "output_type": "stream",
     "text": [
      "Calculating Daylight\n",
      "Calculating Night\n"
     ]
    }
   ],
   "source": [
    "filters = ['Daylight', 'Night']\n",
    "\n",
    "for x in filters:\n",
    "    if x in ['Daylight','Night']: \n",
    "        print (f'Calculating {x}')\n",
    "\n",
    "        # Identify the central coordinate directly from the dem GeoBox\n",
    "        tidepost_lon_4326, tidepost_lat_4326 = dem.odc.geobox.extent.centroid.to_crs(\"EPSG:4326\").coords[0]\n",
    "\n",
    "        ## Coordinate point to locate the sunriset calculation\n",
    "        point_4326 = Point(tidepost_lon_4326, tidepost_lat_4326)\n",
    "\n",
    "        ## Calculate the local sunrise and sunset times\n",
    "        # Place start and end dates in correct format\n",
    "        start = time_range[0]\n",
    "        end = time_range[-1]\n",
    "        startdate = datetime.date(pd.to_datetime(start).year, \n",
    "                                  pd.to_datetime(start).month, \n",
    "                                  pd.to_datetime(start).day)\n",
    "\n",
    "        # Make 'all_timerange' time-zone aware\n",
    "        localtides = time_range.tz_localize(tz=pytz.UTC)#.tz_convert(timezone)\n",
    "\n",
    "        # Replace the UTC datetimes from all_timerange with local times\n",
    "        modelledtides = pd.DataFrame(index = localtides)\n",
    "\n",
    "        # Return the difference in years for the time-period. \n",
    "        # Round up to ensure all modelledtide datetimes are captured in the solar model\n",
    "        diff = pd.to_datetime(end) - pd.to_datetime(start)\n",
    "        diff = int(ceil(diff.days/365))\n",
    "\n",
    "        local_tz=0\n",
    "        \n",
    "        ## Model sunrise and sunset\n",
    "        sun_df = sunriset.to_pandas(startdate, tidepost_lat_4326, tidepost_lon_4326, local_tz, diff)\n",
    "\n",
    "        ## Set the index as a datetimeindex to match the modelledtide df\n",
    "        sun_df = sun_df.set_index(pd.DatetimeIndex(sun_df.index))\n",
    "\n",
    "        ## Append the date to each Sunrise and Sunset time\n",
    "        sun_df['Sunrise dt'] = sun_df.index + sun_df['Sunrise']\n",
    "        sun_df['Sunset dt'] = sun_df.index + (sun_df['Sunset'])\n",
    "\n",
    "        ## Create new dataframes where daytime and nightime datetimes are recorded, then merged \n",
    "        ## on a new `Sunlight` column\n",
    "        daytime=pd.DataFrame(data = 'Sunrise', index=sun_df['Sunrise dt'], columns=['Sunlight'])\n",
    "        nighttime=pd.DataFrame(data = 'Sunset', index=sun_df['Sunset dt'], columns=['Sunlight'])\n",
    "        DayNight = pd.concat([daytime, nighttime], join='outer')\n",
    "        DayNight.sort_index(inplace=True)\n",
    "        DayNight.index.rename('Datetime', inplace=True)\n",
    "\n",
    "        ## Create an xarray object from the merged day/night dataframe\n",
    "        day_night = xr.Dataset.from_dataframe(DayNight)\n",
    "\n",
    "        ## Remove local timezone timestamp column in modelledtides dataframe. Xarray doesn't handle \n",
    "        ## timezone aware datetimeindexes 'from_dataframe' very well.\n",
    "        modelledtides.index = modelledtides.index.tz_localize(tz=None)\n",
    "\n",
    "        ## Create an xr Dataset from the modelledtides pd.dataframe\n",
    "        mt = modelledtides.to_xarray()\n",
    "\n",
    "        ## Filter the modelledtides (mt) by the daytime, nighttime datetimes from the sunriset module\n",
    "        ## Modelled tides are designated as either day or night by propogation of the last valid index \n",
    "        ## value forward\n",
    "        Solar=day_night.sel(Datetime=mt.index, method='ffill')\n",
    "\n",
    "        ## Assign the day and night tideheight datasets\n",
    "        SolarDayTides = mt.where(Solar.Sunlight=='Sunrise', drop=True)\n",
    "        SolarNightTides = mt.where(Solar.Sunlight=='Sunset', drop=True)\n",
    "\n",
    "        ## Extract DatetimeIndexes to use in exposure calculations\n",
    "        all_timerange_day = pd.DatetimeIndex(SolarDayTides.index)\n",
    "        all_timerange_night = pd.DatetimeIndex(SolarNightTides.index)\n",
    "\n",
    "        if x == 'Daylight':\n",
    "            timeranges['Daylight'] = all_timerange_day\n",
    "        if x == 'Night':\n",
    "            timeranges['Night'] = all_timerange_night"
   ]
  },
  {
   "cell_type": "code",
   "execution_count": 127,
   "id": "61d8d8aa-a22f-4596-b9de-dbf3b35c0a3f",
   "metadata": {
    "tags": []
   },
   "outputs": [
    {
     "data": {
      "text/html": [
       "<div><svg style=\"position: absolute; width: 0; height: 0; overflow: hidden\">\n",
       "<defs>\n",
       "<symbol id=\"icon-database\" viewBox=\"0 0 32 32\">\n",
       "<path d=\"M16 0c-8.837 0-16 2.239-16 5v4c0 2.761 7.163 5 16 5s16-2.239 16-5v-4c0-2.761-7.163-5-16-5z\"></path>\n",
       "<path d=\"M16 17c-8.837 0-16-2.239-16-5v6c0 2.761 7.163 5 16 5s16-2.239 16-5v-6c0 2.761-7.163 5-16 5z\"></path>\n",
       "<path d=\"M16 26c-8.837 0-16-2.239-16-5v6c0 2.761 7.163 5 16 5s16-2.239 16-5v-6c0 2.761-7.163 5-16 5z\"></path>\n",
       "</symbol>\n",
       "<symbol id=\"icon-file-text2\" viewBox=\"0 0 32 32\">\n",
       "<path d=\"M28.681 7.159c-0.694-0.947-1.662-2.053-2.724-3.116s-2.169-2.030-3.116-2.724c-1.612-1.182-2.393-1.319-2.841-1.319h-15.5c-1.378 0-2.5 1.121-2.5 2.5v27c0 1.378 1.122 2.5 2.5 2.5h23c1.378 0 2.5-1.122 2.5-2.5v-19.5c0-0.448-0.137-1.23-1.319-2.841zM24.543 5.457c0.959 0.959 1.712 1.825 2.268 2.543h-4.811v-4.811c0.718 0.556 1.584 1.309 2.543 2.268zM28 29.5c0 0.271-0.229 0.5-0.5 0.5h-23c-0.271 0-0.5-0.229-0.5-0.5v-27c0-0.271 0.229-0.5 0.5-0.5 0 0 15.499-0 15.5 0v7c0 0.552 0.448 1 1 1h7v19.5z\"></path>\n",
       "<path d=\"M23 26h-14c-0.552 0-1-0.448-1-1s0.448-1 1-1h14c0.552 0 1 0.448 1 1s-0.448 1-1 1z\"></path>\n",
       "<path d=\"M23 22h-14c-0.552 0-1-0.448-1-1s0.448-1 1-1h14c0.552 0 1 0.448 1 1s-0.448 1-1 1z\"></path>\n",
       "<path d=\"M23 18h-14c-0.552 0-1-0.448-1-1s0.448-1 1-1h14c0.552 0 1 0.448 1 1s-0.448 1-1 1z\"></path>\n",
       "</symbol>\n",
       "</defs>\n",
       "</svg>\n",
       "<style>/* CSS stylesheet for displaying xarray objects in jupyterlab.\n",
       " *\n",
       " */\n",
       "\n",
       ":root {\n",
       "  --xr-font-color0: var(--jp-content-font-color0, rgba(0, 0, 0, 1));\n",
       "  --xr-font-color2: var(--jp-content-font-color2, rgba(0, 0, 0, 0.54));\n",
       "  --xr-font-color3: var(--jp-content-font-color3, rgba(0, 0, 0, 0.38));\n",
       "  --xr-border-color: var(--jp-border-color2, #e0e0e0);\n",
       "  --xr-disabled-color: var(--jp-layout-color3, #bdbdbd);\n",
       "  --xr-background-color: var(--jp-layout-color0, white);\n",
       "  --xr-background-color-row-even: var(--jp-layout-color1, white);\n",
       "  --xr-background-color-row-odd: var(--jp-layout-color2, #eeeeee);\n",
       "}\n",
       "\n",
       "html[theme=dark],\n",
       "body[data-theme=dark],\n",
       "body.vscode-dark {\n",
       "  --xr-font-color0: rgba(255, 255, 255, 1);\n",
       "  --xr-font-color2: rgba(255, 255, 255, 0.54);\n",
       "  --xr-font-color3: rgba(255, 255, 255, 0.38);\n",
       "  --xr-border-color: #1F1F1F;\n",
       "  --xr-disabled-color: #515151;\n",
       "  --xr-background-color: #111111;\n",
       "  --xr-background-color-row-even: #111111;\n",
       "  --xr-background-color-row-odd: #313131;\n",
       "}\n",
       "\n",
       ".xr-wrap {\n",
       "  display: block !important;\n",
       "  min-width: 300px;\n",
       "  max-width: 700px;\n",
       "}\n",
       "\n",
       ".xr-text-repr-fallback {\n",
       "  /* fallback to plain text repr when CSS is not injected (untrusted notebook) */\n",
       "  display: none;\n",
       "}\n",
       "\n",
       ".xr-header {\n",
       "  padding-top: 6px;\n",
       "  padding-bottom: 6px;\n",
       "  margin-bottom: 4px;\n",
       "  border-bottom: solid 1px var(--xr-border-color);\n",
       "}\n",
       "\n",
       ".xr-header > div,\n",
       ".xr-header > ul {\n",
       "  display: inline;\n",
       "  margin-top: 0;\n",
       "  margin-bottom: 0;\n",
       "}\n",
       "\n",
       ".xr-obj-type,\n",
       ".xr-array-name {\n",
       "  margin-left: 2px;\n",
       "  margin-right: 10px;\n",
       "}\n",
       "\n",
       ".xr-obj-type {\n",
       "  color: var(--xr-font-color2);\n",
       "}\n",
       "\n",
       ".xr-sections {\n",
       "  padding-left: 0 !important;\n",
       "  display: grid;\n",
       "  grid-template-columns: 150px auto auto 1fr 20px 20px;\n",
       "}\n",
       "\n",
       ".xr-section-item {\n",
       "  display: contents;\n",
       "}\n",
       "\n",
       ".xr-section-item input {\n",
       "  display: none;\n",
       "}\n",
       "\n",
       ".xr-section-item input + label {\n",
       "  color: var(--xr-disabled-color);\n",
       "}\n",
       "\n",
       ".xr-section-item input:enabled + label {\n",
       "  cursor: pointer;\n",
       "  color: var(--xr-font-color2);\n",
       "}\n",
       "\n",
       ".xr-section-item input:enabled + label:hover {\n",
       "  color: var(--xr-font-color0);\n",
       "}\n",
       "\n",
       ".xr-section-summary {\n",
       "  grid-column: 1;\n",
       "  color: var(--xr-font-color2);\n",
       "  font-weight: 500;\n",
       "}\n",
       "\n",
       ".xr-section-summary > span {\n",
       "  display: inline-block;\n",
       "  padding-left: 0.5em;\n",
       "}\n",
       "\n",
       ".xr-section-summary-in:disabled + label {\n",
       "  color: var(--xr-font-color2);\n",
       "}\n",
       "\n",
       ".xr-section-summary-in + label:before {\n",
       "  display: inline-block;\n",
       "  content: '►';\n",
       "  font-size: 11px;\n",
       "  width: 15px;\n",
       "  text-align: center;\n",
       "}\n",
       "\n",
       ".xr-section-summary-in:disabled + label:before {\n",
       "  color: var(--xr-disabled-color);\n",
       "}\n",
       "\n",
       ".xr-section-summary-in:checked + label:before {\n",
       "  content: '▼';\n",
       "}\n",
       "\n",
       ".xr-section-summary-in:checked + label > span {\n",
       "  display: none;\n",
       "}\n",
       "\n",
       ".xr-section-summary,\n",
       ".xr-section-inline-details {\n",
       "  padding-top: 4px;\n",
       "  padding-bottom: 4px;\n",
       "}\n",
       "\n",
       ".xr-section-inline-details {\n",
       "  grid-column: 2 / -1;\n",
       "}\n",
       "\n",
       ".xr-section-details {\n",
       "  display: none;\n",
       "  grid-column: 1 / -1;\n",
       "  margin-bottom: 5px;\n",
       "}\n",
       "\n",
       ".xr-section-summary-in:checked ~ .xr-section-details {\n",
       "  display: contents;\n",
       "}\n",
       "\n",
       ".xr-array-wrap {\n",
       "  grid-column: 1 / -1;\n",
       "  display: grid;\n",
       "  grid-template-columns: 20px auto;\n",
       "}\n",
       "\n",
       ".xr-array-wrap > label {\n",
       "  grid-column: 1;\n",
       "  vertical-align: top;\n",
       "}\n",
       "\n",
       ".xr-preview {\n",
       "  color: var(--xr-font-color3);\n",
       "}\n",
       "\n",
       ".xr-array-preview,\n",
       ".xr-array-data {\n",
       "  padding: 0 5px !important;\n",
       "  grid-column: 2;\n",
       "}\n",
       "\n",
       ".xr-array-data,\n",
       ".xr-array-in:checked ~ .xr-array-preview {\n",
       "  display: none;\n",
       "}\n",
       "\n",
       ".xr-array-in:checked ~ .xr-array-data,\n",
       ".xr-array-preview {\n",
       "  display: inline-block;\n",
       "}\n",
       "\n",
       ".xr-dim-list {\n",
       "  display: inline-block !important;\n",
       "  list-style: none;\n",
       "  padding: 0 !important;\n",
       "  margin: 0;\n",
       "}\n",
       "\n",
       ".xr-dim-list li {\n",
       "  display: inline-block;\n",
       "  padding: 0;\n",
       "  margin: 0;\n",
       "}\n",
       "\n",
       ".xr-dim-list:before {\n",
       "  content: '(';\n",
       "}\n",
       "\n",
       ".xr-dim-list:after {\n",
       "  content: ')';\n",
       "}\n",
       "\n",
       ".xr-dim-list li:not(:last-child):after {\n",
       "  content: ',';\n",
       "  padding-right: 5px;\n",
       "}\n",
       "\n",
       ".xr-has-index {\n",
       "  font-weight: bold;\n",
       "}\n",
       "\n",
       ".xr-var-list,\n",
       ".xr-var-item {\n",
       "  display: contents;\n",
       "}\n",
       "\n",
       ".xr-var-item > div,\n",
       ".xr-var-item label,\n",
       ".xr-var-item > .xr-var-name span {\n",
       "  background-color: var(--xr-background-color-row-even);\n",
       "  margin-bottom: 0;\n",
       "}\n",
       "\n",
       ".xr-var-item > .xr-var-name:hover span {\n",
       "  padding-right: 5px;\n",
       "}\n",
       "\n",
       ".xr-var-list > li:nth-child(odd) > div,\n",
       ".xr-var-list > li:nth-child(odd) > label,\n",
       ".xr-var-list > li:nth-child(odd) > .xr-var-name span {\n",
       "  background-color: var(--xr-background-color-row-odd);\n",
       "}\n",
       "\n",
       ".xr-var-name {\n",
       "  grid-column: 1;\n",
       "}\n",
       "\n",
       ".xr-var-dims {\n",
       "  grid-column: 2;\n",
       "}\n",
       "\n",
       ".xr-var-dtype {\n",
       "  grid-column: 3;\n",
       "  text-align: right;\n",
       "  color: var(--xr-font-color2);\n",
       "}\n",
       "\n",
       ".xr-var-preview {\n",
       "  grid-column: 4;\n",
       "}\n",
       "\n",
       ".xr-index-preview {\n",
       "  grid-column: 2 / 5;\n",
       "  color: var(--xr-font-color2);\n",
       "}\n",
       "\n",
       ".xr-var-name,\n",
       ".xr-var-dims,\n",
       ".xr-var-dtype,\n",
       ".xr-preview,\n",
       ".xr-attrs dt {\n",
       "  white-space: nowrap;\n",
       "  overflow: hidden;\n",
       "  text-overflow: ellipsis;\n",
       "  padding-right: 10px;\n",
       "}\n",
       "\n",
       ".xr-var-name:hover,\n",
       ".xr-var-dims:hover,\n",
       ".xr-var-dtype:hover,\n",
       ".xr-attrs dt:hover {\n",
       "  overflow: visible;\n",
       "  width: auto;\n",
       "  z-index: 1;\n",
       "}\n",
       "\n",
       ".xr-var-attrs,\n",
       ".xr-var-data,\n",
       ".xr-index-data {\n",
       "  display: none;\n",
       "  background-color: var(--xr-background-color) !important;\n",
       "  padding-bottom: 5px !important;\n",
       "}\n",
       "\n",
       ".xr-var-attrs-in:checked ~ .xr-var-attrs,\n",
       ".xr-var-data-in:checked ~ .xr-var-data,\n",
       ".xr-index-data-in:checked ~ .xr-index-data {\n",
       "  display: block;\n",
       "}\n",
       "\n",
       ".xr-var-data > table {\n",
       "  float: right;\n",
       "}\n",
       "\n",
       ".xr-var-name span,\n",
       ".xr-var-data,\n",
       ".xr-index-name div,\n",
       ".xr-index-data,\n",
       ".xr-attrs {\n",
       "  padding-left: 25px !important;\n",
       "}\n",
       "\n",
       ".xr-attrs,\n",
       ".xr-var-attrs,\n",
       ".xr-var-data,\n",
       ".xr-index-data {\n",
       "  grid-column: 1 / -1;\n",
       "}\n",
       "\n",
       "dl.xr-attrs {\n",
       "  padding: 0;\n",
       "  margin: 0;\n",
       "  display: grid;\n",
       "  grid-template-columns: 125px auto;\n",
       "}\n",
       "\n",
       ".xr-attrs dt,\n",
       ".xr-attrs dd {\n",
       "  padding: 0;\n",
       "  margin: 0;\n",
       "  float: left;\n",
       "  padding-right: 10px;\n",
       "  width: auto;\n",
       "}\n",
       "\n",
       ".xr-attrs dt {\n",
       "  font-weight: normal;\n",
       "  grid-column: 1;\n",
       "}\n",
       "\n",
       ".xr-attrs dt:hover span {\n",
       "  display: inline-block;\n",
       "  background: var(--xr-background-color);\n",
       "  padding-right: 10px;\n",
       "}\n",
       "\n",
       ".xr-attrs dd {\n",
       "  grid-column: 2;\n",
       "  white-space: pre-wrap;\n",
       "  word-break: break-all;\n",
       "}\n",
       "\n",
       ".xr-icon-database,\n",
       ".xr-icon-file-text2,\n",
       ".xr-no-icon {\n",
       "  display: inline-block;\n",
       "  vertical-align: middle;\n",
       "  width: 1em;\n",
       "  height: 1.5em !important;\n",
       "  stroke-width: 0;\n",
       "  stroke: currentColor;\n",
       "  fill: currentColor;\n",
       "}\n",
       "</style><pre class='xr-text-repr-fallback'>&lt;xarray.DataArray &#x27;Sunlight&#x27; (index: 8761)&gt;\n",
       "array([&#x27;Sunrise&#x27;, &#x27;Sunrise&#x27;, &#x27;Sunrise&#x27;, ..., False, &#x27;Sunrise&#x27;, &#x27;Sunrise&#x27;],\n",
       "      dtype=object)\n",
       "Coordinates:\n",
       "    Datetime  (index) datetime64[ns] 2019-12-31T19:36:34.447635 ... 2022-12-3...\n",
       "  * index     (index) datetime64[ns] 2020-01-01 ... 2022-12-31</pre><div class='xr-wrap' style='display:none'><div class='xr-header'><div class='xr-obj-type'>xarray.DataArray</div><div class='xr-array-name'>'Sunlight'</div><ul class='xr-dim-list'><li><span class='xr-has-index'>index</span>: 8761</li></ul></div><ul class='xr-sections'><li class='xr-section-item'><div class='xr-array-wrap'><input id='section-ebf581f5-7a60-4524-a022-edf7370f7957' class='xr-array-in' type='checkbox' checked><label for='section-ebf581f5-7a60-4524-a022-edf7370f7957' title='Show/hide data repr'><svg class='icon xr-icon-database'><use xlink:href='#icon-database'></use></svg></label><div class='xr-array-preview xr-preview'><span>&#x27;Sunrise&#x27; &#x27;Sunrise&#x27; &#x27;Sunrise&#x27; &#x27;Sunrise&#x27; ... False &#x27;Sunrise&#x27; &#x27;Sunrise&#x27;</span></div><div class='xr-array-data'><pre>array([&#x27;Sunrise&#x27;, &#x27;Sunrise&#x27;, &#x27;Sunrise&#x27;, ..., False, &#x27;Sunrise&#x27;, &#x27;Sunrise&#x27;],\n",
       "      dtype=object)</pre></div></div></li><li class='xr-section-item'><input id='section-bb7b88bc-9a5f-4ff6-b80d-858a0003ff0e' class='xr-section-summary-in' type='checkbox'  checked><label for='section-bb7b88bc-9a5f-4ff6-b80d-858a0003ff0e' class='xr-section-summary' >Coordinates: <span>(2)</span></label><div class='xr-section-inline-details'></div><div class='xr-section-details'><ul class='xr-var-list'><li class='xr-var-item'><div class='xr-var-name'><span>Datetime</span></div><div class='xr-var-dims'>(index)</div><div class='xr-var-dtype'>datetime64[ns]</div><div class='xr-var-preview xr-preview'>2019-12-31T19:36:34.447635 ... 2...</div><input id='attrs-453deceb-42a1-4fa6-9600-a27d17b080c7' class='xr-var-attrs-in' type='checkbox' disabled><label for='attrs-453deceb-42a1-4fa6-9600-a27d17b080c7' title='Show/Hide attributes'><svg class='icon xr-icon-file-text2'><use xlink:href='#icon-file-text2'></use></svg></label><input id='data-28ab4252-d4ef-4d72-8a01-b5eda5f393a1' class='xr-var-data-in' type='checkbox'><label for='data-28ab4252-d4ef-4d72-8a01-b5eda5f393a1' title='Show/Hide data repr'><svg class='icon xr-icon-database'><use xlink:href='#icon-database'></use></svg></label><div class='xr-var-attrs'><dl class='xr-attrs'></dl></div><div class='xr-var-data'><pre>array([&#x27;2019-12-31T19:36:34.447635000&#x27;, &#x27;2019-12-31T19:36:34.447635000&#x27;,\n",
       "       &#x27;2019-12-31T19:36:34.447635000&#x27;, ...,\n",
       "       &#x27;2022-12-30T10:02:10.702221000&#x27;, &#x27;2022-12-30T19:36:01.209784000&#x27;,\n",
       "       &#x27;2022-12-30T19:36:01.209784000&#x27;], dtype=&#x27;datetime64[ns]&#x27;)</pre></div></li><li class='xr-var-item'><div class='xr-var-name'><span class='xr-has-index'>index</span></div><div class='xr-var-dims'>(index)</div><div class='xr-var-dtype'>datetime64[ns]</div><div class='xr-var-preview xr-preview'>2020-01-01 ... 2022-12-31</div><input id='attrs-2899479a-481f-40f4-bf9f-02b44e8a3783' class='xr-var-attrs-in' type='checkbox' disabled><label for='attrs-2899479a-481f-40f4-bf9f-02b44e8a3783' title='Show/Hide attributes'><svg class='icon xr-icon-file-text2'><use xlink:href='#icon-file-text2'></use></svg></label><input id='data-a788db1e-df24-4fd7-a75d-709d69a1075c' class='xr-var-data-in' type='checkbox'><label for='data-a788db1e-df24-4fd7-a75d-709d69a1075c' title='Show/Hide data repr'><svg class='icon xr-icon-database'><use xlink:href='#icon-database'></use></svg></label><div class='xr-var-attrs'><dl class='xr-attrs'></dl></div><div class='xr-var-data'><pre>array([&#x27;2020-01-01T00:00:00.000000000&#x27;, &#x27;2020-01-01T03:00:00.000000000&#x27;,\n",
       "       &#x27;2020-01-01T06:00:00.000000000&#x27;, ..., &#x27;2022-12-30T18:00:00.000000000&#x27;,\n",
       "       &#x27;2022-12-30T21:00:00.000000000&#x27;, &#x27;2022-12-31T00:00:00.000000000&#x27;],\n",
       "      dtype=&#x27;datetime64[ns]&#x27;)</pre></div></li></ul></div></li><li class='xr-section-item'><input id='section-91ce7292-6ef3-4352-9ed3-9e6fb55fc124' class='xr-section-summary-in' type='checkbox'  ><label for='section-91ce7292-6ef3-4352-9ed3-9e6fb55fc124' class='xr-section-summary' >Indexes: <span>(1)</span></label><div class='xr-section-inline-details'></div><div class='xr-section-details'><ul class='xr-var-list'><li class='xr-var-item'><div class='xr-index-name'><div>index</div></div><div class='xr-index-preview'>PandasIndex</div><div></div><input id='index-6ff44eba-ae0b-4a4a-b991-90ad398e90c3' class='xr-index-data-in' type='checkbox'/><label for='index-6ff44eba-ae0b-4a4a-b991-90ad398e90c3' title='Show/Hide index repr'><svg class='icon xr-icon-database'><use xlink:href='#icon-database'></use></svg></label><div class='xr-index-data'><pre>PandasIndex(DatetimeIndex([&#x27;2020-01-01 00:00:00&#x27;, &#x27;2020-01-01 03:00:00&#x27;,\n",
       "               &#x27;2020-01-01 06:00:00&#x27;, &#x27;2020-01-01 09:00:00&#x27;,\n",
       "               &#x27;2020-01-01 12:00:00&#x27;, &#x27;2020-01-01 15:00:00&#x27;,\n",
       "               &#x27;2020-01-01 18:00:00&#x27;, &#x27;2020-01-01 21:00:00&#x27;,\n",
       "               &#x27;2020-01-02 00:00:00&#x27;, &#x27;2020-01-02 03:00:00&#x27;,\n",
       "               ...\n",
       "               &#x27;2022-12-29 21:00:00&#x27;, &#x27;2022-12-30 00:00:00&#x27;,\n",
       "               &#x27;2022-12-30 03:00:00&#x27;, &#x27;2022-12-30 06:00:00&#x27;,\n",
       "               &#x27;2022-12-30 09:00:00&#x27;, &#x27;2022-12-30 12:00:00&#x27;,\n",
       "               &#x27;2022-12-30 15:00:00&#x27;, &#x27;2022-12-30 18:00:00&#x27;,\n",
       "               &#x27;2022-12-30 21:00:00&#x27;, &#x27;2022-12-31 00:00:00&#x27;],\n",
       "              dtype=&#x27;datetime64[ns]&#x27;, name=&#x27;index&#x27;, length=8761, freq=None))</pre></div></li></ul></div></li><li class='xr-section-item'><input id='section-5b3a0079-d234-402f-8fe4-ecd67561ee00' class='xr-section-summary-in' type='checkbox' disabled ><label for='section-5b3a0079-d234-402f-8fe4-ecd67561ee00' class='xr-section-summary'  title='Expand/collapse section'>Attributes: <span>(0)</span></label><div class='xr-section-inline-details'></div><div class='xr-section-details'><dl class='xr-attrs'></dl></div></li></ul></div></div>"
      ],
      "text/plain": [
       "<xarray.DataArray 'Sunlight' (index: 8761)>\n",
       "array(['Sunrise', 'Sunrise', 'Sunrise', ..., False, 'Sunrise', 'Sunrise'],\n",
       "      dtype=object)\n",
       "Coordinates:\n",
       "    Datetime  (index) datetime64[ns] 2019-12-31T19:36:34.447635 ... 2022-12-3...\n",
       "  * index     (index) datetime64[ns] 2020-01-01 ... 2022-12-31"
      ]
     },
     "execution_count": 127,
     "metadata": {},
     "output_type": "execute_result"
    }
   ],
   "source": [
    "Solar.Sunlight.where(Solar.Sunlight == 'Sunrise',False)#.plot()"
   ]
  },
  {
   "cell_type": "code",
   "execution_count": 90,
   "id": "d4a76e60-1d1e-487a-ba2b-0d61dbcab276",
   "metadata": {
    "tags": []
   },
   "outputs": [
    {
     "data": {
      "text/plain": [
       "DatetimeIndex(['2020-01-01 00:00:00', '2020-01-01 03:00:00',\n",
       "               '2020-01-01 06:00:00', '2020-01-01 09:00:00',\n",
       "               '2020-01-01 21:00:00', '2020-01-02 00:00:00',\n",
       "               '2020-01-02 03:00:00', '2020-01-02 06:00:00',\n",
       "               '2020-01-02 09:00:00', '2020-01-02 21:00:00',\n",
       "               ...\n",
       "               '2022-12-29 03:00:00', '2022-12-29 06:00:00',\n",
       "               '2022-12-29 09:00:00', '2022-12-29 21:00:00',\n",
       "               '2022-12-30 00:00:00', '2022-12-30 03:00:00',\n",
       "               '2022-12-30 06:00:00', '2022-12-30 09:00:00',\n",
       "               '2022-12-30 21:00:00', '2022-12-31 00:00:00'],\n",
       "              dtype='datetime64[ns]', length=4380, freq=None)"
      ]
     },
     "execution_count": 90,
     "metadata": {},
     "output_type": "execute_result"
    }
   ],
   "source": [
    "timeranges['Daylight']"
   ]
  },
  {
   "cell_type": "code",
   "execution_count": 92,
   "id": "250bb796-13dc-485c-be6d-031d98f763cb",
   "metadata": {
    "tags": []
   },
   "outputs": [
    {
     "data": {
      "text/plain": [
       "DatetimeIndex(['2020-01-01 10:30:00+10:30', '2020-01-01 13:30:00+10:30',\n",
       "               '2020-01-01 16:30:00+10:30', '2020-01-01 19:30:00+10:30',\n",
       "               '2020-01-02 07:30:00+10:30', '2020-01-02 10:30:00+10:30',\n",
       "               '2020-01-02 13:30:00+10:30', '2020-01-02 16:30:00+10:30',\n",
       "               '2020-01-02 19:30:00+10:30', '2020-01-03 07:30:00+10:30',\n",
       "               ...\n",
       "               '2022-12-29 13:30:00+10:30', '2022-12-29 16:30:00+10:30',\n",
       "               '2022-12-29 19:30:00+10:30', '2022-12-30 07:30:00+10:30',\n",
       "               '2022-12-30 10:30:00+10:30', '2022-12-30 13:30:00+10:30',\n",
       "               '2022-12-30 16:30:00+10:30', '2022-12-30 19:30:00+10:30',\n",
       "               '2022-12-31 07:30:00+10:30', '2022-12-31 10:30:00+10:30'],\n",
       "              dtype='datetime64[ns, Australia/Adelaide]', length=4380, freq=None)"
      ]
     },
     "execution_count": 92,
     "metadata": {},
     "output_type": "execute_result"
    }
   ],
   "source": [
    "timeranges['Daylight'].tz_localize(pytz.utc).tz_convert('Australia/Adelaide')"
   ]
  },
  {
   "cell_type": "code",
   "execution_count": 96,
   "id": "185c00f6-3e24-4385-8c52-ecc8f404138a",
   "metadata": {
    "tags": []
   },
   "outputs": [
    {
     "data": {
      "text/plain": [
       "DatetimeIndex(['2020-01-01 22:30:00+10:30', '2020-01-02 01:30:00+10:30',\n",
       "               '2020-01-02 04:30:00+10:30', '2020-01-02 22:30:00+10:30',\n",
       "               '2020-01-03 01:30:00+10:30', '2020-01-03 04:30:00+10:30',\n",
       "               '2020-01-03 22:30:00+10:30', '2020-01-04 01:30:00+10:30',\n",
       "               '2020-01-04 04:30:00+10:30', '2020-01-04 22:30:00+10:30',\n",
       "               ...\n",
       "               '2022-12-28 04:30:00+10:30', '2022-12-28 22:30:00+10:30',\n",
       "               '2022-12-29 01:30:00+10:30', '2022-12-29 04:30:00+10:30',\n",
       "               '2022-12-29 22:30:00+10:30', '2022-12-30 01:30:00+10:30',\n",
       "               '2022-12-30 04:30:00+10:30', '2022-12-30 22:30:00+10:30',\n",
       "               '2022-12-31 01:30:00+10:30', '2022-12-31 04:30:00+10:30'],\n",
       "              dtype='datetime64[ns, Australia/Adelaide]', length=4381, freq=None)"
      ]
     },
     "execution_count": 96,
     "metadata": {},
     "output_type": "execute_result"
    }
   ],
   "source": [
    "timeranges['Night'].tz_localize(pytz.utc).tz_convert('Australia/Adelaide')"
   ]
  },
  {
   "cell_type": "code",
   "execution_count": 98,
   "id": "c24d353e-afc6-4a39-8408-56a737531347",
   "metadata": {
    "tags": []
   },
   "outputs": [],
   "source": [
    "import matplotlib.pyplot as plt"
   ]
  },
  {
   "cell_type": "code",
   "execution_count": 108,
   "id": "8475a109-ed52-49bc-92d7-88584e9d255d",
   "metadata": {
    "tags": []
   },
   "outputs": [],
   "source": [
    "nt = np.full((len(timeranges['Night']),1),1)\n",
    "day = np.full((len(timeranges['Daylight']),1),2)"
   ]
  },
  {
   "cell_type": "code",
   "execution_count": 110,
   "id": "df0f3c27-c138-4f3f-a65f-542dc5a47d93",
   "metadata": {
    "tags": []
   },
   "outputs": [
    {
     "data": {
      "text/plain": [
       "[<matplotlib.lines.Line2D at 0x7f28622e3eb0>]"
      ]
     },
     "execution_count": 110,
     "metadata": {},
     "output_type": "execute_result"
    },
    {
     "data": {
      "image/png": "[encoded data removed]",
      "text/plain": [
       "<Figure size 640x480 with 1 Axes>"
      ]
     },
     "metadata": {},
     "output_type": "display_data"
    }
   ],
   "source": [
    "plt.plot(timeranges['Daylight'].tz_localize(pytz.utc).tz_convert('Australia/Adelaide')[0:500],day[0:500])\n",
    "plt.plot(timeranges['Night'].tz_localize(pytz.utc).tz_convert('Australia/Adelaide')[0:500],nt[0:500])"
   ]
  },
  {
   "cell_type": "code",
   "execution_count": 79,
   "id": "91672a1f-2d8c-49ae-86f3-85c0ad1b01a6",
   "metadata": {
    "tags": []
   },
   "outputs": [
    {
     "ename": "AttributeError",
     "evalue": "'datetime.date' object has no attribute 'tz_convert'",
     "output_type": "error",
     "traceback": [
      "\u001b[0;31m---------------------------------------------------------------------------\u001b[0m",
      "\u001b[0;31mAttributeError\u001b[0m                            Traceback (most recent call last)",
      "Cell \u001b[0;32mIn[79], line 1\u001b[0m\n\u001b[0;32m----> 1\u001b[0m \u001b[43mdt\u001b[49m\u001b[38;5;241;43m.\u001b[39;49m\u001b[43mdate\u001b[49m\u001b[43m(\u001b[49m\u001b[43m)\u001b[49m\u001b[38;5;241;43m.\u001b[39;49m\u001b[43mtz_convert\u001b[49m(tzinfo\u001b[38;5;241m=\u001b[39mpytz\u001b[38;5;241m.\u001b[39mtimezone(\u001b[38;5;124m'\u001b[39m\u001b[38;5;124mAustralia/Canberra\u001b[39m\u001b[38;5;124m'\u001b[39m))\n",
      "\u001b[0;31mAttributeError\u001b[0m: 'datetime.date' object has no attribute 'tz_convert'"
     ]
    }
   ],
   "source": [
    "dt.date().tz_convert(tzinfo=pytz.timezone('Australia/Canberra'))"
   ]
  },
  {
   "cell_type": "code",
   "execution_count": null,
   "id": "351e2948-5cd3-48d7-b717-d18753bb5692",
   "metadata": {
    "tags": []
   },
   "outputs": [],
   "source": [
    "filters =['Neap_high']\n",
    "\n",
    "# if x == 'Spring_high' or x == 'Spring_low':\n",
    "for x in filters:\n",
    "    if x in ['Spring_high', 'Spring_low', 'Neap_high', 'Neap_low']:\n",
    "\n",
    "        print (f'Calculating {x}')\n",
    "\n",
    "        #1D tide modelling workflow\n",
    "\n",
    "        ## apply the peak detection routine\n",
    "        if x in ['Spring_high', 'Neap_high']:\n",
    "            stacked_everything_peaks = argrelmax(stacked_everything.values, order=order)[0]\n",
    "        if x in ['Spring_low', 'Neap_low']:\n",
    "            stacked_everything_peaks = argrelmin(stacked_everything.values, order=order)[0]\n",
    "        if x == 'Neap_high':       \n",
    "            ## apply the peak detection routine to calculate all the high tide maxima\n",
    "            Max_testarray = argrelmax(stacked_everything.values)[0]\n",
    "            \n",
    "            Max_testarray = stacked_everything.isel(time=Max_testarray)\n",
    "            ## extract all hightide peaks\n",
    "            Max_testarray = ModelledTides.to_dataset().sel(time=Max_testarray.time)\n",
    "            ## repeat the peak detection to identify neap high tides (minima in the high tide maxima)\n",
    "            stacked_everything2 = Max_testarray.mean(dim=[\"x\",\"y\"])\n",
    "            ## extract neap high tides based on 14 day half lunar cycle - determined as the fraction of all high tide points\n",
    "            ## relative to the number of spring high tide values\n",
    "            order_nh = int(ceil((len(Max_testarray.time)/(len(stacked_everything_peaks))/2)))\n",
    "            ## apply the peak detection routine to calculate all the neap high tide minima within the high tide peaks\n",
    "            neap_peaks = argrelmin(stacked_everything2.tide_m.values, order=order_nh)[0] \n",
    "\n",
    "        if x == 'Neap_low':       \n",
    "            ## apply the peak detection routine to calculate all the high tide maxima\n",
    "            Max_testarray = argrelmin(stacked_everything.values)[0]\n",
    "            \n",
    "            Max_testarray = stacked_everything.isel(time=Max_testarray)\n",
    "            ## extract all hightide peaks\n",
    "            Max_testarray = ModelledTides.to_dataset().sel(time=Max_testarray.time)\n",
    "            ## repeat the peak detection to identify neap high tides (maxima in the low tide minima)\n",
    "            stacked_everything2 = Max_testarray.mean(dim=[\"x\",\"y\"])\n",
    "            ## extract neap high tides based on 14 day half lunar cycle - determined as the fraction of all high tide points\n",
    "            ## relative to the number of spring high tide values\n",
    "            order_nh = int(ceil((len(Max_testarray.time)/(len(stacked_everything_peaks))/2)))\n",
    "            ## apply the peak detection routine to calculate all the neap high tide minima within the high tide peaks\n",
    "            neap_peaks = argrelmax(stacked_everything2.tide_m.values, order=order_nh)[0]\n",
    "\n",
    "        if x in ['Neap_high', 'Neap_low']: \n",
    "            ## extract neap high tides\n",
    "            neappeaks = Max_testarray.isel(time=neap_peaks)\n",
    "\n",
    "            timeranges[str(x)]=pd.to_datetime(neappeaks.time)\n",
    "\n",
    "            # Extract the peak height dates\n",
    "            tide_cq = neappeaks.quantile(q=calculate_quantiles,dim='time')\n",
    "\n",
    "\n",
    "        if x in ['Spring_high', 'Spring_low']:  \n",
    "            # select for indices associated with peaks\n",
    "            springpeaks = stacked_everything.isel(time=stacked_everything_peaks)\n",
    "\n",
    "            # Select dates associated with detected peaks\n",
    "            springpeaks = ModelledTides.to_dataset().sel(time=springpeaks.time)\n",
    "\n",
    "            # Save datetimes for calculation of combined filter exposure\n",
    "            timeranges[str(x)]=pd.to_datetime(springpeaks.time)\n",
    "\n",
    "            # Extract the peak height dates\n",
    "            tide_cq = springpeaks.quantile(q=calculate_quantiles,dim='time')\n",
    "\n",
    "        # Add tide_cq to output dict\n",
    "        tide_cq_dict[str(x)]=tide_cq.tide_m\n",
    "\n",
    "        # Calculate the tide-height difference between the elevation value and\n",
    "        # each percentile value per pixel\n",
    "        diff = abs(tide_cq.tide_m - dem)\n",
    "\n",
    "        # Take the percentile of the smallest tide-height difference as the\n",
    "        # exposure % per pixel\n",
    "        idxmin = diff.idxmin(dim=\"quantile\")\n",
    "\n",
    "        # Convert to percentage\n",
    "        exposure[str(x)] = idxmin * 100 \n",
    "    \n"
   ]
  },
  {
   "cell_type": "code",
   "execution_count": null,
   "id": "339b2908-f002-4582-b7f7-e565f7aaa441",
   "metadata": {
    "tags": []
   },
   "outputs": [],
   "source": [
    "tide_cq_dict"
   ]
  },
  {
   "cell_type": "code",
   "execution_count": null,
   "id": "31bad702-1c09-408d-8307-61737be62bc5",
   "metadata": {
    "tags": []
   },
   "outputs": [],
   "source": [
    "tide_cq"
   ]
  },
  {
   "cell_type": "code",
   "execution_count": null,
   "id": "e9d64b39-f7c4-45f6-956b-026dd6d0f7e3",
   "metadata": {
    "tags": []
   },
   "outputs": [],
   "source": [
    "# exposure['Neap_high'].plot()\n",
    "int(ceil((len(Max_testarray.time)/(len(stacked_everything_peaks))/2)))\n",
    "# len(stacked_everything_peaks)\n",
    "# len(Max_testarray.time)\n",
    "# stacked_everything.isel(time=Max_testarray)\n",
    "# order\n",
    "\n",
    "testc = argrelmax(stacked_everything2.tide_m.values, order=order_nh)[0] #order_nh\n",
    "\n",
    "stacked_everything2.tide_m[0:340].plot(marker='o')\n",
    "Max_testarray.tide_m.isel(time=testc).mean(dim=[\"x\",\"y\"])[0:16].plot(marker='o',color='red')\n"
   ]
  },
  {
   "cell_type": "code",
   "execution_count": null,
   "id": "d4d49195-f769-4a98-b6e1-14438e7bb57e",
   "metadata": {
    "tags": []
   },
   "outputs": [],
   "source": [
    "testb = stacked_everything.isel(time=argrelmin(stacked_everything.values)[0])"
   ]
  },
  {
   "cell_type": "code",
   "execution_count": null,
   "id": "0a918b6b-c155-4db7-89cb-e7076c26cf60",
   "metadata": {
    "tags": []
   },
   "outputs": [],
   "source": [
    "stacked_everything[0:600].plot()\n",
    "stacked_everything.isel(time=stacked_everything_peaks)[0:6].plot()\n",
    "stacked_everything2.tide_m[0:100].plot(marker='o')\n",
    "# testb[0:100].plot(marker='o')\n",
    "# stacked_everything2.tide_m.sel(time=neaphighs_all).plot()\n",
    "Max_testarray.tide_m.isel(time=neap_peaks).mean(dim=[\"x\",\"y\"])[0:6].plot(marker='o',color='red')\n",
    "# neappeaks.plot()\n",
    "# springpeaks.plot()#.isel(time=stacked_everything_peaks2).plot()\n",
    "# test.plot()"
   ]
  },
  {
   "cell_type": "code",
   "execution_count": null,
   "id": "4ff553db-4ccf-4b47-9885-0bc49f8145f2",
   "metadata": {
    "tags": []
   },
   "outputs": [],
   "source": [
    "stacked_everything[0:600].plot()\n",
    "stacked_everything.isel(time=stacked_everything_peaks)[0:6].plot()\n",
    "stacked_everything2.tide_m[0:100].plot(marker='o')\n",
    "# testb[0:100].plot(marker='o')\n",
    "# stacked_everything2.tide_m.sel(time=neaphighs_all).plot()\n",
    "Max_testarray.tide_m.isel(time=neap_peaks).mean(dim=[\"x\",\"y\"])[0:6].plot(marker='o',color='red')\n",
    "# neappeaks.plot()\n",
    "# springpeaks.plot()#.isel(time=stacked_everything_peaks2).plot()\n",
    "# test.plot()"
   ]
  },
  {
   "cell_type": "code",
   "execution_count": null,
   "id": "448d7fec-134c-4656-a70e-de45dcecb76a",
   "metadata": {
    "tags": []
   },
   "outputs": [],
   "source": [
    "stacked_everything[0:1200].plot()\n",
    "stacked_everything.isel(time=stacked_everything_peaks)[0:10].plot()\n",
    "# stacked_everything2.tide_m.sel(time=neaphighs_all).plot()\n",
    "Max_testarray.tide_m.isel(time=neaphighs_all).mean(dim=[\"x\",\"y\"])[0:10].plot()\n",
    "# neappeaks.plot()\n",
    "# springpeaks.plot()#.isel(time=stacked_everything_peaks2).plot()\n",
    "# test.plot()"
   ]
  },
  {
   "cell_type": "code",
   "execution_count": null,
   "id": "3dff815f-49a1-48a1-83d7-57713d08ff7d",
   "metadata": {
    "tags": []
   },
   "outputs": [],
   "source": [
    "print(len(Max_testarray.time))\n",
    "len(stacked_everything2.tide_m)"
   ]
  },
  {
   "cell_type": "code",
   "execution_count": null,
   "id": "363df1f7-5307-4147-9294-70bf9811a918",
   "metadata": {
    "tags": []
   },
   "outputs": [],
   "source": [
    "exposure#['Spring_high'].plot()"
   ]
  },
  {
   "cell_type": "code",
   "execution_count": null,
   "id": "b129233c-ea50-4990-92c3-f3adf6dfbfa0",
   "metadata": {
    "tags": []
   },
   "outputs": [],
   "source": [
    "list = ['a','b','c','d']\n",
    "\n",
    "for x in list:\n",
    "    # if x == 'a' or x== 'b':\n",
    "    if x in ['a','b','f','x']:\n",
    "    # if x == 'a'|'b':\n",
    "        print (x)\n",
    "    else:\n",
    "        print('not in list')"
   ]
  },
  {
   "cell_type": "code",
   "execution_count": null,
   "id": "69666125-f5ac-487f-b460-85c77e90c198",
   "metadata": {
    "tags": []
   },
   "outputs": [],
   "source": [
    "if x == 'Neap_high':\n",
    "    print ('Calculating Neap_high')\n",
    "    ## Calculate the number of spring high tides to support calculation of neap highs\n",
    "    ## apply the peak detection routine\n",
    "    stacked_everything_high = stacked_everything.apply(lambda x: xr.DataArray(argrelmax(x.values, order=order)[0]))\n",
    "    ## Unstack\n",
    "    springhighs_all = stacked_everything_high.unstack('z')\n",
    "\n",
    "    ## apply the peak detection routine to calculate all the high tide maxima\n",
    "    Max_testarray = stacked_everything.apply(lambda x: xr.DataArray(argrelmax(x.values)[0]))\n",
    "    ## extract the corresponding dates from the peaks\n",
    "    Max_testarray = (Max_testarray.unstack('z'))\n",
    "    Max_testarray = (Max_testarray.reindex(y=Max_testarray.y[::-1])\n",
    "                     .rename({'dim_0':'time'})\n",
    "                     .to_dataset(name = 'time')\n",
    "                     [['time','y','x']]\n",
    "                    )\n",
    "    ## extract all hightide peaks\n",
    "    # Max_testarray = ModelledTides[0].to_dataset().isel(time=Max_testarray.time)\n",
    "    Max_testarray = ModelledTides.to_dataset().isel(time=Max_testarray.time)## removed reference to ModelledTides[0]. Possibly an artefact of new pixel_tides_ensemble func. If using pixel_tides, may need to revert to ModelledTides[0].\n",
    "\n",
    "    ## repeat the peak detection to identify neap high tides (minima in the high tide maxima)\n",
    "    stacked_everything2 = Max_testarray.tide_m.stack(z=['y','x']).groupby('z')\n",
    "    ## extract neap high tides based on 14 day half lunar cycle - determined as the fraction of all high tide points\n",
    "    ## relative to the number of spring high tide values\n",
    "    order_nh = int(ceil((len(Max_testarray.time)/(len(springhighs_all))/2)))\n",
    "    ## apply the peak detection routine to calculate all the neap high tide minima within the high tide peaks\n",
    "    neaphighs_all = stacked_everything2.apply(lambda x: xr.DataArray(argrelmin(x.values, order=order_nh)[0]))\n",
    "    ## unstack and format as above                                    \n",
    "    neaphighs_all = neaphighs_all.unstack('z')\n",
    "    neaphighs_all = (\n",
    "                    neaphighs_all\n",
    "                     .reindex(y=neaphighs_all.y[::-1])\n",
    "                     .rename({'dim_0':'time'})\n",
    "                     .to_dataset(name = 'time')\n",
    "                     [['time','y','x']]\n",
    "                    )\n",
    "    ## extract neap high tides\n",
    "    neaphighs_all = Max_testarray.isel(time=neaphighs_all.time)\n",
    "\n",
    "    ## Save datetimes for calculation of combined filter exposure\n",
    "    timeranges['Neap_high'] = pd.to_datetime(neaphighs_all.isel(x=1,y=1).time)\n",
    "\n",
    "    tide_cq = neaphighs_all.tide_m.quantile(q=calculate_quantiles,dim='time')\n",
    "\n",
    "    # Add tide_cq to output dict\n",
    "    tide_cq_dict[str(x)]=tide_cq\n",
    "\n",
    "    # Calculate the tide-height difference between the elevation value and\n",
    "    # each percentile value per pixel\n",
    "    diff = abs(tide_cq - dem)\n",
    "\n",
    "    # Take the percentile of the smallest tide-height difference as the\n",
    "    # exposure % per pixel\n",
    "    idxmin = diff.idxmin(dim=\"quantile\")\n",
    "\n",
    "    # Convert to percentage\n",
    "    exposure['Neap_high'] = idxmin * 100\n"
   ]
  },
  {
   "cell_type": "code",
   "execution_count": null,
   "id": "8cf95636-c671-4863-9bbb-6e88f11f2cb2",
   "metadata": {
    "tags": []
   },
   "outputs": [],
   "source": [
    "stacked_everything_high[0]"
   ]
  },
  {
   "cell_type": "code",
   "execution_count": null,
   "id": "7b853fbb-037d-4b6f-b78a-178b7162c551",
   "metadata": {
    "tags": []
   },
   "outputs": [],
   "source": [
    "stacked_everything"
   ]
  },
  {
   "cell_type": "code",
   "execution_count": null,
   "id": "2128989b-606a-484a-816b-bde54dbec01d",
   "metadata": {
    "tags": []
   },
   "outputs": [],
   "source": [
    "stacked_everything.plot()\n",
    "stacked_everything.isel(time=stacked_everything_high).plot()"
   ]
  },
  {
   "cell_type": "code",
   "execution_count": null,
   "id": "2c64fb1f-1e77-4cb8-aa01-69a2b1deca39",
   "metadata": {},
   "outputs": [],
   "source": []
  },
  {
   "cell_type": "code",
   "execution_count": null,
   "id": "f663a407-e7dd-48a1-b3d0-47ee2c597053",
   "metadata": {},
   "outputs": [],
   "source": []
  },
  {
   "cell_type": "code",
   "execution_count": null,
   "id": "84d8b90b-a064-4959-9ff8-9443281a45c0",
   "metadata": {
    "tags": []
   },
   "outputs": [],
   "source": [
    "def highestlowtides(z):\n",
    "    '''\n",
    "    x is a grouping of x and y pixels from the peaks_array (labelled as 'z')\n",
    "    '''\n",
    "\n",
    "    ## apply the peak detection routine to calculate all the high tide maxima\n",
    "    low_peaks = np.array(argrelmin(z.values)[0])\n",
    "\n",
    "    ## extract all hightide peaks\n",
    "    Min_testarray = z.isel(time=low_peaks)\n",
    "\n",
    "    ## Identify all lower hightide peaks\n",
    "    highlow_peaks = np.array(argrelmax(Min_testarray.values)[0])\n",
    "\n",
    "    ## Interpolate the lower hightide curve\n",
    "    neap_low_linear = interp(\n",
    "                            ## Create an array to interpolate into\n",
    "                            np.arange(0,len(z.time)),\n",
    "                            ## low high peaks as a subset of all high tide peaks\n",
    "                            low_peaks[highlow_peaks],\n",
    "                            ## Corresponding tide heights\n",
    "                            Min_testarray.isel(time=highlow_peaks).squeeze(['z']).values,\n",
    "                            )\n",
    "\n",
    "    # # Extract hightides as all tides higher than/equal to the extrapolated lowest high tide line\n",
    "    lowtide = z.squeeze(['z']).where(z.squeeze(['z']) <= neap_low_linear, drop=True)\n",
    "\n",
    "    return lowtide "
   ]
  },
  {
   "cell_type": "code",
   "execution_count": null,
   "id": "a8f2a381-c6dc-473e-b25f-83185e334be1",
   "metadata": {
    "tags": []
   },
   "outputs": [],
   "source": [
    "## Vectorise the lowtide calculation\n",
    "highlows_all = stacked_everything.apply(lambda x: xr.DataArray(highestlowtides(x)))\n",
    "# highlows_all = stacked_everything.map(lambda y: xr.DataArray(highestlowtides(y)))"
   ]
  },
  {
   "cell_type": "code",
   "execution_count": null,
   "id": "9c3aa3a1-7c83-4dce-8ebe-39f71670d9da",
   "metadata": {
    "tags": []
   },
   "outputs": [],
   "source": [
    "import matplotlib.pyplot as plt"
   ]
  },
  {
   "cell_type": "code",
   "execution_count": null,
   "id": "9f17f15f-b3ab-477e-8ff1-4cdf39c4c3b3",
   "metadata": {
    "tags": []
   },
   "outputs": [],
   "source": [
    "\n",
    "stacked_everything[0:300].plot(marker='.', linestyle='', color='blue', zorder=10)\n",
    "low_peaks2[0:70].plot(linestyle='', color='orange')\n",
    "highlow_peaks2[0:30].plot(linestyle='', color='g')\n",
    "plt.plot(stacked_everything.time[0:300], high_low_linear[0:300])\n",
    "lowtide[0:100].plot(marker='o', color='black', zorder=1, linestyle='')"
   ]
  },
  {
   "cell_type": "code",
   "execution_count": null,
   "id": "1c639df5-b2eb-4347-b218-e79ad37d033b",
   "metadata": {
    "tags": []
   },
   "outputs": [],
   "source": [
    "# calculate all the low tide maxima\n",
    "low_peaks = argrelmin(stacked_everything.values)[0]\n",
    "\n",
    "# extract all lowtide peaks\n",
    "low_peaks2 = stacked_everything.isel(time=low_peaks)\n",
    "\n",
    "# identify all higher lowtide peaks\n",
    "highlow_peaks = argrelmax(low_peaks2.values)[0]\n",
    "\n",
    "# extract all higher lowtide peaks\n",
    "highlow_peaks2 = low_peaks2.isel(time=highlow_peaks)\n",
    "\n",
    "# interpolate the higher lowtide curve\n",
    "high_low_linear = interp(np.arange(0,len(stacked_everything)),\n",
    "                         low_peaks[highlow_peaks],\n",
    "                         highlow_peaks2.values)\n",
    "# Extract all tides lower than/equal to the extrapolated higher lowtide line\n",
    "lowtide = stacked_everything.where(stacked_everything <= high_low_linear, drop=True)\n",
    "\n",
    "## Save datetimes for calculation of combined filter exposure\n",
    "timeranges['Lowtide'] = pd.to_datetime(lowtide.time)\n",
    "\n",
    "tide_cq = lowtide.quantile(q=calculate_quantiles,dim='time').to_dataset()"
   ]
  },
  {
   "cell_type": "code",
   "execution_count": null,
   "id": "d87b062e-a7a9-4c1c-baa5-c0abb7656640",
   "metadata": {},
   "outputs": [],
   "source": [
    "tide_cq.to_dataset()"
   ]
  },
  {
   "cell_type": "code",
   "execution_count": null,
   "id": "bed07cd7-0f69-4375-907b-504d3fb68878",
   "metadata": {
    "tags": []
   },
   "outputs": [],
   "source": [
    "stacked_everything"
   ]
  },
  {
   "cell_type": "code",
   "execution_count": null,
   "id": "44c35705-d4a3-4bc0-9f60-a7e0a3c3bc8f",
   "metadata": {},
   "outputs": [],
   "source": []
  }
 ],
 "metadata": {
  "kernelspec": {
   "display_name": "Python 3 (ipykernel)",
   "language": "python",
   "name": "python3"
  },
  "language_info": {
   "codemirror_mode": {
    "name": "ipython",
    "version": 3
   },
   "file_extension": ".py",
   "mimetype": "text/x-python",
   "name": "python",
   "nbconvert_exporter": "python",
   "pygments_lexer": "ipython3",
   "version": "3.10.13"
  }
 },
 "nbformat": 4,
 "nbformat_minor": 5
}

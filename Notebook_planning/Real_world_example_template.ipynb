{
 "cells": [
  {
   "cell_type": "markdown",
   "id": "917c4dfa-3e54-4f17-9edf-246c25336c11",
   "metadata": {},
   "source": [
    "# How is my intertidal channel changing over time?"
   ]
  },
  {
   "cell_type": "markdown",
   "id": "1c455f16-9067-4024-8e19-b22d0f669a91",
   "metadata": {},
   "source": [
    "## Background\n",
    "Scientific background to the problem. Historical surveying etc"
   ]
  },
  {
   "cell_type": "markdown",
   "id": "028ce7c8-bcc8-45ae-9d87-aa3f9fd2acec",
   "metadata": {},
   "source": [
    "### Description\n",
    "What the notebook will do"
   ]
  },
  {
   "cell_type": "markdown",
   "id": "566dfe7c-37be-4413-8665-93ac1df39a54",
   "metadata": {},
   "source": [
    "## Getting started\n",
    "\n",
    "To run this analysis, run all the cells in the notebook, starting with the \"Load packages\" cell. \n",
    "\n",
    "After finishing the analysis, return to the \"Analysis parameters\" cell, modify some values (e.g. choose a different location or time period to analyse) and re-run the analysis. There are additional instructions on modifying the notebook at the end."
   ]
  },
  {
   "cell_type": "markdown",
   "id": "0520db5c-9424-424f-b9fd-28b4546fdb6b",
   "metadata": {},
   "source": [
    "### Load packages\n",
    "Connect to the datacube and load indexed data for these dates and location/s"
   ]
  },
  {
   "cell_type": "code",
   "execution_count": 2,
   "id": "6809dfb3-e2a9-4943-9cb4-00a57220177a",
   "metadata": {
    "tags": []
   },
   "outputs": [],
   "source": [
    "dc = datacube.Datacube(app='Turbidity_animated_timeseries')"
   ]
  },
  {
   "cell_type": "markdown",
   "id": "d5edc9e2-c186-45e6-b6f8-62266ffd0a31",
   "metadata": {},
   "source": [
    "## Load Intertidal Elevation data\n",
    "Keep the notebooks separate per intertidal dataset e.g. exposure vs elevation"
   ]
  },
  {
   "cell_type": "code",
   "execution_count": 1,
   "id": "eb00a915-ac15-400b-b1b4-f6635fee2a50",
   "metadata": {
    "tags": []
   },
   "outputs": [
    {
     "ename": "NameError",
     "evalue": "name 'lat_range' is not defined",
     "output_type": "error",
     "traceback": [
      "\u001b[0;31m---------------------------------------------------------------------------\u001b[0m",
      "\u001b[0;31mNameError\u001b[0m                                 Traceback (most recent call last)",
      "Cell \u001b[0;32mIn[1], line 3\u001b[0m\n\u001b[1;32m      1\u001b[0m \u001b[38;5;66;03m# Load satellite data from datacube\u001b[39;00m\n\u001b[1;32m      2\u001b[0m query \u001b[38;5;241m=\u001b[39m {\n\u001b[0;32m----> 3\u001b[0m     \u001b[38;5;124m\"\u001b[39m\u001b[38;5;124my\u001b[39m\u001b[38;5;124m\"\u001b[39m: \u001b[43mlat_range\u001b[49m,\n\u001b[1;32m      4\u001b[0m     \u001b[38;5;124m\"\u001b[39m\u001b[38;5;124mx\u001b[39m\u001b[38;5;124m\"\u001b[39m: lon_range,\n\u001b[1;32m      5\u001b[0m     \u001b[38;5;124m\"\u001b[39m\u001b[38;5;124mtime\u001b[39m\u001b[38;5;124m\"\u001b[39m: (\u001b[38;5;124m\"\u001b[39m\u001b[38;5;124m2022-02-21\u001b[39m\u001b[38;5;124m\"\u001b[39m, \u001b[38;5;124m\"\u001b[39m\u001b[38;5;124m2023-06-01\u001b[39m\u001b[38;5;124m\"\u001b[39m),\n\u001b[1;32m      6\u001b[0m     \u001b[38;5;124m\"\u001b[39m\u001b[38;5;124mmeasurements\u001b[39m\u001b[38;5;124m\"\u001b[39m: [\n\u001b[1;32m      7\u001b[0m         \u001b[38;5;124m\"\u001b[39m\u001b[38;5;124melevation\u001b[39m\u001b[38;5;124m\"\u001b[39m,\n\u001b[1;32m      8\u001b[0m         \n\u001b[1;32m      9\u001b[0m     ],\n\u001b[1;32m     10\u001b[0m     \u001b[38;5;124m\"\u001b[39m\u001b[38;5;124moutput_crs\u001b[39m\u001b[38;5;124m\"\u001b[39m: \u001b[38;5;124m\"\u001b[39m\u001b[38;5;124mEPSG:3577\u001b[39m\u001b[38;5;124m\"\u001b[39m,\n\u001b[1;32m     11\u001b[0m     \u001b[38;5;124m\"\u001b[39m\u001b[38;5;124mresolution\u001b[39m\u001b[38;5;124m\"\u001b[39m: (\u001b[38;5;241m-\u001b[39m\u001b[38;5;241m60\u001b[39m, \u001b[38;5;241m60\u001b[39m),\n\u001b[1;32m     12\u001b[0m     \u001b[38;5;124m\"\u001b[39m\u001b[38;5;124mresampling\u001b[39m\u001b[38;5;124m\"\u001b[39m: \u001b[38;5;124m\"\u001b[39m\u001b[38;5;124maverage\u001b[39m\u001b[38;5;124m\"\u001b[39m,\n\u001b[1;32m     13\u001b[0m }\n\u001b[1;32m     15\u001b[0m \u001b[38;5;66;03m# Load available data from both ...\u001b[39;00m\n\u001b[1;32m     16\u001b[0m ds \u001b[38;5;241m=\u001b[39m load_ard(\n\u001b[1;32m     17\u001b[0m     dc\u001b[38;5;241m=\u001b[39mdc,\n\u001b[1;32m     18\u001b[0m     products\u001b[38;5;241m=\u001b[39m[\u001b[38;5;124m\"\u001b[39m\u001b[38;5;124mga_s2ls_intertidal_3\u001b[39m\u001b[38;5;124m\"\u001b[39m],\n\u001b[0;32m   (...)\u001b[0m\n\u001b[1;32m     23\u001b[0m     \u001b[38;5;241m*\u001b[39m\u001b[38;5;241m*\u001b[39mquery\n\u001b[1;32m     24\u001b[0m )\n",
      "\u001b[0;31mNameError\u001b[0m: name 'lat_range' is not defined"
     ]
    }
   ],
   "source": [
    "# Load satellite data from datacube\n",
    "query = {\n",
    "    \"y\": lat_range,\n",
    "    \"x\": lon_range,\n",
    "    \"time\": (\"2022-02-21\", \"2023-06-01\"),\n",
    "    \"measurements\": [\n",
    "        \"elevation\",\n",
    "        \n",
    "    ],\n",
    "    \"output_crs\": \"EPSG:3577\",\n",
    "    \"resolution\": (-60, 60),\n",
    "    \"resampling\": \"average\",\n",
    "}\n",
    "\n",
    "# Load available data from both ...\n",
    "ds = load_ard(\n",
    "    dc=dc,\n",
    "    products=[\"ga_s2ls_intertidal_3\"],\n",
    "    dask_chunks={\"time\": 1},\n",
    "    min_gooddata=0.85,\n",
    "    mask_pixel_quality=False,\n",
    "    group_by=\"solar_day\",\n",
    "    **query\n",
    ")\n",
    "\n",
    "# Load selected data into memory using Dask\n",
    "ds.load()"
   ]
  },
  {
   "cell_type": "markdown",
   "id": "864dfa02-7383-426e-bdae-4a310433ea82",
   "metadata": {
    "tags": []
   },
   "source": [
    "**Examine the data** by printing it in the next cell.\n",
    "The `Dimensions` argument revels the number of time steps in the data set, as well as the number of pixels in the `x` (longitude) and `y` (latitude) dimensions."
   ]
  },
  {
   "cell_type": "code",
   "execution_count": 5,
   "id": "3dd1c683-491f-47d9-ad13-282146e062b6",
   "metadata": {
    "tags": []
   },
   "outputs": [
    {
     "data": {
      "text/html": [
       "<div><svg style=\"position: absolute; width: 0; height: 0; overflow: hidden\">\n",
       "<defs>\n",
       "<symbol id=\"icon-database\" viewBox=\"0 0 32 32\">\n",
       "<path d=\"M16 0c-8.837 0-16 2.239-16 5v4c0 2.761 7.163 5 16 5s16-2.239 16-5v-4c0-2.761-7.163-5-16-5z\"></path>\n",
       "<path d=\"M16 17c-8.837 0-16-2.239-16-5v6c0 2.761 7.163 5 16 5s16-2.239 16-5v-6c0 2.761-7.163 5-16 5z\"></path>\n",
       "<path d=\"M16 26c-8.837 0-16-2.239-16-5v6c0 2.761 7.163 5 16 5s16-2.239 16-5v-6c0 2.761-7.163 5-16 5z\"></path>\n",
       "</symbol>\n",
       "<symbol id=\"icon-file-text2\" viewBox=\"0 0 32 32\">\n",
       "<path d=\"M28.681 7.159c-0.694-0.947-1.662-2.053-2.724-3.116s-2.169-2.030-3.116-2.724c-1.612-1.182-2.393-1.319-2.841-1.319h-15.5c-1.378 0-2.5 1.121-2.5 2.5v27c0 1.378 1.122 2.5 2.5 2.5h23c1.378 0 2.5-1.122 2.5-2.5v-19.5c0-0.448-0.137-1.23-1.319-2.841zM24.543 5.457c0.959 0.959 1.712 1.825 2.268 2.543h-4.811v-4.811c0.718 0.556 1.584 1.309 2.543 2.268zM28 29.5c0 0.271-0.229 0.5-0.5 0.5h-23c-0.271 0-0.5-0.229-0.5-0.5v-27c0-0.271 0.229-0.5 0.5-0.5 0 0 15.499-0 15.5 0v7c0 0.552 0.448 1 1 1h7v19.5z\"></path>\n",
       "<path d=\"M23 26h-14c-0.552 0-1-0.448-1-1s0.448-1 1-1h14c0.552 0 1 0.448 1 1s-0.448 1-1 1z\"></path>\n",
       "<path d=\"M23 22h-14c-0.552 0-1-0.448-1-1s0.448-1 1-1h14c0.552 0 1 0.448 1 1s-0.448 1-1 1z\"></path>\n",
       "<path d=\"M23 18h-14c-0.552 0-1-0.448-1-1s0.448-1 1-1h14c0.552 0 1 0.448 1 1s-0.448 1-1 1z\"></path>\n",
       "</symbol>\n",
       "</defs>\n",
       "</svg>\n",
       "<style>/* CSS stylesheet for displaying xarray objects in jupyterlab.\n",
       " *\n",
       " */\n",
       "\n",
       ":root {\n",
       "  --xr-font-color0: var(--jp-content-font-color0, rgba(0, 0, 0, 1));\n",
       "  --xr-font-color2: var(--jp-content-font-color2, rgba(0, 0, 0, 0.54));\n",
       "  --xr-font-color3: var(--jp-content-font-color3, rgba(0, 0, 0, 0.38));\n",
       "  --xr-border-color: var(--jp-border-color2, #e0e0e0);\n",
       "  --xr-disabled-color: var(--jp-layout-color3, #bdbdbd);\n",
       "  --xr-background-color: var(--jp-layout-color0, white);\n",
       "  --xr-background-color-row-even: var(--jp-layout-color1, white);\n",
       "  --xr-background-color-row-odd: var(--jp-layout-color2, #eeeeee);\n",
       "}\n",
       "\n",
       "html[theme=dark],\n",
       "body[data-theme=dark],\n",
       "body.vscode-dark {\n",
       "  --xr-font-color0: rgba(255, 255, 255, 1);\n",
       "  --xr-font-color2: rgba(255, 255, 255, 0.54);\n",
       "  --xr-font-color3: rgba(255, 255, 255, 0.38);\n",
       "  --xr-border-color: #1F1F1F;\n",
       "  --xr-disabled-color: #515151;\n",
       "  --xr-background-color: #111111;\n",
       "  --xr-background-color-row-even: #111111;\n",
       "  --xr-background-color-row-odd: #313131;\n",
       "}\n",
       "\n",
       ".xr-wrap {\n",
       "  display: block !important;\n",
       "  min-width: 300px;\n",
       "  max-width: 700px;\n",
       "}\n",
       "\n",
       ".xr-text-repr-fallback {\n",
       "  /* fallback to plain text repr when CSS is not injected (untrusted notebook) */\n",
       "  display: none;\n",
       "}\n",
       "\n",
       ".xr-header {\n",
       "  padding-top: 6px;\n",
       "  padding-bottom: 6px;\n",
       "  margin-bottom: 4px;\n",
       "  border-bottom: solid 1px var(--xr-border-color);\n",
       "}\n",
       "\n",
       ".xr-header > div,\n",
       ".xr-header > ul {\n",
       "  display: inline;\n",
       "  margin-top: 0;\n",
       "  margin-bottom: 0;\n",
       "}\n",
       "\n",
       ".xr-obj-type,\n",
       ".xr-array-name {\n",
       "  margin-left: 2px;\n",
       "  margin-right: 10px;\n",
       "}\n",
       "\n",
       ".xr-obj-type {\n",
       "  color: var(--xr-font-color2);\n",
       "}\n",
       "\n",
       ".xr-sections {\n",
       "  padding-left: 0 !important;\n",
       "  display: grid;\n",
       "  grid-template-columns: 150px auto auto 1fr 20px 20px;\n",
       "}\n",
       "\n",
       ".xr-section-item {\n",
       "  display: contents;\n",
       "}\n",
       "\n",
       ".xr-section-item input {\n",
       "  display: none;\n",
       "}\n",
       "\n",
       ".xr-section-item input + label {\n",
       "  color: var(--xr-disabled-color);\n",
       "}\n",
       "\n",
       ".xr-section-item input:enabled + label {\n",
       "  cursor: pointer;\n",
       "  color: var(--xr-font-color2);\n",
       "}\n",
       "\n",
       ".xr-section-item input:enabled + label:hover {\n",
       "  color: var(--xr-font-color0);\n",
       "}\n",
       "\n",
       ".xr-section-summary {\n",
       "  grid-column: 1;\n",
       "  color: var(--xr-font-color2);\n",
       "  font-weight: 500;\n",
       "}\n",
       "\n",
       ".xr-section-summary > span {\n",
       "  display: inline-block;\n",
       "  padding-left: 0.5em;\n",
       "}\n",
       "\n",
       ".xr-section-summary-in:disabled + label {\n",
       "  color: var(--xr-font-color2);\n",
       "}\n",
       "\n",
       ".xr-section-summary-in + label:before {\n",
       "  display: inline-block;\n",
       "  content: '►';\n",
       "  font-size: 11px;\n",
       "  width: 15px;\n",
       "  text-align: center;\n",
       "}\n",
       "\n",
       ".xr-section-summary-in:disabled + label:before {\n",
       "  color: var(--xr-disabled-color);\n",
       "}\n",
       "\n",
       ".xr-section-summary-in:checked + label:before {\n",
       "  content: '▼';\n",
       "}\n",
       "\n",
       ".xr-section-summary-in:checked + label > span {\n",
       "  display: none;\n",
       "}\n",
       "\n",
       ".xr-section-summary,\n",
       ".xr-section-inline-details {\n",
       "  padding-top: 4px;\n",
       "  padding-bottom: 4px;\n",
       "}\n",
       "\n",
       ".xr-section-inline-details {\n",
       "  grid-column: 2 / -1;\n",
       "}\n",
       "\n",
       ".xr-section-details {\n",
       "  display: none;\n",
       "  grid-column: 1 / -1;\n",
       "  margin-bottom: 5px;\n",
       "}\n",
       "\n",
       ".xr-section-summary-in:checked ~ .xr-section-details {\n",
       "  display: contents;\n",
       "}\n",
       "\n",
       ".xr-array-wrap {\n",
       "  grid-column: 1 / -1;\n",
       "  display: grid;\n",
       "  grid-template-columns: 20px auto;\n",
       "}\n",
       "\n",
       ".xr-array-wrap > label {\n",
       "  grid-column: 1;\n",
       "  vertical-align: top;\n",
       "}\n",
       "\n",
       ".xr-preview {\n",
       "  color: var(--xr-font-color3);\n",
       "}\n",
       "\n",
       ".xr-array-preview,\n",
       ".xr-array-data {\n",
       "  padding: 0 5px !important;\n",
       "  grid-column: 2;\n",
       "}\n",
       "\n",
       ".xr-array-data,\n",
       ".xr-array-in:checked ~ .xr-array-preview {\n",
       "  display: none;\n",
       "}\n",
       "\n",
       ".xr-array-in:checked ~ .xr-array-data,\n",
       ".xr-array-preview {\n",
       "  display: inline-block;\n",
       "}\n",
       "\n",
       ".xr-dim-list {\n",
       "  display: inline-block !important;\n",
       "  list-style: none;\n",
       "  padding: 0 !important;\n",
       "  margin: 0;\n",
       "}\n",
       "\n",
       ".xr-dim-list li {\n",
       "  display: inline-block;\n",
       "  padding: 0;\n",
       "  margin: 0;\n",
       "}\n",
       "\n",
       ".xr-dim-list:before {\n",
       "  content: '(';\n",
       "}\n",
       "\n",
       ".xr-dim-list:after {\n",
       "  content: ')';\n",
       "}\n",
       "\n",
       ".xr-dim-list li:not(:last-child):after {\n",
       "  content: ',';\n",
       "  padding-right: 5px;\n",
       "}\n",
       "\n",
       ".xr-has-index {\n",
       "  font-weight: bold;\n",
       "}\n",
       "\n",
       ".xr-var-list,\n",
       ".xr-var-item {\n",
       "  display: contents;\n",
       "}\n",
       "\n",
       ".xr-var-item > div,\n",
       ".xr-var-item label,\n",
       ".xr-var-item > .xr-var-name span {\n",
       "  background-color: var(--xr-background-color-row-even);\n",
       "  margin-bottom: 0;\n",
       "}\n",
       "\n",
       ".xr-var-item > .xr-var-name:hover span {\n",
       "  padding-right: 5px;\n",
       "}\n",
       "\n",
       ".xr-var-list > li:nth-child(odd) > div,\n",
       ".xr-var-list > li:nth-child(odd) > label,\n",
       ".xr-var-list > li:nth-child(odd) > .xr-var-name span {\n",
       "  background-color: var(--xr-background-color-row-odd);\n",
       "}\n",
       "\n",
       ".xr-var-name {\n",
       "  grid-column: 1;\n",
       "}\n",
       "\n",
       ".xr-var-dims {\n",
       "  grid-column: 2;\n",
       "}\n",
       "\n",
       ".xr-var-dtype {\n",
       "  grid-column: 3;\n",
       "  text-align: right;\n",
       "  color: var(--xr-font-color2);\n",
       "}\n",
       "\n",
       ".xr-var-preview {\n",
       "  grid-column: 4;\n",
       "}\n",
       "\n",
       ".xr-index-preview {\n",
       "  grid-column: 2 / 5;\n",
       "  color: var(--xr-font-color2);\n",
       "}\n",
       "\n",
       ".xr-var-name,\n",
       ".xr-var-dims,\n",
       ".xr-var-dtype,\n",
       ".xr-preview,\n",
       ".xr-attrs dt {\n",
       "  white-space: nowrap;\n",
       "  overflow: hidden;\n",
       "  text-overflow: ellipsis;\n",
       "  padding-right: 10px;\n",
       "}\n",
       "\n",
       ".xr-var-name:hover,\n",
       ".xr-var-dims:hover,\n",
       ".xr-var-dtype:hover,\n",
       ".xr-attrs dt:hover {\n",
       "  overflow: visible;\n",
       "  width: auto;\n",
       "  z-index: 1;\n",
       "}\n",
       "\n",
       ".xr-var-attrs,\n",
       ".xr-var-data,\n",
       ".xr-index-data {\n",
       "  display: none;\n",
       "  background-color: var(--xr-background-color) !important;\n",
       "  padding-bottom: 5px !important;\n",
       "}\n",
       "\n",
       ".xr-var-attrs-in:checked ~ .xr-var-attrs,\n",
       ".xr-var-data-in:checked ~ .xr-var-data,\n",
       ".xr-index-data-in:checked ~ .xr-index-data {\n",
       "  display: block;\n",
       "}\n",
       "\n",
       ".xr-var-data > table {\n",
       "  float: right;\n",
       "}\n",
       "\n",
       ".xr-var-name span,\n",
       ".xr-var-data,\n",
       ".xr-index-name div,\n",
       ".xr-index-data,\n",
       ".xr-attrs {\n",
       "  padding-left: 25px !important;\n",
       "}\n",
       "\n",
       ".xr-attrs,\n",
       ".xr-var-attrs,\n",
       ".xr-var-data,\n",
       ".xr-index-data {\n",
       "  grid-column: 1 / -1;\n",
       "}\n",
       "\n",
       "dl.xr-attrs {\n",
       "  padding: 0;\n",
       "  margin: 0;\n",
       "  display: grid;\n",
       "  grid-template-columns: 125px auto;\n",
       "}\n",
       "\n",
       ".xr-attrs dt,\n",
       ".xr-attrs dd {\n",
       "  padding: 0;\n",
       "  margin: 0;\n",
       "  float: left;\n",
       "  padding-right: 10px;\n",
       "  width: auto;\n",
       "}\n",
       "\n",
       ".xr-attrs dt {\n",
       "  font-weight: normal;\n",
       "  grid-column: 1;\n",
       "}\n",
       "\n",
       ".xr-attrs dt:hover span {\n",
       "  display: inline-block;\n",
       "  background: var(--xr-background-color);\n",
       "  padding-right: 10px;\n",
       "}\n",
       "\n",
       ".xr-attrs dd {\n",
       "  grid-column: 2;\n",
       "  white-space: pre-wrap;\n",
       "  word-break: break-all;\n",
       "}\n",
       "\n",
       ".xr-icon-database,\n",
       ".xr-icon-file-text2,\n",
       ".xr-no-icon {\n",
       "  display: inline-block;\n",
       "  vertical-align: middle;\n",
       "  width: 1em;\n",
       "  height: 1.5em !important;\n",
       "  stroke-width: 0;\n",
       "  stroke: currentColor;\n",
       "  fill: currentColor;\n",
       "}\n",
       "</style><pre class='xr-text-repr-fallback'>&lt;xarray.Dataset&gt;\n",
       "Dimensions:              (time: 29, y: 449, x: 809)\n",
       "Coordinates:\n",
       "  * time                 (time) datetime64[ns] 2022-03-12T00:47:04.634097 ......\n",
       "  * y                    (y) float64 -3.894e+06 -3.894e+06 ... -3.921e+06\n",
       "  * x                    (x) float64 5.878e+05 5.879e+05 ... 6.363e+05 6.363e+05\n",
       "    spatial_ref          int32 3577\n",
       "Data variables:\n",
       "    nbart_red            (time, y, x) int16 1355 1325 982 940 ... 55 49 60 59\n",
       "    nbart_green          (time, y, x) int16 996 955 725 716 ... 171 157 169 164\n",
       "    nbart_blue           (time, y, x) int16 722 716 556 542 ... 225 239 214 227\n",
       "    nbart_nir_1          (time, y, x) int16 2410 2264 2116 1913 ... 35 29 35 34\n",
       "    oa_s2cloudless_prob  (time, y, x) float64 0.06223 0.03058 ... 0.1506 0.1395\n",
       "Attributes:\n",
       "    crs:           EPSG:3577\n",
       "    grid_mapping:  spatial_ref</pre><div class='xr-wrap' style='display:none'><div class='xr-header'><div class='xr-obj-type'>xarray.Dataset</div></div><ul class='xr-sections'><li class='xr-section-item'><input id='section-4f5c1fda-f17f-42d2-9b4c-0f2856200288' class='xr-section-summary-in' type='checkbox' disabled ><label for='section-4f5c1fda-f17f-42d2-9b4c-0f2856200288' class='xr-section-summary'  title='Expand/collapse section'>Dimensions:</label><div class='xr-section-inline-details'><ul class='xr-dim-list'><li><span class='xr-has-index'>time</span>: 29</li><li><span class='xr-has-index'>y</span>: 449</li><li><span class='xr-has-index'>x</span>: 809</li></ul></div><div class='xr-section-details'></div></li><li class='xr-section-item'><input id='section-0f1d4912-2446-405a-96b3-62819dc64428' class='xr-section-summary-in' type='checkbox'  checked><label for='section-0f1d4912-2446-405a-96b3-62819dc64428' class='xr-section-summary' >Coordinates: <span>(4)</span></label><div class='xr-section-inline-details'></div><div class='xr-section-details'><ul class='xr-var-list'><li class='xr-var-item'><div class='xr-var-name'><span class='xr-has-index'>time</span></div><div class='xr-var-dims'>(time)</div><div class='xr-var-dtype'>datetime64[ns]</div><div class='xr-var-preview xr-preview'>2022-03-12T00:47:04.634097 ... 2...</div><input id='attrs-1aaee3ff-d1ba-4e08-afd3-80a4a8842a98' class='xr-var-attrs-in' type='checkbox' ><label for='attrs-1aaee3ff-d1ba-4e08-afd3-80a4a8842a98' title='Show/Hide attributes'><svg class='icon xr-icon-file-text2'><use xlink:href='#icon-file-text2'></use></svg></label><input id='data-fdc79cec-258d-4784-ba8f-0ac7a6cb2a01' class='xr-var-data-in' type='checkbox'><label for='data-fdc79cec-258d-4784-ba8f-0ac7a6cb2a01' title='Show/Hide data repr'><svg class='icon xr-icon-database'><use xlink:href='#icon-database'></use></svg></label><div class='xr-var-attrs'><dl class='xr-attrs'><dt><span>units :</span></dt><dd>seconds since 1970-01-01 00:00:00</dd></dl></div><div class='xr-var-data'><pre>array([&#x27;2022-03-12T00:47:04.634097000&#x27;, &#x27;2022-03-17T00:46:58.626259000&#x27;,\n",
       "       &#x27;2022-04-01T00:47:02.723150000&#x27;, &#x27;2022-04-06T00:46:57.416849000&#x27;,\n",
       "       &#x27;2022-04-11T00:47:02.434463000&#x27;, &#x27;2022-05-01T00:47:05.678310000&#x27;,\n",
       "       &#x27;2022-05-11T00:47:04.242350000&#x27;, &#x27;2022-05-21T00:47:06.941348000&#x27;,\n",
       "       &#x27;2022-06-25T00:47:05.431567000&#x27;, &#x27;2022-06-30T00:47:13.488838000&#x27;,\n",
       "       &#x27;2022-07-10T00:47:13.500225000&#x27;, &#x27;2022-08-04T00:47:05.121218000&#x27;,\n",
       "       &#x27;2022-08-09T00:47:12.280570000&#x27;, &#x27;2022-09-13T00:47:02.636509000&#x27;,\n",
       "       &#x27;2022-10-08T00:47:07.032473000&#x27;, &#x27;2022-11-07T00:47:04.627755000&#x27;,\n",
       "       &#x27;2022-11-17T00:47:02.549405000&#x27;, &#x27;2022-12-02T00:46:58.683008000&#x27;,\n",
       "       &#x27;2022-12-07T00:47:01.111954000&#x27;, &#x27;2022-12-12T00:46:57.822074000&#x27;,\n",
       "       &#x27;2022-12-17T00:46:59.889972000&#x27;, &#x27;2023-01-01T00:46:59.408833000&#x27;,\n",
       "       &#x27;2023-01-06T00:46:59.476344000&#x27;, &#x27;2023-01-11T00:46:56.637909000&#x27;,\n",
       "       &#x27;2023-02-10T00:46:59.060952000&#x27;, &#x27;2023-02-20T00:46:59.702085000&#x27;,\n",
       "       &#x27;2023-03-17T00:46:58.255262000&#x27;, &#x27;2023-03-22T00:47:03.200746000&#x27;,\n",
       "       &#x27;2023-05-11T00:47:03.027042000&#x27;], dtype=&#x27;datetime64[ns]&#x27;)</pre></div></li><li class='xr-var-item'><div class='xr-var-name'><span class='xr-has-index'>y</span></div><div class='xr-var-dims'>(y)</div><div class='xr-var-dtype'>float64</div><div class='xr-var-preview xr-preview'>-3.894e+06 ... -3.921e+06</div><input id='attrs-4d831201-0b23-4d4d-a6d6-bb65e8202237' class='xr-var-attrs-in' type='checkbox' ><label for='attrs-4d831201-0b23-4d4d-a6d6-bb65e8202237' title='Show/Hide attributes'><svg class='icon xr-icon-file-text2'><use xlink:href='#icon-file-text2'></use></svg></label><input id='data-110bee69-7f9e-495c-94e0-657b5afe683e' class='xr-var-data-in' type='checkbox'><label for='data-110bee69-7f9e-495c-94e0-657b5afe683e' title='Show/Hide data repr'><svg class='icon xr-icon-database'><use xlink:href='#icon-database'></use></svg></label><div class='xr-var-attrs'><dl class='xr-attrs'><dt><span>units :</span></dt><dd>metre</dd><dt><span>resolution :</span></dt><dd>-60.0</dd><dt><span>crs :</span></dt><dd>EPSG:3577</dd></dl></div><div class='xr-var-data'><pre>array([-3893850., -3893910., -3893970., ..., -3920610., -3920670., -3920730.])</pre></div></li><li class='xr-var-item'><div class='xr-var-name'><span class='xr-has-index'>x</span></div><div class='xr-var-dims'>(x)</div><div class='xr-var-dtype'>float64</div><div class='xr-var-preview xr-preview'>5.878e+05 5.879e+05 ... 6.363e+05</div><input id='attrs-2f5ae515-57db-4e0f-9b3b-26832279502f' class='xr-var-attrs-in' type='checkbox' ><label for='attrs-2f5ae515-57db-4e0f-9b3b-26832279502f' title='Show/Hide attributes'><svg class='icon xr-icon-file-text2'><use xlink:href='#icon-file-text2'></use></svg></label><input id='data-7068d67c-d8a5-4e1b-b1ed-dd18e53fd11a' class='xr-var-data-in' type='checkbox'><label for='data-7068d67c-d8a5-4e1b-b1ed-dd18e53fd11a' title='Show/Hide data repr'><svg class='icon xr-icon-database'><use xlink:href='#icon-database'></use></svg></label><div class='xr-var-attrs'><dl class='xr-attrs'><dt><span>units :</span></dt><dd>metre</dd><dt><span>resolution :</span></dt><dd>60.0</dd><dt><span>crs :</span></dt><dd>EPSG:3577</dd></dl></div><div class='xr-var-data'><pre>array([587850., 587910., 587970., ..., 636210., 636270., 636330.])</pre></div></li><li class='xr-var-item'><div class='xr-var-name'><span>spatial_ref</span></div><div class='xr-var-dims'>()</div><div class='xr-var-dtype'>int32</div><div class='xr-var-preview xr-preview'>3577</div><input id='attrs-243d8c99-323c-4acb-b445-843f78cea8a3' class='xr-var-attrs-in' type='checkbox' ><label for='attrs-243d8c99-323c-4acb-b445-843f78cea8a3' title='Show/Hide attributes'><svg class='icon xr-icon-file-text2'><use xlink:href='#icon-file-text2'></use></svg></label><input id='data-8992bc51-f037-46ea-91f3-b3ee0b39bc7f' class='xr-var-data-in' type='checkbox'><label for='data-8992bc51-f037-46ea-91f3-b3ee0b39bc7f' title='Show/Hide data repr'><svg class='icon xr-icon-database'><use xlink:href='#icon-database'></use></svg></label><div class='xr-var-attrs'><dl class='xr-attrs'><dt><span>spatial_ref :</span></dt><dd>PROJCS[&quot;GDA94 / Australian Albers&quot;,GEOGCS[&quot;GDA94&quot;,DATUM[&quot;Geocentric_Datum_of_Australia_1994&quot;,SPHEROID[&quot;GRS 1980&quot;,6378137,298.257222101,AUTHORITY[&quot;EPSG&quot;,&quot;7019&quot;]],AUTHORITY[&quot;EPSG&quot;,&quot;6283&quot;]],PRIMEM[&quot;Greenwich&quot;,0,AUTHORITY[&quot;EPSG&quot;,&quot;8901&quot;]],UNIT[&quot;degree&quot;,0.0174532925199433,AUTHORITY[&quot;EPSG&quot;,&quot;9122&quot;]],AUTHORITY[&quot;EPSG&quot;,&quot;4283&quot;]],PROJECTION[&quot;Albers_Conic_Equal_Area&quot;],PARAMETER[&quot;latitude_of_center&quot;,0],PARAMETER[&quot;longitude_of_center&quot;,132],PARAMETER[&quot;standard_parallel_1&quot;,-18],PARAMETER[&quot;standard_parallel_2&quot;,-36],PARAMETER[&quot;false_easting&quot;,0],PARAMETER[&quot;false_northing&quot;,0],UNIT[&quot;metre&quot;,1,AUTHORITY[&quot;EPSG&quot;,&quot;9001&quot;]],AXIS[&quot;Easting&quot;,EAST],AXIS[&quot;Northing&quot;,NORTH],AUTHORITY[&quot;EPSG&quot;,&quot;3577&quot;]]</dd><dt><span>grid_mapping_name :</span></dt><dd>albers_conical_equal_area</dd></dl></div><div class='xr-var-data'><pre>array(3577, dtype=int32)</pre></div></li></ul></div></li><li class='xr-section-item'><input id='section-f8a42116-08ef-4384-80ef-ab3d1e6121de' class='xr-section-summary-in' type='checkbox'  checked><label for='section-f8a42116-08ef-4384-80ef-ab3d1e6121de' class='xr-section-summary' >Data variables: <span>(5)</span></label><div class='xr-section-inline-details'></div><div class='xr-section-details'><ul class='xr-var-list'><li class='xr-var-item'><div class='xr-var-name'><span>nbart_red</span></div><div class='xr-var-dims'>(time, y, x)</div><div class='xr-var-dtype'>int16</div><div class='xr-var-preview xr-preview'>1355 1325 982 940 ... 55 49 60 59</div><input id='attrs-f0d123d1-2226-4855-8ea3-c1a2dafd54bb' class='xr-var-attrs-in' type='checkbox' ><label for='attrs-f0d123d1-2226-4855-8ea3-c1a2dafd54bb' title='Show/Hide attributes'><svg class='icon xr-icon-file-text2'><use xlink:href='#icon-file-text2'></use></svg></label><input id='data-c4ece943-06cc-446e-82bf-9a82a6b0dc3d' class='xr-var-data-in' type='checkbox'><label for='data-c4ece943-06cc-446e-82bf-9a82a6b0dc3d' title='Show/Hide data repr'><svg class='icon xr-icon-database'><use xlink:href='#icon-database'></use></svg></label><div class='xr-var-attrs'><dl class='xr-attrs'><dt><span>units :</span></dt><dd>1</dd><dt><span>nodata :</span></dt><dd>-999</dd><dt><span>crs :</span></dt><dd>EPSG:3577</dd><dt><span>grid_mapping :</span></dt><dd>spatial_ref</dd></dl></div><div class='xr-var-data'><pre>array([[[1355, 1325,  982, ..., 1114, 1111, 1107],\n",
       "        [1217, 1135,  601, ..., 1109, 1110, 1113],\n",
       "        [1063,  725,  566, ..., 1110, 1119, 1133],\n",
       "        ...,\n",
       "        [  62,   69,   62, ...,   22,   28,   25],\n",
       "        [  67,   67,   73, ...,   21,   22,   25],\n",
       "        [  77,   57,   55, ...,   21,   20,   25]],\n",
       "\n",
       "       [[1357, 1333,  949, ..., 1190, 1195, 1192],\n",
       "        [1234, 1144,  609, ..., 1193, 1188, 1183],\n",
       "        [1130,  734,  534, ..., 1195, 1189, 1197],\n",
       "        ...,\n",
       "        [  39,   38,   37, ...,    1,    2,    1],\n",
       "        [  42,   45,   42, ...,    1,    1,    1],\n",
       "        [  36,   34,   42, ...,    2,    1,    1]],\n",
       "\n",
       "       [[1455, 1412, 1021, ..., 1062, 1059, 1057],\n",
       "        [1276, 1192,  671, ..., 1068, 1073, 1065],\n",
       "        [1184,  794,  637, ..., 1045, 1053, 1063],\n",
       "        ...,\n",
       "...\n",
       "        ...,\n",
       "        [ 189,  215,  482, ..., 3258, 2904, 2099],\n",
       "        [ 300,  303,  417, ..., 2906, 2224, 1476],\n",
       "        [ 329,  602,  792, ..., 2283, 1379, 1427]],\n",
       "\n",
       "       [[ 949,  990,  888, ...,  415,  416,  415],\n",
       "        [1165, 1058,  668, ...,  416,  410,  412],\n",
       "        [1185,  730,  628, ...,  416,  409,  412],\n",
       "        ...,\n",
       "        [4226, 2426,  720, ...,   70,   78,   73],\n",
       "        [4734, 3258, 1370, ...,   65,   73,   77],\n",
       "        [3237, 2300, 1407, ...,   71,   64,   71]],\n",
       "\n",
       "       [[ 432,  412,  394, ...,  371,  354,  346],\n",
       "        [ 546,  474,  278, ...,  387,  363,  355],\n",
       "        [ 515,  368,  277, ...,  396,  375,  353],\n",
       "        ...,\n",
       "        [  57,   62,   68, ...,   52,   55,   63],\n",
       "        [  59,   55,   57, ...,   58,   64,   55],\n",
       "        [  62,   62,   74, ...,   49,   60,   59]]], dtype=int16)</pre></div></li><li class='xr-var-item'><div class='xr-var-name'><span>nbart_green</span></div><div class='xr-var-dims'>(time, y, x)</div><div class='xr-var-dtype'>int16</div><div class='xr-var-preview xr-preview'>996 955 725 716 ... 171 157 169 164</div><input id='attrs-def76609-3ea1-4d50-9613-122ec74b43f5' class='xr-var-attrs-in' type='checkbox' ><label for='attrs-def76609-3ea1-4d50-9613-122ec74b43f5' title='Show/Hide attributes'><svg class='icon xr-icon-file-text2'><use xlink:href='#icon-file-text2'></use></svg></label><input id='data-1fb5a6cd-facb-459d-9fab-53834c2dbf31' class='xr-var-data-in' type='checkbox'><label for='data-1fb5a6cd-facb-459d-9fab-53834c2dbf31' title='Show/Hide data repr'><svg class='icon xr-icon-database'><use xlink:href='#icon-database'></use></svg></label><div class='xr-var-attrs'><dl class='xr-attrs'><dt><span>units :</span></dt><dd>1</dd><dt><span>nodata :</span></dt><dd>-999</dd><dt><span>crs :</span></dt><dd>EPSG:3577</dd><dt><span>grid_mapping :</span></dt><dd>spatial_ref</dd></dl></div><div class='xr-var-data'><pre>array([[[ 996,  955,  725, ..., 1262, 1269, 1277],\n",
       "        [ 924,  872,  501, ..., 1259, 1264, 1275],\n",
       "        [ 811,  622,  515, ..., 1264, 1260, 1267],\n",
       "        ...,\n",
       "        [ 167,  175,  174, ...,  224,  216,  224],\n",
       "        [ 173,  176,  183, ...,  210,  222,  222],\n",
       "        [ 183,  170,  176, ...,  220,  226,  223]],\n",
       "\n",
       "       [[ 988,  968,  715, ..., 1340, 1343, 1341],\n",
       "        [ 928,  868,  472, ..., 1352, 1354, 1343],\n",
       "        [ 857,  608,  444, ..., 1350, 1351, 1351],\n",
       "        ...,\n",
       "        [ 100,  104,  111, ...,   80,   82,   87],\n",
       "        [ 109,  106,  105, ...,   80,   88,   85],\n",
       "        [ 100,  109,  106, ...,   83,   83,   78]],\n",
       "\n",
       "       [[1072, 1026,  768, ..., 1225, 1225, 1230],\n",
       "        [ 956,  909,  542, ..., 1227, 1221, 1217],\n",
       "        [ 928,  682,  512, ..., 1197, 1197, 1227],\n",
       "        ...,\n",
       "...\n",
       "        ...,\n",
       "        [ 273,  295,  548, ..., 3206, 2857, 2074],\n",
       "        [ 391,  369,  468, ..., 2893, 2241, 1538],\n",
       "        [ 409,  669,  826, ..., 2340, 1427, 1451]],\n",
       "\n",
       "       [[ 896,  862,  728, ...,  613,  603,  611],\n",
       "        [ 975,  894,  571, ...,  604,  604,  612],\n",
       "        [ 942,  669,  543, ...,  606,  607,  604],\n",
       "        ...,\n",
       "        [4054, 2385,  800, ...,  171,  184,  184],\n",
       "        [4537, 3147, 1352, ...,  174,  184,  178],\n",
       "        [3343, 2331, 1411, ...,  174,  166,  183]],\n",
       "\n",
       "       [[ 800,  735,  602, ...,  584,  554,  552],\n",
       "        [ 749,  634,  368, ...,  606,  585,  557],\n",
       "        [ 661,  434,  326, ...,  622,  611,  562],\n",
       "        ...,\n",
       "        [ 153,  153,  173, ...,  167,  165,  161],\n",
       "        [ 153,  149,  152, ...,  163,  158,  159],\n",
       "        [ 165,  164,  159, ...,  157,  169,  164]]], dtype=int16)</pre></div></li><li class='xr-var-item'><div class='xr-var-name'><span>nbart_blue</span></div><div class='xr-var-dims'>(time, y, x)</div><div class='xr-var-dtype'>int16</div><div class='xr-var-preview xr-preview'>722 716 556 542 ... 225 239 214 227</div><input id='attrs-7dd6db67-142a-4820-8b0f-e8c1d4670ed1' class='xr-var-attrs-in' type='checkbox' ><label for='attrs-7dd6db67-142a-4820-8b0f-e8c1d4670ed1' title='Show/Hide attributes'><svg class='icon xr-icon-file-text2'><use xlink:href='#icon-file-text2'></use></svg></label><input id='data-325f8d66-8772-412b-a046-97e0e69690e0' class='xr-var-data-in' type='checkbox'><label for='data-325f8d66-8772-412b-a046-97e0e69690e0' title='Show/Hide data repr'><svg class='icon xr-icon-database'><use xlink:href='#icon-database'></use></svg></label><div class='xr-var-attrs'><dl class='xr-attrs'><dt><span>units :</span></dt><dd>1</dd><dt><span>nodata :</span></dt><dd>-999</dd><dt><span>crs :</span></dt><dd>EPSG:3577</dd><dt><span>grid_mapping :</span></dt><dd>spatial_ref</dd></dl></div><div class='xr-var-data'><pre>array([[[ 722,  716,  556, ...,  854,  849,  857],\n",
       "        [ 681,  650,  359, ...,  857,  853,  853],\n",
       "        [ 633,  464,  353, ...,  852,  849,  861],\n",
       "        ...,\n",
       "        [ 268,  281,  272, ...,  320,  328,  325],\n",
       "        [ 279,  284,  279, ...,  321,  330,  329],\n",
       "        [ 283,  263,  274, ...,  314,  319,  317]],\n",
       "\n",
       "       [[ 715,  706,  554, ...,  938,  929,  936],\n",
       "        [ 675,  632,  377, ...,  943,  942,  945],\n",
       "        [ 626,  428,  335, ...,  938,  946,  949],\n",
       "        ...,\n",
       "        [ 231,  226,  233, ...,  162,  163,  164],\n",
       "        [ 239,  232,  228, ...,  157,  161,  163],\n",
       "        [ 228,  236,  229, ...,  173,  153,  162]],\n",
       "\n",
       "       [[ 775,  763,  578, ...,  829,  824,  821],\n",
       "        [ 715,  668,  402, ...,  815,  830,  825],\n",
       "        [ 672,  478,  364, ...,  809,  817,  815],\n",
       "        ...,\n",
       "...\n",
       "        ...,\n",
       "        [ 340,  375,  620, ..., 3201, 2877, 2049],\n",
       "        [ 467,  428,  543, ..., 2895, 2291, 1624],\n",
       "        [ 480,  746,  875, ..., 2391, 1483, 1504]],\n",
       "\n",
       "       [[ 599,  605,  552, ...,  372,  369,  360],\n",
       "        [ 705,  648,  427, ...,  368,  374,  354],\n",
       "        [ 691,  484,  398, ...,  362,  362,  357],\n",
       "        ...,\n",
       "        [3904, 2324,  858, ...,  253,  257,  255],\n",
       "        [4412, 3092, 1332, ...,  232,  246,  239],\n",
       "        [3480, 2371, 1397, ...,  240,  238,  248]],\n",
       "\n",
       "       [[ 340,  332,  272, ...,  321,  316,  322],\n",
       "        [ 377,  341,  189, ...,  321,  307,  305],\n",
       "        [ 350,  241,  192, ...,  334,  324,  293],\n",
       "        ...,\n",
       "        [ 271,  252,  266, ...,  239,  237,  232],\n",
       "        [ 266,  271,  262, ...,  238,  226,  229],\n",
       "        [ 277,  264,  242, ...,  239,  214,  227]]], dtype=int16)</pre></div></li><li class='xr-var-item'><div class='xr-var-name'><span>nbart_nir_1</span></div><div class='xr-var-dims'>(time, y, x)</div><div class='xr-var-dtype'>int16</div><div class='xr-var-preview xr-preview'>2410 2264 2116 1913 ... 35 29 35 34</div><input id='attrs-d955671c-aec5-4d9f-ba95-0a2b7f334655' class='xr-var-attrs-in' type='checkbox' ><label for='attrs-d955671c-aec5-4d9f-ba95-0a2b7f334655' title='Show/Hide attributes'><svg class='icon xr-icon-file-text2'><use xlink:href='#icon-file-text2'></use></svg></label><input id='data-9b5e72c1-5eea-4d3c-a87e-a8b122cd3883' class='xr-var-data-in' type='checkbox'><label for='data-9b5e72c1-5eea-4d3c-a87e-a8b122cd3883' title='Show/Hide data repr'><svg class='icon xr-icon-database'><use xlink:href='#icon-database'></use></svg></label><div class='xr-var-attrs'><dl class='xr-attrs'><dt><span>units :</span></dt><dd>1</dd><dt><span>nodata :</span></dt><dd>-999</dd><dt><span>crs :</span></dt><dd>EPSG:3577</dd><dt><span>grid_mapping :</span></dt><dd>spatial_ref</dd></dl></div><div class='xr-var-data'><pre>array([[[2410, 2264, 2116, ...,  472,  480,  480],\n",
       "        [2196, 2158, 1775, ...,  486,  479,  480],\n",
       "        [1988, 2248, 1961, ...,  482,  484,  484],\n",
       "        ...,\n",
       "        [  44,   39,   38, ...,    3,    2,    2],\n",
       "        [  41,   44,   39, ...,    1,    5,    7],\n",
       "        [  44,   32,   28, ...,    1,    2,    4]],\n",
       "\n",
       "       [[2413, 2278, 2103, ...,  548,  551,  554],\n",
       "        [2206, 2171, 1711, ...,  554,  556,  568],\n",
       "        [2134, 2372, 1850, ...,  566,  563,  563],\n",
       "        ...,\n",
       "        [  26,   25,   26, ...,    1,    1,    1],\n",
       "        [  25,   24,   28, ...,    1,    2,    1],\n",
       "        [  28,   23,   30, ...,    1,    1,    1]],\n",
       "\n",
       "       [[2464, 2318, 2070, ...,  625,  631,  621],\n",
       "        [2153, 2111, 1660, ...,  617,  631,  625],\n",
       "        [2076, 2303, 1828, ...,  615,  621,  616],\n",
       "        ...,\n",
       "...\n",
       "        ...,\n",
       "        [ 165,  199,  485, ..., 3448, 3080, 2140],\n",
       "        [ 297,  288,  405, ..., 3089, 2381, 1585],\n",
       "        [ 337,  627,  820, ..., 2453, 1486, 1498]],\n",
       "\n",
       "       [[2722, 2413, 2261, ...,  180,  180,  181],\n",
       "        [2473, 2311, 1896, ...,  183,  178,  176],\n",
       "        [2299, 2344, 1915, ...,  189,  183,  175],\n",
       "        ...,\n",
       "        [4335, 2561,  741, ...,   59,   57,   56],\n",
       "        [4919, 3442, 1380, ...,   55,   56,   54],\n",
       "        [3533, 2517, 1442, ...,   48,   51,   63]],\n",
       "\n",
       "       [[3999, 3538, 2871, ...,  166,  149,  140],\n",
       "        [3046, 2675, 1878, ...,  169,  156,  143],\n",
       "        [2775, 2175, 1835, ...,  173,  175,  164],\n",
       "        ...,\n",
       "        [  38,   35,   45, ...,   30,   28,   30],\n",
       "        [  37,   33,   39, ...,   33,   22,   40],\n",
       "        [  36,   30,   30, ...,   29,   35,   34]]], dtype=int16)</pre></div></li><li class='xr-var-item'><div class='xr-var-name'><span>oa_s2cloudless_prob</span></div><div class='xr-var-dims'>(time, y, x)</div><div class='xr-var-dtype'>float64</div><div class='xr-var-preview xr-preview'>0.06223 0.03058 ... 0.1506 0.1395</div><input id='attrs-4e5b45e4-3108-48f5-8cff-f2a1e69b6937' class='xr-var-attrs-in' type='checkbox' ><label for='attrs-4e5b45e4-3108-48f5-8cff-f2a1e69b6937' title='Show/Hide attributes'><svg class='icon xr-icon-file-text2'><use xlink:href='#icon-file-text2'></use></svg></label><input id='data-663ea594-9e66-4c46-97f3-b0e31114258d' class='xr-var-data-in' type='checkbox'><label for='data-663ea594-9e66-4c46-97f3-b0e31114258d' title='Show/Hide data repr'><svg class='icon xr-icon-database'><use xlink:href='#icon-database'></use></svg></label><div class='xr-var-attrs'><dl class='xr-attrs'><dt><span>units :</span></dt><dd>1</dd><dt><span>nodata :</span></dt><dd>nan</dd><dt><span>crs :</span></dt><dd>EPSG:3577</dd><dt><span>grid_mapping :</span></dt><dd>spatial_ref</dd></dl></div><div class='xr-var-data'><pre>array([[[0.06223406, 0.03058188, 0.02820937, ..., 0.20978099,\n",
       "         0.2080523 , 0.21780652],\n",
       "        [0.04540351, 0.02557985, 0.03900525, ..., 0.20820156,\n",
       "         0.2080523 , 0.2086757 ],\n",
       "        [0.0541565 , 0.01986125, 0.04118041, ..., 0.22085499,\n",
       "         0.22460474, 0.23089005],\n",
       "        ...,\n",
       "        [0.11429742, 0.1112741 , 0.10533729, ..., 0.16189748,\n",
       "         0.17545153, 0.17441557],\n",
       "        [0.10437845, 0.11135682, 0.10899919, ..., 0.16714673,\n",
       "         0.16594991, 0.18145124],\n",
       "        [0.09920983, 0.08585063, 0.1111382 , ..., 0.18238921,\n",
       "         0.18115989, 0.16861318]],\n",
       "\n",
       "       [[0.20781283, 0.11052138, 0.19173992, ..., 0.18635192,\n",
       "         0.18720384, 0.19468553],\n",
       "        [0.13455769, 0.20769252, 0.23984486, ..., 0.2045073 ,\n",
       "         0.19479458, 0.20842825],\n",
       "        [0.20345566, 0.2321328 , 0.23142366, ..., 0.21659634,\n",
       "         0.21275522, 0.21396008],\n",
       "...\n",
       "        [0.99989075, 0.9927129 , 0.78847652, ..., 0.1027017 ,\n",
       "         0.08727334, 0.09008207],\n",
       "        [0.99994473, 0.99538892, 0.92599197, ..., 0.09044691,\n",
       "         0.08975849, 0.09008207],\n",
       "        [0.99733357, 0.98098024, 0.91488228, ..., 0.09008207,\n",
       "         0.08969481, 0.08977049]],\n",
       "\n",
       "       [[0.88682311, 0.8077717 , 0.6440144 , ..., 0.06814434,\n",
       "         0.07147435, 0.07295027],\n",
       "        [0.79429028, 0.52460343, 0.28274509, ..., 0.06643592,\n",
       "         0.06897261, 0.07119423],\n",
       "        [0.75420544, 0.32743764, 0.32470865, ..., 0.06179284,\n",
       "         0.06438645, 0.06852748],\n",
       "        ...,\n",
       "        [0.1541731 , 0.1525782 , 0.13716466, ..., 0.12755951,\n",
       "         0.15291706, 0.15291706],\n",
       "        [0.0962189 , 0.1303108 , 0.14676872, ..., 0.12978796,\n",
       "         0.15291706, 0.15291706],\n",
       "        [0.0884504 , 0.09769331, 0.12603695, ..., 0.15080033,\n",
       "         0.15058917, 0.13947947]]])</pre></div></li></ul></div></li><li class='xr-section-item'><input id='section-d2a55ca5-d24f-4dee-a352-e3d2c8a0f2b3' class='xr-section-summary-in' type='checkbox'  ><label for='section-d2a55ca5-d24f-4dee-a352-e3d2c8a0f2b3' class='xr-section-summary' >Indexes: <span>(3)</span></label><div class='xr-section-inline-details'></div><div class='xr-section-details'><ul class='xr-var-list'><li class='xr-var-item'><div class='xr-index-name'><div>time</div></div><div class='xr-index-preview'>PandasIndex</div><div></div><input id='index-9d126c00-dac4-44cd-960d-d538e987fbcc' class='xr-index-data-in' type='checkbox'/><label for='index-9d126c00-dac4-44cd-960d-d538e987fbcc' title='Show/Hide index repr'><svg class='icon xr-icon-database'><use xlink:href='#icon-database'></use></svg></label><div class='xr-index-data'><pre>PandasIndex(DatetimeIndex([&#x27;2022-03-12 00:47:04.634097&#x27;, &#x27;2022-03-17 00:46:58.626259&#x27;,\n",
       "               &#x27;2022-04-01 00:47:02.723150&#x27;, &#x27;2022-04-06 00:46:57.416849&#x27;,\n",
       "               &#x27;2022-04-11 00:47:02.434463&#x27;, &#x27;2022-05-01 00:47:05.678310&#x27;,\n",
       "               &#x27;2022-05-11 00:47:04.242350&#x27;, &#x27;2022-05-21 00:47:06.941348&#x27;,\n",
       "               &#x27;2022-06-25 00:47:05.431567&#x27;, &#x27;2022-06-30 00:47:13.488838&#x27;,\n",
       "               &#x27;2022-07-10 00:47:13.500225&#x27;, &#x27;2022-08-04 00:47:05.121218&#x27;,\n",
       "               &#x27;2022-08-09 00:47:12.280570&#x27;, &#x27;2022-09-13 00:47:02.636509&#x27;,\n",
       "               &#x27;2022-10-08 00:47:07.032473&#x27;, &#x27;2022-11-07 00:47:04.627755&#x27;,\n",
       "               &#x27;2022-11-17 00:47:02.549405&#x27;, &#x27;2022-12-02 00:46:58.683008&#x27;,\n",
       "               &#x27;2022-12-07 00:47:01.111954&#x27;, &#x27;2022-12-12 00:46:57.822074&#x27;,\n",
       "               &#x27;2022-12-17 00:46:59.889972&#x27;, &#x27;2023-01-01 00:46:59.408833&#x27;,\n",
       "               &#x27;2023-01-06 00:46:59.476344&#x27;, &#x27;2023-01-11 00:46:56.637909&#x27;,\n",
       "               &#x27;2023-02-10 00:46:59.060952&#x27;, &#x27;2023-02-20 00:46:59.702085&#x27;,\n",
       "               &#x27;2023-03-17 00:46:58.255262&#x27;, &#x27;2023-03-22 00:47:03.200746&#x27;,\n",
       "               &#x27;2023-05-11 00:47:03.027042&#x27;],\n",
       "              dtype=&#x27;datetime64[ns]&#x27;, name=&#x27;time&#x27;, freq=None))</pre></div></li><li class='xr-var-item'><div class='xr-index-name'><div>y</div></div><div class='xr-index-preview'>PandasIndex</div><div></div><input id='index-709054de-e895-48de-9a0a-72e0b99fafa8' class='xr-index-data-in' type='checkbox'/><label for='index-709054de-e895-48de-9a0a-72e0b99fafa8' title='Show/Hide index repr'><svg class='icon xr-icon-database'><use xlink:href='#icon-database'></use></svg></label><div class='xr-index-data'><pre>PandasIndex(Float64Index([-3893850.0, -3893910.0, -3893970.0, -3894030.0, -3894090.0,\n",
       "              -3894150.0, -3894210.0, -3894270.0, -3894330.0, -3894390.0,\n",
       "              ...\n",
       "              -3920190.0, -3920250.0, -3920310.0, -3920370.0, -3920430.0,\n",
       "              -3920490.0, -3920550.0, -3920610.0, -3920670.0, -3920730.0],\n",
       "             dtype=&#x27;float64&#x27;, name=&#x27;y&#x27;, length=449))</pre></div></li><li class='xr-var-item'><div class='xr-index-name'><div>x</div></div><div class='xr-index-preview'>PandasIndex</div><div></div><input id='index-a0055b4d-8b1b-47de-bea1-7c51db126bbc' class='xr-index-data-in' type='checkbox'/><label for='index-a0055b4d-8b1b-47de-bea1-7c51db126bbc' title='Show/Hide index repr'><svg class='icon xr-icon-database'><use xlink:href='#icon-database'></use></svg></label><div class='xr-index-data'><pre>PandasIndex(Float64Index([587850.0, 587910.0, 587970.0, 588030.0, 588090.0, 588150.0,\n",
       "              588210.0, 588270.0, 588330.0, 588390.0,\n",
       "              ...\n",
       "              635790.0, 635850.0, 635910.0, 635970.0, 636030.0, 636090.0,\n",
       "              636150.0, 636210.0, 636270.0, 636330.0],\n",
       "             dtype=&#x27;float64&#x27;, name=&#x27;x&#x27;, length=809))</pre></div></li></ul></div></li><li class='xr-section-item'><input id='section-86fb9ee7-f8e9-4563-b2bd-3d96769bf101' class='xr-section-summary-in' type='checkbox'  checked><label for='section-86fb9ee7-f8e9-4563-b2bd-3d96769bf101' class='xr-section-summary' >Attributes: <span>(2)</span></label><div class='xr-section-inline-details'></div><div class='xr-section-details'><dl class='xr-attrs'><dt><span>crs :</span></dt><dd>EPSG:3577</dd><dt><span>grid_mapping :</span></dt><dd>spatial_ref</dd></dl></div></li></ul></div></div>"
      ],
      "text/plain": [
       "<xarray.Dataset>\n",
       "Dimensions:              (time: 29, y: 449, x: 809)\n",
       "Coordinates:\n",
       "  * time                 (time) datetime64[ns] 2022-03-12T00:47:04.634097 ......\n",
       "  * y                    (y) float64 -3.894e+06 -3.894e+06 ... -3.921e+06\n",
       "  * x                    (x) float64 5.878e+05 5.879e+05 ... 6.363e+05 6.363e+05\n",
       "    spatial_ref          int32 3577\n",
       "Data variables:\n",
       "    nbart_red            (time, y, x) int16 1355 1325 982 940 ... 55 49 60 59\n",
       "    nbart_green          (time, y, x) int16 996 955 725 716 ... 171 157 169 164\n",
       "    nbart_blue           (time, y, x) int16 722 716 556 542 ... 225 239 214 227\n",
       "    nbart_nir_1          (time, y, x) int16 2410 2264 2116 1913 ... 35 29 35 34\n",
       "    oa_s2cloudless_prob  (time, y, x) float64 0.06223 0.03058 ... 0.1506 0.1395\n",
       "Attributes:\n",
       "    crs:           EPSG:3577\n",
       "    grid_mapping:  spatial_ref"
      ]
     },
     "execution_count": 5,
     "metadata": {},
     "output_type": "execute_result"
    }
   ],
   "source": [
    "ds"
   ]
  },
  {
   "cell_type": "markdown",
   "id": "d97d3962-b514-4612-adfb-060c0c45dddd",
   "metadata": {},
   "source": [
    "**Print each time step** and it's associated image capture date to familiar yourself with the data."
   ]
  },
  {
   "cell_type": "code",
   "execution_count": 6,
   "id": "e983f18f-8db9-4be0-8407-115398d64c7f",
   "metadata": {
    "tags": []
   },
   "outputs": [
    {
     "name": "stdout",
     "output_type": "stream",
     "text": [
      "Time step 0: 2022-03-12T00:47:04.634097000\n",
      "Time step 1: 2022-03-17T00:46:58.626259000\n",
      "Time step 2: 2022-04-01T00:47:02.723150000\n",
      "Time step 3: 2022-04-06T00:46:57.416849000\n",
      "Time step 4: 2022-04-11T00:47:02.434463000\n",
      "Time step 5: 2022-05-01T00:47:05.678310000\n",
      "Time step 6: 2022-05-11T00:47:04.242350000\n",
      "Time step 7: 2022-05-21T00:47:06.941348000\n",
      "Time step 8: 2022-06-25T00:47:05.431567000\n",
      "Time step 9: 2022-06-30T00:47:13.488838000\n",
      "Time step 10: 2022-07-10T00:47:13.500225000\n",
      "Time step 11: 2022-08-04T00:47:05.121218000\n",
      "Time step 12: 2022-08-09T00:47:12.280570000\n",
      "Time step 13: 2022-09-13T00:47:02.636509000\n",
      "Time step 14: 2022-10-08T00:47:07.032473000\n",
      "Time step 15: 2022-11-07T00:47:04.627755000\n",
      "Time step 16: 2022-11-17T00:47:02.549405000\n",
      "Time step 17: 2022-12-02T00:46:58.683008000\n",
      "Time step 18: 2022-12-07T00:47:01.111954000\n",
      "Time step 19: 2022-12-12T00:46:57.822074000\n",
      "Time step 20: 2022-12-17T00:46:59.889972000\n",
      "Time step 21: 2023-01-01T00:46:59.408833000\n",
      "Time step 22: 2023-01-06T00:46:59.476344000\n",
      "Time step 23: 2023-01-11T00:46:56.637909000\n",
      "Time step 24: 2023-02-10T00:46:59.060952000\n",
      "Time step 25: 2023-02-20T00:46:59.702085000\n",
      "Time step 26: 2023-03-17T00:46:58.255262000\n",
      "Time step 27: 2023-03-22T00:47:03.200746000\n",
      "Time step 28: 2023-05-11T00:47:03.027042000\n"
     ]
    }
   ],
   "source": [
    "for i, time in enumerate(ds.time.values):\n",
    "    print(f\"Time step {i}: {time}\")"
   ]
  },
  {
   "cell_type": "markdown",
   "id": "ee5d8284-8675-4940-a127-de94196aa51d",
   "metadata": {},
   "source": [
    "## Plot the timesteps in true colour\n",
    "\n"
   ]
  },
  {
   "cell_type": "markdown",
   "id": "a26e4858-81dd-4d38-a044-c92874bf30b9",
   "metadata": {},
   "source": [
    "### Apply a hillshade"
   ]
  },
  {
   "cell_type": "markdown",
   "id": "0418b9cf-193d-4e4d-93f4-24cd2a6ea921",
   "metadata": {},
   "source": [
    "### Animate and export the timesteps in true colour"
   ]
  },
  {
   "cell_type": "markdown",
   "id": "15acb0ff-e300-4d49-8390-499f1b4695d0",
   "metadata": {},
   "source": [
    "### Mask out water using intertidal extents"
   ]
  },
  {
   "cell_type": "markdown",
   "id": "e36c315d-741c-441d-ac05-95147b04d57f",
   "metadata": {
    "tags": []
   },
   "source": [
    "### Introduce attribute layers and discuss limitations of the dataset"
   ]
  },
  {
   "cell_type": "markdown",
   "id": "82e1bedb-496e-45e6-841c-970d4b22df02",
   "metadata": {},
   "source": [
    "### Export data"
   ]
  },
  {
   "cell_type": "markdown",
   "id": "6acc136d-f3f7-4f16-8cff-464ce4a88442",
   "metadata": {},
   "source": [
    "***\n",
    "\n",
    "## Additional information\n",
    "\n",
    "**Author:** This notebook was developed by Joram Downes (Flinders University).\n",
    "\n",
    "**License:** The code in this notebook is licensed under the [Apache License, Version 2.0](https://www.apache.org/licenses/LICENSE-2.0). \n",
    "Digital Earth Australia data is licensed under the [Creative Commons by Attribution 4.0](https://creativecommons.org/licenses/by/4.0/) license.\n",
    "\n",
    "**Contact:** If you need assistance, please post a question on the [Open Data Cube Slack channel](http://slack.opendatacube.org/) or on the [GIS Stack Exchange](https://gis.stackexchange.com/questions/ask?tags=open-data-cube) using the `open-data-cube` tag (you can view previously asked questions [here](https://gis.stackexchange.com/questions/tagged/open-data-cube)).\n",
    "If you would like to report an issue with this notebook, you can file one on [Github](https://github.com/GeoscienceAustralia/dea-notebooks).\n",
    "\n",
    "**Last modified:** June 2023\n",
    "\n",
    "**Compatible datacube version:** "
   ]
  },
  {
   "cell_type": "code",
   "execution_count": 31,
   "id": "ae11bd8b-0d38-424c-8539-5fc969f15e57",
   "metadata": {
    "tags": []
   },
   "outputs": [
    {
     "name": "stdout",
     "output_type": "stream",
     "text": [
      "1.8.13\n"
     ]
    }
   ],
   "source": [
    "print(datacube.__version__)"
   ]
  },
  {
   "cell_type": "markdown",
   "id": "ebf476ad-a3b6-4af0-9311-ecbf6669c4bc",
   "metadata": {},
   "source": [
    "## Tags\n",
    "Browse all available tags on the DEA User Guide's [Tags Index](https://docs.dea.ga.gov.au/genindex.html)"
   ]
  },
  {
   "cell_type": "raw",
   "id": "5ca7ece3-534b-4112-8c84-cdeef9148b12",
   "metadata": {
    "raw_mimetype": "text/restructuredtext"
   },
   "source": [
    "**Tags**: :index:`sandbox compatible`, :index:`sentinel 2`, :index:`load_ard`, :index:`calculate_indices`, :index:`display_map`, :index:`rgb`, :index:`NDWI`, :index:`NDTI`, :index:`turbidity`, :index:`real world`, :index:`flooding`"
   ]
  }
 ],
 "metadata": {
  "kernelspec": {
   "display_name": "Python 3 (ipykernel)",
   "language": "python",
   "name": "python3"
  },
  "language_info": {
   "codemirror_mode": {
    "name": "ipython",
    "version": 3
   },
   "file_extension": ".py",
   "mimetype": "text/x-python",
   "name": "python",
   "nbconvert_exporter": "python",
   "pygments_lexer": "ipython3",
   "version": "3.8.10"
  },
  "widgets": {
   "application/vnd.jupyter.widget-state+json": {
    "state": {
     "1062835541744cd6a116f5668c454580": {
      "model_module": "@jupyter-widgets/base",
      "model_module_version": "2.0.0",
      "model_name": "LayoutModel",
      "state": {}
     },
     "16dc89ab88204cdba337e7feafbcaf70": {
      "model_module": "@jupyter-widgets/controls",
      "model_module_version": "2.0.0",
      "model_name": "HBoxModel",
      "state": {
       "children": [
        "IPY_MODEL_db953fb98da04951a4160074974751ac",
        "IPY_MODEL_17ee4b76f6a846b7bc322ce3649dfc6d",
        "IPY_MODEL_4acd96cbd197457f81dc47bb6646758b"
       ],
       "layout": "IPY_MODEL_8801840fca124c92a2aa782597d85d66"
      }
     },
     "17ee4b76f6a846b7bc322ce3649dfc6d": {
      "model_module": "@jupyter-widgets/controls",
      "model_module_version": "2.0.0",
      "model_name": "FloatProgressModel",
      "state": {
       "layout": "IPY_MODEL_767aa838a5a44707bdfcf0cd6e6b3439",
       "max": 20,
       "style": "IPY_MODEL_7106ee82893240288d0b9d7c2058e672",
       "value": 20
      }
     },
     "271231df183c41cb9f4fe76aa533d1be": {
      "model_module": "@jupyter-widgets/controls",
      "model_module_version": "2.0.0",
      "model_name": "FloatProgressModel",
      "state": {
       "layout": "IPY_MODEL_4ba57ebc725d4cfb8ac1e964b3892a28",
       "max": 20,
       "style": "IPY_MODEL_2e3d1e142a2f4ab78271af979b93c7e6",
       "value": 20
      }
     },
     "2b83fdde44214451895d60102da4884f": {
      "model_module": "@jupyter-widgets/controls",
      "model_module_version": "2.0.0",
      "model_name": "HTMLStyleModel",
      "state": {
       "description_width": "",
       "font_size": null,
       "text_color": null
      }
     },
     "2e3d1e142a2f4ab78271af979b93c7e6": {
      "model_module": "@jupyter-widgets/controls",
      "model_module_version": "2.0.0",
      "model_name": "ProgressStyleModel",
      "state": {
       "description_width": ""
      }
     },
     "36b07ea9cda548a28e756a3a3c548cdf": {
      "model_module": "@jupyter-widgets/base",
      "model_module_version": "2.0.0",
      "model_name": "LayoutModel",
      "state": {}
     },
     "3da47cb4f3674410995584c0712a57fd": {
      "model_module": "@jupyter-widgets/base",
      "model_module_version": "2.0.0",
      "model_name": "LayoutModel",
      "state": {}
     },
     "3e1ece76faa6459bb1a30b3c0ac5de29": {
      "model_module": "@jupyter-widgets/controls",
      "model_module_version": "2.0.0",
      "model_name": "FloatProgressModel",
      "state": {
       "layout": "IPY_MODEL_3da47cb4f3674410995584c0712a57fd",
       "max": 20,
       "style": "IPY_MODEL_a6da4c35772d4704bddb2ba96369677f",
       "value": 20
      }
     },
     "4acd96cbd197457f81dc47bb6646758b": {
      "model_module": "@jupyter-widgets/controls",
      "model_module_version": "2.0.0",
      "model_name": "HTMLModel",
      "state": {
       "layout": "IPY_MODEL_36b07ea9cda548a28e756a3a3c548cdf",
       "style": "IPY_MODEL_623fb0be2aee4e78a24572fa060217de",
       "value": " 21/? (0.0 seconds remaining at  4.98 frames/s)"
      }
     },
     "4b40922f05344d139f3e939b39d17c52": {
      "model_module": "@jupyter-widgets/controls",
      "model_module_version": "2.0.0",
      "model_name": "HTMLModel",
      "state": {
       "layout": "IPY_MODEL_1062835541744cd6a116f5668c454580",
       "style": "IPY_MODEL_7073b3c75865405fbcac806cfa19ff23",
       "value": " 20/20 (0.0 seconds remaining at 10.91 frames/s)"
      }
     },
     "4ba57ebc725d4cfb8ac1e964b3892a28": {
      "model_module": "@jupyter-widgets/base",
      "model_module_version": "2.0.0",
      "model_name": "LayoutModel",
      "state": {}
     },
     "4dac55a854324190bd815445cbea3caf": {
      "model_module": "@jupyter-widgets/controls",
      "model_module_version": "2.0.0",
      "model_name": "HTMLStyleModel",
      "state": {
       "description_width": "",
       "font_size": null,
       "text_color": null
      }
     },
     "4e6406b4cfa142fcbf756a623e08a18c": {
      "model_module": "@jupyter-widgets/controls",
      "model_module_version": "2.0.0",
      "model_name": "HTMLModel",
      "state": {
       "layout": "IPY_MODEL_f08d24a994c04c51901791cfc71a6973",
       "style": "IPY_MODEL_2b83fdde44214451895d60102da4884f",
       "value": " 21/? (0.0 seconds remaining at  9.15 frames/s)"
      }
     },
     "5b812924c43c4a599cacb772a51c74da": {
      "model_module": "@jupyter-widgets/controls",
      "model_module_version": "2.0.0",
      "model_name": "HTMLStyleModel",
      "state": {
       "description_width": "",
       "font_size": null,
       "text_color": null
      }
     },
     "623fb0be2aee4e78a24572fa060217de": {
      "model_module": "@jupyter-widgets/controls",
      "model_module_version": "2.0.0",
      "model_name": "HTMLStyleModel",
      "state": {
       "description_width": "",
       "font_size": null,
       "text_color": null
      }
     },
     "7073b3c75865405fbcac806cfa19ff23": {
      "model_module": "@jupyter-widgets/controls",
      "model_module_version": "2.0.0",
      "model_name": "HTMLStyleModel",
      "state": {
       "description_width": "",
       "font_size": null,
       "text_color": null
      }
     },
     "7106ee82893240288d0b9d7c2058e672": {
      "model_module": "@jupyter-widgets/controls",
      "model_module_version": "2.0.0",
      "model_name": "ProgressStyleModel",
      "state": {
       "description_width": ""
      }
     },
     "767aa838a5a44707bdfcf0cd6e6b3439": {
      "model_module": "@jupyter-widgets/base",
      "model_module_version": "2.0.0",
      "model_name": "LayoutModel",
      "state": {}
     },
     "7a9b7293e7df46df82a8397d72dda277": {
      "model_module": "@jupyter-widgets/controls",
      "model_module_version": "2.0.0",
      "model_name": "HTMLStyleModel",
      "state": {
       "description_width": "",
       "font_size": null,
       "text_color": null
      }
     },
     "8801840fca124c92a2aa782597d85d66": {
      "model_module": "@jupyter-widgets/base",
      "model_module_version": "2.0.0",
      "model_name": "LayoutModel",
      "state": {}
     },
     "91eca70a942e4c3c839d3817556b46ab": {
      "model_module": "@jupyter-widgets/controls",
      "model_module_version": "2.0.0",
      "model_name": "HTMLModel",
      "state": {
       "layout": "IPY_MODEL_a4547009d7814051a7ff25da4923231d",
       "style": "IPY_MODEL_4dac55a854324190bd815445cbea3caf",
       "value": "100%"
      }
     },
     "a4547009d7814051a7ff25da4923231d": {
      "model_module": "@jupyter-widgets/base",
      "model_module_version": "2.0.0",
      "model_name": "LayoutModel",
      "state": {}
     },
     "a52a3e9eac2c4898a61d1bf581544d9e": {
      "model_module": "@jupyter-widgets/base",
      "model_module_version": "2.0.0",
      "model_name": "LayoutModel",
      "state": {}
     },
     "a6da4c35772d4704bddb2ba96369677f": {
      "model_module": "@jupyter-widgets/controls",
      "model_module_version": "2.0.0",
      "model_name": "ProgressStyleModel",
      "state": {
       "description_width": ""
      }
     },
     "b6265c1d1e8646b28165356a0b2744fb": {
      "model_module": "@jupyter-widgets/controls",
      "model_module_version": "2.0.0",
      "model_name": "HTMLModel",
      "state": {
       "layout": "IPY_MODEL_a52a3e9eac2c4898a61d1bf581544d9e",
       "style": "IPY_MODEL_5b812924c43c4a599cacb772a51c74da"
      }
     },
     "b7fffa8b716542d382e3a2dd6cdde791": {
      "model_module": "@jupyter-widgets/base",
      "model_module_version": "2.0.0",
      "model_name": "LayoutModel",
      "state": {}
     },
     "b8d3d2bab24d4d2eb46eb295f3603d85": {
      "model_module": "@jupyter-widgets/base",
      "model_module_version": "2.0.0",
      "model_name": "LayoutModel",
      "state": {}
     },
     "c215c3ba52cb4114a7dbad6e94bb44bd": {
      "model_module": "@jupyter-widgets/controls",
      "model_module_version": "2.0.0",
      "model_name": "HBoxModel",
      "state": {
       "children": [
        "IPY_MODEL_b6265c1d1e8646b28165356a0b2744fb",
        "IPY_MODEL_271231df183c41cb9f4fe76aa533d1be",
        "IPY_MODEL_4e6406b4cfa142fcbf756a623e08a18c"
       ],
       "layout": "IPY_MODEL_c5da413d0ca5485eb1cbdcb42292bbc6"
      }
     },
     "c5da413d0ca5485eb1cbdcb42292bbc6": {
      "model_module": "@jupyter-widgets/base",
      "model_module_version": "2.0.0",
      "model_name": "LayoutModel",
      "state": {}
     },
     "db953fb98da04951a4160074974751ac": {
      "model_module": "@jupyter-widgets/controls",
      "model_module_version": "2.0.0",
      "model_name": "HTMLModel",
      "state": {
       "layout": "IPY_MODEL_b8d3d2bab24d4d2eb46eb295f3603d85",
       "style": "IPY_MODEL_7a9b7293e7df46df82a8397d72dda277"
      }
     },
     "f08d24a994c04c51901791cfc71a6973": {
      "model_module": "@jupyter-widgets/base",
      "model_module_version": "2.0.0",
      "model_name": "LayoutModel",
      "state": {}
     },
     "f92cac56cb444b0eb04ffde374bc620d": {
      "model_module": "@jupyter-widgets/controls",
      "model_module_version": "2.0.0",
      "model_name": "HBoxModel",
      "state": {
       "children": [
        "IPY_MODEL_91eca70a942e4c3c839d3817556b46ab",
        "IPY_MODEL_3e1ece76faa6459bb1a30b3c0ac5de29",
        "IPY_MODEL_4b40922f05344d139f3e939b39d17c52"
       ],
       "layout": "IPY_MODEL_b7fffa8b716542d382e3a2dd6cdde791"
      }
     }
    },
    "version_major": 2,
    "version_minor": 0
   }
  }
 },
 "nbformat": 4,
 "nbformat_minor": 5
}

{
 "cells": [
  {
   "cell_type": "markdown",
   "metadata": {},
   "source": [
    "# Title: Customising intertidal exposure calculations TODO: update <img align=\"right\" src=\"../Supplementary_data/dea_logo.jpg\">\n",
    "\n",
    "* [**Sign up to the DEA Sandbox**](https://docs.dea.ga.gov.au/setup/sandbox.html) to run this notebook interactively from a browser\n",
    "* **Compatibility:** Notebook currently compatible with both the `NCI` and `DEA Sandbox` environments\n",
    "* **Products used:** \n",
    "[s2a_ard_granule](https://explorer.sandbox.dea.ga.gov.au/s2a_ard_granule), \n",
    "[s2b_ard_granule](https://explorer.sandbox.dea.ga.gov.au/s2b_ard_granule),\n",
    "[ga_ls5t_ard_3](https://explorer.sandbox.dea.ga.gov.au/ga_ls5t_ard_3),\n",
    "[ga_ls7e_ard_3](https://explorer.sandbox.dea.ga.gov.au/ga_ls7e_ard_3),\n",
    "[ga_ls8c_ard_3](https://explorer.sandbox.dea.ga.gov.au/ga_ls8c_ard_3)\n",
    "* **Special requirements:** An _optional_ description of any special requirements, e.g. If running on the [NCI](https://nci.org.au/), ensure that `module load otps` is run prior to launching this notebook\n",
    "* **Prerequisites:** An _optional_ list of any notebooks that should be run or content that should be understood prior to launching this notebook\n"
   ]
  },
  {
   "cell_type": "markdown",
   "metadata": {},
   "source": [
    "## Background - Introduction to the Exposure calculation method\n",
    "\n",
    "The intertidal exposure dataset models the aerial exposure time of any intertidal pixel in the DEA Intertidal Product Suite.\n",
    "\n",
    "The intertidal exposure calculation is dependent on two inputs, available as part of the DEA Intertidal Product Suite and associated tools: \n",
    "1) an intertidal elevation model\n",
    "2) high temporal and spatial resolution tide modelling\n",
    "\n",
    "### TODO - flesh out conceptual diagram and explain what the various filter options are\n"
   ]
  },
  {
   "cell_type": "markdown",
   "metadata": {},
   "source": [
    "## Description\n",
    "\n",
    "This notebook outlines the general methodology required to calculate intertidal exposure and demonstrates how tailored calculations can be used to investigate specific temporal or spatial influences on exposure times in intertidal ecosystems.\n",
    "\n",
    "In this notebook, users will:\n",
    "1. Use a conceptual model to understand how the intertidal exposure calculation is derived\n",
    "2. Through the use of case studies in a given area of interest, calculate:\n",
    "\n",
    "    - Full exposure characteristics\n",
    "    - Temporally filtered exposure characteristics (e.g. wet-season exposure)\n",
    "    - Spatially filtered exposure characteristics (e.g. high or low tide exposure times)\n",
    "    - Spatiotemporal filtered exposure characteristics (e.g. wet-season high-tide exposure)\n",
    "\n",
    "***"
   ]
  },
  {
   "cell_type": "markdown",
   "metadata": {},
   "source": [
    "### Getting started\n",
    "\n",
    "Provide any particular instructions that the user might need, e.g. To run this analysis, run all the cells in the notebook, starting with the \"Load packages\" cell. "
   ]
  },
  {
   "cell_type": "markdown",
   "metadata": {},
   "source": [
    "### Load packages\n",
    "Import Python packages that are used for the analysis.\n",
    "\n",
    "Use standard import commands; some are shown below. \n",
    "Begin with any `iPython` magic commands, followed by standard Python packages, then any additional functionality you need from the `Scripts` directory."
   ]
  },
  {
   "cell_type": "code",
   "execution_count": null,
   "metadata": {
    "tags": []
   },
   "outputs": [],
   "source": [
    "## Temporary cell - set the working directory to ensure links work properly.\n",
    "%cd /home/jovyan/dea_intertidal/dea-intertidal"
   ]
  },
  {
   "cell_type": "code",
   "execution_count": null,
   "metadata": {
    "tags": []
   },
   "outputs": [],
   "source": [
    "## Temporary cell - Install additional packages directly from the requirements file\n",
    "%pip install -r requirements.in --quiet"
   ]
  },
  {
   "cell_type": "code",
   "execution_count": null,
   "metadata": {},
   "outputs": [],
   "source": [
    "%load_ext autoreload\n",
    "%autoreload 2\n",
    "\n",
    "import os\n",
    "import pandas as pd\n",
    "import numpy as np\n",
    "import xarray as xr\n",
    "import matplotlib.pyplot as plt\n",
    "import geopandas as gpd\n",
    "from ipyleaflet import basemaps, basemap_to_tiles\n",
    "import shapely\n",
    "\n",
    "import datacube\n",
    "import odc.geo.xr\n",
    "# from odc.geo.geom import Geometry, BoundingBox\n",
    "from datacube.utils.geometry import Geometry\n",
    "from odc.algo import mask_cleanup\n",
    "from odc.ui import select_on_a_map\n",
    "\n",
    "from intertidal.utils import (\n",
    "    round_date_strings,\n",
    "    export_intertidal_rasters,\n",
    "    intertidal_hillshade,\n",
    "                            )\n",
    "from intertidal.tide_modelling import pixel_tides_ensemble\n",
    "from intertidal.elevation import load_data, load_topobathy, elevation\n",
    "# from intertidal.extents import extents\n",
    "from intertidal.exposure import exposure\n",
    "# from intertidal.tidal_bias_offset import bias_offset, tidal_offset_tidelines \n",
    "\n",
    "from dea_tools.dask import create_local_dask_cluster"
   ]
  },
  {
   "cell_type": "markdown",
   "metadata": {},
   "source": [
    "### Connect to the datacube\n",
    "\n",
    "Connect to the datacube so we can access DEA data.\n",
    "The `app` parameter is a unique name for the analysis which is based on the notebook file name."
   ]
  },
  {
   "cell_type": "code",
   "execution_count": null,
   "metadata": {},
   "outputs": [],
   "source": [
    "dc = datacube.Datacube(app='Customising_Intertidal_Exposure')"
   ]
  },
  {
   "cell_type": "markdown",
   "metadata": {},
   "source": [
    "### Analysis parameters\n",
    "\n",
    "An *optional* section to inform the user of any parameters they'll need to configure to run the notebook:\n",
    "\n",
    "* `param_name_1`: Simple description (e.g. `example_value`). Advice about appropriate values to choose for this parameter.\n",
    "* `param_name_2`: Simple description (e.g. `example_value`). Advice about appropriate values to choose for this parameter.\n"
   ]
  },
  {
   "cell_type": "code",
   "execution_count": null,
   "metadata": {},
   "outputs": [],
   "source": [
    "# Intertidal Elevation variables\n",
    "start_date = \"2019\"  # Start date for analysis\n",
    "end_date = \"2021\"  # End date for analysis\n",
    "resolution = 300  # Spatial resolution used for output files\n",
    "crs = \"EPSG:3577\"  # Coordinate Reference System (CRS) to use for output files\n",
    "ndwi_thresh = 0.1  # Threshold used to identify dry/wet transition\n",
    "include_s2 = True  # Include Sentinel-2 data in the analysis?\n",
    "include_ls = True  # Include Landsat data in the analysis?\n",
    "filter_gqa = True  # Filter to remove poorly georeferenced scenes?\n",
    "tide_model = \"ensemble\"  # Tide model to use in analysis\n",
    "tide_model_dir = \"/gdata1/data/tide_models_clipped\"\n",
    "\n",
    "# Intertidal Exposure variables\n",
    "modelled_freq = \"3h\"  # Frequency to run tidal model e.g '30min' or '1h'\n",
    "# filters=[None] # Exposure filters.\n",
    "# filters_combined = None ## Must be a list of tuples containing one temporal and spatial filter each\n",
    "\n",
    "# Load coordinates for the analysis area of interest\n",
    "# These coordinates are for an intertidal seagrass bed in the Port of Gladstone, QLD\n",
    "study_area = 'Gladstone'\n",
    "minx,miny = -23.85698, 151.31254\n",
    "maxx, maxy = -23.87690, 151.33443\n",
    "aoi_crs = 'EPSG:4326'"
   ]
  },
  {
   "cell_type": "code",
   "execution_count": null,
   "metadata": {
    "tags": []
   },
   "outputs": [],
   "source": [
    "# ?Geom"
   ]
  },
  {
   "cell_type": "code",
   "execution_count": null,
   "metadata": {
    "tags": []
   },
   "outputs": [],
   "source": [
    "# %store -r geom\n",
    "# ?geom"
   ]
  },
  {
   "cell_type": "code",
   "execution_count": null,
   "metadata": {
    "tags": []
   },
   "outputs": [],
   "source": [
    "# # Load the data to calculate intertidal datasets\n",
    "\n",
    "# %time\n",
    "\n",
    "# # Generate the geometry for the area of interest\n",
    "# # Geom = shapely.Polygon(((minx, miny),(minx,maxy),(maxx, maxy),(maxx,miny)))\n",
    "# Geom = shapely.Polygon(((miny, maxx),(miny,minx),(maxy, minx),(maxy,maxx)))\n",
    "# Geom = Geometry(Geom, crs=aoi_crs)\n",
    "\n",
    "# # Connect to datacube\n",
    "# # dc = datacube.Datacube(app=\"Intertidal_elevation\")"
   ]
  },
  {
   "cell_type": "code",
   "execution_count": null,
   "metadata": {
    "tags": []
   },
   "outputs": [],
   "source": [
    "# Create local dask cluster to improve data load time\n",
    "client = create_local_dask_cluster(return_client=True)\n",
    "\n",
    "satellite_ds = load_data(\n",
    "    dc=dc,\n",
    "    study_area=study_area,\n",
    "    geom=Geom,\n",
    "    time_range=(start_date, end_date),\n",
    "    resolution=resolution,\n",
    "    crs=crs,\n",
    "    include_s2=True,\n",
    "    include_ls=True,\n",
    "    filter_gqa=filter_gqa,\n",
    "    max_cloudcover=90,\n",
    "    skip_broken_datasets=True,\n",
    ")\n",
    "\n",
    "print(satellite_ds)\n",
    "\n",
    "# Load data\n",
    "satellite_ds.load()"
   ]
  },
  {
   "cell_type": "markdown",
   "metadata": {},
   "source": [
    "## Load Data\n",
    "Plan: load data over Gladstone Harbour QLD. Use indexed elevation datasets with exposure codes and tide modelling."
   ]
  },
  {
   "cell_type": "markdown",
   "metadata": {},
   "source": [
    "## Calculate all epoch exposure\n",
    "Plan: calculate exposure for all timesteps in the epoch. Briefly interpret results. Segue into case study examples."
   ]
  },
  {
   "cell_type": "markdown",
   "metadata": {},
   "source": [
    "## Case study 1 - temporal filtering of exposure\n",
    "TODO - intertidal seagrass growing season example."
   ]
  },
  {
   "cell_type": "markdown",
   "metadata": {},
   "source": [
    "## Case study 2 - spatial filtering of exposure\n",
    "\n",
    "Scenario: The 2024 QLD DES/DCCEEW Wetland Management Strategy identified goals and future directions for wetland management in Queensland.\n",
    "These environments are critical to the success of shorebirds, including many migratory species and a wide range of seabirds.\n",
    "The wetland management strategy identified two objectives relating to the mapping of shorebird habitat in Queensland:\n",
    "1) Map and make available the location and shorebird use of high tide roost site information\n",
    "2) Map and make available the location and shorebird use of shorebird feeding areas.\n",
    "\n",
    "In this example, users will calculate intertidal exposure during average hightide periods to inform shorebird high tide roost site mapping.\n",
    "Following this, the exercise will be repeated for average lowtide periods to inform calculations of foraging time and occupation space in low tide environments which are critical feeding environments for shore and sea birds.\n"
   ]
  },
  {
   "cell_type": "markdown",
   "metadata": {
    "tags": []
   },
   "source": [
    "## Case study 3 - spatiotemporal filtering of exposure\n",
    "\n",
    "Building upon the seabird example from case study 2, in this example, also filter data for periods of migratory seabird presence in habitat areas of interest."
   ]
  },
  {
   "cell_type": "markdown",
   "metadata": {},
   "source": [
    "***\n",
    "\n",
    "## Additional information\n",
    "\n",
    "**License:** The code in this notebook is licensed under the [Apache License, Version 2.0](https://www.apache.org/licenses/LICENSE-2.0). \n",
    "Digital Earth Australia data is licensed under the [Creative Commons by Attribution 4.0](https://creativecommons.org/licenses/by/4.0/) license.\n",
    "\n",
    "**Contact:** If you need assistance, please post a question on the [Open Data Cube Slack channel](http://slack.opendatacube.org/) or on the [GIS Stack Exchange](https://gis.stackexchange.com/questions/ask?tags=open-data-cube) using the `open-data-cube` tag (you can view previously asked questions [here](https://gis.stackexchange.com/questions/tagged/open-data-cube)).\n",
    "If you would like to report an issue with this notebook, you can file one on [Github](https://github.com/GeoscienceAustralia/dea-notebooks).\n",
    "\n",
    "**Last modified:** September 2021\n",
    "\n",
    "**Compatible datacube version:** "
   ]
  },
  {
   "cell_type": "code",
   "execution_count": null,
   "metadata": {},
   "outputs": [],
   "source": [
    "print(datacube.__version__)"
   ]
  },
  {
   "cell_type": "markdown",
   "metadata": {},
   "source": [
    "## Tags\n",
    "Browse all available tags on the DEA User Guide's [Tags Index](https://docs.dea.ga.gov.au/genindex.html)"
   ]
  },
  {
   "cell_type": "raw",
   "metadata": {
    "raw_mimetype": "text/restructuredtext"
   },
   "source": [
    "**Tags**: :index:`NCI compatible`, :index:`sandbox compatible`, :index:`sentinel 2`, :index:`landsat 8`, :index:`rgb`, :index:`NDVI`, :index:`time series`"
   ]
  }
 ],
 "metadata": {
  "kernelspec": {
   "display_name": "Python 3 (ipykernel)",
   "language": "python",
   "name": "python3"
  },
  "language_info": {
   "codemirror_mode": {
    "name": "ipython",
    "version": 3
   },
   "file_extension": ".py",
   "mimetype": "text/x-python",
   "name": "python",
   "nbconvert_exporter": "python",
   "pygments_lexer": "ipython3",
   "version": "3.10.13"
  },
  "widgets": {
   "application/vnd.jupyter.widget-state+json": {
    "state": {},
    "version_major": 2,
    "version_minor": 0
   }
  }
 },
 "nbformat": 4,
 "nbformat_minor": 4
}

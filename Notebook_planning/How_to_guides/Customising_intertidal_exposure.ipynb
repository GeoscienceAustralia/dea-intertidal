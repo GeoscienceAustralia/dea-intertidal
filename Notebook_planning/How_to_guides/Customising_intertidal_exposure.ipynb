{
 "cells": [
  {
   "cell_type": "markdown",
   "metadata": {
    "tags": []
   },
   "source": [
    "# Customising intertidal exposure calculations <img align=\"right\" src=\"../Supplementary_data/dea_logo.jpg\">\n",
    "\n",
    "* [**Sign up to the DEA Sandbox**](https://docs.dea.ga.gov.au/setup/sandbox.html) to run this notebook interactively from a browser\n",
    "* **Compatibility:** Notebook currently compatible with the `DEA Sandbox` environment\n",
    "* **Products used:** \n",
    "[ga_s2ls_intertidal_cyear_3](https://knowledge.dea.ga.gov.au/data/product/dea-intertidal/),\n",
    "[ga_ls8cls9c_gm_cyear_3](https://explorer.dea.ga.gov.au/products/ga_ls8cls9c_gm_cyear_3)\n",
    "<!-- * **Special requirements:** An _optional_ description of any special requirements, e.g. If running on the [NCI](https://nci.org.au/), ensure that `module load otps` is run prior to launching this notebook\n",
    "* **Prerequisites:** An _optional_ list of any notebooks that should be run or content that should be understood prior to launching this notebook -->\n"
   ]
  },
  {
   "cell_type": "markdown",
   "metadata": {
    "tags": []
   },
   "source": [
    "## Background\n",
    "### Intertidal Exposure\n",
    "\n",
    "Intertidal coastlines support a wide array of habitats and coastal and marine species.\n",
    "Low energy tidal flats often support mangrove and seagrass habitats which in turn play host to sea birds, mammals and reptiles. \n",
    "Tropical and subtropical intertidal coral reefs provide habitat, food and shelter, soft sediment coastlines support microphytobenthos and intertidal algaes are ubiquitously distributed across Australia.\n",
    "\n",
    "The combined effects of tide, sun and air make intertidal environments one of the most dynamic places to live on Earth.\n",
    "Consequently, ecological niches exist within these environments where optimal conditions can be changeable over timescales that range from daily to seasonally and beyond.\n",
    "Seagrass, coral and algae, for instance, all experience decline in varying combination with the season, level of solar irradiance and air temperature.\n",
    "The prevalence of these species in intertidal habitats can further influence the presence and distribution of other intertidal occupying species, such as seabirds and dugongs.\n",
    "<!-- Seagrass, coral and algae have all been found to decline under conditions of high solar irradiance when combined with air temperature and aerial exposure.\n",
    "Declines in seagrass biomass are high from summer through to winter while algae dessication and stress occurs when exposure corresponds to coupled high irradiance and high air temperature during warmer months.\n",
    "Coversely, intertidal corals experience a seasonal mortality risk that peaks in early spring when exposure during seasonally low tides combines high irradiance and low air temperatures. -->\n",
    "\n",
    "<!-- Temporal differences in intertidal exposure patterns also affect marine fauna in coastal environments.\n",
    "For instance, seagrass dominated intertidal habitats provide foraging ground for turtles and dugongs.\n",
    "The daily occurrence of exposure in these environments dictates the time available to these species to forage the nitrogren rich seagrasses of elevated intertidal areas.\n",
    "Typically, these species forage intertidal areas during night-time high-tides.\n",
    "Seasonal shifts in the timing of night-time high-tides can significantly influence available foraging times across the year. -->\n",
    "\n",
    "Intertidal exposure describes the amount of time that intertidal areas are exposed to air from tide coverage.\n",
    "Leveraging intertidal elevation mapping, the exposure calculation translates high resolution tidal modelling to determine percentage exposure times for intertidal regions, at 10<sup>2</sup> m resolution.\n",
    "Exploiting the local influences of tidal harmonic inputs into global tidal modelling, intertidal exposure mapping can tease out exposure patterns over temporal scales such as day, night or season.\n",
    "\n",
    "Mapping the exposure dynamics of intertidal areas and contrasting their patterns of change over varying timescales supports our ability to further characterise and understand intertidal habitats.\n",
    "Supporting a vast array of important marine species, it also offers insights into how exposure patterns influence species behaviours and distributions over short to long timescales.\n"
   ]
  },
  {
   "cell_type": "markdown",
   "metadata": {},
   "source": [
    "## Description\n",
    "\n",
    "This notebook outlines the general methodology required to calculate intertidal exposure and demonstrates how tailored calculations can be used to investigate specific temporal or spatial influences on exposure times in intertidal ecosystems.\n",
    "\n",
    "In this notebook, users will:\n",
    "1. Use a conceptual model to understand how the intertidal exposure calculation is derived\n",
    "2. Through the use of case studies in a given area of interest, calculate:\n",
    "\n",
    "    - Full exposure characteristics\n",
    "    - Seasonally filtered exposure characteristics\n",
    "    - Combined seasonal and daily exposure characteristics\n",
    "    - Inverted exposure to calculate monthly, night time inundation characteristics\n",
    "***"
   ]
  },
  {
   "cell_type": "markdown",
   "metadata": {},
   "source": [
    "### Introduction to the Intertidal Exposure calculation method\n",
    "\n",
    "DEA Intertidal Exposure models the percentage of time that any intertidal pixel of known elevation is exposed from tidal inundation. \n",
    "Exposure is calculated by comparing the pixel elevation back against a high temporal resolution model of tide heights for that location, based on an ensemble tidal modelling approach. \n",
    "Exposure percentage is calculated as the fraction of tidally exposed observations (those lower than the target elevation) relative to the total number of tide model observations, generated for the 3-year product epoch.\n",
    "\n",
    "This is demonstrated in the figure below where panel a shows the digital elevation model, produced for the three year epoch spanning 2016 for Carnot Bay in Western Australia.\n",
    "A high temporal resolution tide model was generated at 30 minute intervals for the same temporal epoch (panel b).\n",
    "Intertidal exposure (panel c) is calculated from the cumulative percentage distribution (panel d) of modelled tide heights (panel b).\n",
    "For any intertidal elevation in the area of interest (panel a), the percentile distribution of modelled tide heights (panel d) equates to the fraction of modelled tide heights (panel b) that were exposed during the modelled epoch.\n",
    "Where percentile of modelled tide heights (panel d) is used as a proxy for time, \n",
    "<p style=\"text-align: center;\"> Exposure <sub>Elevation z</sub> = Tide  height  percentile * 100 %</p>\n",
    "In panel d, this is demonstrated by the grey-dashed line, where\n",
    "<p style=\"text-align: center;\"> Exposure <sub>-1.0 msl</sub> =0.3 * 100 = 30 %</p>\n",
    "In other words, 30 % of tide heights, modelled at 30 min intervals between 1 Jan 2015 and 31 Dec 2017 (panel b), occur at or below intertidal elevations of -1.0 msl, meaning this elevation is exposed from inundation for 30 % of the modelled time period (panel d).\n",
    "\n",
    "\n",
    "<img src=\"https://app.sandbox.dea.ga.gov.au/user/claire.phillips@ga.gov.au/files/dea_intertidal/dea-intertidal/Notebook_planning/How_to_guides/Conceptual_model.png?_xsrf=MnwxOjB8MTA6MTcyMjIwOTI0NXw1Ol94c3JmfDEzMjpaamRoWkRkaE5tVmpNV0UzTkRjNU1EbGhOak5tT0daaU9XRmhaR0l4TjJNNllUTmxaVFl3TVRWaFpqQmhNams0TkRrM016azRaR0ZtTUdSall6ZGpPRFV5WldVM01tVTRNamt5TnpjNVl6VXpaVGt6WXpZNU5qUTJaVFl6T0dZM01nPT18ZmYyYmUxZTNmNTQ5NzRiODUxNGI0MmQzNzQ2ZTM0MTUxMjY5OGNkZTFlNjI1NDg2ZjQ1YmJiNTBjNTJlYjZjZQ\" width=\"700\" style=\"display: block; margin: auto;\"/>"
   ]
  },
  {
   "cell_type": "markdown",
   "metadata": {},
   "source": [
    "### Custom filtering of the Intertidal Exposure calculation\n",
    "\n",
    "In addition to modelling exposure for a full time period, the exposure algorithm supports filtering of selected time periods from within the epoch.\n",
    "This enables the exploration of exposure dynamics across a range of custom time periods, including day, night, month and season as well as combinations of time periods, e.g. Daytime-Summer exposure.\n",
    "\n",
    "The animated figure below demonstrates the effect of extraction of time periods of interest from within the tidal model (panel b) on the resultant percentile tide height curve (panel c).\n",
    "Temporal filtering of the exposure model exploits natural changes in the local tide model, influenced by tidal harmonics, local bathymetry and the relative position of the Earth to the moon and sun.\n",
    "The effect of temporal filtering on the exposure maps themselves (panel a) is most pronounced at the upper and lower ends of the modelled tide heights (panel c).\n",
    "Local tide modelling varies widely across Australian coastlines and so the impact of these influences will vary vastly with location.\n"
   ]
  },
  {
   "cell_type": "markdown",
   "metadata": {},
   "source": [
    "<img src=\"https://app.sandbox.dea.ga.gov.au/user/claire.phillips@ga.gov.au/files/dea_intertidal/dea-intertidal/Notebook_planning/How_to_guides/Filter_animation_temporal.gif?_xsrf=MnwxOjB8MTA6MTcyMjIwOTI0NXw1Ol94c3JmfDEzMjpaamRoWkRkaE5tVmpNV0UzTkRjNU1EbGhOak5tT0daaU9XRmhaR0l4TjJNNllUTmxaVFl3TVRWaFpqQmhNams0TkRrM016azRaR0ZtTUdSall6ZGpPRFV5WldVM01tVTRNamt5TnpjNVl6VXpaVGt6WXpZNU5qUTJaVFl6T0dZM01nPT18ZmYyYmUxZTNmNTQ5NzRiODUxNGI0MmQzNzQ2ZTM0MTUxMjY5OGNkZTFlNjI1NDg2ZjQ1YmJiNTBjNTJlYjZjZQ\" width=\"1050\" style=\"display: block; margin: auto;\"/>\n",
    "\n",
    "<!-- ![image](https://app.sandbox.dea.ga.gov.au/user/claire.phillips@ga.gov.au/files/dea_intertidal/dea-intertidal/Notebook_planning/How_to_guides/Filter_animation_temporal.gif?_xsrf=MnwxOjB8MTA6MTcyMjIwOTI0NXw1Ol94c3JmfDEzMjpaamRoWkRkaE5tVmpNV0UzTkRjNU1EbGhOak5tT0daaU9XRmhaR0l4TjJNNllUTmxaVFl3TVRWaFpqQmhNams0TkRrM016azRaR0ZtTUdSall6ZGpPRFV5WldVM01tVTRNamt5TnpjNVl6VXpaVGt6WXpZNU5qUTJaVFl6T0dZM01nPT18ZmYyYmUxZTNmNTQ5NzRiODUxNGI0MmQzNzQ2ZTM0MTUxMjY5OGNkZTFlNjI1NDg2ZjQ1YmJiNTBjNTJlYjZjZQ) -->"
   ]
  },
  {
   "cell_type": "markdown",
   "metadata": {},
   "source": [
    "## Getting started\n",
    "\n",
    "Provide any particular instructions that the user might need, e.g. To run this analysis, run all the cells in the notebook, starting with the \"Load packages\" cell. "
   ]
  },
  {
   "cell_type": "markdown",
   "metadata": {},
   "source": [
    "### Load packages\n",
    "Import Python packages that are used for the analysis.\n",
    "\n",
    "Use standard import commands; some are shown below. \n",
    "Begin with any `iPython` magic commands, followed by standard Python packages, then any additional functionality you need from the `Scripts` directory."
   ]
  },
  {
   "cell_type": "code",
   "execution_count": null,
   "metadata": {
    "tags": []
   },
   "outputs": [],
   "source": [
    "# cd ../..\n",
    "%cd /home/jovyan/dea_intertidal/dea-intertidal"
   ]
  },
  {
   "cell_type": "code",
   "execution_count": null,
   "metadata": {
    "tags": []
   },
   "outputs": [],
   "source": [
    "pip install -r requirements.in --quiet"
   ]
  },
  {
   "cell_type": "code",
   "execution_count": null,
   "metadata": {
    "tags": []
   },
   "outputs": [],
   "source": [
    "%load_ext autoreload\n",
    "%autoreload 2"
   ]
  },
  {
   "cell_type": "code",
   "execution_count": null,
   "metadata": {
    "tags": []
   },
   "outputs": [],
   "source": [
    "\n",
    "import datacube\n",
    "import cmocean\n",
    "import glob\n",
    "import numpy as np\n",
    "import xarray as xr\n",
    "import imageio.v2 as imageio\n",
    "import matplotlib.pyplot as plt\n",
    "from IPython.display import Image\n",
    "from IPython import display\n",
    "from IPython.core.display import Video\n",
    "from ipywidgets import Output, GridspecLayout\n",
    "\n",
    "import odc.geo.xr\n",
    "from datacube.utils.cog import write_cog\n",
    "from datacube.utils.masking import mask_invalid_data\n",
    "from dea_tools.plotting import display_map, xr_animation, rgb\n",
    "\n",
    "from intertidal.exposure import exposure\n",
    "\n"
   ]
  },
  {
   "cell_type": "markdown",
   "metadata": {
    "tags": []
   },
   "source": [
    "### Connect to the datacube\n",
    "\n",
    "Connect to the datacube so we can access DEA data.\n",
    "The `app` parameter is a unique name for the analysis which is based on the notebook file name."
   ]
  },
  {
   "cell_type": "code",
   "execution_count": null,
   "metadata": {
    "tags": []
   },
   "outputs": [],
   "source": [
    "dc = datacube.Datacube(app='Customising_Intertidal_Exposure')"
   ]
  },
  {
   "cell_type": "markdown",
   "metadata": {},
   "source": [
    "## Load Data\n",
    "The following cells will identify the analysis parameters, load satellite and intertidal data and plot the outputs.\n",
    "\n",
    "Queensland's Smithburne River mouth flows into the eastern side of the Gulf of Carpentaria via a growing recurved spit.\n",
    "Its vast and dynamic intertidal area forms part of the extensive East Asian-Australasian Flyway for migratory seabirds in the Gulf of Carpentaria.\n",
    "Recognised as a wetland of national significance, it is also a region that hosts significant patches of seagrass and supports a wide variety of marine mammal and reptile populations in the Gulf."
   ]
  },
  {
   "cell_type": "markdown",
   "metadata": {},
   "source": [
    "### Analysis parameters\n",
    "\n",
    "The Smithburne River is used here to demonstrate how various calculations of intertidal exposure can reveal insights into intertidal environments.\n",
    "Once you have run this notebook through start to finish, try editing the study area and coordinates in the cell below to explore your own small area of interest.\n",
    "\n",
    "* `study_area` : Location name (e.g. `\"Gladstone_Harbour\"`). A name for your area of interest, used to name the exported data files at the end of the analysis\n",
    "* `query_params` : Parameters to define the total area and period of interest\n",
    "    * `y` : Latitude coordinates (e.g. `(-23.74437, -23.78851)`). Decimal degree coordinates for the diagonnally opposite corners of your area of interest\n",
    "    * `x` : Longitude coordinates (e.g. `(151.24299, 151.32091)`). Decimal degree coordinates for the diagonnally opposite corners of your area of interest (corresponding to corners used for `y`\n",
    "    * `time` : Analysis period (e.g. `(\"2016\", \"2022\")`). A single year or pair of years between which, all `DEA Intertidal` datasets will be returned. Note: data can only be requested annually from 2016 onwards."
   ]
  },
  {
   "cell_type": "code",
   "execution_count": null,
   "metadata": {
    "tags": []
   },
   "outputs": [],
   "source": [
    "# Identify your area of interest as degree lat/lon coordinates as well\n",
    "# your nominated time period as start and end dates\n",
    "study_area = \"Smithburne_River_Qld\" # Preferred notebook demo site\n",
    "query_params = dict(y=(-17.05121, -17.10617),\n",
    "                    x=(140.90808, 140.97289),\n",
    "                    time=(\"2016\", \"2022\"))\n",
    "\n",
    "# View the area of interest over a generic basemap. Data will be loaded\n",
    "# inside the red bounding box.\n",
    "display_map(x=query_params[\"x\"], y=query_params[\"y\"])"
   ]
  },
  {
   "cell_type": "code",
   "execution_count": null,
   "metadata": {
    "tags": []
   },
   "outputs": [],
   "source": [
    "# Load DEA Intertidal for the area of interest, and mask out invalid\n",
    "# nodata values\n",
    "ds = dc.load(product=\"ga_s2ls_intertidal_cyear_3\", **query_params)\n",
    "ds = mask_invalid_data(ds)\n",
    "\n",
    "# Additionally, load the blended Landsat 8/9 annual geomedian image for\n",
    "# the area of interest, and mask out invalid nodata values\n",
    "geomad_ds = dc.load(\n",
    "    product=\"ga_ls8cls9c_gm_cyear_3\",\n",
    "    measurements=[\"nbart_red\", \"nbart_green\", \"nbart_blue\"],\n",
    "    resampling=\"cubic\",\n",
    "    like=ds,\n",
    ")\n",
    "geomad_ds = mask_invalid_data(geomad_ds)\n",
    "\n",
    "# Add the geomad data layers into the master dataset\n",
    "\n",
    "ds['red'] = geomad_ds['nbart_red']\n",
    "ds['green'] = geomad_ds['nbart_green']\n",
    "ds['blue'] = geomad_ds['nbart_blue']\n",
    "\n",
    "# Inspect the combined DEA Intertidal and Geomad dataset\n",
    "ds"
   ]
  },
  {
   "cell_type": "markdown",
   "metadata": {},
   "source": [
    "### Plot elevation and exposure for all timesteps"
   ]
  },
  {
   "cell_type": "code",
   "execution_count": null,
   "metadata": {
    "tags": []
   },
   "outputs": [],
   "source": [
    "# Plot each epoch and save in preparation to animate the time-series\n",
    "for date in range(0,len(ds.time -1)):\n",
    "    # Identify a single timestep to inspect\n",
    "    time = np.datetime_as_string(ds.time.values, unit=\"Y\")[date]\n",
    "    \n",
    "    # Setup the figure\n",
    "    fig, axes = plt.subplots(ncols=5, figsize=(20, 4))\n",
    "\n",
    "    # Assign the datasets to the figure\n",
    "    rgb(ds.sel(time=time), bands=[\"red\", \"green\", \"blue\"], ax=axes[0])\n",
    "\n",
    "    rgb(ds.sel(time=time), bands=[\"red\", \"green\", \"blue\"], ax=axes[1], alpha=0.5)\n",
    "    ds.elevation.sel(time=time).plot(ax=axes[1], cmap=\"viridis\", vmin=ds.elevation.min(), vmax=ds.elevation.max())\n",
    "\n",
    "    rgb(ds.sel(time=time), bands=[\"red\", \"green\", \"blue\"], ax=axes[2], alpha=0.5)\n",
    "    ds.exposure.sel(time=time).plot(ax=axes[2], cmap=cmocean.cm.matter_r, vmin=0, vmax=100)\n",
    "\n",
    "    rgb(ds.sel(time=time), bands=[\"red\", \"green\", \"blue\"], ax=axes[3], alpha=0.5)\n",
    "    ds.ta_offset_high.sel(time=time).where(ds.elevation.sel(time=time).notnull()).plot(ax=axes[3],vmin=ds.ta_offset_high.min(),vmax=ds.ta_offset_high.max())#, cmap=\"viridis\")\n",
    "\n",
    "    rgb(ds.sel(time=time), bands=[\"red\", \"green\", \"blue\"], ax=axes[4], alpha=0.5)\n",
    "    ds.ta_offset_low.sel(time=time).where(ds.elevation.sel(time=time).notnull()).plot(ax=axes[4],vmin=ds.ta_offset_low.min(),vmax=ds.ta_offset_low.max())#, cmap=\"viridis\")\n",
    "\n",
    "    labels = [\n",
    "              f\"a) {time} GeoMAD\",\n",
    "              f\"b) {time} Intertidal Elevation\",\n",
    "              f\"c) {time} Intertidal Exposure\",\n",
    "              f\"d) {time} Hightide Offset\",\n",
    "              f\"e) {time} Lowtide Offset\"\n",
    "             ]\n",
    "\n",
    "    for ax, title in zip(axes.reshape(-1), labels):\n",
    "        ax.tick_params(labelbottom=False, labelleft=False, left=False, bottom=False)\n",
    "        ax.set(xlabel=None, ylabel=None)\n",
    "        ax.set_title(title)\n",
    "\n",
    "\n",
    "    plt.tight_layout()\n",
    "    plt.savefig(f'{time}_{study_area}_DEA_Intertidal.png')\n",
    "    plt.close()\n",
    "    \n",
    "# Animate as a gif and view the time-series\n",
    "# List of images to include in the GIF\n",
    "path = '/home/jovyan/dea_intertidal/dea-intertidal'\n",
    "\n",
    "image_files = glob.glob(f'{path}/*_{study_area}*')\n",
    "image_files.sort()\n",
    "\n",
    "# Output path\n",
    "gif_path = 'animated.gif'\n",
    "# Set the frames per second\n",
    "fps = 1\n",
    "# Append each epoch-year as a frame to the gif output\n",
    "with imageio.get_writer(gif_path, mode='I', fps=fps, loop=0) as writer:\n",
    "    for file in image_files:\n",
    "        image = imageio.imread(file)\n",
    "        writer.append_data(image)\n",
    "# View the epoch-time gif        \n",
    "Image(gif_path)"
   ]
  },
  {
   "cell_type": "markdown",
   "metadata": {},
   "source": [
    "### Interpretation\n",
    "\n",
    "The default Smithburne River, QLD, location is located on the eastern banks of Australia's Gulf of Carpentaria.\n",
    "The area of interest for this study is a recurved sand spit which has been developing over recent decades and is being stabilised by the development of mangrove forest.\n",
    "The animation above shows annual changes to intertidal area between 2016 and 2022.\n",
    "Panel a shows the location in satellite imagery.\n",
    "Note that the annual median imagery shows approximately median tide levels, disguising much of the intertidal area.\n",
    "\n",
    "Panels b-e represent some of the intertidal features mapped annually for this location from the DEA Intertidal dataset suite.\n",
    "The intertidal digital elevation model in panel b demonstrates a tide range within approximately +/- 1.5 m above mean sea level.\n",
    "This elevation model is a primary input into the intertidal exposure model (panel c).\n",
    "Intertidal exposure values represent the percentage of time during the epoch that every 10 m<sup>2</sup> pixel was exposed to the air. \n",
    "Although this location appears to represent a fairly complete range of modelled exposure values (%), careful examination shows that extrema values are not captured by this model.\n",
    "This is because there is an offset in satellite image acquisition that fails to capture tide heights at both ends of the tidal spectrum (panels d,e) which gets reflected in the exposure model.\n",
    "This concept is captured by mapping of high and low tide offsets during the epoch of interest (panels d,e).\n",
    "These panels show that satellites failed to image this location during the top 3-9 % of high tides (panel d) and during the bottom 0-7 % of low tides (panel e) during the timeseries.\n",
    "These offsets should be kept in mind when interpreting the spatial outputs of any exposure mapping undertaken using this dataset.\n",
    "\n",
    "## Temporally Filtered Exposure Calculation\n",
    "\n",
    "As demonstrated in the [method](#Background), intertidal exposure is calculated by comparing tide heights from a high temporal resolution tide model to an intertidal digital elevation model.\n",
    "By filtering out time-periods of interest from the tide model, customised exposure maps can be generated.\n",
    "The following case studies explore this application by mapping single and paired filters to explore the influence of seasonality and solar inundation on intertidal exposure.\n",
    "\n",
    "To customise the exposure calculation using temporal filtering, the following options are provided for input into the `filters` parameter of the exposure function.\n",
    "Calculation of multiple filters is supported by inputting filters as a list.\n",
    "Calculation of paired exposure filters is supported by inputting a list of one or more tuples into the `filters_combined` parameter of the exposure function, as demonstrated in the later case studies below.\n",
    "\n",
    "Filters accepted by the exposure algorithm include:\n",
    "* Monthly (e.g. 'Jan', 'Feb', 'Mar' etc)\n",
    "* Austral Season (e.g. 'Summer', 'Autumn', 'Winter' or 'Spring')\n",
    "* Equatorial Season (e.g. 'Dry' or 'Wet')\n",
    "* Solar (e.g. 'Daylight' or 'Night')"
   ]
  },
  {
   "cell_type": "markdown",
   "metadata": {},
   "source": [
    "### Case study 1 - Mapping exposure by season\n",
    "\n",
    "Seasonality is a useful way to explore habitat dynamics when considering migratory seabirds.\n",
    "These global travellers migrate from breeding grounds in Siberia and Alaska, through Asia, to Australia to forage, rest and rebuild their energy reserves each year.\n",
    "Arriving in Australia's north around September annually, these birds disperse across the country, returning to the north around March where they prepare to return to their Northern Hemisphere breeding grounds each year.\n",
    "\n",
    "Migratory seabirds rely heavily on intertidal zones.\n",
    "They are dependent on both the highest elevations to roost and rest and the lowest elevations to forage and feed, preferring best to occupy locations where roosting and foraging grounds are co-located.\n",
    "\n",
    "This example maps the changing exposure dynamics of intertidal areas by season to investigate its influence on seabird occupation space across the year."
   ]
  },
  {
   "cell_type": "code",
   "execution_count": null,
   "metadata": {
    "tags": []
   },
   "outputs": [],
   "source": [
    "# Identify the filters to use to identify datetimes of interest from the high res tidal model\n",
    "filters = ['unfiltered', 'summer', 'autumn', 'winter', 'spring']\n",
    "filters_combined = None\n",
    "\n",
    "# Calculate Exposure using the filtered dates of interest\n",
    "exposure_ds, modelledtides_ds, modelledtides_1d,timeranges, peaks = exposure(\n",
    "    dem=ds.elevation.sel(time=time),\n",
    "    start_date=str(np.datetime64(time) - np.timedelta64(1,'Y')),\n",
    "    end_date=str(np.datetime64(time) + np.timedelta64(1,'Y')),\n",
    "    modelled_freq = '30 min',\n",
    "    filters=filters,\n",
    "    filters_combined=filters_combined,\n",
    ")\n",
    "\n",
    "# Add each filtered dataset as a variable layer in the master dataset 'ds'\n",
    "for x in list(exposure_ds.keys()):\n",
    "    ds[f'exposure_{str(x)}']=exposure_ds[str(x)]\n",
    "\n",
    "# Separate from the master dataset (ds) the variables of interest\n",
    "fc = ['exposure_unfiltered']\n",
    "for e in filters:\n",
    "    fc.append('exposure_'+e)"
   ]
  },
  {
   "cell_type": "code",
   "execution_count": null,
   "metadata": {
    "tags": []
   },
   "outputs": [],
   "source": [
    "# View seasonal exposure for a single year\n",
    "\n",
    "print (f'Mapping seasonal exposure for {time}')\n",
    "\n",
    "fig = ds[fc].to_array().sel(time=time).plot(col='variable', cmap=cmocean.cm.matter_r, vmin=0,vmax=100, add_colorbar=False)\n",
    "\n",
    "for ax,title in zip(fig.axs.flat, fc):\n",
    "    ax.set_title(title)\n",
    "    ax.label_outer()\n",
    "    ax.set_xticklabels(labels=\"\")\n",
    "    ax.set_yticklabels(labels=\"\")\n",
    "    ax.set_xlabel(\"\")\n",
    "    ax.set_ylabel(\"\")\n",
    "\n",
    "fig.add_colorbar(label='Exposure %')\n"
   ]
  },
  {
   "cell_type": "markdown",
   "metadata": {},
   "source": [
    "Visual inspection does not notably differentiate these seasonal outputs from one another.\n",
    "\n",
    "To quantify exposure across the area of interest, sum the number of pixel contributions to a range of exposure 'classes' in the plot below.\n",
    "For simplicity in the plot, we have designated three classes of exposure.\n",
    "\n",
    "* Pixels exposed less than 30 % of the time (approximately low-tide areas)\n",
    "* Pixels exposed between 30 and 70 % of the time (approximately mid-tide areas)\n",
    "* Pixels exposed more than 70 % of the time (approximately high-tide areas)"
   ]
  },
  {
   "cell_type": "code",
   "execution_count": null,
   "metadata": {
    "tags": []
   },
   "outputs": [],
   "source": [
    "# Explore monthly differences in exposure by area\n",
    "\n",
    "# Establish some variables to capture the outputs\n",
    "exp70_100 = []\n",
    "exp30_70 = []\n",
    "exp0_30 = []\n",
    "labels = []\n",
    "  \n",
    "# Separate the exposure datasets into categories and count the pixels per category\n",
    "for x in ds[fc].var():\n",
    "    if 'exp' in x:\n",
    "        # Prepare the labels for the various exposure datasets        \n",
    "        if x == 'exposure':\n",
    "            labels.append(f'Exposure\\nUnfiltered')\n",
    "        if 'exposure_' in x:\n",
    "            y=x.split('ure_')[-1]\n",
    "            if '_' in y:\n",
    "                z=y.split('_')\n",
    "                labels.append(f'Exposure\\n{z[0]}\\n{z[-1]}')\n",
    "            else:\n",
    "                labels.append(f'Exposure\\n{y}')\n",
    "        # Count the number of pixels exposed between 0 and 100 % of filtered time\n",
    "        a=ds[str(x)].sel(time=time).count(dim=(\"x\",\"y\")).values\n",
    "        # Count the number of pixels exposed between 0 and 70 % of filtered time\n",
    "        b=ds[str(x)].sel(time=time).where(ds[str(x)].sel(time=time) < 70).count(dim=(\"x\",\"y\")).values\n",
    "        # Count the number of pixels exposed between 0 and 30 % of filtered time\n",
    "        c = ds[str(x)].sel(time=time).where(ds[str(x)].sel(time=time) <= 30).count(dim=(\"x\",\"y\")).values\n",
    "\n",
    "        # Calculate the pixel count contributions to each class and translate 10m2 pixel counts to area as km2\n",
    "        exp70_100.append(round((a[0]-b[0])*0.0001,2))  \n",
    "        exp30_70.append(round((b[0]-c[0])*0.0001,2))\n",
    "        exp0_30.append(round((c[0])*0.0001,2))\n",
    "\n",
    "# Prepare the summary data to plot\n",
    "\n",
    "exp_counts = {\"Exp >= 70%\": (np.array(exp70_100)),\n",
    "              \"30% < Exp < 70%\": (np.array(exp30_70)),\n",
    "              \"Exp <= 30%\": np.array(exp0_30)}\n",
    "# Set the y-axis minimum for this stacked bar chart\n",
    "bottom = np.zeros(5)\n",
    "# Set the bar width\n",
    "width = 0.8\n",
    "# Set the colour scheme\n",
    "cmap = cmocean.cm.matter_r\n",
    "# Prepare the figure\n",
    "fig, ax = plt.subplots()\n",
    "\n",
    "# Plot the summary datasets on a stacked bar chart.\n",
    "for var, counts in exp_counts.items():\n",
    "    \n",
    "    # Set the colour and transparency for each bar\n",
    "    if var == list(exp_counts.keys())[0]:\n",
    "        color=cmap(1.0)\n",
    "        alpha=1\n",
    "    if var == list(exp_counts.keys())[1]:\n",
    "        color=cmap(0.5)\n",
    "        alpha=1\n",
    "    if var == list(exp_counts.keys())[2]:\n",
    "        color=cmap(0)\n",
    "        alpha=0.8\n",
    "    # Add the bar to the plot\n",
    "    p = ax.bar(labels, counts, width, label=var, bottom=bottom,color=color, alpha=alpha)\n",
    "    # Prepare to stack the next bar\n",
    "    bottom += counts\n",
    "    # Label each bar with its contribution to the total area\n",
    "    ax.bar_label(p, label_type='center')\n",
    "\n",
    "# Prepare the legend\n",
    "ax.legend(loc=\"upper center\",\n",
    "             ncol=3,\n",
    "             bbox_to_anchor=(0.5, -0.2),\n",
    "             frameon=True)\n",
    "\n",
    "# Prepare the labels\n",
    "ax.set_ylabel(\"Area (km2)\")\n",
    "ax.set_xlabel(\"Exposure filter\")\n",
    "\n",
    "# Set the figure subtitle\n",
    "ax.set_title(f\"Exposed area in {time}\")\n",
    "\n",
    "plt.show()"
   ]
  },
  {
   "cell_type": "markdown",
   "metadata": {},
   "source": [
    "#### Interpretation\n",
    "\n",
    "Compared to the all-epoch exposure map, seasonal maps of exposure for this epoch at Smithburne River were not particularly revealing - though slight differences were discernible.\n",
    "Summarising the spatial extent of exposure classes for this area of interest demonstrates why this area forms part of the important staging grounds for seabird arrivals and departures from Australia.\n",
    "\n",
    "When migratory seabirds arrive during the Austral spring, they are hungry and energy-depleted.\n",
    "When they depart during Autumn, they are stock piling energy reserves for their migration to their breeding grounds.\n",
    "In both cases, they are looking to arrive in a location with access to large tidal flats with accessibility during low tide (large areas exposed less than 30 % of the time, using this definition of low tide).\n",
    "At this location, the largest proportions of low tide foraging grounds (exposed less than 30 % of the time) were available during the spring and autumn.\n",
    "Coincidentally, the smallest proportion of low tide foraging ground was available during the Austral summer which may be a contributing factor to continuing seabird migrations across southern Australia during the warmer months.\n",
    "\n",
    "Similarly, high tide areas (exposed for more than 70 % of the time) for roosting were also very slightly greater during spring and autumn."
   ]
  },
  {
   "cell_type": "markdown",
   "metadata": {},
   "source": [
    "### Case study 2 - Mapping daily exposure by season\n",
    "\n",
    "In many locations, tidal harmonics, by their very nature, cause differences in absolute day and night time tide heights.\n",
    "Seasonality and the position of the Earth relative to the sun and moon is also a major influence on these diurnal changes in tide height.\n",
    "\n",
    "This case study uses paired seasonal with daytime filtering of intertidal exposure to explore how intertidal habitats vary across a lunar year.\n",
    "Contextually, intertidal photosynthesisers such as corals (zooxanthellae), seagrasses and algae are all sensitive to the combined effects of solar irradiation and aerial exposure. \n",
    "Paired with annual growing patterns that vary by season, comparing intertidal daytime, seasonal exposure dynamics reveals important insights into the condition and carrying capacities of intertidal habitats across any given year."
   ]
  },
  {
   "cell_type": "code",
   "execution_count": null,
   "metadata": {
    "tags": []
   },
   "outputs": [],
   "source": [
    "# Identify the paired-ilters to use to identify datetimes of interest from the high res tidal model\n",
    "filters = None\n",
    "filters_combined = [(\"daylight\",\"summer\"),(\"daylight\",\"autumn\"),(\"daylight\",\"winter\"),(\"daylight\",\"spring\")]\n",
    "\n",
    "# Use the default settings to calculate a high temporal resolution tide model and\n",
    "# filter out the nominated datetimes to calculate exposure. Default settings\n",
    "# include a tide model frequency of 30 minutes\n",
    "exposure_ds, modelledtides_ds, modelledtides_1d,timeranges, peaks = exposure(\n",
    "    dem=ds.elevation.sel(time=time),\n",
    "    start_date=str(np.datetime64(time) - np.timedelta64(1,'Y')),\n",
    "    end_date=str(np.datetime64(time) + np.timedelta64(1,'Y')),\n",
    "    modelled_freq = '30 min',\n",
    "    filters=filters,\n",
    "    filters_combined=filters_combined,\n",
    ")\n",
    "\n",
    "# Add each filtered dataset as a variable layer in the master dataset 'ds'\n",
    "for x in list(exposure_ds.keys()):\n",
    "    ds[f'exposure_{str(x)}']=exposure_ds[str(x)]\n",
    "    \n",
    "# Separate from the master dataset (ds) the variables of interest\n",
    "fc = ['exposure_unfiltered']\n",
    "for e in filters_combined:\n",
    "    fc.append('exposure_'+e[0]+'_'+e[1])"
   ]
  },
  {
   "cell_type": "code",
   "execution_count": null,
   "metadata": {
    "tags": []
   },
   "outputs": [],
   "source": [
    "# View the filtered outputs\n",
    "\n",
    "print (f'Mapping seasonal exposure for {time}')\n",
    "\n",
    "fig = ds[fc].to_array().sel(time=time).plot(col='variable', cmap=cmocean.cm.matter_r, vmin=0,vmax=100, add_colorbar=False)\n",
    "\n",
    "for ax,title in zip(fig.axs.flat, fc):\n",
    "    ax.set_title(title)\n",
    "    ax.label_outer()\n",
    "    ax.set_xticklabels(labels=\"\")\n",
    "    ax.set_yticklabels(labels=\"\")\n",
    "    ax.set_xlabel(\"\")\n",
    "    ax.set_ylabel(\"\")\n",
    "    \n",
    "fig.add_colorbar(label='Exposure %')"
   ]
  },
  {
   "cell_type": "markdown",
   "metadata": {},
   "source": [
    "Visual inspection of these exposure maps shows that there are clear differences in the distribution of daytime-seasonally filtered exposure times across a lunar year.\n",
    "\n",
    "To quantify the changing areas of daytime exposure with season, we will graph grouped pixel contributions as previously, using the same classes, as follows:\n",
    "\n",
    "* Pixels exposed less than 30 % of the time (approximately low-tide areas)\n",
    "* Pixels exposed between 30 and 70 % of the time (approximately mid-tide areas)\n",
    "* Pixels exposed more than 70 % of the time (approximately high-tide areas)"
   ]
  },
  {
   "cell_type": "code",
   "execution_count": null,
   "metadata": {
    "tags": []
   },
   "outputs": [],
   "source": [
    "# Establish some variables to capture the outputs\n",
    "exp70_100 = []\n",
    "exp30_70 = []\n",
    "exp0_30 = []\n",
    "labels = []\n",
    "    \n",
    "# Separate the exposure datasets into categories and count the pixels per category\n",
    "for x in ds[fc].var():\n",
    "    if 'exp' in x:\n",
    "        # Prepare the labels for the various exposure datasets        \n",
    "        if x == 'exposure':\n",
    "            labels.append(f'Exposure\\nUnfiltered')\n",
    "        if 'exposure_' in x:\n",
    "            y=x.split('ure_')[-1]\n",
    "            if '_' in y:\n",
    "                z=y.split('_')\n",
    "                labels.append(f'Exposure\\n{z[0]}\\n{z[-1]}')\n",
    "            else:\n",
    "                labels.append(f'Exposure\\n{y}')\n",
    "        # Count the number of pixels exposed between 0 and 100 % of filtered time\n",
    "        a=ds[str(x)].sel(time=time).count(dim=(\"x\",\"y\")).values\n",
    "\n",
    "        # Count the number of pixels exposed between 0 and 70 % of filtered time\n",
    "        b=ds[str(x)].sel(time=time).where(ds[str(x)].sel(time=time) < 70).count(dim=(\"x\",\"y\")).values\n",
    "\n",
    "        # Count the number of pixels exposed between 0 and 30 % of filtered time\n",
    "        c = ds[str(x)].sel(time=time).where(ds[str(x)].sel(time=time) <= 30).count(dim=(\"x\",\"y\")).values\n",
    "\n",
    "        # Calculate the pixel count contributions to each class and translate 10m2 pixel counts to area as km2\n",
    "        exp70_100.append(round((a[0]-b[0])*0.0001,2))  \n",
    "        exp30_70.append(round((b[0]-c[0])*0.0001,2))\n",
    "        exp0_30.append(round((c[0])*0.0001,2))\n",
    "\n",
    "# Prepare the summary data to plot\n",
    "\n",
    "exp_counts = {\"Exp >= 70%\": (np.array(exp70_100)),#*0.0001,\n",
    "              \"30% < Exp < 70%\": (np.array(exp30_70)),#*0.0001,\n",
    "              \"Exp <= 30%\": np.array(exp0_30)}#*0.0001}\n",
    "# Set the y-axis minimum for this stacked bar chart\n",
    "bottom = np.zeros(5)\n",
    "# Set the bar width\n",
    "width = 0.8\n",
    "# Set the colour scheme\n",
    "cmap = cmocean.cm.matter_r\n",
    "# Prepare the figure\n",
    "fig, ax = plt.subplots()\n",
    "\n",
    "# Plot the summary datasets on a stacked bar chart.\n",
    "for var, counts in exp_counts.items():\n",
    "    \n",
    "    # Set the colour and transparency for each bar\n",
    "    if var == list(exp_counts.keys())[0]:\n",
    "        color=cmap(1.0)\n",
    "        alpha=1\n",
    "    if var == list(exp_counts.keys())[1]:\n",
    "        color=cmap(0.5)\n",
    "        alpha=1\n",
    "    if var == list(exp_counts.keys())[2]:\n",
    "        color=cmap(0)\n",
    "        alpha=0.8\n",
    "    # Add the bar to the plot\n",
    "    p = ax.bar(labels, counts, width, label=var, bottom=bottom,color=color, alpha=alpha)\n",
    "    # Prepare to stack the next bar\n",
    "    bottom += counts\n",
    "    # Label each bar with its contribution to the total area\n",
    "    ax.bar_label(p, label_type='center')\n",
    "\n",
    "# Prepare the legend\n",
    "ax.legend(loc=\"upper center\",\n",
    "             ncol=3,\n",
    "             bbox_to_anchor=(0.5, -0.2),\n",
    "             frameon=True)\n",
    "\n",
    "# Prepare the labels\n",
    "ax.set_ylabel(\"Area (km2)\")\n",
    "ax.set_xlabel(\"Exposure filter\")\n",
    "\n",
    "# Set the figure subtitle\n",
    "ax.set_title(f\"Exposed area in {time}\")\n",
    "\n",
    "plt.show()"
   ]
  },
  {
   "cell_type": "markdown",
   "metadata": {},
   "source": [
    "#### Interpretation\n",
    "\n",
    "Daytime exposure mapping by season reveals the dynamicism of intertidal environments across a given year.\n",
    "\n",
    "Over the Austral autumn and winter at this location, very little intertidal zone is exposed for more than 70 % of the time (0.31 and 0.38 km<sup>2</sup> respectively).\n",
    "Additionally, over 3/4 of the total intertidal area experiences exposure for less than 30 % of daylight hours during these cooler seasons.\n",
    "In the spring and summer seasons, intertidal area in the medium exposure class (30 < exp < 70 %) has transitioned from the autumn and winter low-exposure classes (< 30 %).\n",
    "Similarly, greater portions of warm-season intertidal area in the highly exposed (> 70 %) class are most-likely sourced from cool season medium-exposure classes.\n",
    "Consequently, warmer seasons (spring and summer) see greater proportions of the intertidal area exposed to the sun and air than cooler seasons (autumn and winter), and large proportions of the intertidal zone is accustomed to being inundated for long periods during the cooler months.\n",
    "\n",
    "These modelled observations align with field observations related to the stress and mortality of many organisms in intertidal zones.\n",
    "For example, [Buckee et al., 2022](https://www.frontiersin.org/journals/marine-science/articles/10.3389/fmars.2022.904191/full) modelled emersion mortality risk in  Australian shallow coral reefs and found that across the continent, emersion related coral-mortality risk was generally greatest during the Australian spring time.\n",
    "Across Australia, causal mechanisms included combinations of mean sea level minima, high incidence of solar irradiation and low daytime air temperatures with exposure time.\n",
    "\n",
    "Similarly, seagrass biomass typically peaks around late spring and begins to decline, with minima observed during winter. \n",
    "Seagrass stress and decline has been observed to occur in combination with aerial exposure and maximum daily solar irradiances [e.g. Petrou et al., 2013](https://www.int-res.com/abstracts/meps/v482/p93-106/). \n",
    "Algaes also decline under similar conditions, with the addition of temperature being shown to cause dessication and stress during periods of exposure [e.g. Yu et al., 2013](https://www.sciencedirect.com/science/article/abs/pii/S1385110113000440).\n",
    "\n",
    "Spatial and temporal mapping of exposure helps to characterise one of the major biophysical influences on species distributions in intertidal habitats.\n",
    "Daytime seasonal exposure mapping is a valuable variable to help explain intertidal species presence and absence across the year."
   ]
  },
  {
   "cell_type": "markdown",
   "metadata": {},
   "source": [
    "### Case study 3 - Mapping nightly inundation by month\n",
    "\n",
    "There is a wide range of temporal filtering options that can be used either singly or paired in the intertidal exposure algorithm.\n",
    "\n",
    "In this case study, we pair night-time with monthly exposure to develop of different understanding of our study site and additionally, convert the values from exposure to inundation.\n",
    "To translate exposure (% time) to inundation (% time), simply subtract the exposure value from 100 %.\n",
    "This returns the inverse proportion of modelled tide heights from the cumulative percentile curve of modelled tide-height observations, as demonstrated in the [method](#Background).\n",
    "\n",
    "Contextually, seagrass dependent foragers, such as dugong, source much of their nutritition from shallow intertidal areas. \n",
    "With a preference for night time activity and foraging, inundation provides these animals with access to elevated intertidal areas and nutritional sources that deviate from sub-tidal varieties [(e.g. Sheppard et al., 2010](https://onlinelibrary.wiley.com/doi/10.1111/j.1748-7692.2010.00374.x)[, Derville et al., 2022).](https://www.nature.com/articles/s41598-021-04412-3)\n",
    "By translating exposure to inundation and mapping the monthly night-time distributions of intertidal inundation, insights into the tidal influences on the presence, absence and distribution of nocturnal intertidal foragers is revealed."
   ]
  },
  {
   "cell_type": "code",
   "execution_count": null,
   "metadata": {
    "tags": []
   },
   "outputs": [],
   "source": [
    "# Calculate exposure for the nominated filters: night and months January to December\n",
    "\n",
    "# Identify the filters to use to identify datetimes of interest from the high res tidal model\n",
    "filters = None\n",
    "filters_combined = [(\"night\",\"jan\"),\n",
    "                    (\"night\",\"feb\"),\n",
    "                    (\"night\",\"mar\"),\n",
    "                    (\"night\",\"apr\"),\n",
    "                    (\"night\",\"may\"),\n",
    "                    (\"night\",\"jun\"),\n",
    "                    (\"night\",\"jul\"),\n",
    "                    (\"night\",\"aug\"),\n",
    "                    (\"night\",\"sep\"),\n",
    "                    (\"night\",\"oct\"),\n",
    "                    (\"night\",\"nov\"),\n",
    "                    (\"night\",\"dec\")\n",
    "                   ]\n",
    "\n",
    "# Model exposure\n",
    "exposure_ds, modelledtides_ds, modelledtides_1d,timeranges, peaks = exposure(\n",
    "    dem=ds.elevation.sel(time=time),\n",
    "    start_date=str(np.datetime64(time) - np.timedelta64(1,'Y')),\n",
    "    end_date=str(np.datetime64(time) + np.timedelta64(1,'Y')),\n",
    "    modelled_freq = '30 min',\n",
    "    filters=filters,\n",
    "    filters_combined=filters_combined,\n",
    ")\n",
    "\n",
    "# Separate from the master dataset (ds) the variables of interest\n",
    "fc = ['exposure_unfiltered']\n",
    "for e in filters_combined:\n",
    "    fc.append('exposure_'+e[0]+'_'+e[1])\n",
    "    \n",
    "    # Add each filtered dataset as a variable layer in the master dataset 'ds'\n",
    "for x in list(exposure_ds.keys()):\n",
    "    ds[f'exposure_{str(x)}']=exposure_ds[str(x)]#.squeeze(dim='time')\n",
    "\n",
    "# Calculate the inverse of exposure to convert to inundation \n",
    "inundation_ds = abs(100-exposure_ds)\n",
    "\n",
    "# Separate from the master dataset (ds) the variables of interest\n",
    "fc = ['inundation_unfiltered']\n",
    "for e in filters_combined:\n",
    "    fc.append('inundation_'+e[0]+'_'+e[1])\n",
    "    \n",
    "# Add each filtered dataset as a variable layer in the master dataset 'ds'\n",
    "for x in list(inundation_ds.keys()):\n",
    "    ds[f'inundation_{str(x)}']=inundation_ds[str(x)]"
   ]
  },
  {
   "cell_type": "code",
   "execution_count": null,
   "metadata": {
    "tags": []
   },
   "outputs": [],
   "source": [
    "# # View the filtered inundation outputs\n",
    "\n",
    "# fig = ds[fc].sel(time=time).to_array().plot(col='variable', col_wrap=6, cmap=cmocean.cm.matter, vmin=0,vmax=100, add_colorbar=False)\n",
    "# fig.fig.suptitle('Inundation')\n",
    "\n",
    "# for ax,title in zip(fig.axs.flat, fc):\n",
    "#     ax.set_title(title)\n",
    "#     ax.label_outer()\n",
    "#     ax.set_xticklabels(labels=\"\")\n",
    "#     ax.set_yticklabels(labels=\"\")\n",
    "#     ax.set_xlabel(\"\")\n",
    "#     ax.set_ylabel(\"\")\n",
    "\n",
    "# fig.add_colorbar(label='Inundation %')"
   ]
  },
  {
   "cell_type": "code",
   "execution_count": null,
   "metadata": {
    "tags": []
   },
   "outputs": [],
   "source": [
    "# Animate and view the monthly timeseries\n",
    "%reload_ext autoreload\n",
    "# Copy and edit the master dataset\n",
    "ds2 = ds.sel(time=time)[fc].copy(deep=True)\n",
    "ds2 = ds2.drop_vars(['inundation_unfiltered'])\n",
    "ds2 = ds2.squeeze('time')\n",
    "\n",
    "# Reshape the dataset to reset the time dimension for monthly nighttime inundation\n",
    "variables = [ds2[var].expand_dims('time').assign_coords(time=[var]) for var in ds2.data_vars]\n",
    "new_ds = xr.concat(variables, dim='time')\n",
    "ds2 = new_ds.to_dataset()\n",
    "\n",
    "newtime = []\n",
    "for x in range(1,13,1):\n",
    "    if len(str(x)) == 1:\n",
    "        x = f'0{x}'\n",
    "    newtime.append(np.datetime64(f'{time}-{x}'))\n",
    "\n",
    "ds2['time']=newtime\n",
    "\n",
    "# Animate and view\n",
    "xr_animation(ds2,\n",
    "             bands=['inundation_night_jan'],\n",
    "             output_path = f'{study_area}.mp4',\n",
    "             interval=1000,\n",
    "             imshow_kwargs={\"cmap\": cmocean.cm.matter, \"vmin\": 0, \"vmax\": 100},\n",
    "             colorbar_kwargs={\"colors\": \"black\"},\n",
    "             show_text='Inundation %',\n",
    "             width_pixels=500\n",
    "            )\n",
    "plt.close()\n",
    "\n",
    "display.Video(f'{study_area}.mp4', embed=True, html_attributes='loop autoplay')"
   ]
  },
  {
   "cell_type": "markdown",
   "metadata": {},
   "source": [
    "Night time inundation maps by month demonstrate a clear pattern of change.\n",
    "Where daytime exposed areas peaked during the warmer seasons in case study 2, night time inundation correspondingly dominates this location in the spring (September, October, November) and into the summer months (December, January).\n",
    "\n",
    "As the monthly changes in magnitude of night time inundated area appear to be large, let's sum the areas of inundation by class, as previously, with the exception that the following inundation classes are used in place of exposure:\n",
    "\n",
    "* Pixels inundated less than 30 % of the time (approximately high-tide areas)\n",
    "* Pixels inundated between 30 and 70 % of the time (approximately mid-tide areas)\n",
    "* Pixels inundated more than 70 % of the time (approximately low-tide areas)"
   ]
  },
  {
   "cell_type": "code",
   "execution_count": null,
   "metadata": {
    "tags": []
   },
   "outputs": [],
   "source": [
    "# Summarise the months using the bar plot summary\n",
    "\n",
    "# Quantify exposed areas by categorising 3 broad groupings of exposure values and\n",
    "# calculating the pixel contributions to each group\n",
    "\n",
    "# Establish some variables to capture the outputs\n",
    "inu70_100 = []\n",
    "inu30_70 = []\n",
    "inu0_30 = []\n",
    "labels = []\n",
    "   \n",
    "# Separate the exposure datasets into categories and count the pixels per category\n",
    "for x in ds[fc].var():\n",
    "    \n",
    "    # Prepare the labels for the various exposure datasets        \n",
    "    if x == 'inundation_unfiltered':\n",
    "        labels.append(f'Un-\\nfiltered')\n",
    "    if 'inundation_night_' in x:\n",
    "        y=x.split('night_')[-1]\n",
    "        if '_' in y:\n",
    "            z=y.split('_')\n",
    "            labels.append(f'{z[0]}\\n{z[-1]}')\n",
    "        else:\n",
    "            labels.append(f'{y}')\n",
    "    # Count the number of pixels exposed between 0 and 100 % of filtered time\n",
    "    a=ds[str(x)].sel(time=time).count(dim=(\"x\",\"y\")).values\n",
    "\n",
    "    # Count the number of pixels exposed between 0 and 70 % of filtered time\n",
    "    b=ds[str(x)].sel(time=time).where(ds[str(x)].sel(time=time) < 70).count(dim=(\"x\",\"y\")).values\n",
    "\n",
    "    # Count the number of pixels exposed between 0 and 30 % of filtered time\n",
    "    c = ds[str(x)].sel(time=time).where(ds[str(x)].sel(time=time) <= 30).count(dim=(\"x\",\"y\")).values\n",
    "\n",
    "    # Calculate the pixel count contributions to each class and translate 10m2 pixel counts to area as km2\n",
    "    inu70_100.append(round((a[0]-b[0])*0.0001,2))  \n",
    "    inu30_70.append(round((b[0]-c[0])*0.0001,2))\n",
    "    inu0_30.append(round((c[0])*0.0001,2))\n",
    "\n",
    "# Prepare the summary data to plot\n",
    "\n",
    "inu_counts = {\"Inu >= 70%\": (np.array(inu70_100)),#*0.0001,\n",
    "              \"30% < Inu < 70%\": (np.array(inu30_70)),#*0.0001,\n",
    "              \"Inu <= 30%\": np.array(inu0_30)}#*0.0001}\n",
    "# Set the y-axis minimum for this stacked bar chart\n",
    "bottom = np.zeros(13)\n",
    "# Set the bar width\n",
    "width = 0.8\n",
    "# Set the colour scheme\n",
    "cmap = cmocean.cm.matter\n",
    "# Prepare the figure\n",
    "fig, ax = plt.subplots()\n",
    "\n",
    "# Plot the summary datasets on a stacked bar chart.\n",
    "for var, counts in inu_counts.items():\n",
    "    \n",
    "    # Set the colour and transparency for each bar\n",
    "    if var == list(inu_counts.keys())[0]:\n",
    "        color=cmap(1.0)\n",
    "        alpha=1\n",
    "    if var == list(inu_counts.keys())[1]:\n",
    "        color=cmap(0.5)\n",
    "        alpha=1\n",
    "    if var == list(inu_counts.keys())[2]:\n",
    "        color=cmap(0)\n",
    "        alpha=0.8\n",
    "    # Add the bar to the plot\n",
    "    p = ax.bar(labels, counts, width, label=var, bottom=bottom,color=color, alpha=alpha)\n",
    "    # Prepare to stack the next bar\n",
    "    bottom += counts\n",
    "    # Label each bar with its contribution to the total area\n",
    "    ax.bar_label(p, label_type='center')\n",
    "\n",
    "# Prepare the legend\n",
    "ax.legend(loc=\"upper center\",\n",
    "             ncol=3,\n",
    "             bbox_to_anchor=(0.5, -0.2),\n",
    "             frameon=True)\n",
    "\n",
    "# Prepare the labels\n",
    "ax.set_ylabel(\"Area (km2)\")\n",
    "ax.set_xlabel(\"Inundation filter\")\n",
    "\n",
    "# Set the figure subtitle\n",
    "ax.set_title(f\"Night time inundation area in {time}\")\n",
    "\n",
    "plt.show()"
   ]
  },
  {
   "cell_type": "markdown",
   "metadata": {
    "tags": []
   },
   "source": [
    "#### Interpretation\n",
    "\n",
    "There is a stark pattern in the monthly night-time inundation characteristics of this location.\n",
    "Between September and January each year, more than half of the intertidal zone is inundated for more than 70 % of night-time.\n",
    "\n",
    "This seasonality may well be influential on dugong distributions and life-cycles.\n",
    "The nutritional content of intertidal seagrass varies with elevation and dugong have been observed to venture inshore at night to forage on varieties only available at high tide [(e.g. Sheppard et al., 2010](https://onlinelibrary.wiley.com/doi/10.1111/j.1748-7692.2010.00374.x)[, Derville et al., 2022).](https://www.nature.com/articles/s41598-021-04412-3)\n",
    "There is some evidence that dugong herds are larger and less dispersed during spring and summer, when seagrass meadows are large and highly productive [(Lanyon 2003)](https://www.publish.csiro.au/wr/WR98082).\n",
    "This analysis shows that those meadows are also readily accessible during preferred foraging hours at this time of the year.\n",
    "Female dugong fertility is correspondingly most active between July and December with calving concentrated around August to December each year [(Marsh et al., 1984](https://www.researchgate.net/publication/248901675_Breeding_Cycle_Life_History_and_Population_Dynamics_of_the_Dugong_Dugon_dugon_Sirenia_Dugongidae)[; Burgess., 2012)](https://espace.library.uq.edu.au/view/UQ:301919), when nutritious food is abundant and accessible.\n",
    "Spatial and temporal mapping of exposure characteristics in known dugong habitat reveals that access to nutritious food, in addition to seagrass abundance, is linked to seasonality and may influence the life cycle and reproductive success of the vulnerable dugong species.\n",
    "\n",
    "Mapping the exposure characteristics of intertidal habitats reveals important insights and influences on the distribution and life-cycles of the species that occupy them.\n",
    "Exposure time is a critically influential element in intertidal ecosystems and the ability to map it over time and space enables improved understanding of these environments for conservation and management."
   ]
  },
  {
   "cell_type": "markdown",
   "metadata": {},
   "source": [
    "***\n",
    "\n",
    "## Additional information\n",
    "\n",
    "**License:** The code in this notebook is licensed under the [Apache License, Version 2.0](https://www.apache.org/licenses/LICENSE-2.0). \n",
    "Digital Earth Australia data is licensed under the [Creative Commons by Attribution 4.0](https://creativecommons.org/licenses/by/4.0/) license.\n",
    "\n",
    "**Contact:** If you need assistance, please post a question on the [Open Data Cube Slack channel](http://slack.opendatacube.org/) or on the [GIS Stack Exchange](https://gis.stackexchange.com/questions/ask?tags=open-data-cube) using the `open-data-cube` tag (you can view previously asked questions [here](https://gis.stackexchange.com/questions/tagged/open-data-cube)).\n",
    "If you would like to report an issue with this notebook, you can file one on [Github](https://github.com/GeoscienceAustralia/dea-notebooks).\n",
    "\n",
    "**Last modified:** September 2021\n",
    "\n",
    "**Compatible datacube version:** "
   ]
  },
  {
   "cell_type": "code",
   "execution_count": null,
   "metadata": {},
   "outputs": [],
   "source": [
    "print(datacube.__version__)"
   ]
  },
  {
   "cell_type": "markdown",
   "metadata": {},
   "source": [
    "## Tags\n",
    "Browse all available tags on the DEA User Guide's [Tags Index](https://docs.dea.ga.gov.au/genindex.html)"
   ]
  },
  {
   "cell_type": "raw",
   "metadata": {
    "raw_mimetype": "text/restructuredtext"
   },
   "source": [
    "**Tags**: :index:`NCI compatible`, :index:`sandbox compatible`, :index:`sentinel 2`, :index:`landsat 8`, :index:`rgb`, :index:`NDVI`, :index:`time series`"
   ]
  },
  {
   "cell_type": "code",
   "execution_count": null,
   "metadata": {},
   "outputs": [],
   "source": []
  },
  {
   "cell_type": "code",
   "execution_count": null,
   "metadata": {},
   "outputs": [],
   "source": []
  },
  {
   "cell_type": "code",
   "execution_count": null,
   "metadata": {},
   "outputs": [],
   "source": []
  },
  {
   "cell_type": "code",
   "execution_count": null,
   "metadata": {
    "tags": []
   },
   "outputs": [],
   "source": [
    "## Plot generation demonstrating exposure filter options\n",
    "\n",
    "# Nominate which filter to plot from filters list eg filters[x]\n",
    "# x = 5\n",
    "filters_low=list(exposure_ds.drop_vars(['daylight','summer','autumn','winter','spring','unfiltered']).keys())\n",
    "for x in range(0,len(filters_low)):\n",
    "\n",
    "    tidem = -1.25\n",
    "    exp = abs(modelledtides_ds[filters_low[x]].where(modelledtides_ds[filters_low[x]]) - tidem).idxmin(dim='quantile')*100\n",
    "\n",
    "    fig, ax = plt.subplots(1,2, figsize=(12,4))\n",
    "\n",
    "    # For filtered tide models\n",
    "\n",
    "    # plot all tides\n",
    "    modelledtides_1d.plot(ax=ax[0], label='All tides', color='lightblue', zorder=1)\n",
    "\n",
    "    #plot filtered tides\n",
    "    modelledtides_1d.sel(time=timeranges[filters_low[x]]).plot(linestyle='',marker='.', ax=ax[0], markeredgecolor='none', label='Filtered Wet', zorder=2)\n",
    "    # if filters_low[x] == 'low_tide':\n",
    "    #     ax[0].hlines(peaks[filters_low[x]].mean(),\n",
    "    #                  timeranges[filters_low[x]][0],\n",
    "    #                  timeranges[filters_low[x]][-1], \n",
    "    #                  color='black', \n",
    "    #                  zorder=4,\n",
    "    #                 label='Peaks mean')\n",
    "    # else:\n",
    "    #     ax[0].hlines(modelledtides_1d.sel(time=timeranges[filters_low[x]]).max(),\n",
    "    #                  timeranges[filters_low[x]][0],\n",
    "    #                  timeranges[filters_low[x]][-1], \n",
    "    #                  color='black', \n",
    "    #                  zorder=4,\n",
    "    #                 label='Peaks mean')\n",
    "    # peaks[filters_low[x]].plot(ax=ax[0], marker='o', color='black', linestyle='', markersize='0.3', label=f'{filters_low[x]} peaks')\n",
    "\n",
    "    # plot demonstration tides (for concept model where elevation = tidem)\n",
    "    modelledtides_1d.sel(\n",
    "        time=timeranges[filters_low[x]]).where(\n",
    "        modelledtides_1d.sel(time=timeranges[filters_low[x]])<tidem).plot(\n",
    "        linestyle='',marker='.', ax=ax[0],color='red', markeredgecolor='none', label='Filtered Dry', zorder=3)\n",
    "\n",
    "    # plot the cumulative frequency exposure curve\n",
    "    modelledtides_ds[filters_low[x]].plot(ax=ax[1],label='Wet', color='C0', linewidth=6)\n",
    "    modelledtides_ds[filters_low[x]].where(modelledtides_ds[filters_low[x]]<tidem).plot(ax=ax[1], color='red', label='Dry', linewidth=6)\n",
    "\n",
    "    ax[0].set_title('a) Tide model')\n",
    "    ax[0].set_ylabel('Tide height (m)')\n",
    "    ax[0].set_ylim(ymin=modelledtides_1d.min()*1.1 ,ymax=modelledtides_1d.max()*1.1)\n",
    "    ax[0].set_xlabel('Datetime')\n",
    "    ax[0].legend(frameon=False, ncol=3, handletextpad=0.05, columnspacing=0.2)\n",
    "\n",
    "    ax[1].set_title('b) Modelled tide height percentiles')\n",
    "    ax[1].set_ylabel('Tide height (m)\\nElevation (msl)')\n",
    "    ax[1].set_ylim(ymin=modelledtides_1d.min()*1.1 , ymax=modelledtides_1d.max()+0.5)\n",
    "    ax[1].set_xlabel('Percentile of filtered model tide heights')\n",
    "    ax[1].legend(frameon=False, handletextpad=0.05, columnspacing=0.2)\n",
    "    ax[1].annotate(f'A pixel at {tidem} m asl\\nwas exposed {int(exp.values)} % of\\nthe time', (0.05, 0.8), xycoords='axes fraction')\n",
    "\n",
    "    fig.suptitle(f'{filters_low[x]} Exposure Modelling')\n",
    "    plt.savefig(f'{filters_low[x]}_Exp_concept_tideheight_filter')"
   ]
  },
  {
   "cell_type": "code",
   "execution_count": null,
   "metadata": {},
   "outputs": [],
   "source": []
  },
  {
   "cell_type": "code",
   "execution_count": null,
   "metadata": {
    "tags": []
   },
   "outputs": [],
   "source": [
    "# # Calculate the difference between the filtered and unfiltered exposure datasets to confirm that changes were detected\n",
    "\n",
    "# # Calculate the differences relative to the unfiltered exposure dataset\n",
    "# del_exp_Wet =((ds['exposure'].sel(time=time))-(ds['exposure_Wet_2016'])).astype('int').where(ds['exposure'].sel(time=time).notnull())\n",
    "# del_exp_Sum =((ds['exposure'].sel(time=time))-(ds['exposure_Summer_2016'])).astype('int').where(ds['exposure'].sel(time=time).notnull())\n",
    "# del_exp_Day =((ds['exposure'].sel(time=time))-(ds['exposure_Daylight_2016'])).astype('int').where(ds['exposure'].sel(time=time).notnull())\n",
    "# del_exp_Sum_Day =((ds['exposure'].sel(time=time))-(ds['exposure_Summer_Daylight_2016'])).astype('int').where(ds['exposure'].sel(time=time).notnull())\n",
    "\n",
    "# # Combine layers for simplified plotting\n",
    "# delta = del_exp_Wet.to_dataset(name='delta_exp_Wet')\n",
    "# delta['delta_exp_Sum']=del_exp_Sum\n",
    "# delta['delta_exp_Day']=del_exp_Day\n",
    "# delta['delta_exp_Sum_Day']=del_exp_Sum_Day\n",
    "\n",
    "# # Plot the differences relative to the unfiltered exposure dataset\n",
    "# fig=delta[[\n",
    "#     'delta_exp_Wet',\n",
    "#     'delta_exp_Sum',\n",
    "#     'delta_exp_Day',\n",
    "#     'delta_exp_Sum_Day'\n",
    "#             ]].to_array().plot(col='variable', col_wrap=4, cmap='Spectral_r')\n",
    "\n",
    "# # Format the plots\n",
    "# for ax in fig.axs.flat:\n",
    "#     ax.label_outer()\n",
    "#     ax.set_xticklabels(labels=\"\")\n",
    "#     ax.set_yticklabels(labels=\"\")\n",
    "#     ax.set_xlabel(\"\")\n",
    "#     ax.set_ylabel(\"\")"
   ]
  },
  {
   "cell_type": "code",
   "execution_count": null,
   "metadata": {},
   "outputs": [],
   "source": []
  },
  {
   "cell_type": "code",
   "execution_count": null,
   "metadata": {},
   "outputs": [],
   "source": []
  },
  {
   "cell_type": "code",
   "execution_count": null,
   "metadata": {},
   "outputs": [],
   "source": []
  },
  {
   "cell_type": "code",
   "execution_count": null,
   "metadata": {},
   "outputs": [],
   "source": []
  }
 ],
 "metadata": {
  "kernelspec": {
   "display_name": "Python 3 (ipykernel)",
   "language": "python",
   "name": "python3"
  },
  "language_info": {
   "codemirror_mode": {
    "name": "ipython",
    "version": 3
   },
   "file_extension": ".py",
   "mimetype": "text/x-python",
   "name": "python",
   "nbconvert_exporter": "python",
   "pygments_lexer": "ipython3",
   "version": "3.10.13"
  },
  "widgets": {
   "application/vnd.jupyter.widget-state+json": {
    "state": {},
    "version_major": 2,
    "version_minor": 0
   }
  }
 },
 "nbformat": 4,
 "nbformat_minor": 4
}

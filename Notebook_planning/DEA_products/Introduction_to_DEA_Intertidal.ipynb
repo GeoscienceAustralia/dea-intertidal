{
 "cells": [
  {
   "cell_type": "markdown",
   "metadata": {},
   "source": [
    "# Introduction to the DEA Intertidal Product Suite <img align=\"right\" src=\"../Supplementary_data/dea_logo.jpg\">\n"
   ]
  },
  {
   "cell_type": "markdown",
   "metadata": {},
   "source": [
    "## Background\n",
    "\n",
    "Pull it from the new docs/CMI"
   ]
  },
  {
   "cell_type": "markdown",
   "metadata": {},
   "source": [
    "## Description\n",
    "\n",
    "This notebook introduces the DEA Intertidal Product Suite.\n",
    "All datasets here are produced by Digital Earth Australia (DEA) and are accessible in the DEA product archive.\n",
    "They can also be explored on [DEA Maps](https://maps.dea.ga.gov.au/).\n",
    "\n",
    "In this notebook, users will:\n",
    "- learn about the datasets and how they are inter-related\n",
    "- interact with datasets including how to load your own area-of-interest, visualise, interpret and export data in GIS-ready formats\n",
    "- explore basic use cases\n",
    "\n",
    "By the end of this notebook, users should have some understanding of what these datasets are, how they can be used, their limitations and what the fixed parameters are that were used in their production. To begin customising these parameters, such as time-period and exposure options, users can explore *this (future) notebook*."
   ]
  },
  {
   "cell_type": "markdown",
   "metadata": {},
   "source": [
    "## Getting started - TODO following indexing of intertidal suite\n",
    "\n",
    "Provide any particular instructions that the user might need, e.g. To run this analysis, run all the cells in the notebook, starting with the \"Load packages\" cell. "
   ]
  },
  {
   "cell_type": "markdown",
   "metadata": {},
   "source": [
    "### Load packages\n",
    "Import Python packages that are used for the analysis.\n",
    "\n",
    "Use standard import commands; some are shown below. \n",
    "Begin with any `iPython` magic commands, followed by standard Python packages, then any additional functionality you need from the `Scripts` directory."
   ]
  },
  {
   "cell_type": "code",
   "execution_count": null,
   "metadata": {},
   "outputs": [],
   "source": [
    "%matplotlib inline\n",
    "\n",
    "import datacube\n",
    "import matplotlib.pyplot as plt\n",
    "import numpy as np\n",
    "import pandas as pd\n",
    "import xarray as xr\n",
    "\n",
    "import sys\n",
    "sys.path.insert(1, '../Tools/')\n",
    "from dea_tools.plotting import rgb\n"
   ]
  },
  {
   "cell_type": "markdown",
   "metadata": {},
   "source": [
    "### Connect to the datacube\n",
    "\n",
    "Connect to the datacube so we can access DEA data.\n",
    "The `app` parameter is a unique name for the analysis which is based on the notebook file name."
   ]
  },
  {
   "cell_type": "code",
   "execution_count": null,
   "metadata": {},
   "outputs": [],
   "source": [
    "dc = datacube.Datacube(app='DEA_notebooks_template')"
   ]
  },
  {
   "cell_type": "markdown",
   "metadata": {},
   "source": [
    "### Analysis parameters\n",
    "\n",
    "Probably not relevant to this notebook\n"
   ]
  },
  {
   "cell_type": "markdown",
   "metadata": {},
   "source": [
    "## Available products and measurements - TODO following indexing\n",
    "Use headings to break up key steps/stages of the notebook.\n",
    "\n",
    "Use markdown text for detailed, descriptive text explaining what the code below does and why it is needed.\n",
    "\n",
    "> **Note:** Use this markdown format (sparingly) to draw particular attention to an important point or caveat"
   ]
  },
  {
   "cell_type": "code",
   "execution_count": null,
   "metadata": {},
   "outputs": [],
   "source": [
    "# Use code comments for low-level documentation of code\n",
    "a = 1"
   ]
  },
  {
   "cell_type": "markdown",
   "metadata": {},
   "source": [
    "### List Products\n",
    "Use subheadings to break up steps within a single section."
   ]
  },
  {
   "cell_type": "code",
   "execution_count": null,
   "metadata": {},
   "outputs": [],
   "source": [
    "# Use code comments for low-level documentation of code\n",
    "b = 2"
   ]
  },
  {
   "cell_type": "markdown",
   "metadata": {},
   "source": [
    "### List Measurements\n",
    "Use subheadings to break up steps within a single section."
   ]
  },
  {
   "cell_type": "markdown",
   "metadata": {},
   "source": [
    "## Load data - TODO: load indexed data instead of this temporary workaround\n",
    "\n",
    "Users need to be able to DIY their own areas and then be able to export to COG in this workflow."
   ]
  },
  {
   "cell_type": "markdown",
   "metadata": {},
   "source": [
    "## Intertidal Extents"
   ]
  },
  {
   "cell_type": "markdown",
   "metadata": {},
   "source": [
    "### Description\n",
    "\n",
    "The DEA Intertidal Extents dataset classifies pixels into coastal classes, including the intertidal zone, inland or tidal persistent wet regions, inland intermittent wet regions and dry land.\n",
    "This coastal zone classifier exploits the relationship between remotely sensed water in time-series and modelled tide-height.\n",
    "Two intertidal classes are identified.\n",
    "Low-confidence intertidal pixels usually fringe high-confidence intertidal regions.\n",
    "These latter high-confidence pixels represent the same pixels from which intertidal elevation and exposure are calculated in this DEA Intertidal Product suite.\n",
    "\n",
    "More information on the method for classifying Intertidal Extents can be found in the (Product Description)[Link-TODO]\n",
    "\n",
    "Coastal classes represented in the DEA Intertidal Extents dataset are as follows.\n",
    "| Class Value | Class Label | Class Description |\n",
    "| ------- | ------- | --------- |\n",
    "| 0 | Dry | Pixels that are frequently detected as dry. This class also includes urban pixels that are misclassified as wet and intermittently wet pixels on the inland fringe of the intertidal zone that are close to the 'dry' threshold yet are uncorrelated to tide. |\n",
    "| 1 | Inland intermittent wet | Pixels that are variably detected as wet through the time-series but are uncorrelated to tide, unconnected to the intertidal class and do not intersect with urban areas. This class includes semi-permanent water bodies and water features whose connection to the intertidal class has changed during the time-series and includes intermittently closed and open lakes and lagoons (ICOLLs).  |\n",
    "| 2 | Inland persistent wet  | Pixels that are frequently detected as wet and are unconnected to the intertidal class. This class will include coastal lakes and lagoons that were wet and unconnected to intertidal pixels for the entire time-series. |\n",
    "| 3 | Tidal influenced persistent wet | Pixels that are frequently detected as wet and are connected to the intertidal class. This class also includes pixels that are variably detected as wet and are connected to the intertidal class, despite being uncorrelated to tide. This class typically includes the ocean and tide channels. |\n",
    "| 4 | Intertidal low confidence | Pixels that are variably detected as wet and are correlated to tide yet do not have a valid elevation value. These pixels often fringe the intertidal zone and are likely to be intertidal but are included in the low confidence class as their variability with tide occurs completely above or below the wet/dry frequency threshold. |\n",
    "| 5 | Intertidal high confidence | Pixels that are variably detected as wet, are correlated with tide and have a valid elevation value. The pixels in class should exactly match the DEA Elevation and DEA Exposure footprints. |"
   ]
  },
  {
   "cell_type": "markdown",
   "metadata": {},
   "source": [
    "### Plot and View - TODO\n",
    "Show what it looks like visually and in a dataarray"
   ]
  },
  {
   "cell_type": "markdown",
   "metadata": {},
   "source": [
    "### Limitations and Caveats - TODO"
   ]
  },
  {
   "cell_type": "markdown",
   "metadata": {},
   "source": [
    "## Intertidal Elevation"
   ]
  },
  {
   "cell_type": "markdown",
   "metadata": {},
   "source": [
    "### Description\n",
    "DEA Intertidal Elevation provides elevation in metre units relative to modelled Mean Sea Level for each pixel of intertidal terrain across the Australian coastline. \n",
    "The elevation model is generated from DEA Landsat and Sentinel-2 data surface reflectance from 2019-21, utilising a pixel-based approach and ensemble tidal modelling.\n",
    "For every pixel, the time-series of surface reflectance data is converted to the Normalised Difference Water Index (NDWI), and each pixel-observation tagged with the tidal height modelled at the time of acquisition by the satellite. \n",
    "A rolling median is applied from low to high tide to reduce noise (e.g. white water, sunglint, non-tidal water level variability), then analysed to identify the tide height at which the pixel transitions from dry to wet. \n",
    "This tide height represents the elevation of the pixel. \n",
    "\n",
    "The spatial footprint of the Intertidal Elevation dataset is identical to the 'Intertidal high confidence' class in the Intertidal Extents dataset.\n",
    "Note though that the 'Intertidal low condfidence' class is *not* included in Intertidal Elevation. \n",
    "Furthermore, the Intertidal Elevation Uncertainty dataset is a companion dataset that quantifies uncertainty in the elevation values.\n",
    "It is introduced in detail below.\n",
    "DEA Intertidal Elevation is also critical for the calculation of the Intertidal Exposure dataset, which is also introduced in detail below."
   ]
  },
  {
   "cell_type": "markdown",
   "metadata": {},
   "source": [
    "### Plot and View - TODO\n",
    "Show what it looks like visually and in a dataarray"
   ]
  },
  {
   "cell_type": "markdown",
   "metadata": {},
   "source": [
    "### Limitations and Caveats - TODO\n",
    "Note any data limitations/caveats"
   ]
  },
  {
   "cell_type": "markdown",
   "metadata": {},
   "source": [
    "## Intertidal Elevation Uncertainty"
   ]
  },
  {
   "cell_type": "markdown",
   "metadata": {},
   "source": [
    "### Description\n",
    "\n",
    "DEA Intertidal Elevation Uncertainty provides a measure of the quality of each modelled elevation in metre units. \n",
    "Uncertainty is calculated by assessing how cleanly the modelled elevation separates satellite observations into dry and wet observations. \n",
    "This is achieved by identifying satellite observations that were misclassified by the modelled elevation (e.g. pixels that were wet at tide heights lower than the modelled elevation, or dry at higher tide heights). \n",
    "The spread of the tide heights of these misclassified points are then summarised using a robust Median Absolute Deviation statistic. \n",
    "Common causes of high elevation uncertainty can be poor tidal model performance, rapidly changing intertidal morphology, or noisy underlying satellite data. "
   ]
  },
  {
   "cell_type": "markdown",
   "metadata": {},
   "source": [
    "### Plot and View - TODO\n",
    "Show what it looks like visually and in a dataarray"
   ]
  },
  {
   "cell_type": "markdown",
   "metadata": {},
   "source": [
    "### Limitations and Caveats - TODO\n",
    "Note any data limitations/caveats"
   ]
  },
  {
   "cell_type": "markdown",
   "metadata": {},
   "source": [
    "## Intertidal Exposure"
   ]
  },
  {
   "cell_type": "markdown",
   "metadata": {},
   "source": [
    "### Description\n",
    "\n",
    "DEA Intertidal Exposure models the relative amount of time that any intertidal pixel is exposed from seawater coverage. \n",
    "Exposure is calculated by translating a pixels elevation back against a high temporal resolution model of tide heights for that location. \n",
    "Exposure times reflect the amount of time that pixel, of known elevation, is exposed from seawater as a fraction of the whole tide-modelling time period."
   ]
  },
  {
   "cell_type": "markdown",
   "metadata": {},
   "source": [
    "### Plot and View - TODO\n",
    "Show what it looks like visually and in a dataarray"
   ]
  },
  {
   "cell_type": "markdown",
   "metadata": {},
   "source": [
    "### Limitations and Caveats - TODO\n",
    "Note any data limitations/caveats"
   ]
  },
  {
   "cell_type": "markdown",
   "metadata": {},
   "source": [
    "## Intertidal Observation Attributes\n",
    "\n",
    "The DEA Intertidal Observation Attributes are a suite of datasets that describe the tidal and some specific satellite behaviours that relate to every coastal pixel observation.\n",
    "These datasets describe fundamental tidal characteristics for each pixel that both underpin the workflows included in the DEA Intertidal Product Suite, and are important to understand for complete interpretation of all satellite-derived intertidal datasets.\n",
    "\n",
    "The DEA Intertidal Observation Attributes are grouped into two categories: the highest and lowest observed and astronomical tides, and the satellite observed tidal offsets."
   ]
  },
  {
   "cell_type": "markdown",
   "metadata": {},
   "source": [
    "### Highest/Lowest Astronomical and Satellite-Observed Tides\n",
    "\n",
    "Datasets of the highest and lowest astronomical and satellite-observed tide heights are foundational metadata that describe some satellite and tidal behaviours around the coastline.\n",
    "These datasets are used to produce the following satellite-observed tidal offset datasets which are useful to understand how tide heights are mapped around the coastline and to interpret satellite-derived intertidal datasets.\n",
    "\n",
    "In this work, the astronomical tide heights are considered to be the modelled tide heights, generated from the ensemble tidal modelling workflow."
   ]
  },
  {
   "cell_type": "markdown",
   "metadata": {},
   "source": [
    "#### Description\n",
    "\n",
    "Four datasets are included in this part of the product suite.\n",
    "They include the following:\n",
    "| Dataset | Description |\n",
    "| ---- | --- |\n",
    "|DEA Intertidal Lowest Observed Tide| The lowest observed tide dataset maps the lowest observed tide (LOT) of the satellite time-series at each pixel during the analysis epoch, with tide-heights determined based on ensemble tide modelling. |\n",
    "|DEA Intertidal Highest Observed Tide| The highest observed tide dataset maps the highest observed tide (HOT) of the satellite time-series at each pixel during the analysis epoch, with tide-heights determined based on ensemble tide modelling. |\n",
    "| DEA Intertidal Lowest Astronomical Tide | The lowest astronomical tide dataset maps the lowest astronomical tide (LAT) for each pixel as  determined based on ensemble tide modelling. |\n",
    "| DEA Intertidal Highest Astronomical Tide | The highest astronomical tide dataset maps the highest astronomical tide (HAT) for each pixel as  determined based on ensemble tide modelling. |"
   ]
  },
  {
   "cell_type": "markdown",
   "metadata": {},
   "source": [
    "#### Plot and View - TODO\n",
    "Show what it looks like visually and in a dataarray"
   ]
  },
  {
   "cell_type": "markdown",
   "metadata": {},
   "source": [
    "#### Limitations and Caveats - TODO\n",
    "Note any data limitations/caveats"
   ]
  },
  {
   "cell_type": "markdown",
   "metadata": {},
   "source": [
    "### Satellite-Observed Tidal Offsets\n",
    "Satellite-observed tidal offsets describe the relative difference between the actual (astronomical) tide range at any location with the tide-range observed by the satellite - in this case, any of Landsat 8, Landsat 9, Sentinel-2A or Sentinel-2B.\n",
    "Due to the sun-synchronous, orbiting nature of these satellites, daily overpass (image aquisition) times are always approximately the same. \n",
    "This introduces a bias against complete imaging of the full tidal range in many locations."
   ]
  },
  {
   "cell_type": "markdown",
   "metadata": {},
   "source": [
    "#### Description\n",
    "The datasets included in this part of the DEA Intertidal Product Suite characterise, for every coastal pixel, the:\n",
    "| Dataset | Description |\n",
    "| ---- | --- |\n",
    "| DEA Intertidal High Tide Offset | The offset at the top of the tide range from complete satellite-observation of the astronomical tide range (0% offset) to values up to 40% in some regions, representing failure of the satellite to observe the top 40% of astronomical tides |\n",
    "| DEA Intertidal Low Tide Offset | The offset at the bottom of the tide range from complete satellite-observation of the astronomical tide range (0% offset) to values up to 40% in some regions, representing failure of the satellite to observe the lowest 40% of astronomical tides |\n",
    "| DEA Intertidal Tidal Spread| The spread of astronomical tide heights observed by the satellite as a percentage|"
   ]
  },
  {
   "cell_type": "markdown",
   "metadata": {},
   "source": [
    "#### Plot and View - TODO\n",
    "Show what it looks like visually and in a dataarray"
   ]
  },
  {
   "cell_type": "markdown",
   "metadata": {},
   "source": [
    "#### Limitations and Caveats - TODO\n",
    "Note any data limitations/caveats"
   ]
  },
  {
   "cell_type": "code",
   "execution_count": null,
   "metadata": {},
   "outputs": [],
   "source": [
    "# Use code comments for low-level documentation of code\n",
    "c = 3"
   ]
  },
  {
   "cell_type": "markdown",
   "metadata": {},
   "source": [
    "## Use Case - TODO"
   ]
  },
  {
   "cell_type": "markdown",
   "metadata": {},
   "source": [
    "Rationale/Purpose - Show users how they might use some of these datasets together (using the loaded ds), interpret the results and export the data (assuming they're more likely to be GIS users and want to consider this information relative to other datasets in their area of interest).\n",
    "**Question:** Should we build this in a separate notebook and link to it at the bottom of this one? (This notebook is already unusually long for a dea-notebook).\n",
    "\n",
    "Proposal\n",
    "- users choose a small aoi\n",
    "- load the full product suite\n"
   ]
  },
  {
   "cell_type": "markdown",
   "metadata": {},
   "source": [
    "***\n",
    "\n",
    "## Additional information\n",
    "\n",
    "**License:** The code in this notebook is licensed under the [Apache License, Version 2.0](https://www.apache.org/licenses/LICENSE-2.0). \n",
    "Digital Earth Australia data is licensed under the [Creative Commons by Attribution 4.0](https://creativecommons.org/licenses/by/4.0/) license.\n",
    "\n",
    "**Contact:** If you need assistance, please post a question on the [Open Data Cube Slack channel](http://slack.opendatacube.org/) or on the [GIS Stack Exchange](https://gis.stackexchange.com/questions/ask?tags=open-data-cube) using the `open-data-cube` tag (you can view previously asked questions [here](https://gis.stackexchange.com/questions/tagged/open-data-cube)).\n",
    "If you would like to report an issue with this notebook, you can file one on [Github](https://github.com/GeoscienceAustralia/dea-notebooks).\n",
    "\n",
    "**Last modified:** January 2024\n",
    "\n",
    "**Compatible datacube version:** "
   ]
  },
  {
   "cell_type": "code",
   "execution_count": null,
   "metadata": {},
   "outputs": [],
   "source": [
    "print(datacube.__version__)"
   ]
  },
  {
   "cell_type": "markdown",
   "metadata": {},
   "source": [
    "## Tags - TODO\n",
    "Browse all available tags on the DEA User Guide's [Tags Index](https://docs.dea.ga.gov.au/genindex.html)"
   ]
  },
  {
   "cell_type": "raw",
   "metadata": {
    "raw_mimetype": "text/restructuredtext"
   },
   "source": [
    "**Tags**: :index:`NCI compatible`, :index:`sandbox compatible`, :index:`sentinel 2`, :index:`landsat 8`, :index:`rgb`, :index:`NDVI`, :index:`time series`"
   ]
  }
 ],
 "metadata": {
  "kernelspec": {
   "display_name": "Python 3 (ipykernel)",
   "language": "python",
   "name": "python3"
  },
  "language_info": {
   "codemirror_mode": {
    "name": "ipython",
    "version": 3
   },
   "file_extension": ".py",
   "mimetype": "text/x-python",
   "name": "python",
   "nbconvert_exporter": "python",
   "pygments_lexer": "ipython3",
   "version": "3.10.13"
  },
  "widgets": {
   "application/vnd.jupyter.widget-state+json": {
    "state": {},
    "version_major": 2,
    "version_minor": 0
   }
  }
 },
 "nbformat": 4,
 "nbformat_minor": 4
}

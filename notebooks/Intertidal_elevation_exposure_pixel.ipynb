{
 "cells": [
  {
   "cell_type": "markdown",
   "id": "306a1f55-3f9d-4996-be95-e11e5a74a86b",
   "metadata": {},
   "source": [
    "## Getting started\n",
    "Set working directory to top level of repo to ensure links work correctly:"
   ]
  },
  {
   "cell_type": "code",
   "execution_count": 6,
   "id": "6c9907dc-c0d2-4b2e-8cbb-bb3a2bc15f08",
   "metadata": {},
   "outputs": [
    {
     "name": "stdout",
     "output_type": "stream",
     "text": [
      "/home/jovyan/dea_intertidal/dea-intertidal\n"
     ]
    }
   ],
   "source": [
    "# cd ..\n",
    "%cd /home/jovyan/dea_intertidal/dea-intertidal"
   ]
  },
  {
   "cell_type": "markdown",
   "id": "c586a481-013f-4884-8e53-f3ddb9c438d7",
   "metadata": {},
   "source": [
    "Install additional packages directly from the requirements file"
   ]
  },
  {
   "cell_type": "code",
   "execution_count": 7,
   "id": "d67433e6-0408-40d1-be61-db49c52f88dc",
   "metadata": {},
   "outputs": [
    {
     "name": "stdout",
     "output_type": "stream",
     "text": [
      "\u001b[33mWARNING: You are using pip version 22.0.2; however, version 22.3.1 is available.\n",
      "You should consider upgrading via the '/env/bin/python -m pip install --upgrade pip' command.\u001b[0m\u001b[33m\n",
      "\u001b[0mNote: you may need to restart the kernel to use updated packages.\n"
     ]
    }
   ],
   "source": [
    "pip install -r requirements.in --quiet"
   ]
  },
  {
   "cell_type": "markdown",
   "id": "4244cc06-b5e7-4120-8514-adf35082cb2c",
   "metadata": {},
   "source": [
    "### Load packages"
   ]
  },
  {
   "cell_type": "code",
   "execution_count": 8,
   "id": "2520e8de-ac2c-4571-99a0-f7fb7b932f56",
   "metadata": {},
   "outputs": [
    {
     "name": "stdout",
     "output_type": "stream",
     "text": [
      "The autoreload extension is already loaded. To reload it, use:\n",
      "  %reload_ext autoreload\n"
     ]
    },
    {
     "name": "stderr",
     "output_type": "stream",
     "text": [
      "/env/lib/python3.8/site-packages/distributed/node.py:180: UserWarning: Port 8787 is already in use.\n",
      "Perhaps you already have a cluster running?\n",
      "Hosting the HTTP server on port 44859 instead\n",
      "  warnings.warn(\n"
     ]
    },
    {
     "data": {
      "text/html": [
       "<div>\n",
       "    <div style=\"width: 24px; height: 24px; background-color: #e1e1e1; border: 3px solid #9D9D9D; border-radius: 5px; position: absolute;\"> </div>\n",
       "    <div style=\"margin-left: 48px;\">\n",
       "        <h3 style=\"margin-bottom: 0px;\">Client</h3>\n",
       "        <p style=\"color: #9D9D9D; margin-bottom: 0px;\">Client-ee55e196-6561-11ed-85eb-1ea71673e6bb</p>\n",
       "        <table style=\"width: 100%; text-align: left;\">\n",
       "\n",
       "        <tr>\n",
       "        \n",
       "            <td style=\"text-align: left;\"><strong>Connection method:</strong> Cluster object</td>\n",
       "            <td style=\"text-align: left;\"><strong>Cluster type:</strong> distributed.LocalCluster</td>\n",
       "        \n",
       "        </tr>\n",
       "\n",
       "        \n",
       "            <tr>\n",
       "                <td style=\"text-align: left;\">\n",
       "                    <strong>Dashboard: </strong> <a href=\"/user/claire.phillips@ga.gov.au/proxy/44859/status\" target=\"_blank\">/user/claire.phillips@ga.gov.au/proxy/44859/status</a>\n",
       "                </td>\n",
       "                <td style=\"text-align: left;\"></td>\n",
       "            </tr>\n",
       "        \n",
       "\n",
       "        </table>\n",
       "\n",
       "        \n",
       "            <details>\n",
       "            <summary style=\"margin-bottom: 20px;\"><h3 style=\"display: inline;\">Cluster Info</h3></summary>\n",
       "            <div class=\"jp-RenderedHTMLCommon jp-RenderedHTML jp-mod-trusted jp-OutputArea-output\">\n",
       "    <div style=\"width: 24px; height: 24px; background-color: #e1e1e1; border: 3px solid #9D9D9D; border-radius: 5px; position: absolute;\">\n",
       "    </div>\n",
       "    <div style=\"margin-left: 48px;\">\n",
       "        <h3 style=\"margin-bottom: 0px; margin-top: 0px;\">LocalCluster</h3>\n",
       "        <p style=\"color: #9D9D9D; margin-bottom: 0px;\">e280721d</p>\n",
       "        <table style=\"width: 100%; text-align: left;\">\n",
       "            <tr>\n",
       "                <td style=\"text-align: left;\">\n",
       "                    <strong>Dashboard:</strong> <a href=\"/user/claire.phillips@ga.gov.au/proxy/44859/status\" target=\"_blank\">/user/claire.phillips@ga.gov.au/proxy/44859/status</a>\n",
       "                </td>\n",
       "                <td style=\"text-align: left;\">\n",
       "                    <strong>Workers:</strong> 1\n",
       "                </td>\n",
       "            </tr>\n",
       "            <tr>\n",
       "                <td style=\"text-align: left;\">\n",
       "                    <strong>Total threads:</strong> 15\n",
       "                </td>\n",
       "                <td style=\"text-align: left;\">\n",
       "                    <strong>Total memory:</strong> 117.21 GiB\n",
       "                </td>\n",
       "            </tr>\n",
       "            \n",
       "            <tr>\n",
       "    <td style=\"text-align: left;\"><strong>Status:</strong> running</td>\n",
       "    <td style=\"text-align: left;\"><strong>Using processes:</strong> True</td>\n",
       "</tr>\n",
       "\n",
       "            \n",
       "        </table>\n",
       "\n",
       "        <details>\n",
       "            <summary style=\"margin-bottom: 20px;\">\n",
       "                <h3 style=\"display: inline;\">Scheduler Info</h3>\n",
       "            </summary>\n",
       "\n",
       "            <div style=\"\">\n",
       "    <div>\n",
       "        <div style=\"width: 24px; height: 24px; background-color: #FFF7E5; border: 3px solid #FF6132; border-radius: 5px; position: absolute;\"> </div>\n",
       "        <div style=\"margin-left: 48px;\">\n",
       "            <h3 style=\"margin-bottom: 0px;\">Scheduler</h3>\n",
       "            <p style=\"color: #9D9D9D; margin-bottom: 0px;\">Scheduler-14029e6d-5842-47fa-9ad2-9abec82a1df8</p>\n",
       "            <table style=\"width: 100%; text-align: left;\">\n",
       "                <tr>\n",
       "                    <td style=\"text-align: left;\">\n",
       "                        <strong>Comm:</strong> tcp://127.0.0.1:37875\n",
       "                    </td>\n",
       "                    <td style=\"text-align: left;\">\n",
       "                        <strong>Workers:</strong> 1\n",
       "                    </td>\n",
       "                </tr>\n",
       "                <tr>\n",
       "                    <td style=\"text-align: left;\">\n",
       "                        <strong>Dashboard:</strong> <a href=\"/user/claire.phillips@ga.gov.au/proxy/44859/status\" target=\"_blank\">/user/claire.phillips@ga.gov.au/proxy/44859/status</a>\n",
       "                    </td>\n",
       "                    <td style=\"text-align: left;\">\n",
       "                        <strong>Total threads:</strong> 15\n",
       "                    </td>\n",
       "                </tr>\n",
       "                <tr>\n",
       "                    <td style=\"text-align: left;\">\n",
       "                        <strong>Started:</strong> Just now\n",
       "                    </td>\n",
       "                    <td style=\"text-align: left;\">\n",
       "                        <strong>Total memory:</strong> 117.21 GiB\n",
       "                    </td>\n",
       "                </tr>\n",
       "            </table>\n",
       "        </div>\n",
       "    </div>\n",
       "\n",
       "    <details style=\"margin-left: 48px;\">\n",
       "        <summary style=\"margin-bottom: 20px;\">\n",
       "            <h3 style=\"display: inline;\">Workers</h3>\n",
       "        </summary>\n",
       "\n",
       "        \n",
       "        <div style=\"margin-bottom: 20px;\">\n",
       "            <div style=\"width: 24px; height: 24px; background-color: #DBF5FF; border: 3px solid #4CC9FF; border-radius: 5px; position: absolute;\"> </div>\n",
       "            <div style=\"margin-left: 48px;\">\n",
       "            <details>\n",
       "                <summary>\n",
       "                    <h4 style=\"margin-bottom: 0px; display: inline;\">Worker: 0</h4>\n",
       "                </summary>\n",
       "                <table style=\"width: 100%; text-align: left;\">\n",
       "                    <tr>\n",
       "                        <td style=\"text-align: left;\">\n",
       "                            <strong>Comm: </strong> tcp://127.0.0.1:32867\n",
       "                        </td>\n",
       "                        <td style=\"text-align: left;\">\n",
       "                            <strong>Total threads: </strong> 15\n",
       "                        </td>\n",
       "                    </tr>\n",
       "                    <tr>\n",
       "                        <td style=\"text-align: left;\">\n",
       "                            <strong>Dashboard: </strong> <a href=\"/user/claire.phillips@ga.gov.au/proxy/37221/status\" target=\"_blank\">/user/claire.phillips@ga.gov.au/proxy/37221/status</a>\n",
       "                        </td>\n",
       "                        <td style=\"text-align: left;\">\n",
       "                            <strong>Memory: </strong> 117.21 GiB\n",
       "                        </td>\n",
       "                    </tr>\n",
       "                    <tr>\n",
       "                        <td style=\"text-align: left;\">\n",
       "                            <strong>Nanny: </strong> tcp://127.0.0.1:46443\n",
       "                        </td>\n",
       "                        <td style=\"text-align: left;\"></td>\n",
       "                    </tr>\n",
       "                    <tr>\n",
       "                        <td colspan=\"2\" style=\"text-align: left;\">\n",
       "                            <strong>Local directory: </strong> /home/jovyan/dea_intertidal/dea-intertidal/dask-worker-space/worker-a8g61x62\n",
       "                        </td>\n",
       "                    </tr>\n",
       "\n",
       "                    \n",
       "\n",
       "                    \n",
       "\n",
       "                </table>\n",
       "            </details>\n",
       "            </div>\n",
       "        </div>\n",
       "        \n",
       "\n",
       "    </details>\n",
       "</div>\n",
       "\n",
       "        </details>\n",
       "    </div>\n",
       "</div>\n",
       "            </details>\n",
       "        \n",
       "\n",
       "    </div>\n",
       "</div>"
      ],
      "text/plain": [
       "<Client: 'tcp://127.0.0.1:37875' processes=1 threads=15, memory=117.21 GiB>"
      ]
     },
     "metadata": {},
     "output_type": "display_data"
    }
   ],
   "source": [
    "%load_ext autoreload\n",
    "%autoreload 2\n",
    "\n",
    "import datacube\n",
    "import xarray as xr\n",
    "import pandas as pd\n",
    "import numpy as np\n",
    "import geopandas as gpd\n",
    "import matplotlib.pyplot as plt\n",
    "from datacube.utils.cog import write_cog\n",
    "from datacube.utils.geometry import Geometry\n",
    "import odc.geo.xr\n",
    "from tqdm import tqdm\n",
    "from odc.algo import mask_cleanup, xr_quantile\n",
    "from concurrent.futures import ProcessPoolExecutor\n",
    "\n",
    "from dea_tools.dask import create_local_dask_cluster\n",
    "from dea_tools.coastal import pixel_tides\n",
    "from intertidal.elevation import load_data, pixel_tide_sort, ds_to_flat, create_dask_gateway_cluster, abslmp_correction\n",
    "from intertidal.utils import load_config\n",
    "\n",
    "# cluster = create_dask_gateway_cluster(profile=\"r5_4XL\", workers=10)\n",
    "# print(\"Dashboard\", cluster.dashboard_link)\n",
    "# client = cluster.get_client()\n",
    "\n",
    "# Create local dask cluster to improve data load time\n",
    "client = create_local_dask_cluster(return_client=True)\n",
    "\n",
    "# Connect to datacube\n",
    "dc = datacube.Datacube(app='Intertidal_elevation')"
   ]
  },
  {
   "cell_type": "markdown",
   "id": "1a69b01f-bae0-4373-8ed6-e907393407eb",
   "metadata": {
    "tags": []
   },
   "source": [
    "## Setup\n"
   ]
  },
  {
   "cell_type": "markdown",
   "id": "b02efd2f-dab6-41ec-86f0-1724c93cf356",
   "metadata": {},
   "source": [
    "### Set analysis parameters"
   ]
  },
  {
   "cell_type": "code",
   "execution_count": 43,
   "id": "8c1dfca3-543d-4e07-9a0f-2eeddf582835",
   "metadata": {},
   "outputs": [],
   "source": [
    "study_area = 507 ## 507 Roebuck Bay (also 506, 519)\n",
    "fname = 'testing'\n",
    "start_year = 2020\n",
    "end_year = 2021\n",
    "resolution = 30\n",
    "crs = \"epsg:32753\"\n",
    "ndwi_thresh = 0.1\n",
    "include_s2 = True\n",
    "include_ls = False\n",
    "\n",
    "# Load analysis params from config file\n",
    "config = load_config(\n",
    "    config_path='configs/dea_intertidal_config.yaml')"
   ]
  },
  {
   "cell_type": "markdown",
   "id": "6cc61ed7-fa6f-4923-8474-04de8ec5d041",
   "metadata": {},
   "source": [
    "### Load study area grid cell"
   ]
  },
  {
   "cell_type": "code",
   "execution_count": 44,
   "id": "f8723168-2c81-4b3b-91c2-7f3a6b0f4f53",
   "metadata": {
    "tags": []
   },
   "outputs": [
    {
     "data": {
      "image/svg+xml": [
       "<svg xmlns=\"http://www.w3.org/2000/svg\" xmlns:xlink=\"http://www.w3.org/1999/xlink\" width=\"100.0\" height=\"100.0\" viewBox=\"122.29323510876453 -18.230867167400515 0.2453155338848063 0.32388920281997713\" preserveAspectRatio=\"xMinYMin meet\"><g transform=\"matrix(1,0,0,-1,0,-36.13784513198105)\"><g><path fill-rule=\"evenodd\" fill=\"#66cc99\" stroke=\"#555555\" stroke-width=\"0.0064777840563995425\" opacity=\"0.6\" d=\"M 122.50282854723169,-17.941035558729975 L 122.50386486684799,-17.94332770602148 L 122.50505085291336,-17.945818845491996 L 122.50557919939652,-17.94697081915639 L 122.50841380677217,-17.95339215147034 L 122.50878657785015,-17.95480663253663 L 122.50890462085616,-17.955079431731125 L 122.50981356641022,-17.95870334184926 L 122.5108268262566,-17.96254766959436 L 122.51113187438665,-17.962472950893808 L 122.51141137835181,-17.96351854866598 L 122.51212983615893,-17.967937010587985 L 122.51235237515134,-17.968824061320248 L 122.51243256184581,-17.969798638696567 L 122.51280452660498,-17.972085965110846 L 122.51285660459786,-17.97293985169635 L 122.51368016006494,-17.976185212115826 L 122.51371937509269,-17.976945366505518 L 122.51497923123533,-17.980909494181155 L 122.51644631996899,-17.987020406729336 L 122.51680877575659,-17.989220150683693 L 122.51723937708041,-17.994007921705556 L 122.51891705317425,-17.999227867918265 L 122.51916837460112,-18.000437691378057 L 122.51993076471989,-18.0057244837617 L 122.52116634038221,-18.02084523271115 L 122.52109673685098,-18.020850438466102 L 122.5234529261203,-18.02902798331796 L 122.5265547462486,-18.060160774455003 L 122.52526487072493,-18.075748001141626 L 122.52419528469201,-18.079704268174456 L 122.52417790588872,-18.080015035392226 L 122.52320248495693,-18.087040658999086 L 122.5219591171294,-18.092603282883786 L 122.52217691432985,-18.09454034088506 L 122.52241976518843,-18.100913348634652 L 122.52239604058303,-18.101575124474877 L 122.52229369122644,-18.103377130126027 L 122.5221754409826,-18.104897215770922 L 122.5210471248827,-18.11190146415919 L 122.520438198119,-18.11437232413729 L 122.52035843061492,-18.115621012516563 L 122.51715959903528,-18.12941573263632 L 122.51698053372992,-18.12985020466249 L 122.5168438642399,-18.13082909685835 L 122.51604802103401,-18.13316351613297 L 122.51535649445508,-18.136307473757878 L 122.51450499447236,-18.13844144384739 L 122.5142668811322,-18.139407158737512 L 122.51211362736848,-18.144434030290086 L 122.51197604269935,-18.144778785086878 L 122.51207692293752,-18.14481018271809 L 122.50622720219265,-18.161961675248623 L 122.50564634224727,-18.16325186388256 L 122.50373263708536,-18.169007462760646 L 122.4980635599076,-18.18030943012991 L 122.48292559956771,-18.202083878353537 L 122.47585938590606,-18.209601857941863 L 122.47187839279997,-18.21518569378478 L 122.4683556225542,-18.218871270999774 L 122.30523100516527,-18.207216772460082 L 122.32812311893115,-17.91897386098128 L 122.49855687322398,-17.93115963437356 L 122.50282854723169,-17.941035558729975 z\" /></g></g></svg>"
      ],
      "text/plain": [
       "Geometry(MULTIPOLYGON (((122.5028285472317 -17.94103555872998, 122.503864866848 -17.94332770602148, 122.5050508529134 -17.945818845492, 122.5055791993965 -17.94697081915639, 122.5084138067722 -17.95339215147034, 122.5087865778501 -17.95480663253663, 122.5089046208562 -17.95507943173113, 122.5098135664102 -17.95870334184926, 122.5108268262566 -17.96254766959436, 122.5111318743866 -17.96247295089381, 122.5114113783518 -17.96351854866598, 122.5121298361589 -17.96793701058798, 122.5123523751513 -17.96882406132025, 122.5124325618458 -17.96979863869657, 122.512804526605 -17.97208596511085, 122.5128566045979 -17.97293985169635, 122.5136801600649 -17.97618521211583, 122.5137193750927 -17.97694536650552, 122.5149792312353 -17.98090949418116, 122.516446319969 -17.98702040672934, 122.5168087757566 -17.98922015068369, 122.5172393770804 -17.99400792170556, 122.5189170531742 -17.99922786791826, 122.5191683746011 -18.00043769137806, 122.5199307647199 -18.0057244837617, 122.5211663403822 -18.02084523271115, 122.521096736851 -18.0208504384661, 122.5234529261203 -18.02902798331796, 122.5265547462486 -18.060160774455, 122.5252648707249 -18.07574800114163, 122.524195284692 -18.07970426817446, 122.5241779058887 -18.08001503539223, 122.5232024849569 -18.08704065899909, 122.5219591171294 -18.09260328288379, 122.5221769143298 -18.09454034088506, 122.5224197651884 -18.10091334863465, 122.522396040583 -18.10157512447488, 122.5222936912264 -18.10337713012603, 122.5221754409826 -18.10489721577092, 122.5210471248827 -18.11190146415919, 122.520438198119 -18.11437232413729, 122.5203584306149 -18.11562101251656, 122.5171595990353 -18.12941573263632, 122.5169805337299 -18.12985020466249, 122.5168438642399 -18.13082909685835, 122.516048021034 -18.13316351613297, 122.5153564944551 -18.13630747375788, 122.5145049944724 -18.13844144384739, 122.5142668811322 -18.13940715873751, 122.5121136273685 -18.14443403029009, 122.5119760426993 -18.14477878508688, 122.5120769229375 -18.14481018271809, 122.5062272021926 -18.16196167524862, 122.5056463422473 -18.16325186388256, 122.5037326370854 -18.16900746276065, 122.4980635599076 -18.18030943012991, 122.4829255995677 -18.20208387835354, 122.4758593859061 -18.20960185794186, 122.4718783928 -18.21518569378478, 122.4683556225542 -18.21887127099977, 122.3052310051653 -18.20721677246008, 122.3281231189311 -17.91897386098128, 122.498556873224 -17.93115963437356, 122.5028285472317 -17.94103555872998))), EPSG:4326)"
      ]
     },
     "execution_count": 44,
     "metadata": {},
     "output_type": "execute_result"
    }
   ],
   "source": [
    "# Albers grid cells used to process the analysis\n",
    "gridcell_gdf = (\n",
    "    gpd.read_file(config['Input files']['grid_path']).to_crs(\n",
    "        epsg=4326).set_index('id'))\n",
    "gridcell_gdf.index = gridcell_gdf.index.astype(int).astype(str)\n",
    "gridcell_gdf = gridcell_gdf.loc[[str(study_area)]]\n",
    "\n",
    "# Create geom as input for dc.load\n",
    "geom = Geometry(geom=gridcell_gdf.iloc[0].geometry, crs='EPSG:4326')\n",
    "geom"
   ]
  },
  {
   "cell_type": "markdown",
   "id": "9b72074d-c4bc-410b-83e1-80295227b81c",
   "metadata": {},
   "source": [
    "##### Other options for loading study area"
   ]
  },
  {
   "cell_type": "code",
   "execution_count": 45,
   "id": "6031b959-82c9-4698-a71c-410896b24134",
   "metadata": {},
   "outputs": [],
   "source": [
    "# # aoi = 'McCarthur River'\n",
    "# # aoi = 'Greenbank'\n",
    "# aoi = 'Seven Emu'\n",
    "# # aoi = 'Wollogorang'\n",
    "\n",
    "# # Import regions of interest\n",
    "# aoi_gdf = gpd.read_file('data/raw/Phase_1_NT_Gov.geojson').set_index('Name').to_crs('EPSG:3577')\n",
    "# aoi_gdf.head()\n",
    "\n",
    "# # Select AOI\n",
    "# geom = Geometry(geom=aoi_gdf.loc[aoi].geometry, crs='EPSG:3577')\n",
    "# geom"
   ]
  },
  {
   "cell_type": "code",
   "execution_count": 46,
   "id": "bdcf1c79-ae5a-4453-a7e8-d3f021b0b65a",
   "metadata": {},
   "outputs": [],
   "source": [
    "# from odc.ui import select_on_a_map\n",
    "# from ipyleaflet import basemaps, basemap_to_tiles\n",
    "\n",
    "# # Plot interactive map to select area\n",
    "# basemap = basemap_to_tiles(basemaps.Esri.WorldImagery)\n",
    "# geom = select_on_a_map(height='600px',\n",
    "#                              layers=(basemap,),\n",
    "#                              center=(-26, 135), \n",
    "#                              zoom=4)"
   ]
  },
  {
   "cell_type": "markdown",
   "id": "54c892b8-42d3-4930-ad97-e0e214535fc5",
   "metadata": {},
   "source": [
    "## Load data"
   ]
  },
  {
   "cell_type": "code",
   "execution_count": 47,
   "id": "756ce682-75ce-4a6b-8728-f18e8133283c",
   "metadata": {},
   "outputs": [
    {
     "data": {
      "text/html": [
       "<div>\n",
       "    <div style=\"width: 24px; height: 24px; background-color: #e1e1e1; border: 3px solid #9D9D9D; border-radius: 5px; position: absolute;\"> </div>\n",
       "    <div style=\"margin-left: 48px;\">\n",
       "        <h3 style=\"margin-bottom: 0px;\">Client</h3>\n",
       "        <p style=\"color: #9D9D9D; margin-bottom: 0px;\">Client-ee55e196-6561-11ed-85eb-1ea71673e6bb</p>\n",
       "        <table style=\"width: 100%; text-align: left;\">\n",
       "\n",
       "        <tr>\n",
       "        \n",
       "            <td style=\"text-align: left;\"><strong>Connection method:</strong> Cluster object</td>\n",
       "            <td style=\"text-align: left;\"><strong>Cluster type:</strong> distributed.LocalCluster</td>\n",
       "        \n",
       "        </tr>\n",
       "\n",
       "        \n",
       "            <tr>\n",
       "                <td style=\"text-align: left;\">\n",
       "                    <strong>Dashboard: </strong> <a href=\"/user/claire.phillips@ga.gov.au/proxy/44859/status\" target=\"_blank\">/user/claire.phillips@ga.gov.au/proxy/44859/status</a>\n",
       "                </td>\n",
       "                <td style=\"text-align: left;\"></td>\n",
       "            </tr>\n",
       "        \n",
       "\n",
       "        </table>\n",
       "\n",
       "        \n",
       "            <details>\n",
       "            <summary style=\"margin-bottom: 20px;\"><h3 style=\"display: inline;\">Cluster Info</h3></summary>\n",
       "            <div class=\"jp-RenderedHTMLCommon jp-RenderedHTML jp-mod-trusted jp-OutputArea-output\">\n",
       "    <div style=\"width: 24px; height: 24px; background-color: #e1e1e1; border: 3px solid #9D9D9D; border-radius: 5px; position: absolute;\">\n",
       "    </div>\n",
       "    <div style=\"margin-left: 48px;\">\n",
       "        <h3 style=\"margin-bottom: 0px; margin-top: 0px;\">LocalCluster</h3>\n",
       "        <p style=\"color: #9D9D9D; margin-bottom: 0px;\">e280721d</p>\n",
       "        <table style=\"width: 100%; text-align: left;\">\n",
       "            <tr>\n",
       "                <td style=\"text-align: left;\">\n",
       "                    <strong>Dashboard:</strong> <a href=\"/user/claire.phillips@ga.gov.au/proxy/44859/status\" target=\"_blank\">/user/claire.phillips@ga.gov.au/proxy/44859/status</a>\n",
       "                </td>\n",
       "                <td style=\"text-align: left;\">\n",
       "                    <strong>Workers:</strong> 1\n",
       "                </td>\n",
       "            </tr>\n",
       "            <tr>\n",
       "                <td style=\"text-align: left;\">\n",
       "                    <strong>Total threads:</strong> 15\n",
       "                </td>\n",
       "                <td style=\"text-align: left;\">\n",
       "                    <strong>Total memory:</strong> 117.21 GiB\n",
       "                </td>\n",
       "            </tr>\n",
       "            \n",
       "            <tr>\n",
       "    <td style=\"text-align: left;\"><strong>Status:</strong> running</td>\n",
       "    <td style=\"text-align: left;\"><strong>Using processes:</strong> True</td>\n",
       "</tr>\n",
       "\n",
       "            \n",
       "        </table>\n",
       "\n",
       "        <details>\n",
       "            <summary style=\"margin-bottom: 20px;\">\n",
       "                <h3 style=\"display: inline;\">Scheduler Info</h3>\n",
       "            </summary>\n",
       "\n",
       "            <div style=\"\">\n",
       "    <div>\n",
       "        <div style=\"width: 24px; height: 24px; background-color: #FFF7E5; border: 3px solid #FF6132; border-radius: 5px; position: absolute;\"> </div>\n",
       "        <div style=\"margin-left: 48px;\">\n",
       "            <h3 style=\"margin-bottom: 0px;\">Scheduler</h3>\n",
       "            <p style=\"color: #9D9D9D; margin-bottom: 0px;\">Scheduler-14029e6d-5842-47fa-9ad2-9abec82a1df8</p>\n",
       "            <table style=\"width: 100%; text-align: left;\">\n",
       "                <tr>\n",
       "                    <td style=\"text-align: left;\">\n",
       "                        <strong>Comm:</strong> tcp://127.0.0.1:37875\n",
       "                    </td>\n",
       "                    <td style=\"text-align: left;\">\n",
       "                        <strong>Workers:</strong> 1\n",
       "                    </td>\n",
       "                </tr>\n",
       "                <tr>\n",
       "                    <td style=\"text-align: left;\">\n",
       "                        <strong>Dashboard:</strong> <a href=\"/user/claire.phillips@ga.gov.au/proxy/44859/status\" target=\"_blank\">/user/claire.phillips@ga.gov.au/proxy/44859/status</a>\n",
       "                    </td>\n",
       "                    <td style=\"text-align: left;\">\n",
       "                        <strong>Total threads:</strong> 15\n",
       "                    </td>\n",
       "                </tr>\n",
       "                <tr>\n",
       "                    <td style=\"text-align: left;\">\n",
       "                        <strong>Started:</strong> 3 hours ago\n",
       "                    </td>\n",
       "                    <td style=\"text-align: left;\">\n",
       "                        <strong>Total memory:</strong> 117.21 GiB\n",
       "                    </td>\n",
       "                </tr>\n",
       "            </table>\n",
       "        </div>\n",
       "    </div>\n",
       "\n",
       "    <details style=\"margin-left: 48px;\">\n",
       "        <summary style=\"margin-bottom: 20px;\">\n",
       "            <h3 style=\"display: inline;\">Workers</h3>\n",
       "        </summary>\n",
       "\n",
       "        \n",
       "        <div style=\"margin-bottom: 20px;\">\n",
       "            <div style=\"width: 24px; height: 24px; background-color: #DBF5FF; border: 3px solid #4CC9FF; border-radius: 5px; position: absolute;\"> </div>\n",
       "            <div style=\"margin-left: 48px;\">\n",
       "            <details>\n",
       "                <summary>\n",
       "                    <h4 style=\"margin-bottom: 0px; display: inline;\">Worker: 0</h4>\n",
       "                </summary>\n",
       "                <table style=\"width: 100%; text-align: left;\">\n",
       "                    <tr>\n",
       "                        <td style=\"text-align: left;\">\n",
       "                            <strong>Comm: </strong> tcp://127.0.0.1:32867\n",
       "                        </td>\n",
       "                        <td style=\"text-align: left;\">\n",
       "                            <strong>Total threads: </strong> 15\n",
       "                        </td>\n",
       "                    </tr>\n",
       "                    <tr>\n",
       "                        <td style=\"text-align: left;\">\n",
       "                            <strong>Dashboard: </strong> <a href=\"/user/claire.phillips@ga.gov.au/proxy/37221/status\" target=\"_blank\">/user/claire.phillips@ga.gov.au/proxy/37221/status</a>\n",
       "                        </td>\n",
       "                        <td style=\"text-align: left;\">\n",
       "                            <strong>Memory: </strong> 117.21 GiB\n",
       "                        </td>\n",
       "                    </tr>\n",
       "                    <tr>\n",
       "                        <td style=\"text-align: left;\">\n",
       "                            <strong>Nanny: </strong> tcp://127.0.0.1:46443\n",
       "                        </td>\n",
       "                        <td style=\"text-align: left;\"></td>\n",
       "                    </tr>\n",
       "                    <tr>\n",
       "                        <td colspan=\"2\" style=\"text-align: left;\">\n",
       "                            <strong>Local directory: </strong> /home/jovyan/dea_intertidal/dea-intertidal/dask-worker-space/worker-a8g61x62\n",
       "                        </td>\n",
       "                    </tr>\n",
       "\n",
       "                    \n",
       "\n",
       "                    \n",
       "\n",
       "                </table>\n",
       "            </details>\n",
       "            </div>\n",
       "        </div>\n",
       "        \n",
       "\n",
       "    </details>\n",
       "</div>\n",
       "\n",
       "        </details>\n",
       "    </div>\n",
       "</div>\n",
       "            </details>\n",
       "        \n",
       "\n",
       "    </div>\n",
       "</div>"
      ],
      "text/plain": [
       "<Client: 'tcp://127.0.0.1:37875' processes=1 threads=15, memory=117.21 GiB>"
      ]
     },
     "execution_count": 47,
     "metadata": {},
     "output_type": "execute_result"
    }
   ],
   "source": [
    "client"
   ]
  },
  {
   "cell_type": "code",
   "execution_count": 48,
   "id": "aacc0b6d-39e1-4609-8807-79db8882833f",
   "metadata": {},
   "outputs": [
    {
     "name": "stderr",
     "output_type": "stream",
     "text": [
      "/env/lib/python3.8/site-packages/datacube/utils/geometry/_base.py:608: ShapelyDeprecationWarning: Iteration over multi-part geometries is deprecated and will be removed in Shapely 2.0. Use the `geoms` property to access the constituent parts of a multi-part geometry.\n",
      "  return type(geom)([segmentize_shapely(g) for g in geom])\n"
     ]
    },
    {
     "data": {
      "text/html": [
       "<div><svg style=\"position: absolute; width: 0; height: 0; overflow: hidden\">\n",
       "<defs>\n",
       "<symbol id=\"icon-database\" viewBox=\"0 0 32 32\">\n",
       "<path d=\"M16 0c-8.837 0-16 2.239-16 5v4c0 2.761 7.163 5 16 5s16-2.239 16-5v-4c0-2.761-7.163-5-16-5z\"></path>\n",
       "<path d=\"M16 17c-8.837 0-16-2.239-16-5v6c0 2.761 7.163 5 16 5s16-2.239 16-5v-6c0 2.761-7.163 5-16 5z\"></path>\n",
       "<path d=\"M16 26c-8.837 0-16-2.239-16-5v6c0 2.761 7.163 5 16 5s16-2.239 16-5v-6c0 2.761-7.163 5-16 5z\"></path>\n",
       "</symbol>\n",
       "<symbol id=\"icon-file-text2\" viewBox=\"0 0 32 32\">\n",
       "<path d=\"M28.681 7.159c-0.694-0.947-1.662-2.053-2.724-3.116s-2.169-2.030-3.116-2.724c-1.612-1.182-2.393-1.319-2.841-1.319h-15.5c-1.378 0-2.5 1.121-2.5 2.5v27c0 1.378 1.122 2.5 2.5 2.5h23c1.378 0 2.5-1.122 2.5-2.5v-19.5c0-0.448-0.137-1.23-1.319-2.841zM24.543 5.457c0.959 0.959 1.712 1.825 2.268 2.543h-4.811v-4.811c0.718 0.556 1.584 1.309 2.543 2.268zM28 29.5c0 0.271-0.229 0.5-0.5 0.5h-23c-0.271 0-0.5-0.229-0.5-0.5v-27c0-0.271 0.229-0.5 0.5-0.5 0 0 15.499-0 15.5 0v7c0 0.552 0.448 1 1 1h7v19.5z\"></path>\n",
       "<path d=\"M23 26h-14c-0.552 0-1-0.448-1-1s0.448-1 1-1h14c0.552 0 1 0.448 1 1s-0.448 1-1 1z\"></path>\n",
       "<path d=\"M23 22h-14c-0.552 0-1-0.448-1-1s0.448-1 1-1h14c0.552 0 1 0.448 1 1s-0.448 1-1 1z\"></path>\n",
       "<path d=\"M23 18h-14c-0.552 0-1-0.448-1-1s0.448-1 1-1h14c0.552 0 1 0.448 1 1s-0.448 1-1 1z\"></path>\n",
       "</symbol>\n",
       "</defs>\n",
       "</svg>\n",
       "<style>/* CSS stylesheet for displaying xarray objects in jupyterlab.\n",
       " *\n",
       " */\n",
       "\n",
       ":root {\n",
       "  --xr-font-color0: var(--jp-content-font-color0, rgba(0, 0, 0, 1));\n",
       "  --xr-font-color2: var(--jp-content-font-color2, rgba(0, 0, 0, 0.54));\n",
       "  --xr-font-color3: var(--jp-content-font-color3, rgba(0, 0, 0, 0.38));\n",
       "  --xr-border-color: var(--jp-border-color2, #e0e0e0);\n",
       "  --xr-disabled-color: var(--jp-layout-color3, #bdbdbd);\n",
       "  --xr-background-color: var(--jp-layout-color0, white);\n",
       "  --xr-background-color-row-even: var(--jp-layout-color1, white);\n",
       "  --xr-background-color-row-odd: var(--jp-layout-color2, #eeeeee);\n",
       "}\n",
       "\n",
       "html[theme=dark],\n",
       "body.vscode-dark {\n",
       "  --xr-font-color0: rgba(255, 255, 255, 1);\n",
       "  --xr-font-color2: rgba(255, 255, 255, 0.54);\n",
       "  --xr-font-color3: rgba(255, 255, 255, 0.38);\n",
       "  --xr-border-color: #1F1F1F;\n",
       "  --xr-disabled-color: #515151;\n",
       "  --xr-background-color: #111111;\n",
       "  --xr-background-color-row-even: #111111;\n",
       "  --xr-background-color-row-odd: #313131;\n",
       "}\n",
       "\n",
       ".xr-wrap {\n",
       "  display: block !important;\n",
       "  min-width: 300px;\n",
       "  max-width: 700px;\n",
       "}\n",
       "\n",
       ".xr-text-repr-fallback {\n",
       "  /* fallback to plain text repr when CSS is not injected (untrusted notebook) */\n",
       "  display: none;\n",
       "}\n",
       "\n",
       ".xr-header {\n",
       "  padding-top: 6px;\n",
       "  padding-bottom: 6px;\n",
       "  margin-bottom: 4px;\n",
       "  border-bottom: solid 1px var(--xr-border-color);\n",
       "}\n",
       "\n",
       ".xr-header > div,\n",
       ".xr-header > ul {\n",
       "  display: inline;\n",
       "  margin-top: 0;\n",
       "  margin-bottom: 0;\n",
       "}\n",
       "\n",
       ".xr-obj-type,\n",
       ".xr-array-name {\n",
       "  margin-left: 2px;\n",
       "  margin-right: 10px;\n",
       "}\n",
       "\n",
       ".xr-obj-type {\n",
       "  color: var(--xr-font-color2);\n",
       "}\n",
       "\n",
       ".xr-sections {\n",
       "  padding-left: 0 !important;\n",
       "  display: grid;\n",
       "  grid-template-columns: 150px auto auto 1fr 20px 20px;\n",
       "}\n",
       "\n",
       ".xr-section-item {\n",
       "  display: contents;\n",
       "}\n",
       "\n",
       ".xr-section-item input {\n",
       "  display: none;\n",
       "}\n",
       "\n",
       ".xr-section-item input + label {\n",
       "  color: var(--xr-disabled-color);\n",
       "}\n",
       "\n",
       ".xr-section-item input:enabled + label {\n",
       "  cursor: pointer;\n",
       "  color: var(--xr-font-color2);\n",
       "}\n",
       "\n",
       ".xr-section-item input:enabled + label:hover {\n",
       "  color: var(--xr-font-color0);\n",
       "}\n",
       "\n",
       ".xr-section-summary {\n",
       "  grid-column: 1;\n",
       "  color: var(--xr-font-color2);\n",
       "  font-weight: 500;\n",
       "}\n",
       "\n",
       ".xr-section-summary > span {\n",
       "  display: inline-block;\n",
       "  padding-left: 0.5em;\n",
       "}\n",
       "\n",
       ".xr-section-summary-in:disabled + label {\n",
       "  color: var(--xr-font-color2);\n",
       "}\n",
       "\n",
       ".xr-section-summary-in + label:before {\n",
       "  display: inline-block;\n",
       "  content: '►';\n",
       "  font-size: 11px;\n",
       "  width: 15px;\n",
       "  text-align: center;\n",
       "}\n",
       "\n",
       ".xr-section-summary-in:disabled + label:before {\n",
       "  color: var(--xr-disabled-color);\n",
       "}\n",
       "\n",
       ".xr-section-summary-in:checked + label:before {\n",
       "  content: '▼';\n",
       "}\n",
       "\n",
       ".xr-section-summary-in:checked + label > span {\n",
       "  display: none;\n",
       "}\n",
       "\n",
       ".xr-section-summary,\n",
       ".xr-section-inline-details {\n",
       "  padding-top: 4px;\n",
       "  padding-bottom: 4px;\n",
       "}\n",
       "\n",
       ".xr-section-inline-details {\n",
       "  grid-column: 2 / -1;\n",
       "}\n",
       "\n",
       ".xr-section-details {\n",
       "  display: none;\n",
       "  grid-column: 1 / -1;\n",
       "  margin-bottom: 5px;\n",
       "}\n",
       "\n",
       ".xr-section-summary-in:checked ~ .xr-section-details {\n",
       "  display: contents;\n",
       "}\n",
       "\n",
       ".xr-array-wrap {\n",
       "  grid-column: 1 / -1;\n",
       "  display: grid;\n",
       "  grid-template-columns: 20px auto;\n",
       "}\n",
       "\n",
       ".xr-array-wrap > label {\n",
       "  grid-column: 1;\n",
       "  vertical-align: top;\n",
       "}\n",
       "\n",
       ".xr-preview {\n",
       "  color: var(--xr-font-color3);\n",
       "}\n",
       "\n",
       ".xr-array-preview,\n",
       ".xr-array-data {\n",
       "  padding: 0 5px !important;\n",
       "  grid-column: 2;\n",
       "}\n",
       "\n",
       ".xr-array-data,\n",
       ".xr-array-in:checked ~ .xr-array-preview {\n",
       "  display: none;\n",
       "}\n",
       "\n",
       ".xr-array-in:checked ~ .xr-array-data,\n",
       ".xr-array-preview {\n",
       "  display: inline-block;\n",
       "}\n",
       "\n",
       ".xr-dim-list {\n",
       "  display: inline-block !important;\n",
       "  list-style: none;\n",
       "  padding: 0 !important;\n",
       "  margin: 0;\n",
       "}\n",
       "\n",
       ".xr-dim-list li {\n",
       "  display: inline-block;\n",
       "  padding: 0;\n",
       "  margin: 0;\n",
       "}\n",
       "\n",
       ".xr-dim-list:before {\n",
       "  content: '(';\n",
       "}\n",
       "\n",
       ".xr-dim-list:after {\n",
       "  content: ')';\n",
       "}\n",
       "\n",
       ".xr-dim-list li:not(:last-child):after {\n",
       "  content: ',';\n",
       "  padding-right: 5px;\n",
       "}\n",
       "\n",
       ".xr-has-index {\n",
       "  font-weight: bold;\n",
       "}\n",
       "\n",
       ".xr-var-list,\n",
       ".xr-var-item {\n",
       "  display: contents;\n",
       "}\n",
       "\n",
       ".xr-var-item > div,\n",
       ".xr-var-item label,\n",
       ".xr-var-item > .xr-var-name span {\n",
       "  background-color: var(--xr-background-color-row-even);\n",
       "  margin-bottom: 0;\n",
       "}\n",
       "\n",
       ".xr-var-item > .xr-var-name:hover span {\n",
       "  padding-right: 5px;\n",
       "}\n",
       "\n",
       ".xr-var-list > li:nth-child(odd) > div,\n",
       ".xr-var-list > li:nth-child(odd) > label,\n",
       ".xr-var-list > li:nth-child(odd) > .xr-var-name span {\n",
       "  background-color: var(--xr-background-color-row-odd);\n",
       "}\n",
       "\n",
       ".xr-var-name {\n",
       "  grid-column: 1;\n",
       "}\n",
       "\n",
       ".xr-var-dims {\n",
       "  grid-column: 2;\n",
       "}\n",
       "\n",
       ".xr-var-dtype {\n",
       "  grid-column: 3;\n",
       "  text-align: right;\n",
       "  color: var(--xr-font-color2);\n",
       "}\n",
       "\n",
       ".xr-var-preview {\n",
       "  grid-column: 4;\n",
       "}\n",
       "\n",
       ".xr-var-name,\n",
       ".xr-var-dims,\n",
       ".xr-var-dtype,\n",
       ".xr-preview,\n",
       ".xr-attrs dt {\n",
       "  white-space: nowrap;\n",
       "  overflow: hidden;\n",
       "  text-overflow: ellipsis;\n",
       "  padding-right: 10px;\n",
       "}\n",
       "\n",
       ".xr-var-name:hover,\n",
       ".xr-var-dims:hover,\n",
       ".xr-var-dtype:hover,\n",
       ".xr-attrs dt:hover {\n",
       "  overflow: visible;\n",
       "  width: auto;\n",
       "  z-index: 1;\n",
       "}\n",
       "\n",
       ".xr-var-attrs,\n",
       ".xr-var-data {\n",
       "  display: none;\n",
       "  background-color: var(--xr-background-color) !important;\n",
       "  padding-bottom: 5px !important;\n",
       "}\n",
       "\n",
       ".xr-var-attrs-in:checked ~ .xr-var-attrs,\n",
       ".xr-var-data-in:checked ~ .xr-var-data {\n",
       "  display: block;\n",
       "}\n",
       "\n",
       ".xr-var-data > table {\n",
       "  float: right;\n",
       "}\n",
       "\n",
       ".xr-var-name span,\n",
       ".xr-var-data,\n",
       ".xr-attrs {\n",
       "  padding-left: 25px !important;\n",
       "}\n",
       "\n",
       ".xr-attrs,\n",
       ".xr-var-attrs,\n",
       ".xr-var-data {\n",
       "  grid-column: 1 / -1;\n",
       "}\n",
       "\n",
       "dl.xr-attrs {\n",
       "  padding: 0;\n",
       "  margin: 0;\n",
       "  display: grid;\n",
       "  grid-template-columns: 125px auto;\n",
       "}\n",
       "\n",
       ".xr-attrs dt,\n",
       ".xr-attrs dd {\n",
       "  padding: 0;\n",
       "  margin: 0;\n",
       "  float: left;\n",
       "  padding-right: 10px;\n",
       "  width: auto;\n",
       "}\n",
       "\n",
       ".xr-attrs dt {\n",
       "  font-weight: normal;\n",
       "  grid-column: 1;\n",
       "}\n",
       "\n",
       ".xr-attrs dt:hover span {\n",
       "  display: inline-block;\n",
       "  background: var(--xr-background-color);\n",
       "  padding-right: 10px;\n",
       "}\n",
       "\n",
       ".xr-attrs dd {\n",
       "  grid-column: 2;\n",
       "  white-space: pre-wrap;\n",
       "  word-break: break-all;\n",
       "}\n",
       "\n",
       ".xr-icon-database,\n",
       ".xr-icon-file-text2 {\n",
       "  display: inline-block;\n",
       "  vertical-align: middle;\n",
       "  width: 1em;\n",
       "  height: 1.5em !important;\n",
       "  stroke-width: 0;\n",
       "  stroke: currentColor;\n",
       "  fill: currentColor;\n",
       "}\n",
       "</style><pre class='xr-text-repr-fallback'>&lt;xarray.Dataset&gt;\n",
       "Dimensions:      (time: 126, y: 1094, x: 759)\n",
       "Coordinates:\n",
       "  * time         (time) datetime64[ns] 2020-01-14T02:12:22.280514 ... 2021-12...\n",
       "  * y            (y) float64 7.972e+06 7.972e+06 ... 7.94e+06 7.939e+06\n",
       "  * x            (x) float64 -8.513e+05 -8.513e+05 ... -8.286e+05 -8.286e+05\n",
       "    spatial_ref  int32 32753\n",
       "Data variables:\n",
       "    ndwi         (time, y, x) float32 nan nan nan nan ... -0.3764 -0.358 -0.3575\n",
       "Attributes:\n",
       "    crs:           epsg:32753\n",
       "    grid_mapping:  spatial_ref</pre><div class='xr-wrap' style='display:none'><div class='xr-header'><div class='xr-obj-type'>xarray.Dataset</div></div><ul class='xr-sections'><li class='xr-section-item'><input id='section-d5023e3f-cba0-4b7f-a979-f494ce4a6809' class='xr-section-summary-in' type='checkbox' disabled ><label for='section-d5023e3f-cba0-4b7f-a979-f494ce4a6809' class='xr-section-summary'  title='Expand/collapse section'>Dimensions:</label><div class='xr-section-inline-details'><ul class='xr-dim-list'><li><span class='xr-has-index'>time</span>: 126</li><li><span class='xr-has-index'>y</span>: 1094</li><li><span class='xr-has-index'>x</span>: 759</li></ul></div><div class='xr-section-details'></div></li><li class='xr-section-item'><input id='section-a0dff935-05fe-4e51-b8c8-02b26b0c8c6e' class='xr-section-summary-in' type='checkbox'  checked><label for='section-a0dff935-05fe-4e51-b8c8-02b26b0c8c6e' class='xr-section-summary' >Coordinates: <span>(4)</span></label><div class='xr-section-inline-details'></div><div class='xr-section-details'><ul class='xr-var-list'><li class='xr-var-item'><div class='xr-var-name'><span class='xr-has-index'>time</span></div><div class='xr-var-dims'>(time)</div><div class='xr-var-dtype'>datetime64[ns]</div><div class='xr-var-preview xr-preview'>2020-01-14T02:12:22.280514 ... 2...</div><input id='attrs-f8fa65fa-88b8-474d-b7a0-ab22a94fc5aa' class='xr-var-attrs-in' type='checkbox' ><label for='attrs-f8fa65fa-88b8-474d-b7a0-ab22a94fc5aa' title='Show/Hide attributes'><svg class='icon xr-icon-file-text2'><use xlink:href='#icon-file-text2'></use></svg></label><input id='data-8e7a6c72-5fe9-442f-bbaf-40daf3f694be' class='xr-var-data-in' type='checkbox'><label for='data-8e7a6c72-5fe9-442f-bbaf-40daf3f694be' title='Show/Hide data repr'><svg class='icon xr-icon-database'><use xlink:href='#icon-database'></use></svg></label><div class='xr-var-attrs'><dl class='xr-attrs'><dt><span>units :</span></dt><dd>seconds since 1970-01-01 00:00:00</dd></dl></div><div class='xr-var-data'><pre>array([&#x27;2020-01-14T02:12:22.280514000&#x27;, &#x27;2020-01-24T02:12:21.097468000&#x27;,\n",
       "       &#x27;2020-01-29T02:12:20.663737000&#x27;, &#x27;2020-02-03T02:12:35.742675000&#x27;,\n",
       "       &#x27;2020-02-08T02:12:18.901958000&#x27;, &#x27;2020-02-13T02:12:23.199726000&#x27;,\n",
       "       &#x27;2020-02-18T02:12:21.830545000&#x27;, &#x27;2020-02-23T02:12:24.639181000&#x27;,\n",
       "       &#x27;2020-02-28T02:12:23.161841000&#x27;, &#x27;2020-03-04T02:12:25.512589000&#x27;,\n",
       "       &#x27;2020-03-09T02:12:23.966166000&#x27;, &#x27;2020-03-14T02:12:25.911001000&#x27;,\n",
       "       &#x27;2020-03-19T02:12:24.233065000&#x27;, &#x27;2020-03-24T02:12:25.806524000&#x27;,\n",
       "       &#x27;2020-03-29T02:12:24.012212000&#x27;, &#x27;2020-04-03T02:12:25.161784000&#x27;,\n",
       "       &#x27;2020-04-08T02:12:25.427837000&#x27;, &#x27;2020-04-18T02:12:28.123127000&#x27;,\n",
       "       &#x27;2020-04-23T02:12:22.309519000&#x27;, &#x27;2020-04-28T02:12:30.357724000&#x27;,\n",
       "       &#x27;2020-05-03T02:12:24.684174000&#x27;, &#x27;2020-05-08T02:12:32.054723000&#x27;,\n",
       "       &#x27;2020-05-13T02:12:26.825513000&#x27;, &#x27;2020-05-18T02:12:33.225333000&#x27;,\n",
       "       &#x27;2020-05-23T02:12:28.472168000&#x27;, &#x27;2020-06-02T02:12:29.602680000&#x27;,\n",
       "       &#x27;2020-06-07T02:12:34.219253000&#x27;, &#x27;2020-06-12T02:12:30.253010000&#x27;,\n",
       "       &#x27;2020-06-17T02:12:33.968237000&#x27;, &#x27;2020-06-22T02:12:30.441117000&#x27;,\n",
       "       &#x27;2020-06-27T02:12:33.331574000&#x27;, &#x27;2020-07-02T02:12:30.183390000&#x27;,\n",
       "       &#x27;2020-07-07T02:12:32.288952000&#x27;, &#x27;2020-07-12T02:12:29.544952000&#x27;,\n",
       "       &#x27;2020-07-17T02:12:32.750989000&#x27;, &#x27;2020-07-22T02:12:29.835219000&#x27;,\n",
       "       &#x27;2020-07-27T02:12:33.523194000&#x27;, &#x27;2020-08-01T02:12:30.795408000&#x27;,\n",
       "       &#x27;2020-08-06T02:12:33.890836000&#x27;, &#x27;2020-08-16T02:12:33.767801000&#x27;,\n",
       "       &#x27;2020-08-21T02:12:31.503426000&#x27;, &#x27;2020-08-26T02:12:33.251376000&#x27;,\n",
       "       &#x27;2020-08-31T02:12:31.181559000&#x27;, &#x27;2020-09-05T02:12:32.330921000&#x27;,\n",
       "       &#x27;2020-09-10T02:12:30.411298000&#x27;, &#x27;2020-09-15T02:12:32.172118000&#x27;,\n",
       "       &#x27;2020-09-20T02:12:29.911105000&#x27;, &#x27;2020-09-25T02:12:33.190259000&#x27;,\n",
       "       &#x27;2020-09-30T02:12:31.035981000&#x27;, &#x27;2020-10-05T02:12:33.722813000&#x27;,\n",
       "       &#x27;2020-10-10T02:12:31.591915000&#x27;, &#x27;2020-10-15T02:12:33.645544000&#x27;,\n",
       "       &#x27;2020-10-25T02:12:33.227436000&#x27;, &#x27;2020-11-04T02:12:32.741422000&#x27;,\n",
       "       &#x27;2020-11-09T02:12:29.466611000&#x27;, &#x27;2020-11-14T02:12:31.493545000&#x27;,\n",
       "       &#x27;2020-11-19T02:12:28.595270000&#x27;, &#x27;2020-11-24T02:12:29.514602000&#x27;,\n",
       "       &#x27;2020-11-29T02:12:27.601369000&#x27;, &#x27;2020-12-04T02:12:26.689723000&#x27;,\n",
       "       &#x27;2020-12-14T02:12:25.094621000&#x27;, &#x27;2020-12-19T02:12:38.252064000&#x27;,\n",
       "       &#x27;2020-12-24T02:12:27.021831000&#x27;, &#x27;2021-01-03T02:12:28.232361000&#x27;,\n",
       "       &#x27;2021-01-08T02:12:27.080250000&#x27;, &#x27;2021-01-13T02:12:28.727229000&#x27;,\n",
       "       &#x27;2021-01-18T02:12:27.734648000&#x27;, &#x27;2021-01-23T02:12:28.570949000&#x27;,\n",
       "       &#x27;2021-01-28T02:12:27.738055000&#x27;, &#x27;2021-02-12T02:12:26.507265000&#x27;,\n",
       "       &#x27;2021-02-17T02:12:40.273741000&#x27;, &#x27;2021-02-22T02:12:27.474181000&#x27;,\n",
       "       &#x27;2021-02-27T02:12:26.536235000&#x27;, &#x27;2021-03-04T02:12:27.784391000&#x27;,\n",
       "       &#x27;2021-03-09T02:12:41.899236000&#x27;, &#x27;2021-03-24T02:12:26.351687000&#x27;,\n",
       "       &#x27;2021-03-29T02:12:26.474908000&#x27;, &#x27;2021-04-03T02:12:24.707698000&#x27;,\n",
       "       &#x27;2021-04-08T02:12:25.136759000&#x27;, &#x27;2021-04-13T02:12:22.408133000&#x27;,\n",
       "       &#x27;2021-04-18T02:12:23.225978000&#x27;, &#x27;2021-04-23T02:12:23.774361000&#x27;,\n",
       "       &#x27;2021-04-28T02:12:23.316458000&#x27;, &#x27;2021-05-03T02:12:25.959389000&#x27;,\n",
       "       &#x27;2021-05-08T02:12:25.587884000&#x27;, &#x27;2021-05-13T02:12:27.534841000&#x27;,\n",
       "       &#x27;2021-05-18T02:12:27.437763000&#x27;, &#x27;2021-05-23T02:12:28.395961000&#x27;,\n",
       "       &#x27;2021-05-28T02:12:28.512385000&#x27;, &#x27;2021-06-02T02:12:28.755062000&#x27;,\n",
       "       &#x27;2021-06-07T02:12:28.936955000&#x27;, &#x27;2021-06-27T02:12:28.632314000&#x27;,\n",
       "       &#x27;2021-07-02T02:12:30.056536000&#x27;, &#x27;2021-07-07T02:12:29.475866000&#x27;,\n",
       "       &#x27;2021-07-12T02:12:30.966668000&#x27;, &#x27;2021-07-17T02:12:29.947103000&#x27;,\n",
       "       &#x27;2021-07-22T02:12:31.281453000&#x27;, &#x27;2021-07-27T02:12:29.832980000&#x27;,\n",
       "       &#x27;2021-08-01T02:12:31.099317000&#x27;, &#x27;2021-08-06T02:12:29.110438000&#x27;,\n",
       "       &#x27;2021-08-11T02:12:30.518566000&#x27;, &#x27;2021-08-16T02:12:27.890700000&#x27;,\n",
       "       &#x27;2021-08-21T02:12:30.146185000&#x27;, &#x27;2021-08-26T02:12:26.184562000&#x27;,\n",
       "       &#x27;2021-08-31T02:12:29.296905000&#x27;, &#x27;2021-09-05T02:12:24.391238000&#x27;,\n",
       "       &#x27;2021-09-10T02:12:28.038822000&#x27;, &#x27;2021-09-15T02:12:24.063087000&#x27;,\n",
       "       &#x27;2021-09-20T02:12:30.375451000&#x27;, &#x27;2021-09-25T02:12:26.170865000&#x27;,\n",
       "       &#x27;2021-09-30T02:12:32.154431000&#x27;, &#x27;2021-10-05T02:12:28.096834000&#x27;,\n",
       "       &#x27;2021-10-10T02:12:33.178575000&#x27;, &#x27;2021-10-15T02:12:29.171059000&#x27;,\n",
       "       &#x27;2021-10-20T02:12:33.296844000&#x27;, &#x27;2021-10-25T02:12:29.424529000&#x27;,\n",
       "       &#x27;2021-10-30T02:12:32.554453000&#x27;, &#x27;2021-11-04T02:12:28.719714000&#x27;,\n",
       "       &#x27;2021-11-14T02:12:26.811079000&#x27;, &#x27;2021-11-19T02:12:27.988337000&#x27;,\n",
       "       &#x27;2021-11-24T02:12:24.070498000&#x27;, &#x27;2021-11-29T02:12:27.754417000&#x27;,\n",
       "       &#x27;2021-12-04T02:12:23.237915000&#x27;, &#x27;2021-12-09T02:12:26.585024000&#x27;,\n",
       "       &#x27;2021-12-19T02:12:28.539684000&#x27;, &#x27;2021-12-29T02:12:29.528327000&#x27;],\n",
       "      dtype=&#x27;datetime64[ns]&#x27;)</pre></div></li><li class='xr-var-item'><div class='xr-var-name'><span class='xr-has-index'>y</span></div><div class='xr-var-dims'>(y)</div><div class='xr-var-dtype'>float64</div><div class='xr-var-preview xr-preview'>7.972e+06 7.972e+06 ... 7.939e+06</div><input id='attrs-c65a9147-53e6-41d3-94e8-420c525f297f' class='xr-var-attrs-in' type='checkbox' ><label for='attrs-c65a9147-53e6-41d3-94e8-420c525f297f' title='Show/Hide attributes'><svg class='icon xr-icon-file-text2'><use xlink:href='#icon-file-text2'></use></svg></label><input id='data-86e172d9-bd81-4964-9333-e55366674792' class='xr-var-data-in' type='checkbox'><label for='data-86e172d9-bd81-4964-9333-e55366674792' title='Show/Hide data repr'><svg class='icon xr-icon-database'><use xlink:href='#icon-database'></use></svg></label><div class='xr-var-attrs'><dl class='xr-attrs'><dt><span>units :</span></dt><dd>metre</dd><dt><span>resolution :</span></dt><dd>-30.0</dd><dt><span>crs :</span></dt><dd>epsg:32753</dd></dl></div><div class='xr-var-data'><pre>array([7972275., 7972245., 7972215., ..., 7939545., 7939515., 7939485.])</pre></div></li><li class='xr-var-item'><div class='xr-var-name'><span class='xr-has-index'>x</span></div><div class='xr-var-dims'>(x)</div><div class='xr-var-dtype'>float64</div><div class='xr-var-preview xr-preview'>-8.513e+05 ... -8.286e+05</div><input id='attrs-ae442a7c-59cc-48a6-a308-5873eb63fb63' class='xr-var-attrs-in' type='checkbox' ><label for='attrs-ae442a7c-59cc-48a6-a308-5873eb63fb63' title='Show/Hide attributes'><svg class='icon xr-icon-file-text2'><use xlink:href='#icon-file-text2'></use></svg></label><input id='data-fdd0c33c-4d09-4d1a-8bef-6f8057cc433e' class='xr-var-data-in' type='checkbox'><label for='data-fdd0c33c-4d09-4d1a-8bef-6f8057cc433e' title='Show/Hide data repr'><svg class='icon xr-icon-database'><use xlink:href='#icon-database'></use></svg></label><div class='xr-var-attrs'><dl class='xr-attrs'><dt><span>units :</span></dt><dd>metre</dd><dt><span>resolution :</span></dt><dd>30.0</dd><dt><span>crs :</span></dt><dd>epsg:32753</dd></dl></div><div class='xr-var-data'><pre>array([-851295., -851265., -851235., ..., -828615., -828585., -828555.])</pre></div></li><li class='xr-var-item'><div class='xr-var-name'><span>spatial_ref</span></div><div class='xr-var-dims'>()</div><div class='xr-var-dtype'>int32</div><div class='xr-var-preview xr-preview'>32753</div><input id='attrs-204a1418-ab7d-47fd-a595-416b2c2f5622' class='xr-var-attrs-in' type='checkbox' ><label for='attrs-204a1418-ab7d-47fd-a595-416b2c2f5622' title='Show/Hide attributes'><svg class='icon xr-icon-file-text2'><use xlink:href='#icon-file-text2'></use></svg></label><input id='data-9885a15b-518f-4e08-a891-ac0314a82855' class='xr-var-data-in' type='checkbox'><label for='data-9885a15b-518f-4e08-a891-ac0314a82855' title='Show/Hide data repr'><svg class='icon xr-icon-database'><use xlink:href='#icon-database'></use></svg></label><div class='xr-var-attrs'><dl class='xr-attrs'><dt><span>spatial_ref :</span></dt><dd>PROJCS[&quot;WGS 84 / UTM zone 53S&quot;,GEOGCS[&quot;WGS 84&quot;,DATUM[&quot;WGS_1984&quot;,SPHEROID[&quot;WGS 84&quot;,6378137,298.257223563,AUTHORITY[&quot;EPSG&quot;,&quot;7030&quot;]],AUTHORITY[&quot;EPSG&quot;,&quot;6326&quot;]],PRIMEM[&quot;Greenwich&quot;,0,AUTHORITY[&quot;EPSG&quot;,&quot;8901&quot;]],UNIT[&quot;degree&quot;,0.0174532925199433,AUTHORITY[&quot;EPSG&quot;,&quot;9122&quot;]],AUTHORITY[&quot;EPSG&quot;,&quot;4326&quot;]],PROJECTION[&quot;Transverse_Mercator&quot;],PARAMETER[&quot;latitude_of_origin&quot;,0],PARAMETER[&quot;central_meridian&quot;,135],PARAMETER[&quot;scale_factor&quot;,0.9996],PARAMETER[&quot;false_easting&quot;,500000],PARAMETER[&quot;false_northing&quot;,10000000],UNIT[&quot;metre&quot;,1,AUTHORITY[&quot;EPSG&quot;,&quot;9001&quot;]],AXIS[&quot;Easting&quot;,EAST],AXIS[&quot;Northing&quot;,NORTH],AUTHORITY[&quot;EPSG&quot;,&quot;32753&quot;]]</dd><dt><span>grid_mapping_name :</span></dt><dd>transverse_mercator</dd></dl></div><div class='xr-var-data'><pre>array(32753, dtype=int32)</pre></div></li></ul></div></li><li class='xr-section-item'><input id='section-d2fd5a46-c7d7-42e0-9b15-cbefd4b99b0a' class='xr-section-summary-in' type='checkbox'  checked><label for='section-d2fd5a46-c7d7-42e0-9b15-cbefd4b99b0a' class='xr-section-summary' >Data variables: <span>(1)</span></label><div class='xr-section-inline-details'></div><div class='xr-section-details'><ul class='xr-var-list'><li class='xr-var-item'><div class='xr-var-name'><span>ndwi</span></div><div class='xr-var-dims'>(time, y, x)</div><div class='xr-var-dtype'>float32</div><div class='xr-var-preview xr-preview'>nan nan nan ... -0.358 -0.3575</div><input id='attrs-90434957-a118-4d8f-83a4-c599376f5b6b' class='xr-var-attrs-in' type='checkbox' ><label for='attrs-90434957-a118-4d8f-83a4-c599376f5b6b' title='Show/Hide attributes'><svg class='icon xr-icon-file-text2'><use xlink:href='#icon-file-text2'></use></svg></label><input id='data-11bd4c08-54fe-40dc-a0a1-061a213ff355' class='xr-var-data-in' type='checkbox'><label for='data-11bd4c08-54fe-40dc-a0a1-061a213ff355' title='Show/Hide data repr'><svg class='icon xr-icon-database'><use xlink:href='#icon-database'></use></svg></label><div class='xr-var-attrs'><dl class='xr-attrs'><dt><span>crs :</span></dt><dd>epsg:32753</dd><dt><span>units :</span></dt><dd>1</dd><dt><span>nodata :</span></dt><dd>nan</dd></dl></div><div class='xr-var-data'><pre>array([[[        nan,         nan,         nan, ..., -0.38746592,\n",
       "         -0.3964497 , -0.45150504],\n",
       "        [        nan,         nan,         nan, ..., -0.4246246 ,\n",
       "         -0.41147134, -0.4310559 ],\n",
       "        [        nan,         nan,         nan, ..., -0.47051746,\n",
       "         -0.5077263 , -0.4997239 ],\n",
       "        ...,\n",
       "        [        nan,         nan,         nan, ...,         nan,\n",
       "                 nan,         nan],\n",
       "        [        nan,         nan,         nan, ...,         nan,\n",
       "                 nan,         nan],\n",
       "        [        nan,         nan,         nan, ...,         nan,\n",
       "                 nan,         nan]],\n",
       "\n",
       "       [[        nan,         nan,         nan, ..., -0.34626737,\n",
       "         -0.33780953, -0.38168228],\n",
       "        [        nan,         nan,         nan, ..., -0.37616387,\n",
       "         -0.37959182, -0.36181575],\n",
       "        [        nan,         nan,         nan, ..., -0.44172543,\n",
       "         -0.4612018 , -0.42923793],\n",
       "...\n",
       "        [-0.2907733 , -0.25055218, -0.21386088, ..., -0.40168172,\n",
       "         -0.40315542, -0.4081081 ],\n",
       "        [-0.30089134, -0.29426068, -0.25239006, ..., -0.39393938,\n",
       "         -0.38806465, -0.39918256],\n",
       "        [-0.28890914, -0.2830018 , -0.2176178 , ..., -0.40465742,\n",
       "         -0.3821028 , -0.38058448]],\n",
       "\n",
       "       [[        nan,         nan,         nan, ..., -0.3043801 ,\n",
       "         -0.30218536, -0.30991584],\n",
       "        [        nan,         nan,         nan, ..., -0.30783516,\n",
       "         -0.3089701 , -0.30552506],\n",
       "        [        nan,         nan,         nan, ..., -0.3124077 ,\n",
       "         -0.3221246 , -0.31732544],\n",
       "        ...,\n",
       "        [-0.28540823, -0.24186371, -0.2074392 , ..., -0.37560147,\n",
       "         -0.3728912 , -0.38110554],\n",
       "        [-0.3050193 , -0.28537288, -0.23513635, ..., -0.3661327 ,\n",
       "         -0.3616162 , -0.37110645],\n",
       "        [-0.28016266, -0.2686895 , -0.21361813, ..., -0.37635034,\n",
       "         -0.3579663 , -0.35754353]]], dtype=float32)</pre></div></li></ul></div></li><li class='xr-section-item'><input id='section-51a50959-38c4-4d19-99cf-dd687bc9431d' class='xr-section-summary-in' type='checkbox'  checked><label for='section-51a50959-38c4-4d19-99cf-dd687bc9431d' class='xr-section-summary' >Attributes: <span>(2)</span></label><div class='xr-section-inline-details'></div><div class='xr-section-details'><dl class='xr-attrs'><dt><span>crs :</span></dt><dd>epsg:32753</dd><dt><span>grid_mapping :</span></dt><dd>spatial_ref</dd></dl></div></li></ul></div></div>"
      ],
      "text/plain": [
       "<xarray.Dataset>\n",
       "Dimensions:      (time: 126, y: 1094, x: 759)\n",
       "Coordinates:\n",
       "  * time         (time) datetime64[ns] 2020-01-14T02:12:22.280514 ... 2021-12...\n",
       "  * y            (y) float64 7.972e+06 7.972e+06 ... 7.94e+06 7.939e+06\n",
       "  * x            (x) float64 -8.513e+05 -8.513e+05 ... -8.286e+05 -8.286e+05\n",
       "    spatial_ref  int32 32753\n",
       "Data variables:\n",
       "    ndwi         (time, y, x) float32 nan nan nan nan ... -0.3764 -0.358 -0.3575\n",
       "Attributes:\n",
       "    crs:           epsg:32753\n",
       "    grid_mapping:  spatial_ref"
      ]
     },
     "execution_count": 48,
     "metadata": {},
     "output_type": "execute_result"
    }
   ],
   "source": [
    "ds = load_data(dc=dc, \n",
    "               geom=geom, \n",
    "               time_range=(str(start_year), str(end_year)), \n",
    "               resolution=resolution, \n",
    "               crs=crs,\n",
    "               s2_prod=\"s2_nbart_ndwi\" if include_s2 else None,\n",
    "               ls_prod=\"ls_nbart_ndwi\" if include_ls else None,\n",
    "               config_path=config['Virtual product']['virtual_product_path'])[['ndwi']]\n",
    "# ds\n",
    "# Load into memory\n",
    "ds.load()"
   ]
  },
  {
   "cell_type": "markdown",
   "id": "c34949eb-96f1-4844-ad6e-aeb71399e9f5",
   "metadata": {},
   "source": [
    "## Pixel-based tides\n",
    "FES2014 source code: https://github.com/CNES/aviso-fes\n",
    "\n",
    "34 tidal components"
   ]
  },
  {
   "cell_type": "code",
   "execution_count": 49,
   "id": "9f4c6369-6c90-4d32-a6b1-bbdab6a616f4",
   "metadata": {},
   "outputs": [
    {
     "name": "stdout",
     "output_type": "stream",
     "text": [
      "Creating reduced resolution tide modelling array\n",
      "Modelling tides using FES2014 tide model\n",
      "Reprojecting tides into original array\n"
     ]
    },
    {
     "name": "stderr",
     "output_type": "stream",
     "text": [
      "100%|██████████| 126/126 [00:00<00:00, 141.87it/s]\n"
     ]
    }
   ],
   "source": [
    "# Model tides into every pixel in the three-dimensional (x by y by time) satellite dataset\n",
    "# ds[\"tide_m\"], _ = pixel_tides(ds, resample=True, directory='~/tide_models')\n",
    "ds[\"tide_m\"], _ = pixel_tides(ds, resample=True, directory='~/dev_intexp/dea-notebooks/tide_models_clipped') # CP pointing to clipped tide models elsewhere in sandbox\n",
    "\n",
    "# Set tide array pixels to nodata if the satellite data array pixels contain\n",
    "# nodata. This ensures that we ignore any tide observations where we don't\n",
    "# have matching satellite imagery \n",
    "ds[\"tide_m\"] = ds[\"tide_m\"].where(~ds.to_array().isel(variable=0).isnull())"
   ]
  },
  {
   "cell_type": "markdown",
   "id": "e9c634b5-4195-4cee-9c34-84792debae03",
   "metadata": {},
   "source": [
    "## Pixel-based DEM creation"
   ]
  },
  {
   "cell_type": "markdown",
   "id": "9e57e810-d4eb-4875-bf1a-aec1487acbf1",
   "metadata": {},
   "source": [
    "### Test pixel-wise rolling median\n",
    "To conduct a pixel-wise rolling median, we first need to calculate some statistics on the tides observed for each individual pixel in the study area. These are then used to calculate rolling windows that are unique/tailored for the tidal regime of each pixel:\n",
    "* `window_radius_tide`: Provides the radius/width of each rolling window in tide units (e.g. metres). \n",
    "* `window_spacing_tide`: Provides the spacing of each rolling window interval in tide units (e.g. metres)\n",
    "* `window_offset`: Ensures that analysis covers the entire tide range by starting the first rolling window beneath the lowest tide, and finishing the final rolling window after the highest tide"
   ]
  },
  {
   "cell_type": "markdown",
   "id": "1eff45dd-5710-4890-b1c0-543831fd3a7b",
   "metadata": {
    "tags": []
   },
   "source": [
    "### Flatten array from 3D to 2D and drop pixels with no correlation with tide\n",
    "Flatten array to only pixels with positive correlations between water observations and tide height. This greatly improves processing time by ensuring only a narrow strip of pixels along the coastline are analysed, rather than the entire x * y array:\n",
    "\n",
    "\n",
    "![](../data/figures/tide_array_flattening.JPG)"
   ]
  },
  {
   "cell_type": "code",
   "execution_count": 50,
   "id": "bef832e9-d45e-4a84-8868-845a8a8c575b",
   "metadata": {},
   "outputs": [],
   "source": [
    "# # Optionally apply ABSMLP tide correction\n",
    "# ds = abslmp_correction(ds)"
   ]
  },
  {
   "cell_type": "code",
   "execution_count": 51,
   "id": "2154701c-49e8-4b32-b79d-a2e444d27364",
   "metadata": {},
   "outputs": [
    {
     "name": "stdout",
     "output_type": "stream",
     "text": [
      "Reducing analysed pixels from 830346 to 61769 (7.44%)\n"
     ]
    }
   ],
   "source": [
    "ds_flat, freq, good_mask = ds_to_flat(\n",
    "    ds, ndwi_thresh=0.0, min_freq=0.01, max_freq=0.99, min_correlation=0.25\n",
    ")"
   ]
  },
  {
   "cell_type": "code",
   "execution_count": 52,
   "id": "5cfd07e9-5589-409f-8324-44c5cc9867a4",
   "metadata": {
    "tags": []
   },
   "outputs": [],
   "source": [
    "# Calculate tide min, max, range\n",
    "tide_max = ds_flat.tide_m.max(dim='time')\n",
    "tide_min = ds_flat.tide_m.min(dim='time')\n",
    "tide_range = tide_max - tide_min\n",
    "\n",
    "# Choose number of rolling windows and radius of each window\n",
    "windows_n = 100  # number of rolling windows to iterate over\n",
    "window_prop_tide = 0.15  #  0.15  # proportion of the tide range to use for each window radius\n",
    "\n",
    "# Calculate rolling window radius and spacing between each rolling window\n",
    "window_radius_tide = tide_range * window_prop_tide  # Rolling window radius in tide/metre units\n",
    "window_spacing_tide = tide_range / windows_n  # Spacing between each rolling window in tide/metre units\n",
    "window_offset = int((windows_n * window_prop_tide) / 2.0)\n"
   ]
  },
  {
   "cell_type": "code",
   "execution_count": 53,
   "id": "d241960f-73b1-41d7-8db7-fb2d2aaf5672",
   "metadata": {},
   "outputs": [
    {
     "name": "stderr",
     "output_type": "stream",
     "text": [
      "100%|██████████| 114/114 [00:02<00:00, 50.24it/s] \n"
     ]
    }
   ],
   "source": [
    "def rolling_tide_window(\n",
    "    i,\n",
    "    ds=ds_flat,\n",
    "    window_spacing=window_spacing_tide,\n",
    "    window_radius=window_radius_tide,\n",
    "    tide_min=tide_min,\n",
    "    statistic='median',\n",
    "):\n",
    "    \"\"\"\n",
    "    This function takes a rolling window of tide observations from\n",
    "    our flattened tide array, and returns a summary of these values.\n",
    "    \n",
    "    This is used to smooth our NDWI values along the tide dimension\n",
    "    (e.g. rolling medians or quantiles).\n",
    "    \"\"\"    \n",
    "\n",
    "    # Set min and max thresholds to filter dataset\n",
    "    thresh_centre = tide_min + (i * window_spacing)\n",
    "    thresh_min = thresh_centre - window_radius\n",
    "    thresh_max = thresh_centre + window_radius\n",
    "\n",
    "    # Filter dataset\n",
    "    masked_ds = ds.where((ds.tide_m >= thresh_min) & (ds.tide_m <= thresh_max))\n",
    "\n",
    "    # Apply median or quantile\n",
    "    if statistic == 'quantile':\n",
    "        ds_agg = xr_quantile(src=masked_ds, quantiles=[0.1, 0.5, 0.9], nodata=np.nan)\n",
    "    elif statistic == 'median':\n",
    "        ds_agg = masked_ds.median(dim=\"time\").expand_dims(quantile=[0.5])\n",
    "    elif statistic == 'mean':\n",
    "        ds_agg = masked_ds.mean(dim=\"time\").expand_dims(quantile=[0.5])\n",
    "\n",
    "    # Add standard deviation\n",
    "    ds_agg[\"ndwi_std\"] = masked_ds.ndwi.std(dim=\"time\")\n",
    "    ds_agg[\"ndwi_count\"] = (~masked_ds.ndwi.isnull()).sum(dim=\"time\")\n",
    "\n",
    "    return ds_agg\n",
    "\n",
    "\n",
    "with ProcessPoolExecutor(max_workers=64) as executor:\n",
    "\n",
    "    # Apply func in parallel\n",
    "    rolling_intervals = range(\n",
    "        -window_offset, windows_n + window_offset\n",
    "    )\n",
    "    out_list = list(\n",
    "        tqdm(\n",
    "            executor.map(rolling_tide_window, rolling_intervals),\n",
    "            total=len(list(rolling_intervals)),\n",
    "        )\n",
    "    )\n",
    "\n",
    "# Combine to match the shape of the original dataset\n",
    "interval_ds = xr.concat(out_list, dim=\"interval\").sortby([\"interval\", \"x\", \"y\"])"
   ]
  },
  {
   "cell_type": "code",
   "execution_count": 54,
   "id": "cec14155-eeb5-4a78-a30f-54b329e6e7e2",
   "metadata": {},
   "outputs": [
    {
     "name": "stdout",
     "output_type": "stream",
     "text": [
      "Processing quantile 0.5\n"
     ]
    }
   ],
   "source": [
    "# Calculate confidence (mean of NDWI standard deviation)\n",
    "confidence = interval_ds.ndwi_std.mean(dim=\"interval\").unstack(\"z\").reindex_like(ds).T\n",
    "\n",
    "# Export DEM for each quantile\n",
    "for q in interval_ds[\"quantile\"].data:\n",
    "\n",
    "    # Extract relevant quantile data\n",
    "    print(f\"Processing quantile {q}\")\n",
    "    quantile_ds = interval_ds.sel(quantile=q).copy()\n",
    "\n",
    "    # Smooth\n",
    "    quantile_ds = quantile_ds.rolling(interval=20, center=False, min_periods=1).mean()\n",
    "\n",
    "    # Identify the max tide per pixel where NDWI == land\n",
    "    tide_dry = quantile_ds.tide_m.where(\n",
    "        quantile_ds.ndwi <= ndwi_thresh\n",
    "    )\n",
    "    tide_thresh = tide_dry.max(dim=\"interval\")\n",
    "    tide_max = quantile_ds.tide_m.max(dim=\"interval\")\n",
    "\n",
    "    # Remove any pixel where tides max out (i.e. always land), and unstack back\n",
    "    # to 3D array\n",
    "    always_dry = tide_thresh >= tide_max\n",
    "    dem = tide_thresh.where(~always_dry)\n",
    "    dem = dem.unstack(\"z\").reindex_like(ds).transpose('y', 'x')  ## Temporarily commented out while figuring out exposure calculation merge\n",
    "\n",
    "\n",
    "\n",
    "\n",
    "\n",
    "\n",
    "\n",
    "\n",
    "\n",
    "#     # Export DEM file\n",
    "#     suffix = {0.1: \"dem_high\", 0.5: \"dem\", 0.9: \"dem_low\"}[q]\n",
    "#     dem.odc.write_cog(\n",
    "#         fname=f\"data/interim/pixel_{fname}_{suffix}.tif\", overwrite=True\n",
    "#     )\n",
    "\n",
    "# # Export NDWI standard deviation/confidence file\n",
    "# confidence.odc.write_cog(\n",
    "#     fname=f\"data/interim/pixel_{fname}_confidence.tif\", overwrite=True\n",
    "# )"
   ]
  },
  {
   "cell_type": "markdown",
   "id": "fffe9e03-d371-45bd-a881-a30b97955177",
   "metadata": {},
   "source": [
    "## Pixel-based intertidal exposure"
   ]
  },
  {
   "cell_type": "code",
   "execution_count": 55,
   "id": "c9a12048-d792-47f3-890d-cf677636eb4c",
   "metadata": {},
   "outputs": [
    {
     "name": "stdout",
     "output_type": "stream",
     "text": [
      "Creating reduced resolution tide modelling array\n",
      "Modelling tides using FES2014 tide model\n",
      "Computing tide quantiles\n",
      "Reprojecting tides into original array\n"
     ]
    },
    {
     "name": "stderr",
     "output_type": "stream",
     "text": [
      "100%|██████████| 1001/1001 [00:13<00:00, 75.70it/s]\n",
      "100%|██████████| 2/2 [00:00<00:00, 36472.21it/s]\n"
     ]
    },
    {
     "data": {
      "image/png": "[encoded data removed]",
      "text/plain": [
       "<Figure size 864x360 with 4 Axes>"
      ]
     },
     "metadata": {
      "needs_background": "light"
     },
     "output_type": "display_data"
    }
   ],
   "source": [
    "#### Working code calculating pixel based quantiles of tide heights using NIDEM pixels\n",
    "\n",
    "## Temp copy for use during method development\n",
    "DEM = dem.copy(deep=True)\n",
    "DEM = DEM.to_dataset()\n",
    "DEM = DEM.drop('tide_m')\n",
    "# DS = DS.drop('ndwi')\n",
    "# DS = DS.drop('tide_m')\n",
    "\n",
    "## Tidal modelling period. Format: 'YYYY-MM-DD HH:MM:SS'\n",
    "time_start = '2010-12-01 00:00:00'\n",
    "time_end = '2011-12-01 00:00:00'\n",
    "\n",
    "## Set the frequency to run the tidal model e.g '30min' or '1h'\n",
    "modelled_freq='360min'\n",
    "\n",
    "# Generate range of times covering entire period of satellite record\n",
    "all_timerange = pd.date_range(start=time_start,\n",
    "                              end=time_end,\n",
    "                              freq=modelled_freq)\n",
    "## At this point, I made a copy of the original ds, dropped the variables \n",
    "## and replaced the time array with `all_timerange` to produce an xr.Dataset\n",
    "## with the same pixel coords as ds but with the whole desired modelled\n",
    "## time-period\n",
    "DEM['time'] = all_timerange\n",
    "\n",
    "## Reproduce the pixel-based tides workflow from the above cell/notebook-section \n",
    "## using the copied and revised DS\n",
    "# DS['tide'], _ = tqdm(pixel_tides(DS, resample=True, directory='~/dev_intexp/dea-notebooks/tide_models_clipped')) # CP pointing to clipped tide models elsewhere in sandbox\n",
    "\n",
    "## Test pixel_tides calculation using `calculate_quantiles` option as possible cumfreq func replacement\n",
    "pc_range = np.linspace(0,1,1001)\n",
    "DEM['tide_cq'], DEM['lowres_tide_cq'] = tqdm(pixel_tides(DEM, \n",
    "                                             resample=True, \n",
    "                                             directory='~/dev_intexp/dea-notebooks/tide_models_clipped',\n",
    "                                             calculate_quantiles = pc_range)) # CP pointing to clipped tide models elsewhere in sandbox\n",
    "\n",
    "## Replace pixel-based NIDEM values\n",
    "DEM['tide_m'] = dem\n",
    "\n",
    "# DEM\n",
    "\n",
    "## Calculate the difference between NIDEM value and all quartile values per pixel\n",
    "DEM['diff'] = abs(DEM.tide_cq - DEM.tide_m)\n",
    "## Take the smallest difference as representing the exposure percentile\n",
    "DEM['idxmin'] = DEM['diff'].idxmin(dim='quantile')\n",
    "\n",
    "#DEM\n",
    "\n",
    "fig = plt.figure(figsize=(12,5))\n",
    "ax1 = fig.add_subplot(1,2,1)\n",
    "ax2 = fig.add_subplot(1,2,2)\n",
    "DEM.tide_m.plot(ax=ax1)\n",
    "DEM['idxmin'].plot(ax=ax2)\n",
    "fig.tight_layout()"
   ]
  },
  {
   "cell_type": "code",
   "execution_count": 63,
   "id": "6041c223-1f83-496d-b4d0-48c9e3419240",
   "metadata": {},
   "outputs": [
    {
     "ename": "AttributeError",
     "evalue": "'function' object has no attribute 'values'",
     "output_type": "error",
     "traceback": [
      "\u001b[0;31m---------------------------------------------------------------------------\u001b[0m",
      "\u001b[0;31mAttributeError\u001b[0m                            Traceback (most recent call last)",
      "\u001b[0;32m/tmp/ipykernel_1515/2198292852.py\u001b[0m in \u001b[0;36m<module>\u001b[0;34m\u001b[0m\n\u001b[0;32m----> 1\u001b[0;31m \u001b[0mplt\u001b[0m\u001b[0;34m.\u001b[0m\u001b[0mplot\u001b[0m\u001b[0;34m(\u001b[0m\u001b[0mDEM\u001b[0m\u001b[0;34m.\u001b[0m\u001b[0mtide_m\u001b[0m\u001b[0;34m.\u001b[0m\u001b[0mvalues\u001b[0m\u001b[0;34m,\u001b[0m \u001b[0mDEM\u001b[0m\u001b[0;34m.\u001b[0m\u001b[0midxmin\u001b[0m\u001b[0;34m.\u001b[0m\u001b[0mvalues\u001b[0m\u001b[0;34m)\u001b[0m\u001b[0;34m\u001b[0m\u001b[0;34m\u001b[0m\u001b[0m\n\u001b[0m\u001b[1;32m      2\u001b[0m \u001b[0;31m# DEM\u001b[0m\u001b[0;34m\u001b[0m\u001b[0;34m\u001b[0m\u001b[0;34m\u001b[0m\u001b[0m\n",
      "\u001b[0;31mAttributeError\u001b[0m: 'function' object has no attribute 'values'"
     ]
    }
   ],
   "source": [
    "plt.plot(DEM.tide_m, DEM.idxmin)\n",
    "# DEM"
   ]
  },
  {
   "cell_type": "code",
   "execution_count": null,
   "id": "54b8e49e-8225-4e67-91a7-ab55f77de1f1",
   "metadata": {},
   "outputs": [],
   "source": [
    "# ## Test - slow looping version to calculate pixel exposure from pixel nidem\n",
    "\n",
    "# for z in range(0,10):\n",
    "# #     print (dem.isel(z=z).values)\n",
    "#     print (dem.isel(z=z).z.values)\n",
    "#     print (tide_thresh.isel(z=z).z.values)\n",
    "#     print (interval_ds.isel(z=z).z.values)\n",
    "#     print ('-----')\n",
    "#     print (test.isel(z=z).z.values)\n",
    "#     print ('---')\n",
    "# #     print (test_DS_flat.isel(z=z).z.values)\n",
    "#     print (DS_flat.tide_cq.isel(z=z).z.values)\n",
    "#     print (ds_flat.tide_m.isel(z=z).z.values)\n",
    "#     print (dem_flat.tide_cq.isel(z=z).z.values)\n",
    "#     print ('----------------')\n",
    "#     print ((dem.isel(z=z).z.values) == (DS_flat.tide_cq.isel(z=z).z.values))\n",
    "#     print ('----------------')\n",
    "    \n"
   ]
  },
  {
   "cell_type": "code",
   "execution_count": null,
   "id": "01404611-fd8c-4ae2-b4e3-951121e2b8fd",
   "metadata": {},
   "outputs": [],
   "source": [
    "# test_transposed = dem.transpose(transpose_coords=True)\n",
    "# test_transposed"
   ]
  },
  {
   "cell_type": "code",
   "execution_count": null,
   "id": "50155d99-dffe-4d38-846a-e6e12d96ea2c",
   "metadata": {},
   "outputs": [],
   "source": [
    "# # dem\n",
    "# # DS_flat\n",
    "# # len(DS_flat.z)\n",
    "# dem.isel(z=0).values[np.abs(dem.isel(z=0).values - DS_flat.tide_cq.isel(z=0).values).argmin]"
   ]
  },
  {
   "cell_type": "code",
   "execution_count": null,
   "id": "b6a0faaa-25a4-45e1-a1b4-589e05ba1669",
   "metadata": {},
   "outputs": [],
   "source": [
    "# def find_nearest(a,a0):\n",
    "#     \"Element in nd array `a` closest to the scalar value `a0`\"\n",
    "#     idx = np.abs(a - a0).argmin()\n",
    "#     return a.flat[idx]\n",
    "# test_exp = DS_flat.apply_ufunc(find_nearest,\n",
    "#                                dem,\n",
    "#                                DS_flat,\n",
    "#                                input_core_dims=[[]],\n",
    "#                                output_core_dims = [[]],\n",
    "#                                vectorise=True\n",
    "#                               )\n",
    "                                "
   ]
  },
  {
   "cell_type": "code",
   "execution_count": null,
   "id": "97941065-2818-4ad5-92f7-5c29c54ab366",
   "metadata": {},
   "outputs": [],
   "source": []
  },
  {
   "cell_type": "code",
   "execution_count": null,
   "id": "485cdbe6-c8d2-4033-8aa8-9321e4cf4b20",
   "metadata": {},
   "outputs": [],
   "source": []
  },
  {
   "cell_type": "code",
   "execution_count": null,
   "id": "2de73cee-4fee-4b54-86f2-0dae8be73017",
   "metadata": {},
   "outputs": [],
   "source": []
  },
  {
   "cell_type": "code",
   "execution_count": null,
   "id": "ab850e8f-4e7c-4429-badd-7713197a9411",
   "metadata": {},
   "outputs": [],
   "source": []
  },
  {
   "cell_type": "code",
   "execution_count": null,
   "id": "03e1eb8d-0e31-4d70-8376-ebd0b378e12c",
   "metadata": {},
   "outputs": [],
   "source": [
    "# DEM#tide_m.x"
   ]
  },
  {
   "cell_type": "code",
   "execution_count": null,
   "id": "fbff5c79-48a0-4e08-883c-19b7e3b64826",
   "metadata": {},
   "outputs": [],
   "source": [
    "# DEM_flat = DEM.stack(z=('x','y'))\n",
    "# DEM_flat"
   ]
  },
  {
   "cell_type": "code",
   "execution_count": null,
   "id": "59f49bab-d7a9-4887-8061-47baa5bed031",
   "metadata": {},
   "outputs": [],
   "source": [
    "# DEM_coords = DEM.set_coords('tide_cq')\n",
    "# DEM_coords\n",
    "\n",
    "# test_exp = DEM_coords.sel(tide_cq=(DEM_coords.tide_m.where......\n",
    "\n",
    "# IsIn = DEM_flat.isel(z=0).tide_cq.isin([DEM_flat.isel(z=0).tide_m.values])\n",
    "# IsInTrue = np.where(IsIn)\n",
    "# IsInTrue\n",
    "\n",
    "# DEM.tide_m.values"
   ]
  },
  {
   "cell_type": "code",
   "execution_count": null,
   "id": "0e4eb993-69b1-4484-b7bc-e811f460995c",
   "metadata": {},
   "outputs": [],
   "source": [
    "# IsIn = DEM_flat.tide_cq.isin([DEM_flat.tide_m.values])\n",
    "# IsInTrue = xr.where(IsIn)\n",
    "# IsInTrue"
   ]
  },
  {
   "cell_type": "code",
   "execution_count": null,
   "id": "a1599bd6-ca64-4754-b69a-5dbe0fdcc0ca",
   "metadata": {},
   "outputs": [],
   "source": [
    "# DEM_flat.tide_m.isel(z=1).values\n",
    "# DEM_flat.isel(z=0).tide_m.values\n",
    "# DEM_flat.isel(z=0).tide_cq"
   ]
  },
  {
   "cell_type": "code",
   "execution_count": null,
   "id": "021188e4-3239-4b73-8931-69d2d4016936",
   "metadata": {},
   "outputs": [],
   "source": [
    "# # test = DEM.tide_cq.isel(x=0,y=0).sel(x=DEM.tide_m.isel(x=0,y=0), method='nearest')\n",
    "# test = DEM_flat.isel(z=1).tide_cq.sel(z=DEM_flat.tide_m, method='nearest')\n",
    "# test"
   ]
  },
  {
   "cell_type": "code",
   "execution_count": null,
   "id": "f9195fc0-6d7b-47c5-9a3c-40cf856dad32",
   "metadata": {},
   "outputs": [],
   "source": [
    "# # test_exp = DEM.sel(tide_cq=tide_m, method='nearest')\n",
    "# test_exp = DEM.quantile.where(DEM.tide_cq == DEM.tide_m, method='nearest')\n",
    "# test_exp\n",
    "\n",
    "# # for z in range(0,10):\n",
    "    \n",
    "# # #     print (dem.isel(z=z).z.values)"
   ]
  },
  {
   "cell_type": "code",
   "execution_count": null,
   "id": "0162edf1-bfa8-402b-a22d-738eb338a09c",
   "metadata": {},
   "outputs": [],
   "source": [
    "# DEM.tide_cq.sel(x=([DEM.tide_m.values]), method='nearest')"
   ]
  },
  {
   "cell_type": "code",
   "execution_count": null,
   "id": "61b80d3f-e775-471b-b3b9-32513514ce27",
   "metadata": {},
   "outputs": [],
   "source": [
    "# ## Calculate exposure and plot\n",
    "\n",
    "# # ## Calculate the exposure dataset by indexing the NIDEM elevations against the \n",
    "# # ## relative cumulative frequencies for those same elevations into a new dataset.\n",
    "# Exposure= CF_ds.sel(Elevation_midpoint=ds2.nidem, method='nearest')\n",
    "\n",
    "# # ## Also, replace nan values in NIDEM with -9999 values to enable masking of\n",
    "# # ## non-intertidal areas. This is a workaround for the .sel function failing to handle\n",
    "# # ## nans in the original NIDEM dataset.\n",
    "# Exp_cf = Exposure.cumfreq.where(ds2.nidem.fillna(-9999) != -9999)"
   ]
  },
  {
   "cell_type": "code",
   "execution_count": null,
   "id": "46d95b45-8b24-4ce4-b4cc-28909cb3bba7",
   "metadata": {},
   "outputs": [],
   "source": [
    "# ## TEMP: Cell copied from CP's exposure workflow. \n",
    "\n",
    "# ## Calculate the cumulative frequency distribution of the modelled tides\n",
    "# ## After https://docs.scipy.org/doc/scipy/reference/generated/scipy.stats.cumfreq.html\n",
    "\n",
    "# ## Extract modelled tideheights as np.array\n",
    "# modelledtides = (np.array(filters[keys[n]].tideheights))\n",
    "\n",
    "# ## Convert erroneous values to NaNs. This was an issue in the calculation of 'lowtide'. \n",
    "# ## TODO: check why erroneous values occurred at all.\n",
    "# modelledtides = pd.to_numeric(modelledtides, errors='coerce')\n",
    "\n",
    "# ## Drop nan values from the tideheight array\n",
    "# ## `~` is equivalent to np.logical_not after \n",
    "# ## https://www.geeksforgeeks.org/how-to-remove-nan-values-from-a-given-numpy-array/\n",
    "# modelledtides = modelledtides[~(pd.isnull(modelledtides))]\n",
    "\n",
    "# ## Calculate number of bins to use in cumulative frequency calculation, ensuring continentally \n",
    "# ## consistent bin size of 0.05m (arbitrary bin size)\n",
    "# binsize = 0.01\n",
    "# bins = (modelledtides.max() - modelledtides.min())/binsize\n",
    "\n",
    "# ## Calculate cumulative frequencies\n",
    "# res = cumfreq(modelledtides, numbins=int(bins)) #1000)\n",
    "\n",
    "# # Calculate space of values for x\n",
    "# x = res.lowerlimit + np.linspace(0, res.binsize*res.cumcount.size, res.cumcount.size)\n",
    "\n",
    "# ## Save the *relative* cumulative frequency dataset as an array to act as a lookup table for the NIDEM heights\n",
    "\n",
    "# CFdict={'tideheight_max': x, 'cumfreq': res.cumcount/len(modelledtides)*100}\n",
    "# CF_df = pd.DataFrame(data=CFdict)\n",
    "\n",
    "# ## tideheight_min and tideheight_max represent the binned range of tide heights modelled to the associated cumulative frequency (exposure %)\n",
    "# shifted = CF_df.tideheight_max.shift(periods=1)\n",
    "# updatedvalue = CF_df.tideheight_max[0] - binsize\n",
    "# shifted.update(pd.Series([updatedvalue], index=[0]))\n",
    "\n",
    "# CF_df['tideheight_min']=shifted\n",
    "\n",
    "# CF_df['Elevation_midpoint'] = (CF_df.tideheight_max + CF_df.tideheight_min)/2\n",
    "# CF_df = CF_df.set_index('Elevation_midpoint')\n",
    "\n",
    "# ## Create xarray object from cumulative frequency dataframe\n",
    "# CF_ds = xr.Dataset.from_dataframe(CF_df)\n",
    "\n",
    "\n",
    "# ## Calculate exposure and plot\n",
    "\n",
    "# # ## Calculate the exposure dataset by indexing the NIDEM elevations against the \n",
    "# # ## relative cumulative frequencies for those same elevations into a new dataset.\n",
    "# Exposure= CF_ds.sel(Elevation_midpoint=ds2.nidem, method='nearest')\n",
    "\n",
    "# # ## Also, replace nan values in NIDEM with -9999 values to enable masking of\n",
    "# # ## non-intertidal areas. This is a workaround for the .sel function failing to handle\n",
    "# # ## nans in the original NIDEM dataset.\n",
    "# Exp_cf = Exposure.cumfreq.where(ds2.nidem.fillna(-9999) != -9999)\n",
    "\n",
    "# ## Plot\n",
    "# # Exp_cf.plot(cmap='RdYlGn', figsize=(10,5))\n",
    "\n",
    "# ## Visualise the distribution of observations in the tidal model dataset and the relative CF distribution\n",
    "\n",
    "# fig = plt.figure(figsize=(10, 8))\n",
    "# ax1 = fig.add_subplot(2,2,1)#(1, 2, 1)\n",
    "# ax2 = fig.add_subplot(2,2,2)#(1, 2, 2)\n",
    "# ax3 = fig.add_subplot(2, 2, 3)\n",
    "# ax1.hist(modelledtides, bins=100)\n",
    "# ax1.set_title('Histogram')\n",
    "# ax2.bar(x, res.cumcount/len(modelledtides)*100, width=res.binsize)\n",
    "# ax2.set_title('Relative cumulative frequency')\n",
    "# ax2.set_ylabel('Cumulative model observations (%)\\naka Exposure (%)')\n",
    "# ax2.set_xlabel('Modelled tide height (m)')\n",
    "# ax2.set_xlim([x.min(), x.max()])\n",
    "# # ax3.plot(Exp_cf)\n",
    "# Exp_cf.plot(ax=ax3, cmap='RdYlGn')\n",
    "# plt.title(str(keys[n]) + ' exposure')\n",
    "# fig.tight_layout()"
   ]
  },
  {
   "cell_type": "code",
   "execution_count": null,
   "id": "ac99d449-acdf-4863-9399-3466a650d654",
   "metadata": {},
   "outputs": [],
   "source": [
    "# # ## Calculate the exposure dataset by indexing the NIDEM elevations against the \n",
    "# # ## relative cumulative frequencies for those same elevations into a new dataset.\n",
    "# Exposure= CF_ds.sel(Elevation_midpoint=ds2.nidem, method='nearest')\n",
    "\n",
    "# # ## Also, replace nan values in NIDEM with -9999 values to enable masking of\n",
    "# # ## non-intertidal areas. This is a workaround for the .sel function failing to handle\n",
    "# # ## nans in the original NIDEM dataset.\n",
    "# Exp_cf = Exposure.cumfreq.where(ds2.nidem.fillna(-9999) != -9999)"
   ]
  },
  {
   "cell_type": "code",
   "execution_count": null,
   "id": "37652c08-18d0-42e4-8812-f3aa33d0baf5",
   "metadata": {},
   "outputs": [],
   "source": [
    "# ## Save the *relative* cumulative frequency dataset as an array to act as a lookup table for the NIDEM heights\n",
    "\n",
    "# CFdict={'tideheight_max': x, 'cumfreq': res.cumcount/len(modelledtides)*100}\n",
    "# CF_df = pd.DataFrame(data=CFdict)\n",
    "\n",
    "# ## tideheight_min and tideheight_max represent the binned range of tide heights modelled to the associated cumulative frequency (exposure %)\n",
    "# shifted = CF_df.tideheight_max.shift(periods=1)\n",
    "# updatedvalue = CF_df.tideheight_max[0] - binsize\n",
    "# shifted.update(pd.Series([updatedvalue], index=[0]))\n",
    "\n",
    "# CF_df['tideheight_min']=shifted\n",
    "\n",
    "# CF_df['Elevation_midpoint'] = (CF_df.tideheight_max + CF_df.tideheight_min)/2\n",
    "# CF_df = CF_df.set_index('Elevation_midpoint')\n",
    "\n",
    "# ## Create xarray object from cumulative frequency dataframe\n",
    "# CF_ds = xr.Dataset.from_dataframe(CF_df)\n",
    "\n",
    "\n",
    "# ## Calculate exposure and plot\n",
    "\n",
    "# # ## Calculate the exposure dataset by indexing the NIDEM elevations against the \n",
    "# # ## relative cumulative frequencies for those same elevations into a new dataset.\n",
    "# Exposure= CF_ds.sel(Elevation_midpoint=ds2.nidem, method='nearest')\n",
    "\n",
    "# # ## Also, replace nan values in NIDEM with -9999 values to enable masking of\n",
    "# # ## non-intertidal areas. This is a workaround for the .sel function failing to handle\n",
    "# # ## nans in the original NIDEM dataset.\n",
    "# Exp_cf = Exposure.cumfreq.where(ds2.nidem.fillna(-9999) != -9999)"
   ]
  },
  {
   "cell_type": "code",
   "execution_count": null,
   "id": "8ec98d0a-dafa-4282-90cd-1a7ca1f5c863",
   "metadata": {},
   "outputs": [],
   "source": []
  },
  {
   "cell_type": "markdown",
   "id": "657dd4bd-78c3-45a6-aedf-359b79c12cc2",
   "metadata": {},
   "source": [
    "## Robbi's experimental - not tested or working\n",
    "### Extents layer"
   ]
  },
  {
   "cell_type": "code",
   "execution_count": null,
   "id": "4b7185ec-b0c1-4a3d-ac4a-3d0642fecfc9",
   "metadata": {},
   "outputs": [],
   "source": [
    "# # Calculate percent of astronomical tide range for each intertidal pixel\n",
    "# astro_tides, _ = pixel_tides(\n",
    "#     ds,\n",
    "#     times=pd.date_range(start=\"2000\", end=\"2021\", freq=\"5H\"),\n",
    "#     calculate_quantiles=[0.0, 1.0],\n",
    "#     resample_func=_reproject,\n",
    "#     directory='~/tide_models_clipped'\n",
    "# )\n",
    "# astro_tide_min, astro_tide_max = astro_tides.groupby(\"quantile\")\n",
    "# astro_tide_min, astro_tide_max = astro_tide_min[1], astro_tide_max[1]\n",
    "# tide_perc_da = ((dem - astro_tide_min) * 100) / (astro_tide_max - astro_tide_min)\n",
    "\n",
    "# # Identify pixels that were always wet or always dry across rolling medians\n",
    "# nontidal_dry_da = always_dry.unstack(\"z\").reindex_like(ds).transpose('y', 'x') == True\n",
    "# nontidal_wet_da = tide_thresh.isnull().unstack(\"z\").reindex_like(ds).transpose('y', 'x') == True\n",
    "\n",
    "# # Create integer array with 0 = always observed as land, 100 = always observed\n",
    "# # as water, and remaining values the % of the astronomical tide range represented\n",
    "# # by each pixel of intertidal terrain\n",
    "# extents_da = (\n",
    "#     odc.geo.xr.xr_zeros(ds.odc.geobox)  # create empty array\n",
    "#     .where(freq > 0.5, 100)  # Set mostly dry pixels to 100, and leave mostly wet as 0\n",
    "#     .where(~nontidal_dry_da, 100)  # Set any non-tidal dry pixels to 100\n",
    "#     .where(~nontidal_wet_da, 0)  # Set any non-tidal wet pixels to 0\n",
    "#     .where(tide_perc_da.isnull(), tide_perc_da.clip(0, 100))  # Fill intertidal with %s\n",
    "# ).astype(np.uint16)\n",
    "\n",
    "# # Ensure CRS is present\n",
    "# # extents_da = extents_da.odc.assign_crs(ds.odc.geobox.crs)\n",
    "\n",
    "# extents_da.odc.write_cog(\n",
    "#     fname=f\"data/interim/pixel_{fname}_extents.tif\", overwrite=True\n",
    "# )"
   ]
  },
  {
   "cell_type": "code",
   "execution_count": null,
   "id": "3b9a2201-e674-433d-bacb-b981c98fe869",
   "metadata": {},
   "outputs": [],
   "source": [
    "# # Clean data using morphological opening to remove narrow inland \n",
    "# # streams and waterbodies\n",
    "# clean=[(\"opening\", 20), (\"dilation\", 10)]\n",
    "# to_keep = mask_cleanup(extents_da < 100, mask_filters=clean)\n",
    "# dem_clean = dem.where(to_keep)\n",
    "\n",
    "# # Export to file\n",
    "# dem_clean.odc.write_cog(\n",
    "#         fname=f\"data/interim/pixel_{fname}_{suffix}_cleaned.tif\", overwrite=True\n",
    "#     )"
   ]
  },
  {
   "cell_type": "code",
   "execution_count": null,
   "id": "96a2b486-92c8-4444-824b-40bc608d245d",
   "metadata": {},
   "outputs": [],
   "source": [
    "# test = ds.tide_m.mean(dim=['x', 'y'])"
   ]
  },
  {
   "cell_type": "markdown",
   "id": "66864247-5cbb-4a45-9b36-195824615b1d",
   "metadata": {},
   "source": [
    "### Remove water not attached to ocean"
   ]
  },
  {
   "cell_type": "code",
   "execution_count": null,
   "id": "1441451e-b70f-4ac5-9a2d-e1a7d826276f",
   "metadata": {},
   "outputs": [],
   "source": [
    "# from skimage.measure import label, regionprops"
   ]
  },
  {
   "cell_type": "code",
   "execution_count": null,
   "id": "36886e5d-fd86-4d06-b92f-842d23bd47e9",
   "metadata": {},
   "outputs": [],
   "source": [
    "# # First, break boolean array into unique, discrete regions/blobs\n",
    "# blobs = xr.apply_ufunc(label, to_keep, 0, False, 1)\n",
    "\n",
    "# # Get blob ID for each blob inside ocean area\n",
    "# ocean = dc.load(product=\"geodata_coast_100k\", like=ds.odc.geobox.compat).land == 0\n",
    "# ocean_blobs = np.unique(blobs.where(ocean, 0))\n",
    "\n",
    "# # Return only blobs that contained tide modelling point\n",
    "# ocean_mask = blobs.isin(ocean_blobs[ocean_blobs != 0])"
   ]
  },
  {
   "cell_type": "code",
   "execution_count": null,
   "id": "f9e398d7-a258-4b2a-a2f0-d1ae9436afa7",
   "metadata": {},
   "outputs": [],
   "source": [
    "# ocean_mask.plot()"
   ]
  },
  {
   "cell_type": "code",
   "execution_count": null,
   "id": "0caec496-a16a-47b8-bbad-360799bde26e",
   "metadata": {},
   "outputs": [],
   "source": [
    "# # First, break boolean array into unique, discrete regions/blobs\n",
    "# blobs = xr.apply_ufunc(label, ds, 1, False, 1)\n",
    "\n",
    "# # Get blob ID for each tidal modelling point\n",
    "# x = xr.DataArray(tide_points_gdf.geometry.x, dims=\"z\")\n",
    "# y = xr.DataArray(tide_points_gdf.geometry.y, dims=\"z\")\n",
    "# ocean_blobs = np.unique(blobs.interp(x=x, y=y, method=\"nearest\"))\n",
    "\n",
    "# # Return only blobs that contained tide modelling point\n",
    "# ocean_mask = blobs.isin(ocean_blobs[ocean_blobs != 0])\n",
    "\n",
    "# # Dilate mask so that we include land pixels on the inland side\n",
    "# # of each shoreline to ensure contour extraction accurately\n",
    "# # seperates land and water spectra\n",
    "# if dilation:\n",
    "#     ocean_mask = xr.apply_ufunc(binary_dilation, ocean_mask, disk(dilation))\n",
    "\n",
    "# return ocean_mask"
   ]
  },
  {
   "cell_type": "markdown",
   "id": "61606f79-c0fa-4b8d-95f4-8d299a567c9c",
   "metadata": {},
   "source": [
    "### Regression experiment"
   ]
  },
  {
   "cell_type": "code",
   "execution_count": null,
   "id": "d9dc6242-26d6-458c-802b-e6a2c8f1338f",
   "metadata": {},
   "outputs": [],
   "source": [
    "from dea_tools.temporal import lag_linregress_3D"
   ]
  },
  {
   "cell_type": "code",
   "execution_count": null,
   "id": "e31b78af-8280-45fc-9b2f-56108237010d",
   "metadata": {},
   "outputs": [],
   "source": [
    "ds_subset = interval_ds.where((interval_ds.ndwi > 0.05) & (interval_ds.ndwi < 0.25))\n",
    "linreg = lag_linregress_3D(x=ds_subset.tide_m, y=ds_subset.ndwi, first_dim='interval')"
   ]
  },
  {
   "cell_type": "code",
   "execution_count": null,
   "id": "99ddeb7b-64a3-4c82-8f6d-d87e36ee4df6",
   "metadata": {},
   "outputs": [],
   "source": [
    "# linreg.intercept.unstack(\"z\").reindex_like(ds).plot(robust=True)"
   ]
  },
  {
   "cell_type": "code",
   "execution_count": null,
   "id": "a3607175-b892-4f14-9329-1a5e42656d45",
   "metadata": {},
   "outputs": [],
   "source": [
    "# linreg.slope.unstack(\"z\").reindex_like(ds).plot(robust=True)"
   ]
  },
  {
   "cell_type": "code",
   "execution_count": null,
   "id": "242f8d35-3333-47a7-83e6-3fe8d86b39e2",
   "metadata": {},
   "outputs": [],
   "source": [
    "testing = ((0 - linreg.intercept) / linreg.slope).where(linreg.pval < 0.01).unstack(\"z\").reindex_like(ds)  #.plot.imshow(vmin=-1, vmax=0.5)"
   ]
  },
  {
   "cell_type": "code",
   "execution_count": null,
   "id": "33507437-0b1a-4ad1-8834-3fc605e95a21",
   "metadata": {},
   "outputs": [],
   "source": [
    "testing = testing.where(testing > ds_subset.tide_m.min())"
   ]
  },
  {
   "cell_type": "code",
   "execution_count": null,
   "id": "9d51ff42-4d82-48b3-8751-91aa579c4eb9",
   "metadata": {},
   "outputs": [],
   "source": [
    "testing.T.odc.write_cog(fname=f'data/interim/pixel_linreg7.tif', overwrite=True)"
   ]
  },
  {
   "cell_type": "code",
   "execution_count": null,
   "id": "7b078af3-5cdd-4d39-8ffe-33de9d949ea3",
   "metadata": {},
   "outputs": [],
   "source": [
    "y = mx + a\n",
    "(y - a) / m"
   ]
  },
  {
   "cell_type": "code",
   "execution_count": null,
   "id": "f834fe40-7d47-4218-a2f8-3f6582361fba",
   "metadata": {},
   "outputs": [],
   "source": [
    "ds.geobox"
   ]
  },
  {
   "cell_type": "code",
   "execution_count": null,
   "id": "24465187-7d64-4e97-81c3-d0535c79964f",
   "metadata": {},
   "outputs": [],
   "source": [
    "quantile_ds.tide_m.where(quantile_ds.ndwi <= 0.1).dropna(dim='z', how='all')"
   ]
  },
  {
   "cell_type": "code",
   "execution_count": null,
   "id": "64d4e443-df6b-444b-80ea-ca0378e36776",
   "metadata": {},
   "outputs": [],
   "source": [
    "(tide_argmax + 1).unstack(\"z\").reindex_like(ds).T.plot()"
   ]
  },
  {
   "cell_type": "code",
   "execution_count": null,
   "id": "ab176595-1b9f-46b0-9c29-dfd031d32b0e",
   "metadata": {},
   "outputs": [],
   "source": [
    "tide_dry.isel(interval=(tide_argmax - 1).clip(0, len(tide_dry.interval) - 1))"
   ]
  },
  {
   "cell_type": "code",
   "execution_count": null,
   "id": "1d9e2b79-22e6-4f62-a372-2962bf600326",
   "metadata": {},
   "outputs": [],
   "source": [
    "tide_dry.isel(tide_argmax)"
   ]
  },
  {
   "cell_type": "code",
   "execution_count": null,
   "id": "f59c8c6b-4bd4-4e72-891a-936baaf702ce",
   "metadata": {},
   "outputs": [],
   "source": []
  },
  {
   "cell_type": "code",
   "execution_count": null,
   "id": "4d769c1b-eb08-4d1d-8b89-900601fb86e7",
   "metadata": {},
   "outputs": [],
   "source": [
    "tide_argmax + 1"
   ]
  },
  {
   "cell_type": "code",
   "execution_count": null,
   "id": "2f325526-340f-46d5-a710-70a0dc7f826a",
   "metadata": {},
   "outputs": [],
   "source": [
    "tide_dry.dropna(dim='interval', how='all').argmax(dim='interval', axis=1)"
   ]
  },
  {
   "cell_type": "code",
   "execution_count": null,
   "id": "c67ff227-7b14-4efd-ae96-a633e7823928",
   "metadata": {},
   "outputs": [],
   "source": [
    "interval_ds"
   ]
  },
  {
   "cell_type": "code",
   "execution_count": null,
   "id": "ca991a0e-d5cd-40fa-8d7a-2a98dc13354c",
   "metadata": {},
   "outputs": [],
   "source": [
    "# # Output name\n",
    "# fname = 'testing1'\n",
    "# # fname = aoi.lower().replace(' ', '')\n",
    "\n",
    "# # Calculate \n",
    "# confidence = interval_ds.ndwi_std.mean(dim='interval')\n",
    "# min_thresh = (0 - 0.5 * confidence)\n",
    "# max_thresh = (0 + 0.5 * confidence)\n",
    "\n",
    "# for thresh_name, thesh in {'': 0, '_low': min_thresh, '_high': max_thresh}.items():\n",
    "    \n",
    "#     dem_fname = f'data/interim/pixel_dem_{fname}{thresh_name}.tif'\n",
    "#     print(f'Exporting {dem_fname}')\n",
    "    \n",
    "#     # Identify the max tide per pixel where NDWI == land\n",
    "#     tide_thresh = interval_ds.tide_m.where(interval_ds.ndwi <= thesh).max(dim='interval')\n",
    "#     tide_max = interval_ds.tide_m.max(dim='interval')\n",
    "    \n",
    "#     # Remove any pixel where tides max out (i.e. always land)\n",
    "#     dem = tide_thresh.where(tide_thresh < tide_max)\n",
    "    \n",
    "#     # Export DEM file  \n",
    "# #     dem.T.odc.write_cog(fname=dem_fname, overwrite=True)\n",
    "#     dem.where(~((freq > 0) & tide_thresh.isnull()), dem.min()).T.odc.write_cog(fname=dem_fname, overwrite=True)\n",
    "    \n",
    "\n",
    "# # Export NDWI standard deviation/confidence file\n",
    "# confidence.T.odc.write_cog(fname=f'data/interim/pixel_dem_{fname}_confidence.tif', overwrite=True)"
   ]
  },
  {
   "cell_type": "code",
   "execution_count": null,
   "id": "31145088-84ab-4924-b6b5-f4db1925d686",
   "metadata": {},
   "outputs": [],
   "source": [
    "# dem.where(~((freq > 0) & tide_thresh.isnull()), dem.min()).plot()"
   ]
  },
  {
   "cell_type": "code",
   "execution_count": null,
   "id": "6edca090-a367-41dc-add2-231515b35253",
   "metadata": {},
   "outputs": [],
   "source": [
    "# dem.where(~(tide_thresh.isnull() & (freq > 0.90)), dem.min()).plot()"
   ]
  },
  {
   "cell_type": "code",
   "execution_count": null,
   "id": "fdaf2f96-a5d2-475d-8857-d59583219412",
   "metadata": {},
   "outputs": [],
   "source": [
    "interval_ds.squeeze('quantile').unstack().sel(x=x,  y=y, method='nearest')"
   ]
  },
  {
   "cell_type": "code",
   "execution_count": null,
   "id": "32f32fb2-6d6b-49a3-a4b0-2336aa2ae823",
   "metadata": {},
   "outputs": [],
   "source": [
    "x, y = -1156521.12372093, 7712141.96160016\n",
    "ndwi_thresh = 0.0\n",
    "\n",
    "# Extract rolling and raw data\n",
    "pixel_rolling = interval_ds.squeeze('quantile').unstack().sortby([\"interval\", \"x\", \"y\"]).sel(x=x,  y=y, method='nearest').to_dataframe().reset_index()\n",
    "pixel_raw = ds.sel(x=x,  y=y, method='nearest').sortby('tide_m')\n",
    "# pixel_raw['ndwi'] = (pixel_raw.ndwi > 0.1).where(~pixel_raw.ndwi.isnull())\n",
    "# pixel_rolling = pixel_raw.rolling(time=100, min_periods=1).mean().to_dataframe().reset_index()\n",
    "pixel_raw = pixel_raw.to_dataframe().reset_index()\n",
    "\n",
    "# To plot\n",
    "pixel_to_plot = pixel_rolling\n",
    "pixel_to_plot_mean = pixel_to_plot.rolling(20, center=False, min_periods=None).mean()\n",
    "\n",
    "\n",
    "# pixel_savgol = pixel_rolling.copy()\n",
    "# pixel_savgol['ndwi'] = savgol_filter(pixel_savgol.ndwi.values, 50, 1)\n",
    "\n",
    "# Calculate thresholds\n",
    "land_tides = pixel_to_plot.where((pixel_to_plot.ndwi) < ndwi_thresh)\n",
    "max_ind = land_tides.tide_m.argmax()\n",
    "\n",
    "\n",
    "# Plot\n",
    "fig, ax = plt.subplots(1, 1, figsize=(10, 8))\n",
    "ax.scatter(x=pixel_raw.tide_m, y=pixel_raw.ndwi)\n",
    "ax.plot(pixel_to_plot.tide_m, pixel_to_plot.ndwi, '-o', color='orange')\n",
    "ax.plot(pixel_to_plot_mean.tide_m, pixel_to_plot_mean.ndwi, '-o', color='green')\n",
    "# ax.plot(pixel_savgol.tide_m, pixel_savgol.ndwi, '-o', color='blue')\n",
    "tide_thresh_1 = land_tides.tide_m.iloc[max_ind]\n",
    "ax.axvline(tide_thresh_1, color='orange', linestyle='--', lw=2, alpha=0.5)\n",
    "ax.axhline(ndwi_thresh, color='black', linestyle='--', lw=0.8, alpha=0.5)\n",
    "\n",
    "\n",
    "# clipped = pixel_rolling.where((pixel_rolling.ndwi > 0) & (pixel_rolling.ndwi < 0.1)).dropna()\n",
    "\n",
    "# ax.plot(clipped.tide_m, clipped.ndwi, '-o', color='green')\n",
    "# from scipy import stats\n",
    "# linreg = stats.linregress(x=clipped.tide_m, y=clipped.ndwi)\n",
    "# x = np.linspace(pixel_raw.tide_m.min(), pixel_raw.tide_m.max())\n",
    "# # ax.plot(x, [linreg.slope * i + linreg.intercept for i in x], color='green', linestyle='--')\n",
    "# tide_thresh_3 = (ndwi_thresh - linreg.intercept) / linreg.slope\n",
    "\n",
    "# rolling2 = pixel_raw.sort_values('tide_m').rolling(100, center=True, min_periods=1).median()\n",
    "# ax.plot(rolling2.tide_m, rolling2.ndwi, '-o', color='red')\n",
    "\n",
    "\n",
    "\n",
    "# tide_thresh_1 = land_tides.tide_m.iloc[max_ind]\n",
    "# tide_thresh_2 = pixel_rolling.tide_m.iloc[max_ind + 1]\n",
    "\n",
    "# ax.axvline(tide_thresh_1, color='orange', linestyle='--', lw=2, alpha=0.5)\n",
    "# ax.axvline(tide_thresh_2, color='red', linestyle='--', lw=0.8, alpha=0.5)\n",
    "# ax.axvline(tide_thresh_3, color='green', linestyle='--', lw=2, alpha=0.5)\n",
    "# ax.axhline(ndwi_thresh, color='black', linestyle='--', lw=0.8, alpha=0.5)"
   ]
  },
  {
   "cell_type": "code",
   "execution_count": null,
   "id": "17ed4878-fbd8-4e2e-a202-70d6f879ed3f",
   "metadata": {},
   "outputs": [],
   "source": [
    "x, y = 801144.14604825, 8189103.58475355\n",
    "ndwi_thresh = 0.1\n",
    "\n",
    "# Extract rolling and raw data\n",
    "pixel_rolling = interval_ds.squeeze('quantile').unstack().sel(x=x,  y=y, method='nearest').to_dataframe().reset_index()\n",
    "pixel_raw = ds.sel(x=x,  y=y, method='nearest').sortby('tide_m')\n",
    "# pixel_raw['ndwi'] = (pixel_raw.ndwi > 0.1).where(~pixel_raw.ndwi.isnull())\n",
    "# pixel_rolling = pixel_raw.rolling(time=100, min_periods=1).mean().to_dataframe().reset_index()\n",
    "pixel_raw = pixel_raw.to_dataframe().reset_index()\n",
    "\n",
    "# To plot\n",
    "pixel_to_plot = pixel_rolling\n",
    "pixel_to_plot_mean = pixel_to_plot.rolling(20, center=False, min_periods=None).mean()\n",
    "\n",
    "\n",
    "# pixel_savgol = pixel_rolling.copy()\n",
    "# pixel_savgol['ndwi'] = savgol_filter(pixel_savgol.ndwi.values, 50, 1)\n",
    "\n",
    "# Calculate thresholds\n",
    "land_tides = pixel_to_plot.where((pixel_to_plot.ndwi) < ndwi_thresh)\n",
    "max_ind = land_tides.tide_m.argmax()\n",
    "\n",
    "\n",
    "# Plot\n",
    "fig, ax = plt.subplots(1, 1, figsize=(10, 8))\n",
    "ax.scatter(x=pixel_raw.tide_m, y=pixel_raw.ndwi)\n",
    "ax.plot(pixel_to_plot.tide_m, pixel_to_plot.ndwi, '-o', color='orange')\n",
    "ax.plot(pixel_to_plot_mean.tide_m, pixel_to_plot_mean.ndwi, '-o', color='green')\n",
    "# ax.plot(pixel_savgol.tide_m, pixel_savgol.ndwi, '-o', color='blue')\n",
    "tide_thresh_1 = land_tides.tide_m.iloc[max_ind]\n",
    "ax.axvline(tide_thresh_1, color='orange', linestyle='--', lw=2, alpha=0.5)\n",
    "ax.axhline(ndwi_thresh, color='black', linestyle='--', lw=0.8, alpha=0.5)"
   ]
  },
  {
   "cell_type": "code",
   "execution_count": null,
   "id": "d96cc353-8609-4a50-905a-8cff2fd9a2c9",
   "metadata": {},
   "outputs": [],
   "source": [
    "(pixel_rolling.ndwi * (10* pixel_rolling.ndwi.abs())).plot()"
   ]
  },
  {
   "cell_type": "code",
   "execution_count": null,
   "id": "1ca2800b-2308-4cfb-a939-f0c331dd32ac",
   "metadata": {},
   "outputs": [],
   "source": [
    "ds_sub = ds.sel(x=x,  y=y, method='nearest')\n",
    "\n",
    "\n",
    "ds_sub.sel(time=(ds_sub.ndwi < 0) & (ds_sub.tide_m > 0.25)).time"
   ]
  },
  {
   "cell_type": "code",
   "execution_count": null,
   "id": "49259330-345a-4315-801a-ae5797529bf1",
   "metadata": {},
   "outputs": [],
   "source": [
    "from scipy.signal import savgol_filter\n",
    "yhat = savgol_filter(pixel_rolling.ndwi.values, 50, 2) # window size 51, polynomial order 3\n",
    "plt.plot(yhat)"
   ]
  },
  {
   "cell_type": "code",
   "execution_count": null,
   "id": "f51e1fbc-17b3-407f-babc-f2fd910d703d",
   "metadata": {},
   "outputs": [],
   "source": [
    "test = np.array([-0.5, -0.2, -0.01, 0, 0.01, 0.2, 0.5])"
   ]
  },
  {
   "cell_type": "code",
   "execution_count": null,
   "id": "ee240194-53e6-4d8f-80d4-1d356a06d165",
   "metadata": {},
   "outputs": [],
   "source": [
    "import scipy.stats\n",
    "plt.plot(scipy.stats.norm.pdf(test, loc=0, scale=1))"
   ]
  },
  {
   "cell_type": "code",
   "execution_count": null,
   "id": "42aedacb-8c10-4351-ac9f-be271a181c80",
   "metadata": {},
   "outputs": [],
   "source": [
    "from skimage import exposure"
   ]
  },
  {
   "cell_type": "code",
   "execution_count": null,
   "id": "638cac42-4035-4f06-8fc4-70f7c1ce2f3d",
   "metadata": {},
   "outputs": [],
   "source": [
    "plt.plot(test)"
   ]
  },
  {
   "cell_type": "code",
   "execution_count": null,
   "id": "fa403f63-e98d-40e0-bdbd-56bf2fa64549",
   "metadata": {},
   "outputs": [],
   "source": [
    "plt.plot(exposure.adjust_gamma(np.abs(test), 2))"
   ]
  },
  {
   "cell_type": "code",
   "execution_count": null,
   "id": "4194f061-be51-461a-8ed2-7c5d84762f32",
   "metadata": {},
   "outputs": [],
   "source": [
    "\n",
    "\n",
    "\n",
    "from scipy.signal import savgol_filter\n",
    "yhat = savgol_filter(pixel_raw.ndwi.values, 25, 3) # window size 51, polynomial order 3\n",
    "\n",
    "pixel_rolling.ndwi.plot()\n",
    "plt.plot(yhat)"
   ]
  },
  {
   "cell_type": "code",
   "execution_count": null,
   "id": "9fe9b85a-eb57-4c15-8d41-027c5dc04227",
   "metadata": {},
   "outputs": [],
   "source": [
    "pixel_raw.ndwi.plot()"
   ]
  },
  {
   "cell_type": "code",
   "execution_count": null,
   "id": "4d9c86fb-f015-4c4c-89f7-7f044a476e49",
   "metadata": {},
   "outputs": [],
   "source": []
  },
  {
   "cell_type": "code",
   "execution_count": null,
   "id": "d583eaa0-3bca-4790-a6d2-94a4b38e9db0",
   "metadata": {},
   "outputs": [],
   "source": [
    "interval_ds.ndwi2"
   ]
  },
  {
   "cell_type": "code",
   "execution_count": null,
   "id": "b8e4e841-acbd-4bb3-b7ae-ea5c41b06faf",
   "metadata": {},
   "outputs": [],
   "source": [
    "clipped_test = pixel_rolling.where((pixel_rolling.ndwi > -0.1) & (pixel_rolling.ndwi < 0.1)).dropna().rolling(5, center=True).mean()\n",
    "plt.plot(clipped_test.tide_m, clipped_test.ndwi, '-o', color='green')\n",
    "\n",
    "diff = clipped_test.ndwi.diff() / clipped_test.ndwi.index.to_series().diff()\n",
    "plt.plot(clipped_test.tide_m, diff, '-o', color='red')\n",
    "\n",
    "plt.axvline(clipped_test.tide_m.iloc[diff.argmax()], color='orange', linestyle='--', lw=2, alpha=0.5)\n",
    "plt.axhline(clipped_test.ndwi.iloc[diff.argmax()], color='orange', linestyle='--', lw=2, alpha=0.5)"
   ]
  },
  {
   "cell_type": "code",
   "execution_count": null,
   "id": "a0100f9f-a666-43be-acf9-ea67ab23175f",
   "metadata": {},
   "outputs": [],
   "source": []
  },
  {
   "cell_type": "code",
   "execution_count": null,
   "id": "2dc724c7-34c5-4d1c-b066-3f411a540f93",
   "metadata": {},
   "outputs": [],
   "source": [
    "plt.plot(clipped_test.tide_m, clipped_test.ndwi, '-o', color='green')"
   ]
  },
  {
   "cell_type": "code",
   "execution_count": null,
   "id": "422231ba-5068-4b76-8fcc-ecf4fcf640a4",
   "metadata": {},
   "outputs": [],
   "source": [
    "pdf = gaussian_kde(pixel_rolling.ndwi.values, bw_method=0.5, weights=scipy.stats.norm.pdf(pixel_rolling.ndwi.values, loc=0, scale=0.1))\n",
    "x = np.linspace(-0.5, 0.5, 200)\n",
    "y = pdf(x)\n",
    "plt.axvline(x[y.argmax()], color='orange', linestyle='--', lw=2, alpha=0.5)\n",
    "plt.plot(x, y, label='kde')"
   ]
  },
  {
   "cell_type": "code",
   "execution_count": null,
   "id": "aeabb2d4-139c-4fe4-bc3e-eba8f47fcf7f",
   "metadata": {},
   "outputs": [],
   "source": []
  },
  {
   "cell_type": "code",
   "execution_count": null,
   "id": "8bf37568-48e3-459e-afcc-de6170d5a39a",
   "metadata": {},
   "outputs": [],
   "source": [
    "from scipy.stats import gaussian_kde\n"
   ]
  },
  {
   "cell_type": "code",
   "execution_count": null,
   "id": "ea0c2eba-e182-44cf-82b0-a9284ae62f43",
   "metadata": {},
   "outputs": [],
   "source": [
    "import scipy.stats\n",
    "plt.scatter(pixel_rolling.ndwi.values, scipy.stats.norm.pdf(pixel_rolling.ndwi.values, loc=0, scale=0.1))"
   ]
  },
  {
   "cell_type": "code",
   "execution_count": null,
   "id": "d9a70cd0-195c-44a2-9388-761bc604c522",
   "metadata": {},
   "outputs": [],
   "source": [
    "pixel_raw.tide_m.min()"
   ]
  },
  {
   "cell_type": "code",
   "execution_count": null,
   "id": "7a8e7517-19e4-4b4d-acc2-b1e371cc8ed6",
   "metadata": {},
   "outputs": [],
   "source": [
    "pixel_raw.ndwi.plot.density(bw_method=0.05)"
   ]
  },
  {
   "cell_type": "code",
   "execution_count": null,
   "id": "a9d702d5-55d7-42ca-a07c-4f1c1fcc0a7b",
   "metadata": {},
   "outputs": [],
   "source": []
  },
  {
   "cell_type": "code",
   "execution_count": null,
   "id": "2da51b0d-7a33-4750-a757-f6f6d1b343f7",
   "metadata": {},
   "outputs": [],
   "source": [
    "pixel_rolling.ndwi.plot()\n",
    "(pixel_rolling.ndwi.diff() / pixel_rolling.ndwi.index.to_series().diff()).plot()"
   ]
  },
  {
   "cell_type": "code",
   "execution_count": null,
   "id": "344fc592-a8b8-4143-982a-f6d9ce341216",
   "metadata": {},
   "outputs": [],
   "source": [
    "from scipy.signal import savgol_filter\n",
    "w = savgol_filter(y.sort_values('ndwi').ndwi, 5, 2)\n",
    "w"
   ]
  },
  {
   "cell_type": "code",
   "execution_count": null,
   "id": "150e9df7-fc86-4b89-b2d0-3f1b5261bb4f",
   "metadata": {},
   "outputs": [],
   "source": [
    "y.sort_values('tide_m').ndwi"
   ]
  },
  {
   "cell_type": "code",
   "execution_count": null,
   "id": "e5df7fac-8ca6-4012-877e-8a8d796404e7",
   "metadata": {},
   "outputs": [],
   "source": [
    "# tide_thresh_2 = \n"
   ]
  },
  {
   "cell_type": "code",
   "execution_count": null,
   "id": "4456ab6e-849e-43d9-8605-64ff3569ff2e",
   "metadata": {},
   "outputs": [],
   "source": [
    "pixel_rolling.where(pixel_rolling.ndwi < 0).tide_m.argmax()"
   ]
  },
  {
   "cell_type": "code",
   "execution_count": null,
   "id": "5bd0596d-1201-41b1-9f90-7cd9a14259cf",
   "metadata": {},
   "outputs": [],
   "source": [
    "x, y = 642456.7107189415, 8275569.497920433\n",
    "pixel = interval_ds.sel(x=x,  y=y, method='nearest')\n",
    "df_median = pixel.to_dataframe().reset_index()\n",
    "\n",
    "fig, ax = plt.subplots(1, 1)\n",
    "ax.scatter(x=df_median.tide_m, y=df_median.ndwi)\n",
    "tide_thresh_1 = df_median.where(df_median.ndwi < 0).tide_m.max()\n",
    "tide_thresh_2 = df_median.where(df_median.ndwi > 0).tide_m.min()\n",
    "ax.axvline((tide_thresh_1 + tide_thresh_2) / 2)\n",
    "ax.axhline(0)"
   ]
  },
  {
   "cell_type": "markdown",
   "id": "90175bec-27b6-4601-97d5-5d5a7f4d44d1",
   "metadata": {
    "tags": []
   },
   "source": [
    "### Elevation calculation"
   ]
  },
  {
   "cell_type": "code",
   "execution_count": null,
   "id": "dab3cbd7-60c2-436f-9a59-56063826c2e8",
   "metadata": {
    "tags": []
   },
   "outputs": [],
   "source": [
    "# Output name\n",
    "fname = 'testing1'\n",
    "# fname = aoi.lower().replace(' ', '')\n",
    "\n",
    "# Calculate \n",
    "min_thresh = (0 - 0.5 * s2_stdev_mean)\n",
    "max_thresh = (0 + 0.5 * s2_stdev_mean)\n",
    "\n",
    "for thresh_name, thesh in {'': 0, '_low': min_thresh, '_high': max_thresh}.items():\n",
    "    \n",
    "    dem_fname = f'data/interim/pixel_dem_{fname}{thresh_name}.tif'\n",
    "    print(f'Exporting {dem_fname}')\n",
    "    \n",
    "    # Identify the max tide per pixel where NDWI == land\n",
    "    tide_thresh = ds.tide_m.where(s2_median <= thesh).max(dim='tide_n')\n",
    "    tide_max = ds.tide_m.max(dim='tide_n')\n",
    "    \n",
    "    # Remove any pixel where tides max out (i.e. always land)\n",
    "    dem = tide_thresh.where(tide_thresh < tide_max)\n",
    "    \n",
    "    # Export DEM file  \n",
    "    dem.odc.write_cog(fname=dem_fname, overwrite=True)\n",
    "\n",
    "# Export NDWI standard deviation/confidence file\n",
    "s2_stdev_mean.odc.write_cog(fname=f'data/interim/pixel_dem_{fname}_confidence.tif', overwrite=True)"
   ]
  },
  {
   "cell_type": "markdown",
   "id": "5781fcbf-08a2-4937-88a0-1e1ba81edab1",
   "metadata": {},
   "source": [
    "### Experimental"
   ]
  },
  {
   "cell_type": "code",
   "execution_count": null,
   "id": "39cdf81c-83da-43cc-884f-94df97dacc01",
   "metadata": {},
   "outputs": [],
   "source": [
    "from dea_tools.temporal import lag_linregress_3D"
   ]
  },
  {
   "cell_type": "code",
   "execution_count": null,
   "id": "2f85b5e1-9520-4077-af1b-e4f59d3dc06e",
   "metadata": {},
   "outputs": [],
   "source": [
    "# reg = lag_linregress_3D(s2_rolling.tide_height, (s2_rolling > 0).where(~s2_rolling.isnull()), first_dim='tide_height')\n",
    "# (reg.pval < 0.01).plot.imshow()"
   ]
  },
  {
   "cell_type": "code",
   "execution_count": null,
   "id": "ec11c556-5407-40de-a916-8d21f11a076e",
   "metadata": {},
   "outputs": [],
   "source": [
    "# s2_rolling"
   ]
  },
  {
   "cell_type": "code",
   "execution_count": null,
   "id": "c32ddbfb-874e-4085-b1da-9e5f6f405a44",
   "metadata": {},
   "outputs": [],
   "source": [
    "# test_min = tide_3d.where(s2_rolling >= 0).min(dim='tide_height')\n",
    "# test_max = tide_3d.where(s2_rolling < 0).max(dim='tide_height')\n",
    "# # dem = test_min.where(~test_max.isnull())\n",
    "# dem = ((test_max + test_min) / 2.0)\n",
    "# write_cog(dem, fname='pixel_dem_mccarthurriver.tif', overwrite=True)\n"
   ]
  },
  {
   "cell_type": "code",
   "execution_count": null,
   "id": "d9d3ced0-a1e7-47c3-b636-a217c947b864",
   "metadata": {},
   "outputs": [],
   "source": [
    "# out = xr.corr(s2_rolling, tide_3d)"
   ]
  },
  {
   "cell_type": "code",
   "execution_count": null,
   "id": "d2058e5c-111e-48d5-89e5-47bb93a670ef",
   "metadata": {},
   "outputs": [],
   "source": [
    "write_cog(test_max, fname='pixel_dem13.tif', overwrite=True)  # "
   ]
  },
  {
   "cell_type": "code",
   "execution_count": null,
   "id": "782714b0-5a93-4a8a-aa62-37a8e02bd53c",
   "metadata": {},
   "outputs": [],
   "source": [
    "x, y = 755234.5430086093, 8215882.783825266\n",
    "# pixel = s2_rolling.sel(x=x,  y=y, method='nearest')\n",
    "# df_median = pixel.to_dataframe()[['ndwi']].reset_index()\n",
    "\n",
    "pixel = ds.sel(x=x,  y=y, method='nearest')\n",
    "df = pixel.to_dataframe()[['ndwi']].reset_index()\n",
    "df_median = df.rolling(100, min_periods=10, center=True).median()\n",
    "df_std = df.rolling(100, min_periods=10, center=True).std()\n",
    "std_mean = df_std.ndwi.mean()\n",
    "\n",
    "fig, ax = plt.subplots(1, 1)\n",
    "ax.scatter(x=df_median.tide_height, y=df_median.ndwi)\n",
    "# ax.axvline(df_median.where(df_median.ndwi > 0).tide_height.min())\n",
    "ax.axvline(df_median.where(df_median.ndwi < 0).tide_height.max())\n",
    "ax.axvline(df_median.where(df_median.ndwi < (0 + std_mean * 0.5)).tide_height.max())\n",
    "ax.axvline(df_median.where(df_median.ndwi < (0 - std_mean * 0.5)).tide_height.max())\n",
    "ax.axhline(0)"
   ]
  },
  {
   "cell_type": "code",
   "execution_count": null,
   "id": "e35babc3-f719-4c01-9f4f-b742c199328d",
   "metadata": {},
   "outputs": [],
   "source": [
    "std_mean.ndwi"
   ]
  },
  {
   "cell_type": "code",
   "execution_count": null,
   "id": "f3f828fd-c9a3-4bf1-a1f8-c091eea486b7",
   "metadata": {},
   "outputs": [],
   "source": [
    "df_median.where(df_median.ndwi < 0).tide_height.max()"
   ]
  },
  {
   "cell_type": "code",
   "execution_count": null,
   "id": "eb6c4d35-5569-432e-bb70-6497a5329c0b",
   "metadata": {},
   "outputs": [],
   "source": [
    "df_median.where(df_median.ndwi > 0).tide_height.min()"
   ]
  },
  {
   "cell_type": "markdown",
   "id": "72172af8-b057-4416-9ba9-de434e78b4d2",
   "metadata": {},
   "source": [
    "# Shut down cluster"
   ]
  },
  {
   "cell_type": "code",
   "execution_count": null,
   "id": "7e5b413a-ab34-48a0-97b4-682a268eb322",
   "metadata": {},
   "outputs": [],
   "source": [
    "# from dask_gateway import Gateway\n",
    "# gateway = Gateway()\n",
    "\n",
    "# # Close any existing clusters\n",
    "# cluster_names = gateway.list_clusters()\n",
    "# if len(cluster_names) > 0:\n",
    "#     print(\"Cluster(s) still running:\", cluster_names)\n",
    "#     for n in cluster_names:\n",
    "#         cluster = gateway.connect(n.name)\n",
    "#         cluster.shutdown()"
   ]
  },
  {
   "cell_type": "code",
   "execution_count": null,
   "id": "46f990e8-d01a-4334-b4d4-42306a31b627",
   "metadata": {},
   "outputs": [],
   "source": [
    "# cluster.shutdown()"
   ]
  },
  {
   "cell_type": "code",
   "execution_count": null,
   "id": "a8a8bf32-584f-40d9-9484-8c3f2886ff8a",
   "metadata": {},
   "outputs": [],
   "source": []
  }
 ],
 "metadata": {
  "kernelspec": {
   "display_name": "Python 3 (ipykernel)",
   "language": "python",
   "name": "python3"
  },
  "language_info": {
   "codemirror_mode": {
    "name": "ipython",
    "version": 3
   },
   "file_extension": ".py",
   "mimetype": "text/x-python",
   "name": "python",
   "nbconvert_exporter": "python",
   "pygments_lexer": "ipython3",
   "version": "3.8.10"
  }
 },
 "nbformat": 4,
 "nbformat_minor": 5
}

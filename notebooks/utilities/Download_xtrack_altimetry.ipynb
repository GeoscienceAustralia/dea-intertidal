{
 "cells": [
  {
   "cell_type": "markdown",
   "id": "a347fee5-fc97-4059-aa48-b9b01b1a21d5",
   "metadata": {
    "tags": []
   },
   "source": [
    "# Download X-TRACK coastal altimetry data"
   ]
  },
  {
   "cell_type": "code",
   "execution_count": null,
   "id": "833a4032-9b0e-451c-bd13-812a09f6f592",
   "metadata": {
    "tags": []
   },
   "outputs": [],
   "source": [
    "%load_ext autoreload\n",
    "%autoreload 2\n",
    "\n",
    "import os\n",
    "from ftplib import FTP\n",
    "\n",
    "os.chdir(\"/gdata1/data/altimetry/X-TRACK/\")"
   ]
  },
  {
   "cell_type": "markdown",
   "id": "425f2023-6fc9-433d-9dd5-dec8d8dbf9a6",
   "metadata": {},
   "source": [
    "### Download data from Aviso+ FTP\n",
    "> Altimetry data used here (v2.1, DOI 10.24400/527896/a01-2022.020) were developed, validated by the CTOH/LEGOS, France and distributed by Aviso+:\n",
    "https://www.aviso.altimetry.fr/en/data/products/sea-surface-height-products/regional/x-track-sla/x-track-l2p-sla-version-2022.html"
   ]
  },
  {
   "cell_type": "code",
   "execution_count": null,
   "id": "423699d9-66a0-49d5-b7da-693df2342302",
   "metadata": {
    "tags": []
   },
   "outputs": [],
   "source": [
    "# Connect and list directory contents\n",
    "PASSWORD = \"\"\n",
    "ftp = FTP('ftp-access.aviso.altimetry.fr')\n",
    "ftp.login(\"Robbi.BishopTaylor@ga.gov.au\", PASSWORD)\n",
    "\n",
    "# # List all files in directory and return as Python list\n",
    "# nc_files = ftp.nlst(\"regional-xtrack-coastal/version_xtrack_l2p_2022/WAUSTRALIA/S3A/SLA\")\n",
    "# nc_files = ftp.nlst(\"regional-xtrack-coastal/version_xtrack_l2p_2022/EAUSTRALIA/S3A/SLA\")\n",
    "# nc_files = ftp.nlst(\"regional-xtrack-coastal/version_xtrack_l2p_2022/WAUSTRALIA/TP+J1+J2+J3/SLA\")\n",
    "# nc_files = ftp.nlst(\"regional-xtrack-coastal/version_xtrack_l2p_2022/EAUSTRALIA/TP+J1+J2+J3/SLA\")\n",
    "# nc_files = ftp.nlst(\"regional-xtrack-coastal/version_xtrack_l2p_2022/EAUSTRALIA/ERS1+ERS2+ENV+SRL/SLA\")\n",
    "# nc_files = ftp.nlst(\"regional-xtrack-coastal/version_xtrack_l2p_2022/WAUSTRALIA/ERS1+ERS2+ENV+SRL/SLA\")\n",
    "# nc_files = ftp.nlst(\"regional-xtrack-coastal/version_xtrack_l2p_2022/EAUSTRALIA/TPN+J1N+J2N/SLA\")\n",
    "# nc_files = ftp.nlst(\"regional-xtrack-coastal/version_xtrack_l2p_2022/WAUSTRALIA/TPN+J1N+J2N/SLA\")\n",
    "# nc_files = ftp.nlst(\"regional-xtrack-coastal/version_xtrack_l2p_2022/EAUSTRALIA/HY2/SLA\")\n",
    "# nc_files = ftp.nlst(\"regional-xtrack-coastal/version_xtrack_l2p_2022/WAUSTRALIA/HY2/SLA\")\n",
    "# nc_files = ftp.nlst(\"regional-xtrack-coastal/version_xtrack_l2p_2022/EAUSTRALIA/GFO/SLA\")\n",
    "# nc_files = ftp.nlst(\"regional-xtrack-coastal/version_xtrack_l2p_2022/WAUSTRALIA/GFO/SLA\")\n",
    "\n",
    "for nc_file in nc_files:\n",
    "    filename = nc_file.split(\"/\")[-1]\n",
    "    \n",
    "    # If file doesn't already exist\n",
    "    if not os.path.isfile(filename[0:-5]):\n",
    "\n",
    "        # Download file\n",
    "        print(f\"Downloading {filename}\")\n",
    "        with open(filename, \"wb\") as file: \n",
    "            ftp.retrbinary(f\"RETR {nc_file}\", file.write)\n",
    "            \n",
    "        # Extract NetCDF\n",
    "        !unlzma {filename}"
   ]
  }
 ],
 "metadata": {
  "kernelspec": {
   "display_name": "Python 3 (ipykernel)",
   "language": "python",
   "name": "python3"
  },
  "language_info": {
   "codemirror_mode": {
    "name": "ipython",
    "version": 3
   },
   "file_extension": ".py",
   "mimetype": "text/x-python",
   "name": "python",
   "nbconvert_exporter": "python",
   "pygments_lexer": "ipython3",
   "version": "3.10.8"
  },
  "widgets": {
   "application/vnd.jupyter.widget-state+json": {
    "state": {},
    "version_major": 2,
    "version_minor": 0
   }
  }
 },
 "nbformat": 4,
 "nbformat_minor": 5
}

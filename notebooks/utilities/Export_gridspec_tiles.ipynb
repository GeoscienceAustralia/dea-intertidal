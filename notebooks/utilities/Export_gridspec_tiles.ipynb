{
 "cells": [
  {
   "cell_type": "markdown",
   "id": "a347fee5-fc97-4059-aa48-b9b01b1a21d5",
   "metadata": {
    "tags": []
   },
   "source": [
    "# Export analysis grid tiles from an `odc-geo` GridSpec"
   ]
  },
  {
   "cell_type": "code",
   "execution_count": 1,
   "id": "ba6fb5d2-72f2-4e40-ab95-c774fd7f593d",
   "metadata": {
    "tags": []
   },
   "outputs": [],
   "source": [
    "import geopandas as gpd\n",
    "\n",
    "from odc.geo.geom import BoundingBox\n",
    "from odc.geo.gridspec import GridSpec\n",
    "from odc.geo.types import xy_\n",
    "\n",
    "\n",
    "def id_to_tuple(id_str):\n",
    "    \"\"\"\n",
    "    Converts a tile ID in form 'x143y56' to a ix, iy tuple so it can\n",
    "    be passed to a GridSpec (e.g. `gs[ix, iy]`)\n",
    "    \"\"\"\n",
    "    ix, iy = id_str.replace(\"x\", \"\").split(\"y\")\n",
    "    return int(ix), int(iy)"
   ]
  },
  {
   "cell_type": "markdown",
   "id": "af5c30b1-ff7b-4782-8d52-18b3758556b7",
   "metadata": {},
   "source": [
    "## Create GridSpec tile grid"
   ]
  },
  {
   "cell_type": "code",
   "execution_count": 2,
   "id": "7bb23054-189b-4a42-9803-7e0291a7e051",
   "metadata": {
    "tags": []
   },
   "outputs": [
    {
     "data": {
      "text/plain": [
       "BoundingBox(left=-2400000, bottom=-5088000, right=2784000, top=-864000, crs=CRS('EPSG:3577'))"
      ]
     },
     "execution_count": 2,
     "metadata": {},
     "output_type": "execute_result"
    }
   ],
   "source": [
    "# Load Collection 3 summary grid, reproject to Albers\n",
    "c3_path = \"https://data.dea.ga.gov.au/derivative/ga_summary_grid_c3.geojson\"\n",
    "c3_grid = gpd.read_file(c3_path)\n",
    "\n",
    "# Extract BoundingBox, converting to ints to avoid floating point issues\n",
    "c3_bbox = BoundingBox(\n",
    "    *c3_grid.to_crs(\"EPSG:3577\").total_bounds.round().astype(int), crs=\"EPSG:3577\"\n",
    ")\n",
    "c3_bbox"
   ]
  },
  {
   "cell_type": "code",
   "execution_count": 3,
   "id": "47a00b20-ddb4-49f1-b84f-82787cf37aeb",
   "metadata": {
    "tags": []
   },
   "outputs": [
    {
     "data": {
      "text/plain": [
       "GridSpec(crs=EPSG:3577, tile_shape=Shape2d(x=3200, y=3200), resolution=Resolution(x=10, y=-10))"
      ]
     },
     "execution_count": 3,
     "metadata": {},
     "output_type": "execute_result"
    }
   ],
   "source": [
    "# Create 32 km tiles using gridspec, using origin used by C3 grid to\n",
    "# preserve positive indices\n",
    "gs_32km = GridSpec(\n",
    "    crs=\"EPSG:3577\",\n",
    "    resolution=10,\n",
    "    tile_shape=(3200, 3200),\n",
    "    origin=xy_(-2688000, -5472000),\n",
    ")\n",
    "gs_32km"
   ]
  },
  {
   "cell_type": "markdown",
   "id": "dbace39d-5d08-406a-8e6b-a6fc194e8c68",
   "metadata": {},
   "source": [
    "## Create vector file outputs"
   ]
  },
  {
   "cell_type": "code",
   "execution_count": 4,
   "id": "73800dbb-721f-4729-9707-772b129bdfab",
   "metadata": {
    "tags": []
   },
   "outputs": [
    {
     "name": "stderr",
     "output_type": "stream",
     "text": [
      "/tmp/ipykernel_628/1685867338.py:13: UserWarning: Geometry is in a geographic CRS. Results from 'buffer' are likely incorrect. Use 'GeoSeries.to_crs()' to re-project geometries to a projected CRS before this operation.\n",
      "\n",
      "  c3_grid_shrunk[\"geometry\"] = c3_grid_shrunk.geometry.buffer(-0.01)\n"
     ]
    }
   ],
   "source": [
    "# Convert grid to geopandas polygon dataset covering full C3 grid extent\n",
    "grid_gdf = gpd.GeoDataFrame.from_features(\n",
    "    gs_32km.geojson(bbox=c3_bbox), crs=\"EPSG:4326\"\n",
    ")\n",
    "\n",
    "# Update column names to match C3 grid\n",
    "grid_gdf[[\"ix\", \"iy\"]] = grid_gdf.idx.str.split(\",\", expand=True).astype(int)\n",
    "grid_gdf[\"id\"] = \"x\" + grid_gdf.ix.astype(str) + \"y\" + grid_gdf.iy.astype(str)\n",
    "\n",
    "# Copy Collection 3 grid, then slightly shrink geometry to make sure we\n",
    "# have no ambiguity along grid cell edges for the subsequent spatial join\n",
    "c3_grid_shrunk = c3_grid[[\"region_code\", \"utc_offset\", \"geometry\"]].copy()\n",
    "c3_grid_shrunk[\"geometry\"] = c3_grid_shrunk.geometry.buffer(-0.01)\n",
    "\n",
    "# Spatially join attributes from Collection 3 grid to new grid, and\n",
    "# select a subset of desired columns\n",
    "grid_gdf_joined = grid_gdf.sjoin(c3_grid_shrunk)[\n",
    "    [\"id\", \"ix\", \"iy\", \"region_code\", \"utc_offset\", \"geometry\"]\n",
    "].set_index(\"id\")"
   ]
  },
  {
   "cell_type": "markdown",
   "id": "15513460-dce7-46d2-82b2-d51f7bf27dff",
   "metadata": {},
   "source": [
    "### Join GEODATA Topo 100k attributes"
   ]
  },
  {
   "cell_type": "code",
   "execution_count": 10,
   "id": "5510a5a8-f4b4-49c7-8a30-633fd55053af",
   "metadata": {
    "tags": []
   },
   "outputs": [],
   "source": [
    "region_path = \"https://data.dea.ga.gov.au/derivative/dea_coastlines/supplementary/cstauscd_r.geojson\"\n",
    "region_gdf = gpd.read_file(region_path)\n",
    "region_gdf = region_gdf[[\"FEAT_CODE\", \"geometry\"]].set_index(\"FEAT_CODE\")\n"
   ]
  },
  {
   "cell_type": "code",
   "execution_count": 14,
   "id": "f20d4095-85a8-4e6e-9229-9ce003b336fd",
   "metadata": {
    "tags": []
   },
   "outputs": [],
   "source": [
    "# Identify mainland tiles, and add to \"type\" field\n",
    "grid_gdf_mainland = grid_gdf_joined.clip(region_gdf.loc[[\"mainland\"]])\n",
    "grid_gdf_joined[\"type\"] = \"offshore\"\n",
    "grid_gdf_joined.loc[grid_gdf_mainland.index, \"type\"] = \"mainland\""
   ]
  },
  {
   "cell_type": "markdown",
   "id": "186dc82c-7476-4c36-923e-32c5be72c76c",
   "metadata": {},
   "source": [
    "### Subset and clip to the coast"
   ]
  },
  {
   "cell_type": "code",
   "execution_count": 28,
   "id": "cacd95ae-6e27-4906-824e-2cb0a1fcea4a",
   "metadata": {
    "tags": []
   },
   "outputs": [],
   "source": [
    "mask_path = \"https://data.dea.ga.gov.au/derivative/dea_coastlines/supplementary/albers_grids/coastal_mask_15km.geojson\"\n",
    "coastal_mask_gdf = gpd.read_file(mask_path)"
   ]
  },
  {
   "cell_type": "code",
   "execution_count": 29,
   "id": "dc2ec3ea-a5af-4715-b7c7-9baab564652a",
   "metadata": {
    "tags": []
   },
   "outputs": [],
   "source": [
    "# Clip to coastal zone using mask\n",
    "grid_gdf_clipped = grid_gdf_joined.clip(coastal_mask_gdf)"
   ]
  },
  {
   "cell_type": "code",
   "execution_count": 30,
   "id": "a9aea116-91b0-43ef-be62-4ce8b920b23c",
   "metadata": {
    "tags": []
   },
   "outputs": [],
   "source": [
    "# Subset to cooastal tiles (without clipping)\n",
    "grid_gdf_coastal = grid_gdf_joined.loc[grid_gdf_clipped.index]"
   ]
  },
  {
   "cell_type": "markdown",
   "id": "ed7df318-65a4-42b7-827d-99acd010b7f2",
   "metadata": {},
   "source": [
    "### Export all outputs"
   ]
  },
  {
   "cell_type": "code",
   "execution_count": 31,
   "id": "ef85cc91-1029-41c8-9e77-11df16f5df53",
   "metadata": {
    "tags": []
   },
   "outputs": [],
   "source": [
    "grid_gdf_joined.to_file(\"ga_summary_grid_c3_32km.geojson\")\n",
    "grid_gdf_coastal.to_file(\"ga_summary_grid_c3_32km_coastal.geojson\")\n",
    "grid_gdf_clipped.to_file(\"ga_summary_grid_c3_32km_coastal_clipped.geojson\")"
   ]
  },
  {
   "cell_type": "markdown",
   "id": "8f0eb00d-21f4-4507-9abc-88e5a23eb01f",
   "metadata": {},
   "source": [
    "## Test GridSpec"
   ]
  },
  {
   "cell_type": "code",
   "execution_count": null,
   "id": "a0d95113-1805-4e71-b844-08064adf483e",
   "metadata": {
    "tags": []
   },
   "outputs": [],
   "source": [
    "# Test the gridspec on a tile ID\n",
    "gs_32km[id_to_tuple(\"x135y101\")]"
   ]
  },
  {
   "cell_type": "code",
   "execution_count": null,
   "id": "2e76ced5-623f-44c4-ab1e-85876ecd4dfe",
   "metadata": {
    "tags": []
   },
   "outputs": [],
   "source": [
    "# Test gridspec on coordinates\n",
    "gs_32km[gs_32km.pt2idx(x=1904005, y=-3664005)]"
   ]
  }
 ],
 "metadata": {
  "kernelspec": {
   "display_name": "Python 3 (ipykernel)",
   "language": "python",
   "name": "python3"
  },
  "language_info": {
   "codemirror_mode": {
    "name": "ipython",
    "version": 3
   },
   "file_extension": ".py",
   "mimetype": "text/x-python",
   "name": "python",
   "nbconvert_exporter": "python",
   "pygments_lexer": "ipython3",
   "version": "3.8.10"
  },
  "widgets": {
   "application/vnd.jupyter.widget-state+json": {
    "state": {},
    "version_major": 2,
    "version_minor": 0
   }
  }
 },
 "nbformat": 4,
 "nbformat_minor": 5
}

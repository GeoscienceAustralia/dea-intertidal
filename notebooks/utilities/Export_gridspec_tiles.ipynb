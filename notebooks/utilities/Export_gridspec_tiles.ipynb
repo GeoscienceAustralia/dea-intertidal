{
 "cells": [
  {
   "cell_type": "markdown",
   "id": "a347fee5-fc97-4059-aa48-b9b01b1a21d5",
   "metadata": {
    "tags": []
   },
   "source": [
    "# Export analysis grid tiles from an `odc-geo` GridSpec"
   ]
  },
  {
   "cell_type": "markdown",
   "id": "937e962a-f9c3-4352-aac8-dc4cb0d42acd",
   "metadata": {},
   "source": [
    "## Getting started\n",
    "Set working directory to top level of repo to ensure links work correctly:"
   ]
  },
  {
   "cell_type": "code",
   "execution_count": null,
   "id": "e51005a6-2268-47ac-9d15-cae3b2234dc1",
   "metadata": {
    "tags": []
   },
   "outputs": [],
   "source": [
    "cd ../.."
   ]
  },
  {
   "cell_type": "markdown",
   "id": "c2798c2e-0f46-4f61-a37e-a0f245cc3ee0",
   "metadata": {},
   "source": [
    "Install additional packages directly from the requirements file"
   ]
  },
  {
   "cell_type": "code",
   "execution_count": null,
   "id": "2ebdc087-af22-4bd9-a77d-93c891763c77",
   "metadata": {},
   "outputs": [],
   "source": [
    "pip install -r requirements.in --quiet"
   ]
  },
  {
   "cell_type": "code",
   "execution_count": null,
   "id": "ba6fb5d2-72f2-4e40-ab95-c774fd7f593d",
   "metadata": {
    "tags": []
   },
   "outputs": [],
   "source": [
    "import pandas as pd\n",
    "import geopandas as gpd\n",
    "\n",
    "from odc.geo.geom import BoundingBox\n",
    "from odc.geo.gridspec import GridSpec\n",
    "from odc.geo.types import xy_\n",
    "\n",
    "from intertidal.io import _id_to_tuple\n"
   ]
  },
  {
   "cell_type": "markdown",
   "id": "af5c30b1-ff7b-4782-8d52-18b3758556b7",
   "metadata": {},
   "source": [
    "## Create GridSpec tile grid"
   ]
  },
  {
   "cell_type": "code",
   "execution_count": null,
   "id": "7bb23054-189b-4a42-9803-7e0291a7e051",
   "metadata": {
    "tags": []
   },
   "outputs": [],
   "source": [
    "# Load Collection 3 summary grid, reproject to Albers\n",
    "c3_path = \"https://data.dea.ga.gov.au/derivative/ga_summary_grid_c3.geojson\"\n",
    "c3_grid = gpd.read_file(c3_path)\n",
    "\n",
    "# Extract BoundingBox, converting to ints to avoid floating point issues\n",
    "c3_bbox = BoundingBox(\n",
    "    *c3_grid.to_crs(\"EPSG:3577\").total_bounds.round().astype(int), crs=\"EPSG:3577\"\n",
    ")\n",
    "c3_bbox"
   ]
  },
  {
   "cell_type": "code",
   "execution_count": null,
   "id": "47a00b20-ddb4-49f1-b84f-82787cf37aeb",
   "metadata": {
    "tags": []
   },
   "outputs": [],
   "source": [
    "# Create 32 km tiles using gridspec, using origin of updated AOI grid\n",
    "gs_32km = GridSpec(\n",
    "    crs=\"EPSG:3577\",\n",
    "    resolution=10,\n",
    "    tile_shape=(3200, 3200),\n",
    "    origin=xy_(-4416000, -6912000),  # near Heard and McDonald Islands\n",
    ")\n",
    "gs_32km[0, 0]"
   ]
  },
  {
   "cell_type": "markdown",
   "id": "dbace39d-5d08-406a-8e6b-a6fc194e8c68",
   "metadata": {},
   "source": [
    "## Create vector file outputs"
   ]
  },
  {
   "cell_type": "code",
   "execution_count": null,
   "id": "73800dbb-721f-4729-9707-772b129bdfab",
   "metadata": {
    "tags": []
   },
   "outputs": [],
   "source": [
    "# Convert grid to geopandas polygon dataset covering full C3 grid extent\n",
    "grid_gdf = gpd.GeoDataFrame.from_features(\n",
    "    gs_32km.geojson(bbox=c3_bbox), crs=\"EPSG:4326\"\n",
    ").to_crs(\"EPSG:3577\")\n",
    "\n",
    "# Update column names to match current C3 grid formatting\n",
    "grid_gdf[[\"ix\", \"iy\"]] = grid_gdf.idx.str.split(\",\", expand=True).astype(int)\n",
    "grid_gdf[\"region_code\"] = (\n",
    "    \"x\"\n",
    "    + grid_gdf.ix.astype(str).str.zfill(3)\n",
    "    + \"y\"\n",
    "    + grid_gdf.iy.astype(str).str.zfill(3)\n",
    ")\n",
    "\n",
    "# Return only selected columns\n",
    "grid_gdf = grid_gdf[[\"region_code\", \"ix\", \"iy\", \"geometry\"]]"
   ]
  },
  {
   "cell_type": "code",
   "execution_count": null,
   "id": "962c64df-c7b9-4d07-8f8e-d885d7936bf4",
   "metadata": {
    "tags": []
   },
   "outputs": [],
   "source": [
    "# grid_gdf.explore()"
   ]
  },
  {
   "cell_type": "markdown",
   "id": "15513460-dce7-46d2-82b2-d51f7bf27dff",
   "metadata": {},
   "source": [
    "### Join GEODATA Topo 100k attributes"
   ]
  },
  {
   "cell_type": "code",
   "execution_count": null,
   "id": "5510a5a8-f4b4-49c7-8a30-633fd55053af",
   "metadata": {
    "tags": []
   },
   "outputs": [],
   "source": [
    "region_path = \"/gdata1/data/boundaries/GEODATA_COAST_100K/australia/cstauscd_r.shp\"\n",
    "region_gdf = gpd.read_file(region_path).to_crs(\"EPSG:3577\")\n",
    "region_gdf = region_gdf[[\"FEAT_CODE\", \"geometry\"]].set_index(\"FEAT_CODE\")\n"
   ]
  },
  {
   "cell_type": "code",
   "execution_count": null,
   "id": "f20d4095-85a8-4e6e-9229-9ce003b336fd",
   "metadata": {
    "tags": []
   },
   "outputs": [],
   "source": [
    "# Identify mainland tiles, and add to \"type\" field\n",
    "grid_gdf_mainland = grid_gdf.clip(region_gdf.loc[[\"mainland\"]])\n",
    "grid_gdf[\"type\"] = \"offshore\"\n",
    "grid_gdf.loc[grid_gdf_mainland.index, \"type\"] = \"mainland\""
   ]
  },
  {
   "cell_type": "markdown",
   "id": "186dc82c-7476-4c36-923e-32c5be72c76c",
   "metadata": {},
   "source": [
    "### Subset and clip to the coast\n",
    "\n",
    "#### Load individual datasets"
   ]
  },
  {
   "cell_type": "code",
   "execution_count": null,
   "id": "7561871c-b9d7-402b-ba9e-70c1f6d02eb6",
   "metadata": {
    "tags": []
   },
   "outputs": [],
   "source": [
    "# GA GEODATA COAST 100K \"coastline\" features\n",
    "goadata100k_gdf = (\n",
    "    gpd.read_file(\"/gdata1/data/boundaries/GEODATA_COAST_100K/australia/cstauscd_l.shp\")\n",
    "    .query(\"FEAT_CODE == 'coastline'\")\n",
    "    .to_crs(\"EPSG:3577\")\n",
    ")"
   ]
  },
  {
   "cell_type": "code",
   "execution_count": null,
   "id": "b6d2e4bc-e564-40a8-8abf-fbd83a088dc2",
   "metadata": {
    "tags": []
   },
   "outputs": [],
   "source": [
    "# Non-\"mainland\" features from Complete Great Barrier Reef (GBR) Island\n",
    "# and Reef Feature boundaries including Torres Strait Version 1b\n",
    "# https://eatlas.org.au/data/uuid/d2396b2c-68d4-4f4b-aab0-52f7bc4a81f5\n",
    "gbrreefs_gdf = (\n",
    "    gpd.read_file(\n",
    "        \"/gdata1/data/reefs/TS_AIMS_NESP_Torres_Strait_Features_V1b_with_GBR_Features.shp\"\n",
    "    )\n",
    "    .query(\"FEAT_NAME != 'Mainland'\")\n",
    "    .to_crs(\"EPSG:3577\")\n",
    ")\n",
    "gbrreefs_gdf[\"geometry\"] = gbrreefs_gdf.boundary"
   ]
  },
  {
   "cell_type": "code",
   "execution_count": null,
   "id": "a8ddd7ae-cf65-47b3-9ffa-26b5b68f5555",
   "metadata": {
    "tags": []
   },
   "outputs": [],
   "source": [
    "# Coral Sea reefs (-10 m contour) from Coral Sea features satellite \n",
    "# imagery and raw depth contours (Sentinel 2 and Landsat 8) 2015 – 2021 \n",
    "# https://eatlas.org.au/data/uuid/df5a5b47-ad4c-431e-be49-af52f64aafce\n",
    "coralseareefs_gdf = (\n",
    "    gpd.read_file(\"/gdata1/data/reefs/CS_AIMS_Coral-Sea-Features_Img_L8_R1_Depth10m_Coral-Sea.shp\")\n",
    "    .to_crs(\"EPSG:3577\")\n",
    ")"
   ]
  },
  {
   "cell_type": "code",
   "execution_count": null,
   "id": "f333495f-239c-4e3f-beae-e7765af3d2a4",
   "metadata": {
    "tags": []
   },
   "outputs": [],
   "source": [
    "# Additional manually drawn features to capture remote reefs off WA/Qld\n",
    "additionalislands_gdf = (\n",
    "    gpd.read_file(\n",
    "        \"data/raw/additional_islands.geojson\"\n",
    "    )\n",
    "    .to_crs(\"EPSG:3577\"))\n"
   ]
  },
  {
   "cell_type": "markdown",
   "id": "bd410e0d-cda4-458d-a6eb-5f26265148aa",
   "metadata": {},
   "source": [
    "#### Combine and select coastal grid cells"
   ]
  },
  {
   "cell_type": "code",
   "execution_count": null,
   "id": "823b37bb-6a77-40d6-becf-f8d58b12462d",
   "metadata": {
    "tags": []
   },
   "outputs": [],
   "source": [
    "# Combine into a single dataset\n",
    "coastlines_gdf = pd.concat(\n",
    "    [\n",
    "        goadata100k_gdf[[\"geometry\"]],\n",
    "        gbrreefs_gdf[[\"geometry\"]],\n",
    "        coralseareefs_gdf[[\"geometry\"]],\n",
    "        additionalislands_gdf[[\"geometry\"]],\n",
    "    ],\n",
    ")\n",
    "\n",
    "# Keep only grid cells within 1000 m of coastlines\n",
    "grid_gdf_coastal = (\n",
    "    gpd.sjoin_nearest(grid_gdf, coastlines_gdf, max_distance=1000)\n",
    "    .groupby(\"region_code\")\n",
    "    .first()\n",
    "    .drop(\"index_right\", axis=1)\n",
    "    .set_crs(\"EPSG:3577\")\n",
    ")\n",
    "grid_gdf_coastal"
   ]
  },
  {
   "cell_type": "code",
   "execution_count": null,
   "id": "e1d8177e-870f-46e9-b4c9-cb1dfa020855",
   "metadata": {},
   "outputs": [],
   "source": [
    "grid_gdf_coastal.plot()"
   ]
  },
  {
   "cell_type": "code",
   "execution_count": null,
   "id": "637e6e20-7ce7-4b1a-a1b4-2778b80dd55d",
   "metadata": {
    "tags": []
   },
   "outputs": [],
   "source": [
    "coastlines_gdf.to_crs(\"EPSG:3577\").to_file(\"test.geojson\")"
   ]
  },
  {
   "cell_type": "markdown",
   "id": "66002047-c6a9-40e4-a7d6-0917b0a95e3d",
   "metadata": {},
   "source": [
    "#### Clip grid cells (to do)"
   ]
  },
  {
   "cell_type": "code",
   "execution_count": null,
   "id": "cacd95ae-6e27-4906-824e-2cb0a1fcea4a",
   "metadata": {
    "tags": []
   },
   "outputs": [],
   "source": [
    "# mask_path = \"https://data.dea.ga.gov.au/derivative/dea_coastlines/supplementary/albers_grids/coastal_mask_15km.geojson\"\n",
    "# coastal_mask_gdf = gpd.read_file(mask_path)"
   ]
  },
  {
   "cell_type": "code",
   "execution_count": null,
   "id": "dc2ec3ea-a5af-4715-b7c7-9baab564652a",
   "metadata": {
    "tags": []
   },
   "outputs": [],
   "source": [
    "# # Clip to coastal zone using mask\n",
    "# grid_gdf_clipped = grid_gdf_joined.clip(coastal_mask_gdf)"
   ]
  },
  {
   "cell_type": "markdown",
   "id": "ed7df318-65a4-42b7-827d-99acd010b7f2",
   "metadata": {},
   "source": [
    "### Export all outputs"
   ]
  },
  {
   "cell_type": "code",
   "execution_count": null,
   "id": "ef85cc91-1029-41c8-9e77-11df16f5df53",
   "metadata": {
    "tags": []
   },
   "outputs": [],
   "source": [
    "grid_gdf.to_crs(\"EPSG:4326\").to_file(\"data/raw/ga_summary_grid_c3_32km.geojson\")\n",
    "grid_gdf_coastal.to_crs(\"EPSG:4326\").to_file(\"data/raw/ga_summary_grid_c3_32km_coastal.geojson\")\n",
    "# grid_gdf_clipped.to_file(\"ga_summary_grid_c3_32km_coastal_clipped.geojson\")"
   ]
  },
  {
   "cell_type": "markdown",
   "id": "8f0eb00d-21f4-4507-9abc-88e5a23eb01f",
   "metadata": {},
   "source": [
    "## Test GridSpec"
   ]
  },
  {
   "cell_type": "code",
   "execution_count": null,
   "id": "a0d95113-1805-4e71-b844-08064adf483e",
   "metadata": {
    "tags": []
   },
   "outputs": [],
   "source": [
    "# Test the gridspec on a tile ID\n",
    "gs_32km[id_to_tuple(\"x135y101\")]"
   ]
  },
  {
   "cell_type": "code",
   "execution_count": null,
   "id": "2e76ced5-623f-44c4-ab1e-85876ecd4dfe",
   "metadata": {
    "tags": []
   },
   "outputs": [],
   "source": [
    "# Test gridspec on coordinates\n",
    "gs_32km[gs_32km.pt2idx(x=1904005, y=-3664005)]"
   ]
  },
  {
   "cell_type": "code",
   "execution_count": null,
   "id": "31544f22-7f20-4248-82bb-cea1abfe5239",
   "metadata": {},
   "outputs": [],
   "source": []
  }
 ],
 "metadata": {
  "kernelspec": {
   "display_name": "Python 3 (ipykernel)",
   "language": "python",
   "name": "python3"
  },
  "language_info": {
   "codemirror_mode": {
    "name": "ipython",
    "version": 3
   },
   "file_extension": ".py",
   "mimetype": "text/x-python",
   "name": "python",
   "nbconvert_exporter": "python",
   "pygments_lexer": "ipython3",
   "version": "3.10.13"
  },
  "widgets": {
   "application/vnd.jupyter.widget-state+json": {
    "state": {},
    "version_major": 2,
    "version_minor": 0
   }
  }
 },
 "nbformat": 4,
 "nbformat_minor": 5
}

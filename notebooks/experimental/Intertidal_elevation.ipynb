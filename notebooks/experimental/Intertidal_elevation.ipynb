{
 "cells": [
  {
   "cell_type": "markdown",
   "id": "306a1f55-3f9d-4996-be95-e11e5a74a86b",
   "metadata": {},
   "source": [
    "## Getting started\n",
    "Set working directory to top level of repo to ensure links work correctly:"
   ]
  },
  {
   "cell_type": "code",
   "execution_count": 1,
   "id": "6c9907dc-c0d2-4b2e-8cbb-bb3a2bc15f08",
   "metadata": {},
   "outputs": [
    {
     "name": "stdout",
     "output_type": "stream",
     "text": [
      "/home/jovyan/Robbi/dea-intertidal\n"
     ]
    }
   ],
   "source": [
    "cd ../.."
   ]
  },
  {
   "cell_type": "markdown",
   "id": "c586a481-013f-4884-8e53-f3ddb9c438d7",
   "metadata": {},
   "source": [
    "Install additional packages directly from the requirements file"
   ]
  },
  {
   "cell_type": "code",
   "execution_count": 2,
   "id": "d67433e6-0408-40d1-be61-db49c52f88dc",
   "metadata": {},
   "outputs": [],
   "source": [
    "# pip install -r requirements.in --quiet"
   ]
  },
  {
   "cell_type": "markdown",
   "id": "4244cc06-b5e7-4120-8514-adf35082cb2c",
   "metadata": {},
   "source": [
    "### Load packages"
   ]
  },
  {
   "cell_type": "code",
   "execution_count": 2,
   "id": "2520e8de-ac2c-4571-99a0-f7fb7b932f56",
   "metadata": {},
   "outputs": [
    {
     "data": {
      "text/html": [
       "<div>\n",
       "    <div style=\"width: 24px; height: 24px; background-color: #e1e1e1; border: 3px solid #9D9D9D; border-radius: 5px; position: absolute;\"> </div>\n",
       "    <div style=\"margin-left: 48px;\">\n",
       "        <h3 style=\"margin-bottom: 0px;\">Client</h3>\n",
       "        <p style=\"color: #9D9D9D; margin-bottom: 0px;\">Client-248d3f96-fa99-11ed-80d1-c6d9100e72fb</p>\n",
       "        <table style=\"width: 100%; text-align: left;\">\n",
       "\n",
       "        <tr>\n",
       "        \n",
       "            <td style=\"text-align: left;\"><strong>Connection method:</strong> Cluster object</td>\n",
       "            <td style=\"text-align: left;\"><strong>Cluster type:</strong> distributed.LocalCluster</td>\n",
       "        \n",
       "        </tr>\n",
       "\n",
       "        \n",
       "            <tr>\n",
       "                <td style=\"text-align: left;\">\n",
       "                    <strong>Dashboard: </strong> <a href=\"/user/robbi.bishoptaylor@ga.gov.au/proxy/8787/status\" target=\"_blank\">/user/robbi.bishoptaylor@ga.gov.au/proxy/8787/status</a>\n",
       "                </td>\n",
       "                <td style=\"text-align: left;\"></td>\n",
       "            </tr>\n",
       "        \n",
       "\n",
       "        </table>\n",
       "\n",
       "        \n",
       "            <button style=\"margin-bottom: 12px;\" data-commandlinker-command=\"dask:populate-and-launch-layout\" data-commandlinker-args='{\"url\": \"/user/robbi.bishoptaylor@ga.gov.au/proxy/8787/status\" }'>\n",
       "                Launch dashboard in JupyterLab\n",
       "            </button>\n",
       "        \n",
       "\n",
       "        \n",
       "            <details>\n",
       "            <summary style=\"margin-bottom: 20px;\"><h3 style=\"display: inline;\">Cluster Info</h3></summary>\n",
       "            <div class=\"jp-RenderedHTMLCommon jp-RenderedHTML jp-mod-trusted jp-OutputArea-output\">\n",
       "    <div style=\"width: 24px; height: 24px; background-color: #e1e1e1; border: 3px solid #9D9D9D; border-radius: 5px; position: absolute;\">\n",
       "    </div>\n",
       "    <div style=\"margin-left: 48px;\">\n",
       "        <h3 style=\"margin-bottom: 0px; margin-top: 0px;\">LocalCluster</h3>\n",
       "        <p style=\"color: #9D9D9D; margin-bottom: 0px;\">6a19c292</p>\n",
       "        <table style=\"width: 100%; text-align: left;\">\n",
       "            <tr>\n",
       "                <td style=\"text-align: left;\">\n",
       "                    <strong>Dashboard:</strong> <a href=\"/user/robbi.bishoptaylor@ga.gov.au/proxy/8787/status\" target=\"_blank\">/user/robbi.bishoptaylor@ga.gov.au/proxy/8787/status</a>\n",
       "                </td>\n",
       "                <td style=\"text-align: left;\">\n",
       "                    <strong>Workers:</strong> 1\n",
       "                </td>\n",
       "            </tr>\n",
       "            <tr>\n",
       "                <td style=\"text-align: left;\">\n",
       "                    <strong>Total threads:</strong> 31\n",
       "                </td>\n",
       "                <td style=\"text-align: left;\">\n",
       "                    <strong>Total memory:</strong> 237.21 GiB\n",
       "                </td>\n",
       "            </tr>\n",
       "            \n",
       "            <tr>\n",
       "    <td style=\"text-align: left;\"><strong>Status:</strong> running</td>\n",
       "    <td style=\"text-align: left;\"><strong>Using processes:</strong> True</td>\n",
       "</tr>\n",
       "\n",
       "            \n",
       "        </table>\n",
       "\n",
       "        <details>\n",
       "            <summary style=\"margin-bottom: 20px;\">\n",
       "                <h3 style=\"display: inline;\">Scheduler Info</h3>\n",
       "            </summary>\n",
       "\n",
       "            <div style=\"\">\n",
       "    <div>\n",
       "        <div style=\"width: 24px; height: 24px; background-color: #FFF7E5; border: 3px solid #FF6132; border-radius: 5px; position: absolute;\"> </div>\n",
       "        <div style=\"margin-left: 48px;\">\n",
       "            <h3 style=\"margin-bottom: 0px;\">Scheduler</h3>\n",
       "            <p style=\"color: #9D9D9D; margin-bottom: 0px;\">Scheduler-ae736c3e-7e36-4a0b-8551-f169e44509b8</p>\n",
       "            <table style=\"width: 100%; text-align: left;\">\n",
       "                <tr>\n",
       "                    <td style=\"text-align: left;\">\n",
       "                        <strong>Comm:</strong> tcp://127.0.0.1:44433\n",
       "                    </td>\n",
       "                    <td style=\"text-align: left;\">\n",
       "                        <strong>Workers:</strong> 1\n",
       "                    </td>\n",
       "                </tr>\n",
       "                <tr>\n",
       "                    <td style=\"text-align: left;\">\n",
       "                        <strong>Dashboard:</strong> <a href=\"/user/robbi.bishoptaylor@ga.gov.au/proxy/8787/status\" target=\"_blank\">/user/robbi.bishoptaylor@ga.gov.au/proxy/8787/status</a>\n",
       "                    </td>\n",
       "                    <td style=\"text-align: left;\">\n",
       "                        <strong>Total threads:</strong> 31\n",
       "                    </td>\n",
       "                </tr>\n",
       "                <tr>\n",
       "                    <td style=\"text-align: left;\">\n",
       "                        <strong>Started:</strong> Just now\n",
       "                    </td>\n",
       "                    <td style=\"text-align: left;\">\n",
       "                        <strong>Total memory:</strong> 237.21 GiB\n",
       "                    </td>\n",
       "                </tr>\n",
       "            </table>\n",
       "        </div>\n",
       "    </div>\n",
       "\n",
       "    <details style=\"margin-left: 48px;\">\n",
       "        <summary style=\"margin-bottom: 20px;\">\n",
       "            <h3 style=\"display: inline;\">Workers</h3>\n",
       "        </summary>\n",
       "\n",
       "        \n",
       "        <div style=\"margin-bottom: 20px;\">\n",
       "            <div style=\"width: 24px; height: 24px; background-color: #DBF5FF; border: 3px solid #4CC9FF; border-radius: 5px; position: absolute;\"> </div>\n",
       "            <div style=\"margin-left: 48px;\">\n",
       "            <details>\n",
       "                <summary>\n",
       "                    <h4 style=\"margin-bottom: 0px; display: inline;\">Worker: 0</h4>\n",
       "                </summary>\n",
       "                <table style=\"width: 100%; text-align: left;\">\n",
       "                    <tr>\n",
       "                        <td style=\"text-align: left;\">\n",
       "                            <strong>Comm: </strong> tcp://127.0.0.1:41615\n",
       "                        </td>\n",
       "                        <td style=\"text-align: left;\">\n",
       "                            <strong>Total threads: </strong> 31\n",
       "                        </td>\n",
       "                    </tr>\n",
       "                    <tr>\n",
       "                        <td style=\"text-align: left;\">\n",
       "                            <strong>Dashboard: </strong> <a href=\"/user/robbi.bishoptaylor@ga.gov.au/proxy/38381/status\" target=\"_blank\">/user/robbi.bishoptaylor@ga.gov.au/proxy/38381/status</a>\n",
       "                        </td>\n",
       "                        <td style=\"text-align: left;\">\n",
       "                            <strong>Memory: </strong> 237.21 GiB\n",
       "                        </td>\n",
       "                    </tr>\n",
       "                    <tr>\n",
       "                        <td style=\"text-align: left;\">\n",
       "                            <strong>Nanny: </strong> tcp://127.0.0.1:44261\n",
       "                        </td>\n",
       "                        <td style=\"text-align: left;\"></td>\n",
       "                    </tr>\n",
       "                    <tr>\n",
       "                        <td colspan=\"2\" style=\"text-align: left;\">\n",
       "                            <strong>Local directory: </strong> /tmp/dask-worker-space/worker-ezjha13d\n",
       "                        </td>\n",
       "                    </tr>\n",
       "\n",
       "                    \n",
       "\n",
       "                    \n",
       "\n",
       "                </table>\n",
       "            </details>\n",
       "            </div>\n",
       "        </div>\n",
       "        \n",
       "\n",
       "    </details>\n",
       "</div>\n",
       "\n",
       "        </details>\n",
       "    </div>\n",
       "</div>\n",
       "            </details>\n",
       "        \n",
       "\n",
       "    </div>\n",
       "</div>"
      ],
      "text/plain": [
       "<Client: 'tcp://127.0.0.1:44433' processes=1 threads=31, memory=237.21 GiB>"
      ]
     },
     "metadata": {},
     "output_type": "display_data"
    }
   ],
   "source": [
    "%load_ext autoreload\n",
    "%autoreload 2\n",
    "\n",
    "import datacube\n",
    "import xarray as xr\n",
    "import pandas as pd\n",
    "import numpy as np\n",
    "import geopandas as gpd\n",
    "import matplotlib.pyplot as plt\n",
    "from datacube.utils.cog import write_cog\n",
    "from datacube.utils.geometry import Geometry\n",
    "import odc.geo.xr\n",
    "from tqdm import tqdm\n",
    "from odc.algo import mask_cleanup, xr_quantile\n",
    "from concurrent.futures import ProcessPoolExecutor\n",
    "\n",
    "from dea_tools.dask import create_local_dask_cluster\n",
    "from dea_tools.coastal import pixel_tides\n",
    "from intertidal.elevation import (\n",
    "    load_data,\n",
    "    ds_to_flat,\n",
    "    pixel_rolling_median,\n",
    "    pixel_dem,\n",
    "    pixel_uncertainty,\n",
    "    flat_to_ds,\n",
    "    elevation,\n",
    ")\n",
    "from intertidal.utils import load_config, export_intertidal_rasters\n",
    "\n",
    "# cluster = create_dask_gateway_cluster(profile=\"r5_4XL\", workers=10)\n",
    "# print(\"Dashboard\", cluster.dashboard_link)\n",
    "# client = cluster.get_client()\n",
    "\n",
    "# Create local dask cluster to improve data load time\n",
    "client = create_local_dask_cluster(return_client=True)\n",
    "\n",
    "# Connect to datacube\n",
    "dc = datacube.Datacube(app=\"Intertidal_elevation\")"
   ]
  },
  {
   "cell_type": "markdown",
   "id": "1a69b01f-bae0-4373-8ed6-e907393407eb",
   "metadata": {
    "tags": []
   },
   "source": [
    "## Setup\n"
   ]
  },
  {
   "cell_type": "markdown",
   "id": "b02efd2f-dab6-41ec-86f0-1724c93cf356",
   "metadata": {},
   "source": [
    "### Set analysis parameters"
   ]
  },
  {
   "cell_type": "code",
   "execution_count": 3,
   "id": "8c1dfca3-543d-4e07-9a0f-2eeddf582835",
   "metadata": {},
   "outputs": [],
   "source": [
    "# Set study area and config\n",
    "# study_area = \"pointstuart\"\n",
    "# config_path = \"configs/dea_intertidal_config_development.yaml\"\n",
    "study_area = '832'\n",
    "config_path='configs/dea_intertidal_config.yaml'\n",
    "\n",
    "# Intertidal Elevation variables\n",
    "start_date = \"2020\"  # Start date for analysis\n",
    "end_date = \"2020\"  # End date for analysis\n",
    "resolution = 10  # Spatial resolution used for output files\n",
    "crs = \"EPSG:3577\"  # Coordinate Reference System (CRS) to use for output files\n",
    "ndwi_thresh = 0.1  # Threshold used to identify dry/wet transition when calculating elevation\n",
    "include_s2 = True  # Include Sentinel-2 data in the analysis?\n",
    "include_ls = True  # Include Landsat data in the analysis?\n",
    "filter_gqa = False  # Filter to remove poorly georeferenced scenes?\n",
    "\n",
    "# Load analysis params from config file\n",
    "config = load_config(config_path=config_path)"
   ]
  },
  {
   "cell_type": "markdown",
   "id": "6cc61ed7-fa6f-4923-8474-04de8ec5d041",
   "metadata": {},
   "source": [
    "### Load study area grid cell"
   ]
  },
  {
   "cell_type": "code",
   "execution_count": 27,
   "id": "f8723168-2c81-4b3b-91c2-7f3a6b0f4f53",
   "metadata": {
    "tags": []
   },
   "outputs": [
    {
     "data": {
      "image/svg+xml": [
       "<svg xmlns=\"http://www.w3.org/2000/svg\" xmlns:xlink=\"http://www.w3.org/1999/xlink\" width=\"300\" height=\"300\" viewBox=\"-1846971.751576682 -2849280.3560487255 24252.107625408098 34569.61331558274\" preserveAspectRatio=\"xMinYMin meet\"><g transform=\"matrix(1,0,0,-1,0,-5663991.098781869)\"><g><path fill-rule=\"evenodd\" fill=\"#66cc99\" stroke=\"#555555\" stroke-width=\"230.4640887705516\" opacity=\"0.6\" d=\"M -1833504.431050233,-2847869.0201432877 L -1833775.0227614667,-2847441.199353729 L -1833785.72464487,-2847447.881062676 L -1833946.1420610123,-2847190.945530929 L -1834489.3001813951,-2846470.3622468994 L -1834838.9017889819,-2845939.424678154 L -1834906.3693749213,-2845821.230494849 L -1835073.554728849,-2845502.17119324 L -1835143.7477366198,-2845355.6015062095 L -1835217.9653123787,-2845193.250505451 L -1835267.080535082,-2845080.5317364763 L -1835373.8220259147,-2844904.275419164 L -1835388.1777136761,-2844881.2823654404 L -1835394.7124742721,-2844869.780177759 L -1835419.1187460846,-2844829.479451626 L -1835437.3466515478,-2844794.737442592 L -1835592.988448167,-2844520.783847847 L -1836099.6381217348,-2843536.0510675656 L -1836455.1139962967,-2842973.0110404133 L -1836537.362310905,-2842801.480446898 L -1836782.142317223,-2842190.903428829 L -1836877.419423258,-2841898.95580174 L -1836853.0843197536,-2841891.0140409623 L -1836893.09842698,-2841783.7510845717 L -1836924.814627829,-2841715.4043617505 L -1836939.240796193,-2841676.4948666235 L -1836948.9820610976,-2841679.6739283255 L -1837029.2240979783,-2841433.7966842125 L -1837200.6353775596,-2840971.4752848567 L -1837334.051828313,-2840499.7450926155 L -1837596.7145857627,-2839694.8951979945 L -1837615.1106631793,-2839622.7369454014 L -1837751.2997131064,-2839333.6759465397 L -1837889.4841242537,-2838858.881597805 L -1838030.17485203,-2838224.2780778627 L -1838126.0380577615,-2837603.1245923815 L -1838161.375357825,-2837425.333177616 L -1838217.6787082918,-2837270.5934730275 L -1838257.0455704075,-2837067.9617421525 L -1838271.1525865078,-2836662.8431294905 L -1838386.4144419977,-2835915.994505635 L -1838394.663143986,-2835871.60173058 L -1838403.1802437631,-2835839.2779073184 L -1838499.509985286,-2835391.278200232 L -1838629.753199007,-2834613.6959270253 L -1838692.4276098383,-2834363.135168987 L -1838801.0319710933,-2833787.581710346 L -1838899.4550819192,-2833022.238772708 L -1839555.0285529005,-2832233.17352641 L -1840401.325634807,-2830799.9623855464 L -1840833.860172999,-2830363.981436612 L -1841059.172501031,-2830121.3039418524 L -1841134.288546564,-2830034.8236072655 L -1841390.6286252707,-2829676.1161743114 L -1841735.6743195362,-2829330.895399969 L -1841811.598641694,-2829238.873800675 L -1842286.239097444,-2828554.637414128 L -1843944.5091593286,-2825679.119069724 L -1844523.5192741852,-2824123.688706082 L -1844817.2749726162,-2822593.0886073415 L -1844847.6860261448,-2822512.376923009 L -1844898.6628522004,-2822265.0393523206 L -1844916.0126610685,-2822172.6143452176 L -1845024.326692866,-2821679.850478337 L -1845265.498228346,-2820740.2357778847 L -1845337.9357618655,-2820412.7732873494 L -1845437.9320726548,-2819875.9357146425 L -1845502.3982670563,-2819408.0008639884 L -1845671.3739039265,-2817528.2708987766 L -1845691.3955279568,-2817056.340766834 L -1845690.7082185429,-2816914.7307865056 L -1845632.4302464034,-2816177.443576613 L -1845603.7214657336,-2815991.098781868 L -1823999.9999999993,-2815999.9999999995 L -1823999.9999999995,-2848000.0000000005 L -1833411.6912089044,-2847991.554319826 L -1833504.431050233,-2847869.0201432877 z\" /></g></g></svg>"
      ],
      "text/plain": [
       "Geometry(MULTIPOLYGON (((-1833504.431050233 -2847869.0201432877, -1833775.0227614667 -2847441.199353729, -1833785.72464487 -2847447.881062676, -1833946.1420610123 -2847190.945530929, -1834489.3001813951 -2846470.3622468994, -1834838.9017889819 -2845939.424678154, -1834906.3693749213 -2845821.230494849, -1835073.554728849 -2845502.17119324, -1835143.7477366198 -2845355.6015062095, -1835217.9653123787 -2845193.250505451, -1835267.080535082 -2845080.5317364763, -1835373.8220259147 -2844904.275419164, -1835388.1777136761 -2844881.2823654404, -1835394.7124742721 -2844869.780177759, -1835419.1187460846 -2844829.479451626, -1835437.3466515478 -2844794.737442592, -1835592.988448167 -2844520.783847847, -1836099.6381217348 -2843536.0510675656, -1836455.1139962967 -2842973.0110404133, -1836537.362310905 -2842801.480446898, -1836782.142317223 -2842190.903428829, -1836877.419423258 -2841898.95580174, -1836853.0843197536 -2841891.0140409623, -1836893.09842698 -2841783.7510845717, -1836924.814627829 -2841715.4043617505, -1836939.240796193 -2841676.4948666235, -1836948.9820610976 -2841679.6739283255, -1837029.2240979783 -2841433.7966842125, -1837200.6353775596 -2840971.4752848567, -1837334.051828313 -2840499.7450926155, -1837596.7145857627 -2839694.8951979945, -1837615.1106631793 -2839622.7369454014, -1837751.2997131064 -2839333.6759465397, -1837889.4841242537 -2838858.881597805, -1838030.17485203 -2838224.2780778627, -1838126.0380577615 -2837603.1245923815, -1838161.375357825 -2837425.333177616, -1838217.6787082918 -2837270.5934730275, -1838257.0455704075 -2837067.9617421525, -1838271.1525865078 -2836662.8431294905, -1838386.4144419977 -2835915.994505635, -1838394.663143986 -2835871.60173058, -1838403.1802437631 -2835839.2779073184, -1838499.509985286 -2835391.278200232, -1838629.753199007 -2834613.6959270253, -1838692.4276098383 -2834363.135168987, -1838801.0319710933 -2833787.581710346, -1838899.4550819192 -2833022.238772708, -1839555.0285529005 -2832233.17352641, -1840401.325634807 -2830799.9623855464, -1840833.860172999 -2830363.981436612, -1841059.172501031 -2830121.3039418524, -1841134.288546564 -2830034.8236072655, -1841390.6286252707 -2829676.1161743114, -1841735.6743195362 -2829330.895399969, -1841811.598641694 -2829238.873800675, -1842286.239097444 -2828554.637414128, -1843944.5091593286 -2825679.119069724, -1844523.5192741852 -2824123.688706082, -1844817.2749726162 -2822593.0886073415, -1844847.6860261448 -2822512.376923009, -1844898.6628522004 -2822265.0393523206, -1844916.0126610685 -2822172.6143452176, -1845024.326692866 -2821679.850478337, -1845265.498228346 -2820740.2357778847, -1845337.9357618655 -2820412.7732873494, -1845437.9320726548 -2819875.9357146425, -1845502.3982670563 -2819408.0008639884, -1845671.3739039265 -2817528.2708987766, -1845691.3955279568 -2817056.340766834, -1845690.7082185429 -2816914.7307865056, -1845632.4302464034 -2816177.443576613, -1845603.7214657336 -2815991.098781868, -1823999.9999999993 -2815999.9999999995, -1823999.9999999995 -2848000.0000000005, -1833411.6912089044 -2847991.554319826, -1833504.431050233 -2847869.0201432877))), EPSG:3577)"
      ]
     },
     "execution_count": 27,
     "metadata": {},
     "output_type": "execute_result"
    }
   ],
   "source": [
    "# Load study area\n",
    "gridcell_gdf = (\n",
    "    gpd.read_file(config[\"Input files\"][\"grid_path\"])\n",
    "    .to_crs(crs)\n",
    "    .set_index(\"id\")\n",
    ")\n",
    "gridcell_gdf.index = gridcell_gdf.index.astype(str)\n",
    "gridcell_gdf = gridcell_gdf.loc[[str(study_area)]]\n",
    "\n",
    "# Create geom as input for dc.load\n",
    "geom = Geometry(geom=gridcell_gdf.iloc[0].geometry, crs=crs)\n",
    "geom"
   ]
  },
  {
   "cell_type": "markdown",
   "id": "9b72074d-c4bc-410b-83e1-80295227b81c",
   "metadata": {},
   "source": [
    "##### Other options for loading study area"
   ]
  },
  {
   "cell_type": "code",
   "execution_count": null,
   "id": "bdcf1c79-ae5a-4453-a7e8-d3f021b0b65a",
   "metadata": {},
   "outputs": [],
   "source": [
    "# from odc.ui import select_on_a_map\n",
    "# from ipyleaflet import basemaps, basemap_to_tiles\n",
    "\n",
    "# # Plot interactive map to select area\n",
    "# basemap = basemap_to_tiles(basemaps.Esri.WorldImagery)\n",
    "# geom = select_on_a_map(height='600px',\n",
    "#                              layers=(basemap,),\n",
    "#                              center=(-26, 135), \n",
    "#                              zoom=4)\n",
    "\n",
    "# study_area = \"test\""
   ]
  },
  {
   "cell_type": "markdown",
   "id": "54c892b8-42d3-4930-ad97-e0e214535fc5",
   "metadata": {},
   "source": [
    "## Load data"
   ]
  },
  {
   "cell_type": "code",
   "execution_count": 20,
   "id": "756ce682-75ce-4a6b-8728-f18e8133283c",
   "metadata": {},
   "outputs": [
    {
     "data": {
      "text/html": [
       "<div>\n",
       "    <div style=\"width: 24px; height: 24px; background-color: #e1e1e1; border: 3px solid #9D9D9D; border-radius: 5px; position: absolute;\"> </div>\n",
       "    <div style=\"margin-left: 48px;\">\n",
       "        <h3 style=\"margin-bottom: 0px;\">Client</h3>\n",
       "        <p style=\"color: #9D9D9D; margin-bottom: 0px;\">Client-248d3f96-fa99-11ed-80d1-c6d9100e72fb</p>\n",
       "        <table style=\"width: 100%; text-align: left;\">\n",
       "\n",
       "        <tr>\n",
       "        \n",
       "            <td style=\"text-align: left;\"><strong>Connection method:</strong> Cluster object</td>\n",
       "            <td style=\"text-align: left;\"><strong>Cluster type:</strong> distributed.LocalCluster</td>\n",
       "        \n",
       "        </tr>\n",
       "\n",
       "        \n",
       "            <tr>\n",
       "                <td style=\"text-align: left;\">\n",
       "                    <strong>Dashboard: </strong> <a href=\"/user/robbi.bishoptaylor@ga.gov.au/proxy/8787/status\" target=\"_blank\">/user/robbi.bishoptaylor@ga.gov.au/proxy/8787/status</a>\n",
       "                </td>\n",
       "                <td style=\"text-align: left;\"></td>\n",
       "            </tr>\n",
       "        \n",
       "\n",
       "        </table>\n",
       "\n",
       "        \n",
       "            <button style=\"margin-bottom: 12px;\" data-commandlinker-command=\"dask:populate-and-launch-layout\" data-commandlinker-args='{\"url\": \"/user/robbi.bishoptaylor@ga.gov.au/proxy/8787/status\" }'>\n",
       "                Launch dashboard in JupyterLab\n",
       "            </button>\n",
       "        \n",
       "\n",
       "        \n",
       "            <details>\n",
       "            <summary style=\"margin-bottom: 20px;\"><h3 style=\"display: inline;\">Cluster Info</h3></summary>\n",
       "            <div class=\"jp-RenderedHTMLCommon jp-RenderedHTML jp-mod-trusted jp-OutputArea-output\">\n",
       "    <div style=\"width: 24px; height: 24px; background-color: #e1e1e1; border: 3px solid #9D9D9D; border-radius: 5px; position: absolute;\">\n",
       "    </div>\n",
       "    <div style=\"margin-left: 48px;\">\n",
       "        <h3 style=\"margin-bottom: 0px; margin-top: 0px;\">LocalCluster</h3>\n",
       "        <p style=\"color: #9D9D9D; margin-bottom: 0px;\">6a19c292</p>\n",
       "        <table style=\"width: 100%; text-align: left;\">\n",
       "            <tr>\n",
       "                <td style=\"text-align: left;\">\n",
       "                    <strong>Dashboard:</strong> <a href=\"/user/robbi.bishoptaylor@ga.gov.au/proxy/8787/status\" target=\"_blank\">/user/robbi.bishoptaylor@ga.gov.au/proxy/8787/status</a>\n",
       "                </td>\n",
       "                <td style=\"text-align: left;\">\n",
       "                    <strong>Workers:</strong> 0\n",
       "                </td>\n",
       "            </tr>\n",
       "            <tr>\n",
       "                <td style=\"text-align: left;\">\n",
       "                    <strong>Total threads:</strong> 0\n",
       "                </td>\n",
       "                <td style=\"text-align: left;\">\n",
       "                    <strong>Total memory:</strong> 0 B\n",
       "                </td>\n",
       "            </tr>\n",
       "            \n",
       "            <tr>\n",
       "    <td style=\"text-align: left;\"><strong>Status:</strong> closed</td>\n",
       "    <td style=\"text-align: left;\"><strong>Using processes:</strong> True</td>\n",
       "</tr>\n",
       "\n",
       "            \n",
       "        </table>\n",
       "\n",
       "        <details>\n",
       "            <summary style=\"margin-bottom: 20px;\">\n",
       "                <h3 style=\"display: inline;\">Scheduler Info</h3>\n",
       "            </summary>\n",
       "\n",
       "            <div style=\"\">\n",
       "    <div>\n",
       "        <div style=\"width: 24px; height: 24px; background-color: #FFF7E5; border: 3px solid #FF6132; border-radius: 5px; position: absolute;\"> </div>\n",
       "        <div style=\"margin-left: 48px;\">\n",
       "            <h3 style=\"margin-bottom: 0px;\">Scheduler</h3>\n",
       "            <p style=\"color: #9D9D9D; margin-bottom: 0px;\">Scheduler-ae736c3e-7e36-4a0b-8551-f169e44509b8</p>\n",
       "            <table style=\"width: 100%; text-align: left;\">\n",
       "                <tr>\n",
       "                    <td style=\"text-align: left;\">\n",
       "                        <strong>Comm:</strong> tcp://127.0.0.1:44433\n",
       "                    </td>\n",
       "                    <td style=\"text-align: left;\">\n",
       "                        <strong>Workers:</strong> 0\n",
       "                    </td>\n",
       "                </tr>\n",
       "                <tr>\n",
       "                    <td style=\"text-align: left;\">\n",
       "                        <strong>Dashboard:</strong> <a href=\"/user/robbi.bishoptaylor@ga.gov.au/proxy/8787/status\" target=\"_blank\">/user/robbi.bishoptaylor@ga.gov.au/proxy/8787/status</a>\n",
       "                    </td>\n",
       "                    <td style=\"text-align: left;\">\n",
       "                        <strong>Total threads:</strong> 0\n",
       "                    </td>\n",
       "                </tr>\n",
       "                <tr>\n",
       "                    <td style=\"text-align: left;\">\n",
       "                        <strong>Started:</strong> 43 minutes ago\n",
       "                    </td>\n",
       "                    <td style=\"text-align: left;\">\n",
       "                        <strong>Total memory:</strong> 0 B\n",
       "                    </td>\n",
       "                </tr>\n",
       "            </table>\n",
       "        </div>\n",
       "    </div>\n",
       "\n",
       "    <details style=\"margin-left: 48px;\">\n",
       "        <summary style=\"margin-bottom: 20px;\">\n",
       "            <h3 style=\"display: inline;\">Workers</h3>\n",
       "        </summary>\n",
       "\n",
       "        \n",
       "\n",
       "    </details>\n",
       "</div>\n",
       "\n",
       "        </details>\n",
       "    </div>\n",
       "</div>\n",
       "            </details>\n",
       "        \n",
       "\n",
       "    </div>\n",
       "</div>"
      ],
      "text/plain": [
       "<Client: No scheduler connected>"
      ]
     },
     "execution_count": 20,
     "metadata": {},
     "output_type": "execute_result"
    }
   ],
   "source": [
    "client"
   ]
  },
  {
   "cell_type": "code",
   "execution_count": 24,
   "id": "aacc0b6d-39e1-4609-8807-79db8882833f",
   "metadata": {
    "tags": []
   },
   "outputs": [],
   "source": [
    "satellite_ds = load_data(\n",
    "    dc=dc,\n",
    "    geom=geom,\n",
    "    time_range=(start_date, end_date),\n",
    "    resolution=resolution,\n",
    "    crs=crs,\n",
    "    s2_prod=\"s2_nbart_ndwi\" if include_s2 else None,\n",
    "    ls_prod=\"ls_nbart_ndwi\" if include_ls else None,\n",
    "    config_path=config[\"Virtual product\"][\"virtual_product_path\"],\n",
    "    filter_gqa=filter_gqa)[[\"ndwi\"]]"
   ]
  },
  {
   "cell_type": "code",
   "execution_count": 28,
   "id": "a0a2ea49-7555-49f7-8d99-b03b2c01892f",
   "metadata": {},
   "outputs": [],
   "source": [
    "# Load into memory\n",
    "satellite_ds.load()\n",
    "client.close()"
   ]
  },
  {
   "cell_type": "markdown",
   "id": "c34949eb-96f1-4844-ad6e-aeb71399e9f5",
   "metadata": {},
   "source": [
    "## Pixel-based tides"
   ]
  },
  {
   "cell_type": "code",
   "execution_count": 29,
   "id": "1cc505df-daf3-4592-858e-6695aa1f78b4",
   "metadata": {},
   "outputs": [
    {
     "name": "stdout",
     "output_type": "stream",
     "text": [
      "Creating reduced resolution 5000 x 5000 metre tide modelling array\n",
      "Modelling tides using FES2014 tide model\n",
      "Reprojecting tides into original array\n"
     ]
    },
    {
     "name": "stderr",
     "output_type": "stream",
     "text": [
      "100%|██████████| 182/182 [00:09<00:00, 18.77it/s]\n"
     ]
    }
   ],
   "source": [
    "# Model tides into every pixel in the three-dimensional (x by y by time) satellite dataset\n",
    "tide_m, _ = pixel_tides(satellite_ds, resample=True)"
   ]
  },
  {
   "cell_type": "code",
   "execution_count": 30,
   "id": "32fcc597-9145-4f0e-bd4e-cef454d4a919",
   "metadata": {},
   "outputs": [],
   "source": [
    "## Experimental: testing ebb flow filtering\n",
    "# ebb_flow_da, tide_m_offset = pixel_ebb_flow(tide_m, offset_min=15)"
   ]
  },
  {
   "cell_type": "code",
   "execution_count": 31,
   "id": "0dcac52f-78d5-41f3-81a4-199509949a96",
   "metadata": {},
   "outputs": [],
   "source": [
    "# Set tide array pixels to nodata if the satellite data array pixels contain\n",
    "# nodata. This ensures that we ignore any tide observations where we don't\n",
    "# have matching satellite imagery\n",
    "satellite_ds[\"tide_m\"] = tide_m.where(\n",
    "    ~satellite_ds.to_array().isel(variable=0).isnull()\n",
    ")"
   ]
  },
  {
   "cell_type": "markdown",
   "id": "e9c634b5-4195-4cee-9c34-84792debae03",
   "metadata": {},
   "source": [
    "## Pixel-based DEM creation"
   ]
  },
  {
   "cell_type": "markdown",
   "id": "d197a187-6a74-4588-95ea-678a576a269b",
   "metadata": {
    "tags": []
   },
   "source": [
    "### Flatten array from 3D to 2D and drop pixels with no correlation with tide\n",
    "Flatten array to only pixels with positive correlations between water observations and tide height. This greatly improves processing time by ensuring only a narrow strip of pixels along the coastline are analysed, rather than the entire x * y array:\n",
    "\n",
    "\n",
    "![](../../data/figures/tide_array_flattening.JPG)"
   ]
  },
  {
   "cell_type": "code",
   "execution_count": 34,
   "id": "457ee569-b862-4a4c-b04e-66b39c9fa931",
   "metadata": {},
   "outputs": [
    {
     "name": "stdout",
     "output_type": "stream",
     "text": [
      "Reducing analysed pixels from 6946170 to 538122 (7.75%)\n"
     ]
    }
   ],
   "source": [
    "flat_ds, freq, corr, intertidal_candidates = ds_to_flat(\n",
    "    satellite_ds, ndwi_thresh=0.0, min_freq=0.01, max_freq=0.99, min_correlation=0.2\n",
    ")"
   ]
  },
  {
   "cell_type": "markdown",
   "id": "9e57e810-d4eb-4875-bf1a-aec1487acbf1",
   "metadata": {
    "tags": []
   },
   "source": [
    "### Pixel-wise rolling median\n",
    "This function performs a rolling median calculation along the tide heights of our satellite images. \n",
    "It breaks our tide range into `windows_n` individual rolling windows, each of which covers `windows_prop_tide` of the full tidal range. \n",
    "For each window, the function returns the median of all tide heights and NDWI index values within the window, and returns an array with a new \"interval\" dimension that summarises these values from low to high tide."
   ]
  },
  {
   "cell_type": "code",
   "execution_count": 35,
   "id": "6bc468ab-9c95-4065-b0f4-ea323cff266f",
   "metadata": {},
   "outputs": [
    {
     "name": "stderr",
     "output_type": "stream",
     "text": [
      "100%|██████████| 114/114 [03:52<00:00,  2.04s/it]\n"
     ]
    }
   ],
   "source": [
    "interval_ds = pixel_rolling_median(\n",
    "    flat_ds,\n",
    "    windows_n=100,\n",
    "    window_prop_tide=0.15,\n",
    "    max_workers=None,\n",
    ")"
   ]
  },
  {
   "cell_type": "markdown",
   "id": "baab484a-b501-4203-88de-c8c959ae701c",
   "metadata": {},
   "source": [
    "### Model intertidal elevation and uncertainty"
   ]
  },
  {
   "cell_type": "code",
   "execution_count": 36,
   "id": "0a8e0556-c698-4628-b0f3-cf35e722a293",
   "metadata": {},
   "outputs": [],
   "source": [
    "# Model elevation\n",
    "flat_dem = pixel_dem(interval_ds, flat_ds, ndwi_thresh)"
   ]
  },
  {
   "cell_type": "code",
   "execution_count": 37,
   "id": "cec14155-eeb5-4a78-a30f-54b329e6e7e2",
   "metadata": {},
   "outputs": [],
   "source": [
    "# Model uncertainty\n",
    "low, high, uncertainty, misclassified = pixel_uncertainty(\n",
    "    flat_ds, flat_dem, ndwi_thresh, method=\"quantile\"\n",
    ")\n",
    "\n",
    "# Add arrays to dataset\n",
    "flat_dem[[\"elevation_low\", \"elevation_high\", \"elevation_uncertainty\"]] = (\n",
    "    low,\n",
    "    high,\n",
    "    uncertainty,\n",
    ")"
   ]
  },
  {
   "cell_type": "markdown",
   "id": "a379f9cf-3f24-4a0f-9b37-e4b462dccb5d",
   "metadata": {},
   "source": [
    "## Unstack outputs and export"
   ]
  },
  {
   "cell_type": "code",
   "execution_count": 38,
   "id": "7d5d7d06-831b-43ed-8de9-7a29f2ca723e",
   "metadata": {},
   "outputs": [
    {
     "data": {
      "text/plain": [
       "<matplotlib.collections.QuadMesh at 0x7f11644639a0>"
      ]
     },
     "execution_count": 38,
     "metadata": {},
     "output_type": "execute_result"
    },
    {
     "data": {
      "image/png": "[encoded data removed]",
      "text/plain": [
       "<Figure size 640x480 with 2 Axes>"
      ]
     },
     "metadata": {},
     "output_type": "display_data"
    }
   ],
   "source": [
    "# Unstack elevation and uncertainty layers back into their original \n",
    "# spatial dimensions\n",
    "ds = flat_to_ds(flat_dem, satellite_ds)\n",
    "ds.elevation.plot(cmap=\"viridis\")"
   ]
  },
  {
   "cell_type": "code",
   "execution_count": 39,
   "id": "f9ccb4e3-4b04-499b-b9ff-1649c2d31c89",
   "metadata": {},
   "outputs": [
    {
     "data": {
      "text/plain": [
       "<matplotlib.collections.QuadMesh at 0x7f1114a8ffa0>"
      ]
     },
     "execution_count": 39,
     "metadata": {},
     "output_type": "execute_result"
    },
    {
     "data": {
      "image/png": "[encoded data removed]",
      "text/plain": [
       "<Figure size 640x480 with 2 Axes>"
      ]
     },
     "metadata": {},
     "output_type": "display_data"
    }
   ],
   "source": [
    "# Combine auxiliary layers into a new auxilary xr.Dataset\n",
    "flat_ds_aux = xr.combine_by_coords(\n",
    "    [freq, corr, intertidal_candidates, misclassified],\n",
    "    fill_value={\"intertidal_candidates\": False},\n",
    ")\n",
    "\n",
    "# Unstack auxiliary layers back into their original spatial dimensions\n",
    "ds_aux = flat_to_ds(flat_ds_aux, satellite_ds, stacked_dim=\"z\")\n",
    "ds_aux.ndwi_tide_corr.plot()"
   ]
  },
  {
   "cell_type": "code",
   "execution_count": 40,
   "id": "4767f15a-6991-4a11-a624-fe8bd0f393ab",
   "metadata": {},
   "outputs": [
    {
     "data": {
      "text/plain": [
       "<matplotlib.collections.QuadMesh at 0x7f0fd72b86d0>"
      ]
     },
     "execution_count": 40,
     "metadata": {},
     "output_type": "execute_result"
    },
    {
     "data": {
      "image/png": "[encoded data removed]",
      "text/plain": [
       "<Figure size 640x480 with 2 Axes>"
      ]
     },
     "metadata": {},
     "output_type": "display_data"
    }
   ],
   "source": [
    "ds_aux.misclassified_px_count.plot()"
   ]
  },
  {
   "cell_type": "code",
   "execution_count": 1,
   "id": "c6af5319-a9d8-4a8d-89aa-a0a8ec6dea18",
   "metadata": {},
   "outputs": [],
   "source": [
    "# import folium\n",
    "# m = folium.Map(control_scale=True)\n",
    "# layer1 = ds.elevation.odc.add_to(m)\n",
    "# layer1.layer_name = \"elevation\"\n",
    "# layer2 = ds.elevation_uncertainty.odc.add_to(m)\n",
    "# layer2.layer_name = \"elevation_uncertainty\"\n",
    "\n",
    "# # Zoom map\n",
    "# m.fit_bounds(ds.odc.map_bounds())\n",
    "# folium.LayerControl().add_to(m)\n",
    "# display(m)"
   ]
  },
  {
   "cell_type": "markdown",
   "id": "9fcd13e6-db3e-409c-905d-d9f6a9733348",
   "metadata": {},
   "source": [
    "### Export to GeoTIFF files"
   ]
  },
  {
   "cell_type": "code",
   "execution_count": null,
   "id": "b596248d-3920-466b-9887-288aab92a801",
   "metadata": {},
   "outputs": [],
   "source": [
    "export_intertidal_rasters(ds, prefix=f\"data/interim/{study_area}_{start_date}_{end_date}\")"
   ]
  },
  {
   "cell_type": "code",
   "execution_count": null,
   "id": "af6defce-4751-4d2f-a899-65cd467548cb",
   "metadata": {},
   "outputs": [],
   "source": [
    "export_intertidal_rasters(ds_aux, prefix=f\"data/interim/{study_area}_{start_date}_{end_date}_debug\")"
   ]
  },
  {
   "cell_type": "markdown",
   "id": "18b8ced0-ff2d-4995-a0e4-0cf001ee8a99",
   "metadata": {},
   "source": [
    "## Experimental - not tested or working"
   ]
  },
  {
   "cell_type": "markdown",
   "id": "b3272f38-68fd-46fb-ab09-074563b4f9fe",
   "metadata": {},
   "source": [
    "### Investigate specific pixels"
   ]
  },
  {
   "cell_type": "code",
   "execution_count": null,
   "id": "13155d96-ca81-4749-98a5-3120f2fdf1c2",
   "metadata": {},
   "outputs": [],
   "source": [
    "# import pickle\n",
    "\n",
    "# study_area = 'moreton'\n",
    "\n",
    "# # Save flat_ds and interval_ds data to pickle file\n",
    "# with open(f'{study_area}_flat_ds.pickle', 'wb') as handle:\n",
    "#     pickle.dump(flat_ds, handle)\n",
    "# with open(f'{study_area}_interval_ds.pickle', 'wb') as handle:\n",
    "#     pickle.dump(interval_ds, handle)\n"
   ]
  },
  {
   "cell_type": "code",
   "execution_count": null,
   "id": "a848e345-5778-42e1-8181-e82f85ef74df",
   "metadata": {},
   "outputs": [],
   "source": [
    "import pickle\n",
    "\n",
    "# study_area = 'roebuck'\n",
    "study_area = 'moreton'\n",
    "# study_area = 'gulfcarpentaria2'\n",
    "\n",
    "# Load flat_ds and interval_ds data from pickle file\n",
    "with open(f'{study_area}_flat_ds.pickle', 'rb') as handle:\n",
    "    flat_ds = pickle.load(handle)    \n",
    "with open(f'{study_area}_interval_ds.pickle', 'rb') as handle:\n",
    "    interval_ds = pickle.load(handle)"
   ]
  },
  {
   "cell_type": "code",
   "execution_count": null,
   "id": "5491cd92-cf19-4ebb-bdd5-6cbfea11edba",
   "metadata": {},
   "outputs": [],
   "source": [
    "# Unstack data back to x, y so we can select pixels by their coordinates\n",
    "flat_ds_unstacked = flat_ds[[\"tide_m\", \"ndwi\"]].unstack().sortby([\"time\", \"x\", \"y\"])\n",
    "interval_ds_unstacked = interval_ds[[\"tide_m\", \"ndwi\"]].unstack().sortby([\"interval\", \"x\", \"y\"])"
   ]
  },
  {
   "cell_type": "code",
   "execution_count": null,
   "id": "fa0ab910-979d-4b6f-a2f0-43fccb6c3005",
   "metadata": {},
   "outputs": [],
   "source": [
    "from shapely.geometry import LineString\n",
    "\n",
    "# # Roebuck\n",
    "# start = -1034545,-1985389\n",
    "# end = -1038448,-1983292\n",
    "# n = 5\n",
    "\n",
    "# # Carpentaria1\n",
    "# start = 450770.6,-1641979.8\n",
    "# end = 451152.5,-1640577.0\n",
    "# n = 5\n",
    "\n",
    "# # Moreton\n",
    "start = 2081464.0,-3140036.2\n",
    "end = 2081003.8,-3140643.6\n",
    "n = 7\n",
    "\n",
    "# # Point Stuart\n",
    "# start = -13098.3,-1287619.9\n",
    "# end = -12187.1,-1286280.9\n",
    "# start=-12672.6,-1287222.9\n",
    "# end=-11678.7,-1287291.7\n",
    "# n = 5\n",
    "\n",
    "\n",
    "# # Gulf Carpentaria 2\n",
    "# start = 506000.5,-1701434.1\n",
    "# end = 508226.6,-1701232.9\n",
    "# n = 5\n",
    "\n",
    "# # Gulf Carpentaria 3\n",
    "# start = 613819.0,-1740248.7\n",
    "# end = 614185.7,-1739698.7\n",
    "# n = 5\n",
    "\n",
    "# Testing\n",
    "start = -925456.88,-3733613.17\n",
    "end = -925456.88,-3733613.17\n",
    "n=2\n",
    "\n",
    "fig, axes = plt.subplots(1, n, figsize=(25, 5))\n",
    "axes = axes.flatten()\n",
    "\n",
    "transect = LineString([start, end])\n",
    "\n",
    "for i, prop in enumerate(np.linspace(0.0, 1, n)):\n",
    "    x, y = transect.interpolate(prop, normalized=True).coords.xy\n",
    "\n",
    "    # Extract pixels\n",
    "    flat_ds_pixel = flat_ds_unstacked.sel(x=x, y=y, method='nearest')\n",
    "    interval_ds_pixel = interval_ds_unstacked.sel(x=x, y=y, method='nearest')\n",
    "    \n",
    "    # Convert to dataframes\n",
    "    flat_ds_df = flat_ds_pixel.to_dataframe()[['tide_m', 'ndwi']]\n",
    "    interval_ds_df = interval_ds_pixel.to_dataframe()[['tide_m', 'ndwi']]\n",
    "    # interval_rolling_df = interval_ds_unstacked.sel(x=x, y=y, method='nearest').rolling(interval=20, center=False, min_periods=1).mean().to_dataframe()[['tide_m', 'ndwi']]\n",
    "\n",
    "    # ndwi_scaling = 1\n",
    "    # interval_ds_df['ndwi_min'] = interval_ds_df.ndwi - (interval_ds_df.ndwi_std * ndwi_scaling)\n",
    "    # interval_ds_df['ndwi_max'] = interval_ds_df.ndwi + (interval_ds_df.ndwi_std * ndwi_scaling)\n",
    "    \n",
    "    ndwi_thresh = 0.1\n",
    "    flat_dem_pixel = pixel_dem(interval_ds_pixel, flat_ds_pixel, ndwi_thresh, 0)\n",
    "    elevation_low_mad, elevation_high_mad, _, _ = pixel_uncertainty(flat_ds_pixel, flat_dem_pixel, ndwi_thresh, method=\"mad\")\n",
    "    elevation_low_q, elevation_high_q, _, _ = pixel_uncertainty(flat_ds_pixel, flat_dem_pixel, ndwi_thresh, method=\"quantile\")\n",
    "    \n",
    "        \n",
    "    # Plot \n",
    "    import seaborn as sns\n",
    "    flat_ds_df.plot.scatter(x='tide_m', y='ndwi', c='black', s=2, ax=axes[i])\n",
    "    # flat_ds_df['month'] = flat_ds_df.index.get_level_values('time').month\n",
    "    # sns.scatterplot(flat_ds_df, x='tide_m', y='ndwi', hue='month', palette='twilight_shifted', ax=axes[i])\n",
    "    # flat_ds_df.query(\"(tide_m > 0) & (ndwi < 0.7)\").plot.scatter(x='tide_m', y='ndwi', c='red', s=5, ax=axes[i])\n",
    "    interval_ds_df.plot(x='tide_m', y='ndwi', c='darkorange', ax=axes[i], lw=3)\n",
    "    axes[i].axvspan(elevation_low_mad.item(), elevation_high_mad.item(), color='orange', alpha=0.3)\n",
    "    axes[i].axvspan(elevation_low_q.item(), elevation_high_q.item(), color='blue', alpha=0.2)\n",
    "    axes[i].axhline(ndwi_thresh, color='black', linestyle='-', lw=3, alpha=1)\n",
    "    axes[i].axvline(flat_dem_pixel.elevation, color='black', linestyle='-', lw=3, alpha=1)  \n",
    "    axes[i].set_ylim(-0.5, 1.1)"
   ]
  },
  {
   "cell_type": "code",
   "execution_count": null,
   "id": "c2bf0323-dbdf-4c33-bde1-03c6107e9d3a",
   "metadata": {},
   "outputs": [],
   "source": [
    "pixel_uncertainty(flat_ds_pixel, flat_dem_pixel, 0.0, method=\"quantile\")[3]"
   ]
  },
  {
   "cell_type": "code",
   "execution_count": null,
   "id": "631ab1d9-39bb-45a3-9c9a-c284189860b5",
   "metadata": {},
   "outputs": [],
   "source": [
    "# Extract pixel\n",
    "x, y = transect.interpolate(0.8, normalized=True).coords.xy\n",
    "flat_ds_pixel = flat_ds_unstacked.sel(x=x, y=y, method='nearest')\n",
    "interval_ds_pixel = interval_ds_unstacked.sel(x=x, y=y, method='nearest')\n",
    "\n",
    "\n",
    "thresholds = np.linspace(0, 0.2, 100)\n",
    "out_mad = []\n",
    "out_q = []\n",
    "for thresh in thresholds:\n",
    "    flat_dem_pixel = pixel_dem(interval_ds_pixel, flat_ds_pixel, thresh, 0)\n",
    "    _, _, uncertainty_mad = pixel_uncertainty(flat_ds_pixel, flat_dem_pixel, thresh, method=\"mad\")\n",
    "    _, _, uncertainty_q = pixel_uncertainty(flat_ds_pixel, flat_dem_pixel, thresh, method=\"quantile\")\n",
    "    out_mad.append(uncertainty_mad.item())\n",
    "    out_q.append(uncertainty_q.item())\n",
    "    \n",
    "plt.plot(thresholds, out_mad)\n",
    "plt.plot(thresholds, out_q)"
   ]
  },
  {
   "cell_type": "code",
   "execution_count": null,
   "id": "5bc49848-5868-4599-93bc-9848b48b8b8d",
   "metadata": {},
   "outputs": [],
   "source": []
  },
  {
   "cell_type": "code",
   "execution_count": null,
   "id": "88543c3b-bf4a-40b6-98b2-fe8e21da867b",
   "metadata": {},
   "outputs": [],
   "source": [
    "# Calculate elevation\n",
    "def elev_cert(interval_ds_pixel, flat_ds_pixel, thresh):\n",
    "    elevation = interval_ds_pixel.tide_m.where(interval_ds_pixel.ndwi <= thresh).max()\n",
    "    misclassified_wet = flat_ds_pixel.where(\n",
    "        (flat_ds_pixel.ndwi > thresh) & (flat_ds_pixel.tide_m < elevation)\n",
    "    )\n",
    "    misclassified_dry = flat_ds_pixel.where(\n",
    "        (flat_ds_pixel.ndwi < thresh) & (flat_ds_pixel.tide_m > elevation)\n",
    "    )\n",
    "    elev_min = misclassified_wet.tide_m.quantile(0.25, method=\"higher\")\n",
    "    elev_max = misclassified_dry.tide_m.quantile(0.75, method=\"lower\")\n",
    "    return (elev_max - elev_min).item()\n",
    "\n",
    "thresholds = np.linspace(-0.1, 0.2, 100)\n",
    "out = []\n",
    "for thresh in thresholds:\n",
    "    out.append(elev_cert(interval_ds_pixel, flat_ds_pixel, thresh=thresh))\n",
    "    \n",
    "plt.plot(thresholds, out)"
   ]
  },
  {
   "cell_type": "code",
   "execution_count": null,
   "id": "5beab68f-b8cd-4940-9c23-c1f92007812d",
   "metadata": {},
   "outputs": [],
   "source": [
    "# Calculate elevation\n",
    "thresh=0.05\n",
    "elevation = interval_ds_pixel.tide_m.where(interval_ds_pixel.ndwi <= thresh).max()\n",
    "# misclassified_wet = flat_ds_pixel.where(\n",
    "#     (flat_ds_pixel.ndwi > thresh) & (flat_ds_pixel.tide_m < elevation)\n",
    "# )\n",
    "# misclassified_dry = flat_ds_pixel.where(\n",
    "#     (flat_ds_pixel.ndwi < thresh) & (flat_ds_pixel.tide_m > elevation)\n",
    "# )\n",
    "# elev_min = misclassified_wet.tide_m.quantile(0.25, method=\"higher\")\n",
    "# elev_max = misclassified_dry.tide_m.quantile(0.75, method=\"lower\")\n",
    "\n",
    "misclassified_ds = flat_ds_pixel.where(\n",
    "    ((flat_ds_pixel.ndwi > thresh) & (flat_ds_pixel.tide_m < elevation))\n",
    "    | ((flat_ds_pixel.ndwi < thresh) & (flat_ds_pixel.tide_m > elevation))\n",
    ")\n",
    "\n",
    "testing = misclassified_ds.tide_m.quantile((0.25, 0.75), method=\"weibull\")\n",
    "elev_min = np.minimum(testing.sel(quantile=0.25), elevation)\n",
    "elev_max = np.maximum(testing.sel(quantile=0.75), elevation)\n",
    "\n",
    "fig, ax = plt.subplots(1, 1)\n",
    "flat_ds_df.plot.scatter(x=\"tide_m\", y=\"ndwi\", c=\"black\", alpha=1, s=1, ax=ax)\n",
    "# misclassified_wet.to_dataframe()[[\"tide_m\", \"ndwi\"]].plot.scatter(x=\"tide_m\", y=\"ndwi\", c=\"red\", alpha=1, s=3, ax=ax)\n",
    "# misclassified_dry.to_dataframe()[[\"tide_m\", \"ndwi\"]].plot.scatter(x=\"tide_m\", y=\"ndwi\", c=\"red\", alpha=1, s=3, ax=ax)\n",
    "interval_ds_df.plot(x=\"tide_m\", y=\"ndwi\", c=\"darkorange\", ax=ax, lw=3)\n",
    "ax.axhline(thresh, color=\"black\", linestyle=\"--\", lw=1.5)\n",
    "ax.axvline(elevation, color=\"black\", linestyle=\"--\", lw=1.5)\n",
    "ax.axvspan(elev_min, elev_max, alpha=0.2, color='grey')\n",
    "\n",
    "\n",
    "#         1. \"inverted_cdf\" (*)\n",
    "#         2. \"averaged_inverted_cdf\" (*)\n",
    "#         3. \"closest_observation\" (*)\n",
    "#         4. \"interpolated_inverted_cdf\" (*)\n",
    "#         5. \"hazen\" (*)\n",
    "#         6. \"weibull\" (*)\n",
    "#         7. \"linear\"  (default)\n",
    "#         8. \"median_unbiased\" (*)\n",
    "#         9. \"normal_unbiased\" (*)\n",
    "\n",
    "#     The first three methods are discontiuous. The following discontinuous\n",
    "#     variations of the default \"linear\" (7.) option are also available:\n",
    "\n",
    "#         * \"lower\"\n",
    "#         * \"higher\"\n",
    "#         * \"midpoint\"\n",
    "#         * \"nearest\""
   ]
  },
  {
   "cell_type": "code",
   "execution_count": null,
   "id": "e1cb3f48-2184-441c-9de5-4e61161e30de",
   "metadata": {},
   "outputs": [],
   "source": [
    "smoothed_ds = interval_ds.copy()   #.rolling(interval=20, center=False, min_periods=1).mean()"
   ]
  },
  {
   "cell_type": "code",
   "execution_count": null,
   "id": "c4d24609-36dd-465b-91fd-27fa5ce395b0",
   "metadata": {},
   "outputs": [],
   "source": [
    "smoothed_ds = smoothed_ds.interp(coords={'interval': np.linspace(1, 114, 300)})\n"
   ]
  },
  {
   "cell_type": "code",
   "execution_count": null,
   "id": "c23c96de-0b16-4615-98e0-1f82d97c2bf5",
   "metadata": {},
   "outputs": [],
   "source": [
    "smoothed_ds = interval_ds.rolling(interval=10, center=False, min_periods=1).mean()"
   ]
  },
  {
   "cell_type": "code",
   "execution_count": null,
   "id": "454f4108-e6c2-4952-94b5-7916ebcfa29a",
   "metadata": {},
   "outputs": [],
   "source": [
    "smooth_radius = 20\n",
    "ndwi_thresh = 0.1\n",
    "\n",
    "\n",
    "########################\n",
    "# Elevation extraction #\n",
    "########################\n",
    "\n",
    "# Smooth tidal intervals using a rolling mean\n",
    "if smooth_radius > 1:\n",
    "    smoothed_ds = interval_ds.rolling(\n",
    "        interval=smooth_radius, center=False, min_periods=1\n",
    "    ).mean()\n",
    "else:\n",
    "    smoothed_ds = interval_ds\n",
    "\n",
    "# Identify the max tide per pixel where rolling median NDWI == land.\n",
    "# This represents the tide height at which the pixel transitions from\n",
    "# dry to wet as it gets inundated by tidal waters.\n",
    "tide_dry = smoothed_ds.tide_m.where(smoothed_ds.ndwi <= ndwi_thresh)\n",
    "tide_thresh = tide_dry.max(dim=\"interval\")\n",
    "\n",
    "# Remove any pixel where tides max out (i.e. always land)\n",
    "tide_max = smoothed_ds.tide_m.max(dim=\"interval\")\n",
    "always_dry = tide_thresh >= tide_max\n",
    "flat_elev = tide_thresh.where(~always_dry).drop(\"variable\")\n",
    "\n",
    "\n",
    "###############\n",
    "# Uncertainty #\n",
    "###############\n",
    "\n",
    "# Identify observations that were misclassifed by our modelled\n",
    "# elevation: e.g. wet observations (NDWI > threshold) at lower tide\n",
    "# heights than our modelled elevation, or dry observations (NDWI <\n",
    "# threshold) at higher tide heights than our modelled elevation.\n",
    "misclassified_wet = (flat_ds.ndwi > ndwi_thresh) & (flat_ds.tide_m < flat_elev)\n",
    "misclassified_dry = (flat_ds.ndwi < ndwi_thresh) & (flat_ds.tide_m > flat_elev)\n",
    "misclassified_all = misclassified_wet | misclassified_dry\n",
    "misclassified_ds = flat_ds.where(misclassified_all).drop(\"variable\")\n",
    "\n",
    "# Calculate interquartile tide height range of our misclassified\n",
    "# observations to obtain lower and upper uncertainty bounds around our\n",
    "# modelled elevation.\n",
    "misclassified_q = xr_quantile(\n",
    "    src=misclassified_ds.dropna(dim=\"time\", how=\"all\")[[\"tide_m\"]],\n",
    "    quantiles=[0.25, 0.75],\n",
    "    nodata=np.nan,\n",
    ").tide_m.fillna(flat_elev)\n",
    "\n",
    "# Clip min and max uncertainty to modelled elevation to ensure lower\n",
    "# bounds are not above modelled elevation (and vice versa)\n",
    "flat_elev_low = np.minimum(misclassified_q.sel(quantile=0.25, drop=True), flat_elev)\n",
    "flat_elev_high = np.maximum(misclassified_q.sel(quantile=0.75, drop=True), flat_elev)\n",
    "\n",
    "# Combine into a single xr.Dataset\n",
    "ds = xr.merge(\n",
    "    [\n",
    "        flat_elev.rename(\"elevation\"),\n",
    "        flat_elev_low.rename(\"elevation_low\"),\n",
    "        flat_elev_high.rename(\"elevation_high\"),\n",
    "    ]\n",
    ")\n",
    "\n",
    "# Subtract low from high DEM to get a single confidence layer\n",
    "# Note: This may produce unexpected results at the top and bottom\n",
    "# of the intertidal zone, as the low and high DEMs may not be\n",
    "# currently be properly masked to remove always wet/dry terrain\n",
    "ds[\"elevation_uncertainty\"] = ds.elevation_high - ds.elevation_low"
   ]
  },
  {
   "cell_type": "code",
   "execution_count": null,
   "id": "91e7d535-7c22-44fc-bd22-7a643822782a",
   "metadata": {},
   "outputs": [],
   "source": [
    "misclassified_wet = (flat_ds.ndwi > thresh) & (flat_ds.tide_m < flat_dem)\n",
    "misclassified_dry = (flat_ds.ndwi < thresh) & (flat_ds.tide_m > flat_dem)\n",
    "misclassified_all = misclassified_wet | misclassified_dry\n",
    "misclassified_ds = flat_ds.where(misclassified_all)\n",
    "\n",
    "# misclassified_q = misclassified_ds.tide_m.quantile(\n",
    "#     (0.25, 0.75), dim=\"time\", method=\"midpoint\"\n",
    "# ).fillna(flat_dem)\n",
    "misclassified_q = xr_quantile(\n",
    "    src=misclassified_ds.dropna(dim=\"time\", how=\"all\")[[\"tide_m\"]],\n",
    "    quantiles=[0.25, 0.75],\n",
    "    nodata=np.nan,\n",
    ").tide_m.fillna(flat_dem)\n",
    "elev_min = np.minimum(misclassified_q.sel(quantile=0.25), flat_dem)\n",
    "elev_max = np.maximum(misclassified_q.sel(quantile=0.75), flat_dem)\n",
    "\n",
    "dem_low = elev_min.unstack(\"z\").reindex_like(satellite_ds).transpose(\"y\", \"x\")\n",
    "dem_high = elev_max.unstack(\"z\").reindex_like(satellite_ds).transpose(\"y\", \"x\")\n"
   ]
  },
  {
   "cell_type": "code",
   "execution_count": null,
   "id": "943bac44-6f6a-438b-bf26-2f113516a7bc",
   "metadata": {},
   "outputs": [],
   "source": [
    "# misclassified_all.mean(dim='time').unstack(\"z\").reindex_like(satellite_ds).transpose(\"y\", \"x\").plot()"
   ]
  },
  {
   "cell_type": "code",
   "execution_count": null,
   "id": "c5176dc1-e122-41ab-83a9-d7552073f601",
   "metadata": {},
   "outputs": [],
   "source": [
    "(dem_high - dem_low).rename('Uncertainty (m)').plot.imshow(cmap='inferno', interpolation='bilinear', size=8, robust=True)\n",
    "plt.gca().set_facecolor('#2E2E2E')\n",
    "plt.gca().set_title('Per-pixel uncertainty')"
   ]
  },
  {
   "cell_type": "code",
   "execution_count": null,
   "id": "87c3d5f6-ed8a-47f5-9cbf-2dbbe3b50c1a",
   "metadata": {},
   "outputs": [],
   "source": [
    "dem.odc.write_cog('testing_elevation.tif', overwrite=True)\n",
    "# dem_low.odc.write_cog('testing_elevation_low.tif', overwrite=True)\n",
    "# dem_high.odc.write_cog('testing_elevation_high.tif', overwrite=True)"
   ]
  },
  {
   "cell_type": "code",
   "execution_count": null,
   "id": "2463255f-14e9-430d-a033-c081e41ecd21",
   "metadata": {},
   "outputs": [],
   "source": []
  },
  {
   "cell_type": "code",
   "execution_count": null,
   "id": "b236186b-afa7-4707-8b4d-a6e8eae48233",
   "metadata": {},
   "outputs": [],
   "source": [
    "# .unstack(\"z\").reindex_like(satellite_ds).transpose(\"y\", \"x\", \"quantile\")"
   ]
  },
  {
   "cell_type": "code",
   "execution_count": null,
   "id": "0fd343e2-3a37-4850-8895-3569348b3b5b",
   "metadata": {},
   "outputs": [],
   "source": [
    "misclassified_wet = flat_ds.where(\n",
    "    (flat_ds.ndwi > thresh) & (flat_ds.tide_m < flat_dem)\n",
    ")\n",
    "misclassified_dry = flat_ds.where(\n",
    "    (flat_ds.ndwi < thresh) & (flat_ds.tide_m > flat_dem)\n",
    ")\n",
    "elev_min = misclassified_wet.tide_m.quantile(0.25, dim='time', method=\"midpoint\")\n",
    "elev_max = misclassified_dry.tide_m.quantile(0.75, dim='time', method=\"midpoint\")\n",
    "\n",
    "dem_low = elev_min.unstack(\"z\").reindex_like(satellite_ds).transpose(\"y\", \"x\").fillna(dem)\n",
    "dem_high = elev_max.unstack(\"z\").reindex_like(satellite_ds).transpose(\"y\", \"x\").fillna(dem)"
   ]
  },
  {
   "cell_type": "code",
   "execution_count": null,
   "id": "e5a36c33-49e9-4bee-9ff1-1b32d3dc307e",
   "metadata": {},
   "outputs": [],
   "source": [
    "(dem_high - dem_low).rename('Uncertainty (m)').plot.imshow(cmap='inferno', interpolation='bilinear', size=8, robust=True)\n",
    "plt.gca().set_facecolor('#2E2E2E')\n",
    "plt.gca().set_title('Per-pixel uncertainty')"
   ]
  },
  {
   "cell_type": "code",
   "execution_count": null,
   "id": "cc04670a-0895-4fde-9cd0-fff72817944c",
   "metadata": {},
   "outputs": [],
   "source": [
    "(dem_high - dem_low).rename('Uncertainty (m)').plot.imshow(cmap='inferno', interpolation='bilinear', size=8, robust=True)\n",
    "plt.gca().set_facecolor('#2E2E2E')\n",
    "plt.gca().set_title('Per-pixel uncertainty')\n"
   ]
  },
  {
   "cell_type": "code",
   "execution_count": null,
   "id": "00ebde6a-2619-4a4a-8981-dc5368832375",
   "metadata": {},
   "outputs": [],
   "source": [
    "(dem_high - dem_low).rename('Uncertainty (m)').odc.write_cog('test.tif', overwrite=True)"
   ]
  },
  {
   "cell_type": "code",
   "execution_count": null,
   "id": "d835f2d3-777e-43ed-b75e-91b9898d222e",
   "metadata": {},
   "outputs": [],
   "source": [
    "dem.odc.write_cog('test_dem.tif')"
   ]
  },
  {
   "cell_type": "code",
   "execution_count": null,
   "id": "7f623146-b7ca-40e2-a99e-b59b4215a6eb",
   "metadata": {},
   "outputs": [],
   "source": [
    "dem.plot()"
   ]
  },
  {
   "cell_type": "code",
   "execution_count": null,
   "id": "331f4577-1bde-44e5-b689-5c278cd50397",
   "metadata": {},
   "outputs": [],
   "source": [
    "x, y = transect.interpolate(0.7, normalized=True).coords.xy\n",
    "interval_ds_pixel = interval_ds_unstacked.sel(x=x, y=y, method='nearest')\n",
    "rate = interval_ds_pixel.ndwi.rolling(interval=20).mean().differentiate('interval')\n",
    "change = rate.differentiate('interval')\n",
    "min_change = change.argmin()\n",
    "max_change = rate.isel(interval=slice(None, min_change.item())).argmax()\n",
    "\n",
    "interval_ds_pixel.isel(interval=max_change).to_dataframe()[['tide_m', 'ndwi', 'ndwi_std']].plot.scatter(x='tide_m', y='ndwi', zorder=5, s=30)\n",
    "interval_ds_pixel.isel(interval=min_change).to_dataframe()[['tide_m', 'ndwi', 'ndwi_std']].plot.scatter(x='tide_m', y='ndwi', zorder=5, s=30, ax=plt.gca())\n",
    "interval_ds_pixel.to_dataframe()[['tide_m', 'ndwi', 'ndwi_std']].plot(x='tide_m', y='ndwi', c='darkorange', lw=3, ax=plt.gca())"
   ]
  },
  {
   "cell_type": "code",
   "execution_count": null,
   "id": "27703b56-42e6-409c-91e5-a0f985c2430f",
   "metadata": {},
   "outputs": [],
   "source": [
    "rate.isel(interval=slice(None, min_change.item())).plot()"
   ]
  },
  {
   "cell_type": "code",
   "execution_count": null,
   "id": "2166a1c0-263c-42b5-8855-e213b1bc192a",
   "metadata": {},
   "outputs": [],
   "source": [
    "\n"
   ]
  },
  {
   "cell_type": "code",
   "execution_count": null,
   "id": "8f8e5a09-d4d1-44e5-a948-050101517851",
   "metadata": {},
   "outputs": [],
   "source": [
    "interval_ds_df.derivitive('interval').plot()"
   ]
  },
  {
   "cell_type": "code",
   "execution_count": null,
   "id": "bd19da0c-ebd6-4814-9b29-0452ede28f8f",
   "metadata": {},
   "outputs": [],
   "source": [
    "accumulated height gain along x dimension"
   ]
  },
  {
   "cell_type": "code",
   "execution_count": null,
   "id": "b063ceca-3f4c-4527-8e2d-1c7302ef1c78",
   "metadata": {},
   "outputs": [],
   "source": [
    "flat_ds_unstacked.sel(x=x, y=y, method='nearest')  #.rolling(time=20, min_periods=1).median()."
   ]
  },
  {
   "cell_type": "code",
   "execution_count": null,
   "id": "ae1779de-6dd1-4ccc-b832-cb5fd00c578f",
   "metadata": {},
   "outputs": [],
   "source": [
    "# interval_ds_df.ndwi.plot.hist(bins=30)"
   ]
  },
  {
   "cell_type": "code",
   "execution_count": null,
   "id": "18e8b969-2078-414b-befc-1a135031f1a7",
   "metadata": {},
   "outputs": [],
   "source": [
    "# x, y = LineString([start, end]).interpolate(0.0, normalized=True).coords.xy\n",
    "# interval_ds_df = interval_ds_unstacked.sel(x=x, y=y, method='nearest')  #.to_dataframe()[['tide_m', 'ndwi', 'ndwi_std']]\n",
    "# interval_ds_df.ndwi.differentiate(\"interval\").plot()  \n",
    "# interval_ds_df.ndwi.differentiate(\"interval\").differentiate(\"interval\").plot()   #.plot() .rolling(interval=5, center=True, min_periods=5).mean()"
   ]
  },
  {
   "cell_type": "code",
   "execution_count": null,
   "id": "8795e431-5834-4b39-a10b-3ec540385b27",
   "metadata": {},
   "outputs": [],
   "source": [
    "# from random import randint\n",
    "# flat_ds_unstacked.isel(z=randint(0, 10))"
   ]
  },
  {
   "cell_type": "markdown",
   "id": "491ffdcf-d76b-4acf-bd9b-95ac2235fa6a",
   "metadata": {},
   "source": [
    "### Investigate faster ways to do rolling median"
   ]
  },
  {
   "cell_type": "code",
   "execution_count": null,
   "id": "579466ac-b5bc-40f0-bf7c-c176366b39ee",
   "metadata": {},
   "outputs": [],
   "source": [
    "windows_n=100\n",
    "window_prop_tide=0.15\n",
    "\n",
    "tide_max = flat_ds.tide_m.max(dim=\"time\")\n",
    "tide_min = flat_ds.tide_m.min(dim=\"time\")\n",
    "tide_range = tide_max - tide_min\n",
    "\n",
    "window_radius_tide = tide_range * window_prop_tide\n",
    "window_spacing_tide = tide_range / windows_n\n",
    "window_offset = int((windows_n * window_prop_tide) / 2.0)\n",
    "\n",
    "i= 50\n",
    "thresh_centre = tide_min + (i * window_spacing_tide)\n",
    "thresh_min = thresh_centre - window_radius_tide\n",
    "thresh_max = thresh_centre + window_radius_tide"
   ]
  },
  {
   "cell_type": "code",
   "execution_count": null,
   "id": "1595d99e-0400-4f4c-b203-eb17c7a1c43d",
   "metadata": {},
   "outputs": [],
   "source": [
    "import multiprocess as mp"
   ]
  },
  {
   "cell_type": "code",
   "execution_count": null,
   "id": "76fb293a-1807-4b95-aff8-c4e3b96e4477",
   "metadata": {},
   "outputs": [],
   "source": [
    "from intertidal.elevation import rolling_tide_window"
   ]
  },
  {
   "cell_type": "code",
   "execution_count": null,
   "id": "d6bf3516-b26d-46f2-968e-fc2f1aab73b6",
   "metadata": {},
   "outputs": [],
   "source": [
    "from concurrent.futures import ProcessPoolExecutor\n",
    "import time\n",
    "\n",
    "# Parallelise pixel-based rolling median using `concurrent.futures`\n",
    "with ProcessPoolExecutor(max_workers=30) as executor:\n",
    "    # Create rolling intervals to iterate over\n",
    "    \n",
    "    def foo_pool(x):\n",
    "        # time.sleep(0.2)\n",
    "        return satellite_ds.ndwi * satellite_ds.ndwi * satellite_ds.ndwi\n",
    "\n",
    "    # Place itervals in a iterable along with params for each call\n",
    "    to_iterate = range(10)\n",
    "\n",
    "    # Apply func in parallel\n",
    "    out_list = list(\n",
    "        # tqdm(\n",
    "            executor.map(foo_pool, to_iterate),\n",
    "            # total=len(list(rolling_intervals)),\n",
    "        # )\n",
    "    )"
   ]
  },
  {
   "cell_type": "code",
   "execution_count": null,
   "id": "e65cd7f2-abdb-4c62-b2fb-eb3e98d8d832",
   "metadata": {},
   "outputs": [],
   "source": [
    "# import multiprocessing as mp\n",
    "import time\n",
    "\n",
    "def foo_pool(x):\n",
    "    time.sleep(0.2)\n",
    "    return x*x\n",
    "\n",
    "result_list = []\n",
    "def log_result(result):\n",
    "    # This is called whenever foo_pool(i) returns a result.\n",
    "    # result_list is modified only by the main process, not the pool workers.\n",
    "    result_list.append(result)\n",
    "\n",
    "def apply_async_with_callback():\n",
    "    pool = mp.Pool(processes=15)\n",
    "    for i in range(5):\n",
    "        pool.apply_async(rolling_tide_window, args = (i, flat_ds, window_spacing_tide, window_radius_tide, tide_min ), callback = log_result)\n",
    "    pool.close()\n",
    "    pool.join()\n",
    "    print(result_list)\n",
    "\n",
    "if __name__ == '__main__':\n",
    "    apply_async_with_callback()"
   ]
  },
  {
   "cell_type": "code",
   "execution_count": null,
   "id": "a250e39a-cd16-40be-a650-037a4119e9cd",
   "metadata": {},
   "outputs": [],
   "source": [
    "0.2 * 100 / 10"
   ]
  },
  {
   "cell_type": "code",
   "execution_count": null,
   "id": "0d0a394c-e069-4042-9f5c-b287d89a6f65",
   "metadata": {},
   "outputs": [],
   "source": [
    "# flat_ds.tide_m.dropna(dim='time', how='all')"
   ]
  },
  {
   "cell_type": "code",
   "execution_count": null,
   "id": "17dc7ecd-b329-433b-8564-353c1aca5530",
   "metadata": {},
   "outputs": [],
   "source": [
    "max_tide = flat_ds.tide_m.max(dim='z')\n",
    "min_tide = flat_ds.tide_m.min(dim='z')"
   ]
  },
  {
   "cell_type": "code",
   "execution_count": null,
   "id": "a4f54902-995d-4d6c-a1b6-0b2dc67a97a7",
   "metadata": {},
   "outputs": [],
   "source": [
    "%%timeit -n 1 -r 1\n",
    "flat_ds.where(\n",
    "        (flat_ds.tide_m >= thresh_min) & (flat_ds.tide_m <= thresh_max)\n",
    "    )"
   ]
  },
  {
   "cell_type": "code",
   "execution_count": null,
   "id": "9bd2a123-a086-47b3-9170-431d3e883ce7",
   "metadata": {},
   "outputs": [],
   "source": [
    "tide_m_np = flat_ds.tide_m.values.copy()\n",
    "ndwi_np = flat_ds.ndwi.values.copy()\n",
    "thresh_min_np = thresh_min.values.copy() \n",
    "thresh_max_np = thresh_max.values.copy() "
   ]
  },
  {
   "cell_type": "code",
   "execution_count": null,
   "id": "dea9bbbc-7ee4-46eb-9af7-2adcaa25b347",
   "metadata": {},
   "outputs": [],
   "source": [
    "flat_ds.copy(data="
   ]
  },
  {
   "cell_type": "code",
   "execution_count": null,
   "id": "cba5a4e9-105f-4330-8332-8a278aedafdc",
   "metadata": {},
   "outputs": [],
   "source": [
    "%%timeit -n 1 -r 1\n",
    "bool_array = (tide_m_np >= thresh_min_np) & (tide_m_np <= thresh_max_np)\n",
    "# np.where(bool_array, tide_m_np, np.nan)\n",
    "# np.where(bool_array, ndwi_np, np.nan)\n",
    "ndwi_np[bool_array]\n",
    "tide_m_np[bool_array]"
   ]
  },
  {
   "cell_type": "code",
   "execution_count": null,
   "id": "d245a65e-a9f5-4567-8f7f-d312eb7cfd11",
   "metadata": {},
   "outputs": [],
   "source": [
    "%%timeit -n 1 -r 1\n",
    "\n",
    "masked_ds = flat_ds.where(\n",
    "        (flat_ds.tide_m >= thresh_min) & (flat_ds.tide_m <= thresh_max)\n",
    "    )\n",
    "\n",
    "# valid = ~masked_ds.ndwi.isnull()\n",
    "# masked_ds = masked_ds.sel(time = valid.mean(dim='z') > 0)\n",
    "\n",
    "\n",
    "# ds_agg = xr_quantile(src=masked_ds, quantiles=[0.1, 0.5, 0.9], nodata=np.nan)\n",
    "masked_ds.median(dim='time')\n",
    "masked_ds.ndwi.std(dim=\"time\")\n",
    "# valid.sum(dim=\"time\")"
   ]
  },
  {
   "cell_type": "code",
   "execution_count": null,
   "id": "34001a16-bb1c-4091-8388-555a65ad04ec",
   "metadata": {},
   "outputs": [],
   "source": []
  },
  {
   "cell_type": "code",
   "execution_count": null,
   "id": "6993f11b-1926-446e-b6d5-a73943f09cfd",
   "metadata": {},
   "outputs": [],
   "source": [
    "# masked_ds.dropna(dim='time', how='all')    #.sel((masked_ds.tide_m.isnull()).mean(dim='z') == 1)"
   ]
  },
  {
   "cell_type": "code",
   "execution_count": null,
   "id": "6ab7c217-4fad-4abc-be9b-a0867c188638",
   "metadata": {},
   "outputs": [],
   "source": [
    "import os\n",
    "os.cpu_count()"
   ]
  },
  {
   "cell_type": "code",
   "execution_count": null,
   "id": "d836d856-d280-4cdb-a99a-b123e058c0b0",
   "metadata": {},
   "outputs": [],
   "source": []
  },
  {
   "cell_type": "code",
   "execution_count": null,
   "id": "bf31d66c-2086-4ff9-8536-df639574c90e",
   "metadata": {},
   "outputs": [],
   "source": [
    "# %%timeit -n 1 -r 1  # original = 1 min 23; after = \n",
    "interval_ds = pixel_rolling_median(\n",
    "    flat_ds, windows_n=100,  # default 100\n",
    "    window_prop_tide=0.15,  # default 0.15\n",
    "    max_workers=64  # default 64\n",
    ")"
   ]
  },
  {
   "cell_type": "code",
   "execution_count": null,
   "id": "df25b11b-1dfa-4f8b-a943-731e51a2755d",
   "metadata": {},
   "outputs": [],
   "source": [
    "import numpy as np\n",
    "import xarray as xr\n",
    "from timeit import timeit\n",
    "import numba as nb\n",
    "\n",
    "\n",
    "def time_solution(solution, number=1):\n",
    "    return timeit(\n",
    "        f\"{solution.__name__}(data, threshold_value, low, high)\",\n",
    "        setup=f\"from __main__ import data, threshold_value, low, high, {solution.__name__}\",\n",
    "        number=number,\n",
    "    )\n",
    "\n",
    "\n",
    "def your_solution(data, threshold_value, low, high):\n",
    "    ds = xr.Dataset(\n",
    "        data_vars={\n",
    "            \"a\": xr.DataArray(data, dims=(\"time\", \"y\", \"x\")),\n",
    "            \"b\": xr.DataArray(threshold_value, dims=(\"time\", \"y\", \"x\")),\n",
    "        }\n",
    "    )\n",
    "\n",
    "    result = ds.a.where((ds.b > low) & (ds.b < high)).median(dim=\"time\")\n",
    "\n",
    "    return result\n",
    "\n",
    "\n",
    "@nb.jit(\n",
    "    \"float32[:, :](float32[::1, :, :], float32[::1, :, :], float32[::1, :, :], float32[::1, :, :])\",\n",
    "    nopython=True,\n",
    "    nogil=True,\n",
    ")\n",
    "def numba_magic(data, threshold_value, low, high):\n",
    "    output = np.empty(data.shape[1:], dtype=np.float32)\n",
    "\n",
    "    for height in range(data.shape[1]):\n",
    "        for width in range(data.shape[2]):\n",
    "            threshold = threshold_value[:, height, width]\n",
    "            mask = (low[:, height, width] < threshold) & (\n",
    "                threshold < high[:, height, width]\n",
    "            )\n",
    "            buffer = np.where(mask, data[:, height, width], np.nan)\n",
    "            output[height, width] = np.nanmedian(buffer)\n",
    "\n",
    "    return output\n",
    "\n",
    "\n",
    "# Time solutions\n",
    "# ==============\n",
    "\n",
    "shape = (100, 3000, 3000)\n",
    "rng = np.random.default_rng()\n",
    "data = rng.random(shape).astype(np.float32, order=\"F\")\n",
    "threshold_value = rng.random(shape).astype(np.float32, order=\"F\")\n",
    "\n",
    "random_vals = (rng.random(shape) / 10).astype(np.float32, order=\"F\")\n",
    "low = 0.5 - random_vals\n",
    "high = 0.5 + random_vals\n",
    "\n",
    "\n",
    "# assert equality of solutions\n",
    "expected = np.asarray(your_solution(data, threshold_value, low, high))\n",
    "actual_numba = numba_magic(data, threshold_value, low, high)\n",
    "assert np.allclose(expected, actual_numba, equal_nan=True)\n",
    "\n",
    "# compare timings of solutions\n",
    "repeats = 1\n",
    "print(\"\"\"\n",
    "Timings\n",
    "-------\"\"\")\n",
    "print(f\"Your Approach: {time_solution(your_solution, repeats)/repeats:.4f} s\")\n",
    "print(f\"Numba JIT: {time_solution(numba_magic, repeats)/repeats:.4f} s\")"
   ]
  },
  {
   "cell_type": "code",
   "execution_count": null,
   "id": "216517c5-cf0c-4acd-809b-71c7e8ab4ab2",
   "metadata": {},
   "outputs": [],
   "source": [
    "%%timeit -n 1 -r 1\n",
    "masked_ds = flat_ds.tide_m.where(\n",
    "        (flat_ds.tide_m >= 0) & (flat_ds.tide_m <= 0.5)\n",
    ")"
   ]
  },
  {
   "cell_type": "code",
   "execution_count": null,
   "id": "d5d6bac1-5bf8-4bb7-9574-a20616129499",
   "metadata": {},
   "outputs": [],
   "source": [
    "# flat_ds.tide_m.values.is\n",
    "a = flat_ds.tide_m.values.copy()\n"
   ]
  },
  {
   "cell_type": "code",
   "execution_count": null,
   "id": "a51e0ddc-6fb5-4c9f-9d66-35c9cda26dbb",
   "metadata": {},
   "outputs": [],
   "source": [
    "%%timeit -n 1 -r 1\n",
    "a[~((a >= 0) & (a <= 0.5))] = np.nan"
   ]
  },
  {
   "cell_type": "code",
   "execution_count": null,
   "id": "4d952fca-7740-49cd-8b39-f7fe014780e9",
   "metadata": {},
   "outputs": [],
   "source": [
    "np.allclose(a, masked_ds.values, equal_nan=True)"
   ]
  },
  {
   "cell_type": "markdown",
   "id": "e35f289a-279e-4f3a-82dc-ada62d9491aa",
   "metadata": {},
   "source": [
    "### Morphological cleaning to remove narrow inland streams"
   ]
  },
  {
   "cell_type": "code",
   "execution_count": null,
   "id": "3b9a2201-e674-433d-bacb-b981c98fe869",
   "metadata": {},
   "outputs": [],
   "source": [
    "# # Clean data using morphological opening to remove narrow inland \n",
    "# # streams and waterbodies\n",
    "# clean=[(\"opening\", 20), (\"dilation\", 10)]\n",
    "# to_keep = mask_cleanup(extents_da < 100, mask_filters=clean)\n",
    "# dem_clean = dem.where(to_keep)\n",
    "\n",
    "# # Export to file\n",
    "# dem_clean.odc.write_cog(\n",
    "#         fname=f\"data/interim/pixel_{fname}_{suffix}_cleaned.tif\", overwrite=True\n",
    "#     )"
   ]
  },
  {
   "cell_type": "code",
   "execution_count": null,
   "id": "96a2b486-92c8-4444-824b-40bc608d245d",
   "metadata": {},
   "outputs": [],
   "source": [
    "# test = ds.tide_m.mean(dim=['x', 'y'])"
   ]
  },
  {
   "cell_type": "markdown",
   "id": "66864247-5cbb-4a45-9b36-195824615b1d",
   "metadata": {},
   "source": [
    "### Remove water not attached to ocean"
   ]
  },
  {
   "cell_type": "code",
   "execution_count": null,
   "id": "1441451e-b70f-4ac5-9a2d-e1a7d826276f",
   "metadata": {},
   "outputs": [],
   "source": [
    "# from skimage.measure import label, regionprops"
   ]
  },
  {
   "cell_type": "code",
   "execution_count": null,
   "id": "36886e5d-fd86-4d06-b92f-842d23bd47e9",
   "metadata": {},
   "outputs": [],
   "source": [
    "# # First, break boolean array into unique, discrete regions/blobs\n",
    "# blobs = xr.apply_ufunc(label, to_keep, 0, False, 1)\n",
    "\n",
    "# # Get blob ID for each blob inside ocean area\n",
    "# ocean = dc.load(product=\"geodata_coast_100k\", like=ds.odc.geobox.compat).land == 0\n",
    "# ocean_blobs = np.unique(blobs.where(ocean, 0))\n",
    "\n",
    "# # Return only blobs that contained tide modelling point\n",
    "# ocean_mask = blobs.isin(ocean_blobs[ocean_blobs != 0])"
   ]
  },
  {
   "cell_type": "code",
   "execution_count": null,
   "id": "f9e398d7-a258-4b2a-a2f0-d1ae9436afa7",
   "metadata": {},
   "outputs": [],
   "source": [
    "# ocean_mask.plot()"
   ]
  },
  {
   "cell_type": "code",
   "execution_count": null,
   "id": "0caec496-a16a-47b8-bbad-360799bde26e",
   "metadata": {},
   "outputs": [],
   "source": [
    "# # First, break boolean array into unique, discrete regions/blobs\n",
    "# blobs = xr.apply_ufunc(label, ds, 1, False, 1)\n",
    "\n",
    "# # Get blob ID for each tidal modelling point\n",
    "# x = xr.DataArray(tide_points_gdf.geometry.x, dims=\"z\")\n",
    "# y = xr.DataArray(tide_points_gdf.geometry.y, dims=\"z\")\n",
    "# ocean_blobs = np.unique(blobs.interp(x=x, y=y, method=\"nearest\"))\n",
    "\n",
    "# # Return only blobs that contained tide modelling point\n",
    "# ocean_mask = blobs.isin(ocean_blobs[ocean_blobs != 0])\n",
    "\n",
    "# # Dilate mask so that we include land pixels on the inland side\n",
    "# # of each shoreline to ensure contour extraction accurately\n",
    "# # seperates land and water spectra\n",
    "# if dilation:\n",
    "#     ocean_mask = xr.apply_ufunc(binary_dilation, ocean_mask, disk(dilation))\n",
    "\n",
    "# return ocean_mask"
   ]
  },
  {
   "cell_type": "markdown",
   "id": "61606f79-c0fa-4b8d-95f4-8d299a567c9c",
   "metadata": {},
   "source": [
    "### Regression experiment"
   ]
  },
  {
   "cell_type": "code",
   "execution_count": null,
   "id": "d9dc6242-26d6-458c-802b-e6a2c8f1338f",
   "metadata": {},
   "outputs": [],
   "source": [
    "from dea_tools.temporal import lag_linregress_3D"
   ]
  },
  {
   "cell_type": "code",
   "execution_count": null,
   "id": "e31b78af-8280-45fc-9b2f-56108237010d",
   "metadata": {},
   "outputs": [],
   "source": [
    "ds_subset = interval_ds.where((interval_ds.ndwi > 0.05) & (interval_ds.ndwi < 0.25))\n",
    "linreg = lag_linregress_3D(x=ds_subset.tide_m, y=ds_subset.ndwi, first_dim='interval')"
   ]
  },
  {
   "cell_type": "code",
   "execution_count": null,
   "id": "99ddeb7b-64a3-4c82-8f6d-d87e36ee4df6",
   "metadata": {},
   "outputs": [],
   "source": [
    "# linreg.intercept.unstack(\"z\").reindex_like(ds).plot(robust=True)"
   ]
  },
  {
   "cell_type": "code",
   "execution_count": null,
   "id": "a3607175-b892-4f14-9329-1a5e42656d45",
   "metadata": {},
   "outputs": [],
   "source": [
    "# linreg.slope.unstack(\"z\").reindex_like(ds).plot(robust=True)"
   ]
  },
  {
   "cell_type": "code",
   "execution_count": null,
   "id": "242f8d35-3333-47a7-83e6-3fe8d86b39e2",
   "metadata": {},
   "outputs": [],
   "source": [
    "testing = ((0 - linreg.intercept) / linreg.slope).where(linreg.pval < 0.01).unstack(\"z\").reindex_like(ds)  #.plot.imshow(vmin=-1, vmax=0.5)"
   ]
  },
  {
   "cell_type": "code",
   "execution_count": null,
   "id": "33507437-0b1a-4ad1-8834-3fc605e95a21",
   "metadata": {},
   "outputs": [],
   "source": [
    "testing = testing.where(testing > ds_subset.tide_m.min())"
   ]
  },
  {
   "cell_type": "code",
   "execution_count": null,
   "id": "9d51ff42-4d82-48b3-8751-91aa579c4eb9",
   "metadata": {},
   "outputs": [],
   "source": [
    "testing.T.odc.write_cog(fname=f'data/interim/pixel_linreg7.tif', overwrite=True)"
   ]
  },
  {
   "cell_type": "code",
   "execution_count": null,
   "id": "7b078af3-5cdd-4d39-8ffe-33de9d949ea3",
   "metadata": {},
   "outputs": [],
   "source": [
    "y = mx + a\n",
    "(y - a) / m"
   ]
  },
  {
   "cell_type": "code",
   "execution_count": null,
   "id": "f834fe40-7d47-4218-a2f8-3f6582361fba",
   "metadata": {},
   "outputs": [],
   "source": [
    "ds.geobox"
   ]
  },
  {
   "cell_type": "code",
   "execution_count": null,
   "id": "24465187-7d64-4e97-81c3-d0535c79964f",
   "metadata": {},
   "outputs": [],
   "source": [
    "quantile_ds.tide_m.where(quantile_ds.ndwi <= 0.1).dropna(dim='z', how='all')"
   ]
  },
  {
   "cell_type": "code",
   "execution_count": null,
   "id": "64d4e443-df6b-444b-80ea-ca0378e36776",
   "metadata": {},
   "outputs": [],
   "source": [
    "(tide_argmax + 1).unstack(\"z\").reindex_like(ds).T.plot()"
   ]
  },
  {
   "cell_type": "code",
   "execution_count": null,
   "id": "ab176595-1b9f-46b0-9c29-dfd031d32b0e",
   "metadata": {},
   "outputs": [],
   "source": [
    "tide_dry.isel(interval=(tide_argmax - 1).clip(0, len(tide_dry.interval) - 1))"
   ]
  },
  {
   "cell_type": "code",
   "execution_count": null,
   "id": "1d9e2b79-22e6-4f62-a372-2962bf600326",
   "metadata": {},
   "outputs": [],
   "source": [
    "tide_dry.isel(tide_argmax)"
   ]
  },
  {
   "cell_type": "code",
   "execution_count": null,
   "id": "f59c8c6b-4bd4-4e72-891a-936baaf702ce",
   "metadata": {},
   "outputs": [],
   "source": []
  },
  {
   "cell_type": "code",
   "execution_count": null,
   "id": "4d769c1b-eb08-4d1d-8b89-900601fb86e7",
   "metadata": {},
   "outputs": [],
   "source": [
    "tide_argmax + 1"
   ]
  },
  {
   "cell_type": "code",
   "execution_count": null,
   "id": "2f325526-340f-46d5-a710-70a0dc7f826a",
   "metadata": {},
   "outputs": [],
   "source": [
    "tide_dry.dropna(dim='interval', how='all').argmax(dim='interval', axis=1)"
   ]
  },
  {
   "cell_type": "code",
   "execution_count": null,
   "id": "c67ff227-7b14-4efd-ae96-a633e7823928",
   "metadata": {},
   "outputs": [],
   "source": [
    "interval_ds"
   ]
  },
  {
   "cell_type": "code",
   "execution_count": null,
   "id": "ca991a0e-d5cd-40fa-8d7a-2a98dc13354c",
   "metadata": {},
   "outputs": [],
   "source": [
    "# # Output name\n",
    "# fname = 'testing1'\n",
    "# # fname = aoi.lower().replace(' ', '')\n",
    "\n",
    "# # Calculate \n",
    "# confidence = interval_ds.ndwi_std.mean(dim='interval')\n",
    "# min_thresh = (0 - 0.5 * confidence)\n",
    "# max_thresh = (0 + 0.5 * confidence)\n",
    "\n",
    "# for thresh_name, thesh in {'': 0, '_low': min_thresh, '_high': max_thresh}.items():\n",
    "    \n",
    "#     dem_fname = f'data/interim/pixel_dem_{fname}{thresh_name}.tif'\n",
    "#     print(f'Exporting {dem_fname}')\n",
    "    \n",
    "#     # Identify the max tide per pixel where NDWI == land\n",
    "#     tide_thresh = interval_ds.tide_m.where(interval_ds.ndwi <= thesh).max(dim='interval')\n",
    "#     tide_max = interval_ds.tide_m.max(dim='interval')\n",
    "    \n",
    "#     # Remove any pixel where tides max out (i.e. always land)\n",
    "#     dem = tide_thresh.where(tide_thresh < tide_max)\n",
    "    \n",
    "#     # Export DEM file  \n",
    "# #     dem.T.odc.write_cog(fname=dem_fname, overwrite=True)\n",
    "#     dem.where(~((freq > 0) & tide_thresh.isnull()), dem.min()).T.odc.write_cog(fname=dem_fname, overwrite=True)\n",
    "    \n",
    "\n",
    "# # Export NDWI standard deviation/confidence file\n",
    "# confidence.T.odc.write_cog(fname=f'data/interim/pixel_dem_{fname}_confidence.tif', overwrite=True)"
   ]
  },
  {
   "cell_type": "code",
   "execution_count": null,
   "id": "31145088-84ab-4924-b6b5-f4db1925d686",
   "metadata": {},
   "outputs": [],
   "source": [
    "# dem.where(~((freq > 0) & tide_thresh.isnull()), dem.min()).plot()"
   ]
  },
  {
   "cell_type": "code",
   "execution_count": null,
   "id": "6edca090-a367-41dc-add2-231515b35253",
   "metadata": {},
   "outputs": [],
   "source": [
    "# dem.where(~(tide_thresh.isnull() & (freq > 0.90)), dem.min()).plot()"
   ]
  },
  {
   "cell_type": "code",
   "execution_count": null,
   "id": "fdaf2f96-a5d2-475d-8857-d59583219412",
   "metadata": {},
   "outputs": [],
   "source": [
    "interval_ds.squeeze('quantile').unstack().sel(x=x,  y=y, method='nearest')"
   ]
  },
  {
   "cell_type": "code",
   "execution_count": null,
   "id": "32f32fb2-6d6b-49a3-a4b0-2336aa2ae823",
   "metadata": {},
   "outputs": [],
   "source": [
    "x, y = -1156521.12372093, 7712141.96160016\n",
    "ndwi_thresh = 0.0\n",
    "\n",
    "# Extract rolling and raw data\n",
    "pixel_rolling = interval_ds.squeeze('quantile').unstack().sortby([\"interval\", \"x\", \"y\"]).sel(x=x,  y=y, method='nearest')\n",
    "pixel_raw = ds.sel(x=x,  y=y, method='nearest').sortby('tide_m')\n",
    "# pixel_raw['ndwi'] = (pixel_raw.ndwi > 0.1).where(~pixel_raw.ndwi.isnull())\n",
    "# pixel_rolling = pixel_raw.rolling(time=100, min_periods=1).mean().to_dataframe().reset_index()\n",
    "pixel_raw = pixel_raw.to_dataframe().reset_index()\n",
    "\n",
    "# To plot\n",
    "pixel_to_plot = pixel_rolling\n",
    "pixel_to_plot_mean = pixel_to_plot.rolling(20, center=False, min_periods=None).mean()\n",
    "\n",
    "\n",
    "# pixel_savgol = pixel_rolling.copy()\n",
    "# pixel_savgol['ndwi'] = savgol_filter(pixel_savgol.ndwi.values, 50, 1)\n",
    "\n",
    "# Calculate thresholds\n",
    "land_tides = pixel_to_plot.where((pixel_to_plot.ndwi) < ndwi_thresh)\n",
    "max_ind = land_tides.tide_m.argmax()\n",
    "\n",
    "\n",
    "# Plot\n",
    "fig, ax = plt.subplots(1, 1, figsize=(10, 8))\n",
    "ax.scatter(x=pixel_raw.tide_m, y=pixel_raw.ndwi)\n",
    "ax.plot(pixel_to_plot.tide_m, pixel_to_plot.ndwi, '-o', color='orange')\n",
    "ax.plot(pixel_to_plot_mean.tide_m, pixel_to_plot_mean.ndwi, '-o', color='green')\n",
    "# ax.plot(pixel_savgol.tide_m, pixel_savgol.ndwi, '-o', color='blue')\n",
    "tide_thresh_1 = land_tides.tide_m.iloc[max_ind]\n",
    "ax.axvline(tide_thresh_1, color='orange', linestyle='--', lw=2, alpha=0.5)\n",
    "ax.axhline(ndwi_thresh, color='black', linestyle='--', lw=0.8, alpha=0.5)\n",
    "\n",
    "\n",
    "# clipped = pixel_rolling.where((pixel_rolling.ndwi > 0) & (pixel_rolling.ndwi < 0.1)).dropna()\n",
    "\n",
    "# ax.plot(clipped.tide_m, clipped.ndwi, '-o', color='green')\n",
    "# from scipy import stats\n",
    "# linreg = stats.linregress(x=clipped.tide_m, y=clipped.ndwi)\n",
    "# x = np.linspace(pixel_raw.tide_m.min(), pixel_raw.tide_m.max())\n",
    "# # ax.plot(x, [linreg.slope * i + linreg.intercept for i in x], color='green', linestyle='--')\n",
    "# tide_thresh_3 = (ndwi_thresh - linreg.intercept) / linreg.slope\n",
    "\n",
    "# rolling2 = pixel_raw.sort_values('tide_m').rolling(100, center=True, min_periods=1).median()\n",
    "# ax.plot(rolling2.tide_m, rolling2.ndwi, '-o', color='red')\n",
    "\n",
    "\n",
    "\n",
    "# tide_thresh_1 = land_tides.tide_m.iloc[max_ind]\n",
    "# tide_thresh_2 = pixel_rolling.tide_m.iloc[max_ind + 1]\n",
    "\n",
    "# ax.axvline(tide_thresh_1, color='orange', linestyle='--', lw=2, alpha=0.5)\n",
    "# ax.axvline(tide_thresh_2, color='red', linestyle='--', lw=0.8, alpha=0.5)\n",
    "# ax.axvline(tide_thresh_3, color='green', linestyle='--', lw=2, alpha=0.5)\n",
    "# ax.axhline(ndwi_thresh, color='black', linestyle='--', lw=0.8, alpha=0.5)"
   ]
  },
  {
   "cell_type": "code",
   "execution_count": null,
   "id": "17ed4878-fbd8-4e2e-a202-70d6f879ed3f",
   "metadata": {},
   "outputs": [],
   "source": [
    "x, y = 801144.14604825, 8189103.58475355\n",
    "ndwi_thresh = 0.1\n",
    "\n",
    "# Extract rolling and raw data\n",
    "pixel_rolling = interval_ds.squeeze('quantile').unstack().sel(x=x,  y=y, method='nearest').to_dataframe().reset_index()\n",
    "pixel_raw = ds.sel(x=x,  y=y, method='nearest').sortby('tide_m')\n",
    "# pixel_raw['ndwi'] = (pixel_raw.ndwi > 0.1).where(~pixel_raw.ndwi.isnull())\n",
    "# pixel_rolling = pixel_raw.rolling(time=100, min_periods=1).mean().to_dataframe().reset_index()\n",
    "pixel_raw = pixel_raw.to_dataframe().reset_index()\n",
    "\n",
    "# To plot\n",
    "pixel_to_plot = pixel_rolling\n",
    "pixel_to_plot_mean = pixel_to_plot.rolling(20, center=False, min_periods=None).mean()\n",
    "\n",
    "\n",
    "# pixel_savgol = pixel_rolling.copy()\n",
    "# pixel_savgol['ndwi'] = savgol_filter(pixel_savgol.ndwi.values, 50, 1)\n",
    "\n",
    "# Calculate thresholds\n",
    "land_tides = pixel_to_plot.where((pixel_to_plot.ndwi) < ndwi_thresh)\n",
    "max_ind = land_tides.tide_m.argmax()\n",
    "\n",
    "\n",
    "# Plot\n",
    "fig, ax = plt.subplots(1, 1, figsize=(10, 8))\n",
    "ax.scatter(x=pixel_raw.tide_m, y=pixel_raw.ndwi)\n",
    "ax.plot(pixel_to_plot.tide_m, pixel_to_plot.ndwi, '-o', color='orange')\n",
    "ax.plot(pixel_to_plot_mean.tide_m, pixel_to_plot_mean.ndwi, '-o', color='green')\n",
    "# ax.plot(pixel_savgol.tide_m, pixel_savgol.ndwi, '-o', color='blue')\n",
    "tide_thresh_1 = land_tides.tide_m.iloc[max_ind]\n",
    "ax.axvline(tide_thresh_1, color='orange', linestyle='--', lw=2, alpha=0.5)\n",
    "ax.axhline(ndwi_thresh, color='black', linestyle='--', lw=0.8, alpha=0.5)"
   ]
  },
  {
   "cell_type": "code",
   "execution_count": null,
   "id": "d96cc353-8609-4a50-905a-8cff2fd9a2c9",
   "metadata": {},
   "outputs": [],
   "source": [
    "(pixel_rolling.ndwi * (10* pixel_rolling.ndwi.abs())).plot()"
   ]
  },
  {
   "cell_type": "code",
   "execution_count": null,
   "id": "1ca2800b-2308-4cfb-a939-f0c331dd32ac",
   "metadata": {},
   "outputs": [],
   "source": [
    "ds_sub = ds.sel(x=x,  y=y, method='nearest')\n",
    "\n",
    "\n",
    "ds_sub.sel(time=(ds_sub.ndwi < 0) & (ds_sub.tide_m > 0.25)).time"
   ]
  },
  {
   "cell_type": "code",
   "execution_count": null,
   "id": "49259330-345a-4315-801a-ae5797529bf1",
   "metadata": {},
   "outputs": [],
   "source": [
    "from scipy.signal import savgol_filter\n",
    "yhat = savgol_filter(pixel_rolling.ndwi.values, 50, 2) # window size 51, polynomial order 3\n",
    "plt.plot(yhat)"
   ]
  },
  {
   "cell_type": "code",
   "execution_count": null,
   "id": "f51e1fbc-17b3-407f-babc-f2fd910d703d",
   "metadata": {},
   "outputs": [],
   "source": [
    "test = np.array([-0.5, -0.2, -0.01, 0, 0.01, 0.2, 0.5])"
   ]
  },
  {
   "cell_type": "code",
   "execution_count": null,
   "id": "ee240194-53e6-4d8f-80d4-1d356a06d165",
   "metadata": {},
   "outputs": [],
   "source": [
    "import scipy.stats\n",
    "plt.plot(scipy.stats.norm.pdf(test, loc=0, scale=1))"
   ]
  },
  {
   "cell_type": "code",
   "execution_count": null,
   "id": "42aedacb-8c10-4351-ac9f-be271a181c80",
   "metadata": {},
   "outputs": [],
   "source": [
    "from skimage import exposure"
   ]
  },
  {
   "cell_type": "code",
   "execution_count": null,
   "id": "638cac42-4035-4f06-8fc4-70f7c1ce2f3d",
   "metadata": {},
   "outputs": [],
   "source": [
    "plt.plot(test)"
   ]
  },
  {
   "cell_type": "code",
   "execution_count": null,
   "id": "fa403f63-e98d-40e0-bdbd-56bf2fa64549",
   "metadata": {},
   "outputs": [],
   "source": [
    "plt.plot(exposure.adjust_gamma(np.abs(test), 2))"
   ]
  },
  {
   "cell_type": "code",
   "execution_count": null,
   "id": "4194f061-be51-461a-8ed2-7c5d84762f32",
   "metadata": {},
   "outputs": [],
   "source": [
    "\n",
    "\n",
    "\n",
    "from scipy.signal import savgol_filter\n",
    "yhat = savgol_filter(pixel_raw.ndwi.values, 25, 3) # window size 51, polynomial order 3\n",
    "\n",
    "pixel_rolling.ndwi.plot()\n",
    "plt.plot(yhat)"
   ]
  },
  {
   "cell_type": "code",
   "execution_count": null,
   "id": "9fe9b85a-eb57-4c15-8d41-027c5dc04227",
   "metadata": {},
   "outputs": [],
   "source": [
    "pixel_raw.ndwi.plot()"
   ]
  },
  {
   "cell_type": "code",
   "execution_count": null,
   "id": "4d9c86fb-f015-4c4c-89f7-7f044a476e49",
   "metadata": {},
   "outputs": [],
   "source": []
  },
  {
   "cell_type": "code",
   "execution_count": null,
   "id": "d583eaa0-3bca-4790-a6d2-94a4b38e9db0",
   "metadata": {},
   "outputs": [],
   "source": [
    "interval_ds.ndwi2"
   ]
  },
  {
   "cell_type": "code",
   "execution_count": null,
   "id": "b8e4e841-acbd-4bb3-b7ae-ea5c41b06faf",
   "metadata": {},
   "outputs": [],
   "source": [
    "clipped_test = pixel_rolling.where((pixel_rolling.ndwi > -0.1) & (pixel_rolling.ndwi < 0.1)).dropna().rolling(5, center=True).mean()\n",
    "plt.plot(clipped_test.tide_m, clipped_test.ndwi, '-o', color='green')\n",
    "\n",
    "diff = clipped_test.ndwi.diff() / clipped_test.ndwi.index.to_series().diff()\n",
    "plt.plot(clipped_test.tide_m, diff, '-o', color='red')\n",
    "\n",
    "plt.axvline(clipped_test.tide_m.iloc[diff.argmax()], color='orange', linestyle='--', lw=2, alpha=0.5)\n",
    "plt.axhline(clipped_test.ndwi.iloc[diff.argmax()], color='orange', linestyle='--', lw=2, alpha=0.5)"
   ]
  },
  {
   "cell_type": "code",
   "execution_count": null,
   "id": "a0100f9f-a666-43be-acf9-ea67ab23175f",
   "metadata": {},
   "outputs": [],
   "source": []
  },
  {
   "cell_type": "code",
   "execution_count": null,
   "id": "2dc724c7-34c5-4d1c-b066-3f411a540f93",
   "metadata": {},
   "outputs": [],
   "source": [
    "plt.plot(clipped_test.tide_m, clipped_test.ndwi, '-o', color='green')"
   ]
  },
  {
   "cell_type": "code",
   "execution_count": null,
   "id": "422231ba-5068-4b76-8fcc-ecf4fcf640a4",
   "metadata": {},
   "outputs": [],
   "source": [
    "pdf = gaussian_kde(pixel_rolling.ndwi.values, bw_method=0.5, weights=scipy.stats.norm.pdf(pixel_rolling.ndwi.values, loc=0, scale=0.1))\n",
    "x = np.linspace(-0.5, 0.5, 200)\n",
    "y = pdf(x)\n",
    "plt.axvline(x[y.argmax()], color='orange', linestyle='--', lw=2, alpha=0.5)\n",
    "plt.plot(x, y, label='kde')"
   ]
  },
  {
   "cell_type": "code",
   "execution_count": null,
   "id": "aeabb2d4-139c-4fe4-bc3e-eba8f47fcf7f",
   "metadata": {},
   "outputs": [],
   "source": []
  },
  {
   "cell_type": "code",
   "execution_count": null,
   "id": "8bf37568-48e3-459e-afcc-de6170d5a39a",
   "metadata": {},
   "outputs": [],
   "source": [
    "from scipy.stats import gaussian_kde\n"
   ]
  },
  {
   "cell_type": "code",
   "execution_count": null,
   "id": "ea0c2eba-e182-44cf-82b0-a9284ae62f43",
   "metadata": {},
   "outputs": [],
   "source": [
    "import scipy.stats\n",
    "plt.scatter(pixel_rolling.ndwi.values, scipy.stats.norm.pdf(pixel_rolling.ndwi.values, loc=0, scale=0.1))"
   ]
  },
  {
   "cell_type": "code",
   "execution_count": null,
   "id": "d9a70cd0-195c-44a2-9388-761bc604c522",
   "metadata": {},
   "outputs": [],
   "source": [
    "pixel_raw.tide_m.min()"
   ]
  },
  {
   "cell_type": "code",
   "execution_count": null,
   "id": "7a8e7517-19e4-4b4d-acc2-b1e371cc8ed6",
   "metadata": {},
   "outputs": [],
   "source": [
    "pixel_raw.ndwi.plot.density(bw_method=0.05)"
   ]
  },
  {
   "cell_type": "code",
   "execution_count": null,
   "id": "a9d702d5-55d7-42ca-a07c-4f1c1fcc0a7b",
   "metadata": {},
   "outputs": [],
   "source": []
  },
  {
   "cell_type": "code",
   "execution_count": null,
   "id": "2da51b0d-7a33-4750-a757-f6f6d1b343f7",
   "metadata": {},
   "outputs": [],
   "source": [
    "pixel_rolling.ndwi.plot()\n",
    "(pixel_rolling.ndwi.diff() / pixel_rolling.ndwi.index.to_series().diff()).plot()"
   ]
  },
  {
   "cell_type": "code",
   "execution_count": null,
   "id": "344fc592-a8b8-4143-982a-f6d9ce341216",
   "metadata": {},
   "outputs": [],
   "source": [
    "from scipy.signal import savgol_filter\n",
    "w = savgol_filter(y.sort_values('ndwi').ndwi, 5, 2)\n",
    "w"
   ]
  },
  {
   "cell_type": "code",
   "execution_count": null,
   "id": "150e9df7-fc86-4b89-b2d0-3f1b5261bb4f",
   "metadata": {},
   "outputs": [],
   "source": [
    "y.sort_values('tide_m').ndwi"
   ]
  },
  {
   "cell_type": "code",
   "execution_count": null,
   "id": "e5df7fac-8ca6-4012-877e-8a8d796404e7",
   "metadata": {},
   "outputs": [],
   "source": [
    "# tide_thresh_2 = \n"
   ]
  },
  {
   "cell_type": "code",
   "execution_count": null,
   "id": "4456ab6e-849e-43d9-8605-64ff3569ff2e",
   "metadata": {},
   "outputs": [],
   "source": [
    "pixel_rolling.where(pixel_rolling.ndwi < 0).tide_m.argmax()"
   ]
  },
  {
   "cell_type": "code",
   "execution_count": null,
   "id": "5bd0596d-1201-41b1-9f90-7cd9a14259cf",
   "metadata": {},
   "outputs": [],
   "source": [
    "x, y = 642456.7107189415, 8275569.497920433\n",
    "pixel = interval_ds.sel(x=x,  y=y, method='nearest')\n",
    "df_median = pixel.to_dataframe().reset_index()\n",
    "\n",
    "fig, ax = plt.subplots(1, 1)\n",
    "ax.scatter(x=df_median.tide_m, y=df_median.ndwi)\n",
    "tide_thresh_1 = df_median.where(df_median.ndwi < 0).tide_m.max()\n",
    "tide_thresh_2 = df_median.where(df_median.ndwi > 0).tide_m.min()\n",
    "ax.axvline((tide_thresh_1 + tide_thresh_2) / 2)\n",
    "ax.axhline(0)"
   ]
  },
  {
   "cell_type": "markdown",
   "id": "90175bec-27b6-4601-97d5-5d5a7f4d44d1",
   "metadata": {
    "tags": []
   },
   "source": [
    "### Elevation calculation"
   ]
  },
  {
   "cell_type": "code",
   "execution_count": null,
   "id": "dab3cbd7-60c2-436f-9a59-56063826c2e8",
   "metadata": {
    "tags": []
   },
   "outputs": [],
   "source": [
    "# Output name\n",
    "fname = 'testing1'\n",
    "# fname = aoi.lower().replace(' ', '')\n",
    "\n",
    "# Calculate \n",
    "min_thresh = (0 - 0.5 * s2_stdev_mean)\n",
    "max_thresh = (0 + 0.5 * s2_stdev_mean)\n",
    "\n",
    "for thresh_name, thesh in {'': 0, '_low': min_thresh, '_high': max_thresh}.items():\n",
    "    \n",
    "    dem_fname = f'data/interim/pixel_dem_{fname}{thresh_name}.tif'\n",
    "    print(f'Exporting {dem_fname}')\n",
    "    \n",
    "    # Identify the max tide per pixel where NDWI == land\n",
    "    tide_thresh = ds.tide_m.where(s2_median <= thesh).max(dim='tide_n')\n",
    "    tide_max = ds.tide_m.max(dim='tide_n')\n",
    "    \n",
    "    # Remove any pixel where tides max out (i.e. always land)\n",
    "    dem = tide_thresh.where(tide_thresh < tide_max)\n",
    "    \n",
    "    # Export DEM file  \n",
    "    dem.odc.write_cog(fname=dem_fname, overwrite=True)\n",
    "\n",
    "# Export NDWI standard deviation/confidence file\n",
    "s2_stdev_mean.odc.write_cog(fname=f'data/interim/pixel_dem_{fname}_confidence.tif', overwrite=True)"
   ]
  },
  {
   "cell_type": "markdown",
   "id": "5781fcbf-08a2-4937-88a0-1e1ba81edab1",
   "metadata": {},
   "source": [
    "### Experimental"
   ]
  },
  {
   "cell_type": "code",
   "execution_count": null,
   "id": "39cdf81c-83da-43cc-884f-94df97dacc01",
   "metadata": {},
   "outputs": [],
   "source": [
    "from dea_tools.temporal import lag_linregress_3D"
   ]
  },
  {
   "cell_type": "code",
   "execution_count": null,
   "id": "2f85b5e1-9520-4077-af1b-e4f59d3dc06e",
   "metadata": {},
   "outputs": [],
   "source": [
    "# reg = lag_linregress_3D(s2_rolling.tide_height, (s2_rolling > 0).where(~s2_rolling.isnull()), first_dim='tide_height')\n",
    "# (reg.pval < 0.01).plot.imshow()"
   ]
  },
  {
   "cell_type": "code",
   "execution_count": null,
   "id": "ec11c556-5407-40de-a916-8d21f11a076e",
   "metadata": {},
   "outputs": [],
   "source": [
    "# s2_rolling"
   ]
  },
  {
   "cell_type": "code",
   "execution_count": null,
   "id": "c32ddbfb-874e-4085-b1da-9e5f6f405a44",
   "metadata": {},
   "outputs": [],
   "source": [
    "# test_min = tide_3d.where(s2_rolling >= 0).min(dim='tide_height')\n",
    "# test_max = tide_3d.where(s2_rolling < 0).max(dim='tide_height')\n",
    "# # dem = test_min.where(~test_max.isnull())\n",
    "# dem = ((test_max + test_min) / 2.0)\n",
    "# write_cog(dem, fname='pixel_dem_mccarthurriver.tif', overwrite=True)\n"
   ]
  },
  {
   "cell_type": "code",
   "execution_count": null,
   "id": "d9d3ced0-a1e7-47c3-b636-a217c947b864",
   "metadata": {},
   "outputs": [],
   "source": [
    "# out = xr.corr(s2_rolling, tide_3d)"
   ]
  },
  {
   "cell_type": "code",
   "execution_count": null,
   "id": "d2058e5c-111e-48d5-89e5-47bb93a670ef",
   "metadata": {},
   "outputs": [],
   "source": [
    "write_cog(test_max, fname='pixel_dem13.tif', overwrite=True)  # "
   ]
  },
  {
   "cell_type": "code",
   "execution_count": null,
   "id": "782714b0-5a93-4a8a-aa62-37a8e02bd53c",
   "metadata": {},
   "outputs": [],
   "source": [
    "x, y = 755234.5430086093, 8215882.783825266\n",
    "# pixel = s2_rolling.sel(x=x,  y=y, method='nearest')\n",
    "# df_median = pixel.to_dataframe()[['ndwi']].reset_index()\n",
    "\n",
    "pixel = ds.sel(x=x,  y=y, method='nearest')\n",
    "df = pixel.to_dataframe()[['ndwi']].reset_index()\n",
    "df_median = df.rolling(100, min_periods=10, center=True).median()\n",
    "df_std = df.rolling(100, min_periods=10, center=True).std()\n",
    "std_mean = df_std.ndwi.mean()\n",
    "\n",
    "fig, ax = plt.subplots(1, 1)\n",
    "ax.scatter(x=df_median.tide_height, y=df_median.ndwi)\n",
    "# ax.axvline(df_median.where(df_median.ndwi > 0).tide_height.min())\n",
    "ax.axvline(df_median.where(df_median.ndwi < 0).tide_height.max())\n",
    "ax.axvline(df_median.where(df_median.ndwi < (0 + std_mean * 0.5)).tide_height.max())\n",
    "ax.axvline(df_median.where(df_median.ndwi < (0 - std_mean * 0.5)).tide_height.max())\n",
    "ax.axhline(0)"
   ]
  },
  {
   "cell_type": "code",
   "execution_count": null,
   "id": "e35babc3-f719-4c01-9f4f-b742c199328d",
   "metadata": {},
   "outputs": [],
   "source": [
    "std_mean.ndwi"
   ]
  },
  {
   "cell_type": "code",
   "execution_count": null,
   "id": "f3f828fd-c9a3-4bf1-a1f8-c091eea486b7",
   "metadata": {},
   "outputs": [],
   "source": [
    "df_median.where(df_median.ndwi < 0).tide_height.max()"
   ]
  },
  {
   "cell_type": "code",
   "execution_count": null,
   "id": "eb6c4d35-5569-432e-bb70-6497a5329c0b",
   "metadata": {},
   "outputs": [],
   "source": [
    "df_median.where(df_median.ndwi > 0).tide_height.min()"
   ]
  },
  {
   "cell_type": "markdown",
   "id": "72172af8-b057-4416-9ba9-de434e78b4d2",
   "metadata": {},
   "source": [
    "# Shut down cluster"
   ]
  },
  {
   "cell_type": "code",
   "execution_count": null,
   "id": "7e5b413a-ab34-48a0-97b4-682a268eb322",
   "metadata": {},
   "outputs": [],
   "source": [
    "# from dask_gateway import Gateway\n",
    "# gateway = Gateway()\n",
    "\n",
    "# # Close any existing clusters\n",
    "# cluster_names = gateway.list_clusters()\n",
    "# if len(cluster_names) > 0:\n",
    "#     print(\"Cluster(s) still running:\", cluster_names)\n",
    "#     for n in cluster_names:\n",
    "#         cluster = gateway.connect(n.name)\n",
    "#         cluster.shutdown()"
   ]
  },
  {
   "cell_type": "code",
   "execution_count": null,
   "id": "46f990e8-d01a-4334-b4d4-42306a31b627",
   "metadata": {},
   "outputs": [],
   "source": [
    "# cluster.shutdown()"
   ]
  },
  {
   "cell_type": "code",
   "execution_count": null,
   "id": "a8a8bf32-584f-40d9-9484-8c3f2886ff8a",
   "metadata": {},
   "outputs": [],
   "source": []
  }
 ],
 "metadata": {
  "kernelspec": {
   "display_name": "Python 3 (ipykernel)",
   "language": "python",
   "name": "python3"
  },
  "language_info": {
   "codemirror_mode": {
    "name": "ipython",
    "version": 3
   },
   "file_extension": ".py",
   "mimetype": "text/x-python",
   "name": "python",
   "nbconvert_exporter": "python",
   "pygments_lexer": "ipython3",
   "version": "3.8.10"
  },
  "widgets": {
   "application/vnd.jupyter.widget-state+json": {
    "state": {},
    "version_major": 2,
    "version_minor": 0
   }
  }
 },
 "nbformat": 4,
 "nbformat_minor": 5
}

{
 "cells": [
  {
   "cell_type": "markdown",
   "id": "f2d6b7a0-11bf-431f-b2dd-4d97c0cfb0a0",
   "metadata": {},
   "source": [
    "### Testing notebook to prototype exposure custom options"
   ]
  },
  {
   "cell_type": "markdown",
   "id": "f0d85842-924e-47ac-a447-c985e979ab89",
   "metadata": {},
   "source": [
    "## Getting started\n",
    "Set working directory to top level of repo to ensure links work correctly:"
   ]
  },
  {
   "cell_type": "code",
   "execution_count": 1,
   "id": "ba8324d3-bb4b-42f8-ab51-c9f98f46f080",
   "metadata": {
    "tags": []
   },
   "outputs": [
    {
     "name": "stdout",
     "output_type": "stream",
     "text": [
      "/home/jovyan/dea_intertidal/dea-intertidal\n"
     ]
    }
   ],
   "source": [
    "cd ../.."
   ]
  },
  {
   "cell_type": "markdown",
   "id": "32c2bb5f-4d03-450a-a9f1-f6ce93a6ccf6",
   "metadata": {},
   "source": [
    "Install additional packages directly from the requirements file"
   ]
  },
  {
   "cell_type": "code",
   "execution_count": 2,
   "id": "d7551ed6-1994-49d3-9300-0bc22fadb304",
   "metadata": {
    "tags": []
   },
   "outputs": [
    {
     "name": "stdout",
     "output_type": "stream",
     "text": [
      "Note: you may need to restart the kernel to use updated packages.\n"
     ]
    }
   ],
   "source": [
    "pip install -r requirements.in --quiet"
   ]
  },
  {
   "cell_type": "markdown",
   "id": "430f8524-11cf-471b-ab4a-592d9e52b233",
   "metadata": {},
   "source": [
    "## Load packages"
   ]
  },
  {
   "cell_type": "code",
   "execution_count": 3,
   "id": "f88eada0-d3d1-4a80-a2d3-0f99519df8e3",
   "metadata": {
    "tags": []
   },
   "outputs": [],
   "source": [
    "# !pip install sunriset"
   ]
  },
  {
   "cell_type": "code",
   "execution_count": 4,
   "id": "1d19fac7-7637-4070-bde6-e63bcf3c9662",
   "metadata": {
    "tags": []
   },
   "outputs": [],
   "source": [
    "%load_ext autoreload\n",
    "%autoreload 2\n",
    "\n",
    "import os\n",
    "import pandas as pd\n",
    "import numpy as np\n",
    "import re\n",
    "import matplotlib.pyplot as plt\n",
    "\n",
    "import datacube\n",
    "from datacube.utils.geometry import Geometry\n",
    "\n",
    "from intertidal.utils import (\n",
    "    # load_config,\n",
    "    round_date_strings,\n",
    "    export_intertidal_rasters,\n",
    "    intertidal_hillshade,\n",
    ")\n",
    "from intertidal.elevation import load_data, load_topobathy, elevation\n",
    "from intertidal.extents import extents\n",
    "from intertidal.exposure import exposure, exposure1\n",
    "from intertidal.tidal_bias_offset import bias_offset, tidal_offset_tidelines\n",
    "from dea_tools.dask import create_local_dask_cluster\n",
    "\n",
    "## Temp for tide model testing 17/07/23\n",
    "from dea_tools.coastal import model_tides, pixel_tides\n",
    "\n",
    "\n",
    "# !pip install sunriset"
   ]
  },
  {
   "cell_type": "markdown",
   "id": "2546346c-fd91-46c8-bda9-bb22c8e94af7",
   "metadata": {},
   "source": [
    "## Setup\n",
    "### Set analysis parameters"
   ]
  },
  {
   "cell_type": "code",
   "execution_count": 38,
   "id": "352eb4e5-d98c-4fd5-a4ac-c3a0801283d8",
   "metadata": {
    "tags": []
   },
   "outputs": [],
   "source": [
    "# Intertidal Elevation variables\n",
    "start_date = \"2021\"  # Start date for analysis\n",
    "end_date = \"2022\"  # End date for analysis\n",
    "resolution = 300  # Spatial resolution used for output files\n",
    "crs = \"EPSG:3577\"  # Coordinate Reference System (CRS) to use for output files\n",
    "ndwi_thresh = 0.1  # Threshold used to identify dry/wet transition when calculating elevation\n",
    "include_s2 = True  # Include Sentinel-2 data in the analysis?\n",
    "include_ls = True  # Include Landsat data in the analysis?\n",
    "filter_gqa = True  # Filter to remove poorly georeferenced scenes?\n",
    "tide_model = \"ensemble\"  # Tide model to use in analysis\n",
    "tide_model_dir = \"/gdata1/data/tide_models_clipped\"  #  Tide models on Sandbox sharedrive\n",
    "# tide_model_dir = \"/var/share/tide_models\"  # Directory containing tide model files\n",
    "# tide_model = [\"FES2014\", \"FES2012\", \"TPXO9-atlas-v5\"]\n",
    "# tide_model_dir = \"/gdata1/data/tide_models_clipped\"\n",
    "\n",
    "# Exposure variables\n",
    "# For pandas time aliases, see: https://pandas.pydata.org/docs/user_guide/timeseries.html#offset-aliases\n",
    "modelled_freq = \"30min\"  # Frequency to run tidal model e.g '30T' for minutes or '1h' for hours \n",
    "\n",
    "# Split the number and text characters in modelled_freq\n",
    "freq_time = int(re.findall(r'(\\d+)(\\w+)', modelled_freq)[0][0])\n",
    "freq_unit = str(re.findall(r'(\\d+)(\\w+)', modelled_freq)[0][-1])\n",
    "\n",
    "# Extract the number of modelled timesteps per 14 days (half lunar cycle) for neap/spring calcs\n",
    "mod_timesteps = pd.Timedelta(14,\"d\")/pd.Timedelta(freq_time, freq_unit)\n",
    "\n",
    "# Generate range of times covering entire period of satellite record for exposure and bias/offset calculation\n",
    "all_timerange = pd.date_range(\n",
    "    start=round_date_strings(start_date, round_type=\"start\"),\n",
    "    end=round_date_strings(end_date, round_type=\"end\"),\n",
    "    freq=modelled_freq,\n",
    ")"
   ]
  },
  {
   "cell_type": "code",
   "execution_count": 6,
   "id": "bd108606-73f6-46ad-b7ae-617360957782",
   "metadata": {
    "tags": []
   },
   "outputs": [],
   "source": [
    "# ##temp\n",
    "\n",
    "# start=round_date_strings(start_date, round_type=\"start\")\n",
    "# end=round_date_strings(end_date, round_type=\"end\")\n",
    "# freq=modelled_freq\n",
    "# print (start, end, freq)\n",
    "# pd.date_range(start,end,freq=freq)\n"
   ]
  },
  {
   "cell_type": "code",
   "execution_count": 7,
   "id": "97320660-85cf-4949-82c4-a2b01fe482d7",
   "metadata": {
    "tags": []
   },
   "outputs": [],
   "source": [
    "# # Set study area and config\n",
    "# study_area = \"gulfcarpentaria3\"\n",
    "# config_path = \"configs/dea_intertidal_config_development.yaml\"\n",
    "# # study_area = '844'\n",
    "# # config_path='configs/dea_intertidal_config.yaml'"
   ]
  },
  {
   "cell_type": "markdown",
   "id": "0a336b71-0d40-46f5-a213-4b2db4737c3b",
   "metadata": {},
   "source": [
    "#### *Optional: override study area selection using interactive map*"
   ]
  },
  {
   "cell_type": "code",
   "execution_count": 8,
   "id": "5108db11-a150-493a-9635-76d57c298fda",
   "metadata": {
    "tags": []
   },
   "outputs": [
    {
     "data": {
      "application/vnd.jupyter.widget-view+json": {
       "model_id": "5e820b573c3f4a1dbe2faeacfea1750a",
       "version_major": 2,
       "version_minor": 0
      },
      "text/plain": [
       "Map(center=[-26, 135], controls=(ZoomControl(options=['position', 'zoom_in_text', 'zoom_in_title', 'zoom_out_t…"
      ]
     },
     "metadata": {},
     "output_type": "display_data"
    }
   ],
   "source": [
    "from odc.ui import select_on_a_map\n",
    "from ipyleaflet import basemaps, basemap_to_tiles\n",
    "\n",
    "# Plot interactive map to select area\n",
    "basemap = basemap_to_tiles(basemaps.Esri.WorldImagery)\n",
    "geom = select_on_a_map(height='600px',\n",
    "                       layers=(basemap,),\n",
    "                       center=(-26, 135),\n",
    "                       zoom=4)\n",
    "study_area = geom"
   ]
  },
  {
   "cell_type": "markdown",
   "id": "722d8f1b-5e02-4e71-a579-e5773cb0e3ed",
   "metadata": {},
   "source": [
    "## Intertidal workflow\n",
    "#### Load data"
   ]
  },
  {
   "cell_type": "code",
   "execution_count": 9,
   "id": "b902f104-0491-4cd9-b714-29449d6a06c2",
   "metadata": {
    "tags": []
   },
   "outputs": [
    {
     "data": {
      "text/html": [
       "<div>\n",
       "    <div style=\"width: 24px; height: 24px; background-color: #e1e1e1; border: 3px solid #9D9D9D; border-radius: 5px; position: absolute;\"> </div>\n",
       "    <div style=\"margin-left: 48px;\">\n",
       "        <h3 style=\"margin-bottom: 0px;\">Client</h3>\n",
       "        <p style=\"color: #9D9D9D; margin-bottom: 0px;\">Client-7b29558f-ae9f-11ee-8fa7-56f4e313778c</p>\n",
       "        <table style=\"width: 100%; text-align: left;\">\n",
       "\n",
       "        <tr>\n",
       "        \n",
       "            <td style=\"text-align: left;\"><strong>Connection method:</strong> Cluster object</td>\n",
       "            <td style=\"text-align: left;\"><strong>Cluster type:</strong> distributed.LocalCluster</td>\n",
       "        \n",
       "        </tr>\n",
       "\n",
       "        \n",
       "            <tr>\n",
       "                <td style=\"text-align: left;\">\n",
       "                    <strong>Dashboard: </strong> <a href=\"/user/claire.phillips@ga.gov.au/proxy/8787/status\" target=\"_blank\">/user/claire.phillips@ga.gov.au/proxy/8787/status</a>\n",
       "                </td>\n",
       "                <td style=\"text-align: left;\"></td>\n",
       "            </tr>\n",
       "        \n",
       "\n",
       "        </table>\n",
       "\n",
       "        \n",
       "            <button style=\"margin-bottom: 12px;\" data-commandlinker-command=\"dask:populate-and-launch-layout\" data-commandlinker-args='{\"url\": \"/user/claire.phillips@ga.gov.au/proxy/8787/status\" }'>\n",
       "                Launch dashboard in JupyterLab\n",
       "            </button>\n",
       "        \n",
       "\n",
       "        \n",
       "            <details>\n",
       "            <summary style=\"margin-bottom: 20px;\"><h3 style=\"display: inline;\">Cluster Info</h3></summary>\n",
       "            <div class=\"jp-RenderedHTMLCommon jp-RenderedHTML jp-mod-trusted jp-OutputArea-output\">\n",
       "    <div style=\"width: 24px; height: 24px; background-color: #e1e1e1; border: 3px solid #9D9D9D; border-radius: 5px; position: absolute;\">\n",
       "    </div>\n",
       "    <div style=\"margin-left: 48px;\">\n",
       "        <h3 style=\"margin-bottom: 0px; margin-top: 0px;\">LocalCluster</h3>\n",
       "        <p style=\"color: #9D9D9D; margin-bottom: 0px;\">3f807e37</p>\n",
       "        <table style=\"width: 100%; text-align: left;\">\n",
       "            <tr>\n",
       "                <td style=\"text-align: left;\">\n",
       "                    <strong>Dashboard:</strong> <a href=\"/user/claire.phillips@ga.gov.au/proxy/8787/status\" target=\"_blank\">/user/claire.phillips@ga.gov.au/proxy/8787/status</a>\n",
       "                </td>\n",
       "                <td style=\"text-align: left;\">\n",
       "                    <strong>Workers:</strong> 1\n",
       "                </td>\n",
       "            </tr>\n",
       "            <tr>\n",
       "                <td style=\"text-align: left;\">\n",
       "                    <strong>Total threads:</strong> 15\n",
       "                </td>\n",
       "                <td style=\"text-align: left;\">\n",
       "                    <strong>Total memory:</strong> 117.21 GiB\n",
       "                </td>\n",
       "            </tr>\n",
       "            \n",
       "            <tr>\n",
       "    <td style=\"text-align: left;\"><strong>Status:</strong> running</td>\n",
       "    <td style=\"text-align: left;\"><strong>Using processes:</strong> True</td>\n",
       "</tr>\n",
       "\n",
       "            \n",
       "        </table>\n",
       "\n",
       "        <details>\n",
       "            <summary style=\"margin-bottom: 20px;\">\n",
       "                <h3 style=\"display: inline;\">Scheduler Info</h3>\n",
       "            </summary>\n",
       "\n",
       "            <div style=\"\">\n",
       "    <div>\n",
       "        <div style=\"width: 24px; height: 24px; background-color: #FFF7E5; border: 3px solid #FF6132; border-radius: 5px; position: absolute;\"> </div>\n",
       "        <div style=\"margin-left: 48px;\">\n",
       "            <h3 style=\"margin-bottom: 0px;\">Scheduler</h3>\n",
       "            <p style=\"color: #9D9D9D; margin-bottom: 0px;\">Scheduler-9c60e217-2c0c-4ec9-a7f3-8b93e711deec</p>\n",
       "            <table style=\"width: 100%; text-align: left;\">\n",
       "                <tr>\n",
       "                    <td style=\"text-align: left;\">\n",
       "                        <strong>Comm:</strong> tcp://127.0.0.1:41919\n",
       "                    </td>\n",
       "                    <td style=\"text-align: left;\">\n",
       "                        <strong>Workers:</strong> 1\n",
       "                    </td>\n",
       "                </tr>\n",
       "                <tr>\n",
       "                    <td style=\"text-align: left;\">\n",
       "                        <strong>Dashboard:</strong> <a href=\"/user/claire.phillips@ga.gov.au/proxy/8787/status\" target=\"_blank\">/user/claire.phillips@ga.gov.au/proxy/8787/status</a>\n",
       "                    </td>\n",
       "                    <td style=\"text-align: left;\">\n",
       "                        <strong>Total threads:</strong> 15\n",
       "                    </td>\n",
       "                </tr>\n",
       "                <tr>\n",
       "                    <td style=\"text-align: left;\">\n",
       "                        <strong>Started:</strong> Just now\n",
       "                    </td>\n",
       "                    <td style=\"text-align: left;\">\n",
       "                        <strong>Total memory:</strong> 117.21 GiB\n",
       "                    </td>\n",
       "                </tr>\n",
       "            </table>\n",
       "        </div>\n",
       "    </div>\n",
       "\n",
       "    <details style=\"margin-left: 48px;\">\n",
       "        <summary style=\"margin-bottom: 20px;\">\n",
       "            <h3 style=\"display: inline;\">Workers</h3>\n",
       "        </summary>\n",
       "\n",
       "        \n",
       "        <div style=\"margin-bottom: 20px;\">\n",
       "            <div style=\"width: 24px; height: 24px; background-color: #DBF5FF; border: 3px solid #4CC9FF; border-radius: 5px; position: absolute;\"> </div>\n",
       "            <div style=\"margin-left: 48px;\">\n",
       "            <details>\n",
       "                <summary>\n",
       "                    <h4 style=\"margin-bottom: 0px; display: inline;\">Worker: 0</h4>\n",
       "                </summary>\n",
       "                <table style=\"width: 100%; text-align: left;\">\n",
       "                    <tr>\n",
       "                        <td style=\"text-align: left;\">\n",
       "                            <strong>Comm: </strong> tcp://127.0.0.1:46197\n",
       "                        </td>\n",
       "                        <td style=\"text-align: left;\">\n",
       "                            <strong>Total threads: </strong> 15\n",
       "                        </td>\n",
       "                    </tr>\n",
       "                    <tr>\n",
       "                        <td style=\"text-align: left;\">\n",
       "                            <strong>Dashboard: </strong> <a href=\"/user/claire.phillips@ga.gov.au/proxy/33087/status\" target=\"_blank\">/user/claire.phillips@ga.gov.au/proxy/33087/status</a>\n",
       "                        </td>\n",
       "                        <td style=\"text-align: left;\">\n",
       "                            <strong>Memory: </strong> 117.21 GiB\n",
       "                        </td>\n",
       "                    </tr>\n",
       "                    <tr>\n",
       "                        <td style=\"text-align: left;\">\n",
       "                            <strong>Nanny: </strong> tcp://127.0.0.1:35131\n",
       "                        </td>\n",
       "                        <td style=\"text-align: left;\"></td>\n",
       "                    </tr>\n",
       "                    <tr>\n",
       "                        <td colspan=\"2\" style=\"text-align: left;\">\n",
       "                            <strong>Local directory: </strong> /tmp/dask-worker-space/worker-pr0vtubl\n",
       "                        </td>\n",
       "                    </tr>\n",
       "\n",
       "                    \n",
       "\n",
       "                    \n",
       "\n",
       "                </table>\n",
       "            </details>\n",
       "            </div>\n",
       "        </div>\n",
       "        \n",
       "\n",
       "    </details>\n",
       "</div>\n",
       "\n",
       "        </details>\n",
       "    </div>\n",
       "</div>\n",
       "            </details>\n",
       "        \n",
       "\n",
       "    </div>\n",
       "</div>"
      ],
      "text/plain": [
       "<Client: 'tcp://127.0.0.1:41919' processes=1 threads=15, memory=117.21 GiB>"
      ]
     },
     "metadata": {},
     "output_type": "display_data"
    },
    {
     "name": "stderr",
     "output_type": "stream",
     "text": [
      "/env/lib/python3.10/site-packages/datacube/drivers/driver_cache.py:54: DeprecationWarning: pkg_resources is deprecated as an API. See https://setuptools.pypa.io/en/latest/pkg_resources.html\n",
      "  from pkg_resources import iter_entry_points\n",
      "/env/lib/python3.10/site-packages/rasterio/warp.py:344: NotGeoreferencedWarning: Dataset has no geotransform, gcps, or rpcs. The identity matrix will be returned.\n",
      "  _reproject(\n"
     ]
    }
   ],
   "source": [
    "# Connect to datacube\n",
    "dc = datacube.Datacube(app=\"Intertidal_workflow\")\n",
    "\n",
    "# Create local dask cluster to improve data load time\n",
    "client = create_local_dask_cluster(return_client=True)\n",
    "\n",
    "# satellite_ds = load_data(\n",
    "#     dc=dc,\n",
    "#     study_area=study_area,\n",
    "#     time_range=(start_date, end_date),\n",
    "#     resolution=resolution,\n",
    "#     crs=crs,\n",
    "#     s2_prod=\"s2_nbart_ndwi\" if include_s2 else None,\n",
    "#     ls_prod=\"ls_nbart_ndwi\" if include_ls else None,\n",
    "#     config_path=config_path,\n",
    "#     filter_gqa=filter_gqa)[[\"ndwi\"]]\n",
    "\n",
    "satellite_ds = load_data(\n",
    "    dc=dc,\n",
    "    study_area=study_area,\n",
    "    geom=geom,\n",
    "    time_range=(start_date, end_date),\n",
    "    resolution=resolution,\n",
    "    crs=crs,\n",
    "    include_s2=True,\n",
    "    include_ls=True,\n",
    "    filter_gqa=filter_gqa,\n",
    "    max_cloudcover=90,\n",
    "    skip_broken_datasets=True,\n",
    ")\n",
    "\n",
    "# Load data and close dask client\n",
    "satellite_ds.load()\n",
    "client.close()"
   ]
  },
  {
   "cell_type": "markdown",
   "id": "dfae8a1c-bba8-4e51-93bb-9429ca36ec6f",
   "metadata": {},
   "source": [
    "### Load optional topobathy mask\n",
    "Loads a topo-bathymetric DEM for the extents of the loaded satellite data.\n",
    "This is used as a coarse mask to constrain the analysis to the coastal zone, improving run time and reducing clear false positives over deep water or elevated land."
   ]
  },
  {
   "cell_type": "code",
   "execution_count": 10,
   "id": "65662f45-afc4-4636-9ed3-f37e2d4b3c34",
   "metadata": {
    "tags": []
   },
   "outputs": [],
   "source": [
    "# Load data from GA's Australian Bathymetry and Topography Grid 2009\n",
    "topobathy_ds = load_topobathy(\n",
    "    dc, satellite_ds, product=\"ga_multi_ausbath_0\", resampling=\"bilinear\"\n",
    ")"
   ]
  },
  {
   "cell_type": "markdown",
   "id": "c163b0f0-5431-43e7-ba8e-378bd991c084",
   "metadata": {},
   "source": [
    "### Intertidal elevation\n",
    "To run without the topobathy DEM mask, comment out `valid_mask=...`."
   ]
  },
  {
   "cell_type": "code",
   "execution_count": 11,
   "id": "fa9bee00-cab0-43c8-8a4d-226dd5773ac0",
   "metadata": {
    "tags": []
   },
   "outputs": [
    {
     "name": "stderr",
     "output_type": "stream",
     "text": [
      "2024-01-09 03:32:25 INFO Modelling tide heights for each pixel\n"
     ]
    },
    {
     "name": "stdout",
     "output_type": "stream",
     "text": [
      "Creating reduced resolution 5000 x 5000 metre tide modelling array\n",
      "Modelling tides using FES2014, FES2012, TPXO8-atlas-v1, TPXO9-atlas-v5, EOT20, HAMTIDE11, GOT4.10 in parallel\n"
     ]
    },
    {
     "name": "stderr",
     "output_type": "stream",
     "text": [
      "100%|██████████| 35/35 [00:20<00:00,  1.67it/s]\n"
     ]
    },
    {
     "name": "stdout",
     "output_type": "stream",
     "text": [
      "Returning low resolution tide array\n",
      "Generating ensemble tide model from point inputs\n"
     ]
    },
    {
     "name": "stderr",
     "output_type": "stream",
     "text": [
      "2024-01-09 03:32:51 INFO Masking nodata and adding tide heights to satellite data array\n",
      "2024-01-09 03:32:51 INFO Flattening satellite data array and filtering to intertidal candidate pixels\n",
      "2024-01-09 03:32:51 INFO Applying valid data mask to constrain study area\n",
      "2024-01-09 03:32:51 INFO Running per-pixel rolling median\n"
     ]
    },
    {
     "name": "stdout",
     "output_type": "stream",
     "text": [
      "Reducing analysed pixels from 100 to 37 (37.00%)\n"
     ]
    },
    {
     "data": {
      "application/vnd.jupyter.widget-view+json": {
       "model_id": "0d209bcef1e7432cb3c7490793fa37ce",
       "version_major": 2,
       "version_minor": 0
      },
      "text/plain": [
       "  0%|          | 0/105 [00:00<?, ?it/s]"
      ]
     },
     "metadata": {},
     "output_type": "display_data"
    },
    {
     "name": "stderr",
     "output_type": "stream",
     "text": [
      "2024-01-09 03:32:53 INFO Modelling intertidal elevation\n",
      "2024-01-09 03:32:54 INFO Modelling intertidal uncertainty\n",
      "2024-01-09 03:32:54 INFO Unflattening data back to its original spatial dimensions\n",
      "2024-01-09 03:32:54 INFO Cleaning inaccurate upper intertidal pixels\n",
      "2024-01-09 03:32:54 INFO Successfully completed intertidal elevation modelling\n"
     ]
    },
    {
     "name": "stdout",
     "output_type": "stream",
     "text": [
      "Applying tidal interval interpolation to 200 intervals\n",
      "Applying rolling mean smoothing with radius 20\n"
     ]
    }
   ],
   "source": [
    "# Model elevation for each pixel\n",
    "ds, ds_aux, tide_m = elevation(\n",
    "    satellite_ds,\n",
    "    valid_mask=topobathy_ds.height_depth > -20,\n",
    "    tide_model=tide_model,\n",
    "    tide_model_dir=tide_model_dir,\n",
    "    # config_path=config_path,\n",
    ")"
   ]
  },
  {
   "cell_type": "markdown",
   "id": "96a26983-d98b-4d77-a603-183ad70a27d7",
   "metadata": {},
   "source": [
    "### Intertidal extents"
   ]
  },
  {
   "cell_type": "code",
   "execution_count": 12,
   "id": "642ab47c-aff1-47cb-84e6-a3f884674d5b",
   "metadata": {
    "tags": []
   },
   "outputs": [],
   "source": [
    "ds['extents'] = extents(\n",
    "    freq=ds_aux.ndwi_wet_freq, dem=ds.elevation, corr=ds_aux.ndwi_tide_corr)"
   ]
  },
  {
   "cell_type": "code",
   "execution_count": 13,
   "id": "4c3eca37-7d37-4240-aa45-249c6d2d341e",
   "metadata": {
    "tags": []
   },
   "outputs": [],
   "source": [
    "# ## Plot\n",
    "# labels=['0 Dry',\n",
    "#        '1 Intermittent\\n   wet\\n   inland',\n",
    "#        '2 Wet inland',\n",
    "#        '3 Wet ocean',\n",
    "#        '4 Intertidal lc',\n",
    "#        '5 Intertidal hc',\n",
    "#        ]\n",
    "\n",
    "# fig,ax=plt.subplots(figsize=(12,8))\n",
    "# cax=ax.imshow(ds['extents'], cmap='terrain_r')\n",
    "# cbar=fig.colorbar(cax, ticks=[0,1,2,3,4,5])\n",
    "# cbar.ax.set_yticklabels(labels)\n",
    "# plt.show()"
   ]
  },
  {
   "cell_type": "markdown",
   "id": "96203122-38b4-44d3-9ae1-1fbab0123537",
   "metadata": {},
   "source": [
    "### Intertidal exposure\n",
    "Calculate exposure using the script function"
   ]
  },
  {
   "cell_type": "code",
   "execution_count": 14,
   "id": "75483d43-64d8-490e-b58b-bfa7ce8ff2ed",
   "metadata": {
    "tags": []
   },
   "outputs": [
    {
     "name": "stdout",
     "output_type": "stream",
     "text": [
      "Creating reduced resolution 5000 x 5000 metre tide modelling array\n",
      "Modelling tides using FES2014, FES2012, TPXO8-atlas-v1, TPXO9-atlas-v5, EOT20, HAMTIDE11, GOT4.10 in parallel\n"
     ]
    },
    {
     "name": "stderr",
     "output_type": "stream",
     "text": [
      "100%|██████████| 35/35 [01:28<00:00,  2.53s/it]\n"
     ]
    },
    {
     "name": "stdout",
     "output_type": "stream",
     "text": [
      "Computing tide quantiles\n",
      "Returning low resolution tide array\n",
      "Generating ensemble tide model from point inputs\n"
     ]
    }
   ],
   "source": [
    "## Calculate exposure without the addition of any filters\n",
    "\n",
    "ds[\"exposure\"], tide_cq = exposure(\n",
    "    dem=ds.elevation,\n",
    "    time_range=all_timerange,\n",
    "    tide_model=tide_model,\n",
    "    tide_model_dir=tide_model_dir,\n",
    ")"
   ]
  },
  {
   "cell_type": "code",
   "execution_count": 16,
   "id": "483f05b8-e9df-4140-9bdb-220b78c96903",
   "metadata": {
    "tags": []
   },
   "outputs": [
    {
     "data": {
      "text/plain": [
       "<matplotlib.collections.QuadMesh at 0x7f5f233cab00>"
      ]
     },
     "execution_count": 16,
     "metadata": {},
     "output_type": "execute_result"
    },
    {
     "data": {
      "image/png": "[encoded data removed]",
      "text/plain": [
       "<Figure size 640x480 with 2 Axes>"
      ]
     },
     "metadata": {},
     "output_type": "display_data"
    }
   ],
   "source": [
    "ds.exposure.plot()"
   ]
  },
  {
   "cell_type": "code",
   "execution_count": 58,
   "id": "72b88bf7-72ae-4132-9317-10a0d7d7c3ef",
   "metadata": {
    "tags": []
   },
   "outputs": [
    {
     "name": "stdout",
     "output_type": "stream",
     "text": [
      "Creating reduced resolution 5000 x 5000 metre tide modelling array\n",
      "Modelling tides using FES2014, FES2012, TPXO8-atlas-v1, TPXO9-atlas-v5, EOT20, HAMTIDE11, GOT4.10 in parallel\n"
     ]
    },
    {
     "name": "stderr",
     "output_type": "stream",
     "text": [
      "100%|██████████| 35/35 [00:25<00:00,  1.36it/s]\n"
     ]
    },
    {
     "name": "stdout",
     "output_type": "stream",
     "text": [
      "Computing tide quantiles\n",
      "Returning low resolution tide array\n",
      "Generating ensemble tide model from point inputs\n",
      "Creating reduced resolution 5000 x 5000 metre tide modelling array\n",
      "Modelling tides using FES2014, FES2012, TPXO8-atlas-v1, TPXO9-atlas-v5, EOT20, HAMTIDE11, GOT4.10 in parallel\n"
     ]
    },
    {
     "name": "stderr",
     "output_type": "stream",
     "text": [
      "100%|██████████| 35/35 [00:32<00:00,  1.09it/s]\n"
     ]
    },
    {
     "name": "stdout",
     "output_type": "stream",
     "text": [
      "Computing tide quantiles\n",
      "Returning low resolution tide array\n",
      "Generating ensemble tide model from point inputs\n"
     ]
    }
   ],
   "source": [
    "## Testing exposure filtering script\n",
    "\n",
    "%reload_ext autoreload\n",
    "\n",
    "# Nominate which filters to use for exposure calculation\n",
    "filters = ['Mar', 'Daylight']\n",
    "\n",
    "exposure, tide_cq_summer, tiderange_summer = exposure1(\n",
    "    start_date=start_date,\n",
    "    end_date=end_date,\n",
    "    dem=ds.elevation,\n",
    "    time_range=all_timerange,\n",
    "    tide_model=tide_model,\n",
    "    tide_model_dir=tide_model_dir,\n",
    "    filters = filters\n",
    ")\n",
    "\n",
    "# for x in filters:\n",
    "#     ds['exposure_'+str(x)]=exposure[str(x)]"
   ]
  },
  {
   "cell_type": "code",
   "execution_count": 59,
   "id": "0138c7b3-1927-4304-aa7f-1747be1e6b51",
   "metadata": {
    "tags": []
   },
   "outputs": [
    {
     "data": {
      "text/html": [
       "<div><svg style=\"position: absolute; width: 0; height: 0; overflow: hidden\">\n",
       "<defs>\n",
       "<symbol id=\"icon-database\" viewBox=\"0 0 32 32\">\n",
       "<path d=\"M16 0c-8.837 0-16 2.239-16 5v4c0 2.761 7.163 5 16 5s16-2.239 16-5v-4c0-2.761-7.163-5-16-5z\"></path>\n",
       "<path d=\"M16 17c-8.837 0-16-2.239-16-5v6c0 2.761 7.163 5 16 5s16-2.239 16-5v-6c0 2.761-7.163 5-16 5z\"></path>\n",
       "<path d=\"M16 26c-8.837 0-16-2.239-16-5v6c0 2.761 7.163 5 16 5s16-2.239 16-5v-6c0 2.761-7.163 5-16 5z\"></path>\n",
       "</symbol>\n",
       "<symbol id=\"icon-file-text2\" viewBox=\"0 0 32 32\">\n",
       "<path d=\"M28.681 7.159c-0.694-0.947-1.662-2.053-2.724-3.116s-2.169-2.030-3.116-2.724c-1.612-1.182-2.393-1.319-2.841-1.319h-15.5c-1.378 0-2.5 1.121-2.5 2.5v27c0 1.378 1.122 2.5 2.5 2.5h23c1.378 0 2.5-1.122 2.5-2.5v-19.5c0-0.448-0.137-1.23-1.319-2.841zM24.543 5.457c0.959 0.959 1.712 1.825 2.268 2.543h-4.811v-4.811c0.718 0.556 1.584 1.309 2.543 2.268zM28 29.5c0 0.271-0.229 0.5-0.5 0.5h-23c-0.271 0-0.5-0.229-0.5-0.5v-27c0-0.271 0.229-0.5 0.5-0.5 0 0 15.499-0 15.5 0v7c0 0.552 0.448 1 1 1h7v19.5z\"></path>\n",
       "<path d=\"M23 26h-14c-0.552 0-1-0.448-1-1s0.448-1 1-1h14c0.552 0 1 0.448 1 1s-0.448 1-1 1z\"></path>\n",
       "<path d=\"M23 22h-14c-0.552 0-1-0.448-1-1s0.448-1 1-1h14c0.552 0 1 0.448 1 1s-0.448 1-1 1z\"></path>\n",
       "<path d=\"M23 18h-14c-0.552 0-1-0.448-1-1s0.448-1 1-1h14c0.552 0 1 0.448 1 1s-0.448 1-1 1z\"></path>\n",
       "</symbol>\n",
       "</defs>\n",
       "</svg>\n",
       "<style>/* CSS stylesheet for displaying xarray objects in jupyterlab.\n",
       " *\n",
       " */\n",
       "\n",
       ":root {\n",
       "  --xr-font-color0: var(--jp-content-font-color0, rgba(0, 0, 0, 1));\n",
       "  --xr-font-color2: var(--jp-content-font-color2, rgba(0, 0, 0, 0.54));\n",
       "  --xr-font-color3: var(--jp-content-font-color3, rgba(0, 0, 0, 0.38));\n",
       "  --xr-border-color: var(--jp-border-color2, #e0e0e0);\n",
       "  --xr-disabled-color: var(--jp-layout-color3, #bdbdbd);\n",
       "  --xr-background-color: var(--jp-layout-color0, white);\n",
       "  --xr-background-color-row-even: var(--jp-layout-color1, white);\n",
       "  --xr-background-color-row-odd: var(--jp-layout-color2, #eeeeee);\n",
       "}\n",
       "\n",
       "html[theme=dark],\n",
       "body[data-theme=dark],\n",
       "body.vscode-dark {\n",
       "  --xr-font-color0: rgba(255, 255, 255, 1);\n",
       "  --xr-font-color2: rgba(255, 255, 255, 0.54);\n",
       "  --xr-font-color3: rgba(255, 255, 255, 0.38);\n",
       "  --xr-border-color: #1F1F1F;\n",
       "  --xr-disabled-color: #515151;\n",
       "  --xr-background-color: #111111;\n",
       "  --xr-background-color-row-even: #111111;\n",
       "  --xr-background-color-row-odd: #313131;\n",
       "}\n",
       "\n",
       ".xr-wrap {\n",
       "  display: block !important;\n",
       "  min-width: 300px;\n",
       "  max-width: 700px;\n",
       "}\n",
       "\n",
       ".xr-text-repr-fallback {\n",
       "  /* fallback to plain text repr when CSS is not injected (untrusted notebook) */\n",
       "  display: none;\n",
       "}\n",
       "\n",
       ".xr-header {\n",
       "  padding-top: 6px;\n",
       "  padding-bottom: 6px;\n",
       "  margin-bottom: 4px;\n",
       "  border-bottom: solid 1px var(--xr-border-color);\n",
       "}\n",
       "\n",
       ".xr-header > div,\n",
       ".xr-header > ul {\n",
       "  display: inline;\n",
       "  margin-top: 0;\n",
       "  margin-bottom: 0;\n",
       "}\n",
       "\n",
       ".xr-obj-type,\n",
       ".xr-array-name {\n",
       "  margin-left: 2px;\n",
       "  margin-right: 10px;\n",
       "}\n",
       "\n",
       ".xr-obj-type {\n",
       "  color: var(--xr-font-color2);\n",
       "}\n",
       "\n",
       ".xr-sections {\n",
       "  padding-left: 0 !important;\n",
       "  display: grid;\n",
       "  grid-template-columns: 150px auto auto 1fr 20px 20px;\n",
       "}\n",
       "\n",
       ".xr-section-item {\n",
       "  display: contents;\n",
       "}\n",
       "\n",
       ".xr-section-item input {\n",
       "  display: none;\n",
       "}\n",
       "\n",
       ".xr-section-item input + label {\n",
       "  color: var(--xr-disabled-color);\n",
       "}\n",
       "\n",
       ".xr-section-item input:enabled + label {\n",
       "  cursor: pointer;\n",
       "  color: var(--xr-font-color2);\n",
       "}\n",
       "\n",
       ".xr-section-item input:enabled + label:hover {\n",
       "  color: var(--xr-font-color0);\n",
       "}\n",
       "\n",
       ".xr-section-summary {\n",
       "  grid-column: 1;\n",
       "  color: var(--xr-font-color2);\n",
       "  font-weight: 500;\n",
       "}\n",
       "\n",
       ".xr-section-summary > span {\n",
       "  display: inline-block;\n",
       "  padding-left: 0.5em;\n",
       "}\n",
       "\n",
       ".xr-section-summary-in:disabled + label {\n",
       "  color: var(--xr-font-color2);\n",
       "}\n",
       "\n",
       ".xr-section-summary-in + label:before {\n",
       "  display: inline-block;\n",
       "  content: '►';\n",
       "  font-size: 11px;\n",
       "  width: 15px;\n",
       "  text-align: center;\n",
       "}\n",
       "\n",
       ".xr-section-summary-in:disabled + label:before {\n",
       "  color: var(--xr-disabled-color);\n",
       "}\n",
       "\n",
       ".xr-section-summary-in:checked + label:before {\n",
       "  content: '▼';\n",
       "}\n",
       "\n",
       ".xr-section-summary-in:checked + label > span {\n",
       "  display: none;\n",
       "}\n",
       "\n",
       ".xr-section-summary,\n",
       ".xr-section-inline-details {\n",
       "  padding-top: 4px;\n",
       "  padding-bottom: 4px;\n",
       "}\n",
       "\n",
       ".xr-section-inline-details {\n",
       "  grid-column: 2 / -1;\n",
       "}\n",
       "\n",
       ".xr-section-details {\n",
       "  display: none;\n",
       "  grid-column: 1 / -1;\n",
       "  margin-bottom: 5px;\n",
       "}\n",
       "\n",
       ".xr-section-summary-in:checked ~ .xr-section-details {\n",
       "  display: contents;\n",
       "}\n",
       "\n",
       ".xr-array-wrap {\n",
       "  grid-column: 1 / -1;\n",
       "  display: grid;\n",
       "  grid-template-columns: 20px auto;\n",
       "}\n",
       "\n",
       ".xr-array-wrap > label {\n",
       "  grid-column: 1;\n",
       "  vertical-align: top;\n",
       "}\n",
       "\n",
       ".xr-preview {\n",
       "  color: var(--xr-font-color3);\n",
       "}\n",
       "\n",
       ".xr-array-preview,\n",
       ".xr-array-data {\n",
       "  padding: 0 5px !important;\n",
       "  grid-column: 2;\n",
       "}\n",
       "\n",
       ".xr-array-data,\n",
       ".xr-array-in:checked ~ .xr-array-preview {\n",
       "  display: none;\n",
       "}\n",
       "\n",
       ".xr-array-in:checked ~ .xr-array-data,\n",
       ".xr-array-preview {\n",
       "  display: inline-block;\n",
       "}\n",
       "\n",
       ".xr-dim-list {\n",
       "  display: inline-block !important;\n",
       "  list-style: none;\n",
       "  padding: 0 !important;\n",
       "  margin: 0;\n",
       "}\n",
       "\n",
       ".xr-dim-list li {\n",
       "  display: inline-block;\n",
       "  padding: 0;\n",
       "  margin: 0;\n",
       "}\n",
       "\n",
       ".xr-dim-list:before {\n",
       "  content: '(';\n",
       "}\n",
       "\n",
       ".xr-dim-list:after {\n",
       "  content: ')';\n",
       "}\n",
       "\n",
       ".xr-dim-list li:not(:last-child):after {\n",
       "  content: ',';\n",
       "  padding-right: 5px;\n",
       "}\n",
       "\n",
       ".xr-has-index {\n",
       "  font-weight: bold;\n",
       "}\n",
       "\n",
       ".xr-var-list,\n",
       ".xr-var-item {\n",
       "  display: contents;\n",
       "}\n",
       "\n",
       ".xr-var-item > div,\n",
       ".xr-var-item label,\n",
       ".xr-var-item > .xr-var-name span {\n",
       "  background-color: var(--xr-background-color-row-even);\n",
       "  margin-bottom: 0;\n",
       "}\n",
       "\n",
       ".xr-var-item > .xr-var-name:hover span {\n",
       "  padding-right: 5px;\n",
       "}\n",
       "\n",
       ".xr-var-list > li:nth-child(odd) > div,\n",
       ".xr-var-list > li:nth-child(odd) > label,\n",
       ".xr-var-list > li:nth-child(odd) > .xr-var-name span {\n",
       "  background-color: var(--xr-background-color-row-odd);\n",
       "}\n",
       "\n",
       ".xr-var-name {\n",
       "  grid-column: 1;\n",
       "}\n",
       "\n",
       ".xr-var-dims {\n",
       "  grid-column: 2;\n",
       "}\n",
       "\n",
       ".xr-var-dtype {\n",
       "  grid-column: 3;\n",
       "  text-align: right;\n",
       "  color: var(--xr-font-color2);\n",
       "}\n",
       "\n",
       ".xr-var-preview {\n",
       "  grid-column: 4;\n",
       "}\n",
       "\n",
       ".xr-index-preview {\n",
       "  grid-column: 2 / 5;\n",
       "  color: var(--xr-font-color2);\n",
       "}\n",
       "\n",
       ".xr-var-name,\n",
       ".xr-var-dims,\n",
       ".xr-var-dtype,\n",
       ".xr-preview,\n",
       ".xr-attrs dt {\n",
       "  white-space: nowrap;\n",
       "  overflow: hidden;\n",
       "  text-overflow: ellipsis;\n",
       "  padding-right: 10px;\n",
       "}\n",
       "\n",
       ".xr-var-name:hover,\n",
       ".xr-var-dims:hover,\n",
       ".xr-var-dtype:hover,\n",
       ".xr-attrs dt:hover {\n",
       "  overflow: visible;\n",
       "  width: auto;\n",
       "  z-index: 1;\n",
       "}\n",
       "\n",
       ".xr-var-attrs,\n",
       ".xr-var-data,\n",
       ".xr-index-data {\n",
       "  display: none;\n",
       "  background-color: var(--xr-background-color) !important;\n",
       "  padding-bottom: 5px !important;\n",
       "}\n",
       "\n",
       ".xr-var-attrs-in:checked ~ .xr-var-attrs,\n",
       ".xr-var-data-in:checked ~ .xr-var-data,\n",
       ".xr-index-data-in:checked ~ .xr-index-data {\n",
       "  display: block;\n",
       "}\n",
       "\n",
       ".xr-var-data > table {\n",
       "  float: right;\n",
       "}\n",
       "\n",
       ".xr-var-name span,\n",
       ".xr-var-data,\n",
       ".xr-index-name div,\n",
       ".xr-index-data,\n",
       ".xr-attrs {\n",
       "  padding-left: 25px !important;\n",
       "}\n",
       "\n",
       ".xr-attrs,\n",
       ".xr-var-attrs,\n",
       ".xr-var-data,\n",
       ".xr-index-data {\n",
       "  grid-column: 1 / -1;\n",
       "}\n",
       "\n",
       "dl.xr-attrs {\n",
       "  padding: 0;\n",
       "  margin: 0;\n",
       "  display: grid;\n",
       "  grid-template-columns: 125px auto;\n",
       "}\n",
       "\n",
       ".xr-attrs dt,\n",
       ".xr-attrs dd {\n",
       "  padding: 0;\n",
       "  margin: 0;\n",
       "  float: left;\n",
       "  padding-right: 10px;\n",
       "  width: auto;\n",
       "}\n",
       "\n",
       ".xr-attrs dt {\n",
       "  font-weight: normal;\n",
       "  grid-column: 1;\n",
       "}\n",
       "\n",
       ".xr-attrs dt:hover span {\n",
       "  display: inline-block;\n",
       "  background: var(--xr-background-color);\n",
       "  padding-right: 10px;\n",
       "}\n",
       "\n",
       ".xr-attrs dd {\n",
       "  grid-column: 2;\n",
       "  white-space: pre-wrap;\n",
       "  word-break: break-all;\n",
       "}\n",
       "\n",
       ".xr-icon-database,\n",
       ".xr-icon-file-text2,\n",
       ".xr-no-icon {\n",
       "  display: inline-block;\n",
       "  vertical-align: middle;\n",
       "  width: 1em;\n",
       "  height: 1.5em !important;\n",
       "  stroke-width: 0;\n",
       "  stroke: currentColor;\n",
       "  fill: currentColor;\n",
       "}\n",
       "</style><pre class='xr-text-repr-fallback'>&lt;xarray.Dataset&gt;\n",
       "Dimensions:      (y: 10, x: 10)\n",
       "Coordinates:\n",
       "  * y            (y) float64 -2.749e+06 -2.749e+06 ... -2.751e+06 -2.751e+06\n",
       "  * x            (x) float64 1.956e+06 1.956e+06 ... 1.959e+06 1.959e+06\n",
       "    spatial_ref  int32 3577\n",
       "    band         int64 1\n",
       "Data variables:\n",
       "    Mar          (y, x) float64 nan 39.0 17.8 nan 34.6 ... nan nan nan nan nan\n",
       "    Daylight     (y, x) float64 nan 39.5 16.6 nan 34.8 ... nan nan nan nan nan</pre><div class='xr-wrap' style='display:none'><div class='xr-header'><div class='xr-obj-type'>xarray.Dataset</div></div><ul class='xr-sections'><li class='xr-section-item'><input id='section-c88ab921-fa9f-4c95-8479-946f8f8c220f' class='xr-section-summary-in' type='checkbox' disabled ><label for='section-c88ab921-fa9f-4c95-8479-946f8f8c220f' class='xr-section-summary'  title='Expand/collapse section'>Dimensions:</label><div class='xr-section-inline-details'><ul class='xr-dim-list'><li><span class='xr-has-index'>y</span>: 10</li><li><span class='xr-has-index'>x</span>: 10</li></ul></div><div class='xr-section-details'></div></li><li class='xr-section-item'><input id='section-f6562569-b7fb-494e-8f25-198538b43eb6' class='xr-section-summary-in' type='checkbox'  checked><label for='section-f6562569-b7fb-494e-8f25-198538b43eb6' class='xr-section-summary' >Coordinates: <span>(4)</span></label><div class='xr-section-inline-details'></div><div class='xr-section-details'><ul class='xr-var-list'><li class='xr-var-item'><div class='xr-var-name'><span class='xr-has-index'>y</span></div><div class='xr-var-dims'>(y)</div><div class='xr-var-dtype'>float64</div><div class='xr-var-preview xr-preview'>-2.749e+06 ... -2.751e+06</div><input id='attrs-add7e71b-6d63-4100-9880-339c710c689f' class='xr-var-attrs-in' type='checkbox' ><label for='attrs-add7e71b-6d63-4100-9880-339c710c689f' title='Show/Hide attributes'><svg class='icon xr-icon-file-text2'><use xlink:href='#icon-file-text2'></use></svg></label><input id='data-7ccca6c3-d91c-41da-963a-4304594475f6' class='xr-var-data-in' type='checkbox'><label for='data-7ccca6c3-d91c-41da-963a-4304594475f6' title='Show/Hide data repr'><svg class='icon xr-icon-database'><use xlink:href='#icon-database'></use></svg></label><div class='xr-var-attrs'><dl class='xr-attrs'><dt><span>units :</span></dt><dd>metre</dd><dt><span>resolution :</span></dt><dd>-300.0</dd><dt><span>crs :</span></dt><dd>PROJCS[&quot;GDA94 / Australian Albers&quot;,GEOGCS[&quot;GDA94&quot;,DATUM[&quot;Geocentric_Datum_of_Australia_1994&quot;,SPHEROID[&quot;GRS 1980&quot;,6378137,298.257222101,AUTHORITY[&quot;EPSG&quot;,&quot;7019&quot;]],AUTHORITY[&quot;EPSG&quot;,&quot;6283&quot;]],PRIMEM[&quot;Greenwich&quot;,0,AUTHORITY[&quot;EPSG&quot;,&quot;8901&quot;]],UNIT[&quot;degree&quot;,0.0174532925199433,AUTHORITY[&quot;EPSG&quot;,&quot;9122&quot;]],AUTHORITY[&quot;EPSG&quot;,&quot;4283&quot;]],PROJECTION[&quot;Albers_Conic_Equal_Area&quot;],PARAMETER[&quot;latitude_of_center&quot;,0],PARAMETER[&quot;longitude_of_center&quot;,132],PARAMETER[&quot;standard_parallel_1&quot;,-18],PARAMETER[&quot;standard_parallel_2&quot;,-36],PARAMETER[&quot;false_easting&quot;,0],PARAMETER[&quot;false_northing&quot;,0],UNIT[&quot;metre&quot;,1,AUTHORITY[&quot;EPSG&quot;,&quot;9001&quot;]],AXIS[&quot;Easting&quot;,EAST],AXIS[&quot;Northing&quot;,NORTH],AUTHORITY[&quot;EPSG&quot;,&quot;3577&quot;]]</dd></dl></div><div class='xr-var-data'><pre>array([-2748750., -2749050., -2749350., -2749650., -2749950., -2750250.,\n",
       "       -2750550., -2750850., -2751150., -2751450.])</pre></div></li><li class='xr-var-item'><div class='xr-var-name'><span class='xr-has-index'>x</span></div><div class='xr-var-dims'>(x)</div><div class='xr-var-dtype'>float64</div><div class='xr-var-preview xr-preview'>1.956e+06 1.956e+06 ... 1.959e+06</div><input id='attrs-105ef77c-331f-4b8f-ae53-636139f7673b' class='xr-var-attrs-in' type='checkbox' ><label for='attrs-105ef77c-331f-4b8f-ae53-636139f7673b' title='Show/Hide attributes'><svg class='icon xr-icon-file-text2'><use xlink:href='#icon-file-text2'></use></svg></label><input id='data-45ec6111-a478-4d62-9ba0-c45cb9cc0861' class='xr-var-data-in' type='checkbox'><label for='data-45ec6111-a478-4d62-9ba0-c45cb9cc0861' title='Show/Hide data repr'><svg class='icon xr-icon-database'><use xlink:href='#icon-database'></use></svg></label><div class='xr-var-attrs'><dl class='xr-attrs'><dt><span>units :</span></dt><dd>metre</dd><dt><span>resolution :</span></dt><dd>300.0</dd><dt><span>crs :</span></dt><dd>PROJCS[&quot;GDA94 / Australian Albers&quot;,GEOGCS[&quot;GDA94&quot;,DATUM[&quot;Geocentric_Datum_of_Australia_1994&quot;,SPHEROID[&quot;GRS 1980&quot;,6378137,298.257222101,AUTHORITY[&quot;EPSG&quot;,&quot;7019&quot;]],AUTHORITY[&quot;EPSG&quot;,&quot;6283&quot;]],PRIMEM[&quot;Greenwich&quot;,0,AUTHORITY[&quot;EPSG&quot;,&quot;8901&quot;]],UNIT[&quot;degree&quot;,0.0174532925199433,AUTHORITY[&quot;EPSG&quot;,&quot;9122&quot;]],AUTHORITY[&quot;EPSG&quot;,&quot;4283&quot;]],PROJECTION[&quot;Albers_Conic_Equal_Area&quot;],PARAMETER[&quot;latitude_of_center&quot;,0],PARAMETER[&quot;longitude_of_center&quot;,132],PARAMETER[&quot;standard_parallel_1&quot;,-18],PARAMETER[&quot;standard_parallel_2&quot;,-36],PARAMETER[&quot;false_easting&quot;,0],PARAMETER[&quot;false_northing&quot;,0],UNIT[&quot;metre&quot;,1,AUTHORITY[&quot;EPSG&quot;,&quot;9001&quot;]],AXIS[&quot;Easting&quot;,EAST],AXIS[&quot;Northing&quot;,NORTH],AUTHORITY[&quot;EPSG&quot;,&quot;3577&quot;]]</dd></dl></div><div class='xr-var-data'><pre>array([1956150., 1956450., 1956750., 1957050., 1957350., 1957650., 1957950.,\n",
       "       1958250., 1958550., 1958850.])</pre></div></li><li class='xr-var-item'><div class='xr-var-name'><span>spatial_ref</span></div><div class='xr-var-dims'>()</div><div class='xr-var-dtype'>int32</div><div class='xr-var-preview xr-preview'>3577</div><input id='attrs-6fecdbaa-f8e8-4bf6-a402-febd64165740' class='xr-var-attrs-in' type='checkbox' ><label for='attrs-6fecdbaa-f8e8-4bf6-a402-febd64165740' title='Show/Hide attributes'><svg class='icon xr-icon-file-text2'><use xlink:href='#icon-file-text2'></use></svg></label><input id='data-4eb48e11-21ed-4603-831e-327eccf9b4a5' class='xr-var-data-in' type='checkbox'><label for='data-4eb48e11-21ed-4603-831e-327eccf9b4a5' title='Show/Hide data repr'><svg class='icon xr-icon-database'><use xlink:href='#icon-database'></use></svg></label><div class='xr-var-attrs'><dl class='xr-attrs'><dt><span>spatial_ref :</span></dt><dd>PROJCRS[&quot;GDA94 / Australian Albers&quot;,BASEGEOGCRS[&quot;GDA94&quot;,DATUM[&quot;Geocentric Datum of Australia 1994&quot;,ELLIPSOID[&quot;GRS 1980&quot;,6378137,298.257222101,LENGTHUNIT[&quot;metre&quot;,1]]],PRIMEM[&quot;Greenwich&quot;,0,ANGLEUNIT[&quot;degree&quot;,0.0174532925199433]],ID[&quot;EPSG&quot;,4283]],CONVERSION[&quot;unnamed&quot;,METHOD[&quot;Albers Equal Area&quot;,ID[&quot;EPSG&quot;,9822]],PARAMETER[&quot;Latitude of false origin&quot;,0,ANGLEUNIT[&quot;degree&quot;,0.0174532925199433],ID[&quot;EPSG&quot;,8821]],PARAMETER[&quot;Longitude of false origin&quot;,132,ANGLEUNIT[&quot;degree&quot;,0.0174532925199433],ID[&quot;EPSG&quot;,8822]],PARAMETER[&quot;Latitude of 1st standard parallel&quot;,-18,ANGLEUNIT[&quot;degree&quot;,0.0174532925199433],ID[&quot;EPSG&quot;,8823]],PARAMETER[&quot;Latitude of 2nd standard parallel&quot;,-36,ANGLEUNIT[&quot;degree&quot;,0.0174532925199433],ID[&quot;EPSG&quot;,8824]],PARAMETER[&quot;Easting at false origin&quot;,0,LENGTHUNIT[&quot;metre&quot;,1],ID[&quot;EPSG&quot;,8826]],PARAMETER[&quot;Northing at false origin&quot;,0,LENGTHUNIT[&quot;metre&quot;,1],ID[&quot;EPSG&quot;,8827]]],CS[Cartesian,2],AXIS[&quot;easting&quot;,east,ORDER[1],LENGTHUNIT[&quot;metre&quot;,1]],AXIS[&quot;northing&quot;,north,ORDER[2],LENGTHUNIT[&quot;metre&quot;,1]],ID[&quot;EPSG&quot;,3577]]</dd><dt><span>crs_wkt :</span></dt><dd>PROJCRS[&quot;GDA94 / Australian Albers&quot;,BASEGEOGCRS[&quot;GDA94&quot;,DATUM[&quot;Geocentric Datum of Australia 1994&quot;,ELLIPSOID[&quot;GRS 1980&quot;,6378137,298.257222101,LENGTHUNIT[&quot;metre&quot;,1]]],PRIMEM[&quot;Greenwich&quot;,0,ANGLEUNIT[&quot;degree&quot;,0.0174532925199433]],ID[&quot;EPSG&quot;,4283]],CONVERSION[&quot;unnamed&quot;,METHOD[&quot;Albers Equal Area&quot;,ID[&quot;EPSG&quot;,9822]],PARAMETER[&quot;Latitude of false origin&quot;,0,ANGLEUNIT[&quot;degree&quot;,0.0174532925199433],ID[&quot;EPSG&quot;,8821]],PARAMETER[&quot;Longitude of false origin&quot;,132,ANGLEUNIT[&quot;degree&quot;,0.0174532925199433],ID[&quot;EPSG&quot;,8822]],PARAMETER[&quot;Latitude of 1st standard parallel&quot;,-18,ANGLEUNIT[&quot;degree&quot;,0.0174532925199433],ID[&quot;EPSG&quot;,8823]],PARAMETER[&quot;Latitude of 2nd standard parallel&quot;,-36,ANGLEUNIT[&quot;degree&quot;,0.0174532925199433],ID[&quot;EPSG&quot;,8824]],PARAMETER[&quot;Easting at false origin&quot;,0,LENGTHUNIT[&quot;metre&quot;,1],ID[&quot;EPSG&quot;,8826]],PARAMETER[&quot;Northing at false origin&quot;,0,LENGTHUNIT[&quot;metre&quot;,1],ID[&quot;EPSG&quot;,8827]]],CS[Cartesian,2],AXIS[&quot;easting&quot;,east,ORDER[1],LENGTHUNIT[&quot;metre&quot;,1]],AXIS[&quot;northing&quot;,north,ORDER[2],LENGTHUNIT[&quot;metre&quot;,1]],ID[&quot;EPSG&quot;,3577]]</dd><dt><span>semi_major_axis :</span></dt><dd>6378137.0</dd><dt><span>semi_minor_axis :</span></dt><dd>6356752.314140356</dd><dt><span>inverse_flattening :</span></dt><dd>298.257222101</dd><dt><span>reference_ellipsoid_name :</span></dt><dd>GRS 1980</dd><dt><span>longitude_of_prime_meridian :</span></dt><dd>0.0</dd><dt><span>prime_meridian_name :</span></dt><dd>Greenwich</dd><dt><span>geographic_crs_name :</span></dt><dd>GDA94</dd><dt><span>horizontal_datum_name :</span></dt><dd>Geocentric Datum of Australia 1994</dd><dt><span>projected_crs_name :</span></dt><dd>GDA94 / Australian Albers</dd><dt><span>grid_mapping_name :</span></dt><dd>albers_conical_equal_area</dd><dt><span>standard_parallel :</span></dt><dd>(-18.0, -36.0)</dd><dt><span>latitude_of_projection_origin :</span></dt><dd>0.0</dd><dt><span>longitude_of_central_meridian :</span></dt><dd>132.0</dd><dt><span>false_easting :</span></dt><dd>0.0</dd><dt><span>false_northing :</span></dt><dd>0.0</dd><dt><span>GeoTransform :</span></dt><dd>1956000.0 300.0 0.0 -2748600.0 0.0 -300.0</dd></dl></div><div class='xr-var-data'><pre>array(3577, dtype=int32)</pre></div></li><li class='xr-var-item'><div class='xr-var-name'><span>band</span></div><div class='xr-var-dims'>()</div><div class='xr-var-dtype'>int64</div><div class='xr-var-preview xr-preview'>1</div><input id='attrs-6f301e7c-2a4d-4fbe-900d-700be0ecbef6' class='xr-var-attrs-in' type='checkbox' disabled><label for='attrs-6f301e7c-2a4d-4fbe-900d-700be0ecbef6' title='Show/Hide attributes'><svg class='icon xr-icon-file-text2'><use xlink:href='#icon-file-text2'></use></svg></label><input id='data-a9c2675a-1ddc-4dc5-bbd0-c5bb5343ccce' class='xr-var-data-in' type='checkbox'><label for='data-a9c2675a-1ddc-4dc5-bbd0-c5bb5343ccce' title='Show/Hide data repr'><svg class='icon xr-icon-database'><use xlink:href='#icon-database'></use></svg></label><div class='xr-var-attrs'><dl class='xr-attrs'></dl></div><div class='xr-var-data'><pre>array(1)</pre></div></li></ul></div></li><li class='xr-section-item'><input id='section-f4e6ebcb-d7d9-4399-827f-7f8b1e3cf3b2' class='xr-section-summary-in' type='checkbox'  checked><label for='section-f4e6ebcb-d7d9-4399-827f-7f8b1e3cf3b2' class='xr-section-summary' >Data variables: <span>(2)</span></label><div class='xr-section-inline-details'></div><div class='xr-section-details'><ul class='xr-var-list'><li class='xr-var-item'><div class='xr-var-name'><span>Mar</span></div><div class='xr-var-dims'>(y, x)</div><div class='xr-var-dtype'>float64</div><div class='xr-var-preview xr-preview'>nan 39.0 17.8 nan ... nan nan nan</div><input id='attrs-43e186d5-8bdf-4416-a5ad-7c1efa0eb327' class='xr-var-attrs-in' type='checkbox' disabled><label for='attrs-43e186d5-8bdf-4416-a5ad-7c1efa0eb327' title='Show/Hide attributes'><svg class='icon xr-icon-file-text2'><use xlink:href='#icon-file-text2'></use></svg></label><input id='data-a7c303d7-46bb-4f88-8e6c-890e8a3e62f9' class='xr-var-data-in' type='checkbox'><label for='data-a7c303d7-46bb-4f88-8e6c-890e8a3e62f9' title='Show/Hide data repr'><svg class='icon xr-icon-database'><use xlink:href='#icon-database'></use></svg></label><div class='xr-var-attrs'><dl class='xr-attrs'></dl></div><div class='xr-var-data'><pre>array([[ nan, 39. , 17.8,  nan, 34.6, 46.3, 37.5, 35.1, 44.3, 37.2],\n",
       "       [ nan, 44.4, 20. , 21. , 39.6, 49.4, 40.2,  nan,  nan,  nan],\n",
       "       [ nan,  nan, 25.4, 24.2, 32.5, 35.9,  nan,  nan,  nan,  nan],\n",
       "       [ nan,  nan, 36.5, 29.8, 38.1, 36.7,  nan,  nan,  nan,  nan],\n",
       "       [ nan,  nan, 48.8, 34.5, 60. ,  nan,  nan,  nan,  nan,  nan],\n",
       "       [ nan,  nan,  nan,  nan,  nan, 49.5,  nan,  nan,  nan,  nan],\n",
       "       [ nan,  nan,  nan,  nan,  nan,  nan,  nan,  nan,  nan,  nan],\n",
       "       [ nan,  nan,  nan,  nan,  nan,  nan,  nan,  nan,  nan,  nan],\n",
       "       [ nan,  nan,  nan,  nan,  nan,  nan,  nan,  nan,  nan,  nan],\n",
       "       [ nan,  nan,  nan,  nan,  nan,  nan,  nan,  nan,  nan,  nan]])</pre></div></li><li class='xr-var-item'><div class='xr-var-name'><span>Daylight</span></div><div class='xr-var-dims'>(y, x)</div><div class='xr-var-dtype'>float64</div><div class='xr-var-preview xr-preview'>nan 39.5 16.6 nan ... nan nan nan</div><input id='attrs-82b80b31-66ae-4222-834d-ab0634525e2c' class='xr-var-attrs-in' type='checkbox' disabled><label for='attrs-82b80b31-66ae-4222-834d-ab0634525e2c' title='Show/Hide attributes'><svg class='icon xr-icon-file-text2'><use xlink:href='#icon-file-text2'></use></svg></label><input id='data-50345a8b-106f-455d-a479-be0f2309e02d' class='xr-var-data-in' type='checkbox'><label for='data-50345a8b-106f-455d-a479-be0f2309e02d' title='Show/Hide data repr'><svg class='icon xr-icon-database'><use xlink:href='#icon-database'></use></svg></label><div class='xr-var-attrs'><dl class='xr-attrs'></dl></div><div class='xr-var-data'><pre>array([[ nan, 39.5, 16.6,  nan, 34.8, 46.5, 38.3, 35.5, 44.3, 38.1],\n",
       "       [ nan, 44.4, 19.1, 20.4, 40.2, 49.6, 40.7,  nan,  nan,  nan],\n",
       "       [ nan,  nan, 25.3, 24. , 33. , 36.5,  nan,  nan,  nan,  nan],\n",
       "       [ nan,  nan, 37.2, 29.8, 38.8, 37.6,  nan,  nan,  nan,  nan],\n",
       "       [ nan,  nan, 49. , 34.7, 60.1,  nan,  nan,  nan,  nan,  nan],\n",
       "       [ nan,  nan,  nan,  nan,  nan, 49.7,  nan,  nan,  nan,  nan],\n",
       "       [ nan,  nan,  nan,  nan,  nan,  nan,  nan,  nan,  nan,  nan],\n",
       "       [ nan,  nan,  nan,  nan,  nan,  nan,  nan,  nan,  nan,  nan],\n",
       "       [ nan,  nan,  nan,  nan,  nan,  nan,  nan,  nan,  nan,  nan],\n",
       "       [ nan,  nan,  nan,  nan,  nan,  nan,  nan,  nan,  nan,  nan]])</pre></div></li></ul></div></li><li class='xr-section-item'><input id='section-6cf9c34e-b573-42cc-b30f-33559ff76d65' class='xr-section-summary-in' type='checkbox'  ><label for='section-6cf9c34e-b573-42cc-b30f-33559ff76d65' class='xr-section-summary' >Indexes: <span>(2)</span></label><div class='xr-section-inline-details'></div><div class='xr-section-details'><ul class='xr-var-list'><li class='xr-var-item'><div class='xr-index-name'><div>y</div></div><div class='xr-index-preview'>PandasIndex</div><div></div><input id='index-7b93f9db-debd-4b6f-85ce-5da286c16da3' class='xr-index-data-in' type='checkbox'/><label for='index-7b93f9db-debd-4b6f-85ce-5da286c16da3' title='Show/Hide index repr'><svg class='icon xr-icon-database'><use xlink:href='#icon-database'></use></svg></label><div class='xr-index-data'><pre>PandasIndex(Float64Index([-2748750.0, -2749050.0, -2749350.0, -2749650.0, -2749950.0,\n",
       "              -2750250.0, -2750550.0, -2750850.0, -2751150.0, -2751450.0],\n",
       "             dtype=&#x27;float64&#x27;, name=&#x27;y&#x27;))</pre></div></li><li class='xr-var-item'><div class='xr-index-name'><div>x</div></div><div class='xr-index-preview'>PandasIndex</div><div></div><input id='index-c57346a3-a8d4-4a3c-a635-53f76d15f459' class='xr-index-data-in' type='checkbox'/><label for='index-c57346a3-a8d4-4a3c-a635-53f76d15f459' title='Show/Hide index repr'><svg class='icon xr-icon-database'><use xlink:href='#icon-database'></use></svg></label><div class='xr-index-data'><pre>PandasIndex(Float64Index([1956150.0, 1956450.0, 1956750.0, 1957050.0, 1957350.0, 1957650.0,\n",
       "              1957950.0, 1958250.0, 1958550.0, 1958850.0],\n",
       "             dtype=&#x27;float64&#x27;, name=&#x27;x&#x27;))</pre></div></li></ul></div></li><li class='xr-section-item'><input id='section-46fe3935-3320-4d79-a21f-c7787315981c' class='xr-section-summary-in' type='checkbox' disabled ><label for='section-46fe3935-3320-4d79-a21f-c7787315981c' class='xr-section-summary'  title='Expand/collapse section'>Attributes: <span>(0)</span></label><div class='xr-section-inline-details'></div><div class='xr-section-details'><dl class='xr-attrs'></dl></div></li></ul></div></div>"
      ],
      "text/plain": [
       "<xarray.Dataset>\n",
       "Dimensions:      (y: 10, x: 10)\n",
       "Coordinates:\n",
       "  * y            (y) float64 -2.749e+06 -2.749e+06 ... -2.751e+06 -2.751e+06\n",
       "  * x            (x) float64 1.956e+06 1.956e+06 ... 1.959e+06 1.959e+06\n",
       "    spatial_ref  int32 3577\n",
       "    band         int64 1\n",
       "Data variables:\n",
       "    Mar          (y, x) float64 nan 39.0 17.8 nan 34.6 ... nan nan nan nan nan\n",
       "    Daylight     (y, x) float64 nan 39.5 16.6 nan 34.8 ... nan nan nan nan nan"
      ]
     },
     "execution_count": 59,
     "metadata": {},
     "output_type": "execute_result"
    }
   ],
   "source": [
    "exposure"
   ]
  },
  {
   "cell_type": "code",
   "execution_count": 40,
   "id": "b1599053-d399-415f-9fcc-2f958cedb5f0",
   "metadata": {
    "tags": []
   },
   "outputs": [
    {
     "data": {
      "text/plain": [
       "<matplotlib.collections.QuadMesh at 0x7f5f21f7c8e0>"
      ]
     },
     "execution_count": 40,
     "metadata": {},
     "output_type": "execute_result"
    },
    {
     "data": {
      "image/png": "[encoded data removed]",
      "text/plain": [
       "<Figure size 640x480 with 2 Axes>"
      ]
     },
     "metadata": {},
     "output_type": "display_data"
    }
   ],
   "source": [
    "EXPosure.Mar.plot()"
   ]
  },
  {
   "cell_type": "code",
   "execution_count": 60,
   "id": "9836f47d-47f6-4289-9cf2-e9ae9e937f33",
   "metadata": {
    "tags": []
   },
   "outputs": [
    {
     "data": {
      "text/plain": [
       "<matplotlib.collections.QuadMesh at 0x7f5f2235f0d0>"
      ]
     },
     "execution_count": 60,
     "metadata": {},
     "output_type": "execute_result"
    },
    {
     "data": {
      "image/png": "[encoded data removed]",
      "text/plain": [
       "<Figure size 640x480 with 2 Axes>"
      ]
     },
     "metadata": {},
     "output_type": "display_data"
    }
   ],
   "source": [
    "exposure.Daylight.plot()"
   ]
  },
  {
   "cell_type": "code",
   "execution_count": 42,
   "id": "b39246f6-151d-4acf-b550-ed0a9200a2fc",
   "metadata": {
    "tags": []
   },
   "outputs": [
    {
     "data": {
      "text/plain": [
       "False"
      ]
     },
     "execution_count": 42,
     "metadata": {},
     "output_type": "execute_result"
    }
   ],
   "source": [
    "EXPosure.Mar.all == EXPosure.Dec.all\n",
    "# tide_cq_summer.Jan.isel(x=6,y=6).plot()\n",
    "# tide_cq_summer.winter.isel(x=6,y=6).plot()\n",
    "# EXPosure.Jan.plot()\n",
    "# ds.extents.plot()"
   ]
  },
  {
   "cell_type": "code",
   "execution_count": 61,
   "id": "ee1193f9-d289-4396-bf83-523e6ef62153",
   "metadata": {
    "tags": []
   },
   "outputs": [
    {
     "data": {
      "text/plain": [
       "[<matplotlib.lines.Line2D at 0x7f6052b20070>]"
      ]
     },
     "execution_count": 61,
     "metadata": {},
     "output_type": "execute_result"
    },
    {
     "data": {
      "image/png": "[encoded data removed]",
      "text/plain": [
       "<Figure size 640x480 with 1 Axes>"
      ]
     },
     "metadata": {},
     "output_type": "display_data"
    }
   ],
   "source": [
    "# plt.plot(EXPosure.winter, ds.exposure, marker='o')\n",
    "plt.plot(exposure.Mar, exposure.Daylight, marker='o', linestyle=' ')\n",
    "plt.plot((10,60),(10,60),zorder=0)\n",
    "# plt.grid(visible=True)\n",
    "# plt.figure(figsize=(6,6))"
   ]
  },
  {
   "cell_type": "code",
   "execution_count": 33,
   "id": "2316b41f-dbe4-425a-9be2-7a3743335a7c",
   "metadata": {
    "tags": []
   },
   "outputs": [
    {
     "name": "stdout",
     "output_type": "stream",
     "text": [
      "Creating reduced resolution 5000 x 5000 metre tide modelling array\n",
      "Modelling tides using FES2014, FES2012, TPXO8-atlas-v1, TPXO9-atlas-v5, EOT20, HAMTIDE11, GOT4.10 in parallel\n"
     ]
    },
    {
     "name": "stderr",
     "output_type": "stream",
     "text": [
      "100%|██████████| 35/35 [01:46<00:00,  3.04s/it]\n"
     ]
    },
    {
     "name": "stdout",
     "output_type": "stream",
     "text": [
      "Returning low resolution tide array\n",
      "Generating ensemble tide model from point inputs\n"
     ]
    }
   ],
   "source": [
    "## View the tidal model for a given area\n",
    "from intertidal.tide_modelling import pixel_tides_ensemble\n",
    "\n",
    "tide_cq, _ = pixel_tides_ensemble(\n",
    "                        ds.elevation,\n",
    "                        # resample=True,\n",
    "                        # calculate_quantiles=np.linspace(0, 1, 101),\n",
    "                        # times=timeranges[str(x)],\n",
    "                        times=all_timerange,\n",
    "                        # times=time_range,\n",
    "                        directory=tide_model_dir,\n",
    "                        cutoff=np.inf,\n",
    "                        ancillary_points=\"data/raw/tide_correlations_2017-2019.geojson\",\n",
    "                        top_n=3,\n",
    "                        reduce_method='mean',\n",
    "                        resolution=3000,\n",
    "                        )\n"
   ]
  },
  {
   "cell_type": "code",
   "execution_count": 37,
   "id": "2e827db1-aad4-41fc-b463-e34ab3733572",
   "metadata": {
    "tags": []
   },
   "outputs": [
    {
     "data": {
      "text/plain": [
       "[<matplotlib.lines.Line2D at 0x7f5f219128c0>]"
      ]
     },
     "execution_count": 37,
     "metadata": {},
     "output_type": "execute_result"
    },
    {
     "data": {
      "image/png": "[encoded data removed]",
      "text/plain": [
       "<Figure size 640x480 with 1 Axes>"
      ]
     },
     "metadata": {},
     "output_type": "display_data"
    }
   ],
   "source": [
    "tide_cq[-17500:].isel(x=4,y=5).plot()"
   ]
  },
  {
   "cell_type": "code",
   "execution_count": 36,
   "id": "04433382-76d4-4b23-a5ff-2e32d7fcd2e3",
   "metadata": {
    "tags": []
   },
   "outputs": [
    {
     "data": {
      "text/plain": [
       "17527.0"
      ]
     },
     "execution_count": 36,
     "metadata": {},
     "output_type": "execute_result"
    }
   ],
   "source": [
    "len(tide_cq)/7"
   ]
  },
  {
   "cell_type": "code",
   "execution_count": null,
   "id": "70bb2f64-d77b-4464-ad1e-4e2de7c508a7",
   "metadata": {
    "tags": []
   },
   "outputs": [],
   "source": [
    "winter_exp"
   ]
  },
  {
   "cell_type": "code",
   "execution_count": null,
   "id": "0803444b-be0e-4907-986c-925f163ded85",
   "metadata": {
    "tags": []
   },
   "outputs": [],
   "source": [
    "# timezones = {'wa':'../../gdata1/data/boundaries/GEODATA_COAST_100K/western_australia/cstwacd_r.shp',\n",
    "#                  'nt':'../../gdata1/data/boundaries/GEODATA_COAST_100K/northern_territory/cstntcd_r.shp',\n",
    "#                  'sa':'../../gdata1/data/boundaries/GEODATA_COAST_100K/south_australia/cstsacd_r.shp',\n",
    "#                  'qld':'../../gdata1/data/boundaries/GEODATA_COAST_100K/queensland/cstqldmd_r.shp',\n",
    "#                  'nsw':'../../gdata1/data/boundaries/GEODATA_COAST_100K/new_south_wales/cstnswcd_r.shp',\n",
    "#                  'vic':'../../gdata1/data/boundaries/GEODATA_COAST_100K/victoria/cstviccd_r.shp',\n",
    "#                  'tas':'../../gdata1/data/boundaries/GEODATA_COAST_100K/tasmania/csttascd_r.shp'\n",
    "#             }"
   ]
  },
  {
   "cell_type": "code",
   "execution_count": null,
   "id": "16518326-6d4d-4373-b314-7b4557e4cd24",
   "metadata": {
    "tags": []
   },
   "outputs": [],
   "source": [
    "# ds"
   ]
  },
  {
   "cell_type": "markdown",
   "id": "631862b0-c7bb-42a4-bf39-93c15271f79c",
   "metadata": {},
   "source": [
    "# Exposure\n",
    "\n",
    "## Choose from the following 'filters' - multiple selections supported\n",
    "\n",
    "dry, wet, summer, autumn, winter, spring, Jan, Feb, Mar, Apr, May, Jun, Jul, Aug, Sep, Oct, Nov, Dec, Daylight, Night, Spring_high, Spring_low, Neap_high, Neap_low, Hightide, Lowtide"
   ]
  },
  {
   "cell_type": "code",
   "execution_count": null,
   "id": "e14d4391-39ac-4e1c-85f3-87a0198fd0dd",
   "metadata": {
    "tags": []
   },
   "outputs": [],
   "source": [
    "# %reload_ext autoreload\n",
    "\n",
    "exposure, tide_cq, filt_dt = exposure(\n",
    "                            start_date,\n",
    "                            end_date,\n",
    "                            dem=ds.elevation,\n",
    "                            time_range=all_timerange,\n",
    "                            mod_timesteps=[mod_timesteps],\n",
    "                            tide_model=tide_model,\n",
    "                            tide_model_dir=tide_model_dir,\n",
    "                            filters = [\n",
    "                                       # 'dry', 'wet', 'summer', 'autumn', 'winter', \n",
    "                                       # 'spring', 'Jan', 'Feb', 'Mar', 'Apr', \n",
    "                                       # 'May', 'Jun', 'Jul', 'Aug', 'Sep', 'Oct', 'Nov', \n",
    "                                       # 'Dec', 'Daylight', 'Night',\n",
    "                                       'Spring_high', 'Spring_low', 'Neap_high', 'Neap_low', \n",
    "                                       'Hightide', 'Lowtide']\n",
    "                            )"
   ]
  },
  {
   "cell_type": "code",
   "execution_count": null,
   "id": "010f990d-cc37-4330-9ff1-339b4c7f7af4",
   "metadata": {
    "tags": []
   },
   "outputs": [],
   "source": [
    "# filt_dt.keys()"
   ]
  },
  {
   "cell_type": "code",
   "execution_count": null,
   "id": "0778282b-a21a-46e7-abe2-f2708da04995",
   "metadata": {
    "tags": []
   },
   "outputs": [],
   "source": [
    "plt.figure(figsize=(12,4))\n",
    "filt_dt['modelledtides'][0].isel(y=1,x=1).plot()#marker='o', linestyle='')\n",
    "filt_dt['springhighs_all'].isel(y=1,x=1).plot()\n",
    "filt_dt['springlows_all'].isel(y=1,x=1).plot()\n",
    "filt_dt['neaphighs_all'].isel(y=1,x=1).plot()\n",
    "filt_dt['neaplows_all'].isel(y=1,x=1).plot()\n",
    "filt_dt['hightides'].isel(y=1,x=1).plot()\n",
    "filt_dt['lowtides'].isel(y=1,x=1).plot()\n"
   ]
  },
  {
   "cell_type": "code",
   "execution_count": null,
   "id": "dae74e39-1b25-4ac1-8429-be0c90f2da2d",
   "metadata": {
    "tags": []
   },
   "outputs": [],
   "source": [
    "plt.figure(figsize=(12,4))\n",
    "filt_dt['modelledtides'][0][0:1500].isel(y=1,x=1).plot()#marker='o', linestyle='')\n",
    "filt_dt['springhighs_all'][0:2].isel(y=1,x=1).plot()\n",
    "filt_dt['springlows_all'][0:2].isel(y=1,x=1).plot()\n",
    "filt_dt['neaphighs_all'][0:2].isel(y=1,x=1).plot()\n",
    "filt_dt['neaplows_all'][0:2].isel(y=1,x=1).plot()\n",
    "filt_dt['hightides'][0:180].isel(y=1,x=1).plot(marker='o', linestyle='')\n",
    "filt_dt['lowtides'][0:180].isel(y=1,x=1).plot(marker='o', linestyle='')\n"
   ]
  },
  {
   "cell_type": "markdown",
   "id": "7dcc648a-dcc4-4831-ac15-9557358e6b67",
   "metadata": {},
   "source": [
    "## Spatial testing of peak detection on tidal modelling\n",
    "[Tidal regime and ranges](http://gyre.umeoce.maine.edu/physicalocean/Tomczak/ShelfCoast/notes/figures/fig18a1.html)\n",
    "\n",
    "|study area | tidal regime|tidal range| exposure spatial modelling behaved?|\n",
    "|---|---|---|---|\n",
    "|carnot WA|semi-diurnal| 4-8 m| yes|\n",
    "|yawajaba WA| semi-diurnal| >8m| reasonably good. Some hightide and lowtide peaks were not captured at 3hr interval but fine at 30min|\n",
    "|gulfcarpentaria3| mixed-diurnal|2-4 m||\n",
    "|gulfcarpentaria1| mixed| 2-4 m||"
   ]
  },
  {
   "cell_type": "code",
   "execution_count": null,
   "id": "373dccb8-12b8-45a7-b81e-f62b7dac61d8",
   "metadata": {
    "tags": []
   },
   "outputs": [],
   "source": [
    "# tide_cq\n",
    "exposure.hightide_exp.plot()"
   ]
  },
  {
   "cell_type": "code",
   "execution_count": null,
   "id": "4a68dc94-e561-48e6-86ce-269836f562fb",
   "metadata": {
    "tags": []
   },
   "outputs": [],
   "source": [
    "exposure.lowtide_exp.plot()"
   ]
  },
  {
   "cell_type": "code",
   "execution_count": null,
   "id": "0ddd68a0-8d98-4fb2-b2aa-c478f6cddbfb",
   "metadata": {
    "tags": []
   },
   "outputs": [],
   "source": [
    "de = dry_exposure.to_dataset().rename_vars({'quantile':'dry_exposure'})\n",
    "de#['quantile'].plot()#.plot()"
   ]
  },
  {
   "cell_type": "code",
   "execution_count": null,
   "id": "5333979e-68af-496d-a51e-06284c11fafd",
   "metadata": {
    "tags": []
   },
   "outputs": [],
   "source": [
    "ds"
   ]
  },
  {
   "cell_type": "code",
   "execution_count": null,
   "id": "21bdbee0-0eee-444e-98a8-d0a0934fb8b6",
   "metadata": {
    "tags": []
   },
   "outputs": [],
   "source": [
    "test = xr.merge([ds,de])\n",
    "test"
   ]
  },
  {
   "cell_type": "code",
   "execution_count": null,
   "id": "be4dd9d6-e32e-4a99-bf70-57b0bf000662",
   "metadata": {},
   "outputs": [],
   "source": []
  },
  {
   "cell_type": "code",
   "execution_count": null,
   "id": "49a8b6ce-5017-4330-b24a-658e66a66334",
   "metadata": {},
   "outputs": [],
   "source": []
  },
  {
   "cell_type": "code",
   "execution_count": null,
   "id": "ff586210-5e5d-43c2-94a2-4ecb348040c5",
   "metadata": {
    "tags": []
   },
   "outputs": [],
   "source": [
    "import xarray as xr\n",
    "from scipy.signal import argrelmax \n",
    "from scipy.signal import argrelmin \n",
    "from math import ceil"
   ]
  },
  {
   "cell_type": "code",
   "execution_count": null,
   "id": "c6b0b320-f8fb-4f5c-850b-5d7edaef3370",
   "metadata": {
    "tags": []
   },
   "outputs": [],
   "source": [
    "#Run a full tidal model for each pixel\n",
    "modelledtides = pixel_tides(\n",
    "                            ds.elevation,#ds,\n",
    "                            times=all_timerange,\n",
    "                            model=tide_model,\n",
    "                            directory = tide_model_dir)\n",
    "## stack the y and x dimensions\n",
    "stacked_everything = modelledtides[0].stack(z=['y','x']).groupby('z') "
   ]
  },
  {
   "cell_type": "code",
   "execution_count": null,
   "id": "7e92ec04-7e76-4413-a18d-a543bfe56a94",
   "metadata": {
    "tags": []
   },
   "outputs": [],
   "source": [
    "order=(int([mod_timesteps][0]/2))\n",
    "\n",
    "stacked_everything_high = stacked_everything.apply(lambda x: xr.DataArray(argrelmax(x.values, order=order)[0]))\n",
    "\n",
    "## Unstack\n",
    "springhighs_all = stacked_everything_high.unstack('z')\n",
    "\n",
    "# order = int(ceil((len(Max_testarray.time)/(len(springhighs_all.time))/2)))\n",
    "# print(springhighs_all.time)\n",
    "springhighs_all"
   ]
  },
  {
   "cell_type": "code",
   "execution_count": null,
   "id": "718a1c82-625f-4ba0-96d2-5e7a5962aca3",
   "metadata": {
    "tags": []
   },
   "outputs": [],
   "source": [
    "# len(springhighs_all)\n",
    "# print(springhighs_all.tide_m)\n",
    "all_timerange"
   ]
  },
  {
   "cell_type": "code",
   "execution_count": null,
   "id": "b35c04a9-b23a-499a-8070-a76ed4baec3b",
   "metadata": {},
   "outputs": [],
   "source": [
    "print ('Calculating Spring_high')\n",
    "\n",
    "## apply the peak detection routine\n",
    "# stacked_everything_high = stacked_everything.apply(lambda x: xr.DataArray(argrelmax(x.values, order=order)[0]))\n",
    "# ## Unstack\n",
    "# springhighs_all = stacked_everything_high.unstack('z')\n",
    "# ##Reorder the y axis. Uncertain why it gets reversed during the stack/unstack.\n",
    "springhighs_all = springhighs_all.reindex(y=springhighs_all.y[::-1])\n",
    "## Rename the time axis\n",
    "springhighs_all = springhighs_all.rename({'dim_0':'time'})\n",
    "## Convert to dataset\n",
    "springhighs_all = springhighs_all.to_dataset(name = 'time')\n",
    "## Reorder the dims\n",
    "springhighs_all = springhighs_all[['time','y','x']]\n",
    "## Select dates associated with detected peaks\n",
    "springhighs_all = ModelledTides[0].to_dataset().isel(time=springhighs_all.time)\n",
    "## Extract the peak height dates\n",
    "# time_range = test_mt[springhighs].time.values\n",
    "\n",
    "## Temp: for tide-regime testing\n",
    "filt_dt['springhighs_all']=springhighs_all.tide_m\n",
    "\n",
    "tide_cq = springhighs_all.tide_m.quantile(q=calculate_quantiles,dim='time')"
   ]
  },
  {
   "cell_type": "code",
   "execution_count": null,
   "id": "7272ca44-7dbc-4698-a7bc-8715eedce390",
   "metadata": {},
   "outputs": [],
   "source": []
  },
  {
   "cell_type": "code",
   "execution_count": null,
   "id": "11c5655b-aa1a-4660-af7f-df3eb7ffbc61",
   "metadata": {},
   "outputs": [],
   "source": []
  },
  {
   "cell_type": "code",
   "execution_count": null,
   "id": "267131a0-4446-43e6-a936-90b38c01a341",
   "metadata": {
    "tags": []
   },
   "outputs": [],
   "source": [
    "test.dry_exposure.plot()"
   ]
  },
  {
   "cell_type": "code",
   "execution_count": null,
   "id": "9d6a70ca-6226-4132-9408-5f8142f8ab24",
   "metadata": {
    "tags": []
   },
   "outputs": [],
   "source": [
    "# ds.nwet_exposure.plot()\n",
    "\n",
    "# blank = None\n",
    "# blankety = [0,1,3]\n",
    "\n",
    "# if blank is not None:\n",
    "#     print ('not none')\n",
    "#     for x in blank:\n",
    "#         if x in blankety:\n",
    "#             if x == 1:\n",
    "#                 print ('1')\n",
    "# else:\n",
    "#     print ('none')\n",
    "np.timedelta64(14,'D') / np.timedelta64(modelled_freq.split()[0][:-1],modelled_freq.split()[0][-1])"
   ]
  },
  {
   "cell_type": "code",
   "execution_count": null,
   "id": "832deab2-e465-45ed-9517-e66baff9cc5a",
   "metadata": {
    "tags": []
   },
   "outputs": [],
   "source": [
    "# ## Testing cell\n",
    "\n",
    "# ## Bring in the geodata coast 100K polygons to assign local timezones to pixels\n",
    "\n",
    "# import geopandas as gpd\n",
    "# import xarray as xr\n",
    "\n",
    "# from shapely.geometry import Point\n",
    "# from shapely.ops import unary_union\n",
    "# import sunriset\n",
    "# from math import ceil\n",
    "# import datetime\n",
    "# from datetime import timedelta\n",
    "# import pytz\n",
    "# from pyproj import CRS\n",
    "# from pyproj import Transformer\n",
    "\n",
    "# ds.elevation.plot()"
   ]
  },
  {
   "cell_type": "code",
   "execution_count": null,
   "id": "a62fa97f-af1b-4f45-9ec9-2384007f4e44",
   "metadata": {
    "tags": []
   },
   "outputs": [],
   "source": [
    "# Create output folder. If it doesn't exist, create it\n",
    "output_dir = f\"data/interim/{study_area}\"\n",
    "os.makedirs(output_dir, exist_ok=True)\n",
    "\n",
    "# Save rasters as GeoTIFFs\n",
    "export_intertidal_rasters(ds, prefix=f\"{output_dir}/{study_area}_{start_date}_{end_date}\")"
   ]
  },
  {
   "cell_type": "code",
   "execution_count": null,
   "id": "386f521a-f210-49dc-abe3-9194b6fb2cf2",
   "metadata": {
    "tags": []
   },
   "outputs": [],
   "source": [
    "# ## Bring in the state polygons (note: native crs = epsg:4283)\n",
    "# wa = gpd.read_file('../../gdata1/data/boundaries/GEODATA_COAST_100K/western_australia/cstwacd_r.shp')\n",
    "# nt = gpd.read_file('../../gdata1/data/boundaries/GEODATA_COAST_100K/northern_territory/cstntcd_r.shp')\n",
    "# sa = gpd.read_file('../../gdata1/data/boundaries/GEODATA_COAST_100K/south_australia/cstsacd_r.shp')\n",
    "# qld = gpd.read_file('../../gdata1/data/boundaries/GEODATA_COAST_100K/queensland/cstqldmd_r.shp')\n",
    "# nsw = gpd.read_file('../../gdata1/data/boundaries/GEODATA_COAST_100K/new_south_wales/cstnswcd_r.shp')\n",
    "# vic = gpd.read_file('../../gdata1/data/boundaries/GEODATA_COAST_100K/victoria/cstviccd_r.shp')\n",
    "# tas = gpd.read_file('../../gdata1/data/boundaries/GEODATA_COAST_100K/tasmania/csttascd_r.shp')\n",
    "\n",
    "# # Merge to create single timezone (state) boundaries\n",
    "# wa = gpd.GeoSeries(unary_union(wa.geometry))\n",
    "# nt = gpd.GeoSeries(unary_union(nt.geometry))\n",
    "# sa = gpd.GeoSeries(unary_union(sa.geometry))\n",
    "# qld = gpd.GeoSeries(unary_union(qld.geometry))\n",
    "# nsw = gpd.GeoSeries(unary_union(nsw.geometry))\n",
    "# vic = gpd.GeoSeries(unary_union(vic.geometry))\n",
    "# tas = gpd.GeoSeries(unary_union(tas.geometry))"
   ]
  },
  {
   "cell_type": "code",
   "execution_count": null,
   "id": "383a46b7-a9c0-4fb5-8c2a-b5b494a4c492",
   "metadata": {
    "tags": []
   },
   "outputs": [],
   "source": [
    "# ## Transform the analysis aoi coords to common CRS\n",
    "\n",
    "# tidepost_lat_3577 = ds.x.median(dim='x').values\n",
    "# tidepost_lon_3577 = ds.y.median(dim='y').values\n",
    "\n",
    "# ## Datacube native CRS\n",
    "# crs_3577 = CRS.from_epsg(3577) \n",
    "\n",
    "# ## GDA94/Aus Albers (meters)\n",
    "\n",
    "# ## Create a transform to convert default epsg3577 coords to epsg4326 for use in sunise/sunset library\n",
    "\n",
    "# ## World WGS84 (degrees)\n",
    "# crs_4326 = CRS.from_epsg(4326) \n",
    "# ## Transfer coords from/to\n",
    "# transformer_4326 = Transformer.from_crs(crs_3577, crs_4326)\n",
    "# ## Translate the tidepost coords\n",
    "# tidepost_lat_4326, tidepost_lon_4326 = transformer_4326.transform(tidepost_lat_3577, tidepost_lon_3577)\n",
    "# ## Coordinate point to locate the sunriset calculation\n",
    "# point_4326 = Point(tidepost_lon_4326, tidepost_lat_4326)\n",
    "\n",
    "# ## (1) Create a transform to convert default epsg3577 coords to epsg4283 to compare against polygons and \n",
    "# ## assign a timezone\n",
    "\n",
    "# ## GDA94 CRS (degrees)\n",
    "# crs_4283 = CRS.from_epsg(4283) ## GDA94 Australia (degrees)\n",
    "# ## Transfer coords from/to\n",
    "# transformer_4283 = Transformer.from_crs(crs_3577, crs_4283) \n",
    "# ## Translate tidepost coords\n",
    "# tidepost_lat_4283, tidepost_lon_4283 = transformer_4283.transform(tidepost_lat_3577, tidepost_lon_3577)\n",
    "# ## Coordinate point to test for timezone   \n",
    "# point_4283 = Point(tidepost_lon_4283, tidepost_lat_4283)\n"
   ]
  },
  {
   "cell_type": "code",
   "execution_count": null,
   "id": "3ec620a0-ff7b-43de-ba73-b99b3e7b372f",
   "metadata": {
    "tags": []
   },
   "outputs": [],
   "source": [
    "# ## Set the local timezone for the analysis area of interest\n",
    "# if wa.contains(point_4283)[0] == True:\n",
    "#     timezone = 'Australia/West'\n",
    "#     local_tz = 8\n",
    "#     # break\n",
    "# elif nt.contains(point_4283)[0] == True:\n",
    "#     timezone = 'Australia/North'\n",
    "#     local_tz = 9.5\n",
    "#     # break\n",
    "# elif sa.contains(point_4283)[0] == True:\n",
    "#     timezone = 'Australia/South'\n",
    "#     local_tz = 9.5\n",
    "#     # break\n",
    "# elif qld.contains(point_4283)[0] == True:\n",
    "#     timezone = 'Australia/Queensland'\n",
    "#     local_tz = 10\n",
    "#     # break\n",
    "# elif nsw.contains(point_4283)[0] == True:\n",
    "#     timezone = 'Australia/NSW'\n",
    "#     local_tz = 10\n",
    "#     # break\n",
    "# elif vic.contains(point_4283)[0] == True:\n",
    "#     timezone = 'Australia/Victoria'\n",
    "#     local_tz = 10\n",
    "#     # break\n",
    "# elif tas.contains(point_4283)[0] == True:\n",
    "#     timezone = 'Australia/Tasmania'\n",
    "#     local_tz = 10\n",
    "#     # break\n",
    "# print (timezone, local_tz)    "
   ]
  },
  {
   "cell_type": "code",
   "execution_count": null,
   "id": "e1899c68-869a-4a34-ab04-844f0c93dcb2",
   "metadata": {
    "tags": []
   },
   "outputs": [],
   "source": [
    "# ## Testing sunriset calculations\n",
    "\n",
    "# # Place start and end dates in correct format\n",
    "# start=round_date_strings(start_date, round_type=\"start\")\n",
    "# end=round_date_strings(end_date, round_type=\"end\")\n",
    "# startdate = datetime.date(pd.to_datetime(start).year, pd.to_datetime(start).month, pd.to_datetime(start).day)\n",
    "\n",
    "# # # Make the start date timezone aware \n",
    "# # time_start = pd.to_datetime(start, utc=True).tz_convert(timezone)\n",
    "\n",
    "# # Make 'all_timerange' time-zone aware\n",
    "# localtides = all_timerange.tz_localize(tz=pytz.UTC).tz_convert(timezone)\n",
    "\n",
    "# # Replace the UTC datetimes from all_timerange with local times\n",
    "# modelledtides = pd.DataFrame(index = localtides)\n",
    "\n",
    "# # Return the difference in years for the time-period. \n",
    "# # Round up to ensure all modelledtide datetimes are captured in the solar model\n",
    "# diff = pd.to_datetime(end) - pd.to_datetime(start)\n",
    "# diff = int(ceil(diff.days/365))\n",
    "\n",
    "# # ## Locate the central pixel for the area of interest\n",
    "# # ## TODO: work out how to manage this in the pixel-based workflow. Perhaps\n",
    "# # ## use the same modelling resolution as the underlying tidal model?\n",
    "# # tidepost_lat = ds.x.median(dim='x')\n",
    "# # tidepost_lon = ds.y.median(dim='y')\n",
    "\n",
    "# # ## Create a transform to convert default epsg3577 coords to epsg4326 for use in sunise/sunset library\n",
    "# # crs_4326 = CRS.from_epsg(4326)\n",
    "# # crs_3577 = CRS.from_epsg(3577)\n",
    "\n",
    "# # transformer = Transformer.from_crs(crs_3577, crs_4326)\n",
    "\n",
    "# # ## Translate tidepost coords\n",
    "# # tidepost_lat, tidepost_lon = transformer.transform(tidepost_lon.values, tidepost_lat.values)\n",
    "\n",
    "# ## Model sunrise and sunset\n",
    "# sun_df = sunriset.to_pandas(startdate, tidepost_lat_4326, tidepost_lon_4326, local_tz, diff)\n",
    "\n",
    "# ## Set the index as a datetimeindex to match the modelledtide df\n",
    "# sun_df = sun_df.set_index(pd.DatetimeIndex(sun_df.index))\n",
    "\n",
    "# ## Append the date to each Sunrise and Sunset time\n",
    "# sun_df['Sunrise dt'] = sun_df.index + sun_df['Sunrise']\n",
    "# sun_df['Sunset dt'] = sun_df.index + (sun_df['Sunset'])\n",
    "\n",
    "# ## Create new dataframes where daytime and nightime datetimes are recorded, then merged on a new `Sunlight` column\n",
    "# daytime=pd.DataFrame(data = 'Sunrise', index=sun_df['Sunrise dt'], columns=['Sunlight'])\n",
    "# nighttime=pd.DataFrame(data = 'Sunset', index=sun_df['Sunset dt'], columns=['Sunlight'])\n",
    "# DayNight = pd.concat([daytime, nighttime], join='outer')\n",
    "# DayNight.sort_index(inplace=True)\n",
    "# DayNight.index.rename('Datetime', inplace=True)\n",
    "\n",
    "# ## Create an xarray object from the merged day/night dataframe\n",
    "# day_night = xr.Dataset.from_dataframe(DayNight)\n",
    "\n",
    "# ## Remove local timezone timestamp column in modelledtides dataframe. Xarray doesn't handle \n",
    "# ## timezone aware datetimeindexes 'from_dataframe' very well.\n",
    "# modelledtides.index = modelledtides.index.tz_localize(tz=None)\n",
    "\n",
    "# ## Create an xr Dataset from the modelledtides pd.dataframe\n",
    "# mt = modelledtides.to_xarray()\n",
    "\n",
    "# ## Filter the modelledtides (mt) by the daytime, nighttime datetimes from the sunriset module\n",
    "# ## Modelled tides are designated as either day or night by propogation of the last valid index value forward\n",
    "# Solar=day_night.sel(Datetime=mt.index, method='ffill')\n",
    "\n",
    "# ## Assign the day and night tideheight datasets\n",
    "# SolarDayTides = mt.where(Solar.Sunlight=='Sunrise', drop=True)\n",
    "# SolarNightTides = mt.where(Solar.Sunlight=='Sunset', drop=True)\n",
    "\n",
    "# ## Extract DatetimeIndexes to use in exposure calculations\n",
    "# all_timerange_day = pd.DatetimeIndex(SolarDayTides.index)\n",
    "# all_timerange_night = pd.DatetimeIndex(SolarNightTides.index)\n",
    "\n"
   ]
  },
  {
   "cell_type": "code",
   "execution_count": null,
   "id": "7367ec88-d8b2-43a2-9004-58d032a3e929",
   "metadata": {
    "tags": []
   },
   "outputs": [],
   "source": [
    "ds.exposure_daylight.plot()"
   ]
  },
  {
   "cell_type": "code",
   "execution_count": null,
   "id": "a026e4ed-4936-4d96-87bb-ed4c44bff01f",
   "metadata": {
    "tags": []
   },
   "outputs": [],
   "source": [
    "ds.elevation.plot()"
   ]
  },
  {
   "cell_type": "code",
   "execution_count": null,
   "id": "60a845a7-b544-44f5-b85d-f8354282308d",
   "metadata": {
    "tags": []
   },
   "outputs": [],
   "source": [
    "from dea_tools.coastal import model_tides, pixel_tides\n",
    "\n",
    "from scipy.signal import argrelmax \n",
    "from scipy.signal import argrelmin \n",
    "from scipy.interpolate import interp1d \n",
    "import xarray as xr\n",
    "\n",
    "from math import ceil"
   ]
  },
  {
   "cell_type": "markdown",
   "id": "9351a0a3-30ce-4d11-b329-40587b98b9b1",
   "metadata": {},
   "source": [
    "## filters can be any of\n",
    "Spring_high, Spring_low, Neap_high, Neap_low, Hightide, Lowtide"
   ]
  },
  {
   "cell_type": "code",
   "execution_count": null,
   "id": "5b0d548e-eebf-431a-8c8f-2ea40adadae3",
   "metadata": {
    "tags": []
   },
   "outputs": [],
   "source": [
    "## Testing for spatial customisation (splicing up the tidal zone)\n",
    "\n",
    "modelledtides = pixel_tides(\n",
    "                ds,\n",
    "                times=all_timerange,\n",
    "                model=tide_model,\n",
    "                directory = tide_model_dir)\n",
    "                # directory = '../../gdata1/data/tide_models')\n",
    "    "
   ]
  },
  {
   "cell_type": "code",
   "execution_count": null,
   "id": "8225a9bb-ffc4-42eb-bf60-a0a0b49522f4",
   "metadata": {
    "tags": []
   },
   "outputs": [],
   "source": [
    "# ds\n",
    "type(modelled_freq)"
   ]
  },
  {
   "cell_type": "code",
   "execution_count": null,
   "id": "5f7d31e5-25e2-4c3c-bfc0-8adf03a9d361",
   "metadata": {
    "tags": []
   },
   "outputs": [],
   "source": [
    "## Peak selections in xarray for whole arrays\n",
    "## Calculations for Spring/Neap/High/Low tides\n",
    "## Hardcoded assumption: one spring high tide per 14 day half-lunar cycle\n",
    "test_filters = ['Lowtide', 'Hightide']#'Spring_low', 'Neap_low']#'Lowtide','Spring_high','Hightide','Neap_high'] # 'Spring_high' must run by default as its outputs are required for neap tide detection\n",
    "# Extract the modelling freq units\n",
    "freq_unit = modelled_freq.split()[0][-1]\n",
    "freq_value = modelled_freq.split()[0][:-1]\n",
    "# Extract the number of modelled timesteps per 14 days\n",
    "mod_timesteps = np.timedelta64(14,'D') / np.timedelta64(freq_value,freq_unit)\n",
    "## Identify kwargs for peak detection algorithm\n",
    "order=(int(mod_timesteps/2))\n",
    "\n",
    "## stack the y and x dimensions\n",
    "stacked_everything = modelledtides[0].stack(z=['y','x']).groupby('z') \n",
    "\n",
    "## Calculate the spring highest and spring lowest tides per 14 day half lunar cycle\n",
    "if 'Spring_high' in test_filters:\n",
    "    # ## stack the y and x dimensions\n",
    "    # stacked_everything = modelledtides[0].stack(z=['y','x']).groupby('z') \n",
    "    ## apply the peak detection routine\n",
    "    stacked_everything = stacked_everything.apply(lambda x: xr.DataArray(argrelmax(x.values, order=order)[0]))\n",
    "    ## Unstack\n",
    "    springhighs_all = stacked_everything.unstack('z')\n",
    "    ##Reorder the y axis. Uncertain why it gets reversed during the stack/unstack.\n",
    "    springhighs_all = springhighs_all.reindex(y=springhighs_all.y[::-1])\n",
    "    ## Rename the time axis\n",
    "    springhighs_all = springhighs_all.rename({'dim_0':'time'})\n",
    "    ## Convert to dataset\n",
    "    springhighs_all = springhighs_all.to_dataset(name = 'time')\n",
    "    ## Reorder the dims\n",
    "    springhighs_all = springhighs_all[['time','y','x']]\n",
    "    ## Select dates associated with detected peaks\n",
    "    springhighs_all = modelledtides[0].to_dataset().isel(time=springhighs_all.time)\n",
    "    ## Extract the peak height dates\n",
    "    # time_range = test_mt[springhighs].time.values\n",
    "\n",
    "    ## Calculate the spring highest and spring lowest tides per 14 day half lunar cycle\n",
    "if 'Spring_low' in test_filters:\n",
    "    ## apply the peak detection routine\n",
    "    stacked_everything = stacked_everything.apply(lambda x: xr.DataArray(argrelmin(x.values, order=order)[0]))\n",
    "    ## Unstack\n",
    "    springlows_all = stacked_everything.unstack('z')\n",
    "    ##Reorder the y axis. Uncertain why it gets reversed during the stack/unstack.\n",
    "    springlows_all = springlows_all.reindex(y=springlows_all.y[::-1])\n",
    "    ## Rename the time axis\n",
    "    springlows_all = springlows_all.rename({'dim_0':'time'})\n",
    "    ## Convert to dataset\n",
    "    springlows_all = springlows_all.to_dataset(name = 'time')\n",
    "    ## Reorder the dims\n",
    "    springlows_all = springlows_all[['time','y','x']]\n",
    "    ## Select dates associated with detected peaks\n",
    "    springlows_all = modelledtides[0].to_dataset().isel(time=springlows_all.time)\n",
    "    ## Extract the peak height dates\n",
    "    # time_range = test_mt[springlows_all].time.values\n",
    "    \n",
    "if 'Neap_high' in test_filters:\n",
    "    # ## stack the y and x dimensions\n",
    "    # stacked_everything = modelledtides[0].stack(z=['y','x']).groupby('z') \n",
    "    ## apply the peak detection routine to calculate all the high tide maxima\n",
    "    Max_testarray = stacked_everything.apply(lambda x: xr.DataArray(argrelmax(x.values)[0]))\n",
    "    ## extract the corresponding dates from the peaks\n",
    "    Max_testarray = (Max_testarray.unstack('z'))\n",
    "    Max_testarray = (Max_testarray.reindex(y=Max_testarray.y[::-1])\n",
    "                     .rename({'dim_0':'time'})\n",
    "                     .to_dataset(name = 'time')\n",
    "                     [['time','y','x']]\n",
    "                    )\n",
    "    ## extract all hightide peaks\n",
    "    Max_testarray = modelledtides[0].to_dataset().isel(time=Max_testarray.time)\n",
    "    \n",
    "    ## repeat the peak detection to identify neap high tides (minima in the high tide maxima)\n",
    "    stacked_everything2 = Max_testarray.tide_m.stack(z=['y','x']).groupby('z')\n",
    "    ## extract neap high tides based on 14 day half lunar cycle - determined as the fraction of all high tide points\n",
    "    ## relative to the number of spring high tide values\n",
    "    order = int(ceil((len(Max_testarray.time)/(len(springhighs_all.time))/2)))\n",
    "    ## apply the peak detection routine to calculate all the neap high tide minima within the high tide peaks\n",
    "    neaphighs_all = stacked_everything2.apply(lambda x: xr.DataArray(argrelmin(x.values, order=order)[0]))\n",
    "    ## unstack and format as above                                    \n",
    "    neaphighs_all = neaphighs_all.unstack('z')\n",
    "    neaphighs_all = (\n",
    "                    neaphighs_all\n",
    "                     .reindex(y=neaphighs_all.y[::-1])\n",
    "                     .rename({'dim_0':'time'})\n",
    "                     .to_dataset(name = 'time')\n",
    "                     [['time','y','x']]\n",
    "                    )\n",
    "    ## extract neap high tides\n",
    "    neaphighs_all = Max_testarray.isel(time=neaphighs_all.time)\n",
    "    \n",
    "if 'Neap_low' in test_filters:\n",
    "    # ## stack the y and x dimensions\n",
    "    # stacked_everything = modelledtides[0].stack(z=['y','x']).groupby('z') \n",
    "    ## apply the peak detection routine to calculate all the high tide maxima\n",
    "    Max_testarray = stacked_everything.apply(lambda x: xr.DataArray(argrelmax(x.values)[0]))\n",
    "    ## extract the corresponding dates from the peaks\n",
    "    Max_testarray = (Max_testarray.unstack('z'))\n",
    "    Max_testarray = (Max_testarray.reindex(y=Max_testarray.y[::-1])\n",
    "                     .rename({'dim_0':'time'})\n",
    "                     .to_dataset(name = 'time')\n",
    "                     [['time','y','x']]\n",
    "                    )\n",
    "    ## extract all hightide peaks\n",
    "    Max_testarray = modelledtides[0].to_dataset().isel(time=Max_testarray.time)\n",
    "    \n",
    "    ## repeat the peak detection to identify neap high tides (minima in the high tide maxima)\n",
    "    stacked_everything2 = Max_testarray.tide_m.stack(z=['y','x']).groupby('z')\n",
    "    ## extract neap high tides based on 14 day half lunar cycle - determined as the fraction of all high tide points\n",
    "    ## relative to the number of spring high tide values\n",
    "    order = int(ceil((len(Max_testarray.time)/(len(springhighs_all.time))/2)))\n",
    "    ## apply the peak detection routine to calculate all the neap high tide minima within the high tide peaks\n",
    "    neaphighs_all = stacked_everything2.apply(lambda x: xr.DataArray(argrelmin(x.values, order=order)[0]))\n",
    "    ## unstack and format as above                                    \n",
    "    neaphighs_all = neaphighs_all.unstack('z')\n",
    "    neaphighs_all = (\n",
    "                    neaphighs_all\n",
    "                     .reindex(y=neaphighs_all.y[::-1])\n",
    "                     .rename({'dim_0':'time'})\n",
    "                     .to_dataset(name = 'time')\n",
    "                     [['time','y','x']]\n",
    "                    )\n",
    "    ## extract neap high tides\n",
    "    neaphighs_all = Max_testarray.isel(time=neaphighs_all.time)\n",
    "    \n",
    "if 'Hightide' in test_filters:\n",
    "    def lowesthightides(x):\n",
    "        '''\n",
    "        x is a grouping of x and y pixels from the peaks_array (labelled as 'z')\n",
    "        '''\n",
    "\n",
    "        ## apply the peak detection routine to calculate all the high tide maxima\n",
    "        high_peaks = np.array(argrelmax(x.values)[0])\n",
    "\n",
    "        ## extract all hightide peaks\n",
    "        Max_testarray = x.isel(time=high_peaks)\n",
    "\n",
    "        ## Identify all lower hightide peaks\n",
    "        lowhigh_peaks = np.array(argrelmin(Max_testarray.values)[0])\n",
    "\n",
    "        ## Interpolate the lower hightide curve\n",
    "        neap_high_linear = interp1d(\n",
    "                                    ## low high peaks as a subset of all high tide peaks\n",
    "                                    high_peaks[lowhigh_peaks],\n",
    "                                    ## Corresponding tide heights\n",
    "                                    Max_testarray.isel(time=lowhigh_peaks).squeeze(['z']).values,\n",
    "                                    kind='linear', \n",
    "                                    fill_value='extrapolate'\n",
    "                                    )\n",
    "        ## Create an array to interpolate into sans datetimes\n",
    "        count = np.arange(0,len(x),1)\n",
    "        neap_high_testline = neap_high_linear(count)\n",
    "\n",
    "        # # Extract hightides as all tides higher than/equal to the extrapolated lowest high tide line\n",
    "        hightide = x.squeeze(['z']).where(x.squeeze(['z']) >= neap_high_testline, drop=True)\n",
    "\n",
    "        return hightide \n",
    "\n",
    "    ## Vectorise the hightide calculation\n",
    "    lowhighs_all = stacked_everything.apply(lambda x: xr.DataArray(lowesthightides(x)))\n",
    "\n",
    "    # ## Unstack and re-format the array\n",
    "    lowhighs_all = lowhighs_all.unstack('z')\n",
    "    lowhighs_all_unstacked = (\n",
    "                        lowhighs_all\n",
    "                         .reindex(y=lowhighs_all.y[::-1])\n",
    "                         # .rename({'dim_0':'time'})\n",
    "                         # .rename({'time':'hightide'})\n",
    "                         .to_dataset()#name = 'time')\n",
    "                         [['tide_m','time','y','x']]\n",
    "                        )\n",
    "\n",
    "    ## Calculate exposure using regular method\n",
    "    calculate_quantiles = np.linspace(0, 1, 101)#101)\n",
    "\n",
    "    tide_cq = lowhighs_all_unstacked.tide_m.quantile(q=calculate_quantiles,dim='time')\n",
    "\n",
    "    # Calculate the tide-height difference between the elevation value and\n",
    "    # each percentile value per pixel\n",
    "    diff = abs(tide_cq - ds.elevation)\n",
    "\n",
    "    # Take the percentile of the smallest tide-height difference as the\n",
    "    # exposure % per pixel\n",
    "    idxmin = diff.idxmin(dim=\"quantile\")\n",
    "\n",
    "    # Convert to percentage\n",
    "    hightide_exposure = idxmin * 100\n",
    "    \n",
    "    # return hightide_exposure\n",
    "\n",
    "if 'Lowtide' in test_filters:\n",
    "    def highestlowtides(x):\n",
    "        '''\n",
    "        x is a grouping of x and y pixels from the peaks_array (labelled as 'z')\n",
    "        '''\n",
    "\n",
    "        ## apply the peak detection routine to calculate all the high tide maxima\n",
    "        low_peaks = np.array(argrelmin(x.values)[0])\n",
    "\n",
    "        ## extract all hightide peaks\n",
    "        Min_testarray = x.isel(time=low_peaks)\n",
    "\n",
    "        ## Identify all lower hightide peaks\n",
    "        highlow_peaks = np.array(argrelmax(Min_testarray.values)[0])\n",
    "\n",
    "        ## Interpolate the lower hightide curve\n",
    "        neap_low_linear = interp1d(\n",
    "                                ## low high peaks as a subset of all high tide peaks\n",
    "                                low_peaks[highlow_peaks],\n",
    "                                ## Corresponding tide heights\n",
    "                                Min_testarray.isel(time=highlow_peaks).squeeze(['z']).values,\n",
    "                                # stacked_everything33, \n",
    "                                # stacked_everything333.isel(y=0,x=0), # z=0 in stacked arrays?\n",
    "                                # stacked_everything333,#.isel(z=x), # z=0 in stacked arrays?\n",
    "                                # stacked_everything333.squeeze(['z']).values,\n",
    "                                bounds_error=False, \n",
    "                                kind='linear', \n",
    "                                fill_value='extrapolate'\n",
    "                              )\n",
    "        ## Create an array to interpolate into sans datetimes\n",
    "        count = np.arange(0,len(x),1)\n",
    "        neap_low_testline = neap_low_linear(count)\n",
    "\n",
    "        # # Extract hightides as all tides higher than/equal to the extrapolated lowest high tide line\n",
    "        lowtide = x.squeeze(['z']).where(x.squeeze(['z']) >= neap_low_testline, drop=True)\n",
    "\n",
    "        return lowtide \n",
    "\n",
    "    ## Vectorise the hightide calculation\n",
    "    highlows_all = stacked_everything.apply(lambda x: xr.DataArray(highestlowtides(x)))\n",
    "\n",
    "    # ## Unstack and re-format the array\n",
    "    highlows_all = highlows_all.unstack('z')\n",
    "    highlows_all_unstacked = (\n",
    "                        highlows_all\n",
    "                         .reindex(y=highlows_all.y[::-1])\n",
    "                         # .rename({'dim_0':'time'})\n",
    "                         # .rename({'time':'hightide'})\n",
    "                         .to_dataset()#name = 'time')\n",
    "                         [['tide_m','time','y','x']]\n",
    "                        )\n",
    "\n",
    "    ## Calculate exposure using regular method\n",
    "    calculate_quantiles = np.linspace(0, 1, 101)#101)\n",
    "\n",
    "    tide_cq = highlows_all_unstacked.tide_m.quantile(q=calculate_quantiles,dim='time')\n",
    "\n",
    "    # Calculate the tide-height difference between the elevation value and\n",
    "    # each percentile value per pixel\n",
    "    diff = abs(tide_cq - ds.elevation)\n",
    "\n",
    "    # Take the percentile of the smallest tide-height difference as the\n",
    "    # exposure % per pixel\n",
    "    idxmin = diff.idxmin(dim=\"quantile\")\n",
    "\n",
    "    # Convert to percentage\n",
    "    lowtide_exposure = idxmin * 100\n",
    "\n",
    "    # return lowtide_exposure"
   ]
  },
  {
   "cell_type": "code",
   "execution_count": null,
   "id": "f09c6c0d-4af4-4005-a1bf-00a3efb97db0",
   "metadata": {
    "tags": []
   },
   "outputs": [],
   "source": [
    "# ## Peak selections in xarray for single pixel\n",
    "# ## Calculations for Spring/Neap/High/Low tides\n",
    "# ## Hardcoded assumption: one spring high tide per 14 day half-lunar cycle\n",
    "\n",
    "# # Extract the modelling freq units\n",
    "# freq_unit = modelled_freq.split()[0][-1]\n",
    "# freq_value = modelled_freq.split()[0][:-1]\n",
    "# # Extract the number of modelled timesteps per 14 days\n",
    "# mod_timesteps = np.timedelta64(14,'D') / np.timedelta64(freq_value,freq_unit)\n",
    "\n",
    "# # Modelledtides for pixel y1x1\n",
    "# test_mt = modelledtides[0].isel(y=1,x=1)\n",
    "\n",
    "# ## Calculate the (spring) highest and lowest tides per 14 day half lunar cycle\n",
    "# springhighs = np.array(argrelmax(modelledtides[0].isel(y=1,x=1).values,\n",
    "#                                 order=(int(mod_timesteps/2)))[0])\n",
    "# springlows = np.array(argrelmin(modelledtides[0].isel(y=1,x=1).values,\n",
    "#                                 order=(int(mod_timesteps/2)))[0])\n",
    "\n",
    "# ## Calculate the neap high and low tides per 14 day half lunar cycle\n",
    "# # Calculate all the high tide maxima\n",
    "# Max_test = np.array(argrelmax(modelledtides[0].isel(y=1,x=1).values)[0])\n",
    "# # Calculate the neap high tide minima per half lunar cycle, based on the number of spring high maxima\n",
    "# neaphighs = np.array(argrelmin(test_mt[Max_test].values,\n",
    "#                               order=(int(ceil((len(test_mt[Max_test])/len(springhighs))/2))))[0])\n",
    "# # Calculate all the low tide minima\n",
    "# Min_test = np.array(argrelmin(modelledtides[0].isel(y=1,x=1).values)[0])\n",
    "# # Calculate the neap low tide maxima per half lunar cycle, based on the number of spring low minima\n",
    "# neaplows = np.array(argrelmax(test_mt[Min_test].values,\n",
    "#                               order=(int(ceil((len(test_mt[Min_test])/len(springlows))/2))))[0])\n",
    "\n",
    "# # if 'Spring_high':\n",
    "# #     time_range = test_mt[springhighs].time.values\n",
    "# # if 'Spring_low':\n",
    "# #     time_range = test_mt[springlows].time.values\n",
    "# # if 'Neap_high':\n",
    "# #     time_range = test_mt[Max_test][neaphighs].time.values\n",
    "# # if 'Neap_low':\n",
    "# #     time_range = test_mt[Min_test][neaplows].time.values\n",
    "\n",
    "# ## Calculate all hightide and lowtide peaks\n",
    "\n",
    "# # Create a dataset to model into, same length as test_mt (modelledtides) but without \n",
    "# # the complication of datetimes\n",
    "# count = np.arange(0,len(test_mt),1)\n",
    "\n",
    "# ## Need to extract the maxima and minima from the high and low tide maxima respectively\n",
    "# Max_max = np.array(argrelmax(test_mt[Max_test].values)[0])\n",
    "# Max_min = np.array(argrelmin(test_mt[Max_test].values)[0])\n",
    "\n",
    "# Min_max = np.array(argrelmax(test_mt[Min_test].values)[0])\n",
    "# Min_min = np.array(argrelmin(test_mt[Min_test].values)[0])\n",
    "\n",
    "\n",
    "# ## Interpolate the high and low spring and neap curves\n",
    "# # neap high tide curve\n",
    "# neap_high_linear = interp1d(Max_test[Max_min], \n",
    "#                             test_mt[Max_test][Max_min].values, \n",
    "#                             bounds_error=False, \n",
    "#                             kind='linear', \n",
    "#                             fill_value='extrapolate'\n",
    "#                            )\n",
    "# neap_high_testline = neap_high_linear(count)\n",
    "# # # spring high tide curve\n",
    "# # spring_high_linear = interp1d(Max_test[Max_max], \n",
    "# #                               test_mt[Max_test][Max_max].values, \n",
    "# #                               bounds_error=False, \n",
    "# #                               kind='linear', \n",
    "# #                               fill_value='extrapolate'\n",
    "# #                              )\n",
    "# # spring_high_testline = spring_high_linear(count)\n",
    "# # neap low tide curve\n",
    "# neap_low_linear = interp1d(Min_test[Min_max], \n",
    "#                            test_mt[Min_test][Min_max].values, \n",
    "#                            bounds_error=False, \n",
    "#                            kind='linear', \n",
    "#                            fill_value='extrapolate')\n",
    "# neap_low_testline = neap_low_linear(count)\n",
    "# # # spring low tide curve\n",
    "# # spring_low_linear = interp1d(Min_test[Min_min], \n",
    "# #                              test_mt[Min_test][Min_min].values, \n",
    "# #                              bounds_error=False, \n",
    "# #                              kind='linear', \n",
    "# #                              fill_value='extrapolate')\n",
    "# # spring_low_testline = spring_low_linear(count)\n",
    "# # turn test_mt (modelledtides) into xr.Dataset\n",
    "# test_mt = test_mt.to_dataset()\n",
    "# # append the extrapolated tidelines for the lowest high tides and\n",
    "# # highest low tides (not really neap - more neap-esque)\n",
    "# test_mt['neap_high_testline'] = (('time'), neap_high_testline)\n",
    "# test_mt['neap_low_testline'] = (('time'), neap_low_testline)\n",
    "# # Extract hightides as all tides higher than/equal to the extrapolated lowest high tide line\n",
    "# hightide = test_mt['tide_m'].where(test_mt['tide_m'] >= test_mt['neap_high_testline'], drop=True)\n",
    "# # Extract lowtides as all tides lower than/equal to the extrapolated highest low tide line\n",
    "# lowtide = test_mt['tide_m'].where(test_mt['tide_m'] <= test_mt['neap_low_testline'], drop=True)\n",
    "# # Extract datetimes to run through exposure module\n",
    "# # if 'Hightide':\n",
    "# #     time_range = hightide.time.values\n",
    "# # if 'Lowtide':\n",
    "# #     time_range = lowtide.time.values"
   ]
  },
  {
   "cell_type": "code",
   "execution_count": null,
   "id": "7e66af89-fb73-4867-9b1b-c61430ce830f",
   "metadata": {
    "tags": []
   },
   "outputs": [],
   "source": [
    "# all_timerange\n",
    "\n",
    "# dry =  all_timerange.drop(all_timerange\n",
    "#                         [(all_timerange.month == 10) ## Wet season: Oct-Mar\n",
    "#                         |(all_timerange.month == 11)\n",
    "#                         |(all_timerange.month == 12)\n",
    "#                         |(all_timerange.month == 1)\n",
    "#                         |(all_timerange.month == 2)\n",
    "#                         |(all_timerange.month == 3)\n",
    "#                         ])\n",
    "\n",
    "# wet = all_timerange.drop(all_timerange\n",
    "#                         [(all_timerange.month == 4) ## Dry season: Apr-Sep\n",
    "#                         |(all_timerange.month == 5)\n",
    "#                         |(all_timerange.month == 6)\n",
    "#                         |(all_timerange.month == 7)\n",
    "#                         |(all_timerange.month == 8)\n",
    "#                         |(all_timerange.month == 9)\n",
    "#                         ])\n",
    "\n",
    "\n",
    "# dry_modelledtides = pixel_tides(\n",
    "#                     ds,\n",
    "#                     times=dry,\n",
    "#                     model=tide_model,\n",
    "#                     directory = tide_model_dir)\n",
    "\n",
    "# wet_modelledtides = pixel_tides(\n",
    "#                     ds,\n",
    "#                     times=wet,\n",
    "#                     model=tide_model,\n",
    "#                     directory = tide_model_dir)"
   ]
  },
  {
   "cell_type": "code",
   "execution_count": null,
   "id": "4510e672-9820-49e0-8235-8ef5cb989b47",
   "metadata": {
    "tags": []
   },
   "outputs": [],
   "source": [
    "import matplotlib.pyplot as plt"
   ]
  },
  {
   "cell_type": "code",
   "execution_count": null,
   "id": "25956996-ea03-4d2d-8235-bcbcc9d80e38",
   "metadata": {
    "tags": []
   },
   "outputs": [],
   "source": [
    "modelledtides[0].isel(y=1,x=1).where(modelledtides[0].isel(y=1,x=1).time != "
   ]
  },
  {
   "cell_type": "code",
   "execution_count": null,
   "id": "82e6058c-407d-4d30-8e9e-8abc57c4a68a",
   "metadata": {
    "tags": []
   },
   "outputs": [],
   "source": [
    "dry_modelledtides[0].isel(y=1,x=1).plot(zorder=0)#marker='.', linestyle='')\n",
    "wet_modelledtides[0].isel(y=1,x=1).plot(marker='', linestyle='')\n",
    "\n",
    "# modelledtides.isel(y=1,x=1).where(modelledtides.isel(y=1,x=1) != "
   ]
  },
  {
   "cell_type": "code",
   "execution_count": null,
   "id": "09e198ea-3beb-446c-aa13-0754df0d20ce",
   "metadata": {
    "tags": []
   },
   "outputs": [],
   "source": [
    "plt.rcParams['font.size']=16\n",
    "\n",
    "test_mt.tide_m[0:-1].plot(zorder=1, label='wet season', color='#1f77b4', figsize=(9, 5),)#, marker='.', linestyle='')\n",
    "\n",
    "dry_modelledtides[0][0:1464].isel(y=1,x=1).plot( label='all tides', color='#ff7f0e')#, marker='.', linestyle='')\n",
    "dry_modelledtides[0][1465:2928].isel(y=1,x=1).plot(color='#ff7f0e')#figsize=(9, 5), label='dry season')#, marker='.', linestyle='')\n",
    "dry_modelledtides[0][2929:].isel(y=1,x=1).plot(color='#ff7f0e')#figsize=(9, 5), label='dry season')#, marker='.', linestyle='')\n",
    "# wet_modelledtides[0].isel(y=1,x=1).plot(marker='', linestyle='')\n",
    "\n",
    "\n",
    "## Plots to check outputs of high and low tide selections\n",
    "# lowtide[0:-1].plot(zorder=2, figsize=(9, 5), label='lowtide')#, marker='.', linestyle='')\n",
    "# lowtide[0:-1].plot(zorder=3, marker='.', linestyle='')\n",
    "\n",
    "# test_mt.neap_high_testline[0:-1].plot()\n",
    "# test_mt.neap_low_testline[0:2000].plot(zorder=10)\n",
    "plt.title('')\n",
    "plt.legend(loc='lower right')\n",
    "plt.xticks(ticks=[])\n",
    "# plt.margins(0)\n",
    "\n",
    "plt.savefig(f\"{output_dir}/{study_area}_{start_date}_{end_date}_px_wetseason\", bbox_inches='tight')"
   ]
  },
  {
   "cell_type": "code",
   "execution_count": null,
   "id": "67038bef-df19-42b3-850c-a7e9efec6cba",
   "metadata": {
    "tags": []
   },
   "outputs": [],
   "source": [
    "print(plt.rcParams['axes.prop_cycle'].by_key()['color'])"
   ]
  },
  {
   "cell_type": "code",
   "execution_count": null,
   "id": "f9cb25c2-a0b3-48b6-9e05-401c88f476e0",
   "metadata": {
    "tags": []
   },
   "outputs": [],
   "source": [
    "# Plots to check outputs of spring and neap tides selections\n",
    "\n",
    "# BEWARE: if this cell isn't working, check test_mt as it was prototyped as an \n",
    "# xr.Dataarray but was later converted to xr.Dataset\n",
    "\n",
    "test_mt.tide_m[1280:1485].plot(zorder=0)#ylim=0) #Modelledtides\n",
    "test_mt.tide_m[Max_test][310:357].plot(marker='o', linestyle='')\n",
    "test_mt.tide_m[Min_test][310:357].plot(marker='o', linestyle='', zorder=1)\n",
    "\n",
    "test_mt.tide_m[springhighs][11:13].plot(marker='o', linestyle='') \n",
    "test_mt.tide_m[springlows][11:13].plot(marker='o', linestyle='', zorder=2) \n",
    "test_mt.tide_m[Max_test][neaphighs][11:13].plot(marker='o', linestyle='')\n",
    "test_mt.tide_m[Min_test][neaplows][11:13].plot(marker='o', linestyle='', zorder=100)\n",
    "\n",
    "plt.plot(test_mt.tide_m[1280:1470].time, neap_high_testline[1280:1470])\n",
    "plt.plot(test_mt.tide_m[1280:1470].time, spring_high_testline[1280:1470])\n",
    "plt.plot(test_mt.tide_m[1280:1470].time, neap_low_testline[1280:1470])\n",
    "plt.plot(test_mt.tide_m[1280:1470].time, spring_low_testline[1280:1470])\n"
   ]
  },
  {
   "cell_type": "code",
   "execution_count": null,
   "id": "981eb9b7-712b-460c-a742-519009a158d9",
   "metadata": {
    "tags": []
   },
   "outputs": [],
   "source": [
    "ds['lowtide_exposure'] = lowtide_exposure#.plot()"
   ]
  },
  {
   "cell_type": "code",
   "execution_count": null,
   "id": "f46964bd-1dea-4718-b95a-595f5f7339d9",
   "metadata": {},
   "outputs": [],
   "source": [
    "ds['hightide_exposure'] = hightide_exposure#.plot()"
   ]
  },
  {
   "cell_type": "code",
   "execution_count": null,
   "id": "d81e6196-8cd1-468d-9fa0-a620ef355e01",
   "metadata": {},
   "outputs": [],
   "source": [
    "tiderange_day == tiderange_night"
   ]
  },
  {
   "cell_type": "code",
   "execution_count": null,
   "id": "39a0eac5-1e67-4a23-a363-dd999fbc2f9f",
   "metadata": {
    "tags": []
   },
   "outputs": [],
   "source": [
    "# Save rasters as GeoTIFFs\n",
    "export_intertidal_rasters(ds, prefix=f\"{output_dir}/{study_area}_{start_date}_{end_date}\")\n",
    "# Save rasters as GeoTIFFs\n",
    "# export_intertidal_rasters(hightide_exposure, prefix=f\"{output_dir}/{study_area}_{start_date}_{end_date}\")"
   ]
  },
  {
   "cell_type": "code",
   "execution_count": null,
   "id": "a42ffaa6-0c2d-4738-aa42-1679d5d07d9e",
   "metadata": {},
   "outputs": [],
   "source": [
    "ds"
   ]
  },
  {
   "cell_type": "code",
   "execution_count": null,
   "id": "7983a1a1-05dd-4c69-b556-625ca6c467b7",
   "metadata": {},
   "outputs": [],
   "source": []
  }
 ],
 "metadata": {
  "kernelspec": {
   "display_name": "Python 3 (ipykernel)",
   "language": "python",
   "name": "python3"
  },
  "language_info": {
   "codemirror_mode": {
    "name": "ipython",
    "version": 3
   },
   "file_extension": ".py",
   "mimetype": "text/x-python",
   "name": "python",
   "nbconvert_exporter": "python",
   "pygments_lexer": "ipython3",
   "version": "3.10.13"
  }
 },
 "nbformat": 4,
 "nbformat_minor": 5
}

{
 "cells": [
  {
   "cell_type": "markdown",
   "id": "f2d6b7a0-11bf-431f-b2dd-4d97c0cfb0a0",
   "metadata": {},
   "source": [
    "### Testing notebook to prototype exposure custom options"
   ]
  },
  {
   "cell_type": "markdown",
   "id": "f0d85842-924e-47ac-a447-c985e979ab89",
   "metadata": {},
   "source": [
    "## Getting started\n",
    "Set working directory to top level of repo to ensure links work correctly:"
   ]
  },
  {
   "cell_type": "code",
   "execution_count": 1,
   "id": "ba8324d3-bb4b-42f8-ab51-c9f98f46f080",
   "metadata": {
    "tags": []
   },
   "outputs": [
    {
     "name": "stdout",
     "output_type": "stream",
     "text": [
      "/home/jovyan/dea_intertidal/dea-intertidal\n"
     ]
    }
   ],
   "source": [
    "cd '/home/jovyan/dea_intertidal/dea-intertidal'"
   ]
  },
  {
   "cell_type": "markdown",
   "id": "32c2bb5f-4d03-450a-a9f1-f6ce93a6ccf6",
   "metadata": {},
   "source": [
    "Install additional packages directly from the requirements file"
   ]
  },
  {
   "cell_type": "code",
   "execution_count": 2,
   "id": "d7551ed6-1994-49d3-9300-0bc22fadb304",
   "metadata": {
    "tags": []
   },
   "outputs": [
    {
     "name": "stdout",
     "output_type": "stream",
     "text": [
      "Note: you may need to restart the kernel to use updated packages.\n"
     ]
    }
   ],
   "source": [
    "pip install -r requirements.in --quiet"
   ]
  },
  {
   "cell_type": "markdown",
   "id": "430f8524-11cf-471b-ab4a-592d9e52b233",
   "metadata": {},
   "source": [
    "## Load packages"
   ]
  },
  {
   "cell_type": "code",
   "execution_count": 3,
   "id": "1d19fac7-7637-4070-bde6-e63bcf3c9662",
   "metadata": {
    "tags": []
   },
   "outputs": [],
   "source": [
    "%load_ext autoreload\n",
    "%autoreload 2\n",
    "\n",
    "import os\n",
    "import pandas as pd\n",
    "import numpy as np\n",
    "# import re\n",
    "import matplotlib.pyplot as plt\n",
    "\n",
    "import datacube\n",
    "from datacube.utils.geometry import Geometry\n",
    "\n",
    "from intertidal.utils import (\n",
    "    # load_config,\n",
    "    round_date_strings,\n",
    "    export_intertidal_rasters,\n",
    "    intertidal_hillshade,\n",
    ")\n",
    "from intertidal.elevation import load_data, load_topobathy, elevation\n",
    "from intertidal.extents import extents\n",
    "from intertidal.exposure import exposure\n",
    "from intertidal.tidal_bias_offset import bias_offset, tidal_offset_tidelines\n",
    "from dea_tools.dask import create_local_dask_cluster\n",
    "\n",
    "## Temp for tide model testing 17/07/23\n",
    "from dea_tools.coastal import model_tides, pixel_tides\n",
    "\n",
    "\n",
    "# !pip install sunriset"
   ]
  },
  {
   "cell_type": "markdown",
   "id": "2546346c-fd91-46c8-bda9-bb22c8e94af7",
   "metadata": {},
   "source": [
    "## Setup\n",
    "### Set analysis parameters"
   ]
  },
  {
   "cell_type": "code",
   "execution_count": 4,
   "id": "352eb4e5-d98c-4fd5-a4ac-c3a0801283d8",
   "metadata": {
    "tags": []
   },
   "outputs": [],
   "source": [
    "# Intertidal Elevation variables\n",
    "start_date = \"2021\"  # Start date for analysis\n",
    "end_date = \"2022\"  # End date for analysis\n",
    "resolution = 10  # Spatial resolution used for output files\n",
    "crs = \"EPSG:3577\"  # Coordinate Reference System (CRS) to use for output files\n",
    "ndwi_thresh = 0.1  # Threshold used to identify dry/wet transition when calculating elevation\n",
    "include_s2 = True  # Include Sentinel-2 data in the analysis?\n",
    "include_ls = True  # Include Landsat data in the analysis?\n",
    "filter_gqa = True  # Filter to remove poorly georeferenced scenes?\n",
    "tide_model = \"ensemble\"  # Tide model to use in analysis\n",
    "tide_model_dir = \"/gdata1/data/tide_models_clipped\"  #  Tide models on Sandbox sharedrive\n",
    "# tide_model_dir = \"/var/share/tide_models\"  # Directory containing tide model files\n",
    "# tide_model = [\"FES2014\", \"FES2012\", \"TPXO9-atlas-v5\"]\n",
    "# tide_model_dir = \"/gdata1/data/tide_models_clipped\"\n",
    "\n",
    "# Exposure variables\n",
    "# For pandas time aliases, see: https://pandas.pydata.org/docs/user_guide/timeseries.html#offset-aliases\n",
    "modelled_freq = \"30min\"  # Frequency to run tidal model e.g '30T' for minutes or '1h' for hours \n",
    "\n",
    "# Generate range of times covering entire period of satellite record for exposure and bias/offset calculation\n",
    "all_timerange = pd.date_range(\n",
    "    start=round_date_strings(start_date, round_type=\"start\"),\n",
    "    end=round_date_strings(end_date, round_type=\"end\"),\n",
    "    freq=modelled_freq,\n",
    ")"
   ]
  },
  {
   "cell_type": "code",
   "execution_count": 5,
   "id": "97320660-85cf-4949-82c4-a2b01fe482d7",
   "metadata": {
    "tags": []
   },
   "outputs": [],
   "source": [
    "# # Set study area and config\n",
    "# study_area = \"gulfcarpentaria3\"\n",
    "# config_path = \"configs/dea_intertidal_config_development.yaml\"\n",
    "# # study_area = '844'\n",
    "# # config_path='configs/dea_intertidal_config.yaml'"
   ]
  },
  {
   "cell_type": "markdown",
   "id": "0a336b71-0d40-46f5-a213-4b2db4737c3b",
   "metadata": {},
   "source": [
    "#### *Optional: override study area selection using interactive map*"
   ]
  },
  {
   "cell_type": "code",
   "execution_count": 6,
   "id": "5108db11-a150-493a-9635-76d57c298fda",
   "metadata": {
    "tags": []
   },
   "outputs": [
    {
     "data": {
      "application/vnd.jupyter.widget-view+json": {
       "model_id": "b5c45cb065b3439399c89b257a6eb1ff",
       "version_major": 2,
       "version_minor": 0
      },
      "text/plain": [
       "Map(center=[-26, 135], controls=(ZoomControl(options=['position', 'zoom_in_text', 'zoom_in_title', 'zoom_out_t…"
      ]
     },
     "metadata": {},
     "output_type": "display_data"
    }
   ],
   "source": [
    "from odc.ui import select_on_a_map\n",
    "from ipyleaflet import basemaps, basemap_to_tiles\n",
    "\n",
    "# Plot interactive map to select area\n",
    "basemap = basemap_to_tiles(basemaps.Esri.WorldImagery)\n",
    "geom = select_on_a_map(height='600px',\n",
    "                       layers=(basemap,),\n",
    "                       center=(-26, 135),\n",
    "                       zoom=4)\n",
    "study_area = geom"
   ]
  },
  {
   "cell_type": "markdown",
   "id": "722d8f1b-5e02-4e71-a579-e5773cb0e3ed",
   "metadata": {},
   "source": [
    "## Intertidal workflow\n",
    "#### Load data"
   ]
  },
  {
   "cell_type": "code",
   "execution_count": 7,
   "id": "b902f104-0491-4cd9-b714-29449d6a06c2",
   "metadata": {
    "tags": []
   },
   "outputs": [
    {
     "data": {
      "text/html": [
       "<div>\n",
       "    <div style=\"width: 24px; height: 24px; background-color: #e1e1e1; border: 3px solid #9D9D9D; border-radius: 5px; position: absolute;\"> </div>\n",
       "    <div style=\"margin-left: 48px;\">\n",
       "        <h3 style=\"margin-bottom: 0px;\">Client</h3>\n",
       "        <p style=\"color: #9D9D9D; margin-bottom: 0px;\">Client-4b796834-b0e4-11ee-9360-c2a3e2df56d6</p>\n",
       "        <table style=\"width: 100%; text-align: left;\">\n",
       "\n",
       "        <tr>\n",
       "        \n",
       "            <td style=\"text-align: left;\"><strong>Connection method:</strong> Cluster object</td>\n",
       "            <td style=\"text-align: left;\"><strong>Cluster type:</strong> distributed.LocalCluster</td>\n",
       "        \n",
       "        </tr>\n",
       "\n",
       "        \n",
       "            <tr>\n",
       "                <td style=\"text-align: left;\">\n",
       "                    <strong>Dashboard: </strong> <a href=\"/user/claire.phillips@ga.gov.au/proxy/8787/status\" target=\"_blank\">/user/claire.phillips@ga.gov.au/proxy/8787/status</a>\n",
       "                </td>\n",
       "                <td style=\"text-align: left;\"></td>\n",
       "            </tr>\n",
       "        \n",
       "\n",
       "        </table>\n",
       "\n",
       "        \n",
       "            <button style=\"margin-bottom: 12px;\" data-commandlinker-command=\"dask:populate-and-launch-layout\" data-commandlinker-args='{\"url\": \"/user/claire.phillips@ga.gov.au/proxy/8787/status\" }'>\n",
       "                Launch dashboard in JupyterLab\n",
       "            </button>\n",
       "        \n",
       "\n",
       "        \n",
       "            <details>\n",
       "            <summary style=\"margin-bottom: 20px;\"><h3 style=\"display: inline;\">Cluster Info</h3></summary>\n",
       "            <div class=\"jp-RenderedHTMLCommon jp-RenderedHTML jp-mod-trusted jp-OutputArea-output\">\n",
       "    <div style=\"width: 24px; height: 24px; background-color: #e1e1e1; border: 3px solid #9D9D9D; border-radius: 5px; position: absolute;\">\n",
       "    </div>\n",
       "    <div style=\"margin-left: 48px;\">\n",
       "        <h3 style=\"margin-bottom: 0px; margin-top: 0px;\">LocalCluster</h3>\n",
       "        <p style=\"color: #9D9D9D; margin-bottom: 0px;\">f8d4b5e1</p>\n",
       "        <table style=\"width: 100%; text-align: left;\">\n",
       "            <tr>\n",
       "                <td style=\"text-align: left;\">\n",
       "                    <strong>Dashboard:</strong> <a href=\"/user/claire.phillips@ga.gov.au/proxy/8787/status\" target=\"_blank\">/user/claire.phillips@ga.gov.au/proxy/8787/status</a>\n",
       "                </td>\n",
       "                <td style=\"text-align: left;\">\n",
       "                    <strong>Workers:</strong> 1\n",
       "                </td>\n",
       "            </tr>\n",
       "            <tr>\n",
       "                <td style=\"text-align: left;\">\n",
       "                    <strong>Total threads:</strong> 15\n",
       "                </td>\n",
       "                <td style=\"text-align: left;\">\n",
       "                    <strong>Total memory:</strong> 117.21 GiB\n",
       "                </td>\n",
       "            </tr>\n",
       "            \n",
       "            <tr>\n",
       "    <td style=\"text-align: left;\"><strong>Status:</strong> running</td>\n",
       "    <td style=\"text-align: left;\"><strong>Using processes:</strong> True</td>\n",
       "</tr>\n",
       "\n",
       "            \n",
       "        </table>\n",
       "\n",
       "        <details>\n",
       "            <summary style=\"margin-bottom: 20px;\">\n",
       "                <h3 style=\"display: inline;\">Scheduler Info</h3>\n",
       "            </summary>\n",
       "\n",
       "            <div style=\"\">\n",
       "    <div>\n",
       "        <div style=\"width: 24px; height: 24px; background-color: #FFF7E5; border: 3px solid #FF6132; border-radius: 5px; position: absolute;\"> </div>\n",
       "        <div style=\"margin-left: 48px;\">\n",
       "            <h3 style=\"margin-bottom: 0px;\">Scheduler</h3>\n",
       "            <p style=\"color: #9D9D9D; margin-bottom: 0px;\">Scheduler-45e48322-d229-4030-9f71-93abd72b4f59</p>\n",
       "            <table style=\"width: 100%; text-align: left;\">\n",
       "                <tr>\n",
       "                    <td style=\"text-align: left;\">\n",
       "                        <strong>Comm:</strong> tcp://127.0.0.1:40963\n",
       "                    </td>\n",
       "                    <td style=\"text-align: left;\">\n",
       "                        <strong>Workers:</strong> 1\n",
       "                    </td>\n",
       "                </tr>\n",
       "                <tr>\n",
       "                    <td style=\"text-align: left;\">\n",
       "                        <strong>Dashboard:</strong> <a href=\"/user/claire.phillips@ga.gov.au/proxy/8787/status\" target=\"_blank\">/user/claire.phillips@ga.gov.au/proxy/8787/status</a>\n",
       "                    </td>\n",
       "                    <td style=\"text-align: left;\">\n",
       "                        <strong>Total threads:</strong> 15\n",
       "                    </td>\n",
       "                </tr>\n",
       "                <tr>\n",
       "                    <td style=\"text-align: left;\">\n",
       "                        <strong>Started:</strong> Just now\n",
       "                    </td>\n",
       "                    <td style=\"text-align: left;\">\n",
       "                        <strong>Total memory:</strong> 117.21 GiB\n",
       "                    </td>\n",
       "                </tr>\n",
       "            </table>\n",
       "        </div>\n",
       "    </div>\n",
       "\n",
       "    <details style=\"margin-left: 48px;\">\n",
       "        <summary style=\"margin-bottom: 20px;\">\n",
       "            <h3 style=\"display: inline;\">Workers</h3>\n",
       "        </summary>\n",
       "\n",
       "        \n",
       "        <div style=\"margin-bottom: 20px;\">\n",
       "            <div style=\"width: 24px; height: 24px; background-color: #DBF5FF; border: 3px solid #4CC9FF; border-radius: 5px; position: absolute;\"> </div>\n",
       "            <div style=\"margin-left: 48px;\">\n",
       "            <details>\n",
       "                <summary>\n",
       "                    <h4 style=\"margin-bottom: 0px; display: inline;\">Worker: 0</h4>\n",
       "                </summary>\n",
       "                <table style=\"width: 100%; text-align: left;\">\n",
       "                    <tr>\n",
       "                        <td style=\"text-align: left;\">\n",
       "                            <strong>Comm: </strong> tcp://127.0.0.1:46307\n",
       "                        </td>\n",
       "                        <td style=\"text-align: left;\">\n",
       "                            <strong>Total threads: </strong> 15\n",
       "                        </td>\n",
       "                    </tr>\n",
       "                    <tr>\n",
       "                        <td style=\"text-align: left;\">\n",
       "                            <strong>Dashboard: </strong> <a href=\"/user/claire.phillips@ga.gov.au/proxy/45371/status\" target=\"_blank\">/user/claire.phillips@ga.gov.au/proxy/45371/status</a>\n",
       "                        </td>\n",
       "                        <td style=\"text-align: left;\">\n",
       "                            <strong>Memory: </strong> 117.21 GiB\n",
       "                        </td>\n",
       "                    </tr>\n",
       "                    <tr>\n",
       "                        <td style=\"text-align: left;\">\n",
       "                            <strong>Nanny: </strong> tcp://127.0.0.1:34923\n",
       "                        </td>\n",
       "                        <td style=\"text-align: left;\"></td>\n",
       "                    </tr>\n",
       "                    <tr>\n",
       "                        <td colspan=\"2\" style=\"text-align: left;\">\n",
       "                            <strong>Local directory: </strong> /tmp/dask-worker-space/worker-2vyudk_5\n",
       "                        </td>\n",
       "                    </tr>\n",
       "\n",
       "                    \n",
       "\n",
       "                    \n",
       "\n",
       "                </table>\n",
       "            </details>\n",
       "            </div>\n",
       "        </div>\n",
       "        \n",
       "\n",
       "    </details>\n",
       "</div>\n",
       "\n",
       "        </details>\n",
       "    </div>\n",
       "</div>\n",
       "            </details>\n",
       "        \n",
       "\n",
       "    </div>\n",
       "</div>"
      ],
      "text/plain": [
       "<Client: 'tcp://127.0.0.1:40963' processes=1 threads=15, memory=117.21 GiB>"
      ]
     },
     "metadata": {},
     "output_type": "display_data"
    },
    {
     "name": "stderr",
     "output_type": "stream",
     "text": [
      "/env/lib/python3.10/site-packages/datacube/drivers/driver_cache.py:54: DeprecationWarning: pkg_resources is deprecated as an API. See https://setuptools.pypa.io/en/latest/pkg_resources.html\n",
      "  from pkg_resources import iter_entry_points\n",
      "/env/lib/python3.10/site-packages/rasterio/warp.py:344: NotGeoreferencedWarning: Dataset has no geotransform, gcps, or rpcs. The identity matrix will be returned.\n",
      "  _reproject(\n",
      "/env/lib/python3.10/site-packages/rasterio/warp.py:344: NotGeoreferencedWarning: Dataset has no geotransform, gcps, or rpcs. The identity matrix will be returned.\n",
      "  _reproject(\n"
     ]
    }
   ],
   "source": [
    "# Connect to datacube\n",
    "dc = datacube.Datacube(app=\"Intertidal_workflow\")\n",
    "\n",
    "# Create local dask cluster to improve data load time\n",
    "client = create_local_dask_cluster(return_client=True)\n",
    "\n",
    "satellite_ds = load_data(\n",
    "    dc=dc,\n",
    "    study_area=study_area,\n",
    "    geom=geom,\n",
    "    time_range=(start_date, end_date),\n",
    "    resolution=resolution,\n",
    "    crs=crs,\n",
    "    include_s2=True,\n",
    "    include_ls=True,\n",
    "    filter_gqa=filter_gqa,\n",
    "    max_cloudcover=90,\n",
    "    skip_broken_datasets=True,\n",
    ")\n",
    "\n",
    "# Load data and close dask client\n",
    "satellite_ds.load()\n",
    "client.close()"
   ]
  },
  {
   "cell_type": "markdown",
   "id": "dfae8a1c-bba8-4e51-93bb-9429ca36ec6f",
   "metadata": {},
   "source": [
    "### Load optional topobathy mask\n",
    "Loads a topo-bathymetric DEM for the extents of the loaded satellite data.\n",
    "This is used as a coarse mask to constrain the analysis to the coastal zone, improving run time and reducing clear false positives over deep water or elevated land."
   ]
  },
  {
   "cell_type": "code",
   "execution_count": 8,
   "id": "65662f45-afc4-4636-9ed3-f37e2d4b3c34",
   "metadata": {
    "tags": []
   },
   "outputs": [],
   "source": [
    "# Load data from GA's Australian Bathymetry and Topography Grid 2009\n",
    "topobathy_ds = load_topobathy(\n",
    "    dc, satellite_ds, product=\"ga_multi_ausbath_0\", resampling=\"bilinear\"\n",
    ")"
   ]
  },
  {
   "cell_type": "markdown",
   "id": "c163b0f0-5431-43e7-ba8e-378bd991c084",
   "metadata": {},
   "source": [
    "### Intertidal elevation\n",
    "To run without the topobathy DEM mask, comment out `valid_mask=...`."
   ]
  },
  {
   "cell_type": "code",
   "execution_count": 9,
   "id": "fa9bee00-cab0-43c8-8a4d-226dd5773ac0",
   "metadata": {
    "tags": []
   },
   "outputs": [
    {
     "name": "stderr",
     "output_type": "stream",
     "text": [
      "2024-01-12 00:49:12 INFO Modelling tide heights for each pixel\n"
     ]
    },
    {
     "name": "stdout",
     "output_type": "stream",
     "text": [
      "Creating reduced resolution 5000 x 5000 metre tide modelling array\n",
      "Modelling tides using FES2014, FES2012, TPXO8-atlas-v1, TPXO9-atlas-v5, EOT20, HAMTIDE11, GOT4.10 in parallel\n"
     ]
    },
    {
     "name": "stderr",
     "output_type": "stream",
     "text": [
      "100%|██████████| 35/35 [00:18<00:00,  1.91it/s]\n"
     ]
    },
    {
     "name": "stdout",
     "output_type": "stream",
     "text": [
      "Returning low resolution tide array\n",
      "Generating ensemble tide model from point inputs\n"
     ]
    },
    {
     "name": "stderr",
     "output_type": "stream",
     "text": [
      "/env/lib/python3.10/site-packages/rasterio/warp.py:344: NotGeoreferencedWarning: Dataset has no geotransform, gcps, or rpcs. The identity matrix will be returned.\n",
      "  _reproject(\n",
      "2024-01-12 00:49:35 INFO Masking nodata and adding tide heights to satellite data array\n",
      "2024-01-12 00:49:35 INFO Flattening satellite data array and filtering to intertidal candidate pixels\n",
      "2024-01-12 00:49:35 INFO Applying valid data mask to constrain study area\n",
      "2024-01-12 00:49:37 INFO Running per-pixel rolling median\n"
     ]
    },
    {
     "name": "stdout",
     "output_type": "stream",
     "text": [
      "Reducing analysed pixels from 194376 to 44935 (23.12%)\n"
     ]
    },
    {
     "data": {
      "application/vnd.jupyter.widget-view+json": {
       "model_id": "3b950624fe024424aaf04cea6e9d43a8",
       "version_major": 2,
       "version_minor": 0
      },
      "text/plain": [
       "  0%|          | 0/105 [00:00<?, ?it/s]"
      ]
     },
     "metadata": {},
     "output_type": "display_data"
    },
    {
     "name": "stderr",
     "output_type": "stream",
     "text": [
      "2024-01-12 00:50:11 INFO Modelling intertidal elevation\n"
     ]
    },
    {
     "name": "stdout",
     "output_type": "stream",
     "text": [
      "Applying tidal interval interpolation to 200 intervals\n",
      "Applying rolling mean smoothing with radius 20\n"
     ]
    },
    {
     "name": "stderr",
     "output_type": "stream",
     "text": [
      "2024-01-12 00:50:12 INFO Modelling intertidal uncertainty\n",
      "2024-01-12 00:50:14 INFO Unflattening data back to its original spatial dimensions\n",
      "2024-01-12 00:50:14 INFO Cleaning inaccurate upper intertidal pixels\n",
      "2024-01-12 00:50:14 INFO Successfully completed intertidal elevation modelling\n"
     ]
    }
   ],
   "source": [
    "# Model elevation for each pixel\n",
    "ds, ds_aux, tide_m = elevation(\n",
    "    satellite_ds,\n",
    "    valid_mask=topobathy_ds.height_depth > -20,\n",
    "    tide_model=tide_model,\n",
    "    tide_model_dir=tide_model_dir,\n",
    "    # config_path=config_path,\n",
    ")"
   ]
  },
  {
   "cell_type": "markdown",
   "id": "96a26983-d98b-4d77-a603-183ad70a27d7",
   "metadata": {},
   "source": [
    "### Intertidal extents"
   ]
  },
  {
   "cell_type": "code",
   "execution_count": 10,
   "id": "642ab47c-aff1-47cb-84e6-a3f884674d5b",
   "metadata": {
    "tags": []
   },
   "outputs": [],
   "source": [
    "ds['extents'] = extents(\n",
    "    freq=ds_aux.ndwi_wet_freq, dem=ds.elevation, corr=ds_aux.ndwi_tide_corr)"
   ]
  },
  {
   "cell_type": "code",
   "execution_count": 11,
   "id": "4c3eca37-7d37-4240-aa45-249c6d2d341e",
   "metadata": {
    "tags": []
   },
   "outputs": [],
   "source": [
    "# ## Plot\n",
    "# labels=['0 Dry',\n",
    "#        '1 Intermittent\\n   wet\\n   inland',\n",
    "#        '2 Wet inland',\n",
    "#        '3 Wet ocean',\n",
    "#        '4 Intertidal lc',\n",
    "#        '5 Intertidal hc',\n",
    "#        ]\n",
    "\n",
    "# fig,ax=plt.subplots(figsize=(12,8))\n",
    "# cax=ax.imshow(ds['extents'], cmap='terrain_r')\n",
    "# cbar=fig.colorbar(cax, ticks=[0,1,2,3,4,5])\n",
    "# cbar.ax.set_yticklabels(labels)\n",
    "# plt.show()\n"
   ]
  },
  {
   "cell_type": "markdown",
   "id": "96203122-38b4-44d3-9ae1-1fbab0123537",
   "metadata": {},
   "source": [
    "### Intertidal exposure\n",
    "Calculate exposure using the script function\n",
    "\n",
    "Nominate which filters to use for exposure calculation\n",
    "#### Filter options include:\n",
    "- 'unfiltered' and\n",
    "- temporal_filters: 'dry', 'wet', 'summer', 'autumn', 'winter', 'spring', 'Jan', 'Feb', 'Mar', 'Apr', \n",
    "                    # 'May', 'Jun', 'Jul', 'Aug', 'Sep', 'Oct', 'Nov', 'Dec', 'Daylight', 'Night'\n",
    "- spatial_filters: 'Spring_high', 'Spring_low', 'Neap_high', 'Neap_low', 'Hightide', 'Lowtide'"
   ]
  },
  {
   "cell_type": "code",
   "execution_count": 12,
   "id": "75483d43-64d8-490e-b58b-bfa7ce8ff2ed",
   "metadata": {
    "tags": []
   },
   "outputs": [
    {
     "name": "stdout",
     "output_type": "stream",
     "text": [
      "Calculating unfiltered exposure\n",
      "Creating reduced resolution 5000 x 5000 metre tide modelling array\n",
      "Modelling tides using FES2014, FES2012, TPXO8-atlas-v1, TPXO9-atlas-v5, EOT20, HAMTIDE11, GOT4.10 in parallel\n"
     ]
    },
    {
     "name": "stderr",
     "output_type": "stream",
     "text": [
      "100%|██████████| 35/35 [00:32<00:00,  1.09it/s]\n"
     ]
    },
    {
     "name": "stdout",
     "output_type": "stream",
     "text": [
      "Computing tide quantiles\n",
      "Returning low resolution tide array\n",
      "Generating ensemble tide model from point inputs\n",
      "Creating reduced resolution 5000 x 5000 metre tide modelling array\n",
      "Modelling tides using FES2014, FES2012, TPXO8-atlas-v1, TPXO9-atlas-v5, EOT20, HAMTIDE11, GOT4.10 in parallel\n"
     ]
    },
    {
     "name": "stderr",
     "output_type": "stream",
     "text": [
      "100%|██████████| 35/35 [00:33<00:00,  1.03it/s]\n"
     ]
    },
    {
     "name": "stdout",
     "output_type": "stream",
     "text": [
      "Returning low resolution tide array\n",
      "Generating ensemble tide model from point inputs\n",
      "Calculating temporal filter: Daylight\n",
      "Creating reduced resolution 5000 x 5000 metre tide modelling array\n",
      "Modelling tides using FES2014, FES2012, TPXO8-atlas-v1, TPXO9-atlas-v5, EOT20, HAMTIDE11, GOT4.10 in parallel\n"
     ]
    },
    {
     "name": "stderr",
     "output_type": "stream",
     "text": [
      "100%|██████████| 35/35 [00:25<00:00,  1.36it/s]\n"
     ]
    },
    {
     "name": "stdout",
     "output_type": "stream",
     "text": [
      "Computing tide quantiles\n",
      "Returning low resolution tide array\n",
      "Generating ensemble tide model from point inputs\n",
      "Calculating temporal filter: Night\n",
      "Creating reduced resolution 5000 x 5000 metre tide modelling array\n",
      "Modelling tides using FES2014, FES2012, TPXO8-atlas-v1, TPXO9-atlas-v5, EOT20, HAMTIDE11, GOT4.10 in parallel\n"
     ]
    },
    {
     "name": "stderr",
     "output_type": "stream",
     "text": [
      "100%|██████████| 35/35 [00:25<00:00,  1.40it/s]\n"
     ]
    },
    {
     "name": "stdout",
     "output_type": "stream",
     "text": [
      "Computing tide quantiles\n",
      "Returning low resolution tide array\n",
      "Generating ensemble tide model from point inputs\n",
      "Creating reduced resolution 5000 x 5000 metre tide modelling array\n",
      "Modelling tides using FES2014, FES2012, TPXO8-atlas-v1, TPXO9-atlas-v5, EOT20, HAMTIDE11, GOT4.10 in parallel\n"
     ]
    },
    {
     "name": "stderr",
     "output_type": "stream",
     "text": [
      "100%|██████████| 35/35 [00:24<00:00,  1.43it/s]\n"
     ]
    },
    {
     "name": "stdout",
     "output_type": "stream",
     "text": [
      "Computing tide quantiles\n",
      "Returning low resolution tide array\n",
      "Generating ensemble tide model from point inputs\n",
      "Calculating statial filter: Hightide\n",
      "Calculating Hightide\n",
      "Calculating statial filter: Lowtide\n",
      "Calculating Lowtide\n"
     ]
    }
   ],
   "source": [
    "## Calculate exposure without the addition of any filters\n",
    "# %reload_ext autoreload\n",
    "\n",
    "filters=['unfiltered', 'Daylight', 'Night', 'Hightide','Lowtide']\n",
    "\n",
    "# ds[\"exposure\"] = exposure(\n",
    "exposure_filters = exposure(\n",
    "    dem=ds.elevation,\n",
    "    time_range=all_timerange,\n",
    "    modelled_freq = modelled_freq,\n",
    "    tide_model=tide_model,\n",
    "    tide_model_dir=tide_model_dir,\n",
    "    filters=filters\n",
    "    )\n",
    "\n",
    "for x in filters:\n",
    "    ds['exposure_'+str(x)]=exposure_filters[str(x)]"
   ]
  },
  {
   "cell_type": "code",
   "execution_count": null,
   "id": "49a8b6ce-5017-4330-b24a-658e66a66334",
   "metadata": {},
   "outputs": [],
   "source": []
  }
 ],
 "metadata": {
  "kernelspec": {
   "display_name": "Python 3 (ipykernel)",
   "language": "python",
   "name": "python3"
  },
  "language_info": {
   "codemirror_mode": {
    "name": "ipython",
    "version": 3
   },
   "file_extension": ".py",
   "mimetype": "text/x-python",
   "name": "python",
   "nbconvert_exporter": "python",
   "pygments_lexer": "ipython3",
   "version": "3.10.13"
  }
 },
 "nbformat": 4,
 "nbformat_minor": 5
}

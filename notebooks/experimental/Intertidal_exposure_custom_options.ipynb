{
 "cells": [
  {
   "cell_type": "markdown",
   "id": "f2d6b7a0-11bf-431f-b2dd-4d97c0cfb0a0",
   "metadata": {},
   "source": [
    "### Testing notebook to prototype exposure custom options"
   ]
  },
  {
   "cell_type": "markdown",
   "id": "f0d85842-924e-47ac-a447-c985e979ab89",
   "metadata": {},
   "source": [
    "## Getting started\n",
    "Set working directory to top level of repo to ensure links work correctly:"
   ]
  },
  {
   "cell_type": "code",
   "execution_count": 1,
   "id": "ba8324d3-bb4b-42f8-ab51-c9f98f46f080",
   "metadata": {
    "tags": []
   },
   "outputs": [
    {
     "name": "stdout",
     "output_type": "stream",
     "text": [
      "/home/jovyan/dea_intertidal/dea-intertidal\n"
     ]
    }
   ],
   "source": [
    "cd ../.."
   ]
  },
  {
   "cell_type": "markdown",
   "id": "32c2bb5f-4d03-450a-a9f1-f6ce93a6ccf6",
   "metadata": {},
   "source": [
    "Install additional packages directly from the requirements file"
   ]
  },
  {
   "cell_type": "code",
   "execution_count": 2,
   "id": "d7551ed6-1994-49d3-9300-0bc22fadb304",
   "metadata": {
    "tags": []
   },
   "outputs": [
    {
     "name": "stdout",
     "output_type": "stream",
     "text": [
      "Note: you may need to restart the kernel to use updated packages.\n"
     ]
    }
   ],
   "source": [
    "pip install -r requirements.in --quiet"
   ]
  },
  {
   "cell_type": "markdown",
   "id": "430f8524-11cf-471b-ab4a-592d9e52b233",
   "metadata": {},
   "source": [
    "## Load packages"
   ]
  },
  {
   "cell_type": "code",
   "execution_count": 5,
   "id": "f88eada0-d3d1-4a80-a2d3-0f99519df8e3",
   "metadata": {
    "tags": []
   },
   "outputs": [
    {
     "name": "stdout",
     "output_type": "stream",
     "text": [
      "Collecting sunriset\n",
      "  Using cached sunriset-1.0-py3-none-any.whl (9.6 kB)\n",
      "Requirement already satisfied: pytz in /env/lib/python3.8/site-packages (from sunriset) (2023.3)\n",
      "Requirement already satisfied: pandas in /env/lib/python3.8/site-packages (from sunriset) (1.5.3)\n",
      "Requirement already satisfied: python-dateutil>=2.8.1 in /env/lib/python3.8/site-packages (from pandas->sunriset) (2.8.2)\n",
      "Requirement already satisfied: numpy>=1.20.3 in /env/lib/python3.8/site-packages (from pandas->sunriset) (1.24.3)\n",
      "Requirement already satisfied: six>=1.5 in /env/lib/python3.8/site-packages (from python-dateutil>=2.8.1->pandas->sunriset) (1.16.0)\n",
      "Installing collected packages: sunriset\n",
      "Successfully installed sunriset-1.0\n"
     ]
    }
   ],
   "source": [
    "!pip install sunriset"
   ]
  },
  {
   "cell_type": "code",
   "execution_count": 6,
   "id": "1d19fac7-7637-4070-bde6-e63bcf3c9662",
   "metadata": {
    "tags": []
   },
   "outputs": [
    {
     "name": "stdout",
     "output_type": "stream",
     "text": [
      "The autoreload extension is already loaded. To reload it, use:\n",
      "  %reload_ext autoreload\n"
     ]
    }
   ],
   "source": [
    "%load_ext autoreload\n",
    "%autoreload 2\n",
    "\n",
    "import os\n",
    "import pandas as pd\n",
    "import numpy as np\n",
    "import matplotlib.pyplot as plt\n",
    "\n",
    "import datacube\n",
    "from datacube.utils.geometry import Geometry\n",
    "\n",
    "from intertidal.utils import (\n",
    "    load_config,\n",
    "    round_date_strings,\n",
    "    export_intertidal_rasters,\n",
    "    intertidal_hillshade,\n",
    ")\n",
    "from intertidal.elevation import load_data, load_topobathy, elevation\n",
    "from intertidal.extents import extents\n",
    "from intertidal.exposure import exposure\n",
    "from intertidal.tidal_bias_offset import bias_offset, tidal_offset_tidelines\n",
    "from dea_tools.dask import create_local_dask_cluster\n",
    "\n",
    "## Temp for tide model testing 17/07/23\n",
    "from dea_tools.coastal import model_tides, pixel_tides\n",
    "\n",
    "\n",
    "# !pip install sunriset"
   ]
  },
  {
   "cell_type": "markdown",
   "id": "2546346c-fd91-46c8-bda9-bb22c8e94af7",
   "metadata": {},
   "source": [
    "## Setup\n",
    "### Set analysis parameters"
   ]
  },
  {
   "cell_type": "code",
   "execution_count": 7,
   "id": "b9002d1c-661e-43af-a9cc-a8af48452ec3",
   "metadata": {
    "tags": []
   },
   "outputs": [],
   "source": [
    "# Set study area and config\n",
    "study_area = \"pointstuart\"\n",
    "config_path = \"configs/dea_intertidal_config_development.yaml\"\n",
    "# study_area = '844'\n",
    "# config_path='configs/dea_intertidal_config.yaml'\n",
    "\n",
    "# Intertidal Elevation variables\n",
    "start_date = \"2019\"  # Start date for analysis\n",
    "end_date = \"2021\"  # End date for analysis\n",
    "resolution = 100  # Spatial resolution used for output files\n",
    "crs = \"EPSG:3577\"  # Coordinate Reference System (CRS) to use for output files\n",
    "ndwi_thresh = 0.1  # Threshold used to identify dry/wet transition when calculating elevation\n",
    "include_s2 = True  # Include Sentinel-2 data in the analysis?\n",
    "include_ls = True  # Include Landsat data in the analysis?\n",
    "filter_gqa = False  # Filter to remove poorly georeferenced scenes?\n",
    "tide_model = \"FES2014\"  # Tide model to use in analysis\n",
    "tide_model_dir = \"/gdata1/data/tide_models\"#\"/var/share/tide_models\"  # Directory containing tide model files\n",
    "# tide_model = [\"FES2014\", \"FES2012\", \"TPXO9-atlas-v5\"]\n",
    "# tide_model_dir = \"/gdata1/data/tide_models_clipped\"\n",
    "\n",
    "# Exposure variables\n",
    "modelled_freq = \"3h\"  # Frequency to run tidal model e.g '30min' or '1h'\n",
    "\n",
    "# Generate range of times covering entire period of satellite record for exposure and bias/offset calculation\n",
    "all_timerange = pd.date_range(\n",
    "    start=round_date_strings(start_date, round_type=\"start\"),\n",
    "    end=round_date_strings(end_date, round_type=\"end\"),\n",
    "    freq=modelled_freq,\n",
    ")"
   ]
  },
  {
   "cell_type": "markdown",
   "id": "0a336b71-0d40-46f5-a213-4b2db4737c3b",
   "metadata": {},
   "source": [
    "#### *Optional: override study area selection using interactive map*"
   ]
  },
  {
   "cell_type": "code",
   "execution_count": 8,
   "id": "5108db11-a150-493a-9635-76d57c298fda",
   "metadata": {
    "tags": []
   },
   "outputs": [],
   "source": [
    "# from odc.ui import select_on_a_map\n",
    "# from ipyleaflet import basemaps, basemap_to_tiles\n",
    "\n",
    "# # Plot interactive map to select area\n",
    "# basemap = basemap_to_tiles(basemaps.Esri.WorldImagery)\n",
    "# geom = select_on_a_map(height='600px',\n",
    "#                        layers=(basemap,),\n",
    "#                        center=(-26, 135),\n",
    "#                        zoom=4)\n",
    "# study_area = geom"
   ]
  },
  {
   "cell_type": "markdown",
   "id": "722d8f1b-5e02-4e71-a579-e5773cb0e3ed",
   "metadata": {},
   "source": [
    "## Intertidal workflow\n",
    "#### Load data"
   ]
  },
  {
   "cell_type": "code",
   "execution_count": 9,
   "id": "b902f104-0491-4cd9-b714-29449d6a06c2",
   "metadata": {
    "tags": []
   },
   "outputs": [
    {
     "data": {
      "text/html": [
       "<div>\n",
       "    <div style=\"width: 24px; height: 24px; background-color: #e1e1e1; border: 3px solid #9D9D9D; border-radius: 5px; position: absolute;\"> </div>\n",
       "    <div style=\"margin-left: 48px;\">\n",
       "        <h3 style=\"margin-bottom: 0px;\">Client</h3>\n",
       "        <p style=\"color: #9D9D9D; margin-bottom: 0px;\">Client-eea81f30-29b9-11ee-8081-26cc8c17ba28</p>\n",
       "        <table style=\"width: 100%; text-align: left;\">\n",
       "\n",
       "        <tr>\n",
       "        \n",
       "            <td style=\"text-align: left;\"><strong>Connection method:</strong> Cluster object</td>\n",
       "            <td style=\"text-align: left;\"><strong>Cluster type:</strong> distributed.LocalCluster</td>\n",
       "        \n",
       "        </tr>\n",
       "\n",
       "        \n",
       "            <tr>\n",
       "                <td style=\"text-align: left;\">\n",
       "                    <strong>Dashboard: </strong> <a href=\"/user/claire.phillips@ga.gov.au/proxy/8787/status\" target=\"_blank\">/user/claire.phillips@ga.gov.au/proxy/8787/status</a>\n",
       "                </td>\n",
       "                <td style=\"text-align: left;\"></td>\n",
       "            </tr>\n",
       "        \n",
       "\n",
       "        </table>\n",
       "\n",
       "        \n",
       "            <button style=\"margin-bottom: 12px;\" data-commandlinker-command=\"dask:populate-and-launch-layout\" data-commandlinker-args='{\"url\": \"/user/claire.phillips@ga.gov.au/proxy/8787/status\" }'>\n",
       "                Launch dashboard in JupyterLab\n",
       "            </button>\n",
       "        \n",
       "\n",
       "        \n",
       "            <details>\n",
       "            <summary style=\"margin-bottom: 20px;\"><h3 style=\"display: inline;\">Cluster Info</h3></summary>\n",
       "            <div class=\"jp-RenderedHTMLCommon jp-RenderedHTML jp-mod-trusted jp-OutputArea-output\">\n",
       "    <div style=\"width: 24px; height: 24px; background-color: #e1e1e1; border: 3px solid #9D9D9D; border-radius: 5px; position: absolute;\">\n",
       "    </div>\n",
       "    <div style=\"margin-left: 48px;\">\n",
       "        <h3 style=\"margin-bottom: 0px; margin-top: 0px;\">LocalCluster</h3>\n",
       "        <p style=\"color: #9D9D9D; margin-bottom: 0px;\">4af3eb4f</p>\n",
       "        <table style=\"width: 100%; text-align: left;\">\n",
       "            <tr>\n",
       "                <td style=\"text-align: left;\">\n",
       "                    <strong>Dashboard:</strong> <a href=\"/user/claire.phillips@ga.gov.au/proxy/8787/status\" target=\"_blank\">/user/claire.phillips@ga.gov.au/proxy/8787/status</a>\n",
       "                </td>\n",
       "                <td style=\"text-align: left;\">\n",
       "                    <strong>Workers:</strong> 1\n",
       "                </td>\n",
       "            </tr>\n",
       "            <tr>\n",
       "                <td style=\"text-align: left;\">\n",
       "                    <strong>Total threads:</strong> 31\n",
       "                </td>\n",
       "                <td style=\"text-align: left;\">\n",
       "                    <strong>Total memory:</strong> 237.21 GiB\n",
       "                </td>\n",
       "            </tr>\n",
       "            \n",
       "            <tr>\n",
       "    <td style=\"text-align: left;\"><strong>Status:</strong> running</td>\n",
       "    <td style=\"text-align: left;\"><strong>Using processes:</strong> True</td>\n",
       "</tr>\n",
       "\n",
       "            \n",
       "        </table>\n",
       "\n",
       "        <details>\n",
       "            <summary style=\"margin-bottom: 20px;\">\n",
       "                <h3 style=\"display: inline;\">Scheduler Info</h3>\n",
       "            </summary>\n",
       "\n",
       "            <div style=\"\">\n",
       "    <div>\n",
       "        <div style=\"width: 24px; height: 24px; background-color: #FFF7E5; border: 3px solid #FF6132; border-radius: 5px; position: absolute;\"> </div>\n",
       "        <div style=\"margin-left: 48px;\">\n",
       "            <h3 style=\"margin-bottom: 0px;\">Scheduler</h3>\n",
       "            <p style=\"color: #9D9D9D; margin-bottom: 0px;\">Scheduler-a833fdaa-4cbf-46f8-bad1-1e782325af3c</p>\n",
       "            <table style=\"width: 100%; text-align: left;\">\n",
       "                <tr>\n",
       "                    <td style=\"text-align: left;\">\n",
       "                        <strong>Comm:</strong> tcp://127.0.0.1:37507\n",
       "                    </td>\n",
       "                    <td style=\"text-align: left;\">\n",
       "                        <strong>Workers:</strong> 1\n",
       "                    </td>\n",
       "                </tr>\n",
       "                <tr>\n",
       "                    <td style=\"text-align: left;\">\n",
       "                        <strong>Dashboard:</strong> <a href=\"/user/claire.phillips@ga.gov.au/proxy/8787/status\" target=\"_blank\">/user/claire.phillips@ga.gov.au/proxy/8787/status</a>\n",
       "                    </td>\n",
       "                    <td style=\"text-align: left;\">\n",
       "                        <strong>Total threads:</strong> 31\n",
       "                    </td>\n",
       "                </tr>\n",
       "                <tr>\n",
       "                    <td style=\"text-align: left;\">\n",
       "                        <strong>Started:</strong> Just now\n",
       "                    </td>\n",
       "                    <td style=\"text-align: left;\">\n",
       "                        <strong>Total memory:</strong> 237.21 GiB\n",
       "                    </td>\n",
       "                </tr>\n",
       "            </table>\n",
       "        </div>\n",
       "    </div>\n",
       "\n",
       "    <details style=\"margin-left: 48px;\">\n",
       "        <summary style=\"margin-bottom: 20px;\">\n",
       "            <h3 style=\"display: inline;\">Workers</h3>\n",
       "        </summary>\n",
       "\n",
       "        \n",
       "        <div style=\"margin-bottom: 20px;\">\n",
       "            <div style=\"width: 24px; height: 24px; background-color: #DBF5FF; border: 3px solid #4CC9FF; border-radius: 5px; position: absolute;\"> </div>\n",
       "            <div style=\"margin-left: 48px;\">\n",
       "            <details>\n",
       "                <summary>\n",
       "                    <h4 style=\"margin-bottom: 0px; display: inline;\">Worker: 0</h4>\n",
       "                </summary>\n",
       "                <table style=\"width: 100%; text-align: left;\">\n",
       "                    <tr>\n",
       "                        <td style=\"text-align: left;\">\n",
       "                            <strong>Comm: </strong> tcp://127.0.0.1:42395\n",
       "                        </td>\n",
       "                        <td style=\"text-align: left;\">\n",
       "                            <strong>Total threads: </strong> 31\n",
       "                        </td>\n",
       "                    </tr>\n",
       "                    <tr>\n",
       "                        <td style=\"text-align: left;\">\n",
       "                            <strong>Dashboard: </strong> <a href=\"/user/claire.phillips@ga.gov.au/proxy/37917/status\" target=\"_blank\">/user/claire.phillips@ga.gov.au/proxy/37917/status</a>\n",
       "                        </td>\n",
       "                        <td style=\"text-align: left;\">\n",
       "                            <strong>Memory: </strong> 237.21 GiB\n",
       "                        </td>\n",
       "                    </tr>\n",
       "                    <tr>\n",
       "                        <td style=\"text-align: left;\">\n",
       "                            <strong>Nanny: </strong> tcp://127.0.0.1:41619\n",
       "                        </td>\n",
       "                        <td style=\"text-align: left;\"></td>\n",
       "                    </tr>\n",
       "                    <tr>\n",
       "                        <td colspan=\"2\" style=\"text-align: left;\">\n",
       "                            <strong>Local directory: </strong> /tmp/dask-scratch-space/worker-nbw7vawa\n",
       "                        </td>\n",
       "                    </tr>\n",
       "\n",
       "                    \n",
       "\n",
       "                    \n",
       "\n",
       "                </table>\n",
       "            </details>\n",
       "            </div>\n",
       "        </div>\n",
       "        \n",
       "\n",
       "    </details>\n",
       "</div>\n",
       "\n",
       "        </details>\n",
       "    </div>\n",
       "</div>\n",
       "            </details>\n",
       "        \n",
       "\n",
       "    </div>\n",
       "</div>"
      ],
      "text/plain": [
       "<Client: 'tcp://127.0.0.1:37507' processes=1 threads=31, memory=237.21 GiB>"
      ]
     },
     "metadata": {},
     "output_type": "display_data"
    },
    {
     "name": "stderr",
     "output_type": "stream",
     "text": [
      "/env/lib/python3.8/site-packages/rasterio/warp.py:344: NotGeoreferencedWarning: Dataset has no geotransform, gcps, or rpcs. The identity matrix will be returned.\n",
      "  _reproject(\n"
     ]
    }
   ],
   "source": [
    "# Connect to datacube\n",
    "dc = datacube.Datacube(app=\"Intertidal_workflow\")\n",
    "\n",
    "# Create local dask cluster to improve data load time\n",
    "client = create_local_dask_cluster(return_client=True)\n",
    "\n",
    "satellite_ds = load_data(\n",
    "    dc=dc,\n",
    "    study_area=study_area,\n",
    "    time_range=(start_date, end_date),\n",
    "    resolution=resolution,\n",
    "    crs=crs,\n",
    "    s2_prod=\"s2_nbart_ndwi\" if include_s2 else None,\n",
    "    ls_prod=\"ls_nbart_ndwi\" if include_ls else None,\n",
    "    config_path=config_path,\n",
    "    filter_gqa=filter_gqa)[[\"ndwi\"]]\n",
    "\n",
    "# Load data and close dask client\n",
    "satellite_ds.load()\n",
    "client.close()"
   ]
  },
  {
   "cell_type": "markdown",
   "id": "dfae8a1c-bba8-4e51-93bb-9429ca36ec6f",
   "metadata": {},
   "source": [
    "### Load optional topobathy mask\n",
    "Loads a topo-bathymetric DEM for the extents of the loaded satellite data.\n",
    "This is used as a coarse mask to constrain the analysis to the coastal zone, improving run time and reducing clear false positives over deep water or elevated land."
   ]
  },
  {
   "cell_type": "code",
   "execution_count": 10,
   "id": "65662f45-afc4-4636-9ed3-f37e2d4b3c34",
   "metadata": {
    "tags": []
   },
   "outputs": [],
   "source": [
    "# Load data from GA's Australian Bathymetry and Topography Grid 2009\n",
    "topobathy_ds = load_topobathy(\n",
    "    dc, satellite_ds, product=\"ga_multi_ausbath_0\", resampling=\"bilinear\"\n",
    ")"
   ]
  },
  {
   "cell_type": "markdown",
   "id": "c163b0f0-5431-43e7-ba8e-378bd991c084",
   "metadata": {},
   "source": [
    "### Intertidal elevation\n",
    "To run without the topobathy DEM mask, comment out `valid_mask=...`."
   ]
  },
  {
   "cell_type": "code",
   "execution_count": 11,
   "id": "fa9bee00-cab0-43c8-8a4d-226dd5773ac0",
   "metadata": {
    "tags": []
   },
   "outputs": [
    {
     "name": "stderr",
     "output_type": "stream",
     "text": [
      "2023-07-24 00:35:56 INFO Modelling tide heights for each pixel\n"
     ]
    },
    {
     "name": "stdout",
     "output_type": "stream",
     "text": [
      "Creating reduced resolution 5000 x 5000 metre tide modelling array\n",
      "Modelling tides with FES2014\n",
      "Reprojecting tides into original array\n"
     ]
    },
    {
     "name": "stderr",
     "output_type": "stream",
     "text": [
      "100%|██████████| 329/329 [00:00<00:00, 676.05it/s]\n",
      "2023-07-24 00:36:58 INFO Masking nodata and adding tide heights to satellite data array\n",
      "INFO:DEA Intertidal:Masking nodata and adding tide heights to satellite data array\n",
      "2023-07-24 00:36:58 INFO Flattening satellite data array and filtering to intertidal candidate pixels\n",
      "INFO:DEA Intertidal:Flattening satellite data array and filtering to intertidal candidate pixels\n",
      "2023-07-24 00:36:58 INFO Applying valid data mask to constrain study area\n",
      "INFO:DEA Intertidal:Applying valid data mask to constrain study area\n",
      "2023-07-24 00:36:58 INFO Running per-pixel rolling median\n",
      "INFO:DEA Intertidal:Running per-pixel rolling median\n"
     ]
    },
    {
     "name": "stdout",
     "output_type": "stream",
     "text": [
      "Reducing analysed pixels from 759 to 483 (63.64%)\n"
     ]
    },
    {
     "name": "stderr",
     "output_type": "stream",
     "text": [
      "100%|██████████| 114/114 [00:00<00:00, 452.34it/s]\n",
      "2023-07-24 00:36:59 INFO Modelling intertidal elevation\n",
      "INFO:DEA Intertidal:Modelling intertidal elevation\n",
      "2023-07-24 00:36:59 INFO Modelling intertidal uncertainty\n",
      "INFO:DEA Intertidal:Modelling intertidal uncertainty\n",
      "2023-07-24 00:36:59 INFO Unflattening data back to its original spatial dimensions\n",
      "INFO:DEA Intertidal:Unflattening data back to its original spatial dimensions\n",
      "2023-07-24 00:36:59 INFO Successfully completed intertidal elevation modelling\n",
      "INFO:DEA Intertidal:Successfully completed intertidal elevation modelling\n"
     ]
    }
   ],
   "source": [
    "# Model elevation for each pixel\n",
    "ds, ds_aux, tide_m = elevation(\n",
    "    satellite_ds,\n",
    "    valid_mask=topobathy_ds.height_depth > -20,\n",
    "    tide_model=tide_model,\n",
    "    tide_model_dir=tide_model_dir,\n",
    "    config_path=config_path,\n",
    ")"
   ]
  },
  {
   "cell_type": "markdown",
   "id": "96a26983-d98b-4d77-a603-183ad70a27d7",
   "metadata": {},
   "source": [
    "### Intertidal extents"
   ]
  },
  {
   "cell_type": "code",
   "execution_count": 12,
   "id": "642ab47c-aff1-47cb-84e6-a3f884674d5b",
   "metadata": {
    "tags": []
   },
   "outputs": [],
   "source": [
    "ds['extents'] = extents(ds_aux.ndwi_wet_freq, ds.elevation, ds_aux.ndwi_tide_corr)"
   ]
  },
  {
   "cell_type": "markdown",
   "id": "96203122-38b4-44d3-9ae1-1fbab0123537",
   "metadata": {},
   "source": [
    "### Intertidal exposure\n",
    "Calculate exposure using the script function"
   ]
  },
  {
   "cell_type": "code",
   "execution_count": null,
   "id": "75483d43-64d8-490e-b58b-bfa7ce8ff2ed",
   "metadata": {
    "tags": []
   },
   "outputs": [],
   "source": [
    "# ds[\"exposure\"], tide_cq, _ = exposure(\n",
    "#     dem=ds.elevation,\n",
    "#     time_range=all_timerange,\n",
    "#     tide_model=tide_model,\n",
    "#     tide_model_dir=tide_model_dir,\n",
    "# )"
   ]
  },
  {
   "cell_type": "code",
   "execution_count": null,
   "id": "72b88bf7-72ae-4132-9317-10a0d7d7c3ef",
   "metadata": {
    "tags": []
   },
   "outputs": [],
   "source": [
    "# ## Testing updated script\n",
    "\n",
    "# # %reload_ext autoreload\n",
    "\n",
    "# ds[\"exposure_summer\"], tide_cq_summer, tiderange_summer = exposure(\n",
    "#     dem=ds.elevation,\n",
    "#     time_range=all_timerange,\n",
    "#     tide_model=tide_model,\n",
    "#     tide_model_dir=tide_model_dir,\n",
    "#     filters = ['summer']\n",
    "# )"
   ]
  },
  {
   "cell_type": "code",
   "execution_count": 14,
   "id": "e14d4391-39ac-4e1c-85f3-87a0198fd0dd",
   "metadata": {
    "tags": []
   },
   "outputs": [
    {
     "name": "stdout",
     "output_type": "stream",
     "text": [
      "Creating reduced resolution 5000 x 5000 metre tide modelling array\n",
      "Modelling tides with FES2014\n",
      "Computing tide quantiles\n",
      "Reprojecting tides into original array\n"
     ]
    },
    {
     "name": "stderr",
     "output_type": "stream",
     "text": [
      "100%|██████████| 101/101 [00:00<00:00, 1152.40it/s]\n"
     ]
    }
   ],
   "source": [
    "# %reload_ext autoreload\n",
    "\n",
    "ds[\"exposure_daylight\"], tide_cq_day, tiderange_day = exposure(\n",
    "    start_date,\n",
    "    end_date,\n",
    "    dem=ds.elevation,\n",
    "    time_range=all_timerange,\n",
    "    tide_model=tide_model,\n",
    "    tide_model_dir=tide_model_dir,\n",
    "    filters = ['Daylight'],\n",
    "    timezones=timezones\n",
    ")"
   ]
  },
  {
   "cell_type": "code",
   "execution_count": 17,
   "id": "832deab2-e465-45ed-9517-e66baff9cc5a",
   "metadata": {
    "tags": []
   },
   "outputs": [],
   "source": [
    "# ## Testing cell\n",
    "\n",
    "# ## Bring in the geodata coast 100K polygons to assign local timezones to pixels\n",
    "\n",
    "# import geopandas as gpd\n",
    "# import xarray as xr\n",
    "\n",
    "# from shapely.geometry import Point\n",
    "# from shapely.ops import unary_union\n",
    "# import sunriset\n",
    "# from math import ceil\n",
    "# import datetime\n",
    "# from datetime import timedelta\n",
    "# import pytz\n",
    "# from pyproj import CRS\n",
    "# from pyproj import Transformer\n",
    "\n"
   ]
  },
  {
   "cell_type": "code",
   "execution_count": 13,
   "id": "0803444b-be0e-4907-986c-925f163ded85",
   "metadata": {
    "tags": []
   },
   "outputs": [
    {
     "data": {
      "text/plain": [
       "'../../gdata1/data/boundaries/GEODATA_COAST_100K/western_australia/cstwacd_r.shp'"
      ]
     },
     "execution_count": 13,
     "metadata": {},
     "output_type": "execute_result"
    }
   ],
   "source": [
    "# timezones = {'wa':'../../gdata1/data/boundaries/GEODATA_COAST_100K/western_australia/cstwacd_r.shp',\n",
    "#                  'nt':'../../gdata1/data/boundaries/GEODATA_COAST_100K/northern_territory/cstntcd_r.shp',\n",
    "#                  'sa':'../../gdata1/data/boundaries/GEODATA_COAST_100K/south_australia/cstsacd_r.shp',\n",
    "#                  'qld':'../../gdata1/data/boundaries/GEODATA_COAST_100K/queensland/cstqldmd_r.shp',\n",
    "#                  'nsw':'../../gdata1/data/boundaries/GEODATA_COAST_100K/new_south_wales/cstnswcd_r.shp',\n",
    "#                  'vic':'../../gdata1/data/boundaries/GEODATA_COAST_100K/victoria/cstviccd_r.shp',\n",
    "#                  'tas':'../../gdata1/data/boundaries/GEODATA_COAST_100K/tasmania/csttascd_r.shp'\n",
    "#             }\n",
    "# timezones['wa']"
   ]
  },
  {
   "cell_type": "code",
   "execution_count": null,
   "id": "386f521a-f210-49dc-abe3-9194b6fb2cf2",
   "metadata": {
    "tags": []
   },
   "outputs": [],
   "source": [
    "# ## Bring in the state polygons (note: native crs = epsg:4283)\n",
    "# wa = gpd.read_file('../../gdata1/data/boundaries/GEODATA_COAST_100K/western_australia/cstwacd_r.shp')\n",
    "# nt = gpd.read_file('../../gdata1/data/boundaries/GEODATA_COAST_100K/northern_territory/cstntcd_r.shp')\n",
    "# sa = gpd.read_file('../../gdata1/data/boundaries/GEODATA_COAST_100K/south_australia/cstsacd_r.shp')\n",
    "# qld = gpd.read_file('../../gdata1/data/boundaries/GEODATA_COAST_100K/queensland/cstqldmd_r.shp')\n",
    "# nsw = gpd.read_file('../../gdata1/data/boundaries/GEODATA_COAST_100K/new_south_wales/cstnswcd_r.shp')\n",
    "# vic = gpd.read_file('../../gdata1/data/boundaries/GEODATA_COAST_100K/victoria/cstviccd_r.shp')\n",
    "# tas = gpd.read_file('../../gdata1/data/boundaries/GEODATA_COAST_100K/tasmania/csttascd_r.shp')\n",
    "\n",
    "# # Merge to create single timezone (state) boundaries\n",
    "# wa = gpd.GeoSeries(unary_union(wa.geometry))\n",
    "# nt = gpd.GeoSeries(unary_union(nt.geometry))\n",
    "# sa = gpd.GeoSeries(unary_union(sa.geometry))\n",
    "# qld = gpd.GeoSeries(unary_union(qld.geometry))\n",
    "# nsw = gpd.GeoSeries(unary_union(nsw.geometry))\n",
    "# vic = gpd.GeoSeries(unary_union(vic.geometry))\n",
    "# tas = gpd.GeoSeries(unary_union(tas.geometry))"
   ]
  },
  {
   "cell_type": "code",
   "execution_count": null,
   "id": "383a46b7-a9c0-4fb5-8c2a-b5b494a4c492",
   "metadata": {
    "tags": []
   },
   "outputs": [],
   "source": [
    "# ## Transform the analysis aoi coords to common CRS\n",
    "\n",
    "# tidepost_lat_3577 = ds.x.median(dim='x').values\n",
    "# tidepost_lon_3577 = ds.y.median(dim='y').values\n",
    "\n",
    "# ## Datacube native CRS\n",
    "# crs_3577 = CRS.from_epsg(3577) \n",
    "\n",
    "# ## GDA94/Aus Albers (meters)\n",
    "\n",
    "# ## Create a transform to convert default epsg3577 coords to epsg4326 for use in sunise/sunset library\n",
    "\n",
    "# ## World WGS84 (degrees)\n",
    "# crs_4326 = CRS.from_epsg(4326) \n",
    "# ## Transfer coords from/to\n",
    "# transformer_4326 = Transformer.from_crs(crs_3577, crs_4326)\n",
    "# ## Translate the tidepost coords\n",
    "# tidepost_lat_4326, tidepost_lon_4326 = transformer_4326.transform(tidepost_lat_3577, tidepost_lon_3577)\n",
    "# ## Coordinate point to locate the sunriset calculation\n",
    "# point_4326 = Point(tidepost_lon_4326, tidepost_lat_4326)\n",
    "\n",
    "# ## (1) Create a transform to convert default epsg3577 coords to epsg4283 to compare against polygons and \n",
    "# ## assign a timezone\n",
    "\n",
    "# ## GDA94 CRS (degrees)\n",
    "# crs_4283 = CRS.from_epsg(4283) ## GDA94 Australia (degrees)\n",
    "# ## Transfer coords from/to\n",
    "# transformer_4283 = Transformer.from_crs(crs_3577, crs_4283) \n",
    "# ## Translate tidepost coords\n",
    "# tidepost_lat_4283, tidepost_lon_4283 = transformer_4283.transform(tidepost_lat_3577, tidepost_lon_3577)\n",
    "# ## Coordinate point to test for timezone   \n",
    "# point_4283 = Point(tidepost_lon_4283, tidepost_lat_4283)\n"
   ]
  },
  {
   "cell_type": "code",
   "execution_count": null,
   "id": "3ec620a0-ff7b-43de-ba73-b99b3e7b372f",
   "metadata": {
    "tags": []
   },
   "outputs": [],
   "source": [
    "# ## Set the local timezone for the analysis area of interest\n",
    "# if wa.contains(point_4283)[0] == True:\n",
    "#     timezone = 'Australia/West'\n",
    "#     local_tz = 8\n",
    "#     # break\n",
    "# elif nt.contains(point_4283)[0] == True:\n",
    "#     timezone = 'Australia/North'\n",
    "#     local_tz = 9.5\n",
    "#     # break\n",
    "# elif sa.contains(point_4283)[0] == True:\n",
    "#     timezone = 'Australia/South'\n",
    "#     local_tz = 9.5\n",
    "#     # break\n",
    "# elif qld.contains(point_4283)[0] == True:\n",
    "#     timezone = 'Australia/Queensland'\n",
    "#     local_tz = 10\n",
    "#     # break\n",
    "# elif nsw.contains(point_4283)[0] == True:\n",
    "#     timezone = 'Australia/NSW'\n",
    "#     local_tz = 10\n",
    "#     # break\n",
    "# elif vic.contains(point_4283)[0] == True:\n",
    "#     timezone = 'Australia/Victoria'\n",
    "#     local_tz = 10\n",
    "#     # break\n",
    "# elif tas.contains(point_4283)[0] == True:\n",
    "#     timezone = 'Australia/Tasmania'\n",
    "#     local_tz = 10\n",
    "#     # break\n",
    "# print (timezone, local_tz)    "
   ]
  },
  {
   "cell_type": "code",
   "execution_count": null,
   "id": "e1899c68-869a-4a34-ab04-844f0c93dcb2",
   "metadata": {
    "tags": []
   },
   "outputs": [],
   "source": [
    "# ## Testing sunriset calculations\n",
    "\n",
    "# # Place start and end dates in correct format\n",
    "# start=round_date_strings(start_date, round_type=\"start\")\n",
    "# end=round_date_strings(end_date, round_type=\"end\")\n",
    "# startdate = datetime.date(pd.to_datetime(start).year, pd.to_datetime(start).month, pd.to_datetime(start).day)\n",
    "\n",
    "# # # Make the start date timezone aware \n",
    "# # time_start = pd.to_datetime(start, utc=True).tz_convert(timezone)\n",
    "\n",
    "# # Make 'all_timerange' time-zone aware\n",
    "# localtides = all_timerange.tz_localize(tz=pytz.UTC).tz_convert(timezone)\n",
    "\n",
    "# # Replace the UTC datetimes from all_timerange with local times\n",
    "# modelledtides = pd.DataFrame(index = localtides)\n",
    "\n",
    "# # Return the difference in years for the time-period. \n",
    "# # Round up to ensure all modelledtide datetimes are captured in the solar model\n",
    "# diff = pd.to_datetime(end) - pd.to_datetime(start)\n",
    "# diff = int(ceil(diff.days/365))\n",
    "\n",
    "# # ## Locate the central pixel for the area of interest\n",
    "# # ## TODO: work out how to manage this in the pixel-based workflow. Perhaps\n",
    "# # ## use the same modelling resolution as the underlying tidal model?\n",
    "# # tidepost_lat = ds.x.median(dim='x')\n",
    "# # tidepost_lon = ds.y.median(dim='y')\n",
    "\n",
    "# # ## Create a transform to convert default epsg3577 coords to epsg4326 for use in sunise/sunset library\n",
    "# # crs_4326 = CRS.from_epsg(4326)\n",
    "# # crs_3577 = CRS.from_epsg(3577)\n",
    "\n",
    "# # transformer = Transformer.from_crs(crs_3577, crs_4326)\n",
    "\n",
    "# # ## Translate tidepost coords\n",
    "# # tidepost_lat, tidepost_lon = transformer.transform(tidepost_lon.values, tidepost_lat.values)\n",
    "\n",
    "# ## Model sunrise and sunset\n",
    "# sun_df = sunriset.to_pandas(startdate, tidepost_lat_4326, tidepost_lon_4326, local_tz, diff)\n",
    "\n",
    "# ## Set the index as a datetimeindex to match the modelledtide df\n",
    "# sun_df = sun_df.set_index(pd.DatetimeIndex(sun_df.index))\n",
    "\n",
    "# ## Append the date to each Sunrise and Sunset time\n",
    "# sun_df['Sunrise dt'] = sun_df.index + sun_df['Sunrise']\n",
    "# sun_df['Sunset dt'] = sun_df.index + (sun_df['Sunset'])\n",
    "\n",
    "# ## Create new dataframes where daytime and nightime datetimes are recorded, then merged on a new `Sunlight` column\n",
    "# daytime=pd.DataFrame(data = 'Sunrise', index=sun_df['Sunrise dt'], columns=['Sunlight'])\n",
    "# nighttime=pd.DataFrame(data = 'Sunset', index=sun_df['Sunset dt'], columns=['Sunlight'])\n",
    "# DayNight = pd.concat([daytime, nighttime], join='outer')\n",
    "# DayNight.sort_index(inplace=True)\n",
    "# DayNight.index.rename('Datetime', inplace=True)\n",
    "\n",
    "# ## Create an xarray object from the merged day/night dataframe\n",
    "# day_night = xr.Dataset.from_dataframe(DayNight)\n",
    "\n",
    "# ## Remove local timezone timestamp column in modelledtides dataframe. Xarray doesn't handle \n",
    "# ## timezone aware datetimeindexes 'from_dataframe' very well.\n",
    "# modelledtides.index = modelledtides.index.tz_localize(tz=None)\n",
    "\n",
    "# ## Create an xr Dataset from the modelledtides pd.dataframe\n",
    "# mt = modelledtides.to_xarray()\n",
    "\n",
    "# ## Filter the modelledtides (mt) by the daytime, nighttime datetimes from the sunriset module\n",
    "# ## Modelled tides are designated as either day or night by propogation of the last valid index value forward\n",
    "# Solar=day_night.sel(Datetime=mt.index, method='ffill')\n",
    "\n",
    "# ## Assign the day and night tideheight datasets\n",
    "# SolarDayTides = mt.where(Solar.Sunlight=='Sunrise', drop=True)\n",
    "# SolarNightTides = mt.where(Solar.Sunlight=='Sunset', drop=True)\n",
    "\n",
    "# ## Extract DatetimeIndexes to use in exposure calculations\n",
    "# all_timerange_day = pd.DatetimeIndex(SolarDayTides.index)\n",
    "# all_timerange_night = pd.DatetimeIndex(SolarNightTides.index)\n",
    "\n"
   ]
  },
  {
   "cell_type": "code",
   "execution_count": 15,
   "id": "7367ec88-d8b2-43a2-9004-58d032a3e929",
   "metadata": {
    "tags": []
   },
   "outputs": [
    {
     "data": {
      "text/plain": [
       "<matplotlib.collections.QuadMesh at 0x7fbb94e46910>"
      ]
     },
     "execution_count": 15,
     "metadata": {},
     "output_type": "execute_result"
    },
    {
     "data": {
      "image/png": "[encoded data removed]",
      "text/plain": [
       "<Figure size 640x480 with 2 Axes>"
      ]
     },
     "metadata": {},
     "output_type": "display_data"
    }
   ],
   "source": [
    "ds.exposure_daylight.plot()"
   ]
  },
  {
   "cell_type": "code",
   "execution_count": 16,
   "id": "a026e4ed-4936-4d96-87bb-ed4c44bff01f",
   "metadata": {
    "tags": []
   },
   "outputs": [
    {
     "data": {
      "text/plain": [
       "<matplotlib.collections.QuadMesh at 0x7fbb94e3c130>"
      ]
     },
     "execution_count": 16,
     "metadata": {},
     "output_type": "execute_result"
    },
    {
     "data": {
      "image/png": "[encoded data removed]",
      "text/plain": [
       "<Figure size 640x480 with 2 Axes>"
      ]
     },
     "metadata": {},
     "output_type": "display_data"
    }
   ],
   "source": [
    "ds.elevation.plot()"
   ]
  },
  {
   "cell_type": "code",
   "execution_count": 19,
   "id": "abd1fb5e-31c4-4344-83f5-145aadfd738a",
   "metadata": {
    "tags": []
   },
   "outputs": [],
   "source": [
    "from dea_tools.coastal import model_tides, pixel_tides"
   ]
  },
  {
   "cell_type": "code",
   "execution_count": 18,
   "id": "6d0de55f-df1f-481a-81fa-1448d26894a9",
   "metadata": {
    "tags": []
   },
   "outputs": [],
   "source": [
    "# ?pixel_tides"
   ]
  },
  {
   "cell_type": "code",
   "execution_count": 20,
   "id": "5b0d548e-eebf-431a-8c8f-2ea40adadae3",
   "metadata": {
    "tags": []
   },
   "outputs": [
    {
     "name": "stdout",
     "output_type": "stream",
     "text": [
      "Creating reduced resolution 5000 x 5000 metre tide modelling array\n",
      "Modelling tides with FES2014\n",
      "Reprojecting tides into original array\n"
     ]
    },
    {
     "name": "stderr",
     "output_type": "stream",
     "text": [
      "100%|██████████| 8761/8761 [00:05<00:00, 1541.71it/s]\n"
     ]
    }
   ],
   "source": [
    "## Testing for spatial customisation (splicing up the tidal zone)\n",
    "\n",
    "modelledtides = pixel_tides(\n",
    "                ds,\n",
    "                times=all_timerange,\n",
    "                model=tide_model,\n",
    "                directory = '../../gdata1/data/tide_models')\n",
    "    "
   ]
  },
  {
   "cell_type": "code",
   "execution_count": 21,
   "id": "961833b5-a557-4623-b0a5-4db772b86868",
   "metadata": {
    "tags": []
   },
   "outputs": [],
   "source": [
    "from scipy.signal import argrelmax \n",
    "from scipy.signal import argrelmin \n",
    "from scipy.interpolate import interp1d \n",
    "import xarray as xr"
   ]
  },
  {
   "cell_type": "code",
   "execution_count": 97,
   "id": "f87f9500-6227-49b7-971b-efd317966c02",
   "metadata": {
    "tags": []
   },
   "outputs": [],
   "source": [
    "# mt_df = modelledtides[0].to_dataframe()#.(dim='time') ##high_res tides"
   ]
  },
  {
   "cell_type": "code",
   "execution_count": 130,
   "id": "5ba86daf-60f7-4368-b22e-75f5d4bc7dea",
   "metadata": {
    "tags": []
   },
   "outputs": [],
   "source": [
    "# ## All peaks(maxima) in modelledtides \n",
    "# # Max = argrelmax(modelledtides[0:-1].tideheights.values)\n",
    "# mt_df['Max'] = argrelmax(mt_df.tide_m.values)[0]\n",
    "\n",
    "# # def tide_maxima(first_sample, dim):\n",
    "# #     return xr.apply_ufunc(argrelmax,\n",
    "# #                        first_sample,\n",
    "# #                        input_core_dims=dim,\n",
    "# #                        # output_core_dims=[['y'],['x']],\n",
    "# #                        vectorize=False)\n",
    "\n",
    "# # test = tide_maxima(modelledtides[0].values, dim=[[],['y'],['x']])\n",
    "# # test\n",
    "\n",
    "\n",
    "\n",
    "\n",
    "# # Max = np.array(Max[0])\n",
    "\n",
    "# mt_df"
   ]
  },
  {
   "cell_type": "code",
   "execution_count": 236,
   "id": "f200610d-b385-4df7-91ae-42d342c27189",
   "metadata": {
    "tags": []
   },
   "outputs": [],
   "source": [
    "# argrelmax(modelledtides[0].isel(y=1,x=1).values)\n"
   ]
  },
  {
   "cell_type": "code",
   "execution_count": 22,
   "id": "8a7c10ee-1687-4ce6-be41-8a3879d7fae6",
   "metadata": {
    "tags": []
   },
   "outputs": [],
   "source": [
    "## Prototyping: peak selections in xarray for single pixel\n",
    "\n",
    "## Calculate one spring high tide per 14 day half-lunar cycle\n",
    "\n",
    "# Extract the modelling freq units\n",
    "freq_unit = modelled_freq.split()[0][-1]\n",
    "freq_value = modelled_freq.split()[0][:-1]\n",
    "# Extract the number of modelled timesteps per 14 days\n",
    "mod_timesteps = np.timedelta64(14,'D') / np.timedelta64(freq_value,freq_unit)\n",
    "\n",
    "# Modelledtides for pixel y1x1\n",
    "test_mt = modelledtides[0].isel(y=1,x=1)\n",
    "\n",
    "## Calculate the (spring) highest and lowest tides per 14 day half lunar cycle\n",
    "springhighs = np.array(argrelmax(modelledtides[0].isel(y=1,x=1).values,\n",
    "                                order=(int(mod_timesteps/2)))[0])\n",
    "springlows = np.array(argrelmin(modelledtides[0].isel(y=1,x=1).values,\n",
    "                                order=(int(mod_timesteps/2)))[0])\n",
    "\n",
    "## Calculate the neap high and low tides per 14 day half lunar cycle\n",
    "# Calculate all the high tide maxima\n",
    "Max_test = np.array(argrelmax(modelledtides[0].isel(y=1,x=1).values)[0])\n",
    "# Calculate the neap high tide minima per half lunar cycle, based on the number of spring high maxima\n",
    "neaphighs = np.array(argrelmin(test_mt[Max_test].values,\n",
    "                              order=(int(ceil((len(test_mt[Max_test])/len(springhighs))/2))))[0])\n",
    "# Calculate all the low tide minima\n",
    "Min_test = np.array(argrelmin(modelledtides[0].isel(y=1,x=1).values)[0])\n",
    "# Calculate the neap low tide maxima per half lunar cycle, based on the number of spring low minima\n",
    "neaplows = np.array(argrelmax(test_mt[Min_test].values,\n",
    "                              order=(int(ceil((len(test_mt[Min_test])/len(springlows))/2))))[0])"
   ]
  },
  {
   "cell_type": "code",
   "execution_count": 44,
   "id": "fd0de9a1-6151-4f7d-88ab-5fc97312e497",
   "metadata": {
    "tags": []
   },
   "outputs": [],
   "source": [
    "#Find the maxima (spring high) of the maxima\n",
    "\n",
    "maxhigh = np.array(argrelmax(test_mt[Max_test].values)[0])\n",
    "# maxhigh = np.array(maxhigh[0])\n",
    "springhigh = np.array(argrelmax(test_mt[maxhigh].values)[0])\n",
    "# springhigh = np.array(springhigh[0])"
   ]
  },
  {
   "cell_type": "code",
   "execution_count": 46,
   "id": "97a82a66-afda-4ac2-a062-597a5fb91a1b",
   "metadata": {
    "tags": []
   },
   "outputs": [
    {
     "data": {
      "text/plain": [
       "[<matplotlib.lines.Line2D at 0x7fbb94bba8e0>]"
      ]
     },
     "execution_count": 46,
     "metadata": {},
     "output_type": "execute_result"
    },
    {
     "data": {
      "image/png": "[encoded data removed]",
      "text/plain": [
       "<Figure size 640x480 with 1 Axes>"
      ]
     },
     "metadata": {},
     "output_type": "display_data"
    }
   ],
   "source": [
    "# modelledtides[0].isel(y=1,x=1)[0:500].plot()\n",
    "test_mt[0:425].plot(ylim=0) #Modelledtides\n",
    "test_mt[Max_test][0:100].plot(marker='o', linestyle='')  #All high tides (spring to neap)\n",
    "test_mt[Max_test][maxhigh][0:50].plot(marker='o', linestyle='') #Higher fraction of tides (e.g. semidiurnal lunar high tides)\n",
    "test_mt[Max_test][maxhigh][springhigh][0:20].plot(marker='o', linestyle='') #Meant to be spring highs only (one every 14 days)"
   ]
  },
  {
   "cell_type": "code",
   "execution_count": 103,
   "id": "ae9c3120-1268-4d1e-b759-4748944809bf",
   "metadata": {
    "tags": []
   },
   "outputs": [],
   "source": [
    "\n"
   ]
  },
  {
   "cell_type": "code",
   "execution_count": 150,
   "id": "3f8f970d-8aa5-4b81-9bc9-dbefc471fcbc",
   "metadata": {
    "tags": []
   },
   "outputs": [],
   "source": [
    "from math import ceil"
   ]
  },
  {
   "cell_type": "code",
   "execution_count": 234,
   "id": "f9cb25c2-a0b3-48b6-9e05-401c88f476e0",
   "metadata": {
    "tags": []
   },
   "outputs": [
    {
     "data": {
      "text/plain": [
       "[<matplotlib.lines.Line2D at 0x7fbb3ea0e5b0>]"
      ]
     },
     "execution_count": 234,
     "metadata": {},
     "output_type": "execute_result"
    },
    {
     "data": {
      "image/png": "[encoded data removed]",
      "text/plain": [
       "<Figure size 640x480 with 1 Axes>"
      ]
     },
     "metadata": {},
     "output_type": "display_data"
    }
   ],
   "source": [
    "test_mt[1280:1750].plot(zorder=0)#ylim=0) #Modelledtides\n",
    "test_mt[Max_test][321:420].plot(marker='o', linestyle='')\n",
    "\n",
    "test_mt[springhighs][11:15].plot(marker='o', linestyle='') \n",
    "test_mt[springlows][11:15].plot(marker='o', linestyle='', zorder=2) \n",
    "\n",
    "test_mt[Max_test][neaphighs][11:15].plot(marker='o', linestyle='')\n",
    "\n",
    "test_mt[Min_test][320:420].plot(marker='o', linestyle='', zorder=1)\n",
    "test_mt[Min_test][neaplows][11:15].plot(marker='o', linestyle='', zorder=100)"
   ]
  },
  {
   "cell_type": "code",
   "execution_count": 136,
   "id": "db72bbc0-ab21-4ee6-a2d7-fd7b3140b5c1",
   "metadata": {
    "tags": []
   },
   "outputs": [
    {
     "data": {
      "text/html": [
       "<div><svg style=\"position: absolute; width: 0; height: 0; overflow: hidden\">\n",
       "<defs>\n",
       "<symbol id=\"icon-database\" viewBox=\"0 0 32 32\">\n",
       "<path d=\"M16 0c-8.837 0-16 2.239-16 5v4c0 2.761 7.163 5 16 5s16-2.239 16-5v-4c0-2.761-7.163-5-16-5z\"></path>\n",
       "<path d=\"M16 17c-8.837 0-16-2.239-16-5v6c0 2.761 7.163 5 16 5s16-2.239 16-5v-6c0 2.761-7.163 5-16 5z\"></path>\n",
       "<path d=\"M16 26c-8.837 0-16-2.239-16-5v6c0 2.761 7.163 5 16 5s16-2.239 16-5v-6c0 2.761-7.163 5-16 5z\"></path>\n",
       "</symbol>\n",
       "<symbol id=\"icon-file-text2\" viewBox=\"0 0 32 32\">\n",
       "<path d=\"M28.681 7.159c-0.694-0.947-1.662-2.053-2.724-3.116s-2.169-2.030-3.116-2.724c-1.612-1.182-2.393-1.319-2.841-1.319h-15.5c-1.378 0-2.5 1.121-2.5 2.5v27c0 1.378 1.122 2.5 2.5 2.5h23c1.378 0 2.5-1.122 2.5-2.5v-19.5c0-0.448-0.137-1.23-1.319-2.841zM24.543 5.457c0.959 0.959 1.712 1.825 2.268 2.543h-4.811v-4.811c0.718 0.556 1.584 1.309 2.543 2.268zM28 29.5c0 0.271-0.229 0.5-0.5 0.5h-23c-0.271 0-0.5-0.229-0.5-0.5v-27c0-0.271 0.229-0.5 0.5-0.5 0 0 15.499-0 15.5 0v7c0 0.552 0.448 1 1 1h7v19.5z\"></path>\n",
       "<path d=\"M23 26h-14c-0.552 0-1-0.448-1-1s0.448-1 1-1h14c0.552 0 1 0.448 1 1s-0.448 1-1 1z\"></path>\n",
       "<path d=\"M23 22h-14c-0.552 0-1-0.448-1-1s0.448-1 1-1h14c0.552 0 1 0.448 1 1s-0.448 1-1 1z\"></path>\n",
       "<path d=\"M23 18h-14c-0.552 0-1-0.448-1-1s0.448-1 1-1h14c0.552 0 1 0.448 1 1s-0.448 1-1 1z\"></path>\n",
       "</symbol>\n",
       "</defs>\n",
       "</svg>\n",
       "<style>/* CSS stylesheet for displaying xarray objects in jupyterlab.\n",
       " *\n",
       " */\n",
       "\n",
       ":root {\n",
       "  --xr-font-color0: var(--jp-content-font-color0, rgba(0, 0, 0, 1));\n",
       "  --xr-font-color2: var(--jp-content-font-color2, rgba(0, 0, 0, 0.54));\n",
       "  --xr-font-color3: var(--jp-content-font-color3, rgba(0, 0, 0, 0.38));\n",
       "  --xr-border-color: var(--jp-border-color2, #e0e0e0);\n",
       "  --xr-disabled-color: var(--jp-layout-color3, #bdbdbd);\n",
       "  --xr-background-color: var(--jp-layout-color0, white);\n",
       "  --xr-background-color-row-even: var(--jp-layout-color1, white);\n",
       "  --xr-background-color-row-odd: var(--jp-layout-color2, #eeeeee);\n",
       "}\n",
       "\n",
       "html[theme=dark],\n",
       "body[data-theme=dark],\n",
       "body.vscode-dark {\n",
       "  --xr-font-color0: rgba(255, 255, 255, 1);\n",
       "  --xr-font-color2: rgba(255, 255, 255, 0.54);\n",
       "  --xr-font-color3: rgba(255, 255, 255, 0.38);\n",
       "  --xr-border-color: #1F1F1F;\n",
       "  --xr-disabled-color: #515151;\n",
       "  --xr-background-color: #111111;\n",
       "  --xr-background-color-row-even: #111111;\n",
       "  --xr-background-color-row-odd: #313131;\n",
       "}\n",
       "\n",
       ".xr-wrap {\n",
       "  display: block !important;\n",
       "  min-width: 300px;\n",
       "  max-width: 700px;\n",
       "}\n",
       "\n",
       ".xr-text-repr-fallback {\n",
       "  /* fallback to plain text repr when CSS is not injected (untrusted notebook) */\n",
       "  display: none;\n",
       "}\n",
       "\n",
       ".xr-header {\n",
       "  padding-top: 6px;\n",
       "  padding-bottom: 6px;\n",
       "  margin-bottom: 4px;\n",
       "  border-bottom: solid 1px var(--xr-border-color);\n",
       "}\n",
       "\n",
       ".xr-header > div,\n",
       ".xr-header > ul {\n",
       "  display: inline;\n",
       "  margin-top: 0;\n",
       "  margin-bottom: 0;\n",
       "}\n",
       "\n",
       ".xr-obj-type,\n",
       ".xr-array-name {\n",
       "  margin-left: 2px;\n",
       "  margin-right: 10px;\n",
       "}\n",
       "\n",
       ".xr-obj-type {\n",
       "  color: var(--xr-font-color2);\n",
       "}\n",
       "\n",
       ".xr-sections {\n",
       "  padding-left: 0 !important;\n",
       "  display: grid;\n",
       "  grid-template-columns: 150px auto auto 1fr 20px 20px;\n",
       "}\n",
       "\n",
       ".xr-section-item {\n",
       "  display: contents;\n",
       "}\n",
       "\n",
       ".xr-section-item input {\n",
       "  display: none;\n",
       "}\n",
       "\n",
       ".xr-section-item input + label {\n",
       "  color: var(--xr-disabled-color);\n",
       "}\n",
       "\n",
       ".xr-section-item input:enabled + label {\n",
       "  cursor: pointer;\n",
       "  color: var(--xr-font-color2);\n",
       "}\n",
       "\n",
       ".xr-section-item input:enabled + label:hover {\n",
       "  color: var(--xr-font-color0);\n",
       "}\n",
       "\n",
       ".xr-section-summary {\n",
       "  grid-column: 1;\n",
       "  color: var(--xr-font-color2);\n",
       "  font-weight: 500;\n",
       "}\n",
       "\n",
       ".xr-section-summary > span {\n",
       "  display: inline-block;\n",
       "  padding-left: 0.5em;\n",
       "}\n",
       "\n",
       ".xr-section-summary-in:disabled + label {\n",
       "  color: var(--xr-font-color2);\n",
       "}\n",
       "\n",
       ".xr-section-summary-in + label:before {\n",
       "  display: inline-block;\n",
       "  content: '►';\n",
       "  font-size: 11px;\n",
       "  width: 15px;\n",
       "  text-align: center;\n",
       "}\n",
       "\n",
       ".xr-section-summary-in:disabled + label:before {\n",
       "  color: var(--xr-disabled-color);\n",
       "}\n",
       "\n",
       ".xr-section-summary-in:checked + label:before {\n",
       "  content: '▼';\n",
       "}\n",
       "\n",
       ".xr-section-summary-in:checked + label > span {\n",
       "  display: none;\n",
       "}\n",
       "\n",
       ".xr-section-summary,\n",
       ".xr-section-inline-details {\n",
       "  padding-top: 4px;\n",
       "  padding-bottom: 4px;\n",
       "}\n",
       "\n",
       ".xr-section-inline-details {\n",
       "  grid-column: 2 / -1;\n",
       "}\n",
       "\n",
       ".xr-section-details {\n",
       "  display: none;\n",
       "  grid-column: 1 / -1;\n",
       "  margin-bottom: 5px;\n",
       "}\n",
       "\n",
       ".xr-section-summary-in:checked ~ .xr-section-details {\n",
       "  display: contents;\n",
       "}\n",
       "\n",
       ".xr-array-wrap {\n",
       "  grid-column: 1 / -1;\n",
       "  display: grid;\n",
       "  grid-template-columns: 20px auto;\n",
       "}\n",
       "\n",
       ".xr-array-wrap > label {\n",
       "  grid-column: 1;\n",
       "  vertical-align: top;\n",
       "}\n",
       "\n",
       ".xr-preview {\n",
       "  color: var(--xr-font-color3);\n",
       "}\n",
       "\n",
       ".xr-array-preview,\n",
       ".xr-array-data {\n",
       "  padding: 0 5px !important;\n",
       "  grid-column: 2;\n",
       "}\n",
       "\n",
       ".xr-array-data,\n",
       ".xr-array-in:checked ~ .xr-array-preview {\n",
       "  display: none;\n",
       "}\n",
       "\n",
       ".xr-array-in:checked ~ .xr-array-data,\n",
       ".xr-array-preview {\n",
       "  display: inline-block;\n",
       "}\n",
       "\n",
       ".xr-dim-list {\n",
       "  display: inline-block !important;\n",
       "  list-style: none;\n",
       "  padding: 0 !important;\n",
       "  margin: 0;\n",
       "}\n",
       "\n",
       ".xr-dim-list li {\n",
       "  display: inline-block;\n",
       "  padding: 0;\n",
       "  margin: 0;\n",
       "}\n",
       "\n",
       ".xr-dim-list:before {\n",
       "  content: '(';\n",
       "}\n",
       "\n",
       ".xr-dim-list:after {\n",
       "  content: ')';\n",
       "}\n",
       "\n",
       ".xr-dim-list li:not(:last-child):after {\n",
       "  content: ',';\n",
       "  padding-right: 5px;\n",
       "}\n",
       "\n",
       ".xr-has-index {\n",
       "  font-weight: bold;\n",
       "}\n",
       "\n",
       ".xr-var-list,\n",
       ".xr-var-item {\n",
       "  display: contents;\n",
       "}\n",
       "\n",
       ".xr-var-item > div,\n",
       ".xr-var-item label,\n",
       ".xr-var-item > .xr-var-name span {\n",
       "  background-color: var(--xr-background-color-row-even);\n",
       "  margin-bottom: 0;\n",
       "}\n",
       "\n",
       ".xr-var-item > .xr-var-name:hover span {\n",
       "  padding-right: 5px;\n",
       "}\n",
       "\n",
       ".xr-var-list > li:nth-child(odd) > div,\n",
       ".xr-var-list > li:nth-child(odd) > label,\n",
       ".xr-var-list > li:nth-child(odd) > .xr-var-name span {\n",
       "  background-color: var(--xr-background-color-row-odd);\n",
       "}\n",
       "\n",
       ".xr-var-name {\n",
       "  grid-column: 1;\n",
       "}\n",
       "\n",
       ".xr-var-dims {\n",
       "  grid-column: 2;\n",
       "}\n",
       "\n",
       ".xr-var-dtype {\n",
       "  grid-column: 3;\n",
       "  text-align: right;\n",
       "  color: var(--xr-font-color2);\n",
       "}\n",
       "\n",
       ".xr-var-preview {\n",
       "  grid-column: 4;\n",
       "}\n",
       "\n",
       ".xr-index-preview {\n",
       "  grid-column: 2 / 5;\n",
       "  color: var(--xr-font-color2);\n",
       "}\n",
       "\n",
       ".xr-var-name,\n",
       ".xr-var-dims,\n",
       ".xr-var-dtype,\n",
       ".xr-preview,\n",
       ".xr-attrs dt {\n",
       "  white-space: nowrap;\n",
       "  overflow: hidden;\n",
       "  text-overflow: ellipsis;\n",
       "  padding-right: 10px;\n",
       "}\n",
       "\n",
       ".xr-var-name:hover,\n",
       ".xr-var-dims:hover,\n",
       ".xr-var-dtype:hover,\n",
       ".xr-attrs dt:hover {\n",
       "  overflow: visible;\n",
       "  width: auto;\n",
       "  z-index: 1;\n",
       "}\n",
       "\n",
       ".xr-var-attrs,\n",
       ".xr-var-data,\n",
       ".xr-index-data {\n",
       "  display: none;\n",
       "  background-color: var(--xr-background-color) !important;\n",
       "  padding-bottom: 5px !important;\n",
       "}\n",
       "\n",
       ".xr-var-attrs-in:checked ~ .xr-var-attrs,\n",
       ".xr-var-data-in:checked ~ .xr-var-data,\n",
       ".xr-index-data-in:checked ~ .xr-index-data {\n",
       "  display: block;\n",
       "}\n",
       "\n",
       ".xr-var-data > table {\n",
       "  float: right;\n",
       "}\n",
       "\n",
       ".xr-var-name span,\n",
       ".xr-var-data,\n",
       ".xr-index-name div,\n",
       ".xr-index-data,\n",
       ".xr-attrs {\n",
       "  padding-left: 25px !important;\n",
       "}\n",
       "\n",
       ".xr-attrs,\n",
       ".xr-var-attrs,\n",
       ".xr-var-data,\n",
       ".xr-index-data {\n",
       "  grid-column: 1 / -1;\n",
       "}\n",
       "\n",
       "dl.xr-attrs {\n",
       "  padding: 0;\n",
       "  margin: 0;\n",
       "  display: grid;\n",
       "  grid-template-columns: 125px auto;\n",
       "}\n",
       "\n",
       ".xr-attrs dt,\n",
       ".xr-attrs dd {\n",
       "  padding: 0;\n",
       "  margin: 0;\n",
       "  float: left;\n",
       "  padding-right: 10px;\n",
       "  width: auto;\n",
       "}\n",
       "\n",
       ".xr-attrs dt {\n",
       "  font-weight: normal;\n",
       "  grid-column: 1;\n",
       "}\n",
       "\n",
       ".xr-attrs dt:hover span {\n",
       "  display: inline-block;\n",
       "  background: var(--xr-background-color);\n",
       "  padding-right: 10px;\n",
       "}\n",
       "\n",
       ".xr-attrs dd {\n",
       "  grid-column: 2;\n",
       "  white-space: pre-wrap;\n",
       "  word-break: break-all;\n",
       "}\n",
       "\n",
       ".xr-icon-database,\n",
       ".xr-icon-file-text2,\n",
       ".xr-no-icon {\n",
       "  display: inline-block;\n",
       "  vertical-align: middle;\n",
       "  width: 1em;\n",
       "  height: 1.5em !important;\n",
       "  stroke-width: 0;\n",
       "  stroke: currentColor;\n",
       "  fill: currentColor;\n",
       "}\n",
       "</style><pre class='xr-text-repr-fallback'>&lt;xarray.DataArray &#x27;time&#x27; (time: 906)&gt;\n",
       "array([&#x27;2019-01-02T21:00:00.000000000&#x27;, &#x27;2019-01-03T21:00:00.000000000&#x27;,\n",
       "       &#x27;2019-01-04T21:00:00.000000000&#x27;, ..., &#x27;2021-12-28T06:00:00.000000000&#x27;,\n",
       "       &#x27;2021-12-29T06:00:00.000000000&#x27;, &#x27;2021-12-30T06:00:00.000000000&#x27;],\n",
       "      dtype=&#x27;datetime64[ns]&#x27;)\n",
       "Coordinates:\n",
       "  * time         (time) datetime64[ns] 2019-01-02T21:00:00 ... 2021-12-30T06:...\n",
       "    tide_model   &lt;U7 &#x27;FES2014&#x27;\n",
       "    spatial_ref  int32 3577\n",
       "    y            float64 -1.286e+06\n",
       "    x            float64 -1.395e+04</pre><div class='xr-wrap' style='display:none'><div class='xr-header'><div class='xr-obj-type'>xarray.DataArray</div><div class='xr-array-name'>'time'</div><ul class='xr-dim-list'><li><span class='xr-has-index'>time</span>: 906</li></ul></div><ul class='xr-sections'><li class='xr-section-item'><div class='xr-array-wrap'><input id='section-60a36b85-861b-4567-849f-5195a50c7c54' class='xr-array-in' type='checkbox' checked><label for='section-60a36b85-861b-4567-849f-5195a50c7c54' title='Show/hide data repr'><svg class='icon xr-icon-database'><use xlink:href='#icon-database'></use></svg></label><div class='xr-array-preview xr-preview'><span>2019-01-02T21:00:00 2019-01-03T21:00:00 ... 2021-12-30T06:00:00</span></div><div class='xr-array-data'><pre>array([&#x27;2019-01-02T21:00:00.000000000&#x27;, &#x27;2019-01-03T21:00:00.000000000&#x27;,\n",
       "       &#x27;2019-01-04T21:00:00.000000000&#x27;, ..., &#x27;2021-12-28T06:00:00.000000000&#x27;,\n",
       "       &#x27;2021-12-29T06:00:00.000000000&#x27;, &#x27;2021-12-30T06:00:00.000000000&#x27;],\n",
       "      dtype=&#x27;datetime64[ns]&#x27;)</pre></div></div></li><li class='xr-section-item'><input id='section-7e270b71-a56d-46ee-88f4-eee40df4a73f' class='xr-section-summary-in' type='checkbox'  checked><label for='section-7e270b71-a56d-46ee-88f4-eee40df4a73f' class='xr-section-summary' >Coordinates: <span>(5)</span></label><div class='xr-section-inline-details'></div><div class='xr-section-details'><ul class='xr-var-list'><li class='xr-var-item'><div class='xr-var-name'><span class='xr-has-index'>time</span></div><div class='xr-var-dims'>(time)</div><div class='xr-var-dtype'>datetime64[ns]</div><div class='xr-var-preview xr-preview'>2019-01-02T21:00:00 ... 2021-12-...</div><input id='attrs-adccddec-f109-4884-9e51-c363fb211d13' class='xr-var-attrs-in' type='checkbox' disabled><label for='attrs-adccddec-f109-4884-9e51-c363fb211d13' title='Show/Hide attributes'><svg class='icon xr-icon-file-text2'><use xlink:href='#icon-file-text2'></use></svg></label><input id='data-29abe499-0600-40a0-b063-b36631e551ec' class='xr-var-data-in' type='checkbox'><label for='data-29abe499-0600-40a0-b063-b36631e551ec' title='Show/Hide data repr'><svg class='icon xr-icon-database'><use xlink:href='#icon-database'></use></svg></label><div class='xr-var-attrs'><dl class='xr-attrs'></dl></div><div class='xr-var-data'><pre>array([&#x27;2019-01-02T21:00:00.000000000&#x27;, &#x27;2019-01-03T21:00:00.000000000&#x27;,\n",
       "       &#x27;2019-01-04T21:00:00.000000000&#x27;, ..., &#x27;2021-12-28T06:00:00.000000000&#x27;,\n",
       "       &#x27;2021-12-29T06:00:00.000000000&#x27;, &#x27;2021-12-30T06:00:00.000000000&#x27;],\n",
       "      dtype=&#x27;datetime64[ns]&#x27;)</pre></div></li><li class='xr-var-item'><div class='xr-var-name'><span>tide_model</span></div><div class='xr-var-dims'>()</div><div class='xr-var-dtype'>&lt;U7</div><div class='xr-var-preview xr-preview'>&#x27;FES2014&#x27;</div><input id='attrs-7bf3220e-de7e-4046-b963-eac887125797' class='xr-var-attrs-in' type='checkbox' disabled><label for='attrs-7bf3220e-de7e-4046-b963-eac887125797' title='Show/Hide attributes'><svg class='icon xr-icon-file-text2'><use xlink:href='#icon-file-text2'></use></svg></label><input id='data-504ea36b-e4ed-4bb0-8753-7e5bc762841c' class='xr-var-data-in' type='checkbox'><label for='data-504ea36b-e4ed-4bb0-8753-7e5bc762841c' title='Show/Hide data repr'><svg class='icon xr-icon-database'><use xlink:href='#icon-database'></use></svg></label><div class='xr-var-attrs'><dl class='xr-attrs'></dl></div><div class='xr-var-data'><pre>array(&#x27;FES2014&#x27;, dtype=&#x27;&lt;U7&#x27;)</pre></div></li><li class='xr-var-item'><div class='xr-var-name'><span>spatial_ref</span></div><div class='xr-var-dims'>()</div><div class='xr-var-dtype'>int32</div><div class='xr-var-preview xr-preview'>3577</div><input id='attrs-b392aa6f-541d-4db2-8841-d00735c0314c' class='xr-var-attrs-in' type='checkbox' ><label for='attrs-b392aa6f-541d-4db2-8841-d00735c0314c' title='Show/Hide attributes'><svg class='icon xr-icon-file-text2'><use xlink:href='#icon-file-text2'></use></svg></label><input id='data-1dc84645-f9d0-4a61-8c16-80a01f870e94' class='xr-var-data-in' type='checkbox'><label for='data-1dc84645-f9d0-4a61-8c16-80a01f870e94' title='Show/Hide data repr'><svg class='icon xr-icon-database'><use xlink:href='#icon-database'></use></svg></label><div class='xr-var-attrs'><dl class='xr-attrs'><dt><span>spatial_ref :</span></dt><dd>PROJCRS[&quot;GDA94 / Australian Albers&quot;,BASEGEOGCRS[&quot;GDA94&quot;,DATUM[&quot;Geocentric Datum of Australia 1994&quot;,ELLIPSOID[&quot;GRS 1980&quot;,6378137,298.257222101,LENGTHUNIT[&quot;metre&quot;,1]]],PRIMEM[&quot;Greenwich&quot;,0,ANGLEUNIT[&quot;degree&quot;,0.0174532925199433]],ID[&quot;EPSG&quot;,4283]],CONVERSION[&quot;unnamed&quot;,METHOD[&quot;Albers Equal Area&quot;,ID[&quot;EPSG&quot;,9822]],PARAMETER[&quot;Latitude of false origin&quot;,0,ANGLEUNIT[&quot;degree&quot;,0.0174532925199433],ID[&quot;EPSG&quot;,8821]],PARAMETER[&quot;Longitude of false origin&quot;,132,ANGLEUNIT[&quot;degree&quot;,0.0174532925199433],ID[&quot;EPSG&quot;,8822]],PARAMETER[&quot;Latitude of 1st standard parallel&quot;,-18,ANGLEUNIT[&quot;degree&quot;,0.0174532925199433],ID[&quot;EPSG&quot;,8823]],PARAMETER[&quot;Latitude of 2nd standard parallel&quot;,-36,ANGLEUNIT[&quot;degree&quot;,0.0174532925199433],ID[&quot;EPSG&quot;,8824]],PARAMETER[&quot;Easting at false origin&quot;,0,LENGTHUNIT[&quot;metre&quot;,1],ID[&quot;EPSG&quot;,8826]],PARAMETER[&quot;Northing at false origin&quot;,0,LENGTHUNIT[&quot;metre&quot;,1],ID[&quot;EPSG&quot;,8827]]],CS[Cartesian,2],AXIS[&quot;easting&quot;,east,ORDER[1],LENGTHUNIT[&quot;metre&quot;,1]],AXIS[&quot;northing&quot;,north,ORDER[2],LENGTHUNIT[&quot;metre&quot;,1]],ID[&quot;EPSG&quot;,3577]]</dd><dt><span>crs_wkt :</span></dt><dd>PROJCRS[&quot;GDA94 / Australian Albers&quot;,BASEGEOGCRS[&quot;GDA94&quot;,DATUM[&quot;Geocentric Datum of Australia 1994&quot;,ELLIPSOID[&quot;GRS 1980&quot;,6378137,298.257222101,LENGTHUNIT[&quot;metre&quot;,1]]],PRIMEM[&quot;Greenwich&quot;,0,ANGLEUNIT[&quot;degree&quot;,0.0174532925199433]],ID[&quot;EPSG&quot;,4283]],CONVERSION[&quot;unnamed&quot;,METHOD[&quot;Albers Equal Area&quot;,ID[&quot;EPSG&quot;,9822]],PARAMETER[&quot;Latitude of false origin&quot;,0,ANGLEUNIT[&quot;degree&quot;,0.0174532925199433],ID[&quot;EPSG&quot;,8821]],PARAMETER[&quot;Longitude of false origin&quot;,132,ANGLEUNIT[&quot;degree&quot;,0.0174532925199433],ID[&quot;EPSG&quot;,8822]],PARAMETER[&quot;Latitude of 1st standard parallel&quot;,-18,ANGLEUNIT[&quot;degree&quot;,0.0174532925199433],ID[&quot;EPSG&quot;,8823]],PARAMETER[&quot;Latitude of 2nd standard parallel&quot;,-36,ANGLEUNIT[&quot;degree&quot;,0.0174532925199433],ID[&quot;EPSG&quot;,8824]],PARAMETER[&quot;Easting at false origin&quot;,0,LENGTHUNIT[&quot;metre&quot;,1],ID[&quot;EPSG&quot;,8826]],PARAMETER[&quot;Northing at false origin&quot;,0,LENGTHUNIT[&quot;metre&quot;,1],ID[&quot;EPSG&quot;,8827]]],CS[Cartesian,2],AXIS[&quot;easting&quot;,east,ORDER[1],LENGTHUNIT[&quot;metre&quot;,1]],AXIS[&quot;northing&quot;,north,ORDER[2],LENGTHUNIT[&quot;metre&quot;,1]],ID[&quot;EPSG&quot;,3577]]</dd><dt><span>semi_major_axis :</span></dt><dd>6378137.0</dd><dt><span>semi_minor_axis :</span></dt><dd>6356752.314140356</dd><dt><span>inverse_flattening :</span></dt><dd>298.257222101</dd><dt><span>reference_ellipsoid_name :</span></dt><dd>GRS 1980</dd><dt><span>longitude_of_prime_meridian :</span></dt><dd>0.0</dd><dt><span>prime_meridian_name :</span></dt><dd>Greenwich</dd><dt><span>geographic_crs_name :</span></dt><dd>GDA94</dd><dt><span>horizontal_datum_name :</span></dt><dd>Geocentric Datum of Australia 1994</dd><dt><span>projected_crs_name :</span></dt><dd>GDA94 / Australian Albers</dd><dt><span>grid_mapping_name :</span></dt><dd>albers_conical_equal_area</dd><dt><span>standard_parallel :</span></dt><dd>(-18.0, -36.0)</dd><dt><span>latitude_of_projection_origin :</span></dt><dd>0.0</dd><dt><span>longitude_of_central_meridian :</span></dt><dd>132.0</dd><dt><span>false_easting :</span></dt><dd>0.0</dd><dt><span>false_northing :</span></dt><dd>0.0</dd><dt><span>GeoTransform :</span></dt><dd>-14100.0 100.0 0.0 -1286000.0 0.0 -100.0</dd></dl></div><div class='xr-var-data'><pre>array(3577, dtype=int32)</pre></div></li><li class='xr-var-item'><div class='xr-var-name'><span>y</span></div><div class='xr-var-dims'>()</div><div class='xr-var-dtype'>float64</div><div class='xr-var-preview xr-preview'>-1.286e+06</div><input id='attrs-acb2430e-3670-496b-ac2d-b029a693ee23' class='xr-var-attrs-in' type='checkbox' ><label for='attrs-acb2430e-3670-496b-ac2d-b029a693ee23' title='Show/Hide attributes'><svg class='icon xr-icon-file-text2'><use xlink:href='#icon-file-text2'></use></svg></label><input id='data-a1f8c625-d2a8-4aa4-a339-609c35d2a619' class='xr-var-data-in' type='checkbox'><label for='data-a1f8c625-d2a8-4aa4-a339-609c35d2a619' title='Show/Hide data repr'><svg class='icon xr-icon-database'><use xlink:href='#icon-database'></use></svg></label><div class='xr-var-attrs'><dl class='xr-attrs'><dt><span>units :</span></dt><dd>metre</dd><dt><span>resolution :</span></dt><dd>-100.0</dd><dt><span>crs :</span></dt><dd>PROJCS[&quot;GDA94 / Australian Albers&quot;,GEOGCS[&quot;GDA94&quot;,DATUM[&quot;Geocentric_Datum_of_Australia_1994&quot;,SPHEROID[&quot;GRS 1980&quot;,6378137,298.257222101,AUTHORITY[&quot;EPSG&quot;,&quot;7019&quot;]],AUTHORITY[&quot;EPSG&quot;,&quot;6283&quot;]],PRIMEM[&quot;Greenwich&quot;,0,AUTHORITY[&quot;EPSG&quot;,&quot;8901&quot;]],UNIT[&quot;degree&quot;,0.0174532925199433,AUTHORITY[&quot;EPSG&quot;,&quot;9122&quot;]],AUTHORITY[&quot;EPSG&quot;,&quot;4283&quot;]],PROJECTION[&quot;Albers_Conic_Equal_Area&quot;],PARAMETER[&quot;latitude_of_center&quot;,0],PARAMETER[&quot;longitude_of_center&quot;,132],PARAMETER[&quot;standard_parallel_1&quot;,-18],PARAMETER[&quot;standard_parallel_2&quot;,-36],PARAMETER[&quot;false_easting&quot;,0],PARAMETER[&quot;false_northing&quot;,0],UNIT[&quot;metre&quot;,1,AUTHORITY[&quot;EPSG&quot;,&quot;9001&quot;]],AXIS[&quot;Easting&quot;,EAST],AXIS[&quot;Northing&quot;,NORTH],AUTHORITY[&quot;EPSG&quot;,&quot;3577&quot;]]</dd></dl></div><div class='xr-var-data'><pre>array(-1286150.)</pre></div></li><li class='xr-var-item'><div class='xr-var-name'><span>x</span></div><div class='xr-var-dims'>()</div><div class='xr-var-dtype'>float64</div><div class='xr-var-preview xr-preview'>-1.395e+04</div><input id='attrs-10175d2a-f8d4-4b35-ac3a-ded279d0a576' class='xr-var-attrs-in' type='checkbox' ><label for='attrs-10175d2a-f8d4-4b35-ac3a-ded279d0a576' title='Show/Hide attributes'><svg class='icon xr-icon-file-text2'><use xlink:href='#icon-file-text2'></use></svg></label><input id='data-9c02b82a-0ccd-4b1e-b926-23ad045acad5' class='xr-var-data-in' type='checkbox'><label for='data-9c02b82a-0ccd-4b1e-b926-23ad045acad5' title='Show/Hide data repr'><svg class='icon xr-icon-database'><use xlink:href='#icon-database'></use></svg></label><div class='xr-var-attrs'><dl class='xr-attrs'><dt><span>units :</span></dt><dd>metre</dd><dt><span>resolution :</span></dt><dd>100.0</dd><dt><span>crs :</span></dt><dd>PROJCS[&quot;GDA94 / Australian Albers&quot;,GEOGCS[&quot;GDA94&quot;,DATUM[&quot;Geocentric_Datum_of_Australia_1994&quot;,SPHEROID[&quot;GRS 1980&quot;,6378137,298.257222101,AUTHORITY[&quot;EPSG&quot;,&quot;7019&quot;]],AUTHORITY[&quot;EPSG&quot;,&quot;6283&quot;]],PRIMEM[&quot;Greenwich&quot;,0,AUTHORITY[&quot;EPSG&quot;,&quot;8901&quot;]],UNIT[&quot;degree&quot;,0.0174532925199433,AUTHORITY[&quot;EPSG&quot;,&quot;9122&quot;]],AUTHORITY[&quot;EPSG&quot;,&quot;4283&quot;]],PROJECTION[&quot;Albers_Conic_Equal_Area&quot;],PARAMETER[&quot;latitude_of_center&quot;,0],PARAMETER[&quot;longitude_of_center&quot;,132],PARAMETER[&quot;standard_parallel_1&quot;,-18],PARAMETER[&quot;standard_parallel_2&quot;,-36],PARAMETER[&quot;false_easting&quot;,0],PARAMETER[&quot;false_northing&quot;,0],UNIT[&quot;metre&quot;,1,AUTHORITY[&quot;EPSG&quot;,&quot;9001&quot;]],AXIS[&quot;Easting&quot;,EAST],AXIS[&quot;Northing&quot;,NORTH],AUTHORITY[&quot;EPSG&quot;,&quot;3577&quot;]]</dd></dl></div><div class='xr-var-data'><pre>array(-13950.)</pre></div></li></ul></div></li><li class='xr-section-item'><input id='section-35ce7fbc-25d5-4cc2-83e5-f3396bcd8632' class='xr-section-summary-in' type='checkbox'  ><label for='section-35ce7fbc-25d5-4cc2-83e5-f3396bcd8632' class='xr-section-summary' >Indexes: <span>(1)</span></label><div class='xr-section-inline-details'></div><div class='xr-section-details'><ul class='xr-var-list'><li class='xr-var-item'><div class='xr-index-name'><div>time</div></div><div class='xr-index-preview'>PandasIndex</div><div></div><input id='index-18484c39-0a44-44ad-9bc1-1439d27f0ee8' class='xr-index-data-in' type='checkbox'/><label for='index-18484c39-0a44-44ad-9bc1-1439d27f0ee8' title='Show/Hide index repr'><svg class='icon xr-icon-database'><use xlink:href='#icon-database'></use></svg></label><div class='xr-index-data'><pre>PandasIndex(DatetimeIndex([&#x27;2019-01-02 21:00:00&#x27;, &#x27;2019-01-03 21:00:00&#x27;,\n",
       "               &#x27;2019-01-04 21:00:00&#x27;, &#x27;2019-01-05 21:00:00&#x27;,\n",
       "               &#x27;2019-01-07 00:00:00&#x27;, &#x27;2019-01-08 00:00:00&#x27;,\n",
       "               &#x27;2019-01-09 00:00:00&#x27;, &#x27;2019-01-10 00:00:00&#x27;,\n",
       "               &#x27;2019-01-11 00:00:00&#x27;, &#x27;2019-01-12 03:00:00&#x27;,\n",
       "               ...\n",
       "               &#x27;2021-12-21 00:00:00&#x27;, &#x27;2021-12-22 00:00:00&#x27;,\n",
       "               &#x27;2021-12-23 00:00:00&#x27;, &#x27;2021-12-24 00:00:00&#x27;,\n",
       "               &#x27;2021-12-25 03:00:00&#x27;, &#x27;2021-12-26 03:00:00&#x27;,\n",
       "               &#x27;2021-12-27 03:00:00&#x27;, &#x27;2021-12-28 06:00:00&#x27;,\n",
       "               &#x27;2021-12-29 06:00:00&#x27;, &#x27;2021-12-30 06:00:00&#x27;],\n",
       "              dtype=&#x27;datetime64[ns]&#x27;, name=&#x27;time&#x27;, length=906, freq=None))</pre></div></li></ul></div></li><li class='xr-section-item'><input id='section-acf00f30-9929-44c1-9f22-a1ff7bc053d9' class='xr-section-summary-in' type='checkbox' disabled ><label for='section-acf00f30-9929-44c1-9f22-a1ff7bc053d9' class='xr-section-summary'  title='Expand/collapse section'>Attributes: <span>(0)</span></label><div class='xr-section-inline-details'></div><div class='xr-section-details'><dl class='xr-attrs'></dl></div></li></ul></div></div>"
      ],
      "text/plain": [
       "<xarray.DataArray 'time' (time: 906)>\n",
       "array(['2019-01-02T21:00:00.000000000', '2019-01-03T21:00:00.000000000',\n",
       "       '2019-01-04T21:00:00.000000000', ..., '2021-12-28T06:00:00.000000000',\n",
       "       '2021-12-29T06:00:00.000000000', '2021-12-30T06:00:00.000000000'],\n",
       "      dtype='datetime64[ns]')\n",
       "Coordinates:\n",
       "  * time         (time) datetime64[ns] 2019-01-02T21:00:00 ... 2021-12-30T06:...\n",
       "    tide_model   <U7 'FES2014'\n",
       "    spatial_ref  int32 3577\n",
       "    y            float64 -1.286e+06\n",
       "    x            float64 -1.395e+04"
      ]
     },
     "execution_count": 136,
     "metadata": {},
     "output_type": "execute_result"
    }
   ],
   "source": [
    "test_mt[Max_test][lowhighs].time# / np.datetime64(14,'D')"
   ]
  },
  {
   "cell_type": "code",
   "execution_count": 37,
   "id": "da638bba-65fc-42d1-8749-703530c75c0d",
   "metadata": {
    "tags": []
   },
   "outputs": [
    {
     "data": {
      "text/plain": [
       "(<xarray.DataArray 'tide_m' (time: 8761, y: 23, x: 33)>\n",
       " array([[[-2.0278747 , -2.0280788 , -2.0282829 , ..., -2.0345905 ,\n",
       "          -2.0348356 , -2.0350804 ],\n",
       "         [-2.0279999 , -2.0282042 , -2.0284085 , ..., -2.0346997 ,\n",
       "          -2.0349433 , -2.0351868 ],\n",
       "         [-2.028125  , -2.0283296 , -2.0285344 , ..., -2.0348089 ,\n",
       "          -2.035051  , -2.035293  ],\n",
       "         ...,\n",
       "         [-2.0300355 , -2.0302496 , -2.0304637 , ..., -2.0364347 ,\n",
       "          -2.0366473 , -2.0368598 ],\n",
       "         [-2.0300987 , -2.0303137 , -2.0305288 , ..., -2.036482  ,\n",
       "          -2.0366924 , -2.036903  ],\n",
       "         [-2.0301616 , -2.0303776 , -2.0305936 , ..., -2.0365295 ,\n",
       "          -2.0367377 , -2.036946  ]],\n",
       " \n",
       "        [[-0.6049201 , -0.60547054, -0.6060209 , ..., -0.6200133 ,\n",
       "          -0.6204658 , -0.62091833],\n",
       "         [-0.60533094, -0.6058837 , -0.60643643, ..., -0.6204746 ,\n",
       "          -0.6209281 , -0.62138164],\n",
       "         [-0.6057418 , -0.6062969 , -0.606852  , ..., -0.62093586,\n",
       "          -0.6213904 , -0.6218449 ],\n",
       " ...\n",
       "         [ 0.68588406,  0.6869197 ,  0.6879553 , ...,  0.7116156 ,\n",
       "           0.71228313,  0.7129507 ],\n",
       "         [ 0.68614626,  0.6871885 ,  0.68823075, ...,  0.71194655,\n",
       "           0.7126118 ,  0.713277  ],\n",
       "         [ 0.68640846,  0.6874573 ,  0.68850625, ...,  0.71227753,\n",
       "           0.7129404 ,  0.71360326]],\n",
       " \n",
       "        [[-1.9137248 , -1.9135388 , -1.913353  , ..., -1.9091235 ,\n",
       "          -1.9090049 , -1.9088863 ],\n",
       "         [-1.9134306 , -1.9132433 , -1.9130561 , ..., -1.9087768 ,\n",
       "          -1.908656  , -1.9085352 ],\n",
       "         [-1.9131365 , -1.9129478 , -1.9127592 , ..., -1.9084301 ,\n",
       "          -1.9083071 , -1.9081842 ],\n",
       "         ...,\n",
       "         [-1.9085307 , -1.9083158 , -1.9081008 , ..., -1.9028778 ,\n",
       "          -1.9027178 , -1.9025577 ],\n",
       "         [-1.9083618 , -1.9081452 , -1.9079286 , ..., -1.9026563 ,\n",
       "          -1.9024944 , -1.9023325 ],\n",
       "         [-1.908193  , -1.9079747 , -1.9077563 , ..., -1.9024348 ,\n",
       "          -1.9022712 , -1.9021074 ]]], dtype=float32)\n",
       " Coordinates:\n",
       "   * time         (time) datetime64[ns] 2019-01-01 ... 2021-12-31\n",
       "     tide_model   <U7 'FES2014'\n",
       "     spatial_ref  int32 3577\n",
       "   * y            (y) float64 -1.286e+06 -1.286e+06 ... -1.288e+06 -1.288e+06\n",
       "   * x            (x) float64 -1.405e+04 -1.395e+04 ... -1.095e+04 -1.085e+04,\n",
       " <xarray.DataArray 'tide_m' (time: 8761, y: 7, x: 7)>\n",
       " array([[[-1.9693445 , -1.9741261 , -1.981642  , ..., -2.0072794 ,\n",
       "          -2.0270052 , -2.0481632 ],\n",
       "         [-1.9951534 , -1.9985029 , -2.0049489 , ..., -2.029221  ,\n",
       "          -2.0482533 , -2.0681696 ],\n",
       "         [-2.007815  , -2.0107477 , -2.0167987 , ..., -2.0412393 ,\n",
       "          -2.059823  , -2.078647  ],\n",
       "         ...,\n",
       "         [-2.0091112 , -2.0126638 , -2.0239794 , ..., -2.0427606 ,\n",
       "          -2.059584  , -2.0754857 ],\n",
       "         [-2.0087845 , -2.0094037 , -2.0246155 , ..., -2.0484653 ,\n",
       "          -2.0607865 , -2.0742097 ],\n",
       "         [-2.0086684 , -2.0123632 , -2.0254302 , ..., -2.0502038 ,\n",
       "          -2.0615914 , -2.0737083 ]],\n",
       " \n",
       "        [[-0.4636621 , -0.48586395, -0.5076559 , ..., -0.5514388 ,\n",
       "          -0.57039076, -0.5880261 ],\n",
       "         [-0.50299525, -0.52264893, -0.5437292 , ..., -0.5865563 ,\n",
       "          -0.60392493, -0.62001055],\n",
       "         [-0.5321991 , -0.55159354, -0.57421726, ..., -0.6184729 ,\n",
       "          -0.6334636 , -0.6469705 ],\n",
       " ...\n",
       "         [ 0.5705547 ,  0.59147435,  0.6516291 , ...,  0.7463254 ,\n",
       "           0.76711744,  0.78469485],\n",
       "         [ 0.56100005,  0.57140684,  0.65468353, ...,  0.754707  ,\n",
       "           0.7684881 ,  0.78369   ],\n",
       "         [ 0.55784225,  0.5852457 ,  0.6559914 , ...,  0.7552626 ,\n",
       "           0.7695178 ,  0.783408  ]],\n",
       " \n",
       "        [[-1.9873465 , -1.9763858 , -1.9697618 , ..., -1.9642272 ,\n",
       "          -1.9656881 , -1.9681953 ],\n",
       "         [-1.9682177 , -1.9587535 , -1.9514312 , ..., -1.9443315 ,\n",
       "          -1.9469192 , -1.9506563 ],\n",
       "         [-1.9470668 , -1.9377617 , -1.9288962 , ..., -1.9199384 ,\n",
       "          -1.9238697 , -1.928647  ],\n",
       "         ...,\n",
       "         [-1.9163908 , -1.919835  , -1.9109827 , ..., -1.8844153 ,\n",
       "          -1.8887277 , -1.8939548 ],\n",
       "         [-1.9180126 , -1.916895  , -1.9014775 , ..., -1.8850081 ,\n",
       "          -1.8890576 , -1.893042  ],\n",
       "         [-1.9185371 , -1.9133286 , -1.9002612 , ..., -1.8859285 ,\n",
       "          -1.8891495 , -1.8925503 ]]], dtype=float32)\n",
       " Coordinates:\n",
       "   * time         (time) datetime64[ns] 2019-01-01 ... 2021-12-31\n",
       "   * x            (x) float64 -2.75e+04 -2.25e+04 -1.75e+04 ... -2.5e+03 2.5e+03\n",
       "   * y            (y) float64 -1.272e+06 -1.278e+06 ... -1.298e+06 -1.302e+06\n",
       "     tide_model   <U7 'FES2014'\n",
       "     spatial_ref  int32 3577)"
      ]
     },
     "execution_count": 37,
     "metadata": {},
     "output_type": "execute_result"
    }
   ],
   "source": [
    "## Original code prototype\n",
    "\n",
    " ## Find all spring and neap high tides\n",
    "\n",
    "            ## All peaks(maxima) in modelledtides \n",
    "            Max = argrelmax(modelledtides[0:-1].tideheights.values)\n",
    "            Max = np.array(Max[0])\n",
    "\n",
    "            ## Find higher tides in the maxima then the spring high tides \n",
    "            maxhigh = argrelmax(modelledtides.tideheights[Max].values)\n",
    "            maxhigh = np.array(maxhigh[0])\n",
    "            springhigh = argrelmax(modelledtides.tideheights[Max[maxhigh]].values)\n",
    "            springhigh = np.array(springhigh[0]) \n",
    "\n",
    "            ## Find lower tides in the maxima then the neap high tides\n",
    "            maxlow = argrelmin(modelledtides.tideheights[Max].values)\n",
    "            maxlow = np.array(maxlow[0])\n",
    "            neaphigh = argrelmin(modelledtides.tideheights[Max[maxlow]].values)\n",
    "            neaphigh = np.array(neaphigh[0])\n",
    "\n",
    "            ## Repeat to determine spring and neap low tides.\n",
    "\n",
    "            ## All minima in modelledtides \n",
    "            Min = argrelmin(modelledtides[0:-1].tideheights.values)\n",
    "            Min = np.array(Min[0])\n",
    "\n",
    "            ## Find higher tides in the maxima then the spring high tides \n",
    "            minhigh = argrelmin(modelledtides.tideheights[Min].values)\n",
    "            minhigh = np.array(minhigh[0])\n",
    "            springlow = argrelmin(modelledtides.tideheights[Min[minhigh]].values)\n",
    "            springlow = np.array(springlow[0])\n",
    "\n",
    "            ## Find lower tides in the maxima then the neap high tides\n",
    "            minlow = argrelmax(modelledtides.tideheights[Min].values)\n",
    "            minlow = np.array(minlow[0])\n",
    "            neaplow = argrelmax(modelledtides.tideheights[Min[minlow]].values)\n",
    "            neaplow = np.array(neaplow[0])\n",
    "\n",
    "            # Add column to modelledtides to plot without using datetime values\n",
    "            modelledtides['count'] = np.arange(0,len(modelledtides),1)\n",
    "\n",
    "            ## Interpolate the high and low spring and neap curves\n",
    "            neap_high_linear = interp1d(Max[maxlow], modelledtides.tideheights[Max[maxlow]].values, bounds_error=False, kind='linear', fill_value='extrapolate')\n",
    "            modelledtides['neap_high_interp'] = neap_high_linear(modelledtides['count'])\n",
    "\n",
    "            spring_high_linear = interp1d(Max[maxhigh], modelledtides.tideheights[Max[maxhigh]].values, bounds_error=False, kind='linear', fill_value='extrapolate')\n",
    "            modelledtides['spring_high_interp'] = spring_high_linear(modelledtides['count'])\n",
    "\n",
    "            neap_low_linear = interp1d(Min[minlow], modelledtides.tideheights[Min[minlow]].values, bounds_error=False, kind='linear', fill_value='extrapolate')\n",
    "            modelledtides['neap_low_interp'] = neap_low_linear(modelledtides['count'])\n",
    "\n",
    "            spring_low_linear = interp1d(Min[minhigh], modelledtides.tideheights[Min[minhigh]].values, bounds_error=False, kind='linear', fill_value='extrapolate')\n",
    "            modelledtides['spring_low_interp'] = spring_low_linear(modelledtides['count'])\n",
    "\n",
    "            ## Extract datetimeindex for each dataslice\n",
    "            spring_high = modelledtides.tideheights[Max[maxhigh[springhigh]]].index\n",
    "            spring_low = modelledtides.tideheights[Min[minhigh[springlow]]].index\n",
    "            neap_high = modelledtides.tideheights[Max[maxlow[neaphigh]]].index\n",
    "            neap_low = modelledtides.tideheights[Min[minlow[neaplow]]].index\n",
    "            hightide = modelledtides[modelledtides.tideheights > modelledtides.neap_high_interp].index\n",
    "            lowtide = modelledtides[modelledtides.tideheights < modelledtides.neap_low_interp].index\n",
    "\n",
    "                            ## Filtering modelledtides by nominated timerange\n",
    "            filteredtides = pd.DataFrame(modelledtides['tideheights'][timestep] for timestep in hightide.array)\n",
    "            filteredtides['timerange'] = hightide\n",
    "            filteredtides.set_index('timerange', inplace=True)\n",
    "            filteredtides.rename(columns={0:\"tideheights\"}, inplace=True)\n",
    "            filters['hightide'] = filteredtides\n",
    "            \n",
    "                            ## Filtering modelledtides by nominated timerange\n",
    "            filteredtides = pd.DataFrame(modelledtides['tideheights'][timestep] for timestep in lowtide.array)\n",
    "            filteredtides['timerange'] = lowtide\n",
    "            filteredtides.set_index('timerange', inplace=True)\n",
    "            filteredtides.rename(columns={0:\"tideheights\"}, inplace=True)\n",
    "            filters['lowtide'] = filteredtides"
   ]
  },
  {
   "cell_type": "code",
   "execution_count": null,
   "id": "8b6e1f3d-bccb-4750-bc98-d1a4c224f5d4",
   "metadata": {},
   "outputs": [],
   "source": []
  }
 ],
 "metadata": {
  "kernelspec": {
   "display_name": "Python 3 (ipykernel)",
   "language": "python",
   "name": "python3"
  },
  "language_info": {
   "codemirror_mode": {
    "name": "ipython",
    "version": 3
   },
   "file_extension": ".py",
   "mimetype": "text/x-python",
   "name": "python",
   "nbconvert_exporter": "python",
   "pygments_lexer": "ipython3",
   "version": "3.8.10"
  }
 },
 "nbformat": 4,
 "nbformat_minor": 5
}

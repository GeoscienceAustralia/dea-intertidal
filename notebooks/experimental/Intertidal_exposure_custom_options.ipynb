{
 "cells": [
  {
   "cell_type": "markdown",
   "id": "f2d6b7a0-11bf-431f-b2dd-4d97c0cfb0a0",
   "metadata": {},
   "source": [
    "### Testing notebook to prototype exposure custom options"
   ]
  },
  {
   "cell_type": "markdown",
   "id": "f0d85842-924e-47ac-a447-c985e979ab89",
   "metadata": {},
   "source": [
    "## Getting started\n",
    "Set working directory to top level of repo to ensure links work correctly:"
   ]
  },
  {
   "cell_type": "code",
   "execution_count": 1,
   "id": "ba8324d3-bb4b-42f8-ab51-c9f98f46f080",
   "metadata": {
    "tags": []
   },
   "outputs": [
    {
     "name": "stdout",
     "output_type": "stream",
     "text": [
      "/home/jovyan/dea_intertidal/dea-intertidal\n"
     ]
    }
   ],
   "source": [
    "cd ../.."
   ]
  },
  {
   "cell_type": "markdown",
   "id": "32c2bb5f-4d03-450a-a9f1-f6ce93a6ccf6",
   "metadata": {},
   "source": [
    "Install additional packages directly from the requirements file"
   ]
  },
  {
   "cell_type": "code",
   "execution_count": 2,
   "id": "d7551ed6-1994-49d3-9300-0bc22fadb304",
   "metadata": {
    "tags": []
   },
   "outputs": [
    {
     "name": "stdout",
     "output_type": "stream",
     "text": [
      "Note: you may need to restart the kernel to use updated packages.\n"
     ]
    }
   ],
   "source": [
    "pip install -r requirements.in --quiet"
   ]
  },
  {
   "cell_type": "markdown",
   "id": "430f8524-11cf-471b-ab4a-592d9e52b233",
   "metadata": {},
   "source": [
    "## Load packages"
   ]
  },
  {
   "cell_type": "code",
   "execution_count": 3,
   "id": "1d19fac7-7637-4070-bde6-e63bcf3c9662",
   "metadata": {
    "tags": []
   },
   "outputs": [
    {
     "name": "stdout",
     "output_type": "stream",
     "text": [
      "Requirement already satisfied: sunriset in /env/lib/python3.8/site-packages (1.0)\n",
      "Requirement already satisfied: pytz in /env/lib/python3.8/site-packages (from sunriset) (2023.3)\n",
      "Requirement already satisfied: pandas in /env/lib/python3.8/site-packages (from sunriset) (1.5.3)\n",
      "Requirement already satisfied: python-dateutil>=2.8.1 in /env/lib/python3.8/site-packages (from pandas->sunriset) (2.8.2)\n",
      "Requirement already satisfied: numpy>=1.20.3 in /env/lib/python3.8/site-packages (from pandas->sunriset) (1.24.3)\n",
      "Requirement already satisfied: six>=1.5 in /env/lib/python3.8/site-packages (from python-dateutil>=2.8.1->pandas->sunriset) (1.16.0)\n"
     ]
    }
   ],
   "source": [
    "%load_ext autoreload\n",
    "%autoreload 2\n",
    "\n",
    "import os\n",
    "import pandas as pd\n",
    "import numpy as np\n",
    "import matplotlib.pyplot as plt\n",
    "\n",
    "import datacube\n",
    "from datacube.utils.geometry import Geometry\n",
    "\n",
    "from intertidal.utils import (\n",
    "    load_config,\n",
    "    round_date_strings,\n",
    "    export_intertidal_rasters,\n",
    "    intertidal_hillshade,\n",
    ")\n",
    "from intertidal.elevation import load_data, load_topobathy, elevation\n",
    "from intertidal.extents import extents\n",
    "from intertidal.exposure import exposure\n",
    "from intertidal.tidal_bias_offset import bias_offset, tidal_offset_tidelines\n",
    "from dea_tools.dask import create_local_dask_cluster\n",
    "\n",
    "## Temp for tide model testing 17/07/23\n",
    "from dea_tools.coastal import model_tides, pixel_tides\n",
    "\n",
    "\n",
    "!pip install sunriset"
   ]
  },
  {
   "cell_type": "markdown",
   "id": "2546346c-fd91-46c8-bda9-bb22c8e94af7",
   "metadata": {},
   "source": [
    "## Setup\n",
    "### Set analysis parameters"
   ]
  },
  {
   "cell_type": "code",
   "execution_count": 4,
   "id": "b9002d1c-661e-43af-a9cc-a8af48452ec3",
   "metadata": {
    "tags": []
   },
   "outputs": [],
   "source": [
    "# Set study area and config\n",
    "study_area = \"pointstuart\"\n",
    "config_path = \"configs/dea_intertidal_config_development.yaml\"\n",
    "# study_area = '844'\n",
    "# config_path='configs/dea_intertidal_config.yaml'\n",
    "\n",
    "# Intertidal Elevation variables\n",
    "start_date = \"2019\"  # Start date for analysis\n",
    "end_date = \"2021\"  # End date for analysis\n",
    "resolution = 100  # Spatial resolution used for output files\n",
    "crs = \"EPSG:3577\"  # Coordinate Reference System (CRS) to use for output files\n",
    "ndwi_thresh = 0.1  # Threshold used to identify dry/wet transition when calculating elevation\n",
    "include_s2 = True  # Include Sentinel-2 data in the analysis?\n",
    "include_ls = True  # Include Landsat data in the analysis?\n",
    "filter_gqa = False  # Filter to remove poorly georeferenced scenes?\n",
    "tide_model = \"FES2014\"  # Tide model to use in analysis\n",
    "tide_model_dir = \"/gdata1/data/tide_models\"#\"/var/share/tide_models\"  # Directory containing tide model files\n",
    "# tide_model = [\"FES2014\", \"FES2012\", \"TPXO9-atlas-v5\"]\n",
    "# tide_model_dir = \"/gdata1/data/tide_models_clipped\"\n",
    "\n",
    "# Exposure variables\n",
    "modelled_freq = \"3h\"  # Frequency to run tidal model e.g '30min' or '1h'\n",
    "\n",
    "# Generate range of times covering entire period of satellite record for exposure and bias/offset calculation\n",
    "all_timerange = pd.date_range(\n",
    "    start=round_date_strings(start_date, round_type=\"start\"),\n",
    "    end=round_date_strings(end_date, round_type=\"end\"),\n",
    "    freq=modelled_freq,\n",
    ")"
   ]
  },
  {
   "cell_type": "markdown",
   "id": "0a336b71-0d40-46f5-a213-4b2db4737c3b",
   "metadata": {},
   "source": [
    "#### *Optional: override study area selection using interactive map*"
   ]
  },
  {
   "cell_type": "code",
   "execution_count": 5,
   "id": "5108db11-a150-493a-9635-76d57c298fda",
   "metadata": {
    "tags": []
   },
   "outputs": [],
   "source": [
    "# from odc.ui import select_on_a_map\n",
    "# from ipyleaflet import basemaps, basemap_to_tiles\n",
    "\n",
    "# # Plot interactive map to select area\n",
    "# basemap = basemap_to_tiles(basemaps.Esri.WorldImagery)\n",
    "# geom = select_on_a_map(height='600px',\n",
    "#                        layers=(basemap,),\n",
    "#                        center=(-26, 135),\n",
    "#                        zoom=4)\n",
    "# study_area = geom"
   ]
  },
  {
   "cell_type": "markdown",
   "id": "722d8f1b-5e02-4e71-a579-e5773cb0e3ed",
   "metadata": {},
   "source": [
    "## Intertidal workflow\n",
    "#### Load data"
   ]
  },
  {
   "cell_type": "code",
   "execution_count": 6,
   "id": "b902f104-0491-4cd9-b714-29449d6a06c2",
   "metadata": {
    "tags": []
   },
   "outputs": [
    {
     "data": {
      "text/html": [
       "<div>\n",
       "    <div style=\"width: 24px; height: 24px; background-color: #e1e1e1; border: 3px solid #9D9D9D; border-radius: 5px; position: absolute;\"> </div>\n",
       "    <div style=\"margin-left: 48px;\">\n",
       "        <h3 style=\"margin-bottom: 0px;\">Client</h3>\n",
       "        <p style=\"color: #9D9D9D; margin-bottom: 0px;\">Client-5867a60f-2778-11ee-9336-46472ace5f13</p>\n",
       "        <table style=\"width: 100%; text-align: left;\">\n",
       "\n",
       "        <tr>\n",
       "        \n",
       "            <td style=\"text-align: left;\"><strong>Connection method:</strong> Cluster object</td>\n",
       "            <td style=\"text-align: left;\"><strong>Cluster type:</strong> distributed.LocalCluster</td>\n",
       "        \n",
       "        </tr>\n",
       "\n",
       "        \n",
       "            <tr>\n",
       "                <td style=\"text-align: left;\">\n",
       "                    <strong>Dashboard: </strong> <a href=\"/user/claire.phillips@ga.gov.au/proxy/8787/status\" target=\"_blank\">/user/claire.phillips@ga.gov.au/proxy/8787/status</a>\n",
       "                </td>\n",
       "                <td style=\"text-align: left;\"></td>\n",
       "            </tr>\n",
       "        \n",
       "\n",
       "        </table>\n",
       "\n",
       "        \n",
       "            <button style=\"margin-bottom: 12px;\" data-commandlinker-command=\"dask:populate-and-launch-layout\" data-commandlinker-args='{\"url\": \"/user/claire.phillips@ga.gov.au/proxy/8787/status\" }'>\n",
       "                Launch dashboard in JupyterLab\n",
       "            </button>\n",
       "        \n",
       "\n",
       "        \n",
       "            <details>\n",
       "            <summary style=\"margin-bottom: 20px;\"><h3 style=\"display: inline;\">Cluster Info</h3></summary>\n",
       "            <div class=\"jp-RenderedHTMLCommon jp-RenderedHTML jp-mod-trusted jp-OutputArea-output\">\n",
       "    <div style=\"width: 24px; height: 24px; background-color: #e1e1e1; border: 3px solid #9D9D9D; border-radius: 5px; position: absolute;\">\n",
       "    </div>\n",
       "    <div style=\"margin-left: 48px;\">\n",
       "        <h3 style=\"margin-bottom: 0px; margin-top: 0px;\">LocalCluster</h3>\n",
       "        <p style=\"color: #9D9D9D; margin-bottom: 0px;\">e6103213</p>\n",
       "        <table style=\"width: 100%; text-align: left;\">\n",
       "            <tr>\n",
       "                <td style=\"text-align: left;\">\n",
       "                    <strong>Dashboard:</strong> <a href=\"/user/claire.phillips@ga.gov.au/proxy/8787/status\" target=\"_blank\">/user/claire.phillips@ga.gov.au/proxy/8787/status</a>\n",
       "                </td>\n",
       "                <td style=\"text-align: left;\">\n",
       "                    <strong>Workers:</strong> 1\n",
       "                </td>\n",
       "            </tr>\n",
       "            <tr>\n",
       "                <td style=\"text-align: left;\">\n",
       "                    <strong>Total threads:</strong> 31\n",
       "                </td>\n",
       "                <td style=\"text-align: left;\">\n",
       "                    <strong>Total memory:</strong> 237.21 GiB\n",
       "                </td>\n",
       "            </tr>\n",
       "            \n",
       "            <tr>\n",
       "    <td style=\"text-align: left;\"><strong>Status:</strong> running</td>\n",
       "    <td style=\"text-align: left;\"><strong>Using processes:</strong> True</td>\n",
       "</tr>\n",
       "\n",
       "            \n",
       "        </table>\n",
       "\n",
       "        <details>\n",
       "            <summary style=\"margin-bottom: 20px;\">\n",
       "                <h3 style=\"display: inline;\">Scheduler Info</h3>\n",
       "            </summary>\n",
       "\n",
       "            <div style=\"\">\n",
       "    <div>\n",
       "        <div style=\"width: 24px; height: 24px; background-color: #FFF7E5; border: 3px solid #FF6132; border-radius: 5px; position: absolute;\"> </div>\n",
       "        <div style=\"margin-left: 48px;\">\n",
       "            <h3 style=\"margin-bottom: 0px;\">Scheduler</h3>\n",
       "            <p style=\"color: #9D9D9D; margin-bottom: 0px;\">Scheduler-b88c1ac6-4a2b-4dd0-af89-fa42e885499c</p>\n",
       "            <table style=\"width: 100%; text-align: left;\">\n",
       "                <tr>\n",
       "                    <td style=\"text-align: left;\">\n",
       "                        <strong>Comm:</strong> tcp://127.0.0.1:45649\n",
       "                    </td>\n",
       "                    <td style=\"text-align: left;\">\n",
       "                        <strong>Workers:</strong> 1\n",
       "                    </td>\n",
       "                </tr>\n",
       "                <tr>\n",
       "                    <td style=\"text-align: left;\">\n",
       "                        <strong>Dashboard:</strong> <a href=\"/user/claire.phillips@ga.gov.au/proxy/8787/status\" target=\"_blank\">/user/claire.phillips@ga.gov.au/proxy/8787/status</a>\n",
       "                    </td>\n",
       "                    <td style=\"text-align: left;\">\n",
       "                        <strong>Total threads:</strong> 31\n",
       "                    </td>\n",
       "                </tr>\n",
       "                <tr>\n",
       "                    <td style=\"text-align: left;\">\n",
       "                        <strong>Started:</strong> Just now\n",
       "                    </td>\n",
       "                    <td style=\"text-align: left;\">\n",
       "                        <strong>Total memory:</strong> 237.21 GiB\n",
       "                    </td>\n",
       "                </tr>\n",
       "            </table>\n",
       "        </div>\n",
       "    </div>\n",
       "\n",
       "    <details style=\"margin-left: 48px;\">\n",
       "        <summary style=\"margin-bottom: 20px;\">\n",
       "            <h3 style=\"display: inline;\">Workers</h3>\n",
       "        </summary>\n",
       "\n",
       "        \n",
       "        <div style=\"margin-bottom: 20px;\">\n",
       "            <div style=\"width: 24px; height: 24px; background-color: #DBF5FF; border: 3px solid #4CC9FF; border-radius: 5px; position: absolute;\"> </div>\n",
       "            <div style=\"margin-left: 48px;\">\n",
       "            <details>\n",
       "                <summary>\n",
       "                    <h4 style=\"margin-bottom: 0px; display: inline;\">Worker: 0</h4>\n",
       "                </summary>\n",
       "                <table style=\"width: 100%; text-align: left;\">\n",
       "                    <tr>\n",
       "                        <td style=\"text-align: left;\">\n",
       "                            <strong>Comm: </strong> tcp://127.0.0.1:46043\n",
       "                        </td>\n",
       "                        <td style=\"text-align: left;\">\n",
       "                            <strong>Total threads: </strong> 31\n",
       "                        </td>\n",
       "                    </tr>\n",
       "                    <tr>\n",
       "                        <td style=\"text-align: left;\">\n",
       "                            <strong>Dashboard: </strong> <a href=\"/user/claire.phillips@ga.gov.au/proxy/40461/status\" target=\"_blank\">/user/claire.phillips@ga.gov.au/proxy/40461/status</a>\n",
       "                        </td>\n",
       "                        <td style=\"text-align: left;\">\n",
       "                            <strong>Memory: </strong> 237.21 GiB\n",
       "                        </td>\n",
       "                    </tr>\n",
       "                    <tr>\n",
       "                        <td style=\"text-align: left;\">\n",
       "                            <strong>Nanny: </strong> tcp://127.0.0.1:32821\n",
       "                        </td>\n",
       "                        <td style=\"text-align: left;\"></td>\n",
       "                    </tr>\n",
       "                    <tr>\n",
       "                        <td colspan=\"2\" style=\"text-align: left;\">\n",
       "                            <strong>Local directory: </strong> /tmp/dask-scratch-space/worker-h1cq79e4\n",
       "                        </td>\n",
       "                    </tr>\n",
       "\n",
       "                    \n",
       "\n",
       "                    \n",
       "\n",
       "                </table>\n",
       "            </details>\n",
       "            </div>\n",
       "        </div>\n",
       "        \n",
       "\n",
       "    </details>\n",
       "</div>\n",
       "\n",
       "        </details>\n",
       "    </div>\n",
       "</div>\n",
       "            </details>\n",
       "        \n",
       "\n",
       "    </div>\n",
       "</div>"
      ],
      "text/plain": [
       "<Client: 'tcp://127.0.0.1:45649' processes=1 threads=31, memory=237.21 GiB>"
      ]
     },
     "metadata": {},
     "output_type": "display_data"
    },
    {
     "name": "stderr",
     "output_type": "stream",
     "text": [
      "/env/lib/python3.8/site-packages/rasterio/warp.py:344: NotGeoreferencedWarning: Dataset has no geotransform, gcps, or rpcs. The identity matrix will be returned.\n",
      "  _reproject(\n",
      "/env/lib/python3.8/site-packages/rasterio/warp.py:344: NotGeoreferencedWarning: Dataset has no geotransform, gcps, or rpcs. The identity matrix will be returned.\n",
      "  _reproject(\n"
     ]
    }
   ],
   "source": [
    "# Connect to datacube\n",
    "dc = datacube.Datacube(app=\"Intertidal_workflow\")\n",
    "\n",
    "# Create local dask cluster to improve data load time\n",
    "client = create_local_dask_cluster(return_client=True)\n",
    "\n",
    "satellite_ds = load_data(\n",
    "    dc=dc,\n",
    "    study_area=study_area,\n",
    "    time_range=(start_date, end_date),\n",
    "    resolution=resolution,\n",
    "    crs=crs,\n",
    "    s2_prod=\"s2_nbart_ndwi\" if include_s2 else None,\n",
    "    ls_prod=\"ls_nbart_ndwi\" if include_ls else None,\n",
    "    config_path=config_path,\n",
    "    filter_gqa=filter_gqa)[[\"ndwi\"]]\n",
    "\n",
    "# Load data and close dask client\n",
    "satellite_ds.load()\n",
    "client.close()"
   ]
  },
  {
   "cell_type": "markdown",
   "id": "dfae8a1c-bba8-4e51-93bb-9429ca36ec6f",
   "metadata": {},
   "source": [
    "### Load optional topobathy mask\n",
    "Loads a topo-bathymetric DEM for the extents of the loaded satellite data.\n",
    "This is used as a coarse mask to constrain the analysis to the coastal zone, improving run time and reducing clear false positives over deep water or elevated land."
   ]
  },
  {
   "cell_type": "code",
   "execution_count": 7,
   "id": "65662f45-afc4-4636-9ed3-f37e2d4b3c34",
   "metadata": {
    "tags": []
   },
   "outputs": [],
   "source": [
    "# Load data from GA's Australian Bathymetry and Topography Grid 2009\n",
    "topobathy_ds = load_topobathy(\n",
    "    dc, satellite_ds, product=\"ga_multi_ausbath_0\", resampling=\"bilinear\"\n",
    ")"
   ]
  },
  {
   "cell_type": "markdown",
   "id": "c163b0f0-5431-43e7-ba8e-378bd991c084",
   "metadata": {},
   "source": [
    "### Intertidal elevation\n",
    "To run without the topobathy DEM mask, comment out `valid_mask=...`."
   ]
  },
  {
   "cell_type": "code",
   "execution_count": 8,
   "id": "fa9bee00-cab0-43c8-8a4d-226dd5773ac0",
   "metadata": {
    "tags": []
   },
   "outputs": [
    {
     "name": "stderr",
     "output_type": "stream",
     "text": [
      "2023-07-21 03:41:25 INFO Modelling tide heights for each pixel\n"
     ]
    },
    {
     "name": "stdout",
     "output_type": "stream",
     "text": [
      "Creating reduced resolution 5000 x 5000 metre tide modelling array\n",
      "Modelling tides with FES2014\n",
      "Reprojecting tides into original array\n"
     ]
    },
    {
     "name": "stderr",
     "output_type": "stream",
     "text": [
      "100%|██████████| 329/329 [00:00<00:00, 1676.72it/s]\n",
      "2023-07-21 03:42:27 INFO Masking nodata and adding tide heights to satellite data array\n",
      "INFO:DEA Intertidal:Masking nodata and adding tide heights to satellite data array\n",
      "2023-07-21 03:42:27 INFO Flattening satellite data array and filtering to intertidal candidate pixels\n",
      "INFO:DEA Intertidal:Flattening satellite data array and filtering to intertidal candidate pixels\n",
      "2023-07-21 03:42:27 INFO Applying valid data mask to constrain study area\n",
      "INFO:DEA Intertidal:Applying valid data mask to constrain study area\n",
      "2023-07-21 03:42:27 INFO Running per-pixel rolling median\n",
      "INFO:DEA Intertidal:Running per-pixel rolling median\n"
     ]
    },
    {
     "name": "stdout",
     "output_type": "stream",
     "text": [
      "Reducing analysed pixels from 759 to 483 (63.64%)\n"
     ]
    },
    {
     "name": "stderr",
     "output_type": "stream",
     "text": [
      "100%|██████████| 114/114 [00:00<00:00, 441.46it/s]\n",
      "2023-07-21 03:42:28 INFO Modelling intertidal elevation\n",
      "INFO:DEA Intertidal:Modelling intertidal elevation\n",
      "2023-07-21 03:42:28 INFO Modelling intertidal uncertainty\n",
      "INFO:DEA Intertidal:Modelling intertidal uncertainty\n",
      "2023-07-21 03:42:28 INFO Unflattening data back to its original spatial dimensions\n",
      "INFO:DEA Intertidal:Unflattening data back to its original spatial dimensions\n",
      "2023-07-21 03:42:28 INFO Successfully completed intertidal elevation modelling\n",
      "INFO:DEA Intertidal:Successfully completed intertidal elevation modelling\n"
     ]
    }
   ],
   "source": [
    "# Model elevation for each pixel\n",
    "ds, ds_aux, tide_m = elevation(\n",
    "    satellite_ds,\n",
    "    valid_mask=topobathy_ds.height_depth > -20,\n",
    "    tide_model=tide_model,\n",
    "    tide_model_dir=tide_model_dir,\n",
    "    config_path=config_path,\n",
    ")"
   ]
  },
  {
   "cell_type": "markdown",
   "id": "96a26983-d98b-4d77-a603-183ad70a27d7",
   "metadata": {},
   "source": [
    "### Intertidal extents"
   ]
  },
  {
   "cell_type": "code",
   "execution_count": 9,
   "id": "642ab47c-aff1-47cb-84e6-a3f884674d5b",
   "metadata": {
    "tags": []
   },
   "outputs": [],
   "source": [
    "ds['extents'] = extents(ds_aux.ndwi_wet_freq, ds.elevation, ds_aux.ndwi_tide_corr)"
   ]
  },
  {
   "cell_type": "markdown",
   "id": "96203122-38b4-44d3-9ae1-1fbab0123537",
   "metadata": {},
   "source": [
    "### Intertidal exposure\n",
    "Calculate exposure using the script function"
   ]
  },
  {
   "cell_type": "code",
   "execution_count": null,
   "id": "75483d43-64d8-490e-b58b-bfa7ce8ff2ed",
   "metadata": {
    "tags": []
   },
   "outputs": [],
   "source": [
    "ds[\"exposure\"], tide_cq, _ = exposure(\n",
    "    dem=ds.elevation,\n",
    "    time_range=all_timerange,\n",
    "    tide_model=tide_model,\n",
    "    tide_model_dir=tide_model_dir,\n",
    ")"
   ]
  },
  {
   "cell_type": "code",
   "execution_count": null,
   "id": "fa72d0d3-6585-4448-895e-98f1e7bcc63d",
   "metadata": {
    "tags": []
   },
   "outputs": [],
   "source": [
    "tide_cq.plot()"
   ]
  },
  {
   "cell_type": "code",
   "execution_count": null,
   "id": "72b88bf7-72ae-4132-9317-10a0d7d7c3ef",
   "metadata": {
    "tags": []
   },
   "outputs": [],
   "source": [
    "## Testing updated script\n",
    "\n",
    "%reload_ext autoreload\n",
    "\n",
    "ds[\"exposure_summer\"], tide_cq_summer, tiderange_summer = exposure(\n",
    "    dem=ds.elevation,\n",
    "    time_range=all_timerange,\n",
    "    tide_model=tide_model,\n",
    "    tide_model_dir=tide_model_dir,\n",
    "    filters = ['summer']\n",
    ")"
   ]
  },
  {
   "cell_type": "code",
   "execution_count": null,
   "id": "832deab2-e465-45ed-9517-e66baff9cc5a",
   "metadata": {
    "tags": []
   },
   "outputs": [],
   "source": [
    "## Testing cell\n",
    "\n",
    "## Bring in the geodata coast 100K polygons to assign local timezones to pixels\n",
    "\n",
    "import geopandas as gpd\n",
    "import xarray as xr\n",
    "\n",
    "from shapely.geometry import Point\n",
    "from shapely.ops import unary_union\n",
    "import sunriset\n",
    "from math import ceil\n",
    "import datetime\n",
    "from datetime import timedelta\n",
    "import pytz\n",
    "from pyproj import CRS\n",
    "from pyproj import Transformer\n",
    "\n"
   ]
  },
  {
   "cell_type": "code",
   "execution_count": 11,
   "id": "0803444b-be0e-4907-986c-925f163ded85",
   "metadata": {
    "tags": []
   },
   "outputs": [
    {
     "data": {
      "text/plain": [
       "'../../gdata1/data/boundaries/GEODATA_COAST_100K/western_australia/cstwacd_r.shp'"
      ]
     },
     "execution_count": 11,
     "metadata": {},
     "output_type": "execute_result"
    }
   ],
   "source": [
    "timezones = {'wa':'../../gdata1/data/boundaries/GEODATA_COAST_100K/western_australia/cstwacd_r.shp',\n",
    "                 'nt':'../../gdata1/data/boundaries/GEODATA_COAST_100K/northern_territory/cstntcd_r.shp',\n",
    "                 'sa':'../../gdata1/data/boundaries/GEODATA_COAST_100K/south_australia/cstsacd_r.shp',\n",
    "                 'qld':'../../gdata1/data/boundaries/GEODATA_COAST_100K/queensland/cstqldmd_r.shp',\n",
    "                 'nsw':'../../gdata1/data/boundaries/GEODATA_COAST_100K/new_south_wales/cstnswcd_r.shp',\n",
    "                 'vic':'../../gdata1/data/boundaries/GEODATA_COAST_100K/victoria/cstviccd_r.shp',\n",
    "                 'tas':'../../gdata1/data/boundaries/GEODATA_COAST_100K/tasmania/csttascd_r.shp'\n",
    "            }\n",
    "timezones['wa']"
   ]
  },
  {
   "cell_type": "code",
   "execution_count": null,
   "id": "386f521a-f210-49dc-abe3-9194b6fb2cf2",
   "metadata": {
    "tags": []
   },
   "outputs": [],
   "source": [
    "## Bring in the state polygons (note: native crs = epsg:4283)\n",
    "wa = gpd.read_file('../../gdata1/data/boundaries/GEODATA_COAST_100K/western_australia/cstwacd_r.shp')\n",
    "nt = gpd.read_file('../../gdata1/data/boundaries/GEODATA_COAST_100K/northern_territory/cstntcd_r.shp')\n",
    "sa = gpd.read_file('../../gdata1/data/boundaries/GEODATA_COAST_100K/south_australia/cstsacd_r.shp')\n",
    "qld = gpd.read_file('../../gdata1/data/boundaries/GEODATA_COAST_100K/queensland/cstqldmd_r.shp')\n",
    "nsw = gpd.read_file('../../gdata1/data/boundaries/GEODATA_COAST_100K/new_south_wales/cstnswcd_r.shp')\n",
    "vic = gpd.read_file('../../gdata1/data/boundaries/GEODATA_COAST_100K/victoria/cstviccd_r.shp')\n",
    "tas = gpd.read_file('../../gdata1/data/boundaries/GEODATA_COAST_100K/tasmania/csttascd_r.shp')\n",
    "\n",
    "# Merge to create single timezone (state) boundaries\n",
    "wa = gpd.GeoSeries(unary_union(wa.geometry))\n",
    "nt = gpd.GeoSeries(unary_union(nt.geometry))\n",
    "sa = gpd.GeoSeries(unary_union(sa.geometry))\n",
    "qld = gpd.GeoSeries(unary_union(qld.geometry))\n",
    "nsw = gpd.GeoSeries(unary_union(nsw.geometry))\n",
    "vic = gpd.GeoSeries(unary_union(vic.geometry))\n",
    "tas = gpd.GeoSeries(unary_union(tas.geometry))"
   ]
  },
  {
   "cell_type": "code",
   "execution_count": null,
   "id": "383a46b7-a9c0-4fb5-8c2a-b5b494a4c492",
   "metadata": {
    "tags": []
   },
   "outputs": [],
   "source": [
    "## Transform the analysis aoi coords to common CRS\n",
    "\n",
    "tidepost_lat_3577 = ds.x.median(dim='x').values\n",
    "tidepost_lon_3577 = ds.y.median(dim='y').values\n",
    "\n",
    "## Datacube native CRS\n",
    "crs_3577 = CRS.from_epsg(3577) \n",
    "\n",
    "## GDA94/Aus Albers (meters)\n",
    "\n",
    "## Create a transform to convert default epsg3577 coords to epsg4326 for use in sunise/sunset library\n",
    "\n",
    "## World WGS84 (degrees)\n",
    "crs_4326 = CRS.from_epsg(4326) \n",
    "## Transfer coords from/to\n",
    "transformer_4326 = Transformer.from_crs(crs_3577, crs_4326)\n",
    "## Translate the tidepost coords\n",
    "tidepost_lat_4326, tidepost_lon_4326 = transformer_4326.transform(tidepost_lat_3577, tidepost_lon_3577)\n",
    "## Coordinate point to locate the sunriset calculation\n",
    "point_4326 = Point(tidepost_lon_4326, tidepost_lat_4326)\n",
    "\n",
    "## (1) Create a transform to convert default epsg3577 coords to epsg4283 to compare against polygons and \n",
    "## assign a timezone\n",
    "\n",
    "## GDA94 CRS (degrees)\n",
    "crs_4283 = CRS.from_epsg(4283) ## GDA94 Australia (degrees)\n",
    "## Transfer coords from/to\n",
    "transformer_4283 = Transformer.from_crs(crs_3577, crs_4283) \n",
    "## Translate tidepost coords\n",
    "tidepost_lat_4283, tidepost_lon_4283 = transformer_4283.transform(tidepost_lat_3577, tidepost_lon_3577)\n",
    "## Coordinate point to test for timezone   \n",
    "point_4283 = Point(tidepost_lon_4283, tidepost_lat_4283)\n"
   ]
  },
  {
   "cell_type": "code",
   "execution_count": null,
   "id": "3ec620a0-ff7b-43de-ba73-b99b3e7b372f",
   "metadata": {
    "tags": []
   },
   "outputs": [],
   "source": [
    "## Set the local timezone for the analysis area of interest\n",
    "if wa.contains(point_4283)[0] == True:\n",
    "    timezone = 'Australia/West'\n",
    "    local_tz = 8\n",
    "    # break\n",
    "elif nt.contains(point_4283)[0] == True:\n",
    "    timezone = 'Australia/North'\n",
    "    local_tz = 9.5\n",
    "    # break\n",
    "elif sa.contains(point_4283)[0] == True:\n",
    "    timezone = 'Australia/South'\n",
    "    local_tz = 9.5\n",
    "    # break\n",
    "elif qld.contains(point_4283)[0] == True:\n",
    "    timezone = 'Australia/Queensland'\n",
    "    local_tz = 10\n",
    "    # break\n",
    "elif nsw.contains(point_4283)[0] == True:\n",
    "    timezone = 'Australia/NSW'\n",
    "    local_tz = 10\n",
    "    # break\n",
    "elif vic.contains(point_4283)[0] == True:\n",
    "    timezone = 'Australia/Victoria'\n",
    "    local_tz = 10\n",
    "    # break\n",
    "elif tas.contains(point_4283)[0] == True:\n",
    "    timezone = 'Australia/Tasmania'\n",
    "    local_tz = 10\n",
    "    # break\n",
    "print (timezone, local_tz)    "
   ]
  },
  {
   "cell_type": "code",
   "execution_count": null,
   "id": "f88eada0-d3d1-4a80-a2d3-0f99519df8e3",
   "metadata": {
    "tags": []
   },
   "outputs": [],
   "source": [
    "!pip install sunriset"
   ]
  },
  {
   "cell_type": "code",
   "execution_count": null,
   "id": "e1899c68-869a-4a34-ab04-844f0c93dcb2",
   "metadata": {
    "tags": []
   },
   "outputs": [],
   "source": [
    "## Testing sunriset calculations\n",
    "\n",
    "# Place start and end dates in correct format\n",
    "start=round_date_strings(start_date, round_type=\"start\")\n",
    "end=round_date_strings(end_date, round_type=\"end\")\n",
    "startdate = datetime.date(pd.to_datetime(start).year, pd.to_datetime(start).month, pd.to_datetime(start).day)\n",
    "\n",
    "# # Make the start date timezone aware \n",
    "# time_start = pd.to_datetime(start, utc=True).tz_convert(timezone)\n",
    "\n",
    "# Make 'all_timerange' time-zone aware\n",
    "localtides = all_timerange.tz_localize(tz=pytz.UTC).tz_convert(timezone)\n",
    "\n",
    "# Replace the UTC datetimes from all_timerange with local times\n",
    "modelledtides = pd.DataFrame(index = localtides)\n",
    "\n",
    "# Return the difference in years for the time-period. \n",
    "# Round up to ensure all modelledtide datetimes are captured in the solar model\n",
    "diff = pd.to_datetime(end) - pd.to_datetime(start)\n",
    "diff = int(ceil(diff.days/365))\n",
    "\n",
    "# ## Locate the central pixel for the area of interest\n",
    "# ## TODO: work out how to manage this in the pixel-based workflow. Perhaps\n",
    "# ## use the same modelling resolution as the underlying tidal model?\n",
    "# tidepost_lat = ds.x.median(dim='x')\n",
    "# tidepost_lon = ds.y.median(dim='y')\n",
    "\n",
    "# ## Create a transform to convert default epsg3577 coords to epsg4326 for use in sunise/sunset library\n",
    "# crs_4326 = CRS.from_epsg(4326)\n",
    "# crs_3577 = CRS.from_epsg(3577)\n",
    "\n",
    "# transformer = Transformer.from_crs(crs_3577, crs_4326)\n",
    "\n",
    "# ## Translate tidepost coords\n",
    "# tidepost_lat, tidepost_lon = transformer.transform(tidepost_lon.values, tidepost_lat.values)\n",
    "\n",
    "## Model sunrise and sunset\n",
    "sun_df = sunriset.to_pandas(startdate, tidepost_lat_4326, tidepost_lon_4326, local_tz, diff)\n",
    "\n",
    "## Set the index as a datetimeindex to match the modelledtide df\n",
    "sun_df = sun_df.set_index(pd.DatetimeIndex(sun_df.index))\n",
    "\n",
    "## Append the date to each Sunrise and Sunset time\n",
    "sun_df['Sunrise dt'] = sun_df.index + sun_df['Sunrise']\n",
    "sun_df['Sunset dt'] = sun_df.index + (sun_df['Sunset'])\n",
    "\n",
    "## Create new dataframes where daytime and nightime datetimes are recorded, then merged on a new `Sunlight` column\n",
    "daytime=pd.DataFrame(data = 'Sunrise', index=sun_df['Sunrise dt'], columns=['Sunlight'])\n",
    "nighttime=pd.DataFrame(data = 'Sunset', index=sun_df['Sunset dt'], columns=['Sunlight'])\n",
    "DayNight = pd.concat([daytime, nighttime], join='outer')\n",
    "DayNight.sort_index(inplace=True)\n",
    "DayNight.index.rename('Datetime', inplace=True)\n",
    "\n",
    "## Create an xarray object from the merged day/night dataframe\n",
    "day_night = xr.Dataset.from_dataframe(DayNight)\n",
    "\n",
    "## Remove local timezone timestamp column in modelledtides dataframe. Xarray doesn't handle \n",
    "## timezone aware datetimeindexes 'from_dataframe' very well.\n",
    "modelledtides.index = modelledtides.index.tz_localize(tz=None)\n",
    "\n",
    "## Create an xr Dataset from the modelledtides pd.dataframe\n",
    "mt = modelledtides.to_xarray()\n",
    "\n",
    "## Filter the modelledtides (mt) by the daytime, nighttime datetimes from the sunriset module\n",
    "## Modelled tides are designated as either day or night by propogation of the last valid index value forward\n",
    "Solar=day_night.sel(Datetime=mt.index, method='ffill')\n",
    "\n",
    "## Assign the day and night tideheight datasets\n",
    "SolarDayTides = mt.where(Solar.Sunlight=='Sunrise', drop=True)\n",
    "SolarNightTides = mt.where(Solar.Sunlight=='Sunset', drop=True)\n",
    "\n",
    "## Extract DatetimeIndexes to use in exposure calculations\n",
    "all_timerange_day = pd.DatetimeIndex(SolarDayTides.index)\n",
    "all_timerange_night = pd.DatetimeIndex(SolarNightTides.index)\n",
    "\n"
   ]
  },
  {
   "cell_type": "code",
   "execution_count": 18,
   "id": "e14d4391-39ac-4e1c-85f3-87a0198fd0dd",
   "metadata": {
    "tags": []
   },
   "outputs": [
    {
     "name": "stdout",
     "output_type": "stream",
     "text": [
      "Creating reduced resolution 5000 x 5000 metre tide modelling array\n",
      "Modelling tides with FES2014\n",
      "Computing tide quantiles\n",
      "Reprojecting tides into original array\n"
     ]
    },
    {
     "name": "stderr",
     "output_type": "stream",
     "text": [
      "100%|██████████| 101/101 [00:00<00:00, 1133.87it/s]\n"
     ]
    }
   ],
   "source": [
    "%reload_ext autoreload\n",
    "\n",
    "ds[\"exposure_daylight\"], tide_cq_day, tiderange_day = exposure(\n",
    "    start_date,\n",
    "    end_date,\n",
    "    dem=ds.elevation,\n",
    "    time_range=all_timerange,\n",
    "    tide_model=tide_model,\n",
    "    tide_model_dir=tide_model_dir,\n",
    "    filters = ['Daylight'],\n",
    "    timezones=timezones\n",
    ")"
   ]
  },
  {
   "cell_type": "code",
   "execution_count": 19,
   "id": "7367ec88-d8b2-43a2-9004-58d032a3e929",
   "metadata": {
    "tags": []
   },
   "outputs": [
    {
     "data": {
      "text/plain": [
       "<matplotlib.collections.QuadMesh at 0x7fad7f720f10>"
      ]
     },
     "execution_count": 19,
     "metadata": {},
     "output_type": "execute_result"
    },
    {
     "data": {
      "image/png": "[encoded data removed]",
      "text/plain": [
       "<Figure size 640x480 with 2 Axes>"
      ]
     },
     "metadata": {},
     "output_type": "display_data"
    }
   ],
   "source": [
    "ds.exposure_daylight.plot()"
   ]
  },
  {
   "cell_type": "code",
   "execution_count": 20,
   "id": "a026e4ed-4936-4d96-87bb-ed4c44bff01f",
   "metadata": {
    "tags": []
   },
   "outputs": [
    {
     "data": {
      "text/plain": [
       "<matplotlib.collections.QuadMesh at 0x7fad6e5378b0>"
      ]
     },
     "execution_count": 20,
     "metadata": {},
     "output_type": "execute_result"
    },
    {
     "data": {
      "image/png": "[encoded data removed]",
      "text/plain": [
       "<Figure size 640x480 with 2 Axes>"
      ]
     },
     "metadata": {},
     "output_type": "display_data"
    }
   ],
   "source": [
    "ds.elevation.plot()"
   ]
  },
  {
   "cell_type": "code",
   "execution_count": 33,
   "id": "abd1fb5e-31c4-4344-83f5-145aadfd738a",
   "metadata": {
    "tags": []
   },
   "outputs": [],
   "source": [
    "from dea_tools.coastal import model_tides, pixel_tides"
   ]
  },
  {
   "cell_type": "code",
   "execution_count": 65,
   "id": "6d0de55f-df1f-481a-81fa-1448d26894a9",
   "metadata": {
    "tags": []
   },
   "outputs": [
    {
     "data": {
      "text/plain": [
       "\u001b[0;31mSignature:\u001b[0m\n",
       "\u001b[0mpixel_tides\u001b[0m\u001b[0;34m(\u001b[0m\u001b[0;34m\u001b[0m\n",
       "\u001b[0;34m\u001b[0m    \u001b[0mds\u001b[0m\u001b[0;34m,\u001b[0m\u001b[0;34m\u001b[0m\n",
       "\u001b[0;34m\u001b[0m    \u001b[0mtimes\u001b[0m\u001b[0;34m=\u001b[0m\u001b[0;32mNone\u001b[0m\u001b[0;34m,\u001b[0m\u001b[0;34m\u001b[0m\n",
       "\u001b[0;34m\u001b[0m    \u001b[0mresample\u001b[0m\u001b[0;34m=\u001b[0m\u001b[0;32mTrue\u001b[0m\u001b[0;34m,\u001b[0m\u001b[0;34m\u001b[0m\n",
       "\u001b[0;34m\u001b[0m    \u001b[0mcalculate_quantiles\u001b[0m\u001b[0;34m=\u001b[0m\u001b[0;32mNone\u001b[0m\u001b[0;34m,\u001b[0m\u001b[0;34m\u001b[0m\n",
       "\u001b[0;34m\u001b[0m    \u001b[0mresolution\u001b[0m\u001b[0;34m=\u001b[0m\u001b[0;32mNone\u001b[0m\u001b[0;34m,\u001b[0m\u001b[0;34m\u001b[0m\n",
       "\u001b[0;34m\u001b[0m    \u001b[0mbuffer\u001b[0m\u001b[0;34m=\u001b[0m\u001b[0;32mNone\u001b[0m\u001b[0;34m,\u001b[0m\u001b[0;34m\u001b[0m\n",
       "\u001b[0;34m\u001b[0m    \u001b[0mresample_method\u001b[0m\u001b[0;34m=\u001b[0m\u001b[0;34m'bilinear'\u001b[0m\u001b[0;34m,\u001b[0m\u001b[0;34m\u001b[0m\n",
       "\u001b[0;34m\u001b[0m    \u001b[0mmodel\u001b[0m\u001b[0;34m=\u001b[0m\u001b[0;34m'FES2014'\u001b[0m\u001b[0;34m,\u001b[0m\u001b[0;34m\u001b[0m\n",
       "\u001b[0;34m\u001b[0m    \u001b[0;34m**\u001b[0m\u001b[0mmodel_tides_kwargs\u001b[0m\u001b[0;34m,\u001b[0m\u001b[0;34m\u001b[0m\n",
       "\u001b[0;34m\u001b[0m\u001b[0;34m)\u001b[0m\u001b[0;34m\u001b[0m\u001b[0;34m\u001b[0m\u001b[0m\n",
       "\u001b[0;31mDocstring:\u001b[0m\n",
       "Obtain tide heights for each pixel in a dataset by modelling\n",
       "tides into a low-resolution grid surrounding the dataset,\n",
       "then (optionally) spatially resample this low-res data back\n",
       "into the original higher resolution dataset extent and resolution.\n",
       "\n",
       "Parameters:\n",
       "-----------\n",
       "ds : xarray.Dataset\n",
       "    A dataset whose geobox (`ds.odc.geobox`) will be used to define\n",
       "    the spatial extent of the low resolution tide modelling grid.\n",
       "times : pandas.DatetimeIndex or list of pandas.Timestamps, optional\n",
       "    By default, the function will model tides using the times\n",
       "    contained in the `time` dimension of `ds`. Alternatively, this\n",
       "    param can be used to model tides for a custom set of times\n",
       "    instead. For example:\n",
       "    `times=pd.date_range(start=\"2000\", end=\"2001\", freq=\"5h\")`\n",
       "resample : bool, optional\n",
       "    Whether to resample low resolution tides back into `ds`'s original\n",
       "    higher resolution grid. Set this to `False` if you do not want\n",
       "    low resolution tides to be re-projected back to higher resolution.\n",
       "calculate_quantiles : list or np.array, optional\n",
       "    Rather than returning all individual tides, low-resolution tides\n",
       "    can be first aggregated using a quantile calculation by passing in\n",
       "    a list or array of quantiles to compute. For example, this could\n",
       "    be used to calculate the min/max tide across all times:\n",
       "    `calculate_quantiles=[0.0, 1.0]`.\n",
       "resolution: int, optional\n",
       "    The desired resolution of the low-resolution grid used for tide\n",
       "    modelling. The default None will create a 5000 m resolution grid\n",
       "    if `ds` has a projected CRS (i.e. metre units), or a 0.05 degree\n",
       "    resolution grid if `ds` has a geographic CRS (e.g. degree units).\n",
       "    Note: higher resolutions do not necessarily provide better\n",
       "    tide modelling performance, as results will be limited by the\n",
       "    resolution of the underlying global tide model (e.g. 1/16th\n",
       "    degree / ~5 km resolution grid for FES2014).\n",
       "buffer : int, optional\n",
       "    The amount by which to buffer the higher resolution grid extent\n",
       "    when creating the new low resolution grid. This buffering is\n",
       "    important as it ensures that ensure pixel-based tides are seamless\n",
       "    across dataset boundaries. This buffer will eventually be clipped\n",
       "    away when the low-resolution data is re-projected back to the\n",
       "    resolution and extent of the higher resolution dataset. To\n",
       "    ensure that at least two pixels occur outside of the dataset\n",
       "    bounds, the default None applies a 12000 m buffer if `ds` has a\n",
       "    projected CRS (i.e. metre units), or a 0.12 degree buffer if\n",
       "    `ds` has a geographic CRS (e.g. degree units).\n",
       "resample_method : string, optional\n",
       "    If resampling is requested (see `resample` above), use this\n",
       "    resampling method when converting from low resolution to high\n",
       "    resolution pixels. Defaults to \"bilinear\"; valid options include\n",
       "    \"nearest\", \"cubic\", \"min\", \"max\", \"average\" etc.\n",
       "model : string or list of strings\n",
       "    The tide model or a list of models used to model tides, as \n",
       "    supported by the `pyTMD` Python package. Options include:\n",
       "    - \"FES2014\" (default; pre-configured on DEA Sandbox)\n",
       "    - \"TPXO8-atlas\"\n",
       "    - \"TPXO9-atlas-v5\"\n",
       "**model_tides_kwargs :\n",
       "    Optional parameters passed to the `dea_tools.coastal.model_tides`\n",
       "    function. Important parameters include \"directory\" (used to\n",
       "    specify the location of input tide modelling files) and \"cutoff\"\n",
       "    (used to extrapolate modelled tides away from the coast.)\n",
       "\n",
       "Returns:\n",
       "--------\n",
       "If `resample` is False:\n",
       "\n",
       "    tides_lowres : xr.DataArray\n",
       "        A low resolution data array giving either tide heights every\n",
       "        timestep in `ds` (if `times` is None), tide heights at every\n",
       "        time in `times` (if `times` is not None), or tide height quantiles\n",
       "        for every quantile provided by `calculate_quantiles`.\n",
       "\n",
       "If `resample` is True:\n",
       "\n",
       "    tides_highres, tides_lowres : tuple of xr.DataArrays\n",
       "        In addition to `tides_lowres` (see above), a high resolution\n",
       "        array of tide heights will be generated that matches the\n",
       "        exact spatial resolution and extent of `ds`. This will contain\n",
       "        either tide heights every timestep in `ds` (if `times` is None),\n",
       "        tide heights at every time in `times` (if `times` is not None),\n",
       "        or tide height quantiles for every quantile provided by\n",
       "        `calculate_quantiles`.\n",
       "\u001b[0;31mFile:\u001b[0m      /env/lib/python3.8/site-packages/dea_tools/coastal.py\n",
       "\u001b[0;31mType:\u001b[0m      function"
      ]
     },
     "metadata": {},
     "output_type": "display_data"
    }
   ],
   "source": [
    "?pixel_tides"
   ]
  },
  {
   "cell_type": "code",
   "execution_count": 36,
   "id": "5b0d548e-eebf-431a-8c8f-2ea40adadae3",
   "metadata": {
    "tags": []
   },
   "outputs": [
    {
     "name": "stdout",
     "output_type": "stream",
     "text": [
      "Creating reduced resolution 5000 x 5000 metre tide modelling array\n",
      "Modelling tides with FES2014\n",
      "Reprojecting tides into original array\n"
     ]
    },
    {
     "name": "stderr",
     "output_type": "stream",
     "text": [
      "100%|██████████| 8761/8761 [00:04<00:00, 1767.50it/s]\n"
     ]
    }
   ],
   "source": [
    "## Testing for spatial customisation (splicing up the tidal zone)\n",
    "\n",
    "modelledtides = pixel_tides(\n",
    "                ds,\n",
    "                times=all_timerange,\n",
    "                model=tide_model,\n",
    "                directory = '../../gdata1/data/tide_models')\n",
    "    "
   ]
  },
  {
   "cell_type": "code",
   "execution_count": 73,
   "id": "961833b5-a557-4623-b0a5-4db772b86868",
   "metadata": {
    "tags": []
   },
   "outputs": [],
   "source": [
    "from scipy.signal import argrelmax \n",
    "from scipy.signal import argrelmin \n",
    "from scipy.interpolate import interp1d \n",
    "import xarray as xr"
   ]
  },
  {
   "cell_type": "code",
   "execution_count": 97,
   "id": "f87f9500-6227-49b7-971b-efd317966c02",
   "metadata": {
    "tags": []
   },
   "outputs": [],
   "source": [
    "# mt_df = modelledtides[0].to_dataframe()#.(dim='time') ##high_res tides"
   ]
  },
  {
   "cell_type": "code",
   "execution_count": 130,
   "id": "5ba86daf-60f7-4368-b22e-75f5d4bc7dea",
   "metadata": {
    "tags": []
   },
   "outputs": [],
   "source": [
    "# ## All peaks(maxima) in modelledtides \n",
    "# # Max = argrelmax(modelledtides[0:-1].tideheights.values)\n",
    "# mt_df['Max'] = argrelmax(mt_df.tide_m.values)[0]\n",
    "\n",
    "# # def tide_maxima(first_sample, dim):\n",
    "# #     return xr.apply_ufunc(argrelmax,\n",
    "# #                        first_sample,\n",
    "# #                        input_core_dims=dim,\n",
    "# #                        # output_core_dims=[['y'],['x']],\n",
    "# #                        vectorize=False)\n",
    "\n",
    "# # test = tide_maxima(modelledtides[0].values, dim=[[],['y'],['x']])\n",
    "# # test\n",
    "\n",
    "\n",
    "\n",
    "\n",
    "# # Max = np.array(Max[0])\n",
    "\n",
    "# mt_df"
   ]
  },
  {
   "cell_type": "code",
   "execution_count": 110,
   "id": "f200610d-b385-4df7-91ae-42d342c27189",
   "metadata": {
    "tags": []
   },
   "outputs": [
    {
     "data": {
      "text/plain": [
       "(array([   2,    6,   11, ..., 8750, 8754, 8758]),)"
      ]
     },
     "execution_count": 110,
     "metadata": {},
     "output_type": "execute_result"
    }
   ],
   "source": [
    "argrelmax(modelledtides[0].isel(y=1,x=1).values)"
   ]
  },
  {
   "cell_type": "code",
   "execution_count": 121,
   "id": "94bfa637-168b-42bb-9acb-092d18dacc6e",
   "metadata": {
    "tags": []
   },
   "outputs": [
    {
     "data": {
      "text/plain": [
       "array([   2,    6,   11, ..., 8750, 8754, 8758])"
      ]
     },
     "execution_count": 121,
     "metadata": {},
     "output_type": "execute_result"
    }
   ],
   "source": [
    "Max_test = np.array(argrelmax(modelledtides[0].isel(y=1,x=1).values)[0])\n",
    "Max_test"
   ]
  },
  {
   "cell_type": "code",
   "execution_count": 134,
   "id": "da6ec4c2-48eb-49c3-8d58-7fd65ea1a0b7",
   "metadata": {
    "tags": []
   },
   "outputs": [],
   "source": [
    "test_mt = modelledtides[0].isel(y=1,x=1)"
   ]
  },
  {
   "cell_type": "code",
   "execution_count": 138,
   "id": "14222bea-2382-4497-9356-ff88e7368be4",
   "metadata": {
    "tags": []
   },
   "outputs": [
    {
     "data": {
      "text/plain": [
       "array([1.3114041, 1.5426903, 1.3786919, ..., 1.5512965, 1.3487471,\n",
       "       1.4019824], dtype=float32)"
      ]
     },
     "execution_count": 138,
     "metadata": {},
     "output_type": "execute_result"
    }
   ],
   "source": [
    "test_selection1 = test_mt[Max_test]\n",
    "test_selection1.values"
   ]
  },
  {
   "cell_type": "code",
   "execution_count": 139,
   "id": "fd0de9a1-6151-4f7d-88ab-5fc97312e497",
   "metadata": {
    "tags": []
   },
   "outputs": [],
   "source": [
    "#Find the maxima (spring high) of the maxima\n",
    "maxhigh = argrelmax(test_selection1.values)\n",
    "maxhigh = np.array(maxhigh[0])\n",
    "springhigh = argrelmax(test_mt[maxhigh].values)\n",
    "springhigh = np.array(springhigh[0])"
   ]
  },
  {
   "cell_type": "code",
   "execution_count": null,
   "id": "0032b941-9d0c-44e6-a107-9ea3068fb90c",
   "metadata": {
    "tags": []
   },
   "outputs": [],
   "source": []
  },
  {
   "cell_type": "code",
   "execution_count": 157,
   "id": "97a82a66-afda-4ac2-a062-597a5fb91a1b",
   "metadata": {
    "tags": []
   },
   "outputs": [
    {
     "data": {
      "text/plain": [
       "[<matplotlib.lines.Line2D at 0x7fac22410100>]"
      ]
     },
     "execution_count": 157,
     "metadata": {},
     "output_type": "execute_result"
    },
    {
     "data": {
      "image/png": "[encoded data removed]",
      "text/plain": [
       "<Figure size 640x480 with 1 Axes>"
      ]
     },
     "metadata": {},
     "output_type": "display_data"
    }
   ],
   "source": [
    "modelledtides[0].isel(y=1,x=1)[0:500].plot()\n",
    "test_mt[Max_test][0:100].plot(marker='o', linestyle='')    \n",
    "test_mt[Max_test][maxhigh][0:50].plot(marker='o', linestyle='')\n",
    "test_mt[Max_test][maxhigh][springhigh][0:20].plot(marker='o', linestyle='')"
   ]
  },
  {
   "cell_type": "code",
   "execution_count": 37,
   "id": "da638bba-65fc-42d1-8749-703530c75c0d",
   "metadata": {
    "tags": []
   },
   "outputs": [
    {
     "data": {
      "text/plain": [
       "(<xarray.DataArray 'tide_m' (time: 8761, y: 23, x: 33)>\n",
       " array([[[-2.0278747 , -2.0280788 , -2.0282829 , ..., -2.0345905 ,\n",
       "          -2.0348356 , -2.0350804 ],\n",
       "         [-2.0279999 , -2.0282042 , -2.0284085 , ..., -2.0346997 ,\n",
       "          -2.0349433 , -2.0351868 ],\n",
       "         [-2.028125  , -2.0283296 , -2.0285344 , ..., -2.0348089 ,\n",
       "          -2.035051  , -2.035293  ],\n",
       "         ...,\n",
       "         [-2.0300355 , -2.0302496 , -2.0304637 , ..., -2.0364347 ,\n",
       "          -2.0366473 , -2.0368598 ],\n",
       "         [-2.0300987 , -2.0303137 , -2.0305288 , ..., -2.036482  ,\n",
       "          -2.0366924 , -2.036903  ],\n",
       "         [-2.0301616 , -2.0303776 , -2.0305936 , ..., -2.0365295 ,\n",
       "          -2.0367377 , -2.036946  ]],\n",
       " \n",
       "        [[-0.6049201 , -0.60547054, -0.6060209 , ..., -0.6200133 ,\n",
       "          -0.6204658 , -0.62091833],\n",
       "         [-0.60533094, -0.6058837 , -0.60643643, ..., -0.6204746 ,\n",
       "          -0.6209281 , -0.62138164],\n",
       "         [-0.6057418 , -0.6062969 , -0.606852  , ..., -0.62093586,\n",
       "          -0.6213904 , -0.6218449 ],\n",
       " ...\n",
       "         [ 0.68588406,  0.6869197 ,  0.6879553 , ...,  0.7116156 ,\n",
       "           0.71228313,  0.7129507 ],\n",
       "         [ 0.68614626,  0.6871885 ,  0.68823075, ...,  0.71194655,\n",
       "           0.7126118 ,  0.713277  ],\n",
       "         [ 0.68640846,  0.6874573 ,  0.68850625, ...,  0.71227753,\n",
       "           0.7129404 ,  0.71360326]],\n",
       " \n",
       "        [[-1.9137248 , -1.9135388 , -1.913353  , ..., -1.9091235 ,\n",
       "          -1.9090049 , -1.9088863 ],\n",
       "         [-1.9134306 , -1.9132433 , -1.9130561 , ..., -1.9087768 ,\n",
       "          -1.908656  , -1.9085352 ],\n",
       "         [-1.9131365 , -1.9129478 , -1.9127592 , ..., -1.9084301 ,\n",
       "          -1.9083071 , -1.9081842 ],\n",
       "         ...,\n",
       "         [-1.9085307 , -1.9083158 , -1.9081008 , ..., -1.9028778 ,\n",
       "          -1.9027178 , -1.9025577 ],\n",
       "         [-1.9083618 , -1.9081452 , -1.9079286 , ..., -1.9026563 ,\n",
       "          -1.9024944 , -1.9023325 ],\n",
       "         [-1.908193  , -1.9079747 , -1.9077563 , ..., -1.9024348 ,\n",
       "          -1.9022712 , -1.9021074 ]]], dtype=float32)\n",
       " Coordinates:\n",
       "   * time         (time) datetime64[ns] 2019-01-01 ... 2021-12-31\n",
       "     tide_model   <U7 'FES2014'\n",
       "     spatial_ref  int32 3577\n",
       "   * y            (y) float64 -1.286e+06 -1.286e+06 ... -1.288e+06 -1.288e+06\n",
       "   * x            (x) float64 -1.405e+04 -1.395e+04 ... -1.095e+04 -1.085e+04,\n",
       " <xarray.DataArray 'tide_m' (time: 8761, y: 7, x: 7)>\n",
       " array([[[-1.9693445 , -1.9741261 , -1.981642  , ..., -2.0072794 ,\n",
       "          -2.0270052 , -2.0481632 ],\n",
       "         [-1.9951534 , -1.9985029 , -2.0049489 , ..., -2.029221  ,\n",
       "          -2.0482533 , -2.0681696 ],\n",
       "         [-2.007815  , -2.0107477 , -2.0167987 , ..., -2.0412393 ,\n",
       "          -2.059823  , -2.078647  ],\n",
       "         ...,\n",
       "         [-2.0091112 , -2.0126638 , -2.0239794 , ..., -2.0427606 ,\n",
       "          -2.059584  , -2.0754857 ],\n",
       "         [-2.0087845 , -2.0094037 , -2.0246155 , ..., -2.0484653 ,\n",
       "          -2.0607865 , -2.0742097 ],\n",
       "         [-2.0086684 , -2.0123632 , -2.0254302 , ..., -2.0502038 ,\n",
       "          -2.0615914 , -2.0737083 ]],\n",
       " \n",
       "        [[-0.4636621 , -0.48586395, -0.5076559 , ..., -0.5514388 ,\n",
       "          -0.57039076, -0.5880261 ],\n",
       "         [-0.50299525, -0.52264893, -0.5437292 , ..., -0.5865563 ,\n",
       "          -0.60392493, -0.62001055],\n",
       "         [-0.5321991 , -0.55159354, -0.57421726, ..., -0.6184729 ,\n",
       "          -0.6334636 , -0.6469705 ],\n",
       " ...\n",
       "         [ 0.5705547 ,  0.59147435,  0.6516291 , ...,  0.7463254 ,\n",
       "           0.76711744,  0.78469485],\n",
       "         [ 0.56100005,  0.57140684,  0.65468353, ...,  0.754707  ,\n",
       "           0.7684881 ,  0.78369   ],\n",
       "         [ 0.55784225,  0.5852457 ,  0.6559914 , ...,  0.7552626 ,\n",
       "           0.7695178 ,  0.783408  ]],\n",
       " \n",
       "        [[-1.9873465 , -1.9763858 , -1.9697618 , ..., -1.9642272 ,\n",
       "          -1.9656881 , -1.9681953 ],\n",
       "         [-1.9682177 , -1.9587535 , -1.9514312 , ..., -1.9443315 ,\n",
       "          -1.9469192 , -1.9506563 ],\n",
       "         [-1.9470668 , -1.9377617 , -1.9288962 , ..., -1.9199384 ,\n",
       "          -1.9238697 , -1.928647  ],\n",
       "         ...,\n",
       "         [-1.9163908 , -1.919835  , -1.9109827 , ..., -1.8844153 ,\n",
       "          -1.8887277 , -1.8939548 ],\n",
       "         [-1.9180126 , -1.916895  , -1.9014775 , ..., -1.8850081 ,\n",
       "          -1.8890576 , -1.893042  ],\n",
       "         [-1.9185371 , -1.9133286 , -1.9002612 , ..., -1.8859285 ,\n",
       "          -1.8891495 , -1.8925503 ]]], dtype=float32)\n",
       " Coordinates:\n",
       "   * time         (time) datetime64[ns] 2019-01-01 ... 2021-12-31\n",
       "   * x            (x) float64 -2.75e+04 -2.25e+04 -1.75e+04 ... -2.5e+03 2.5e+03\n",
       "   * y            (y) float64 -1.272e+06 -1.278e+06 ... -1.298e+06 -1.302e+06\n",
       "     tide_model   <U7 'FES2014'\n",
       "     spatial_ref  int32 3577)"
      ]
     },
     "execution_count": 37,
     "metadata": {},
     "output_type": "execute_result"
    }
   ],
   "source": [
    "## Original code prototype\n",
    "\n",
    " ## Find all spring and neap high tides\n",
    "\n",
    "            ## All peaks(maxima) in modelledtides \n",
    "            Max = argrelmax(modelledtides[0:-1].tideheights.values)\n",
    "            Max = np.array(Max[0])\n",
    "\n",
    "            ## Find higher tides in the maxima then the spring high tides \n",
    "            maxhigh = argrelmax(modelledtides.tideheights[Max].values)\n",
    "            maxhigh = np.array(maxhigh[0])\n",
    "            springhigh = argrelmax(modelledtides.tideheights[Max[maxhigh]].values)\n",
    "            springhigh = np.array(springhigh[0]) \n",
    "\n",
    "            ## Find lower tides in the maxima then the neap high tides\n",
    "            maxlow = argrelmin(modelledtides.tideheights[Max].values)\n",
    "            maxlow = np.array(maxlow[0])\n",
    "            neaphigh = argrelmin(modelledtides.tideheights[Max[maxlow]].values)\n",
    "            neaphigh = np.array(neaphigh[0])\n",
    "\n",
    "            ## Repeat to determine spring and neap low tides.\n",
    "\n",
    "            ## All minima in modelledtides \n",
    "            Min = argrelmin(modelledtides[0:-1].tideheights.values)\n",
    "            Min = np.array(Min[0])\n",
    "\n",
    "            ## Find higher tides in the maxima then the spring high tides \n",
    "            minhigh = argrelmin(modelledtides.tideheights[Min].values)\n",
    "            minhigh = np.array(minhigh[0])\n",
    "            springlow = argrelmin(modelledtides.tideheights[Min[minhigh]].values)\n",
    "            springlow = np.array(springlow[0])\n",
    "\n",
    "            ## Find lower tides in the maxima then the neap high tides\n",
    "            minlow = argrelmax(modelledtides.tideheights[Min].values)\n",
    "            minlow = np.array(minlow[0])\n",
    "            neaplow = argrelmax(modelledtides.tideheights[Min[minlow]].values)\n",
    "            neaplow = np.array(neaplow[0])\n",
    "\n",
    "            # Add column to modelledtides to plot without using datetime values\n",
    "            modelledtides['count'] = np.arange(0,len(modelledtides),1)\n",
    "\n",
    "            ## Interpolate the high and low spring and neap curves\n",
    "            neap_high_linear = interp1d(Max[maxlow], modelledtides.tideheights[Max[maxlow]].values, bounds_error=False, kind='linear', fill_value='extrapolate')\n",
    "            modelledtides['neap_high_interp'] = neap_high_linear(modelledtides['count'])\n",
    "\n",
    "            spring_high_linear = interp1d(Max[maxhigh], modelledtides.tideheights[Max[maxhigh]].values, bounds_error=False, kind='linear', fill_value='extrapolate')\n",
    "            modelledtides['spring_high_interp'] = spring_high_linear(modelledtides['count'])\n",
    "\n",
    "            neap_low_linear = interp1d(Min[minlow], modelledtides.tideheights[Min[minlow]].values, bounds_error=False, kind='linear', fill_value='extrapolate')\n",
    "            modelledtides['neap_low_interp'] = neap_low_linear(modelledtides['count'])\n",
    "\n",
    "            spring_low_linear = interp1d(Min[minhigh], modelledtides.tideheights[Min[minhigh]].values, bounds_error=False, kind='linear', fill_value='extrapolate')\n",
    "            modelledtides['spring_low_interp'] = spring_low_linear(modelledtides['count'])\n",
    "\n",
    "            ## Extract datetimeindex for each dataslice\n",
    "            spring_high = modelledtides.tideheights[Max[maxhigh[springhigh]]].index\n",
    "            spring_low = modelledtides.tideheights[Min[minhigh[springlow]]].index\n",
    "            neap_high = modelledtides.tideheights[Max[maxlow[neaphigh]]].index\n",
    "            neap_low = modelledtides.tideheights[Min[minlow[neaplow]]].index\n",
    "            hightide = modelledtides[modelledtides.tideheights > modelledtides.neap_high_interp].index\n",
    "            lowtide = modelledtides[modelledtides.tideheights < modelledtides.neap_low_interp].index\n",
    "\n",
    "                            ## Filtering modelledtides by nominated timerange\n",
    "            filteredtides = pd.DataFrame(modelledtides['tideheights'][timestep] for timestep in hightide.array)\n",
    "            filteredtides['timerange'] = hightide\n",
    "            filteredtides.set_index('timerange', inplace=True)\n",
    "            filteredtides.rename(columns={0:\"tideheights\"}, inplace=True)\n",
    "            filters['hightide'] = filteredtides\n",
    "            \n",
    "                            ## Filtering modelledtides by nominated timerange\n",
    "            filteredtides = pd.DataFrame(modelledtides['tideheights'][timestep] for timestep in lowtide.array)\n",
    "            filteredtides['timerange'] = lowtide\n",
    "            filteredtides.set_index('timerange', inplace=True)\n",
    "            filteredtides.rename(columns={0:\"tideheights\"}, inplace=True)\n",
    "            filters['lowtide'] = filteredtides"
   ]
  },
  {
   "cell_type": "code",
   "execution_count": null,
   "id": "8b6e1f3d-bccb-4750-bc98-d1a4c224f5d4",
   "metadata": {},
   "outputs": [],
   "source": []
  }
 ],
 "metadata": {
  "kernelspec": {
   "display_name": "Python 3 (ipykernel)",
   "language": "python",
   "name": "python3"
  },
  "language_info": {
   "codemirror_mode": {
    "name": "ipython",
    "version": 3
   },
   "file_extension": ".py",
   "mimetype": "text/x-python",
   "name": "python",
   "nbconvert_exporter": "python",
   "pygments_lexer": "ipython3",
   "version": "3.8.10"
  }
 },
 "nbformat": 4,
 "nbformat_minor": 5
}

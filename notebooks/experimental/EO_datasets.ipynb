{
 "cells": [
  {
   "cell_type": "code",
   "execution_count": null,
   "id": "817754f3-6841-420d-b592-cf59fac1dbc5",
   "metadata": {},
   "outputs": [],
   "source": [
    "cd ../.."
   ]
  },
  {
   "cell_type": "code",
   "execution_count": null,
   "id": "a1758b11-71ba-4792-9c5c-c45b6d2ccc9f",
   "metadata": {
    "tags": []
   },
   "outputs": [],
   "source": [
    "%load_ext autoreload\n",
    "%autoreload 2\n",
    "\n",
    "from intertidal.io import export_dataset_metadata, prepare_for_export"
   ]
  },
  {
   "cell_type": "code",
   "execution_count": null,
   "id": "82f10c53-1b62-482b-81dd-686059f33619",
   "metadata": {},
   "outputs": [],
   "source": [
    "import datacube\n",
    "\n",
    "dc = datacube.Datacube()\n",
    "query_params = dict(x=(122.145073, 122.425224), y=(-17.922562, -18.252834))\n",
    "dd = dc.find_datasets(product=\"nidem\", **query_params)\n",
    "ds = dc.load(datasets=dd, **query_params).squeeze()\n",
    "ds[\"testing\"] = ds.nidem\n",
    "ds[\"elevation\"] = ds.nidem"
   ]
  },
  {
   "cell_type": "code",
   "execution_count": null,
   "id": "d8872fa8-09bb-45db-a049-aba92efa7389",
   "metadata": {},
   "outputs": [],
   "source": [
    "ds_processed = prepare_for_export(ds, int_bands=[\"nidem\"], int_nodata=-9999)\n",
    "\n",
    "dataset_assembler = export_dataset_metadata(\n",
    "    ds=ds_processed,\n",
    "    year=2018,\n",
    "    study_area=\"x37y30\",\n",
    "    output_location=\"s3://dea-public-data-dev/derivative/\",\n",
    "    s2_lineage=dd,    \n",
    "    ls_lineage=dd,\n",
    "    ancillary_lineage=dd,\n",
    "    debug=True\n",
    ")\n",
    "\n",
    "# export_dataset_metadata(\n",
    "#     ds=ds,\n",
    "#     year=2019,\n",
    "#     region_code=\"x37y30\",\n",
    "#     output_location=\"data/processed/\",\n",
    "#     ls_lineage=dd,\n",
    "#     s2_lineage=dd,\n",
    "#     ancillary_lineage=dd,\n",
    "# )"
   ]
  },
  {
   "cell_type": "code",
   "execution_count": 6,
   "id": "09cc7eae-dc96-4d7a-a843-8786a9efa6b1",
   "metadata": {},
   "outputs": [
    {
     "name": "stdout",
     "output_type": "stream",
     "text": [
      "\u001b[32m✓\u001b[0m file:///home/jovyan/Robbi/dea-intertidal/data/raw/ga_s2ls_intertidal_cyear_3.odc-product.yaml\n",
      "\u001b[32m✓\u001b[0m file:///home/jovyan/Robbi/dea-intertidal/data/processed/ga_s2ls_intertidal_cyear_3/0-0-1a/x094/y145/2023--P1Y/ga_s2ls_intertidal_cyear_3_x094y145_2023--P1Y_final.odc-metadata.yaml\n",
      "\n",
      "\u001b[32m\u001b[1mvalid\u001b[0m: \u001b[0m2 paths\u001b[0m\n"
     ]
    }
   ],
   "source": [
    "!eo3-validate /home/jovyan/Robbi/dea-intertidal/data/raw/ga_s2ls_intertidal_cyear_3.odc-product.yaml /home/jovyan/Robbi/dea-intertidal/data/processed/ga_s2ls_intertidal_cyear_3/0-0-1a/x094/y145/2023--P1Y/ga_s2ls_intertidal_cyear_3_x094y145_2023--P1Y_final.odc-metadata.yaml --thorough"
   ]
  },
  {
   "cell_type": "code",
   "execution_count": null,
   "id": "2231161f-72f4-4356-842e-c241c468e43b",
   "metadata": {},
   "outputs": [],
   "source": []
  }
 ],
 "metadata": {
  "kernelspec": {
   "display_name": "Python 3 (ipykernel)",
   "language": "python",
   "name": "python3"
  },
  "language_info": {
   "codemirror_mode": {
    "name": "ipython",
    "version": 3
   },
   "file_extension": ".py",
   "mimetype": "text/x-python",
   "name": "python",
   "nbconvert_exporter": "python",
   "pygments_lexer": "ipython3",
   "version": "3.10.13"
  },
  "widgets": {
   "application/vnd.jupyter.widget-state+json": {
    "state": {},
    "version_major": 2,
    "version_minor": 0
   }
  }
 },
 "nbformat": 4,
 "nbformat_minor": 5
}

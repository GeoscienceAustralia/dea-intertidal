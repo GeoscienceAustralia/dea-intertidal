{
 "cells": [
  {
   "cell_type": "code",
   "execution_count": 2,
   "id": "274b81da-fd53-4427-8f7a-62701358cb2f",
   "metadata": {
    "tags": []
   },
   "outputs": [],
   "source": [
    "import eodatasets3\n",
    "from pathlib import Path\n",
    "from eodatasets3 import DatasetDoc\n",
    "\n",
    "import numpy as np"
   ]
  },
  {
   "cell_type": "code",
   "execution_count": 16,
   "id": "f3d6c528-6909-42df-b867-3d0c947f13bf",
   "metadata": {
    "tags": []
   },
   "outputs": [
    {
     "name": "stdout",
     "output_type": "stream",
     "text": [
      "Preview file path: ga_s2ls_intertidal_cyear_3/0-0-1/x37/y30/2018--P1Y/ga_s2ls_intertidal_cyear_3_x37y30_2018--P1Y_final.odc-metadata.yaml\n"
     ]
    }
   ],
   "source": [
    "\n",
    "def create_dataset_doc(\n",
    "    year,\n",
    "    region_code,\n",
    "    dataset_version,\n",
    "    product_maturity=\"provisional\",\n",
    "    dataset_maturity=\"final\",\n",
    "):\n",
    "    dd = DatasetDoc()\n",
    "\n",
    "    # General product details\n",
    "    dd.product_family = \"intertidal\"\n",
    "    dd.producer = \"ga.gov.au\"\n",
    "\n",
    "    # Platforms and intruments\n",
    "    if year <= 2020:\n",
    "        dd.platform = \"landsat-7,landsat-8,sentinel-2a,sentinel-2b\"\n",
    "        dd.instrument = \"ETM_OLI_TIRS_MSI\"\n",
    "    elif year in (2021, 2022):\n",
    "        dd.platform = \"landsat-7,landsat-8,landsat-9,sentinel-2a,sentinel-2b\"\n",
    "        dd.instrument = \"ETM_OLI_TIRS_MSI\"\n",
    "    else:\n",
    "        dd.platform = \"landsat-8,landsat-9,sentinel-2a,sentinel-2b\"\n",
    "        dd.instrument = \"OLI_TIRS_MSI\"\n",
    "\n",
    "    # Spatial and temporal information\n",
    "    dd.region_code = region_code\n",
    "    dd.datetime = f\"{year}-01-01\"\n",
    "    dd.datetime_range = (f\"{year}-01-01\", f\"{year}-12-31T23:59:59.999999\")\n",
    "    dd.processed_now()\n",
    "\n",
    "    # Product maturity and versioning\n",
    "    dd.product_maturity = product_maturity\n",
    "    dd.maturity = dataset_maturity\n",
    "    dd.dataset_version = dataset_version\n",
    "\n",
    "    # Set additional properties\n",
    "    dd.properties.update(\n",
    "        {\n",
    "            \"odc:product\": \"ga_s2ls_intertidal_cyear_3\",\n",
    "            \"odc:file_format\": \"GeoTIFF\",\n",
    "            \"odc:collection_number\": 3,\n",
    "            \"eo:gsd\": 10,\n",
    "        }\n",
    "    )\n",
    "\n",
    "    # Generate names\n",
    "    names = eodatasets3.namer(dd, conventions=\"dea_c3\")\n",
    "\n",
    "    # Update to temporal naming convention\n",
    "    time_convention = f\"{year}--P1Y\"\n",
    "    names.time_folder = time_convention\n",
    "    label_parts = names.dataset_label.split(\"_\")\n",
    "    label_parts[-2] = time_convention\n",
    "    names.dataset_label = \"_\".join(label_parts)\n",
    "    print(f\"Preview file path: {names.dataset_folder}/{names.metadata_file}\")\n",
    "\n",
    "    return dd, names\n",
    "\n",
    "\n",
    "dd, names = create_dataset_doc(\n",
    "    year=2018, region_code=\"x37y30\", dataset_version=\"0.0.1\"\n",
    ")"
   ]
  },
  {
   "cell_type": "code",
   "execution_count": 17,
   "id": "25439880-cced-467e-a241-728ec40a9ec8",
   "metadata": {
    "tags": []
   },
   "outputs": [
    {
     "data": {
      "text/plain": [
       "PosixPath('/home/jovyan/Robbi/dea-intertidal/data/ga_s2ls_intertidal_cyear_3/0-0-1/x37/y30/2018--P1Y/ga_s2ls_intertidal_cyear_3_x37y30_2018--P1Y_final.odc-metadata.yaml')"
      ]
     },
     "execution_count": 17,
     "metadata": {},
     "output_type": "execute_result"
    }
   ],
   "source": [
    "# Update path names to use Collection 3 date aliases\n",
    "collection_path = Path(\"/home/jovyan/Robbi/dea-intertidal/data\")\n",
    "data_path = collection_path / names.dataset_folder\n",
    "metadata_path = data_path / names.metadata_file\n",
    "thumbnail_path = data_path / names.thumbnail_filename(kind=\"elevation\")\n",
    "metadata_path\n",
    "\n",
    "# Create directory if it doesn't exist\n",
    "# data_path.mkdir(parents=True, exist_ok=True)"
   ]
  },
  {
   "cell_type": "code",
   "execution_count": 18,
   "id": "890b1d67-fb5b-45fe-9e7c-9c399e2692ce",
   "metadata": {
    "tags": []
   },
   "outputs": [],
   "source": [
    "import rioxarray\n",
    "import odc.geo.xr\n",
    "\n",
    "def write_intertidal_thumbnail(data, path, max_resolution=320):\n",
    "    jpeg_data = (\n",
    "        data.odc.reproject(\n",
    "            how=data.odc.geobox.zoom_to(max_resolution),\n",
    "            resampling=\"min\",\n",
    "        )\n",
    "        .pipe(lambda x: x.where(np.isfinite(x)))\n",
    "        .odc.colorize(vmin=-2.5, vmax=1.5, cmap=\"viridis\")\n",
    "        .odc.compress(\"jpeg\", 85, transparent=[255, 255, 255])\n",
    "    )\n",
    "\n",
    "    with open(path, \"wb\") as f:\n",
    "        f.write(jpeg_data)\n",
    "        \n",
    "elevation = rioxarray.open_rasterio(data_path / \"x133y40_2019_2021_elevation.tif\").squeeze()\n",
    "write_intertidal_thumbnail(data=elevation, path=thumbnail_path, max_resolution=320)"
   ]
  },
  {
   "cell_type": "code",
   "execution_count": 19,
   "id": "cc2798fd-5579-4481-be81-705cd01aefd2",
   "metadata": {
    "tags": []
   },
   "outputs": [],
   "source": [
    "import datacube\n",
    "\n",
    "dc = datacube.Datacube()\n",
    "query_params = dict(x=(140, 140.1), y=(-30, -30.1), time=(\"2015\", \"2016\"))\n",
    "dd_list = dc.find_datasets(product=\"ga_ls8c_nbart_gm_cyear_3\", **query_params)"
   ]
  },
  {
   "cell_type": "code",
   "execution_count": 20,
   "id": "4637c174-89b9-4d57-ba6e-3c41215d7009",
   "metadata": {
    "tags": []
   },
   "outputs": [],
   "source": [
    "from datetime import datetime\n",
    "\n",
    "with eodatasets3.DatasetPrepare(\n",
    "    metadata_path=metadata_path,\n",
    "    names=names,\n",
    ") as p:\n",
    "    # Note the measurement in the metadata\n",
    "    p.note_measurement(\"elevation\", data_path / \"x133y40_2019_2021_elevation.tif\")\n",
    "    p.note_measurement(\"extents\", data_path / \"x133y40_2019_2021_extents.tif\")\n",
    "    p.note_measurement(\n",
    "        \"uncertainty\", data_path / \"x133y40_2019_2021_elevation_uncertainty.tif\"\n",
    "    )\n",
    "\n",
    "    # Add lineage\n",
    "    p.note_source_datasets(\"s2_ard\", *set([dd.id for dd in dd_list]))\n",
    "    p.note_source_datasets(\"ls_ard\", *set([dd.id for dd in dd_list]))\n",
    "    p.note_source_datasets(\"ancillary\", *set([dd.id for dd in dd_list]))\n",
    "    \n",
    "    # Add thumbnail\n",
    "    p.note_accessory_file('thumbnail', thumbnail_path)\n",
    "    \n",
    "    # Validate and write our metadata document\n",
    "    p.done()\n",
    "\n",
    "assert metadata_path.exists()"
   ]
  },
  {
   "cell_type": "code",
   "execution_count": null,
   "id": "ccad270a-bcc4-4eff-a57a-c60d62506618",
   "metadata": {
    "tags": []
   },
   "outputs": [],
   "source": []
  },
  {
   "cell_type": "code",
   "execution_count": null,
   "id": "c91f3175-a421-45a7-88c9-9c244c369d22",
   "metadata": {
    "tags": []
   },
   "outputs": [],
   "source": []
  },
  {
   "cell_type": "code",
   "execution_count": null,
   "id": "cfc14b58-dc91-4b01-adc9-538d11514181",
   "metadata": {},
   "outputs": [],
   "source": [
    "p.note_source_datasets()"
   ]
  },
  {
   "cell_type": "code",
   "execution_count": null,
   "id": "bd2771e6-0dd5-4e86-8d18-ffb98d58f877",
   "metadata": {
    "tags": []
   },
   "outputs": [],
   "source": [
    "metadata_path"
   ]
  },
  {
   "cell_type": "code",
   "execution_count": null,
   "id": "d37cdb4f-24bf-416b-b55d-f15e568d79ed",
   "metadata": {
    "tags": []
   },
   "outputs": [],
   "source": [
    "dd = eodatasets3.serialise.from_path(path=Path(\"/home/jovyan/Robbi/dea-intertidal/notebooks/experimental/testing/tile1/ga_ls_wo_fq_cyear_3_x37y30_2022--P1Y_final.odc-metadata.yaml\"), skip_validation=False)"
   ]
  },
  {
   "cell_type": "code",
   "execution_count": null,
   "id": "792c2426-293b-47ab-aa5a-0dc85e2f07fe",
   "metadata": {
    "tags": []
   },
   "outputs": [],
   "source": [
    "dd.properties"
   ]
  },
  {
   "cell_type": "code",
   "execution_count": null,
   "id": "dd546907-4d8b-4e7b-8700-c42e2a017a16",
   "metadata": {
    "tags": []
   },
   "outputs": [],
   "source": [
    "import odc.geo\n",
    "odc.geo.geom.BoundingBox(left=100, bottom=-30, right=110, top=-20, crs=\"EPSG:4326\").polygon"
   ]
  },
  {
   "cell_type": "code",
   "execution_count": null,
   "id": "227f6861-b4b7-4ed9-8292-232bd68e93ba",
   "metadata": {
    "tags": []
   },
   "outputs": [],
   "source": [
    "set(dd.properties.keys())"
   ]
  },
  {
   "cell_type": "code",
   "execution_count": null,
   "id": "775be0b7-c8bc-48a4-b0a3-f182849ff2c7",
   "metadata": {
    "tags": []
   },
   "outputs": [],
   "source": [
    "set(d.properties.keys())"
   ]
  },
  {
   "cell_type": "code",
   "execution_count": null,
   "id": "73c759ca-47f0-4f8a-92a0-2cf7081cadfe",
   "metadata": {
    "tags": []
   },
   "outputs": [],
   "source": [
    "d.properties"
   ]
  },
  {
   "cell_type": "code",
   "execution_count": null,
   "id": "3bb2ba62-d0df-4dcd-a6fc-e29ab1f0ee31",
   "metadata": {
    "tags": []
   },
   "outputs": [],
   "source": [
    "import datacube\n",
    "\n",
    "dc = datacube.Datacube()\n",
    "\n",
    "\n",
    "dc.find_datasets(product=\"ga_ls_wo_fq_cyear_3\", limit=1)[0].metadata_doc"
   ]
  },
  {
   "cell_type": "code",
   "execution_count": null,
   "id": "c103ef5d-106c-46fc-bf59-0134012f5d4c",
   "metadata": {},
   "outputs": [],
   "source": []
  },
  {
   "cell_type": "code",
   "execution_count": null,
   "id": "62a6b525-5e6b-4864-9988-3d5331359b3b",
   "metadata": {},
   "outputs": [],
   "source": []
  },
  {
   "cell_type": "code",
   "execution_count": null,
   "id": "02f21e07-3646-41f2-b5d7-1c61b1f6d059",
   "metadata": {},
   "outputs": [],
   "source": []
  },
  {
   "cell_type": "code",
   "execution_count": null,
   "id": "08fa4f6a-3e9d-421f-b4bd-2893f6e97689",
   "metadata": {},
   "outputs": [],
   "source": []
  },
  {
   "cell_type": "code",
   "execution_count": null,
   "id": "0db2ccc9-4ef5-4f33-92c7-526c9ed7d438",
   "metadata": {},
   "outputs": [],
   "source": []
  },
  {
   "cell_type": "code",
   "execution_count": null,
   "id": "8ba2b123-4a2c-46c5-8ac5-a8d626fdab91",
   "metadata": {},
   "outputs": [],
   "source": []
  },
  {
   "cell_type": "code",
   "execution_count": null,
   "id": "5d4a0a72-a31f-4899-b26e-29b40895d9fa",
   "metadata": {},
   "outputs": [],
   "source": []
  },
  {
   "cell_type": "code",
   "execution_count": null,
   "id": "75e2fa18-30d3-42e6-9ccd-e02d81562d2b",
   "metadata": {},
   "outputs": [],
   "source": []
  }
 ],
 "metadata": {
  "kernelspec": {
   "display_name": "Python 3 (ipykernel)",
   "language": "python",
   "name": "python3"
  },
  "language_info": {
   "codemirror_mode": {
    "name": "ipython",
    "version": 3
   },
   "file_extension": ".py",
   "mimetype": "text/x-python",
   "name": "python",
   "nbconvert_exporter": "python",
   "pygments_lexer": "ipython3",
   "version": "3.10.13"
  },
  "widgets": {
   "application/vnd.jupyter.widget-state+json": {
    "state": {},
    "version_major": 2,
    "version_minor": 0
   }
  }
 },
 "nbformat": 4,
 "nbformat_minor": 5
}

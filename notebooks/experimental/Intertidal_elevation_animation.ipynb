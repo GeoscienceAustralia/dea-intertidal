{
 "cells": [
  {
   "cell_type": "markdown",
   "id": "306a1f55-3f9d-4996-be95-e11e5a74a86b",
   "metadata": {},
   "source": [
    "## Getting started\n",
    "Set working directory to top level of repo to ensure links work correctly:"
   ]
  },
  {
   "cell_type": "code",
   "execution_count": 1,
   "id": "6c9907dc-c0d2-4b2e-8cbb-bb3a2bc15f08",
   "metadata": {},
   "outputs": [
    {
     "name": "stdout",
     "output_type": "stream",
     "text": [
      "/home/jovyan/Robbi/dea-intertidal\n"
     ]
    }
   ],
   "source": [
    "cd .."
   ]
  },
  {
   "cell_type": "markdown",
   "id": "c586a481-013f-4884-8e53-f3ddb9c438d7",
   "metadata": {},
   "source": [
    "Install additional packages directly from the requirements file"
   ]
  },
  {
   "cell_type": "code",
   "execution_count": null,
   "id": "d67433e6-0408-40d1-be61-db49c52f88dc",
   "metadata": {},
   "outputs": [],
   "source": [
    "# pip install -r requirements.in --quiet"
   ]
  },
  {
   "cell_type": "markdown",
   "id": "4244cc06-b5e7-4120-8514-adf35082cb2c",
   "metadata": {},
   "source": [
    "### Load packages"
   ]
  },
  {
   "cell_type": "code",
   "execution_count": 8,
   "id": "2520e8de-ac2c-4571-99a0-f7fb7b932f56",
   "metadata": {},
   "outputs": [
    {
     "name": "stdout",
     "output_type": "stream",
     "text": [
      "The autoreload extension is already loaded. To reload it, use:\n",
      "  %reload_ext autoreload\n"
     ]
    }
   ],
   "source": [
    "%load_ext autoreload\n",
    "%autoreload 2\n",
    "\n",
    "from IPython.display import Image\n",
    "\n",
    "# import datacube\n",
    "import glob\n",
    "import xarray as xr\n",
    "import pandas as pd\n",
    "import numpy as np\n",
    "\n",
    "# import datacube\n",
    "# from datacube.utils.geometry import assign_crs\n",
    "# import odc.geo.xr\n",
    "from dea_tools.plotting import xr_animation\n",
    "# from intertidal.utils import load_config, intertidal_hillshade\n",
    "\n",
    "# Connect to datacube\n",
    "# dc = datacube.Datacube(app=\"Intertidal_elevation\")"
   ]
  },
  {
   "cell_type": "code",
   "execution_count": 10,
   "id": "5b31fb8c-f2ed-4959-a769-bed7617ae5fe",
   "metadata": {},
   "outputs": [
    {
     "name": "stderr",
     "output_type": "stream",
     "text": [
      "/tmp/ipykernel_488/2269062481.py:1: DeprecationWarning: open_rasterio is Deprecated in favor of rioxarray. For information about transitioning, see: https://corteva.github.io/rioxarray/stable/getting_started/getting_started.html\n",
      "  xr.open_rasterio('data/interim/burdekin_2016_2018_elevation.tif').geobox\n",
      "/env/lib/python3.8/site-packages/pyproj/crs/crs.py:141: FutureWarning: '+init=<authority>:<code>' syntax is deprecated. '<authority>:<code>' is the preferred initialization method. When making the change, be mindful of axis order changes: https://pyproj4.github.io/pyproj/stable/gotchas.html#axis-order-changes-in-proj-6\n",
      "  in_crs_string = _prepare_from_proj_string(in_crs_string)\n"
     ]
    },
    {
     "data": {
      "text/plain": [
       "GeoBox(1231, 1370, Affine(10.0, 0.0, 1616560.0,\n",
       "       0.0, -10.0, -2199900.0), +init=epsg:3577 +type=crs)"
      ]
     },
     "execution_count": 10,
     "metadata": {},
     "output_type": "execute_result"
    }
   ],
   "source": [
    "xr.open_rasterio('data/interim/burdekin_2016_2018_elevation.tif').geobox"
   ]
  },
  {
   "cell_type": "code",
   "execution_count": 3,
   "id": "69e13769-4a4e-41bd-b24d-4f24f12e2452",
   "metadata": {},
   "outputs": [
    {
     "name": "stderr",
     "output_type": "stream",
     "text": [
      "/tmp/ipykernel_488/2187324549.py:5: DeprecationWarning: open_rasterio is Deprecated in favor of rioxarray. For information about transitioning, see: https://corteva.github.io/rioxarray/stable/getting_started/getting_started.html\n",
      "  vmin, vmax = xr.open_rasterio(elevations[0]).quantile([0.02, 0.95]).values\n"
     ]
    },
    {
     "ename": "NameError",
     "evalue": "name 'intertidal_hillshade' is not defined",
     "output_type": "error",
     "traceback": [
      "\u001b[0;31m---------------------------------------------------------------------------\u001b[0m",
      "\u001b[0;31mNameError\u001b[0m                                 Traceback (most recent call last)",
      "Cell \u001b[0;32mIn[3], line 10\u001b[0m\n\u001b[1;32m      7\u001b[0m out_list \u001b[38;5;241m=\u001b[39m []\n\u001b[1;32m      8\u001b[0m \u001b[38;5;28;01mfor\u001b[39;00m elevation, extent \u001b[38;5;129;01min\u001b[39;00m \u001b[38;5;28mzip\u001b[39m(elevations, extents):\n\u001b[1;32m      9\u001b[0m     out_list\u001b[38;5;241m.\u001b[39mappend(\n\u001b[0;32m---> 10\u001b[0m         \u001b[43mintertidal_hillshade\u001b[49m(\n\u001b[1;32m     11\u001b[0m             elevation,\n\u001b[1;32m     12\u001b[0m             extent,\n\u001b[1;32m     13\u001b[0m             altdeg\u001b[38;5;241m=\u001b[39m\u001b[38;5;241m50\u001b[39m,\n\u001b[1;32m     14\u001b[0m             vert_exag\u001b[38;5;241m=\u001b[39m\u001b[38;5;241m300\u001b[39m,\n\u001b[1;32m     15\u001b[0m             vmin\u001b[38;5;241m=\u001b[39mvmin,\n\u001b[1;32m     16\u001b[0m             vmax\u001b[38;5;241m=\u001b[39mvmax,\n\u001b[1;32m     17\u001b[0m             fraction\u001b[38;5;241m=\u001b[39m\u001b[38;5;241m1.0\u001b[39m,\n\u001b[1;32m     18\u001b[0m         )\n\u001b[1;32m     19\u001b[0m     )\n\u001b[1;32m     21\u001b[0m intertidal_da \u001b[38;5;241m=\u001b[39m xr\u001b[38;5;241m.\u001b[39mconcat(\n\u001b[1;32m     22\u001b[0m     out_list, dim\u001b[38;5;241m=\u001b[39mpd\u001b[38;5;241m.\u001b[39mDatetimeIndex([\u001b[38;5;28mstr\u001b[39m(\u001b[38;5;28mint\u001b[39m(i\u001b[38;5;241m.\u001b[39msplit(\u001b[38;5;124m\"\u001b[39m\u001b[38;5;124m_\u001b[39m\u001b[38;5;124m\"\u001b[39m)[\u001b[38;5;241m-\u001b[39m\u001b[38;5;241m2\u001b[39m]) \u001b[38;5;241m+\u001b[39m \u001b[38;5;241m1\u001b[39m) \u001b[38;5;28;01mfor\u001b[39;00m i \u001b[38;5;129;01min\u001b[39;00m elevations])\n\u001b[1;32m     23\u001b[0m )\u001b[38;5;241m.\u001b[39mrename({\u001b[38;5;124m\"\u001b[39m\u001b[38;5;124mconcat_dim\u001b[39m\u001b[38;5;124m\"\u001b[39m: \u001b[38;5;124m\"\u001b[39m\u001b[38;5;124mtime\u001b[39m\u001b[38;5;124m\"\u001b[39m})\n\u001b[1;32m     24\u001b[0m intertidal_da \u001b[38;5;241m=\u001b[39m intertidal_da\u001b[38;5;241m.\u001b[39modc\u001b[38;5;241m.\u001b[39massign_crs(\u001b[38;5;124m\"\u001b[39m\u001b[38;5;124mEPSG:3577\u001b[39m\u001b[38;5;124m\"\u001b[39m)\n",
      "\u001b[0;31mNameError\u001b[0m: name 'intertidal_hillshade' is not defined"
     ]
    }
   ],
   "source": [
    "name = \"burdekin\"\n",
    "elevations = sorted(glob.glob(f\"data/interim/{name}*elevation.tif\"))\n",
    "extents = sorted(glob.glob(f\"data/interim/{name}*extents.tif\"))\n",
    "\n",
    "vmin, vmax = xr.open_rasterio(elevations[0]).quantile([0.02, 0.95]).values\n",
    "\n",
    "out_list = []\n",
    "for elevation, extent in zip(elevations, extents):\n",
    "    out_list.append(\n",
    "        intertidal_hillshade(\n",
    "            elevation,\n",
    "            extent,\n",
    "            altdeg=50,\n",
    "            vert_exag=300,\n",
    "            vmin=vmin,\n",
    "            vmax=vmax,\n",
    "            fraction=1.0,\n",
    "        )\n",
    "    )\n",
    "\n",
    "intertidal_da = xr.concat(\n",
    "    out_list, dim=pd.DatetimeIndex([str(int(i.split(\"_\")[-2]) + 1) for i in elevations])\n",
    ").rename({\"concat_dim\": \"time\"})\n",
    "intertidal_da = intertidal_da.odc.assign_crs(\"EPSG:3577\")"
   ]
  },
  {
   "cell_type": "code",
   "execution_count": null,
   "id": "cefa38fa-c28d-4612-984a-322e9ee177af",
   "metadata": {},
   "outputs": [],
   "source": [
    "intertidal_da.geobox"
   ]
  },
  {
   "cell_type": "code",
   "execution_count": null,
   "id": "f77b9fda-9b63-4de2-87fe-f238572d3508",
   "metadata": {},
   "outputs": [],
   "source": [
    "hltc = dc.load(product='low_tide_comp_20p', \n",
    "        like=intertidal_da.odc.geobox.compat, \n",
    "        resampling='bilinear',\n",
    "        measurements=['red', 'green', 'blue', 'nir']) * 2\n",
    "hltc['nir'][:] = 1\n",
    "hltc = hltc.rename({'nir': 'alpha'})\n",
    "\n",
    "intertidal_ds = xr.where(intertidal_da.isnull(), hltc.squeeze('time').to_array('variables'), intertidal_da).to_dataset('variables')\n",
    "intertidal_ds = intertidal_ds.odc.assign_crs(\"EPSG:3577\")\n",
    "intertidal_ds"
   ]
  },
  {
   "cell_type": "code",
   "execution_count": null,
   "id": "56c03c4d-b6c7-4ac6-bb17-325d04af3e82",
   "metadata": {},
   "outputs": [],
   "source": [
    "intertidal_ds.geobox"
   ]
  },
  {
   "cell_type": "code",
   "execution_count": null,
   "id": "dd056bb2-5920-499e-9ed6-8e6f56b15dba",
   "metadata": {},
   "outputs": [],
   "source": [
    "testing = intertidal_ds.interp({'time': pd.date_range(intertidal_ds.time.min().values, \n",
    "                                                      intertidal_ds.time.max().values, freq='1M')})"
   ]
  },
  {
   "cell_type": "code",
   "execution_count": null,
   "id": "dda9b5f2-9006-420e-bd32-e38d04b1f3bc",
   "metadata": {},
   "outputs": [],
   "source": [
    "xr_animation(\n",
    "    ds=testing.isel(x=slice(500, 1100), y=slice(0, 600)),\n",
    "    bands=[\"red\", \"green\", \"blue\"],\n",
    "    imshow_kwargs={\"vmin\": 0.0, \"vmax\": 1.0, \"interpolation\": \"bilinear\"},\n",
    "    output_path=\"animation.gif\",\n",
    "    interval=20,\n",
    "    show_date='%Y'\n",
    ")\n",
    "Image(\"animation.gif\")"
   ]
  },
  {
   "cell_type": "code",
   "execution_count": null,
   "id": "a8a8bf32-584f-40d9-9484-8c3f2886ff8a",
   "metadata": {},
   "outputs": [],
   "source": []
  }
 ],
 "metadata": {
  "kernelspec": {
   "display_name": "Python 3 (ipykernel)",
   "language": "python",
   "name": "python3"
  },
  "language_info": {
   "codemirror_mode": {
    "name": "ipython",
    "version": 3
   },
   "file_extension": ".py",
   "mimetype": "text/x-python",
   "name": "python",
   "nbconvert_exporter": "python",
   "pygments_lexer": "ipython3",
   "version": "3.8.10"
  },
  "widgets": {
   "application/vnd.jupyter.widget-state+json": {
    "state": {},
    "version_major": 2,
    "version_minor": 0
   }
  }
 },
 "nbformat": 4,
 "nbformat_minor": 5
}

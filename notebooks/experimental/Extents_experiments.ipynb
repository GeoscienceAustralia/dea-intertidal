{
 "cells": [
  {
   "cell_type": "code",
   "execution_count": 1,
   "id": "c05df048-62a5-4382-9c07-72fa3f643ad8",
   "metadata": {
    "tags": []
   },
   "outputs": [
    {
     "name": "stdout",
     "output_type": "stream",
     "text": [
      "/home/jovyan/Robbi/dea-intertidal\n"
     ]
    }
   ],
   "source": [
    "cd ../.."
   ]
  },
  {
   "cell_type": "code",
   "execution_count": 2,
   "id": "ec98a0f8-8a33-4d19-a5cc-8c4a802196fc",
   "metadata": {
    "tags": []
   },
   "outputs": [
    {
     "name": "stdout",
     "output_type": "stream",
     "text": [
      "Note: you may need to restart the kernel to use updated packages.\n"
     ]
    }
   ],
   "source": [
    "pip install -r requirements.in --quiet"
   ]
  },
  {
   "cell_type": "code",
   "execution_count": null,
   "id": "b30134cb-7423-4724-a035-4111c4552f24",
   "metadata": {
    "tags": []
   },
   "outputs": [],
   "source": [
    "# pip install xarray-spatial"
   ]
  },
  {
   "cell_type": "code",
   "execution_count": null,
   "id": "b26326f9-6fbc-48b0-960f-7d7e09f730d5",
   "metadata": {
    "tags": []
   },
   "outputs": [],
   "source": [
    "# import geopandas as gpd\n",
    "# gpd.read_file(\"https://dea-public-data.s3-ap-southeast-2.amazonaws.com/derivative/ga_s2ls_intertidal_cyear_3/ga_summary_grid_c3_32km_coastal.geojson\")"
   ]
  },
  {
   "cell_type": "markdown",
   "id": "f06d2faa-ad67-4ee5-8f45-b044a905b477",
   "metadata": {
    "tags": []
   },
   "source": [
    "## Cost distance"
   ]
  },
  {
   "cell_type": "code",
   "execution_count": 3,
   "id": "fc57538e-0944-43e7-a17d-7fd839945e41",
   "metadata": {
    "tags": []
   },
   "outputs": [],
   "source": [
    "import numpy as np\n",
    "import xarray as xr\n",
    "from skimage import graph\n",
    "\n",
    "import datacube\n",
    "import odc.geo.xr\n",
    "from odc.geo.geobox import GeoBox\n",
    "from odc.geo.gridspec import GridSpec\n",
    "from odc.geo.types import xy_\n",
    "from odc.algo import mask_cleanup\n",
    "\n",
    "dc = datacube.Datacube()\n",
    "\n",
    "\n",
    "def _cost_distance(\n",
    "    cost_surface, start_array, sampling=None, geometric=True, **mcp_kwargs\n",
    "):\n",
    "    \"\"\"\n",
    "    Calculate accumulated least-cost distance through a cost surface\n",
    "    array from a set of starting cells to every other cell in an array,\n",
    "    using methods from `skimage.graph.MCP` or `skimage.graph.MCP_Geometric`.\n",
    "\n",
    "    Parameters\n",
    "    ----------\n",
    "    cost_surface : ndarray\n",
    "        A 2D array representing the cost surface.\n",
    "    start_array : ndarray\n",
    "        A 2D array with the same shape as `cost_surface` where non-zero\n",
    "        values indicate start points.\n",
    "    sampling : tuple, optional\n",
    "        For each dimension, specifies the distance between two cells.\n",
    "        If not given or None, unit distance is assumed.\n",
    "    geometric : bool, optional\n",
    "        If True, `skimage.graph.MCP_Geometric` will be used to calculate\n",
    "        costs, accounting for the fact that diagonal vs. axial moves\n",
    "        are of different lengths and weighting path costs accordingly.\n",
    "        If False, costs will be calculated simply as the sum of the\n",
    "        values of the costs array along the minimum cost path.\n",
    "    **mcp_kwargs :\n",
    "        Any additiona keyword arguments to pass to `skimage.graph.MCP`\n",
    "        or `skimage.graph.MCP_Geometric`.\n",
    "\n",
    "    Returns\n",
    "    -------\n",
    "    lcd : ndarray\n",
    "        A 2D array of the least-cost distances from the start cell to all other cells.\n",
    "    \"\"\"\n",
    "\n",
    "    # Initialise relevant least cost graph\n",
    "    if geometric:\n",
    "        lc_graph = graph.MCP_Geometric(\n",
    "            costs=cost_surface,\n",
    "            sampling=sampling,\n",
    "            **mcp_kwargs,\n",
    "        )\n",
    "    else:\n",
    "        lc_graph = graph.MCP(\n",
    "            costs=cost_surface,\n",
    "            sampling=sampling,\n",
    "            **mcp_kwargs,\n",
    "        )\n",
    "\n",
    "    # Extract starting points from the array (pixels with non-zero values)\n",
    "    starts = list(zip(*np.nonzero(start_array)))\n",
    "\n",
    "    # Calculate the least-cost distance from the start cell to all other cells\n",
    "    lcd = lc_graph.find_costs(starts=starts)[0]\n",
    "\n",
    "    return lcd\n",
    "\n",
    "\n",
    "def xr_cost_distance(cost_da, starts_da, use_cellsize=False, geometric=True):\n",
    "    \"\"\"\n",
    "    Calculate accumulated least-cost distance through a cost surface\n",
    "    array from a set of starting cells to every other cell in an\n",
    "    xarray.DataArray, returning results as an xarray.DataArray.\n",
    "\n",
    "    Parameters\n",
    "    ----------\n",
    "    cost_da : xarray.DataArray\n",
    "        An xarray.DataArray representing the cost surface, where pixel\n",
    "        values represent the cost of moving through each pixel.\n",
    "    starts_da : xarray.DataArray\n",
    "        An xarray.DataArray with the same shape as `cost_da` where non-\n",
    "        zero values indicate start points for the distance calculation.\n",
    "    use_cellsize : bool, optional\n",
    "        Whether to incorporate cell size when calculating the distance\n",
    "        between two cells, based on the spatial resolution of the array.\n",
    "        Default is False, which will assume distances between cells will\n",
    "        be based on cost values only.\n",
    "    geometric : bool, optional\n",
    "        If True, `skimage.graph.MCP_Geometric` will be used to calculate\n",
    "        costs, accounting for the fact that diagonal vs. axial moves\n",
    "        are of different lengths and weighting path costs accordingly.\n",
    "        If False, costs will be calculated simply as the sum of the\n",
    "        values of the costs array along the minimum cost path.\n",
    "\n",
    "    Returns\n",
    "    -------\n",
    "    costdist_da : xarray.DataArray\n",
    "        An xarray.DataArray providing least-cost distances between every\n",
    "        cell and the nearest start cell.\n",
    "    \"\"\"\n",
    "\n",
    "    # Use resolution from input arrays if requested\n",
    "    if use_cellsize:\n",
    "        x, y = cost_da.odc.geobox.resolution.xy\n",
    "        cellsize = (abs(y), abs(x))\n",
    "    else:\n",
    "        cellsize = None\n",
    "\n",
    "    # Compute least cost array\n",
    "    costdist_array = _cost_distance(\n",
    "        cost_da, starts_da.values, sampling=cellsize, geometric=geometric\n",
    "    )\n",
    "\n",
    "    # Wrap as xarray\n",
    "    costdist_da = xr.DataArray(costdist_array, coords=cost_da.coords)\n",
    "\n",
    "    return costdist_da\n",
    "\n",
    "\n",
    "def load_connectivity_mask(\n",
    "    dc,\n",
    "    geobox,\n",
    "    product=\"ga_srtm_dem1sv1_0\",\n",
    "    elevation_band=\"dem_h\",\n",
    "    resampling=\"bilinear\",\n",
    "    buffer=20000,\n",
    "    max_threshold=100,\n",
    "    mask_filters=[(\"dilation\", 3)],\n",
    "    **cost_distance_kwargs,\n",
    "):\n",
    "    \"\"\"\n",
    "    Generates a mask based on connectivity to ocean pixels, using least-\n",
    "    cost distance weighted by elevation. By incorporating elevation,\n",
    "    this mask will extend inland further in areas of low lying elevation\n",
    "    and less far inland in areas of steep terrain.\n",
    "\n",
    "    Parameters\n",
    "    ----------\n",
    "    dc : Datacube\n",
    "        A Datacube instance for loading data.\n",
    "    geobox : ndarray\n",
    "        The GeoBox defining the pixel grid to load data into (e.g.\n",
    "        resolution, extents, CRS).\n",
    "    product : str, optional\n",
    "        The name of the DEM product to load from the datacube.\n",
    "        Defaults to \"ga_srtm_dem1sv1_0\".\n",
    "    elevation_band : str, optional\n",
    "        The name of the band containing elevation data. Defaults to\n",
    "        \"height_depth\".\n",
    "    resampling : str, optional\n",
    "        The resampling method to use, by default \"bilinear\".\n",
    "    buffer : int, optional\n",
    "        The distance by which to buffer the input GeoBox to reduce edge\n",
    "        effects. This buffer will eventually be removed and clipped back\n",
    "        to the original GeoBox extent. Defaults to 20,000 metres.\n",
    "    max_threshold: int, optional\n",
    "        Value used to threshold the resulting cost distance to produce\n",
    "        a mask.\n",
    "    mask_filters : list of tuples, optional\n",
    "        An optional list of morphological processing steps to pass to\n",
    "        the `mask_cleanup` function. The default is `[(\"dilation\", 3)]`,\n",
    "        which will dilate True pixels by a radius of 3 pixels.\n",
    "    **cost_distance_kwargs :\n",
    "        Optional keyword arguments to pass to the ``xr_cost_distance``\n",
    "        cost-distance function.\n",
    "\n",
    "    Returns\n",
    "    -------\n",
    "    costdist_mask : xarray.DataArray\n",
    "        An output boolean mask, where True represent pixels located in\n",
    "        close cost-distance proximity to the ocean.\n",
    "    costdist_da : xarray.DataArray\n",
    "        The output cost-distance array, reflecting distance from the\n",
    "        ocean weighted by elevation.\n",
    "    \"\"\"\n",
    "\n",
    "    # Buffer input geobox and reduce resolution to ensure that the\n",
    "    # connectivity analysis is less affected by edge effects\n",
    "    geobox_buffered = GeoBox.from_bbox(\n",
    "        geobox.buffered(xbuff=buffer, ybuff=buffer).boundingbox,\n",
    "        resolution=30,\n",
    "        tight=True,\n",
    "    )\n",
    "\n",
    "    # Load DEM data\n",
    "    dem_da = dc.load(\n",
    "        product=\"ga_srtm_dem1sv1_0\",\n",
    "        measurements=[elevation_band],\n",
    "        resampling=\"bilinear\",\n",
    "        like=geobox_buffered,\n",
    "    ).squeeze()[elevation_band]\n",
    "\n",
    "    # Identify starting points (ocean nodata points)\n",
    "    starts_da = dem_da == dem_da.nodata\n",
    "\n",
    "    # Calculate cost surface (negative values are not allowed, so\n",
    "    # negative nodata values are resolved by clipping values to between\n",
    "    # 0 and infinity)\n",
    "    costs_da = dem_da.clip(0, np.inf)\n",
    "\n",
    "    # Run cost distance surface\n",
    "    costdist_da = xr_cost_distance(\n",
    "        cost_da=costs_da,\n",
    "        starts_da=starts_da,\n",
    "        **cost_distance_kwargs,\n",
    "    )\n",
    "\n",
    "    # Reproject back to original geobox extents and resolution\n",
    "    costdist_da = costdist_da.odc.reproject(how=geobox)\n",
    "\n",
    "    # Apply threshold\n",
    "    costdist_mask = costdist_da < max_threshold\n",
    "\n",
    "    # If requested, apply cleanup\n",
    "    if mask_filters is not None:\n",
    "        costdist_mask = mask_cleanup(costdist_mask, mask_filters=mask_filters)\n",
    "\n",
    "    return costdist_mask, costdist_da"
   ]
  },
  {
   "cell_type": "markdown",
   "id": "3b590dcb-2f80-468d-af0b-e3daab44e5b9",
   "metadata": {},
   "source": [
    "## Extents experiments"
   ]
  },
  {
   "cell_type": "code",
   "execution_count": 96,
   "id": "c1f22ab6-3812-4ca1-b8ec-da2ac6619ad5",
   "metadata": {
    "tags": []
   },
   "outputs": [],
   "source": [
    "import odc.geo.xr\n",
    "from odc.geo.xr import xr_zeros\n",
    "import datacube\n",
    "\n",
    "from intertidal.io import load_ocean_mask, load_aclum_mask, load_topobathy_mask, extract_geobox\n",
    "from intertidal.elevation import ocean_connection\n",
    "\n",
    "dc = datacube.Datacube()\n",
    "\n",
    "# # Port Headland\n",
    "# t, l = -20.290330, 118.539614\n",
    "# b, r = -20.361810, 118.649425\n",
    "\n",
    "# # Brisbane\n",
    "# t, l = -27.327456, 153.048808\n",
    "# b, r = -27.498525, 153.223553\n",
    "\n",
    "# # Darwin\n",
    "# t, l = -12.319448, 130.788848\n",
    "# b, r = -12.570606, 131.040905\n",
    "\n",
    "# # Sandbanks\n",
    "# t, l = -12.420474, 130.257363\n",
    "# b, r = -12.727552, 130.552566\n",
    "\n",
    "# # Roebuck\n",
    "# t, l = -17.903231, 122.128631\n",
    "# b, r = -18.269155, 122.442974\n",
    "\n",
    "# Mangroves\n",
    "t, l = -14.789750913940455, 128.28100450913448\n",
    "b, r = -15.117758745491248, 128.62668326122676\n",
    "\n",
    "# # Mangroves QLD\n",
    "# t, l = -19.758851667078883, 147.65388229853954\n",
    "# b, r = -19.88273733756646, 147.85964346049923\n",
    "\n",
    "# # NSW\n",
    "# t, l = -37.229126, 149.917234\n",
    "# b, r = -37.304341, 150.063105\n",
    "\n",
    "# # Bucaneer\n",
    "# t, l = -14.88435, 125.20966\n",
    "# b, r = -14.96435, 125.29966\n",
    "\n",
    "# # Groote\n",
    "# t, l = -13.8905,136.3212\n",
    "# b, r = -14.0905,136.5296\n",
    "\n",
    "# # NSW\n",
    "# t, l = -29.33876, 153.10319\n",
    "# b, r = -29.52876, 153.39319\n",
    "\n",
    "# # Vic\n",
    "# t, l = -38.300407, 142.267423\n",
    "# b, r = -38.377945, 142.488557\n",
    "\n",
    "\n",
    "# study_area = \"x153y095\"  # Victorian lake misclassification\n",
    "study_area = \"x186y148\"  # Townsville (mangroves)\n",
    "study_area = \"x125y166\"  # mangroves nt\n",
    "study_area = \"x105y154\"  # roebuck\n",
    "study_area = \"x177y081\"  # corner inlet\n",
    "study_area = \"x153y096\"  # sa lakes\n",
    "study_area = \"x156y097\"  # sa adelaide\n",
    "study_area = \"x202y117\"  # brisbane\n",
    "study_area = \"x153y163\"  # gulf carpentaria\n",
    "\n",
    "geobox = extract_geobox(study_area=study_area)\n",
    "\n",
    "\n",
    "query_params = dict(\n",
    "    # x=(l, r),\n",
    "    # y=(t, b),\n",
    "    like=geobox,\n",
    "    time=(\"2018\", \"2018\"),\n",
    ")\n",
    "\n",
    "load_params = dict(\n",
    "    # measurements=[\"elevation\",],\n",
    "    # dask_chunks={},\n",
    ")\n",
    "\n",
    "ds = dc.load(\n",
    "    product=\"ga_s2ls_intertidal_cyear_3\",\n",
    "    **query_params,\n",
    "    **load_params,\n",
    ").squeeze()\n"
   ]
  },
  {
   "cell_type": "code",
   "execution_count": 97,
   "id": "664ae005-bb95-4842-b559-b6cd6b163631",
   "metadata": {
    "tags": []
   },
   "outputs": [],
   "source": [
    "# Load other inputs\n",
    "ocean_mask = load_ocean_mask(dc, ds.odc.geobox.compat)\n",
    "urban_mask = load_aclum_mask(dc, ds.odc.geobox.compat)\n",
    "bathy_mask = load_topobathy_mask(dc, ds.odc.geobox.compat)\n",
    "costdist_mask, _ = load_connectivity_mask(dc, ds.odc.geobox, buffer=0)\n",
    "\n",
    "# Extract classes\n",
    "is_nan = (ds.qa_ndwi_freq == ds.qa_ndwi_freq.nodata) & bathy_mask\n",
    "mostly_dry = (ds.qa_ndwi_freq < 50) & ~is_nan\n",
    "mostly_wet = (ds.qa_ndwi_freq >= 50) & ~is_nan\n",
    "intertidal_lc = (ds.qa_ndwi_corr >= 0.15) & costdist_mask\n",
    "intertidal_hc = ds.elevation.notnull()\n",
    "\n",
    "# Create ocean connected mask\n",
    "mostly_wet_inland = mostly_wet & ~costdist_mask\n",
    "\n",
    "# Inland urban misclassifications\n",
    "urban_misclass = mostly_wet_inland & urban_mask\n"
   ]
  },
  {
   "cell_type": "code",
   "execution_count": 99,
   "id": "b447a4c3-97f1-45a9-9c82-54abec5aa0f2",
   "metadata": {
    "tags": []
   },
   "outputs": [
    {
     "data": {
      "text/plain": [
       "PosixPath('/gdata1/projects/coastal/intertidal/experimental_extents/experimental_extents_x153y163.tif')"
      ]
     },
     "execution_count": 99,
     "metadata": {},
     "output_type": "execute_result"
    }
   ],
   "source": [
    "# Combine all classifications\n",
    "extents = xr_zeros(geobox=ds.odc.geobox, dtype=\"int16\")\n",
    "extents.values[mostly_wet] = 1\n",
    "extents.values[mostly_wet_inland] = 4\n",
    "extents.values[urban_misclass] = 5\n",
    "extents.values[mostly_dry] = 5\n",
    "extents.values[intertidal_lc] = 2\n",
    "\n",
    "# Sieve small classes\n",
    "from rasterio.features import sieve\n",
    "extents.values[:] = sieve(extents.values, size=5)\n",
    "\n",
    "# Add high confidence intertidal on top\n",
    "extents.values[intertidal_hc] = 3\n",
    "\n",
    "# Export to file\n",
    "extents.attrs[\"nodata\"] = 0\n",
    "extents.odc.write_cog(f\"/gdata1/projects/coastal/intertidal/experimental_extents/experimental_extents_{study_area}.tif\", overwrite=True)\n"
   ]
  },
  {
   "cell_type": "markdown",
   "id": "b86df045-890b-4dc2-ac92-24421da3f426",
   "metadata": {},
   "source": [
    "### Classes\n",
    "\n",
    "0. Nodata\n",
    "1. Ocean and coastal waters\n",
    "2. Intertidal (low confidence)\n",
    "3. Intertidal (high confidence)\n",
    "4. Inland waters\n",
    "5. Land"
   ]
  },
  {
   "cell_type": "code",
   "execution_count": 100,
   "id": "569ab0cf-4e73-4678-acbe-4355248f66db",
   "metadata": {
    "tags": []
   },
   "outputs": [
    {
     "data": {
      "image/png": "[encoded data removed]",
      "text/plain": [
       "<Figure size 850x600 with 2 Axes>"
      ]
     },
     "metadata": {},
     "output_type": "display_data"
    }
   ],
   "source": [
    "import xarray as xr\n",
    "import matplotlib.pyplot as plt\n",
    "import matplotlib.colors as mcolors\n",
    "\n",
    "# Define colors and labels\n",
    "colors = ['#000000', '#396dbf', '#f5e167', '#f5be3d', '#769bd6', '#FFFFFF']\n",
    "labels = [\"Nodata\", \"Ocean and coastal waters\", \"Intertidal (low confidence)\", \"Intertidal (high confidence)\", \"Inland waters\", \"Land\"]\n",
    "\n",
    "# Create a custom colormap and normalize\n",
    "cmap = mcolors.ListedColormap(colors)\n",
    "norm = mcolors.BoundaryNorm(boundaries=range(7), ncolors=6)\n",
    "\n",
    "# Plot\n",
    "fig, ax = plt.subplots(figsize=(8.5, 6))\n",
    "im = extents.plot.imshow(ax=ax, cmap=cmap, norm=norm, add_colorbar=False)\n",
    "\n",
    "# Add colorbar\n",
    "cbar = plt.colorbar(im, ax=ax, ticks=range(6))\n",
    "cbar.set_ticks([i + 0.5 for i in range(6)])\n",
    "cbar.set_ticklabels(labels)\n",
    "\n",
    "plt.title('Intertidal extents')\n",
    "plt.tight_layout()\n",
    "plt.show()\n",
    "plt.figure\n",
    "\n",
    "fig.savefig(f\"/gdata1/projects/coastal/intertidal/experimental_extents/experimental_extents_{study_area}.png\", bbox_inches=\"tight\", dpi=200)"
   ]
  },
  {
   "cell_type": "markdown",
   "id": "64564c38-aa97-4b77-b61e-daa28d976d9c",
   "metadata": {},
   "source": [
    "## Cost distance experiments"
   ]
  },
  {
   "cell_type": "code",
   "execution_count": null,
   "id": "1057123c-e3b3-4e81-a2be-24009420d6de",
   "metadata": {
    "tags": []
   },
   "outputs": [],
   "source": [
    "study_areas = [\n",
    "    # \"x079y130\", 'x080y127', 'x081y136', 'x084y139', 'x088y143',\n",
    "    # 'x090y101', 'x096y094', 'x109y157', 'x110y158', 'x112y160',\n",
    "    # 'x113y160', 'x114y164', \n",
    "    \n",
    "    'x082y125', 'x090y104', 'x092y144', 'x094y145', 'x105y154',\n",
    "    'x107y159', 'x107y174', 'x109y099', 'x110y160', 'x111y162',\n",
    "    'x120y105', 'x125y166', 'x134y175', 'x134y178', 'x137y175',\n",
    "    'x140y177', 'x144y104', 'x149y167', 'x153y095', 'x153y163',\n",
    "    'x154y169', 'x154y178', 'x155y102', 'x156y096', 'x164y084',\n",
    "    'x166y083', 'x167y156', 'x171y173', 'x173y084', 'x173y179',\n",
    "    'x174y066', 'x174y082', 'x177y081', 'x178y066', 'x179y166',\n",
    "    'x182y164', 'x186y148', 'x187y085', 'x189y090', 'x191y094',\n",
    "    'x191y145', 'x193y096', 'x193y139', 'x194y136', 'x196y100',\n",
    "    'x198y131', 'x201y110', 'x202y117', 'x202y124',    \n",
    "    \n",
    "    'x116y169', 'x118y169', 'x120y169',\n",
    "    'x128y166', 'x129y166', 'x129y167', 'x130y166', 'x130y167',\n",
    "    'x132y174', 'x147y098', 'x157y093', 'x159y092', 'x160y087',\n",
    "    'x160y090', 'x161y086', 'x170y082', 'x172y075', 'x173y069',\n",
    "    'x173y074', 'x176y073', 'x176y173', 'x180y082', 'x181y083',\n",
    "    'x184y152', 'x188y147', 'x189y146', 'x190y092', 'x194y098',\n",
    "    'x198y103', 'x199y130'\n",
    "]\n",
    "\n",
    "for study_area in study_areas:\n",
    "\n",
    "    print(f\"Processing {study_area}\")\n",
    "    geobox = extract_geobox(study_area=study_area)\n",
    "    costdist_mask = load_connectivity_mask(dc, geobox)\n",
    "    costdist_mask.astype(\"int16\").odc.write_cog(\n",
    "        f\"data/connectivity_mask/connectivity_mask_{study_area}.tif\", overwrite=True\n",
    "    )"
   ]
  },
  {
   "cell_type": "code",
   "execution_count": null,
   "id": "6abcee33-bd50-4578-a5c1-cf114bc95913",
   "metadata": {
    "tags": []
   },
   "outputs": [],
   "source": [
    "input_path = \"data/connectivity_mask/*.tif\"\n",
    "output_path = \"connectivity_mask.tif\" \n",
    "\n",
    "!gdalwarp $input_path $output_path -b 1 -overwrite -multi -wm 80% -co NUM_THREADS=ALL_CPUS -of COG -co COMPRESS=DEFLATE -co PREDICTOR=YES"
   ]
  },
  {
   "cell_type": "code",
   "execution_count": null,
   "id": "fe3a54de-3909-48e8-b7cd-50eda4671342",
   "metadata": {
    "tags": []
   },
   "outputs": [],
   "source": [
    "costdist_mask.astype(\"int16\").plot.imshow()"
   ]
  },
  {
   "cell_type": "code",
   "execution_count": null,
   "id": "d4faab79-f134-433c-b30f-8d79aabd3b26",
   "metadata": {
    "tags": []
   },
   "outputs": [],
   "source": [
    "# study_areas = [\n",
    "#                'x082y125', 'x090y104', 'x092y144', 'x094y145', 'x105y154',\n",
    "#                'x107y159', 'x107y174', 'x109y099', 'x110y160', 'x111y162',\n",
    "#                'x120y105', 'x125y166', 'x134y175', 'x134y178', 'x137y175',\n",
    "#                'x140y177', 'x144y104', 'x149y167', 'x153y095', 'x153y163',\n",
    "#                'x154y169', 'x154y178', 'x155y102', 'x156y096', 'x164y084',\n",
    "#                'x166y083', 'x167y156', 'x171y173', 'x173y084', 'x173y179',\n",
    "#                'x174y066', 'x174y082', 'x177y081', 'x178y066', 'x179y166',\n",
    "#                'x182y164', 'x186y148', 'x187y085', 'x189y090', 'x191y094',\n",
    "#                'x191y145', 'x193y096', 'x193y139', 'x194y136', 'x196y100',\n",
    "#                'x198y131', 'x201y110', 'x202y117', 'x202y124',\n",
    "# ]\n",
    "\n",
    "study_areas = [\n",
    "    \"x079y130\", 'x080y127', 'x081y136', 'x084y139', 'x088y143',\n",
    "    'x090y101', 'x096y094', 'x109y157', 'x110y158', 'x112y160',\n",
    "    'x113y160', 'x114y164', 'x116y169', 'x118y169', 'x120y169',\n",
    "    'x128y166', 'x129y166', 'x129y167', 'x130y166', 'x130y167',\n",
    "    'x132y174', 'x147y098', 'x157y093', 'x159y092', 'x160y087',\n",
    "    'x160y090', 'x161y086', 'x170y082', 'x172y075', 'x173y069',\n",
    "    'x173y074', 'x176y073', 'x176y173', 'x180y082', 'x181y083',\n",
    "    'x184y152', 'x188y147', 'x189y146', 'x190y092', 'x194y098',\n",
    "    'x198y103', 'x199y130'\n",
    "]\n",
    "\n",
    "for study_area in study_areas:\n",
    "\n",
    "    try:\n",
    "        print(f\"Processing {study_area}\")\n",
    "        gbox = extract_geobox(study_area=study_area)\n",
    "        gbox_buffered = gbox.buffered(xbuff=20000, ybuff=20000).zoom_out(3)\n",
    "\n",
    "        # Load SRTM\n",
    "        srtm_ds = dc.load(\n",
    "            product=\"ga_srtm_dem1sv1_0\",\n",
    "            measurements=[\"dem_h\"],\n",
    "            resampling=\"bilinear\",\n",
    "            like=gbox_buffered,\n",
    "        ).squeeze()\n",
    "        dem_da = srtm_ds.dem_h\n",
    "\n",
    "        # Identify ocean-connected starting points for distance calculation\n",
    "        # ocean_da = load_ocean_mask(dc, geobox=gbox_buffered)\n",
    "        # water_pixels = dem_da <= 0\n",
    "        # starts = ocean_connection(water_pixels, ocean_da).odc.assign_crs(crs=srtm_ds.odc.crs)\n",
    "\n",
    "        # Identify starting points (ocean nodata points), and cost\n",
    "        # surface (negative nodata points clipped to a minimum of 0)\n",
    "        starts = dem_da == dem_da.nodata\n",
    "        cost_surface = dem_da.clip(0, np.inf)\n",
    "\n",
    "        # Generate least cost distance array\n",
    "        cost_distance_da = xr.apply_ufunc(\n",
    "            cost_distance,\n",
    "            cost_surface,\n",
    "            starts,\n",
    "        ).odc.assign_crs(crs=srtm_ds.odc.crs)\n",
    "\n",
    "        # Export to file\n",
    "        cost_distance_da.attrs[\"nodata\"] = np.nan\n",
    "        cost_distance_da.odc.write_cog(\n",
    "            f\"data/least_cost_distance/cost_distance_{study_area}.tif\",\n",
    "            overwrite=True,\n",
    "        )\n",
    "    except:\n",
    "        print(f\"{study_area} failed\")"
   ]
  },
  {
   "cell_type": "code",
   "execution_count": null,
   "id": "1ec966fb-a5d6-4d8d-b2cc-df5ee68112fc",
   "metadata": {
    "tags": []
   },
   "outputs": [],
   "source": [
    "input_path = \"data/least_cost_distance_unit/cost_distance_*.tif\"\n",
    "output_path = \"least_cost_distance_unit.tif\" \n",
    "\n",
    "!gdalwarp $input_path $output_path -b 1 -overwrite -multi -wm 80% -co NUM_THREADS=ALL_CPUS -of COG -co COMPRESS=DEFLATE -co PREDICTOR=YES"
   ]
  },
  {
   "cell_type": "code",
   "execution_count": null,
   "id": "a29d7764-89c7-4e91-a5b6-0fc073eec7a9",
   "metadata": {
    "tags": []
   },
   "outputs": [],
   "source": []
  },
  {
   "cell_type": "code",
   "execution_count": null,
   "id": "0985dbf9-081b-4757-9a77-3900733b5798",
   "metadata": {
    "tags": []
   },
   "outputs": [],
   "source": [
    "# intertidal_ds = dc.load(\n",
    "#     product=\"ga_s2ls_intertidal_cyear_3\",\n",
    "#     time=\"2018\",\n",
    "#     measurements=\"qa_ndwi_freq\",\n",
    "#     like=gbox,\n",
    "# ).squeeze()\n"
   ]
  },
  {
   "cell_type": "code",
   "execution_count": null,
   "id": "d7105db4-e8c5-433b-97e8-526e27e94679",
   "metadata": {},
   "outputs": [],
   "source": [
    "srtm_ds = dc.load(\n",
    "    product=\"ga_srtm_dem1sv1_0\",\n",
    "    measurements=[\"dem_s\"],\n",
    "    resampling=\"bilinear\",\n",
    "    like=gbox_buffered,\n",
    ").squeeze()\n",
    "\n",
    "dem_da = srtm_ds.dem_s"
   ]
  },
  {
   "cell_type": "code",
   "execution_count": null,
   "id": "ec9b127e-da0c-4aa8-a761-1f988ba28ebb",
   "metadata": {
    "tags": []
   },
   "outputs": [],
   "source": [
    "# Identify ocean-connected starting points for distance calculation\n",
    "ocean_da = load_ocean_mask(dc, geobox=gbox_buffered)\n",
    "water_pixels = dem_da <= 0\n",
    "starts = ocean_connection(water_pixels, ocean_da).odc.assign_crs(crs=srtm_ds.odc.crs)\n",
    "starts.astype(\"float32\").odc.explore()\n",
    "\n",
    "# Test\n",
    "# freq_reprojected = intertidal_ds.qa_ndwi_freq.astype(\"float32\").odc.reproject(\n",
    "#     how=gbox_buffered, dst_nodata=np.nan\n",
    "# )\n",
    "# water_pixels = xr.where(freq_reprojected > 10, True, dem_da <= 0)"
   ]
  },
  {
   "cell_type": "code",
   "execution_count": null,
   "id": "4b8ccd3b-1625-4b0a-a9fa-cfa24ab09745",
   "metadata": {
    "tags": []
   },
   "outputs": [],
   "source": [
    "\n",
    "\n",
    "# cost_surface = dem_da.clip(5, 5000) / 5\n",
    "cost_surface = dem_da.clip(0, np.inf)\n",
    "# cost_surface = dem_da.clip(5, np.inf) - 5\n",
    "# cost_surface = scale_values(dem_da, in_min=5, in_max=15, out_min=1, out_max=1000)\n",
    "cost_distance_da = xr.apply_ufunc(\n",
    "    cost_distance, cost_surface, starts, gbox_buffered.resolution.x\n",
    ").odc.assign_crs(crs=srtm_ds.odc.crs)"
   ]
  },
  {
   "cell_type": "code",
   "execution_count": null,
   "id": "b12f952a-e54f-4104-8295-c7d14a2bba64",
   "metadata": {
    "tags": []
   },
   "outputs": [],
   "source": [
    "cost_distance_da.odc.write_cog(\"cost_distance.tif\", overwrite=True)"
   ]
  },
  {
   "cell_type": "code",
   "execution_count": null,
   "id": "3aab593b-7515-49a7-a905-432aea890eca",
   "metadata": {
    "tags": []
   },
   "outputs": [],
   "source": [
    "cost_surface.odc.explore(robust=True)"
   ]
  },
  {
   "cell_type": "code",
   "execution_count": null,
   "id": "a715ac20-f267-49ee-9e86-11f5d36c161d",
   "metadata": {
    "tags": []
   },
   "outputs": [],
   "source": [
    "# cost_surface.odc.write_cog(\"cost_surface.tif\", overwrite=True)"
   ]
  },
  {
   "cell_type": "code",
   "execution_count": null,
   "id": "2ac6fe91-d0b2-47b2-a365-c7c84ee5be7f",
   "metadata": {
    "tags": []
   },
   "outputs": [],
   "source": []
  },
  {
   "cell_type": "code",
   "execution_count": null,
   "id": "1c82e92b-6712-435c-b273-2b5f9f805a88",
   "metadata": {
    "tags": []
   },
   "outputs": [],
   "source": [
    "(dem_da < 5).odc.explore()"
   ]
  },
  {
   "cell_type": "code",
   "execution_count": null,
   "id": "ca07271f-f69a-4800-af8c-45ead97d4383",
   "metadata": {
    "tags": []
   },
   "outputs": [],
   "source": [
    "dem_da.where(dem_da> 0).plot.hist(bins=100);"
   ]
  },
  {
   "cell_type": "code",
   "execution_count": null,
   "id": "2adbd654-5f8f-44b2-bfc0-997eab88b714",
   "metadata": {
    "tags": []
   },
   "outputs": [],
   "source": [
    "import numpy as np\n",
    "from skimage.graph import MCP, MCP_Geometric\n",
    "\n",
    "# Define a simple 5x5 cost array\n",
    "cost_array = np.array([\n",
    "    [1, 2, 3, 4, 5],\n",
    "    [1, 2, 3, 4, 5],\n",
    "    [1, 2, 3, 4, 5],\n",
    "    [1, 2, 3, 4, 5],\n",
    "    [1, 2, 3, 4, 5]\n",
    "])\n",
    "\n",
    "# Starting point\n",
    "start = (2, 0)\n",
    "\n",
    "import matplotlib.pyplot as plt\n",
    "plt.imshow(cost_array)"
   ]
  },
  {
   "cell_type": "code",
   "execution_count": null,
   "id": "b40207ec-0b65-4c5f-b049-51279045ed43",
   "metadata": {
    "tags": []
   },
   "outputs": [],
   "source": [
    "# Initialize MCP\n",
    "mcp = MCP(cost_array, sampling=(10, 10))\n",
    "\n",
    "# Use find_costs to calculate costs\n",
    "costs, traceback = mcp.find_costs([start])\n",
    "\n",
    "# Print the results\n",
    "print(\"MCP Costs Array:\")\n",
    "print(costs)\n",
    "plt.imshow(costs)"
   ]
  },
  {
   "cell_type": "code",
   "execution_count": null,
   "id": "2f33f5e4-7b9c-4295-8132-072b80fd54aa",
   "metadata": {
    "tags": []
   },
   "outputs": [],
   "source": [
    "# Initialize MCP_Geometric\n",
    "mcp_geom = MCP_Geometric(cost_array)  #, sampling=(10, 10))\n",
    "\n",
    "# Use find_costs to calculate costs\n",
    "costs_geom, traceback_geom = mcp_geom.find_costs([start])\n",
    "\n",
    "# Print the results\n",
    "print(\"MCP_Geometric Costs Array:\")\n",
    "print(costs_geom)\n",
    "plt.imshow(costs_geom)"
   ]
  },
  {
   "cell_type": "code",
   "execution_count": null,
   "id": "75531557-3d14-4c61-8841-0e0f1ed29c41",
   "metadata": {
    "tags": []
   },
   "outputs": [],
   "source": [
    "scale_values(dem_da).plot.imshow()"
   ]
  },
  {
   "cell_type": "code",
   "execution_count": null,
   "id": "26f45132-b172-4890-8bdf-84d8affcbc15",
   "metadata": {},
   "outputs": [],
   "source": []
  },
  {
   "cell_type": "code",
   "execution_count": null,
   "id": "ebfc37db-cc83-46e1-bd4f-78114a1ab686",
   "metadata": {},
   "outputs": [],
   "source": []
  },
  {
   "cell_type": "code",
   "execution_count": null,
   "id": "5d7784da-78d5-49d8-924b-49e9236afd2e",
   "metadata": {},
   "outputs": [],
   "source": []
  },
  {
   "cell_type": "code",
   "execution_count": null,
   "id": "988e2881-ae3b-4df2-b62a-3c18e9899996",
   "metadata": {
    "tags": []
   },
   "outputs": [],
   "source": []
  },
  {
   "cell_type": "code",
   "execution_count": null,
   "id": "edc1dbd6-9a9b-45b8-b88d-f811156d8d66",
   "metadata": {
    "tags": []
   },
   "outputs": [],
   "source": [
    "# unexplained = (extents== 0).where(~is_nan)"
   ]
  },
  {
   "cell_type": "code",
   "execution_count": null,
   "id": "d32b5e9b-3603-458f-ba66-9bcedd28d405",
   "metadata": {
    "tags": []
   },
   "outputs": [],
   "source": [
    "# ds.qa_ndwi_corr.where(~is_nan).where(unexplained).max()"
   ]
  },
  {
   "cell_type": "code",
   "execution_count": null,
   "id": "d57d3324-8ca4-46b6-9545-b3c3e5452767",
   "metadata": {
    "tags": []
   },
   "outputs": [],
   "source": []
  },
  {
   "cell_type": "code",
   "execution_count": null,
   "id": "b63877ba-f405-49d4-8ea0-21541b7ba341",
   "metadata": {
    "tags": []
   },
   "outputs": [],
   "source": [
    "ds.qa_ndwi_corr.odc.write_cog(\"experimental_extents_corr.tif\")"
   ]
  },
  {
   "cell_type": "code",
   "execution_count": null,
   "id": "c59707fa-269b-4a34-844b-9b4e016fcced",
   "metadata": {
    "tags": []
   },
   "outputs": [],
   "source": [
    "ds.qa_ndwi_freq.odc.write_cog(\"experimental_extents_freq.tif\", overwrite=True)"
   ]
  },
  {
   "cell_type": "code",
   "execution_count": null,
   "id": "c570d682-ff44-4534-a621-7efa392929e9",
   "metadata": {
    "tags": []
   },
   "outputs": [],
   "source": [
    "mostly_dry.astype('int16').odc.write_cog(\"experimental_extents_mostly_dry.tif\", overwrite=True)"
   ]
  },
  {
   "cell_type": "code",
   "execution_count": null,
   "id": "f5621bb9-f146-4fae-ad86-0bcac4946275",
   "metadata": {
    "tags": []
   },
   "outputs": [],
   "source": [
    "mostly_wet.astype('int16').odc.write_cog(\"experimental_extents_mostly_wet.tif\", overwrite=True)"
   ]
  },
  {
   "cell_type": "code",
   "execution_count": null,
   "id": "ac54c127-0690-4b7b-a38d-76440b4f4c67",
   "metadata": {
    "tags": []
   },
   "outputs": [],
   "source": [
    "ocean_connected_mask.astype('int16').odc.write_cog(\"experimental_extents_ocean_connected.tif\", overwrite=True)"
   ]
  },
  {
   "cell_type": "code",
   "execution_count": null,
   "id": "f580fc41-3e12-41a7-b6e8-90025396d2ae",
   "metadata": {
    "tags": []
   },
   "outputs": [],
   "source": [
    "is_nan.astype('int16').odc.write_cog(\"experimental_extents_is_nan.tif\", overwrite=True)"
   ]
  },
  {
   "cell_type": "markdown",
   "id": "33cb1e36-abac-4daa-8878-4d1c24c8598b",
   "metadata": {},
   "source": [
    "## Seasonal correction"
   ]
  },
  {
   "cell_type": "code",
   "execution_count": null,
   "id": "93acc7e7-7d3a-43f3-aa05-ea8303648798",
   "metadata": {
    "tags": []
   },
   "outputs": [],
   "source": [
    "from intertidal.io import load_data\n",
    "from dea_tools.coastal import tidal_tag\n",
    "from dea_tools.dask import create_local_dask_cluster\n",
    "\n",
    "client = create_local_dask_cluster(return_client=True)"
   ]
  },
  {
   "cell_type": "code",
   "execution_count": null,
   "id": "ff4e7bf7-1c5b-4856-acdb-cf40bffb1440",
   "metadata": {
    "tags": []
   },
   "outputs": [],
   "source": [
    "ds_ndwi = load_data(dc=dc, geom=ds.odc.geobox.extent)[0].compute()"
   ]
  },
  {
   "cell_type": "code",
   "execution_count": null,
   "id": "71af35a8-67e5-4dda-88be-1c0831617aad",
   "metadata": {
    "tags": []
   },
   "outputs": [],
   "source": [
    "ds_ndwi = tidal_tag(ds_ndwi)"
   ]
  },
  {
   "cell_type": "code",
   "execution_count": null,
   "id": "f5fd19ad-d593-490a-938c-94006f274006",
   "metadata": {
    "tags": []
   },
   "outputs": [],
   "source": [
    "ds_ndwi.isel(time=0).ndwi.plot()"
   ]
  },
  {
   "cell_type": "code",
   "execution_count": null,
   "id": "9c842e39-5ae2-452a-8e3d-6ed1419fc1ec",
   "metadata": {
    "tags": []
   },
   "outputs": [],
   "source": [
    "timestep = 191\n",
    "ds_ndwi.tide_m.plot()\n",
    "plt.scatter(\n",
    "    x=ds_ndwi.isel(time=timestep).time.values,\n",
    "    y=ds_ndwi.isel(time=timestep).tide_m.values,\n",
    "    color=\"orange\",\n",
    ")"
   ]
  },
  {
   "cell_type": "code",
   "execution_count": null,
   "id": "2f3d1eb9-9a8c-41ec-857a-d4933a42d5d1",
   "metadata": {
    "tags": []
   },
   "outputs": [],
   "source": [
    "ds_ndwi.isel(time=ds_ndwi.tide_m > 0.1).median(dim=\"time\").ndwi.odc.explore()"
   ]
  },
  {
   "cell_type": "code",
   "execution_count": null,
   "id": "6bb59699-81d2-48f8-9273-39ae9baac3ab",
   "metadata": {
    "tags": []
   },
   "outputs": [],
   "source": [
    "ds_ndwi.isel(time=ds_ndwi.tide_m < -0.2).median(dim=\"time\").ndwi.odc.explore()"
   ]
  },
  {
   "cell_type": "code",
   "execution_count": null,
   "id": "4bad4747-2111-4a5a-8f13-b20ab7c3e803",
   "metadata": {
    "tags": []
   },
   "outputs": [],
   "source": [
    "import xarray as xr\n",
    "da_corr = xr.corr(ds_ndwi.ndwi > 0, ds_ndwi.tide_m, dim=\"time\")\n",
    "da_corr.odc.assign_crs(ds_ndwi.odc.crs).odc.explore(cmap=\"RdBu\", vmin=-0.5, vmax=0.5)"
   ]
  },
  {
   "cell_type": "code",
   "execution_count": null,
   "id": "2b105094-a3cf-4f1c-9025-23b4c7131c80",
   "metadata": {},
   "outputs": [],
   "source": [
    "import xarray as xr\n",
    "# da_corr = xr.corr(ds_ndwi.ndwi > 0, ds_ndwi.tide_m, dim=\"time\")\n",
    "da_corr.odc.assign_crs(ds_ndwi.odc.crs).odc.explore(cmap=\"RdBu\", vmin=-0.5, vmax=0.5)"
   ]
  },
  {
   "cell_type": "code",
   "execution_count": null,
   "id": "3962a7ce-42e4-4fa7-816c-6b3ede859ea7",
   "metadata": {
    "tags": []
   },
   "outputs": [],
   "source": [
    "import xarray as xr\n",
    "gb = ds_ndwi.tide_m.groupby(\"time.month\")\n",
    "tide_array = gb - gb.mean()  #.rolling(month=3, center=True, min_periods=1).mean()\n",
    "da_corr = xr.corr(ds_ndwi.ndwi, tide_array, dim=\"time\")\n",
    "da_corr.odc.assign_crs(ds_ndwi.odc.crs).odc.explore(cmap=\"RdBu\", vmin=-0.5, vmax=0.5)"
   ]
  },
  {
   "cell_type": "code",
   "execution_count": null,
   "id": "3beb373c-e5ba-4fde-8897-028844d0d6d3",
   "metadata": {
    "tags": []
   },
   "outputs": [],
   "source": [
    "da_corr.odc.write_cog(\"test.tif\", overwrite=True)"
   ]
  },
  {
   "cell_type": "code",
   "execution_count": null,
   "id": "b1c17e7a-9970-490d-9a80-f9217c2ee9f3",
   "metadata": {
    "tags": []
   },
   "outputs": [],
   "source": [
    "gb.mean().rolling(month=3, center=True, min_periods=1).mean().plot()\n",
    "gb.mean().plot()"
   ]
  },
  {
   "cell_type": "code",
   "execution_count": null,
   "id": "66e0f210-1c14-43d3-9577-18aac2af7a46",
   "metadata": {
    "tags": []
   },
   "outputs": [],
   "source": [
    "ds_ndwi.tide_m.plot()"
   ]
  },
  {
   "cell_type": "code",
   "execution_count": null,
   "id": "87577f13-7455-4613-a7f1-9e8e71b735bd",
   "metadata": {
    "tags": []
   },
   "outputs": [],
   "source": [
    "ds_ndwi.ndwi.mean(dim=[\"x\", \"y\"]).plot()"
   ]
  },
  {
   "cell_type": "code",
   "execution_count": null,
   "id": "b76b78a9-cb28-4282-bfbd-dfeca683fd31",
   "metadata": {
    "tags": []
   },
   "outputs": [],
   "source": [
    "x, y = 915170.25, -4231317.71\n",
    "plt.scatter(\n",
    "    x=ds_ndwi.tide_m,\n",
    "    y=ds_ndwi.ndwi.sel(x=x, y=y, method=\"nearest\"),\n",
    "    # s=(ds_ndwi.ndwi.notnull().mean(dim=[\"x\", \"y\"]) + 1) ** 5,\n",
    ")"
   ]
  },
  {
   "cell_type": "code",
   "execution_count": null,
   "id": "d540fa2c-eb7d-4a9e-a1a9-ca4b580f46a5",
   "metadata": {},
   "outputs": [],
   "source": [
    "xr.corr"
   ]
  },
  {
   "cell_type": "code",
   "execution_count": null,
   "id": "dd47c08d-56c6-48e9-aead-b507699fd83b",
   "metadata": {
    "tags": []
   },
   "outputs": [],
   "source": [
    "x, y = 915170.25, -4231317.71\n",
    "\n",
    "gb = ds_ndwi.tide_m.groupby(\"time.month\")\n",
    "tide_array = gb - gb.mean()\n",
    "\n",
    "\n",
    "plt.scatter(\n",
    "    x=tide_array,\n",
    "    y=ds_ndwi.ndwi.sel(x=x, y=y, method=\"nearest\"),\n",
    "    # s=(ds_ndwi.ndwi.notnull().mean(dim=[\"x\", \"y\"]) + 1) ** 5,\n",
    ")"
   ]
  },
  {
   "cell_type": "code",
   "execution_count": null,
   "id": "2503bf8a-c19d-44f4-96ff-5148c6a8a98f",
   "metadata": {
    "tags": []
   },
   "outputs": [],
   "source": [
    "ds_ndwi.tide_m.plot()\n",
    "ds_ndwi.tide_m.pad(time=50, mode=\"constant\", constant_values=1.23456789)   #.plot()\n",
    "\n",
    "\n",
    "#.rolling(time=80, center=True, min_periods=1).mean().plot()"
   ]
  },
  {
   "cell_type": "code",
   "execution_count": null,
   "id": "b8e1df6f-a085-4e79-b071-63fd6f85390f",
   "metadata": {
    "tags": []
   },
   "outputs": [],
   "source": [
    "# ausbathytopo_ds = dc.load(\n",
    "#     product=\"ga_ausbathytopo250m_2023\",\n",
    "#     measurements=[\"height_depth\"],\n",
    "#     resampling=\"cubic\",\n",
    "#     like=ds.odc.geobox.buffered(20000, 20000),\n",
    "# ).squeeze()\n",
    "\n",
    "# dem_da = ausbathytopo_ds.height_depth"
   ]
  },
  {
   "cell_type": "code",
   "execution_count": null,
   "id": "a3971138-faea-4734-9257-8f148b0d762a",
   "metadata": {
    "tags": []
   },
   "outputs": [],
   "source": [
    "srtm_ds = dc.load(\n",
    "    product=\"ga_srtm_dem1sv1_0\",\n",
    "    measurements=[\"dem_s\"],\n",
    "    resampling=\"bilinear\",\n",
    "    like=ds.odc.geobox.buffered(20000, 20000),\n",
    ").squeeze()\n",
    "\n",
    "dem_da = srtm_ds.dem_s"
   ]
  },
  {
   "cell_type": "code",
   "execution_count": null,
   "id": "06484496-4bd0-4a33-a592-c8433930252e",
   "metadata": {
    "tags": []
   },
   "outputs": [],
   "source": [
    "dem_da.odc.explore()"
   ]
  },
  {
   "cell_type": "code",
   "execution_count": null,
   "id": "e69c0472-a185-48da-bed0-eb7c2d2ef6f8",
   "metadata": {
    "tags": []
   },
   "outputs": [],
   "source": [
    "from intertidal.extents import ocean_connection\n",
    "from intertidal.io import load_ocean_mask\n",
    "ocean_da = load_ocean_mask(dc, geobox=ds.odc.geobox.buffered(20000, 20000))\n",
    "starts = ocean_connection(dem_da <= 0, ocean_da)\n",
    "starts.odc.explore()"
   ]
  },
  {
   "cell_type": "code",
   "execution_count": null,
   "id": "3c41a3b7-799d-4cca-9c67-7ea5176facd4",
   "metadata": {
    "tags": []
   },
   "outputs": [],
   "source": [
    "# dem_da = ((srtm_ds.dem_s + ausbathytopo_ds.height_depth) / 2.0)   #.odc.write_cog(\"mean_dem.tif\")"
   ]
  },
  {
   "cell_type": "code",
   "execution_count": null,
   "id": "72be6d5e-00a4-4586-84b6-010cbd967fcf",
   "metadata": {
    "tags": []
   },
   "outputs": [],
   "source": [
    "# dem_da = np.maximum(srtm_ds.dem_s, ausbathytopo_ds.height_depth)"
   ]
  },
  {
   "cell_type": "code",
   "execution_count": null,
   "id": "1e32d55d-1f17-49ef-814e-48486e5e11c2",
   "metadata": {
    "tags": []
   },
   "outputs": [],
   "source": [
    "# (ds_dem2.dem_s == 0).plot.imshow()"
   ]
  },
  {
   "cell_type": "code",
   "execution_count": null,
   "id": "6355fd10-32a9-43a3-962e-ca8b9f4c1424",
   "metadata": {
    "tags": []
   },
   "outputs": [],
   "source": [
    "from skimage import graph\n",
    "import numpy as np\n",
    "import xarray as xr\n",
    "\n",
    "\n",
    "def cost_distance(cs, start_array, cellsize=10):\n",
    "\n",
    "    # From the cost-surface create a 'landscape graph' object which can then be\n",
    "    # analysed using least-cost modelling\n",
    "    lg = graph.MCP_Geometric(cs, sampling=(cellsize, cellsize))\n",
    "    # lg = graph.MCP(cs)\n",
    "\n",
    "    # Set starting points\n",
    "    starts = list(zip(*np.nonzero(start_array)))\n",
    "\n",
    "    # Calculate the least-cost distance from the start cell to all other cells\n",
    "    lcd = lg.find_costs(starts=starts)[0]\n",
    "\n",
    "    return lcd\n",
    "\n",
    "# cost_distance(cs=ds.height_depth.values, start_array=(ds.height_depth > 0).values, cellsize=10)\n",
    "\n",
    "from xrspatial import slope\n",
    "from odc.algo import mask_cleanup\n",
    "\n",
    "# land = ds_dem.height_depth > 0\n",
    "# starts = (mask_cleanup(land, [(\"dilation\", 1)]) &  ~land)\n",
    "# land = dem_da > 0\n",
    "# starts = ~land\n",
    "\n",
    "# starts = ausbathytopo_ds.height_depth < 0\n",
    "\n",
    "# slope_da = slope(ds.height_depth)\n",
    "# slope_da = np.abs(dem_da.clip(-50, 50))\n",
    "# cs = slope_da.where(~slope_da.isnull(), -1)\n",
    "cs = dem_da.clip(1, 5000)\n",
    "test = xr.apply_ufunc(cost_distance, cs, starts, 10)"
   ]
  },
  {
   "cell_type": "code",
   "execution_count": null,
   "id": "d6a32e9c-11eb-469f-b430-393b9a7eb643",
   "metadata": {
    "tags": []
   },
   "outputs": [],
   "source": [
    "# from xrspatial import allocation, proximity\n",
    "\n",
    "# test = proximity(dem_da, target_values=[0])"
   ]
  },
  {
   "cell_type": "code",
   "execution_count": null,
   "id": "0ccde85f-9769-4537-b077-5346fba11016",
   "metadata": {
    "tags": []
   },
   "outputs": [],
   "source": [
    "# test.plot.imshow()"
   ]
  },
  {
   "cell_type": "code",
   "execution_count": null,
   "id": "958f802a-7f6d-454a-a52d-536cab2f96af",
   "metadata": {
    "tags": []
   },
   "outputs": [],
   "source": [
    "# test.plot.imshow()"
   ]
  },
  {
   "cell_type": "code",
   "execution_count": null,
   "id": "e225ec04-459f-4463-8ec7-bc63c8e244d0",
   "metadata": {
    "tags": []
   },
   "outputs": [],
   "source": [
    "# ds.odc.explore()"
   ]
  },
  {
   "cell_type": "code",
   "execution_count": null,
   "id": "3cf40573-ab6b-487b-b991-49e2c7fe177e",
   "metadata": {
    "tags": []
   },
   "outputs": [],
   "source": [
    "# test.odc.assign_crs(crs=ds_dem.odc.crs).odc.explore()"
   ]
  },
  {
   "cell_type": "code",
   "execution_count": null,
   "id": "31a8604c-7c66-4538-bbe9-d2e5426e4ec6",
   "metadata": {
    "tags": []
   },
   "outputs": [],
   "source": [
    "# test.where(np.isfinite(test), 0)\n",
    "\n",
    "test.odc.assign_crs(crs=ds_dem.odc.crs).odc.write_cog(\"test_distance.tif\", overwrite=True)"
   ]
  },
  {
   "cell_type": "code",
   "execution_count": null,
   "id": "ac1b3449-839c-4bf6-933d-72f932077054",
   "metadata": {
    "tags": []
   },
   "outputs": [],
   "source": [
    "# (test < 5000).plot()  #.odc.assign_crs(crs=ds_dem.odc.crs).odc.explore()"
   ]
  },
  {
   "cell_type": "code",
   "execution_count": null,
   "id": "34f167e4-1a80-4646-a441-0280bb46f604",
   "metadata": {},
   "outputs": [],
   "source": []
  }
 ],
 "metadata": {
  "kernelspec": {
   "display_name": "Python 3 (ipykernel)",
   "language": "python",
   "name": "python3"
  },
  "language_info": {
   "codemirror_mode": {
    "name": "ipython",
    "version": 3
   },
   "file_extension": ".py",
   "mimetype": "text/x-python",
   "name": "python",
   "nbconvert_exporter": "python",
   "pygments_lexer": "ipython3",
   "version": "3.10.13"
  },
  "widgets": {
   "application/vnd.jupyter.widget-state+json": {
    "state": {},
    "version_major": 2,
    "version_minor": 0
   }
  }
 },
 "nbformat": 4,
 "nbformat_minor": 5
}

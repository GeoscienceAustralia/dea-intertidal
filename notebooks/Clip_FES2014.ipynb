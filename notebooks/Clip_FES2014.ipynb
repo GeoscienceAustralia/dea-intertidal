{
 "cells": [
  {
   "cell_type": "code",
   "execution_count": 1,
   "id": "60cecfa8-da5f-4508-a819-8c4911e3e972",
   "metadata": {},
   "outputs": [
    {
     "name": "stdout",
     "output_type": "stream",
     "text": [
      "/home/jovyan/Robbi/dea-intertidal\n"
     ]
    }
   ],
   "source": [
    "cd .."
   ]
  },
  {
   "cell_type": "code",
   "execution_count": 26,
   "id": "88bd2ba2-7c82-46f1-994d-f43573bf7206",
   "metadata": {},
   "outputs": [],
   "source": [
    "import xarray as xr\n",
    "import geopandas as gpd\n",
    "import glob"
   ]
  },
  {
   "cell_type": "code",
   "execution_count": 46,
   "id": "c014b5b3-0ff6-4146-b171-c8fa1318f26c",
   "metadata": {},
   "outputs": [
    {
     "name": "stderr",
     "output_type": "stream",
     "text": [
      "/tmp/ipykernel_1738/1670973342.py:2: UserWarning: Geometry is in a geographic CRS. Results from 'buffer' are likely incorrect. Use 'GeoSeries.to_crs()' to re-project geometries to a projected CRS before this operation.\n",
      "\n",
      "  minx, miny, maxx, maxy = dea_albers.geometry.buffer(1).total_bounds\n"
     ]
    },
    {
     "data": {
      "text/plain": [
       "(108.27938425718472, -47.2300021066206, 158.04487140636076, -6.213661201687508)"
      ]
     },
     "execution_count": 46,
     "metadata": {},
     "output_type": "execute_result"
    }
   ],
   "source": [
    "# Get desired output area and buffer by 1 degree\n",
    "dea_albers = gpd.read_file('https://data.dea.ga.gov.au/derivative/ga_summary_grid_c3.geojson')\n",
    "minx, miny, maxx, maxy = dea_albers.geometry.buffer(1).total_bounds\n",
    "minx, miny, maxx, maxy"
   ]
  },
  {
   "cell_type": "code",
   "execution_count": 53,
   "id": "afad5d12-aef5-4b16-8a74-62c84f8ae29c",
   "metadata": {},
   "outputs": [
    {
     "name": "stdout",
     "output_type": "stream",
     "text": [
      "/home/jovyan/tide_models/fes2014/ocean_tide/mtm.nc\n",
      "/home/jovyan/tide_models/fes2014/ocean_tide/l2.nc\n",
      "/home/jovyan/tide_models/fes2014/ocean_tide/m2.nc\n",
      "/home/jovyan/tide_models/fes2014/ocean_tide/mu2.nc\n",
      "/home/jovyan/tide_models/fes2014/ocean_tide/nu2.nc\n",
      "/home/jovyan/tide_models/fes2014/ocean_tide/m4.nc\n",
      "/home/jovyan/tide_models/fes2014/ocean_tide/t2.nc\n",
      "/home/jovyan/tide_models/fes2014/ocean_tide/msqm.nc\n",
      "/home/jovyan/tide_models/fes2014/ocean_tide/la2.nc\n",
      "/home/jovyan/tide_models/fes2014/ocean_tide/mm.nc\n",
      "/home/jovyan/tide_models/fes2014/ocean_tide/ssa.nc\n",
      "/home/jovyan/tide_models/fes2014/ocean_tide/mf.nc\n",
      "/home/jovyan/tide_models/fes2014/ocean_tide/2n2.nc\n",
      "/home/jovyan/tide_models/fes2014/ocean_tide/n4.nc\n",
      "/home/jovyan/tide_models/fes2014/ocean_tide/s4.nc\n",
      "/home/jovyan/tide_models/fes2014/ocean_tide/k2.nc\n",
      "/home/jovyan/tide_models/fes2014/ocean_tide/q1.nc\n",
      "/home/jovyan/tide_models/fes2014/ocean_tide/mks2.nc\n",
      "/home/jovyan/tide_models/fes2014/ocean_tide/m8.nc\n",
      "/home/jovyan/tide_models/fes2014/ocean_tide/m3.nc\n",
      "/home/jovyan/tide_models/fes2014/ocean_tide/mn4.nc\n",
      "/home/jovyan/tide_models/fes2014/ocean_tide/j1.nc\n",
      "/home/jovyan/tide_models/fes2014/ocean_tide/ms4.nc\n",
      "/home/jovyan/tide_models/fes2014/ocean_tide/sa.nc\n",
      "/home/jovyan/tide_models/fes2014/ocean_tide/n2.nc\n",
      "/home/jovyan/tide_models/fes2014/ocean_tide/o1.nc\n",
      "/home/jovyan/tide_models/fes2014/ocean_tide/k1.nc\n",
      "/home/jovyan/tide_models/fes2014/ocean_tide/eps2.nc\n",
      "/home/jovyan/tide_models/fes2014/ocean_tide/m6.nc\n",
      "/home/jovyan/tide_models/fes2014/ocean_tide/p1.nc\n",
      "/home/jovyan/tide_models/fes2014/ocean_tide/s1.nc\n",
      "/home/jovyan/tide_models/fes2014/ocean_tide/msf.nc\n",
      "/home/jovyan/tide_models/fes2014/ocean_tide/s2.nc\n",
      "/home/jovyan/tide_models/fes2014/ocean_tide/r2.nc\n",
      "/home/jovyan/tide_models/fes2014/load_tide/mtm.nc\n",
      "/home/jovyan/tide_models/fes2014/load_tide/l2.nc\n",
      "/home/jovyan/tide_models/fes2014/load_tide/m2.nc\n",
      "/home/jovyan/tide_models/fes2014/load_tide/mu2.nc\n",
      "/home/jovyan/tide_models/fes2014/load_tide/nu2.nc\n",
      "/home/jovyan/tide_models/fes2014/load_tide/m4.nc\n",
      "/home/jovyan/tide_models/fes2014/load_tide/t2.nc\n",
      "/home/jovyan/tide_models/fes2014/load_tide/msqm.nc\n",
      "/home/jovyan/tide_models/fes2014/load_tide/la2.nc\n",
      "/home/jovyan/tide_models/fes2014/load_tide/mm.nc\n",
      "/home/jovyan/tide_models/fes2014/load_tide/ssa.nc\n",
      "/home/jovyan/tide_models/fes2014/load_tide/mf.nc\n",
      "/home/jovyan/tide_models/fes2014/load_tide/2n2.nc\n",
      "/home/jovyan/tide_models/fes2014/load_tide/n4.nc\n",
      "/home/jovyan/tide_models/fes2014/load_tide/s4.nc\n",
      "/home/jovyan/tide_models/fes2014/load_tide/k2.nc\n",
      "/home/jovyan/tide_models/fes2014/load_tide/q1.nc\n",
      "/home/jovyan/tide_models/fes2014/load_tide/mks2.nc\n",
      "/home/jovyan/tide_models/fes2014/load_tide/m8.nc\n",
      "/home/jovyan/tide_models/fes2014/load_tide/m3.nc\n",
      "/home/jovyan/tide_models/fes2014/load_tide/mn4.nc\n",
      "/home/jovyan/tide_models/fes2014/load_tide/j1.nc\n",
      "/home/jovyan/tide_models/fes2014/load_tide/ms4.nc\n",
      "/home/jovyan/tide_models/fes2014/load_tide/sa.nc\n",
      "/home/jovyan/tide_models/fes2014/load_tide/n2.nc\n",
      "/home/jovyan/tide_models/fes2014/load_tide/o1.nc\n",
      "/home/jovyan/tide_models/fes2014/load_tide/k1.nc\n",
      "/home/jovyan/tide_models/fes2014/load_tide/eps2.nc\n",
      "/home/jovyan/tide_models/fes2014/load_tide/m6.nc\n",
      "/home/jovyan/tide_models/fes2014/load_tide/p1.nc\n",
      "/home/jovyan/tide_models/fes2014/load_tide/s1.nc\n",
      "/home/jovyan/tide_models/fes2014/load_tide/msf.nc\n",
      "/home/jovyan/tide_models/fes2014/load_tide/s2.nc\n",
      "/home/jovyan/tide_models/fes2014/load_tide/r2.nc\n"
     ]
    }
   ],
   "source": [
    "# Load, clip and export data\n",
    "for path in glob.glob('/home/jovyan/tide_models/fes2014/*/*.nc'):\n",
    "    print(path)\n",
    "    xr.open_mfdataset(path).sel(lon=slice(minx, maxx), lat=slice(miny, maxy)).to_netcdf(\n",
    "        path.replace(\"tide_models\", \"tide_models_clipped\"), mode=\"w\"\n",
    "    )"
   ]
  }
 ],
 "metadata": {
  "kernelspec": {
   "display_name": "Python 3 (ipykernel)",
   "language": "python",
   "name": "python3"
  },
  "language_info": {
   "codemirror_mode": {
    "name": "ipython",
    "version": 3
   },
   "file_extension": ".py",
   "mimetype": "text/x-python",
   "name": "python",
   "nbconvert_exporter": "python",
   "pygments_lexer": "ipython3",
   "version": "3.8.10"
  }
 },
 "nbformat": 4,
 "nbformat_minor": 5
}

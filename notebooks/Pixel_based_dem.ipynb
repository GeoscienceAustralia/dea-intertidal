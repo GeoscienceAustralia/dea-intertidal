{
 "cells": [
  {
   "cell_type": "markdown",
   "metadata": {},
   "source": [
    "## Getting started\n",
    "Set working directory to top level of repo to ensure links work correctly:"
   ]
  },
  {
   "cell_type": "code",
   "execution_count": 1,
   "metadata": {},
   "outputs": [
    {
     "name": "stdout",
     "output_type": "stream",
     "text": [
      "/g/data1a/r78/rt1527/dea-intertidal\n"
     ]
    }
   ],
   "source": [
    "cd .."
   ]
  },
  {
   "cell_type": "code",
   "execution_count": null,
   "metadata": {},
   "outputs": [],
   "source": [
    "pip install odc-geo --quiet"
   ]
  },
  {
   "cell_type": "code",
   "execution_count": null,
   "metadata": {},
   "outputs": [],
   "source": [
    "pip install git+https://github.com/digitalearthafrica/deafrica-coastlines.git --quiet --ignore-requires-python"
   ]
  },
  {
   "cell_type": "code",
   "execution_count": null,
   "metadata": {},
   "outputs": [],
   "source": [
    "pip install pygeos"
   ]
  },
  {
   "cell_type": "markdown",
   "metadata": {},
   "source": [
    "### Load packages"
   ]
  },
  {
   "cell_type": "code",
   "execution_count": 2,
   "metadata": {},
   "outputs": [
    {
     "name": "stderr",
     "output_type": "stream",
     "text": [
      "/home/561/rt1527/.digitalearthau/dea-env/20200713/local/lib/python3.6/site-packages/geopandas/_compat.py:110: UserWarning: The Shapely GEOS version (3.9.1-CAPI-1.14.2) is incompatible with the GEOS version PyGEOS was compiled with (3.10.1-CAPI-1.16.0). Conversions between both will be slow.\n",
      "  shapely_geos_version, geos_capi_version_string\n"
     ]
    },
    {
     "data": {
      "text/html": [
       "<table style=\"border: 2px solid white;\">\n",
       "<tr>\n",
       "<td style=\"vertical-align: top; border: 0px solid white\">\n",
       "<h3 style=\"text-align: left;\">Client</h3>\n",
       "<ul style=\"text-align: left; list-style: none; margin: 0; padding: 0;\">\n",
       "  <li><b>Scheduler: </b>tcp://127.0.0.1:40321</li>\n",
       "  <li><b>Dashboard: </b><a href='/proxy/8787/status' target='_blank'>/proxy/8787/status</a></li>\n",
       "</ul>\n",
       "</td>\n",
       "<td style=\"vertical-align: top; border: 0px solid white\">\n",
       "<h3 style=\"text-align: left;\">Cluster</h3>\n",
       "<ul style=\"text-align: left; list-style:none; margin: 0; padding: 0;\">\n",
       "  <li><b>Workers: </b>1</li>\n",
       "  <li><b>Cores: </b>16</li>\n",
       "  <li><b>Memory: </b>47.42 GB</li>\n",
       "</ul>\n",
       "</td>\n",
       "</tr>\n",
       "</table>"
      ],
      "text/plain": [
       "<Client: 'tcp://127.0.0.1:40321' processes=1 threads=16, memory=47.42 GB>"
      ]
     },
     "metadata": {},
     "output_type": "display_data"
    }
   ],
   "source": [
    "%load_ext autoreload\n",
    "%autoreload 2\n",
    "\n",
    "import datacube\n",
    "import xarray as xr\n",
    "import pandas as pd\n",
    "import numpy as np\n",
    "import geopandas as gpd\n",
    "import matplotlib.pyplot as plt\n",
    "from datacube.utils.cog import write_cog\n",
    "from datacube.utils.masking import mask_invalid_data\n",
    "from datacube.utils.geometry import GeoBox, Geometry\n",
    "from odc.algo import mask_cleanup\n",
    "# import odc.geo.xr\n",
    "\n",
    "from dea_tools.dask import create_local_dask_cluster\n",
    "from dea_tools.datahandling import mostcommon_crs\n",
    "from dea_tools.bandindices import calculate_indices\n",
    "from dea_tools.spatial import subpixel_contours, interpolate_2d, contours_to_arrays\n",
    "from dea_tools.coastal import tidal_tag\n",
    "from coastlines.raster import model_tides\n",
    "\n",
    "# Create local dask cluster to improve data load time\n",
    "client = create_local_dask_cluster(return_client=True)"
   ]
  },
  {
   "cell_type": "markdown",
   "metadata": {},
   "source": [
    "## Setup"
   ]
  },
  {
   "cell_type": "code",
   "execution_count": 3,
   "metadata": {},
   "outputs": [],
   "source": [
    "dc = datacube.Datacube(app='Intertidal_elevation')\n",
    "config = {'db_hostname': 'deadev.nci.org.au',\n",
    "          'db_port': 6432,\n",
    "          'db_database': 'ard_validation'}\n",
    "\n",
    "dc_s2 = datacube.Datacube(config=config)"
   ]
  },
  {
   "cell_type": "code",
   "execution_count": 147,
   "metadata": {},
   "outputs": [],
   "source": [
    "aoi = 'Wollogorang'\n",
    "# aoi = 'McCarthur River'\n",
    "# aoi = 'Greenbank'\n",
    "# aoi = 'Seven Emu'\n",
    "\n",
    "time_range = ('1988', '2021')\n",
    "resolution = 30"
   ]
  },
  {
   "cell_type": "code",
   "execution_count": 84,
   "metadata": {},
   "outputs": [
    {
     "data": {
      "image/svg+xml": [
       "<svg xmlns=\"http://www.w3.org/2000/svg\" xmlns:xlink=\"http://www.w3.org/1999/xlink\" width=\"300\" height=\"300\" viewBox=\"612810.6356875784 -1780984.5381528803 31532.47599851957 37496.838219255675\" preserveAspectRatio=\"xMinYMin meet\"><g transform=\"matrix(1,0,0,-1,0,-3524472.238086505)\"><path fill-rule=\"evenodd\" fill=\"#66cc99\" stroke=\"#555555\" stroke-width=\"249.9789214617045\" opacity=\"0.6\" d=\"M 642292.989911487,-1779595.766366982 L 642954.3399001996,-1774744.2523404507 L 637711.2246150511,-1767961.9761399543 L 629402.4842655273,-1762039.011431247 L 627869.9947655328,-1758003.3441753536 L 624781.2597288521,-1753410.2403487926 L 622004.3569234277,-1751245.1892496636 L 620853.6107286147,-1748943.9517018406 L 620652.4751888692,-1747788.5496294866 L 618652.8132805197,-1744876.471719523 L 616831.4808166893,-1745659.2567776132 L 614755.7603637219,-1750568.604647245 L 614199.4074734767,-1753944.0486097303 L 614809.6354017312,-1756262.8823137148 L 616785.8503643391,-1759703.5978607533 L 620591.142762451,-1763098.416587987 L 622305.4961274742,-1762843.3641079077 L 625148.0934642666,-1765379.073259616 L 625868.5491053237,-1767006.3862749184 L 629190.959052742,-1769973.079063012 L 632968.2009393249,-1771035.3617323565 L 636419.5824356237,-1772945.0928927574 L 639512.6408099221,-1775496.7198905589 L 640339.5950404194,-1777582.7106855805 L 642292.989911487,-1779595.766366982 z\" /></g></svg>"
      ],
      "text/plain": [
       "Geometry(POLYGON ((642292.989911487 -1779595.766366982, 642954.3399001996 -1774744.252340451, 637711.2246150511 -1767961.976139954, 629402.4842655273 -1762039.011431247, 627869.9947655328 -1758003.344175354, 624781.2597288521 -1753410.240348793, 622004.3569234277 -1751245.189249664, 620853.6107286147 -1748943.951701841, 620652.4751888692 -1747788.549629487, 618652.8132805197 -1744876.471719523, 616831.4808166893 -1745659.256777613, 614755.7603637219 -1750568.604647245, 614199.4074734767 -1753944.04860973, 614809.6354017312 -1756262.882313715, 616785.8503643391 -1759703.597860753, 620591.142762451 -1763098.416587987, 622305.4961274742 -1762843.364107908, 625148.0934642666 -1765379.073259616, 625868.5491053237 -1767006.386274918, 629190.959052742 -1769973.079063012, 632968.2009393249 -1771035.361732356, 636419.5824356237 -1772945.092892757, 639512.6408099221 -1775496.719890559, 640339.5950404194 -1777582.710685581, 642292.989911487 -1779595.766366982)), EPSG:3577)"
      ]
     },
     "execution_count": 84,
     "metadata": {},
     "output_type": "execute_result"
    }
   ],
   "source": [
    "# Import regions of interest\n",
    "aoi_gdf = gpd.read_file('data/raw/Phase_1_NT_Gov.geojson').set_index('Name').to_crs('EPSG:3577')\n",
    "aoi_gdf.head()\n",
    "\n",
    "# Select AOI\n",
    "geom = Geometry(geom=aoi_gdf.loc[aoi].geometry, crs='EPSG:3577')\n",
    "geom"
   ]
  },
  {
   "cell_type": "code",
   "execution_count": null,
   "metadata": {},
   "outputs": [],
   "source": [
    "# geom = Geometry({'type': 'Polygon',\n",
    "#  'coordinates': (((137.9131894269534, -16.46432284398703),\n",
    "#    (137.91386521089527, -16.50946407308006),\n",
    "#    (137.9606564431977, -16.50880589134397),\n",
    "#    (137.9599698457682, -16.463666561285812),\n",
    "#    (137.9131894269534, -16.46432284398703)),)}, crs='EPSG:4326')"
   ]
  },
  {
   "cell_type": "code",
   "execution_count": 85,
   "metadata": {},
   "outputs": [],
   "source": [
    "from datacube.virtual import catalog_from_file\n",
    "\n",
    "# Load in virtual product catalogue and select MNDWI product\n",
    "catalog = catalog_from_file('configs/dea_virtual_product_landsat_s2.yaml')"
   ]
  },
  {
   "cell_type": "code",
   "execution_count": 86,
   "metadata": {},
   "outputs": [
    {
     "data": {
      "application/vnd.jupyter.widget-view+json": {
       "model_id": "6fde3d387b0a4936a41edef3654dea38",
       "version_major": 2,
       "version_minor": 0
      },
      "text/plain": [
       "Map(center=[-26, 135], controls=(ZoomControl(options=['position', 'zoom_in_text', 'zoom_in_title', 'zoom_out_t…"
      ]
     },
     "metadata": {},
     "output_type": "display_data"
    }
   ],
   "source": [
    "from odc.ui import select_on_a_map\n",
    "from ipyleaflet import basemaps, basemap_to_tiles\n",
    "\n",
    "# Plot interactive map to select area\n",
    "basemap = basemap_to_tiles(basemaps.Esri.WorldImagery)\n",
    "geom = select_on_a_map(height='600px',\n",
    "                             layers=(basemap,),\n",
    "                             center=(-26, 135), \n",
    "                             zoom=4)"
   ]
  },
  {
   "cell_type": "code",
   "execution_count": 148,
   "metadata": {},
   "outputs": [],
   "source": [
    "# Create the 'query' dictionary object\n",
    "query_params = {\n",
    "    'geopolygon': geom,\n",
    "    'time': time_range,\n",
    "'dask_chunks': {'x': 2048, 'y': 2048}, \n",
    "'resolution': (-resolution, resolution),\n",
    "'output_crs': 'epsg:32753'}"
   ]
  },
  {
   "cell_type": "code",
   "execution_count": 59,
   "metadata": {},
   "outputs": [],
   "source": [
    "# product = catalog['s2_nbart_ndwi']\n",
    "# s2_ds = product.load(dc_s2, **query_params)\n",
    "\n",
    "# s2_masked = s2_ds.ndwi.where(s2_ds.cloud_mask==1)  #.compute()"
   ]
  },
  {
   "cell_type": "code",
   "execution_count": 149,
   "metadata": {},
   "outputs": [],
   "source": [
    "# Create the 'query' dictionary object\n",
    "query_params = {\n",
    "    \"geopolygon\": geom,\n",
    "    \"time\": time_range,\n",
    "    \"resolution\": (-resolution, resolution),\n",
    "    \"output_crs\": \"epsg:32753\",\n",
    "    \"dask_chunks\": {\"time\": 1, \"x\": 2048, \"y\": 2048},\n",
    "    \"resampling\": {\n",
    "        \"*\": \"cubic\",\n",
    "        \"oa_nbart_contiguity\": \"nearest\",\n",
    "        \"oa_fmask\": \"nearest\",\n",
    "        \"oa_s2cloudless_mask\": \"nearest\",\n",
    "    },\n",
    "}\n",
    "\n",
    "# Load Landsat data\n",
    "product = catalog[\"ls_nbart_ndwi\"]\n",
    "ls_ds = product.load(dc, **query_params)\n",
    "\n",
    "# Clean cloud mask by applying morphological closing to all \n",
    "# valid (non cloud, shadow or nodata) pixels. This removes \n",
    "# long, narrow features like false positives over bright beaches.\n",
    "a = ls_ds.cloud_mask.isin([1, 4, 5])\n",
    "good_data_cleaned = mask_cleanup(\n",
    "    mask=a,\n",
    "    mask_filters=[(\"closing\", 5)],\n",
    ")\n",
    "\n",
    "# Dilate cloud and shadow. To ensure that nodata areas (e.g. \n",
    "# Landsat 7 SLC off stripes) are not also dilated, only dilate \n",
    "# mask pixels (e.g. values 0 in `good_data_cleaned`) that are \n",
    "# outside of the original nodata pixels (e.g. not 0 in \n",
    "# `ls_ds.cloud_mask`)\n",
    "b = ((good_data_cleaned == 0) & (ls_ds.cloud_mask != 0))\n",
    "good_data_mask = mask_cleanup(\n",
    "    mask=b,\n",
    "    mask_filters=[(\"dilation\", 5)],\n",
    ")\n",
    "\n",
    "# Apply cloud mask and contiguity mask\n",
    "ls_ds_masked = ls_ds.where(~good_data_mask & ls_ds.contiguity)[['ndwi']]\n",
    "s2_masked = ls_ds_masked.compute()"
   ]
  },
  {
   "cell_type": "code",
   "execution_count": 221,
   "metadata": {},
   "outputs": [],
   "source": [
    "ls_test = ls_ds.sel(time='2004').load()"
   ]
  },
  {
   "cell_type": "code",
   "execution_count": 296,
   "metadata": {},
   "outputs": [
    {
     "data": {
      "text/plain": [
       "<matplotlib.image.AxesImage at 0x7f2afd06e0b8>"
      ]
     },
     "execution_count": 296,
     "metadata": {},
     "output_type": "execute_result"
    },
    {
     "data": {
      "image/png": "[encoded data removed]",
      "text/plain": [
       "<Figure size 720x720 with 2 Axes>"
      ]
     },
     "metadata": {
      "needs_background": "light"
     },
     "output_type": "display_data"
    }
   ],
   "source": [
    "cloud_shadow = ls_test.cloud_mask.isel(time=56).isin([2, 3])\n",
    "cloud_shadow.plot.imshow(figsize=(10, 10))"
   ]
  },
  {
   "cell_type": "code",
   "execution_count": 307,
   "metadata": {},
   "outputs": [
    {
     "data": {
      "text/plain": [
       "<matplotlib.image.AxesImage at 0x7f2b077fe860>"
      ]
     },
     "execution_count": 307,
     "metadata": {},
     "output_type": "execute_result"
    },
    {
     "data": {
      "image/png": "[encoded data removed]",
      "text/plain": [
       "<Figure size 720x720 with 2 Axes>"
      ]
     },
     "metadata": {
      "needs_background": "light"
     },
     "output_type": "display_data"
    }
   ],
   "source": [
    "mask_cleanup(\n",
    "    mask=cloud_shadow,\n",
    "    mask_filters=[(\"closing\", 6), (\"opening\", 10), (\"dilation\", 5)],\n",
    ").plot.imshow(figsize=(10, 10))"
   ]
  },
  {
   "cell_type": "code",
   "execution_count": 305,
   "metadata": {},
   "outputs": [
    {
     "data": {
      "text/plain": [
       "<matplotlib.image.AxesImage at 0x7f2b075ad400>"
      ]
     },
     "execution_count": 305,
     "metadata": {},
     "output_type": "execute_result"
    },
    {
     "data": {
      "image/png": "[encoded data removed]",
      "text/plain": [
       "<Figure size 720x720 with 2 Axes>"
      ]
     },
     "metadata": {
      "needs_background": "light"
     },
     "output_type": "display_data"
    }
   ],
   "source": [
    "good_data_mask.sel(time='2004-09-06').squeeze('time').plot.imshow(figsize=(10, 10))"
   ]
  },
  {
   "cell_type": "code",
   "execution_count": 285,
   "metadata": {},
   "outputs": [
    {
     "data": {
      "text/plain": [
       "<matplotlib.collections.QuadMesh at 0x7f2afd5cb4e0>"
      ]
     },
     "execution_count": 285,
     "metadata": {},
     "output_type": "execute_result"
    },
    {
     "data": {
      "image/png": "[encoded data removed]",
      "text/plain": [
       "<Figure size 432x288 with 2 Axes>"
      ]
     },
     "metadata": {
      "needs_background": "light"
     },
     "output_type": "display_data"
    }
   ],
   "source": [
    "ls_test.isel(time=56).ndwi.plot()"
   ]
  },
  {
   "cell_type": "code",
   "execution_count": 150,
   "metadata": {},
   "outputs": [
    {
     "name": "stdout",
     "output_type": "stream",
     "text": [
      "Setting tide modelling location from dataset centroid: 137.93, -16.48\n"
     ]
    }
   ],
   "source": [
    "s2_tide = tidal_tag(s2_masked.ndwi, swap_dims=True)"
   ]
  },
  {
   "cell_type": "code",
   "execution_count": 182,
   "metadata": {},
   "outputs": [
    {
     "data": {
      "text/plain": [
       "<matplotlib.lines.Line2D at 0x7f2b1e275898>"
      ]
     },
     "execution_count": 182,
     "metadata": {},
     "output_type": "execute_result"
    },
    {
     "data": {
      "image/png": "[encoded data removed]",
      "text/plain": [
       "<Figure size 432x288 with 1 Axes>"
      ]
     },
     "metadata": {
      "needs_background": "light"
     },
     "output_type": "display_data"
    }
   ],
   "source": [
    "# pixel = s2_tide.isel(x=306, y=235)\n",
    "pixel = s2_tide.sel(x=814409.93411765,  y=8174583.00941177, method='nearest')\n",
    "\n",
    "df = pixel.to_dataframe()[['ndwi']].reset_index()\n",
    "\n",
    "# df_median = df\n",
    "df_median = df.rolling(200, min_periods=10, center=True).median()\n",
    "# df_stdev = df.rolling(50, min_periods=10, center=True).std()\n",
    "df_min = df_median - df_stdev\n",
    "df_max = df_median + df_stdev\n",
    "# df_min = df.rolling(20, min_periods=5, center=True).quantile(0.05)\n",
    "# df_max= df.rolling(20, min_periods=5, center=True).quantile(0.95)\n",
    "\n",
    "fig, ax = plt.subplots(1, 1)\n",
    "ax.scatter(x=df_median.tide_height, y=df_median.ndwi)\n",
    "ax.axvline(df_median.where(df_median.ndwi > 0).tide_height.min())\n",
    "ax.axhline(0)\n",
    "\n",
    "# ax.scatter(x=df_min.tide_height, y=df_min.ndwi)\n",
    "# ax.axvline(df_min.where(df_min.ndwi > 0).tide_height.min())\n",
    "# ax.axhline(0)\n",
    "\n",
    "# ax.scatter(x=df_max.tide_height, y=df_max.ndwi)\n",
    "# ax.axvline(df_max.where(df_max.ndwi > 0).tide_height.min())\n",
    "# ax.axhline(0)  "
   ]
  },
  {
   "cell_type": "code",
   "execution_count": null,
   "metadata": {},
   "outputs": [],
   "source": [
    "from odc.algo import xr_quantile"
   ]
  },
  {
   "cell_type": "code",
   "execution_count": null,
   "metadata": {},
   "outputs": [],
   "source": [
    "from odc.algo._percentile import np_percentile"
   ]
  },
  {
   "cell_type": "code",
   "execution_count": null,
   "metadata": {},
   "outputs": [],
   "source": [
    "# s2_rolling = s2_tide.chunk({'tide_height': 20}).rolling(tide_height=20, min_periods=5, center=True).median()"
   ]
  },
  {
   "cell_type": "code",
   "execution_count": null,
   "metadata": {},
   "outputs": [],
   "source": [
    "# s2_tide.persist()"
   ]
  },
  {
   "cell_type": "code",
   "execution_count": null,
   "metadata": {},
   "outputs": [],
   "source": [
    "# s2_rolling = s2_tide.chunk({'tide_height': None, 'x': 200, 'y': 200}).rolling(tide_height=20, min_periods=5).mean()\n",
    "# s2_std = s2_tide.chunk({'tide_height': None, 'x': 200, 'y': 200}).rolling(tide_height=20, min_periods=5, center=True).std()"
   ]
  },
  {
   "cell_type": "code",
   "execution_count": 186,
   "metadata": {},
   "outputs": [],
   "source": [
    "s2_rolling = s2_tide.rolling(tide_height=200, min_periods=5).median()\n",
    "# s2_std = s2_tide.rolling(tide_height=60, min_periods=10, center=True).std()"
   ]
  },
  {
   "cell_type": "code",
   "execution_count": 137,
   "metadata": {},
   "outputs": [],
   "source": [
    "# s2_min = s2_rolling - s2_std\n",
    "# s2_max = s2_rolling + s2_std"
   ]
  },
  {
   "cell_type": "code",
   "execution_count": 187,
   "metadata": {},
   "outputs": [
    {
     "data": {
      "text/html": [
       "<div><svg style=\"position: absolute; width: 0; height: 0; overflow: hidden\">\n",
       "<defs>\n",
       "<symbol id=\"icon-database\" viewBox=\"0 0 32 32\">\n",
       "<path d=\"M16 0c-8.837 0-16 2.239-16 5v4c0 2.761 7.163 5 16 5s16-2.239 16-5v-4c0-2.761-7.163-5-16-5z\"></path>\n",
       "<path d=\"M16 17c-8.837 0-16-2.239-16-5v6c0 2.761 7.163 5 16 5s16-2.239 16-5v-6c0 2.761-7.163 5-16 5z\"></path>\n",
       "<path d=\"M16 26c-8.837 0-16-2.239-16-5v6c0 2.761 7.163 5 16 5s16-2.239 16-5v-6c0 2.761-7.163 5-16 5z\"></path>\n",
       "</symbol>\n",
       "<symbol id=\"icon-file-text2\" viewBox=\"0 0 32 32\">\n",
       "<path d=\"M28.681 7.159c-0.694-0.947-1.662-2.053-2.724-3.116s-2.169-2.030-3.116-2.724c-1.612-1.182-2.393-1.319-2.841-1.319h-15.5c-1.378 0-2.5 1.121-2.5 2.5v27c0 1.378 1.122 2.5 2.5 2.5h23c1.378 0 2.5-1.122 2.5-2.5v-19.5c0-0.448-0.137-1.23-1.319-2.841zM24.543 5.457c0.959 0.959 1.712 1.825 2.268 2.543h-4.811v-4.811c0.718 0.556 1.584 1.309 2.543 2.268zM28 29.5c0 0.271-0.229 0.5-0.5 0.5h-23c-0.271 0-0.5-0.229-0.5-0.5v-27c0-0.271 0.229-0.5 0.5-0.5 0 0 15.499-0 15.5 0v7c0 0.552 0.448 1 1 1h7v19.5z\"></path>\n",
       "<path d=\"M23 26h-14c-0.552 0-1-0.448-1-1s0.448-1 1-1h14c0.552 0 1 0.448 1 1s-0.448 1-1 1z\"></path>\n",
       "<path d=\"M23 22h-14c-0.552 0-1-0.448-1-1s0.448-1 1-1h14c0.552 0 1 0.448 1 1s-0.448 1-1 1z\"></path>\n",
       "<path d=\"M23 18h-14c-0.552 0-1-0.448-1-1s0.448-1 1-1h14c0.552 0 1 0.448 1 1s-0.448 1-1 1z\"></path>\n",
       "</symbol>\n",
       "</defs>\n",
       "</svg>\n",
       "<style>/* CSS stylesheet for displaying xarray objects in jupyterlab.\n",
       " *\n",
       " */\n",
       "\n",
       ":root {\n",
       "  --xr-font-color0: var(--jp-content-font-color0, rgba(0, 0, 0, 1));\n",
       "  --xr-font-color2: var(--jp-content-font-color2, rgba(0, 0, 0, 0.54));\n",
       "  --xr-font-color3: var(--jp-content-font-color3, rgba(0, 0, 0, 0.38));\n",
       "  --xr-border-color: var(--jp-border-color2, #e0e0e0);\n",
       "  --xr-disabled-color: var(--jp-layout-color3, #bdbdbd);\n",
       "  --xr-background-color: var(--jp-layout-color0, white);\n",
       "  --xr-background-color-row-even: var(--jp-layout-color1, white);\n",
       "  --xr-background-color-row-odd: var(--jp-layout-color2, #eeeeee);\n",
       "}\n",
       "\n",
       "html[theme=dark],\n",
       "body.vscode-dark {\n",
       "  --xr-font-color0: rgba(255, 255, 255, 1);\n",
       "  --xr-font-color2: rgba(255, 255, 255, 0.54);\n",
       "  --xr-font-color3: rgba(255, 255, 255, 0.38);\n",
       "  --xr-border-color: #1F1F1F;\n",
       "  --xr-disabled-color: #515151;\n",
       "  --xr-background-color: #111111;\n",
       "  --xr-background-color-row-even: #111111;\n",
       "  --xr-background-color-row-odd: #313131;\n",
       "}\n",
       "\n",
       ".xr-wrap {\n",
       "  display: block;\n",
       "  min-width: 300px;\n",
       "  max-width: 700px;\n",
       "}\n",
       "\n",
       ".xr-text-repr-fallback {\n",
       "  /* fallback to plain text repr when CSS is not injected (untrusted notebook) */\n",
       "  display: none;\n",
       "}\n",
       "\n",
       ".xr-header {\n",
       "  padding-top: 6px;\n",
       "  padding-bottom: 6px;\n",
       "  margin-bottom: 4px;\n",
       "  border-bottom: solid 1px var(--xr-border-color);\n",
       "}\n",
       "\n",
       ".xr-header > div,\n",
       ".xr-header > ul {\n",
       "  display: inline;\n",
       "  margin-top: 0;\n",
       "  margin-bottom: 0;\n",
       "}\n",
       "\n",
       ".xr-obj-type,\n",
       ".xr-array-name {\n",
       "  margin-left: 2px;\n",
       "  margin-right: 10px;\n",
       "}\n",
       "\n",
       ".xr-obj-type {\n",
       "  color: var(--xr-font-color2);\n",
       "}\n",
       "\n",
       ".xr-sections {\n",
       "  padding-left: 0 !important;\n",
       "  display: grid;\n",
       "  grid-template-columns: 150px auto auto 1fr 20px 20px;\n",
       "}\n",
       "\n",
       ".xr-section-item {\n",
       "  display: contents;\n",
       "}\n",
       "\n",
       ".xr-section-item input {\n",
       "  display: none;\n",
       "}\n",
       "\n",
       ".xr-section-item input + label {\n",
       "  color: var(--xr-disabled-color);\n",
       "}\n",
       "\n",
       ".xr-section-item input:enabled + label {\n",
       "  cursor: pointer;\n",
       "  color: var(--xr-font-color2);\n",
       "}\n",
       "\n",
       ".xr-section-item input:enabled + label:hover {\n",
       "  color: var(--xr-font-color0);\n",
       "}\n",
       "\n",
       ".xr-section-summary {\n",
       "  grid-column: 1;\n",
       "  color: var(--xr-font-color2);\n",
       "  font-weight: 500;\n",
       "}\n",
       "\n",
       ".xr-section-summary > span {\n",
       "  display: inline-block;\n",
       "  padding-left: 0.5em;\n",
       "}\n",
       "\n",
       ".xr-section-summary-in:disabled + label {\n",
       "  color: var(--xr-font-color2);\n",
       "}\n",
       "\n",
       ".xr-section-summary-in + label:before {\n",
       "  display: inline-block;\n",
       "  content: '►';\n",
       "  font-size: 11px;\n",
       "  width: 15px;\n",
       "  text-align: center;\n",
       "}\n",
       "\n",
       ".xr-section-summary-in:disabled + label:before {\n",
       "  color: var(--xr-disabled-color);\n",
       "}\n",
       "\n",
       ".xr-section-summary-in:checked + label:before {\n",
       "  content: '▼';\n",
       "}\n",
       "\n",
       ".xr-section-summary-in:checked + label > span {\n",
       "  display: none;\n",
       "}\n",
       "\n",
       ".xr-section-summary,\n",
       ".xr-section-inline-details {\n",
       "  padding-top: 4px;\n",
       "  padding-bottom: 4px;\n",
       "}\n",
       "\n",
       ".xr-section-inline-details {\n",
       "  grid-column: 2 / -1;\n",
       "}\n",
       "\n",
       ".xr-section-details {\n",
       "  display: none;\n",
       "  grid-column: 1 / -1;\n",
       "  margin-bottom: 5px;\n",
       "}\n",
       "\n",
       ".xr-section-summary-in:checked ~ .xr-section-details {\n",
       "  display: contents;\n",
       "}\n",
       "\n",
       ".xr-array-wrap {\n",
       "  grid-column: 1 / -1;\n",
       "  display: grid;\n",
       "  grid-template-columns: 20px auto;\n",
       "}\n",
       "\n",
       ".xr-array-wrap > label {\n",
       "  grid-column: 1;\n",
       "  vertical-align: top;\n",
       "}\n",
       "\n",
       ".xr-preview {\n",
       "  color: var(--xr-font-color3);\n",
       "}\n",
       "\n",
       ".xr-array-preview,\n",
       ".xr-array-data {\n",
       "  padding: 0 5px !important;\n",
       "  grid-column: 2;\n",
       "}\n",
       "\n",
       ".xr-array-data,\n",
       ".xr-array-in:checked ~ .xr-array-preview {\n",
       "  display: none;\n",
       "}\n",
       "\n",
       ".xr-array-in:checked ~ .xr-array-data,\n",
       ".xr-array-preview {\n",
       "  display: inline-block;\n",
       "}\n",
       "\n",
       ".xr-dim-list {\n",
       "  display: inline-block !important;\n",
       "  list-style: none;\n",
       "  padding: 0 !important;\n",
       "  margin: 0;\n",
       "}\n",
       "\n",
       ".xr-dim-list li {\n",
       "  display: inline-block;\n",
       "  padding: 0;\n",
       "  margin: 0;\n",
       "}\n",
       "\n",
       ".xr-dim-list:before {\n",
       "  content: '(';\n",
       "}\n",
       "\n",
       ".xr-dim-list:after {\n",
       "  content: ')';\n",
       "}\n",
       "\n",
       ".xr-dim-list li:not(:last-child):after {\n",
       "  content: ',';\n",
       "  padding-right: 5px;\n",
       "}\n",
       "\n",
       ".xr-has-index {\n",
       "  font-weight: bold;\n",
       "}\n",
       "\n",
       ".xr-var-list,\n",
       ".xr-var-item {\n",
       "  display: contents;\n",
       "}\n",
       "\n",
       ".xr-var-item > div,\n",
       ".xr-var-item label,\n",
       ".xr-var-item > .xr-var-name span {\n",
       "  background-color: var(--xr-background-color-row-even);\n",
       "  margin-bottom: 0;\n",
       "}\n",
       "\n",
       ".xr-var-item > .xr-var-name:hover span {\n",
       "  padding-right: 5px;\n",
       "}\n",
       "\n",
       ".xr-var-list > li:nth-child(odd) > div,\n",
       ".xr-var-list > li:nth-child(odd) > label,\n",
       ".xr-var-list > li:nth-child(odd) > .xr-var-name span {\n",
       "  background-color: var(--xr-background-color-row-odd);\n",
       "}\n",
       "\n",
       ".xr-var-name {\n",
       "  grid-column: 1;\n",
       "}\n",
       "\n",
       ".xr-var-dims {\n",
       "  grid-column: 2;\n",
       "}\n",
       "\n",
       ".xr-var-dtype {\n",
       "  grid-column: 3;\n",
       "  text-align: right;\n",
       "  color: var(--xr-font-color2);\n",
       "}\n",
       "\n",
       ".xr-var-preview {\n",
       "  grid-column: 4;\n",
       "}\n",
       "\n",
       ".xr-var-name,\n",
       ".xr-var-dims,\n",
       ".xr-var-dtype,\n",
       ".xr-preview,\n",
       ".xr-attrs dt {\n",
       "  white-space: nowrap;\n",
       "  overflow: hidden;\n",
       "  text-overflow: ellipsis;\n",
       "  padding-right: 10px;\n",
       "}\n",
       "\n",
       ".xr-var-name:hover,\n",
       ".xr-var-dims:hover,\n",
       ".xr-var-dtype:hover,\n",
       ".xr-attrs dt:hover {\n",
       "  overflow: visible;\n",
       "  width: auto;\n",
       "  z-index: 1;\n",
       "}\n",
       "\n",
       ".xr-var-attrs,\n",
       ".xr-var-data {\n",
       "  display: none;\n",
       "  background-color: var(--xr-background-color) !important;\n",
       "  padding-bottom: 5px !important;\n",
       "}\n",
       "\n",
       ".xr-var-attrs-in:checked ~ .xr-var-attrs,\n",
       ".xr-var-data-in:checked ~ .xr-var-data {\n",
       "  display: block;\n",
       "}\n",
       "\n",
       ".xr-var-data > table {\n",
       "  float: right;\n",
       "}\n",
       "\n",
       ".xr-var-name span,\n",
       ".xr-var-data,\n",
       ".xr-attrs {\n",
       "  padding-left: 25px !important;\n",
       "}\n",
       "\n",
       ".xr-attrs,\n",
       ".xr-var-attrs,\n",
       ".xr-var-data {\n",
       "  grid-column: 1 / -1;\n",
       "}\n",
       "\n",
       "dl.xr-attrs {\n",
       "  padding: 0;\n",
       "  margin: 0;\n",
       "  display: grid;\n",
       "  grid-template-columns: 125px auto;\n",
       "}\n",
       "\n",
       ".xr-attrs dt, dd {\n",
       "  padding: 0;\n",
       "  margin: 0;\n",
       "  float: left;\n",
       "  padding-right: 10px;\n",
       "  width: auto;\n",
       "}\n",
       "\n",
       ".xr-attrs dt {\n",
       "  font-weight: normal;\n",
       "  grid-column: 1;\n",
       "}\n",
       "\n",
       ".xr-attrs dt:hover span {\n",
       "  display: inline-block;\n",
       "  background: var(--xr-background-color);\n",
       "  padding-right: 10px;\n",
       "}\n",
       "\n",
       ".xr-attrs dd {\n",
       "  grid-column: 2;\n",
       "  white-space: pre-wrap;\n",
       "  word-break: break-all;\n",
       "}\n",
       "\n",
       ".xr-icon-database,\n",
       ".xr-icon-file-text2 {\n",
       "  display: inline-block;\n",
       "  vertical-align: middle;\n",
       "  width: 1em;\n",
       "  height: 1.5em !important;\n",
       "  stroke-width: 0;\n",
       "  stroke: currentColor;\n",
       "  fill: currentColor;\n",
       "}\n",
       "</style><pre class='xr-text-repr-fallback'>&lt;xarray.DataArray (tide_height: 1995, y: 402, x: 476)&gt;\n",
       "array([[[-1.364, -1.364, -1.364, ..., -1.364, -1.364, -1.364],\n",
       "        [-1.364, -1.364, -1.364, ..., -1.364, -1.364, -1.364],\n",
       "        [-1.364, -1.364, -1.364, ..., -1.364, -1.364, -1.364],\n",
       "        ...,\n",
       "        [-1.364, -1.364, -1.364, ..., -1.364, -1.364, -1.364],\n",
       "        [-1.364, -1.364, -1.364, ..., -1.364, -1.364, -1.364],\n",
       "        [-1.364, -1.364, -1.364, ..., -1.364, -1.364, -1.364]],\n",
       "\n",
       "       [[-1.338, -1.338, -1.338, ..., -1.338, -1.338, -1.338],\n",
       "        [-1.338, -1.338, -1.338, ..., -1.338, -1.338, -1.338],\n",
       "        [-1.338, -1.338, -1.338, ..., -1.338, -1.338, -1.338],\n",
       "        ...,\n",
       "        [-1.338, -1.338, -1.338, ..., -1.338, -1.338, -1.338],\n",
       "        [-1.338, -1.338, -1.338, ..., -1.338, -1.338, -1.338],\n",
       "        [-1.338, -1.338, -1.338, ..., -1.338, -1.338, -1.338]],\n",
       "\n",
       "       [[-1.318, -1.318, -1.318, ..., -1.318, -1.318, -1.318],\n",
       "        [-1.318, -1.318, -1.318, ..., -1.318, -1.318, -1.318],\n",
       "        [-1.318, -1.318, -1.318, ..., -1.318, -1.318, -1.318],\n",
       "        ...,\n",
       "...\n",
       "        ...,\n",
       "        [ 0.805,  0.805,  0.805, ...,  0.805,  0.805,  0.805],\n",
       "        [ 0.805,  0.805,  0.805, ...,  0.805,  0.805,  0.805],\n",
       "        [ 0.805,  0.805,  0.805, ...,  0.805,  0.805,  0.805]],\n",
       "\n",
       "       [[ 0.816,  0.816,  0.816, ...,  0.816,  0.816,  0.816],\n",
       "        [ 0.816,  0.816,  0.816, ...,  0.816,  0.816,  0.816],\n",
       "        [ 0.816,  0.816,  0.816, ...,  0.816,  0.816,  0.816],\n",
       "        ...,\n",
       "        [ 0.816,  0.816,  0.816, ...,  0.816,  0.816,  0.816],\n",
       "        [ 0.816,  0.816,  0.816, ...,  0.816,  0.816,  0.816],\n",
       "        [ 0.816,  0.816,  0.816, ...,  0.816,  0.816,  0.816]],\n",
       "\n",
       "       [[ 0.827,  0.827,  0.827, ...,  0.827,  0.827,  0.827],\n",
       "        [ 0.827,  0.827,  0.827, ...,  0.827,  0.827,  0.827],\n",
       "        [ 0.827,  0.827,  0.827, ...,  0.827,  0.827,  0.827],\n",
       "        ...,\n",
       "        [ 0.827,  0.827,  0.827, ...,  0.827,  0.827,  0.827],\n",
       "        [ 0.827,  0.827,  0.827, ...,  0.827,  0.827,  0.827],\n",
       "        [ 0.827,  0.827,  0.827, ...,  0.827,  0.827,  0.827]]])\n",
       "Coordinates:\n",
       "    spatial_ref  int32 32753\n",
       "  * y            (y) float64 8.181e+06 8.181e+06 ... 8.169e+06 8.169e+06\n",
       "  * x            (x) float64 8.059e+05 8.06e+05 8.06e+05 ... 8.202e+05 8.202e+05\n",
       "  * tide_height  (tide_height) float64 -1.364 -1.338 -1.318 ... 0.816 0.827</pre><div class='xr-wrap' hidden><div class='xr-header'><div class='xr-obj-type'>xarray.DataArray</div><div class='xr-array-name'></div><ul class='xr-dim-list'><li><span class='xr-has-index'>tide_height</span>: 1995</li><li><span class='xr-has-index'>y</span>: 402</li><li><span class='xr-has-index'>x</span>: 476</li></ul></div><ul class='xr-sections'><li class='xr-section-item'><div class='xr-array-wrap'><input id='section-743f9c5d-47f3-46b2-ab5c-8dcd7512348c' class='xr-array-in' type='checkbox' checked><label for='section-743f9c5d-47f3-46b2-ab5c-8dcd7512348c' title='Show/hide data repr'><svg class='icon xr-icon-database'><use xlink:href='#icon-database'></use></svg></label><div class='xr-array-preview xr-preview'><span>-1.364 -1.364 -1.364 -1.364 -1.364 ... 0.827 0.827 0.827 0.827 0.827</span></div><div class='xr-array-data'><pre>array([[[-1.364, -1.364, -1.364, ..., -1.364, -1.364, -1.364],\n",
       "        [-1.364, -1.364, -1.364, ..., -1.364, -1.364, -1.364],\n",
       "        [-1.364, -1.364, -1.364, ..., -1.364, -1.364, -1.364],\n",
       "        ...,\n",
       "        [-1.364, -1.364, -1.364, ..., -1.364, -1.364, -1.364],\n",
       "        [-1.364, -1.364, -1.364, ..., -1.364, -1.364, -1.364],\n",
       "        [-1.364, -1.364, -1.364, ..., -1.364, -1.364, -1.364]],\n",
       "\n",
       "       [[-1.338, -1.338, -1.338, ..., -1.338, -1.338, -1.338],\n",
       "        [-1.338, -1.338, -1.338, ..., -1.338, -1.338, -1.338],\n",
       "        [-1.338, -1.338, -1.338, ..., -1.338, -1.338, -1.338],\n",
       "        ...,\n",
       "        [-1.338, -1.338, -1.338, ..., -1.338, -1.338, -1.338],\n",
       "        [-1.338, -1.338, -1.338, ..., -1.338, -1.338, -1.338],\n",
       "        [-1.338, -1.338, -1.338, ..., -1.338, -1.338, -1.338]],\n",
       "\n",
       "       [[-1.318, -1.318, -1.318, ..., -1.318, -1.318, -1.318],\n",
       "        [-1.318, -1.318, -1.318, ..., -1.318, -1.318, -1.318],\n",
       "        [-1.318, -1.318, -1.318, ..., -1.318, -1.318, -1.318],\n",
       "        ...,\n",
       "...\n",
       "        ...,\n",
       "        [ 0.805,  0.805,  0.805, ...,  0.805,  0.805,  0.805],\n",
       "        [ 0.805,  0.805,  0.805, ...,  0.805,  0.805,  0.805],\n",
       "        [ 0.805,  0.805,  0.805, ...,  0.805,  0.805,  0.805]],\n",
       "\n",
       "       [[ 0.816,  0.816,  0.816, ...,  0.816,  0.816,  0.816],\n",
       "        [ 0.816,  0.816,  0.816, ...,  0.816,  0.816,  0.816],\n",
       "        [ 0.816,  0.816,  0.816, ...,  0.816,  0.816,  0.816],\n",
       "        ...,\n",
       "        [ 0.816,  0.816,  0.816, ...,  0.816,  0.816,  0.816],\n",
       "        [ 0.816,  0.816,  0.816, ...,  0.816,  0.816,  0.816],\n",
       "        [ 0.816,  0.816,  0.816, ...,  0.816,  0.816,  0.816]],\n",
       "\n",
       "       [[ 0.827,  0.827,  0.827, ...,  0.827,  0.827,  0.827],\n",
       "        [ 0.827,  0.827,  0.827, ...,  0.827,  0.827,  0.827],\n",
       "        [ 0.827,  0.827,  0.827, ...,  0.827,  0.827,  0.827],\n",
       "        ...,\n",
       "        [ 0.827,  0.827,  0.827, ...,  0.827,  0.827,  0.827],\n",
       "        [ 0.827,  0.827,  0.827, ...,  0.827,  0.827,  0.827],\n",
       "        [ 0.827,  0.827,  0.827, ...,  0.827,  0.827,  0.827]]])</pre></div></div></li><li class='xr-section-item'><input id='section-b94253ac-99f6-466d-9b31-f02bce62dc72' class='xr-section-summary-in' type='checkbox'  checked><label for='section-b94253ac-99f6-466d-9b31-f02bce62dc72' class='xr-section-summary' >Coordinates: <span>(4)</span></label><div class='xr-section-inline-details'></div><div class='xr-section-details'><ul class='xr-var-list'><li class='xr-var-item'><div class='xr-var-name'><span>spatial_ref</span></div><div class='xr-var-dims'>()</div><div class='xr-var-dtype'>int32</div><div class='xr-var-preview xr-preview'>32753</div><input id='attrs-4a2a252a-79ff-4e5e-94de-baff1b1dd473' class='xr-var-attrs-in' type='checkbox' ><label for='attrs-4a2a252a-79ff-4e5e-94de-baff1b1dd473' title='Show/Hide attributes'><svg class='icon xr-icon-file-text2'><use xlink:href='#icon-file-text2'></use></svg></label><input id='data-2db68a69-65b5-41ba-b728-5fa25c4aa4e3' class='xr-var-data-in' type='checkbox'><label for='data-2db68a69-65b5-41ba-b728-5fa25c4aa4e3' title='Show/Hide data repr'><svg class='icon xr-icon-database'><use xlink:href='#icon-database'></use></svg></label><div class='xr-var-attrs'><dl class='xr-attrs'><dt><span>spatial_ref :</span></dt><dd>PROJCS[&quot;WGS 84 / UTM zone 53S&quot;,GEOGCS[&quot;WGS 84&quot;,DATUM[&quot;WGS_1984&quot;,SPHEROID[&quot;WGS 84&quot;,6378137,298.257223563,AUTHORITY[&quot;EPSG&quot;,&quot;7030&quot;]],AUTHORITY[&quot;EPSG&quot;,&quot;6326&quot;]],PRIMEM[&quot;Greenwich&quot;,0,AUTHORITY[&quot;EPSG&quot;,&quot;8901&quot;]],UNIT[&quot;degree&quot;,0.0174532925199433,AUTHORITY[&quot;EPSG&quot;,&quot;9122&quot;]],AUTHORITY[&quot;EPSG&quot;,&quot;4326&quot;]],PROJECTION[&quot;Transverse_Mercator&quot;],PARAMETER[&quot;latitude_of_origin&quot;,0],PARAMETER[&quot;central_meridian&quot;,135],PARAMETER[&quot;scale_factor&quot;,0.9996],PARAMETER[&quot;false_easting&quot;,500000],PARAMETER[&quot;false_northing&quot;,10000000],UNIT[&quot;metre&quot;,1,AUTHORITY[&quot;EPSG&quot;,&quot;9001&quot;]],AXIS[&quot;Easting&quot;,EAST],AXIS[&quot;Northing&quot;,NORTH],AUTHORITY[&quot;EPSG&quot;,&quot;32753&quot;]]</dd><dt><span>grid_mapping_name :</span></dt><dd>transverse_mercator</dd></dl></div><div class='xr-var-data'><pre>array(32753, dtype=int32)</pre></div></li><li class='xr-var-item'><div class='xr-var-name'><span class='xr-has-index'>y</span></div><div class='xr-var-dims'>(y)</div><div class='xr-var-dtype'>float64</div><div class='xr-var-preview xr-preview'>8.181e+06 8.181e+06 ... 8.169e+06</div><input id='attrs-eb4e441c-44b7-4322-86a9-c50c27b39764' class='xr-var-attrs-in' type='checkbox' ><label for='attrs-eb4e441c-44b7-4322-86a9-c50c27b39764' title='Show/Hide attributes'><svg class='icon xr-icon-file-text2'><use xlink:href='#icon-file-text2'></use></svg></label><input id='data-cca65450-2ef3-43b9-8b1a-857aa4949c2f' class='xr-var-data-in' type='checkbox'><label for='data-cca65450-2ef3-43b9-8b1a-857aa4949c2f' title='Show/Hide data repr'><svg class='icon xr-icon-database'><use xlink:href='#icon-database'></use></svg></label><div class='xr-var-attrs'><dl class='xr-attrs'><dt><span>units :</span></dt><dd>metre</dd><dt><span>resolution :</span></dt><dd>-30.0</dd><dt><span>crs :</span></dt><dd>epsg:32753</dd></dl></div><div class='xr-var-data'><pre>array([8181195., 8181165., 8181135., ..., 8169225., 8169195., 8169165.])</pre></div></li><li class='xr-var-item'><div class='xr-var-name'><span class='xr-has-index'>x</span></div><div class='xr-var-dims'>(x)</div><div class='xr-var-dtype'>float64</div><div class='xr-var-preview xr-preview'>8.059e+05 8.06e+05 ... 8.202e+05</div><input id='attrs-e7bb1905-2693-43cc-a587-6e430d328356' class='xr-var-attrs-in' type='checkbox' ><label for='attrs-e7bb1905-2693-43cc-a587-6e430d328356' title='Show/Hide attributes'><svg class='icon xr-icon-file-text2'><use xlink:href='#icon-file-text2'></use></svg></label><input id='data-914dbe79-f6c2-4c19-a93d-025fa71c0e63' class='xr-var-data-in' type='checkbox'><label for='data-914dbe79-f6c2-4c19-a93d-025fa71c0e63' title='Show/Hide data repr'><svg class='icon xr-icon-database'><use xlink:href='#icon-database'></use></svg></label><div class='xr-var-attrs'><dl class='xr-attrs'><dt><span>units :</span></dt><dd>metre</dd><dt><span>resolution :</span></dt><dd>30.0</dd><dt><span>crs :</span></dt><dd>epsg:32753</dd></dl></div><div class='xr-var-data'><pre>array([805935., 805965., 805995., ..., 820125., 820155., 820185.])</pre></div></li><li class='xr-var-item'><div class='xr-var-name'><span class='xr-has-index'>tide_height</span></div><div class='xr-var-dims'>(tide_height)</div><div class='xr-var-dtype'>float64</div><div class='xr-var-preview xr-preview'>-1.364 -1.338 ... 0.816 0.827</div><input id='attrs-b31f2503-7025-46b9-b448-12c4ba3c9834' class='xr-var-attrs-in' type='checkbox' disabled><label for='attrs-b31f2503-7025-46b9-b448-12c4ba3c9834' title='Show/Hide attributes'><svg class='icon xr-icon-file-text2'><use xlink:href='#icon-file-text2'></use></svg></label><input id='data-964cf37d-6ea5-4782-bd5a-01421f971887' class='xr-var-data-in' type='checkbox'><label for='data-964cf37d-6ea5-4782-bd5a-01421f971887' title='Show/Hide data repr'><svg class='icon xr-icon-database'><use xlink:href='#icon-database'></use></svg></label><div class='xr-var-attrs'><dl class='xr-attrs'></dl></div><div class='xr-var-data'><pre>array([-1.364, -1.338, -1.318, ...,  0.805,  0.816,  0.827])</pre></div></li></ul></div></li><li class='xr-section-item'><input id='section-345cbbf4-6ea3-4a27-95fb-749718c8adc6' class='xr-section-summary-in' type='checkbox' disabled ><label for='section-345cbbf4-6ea3-4a27-95fb-749718c8adc6' class='xr-section-summary'  title='Expand/collapse section'>Attributes: <span>(0)</span></label><div class='xr-section-inline-details'></div><div class='xr-section-details'><dl class='xr-attrs'></dl></div></li></ul></div></div>"
      ],
      "text/plain": [
       "<xarray.DataArray (tide_height: 1995, y: 402, x: 476)>\n",
       "array([[[-1.364, -1.364, -1.364, ..., -1.364, -1.364, -1.364],\n",
       "        [-1.364, -1.364, -1.364, ..., -1.364, -1.364, -1.364],\n",
       "        [-1.364, -1.364, -1.364, ..., -1.364, -1.364, -1.364],\n",
       "        ...,\n",
       "        [-1.364, -1.364, -1.364, ..., -1.364, -1.364, -1.364],\n",
       "        [-1.364, -1.364, -1.364, ..., -1.364, -1.364, -1.364],\n",
       "        [-1.364, -1.364, -1.364, ..., -1.364, -1.364, -1.364]],\n",
       "\n",
       "       [[-1.338, -1.338, -1.338, ..., -1.338, -1.338, -1.338],\n",
       "        [-1.338, -1.338, -1.338, ..., -1.338, -1.338, -1.338],\n",
       "        [-1.338, -1.338, -1.338, ..., -1.338, -1.338, -1.338],\n",
       "        ...,\n",
       "        [-1.338, -1.338, -1.338, ..., -1.338, -1.338, -1.338],\n",
       "        [-1.338, -1.338, -1.338, ..., -1.338, -1.338, -1.338],\n",
       "        [-1.338, -1.338, -1.338, ..., -1.338, -1.338, -1.338]],\n",
       "\n",
       "       [[-1.318, -1.318, -1.318, ..., -1.318, -1.318, -1.318],\n",
       "        [-1.318, -1.318, -1.318, ..., -1.318, -1.318, -1.318],\n",
       "        [-1.318, -1.318, -1.318, ..., -1.318, -1.318, -1.318],\n",
       "        ...,\n",
       "...\n",
       "        ...,\n",
       "        [ 0.805,  0.805,  0.805, ...,  0.805,  0.805,  0.805],\n",
       "        [ 0.805,  0.805,  0.805, ...,  0.805,  0.805,  0.805],\n",
       "        [ 0.805,  0.805,  0.805, ...,  0.805,  0.805,  0.805]],\n",
       "\n",
       "       [[ 0.816,  0.816,  0.816, ...,  0.816,  0.816,  0.816],\n",
       "        [ 0.816,  0.816,  0.816, ...,  0.816,  0.816,  0.816],\n",
       "        [ 0.816,  0.816,  0.816, ...,  0.816,  0.816,  0.816],\n",
       "        ...,\n",
       "        [ 0.816,  0.816,  0.816, ...,  0.816,  0.816,  0.816],\n",
       "        [ 0.816,  0.816,  0.816, ...,  0.816,  0.816,  0.816],\n",
       "        [ 0.816,  0.816,  0.816, ...,  0.816,  0.816,  0.816]],\n",
       "\n",
       "       [[ 0.827,  0.827,  0.827, ...,  0.827,  0.827,  0.827],\n",
       "        [ 0.827,  0.827,  0.827, ...,  0.827,  0.827,  0.827],\n",
       "        [ 0.827,  0.827,  0.827, ...,  0.827,  0.827,  0.827],\n",
       "        ...,\n",
       "        [ 0.827,  0.827,  0.827, ...,  0.827,  0.827,  0.827],\n",
       "        [ 0.827,  0.827,  0.827, ...,  0.827,  0.827,  0.827],\n",
       "        [ 0.827,  0.827,  0.827, ...,  0.827,  0.827,  0.827]]])\n",
       "Coordinates:\n",
       "    spatial_ref  int32 32753\n",
       "  * y            (y) float64 8.181e+06 8.181e+06 ... 8.169e+06 8.169e+06\n",
       "  * x            (x) float64 8.059e+05 8.06e+05 8.06e+05 ... 8.202e+05 8.202e+05\n",
       "  * tide_height  (tide_height) float64 -1.364 -1.338 -1.318 ... 0.816 0.827"
      ]
     },
     "execution_count": 187,
     "metadata": {},
     "output_type": "execute_result"
    }
   ],
   "source": [
    "a = s2_rolling.tide_height\n",
    "k=len(s2_rolling.tide_height)\n",
    "j=len(s2_rolling.y)\n",
    "i=len(s2_rolling.x)\n",
    "tide_3d = xr.DataArray(np.repeat(a.values, j*i).reshape((k, j, i)), coords=s2_rolling.coords)\n",
    "tide_3d"
   ]
  },
  {
   "cell_type": "code",
   "execution_count": 188,
   "metadata": {},
   "outputs": [],
   "source": [
    "def pixel_dem(ds, path):\n",
    "    \n",
    "    test_min = tide_3d.where(ds >= 0).min(dim='tide_height')\n",
    "    test_max = tide_3d.where(ds < 0).max(dim='tide_height')\n",
    "    \n",
    "#     dem = test_min.where(~test_max.isnull())\n",
    "    dem = ((test_max + test_min) / 2.0)\n",
    "#     dem.load()\n",
    "    \n",
    "#     dem.plot.imshow(vmax=0.5, vmin=-1.0, figsize=(15, 15))\n",
    "    write_cog(dem, path, overwrite=True)\n",
    "    \n",
    "pixel_dem(ds=s2_rolling, path='test_dem30yr_median_4.tif')\n",
    "    "
   ]
  },
  {
   "cell_type": "code",
   "execution_count": 208,
   "metadata": {},
   "outputs": [
    {
     "data": {
      "text/plain": [
       "[<matplotlib.lines.Line2D at 0x7f2b1dde3828>]"
      ]
     },
     "execution_count": 208,
     "metadata": {},
     "output_type": "execute_result"
    },
    {
     "data": {
      "image/png": "[encoded data removed]",
      "text/plain": [
       "<Figure size 432x288 with 1 Axes>"
      ]
     },
     "metadata": {
      "needs_background": "light"
     },
     "output_type": "display_data"
    }
   ],
   "source": [
    "line = s2_rolling.isel(x=300, y=200)\n",
    "line.plot()"
   ]
  },
  {
   "cell_type": "code",
   "execution_count": 219,
   "metadata": {},
   "outputs": [
    {
     "data": {
      "text/html": [
       "<div><svg style=\"position: absolute; width: 0; height: 0; overflow: hidden\">\n",
       "<defs>\n",
       "<symbol id=\"icon-database\" viewBox=\"0 0 32 32\">\n",
       "<path d=\"M16 0c-8.837 0-16 2.239-16 5v4c0 2.761 7.163 5 16 5s16-2.239 16-5v-4c0-2.761-7.163-5-16-5z\"></path>\n",
       "<path d=\"M16 17c-8.837 0-16-2.239-16-5v6c0 2.761 7.163 5 16 5s16-2.239 16-5v-6c0 2.761-7.163 5-16 5z\"></path>\n",
       "<path d=\"M16 26c-8.837 0-16-2.239-16-5v6c0 2.761 7.163 5 16 5s16-2.239 16-5v-6c0 2.761-7.163 5-16 5z\"></path>\n",
       "</symbol>\n",
       "<symbol id=\"icon-file-text2\" viewBox=\"0 0 32 32\">\n",
       "<path d=\"M28.681 7.159c-0.694-0.947-1.662-2.053-2.724-3.116s-2.169-2.030-3.116-2.724c-1.612-1.182-2.393-1.319-2.841-1.319h-15.5c-1.378 0-2.5 1.121-2.5 2.5v27c0 1.378 1.122 2.5 2.5 2.5h23c1.378 0 2.5-1.122 2.5-2.5v-19.5c0-0.448-0.137-1.23-1.319-2.841zM24.543 5.457c0.959 0.959 1.712 1.825 2.268 2.543h-4.811v-4.811c0.718 0.556 1.584 1.309 2.543 2.268zM28 29.5c0 0.271-0.229 0.5-0.5 0.5h-23c-0.271 0-0.5-0.229-0.5-0.5v-27c0-0.271 0.229-0.5 0.5-0.5 0 0 15.499-0 15.5 0v7c0 0.552 0.448 1 1 1h7v19.5z\"></path>\n",
       "<path d=\"M23 26h-14c-0.552 0-1-0.448-1-1s0.448-1 1-1h14c0.552 0 1 0.448 1 1s-0.448 1-1 1z\"></path>\n",
       "<path d=\"M23 22h-14c-0.552 0-1-0.448-1-1s0.448-1 1-1h14c0.552 0 1 0.448 1 1s-0.448 1-1 1z\"></path>\n",
       "<path d=\"M23 18h-14c-0.552 0-1-0.448-1-1s0.448-1 1-1h14c0.552 0 1 0.448 1 1s-0.448 1-1 1z\"></path>\n",
       "</symbol>\n",
       "</defs>\n",
       "</svg>\n",
       "<style>/* CSS stylesheet for displaying xarray objects in jupyterlab.\n",
       " *\n",
       " */\n",
       "\n",
       ":root {\n",
       "  --xr-font-color0: var(--jp-content-font-color0, rgba(0, 0, 0, 1));\n",
       "  --xr-font-color2: var(--jp-content-font-color2, rgba(0, 0, 0, 0.54));\n",
       "  --xr-font-color3: var(--jp-content-font-color3, rgba(0, 0, 0, 0.38));\n",
       "  --xr-border-color: var(--jp-border-color2, #e0e0e0);\n",
       "  --xr-disabled-color: var(--jp-layout-color3, #bdbdbd);\n",
       "  --xr-background-color: var(--jp-layout-color0, white);\n",
       "  --xr-background-color-row-even: var(--jp-layout-color1, white);\n",
       "  --xr-background-color-row-odd: var(--jp-layout-color2, #eeeeee);\n",
       "}\n",
       "\n",
       "html[theme=dark],\n",
       "body.vscode-dark {\n",
       "  --xr-font-color0: rgba(255, 255, 255, 1);\n",
       "  --xr-font-color2: rgba(255, 255, 255, 0.54);\n",
       "  --xr-font-color3: rgba(255, 255, 255, 0.38);\n",
       "  --xr-border-color: #1F1F1F;\n",
       "  --xr-disabled-color: #515151;\n",
       "  --xr-background-color: #111111;\n",
       "  --xr-background-color-row-even: #111111;\n",
       "  --xr-background-color-row-odd: #313131;\n",
       "}\n",
       "\n",
       ".xr-wrap {\n",
       "  display: block;\n",
       "  min-width: 300px;\n",
       "  max-width: 700px;\n",
       "}\n",
       "\n",
       ".xr-text-repr-fallback {\n",
       "  /* fallback to plain text repr when CSS is not injected (untrusted notebook) */\n",
       "  display: none;\n",
       "}\n",
       "\n",
       ".xr-header {\n",
       "  padding-top: 6px;\n",
       "  padding-bottom: 6px;\n",
       "  margin-bottom: 4px;\n",
       "  border-bottom: solid 1px var(--xr-border-color);\n",
       "}\n",
       "\n",
       ".xr-header > div,\n",
       ".xr-header > ul {\n",
       "  display: inline;\n",
       "  margin-top: 0;\n",
       "  margin-bottom: 0;\n",
       "}\n",
       "\n",
       ".xr-obj-type,\n",
       ".xr-array-name {\n",
       "  margin-left: 2px;\n",
       "  margin-right: 10px;\n",
       "}\n",
       "\n",
       ".xr-obj-type {\n",
       "  color: var(--xr-font-color2);\n",
       "}\n",
       "\n",
       ".xr-sections {\n",
       "  padding-left: 0 !important;\n",
       "  display: grid;\n",
       "  grid-template-columns: 150px auto auto 1fr 20px 20px;\n",
       "}\n",
       "\n",
       ".xr-section-item {\n",
       "  display: contents;\n",
       "}\n",
       "\n",
       ".xr-section-item input {\n",
       "  display: none;\n",
       "}\n",
       "\n",
       ".xr-section-item input + label {\n",
       "  color: var(--xr-disabled-color);\n",
       "}\n",
       "\n",
       ".xr-section-item input:enabled + label {\n",
       "  cursor: pointer;\n",
       "  color: var(--xr-font-color2);\n",
       "}\n",
       "\n",
       ".xr-section-item input:enabled + label:hover {\n",
       "  color: var(--xr-font-color0);\n",
       "}\n",
       "\n",
       ".xr-section-summary {\n",
       "  grid-column: 1;\n",
       "  color: var(--xr-font-color2);\n",
       "  font-weight: 500;\n",
       "}\n",
       "\n",
       ".xr-section-summary > span {\n",
       "  display: inline-block;\n",
       "  padding-left: 0.5em;\n",
       "}\n",
       "\n",
       ".xr-section-summary-in:disabled + label {\n",
       "  color: var(--xr-font-color2);\n",
       "}\n",
       "\n",
       ".xr-section-summary-in + label:before {\n",
       "  display: inline-block;\n",
       "  content: '►';\n",
       "  font-size: 11px;\n",
       "  width: 15px;\n",
       "  text-align: center;\n",
       "}\n",
       "\n",
       ".xr-section-summary-in:disabled + label:before {\n",
       "  color: var(--xr-disabled-color);\n",
       "}\n",
       "\n",
       ".xr-section-summary-in:checked + label:before {\n",
       "  content: '▼';\n",
       "}\n",
       "\n",
       ".xr-section-summary-in:checked + label > span {\n",
       "  display: none;\n",
       "}\n",
       "\n",
       ".xr-section-summary,\n",
       ".xr-section-inline-details {\n",
       "  padding-top: 4px;\n",
       "  padding-bottom: 4px;\n",
       "}\n",
       "\n",
       ".xr-section-inline-details {\n",
       "  grid-column: 2 / -1;\n",
       "}\n",
       "\n",
       ".xr-section-details {\n",
       "  display: none;\n",
       "  grid-column: 1 / -1;\n",
       "  margin-bottom: 5px;\n",
       "}\n",
       "\n",
       ".xr-section-summary-in:checked ~ .xr-section-details {\n",
       "  display: contents;\n",
       "}\n",
       "\n",
       ".xr-array-wrap {\n",
       "  grid-column: 1 / -1;\n",
       "  display: grid;\n",
       "  grid-template-columns: 20px auto;\n",
       "}\n",
       "\n",
       ".xr-array-wrap > label {\n",
       "  grid-column: 1;\n",
       "  vertical-align: top;\n",
       "}\n",
       "\n",
       ".xr-preview {\n",
       "  color: var(--xr-font-color3);\n",
       "}\n",
       "\n",
       ".xr-array-preview,\n",
       ".xr-array-data {\n",
       "  padding: 0 5px !important;\n",
       "  grid-column: 2;\n",
       "}\n",
       "\n",
       ".xr-array-data,\n",
       ".xr-array-in:checked ~ .xr-array-preview {\n",
       "  display: none;\n",
       "}\n",
       "\n",
       ".xr-array-in:checked ~ .xr-array-data,\n",
       ".xr-array-preview {\n",
       "  display: inline-block;\n",
       "}\n",
       "\n",
       ".xr-dim-list {\n",
       "  display: inline-block !important;\n",
       "  list-style: none;\n",
       "  padding: 0 !important;\n",
       "  margin: 0;\n",
       "}\n",
       "\n",
       ".xr-dim-list li {\n",
       "  display: inline-block;\n",
       "  padding: 0;\n",
       "  margin: 0;\n",
       "}\n",
       "\n",
       ".xr-dim-list:before {\n",
       "  content: '(';\n",
       "}\n",
       "\n",
       ".xr-dim-list:after {\n",
       "  content: ')';\n",
       "}\n",
       "\n",
       ".xr-dim-list li:not(:last-child):after {\n",
       "  content: ',';\n",
       "  padding-right: 5px;\n",
       "}\n",
       "\n",
       ".xr-has-index {\n",
       "  font-weight: bold;\n",
       "}\n",
       "\n",
       ".xr-var-list,\n",
       ".xr-var-item {\n",
       "  display: contents;\n",
       "}\n",
       "\n",
       ".xr-var-item > div,\n",
       ".xr-var-item label,\n",
       ".xr-var-item > .xr-var-name span {\n",
       "  background-color: var(--xr-background-color-row-even);\n",
       "  margin-bottom: 0;\n",
       "}\n",
       "\n",
       ".xr-var-item > .xr-var-name:hover span {\n",
       "  padding-right: 5px;\n",
       "}\n",
       "\n",
       ".xr-var-list > li:nth-child(odd) > div,\n",
       ".xr-var-list > li:nth-child(odd) > label,\n",
       ".xr-var-list > li:nth-child(odd) > .xr-var-name span {\n",
       "  background-color: var(--xr-background-color-row-odd);\n",
       "}\n",
       "\n",
       ".xr-var-name {\n",
       "  grid-column: 1;\n",
       "}\n",
       "\n",
       ".xr-var-dims {\n",
       "  grid-column: 2;\n",
       "}\n",
       "\n",
       ".xr-var-dtype {\n",
       "  grid-column: 3;\n",
       "  text-align: right;\n",
       "  color: var(--xr-font-color2);\n",
       "}\n",
       "\n",
       ".xr-var-preview {\n",
       "  grid-column: 4;\n",
       "}\n",
       "\n",
       ".xr-var-name,\n",
       ".xr-var-dims,\n",
       ".xr-var-dtype,\n",
       ".xr-preview,\n",
       ".xr-attrs dt {\n",
       "  white-space: nowrap;\n",
       "  overflow: hidden;\n",
       "  text-overflow: ellipsis;\n",
       "  padding-right: 10px;\n",
       "}\n",
       "\n",
       ".xr-var-name:hover,\n",
       ".xr-var-dims:hover,\n",
       ".xr-var-dtype:hover,\n",
       ".xr-attrs dt:hover {\n",
       "  overflow: visible;\n",
       "  width: auto;\n",
       "  z-index: 1;\n",
       "}\n",
       "\n",
       ".xr-var-attrs,\n",
       ".xr-var-data {\n",
       "  display: none;\n",
       "  background-color: var(--xr-background-color) !important;\n",
       "  padding-bottom: 5px !important;\n",
       "}\n",
       "\n",
       ".xr-var-attrs-in:checked ~ .xr-var-attrs,\n",
       ".xr-var-data-in:checked ~ .xr-var-data {\n",
       "  display: block;\n",
       "}\n",
       "\n",
       ".xr-var-data > table {\n",
       "  float: right;\n",
       "}\n",
       "\n",
       ".xr-var-name span,\n",
       ".xr-var-data,\n",
       ".xr-attrs {\n",
       "  padding-left: 25px !important;\n",
       "}\n",
       "\n",
       ".xr-attrs,\n",
       ".xr-var-attrs,\n",
       ".xr-var-data {\n",
       "  grid-column: 1 / -1;\n",
       "}\n",
       "\n",
       "dl.xr-attrs {\n",
       "  padding: 0;\n",
       "  margin: 0;\n",
       "  display: grid;\n",
       "  grid-template-columns: 125px auto;\n",
       "}\n",
       "\n",
       ".xr-attrs dt, dd {\n",
       "  padding: 0;\n",
       "  margin: 0;\n",
       "  float: left;\n",
       "  padding-right: 10px;\n",
       "  width: auto;\n",
       "}\n",
       "\n",
       ".xr-attrs dt {\n",
       "  font-weight: normal;\n",
       "  grid-column: 1;\n",
       "}\n",
       "\n",
       ".xr-attrs dt:hover span {\n",
       "  display: inline-block;\n",
       "  background: var(--xr-background-color);\n",
       "  padding-right: 10px;\n",
       "}\n",
       "\n",
       ".xr-attrs dd {\n",
       "  grid-column: 2;\n",
       "  white-space: pre-wrap;\n",
       "  word-break: break-all;\n",
       "}\n",
       "\n",
       ".xr-icon-database,\n",
       ".xr-icon-file-text2 {\n",
       "  display: inline-block;\n",
       "  vertical-align: middle;\n",
       "  width: 1em;\n",
       "  height: 1.5em !important;\n",
       "  stroke-width: 0;\n",
       "  stroke: currentColor;\n",
       "  fill: currentColor;\n",
       "}\n",
       "</style><pre class='xr-text-repr-fallback'>&lt;xarray.DataArray ()&gt;\n",
       "array(-0.6258729)\n",
       "Coordinates:\n",
       "    spatial_ref  int32 32753\n",
       "    y            float64 8.175e+06\n",
       "    x            float64 8.149e+05</pre><div class='xr-wrap' hidden><div class='xr-header'><div class='xr-obj-type'>xarray.DataArray</div><div class='xr-array-name'></div></div><ul class='xr-sections'><li class='xr-section-item'><div class='xr-array-wrap'><input id='section-a5d04ee1-e9b5-4171-84ad-5ffb72ad4bb5' class='xr-array-in' type='checkbox' checked><label for='section-a5d04ee1-e9b5-4171-84ad-5ffb72ad4bb5' title='Show/hide data repr'><svg class='icon xr-icon-database'><use xlink:href='#icon-database'></use></svg></label><div class='xr-array-preview xr-preview'><span>-0.6259</span></div><div class='xr-array-data'><pre>array(-0.6258729)</pre></div></div></li><li class='xr-section-item'><input id='section-19aad100-443c-4dac-b243-d650d1339a01' class='xr-section-summary-in' type='checkbox'  checked><label for='section-19aad100-443c-4dac-b243-d650d1339a01' class='xr-section-summary' >Coordinates: <span>(3)</span></label><div class='xr-section-inline-details'></div><div class='xr-section-details'><ul class='xr-var-list'><li class='xr-var-item'><div class='xr-var-name'><span>spatial_ref</span></div><div class='xr-var-dims'>()</div><div class='xr-var-dtype'>int32</div><div class='xr-var-preview xr-preview'>32753</div><input id='attrs-b6568723-d714-4878-b35b-ed4c5347d83b' class='xr-var-attrs-in' type='checkbox' ><label for='attrs-b6568723-d714-4878-b35b-ed4c5347d83b' title='Show/Hide attributes'><svg class='icon xr-icon-file-text2'><use xlink:href='#icon-file-text2'></use></svg></label><input id='data-8acace5f-6ed0-4810-881d-8bb766ba07c7' class='xr-var-data-in' type='checkbox'><label for='data-8acace5f-6ed0-4810-881d-8bb766ba07c7' title='Show/Hide data repr'><svg class='icon xr-icon-database'><use xlink:href='#icon-database'></use></svg></label><div class='xr-var-attrs'><dl class='xr-attrs'><dt><span>spatial_ref :</span></dt><dd>PROJCS[&quot;WGS 84 / UTM zone 53S&quot;,GEOGCS[&quot;WGS 84&quot;,DATUM[&quot;WGS_1984&quot;,SPHEROID[&quot;WGS 84&quot;,6378137,298.257223563,AUTHORITY[&quot;EPSG&quot;,&quot;7030&quot;]],AUTHORITY[&quot;EPSG&quot;,&quot;6326&quot;]],PRIMEM[&quot;Greenwich&quot;,0,AUTHORITY[&quot;EPSG&quot;,&quot;8901&quot;]],UNIT[&quot;degree&quot;,0.0174532925199433,AUTHORITY[&quot;EPSG&quot;,&quot;9122&quot;]],AUTHORITY[&quot;EPSG&quot;,&quot;4326&quot;]],PROJECTION[&quot;Transverse_Mercator&quot;],PARAMETER[&quot;latitude_of_origin&quot;,0],PARAMETER[&quot;central_meridian&quot;,135],PARAMETER[&quot;scale_factor&quot;,0.9996],PARAMETER[&quot;false_easting&quot;,500000],PARAMETER[&quot;false_northing&quot;,10000000],UNIT[&quot;metre&quot;,1,AUTHORITY[&quot;EPSG&quot;,&quot;9001&quot;]],AXIS[&quot;Easting&quot;,EAST],AXIS[&quot;Northing&quot;,NORTH],AUTHORITY[&quot;EPSG&quot;,&quot;32753&quot;]]</dd><dt><span>grid_mapping_name :</span></dt><dd>transverse_mercator</dd></dl></div><div class='xr-var-data'><pre>array(32753, dtype=int32)</pre></div></li><li class='xr-var-item'><div class='xr-var-name'><span>y</span></div><div class='xr-var-dims'>()</div><div class='xr-var-dtype'>float64</div><div class='xr-var-preview xr-preview'>8.175e+06</div><input id='attrs-18f026df-20a4-47a7-8f36-a86c8485d0b1' class='xr-var-attrs-in' type='checkbox' ><label for='attrs-18f026df-20a4-47a7-8f36-a86c8485d0b1' title='Show/Hide attributes'><svg class='icon xr-icon-file-text2'><use xlink:href='#icon-file-text2'></use></svg></label><input id='data-c6addf0f-d0c4-4d4d-a637-8e5d36f4a115' class='xr-var-data-in' type='checkbox'><label for='data-c6addf0f-d0c4-4d4d-a637-8e5d36f4a115' title='Show/Hide data repr'><svg class='icon xr-icon-database'><use xlink:href='#icon-database'></use></svg></label><div class='xr-var-attrs'><dl class='xr-attrs'><dt><span>units :</span></dt><dd>metre</dd><dt><span>resolution :</span></dt><dd>-30.0</dd><dt><span>crs :</span></dt><dd>epsg:32753</dd></dl></div><div class='xr-var-data'><pre>array(8175195.)</pre></div></li><li class='xr-var-item'><div class='xr-var-name'><span>x</span></div><div class='xr-var-dims'>()</div><div class='xr-var-dtype'>float64</div><div class='xr-var-preview xr-preview'>8.149e+05</div><input id='attrs-970387ca-2ab3-4764-9535-d8eea0dcda72' class='xr-var-attrs-in' type='checkbox' ><label for='attrs-970387ca-2ab3-4764-9535-d8eea0dcda72' title='Show/Hide attributes'><svg class='icon xr-icon-file-text2'><use xlink:href='#icon-file-text2'></use></svg></label><input id='data-55621efb-f34c-4cba-96a1-99c1aa8282c0' class='xr-var-data-in' type='checkbox'><label for='data-55621efb-f34c-4cba-96a1-99c1aa8282c0' title='Show/Hide data repr'><svg class='icon xr-icon-database'><use xlink:href='#icon-database'></use></svg></label><div class='xr-var-attrs'><dl class='xr-attrs'><dt><span>units :</span></dt><dd>metre</dd><dt><span>resolution :</span></dt><dd>30.0</dd><dt><span>crs :</span></dt><dd>epsg:32753</dd></dl></div><div class='xr-var-data'><pre>array(814935.)</pre></div></li></ul></div></li><li class='xr-section-item'><input id='section-8e20b69d-f3a5-40e0-a00d-10a25518f4da' class='xr-section-summary-in' type='checkbox' disabled ><label for='section-8e20b69d-f3a5-40e0-a00d-10a25518f4da' class='xr-section-summary'  title='Expand/collapse section'>Attributes: <span>(0)</span></label><div class='xr-section-inline-details'></div><div class='xr-section-details'><dl class='xr-attrs'></dl></div></li></ul></div></div>"
      ],
      "text/plain": [
       "<xarray.DataArray ()>\n",
       "array(-0.6258729)\n",
       "Coordinates:\n",
       "    spatial_ref  int32 32753\n",
       "    y            float64 8.175e+06\n",
       "    x            float64 8.149e+05"
      ]
     },
     "execution_count": 219,
     "metadata": {},
     "output_type": "execute_result"
    }
   ],
   "source": [
    "interpolate_dimension_x(line, 0.2, 0.001)"
   ]
  },
  {
   "cell_type": "code",
   "execution_count": 171,
   "metadata": {},
   "outputs": [
    {
     "data": {
      "text/plain": [
       "<matplotlib.axes._subplots.AxesSubplot at 0x7f2b731e9320>"
      ]
     },
     "execution_count": 171,
     "metadata": {},
     "output_type": "execute_result"
    },
    {
     "data": {
      "image/png": "[encoded data removed]",
      "text/plain": [
       "<Figure size 432x288 with 1 Axes>"
      ]
     },
     "metadata": {
      "needs_background": "light"
     },
     "output_type": "display_data"
    }
   ],
   "source": [
    "testing = s2_rolling.where((s2_rolling >= -0.3) & (s2_rolling <= 0.3)).isel(x=290, y=200).to_dataframe('ndwi')\n",
    "testing['ndwi'].plot()"
   ]
  },
  {
   "cell_type": "code",
   "execution_count": null,
   "metadata": {},
   "outputs": [],
   "source": []
  },
  {
   "cell_type": "code",
   "execution_count": 155,
   "metadata": {},
   "outputs": [],
   "source": [
    "s2_conf = s2_std.mean(dim='tide_height')"
   ]
  },
  {
   "cell_type": "code",
   "execution_count": 156,
   "metadata": {},
   "outputs": [
    {
     "data": {
      "text/plain": [
       "PosixPath('test_dem30yr_conf.tif')"
      ]
     },
     "execution_count": 156,
     "metadata": {},
     "output_type": "execute_result"
    }
   ],
   "source": [
    "write_cog(s2_conf, 'test_dem30yr_conf.tif', overwrite=True)"
   ]
  },
  {
   "cell_type": "code",
   "execution_count": null,
   "metadata": {},
   "outputs": [],
   "source": [
    "s2_conf.plot.imshow(figsize=(15, 15), vmin=0, vmax=0.25)"
   ]
  },
  {
   "cell_type": "code",
   "execution_count": null,
   "metadata": {},
   "outputs": [],
   "source": [
    "xr.open_rasterioterio('test_dem8_median.tif')\n"
   ]
  },
  {
   "cell_type": "code",
   "execution_count": null,
   "metadata": {},
   "outputs": [],
   "source": []
  },
  {
   "cell_type": "code",
   "execution_count": null,
   "metadata": {},
   "outputs": [],
   "source": [
    "test_min = xr_quantile(tide_3d.where((s2_rolling > 0)).to_dataset(name='ndwi'), [0.01], nodata=np.nan).ndwi.squeeze('quantile')\n",
    "test_max = xr_quantile(tide_3d.where((s2_rolling < 0)).to_dataset(name='ndwi'), [0.99], nodata=np.nan).ndwi.squeeze('quantile')"
   ]
  },
  {
   "cell_type": "code",
   "execution_count": null,
   "metadata": {},
   "outputs": [],
   "source": [
    "test_min.where(~test_max.isnull()).plot(vmax=0.5, vmin=-1.0, figsize=(15, 15))"
   ]
  },
  {
   "cell_type": "code",
   "execution_count": null,
   "metadata": {},
   "outputs": [],
   "source": [
    "test_min.where(~test_max.isnull()).plot(vmax=0.5, vmin=-1.0, figsize=(15, 15))"
   ]
  },
  {
   "cell_type": "code",
   "execution_count": null,
   "metadata": {},
   "outputs": [],
   "source": [
    "dem = ((test_max + test_min) / 2.0)\n",
    "dem.plot(vmax=0.5, vmin=-1.0, figsize=(15, 15))"
   ]
  },
  {
   "cell_type": "code",
   "execution_count": null,
   "metadata": {},
   "outputs": [],
   "source": [
    "dem = ((test_max + test_min) / 2.0)\n",
    "dem.plot(vmax=0.5, vmin=-1.0, figsize=(15, 15))"
   ]
  },
  {
   "cell_type": "code",
   "execution_count": null,
   "metadata": {},
   "outputs": [],
   "source": [
    "# dem = test_min.where(~test_max.isnull())\n",
    "\n",
    "write_cog(dem, 'test_dem8.tif', overwrite=True)"
   ]
  },
  {
   "cell_type": "code",
   "execution_count": null,
   "metadata": {},
   "outputs": [],
   "source": [
    "dem"
   ]
  },
  {
   "cell_type": "code",
   "execution_count": null,
   "metadata": {},
   "outputs": [],
   "source": [
    "(test_max - test_min).plot(figsize=(15, 15), vmin=-0.5, vmax=0.5, cmap='RdBu')"
   ]
  },
  {
   "cell_type": "code",
   "execution_count": null,
   "metadata": {},
   "outputs": [],
   "source": [
    "class LinregressResult:\n",
    "    def __init__(self, cov, cor, slope, intercept, pval, stderr):\n",
    "        self.cov = cov\n",
    "        self.cor = cor\n",
    "        self.slope = slope\n",
    "        self.intercept = intercept\n",
    "        self.pval = pval\n",
    "        self.stderr = stderr\n",
    "    \n",
    "    def __repr__(self):\n",
    "        return 'LinregressResult({})'.format(\n",
    "            ', '.join('{}={}'.format(k, getattr(self, k))\n",
    "                      for k in dir(self) if not k.startswith('_'))\n",
    "        )\n",
    "\n",
    "\n",
    "def lag_linregress_3D(x, y, lagx=0, lagy=0, first_dim=\"time\"):\n",
    "    \"\"\"\n",
    "    Takes two xr.Datarrays of any dimensions (input data could be a 1D time series, or for example, have\n",
    "    three dimensions e.g. time, lat, lon), and return covariance, correlation, regression slope and intercept,\n",
    "    p-value, and standard error on regression between the two datasets along their aligned first dimension.\n",
    "    Datasets can be provided in any order, but note that the regression slope and intercept will be calculated\n",
    "    for y with respect to x.\n",
    "    Parameters\n",
    "    ----------\n",
    "    x, y : xarray DataArray\n",
    "        Two xarray DataArrays with any number of dimensions, both sharing the same first dimension\n",
    "    lagx, lagy : int, optional\n",
    "        Optional integers giving lag values to assign to either of the data, with lagx shifting x, and lagy\n",
    "        shifting y with the specified lag amount.\n",
    "    first_dim : str, optional\n",
    "        An optional string giving the name of the first dimension on which to align datasets. The default is\n",
    "        'time'.\n",
    "    Returns\n",
    "    -------\n",
    "    cov, cor, slope, intercept, pval, stderr : xarray DataArray\n",
    "        Covariance, correlation, regression slope and intercept, p-value, and standard error on\n",
    "        regression between the two datasets along their aligned first dimension.\n",
    "    \"\"\"\n",
    "    # 1. Ensure that the data are properly alinged to each other.\n",
    "    x, y = xr.align(x, y)\n",
    "\n",
    "    # 2. Add lag information if any, and shift the data accordingly\n",
    "    if lagx != 0:\n",
    "\n",
    "        # If x lags y by 1, x must be shifted 1 step backwards. But as the 'zero-th' value is nonexistant, xr\n",
    "        # assigns it as invalid (nan). Hence it needs to be dropped:\n",
    "        x = x.shift(**{first_dim: -lagx}).dropna(dim=first_dim)\n",
    "\n",
    "        # Next re-align the two datasets so that y adjusts to the changed coordinates of x:\n",
    "        x, y = xr.align(x, y)\n",
    "\n",
    "    if lagy != 0:\n",
    "\n",
    "        y = y.shift(**{first_dim: -lagy}).dropna(dim=first_dim)\n",
    "        x, y = xr.align(x, y)\n",
    "\n",
    "    # 3. Compute data length, mean and standard deviation along time axis for further use:\n",
    "    n = y.notnull().sum(dim=first_dim)\n",
    "    xmean = x.mean(axis=0)\n",
    "    ymean = y.mean(axis=0)\n",
    "    xstd = x.std(axis=0)\n",
    "    ystd = y.std(axis=0)\n",
    "\n",
    "    # 4. Compute covariance along first axis\n",
    "    cov = np.sum((x - xmean) * (y - ymean), axis=0) / (n)\n",
    "\n",
    "    # 5. Compute correlation along time axis\n",
    "    cor = cov / (xstd * ystd)\n",
    "\n",
    "    # 6. Compute regression slope and intercept:\n",
    "    slope = cov / (xstd ** 2)\n",
    "    intercept = ymean - xmean * slope\n",
    "\n",
    "    # 7. Compute P-value and standard error\n",
    "    # Compute t-statistics\n",
    "    tstats = cor * np.sqrt(n - 2) / np.sqrt(1 - cor ** 2)\n",
    "    stderr = slope / tstats\n",
    "\n",
    "    from scipy.stats import t\n",
    "\n",
    "    pval = t.sf(tstats, n - 2) * 2\n",
    "    pval = xr.DataArray(pval, dims=cor.dims, coords=cor.coords)\n",
    "\n",
    "    return LinregressResult(cov, cor, slope, intercept, pval, stderr)"
   ]
  },
  {
   "cell_type": "code",
   "execution_count": null,
   "metadata": {},
   "outputs": [],
   "source": [
    "df.where(df.ndwi > 0)"
   ]
  },
  {
   "cell_type": "code",
   "execution_count": null,
   "metadata": {},
   "outputs": [],
   "source": [
    "s2_masked.where(s2_masked > 0)"
   ]
  },
  {
   "cell_type": "code",
   "execution_count": null,
   "metadata": {},
   "outputs": [],
   "source": [
    "# arr = np.array(s2_masked.tide_height).reshape(len(s2_masked.tide_height), len(s2_masked.y), len(s2_masked.x))\n",
    "# da = xarray.DataArray(arr, coords=[('x', xs), ('y', ys), ('z', zs)])"
   ]
  },
  {
   "cell_type": "code",
   "execution_count": null,
   "metadata": {},
   "outputs": [],
   "source": []
  },
  {
   "cell_type": "code",
   "execution_count": null,
   "metadata": {},
   "outputs": [],
   "source": [
    "freq = (s2_masked > 0).mean(dim='time')\n",
    "\n",
    "\n",
    "freq.where((freq > 0) & (freq < 0.85)).plot.imshow(cmap='viridis_r', robust=True, figsize=(15, 15))"
   ]
  },
  {
   "cell_type": "code",
   "execution_count": null,
   "metadata": {},
   "outputs": [],
   "source": [
    "s2_rolling = s2_tide.rolling(tide_height=10, min_periods=5, center=True).median()"
   ]
  },
  {
   "cell_type": "code",
   "execution_count": null,
   "metadata": {},
   "outputs": [],
   "source": [
    "s2_rolling.isel(tide_height=10).plot()"
   ]
  },
  {
   "cell_type": "code",
   "execution_count": null,
   "metadata": {},
   "outputs": [],
   "source": [
    "regress = lag_linregress_3D(x=s2_rolling.where(s2_rolling > 0), y=s2_rolling.tide_height, first_dim='tide_height')\n",
    "regress.intercept.plot.imshow()"
   ]
  },
  {
   "cell_type": "code",
   "execution_count": null,
   "metadata": {},
   "outputs": [],
   "source": [
    "regress = lag_linregress_3D(x=s2_rolling, y=s2_rolling.tide_height, first_dim='tide_height')\n",
    "regress.intercept.plot.imshow(vmin=-0.5, vmax=0.5)"
   ]
  },
  {
   "cell_type": "code",
   "execution_count": null,
   "metadata": {},
   "outputs": [],
   "source": [
    "# tide_3d.where(s2_masked > 0).quantile(0.05, dim='time')"
   ]
  },
  {
   "cell_type": "code",
   "execution_count": null,
   "metadata": {},
   "outputs": [],
   "source": [
    "testing.plot.imshow(vmax=0.5, vmin=-1.0, figsize=(15, 15))"
   ]
  },
  {
   "cell_type": "code",
   "execution_count": null,
   "metadata": {},
   "outputs": [],
   "source": [
    "testing.plot.imshow(vmax=0.5, vmin=-1.0, figsize=(15, 15))"
   ]
  },
  {
   "cell_type": "code",
   "execution_count": null,
   "metadata": {},
   "outputs": [],
   "source": [
    "testing.plot.imshow(vmax=0.5, vmin=-1.0, figsize=(15, 15))"
   ]
  },
  {
   "cell_type": "code",
   "execution_count": null,
   "metadata": {},
   "outputs": [],
   "source": [
    "tide_3d.where(s2_masked > 0).isel(time=slice(0, 10)).quantile(0.05, dim='time')"
   ]
  },
  {
   "cell_type": "code",
   "execution_count": null,
   "metadata": {},
   "outputs": [],
   "source": [
    "s2_masked.tide_height.isel(time=-1)"
   ]
  },
  {
   "cell_type": "code",
   "execution_count": null,
   "metadata": {},
   "outputs": [],
   "source": []
  }
 ],
 "metadata": {
  "kernelspec": {
   "display_name": "Python 3",
   "language": "python",
   "name": "python3"
  },
  "language_info": {
   "codemirror_mode": {
    "name": "ipython",
    "version": 3
   },
   "file_extension": ".py",
   "mimetype": "text/x-python",
   "name": "python",
   "nbconvert_exporter": "python",
   "pygments_lexer": "ipython3",
   "version": "3.6.10"
  }
 },
 "nbformat": 4,
 "nbformat_minor": 5
}

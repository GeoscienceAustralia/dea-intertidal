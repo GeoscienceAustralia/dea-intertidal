{
 "cells": [
  {
   "cell_type": "markdown",
   "id": "5ec253af-be87-478a-bf54-24cbb24de3b9",
   "metadata": {},
   "source": [
    "# NDWI - tide correlation analysis\n",
    "## Getting started\n",
    "Set working directory to top level of repo to ensure links work correctly:"
   ]
  },
  {
   "cell_type": "code",
   "execution_count": 1,
   "id": "ab5f5e34-15e6-42af-9464-eaf382275fea",
   "metadata": {},
   "outputs": [
    {
     "name": "stdout",
     "output_type": "stream",
     "text": [
      "/home/jovyan/Robbi/dea-intertidal\n"
     ]
    }
   ],
   "source": [
    "cd ../.."
   ]
  },
  {
   "cell_type": "markdown",
   "id": "8ab5c518-db8a-417a-b28a-1e166ce6a468",
   "metadata": {},
   "source": [
    "Install additional packages directly from the requirements file"
   ]
  },
  {
   "cell_type": "code",
   "execution_count": null,
   "id": "378cda91-11c6-494c-a5fd-7cb649d64e6b",
   "metadata": {},
   "outputs": [],
   "source": [
    "pip install -r requirements.in --quiet"
   ]
  },
  {
   "cell_type": "markdown",
   "id": "1daa805e-d940-4fb0-8e60-d795c1099940",
   "metadata": {},
   "source": [
    "### Load packages"
   ]
  },
  {
   "cell_type": "code",
   "execution_count": 2,
   "id": "9549c82b-93b4-4873-a003-bcece2577a0c",
   "metadata": {},
   "outputs": [],
   "source": [
    "%load_ext autoreload\n",
    "%autoreload 2\n",
    "\n",
    "import os\n",
    "\n",
    "import xarray as xr\n",
    "import pandas as pd\n",
    "import numpy as np\n",
    "import geopandas as gpd\n",
    "import matplotlib.pyplot as plt\n",
    "from tqdm.auto import tqdm\n",
    "from ipyleaflet import basemaps, basemap_to_tiles\n",
    "\n",
    "import datacube\n",
    "import odc.geo.xr\n",
    "from odc.geo.geom import Geometry\n",
    "from odc.geo.geobox import GeoBox\n",
    "from odc.ui import select_on_a_map\n",
    "\n",
    "from dea_tools.dask import create_local_dask_cluster\n",
    "from dea_tools.coastal import pixel_tides, tidal_tag, model_tides\n",
    "from intertidal.elevation import (\n",
    "    load_data,\n",
    "    ds_to_flat,\n",
    "    flat_to_ds,\n",
    ")\n",
    "\n",
    "def correlation_loop(point_id, geom, models):\n",
    "    satellite_ds = load_data(\n",
    "        dc=dc,\n",
    "        study_area=point_id,\n",
    "        geom=geom,\n",
    "        time_range=(start_date, end_date),\n",
    "        resolution=resolution,\n",
    "        crs=crs,\n",
    "        include_s2=True,\n",
    "        include_ls=True,\n",
    "        filter_gqa=filter_gqa,\n",
    "        dask_chunks={\"x\": None, \"y\": None},\n",
    "    )\n",
    "\n",
    "    # Load data\n",
    "    satellite_ds.load()\n",
    "\n",
    "    # Model tides\n",
    "    tides_df = model_tides(\n",
    "        x=satellite_ds.x.mean(),\n",
    "        y=satellite_ds.y.mean(),\n",
    "        time=satellite_ds.time,\n",
    "        model=models,\n",
    "        directory=tide_model_dir,\n",
    "        crs=satellite_ds.odc.crs,\n",
    "    )\n",
    "\n",
    "    # Add to data\n",
    "    satellite_ds[\"tide_m\"] = (\n",
    "        tides_df.droplevel(level=[\"x\", \"y\"])\n",
    "        .set_index(\"tide_model\", append=True)\n",
    "        .to_xarray()\n",
    "        .tide_m.reindex_like(satellite_ds)\n",
    "        .transpose(\"tide_model\", \"time\")\n",
    "    )\n",
    "\n",
    "    # Calculate corrs\n",
    "    _, _, corr, _ = ds_to_flat(\n",
    "        satellite_ds,\n",
    "        ndwi_thresh=0.0,\n",
    "        min_freq=0.01,\n",
    "        max_freq=0.99,\n",
    "    )\n",
    "\n",
    "    corr_mask = corr.max(dim=\"tide_model\") >= 0.15\n",
    "    corr = corr.where(corr_mask)\n",
    "\n",
    "    out_df = (\n",
    "        corr.drop(\"spatial_ref\")\n",
    "        .mean(dim=\"z\")\n",
    "        .to_dataframe(name=\"tide_m\")\n",
    "        .assign(point_id=point_id)\n",
    "        .set_index(\"point_id\", append=True)\n",
    "    )\n",
    "\n",
    "    # Add percent valid intertidal pixels analysed\n",
    "    out_df[\"valid_perc\"] = corr_mask.mean(dim=\"z\").item()\n",
    "\n",
    "    return out_df\n"
   ]
  },
  {
   "cell_type": "markdown",
   "id": "696076dd-35f8-42a3-a056-96fb40e02168",
   "metadata": {
    "tags": []
   },
   "source": [
    "## Setup\n"
   ]
  },
  {
   "cell_type": "markdown",
   "id": "d207f9e8-aa30-47c9-9067-8b80d476d8ca",
   "metadata": {},
   "source": [
    "### Set analysis parameters"
   ]
  },
  {
   "cell_type": "code",
   "execution_count": 3,
   "id": "6d7362fc-c845-4570-ae54-3c83c88af9ce",
   "metadata": {
    "tags": []
   },
   "outputs": [],
   "source": [
    "# Intertidal Elevation variables\n",
    "start_date = \"2017\"  # Informed by http://www.bom.gov.au/climate/enso/soi/?\n",
    "end_date = \"2019\"  #  Non La Nina/El Nino period\n",
    "resolution = 10  # Spatial resolution used for output files\n",
    "crs = \"EPSG:3577\"  # Coordinate Reference System (CRS) to use for output files\n",
    "# ndwi_thresh = 0.1  # Threshold used to identify dry/wet transition\n",
    "include_s2 = True  # Include Sentinel-2 data in the analysis?\n",
    "include_ls = True  # Include Landsat data in the analysis?\n",
    "filter_gqa = True  # Filter to remove poorly georeferenced scenes?\n",
    "tide_model_dir = \"/gdata1/data/tide_models_clipped/\"  # Directory containing tide model files\n",
    "\n",
    "# Models to run\n",
    "models = [\n",
    "    \"FES2014\",\n",
    "    \"TPXO9-atlas-v5\",\n",
    "    \"EOT20\",\n",
    "    \"HAMTIDE11\",\n",
    "    \"GOT4.10\",\n",
    "    \"FES2012\",\n",
    "    \"TPXO8-atlas-v1\",\n",
    "]"
   ]
  },
  {
   "cell_type": "markdown",
   "id": "fffd3b0a-b308-4325-9d08-4e7474199d65",
   "metadata": {},
   "source": [
    "### Load correlation points"
   ]
  },
  {
   "cell_type": "code",
   "execution_count": 4,
   "id": "d02377f1-6168-4769-a28b-1050af1a9c52",
   "metadata": {
    "tags": []
   },
   "outputs": [
    {
     "data": {
      "image/png": "[encoded data removed]",
      "text/plain": [
       "<Figure size 640x480 with 1 Axes>"
      ]
     },
     "metadata": {},
     "output_type": "display_data"
    }
   ],
   "source": [
    "# Load points\n",
    "points_gdf = gpd.read_file(\"data/raw/tide_correlation_points_input.geojson\").to_crs(\"EPSG:3577\")\n",
    "\n",
    "# Select subset\n",
    "points_gdf, name = points_gdf.iloc[0:3], \"test\"\n",
    "# points_gdf, name = points_gdf.iloc[0:500], \"robbi_part1\"\n",
    "# points_gdf, name = points_gdf.iloc[500:1000], \"robbi_part2\"\n",
    "# points_gdf, name = points_gdf.iloc[1000:1500], \"claire_part1\"\n",
    "# points_gdf, name = points_gdf.iloc[1500:2000], \"claire_part2\"\n",
    "# points_gdf, name = points_gdf.iloc[2000:2500], \"ness_part1\"\n",
    "# points_gdf, name = points_gdf.iloc[2500:3000], \"ness_part2\"\n",
    "points_gdf.plot()\n",
    "\n",
    "# Apply buffer\n",
    "points_gdf[\"geometry\"] = points_gdf.geometry.buffer(2500)\n"
   ]
  },
  {
   "cell_type": "markdown",
   "id": "1c826a4e-fc8a-419b-874f-9c82c5856b83",
   "metadata": {
    "tags": []
   },
   "source": [
    "## Run correlation analysis"
   ]
  },
  {
   "cell_type": "code",
   "execution_count": 5,
   "id": "150edf20-242b-46b2-8a66-b0245b2cecc8",
   "metadata": {
    "tags": []
   },
   "outputs": [
    {
     "name": "stderr",
     "output_type": "stream",
     "text": [
      "/env/lib/python3.10/site-packages/datacube/drivers/driver_cache.py:54: DeprecationWarning: pkg_resources is deprecated as an API. See https://setuptools.pypa.io/en/latest/pkg_resources.html\n",
      "  from pkg_resources import iter_entry_points\n"
     ]
    },
    {
     "data": {
      "text/html": [
       "<div>\n",
       "    <div style=\"width: 24px; height: 24px; background-color: #e1e1e1; border: 3px solid #9D9D9D; border-radius: 5px; position: absolute;\"> </div>\n",
       "    <div style=\"margin-left: 48px;\">\n",
       "        <h3 style=\"margin-bottom: 0px;\">Client</h3>\n",
       "        <p style=\"color: #9D9D9D; margin-bottom: 0px;\">Client-f2bfdb55-8a58-11ee-891c-6a5c67f036bf</p>\n",
       "        <table style=\"width: 100%; text-align: left;\">\n",
       "\n",
       "        <tr>\n",
       "        \n",
       "            <td style=\"text-align: left;\"><strong>Connection method:</strong> Cluster object</td>\n",
       "            <td style=\"text-align: left;\"><strong>Cluster type:</strong> distributed.LocalCluster</td>\n",
       "        \n",
       "        </tr>\n",
       "\n",
       "        \n",
       "            <tr>\n",
       "                <td style=\"text-align: left;\">\n",
       "                    <strong>Dashboard: </strong> <a href=\"/user/robbi.bishoptaylor@ga.gov.au/proxy/8787/status\" target=\"_blank\">/user/robbi.bishoptaylor@ga.gov.au/proxy/8787/status</a>\n",
       "                </td>\n",
       "                <td style=\"text-align: left;\"></td>\n",
       "            </tr>\n",
       "        \n",
       "\n",
       "        </table>\n",
       "\n",
       "        \n",
       "            <button style=\"margin-bottom: 12px;\" data-commandlinker-command=\"dask:populate-and-launch-layout\" data-commandlinker-args='{\"url\": \"/user/robbi.bishoptaylor@ga.gov.au/proxy/8787/status\" }'>\n",
       "                Launch dashboard in JupyterLab\n",
       "            </button>\n",
       "        \n",
       "\n",
       "        \n",
       "            <details>\n",
       "            <summary style=\"margin-bottom: 20px;\"><h3 style=\"display: inline;\">Cluster Info</h3></summary>\n",
       "            <div class=\"jp-RenderedHTMLCommon jp-RenderedHTML jp-mod-trusted jp-OutputArea-output\">\n",
       "    <div style=\"width: 24px; height: 24px; background-color: #e1e1e1; border: 3px solid #9D9D9D; border-radius: 5px; position: absolute;\">\n",
       "    </div>\n",
       "    <div style=\"margin-left: 48px;\">\n",
       "        <h3 style=\"margin-bottom: 0px; margin-top: 0px;\">LocalCluster</h3>\n",
       "        <p style=\"color: #9D9D9D; margin-bottom: 0px;\">31a8aba3</p>\n",
       "        <table style=\"width: 100%; text-align: left;\">\n",
       "            <tr>\n",
       "                <td style=\"text-align: left;\">\n",
       "                    <strong>Dashboard:</strong> <a href=\"/user/robbi.bishoptaylor@ga.gov.au/proxy/8787/status\" target=\"_blank\">/user/robbi.bishoptaylor@ga.gov.au/proxy/8787/status</a>\n",
       "                </td>\n",
       "                <td style=\"text-align: left;\">\n",
       "                    <strong>Workers:</strong> 1\n",
       "                </td>\n",
       "            </tr>\n",
       "            <tr>\n",
       "                <td style=\"text-align: left;\">\n",
       "                    <strong>Total threads:</strong> 15\n",
       "                </td>\n",
       "                <td style=\"text-align: left;\">\n",
       "                    <strong>Total memory:</strong> 117.21 GiB\n",
       "                </td>\n",
       "            </tr>\n",
       "            \n",
       "            <tr>\n",
       "    <td style=\"text-align: left;\"><strong>Status:</strong> running</td>\n",
       "    <td style=\"text-align: left;\"><strong>Using processes:</strong> True</td>\n",
       "</tr>\n",
       "\n",
       "            \n",
       "        </table>\n",
       "\n",
       "        <details>\n",
       "            <summary style=\"margin-bottom: 20px;\">\n",
       "                <h3 style=\"display: inline;\">Scheduler Info</h3>\n",
       "            </summary>\n",
       "\n",
       "            <div style=\"\">\n",
       "    <div>\n",
       "        <div style=\"width: 24px; height: 24px; background-color: #FFF7E5; border: 3px solid #FF6132; border-radius: 5px; position: absolute;\"> </div>\n",
       "        <div style=\"margin-left: 48px;\">\n",
       "            <h3 style=\"margin-bottom: 0px;\">Scheduler</h3>\n",
       "            <p style=\"color: #9D9D9D; margin-bottom: 0px;\">Scheduler-927abbbc-c98d-47c5-874b-f6be086765e7</p>\n",
       "            <table style=\"width: 100%; text-align: left;\">\n",
       "                <tr>\n",
       "                    <td style=\"text-align: left;\">\n",
       "                        <strong>Comm:</strong> tcp://127.0.0.1:39445\n",
       "                    </td>\n",
       "                    <td style=\"text-align: left;\">\n",
       "                        <strong>Workers:</strong> 1\n",
       "                    </td>\n",
       "                </tr>\n",
       "                <tr>\n",
       "                    <td style=\"text-align: left;\">\n",
       "                        <strong>Dashboard:</strong> <a href=\"/user/robbi.bishoptaylor@ga.gov.au/proxy/8787/status\" target=\"_blank\">/user/robbi.bishoptaylor@ga.gov.au/proxy/8787/status</a>\n",
       "                    </td>\n",
       "                    <td style=\"text-align: left;\">\n",
       "                        <strong>Total threads:</strong> 15\n",
       "                    </td>\n",
       "                </tr>\n",
       "                <tr>\n",
       "                    <td style=\"text-align: left;\">\n",
       "                        <strong>Started:</strong> Just now\n",
       "                    </td>\n",
       "                    <td style=\"text-align: left;\">\n",
       "                        <strong>Total memory:</strong> 117.21 GiB\n",
       "                    </td>\n",
       "                </tr>\n",
       "            </table>\n",
       "        </div>\n",
       "    </div>\n",
       "\n",
       "    <details style=\"margin-left: 48px;\">\n",
       "        <summary style=\"margin-bottom: 20px;\">\n",
       "            <h3 style=\"display: inline;\">Workers</h3>\n",
       "        </summary>\n",
       "\n",
       "        \n",
       "        <div style=\"margin-bottom: 20px;\">\n",
       "            <div style=\"width: 24px; height: 24px; background-color: #DBF5FF; border: 3px solid #4CC9FF; border-radius: 5px; position: absolute;\"> </div>\n",
       "            <div style=\"margin-left: 48px;\">\n",
       "            <details>\n",
       "                <summary>\n",
       "                    <h4 style=\"margin-bottom: 0px; display: inline;\">Worker: 0</h4>\n",
       "                </summary>\n",
       "                <table style=\"width: 100%; text-align: left;\">\n",
       "                    <tr>\n",
       "                        <td style=\"text-align: left;\">\n",
       "                            <strong>Comm: </strong> tcp://127.0.0.1:44741\n",
       "                        </td>\n",
       "                        <td style=\"text-align: left;\">\n",
       "                            <strong>Total threads: </strong> 15\n",
       "                        </td>\n",
       "                    </tr>\n",
       "                    <tr>\n",
       "                        <td style=\"text-align: left;\">\n",
       "                            <strong>Dashboard: </strong> <a href=\"/user/robbi.bishoptaylor@ga.gov.au/proxy/38429/status\" target=\"_blank\">/user/robbi.bishoptaylor@ga.gov.au/proxy/38429/status</a>\n",
       "                        </td>\n",
       "                        <td style=\"text-align: left;\">\n",
       "                            <strong>Memory: </strong> 117.21 GiB\n",
       "                        </td>\n",
       "                    </tr>\n",
       "                    <tr>\n",
       "                        <td style=\"text-align: left;\">\n",
       "                            <strong>Nanny: </strong> tcp://127.0.0.1:40607\n",
       "                        </td>\n",
       "                        <td style=\"text-align: left;\"></td>\n",
       "                    </tr>\n",
       "                    <tr>\n",
       "                        <td colspan=\"2\" style=\"text-align: left;\">\n",
       "                            <strong>Local directory: </strong> /tmp/dask-scratch-space/worker-1h6jgst3\n",
       "                        </td>\n",
       "                    </tr>\n",
       "\n",
       "                    \n",
       "\n",
       "                    \n",
       "\n",
       "                </table>\n",
       "            </details>\n",
       "            </div>\n",
       "        </div>\n",
       "        \n",
       "\n",
       "    </details>\n",
       "</div>\n",
       "\n",
       "        </details>\n",
       "    </div>\n",
       "</div>\n",
       "            </details>\n",
       "        \n",
       "\n",
       "    </div>\n",
       "</div>"
      ],
      "text/plain": [
       "<Client: 'tcp://127.0.0.1:39445' processes=1 threads=15, memory=117.21 GiB>"
      ]
     },
     "metadata": {},
     "output_type": "display_data"
    },
    {
     "data": {
      "application/vnd.jupyter.widget-view+json": {
       "model_id": "0815fde85845482bb30edea60225cccc",
       "version_major": 2,
       "version_minor": 0
      },
      "text/plain": [
       "  0%|          | 0/3 [00:00<?, ?it/s]"
      ]
     },
     "metadata": {},
     "output_type": "display_data"
    },
    {
     "name": "stdout",
     "output_type": "stream",
     "text": [
      "Processing ID 0\n"
     ]
    },
    {
     "name": "stderr",
     "output_type": "stream",
     "text": [
      "/env/lib/python3.10/site-packages/datacube/drivers/driver_cache.py:54: DeprecationWarning: pkg_resources is deprecated as an API. See https://setuptools.pypa.io/en/latest/pkg_resources.html\n",
      "  from pkg_resources import iter_entry_points\n",
      "/env/lib/python3.10/site-packages/rasterio/warp.py:344: NotGeoreferencedWarning: Dataset has no geotransform, gcps, or rpcs. The identity matrix will be returned.\n",
      "  _reproject(\n"
     ]
    },
    {
     "name": "stdout",
     "output_type": "stream",
     "text": [
      "Modelling tides using FES2014, TPXO9-atlas-v5, EOT20, HAMTIDE11, GOT4.10, FES2012, TPXO8-atlas-v1 in parallel\n"
     ]
    },
    {
     "name": "stderr",
     "output_type": "stream",
     "text": [
      "\n",
      "  0%|          | 0/7 [00:00<?, ?it/s]\u001b[A\n",
      " 14%|█▍        | 1/7 [00:03<00:23,  3.93s/it]\u001b[A\n",
      "100%|██████████| 7/7 [00:13<00:00,  1.86s/it]\u001b[A\n"
     ]
    },
    {
     "name": "stdout",
     "output_type": "stream",
     "text": [
      "Reducing analysed pixels from 251001 to 3338 (1.33%)\n"
     ]
    },
    {
     "name": "stderr",
     "output_type": "stream",
     "text": [
      "2023-11-23 23:36:07,241 - distributed.nanny - WARNING - Restarting worker\n"
     ]
    },
    {
     "name": "stdout",
     "output_type": "stream",
     "text": [
      "Processing ID 1\n"
     ]
    },
    {
     "name": "stderr",
     "output_type": "stream",
     "text": [
      "/env/lib/python3.10/site-packages/datacube/drivers/driver_cache.py:54: DeprecationWarning: pkg_resources is deprecated as an API. See https://setuptools.pypa.io/en/latest/pkg_resources.html\n",
      "  from pkg_resources import iter_entry_points\n",
      "/env/lib/python3.10/site-packages/rasterio/warp.py:344: NotGeoreferencedWarning: Dataset has no geotransform, gcps, or rpcs. The identity matrix will be returned.\n",
      "  _reproject(\n"
     ]
    },
    {
     "name": "stdout",
     "output_type": "stream",
     "text": [
      "Modelling tides using FES2014, TPXO9-atlas-v5, EOT20, HAMTIDE11, GOT4.10, FES2012, TPXO8-atlas-v1 in parallel\n"
     ]
    },
    {
     "name": "stderr",
     "output_type": "stream",
     "text": [
      "\n",
      "  0%|          | 0/7 [00:00<?, ?it/s]\u001b[A\n",
      " 14%|█▍        | 1/7 [00:03<00:22,  3.81s/it]\u001b[A\n",
      "100%|██████████| 7/7 [00:05<00:00,  1.38it/s]\u001b[A\n"
     ]
    },
    {
     "name": "stdout",
     "output_type": "stream",
     "text": [
      "Reducing analysed pixels from 251001 to 561 (0.22%)\n"
     ]
    },
    {
     "name": "stderr",
     "output_type": "stream",
     "text": [
      "2023-11-23 23:36:59,828 - distributed.nanny - WARNING - Restarting worker\n"
     ]
    },
    {
     "name": "stdout",
     "output_type": "stream",
     "text": [
      "Processing ID 2\n"
     ]
    },
    {
     "name": "stderr",
     "output_type": "stream",
     "text": [
      "/env/lib/python3.10/site-packages/datacube/drivers/driver_cache.py:54: DeprecationWarning: pkg_resources is deprecated as an API. See https://setuptools.pypa.io/en/latest/pkg_resources.html\n",
      "  from pkg_resources import iter_entry_points\n",
      "/env/lib/python3.10/site-packages/rasterio/warp.py:344: NotGeoreferencedWarning: Dataset has no geotransform, gcps, or rpcs. The identity matrix will be returned.\n",
      "  _reproject(\n"
     ]
    },
    {
     "name": "stdout",
     "output_type": "stream",
     "text": [
      "Modelling tides using FES2014, TPXO9-atlas-v5, EOT20, HAMTIDE11, GOT4.10, FES2012, TPXO8-atlas-v1 in parallel\n"
     ]
    },
    {
     "name": "stderr",
     "output_type": "stream",
     "text": [
      "\n",
      "  0%|          | 0/7 [00:00<?, ?it/s]\u001b[A\n",
      " 14%|█▍        | 1/7 [00:03<00:21,  3.58s/it]\u001b[A\n",
      "100%|██████████| 7/7 [00:13<00:00,  1.86s/it]\u001b[A\n"
     ]
    },
    {
     "name": "stdout",
     "output_type": "stream",
     "text": [
      "Reducing analysed pixels from 251001 to 447 (0.18%)\n"
     ]
    },
    {
     "name": "stderr",
     "output_type": "stream",
     "text": [
      "2023-11-23 23:38:04,553 - distributed.nanny - WARNING - Restarting worker\n"
     ]
    }
   ],
   "source": [
    "# Connect to datacube\n",
    "dc = datacube.Datacube(app=\"Intertidal_elevation\")\n",
    "\n",
    "# Create local dask cluster to improve data load time\n",
    "client = create_local_dask_cluster(return_client=True)\n",
    "\n",
    "out_list = []\n",
    "\n",
    "for i, row in tqdm(points_gdf.iterrows(), \n",
    "                   total=points_gdf.shape[0]):\n",
    "    \n",
    "    try:\n",
    "    \n",
    "        point_id = row.id\n",
    "        print(f\"Processing ID {point_id}\")\n",
    "        geom = Geometry(row.geometry, crs=\"EPSG:3577\")       \n",
    "\n",
    "        output_df = correlation_loop(point_id, geom, models)\n",
    "        output_df[\"x\"] = row.geometry.centroid.x\n",
    "        output_df[\"y\"] = row.geometry.centroid.y\n",
    "\n",
    "        out_list.append(output_df)\n",
    "\n",
    "        client.restart()\n",
    "    \n",
    "    except:\n",
    "        print(f\"{point_id} failed; skipping\")"
   ]
  },
  {
   "cell_type": "markdown",
   "id": "d86762e7-b3c6-4254-931d-d78309b0b58e",
   "metadata": {},
   "source": [
    "### Combine and process data"
   ]
  },
  {
   "cell_type": "code",
   "execution_count": 6,
   "id": "1c932cca-fd88-43b3-8082-f76b8aa45088",
   "metadata": {
    "tags": []
   },
   "outputs": [
    {
     "data": {
      "text/html": [
       "<div>\n",
       "<style scoped>\n",
       "    .dataframe tbody tr th:only-of-type {\n",
       "        vertical-align: middle;\n",
       "    }\n",
       "\n",
       "    .dataframe tbody tr th {\n",
       "        vertical-align: top;\n",
       "    }\n",
       "\n",
       "    .dataframe thead th {\n",
       "        text-align: right;\n",
       "    }\n",
       "</style>\n",
       "<table border=\"1\" class=\"dataframe\">\n",
       "  <thead>\n",
       "    <tr style=\"text-align: right;\">\n",
       "      <th>tide_model</th>\n",
       "      <th>x</th>\n",
       "      <th>y</th>\n",
       "      <th>valid_perc</th>\n",
       "      <th>source</th>\n",
       "      <th>statistic</th>\n",
       "      <th>FES2014</th>\n",
       "      <th>TPXO9-atlas-v5</th>\n",
       "      <th>EOT20</th>\n",
       "      <th>HAMTIDE11</th>\n",
       "      <th>GOT4.10</th>\n",
       "      <th>...</th>\n",
       "      <th>std</th>\n",
       "      <th>rank_FES2014</th>\n",
       "      <th>rank_TPXO9-atlas-v5</th>\n",
       "      <th>rank_EOT20</th>\n",
       "      <th>rank_HAMTIDE11</th>\n",
       "      <th>rank_GOT4.10</th>\n",
       "      <th>rank_FES2012</th>\n",
       "      <th>rank_TPXO8-atlas-v1</th>\n",
       "      <th>top_model</th>\n",
       "      <th>worst_model</th>\n",
       "    </tr>\n",
       "    <tr>\n",
       "      <th>point_id</th>\n",
       "      <th></th>\n",
       "      <th></th>\n",
       "      <th></th>\n",
       "      <th></th>\n",
       "      <th></th>\n",
       "      <th></th>\n",
       "      <th></th>\n",
       "      <th></th>\n",
       "      <th></th>\n",
       "      <th></th>\n",
       "      <th></th>\n",
       "      <th></th>\n",
       "      <th></th>\n",
       "      <th></th>\n",
       "      <th></th>\n",
       "      <th></th>\n",
       "      <th></th>\n",
       "      <th></th>\n",
       "      <th></th>\n",
       "      <th></th>\n",
       "      <th></th>\n",
       "    </tr>\n",
       "  </thead>\n",
       "  <tbody>\n",
       "    <tr>\n",
       "      <th>0</th>\n",
       "      <td>5.212820e+05</td>\n",
       "      <td>-1.511106e+06</td>\n",
       "      <td>0.167638</td>\n",
       "      <td>ndwi correlation</td>\n",
       "      <td>correlation</td>\n",
       "      <td>0.199674</td>\n",
       "      <td>0.209615</td>\n",
       "      <td>0.223791</td>\n",
       "      <td>0.216833</td>\n",
       "      <td>0.218038</td>\n",
       "      <td>...</td>\n",
       "      <td>0.007908</td>\n",
       "      <td>1.0</td>\n",
       "      <td>3.0</td>\n",
       "      <td>7.0</td>\n",
       "      <td>5.0</td>\n",
       "      <td>6.0</td>\n",
       "      <td>2.0</td>\n",
       "      <td>4.0</td>\n",
       "      <td>EOT20</td>\n",
       "      <td>FES2014</td>\n",
       "    </tr>\n",
       "    <tr>\n",
       "      <th>1</th>\n",
       "      <td>1.251240e+06</td>\n",
       "      <td>-1.298487e+06</td>\n",
       "      <td>0.036657</td>\n",
       "      <td>ndwi correlation</td>\n",
       "      <td>correlation</td>\n",
       "      <td>0.142596</td>\n",
       "      <td>0.164006</td>\n",
       "      <td>0.142492</td>\n",
       "      <td>0.134600</td>\n",
       "      <td>0.105296</td>\n",
       "      <td>...</td>\n",
       "      <td>0.024099</td>\n",
       "      <td>6.0</td>\n",
       "      <td>7.0</td>\n",
       "      <td>5.0</td>\n",
       "      <td>3.0</td>\n",
       "      <td>2.0</td>\n",
       "      <td>4.0</td>\n",
       "      <td>1.0</td>\n",
       "      <td>TPXO9-atlas-v5</td>\n",
       "      <td>TPXO8-atlas-v1</td>\n",
       "    </tr>\n",
       "    <tr>\n",
       "      <th>2</th>\n",
       "      <td>1.169974e+06</td>\n",
       "      <td>-1.200883e+06</td>\n",
       "      <td>0.018562</td>\n",
       "      <td>ndwi correlation</td>\n",
       "      <td>correlation</td>\n",
       "      <td>0.127657</td>\n",
       "      <td>0.128550</td>\n",
       "      <td>0.136148</td>\n",
       "      <td>0.137463</td>\n",
       "      <td>-0.074821</td>\n",
       "      <td>...</td>\n",
       "      <td>0.091570</td>\n",
       "      <td>3.0</td>\n",
       "      <td>4.0</td>\n",
       "      <td>5.0</td>\n",
       "      <td>6.0</td>\n",
       "      <td>1.0</td>\n",
       "      <td>7.0</td>\n",
       "      <td>2.0</td>\n",
       "      <td>FES2012</td>\n",
       "      <td>GOT4.10</td>\n",
       "    </tr>\n",
       "  </tbody>\n",
       "</table>\n",
       "<p>3 rows × 26 columns</p>\n",
       "</div>"
      ],
      "text/plain": [
       "tide_model             x             y  valid_perc            source  \\\n",
       "point_id                                                               \n",
       "0           5.212820e+05 -1.511106e+06    0.167638  ndwi correlation   \n",
       "1           1.251240e+06 -1.298487e+06    0.036657  ndwi correlation   \n",
       "2           1.169974e+06 -1.200883e+06    0.018562  ndwi correlation   \n",
       "\n",
       "tide_model    statistic   FES2014  TPXO9-atlas-v5     EOT20  HAMTIDE11  \\\n",
       "point_id                                                                 \n",
       "0           correlation  0.199674        0.209615  0.223791   0.216833   \n",
       "1           correlation  0.142596        0.164006  0.142492   0.134600   \n",
       "2           correlation  0.127657        0.128550  0.136148   0.137463   \n",
       "\n",
       "tide_model   GOT4.10  ...       std  rank_FES2014  rank_TPXO9-atlas-v5  \\\n",
       "point_id              ...                                                \n",
       "0           0.218038  ...  0.007908           1.0                  3.0   \n",
       "1           0.105296  ...  0.024099           6.0                  7.0   \n",
       "2          -0.074821  ...  0.091570           3.0                  4.0   \n",
       "\n",
       "tide_model  rank_EOT20  rank_HAMTIDE11  rank_GOT4.10  rank_FES2012  \\\n",
       "point_id                                                             \n",
       "0                  7.0             5.0           6.0           2.0   \n",
       "1                  5.0             3.0           2.0           4.0   \n",
       "2                  5.0             6.0           1.0           7.0   \n",
       "\n",
       "tide_model  rank_TPXO8-atlas-v1       top_model     worst_model  \n",
       "point_id                                                         \n",
       "0                           4.0           EOT20         FES2014  \n",
       "1                           1.0  TPXO9-atlas-v5  TPXO8-atlas-v1  \n",
       "2                           2.0         FES2012         GOT4.10  \n",
       "\n",
       "[3 rows x 26 columns]"
      ]
     },
     "execution_count": 6,
     "metadata": {},
     "output_type": "execute_result"
    }
   ],
   "source": [
    "# Combine outputs into single dataframe\n",
    "combined_df = (\n",
    "    pd.concat(out_list)\n",
    "    .set_index([\"x\", \"y\", \"valid_perc\"], append=True)\n",
    "    .unstack(\"tide_model\")[\"tide_m\"]\n",
    "    .assign(source=\"ndwi correlation\", statistic=\"correlation\")\n",
    "    .reset_index([\"x\", \"y\", \"valid_perc\"])\n",
    "    .reindex([\"x\", \"y\", \"valid_perc\", \"source\", \"statistic\"] + models, axis=1)\n",
    ")\n",
    "\n",
    "# Add additional columns\n",
    "combined_df[\"min\"] = combined_df.loc[:, models].min(axis=1)\n",
    "combined_df[\"max\"] = combined_df.loc[:, models].max(axis=1)\n",
    "combined_df[\"diff\"] = combined_df[\"max\"] - combined_df[\"min\"]\n",
    "combined_df[\"ave\"] = combined_df.loc[:, models].mean(axis=1)\n",
    "combined_df[\"std\"] = combined_df.loc[:, models].std(axis=1)\n",
    "\n",
    "# Calculate ranks and best/worst models\n",
    "combined_df = pd.concat(\n",
    "    [combined_df, combined_df.loc[:, models].rank(axis=1).add_prefix(\"rank_\")], axis=1\n",
    ")\n",
    "combined_df[\"top_model\"] = combined_df.filter(regex='^rank').idxmax(axis=1).str[5:]\n",
    "combined_df[\"worst_model\"] = combined_df.filter(regex='^rank').idxmin(axis=1).str[5:]\n",
    "combined_df"
   ]
  },
  {
   "cell_type": "markdown",
   "id": "9081e13d-ff74-4f8f-863e-6a43be0130ab",
   "metadata": {},
   "source": [
    "### Export"
   ]
  },
  {
   "cell_type": "code",
   "execution_count": 7,
   "id": "1061ef63-6f79-465b-92dc-4139729849bc",
   "metadata": {
    "tags": []
   },
   "outputs": [],
   "source": [
    "gpd.GeoDataFrame(\n",
    "    data=combined_df,\n",
    "    geometry=gpd.points_from_xy(combined_df.x, combined_df.y, crs=\"EPSG:3577\"),\n",
    ").to_crs(\"EPSG:4326\").to_file(f\"data/raw/tide_correlation_points_{name}.geojson\")"
   ]
  },
  {
   "cell_type": "code",
   "execution_count": null,
   "id": "c3c25608-8416-4b2a-b9a9-dd2db137bd28",
   "metadata": {},
   "outputs": [],
   "source": []
  }
 ],
 "metadata": {
  "kernelspec": {
   "display_name": "Python 3 (ipykernel)",
   "language": "python",
   "name": "python3"
  },
  "language_info": {
   "codemirror_mode": {
    "name": "ipython",
    "version": 3
   },
   "file_extension": ".py",
   "mimetype": "text/x-python",
   "name": "python",
   "nbconvert_exporter": "python",
   "pygments_lexer": "ipython3",
   "version": "3.10.8"
  },
  "widgets": {
   "application/vnd.jupyter.widget-state+json": {
    "state": {
     "0815fde85845482bb30edea60225cccc": {
      "model_module": "@jupyter-widgets/controls",
      "model_module_version": "2.0.0",
      "model_name": "HBoxModel",
      "state": {
       "children": [
        "IPY_MODEL_db8b9165fd5542c99b692fd9244fe0c0",
        "IPY_MODEL_9cba1efbc79a448995c9bf6d1ff9851b",
        "IPY_MODEL_39ca3dce6bd44b51a3429638ab750c4f"
       ],
       "layout": "IPY_MODEL_ae50f46c50334edd9b62a16da0afdcf7"
      }
     },
     "39ca3dce6bd44b51a3429638ab750c4f": {
      "model_module": "@jupyter-widgets/controls",
      "model_module_version": "2.0.0",
      "model_name": "HTMLModel",
      "state": {
       "layout": "IPY_MODEL_e3b6ca6befe74994a6f4d77d681d604b",
       "style": "IPY_MODEL_cbd7f54c5f83405bbeb2b26f60fe9b42",
       "value": " 3/3 [02:50&lt;00:00, 58.32s/it]"
      }
     },
     "40a617f6e21a45b691d9b38dfa5196b6": {
      "model_module": "@jupyter-widgets/base",
      "model_module_version": "2.0.0",
      "model_name": "LayoutModel",
      "state": {}
     },
     "485dd7837bac4cdea007719f3e8eaeb0": {
      "model_module": "@jupyter-widgets/base",
      "model_module_version": "2.0.0",
      "model_name": "LayoutModel",
      "state": {}
     },
     "6684d82f545d4712a391afb3a6e24a56": {
      "model_module": "@jupyter-widgets/controls",
      "model_module_version": "2.0.0",
      "model_name": "ProgressStyleModel",
      "state": {
       "description_width": ""
      }
     },
     "9cba1efbc79a448995c9bf6d1ff9851b": {
      "model_module": "@jupyter-widgets/controls",
      "model_module_version": "2.0.0",
      "model_name": "FloatProgressModel",
      "state": {
       "bar_style": "success",
       "layout": "IPY_MODEL_40a617f6e21a45b691d9b38dfa5196b6",
       "max": 3,
       "style": "IPY_MODEL_6684d82f545d4712a391afb3a6e24a56",
       "value": 3
      }
     },
     "a990c20861d54359a6c81a812b268822": {
      "model_module": "@jupyter-widgets/controls",
      "model_module_version": "2.0.0",
      "model_name": "HTMLStyleModel",
      "state": {
       "description_width": "",
       "font_size": null,
       "text_color": null
      }
     },
     "ae50f46c50334edd9b62a16da0afdcf7": {
      "model_module": "@jupyter-widgets/base",
      "model_module_version": "2.0.0",
      "model_name": "LayoutModel",
      "state": {}
     },
     "cbd7f54c5f83405bbeb2b26f60fe9b42": {
      "model_module": "@jupyter-widgets/controls",
      "model_module_version": "2.0.0",
      "model_name": "HTMLStyleModel",
      "state": {
       "description_width": "",
       "font_size": null,
       "text_color": null
      }
     },
     "db8b9165fd5542c99b692fd9244fe0c0": {
      "model_module": "@jupyter-widgets/controls",
      "model_module_version": "2.0.0",
      "model_name": "HTMLModel",
      "state": {
       "layout": "IPY_MODEL_485dd7837bac4cdea007719f3e8eaeb0",
       "style": "IPY_MODEL_a990c20861d54359a6c81a812b268822",
       "value": "100%"
      }
     },
     "e3b6ca6befe74994a6f4d77d681d604b": {
      "model_module": "@jupyter-widgets/base",
      "model_module_version": "2.0.0",
      "model_name": "LayoutModel",
      "state": {}
     }
    },
    "version_major": 2,
    "version_minor": 0
   }
  }
 },
 "nbformat": 4,
 "nbformat_minor": 5
}

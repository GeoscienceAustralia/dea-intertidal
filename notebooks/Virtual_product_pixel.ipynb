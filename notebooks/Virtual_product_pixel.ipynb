{
 "cells": [
  {
   "cell_type": "markdown",
   "id": "306a1f55-3f9d-4996-be95-e11e5a74a86b",
   "metadata": {},
   "source": [
    "## Getting started\n",
    "Set working directory to top level of repo to ensure links work correctly:"
   ]
  },
  {
   "cell_type": "code",
   "execution_count": 1,
   "id": "6c9907dc-c0d2-4b2e-8cbb-bb3a2bc15f08",
   "metadata": {},
   "outputs": [
    {
     "name": "stdout",
     "output_type": "stream",
     "text": [
      "/home/jovyan/Robbi/dea-intertidal\n"
     ]
    }
   ],
   "source": [
    "cd .."
   ]
  },
  {
   "cell_type": "code",
   "execution_count": 2,
   "id": "e83130dd-6deb-4f91-be40-614e5667d46f",
   "metadata": {},
   "outputs": [
    {
     "name": "stdout",
     "output_type": "stream",
     "text": [
      "\u001b[33mWARNING: You are using pip version 22.0.2; however, version 22.1.2 is available.\n",
      "You should consider upgrading via the '/env/bin/python -m pip install --upgrade pip' command.\u001b[0m\u001b[33m\n",
      "\u001b[0mNote: you may need to restart the kernel to use updated packages.\n"
     ]
    }
   ],
   "source": [
    "pip install odc-geo --quiet"
   ]
  },
  {
   "cell_type": "code",
   "execution_count": 3,
   "id": "4d39da68-c07c-4952-8723-d3536385a752",
   "metadata": {},
   "outputs": [
    {
     "name": "stdout",
     "output_type": "stream",
     "text": [
      "\u001b[33mWARNING: You are using pip version 22.0.2; however, version 22.1.2 is available.\n",
      "You should consider upgrading via the '/env/bin/python -m pip install --upgrade pip' command.\u001b[0m\u001b[33m\n",
      "\u001b[0mNote: you may need to restart the kernel to use updated packages.\n"
     ]
    }
   ],
   "source": [
    "pip install git+https://github.com/digitalearthafrica/deafrica-coastlines.git --quiet"
   ]
  },
  {
   "cell_type": "markdown",
   "id": "4244cc06-b5e7-4120-8514-adf35082cb2c",
   "metadata": {},
   "source": [
    "### Load packages"
   ]
  },
  {
   "cell_type": "code",
   "execution_count": 4,
   "id": "2520e8de-ac2c-4571-99a0-f7fb7b932f56",
   "metadata": {},
   "outputs": [
    {
     "name": "stderr",
     "output_type": "stream",
     "text": [
      "distributed.diskutils - INFO - Found stale lock file and directory '/home/jovyan/Robbi/dea-intertidal/dask-worker-space/worker-rmud25mf', purging\n",
      "distributed.diskutils - INFO - Found stale lock file and directory '/home/jovyan/Robbi/dea-intertidal/dask-worker-space/worker-rimudm55', purging\n",
      "distributed.diskutils - INFO - Found stale lock file and directory '/home/jovyan/Robbi/dea-intertidal/dask-worker-space/worker-efys71na', purging\n",
      "distributed.diskutils - INFO - Found stale lock file and directory '/home/jovyan/Robbi/dea-intertidal/dask-worker-space/worker-m_mysw2o', purging\n",
      "distributed.diskutils - INFO - Found stale lock file and directory '/home/jovyan/Robbi/dea-intertidal/dask-worker-space/worker-owituavz', purging\n",
      "distributed.diskutils - INFO - Found stale lock file and directory '/home/jovyan/Robbi/dea-intertidal/dask-worker-space/worker-hc9couex', purging\n",
      "distributed.diskutils - INFO - Found stale lock file and directory '/home/jovyan/Robbi/dea-intertidal/dask-worker-space/worker-65u36j8f', purging\n"
     ]
    },
    {
     "data": {
      "text/html": [
       "<div>\n",
       "    <div style=\"width: 24px; height: 24px; background-color: #e1e1e1; border: 3px solid #9D9D9D; border-radius: 5px; position: absolute;\"> </div>\n",
       "    <div style=\"margin-left: 48px;\">\n",
       "        <h3 style=\"margin-bottom: 0px;\">Client</h3>\n",
       "        <p style=\"color: #9D9D9D; margin-bottom: 0px;\">Client-aff61148-f73c-11ec-809d-629cc5144961</p>\n",
       "        <table style=\"width: 100%; text-align: left;\">\n",
       "\n",
       "        <tr>\n",
       "        \n",
       "            <td style=\"text-align: left;\"><strong>Connection method:</strong> Cluster object</td>\n",
       "            <td style=\"text-align: left;\"><strong>Cluster type:</strong> distributed.LocalCluster</td>\n",
       "        \n",
       "        </tr>\n",
       "\n",
       "        \n",
       "            <tr>\n",
       "                <td style=\"text-align: left;\">\n",
       "                    <strong>Dashboard: </strong> <a href=\"/user/robbi.bishoptaylor@ga.gov.au/proxy/8787/status\" target=\"_blank\">/user/robbi.bishoptaylor@ga.gov.au/proxy/8787/status</a>\n",
       "                </td>\n",
       "                <td style=\"text-align: left;\"></td>\n",
       "            </tr>\n",
       "        \n",
       "\n",
       "        </table>\n",
       "\n",
       "        \n",
       "            <details>\n",
       "            <summary style=\"margin-bottom: 20px;\"><h3 style=\"display: inline;\">Cluster Info</h3></summary>\n",
       "            <div class=\"jp-RenderedHTMLCommon jp-RenderedHTML jp-mod-trusted jp-OutputArea-output\">\n",
       "    <div style=\"width: 24px; height: 24px; background-color: #e1e1e1; border: 3px solid #9D9D9D; border-radius: 5px; position: absolute;\">\n",
       "    </div>\n",
       "    <div style=\"margin-left: 48px;\">\n",
       "        <h3 style=\"margin-bottom: 0px; margin-top: 0px;\">LocalCluster</h3>\n",
       "        <p style=\"color: #9D9D9D; margin-bottom: 0px;\">e84eeb9c</p>\n",
       "        <table style=\"width: 100%; text-align: left;\">\n",
       "            <tr>\n",
       "                <td style=\"text-align: left;\">\n",
       "                    <strong>Dashboard:</strong> <a href=\"/user/robbi.bishoptaylor@ga.gov.au/proxy/8787/status\" target=\"_blank\">/user/robbi.bishoptaylor@ga.gov.au/proxy/8787/status</a>\n",
       "                </td>\n",
       "                <td style=\"text-align: left;\">\n",
       "                    <strong>Workers:</strong> 1\n",
       "                </td>\n",
       "            </tr>\n",
       "            <tr>\n",
       "                <td style=\"text-align: left;\">\n",
       "                    <strong>Total threads:</strong> 62\n",
       "                </td>\n",
       "                <td style=\"text-align: left;\">\n",
       "                    <strong>Total memory:</strong> 477.21 GiB\n",
       "                </td>\n",
       "            </tr>\n",
       "            \n",
       "            <tr>\n",
       "    <td style=\"text-align: left;\"><strong>Status:</strong> running</td>\n",
       "    <td style=\"text-align: left;\"><strong>Using processes:</strong> True</td>\n",
       "</tr>\n",
       "\n",
       "            \n",
       "        </table>\n",
       "\n",
       "        <details>\n",
       "            <summary style=\"margin-bottom: 20px;\">\n",
       "                <h3 style=\"display: inline;\">Scheduler Info</h3>\n",
       "            </summary>\n",
       "\n",
       "            <div style=\"\">\n",
       "    <div>\n",
       "        <div style=\"width: 24px; height: 24px; background-color: #FFF7E5; border: 3px solid #FF6132; border-radius: 5px; position: absolute;\"> </div>\n",
       "        <div style=\"margin-left: 48px;\">\n",
       "            <h3 style=\"margin-bottom: 0px;\">Scheduler</h3>\n",
       "            <p style=\"color: #9D9D9D; margin-bottom: 0px;\">Scheduler-b8209005-6c68-41cb-aa09-3578e4beef69</p>\n",
       "            <table style=\"width: 100%; text-align: left;\">\n",
       "                <tr>\n",
       "                    <td style=\"text-align: left;\">\n",
       "                        <strong>Comm:</strong> tcp://127.0.0.1:46611\n",
       "                    </td>\n",
       "                    <td style=\"text-align: left;\">\n",
       "                        <strong>Workers:</strong> 1\n",
       "                    </td>\n",
       "                </tr>\n",
       "                <tr>\n",
       "                    <td style=\"text-align: left;\">\n",
       "                        <strong>Dashboard:</strong> <a href=\"/user/robbi.bishoptaylor@ga.gov.au/proxy/8787/status\" target=\"_blank\">/user/robbi.bishoptaylor@ga.gov.au/proxy/8787/status</a>\n",
       "                    </td>\n",
       "                    <td style=\"text-align: left;\">\n",
       "                        <strong>Total threads:</strong> 62\n",
       "                    </td>\n",
       "                </tr>\n",
       "                <tr>\n",
       "                    <td style=\"text-align: left;\">\n",
       "                        <strong>Started:</strong> Just now\n",
       "                    </td>\n",
       "                    <td style=\"text-align: left;\">\n",
       "                        <strong>Total memory:</strong> 477.21 GiB\n",
       "                    </td>\n",
       "                </tr>\n",
       "            </table>\n",
       "        </div>\n",
       "    </div>\n",
       "\n",
       "    <details style=\"margin-left: 48px;\">\n",
       "        <summary style=\"margin-bottom: 20px;\">\n",
       "            <h3 style=\"display: inline;\">Workers</h3>\n",
       "        </summary>\n",
       "\n",
       "        \n",
       "        <div style=\"margin-bottom: 20px;\">\n",
       "            <div style=\"width: 24px; height: 24px; background-color: #DBF5FF; border: 3px solid #4CC9FF; border-radius: 5px; position: absolute;\"> </div>\n",
       "            <div style=\"margin-left: 48px;\">\n",
       "            <details>\n",
       "                <summary>\n",
       "                    <h4 style=\"margin-bottom: 0px; display: inline;\">Worker: 0</h4>\n",
       "                </summary>\n",
       "                <table style=\"width: 100%; text-align: left;\">\n",
       "                    <tr>\n",
       "                        <td style=\"text-align: left;\">\n",
       "                            <strong>Comm: </strong> tcp://127.0.0.1:39743\n",
       "                        </td>\n",
       "                        <td style=\"text-align: left;\">\n",
       "                            <strong>Total threads: </strong> 62\n",
       "                        </td>\n",
       "                    </tr>\n",
       "                    <tr>\n",
       "                        <td style=\"text-align: left;\">\n",
       "                            <strong>Dashboard: </strong> <a href=\"/user/robbi.bishoptaylor@ga.gov.au/proxy/43097/status\" target=\"_blank\">/user/robbi.bishoptaylor@ga.gov.au/proxy/43097/status</a>\n",
       "                        </td>\n",
       "                        <td style=\"text-align: left;\">\n",
       "                            <strong>Memory: </strong> 477.21 GiB\n",
       "                        </td>\n",
       "                    </tr>\n",
       "                    <tr>\n",
       "                        <td style=\"text-align: left;\">\n",
       "                            <strong>Nanny: </strong> tcp://127.0.0.1:42367\n",
       "                        </td>\n",
       "                        <td style=\"text-align: left;\"></td>\n",
       "                    </tr>\n",
       "                    <tr>\n",
       "                        <td colspan=\"2\" style=\"text-align: left;\">\n",
       "                            <strong>Local directory: </strong> /home/jovyan/Robbi/dea-intertidal/dask-worker-space/worker-p3ydpold\n",
       "                        </td>\n",
       "                    </tr>\n",
       "\n",
       "                    \n",
       "\n",
       "                    \n",
       "\n",
       "                </table>\n",
       "            </details>\n",
       "            </div>\n",
       "        </div>\n",
       "        \n",
       "\n",
       "    </details>\n",
       "</div>\n",
       "\n",
       "        </details>\n",
       "    </div>\n",
       "</div>\n",
       "            </details>\n",
       "        \n",
       "\n",
       "    </div>\n",
       "</div>"
      ],
      "text/plain": [
       "<Client: 'tcp://127.0.0.1:46611' processes=1 threads=62, memory=477.21 GiB>"
      ]
     },
     "metadata": {},
     "output_type": "display_data"
    }
   ],
   "source": [
    "%load_ext autoreload\n",
    "%autoreload 2\n",
    "\n",
    "import datacube\n",
    "import xarray as xr\n",
    "import pandas as pd\n",
    "import numpy as np\n",
    "import geopandas as gpd\n",
    "import matplotlib.pyplot as plt\n",
    "from datacube.utils.cog import write_cog\n",
    "from datacube.utils.geometry import Geometry\n",
    "import odc.geo.xr\n",
    "\n",
    "from dea_tools.dask import create_local_dask_cluster, create_dask_gateway_cluster\n",
    "from coastlines.raster import model_tides, multiprocess_apply\n",
    "from intertidal.extents import load_data, pixel_tide_sort, item, nidem\n",
    "\n",
    "\n",
    "def create_dask_gateway_cluster(profile=\"r5_L\", workers=2):\n",
    "    \"\"\"\n",
    "    Create a cluster in our internal dask cluster.\n",
    "    Parameters\n",
    "    ----------\n",
    "    profile : str\n",
    "        Possible values are:\n",
    "            - r5_L (2 cores, 15GB memory)\n",
    "            - r5_XL (4 cores, 31GB memory)\n",
    "            - r5_2XL (8 cores, 63GB memory)\n",
    "            - r5_4XL (16 cores, 127GB memory)\n",
    "    workers : int\n",
    "        Number of workers in the cluster.\n",
    "    \"\"\"        \n",
    "    \n",
    "    try:\n",
    "        \n",
    "        from dask_gateway import Gateway\n",
    "        gateway = Gateway()\n",
    "\n",
    "        # Close any existing clusters\n",
    "        if len(cluster_names) > 0:\n",
    "            print(\"Cluster(s) still running:\", cluster_names)\n",
    "            for n in cluster_names:\n",
    "                cluster = gateway.connect(n.name)\n",
    "                cluster.shutdown()\n",
    "\n",
    "        # Connect to new cluster\n",
    "        options = gateway.cluster_options()\n",
    "        options[\"profile\"] = profile\n",
    "        options[\"jupyterhub_user\"] = \"robbi\"\n",
    "        cluster = gateway.new_cluster(options)\n",
    "        cluster.scale(workers)\n",
    "\n",
    "        return cluster\n",
    "\n",
    "    except ClientConnectionError:\n",
    "        raise ConnectionError(\"Access to dask gateway cluster unauthorized\")\n",
    "\n",
    "# cluster = create_dask_gateway_cluster(profile=\"r5_4XL\", workers=10)\n",
    "# print(\"Dashboard\", cluster.dashboard_link)\n",
    "# client = cluster.get_client()\n",
    "\n",
    "# Create local dask cluster to improve data load time\n",
    "client = create_local_dask_cluster(return_client=True)"
   ]
  },
  {
   "cell_type": "markdown",
   "id": "9b72074d-c4bc-410b-83e1-80295227b81c",
   "metadata": {},
   "source": [
    "## Setup"
   ]
  },
  {
   "cell_type": "code",
   "execution_count": 5,
   "id": "a45b5cc6-be50-49f1-bbd9-fc0cf740181a",
   "metadata": {},
   "outputs": [],
   "source": [
    "dc = datacube.Datacube(app='Intertidal_elevation')"
   ]
  },
  {
   "cell_type": "code",
   "execution_count": 132,
   "id": "6031b959-82c9-4698-a71c-410896b24134",
   "metadata": {},
   "outputs": [
    {
     "data": {
      "image/svg+xml": [
       "<svg xmlns=\"http://www.w3.org/2000/svg\" xmlns:xlink=\"http://www.w3.org/1999/xlink\" width=\"300\" height=\"300\" viewBox=\"612809.6843605926 -1780986.0042191646 31532.47662492073 37496.83674979699\" preserveAspectRatio=\"xMinYMin meet\"><g transform=\"matrix(1,0,0,-1,0,-3524475.1716885325)\"><path fill-rule=\"evenodd\" fill=\"#66cc99\" stroke=\"#555555\" stroke-width=\"249.97891166531326\" opacity=\"0.6\" d=\"M 642292.0397815972,-1779597.2324876906 L 642953.3892540394,-1774745.718231195 L 637710.2735331923,-1767963.4423670901 L 629401.5329788454,-1762040.4783471045 L 627869.0431481804,-1758004.8111196405 L 624780.3077986662,-1753411.7074675139 L 622003.4049080892,-1751246.6565903677 L 620852.6585385501,-1748945.4190871643 L 620651.522893429,-1747790.0169972123 L 618651.8607899075,-1744877.9392008416 L 616830.528489599,-1745660.7244781845 L 614754.8086213917,-1750570.0727328183 L 614198.4560920666,-1753945.5168674581 L 614808.6842218001,-1756264.3505845768 L 616784.8994335878,-1759705.066037484 L 620590.1919916125,-1763099.884474727 L 622304.5452514553,-1762844.831804383 L 625147.1427083213,-1765380.5407386348 L 625867.5984779329,-1767007.8537313766 L 629190.0085668135,-1769974.5462644778 L 632967.2503843564,-1771036.8285668117 L 636418.631911622,-1772946.5594222783 L 639511.6903980551,-1775498.1861738963 L 640338.644799072,-1777584.1769490878 L 642292.0397815972,-1779597.2324876906 z\" /></g></svg>"
      ],
      "text/plain": [
       "Geometry(POLYGON ((642292.0397815972 -1779597.232487691, 642953.3892540394 -1774745.718231195, 637710.2735331923 -1767963.44236709, 629401.5329788454 -1762040.478347105, 627869.0431481804 -1758004.81111964, 624780.3077986662 -1753411.707467514, 622003.4049080892 -1751246.656590368, 620852.6585385501 -1748945.419087164, 620651.522893429 -1747790.016997212, 618651.8607899075 -1744877.939200842, 616830.528489599 -1745660.724478184, 614754.8086213917 -1750570.072732818, 614198.4560920666 -1753945.516867458, 614808.6842218001 -1756264.350584577, 616784.8994335878 -1759705.066037484, 620590.1919916125 -1763099.884474727, 622304.5452514553 -1762844.831804383, 625147.1427083213 -1765380.540738635, 625867.5984779329 -1767007.853731377, 629190.0085668135 -1769974.546264478, 632967.2503843564 -1771036.828566812, 636418.631911622 -1772946.559422278, 639511.6903980551 -1775498.186173896, 640338.6447990719 -1777584.176949088, 642292.0397815972 -1779597.232487691)), EPSG:3577)"
      ]
     },
     "execution_count": 132,
     "metadata": {},
     "output_type": "execute_result"
    }
   ],
   "source": [
    "# aoi = 'McCarthur River'\n",
    "# aoi = 'Greenbank'\n",
    "# aoi = 'Seven Emu'\n",
    "aoi = 'Wollogorang'\n",
    "\n",
    "# Import regions of interest\n",
    "aoi_gdf = gpd.read_file('data/raw/Phase_1_NT_Gov.geojson').set_index('Name').to_crs('EPSG:3577')\n",
    "aoi_gdf.head()\n",
    "\n",
    "# Select AOI\n",
    "geom = Geometry(geom=aoi_gdf.loc[aoi].geometry, crs='EPSG:3577')\n",
    "geom"
   ]
  },
  {
   "cell_type": "code",
   "execution_count": 12,
   "id": "bdcf1c79-ae5a-4453-a7e8-d3f021b0b65a",
   "metadata": {},
   "outputs": [],
   "source": [
    "# from odc.ui import select_on_a_map\n",
    "# from ipyleaflet import basemaps, basemap_to_tiles\n",
    "\n",
    "# # Plot interactive map to select area\n",
    "# basemap = basemap_to_tiles(basemaps.Esri.WorldImagery)\n",
    "# geom = select_on_a_map(height='600px',\n",
    "#                              layers=(basemap,),\n",
    "#                              center=(-26, 135), \n",
    "#                              zoom=4)"
   ]
  },
  {
   "cell_type": "markdown",
   "id": "54c892b8-42d3-4930-ad97-e0e214535fc5",
   "metadata": {},
   "source": [
    "## Load data"
   ]
  },
  {
   "cell_type": "code",
   "execution_count": 133,
   "id": "aacc0b6d-39e1-4609-8807-79db8882833f",
   "metadata": {},
   "outputs": [
    {
     "data": {
      "text/html": [
       "<div><svg style=\"position: absolute; width: 0; height: 0; overflow: hidden\">\n",
       "<defs>\n",
       "<symbol id=\"icon-database\" viewBox=\"0 0 32 32\">\n",
       "<path d=\"M16 0c-8.837 0-16 2.239-16 5v4c0 2.761 7.163 5 16 5s16-2.239 16-5v-4c0-2.761-7.163-5-16-5z\"></path>\n",
       "<path d=\"M16 17c-8.837 0-16-2.239-16-5v6c0 2.761 7.163 5 16 5s16-2.239 16-5v-6c0 2.761-7.163 5-16 5z\"></path>\n",
       "<path d=\"M16 26c-8.837 0-16-2.239-16-5v6c0 2.761 7.163 5 16 5s16-2.239 16-5v-6c0 2.761-7.163 5-16 5z\"></path>\n",
       "</symbol>\n",
       "<symbol id=\"icon-file-text2\" viewBox=\"0 0 32 32\">\n",
       "<path d=\"M28.681 7.159c-0.694-0.947-1.662-2.053-2.724-3.116s-2.169-2.030-3.116-2.724c-1.612-1.182-2.393-1.319-2.841-1.319h-15.5c-1.378 0-2.5 1.121-2.5 2.5v27c0 1.378 1.122 2.5 2.5 2.5h23c1.378 0 2.5-1.122 2.5-2.5v-19.5c0-0.448-0.137-1.23-1.319-2.841zM24.543 5.457c0.959 0.959 1.712 1.825 2.268 2.543h-4.811v-4.811c0.718 0.556 1.584 1.309 2.543 2.268zM28 29.5c0 0.271-0.229 0.5-0.5 0.5h-23c-0.271 0-0.5-0.229-0.5-0.5v-27c0-0.271 0.229-0.5 0.5-0.5 0 0 15.499-0 15.5 0v7c0 0.552 0.448 1 1 1h7v19.5z\"></path>\n",
       "<path d=\"M23 26h-14c-0.552 0-1-0.448-1-1s0.448-1 1-1h14c0.552 0 1 0.448 1 1s-0.448 1-1 1z\"></path>\n",
       "<path d=\"M23 22h-14c-0.552 0-1-0.448-1-1s0.448-1 1-1h14c0.552 0 1 0.448 1 1s-0.448 1-1 1z\"></path>\n",
       "<path d=\"M23 18h-14c-0.552 0-1-0.448-1-1s0.448-1 1-1h14c0.552 0 1 0.448 1 1s-0.448 1-1 1z\"></path>\n",
       "</symbol>\n",
       "</defs>\n",
       "</svg>\n",
       "<style>/* CSS stylesheet for displaying xarray objects in jupyterlab.\n",
       " *\n",
       " */\n",
       "\n",
       ":root {\n",
       "  --xr-font-color0: var(--jp-content-font-color0, rgba(0, 0, 0, 1));\n",
       "  --xr-font-color2: var(--jp-content-font-color2, rgba(0, 0, 0, 0.54));\n",
       "  --xr-font-color3: var(--jp-content-font-color3, rgba(0, 0, 0, 0.38));\n",
       "  --xr-border-color: var(--jp-border-color2, #e0e0e0);\n",
       "  --xr-disabled-color: var(--jp-layout-color3, #bdbdbd);\n",
       "  --xr-background-color: var(--jp-layout-color0, white);\n",
       "  --xr-background-color-row-even: var(--jp-layout-color1, white);\n",
       "  --xr-background-color-row-odd: var(--jp-layout-color2, #eeeeee);\n",
       "}\n",
       "\n",
       "html[theme=dark],\n",
       "body.vscode-dark {\n",
       "  --xr-font-color0: rgba(255, 255, 255, 1);\n",
       "  --xr-font-color2: rgba(255, 255, 255, 0.54);\n",
       "  --xr-font-color3: rgba(255, 255, 255, 0.38);\n",
       "  --xr-border-color: #1F1F1F;\n",
       "  --xr-disabled-color: #515151;\n",
       "  --xr-background-color: #111111;\n",
       "  --xr-background-color-row-even: #111111;\n",
       "  --xr-background-color-row-odd: #313131;\n",
       "}\n",
       "\n",
       ".xr-wrap {\n",
       "  display: block !important;\n",
       "  min-width: 300px;\n",
       "  max-width: 700px;\n",
       "}\n",
       "\n",
       ".xr-text-repr-fallback {\n",
       "  /* fallback to plain text repr when CSS is not injected (untrusted notebook) */\n",
       "  display: none;\n",
       "}\n",
       "\n",
       ".xr-header {\n",
       "  padding-top: 6px;\n",
       "  padding-bottom: 6px;\n",
       "  margin-bottom: 4px;\n",
       "  border-bottom: solid 1px var(--xr-border-color);\n",
       "}\n",
       "\n",
       ".xr-header > div,\n",
       ".xr-header > ul {\n",
       "  display: inline;\n",
       "  margin-top: 0;\n",
       "  margin-bottom: 0;\n",
       "}\n",
       "\n",
       ".xr-obj-type,\n",
       ".xr-array-name {\n",
       "  margin-left: 2px;\n",
       "  margin-right: 10px;\n",
       "}\n",
       "\n",
       ".xr-obj-type {\n",
       "  color: var(--xr-font-color2);\n",
       "}\n",
       "\n",
       ".xr-sections {\n",
       "  padding-left: 0 !important;\n",
       "  display: grid;\n",
       "  grid-template-columns: 150px auto auto 1fr 20px 20px;\n",
       "}\n",
       "\n",
       ".xr-section-item {\n",
       "  display: contents;\n",
       "}\n",
       "\n",
       ".xr-section-item input {\n",
       "  display: none;\n",
       "}\n",
       "\n",
       ".xr-section-item input + label {\n",
       "  color: var(--xr-disabled-color);\n",
       "}\n",
       "\n",
       ".xr-section-item input:enabled + label {\n",
       "  cursor: pointer;\n",
       "  color: var(--xr-font-color2);\n",
       "}\n",
       "\n",
       ".xr-section-item input:enabled + label:hover {\n",
       "  color: var(--xr-font-color0);\n",
       "}\n",
       "\n",
       ".xr-section-summary {\n",
       "  grid-column: 1;\n",
       "  color: var(--xr-font-color2);\n",
       "  font-weight: 500;\n",
       "}\n",
       "\n",
       ".xr-section-summary > span {\n",
       "  display: inline-block;\n",
       "  padding-left: 0.5em;\n",
       "}\n",
       "\n",
       ".xr-section-summary-in:disabled + label {\n",
       "  color: var(--xr-font-color2);\n",
       "}\n",
       "\n",
       ".xr-section-summary-in + label:before {\n",
       "  display: inline-block;\n",
       "  content: '►';\n",
       "  font-size: 11px;\n",
       "  width: 15px;\n",
       "  text-align: center;\n",
       "}\n",
       "\n",
       ".xr-section-summary-in:disabled + label:before {\n",
       "  color: var(--xr-disabled-color);\n",
       "}\n",
       "\n",
       ".xr-section-summary-in:checked + label:before {\n",
       "  content: '▼';\n",
       "}\n",
       "\n",
       ".xr-section-summary-in:checked + label > span {\n",
       "  display: none;\n",
       "}\n",
       "\n",
       ".xr-section-summary,\n",
       ".xr-section-inline-details {\n",
       "  padding-top: 4px;\n",
       "  padding-bottom: 4px;\n",
       "}\n",
       "\n",
       ".xr-section-inline-details {\n",
       "  grid-column: 2 / -1;\n",
       "}\n",
       "\n",
       ".xr-section-details {\n",
       "  display: none;\n",
       "  grid-column: 1 / -1;\n",
       "  margin-bottom: 5px;\n",
       "}\n",
       "\n",
       ".xr-section-summary-in:checked ~ .xr-section-details {\n",
       "  display: contents;\n",
       "}\n",
       "\n",
       ".xr-array-wrap {\n",
       "  grid-column: 1 / -1;\n",
       "  display: grid;\n",
       "  grid-template-columns: 20px auto;\n",
       "}\n",
       "\n",
       ".xr-array-wrap > label {\n",
       "  grid-column: 1;\n",
       "  vertical-align: top;\n",
       "}\n",
       "\n",
       ".xr-preview {\n",
       "  color: var(--xr-font-color3);\n",
       "}\n",
       "\n",
       ".xr-array-preview,\n",
       ".xr-array-data {\n",
       "  padding: 0 5px !important;\n",
       "  grid-column: 2;\n",
       "}\n",
       "\n",
       ".xr-array-data,\n",
       ".xr-array-in:checked ~ .xr-array-preview {\n",
       "  display: none;\n",
       "}\n",
       "\n",
       ".xr-array-in:checked ~ .xr-array-data,\n",
       ".xr-array-preview {\n",
       "  display: inline-block;\n",
       "}\n",
       "\n",
       ".xr-dim-list {\n",
       "  display: inline-block !important;\n",
       "  list-style: none;\n",
       "  padding: 0 !important;\n",
       "  margin: 0;\n",
       "}\n",
       "\n",
       ".xr-dim-list li {\n",
       "  display: inline-block;\n",
       "  padding: 0;\n",
       "  margin: 0;\n",
       "}\n",
       "\n",
       ".xr-dim-list:before {\n",
       "  content: '(';\n",
       "}\n",
       "\n",
       ".xr-dim-list:after {\n",
       "  content: ')';\n",
       "}\n",
       "\n",
       ".xr-dim-list li:not(:last-child):after {\n",
       "  content: ',';\n",
       "  padding-right: 5px;\n",
       "}\n",
       "\n",
       ".xr-has-index {\n",
       "  font-weight: bold;\n",
       "}\n",
       "\n",
       ".xr-var-list,\n",
       ".xr-var-item {\n",
       "  display: contents;\n",
       "}\n",
       "\n",
       ".xr-var-item > div,\n",
       ".xr-var-item label,\n",
       ".xr-var-item > .xr-var-name span {\n",
       "  background-color: var(--xr-background-color-row-even);\n",
       "  margin-bottom: 0;\n",
       "}\n",
       "\n",
       ".xr-var-item > .xr-var-name:hover span {\n",
       "  padding-right: 5px;\n",
       "}\n",
       "\n",
       ".xr-var-list > li:nth-child(odd) > div,\n",
       ".xr-var-list > li:nth-child(odd) > label,\n",
       ".xr-var-list > li:nth-child(odd) > .xr-var-name span {\n",
       "  background-color: var(--xr-background-color-row-odd);\n",
       "}\n",
       "\n",
       ".xr-var-name {\n",
       "  grid-column: 1;\n",
       "}\n",
       "\n",
       ".xr-var-dims {\n",
       "  grid-column: 2;\n",
       "}\n",
       "\n",
       ".xr-var-dtype {\n",
       "  grid-column: 3;\n",
       "  text-align: right;\n",
       "  color: var(--xr-font-color2);\n",
       "}\n",
       "\n",
       ".xr-var-preview {\n",
       "  grid-column: 4;\n",
       "}\n",
       "\n",
       ".xr-var-name,\n",
       ".xr-var-dims,\n",
       ".xr-var-dtype,\n",
       ".xr-preview,\n",
       ".xr-attrs dt {\n",
       "  white-space: nowrap;\n",
       "  overflow: hidden;\n",
       "  text-overflow: ellipsis;\n",
       "  padding-right: 10px;\n",
       "}\n",
       "\n",
       ".xr-var-name:hover,\n",
       ".xr-var-dims:hover,\n",
       ".xr-var-dtype:hover,\n",
       ".xr-attrs dt:hover {\n",
       "  overflow: visible;\n",
       "  width: auto;\n",
       "  z-index: 1;\n",
       "}\n",
       "\n",
       ".xr-var-attrs,\n",
       ".xr-var-data {\n",
       "  display: none;\n",
       "  background-color: var(--xr-background-color) !important;\n",
       "  padding-bottom: 5px !important;\n",
       "}\n",
       "\n",
       ".xr-var-attrs-in:checked ~ .xr-var-attrs,\n",
       ".xr-var-data-in:checked ~ .xr-var-data {\n",
       "  display: block;\n",
       "}\n",
       "\n",
       ".xr-var-data > table {\n",
       "  float: right;\n",
       "}\n",
       "\n",
       ".xr-var-name span,\n",
       ".xr-var-data,\n",
       ".xr-attrs {\n",
       "  padding-left: 25px !important;\n",
       "}\n",
       "\n",
       ".xr-attrs,\n",
       ".xr-var-attrs,\n",
       ".xr-var-data {\n",
       "  grid-column: 1 / -1;\n",
       "}\n",
       "\n",
       "dl.xr-attrs {\n",
       "  padding: 0;\n",
       "  margin: 0;\n",
       "  display: grid;\n",
       "  grid-template-columns: 125px auto;\n",
       "}\n",
       "\n",
       ".xr-attrs dt,\n",
       ".xr-attrs dd {\n",
       "  padding: 0;\n",
       "  margin: 0;\n",
       "  float: left;\n",
       "  padding-right: 10px;\n",
       "  width: auto;\n",
       "}\n",
       "\n",
       ".xr-attrs dt {\n",
       "  font-weight: normal;\n",
       "  grid-column: 1;\n",
       "}\n",
       "\n",
       ".xr-attrs dt:hover span {\n",
       "  display: inline-block;\n",
       "  background: var(--xr-background-color);\n",
       "  padding-right: 10px;\n",
       "}\n",
       "\n",
       ".xr-attrs dd {\n",
       "  grid-column: 2;\n",
       "  white-space: pre-wrap;\n",
       "  word-break: break-all;\n",
       "}\n",
       "\n",
       ".xr-icon-database,\n",
       ".xr-icon-file-text2 {\n",
       "  display: inline-block;\n",
       "  vertical-align: middle;\n",
       "  width: 1em;\n",
       "  height: 1.5em !important;\n",
       "  stroke-width: 0;\n",
       "  stroke: currentColor;\n",
       "  fill: currentColor;\n",
       "}\n",
       "</style><pre class='xr-text-repr-fallback'>&lt;xarray.Dataset&gt;\n",
       "Dimensions:      (time: 720, y: 3413, x: 2930)\n",
       "Coordinates:\n",
       "  * time         (time) datetime64[ns] 2017-01-14T00:47:04.662698 ... 2021-12...\n",
       "  * y            (y) float64 8.199e+06 8.199e+06 ... 8.165e+06 8.165e+06\n",
       "  * x            (x) float64 7.911e+05 7.911e+05 ... 8.204e+05 8.204e+05\n",
       "    spatial_ref  int32 32753\n",
       "Data variables:\n",
       "    ndwi         (time, y, x) float32 dask.array&lt;chunksize=(1, 2048, 2048), meta=np.ndarray&gt;\n",
       "Attributes:\n",
       "    crs:           epsg:32753\n",
       "    grid_mapping:  spatial_ref</pre><div class='xr-wrap' style='display:none'><div class='xr-header'><div class='xr-obj-type'>xarray.Dataset</div></div><ul class='xr-sections'><li class='xr-section-item'><input id='section-32b686ee-3be5-4aba-9f43-3a2f7272bb67' class='xr-section-summary-in' type='checkbox' disabled ><label for='section-32b686ee-3be5-4aba-9f43-3a2f7272bb67' class='xr-section-summary'  title='Expand/collapse section'>Dimensions:</label><div class='xr-section-inline-details'><ul class='xr-dim-list'><li><span class='xr-has-index'>time</span>: 720</li><li><span class='xr-has-index'>y</span>: 3413</li><li><span class='xr-has-index'>x</span>: 2930</li></ul></div><div class='xr-section-details'></div></li><li class='xr-section-item'><input id='section-a0c6538d-b193-462e-999d-51e6cbca82ce' class='xr-section-summary-in' type='checkbox'  checked><label for='section-a0c6538d-b193-462e-999d-51e6cbca82ce' class='xr-section-summary' >Coordinates: <span>(4)</span></label><div class='xr-section-inline-details'></div><div class='xr-section-details'><ul class='xr-var-list'><li class='xr-var-item'><div class='xr-var-name'><span class='xr-has-index'>time</span></div><div class='xr-var-dims'>(time)</div><div class='xr-var-dtype'>datetime64[ns]</div><div class='xr-var-preview xr-preview'>2017-01-14T00:47:04.662698 ... 2...</div><input id='attrs-367e958e-d9e4-4b5f-ab00-4a2b512a96b8' class='xr-var-attrs-in' type='checkbox' ><label for='attrs-367e958e-d9e4-4b5f-ab00-4a2b512a96b8' title='Show/Hide attributes'><svg class='icon xr-icon-file-text2'><use xlink:href='#icon-file-text2'></use></svg></label><input id='data-a45b0799-327e-4ffb-b554-bedee64f3603' class='xr-var-data-in' type='checkbox'><label for='data-a45b0799-327e-4ffb-b554-bedee64f3603' title='Show/Hide data repr'><svg class='icon xr-icon-database'><use xlink:href='#icon-database'></use></svg></label><div class='xr-var-attrs'><dl class='xr-attrs'><dt><span>units :</span></dt><dd>seconds since 1970-01-01 00:00:00</dd></dl></div><div class='xr-var-data'><pre>array([&#x27;2017-01-14T00:47:04.662698000&#x27;, &#x27;2017-01-21T00:53:13.103994000&#x27;,\n",
       "       &#x27;2017-01-22T00:48:58.574429000&#x27;, ..., &#x27;2021-12-18T23:35:58.967982000&#x27;,\n",
       "       &#x27;2021-12-21T01:11:35.812382000&#x27;, &#x27;2021-12-31T01:11:36.544992000&#x27;],\n",
       "      dtype=&#x27;datetime64[ns]&#x27;)</pre></div></li><li class='xr-var-item'><div class='xr-var-name'><span class='xr-has-index'>y</span></div><div class='xr-var-dims'>(y)</div><div class='xr-var-dtype'>float64</div><div class='xr-var-preview xr-preview'>8.199e+06 8.199e+06 ... 8.165e+06</div><input id='attrs-6ac13604-95df-450c-9e01-d7d610010ee2' class='xr-var-attrs-in' type='checkbox' ><label for='attrs-6ac13604-95df-450c-9e01-d7d610010ee2' title='Show/Hide attributes'><svg class='icon xr-icon-file-text2'><use xlink:href='#icon-file-text2'></use></svg></label><input id='data-69b156b7-715c-4119-a8c5-7b7e9cb3c5fe' class='xr-var-data-in' type='checkbox'><label for='data-69b156b7-715c-4119-a8c5-7b7e9cb3c5fe' title='Show/Hide data repr'><svg class='icon xr-icon-database'><use xlink:href='#icon-database'></use></svg></label><div class='xr-var-attrs'><dl class='xr-attrs'><dt><span>units :</span></dt><dd>metre</dd><dt><span>resolution :</span></dt><dd>-10.0</dd><dt><span>crs :</span></dt><dd>epsg:32753</dd></dl></div><div class='xr-var-data'><pre>array([8199455., 8199445., 8199435., ..., 8165355., 8165345., 8165335.])</pre></div></li><li class='xr-var-item'><div class='xr-var-name'><span class='xr-has-index'>x</span></div><div class='xr-var-dims'>(x)</div><div class='xr-var-dtype'>float64</div><div class='xr-var-preview xr-preview'>7.911e+05 7.911e+05 ... 8.204e+05</div><input id='attrs-0ddae885-cec7-4900-ba02-ba27fe7b11b9' class='xr-var-attrs-in' type='checkbox' ><label for='attrs-0ddae885-cec7-4900-ba02-ba27fe7b11b9' title='Show/Hide attributes'><svg class='icon xr-icon-file-text2'><use xlink:href='#icon-file-text2'></use></svg></label><input id='data-8508c8ad-2b6f-4932-82ba-06038fdf82be' class='xr-var-data-in' type='checkbox'><label for='data-8508c8ad-2b6f-4932-82ba-06038fdf82be' title='Show/Hide data repr'><svg class='icon xr-icon-database'><use xlink:href='#icon-database'></use></svg></label><div class='xr-var-attrs'><dl class='xr-attrs'><dt><span>units :</span></dt><dd>metre</dd><dt><span>resolution :</span></dt><dd>10.0</dd><dt><span>crs :</span></dt><dd>epsg:32753</dd></dl></div><div class='xr-var-data'><pre>array([791075., 791085., 791095., ..., 820345., 820355., 820365.])</pre></div></li><li class='xr-var-item'><div class='xr-var-name'><span>spatial_ref</span></div><div class='xr-var-dims'>()</div><div class='xr-var-dtype'>int32</div><div class='xr-var-preview xr-preview'>32753</div><input id='attrs-8699e010-a4fe-4d8d-a049-9da180052f5b' class='xr-var-attrs-in' type='checkbox' ><label for='attrs-8699e010-a4fe-4d8d-a049-9da180052f5b' title='Show/Hide attributes'><svg class='icon xr-icon-file-text2'><use xlink:href='#icon-file-text2'></use></svg></label><input id='data-865c8a88-a3ff-49da-b532-4f47896f4ae5' class='xr-var-data-in' type='checkbox'><label for='data-865c8a88-a3ff-49da-b532-4f47896f4ae5' title='Show/Hide data repr'><svg class='icon xr-icon-database'><use xlink:href='#icon-database'></use></svg></label><div class='xr-var-attrs'><dl class='xr-attrs'><dt><span>spatial_ref :</span></dt><dd>PROJCS[&quot;WGS 84 / UTM zone 53S&quot;,GEOGCS[&quot;WGS 84&quot;,DATUM[&quot;WGS_1984&quot;,SPHEROID[&quot;WGS 84&quot;,6378137,298.257223563,AUTHORITY[&quot;EPSG&quot;,&quot;7030&quot;]],AUTHORITY[&quot;EPSG&quot;,&quot;6326&quot;]],PRIMEM[&quot;Greenwich&quot;,0,AUTHORITY[&quot;EPSG&quot;,&quot;8901&quot;]],UNIT[&quot;degree&quot;,0.0174532925199433,AUTHORITY[&quot;EPSG&quot;,&quot;9122&quot;]],AUTHORITY[&quot;EPSG&quot;,&quot;4326&quot;]],PROJECTION[&quot;Transverse_Mercator&quot;],PARAMETER[&quot;latitude_of_origin&quot;,0],PARAMETER[&quot;central_meridian&quot;,135],PARAMETER[&quot;scale_factor&quot;,0.9996],PARAMETER[&quot;false_easting&quot;,500000],PARAMETER[&quot;false_northing&quot;,10000000],UNIT[&quot;metre&quot;,1,AUTHORITY[&quot;EPSG&quot;,&quot;9001&quot;]],AXIS[&quot;Easting&quot;,EAST],AXIS[&quot;Northing&quot;,NORTH],AUTHORITY[&quot;EPSG&quot;,&quot;32753&quot;]]</dd><dt><span>grid_mapping_name :</span></dt><dd>transverse_mercator</dd></dl></div><div class='xr-var-data'><pre>array(32753, dtype=int32)</pre></div></li></ul></div></li><li class='xr-section-item'><input id='section-6a2f9a0a-a183-4d8d-bd61-05ea8fe67665' class='xr-section-summary-in' type='checkbox'  checked><label for='section-6a2f9a0a-a183-4d8d-bd61-05ea8fe67665' class='xr-section-summary' >Data variables: <span>(1)</span></label><div class='xr-section-inline-details'></div><div class='xr-section-details'><ul class='xr-var-list'><li class='xr-var-item'><div class='xr-var-name'><span>ndwi</span></div><div class='xr-var-dims'>(time, y, x)</div><div class='xr-var-dtype'>float32</div><div class='xr-var-preview xr-preview'>dask.array&lt;chunksize=(1, 2048, 2048), meta=np.ndarray&gt;</div><input id='attrs-6532e718-2775-4279-8325-33be1b370af8' class='xr-var-attrs-in' type='checkbox' ><label for='attrs-6532e718-2775-4279-8325-33be1b370af8' title='Show/Hide attributes'><svg class='icon xr-icon-file-text2'><use xlink:href='#icon-file-text2'></use></svg></label><input id='data-e7eb009f-3609-4d3a-8c2a-b416879304df' class='xr-var-data-in' type='checkbox'><label for='data-e7eb009f-3609-4d3a-8c2a-b416879304df' title='Show/Hide data repr'><svg class='icon xr-icon-database'><use xlink:href='#icon-database'></use></svg></label><div class='xr-var-attrs'><dl class='xr-attrs'><dt><span>crs :</span></dt><dd>epsg:32753</dd><dt><span>units :</span></dt><dd>1</dd><dt><span>nodata :</span></dt><dd>nan</dd></dl></div><div class='xr-var-data'><table>\n",
       "    <tr>\n",
       "        <td>\n",
       "            <table>\n",
       "                <thead>\n",
       "                    <tr>\n",
       "                        <td> </td>\n",
       "                        <th> Array </th>\n",
       "                        <th> Chunk </th>\n",
       "                    </tr>\n",
       "                </thead>\n",
       "                <tbody>\n",
       "                    \n",
       "                    <tr>\n",
       "                        <th> Bytes </th>\n",
       "                        <td> 26.82 GiB </td>\n",
       "                        <td> 16.00 MiB </td>\n",
       "                    </tr>\n",
       "                    \n",
       "                    <tr>\n",
       "                        <th> Shape </th>\n",
       "                        <td> (720, 3413, 2930) </td>\n",
       "                        <td> (1, 2048, 2048) </td>\n",
       "                    </tr>\n",
       "                    <tr>\n",
       "                        <th> Count </th>\n",
       "                        <td> 221707 Tasks </td>\n",
       "                        <td> 2880 Chunks </td>\n",
       "                    </tr>\n",
       "                    <tr>\n",
       "                    <th> Type </th>\n",
       "                    <td> float32 </td>\n",
       "                    <td> numpy.ndarray </td>\n",
       "                    </tr>\n",
       "                </tbody>\n",
       "            </table>\n",
       "        </td>\n",
       "        <td>\n",
       "        <svg width=\"187\" height=\"194\" style=\"stroke:rgb(0,0,0);stroke-width:1\" >\n",
       "\n",
       "  <!-- Horizontal lines -->\n",
       "  <line x1=\"10\" y1=\"0\" x2=\"34\" y2=\"24\" style=\"stroke-width:2\" />\n",
       "  <line x1=\"10\" y1=\"72\" x2=\"34\" y2=\"96\" />\n",
       "  <line x1=\"10\" y1=\"120\" x2=\"34\" y2=\"144\" style=\"stroke-width:2\" />\n",
       "\n",
       "  <!-- Vertical lines -->\n",
       "  <line x1=\"10\" y1=\"0\" x2=\"10\" y2=\"120\" style=\"stroke-width:2\" />\n",
       "  <line x1=\"11\" y1=\"1\" x2=\"11\" y2=\"121\" />\n",
       "  <line x1=\"12\" y1=\"2\" x2=\"12\" y2=\"122\" />\n",
       "  <line x1=\"13\" y1=\"3\" x2=\"13\" y2=\"123\" />\n",
       "  <line x1=\"15\" y1=\"5\" x2=\"15\" y2=\"125\" />\n",
       "  <line x1=\"16\" y1=\"6\" x2=\"16\" y2=\"126\" />\n",
       "  <line x1=\"17\" y1=\"7\" x2=\"17\" y2=\"127\" />\n",
       "  <line x1=\"19\" y1=\"9\" x2=\"19\" y2=\"129\" />\n",
       "  <line x1=\"20\" y1=\"10\" x2=\"20\" y2=\"130\" />\n",
       "  <line x1=\"21\" y1=\"11\" x2=\"21\" y2=\"131\" />\n",
       "  <line x1=\"23\" y1=\"13\" x2=\"23\" y2=\"133\" />\n",
       "  <line x1=\"24\" y1=\"14\" x2=\"24\" y2=\"134\" />\n",
       "  <line x1=\"25\" y1=\"15\" x2=\"25\" y2=\"135\" />\n",
       "  <line x1=\"26\" y1=\"16\" x2=\"26\" y2=\"136\" />\n",
       "  <line x1=\"28\" y1=\"18\" x2=\"28\" y2=\"138\" />\n",
       "  <line x1=\"29\" y1=\"19\" x2=\"29\" y2=\"139\" />\n",
       "  <line x1=\"30\" y1=\"20\" x2=\"30\" y2=\"140\" />\n",
       "  <line x1=\"32\" y1=\"22\" x2=\"32\" y2=\"142\" />\n",
       "  <line x1=\"33\" y1=\"23\" x2=\"33\" y2=\"143\" />\n",
       "  <line x1=\"34\" y1=\"24\" x2=\"34\" y2=\"144\" style=\"stroke-width:2\" />\n",
       "\n",
       "  <!-- Colored Rectangle -->\n",
       "  <polygon points=\"10.0,0.0 34.84249391481039,24.842493914810387 34.84249391481039,144.84249391481038 10.0,120.0\" style=\"fill:#8B4903A0;stroke-width:0\"/>\n",
       "\n",
       "  <!-- Horizontal lines -->\n",
       "  <line x1=\"10\" y1=\"0\" x2=\"113\" y2=\"0\" style=\"stroke-width:2\" />\n",
       "  <line x1=\"11\" y1=\"1\" x2=\"114\" y2=\"1\" />\n",
       "  <line x1=\"12\" y1=\"2\" x2=\"115\" y2=\"2\" />\n",
       "  <line x1=\"13\" y1=\"3\" x2=\"116\" y2=\"3\" />\n",
       "  <line x1=\"15\" y1=\"5\" x2=\"118\" y2=\"5\" />\n",
       "  <line x1=\"16\" y1=\"6\" x2=\"119\" y2=\"6\" />\n",
       "  <line x1=\"17\" y1=\"7\" x2=\"120\" y2=\"7\" />\n",
       "  <line x1=\"19\" y1=\"9\" x2=\"122\" y2=\"9\" />\n",
       "  <line x1=\"20\" y1=\"10\" x2=\"123\" y2=\"10\" />\n",
       "  <line x1=\"21\" y1=\"11\" x2=\"124\" y2=\"11\" />\n",
       "  <line x1=\"23\" y1=\"13\" x2=\"126\" y2=\"13\" />\n",
       "  <line x1=\"24\" y1=\"14\" x2=\"127\" y2=\"14\" />\n",
       "  <line x1=\"25\" y1=\"15\" x2=\"128\" y2=\"15\" />\n",
       "  <line x1=\"26\" y1=\"16\" x2=\"129\" y2=\"16\" />\n",
       "  <line x1=\"28\" y1=\"18\" x2=\"131\" y2=\"18\" />\n",
       "  <line x1=\"29\" y1=\"19\" x2=\"132\" y2=\"19\" />\n",
       "  <line x1=\"30\" y1=\"20\" x2=\"133\" y2=\"20\" />\n",
       "  <line x1=\"32\" y1=\"22\" x2=\"135\" y2=\"22\" />\n",
       "  <line x1=\"33\" y1=\"23\" x2=\"136\" y2=\"23\" />\n",
       "  <line x1=\"34\" y1=\"24\" x2=\"137\" y2=\"24\" style=\"stroke-width:2\" />\n",
       "\n",
       "  <!-- Vertical lines -->\n",
       "  <line x1=\"10\" y1=\"0\" x2=\"34\" y2=\"24\" style=\"stroke-width:2\" />\n",
       "  <line x1=\"82\" y1=\"0\" x2=\"106\" y2=\"24\" />\n",
       "  <line x1=\"113\" y1=\"0\" x2=\"137\" y2=\"24\" style=\"stroke-width:2\" />\n",
       "\n",
       "  <!-- Colored Rectangle -->\n",
       "  <polygon points=\"10.0,0.0 113.01787283914446,0.0 137.86036675395485,24.842493914810387 34.84249391481039,24.842493914810387\" style=\"fill:#8B4903A0;stroke-width:0\"/>\n",
       "\n",
       "  <!-- Horizontal lines -->\n",
       "  <line x1=\"34\" y1=\"24\" x2=\"137\" y2=\"24\" style=\"stroke-width:2\" />\n",
       "  <line x1=\"34\" y1=\"96\" x2=\"137\" y2=\"96\" />\n",
       "  <line x1=\"34\" y1=\"144\" x2=\"137\" y2=\"144\" style=\"stroke-width:2\" />\n",
       "\n",
       "  <!-- Vertical lines -->\n",
       "  <line x1=\"34\" y1=\"24\" x2=\"34\" y2=\"144\" style=\"stroke-width:2\" />\n",
       "  <line x1=\"106\" y1=\"24\" x2=\"106\" y2=\"144\" />\n",
       "  <line x1=\"137\" y1=\"24\" x2=\"137\" y2=\"144\" style=\"stroke-width:2\" />\n",
       "\n",
       "  <!-- Colored Rectangle -->\n",
       "  <polygon points=\"34.84249391481039,24.842493914810387 137.86036675395485,24.842493914810387 137.86036675395485,144.84249391481038 34.84249391481039,144.84249391481038\" style=\"fill:#ECB172A0;stroke-width:0\"/>\n",
       "\n",
       "  <!-- Text -->\n",
       "  <text x=\"86.351430\" y=\"164.842494\" font-size=\"1.0rem\" font-weight=\"100\" text-anchor=\"middle\" >2930</text>\n",
       "  <text x=\"157.860367\" y=\"84.842494\" font-size=\"1.0rem\" font-weight=\"100\" text-anchor=\"middle\" transform=\"rotate(-90,157.860367,84.842494)\">3413</text>\n",
       "  <text x=\"12.421247\" y=\"152.421247\" font-size=\"1.0rem\" font-weight=\"100\" text-anchor=\"middle\" transform=\"rotate(45,12.421247,152.421247)\">720</text>\n",
       "</svg>\n",
       "        </td>\n",
       "    </tr>\n",
       "</table></div></li></ul></div></li><li class='xr-section-item'><input id='section-a755e525-b400-4c5a-83db-96d26bbeafbb' class='xr-section-summary-in' type='checkbox'  checked><label for='section-a755e525-b400-4c5a-83db-96d26bbeafbb' class='xr-section-summary' >Attributes: <span>(2)</span></label><div class='xr-section-inline-details'></div><div class='xr-section-details'><dl class='xr-attrs'><dt><span>crs :</span></dt><dd>epsg:32753</dd><dt><span>grid_mapping :</span></dt><dd>spatial_ref</dd></dl></div></li></ul></div></div>"
      ],
      "text/plain": [
       "<xarray.Dataset>\n",
       "Dimensions:      (time: 720, y: 3413, x: 2930)\n",
       "Coordinates:\n",
       "  * time         (time) datetime64[ns] 2017-01-14T00:47:04.662698 ... 2021-12...\n",
       "  * y            (y) float64 8.199e+06 8.199e+06 ... 8.165e+06 8.165e+06\n",
       "  * x            (x) float64 7.911e+05 7.911e+05 ... 8.204e+05 8.204e+05\n",
       "    spatial_ref  int32 32753\n",
       "Data variables:\n",
       "    ndwi         (time, y, x) float32 dask.array<chunksize=(1, 2048, 2048), meta=np.ndarray>\n",
       "Attributes:\n",
       "    crs:           epsg:32753\n",
       "    grid_mapping:  spatial_ref"
      ]
     },
     "execution_count": 133,
     "metadata": {},
     "output_type": "execute_result"
    }
   ],
   "source": [
    "ds = load_data(dc=dc, \n",
    "               geom=geom, \n",
    "               time_range=('2017', '2021'), \n",
    "               resolution=10)\n",
    "ds"
   ]
  },
  {
   "cell_type": "markdown",
   "id": "c34949eb-96f1-4844-ad6e-aeb71399e9f5",
   "metadata": {},
   "source": [
    "## Pixel-based tides"
   ]
  },
  {
   "cell_type": "code",
   "execution_count": 134,
   "id": "9f4c6369-6c90-4d32-a6b1-bbdab6a616f4",
   "metadata": {},
   "outputs": [],
   "source": [
    "# Create a new 5km-res tide modelling grid after first\n",
    "# buffering the grid by 12km (i.e. at least two 5km pixels)\n",
    "rescaled_geobox = ds.odc.geobox.buffered(12000).zoom_out(500)\n",
    "rescaled_ds = odc.geo.xr.xr_zeros(rescaled_geobox)\n",
    "\n",
    "# Flatten grid to 1D, then add time dimension\n",
    "flattened_ds = rescaled_ds.stack(z=(\"x\", \"y\"))\n",
    "flattened_ds = flattened_ds.expand_dims(dim={\"time\": ds.coords[\"time\"].values})"
   ]
  },
  {
   "cell_type": "code",
   "execution_count": 135,
   "id": "32ea6b55-3cee-4a4a-9bef-d973f26c7cd4",
   "metadata": {},
   "outputs": [],
   "source": [
    "# Model tides for each time and grid cell\n",
    "tide_df = model_tides(\n",
    "    x=flattened_ds.x,\n",
    "    y=flattened_ds.y,\n",
    "    time=flattened_ds.time,\n",
    "    directory=\"~/tide_models\",\n",
    "    epsg=ds.odc.geobox.crs.epsg,\n",
    ")"
   ]
  },
  {
   "cell_type": "code",
   "execution_count": 136,
   "id": "cfd988b4-cb78-4f89-a192-9ad24f53b73e",
   "metadata": {},
   "outputs": [],
   "source": [
    "# Insert modelled tide values back into flattened array, then unstack\n",
    "# back to 3D (x, y, time)\n",
    "tides_ds = (\n",
    "    flattened_ds.groupby(\"time\")\n",
    "    .apply(lambda x: tide_df.loc[str(x.time.values)].tide_m.values)\n",
    "    .astype(np.float32)\n",
    "    .unstack(\"z\")\n",
    "    .T\n",
    ")"
   ]
  },
  {
   "cell_type": "code",
   "execution_count": 137,
   "id": "a0dc3b70-6b58-499c-9425-6098867d4f46",
   "metadata": {},
   "outputs": [],
   "source": [
    "# Reproject each timestep into higher resolution, and add as new variable\n",
    "def timestep_reproject(x, to_geobox=ds.odc.geobox):\n",
    "    return x.odc.reproject(to_geobox, resampling='cubic')\n",
    "\n",
    "ds['tide_m'] = multiprocess_apply(tides_ds, dim='time', func=timestep_reproject)\n"
   ]
  },
  {
   "cell_type": "code",
   "execution_count": 138,
   "id": "46270b93-6c8a-4ed7-a02c-9215e6f3547b",
   "metadata": {},
   "outputs": [
    {
     "data": {
      "text/plain": [
       "<AxesSubplot:title={'center':'time = 2017-01-21T00:53:13.103994, spatial_ref ...'}, xlabel='x', ylabel='y'>"
      ]
     },
     "execution_count": 138,
     "metadata": {},
     "output_type": "execute_result"
    },
    {
     "data": {
      "image/png": "[encoded data removed]",
      "text/plain": [
       "<Figure size 432x288 with 2 Axes>"
      ]
     },
     "metadata": {
      "needs_background": "light"
     },
     "output_type": "display_data"
    }
   ],
   "source": [
    "timestep = tides_ds.isel(time=1)\n",
    "timestep.plot()\n",
    "gpd.GeoSeries(ds.odc.geobox.footprint(crs='EPSG:32753').geom).plot(ax=plt.gca(), vmin=timestep.min(), vmax=timestep.max(), color='none')"
   ]
  },
  {
   "cell_type": "code",
   "execution_count": 139,
   "id": "5034efe0-ec85-471a-b107-baee4bb70e61",
   "metadata": {},
   "outputs": [
    {
     "data": {
      "text/plain": [
       "<matplotlib.image.AxesImage at 0x7ff6aeaa8310>"
      ]
     },
     "execution_count": 139,
     "metadata": {},
     "output_type": "execute_result"
    },
    {
     "data": {
      "image/png": "[encoded data removed]",
      "text/plain": [
       "<Figure size 432x288 with 2 Axes>"
      ]
     },
     "metadata": {
      "needs_background": "light"
     },
     "output_type": "display_data"
    }
   ],
   "source": [
    "ds['tide_m'].isel(time=1).plot.imshow(vmin=timestep.min(), vmax=timestep.max())"
   ]
  },
  {
   "cell_type": "markdown",
   "id": "dd64f5a2-ba02-429e-aaa5-ea9c4eab39d9",
   "metadata": {},
   "source": [
    "## ITEM/NIDEM method"
   ]
  },
  {
   "cell_type": "code",
   "execution_count": 140,
   "id": "7bf4539c-dc4f-4e07-8771-747268d28220",
   "metadata": {},
   "outputs": [],
   "source": [
    "intervals=10\n",
    "\n",
    "# Add tide height dimension\n",
    "ds_item = ds.copy()\n",
    "ds_item['tide_height'] = ds_item.tide_m.mean(dim=['x', 'y'])\n",
    "ds_item = ds_item.swap_dims({\"time\": \"tide_height\"}).drop(\"time\")"
   ]
  },
  {
   "cell_type": "code",
   "execution_count": 141,
   "id": "d4cf9ec3-99f5-44b9-aa06-0e7173344cab",
   "metadata": {},
   "outputs": [
    {
     "data": {
      "text/plain": [
       "<matplotlib.image.AxesImage at 0x7ff661c771f0>"
      ]
     },
     "execution_count": 141,
     "metadata": {},
     "output_type": "execute_result"
    },
    {
     "data": {
      "image/png": "[encoded data removed]",
      "text/plain": [
       "<Figure size 648x432 with 2 Axes>"
      ]
     },
     "metadata": {
      "needs_background": "light"
     },
     "output_type": "display_data"
    }
   ],
   "source": [
    "# Calculate intertidal extents\n",
    "ds_item.persist()\n",
    "item_da, ds_intervals, ds_confidence = item(ds_item, tide_dim='tide_height', intervals=intervals)\n",
    "item_da.plot.imshow(cmap='RdYlBu_r', size=6)"
   ]
  },
  {
   "cell_type": "code",
   "execution_count": 108,
   "id": "4820fb0d-cb79-454e-979e-6c9fea52e53b",
   "metadata": {},
   "outputs": [],
   "source": [
    "# Convert ITEM to NIDEM elevations\n",
    "intertidal_dem_clean = nidem(item_da, ds_intervals, intervals)\n",
    "intertidal_dem_clean.plot.imshow(cmap='viridis', size=6)"
   ]
  },
  {
   "cell_type": "code",
   "execution_count": 107,
   "id": "78bd83d6-9321-4cd4-84a3-d8d0387e36f7",
   "metadata": {},
   "outputs": [
    {
     "data": {
      "text/plain": [
       "PosixPath('data/interim/nidem_dem_mccarthurriver.tif')"
      ]
     },
     "execution_count": 107,
     "metadata": {},
     "output_type": "execute_result"
    }
   ],
   "source": [
    "# fname = 'testing'\n",
    "fname = aoi.lower().replace(\" \", \"\")\n",
    "\n",
    "# Export as a GeoTIFF\n",
    "intertidal_dem_clean.odc.write_cog(\n",
    "    fname=f\"data/interim/nidem_dem_{fname}.tif\", overwrite=True\n",
    ")\n",
    "ds_confidence.ndwi.odc.write_cog(\n",
    "    fname=f\"data/interim/nidem_confidence_{fname}.tif\", overwrite=True\n",
    ")"
   ]
  },
  {
   "cell_type": "markdown",
   "id": "e9c634b5-4195-4cee-9c34-84792debae03",
   "metadata": {},
   "source": [
    "## Pixel-based"
   ]
  },
  {
   "cell_type": "markdown",
   "id": "c42397d2-6d5d-483c-9c93-50d71685c4e4",
   "metadata": {},
   "source": [
    "### Special sorting"
   ]
  },
  {
   "cell_type": "code",
   "execution_count": null,
   "id": "5200f63c-5c5e-45a9-9528-96c1236c799b",
   "metadata": {},
   "outputs": [],
   "source": [
    "# Load into memory\n",
    "ds.load()"
   ]
  },
  {
   "cell_type": "code",
   "execution_count": null,
   "id": "be168b78-be51-49f2-a1d1-5eea491e3b0f",
   "metadata": {},
   "outputs": [],
   "source": [
    "# Sort each pixel by tide\n",
    "ds = pixel_tide_sort(ds, tide_var='tide_m', ndwi_var='ndwi', tide_dim='tide_n')\n",
    "ds.isel(tide_n=[5, -5]).ndwi.plot.imshow(col='tide_n', vmin=-0.25, vmax=0.25)"
   ]
  },
  {
   "cell_type": "markdown",
   "id": "24375b72-a258-49b0-bf03-de8daac5f42c",
   "metadata": {},
   "source": [
    "### Rolling median"
   ]
  },
  {
   "cell_type": "code",
   "execution_count": null,
   "id": "cea03a1a-5226-44a4-b4c8-27586637b888",
   "metadata": {},
   "outputs": [],
   "source": [
    "ds_rolling = ds.ndwi.rolling(tide_n=100, min_periods=10, center=True)\n",
    "s2_median = ds_rolling.median()\n",
    "s2_stdev = ds_rolling.std()\n",
    "s2_stdev_mean = s2_stdev.mean(dim='tide_n')"
   ]
  },
  {
   "cell_type": "markdown",
   "id": "90175bec-27b6-4601-97d5-5d5a7f4d44d1",
   "metadata": {},
   "source": [
    "### Elevation calculation"
   ]
  },
  {
   "cell_type": "code",
   "execution_count": null,
   "id": "dab3cbd7-60c2-436f-9a59-56063826c2e8",
   "metadata": {},
   "outputs": [],
   "source": [
    "# Output name\n",
    "fname = 'testing'\n",
    "# fname = aoi.lower().replace(' ', '')\n",
    "\n",
    "# Calculate \n",
    "min_thresh = (0 - 0.5 * s2_stdev_mean)\n",
    "max_thresh = (0 + 0.5 * s2_stdev_mean)\n",
    "\n",
    "for thresh_name, thesh in {'': 0, '_low': min_thresh, '_high': max_thresh}.items():\n",
    "    \n",
    "    dem_fname = f'data/interim/pixel_dem_{fname}{thresh_name}.tif'\n",
    "    print(f'Exporting {dem_fname}')\n",
    "    \n",
    "    # Identify the max tide per pixel where NDWI == land\n",
    "    tide_thresh = ds.tide_m.where(s2_median <= thesh).max(dim='tide_n')\n",
    "    tide_max = ds.tide_m.max(dim='tide_n')\n",
    "    \n",
    "    # Remove any pixel where tides max out (i.e. always land)\n",
    "    dem = tide_thresh.where(tide_thresh < tide_max)\n",
    "    \n",
    "    # Export DEM file  \n",
    "    dem.odc.write_cog(fname=dem_fname, overwrite=True)\n",
    "\n",
    "# Export NDWI standard deviation/confidence file\n",
    "s2_stdev_mean.odc.write_cog(fname=f'data/interim/pixel_dem_{fname}_confidence.tif', overwrite=True)"
   ]
  },
  {
   "cell_type": "markdown",
   "id": "5781fcbf-08a2-4937-88a0-1e1ba81edab1",
   "metadata": {},
   "source": [
    "### Experimental"
   ]
  },
  {
   "cell_type": "code",
   "execution_count": null,
   "id": "39cdf81c-83da-43cc-884f-94df97dacc01",
   "metadata": {},
   "outputs": [],
   "source": [
    "from dea_tools.temporal import lag_linregress_3D"
   ]
  },
  {
   "cell_type": "code",
   "execution_count": null,
   "id": "2f85b5e1-9520-4077-af1b-e4f59d3dc06e",
   "metadata": {},
   "outputs": [],
   "source": [
    "# reg = lag_linregress_3D(s2_rolling.tide_height, (s2_rolling > 0).where(~s2_rolling.isnull()), first_dim='tide_height')\n",
    "# (reg.pval < 0.01).plot.imshow()"
   ]
  },
  {
   "cell_type": "code",
   "execution_count": null,
   "id": "ec11c556-5407-40de-a916-8d21f11a076e",
   "metadata": {},
   "outputs": [],
   "source": [
    "# s2_rolling"
   ]
  },
  {
   "cell_type": "code",
   "execution_count": null,
   "id": "c32ddbfb-874e-4085-b1da-9e5f6f405a44",
   "metadata": {},
   "outputs": [],
   "source": [
    "# test_min = tide_3d.where(s2_rolling >= 0).min(dim='tide_height')\n",
    "# test_max = tide_3d.where(s2_rolling < 0).max(dim='tide_height')\n",
    "# # dem = test_min.where(~test_max.isnull())\n",
    "# dem = ((test_max + test_min) / 2.0)\n",
    "# write_cog(dem, fname='pixel_dem_mccarthurriver.tif', overwrite=True)\n"
   ]
  },
  {
   "cell_type": "code",
   "execution_count": null,
   "id": "d9d3ced0-a1e7-47c3-b636-a217c947b864",
   "metadata": {},
   "outputs": [],
   "source": [
    "# out = xr.corr(s2_rolling, tide_3d)"
   ]
  },
  {
   "cell_type": "code",
   "execution_count": null,
   "id": "d2058e5c-111e-48d5-89e5-47bb93a670ef",
   "metadata": {},
   "outputs": [],
   "source": [
    "write_cog(test_max, fname='pixel_dem13.tif', overwrite=True)  # "
   ]
  },
  {
   "cell_type": "code",
   "execution_count": null,
   "id": "782714b0-5a93-4a8a-aa62-37a8e02bd53c",
   "metadata": {},
   "outputs": [],
   "source": [
    "x, y = 755234.5430086093, 8215882.783825266\n",
    "# pixel = s2_rolling.sel(x=x,  y=y, method='nearest')\n",
    "# df_median = pixel.to_dataframe()[['ndwi']].reset_index()\n",
    "\n",
    "pixel = ds.sel(x=x,  y=y, method='nearest')\n",
    "df = pixel.to_dataframe()[['ndwi']].reset_index()\n",
    "df_median = df.rolling(100, min_periods=10, center=True).median()\n",
    "df_std = df.rolling(100, min_periods=10, center=True).std()\n",
    "std_mean = df_std.ndwi.mean()\n",
    "\n",
    "fig, ax = plt.subplots(1, 1)\n",
    "ax.scatter(x=df_median.tide_height, y=df_median.ndwi)\n",
    "# ax.axvline(df_median.where(df_median.ndwi > 0).tide_height.min())\n",
    "ax.axvline(df_median.where(df_median.ndwi < 0).tide_height.max())\n",
    "ax.axvline(df_median.where(df_median.ndwi < (0 + std_mean * 0.5)).tide_height.max())\n",
    "ax.axvline(df_median.where(df_median.ndwi < (0 - std_mean * 0.5)).tide_height.max())\n",
    "ax.axhline(0)"
   ]
  },
  {
   "cell_type": "code",
   "execution_count": null,
   "id": "e35babc3-f719-4c01-9f4f-b742c199328d",
   "metadata": {},
   "outputs": [],
   "source": [
    "std_mean.ndwi"
   ]
  },
  {
   "cell_type": "code",
   "execution_count": null,
   "id": "f3f828fd-c9a3-4bf1-a1f8-c091eea486b7",
   "metadata": {},
   "outputs": [],
   "source": [
    "df_median.where(df_median.ndwi < 0).tide_height.max()"
   ]
  },
  {
   "cell_type": "code",
   "execution_count": null,
   "id": "eb6c4d35-5569-432e-bb70-6497a5329c0b",
   "metadata": {},
   "outputs": [],
   "source": [
    "df_median.where(df_median.ndwi > 0).tide_height.min()"
   ]
  },
  {
   "cell_type": "markdown",
   "id": "72172af8-b057-4416-9ba9-de434e78b4d2",
   "metadata": {},
   "source": [
    "# Shut down cluster"
   ]
  },
  {
   "cell_type": "code",
   "execution_count": null,
   "id": "7e5b413a-ab34-48a0-97b4-682a268eb322",
   "metadata": {},
   "outputs": [],
   "source": [
    "from dask_gateway import Gateway\n",
    "gateway = Gateway()\n",
    "\n",
    "# Close any existing clusters\n",
    "cluster_names = gateway.list_clusters()\n",
    "if len(cluster_names) > 0:\n",
    "    print(\"Cluster(s) still running:\", cluster_names)\n",
    "    for n in cluster_names:\n",
    "        cluster = gateway.connect(n.name)\n",
    "        cluster.shutdown()"
   ]
  },
  {
   "cell_type": "code",
   "execution_count": null,
   "id": "46f990e8-d01a-4334-b4d4-42306a31b627",
   "metadata": {},
   "outputs": [],
   "source": [
    "cluster.shutdown()"
   ]
  },
  {
   "cell_type": "code",
   "execution_count": null,
   "id": "a8a8bf32-584f-40d9-9484-8c3f2886ff8a",
   "metadata": {},
   "outputs": [],
   "source": []
  }
 ],
 "metadata": {
  "kernelspec": {
   "display_name": "Python 3 (ipykernel)",
   "language": "python",
   "name": "python3"
  },
  "language_info": {
   "codemirror_mode": {
    "name": "ipython",
    "version": 3
   },
   "file_extension": ".py",
   "mimetype": "text/x-python",
   "name": "python",
   "nbconvert_exporter": "python",
   "pygments_lexer": "ipython3",
   "version": "3.8.10"
  }
 },
 "nbformat": 4,
 "nbformat_minor": 5
}

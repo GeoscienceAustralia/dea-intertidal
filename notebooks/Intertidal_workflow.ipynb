{
 "cells": [
  {
   "cell_type": "markdown",
   "id": "44932e9f",
   "metadata": {
    "tags": []
   },
   "source": [
    "# Digital Earth Australia Intertidal workflow\n",
    "\n",
    "## Getting started\n",
    "Set working directory to top level of repo to ensure links work correctly:"
   ]
  },
  {
   "cell_type": "code",
   "execution_count": 1,
   "id": "b18166da",
   "metadata": {
    "tags": []
   },
   "outputs": [
    {
     "name": "stdout",
     "output_type": "stream",
     "text": [
      "/home/jovyan/dea_intertidal/dea-intertidal\n"
     ]
    }
   ],
   "source": [
    "cd .."
   ]
  },
  {
   "cell_type": "markdown",
   "id": "51d593a1",
   "metadata": {},
   "source": [
    "Install additional packages directly from the requirements file"
   ]
  },
  {
   "cell_type": "code",
   "execution_count": 2,
   "id": "a9e5e54a",
   "metadata": {
    "tags": []
   },
   "outputs": [
    {
     "name": "stdout",
     "output_type": "stream",
     "text": [
      "Note: you may need to restart the kernel to use updated packages.\n"
     ]
    }
   ],
   "source": [
    "pip install -r requirements.in --quiet"
   ]
  },
  {
   "cell_type": "markdown",
   "id": "cff69d46",
   "metadata": {},
   "source": [
    "### Load packages"
   ]
  },
  {
   "cell_type": "code",
   "execution_count": 3,
   "id": "06f536eb",
   "metadata": {
    "tags": []
   },
   "outputs": [],
   "source": [
    "%load_ext autoreload\n",
    "%autoreload 2\n",
    "\n",
    "import os\n",
    "import pandas as pd\n",
    "import numpy as np\n",
    "import xarray as xr\n",
    "import matplotlib.pyplot as plt\n",
    "import geopandas as gpd\n",
    "from ipyleaflet import basemaps, basemap_to_tiles\n",
    "\n",
    "import datacube\n",
    "import odc.geo.xr\n",
    "from odc.geo.geom import Geometry\n",
    "from odc.algo import mask_cleanup\n",
    "from odc.ui import select_on_a_map\n",
    "\n",
    "from intertidal.utils import (\n",
    "    round_date_strings,\n",
    "    export_intertidal_rasters,\n",
    "    intertidal_hillshade,\n",
    "                            )\n",
    "from intertidal.tide_modelling import pixel_tides_ensemble\n",
    "from intertidal.elevation import load_data, load_topobathy, elevation\n",
    "from intertidal.extents import extents\n",
    "from intertidal.exposure import exposure\n",
    "from intertidal.tidal_bias_offset import bias_offset, tidal_offset_tidelines\n",
    "\n",
    "from dea_tools.dask import create_local_dask_cluster"
   ]
  },
  {
   "cell_type": "markdown",
   "id": "34f2a478",
   "metadata": {
    "tags": []
   },
   "source": [
    "## Setup\n"
   ]
  },
  {
   "cell_type": "markdown",
   "id": "a83b7160",
   "metadata": {
    "tags": []
   },
   "source": [
    "### Set analysis parameters"
   ]
  },
  {
   "cell_type": "code",
   "execution_count": 4,
   "id": "f00107c2",
   "metadata": {
    "tags": []
   },
   "outputs": [],
   "source": [
    "# Intertidal Elevation variables\n",
    "start_date = \"2020\"  # Start date for analysis\n",
    "end_date = \"2022\"  # End date for analysis\n",
    "resolution = 10  # Spatial resolution used for output files\n",
    "crs = \"EPSG:3577\"  # Coordinate Reference System (CRS) to use for output files\n",
    "ndwi_thresh = 0.1  # Threshold used to identify dry/wet transition\n",
    "include_s2 = True  # Include Sentinel-2 data in the analysis?\n",
    "include_ls = True  # Include Landsat data in the analysis?\n",
    "filter_gqa = True  # Filter to remove poorly georeferenced scenes?\n",
    "tide_model = \"ensemble\"  # Tide model to use in analysis\n",
    "tide_model_dir = \"/gdata1/data/tide_models_clipped\"\n",
    "\n",
    "# Exposure variables\n",
    "modelled_freq = \"3h\"  # Frequency to run tidal model e.g '30min' or '1h'\n",
    "# filters=[None] # Exposure filters.\n",
    "# filters_combined = None ## Must be a list of tuples containing one temporal and spatial filter each\n",
    "\n",
    "# # Generate range of times covering entire period of satellite record for exposure and bias/offset calculation\n",
    "# all_timerange = pd.date_range(\n",
    "#     start=round_date_strings(start_date, round_type=\"start\"),\n",
    "#     end=round_date_strings(end_date, round_type=\"end\"),\n",
    "#     freq=modelled_freq,\n",
    "# )"
   ]
  },
  {
   "cell_type": "markdown",
   "id": "442c9d4a-0165-4e16-a1a6-1f1f4ffc8c39",
   "metadata": {},
   "source": [
    "#### Set study area"
   ]
  },
  {
   "cell_type": "code",
   "execution_count": null,
   "id": "8e73b86f-9749-45e9-a75c-d5741d8816a0",
   "metadata": {
    "tags": []
   },
   "outputs": [],
   "source": [
    "# ##TEMP - recall stored validation geometry object to set geom for elevation calculation\n",
    "# %store -r ds\n",
    "\n",
    "# geom = ds.geobox.geographic_extent"
   ]
  },
  {
   "cell_type": "markdown",
   "id": "fd3f7a16-c62a-4108-8df1-b2dd8d49c9db",
   "metadata": {},
   "source": [
    "##### Option 1: load study area from 32 km tile GridSpec"
   ]
  },
  {
   "cell_type": "code",
   "execution_count": null,
   "id": "a54c5653",
   "metadata": {
    "tags": []
   },
   "outputs": [],
   "source": [
    "# # Set study area (e.g. tile ID in form 'x143y87')\n",
    "# study_area = \"x139y96\"\n",
    "# geom = None  # Use GridSpec to load study area, not a custom geom"
   ]
  },
  {
   "cell_type": "markdown",
   "id": "cbba20c2",
   "metadata": {
    "tags": []
   },
   "source": [
    "##### Option 2: load study area from vector file"
   ]
  },
  {
   "cell_type": "code",
   "execution_count": null,
   "id": "e35efaea",
   "metadata": {
    "tags": []
   },
   "outputs": [],
   "source": [
    "# # Set study area to load from file\n",
    "# study_area = \"pointstuart\"\n",
    "\n",
    "# # Read file, select study area and convert to geom\n",
    "# studyarea_gdf = gpd.read_file(\n",
    "#     \"data/raw/intertidal_development_polygons.geojson\"\n",
    "# ).set_index(\"id\")\n",
    "# geom = Geometry(studyarea_gdf.loc[study_area].geometry, crs=studyarea_gdf.crs)\n",
    "# geom"
   ]
  },
  {
   "cell_type": "markdown",
   "id": "cc7c76f2",
   "metadata": {},
   "source": [
    "##### Option 3: load study area using interactive map"
   ]
  },
  {
   "cell_type": "code",
   "execution_count": 5,
   "id": "9895b5c5",
   "metadata": {
    "tags": []
   },
   "outputs": [
    {
     "data": {
      "application/vnd.jupyter.widget-view+json": {
       "model_id": "3cb6c9c264bb46ca9861d181a255638c",
       "version_major": 2,
       "version_minor": 0
      },
      "text/plain": [
       "Map(center=[-26, 135], controls=(ZoomControl(options=['position', 'zoom_in_text', 'zoom_in_title', 'zoom_out_t…"
      ]
     },
     "metadata": {},
     "output_type": "display_data"
    },
    {
     "data": {
      "image/svg+xml": [
       "<svg xmlns=\"http://www.w3.org/2000/svg\" xmlns:xlink=\"http://www.w3.org/1999/xlink\" width=\"100.0\" height=\"100.0\" viewBox=\"116.5470036 -20.586614400000002 0.01982480000000919 0.02082780000000284\" preserveAspectRatio=\"xMinYMin meet\"><g transform=\"matrix(1,0,0,-1,0,-41.152401)\"><path fill-rule=\"evenodd\" fill=\"#66cc99\" stroke=\"#555555\" stroke-width=\"0.00041655600000005676\" opacity=\"0.6\" d=\"M 116.547775,-20.585843 L 116.547775,-20.566558 L 116.566057,-20.566558 L 116.566057,-20.585843 L 116.547775,-20.585843 z\" /></g></svg>"
      ],
      "text/plain": [
       "Geometry(POLYGON ((116.547775 -20.585843, 116.547775 -20.566558, 116.566057 -20.566558, 116.566057 -20.585843, 116.547775 -20.585843)), EPSG:4326)"
      ]
     },
     "execution_count": 5,
     "metadata": {},
     "output_type": "execute_result"
    }
   ],
   "source": [
    "# Set study area name for outputs\n",
    "study_area = \"test\"\n",
    "\n",
    "# Plot interactive map to select area\n",
    "basemap = basemap_to_tiles(basemaps.Esri.WorldImagery)\n",
    "geom = select_on_a_map(height=\"600px\", layers=(basemap,), center=(-26, 135), zoom=4)\n",
    "geom"
   ]
  },
  {
   "cell_type": "markdown",
   "id": "3a77a221",
   "metadata": {},
   "source": [
    "## Intertidal workflow\n",
    "\n",
    "### Load data"
   ]
  },
  {
   "cell_type": "code",
   "execution_count": 6,
   "id": "7b142abf",
   "metadata": {
    "tags": []
   },
   "outputs": [
    {
     "data": {
      "text/html": [
       "<div>\n",
       "    <div style=\"width: 24px; height: 24px; background-color: #e1e1e1; border: 3px solid #9D9D9D; border-radius: 5px; position: absolute;\"> </div>\n",
       "    <div style=\"margin-left: 48px;\">\n",
       "        <h3 style=\"margin-bottom: 0px;\">Client</h3>\n",
       "        <p style=\"color: #9D9D9D; margin-bottom: 0px;\">Client-00d37937-c0b9-11ee-9b20-8a70e1ff1440</p>\n",
       "        <table style=\"width: 100%; text-align: left;\">\n",
       "\n",
       "        <tr>\n",
       "        \n",
       "            <td style=\"text-align: left;\"><strong>Connection method:</strong> Cluster object</td>\n",
       "            <td style=\"text-align: left;\"><strong>Cluster type:</strong> distributed.LocalCluster</td>\n",
       "        \n",
       "        </tr>\n",
       "\n",
       "        \n",
       "            <tr>\n",
       "                <td style=\"text-align: left;\">\n",
       "                    <strong>Dashboard: </strong> <a href=\"/user/claire.phillips@ga.gov.au/proxy/8787/status\" target=\"_blank\">/user/claire.phillips@ga.gov.au/proxy/8787/status</a>\n",
       "                </td>\n",
       "                <td style=\"text-align: left;\"></td>\n",
       "            </tr>\n",
       "        \n",
       "\n",
       "        </table>\n",
       "\n",
       "        \n",
       "            <button style=\"margin-bottom: 12px;\" data-commandlinker-command=\"dask:populate-and-launch-layout\" data-commandlinker-args='{\"url\": \"/user/claire.phillips@ga.gov.au/proxy/8787/status\" }'>\n",
       "                Launch dashboard in JupyterLab\n",
       "            </button>\n",
       "        \n",
       "\n",
       "        \n",
       "            <details>\n",
       "            <summary style=\"margin-bottom: 20px;\"><h3 style=\"display: inline;\">Cluster Info</h3></summary>\n",
       "            <div class=\"jp-RenderedHTMLCommon jp-RenderedHTML jp-mod-trusted jp-OutputArea-output\">\n",
       "    <div style=\"width: 24px; height: 24px; background-color: #e1e1e1; border: 3px solid #9D9D9D; border-radius: 5px; position: absolute;\">\n",
       "    </div>\n",
       "    <div style=\"margin-left: 48px;\">\n",
       "        <h3 style=\"margin-bottom: 0px; margin-top: 0px;\">LocalCluster</h3>\n",
       "        <p style=\"color: #9D9D9D; margin-bottom: 0px;\">7a5c7c97</p>\n",
       "        <table style=\"width: 100%; text-align: left;\">\n",
       "            <tr>\n",
       "                <td style=\"text-align: left;\">\n",
       "                    <strong>Dashboard:</strong> <a href=\"/user/claire.phillips@ga.gov.au/proxy/8787/status\" target=\"_blank\">/user/claire.phillips@ga.gov.au/proxy/8787/status</a>\n",
       "                </td>\n",
       "                <td style=\"text-align: left;\">\n",
       "                    <strong>Workers:</strong> 1\n",
       "                </td>\n",
       "            </tr>\n",
       "            <tr>\n",
       "                <td style=\"text-align: left;\">\n",
       "                    <strong>Total threads:</strong> 15\n",
       "                </td>\n",
       "                <td style=\"text-align: left;\">\n",
       "                    <strong>Total memory:</strong> 117.21 GiB\n",
       "                </td>\n",
       "            </tr>\n",
       "            \n",
       "            <tr>\n",
       "    <td style=\"text-align: left;\"><strong>Status:</strong> running</td>\n",
       "    <td style=\"text-align: left;\"><strong>Using processes:</strong> True</td>\n",
       "</tr>\n",
       "\n",
       "            \n",
       "        </table>\n",
       "\n",
       "        <details>\n",
       "            <summary style=\"margin-bottom: 20px;\">\n",
       "                <h3 style=\"display: inline;\">Scheduler Info</h3>\n",
       "            </summary>\n",
       "\n",
       "            <div style=\"\">\n",
       "    <div>\n",
       "        <div style=\"width: 24px; height: 24px; background-color: #FFF7E5; border: 3px solid #FF6132; border-radius: 5px; position: absolute;\"> </div>\n",
       "        <div style=\"margin-left: 48px;\">\n",
       "            <h3 style=\"margin-bottom: 0px;\">Scheduler</h3>\n",
       "            <p style=\"color: #9D9D9D; margin-bottom: 0px;\">Scheduler-5405bd62-7764-4420-9818-871c8ffb897a</p>\n",
       "            <table style=\"width: 100%; text-align: left;\">\n",
       "                <tr>\n",
       "                    <td style=\"text-align: left;\">\n",
       "                        <strong>Comm:</strong> tcp://127.0.0.1:37581\n",
       "                    </td>\n",
       "                    <td style=\"text-align: left;\">\n",
       "                        <strong>Workers:</strong> 1\n",
       "                    </td>\n",
       "                </tr>\n",
       "                <tr>\n",
       "                    <td style=\"text-align: left;\">\n",
       "                        <strong>Dashboard:</strong> <a href=\"/user/claire.phillips@ga.gov.au/proxy/8787/status\" target=\"_blank\">/user/claire.phillips@ga.gov.au/proxy/8787/status</a>\n",
       "                    </td>\n",
       "                    <td style=\"text-align: left;\">\n",
       "                        <strong>Total threads:</strong> 15\n",
       "                    </td>\n",
       "                </tr>\n",
       "                <tr>\n",
       "                    <td style=\"text-align: left;\">\n",
       "                        <strong>Started:</strong> Just now\n",
       "                    </td>\n",
       "                    <td style=\"text-align: left;\">\n",
       "                        <strong>Total memory:</strong> 117.21 GiB\n",
       "                    </td>\n",
       "                </tr>\n",
       "            </table>\n",
       "        </div>\n",
       "    </div>\n",
       "\n",
       "    <details style=\"margin-left: 48px;\">\n",
       "        <summary style=\"margin-bottom: 20px;\">\n",
       "            <h3 style=\"display: inline;\">Workers</h3>\n",
       "        </summary>\n",
       "\n",
       "        \n",
       "        <div style=\"margin-bottom: 20px;\">\n",
       "            <div style=\"width: 24px; height: 24px; background-color: #DBF5FF; border: 3px solid #4CC9FF; border-radius: 5px; position: absolute;\"> </div>\n",
       "            <div style=\"margin-left: 48px;\">\n",
       "            <details>\n",
       "                <summary>\n",
       "                    <h4 style=\"margin-bottom: 0px; display: inline;\">Worker: 0</h4>\n",
       "                </summary>\n",
       "                <table style=\"width: 100%; text-align: left;\">\n",
       "                    <tr>\n",
       "                        <td style=\"text-align: left;\">\n",
       "                            <strong>Comm: </strong> tcp://127.0.0.1:46491\n",
       "                        </td>\n",
       "                        <td style=\"text-align: left;\">\n",
       "                            <strong>Total threads: </strong> 15\n",
       "                        </td>\n",
       "                    </tr>\n",
       "                    <tr>\n",
       "                        <td style=\"text-align: left;\">\n",
       "                            <strong>Dashboard: </strong> <a href=\"/user/claire.phillips@ga.gov.au/proxy/42263/status\" target=\"_blank\">/user/claire.phillips@ga.gov.au/proxy/42263/status</a>\n",
       "                        </td>\n",
       "                        <td style=\"text-align: left;\">\n",
       "                            <strong>Memory: </strong> 117.21 GiB\n",
       "                        </td>\n",
       "                    </tr>\n",
       "                    <tr>\n",
       "                        <td style=\"text-align: left;\">\n",
       "                            <strong>Nanny: </strong> tcp://127.0.0.1:36407\n",
       "                        </td>\n",
       "                        <td style=\"text-align: left;\"></td>\n",
       "                    </tr>\n",
       "                    <tr>\n",
       "                        <td colspan=\"2\" style=\"text-align: left;\">\n",
       "                            <strong>Local directory: </strong> /tmp/dask-worker-space/worker-vs62yglb\n",
       "                        </td>\n",
       "                    </tr>\n",
       "\n",
       "                    \n",
       "\n",
       "                    \n",
       "\n",
       "                </table>\n",
       "            </details>\n",
       "            </div>\n",
       "        </div>\n",
       "        \n",
       "\n",
       "    </details>\n",
       "</div>\n",
       "\n",
       "        </details>\n",
       "    </div>\n",
       "</div>\n",
       "            </details>\n",
       "        \n",
       "\n",
       "    </div>\n",
       "</div>"
      ],
      "text/plain": [
       "<Client: 'tcp://127.0.0.1:37581' processes=1 threads=15, memory=117.21 GiB>"
      ]
     },
     "metadata": {},
     "output_type": "display_data"
    },
    {
     "name": "stdout",
     "output_type": "stream",
     "text": [
      "<xarray.Dataset>\n",
      "Dimensions:      (time: 325, y: 237, x: 215)\n",
      "Coordinates:\n",
      "  * time         (time) datetime64[ns] 2020-01-01T01:55:31.756059 ... 2022-12...\n",
      "  * y            (y) float64 -2.304e+06 -2.304e+06 ... -2.306e+06 -2.306e+06\n",
      "  * x            (x) float64 -1.598e+06 -1.598e+06 ... -1.596e+06 -1.596e+06\n",
      "    spatial_ref  int32 3577\n",
      "Data variables:\n",
      "    ndwi         (time, y, x) float32 dask.array<chunksize=(1, 237, 215), meta=np.ndarray>\n",
      "Attributes:\n",
      "    crs:           EPSG:3577\n",
      "    grid_mapping:  spatial_ref\n"
     ]
    },
    {
     "name": "stderr",
     "output_type": "stream",
     "text": [
      "/env/lib/python3.10/site-packages/datacube/drivers/driver_cache.py:54: DeprecationWarning: pkg_resources is deprecated as an API. See https://setuptools.pypa.io/en/latest/pkg_resources.html\n",
      "  from pkg_resources import iter_entry_points\n",
      "/env/lib/python3.10/site-packages/rasterio/warp.py:344: NotGeoreferencedWarning: Dataset has no geotransform, gcps, or rpcs. The identity matrix will be returned.\n",
      "  _reproject(\n"
     ]
    },
    {
     "name": "stdout",
     "output_type": "stream",
     "text": [
      "CPU times: user 5.23 s, sys: 504 ms, total: 5.73 s\n",
      "Wall time: 37.1 s\n"
     ]
    },
    {
     "data": {
      "text/html": [
       "<div><svg style=\"position: absolute; width: 0; height: 0; overflow: hidden\">\n",
       "<defs>\n",
       "<symbol id=\"icon-database\" viewBox=\"0 0 32 32\">\n",
       "<path d=\"M16 0c-8.837 0-16 2.239-16 5v4c0 2.761 7.163 5 16 5s16-2.239 16-5v-4c0-2.761-7.163-5-16-5z\"></path>\n",
       "<path d=\"M16 17c-8.837 0-16-2.239-16-5v6c0 2.761 7.163 5 16 5s16-2.239 16-5v-6c0 2.761-7.163 5-16 5z\"></path>\n",
       "<path d=\"M16 26c-8.837 0-16-2.239-16-5v6c0 2.761 7.163 5 16 5s16-2.239 16-5v-6c0 2.761-7.163 5-16 5z\"></path>\n",
       "</symbol>\n",
       "<symbol id=\"icon-file-text2\" viewBox=\"0 0 32 32\">\n",
       "<path d=\"M28.681 7.159c-0.694-0.947-1.662-2.053-2.724-3.116s-2.169-2.030-3.116-2.724c-1.612-1.182-2.393-1.319-2.841-1.319h-15.5c-1.378 0-2.5 1.121-2.5 2.5v27c0 1.378 1.122 2.5 2.5 2.5h23c1.378 0 2.5-1.122 2.5-2.5v-19.5c0-0.448-0.137-1.23-1.319-2.841zM24.543 5.457c0.959 0.959 1.712 1.825 2.268 2.543h-4.811v-4.811c0.718 0.556 1.584 1.309 2.543 2.268zM28 29.5c0 0.271-0.229 0.5-0.5 0.5h-23c-0.271 0-0.5-0.229-0.5-0.5v-27c0-0.271 0.229-0.5 0.5-0.5 0 0 15.499-0 15.5 0v7c0 0.552 0.448 1 1 1h7v19.5z\"></path>\n",
       "<path d=\"M23 26h-14c-0.552 0-1-0.448-1-1s0.448-1 1-1h14c0.552 0 1 0.448 1 1s-0.448 1-1 1z\"></path>\n",
       "<path d=\"M23 22h-14c-0.552 0-1-0.448-1-1s0.448-1 1-1h14c0.552 0 1 0.448 1 1s-0.448 1-1 1z\"></path>\n",
       "<path d=\"M23 18h-14c-0.552 0-1-0.448-1-1s0.448-1 1-1h14c0.552 0 1 0.448 1 1s-0.448 1-1 1z\"></path>\n",
       "</symbol>\n",
       "</defs>\n",
       "</svg>\n",
       "<style>/* CSS stylesheet for displaying xarray objects in jupyterlab.\n",
       " *\n",
       " */\n",
       "\n",
       ":root {\n",
       "  --xr-font-color0: var(--jp-content-font-color0, rgba(0, 0, 0, 1));\n",
       "  --xr-font-color2: var(--jp-content-font-color2, rgba(0, 0, 0, 0.54));\n",
       "  --xr-font-color3: var(--jp-content-font-color3, rgba(0, 0, 0, 0.38));\n",
       "  --xr-border-color: var(--jp-border-color2, #e0e0e0);\n",
       "  --xr-disabled-color: var(--jp-layout-color3, #bdbdbd);\n",
       "  --xr-background-color: var(--jp-layout-color0, white);\n",
       "  --xr-background-color-row-even: var(--jp-layout-color1, white);\n",
       "  --xr-background-color-row-odd: var(--jp-layout-color2, #eeeeee);\n",
       "}\n",
       "\n",
       "html[theme=dark],\n",
       "body[data-theme=dark],\n",
       "body.vscode-dark {\n",
       "  --xr-font-color0: rgba(255, 255, 255, 1);\n",
       "  --xr-font-color2: rgba(255, 255, 255, 0.54);\n",
       "  --xr-font-color3: rgba(255, 255, 255, 0.38);\n",
       "  --xr-border-color: #1F1F1F;\n",
       "  --xr-disabled-color: #515151;\n",
       "  --xr-background-color: #111111;\n",
       "  --xr-background-color-row-even: #111111;\n",
       "  --xr-background-color-row-odd: #313131;\n",
       "}\n",
       "\n",
       ".xr-wrap {\n",
       "  display: block !important;\n",
       "  min-width: 300px;\n",
       "  max-width: 700px;\n",
       "}\n",
       "\n",
       ".xr-text-repr-fallback {\n",
       "  /* fallback to plain text repr when CSS is not injected (untrusted notebook) */\n",
       "  display: none;\n",
       "}\n",
       "\n",
       ".xr-header {\n",
       "  padding-top: 6px;\n",
       "  padding-bottom: 6px;\n",
       "  margin-bottom: 4px;\n",
       "  border-bottom: solid 1px var(--xr-border-color);\n",
       "}\n",
       "\n",
       ".xr-header > div,\n",
       ".xr-header > ul {\n",
       "  display: inline;\n",
       "  margin-top: 0;\n",
       "  margin-bottom: 0;\n",
       "}\n",
       "\n",
       ".xr-obj-type,\n",
       ".xr-array-name {\n",
       "  margin-left: 2px;\n",
       "  margin-right: 10px;\n",
       "}\n",
       "\n",
       ".xr-obj-type {\n",
       "  color: var(--xr-font-color2);\n",
       "}\n",
       "\n",
       ".xr-sections {\n",
       "  padding-left: 0 !important;\n",
       "  display: grid;\n",
       "  grid-template-columns: 150px auto auto 1fr 20px 20px;\n",
       "}\n",
       "\n",
       ".xr-section-item {\n",
       "  display: contents;\n",
       "}\n",
       "\n",
       ".xr-section-item input {\n",
       "  display: none;\n",
       "}\n",
       "\n",
       ".xr-section-item input + label {\n",
       "  color: var(--xr-disabled-color);\n",
       "}\n",
       "\n",
       ".xr-section-item input:enabled + label {\n",
       "  cursor: pointer;\n",
       "  color: var(--xr-font-color2);\n",
       "}\n",
       "\n",
       ".xr-section-item input:enabled + label:hover {\n",
       "  color: var(--xr-font-color0);\n",
       "}\n",
       "\n",
       ".xr-section-summary {\n",
       "  grid-column: 1;\n",
       "  color: var(--xr-font-color2);\n",
       "  font-weight: 500;\n",
       "}\n",
       "\n",
       ".xr-section-summary > span {\n",
       "  display: inline-block;\n",
       "  padding-left: 0.5em;\n",
       "}\n",
       "\n",
       ".xr-section-summary-in:disabled + label {\n",
       "  color: var(--xr-font-color2);\n",
       "}\n",
       "\n",
       ".xr-section-summary-in + label:before {\n",
       "  display: inline-block;\n",
       "  content: '►';\n",
       "  font-size: 11px;\n",
       "  width: 15px;\n",
       "  text-align: center;\n",
       "}\n",
       "\n",
       ".xr-section-summary-in:disabled + label:before {\n",
       "  color: var(--xr-disabled-color);\n",
       "}\n",
       "\n",
       ".xr-section-summary-in:checked + label:before {\n",
       "  content: '▼';\n",
       "}\n",
       "\n",
       ".xr-section-summary-in:checked + label > span {\n",
       "  display: none;\n",
       "}\n",
       "\n",
       ".xr-section-summary,\n",
       ".xr-section-inline-details {\n",
       "  padding-top: 4px;\n",
       "  padding-bottom: 4px;\n",
       "}\n",
       "\n",
       ".xr-section-inline-details {\n",
       "  grid-column: 2 / -1;\n",
       "}\n",
       "\n",
       ".xr-section-details {\n",
       "  display: none;\n",
       "  grid-column: 1 / -1;\n",
       "  margin-bottom: 5px;\n",
       "}\n",
       "\n",
       ".xr-section-summary-in:checked ~ .xr-section-details {\n",
       "  display: contents;\n",
       "}\n",
       "\n",
       ".xr-array-wrap {\n",
       "  grid-column: 1 / -1;\n",
       "  display: grid;\n",
       "  grid-template-columns: 20px auto;\n",
       "}\n",
       "\n",
       ".xr-array-wrap > label {\n",
       "  grid-column: 1;\n",
       "  vertical-align: top;\n",
       "}\n",
       "\n",
       ".xr-preview {\n",
       "  color: var(--xr-font-color3);\n",
       "}\n",
       "\n",
       ".xr-array-preview,\n",
       ".xr-array-data {\n",
       "  padding: 0 5px !important;\n",
       "  grid-column: 2;\n",
       "}\n",
       "\n",
       ".xr-array-data,\n",
       ".xr-array-in:checked ~ .xr-array-preview {\n",
       "  display: none;\n",
       "}\n",
       "\n",
       ".xr-array-in:checked ~ .xr-array-data,\n",
       ".xr-array-preview {\n",
       "  display: inline-block;\n",
       "}\n",
       "\n",
       ".xr-dim-list {\n",
       "  display: inline-block !important;\n",
       "  list-style: none;\n",
       "  padding: 0 !important;\n",
       "  margin: 0;\n",
       "}\n",
       "\n",
       ".xr-dim-list li {\n",
       "  display: inline-block;\n",
       "  padding: 0;\n",
       "  margin: 0;\n",
       "}\n",
       "\n",
       ".xr-dim-list:before {\n",
       "  content: '(';\n",
       "}\n",
       "\n",
       ".xr-dim-list:after {\n",
       "  content: ')';\n",
       "}\n",
       "\n",
       ".xr-dim-list li:not(:last-child):after {\n",
       "  content: ',';\n",
       "  padding-right: 5px;\n",
       "}\n",
       "\n",
       ".xr-has-index {\n",
       "  font-weight: bold;\n",
       "}\n",
       "\n",
       ".xr-var-list,\n",
       ".xr-var-item {\n",
       "  display: contents;\n",
       "}\n",
       "\n",
       ".xr-var-item > div,\n",
       ".xr-var-item label,\n",
       ".xr-var-item > .xr-var-name span {\n",
       "  background-color: var(--xr-background-color-row-even);\n",
       "  margin-bottom: 0;\n",
       "}\n",
       "\n",
       ".xr-var-item > .xr-var-name:hover span {\n",
       "  padding-right: 5px;\n",
       "}\n",
       "\n",
       ".xr-var-list > li:nth-child(odd) > div,\n",
       ".xr-var-list > li:nth-child(odd) > label,\n",
       ".xr-var-list > li:nth-child(odd) > .xr-var-name span {\n",
       "  background-color: var(--xr-background-color-row-odd);\n",
       "}\n",
       "\n",
       ".xr-var-name {\n",
       "  grid-column: 1;\n",
       "}\n",
       "\n",
       ".xr-var-dims {\n",
       "  grid-column: 2;\n",
       "}\n",
       "\n",
       ".xr-var-dtype {\n",
       "  grid-column: 3;\n",
       "  text-align: right;\n",
       "  color: var(--xr-font-color2);\n",
       "}\n",
       "\n",
       ".xr-var-preview {\n",
       "  grid-column: 4;\n",
       "}\n",
       "\n",
       ".xr-index-preview {\n",
       "  grid-column: 2 / 5;\n",
       "  color: var(--xr-font-color2);\n",
       "}\n",
       "\n",
       ".xr-var-name,\n",
       ".xr-var-dims,\n",
       ".xr-var-dtype,\n",
       ".xr-preview,\n",
       ".xr-attrs dt {\n",
       "  white-space: nowrap;\n",
       "  overflow: hidden;\n",
       "  text-overflow: ellipsis;\n",
       "  padding-right: 10px;\n",
       "}\n",
       "\n",
       ".xr-var-name:hover,\n",
       ".xr-var-dims:hover,\n",
       ".xr-var-dtype:hover,\n",
       ".xr-attrs dt:hover {\n",
       "  overflow: visible;\n",
       "  width: auto;\n",
       "  z-index: 1;\n",
       "}\n",
       "\n",
       ".xr-var-attrs,\n",
       ".xr-var-data,\n",
       ".xr-index-data {\n",
       "  display: none;\n",
       "  background-color: var(--xr-background-color) !important;\n",
       "  padding-bottom: 5px !important;\n",
       "}\n",
       "\n",
       ".xr-var-attrs-in:checked ~ .xr-var-attrs,\n",
       ".xr-var-data-in:checked ~ .xr-var-data,\n",
       ".xr-index-data-in:checked ~ .xr-index-data {\n",
       "  display: block;\n",
       "}\n",
       "\n",
       ".xr-var-data > table {\n",
       "  float: right;\n",
       "}\n",
       "\n",
       ".xr-var-name span,\n",
       ".xr-var-data,\n",
       ".xr-index-name div,\n",
       ".xr-index-data,\n",
       ".xr-attrs {\n",
       "  padding-left: 25px !important;\n",
       "}\n",
       "\n",
       ".xr-attrs,\n",
       ".xr-var-attrs,\n",
       ".xr-var-data,\n",
       ".xr-index-data {\n",
       "  grid-column: 1 / -1;\n",
       "}\n",
       "\n",
       "dl.xr-attrs {\n",
       "  padding: 0;\n",
       "  margin: 0;\n",
       "  display: grid;\n",
       "  grid-template-columns: 125px auto;\n",
       "}\n",
       "\n",
       ".xr-attrs dt,\n",
       ".xr-attrs dd {\n",
       "  padding: 0;\n",
       "  margin: 0;\n",
       "  float: left;\n",
       "  padding-right: 10px;\n",
       "  width: auto;\n",
       "}\n",
       "\n",
       ".xr-attrs dt {\n",
       "  font-weight: normal;\n",
       "  grid-column: 1;\n",
       "}\n",
       "\n",
       ".xr-attrs dt:hover span {\n",
       "  display: inline-block;\n",
       "  background: var(--xr-background-color);\n",
       "  padding-right: 10px;\n",
       "}\n",
       "\n",
       ".xr-attrs dd {\n",
       "  grid-column: 2;\n",
       "  white-space: pre-wrap;\n",
       "  word-break: break-all;\n",
       "}\n",
       "\n",
       ".xr-icon-database,\n",
       ".xr-icon-file-text2,\n",
       ".xr-no-icon {\n",
       "  display: inline-block;\n",
       "  vertical-align: middle;\n",
       "  width: 1em;\n",
       "  height: 1.5em !important;\n",
       "  stroke-width: 0;\n",
       "  stroke: currentColor;\n",
       "  fill: currentColor;\n",
       "}\n",
       "</style><pre class='xr-text-repr-fallback'>&lt;xarray.Dataset&gt;\n",
       "Dimensions:      (time: 325, y: 237, x: 215)\n",
       "Coordinates:\n",
       "  * time         (time) datetime64[ns] 2020-01-01T01:55:31.756059 ... 2022-12...\n",
       "  * y            (y) float64 -2.304e+06 -2.304e+06 ... -2.306e+06 -2.306e+06\n",
       "  * x            (x) float64 -1.598e+06 -1.598e+06 ... -1.596e+06 -1.596e+06\n",
       "    spatial_ref  int32 3577\n",
       "Data variables:\n",
       "    ndwi         (time, y, x) float32 nan nan nan ... -0.1535 -0.1542 -0.1555\n",
       "Attributes:\n",
       "    crs:           EPSG:3577\n",
       "    grid_mapping:  spatial_ref</pre><div class='xr-wrap' style='display:none'><div class='xr-header'><div class='xr-obj-type'>xarray.Dataset</div></div><ul class='xr-sections'><li class='xr-section-item'><input id='section-3a5c26db-a4d1-4df2-af42-c85cbfa833e3' class='xr-section-summary-in' type='checkbox' disabled ><label for='section-3a5c26db-a4d1-4df2-af42-c85cbfa833e3' class='xr-section-summary'  title='Expand/collapse section'>Dimensions:</label><div class='xr-section-inline-details'><ul class='xr-dim-list'><li><span class='xr-has-index'>time</span>: 325</li><li><span class='xr-has-index'>y</span>: 237</li><li><span class='xr-has-index'>x</span>: 215</li></ul></div><div class='xr-section-details'></div></li><li class='xr-section-item'><input id='section-96a4aa6a-0a23-445a-b347-a5ebca0c1b78' class='xr-section-summary-in' type='checkbox'  checked><label for='section-96a4aa6a-0a23-445a-b347-a5ebca0c1b78' class='xr-section-summary' >Coordinates: <span>(4)</span></label><div class='xr-section-inline-details'></div><div class='xr-section-details'><ul class='xr-var-list'><li class='xr-var-item'><div class='xr-var-name'><span class='xr-has-index'>time</span></div><div class='xr-var-dims'>(time)</div><div class='xr-var-dtype'>datetime64[ns]</div><div class='xr-var-preview xr-preview'>2020-01-01T01:55:31.756059 ... 2...</div><input id='attrs-4af1149d-eb7b-423f-a833-49e1a6088385' class='xr-var-attrs-in' type='checkbox' ><label for='attrs-4af1149d-eb7b-423f-a833-49e1a6088385' title='Show/Hide attributes'><svg class='icon xr-icon-file-text2'><use xlink:href='#icon-file-text2'></use></svg></label><input id='data-b397ed88-746d-4af5-85c1-bc00670e200c' class='xr-var-data-in' type='checkbox'><label for='data-b397ed88-746d-4af5-85c1-bc00670e200c' title='Show/Hide data repr'><svg class='icon xr-icon-database'><use xlink:href='#icon-database'></use></svg></label><div class='xr-var-attrs'><dl class='xr-attrs'><dt><span>units :</span></dt><dd>seconds since 1970-01-01 00:00:00</dd></dl></div><div class='xr-var-data'><pre>array([&#x27;2020-01-01T01:55:31.756059000&#x27;, &#x27;2020-01-05T02:33:18.178626000&#x27;,\n",
       "       &#x27;2020-01-09T02:14:49.750910000&#x27;, ..., &#x27;2022-12-24T02:15:01.478269000&#x27;,\n",
       "       &#x27;2022-12-25T02:33:23.040089000&#x27;, &#x27;2022-12-30T02:33:22.555775000&#x27;],\n",
       "      dtype=&#x27;datetime64[ns]&#x27;)</pre></div></li><li class='xr-var-item'><div class='xr-var-name'><span class='xr-has-index'>y</span></div><div class='xr-var-dims'>(y)</div><div class='xr-var-dtype'>float64</div><div class='xr-var-preview xr-preview'>-2.304e+06 ... -2.306e+06</div><input id='attrs-500c6a81-79bf-43ad-ba5f-fa879296068b' class='xr-var-attrs-in' type='checkbox' ><label for='attrs-500c6a81-79bf-43ad-ba5f-fa879296068b' title='Show/Hide attributes'><svg class='icon xr-icon-file-text2'><use xlink:href='#icon-file-text2'></use></svg></label><input id='data-f842bc44-574a-418d-8c67-229c6d584814' class='xr-var-data-in' type='checkbox'><label for='data-f842bc44-574a-418d-8c67-229c6d584814' title='Show/Hide data repr'><svg class='icon xr-icon-database'><use xlink:href='#icon-database'></use></svg></label><div class='xr-var-attrs'><dl class='xr-attrs'><dt><span>units :</span></dt><dd>metre</dd><dt><span>resolution :</span></dt><dd>-10.0</dd><dt><span>crs :</span></dt><dd>EPSG:3577</dd></dl></div><div class='xr-var-data'><pre>array([-2303685., -2303695., -2303705., ..., -2306025., -2306035., -2306045.])</pre></div></li><li class='xr-var-item'><div class='xr-var-name'><span class='xr-has-index'>x</span></div><div class='xr-var-dims'>(x)</div><div class='xr-var-dtype'>float64</div><div class='xr-var-preview xr-preview'>-1.598e+06 ... -1.596e+06</div><input id='attrs-b8df326e-8da7-4066-97d2-75f4bac6b13f' class='xr-var-attrs-in' type='checkbox' ><label for='attrs-b8df326e-8da7-4066-97d2-75f4bac6b13f' title='Show/Hide attributes'><svg class='icon xr-icon-file-text2'><use xlink:href='#icon-file-text2'></use></svg></label><input id='data-d37e8408-f8ba-4ba0-a324-76ecf9a89f82' class='xr-var-data-in' type='checkbox'><label for='data-d37e8408-f8ba-4ba0-a324-76ecf9a89f82' title='Show/Hide data repr'><svg class='icon xr-icon-database'><use xlink:href='#icon-database'></use></svg></label><div class='xr-var-attrs'><dl class='xr-attrs'><dt><span>units :</span></dt><dd>metre</dd><dt><span>resolution :</span></dt><dd>10.0</dd><dt><span>crs :</span></dt><dd>EPSG:3577</dd></dl></div><div class='xr-var-data'><pre>array([-1598095., -1598085., -1598075., ..., -1595975., -1595965., -1595955.])</pre></div></li><li class='xr-var-item'><div class='xr-var-name'><span>spatial_ref</span></div><div class='xr-var-dims'>()</div><div class='xr-var-dtype'>int32</div><div class='xr-var-preview xr-preview'>3577</div><input id='attrs-ffb82600-1282-49b1-bd90-f234962418d1' class='xr-var-attrs-in' type='checkbox' ><label for='attrs-ffb82600-1282-49b1-bd90-f234962418d1' title='Show/Hide attributes'><svg class='icon xr-icon-file-text2'><use xlink:href='#icon-file-text2'></use></svg></label><input id='data-c6fdc5da-2fb0-4418-beff-95a7e059c429' class='xr-var-data-in' type='checkbox'><label for='data-c6fdc5da-2fb0-4418-beff-95a7e059c429' title='Show/Hide data repr'><svg class='icon xr-icon-database'><use xlink:href='#icon-database'></use></svg></label><div class='xr-var-attrs'><dl class='xr-attrs'><dt><span>spatial_ref :</span></dt><dd>PROJCS[&quot;GDA94 / Australian Albers&quot;,GEOGCS[&quot;GDA94&quot;,DATUM[&quot;Geocentric_Datum_of_Australia_1994&quot;,SPHEROID[&quot;GRS 1980&quot;,6378137,298.257222101,AUTHORITY[&quot;EPSG&quot;,&quot;7019&quot;]],AUTHORITY[&quot;EPSG&quot;,&quot;6283&quot;]],PRIMEM[&quot;Greenwich&quot;,0,AUTHORITY[&quot;EPSG&quot;,&quot;8901&quot;]],UNIT[&quot;degree&quot;,0.0174532925199433,AUTHORITY[&quot;EPSG&quot;,&quot;9122&quot;]],AUTHORITY[&quot;EPSG&quot;,&quot;4283&quot;]],PROJECTION[&quot;Albers_Conic_Equal_Area&quot;],PARAMETER[&quot;latitude_of_center&quot;,0],PARAMETER[&quot;longitude_of_center&quot;,132],PARAMETER[&quot;standard_parallel_1&quot;,-18],PARAMETER[&quot;standard_parallel_2&quot;,-36],PARAMETER[&quot;false_easting&quot;,0],PARAMETER[&quot;false_northing&quot;,0],UNIT[&quot;metre&quot;,1,AUTHORITY[&quot;EPSG&quot;,&quot;9001&quot;]],AXIS[&quot;Easting&quot;,EAST],AXIS[&quot;Northing&quot;,NORTH],AUTHORITY[&quot;EPSG&quot;,&quot;3577&quot;]]</dd><dt><span>grid_mapping_name :</span></dt><dd>albers_conical_equal_area</dd></dl></div><div class='xr-var-data'><pre>array(3577, dtype=int32)</pre></div></li></ul></div></li><li class='xr-section-item'><input id='section-0157482f-5c72-47da-abd0-b3f4a4c906a7' class='xr-section-summary-in' type='checkbox'  checked><label for='section-0157482f-5c72-47da-abd0-b3f4a4c906a7' class='xr-section-summary' >Data variables: <span>(1)</span></label><div class='xr-section-inline-details'></div><div class='xr-section-details'><ul class='xr-var-list'><li class='xr-var-item'><div class='xr-var-name'><span>ndwi</span></div><div class='xr-var-dims'>(time, y, x)</div><div class='xr-var-dtype'>float32</div><div class='xr-var-preview xr-preview'>nan nan nan ... -0.1542 -0.1555</div><input id='attrs-b9fbfe4a-4d1e-479c-8dce-0c5d2f787e6c' class='xr-var-attrs-in' type='checkbox' disabled><label for='attrs-b9fbfe4a-4d1e-479c-8dce-0c5d2f787e6c' title='Show/Hide attributes'><svg class='icon xr-icon-file-text2'><use xlink:href='#icon-file-text2'></use></svg></label><input id='data-f7c945bd-b200-4f43-908b-c8f996a55279' class='xr-var-data-in' type='checkbox'><label for='data-f7c945bd-b200-4f43-908b-c8f996a55279' title='Show/Hide data repr'><svg class='icon xr-icon-database'><use xlink:href='#icon-database'></use></svg></label><div class='xr-var-attrs'><dl class='xr-attrs'></dl></div><div class='xr-var-data'><pre>array([[[        nan,         nan,         nan, ...,  0.26417112,\n",
       "          0.2524377 ,  0.24424973],\n",
       "        [        nan,         nan,         nan, ...,  0.25420168,\n",
       "          0.25265393,  0.2532189 ],\n",
       "        [        nan,         nan,         nan, ...,  0.24407826,\n",
       "          0.25078043,  0.2597266 ],\n",
       "        ...,\n",
       "        [-0.19185688, -0.18805787, -0.18650307, ..., -0.18890004,\n",
       "         -0.18869829, -0.1799932 ],\n",
       "        [-0.18315132, -0.17801374, -0.17555347, ..., -0.18068103,\n",
       "         -0.18007663, -0.17214836],\n",
       "        [-0.17721519, -0.17082413, -0.16629991, ..., -0.1716954 ,\n",
       "         -0.17115177, -0.16541623]],\n",
       "\n",
       "       [[ 0.17439812,  0.176259  ,  0.18760958, ...,  0.16345063,\n",
       "          0.17411226,  0.20023215],\n",
       "        [ 0.1822947 ,  0.17164616,  0.15648633, ...,  0.17120181,\n",
       "          0.18640226,  0.18687756],\n",
       "        [ 0.15986395,  0.16033994,  0.1528767 , ...,  0.1781776 ,\n",
       "          0.18997669,  0.16365689],\n",
       "...\n",
       "        [-0.33155438, -0.32338983, -0.3191341 , ...,         nan,\n",
       "                 nan,         nan],\n",
       "        [-0.31920618, -0.31466115, -0.31169757, ...,         nan,\n",
       "                 nan,         nan],\n",
       "        [-0.32065398, -0.31625682, -0.3122782 , ...,         nan,\n",
       "                 nan,         nan]],\n",
       "\n",
       "       [[        nan,         nan,         nan, ...,  0.08422301,\n",
       "          0.08716137,  0.09123013],\n",
       "        [        nan,         nan,         nan, ...,  0.08790561,\n",
       "          0.09166174,  0.08960573],\n",
       "        [        nan,         nan,         nan, ...,  0.10628303,\n",
       "          0.09815586,  0.08883554],\n",
       "        ...,\n",
       "        [-0.29850745, -0.2975019 , -0.29526028, ..., -0.15622698,\n",
       "         -0.17275876, -0.1971831 ],\n",
       "        [-0.29459962, -0.29277566, -0.2934697 , ..., -0.15893777,\n",
       "         -0.16580518, -0.1787285 ],\n",
       "        [-0.28486648, -0.2834467 , -0.2868217 , ..., -0.15353371,\n",
       "         -0.15418859, -0.15550041]]], dtype=float32)</pre></div></li></ul></div></li><li class='xr-section-item'><input id='section-311a58b3-6c1a-448c-8820-01f3edc82798' class='xr-section-summary-in' type='checkbox'  ><label for='section-311a58b3-6c1a-448c-8820-01f3edc82798' class='xr-section-summary' >Indexes: <span>(3)</span></label><div class='xr-section-inline-details'></div><div class='xr-section-details'><ul class='xr-var-list'><li class='xr-var-item'><div class='xr-index-name'><div>time</div></div><div class='xr-index-preview'>PandasIndex</div><div></div><input id='index-55af49d4-4f85-43d0-92c7-bc1e2383d4fc' class='xr-index-data-in' type='checkbox'/><label for='index-55af49d4-4f85-43d0-92c7-bc1e2383d4fc' title='Show/Hide index repr'><svg class='icon xr-icon-database'><use xlink:href='#icon-database'></use></svg></label><div class='xr-index-data'><pre>PandasIndex(DatetimeIndex([&#x27;2020-01-01 01:55:31.756059&#x27;, &#x27;2020-01-05 02:33:18.178626&#x27;,\n",
       "               &#x27;2020-01-09 02:14:49.750910&#x27;, &#x27;2020-01-10 02:33:18.376042&#x27;,\n",
       "               &#x27;2020-01-15 02:33:17.817494&#x27;, &#x27;2020-01-17 01:54:43.389665&#x27;,\n",
       "               &#x27;2020-01-20 02:33:17.370322&#x27;, &#x27;2020-01-25 02:14:45.765133&#x27;,\n",
       "               &#x27;2020-01-25 02:33:16.925472&#x27;, &#x27;2020-01-30 02:33:16.004291&#x27;,\n",
       "               ...\n",
       "               &#x27;2022-11-30 02:33:23.773235&#x27;, &#x27;2022-12-05 02:33:21.029102&#x27;,\n",
       "               &#x27;2022-12-08 02:15:04.717921&#x27;, &#x27;2022-12-10 02:33:24.159672&#x27;,\n",
       "               &#x27;2022-12-15 02:33:21.798963&#x27;, &#x27;2022-12-16 02:15:06.434014&#x27;,\n",
       "               &#x27;2022-12-20 02:33:22.205801&#x27;, &#x27;2022-12-24 02:15:01.478269&#x27;,\n",
       "               &#x27;2022-12-25 02:33:23.040089&#x27;, &#x27;2022-12-30 02:33:22.555775&#x27;],\n",
       "              dtype=&#x27;datetime64[ns]&#x27;, name=&#x27;time&#x27;, length=325, freq=None))</pre></div></li><li class='xr-var-item'><div class='xr-index-name'><div>y</div></div><div class='xr-index-preview'>PandasIndex</div><div></div><input id='index-a3136e60-f7df-4b90-ac94-72c6c486ef86' class='xr-index-data-in' type='checkbox'/><label for='index-a3136e60-f7df-4b90-ac94-72c6c486ef86' title='Show/Hide index repr'><svg class='icon xr-icon-database'><use xlink:href='#icon-database'></use></svg></label><div class='xr-index-data'><pre>PandasIndex(Float64Index([-2303685.0, -2303695.0, -2303705.0, -2303715.0, -2303725.0,\n",
       "              -2303735.0, -2303745.0, -2303755.0, -2303765.0, -2303775.0,\n",
       "              ...\n",
       "              -2305955.0, -2305965.0, -2305975.0, -2305985.0, -2305995.0,\n",
       "              -2306005.0, -2306015.0, -2306025.0, -2306035.0, -2306045.0],\n",
       "             dtype=&#x27;float64&#x27;, name=&#x27;y&#x27;, length=237))</pre></div></li><li class='xr-var-item'><div class='xr-index-name'><div>x</div></div><div class='xr-index-preview'>PandasIndex</div><div></div><input id='index-b72a1d33-f069-4bb1-92fb-87793a2d5d22' class='xr-index-data-in' type='checkbox'/><label for='index-b72a1d33-f069-4bb1-92fb-87793a2d5d22' title='Show/Hide index repr'><svg class='icon xr-icon-database'><use xlink:href='#icon-database'></use></svg></label><div class='xr-index-data'><pre>PandasIndex(Float64Index([-1598095.0, -1598085.0, -1598075.0, -1598065.0, -1598055.0,\n",
       "              -1598045.0, -1598035.0, -1598025.0, -1598015.0, -1598005.0,\n",
       "              ...\n",
       "              -1596045.0, -1596035.0, -1596025.0, -1596015.0, -1596005.0,\n",
       "              -1595995.0, -1595985.0, -1595975.0, -1595965.0, -1595955.0],\n",
       "             dtype=&#x27;float64&#x27;, name=&#x27;x&#x27;, length=215))</pre></div></li></ul></div></li><li class='xr-section-item'><input id='section-15f55135-efce-4c10-bf4b-c472d1dfd51c' class='xr-section-summary-in' type='checkbox'  checked><label for='section-15f55135-efce-4c10-bf4b-c472d1dfd51c' class='xr-section-summary' >Attributes: <span>(2)</span></label><div class='xr-section-inline-details'></div><div class='xr-section-details'><dl class='xr-attrs'><dt><span>crs :</span></dt><dd>EPSG:3577</dd><dt><span>grid_mapping :</span></dt><dd>spatial_ref</dd></dl></div></li></ul></div></div>"
      ],
      "text/plain": [
       "<xarray.Dataset>\n",
       "Dimensions:      (time: 325, y: 237, x: 215)\n",
       "Coordinates:\n",
       "  * time         (time) datetime64[ns] 2020-01-01T01:55:31.756059 ... 2022-12...\n",
       "  * y            (y) float64 -2.304e+06 -2.304e+06 ... -2.306e+06 -2.306e+06\n",
       "  * x            (x) float64 -1.598e+06 -1.598e+06 ... -1.596e+06 -1.596e+06\n",
       "    spatial_ref  int32 3577\n",
       "Data variables:\n",
       "    ndwi         (time, y, x) float32 nan nan nan ... -0.1535 -0.1542 -0.1555\n",
       "Attributes:\n",
       "    crs:           EPSG:3577\n",
       "    grid_mapping:  spatial_ref"
      ]
     },
     "execution_count": 6,
     "metadata": {},
     "output_type": "execute_result"
    }
   ],
   "source": [
    "%%time\n",
    "\n",
    "# Connect to datacube\n",
    "dc = datacube.Datacube(app=\"Intertidal_elevation\")\n",
    "\n",
    "# Create local dask cluster to improve data load time\n",
    "client = create_local_dask_cluster(return_client=True)\n",
    "\n",
    "satellite_ds = load_data(\n",
    "    dc=dc,\n",
    "    study_area=study_area,\n",
    "    geom=geom,\n",
    "    time_range=(start_date, end_date),\n",
    "    resolution=resolution,\n",
    "    crs=crs,\n",
    "    include_s2=True,\n",
    "    \n",
    "    include_ls=True,\n",
    "    filter_gqa=filter_gqa,\n",
    "    max_cloudcover=90,\n",
    "    skip_broken_datasets=True,\n",
    ")\n",
    "\n",
    "print(satellite_ds)\n",
    "\n",
    "# Load data\n",
    "satellite_ds.load()"
   ]
  },
  {
   "cell_type": "markdown",
   "id": "ad0ab3e3",
   "metadata": {},
   "source": [
    "### Load optional topobathy mask\n",
    "Loads a topo-bathymetric DEM for the extents of the loaded satellite data.\n",
    "This is used as a coarse mask to constrain the analysis to the coastal zone, improving run time and reducing clear false positives over deep water or elevated land."
   ]
  },
  {
   "cell_type": "code",
   "execution_count": 7,
   "id": "2adcc77b",
   "metadata": {
    "tags": []
   },
   "outputs": [],
   "source": [
    "# Load data from GA's Australian Bathymetry and Topography Grid 2009\n",
    "topobathy_ds = load_topobathy(\n",
    "    dc, satellite_ds, product=\"ga_multi_ausbath_0\", resampling=\"bilinear\"\n",
    ")"
   ]
  },
  {
   "cell_type": "markdown",
   "id": "fd2c1630",
   "metadata": {},
   "source": [
    "### Intertidal elevation\n",
    "To run without the topobathy DEM mask, comment out `valid_mask=...`."
   ]
  },
  {
   "cell_type": "code",
   "execution_count": 8,
   "id": "45de9453-5ca0-4879-85fd-09864229bbb2",
   "metadata": {
    "tags": []
   },
   "outputs": [
    {
     "name": "stderr",
     "output_type": "stream",
     "text": [
      "2024-02-01 04:19:28 INFO Modelling tide heights for each pixel\n"
     ]
    },
    {
     "name": "stdout",
     "output_type": "stream",
     "text": [
      "Creating reduced resolution 5000 x 5000 metre tide modelling array\n",
      "Modelling tides using FES2014, FES2012, TPXO8-atlas-v1, TPXO9-atlas-v5, EOT20, HAMTIDE11, GOT4.10 in parallel\n"
     ]
    },
    {
     "name": "stderr",
     "output_type": "stream",
     "text": [
      "100%|██████████| 35/35 [00:19<00:00,  1.77it/s]\n"
     ]
    },
    {
     "name": "stdout",
     "output_type": "stream",
     "text": [
      "Returning low resolution tide array\n",
      "Generating ensemble tide model from point inputs\n"
     ]
    },
    {
     "name": "stderr",
     "output_type": "stream",
     "text": [
      "2024-02-01 04:19:52 INFO Masking nodata and adding tide heights to satellite data array\n",
      "2024-02-01 04:19:53 INFO Flattening satellite data array and filtering to intertidal candidate pixels\n",
      "2024-02-01 04:19:53 INFO Applying valid data mask to constrain study area\n",
      "2024-02-01 04:19:53 INFO Running per-pixel rolling median\n"
     ]
    },
    {
     "name": "stdout",
     "output_type": "stream",
     "text": [
      "Reducing analysed pixels from 50955 to 8141 (15.98%)\n"
     ]
    },
    {
     "data": {
      "application/vnd.jupyter.widget-view+json": {
       "model_id": "9e8537d7507f4ff999103adc0dde4ffa",
       "version_major": 2,
       "version_minor": 0
      },
      "text/plain": [
       "  0%|          | 0/105 [00:00<?, ?it/s]"
      ]
     },
     "metadata": {},
     "output_type": "display_data"
    },
    {
     "name": "stderr",
     "output_type": "stream",
     "text": [
      "2024-02-01 04:20:05 INFO Modelling intertidal elevation\n",
      "2024-02-01 04:20:05 INFO Modelling intertidal uncertainty\n"
     ]
    },
    {
     "name": "stdout",
     "output_type": "stream",
     "text": [
      "Applying tidal interval interpolation to 200 intervals\n",
      "Applying rolling mean smoothing with radius 20\n"
     ]
    },
    {
     "name": "stderr",
     "output_type": "stream",
     "text": [
      "2024-02-01 04:20:06 INFO Unflattening data back to its original spatial dimensions\n",
      "2024-02-01 04:20:06 INFO Cleaning inaccurate upper intertidal pixels\n",
      "2024-02-01 04:20:06 INFO Successfully completed intertidal elevation modelling\n"
     ]
    }
   ],
   "source": [
    "# %reload_ext autoreload\n",
    "\n",
    "# Model elevation for each pixel\n",
    "ds, ds_aux, tide_m = elevation(\n",
    "    satellite_ds,\n",
    "    valid_mask=topobathy_ds.height_depth > -20,\n",
    "    tide_model=tide_model,\n",
    "    tide_model_dir=tide_model_dir,\n",
    ")"
   ]
  },
  {
   "cell_type": "markdown",
   "id": "82962441",
   "metadata": {
    "tags": []
   },
   "source": [
    "### Intertidal extents\n"
   ]
  },
  {
   "cell_type": "code",
   "execution_count": 9,
   "id": "f49adb23-1eb4-457b-bffe-c8b90e117c97",
   "metadata": {
    "tags": []
   },
   "outputs": [],
   "source": [
    "ds[\"extents\"] = extents(\n",
    "    freq=ds_aux.ndwi_wet_freq, dem=ds.elevation, corr=ds_aux.ndwi_tide_corr\n",
    ")"
   ]
  },
  {
   "cell_type": "code",
   "execution_count": 10,
   "id": "08dbad9b-ad1e-46bd-a55c-dd442e6e8446",
   "metadata": {
    "tags": []
   },
   "outputs": [],
   "source": [
    "# ## Plot with labels\n",
    "# labels=['0 Dry',\n",
    "#        '1 Intermittent\\n   wet\\n   inland',\n",
    "#        '2 Wet inland',\n",
    "#        '3 Wet ocean',\n",
    "#        '4 Intertidal lc',\n",
    "#        '5 Intertidal hc',\n",
    "#        ]\n",
    "\n",
    "# fig,ax=plt.subplots(figsize=(12,8))\n",
    "# cax=ax.imshow(ds['extents'], cmap='terrain_r')\n",
    "# cbar=fig.colorbar(cax, ticks=[0,1,2,3,4,5])\n",
    "# cbar.ax.set_yticklabels(labels)\n",
    "# plt.show()"
   ]
  },
  {
   "cell_type": "markdown",
   "id": "b30492d7",
   "metadata": {
    "tags": []
   },
   "source": [
    "### Intertidal exposure\n",
    "Calculate exposure using the script function.\n",
    "To calculate exposure for the full time period, leave `filters` commented out or set as ['unfiltered'].\n",
    "See the function documentation for the full range of available filters and filter_combinations.\n",
    "The code accepts lists of multiple filters and filter_combination tuples."
   ]
  },
  {
   "cell_type": "code",
   "execution_count": 16,
   "id": "ad27ef63-3e62-4167-8369-0d6fa79bab8e",
   "metadata": {
    "tags": []
   },
   "outputs": [
    {
     "name": "stdout",
     "output_type": "stream",
     "text": [
      "Calculating unfiltered exposure\n",
      "Creating reduced resolution 5000 x 5000 metre tide modelling array\n",
      "Modelling tides using FES2014, FES2012, TPXO8-atlas-v1, TPXO9-atlas-v5, EOT20, HAMTIDE11, GOT4.10 in parallel\n"
     ]
    },
    {
     "name": "stderr",
     "output_type": "stream",
     "text": [
      "100%|██████████| 35/35 [00:19<00:00,  1.78it/s]\n"
     ]
    },
    {
     "name": "stdout",
     "output_type": "stream",
     "text": [
      "Computing tide quantiles\n",
      "Returning low resolution tide array\n",
      "Generating ensemble tide model from point inputs\n"
     ]
    }
   ],
   "source": [
    "%reload_ext autoreload\n",
    "\n",
    "exposure_filters, tide_cq_dict = exposure(\n",
    "    dem=ds.elevation,\n",
    "    start_date=start_date,\n",
    "    end_date=end_date,\n",
    "    modelled_freq = modelled_freq,\n",
    "    tide_model=tide_model,\n",
    "    tide_model_dir=tide_model_dir,\n",
    "    # filters=filters,\n",
    "    # filters_combined=filters_combined,\n",
    ")\n",
    "\n",
    "for x in list(exposure_filters.keys()):\n",
    "    ds['exposure_'+str(x)]=exposure_filters[str(x)]"
   ]
  },
  {
   "cell_type": "markdown",
   "id": "89b86fb9",
   "metadata": {},
   "source": [
    "### Spread and offset\n",
    "Calculate the spread and high/low tide biases of input observed images as a percentage of the modelled tide heights.\n",
    "\n",
    "Warning: this code will only work if the exposure function has been run and produced 'unfiltered' exposure results.\n"
   ]
  },
  {
   "cell_type": "code",
   "execution_count": null,
   "id": "ccc3123d",
   "metadata": {
    "tags": []
   },
   "outputs": [],
   "source": [
    "(\n",
    "    ds[\"oa_lat\"],\n",
    "    ds[\"oa_hat\"],\n",
    "    ds[\"oa_lot\"],\n",
    "    ds[\"oa_hot\"],\n",
    "    ds[\"oa_spread\"],\n",
    "    ds[\"oa_offset_lowtide\"],\n",
    "    ds[\"oa_offset_hightide\"],\n",
    ") = bias_offset(\n",
    "    tide_m=tide_m, tide_cq=tide_cq_dict['unfiltered'], extents=ds.extents, lot_hot=True, lat_hat=True\n",
    ")"
   ]
  },
  {
   "cell_type": "markdown",
   "id": "9fdccf96",
   "metadata": {},
   "source": [
    "### Tideline confidence"
   ]
  },
  {
   "cell_type": "code",
   "execution_count": null,
   "id": "eec0081d",
   "metadata": {
    "tags": []
   },
   "outputs": [],
   "source": [
    "# (hightideline, lowtideline, tidelines_gdf) = tidal_offset_tidelines(\n",
    "#     extents=ds.extents,\n",
    "#     offset_hightide=ds.oa_offset_hightide,\n",
    "#     offset_lowtide=ds.oa_offset_lowtide,\n",
    "#     distance=250,\n",
    "# )"
   ]
  },
  {
   "cell_type": "markdown",
   "id": "2986d91d",
   "metadata": {},
   "source": [
    "## Plot all layers"
   ]
  },
  {
   "cell_type": "code",
   "execution_count": null,
   "id": "b80d35e1",
   "metadata": {
    "tags": []
   },
   "outputs": [],
   "source": [
    "# Inspect contents of ds before plotting\n",
    "ds"
   ]
  },
  {
   "cell_type": "code",
   "execution_count": null,
   "id": "0b8f96f8",
   "metadata": {
    "tags": []
   },
   "outputs": [],
   "source": [
    "fig = plt.figure(figsize=(16, 18), tight_layout=True)\n",
    "ax_dict = fig.subplot_mosaic(\n",
    "    \"\"\"\n",
    "    AAAABBBBCCCC\n",
    "    DDDEEEFFFGGG\n",
    "    HHHIIIJJJKKK\n",
    "    LLLMMM......\n",
    "    \"\"\",\n",
    "    height_ratios=[1, 0.8, 0.8, 0.8],\n",
    ")\n",
    "\n",
    "# label_params = dict(add_labels=False, yticks=[], xticks=[])\n",
    "\n",
    "# Plot Elevation with hillshade\n",
    "ds[\"elevation\"].plot.imshow(\n",
    "    ax=ax_dict[\"A\"],\n",
    "    cmap=\"viridis\",\n",
    "    interpolation=\"bilinear\",\n",
    ")\n",
    "intertidal_hillshade(ds[\"elevation\"], ds[\"extents\"], vert_exag=300).plot.imshow(\n",
    "    ax=ax_dict[\"A\"],\n",
    "    interpolation=\"bilinear\",\n",
    ")\n",
    "ax_dict[\"A\"].set_title(\"Elevation (metres AMSL)\")\n",
    "\n",
    "# Plot uncertainty\n",
    "ds[\"elevation_uncertainty\"].plot.imshow(\n",
    "    ax=ax_dict[\"B\"],\n",
    "    cmap=\"magma\",\n",
    "    interpolation=\"bilinear\",\n",
    ")\n",
    "ax_dict[\"B\"].set_title(\"Elevation uncertainty (metres)\")\n",
    "ax_dict[\"B\"].set_facecolor(\"#2E2E2E\")\n",
    "\n",
    "# Plot Exposure\n",
    "ds[\"exposure_unfiltered\"].plot.imshow(\n",
    "    ax=ax_dict[\"C\"],\n",
    "    cmap=\"RdYlGn\",\n",
    "    levels=np.arange(0, 100, 1),\n",
    "    add_labels=False,\n",
    "    yticks=[],\n",
    ")\n",
    "ax_dict[\"C\"].set_title(\"Exposure\")\n",
    "\n",
    "# Plot Extents\n",
    "ds[\"extents\"].astype(np.int16).plot.imshow(ax=ax_dict[\"D\"])\n",
    "ax_dict[\"D\"].set_title(\"Extents\")\n",
    "\n",
    "# Plot the observation spread\n",
    "ds[\"oa_spread\"].plot.imshow(\n",
    "    ax=ax_dict[\"E\"],\n",
    "    vmin=0,\n",
    "    vmax=100,\n",
    "    cmap=\"magma\",\n",
    "    cbar_kwargs={\"label\": \"% of tidal range observed\"},\n",
    ")\n",
    "ax_dict[\"E\"].set_title(\"Observation Spread (%)\")\n",
    "\n",
    "# Plot the high-tide offset\n",
    "ds[\"oa_offset_hightide\"].plot.imshow(\n",
    "    ax=ax_dict[\"F\"],\n",
    "    vmin=0,\n",
    "    vmax=40,\n",
    "    cmap=\"magma\",\n",
    "    cbar_kwargs={\"label\": \"% of high tide never observed\"},\n",
    ")\n",
    "ax_dict[\"F\"].set_title(\"High-tide offset (%)\")\n",
    "\n",
    "# Plot the low-tide offset\n",
    "ds[\"oa_offset_lowtide\"].plot.imshow(\n",
    "    ax=ax_dict[\"G\"],\n",
    "    vmin=0,\n",
    "    vmax=40,\n",
    "    cmap=\"magma\",\n",
    "    cbar_kwargs={\"label\": \"% of low tide never observed\"},\n",
    ")\n",
    "ax_dict[\"G\"].set_title(\"Low-tide offset (%)\")\n",
    "\n",
    "# Plot the LAT\n",
    "ds[\"oa_lat\"].plot.imshow(\n",
    "    ax=ax_dict[\"H\"],\n",
    "    vmin=ds[\"oa_lat\"].min(),\n",
    "    vmax=ds[\"oa_hat\"].max(),\n",
    "    add_labels=False,\n",
    ")\n",
    "ax_dict[\"H\"].set_title(\"Lowest Astronomical Tide\")\n",
    "\n",
    "# Plot the LOT\n",
    "ds[\"oa_lot\"].plot.imshow(\n",
    "    ax=ax_dict[\"I\"], vmin=ds[\"oa_lat\"].min(), vmax=ds[\"oa_hat\"].max()\n",
    ")\n",
    "ax_dict[\"I\"].set_title(\"Lowest Observed Tide\")\n",
    "\n",
    "# Plot the HAT\n",
    "ds[\"oa_hat\"].plot.imshow(\n",
    "    ax=ax_dict[\"J\"],\n",
    "    vmin=ds[\"oa_lat\"].min(),\n",
    "    vmax=ds[\"oa_hat\"].max(),\n",
    "    add_labels=False,\n",
    "    yticks=[],\n",
    ")\n",
    "ax_dict[\"J\"].set_title(\"Highest Astronomical Tide\")\n",
    "\n",
    "# Plot the HOT\n",
    "ds[\"oa_hot\"].plot.imshow(\n",
    "    ax=ax_dict[\"K\"],\n",
    "    vmin=ds[\"oa_lat\"].min(),\n",
    "    vmax=ds[\"oa_hat\"].max(),\n",
    ")\n",
    "ax_dict[\"K\"].set_title(\"Highest Observed Tide\")\n",
    "\n",
    "# Plot the high and low tidelines with respective offset\n",
    "ax_dict[\"L\"].set_title(\"Lowtide line and lowtide offset\")\n",
    "# lowtideline.plot(\n",
    "#     column=\"offset_lowtide\",\n",
    "#     legend=True,\n",
    "#     vmin=0,\n",
    "#     vmax=40,\n",
    "#     cmap=\"magma\",\n",
    "#     ax=ax_dict[\"L\"],\n",
    "#     zorder=2,\n",
    "# )\n",
    "# tidelines_gdf.loc[[0], \"geometry\"].plot(ax=ax_dict[\"L\"], zorder=1)\n",
    "ax_dict[\"L\"].set_xlim(left=ds.elevation.x.min(), right=ds.elevation.x.max())\n",
    "ax_dict[\"L\"].set_ylim(bottom=ds.elevation.y.min(), top=ds.elevation.y.max())\n",
    "\n",
    "ax_dict[\"M\"].set_title(\"Hightide line and hightide offset\")\n",
    "# hightideline.plot(\n",
    "#     column=\"offset_hightide\",\n",
    "#     legend=True,\n",
    "#     vmin=0,\n",
    "#     vmax=40,\n",
    "#     cmap=\"magma\",\n",
    "#     ax=ax_dict[\"M\"],\n",
    "#     zorder=2,\n",
    "# )\n",
    "# tidelines_gdf.loc[[1], \"geometry\"].plot(ax=ax_dict[\"M\"], zorder=1)\n",
    "ax_dict[\"M\"].set_yticks([])\n",
    "ax_dict[\"M\"].set_xlim(left=ds.elevation.x.min(), right=ds.elevation.x.max())\n",
    "ax_dict[\"M\"].set_ylim(bottom=ds.elevation.y.min(), top=ds.elevation.y.max())\n",
    "\n",
    "# Remove axis labels\n",
    "for label, ax in ax_dict.items():\n",
    "    ax.set_yticks([])\n",
    "    ax.set_xticks([])\n",
    "    ax.set_ylabel(\"\")\n",
    "    ax.set_xlabel(\"\")"
   ]
  },
  {
   "cell_type": "markdown",
   "id": "e91f81d3",
   "metadata": {
    "tags": []
   },
   "source": [
    "## Export layers"
   ]
  },
  {
   "cell_type": "code",
   "execution_count": null,
   "id": "57c54b70",
   "metadata": {},
   "outputs": [],
   "source": [
    "# Create output folder. If it doesn't exist, create it\n",
    "output_dir = f\"data/interim/{study_area}/{start_date}-{end_date}\"\n",
    "os.makedirs(output_dir, exist_ok=True)"
   ]
  },
  {
   "cell_type": "code",
   "execution_count": null,
   "id": "1a027ec4",
   "metadata": {},
   "outputs": [],
   "source": [
    "# Save rasters as GeoTIFFs\n",
    "export_intertidal_rasters(\n",
    "    ds, prefix=f\"{output_dir}/{study_area}_{start_date}_{end_date}\"\n",
    ")\n",
    "export_intertidal_rasters(\n",
    "    ds_aux, prefix=f\"{output_dir}/{study_area}_{start_date}_{end_date}_debug\"\n",
    ")"
   ]
  },
  {
   "cell_type": "code",
   "execution_count": null,
   "id": "4cc049a7",
   "metadata": {},
   "outputs": [],
   "source": [
    "# Export figure\n",
    "fig.savefig(f\"data/figures/{study_area}_{start_date}_{end_date}.png\")"
   ]
  },
  {
   "cell_type": "code",
   "execution_count": null,
   "id": "5a9a7fb9",
   "metadata": {},
   "outputs": [],
   "source": [
    "# Export vector files\n",
    "hightideline.to_crs(\"EPSG:4326\").to_file(\n",
    "    f\"{output_dir}/{study_area}_{start_date}_{end_date}_offset_hightide.geojson\"\n",
    ")\n",
    "lowtideline.to_crs(\"EPSG:4326\").to_file(\n",
    "    f\"{output_dir}/{study_area}_{start_date}_{end_date}_offset_lowtide.geojson\"\n",
    ")\n",
    "tidelines_gdf.to_crs(\"EPSG:4326\").to_file(\n",
    "    f\"{output_dir}/{study_area}_{start_date}_{end_date}_tidelines_highlow.geojson\"\n",
    ")"
   ]
  },
  {
   "cell_type": "markdown",
   "id": "f84ff11f",
   "metadata": {
    "tags": []
   },
   "source": [
    "### Close Dask client"
   ]
  },
  {
   "cell_type": "code",
   "execution_count": null,
   "id": "a59ba636",
   "metadata": {},
   "outputs": [],
   "source": [
    "client.close()"
   ]
  }
 ],
 "metadata": {
  "kernelspec": {
   "display_name": "Python 3 (ipykernel)",
   "language": "python",
   "name": "python3"
  },
  "language_info": {
   "codemirror_mode": {
    "name": "ipython",
    "version": 3
   },
   "file_extension": ".py",
   "mimetype": "text/x-python",
   "name": "python",
   "nbconvert_exporter": "python",
   "pygments_lexer": "ipython3",
   "version": "3.10.13"
  },
  "widgets": {
   "application/vnd.jupyter.widget-state+json": {
    "state": {
     "03d5b60bf42c4c2fb815544aa729639c": {
      "model_module": "jupyter-leaflet",
      "model_module_version": "^0.17",
      "model_name": "LeafletMapStyleModel",
      "state": {
       "_model_module_version": "^0.17"
      }
     },
     "0aeea2e8e80f4920897d1572d6953fe0": {
      "model_module": "@jupyter-widgets/controls",
      "model_module_version": "2.0.0",
      "model_name": "HTMLModel",
      "state": {
       "layout": "IPY_MODEL_32806f0c08fe4b56bce500dbe8aff338",
       "style": "IPY_MODEL_6482fbc41f5a4c6892f4c9d3ae79bad8",
       "value": "100%"
      }
     },
     "0db7337f73ba4dfd9412f62345e28db2": {
      "model_module": "@jupyter-widgets/controls",
      "model_module_version": "2.0.0",
      "model_name": "HTMLStyleModel",
      "state": {
       "description_width": "",
       "font_size": null,
       "text_color": null
      }
     },
     "194a638cb7fc4900bc834c4fa4918fbc": {
      "model_module": "@jupyter-widgets/base",
      "model_module_version": "2.0.0",
      "model_name": "LayoutModel",
      "state": {
       "height": "600px"
      }
     },
     "32806f0c08fe4b56bce500dbe8aff338": {
      "model_module": "@jupyter-widgets/base",
      "model_module_version": "2.0.0",
      "model_name": "LayoutModel",
      "state": {}
     },
     "42ed122229f84f63b656f4e04e73f3f5": {
      "model_module": "@jupyter-widgets/base",
      "model_module_version": "2.0.0",
      "model_name": "LayoutModel",
      "state": {}
     },
     "46e40b60df914b83a4d117df33c9767c": {
      "model_module": "@jupyter-widgets/controls",
      "model_module_version": "2.0.0",
      "model_name": "HBoxModel",
      "state": {
       "children": [
        "IPY_MODEL_0aeea2e8e80f4920897d1572d6953fe0",
        "IPY_MODEL_b3b408df287c438c960e947c7afbcb30",
        "IPY_MODEL_5d7f6b6715af46f387c14920b4f8c81e"
       ],
       "layout": "IPY_MODEL_42ed122229f84f63b656f4e04e73f3f5"
      }
     },
     "4a62156ea3c64cb49bba75cee7a9c232": {
      "model_module": "jupyter-leaflet",
      "model_module_version": "^0.17",
      "model_name": "LeafletMapModel",
      "state": {
       "_model_module_version": "^0.17",
       "_view_module_version": "^0.17",
       "bottom": 1120714,
       "center": [
        -12.237690326020585,
        131.89945220947268
       ],
       "controls": [
        "IPY_MODEL_e88c0cb3ef914f9da831d17769ae3b5e",
        "IPY_MODEL_8bc145c534f54717b3669e89e2ee07d6",
        "IPY_MODEL_e51df18734474dccb038515385e5ce50"
       ],
       "default_style": "IPY_MODEL_03d5b60bf42c4c2fb815544aa729639c",
       "dragging_style": "IPY_MODEL_94d50e31208b4d87a05769a1331eb004",
       "east": 131.9796180725098,
       "fullscreen": false,
       "interpolation": "bilinear",
       "layers": [
        "IPY_MODEL_a6aca1d102d04b908826070cb989f5de"
       ],
       "layout": "IPY_MODEL_194a638cb7fc4900bc834c4fa4918fbc",
       "left": 1816479,
       "modisdate": "2023-12-18",
       "north": -12.187354718559234,
       "options": [
        "bounce_at_zoom_limits",
        "box_zoom",
        "center",
        "close_popup_on_click",
        "double_click_zoom",
        "dragging",
        "fullscreen",
        "inertia",
        "inertia_deceleration",
        "inertia_max_speed",
        "interpolation",
        "keyboard",
        "keyboard_pan_offset",
        "keyboard_zoom_offset",
        "max_zoom",
        "min_zoom",
        "prefer_canvas",
        "scroll_wheel_zoom",
        "tap",
        "tap_tolerance",
        "touch_zoom",
        "world_copy_jump",
        "zoom",
        "zoom_animation_threshold",
        "zoom_delta",
        "zoom_snap"
       ],
       "prefer_canvas": false,
       "right": 1817413,
       "scroll_wheel_zoom": true,
       "south": -12.288011102430167,
       "style": "IPY_MODEL_03d5b60bf42c4c2fb815544aa729639c",
       "top": 1120114,
       "west": 131.81928634643558,
       "window_url": "https://app.sandbox.dea.ga.gov.au/user/robbi.bishoptaylor@ga.gov.au/lab/tree/Robbi/dea-intertidal/notebooks/Intertidal_workflow.ipynb",
       "zoom": 13
      }
     },
     "4da47feaad9a41f5bd787db3f4d66912": {
      "model_module": "@jupyter-widgets/base",
      "model_module_version": "2.0.0",
      "model_name": "LayoutModel",
      "state": {
       "width": "5em"
      }
     },
     "5009a9386fb649db9661242a8ec188e7": {
      "model_module": "jupyter-leaflet",
      "model_module_version": "^0.17",
      "model_name": "LeafletMapStyleModel",
      "state": {
       "_model_module_version": "^0.17"
      }
     },
     "55b2cde30e0b4ecd9a965af8b2fccd37": {
      "model_module": "@jupyter-widgets/controls",
      "model_module_version": "2.0.0",
      "model_name": "ButtonModel",
      "state": {
       "description": "done",
       "disabled": true,
       "layout": "IPY_MODEL_4da47feaad9a41f5bd787db3f4d66912",
       "style": "IPY_MODEL_9f3df1347d464d3eb23b03855ba165c4",
       "tooltip": null
      }
     },
     "561643010120426daf36f9e801f8cd13": {
      "model_module": "jupyter-leaflet",
      "model_module_version": "^0.17",
      "model_name": "LeafletWidgetControlModel",
      "state": {
       "_model_module": "jupyter-leaflet",
       "_model_module_version": "^0.17",
       "_view_count": null,
       "_view_module": "jupyter-leaflet",
       "_view_module_version": "^0.17",
       "options": [
        "position",
        "transparent_bg"
       ],
       "position": "bottomleft",
       "widget": "IPY_MODEL_df9de61193fa4f7fb98493e8f4b8e632"
      }
     },
     "5d7f6b6715af46f387c14920b4f8c81e": {
      "model_module": "@jupyter-widgets/controls",
      "model_module_version": "2.0.0",
      "model_name": "HTMLModel",
      "state": {
       "layout": "IPY_MODEL_84a9a805d56b4ad583e434c4727cbed3",
       "style": "IPY_MODEL_0db7337f73ba4dfd9412f62345e28db2",
       "value": " 105/105 [01:07&lt;00:00,  1.59it/s]"
      }
     },
     "640ebd66a41244638c66d580474a8ed5": {
      "model_module": "@jupyter-widgets/base",
      "model_module_version": "2.0.0",
      "model_name": "LayoutModel",
      "state": {}
     },
     "6482fbc41f5a4c6892f4c9d3ae79bad8": {
      "model_module": "@jupyter-widgets/controls",
      "model_module_version": "2.0.0",
      "model_name": "HTMLStyleModel",
      "state": {
       "description_width": "",
       "font_size": null,
       "text_color": null
      }
     },
     "84a9a805d56b4ad583e434c4727cbed3": {
      "model_module": "@jupyter-widgets/base",
      "model_module_version": "2.0.0",
      "model_name": "LayoutModel",
      "state": {}
     },
     "8bc145c534f54717b3669e89e2ee07d6": {
      "model_module": "jupyter-leaflet",
      "model_module_version": "^0.17",
      "model_name": "LeafletAttributionControlModel",
      "state": {
       "_model_module_version": "^0.17",
       "_view_module_version": "^0.17",
       "options": [
        "position",
        "prefix"
       ],
       "position": "bottomright",
       "prefix": "ipyleaflet"
      }
     },
     "92264ddb67e8460cb2c9b51da4a6f4cc": {
      "model_module": "@jupyter-widgets/controls",
      "model_module_version": "2.0.0",
      "model_name": "HTMLStyleModel",
      "state": {
       "description_width": "",
       "font_size": null,
       "text_color": null
      }
     },
     "92c99a402b9743c7841eec7977f4f836": {
      "model_module": "@jupyter-widgets/controls",
      "model_module_version": "2.0.0",
      "model_name": "HTMLStyleModel",
      "state": {
       "description_width": "",
       "font_size": null,
       "text_color": null
      }
     },
     "94d50e31208b4d87a05769a1331eb004": {
      "model_module": "jupyter-leaflet",
      "model_module_version": "^0.17",
      "model_name": "LeafletMapStyleModel",
      "state": {
       "_model_module_version": "^0.17",
       "cursor": "move"
      }
     },
     "9622a05e15d842a687ee6dfae4f688e2": {
      "model_module": "@jupyter-widgets/base",
      "model_module_version": "2.0.0",
      "model_name": "LayoutModel",
      "state": {}
     },
     "97de4fb5cc594afd848369e7f7a2bf03": {
      "model_module": "@jupyter-widgets/base",
      "model_module_version": "2.0.0",
      "model_name": "LayoutModel",
      "state": {
       "flex": "1 0 20em",
       "height": "3em",
       "width": "20em"
      }
     },
     "9a6247708e4f402ba5f3424127837935": {
      "model_module": "@jupyter-widgets/controls",
      "model_module_version": "2.0.0",
      "model_name": "HTMLStyleModel",
      "state": {
       "description_width": "",
       "font_size": null,
       "text_color": null
      }
     },
     "9f27df65b6194ea0ab0aef93f8bbf92d": {
      "model_module": "@jupyter-widgets/controls",
      "model_module_version": "2.0.0",
      "model_name": "HTMLModel",
      "state": {
       "layout": "IPY_MODEL_b74f6d86e37e4698831334bbfe3c115a",
       "style": "IPY_MODEL_92264ddb67e8460cb2c9b51da4a6f4cc",
       "value": "100%"
      }
     },
     "9f3df1347d464d3eb23b03855ba165c4": {
      "model_module": "@jupyter-widgets/controls",
      "model_module_version": "2.0.0",
      "model_name": "ButtonStyleModel",
      "state": {
       "button_color": "green",
       "font_family": null,
       "font_size": null,
       "font_style": null,
       "font_variant": null,
       "font_weight": null,
       "text_color": null,
       "text_decoration": null
      }
     },
     "a6aca1d102d04b908826070cb989f5de": {
      "model_module": "jupyter-leaflet",
      "model_module_version": "^0.17",
      "model_name": "LeafletTileLayerModel",
      "state": {
       "_model_module_version": "^0.17",
       "_view_module_version": "^0.17",
       "attribution": "Tiles &copy; Esri &mdash; Source: Esri, i-cubed, USDA, USGS, AEX, GeoEye, Getmapping, Aerogrid, IGN, IGP, UPR-EGP, and the GIS User Community",
       "min_zoom": 1,
       "name": "Esri.WorldImagery",
       "options": [
        "attribution",
        "bounds",
        "detect_retina",
        "max_native_zoom",
        "max_zoom",
        "min_native_zoom",
        "min_zoom",
        "no_wrap",
        "tile_size",
        "tms",
        "zoom_offset"
       ],
       "url": "https://server.arcgisonline.com/ArcGIS/rest/services/World_Imagery/MapServer/tile/{z}/{y}/{x}"
      }
     },
     "a787396b07104db4bb3fdf83f3f08525": {
      "model_module": "@jupyter-widgets/controls",
      "model_module_version": "2.0.0",
      "model_name": "HTMLModel",
      "state": {
       "layout": "IPY_MODEL_9622a05e15d842a687ee6dfae4f688e2",
       "style": "IPY_MODEL_92c99a402b9743c7841eec7977f4f836",
       "value": " 105/105 [01:06&lt;00:00,  1.63it/s]"
      }
     },
     "b0e9cd37ded245528a6a7e4c35182f54": {
      "model_module": "@jupyter-widgets/base",
      "model_module_version": "2.0.0",
      "model_name": "LayoutModel",
      "state": {}
     },
     "b3b408df287c438c960e947c7afbcb30": {
      "model_module": "@jupyter-widgets/controls",
      "model_module_version": "2.0.0",
      "model_name": "FloatProgressModel",
      "state": {
       "bar_style": "success",
       "layout": "IPY_MODEL_b0e9cd37ded245528a6a7e4c35182f54",
       "max": 105,
       "style": "IPY_MODEL_b95e1359207e4145b40d9c78f3490d88",
       "value": 105
      }
     },
     "b74f6d86e37e4698831334bbfe3c115a": {
      "model_module": "@jupyter-widgets/base",
      "model_module_version": "2.0.0",
      "model_name": "LayoutModel",
      "state": {}
     },
     "b95e1359207e4145b40d9c78f3490d88": {
      "model_module": "@jupyter-widgets/controls",
      "model_module_version": "2.0.0",
      "model_name": "ProgressStyleModel",
      "state": {
       "description_width": ""
      }
     },
     "bcc695c9648d4e67b6be84278bb926fd": {
      "model_module": "@jupyter-widgets/base",
      "model_module_version": "2.0.0",
      "model_name": "LayoutModel",
      "state": {}
     },
     "c8cfe569fc9e4005b662cb5909b03e86": {
      "model_module": "@jupyter-widgets/controls",
      "model_module_version": "2.0.0",
      "model_name": "HBoxModel",
      "state": {
       "children": [
        "IPY_MODEL_9f27df65b6194ea0ab0aef93f8bbf92d",
        "IPY_MODEL_cd7d6643364e4094940617b8aff47fec",
        "IPY_MODEL_a787396b07104db4bb3fdf83f3f08525"
       ],
       "layout": "IPY_MODEL_bcc695c9648d4e67b6be84278bb926fd"
      }
     },
     "cd7d6643364e4094940617b8aff47fec": {
      "model_module": "@jupyter-widgets/controls",
      "model_module_version": "2.0.0",
      "model_name": "FloatProgressModel",
      "state": {
       "bar_style": "success",
       "layout": "IPY_MODEL_640ebd66a41244638c66d580474a8ed5",
       "max": 105,
       "style": "IPY_MODEL_e61096128e4941f4b54b8af67de6e58b",
       "value": 105
      }
     },
     "df9de61193fa4f7fb98493e8f4b8e632": {
      "model_module": "@jupyter-widgets/controls",
      "model_module_version": "2.0.0",
      "model_name": "HTMLModel",
      "state": {
       "layout": "IPY_MODEL_97de4fb5cc594afd848369e7f7a2bf03",
       "style": "IPY_MODEL_9a6247708e4f402ba5f3424127837935",
       "value": "<pre style=\"color:grey\">lat: [-12.2880, -12.1874]\nlon: [131.8193, 131.9796]</pre>"
      }
     },
     "e51df18734474dccb038515385e5ce50": {
      "model_module": "jupyter-leaflet",
      "model_module_version": "^0.17",
      "model_name": "LeafletFullScreenControlModel",
      "state": {
       "_model_module_version": "^0.17",
       "_view_module_version": "^0.17",
       "options": [
        "position"
       ]
      }
     },
     "e61096128e4941f4b54b8af67de6e58b": {
      "model_module": "@jupyter-widgets/controls",
      "model_module_version": "2.0.0",
      "model_name": "ProgressStyleModel",
      "state": {
       "description_width": ""
      }
     },
     "e88c0cb3ef914f9da831d17769ae3b5e": {
      "model_module": "jupyter-leaflet",
      "model_module_version": "^0.17",
      "model_name": "LeafletZoomControlModel",
      "state": {
       "_model_module_version": "^0.17",
       "_view_module_version": "^0.17",
       "options": [
        "position",
        "zoom_in_text",
        "zoom_in_title",
        "zoom_out_text",
        "zoom_out_title"
       ]
      }
     },
     "ee96666037194c7ba0d3740aabf732f2": {
      "model_module": "jupyter-leaflet",
      "model_module_version": "^0.17",
      "model_name": "LeafletWidgetControlModel",
      "state": {
       "_model_module": "jupyter-leaflet",
       "_model_module_version": "^0.17",
       "_view_count": null,
       "_view_module": "jupyter-leaflet",
       "_view_module_version": "^0.17",
       "options": [
        "position",
        "transparent_bg"
       ],
       "position": "topright",
       "widget": "IPY_MODEL_55b2cde30e0b4ecd9a965af8b2fccd37"
      }
     },
     "f9565ede40a844f09e4d4a9291cb1683": {
      "model_module": "jupyter-leaflet",
      "model_module_version": "^0.17",
      "model_name": "LeafletDrawControlModel",
      "state": {
       "_model_module_version": "^0.17",
       "_view_module_version": "^0.17",
       "data": [
        {
         "geometry": {
          "coordinates": [
           [
            [
             131.854305,
             -12.232322
            ],
            [
             131.854305,
             -12.194908
            ],
            [
             131.90237,
             -12.194908
            ],
            [
             131.90237,
             -12.232322
            ],
            [
             131.854305,
             -12.232322
            ]
           ]
          ],
          "type": "Polygon"
         },
         "properties": {
          "style": {
           "attribution": null,
           "bubblingMouseEvents": true,
           "clickable": true,
           "color": "#000000",
           "dashArray": null,
           "dashOffset": null,
           "fill": true,
           "fillColor": "#fca45d",
           "fillOpacity": 0.1,
           "fillRule": "evenodd",
           "interactive": true,
           "lineCap": "round",
           "lineJoin": "round",
           "noClip": false,
           "opacity": 0.5,
           "pane": "overlayPane",
           "smoothFactor": 1,
           "stroke": true,
           "weight": 4
          }
         },
         "type": "Feature"
        },
        {
         "geometry": {
          "coordinates": [
           [
            [
             131.853962,
             -12.233161
            ],
            [
             131.853962,
             -12.194405
            ],
            [
             131.90546,
             -12.194405
            ],
            [
             131.90546,
             -12.233161
            ],
            [
             131.853962,
             -12.233161
            ]
           ]
          ],
          "type": "Polygon"
         },
         "properties": {
          "style": {
           "clickable": true,
           "color": "#000000",
           "fill": true,
           "fillColor": "#fca45d",
           "fillOpacity": 0.1,
           "opacity": 0.5,
           "stroke": true,
           "weight": 4
          }
         },
         "type": "Feature"
        }
       ],
       "options": [
        "position"
       ],
       "polygon": {
        "shapeOptions": {
         "clickable": true,
         "color": "#000000",
         "editing": {
          "color": "#000000",
          "fillColor": "#fca45d",
          "fillOpacity": 0.1
         },
         "fill": true,
         "fillColor": "#fca45d",
         "fillOpacity": 0.1,
         "opacity": 0.5,
         "original": {
          "color": "#000000",
          "fillColor": "#fca45d",
          "fillOpacity": 0.1
         },
         "stroke": true,
         "weight": 4
        }
       },
       "polyline": {},
       "rectangle": {
        "metric": [
         "km",
         "m"
        ],
        "shapeOptions": {
         "clickable": true,
         "color": "#000000",
         "fill": true,
         "fillColor": "#fca45d",
         "fillOpacity": 0.1,
         "opacity": 0.5,
         "stroke": true,
         "weight": 4
        }
       }
      }
     }
    },
    "version_major": 2,
    "version_minor": 0
   }
  }
 },
 "nbformat": 4,
 "nbformat_minor": 5
}

{
 "cells": [
  {
   "cell_type": "markdown",
   "id": "df65f404",
   "metadata": {
    "tags": []
   },
   "source": [
    "# Digital Earth Australia Intertidal workflow\n",
    "\n",
    "## Getting started\n",
    "Set working directory to top level of repo to ensure links work correctly:"
   ]
  },
  {
   "cell_type": "code",
   "execution_count": 1,
   "id": "d95e9a14",
   "metadata": {},
   "outputs": [
    {
     "name": "stdout",
     "output_type": "stream",
     "text": [
      "/home/jovyan/dea_intertidal/dea-intertidal\n"
     ]
    }
   ],
   "source": [
    "cd /home/jovyan/dea_intertidal/dea-intertidal/"
   ]
  },
  {
   "cell_type": "markdown",
   "id": "b682a067",
   "metadata": {},
   "source": [
    "Install additional packages directly from the requirements file"
   ]
  },
  {
   "cell_type": "code",
   "execution_count": 2,
   "id": "fa23cc2a",
   "metadata": {},
   "outputs": [],
   "source": [
    "# pip install -r requirements.in --quiet"
   ]
  },
  {
   "cell_type": "markdown",
   "id": "68d0da9e",
   "metadata": {},
   "source": [
    "### Load packages"
   ]
  },
  {
   "cell_type": "code",
   "execution_count": 3,
   "id": "d2f5c597",
   "metadata": {},
   "outputs": [],
   "source": [
    "%load_ext autoreload\n",
    "%autoreload 2\n",
    "\n",
    "import pandas as pd\n",
    "import numpy as np\n",
    "import matplotlib.pyplot as plt\n",
    "from datacube.utils.geometry import Geometry\n",
    "\n",
    "from intertidal.utils import (\n",
    "    load_config,\n",
    "    round_date_strings,\n",
    "    export_intertidal_rasters,\n",
    "    intertidal_hillshade,\n",
    ")\n",
    "from intertidal.elevation import elevation\n",
    "from intertidal.extents import extents\n",
    "from intertidal.exposure import exposure\n",
    "from intertidal.tidal_bias_offset import bias_offset\n",
    "from intertidal.tidelines import tidal_offset_tidelines"
   ]
  },
  {
   "cell_type": "markdown",
   "id": "5513b36a",
   "metadata": {
    "tags": []
   },
   "source": [
    "## Setup\n"
   ]
  },
  {
   "cell_type": "markdown",
   "id": "36863091",
   "metadata": {
    "tags": []
   },
   "source": [
    "### Set analysis parameters"
   ]
  },
  {
   "cell_type": "code",
   "execution_count": 4,
   "id": "9360ab6f",
   "metadata": {
    "tags": []
   },
   "outputs": [],
   "source": [
    "# Set study area and config\n",
    "study_area = \"Lake Tyers Vic\"\n",
    "# config_path = \"configs/dea_intertidal_config_development.yaml\"\n",
    "# study_area = '1215'\n",
    "config_path='configs/dea_intertidal_config.yaml'\n",
    "\n",
    "# Intertidal Elevation variables\n",
    "start_date = \"2018\"  # Start date for analysis\n",
    "end_date = \"2020\"  # End date for analysis\n",
    "resolution = 10  # Spatial resolution used for output files\n",
    "crs = \"EPSG:3577\"  # Coordinate Reference System (CRS) to use for output files\n",
    "ndwi_thresh = 0.1  # Threshold used to identify dry/wet transition when calculating elevation\n",
    "include_s2 = True  # Include Sentinel-2 data in the analysis?\n",
    "include_ls = True  # Include Landsat data in the analysis?\n",
    "filter_gqa = False  # Filter to remove poorly georeferenced scenes?\n",
    "\n",
    "# Exposure variables\n",
    "modelled_freq = \"3h\"  # Frequency to run tidal model e.g '30min' or '1h'\n",
    "\n",
    "# Generate range of times covering entire period of satellite record for exposure and bias/offset calculation\n",
    "all_timerange = pd.date_range(\n",
    "    start=round_date_strings(start_date, round_type=\"start\"),\n",
    "    end=round_date_strings(end_date, round_type=\"end\"),\n",
    "    freq=modelled_freq,\n",
    ")"
   ]
  },
  {
   "cell_type": "markdown",
   "id": "fdb7275c",
   "metadata": {},
   "source": [
    "#### *Optional: override study area selection using interactive map*\n",
    "> *Guide: for 10m2 pixels, analysis area of 90km2 takes ~XXXX mins to run full workflow on 16XL sandbox instance*"
   ]
  },
  {
   "cell_type": "code",
   "execution_count": 8,
   "id": "337adf89",
   "metadata": {},
   "outputs": [
    {
     "data": {
      "application/vnd.jupyter.widget-view+json": {
       "model_id": "50ab3d28300e4658b7ee50ea29e02d16",
       "version_major": 2,
       "version_minor": 0
      },
      "text/plain": [
       "Map(center=[-26, 135], controls=(ZoomControl(options=['position', 'zoom_in_text', 'zoom_in_title', 'zoom_out_t…"
      ]
     },
     "metadata": {},
     "output_type": "display_data"
    }
   ],
   "source": [
    "from odc.ui import select_on_a_map\n",
    "from ipyleaflet import basemaps, basemap_to_tiles\n",
    "\n",
    "# Plot interactive map to select area\n",
    "basemap = basemap_to_tiles(basemaps.Esri.WorldImagery)\n",
    "geom = select_on_a_map(height='600px',\n",
    "                       layers=(basemap,),\n",
    "                       center=(-26, 135),\n",
    "                       zoom=4)\n",
    "study_area = geom"
   ]
  },
  {
   "cell_type": "markdown",
   "id": "cabe30ec",
   "metadata": {},
   "source": [
    "## Intertidal workflow\n",
    "\n",
    "### Intertidal elevation"
   ]
  },
  {
   "cell_type": "code",
   "execution_count": 9,
   "id": "221ed3ca",
   "metadata": {},
   "outputs": [
    {
     "data": {
      "text/html": [
       "<div>\n",
       "    <div style=\"width: 24px; height: 24px; background-color: #e1e1e1; border: 3px solid #9D9D9D; border-radius: 5px; position: absolute;\"> </div>\n",
       "    <div style=\"margin-left: 48px;\">\n",
       "        <h3 style=\"margin-bottom: 0px;\">Client</h3>\n",
       "        <p style=\"color: #9D9D9D; margin-bottom: 0px;\">Client-e4da6ae4-ed38-11ed-80f8-d65dcaf987b9</p>\n",
       "        <table style=\"width: 100%; text-align: left;\">\n",
       "\n",
       "        <tr>\n",
       "        \n",
       "            <td style=\"text-align: left;\"><strong>Connection method:</strong> Cluster object</td>\n",
       "            <td style=\"text-align: left;\"><strong>Cluster type:</strong> distributed.LocalCluster</td>\n",
       "        \n",
       "        </tr>\n",
       "\n",
       "        \n",
       "            <tr>\n",
       "                <td style=\"text-align: left;\">\n",
       "                    <strong>Dashboard: </strong> <a href=\"/user/claire.phillips@ga.gov.au/proxy/8787/status\" target=\"_blank\">/user/claire.phillips@ga.gov.au/proxy/8787/status</a>\n",
       "                </td>\n",
       "                <td style=\"text-align: left;\"></td>\n",
       "            </tr>\n",
       "        \n",
       "\n",
       "        </table>\n",
       "\n",
       "        \n",
       "            <button style=\"margin-bottom: 12px;\" data-commandlinker-command=\"dask:populate-and-launch-layout\" data-commandlinker-args='{\"url\": \"/user/claire.phillips@ga.gov.au/proxy/8787/status\" }'>\n",
       "                Launch dashboard in JupyterLab\n",
       "            </button>\n",
       "        \n",
       "\n",
       "        \n",
       "            <details>\n",
       "            <summary style=\"margin-bottom: 20px;\"><h3 style=\"display: inline;\">Cluster Info</h3></summary>\n",
       "            <div class=\"jp-RenderedHTMLCommon jp-RenderedHTML jp-mod-trusted jp-OutputArea-output\">\n",
       "    <div style=\"width: 24px; height: 24px; background-color: #e1e1e1; border: 3px solid #9D9D9D; border-radius: 5px; position: absolute;\">\n",
       "    </div>\n",
       "    <div style=\"margin-left: 48px;\">\n",
       "        <h3 style=\"margin-bottom: 0px; margin-top: 0px;\">LocalCluster</h3>\n",
       "        <p style=\"color: #9D9D9D; margin-bottom: 0px;\">8239bc2e</p>\n",
       "        <table style=\"width: 100%; text-align: left;\">\n",
       "            <tr>\n",
       "                <td style=\"text-align: left;\">\n",
       "                    <strong>Dashboard:</strong> <a href=\"/user/claire.phillips@ga.gov.au/proxy/8787/status\" target=\"_blank\">/user/claire.phillips@ga.gov.au/proxy/8787/status</a>\n",
       "                </td>\n",
       "                <td style=\"text-align: left;\">\n",
       "                    <strong>Workers:</strong> 1\n",
       "                </td>\n",
       "            </tr>\n",
       "            <tr>\n",
       "                <td style=\"text-align: left;\">\n",
       "                    <strong>Total threads:</strong> 62\n",
       "                </td>\n",
       "                <td style=\"text-align: left;\">\n",
       "                    <strong>Total memory:</strong> 477.21 GiB\n",
       "                </td>\n",
       "            </tr>\n",
       "            \n",
       "            <tr>\n",
       "    <td style=\"text-align: left;\"><strong>Status:</strong> running</td>\n",
       "    <td style=\"text-align: left;\"><strong>Using processes:</strong> True</td>\n",
       "</tr>\n",
       "\n",
       "            \n",
       "        </table>\n",
       "\n",
       "        <details>\n",
       "            <summary style=\"margin-bottom: 20px;\">\n",
       "                <h3 style=\"display: inline;\">Scheduler Info</h3>\n",
       "            </summary>\n",
       "\n",
       "            <div style=\"\">\n",
       "    <div>\n",
       "        <div style=\"width: 24px; height: 24px; background-color: #FFF7E5; border: 3px solid #FF6132; border-radius: 5px; position: absolute;\"> </div>\n",
       "        <div style=\"margin-left: 48px;\">\n",
       "            <h3 style=\"margin-bottom: 0px;\">Scheduler</h3>\n",
       "            <p style=\"color: #9D9D9D; margin-bottom: 0px;\">Scheduler-86223979-d489-49cf-b273-0b8aa7f5ebd7</p>\n",
       "            <table style=\"width: 100%; text-align: left;\">\n",
       "                <tr>\n",
       "                    <td style=\"text-align: left;\">\n",
       "                        <strong>Comm:</strong> tcp://127.0.0.1:40015\n",
       "                    </td>\n",
       "                    <td style=\"text-align: left;\">\n",
       "                        <strong>Workers:</strong> 1\n",
       "                    </td>\n",
       "                </tr>\n",
       "                <tr>\n",
       "                    <td style=\"text-align: left;\">\n",
       "                        <strong>Dashboard:</strong> <a href=\"/user/claire.phillips@ga.gov.au/proxy/8787/status\" target=\"_blank\">/user/claire.phillips@ga.gov.au/proxy/8787/status</a>\n",
       "                    </td>\n",
       "                    <td style=\"text-align: left;\">\n",
       "                        <strong>Total threads:</strong> 62\n",
       "                    </td>\n",
       "                </tr>\n",
       "                <tr>\n",
       "                    <td style=\"text-align: left;\">\n",
       "                        <strong>Started:</strong> Just now\n",
       "                    </td>\n",
       "                    <td style=\"text-align: left;\">\n",
       "                        <strong>Total memory:</strong> 477.21 GiB\n",
       "                    </td>\n",
       "                </tr>\n",
       "            </table>\n",
       "        </div>\n",
       "    </div>\n",
       "\n",
       "    <details style=\"margin-left: 48px;\">\n",
       "        <summary style=\"margin-bottom: 20px;\">\n",
       "            <h3 style=\"display: inline;\">Workers</h3>\n",
       "        </summary>\n",
       "\n",
       "        \n",
       "        <div style=\"margin-bottom: 20px;\">\n",
       "            <div style=\"width: 24px; height: 24px; background-color: #DBF5FF; border: 3px solid #4CC9FF; border-radius: 5px; position: absolute;\"> </div>\n",
       "            <div style=\"margin-left: 48px;\">\n",
       "            <details>\n",
       "                <summary>\n",
       "                    <h4 style=\"margin-bottom: 0px; display: inline;\">Worker: 0</h4>\n",
       "                </summary>\n",
       "                <table style=\"width: 100%; text-align: left;\">\n",
       "                    <tr>\n",
       "                        <td style=\"text-align: left;\">\n",
       "                            <strong>Comm: </strong> tcp://127.0.0.1:42751\n",
       "                        </td>\n",
       "                        <td style=\"text-align: left;\">\n",
       "                            <strong>Total threads: </strong> 62\n",
       "                        </td>\n",
       "                    </tr>\n",
       "                    <tr>\n",
       "                        <td style=\"text-align: left;\">\n",
       "                            <strong>Dashboard: </strong> <a href=\"/user/claire.phillips@ga.gov.au/proxy/45039/status\" target=\"_blank\">/user/claire.phillips@ga.gov.au/proxy/45039/status</a>\n",
       "                        </td>\n",
       "                        <td style=\"text-align: left;\">\n",
       "                            <strong>Memory: </strong> 477.21 GiB\n",
       "                        </td>\n",
       "                    </tr>\n",
       "                    <tr>\n",
       "                        <td style=\"text-align: left;\">\n",
       "                            <strong>Nanny: </strong> tcp://127.0.0.1:37781\n",
       "                        </td>\n",
       "                        <td style=\"text-align: left;\"></td>\n",
       "                    </tr>\n",
       "                    <tr>\n",
       "                        <td colspan=\"2\" style=\"text-align: left;\">\n",
       "                            <strong>Local directory: </strong> /tmp/dask-worker-space/worker-9mxbujmn\n",
       "                        </td>\n",
       "                    </tr>\n",
       "\n",
       "                    \n",
       "\n",
       "                    \n",
       "\n",
       "                </table>\n",
       "            </details>\n",
       "            </div>\n",
       "        </div>\n",
       "        \n",
       "\n",
       "    </details>\n",
       "</div>\n",
       "\n",
       "        </details>\n",
       "    </div>\n",
       "</div>\n",
       "            </details>\n",
       "        \n",
       "\n",
       "    </div>\n",
       "</div>"
      ],
      "text/plain": [
       "<Client: 'tcp://127.0.0.1:40015' processes=1 threads=62, memory=477.21 GiB>"
      ]
     },
     "metadata": {},
     "output_type": "display_data"
    },
    {
     "name": "stderr",
     "output_type": "stream",
     "text": [
      "2023-05-08 00:40:14 INFO Study area testing: Loaded custom study area\n",
      "2023-05-08 00:40:14 INFO Study area testing: Loading satellite data\n",
      "/env/lib/python3.8/site-packages/rasterio/warp.py:344: NotGeoreferencedWarning: Dataset has no geotransform, gcps, or rpcs. The identity matrix will be returned.\n",
      "  _reproject(\n",
      "/env/lib/python3.8/site-packages/rasterio/warp.py:344: NotGeoreferencedWarning: Dataset has no geotransform, gcps, or rpcs. The identity matrix will be returned.\n",
      "  _reproject(\n",
      "2023-05-08 00:41:46 INFO Study area testing: Modelling tide heights for each pixel\n"
     ]
    },
    {
     "name": "stdout",
     "output_type": "stream",
     "text": [
      "Creating reduced resolution tide modelling array\n",
      "Modelling tides using FES2014 tide model\n",
      "Reprojecting tides into original array\n"
     ]
    },
    {
     "name": "stderr",
     "output_type": "stream",
     "text": [
      "100%|██████████| 417/417 [00:01<00:00, 392.40it/s]\n",
      "2023-05-08 00:41:58 INFO Study area testing: Masking nodata and adding tide heights to satellite data array\n",
      "2023-05-08 00:41:58 INFO Study area testing: Flattening satellite data array and filtering to tide influenced pixels\n",
      "2023-05-08 00:42:03 INFO Study area testing: Running per-pixel rolling median\n"
     ]
    },
    {
     "name": "stdout",
     "output_type": "stream",
     "text": [
      "Reducing analysed pixels from 299624 to 1591 (0.53%)\n"
     ]
    },
    {
     "name": "stderr",
     "output_type": "stream",
     "text": [
      "100%|██████████| 114/114 [00:01<00:00, 98.77it/s] \n",
      "2023-05-08 00:42:05 INFO Study area testing: Modelling intertidal elevation and confidence\n",
      "2023-05-08 00:42:05 INFO Study area testing: Successfully completed intertidal elevation modelling\n"
     ]
    },
    {
     "name": "stdout",
     "output_type": "stream",
     "text": [
      "Processing elevation_low\n",
      "Processing elevation\n",
      "Processing elevation_high\n"
     ]
    }
   ],
   "source": [
    "# Model elevation for each pixel\n",
    "ds, freq, corr, tide_m = elevation(\n",
    "    study_area=study_area,\n",
    "    start_date=start_date,\n",
    "    end_date=end_date,\n",
    "    config_path=config_path,\n",
    ")"
   ]
  },
  {
   "cell_type": "markdown",
   "id": "c60555d7",
   "metadata": {},
   "source": [
    "### Intertidal extents\n",
    "\n",
    "#### Always/sometimes/never wet\n",
    "\n",
    "Values of 0 represent always wet, 1 is the extent of the DEA intertidal product suite and 2 represents never wet"
   ]
  },
  {
   "cell_type": "code",
   "execution_count": null,
   "id": "ebf88f74",
   "metadata": {},
   "outputs": [],
   "source": [
    "ds['extents'], wet_ext = extents(ds.elevation, freq, corr)"
   ]
  },
  {
   "cell_type": "markdown",
   "id": "4189afe6",
   "metadata": {
    "tags": []
   },
   "source": [
    "### Intertidal exposure\n",
    "Calculate exposure using the script function"
   ]
  },
  {
   "cell_type": "code",
   "execution_count": null,
   "id": "ad48f713",
   "metadata": {},
   "outputs": [],
   "source": [
    "ds['exposure'], tide_cq = exposure(ds.elevation, all_timerange)"
   ]
  },
  {
   "cell_type": "markdown",
   "id": "6910c36c",
   "metadata": {},
   "source": [
    "### Spread and offset\n",
    "Calculate the spread and high/low tide biases of input observed images as a percentage of the modelled tide heights"
   ]
  },
  {
   "cell_type": "code",
   "execution_count": null,
   "id": "151af67a",
   "metadata": {},
   "outputs": [],
   "source": [
    "(ds['lat'], \n",
    " ds['hat'], \n",
    " ds['lot'], \n",
    " ds['hot'], \n",
    " ds['spread'], \n",
    " ds['offset_lowtide'],\n",
    " ds['offset_hightide']) = bias_offset(tide_m=tide_m,\n",
    "                                      tide_cq=tide_cq,\n",
    "                                      extents=ds.extents,\n",
    "                                      lot_hot=True,\n",
    "                                      lat_hat=True)"
   ]
  },
  {
   "cell_type": "markdown",
   "id": "1cdd5f91",
   "metadata": {},
   "source": [
    "### Tideline confidence"
   ]
  },
  {
   "cell_type": "code",
   "execution_count": null,
   "id": "9dbf65c2",
   "metadata": {},
   "outputs": [],
   "source": [
    "(hightideline, \n",
    " lowtideline, \n",
    " tidelines_gdf) = tidal_offset_tidelines(extents=ds.extents,\n",
    "                                         offset_hightide=ds.offset_hightide,\n",
    "                                         offset_lowtide=ds.offset_lowtide,\n",
    "                                         distance=250)"
   ]
  },
  {
   "cell_type": "markdown",
   "id": "c637769a",
   "metadata": {},
   "source": [
    "## Plot all layers"
   ]
  },
  {
   "cell_type": "code",
   "execution_count": null,
   "id": "875e9378",
   "metadata": {},
   "outputs": [],
   "source": [
    "# Inspect contents of ds before plotting\n",
    "ds"
   ]
  },
  {
   "cell_type": "code",
   "execution_count": null,
   "id": "b15c8e3d",
   "metadata": {},
   "outputs": [],
   "source": [
    "# Set up figure\n",
    "fig = plt.figure(figsize=(10, 25))\n",
    "ax1 = fig.add_subplot(6, 2, 1)\n",
    "ax2 = fig.add_subplot(6, 2, 2)\n",
    "ax3 = fig.add_subplot(6, 2, 3)\n",
    "ax4 = fig.add_subplot(6, 2, 4)\n",
    "ax5 = fig.add_subplot(6, 2, 5)\n",
    "ax6 = fig.add_subplot(6, 2, 6)\n",
    "ax7 = fig.add_subplot(6, 2, 7)\n",
    "ax8 = fig.add_subplot(6, 2, 8)\n",
    "ax9 = fig.add_subplot(6, 2, 9)\n",
    "ax10 = fig.add_subplot(6, 2, 10)\n",
    "ax11 = fig.add_subplot(6, 2, 11)\n",
    "ax12 = fig.add_subplot(6, 2, 12)\n",
    "\n",
    "# Plot Elevation with hillshade\n",
    "ds[\"elevation\"].plot.imshow(ax=ax1, cmap=\"viridis\", interpolation=\"bilinear\")\n",
    "intertidal_hillshade(ds[\"elevation\"], ds[\"extents\"], vert_exag=300).plot.imshow(\n",
    "    ax=ax1, interpolation=\"bilinear\"\n",
    ")\n",
    "ax1.set_title(\"Elevation (metres AMSL)\")\n",
    "\n",
    "# Plot Exposure\n",
    "ds[\"exposure\"].where(ds[\"exposure\"] > 0).plot.imshow(\n",
    "    ax=ax2, cmap=\"RdYlGn\", levels=np.arange(0, 100, 1)\n",
    ")\n",
    "ax2.set_title(\"Exposure-% of time\")\n",
    "\n",
    "# Plot the always/sometimes/never wet extents\n",
    "ds[\"extents\"].astype(np.int16).plot.imshow(ax=ax3)\n",
    "ax3.set_title(\"Wet, Dry and Intertidal extent\")\n",
    "\n",
    "# Plot the observation spread\n",
    "ds[\"spread\"].where((ds[\"extents\"] != 2) & (ds[\"spread\"] > 0)).plot.imshow(\n",
    "    ax=ax4, vmin=0, vmax=100, cmap=\"magma\", cbar_kwargs={\"label\": \"% spread\"}\n",
    ")\n",
    "ax4.set_title(\"Observation Spread\")\n",
    "\n",
    "# Plot the high-tide offset\n",
    "ds[\"offset_hightide\"].where((ds[\"extents\"] != 2) & (ds[\"spread\"] > 0)).plot.imshow(\n",
    "    ax=ax5, vmin=0, vmax=40, cmap=\"magma\", cbar_kwargs={\"label\": \"% high tide offset\"}\n",
    ")\n",
    "ax5.set_title(\"High-tide offset\")\n",
    "\n",
    "# Plot the low-tide offset\n",
    "ds[\"offset_lowtide\"].where((ds[\"extents\"] != 2) & (ds[\"spread\"] > 0)).plot.imshow(\n",
    "    ax=ax6, vmin=0, vmax=40, cmap=\"magma\", cbar_kwargs={\"label\": \"% low tide offset\"}\n",
    ")\n",
    "ax6.set_title(\"Low-tide offset\")\n",
    "\n",
    "# Plot the LAT\n",
    "ds[\"lat\"].where(ds[\"extents\"] != 2).plot.imshow(\n",
    "    ax=ax7, vmin=ds[\"lat\"].min(), vmax=ds[\"hat\"].max()\n",
    ")\n",
    "ax7.set_title(\"Lowest Astronomical Tide\")\n",
    "\n",
    "# Plot the LOT\n",
    "ds[\"lot\"].where(ds[\"extents\"] != 2).plot.imshow(\n",
    "    ax=ax8, vmin=ds[\"lat\"].min(), vmax=ds[\"hat\"].max()\n",
    ")\n",
    "ax8.set_title(\"Lowest Observed Tide\")\n",
    "\n",
    "# Plot the HAT\n",
    "ds[\"hat\"].where(ds[\"extents\"] != 2).plot.imshow(\n",
    "    ax=ax9, vmin=ds[\"lat\"].min(), vmax=ds[\"hat\"].max()\n",
    ")\n",
    "ax9.set_title(\"Highest Astronomical Tide\")\n",
    "\n",
    "# Plot the HOT\n",
    "ds[\"hot\"].where(ds[\"extents\"] != 2).plot.imshow(\n",
    "    ax=ax10, vmin=ds[\"lat\"].min(), vmax=ds[\"hat\"].max()\n",
    ")\n",
    "ax10.set_title(\"Highest Observed Tide\")\n",
    "\n",
    "# Plot the high and low tidelines with respective offset\n",
    "ax11.set_title(\"Lowtide line and lowtide offset\")\n",
    "lowtideline.plot(\n",
    "    column=\"offset_lowtide\",\n",
    "    legend=True,\n",
    "    vmin=0,\n",
    "    vmax=40,\n",
    "    cmap=\"magma\",\n",
    "    ax=ax11,\n",
    "    zorder=2,\n",
    ")\n",
    "tidelines_gdf.loc[[0], \"geometry\"].plot(ax=ax11, zorder=1)\n",
    "ax11.set_xlim(left=ds.elevation.x.min(), right=ds.elevation.x.max())\n",
    "ax11.set_ylim(bottom=ds.elevation.y.min(), top=ds.elevation.y.max())\n",
    "\n",
    "ax12.set_title(\"Hightide line and hightide offset\")\n",
    "hightideline.plot(\n",
    "    column=\"offset_hightide\",\n",
    "    legend=True,\n",
    "    vmin=0,\n",
    "    vmax=40,\n",
    "    cmap=\"magma\",\n",
    "    ax=ax12,\n",
    "    zorder=2,\n",
    ")\n",
    "tidelines_gdf.loc[[1], \"geometry\"].plot(ax=ax12, zorder=1)\n",
    "ax12.set_xlim(left=ds.elevation.x.min(), right=ds.elevation.x.max())\n",
    "ax12.set_ylim(bottom=ds.elevation.y.min(), top=ds.elevation.y.max())\n",
    "\n",
    "fig.tight_layout()\n",
    "plt.show()"
   ]
  },
  {
   "cell_type": "code",
   "execution_count": null,
   "id": "55f08a28",
   "metadata": {},
   "outputs": [],
   "source": [
    "intertidal_hillshade(ds[\"elevation\"], ds[\"extents\"], vert_exag=300).odc.write_cog('testing.tif')"
   ]
  },
  {
   "cell_type": "markdown",
   "id": "5353e9bb",
   "metadata": {
    "tags": []
   },
   "source": [
    "## Export layers"
   ]
  },
  {
   "cell_type": "code",
   "execution_count": null,
   "id": "a2087c6e",
   "metadata": {},
   "outputs": [],
   "source": [
    "# If a custom area was selected from the map, use \"testing\" for output files\n",
    "if isinstance(study_area, Geometry):\n",
    "    study_area = \"testing\""
   ]
  },
  {
   "cell_type": "code",
   "execution_count": null,
   "id": "7c49c318",
   "metadata": {},
   "outputs": [],
   "source": [
    "# Export figure\n",
    "fig.savefig(f\"data/figures/{study_area}_{start_date}_{end_date}.png\")"
   ]
  },
  {
   "cell_type": "code",
   "execution_count": null,
   "id": "52cc05a2",
   "metadata": {},
   "outputs": [],
   "source": [
    "# Save rasters as GeoTIFFs\n",
    "export_intertidal_rasters(ds, prefix=f\"data/interim/{study_area}_{start_date}_{end_date}\")"
   ]
  },
  {
   "cell_type": "code",
   "execution_count": null,
   "id": "fca2ae13",
   "metadata": {},
   "outputs": [],
   "source": [
    "# Export vector files\n",
    "hightideline.to_crs(\"EPSG:4326\").to_file(f\"data/interim/{study_area}_{start_date}_{end_date}_offset_hightide.geojson\")\n",
    "lowtideline.to_crs(\"EPSG:4326\").to_file(f\"data/interim/{study_area}_{start_date}_{end_date}_offset_lowtide.geojson\")\n",
    "tidelines_gdf.to_crs(\"EPSG:4326\").to_file(f\"data/interim/{study_area}_{start_date}_{end_date}_tidelines_highlow.geojson\")"
   ]
  },
  {
   "cell_type": "code",
   "execution_count": null,
   "id": "17d4f9da-3982-4295-94e2-051b314a51f2",
   "metadata": {},
   "outputs": [],
   "source": []
  },
  {
   "cell_type": "code",
   "execution_count": null,
   "id": "5eb3950c-7fdc-45db-a902-a4a6d80f665b",
   "metadata": {},
   "outputs": [],
   "source": []
  },
  {
   "cell_type": "code",
   "execution_count": null,
   "id": "e69c3036-5476-435e-9fe4-3c0065ca5cda",
   "metadata": {},
   "outputs": [],
   "source": []
  },
  {
   "cell_type": "code",
   "execution_count": null,
   "id": "822a843e-68b8-4f6d-9a50-586dfb4e21fd",
   "metadata": {},
   "outputs": [],
   "source": []
  },
  {
   "cell_type": "code",
   "execution_count": 51,
   "id": "11374b18-9f12-4ca4-a983-e5e9a14a1c3d",
   "metadata": {},
   "outputs": [],
   "source": [
    "import datacube\n",
    "import xarray as xr\n",
    "from skimage.measure import label, regionprops\n",
    "from skimage.morphology import (binary_erosion, disk)"
   ]
  },
  {
   "cell_type": "code",
   "execution_count": 12,
   "id": "c7d33a9c-7aed-4883-98c8-4f1451c0ad07",
   "metadata": {},
   "outputs": [],
   "source": [
    "dc = datacube.Datacube(app='ocean_masking')"
   ]
  },
  {
   "cell_type": "code",
   "execution_count": 76,
   "id": "780ff339-8ba2-497a-b39e-66b597448318",
   "metadata": {},
   "outputs": [],
   "source": [
    "## Testing ocean/land water body separation\n",
    "## https://github.com/GeoscienceAustralia/dea-coastlines/blob/develop/coastlines/vector.py#L188-L198\n",
    "\n",
    "def ocean_masking(ds, ocean_da, connectivity=1, dilation=None):\n",
    "    \"\"\"\n",
    "    Identifies ocean by selecting regions of water that overlap\n",
    "    with ocean pixels. This region can be optionally dilated to\n",
    "    ensure that the sub-pixel algorithm has pixels on either side\n",
    "    of the water index threshold.\n",
    "    Parameters:\n",
    "    -----------\n",
    "    ds : xarray.DataArray\n",
    "        An array containing True for land pixels, and False for water.\n",
    "        This can be obtained by thresholding a water index\n",
    "        array (e.g. MNDWI < 0).\n",
    "    ocean_da : xarray.DataArray\n",
    "        A supplementary static dataset used to separate ocean waters\n",
    "        from other inland water. The array should contain values of 1\n",
    "        for high certainty ocean pixels, and 0 for all other pixels\n",
    "        (land, inland water etc). For Australia, we use the  Geodata\n",
    "        100K coastline dataset, rasterized as the \"geodata_coast_100k\"\n",
    "        product on the DEA datacube.\n",
    "    connectivity : integer, optional\n",
    "        An integer passed to the 'connectivity' parameter of the\n",
    "        `skimage.measure.label` function.\n",
    "    dilation : integer, optional\n",
    "        The number of pixels to dilate ocean pixels to ensure than\n",
    "        adequate land pixels are included for subpixel waterline\n",
    "        extraction. Defaults to None.\n",
    "    Returns:\n",
    "    --------\n",
    "    ocean_mask : xarray.DataArray\n",
    "        An array containing the a mask consisting of identified ocean\n",
    "        pixels as True.\n",
    "    \"\"\"\n",
    "\n",
    "    # Update `ocean_da` to mask out any pixels that are land in `ds` too\n",
    "    ocean_da = ocean_da & (ds != 1)\n",
    "\n",
    "    # First, break all time array into unique, discrete regions/blobs.\n",
    "    # Fill NaN with 1 so it is treated as a background pixel\n",
    "    blobs = xr.apply_ufunc(label, ds.fillna(1), 1, False, connectivity)\n",
    "\n",
    "    # For each unique region/blob, use region properties to determine\n",
    "    # whether it overlaps with a water feature from `water_mask`. If\n",
    "    # it does, then it is considered to be directly connected with the\n",
    "    # ocean; if not, then it is an inland waterbody.\n",
    "    ocean_mask = blobs.isin(\n",
    "        [i.label for i in regionprops(blobs.values, ocean_da.values) if i.max_intensity]\n",
    "    )\n",
    "\n",
    "    # Dilate mask so that we include land pixels on the inland side\n",
    "    # of each shoreline to ensure contour extraction accurately\n",
    "    # seperates land and water spectra\n",
    "    if dilation:\n",
    "        ocean_mask = xr.apply_ufunc(binary_dilation, ocean_mask, disk(dilation))\n",
    "\n",
    "    return ocean_mask\n",
    "\n",
    "def contours_preprocess(\n",
    "    yearly_ds,\n",
    "    gapfill_ds,\n",
    "    water_index,\n",
    "    index_threshold,\n",
    "    buffer_pixels=50,\n",
    "    mask_temporal=True,\n",
    "    mask_modifications=None,\n",
    "    debug=False,\n",
    "):\n",
    "    \"\"\"\n",
    "    Prepares and preprocesses DEA Coastlines raster data to\n",
    "    restrict the analysis to coastal shorelines, and extract data\n",
    "    that is used to assess the certainty of extracted shorelines.\n",
    "    This function:\n",
    "    1) Identifies areas affected by either unstable composites or low data\n",
    "    2) Fills low data areas in annual layers with three-year gapfill\n",
    "    3) Computes an all-time coastal mask based on the observed timeseries\n",
    "       of water and land pixels, after first optionally cleaning the data\n",
    "       using land cover data, NDWI values and a temporal contiguity mask\n",
    "    4) Identifies pixels directly connected to the ocean in each annual\n",
    "       timestep, and uses this to remove inland waterbodies from the analyis\n",
    "    Parameters:\n",
    "    -----------\n",
    "    yearly_ds : xarray.Dataset\n",
    "        An `xarray.Dataset` containing annual DEA Coastlines rasters.\n",
    "    gapfill_ds : xarray.Dataset\n",
    "        An `xarray.Dataset` containing three-year gapfill DEA Coastlines\n",
    "        rasters.\n",
    "    water_index : string\n",
    "        A string giving the name of the water index included in the\n",
    "        annual and gapfill datasets (e.g. 'mndwi').\n",
    "    index_threshold : float\n",
    "        A float giving the water index threshold used to separate land\n",
    "        and water (e.g. 0.00).\n",
    "    buffer_pixels : int, optional\n",
    "        The number of pixels by which to buffer the all time shoreline\n",
    "        detected by this function to produce an overall coastal buffer.\n",
    "        The default is 33 pixels, which at 30 m Landsat resolution\n",
    "        produces a coastal buffer with a radius of approximately 1000 m.\n",
    "    mask_temporal : bool, optional\n",
    "        Whether to apply a temporal contiguity mask by identifying land\n",
    "        pixels with a direct spatial connection (e.g. contiguous) to\n",
    "        land pixels in either the previous or subsequent timestep. This is\n",
    "        used to clean up noisy land pixels (e.g. caused by clouds,\n",
    "        white water, sensor issues), as these pixels typically occur\n",
    "        randomly with no relationship to the distribution of land in\n",
    "        neighbouring timesteps. True land, however, is likely to appear\n",
    "        in proximity to land before or after the specific timestep.\n",
    "        Defaults to True.\n",
    "    mask_modifications : geopandas.GeoDataFrame, optional\n",
    "        An optional polygon dataset including features to remove or add\n",
    "        to the all-time coastal mask. This should include a column/field\n",
    "        named 'type' that contains two possible values:\n",
    "            - 'add': features to add to the coastal mask (e.g. for\n",
    "                     including areas of missing shorelines that were\n",
    "                     previously removed by the coastal mask)\n",
    "            - 'remove': features to remove from the coastal mask (e.g.\n",
    "                        areas of non-coastal rivers or estuaries,\n",
    "                        irrigated fields or aquaculture that you wish\n",
    "                        to exclude from the analysis)\n",
    "    debug : boolean, optional\n",
    "        Whether to return all intermediate layers for troubleshooting.\n",
    "    Returns:\n",
    "    --------\n",
    "    masked_ds : xarray.Dataset\n",
    "        A dataset containing water index data for each annual timestep\n",
    "        that has been masked to the coastal zone. This can then be used\n",
    "        as an input to subpixel waterline extraction.\n",
    "    certainty_masks : dict\n",
    "        A dictionary containg one `geopandas.GeoDataFrame` for each year\n",
    "        in the time period, with polygons identifying any potentially\n",
    "        problematic region. This is used to assign each output shoreline\n",
    "        with a certainty column.\n",
    "    \"\"\"\n",
    "\n",
    "    # Remove low obs pixels and replace with 3-year gapfill\n",
    "    combined_ds = yearly_ds.where(yearly_ds[\"count\"] > 5, gapfill_ds)\n",
    "\n",
    "    # Set any pixels with only one observation to NaN, as these are\n",
    "    # extremely vulnerable to noise\n",
    "    combined_ds = combined_ds.where(yearly_ds[\"count\"] > 1)\n",
    "\n",
    "    # Apply water index threshold and re-apply nodata values\n",
    "    nodata = combined_ds[water_index].isnull()\n",
    "    thresholded_ds = combined_ds[water_index] < index_threshold\n",
    "    thresholded_ds = thresholded_ds.where(~nodata)\n",
    "\n",
    "    # Compute temporal mask that restricts the analysis to land pixels\n",
    "    # with a direct spatial connection (e.g. contiguous) to land pixels\n",
    "    # in the previous or subsequent timestep. Set any pixels outside\n",
    "    # mask to 0 to represent water\n",
    "    temporal_mask = temporal_masking(thresholded_ds == 1)\n",
    "    thresholded_ds = thresholded_ds.where(temporal_mask)\n",
    "\n",
    "    # Create all time layers by identifying pixels that are land in at\n",
    "    # least 20% and 80% of valid observations; the 20% layer is used to\n",
    "    # identify pixels that contain land for even a small period of time;\n",
    "    # this is used for producing an all-time buffered \"coastal\" study area.\n",
    "    # The 80% layer is used to more conservatively identify pixels that\n",
    "    # are land for most of the time series years; this is used for extracting\n",
    "    # rivers as it better accounts for migrating/dynamic river channels.\n",
    "    all_time_20 = thresholded_ds.mean(dim=\"year\") > 0.2\n",
    "    all_time_80 = thresholded_ds.mean(dim=\"year\") > 0.8\n",
    "\n",
    "    # Identify narrow river and stream features using the `black_tophat`\n",
    "    # transform. To avoid narrow channels between islands and the\n",
    "    # mainland being mistaken for rivers, first apply `sieve` to any\n",
    "    # connected land pixels (i.e. islands) smaller than 5 km^2.\n",
    "    # Use a disk of size 8 to identify any rivers/streams smaller than\n",
    "    # approximately 240 m (e.g. 8 * 30 m = 240 m).\n",
    "    island_size = int(5000000 / (30 * 30))  # 5 km^2\n",
    "    sieved = xr.apply_ufunc(sieve, all_time_80.astype(np.int16), island_size)\n",
    "    rivers = xr.apply_ufunc(black_tophat, (sieved & all_time_80), disk(8)) == 1\n",
    "\n",
    "    # Create a river mask by eroding the all time layer to clip out river\n",
    "    # mouths, then expanding river features to include stream banks and\n",
    "    # account for migrating rivers\n",
    "    river_mouth_mask = xr.apply_ufunc(\n",
    "        binary_erosion, all_time_80.where(~rivers, True), disk(12)\n",
    "    )\n",
    "    rivers = rivers.where(river_mouth_mask, False)\n",
    "    river_mask = ~xr.apply_ufunc(binary_dilation, rivers, disk(4))\n",
    "\n",
    "    # Load Geodata 100K coastal layer to use to separate ocean waters from\n",
    "    # other inland waters. This product has values of 0 for ocean waters,\n",
    "    # and values of 1 and 2 for mainland/island pixels. We extract ocean\n",
    "    # pixels (value 0), then erode these by 10 pixels to ensure we only\n",
    "    # use high certainty deeper water ocean regions for identifying ocean\n",
    "    # pixels in our satellite imagery. If no Geodata data exists (e.g.\n",
    "    # over remote ocean waters, use an all True array to represent ocean.\n",
    "    try:\n",
    "        dc = datacube.Datacube()\n",
    "        geodata_da = dc.load(\n",
    "            product=\"geodata_coast_100k\",\n",
    "            like=combined_ds.odc.geobox.compat,\n",
    "        ).land.squeeze(\"time\")\n",
    "        ocean_da = xr.apply_ufunc(binary_erosion, geodata_da == 0, disk(10))\n",
    "    except AttributeError:\n",
    "        ocean_da = odc.geo.xr.xr_zeros(combined_ds.odc.geobox) == 0\n",
    "    except ValueError:  # Temporary workaround for no geodata access for tests\n",
    "        ocean_da = xr.apply_ufunc(binary_erosion, all_time_20==0, disk(20))\n",
    "\n",
    "    # Use all time and Geodata 100K data to produce the buffered coastal\n",
    "    # study area. The output has values of 0 representing non-coastal\n",
    "    # \"ocean\", values of 1 representing \"coastal\", and values of 2\n",
    "    # representing non-coastal \"inland\" pixels.\n",
    "    coastal_mask = coastal_masking(\n",
    "        ds=all_time_20.where(~rivers, True), ocean_da=ocean_da, buffer=buffer_pixels\n",
    "    )\n",
    "\n",
    "    # Add rivers as \"inland\" pixels in the coastal mask\n",
    "    coastal_mask = xr.where(river_mask, coastal_mask, 2)\n",
    "\n",
    "    # Optionally modify the coastal mask using manually supplied\n",
    "    # polygons to add missing areas of shoreline, or remove unwanted\n",
    "    # areas from the mask.\n",
    "    if mask_modifications is not None:\n",
    "\n",
    "        # Only proceed if there are polygons available\n",
    "        if len(mask_modifications.index) > 0:\n",
    "\n",
    "            # Convert type column to integer, with 1 representing pixels\n",
    "            # to add to the coastal mask (by setting them as \"coastal\"\n",
    "            # pixels, and 2 representing pixels to remove from the mask\n",
    "            # (by setting them as \"inland data\")\n",
    "            mask_modifications = mask_modifications.replace({\"add\": 1, \"remove\": 2})\n",
    "\n",
    "            # Rasterise polygons into extent of satellite data\n",
    "            modifications_da = xr_rasterize(\n",
    "                mask_modifications, da=yearly_ds, attribute_col=\"type\"\n",
    "            )\n",
    "\n",
    "            # Where `modifications_da` has a value other than 0,\n",
    "            # replace values from `coastal_mask` with `modifications_da`\n",
    "            coastal_mask = coastal_mask.where(modifications_da == 0, modifications_da)\n",
    "\n",
    "    # Generate individual annual masks by selecting only water pixels that\n",
    "    # are directly connected to the ocean in each yearly timestep\n",
    "    annual_mask = (\n",
    "        # Treat both 1s and NaN pixels as land (i.e. True)\n",
    "        (thresholded_ds != 0)\n",
    "        # Mask out inland regions (i.e. values of 2 in `coastal_mask`)\n",
    "        .where(coastal_mask != 2)\n",
    "        # Keep pixels directly connected to ocean in each timestep\n",
    "        .groupby(\"year\").map(\n",
    "            func=ocean_masking,\n",
    "            ocean_da=ocean_da,\n",
    "            connectivity=1,\n",
    "            dilation=3,\n",
    "        )\n",
    "    )\n",
    "\n",
    "    # Finally, apply temporal and annual masks to our surface water\n",
    "    # index data, then clip to \"coastal\" pixels in `coastal_mask`\n",
    "    masked_ds = combined_ds[water_index].where(\n",
    "        temporal_mask & annual_mask & (coastal_mask == 1)\n",
    "    )\n",
    "\n",
    "    # Generate annual vector polygon masks containing information\n",
    "    # about the certainty of each shoreline feature\n",
    "    certainty_masks = certainty_masking(combined_ds, stdev_threshold=0.3)\n",
    "\n",
    "    # Return all intermediate layers if debug=True\n",
    "    if debug:\n",
    "        return (\n",
    "            masked_ds,\n",
    "            certainty_masks,\n",
    "            all_time_20,\n",
    "            all_time_80,\n",
    "            river_mask,\n",
    "            ocean_da,\n",
    "            thresholded_ds,\n",
    "            temporal_mask,\n",
    "            annual_mask,\n",
    "            coastal_mask,\n",
    "        )\n",
    "\n",
    "    else:\n",
    "        return masked_ds, certainty_masks"
   ]
  },
  {
   "cell_type": "code",
   "execution_count": 103,
   "id": "930b5e18-4ee4-4910-853d-5a7c66afc11d",
   "metadata": {},
   "outputs": [],
   "source": [
    "# ## Calculate extent classes - Working draft\n",
    "\n",
    "# ## Isolate intertidal areas\n",
    "# testint = freq.where(ds.elevation.notnull())\n",
    "\n",
    "# ## Isolate non-intertidal areas\n",
    "# wetdry = freq.where(ds.elevation.isnull())\n",
    "\n",
    "# ## Separate non-intertidal areas into always wet and always dry classes\n",
    "# testwet = wetdry.where(wetdry >= 0.95, drop=True)\n",
    "# testdry = wetdry.where((wetdry <= 0.05), drop=True)\n",
    "\n",
    "# ## Relabel pixels in the intertidal, always wet and always dry classes\n",
    "# testint = testint.where(testint.isnull(), 0)\n",
    "# testwet = testwet.where(testwet.isnull(), 1)\n",
    "# testdry = testdry.where(testdry.isnull(), 2)\n",
    "\n",
    "# ## Combine intertidal, always wet and always dryclasses\n",
    "# intext = testint.combine_first(testwet)\n",
    "# intext = intext.combine_first(testdry)\n",
    "\n",
    "# ## Identify intermittent tidal classes \n",
    "# intermittent_tidal_wet = freq.where((intext.isnull()) & (corr > 0.1) & (freq>0.5))\n",
    "# intermittent_tidal_dry = freq.where((intext.isnull()) & (corr > 0.1) & (freq<0.5))\n",
    "\n",
    "# ## Identify intermittent non-tidal class\n",
    "# intermittent_nontidal = freq.where((intext.isnull()) & (corr < 0.1))\n",
    "\n",
    "# intermittent_tidal_wet = intermittent_tidal_wet.where(intermittent_tidal_wet.isnull(), 1)\n",
    "# intermittent_tidal_dry = intermittent_tidal_dry.where(intermittent_tidal_dry.isnull(), 2)                    \n",
    "# intermittent_nontidal = intermittent_nontidal.where(intermittent_nontidal.isnull(), 3)\n",
    "\n",
    "# int_ext = intext.combine_first(intermittent_tidal_wet)\n",
    "# int_ext = int_ext.combine_first(intermittent_tidal_dry)\n",
    "# int_ext = int_ext.combine_first(intermittent_nontidal)\n",
    "\n",
    "\n",
    "\n",
    "# int_ext.plot()\n",
    "# plt.title('Intertidal:0, Wet:1, Dry:2, Intermittent nontidal:3')#, Intermittent tidal (wet):4, Intermittent tidal (dry):5')"
   ]
  },
  {
   "cell_type": "code",
   "execution_count": 111,
   "id": "5d443973-0d9b-480d-bffb-15a623f7ac2e",
   "metadata": {},
   "outputs": [
    {
     "data": {
      "text/plain": [
       "Text(0.5, 1.0, 'Intertidal:0, Wet-tidal:1, Wet-nontidal:2, Intermittent wet nontidal:3, Dry:4')"
      ]
     },
     "execution_count": 111,
     "metadata": {},
     "output_type": "execute_result"
    },
    {
     "data": {
      "image/png": "[encoded data removed]",
      "text/plain": [
       "<Figure size 640x480 with 2 Axes>"
      ]
     },
     "metadata": {},
     "output_type": "display_data"
    }
   ],
   "source": [
    "## Calculate extent classes\n",
    "\n",
    "## Isolate intertidal class\n",
    "testint = freq.where(ds.elevation.notnull())\n",
    "\n",
    "## Isolate non-intertidal class\n",
    "wetdry = freq.where(ds.elevation.isnull())\n",
    "\n",
    "## Separate non-intertidal areas into always wet and always dry classes\n",
    "testwet = wetdry.where(wetdry >= 0.95, drop=True)\n",
    "testdry = wetdry.where((wetdry <= 0.05), drop=True)\n",
    "\n",
    "## Identify intermittent tidal classes \n",
    "intermittent_tidal_wet = freq.where(\n",
    "                                    (wetdry < 0.95)\n",
    "                                    & (wetdry > 0.05) \n",
    "                                    & (corr > 0.1) \n",
    "                                    & (freq > 0.5)\n",
    "                                   )\n",
    "\n",
    "intermittent_tidal_dry = freq.where(\n",
    "                                    (wetdry < 0.95)\n",
    "                                    & (wetdry > 0.05) \n",
    "                                    & (corr > 0.1) \n",
    "                                    & (freq < 0.5)\n",
    "                                    )\n",
    "\n",
    "## Identify intermittent non-tidal class\n",
    "intermittent_nontidal = freq.where(\n",
    "                                   (wetdry < 0.95)\n",
    "                                   & (wetdry > 0.05) \n",
    "                                   & (corr < 0.1)\n",
    "                                   )\n",
    "\n",
    "## Relabel pixels in the classes. \n",
    "## Add intermittent tidal wet/dry to the always wet/dry classes\n",
    "testint = testint.where(testint.isnull(), 0)\n",
    "testwet = testwet.where(testwet.isnull(), 1)\n",
    "testdry = testdry.where(testdry.isnull(), 4)\n",
    "intermittent_tidal_wet = intermittent_tidal_wet.where(intermittent_tidal_wet.isnull(), 1)\n",
    "intermittent_tidal_dry = intermittent_tidal_dry.where(intermittent_tidal_dry.isnull(), 4)                    \n",
    "intermittent_nontidal = intermittent_nontidal.where(intermittent_nontidal.isnull(), 3)\n",
    "\n",
    "## Combine classes\n",
    "intext = testint.combine_first(testwet)\n",
    "intext = intext.combine_first(testdry)\n",
    "intext = intext.combine_first(intermittent_tidal_wet)\n",
    "intext = intext.combine_first(intermittent_tidal_dry)\n",
    "intext = intext.combine_first(intermittent_nontidal)\n",
    "\n",
    "## Separate the onshore from offshore 'always wet' class\n",
    "## Use the ocean_masking functionality from \n",
    "## https://github.com/GeoscienceAustralia/dea-coastlines/blob/develop/coastlines/vector.py\n",
    "\n",
    "## Load the Geodata 100k coastline layer to use as the seawater mask\n",
    "\n",
    "# Load Geodata 100K coastal layer to use to separate ocean waters from\n",
    "# other inland waters. This product has values of 0 for ocean waters,\n",
    "# and values of 1 and 2 for mainland/island pixels. We extract ocean\n",
    "# pixels (value 0), then erode these by 10 pixels to ensure we only\n",
    "# use high certainty deeper water ocean regions for identifying ocean\n",
    "# pixels in our satellite imagery. If no Geodata data exists (e.g.\n",
    "# over remote ocean waters, use an all True array to represent ocean.\n",
    "try:    \n",
    "    geodata_da = dc.load(product = 'geodata_coast_100k',\n",
    "                        like=landwater.odc.geobox.compat\n",
    "                      ).land.squeeze('time')\n",
    "    ocean_da = xr.apply_ufunc(binary_erosion, geodata_da == 0, disk(10))\n",
    "except AttributeError:\n",
    "    ocean_da = odc.geo.xr.xr_zeros(landwater.odc.geobox) == 0\n",
    "\n",
    "## Mask all pixels in `intext` as `always_wet` or 'other'\n",
    "landwater=intext.where(intext != 1, False)\n",
    "\n",
    "## Applying ocean_masking function\n",
    "ocean_mask = ocean_masking(landwater, ocean_da)\n",
    "\n",
    "## distinguish wet tidal from non-tidal pixels\n",
    "wet_nontidal = intext.where((intext==1) & (ocean_mask == False))#, drop=True) ## Weird artefacts when drop=True\n",
    "wet_tidal = intext.where((intext==1) & (ocean_mask == True), drop=True)\n",
    "\n",
    "## Relabel pixels\n",
    "wet_nontidal = wet_nontidal.where(wet_nontidal.isnull(), 2)\n",
    "wet_tidal = wet_tidal.where(wet_tidal.isnull(), 1)\n",
    "\n",
    "## remove `wet` pixels from int_ext\n",
    "intext = intext.where(intext != 1, np.nan)\n",
    "\n",
    "## combine wet tidal and nontidal variables back into int_ext\n",
    "intext = intext.combine_first(wet_nontidal)\n",
    "intext = intext.combine_first(wet_tidal)\n",
    "\n",
    "intext.plot()\n",
    "plt.title('Intertidal:0, Wet-tidal:1, Wet-nontidal:2, Intermittent wet nontidal:3, Dry:4')#, Intermittent tidal (wet):4, Intermittent tidal (dry):5')"
   ]
  },
  {
   "cell_type": "code",
   "execution_count": null,
   "id": "2a2e3a2f-1c7d-4d0a-b1a6-7c24b27568fb",
   "metadata": {},
   "outputs": [],
   "source": []
  }
 ],
 "metadata": {
  "kernelspec": {
   "display_name": "Python 3 (ipykernel)",
   "language": "python",
   "name": "python3"
  },
  "language_info": {
   "codemirror_mode": {
    "name": "ipython",
    "version": 3
   },
   "file_extension": ".py",
   "mimetype": "text/x-python",
   "name": "python",
   "nbconvert_exporter": "python",
   "pygments_lexer": "ipython3",
   "version": "3.8.10"
  },
  "widgets": {
   "application/vnd.jupyter.widget-state+json": {
    "state": {
     "00d414a5b8194a7cbc1e68af3a96b7cd": {
      "model_module": "jupyter-leaflet",
      "model_module_version": "^0.17",
      "model_name": "LeafletFullScreenControlModel",
      "state": {
       "_model_module_version": "^0.17",
       "_view_module_version": "^0.17",
       "options": [
        "position"
       ]
      }
     },
     "28c5b35e470d49c49f4528af3af4402f": {
      "model_module": "jupyter-leaflet",
      "model_module_version": "^0.17",
      "model_name": "LeafletWidgetControlModel",
      "state": {
       "_model_module": "jupyter-leaflet",
       "_model_module_version": "^0.17",
       "_view_count": null,
       "_view_module": "jupyter-leaflet",
       "_view_module_version": "^0.17",
       "options": [
        "position",
        "transparent_bg"
       ],
       "position": "bottomleft",
       "widget": "IPY_MODEL_785d3d5361f04a83b47ba5382f79f1a3"
      }
     },
     "2cb1f6d8bbc346ed87b416d54eef36b9": {
      "model_module": "@jupyter-widgets/controls",
      "model_module_version": "2.0.0",
      "model_name": "HTMLStyleModel",
      "state": {
       "description_width": "",
       "font_size": null,
       "text_color": null
      }
     },
     "2e93aa2373ca4d90bbf1fcbde5fa4cc7": {
      "model_module": "jupyter-leaflet",
      "model_module_version": "^0.17",
      "model_name": "LeafletAttributionControlModel",
      "state": {
       "_model_module_version": "^0.17",
       "_view_module_version": "^0.17",
       "options": [
        "position",
        "prefix"
       ],
       "position": "bottomright",
       "prefix": "ipyleaflet"
      }
     },
     "4215ac36f52442c79f3b709894f6b146": {
      "model_module": "@jupyter-widgets/base",
      "model_module_version": "2.0.0",
      "model_name": "LayoutModel",
      "state": {
       "flex": "1 0 20em",
       "height": "3em",
       "width": "20em"
      }
     },
     "562668eed43149ba892d8313f5be9b61": {
      "model_module": "@jupyter-widgets/base",
      "model_module_version": "2.0.0",
      "model_name": "LayoutModel",
      "state": {
       "height": "600px"
      }
     },
     "5711411300d6431d95056d7c24d3c72e": {
      "model_module": "jupyter-leaflet",
      "model_module_version": "^0.17",
      "model_name": "LeafletZoomControlModel",
      "state": {
       "_model_module_version": "^0.17",
       "_view_module_version": "^0.17",
       "options": [
        "position",
        "zoom_in_text",
        "zoom_in_title",
        "zoom_out_text",
        "zoom_out_title"
       ]
      }
     },
     "5c431a1ae2a24f08a9a3365b2222694a": {
      "model_module": "jupyter-leaflet",
      "model_module_version": "^0.17",
      "model_name": "LeafletMapModel",
      "state": {
       "_model_module_version": "^0.17",
       "_view_module_version": "^0.17",
       "bottom": 8966,
       "center": [
        -10.357475944929572,
        97.87376403808595
       ],
       "controls": [
        "IPY_MODEL_5711411300d6431d95056d7c24d3c72e",
        "IPY_MODEL_2e93aa2373ca4d90bbf1fcbde5fa4cc7",
        "IPY_MODEL_00d414a5b8194a7cbc1e68af3a96b7cd"
       ],
       "default_style": "IPY_MODEL_d6ced6969f9c412799ac35d190265c31",
       "dragging_style": "IPY_MODEL_b59cda85f201407ab732d9eece6edd89",
       "east": 112.30224609375001,
       "fullscreen": false,
       "interpolation": "bilinear",
       "layers": [
        "IPY_MODEL_e02fa513be2342cda36cbbae304a360c"
       ],
       "layout": "IPY_MODEL_562668eed43149ba892d8313f5be9b61",
       "left": 11989,
       "modisdate": "2023-04-13",
       "north": -3.8204080831949407,
       "options": [
        "bounce_at_zoom_limits",
        "box_zoom",
        "center",
        "close_popup_on_click",
        "double_click_zoom",
        "dragging",
        "fullscreen",
        "inertia",
        "inertia_deceleration",
        "inertia_max_speed",
        "interpolation",
        "keyboard",
        "keyboard_pan_offset",
        "keyboard_zoom_offset",
        "max_zoom",
        "min_zoom",
        "prefer_canvas",
        "scroll_wheel_zoom",
        "tap",
        "tap_tolerance",
        "touch_zoom",
        "world_copy_jump",
        "zoom",
        "zoom_animation_threshold",
        "zoom_delta",
        "zoom_snap"
       ],
       "prefer_canvas": false,
       "right": 13303,
       "scroll_wheel_zoom": true,
       "south": -16.762467717941604,
       "style": "IPY_MODEL_d6ced6969f9c412799ac35d190265c31",
       "top": 8366,
       "west": 83.43017578125001,
       "window_url": "https://app.sandbox.dea.ga.gov.au/user/robbi.bishoptaylor@ga.gov.au/lab/tree/Robbi/dea-intertidal/notebooks/Intertidal_workflow.ipynb",
       "zoom": 6
      }
     },
     "69a3016fcacc432c9b6d23eb480ef670": {
      "model_module": "jupyter-leaflet",
      "model_module_version": "^0.17",
      "model_name": "LeafletWidgetControlModel",
      "state": {
       "_model_module": "jupyter-leaflet",
       "_model_module_version": "^0.17",
       "_view_count": null,
       "_view_module": "jupyter-leaflet",
       "_view_module_version": "^0.17",
       "options": [
        "position",
        "transparent_bg"
       ],
       "position": "topright",
       "widget": "IPY_MODEL_a4bbb93ddcff4db9b23bf3fac3cd7dce"
      }
     },
     "74243d59f27b4961b6f97ea600864906": {
      "model_module": "@jupyter-widgets/base",
      "model_module_version": "2.0.0",
      "model_name": "LayoutModel",
      "state": {
       "width": "5em"
      }
     },
     "785d3d5361f04a83b47ba5382f79f1a3": {
      "model_module": "@jupyter-widgets/controls",
      "model_module_version": "2.0.0",
      "model_name": "HTMLModel",
      "state": {
       "layout": "IPY_MODEL_4215ac36f52442c79f3b709894f6b146",
       "style": "IPY_MODEL_2cb1f6d8bbc346ed87b416d54eef36b9",
       "value": "<pre style=\"color:grey\">lat: [-16.7625, -3.8204]\nlon: [83.4302, 112.3022]</pre>"
      }
     },
     "949524c5a2714ae1bfda53593a97a2f2": {
      "model_module": "@jupyter-widgets/controls",
      "model_module_version": "2.0.0",
      "model_name": "ButtonStyleModel",
      "state": {
       "button_color": "green",
       "font_family": null,
       "font_size": null,
       "font_style": null,
       "font_variant": null,
       "font_weight": null,
       "text_color": null,
       "text_decoration": null
      }
     },
     "a4bbb93ddcff4db9b23bf3fac3cd7dce": {
      "model_module": "@jupyter-widgets/controls",
      "model_module_version": "2.0.0",
      "model_name": "ButtonModel",
      "state": {
       "description": "done",
       "disabled": true,
       "layout": "IPY_MODEL_74243d59f27b4961b6f97ea600864906",
       "style": "IPY_MODEL_949524c5a2714ae1bfda53593a97a2f2",
       "tooltip": null
      }
     },
     "b59cda85f201407ab732d9eece6edd89": {
      "model_module": "jupyter-leaflet",
      "model_module_version": "^0.17",
      "model_name": "LeafletMapStyleModel",
      "state": {
       "_model_module_version": "^0.17",
       "cursor": "move"
      }
     },
     "d6ced6969f9c412799ac35d190265c31": {
      "model_module": "jupyter-leaflet",
      "model_module_version": "^0.17",
      "model_name": "LeafletMapStyleModel",
      "state": {
       "_model_module_version": "^0.17"
      }
     },
     "e02fa513be2342cda36cbbae304a360c": {
      "model_module": "jupyter-leaflet",
      "model_module_version": "^0.17",
      "model_name": "LeafletTileLayerModel",
      "state": {
       "_model_module_version": "^0.17",
       "_view_module_version": "^0.17",
       "attribution": "Tiles &copy; Esri &mdash; Source: Esri, i-cubed, USDA, USGS, AEX, GeoEye, Getmapping, Aerogrid, IGN, IGP, UPR-EGP, and the GIS User Community",
       "min_zoom": 1,
       "name": "Esri.WorldImagery",
       "options": [
        "attribution",
        "bounds",
        "detect_retina",
        "max_native_zoom",
        "max_zoom",
        "min_native_zoom",
        "min_zoom",
        "no_wrap",
        "tile_size",
        "tms",
        "zoom_offset"
       ],
       "url": "https://server.arcgisonline.com/ArcGIS/rest/services/World_Imagery/MapServer/tile/{z}/{y}/{x}"
      }
     },
     "e6e6b31b4faf415bb3ce9e99888bb31e": {
      "model_module": "jupyter-leaflet",
      "model_module_version": "^0.17",
      "model_name": "LeafletDrawControlModel",
      "state": {
       "_model_module_version": "^0.17",
       "_view_module_version": "^0.17",
       "data": [
        {
         "geometry": {
          "coordinates": [
           [
            [
             130.23468,
             -30.270928
            ],
            [
             130.23468,
             -27.188685
            ],
            [
             132.607727,
             -27.188685
            ],
            [
             132.607727,
             -30.270928
            ],
            [
             130.23468,
             -30.270928
            ]
           ]
          ],
          "type": "Polygon"
         },
         "properties": {
          "style": {
           "clickable": true,
           "color": "#000000",
           "fill": true,
           "fillColor": "#fca45d",
           "fillOpacity": 0.1,
           "opacity": 0.5,
           "stroke": true,
           "weight": 4
          }
         },
         "type": "Feature"
        }
       ],
       "options": [
        "position"
       ],
       "polygon": {
        "shapeOptions": {
         "color": "#000000",
         "editing": {
          "color": "#000000",
          "fillColor": "#fca45d",
          "fillOpacity": 0.1
         },
         "fillColor": "#fca45d",
         "fillOpacity": 0.1,
         "original": {
          "color": "#000000",
          "fillColor": "#fca45d",
          "fillOpacity": 0.1
         }
        }
       },
       "polyline": {},
       "rectangle": {
        "metric": [
         "km",
         "m"
        ],
        "shapeOptions": {
         "color": "#000000",
         "fillColor": "#fca45d",
         "fillOpacity": 0.1
        }
       }
      }
     },
     "eda1219e41d74bac9ad2d5e970cb285a": {
      "model_module": "jupyter-leaflet",
      "model_module_version": "^0.17",
      "model_name": "LeafletMapStyleModel",
      "state": {
       "_model_module_version": "^0.17"
      }
     }
    },
    "version_major": 2,
    "version_minor": 0
   }
  }
 },
 "nbformat": 4,
 "nbformat_minor": 5
}

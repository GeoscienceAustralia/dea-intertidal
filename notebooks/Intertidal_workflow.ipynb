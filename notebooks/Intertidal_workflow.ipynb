{
 "cells": [
  {
   "cell_type": "markdown",
   "id": "ccccdf10-6065-4f91-8725-d3233ebbe6d4",
   "metadata": {
    "tags": []
   },
   "source": [
    "# Digital Earth Australia Intertidal workflow\n",
    "\n",
    "## Getting started\n",
    "Set working directory to top level of repo to ensure links work correctly:"
   ]
  },
  {
   "cell_type": "code",
   "execution_count": 1,
   "id": "3cdd49c0-fef3-4b10-9d45-d28c41755e12",
   "metadata": {},
   "outputs": [
    {
     "name": "stdout",
     "output_type": "stream",
     "text": [
      "/home/jovyan/Robbi/dea-intertidal\n"
     ]
    }
   ],
   "source": [
    "cd .."
   ]
  },
  {
   "cell_type": "markdown",
   "id": "9e0e6a00-0c55-4ec3-881f-4cdd32899772",
   "metadata": {},
   "source": [
    "Install additional packages directly from the requirements file"
   ]
  },
  {
   "cell_type": "code",
   "execution_count": null,
   "id": "924876a7-a415-4d65-81c4-5e5cd7b7b53d",
   "metadata": {},
   "outputs": [],
   "source": [
    "pip install -r requirements.in --quiet"
   ]
  },
  {
   "cell_type": "markdown",
   "id": "4dac1027-e128-4b7d-a5af-b7b360673e53",
   "metadata": {},
   "source": [
    "### Load packages"
   ]
  },
  {
   "cell_type": "code",
   "execution_count": 53,
   "id": "325d183a-2ca2-42c8-9061-02849068c92e",
   "metadata": {},
   "outputs": [
    {
     "name": "stdout",
     "output_type": "stream",
     "text": [
      "The autoreload extension is already loaded. To reload it, use:\n",
      "  %reload_ext autoreload\n"
     ]
    }
   ],
   "source": [
    "%load_ext autoreload\n",
    "%autoreload 2\n",
    "\n",
    "import os\n",
    "import pandas as pd\n",
    "import numpy as np\n",
    "import matplotlib.pyplot as plt\n",
    "import geopandas as gpd\n",
    "from ipyleaflet import basemaps, basemap_to_tiles\n",
    "\n",
    "import datacube\n",
    "from odc.geo.geom import Geometry\n",
    "from odc.ui import select_on_a_map\n",
    "\n",
    "from intertidal.utils import (\n",
    "    round_date_strings,\n",
    "    export_intertidal_rasters,\n",
    "    intertidal_hillshade,\n",
    ")\n",
    "from intertidal.elevation import load_data, load_topobathy, elevation\n",
    "from intertidal.extents import extents\n",
    "from intertidal.exposure import exposure\n",
    "from intertidal.tidal_bias_offset import bias_offset, tidal_offset_tidelines\n",
    "from dea_tools.dask import create_local_dask_cluster"
   ]
  },
  {
   "cell_type": "markdown",
   "id": "bd675e30-92c7-494f-9f16-2ea0ae1de32f",
   "metadata": {
    "tags": []
   },
   "source": [
    "## Setup\n"
   ]
  },
  {
   "cell_type": "markdown",
   "id": "3fbdf7a0-4daa-49c1-a3f7-3e0bd0e38560",
   "metadata": {
    "tags": []
   },
   "source": [
    "### Set analysis parameters"
   ]
  },
  {
   "cell_type": "code",
   "execution_count": 3,
   "id": "ad578cb2-0465-4613-9e0a-14764abd17f6",
   "metadata": {
    "tags": []
   },
   "outputs": [],
   "source": [
    "# Intertidal Elevation variables\n",
    "start_date = \"2019\"  # Start date for analysis\n",
    "end_date = \"2021\"  # End date for analysis\n",
    "resolution = 10  # Spatial resolution used for output files\n",
    "crs = \"EPSG:3577\"  # Coordinate Reference System (CRS) to use for output files\n",
    "ndwi_thresh = 0.1  # Threshold used to identify dry/wet transition\n",
    "include_s2 = True  # Include Sentinel-2 data in the analysis?\n",
    "include_ls = True  # Include Landsat data in the analysis?\n",
    "filter_gqa = True  # Filter to remove poorly georeferenced scenes?\n",
    "tide_model = \"ensemble\"  # Tide model to use in analysis\n",
    "# tide_model_dir = \"/var/share/tide_models\"  # Directory containing tide model files\n",
    "# tide_model = [\"FES2014\", \"FES2012\", \"TPXO9-atlas-v5\"]\n",
    "tide_model_dir = \"/gdata1/data/tide_models_clipped\"\n",
    "\n",
    "# Exposure variables\n",
    "modelled_freq = \"3h\"  # Frequency to run tidal model e.g '30min' or '1h'\n",
    "\n",
    "# Generate range of times covering entire period of satellite record for exposure and bias/offset calculation\n",
    "all_timerange = pd.date_range(\n",
    "    start=round_date_strings(start_date, round_type=\"start\"),\n",
    "    end=round_date_strings(end_date, round_type=\"end\"),\n",
    "    freq=modelled_freq,\n",
    ")"
   ]
  },
  {
   "cell_type": "markdown",
   "id": "9545c2f6-d1d7-4848-a17f-54eb484279bb",
   "metadata": {},
   "source": [
    "#### Set study area\n",
    "\n",
    "##### Option 1: load study area from 32 km tile GridSpec"
   ]
  },
  {
   "cell_type": "code",
   "execution_count": null,
   "id": "92f3b5ca-b73a-47b2-b27c-ff63a4ace984",
   "metadata": {},
   "outputs": [],
   "source": [
    "# Set study area (e.g. tile ID in form 'x143y87')\n",
    "study_area = \"x133y40\"\n",
    "geom = None  # Use GridSpec to load study area, not a custom geom"
   ]
  },
  {
   "cell_type": "markdown",
   "id": "16e7ab04-cfc9-49e4-b75c-b39439143c20",
   "metadata": {
    "tags": []
   },
   "source": [
    "##### Option 2: load study area from vector file"
   ]
  },
  {
   "cell_type": "code",
   "execution_count": null,
   "id": "33bd708e-3c17-49c5-aa96-403ac50df896",
   "metadata": {
    "tags": []
   },
   "outputs": [],
   "source": [
    "# # Set study area to load from file\n",
    "# study_area = \"pointstuart\"\n",
    "\n",
    "# # Read file, select study area and convert to geom\n",
    "# studyarea_gdf = gpd.read_file(\n",
    "#     \"data/raw/intertidal_development_polygons.geojson\"\n",
    "# ).set_index(\"id\")\n",
    "# geom = Geometry(studyarea_gdf.loc[study_area].geometry, crs=studyarea_gdf.crs)\n",
    "# geom"
   ]
  },
  {
   "cell_type": "markdown",
   "id": "05c2043a-47dc-4b2b-a481-ef1bbf01ae80",
   "metadata": {},
   "source": [
    "##### Option 3: load study area using interactive map"
   ]
  },
  {
   "cell_type": "code",
   "execution_count": 30,
   "id": "b7084b95-0d68-4bf5-81fc-1f26809cdc38",
   "metadata": {},
   "outputs": [
    {
     "data": {
      "application/vnd.jupyter.widget-view+json": {
       "model_id": "95cdd71665744aa3bd5da97260cd0a2e",
       "version_major": 2,
       "version_minor": 0
      },
      "text/plain": [
       "Map(center=[-26, 135], controls=(ZoomControl(options=['position', 'zoom_in_text', 'zoom_in_title', 'zoom_out_t…"
      ]
     },
     "metadata": {},
     "output_type": "display_data"
    },
    {
     "data": {
      "image/svg+xml": [
       "<svg xmlns=\"http://www.w3.org/2000/svg\" xmlns:xlink=\"http://www.w3.org/1999/xlink\" width=\"100.0\" height=\"100.0\" viewBox=\"147.28471771999997 -42.87538828 0.3715545600000496 0.07485256000000362\" preserveAspectRatio=\"xMinYMin meet\"><g transform=\"matrix(1,0,0,-1,0,-85.67592400000001)\"><path fill-rule=\"evenodd\" fill=\"#66cc99\" stroke=\"#555555\" stroke-width=\"0.007431091200000992\" opacity=\"0.6\" d=\"M 147.298479,-42.861627 L 147.298479,-42.814297 L 147.642511,-42.814297 L 147.642511,-42.861627 L 147.298479,-42.861627 z\" /></g></svg>"
      ],
      "text/plain": [
       "Geometry(POLYGON ((147.298479 -42.861627, 147.298479 -42.814297, 147.642511 -42.814297, 147.642511 -42.861627, 147.298479 -42.861627)), EPSG:4326)"
      ]
     },
     "execution_count": 30,
     "metadata": {},
     "output_type": "execute_result"
    }
   ],
   "source": [
    "# Set study area name for outputs\n",
    "study_area = \"extents1\"\n",
    "\n",
    "# Plot interactive map to select area\n",
    "basemap = basemap_to_tiles(basemaps.Esri.WorldImagery)\n",
    "geom = select_on_a_map(height=\"600px\", layers=(basemap,), center=(-26, 135), zoom=4)\n",
    "geom"
   ]
  },
  {
   "cell_type": "markdown",
   "id": "ef305306-b424-4d6b-9183-ca480012f2d7",
   "metadata": {},
   "source": [
    "## Intertidal workflow\n",
    "\n",
    "### Load data"
   ]
  },
  {
   "cell_type": "code",
   "execution_count": 31,
   "id": "21ed7ba2-3efe-4065-a495-7b80f5256e94",
   "metadata": {},
   "outputs": [
    {
     "name": "stderr",
     "output_type": "stream",
     "text": [
      "/env/lib/python3.10/site-packages/distributed/node.py:183: UserWarning: Port 8787 is already in use.\n",
      "Perhaps you already have a cluster running?\n",
      "Hosting the HTTP server on port 33325 instead\n",
      "  warnings.warn(\n"
     ]
    },
    {
     "data": {
      "text/html": [
       "<div>\n",
       "    <div style=\"width: 24px; height: 24px; background-color: #e1e1e1; border: 3px solid #9D9D9D; border-radius: 5px; position: absolute;\"> </div>\n",
       "    <div style=\"margin-left: 48px;\">\n",
       "        <h3 style=\"margin-bottom: 0px;\">Client</h3>\n",
       "        <p style=\"color: #9D9D9D; margin-bottom: 0px;\">Client-0bb4a786-9aea-11ee-818e-020c4bf7702c</p>\n",
       "        <table style=\"width: 100%; text-align: left;\">\n",
       "\n",
       "        <tr>\n",
       "        \n",
       "            <td style=\"text-align: left;\"><strong>Connection method:</strong> Cluster object</td>\n",
       "            <td style=\"text-align: left;\"><strong>Cluster type:</strong> distributed.LocalCluster</td>\n",
       "        \n",
       "        </tr>\n",
       "\n",
       "        \n",
       "            <tr>\n",
       "                <td style=\"text-align: left;\">\n",
       "                    <strong>Dashboard: </strong> <a href=\"/user/robbi.bishoptaylor@ga.gov.au/proxy/33325/status\" target=\"_blank\">/user/robbi.bishoptaylor@ga.gov.au/proxy/33325/status</a>\n",
       "                </td>\n",
       "                <td style=\"text-align: left;\"></td>\n",
       "            </tr>\n",
       "        \n",
       "\n",
       "        </table>\n",
       "\n",
       "        \n",
       "            <button style=\"margin-bottom: 12px;\" data-commandlinker-command=\"dask:populate-and-launch-layout\" data-commandlinker-args='{\"url\": \"/user/robbi.bishoptaylor@ga.gov.au/proxy/33325/status\" }'>\n",
       "                Launch dashboard in JupyterLab\n",
       "            </button>\n",
       "        \n",
       "\n",
       "        \n",
       "            <details>\n",
       "            <summary style=\"margin-bottom: 20px;\"><h3 style=\"display: inline;\">Cluster Info</h3></summary>\n",
       "            <div class=\"jp-RenderedHTMLCommon jp-RenderedHTML jp-mod-trusted jp-OutputArea-output\">\n",
       "    <div style=\"width: 24px; height: 24px; background-color: #e1e1e1; border: 3px solid #9D9D9D; border-radius: 5px; position: absolute;\">\n",
       "    </div>\n",
       "    <div style=\"margin-left: 48px;\">\n",
       "        <h3 style=\"margin-bottom: 0px; margin-top: 0px;\">LocalCluster</h3>\n",
       "        <p style=\"color: #9D9D9D; margin-bottom: 0px;\">a1995d52</p>\n",
       "        <table style=\"width: 100%; text-align: left;\">\n",
       "            <tr>\n",
       "                <td style=\"text-align: left;\">\n",
       "                    <strong>Dashboard:</strong> <a href=\"/user/robbi.bishoptaylor@ga.gov.au/proxy/33325/status\" target=\"_blank\">/user/robbi.bishoptaylor@ga.gov.au/proxy/33325/status</a>\n",
       "                </td>\n",
       "                <td style=\"text-align: left;\">\n",
       "                    <strong>Workers:</strong> 1\n",
       "                </td>\n",
       "            </tr>\n",
       "            <tr>\n",
       "                <td style=\"text-align: left;\">\n",
       "                    <strong>Total threads:</strong> 15\n",
       "                </td>\n",
       "                <td style=\"text-align: left;\">\n",
       "                    <strong>Total memory:</strong> 117.21 GiB\n",
       "                </td>\n",
       "            </tr>\n",
       "            \n",
       "            <tr>\n",
       "    <td style=\"text-align: left;\"><strong>Status:</strong> running</td>\n",
       "    <td style=\"text-align: left;\"><strong>Using processes:</strong> True</td>\n",
       "</tr>\n",
       "\n",
       "            \n",
       "        </table>\n",
       "\n",
       "        <details>\n",
       "            <summary style=\"margin-bottom: 20px;\">\n",
       "                <h3 style=\"display: inline;\">Scheduler Info</h3>\n",
       "            </summary>\n",
       "\n",
       "            <div style=\"\">\n",
       "    <div>\n",
       "        <div style=\"width: 24px; height: 24px; background-color: #FFF7E5; border: 3px solid #FF6132; border-radius: 5px; position: absolute;\"> </div>\n",
       "        <div style=\"margin-left: 48px;\">\n",
       "            <h3 style=\"margin-bottom: 0px;\">Scheduler</h3>\n",
       "            <p style=\"color: #9D9D9D; margin-bottom: 0px;\">Scheduler-447659a3-739d-4ce9-bee6-8b77a5713ec7</p>\n",
       "            <table style=\"width: 100%; text-align: left;\">\n",
       "                <tr>\n",
       "                    <td style=\"text-align: left;\">\n",
       "                        <strong>Comm:</strong> tcp://127.0.0.1:36975\n",
       "                    </td>\n",
       "                    <td style=\"text-align: left;\">\n",
       "                        <strong>Workers:</strong> 1\n",
       "                    </td>\n",
       "                </tr>\n",
       "                <tr>\n",
       "                    <td style=\"text-align: left;\">\n",
       "                        <strong>Dashboard:</strong> <a href=\"/user/robbi.bishoptaylor@ga.gov.au/proxy/33325/status\" target=\"_blank\">/user/robbi.bishoptaylor@ga.gov.au/proxy/33325/status</a>\n",
       "                    </td>\n",
       "                    <td style=\"text-align: left;\">\n",
       "                        <strong>Total threads:</strong> 15\n",
       "                    </td>\n",
       "                </tr>\n",
       "                <tr>\n",
       "                    <td style=\"text-align: left;\">\n",
       "                        <strong>Started:</strong> Just now\n",
       "                    </td>\n",
       "                    <td style=\"text-align: left;\">\n",
       "                        <strong>Total memory:</strong> 117.21 GiB\n",
       "                    </td>\n",
       "                </tr>\n",
       "            </table>\n",
       "        </div>\n",
       "    </div>\n",
       "\n",
       "    <details style=\"margin-left: 48px;\">\n",
       "        <summary style=\"margin-bottom: 20px;\">\n",
       "            <h3 style=\"display: inline;\">Workers</h3>\n",
       "        </summary>\n",
       "\n",
       "        \n",
       "        <div style=\"margin-bottom: 20px;\">\n",
       "            <div style=\"width: 24px; height: 24px; background-color: #DBF5FF; border: 3px solid #4CC9FF; border-radius: 5px; position: absolute;\"> </div>\n",
       "            <div style=\"margin-left: 48px;\">\n",
       "            <details>\n",
       "                <summary>\n",
       "                    <h4 style=\"margin-bottom: 0px; display: inline;\">Worker: 0</h4>\n",
       "                </summary>\n",
       "                <table style=\"width: 100%; text-align: left;\">\n",
       "                    <tr>\n",
       "                        <td style=\"text-align: left;\">\n",
       "                            <strong>Comm: </strong> tcp://127.0.0.1:40543\n",
       "                        </td>\n",
       "                        <td style=\"text-align: left;\">\n",
       "                            <strong>Total threads: </strong> 15\n",
       "                        </td>\n",
       "                    </tr>\n",
       "                    <tr>\n",
       "                        <td style=\"text-align: left;\">\n",
       "                            <strong>Dashboard: </strong> <a href=\"/user/robbi.bishoptaylor@ga.gov.au/proxy/33511/status\" target=\"_blank\">/user/robbi.bishoptaylor@ga.gov.au/proxy/33511/status</a>\n",
       "                        </td>\n",
       "                        <td style=\"text-align: left;\">\n",
       "                            <strong>Memory: </strong> 117.21 GiB\n",
       "                        </td>\n",
       "                    </tr>\n",
       "                    <tr>\n",
       "                        <td style=\"text-align: left;\">\n",
       "                            <strong>Nanny: </strong> tcp://127.0.0.1:34707\n",
       "                        </td>\n",
       "                        <td style=\"text-align: left;\"></td>\n",
       "                    </tr>\n",
       "                    <tr>\n",
       "                        <td colspan=\"2\" style=\"text-align: left;\">\n",
       "                            <strong>Local directory: </strong> /tmp/dask-worker-space/worker-b10p7bny\n",
       "                        </td>\n",
       "                    </tr>\n",
       "\n",
       "                    \n",
       "\n",
       "                    \n",
       "\n",
       "                </table>\n",
       "            </details>\n",
       "            </div>\n",
       "        </div>\n",
       "        \n",
       "\n",
       "    </details>\n",
       "</div>\n",
       "\n",
       "        </details>\n",
       "    </div>\n",
       "</div>\n",
       "            </details>\n",
       "        \n",
       "\n",
       "    </div>\n",
       "</div>"
      ],
      "text/plain": [
       "<Client: 'tcp://127.0.0.1:36975' processes=1 threads=15, memory=117.21 GiB>"
      ]
     },
     "metadata": {},
     "output_type": "display_data"
    },
    {
     "name": "stdout",
     "output_type": "stream",
     "text": [
      "<xarray.Dataset>\n",
      "Dimensions:      (time: 286, y: 858, x: 2941)\n",
      "Coordinates:\n",
      "  * time         (time) datetime64[ns] 2019-01-05T00:08:40.158000 ... 2021-12...\n",
      "  * y            (y) float64 -4.757e+06 -4.757e+06 ... -4.765e+06 -4.765e+06\n",
      "  * x            (x) float64 1.286e+06 1.286e+06 ... 1.316e+06 1.316e+06\n",
      "    spatial_ref  int32 3577\n",
      "Data variables:\n",
      "    ndwi         (time, y, x) float32 dask.array<chunksize=(1, 858, 1600), meta=np.ndarray>\n",
      "Attributes:\n",
      "    crs:           EPSG:3577\n",
      "    grid_mapping:  spatial_ref\n"
     ]
    },
    {
     "name": "stderr",
     "output_type": "stream",
     "text": [
      "/env/lib/python3.10/site-packages/datacube/drivers/driver_cache.py:54: DeprecationWarning: pkg_resources is deprecated as an API. See https://setuptools.pypa.io/en/latest/pkg_resources.html\n",
      "  from pkg_resources import iter_entry_points\n",
      "/env/lib/python3.10/site-packages/rasterio/warp.py:344: NotGeoreferencedWarning: Dataset has no geotransform, gcps, or rpcs. The identity matrix will be returned.\n",
      "  _reproject(\n"
     ]
    },
    {
     "name": "stdout",
     "output_type": "stream",
     "text": [
      "CPU times: user 12.5 s, sys: 3.36 s, total: 15.9 s\n",
      "Wall time: 1min 30s\n"
     ]
    },
    {
     "data": {
      "text/html": [
       "<div><svg style=\"position: absolute; width: 0; height: 0; overflow: hidden\">\n",
       "<defs>\n",
       "<symbol id=\"icon-database\" viewBox=\"0 0 32 32\">\n",
       "<path d=\"M16 0c-8.837 0-16 2.239-16 5v4c0 2.761 7.163 5 16 5s16-2.239 16-5v-4c0-2.761-7.163-5-16-5z\"></path>\n",
       "<path d=\"M16 17c-8.837 0-16-2.239-16-5v6c0 2.761 7.163 5 16 5s16-2.239 16-5v-6c0 2.761-7.163 5-16 5z\"></path>\n",
       "<path d=\"M16 26c-8.837 0-16-2.239-16-5v6c0 2.761 7.163 5 16 5s16-2.239 16-5v-6c0 2.761-7.163 5-16 5z\"></path>\n",
       "</symbol>\n",
       "<symbol id=\"icon-file-text2\" viewBox=\"0 0 32 32\">\n",
       "<path d=\"M28.681 7.159c-0.694-0.947-1.662-2.053-2.724-3.116s-2.169-2.030-3.116-2.724c-1.612-1.182-2.393-1.319-2.841-1.319h-15.5c-1.378 0-2.5 1.121-2.5 2.5v27c0 1.378 1.122 2.5 2.5 2.5h23c1.378 0 2.5-1.122 2.5-2.5v-19.5c0-0.448-0.137-1.23-1.319-2.841zM24.543 5.457c0.959 0.959 1.712 1.825 2.268 2.543h-4.811v-4.811c0.718 0.556 1.584 1.309 2.543 2.268zM28 29.5c0 0.271-0.229 0.5-0.5 0.5h-23c-0.271 0-0.5-0.229-0.5-0.5v-27c0-0.271 0.229-0.5 0.5-0.5 0 0 15.499-0 15.5 0v7c0 0.552 0.448 1 1 1h7v19.5z\"></path>\n",
       "<path d=\"M23 26h-14c-0.552 0-1-0.448-1-1s0.448-1 1-1h14c0.552 0 1 0.448 1 1s-0.448 1-1 1z\"></path>\n",
       "<path d=\"M23 22h-14c-0.552 0-1-0.448-1-1s0.448-1 1-1h14c0.552 0 1 0.448 1 1s-0.448 1-1 1z\"></path>\n",
       "<path d=\"M23 18h-14c-0.552 0-1-0.448-1-1s0.448-1 1-1h14c0.552 0 1 0.448 1 1s-0.448 1-1 1z\"></path>\n",
       "</symbol>\n",
       "</defs>\n",
       "</svg>\n",
       "<style>/* CSS stylesheet for displaying xarray objects in jupyterlab.\n",
       " *\n",
       " */\n",
       "\n",
       ":root {\n",
       "  --xr-font-color0: var(--jp-content-font-color0, rgba(0, 0, 0, 1));\n",
       "  --xr-font-color2: var(--jp-content-font-color2, rgba(0, 0, 0, 0.54));\n",
       "  --xr-font-color3: var(--jp-content-font-color3, rgba(0, 0, 0, 0.38));\n",
       "  --xr-border-color: var(--jp-border-color2, #e0e0e0);\n",
       "  --xr-disabled-color: var(--jp-layout-color3, #bdbdbd);\n",
       "  --xr-background-color: var(--jp-layout-color0, white);\n",
       "  --xr-background-color-row-even: var(--jp-layout-color1, white);\n",
       "  --xr-background-color-row-odd: var(--jp-layout-color2, #eeeeee);\n",
       "}\n",
       "\n",
       "html[theme=dark],\n",
       "body[data-theme=dark],\n",
       "body.vscode-dark {\n",
       "  --xr-font-color0: rgba(255, 255, 255, 1);\n",
       "  --xr-font-color2: rgba(255, 255, 255, 0.54);\n",
       "  --xr-font-color3: rgba(255, 255, 255, 0.38);\n",
       "  --xr-border-color: #1F1F1F;\n",
       "  --xr-disabled-color: #515151;\n",
       "  --xr-background-color: #111111;\n",
       "  --xr-background-color-row-even: #111111;\n",
       "  --xr-background-color-row-odd: #313131;\n",
       "}\n",
       "\n",
       ".xr-wrap {\n",
       "  display: block !important;\n",
       "  min-width: 300px;\n",
       "  max-width: 700px;\n",
       "}\n",
       "\n",
       ".xr-text-repr-fallback {\n",
       "  /* fallback to plain text repr when CSS is not injected (untrusted notebook) */\n",
       "  display: none;\n",
       "}\n",
       "\n",
       ".xr-header {\n",
       "  padding-top: 6px;\n",
       "  padding-bottom: 6px;\n",
       "  margin-bottom: 4px;\n",
       "  border-bottom: solid 1px var(--xr-border-color);\n",
       "}\n",
       "\n",
       ".xr-header > div,\n",
       ".xr-header > ul {\n",
       "  display: inline;\n",
       "  margin-top: 0;\n",
       "  margin-bottom: 0;\n",
       "}\n",
       "\n",
       ".xr-obj-type,\n",
       ".xr-array-name {\n",
       "  margin-left: 2px;\n",
       "  margin-right: 10px;\n",
       "}\n",
       "\n",
       ".xr-obj-type {\n",
       "  color: var(--xr-font-color2);\n",
       "}\n",
       "\n",
       ".xr-sections {\n",
       "  padding-left: 0 !important;\n",
       "  display: grid;\n",
       "  grid-template-columns: 150px auto auto 1fr 20px 20px;\n",
       "}\n",
       "\n",
       ".xr-section-item {\n",
       "  display: contents;\n",
       "}\n",
       "\n",
       ".xr-section-item input {\n",
       "  display: none;\n",
       "}\n",
       "\n",
       ".xr-section-item input + label {\n",
       "  color: var(--xr-disabled-color);\n",
       "}\n",
       "\n",
       ".xr-section-item input:enabled + label {\n",
       "  cursor: pointer;\n",
       "  color: var(--xr-font-color2);\n",
       "}\n",
       "\n",
       ".xr-section-item input:enabled + label:hover {\n",
       "  color: var(--xr-font-color0);\n",
       "}\n",
       "\n",
       ".xr-section-summary {\n",
       "  grid-column: 1;\n",
       "  color: var(--xr-font-color2);\n",
       "  font-weight: 500;\n",
       "}\n",
       "\n",
       ".xr-section-summary > span {\n",
       "  display: inline-block;\n",
       "  padding-left: 0.5em;\n",
       "}\n",
       "\n",
       ".xr-section-summary-in:disabled + label {\n",
       "  color: var(--xr-font-color2);\n",
       "}\n",
       "\n",
       ".xr-section-summary-in + label:before {\n",
       "  display: inline-block;\n",
       "  content: '►';\n",
       "  font-size: 11px;\n",
       "  width: 15px;\n",
       "  text-align: center;\n",
       "}\n",
       "\n",
       ".xr-section-summary-in:disabled + label:before {\n",
       "  color: var(--xr-disabled-color);\n",
       "}\n",
       "\n",
       ".xr-section-summary-in:checked + label:before {\n",
       "  content: '▼';\n",
       "}\n",
       "\n",
       ".xr-section-summary-in:checked + label > span {\n",
       "  display: none;\n",
       "}\n",
       "\n",
       ".xr-section-summary,\n",
       ".xr-section-inline-details {\n",
       "  padding-top: 4px;\n",
       "  padding-bottom: 4px;\n",
       "}\n",
       "\n",
       ".xr-section-inline-details {\n",
       "  grid-column: 2 / -1;\n",
       "}\n",
       "\n",
       ".xr-section-details {\n",
       "  display: none;\n",
       "  grid-column: 1 / -1;\n",
       "  margin-bottom: 5px;\n",
       "}\n",
       "\n",
       ".xr-section-summary-in:checked ~ .xr-section-details {\n",
       "  display: contents;\n",
       "}\n",
       "\n",
       ".xr-array-wrap {\n",
       "  grid-column: 1 / -1;\n",
       "  display: grid;\n",
       "  grid-template-columns: 20px auto;\n",
       "}\n",
       "\n",
       ".xr-array-wrap > label {\n",
       "  grid-column: 1;\n",
       "  vertical-align: top;\n",
       "}\n",
       "\n",
       ".xr-preview {\n",
       "  color: var(--xr-font-color3);\n",
       "}\n",
       "\n",
       ".xr-array-preview,\n",
       ".xr-array-data {\n",
       "  padding: 0 5px !important;\n",
       "  grid-column: 2;\n",
       "}\n",
       "\n",
       ".xr-array-data,\n",
       ".xr-array-in:checked ~ .xr-array-preview {\n",
       "  display: none;\n",
       "}\n",
       "\n",
       ".xr-array-in:checked ~ .xr-array-data,\n",
       ".xr-array-preview {\n",
       "  display: inline-block;\n",
       "}\n",
       "\n",
       ".xr-dim-list {\n",
       "  display: inline-block !important;\n",
       "  list-style: none;\n",
       "  padding: 0 !important;\n",
       "  margin: 0;\n",
       "}\n",
       "\n",
       ".xr-dim-list li {\n",
       "  display: inline-block;\n",
       "  padding: 0;\n",
       "  margin: 0;\n",
       "}\n",
       "\n",
       ".xr-dim-list:before {\n",
       "  content: '(';\n",
       "}\n",
       "\n",
       ".xr-dim-list:after {\n",
       "  content: ')';\n",
       "}\n",
       "\n",
       ".xr-dim-list li:not(:last-child):after {\n",
       "  content: ',';\n",
       "  padding-right: 5px;\n",
       "}\n",
       "\n",
       ".xr-has-index {\n",
       "  font-weight: bold;\n",
       "}\n",
       "\n",
       ".xr-var-list,\n",
       ".xr-var-item {\n",
       "  display: contents;\n",
       "}\n",
       "\n",
       ".xr-var-item > div,\n",
       ".xr-var-item label,\n",
       ".xr-var-item > .xr-var-name span {\n",
       "  background-color: var(--xr-background-color-row-even);\n",
       "  margin-bottom: 0;\n",
       "}\n",
       "\n",
       ".xr-var-item > .xr-var-name:hover span {\n",
       "  padding-right: 5px;\n",
       "}\n",
       "\n",
       ".xr-var-list > li:nth-child(odd) > div,\n",
       ".xr-var-list > li:nth-child(odd) > label,\n",
       ".xr-var-list > li:nth-child(odd) > .xr-var-name span {\n",
       "  background-color: var(--xr-background-color-row-odd);\n",
       "}\n",
       "\n",
       ".xr-var-name {\n",
       "  grid-column: 1;\n",
       "}\n",
       "\n",
       ".xr-var-dims {\n",
       "  grid-column: 2;\n",
       "}\n",
       "\n",
       ".xr-var-dtype {\n",
       "  grid-column: 3;\n",
       "  text-align: right;\n",
       "  color: var(--xr-font-color2);\n",
       "}\n",
       "\n",
       ".xr-var-preview {\n",
       "  grid-column: 4;\n",
       "}\n",
       "\n",
       ".xr-index-preview {\n",
       "  grid-column: 2 / 5;\n",
       "  color: var(--xr-font-color2);\n",
       "}\n",
       "\n",
       ".xr-var-name,\n",
       ".xr-var-dims,\n",
       ".xr-var-dtype,\n",
       ".xr-preview,\n",
       ".xr-attrs dt {\n",
       "  white-space: nowrap;\n",
       "  overflow: hidden;\n",
       "  text-overflow: ellipsis;\n",
       "  padding-right: 10px;\n",
       "}\n",
       "\n",
       ".xr-var-name:hover,\n",
       ".xr-var-dims:hover,\n",
       ".xr-var-dtype:hover,\n",
       ".xr-attrs dt:hover {\n",
       "  overflow: visible;\n",
       "  width: auto;\n",
       "  z-index: 1;\n",
       "}\n",
       "\n",
       ".xr-var-attrs,\n",
       ".xr-var-data,\n",
       ".xr-index-data {\n",
       "  display: none;\n",
       "  background-color: var(--xr-background-color) !important;\n",
       "  padding-bottom: 5px !important;\n",
       "}\n",
       "\n",
       ".xr-var-attrs-in:checked ~ .xr-var-attrs,\n",
       ".xr-var-data-in:checked ~ .xr-var-data,\n",
       ".xr-index-data-in:checked ~ .xr-index-data {\n",
       "  display: block;\n",
       "}\n",
       "\n",
       ".xr-var-data > table {\n",
       "  float: right;\n",
       "}\n",
       "\n",
       ".xr-var-name span,\n",
       ".xr-var-data,\n",
       ".xr-index-name div,\n",
       ".xr-index-data,\n",
       ".xr-attrs {\n",
       "  padding-left: 25px !important;\n",
       "}\n",
       "\n",
       ".xr-attrs,\n",
       ".xr-var-attrs,\n",
       ".xr-var-data,\n",
       ".xr-index-data {\n",
       "  grid-column: 1 / -1;\n",
       "}\n",
       "\n",
       "dl.xr-attrs {\n",
       "  padding: 0;\n",
       "  margin: 0;\n",
       "  display: grid;\n",
       "  grid-template-columns: 125px auto;\n",
       "}\n",
       "\n",
       ".xr-attrs dt,\n",
       ".xr-attrs dd {\n",
       "  padding: 0;\n",
       "  margin: 0;\n",
       "  float: left;\n",
       "  padding-right: 10px;\n",
       "  width: auto;\n",
       "}\n",
       "\n",
       ".xr-attrs dt {\n",
       "  font-weight: normal;\n",
       "  grid-column: 1;\n",
       "}\n",
       "\n",
       ".xr-attrs dt:hover span {\n",
       "  display: inline-block;\n",
       "  background: var(--xr-background-color);\n",
       "  padding-right: 10px;\n",
       "}\n",
       "\n",
       ".xr-attrs dd {\n",
       "  grid-column: 2;\n",
       "  white-space: pre-wrap;\n",
       "  word-break: break-all;\n",
       "}\n",
       "\n",
       ".xr-icon-database,\n",
       ".xr-icon-file-text2,\n",
       ".xr-no-icon {\n",
       "  display: inline-block;\n",
       "  vertical-align: middle;\n",
       "  width: 1em;\n",
       "  height: 1.5em !important;\n",
       "  stroke-width: 0;\n",
       "  stroke: currentColor;\n",
       "  fill: currentColor;\n",
       "}\n",
       "</style><pre class='xr-text-repr-fallback'>&lt;xarray.Dataset&gt;\n",
       "Dimensions:      (time: 286, y: 858, x: 2941)\n",
       "Coordinates:\n",
       "  * time         (time) datetime64[ns] 2019-01-05T00:08:40.158000 ... 2021-12...\n",
       "  * y            (y) float64 -4.757e+06 -4.757e+06 ... -4.765e+06 -4.765e+06\n",
       "  * x            (x) float64 1.286e+06 1.286e+06 ... 1.316e+06 1.316e+06\n",
       "    spatial_ref  int32 3577\n",
       "Data variables:\n",
       "    ndwi         (time, y, x) float32 nan nan nan nan nan ... nan nan nan nan\n",
       "Attributes:\n",
       "    crs:           EPSG:3577\n",
       "    grid_mapping:  spatial_ref</pre><div class='xr-wrap' style='display:none'><div class='xr-header'><div class='xr-obj-type'>xarray.Dataset</div></div><ul class='xr-sections'><li class='xr-section-item'><input id='section-b4ec13bf-2661-4457-b71f-0bd878c8cfe4' class='xr-section-summary-in' type='checkbox' disabled ><label for='section-b4ec13bf-2661-4457-b71f-0bd878c8cfe4' class='xr-section-summary'  title='Expand/collapse section'>Dimensions:</label><div class='xr-section-inline-details'><ul class='xr-dim-list'><li><span class='xr-has-index'>time</span>: 286</li><li><span class='xr-has-index'>y</span>: 858</li><li><span class='xr-has-index'>x</span>: 2941</li></ul></div><div class='xr-section-details'></div></li><li class='xr-section-item'><input id='section-c8e182c0-8671-4886-936f-bb364e8293bb' class='xr-section-summary-in' type='checkbox'  checked><label for='section-c8e182c0-8671-4886-936f-bb364e8293bb' class='xr-section-summary' >Coordinates: <span>(4)</span></label><div class='xr-section-inline-details'></div><div class='xr-section-details'><ul class='xr-var-list'><li class='xr-var-item'><div class='xr-var-name'><span class='xr-has-index'>time</span></div><div class='xr-var-dims'>(time)</div><div class='xr-var-dtype'>datetime64[ns]</div><div class='xr-var-preview xr-preview'>2019-01-05T00:08:40.158000 ... 2...</div><input id='attrs-b2316c61-c40b-4d06-80c0-4e44c17f0941' class='xr-var-attrs-in' type='checkbox' ><label for='attrs-b2316c61-c40b-4d06-80c0-4e44c17f0941' title='Show/Hide attributes'><svg class='icon xr-icon-file-text2'><use xlink:href='#icon-file-text2'></use></svg></label><input id='data-d057ae43-9975-4807-a898-70334fd0adfb' class='xr-var-data-in' type='checkbox'><label for='data-d057ae43-9975-4807-a898-70334fd0adfb' title='Show/Hide data repr'><svg class='icon xr-icon-database'><use xlink:href='#icon-database'></use></svg></label><div class='xr-var-attrs'><dl class='xr-attrs'><dt><span>units :</span></dt><dd>seconds since 1970-01-01 00:00:00</dd></dl></div><div class='xr-var-data'><pre>array([&#x27;2019-01-05T00:08:40.158000000&#x27;, &#x27;2019-01-05T23:47:46.316070000&#x27;,\n",
       "       &#x27;2019-01-10T00:08:44.437000000&#x27;, ..., &#x27;2021-12-28T22:40:22.389247000&#x27;,\n",
       "       &#x27;2021-12-29T23:46:45.931521000&#x27;, &#x27;2021-12-30T00:08:47.203780000&#x27;],\n",
       "      dtype=&#x27;datetime64[ns]&#x27;)</pre></div></li><li class='xr-var-item'><div class='xr-var-name'><span class='xr-has-index'>y</span></div><div class='xr-var-dims'>(y)</div><div class='xr-var-dtype'>float64</div><div class='xr-var-preview xr-preview'>-4.757e+06 ... -4.765e+06</div><input id='attrs-55ff88f6-9c65-44dc-8148-cc4db5734816' class='xr-var-attrs-in' type='checkbox' ><label for='attrs-55ff88f6-9c65-44dc-8148-cc4db5734816' title='Show/Hide attributes'><svg class='icon xr-icon-file-text2'><use xlink:href='#icon-file-text2'></use></svg></label><input id='data-61ab80c2-4826-4552-843d-8a07d2ee220b' class='xr-var-data-in' type='checkbox'><label for='data-61ab80c2-4826-4552-843d-8a07d2ee220b' title='Show/Hide data repr'><svg class='icon xr-icon-database'><use xlink:href='#icon-database'></use></svg></label><div class='xr-var-attrs'><dl class='xr-attrs'><dt><span>units :</span></dt><dd>metre</dd><dt><span>resolution :</span></dt><dd>-10.0</dd><dt><span>crs :</span></dt><dd>EPSG:3577</dd></dl></div><div class='xr-var-data'><pre>array([-4756805., -4756815., -4756825., ..., -4765355., -4765365., -4765375.])</pre></div></li><li class='xr-var-item'><div class='xr-var-name'><span class='xr-has-index'>x</span></div><div class='xr-var-dims'>(x)</div><div class='xr-var-dtype'>float64</div><div class='xr-var-preview xr-preview'>1.286e+06 1.286e+06 ... 1.316e+06</div><input id='attrs-9c5c11b1-6848-4a16-839b-6907aaa217a6' class='xr-var-attrs-in' type='checkbox' ><label for='attrs-9c5c11b1-6848-4a16-839b-6907aaa217a6' title='Show/Hide attributes'><svg class='icon xr-icon-file-text2'><use xlink:href='#icon-file-text2'></use></svg></label><input id='data-bc2b2b9d-09b4-4237-b235-00f78cbf9ded' class='xr-var-data-in' type='checkbox'><label for='data-bc2b2b9d-09b4-4237-b235-00f78cbf9ded' title='Show/Hide data repr'><svg class='icon xr-icon-database'><use xlink:href='#icon-database'></use></svg></label><div class='xr-var-attrs'><dl class='xr-attrs'><dt><span>units :</span></dt><dd>metre</dd><dt><span>resolution :</span></dt><dd>10.0</dd><dt><span>crs :</span></dt><dd>EPSG:3577</dd></dl></div><div class='xr-var-data'><pre>array([1286295., 1286305., 1286315., ..., 1315675., 1315685., 1315695.])</pre></div></li><li class='xr-var-item'><div class='xr-var-name'><span>spatial_ref</span></div><div class='xr-var-dims'>()</div><div class='xr-var-dtype'>int32</div><div class='xr-var-preview xr-preview'>3577</div><input id='attrs-cf100e5a-da22-4aa7-b7f3-7a9ebbae6250' class='xr-var-attrs-in' type='checkbox' ><label for='attrs-cf100e5a-da22-4aa7-b7f3-7a9ebbae6250' title='Show/Hide attributes'><svg class='icon xr-icon-file-text2'><use xlink:href='#icon-file-text2'></use></svg></label><input id='data-a0961ac6-929a-4a07-b832-832d24845884' class='xr-var-data-in' type='checkbox'><label for='data-a0961ac6-929a-4a07-b832-832d24845884' title='Show/Hide data repr'><svg class='icon xr-icon-database'><use xlink:href='#icon-database'></use></svg></label><div class='xr-var-attrs'><dl class='xr-attrs'><dt><span>spatial_ref :</span></dt><dd>PROJCS[&quot;GDA94 / Australian Albers&quot;,GEOGCS[&quot;GDA94&quot;,DATUM[&quot;Geocentric_Datum_of_Australia_1994&quot;,SPHEROID[&quot;GRS 1980&quot;,6378137,298.257222101,AUTHORITY[&quot;EPSG&quot;,&quot;7019&quot;]],AUTHORITY[&quot;EPSG&quot;,&quot;6283&quot;]],PRIMEM[&quot;Greenwich&quot;,0,AUTHORITY[&quot;EPSG&quot;,&quot;8901&quot;]],UNIT[&quot;degree&quot;,0.0174532925199433,AUTHORITY[&quot;EPSG&quot;,&quot;9122&quot;]],AUTHORITY[&quot;EPSG&quot;,&quot;4283&quot;]],PROJECTION[&quot;Albers_Conic_Equal_Area&quot;],PARAMETER[&quot;latitude_of_center&quot;,0],PARAMETER[&quot;longitude_of_center&quot;,132],PARAMETER[&quot;standard_parallel_1&quot;,-18],PARAMETER[&quot;standard_parallel_2&quot;,-36],PARAMETER[&quot;false_easting&quot;,0],PARAMETER[&quot;false_northing&quot;,0],UNIT[&quot;metre&quot;,1,AUTHORITY[&quot;EPSG&quot;,&quot;9001&quot;]],AXIS[&quot;Easting&quot;,EAST],AXIS[&quot;Northing&quot;,NORTH],AUTHORITY[&quot;EPSG&quot;,&quot;3577&quot;]]</dd><dt><span>grid_mapping_name :</span></dt><dd>albers_conical_equal_area</dd></dl></div><div class='xr-var-data'><pre>array(3577, dtype=int32)</pre></div></li></ul></div></li><li class='xr-section-item'><input id='section-275065eb-5267-49f8-aa5d-fea795e78791' class='xr-section-summary-in' type='checkbox'  checked><label for='section-275065eb-5267-49f8-aa5d-fea795e78791' class='xr-section-summary' >Data variables: <span>(1)</span></label><div class='xr-section-inline-details'></div><div class='xr-section-details'><ul class='xr-var-list'><li class='xr-var-item'><div class='xr-var-name'><span>ndwi</span></div><div class='xr-var-dims'>(time, y, x)</div><div class='xr-var-dtype'>float32</div><div class='xr-var-preview xr-preview'>nan nan nan nan ... nan nan nan nan</div><input id='attrs-9762a057-2946-4dbf-9f9f-704deb355bcc' class='xr-var-attrs-in' type='checkbox' disabled><label for='attrs-9762a057-2946-4dbf-9f9f-704deb355bcc' title='Show/Hide attributes'><svg class='icon xr-icon-file-text2'><use xlink:href='#icon-file-text2'></use></svg></label><input id='data-ada98c9f-c817-43ec-b040-2e0ac86ae2fd' class='xr-var-data-in' type='checkbox'><label for='data-ada98c9f-c817-43ec-b040-2e0ac86ae2fd' title='Show/Hide data repr'><svg class='icon xr-icon-database'><use xlink:href='#icon-database'></use></svg></label><div class='xr-var-attrs'><dl class='xr-attrs'></dl></div><div class='xr-var-data'><pre>array([[[        nan,         nan,         nan, ..., -0.42474344,\n",
       "         -0.42129105, -0.42342874],\n",
       "        [        nan,         nan,         nan, ..., -0.41795665,\n",
       "         -0.41880825, -0.42321017],\n",
       "        [        nan,         nan,         nan, ..., -0.42321885,\n",
       "         -0.41317365, -0.41373342],\n",
       "        ...,\n",
       "        [-0.6371191 , -0.65296054, -0.6632411 , ...,         nan,\n",
       "                 nan,         nan],\n",
       "        [-0.677266  , -0.7003024 , -0.6924262 , ...,         nan,\n",
       "                 nan,         nan],\n",
       "        [-0.6821608 , -0.69416016, -0.685467  , ...,         nan,\n",
       "                 nan,         nan]],\n",
       "\n",
       "       [[        nan,         nan,         nan, ..., -0.54520875,\n",
       "         -0.5446481 , -0.5447482 ],\n",
       "        [        nan,         nan,         nan, ..., -0.5439528 ,\n",
       "         -0.54236805, -0.5412343 ],\n",
       "        [        nan,         nan,         nan, ..., -0.5397465 ,\n",
       "         -0.539779  , -0.5408888 ],\n",
       "...\n",
       "        [        nan,         nan,         nan, ..., -0.30130354,\n",
       "         -0.301487  , -0.3003213 ],\n",
       "        [        nan,         nan,         nan, ..., -0.263578  ,\n",
       "         -0.2655544 , -0.26652452],\n",
       "        [        nan,         nan,         nan, ..., -0.23815878,\n",
       "         -0.23921044, -0.2358459 ]],\n",
       "\n",
       "       [[        nan,         nan,         nan, ...,         nan,\n",
       "                 nan,         nan],\n",
       "        [        nan,         nan,         nan, ...,         nan,\n",
       "                 nan,         nan],\n",
       "        [        nan,         nan,         nan, ...,         nan,\n",
       "                 nan,         nan],\n",
       "        ...,\n",
       "        [-0.5825352 , -0.5951462 , -0.59511757, ...,         nan,\n",
       "                 nan,         nan],\n",
       "        [-0.59245497, -0.5887796 , -0.58839697, ...,         nan,\n",
       "                 nan,         nan],\n",
       "        [-0.5854092 , -0.5800312 , -0.57506204, ...,         nan,\n",
       "                 nan,         nan]]], dtype=float32)</pre></div></li></ul></div></li><li class='xr-section-item'><input id='section-3bc51547-f462-4fc5-baa1-96912d850f67' class='xr-section-summary-in' type='checkbox'  ><label for='section-3bc51547-f462-4fc5-baa1-96912d850f67' class='xr-section-summary' >Indexes: <span>(3)</span></label><div class='xr-section-inline-details'></div><div class='xr-section-details'><ul class='xr-var-list'><li class='xr-var-item'><div class='xr-index-name'><div>time</div></div><div class='xr-index-preview'>PandasIndex</div><div></div><input id='index-62f1cb62-4681-42cb-aabd-5c06eade91d6' class='xr-index-data-in' type='checkbox'/><label for='index-62f1cb62-4681-42cb-aabd-5c06eade91d6' title='Show/Hide index repr'><svg class='icon xr-icon-database'><use xlink:href='#icon-database'></use></svg></label><div class='xr-index-data'><pre>PandasIndex(DatetimeIndex([&#x27;2019-01-05 00:08:40.158000&#x27;, &#x27;2019-01-05 23:47:46.316070&#x27;,\n",
       "               &#x27;2019-01-10 00:08:44.437000&#x27;, &#x27;2019-01-13 23:52:32.053478&#x27;,\n",
       "               &#x27;2019-01-15 00:08:41.452000&#x27;, &#x27;2019-01-20 00:08:45.415000&#x27;,\n",
       "               &#x27;2019-01-21 23:47:15.621320&#x27;, &#x27;2019-01-22 23:46:18.934655&#x27;,\n",
       "               &#x27;2019-01-29 23:52:28.066822&#x27;, &#x27;2019-01-30 00:08:45.835000&#x27;,\n",
       "               ...\n",
       "               &#x27;2021-12-10 00:08:44.210986&#x27;, &#x27;2021-12-12 22:41:56.772917&#x27;,\n",
       "               &#x27;2021-12-15 00:08:39.512917&#x27;, &#x27;2021-12-20 00:08:46.340186&#x27;,\n",
       "               &#x27;2021-12-20 23:53:00.851420&#x27;, &#x27;2021-12-21 23:46:47.942461&#x27;,\n",
       "               &#x27;2021-12-25 00:08:40.871252&#x27;, &#x27;2021-12-28 22:40:22.389247&#x27;,\n",
       "               &#x27;2021-12-29 23:46:45.931521&#x27;, &#x27;2021-12-30 00:08:47.203780&#x27;],\n",
       "              dtype=&#x27;datetime64[ns]&#x27;, name=&#x27;time&#x27;, length=286, freq=None))</pre></div></li><li class='xr-var-item'><div class='xr-index-name'><div>y</div></div><div class='xr-index-preview'>PandasIndex</div><div></div><input id='index-18d3351b-ef2c-4e23-a093-2633ca01bfb7' class='xr-index-data-in' type='checkbox'/><label for='index-18d3351b-ef2c-4e23-a093-2633ca01bfb7' title='Show/Hide index repr'><svg class='icon xr-icon-database'><use xlink:href='#icon-database'></use></svg></label><div class='xr-index-data'><pre>PandasIndex(Float64Index([-4756805.0, -4756815.0, -4756825.0, -4756835.0, -4756845.0,\n",
       "              -4756855.0, -4756865.0, -4756875.0, -4756885.0, -4756895.0,\n",
       "              ...\n",
       "              -4765285.0, -4765295.0, -4765305.0, -4765315.0, -4765325.0,\n",
       "              -4765335.0, -4765345.0, -4765355.0, -4765365.0, -4765375.0],\n",
       "             dtype=&#x27;float64&#x27;, name=&#x27;y&#x27;, length=858))</pre></div></li><li class='xr-var-item'><div class='xr-index-name'><div>x</div></div><div class='xr-index-preview'>PandasIndex</div><div></div><input id='index-3c49abad-377b-44cb-9c16-81dc3cd45a25' class='xr-index-data-in' type='checkbox'/><label for='index-3c49abad-377b-44cb-9c16-81dc3cd45a25' title='Show/Hide index repr'><svg class='icon xr-icon-database'><use xlink:href='#icon-database'></use></svg></label><div class='xr-index-data'><pre>PandasIndex(Float64Index([1286295.0, 1286305.0, 1286315.0, 1286325.0, 1286335.0, 1286345.0,\n",
       "              1286355.0, 1286365.0, 1286375.0, 1286385.0,\n",
       "              ...\n",
       "              1315605.0, 1315615.0, 1315625.0, 1315635.0, 1315645.0, 1315655.0,\n",
       "              1315665.0, 1315675.0, 1315685.0, 1315695.0],\n",
       "             dtype=&#x27;float64&#x27;, name=&#x27;x&#x27;, length=2941))</pre></div></li></ul></div></li><li class='xr-section-item'><input id='section-6d28034e-f789-4277-9ca2-50d4e606004f' class='xr-section-summary-in' type='checkbox'  checked><label for='section-6d28034e-f789-4277-9ca2-50d4e606004f' class='xr-section-summary' >Attributes: <span>(2)</span></label><div class='xr-section-inline-details'></div><div class='xr-section-details'><dl class='xr-attrs'><dt><span>crs :</span></dt><dd>EPSG:3577</dd><dt><span>grid_mapping :</span></dt><dd>spatial_ref</dd></dl></div></li></ul></div></div>"
      ],
      "text/plain": [
       "<xarray.Dataset>\n",
       "Dimensions:      (time: 286, y: 858, x: 2941)\n",
       "Coordinates:\n",
       "  * time         (time) datetime64[ns] 2019-01-05T00:08:40.158000 ... 2021-12...\n",
       "  * y            (y) float64 -4.757e+06 -4.757e+06 ... -4.765e+06 -4.765e+06\n",
       "  * x            (x) float64 1.286e+06 1.286e+06 ... 1.316e+06 1.316e+06\n",
       "    spatial_ref  int32 3577\n",
       "Data variables:\n",
       "    ndwi         (time, y, x) float32 nan nan nan nan nan ... nan nan nan nan\n",
       "Attributes:\n",
       "    crs:           EPSG:3577\n",
       "    grid_mapping:  spatial_ref"
      ]
     },
     "execution_count": 31,
     "metadata": {},
     "output_type": "execute_result"
    }
   ],
   "source": [
    "%%time\n",
    "\n",
    "# Connect to datacube\n",
    "dc = datacube.Datacube(app=\"Intertidal_elevation\")\n",
    "\n",
    "# Create local dask cluster to improve data load time\n",
    "client = create_local_dask_cluster(return_client=True)\n",
    "\n",
    "satellite_ds = load_data(\n",
    "    dc=dc,\n",
    "    study_area=study_area,\n",
    "    geom=geom,\n",
    "    time_range=(start_date, end_date),\n",
    "    resolution=resolution,\n",
    "    crs=crs,\n",
    "    include_s2=True,\n",
    "    include_ls=True,\n",
    "    filter_gqa=filter_gqa,\n",
    "    max_cloudcover=90,\n",
    "    skip_broken_datasets=True,\n",
    ")\n",
    "\n",
    "print(satellite_ds)\n",
    "\n",
    "# Load data\n",
    "satellite_ds.load()"
   ]
  },
  {
   "cell_type": "markdown",
   "id": "6a0020d0-69be-4522-93d5-dede79e7591f",
   "metadata": {},
   "source": [
    "### Load optional topobathy mask\n",
    "Loads a topo-bathymetric DEM for the extents of the loaded satellite data.\n",
    "This is used as a coarse mask to constrain the analysis to the coastal zone, improving run time and reducing clear false positives over deep water or elevated land."
   ]
  },
  {
   "cell_type": "code",
   "execution_count": 32,
   "id": "bafd49db-52c8-4796-a2f5-da568da9b86d",
   "metadata": {
    "tags": []
   },
   "outputs": [],
   "source": [
    "# Load data from GA's Australian Bathymetry and Topography Grid 2009\n",
    "topobathy_ds = load_topobathy(\n",
    "    dc, satellite_ds, product=\"ga_multi_ausbath_0\", resampling=\"bilinear\"\n",
    ")"
   ]
  },
  {
   "cell_type": "markdown",
   "id": "5b00d348-b532-4ccf-a0e1-51c5c189e735",
   "metadata": {},
   "source": [
    "### Intertidal elevation\n",
    "To run without the topobathy DEM mask, comment out `valid_mask=...`."
   ]
  },
  {
   "cell_type": "code",
   "execution_count": 33,
   "id": "d7f1d42b-343c-47b4-bdd9-465efd407280",
   "metadata": {
    "tags": []
   },
   "outputs": [
    {
     "name": "stderr",
     "output_type": "stream",
     "text": [
      "2023-12-15 01:35:41 INFO Modelling tide heights for each pixel\n"
     ]
    },
    {
     "name": "stdout",
     "output_type": "stream",
     "text": [
      "Creating reduced resolution 3000 x 3000 metre tide modelling array\n",
      "Modelling tides using FES2014, FES2012, TPXO8-atlas-v1, TPXO9-atlas-v5, EOT20, HAMTIDE11, GOT4.10 in parallel\n"
     ]
    },
    {
     "name": "stderr",
     "output_type": "stream",
     "text": [
      "100%|██████████| 35/35 [00:23<00:00,  1.49it/s]\n"
     ]
    },
    {
     "name": "stdout",
     "output_type": "stream",
     "text": [
      "Returning low resolution tide array\n",
      "Generating ensemble tide model from point inputs\n"
     ]
    },
    {
     "name": "stderr",
     "output_type": "stream",
     "text": [
      "2023-12-15 01:36:19 INFO Masking nodata and adding tide heights to satellite data array\n",
      "2023-12-15 01:36:22 INFO Flattening satellite data array and filtering to intertidal candidate pixels\n",
      "2023-12-15 01:36:22 INFO Applying valid data mask to constrain study area\n",
      "2023-12-15 01:36:51 INFO Running per-pixel rolling median\n"
     ]
    },
    {
     "name": "stdout",
     "output_type": "stream",
     "text": [
      "Reducing analysed pixels from 2517981 to 173732 (6.90%)\n"
     ]
    },
    {
     "data": {
      "application/vnd.jupyter.widget-view+json": {
       "model_id": "5735671982c749f5ac6e755e3b40497b",
       "version_major": 2,
       "version_minor": 0
      },
      "text/plain": [
       "  0%|          | 0/105 [00:00<?, ?it/s]"
      ]
     },
     "metadata": {},
     "output_type": "display_data"
    },
    {
     "name": "stderr",
     "output_type": "stream",
     "text": [
      "2023-12-15 01:39:05 INFO Modelling intertidal elevation\n"
     ]
    },
    {
     "name": "stdout",
     "output_type": "stream",
     "text": [
      "Applying tidal interval interpolation to 200 intervals\n",
      "Applying rolling mean smoothing with radius 20\n"
     ]
    },
    {
     "name": "stderr",
     "output_type": "stream",
     "text": [
      "2023-12-15 01:39:07 INFO Modelling intertidal uncertainty\n",
      "2023-12-15 01:39:09,897 - distributed.utils_perf - WARNING - full garbage collections took 10% CPU time recently (threshold: 10%)\n",
      "2023-12-15 01:39:10,302 - distributed.utils_perf - WARNING - full garbage collections took 10% CPU time recently (threshold: 10%)\n",
      "2023-12-15 01:39:11,106 - distributed.utils_perf - WARNING - full garbage collections took 10% CPU time recently (threshold: 10%)\n",
      "2023-12-15 01:39:11,461 - distributed.utils_perf - WARNING - full garbage collections took 10% CPU time recently (threshold: 10%)\n",
      "2023-12-15 01:39:11,847 - distributed.utils_perf - WARNING - full garbage collections took 10% CPU time recently (threshold: 10%)\n",
      "2023-12-15 01:39:12,742 - distributed.utils_perf - WARNING - full garbage collections took 10% CPU time recently (threshold: 10%)\n",
      "2023-12-15 01:39:13,089 - distributed.utils_perf - WARNING - full garbage collections took 10% CPU time recently (threshold: 10%)\n",
      "2023-12-15 01:39:13,480 - distributed.utils_perf - WARNING - full garbage collections took 10% CPU time recently (threshold: 10%)\n",
      "2023-12-15 01:39:13,905 - distributed.utils_perf - WARNING - full garbage collections took 10% CPU time recently (threshold: 10%)\n",
      "2023-12-15 01:39:14,374 - distributed.utils_perf - WARNING - full garbage collections took 10% CPU time recently (threshold: 10%)\n",
      "2023-12-15 01:39:14,948 - distributed.utils_perf - WARNING - full garbage collections took 11% CPU time recently (threshold: 10%)\n",
      "2023-12-15 01:39:15,281 - distributed.utils_perf - WARNING - full garbage collections took 10% CPU time recently (threshold: 10%)\n",
      "2023-12-15 01:39:15,627 - distributed.utils_perf - WARNING - full garbage collections took 11% CPU time recently (threshold: 10%)\n",
      "2023-12-15 01:39:17,618 - distributed.utils_perf - WARNING - full garbage collections took 11% CPU time recently (threshold: 10%)\n",
      "2023-12-15 01:39:17,993 - distributed.utils_perf - WARNING - full garbage collections took 11% CPU time recently (threshold: 10%)\n",
      "2023-12-15 01:39:18,387 - distributed.utils_perf - WARNING - full garbage collections took 11% CPU time recently (threshold: 10%)\n",
      "2023-12-15 01:39:18,798 - distributed.utils_perf - WARNING - full garbage collections took 11% CPU time recently (threshold: 10%)\n",
      "2023-12-15 01:39:19,236 - distributed.utils_perf - WARNING - full garbage collections took 11% CPU time recently (threshold: 10%)\n",
      "2023-12-15 01:39:19,708 - distributed.utils_perf - WARNING - full garbage collections took 11% CPU time recently (threshold: 10%)\n",
      "2023-12-15 01:39:20,217 - distributed.utils_perf - WARNING - full garbage collections took 11% CPU time recently (threshold: 10%)\n",
      "2023-12-15 01:39:21,637 - distributed.utils_perf - WARNING - full garbage collections took 11% CPU time recently (threshold: 10%)\n",
      "2023-12-15 01:39:22,001 - distributed.utils_perf - WARNING - full garbage collections took 11% CPU time recently (threshold: 10%)\n",
      "2023-12-15 01:39:22,402 - distributed.utils_perf - WARNING - full garbage collections took 11% CPU time recently (threshold: 10%)\n",
      "2023-12-15 01:39:22,858 - distributed.utils_perf - WARNING - full garbage collections took 11% CPU time recently (threshold: 10%)\n",
      "2023-12-15 01:39:23,356 - distributed.utils_perf - WARNING - full garbage collections took 15% CPU time recently (threshold: 10%)\n",
      "2023-12-15 01:39:25 INFO Unflattening data back to its original spatial dimensions\n",
      "2023-12-15 01:39:25 INFO Cleaning inaccurate upper intertidal pixels\n",
      "2023-12-15 01:39:25 INFO Successfully completed intertidal elevation modelling\n"
     ]
    }
   ],
   "source": [
    "# Model elevation for each pixel\n",
    "ds, ds_aux, tide_m = elevation(\n",
    "    satellite_ds,\n",
    "    valid_mask=topobathy_ds.height_depth > -20,\n",
    "    tide_model=tide_model,\n",
    "    tide_model_dir=tide_model_dir,\n",
    ")"
   ]
  },
  {
   "cell_type": "code",
   "execution_count": 41,
   "id": "be0e32ff-1984-4e9d-b1ea-d73d20089345",
   "metadata": {
    "tags": []
   },
   "outputs": [
    {
     "data": {
      "text/html": [
       "<div><svg style=\"position: absolute; width: 0; height: 0; overflow: hidden\">\n",
       "<defs>\n",
       "<symbol id=\"icon-database\" viewBox=\"0 0 32 32\">\n",
       "<path d=\"M16 0c-8.837 0-16 2.239-16 5v4c0 2.761 7.163 5 16 5s16-2.239 16-5v-4c0-2.761-7.163-5-16-5z\"></path>\n",
       "<path d=\"M16 17c-8.837 0-16-2.239-16-5v6c0 2.761 7.163 5 16 5s16-2.239 16-5v-6c0 2.761-7.163 5-16 5z\"></path>\n",
       "<path d=\"M16 26c-8.837 0-16-2.239-16-5v6c0 2.761 7.163 5 16 5s16-2.239 16-5v-6c0 2.761-7.163 5-16 5z\"></path>\n",
       "</symbol>\n",
       "<symbol id=\"icon-file-text2\" viewBox=\"0 0 32 32\">\n",
       "<path d=\"M28.681 7.159c-0.694-0.947-1.662-2.053-2.724-3.116s-2.169-2.030-3.116-2.724c-1.612-1.182-2.393-1.319-2.841-1.319h-15.5c-1.378 0-2.5 1.121-2.5 2.5v27c0 1.378 1.122 2.5 2.5 2.5h23c1.378 0 2.5-1.122 2.5-2.5v-19.5c0-0.448-0.137-1.23-1.319-2.841zM24.543 5.457c0.959 0.959 1.712 1.825 2.268 2.543h-4.811v-4.811c0.718 0.556 1.584 1.309 2.543 2.268zM28 29.5c0 0.271-0.229 0.5-0.5 0.5h-23c-0.271 0-0.5-0.229-0.5-0.5v-27c0-0.271 0.229-0.5 0.5-0.5 0 0 15.499-0 15.5 0v7c0 0.552 0.448 1 1 1h7v19.5z\"></path>\n",
       "<path d=\"M23 26h-14c-0.552 0-1-0.448-1-1s0.448-1 1-1h14c0.552 0 1 0.448 1 1s-0.448 1-1 1z\"></path>\n",
       "<path d=\"M23 22h-14c-0.552 0-1-0.448-1-1s0.448-1 1-1h14c0.552 0 1 0.448 1 1s-0.448 1-1 1z\"></path>\n",
       "<path d=\"M23 18h-14c-0.552 0-1-0.448-1-1s0.448-1 1-1h14c0.552 0 1 0.448 1 1s-0.448 1-1 1z\"></path>\n",
       "</symbol>\n",
       "</defs>\n",
       "</svg>\n",
       "<style>/* CSS stylesheet for displaying xarray objects in jupyterlab.\n",
       " *\n",
       " */\n",
       "\n",
       ":root {\n",
       "  --xr-font-color0: var(--jp-content-font-color0, rgba(0, 0, 0, 1));\n",
       "  --xr-font-color2: var(--jp-content-font-color2, rgba(0, 0, 0, 0.54));\n",
       "  --xr-font-color3: var(--jp-content-font-color3, rgba(0, 0, 0, 0.38));\n",
       "  --xr-border-color: var(--jp-border-color2, #e0e0e0);\n",
       "  --xr-disabled-color: var(--jp-layout-color3, #bdbdbd);\n",
       "  --xr-background-color: var(--jp-layout-color0, white);\n",
       "  --xr-background-color-row-even: var(--jp-layout-color1, white);\n",
       "  --xr-background-color-row-odd: var(--jp-layout-color2, #eeeeee);\n",
       "}\n",
       "\n",
       "html[theme=dark],\n",
       "body[data-theme=dark],\n",
       "body.vscode-dark {\n",
       "  --xr-font-color0: rgba(255, 255, 255, 1);\n",
       "  --xr-font-color2: rgba(255, 255, 255, 0.54);\n",
       "  --xr-font-color3: rgba(255, 255, 255, 0.38);\n",
       "  --xr-border-color: #1F1F1F;\n",
       "  --xr-disabled-color: #515151;\n",
       "  --xr-background-color: #111111;\n",
       "  --xr-background-color-row-even: #111111;\n",
       "  --xr-background-color-row-odd: #313131;\n",
       "}\n",
       "\n",
       ".xr-wrap {\n",
       "  display: block !important;\n",
       "  min-width: 300px;\n",
       "  max-width: 700px;\n",
       "}\n",
       "\n",
       ".xr-text-repr-fallback {\n",
       "  /* fallback to plain text repr when CSS is not injected (untrusted notebook) */\n",
       "  display: none;\n",
       "}\n",
       "\n",
       ".xr-header {\n",
       "  padding-top: 6px;\n",
       "  padding-bottom: 6px;\n",
       "  margin-bottom: 4px;\n",
       "  border-bottom: solid 1px var(--xr-border-color);\n",
       "}\n",
       "\n",
       ".xr-header > div,\n",
       ".xr-header > ul {\n",
       "  display: inline;\n",
       "  margin-top: 0;\n",
       "  margin-bottom: 0;\n",
       "}\n",
       "\n",
       ".xr-obj-type,\n",
       ".xr-array-name {\n",
       "  margin-left: 2px;\n",
       "  margin-right: 10px;\n",
       "}\n",
       "\n",
       ".xr-obj-type {\n",
       "  color: var(--xr-font-color2);\n",
       "}\n",
       "\n",
       ".xr-sections {\n",
       "  padding-left: 0 !important;\n",
       "  display: grid;\n",
       "  grid-template-columns: 150px auto auto 1fr 20px 20px;\n",
       "}\n",
       "\n",
       ".xr-section-item {\n",
       "  display: contents;\n",
       "}\n",
       "\n",
       ".xr-section-item input {\n",
       "  display: none;\n",
       "}\n",
       "\n",
       ".xr-section-item input + label {\n",
       "  color: var(--xr-disabled-color);\n",
       "}\n",
       "\n",
       ".xr-section-item input:enabled + label {\n",
       "  cursor: pointer;\n",
       "  color: var(--xr-font-color2);\n",
       "}\n",
       "\n",
       ".xr-section-item input:enabled + label:hover {\n",
       "  color: var(--xr-font-color0);\n",
       "}\n",
       "\n",
       ".xr-section-summary {\n",
       "  grid-column: 1;\n",
       "  color: var(--xr-font-color2);\n",
       "  font-weight: 500;\n",
       "}\n",
       "\n",
       ".xr-section-summary > span {\n",
       "  display: inline-block;\n",
       "  padding-left: 0.5em;\n",
       "}\n",
       "\n",
       ".xr-section-summary-in:disabled + label {\n",
       "  color: var(--xr-font-color2);\n",
       "}\n",
       "\n",
       ".xr-section-summary-in + label:before {\n",
       "  display: inline-block;\n",
       "  content: '►';\n",
       "  font-size: 11px;\n",
       "  width: 15px;\n",
       "  text-align: center;\n",
       "}\n",
       "\n",
       ".xr-section-summary-in:disabled + label:before {\n",
       "  color: var(--xr-disabled-color);\n",
       "}\n",
       "\n",
       ".xr-section-summary-in:checked + label:before {\n",
       "  content: '▼';\n",
       "}\n",
       "\n",
       ".xr-section-summary-in:checked + label > span {\n",
       "  display: none;\n",
       "}\n",
       "\n",
       ".xr-section-summary,\n",
       ".xr-section-inline-details {\n",
       "  padding-top: 4px;\n",
       "  padding-bottom: 4px;\n",
       "}\n",
       "\n",
       ".xr-section-inline-details {\n",
       "  grid-column: 2 / -1;\n",
       "}\n",
       "\n",
       ".xr-section-details {\n",
       "  display: none;\n",
       "  grid-column: 1 / -1;\n",
       "  margin-bottom: 5px;\n",
       "}\n",
       "\n",
       ".xr-section-summary-in:checked ~ .xr-section-details {\n",
       "  display: contents;\n",
       "}\n",
       "\n",
       ".xr-array-wrap {\n",
       "  grid-column: 1 / -1;\n",
       "  display: grid;\n",
       "  grid-template-columns: 20px auto;\n",
       "}\n",
       "\n",
       ".xr-array-wrap > label {\n",
       "  grid-column: 1;\n",
       "  vertical-align: top;\n",
       "}\n",
       "\n",
       ".xr-preview {\n",
       "  color: var(--xr-font-color3);\n",
       "}\n",
       "\n",
       ".xr-array-preview,\n",
       ".xr-array-data {\n",
       "  padding: 0 5px !important;\n",
       "  grid-column: 2;\n",
       "}\n",
       "\n",
       ".xr-array-data,\n",
       ".xr-array-in:checked ~ .xr-array-preview {\n",
       "  display: none;\n",
       "}\n",
       "\n",
       ".xr-array-in:checked ~ .xr-array-data,\n",
       ".xr-array-preview {\n",
       "  display: inline-block;\n",
       "}\n",
       "\n",
       ".xr-dim-list {\n",
       "  display: inline-block !important;\n",
       "  list-style: none;\n",
       "  padding: 0 !important;\n",
       "  margin: 0;\n",
       "}\n",
       "\n",
       ".xr-dim-list li {\n",
       "  display: inline-block;\n",
       "  padding: 0;\n",
       "  margin: 0;\n",
       "}\n",
       "\n",
       ".xr-dim-list:before {\n",
       "  content: '(';\n",
       "}\n",
       "\n",
       ".xr-dim-list:after {\n",
       "  content: ')';\n",
       "}\n",
       "\n",
       ".xr-dim-list li:not(:last-child):after {\n",
       "  content: ',';\n",
       "  padding-right: 5px;\n",
       "}\n",
       "\n",
       ".xr-has-index {\n",
       "  font-weight: bold;\n",
       "}\n",
       "\n",
       ".xr-var-list,\n",
       ".xr-var-item {\n",
       "  display: contents;\n",
       "}\n",
       "\n",
       ".xr-var-item > div,\n",
       ".xr-var-item label,\n",
       ".xr-var-item > .xr-var-name span {\n",
       "  background-color: var(--xr-background-color-row-even);\n",
       "  margin-bottom: 0;\n",
       "}\n",
       "\n",
       ".xr-var-item > .xr-var-name:hover span {\n",
       "  padding-right: 5px;\n",
       "}\n",
       "\n",
       ".xr-var-list > li:nth-child(odd) > div,\n",
       ".xr-var-list > li:nth-child(odd) > label,\n",
       ".xr-var-list > li:nth-child(odd) > .xr-var-name span {\n",
       "  background-color: var(--xr-background-color-row-odd);\n",
       "}\n",
       "\n",
       ".xr-var-name {\n",
       "  grid-column: 1;\n",
       "}\n",
       "\n",
       ".xr-var-dims {\n",
       "  grid-column: 2;\n",
       "}\n",
       "\n",
       ".xr-var-dtype {\n",
       "  grid-column: 3;\n",
       "  text-align: right;\n",
       "  color: var(--xr-font-color2);\n",
       "}\n",
       "\n",
       ".xr-var-preview {\n",
       "  grid-column: 4;\n",
       "}\n",
       "\n",
       ".xr-index-preview {\n",
       "  grid-column: 2 / 5;\n",
       "  color: var(--xr-font-color2);\n",
       "}\n",
       "\n",
       ".xr-var-name,\n",
       ".xr-var-dims,\n",
       ".xr-var-dtype,\n",
       ".xr-preview,\n",
       ".xr-attrs dt {\n",
       "  white-space: nowrap;\n",
       "  overflow: hidden;\n",
       "  text-overflow: ellipsis;\n",
       "  padding-right: 10px;\n",
       "}\n",
       "\n",
       ".xr-var-name:hover,\n",
       ".xr-var-dims:hover,\n",
       ".xr-var-dtype:hover,\n",
       ".xr-attrs dt:hover {\n",
       "  overflow: visible;\n",
       "  width: auto;\n",
       "  z-index: 1;\n",
       "}\n",
       "\n",
       ".xr-var-attrs,\n",
       ".xr-var-data,\n",
       ".xr-index-data {\n",
       "  display: none;\n",
       "  background-color: var(--xr-background-color) !important;\n",
       "  padding-bottom: 5px !important;\n",
       "}\n",
       "\n",
       ".xr-var-attrs-in:checked ~ .xr-var-attrs,\n",
       ".xr-var-data-in:checked ~ .xr-var-data,\n",
       ".xr-index-data-in:checked ~ .xr-index-data {\n",
       "  display: block;\n",
       "}\n",
       "\n",
       ".xr-var-data > table {\n",
       "  float: right;\n",
       "}\n",
       "\n",
       ".xr-var-name span,\n",
       ".xr-var-data,\n",
       ".xr-index-name div,\n",
       ".xr-index-data,\n",
       ".xr-attrs {\n",
       "  padding-left: 25px !important;\n",
       "}\n",
       "\n",
       ".xr-attrs,\n",
       ".xr-var-attrs,\n",
       ".xr-var-data,\n",
       ".xr-index-data {\n",
       "  grid-column: 1 / -1;\n",
       "}\n",
       "\n",
       "dl.xr-attrs {\n",
       "  padding: 0;\n",
       "  margin: 0;\n",
       "  display: grid;\n",
       "  grid-template-columns: 125px auto;\n",
       "}\n",
       "\n",
       ".xr-attrs dt,\n",
       ".xr-attrs dd {\n",
       "  padding: 0;\n",
       "  margin: 0;\n",
       "  float: left;\n",
       "  padding-right: 10px;\n",
       "  width: auto;\n",
       "}\n",
       "\n",
       ".xr-attrs dt {\n",
       "  font-weight: normal;\n",
       "  grid-column: 1;\n",
       "}\n",
       "\n",
       ".xr-attrs dt:hover span {\n",
       "  display: inline-block;\n",
       "  background: var(--xr-background-color);\n",
       "  padding-right: 10px;\n",
       "}\n",
       "\n",
       ".xr-attrs dd {\n",
       "  grid-column: 2;\n",
       "  white-space: pre-wrap;\n",
       "  word-break: break-all;\n",
       "}\n",
       "\n",
       ".xr-icon-database,\n",
       ".xr-icon-file-text2,\n",
       ".xr-no-icon {\n",
       "  display: inline-block;\n",
       "  vertical-align: middle;\n",
       "  width: 1em;\n",
       "  height: 1.5em !important;\n",
       "  stroke-width: 0;\n",
       "  stroke: currentColor;\n",
       "  fill: currentColor;\n",
       "}\n",
       "</style><pre class='xr-text-repr-fallback'>&lt;xarray.Dataset&gt;\n",
       "Dimensions:                 (y: 858, x: 2941)\n",
       "Coordinates:\n",
       "  * y                       (y) float64 -4.757e+06 -4.757e+06 ... -4.765e+06\n",
       "  * x                       (x) float64 1.286e+06 1.286e+06 ... 1.316e+06\n",
       "    spatial_ref             int32 3577\n",
       "Data variables:\n",
       "    misclassified_px_count  (y, x) float64 nan nan nan nan ... nan nan nan nan\n",
       "    ndwi_tide_corr          (y, x) float64 0.147 0.1648 0.1278 ... nan nan nan\n",
       "    ndwi_wet_freq           (y, x) float64 0.8722 0.8571 ... 0.005714 0.00578</pre><div class='xr-wrap' style='display:none'><div class='xr-header'><div class='xr-obj-type'>xarray.Dataset</div></div><ul class='xr-sections'><li class='xr-section-item'><input id='section-9fdb3a4f-0922-46a0-b3af-1d7e2fc9a269' class='xr-section-summary-in' type='checkbox' disabled ><label for='section-9fdb3a4f-0922-46a0-b3af-1d7e2fc9a269' class='xr-section-summary'  title='Expand/collapse section'>Dimensions:</label><div class='xr-section-inline-details'><ul class='xr-dim-list'><li><span class='xr-has-index'>y</span>: 858</li><li><span class='xr-has-index'>x</span>: 2941</li></ul></div><div class='xr-section-details'></div></li><li class='xr-section-item'><input id='section-c590b06e-e633-43b5-b453-a2f2751228a1' class='xr-section-summary-in' type='checkbox'  checked><label for='section-c590b06e-e633-43b5-b453-a2f2751228a1' class='xr-section-summary' >Coordinates: <span>(3)</span></label><div class='xr-section-inline-details'></div><div class='xr-section-details'><ul class='xr-var-list'><li class='xr-var-item'><div class='xr-var-name'><span class='xr-has-index'>y</span></div><div class='xr-var-dims'>(y)</div><div class='xr-var-dtype'>float64</div><div class='xr-var-preview xr-preview'>-4.757e+06 ... -4.765e+06</div><input id='attrs-040a030e-4d83-4642-ac6b-b66fc88ca03c' class='xr-var-attrs-in' type='checkbox' ><label for='attrs-040a030e-4d83-4642-ac6b-b66fc88ca03c' title='Show/Hide attributes'><svg class='icon xr-icon-file-text2'><use xlink:href='#icon-file-text2'></use></svg></label><input id='data-e87df085-cdee-4be6-bc59-22f2642a920b' class='xr-var-data-in' type='checkbox'><label for='data-e87df085-cdee-4be6-bc59-22f2642a920b' title='Show/Hide data repr'><svg class='icon xr-icon-database'><use xlink:href='#icon-database'></use></svg></label><div class='xr-var-attrs'><dl class='xr-attrs'><dt><span>units :</span></dt><dd>metre</dd><dt><span>resolution :</span></dt><dd>-10.0</dd><dt><span>crs :</span></dt><dd>PROJCS[&quot;GDA94 / Australian Albers&quot;,GEOGCS[&quot;GDA94&quot;,DATUM[&quot;Geocentric_Datum_of_Australia_1994&quot;,SPHEROID[&quot;GRS 1980&quot;,6378137,298.257222101,AUTHORITY[&quot;EPSG&quot;,&quot;7019&quot;]],AUTHORITY[&quot;EPSG&quot;,&quot;6283&quot;]],PRIMEM[&quot;Greenwich&quot;,0,AUTHORITY[&quot;EPSG&quot;,&quot;8901&quot;]],UNIT[&quot;degree&quot;,0.0174532925199433,AUTHORITY[&quot;EPSG&quot;,&quot;9122&quot;]],AUTHORITY[&quot;EPSG&quot;,&quot;4283&quot;]],PROJECTION[&quot;Albers_Conic_Equal_Area&quot;],PARAMETER[&quot;latitude_of_center&quot;,0],PARAMETER[&quot;longitude_of_center&quot;,132],PARAMETER[&quot;standard_parallel_1&quot;,-18],PARAMETER[&quot;standard_parallel_2&quot;,-36],PARAMETER[&quot;false_easting&quot;,0],PARAMETER[&quot;false_northing&quot;,0],UNIT[&quot;metre&quot;,1,AUTHORITY[&quot;EPSG&quot;,&quot;9001&quot;]],AXIS[&quot;Easting&quot;,EAST],AXIS[&quot;Northing&quot;,NORTH],AUTHORITY[&quot;EPSG&quot;,&quot;3577&quot;]]</dd></dl></div><div class='xr-var-data'><pre>array([-4756805., -4756815., -4756825., ..., -4765355., -4765365., -4765375.])</pre></div></li><li class='xr-var-item'><div class='xr-var-name'><span class='xr-has-index'>x</span></div><div class='xr-var-dims'>(x)</div><div class='xr-var-dtype'>float64</div><div class='xr-var-preview xr-preview'>1.286e+06 1.286e+06 ... 1.316e+06</div><input id='attrs-65fe98e9-8865-46ce-bc0b-3d54c89df64e' class='xr-var-attrs-in' type='checkbox' ><label for='attrs-65fe98e9-8865-46ce-bc0b-3d54c89df64e' title='Show/Hide attributes'><svg class='icon xr-icon-file-text2'><use xlink:href='#icon-file-text2'></use></svg></label><input id='data-3f42719b-3384-4b21-b1f7-1f3af086483d' class='xr-var-data-in' type='checkbox'><label for='data-3f42719b-3384-4b21-b1f7-1f3af086483d' title='Show/Hide data repr'><svg class='icon xr-icon-database'><use xlink:href='#icon-database'></use></svg></label><div class='xr-var-attrs'><dl class='xr-attrs'><dt><span>units :</span></dt><dd>metre</dd><dt><span>resolution :</span></dt><dd>10.0</dd><dt><span>crs :</span></dt><dd>PROJCS[&quot;GDA94 / Australian Albers&quot;,GEOGCS[&quot;GDA94&quot;,DATUM[&quot;Geocentric_Datum_of_Australia_1994&quot;,SPHEROID[&quot;GRS 1980&quot;,6378137,298.257222101,AUTHORITY[&quot;EPSG&quot;,&quot;7019&quot;]],AUTHORITY[&quot;EPSG&quot;,&quot;6283&quot;]],PRIMEM[&quot;Greenwich&quot;,0,AUTHORITY[&quot;EPSG&quot;,&quot;8901&quot;]],UNIT[&quot;degree&quot;,0.0174532925199433,AUTHORITY[&quot;EPSG&quot;,&quot;9122&quot;]],AUTHORITY[&quot;EPSG&quot;,&quot;4283&quot;]],PROJECTION[&quot;Albers_Conic_Equal_Area&quot;],PARAMETER[&quot;latitude_of_center&quot;,0],PARAMETER[&quot;longitude_of_center&quot;,132],PARAMETER[&quot;standard_parallel_1&quot;,-18],PARAMETER[&quot;standard_parallel_2&quot;,-36],PARAMETER[&quot;false_easting&quot;,0],PARAMETER[&quot;false_northing&quot;,0],UNIT[&quot;metre&quot;,1,AUTHORITY[&quot;EPSG&quot;,&quot;9001&quot;]],AXIS[&quot;Easting&quot;,EAST],AXIS[&quot;Northing&quot;,NORTH],AUTHORITY[&quot;EPSG&quot;,&quot;3577&quot;]]</dd></dl></div><div class='xr-var-data'><pre>array([1286295., 1286305., 1286315., ..., 1315675., 1315685., 1315695.])</pre></div></li><li class='xr-var-item'><div class='xr-var-name'><span>spatial_ref</span></div><div class='xr-var-dims'>()</div><div class='xr-var-dtype'>int32</div><div class='xr-var-preview xr-preview'>3577</div><input id='attrs-0b6d46fe-a73a-4aad-9ff0-025fbac6a3a0' class='xr-var-attrs-in' type='checkbox' ><label for='attrs-0b6d46fe-a73a-4aad-9ff0-025fbac6a3a0' title='Show/Hide attributes'><svg class='icon xr-icon-file-text2'><use xlink:href='#icon-file-text2'></use></svg></label><input id='data-2524a509-2d61-420e-a48b-78a08d574361' class='xr-var-data-in' type='checkbox'><label for='data-2524a509-2d61-420e-a48b-78a08d574361' title='Show/Hide data repr'><svg class='icon xr-icon-database'><use xlink:href='#icon-database'></use></svg></label><div class='xr-var-attrs'><dl class='xr-attrs'><dt><span>spatial_ref :</span></dt><dd>PROJCS[&quot;GDA94 / Australian Albers&quot;,GEOGCS[&quot;GDA94&quot;,DATUM[&quot;Geocentric_Datum_of_Australia_1994&quot;,SPHEROID[&quot;GRS 1980&quot;,6378137,298.257222101,AUTHORITY[&quot;EPSG&quot;,&quot;7019&quot;]],AUTHORITY[&quot;EPSG&quot;,&quot;6283&quot;]],PRIMEM[&quot;Greenwich&quot;,0,AUTHORITY[&quot;EPSG&quot;,&quot;8901&quot;]],UNIT[&quot;degree&quot;,0.0174532925199433,AUTHORITY[&quot;EPSG&quot;,&quot;9122&quot;]],AUTHORITY[&quot;EPSG&quot;,&quot;4283&quot;]],PROJECTION[&quot;Albers_Conic_Equal_Area&quot;],PARAMETER[&quot;latitude_of_center&quot;,0],PARAMETER[&quot;longitude_of_center&quot;,132],PARAMETER[&quot;standard_parallel_1&quot;,-18],PARAMETER[&quot;standard_parallel_2&quot;,-36],PARAMETER[&quot;false_easting&quot;,0],PARAMETER[&quot;false_northing&quot;,0],UNIT[&quot;metre&quot;,1,AUTHORITY[&quot;EPSG&quot;,&quot;9001&quot;]],AXIS[&quot;Easting&quot;,EAST],AXIS[&quot;Northing&quot;,NORTH],AUTHORITY[&quot;EPSG&quot;,&quot;3577&quot;]]</dd><dt><span>grid_mapping_name :</span></dt><dd>albers_conical_equal_area</dd></dl></div><div class='xr-var-data'><pre>array(3577, dtype=int32)</pre></div></li></ul></div></li><li class='xr-section-item'><input id='section-0144c5e9-a826-4443-8206-e96a24e81546' class='xr-section-summary-in' type='checkbox'  checked><label for='section-0144c5e9-a826-4443-8206-e96a24e81546' class='xr-section-summary' >Data variables: <span>(3)</span></label><div class='xr-section-inline-details'></div><div class='xr-section-details'><ul class='xr-var-list'><li class='xr-var-item'><div class='xr-var-name'><span>misclassified_px_count</span></div><div class='xr-var-dims'>(y, x)</div><div class='xr-var-dtype'>float64</div><div class='xr-var-preview xr-preview'>nan nan nan nan ... nan nan nan nan</div><input id='attrs-540db0d9-4aa6-4b17-b0f8-309993708004' class='xr-var-attrs-in' type='checkbox' disabled><label for='attrs-540db0d9-4aa6-4b17-b0f8-309993708004' title='Show/Hide attributes'><svg class='icon xr-icon-file-text2'><use xlink:href='#icon-file-text2'></use></svg></label><input id='data-741cebe9-7f9d-4f04-bd13-b62e028f0e95' class='xr-var-data-in' type='checkbox'><label for='data-741cebe9-7f9d-4f04-bd13-b62e028f0e95' title='Show/Hide data repr'><svg class='icon xr-icon-database'><use xlink:href='#icon-database'></use></svg></label><div class='xr-var-attrs'><dl class='xr-attrs'></dl></div><div class='xr-var-data'><pre>array([[nan, nan, nan, ..., nan, nan, nan],\n",
       "       [nan, nan, nan, ..., nan, nan, nan],\n",
       "       [nan, nan, nan, ..., nan, nan, nan],\n",
       "       ...,\n",
       "       [nan, nan, nan, ..., nan, nan, nan],\n",
       "       [nan, nan, nan, ..., nan, nan, nan],\n",
       "       [nan, nan, nan, ..., nan, nan, nan]])</pre></div></li><li class='xr-var-item'><div class='xr-var-name'><span>ndwi_tide_corr</span></div><div class='xr-var-dims'>(y, x)</div><div class='xr-var-dtype'>float64</div><div class='xr-var-preview xr-preview'>0.147 0.1648 0.1278 ... nan nan nan</div><input id='attrs-12e9a77e-f77d-443b-b358-d184da5cf40e' class='xr-var-attrs-in' type='checkbox' disabled><label for='attrs-12e9a77e-f77d-443b-b358-d184da5cf40e' title='Show/Hide attributes'><svg class='icon xr-icon-file-text2'><use xlink:href='#icon-file-text2'></use></svg></label><input id='data-0d850995-eb60-4db8-a45e-511c69f03ffc' class='xr-var-data-in' type='checkbox'><label for='data-0d850995-eb60-4db8-a45e-511c69f03ffc' title='Show/Hide data repr'><svg class='icon xr-icon-database'><use xlink:href='#icon-database'></use></svg></label><div class='xr-var-attrs'><dl class='xr-attrs'></dl></div><div class='xr-var-data'><pre>array([[0.14703468, 0.16481667, 0.12776036, ...,        nan,        nan,\n",
       "               nan],\n",
       "       [0.14585204, 0.13130384, 0.13130386, ...,        nan,        nan,\n",
       "               nan],\n",
       "       [0.04555025, 0.02433841, 0.05763636, ...,        nan,        nan,\n",
       "               nan],\n",
       "       ...,\n",
       "       [       nan,        nan,        nan, ...,        nan,        nan,\n",
       "               nan],\n",
       "       [       nan,        nan,        nan, ...,        nan,        nan,\n",
       "               nan],\n",
       "       [       nan,        nan,        nan, ...,        nan,        nan,\n",
       "               nan]])</pre></div></li><li class='xr-var-item'><div class='xr-var-name'><span>ndwi_wet_freq</span></div><div class='xr-var-dims'>(y, x)</div><div class='xr-var-dtype'>float64</div><div class='xr-var-preview xr-preview'>0.8722 0.8571 ... 0.005714 0.00578</div><input id='attrs-293d458a-a19d-4718-abbd-a43064f98916' class='xr-var-attrs-in' type='checkbox' disabled><label for='attrs-293d458a-a19d-4718-abbd-a43064f98916' title='Show/Hide attributes'><svg class='icon xr-icon-file-text2'><use xlink:href='#icon-file-text2'></use></svg></label><input id='data-33427962-0850-496b-8bed-2c5ed9363430' class='xr-var-data-in' type='checkbox'><label for='data-33427962-0850-496b-8bed-2c5ed9363430' title='Show/Hide data repr'><svg class='icon xr-icon-database'><use xlink:href='#icon-database'></use></svg></label><div class='xr-var-attrs'><dl class='xr-attrs'></dl></div><div class='xr-var-data'><pre>array([[0.87218045, 0.85714286, 0.84962406, ..., 0.00625   , 0.00632911,\n",
       "        0.00628931],\n",
       "       [0.87878788, 0.86363636, 0.86363636, ..., 0.00625   , 0.00628931,\n",
       "        0.00628931],\n",
       "       [0.88549618, 0.88549618, 0.90076336, ..., 0.00628931, 0.00628931,\n",
       "        0.00628931],\n",
       "       ...,\n",
       "       [0.        , 0.        , 0.        , ..., 0.00581395, 0.00581395,\n",
       "        0.00581395],\n",
       "       [0.        , 0.        , 0.        , ..., 0.00581395, 0.00581395,\n",
       "        0.00581395],\n",
       "       [0.        , 0.        , 0.        , ..., 0.00571429, 0.00571429,\n",
       "        0.00578035]])</pre></div></li></ul></div></li><li class='xr-section-item'><input id='section-fd1c06ed-eace-4048-991d-ef0f3e970ebd' class='xr-section-summary-in' type='checkbox'  ><label for='section-fd1c06ed-eace-4048-991d-ef0f3e970ebd' class='xr-section-summary' >Indexes: <span>(2)</span></label><div class='xr-section-inline-details'></div><div class='xr-section-details'><ul class='xr-var-list'><li class='xr-var-item'><div class='xr-index-name'><div>y</div></div><div class='xr-index-preview'>PandasIndex</div><div></div><input id='index-5cfa470c-ed84-4a79-aa1a-6c0a605269d4' class='xr-index-data-in' type='checkbox'/><label for='index-5cfa470c-ed84-4a79-aa1a-6c0a605269d4' title='Show/Hide index repr'><svg class='icon xr-icon-database'><use xlink:href='#icon-database'></use></svg></label><div class='xr-index-data'><pre>PandasIndex(Float64Index([-4756805.0, -4756815.0, -4756825.0, -4756835.0, -4756845.0,\n",
       "              -4756855.0, -4756865.0, -4756875.0, -4756885.0, -4756895.0,\n",
       "              ...\n",
       "              -4765285.0, -4765295.0, -4765305.0, -4765315.0, -4765325.0,\n",
       "              -4765335.0, -4765345.0, -4765355.0, -4765365.0, -4765375.0],\n",
       "             dtype=&#x27;float64&#x27;, name=&#x27;y&#x27;, length=858))</pre></div></li><li class='xr-var-item'><div class='xr-index-name'><div>x</div></div><div class='xr-index-preview'>PandasIndex</div><div></div><input id='index-1e5e3eb7-fa56-414f-8539-2f9dd5bb2be2' class='xr-index-data-in' type='checkbox'/><label for='index-1e5e3eb7-fa56-414f-8539-2f9dd5bb2be2' title='Show/Hide index repr'><svg class='icon xr-icon-database'><use xlink:href='#icon-database'></use></svg></label><div class='xr-index-data'><pre>PandasIndex(Float64Index([1286295.0, 1286305.0, 1286315.0, 1286325.0, 1286335.0, 1286345.0,\n",
       "              1286355.0, 1286365.0, 1286375.0, 1286385.0,\n",
       "              ...\n",
       "              1315605.0, 1315615.0, 1315625.0, 1315635.0, 1315645.0, 1315655.0,\n",
       "              1315665.0, 1315675.0, 1315685.0, 1315695.0],\n",
       "             dtype=&#x27;float64&#x27;, name=&#x27;x&#x27;, length=2941))</pre></div></li></ul></div></li><li class='xr-section-item'><input id='section-a990e95e-5183-4b00-8694-d6a870c59b30' class='xr-section-summary-in' type='checkbox' disabled ><label for='section-a990e95e-5183-4b00-8694-d6a870c59b30' class='xr-section-summary'  title='Expand/collapse section'>Attributes: <span>(0)</span></label><div class='xr-section-inline-details'></div><div class='xr-section-details'><dl class='xr-attrs'></dl></div></li></ul></div></div>"
      ],
      "text/plain": [
       "<xarray.Dataset>\n",
       "Dimensions:                 (y: 858, x: 2941)\n",
       "Coordinates:\n",
       "  * y                       (y) float64 -4.757e+06 -4.757e+06 ... -4.765e+06\n",
       "  * x                       (x) float64 1.286e+06 1.286e+06 ... 1.316e+06\n",
       "    spatial_ref             int32 3577\n",
       "Data variables:\n",
       "    misclassified_px_count  (y, x) float64 nan nan nan nan ... nan nan nan nan\n",
       "    ndwi_tide_corr          (y, x) float64 0.147 0.1648 0.1278 ... nan nan nan\n",
       "    ndwi_wet_freq           (y, x) float64 0.8722 0.8571 ... 0.005714 0.00578"
      ]
     },
     "execution_count": 41,
     "metadata": {},
     "output_type": "execute_result"
    }
   ],
   "source": [
    "ds_aux"
   ]
  },
  {
   "cell_type": "code",
   "execution_count": 42,
   "id": "0a302340-9e67-4d54-aff3-891997e5d234",
   "metadata": {
    "tags": []
   },
   "outputs": [
    {
     "data": {
      "text/html": [
       "<div><svg style=\"position: absolute; width: 0; height: 0; overflow: hidden\">\n",
       "<defs>\n",
       "<symbol id=\"icon-database\" viewBox=\"0 0 32 32\">\n",
       "<path d=\"M16 0c-8.837 0-16 2.239-16 5v4c0 2.761 7.163 5 16 5s16-2.239 16-5v-4c0-2.761-7.163-5-16-5z\"></path>\n",
       "<path d=\"M16 17c-8.837 0-16-2.239-16-5v6c0 2.761 7.163 5 16 5s16-2.239 16-5v-6c0 2.761-7.163 5-16 5z\"></path>\n",
       "<path d=\"M16 26c-8.837 0-16-2.239-16-5v6c0 2.761 7.163 5 16 5s16-2.239 16-5v-6c0 2.761-7.163 5-16 5z\"></path>\n",
       "</symbol>\n",
       "<symbol id=\"icon-file-text2\" viewBox=\"0 0 32 32\">\n",
       "<path d=\"M28.681 7.159c-0.694-0.947-1.662-2.053-2.724-3.116s-2.169-2.030-3.116-2.724c-1.612-1.182-2.393-1.319-2.841-1.319h-15.5c-1.378 0-2.5 1.121-2.5 2.5v27c0 1.378 1.122 2.5 2.5 2.5h23c1.378 0 2.5-1.122 2.5-2.5v-19.5c0-0.448-0.137-1.23-1.319-2.841zM24.543 5.457c0.959 0.959 1.712 1.825 2.268 2.543h-4.811v-4.811c0.718 0.556 1.584 1.309 2.543 2.268zM28 29.5c0 0.271-0.229 0.5-0.5 0.5h-23c-0.271 0-0.5-0.229-0.5-0.5v-27c0-0.271 0.229-0.5 0.5-0.5 0 0 15.499-0 15.5 0v7c0 0.552 0.448 1 1 1h7v19.5z\"></path>\n",
       "<path d=\"M23 26h-14c-0.552 0-1-0.448-1-1s0.448-1 1-1h14c0.552 0 1 0.448 1 1s-0.448 1-1 1z\"></path>\n",
       "<path d=\"M23 22h-14c-0.552 0-1-0.448-1-1s0.448-1 1-1h14c0.552 0 1 0.448 1 1s-0.448 1-1 1z\"></path>\n",
       "<path d=\"M23 18h-14c-0.552 0-1-0.448-1-1s0.448-1 1-1h14c0.552 0 1 0.448 1 1s-0.448 1-1 1z\"></path>\n",
       "</symbol>\n",
       "</defs>\n",
       "</svg>\n",
       "<style>/* CSS stylesheet for displaying xarray objects in jupyterlab.\n",
       " *\n",
       " */\n",
       "\n",
       ":root {\n",
       "  --xr-font-color0: var(--jp-content-font-color0, rgba(0, 0, 0, 1));\n",
       "  --xr-font-color2: var(--jp-content-font-color2, rgba(0, 0, 0, 0.54));\n",
       "  --xr-font-color3: var(--jp-content-font-color3, rgba(0, 0, 0, 0.38));\n",
       "  --xr-border-color: var(--jp-border-color2, #e0e0e0);\n",
       "  --xr-disabled-color: var(--jp-layout-color3, #bdbdbd);\n",
       "  --xr-background-color: var(--jp-layout-color0, white);\n",
       "  --xr-background-color-row-even: var(--jp-layout-color1, white);\n",
       "  --xr-background-color-row-odd: var(--jp-layout-color2, #eeeeee);\n",
       "}\n",
       "\n",
       "html[theme=dark],\n",
       "body[data-theme=dark],\n",
       "body.vscode-dark {\n",
       "  --xr-font-color0: rgba(255, 255, 255, 1);\n",
       "  --xr-font-color2: rgba(255, 255, 255, 0.54);\n",
       "  --xr-font-color3: rgba(255, 255, 255, 0.38);\n",
       "  --xr-border-color: #1F1F1F;\n",
       "  --xr-disabled-color: #515151;\n",
       "  --xr-background-color: #111111;\n",
       "  --xr-background-color-row-even: #111111;\n",
       "  --xr-background-color-row-odd: #313131;\n",
       "}\n",
       "\n",
       ".xr-wrap {\n",
       "  display: block !important;\n",
       "  min-width: 300px;\n",
       "  max-width: 700px;\n",
       "}\n",
       "\n",
       ".xr-text-repr-fallback {\n",
       "  /* fallback to plain text repr when CSS is not injected (untrusted notebook) */\n",
       "  display: none;\n",
       "}\n",
       "\n",
       ".xr-header {\n",
       "  padding-top: 6px;\n",
       "  padding-bottom: 6px;\n",
       "  margin-bottom: 4px;\n",
       "  border-bottom: solid 1px var(--xr-border-color);\n",
       "}\n",
       "\n",
       ".xr-header > div,\n",
       ".xr-header > ul {\n",
       "  display: inline;\n",
       "  margin-top: 0;\n",
       "  margin-bottom: 0;\n",
       "}\n",
       "\n",
       ".xr-obj-type,\n",
       ".xr-array-name {\n",
       "  margin-left: 2px;\n",
       "  margin-right: 10px;\n",
       "}\n",
       "\n",
       ".xr-obj-type {\n",
       "  color: var(--xr-font-color2);\n",
       "}\n",
       "\n",
       ".xr-sections {\n",
       "  padding-left: 0 !important;\n",
       "  display: grid;\n",
       "  grid-template-columns: 150px auto auto 1fr 20px 20px;\n",
       "}\n",
       "\n",
       ".xr-section-item {\n",
       "  display: contents;\n",
       "}\n",
       "\n",
       ".xr-section-item input {\n",
       "  display: none;\n",
       "}\n",
       "\n",
       ".xr-section-item input + label {\n",
       "  color: var(--xr-disabled-color);\n",
       "}\n",
       "\n",
       ".xr-section-item input:enabled + label {\n",
       "  cursor: pointer;\n",
       "  color: var(--xr-font-color2);\n",
       "}\n",
       "\n",
       ".xr-section-item input:enabled + label:hover {\n",
       "  color: var(--xr-font-color0);\n",
       "}\n",
       "\n",
       ".xr-section-summary {\n",
       "  grid-column: 1;\n",
       "  color: var(--xr-font-color2);\n",
       "  font-weight: 500;\n",
       "}\n",
       "\n",
       ".xr-section-summary > span {\n",
       "  display: inline-block;\n",
       "  padding-left: 0.5em;\n",
       "}\n",
       "\n",
       ".xr-section-summary-in:disabled + label {\n",
       "  color: var(--xr-font-color2);\n",
       "}\n",
       "\n",
       ".xr-section-summary-in + label:before {\n",
       "  display: inline-block;\n",
       "  content: '►';\n",
       "  font-size: 11px;\n",
       "  width: 15px;\n",
       "  text-align: center;\n",
       "}\n",
       "\n",
       ".xr-section-summary-in:disabled + label:before {\n",
       "  color: var(--xr-disabled-color);\n",
       "}\n",
       "\n",
       ".xr-section-summary-in:checked + label:before {\n",
       "  content: '▼';\n",
       "}\n",
       "\n",
       ".xr-section-summary-in:checked + label > span {\n",
       "  display: none;\n",
       "}\n",
       "\n",
       ".xr-section-summary,\n",
       ".xr-section-inline-details {\n",
       "  padding-top: 4px;\n",
       "  padding-bottom: 4px;\n",
       "}\n",
       "\n",
       ".xr-section-inline-details {\n",
       "  grid-column: 2 / -1;\n",
       "}\n",
       "\n",
       ".xr-section-details {\n",
       "  display: none;\n",
       "  grid-column: 1 / -1;\n",
       "  margin-bottom: 5px;\n",
       "}\n",
       "\n",
       ".xr-section-summary-in:checked ~ .xr-section-details {\n",
       "  display: contents;\n",
       "}\n",
       "\n",
       ".xr-array-wrap {\n",
       "  grid-column: 1 / -1;\n",
       "  display: grid;\n",
       "  grid-template-columns: 20px auto;\n",
       "}\n",
       "\n",
       ".xr-array-wrap > label {\n",
       "  grid-column: 1;\n",
       "  vertical-align: top;\n",
       "}\n",
       "\n",
       ".xr-preview {\n",
       "  color: var(--xr-font-color3);\n",
       "}\n",
       "\n",
       ".xr-array-preview,\n",
       ".xr-array-data {\n",
       "  padding: 0 5px !important;\n",
       "  grid-column: 2;\n",
       "}\n",
       "\n",
       ".xr-array-data,\n",
       ".xr-array-in:checked ~ .xr-array-preview {\n",
       "  display: none;\n",
       "}\n",
       "\n",
       ".xr-array-in:checked ~ .xr-array-data,\n",
       ".xr-array-preview {\n",
       "  display: inline-block;\n",
       "}\n",
       "\n",
       ".xr-dim-list {\n",
       "  display: inline-block !important;\n",
       "  list-style: none;\n",
       "  padding: 0 !important;\n",
       "  margin: 0;\n",
       "}\n",
       "\n",
       ".xr-dim-list li {\n",
       "  display: inline-block;\n",
       "  padding: 0;\n",
       "  margin: 0;\n",
       "}\n",
       "\n",
       ".xr-dim-list:before {\n",
       "  content: '(';\n",
       "}\n",
       "\n",
       ".xr-dim-list:after {\n",
       "  content: ')';\n",
       "}\n",
       "\n",
       ".xr-dim-list li:not(:last-child):after {\n",
       "  content: ',';\n",
       "  padding-right: 5px;\n",
       "}\n",
       "\n",
       ".xr-has-index {\n",
       "  font-weight: bold;\n",
       "}\n",
       "\n",
       ".xr-var-list,\n",
       ".xr-var-item {\n",
       "  display: contents;\n",
       "}\n",
       "\n",
       ".xr-var-item > div,\n",
       ".xr-var-item label,\n",
       ".xr-var-item > .xr-var-name span {\n",
       "  background-color: var(--xr-background-color-row-even);\n",
       "  margin-bottom: 0;\n",
       "}\n",
       "\n",
       ".xr-var-item > .xr-var-name:hover span {\n",
       "  padding-right: 5px;\n",
       "}\n",
       "\n",
       ".xr-var-list > li:nth-child(odd) > div,\n",
       ".xr-var-list > li:nth-child(odd) > label,\n",
       ".xr-var-list > li:nth-child(odd) > .xr-var-name span {\n",
       "  background-color: var(--xr-background-color-row-odd);\n",
       "}\n",
       "\n",
       ".xr-var-name {\n",
       "  grid-column: 1;\n",
       "}\n",
       "\n",
       ".xr-var-dims {\n",
       "  grid-column: 2;\n",
       "}\n",
       "\n",
       ".xr-var-dtype {\n",
       "  grid-column: 3;\n",
       "  text-align: right;\n",
       "  color: var(--xr-font-color2);\n",
       "}\n",
       "\n",
       ".xr-var-preview {\n",
       "  grid-column: 4;\n",
       "}\n",
       "\n",
       ".xr-index-preview {\n",
       "  grid-column: 2 / 5;\n",
       "  color: var(--xr-font-color2);\n",
       "}\n",
       "\n",
       ".xr-var-name,\n",
       ".xr-var-dims,\n",
       ".xr-var-dtype,\n",
       ".xr-preview,\n",
       ".xr-attrs dt {\n",
       "  white-space: nowrap;\n",
       "  overflow: hidden;\n",
       "  text-overflow: ellipsis;\n",
       "  padding-right: 10px;\n",
       "}\n",
       "\n",
       ".xr-var-name:hover,\n",
       ".xr-var-dims:hover,\n",
       ".xr-var-dtype:hover,\n",
       ".xr-attrs dt:hover {\n",
       "  overflow: visible;\n",
       "  width: auto;\n",
       "  z-index: 1;\n",
       "}\n",
       "\n",
       ".xr-var-attrs,\n",
       ".xr-var-data,\n",
       ".xr-index-data {\n",
       "  display: none;\n",
       "  background-color: var(--xr-background-color) !important;\n",
       "  padding-bottom: 5px !important;\n",
       "}\n",
       "\n",
       ".xr-var-attrs-in:checked ~ .xr-var-attrs,\n",
       ".xr-var-data-in:checked ~ .xr-var-data,\n",
       ".xr-index-data-in:checked ~ .xr-index-data {\n",
       "  display: block;\n",
       "}\n",
       "\n",
       ".xr-var-data > table {\n",
       "  float: right;\n",
       "}\n",
       "\n",
       ".xr-var-name span,\n",
       ".xr-var-data,\n",
       ".xr-index-name div,\n",
       ".xr-index-data,\n",
       ".xr-attrs {\n",
       "  padding-left: 25px !important;\n",
       "}\n",
       "\n",
       ".xr-attrs,\n",
       ".xr-var-attrs,\n",
       ".xr-var-data,\n",
       ".xr-index-data {\n",
       "  grid-column: 1 / -1;\n",
       "}\n",
       "\n",
       "dl.xr-attrs {\n",
       "  padding: 0;\n",
       "  margin: 0;\n",
       "  display: grid;\n",
       "  grid-template-columns: 125px auto;\n",
       "}\n",
       "\n",
       ".xr-attrs dt,\n",
       ".xr-attrs dd {\n",
       "  padding: 0;\n",
       "  margin: 0;\n",
       "  float: left;\n",
       "  padding-right: 10px;\n",
       "  width: auto;\n",
       "}\n",
       "\n",
       ".xr-attrs dt {\n",
       "  font-weight: normal;\n",
       "  grid-column: 1;\n",
       "}\n",
       "\n",
       ".xr-attrs dt:hover span {\n",
       "  display: inline-block;\n",
       "  background: var(--xr-background-color);\n",
       "  padding-right: 10px;\n",
       "}\n",
       "\n",
       ".xr-attrs dd {\n",
       "  grid-column: 2;\n",
       "  white-space: pre-wrap;\n",
       "  word-break: break-all;\n",
       "}\n",
       "\n",
       ".xr-icon-database,\n",
       ".xr-icon-file-text2,\n",
       ".xr-no-icon {\n",
       "  display: inline-block;\n",
       "  vertical-align: middle;\n",
       "  width: 1em;\n",
       "  height: 1.5em !important;\n",
       "  stroke-width: 0;\n",
       "  stroke: currentColor;\n",
       "  fill: currentColor;\n",
       "}\n",
       "</style><pre class='xr-text-repr-fallback'>&lt;xarray.DataArray &#x27;ndwi_tide_corr&#x27; (y: 858, x: 2941)&gt;\n",
       "array([[0.14703468, 0.16481667, 0.12776036, ...,        nan,        nan,\n",
       "               nan],\n",
       "       [0.14585204, 0.13130384, 0.13130386, ...,        nan,        nan,\n",
       "               nan],\n",
       "       [0.04555025, 0.02433841, 0.05763636, ...,        nan,        nan,\n",
       "               nan],\n",
       "       ...,\n",
       "       [       nan,        nan,        nan, ...,        nan,        nan,\n",
       "               nan],\n",
       "       [       nan,        nan,        nan, ...,        nan,        nan,\n",
       "               nan],\n",
       "       [       nan,        nan,        nan, ...,        nan,        nan,\n",
       "               nan]])\n",
       "Coordinates:\n",
       "  * y            (y) float64 -4.757e+06 -4.757e+06 ... -4.765e+06 -4.765e+06\n",
       "  * x            (x) float64 1.286e+06 1.286e+06 ... 1.316e+06 1.316e+06\n",
       "    spatial_ref  int32 3577</pre><div class='xr-wrap' style='display:none'><div class='xr-header'><div class='xr-obj-type'>xarray.DataArray</div><div class='xr-array-name'>'ndwi_tide_corr'</div><ul class='xr-dim-list'><li><span class='xr-has-index'>y</span>: 858</li><li><span class='xr-has-index'>x</span>: 2941</li></ul></div><ul class='xr-sections'><li class='xr-section-item'><div class='xr-array-wrap'><input id='section-619201a5-8eaf-4ed7-b2e7-cffee8ff1b71' class='xr-array-in' type='checkbox' checked><label for='section-619201a5-8eaf-4ed7-b2e7-cffee8ff1b71' title='Show/hide data repr'><svg class='icon xr-icon-database'><use xlink:href='#icon-database'></use></svg></label><div class='xr-array-preview xr-preview'><span>0.147 0.1648 0.1278 0.1264 0.1115 0.083 ... nan nan nan nan nan nan</span></div><div class='xr-array-data'><pre>array([[0.14703468, 0.16481667, 0.12776036, ...,        nan,        nan,\n",
       "               nan],\n",
       "       [0.14585204, 0.13130384, 0.13130386, ...,        nan,        nan,\n",
       "               nan],\n",
       "       [0.04555025, 0.02433841, 0.05763636, ...,        nan,        nan,\n",
       "               nan],\n",
       "       ...,\n",
       "       [       nan,        nan,        nan, ...,        nan,        nan,\n",
       "               nan],\n",
       "       [       nan,        nan,        nan, ...,        nan,        nan,\n",
       "               nan],\n",
       "       [       nan,        nan,        nan, ...,        nan,        nan,\n",
       "               nan]])</pre></div></div></li><li class='xr-section-item'><input id='section-a5bb278a-e4c9-4cdd-b6c0-9c4f23da2948' class='xr-section-summary-in' type='checkbox'  checked><label for='section-a5bb278a-e4c9-4cdd-b6c0-9c4f23da2948' class='xr-section-summary' >Coordinates: <span>(3)</span></label><div class='xr-section-inline-details'></div><div class='xr-section-details'><ul class='xr-var-list'><li class='xr-var-item'><div class='xr-var-name'><span class='xr-has-index'>y</span></div><div class='xr-var-dims'>(y)</div><div class='xr-var-dtype'>float64</div><div class='xr-var-preview xr-preview'>-4.757e+06 ... -4.765e+06</div><input id='attrs-043fc5e8-3940-41dc-be4a-2b3ec093b143' class='xr-var-attrs-in' type='checkbox' ><label for='attrs-043fc5e8-3940-41dc-be4a-2b3ec093b143' title='Show/Hide attributes'><svg class='icon xr-icon-file-text2'><use xlink:href='#icon-file-text2'></use></svg></label><input id='data-afaf6285-9471-466d-8282-8f5884c5e580' class='xr-var-data-in' type='checkbox'><label for='data-afaf6285-9471-466d-8282-8f5884c5e580' title='Show/Hide data repr'><svg class='icon xr-icon-database'><use xlink:href='#icon-database'></use></svg></label><div class='xr-var-attrs'><dl class='xr-attrs'><dt><span>units :</span></dt><dd>metre</dd><dt><span>resolution :</span></dt><dd>-10.0</dd><dt><span>crs :</span></dt><dd>PROJCS[&quot;GDA94 / Australian Albers&quot;,GEOGCS[&quot;GDA94&quot;,DATUM[&quot;Geocentric_Datum_of_Australia_1994&quot;,SPHEROID[&quot;GRS 1980&quot;,6378137,298.257222101,AUTHORITY[&quot;EPSG&quot;,&quot;7019&quot;]],AUTHORITY[&quot;EPSG&quot;,&quot;6283&quot;]],PRIMEM[&quot;Greenwich&quot;,0,AUTHORITY[&quot;EPSG&quot;,&quot;8901&quot;]],UNIT[&quot;degree&quot;,0.0174532925199433,AUTHORITY[&quot;EPSG&quot;,&quot;9122&quot;]],AUTHORITY[&quot;EPSG&quot;,&quot;4283&quot;]],PROJECTION[&quot;Albers_Conic_Equal_Area&quot;],PARAMETER[&quot;latitude_of_center&quot;,0],PARAMETER[&quot;longitude_of_center&quot;,132],PARAMETER[&quot;standard_parallel_1&quot;,-18],PARAMETER[&quot;standard_parallel_2&quot;,-36],PARAMETER[&quot;false_easting&quot;,0],PARAMETER[&quot;false_northing&quot;,0],UNIT[&quot;metre&quot;,1,AUTHORITY[&quot;EPSG&quot;,&quot;9001&quot;]],AXIS[&quot;Easting&quot;,EAST],AXIS[&quot;Northing&quot;,NORTH],AUTHORITY[&quot;EPSG&quot;,&quot;3577&quot;]]</dd></dl></div><div class='xr-var-data'><pre>array([-4756805., -4756815., -4756825., ..., -4765355., -4765365., -4765375.])</pre></div></li><li class='xr-var-item'><div class='xr-var-name'><span class='xr-has-index'>x</span></div><div class='xr-var-dims'>(x)</div><div class='xr-var-dtype'>float64</div><div class='xr-var-preview xr-preview'>1.286e+06 1.286e+06 ... 1.316e+06</div><input id='attrs-6bc0611b-f976-4bcf-9244-51effcb260ef' class='xr-var-attrs-in' type='checkbox' ><label for='attrs-6bc0611b-f976-4bcf-9244-51effcb260ef' title='Show/Hide attributes'><svg class='icon xr-icon-file-text2'><use xlink:href='#icon-file-text2'></use></svg></label><input id='data-f66b06c1-0b28-4697-a702-283e32cc9972' class='xr-var-data-in' type='checkbox'><label for='data-f66b06c1-0b28-4697-a702-283e32cc9972' title='Show/Hide data repr'><svg class='icon xr-icon-database'><use xlink:href='#icon-database'></use></svg></label><div class='xr-var-attrs'><dl class='xr-attrs'><dt><span>units :</span></dt><dd>metre</dd><dt><span>resolution :</span></dt><dd>10.0</dd><dt><span>crs :</span></dt><dd>PROJCS[&quot;GDA94 / Australian Albers&quot;,GEOGCS[&quot;GDA94&quot;,DATUM[&quot;Geocentric_Datum_of_Australia_1994&quot;,SPHEROID[&quot;GRS 1980&quot;,6378137,298.257222101,AUTHORITY[&quot;EPSG&quot;,&quot;7019&quot;]],AUTHORITY[&quot;EPSG&quot;,&quot;6283&quot;]],PRIMEM[&quot;Greenwich&quot;,0,AUTHORITY[&quot;EPSG&quot;,&quot;8901&quot;]],UNIT[&quot;degree&quot;,0.0174532925199433,AUTHORITY[&quot;EPSG&quot;,&quot;9122&quot;]],AUTHORITY[&quot;EPSG&quot;,&quot;4283&quot;]],PROJECTION[&quot;Albers_Conic_Equal_Area&quot;],PARAMETER[&quot;latitude_of_center&quot;,0],PARAMETER[&quot;longitude_of_center&quot;,132],PARAMETER[&quot;standard_parallel_1&quot;,-18],PARAMETER[&quot;standard_parallel_2&quot;,-36],PARAMETER[&quot;false_easting&quot;,0],PARAMETER[&quot;false_northing&quot;,0],UNIT[&quot;metre&quot;,1,AUTHORITY[&quot;EPSG&quot;,&quot;9001&quot;]],AXIS[&quot;Easting&quot;,EAST],AXIS[&quot;Northing&quot;,NORTH],AUTHORITY[&quot;EPSG&quot;,&quot;3577&quot;]]</dd></dl></div><div class='xr-var-data'><pre>array([1286295., 1286305., 1286315., ..., 1315675., 1315685., 1315695.])</pre></div></li><li class='xr-var-item'><div class='xr-var-name'><span>spatial_ref</span></div><div class='xr-var-dims'>()</div><div class='xr-var-dtype'>int32</div><div class='xr-var-preview xr-preview'>3577</div><input id='attrs-054f2837-4003-43fd-bf90-06445c796e4b' class='xr-var-attrs-in' type='checkbox' ><label for='attrs-054f2837-4003-43fd-bf90-06445c796e4b' title='Show/Hide attributes'><svg class='icon xr-icon-file-text2'><use xlink:href='#icon-file-text2'></use></svg></label><input id='data-c42eb79e-e2ee-44e2-b453-4dc62e7158c6' class='xr-var-data-in' type='checkbox'><label for='data-c42eb79e-e2ee-44e2-b453-4dc62e7158c6' title='Show/Hide data repr'><svg class='icon xr-icon-database'><use xlink:href='#icon-database'></use></svg></label><div class='xr-var-attrs'><dl class='xr-attrs'><dt><span>spatial_ref :</span></dt><dd>PROJCS[&quot;GDA94 / Australian Albers&quot;,GEOGCS[&quot;GDA94&quot;,DATUM[&quot;Geocentric_Datum_of_Australia_1994&quot;,SPHEROID[&quot;GRS 1980&quot;,6378137,298.257222101,AUTHORITY[&quot;EPSG&quot;,&quot;7019&quot;]],AUTHORITY[&quot;EPSG&quot;,&quot;6283&quot;]],PRIMEM[&quot;Greenwich&quot;,0,AUTHORITY[&quot;EPSG&quot;,&quot;8901&quot;]],UNIT[&quot;degree&quot;,0.0174532925199433,AUTHORITY[&quot;EPSG&quot;,&quot;9122&quot;]],AUTHORITY[&quot;EPSG&quot;,&quot;4283&quot;]],PROJECTION[&quot;Albers_Conic_Equal_Area&quot;],PARAMETER[&quot;latitude_of_center&quot;,0],PARAMETER[&quot;longitude_of_center&quot;,132],PARAMETER[&quot;standard_parallel_1&quot;,-18],PARAMETER[&quot;standard_parallel_2&quot;,-36],PARAMETER[&quot;false_easting&quot;,0],PARAMETER[&quot;false_northing&quot;,0],UNIT[&quot;metre&quot;,1,AUTHORITY[&quot;EPSG&quot;,&quot;9001&quot;]],AXIS[&quot;Easting&quot;,EAST],AXIS[&quot;Northing&quot;,NORTH],AUTHORITY[&quot;EPSG&quot;,&quot;3577&quot;]]</dd><dt><span>grid_mapping_name :</span></dt><dd>albers_conical_equal_area</dd></dl></div><div class='xr-var-data'><pre>array(3577, dtype=int32)</pre></div></li></ul></div></li><li class='xr-section-item'><input id='section-a3ddf486-00e9-40ec-8365-a3cd779cc785' class='xr-section-summary-in' type='checkbox'  ><label for='section-a3ddf486-00e9-40ec-8365-a3cd779cc785' class='xr-section-summary' >Indexes: <span>(2)</span></label><div class='xr-section-inline-details'></div><div class='xr-section-details'><ul class='xr-var-list'><li class='xr-var-item'><div class='xr-index-name'><div>y</div></div><div class='xr-index-preview'>PandasIndex</div><div></div><input id='index-b0e554da-2c97-4760-bfe7-2a2ab6f64205' class='xr-index-data-in' type='checkbox'/><label for='index-b0e554da-2c97-4760-bfe7-2a2ab6f64205' title='Show/Hide index repr'><svg class='icon xr-icon-database'><use xlink:href='#icon-database'></use></svg></label><div class='xr-index-data'><pre>PandasIndex(Float64Index([-4756805.0, -4756815.0, -4756825.0, -4756835.0, -4756845.0,\n",
       "              -4756855.0, -4756865.0, -4756875.0, -4756885.0, -4756895.0,\n",
       "              ...\n",
       "              -4765285.0, -4765295.0, -4765305.0, -4765315.0, -4765325.0,\n",
       "              -4765335.0, -4765345.0, -4765355.0, -4765365.0, -4765375.0],\n",
       "             dtype=&#x27;float64&#x27;, name=&#x27;y&#x27;, length=858))</pre></div></li><li class='xr-var-item'><div class='xr-index-name'><div>x</div></div><div class='xr-index-preview'>PandasIndex</div><div></div><input id='index-642d1f7d-9fb8-4ca5-8af5-7309796d8c24' class='xr-index-data-in' type='checkbox'/><label for='index-642d1f7d-9fb8-4ca5-8af5-7309796d8c24' title='Show/Hide index repr'><svg class='icon xr-icon-database'><use xlink:href='#icon-database'></use></svg></label><div class='xr-index-data'><pre>PandasIndex(Float64Index([1286295.0, 1286305.0, 1286315.0, 1286325.0, 1286335.0, 1286345.0,\n",
       "              1286355.0, 1286365.0, 1286375.0, 1286385.0,\n",
       "              ...\n",
       "              1315605.0, 1315615.0, 1315625.0, 1315635.0, 1315645.0, 1315655.0,\n",
       "              1315665.0, 1315675.0, 1315685.0, 1315695.0],\n",
       "             dtype=&#x27;float64&#x27;, name=&#x27;x&#x27;, length=2941))</pre></div></li></ul></div></li><li class='xr-section-item'><input id='section-d05c46e9-f82f-4a5e-ad43-ba7daf732fe1' class='xr-section-summary-in' type='checkbox' disabled ><label for='section-d05c46e9-f82f-4a5e-ad43-ba7daf732fe1' class='xr-section-summary'  title='Expand/collapse section'>Attributes: <span>(0)</span></label><div class='xr-section-inline-details'></div><div class='xr-section-details'><dl class='xr-attrs'></dl></div></li></ul></div></div>"
      ],
      "text/plain": [
       "<xarray.DataArray 'ndwi_tide_corr' (y: 858, x: 2941)>\n",
       "array([[0.14703468, 0.16481667, 0.12776036, ...,        nan,        nan,\n",
       "               nan],\n",
       "       [0.14585204, 0.13130384, 0.13130386, ...,        nan,        nan,\n",
       "               nan],\n",
       "       [0.04555025, 0.02433841, 0.05763636, ...,        nan,        nan,\n",
       "               nan],\n",
       "       ...,\n",
       "       [       nan,        nan,        nan, ...,        nan,        nan,\n",
       "               nan],\n",
       "       [       nan,        nan,        nan, ...,        nan,        nan,\n",
       "               nan],\n",
       "       [       nan,        nan,        nan, ...,        nan,        nan,\n",
       "               nan]])\n",
       "Coordinates:\n",
       "  * y            (y) float64 -4.757e+06 -4.757e+06 ... -4.765e+06 -4.765e+06\n",
       "  * x            (x) float64 1.286e+06 1.286e+06 ... 1.316e+06 1.316e+06\n",
       "    spatial_ref  int32 3577"
      ]
     },
     "execution_count": 42,
     "metadata": {},
     "output_type": "execute_result"
    }
   ],
   "source": [
    "ds_aux.ndwi_tide_corr"
   ]
  },
  {
   "cell_type": "markdown",
   "id": "f1a7244e-b4a3-45f2-b5c1-c7a658818b8c",
   "metadata": {
    "tags": []
   },
   "source": [
    "### Intertidal extents\n"
   ]
  },
  {
   "cell_type": "code",
   "execution_count": 56,
   "id": "44afbee0-504f-43f2-ad4f-a9e83b9a27b9",
   "metadata": {},
   "outputs": [
    {
     "name": "stdout",
     "output_type": "stream",
     "text": [
      "BOOO\n"
     ]
    }
   ],
   "source": [
    "ds[\"extents\"] = extents(freq=ds_aux.ndwi_wet_freq, dem=ds.elevation, corr=ds_aux.ndwi_tide_corr)"
   ]
  },
  {
   "cell_type": "code",
   "execution_count": 57,
   "id": "88762da7-d183-4495-b224-489e7919f90d",
   "metadata": {
    "tags": []
   },
   "outputs": [
    {
     "data": {
      "text/plain": [
       "PosixPath('extents_newv2.tif')"
      ]
     },
     "execution_count": 57,
     "metadata": {},
     "output_type": "execute_result"
    }
   ],
   "source": [
    "ds.extents.odc.write_cog(\"extents_newv2.tif\", overwrite=True)"
   ]
  },
  {
   "cell_type": "code",
   "execution_count": 51,
   "id": "2a83d188-7d6f-471b-9f3a-7e6ccb20bb90",
   "metadata": {
    "tags": []
   },
   "outputs": [
    {
     "data": {
      "text/plain": [
       "PosixPath('elevation.tif')"
      ]
     },
     "execution_count": 51,
     "metadata": {},
     "output_type": "execute_result"
    }
   ],
   "source": [
    "ds.elevation.odc.write_cog(\"elevation.tif\", overwrite=True)"
   ]
  },
  {
   "cell_type": "code",
   "execution_count": null,
   "id": "bd576b05-1544-4cf1-ae74-daeec1cd2f24",
   "metadata": {},
   "outputs": [],
   "source": []
  },
  {
   "cell_type": "code",
   "execution_count": 48,
   "id": "2caa1ed0-30a4-406e-ab68-ccce5ef95976",
   "metadata": {
    "tags": []
   },
   "outputs": [],
   "source": [
    "import xarray as xr\n",
    "import numpy as np\n",
    "\n",
    "import datacube\n",
    "from skimage.measure import label, regionprops\n",
    "from skimage.morphology import binary_erosion, disk\n",
    "\n",
    "from odc.algo import mask_cleanup\n",
    "from odc.geo.geom import Geometry\n",
    "import rioxarray\n",
    "import odc.geo.xr\n",
    "\n",
    "\n",
    "def load_reproject(\n",
    "    path, gbox, name=None, chunks={\"x\": 2048, \"y\": 2048}, **reproj_kwargs\n",
    "):\n",
    "    \"\"\"\n",
    "    Load and reproject part of a raster dataset into a given GeoBox.\n",
    "    \"\"\"\n",
    "    ds = (\n",
    "        rioxarray.open_rasterio(\n",
    "            path,\n",
    "            masked=True,\n",
    "            chunks=chunks,\n",
    "        )\n",
    "        .squeeze(\"band\")\n",
    "        .odc.reproject(how=gbox, **reproj_kwargs)\n",
    "    )\n",
    "    ds.name = name\n",
    "\n",
    "    return ds\n",
    "\n",
    "\n",
    "def intertidal_connection(water_intertidal, intertidal, connectivity=1):\n",
    "    \"\"\"\n",
    "\n",
    "    Identifies areas of water pixels that are adjacent to or directly \n",
    "    connected to intertidal pixels.\n",
    "    \n",
    "    Parameters:\n",
    "    -----------\n",
    "    water_intertidal : xarray.DataArray\n",
    "        An array containing True for pixels that are either water or\n",
    "        intertidal pixels.\n",
    "    intertidal : xarray.DataArray\n",
    "        An array containing True for intertidal pixels. \n",
    "    connectivity : integer, optional\n",
    "        An integer passed to the 'connectivity' parameter of the\n",
    "        `skimage.measure.label` function.\n",
    "    \n",
    "    Returns:\n",
    "    --------\n",
    "    intertidal_connection : xarray.DataArray\n",
    "        An array containing the a mask consisting of identified \n",
    "        intertidally-connected pixels as True.\n",
    "    \"\"\"\n",
    "\n",
    "    # First, break `water_intertidal` array into unique, discrete \n",
    "    # regions/blobs.\n",
    "    blobs = xr.apply_ufunc(label, water_intertidal, 0, False, connectivity)\n",
    "\n",
    "    # For each unique region/blob, use region properties to determine\n",
    "    # whether it overlaps with a feature from `intertidal`. If\n",
    "    # it does, then it is considered to be adjacent or directly connected\n",
    "    # to intertidal pixels\n",
    "    intertidal_connection = blobs.isin(\n",
    "        [i.label for i in regionprops(blobs.values, intertidal.values) if i.max_intensity]\n",
    "    )\n",
    "\n",
    "    return intertidal_connection\n"
   ]
  },
  {
   "cell_type": "code",
   "execution_count": 25,
   "id": "d77a4b37-3018-4880-b40e-8f5d414d72ce",
   "metadata": {
    "tags": []
   },
   "outputs": [
    {
     "data": {
      "text/plain": [
       "<matplotlib.collections.QuadMesh at 0x7f9ff5b39a50>"
      ]
     },
     "execution_count": 25,
     "metadata": {},
     "output_type": "execute_result"
    },
    {
     "data": {
      "image/png": "[encoded data removed]",
      "text/plain": [
       "<Figure size 640x480 with 2 Axes>"
      ]
     },
     "metadata": {},
     "output_type": "display_data"
    }
   ],
   "source": [
    "intertidal_connection(~wet_intertidal, inter, connectivity=1).plot()"
   ]
  },
  {
   "cell_type": "code",
   "execution_count": null,
   "id": "f4cb72ee-279f-49b4-b5bb-bf464afbfcc0",
   "metadata": {
    "tags": []
   },
   "outputs": [],
   "source": [
    "land_use_mask=\"/gdata1/data/land_use/ABARES_CLUM/geotiff_clum_50m1220m/clum_50m1220m.tif\"\n",
    "freq=ds_aux.ndwi_wet_freq\n",
    "dem=ds.elevation\n",
    "corr=ds_aux.ndwi_tide_corr\n",
    "\n",
    "## Load the land use dataset to mask out misclassified extents classes caused by urban land class\n",
    "landuse_ds = load_reproject(\n",
    "path=land_use_mask,\n",
    "gbox=dem.odc.geobox,\n",
    "resampling=\"nearest\",\n",
    ").compute()\n",
    "\n",
    "## Separate out the 'intensive urban' land use summary class and set all other pixels to False\n",
    "\n",
    "reclassified = xr.where((landuse_ds==500),16,landuse_ds)#Urban intensive uses\n",
    "reclassified = xr.where((landuse_ds>=530)&(landuse_ds<=538),16,reclassified)#Urban intensive uses\n",
    "reclassified = xr.where((landuse_ds>=540)&(landuse_ds<=541),16,reclassified)#Urban intensive uses\n",
    "reclassified = xr.where((landuse_ds>=550)&(landuse_ds<=555),16,reclassified)#Urban intensive uses\n",
    "reclassified = xr.where((landuse_ds>=560)&(landuse_ds<=567),16,reclassified)#Urban intensive uses\n",
    "reclassified = xr.where((landuse_ds>=570)&(landuse_ds<=575),16,reclassified)#Urban intensive uses\n",
    "\n",
    "reclassified = xr.where(reclassified==16,True,False)\n",
    "\n",
    "'''--------------------------------------------------------------------'''\n",
    "## Set the upper and lower freq thresholds\n",
    "upper, lower = 0.99, 0.01\n",
    "\n",
    "'''--------------------------------------------------------------------'''\n",
    "## Identify broad classes based on wetness frequency and tidal correlation\n",
    "dry = freq.where((freq < lower), drop=True)\n",
    "intermittent = freq.where((freq>=lower)&(freq<=upper),np.nan)\n",
    "wet = freq.where((freq>upper),np.nan)\n",
    "\n",
    "##### Separate intermittent_tidal (intertidal)\n",
    "intertidal = freq.where(\n",
    "                    (freq==intermittent)\n",
    "                    &(corr>=0.15),\n",
    "                    drop=True\n",
    "                    )\n",
    "\n",
    "##### Separate intermittent_nontidal\n",
    "intermittent_nontidal = freq.where(\n",
    "                    (freq==intermittent)\n",
    "                    &(corr<0.15),\n",
    "                    drop=False\n",
    "                    )\n",
    "\n",
    "##### Separate high and low confidence intertidal pixels\n",
    "intertidal_hc = intertidal.where(dem.notnull(),drop=True)\n",
    "intertidal_lc = intertidal.where(dem.isnull(),drop=True)\n",
    "'''--------------------------------------------------------------------'''\n",
    "## Clean up the urban land masking class by removing high confidence intertidal areas\n",
    "reclassified = reclassified.where(~dem.notnull(),False)\n",
    "\n",
    "## Erode the intensive urban land use class to remove extents-class overlaps from \n",
    "## the native 50m CLUM pixel resolution dataset\n",
    "reclassified = mask_cleanup(mask=reclassified, mask_filters=[(\"erosion\",5)])\n",
    "'''--------------------------------------------------------------------'''\n",
    "##### Classify 'wet' pixels based on connectivity to intertidal pixels (into 'wet_ocean' and 'wet_inland')\n",
    "\n",
    "## Create the 'always wet + intertidal' ds to compare against 'intertidal' pixels\n",
    "## only for intertidal connectivity\n",
    "wet_intertidal = xr.where(freq>=lower,0,1)\n",
    "\n",
    "## If deep-sea masked pixels, replace Nans with 'wet' boolean (0)\n",
    "if freq.isnull().any()==True is True:\n",
    "    wet_intertidal = wet_intertidal.where(freq.notnull(), 0)\n",
    "\n",
    "## Create a true/false layer of intertidal pixels (1) vs everything else (0)\n",
    "# # Extract intertidal pixels (value 1) then erode these by 1 pixels to ensure we only\n",
    "# # use high certainty intertidal regions for identifying connectivity to wet\n",
    "# # pixels in our satellite imagery.\n",
    "inter = freq.where((freq>=lower)&\n",
    "                      (freq<=upper)&\n",
    "                      (corr>=0.15))\n",
    "## Convert to true/false\n",
    "inter = xr.where(freq==inter,True,False)\n",
    "## Drop Nans\n",
    "if freq.isnull().any()==True is True:\n",
    "    inter = inter.where(freq.notnull(), drop=True)\n",
    "\n",
    "## Erode outer edge pixels by 1 pixel to drop extrema intertidal pixels and ensure connection \n",
    "## to high certainty intertidal pixels (POSSIBLY UNNECCESARY due to corr definition of intertidal pixels)\n",
    "inter = xr.apply_ufunc(binary_erosion, inter == 1, disk(1))\n",
    "\n",
    "## Applying intertidal_connection masking function for the first of two times\n",
    "## This first mask identifies where wet+intertidal pixels connect to intertidal pixels\n",
    "intertidal_mask1 = intertidal_connection(wet_intertidal, inter, connectivity=1)\n",
    "\n",
    "## Prepare data to test for wet pixel connection to the connected 'wet and intertidal' mask.\n",
    "## Identify and relabel the pixels in 'freq' that are 'wet (0)' and 'other (1)'.\n",
    "wet_bool = xr.where(freq==wet,False,True)\n",
    "## If deep-sea masked pixels, replace Nans with 'wet' boolean (0)\n",
    "if freq.isnull().any()==True is True:\n",
    "    wet_bool = wet_bool.where(freq.notnull(), 0)\n",
    "\n",
    "# ## Applying intertidal_connection masking function for the second time\n",
    "intertidal_mask2 = intertidal_connection(wet_bool, intertidal_mask1, connectivity=1)\n",
    "\n",
    "## Mask out areas identified as 'intensive urban use' in ABARES CLUM dataset\n",
    "intertidal_mask2 = xr.where(reclassified.where(intertidal_mask2==True),False,True, keep_attrs=True) \n",
    "\n",
    "# ## distinguish wet inland class from wet ocean class\n",
    "wet_inland = wet_bool.where((wet_bool==0) & (intertidal_mask2 == False))#, drop=True) ## Weird artefacts when drop=True\n",
    "wet_ocean = wet_bool.where((wet_bool==0) & (intertidal_mask2 == True), drop=True)\n",
    "\n",
    "'''--------------------------------------------------------------------'''\n",
    "## Classify 'intermittently wet' pixels into 'intermittently_wet_inland' and 'other-intertidal_fringe'\n",
    "## Identify and relabel the pixels in 'freq' that are 'intermittent_nontidal wet (0)' and 'other (1)'.\n",
    "int_nt = xr.where(freq==intermittent_nontidal,False,True)\n",
    "## If deep-sea masked pixels, replace Nans with 'wet' boolean (0)\n",
    "if freq.isnull().any()==True is True:\n",
    "    int_nt = int_nt.where(freq.notnull(), 0)\n",
    "\n",
    "## Applying intertidal_connection masking function to separate inland from intertidal connected pixels\n",
    "intertidal_mask = intertidal_connection(int_nt, intertidal_mask1, connectivity=1)\n",
    "\n",
    "## Mask out areas identified as 'intensive urban use' in ABARES CLUM dataset\n",
    "intertidal_mask = xr.where(reclassified.where(intertidal_mask==True),False,True, keep_attrs=True)\n",
    "\n",
    "# ## distinguish intermittent inland from intermittent-other (intertidal_fringe) pixels\n",
    "intermittent_inland = int_nt.where((int_nt==0) & (intertidal_mask == False))#, drop=True) ## Weird artefacts when drop=True\n",
    "intertidal_fringe = int_nt.where((int_nt==0) & (intertidal_mask == True), drop=True)\n",
    "\n",
    "## Isolate mostly dry pixels from intertidal_fringe class\n",
    "mostly_dry = intertidal_fringe.where(freq < 0.1, drop=True)\n",
    "## Isolate mostly wet pixels from intertidal fringe class\n",
    "mostly_wet = intertidal_fringe.where(freq >= 0.1, drop=True)\n",
    "\n",
    "##Separate misclassified urban pixels into 'dry' class\n",
    "urban_dry = reclassified.where((reclassified==True)&(intermittent_inland.notnull()))\n",
    "urban_dry1 = reclassified.where((reclassified==True)&(intertidal_hc.notnull()))\n",
    "urban_dry2 = reclassified.where((reclassified==True)&(intertidal_lc.notnull()))\n",
    "\n",
    "##Identify true classified classes\n",
    "intermittent_inland = intermittent_inland.where(urban_dry.isnull())\n",
    "intertidal_hc = intertidal_hc.where(urban_dry1.isnull())\n",
    "intertidal_lc = intertidal_lc.where(urban_dry2.isnull())\n",
    "\n",
    "'''--------------------------------------------------------------------'''\n",
    "## Combine wet_ocean and intertidal_fringe pixels\n",
    "wet_ocean = wet_ocean.combine_first(mostly_wet)\n",
    "\n",
    "## Combine urban_dry classes\n",
    "urban_dry = urban_dry.combine_first(urban_dry1)\n",
    "urban_dry = urban_dry.combine_first(urban_dry2)\n",
    "\n",
    "# # ## Relabel pixels\n",
    "dry = dry.where(dry.isnull(), 0)\n",
    "wet_ocean = wet_ocean.where(wet_ocean.isnull(),3)\n",
    "wet_inland = wet_inland.where(wet_inland.isnull(),2)\n",
    "intermittent_inland = intermittent_inland.where(intermittent_inland.isnull(),1)\n",
    "intertidal_hc = intertidal_hc.where(intertidal_hc.isnull(),4)\n",
    "intertidal_lc = intertidal_lc.where(intertidal_lc.isnull(),5)\n",
    "mostly_dry = mostly_dry.where(mostly_dry.isnull(),0)\n",
    "urban_dry = urban_dry.where(urban_dry.isnull(),0)\n",
    "\n",
    "## Combine\n",
    "extents = dry.combine_first(wet_ocean)\n",
    "extents = extents.combine_first(wet_inland)\n",
    "extents = extents.combine_first(intertidal_hc)\n",
    "extents = extents.combine_first(intermittent_inland)\n",
    "extents = extents.combine_first(intertidal_lc)\n",
    "extents = extents.combine_first(mostly_dry)\n",
    "extents = extents.combine_first(urban_dry)   "
   ]
  },
  {
   "cell_type": "code",
   "execution_count": null,
   "id": "eb98b117-0ec6-4263-8904-11f23a623916",
   "metadata": {
    "tags": []
   },
   "outputs": [],
   "source": [
    "extents.odc.write_cog(\"extents_old.tif\")"
   ]
  },
  {
   "cell_type": "code",
   "execution_count": 49,
   "id": "6380ec65-7299-4b10-bc12-0217aa304923",
   "metadata": {
    "tags": []
   },
   "outputs": [],
   "source": [
    "land_use_mask=\"/gdata1/data/land_use/ABARES_CLUM/geotiff_clum_50m1220m/clum_50m1220m.tif\"\n",
    "freq=ds_aux.ndwi_wet_freq\n",
    "dem=ds.elevation\n",
    "corr=ds_aux.ndwi_tide_corr\n",
    "\n",
    "# Load the land use dataset to mask out misclassified extents classes caused by urban land class\n",
    "landuse_ds = load_reproject(\n",
    "    path=land_use_mask,\n",
    "    gbox=dem.odc.geobox,\n",
    "    resampling=\"nearest\",\n",
    ").compute()\n",
    "\n",
    "# Separate out the 'intensive urban' land use summary class and set \n",
    "# all other pixels to False\n",
    "reclassified = landuse_ds.isin(\n",
    "    [500, 530, 531, 532, 533, 534, 535, 536, 537, 538, 540, 541, \n",
    "     550, 551, 552, 553, 554, 555, 560, 561, 562, 563, 564, 565, \n",
    "     566, 567, 570, 571, 572, 573, 574, 575]\n",
    ")\n",
    "\n",
    "\"\"\"--------------------------------------------------------------------\"\"\"\n",
    "## Set the upper and lower freq thresholds\n",
    "upper, lower = 0.99, 0.01\n",
    "\n",
    "# Set NaN values in frequency to 1\n",
    "freq = freq.fillna(1)\n",
    "\n",
    "## Identify broad classes based on wetness frequency and tidal correlation\n",
    "dry = freq < lower\n",
    "intermittent = (freq >= lower) & (freq <= upper)\n",
    "wet = freq > upper\n",
    "\n",
    "##### Separate intermittent_tidal (intertidal)\n",
    "intertidal = intermittent & (corr >= 0.15)\n",
    "\n",
    "##### Separate intermittent_nontidal\n",
    "intermittent_nontidal = intermittent & (corr < 0.15)\n",
    "\n",
    "##### Separate high and low confidence intertidal pixels\n",
    "intertidal_hc = intertidal & dem.notnull()\n",
    "intertidal_lc = intertidal & dem.isnull()\n",
    "\n",
    "\"\"\"--------------------------------------------------------------------\"\"\"\n",
    "# Clean up the urban land masking class by removing high confidence intertidal areas\n",
    "reclassified = reclassified & ~intertidal_hc\n",
    "\n",
    "# Erode the intensive urban land use class to remove extents-class overlaps from\n",
    "# the native 50m CLUM pixel resolution dataset\n",
    "reclassified = mask_cleanup(mask=reclassified, mask_filters=[(\"erosion\", 5)])\n",
    "\n",
    "##### Classify 'wet' pixels based on connectivity to intertidal pixels (into 'wet_ocean' and 'wet_inland')\n",
    "\n",
    "# Create a true/false layer of intertidal pixels (1) vs everything else (0)\n",
    "# Extract intertidal pixels (value 1) then erode these by 1 pixels to ensure we only\n",
    "# use high certainty intertidal regions for identifying connectivity to wet\n",
    "# pixels in our satellite imagery.\n",
    "inter = intertidal_hc | intertidal_lc\n",
    "\n",
    "# Erode outer edge pixels by 1 pixel to drop extrema intertidal pixels and ensure connection \n",
    "# to high certainty intertidal pixels\n",
    "inter = xr.apply_ufunc(binary_erosion, inter, disk(1))\n",
    "\n",
    "# Applying intertidal_connection masking function for the first of two times\n",
    "# This first mask identifies where wet+intertidal (e.g. not dry) pixels \n",
    "# connect to intertidal pixels\n",
    "intertidal_mask1 = intertidal_connection(~dry, inter, connectivity=1)\n",
    "\n",
    "# Applying intertidal_connection masking function for the second time,\n",
    "# testing for wet pixel connection to the connected 'wet and intertidal' mask.\n",
    "intertidal_mask2 = intertidal_connection(wet, intertidal_mask1, connectivity=1)\n",
    "\n",
    "# Mask out areas identified as 'intensive urban use' in ABARES CLUM dataset\n",
    "intertidal_mask2 = intertidal_mask2 & ~reclassified\n",
    "\n",
    "# Distinguish wet inland class from wet ocean class\n",
    "wet_inland = ~wet_bool & ~intertidal_mask2\n",
    "wet_ocean = ~wet_bool & intertidal_mask2\n",
    "\n",
    "'''--------------------------------------------------------------------'''\n",
    "## Classify 'intermittently wet' pixels into 'intermittently_wet_inland' and 'other-intertidal_fringe'\n",
    "\n",
    "## Applying intertidal_connection masking function to separate inland from intertidal connected pixels\n",
    "intertidal_mask = intertidal_connection(intermittent_nontidal, intertidal_mask1, connectivity=1)\n",
    "\n",
    "# Mask out areas identified as 'intensive urban use' in ABARES CLUM dataset\n",
    "intertidal_mask = intertidal_mask & ~reclassified\n",
    "\n",
    "# Distinguish intermittent inland from intermittent-other (intertidal_fringe) pixels\n",
    "intermittent_inland = ~int_nt & ~intertidal_mask\n",
    "intertidal_fringe = ~int_nt & intertidal_mask\n",
    "\n",
    "# Isolate mostly dry pixels from intertidal_fringe class\n",
    "mostly_dry = intertidal_fringe & (freq < 0.1)\n",
    "# Isolate mostly wet pixels from intertidal fringe class\n",
    "mostly_wet = intertidal_fringe & (freq >= 0.1)\n",
    "\n",
    "# Separate misclassified urban pixels into 'dry' class\n",
    "urban_dry = (reclassified & intermittent_inland)\n",
    "urban_dry1 = (reclassified & intertidal_hc)\n",
    "urban_dry2 = (reclassified & intertidal_lc)\n",
    "\n",
    "#Identify true classified classes\n",
    "intermittent_inland = intermittent_inland & ~urban_dry\n",
    "intertidal_hc = intertidal_hc & ~urban_dry1\n",
    "intertidal_lc = intertidal_lc & ~urban_dry2\n",
    "\n",
    "'''--------------------------------------------------------------------'''\n",
    "# Combine wet_ocean and intertidal_fringe pixels\n",
    "wet_ocean = wet_ocean | mostly_wet \n",
    "\n",
    "# Combine urban_dry classes\n",
    "urban_dry = urban_dry1 | urban_dry2\n",
    "\n",
    "# Relabel pixels\n",
    "dry = (dry * 0).where(dry)\n",
    "wet_ocean = (wet_ocean * 3).where(wet_ocean)\n",
    "wet_inland = (wet_inland * 2).where(wet_inland)\n",
    "intermittent_inland = (intermittent_inland * 1).where(intermittent_inland)\n",
    "intertidal_hc = (intertidal_hc * 4).where(intertidal_hc)\n",
    "intertidal_lc = (intertidal_lc * 5).where(intertidal_lc)\n",
    "mostly_dry = (mostly_dry * 0).where(mostly_dry)\n",
    "urban_dry = (urban_dry * 0).where(urban_dry)\n",
    "\n",
    "# Combine\n",
    "extents = dry.combine_first(wet_ocean)\n",
    "extents = extents.combine_first(wet_inland)\n",
    "extents = extents.combine_first(intertidal_hc)\n",
    "extents = extents.combine_first(intermittent_inland)\n",
    "extents = extents.combine_first(intertidal_lc)\n",
    "extents = extents.combine_first(mostly_dry)\n",
    "extents = extents.combine_first(0)\n"
   ]
  },
  {
   "cell_type": "code",
   "execution_count": 50,
   "id": "d8e3f6b5-7c6b-4c97-9362-e1709a2f0c7b",
   "metadata": {
    "tags": []
   },
   "outputs": [
    {
     "data": {
      "text/plain": [
       "PosixPath('extents_new.tif')"
      ]
     },
     "execution_count": 50,
     "metadata": {},
     "output_type": "execute_result"
    }
   ],
   "source": [
    "ds.extents.odc.write_cog(\"extents_new.tif\", overwrite=True)"
   ]
  },
  {
   "cell_type": "code",
   "execution_count": 17,
   "id": "e3a25a25-ddd1-4961-b20e-b5b563922903",
   "metadata": {
    "tags": []
   },
   "outputs": [
    {
     "data": {
      "text/plain": [
       "PosixPath('extents_urban.tif')"
      ]
     },
     "execution_count": 17,
     "metadata": {},
     "output_type": "execute_result"
    }
   ],
   "source": [
    "reclassified.astype(np.int16).odc.write_cog(\"extents_urban.tif\", overwrite=True)"
   ]
  },
  {
   "cell_type": "markdown",
   "id": "4ebea320-f34c-4893-ad9a-a1eae0071450",
   "metadata": {
    "tags": []
   },
   "source": [
    "### Intertidal exposure\n",
    "Calculate exposure using the script function"
   ]
  },
  {
   "cell_type": "code",
   "execution_count": null,
   "id": "c674d6ec-069a-4237-89f0-f7ee94eb61ef",
   "metadata": {},
   "outputs": [],
   "source": [
    "# ds[\"exposure\"], tide_cq = exposure(\n",
    "#     dem=ds.elevation,\n",
    "#     time_range=all_timerange,\n",
    "#     tide_model=tide_model,\n",
    "#     tide_model_dir=tide_model_dir,\n",
    "# )"
   ]
  },
  {
   "cell_type": "markdown",
   "id": "92c49057-fecc-4390-9387-edd41d5c4b4e",
   "metadata": {},
   "source": [
    "### Spread and offset\n",
    "Calculate the spread and high/low tide biases of input observed images as a percentage of the modelled tide heights"
   ]
  },
  {
   "cell_type": "code",
   "execution_count": null,
   "id": "ea6d5149-587a-444b-ad8c-bbbd5b31a79c",
   "metadata": {},
   "outputs": [],
   "source": [
    "# (\n",
    "#     ds[\"oa_lat\"],\n",
    "#     ds[\"oa_hat\"],\n",
    "#     ds[\"oa_lot\"],\n",
    "#     ds[\"oa_hot\"],\n",
    "#     ds[\"oa_spread\"],\n",
    "#     ds[\"oa_offset_lowtide\"],\n",
    "#     ds[\"oa_offset_hightide\"],\n",
    "# ) = bias_offset(\n",
    "#     tide_m=tide_m, tide_cq=tide_cq, extents=ds.extents, lot_hot=True, lat_hat=True\n",
    "# )"
   ]
  },
  {
   "cell_type": "markdown",
   "id": "a0f6f1db-e5a7-4e67-94b2-3c09ae9364f5",
   "metadata": {},
   "source": [
    "### Tideline confidence"
   ]
  },
  {
   "cell_type": "code",
   "execution_count": null,
   "id": "a6491094-e123-4cc3-891a-c8302eb02bfa",
   "metadata": {},
   "outputs": [],
   "source": [
    "# (hightideline, lowtideline, tidelines_gdf) = tidal_offset_tidelines(\n",
    "#     extents=ds.extents,\n",
    "#     offset_hightide=ds.oa_offset_hightide,\n",
    "#     offset_lowtide=ds.oa_offset_lowtide,\n",
    "#     distance=250,\n",
    "# )"
   ]
  },
  {
   "cell_type": "markdown",
   "id": "12d5f458-6e32-4bd6-ab25-4417dfaa5edb",
   "metadata": {},
   "source": [
    "## Plot all layers"
   ]
  },
  {
   "cell_type": "code",
   "execution_count": null,
   "id": "98d4c60e-1378-424b-ab13-7d3dc1d4ca09",
   "metadata": {},
   "outputs": [],
   "source": [
    "# Inspect contents of ds before plotting\n",
    "ds"
   ]
  },
  {
   "cell_type": "code",
   "execution_count": null,
   "id": "21dd40e3-1e1e-4f07-a606-76eaf463114c",
   "metadata": {},
   "outputs": [],
   "source": [
    "fig = plt.figure(figsize=(16, 18), tight_layout=True)\n",
    "ax_dict = fig.subplot_mosaic(\n",
    "    \"\"\"\n",
    "    AAAABBBBCCCC\n",
    "    DDDEEEFFFGGG\n",
    "    HHHIIIJJJKKK\n",
    "    LLLMMM......\n",
    "    \"\"\",\n",
    "    height_ratios=[1, 0.8, 0.8, 0.8],\n",
    ")\n",
    "\n",
    "# label_params = dict(add_labels=False, yticks=[], xticks=[])\n",
    "\n",
    "# Plot Elevation with hillshade\n",
    "ds[\"elevation\"].plot.imshow(\n",
    "    ax=ax_dict[\"A\"],\n",
    "    cmap=\"viridis\",\n",
    "    interpolation=\"bilinear\",\n",
    ")\n",
    "intertidal_hillshade(ds[\"elevation\"], ds[\"extents\"], vert_exag=300).plot.imshow(\n",
    "    ax=ax_dict[\"A\"],\n",
    "    interpolation=\"bilinear\",\n",
    ")\n",
    "ax_dict[\"A\"].set_title(\"Elevation (metres AMSL)\")\n",
    "\n",
    "# Plot uncertainty\n",
    "ds[\"elevation_uncertainty\"].plot.imshow(\n",
    "    ax=ax_dict[\"B\"],\n",
    "    cmap=\"magma\",\n",
    "    interpolation=\"bilinear\",\n",
    ")\n",
    "ax_dict[\"B\"].set_title(\"Elevation uncertainty (metres)\")\n",
    "ax_dict[\"B\"].set_facecolor(\"#2E2E2E\")\n",
    "\n",
    "# Plot Exposure\n",
    "ds[\"exposure\"].plot.imshow(\n",
    "    ax=ax_dict[\"C\"],\n",
    "    cmap=\"RdYlGn\",\n",
    "    levels=np.arange(0, 100, 1),\n",
    "    add_labels=False,\n",
    "    yticks=[],\n",
    ")\n",
    "ax_dict[\"C\"].set_title(\"Exposure\")\n",
    "\n",
    "# Plot the always/sometimes/never wet extents\n",
    "ds[\"extents\"].astype(np.int16).plot.imshow(ax=ax_dict[\"D\"])\n",
    "ax_dict[\"D\"].set_title(\"Wet, Dry and Intertidal extent\")\n",
    "\n",
    "# Plot the observation spread\n",
    "ds[\"oa_spread\"].plot.imshow(\n",
    "    ax=ax_dict[\"E\"],\n",
    "    vmin=0,\n",
    "    vmax=100,\n",
    "    cmap=\"magma\",\n",
    "    cbar_kwargs={\"label\": \"% of tidal range observed\"},\n",
    ")\n",
    "ax_dict[\"E\"].set_title(\"Observation Spread (%)\")\n",
    "\n",
    "# Plot the high-tide offset\n",
    "ds[\"oa_offset_hightide\"].plot.imshow(\n",
    "    ax=ax_dict[\"F\"],\n",
    "    vmin=0,\n",
    "    vmax=40,\n",
    "    cmap=\"magma\",\n",
    "    cbar_kwargs={\"label\": \"% of high tide never observed\"},\n",
    ")\n",
    "ax_dict[\"F\"].set_title(\"High-tide offset (%)\")\n",
    "\n",
    "# Plot the low-tide offset\n",
    "ds[\"oa_offset_lowtide\"].plot.imshow(\n",
    "    ax=ax_dict[\"G\"],\n",
    "    vmin=0,\n",
    "    vmax=40,\n",
    "    cmap=\"magma\",\n",
    "    cbar_kwargs={\"label\": \"% of low tide never observed\"},\n",
    ")\n",
    "ax_dict[\"G\"].set_title(\"Low-tide offset (%)\")\n",
    "\n",
    "# Plot the LAT\n",
    "ds[\"oa_lat\"].plot.imshow(\n",
    "    ax=ax_dict[\"H\"],\n",
    "    vmin=ds[\"oa_lat\"].min(),\n",
    "    vmax=ds[\"oa_hat\"].max(),\n",
    "    add_labels=False,\n",
    ")\n",
    "ax_dict[\"H\"].set_title(\"Lowest Astronomical Tide\")\n",
    "\n",
    "# Plot the LOT\n",
    "ds[\"oa_lot\"].plot.imshow(\n",
    "    ax=ax_dict[\"I\"], vmin=ds[\"oa_lat\"].min(), vmax=ds[\"oa_hat\"].max()\n",
    ")\n",
    "ax_dict[\"I\"].set_title(\"Lowest Observed Tide\")\n",
    "\n",
    "# Plot the HAT\n",
    "ds[\"oa_hat\"].plot.imshow(\n",
    "    ax=ax_dict[\"J\"],\n",
    "    vmin=ds[\"oa_lat\"].min(),\n",
    "    vmax=ds[\"oa_hat\"].max(),\n",
    "    add_labels=False,\n",
    "    yticks=[],\n",
    ")\n",
    "ax_dict[\"J\"].set_title(\"Highest Astronomical Tide\")\n",
    "\n",
    "# Plot the HOT\n",
    "ds[\"oa_hot\"].plot.imshow(\n",
    "    ax=ax_dict[\"K\"],\n",
    "    vmin=ds[\"oa_lat\"].min(),\n",
    "    vmax=ds[\"oa_hat\"].max(),\n",
    ")\n",
    "ax_dict[\"K\"].set_title(\"Highest Observed Tide\")\n",
    "\n",
    "# Plot the high and low tidelines with respective offset\n",
    "ax_dict[\"L\"].set_title(\"Lowtide line and lowtide offset\")\n",
    "lowtideline.plot(\n",
    "    column=\"offset_lowtide\",\n",
    "    legend=True,\n",
    "    vmin=0,\n",
    "    vmax=40,\n",
    "    cmap=\"magma\",\n",
    "    ax=ax_dict[\"L\"],\n",
    "    zorder=2,\n",
    ")\n",
    "tidelines_gdf.loc[[0], \"geometry\"].plot(ax=ax_dict[\"L\"], zorder=1)\n",
    "ax_dict[\"L\"].set_xlim(left=ds.elevation.x.min(), right=ds.elevation.x.max())\n",
    "ax_dict[\"L\"].set_ylim(bottom=ds.elevation.y.min(), top=ds.elevation.y.max())\n",
    "\n",
    "ax_dict[\"M\"].set_title(\"Hightide line and hightide offset\")\n",
    "hightideline.plot(\n",
    "    column=\"offset_hightide\",\n",
    "    legend=True,\n",
    "    vmin=0,\n",
    "    vmax=40,\n",
    "    cmap=\"magma\",\n",
    "    ax=ax_dict[\"M\"],\n",
    "    zorder=2,\n",
    ")\n",
    "tidelines_gdf.loc[[1], \"geometry\"].plot(ax=ax_dict[\"M\"], zorder=1)\n",
    "ax_dict[\"M\"].set_yticks([])\n",
    "ax_dict[\"M\"].set_xlim(left=ds.elevation.x.min(), right=ds.elevation.x.max())\n",
    "ax_dict[\"M\"].set_ylim(bottom=ds.elevation.y.min(), top=ds.elevation.y.max())\n",
    "\n",
    "# Remove axis labels\n",
    "for label, ax in ax_dict.items():\n",
    "    ax.set_yticks([])\n",
    "    ax.set_xticks([])\n",
    "    ax.set_ylabel(\"\")\n",
    "    ax.set_xlabel(\"\")"
   ]
  },
  {
   "cell_type": "markdown",
   "id": "b55e9c43-a6e7-49fc-a4de-e97558f5393c",
   "metadata": {
    "tags": []
   },
   "source": [
    "## Export layers"
   ]
  },
  {
   "cell_type": "code",
   "execution_count": null,
   "id": "301b8d2e-9507-4e69-b107-3b372e953b1f",
   "metadata": {},
   "outputs": [],
   "source": [
    "# Create output folder. If it doesn't exist, create it\n",
    "output_dir = f\"data/interim/{study_area}/{start_date}-{end_date}\"\n",
    "os.makedirs(output_dir, exist_ok=True)"
   ]
  },
  {
   "cell_type": "code",
   "execution_count": null,
   "id": "c3fcf901-846e-4cc0-96ee-912937110c29",
   "metadata": {},
   "outputs": [],
   "source": [
    "# Save rasters as GeoTIFFs\n",
    "export_intertidal_rasters(\n",
    "    ds, prefix=f\"{output_dir}/{study_area}_{start_date}_{end_date}\"\n",
    ")\n",
    "export_intertidal_rasters(\n",
    "    ds_aux, prefix=f\"{output_dir}/{study_area}_{start_date}_{end_date}_debug\"\n",
    ")"
   ]
  },
  {
   "cell_type": "code",
   "execution_count": null,
   "id": "dba82a22-55b7-430a-89fb-8115cc29dad5",
   "metadata": {},
   "outputs": [],
   "source": [
    "# Export figure\n",
    "fig.savefig(f\"data/figures/{study_area}_{start_date}_{end_date}.png\")"
   ]
  },
  {
   "cell_type": "code",
   "execution_count": null,
   "id": "b0b149db-805c-4f97-b463-9d223581271a",
   "metadata": {},
   "outputs": [],
   "source": [
    "# Export vector files\n",
    "hightideline.to_crs(\"EPSG:4326\").to_file(\n",
    "    f\"{output_dir}/{study_area}_{start_date}_{end_date}_offset_hightide.geojson\"\n",
    ")\n",
    "lowtideline.to_crs(\"EPSG:4326\").to_file(\n",
    "    f\"{output_dir}/{study_area}_{start_date}_{end_date}_offset_lowtide.geojson\"\n",
    ")\n",
    "tidelines_gdf.to_crs(\"EPSG:4326\").to_file(\n",
    "    f\"{output_dir}/{study_area}_{start_date}_{end_date}_tidelines_highlow.geojson\"\n",
    ")"
   ]
  },
  {
   "cell_type": "markdown",
   "id": "2ec2d9b5-7855-412a-807f-b1238d61be23",
   "metadata": {
    "tags": []
   },
   "source": [
    "### Close Dask client"
   ]
  },
  {
   "cell_type": "code",
   "execution_count": null,
   "id": "1183efdd-5183-4d40-86c4-0b5b9f48fe11",
   "metadata": {},
   "outputs": [],
   "source": [
    "client.close()"
   ]
  }
 ],
 "metadata": {
  "kernelspec": {
   "display_name": "Python 3 (ipykernel)",
   "language": "python",
   "name": "python3"
  },
  "language_info": {
   "codemirror_mode": {
    "name": "ipython",
    "version": 3
   },
   "file_extension": ".py",
   "mimetype": "text/x-python",
   "name": "python",
   "nbconvert_exporter": "python",
   "pygments_lexer": "ipython3",
   "version": "3.10.13"
  },
  "widgets": {
   "application/vnd.jupyter.widget-state+json": {
    "state": {
     "0f39c06a6c904065b9236d3b1352f3df": {
      "model_module": "@jupyter-widgets/controls",
      "model_module_version": "2.0.0",
      "model_name": "HTMLStyleModel",
      "state": {
       "description_width": "",
       "font_size": null,
       "text_color": null
      }
     },
     "1611a7922bfb46949ce2661bd31c3ae4": {
      "model_module": "jupyter-leaflet",
      "model_module_version": "^0.17",
      "model_name": "LeafletFullScreenControlModel",
      "state": {
       "_model_module_version": "^0.17",
       "_view_module_version": "^0.17",
       "options": [
        "position"
       ]
      }
     },
     "18616ec6eccd4b7d851b94a1a866933d": {
      "model_module": "jupyter-leaflet",
      "model_module_version": "^0.17",
      "model_name": "LeafletDrawControlModel",
      "state": {
       "_model_module_version": "^0.17",
       "_view_module_version": "^0.17",
       "data": [
        {
         "geometry": {
          "coordinates": [
           [
            [
             147.294359,
             -42.901878
            ],
            [
             147.294359,
             -42.83696
            ],
            [
             147.426204,
             -42.83696
            ],
            [
             147.426204,
             -42.901878
            ],
            [
             147.294359,
             -42.901878
            ]
           ]
          ],
          "type": "Polygon"
         },
         "properties": {
          "style": {
           "attribution": null,
           "bubblingMouseEvents": true,
           "clickable": true,
           "color": "#000000",
           "dashArray": null,
           "dashOffset": null,
           "fill": true,
           "fillColor": "#fca45d",
           "fillOpacity": 0.1,
           "fillRule": "evenodd",
           "interactive": true,
           "lineCap": "round",
           "lineJoin": "round",
           "noClip": false,
           "opacity": 0.5,
           "pane": "overlayPane",
           "smoothFactor": 1,
           "stroke": true,
           "weight": 4
          }
         },
         "type": "Feature"
        },
        {
         "geometry": {
          "coordinates": [
           [
            [
             147.298479,
             -42.861627
            ],
            [
             147.298479,
             -42.814297
            ],
            [
             147.642511,
             -42.814297
            ],
            [
             147.642511,
             -42.861627
            ],
            [
             147.298479,
             -42.861627
            ]
           ]
          ],
          "type": "Polygon"
         },
         "properties": {
          "style": {
           "clickable": true,
           "color": "#000000",
           "fill": true,
           "fillColor": "#fca45d",
           "fillOpacity": 0.1,
           "opacity": 0.5,
           "stroke": true,
           "weight": 4
          }
         },
         "type": "Feature"
        }
       ],
       "options": [
        "position"
       ],
       "polygon": {
        "shapeOptions": {
         "clickable": true,
         "color": "#000000",
         "editing": {
          "color": "#000000",
          "fillColor": "#fca45d",
          "fillOpacity": 0.1
         },
         "fill": true,
         "fillColor": "#fca45d",
         "fillOpacity": 0.1,
         "opacity": 0.5,
         "original": {
          "color": "#000000",
          "fillColor": "#fca45d",
          "fillOpacity": 0.1
         },
         "stroke": true,
         "weight": 4
        }
       },
       "polyline": {},
       "rectangle": {
        "metric": [
         "km",
         "m"
        ],
        "shapeOptions": {
         "clickable": true,
         "color": "#000000",
         "fill": true,
         "fillColor": "#fca45d",
         "fillOpacity": 0.1,
         "opacity": 0.5,
         "stroke": true,
         "weight": 4
        }
       }
      }
     },
     "1f695b2dccdf4f35b857cc031c8f7063": {
      "model_module": "@jupyter-widgets/controls",
      "model_module_version": "2.0.0",
      "model_name": "HTMLStyleModel",
      "state": {
       "description_width": "",
       "font_size": null,
       "text_color": null
      }
     },
     "211bf71380d94384adc00cacf9080ef8": {
      "model_module": "@jupyter-widgets/controls",
      "model_module_version": "2.0.0",
      "model_name": "HTMLModel",
      "state": {
       "layout": "IPY_MODEL_e3b0c85fc6d24c99823818aa8b38bde1",
       "style": "IPY_MODEL_ac2131617a9340c1a874cec35e74d5bb",
       "value": "<pre style=\"color:grey\">lat: [-27.7978, -27.0665]\nlon: [152.3845, 154.4939]</pre>"
      }
     },
     "24065df87e8d4e7b8e8c07e66b62bf21": {
      "model_module": "jupyter-leaflet",
      "model_module_version": "^0.17",
      "model_name": "LeafletMapModel",
      "state": {
       "_model_module_version": "^0.17",
       "_view_module_version": "^0.17",
       "bottom": 152158,
       "center": [
        -27.432727501179993,
        153.43921478281663
       ],
       "controls": [
        "IPY_MODEL_32045e9008c2457cbdeb1e0e97212843",
        "IPY_MODEL_e7b834ca3ff84ec0905e0172e0c5f271",
        "IPY_MODEL_1611a7922bfb46949ce2661bd31c3ae4"
       ],
       "default_style": "IPY_MODEL_3603d19c0f0a4ea6a8aeb882b298b738",
       "dragging_style": "IPY_MODEL_31675d00f19a4932be00a2cc85d51e07",
       "east": 154.49390228281663,
       "fullscreen": false,
       "interpolation": "bilinear",
       "layers": [
        "IPY_MODEL_d494d3909189474f8b68cdbd4592e466"
       ],
       "layout": "IPY_MODEL_7fc0c85a0f3740129f2a093c94806ef6",
       "left": 242035.02644451856,
       "modisdate": "2023-12-14",
       "north": -27.066463347710176,
       "options": [
        "bounce_at_zoom_limits",
        "box_zoom",
        "center",
        "close_popup_on_click",
        "double_click_zoom",
        "dragging",
        "fullscreen",
        "inertia",
        "inertia_deceleration",
        "inertia_max_speed",
        "interpolation",
        "keyboard",
        "keyboard_pan_offset",
        "keyboard_zoom_offset",
        "max_zoom",
        "min_zoom",
        "prefer_canvas",
        "scroll_wheel_zoom",
        "tap",
        "tap_tolerance",
        "touch_zoom",
        "world_copy_jump",
        "zoom",
        "zoom_animation_threshold",
        "zoom_delta",
        "zoom_snap"
       ],
       "prefer_canvas": false,
       "right": 243571.02644451856,
       "scroll_wheel_zoom": true,
       "south": -27.797780340741387,
       "style": "IPY_MODEL_3603d19c0f0a4ea6a8aeb882b298b738",
       "top": 151558,
       "west": 152.38452728281663,
       "window_url": "https://app.sandbox.dea.ga.gov.au/user/robbi.bishoptaylor@ga.gov.au/lab/tree/Robbi/dea-intertidal/notebooks/Intertidal_workflow.ipynb",
       "zoom": 10
      }
     },
     "2839aaecbe2142b7a22bab5e306c88e3": {
      "model_module": "jupyter-leaflet",
      "model_module_version": "^0.17",
      "model_name": "LeafletMapStyleModel",
      "state": {
       "_model_module_version": "^0.17"
      }
     },
     "28a5caef5da7476cacd13172d803853a": {
      "model_module": "@jupyter-widgets/controls",
      "model_module_version": "2.0.0",
      "model_name": "HBoxModel",
      "state": {
       "children": [
        "IPY_MODEL_5d2bdfeee34f4936a93d52a7018fa9ee",
        "IPY_MODEL_ed7303ea4d474315b630be81e3a3752f",
        "IPY_MODEL_719df0e540b240598c0541096893f01d"
       ],
       "layout": "IPY_MODEL_eda149476b064c869b590043be022df4"
      }
     },
     "2cacb111cc474439a12ed25a2f4ef8e3": {
      "model_module": "@jupyter-widgets/base",
      "model_module_version": "2.0.0",
      "model_name": "LayoutModel",
      "state": {}
     },
     "2f03ac345def443fbf02236729ad5e49": {
      "model_module": "@jupyter-widgets/base",
      "model_module_version": "2.0.0",
      "model_name": "LayoutModel",
      "state": {
       "flex": "1 0 20em",
       "height": "3em",
       "width": "20em"
      }
     },
     "31675d00f19a4932be00a2cc85d51e07": {
      "model_module": "jupyter-leaflet",
      "model_module_version": "^0.17",
      "model_name": "LeafletMapStyleModel",
      "state": {
       "_model_module_version": "^0.17",
       "cursor": "move"
      }
     },
     "32045e9008c2457cbdeb1e0e97212843": {
      "model_module": "jupyter-leaflet",
      "model_module_version": "^0.17",
      "model_name": "LeafletZoomControlModel",
      "state": {
       "_model_module_version": "^0.17",
       "_view_module_version": "^0.17",
       "options": [
        "position",
        "zoom_in_text",
        "zoom_in_title",
        "zoom_out_text",
        "zoom_out_title"
       ]
      }
     },
     "3603d19c0f0a4ea6a8aeb882b298b738": {
      "model_module": "jupyter-leaflet",
      "model_module_version": "^0.17",
      "model_name": "LeafletMapStyleModel",
      "state": {
       "_model_module_version": "^0.17"
      }
     },
     "36fcf2de6bd4467aa489e4de2dc0b10d": {
      "model_module": "@jupyter-widgets/controls",
      "model_module_version": "2.0.0",
      "model_name": "HTMLStyleModel",
      "state": {
       "description_width": "",
       "font_size": null,
       "text_color": null
      }
     },
     "3a00a7da2bef466786b5811598a33c50": {
      "model_module": "jupyter-leaflet",
      "model_module_version": "^0.17",
      "model_name": "LeafletMapStyleModel",
      "state": {
       "_model_module_version": "^0.17"
      }
     },
     "41ef32cebe6f45928efa106969de87e5": {
      "model_module": "@jupyter-widgets/base",
      "model_module_version": "2.0.0",
      "model_name": "LayoutModel",
      "state": {
       "height": "600px"
      }
     },
     "4f1ebd63c7a24be3a2109622f6c70482": {
      "model_module": "@jupyter-widgets/base",
      "model_module_version": "2.0.0",
      "model_name": "LayoutModel",
      "state": {}
     },
     "5627683380284508bc2efaa344bf58b4": {
      "model_module": "@jupyter-widgets/controls",
      "model_module_version": "2.0.0",
      "model_name": "ButtonStyleModel",
      "state": {
       "button_color": "green",
       "font_family": null,
       "font_size": null,
       "font_style": null,
       "font_variant": null,
       "font_weight": null,
       "text_color": null,
       "text_decoration": null
      }
     },
     "5735671982c749f5ac6e755e3b40497b": {
      "model_module": "@jupyter-widgets/controls",
      "model_module_version": "2.0.0",
      "model_name": "HBoxModel",
      "state": {
       "children": [
        "IPY_MODEL_94b355c579fe4c519bab3518e6bcabc0",
        "IPY_MODEL_6178e75af20f4151b702a6e7ed0f8464",
        "IPY_MODEL_729cb0bef6df433f93ac64c8bff6971e"
       ],
       "layout": "IPY_MODEL_cacab86d606c4efbb65455df5079a1e4"
      }
     },
     "5d2bdfeee34f4936a93d52a7018fa9ee": {
      "model_module": "@jupyter-widgets/controls",
      "model_module_version": "2.0.0",
      "model_name": "HTMLModel",
      "state": {
       "layout": "IPY_MODEL_a74f9c16f11b45f68388672e45587672",
       "style": "IPY_MODEL_0f39c06a6c904065b9236d3b1352f3df",
       "value": "100%"
      }
     },
     "5db23bd43ce341ee8980fb568462dd56": {
      "model_module": "@jupyter-widgets/base",
      "model_module_version": "2.0.0",
      "model_name": "LayoutModel",
      "state": {
       "width": "5em"
      }
     },
     "5ec14395e5724c3fb05787d872ea6f1d": {
      "model_module": "@jupyter-widgets/base",
      "model_module_version": "2.0.0",
      "model_name": "LayoutModel",
      "state": {
       "width": "5em"
      }
     },
     "600947db89c749b0a812e8043a5497fa": {
      "model_module": "@jupyter-widgets/base",
      "model_module_version": "2.0.0",
      "model_name": "LayoutModel",
      "state": {}
     },
     "6178e75af20f4151b702a6e7ed0f8464": {
      "model_module": "@jupyter-widgets/controls",
      "model_module_version": "2.0.0",
      "model_name": "FloatProgressModel",
      "state": {
       "bar_style": "success",
       "layout": "IPY_MODEL_2cacb111cc474439a12ed25a2f4ef8e3",
       "max": 105,
       "style": "IPY_MODEL_e2ed1a215b234409b4878a84d8cadd90",
       "value": 105
      }
     },
     "62f676b1abf04476a29815dc9b9bc488": {
      "model_module": "jupyter-leaflet",
      "model_module_version": "^0.17",
      "model_name": "LeafletWidgetControlModel",
      "state": {
       "_model_module": "jupyter-leaflet",
       "_model_module_version": "^0.17",
       "_view_count": null,
       "_view_module": "jupyter-leaflet",
       "_view_module_version": "^0.17",
       "options": [
        "position",
        "transparent_bg"
       ],
       "position": "bottomleft",
       "widget": "IPY_MODEL_f315211a2b17470dbd43b2cf5e40137c"
      }
     },
     "6a3a66e70c504d95aab928ef551447b1": {
      "model_module": "jupyter-leaflet",
      "model_module_version": "^0.17",
      "model_name": "LeafletMapStyleModel",
      "state": {
       "_model_module_version": "^0.17",
       "cursor": "move"
      }
     },
     "719df0e540b240598c0541096893f01d": {
      "model_module": "@jupyter-widgets/controls",
      "model_module_version": "2.0.0",
      "model_name": "HTMLModel",
      "state": {
       "layout": "IPY_MODEL_600947db89c749b0a812e8043a5497fa",
       "style": "IPY_MODEL_f23ad64db3574e1cbcab81d77f660ec7",
       "value": " 105/105 [02:35&lt;00:00,  1.44s/it]"
      }
     },
     "729cb0bef6df433f93ac64c8bff6971e": {
      "model_module": "@jupyter-widgets/controls",
      "model_module_version": "2.0.0",
      "model_name": "HTMLModel",
      "state": {
       "layout": "IPY_MODEL_af38e3783d434194864e8db8dd5bb9d5",
       "style": "IPY_MODEL_36fcf2de6bd4467aa489e4de2dc0b10d",
       "value": " 105/105 [02:01&lt;00:00,  1.11s/it]"
      }
     },
     "7e2ce34baf4b470a853e4f23a212979f": {
      "model_module": "jupyter-leaflet",
      "model_module_version": "^0.17",
      "model_name": "LeafletFullScreenControlModel",
      "state": {
       "_model_module_version": "^0.17",
       "_view_module_version": "^0.17",
       "options": [
        "position"
       ]
      }
     },
     "7fc0c85a0f3740129f2a093c94806ef6": {
      "model_module": "@jupyter-widgets/base",
      "model_module_version": "2.0.0",
      "model_name": "LayoutModel",
      "state": {
       "height": "600px"
      }
     },
     "94b355c579fe4c519bab3518e6bcabc0": {
      "model_module": "@jupyter-widgets/controls",
      "model_module_version": "2.0.0",
      "model_name": "HTMLModel",
      "state": {
       "layout": "IPY_MODEL_b4cf75065a0d4037bc51be1f0ccf5cd0",
       "style": "IPY_MODEL_c55f1541d60048228b407240a788a60c",
       "value": "100%"
      }
     },
     "95cdd71665744aa3bd5da97260cd0a2e": {
      "model_module": "jupyter-leaflet",
      "model_module_version": "^0.17",
      "model_name": "LeafletMapModel",
      "state": {
       "_model_module_version": "^0.17",
       "_view_module_version": "^0.17",
       "bottom": 331806,
       "center": [
        -42.93330147830859,
        147.53402575296272
       ],
       "controls": [
        "IPY_MODEL_edc86ce977894291827a98044447f0a9",
        "IPY_MODEL_c273c196d688444daf36ff357dd2867d",
        "IPY_MODEL_7e2ce34baf4b470a853e4f23a212979f"
       ],
       "default_style": "IPY_MODEL_2839aaecbe2142b7a22bab5e306c88e3",
       "dragging_style": "IPY_MODEL_6a3a66e70c504d95aab928ef551447b1",
       "east": 148.06136950296272,
       "fullscreen": false,
       "interpolation": "bilinear",
       "layers": [
        "IPY_MODEL_fdb738c5ddc24ed28dfaafc7ff5283a5"
       ],
       "layout": "IPY_MODEL_41ef32cebe6f45928efa106969de87e5",
       "left": 476237.99803880363,
       "modisdate": "2023-12-14",
       "north": -42.782299172610465,
       "options": [
        "bounce_at_zoom_limits",
        "box_zoom",
        "center",
        "close_popup_on_click",
        "double_click_zoom",
        "dragging",
        "fullscreen",
        "inertia",
        "inertia_deceleration",
        "inertia_max_speed",
        "interpolation",
        "keyboard",
        "keyboard_pan_offset",
        "keyboard_zoom_offset",
        "max_zoom",
        "min_zoom",
        "prefer_canvas",
        "scroll_wheel_zoom",
        "tap",
        "tap_tolerance",
        "touch_zoom",
        "world_copy_jump",
        "zoom",
        "zoom_animation_threshold",
        "zoom_delta",
        "zoom_snap"
       ],
       "prefer_canvas": false,
       "right": 477773.99803880363,
       "scroll_wheel_zoom": true,
       "south": -43.08393444692566,
       "style": "IPY_MODEL_6a3a66e70c504d95aab928ef551447b1",
       "top": 331206,
       "west": 147.00668200296272,
       "window_url": "https://app.sandbox.dea.ga.gov.au/user/robbi.bishoptaylor@ga.gov.au/lab/tree/Robbi/dea-intertidal/notebooks/Intertidal_workflow.ipynb",
       "zoom": 11
      }
     },
     "a74f9c16f11b45f68388672e45587672": {
      "model_module": "@jupyter-widgets/base",
      "model_module_version": "2.0.0",
      "model_name": "LayoutModel",
      "state": {}
     },
     "ac2131617a9340c1a874cec35e74d5bb": {
      "model_module": "@jupyter-widgets/controls",
      "model_module_version": "2.0.0",
      "model_name": "HTMLStyleModel",
      "state": {
       "description_width": "",
       "font_size": null,
       "text_color": null
      }
     },
     "af38e3783d434194864e8db8dd5bb9d5": {
      "model_module": "@jupyter-widgets/base",
      "model_module_version": "2.0.0",
      "model_name": "LayoutModel",
      "state": {}
     },
     "b4cf75065a0d4037bc51be1f0ccf5cd0": {
      "model_module": "@jupyter-widgets/base",
      "model_module_version": "2.0.0",
      "model_name": "LayoutModel",
      "state": {}
     },
     "c02952ec4c2649c5b7883a0499ed28c8": {
      "model_module": "jupyter-leaflet",
      "model_module_version": "^0.17",
      "model_name": "LeafletWidgetControlModel",
      "state": {
       "_model_module": "jupyter-leaflet",
       "_model_module_version": "^0.17",
       "_view_count": null,
       "_view_module": "jupyter-leaflet",
       "_view_module_version": "^0.17",
       "options": [
        "position",
        "transparent_bg"
       ],
       "position": "bottomleft",
       "widget": "IPY_MODEL_211bf71380d94384adc00cacf9080ef8"
      }
     },
     "c273c196d688444daf36ff357dd2867d": {
      "model_module": "jupyter-leaflet",
      "model_module_version": "^0.17",
      "model_name": "LeafletAttributionControlModel",
      "state": {
       "_model_module_version": "^0.17",
       "_view_module_version": "^0.17",
       "options": [
        "position",
        "prefix"
       ],
       "position": "bottomright",
       "prefix": "ipyleaflet"
      }
     },
     "c55f1541d60048228b407240a788a60c": {
      "model_module": "@jupyter-widgets/controls",
      "model_module_version": "2.0.0",
      "model_name": "HTMLStyleModel",
      "state": {
       "description_width": "",
       "font_size": null,
       "text_color": null
      }
     },
     "c77d3a4c8b10464b9d1177f5c8e968ef": {
      "model_module": "jupyter-leaflet",
      "model_module_version": "^0.17",
      "model_name": "LeafletWidgetControlModel",
      "state": {
       "_model_module": "jupyter-leaflet",
       "_model_module_version": "^0.17",
       "_view_count": null,
       "_view_module": "jupyter-leaflet",
       "_view_module_version": "^0.17",
       "options": [
        "position",
        "transparent_bg"
       ],
       "position": "topright",
       "widget": "IPY_MODEL_fae2f3ceb31a4920a125ca066217e197"
      }
     },
     "cacab86d606c4efbb65455df5079a1e4": {
      "model_module": "@jupyter-widgets/base",
      "model_module_version": "2.0.0",
      "model_name": "LayoutModel",
      "state": {}
     },
     "cb06eed5a4204aeea1153f754d44ca9f": {
      "model_module": "@jupyter-widgets/controls",
      "model_module_version": "2.0.0",
      "model_name": "ProgressStyleModel",
      "state": {
       "description_width": ""
      }
     },
     "d494d3909189474f8b68cdbd4592e466": {
      "model_module": "jupyter-leaflet",
      "model_module_version": "^0.17",
      "model_name": "LeafletTileLayerModel",
      "state": {
       "_model_module_version": "^0.17",
       "_view_module_version": "^0.17",
       "attribution": "Tiles &copy; Esri &mdash; Source: Esri, i-cubed, USDA, USGS, AEX, GeoEye, Getmapping, Aerogrid, IGN, IGP, UPR-EGP, and the GIS User Community",
       "min_zoom": 1,
       "name": "Esri.WorldImagery",
       "options": [
        "attribution",
        "bounds",
        "detect_retina",
        "max_native_zoom",
        "max_zoom",
        "min_native_zoom",
        "min_zoom",
        "no_wrap",
        "tile_size",
        "tms",
        "zoom_offset"
       ],
       "url": "https://server.arcgisonline.com/ArcGIS/rest/services/World_Imagery/MapServer/tile/{z}/{y}/{x}"
      }
     },
     "d566de637b7c4223a19b9d8505d36e1c": {
      "model_module": "@jupyter-widgets/controls",
      "model_module_version": "2.0.0",
      "model_name": "ButtonStyleModel",
      "state": {
       "button_color": "green",
       "font_family": null,
       "font_size": null,
       "font_style": null,
       "font_variant": null,
       "font_weight": null,
       "text_color": null,
       "text_decoration": null
      }
     },
     "e2ed1a215b234409b4878a84d8cadd90": {
      "model_module": "@jupyter-widgets/controls",
      "model_module_version": "2.0.0",
      "model_name": "ProgressStyleModel",
      "state": {
       "description_width": ""
      }
     },
     "e3b0c85fc6d24c99823818aa8b38bde1": {
      "model_module": "@jupyter-widgets/base",
      "model_module_version": "2.0.0",
      "model_name": "LayoutModel",
      "state": {
       "flex": "1 0 20em",
       "height": "3em",
       "width": "20em"
      }
     },
     "e633a570fb234e249474dd53c4bf0d21": {
      "model_module": "@jupyter-widgets/controls",
      "model_module_version": "2.0.0",
      "model_name": "ButtonModel",
      "state": {
       "description": "done",
       "disabled": true,
       "layout": "IPY_MODEL_5ec14395e5724c3fb05787d872ea6f1d",
       "style": "IPY_MODEL_5627683380284508bc2efaa344bf58b4",
       "tooltip": null
      }
     },
     "e7b834ca3ff84ec0905e0172e0c5f271": {
      "model_module": "jupyter-leaflet",
      "model_module_version": "^0.17",
      "model_name": "LeafletAttributionControlModel",
      "state": {
       "_model_module_version": "^0.17",
       "_view_module_version": "^0.17",
       "options": [
        "position",
        "prefix"
       ],
       "position": "bottomright",
       "prefix": "ipyleaflet"
      }
     },
     "eb86e9681b24492a876342917c604d85": {
      "model_module": "jupyter-leaflet",
      "model_module_version": "^0.17",
      "model_name": "LeafletMapStyleModel",
      "state": {
       "_model_module_version": "^0.17"
      }
     },
     "ed7303ea4d474315b630be81e3a3752f": {
      "model_module": "@jupyter-widgets/controls",
      "model_module_version": "2.0.0",
      "model_name": "FloatProgressModel",
      "state": {
       "bar_style": "success",
       "layout": "IPY_MODEL_4f1ebd63c7a24be3a2109622f6c70482",
       "max": 105,
       "style": "IPY_MODEL_cb06eed5a4204aeea1153f754d44ca9f",
       "value": 105
      }
     },
     "eda149476b064c869b590043be022df4": {
      "model_module": "@jupyter-widgets/base",
      "model_module_version": "2.0.0",
      "model_name": "LayoutModel",
      "state": {}
     },
     "edc86ce977894291827a98044447f0a9": {
      "model_module": "jupyter-leaflet",
      "model_module_version": "^0.17",
      "model_name": "LeafletZoomControlModel",
      "state": {
       "_model_module_version": "^0.17",
       "_view_module_version": "^0.17",
       "options": [
        "position",
        "zoom_in_text",
        "zoom_in_title",
        "zoom_out_text",
        "zoom_out_title"
       ]
      }
     },
     "f23ad64db3574e1cbcab81d77f660ec7": {
      "model_module": "@jupyter-widgets/controls",
      "model_module_version": "2.0.0",
      "model_name": "HTMLStyleModel",
      "state": {
       "description_width": "",
       "font_size": null,
       "text_color": null
      }
     },
     "f2587fd704364124a01e521bd9a53ea7": {
      "model_module": "jupyter-leaflet",
      "model_module_version": "^0.17",
      "model_name": "LeafletDrawControlModel",
      "state": {
       "_model_module_version": "^0.17",
       "_view_module_version": "^0.17",
       "data": [
        {
         "geometry": {
          "coordinates": [
           [
            [
             153.098593,
             -27.463275
            ],
            [
             153.098593,
             -27.338915
            ],
            [
             153.21533,
             -27.338915
            ],
            [
             153.21533,
             -27.463275
            ],
            [
             153.098593,
             -27.463275
            ]
           ]
          ],
          "type": "Polygon"
         },
         "properties": {
          "style": {
           "clickable": true,
           "color": "#000000",
           "fill": true,
           "fillColor": "#fca45d",
           "fillOpacity": 0.1,
           "opacity": 0.5,
           "stroke": true,
           "weight": 4
          }
         },
         "type": "Feature"
        }
       ],
       "options": [
        "position"
       ],
       "polygon": {
        "shapeOptions": {
         "clickable": true,
         "color": "#000000",
         "editing": {
          "color": "#000000",
          "fillColor": "#fca45d",
          "fillOpacity": 0.1
         },
         "fill": true,
         "fillColor": "#fca45d",
         "fillOpacity": 0.1,
         "opacity": 0.5,
         "original": {
          "color": "#000000",
          "fillColor": "#fca45d",
          "fillOpacity": 0.1
         },
         "stroke": true,
         "weight": 4
        }
       },
       "polyline": {},
       "rectangle": {
        "metric": [
         "km",
         "m"
        ],
        "shapeOptions": {
         "clickable": true,
         "color": "#000000",
         "fill": true,
         "fillColor": "#fca45d",
         "fillOpacity": 0.1,
         "opacity": 0.5,
         "stroke": true,
         "weight": 4
        }
       }
      }
     },
     "f315211a2b17470dbd43b2cf5e40137c": {
      "model_module": "@jupyter-widgets/controls",
      "model_module_version": "2.0.0",
      "model_name": "HTMLModel",
      "state": {
       "layout": "IPY_MODEL_2f03ac345def443fbf02236729ad5e49",
       "style": "IPY_MODEL_1f695b2dccdf4f35b857cc031c8f7063",
       "value": "<pre style=\"color:grey\">lat: [-43.0839, -42.7823]\nlon: [147.0067, 148.0614]</pre>"
      }
     },
     "f7b8059272f84a5385eb9bc171b6913c": {
      "model_module": "jupyter-leaflet",
      "model_module_version": "^0.17",
      "model_name": "LeafletWidgetControlModel",
      "state": {
       "_model_module": "jupyter-leaflet",
       "_model_module_version": "^0.17",
       "_view_count": null,
       "_view_module": "jupyter-leaflet",
       "_view_module_version": "^0.17",
       "options": [
        "position",
        "transparent_bg"
       ],
       "position": "topright",
       "widget": "IPY_MODEL_e633a570fb234e249474dd53c4bf0d21"
      }
     },
     "fae2f3ceb31a4920a125ca066217e197": {
      "model_module": "@jupyter-widgets/controls",
      "model_module_version": "2.0.0",
      "model_name": "ButtonModel",
      "state": {
       "description": "done",
       "disabled": true,
       "layout": "IPY_MODEL_5db23bd43ce341ee8980fb568462dd56",
       "style": "IPY_MODEL_d566de637b7c4223a19b9d8505d36e1c",
       "tooltip": null
      }
     },
     "fdb738c5ddc24ed28dfaafc7ff5283a5": {
      "model_module": "jupyter-leaflet",
      "model_module_version": "^0.17",
      "model_name": "LeafletTileLayerModel",
      "state": {
       "_model_module_version": "^0.17",
       "_view_module_version": "^0.17",
       "attribution": "Tiles &copy; Esri &mdash; Source: Esri, i-cubed, USDA, USGS, AEX, GeoEye, Getmapping, Aerogrid, IGN, IGP, UPR-EGP, and the GIS User Community",
       "min_zoom": 1,
       "name": "Esri.WorldImagery",
       "options": [
        "attribution",
        "bounds",
        "detect_retina",
        "max_native_zoom",
        "max_zoom",
        "min_native_zoom",
        "min_zoom",
        "no_wrap",
        "tile_size",
        "tms",
        "zoom_offset"
       ],
       "url": "https://server.arcgisonline.com/ArcGIS/rest/services/World_Imagery/MapServer/tile/{z}/{y}/{x}"
      }
     }
    },
    "version_major": 2,
    "version_minor": 0
   }
  }
 },
 "nbformat": 4,
 "nbformat_minor": 5
}

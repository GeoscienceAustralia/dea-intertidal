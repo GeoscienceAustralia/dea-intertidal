{
 "cells": [
  {
   "cell_type": "markdown",
   "id": "a1eed1f8",
   "metadata": {
    "tags": []
   },
   "source": [
    "# Digital Earth Australia Intertidal workflow\n",
    "\n",
    "## Getting started\n",
    "Set working directory to top level of repo to ensure links work correctly:"
   ]
  },
  {
   "cell_type": "code",
   "execution_count": null,
   "id": "7f782832",
   "metadata": {
    "tags": []
   },
   "outputs": [],
   "source": [
    "cd .."
   ]
  },
  {
   "cell_type": "markdown",
   "id": "cdb87709",
   "metadata": {},
   "source": [
    "Install additional packages directly from the requirements file"
   ]
  },
  {
   "cell_type": "code",
   "execution_count": null,
   "id": "adce236f",
   "metadata": {
    "tags": []
   },
   "outputs": [],
   "source": [
    "pip install -r requirements.in --quiet"
   ]
  },
  {
   "cell_type": "markdown",
   "id": "fb6f5bac",
   "metadata": {},
   "source": [
    "### Load packages"
   ]
  },
  {
   "cell_type": "code",
   "execution_count": null,
   "id": "a723fcdc",
   "metadata": {
    "tags": []
   },
   "outputs": [],
   "source": [
    "%load_ext autoreload\n",
    "%autoreload 2\n",
    "\n",
    "import os\n",
    "import pandas as pd\n",
    "import numpy as np\n",
    "import xarray as xr\n",
    "import matplotlib.pyplot as plt\n",
    "import geopandas as gpd\n",
    "from ipyleaflet import basemaps, basemap_to_tiles\n",
    "\n",
    "import datacube\n",
    "import odc.geo.xr\n",
    "from odc.geo.geom import Geometry\n",
    "from odc.ui import select_on_a_map\n",
    "import cmocean\n",
    "\n",
    "from intertidal.utils import (\n",
    "    round_date_strings,\n",
    "    intertidal_hillshade,\n",
    ")\n",
    "from intertidal.tide_modelling import pixel_tides_ensemble\n",
    "from intertidal.io import (\n",
    "    load_data,\n",
    "    load_topobathy_mask,\n",
    "    load_aclum_mask,\n",
    "    prepare_for_export,\n",
    ")\n",
    "from intertidal.elevation import elevation\n",
    "from intertidal.extents import extents\n",
    "from intertidal.exposure import exposure\n",
    "from intertidal.tidal_bias_offset import bias_offset\n",
    "\n",
    "from dea_tools.dask import create_local_dask_cluster"
   ]
  },
  {
   "cell_type": "markdown",
   "id": "55347d87",
   "metadata": {
    "tags": []
   },
   "source": [
    "## Setup\n"
   ]
  },
  {
   "cell_type": "markdown",
   "id": "c3043ff7",
   "metadata": {
    "tags": []
   },
   "source": [
    "### Set analysis parameters"
   ]
  },
  {
   "cell_type": "code",
   "execution_count": null,
   "id": "1aa6c76d",
   "metadata": {
    "tags": []
   },
   "outputs": [],
   "source": [
    "# Intertidal Elevation variables\n",
    "start_date = \"2020\"  # Start date for analysis\n",
    "end_date = \"2022\"  # End date for analysis\n",
    "resolution = 10  # Spatial resolution used for output files\n",
    "crs = \"EPSG:3577\"  # Coordinate Reference System (CRS) to use for output files\n",
    "ndwi_thresh = 0.1  # Threshold used to identify dry/wet transition\n",
    "include_s2 = True  # Include Sentinel-2 data in the analysis?\n",
    "include_ls = True  # Include Landsat data in the analysis?\n",
    "filter_gqa = True  # Filter to remove poorly georeferenced scenes?\n",
    "tide_model = \"ensemble\"  # Tide model to use in analysis\n",
    "tide_model_dir = \"/gdata1/data/tide_models_clipped\"\n",
    "\n",
    "# Exposure variables\n",
    "modelled_freq = \"3h\"  # Frequency to run tidal model e.g '30min' or '1h'\n",
    "filters = None  # Exposure filters eg None, ['Dry', 'Neap_low']\n",
    "filters_combined = None  # Must be a list of tuples containing one temporal and spatial filter each, eg None or [('Einter','Lowtide')]"
   ]
  },
  {
   "cell_type": "markdown",
   "id": "a7321065",
   "metadata": {},
   "source": [
    "##### Option 1: load study area from 32 km tile GridSpec"
   ]
  },
  {
   "cell_type": "code",
   "execution_count": null,
   "id": "4caa3bd3",
   "metadata": {
    "tags": []
   },
   "outputs": [],
   "source": [
    "# # Set study area (e.g. tile ID in form \"x094y145\")\n",
    "# study_area = \"x094y145\"\n",
    "# geom = None  # Use GridSpec to load study area, not a custom geom"
   ]
  },
  {
   "cell_type": "markdown",
   "id": "5d7ccd92",
   "metadata": {
    "tags": []
   },
   "source": [
    "##### Option 2: load study area from vector file"
   ]
  },
  {
   "cell_type": "code",
   "execution_count": null,
   "id": "49b4231b",
   "metadata": {
    "tags": []
   },
   "outputs": [],
   "source": [
    "# # Set study area to load from file\n",
    "# study_area = \"pointstuart\"\n",
    "\n",
    "# # Read file, select study area and convert to geom\n",
    "# studyarea_gdf = gpd.read_file(\n",
    "#     \"data/raw/intertidal_development_polygons.geojson\"\n",
    "# ).set_index(\"id\")\n",
    "# geom = Geometry(studyarea_gdf.loc[study_area].geometry, crs=studyarea_gdf.crs)\n",
    "# geom"
   ]
  },
  {
   "cell_type": "markdown",
   "id": "0a484060",
   "metadata": {},
   "source": [
    "##### Option 3: load study area using interactive map"
   ]
  },
  {
   "cell_type": "code",
   "execution_count": null,
   "id": "79d8aba4",
   "metadata": {
    "tags": []
   },
   "outputs": [],
   "source": [
    "# Set study area name for outputs\n",
    "study_area = \"testing\"\n",
    "\n",
    "# Plot interactive map to select area\n",
    "basemap = basemap_to_tiles(basemaps.Esri.WorldImagery)\n",
    "geom = select_on_a_map(height=\"600px\", layers=(basemap,), center=(-26, 135), zoom=4)\n",
    "geom"
   ]
  },
  {
   "cell_type": "markdown",
   "id": "41a23d82",
   "metadata": {},
   "source": [
    "## Intertidal workflow\n",
    "\n",
    "### Load data"
   ]
  },
  {
   "cell_type": "code",
   "execution_count": null,
   "id": "611834aa",
   "metadata": {
    "tags": []
   },
   "outputs": [],
   "source": [
    "%%time\n",
    "\n",
    "# Connect to datacube\n",
    "dc = datacube.Datacube(app=\"Intertidal_elevation\")\n",
    "\n",
    "# Create local dask cluster to improve data load time\n",
    "client = create_local_dask_cluster(return_client=True)\n",
    "\n",
    "satellite_ds,_,_ = load_data(\n",
    "    dc=dc,\n",
    "    study_area=study_area,\n",
    "    geom=geom,\n",
    "    time_range=(start_date, end_date),\n",
    "    resolution=resolution,\n",
    "    crs=crs,\n",
    "    include_s2=True,\n",
    "    include_ls=True,\n",
    "    filter_gqa=filter_gqa,\n",
    "    max_cloudcover=90,\n",
    "    skip_broken_datasets=True,\n",
    ")\n",
    "\n",
    "print(satellite_ds)\n",
    "\n",
    "# Load data\n",
    "satellite_ds.load()"
   ]
  },
  {
   "cell_type": "markdown",
   "id": "1e110fbd",
   "metadata": {},
   "source": [
    "### Load optional topobathy mask\n",
    "Loads a topo-bathymetric DEM for the extents of the loaded satellite data.\n",
    "This is used as a coarse mask to constrain the analysis to the coastal zone, improving run time and reducing clear false positives over deep water or elevated land."
   ]
  },
  {
   "cell_type": "code",
   "execution_count": null,
   "id": "86e0342f",
   "metadata": {
    "tags": []
   },
   "outputs": [],
   "source": [
    "# Load data from GA's AusBathyTopo 250m 2023 Grid\n",
    "topobathy_mask = load_topobathy_mask(dc, geobox=satellite_ds.odc.geobox.compat)"
   ]
  },
  {
   "cell_type": "markdown",
   "id": "61de9aa9",
   "metadata": {},
   "source": [
    "### Intertidal elevation\n",
    "To run without the topobathy DEM mask, comment out `valid_mask=...`."
   ]
  },
  {
   "cell_type": "code",
   "execution_count": null,
   "id": "498a6da5",
   "metadata": {
    "tags": []
   },
   "outputs": [],
   "source": [
    "# Model elevation for each pixel\n",
    "ds, tide_m = elevation(\n",
    "    satellite_ds,\n",
    "    valid_mask=topobathy_mask,\n",
    "    tide_model=tide_model,\n",
    "    tide_model_dir=tide_model_dir,\n",
    ")"
   ]
  },
  {
   "cell_type": "markdown",
   "id": "063c72b9",
   "metadata": {
    "tags": []
   },
   "source": [
    "### Intertidal exposure\n",
    "Calculate exposure using the script function.\n",
    "To calculate exposure for the full time period, leave `filters` commented out or set as ['unfiltered'].\n",
    "See the function documentation for the full range of available filters and filter_combinations.\n",
    "The code accepts lists of multiple filters and filter_combination tuples."
   ]
  },
  {
   "cell_type": "code",
   "execution_count": null,
   "id": "e1ff8db8",
   "metadata": {
    "tags": []
   },
   "outputs": [],
   "source": [
    "# Calculate exposure\n",
    "exposure_filters, tide_cq_dict = exposure(\n",
    "    dem=ds.elevation,\n",
    "    start_date=start_date,\n",
    "    end_date=end_date,\n",
    "    modelled_freq=modelled_freq,\n",
    "    tide_model=tide_model,\n",
    "    tide_model_dir=tide_model_dir,\n",
    "    filters=filters,\n",
    "    filters_combined=filters_combined,\n",
    ")\n",
    "\n",
    "# Write each exposure output as new variables in the main dataset\n",
    "for x in exposure_filters.data_vars:\n",
    "    ds[f\"exposure_{x}\"] = exposure_filters[x]"
   ]
  },
  {
   "cell_type": "markdown",
   "id": "a3157252",
   "metadata": {},
   "source": [
    "### Spread and offset\n",
    "Calculate the spread and high/low tide biases of input observed images as a percentage of the modelled tide heights.\n",
    "\n",
    "<div class=\"alert alert-info\">\n",
    "\n",
    "**Note:** this code will only work if the `exposure` function above has been run and produced 'unfiltered' exposure results.\n",
    "\n",
    "</div>"
   ]
  },
  {
   "cell_type": "code",
   "execution_count": null,
   "id": "f7a4cd0a",
   "metadata": {
    "tags": []
   },
   "outputs": [],
   "source": [
    "(\n",
    "    ds[\"ta_lat\"],\n",
    "    ds[\"ta_hat\"],\n",
    "    ds[\"ta_lot\"],\n",
    "    ds[\"ta_hot\"],\n",
    "    ds[\"ta_spread\"],\n",
    "    ds[\"ta_offset_low\"],\n",
    "    ds[\"ta_offset_high\"],\n",
    ") = bias_offset(\n",
    "    tide_m=tide_m, tide_cq=tide_cq_dict['unfiltered'], lot_hot=True, lat_hat=True\n",
    ")"
   ]
  },
  {
   "cell_type": "markdown",
   "id": "01e2aa71",
   "metadata": {},
   "source": [
    "## Plot all layers"
   ]
  },
  {
   "cell_type": "code",
   "execution_count": null,
   "id": "187c867c",
   "metadata": {
    "tags": []
   },
   "outputs": [],
   "source": [
    "# Inspect contents of ds before plotting\n",
    "ds"
   ]
  },
  {
   "cell_type": "code",
   "execution_count": null,
   "id": "f188da27",
   "metadata": {
    "tags": []
   },
   "outputs": [],
   "source": [
    "plt.clf()\n",
    "\n",
    "fig = plt.figure(figsize=(12, 12), tight_layout=True)\n",
    "ax_dict = fig.subplot_mosaic(\n",
    "    \"\"\"\n",
    "    AAAABBBBCCCC\n",
    "    DDDEEEFFFGGG\n",
    "    HHHIIIJJJKKK\n",
    "    \"\"\",\n",
    "    height_ratios=[1, 0.8, 0.8],\n",
    ")\n",
    "\n",
    "# label_params = dict(add_labels=False, yticks=[], xticks=[])\n",
    "\n",
    "# Plot Elevation with hillshade\n",
    "ds[\"elevation\"].plot.imshow(\n",
    "    ax=ax_dict[\"A\"],\n",
    "    cmap=\"viridis\",\n",
    "    interpolation=\"bilinear\",\n",
    ")\n",
    "# intertidal_hillshade(ds[\"elevation\"], ds[\"qa_ndwi_freq\"], vert_exag=300).plot.imshow(\n",
    "#     ax=ax_dict[\"A\"],\n",
    "#     interpolation=\"bilinear\",\n",
    "# )\n",
    "ax_dict[\"A\"].set_title(\"Elevation (metres AMSL)\")\n",
    "\n",
    "# Plot uncertainty\n",
    "ds[\"elevation_uncertainty\"].plot.imshow(\n",
    "    ax=ax_dict[\"B\"],\n",
    "    cmap=\"magma\",\n",
    "    interpolation=\"bilinear\",\n",
    ")\n",
    "ax_dict[\"B\"].set_title(\"Elevation uncertainty (metres)\")\n",
    "ax_dict[\"B\"].set_facecolor(\"#2E2E2E\")\n",
    "\n",
    "# Plot Exposure\n",
    "ds[\"exposure_unfiltered\"].plot.imshow(\n",
    "    ax=ax_dict[\"C\"],\n",
    "    cmap=cmocean.cm.matter_r,\n",
    "    levels=np.arange(0, 100, 1),\n",
    "    add_labels=False,\n",
    "    yticks=[],\n",
    ")\n",
    "ax_dict[\"C\"].set_title(\"Exposure\")\n",
    "\n",
    "# # Plot Extents\n",
    "# ds[\"extents\"].astype(np.int16).plot.imshow(ax=ax_dict[\"D\"])\n",
    "# ax_dict[\"D\"].set_title(\"Extents\")\n",
    "\n",
    "# Plot the observation spread\n",
    "ds[\"ta_spread\"].where(ds.elevation.notnull()).plot.imshow(\n",
    "    ax=ax_dict[\"E\"],\n",
    "    vmin=0,\n",
    "    vmax=100,\n",
    "    cmap=\"magma\",\n",
    "    cbar_kwargs={\"label\": \"% of tidal range observed\"},\n",
    ")\n",
    "ax_dict[\"E\"].set_title(\"Observation Spread (%)\")\n",
    "\n",
    "# Plot the high-tide offset\n",
    "ds[\"ta_offset_high\"].where(ds.elevation.notnull()).plot.imshow(\n",
    "    ax=ax_dict[\"F\"],\n",
    "    vmin=0,\n",
    "    vmax=40,\n",
    "    cmap=\"magma\",\n",
    "    cbar_kwargs={\"label\": \"% of high tide never observed\"},\n",
    ")\n",
    "ax_dict[\"F\"].set_title(\"High-tide offset (%)\")\n",
    "\n",
    "# Plot the low-tide offset\n",
    "ds[\"ta_offset_low\"].where(ds.elevation.notnull()).plot.imshow(\n",
    "    ax=ax_dict[\"G\"],\n",
    "    vmin=0,\n",
    "    vmax=40,\n",
    "    cmap=\"magma\",\n",
    "    cbar_kwargs={\"label\": \"% of low tide never observed\"},\n",
    ")\n",
    "ax_dict[\"G\"].set_title(\"Low-tide offset (%)\")\n",
    "\n",
    "# Plot the LAT\n",
    "ds[\"ta_lat\"].where(ds.elevation.notnull()).plot.imshow(\n",
    "    ax=ax_dict[\"H\"],\n",
    "    vmin=ds[\"ta_lat\"].min(),\n",
    "    vmax=ds[\"ta_hat\"].max(),\n",
    "    add_labels=False,\n",
    ")\n",
    "ax_dict[\"H\"].set_title(\"Lowest Astronomical Tide\")\n",
    "\n",
    "# Plot the LOT\n",
    "ds[\"ta_lot\"].where(ds.elevation.notnull()).plot.imshow(\n",
    "    ax=ax_dict[\"I\"], vmin=ds[\"ta_lat\"].min(), vmax=ds[\"ta_hat\"].max()\n",
    ")\n",
    "ax_dict[\"I\"].set_title(\"Lowest Observed Tide\")\n",
    "\n",
    "# Plot the HAT\n",
    "ds[\"ta_hat\"].where(ds.elevation.notnull()).plot.imshow(\n",
    "    ax=ax_dict[\"J\"],\n",
    "    vmin=ds[\"ta_lat\"].min(),\n",
    "    vmax=ds[\"ta_hat\"].max(),\n",
    "    add_labels=False,\n",
    "    yticks=[],\n",
    ")\n",
    "ax_dict[\"J\"].set_title(\"Highest Astronomical Tide\")\n",
    "\n",
    "# Plot the HOT\n",
    "ds[\"ta_hot\"].where(ds.elevation.notnull()).plot.imshow(\n",
    "    ax=ax_dict[\"K\"],\n",
    "    vmin=ds[\"ta_lat\"].min(),\n",
    "    vmax=ds[\"ta_hat\"].max(),\n",
    ")\n",
    "ax_dict[\"K\"].set_title(\"Highest Observed Tide\")\n",
    "\n",
    "# # Plot the high and low tidelines with respective offset\n",
    "# ax_dict[\"L\"].set_title(\"Lowtide line and lowtide offset\")\n",
    "# # lowtideline.plot(\n",
    "# #     column=\"offset_lowtide\",\n",
    "# #     legend=True,\n",
    "# #     vmin=0,\n",
    "# #     vmax=40,\n",
    "# #     cmap=\"magma\",\n",
    "# #     ax=ax_dict[\"L\"],\n",
    "# #     zorder=2,\n",
    "# # )\n",
    "# # tidelines_gdf.loc[[0], \"geometry\"].plot(ax=ax_dict[\"L\"], zorder=1)\n",
    "# ax_dict[\"L\"].set_xlim(left=ds.elevation.x.min(), right=ds.elevation.x.max())\n",
    "# ax_dict[\"L\"].set_ylim(bottom=ds.elevation.y.min(), top=ds.elevation.y.max())\n",
    "\n",
    "# ax_dict[\"M\"].set_title(\"Hightide line and hightide offset\")\n",
    "# # hightideline.plot(\n",
    "# #     column=\"offset_hightide\",\n",
    "# #     legend=True,\n",
    "# #     vmin=0,\n",
    "# #     vmax=40,\n",
    "# #     cmap=\"magma\",\n",
    "# #     ax=ax_dict[\"M\"],\n",
    "# #     zorder=2,\n",
    "# # )\n",
    "# # tidelines_gdf.loc[[1], \"geometry\"].plot(ax=ax_dict[\"M\"], zorder=1)\n",
    "# ax_dict[\"M\"].set_yticks([])\n",
    "# ax_dict[\"M\"].set_xlim(left=ds.elevation.x.min(), right=ds.elevation.x.max())\n",
    "# ax_dict[\"M\"].set_ylim(bottom=ds.elevation.y.min(), top=ds.elevation.y.max())\n",
    "\n",
    "# Remove axis labels\n",
    "for label, ax in ax_dict.items():\n",
    "    ax.set_yticks([])\n",
    "    ax.set_xticks([])\n",
    "    ax.set_ylabel(\"\")\n",
    "    ax.set_xlabel(\"\")"
   ]
  },
  {
   "cell_type": "markdown",
   "id": "6f63fbdf",
   "metadata": {
    "tags": []
   },
   "source": [
    "## Export layers"
   ]
  },
  {
   "cell_type": "code",
   "execution_count": null,
   "id": "69e246d3",
   "metadata": {},
   "outputs": [],
   "source": [
    "# Create output folder if it doesn't exist\n",
    "output_dir = f\"data/interim/{study_area}/{start_date}-{end_date}\"\n",
    "os.makedirs(output_dir, exist_ok=True)\n",
    "\n",
    "# Prepare data for export\n",
    "ds[\"qa_ndwi_freq\"] *= 100  # Convert frequency to %\n",
    "\n",
    "# Prepare for export by correctly setting nodata and dtypes, then\n",
    "# export to file\n",
    "ds_prepared = prepare_for_export(ds, output_location=output_dir)"
   ]
  },
  {
   "cell_type": "code",
   "execution_count": null,
   "id": "c3399861",
   "metadata": {},
   "outputs": [],
   "source": [
    "# Export figure\n",
    "fig.savefig(f\"data/interim/{study_area}/{start_date}-{end_date}/outputs.png\")"
   ]
  },
  {
   "cell_type": "markdown",
   "id": "ecbb2c87",
   "metadata": {
    "tags": []
   },
   "source": [
    "### Close Dask client"
   ]
  },
  {
   "cell_type": "code",
   "execution_count": null,
   "id": "0c6c7149",
   "metadata": {},
   "outputs": [],
   "source": [
    "client.close()"
   ]
  }
 ],
 "metadata": {
  "kernelspec": {
   "display_name": "Python 3 (ipykernel)",
   "language": "python",
   "name": "python3"
  },
  "language_info": {
   "codemirror_mode": {
    "name": "ipython",
    "version": 3
   },
   "file_extension": ".py",
   "mimetype": "text/x-python",
   "name": "python",
   "nbconvert_exporter": "python",
   "pygments_lexer": "ipython3",
   "version": "3.10.13"
  },
  "widgets": {
   "application/vnd.jupyter.widget-state+json": {
    "state": {},
    "version_major": 2,
    "version_minor": 0
   }
  }
 },
 "nbformat": 4,
 "nbformat_minor": 5
}

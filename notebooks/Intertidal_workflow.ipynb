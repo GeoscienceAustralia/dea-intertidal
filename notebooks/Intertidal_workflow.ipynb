{
 "cells": [
  {
   "cell_type": "markdown",
   "id": "ccccdf10-6065-4f91-8725-d3233ebbe6d4",
   "metadata": {
    "tags": []
   },
   "source": [
    "## Getting started\n",
    "Set working directory to top level of repo to ensure links work correctly:"
   ]
  },
  {
   "cell_type": "code",
   "execution_count": 1,
   "id": "3cdd49c0-fef3-4b10-9d45-d28c41755e12",
   "metadata": {},
   "outputs": [
    {
     "name": "stdout",
     "output_type": "stream",
     "text": [
      "/home/jovyan/Robbi/dea-intertidal\n"
     ]
    }
   ],
   "source": [
    "cd .."
   ]
  },
  {
   "cell_type": "markdown",
   "id": "9e0e6a00-0c55-4ec3-881f-4cdd32899772",
   "metadata": {},
   "source": [
    "Install additional packages directly from the requirements file"
   ]
  },
  {
   "cell_type": "code",
   "execution_count": null,
   "id": "924876a7-a415-4d65-81c4-5e5cd7b7b53d",
   "metadata": {},
   "outputs": [],
   "source": [
    "pip install -r requirements.in --quiet"
   ]
  },
  {
   "cell_type": "markdown",
   "id": "4dac1027-e128-4b7d-a5af-b7b360673e53",
   "metadata": {},
   "source": [
    "### Load packages"
   ]
  },
  {
   "cell_type": "code",
   "execution_count": 2,
   "id": "325d183a-2ca2-42c8-9061-02849068c92e",
   "metadata": {},
   "outputs": [
    {
     "data": {
      "text/html": [
       "<div>\n",
       "    <div style=\"width: 24px; height: 24px; background-color: #e1e1e1; border: 3px solid #9D9D9D; border-radius: 5px; position: absolute;\"> </div>\n",
       "    <div style=\"margin-left: 48px;\">\n",
       "        <h3 style=\"margin-bottom: 0px;\">Client</h3>\n",
       "        <p style=\"color: #9D9D9D; margin-bottom: 0px;\">Client-afa2e000-d361-11ed-820e-023c0ea1290c</p>\n",
       "        <table style=\"width: 100%; text-align: left;\">\n",
       "\n",
       "        <tr>\n",
       "        \n",
       "            <td style=\"text-align: left;\"><strong>Connection method:</strong> Cluster object</td>\n",
       "            <td style=\"text-align: left;\"><strong>Cluster type:</strong> distributed.LocalCluster</td>\n",
       "        \n",
       "        </tr>\n",
       "\n",
       "        \n",
       "            <tr>\n",
       "                <td style=\"text-align: left;\">\n",
       "                    <strong>Dashboard: </strong> <a href=\"/user/robbi.bishoptaylor@ga.gov.au/proxy/8787/status\" target=\"_blank\">/user/robbi.bishoptaylor@ga.gov.au/proxy/8787/status</a>\n",
       "                </td>\n",
       "                <td style=\"text-align: left;\"></td>\n",
       "            </tr>\n",
       "        \n",
       "\n",
       "        </table>\n",
       "\n",
       "        \n",
       "            <button style=\"margin-bottom: 12px;\" data-commandlinker-command=\"dask:populate-and-launch-layout\" data-commandlinker-args='{\"url\": \"/user/robbi.bishoptaylor@ga.gov.au/proxy/8787/status\" }'>\n",
       "                Launch dashboard in JupyterLab\n",
       "            </button>\n",
       "        \n",
       "\n",
       "        \n",
       "            <details>\n",
       "            <summary style=\"margin-bottom: 20px;\"><h3 style=\"display: inline;\">Cluster Info</h3></summary>\n",
       "            <div class=\"jp-RenderedHTMLCommon jp-RenderedHTML jp-mod-trusted jp-OutputArea-output\">\n",
       "    <div style=\"width: 24px; height: 24px; background-color: #e1e1e1; border: 3px solid #9D9D9D; border-radius: 5px; position: absolute;\">\n",
       "    </div>\n",
       "    <div style=\"margin-left: 48px;\">\n",
       "        <h3 style=\"margin-bottom: 0px; margin-top: 0px;\">LocalCluster</h3>\n",
       "        <p style=\"color: #9D9D9D; margin-bottom: 0px;\">e74701b8</p>\n",
       "        <table style=\"width: 100%; text-align: left;\">\n",
       "            <tr>\n",
       "                <td style=\"text-align: left;\">\n",
       "                    <strong>Dashboard:</strong> <a href=\"/user/robbi.bishoptaylor@ga.gov.au/proxy/8787/status\" target=\"_blank\">/user/robbi.bishoptaylor@ga.gov.au/proxy/8787/status</a>\n",
       "                </td>\n",
       "                <td style=\"text-align: left;\">\n",
       "                    <strong>Workers:</strong> 1\n",
       "                </td>\n",
       "            </tr>\n",
       "            <tr>\n",
       "                <td style=\"text-align: left;\">\n",
       "                    <strong>Total threads:</strong> 62\n",
       "                </td>\n",
       "                <td style=\"text-align: left;\">\n",
       "                    <strong>Total memory:</strong> 477.21 GiB\n",
       "                </td>\n",
       "            </tr>\n",
       "            \n",
       "            <tr>\n",
       "    <td style=\"text-align: left;\"><strong>Status:</strong> running</td>\n",
       "    <td style=\"text-align: left;\"><strong>Using processes:</strong> True</td>\n",
       "</tr>\n",
       "\n",
       "            \n",
       "        </table>\n",
       "\n",
       "        <details>\n",
       "            <summary style=\"margin-bottom: 20px;\">\n",
       "                <h3 style=\"display: inline;\">Scheduler Info</h3>\n",
       "            </summary>\n",
       "\n",
       "            <div style=\"\">\n",
       "    <div>\n",
       "        <div style=\"width: 24px; height: 24px; background-color: #FFF7E5; border: 3px solid #FF6132; border-radius: 5px; position: absolute;\"> </div>\n",
       "        <div style=\"margin-left: 48px;\">\n",
       "            <h3 style=\"margin-bottom: 0px;\">Scheduler</h3>\n",
       "            <p style=\"color: #9D9D9D; margin-bottom: 0px;\">Scheduler-667140d4-fa61-430a-beed-d80192dd6ea9</p>\n",
       "            <table style=\"width: 100%; text-align: left;\">\n",
       "                <tr>\n",
       "                    <td style=\"text-align: left;\">\n",
       "                        <strong>Comm:</strong> tcp://127.0.0.1:41401\n",
       "                    </td>\n",
       "                    <td style=\"text-align: left;\">\n",
       "                        <strong>Workers:</strong> 1\n",
       "                    </td>\n",
       "                </tr>\n",
       "                <tr>\n",
       "                    <td style=\"text-align: left;\">\n",
       "                        <strong>Dashboard:</strong> <a href=\"/user/robbi.bishoptaylor@ga.gov.au/proxy/8787/status\" target=\"_blank\">/user/robbi.bishoptaylor@ga.gov.au/proxy/8787/status</a>\n",
       "                    </td>\n",
       "                    <td style=\"text-align: left;\">\n",
       "                        <strong>Total threads:</strong> 62\n",
       "                    </td>\n",
       "                </tr>\n",
       "                <tr>\n",
       "                    <td style=\"text-align: left;\">\n",
       "                        <strong>Started:</strong> Just now\n",
       "                    </td>\n",
       "                    <td style=\"text-align: left;\">\n",
       "                        <strong>Total memory:</strong> 477.21 GiB\n",
       "                    </td>\n",
       "                </tr>\n",
       "            </table>\n",
       "        </div>\n",
       "    </div>\n",
       "\n",
       "    <details style=\"margin-left: 48px;\">\n",
       "        <summary style=\"margin-bottom: 20px;\">\n",
       "            <h3 style=\"display: inline;\">Workers</h3>\n",
       "        </summary>\n",
       "\n",
       "        \n",
       "        <div style=\"margin-bottom: 20px;\">\n",
       "            <div style=\"width: 24px; height: 24px; background-color: #DBF5FF; border: 3px solid #4CC9FF; border-radius: 5px; position: absolute;\"> </div>\n",
       "            <div style=\"margin-left: 48px;\">\n",
       "            <details>\n",
       "                <summary>\n",
       "                    <h4 style=\"margin-bottom: 0px; display: inline;\">Worker: 0</h4>\n",
       "                </summary>\n",
       "                <table style=\"width: 100%; text-align: left;\">\n",
       "                    <tr>\n",
       "                        <td style=\"text-align: left;\">\n",
       "                            <strong>Comm: </strong> tcp://127.0.0.1:38779\n",
       "                        </td>\n",
       "                        <td style=\"text-align: left;\">\n",
       "                            <strong>Total threads: </strong> 62\n",
       "                        </td>\n",
       "                    </tr>\n",
       "                    <tr>\n",
       "                        <td style=\"text-align: left;\">\n",
       "                            <strong>Dashboard: </strong> <a href=\"/user/robbi.bishoptaylor@ga.gov.au/proxy/46169/status\" target=\"_blank\">/user/robbi.bishoptaylor@ga.gov.au/proxy/46169/status</a>\n",
       "                        </td>\n",
       "                        <td style=\"text-align: left;\">\n",
       "                            <strong>Memory: </strong> 477.21 GiB\n",
       "                        </td>\n",
       "                    </tr>\n",
       "                    <tr>\n",
       "                        <td style=\"text-align: left;\">\n",
       "                            <strong>Nanny: </strong> tcp://127.0.0.1:37289\n",
       "                        </td>\n",
       "                        <td style=\"text-align: left;\"></td>\n",
       "                    </tr>\n",
       "                    <tr>\n",
       "                        <td colspan=\"2\" style=\"text-align: left;\">\n",
       "                            <strong>Local directory: </strong> /tmp/dask-worker-space/worker-9v4qtafc\n",
       "                        </td>\n",
       "                    </tr>\n",
       "\n",
       "                    \n",
       "\n",
       "                    \n",
       "\n",
       "                </table>\n",
       "            </details>\n",
       "            </div>\n",
       "        </div>\n",
       "        \n",
       "\n",
       "    </details>\n",
       "</div>\n",
       "\n",
       "        </details>\n",
       "    </div>\n",
       "</div>\n",
       "            </details>\n",
       "        \n",
       "\n",
       "    </div>\n",
       "</div>"
      ],
      "text/plain": [
       "<Client: 'tcp://127.0.0.1:41401' processes=1 threads=62, memory=477.21 GiB>"
      ]
     },
     "metadata": {},
     "output_type": "display_data"
    }
   ],
   "source": [
    "%load_ext autoreload\n",
    "%autoreload 2\n",
    "\n",
    "import datacube\n",
    "import xarray as xr\n",
    "import pandas as pd\n",
    "import numpy as np\n",
    "import geopandas as gpd\n",
    "import matplotlib.pyplot as plt\n",
    "from datacube.utils.cog import write_cog\n",
    "from datacube.utils.geometry import Geometry\n",
    "import odc.geo.xr\n",
    "from tqdm import tqdm\n",
    "from odc.algo import mask_cleanup, xr_quantile\n",
    "from concurrent.futures import ProcessPoolExecutor\n",
    "\n",
    "from dea_tools.dask import create_local_dask_cluster\n",
    "from dea_tools.coastal import pixel_tides, model_tides\n",
    "from intertidal.elevation import (load_data, \n",
    "                                  ds_to_flat, \n",
    "                                  pixel_rolling_median,\n",
    "                                  pixel_dem,\n",
    "                                  elevation\n",
    "                                 )\n",
    "from intertidal.extents import extents\n",
    "from intertidal.utils import load_config\n",
    "from intertidal.exposure import pixel_exp\n",
    "from intertidal.tidal_bias_offset import bias_offset\n",
    "from intertidal.tidelines import tidal_offset_tidelines\n",
    "\n",
    "# cluster = create_dask_gateway_cluster(profile=\"r5_4XL\", workers=10)\n",
    "# print(\"Dashboard\", cluster.dashboard_link)\n",
    "# client = cluster.get_client()\n",
    "\n",
    "# Create local dask cluster to improve data load time\n",
    "client = create_local_dask_cluster(return_client=True)\n",
    "\n",
    "# Connect to datacube\n",
    "dc = datacube.Datacube(app='Intertidal_elevation')"
   ]
  },
  {
   "cell_type": "markdown",
   "id": "bd675e30-92c7-494f-9f16-2ea0ae1de32f",
   "metadata": {
    "tags": []
   },
   "source": [
    "## Setup\n"
   ]
  },
  {
   "cell_type": "markdown",
   "id": "3fbdf7a0-4daa-49c1-a3f7-3e0bd0e38560",
   "metadata": {
    "tags": []
   },
   "source": [
    "### Set analysis parameters"
   ]
  },
  {
   "cell_type": "code",
   "execution_count": 3,
   "id": "ad578cb2-0465-4613-9e0a-14764abd17f6",
   "metadata": {},
   "outputs": [],
   "source": [
    "study_area = 'Gladstone'#1215 #340\n",
    "## 815: South Gladstone, QLD \n",
    "\n",
    "## Nidem variables\n",
    "fname = 'testing_Gladstone'\n",
    "start_year = 2019\n",
    "end_year = 2021\n",
    "resolution = 10 \n",
    "crs = \"epsg:32753\"\n",
    "ndwi_thresh = 0.1\n",
    "include_s2 = True\n",
    "include_ls = True\n",
    "filter_gqa = False\n",
    "## Exposure variables\n",
    "## Set the frequency to run the tidal model e.g '30min' or '1h'\n",
    "modelled_freq='30min'\n",
    "\n",
    "# Generate range of times covering entire period of satellite record for exposure and bias/offset calculation\n",
    "all_timerange = pd.date_range(start = f'{start_year}-01-01 00:00:00',\n",
    "                              # start=time_start,\n",
    "                              # end=time_end,\n",
    "                              end = f'{end_year}-12-31 00:00:00',\n",
    "                              freq=modelled_freq)\n",
    "\n",
    "# Load analysis params from config file\n",
    "config = load_config(\n",
    "    config_path='configs/dea_intertidal_config.yaml')"
   ]
  },
  {
   "cell_type": "markdown",
   "id": "5b9caa42-1e83-4fb6-8e5f-072196697adb",
   "metadata": {},
   "source": [
    "### Load study area grid cell"
   ]
  },
  {
   "cell_type": "code",
   "execution_count": null,
   "id": "828ba4cd-5a05-4d32-b1c7-32b0fe8584c7",
   "metadata": {
    "tags": []
   },
   "outputs": [],
   "source": [
    "# # Albers grid cells used to process the analysis\n",
    "# gridcell_gdf = (\n",
    "#     gpd.read_file(config['Input files']['grid_path']).to_crs(\n",
    "#         epsg=4326).set_index('id'))\n",
    "# gridcell_gdf.index = gridcell_gdf.index.astype(int).astype(str)\n",
    "# gridcell_gdf = gridcell_gdf.loc[[str(study_area)]]\n",
    "\n",
    "# # Create geom as input for dc.load\n",
    "# geom = Geometry(geom=gridcell_gdf.iloc[0].geometry, crs='EPSG:4326')\n",
    "# geom"
   ]
  },
  {
   "cell_type": "markdown",
   "id": "1c5a08a1-3267-4263-88f7-8fa905ac0823",
   "metadata": {},
   "source": [
    "##### Other options for loading study area"
   ]
  },
  {
   "cell_type": "code",
   "execution_count": null,
   "id": "9029ccc5-fac6-4916-a651-58e9fd26da40",
   "metadata": {},
   "outputs": [],
   "source": [
    "# # aoi = 'McCarthur River'\n",
    "# # aoi = 'Greenbank'\n",
    "# aoi = 'Seven Emu'\n",
    "# # aoi = 'Wollogorang'\n",
    "\n",
    "# # Import regions of interest\n",
    "# aoi_gdf = gpd.read_file('data/raw/Phase_1_NT_Gov.geojson').set_index('Name').to_crs('EPSG:3577')\n",
    "# aoi_gdf.head()\n",
    "\n",
    "# # Select AOI\n",
    "# geom = Geometry(geom=aoi_gdf.loc[aoi].geometry, crs='EPSG:3577')\n",
    "# geom"
   ]
  },
  {
   "cell_type": "code",
   "execution_count": 4,
   "id": "a78e762f-6c93-48c4-aa17-5234a6da0da7",
   "metadata": {},
   "outputs": [
    {
     "data": {
      "application/vnd.jupyter.widget-view+json": {
       "model_id": "a0e4ec19834643ef89d19d04f83b42b0",
       "version_major": 2,
       "version_minor": 0
      },
      "text/plain": [
       "Map(center=[-26, 135], controls=(ZoomControl(options=['position', 'zoom_in_text', 'zoom_in_title', 'zoom_out_t…"
      ]
     },
     "metadata": {},
     "output_type": "display_data"
    }
   ],
   "source": [
    "from odc.ui import select_on_a_map\n",
    "from ipyleaflet import basemaps, basemap_to_tiles\n",
    "\n",
    "# Plot interactive map to select area\n",
    "basemap = basemap_to_tiles(basemaps.Esri.WorldImagery)\n",
    "geom = select_on_a_map(height='600px',\n",
    "                             layers=(basemap,),\n",
    "                             center=(-26, 135), \n",
    "                       \n",
    "                             zoom=4)\n",
    "\n",
    "## Guide: for 10m2 pixels, analysis area of 90km2 takes ~XXXX mins to run full workflow on 16XL sandbox instance"
   ]
  },
  {
   "cell_type": "markdown",
   "id": "ef305306-b424-4d6b-9183-ca480012f2d7",
   "metadata": {},
   "source": [
    "# Elevation"
   ]
  },
  {
   "cell_type": "code",
   "execution_count": 9,
   "id": "5888f2e2-a2b4-4943-aa1b-858911461169",
   "metadata": {},
   "outputs": [
    {
     "data": {
      "text/html": [
       "<div>\n",
       "    <div style=\"width: 24px; height: 24px; background-color: #e1e1e1; border: 3px solid #9D9D9D; border-radius: 5px; position: absolute;\"> </div>\n",
       "    <div style=\"margin-left: 48px;\">\n",
       "        <h3 style=\"margin-bottom: 0px;\">Client</h3>\n",
       "        <p style=\"color: #9D9D9D; margin-bottom: 0px;\">Client-82efd4de-d364-11ed-820e-023c0ea1290c</p>\n",
       "        <table style=\"width: 100%; text-align: left;\">\n",
       "\n",
       "        <tr>\n",
       "        \n",
       "            <td style=\"text-align: left;\"><strong>Connection method:</strong> Cluster object</td>\n",
       "            <td style=\"text-align: left;\"><strong>Cluster type:</strong> distributed.LocalCluster</td>\n",
       "        \n",
       "        </tr>\n",
       "\n",
       "        \n",
       "            <tr>\n",
       "                <td style=\"text-align: left;\">\n",
       "                    <strong>Dashboard: </strong> <a href=\"/user/robbi.bishoptaylor@ga.gov.au/proxy/44747/status\" target=\"_blank\">/user/robbi.bishoptaylor@ga.gov.au/proxy/44747/status</a>\n",
       "                </td>\n",
       "                <td style=\"text-align: left;\"></td>\n",
       "            </tr>\n",
       "        \n",
       "\n",
       "        </table>\n",
       "\n",
       "        \n",
       "            <button style=\"margin-bottom: 12px;\" data-commandlinker-command=\"dask:populate-and-launch-layout\" data-commandlinker-args='{\"url\": \"/user/robbi.bishoptaylor@ga.gov.au/proxy/44747/status\" }'>\n",
       "                Launch dashboard in JupyterLab\n",
       "            </button>\n",
       "        \n",
       "\n",
       "        \n",
       "            <details>\n",
       "            <summary style=\"margin-bottom: 20px;\"><h3 style=\"display: inline;\">Cluster Info</h3></summary>\n",
       "            <div class=\"jp-RenderedHTMLCommon jp-RenderedHTML jp-mod-trusted jp-OutputArea-output\">\n",
       "    <div style=\"width: 24px; height: 24px; background-color: #e1e1e1; border: 3px solid #9D9D9D; border-radius: 5px; position: absolute;\">\n",
       "    </div>\n",
       "    <div style=\"margin-left: 48px;\">\n",
       "        <h3 style=\"margin-bottom: 0px; margin-top: 0px;\">LocalCluster</h3>\n",
       "        <p style=\"color: #9D9D9D; margin-bottom: 0px;\">d997a171</p>\n",
       "        <table style=\"width: 100%; text-align: left;\">\n",
       "            <tr>\n",
       "                <td style=\"text-align: left;\">\n",
       "                    <strong>Dashboard:</strong> <a href=\"/user/robbi.bishoptaylor@ga.gov.au/proxy/44747/status\" target=\"_blank\">/user/robbi.bishoptaylor@ga.gov.au/proxy/44747/status</a>\n",
       "                </td>\n",
       "                <td style=\"text-align: left;\">\n",
       "                    <strong>Workers:</strong> 1\n",
       "                </td>\n",
       "            </tr>\n",
       "            <tr>\n",
       "                <td style=\"text-align: left;\">\n",
       "                    <strong>Total threads:</strong> 62\n",
       "                </td>\n",
       "                <td style=\"text-align: left;\">\n",
       "                    <strong>Total memory:</strong> 477.21 GiB\n",
       "                </td>\n",
       "            </tr>\n",
       "            \n",
       "            <tr>\n",
       "    <td style=\"text-align: left;\"><strong>Status:</strong> running</td>\n",
       "    <td style=\"text-align: left;\"><strong>Using processes:</strong> True</td>\n",
       "</tr>\n",
       "\n",
       "            \n",
       "        </table>\n",
       "\n",
       "        <details>\n",
       "            <summary style=\"margin-bottom: 20px;\">\n",
       "                <h3 style=\"display: inline;\">Scheduler Info</h3>\n",
       "            </summary>\n",
       "\n",
       "            <div style=\"\">\n",
       "    <div>\n",
       "        <div style=\"width: 24px; height: 24px; background-color: #FFF7E5; border: 3px solid #FF6132; border-radius: 5px; position: absolute;\"> </div>\n",
       "        <div style=\"margin-left: 48px;\">\n",
       "            <h3 style=\"margin-bottom: 0px;\">Scheduler</h3>\n",
       "            <p style=\"color: #9D9D9D; margin-bottom: 0px;\">Scheduler-ea7fa90f-d022-4cc9-ac49-df60e5e7b919</p>\n",
       "            <table style=\"width: 100%; text-align: left;\">\n",
       "                <tr>\n",
       "                    <td style=\"text-align: left;\">\n",
       "                        <strong>Comm:</strong> tcp://127.0.0.1:38241\n",
       "                    </td>\n",
       "                    <td style=\"text-align: left;\">\n",
       "                        <strong>Workers:</strong> 1\n",
       "                    </td>\n",
       "                </tr>\n",
       "                <tr>\n",
       "                    <td style=\"text-align: left;\">\n",
       "                        <strong>Dashboard:</strong> <a href=\"/user/robbi.bishoptaylor@ga.gov.au/proxy/44747/status\" target=\"_blank\">/user/robbi.bishoptaylor@ga.gov.au/proxy/44747/status</a>\n",
       "                    </td>\n",
       "                    <td style=\"text-align: left;\">\n",
       "                        <strong>Total threads:</strong> 62\n",
       "                    </td>\n",
       "                </tr>\n",
       "                <tr>\n",
       "                    <td style=\"text-align: left;\">\n",
       "                        <strong>Started:</strong> Just now\n",
       "                    </td>\n",
       "                    <td style=\"text-align: left;\">\n",
       "                        <strong>Total memory:</strong> 477.21 GiB\n",
       "                    </td>\n",
       "                </tr>\n",
       "            </table>\n",
       "        </div>\n",
       "    </div>\n",
       "\n",
       "    <details style=\"margin-left: 48px;\">\n",
       "        <summary style=\"margin-bottom: 20px;\">\n",
       "            <h3 style=\"display: inline;\">Workers</h3>\n",
       "        </summary>\n",
       "\n",
       "        \n",
       "        <div style=\"margin-bottom: 20px;\">\n",
       "            <div style=\"width: 24px; height: 24px; background-color: #DBF5FF; border: 3px solid #4CC9FF; border-radius: 5px; position: absolute;\"> </div>\n",
       "            <div style=\"margin-left: 48px;\">\n",
       "            <details>\n",
       "                <summary>\n",
       "                    <h4 style=\"margin-bottom: 0px; display: inline;\">Worker: 0</h4>\n",
       "                </summary>\n",
       "                <table style=\"width: 100%; text-align: left;\">\n",
       "                    <tr>\n",
       "                        <td style=\"text-align: left;\">\n",
       "                            <strong>Comm: </strong> tcp://127.0.0.1:43247\n",
       "                        </td>\n",
       "                        <td style=\"text-align: left;\">\n",
       "                            <strong>Total threads: </strong> 62\n",
       "                        </td>\n",
       "                    </tr>\n",
       "                    <tr>\n",
       "                        <td style=\"text-align: left;\">\n",
       "                            <strong>Dashboard: </strong> <a href=\"/user/robbi.bishoptaylor@ga.gov.au/proxy/41855/status\" target=\"_blank\">/user/robbi.bishoptaylor@ga.gov.au/proxy/41855/status</a>\n",
       "                        </td>\n",
       "                        <td style=\"text-align: left;\">\n",
       "                            <strong>Memory: </strong> 477.21 GiB\n",
       "                        </td>\n",
       "                    </tr>\n",
       "                    <tr>\n",
       "                        <td style=\"text-align: left;\">\n",
       "                            <strong>Nanny: </strong> tcp://127.0.0.1:35035\n",
       "                        </td>\n",
       "                        <td style=\"text-align: left;\"></td>\n",
       "                    </tr>\n",
       "                    <tr>\n",
       "                        <td colspan=\"2\" style=\"text-align: left;\">\n",
       "                            <strong>Local directory: </strong> /tmp/dask-worker-space/worker-i4heqb4v\n",
       "                        </td>\n",
       "                    </tr>\n",
       "\n",
       "                    \n",
       "\n",
       "                    \n",
       "\n",
       "                </table>\n",
       "            </details>\n",
       "            </div>\n",
       "        </div>\n",
       "        \n",
       "\n",
       "    </details>\n",
       "</div>\n",
       "\n",
       "        </details>\n",
       "    </div>\n",
       "</div>\n",
       "            </details>\n",
       "        \n",
       "\n",
       "    </div>\n",
       "</div>"
      ],
      "text/plain": [
       "<Client: 'tcp://127.0.0.1:38241' processes=1 threads=62, memory=477.21 GiB>"
      ]
     },
     "metadata": {},
     "output_type": "display_data"
    },
    {
     "name": "stderr",
     "output_type": "stream",
     "text": [
      "2023-04-05 03:46:57 INFO Study area testing: Loaded custom study area\n",
      "2023-04-05 03:46:57 INFO Study area testing: Loading satellite data\n",
      "2023-04-05 03:47:53 INFO Study area testing: Modelling tide heights for each pixel\n"
     ]
    },
    {
     "name": "stdout",
     "output_type": "stream",
     "text": [
      "Creating reduced resolution tide modelling array\n",
      "Modelling tides using FES2014 tide model\n",
      "Reprojecting tides into original array\n"
     ]
    },
    {
     "name": "stderr",
     "output_type": "stream",
     "text": [
      "100%|██████████| 315/315 [00:00<00:00, 532.20it/s]\n",
      "2023-04-05 03:48:04 INFO Study area testing: Masking nodata and adding tide heights to satellite data array\n",
      "2023-04-05 03:48:05 INFO Study area testing: Flattening satellite data array and filtering to tide influenced pixels\n",
      "2023-04-05 03:48:06 INFO Study area testing: Running per-pixel rolling median\n"
     ]
    },
    {
     "name": "stdout",
     "output_type": "stream",
     "text": [
      "Reducing analysed pixels from 140151 to 33826 (24.14%)\n"
     ]
    },
    {
     "name": "stderr",
     "output_type": "stream",
     "text": [
      "100%|██████████| 114/114 [00:25<00:00,  4.44it/s]\n",
      "2023-04-05 03:48:34 INFO Study area testing: Modelling intertidal elevation and confidence\n"
     ]
    },
    {
     "name": "stdout",
     "output_type": "stream",
     "text": [
      "Processing dem_low\n",
      "Processing dem\n",
      "Processing dem_high\n"
     ]
    },
    {
     "name": "stderr",
     "output_type": "stream",
     "text": [
      "/env/lib/python3.8/site-packages/rasterio/warp.py:344: NotGeoreferencedWarning: Dataset has no geotransform, gcps, or rpcs. The identity matrix will be returned.\n",
      "  _reproject(\n",
      "/env/lib/python3.8/site-packages/rasterio/warp.py:344: NotGeoreferencedWarning: Dataset has no geotransform, gcps, or rpcs. The identity matrix will be returned.\n",
      "  _reproject(\n",
      "2023-04-05 03:48:35 INFO Study area testing: Successfully completed intertidal elevation modelling\n"
     ]
    }
   ],
   "source": [
    "ds, freq = elevation(study_area=geom,\n",
    "                     start_year=start_year,\n",
    "                     end_year=end_year)"
   ]
  },
  {
   "cell_type": "markdown",
   "id": "f1a7244e-b4a3-45f2-b5c1-c7a658818b8c",
   "metadata": {},
   "source": [
    "# Intertidal extents\n",
    "\n",
    "## Always/Sometimes/Never_wet\n",
    "\n",
    "Values of 0 represent always wet, 1 is the extent of the DEA intertidal product suite and 2 represents never wet"
   ]
  },
  {
   "cell_type": "code",
   "execution_count": null,
   "id": "44afbee0-504f-43f2-ad4f-a9e83b9a27b9",
   "metadata": {},
   "outputs": [],
   "source": [
    "ds['extents'] = extents(ds.dem, freq)"
   ]
  },
  {
   "cell_type": "markdown",
   "id": "4ebea320-f34c-4893-ad9a-a1eae0071450",
   "metadata": {
    "tags": []
   },
   "source": [
    "# Pixel-based intertidal exposure\n",
    "Calculate exposure using the script function"
   ]
  },
  {
   "cell_type": "code",
   "execution_count": null,
   "id": "c674d6ec-069a-4237-89f0-f7ee94eb61ef",
   "metadata": {},
   "outputs": [],
   "source": [
    "tide_cq, ds['exposure'] = pixel_exp(ds, ds.dem, all_timerange)"
   ]
  },
  {
   "cell_type": "markdown",
   "id": "92c49057-fecc-4390-9387-edd41d5c4b4e",
   "metadata": {},
   "source": [
    "# Spread and offset\n",
    "Calculate the spread and high/low tide biases of input observed images as a percentage of the modelled tide heights"
   ]
  },
  {
   "cell_type": "code",
   "execution_count": null,
   "id": "ea6d5149-587a-444b-ad8c-bbbd5b31a79c",
   "metadata": {},
   "outputs": [],
   "source": [
    "(ds['lat'],\n",
    " ds['hat'],\n",
    " ds['lot'],\n",
    " ds['hot'],\n",
    " ds['spread'],\n",
    " ds['lt_offset'],\n",
    " ds['ht_offset']) = bias_offset(tide_m = ds.tide_m,\n",
    "                                tide_cq = tide_cq,\n",
    "                                extents = ds.extents,\n",
    "                                lot_hot=True,\n",
    "                                lat_hat=True)"
   ]
  },
  {
   "cell_type": "markdown",
   "id": "a0f6f1db-e5a7-4e67-94b2-3c09ae9364f5",
   "metadata": {},
   "source": [
    "# Tideline confidence"
   ]
  },
  {
   "cell_type": "code",
   "execution_count": null,
   "id": "a6491094-e123-4cc3-891a-c8302eb02bfa",
   "metadata": {},
   "outputs": [],
   "source": [
    "(hightideline, \n",
    " lowtideline, \n",
    " tidelines_gdf) = tidal_offset_tidelines(extents = ds.extents,\n",
    "                                         ht_offset = ds.ht_offset,\n",
    "                                         lt_offset = ds.lt_offset,\n",
    "                                         distance=250)"
   ]
  },
  {
   "cell_type": "markdown",
   "id": "12d5f458-6e32-4bd6-ab25-4417dfaa5edb",
   "metadata": {},
   "source": [
    "# Plot all layers"
   ]
  },
  {
   "cell_type": "code",
   "execution_count": null,
   "id": "21dd40e3-1e1e-4f07-a606-76eaf463114c",
   "metadata": {},
   "outputs": [],
   "source": [
    "fig = plt.figure(figsize=(10,25))\n",
    "ax1 = fig.add_subplot(6,2,1)\n",
    "ax2 = fig.add_subplot(6,2,2)\n",
    "ax3 = fig.add_subplot(6,2,3)\n",
    "ax4 = fig.add_subplot(6,2,4)\n",
    "ax5 = fig.add_subplot(6,2,5)\n",
    "ax6 = fig.add_subplot(6,2,6)\n",
    "ax7 = fig.add_subplot(6,2,7)\n",
    "ax8 = fig.add_subplot(6,2,8)\n",
    "ax9 = fig.add_subplot(6,2,9)\n",
    "ax10 = fig.add_subplot(6,2,10)\n",
    "ax11 = fig.add_subplot(6,2,11)\n",
    "ax12 = fig.add_subplot(6,2,12)\n",
    "\n",
    "## Plot NIDEM\n",
    "ds['dem'].plot(ax=ax1)\n",
    "ax1.set_title('NIDEM-masl')\n",
    "\n",
    "## Plot Exposure\n",
    "ds['exposure'].where(ds['exposure']>0).plot(ax=ax2, cmap='RdYlGn', levels=np.arange(0,100,1))\n",
    "ax2.set_title('Exposure-% of time')\n",
    "\n",
    "## Plot the always/sometimes/never wet extents\n",
    "ds['extents'].astype(np.int16).plot(ax=ax3)\n",
    "ax3.set_title('Wet, Dry and Intertidal extent')\n",
    "\n",
    "## Plot the observation spread\n",
    "ds['spread'].where((ds['extents']!=2) & (ds['spread'] > 0)).plot(ax=ax4, vmin=0, vmax=100, cmap='magma', cbar_kwargs={'label': '% spread'})\n",
    "ax4.set_title('Observation Spread')\n",
    "\n",
    "## Plot the high-tide offset\n",
    "ds['ht_offset'].where((ds['extents']!=2) & (ds['spread'] > 0)).plot(ax=ax5, vmin=0, vmax=40, cmap='magma', cbar_kwargs={'label': '% high tide offset'})\n",
    "ax5.set_title('High-tide offset')\n",
    "\n",
    "## Plot the low-tide offset\n",
    "ds['lt_offset'].where((ds['extents']!=2) & (ds['spread'] > 0)).plot(ax=ax6, vmin=0, vmax=40, cmap='magma', cbar_kwargs={'label': '% low tide offset'})\n",
    "ax6.set_title('Low-tide offset')\n",
    "\n",
    "## Plot the LAT\n",
    "ds['lat'].where(ds['extents']!=2).plot(ax=ax7, vmin=ds['lat'].min(), vmax=ds['hat'].max())\n",
    "ax7.set_title('Lowest Astronomical Tide')\n",
    "\n",
    "## Plot the LOT\n",
    "ds['lot'].where(ds['extents']!=2).plot(ax=ax8, vmin=ds['lat'].min(), vmax=ds['hat'].max())\n",
    "ax8.set_title('Lowest Observed Tide')\n",
    "\n",
    "## Plot the HAT\n",
    "ds['hat'].where(ds['extents']!=2).plot(ax=ax9, vmin=ds['lat'].min(), vmax=ds['hat'].max())\n",
    "ax9.set_title('Highest Astronomical Tide')\n",
    "\n",
    "## Plot the HOT\n",
    "ds['hot'].where(ds['extents']!=2).plot(ax=ax10, vmin=ds['lat'].min(), vmax=ds['hat'].max())\n",
    "ax10.set_title('Highest Observed Tide')\n",
    "\n",
    "## Plot the high and low tidelines with respective offset\n",
    "ax11.set_title('Lowtide line and lowtide offset')\n",
    "lowtideline.plot(column='lt_offset', legend=True, vmin=0, vmax=40, cmap='magma', ax=ax11, zorder=2)\n",
    "tidelines_gdf.loc[[0], 'geometry'].plot(ax=ax11, zorder=1)\n",
    "\n",
    "ax12.set_title('Hightide line and hightide offset')\n",
    "hightideline.plot(column='ht_offset', legend=True, vmin=0, vmax=40, cmap='magma', ax=ax12, zorder=2)\n",
    "tidelines_gdf.loc[[1], 'geometry'].plot(ax=ax12, zorder=1)\n",
    "\n",
    "fig.tight_layout()\n",
    "plt.show()\n",
    "\n",
    "# plt.savefig(f'data/interim/{fname}.png') ## doesn't seem to work"
   ]
  },
  {
   "cell_type": "markdown",
   "id": "b55e9c43-a6e7-49fc-a4de-e97558f5393c",
   "metadata": {},
   "source": [
    "# Export layers"
   ]
  },
  {
   "cell_type": "code",
   "execution_count": null,
   "id": "da3ed673-c5f9-44c1-81ee-9cf658675e9c",
   "metadata": {},
   "outputs": [],
   "source": [
    "## select layers of interest from ds\n",
    "ds1 = xr.Dataset(data_vars = ds[['dem','confidence','extents','exposure','spread','lt_offset','ht_offset','lat','hat','lot','hot']],\n",
    "                coords = ds.coords,\n",
    "                attrs = ds.attrs)\n",
    "\n",
    "## Save layers as geotiffs\n",
    "ds1.map(\n",
    "    lambda x: x.odc.write_cog(\n",
    "        fname=f\"data/interim/pixel_{fname}_{start_year}_{end_year}_{x.name}.tif\", overwrite=True\n",
    "    )\n",
    ") \n",
    "\n",
    "hightideline.to_file(f'data/interim/{fname}_hightideoffset.shp')\n",
    "lowtideline.to_file(f'data/interim/{fname}_lowtideoffset.shp')\n",
    "tidelines_gdf.to_file(f'data/interim/{fname}_high_low_tidelines.shp')"
   ]
  },
  {
   "cell_type": "code",
   "execution_count": null,
   "id": "385f47a9-e245-4608-90d1-5d635dcd282a",
   "metadata": {},
   "outputs": [],
   "source": [
    "import fiona\n",
    "from fiona.crs import to_string\n",
    "from shapely.geometry import mapping\n",
    "\n",
    "schema = {\n",
    "    'geometry': 'Polygon',\n",
    "    'properties':{'id':'int'}\n",
    "    }\n",
    "## Note: open shp and set crs as epsg:4326 in QGIS\n",
    "with fiona.open(f'./data/interim/{fname}_geom',\n",
    "                'w', \n",
    "                'ESRI Shapefile', \n",
    "                schema,\n",
    "                # crs=geom.crs.crs_str\n",
    "               ) as c:\n",
    "    c.write({'geometry': mapping(geom.geom),\n",
    "             'properties':{'id':123},\n",
    "             'crs' : geom.crs\n",
    "            })"
   ]
  }
 ],
 "metadata": {
  "kernelspec": {
   "display_name": "Python 3 (ipykernel)",
   "language": "python",
   "name": "python3"
  },
  "language_info": {
   "codemirror_mode": {
    "name": "ipython",
    "version": 3
   },
   "file_extension": ".py",
   "mimetype": "text/x-python",
   "name": "python",
   "nbconvert_exporter": "python",
   "pygments_lexer": "ipython3",
   "version": "3.8.10"
  },
  "widgets": {
   "application/vnd.jupyter.widget-state+json": {
    "state": {
     "005e9fdfa7d84c528abe7daffdffe1fe": {
      "model_module": "@jupyter-widgets/controls",
      "model_module_version": "2.0.0",
      "model_name": "ButtonModel",
      "state": {
       "description": "done",
       "disabled": true,
       "layout": "IPY_MODEL_62043e0c80824812b6dbedccd932f528",
       "style": "IPY_MODEL_dd932b0958c14c378ebdda41aa9841e8",
       "tooltip": null
      }
     },
     "2d63b1d21d1e4edb9df343d690a9657f": {
      "model_module": "jupyter-leaflet",
      "model_module_version": "^0.17",
      "model_name": "LeafletTileLayerModel",
      "state": {
       "_model_module_version": "^0.17",
       "_view_module_version": "^0.17",
       "attribution": "Tiles &copy; Esri &mdash; Source: Esri, i-cubed, USDA, USGS, AEX, GeoEye, Getmapping, Aerogrid, IGN, IGP, UPR-EGP, and the GIS User Community",
       "min_zoom": 1,
       "name": "Esri.WorldImagery",
       "options": [
        "attribution",
        "bounds",
        "detect_retina",
        "max_native_zoom",
        "max_zoom",
        "min_native_zoom",
        "min_zoom",
        "no_wrap",
        "tile_size",
        "tms",
        "zoom_offset"
       ],
       "url": "https://server.arcgisonline.com/ArcGIS/rest/services/World_Imagery/MapServer/tile/{z}/{y}/{x}"
      }
     },
     "416c8a525728455a9c4ba60cc1751072": {
      "model_module": "jupyter-leaflet",
      "model_module_version": "^0.17",
      "model_name": "LeafletMapStyleModel",
      "state": {
       "_model_module_version": "^0.17",
       "cursor": "move"
      }
     },
     "418372ce95844e7f83ce103d3e71460e": {
      "model_module": "jupyter-leaflet",
      "model_module_version": "^0.17",
      "model_name": "LeafletDrawControlModel",
      "state": {
       "_model_module_version": "^0.17",
       "_view_module_version": "^0.17",
       "data": [
        {
         "geometry": {
          "coordinates": [
           [
            [
             147.265809,
             -19.426682
            ],
            [
             147.265809,
             -19.399887
            ],
            [
             147.301858,
             -19.399887
            ],
            [
             147.301858,
             -19.426682
            ],
            [
             147.265809,
             -19.426682
            ]
           ]
          ],
          "type": "Polygon"
         },
         "properties": {
          "style": {
           "clickable": true,
           "color": "#000000",
           "fill": true,
           "fillColor": "#fca45d",
           "fillOpacity": 0.1,
           "opacity": 0.5,
           "stroke": true,
           "weight": 4
          }
         },
         "type": "Feature"
        }
       ],
       "options": [
        "position"
       ],
       "polygon": {
        "shapeOptions": {
         "color": "#000000",
         "editing": {
          "color": "#000000",
          "fillColor": "#fca45d",
          "fillOpacity": 0.1
         },
         "fillColor": "#fca45d",
         "fillOpacity": 0.1,
         "original": {
          "color": "#000000",
          "fillColor": "#fca45d",
          "fillOpacity": 0.1
         }
        }
       },
       "polyline": {},
       "rectangle": {
        "metric": [
         "km",
         "m"
        ],
        "shapeOptions": {
         "color": "#000000",
         "fillColor": "#fca45d",
         "fillOpacity": 0.1
        }
       }
      }
     },
     "4fc6728913814ea8855f0ffa55ddb27f": {
      "model_module": "@jupyter-widgets/base",
      "model_module_version": "2.0.0",
      "model_name": "LayoutModel",
      "state": {
       "height": "600px"
      }
     },
     "6107a5f6870a4a39a167f002834710d3": {
      "model_module": "jupyter-leaflet",
      "model_module_version": "^0.17",
      "model_name": "LeafletMapStyleModel",
      "state": {
       "_model_module_version": "^0.17"
      }
     },
     "62043e0c80824812b6dbedccd932f528": {
      "model_module": "@jupyter-widgets/base",
      "model_module_version": "2.0.0",
      "model_name": "LayoutModel",
      "state": {
       "width": "5em"
      }
     },
     "65ca5b18c7c2494c9983d1ad3d66d033": {
      "model_module": "@jupyter-widgets/controls",
      "model_module_version": "2.0.0",
      "model_name": "HTMLModel",
      "state": {
       "layout": "IPY_MODEL_82193cadc1ab480c8db4350cec459380",
       "style": "IPY_MODEL_d38d41fc28164553a5a8de5a4b895fce",
       "value": "<pre style=\"color:grey\">lat: [-19.4415, -19.3929]\nlon: [147.2540, 147.3080]</pre>"
      }
     },
     "82193cadc1ab480c8db4350cec459380": {
      "model_module": "@jupyter-widgets/base",
      "model_module_version": "2.0.0",
      "model_name": "LayoutModel",
      "state": {
       "flex": "1 0 20em",
       "height": "3em",
       "width": "20em"
      }
     },
     "855c5f1946cd40f1a1c6ac183eda087e": {
      "model_module": "jupyter-leaflet",
      "model_module_version": "^0.17",
      "model_name": "LeafletWidgetControlModel",
      "state": {
       "_model_module": "jupyter-leaflet",
       "_model_module_version": "^0.17",
       "_view_count": null,
       "_view_module": "jupyter-leaflet",
       "_view_module_version": "^0.17",
       "options": [
        "position",
        "transparent_bg"
       ],
       "position": "topright",
       "widget": "IPY_MODEL_005e9fdfa7d84c528abe7daffdffe1fe"
      }
     },
     "8c4c19172c33467fad0ed3c02d911e3a": {
      "model_module": "jupyter-leaflet",
      "model_module_version": "^0.17",
      "model_name": "LeafletWidgetControlModel",
      "state": {
       "_model_module": "jupyter-leaflet",
       "_model_module_version": "^0.17",
       "_view_count": null,
       "_view_module": "jupyter-leaflet",
       "_view_module_version": "^0.17",
       "options": [
        "position",
        "transparent_bg"
       ],
       "position": "bottomleft",
       "widget": "IPY_MODEL_65ca5b18c7c2494c9983d1ad3d66d033"
      }
     },
     "a0e4ec19834643ef89d19d04f83b42b0": {
      "model_module": "jupyter-leaflet",
      "model_module_version": "^0.17",
      "model_name": "LeafletMapModel",
      "state": {
       "_model_module_version": "^0.17",
       "_view_module_version": "^0.17",
       "bottom": 2328138,
       "center": [
        -19.417220922566756,
        147.28095531463626
       ],
       "controls": [
        "IPY_MODEL_b879435cde464f238b32462f65629097",
        "IPY_MODEL_d1c8b33093e84a37828637b60b6c364c",
        "IPY_MODEL_b6df6f6c81a849958a0c1e6c33a7ff1a"
       ],
       "default_style": "IPY_MODEL_a11b46fe85e644638ca9cf6fb865a2a9",
       "dragging_style": "IPY_MODEL_416c8a525728455a9c4ba60cc1751072",
       "east": 147.30803489685061,
       "fullscreen": false,
       "interpolation": "bilinear",
       "layers": [
        "IPY_MODEL_2d63b1d21d1e4edb9df343d690a9657f"
       ],
       "layout": "IPY_MODEL_4fc6728913814ea8855f0ffa55ddb27f",
       "left": 3812785,
       "modisdate": "2023-04-04",
       "north": -19.39293444583003,
       "options": [
        "bounce_at_zoom_limits",
        "box_zoom",
        "center",
        "close_popup_on_click",
        "double_click_zoom",
        "dragging",
        "fullscreen",
        "inertia",
        "inertia_deceleration",
        "inertia_max_speed",
        "interpolation",
        "keyboard",
        "keyboard_pan_offset",
        "keyboard_zoom_offset",
        "max_zoom",
        "min_zoom",
        "prefer_canvas",
        "scroll_wheel_zoom",
        "tap",
        "tap_tolerance",
        "touch_zoom",
        "world_copy_jump",
        "zoom",
        "zoom_animation_threshold",
        "zoom_delta",
        "zoom_snap"
       ],
       "prefer_canvas": false,
       "right": 3813415,
       "scroll_wheel_zoom": true,
       "south": -19.441503771092176,
       "style": "IPY_MODEL_a11b46fe85e644638ca9cf6fb865a2a9",
       "top": 2327538,
       "west": 147.25396156311038,
       "window_url": "https://app.sandbox.dea.ga.gov.au/user/robbi.bishoptaylor@ga.gov.au/lab/tree/Robbi/dea-intertidal/notebooks/Intertidal_workflow.ipynb",
       "zoom": 14
      }
     },
     "a11b46fe85e644638ca9cf6fb865a2a9": {
      "model_module": "jupyter-leaflet",
      "model_module_version": "^0.17",
      "model_name": "LeafletMapStyleModel",
      "state": {
       "_model_module_version": "^0.17"
      }
     },
     "b6df6f6c81a849958a0c1e6c33a7ff1a": {
      "model_module": "jupyter-leaflet",
      "model_module_version": "^0.17",
      "model_name": "LeafletFullScreenControlModel",
      "state": {
       "_model_module_version": "^0.17",
       "_view_module_version": "^0.17",
       "options": [
        "position"
       ]
      }
     },
     "b879435cde464f238b32462f65629097": {
      "model_module": "jupyter-leaflet",
      "model_module_version": "^0.17",
      "model_name": "LeafletZoomControlModel",
      "state": {
       "_model_module_version": "^0.17",
       "_view_module_version": "^0.17",
       "options": [
        "position",
        "zoom_in_text",
        "zoom_in_title",
        "zoom_out_text",
        "zoom_out_title"
       ]
      }
     },
     "d1c8b33093e84a37828637b60b6c364c": {
      "model_module": "jupyter-leaflet",
      "model_module_version": "^0.17",
      "model_name": "LeafletAttributionControlModel",
      "state": {
       "_model_module_version": "^0.17",
       "_view_module_version": "^0.17",
       "options": [
        "position",
        "prefix"
       ],
       "position": "bottomright",
       "prefix": "ipyleaflet"
      }
     },
     "d38d41fc28164553a5a8de5a4b895fce": {
      "model_module": "@jupyter-widgets/controls",
      "model_module_version": "2.0.0",
      "model_name": "HTMLStyleModel",
      "state": {
       "description_width": "",
       "font_size": null,
       "text_color": null
      }
     },
     "dd932b0958c14c378ebdda41aa9841e8": {
      "model_module": "@jupyter-widgets/controls",
      "model_module_version": "2.0.0",
      "model_name": "ButtonStyleModel",
      "state": {
       "button_color": "green",
       "font_family": null,
       "font_size": null,
       "font_style": null,
       "font_variant": null,
       "font_weight": null,
       "text_color": null,
       "text_decoration": null
      }
     }
    },
    "version_major": 2,
    "version_minor": 0
   }
  }
 },
 "nbformat": 4,
 "nbformat_minor": 5
}

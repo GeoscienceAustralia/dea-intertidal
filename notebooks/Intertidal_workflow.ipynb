{
 "cells": [
  {
   "cell_type": "markdown",
   "id": "a1eed1f8",
   "metadata": {
    "tags": []
   },
   "source": [
    "# Digital Earth Australia Intertidal workflow\n",
    "\n",
    "## Getting started\n",
    "Set working directory to top level of repo to ensure links work correctly:"
   ]
  },
  {
   "cell_type": "code",
   "execution_count": 1,
   "id": "7f782832",
   "metadata": {
    "tags": []
   },
   "outputs": [
    {
     "name": "stdout",
     "output_type": "stream",
     "text": [
      "/home/jovyan/dea_intertidal/dea-intertidal\n"
     ]
    }
   ],
   "source": [
    "cd .."
   ]
  },
  {
   "cell_type": "markdown",
   "id": "cdb87709",
   "metadata": {},
   "source": [
    "Install additional packages directly from the requirements file"
   ]
  },
  {
   "cell_type": "code",
   "execution_count": 2,
   "id": "adce236f",
   "metadata": {
    "tags": []
   },
   "outputs": [
    {
     "name": "stdout",
     "output_type": "stream",
     "text": [
      "Note: you may need to restart the kernel to use updated packages.\n"
     ]
    }
   ],
   "source": [
    "pip install -r requirements.in --quiet"
   ]
  },
  {
   "cell_type": "markdown",
   "id": "fb6f5bac",
   "metadata": {},
   "source": [
    "### Load packages"
   ]
  },
  {
   "cell_type": "code",
   "execution_count": 17,
   "id": "a723fcdc",
   "metadata": {
    "tags": []
   },
   "outputs": [
    {
     "name": "stdout",
     "output_type": "stream",
     "text": [
      "The autoreload extension is already loaded. To reload it, use:\n",
      "  %reload_ext autoreload\n"
     ]
    }
   ],
   "source": [
    "%load_ext autoreload\n",
    "%autoreload 2\n",
    "\n",
    "import os\n",
    "import pandas as pd\n",
    "import numpy as np\n",
    "import xarray as xr\n",
    "import matplotlib.pyplot as plt\n",
    "import geopandas as gpd\n",
    "from ipyleaflet import basemaps, basemap_to_tiles\n",
    "\n",
    "import datacube\n",
    "import odc.geo.xr\n",
    "from odc.geo.geom import Geometry\n",
    "from odc.ui import select_on_a_map\n",
    "import cmocean\n",
    "\n",
    "from intertidal.utils import (\n",
    "    round_date_strings,\n",
    "    intertidal_hillshade,\n",
    ")\n",
    "from intertidal.tide_modelling import pixel_tides_ensemble\n",
    "from intertidal.io import (\n",
    "    load_data,\n",
    "    load_topobathy_mask,\n",
    "    load_aclum_mask,\n",
    "    prepare_for_export,\n",
    ")\n",
    "from intertidal.elevation import elevation\n",
    "from intertidal.extents import extents\n",
    "# from intertidal.exposure import exposure\n",
    "from intertidal.exposure_edited import exposure\n",
    "from intertidal.tidal_bias_offset import bias_offset\n",
    "\n",
    "from dea_tools.dask import create_local_dask_cluster"
   ]
  },
  {
   "cell_type": "markdown",
   "id": "55347d87",
   "metadata": {
    "tags": []
   },
   "source": [
    "## Setup\n"
   ]
  },
  {
   "cell_type": "markdown",
   "id": "c3043ff7",
   "metadata": {
    "tags": []
   },
   "source": [
    "### Set analysis parameters"
   ]
  },
  {
   "cell_type": "code",
   "execution_count": 4,
   "id": "1aa6c76d",
   "metadata": {
    "tags": []
   },
   "outputs": [],
   "source": [
    "# Intertidal Elevation variables\n",
    "start_date = \"2020\"  # Start date for analysis\n",
    "end_date = \"2022\"  # End date for analysis\n",
    "resolution = 30  # Spatial resolution used for output files\n",
    "crs = \"EPSG:3577\"  # Coordinate Reference System (CRS) to use for output files\n",
    "ndwi_thresh = 0.1  # Threshold used to identify dry/wet transition\n",
    "include_s2 = True  # Include Sentinel-2 data in the analysis?\n",
    "include_ls = True  # Include Landsat data in the analysis?\n",
    "filter_gqa = True  # Filter to remove poorly georeferenced scenes?\n",
    "tide_model = \"ensemble\"  # Tide model to use in analysis\n",
    "tide_model_dir = \"/gdata1/data/tide_models_clipped\"\n",
    "\n",
    "# Exposure variables\n",
    "modelled_freq = \"3h\"  # Frequency to run tidal model e.g '30min' or '1h'\n",
    "filters=['Jan'] # Exposure filters.\n",
    "filters_combined = None ## Must be a list of tuples containing one temporal and spatial filter each\n",
    "\n",
    "# Generate range of times covering entire period of satellite record for exposure and bias/offset calculation\n",
    "all_times = pd.date_range(\n",
    "    start=round_date_strings(start_date, round_type=\"start\"),\n",
    "    end=round_date_strings(end_date, round_type=\"end\"),\n",
    "    freq=modelled_freq,\n",
    ")\n",
    "\n",
    "# For debugging\n",
    "all_timerange = all_times"
   ]
  },
  {
   "cell_type": "markdown",
   "id": "a7321065",
   "metadata": {},
   "source": [
    "##### Option 1: load study area from 32 km tile GridSpec"
   ]
  },
  {
   "cell_type": "code",
   "execution_count": 5,
   "id": "4caa3bd3",
   "metadata": {
    "tags": []
   },
   "outputs": [],
   "source": [
    "# # Set study area (e.g. tile ID in form \"x094y145\")\n",
    "# study_area = \"x094y145\"\n",
    "# geom = None  # Use GridSpec to load study area, not a custom geom"
   ]
  },
  {
   "cell_type": "markdown",
   "id": "5d7ccd92",
   "metadata": {
    "tags": []
   },
   "source": [
    "##### Option 2: load study area from vector file"
   ]
  },
  {
   "cell_type": "code",
   "execution_count": 6,
   "id": "49b4231b",
   "metadata": {
    "tags": []
   },
   "outputs": [],
   "source": [
    "# # Set study area to load from file\n",
    "# study_area = \"pointstuart\"\n",
    "\n",
    "# # Read file, select study area and convert to geom\n",
    "# studyarea_gdf = gpd.read_file(\n",
    "#     \"data/raw/intertidal_development_polygons.geojson\"\n",
    "# ).set_index(\"id\")\n",
    "# geom = Geometry(studyarea_gdf.loc[study_area].geometry, crs=studyarea_gdf.crs)\n",
    "# geom"
   ]
  },
  {
   "cell_type": "markdown",
   "id": "0a484060",
   "metadata": {},
   "source": [
    "##### Option 3: load study area using interactive map"
   ]
  },
  {
   "cell_type": "code",
   "execution_count": 7,
   "id": "79d8aba4",
   "metadata": {
    "tags": []
   },
   "outputs": [
    {
     "data": {
      "application/vnd.jupyter.widget-view+json": {
       "model_id": "81094391e2a74779b2fc97a6138df46c",
       "version_major": 2,
       "version_minor": 0
      },
      "text/plain": [
       "Map(center=[-26, 135], controls=(ZoomControl(options=['position', 'zoom_in_text', 'zoom_in_title', 'zoom_out_t…"
      ]
     },
     "metadata": {},
     "output_type": "display_data"
    },
    {
     "data": {
      "image/svg+xml": [
       "<svg xmlns=\"http://www.w3.org/2000/svg\" xmlns:xlink=\"http://www.w3.org/1999/xlink\" width=\"100.0\" height=\"100.0\" viewBox=\"138.35048716 -34.67130284 0.11123567999999295 0.05314868000000672\" preserveAspectRatio=\"xMinYMin meet\"><g transform=\"matrix(1,0,0,-1,0,-69.289457)\"><path fill-rule=\"evenodd\" fill=\"#66cc99\" stroke=\"#555555\" stroke-width=\"0.002224713599999859\" opacity=\"0.6\" d=\"M 138.354607,-34.667183 L 138.354607,-34.622274 L 138.457603,-34.622274 L 138.457603,-34.667183 L 138.354607,-34.667183 z\" /></g></svg>"
      ],
      "text/plain": [
       "Geometry(POLYGON ((138.354607 -34.667183, 138.354607 -34.622274, 138.457603 -34.622274, 138.457603 -34.667183, 138.354607 -34.667183)), EPSG:4326)"
      ]
     },
     "execution_count": 7,
     "metadata": {},
     "output_type": "execute_result"
    }
   ],
   "source": [
    "# Set study area name for outputs\n",
    "study_area = \"testing\"\n",
    "\n",
    "# Plot interactive map to select area\n",
    "basemap = basemap_to_tiles(basemaps.Esri.WorldImagery)\n",
    "geom = select_on_a_map(height=\"600px\", layers=(basemap,), center=(-26, 135), zoom=4)\n",
    "geom"
   ]
  },
  {
   "cell_type": "markdown",
   "id": "41a23d82",
   "metadata": {},
   "source": [
    "## Intertidal workflow\n",
    "\n",
    "### Load data"
   ]
  },
  {
   "cell_type": "code",
   "execution_count": null,
   "id": "5906b017-38af-4e43-9e54-d6e49525ef3f",
   "metadata": {
    "tags": []
   },
   "outputs": [],
   "source": [
    "# %store ds"
   ]
  },
  {
   "cell_type": "code",
   "execution_count": 8,
   "id": "611834aa",
   "metadata": {
    "tags": []
   },
   "outputs": [
    {
     "data": {
      "text/html": [
       "<div>\n",
       "    <div style=\"width: 24px; height: 24px; background-color: #e1e1e1; border: 3px solid #9D9D9D; border-radius: 5px; position: absolute;\"> </div>\n",
       "    <div style=\"margin-left: 48px;\">\n",
       "        <h3 style=\"margin-bottom: 0px;\">Client</h3>\n",
       "        <p style=\"color: #9D9D9D; margin-bottom: 0px;\">Client-ccaa8fd5-fc52-11ee-a04b-ca88fa6adfb3</p>\n",
       "        <table style=\"width: 100%; text-align: left;\">\n",
       "\n",
       "        <tr>\n",
       "        \n",
       "            <td style=\"text-align: left;\"><strong>Connection method:</strong> Cluster object</td>\n",
       "            <td style=\"text-align: left;\"><strong>Cluster type:</strong> distributed.LocalCluster</td>\n",
       "        \n",
       "        </tr>\n",
       "\n",
       "        \n",
       "            <tr>\n",
       "                <td style=\"text-align: left;\">\n",
       "                    <strong>Dashboard: </strong> <a href=\"/user/claire.phillips@ga.gov.au/proxy/8787/status\" target=\"_blank\">/user/claire.phillips@ga.gov.au/proxy/8787/status</a>\n",
       "                </td>\n",
       "                <td style=\"text-align: left;\"></td>\n",
       "            </tr>\n",
       "        \n",
       "\n",
       "        </table>\n",
       "\n",
       "        \n",
       "            <button style=\"margin-bottom: 12px;\" data-commandlinker-command=\"dask:populate-and-launch-layout\" data-commandlinker-args='{\"url\": \"/user/claire.phillips@ga.gov.au/proxy/8787/status\" }'>\n",
       "                Launch dashboard in JupyterLab\n",
       "            </button>\n",
       "        \n",
       "\n",
       "        \n",
       "            <details>\n",
       "            <summary style=\"margin-bottom: 20px;\"><h3 style=\"display: inline;\">Cluster Info</h3></summary>\n",
       "            <div class=\"jp-RenderedHTMLCommon jp-RenderedHTML jp-mod-trusted jp-OutputArea-output\">\n",
       "    <div style=\"width: 24px; height: 24px; background-color: #e1e1e1; border: 3px solid #9D9D9D; border-radius: 5px; position: absolute;\">\n",
       "    </div>\n",
       "    <div style=\"margin-left: 48px;\">\n",
       "        <h3 style=\"margin-bottom: 0px; margin-top: 0px;\">LocalCluster</h3>\n",
       "        <p style=\"color: #9D9D9D; margin-bottom: 0px;\">f517442e</p>\n",
       "        <table style=\"width: 100%; text-align: left;\">\n",
       "            <tr>\n",
       "                <td style=\"text-align: left;\">\n",
       "                    <strong>Dashboard:</strong> <a href=\"/user/claire.phillips@ga.gov.au/proxy/8787/status\" target=\"_blank\">/user/claire.phillips@ga.gov.au/proxy/8787/status</a>\n",
       "                </td>\n",
       "                <td style=\"text-align: left;\">\n",
       "                    <strong>Workers:</strong> 1\n",
       "                </td>\n",
       "            </tr>\n",
       "            <tr>\n",
       "                <td style=\"text-align: left;\">\n",
       "                    <strong>Total threads:</strong> 15\n",
       "                </td>\n",
       "                <td style=\"text-align: left;\">\n",
       "                    <strong>Total memory:</strong> 117.21 GiB\n",
       "                </td>\n",
       "            </tr>\n",
       "            \n",
       "            <tr>\n",
       "    <td style=\"text-align: left;\"><strong>Status:</strong> running</td>\n",
       "    <td style=\"text-align: left;\"><strong>Using processes:</strong> True</td>\n",
       "</tr>\n",
       "\n",
       "            \n",
       "        </table>\n",
       "\n",
       "        <details>\n",
       "            <summary style=\"margin-bottom: 20px;\">\n",
       "                <h3 style=\"display: inline;\">Scheduler Info</h3>\n",
       "            </summary>\n",
       "\n",
       "            <div style=\"\">\n",
       "    <div>\n",
       "        <div style=\"width: 24px; height: 24px; background-color: #FFF7E5; border: 3px solid #FF6132; border-radius: 5px; position: absolute;\"> </div>\n",
       "        <div style=\"margin-left: 48px;\">\n",
       "            <h3 style=\"margin-bottom: 0px;\">Scheduler</h3>\n",
       "            <p style=\"color: #9D9D9D; margin-bottom: 0px;\">Scheduler-49d483d8-680a-46a7-a3f3-d259face0d6a</p>\n",
       "            <table style=\"width: 100%; text-align: left;\">\n",
       "                <tr>\n",
       "                    <td style=\"text-align: left;\">\n",
       "                        <strong>Comm:</strong> tcp://127.0.0.1:41655\n",
       "                    </td>\n",
       "                    <td style=\"text-align: left;\">\n",
       "                        <strong>Workers:</strong> 1\n",
       "                    </td>\n",
       "                </tr>\n",
       "                <tr>\n",
       "                    <td style=\"text-align: left;\">\n",
       "                        <strong>Dashboard:</strong> <a href=\"/user/claire.phillips@ga.gov.au/proxy/8787/status\" target=\"_blank\">/user/claire.phillips@ga.gov.au/proxy/8787/status</a>\n",
       "                    </td>\n",
       "                    <td style=\"text-align: left;\">\n",
       "                        <strong>Total threads:</strong> 15\n",
       "                    </td>\n",
       "                </tr>\n",
       "                <tr>\n",
       "                    <td style=\"text-align: left;\">\n",
       "                        <strong>Started:</strong> Just now\n",
       "                    </td>\n",
       "                    <td style=\"text-align: left;\">\n",
       "                        <strong>Total memory:</strong> 117.21 GiB\n",
       "                    </td>\n",
       "                </tr>\n",
       "            </table>\n",
       "        </div>\n",
       "    </div>\n",
       "\n",
       "    <details style=\"margin-left: 48px;\">\n",
       "        <summary style=\"margin-bottom: 20px;\">\n",
       "            <h3 style=\"display: inline;\">Workers</h3>\n",
       "        </summary>\n",
       "\n",
       "        \n",
       "        <div style=\"margin-bottom: 20px;\">\n",
       "            <div style=\"width: 24px; height: 24px; background-color: #DBF5FF; border: 3px solid #4CC9FF; border-radius: 5px; position: absolute;\"> </div>\n",
       "            <div style=\"margin-left: 48px;\">\n",
       "            <details>\n",
       "                <summary>\n",
       "                    <h4 style=\"margin-bottom: 0px; display: inline;\">Worker: 0</h4>\n",
       "                </summary>\n",
       "                <table style=\"width: 100%; text-align: left;\">\n",
       "                    <tr>\n",
       "                        <td style=\"text-align: left;\">\n",
       "                            <strong>Comm: </strong> tcp://127.0.0.1:40777\n",
       "                        </td>\n",
       "                        <td style=\"text-align: left;\">\n",
       "                            <strong>Total threads: </strong> 15\n",
       "                        </td>\n",
       "                    </tr>\n",
       "                    <tr>\n",
       "                        <td style=\"text-align: left;\">\n",
       "                            <strong>Dashboard: </strong> <a href=\"/user/claire.phillips@ga.gov.au/proxy/41675/status\" target=\"_blank\">/user/claire.phillips@ga.gov.au/proxy/41675/status</a>\n",
       "                        </td>\n",
       "                        <td style=\"text-align: left;\">\n",
       "                            <strong>Memory: </strong> 117.21 GiB\n",
       "                        </td>\n",
       "                    </tr>\n",
       "                    <tr>\n",
       "                        <td style=\"text-align: left;\">\n",
       "                            <strong>Nanny: </strong> tcp://127.0.0.1:45539\n",
       "                        </td>\n",
       "                        <td style=\"text-align: left;\"></td>\n",
       "                    </tr>\n",
       "                    <tr>\n",
       "                        <td colspan=\"2\" style=\"text-align: left;\">\n",
       "                            <strong>Local directory: </strong> /tmp/dask-worker-space/worker-y09k2un_\n",
       "                        </td>\n",
       "                    </tr>\n",
       "\n",
       "                    \n",
       "\n",
       "                    \n",
       "\n",
       "                </table>\n",
       "            </details>\n",
       "            </div>\n",
       "        </div>\n",
       "        \n",
       "\n",
       "    </details>\n",
       "</div>\n",
       "\n",
       "        </details>\n",
       "    </div>\n",
       "</div>\n",
       "            </details>\n",
       "        \n",
       "\n",
       "    </div>\n",
       "</div>"
      ],
      "text/plain": [
       "<Client: 'tcp://127.0.0.1:41655' processes=1 threads=15, memory=117.21 GiB>"
      ]
     },
     "metadata": {},
     "output_type": "display_data"
    },
    {
     "name": "stdout",
     "output_type": "stream",
     "text": [
      "<xarray.Dataset>\n",
      "Dimensions:      (time: 512, y: 183, x: 322)\n",
      "Coordinates:\n",
      "  * time         (time) datetime64[ns] 2020-01-01T00:20:38.303021 ... 2022-12...\n",
      "  * y            (y) float64 -3.795e+06 -3.795e+06 ... -3.8e+06 -3.8e+06\n",
      "  * x            (x) float64 5.801e+05 5.801e+05 ... 5.897e+05 5.897e+05\n",
      "    spatial_ref  int32 3577\n",
      "Data variables:\n",
      "    ndwi         (time, y, x) float32 dask.array<chunksize=(1, 183, 322), meta=np.ndarray>\n",
      "Attributes:\n",
      "    crs:           EPSG:3577\n",
      "    grid_mapping:  spatial_ref\n"
     ]
    },
    {
     "name": "stderr",
     "output_type": "stream",
     "text": [
      "/env/lib/python3.10/site-packages/datacube/drivers/driver_cache.py:54: DeprecationWarning: pkg_resources is deprecated as an API. See https://setuptools.pypa.io/en/latest/pkg_resources.html\n",
      "  from pkg_resources import iter_entry_points\n",
      "/env/lib/python3.10/site-packages/rasterio/warp.py:344: NotGeoreferencedWarning: Dataset has no geotransform, gcps, or rpcs. The identity matrix will be returned.\n",
      "  _reproject(\n"
     ]
    },
    {
     "name": "stdout",
     "output_type": "stream",
     "text": [
      "CPU times: user 9.18 s, sys: 1.05 s, total: 10.2 s\n",
      "Wall time: 1min 13s\n"
     ]
    },
    {
     "data": {
      "text/html": [
       "<div><svg style=\"position: absolute; width: 0; height: 0; overflow: hidden\">\n",
       "<defs>\n",
       "<symbol id=\"icon-database\" viewBox=\"0 0 32 32\">\n",
       "<path d=\"M16 0c-8.837 0-16 2.239-16 5v4c0 2.761 7.163 5 16 5s16-2.239 16-5v-4c0-2.761-7.163-5-16-5z\"></path>\n",
       "<path d=\"M16 17c-8.837 0-16-2.239-16-5v6c0 2.761 7.163 5 16 5s16-2.239 16-5v-6c0 2.761-7.163 5-16 5z\"></path>\n",
       "<path d=\"M16 26c-8.837 0-16-2.239-16-5v6c0 2.761 7.163 5 16 5s16-2.239 16-5v-6c0 2.761-7.163 5-16 5z\"></path>\n",
       "</symbol>\n",
       "<symbol id=\"icon-file-text2\" viewBox=\"0 0 32 32\">\n",
       "<path d=\"M28.681 7.159c-0.694-0.947-1.662-2.053-2.724-3.116s-2.169-2.030-3.116-2.724c-1.612-1.182-2.393-1.319-2.841-1.319h-15.5c-1.378 0-2.5 1.121-2.5 2.5v27c0 1.378 1.122 2.5 2.5 2.5h23c1.378 0 2.5-1.122 2.5-2.5v-19.5c0-0.448-0.137-1.23-1.319-2.841zM24.543 5.457c0.959 0.959 1.712 1.825 2.268 2.543h-4.811v-4.811c0.718 0.556 1.584 1.309 2.543 2.268zM28 29.5c0 0.271-0.229 0.5-0.5 0.5h-23c-0.271 0-0.5-0.229-0.5-0.5v-27c0-0.271 0.229-0.5 0.5-0.5 0 0 15.499-0 15.5 0v7c0 0.552 0.448 1 1 1h7v19.5z\"></path>\n",
       "<path d=\"M23 26h-14c-0.552 0-1-0.448-1-1s0.448-1 1-1h14c0.552 0 1 0.448 1 1s-0.448 1-1 1z\"></path>\n",
       "<path d=\"M23 22h-14c-0.552 0-1-0.448-1-1s0.448-1 1-1h14c0.552 0 1 0.448 1 1s-0.448 1-1 1z\"></path>\n",
       "<path d=\"M23 18h-14c-0.552 0-1-0.448-1-1s0.448-1 1-1h14c0.552 0 1 0.448 1 1s-0.448 1-1 1z\"></path>\n",
       "</symbol>\n",
       "</defs>\n",
       "</svg>\n",
       "<style>/* CSS stylesheet for displaying xarray objects in jupyterlab.\n",
       " *\n",
       " */\n",
       "\n",
       ":root {\n",
       "  --xr-font-color0: var(--jp-content-font-color0, rgba(0, 0, 0, 1));\n",
       "  --xr-font-color2: var(--jp-content-font-color2, rgba(0, 0, 0, 0.54));\n",
       "  --xr-font-color3: var(--jp-content-font-color3, rgba(0, 0, 0, 0.38));\n",
       "  --xr-border-color: var(--jp-border-color2, #e0e0e0);\n",
       "  --xr-disabled-color: var(--jp-layout-color3, #bdbdbd);\n",
       "  --xr-background-color: var(--jp-layout-color0, white);\n",
       "  --xr-background-color-row-even: var(--jp-layout-color1, white);\n",
       "  --xr-background-color-row-odd: var(--jp-layout-color2, #eeeeee);\n",
       "}\n",
       "\n",
       "html[theme=dark],\n",
       "body[data-theme=dark],\n",
       "body.vscode-dark {\n",
       "  --xr-font-color0: rgba(255, 255, 255, 1);\n",
       "  --xr-font-color2: rgba(255, 255, 255, 0.54);\n",
       "  --xr-font-color3: rgba(255, 255, 255, 0.38);\n",
       "  --xr-border-color: #1F1F1F;\n",
       "  --xr-disabled-color: #515151;\n",
       "  --xr-background-color: #111111;\n",
       "  --xr-background-color-row-even: #111111;\n",
       "  --xr-background-color-row-odd: #313131;\n",
       "}\n",
       "\n",
       ".xr-wrap {\n",
       "  display: block !important;\n",
       "  min-width: 300px;\n",
       "  max-width: 700px;\n",
       "}\n",
       "\n",
       ".xr-text-repr-fallback {\n",
       "  /* fallback to plain text repr when CSS is not injected (untrusted notebook) */\n",
       "  display: none;\n",
       "}\n",
       "\n",
       ".xr-header {\n",
       "  padding-top: 6px;\n",
       "  padding-bottom: 6px;\n",
       "  margin-bottom: 4px;\n",
       "  border-bottom: solid 1px var(--xr-border-color);\n",
       "}\n",
       "\n",
       ".xr-header > div,\n",
       ".xr-header > ul {\n",
       "  display: inline;\n",
       "  margin-top: 0;\n",
       "  margin-bottom: 0;\n",
       "}\n",
       "\n",
       ".xr-obj-type,\n",
       ".xr-array-name {\n",
       "  margin-left: 2px;\n",
       "  margin-right: 10px;\n",
       "}\n",
       "\n",
       ".xr-obj-type {\n",
       "  color: var(--xr-font-color2);\n",
       "}\n",
       "\n",
       ".xr-sections {\n",
       "  padding-left: 0 !important;\n",
       "  display: grid;\n",
       "  grid-template-columns: 150px auto auto 1fr 20px 20px;\n",
       "}\n",
       "\n",
       ".xr-section-item {\n",
       "  display: contents;\n",
       "}\n",
       "\n",
       ".xr-section-item input {\n",
       "  display: none;\n",
       "}\n",
       "\n",
       ".xr-section-item input + label {\n",
       "  color: var(--xr-disabled-color);\n",
       "}\n",
       "\n",
       ".xr-section-item input:enabled + label {\n",
       "  cursor: pointer;\n",
       "  color: var(--xr-font-color2);\n",
       "}\n",
       "\n",
       ".xr-section-item input:enabled + label:hover {\n",
       "  color: var(--xr-font-color0);\n",
       "}\n",
       "\n",
       ".xr-section-summary {\n",
       "  grid-column: 1;\n",
       "  color: var(--xr-font-color2);\n",
       "  font-weight: 500;\n",
       "}\n",
       "\n",
       ".xr-section-summary > span {\n",
       "  display: inline-block;\n",
       "  padding-left: 0.5em;\n",
       "}\n",
       "\n",
       ".xr-section-summary-in:disabled + label {\n",
       "  color: var(--xr-font-color2);\n",
       "}\n",
       "\n",
       ".xr-section-summary-in + label:before {\n",
       "  display: inline-block;\n",
       "  content: '►';\n",
       "  font-size: 11px;\n",
       "  width: 15px;\n",
       "  text-align: center;\n",
       "}\n",
       "\n",
       ".xr-section-summary-in:disabled + label:before {\n",
       "  color: var(--xr-disabled-color);\n",
       "}\n",
       "\n",
       ".xr-section-summary-in:checked + label:before {\n",
       "  content: '▼';\n",
       "}\n",
       "\n",
       ".xr-section-summary-in:checked + label > span {\n",
       "  display: none;\n",
       "}\n",
       "\n",
       ".xr-section-summary,\n",
       ".xr-section-inline-details {\n",
       "  padding-top: 4px;\n",
       "  padding-bottom: 4px;\n",
       "}\n",
       "\n",
       ".xr-section-inline-details {\n",
       "  grid-column: 2 / -1;\n",
       "}\n",
       "\n",
       ".xr-section-details {\n",
       "  display: none;\n",
       "  grid-column: 1 / -1;\n",
       "  margin-bottom: 5px;\n",
       "}\n",
       "\n",
       ".xr-section-summary-in:checked ~ .xr-section-details {\n",
       "  display: contents;\n",
       "}\n",
       "\n",
       ".xr-array-wrap {\n",
       "  grid-column: 1 / -1;\n",
       "  display: grid;\n",
       "  grid-template-columns: 20px auto;\n",
       "}\n",
       "\n",
       ".xr-array-wrap > label {\n",
       "  grid-column: 1;\n",
       "  vertical-align: top;\n",
       "}\n",
       "\n",
       ".xr-preview {\n",
       "  color: var(--xr-font-color3);\n",
       "}\n",
       "\n",
       ".xr-array-preview,\n",
       ".xr-array-data {\n",
       "  padding: 0 5px !important;\n",
       "  grid-column: 2;\n",
       "}\n",
       "\n",
       ".xr-array-data,\n",
       ".xr-array-in:checked ~ .xr-array-preview {\n",
       "  display: none;\n",
       "}\n",
       "\n",
       ".xr-array-in:checked ~ .xr-array-data,\n",
       ".xr-array-preview {\n",
       "  display: inline-block;\n",
       "}\n",
       "\n",
       ".xr-dim-list {\n",
       "  display: inline-block !important;\n",
       "  list-style: none;\n",
       "  padding: 0 !important;\n",
       "  margin: 0;\n",
       "}\n",
       "\n",
       ".xr-dim-list li {\n",
       "  display: inline-block;\n",
       "  padding: 0;\n",
       "  margin: 0;\n",
       "}\n",
       "\n",
       ".xr-dim-list:before {\n",
       "  content: '(';\n",
       "}\n",
       "\n",
       ".xr-dim-list:after {\n",
       "  content: ')';\n",
       "}\n",
       "\n",
       ".xr-dim-list li:not(:last-child):after {\n",
       "  content: ',';\n",
       "  padding-right: 5px;\n",
       "}\n",
       "\n",
       ".xr-has-index {\n",
       "  font-weight: bold;\n",
       "}\n",
       "\n",
       ".xr-var-list,\n",
       ".xr-var-item {\n",
       "  display: contents;\n",
       "}\n",
       "\n",
       ".xr-var-item > div,\n",
       ".xr-var-item label,\n",
       ".xr-var-item > .xr-var-name span {\n",
       "  background-color: var(--xr-background-color-row-even);\n",
       "  margin-bottom: 0;\n",
       "}\n",
       "\n",
       ".xr-var-item > .xr-var-name:hover span {\n",
       "  padding-right: 5px;\n",
       "}\n",
       "\n",
       ".xr-var-list > li:nth-child(odd) > div,\n",
       ".xr-var-list > li:nth-child(odd) > label,\n",
       ".xr-var-list > li:nth-child(odd) > .xr-var-name span {\n",
       "  background-color: var(--xr-background-color-row-odd);\n",
       "}\n",
       "\n",
       ".xr-var-name {\n",
       "  grid-column: 1;\n",
       "}\n",
       "\n",
       ".xr-var-dims {\n",
       "  grid-column: 2;\n",
       "}\n",
       "\n",
       ".xr-var-dtype {\n",
       "  grid-column: 3;\n",
       "  text-align: right;\n",
       "  color: var(--xr-font-color2);\n",
       "}\n",
       "\n",
       ".xr-var-preview {\n",
       "  grid-column: 4;\n",
       "}\n",
       "\n",
       ".xr-index-preview {\n",
       "  grid-column: 2 / 5;\n",
       "  color: var(--xr-font-color2);\n",
       "}\n",
       "\n",
       ".xr-var-name,\n",
       ".xr-var-dims,\n",
       ".xr-var-dtype,\n",
       ".xr-preview,\n",
       ".xr-attrs dt {\n",
       "  white-space: nowrap;\n",
       "  overflow: hidden;\n",
       "  text-overflow: ellipsis;\n",
       "  padding-right: 10px;\n",
       "}\n",
       "\n",
       ".xr-var-name:hover,\n",
       ".xr-var-dims:hover,\n",
       ".xr-var-dtype:hover,\n",
       ".xr-attrs dt:hover {\n",
       "  overflow: visible;\n",
       "  width: auto;\n",
       "  z-index: 1;\n",
       "}\n",
       "\n",
       ".xr-var-attrs,\n",
       ".xr-var-data,\n",
       ".xr-index-data {\n",
       "  display: none;\n",
       "  background-color: var(--xr-background-color) !important;\n",
       "  padding-bottom: 5px !important;\n",
       "}\n",
       "\n",
       ".xr-var-attrs-in:checked ~ .xr-var-attrs,\n",
       ".xr-var-data-in:checked ~ .xr-var-data,\n",
       ".xr-index-data-in:checked ~ .xr-index-data {\n",
       "  display: block;\n",
       "}\n",
       "\n",
       ".xr-var-data > table {\n",
       "  float: right;\n",
       "}\n",
       "\n",
       ".xr-var-name span,\n",
       ".xr-var-data,\n",
       ".xr-index-name div,\n",
       ".xr-index-data,\n",
       ".xr-attrs {\n",
       "  padding-left: 25px !important;\n",
       "}\n",
       "\n",
       ".xr-attrs,\n",
       ".xr-var-attrs,\n",
       ".xr-var-data,\n",
       ".xr-index-data {\n",
       "  grid-column: 1 / -1;\n",
       "}\n",
       "\n",
       "dl.xr-attrs {\n",
       "  padding: 0;\n",
       "  margin: 0;\n",
       "  display: grid;\n",
       "  grid-template-columns: 125px auto;\n",
       "}\n",
       "\n",
       ".xr-attrs dt,\n",
       ".xr-attrs dd {\n",
       "  padding: 0;\n",
       "  margin: 0;\n",
       "  float: left;\n",
       "  padding-right: 10px;\n",
       "  width: auto;\n",
       "}\n",
       "\n",
       ".xr-attrs dt {\n",
       "  font-weight: normal;\n",
       "  grid-column: 1;\n",
       "}\n",
       "\n",
       ".xr-attrs dt:hover span {\n",
       "  display: inline-block;\n",
       "  background: var(--xr-background-color);\n",
       "  padding-right: 10px;\n",
       "}\n",
       "\n",
       ".xr-attrs dd {\n",
       "  grid-column: 2;\n",
       "  white-space: pre-wrap;\n",
       "  word-break: break-all;\n",
       "}\n",
       "\n",
       ".xr-icon-database,\n",
       ".xr-icon-file-text2,\n",
       ".xr-no-icon {\n",
       "  display: inline-block;\n",
       "  vertical-align: middle;\n",
       "  width: 1em;\n",
       "  height: 1.5em !important;\n",
       "  stroke-width: 0;\n",
       "  stroke: currentColor;\n",
       "  fill: currentColor;\n",
       "}\n",
       "</style><pre class='xr-text-repr-fallback'>&lt;xarray.Dataset&gt;\n",
       "Dimensions:      (time: 512, y: 183, x: 322)\n",
       "Coordinates:\n",
       "  * time         (time) datetime64[ns] 2020-01-01T00:20:38.303021 ... 2022-12...\n",
       "  * y            (y) float64 -3.795e+06 -3.795e+06 ... -3.8e+06 -3.8e+06\n",
       "  * x            (x) float64 5.801e+05 5.801e+05 ... 5.897e+05 5.897e+05\n",
       "    spatial_ref  int32 3577\n",
       "Data variables:\n",
       "    ndwi         (time, y, x) float32 0.4862 0.5719 0.5549 ... -0.2344 -0.3169\n",
       "Attributes:\n",
       "    crs:           EPSG:3577\n",
       "    grid_mapping:  spatial_ref</pre><div class='xr-wrap' style='display:none'><div class='xr-header'><div class='xr-obj-type'>xarray.Dataset</div></div><ul class='xr-sections'><li class='xr-section-item'><input id='section-07c3b130-cffb-4138-80fb-ece8973ec780' class='xr-section-summary-in' type='checkbox' disabled ><label for='section-07c3b130-cffb-4138-80fb-ece8973ec780' class='xr-section-summary'  title='Expand/collapse section'>Dimensions:</label><div class='xr-section-inline-details'><ul class='xr-dim-list'><li><span class='xr-has-index'>time</span>: 512</li><li><span class='xr-has-index'>y</span>: 183</li><li><span class='xr-has-index'>x</span>: 322</li></ul></div><div class='xr-section-details'></div></li><li class='xr-section-item'><input id='section-63fd1d04-8f41-4083-b658-deae3c405fbe' class='xr-section-summary-in' type='checkbox'  checked><label for='section-63fd1d04-8f41-4083-b658-deae3c405fbe' class='xr-section-summary' >Coordinates: <span>(4)</span></label><div class='xr-section-inline-details'></div><div class='xr-section-details'><ul class='xr-var-list'><li class='xr-var-item'><div class='xr-var-name'><span class='xr-has-index'>time</span></div><div class='xr-var-dims'>(time)</div><div class='xr-var-dtype'>datetime64[ns]</div><div class='xr-var-preview xr-preview'>2020-01-01T00:20:38.303021 ... 2...</div><input id='attrs-93387d30-9ac4-47f5-8071-ac16dbbfd926' class='xr-var-attrs-in' type='checkbox' ><label for='attrs-93387d30-9ac4-47f5-8071-ac16dbbfd926' title='Show/Hide attributes'><svg class='icon xr-icon-file-text2'><use xlink:href='#icon-file-text2'></use></svg></label><input id='data-20a0d744-4cd4-4eb1-91dc-a0ed2911ad62' class='xr-var-data-in' type='checkbox'><label for='data-20a0d744-4cd4-4eb1-91dc-a0ed2911ad62' title='Show/Hide data repr'><svg class='icon xr-icon-database'><use xlink:href='#icon-database'></use></svg></label><div class='xr-var-attrs'><dl class='xr-attrs'><dt><span>units :</span></dt><dd>seconds since 1970-01-01 00:00:00</dd></dl></div><div class='xr-var-data'><pre>array([&#x27;2020-01-01T00:20:38.303021000&#x27;, &#x27;2020-01-02T00:33:46.382301000&#x27;,\n",
       "       &#x27;2020-01-02T00:46:43.583293000&#x27;, ..., &#x27;2022-12-25T00:33:56.939345000&#x27;,\n",
       "       &#x27;2022-12-27T00:46:47.589149000&#x27;, &#x27;2022-12-30T00:56:40.861256000&#x27;],\n",
       "      dtype=&#x27;datetime64[ns]&#x27;)</pre></div></li><li class='xr-var-item'><div class='xr-var-name'><span class='xr-has-index'>y</span></div><div class='xr-var-dims'>(y)</div><div class='xr-var-dtype'>float64</div><div class='xr-var-preview xr-preview'>-3.795e+06 -3.795e+06 ... -3.8e+06</div><input id='attrs-6a575329-a140-4615-9e08-52a6e7d2b383' class='xr-var-attrs-in' type='checkbox' ><label for='attrs-6a575329-a140-4615-9e08-52a6e7d2b383' title='Show/Hide attributes'><svg class='icon xr-icon-file-text2'><use xlink:href='#icon-file-text2'></use></svg></label><input id='data-2893fc24-4bef-4c9c-8c22-17c1dbeb658d' class='xr-var-data-in' type='checkbox'><label for='data-2893fc24-4bef-4c9c-8c22-17c1dbeb658d' title='Show/Hide data repr'><svg class='icon xr-icon-database'><use xlink:href='#icon-database'></use></svg></label><div class='xr-var-attrs'><dl class='xr-attrs'><dt><span>units :</span></dt><dd>metre</dd><dt><span>resolution :</span></dt><dd>-30.0</dd><dt><span>crs :</span></dt><dd>EPSG:3577</dd></dl></div><div class='xr-var-data'><pre>array([-3794505., -3794535., -3794565., -3794595., -3794625., -3794655.,\n",
       "       -3794685., -3794715., -3794745., -3794775., -3794805., -3794835.,\n",
       "       -3794865., -3794895., -3794925., -3794955., -3794985., -3795015.,\n",
       "       -3795045., -3795075., -3795105., -3795135., -3795165., -3795195.,\n",
       "       -3795225., -3795255., -3795285., -3795315., -3795345., -3795375.,\n",
       "       -3795405., -3795435., -3795465., -3795495., -3795525., -3795555.,\n",
       "       -3795585., -3795615., -3795645., -3795675., -3795705., -3795735.,\n",
       "       -3795765., -3795795., -3795825., -3795855., -3795885., -3795915.,\n",
       "       -3795945., -3795975., -3796005., -3796035., -3796065., -3796095.,\n",
       "       -3796125., -3796155., -3796185., -3796215., -3796245., -3796275.,\n",
       "       -3796305., -3796335., -3796365., -3796395., -3796425., -3796455.,\n",
       "       -3796485., -3796515., -3796545., -3796575., -3796605., -3796635.,\n",
       "       -3796665., -3796695., -3796725., -3796755., -3796785., -3796815.,\n",
       "       -3796845., -3796875., -3796905., -3796935., -3796965., -3796995.,\n",
       "       -3797025., -3797055., -3797085., -3797115., -3797145., -3797175.,\n",
       "       -3797205., -3797235., -3797265., -3797295., -3797325., -3797355.,\n",
       "       -3797385., -3797415., -3797445., -3797475., -3797505., -3797535.,\n",
       "       -3797565., -3797595., -3797625., -3797655., -3797685., -3797715.,\n",
       "       -3797745., -3797775., -3797805., -3797835., -3797865., -3797895.,\n",
       "       -3797925., -3797955., -3797985., -3798015., -3798045., -3798075.,\n",
       "       -3798105., -3798135., -3798165., -3798195., -3798225., -3798255.,\n",
       "       -3798285., -3798315., -3798345., -3798375., -3798405., -3798435.,\n",
       "       -3798465., -3798495., -3798525., -3798555., -3798585., -3798615.,\n",
       "       -3798645., -3798675., -3798705., -3798735., -3798765., -3798795.,\n",
       "       -3798825., -3798855., -3798885., -3798915., -3798945., -3798975.,\n",
       "       -3799005., -3799035., -3799065., -3799095., -3799125., -3799155.,\n",
       "       -3799185., -3799215., -3799245., -3799275., -3799305., -3799335.,\n",
       "       -3799365., -3799395., -3799425., -3799455., -3799485., -3799515.,\n",
       "       -3799545., -3799575., -3799605., -3799635., -3799665., -3799695.,\n",
       "       -3799725., -3799755., -3799785., -3799815., -3799845., -3799875.,\n",
       "       -3799905., -3799935., -3799965.])</pre></div></li><li class='xr-var-item'><div class='xr-var-name'><span class='xr-has-index'>x</span></div><div class='xr-var-dims'>(x)</div><div class='xr-var-dtype'>float64</div><div class='xr-var-preview xr-preview'>5.801e+05 5.801e+05 ... 5.897e+05</div><input id='attrs-1a6f3929-7441-4fe5-9166-b2ec5f853e6c' class='xr-var-attrs-in' type='checkbox' ><label for='attrs-1a6f3929-7441-4fe5-9166-b2ec5f853e6c' title='Show/Hide attributes'><svg class='icon xr-icon-file-text2'><use xlink:href='#icon-file-text2'></use></svg></label><input id='data-5e2a2983-d94f-4d9d-bf36-3bc77cf9a85a' class='xr-var-data-in' type='checkbox'><label for='data-5e2a2983-d94f-4d9d-bf36-3bc77cf9a85a' title='Show/Hide data repr'><svg class='icon xr-icon-database'><use xlink:href='#icon-database'></use></svg></label><div class='xr-var-attrs'><dl class='xr-attrs'><dt><span>units :</span></dt><dd>metre</dd><dt><span>resolution :</span></dt><dd>30.0</dd><dt><span>crs :</span></dt><dd>EPSG:3577</dd></dl></div><div class='xr-var-data'><pre>array([580095., 580125., 580155., ..., 589665., 589695., 589725.])</pre></div></li><li class='xr-var-item'><div class='xr-var-name'><span>spatial_ref</span></div><div class='xr-var-dims'>()</div><div class='xr-var-dtype'>int32</div><div class='xr-var-preview xr-preview'>3577</div><input id='attrs-d03d0a82-215e-4396-8419-f3880fa49ec1' class='xr-var-attrs-in' type='checkbox' ><label for='attrs-d03d0a82-215e-4396-8419-f3880fa49ec1' title='Show/Hide attributes'><svg class='icon xr-icon-file-text2'><use xlink:href='#icon-file-text2'></use></svg></label><input id='data-2293e2ee-6a78-4437-b504-c16876e65452' class='xr-var-data-in' type='checkbox'><label for='data-2293e2ee-6a78-4437-b504-c16876e65452' title='Show/Hide data repr'><svg class='icon xr-icon-database'><use xlink:href='#icon-database'></use></svg></label><div class='xr-var-attrs'><dl class='xr-attrs'><dt><span>spatial_ref :</span></dt><dd>PROJCS[&quot;GDA94 / Australian Albers&quot;,GEOGCS[&quot;GDA94&quot;,DATUM[&quot;Geocentric_Datum_of_Australia_1994&quot;,SPHEROID[&quot;GRS 1980&quot;,6378137,298.257222101,AUTHORITY[&quot;EPSG&quot;,&quot;7019&quot;]],AUTHORITY[&quot;EPSG&quot;,&quot;6283&quot;]],PRIMEM[&quot;Greenwich&quot;,0,AUTHORITY[&quot;EPSG&quot;,&quot;8901&quot;]],UNIT[&quot;degree&quot;,0.0174532925199433,AUTHORITY[&quot;EPSG&quot;,&quot;9122&quot;]],AUTHORITY[&quot;EPSG&quot;,&quot;4283&quot;]],PROJECTION[&quot;Albers_Conic_Equal_Area&quot;],PARAMETER[&quot;latitude_of_center&quot;,0],PARAMETER[&quot;longitude_of_center&quot;,132],PARAMETER[&quot;standard_parallel_1&quot;,-18],PARAMETER[&quot;standard_parallel_2&quot;,-36],PARAMETER[&quot;false_easting&quot;,0],PARAMETER[&quot;false_northing&quot;,0],UNIT[&quot;metre&quot;,1,AUTHORITY[&quot;EPSG&quot;,&quot;9001&quot;]],AXIS[&quot;Easting&quot;,EAST],AXIS[&quot;Northing&quot;,NORTH],AUTHORITY[&quot;EPSG&quot;,&quot;3577&quot;]]</dd><dt><span>grid_mapping_name :</span></dt><dd>albers_conical_equal_area</dd></dl></div><div class='xr-var-data'><pre>array(3577, dtype=int32)</pre></div></li></ul></div></li><li class='xr-section-item'><input id='section-e95cc2b1-94bd-4d1b-9103-f543d3d89bb4' class='xr-section-summary-in' type='checkbox'  checked><label for='section-e95cc2b1-94bd-4d1b-9103-f543d3d89bb4' class='xr-section-summary' >Data variables: <span>(1)</span></label><div class='xr-section-inline-details'></div><div class='xr-section-details'><ul class='xr-var-list'><li class='xr-var-item'><div class='xr-var-name'><span>ndwi</span></div><div class='xr-var-dims'>(time, y, x)</div><div class='xr-var-dtype'>float32</div><div class='xr-var-preview xr-preview'>0.4862 0.5719 ... -0.2344 -0.3169</div><input id='attrs-15510d4a-f5f1-4f7a-8ddc-f43b80e56c53' class='xr-var-attrs-in' type='checkbox' disabled><label for='attrs-15510d4a-f5f1-4f7a-8ddc-f43b80e56c53' title='Show/Hide attributes'><svg class='icon xr-icon-file-text2'><use xlink:href='#icon-file-text2'></use></svg></label><input id='data-ed38dc57-5bf0-4e8d-a04b-1c0695ad0533' class='xr-var-data-in' type='checkbox'><label for='data-ed38dc57-5bf0-4e8d-a04b-1c0695ad0533' title='Show/Hide data repr'><svg class='icon xr-icon-database'><use xlink:href='#icon-database'></use></svg></label><div class='xr-var-attrs'><dl class='xr-attrs'></dl></div><div class='xr-var-data'><pre>array([[[ 0.48618785,  0.57186544,  0.5548961 , ..., -0.39803624,\n",
       "         -0.40849304, -0.40632054],\n",
       "        [ 0.4688347 ,  0.54317546,  0.54787236, ..., -0.41239893,\n",
       "         -0.4145594 , -0.39550817],\n",
       "        [ 0.5857988 ,  0.54269975,  0.4987593 , ..., -0.41575664,\n",
       "         -0.40932235, -0.4048362 ],\n",
       "        ...,\n",
       "        [        nan,         nan,         nan, ...,         nan,\n",
       "                 nan,         nan],\n",
       "        [        nan,         nan,         nan, ...,         nan,\n",
       "                 nan,         nan],\n",
       "        [        nan,         nan,         nan, ...,         nan,\n",
       "                 nan,         nan]],\n",
       "\n",
       "       [[ 0.5956679 ,  0.60583943,  0.6236162 , ..., -0.39531532,\n",
       "         -0.40036166, -0.4040073 ],\n",
       "        [ 0.6       ,  0.61172163,  0.6268657 , ..., -0.39619884,\n",
       "         -0.40087783, -0.40181488],\n",
       "        [ 0.6043956 ,  0.60727274,  0.6236162 , ..., -0.39427722,\n",
       "         -0.39797068, -0.40007335],\n",
       "...\n",
       "        [ 0.6       ,  0.72527474,  0.6105263 , ..., -0.3339394 ,\n",
       "         -0.3151909 , -0.00185874],\n",
       "        [ 0.6666667 ,  0.7222222 ,  0.6344086 , ..., -0.21607278,\n",
       "         -0.31224555, -0.3976487 ],\n",
       "        [ 0.6086956 ,  0.6230366 ,  0.64893615, ..., -0.26748705,\n",
       "         -0.21524541, -0.31134644]],\n",
       "\n",
       "       [[ 0.17710197,  0.19076133,  0.17515099, ..., -0.4206146 ,\n",
       "         -0.42751616, -0.43172076],\n",
       "        [ 0.17315659,  0.18644068,  0.18961039, ..., -0.4364035 ,\n",
       "         -0.4255911 , -0.4500888 ],\n",
       "        [ 0.20033956,  0.1776824 ,  0.17409588, ..., -0.41103342,\n",
       "         -0.42514506, -0.4323837 ],\n",
       "        ...,\n",
       "        [ 0.13974592,  0.16209035,  0.14942528, ..., -0.34371892,\n",
       "         -0.32994062, -0.02844639],\n",
       "        [ 0.15119363,  0.15487914,  0.16681072, ..., -0.23371863,\n",
       "         -0.29649967, -0.39695507],\n",
       "        [ 0.13419913,  0.16295026,  0.17338003, ..., -0.31654134,\n",
       "         -0.234375  , -0.31692514]]], dtype=float32)</pre></div></li></ul></div></li><li class='xr-section-item'><input id='section-c96c858d-d4a7-4020-9d58-05cf8d80e341' class='xr-section-summary-in' type='checkbox'  ><label for='section-c96c858d-d4a7-4020-9d58-05cf8d80e341' class='xr-section-summary' >Indexes: <span>(3)</span></label><div class='xr-section-inline-details'></div><div class='xr-section-details'><ul class='xr-var-list'><li class='xr-var-item'><div class='xr-index-name'><div>time</div></div><div class='xr-index-preview'>PandasIndex</div><div></div><input id='index-b2d11a14-8648-4d57-86af-d71b06900cad' class='xr-index-data-in' type='checkbox'/><label for='index-b2d11a14-8648-4d57-86af-d71b06900cad' title='Show/Hide index repr'><svg class='icon xr-icon-database'><use xlink:href='#icon-database'></use></svg></label><div class='xr-index-data'><pre>PandasIndex(DatetimeIndex([&#x27;2020-01-01 00:20:38.303021&#x27;, &#x27;2020-01-02 00:33:46.382301&#x27;,\n",
       "               &#x27;2020-01-02 00:46:43.583293&#x27;, &#x27;2020-01-07 00:46:43.952428&#x27;,\n",
       "               &#x27;2020-01-09 00:39:56.099417&#x27;, &#x27;2020-01-12 00:46:43.406883&#x27;,\n",
       "               &#x27;2020-01-15 00:56:39.268922&#x27;, &#x27;2020-01-17 00:19:49.929391&#x27;,\n",
       "               &#x27;2020-01-17 00:46:43.128850&#x27;, &#x27;2020-01-18 00:33:43.341487&#x27;,\n",
       "               ...\n",
       "               &#x27;2022-12-12 00:46:46.411868&#x27;, &#x27;2022-12-15 00:56:43.140526&#x27;,\n",
       "               &#x27;2022-12-16 00:40:12.828737&#x27;, &#x27;2022-12-17 00:33:59.973087&#x27;,\n",
       "               &#x27;2022-12-17 00:46:48.467419&#x27;, &#x27;2022-12-22 00:46:48.350320&#x27;,\n",
       "               &#x27;2022-12-24 00:40:07.761743&#x27;, &#x27;2022-12-25 00:33:56.939345&#x27;,\n",
       "               &#x27;2022-12-27 00:46:47.589149&#x27;, &#x27;2022-12-30 00:56:40.861256&#x27;],\n",
       "              dtype=&#x27;datetime64[ns]&#x27;, name=&#x27;time&#x27;, length=512, freq=None))</pre></div></li><li class='xr-var-item'><div class='xr-index-name'><div>y</div></div><div class='xr-index-preview'>PandasIndex</div><div></div><input id='index-b595b31a-3d39-4723-8622-2b26e9a69961' class='xr-index-data-in' type='checkbox'/><label for='index-b595b31a-3d39-4723-8622-2b26e9a69961' title='Show/Hide index repr'><svg class='icon xr-icon-database'><use xlink:href='#icon-database'></use></svg></label><div class='xr-index-data'><pre>PandasIndex(Float64Index([-3794505.0, -3794535.0, -3794565.0, -3794595.0, -3794625.0,\n",
       "              -3794655.0, -3794685.0, -3794715.0, -3794745.0, -3794775.0,\n",
       "              ...\n",
       "              -3799695.0, -3799725.0, -3799755.0, -3799785.0, -3799815.0,\n",
       "              -3799845.0, -3799875.0, -3799905.0, -3799935.0, -3799965.0],\n",
       "             dtype=&#x27;float64&#x27;, name=&#x27;y&#x27;, length=183))</pre></div></li><li class='xr-var-item'><div class='xr-index-name'><div>x</div></div><div class='xr-index-preview'>PandasIndex</div><div></div><input id='index-92ebb529-1a93-4588-b914-8b9ccbd4ea11' class='xr-index-data-in' type='checkbox'/><label for='index-92ebb529-1a93-4588-b914-8b9ccbd4ea11' title='Show/Hide index repr'><svg class='icon xr-icon-database'><use xlink:href='#icon-database'></use></svg></label><div class='xr-index-data'><pre>PandasIndex(Float64Index([580095.0, 580125.0, 580155.0, 580185.0, 580215.0, 580245.0,\n",
       "              580275.0, 580305.0, 580335.0, 580365.0,\n",
       "              ...\n",
       "              589455.0, 589485.0, 589515.0, 589545.0, 589575.0, 589605.0,\n",
       "              589635.0, 589665.0, 589695.0, 589725.0],\n",
       "             dtype=&#x27;float64&#x27;, name=&#x27;x&#x27;, length=322))</pre></div></li></ul></div></li><li class='xr-section-item'><input id='section-0bde56dc-6c3d-46d1-8185-b1554a3dd693' class='xr-section-summary-in' type='checkbox'  checked><label for='section-0bde56dc-6c3d-46d1-8185-b1554a3dd693' class='xr-section-summary' >Attributes: <span>(2)</span></label><div class='xr-section-inline-details'></div><div class='xr-section-details'><dl class='xr-attrs'><dt><span>crs :</span></dt><dd>EPSG:3577</dd><dt><span>grid_mapping :</span></dt><dd>spatial_ref</dd></dl></div></li></ul></div></div>"
      ],
      "text/plain": [
       "<xarray.Dataset>\n",
       "Dimensions:      (time: 512, y: 183, x: 322)\n",
       "Coordinates:\n",
       "  * time         (time) datetime64[ns] 2020-01-01T00:20:38.303021 ... 2022-12...\n",
       "  * y            (y) float64 -3.795e+06 -3.795e+06 ... -3.8e+06 -3.8e+06\n",
       "  * x            (x) float64 5.801e+05 5.801e+05 ... 5.897e+05 5.897e+05\n",
       "    spatial_ref  int32 3577\n",
       "Data variables:\n",
       "    ndwi         (time, y, x) float32 0.4862 0.5719 0.5549 ... -0.2344 -0.3169\n",
       "Attributes:\n",
       "    crs:           EPSG:3577\n",
       "    grid_mapping:  spatial_ref"
      ]
     },
     "execution_count": 8,
     "metadata": {},
     "output_type": "execute_result"
    }
   ],
   "source": [
    "%%time\n",
    "\n",
    "# Connect to datacube\n",
    "dc = datacube.Datacube(app=\"Intertidal_elevation\")\n",
    "\n",
    "# Create local dask cluster to improve data load time\n",
    "client = create_local_dask_cluster(return_client=True)\n",
    "\n",
    "satellite_ds,_,_ = load_data(\n",
    "    dc=dc,\n",
    "    study_area=study_area,\n",
    "    geom=geom,\n",
    "    time_range=(start_date, end_date),\n",
    "    resolution=resolution,\n",
    "    crs=crs,\n",
    "    include_s2=True,\n",
    "    include_ls=True,\n",
    "    filter_gqa=filter_gqa,\n",
    "    max_cloudcover=90,\n",
    "    skip_broken_datasets=True,\n",
    ")\n",
    "\n",
    "print(satellite_ds)\n",
    "\n",
    "# Load data\n",
    "satellite_ds.load()"
   ]
  },
  {
   "cell_type": "markdown",
   "id": "1e110fbd",
   "metadata": {},
   "source": [
    "### Load optional topobathy mask\n",
    "Loads a topo-bathymetric DEM for the extents of the loaded satellite data.\n",
    "This is used as a coarse mask to constrain the analysis to the coastal zone, improving run time and reducing clear false positives over deep water or elevated land."
   ]
  },
  {
   "cell_type": "code",
   "execution_count": 9,
   "id": "86e0342f",
   "metadata": {
    "tags": []
   },
   "outputs": [],
   "source": [
    "# Load data from GA's AusBathyTopo 250m 2023 Grid\n",
    "topobathy_mask = load_topobathy_mask(dc, geobox=satellite_ds.odc.geobox.compat)"
   ]
  },
  {
   "cell_type": "markdown",
   "id": "61de9aa9",
   "metadata": {},
   "source": [
    "### Intertidal elevation\n",
    "To run without the topobathy DEM mask, comment out `valid_mask=...`."
   ]
  },
  {
   "cell_type": "code",
   "execution_count": 10,
   "id": "498a6da5",
   "metadata": {
    "tags": []
   },
   "outputs": [
    {
     "name": "stderr",
     "output_type": "stream",
     "text": [
      "2024-04-17 00:39:38 INFO Processing: Modelling tide heights for each pixel\n"
     ]
    },
    {
     "name": "stdout",
     "output_type": "stream",
     "text": [
      "Running ensemble tide modelling\n",
      "Creating reduced resolution 5000 x 5000 metre tide modelling array\n",
      "Modelling tides using FES2014, FES2012, TPXO8-atlas-v1, TPXO9-atlas-v5, EOT20, HAMTIDE11, GOT4.10 in parallel\n"
     ]
    },
    {
     "name": "stderr",
     "output_type": "stream",
     "text": [
      "100%|██████████| 35/35 [00:18<00:00,  1.86it/s]\n"
     ]
    },
    {
     "name": "stdout",
     "output_type": "stream",
     "text": [
      "Returning low resolution tide array\n",
      "Generating ensemble tide model from point inputs\n",
      "Interpolating model weights using 'idw' interpolation\n",
      "                 weights\n",
      "tide_model              \n",
      "FES2014         0.401301\n",
      "TPXO9-atlas-v5  0.399915\n",
      "EOT20           0.397542\n",
      "TPXO8-atlas-v1  0.394333\n",
      "FES2012         0.390324\n",
      "GOT4.10         0.370632\n",
      "HAMTIDE11       0.127762\n",
      "Reducing multiple models into single ensemble model using 'mean'\n",
      "Reprojecting ensemble tides into original array\n"
     ]
    },
    {
     "name": "stderr",
     "output_type": "stream",
     "text": [
      "2024-04-17 00:40:02 INFO Processing: Masking nodata and adding tide heights to satellite data array\n",
      "2024-04-17 00:40:02 INFO Processing: Flattening satellite data array and filtering to intertidal candidate pixels\n",
      "2024-04-17 00:40:02 INFO Processing: Applying valid data mask to constrain study area\n",
      "2024-04-17 00:40:04 INFO Processing: Running per-pixel rolling median\n"
     ]
    },
    {
     "name": "stdout",
     "output_type": "stream",
     "text": [
      "Reducing analysed pixels from 58926 to 14377 (24.40%)\n"
     ]
    },
    {
     "data": {
      "application/vnd.jupyter.widget-view+json": {
       "model_id": "bc9ee36912ff4155865e46b9a0ee6fd5",
       "version_major": 2,
       "version_minor": 0
      },
      "text/plain": [
       "  0%|          | 0/105 [00:00<?, ?it/s]"
      ]
     },
     "metadata": {},
     "output_type": "display_data"
    },
    {
     "name": "stderr",
     "output_type": "stream",
     "text": [
      "2024-04-17 00:40:27 INFO Processing: Modelling intertidal elevation\n",
      "2024-04-17 00:40:28 INFO Processing: Modelling intertidal uncertainty\n"
     ]
    },
    {
     "name": "stdout",
     "output_type": "stream",
     "text": [
      "Applying tidal interval interpolation to 200 intervals\n",
      "Applying rolling mean smoothing with radius 20\n"
     ]
    },
    {
     "name": "stderr",
     "output_type": "stream",
     "text": [
      "2024-04-17 00:40:29 INFO Processing: Unflattening data back to its original spatial dimensions\n",
      "2024-04-17 00:40:29 INFO Processing: Cleaning inaccurate upper intertidal pixels\n",
      "2024-04-17 00:40:29 INFO Processing: Successfully completed intertidal elevation modelling\n"
     ]
    }
   ],
   "source": [
    "# Model elevation for each pixel\n",
    "ds, tide_m = elevation(\n",
    "    satellite_ds,\n",
    "    valid_mask=topobathy_mask,\n",
    "    tide_model=tide_model,\n",
    "    tide_model_dir=tide_model_dir,\n",
    ")"
   ]
  },
  {
   "cell_type": "markdown",
   "id": "704fc753",
   "metadata": {
    "tags": []
   },
   "source": [
    "### Intertidal extents\n"
   ]
  },
  {
   "cell_type": "code",
   "execution_count": 11,
   "id": "f7f72117",
   "metadata": {
    "tags": []
   },
   "outputs": [],
   "source": [
    "# Load and reclassify for intensive urban land use class only the ABARES ACLUM ds\n",
    "reclassified_aclum = load_aclum_mask(dc, geobox=satellite_ds.odc.geobox.compat)\n",
    "\n",
    "# Calculate intertidal extents\n",
    "ds[\"extents\"] = extents(\n",
    "    dem=ds.elevation,\n",
    "    freq=ds.qa_ndwi_freq,\n",
    "    corr=ds.qa_ndwi_corr,\n",
    "    reclassified_aclum=reclassified_aclum,\n",
    ")"
   ]
  },
  {
   "cell_type": "code",
   "execution_count": null,
   "id": "2e92bfa6",
   "metadata": {
    "tags": []
   },
   "outputs": [],
   "source": [
    "# ## Plot with labels\n",
    "# labels=['0 Dry',\n",
    "#        '1 Intermittent\\n   wet\\n   inland',\n",
    "#        '2 Wet inland',\n",
    "#        '3 Wet ocean',\n",
    "#        '4 Intertidal lc',\n",
    "#        '5 Intertidal hc',\n",
    "#        ]\n",
    "\n",
    "# fig,ax=plt.subplots(figsize=(12,8))\n",
    "# cax=ax.imshow(ds['extents'], cmap='terrain_r')\n",
    "# cbar=fig.colorbar(cax, ticks=[0,1,2,3,4,5])\n",
    "# cbar.ax.set_yticklabels(labels)\n",
    "# plt.show()"
   ]
  },
  {
   "cell_type": "markdown",
   "id": "063c72b9",
   "metadata": {
    "tags": []
   },
   "source": [
    "### Intertidal exposure\n",
    "Calculate exposure using the script function.\n",
    "To calculate exposure for the full time period, leave `filters` commented out or set as ['unfiltered'].\n",
    "See the function documentation for the full range of available filters and filter_combinations.\n",
    "The code accepts lists of multiple filters and filter_combination tuples."
   ]
  },
  {
   "cell_type": "code",
   "execution_count": 18,
   "id": "e1ff8db8",
   "metadata": {
    "tags": []
   },
   "outputs": [
    {
     "name": "stdout",
     "output_type": "stream",
     "text": [
      "Running ensemble tide modelling\n",
      "Creating reduced resolution 3000 x 3000 metre tide modelling array\n",
      "Modelling tides using FES2014, FES2012, TPXO8-atlas-v1, TPXO9-atlas-v5, EOT20, HAMTIDE11, GOT4.10 in parallel\n"
     ]
    },
    {
     "name": "stderr",
     "output_type": "stream",
     "text": [
      "100%|██████████| 35/35 [00:33<00:00,  1.04it/s]\n"
     ]
    },
    {
     "name": "stdout",
     "output_type": "stream",
     "text": [
      "Returning low resolution tide array\n",
      "Generating ensemble tide model from point inputs\n",
      "Interpolating model weights using 'idw' interpolation\n",
      "                 weights\n",
      "tide_model              \n",
      "FES2014         0.403474\n",
      "TPXO9-atlas-v5  0.402257\n",
      "EOT20           0.399630\n",
      "TPXO8-atlas-v1  0.396517\n",
      "FES2012         0.392098\n",
      "GOT4.10         0.372382\n",
      "HAMTIDE11       0.129143\n",
      "Reducing multiple models into single ensemble model using 'mean'\n",
      "Reprojecting ensemble tides into original array\n"
     ]
    },
    {
     "ename": "KeyboardInterrupt",
     "evalue": "",
     "output_type": "error",
     "traceback": [
      "\u001b[0;31m---------------------------------------------------------------------------\u001b[0m",
      "\u001b[0;31mKeyboardInterrupt\u001b[0m                         Traceback (most recent call last)",
      "Cell \u001b[0;32mIn[18], line 6\u001b[0m\n\u001b[1;32m      3\u001b[0m \u001b[38;5;66;03m#Temp variable call\u001b[39;00m\n\u001b[1;32m      4\u001b[0m filters\u001b[38;5;241m=\u001b[39m[\u001b[38;5;124m'\u001b[39m\u001b[38;5;124mSpring_high\u001b[39m\u001b[38;5;124m'\u001b[39m,\u001b[38;5;124m'\u001b[39m\u001b[38;5;124mSpring_low\u001b[39m\u001b[38;5;124m'\u001b[39m]\n\u001b[0;32m----> 6\u001b[0m exposure_filters, tide_cq_dict \u001b[38;5;241m=\u001b[39m \u001b[43mexposure\u001b[49m\u001b[43m(\u001b[49m\n\u001b[1;32m      7\u001b[0m \u001b[43m    \u001b[49m\u001b[43mdem\u001b[49m\u001b[38;5;241;43m=\u001b[39;49m\u001b[43mds\u001b[49m\u001b[38;5;241;43m.\u001b[39;49m\u001b[43melevation\u001b[49m\u001b[43m,\u001b[49m\n\u001b[1;32m      8\u001b[0m \u001b[43m    \u001b[49m\u001b[43mstart_date\u001b[49m\u001b[38;5;241;43m=\u001b[39;49m\u001b[43mstart_date\u001b[49m\u001b[43m,\u001b[49m\n\u001b[1;32m      9\u001b[0m \u001b[43m    \u001b[49m\u001b[43mend_date\u001b[49m\u001b[38;5;241;43m=\u001b[39;49m\u001b[43mend_date\u001b[49m\u001b[43m,\u001b[49m\n\u001b[1;32m     10\u001b[0m \u001b[43m    \u001b[49m\u001b[38;5;66;43;03m# times=all_times,\u001b[39;49;00m\n\u001b[1;32m     11\u001b[0m \u001b[43m    \u001b[49m\u001b[43mmodelled_freq\u001b[49m\u001b[43m \u001b[49m\u001b[38;5;241;43m=\u001b[39;49m\u001b[43m \u001b[49m\u001b[43mmodelled_freq\u001b[49m\u001b[43m,\u001b[49m\n\u001b[1;32m     12\u001b[0m \u001b[43m    \u001b[49m\u001b[43mtide_model\u001b[49m\u001b[38;5;241;43m=\u001b[39;49m\u001b[43mtide_model\u001b[49m\u001b[43m,\u001b[49m\n\u001b[1;32m     13\u001b[0m \u001b[43m    \u001b[49m\u001b[43mtide_model_dir\u001b[49m\u001b[38;5;241;43m=\u001b[39;49m\u001b[43mtide_model_dir\u001b[49m\u001b[43m,\u001b[49m\n\u001b[1;32m     14\u001b[0m \u001b[43m    \u001b[49m\u001b[43mfilters\u001b[49m\u001b[38;5;241;43m=\u001b[39;49m\u001b[43mfilters\u001b[49m\u001b[43m,\u001b[49m\n\u001b[1;32m     15\u001b[0m \u001b[43m    \u001b[49m\u001b[43mfilters_combined\u001b[49m\u001b[38;5;241;43m=\u001b[39;49m\u001b[43mfilters_combined\u001b[49m\u001b[43m,\u001b[49m\n\u001b[1;32m     16\u001b[0m \u001b[43m)\u001b[49m\n\u001b[1;32m     18\u001b[0m \u001b[38;5;28;01mfor\u001b[39;00m x \u001b[38;5;129;01min\u001b[39;00m \u001b[38;5;28mlist\u001b[39m(exposure_filters\u001b[38;5;241m.\u001b[39mkeys()):\n\u001b[1;32m     19\u001b[0m     ds[\u001b[38;5;124m'\u001b[39m\u001b[38;5;124mexposure_\u001b[39m\u001b[38;5;124m'\u001b[39m\u001b[38;5;241m+\u001b[39m\u001b[38;5;28mstr\u001b[39m(x)]\u001b[38;5;241m=\u001b[39mexposure_filters[\u001b[38;5;28mstr\u001b[39m(x)]\n",
      "File \u001b[0;32m~/dea_intertidal/dea-intertidal/intertidal/exposure_edited.py:820\u001b[0m, in \u001b[0;36mexposure\u001b[0;34m(dem, start_date, end_date, modelled_freq, tide_model, tide_model_dir, filters, filters_combined, run_id, log)\u001b[0m\n\u001b[1;32m    816\u001b[0m     # return exposure\n\u001b[1;32m    818\u001b[0m if any (x in sptl_filters for x in filters):\n\u001b[1;32m    819\u001b[0m     if (tide_model[0] == \"ensemble\") or (tide_model == \"ensemble\"):\n\u001b[0;32m--> 820\u001b[0m         # Use ensemble model combining multiple input ocean tide models\n\u001b[1;32m    821\u001b[0m         ModelledTides, _ = pixel_tides_ensemble(\n\u001b[1;32m    822\u001b[0m             dem,\n\u001b[1;32m    823\u001b[0m             # calculate_quantiles=calculate_quantiles,\n\u001b[0;32m   (...)\u001b[0m\n\u001b[1;32m    829\u001b[0m             resolution=3000,\n\u001b[1;32m    830\u001b[0m         )\n\u001b[1;32m    832\u001b[0m     else:\n\u001b[1;32m    833\u001b[0m         # Use single input ocean tide model\n",
      "File \u001b[0;32m~/dea_intertidal/dea-intertidal/intertidal/tide_modelling.py:147\u001b[0m, in \u001b[0;36mpixel_tides_ensemble\u001b[0;34m(ds, ancillary_points, model, top_n, interp_method, reduce_method, ancillary_valid_perc, **pixel_tides_kwargs)\u001b[0m\n\u001b[1;32m    145\u001b[0m \u001b[38;5;28;01mif\u001b[39;00m resample_param:\n\u001b[1;32m    146\u001b[0m     \u001b[38;5;28mprint\u001b[39m(\u001b[38;5;124m\"\u001b[39m\u001b[38;5;124mReprojecting ensemble tides into original array\u001b[39m\u001b[38;5;124m\"\u001b[39m)\n\u001b[0;32m--> 147\u001b[0m     tides_highres_ensemble, _ \u001b[38;5;241m=\u001b[39m \u001b[43m_pixel_tides_resample\u001b[49m\u001b[43m(\u001b[49m\n\u001b[1;32m    148\u001b[0m \u001b[43m        \u001b[49m\u001b[43mtides_lowres\u001b[49m\u001b[38;5;241;43m=\u001b[39;49m\u001b[43mtides_lowres_ensemble\u001b[49m\u001b[43m,\u001b[49m\u001b[43m \u001b[49m\u001b[43mds\u001b[49m\u001b[38;5;241;43m=\u001b[39;49m\u001b[43mds\u001b[49m\n\u001b[1;32m    149\u001b[0m \u001b[43m    \u001b[49m\u001b[43m)\u001b[49m\n\u001b[1;32m    150\u001b[0m     \u001b[38;5;28;01mreturn\u001b[39;00m tides_highres_ensemble, tides_lowres_ensemble\n\u001b[1;32m    152\u001b[0m \u001b[38;5;28;01melse\u001b[39;00m:\n",
      "File \u001b[0;32m/env/lib/python3.10/site-packages/dea_tools/coastal.py:788\u001b[0m, in \u001b[0;36m_pixel_tides_resample\u001b[0;34m(tides_lowres, ds, resample_method, dask_chunks, dask_compute)\u001b[0m\n\u001b[1;32m    786\u001b[0m \u001b[38;5;66;03m# Optionally process and load into memory with Dask\u001b[39;00m\n\u001b[1;32m    787\u001b[0m \u001b[38;5;28;01mif\u001b[39;00m dask_compute:\n\u001b[0;32m--> 788\u001b[0m     \u001b[43mtides_highres\u001b[49m\u001b[38;5;241;43m.\u001b[39;49m\u001b[43mload\u001b[49m\u001b[43m(\u001b[49m\u001b[43m)\u001b[49m\n\u001b[1;32m    790\u001b[0m \u001b[38;5;28;01mreturn\u001b[39;00m tides_highres, tides_lowres\n",
      "File \u001b[0;32m/env/lib/python3.10/site-packages/xarray/core/dataarray.py:1075\u001b[0m, in \u001b[0;36mDataArray.load\u001b[0;34m(self, **kwargs)\u001b[0m\n\u001b[1;32m   1057\u001b[0m \u001b[38;5;28;01mdef\u001b[39;00m \u001b[38;5;21mload\u001b[39m(\u001b[38;5;28mself\u001b[39m: T_DataArray, \u001b[38;5;241m*\u001b[39m\u001b[38;5;241m*\u001b[39mkwargs) \u001b[38;5;241m-\u001b[39m\u001b[38;5;241m>\u001b[39m T_DataArray:\n\u001b[1;32m   1058\u001b[0m \u001b[38;5;250m    \u001b[39m\u001b[38;5;124;03m\"\"\"Manually trigger loading of this array's data from disk or a\u001b[39;00m\n\u001b[1;32m   1059\u001b[0m \u001b[38;5;124;03m    remote source into memory and return this array.\u001b[39;00m\n\u001b[1;32m   1060\u001b[0m \n\u001b[0;32m   (...)\u001b[0m\n\u001b[1;32m   1073\u001b[0m \u001b[38;5;124;03m    dask.compute\u001b[39;00m\n\u001b[1;32m   1074\u001b[0m \u001b[38;5;124;03m    \"\"\"\u001b[39;00m\n\u001b[0;32m-> 1075\u001b[0m     ds \u001b[38;5;241m=\u001b[39m \u001b[38;5;28;43mself\u001b[39;49m\u001b[38;5;241;43m.\u001b[39;49m\u001b[43m_to_temp_dataset\u001b[49m\u001b[43m(\u001b[49m\u001b[43m)\u001b[49m\u001b[38;5;241;43m.\u001b[39;49m\u001b[43mload\u001b[49m\u001b[43m(\u001b[49m\u001b[38;5;241;43m*\u001b[39;49m\u001b[38;5;241;43m*\u001b[39;49m\u001b[43mkwargs\u001b[49m\u001b[43m)\u001b[49m\n\u001b[1;32m   1076\u001b[0m     new \u001b[38;5;241m=\u001b[39m \u001b[38;5;28mself\u001b[39m\u001b[38;5;241m.\u001b[39m_from_temp_dataset(ds)\n\u001b[1;32m   1077\u001b[0m     \u001b[38;5;28mself\u001b[39m\u001b[38;5;241m.\u001b[39m_variable \u001b[38;5;241m=\u001b[39m new\u001b[38;5;241m.\u001b[39m_variable\n",
      "File \u001b[0;32m/env/lib/python3.10/site-packages/xarray/core/dataset.py:747\u001b[0m, in \u001b[0;36mDataset.load\u001b[0;34m(self, **kwargs)\u001b[0m\n\u001b[1;32m    744\u001b[0m \u001b[38;5;28;01mimport\u001b[39;00m \u001b[38;5;21;01mdask\u001b[39;00m\u001b[38;5;21;01m.\u001b[39;00m\u001b[38;5;21;01marray\u001b[39;00m \u001b[38;5;28;01mas\u001b[39;00m \u001b[38;5;21;01mda\u001b[39;00m\n\u001b[1;32m    746\u001b[0m \u001b[38;5;66;03m# evaluate all the dask arrays simultaneously\u001b[39;00m\n\u001b[0;32m--> 747\u001b[0m evaluated_data \u001b[38;5;241m=\u001b[39m \u001b[43mda\u001b[49m\u001b[38;5;241;43m.\u001b[39;49m\u001b[43mcompute\u001b[49m\u001b[43m(\u001b[49m\u001b[38;5;241;43m*\u001b[39;49m\u001b[43mlazy_data\u001b[49m\u001b[38;5;241;43m.\u001b[39;49m\u001b[43mvalues\u001b[49m\u001b[43m(\u001b[49m\u001b[43m)\u001b[49m\u001b[43m,\u001b[49m\u001b[43m \u001b[49m\u001b[38;5;241;43m*\u001b[39;49m\u001b[38;5;241;43m*\u001b[39;49m\u001b[43mkwargs\u001b[49m\u001b[43m)\u001b[49m\n\u001b[1;32m    749\u001b[0m \u001b[38;5;28;01mfor\u001b[39;00m k, data \u001b[38;5;129;01min\u001b[39;00m \u001b[38;5;28mzip\u001b[39m(lazy_data, evaluated_data):\n\u001b[1;32m    750\u001b[0m     \u001b[38;5;28mself\u001b[39m\u001b[38;5;241m.\u001b[39mvariables[k]\u001b[38;5;241m.\u001b[39mdata \u001b[38;5;241m=\u001b[39m data\n",
      "File \u001b[0;32m/env/lib/python3.10/site-packages/dask/base.py:600\u001b[0m, in \u001b[0;36mcompute\u001b[0;34m(traverse, optimize_graph, scheduler, get, *args, **kwargs)\u001b[0m\n\u001b[1;32m    597\u001b[0m     keys\u001b[38;5;241m.\u001b[39mappend(x\u001b[38;5;241m.\u001b[39m__dask_keys__())\n\u001b[1;32m    598\u001b[0m     postcomputes\u001b[38;5;241m.\u001b[39mappend(x\u001b[38;5;241m.\u001b[39m__dask_postcompute__())\n\u001b[0;32m--> 600\u001b[0m results \u001b[38;5;241m=\u001b[39m \u001b[43mschedule\u001b[49m\u001b[43m(\u001b[49m\u001b[43mdsk\u001b[49m\u001b[43m,\u001b[49m\u001b[43m \u001b[49m\u001b[43mkeys\u001b[49m\u001b[43m,\u001b[49m\u001b[43m \u001b[49m\u001b[38;5;241;43m*\u001b[39;49m\u001b[38;5;241;43m*\u001b[39;49m\u001b[43mkwargs\u001b[49m\u001b[43m)\u001b[49m\n\u001b[1;32m    601\u001b[0m \u001b[38;5;28;01mreturn\u001b[39;00m repack([f(r, \u001b[38;5;241m*\u001b[39ma) \u001b[38;5;28;01mfor\u001b[39;00m r, (f, a) \u001b[38;5;129;01min\u001b[39;00m \u001b[38;5;28mzip\u001b[39m(results, postcomputes)])\n",
      "File \u001b[0;32m/env/lib/python3.10/site-packages/distributed/client.py:3122\u001b[0m, in \u001b[0;36mClient.get\u001b[0;34m(self, dsk, keys, workers, allow_other_workers, resources, sync, asynchronous, direct, retries, priority, fifo_timeout, actors, **kwargs)\u001b[0m\n\u001b[1;32m   3120\u001b[0m         should_rejoin \u001b[38;5;241m=\u001b[39m \u001b[38;5;28;01mFalse\u001b[39;00m\n\u001b[1;32m   3121\u001b[0m \u001b[38;5;28;01mtry\u001b[39;00m:\n\u001b[0;32m-> 3122\u001b[0m     results \u001b[38;5;241m=\u001b[39m \u001b[38;5;28;43mself\u001b[39;49m\u001b[38;5;241;43m.\u001b[39;49m\u001b[43mgather\u001b[49m\u001b[43m(\u001b[49m\u001b[43mpacked\u001b[49m\u001b[43m,\u001b[49m\u001b[43m \u001b[49m\u001b[43masynchronous\u001b[49m\u001b[38;5;241;43m=\u001b[39;49m\u001b[43masynchronous\u001b[49m\u001b[43m,\u001b[49m\u001b[43m \u001b[49m\u001b[43mdirect\u001b[49m\u001b[38;5;241;43m=\u001b[39;49m\u001b[43mdirect\u001b[49m\u001b[43m)\u001b[49m\n\u001b[1;32m   3123\u001b[0m \u001b[38;5;28;01mfinally\u001b[39;00m:\n\u001b[1;32m   3124\u001b[0m     \u001b[38;5;28;01mfor\u001b[39;00m f \u001b[38;5;129;01min\u001b[39;00m futures\u001b[38;5;241m.\u001b[39mvalues():\n",
      "File \u001b[0;32m/env/lib/python3.10/site-packages/distributed/client.py:2291\u001b[0m, in \u001b[0;36mClient.gather\u001b[0;34m(self, futures, errors, direct, asynchronous)\u001b[0m\n\u001b[1;32m   2289\u001b[0m \u001b[38;5;28;01melse\u001b[39;00m:\n\u001b[1;32m   2290\u001b[0m     local_worker \u001b[38;5;241m=\u001b[39m \u001b[38;5;28;01mNone\u001b[39;00m\n\u001b[0;32m-> 2291\u001b[0m \u001b[38;5;28;01mreturn\u001b[39;00m \u001b[38;5;28;43mself\u001b[39;49m\u001b[38;5;241;43m.\u001b[39;49m\u001b[43msync\u001b[49m\u001b[43m(\u001b[49m\n\u001b[1;32m   2292\u001b[0m \u001b[43m    \u001b[49m\u001b[38;5;28;43mself\u001b[39;49m\u001b[38;5;241;43m.\u001b[39;49m\u001b[43m_gather\u001b[49m\u001b[43m,\u001b[49m\n\u001b[1;32m   2293\u001b[0m \u001b[43m    \u001b[49m\u001b[43mfutures\u001b[49m\u001b[43m,\u001b[49m\n\u001b[1;32m   2294\u001b[0m \u001b[43m    \u001b[49m\u001b[43merrors\u001b[49m\u001b[38;5;241;43m=\u001b[39;49m\u001b[43merrors\u001b[49m\u001b[43m,\u001b[49m\n\u001b[1;32m   2295\u001b[0m \u001b[43m    \u001b[49m\u001b[43mdirect\u001b[49m\u001b[38;5;241;43m=\u001b[39;49m\u001b[43mdirect\u001b[49m\u001b[43m,\u001b[49m\n\u001b[1;32m   2296\u001b[0m \u001b[43m    \u001b[49m\u001b[43mlocal_worker\u001b[49m\u001b[38;5;241;43m=\u001b[39;49m\u001b[43mlocal_worker\u001b[49m\u001b[43m,\u001b[49m\n\u001b[1;32m   2297\u001b[0m \u001b[43m    \u001b[49m\u001b[43masynchronous\u001b[49m\u001b[38;5;241;43m=\u001b[39;49m\u001b[43masynchronous\u001b[49m\u001b[43m,\u001b[49m\n\u001b[1;32m   2298\u001b[0m \u001b[43m\u001b[49m\u001b[43m)\u001b[49m\n",
      "File \u001b[0;32m/env/lib/python3.10/site-packages/distributed/utils.py:339\u001b[0m, in \u001b[0;36mSyncMethodMixin.sync\u001b[0;34m(self, func, asynchronous, callback_timeout, *args, **kwargs)\u001b[0m\n\u001b[1;32m    337\u001b[0m     \u001b[38;5;28;01mreturn\u001b[39;00m future\n\u001b[1;32m    338\u001b[0m \u001b[38;5;28;01melse\u001b[39;00m:\n\u001b[0;32m--> 339\u001b[0m     \u001b[38;5;28;01mreturn\u001b[39;00m \u001b[43msync\u001b[49m\u001b[43m(\u001b[49m\n\u001b[1;32m    340\u001b[0m \u001b[43m        \u001b[49m\u001b[38;5;28;43mself\u001b[39;49m\u001b[38;5;241;43m.\u001b[39;49m\u001b[43mloop\u001b[49m\u001b[43m,\u001b[49m\u001b[43m \u001b[49m\u001b[43mfunc\u001b[49m\u001b[43m,\u001b[49m\u001b[43m \u001b[49m\u001b[38;5;241;43m*\u001b[39;49m\u001b[43margs\u001b[49m\u001b[43m,\u001b[49m\u001b[43m \u001b[49m\u001b[43mcallback_timeout\u001b[49m\u001b[38;5;241;43m=\u001b[39;49m\u001b[43mcallback_timeout\u001b[49m\u001b[43m,\u001b[49m\u001b[43m \u001b[49m\u001b[38;5;241;43m*\u001b[39;49m\u001b[38;5;241;43m*\u001b[39;49m\u001b[43mkwargs\u001b[49m\n\u001b[1;32m    341\u001b[0m \u001b[43m    \u001b[49m\u001b[43m)\u001b[49m\n",
      "File \u001b[0;32m/env/lib/python3.10/site-packages/distributed/utils.py:402\u001b[0m, in \u001b[0;36msync\u001b[0;34m(loop, func, callback_timeout, *args, **kwargs)\u001b[0m\n\u001b[1;32m    400\u001b[0m \u001b[38;5;28;01melse\u001b[39;00m:\n\u001b[1;32m    401\u001b[0m     \u001b[38;5;28;01mwhile\u001b[39;00m \u001b[38;5;129;01mnot\u001b[39;00m e\u001b[38;5;241m.\u001b[39mis_set():\n\u001b[0;32m--> 402\u001b[0m         \u001b[43mwait\u001b[49m\u001b[43m(\u001b[49m\u001b[38;5;241;43m10\u001b[39;49m\u001b[43m)\u001b[49m\n\u001b[1;32m    404\u001b[0m \u001b[38;5;28;01mif\u001b[39;00m error:\n\u001b[1;32m    405\u001b[0m     typ, exc, tb \u001b[38;5;241m=\u001b[39m error\n",
      "File \u001b[0;32m/env/lib/python3.10/site-packages/distributed/utils.py:391\u001b[0m, in \u001b[0;36msync.<locals>.wait\u001b[0;34m(timeout)\u001b[0m\n\u001b[1;32m    389\u001b[0m \u001b[38;5;28;01mdef\u001b[39;00m \u001b[38;5;21mwait\u001b[39m(timeout):\n\u001b[1;32m    390\u001b[0m     \u001b[38;5;28;01mtry\u001b[39;00m:\n\u001b[0;32m--> 391\u001b[0m         \u001b[38;5;28;01mreturn\u001b[39;00m \u001b[43me\u001b[49m\u001b[38;5;241;43m.\u001b[39;49m\u001b[43mwait\u001b[49m\u001b[43m(\u001b[49m\u001b[43mtimeout\u001b[49m\u001b[43m)\u001b[49m\n\u001b[1;32m    392\u001b[0m     \u001b[38;5;28;01mexcept\u001b[39;00m \u001b[38;5;167;01mKeyboardInterrupt\u001b[39;00m:\n\u001b[1;32m    393\u001b[0m         loop\u001b[38;5;241m.\u001b[39madd_callback(cancel)\n",
      "File \u001b[0;32m/env/lib/python3.10/threading.py:607\u001b[0m, in \u001b[0;36mEvent.wait\u001b[0;34m(self, timeout)\u001b[0m\n\u001b[1;32m    605\u001b[0m signaled \u001b[38;5;241m=\u001b[39m \u001b[38;5;28mself\u001b[39m\u001b[38;5;241m.\u001b[39m_flag\n\u001b[1;32m    606\u001b[0m \u001b[38;5;28;01mif\u001b[39;00m \u001b[38;5;129;01mnot\u001b[39;00m signaled:\n\u001b[0;32m--> 607\u001b[0m     signaled \u001b[38;5;241m=\u001b[39m \u001b[38;5;28;43mself\u001b[39;49m\u001b[38;5;241;43m.\u001b[39;49m\u001b[43m_cond\u001b[49m\u001b[38;5;241;43m.\u001b[39;49m\u001b[43mwait\u001b[49m\u001b[43m(\u001b[49m\u001b[43mtimeout\u001b[49m\u001b[43m)\u001b[49m\n\u001b[1;32m    608\u001b[0m \u001b[38;5;28;01mreturn\u001b[39;00m signaled\n",
      "File \u001b[0;32m/env/lib/python3.10/threading.py:324\u001b[0m, in \u001b[0;36mCondition.wait\u001b[0;34m(self, timeout)\u001b[0m\n\u001b[1;32m    322\u001b[0m \u001b[38;5;28;01melse\u001b[39;00m:\n\u001b[1;32m    323\u001b[0m     \u001b[38;5;28;01mif\u001b[39;00m timeout \u001b[38;5;241m>\u001b[39m \u001b[38;5;241m0\u001b[39m:\n\u001b[0;32m--> 324\u001b[0m         gotit \u001b[38;5;241m=\u001b[39m \u001b[43mwaiter\u001b[49m\u001b[38;5;241;43m.\u001b[39;49m\u001b[43macquire\u001b[49m\u001b[43m(\u001b[49m\u001b[38;5;28;43;01mTrue\u001b[39;49;00m\u001b[43m,\u001b[49m\u001b[43m \u001b[49m\u001b[43mtimeout\u001b[49m\u001b[43m)\u001b[49m\n\u001b[1;32m    325\u001b[0m     \u001b[38;5;28;01melse\u001b[39;00m:\n\u001b[1;32m    326\u001b[0m         gotit \u001b[38;5;241m=\u001b[39m waiter\u001b[38;5;241m.\u001b[39macquire(\u001b[38;5;28;01mFalse\u001b[39;00m)\n",
      "\u001b[0;31mKeyboardInterrupt\u001b[0m: "
     ]
    }
   ],
   "source": [
    "%reload_ext autoreload\n",
    "\n",
    "#Temp variable call\n",
    "filters=['Spring_high','Spring_low']\n",
    "\n",
    "exposure_filters, tide_cq_dict = exposure(\n",
    "    dem=ds.elevation,\n",
    "    start_date=start_date,\n",
    "    end_date=end_date,\n",
    "    # times=all_times,\n",
    "    modelled_freq = modelled_freq,\n",
    "    tide_model=tide_model,\n",
    "    tide_model_dir=tide_model_dir,\n",
    "    filters=filters,\n",
    "    filters_combined=filters_combined,\n",
    ")\n",
    "\n",
    "for x in list(exposure_filters.keys()):\n",
    "    ds['exposure_'+str(x)]=exposure_filters[str(x)]\n",
    "    # tide_cq_dict['exposure_'+str(x)]=tide_cq_d"
   ]
  },
  {
   "cell_type": "code",
   "execution_count": null,
   "id": "9f13b98f-9321-4ab0-9355-ecf6655a2022",
   "metadata": {
    "tags": []
   },
   "outputs": [],
   "source": [
    "ds"
   ]
  },
  {
   "cell_type": "markdown",
   "id": "a3157252",
   "metadata": {},
   "source": [
    "### Spread and offset\n",
    "Calculate the spread and high/low tide biases of input observed images as a percentage of the modelled tide heights.\n",
    "\n",
    "Warning: this code will only work if the exposure function has been run and produced 'unfiltered' exposure results.\n"
   ]
  },
  {
   "cell_type": "code",
   "execution_count": null,
   "id": "e8c240d4",
   "metadata": {
    "tags": []
   },
   "outputs": [],
   "source": [
    "# ds[\"exposure\"], tide_cq = exposure(\n",
    "#     dem=ds.elevation,\n",
    "#     times=all_timerange,\n",
    "#     tide_model=tide_model,\n",
    "#     tide_model_dir=tide_model_dir,\n",
    "# )"
   ]
  },
  {
   "cell_type": "code",
   "execution_count": null,
   "id": "f7a4cd0a",
   "metadata": {
    "tags": []
   },
   "outputs": [],
   "source": [
    "(\n",
    "    ds[\"ta_lat\"],\n",
    "    ds[\"ta_hat\"],\n",
    "    ds[\"ta_lot\"],\n",
    "    ds[\"ta_hot\"],\n",
    "    ds[\"ta_spread\"],\n",
    "    ds[\"ta_offset_low\"],\n",
    "    ds[\"ta_offset_high\"],\n",
    ") = bias_offset(\n",
    "    tide_m=tide_m, tide_cq=tide_cq_dict['unfiltered'], lot_hot=True, lat_hat=True\n",
    ")"
   ]
  },
  {
   "cell_type": "markdown",
   "id": "01e2aa71",
   "metadata": {},
   "source": [
    "## Plot all layers"
   ]
  },
  {
   "cell_type": "code",
   "execution_count": null,
   "id": "187c867c",
   "metadata": {
    "tags": []
   },
   "outputs": [],
   "source": [
    "# Inspect contents of ds before plotting\n",
    "ds"
   ]
  },
  {
   "cell_type": "code",
   "execution_count": null,
   "id": "f188da27",
   "metadata": {
    "tags": []
   },
   "outputs": [],
   "source": [
    "plt.clf()\n",
    "\n",
    "fig = plt.figure(figsize=(12, 12), tight_layout=True)\n",
    "ax_dict = fig.subplot_mosaic(\n",
    "    \"\"\"\n",
    "    AAAABBBBCCCC\n",
    "    DDDEEEFFFGGG\n",
    "    HHHIIIJJJKKK\n",
    "    \"\"\",\n",
    "    height_ratios=[1, 0.8, 0.8],\n",
    ")\n",
    "\n",
    "# label_params = dict(add_labels=False, yticks=[], xticks=[])\n",
    "\n",
    "# Plot Elevation with hillshade\n",
    "ds[\"elevation\"].plot.imshow(\n",
    "    ax=ax_dict[\"A\"],\n",
    "    cmap=\"viridis\",\n",
    "    interpolation=\"bilinear\",\n",
    ")\n",
    "# intertidal_hillshade(ds[\"elevation\"], ds[\"qa_ndwi_freq\"], vert_exag=300).plot.imshow(\n",
    "#     ax=ax_dict[\"A\"],\n",
    "#     interpolation=\"bilinear\",\n",
    "# )\n",
    "ax_dict[\"A\"].set_title(\"Elevation (metres AMSL)\")\n",
    "\n",
    "# Plot uncertainty\n",
    "ds[\"elevation_uncertainty\"].plot.imshow(\n",
    "    ax=ax_dict[\"B\"],\n",
    "    cmap=\"magma\",\n",
    "    interpolation=\"bilinear\",\n",
    ")\n",
    "ax_dict[\"B\"].set_title(\"Elevation uncertainty (metres)\")\n",
    "ax_dict[\"B\"].set_facecolor(\"#2E2E2E\")\n",
    "\n",
    "# Plot Exposure\n",
    "ds[\"exposure_unfiltered\"].plot.imshow(\n",
    "    ax=ax_dict[\"C\"],\n",
    "    cmap=cmocean.cm.matter_r,\n",
    "    levels=np.arange(0, 100, 1),\n",
    "    add_labels=False,\n",
    "    yticks=[],\n",
    ")\n",
    "ax_dict[\"C\"].set_title(\"Exposure\")\n",
    "\n",
    "# Plot Extents\n",
    "ds[\"extents\"].astype(np.int16).plot.imshow(ax=ax_dict[\"D\"])\n",
    "ax_dict[\"D\"].set_title(\"Extents\")\n",
    "\n",
    "# Plot the observation spread\n",
    "ds[\"ta_spread\"].where(ds.elevation.notnull()).plot.imshow(\n",
    "    ax=ax_dict[\"E\"],\n",
    "    vmin=0,\n",
    "    vmax=100,\n",
    "    cmap=\"magma\",\n",
    "    cbar_kwargs={\"label\": \"% of tidal range observed\"},\n",
    ")\n",
    "ax_dict[\"E\"].set_title(\"Observation Spread (%)\")\n",
    "\n",
    "# Plot the high-tide offset\n",
    "ds[\"ta_offset_high\"].where(ds.elevation.notnull()).plot.imshow(\n",
    "    ax=ax_dict[\"F\"],\n",
    "    vmin=0,\n",
    "    vmax=40,\n",
    "    cmap=\"magma\",\n",
    "    cbar_kwargs={\"label\": \"% of high tide never observed\"},\n",
    ")\n",
    "ax_dict[\"F\"].set_title(\"High-tide offset (%)\")\n",
    "\n",
    "# Plot the low-tide offset\n",
    "ds[\"ta_offset_low\"].where(ds.elevation.notnull()).plot.imshow(\n",
    "    ax=ax_dict[\"G\"],\n",
    "    vmin=0,\n",
    "    vmax=40,\n",
    "    cmap=\"magma\",\n",
    "    cbar_kwargs={\"label\": \"% of low tide never observed\"},\n",
    ")\n",
    "ax_dict[\"G\"].set_title(\"Low-tide offset (%)\")\n",
    "\n",
    "# Plot the LAT\n",
    "ds[\"ta_lat\"].where(ds.elevation.notnull()).plot.imshow(\n",
    "    ax=ax_dict[\"H\"],\n",
    "    vmin=ds[\"ta_lat\"].min(),\n",
    "    vmax=ds[\"ta_hat\"].max(),\n",
    "    add_labels=False,\n",
    ")\n",
    "ax_dict[\"H\"].set_title(\"Lowest Astronomical Tide\")\n",
    "\n",
    "# Plot the LOT\n",
    "ds[\"ta_lot\"].where(ds.elevation.notnull()).plot.imshow(\n",
    "    ax=ax_dict[\"I\"], vmin=ds[\"ta_lat\"].min(), vmax=ds[\"ta_hat\"].max()\n",
    ")\n",
    "ax_dict[\"I\"].set_title(\"Lowest Observed Tide\")\n",
    "\n",
    "# Plot the HAT\n",
    "ds[\"ta_hat\"].where(ds.elevation.notnull()).plot.imshow(\n",
    "    ax=ax_dict[\"J\"],\n",
    "    vmin=ds[\"ta_lat\"].min(),\n",
    "    vmax=ds[\"ta_hat\"].max(),\n",
    "    add_labels=False,\n",
    "    yticks=[],\n",
    ")\n",
    "ax_dict[\"J\"].set_title(\"Highest Astronomical Tide\")\n",
    "\n",
    "# Plot the HOT\n",
    "ds[\"ta_hot\"].where(ds.elevation.notnull()).plot.imshow(\n",
    "    ax=ax_dict[\"K\"],\n",
    "    vmin=ds[\"ta_lat\"].min(),\n",
    "    vmax=ds[\"ta_hat\"].max(),\n",
    ")\n",
    "ax_dict[\"K\"].set_title(\"Highest Observed Tide\")\n",
    "\n",
    "# # Plot the high and low tidelines with respective offset\n",
    "# ax_dict[\"L\"].set_title(\"Lowtide line and lowtide offset\")\n",
    "# # lowtideline.plot(\n",
    "# #     column=\"offset_lowtide\",\n",
    "# #     legend=True,\n",
    "# #     vmin=0,\n",
    "# #     vmax=40,\n",
    "# #     cmap=\"magma\",\n",
    "# #     ax=ax_dict[\"L\"],\n",
    "# #     zorder=2,\n",
    "# # )\n",
    "# # tidelines_gdf.loc[[0], \"geometry\"].plot(ax=ax_dict[\"L\"], zorder=1)\n",
    "# ax_dict[\"L\"].set_xlim(left=ds.elevation.x.min(), right=ds.elevation.x.max())\n",
    "# ax_dict[\"L\"].set_ylim(bottom=ds.elevation.y.min(), top=ds.elevation.y.max())\n",
    "\n",
    "# ax_dict[\"M\"].set_title(\"Hightide line and hightide offset\")\n",
    "# # hightideline.plot(\n",
    "# #     column=\"offset_hightide\",\n",
    "# #     legend=True,\n",
    "# #     vmin=0,\n",
    "# #     vmax=40,\n",
    "# #     cmap=\"magma\",\n",
    "# #     ax=ax_dict[\"M\"],\n",
    "# #     zorder=2,\n",
    "# # )\n",
    "# # tidelines_gdf.loc[[1], \"geometry\"].plot(ax=ax_dict[\"M\"], zorder=1)\n",
    "# ax_dict[\"M\"].set_yticks([])\n",
    "# ax_dict[\"M\"].set_xlim(left=ds.elevation.x.min(), right=ds.elevation.x.max())\n",
    "# ax_dict[\"M\"].set_ylim(bottom=ds.elevation.y.min(), top=ds.elevation.y.max())\n",
    "\n",
    "# Remove axis labels\n",
    "for label, ax in ax_dict.items():\n",
    "    ax.set_yticks([])\n",
    "    ax.set_xticks([])\n",
    "    ax.set_ylabel(\"\")\n",
    "    ax.set_xlabel(\"\")"
   ]
  },
  {
   "cell_type": "markdown",
   "id": "6f63fbdf",
   "metadata": {
    "tags": []
   },
   "source": [
    "## Export layers"
   ]
  },
  {
   "cell_type": "code",
   "execution_count": null,
   "id": "69e246d3",
   "metadata": {},
   "outputs": [],
   "source": [
    "# Create output folder if it doesn't exist\n",
    "output_dir = f\"data/interim/{study_area}/{start_date}-{end_date}\"\n",
    "os.makedirs(output_dir, exist_ok=True)\n",
    "\n",
    "# Prepare data for export\n",
    "ds[\"qa_ndwi_freq\"] *= 100  # Convert frequency to %\n",
    "\n",
    "# Prepare for export by correctly setting nodata and dtypes, then\n",
    "# export to file\n",
    "ds_prepared = prepare_for_export(ds, output_location=output_dir)"
   ]
  },
  {
   "cell_type": "code",
   "execution_count": null,
   "id": "c3399861",
   "metadata": {},
   "outputs": [],
   "source": [
    "# Export figure\n",
    "fig.savefig(f\"data/interim/{study_area}/{start_date}-{end_date}/outputs.png\")"
   ]
  },
  {
   "cell_type": "markdown",
   "id": "ecbb2c87",
   "metadata": {
    "tags": []
   },
   "source": [
    "### Close Dask client"
   ]
  },
  {
   "cell_type": "code",
   "execution_count": null,
   "id": "0c6c7149",
   "metadata": {},
   "outputs": [],
   "source": [
    "client.close()"
   ]
  }
 ],
 "metadata": {
  "kernelspec": {
   "display_name": "Python 3 (ipykernel)",
   "language": "python",
   "name": "python3"
  },
  "language_info": {
   "codemirror_mode": {
    "name": "ipython",
    "version": 3
   },
   "file_extension": ".py",
   "mimetype": "text/x-python",
   "name": "python",
   "nbconvert_exporter": "python",
   "pygments_lexer": "ipython3",
   "version": "3.10.13"
  },
  "widgets": {
   "application/vnd.jupyter.widget-state+json": {
    "state": {
     "016c6a989e8547f882761ac79a0f56f9": {
      "model_module": "@jupyter-widgets/controls",
      "model_module_version": "2.0.0",
      "model_name": "HTMLStyleModel",
      "state": {
       "description_width": "",
       "font_size": null,
       "text_color": null
      }
     },
     "06c9b2aa33b34c369196f0a5d30d43bd": {
      "model_module": "jupyter-leaflet",
      "model_module_version": "^0.17",
      "model_name": "LeafletAttributionControlModel",
      "state": {
       "_model_module_version": "^0.17",
       "_view_module_version": "^0.17",
       "options": [
        "position",
        "prefix"
       ],
       "position": "bottomright",
       "prefix": "ipyleaflet"
      }
     },
     "140b13c3f2e54a918c185ef53c801797": {
      "model_module": "@jupyter-widgets/controls",
      "model_module_version": "2.0.0",
      "model_name": "HTMLModel",
      "state": {
       "layout": "IPY_MODEL_53b9390f8b4d443aae45db9b150ddbb2",
       "style": "IPY_MODEL_423b67f14cb546a18e9b32078c43b5d9",
       "value": "<pre style=\"color:grey\">lat: [-12.2672, -12.1665]\nlon: [131.8126, 131.9525]</pre>"
      }
     },
     "148beff236474ba1a6f5bd183a448351": {
      "model_module": "jupyter-leaflet",
      "model_module_version": "^0.17",
      "model_name": "LeafletMapStyleModel",
      "state": {
       "_model_module_version": "^0.17"
      }
     },
     "15fb8187df5e48fd84d28fc64acd2b55": {
      "model_module": "jupyter-leaflet",
      "model_module_version": "^0.17",
      "model_name": "LeafletTileLayerModel",
      "state": {
       "_model_module_version": "^0.17",
       "_view_module_version": "^0.17",
       "attribution": "Tiles &copy; Esri &mdash; Source: Esri, i-cubed, USDA, USGS, AEX, GeoEye, Getmapping, Aerogrid, IGN, IGP, UPR-EGP, and the GIS User Community",
       "min_zoom": 1,
       "name": "Esri.WorldImagery",
       "options": [
        "attribution",
        "bounds",
        "detect_retina",
        "max_native_zoom",
        "max_zoom",
        "min_native_zoom",
        "min_zoom",
        "no_wrap",
        "tile_size",
        "tms",
        "zoom_offset"
       ],
       "url": "https://server.arcgisonline.com/ArcGIS/rest/services/World_Imagery/MapServer/tile/{z}/{y}/{x}"
      }
     },
     "18bfbcc0853941f186acb734b5b96ccb": {
      "model_module": "@jupyter-widgets/base",
      "model_module_version": "2.0.0",
      "model_name": "LayoutModel",
      "state": {}
     },
     "1e0b20db4cce43eb82e5106b752fe2ad": {
      "model_module": "jupyter-leaflet",
      "model_module_version": "^0.17",
      "model_name": "LeafletZoomControlModel",
      "state": {
       "_model_module_version": "^0.17",
       "_view_module_version": "^0.17",
       "options": [
        "position",
        "zoom_in_text",
        "zoom_in_title",
        "zoom_out_text",
        "zoom_out_title"
       ]
      }
     },
     "3ed7e6a707d94036a4f75bf26777e659": {
      "model_module": "@jupyter-widgets/controls",
      "model_module_version": "2.0.0",
      "model_name": "FloatProgressModel",
      "state": {
       "bar_style": "success",
       "layout": "IPY_MODEL_18bfbcc0853941f186acb734b5b96ccb",
       "max": 105,
       "style": "IPY_MODEL_d6e921c8b9af48bda49c1b0128936b2c",
       "value": 105
      }
     },
     "423b67f14cb546a18e9b32078c43b5d9": {
      "model_module": "@jupyter-widgets/controls",
      "model_module_version": "2.0.0",
      "model_name": "HTMLStyleModel",
      "state": {
       "description_width": "",
       "font_size": null,
       "text_color": null
      }
     },
     "4e1dee2bc1a84155b940f72304f5f221": {
      "model_module": "@jupyter-widgets/controls",
      "model_module_version": "2.0.0",
      "model_name": "HBoxModel",
      "state": {
       "children": [
        "IPY_MODEL_e03d207f1d6144e0ac150085cfa49471",
        "IPY_MODEL_3ed7e6a707d94036a4f75bf26777e659",
        "IPY_MODEL_f6e8f833410a46f29a8272995517e4f7"
       ],
       "layout": "IPY_MODEL_4e56c85c3eb5497f8f15cfcfcd8c9c44"
      }
     },
     "4e56c85c3eb5497f8f15cfcfcd8c9c44": {
      "model_module": "@jupyter-widgets/base",
      "model_module_version": "2.0.0",
      "model_name": "LayoutModel",
      "state": {}
     },
     "53b9390f8b4d443aae45db9b150ddbb2": {
      "model_module": "@jupyter-widgets/base",
      "model_module_version": "2.0.0",
      "model_name": "LayoutModel",
      "state": {
       "flex": "1 0 20em",
       "height": "3em",
       "width": "20em"
      }
     },
     "5704d9ce54ad45a39b382eb86aac763a": {
      "model_module": "jupyter-leaflet",
      "model_module_version": "^0.17",
      "model_name": "LeafletMapStyleModel",
      "state": {
       "_model_module_version": "^0.17",
       "cursor": "move"
      }
     },
     "586b01dfeac44354ae9d537b7f69797b": {
      "model_module": "jupyter-leaflet",
      "model_module_version": "^0.17",
      "model_name": "LeafletDrawControlModel",
      "state": {
       "_model_module_version": "^0.17",
       "_view_module_version": "^0.17",
       "data": [
        {
         "geometry": {
          "coordinates": [
           [
            [
             131.873531,
             -12.22041
            ],
            [
             131.873531,
             -12.200109
            ],
            [
             131.897221,
             -12.200109
            ],
            [
             131.897221,
             -12.22041
            ],
            [
             131.873531,
             -12.22041
            ]
           ]
          ],
          "type": "Polygon"
         },
         "properties": {
          "style": {
           "attribution": null,
           "bubblingMouseEvents": true,
           "clickable": true,
           "color": "#000000",
           "dashArray": null,
           "dashOffset": null,
           "fill": true,
           "fillColor": "#fca45d",
           "fillOpacity": 0.1,
           "fillRule": "evenodd",
           "interactive": true,
           "lineCap": "round",
           "lineJoin": "round",
           "noClip": false,
           "opacity": 0.5,
           "pane": "overlayPane",
           "smoothFactor": 1,
           "stroke": true,
           "weight": 4
          }
         },
         "type": "Feature"
        },
        {
         "geometry": {
          "coordinates": [
           [
            [
             131.873016,
             -12.221417
            ],
            [
             131.873016,
             -12.195915
            ],
            [
             131.898937,
             -12.195915
            ],
            [
             131.898937,
             -12.221417
            ],
            [
             131.873016,
             -12.221417
            ]
           ]
          ],
          "type": "Polygon"
         },
         "properties": {
          "style": {
           "clickable": true,
           "color": "#000000",
           "fill": true,
           "fillColor": "#fca45d",
           "fillOpacity": 0.1,
           "opacity": 0.5,
           "stroke": true,
           "weight": 4
          }
         },
         "type": "Feature"
        }
       ],
       "options": [
        "position"
       ],
       "polygon": {
        "shapeOptions": {
         "clickable": true,
         "color": "#000000",
         "editing": {
          "color": "#000000",
          "fillColor": "#fca45d",
          "fillOpacity": 0.1
         },
         "fill": true,
         "fillColor": "#fca45d",
         "fillOpacity": 0.1,
         "opacity": 0.5,
         "original": {
          "color": "#000000",
          "fillColor": "#fca45d",
          "fillOpacity": 0.1
         },
         "stroke": true,
         "weight": 4
        }
       },
       "polyline": {},
       "rectangle": {
        "metric": [
         "km",
         "m"
        ],
        "shapeOptions": {
         "clickable": true,
         "color": "#000000",
         "fill": true,
         "fillColor": "#fca45d",
         "fillOpacity": 0.1,
         "opacity": 0.5,
         "stroke": true,
         "weight": 4
        }
       }
      }
     },
     "5bbc48bf47694d8a80ba1c491fc77ed1": {
      "model_module": "jupyter-leaflet",
      "model_module_version": "^0.17",
      "model_name": "LeafletWidgetControlModel",
      "state": {
       "_model_module": "jupyter-leaflet",
       "_model_module_version": "^0.17",
       "_view_count": null,
       "_view_module": "jupyter-leaflet",
       "_view_module_version": "^0.17",
       "options": [
        "position",
        "transparent_bg"
       ],
       "position": "topright",
       "widget": "IPY_MODEL_e2e669b196d04316ae995fda9c220db2"
      }
     },
     "5d442c16e66644b3a047e841b63a1052": {
      "model_module": "@jupyter-widgets/base",
      "model_module_version": "2.0.0",
      "model_name": "LayoutModel",
      "state": {
       "height": "600px"
      }
     },
     "7909a969d0f4429786b92e3276f277c0": {
      "model_module": "jupyter-leaflet",
      "model_module_version": "^0.17",
      "model_name": "LeafletFullScreenControlModel",
      "state": {
       "_model_module_version": "^0.17",
       "_view_module_version": "^0.17",
       "options": [
        "position"
       ]
      }
     },
     "8136fa8fe564463d8bdeebb27e2c7be2": {
      "model_module": "@jupyter-widgets/base",
      "model_module_version": "2.0.0",
      "model_name": "LayoutModel",
      "state": {}
     },
     "83b2998caed04522940892771c49a1b4": {
      "model_module": "jupyter-leaflet",
      "model_module_version": "^0.17",
      "model_name": "LeafletMapStyleModel",
      "state": {
       "_model_module_version": "^0.17"
      }
     },
     "89532a92d00d44c3b546060c2da9ff59": {
      "model_module": "jupyter-leaflet",
      "model_module_version": "^0.17",
      "model_name": "LeafletWidgetControlModel",
      "state": {
       "_model_module": "jupyter-leaflet",
       "_model_module_version": "^0.17",
       "_view_count": null,
       "_view_module": "jupyter-leaflet",
       "_view_module_version": "^0.17",
       "options": [
        "position",
        "transparent_bg"
       ],
       "position": "bottomleft",
       "widget": "IPY_MODEL_140b13c3f2e54a918c185ef53c801797"
      }
     },
     "99cc8ba7e00f4f8b8cd8b79480a9c5d1": {
      "model_module": "@jupyter-widgets/controls",
      "model_module_version": "2.0.0",
      "model_name": "ButtonStyleModel",
      "state": {
       "button_color": "green",
       "font_family": null,
       "font_size": null,
       "font_style": null,
       "font_variant": null,
       "font_weight": null,
       "text_color": null,
       "text_decoration": null
      }
     },
     "9c3ed92cd34047db88bde52975ed9a9c": {
      "model_module": "@jupyter-widgets/controls",
      "model_module_version": "2.0.0",
      "model_name": "HTMLStyleModel",
      "state": {
       "description_width": "",
       "font_size": null,
       "text_color": null
      }
     },
     "a6a2123e3d1744019d2d60f2e44d1b2f": {
      "model_module": "@jupyter-widgets/base",
      "model_module_version": "2.0.0",
      "model_name": "LayoutModel",
      "state": {
       "width": "5em"
      }
     },
     "bf473c4ecfa74d7bb069f85ee664ab55": {
      "model_module": "@jupyter-widgets/base",
      "model_module_version": "2.0.0",
      "model_name": "LayoutModel",
      "state": {}
     },
     "d6e921c8b9af48bda49c1b0128936b2c": {
      "model_module": "@jupyter-widgets/controls",
      "model_module_version": "2.0.0",
      "model_name": "ProgressStyleModel",
      "state": {
       "description_width": ""
      }
     },
     "e03d207f1d6144e0ac150085cfa49471": {
      "model_module": "@jupyter-widgets/controls",
      "model_module_version": "2.0.0",
      "model_name": "HTMLModel",
      "state": {
       "layout": "IPY_MODEL_bf473c4ecfa74d7bb069f85ee664ab55",
       "style": "IPY_MODEL_9c3ed92cd34047db88bde52975ed9a9c",
       "value": "100%"
      }
     },
     "e2e669b196d04316ae995fda9c220db2": {
      "model_module": "@jupyter-widgets/controls",
      "model_module_version": "2.0.0",
      "model_name": "ButtonModel",
      "state": {
       "description": "done",
       "disabled": true,
       "layout": "IPY_MODEL_a6a2123e3d1744019d2d60f2e44d1b2f",
       "style": "IPY_MODEL_99cc8ba7e00f4f8b8cd8b79480a9c5d1",
       "tooltip": null
      }
     },
     "f663fef0a7844d2abbfc4521ec5c8063": {
      "model_module": "jupyter-leaflet",
      "model_module_version": "^0.17",
      "model_name": "LeafletMapModel",
      "state": {
       "_model_module_version": "^0.17",
       "_view_module_version": "^0.17",
       "bottom": 1120590,
       "center": [
        -12.216892428638982,
        131.8825435638428
       ],
       "controls": [
        "IPY_MODEL_1e0b20db4cce43eb82e5106b752fe2ad",
        "IPY_MODEL_06c9b2aa33b34c369196f0a5d30d43bd",
        "IPY_MODEL_7909a969d0f4429786b92e3276f277c0"
       ],
       "default_style": "IPY_MODEL_148beff236474ba1a6f5bd183a448351",
       "dragging_style": "IPY_MODEL_5704d9ce54ad45a39b382eb86aac763a",
       "east": 131.9524955749512,
       "fullscreen": false,
       "interpolation": "bilinear",
       "layers": [
        "IPY_MODEL_15fb8187df5e48fd84d28fc64acd2b55"
       ],
       "layout": "IPY_MODEL_5d442c16e66644b3a047e841b63a1052",
       "left": 1816440,
       "modisdate": "2024-03-07",
       "north": -12.166547625590848,
       "options": [
        "bounce_at_zoom_limits",
        "box_zoom",
        "center",
        "close_popup_on_click",
        "double_click_zoom",
        "dragging",
        "fullscreen",
        "inertia",
        "inertia_deceleration",
        "inertia_max_speed",
        "interpolation",
        "keyboard",
        "keyboard_pan_offset",
        "keyboard_zoom_offset",
        "max_zoom",
        "min_zoom",
        "prefer_canvas",
        "scroll_wheel_zoom",
        "tap",
        "tap_tolerance",
        "touch_zoom",
        "world_copy_jump",
        "zoom",
        "zoom_animation_threshold",
        "zoom_delta",
        "zoom_snap"
       ],
       "prefer_canvas": false,
       "right": 1817255,
       "scroll_wheel_zoom": true,
       "south": -12.267211929655348,
       "style": "IPY_MODEL_5704d9ce54ad45a39b382eb86aac763a",
       "top": 1119990,
       "west": 131.8125915527344,
       "window_url": "https://app.sandbox.dea.ga.gov.au/user/robbi.bishoptaylor@ga.gov.au/lab/tree/Robbi/dea-intertidal/notebooks/Intertidal_workflow.ipynb",
       "zoom": 13
      }
     },
     "f6e8f833410a46f29a8272995517e4f7": {
      "model_module": "@jupyter-widgets/controls",
      "model_module_version": "2.0.0",
      "model_name": "HTMLModel",
      "state": {
       "layout": "IPY_MODEL_8136fa8fe564463d8bdeebb27e2c7be2",
       "style": "IPY_MODEL_016c6a989e8547f882761ac79a0f56f9",
       "value": " 105/105 [00:24&lt;00:00,  4.41it/s]"
      }
     }
    },
    "version_major": 2,
    "version_minor": 0
   }
  }
 },
 "nbformat": 4,
 "nbformat_minor": 5
}

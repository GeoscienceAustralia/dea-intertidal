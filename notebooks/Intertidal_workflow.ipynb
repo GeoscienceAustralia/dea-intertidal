{
 "cells": [
  {
   "cell_type": "markdown",
   "id": "a1eed1f8",
   "metadata": {
    "tags": []
   },
   "source": [
    "# Digital Earth Australia Intertidal workflow\n",
    "\n",
    "## Getting started\n",
    "Set working directory to top level of repo to ensure links work correctly:"
   ]
  },
  {
   "cell_type": "code",
   "execution_count": 8,
   "id": "7f782832",
   "metadata": {
    "tags": []
   },
   "outputs": [
    {
     "name": "stdout",
     "output_type": "stream",
     "text": [
      "/home/jovyan/dea_intertidal/dea-intertidal\n"
     ]
    }
   ],
   "source": [
    "cd .."
   ]
  },
  {
   "cell_type": "markdown",
   "id": "cdb87709",
   "metadata": {},
   "source": [
    "Install additional packages directly from the requirements file"
   ]
  },
  {
   "cell_type": "code",
   "execution_count": 9,
   "id": "adce236f",
   "metadata": {
    "tags": []
   },
   "outputs": [
    {
     "name": "stdout",
     "output_type": "stream",
     "text": [
      "Note: you may need to restart the kernel to use updated packages.\n"
     ]
    }
   ],
   "source": [
    "pip install -r requirements.in --quiet"
   ]
  },
  {
   "cell_type": "markdown",
   "id": "fb6f5bac",
   "metadata": {},
   "source": [
    "### Load packages"
   ]
  },
  {
   "cell_type": "code",
   "execution_count": 11,
   "id": "a723fcdc",
   "metadata": {
    "tags": []
   },
   "outputs": [
    {
     "name": "stdout",
     "output_type": "stream",
     "text": [
      "The autoreload extension is already loaded. To reload it, use:\n",
      "  %reload_ext autoreload\n"
     ]
    }
   ],
   "source": [
    "%load_ext autoreload\n",
    "%autoreload 2\n",
    "\n",
    "import os\n",
    "import pandas as pd\n",
    "import numpy as np\n",
    "import xarray as xr\n",
    "import matplotlib.pyplot as plt\n",
    "import geopandas as gpd\n",
    "from ipyleaflet import basemaps, basemap_to_tiles\n",
    "\n",
    "import datacube\n",
    "import odc.geo.xr\n",
    "from odc.geo.geom import Geometry\n",
    "from odc.ui import select_on_a_map\n",
    "import cmocean\n",
    "\n",
    "from intertidal.utils import (\n",
    "    round_date_strings,\n",
    "    intertidal_hillshade,\n",
    ")\n",
    "from intertidal.tide_modelling import pixel_tides_ensemble\n",
    "from intertidal.io import (\n",
    "    load_data,\n",
    "    load_topobathy_mask,\n",
    "    load_aclum_mask,\n",
    "    prepare_for_export,\n",
    ")\n",
    "from intertidal.elevation import elevation\n",
    "from intertidal.extents import extents\n",
    "from intertidal.exposure import exposure\n",
    "from intertidal.tidal_bias_offset import bias_offset\n",
    "\n",
    "from dea_tools.dask import create_local_dask_cluster"
   ]
  },
  {
   "cell_type": "markdown",
   "id": "55347d87",
   "metadata": {
    "tags": []
   },
   "source": [
    "## Setup\n"
   ]
  },
  {
   "cell_type": "markdown",
   "id": "c3043ff7",
   "metadata": {
    "tags": []
   },
   "source": [
    "### Set analysis parameters"
   ]
  },
  {
   "cell_type": "code",
   "execution_count": 12,
   "id": "1aa6c76d",
   "metadata": {
    "tags": []
   },
   "outputs": [],
   "source": [
    "# Intertidal Elevation variables\n",
    "start_date = \"2020\"  # Start date for analysis\n",
    "end_date = \"2022\"  # End date for analysis\n",
    "resolution = 30  # Spatial resolution used for output files\n",
    "crs = \"EPSG:3577\"  # Coordinate Reference System (CRS) to use for output files\n",
    "ndwi_thresh = 0.1  # Threshold used to identify dry/wet transition\n",
    "include_s2 = True  # Include Sentinel-2 data in the analysis?\n",
    "include_ls = True  # Include Landsat data in the analysis?\n",
    "filter_gqa = True  # Filter to remove poorly georeferenced scenes?\n",
    "tide_model = \"ensemble\"  # Tide model to use in analysis\n",
    "tide_model_dir = \"/gdata1/data/tide_models_clipped\"\n",
    "\n",
    "# Exposure variables\n",
    "modelled_freq = \"3h\"  # Frequency to run tidal model e.g '30min' or '1h'\n",
    "filters=None#['dry','Neap_low'] # Exposure filters.\n",
    "filters_combined = None#[('winter','Lowtide')] ## Must be a list of tuples containing one temporal and spatial filter each, else None"
   ]
  },
  {
   "cell_type": "markdown",
   "id": "a7321065",
   "metadata": {},
   "source": [
    "##### Option 1: load study area from 32 km tile GridSpec"
   ]
  },
  {
   "cell_type": "code",
   "execution_count": 13,
   "id": "4caa3bd3",
   "metadata": {
    "tags": []
   },
   "outputs": [],
   "source": [
    "# # Set study area (e.g. tile ID in form \"x094y145\")\n",
    "# study_area = \"x094y145\"\n",
    "# geom = None  # Use GridSpec to load study area, not a custom geom"
   ]
  },
  {
   "cell_type": "markdown",
   "id": "5d7ccd92",
   "metadata": {
    "tags": []
   },
   "source": [
    "##### Option 2: load study area from vector file"
   ]
  },
  {
   "cell_type": "code",
   "execution_count": 14,
   "id": "49b4231b",
   "metadata": {
    "tags": []
   },
   "outputs": [],
   "source": [
    "# # Set study area to load from file\n",
    "# study_area = \"pointstuart\"\n",
    "\n",
    "# # Read file, select study area and convert to geom\n",
    "# studyarea_gdf = gpd.read_file(\n",
    "#     \"data/raw/intertidal_development_polygons.geojson\"\n",
    "# ).set_index(\"id\")\n",
    "# geom = Geometry(studyarea_gdf.loc[study_area].geometry, crs=studyarea_gdf.crs)\n",
    "# geom"
   ]
  },
  {
   "cell_type": "markdown",
   "id": "0a484060",
   "metadata": {},
   "source": [
    "##### Option 3: load study area using interactive map"
   ]
  },
  {
   "cell_type": "code",
   "execution_count": 15,
   "id": "79d8aba4",
   "metadata": {
    "tags": []
   },
   "outputs": [
    {
     "data": {
      "application/vnd.jupyter.widget-view+json": {
       "model_id": "46b6e34554e04f8a9c2a7136799dcdfd",
       "version_major": 2,
       "version_minor": 0
      },
      "text/plain": [
       "Map(center=[-26, 135], controls=(ZoomControl(options=['position', 'zoom_in_text', 'zoom_in_title', 'zoom_out_t…"
      ]
     },
     "metadata": {},
     "output_type": "display_data"
    },
    {
     "data": {
      "image/svg+xml": [
       "<svg xmlns=\"http://www.w3.org/2000/svg\" xmlns:xlink=\"http://www.w3.org/1999/xlink\" width=\"100.0\" height=\"100.0\" viewBox=\"144.61518992 -14.36632708 0.04152815999998438 0.028604159999998657\" preserveAspectRatio=\"xMinYMin meet\"><g transform=\"matrix(1,0,0,-1,0,-28.704050000000002)\"><path fill-rule=\"evenodd\" fill=\"#66cc99\" stroke=\"#555555\" stroke-width=\"0.0008305631999996877\" opacity=\"0.6\" d=\"M 144.616728,-14.364789 L 144.616728,-14.339261 L 144.65518,-14.339261 L 144.65518,-14.364789 L 144.616728,-14.364789 z\" /></g></svg>"
      ],
      "text/plain": [
       "Geometry(POLYGON ((144.616728 -14.364789, 144.616728 -14.339261, 144.65518 -14.339261, 144.65518 -14.364789, 144.616728 -14.364789)), EPSG:4326)"
      ]
     },
     "execution_count": 15,
     "metadata": {},
     "output_type": "execute_result"
    }
   ],
   "source": [
    "# Set study area name for outputs\n",
    "study_area = \"testing\"\n",
    "\n",
    "# Plot interactive map to select area\n",
    "basemap = basemap_to_tiles(basemaps.Esri.WorldImagery)\n",
    "geom = select_on_a_map(height=\"600px\", layers=(basemap,), center=(-26, 135), zoom=4)\n",
    "geom"
   ]
  },
  {
   "cell_type": "markdown",
   "id": "41a23d82",
   "metadata": {},
   "source": [
    "## Intertidal workflow\n",
    "\n",
    "### Load data"
   ]
  },
  {
   "cell_type": "code",
   "execution_count": null,
   "id": "5906b017-38af-4e43-9e54-d6e49525ef3f",
   "metadata": {
    "tags": []
   },
   "outputs": [],
   "source": [
    "# %store ds"
   ]
  },
  {
   "cell_type": "code",
   "execution_count": 16,
   "id": "611834aa",
   "metadata": {
    "tags": []
   },
   "outputs": [
    {
     "data": {
      "text/html": [
       "<div>\n",
       "    <div style=\"width: 24px; height: 24px; background-color: #e1e1e1; border: 3px solid #9D9D9D; border-radius: 5px; position: absolute;\"> </div>\n",
       "    <div style=\"margin-left: 48px;\">\n",
       "        <h3 style=\"margin-bottom: 0px;\">Client</h3>\n",
       "        <p style=\"color: #9D9D9D; margin-bottom: 0px;\">Client-106fc4a7-0c1b-11ef-8104-4e34626f213c</p>\n",
       "        <table style=\"width: 100%; text-align: left;\">\n",
       "\n",
       "        <tr>\n",
       "        \n",
       "            <td style=\"text-align: left;\"><strong>Connection method:</strong> Cluster object</td>\n",
       "            <td style=\"text-align: left;\"><strong>Cluster type:</strong> distributed.LocalCluster</td>\n",
       "        \n",
       "        </tr>\n",
       "\n",
       "        \n",
       "            <tr>\n",
       "                <td style=\"text-align: left;\">\n",
       "                    <strong>Dashboard: </strong> <a href=\"/user/claire.phillips@ga.gov.au/proxy/8787/status\" target=\"_blank\">/user/claire.phillips@ga.gov.au/proxy/8787/status</a>\n",
       "                </td>\n",
       "                <td style=\"text-align: left;\"></td>\n",
       "            </tr>\n",
       "        \n",
       "\n",
       "        </table>\n",
       "\n",
       "        \n",
       "            <button style=\"margin-bottom: 12px;\" data-commandlinker-command=\"dask:populate-and-launch-layout\" data-commandlinker-args='{\"url\": \"/user/claire.phillips@ga.gov.au/proxy/8787/status\" }'>\n",
       "                Launch dashboard in JupyterLab\n",
       "            </button>\n",
       "        \n",
       "\n",
       "        \n",
       "            <details>\n",
       "            <summary style=\"margin-bottom: 20px;\"><h3 style=\"display: inline;\">Cluster Info</h3></summary>\n",
       "            <div class=\"jp-RenderedHTMLCommon jp-RenderedHTML jp-mod-trusted jp-OutputArea-output\">\n",
       "    <div style=\"width: 24px; height: 24px; background-color: #e1e1e1; border: 3px solid #9D9D9D; border-radius: 5px; position: absolute;\">\n",
       "    </div>\n",
       "    <div style=\"margin-left: 48px;\">\n",
       "        <h3 style=\"margin-bottom: 0px; margin-top: 0px;\">LocalCluster</h3>\n",
       "        <p style=\"color: #9D9D9D; margin-bottom: 0px;\">ba60845f</p>\n",
       "        <table style=\"width: 100%; text-align: left;\">\n",
       "            <tr>\n",
       "                <td style=\"text-align: left;\">\n",
       "                    <strong>Dashboard:</strong> <a href=\"/user/claire.phillips@ga.gov.au/proxy/8787/status\" target=\"_blank\">/user/claire.phillips@ga.gov.au/proxy/8787/status</a>\n",
       "                </td>\n",
       "                <td style=\"text-align: left;\">\n",
       "                    <strong>Workers:</strong> 1\n",
       "                </td>\n",
       "            </tr>\n",
       "            <tr>\n",
       "                <td style=\"text-align: left;\">\n",
       "                    <strong>Total threads:</strong> 15\n",
       "                </td>\n",
       "                <td style=\"text-align: left;\">\n",
       "                    <strong>Total memory:</strong> 117.21 GiB\n",
       "                </td>\n",
       "            </tr>\n",
       "            \n",
       "            <tr>\n",
       "    <td style=\"text-align: left;\"><strong>Status:</strong> running</td>\n",
       "    <td style=\"text-align: left;\"><strong>Using processes:</strong> True</td>\n",
       "</tr>\n",
       "\n",
       "            \n",
       "        </table>\n",
       "\n",
       "        <details>\n",
       "            <summary style=\"margin-bottom: 20px;\">\n",
       "                <h3 style=\"display: inline;\">Scheduler Info</h3>\n",
       "            </summary>\n",
       "\n",
       "            <div style=\"\">\n",
       "    <div>\n",
       "        <div style=\"width: 24px; height: 24px; background-color: #FFF7E5; border: 3px solid #FF6132; border-radius: 5px; position: absolute;\"> </div>\n",
       "        <div style=\"margin-left: 48px;\">\n",
       "            <h3 style=\"margin-bottom: 0px;\">Scheduler</h3>\n",
       "            <p style=\"color: #9D9D9D; margin-bottom: 0px;\">Scheduler-48261279-53ce-4fa3-bab2-9f8f963dc1cc</p>\n",
       "            <table style=\"width: 100%; text-align: left;\">\n",
       "                <tr>\n",
       "                    <td style=\"text-align: left;\">\n",
       "                        <strong>Comm:</strong> tcp://127.0.0.1:44119\n",
       "                    </td>\n",
       "                    <td style=\"text-align: left;\">\n",
       "                        <strong>Workers:</strong> 1\n",
       "                    </td>\n",
       "                </tr>\n",
       "                <tr>\n",
       "                    <td style=\"text-align: left;\">\n",
       "                        <strong>Dashboard:</strong> <a href=\"/user/claire.phillips@ga.gov.au/proxy/8787/status\" target=\"_blank\">/user/claire.phillips@ga.gov.au/proxy/8787/status</a>\n",
       "                    </td>\n",
       "                    <td style=\"text-align: left;\">\n",
       "                        <strong>Total threads:</strong> 15\n",
       "                    </td>\n",
       "                </tr>\n",
       "                <tr>\n",
       "                    <td style=\"text-align: left;\">\n",
       "                        <strong>Started:</strong> Just now\n",
       "                    </td>\n",
       "                    <td style=\"text-align: left;\">\n",
       "                        <strong>Total memory:</strong> 117.21 GiB\n",
       "                    </td>\n",
       "                </tr>\n",
       "            </table>\n",
       "        </div>\n",
       "    </div>\n",
       "\n",
       "    <details style=\"margin-left: 48px;\">\n",
       "        <summary style=\"margin-bottom: 20px;\">\n",
       "            <h3 style=\"display: inline;\">Workers</h3>\n",
       "        </summary>\n",
       "\n",
       "        \n",
       "        <div style=\"margin-bottom: 20px;\">\n",
       "            <div style=\"width: 24px; height: 24px; background-color: #DBF5FF; border: 3px solid #4CC9FF; border-radius: 5px; position: absolute;\"> </div>\n",
       "            <div style=\"margin-left: 48px;\">\n",
       "            <details>\n",
       "                <summary>\n",
       "                    <h4 style=\"margin-bottom: 0px; display: inline;\">Worker: 0</h4>\n",
       "                </summary>\n",
       "                <table style=\"width: 100%; text-align: left;\">\n",
       "                    <tr>\n",
       "                        <td style=\"text-align: left;\">\n",
       "                            <strong>Comm: </strong> tcp://127.0.0.1:42797\n",
       "                        </td>\n",
       "                        <td style=\"text-align: left;\">\n",
       "                            <strong>Total threads: </strong> 15\n",
       "                        </td>\n",
       "                    </tr>\n",
       "                    <tr>\n",
       "                        <td style=\"text-align: left;\">\n",
       "                            <strong>Dashboard: </strong> <a href=\"/user/claire.phillips@ga.gov.au/proxy/42613/status\" target=\"_blank\">/user/claire.phillips@ga.gov.au/proxy/42613/status</a>\n",
       "                        </td>\n",
       "                        <td style=\"text-align: left;\">\n",
       "                            <strong>Memory: </strong> 117.21 GiB\n",
       "                        </td>\n",
       "                    </tr>\n",
       "                    <tr>\n",
       "                        <td style=\"text-align: left;\">\n",
       "                            <strong>Nanny: </strong> tcp://127.0.0.1:45765\n",
       "                        </td>\n",
       "                        <td style=\"text-align: left;\"></td>\n",
       "                    </tr>\n",
       "                    <tr>\n",
       "                        <td colspan=\"2\" style=\"text-align: left;\">\n",
       "                            <strong>Local directory: </strong> /tmp/dask-worker-space/worker-dfmqmmwa\n",
       "                        </td>\n",
       "                    </tr>\n",
       "\n",
       "                    \n",
       "\n",
       "                    \n",
       "\n",
       "                </table>\n",
       "            </details>\n",
       "            </div>\n",
       "        </div>\n",
       "        \n",
       "\n",
       "    </details>\n",
       "</div>\n",
       "\n",
       "        </details>\n",
       "    </div>\n",
       "</div>\n",
       "            </details>\n",
       "        \n",
       "\n",
       "    </div>\n",
       "</div>"
      ],
      "text/plain": [
       "<Client: 'tcp://127.0.0.1:44119' processes=1 threads=15, memory=117.21 GiB>"
      ]
     },
     "metadata": {},
     "output_type": "display_data"
    },
    {
     "name": "stdout",
     "output_type": "stream",
     "text": [
      "<xarray.Dataset>\n",
      "Dimensions:      (time: 401, y: 107, x: 149)\n",
      "Coordinates:\n",
      "  * time         (time) datetime64[ns] 2020-01-02T00:28:11.232849 ... 2022-12...\n",
      "  * y            (y) float64 -1.587e+06 -1.587e+06 ... -1.59e+06 -1.59e+06\n",
      "  * x            (x) float64 1.373e+06 1.374e+06 ... 1.378e+06 1.378e+06\n",
      "    spatial_ref  int32 3577\n",
      "Data variables:\n",
      "    ndwi         (time, y, x) float32 dask.array<chunksize=(1, 107, 149), meta=np.ndarray>\n",
      "Attributes:\n",
      "    crs:           EPSG:3577\n",
      "    grid_mapping:  spatial_ref\n"
     ]
    },
    {
     "name": "stderr",
     "output_type": "stream",
     "text": [
      "/env/lib/python3.10/site-packages/datacube/drivers/driver_cache.py:54: DeprecationWarning: pkg_resources is deprecated as an API. See https://setuptools.pypa.io/en/latest/pkg_resources.html\n",
      "  from pkg_resources import iter_entry_points\n",
      "/env/lib/python3.10/site-packages/rasterio/warp.py:344: NotGeoreferencedWarning: Dataset has no geotransform, gcps, or rpcs. The identity matrix will be returned.\n",
      "  _reproject(\n"
     ]
    },
    {
     "name": "stdout",
     "output_type": "stream",
     "text": [
      "CPU times: user 7.69 s, sys: 764 ms, total: 8.46 s\n",
      "Wall time: 56.9 s\n"
     ]
    },
    {
     "data": {
      "text/html": [
       "<div><svg style=\"position: absolute; width: 0; height: 0; overflow: hidden\">\n",
       "<defs>\n",
       "<symbol id=\"icon-database\" viewBox=\"0 0 32 32\">\n",
       "<path d=\"M16 0c-8.837 0-16 2.239-16 5v4c0 2.761 7.163 5 16 5s16-2.239 16-5v-4c0-2.761-7.163-5-16-5z\"></path>\n",
       "<path d=\"M16 17c-8.837 0-16-2.239-16-5v6c0 2.761 7.163 5 16 5s16-2.239 16-5v-6c0 2.761-7.163 5-16 5z\"></path>\n",
       "<path d=\"M16 26c-8.837 0-16-2.239-16-5v6c0 2.761 7.163 5 16 5s16-2.239 16-5v-6c0 2.761-7.163 5-16 5z\"></path>\n",
       "</symbol>\n",
       "<symbol id=\"icon-file-text2\" viewBox=\"0 0 32 32\">\n",
       "<path d=\"M28.681 7.159c-0.694-0.947-1.662-2.053-2.724-3.116s-2.169-2.030-3.116-2.724c-1.612-1.182-2.393-1.319-2.841-1.319h-15.5c-1.378 0-2.5 1.121-2.5 2.5v27c0 1.378 1.122 2.5 2.5 2.5h23c1.378 0 2.5-1.122 2.5-2.5v-19.5c0-0.448-0.137-1.23-1.319-2.841zM24.543 5.457c0.959 0.959 1.712 1.825 2.268 2.543h-4.811v-4.811c0.718 0.556 1.584 1.309 2.543 2.268zM28 29.5c0 0.271-0.229 0.5-0.5 0.5h-23c-0.271 0-0.5-0.229-0.5-0.5v-27c0-0.271 0.229-0.5 0.5-0.5 0 0 15.499-0 15.5 0v7c0 0.552 0.448 1 1 1h7v19.5z\"></path>\n",
       "<path d=\"M23 26h-14c-0.552 0-1-0.448-1-1s0.448-1 1-1h14c0.552 0 1 0.448 1 1s-0.448 1-1 1z\"></path>\n",
       "<path d=\"M23 22h-14c-0.552 0-1-0.448-1-1s0.448-1 1-1h14c0.552 0 1 0.448 1 1s-0.448 1-1 1z\"></path>\n",
       "<path d=\"M23 18h-14c-0.552 0-1-0.448-1-1s0.448-1 1-1h14c0.552 0 1 0.448 1 1s-0.448 1-1 1z\"></path>\n",
       "</symbol>\n",
       "</defs>\n",
       "</svg>\n",
       "<style>/* CSS stylesheet for displaying xarray objects in jupyterlab.\n",
       " *\n",
       " */\n",
       "\n",
       ":root {\n",
       "  --xr-font-color0: var(--jp-content-font-color0, rgba(0, 0, 0, 1));\n",
       "  --xr-font-color2: var(--jp-content-font-color2, rgba(0, 0, 0, 0.54));\n",
       "  --xr-font-color3: var(--jp-content-font-color3, rgba(0, 0, 0, 0.38));\n",
       "  --xr-border-color: var(--jp-border-color2, #e0e0e0);\n",
       "  --xr-disabled-color: var(--jp-layout-color3, #bdbdbd);\n",
       "  --xr-background-color: var(--jp-layout-color0, white);\n",
       "  --xr-background-color-row-even: var(--jp-layout-color1, white);\n",
       "  --xr-background-color-row-odd: var(--jp-layout-color2, #eeeeee);\n",
       "}\n",
       "\n",
       "html[theme=dark],\n",
       "body[data-theme=dark],\n",
       "body.vscode-dark {\n",
       "  --xr-font-color0: rgba(255, 255, 255, 1);\n",
       "  --xr-font-color2: rgba(255, 255, 255, 0.54);\n",
       "  --xr-font-color3: rgba(255, 255, 255, 0.38);\n",
       "  --xr-border-color: #1F1F1F;\n",
       "  --xr-disabled-color: #515151;\n",
       "  --xr-background-color: #111111;\n",
       "  --xr-background-color-row-even: #111111;\n",
       "  --xr-background-color-row-odd: #313131;\n",
       "}\n",
       "\n",
       ".xr-wrap {\n",
       "  display: block !important;\n",
       "  min-width: 300px;\n",
       "  max-width: 700px;\n",
       "}\n",
       "\n",
       ".xr-text-repr-fallback {\n",
       "  /* fallback to plain text repr when CSS is not injected (untrusted notebook) */\n",
       "  display: none;\n",
       "}\n",
       "\n",
       ".xr-header {\n",
       "  padding-top: 6px;\n",
       "  padding-bottom: 6px;\n",
       "  margin-bottom: 4px;\n",
       "  border-bottom: solid 1px var(--xr-border-color);\n",
       "}\n",
       "\n",
       ".xr-header > div,\n",
       ".xr-header > ul {\n",
       "  display: inline;\n",
       "  margin-top: 0;\n",
       "  margin-bottom: 0;\n",
       "}\n",
       "\n",
       ".xr-obj-type,\n",
       ".xr-array-name {\n",
       "  margin-left: 2px;\n",
       "  margin-right: 10px;\n",
       "}\n",
       "\n",
       ".xr-obj-type {\n",
       "  color: var(--xr-font-color2);\n",
       "}\n",
       "\n",
       ".xr-sections {\n",
       "  padding-left: 0 !important;\n",
       "  display: grid;\n",
       "  grid-template-columns: 150px auto auto 1fr 20px 20px;\n",
       "}\n",
       "\n",
       ".xr-section-item {\n",
       "  display: contents;\n",
       "}\n",
       "\n",
       ".xr-section-item input {\n",
       "  display: none;\n",
       "}\n",
       "\n",
       ".xr-section-item input + label {\n",
       "  color: var(--xr-disabled-color);\n",
       "}\n",
       "\n",
       ".xr-section-item input:enabled + label {\n",
       "  cursor: pointer;\n",
       "  color: var(--xr-font-color2);\n",
       "}\n",
       "\n",
       ".xr-section-item input:enabled + label:hover {\n",
       "  color: var(--xr-font-color0);\n",
       "}\n",
       "\n",
       ".xr-section-summary {\n",
       "  grid-column: 1;\n",
       "  color: var(--xr-font-color2);\n",
       "  font-weight: 500;\n",
       "}\n",
       "\n",
       ".xr-section-summary > span {\n",
       "  display: inline-block;\n",
       "  padding-left: 0.5em;\n",
       "}\n",
       "\n",
       ".xr-section-summary-in:disabled + label {\n",
       "  color: var(--xr-font-color2);\n",
       "}\n",
       "\n",
       ".xr-section-summary-in + label:before {\n",
       "  display: inline-block;\n",
       "  content: '►';\n",
       "  font-size: 11px;\n",
       "  width: 15px;\n",
       "  text-align: center;\n",
       "}\n",
       "\n",
       ".xr-section-summary-in:disabled + label:before {\n",
       "  color: var(--xr-disabled-color);\n",
       "}\n",
       "\n",
       ".xr-section-summary-in:checked + label:before {\n",
       "  content: '▼';\n",
       "}\n",
       "\n",
       ".xr-section-summary-in:checked + label > span {\n",
       "  display: none;\n",
       "}\n",
       "\n",
       ".xr-section-summary,\n",
       ".xr-section-inline-details {\n",
       "  padding-top: 4px;\n",
       "  padding-bottom: 4px;\n",
       "}\n",
       "\n",
       ".xr-section-inline-details {\n",
       "  grid-column: 2 / -1;\n",
       "}\n",
       "\n",
       ".xr-section-details {\n",
       "  display: none;\n",
       "  grid-column: 1 / -1;\n",
       "  margin-bottom: 5px;\n",
       "}\n",
       "\n",
       ".xr-section-summary-in:checked ~ .xr-section-details {\n",
       "  display: contents;\n",
       "}\n",
       "\n",
       ".xr-array-wrap {\n",
       "  grid-column: 1 / -1;\n",
       "  display: grid;\n",
       "  grid-template-columns: 20px auto;\n",
       "}\n",
       "\n",
       ".xr-array-wrap > label {\n",
       "  grid-column: 1;\n",
       "  vertical-align: top;\n",
       "}\n",
       "\n",
       ".xr-preview {\n",
       "  color: var(--xr-font-color3);\n",
       "}\n",
       "\n",
       ".xr-array-preview,\n",
       ".xr-array-data {\n",
       "  padding: 0 5px !important;\n",
       "  grid-column: 2;\n",
       "}\n",
       "\n",
       ".xr-array-data,\n",
       ".xr-array-in:checked ~ .xr-array-preview {\n",
       "  display: none;\n",
       "}\n",
       "\n",
       ".xr-array-in:checked ~ .xr-array-data,\n",
       ".xr-array-preview {\n",
       "  display: inline-block;\n",
       "}\n",
       "\n",
       ".xr-dim-list {\n",
       "  display: inline-block !important;\n",
       "  list-style: none;\n",
       "  padding: 0 !important;\n",
       "  margin: 0;\n",
       "}\n",
       "\n",
       ".xr-dim-list li {\n",
       "  display: inline-block;\n",
       "  padding: 0;\n",
       "  margin: 0;\n",
       "}\n",
       "\n",
       ".xr-dim-list:before {\n",
       "  content: '(';\n",
       "}\n",
       "\n",
       ".xr-dim-list:after {\n",
       "  content: ')';\n",
       "}\n",
       "\n",
       ".xr-dim-list li:not(:last-child):after {\n",
       "  content: ',';\n",
       "  padding-right: 5px;\n",
       "}\n",
       "\n",
       ".xr-has-index {\n",
       "  font-weight: bold;\n",
       "}\n",
       "\n",
       ".xr-var-list,\n",
       ".xr-var-item {\n",
       "  display: contents;\n",
       "}\n",
       "\n",
       ".xr-var-item > div,\n",
       ".xr-var-item label,\n",
       ".xr-var-item > .xr-var-name span {\n",
       "  background-color: var(--xr-background-color-row-even);\n",
       "  margin-bottom: 0;\n",
       "}\n",
       "\n",
       ".xr-var-item > .xr-var-name:hover span {\n",
       "  padding-right: 5px;\n",
       "}\n",
       "\n",
       ".xr-var-list > li:nth-child(odd) > div,\n",
       ".xr-var-list > li:nth-child(odd) > label,\n",
       ".xr-var-list > li:nth-child(odd) > .xr-var-name span {\n",
       "  background-color: var(--xr-background-color-row-odd);\n",
       "}\n",
       "\n",
       ".xr-var-name {\n",
       "  grid-column: 1;\n",
       "}\n",
       "\n",
       ".xr-var-dims {\n",
       "  grid-column: 2;\n",
       "}\n",
       "\n",
       ".xr-var-dtype {\n",
       "  grid-column: 3;\n",
       "  text-align: right;\n",
       "  color: var(--xr-font-color2);\n",
       "}\n",
       "\n",
       ".xr-var-preview {\n",
       "  grid-column: 4;\n",
       "}\n",
       "\n",
       ".xr-index-preview {\n",
       "  grid-column: 2 / 5;\n",
       "  color: var(--xr-font-color2);\n",
       "}\n",
       "\n",
       ".xr-var-name,\n",
       ".xr-var-dims,\n",
       ".xr-var-dtype,\n",
       ".xr-preview,\n",
       ".xr-attrs dt {\n",
       "  white-space: nowrap;\n",
       "  overflow: hidden;\n",
       "  text-overflow: ellipsis;\n",
       "  padding-right: 10px;\n",
       "}\n",
       "\n",
       ".xr-var-name:hover,\n",
       ".xr-var-dims:hover,\n",
       ".xr-var-dtype:hover,\n",
       ".xr-attrs dt:hover {\n",
       "  overflow: visible;\n",
       "  width: auto;\n",
       "  z-index: 1;\n",
       "}\n",
       "\n",
       ".xr-var-attrs,\n",
       ".xr-var-data,\n",
       ".xr-index-data {\n",
       "  display: none;\n",
       "  background-color: var(--xr-background-color) !important;\n",
       "  padding-bottom: 5px !important;\n",
       "}\n",
       "\n",
       ".xr-var-attrs-in:checked ~ .xr-var-attrs,\n",
       ".xr-var-data-in:checked ~ .xr-var-data,\n",
       ".xr-index-data-in:checked ~ .xr-index-data {\n",
       "  display: block;\n",
       "}\n",
       "\n",
       ".xr-var-data > table {\n",
       "  float: right;\n",
       "}\n",
       "\n",
       ".xr-var-name span,\n",
       ".xr-var-data,\n",
       ".xr-index-name div,\n",
       ".xr-index-data,\n",
       ".xr-attrs {\n",
       "  padding-left: 25px !important;\n",
       "}\n",
       "\n",
       ".xr-attrs,\n",
       ".xr-var-attrs,\n",
       ".xr-var-data,\n",
       ".xr-index-data {\n",
       "  grid-column: 1 / -1;\n",
       "}\n",
       "\n",
       "dl.xr-attrs {\n",
       "  padding: 0;\n",
       "  margin: 0;\n",
       "  display: grid;\n",
       "  grid-template-columns: 125px auto;\n",
       "}\n",
       "\n",
       ".xr-attrs dt,\n",
       ".xr-attrs dd {\n",
       "  padding: 0;\n",
       "  margin: 0;\n",
       "  float: left;\n",
       "  padding-right: 10px;\n",
       "  width: auto;\n",
       "}\n",
       "\n",
       ".xr-attrs dt {\n",
       "  font-weight: normal;\n",
       "  grid-column: 1;\n",
       "}\n",
       "\n",
       ".xr-attrs dt:hover span {\n",
       "  display: inline-block;\n",
       "  background: var(--xr-background-color);\n",
       "  padding-right: 10px;\n",
       "}\n",
       "\n",
       ".xr-attrs dd {\n",
       "  grid-column: 2;\n",
       "  white-space: pre-wrap;\n",
       "  word-break: break-all;\n",
       "}\n",
       "\n",
       ".xr-icon-database,\n",
       ".xr-icon-file-text2,\n",
       ".xr-no-icon {\n",
       "  display: inline-block;\n",
       "  vertical-align: middle;\n",
       "  width: 1em;\n",
       "  height: 1.5em !important;\n",
       "  stroke-width: 0;\n",
       "  stroke: currentColor;\n",
       "  fill: currentColor;\n",
       "}\n",
       "</style><pre class='xr-text-repr-fallback'>&lt;xarray.Dataset&gt;\n",
       "Dimensions:      (time: 401, y: 107, x: 149)\n",
       "Coordinates:\n",
       "  * time         (time) datetime64[ns] 2020-01-02T00:28:11.232849 ... 2022-12...\n",
       "  * y            (y) float64 -1.587e+06 -1.587e+06 ... -1.59e+06 -1.59e+06\n",
       "  * x            (x) float64 1.373e+06 1.374e+06 ... 1.378e+06 1.378e+06\n",
       "    spatial_ref  int32 3577\n",
       "Data variables:\n",
       "    ndwi         (time, y, x) float32 0.03629 0.03331 0.03235 ... nan nan nan\n",
       "Attributes:\n",
       "    crs:           EPSG:3577\n",
       "    grid_mapping:  spatial_ref</pre><div class='xr-wrap' style='display:none'><div class='xr-header'><div class='xr-obj-type'>xarray.Dataset</div></div><ul class='xr-sections'><li class='xr-section-item'><input id='section-0f957edf-1783-4b2d-841f-fdec55fc7a78' class='xr-section-summary-in' type='checkbox' disabled ><label for='section-0f957edf-1783-4b2d-841f-fdec55fc7a78' class='xr-section-summary'  title='Expand/collapse section'>Dimensions:</label><div class='xr-section-inline-details'><ul class='xr-dim-list'><li><span class='xr-has-index'>time</span>: 401</li><li><span class='xr-has-index'>y</span>: 107</li><li><span class='xr-has-index'>x</span>: 149</li></ul></div><div class='xr-section-details'></div></li><li class='xr-section-item'><input id='section-9f6aac54-afd4-4b67-9bd4-d9b81f7e34b3' class='xr-section-summary-in' type='checkbox'  checked><label for='section-9f6aac54-afd4-4b67-9bd4-d9b81f7e34b3' class='xr-section-summary' >Coordinates: <span>(4)</span></label><div class='xr-section-inline-details'></div><div class='xr-section-details'><ul class='xr-var-list'><li class='xr-var-item'><div class='xr-var-name'><span class='xr-has-index'>time</span></div><div class='xr-var-dims'>(time)</div><div class='xr-var-dtype'>datetime64[ns]</div><div class='xr-var-preview xr-preview'>2020-01-02T00:28:11.232849 ... 2...</div><input id='attrs-38b49eb0-cf23-4095-a996-46cc3a29f525' class='xr-var-attrs-in' type='checkbox' ><label for='attrs-38b49eb0-cf23-4095-a996-46cc3a29f525' title='Show/Hide attributes'><svg class='icon xr-icon-file-text2'><use xlink:href='#icon-file-text2'></use></svg></label><input id='data-1f3d47af-141d-4646-8e6a-4512b0f66abd' class='xr-var-data-in' type='checkbox'><label for='data-1f3d47af-141d-4646-8e6a-4512b0f66abd' title='Show/Hide data repr'><svg class='icon xr-icon-database'><use xlink:href='#icon-database'></use></svg></label><div class='xr-var-attrs'><dl class='xr-attrs'><dt><span>units :</span></dt><dd>seconds since 1970-01-01 00:00:00</dd></dl></div><div class='xr-var-data'><pre>array([&#x27;2020-01-02T00:28:11.232849000&#x27;, &#x27;2020-01-02T00:40:48.401795000&#x27;,\n",
       "       &#x27;2020-01-03T00:02:35.224049000&#x27;, ..., &#x27;2022-12-17T00:40:53.258603000&#x27;,\n",
       "       &#x27;2022-12-18T00:22:14.457432000&#x27;, &#x27;2022-12-26T00:22:12.193716000&#x27;],\n",
       "      dtype=&#x27;datetime64[ns]&#x27;)</pre></div></li><li class='xr-var-item'><div class='xr-var-name'><span class='xr-has-index'>y</span></div><div class='xr-var-dims'>(y)</div><div class='xr-var-dtype'>float64</div><div class='xr-var-preview xr-preview'>-1.587e+06 -1.587e+06 ... -1.59e+06</div><input id='attrs-05d59654-0394-4e28-97de-d7c1cedaf93e' class='xr-var-attrs-in' type='checkbox' ><label for='attrs-05d59654-0394-4e28-97de-d7c1cedaf93e' title='Show/Hide attributes'><svg class='icon xr-icon-file-text2'><use xlink:href='#icon-file-text2'></use></svg></label><input id='data-ae3b9f98-a3e7-4616-b349-6fdb4a727ab8' class='xr-var-data-in' type='checkbox'><label for='data-ae3b9f98-a3e7-4616-b349-6fdb4a727ab8' title='Show/Hide data repr'><svg class='icon xr-icon-database'><use xlink:href='#icon-database'></use></svg></label><div class='xr-var-attrs'><dl class='xr-attrs'><dt><span>units :</span></dt><dd>metre</dd><dt><span>resolution :</span></dt><dd>-30.0</dd><dt><span>crs :</span></dt><dd>EPSG:3577</dd></dl></div><div class='xr-var-data'><pre>array([-1587075., -1587105., -1587135., -1587165., -1587195., -1587225.,\n",
       "       -1587255., -1587285., -1587315., -1587345., -1587375., -1587405.,\n",
       "       -1587435., -1587465., -1587495., -1587525., -1587555., -1587585.,\n",
       "       -1587615., -1587645., -1587675., -1587705., -1587735., -1587765.,\n",
       "       -1587795., -1587825., -1587855., -1587885., -1587915., -1587945.,\n",
       "       -1587975., -1588005., -1588035., -1588065., -1588095., -1588125.,\n",
       "       -1588155., -1588185., -1588215., -1588245., -1588275., -1588305.,\n",
       "       -1588335., -1588365., -1588395., -1588425., -1588455., -1588485.,\n",
       "       -1588515., -1588545., -1588575., -1588605., -1588635., -1588665.,\n",
       "       -1588695., -1588725., -1588755., -1588785., -1588815., -1588845.,\n",
       "       -1588875., -1588905., -1588935., -1588965., -1588995., -1589025.,\n",
       "       -1589055., -1589085., -1589115., -1589145., -1589175., -1589205.,\n",
       "       -1589235., -1589265., -1589295., -1589325., -1589355., -1589385.,\n",
       "       -1589415., -1589445., -1589475., -1589505., -1589535., -1589565.,\n",
       "       -1589595., -1589625., -1589655., -1589685., -1589715., -1589745.,\n",
       "       -1589775., -1589805., -1589835., -1589865., -1589895., -1589925.,\n",
       "       -1589955., -1589985., -1590015., -1590045., -1590075., -1590105.,\n",
       "       -1590135., -1590165., -1590195., -1590225., -1590255.])</pre></div></li><li class='xr-var-item'><div class='xr-var-name'><span class='xr-has-index'>x</span></div><div class='xr-var-dims'>(x)</div><div class='xr-var-dtype'>float64</div><div class='xr-var-preview xr-preview'>1.373e+06 1.374e+06 ... 1.378e+06</div><input id='attrs-35cb1a20-c0f9-486b-8f0a-25d314a8d3b7' class='xr-var-attrs-in' type='checkbox' ><label for='attrs-35cb1a20-c0f9-486b-8f0a-25d314a8d3b7' title='Show/Hide attributes'><svg class='icon xr-icon-file-text2'><use xlink:href='#icon-file-text2'></use></svg></label><input id='data-58e7538d-73eb-4bdf-bb86-09f45e213671' class='xr-var-data-in' type='checkbox'><label for='data-58e7538d-73eb-4bdf-bb86-09f45e213671' title='Show/Hide data repr'><svg class='icon xr-icon-database'><use xlink:href='#icon-database'></use></svg></label><div class='xr-var-attrs'><dl class='xr-attrs'><dt><span>units :</span></dt><dd>metre</dd><dt><span>resolution :</span></dt><dd>30.0</dd><dt><span>crs :</span></dt><dd>EPSG:3577</dd></dl></div><div class='xr-var-data'><pre>array([1373475., 1373505., 1373535., 1373565., 1373595., 1373625., 1373655.,\n",
       "       1373685., 1373715., 1373745., 1373775., 1373805., 1373835., 1373865.,\n",
       "       1373895., 1373925., 1373955., 1373985., 1374015., 1374045., 1374075.,\n",
       "       1374105., 1374135., 1374165., 1374195., 1374225., 1374255., 1374285.,\n",
       "       1374315., 1374345., 1374375., 1374405., 1374435., 1374465., 1374495.,\n",
       "       1374525., 1374555., 1374585., 1374615., 1374645., 1374675., 1374705.,\n",
       "       1374735., 1374765., 1374795., 1374825., 1374855., 1374885., 1374915.,\n",
       "       1374945., 1374975., 1375005., 1375035., 1375065., 1375095., 1375125.,\n",
       "       1375155., 1375185., 1375215., 1375245., 1375275., 1375305., 1375335.,\n",
       "       1375365., 1375395., 1375425., 1375455., 1375485., 1375515., 1375545.,\n",
       "       1375575., 1375605., 1375635., 1375665., 1375695., 1375725., 1375755.,\n",
       "       1375785., 1375815., 1375845., 1375875., 1375905., 1375935., 1375965.,\n",
       "       1375995., 1376025., 1376055., 1376085., 1376115., 1376145., 1376175.,\n",
       "       1376205., 1376235., 1376265., 1376295., 1376325., 1376355., 1376385.,\n",
       "       1376415., 1376445., 1376475., 1376505., 1376535., 1376565., 1376595.,\n",
       "       1376625., 1376655., 1376685., 1376715., 1376745., 1376775., 1376805.,\n",
       "       1376835., 1376865., 1376895., 1376925., 1376955., 1376985., 1377015.,\n",
       "       1377045., 1377075., 1377105., 1377135., 1377165., 1377195., 1377225.,\n",
       "       1377255., 1377285., 1377315., 1377345., 1377375., 1377405., 1377435.,\n",
       "       1377465., 1377495., 1377525., 1377555., 1377585., 1377615., 1377645.,\n",
       "       1377675., 1377705., 1377735., 1377765., 1377795., 1377825., 1377855.,\n",
       "       1377885., 1377915.])</pre></div></li><li class='xr-var-item'><div class='xr-var-name'><span>spatial_ref</span></div><div class='xr-var-dims'>()</div><div class='xr-var-dtype'>int32</div><div class='xr-var-preview xr-preview'>3577</div><input id='attrs-ef937d5a-6326-41c2-a75c-2de7a2f271bd' class='xr-var-attrs-in' type='checkbox' ><label for='attrs-ef937d5a-6326-41c2-a75c-2de7a2f271bd' title='Show/Hide attributes'><svg class='icon xr-icon-file-text2'><use xlink:href='#icon-file-text2'></use></svg></label><input id='data-19a94f88-e53c-426e-80c3-7e4509fa0f42' class='xr-var-data-in' type='checkbox'><label for='data-19a94f88-e53c-426e-80c3-7e4509fa0f42' title='Show/Hide data repr'><svg class='icon xr-icon-database'><use xlink:href='#icon-database'></use></svg></label><div class='xr-var-attrs'><dl class='xr-attrs'><dt><span>spatial_ref :</span></dt><dd>PROJCS[&quot;GDA94 / Australian Albers&quot;,GEOGCS[&quot;GDA94&quot;,DATUM[&quot;Geocentric_Datum_of_Australia_1994&quot;,SPHEROID[&quot;GRS 1980&quot;,6378137,298.257222101,AUTHORITY[&quot;EPSG&quot;,&quot;7019&quot;]],AUTHORITY[&quot;EPSG&quot;,&quot;6283&quot;]],PRIMEM[&quot;Greenwich&quot;,0,AUTHORITY[&quot;EPSG&quot;,&quot;8901&quot;]],UNIT[&quot;degree&quot;,0.0174532925199433,AUTHORITY[&quot;EPSG&quot;,&quot;9122&quot;]],AUTHORITY[&quot;EPSG&quot;,&quot;4283&quot;]],PROJECTION[&quot;Albers_Conic_Equal_Area&quot;],PARAMETER[&quot;latitude_of_center&quot;,0],PARAMETER[&quot;longitude_of_center&quot;,132],PARAMETER[&quot;standard_parallel_1&quot;,-18],PARAMETER[&quot;standard_parallel_2&quot;,-36],PARAMETER[&quot;false_easting&quot;,0],PARAMETER[&quot;false_northing&quot;,0],UNIT[&quot;metre&quot;,1,AUTHORITY[&quot;EPSG&quot;,&quot;9001&quot;]],AXIS[&quot;Easting&quot;,EAST],AXIS[&quot;Northing&quot;,NORTH],AUTHORITY[&quot;EPSG&quot;,&quot;3577&quot;]]</dd><dt><span>grid_mapping_name :</span></dt><dd>albers_conical_equal_area</dd></dl></div><div class='xr-var-data'><pre>array(3577, dtype=int32)</pre></div></li></ul></div></li><li class='xr-section-item'><input id='section-1838f357-1f89-4405-8088-7d0c38680aa0' class='xr-section-summary-in' type='checkbox'  checked><label for='section-1838f357-1f89-4405-8088-7d0c38680aa0' class='xr-section-summary' >Data variables: <span>(1)</span></label><div class='xr-section-inline-details'></div><div class='xr-section-details'><ul class='xr-var-list'><li class='xr-var-item'><div class='xr-var-name'><span>ndwi</span></div><div class='xr-var-dims'>(time, y, x)</div><div class='xr-var-dtype'>float32</div><div class='xr-var-preview xr-preview'>0.03629 0.03331 0.03235 ... nan nan</div><input id='attrs-89a8413f-1ff4-43ca-981d-1dfb23ba06ff' class='xr-var-attrs-in' type='checkbox' disabled><label for='attrs-89a8413f-1ff4-43ca-981d-1dfb23ba06ff' title='Show/Hide attributes'><svg class='icon xr-icon-file-text2'><use xlink:href='#icon-file-text2'></use></svg></label><input id='data-1e5d077f-1e07-42b3-be7c-ac57aea9d77e' class='xr-var-data-in' type='checkbox'><label for='data-1e5d077f-1e07-42b3-be7c-ac57aea9d77e' title='Show/Hide data repr'><svg class='icon xr-icon-database'><use xlink:href='#icon-database'></use></svg></label><div class='xr-var-attrs'><dl class='xr-attrs'></dl></div><div class='xr-var-data'><pre>array([[[ 0.03629344,  0.03330752,  0.03235187, ...,  0.1388889 ,\n",
       "          0.13087934,  0.12352941],\n",
       "        [ 0.10862944,  0.13354701,  0.08384279, ...,  0.14136125,\n",
       "          0.13941826,  0.13170731],\n",
       "        [ 0.08273835,  0.05516266,  0.04708755, ...,  0.1352459 ,\n",
       "          0.14059407,  0.13640824],\n",
       "        ...,\n",
       "        [-0.5716198 , -0.56317204, -0.5599464 , ...,  0.14690983,\n",
       "          0.14669421,  0.14285715],\n",
       "        [-0.6334944 , -0.5967159 , -0.5988465 , ...,  0.14085914,\n",
       "          0.14172448,  0.14859438],\n",
       "        [-0.6765273 , -0.64384466, -0.62683165, ...,  0.14509805,\n",
       "          0.14313726,  0.14398421]],\n",
       "\n",
       "       [[ 0.36953643,  0.3721245 ,  0.37978142, ...,  0.3       ,\n",
       "          0.299389  ,  0.35021096],\n",
       "        [ 0.38337803,  0.38567492,  0.38955823, ...,  0.32815534,\n",
       "          0.31746033,  0.3460722 ],\n",
       "        [ 0.38911024,  0.3781965 ,  0.37760416, ...,  0.3229572 ,\n",
       "          0.30177516,  0.33880904],\n",
       "...\n",
       "        [        nan,         nan,         nan, ...,  0.04320601,\n",
       "          0.05040448,  0.04873535],\n",
       "        [        nan,         nan,         nan, ...,  0.04511278,\n",
       "          0.04039776,  0.03512015],\n",
       "        [        nan,         nan,         nan, ...,  0.04899497,\n",
       "          0.04024768,  0.04097859]],\n",
       "\n",
       "       [[        nan,         nan,         nan, ..., -0.03722052,\n",
       "         -0.03782288, -0.03841439],\n",
       "        [        nan,         nan,         nan, ..., -0.03495421,\n",
       "         -0.03486238, -0.03472222],\n",
       "        [        nan,         nan,         nan, ..., -0.03174501,\n",
       "         -0.03057578, -0.03127793],\n",
       "        ...,\n",
       "        [        nan,         nan,         nan, ...,         nan,\n",
       "                 nan,         nan],\n",
       "        [        nan,         nan,         nan, ...,         nan,\n",
       "                 nan,         nan],\n",
       "        [        nan,         nan,         nan, ...,         nan,\n",
       "                 nan,         nan]]], dtype=float32)</pre></div></li></ul></div></li><li class='xr-section-item'><input id='section-20521373-b363-44f1-82c5-45e3e4874214' class='xr-section-summary-in' type='checkbox'  ><label for='section-20521373-b363-44f1-82c5-45e3e4874214' class='xr-section-summary' >Indexes: <span>(3)</span></label><div class='xr-section-inline-details'></div><div class='xr-section-details'><ul class='xr-var-list'><li class='xr-var-item'><div class='xr-index-name'><div>time</div></div><div class='xr-index-preview'>PandasIndex</div><div></div><input id='index-787e6098-14a5-4385-923c-4749fe5e5dc3' class='xr-index-data-in' type='checkbox'/><label for='index-787e6098-14a5-4385-923c-4749fe5e5dc3' title='Show/Hide index repr'><svg class='icon xr-icon-database'><use xlink:href='#icon-database'></use></svg></label><div class='xr-index-data'><pre>PandasIndex(DatetimeIndex([&#x27;2020-01-02 00:28:11.232849&#x27;, &#x27;2020-01-02 00:40:48.401795&#x27;,\n",
       "               &#x27;2020-01-03 00:02:35.224049&#x27;, &#x27;2020-01-07 00:40:48.753796&#x27;,\n",
       "               &#x27;2020-01-10 00:08:24.410581&#x27;, &#x27;2020-01-17 00:40:47.935907&#x27;,\n",
       "               &#x27;2020-01-18 00:28:08.200109&#x27;, &#x27;2020-01-19 00:01:47.305215&#x27;,\n",
       "               &#x27;2020-01-22 00:40:47.453468&#x27;, &#x27;2020-01-26 00:07:37.349934&#x27;,\n",
       "               ...\n",
       "               &#x27;2022-11-24 00:22:14.972901&#x27;, &#x27;2022-11-27 00:40:53.504538&#x27;,\n",
       "               &#x27;2022-12-07 00:40:54.482558&#x27;, &#x27;2022-12-09 00:28:30.853385&#x27;,\n",
       "               &#x27;2022-12-10 00:22:14.597657&#x27;, &#x27;2022-12-12 00:40:51.168875&#x27;,\n",
       "               &#x27;2022-12-17 00:28:24.808109&#x27;, &#x27;2022-12-17 00:40:53.258603&#x27;,\n",
       "               &#x27;2022-12-18 00:22:14.457432&#x27;, &#x27;2022-12-26 00:22:12.193716&#x27;],\n",
       "              dtype=&#x27;datetime64[ns]&#x27;, name=&#x27;time&#x27;, length=401, freq=None))</pre></div></li><li class='xr-var-item'><div class='xr-index-name'><div>y</div></div><div class='xr-index-preview'>PandasIndex</div><div></div><input id='index-1113215b-3b48-474e-be74-ca083751b3d0' class='xr-index-data-in' type='checkbox'/><label for='index-1113215b-3b48-474e-be74-ca083751b3d0' title='Show/Hide index repr'><svg class='icon xr-icon-database'><use xlink:href='#icon-database'></use></svg></label><div class='xr-index-data'><pre>PandasIndex(Float64Index([-1587075.0, -1587105.0, -1587135.0, -1587165.0, -1587195.0,\n",
       "              -1587225.0, -1587255.0, -1587285.0, -1587315.0, -1587345.0,\n",
       "              ...\n",
       "              -1589985.0, -1590015.0, -1590045.0, -1590075.0, -1590105.0,\n",
       "              -1590135.0, -1590165.0, -1590195.0, -1590225.0, -1590255.0],\n",
       "             dtype=&#x27;float64&#x27;, name=&#x27;y&#x27;, length=107))</pre></div></li><li class='xr-var-item'><div class='xr-index-name'><div>x</div></div><div class='xr-index-preview'>PandasIndex</div><div></div><input id='index-4ef98cb3-2e21-4da3-b5f0-0f0bd96659b1' class='xr-index-data-in' type='checkbox'/><label for='index-4ef98cb3-2e21-4da3-b5f0-0f0bd96659b1' title='Show/Hide index repr'><svg class='icon xr-icon-database'><use xlink:href='#icon-database'></use></svg></label><div class='xr-index-data'><pre>PandasIndex(Float64Index([1373475.0, 1373505.0, 1373535.0, 1373565.0, 1373595.0, 1373625.0,\n",
       "              1373655.0, 1373685.0, 1373715.0, 1373745.0,\n",
       "              ...\n",
       "              1377645.0, 1377675.0, 1377705.0, 1377735.0, 1377765.0, 1377795.0,\n",
       "              1377825.0, 1377855.0, 1377885.0, 1377915.0],\n",
       "             dtype=&#x27;float64&#x27;, name=&#x27;x&#x27;, length=149))</pre></div></li></ul></div></li><li class='xr-section-item'><input id='section-ae6ace0a-c9d2-4202-8fad-cadabb34bec3' class='xr-section-summary-in' type='checkbox'  checked><label for='section-ae6ace0a-c9d2-4202-8fad-cadabb34bec3' class='xr-section-summary' >Attributes: <span>(2)</span></label><div class='xr-section-inline-details'></div><div class='xr-section-details'><dl class='xr-attrs'><dt><span>crs :</span></dt><dd>EPSG:3577</dd><dt><span>grid_mapping :</span></dt><dd>spatial_ref</dd></dl></div></li></ul></div></div>"
      ],
      "text/plain": [
       "<xarray.Dataset>\n",
       "Dimensions:      (time: 401, y: 107, x: 149)\n",
       "Coordinates:\n",
       "  * time         (time) datetime64[ns] 2020-01-02T00:28:11.232849 ... 2022-12...\n",
       "  * y            (y) float64 -1.587e+06 -1.587e+06 ... -1.59e+06 -1.59e+06\n",
       "  * x            (x) float64 1.373e+06 1.374e+06 ... 1.378e+06 1.378e+06\n",
       "    spatial_ref  int32 3577\n",
       "Data variables:\n",
       "    ndwi         (time, y, x) float32 0.03629 0.03331 0.03235 ... nan nan nan\n",
       "Attributes:\n",
       "    crs:           EPSG:3577\n",
       "    grid_mapping:  spatial_ref"
      ]
     },
     "execution_count": 16,
     "metadata": {},
     "output_type": "execute_result"
    }
   ],
   "source": [
    "%%time\n",
    "\n",
    "# Connect to datacube\n",
    "dc = datacube.Datacube(app=\"Intertidal_elevation\")\n",
    "\n",
    "# Create local dask cluster to improve data load time\n",
    "client = create_local_dask_cluster(return_client=True)\n",
    "\n",
    "satellite_ds,_,_ = load_data(\n",
    "    dc=dc,\n",
    "    study_area=study_area,\n",
    "    geom=geom,\n",
    "    time_range=(start_date, end_date),\n",
    "    resolution=resolution,\n",
    "    crs=crs,\n",
    "    include_s2=True,\n",
    "    include_ls=True,\n",
    "    filter_gqa=filter_gqa,\n",
    "    max_cloudcover=90,\n",
    "    skip_broken_datasets=True,\n",
    ")\n",
    "\n",
    "print(satellite_ds)\n",
    "\n",
    "# Load data\n",
    "satellite_ds.load()"
   ]
  },
  {
   "cell_type": "markdown",
   "id": "1e110fbd",
   "metadata": {},
   "source": [
    "### Load optional topobathy mask\n",
    "Loads a topo-bathymetric DEM for the extents of the loaded satellite data.\n",
    "This is used as a coarse mask to constrain the analysis to the coastal zone, improving run time and reducing clear false positives over deep water or elevated land."
   ]
  },
  {
   "cell_type": "code",
   "execution_count": 17,
   "id": "86e0342f",
   "metadata": {
    "tags": []
   },
   "outputs": [],
   "source": [
    "# Load data from GA's AusBathyTopo 250m 2023 Grid\n",
    "topobathy_mask = load_topobathy_mask(dc, geobox=satellite_ds.odc.geobox.compat)"
   ]
  },
  {
   "cell_type": "markdown",
   "id": "61de9aa9",
   "metadata": {},
   "source": [
    "### Intertidal elevation\n",
    "To run without the topobathy DEM mask, comment out `valid_mask=...`."
   ]
  },
  {
   "cell_type": "code",
   "execution_count": 18,
   "id": "498a6da5",
   "metadata": {
    "tags": []
   },
   "outputs": [
    {
     "name": "stderr",
     "output_type": "stream",
     "text": [
      "2024-05-07 02:40:42 INFO Processing: Modelling tide heights for each pixel\n"
     ]
    },
    {
     "name": "stdout",
     "output_type": "stream",
     "text": [
      "Running ensemble tide modelling\n",
      "Creating reduced resolution 5000 x 5000 metre tide modelling array\n",
      "Modelling tides using FES2014, FES2012, TPXO8-atlas-v1, TPXO9-atlas-v5, EOT20, HAMTIDE11, GOT4.10 in parallel\n"
     ]
    },
    {
     "name": "stderr",
     "output_type": "stream",
     "text": [
      "100%|██████████| 35/35 [00:19<00:00,  1.77it/s]\n"
     ]
    },
    {
     "name": "stdout",
     "output_type": "stream",
     "text": [
      "Returning low resolution tide array\n",
      "Generating ensemble tide model from point inputs\n",
      "Interpolating model weights using 'idw' interpolation\n",
      "                 weights\n",
      "tide_model              \n",
      "FES2014         0.273408\n",
      "EOT20           0.272141\n",
      "FES2012         0.272004\n",
      "TPXO8-atlas-v1  0.271940\n",
      "TPXO9-atlas-v5  0.271919\n",
      "GOT4.10         0.271716\n",
      "HAMTIDE11       0.270255\n",
      "Reducing multiple models into single ensemble model using 'mean'\n",
      "Reprojecting ensemble tides into original array\n"
     ]
    },
    {
     "name": "stderr",
     "output_type": "stream",
     "text": [
      "2024-05-07 02:41:07 INFO Processing: Masking nodata and adding tide heights to satellite data array\n",
      "2024-05-07 02:41:07 INFO Processing: Flattening satellite data array and filtering to intertidal candidate pixels\n",
      "2024-05-07 02:41:07 INFO Processing: Applying valid data mask to constrain study area\n",
      "2024-05-07 02:41:08 INFO Processing: Running per-pixel rolling median\n"
     ]
    },
    {
     "name": "stdout",
     "output_type": "stream",
     "text": [
      "Reducing analysed pixels from 15943 to 801 (5.02%)\n"
     ]
    },
    {
     "data": {
      "application/vnd.jupyter.widget-view+json": {
       "model_id": "e72f5356920748e185f52cba4e6697be",
       "version_major": 2,
       "version_minor": 0
      },
      "text/plain": [
       "  0%|          | 0/105 [00:00<?, ?it/s]"
      ]
     },
     "metadata": {},
     "output_type": "display_data"
    },
    {
     "name": "stderr",
     "output_type": "stream",
     "text": [
      "2024-05-07 02:41:11 INFO Processing: Modelling intertidal elevation\n",
      "2024-05-07 02:41:11 INFO Processing: Modelling intertidal uncertainty\n",
      "2024-05-07 02:41:11 INFO Processing: Unflattening data back to its original spatial dimensions\n",
      "2024-05-07 02:41:11 INFO Processing: Cleaning inaccurate upper intertidal pixels\n",
      "2024-05-07 02:41:11 INFO Processing: Successfully completed intertidal elevation modelling\n"
     ]
    },
    {
     "name": "stdout",
     "output_type": "stream",
     "text": [
      "Applying tidal interval interpolation to 200 intervals\n",
      "Applying rolling mean smoothing with radius 20\n"
     ]
    }
   ],
   "source": [
    "# Model elevation for each pixel\n",
    "ds, tide_m = elevation(\n",
    "    satellite_ds,\n",
    "    valid_mask=topobathy_mask,\n",
    "    tide_model=tide_model,\n",
    "    tide_model_dir=tide_model_dir,\n",
    ")"
   ]
  },
  {
   "cell_type": "code",
   "execution_count": 19,
   "id": "fbe73592-e84a-41cc-bf6f-4847b0b1c7cb",
   "metadata": {
    "tags": []
   },
   "outputs": [],
   "source": [
    "# %store ds"
   ]
  },
  {
   "cell_type": "markdown",
   "id": "704fc753",
   "metadata": {
    "tags": []
   },
   "source": [
    "### Intertidal extents\n"
   ]
  },
  {
   "cell_type": "code",
   "execution_count": 20,
   "id": "f7f72117",
   "metadata": {
    "tags": []
   },
   "outputs": [],
   "source": [
    "# Load and reclassify for intensive urban land use class only the ABARES ACLUM ds\n",
    "reclassified_aclum = load_aclum_mask(dc, geobox=satellite_ds.odc.geobox.compat)\n",
    "\n",
    "# Calculate intertidal extents\n",
    "ds[\"extents\"] = extents(\n",
    "    dem=ds.elevation,\n",
    "    freq=ds.qa_ndwi_freq,\n",
    "    corr=ds.qa_ndwi_corr,\n",
    "    reclassified_aclum=reclassified_aclum,\n",
    ")"
   ]
  },
  {
   "cell_type": "code",
   "execution_count": 21,
   "id": "2e92bfa6",
   "metadata": {
    "tags": []
   },
   "outputs": [],
   "source": [
    "# ## Plot with labels\n",
    "# labels=['0 Dry',\n",
    "#        '1 Intermittent\\n   wet\\n   inland',\n",
    "#        '2 Wet inland',\n",
    "#        '3 Wet ocean',\n",
    "#        '4 Intertidal lc',\n",
    "#        '5 Intertidal hc',\n",
    "#        ]\n",
    "\n",
    "# fig,ax=plt.subplots(figsize=(12,8))\n",
    "# cax=ax.imshow(ds['extents'], cmap='terrain_r')\n",
    "# cbar=fig.colorbar(cax, ticks=[0,1,2,3,4,5])\n",
    "# cbar.ax.set_yticklabels(labels)\n",
    "# plt.show()"
   ]
  },
  {
   "cell_type": "markdown",
   "id": "063c72b9",
   "metadata": {
    "tags": []
   },
   "source": [
    "### Intertidal exposure\n",
    "Calculate exposure using the script function.\n",
    "To calculate exposure for the full time period, leave `filters` commented out or set as ['unfiltered'].\n",
    "See the function documentation for the full range of available filters and filter_combinations.\n",
    "The code accepts lists of multiple filters and filter_combination tuples."
   ]
  },
  {
   "cell_type": "code",
   "execution_count": 22,
   "id": "e1ff8db8",
   "metadata": {
    "tags": []
   },
   "outputs": [
    {
     "name": "stdout",
     "output_type": "stream",
     "text": [
      "-----\n",
      "Calculating unfiltered exposure\n",
      "Running ensemble tide modelling\n",
      "Creating reduced resolution 3000 x 3000 metre tide modelling array\n",
      "Modelling tides using FES2014, FES2012, TPXO8-atlas-v1, TPXO9-atlas-v5, EOT20, HAMTIDE11, GOT4.10 in parallel\n"
     ]
    },
    {
     "name": "stderr",
     "output_type": "stream",
     "text": [
      "100%|██████████| 35/35 [00:25<00:00,  1.35it/s]\n"
     ]
    },
    {
     "name": "stdout",
     "output_type": "stream",
     "text": [
      "Computing tide quantiles\n",
      "Returning low resolution tide array\n",
      "Generating ensemble tide model from point inputs\n",
      "Interpolating model weights using 'idw' interpolation\n",
      "                 weights\n",
      "tide_model              \n",
      "FES2014         0.273269\n",
      "EOT20           0.271995\n",
      "FES2012         0.271879\n",
      "TPXO9-atlas-v5  0.271808\n",
      "TPXO8-atlas-v1  0.271766\n",
      "GOT4.10         0.271599\n",
      "HAMTIDE11       0.270116\n",
      "Reducing multiple models into single ensemble model using 'mean'\n",
      "Reprojecting ensemble tides into original array\n"
     ]
    }
   ],
   "source": [
    "%reload_ext autoreload\n",
    "\n",
    "exposure_filters, tide_cq_dict = exposure(\n",
    "    dem=ds.elevation,\n",
    "    start_date=start_date,\n",
    "    end_date=end_date,\n",
    "    modelled_freq = modelled_freq,\n",
    "    tide_model=tide_model,\n",
    "    tide_model_dir=tide_model_dir,\n",
    "    filters=filters,\n",
    "    filters_combined=filters_combined,\n",
    ")\n",
    "\n",
    "for x in list(exposure_filters.keys()):\n",
    "    ds['exposure_'+str(x)]=exposure_filters[str(x)]"
   ]
  },
  {
   "cell_type": "markdown",
   "id": "a3157252",
   "metadata": {},
   "source": [
    "### Spread and offset\n",
    "Calculate the spread and high/low tide biases of input observed images as a percentage of the modelled tide heights.\n",
    "\n",
    "Warning: this code will only work if the exposure function has been run and produced 'unfiltered' exposure results.\n"
   ]
  },
  {
   "cell_type": "code",
   "execution_count": 24,
   "id": "f7a4cd0a",
   "metadata": {
    "tags": []
   },
   "outputs": [],
   "source": [
    "(\n",
    "    ds[\"ta_lat\"],\n",
    "    ds[\"ta_hat\"],\n",
    "    ds[\"ta_lot\"],\n",
    "    ds[\"ta_hot\"],\n",
    "    ds[\"ta_spread\"],\n",
    "    ds[\"ta_offset_low\"],\n",
    "    ds[\"ta_offset_high\"],\n",
    ") = bias_offset(\n",
    "    tide_m=tide_m, tide_cq=tide_cq_dict['unfiltered'], lot_hot=True, lat_hat=True\n",
    ")"
   ]
  },
  {
   "cell_type": "markdown",
   "id": "01e2aa71",
   "metadata": {},
   "source": [
    "## Plot all layers"
   ]
  },
  {
   "cell_type": "code",
   "execution_count": 25,
   "id": "187c867c",
   "metadata": {
    "tags": []
   },
   "outputs": [
    {
     "data": {
      "text/html": [
       "<div><svg style=\"position: absolute; width: 0; height: 0; overflow: hidden\">\n",
       "<defs>\n",
       "<symbol id=\"icon-database\" viewBox=\"0 0 32 32\">\n",
       "<path d=\"M16 0c-8.837 0-16 2.239-16 5v4c0 2.761 7.163 5 16 5s16-2.239 16-5v-4c0-2.761-7.163-5-16-5z\"></path>\n",
       "<path d=\"M16 17c-8.837 0-16-2.239-16-5v6c0 2.761 7.163 5 16 5s16-2.239 16-5v-6c0 2.761-7.163 5-16 5z\"></path>\n",
       "<path d=\"M16 26c-8.837 0-16-2.239-16-5v6c0 2.761 7.163 5 16 5s16-2.239 16-5v-6c0 2.761-7.163 5-16 5z\"></path>\n",
       "</symbol>\n",
       "<symbol id=\"icon-file-text2\" viewBox=\"0 0 32 32\">\n",
       "<path d=\"M28.681 7.159c-0.694-0.947-1.662-2.053-2.724-3.116s-2.169-2.030-3.116-2.724c-1.612-1.182-2.393-1.319-2.841-1.319h-15.5c-1.378 0-2.5 1.121-2.5 2.5v27c0 1.378 1.122 2.5 2.5 2.5h23c1.378 0 2.5-1.122 2.5-2.5v-19.5c0-0.448-0.137-1.23-1.319-2.841zM24.543 5.457c0.959 0.959 1.712 1.825 2.268 2.543h-4.811v-4.811c0.718 0.556 1.584 1.309 2.543 2.268zM28 29.5c0 0.271-0.229 0.5-0.5 0.5h-23c-0.271 0-0.5-0.229-0.5-0.5v-27c0-0.271 0.229-0.5 0.5-0.5 0 0 15.499-0 15.5 0v7c0 0.552 0.448 1 1 1h7v19.5z\"></path>\n",
       "<path d=\"M23 26h-14c-0.552 0-1-0.448-1-1s0.448-1 1-1h14c0.552 0 1 0.448 1 1s-0.448 1-1 1z\"></path>\n",
       "<path d=\"M23 22h-14c-0.552 0-1-0.448-1-1s0.448-1 1-1h14c0.552 0 1 0.448 1 1s-0.448 1-1 1z\"></path>\n",
       "<path d=\"M23 18h-14c-0.552 0-1-0.448-1-1s0.448-1 1-1h14c0.552 0 1 0.448 1 1s-0.448 1-1 1z\"></path>\n",
       "</symbol>\n",
       "</defs>\n",
       "</svg>\n",
       "<style>/* CSS stylesheet for displaying xarray objects in jupyterlab.\n",
       " *\n",
       " */\n",
       "\n",
       ":root {\n",
       "  --xr-font-color0: var(--jp-content-font-color0, rgba(0, 0, 0, 1));\n",
       "  --xr-font-color2: var(--jp-content-font-color2, rgba(0, 0, 0, 0.54));\n",
       "  --xr-font-color3: var(--jp-content-font-color3, rgba(0, 0, 0, 0.38));\n",
       "  --xr-border-color: var(--jp-border-color2, #e0e0e0);\n",
       "  --xr-disabled-color: var(--jp-layout-color3, #bdbdbd);\n",
       "  --xr-background-color: var(--jp-layout-color0, white);\n",
       "  --xr-background-color-row-even: var(--jp-layout-color1, white);\n",
       "  --xr-background-color-row-odd: var(--jp-layout-color2, #eeeeee);\n",
       "}\n",
       "\n",
       "html[theme=dark],\n",
       "body[data-theme=dark],\n",
       "body.vscode-dark {\n",
       "  --xr-font-color0: rgba(255, 255, 255, 1);\n",
       "  --xr-font-color2: rgba(255, 255, 255, 0.54);\n",
       "  --xr-font-color3: rgba(255, 255, 255, 0.38);\n",
       "  --xr-border-color: #1F1F1F;\n",
       "  --xr-disabled-color: #515151;\n",
       "  --xr-background-color: #111111;\n",
       "  --xr-background-color-row-even: #111111;\n",
       "  --xr-background-color-row-odd: #313131;\n",
       "}\n",
       "\n",
       ".xr-wrap {\n",
       "  display: block !important;\n",
       "  min-width: 300px;\n",
       "  max-width: 700px;\n",
       "}\n",
       "\n",
       ".xr-text-repr-fallback {\n",
       "  /* fallback to plain text repr when CSS is not injected (untrusted notebook) */\n",
       "  display: none;\n",
       "}\n",
       "\n",
       ".xr-header {\n",
       "  padding-top: 6px;\n",
       "  padding-bottom: 6px;\n",
       "  margin-bottom: 4px;\n",
       "  border-bottom: solid 1px var(--xr-border-color);\n",
       "}\n",
       "\n",
       ".xr-header > div,\n",
       ".xr-header > ul {\n",
       "  display: inline;\n",
       "  margin-top: 0;\n",
       "  margin-bottom: 0;\n",
       "}\n",
       "\n",
       ".xr-obj-type,\n",
       ".xr-array-name {\n",
       "  margin-left: 2px;\n",
       "  margin-right: 10px;\n",
       "}\n",
       "\n",
       ".xr-obj-type {\n",
       "  color: var(--xr-font-color2);\n",
       "}\n",
       "\n",
       ".xr-sections {\n",
       "  padding-left: 0 !important;\n",
       "  display: grid;\n",
       "  grid-template-columns: 150px auto auto 1fr 20px 20px;\n",
       "}\n",
       "\n",
       ".xr-section-item {\n",
       "  display: contents;\n",
       "}\n",
       "\n",
       ".xr-section-item input {\n",
       "  display: none;\n",
       "}\n",
       "\n",
       ".xr-section-item input + label {\n",
       "  color: var(--xr-disabled-color);\n",
       "}\n",
       "\n",
       ".xr-section-item input:enabled + label {\n",
       "  cursor: pointer;\n",
       "  color: var(--xr-font-color2);\n",
       "}\n",
       "\n",
       ".xr-section-item input:enabled + label:hover {\n",
       "  color: var(--xr-font-color0);\n",
       "}\n",
       "\n",
       ".xr-section-summary {\n",
       "  grid-column: 1;\n",
       "  color: var(--xr-font-color2);\n",
       "  font-weight: 500;\n",
       "}\n",
       "\n",
       ".xr-section-summary > span {\n",
       "  display: inline-block;\n",
       "  padding-left: 0.5em;\n",
       "}\n",
       "\n",
       ".xr-section-summary-in:disabled + label {\n",
       "  color: var(--xr-font-color2);\n",
       "}\n",
       "\n",
       ".xr-section-summary-in + label:before {\n",
       "  display: inline-block;\n",
       "  content: '►';\n",
       "  font-size: 11px;\n",
       "  width: 15px;\n",
       "  text-align: center;\n",
       "}\n",
       "\n",
       ".xr-section-summary-in:disabled + label:before {\n",
       "  color: var(--xr-disabled-color);\n",
       "}\n",
       "\n",
       ".xr-section-summary-in:checked + label:before {\n",
       "  content: '▼';\n",
       "}\n",
       "\n",
       ".xr-section-summary-in:checked + label > span {\n",
       "  display: none;\n",
       "}\n",
       "\n",
       ".xr-section-summary,\n",
       ".xr-section-inline-details {\n",
       "  padding-top: 4px;\n",
       "  padding-bottom: 4px;\n",
       "}\n",
       "\n",
       ".xr-section-inline-details {\n",
       "  grid-column: 2 / -1;\n",
       "}\n",
       "\n",
       ".xr-section-details {\n",
       "  display: none;\n",
       "  grid-column: 1 / -1;\n",
       "  margin-bottom: 5px;\n",
       "}\n",
       "\n",
       ".xr-section-summary-in:checked ~ .xr-section-details {\n",
       "  display: contents;\n",
       "}\n",
       "\n",
       ".xr-array-wrap {\n",
       "  grid-column: 1 / -1;\n",
       "  display: grid;\n",
       "  grid-template-columns: 20px auto;\n",
       "}\n",
       "\n",
       ".xr-array-wrap > label {\n",
       "  grid-column: 1;\n",
       "  vertical-align: top;\n",
       "}\n",
       "\n",
       ".xr-preview {\n",
       "  color: var(--xr-font-color3);\n",
       "}\n",
       "\n",
       ".xr-array-preview,\n",
       ".xr-array-data {\n",
       "  padding: 0 5px !important;\n",
       "  grid-column: 2;\n",
       "}\n",
       "\n",
       ".xr-array-data,\n",
       ".xr-array-in:checked ~ .xr-array-preview {\n",
       "  display: none;\n",
       "}\n",
       "\n",
       ".xr-array-in:checked ~ .xr-array-data,\n",
       ".xr-array-preview {\n",
       "  display: inline-block;\n",
       "}\n",
       "\n",
       ".xr-dim-list {\n",
       "  display: inline-block !important;\n",
       "  list-style: none;\n",
       "  padding: 0 !important;\n",
       "  margin: 0;\n",
       "}\n",
       "\n",
       ".xr-dim-list li {\n",
       "  display: inline-block;\n",
       "  padding: 0;\n",
       "  margin: 0;\n",
       "}\n",
       "\n",
       ".xr-dim-list:before {\n",
       "  content: '(';\n",
       "}\n",
       "\n",
       ".xr-dim-list:after {\n",
       "  content: ')';\n",
       "}\n",
       "\n",
       ".xr-dim-list li:not(:last-child):after {\n",
       "  content: ',';\n",
       "  padding-right: 5px;\n",
       "}\n",
       "\n",
       ".xr-has-index {\n",
       "  font-weight: bold;\n",
       "}\n",
       "\n",
       ".xr-var-list,\n",
       ".xr-var-item {\n",
       "  display: contents;\n",
       "}\n",
       "\n",
       ".xr-var-item > div,\n",
       ".xr-var-item label,\n",
       ".xr-var-item > .xr-var-name span {\n",
       "  background-color: var(--xr-background-color-row-even);\n",
       "  margin-bottom: 0;\n",
       "}\n",
       "\n",
       ".xr-var-item > .xr-var-name:hover span {\n",
       "  padding-right: 5px;\n",
       "}\n",
       "\n",
       ".xr-var-list > li:nth-child(odd) > div,\n",
       ".xr-var-list > li:nth-child(odd) > label,\n",
       ".xr-var-list > li:nth-child(odd) > .xr-var-name span {\n",
       "  background-color: var(--xr-background-color-row-odd);\n",
       "}\n",
       "\n",
       ".xr-var-name {\n",
       "  grid-column: 1;\n",
       "}\n",
       "\n",
       ".xr-var-dims {\n",
       "  grid-column: 2;\n",
       "}\n",
       "\n",
       ".xr-var-dtype {\n",
       "  grid-column: 3;\n",
       "  text-align: right;\n",
       "  color: var(--xr-font-color2);\n",
       "}\n",
       "\n",
       ".xr-var-preview {\n",
       "  grid-column: 4;\n",
       "}\n",
       "\n",
       ".xr-index-preview {\n",
       "  grid-column: 2 / 5;\n",
       "  color: var(--xr-font-color2);\n",
       "}\n",
       "\n",
       ".xr-var-name,\n",
       ".xr-var-dims,\n",
       ".xr-var-dtype,\n",
       ".xr-preview,\n",
       ".xr-attrs dt {\n",
       "  white-space: nowrap;\n",
       "  overflow: hidden;\n",
       "  text-overflow: ellipsis;\n",
       "  padding-right: 10px;\n",
       "}\n",
       "\n",
       ".xr-var-name:hover,\n",
       ".xr-var-dims:hover,\n",
       ".xr-var-dtype:hover,\n",
       ".xr-attrs dt:hover {\n",
       "  overflow: visible;\n",
       "  width: auto;\n",
       "  z-index: 1;\n",
       "}\n",
       "\n",
       ".xr-var-attrs,\n",
       ".xr-var-data,\n",
       ".xr-index-data {\n",
       "  display: none;\n",
       "  background-color: var(--xr-background-color) !important;\n",
       "  padding-bottom: 5px !important;\n",
       "}\n",
       "\n",
       ".xr-var-attrs-in:checked ~ .xr-var-attrs,\n",
       ".xr-var-data-in:checked ~ .xr-var-data,\n",
       ".xr-index-data-in:checked ~ .xr-index-data {\n",
       "  display: block;\n",
       "}\n",
       "\n",
       ".xr-var-data > table {\n",
       "  float: right;\n",
       "}\n",
       "\n",
       ".xr-var-name span,\n",
       ".xr-var-data,\n",
       ".xr-index-name div,\n",
       ".xr-index-data,\n",
       ".xr-attrs {\n",
       "  padding-left: 25px !important;\n",
       "}\n",
       "\n",
       ".xr-attrs,\n",
       ".xr-var-attrs,\n",
       ".xr-var-data,\n",
       ".xr-index-data {\n",
       "  grid-column: 1 / -1;\n",
       "}\n",
       "\n",
       "dl.xr-attrs {\n",
       "  padding: 0;\n",
       "  margin: 0;\n",
       "  display: grid;\n",
       "  grid-template-columns: 125px auto;\n",
       "}\n",
       "\n",
       ".xr-attrs dt,\n",
       ".xr-attrs dd {\n",
       "  padding: 0;\n",
       "  margin: 0;\n",
       "  float: left;\n",
       "  padding-right: 10px;\n",
       "  width: auto;\n",
       "}\n",
       "\n",
       ".xr-attrs dt {\n",
       "  font-weight: normal;\n",
       "  grid-column: 1;\n",
       "}\n",
       "\n",
       ".xr-attrs dt:hover span {\n",
       "  display: inline-block;\n",
       "  background: var(--xr-background-color);\n",
       "  padding-right: 10px;\n",
       "}\n",
       "\n",
       ".xr-attrs dd {\n",
       "  grid-column: 2;\n",
       "  white-space: pre-wrap;\n",
       "  word-break: break-all;\n",
       "}\n",
       "\n",
       ".xr-icon-database,\n",
       ".xr-icon-file-text2,\n",
       ".xr-no-icon {\n",
       "  display: inline-block;\n",
       "  vertical-align: middle;\n",
       "  width: 1em;\n",
       "  height: 1.5em !important;\n",
       "  stroke-width: 0;\n",
       "  stroke: currentColor;\n",
       "  fill: currentColor;\n",
       "}\n",
       "</style><pre class='xr-text-repr-fallback'>&lt;xarray.Dataset&gt;\n",
       "Dimensions:                (y: 107, x: 149)\n",
       "Coordinates:\n",
       "  * y                      (y) float64 -1.587e+06 -1.587e+06 ... -1.59e+06\n",
       "  * x                      (x) float64 1.373e+06 1.374e+06 ... 1.378e+06\n",
       "    spatial_ref            int32 3577\n",
       "    time                   datetime64[ns] 2021-12-21T14:26:59.325771\n",
       "Data variables: (12/13)\n",
       "    elevation              (y, x) float64 nan nan nan nan ... nan nan nan nan\n",
       "    elevation_uncertainty  (y, x) float64 nan nan nan nan ... nan nan nan nan\n",
       "    qa_ndwi_corr           (y, x) float64 nan nan nan ... -0.07066 -0.1041 -0.11\n",
       "    qa_ndwi_freq           (y, x) float64 0.995 0.995 1.0 ... 0.9582 0.958 0.962\n",
       "    extents                (y, x) float64 3.0 3.0 3.0 3.0 ... 3.0 3.0 3.0 3.0\n",
       "    exposure_unfiltered    (y, x) float64 nan nan nan nan ... nan nan nan nan\n",
       "    ...                     ...\n",
       "    ta_hat                 (y, x) float32 1.449 1.448 1.448 ... 1.448 1.448\n",
       "    ta_lot                 (y, x) float32 -0.7852 -0.7852 ... -0.7974 -0.7974\n",
       "    ta_hot                 (y, x) float32 1.423 1.423 1.423 ... 1.415 1.415\n",
       "    ta_spread              (y, x) float32 80.27 80.27 80.28 ... 80.01 80.01\n",
       "    ta_offset_low          (y, x) float32 18.81 18.81 18.81 ... 18.79 18.79\n",
       "    ta_offset_high         (y, x) float32 0.918 0.9177 0.9173 ... 1.193 1.194</pre><div class='xr-wrap' style='display:none'><div class='xr-header'><div class='xr-obj-type'>xarray.Dataset</div></div><ul class='xr-sections'><li class='xr-section-item'><input id='section-8f02036a-d1e9-4d0a-b9ff-449b8b801180' class='xr-section-summary-in' type='checkbox' disabled ><label for='section-8f02036a-d1e9-4d0a-b9ff-449b8b801180' class='xr-section-summary'  title='Expand/collapse section'>Dimensions:</label><div class='xr-section-inline-details'><ul class='xr-dim-list'><li><span class='xr-has-index'>y</span>: 107</li><li><span class='xr-has-index'>x</span>: 149</li></ul></div><div class='xr-section-details'></div></li><li class='xr-section-item'><input id='section-acf9f1c0-6f50-4900-b762-d7be2327a5ac' class='xr-section-summary-in' type='checkbox'  checked><label for='section-acf9f1c0-6f50-4900-b762-d7be2327a5ac' class='xr-section-summary' >Coordinates: <span>(4)</span></label><div class='xr-section-inline-details'></div><div class='xr-section-details'><ul class='xr-var-list'><li class='xr-var-item'><div class='xr-var-name'><span class='xr-has-index'>y</span></div><div class='xr-var-dims'>(y)</div><div class='xr-var-dtype'>float64</div><div class='xr-var-preview xr-preview'>-1.587e+06 -1.587e+06 ... -1.59e+06</div><input id='attrs-8ae5521d-f86e-4c47-b41f-52626ca68118' class='xr-var-attrs-in' type='checkbox' ><label for='attrs-8ae5521d-f86e-4c47-b41f-52626ca68118' title='Show/Hide attributes'><svg class='icon xr-icon-file-text2'><use xlink:href='#icon-file-text2'></use></svg></label><input id='data-3a8932e9-9e29-41e4-8f93-b0e990981839' class='xr-var-data-in' type='checkbox'><label for='data-3a8932e9-9e29-41e4-8f93-b0e990981839' title='Show/Hide data repr'><svg class='icon xr-icon-database'><use xlink:href='#icon-database'></use></svg></label><div class='xr-var-attrs'><dl class='xr-attrs'><dt><span>units :</span></dt><dd>metre</dd><dt><span>resolution :</span></dt><dd>-30.0</dd><dt><span>crs :</span></dt><dd>PROJCS[&quot;GDA94 / Australian Albers&quot;,GEOGCS[&quot;GDA94&quot;,DATUM[&quot;Geocentric_Datum_of_Australia_1994&quot;,SPHEROID[&quot;GRS 1980&quot;,6378137,298.257222101,AUTHORITY[&quot;EPSG&quot;,&quot;7019&quot;]],AUTHORITY[&quot;EPSG&quot;,&quot;6283&quot;]],PRIMEM[&quot;Greenwich&quot;,0,AUTHORITY[&quot;EPSG&quot;,&quot;8901&quot;]],UNIT[&quot;degree&quot;,0.0174532925199433,AUTHORITY[&quot;EPSG&quot;,&quot;9122&quot;]],AUTHORITY[&quot;EPSG&quot;,&quot;4283&quot;]],PROJECTION[&quot;Albers_Conic_Equal_Area&quot;],PARAMETER[&quot;latitude_of_center&quot;,0],PARAMETER[&quot;longitude_of_center&quot;,132],PARAMETER[&quot;standard_parallel_1&quot;,-18],PARAMETER[&quot;standard_parallel_2&quot;,-36],PARAMETER[&quot;false_easting&quot;,0],PARAMETER[&quot;false_northing&quot;,0],UNIT[&quot;metre&quot;,1,AUTHORITY[&quot;EPSG&quot;,&quot;9001&quot;]],AXIS[&quot;Easting&quot;,EAST],AXIS[&quot;Northing&quot;,NORTH],AUTHORITY[&quot;EPSG&quot;,&quot;3577&quot;]]</dd></dl></div><div class='xr-var-data'><pre>array([-1587075., -1587105., -1587135., -1587165., -1587195., -1587225.,\n",
       "       -1587255., -1587285., -1587315., -1587345., -1587375., -1587405.,\n",
       "       -1587435., -1587465., -1587495., -1587525., -1587555., -1587585.,\n",
       "       -1587615., -1587645., -1587675., -1587705., -1587735., -1587765.,\n",
       "       -1587795., -1587825., -1587855., -1587885., -1587915., -1587945.,\n",
       "       -1587975., -1588005., -1588035., -1588065., -1588095., -1588125.,\n",
       "       -1588155., -1588185., -1588215., -1588245., -1588275., -1588305.,\n",
       "       -1588335., -1588365., -1588395., -1588425., -1588455., -1588485.,\n",
       "       -1588515., -1588545., -1588575., -1588605., -1588635., -1588665.,\n",
       "       -1588695., -1588725., -1588755., -1588785., -1588815., -1588845.,\n",
       "       -1588875., -1588905., -1588935., -1588965., -1588995., -1589025.,\n",
       "       -1589055., -1589085., -1589115., -1589145., -1589175., -1589205.,\n",
       "       -1589235., -1589265., -1589295., -1589325., -1589355., -1589385.,\n",
       "       -1589415., -1589445., -1589475., -1589505., -1589535., -1589565.,\n",
       "       -1589595., -1589625., -1589655., -1589685., -1589715., -1589745.,\n",
       "       -1589775., -1589805., -1589835., -1589865., -1589895., -1589925.,\n",
       "       -1589955., -1589985., -1590015., -1590045., -1590075., -1590105.,\n",
       "       -1590135., -1590165., -1590195., -1590225., -1590255.])</pre></div></li><li class='xr-var-item'><div class='xr-var-name'><span class='xr-has-index'>x</span></div><div class='xr-var-dims'>(x)</div><div class='xr-var-dtype'>float64</div><div class='xr-var-preview xr-preview'>1.373e+06 1.374e+06 ... 1.378e+06</div><input id='attrs-804c7023-537c-4658-bfe0-74cbf5fb3422' class='xr-var-attrs-in' type='checkbox' ><label for='attrs-804c7023-537c-4658-bfe0-74cbf5fb3422' title='Show/Hide attributes'><svg class='icon xr-icon-file-text2'><use xlink:href='#icon-file-text2'></use></svg></label><input id='data-2411916d-a511-4bd7-a6a7-f3d61948f342' class='xr-var-data-in' type='checkbox'><label for='data-2411916d-a511-4bd7-a6a7-f3d61948f342' title='Show/Hide data repr'><svg class='icon xr-icon-database'><use xlink:href='#icon-database'></use></svg></label><div class='xr-var-attrs'><dl class='xr-attrs'><dt><span>units :</span></dt><dd>metre</dd><dt><span>resolution :</span></dt><dd>30.0</dd><dt><span>crs :</span></dt><dd>PROJCS[&quot;GDA94 / Australian Albers&quot;,GEOGCS[&quot;GDA94&quot;,DATUM[&quot;Geocentric_Datum_of_Australia_1994&quot;,SPHEROID[&quot;GRS 1980&quot;,6378137,298.257222101,AUTHORITY[&quot;EPSG&quot;,&quot;7019&quot;]],AUTHORITY[&quot;EPSG&quot;,&quot;6283&quot;]],PRIMEM[&quot;Greenwich&quot;,0,AUTHORITY[&quot;EPSG&quot;,&quot;8901&quot;]],UNIT[&quot;degree&quot;,0.0174532925199433,AUTHORITY[&quot;EPSG&quot;,&quot;9122&quot;]],AUTHORITY[&quot;EPSG&quot;,&quot;4283&quot;]],PROJECTION[&quot;Albers_Conic_Equal_Area&quot;],PARAMETER[&quot;latitude_of_center&quot;,0],PARAMETER[&quot;longitude_of_center&quot;,132],PARAMETER[&quot;standard_parallel_1&quot;,-18],PARAMETER[&quot;standard_parallel_2&quot;,-36],PARAMETER[&quot;false_easting&quot;,0],PARAMETER[&quot;false_northing&quot;,0],UNIT[&quot;metre&quot;,1,AUTHORITY[&quot;EPSG&quot;,&quot;9001&quot;]],AXIS[&quot;Easting&quot;,EAST],AXIS[&quot;Northing&quot;,NORTH],AUTHORITY[&quot;EPSG&quot;,&quot;3577&quot;]]</dd></dl></div><div class='xr-var-data'><pre>array([1373475., 1373505., 1373535., 1373565., 1373595., 1373625., 1373655.,\n",
       "       1373685., 1373715., 1373745., 1373775., 1373805., 1373835., 1373865.,\n",
       "       1373895., 1373925., 1373955., 1373985., 1374015., 1374045., 1374075.,\n",
       "       1374105., 1374135., 1374165., 1374195., 1374225., 1374255., 1374285.,\n",
       "       1374315., 1374345., 1374375., 1374405., 1374435., 1374465., 1374495.,\n",
       "       1374525., 1374555., 1374585., 1374615., 1374645., 1374675., 1374705.,\n",
       "       1374735., 1374765., 1374795., 1374825., 1374855., 1374885., 1374915.,\n",
       "       1374945., 1374975., 1375005., 1375035., 1375065., 1375095., 1375125.,\n",
       "       1375155., 1375185., 1375215., 1375245., 1375275., 1375305., 1375335.,\n",
       "       1375365., 1375395., 1375425., 1375455., 1375485., 1375515., 1375545.,\n",
       "       1375575., 1375605., 1375635., 1375665., 1375695., 1375725., 1375755.,\n",
       "       1375785., 1375815., 1375845., 1375875., 1375905., 1375935., 1375965.,\n",
       "       1375995., 1376025., 1376055., 1376085., 1376115., 1376145., 1376175.,\n",
       "       1376205., 1376235., 1376265., 1376295., 1376325., 1376355., 1376385.,\n",
       "       1376415., 1376445., 1376475., 1376505., 1376535., 1376565., 1376595.,\n",
       "       1376625., 1376655., 1376685., 1376715., 1376745., 1376775., 1376805.,\n",
       "       1376835., 1376865., 1376895., 1376925., 1376955., 1376985., 1377015.,\n",
       "       1377045., 1377075., 1377105., 1377135., 1377165., 1377195., 1377225.,\n",
       "       1377255., 1377285., 1377315., 1377345., 1377375., 1377405., 1377435.,\n",
       "       1377465., 1377495., 1377525., 1377555., 1377585., 1377615., 1377645.,\n",
       "       1377675., 1377705., 1377735., 1377765., 1377795., 1377825., 1377855.,\n",
       "       1377885., 1377915.])</pre></div></li><li class='xr-var-item'><div class='xr-var-name'><span>spatial_ref</span></div><div class='xr-var-dims'>()</div><div class='xr-var-dtype'>int32</div><div class='xr-var-preview xr-preview'>3577</div><input id='attrs-f3f4150d-ec26-4348-aa3e-7dac3b2e4744' class='xr-var-attrs-in' type='checkbox' ><label for='attrs-f3f4150d-ec26-4348-aa3e-7dac3b2e4744' title='Show/Hide attributes'><svg class='icon xr-icon-file-text2'><use xlink:href='#icon-file-text2'></use></svg></label><input id='data-fdc88695-5cee-4e4b-9fac-bf149badbc11' class='xr-var-data-in' type='checkbox'><label for='data-fdc88695-5cee-4e4b-9fac-bf149badbc11' title='Show/Hide data repr'><svg class='icon xr-icon-database'><use xlink:href='#icon-database'></use></svg></label><div class='xr-var-attrs'><dl class='xr-attrs'><dt><span>spatial_ref :</span></dt><dd>PROJCS[&quot;GDA94 / Australian Albers&quot;,GEOGCS[&quot;GDA94&quot;,DATUM[&quot;Geocentric_Datum_of_Australia_1994&quot;,SPHEROID[&quot;GRS 1980&quot;,6378137,298.257222101,AUTHORITY[&quot;EPSG&quot;,&quot;7019&quot;]],AUTHORITY[&quot;EPSG&quot;,&quot;6283&quot;]],PRIMEM[&quot;Greenwich&quot;,0,AUTHORITY[&quot;EPSG&quot;,&quot;8901&quot;]],UNIT[&quot;degree&quot;,0.0174532925199433,AUTHORITY[&quot;EPSG&quot;,&quot;9122&quot;]],AUTHORITY[&quot;EPSG&quot;,&quot;4283&quot;]],PROJECTION[&quot;Albers_Conic_Equal_Area&quot;],PARAMETER[&quot;latitude_of_center&quot;,0],PARAMETER[&quot;longitude_of_center&quot;,132],PARAMETER[&quot;standard_parallel_1&quot;,-18],PARAMETER[&quot;standard_parallel_2&quot;,-36],PARAMETER[&quot;false_easting&quot;,0],PARAMETER[&quot;false_northing&quot;,0],UNIT[&quot;metre&quot;,1,AUTHORITY[&quot;EPSG&quot;,&quot;9001&quot;]],AXIS[&quot;Easting&quot;,EAST],AXIS[&quot;Northing&quot;,NORTH],AUTHORITY[&quot;EPSG&quot;,&quot;3577&quot;]]</dd><dt><span>grid_mapping_name :</span></dt><dd>albers_conical_equal_area</dd></dl></div><div class='xr-var-data'><pre>array(3577, dtype=int32)</pre></div></li><li class='xr-var-item'><div class='xr-var-name'><span>time</span></div><div class='xr-var-dims'>()</div><div class='xr-var-dtype'>datetime64[ns]</div><div class='xr-var-preview xr-preview'>2021-12-21T14:26:59.325771</div><input id='attrs-370d5b10-7181-438b-bf9f-bdf9127ce440' class='xr-var-attrs-in' type='checkbox' ><label for='attrs-370d5b10-7181-438b-bf9f-bdf9127ce440' title='Show/Hide attributes'><svg class='icon xr-icon-file-text2'><use xlink:href='#icon-file-text2'></use></svg></label><input id='data-be30c1d9-60b6-42f8-8654-ca48c268b4e5' class='xr-var-data-in' type='checkbox'><label for='data-be30c1d9-60b6-42f8-8654-ca48c268b4e5' title='Show/Hide data repr'><svg class='icon xr-icon-database'><use xlink:href='#icon-database'></use></svg></label><div class='xr-var-attrs'><dl class='xr-attrs'><dt><span>units :</span></dt><dd>seconds since 1970-01-01 00:00:00</dd></dl></div><div class='xr-var-data'><pre>array(&#x27;2021-12-21T14:26:59.325771000&#x27;, dtype=&#x27;datetime64[ns]&#x27;)</pre></div></li></ul></div></li><li class='xr-section-item'><input id='section-f60d6644-15c7-4219-bfad-c0fc7dcf20c6' class='xr-section-summary-in' type='checkbox'  checked><label for='section-f60d6644-15c7-4219-bfad-c0fc7dcf20c6' class='xr-section-summary' >Data variables: <span>(13)</span></label><div class='xr-section-inline-details'></div><div class='xr-section-details'><ul class='xr-var-list'><li class='xr-var-item'><div class='xr-var-name'><span>elevation</span></div><div class='xr-var-dims'>(y, x)</div><div class='xr-var-dtype'>float64</div><div class='xr-var-preview xr-preview'>nan nan nan nan ... nan nan nan nan</div><input id='attrs-97ad224f-9d96-4511-a6ca-a37a95762c2e' class='xr-var-attrs-in' type='checkbox' disabled><label for='attrs-97ad224f-9d96-4511-a6ca-a37a95762c2e' title='Show/Hide attributes'><svg class='icon xr-icon-file-text2'><use xlink:href='#icon-file-text2'></use></svg></label><input id='data-78a83536-2cda-44cb-bb56-fca21e5ac80c' class='xr-var-data-in' type='checkbox'><label for='data-78a83536-2cda-44cb-bb56-fca21e5ac80c' title='Show/Hide data repr'><svg class='icon xr-icon-database'><use xlink:href='#icon-database'></use></svg></label><div class='xr-var-attrs'><dl class='xr-attrs'></dl></div><div class='xr-var-data'><pre>array([[nan, nan, nan, ..., nan, nan, nan],\n",
       "       [nan, nan, nan, ..., nan, nan, nan],\n",
       "       [nan, nan, nan, ..., nan, nan, nan],\n",
       "       ...,\n",
       "       [nan, nan, nan, ..., nan, nan, nan],\n",
       "       [nan, nan, nan, ..., nan, nan, nan],\n",
       "       [nan, nan, nan, ..., nan, nan, nan]])</pre></div></li><li class='xr-var-item'><div class='xr-var-name'><span>elevation_uncertainty</span></div><div class='xr-var-dims'>(y, x)</div><div class='xr-var-dtype'>float64</div><div class='xr-var-preview xr-preview'>nan nan nan nan ... nan nan nan nan</div><input id='attrs-bbb7619a-5c41-42ed-8147-e64b586f04ac' class='xr-var-attrs-in' type='checkbox' disabled><label for='attrs-bbb7619a-5c41-42ed-8147-e64b586f04ac' title='Show/Hide attributes'><svg class='icon xr-icon-file-text2'><use xlink:href='#icon-file-text2'></use></svg></label><input id='data-0d932880-9476-4a98-a305-dc345f901298' class='xr-var-data-in' type='checkbox'><label for='data-0d932880-9476-4a98-a305-dc345f901298' title='Show/Hide data repr'><svg class='icon xr-icon-database'><use xlink:href='#icon-database'></use></svg></label><div class='xr-var-attrs'><dl class='xr-attrs'></dl></div><div class='xr-var-data'><pre>array([[nan, nan, nan, ..., nan, nan, nan],\n",
       "       [nan, nan, nan, ..., nan, nan, nan],\n",
       "       [nan, nan, nan, ..., nan, nan, nan],\n",
       "       ...,\n",
       "       [nan, nan, nan, ..., nan, nan, nan],\n",
       "       [nan, nan, nan, ..., nan, nan, nan],\n",
       "       [nan, nan, nan, ..., nan, nan, nan]])</pre></div></li><li class='xr-var-item'><div class='xr-var-name'><span>qa_ndwi_corr</span></div><div class='xr-var-dims'>(y, x)</div><div class='xr-var-dtype'>float64</div><div class='xr-var-preview xr-preview'>nan nan nan ... -0.1041 -0.11</div><input id='attrs-054e09be-20fb-46e7-aa24-1e5ab49e3c56' class='xr-var-attrs-in' type='checkbox' disabled><label for='attrs-054e09be-20fb-46e7-aa24-1e5ab49e3c56' title='Show/Hide attributes'><svg class='icon xr-icon-file-text2'><use xlink:href='#icon-file-text2'></use></svg></label><input id='data-d50002fa-0ca6-470f-a88d-d1e254148f80' class='xr-var-data-in' type='checkbox'><label for='data-d50002fa-0ca6-470f-a88d-d1e254148f80' title='Show/Hide data repr'><svg class='icon xr-icon-database'><use xlink:href='#icon-database'></use></svg></label><div class='xr-var-attrs'><dl class='xr-attrs'></dl></div><div class='xr-var-data'><pre>array([[        nan,         nan,         nan, ..., -0.08629789,\n",
       "        -0.12705803, -0.10406039],\n",
       "       [        nan,         nan,         nan, ..., -0.12314202,\n",
       "        -0.12858883, -0.10309604],\n",
       "       [        nan,         nan,         nan, ..., -0.12604876,\n",
       "        -0.12601437, -0.0735768 ],\n",
       "       ...,\n",
       "       [        nan,         nan,         nan, ..., -0.08467927,\n",
       "        -0.06641435, -0.05819378],\n",
       "       [        nan,         nan,         nan, ..., -0.10800436,\n",
       "        -0.0969396 , -0.11031368],\n",
       "       [        nan,         nan,         nan, ..., -0.07065733,\n",
       "        -0.10408352, -0.10997069]])</pre></div></li><li class='xr-var-item'><div class='xr-var-name'><span>qa_ndwi_freq</span></div><div class='xr-var-dims'>(y, x)</div><div class='xr-var-dtype'>float64</div><div class='xr-var-preview xr-preview'>0.995 0.995 1.0 ... 0.958 0.962</div><input id='attrs-52f53d93-2621-4014-9c27-a248fc37c744' class='xr-var-attrs-in' type='checkbox' disabled><label for='attrs-52f53d93-2621-4014-9c27-a248fc37c744' title='Show/Hide attributes'><svg class='icon xr-icon-file-text2'><use xlink:href='#icon-file-text2'></use></svg></label><input id='data-dbc891a8-1971-4962-a76a-21794f5f68ca' class='xr-var-data-in' type='checkbox'><label for='data-dbc891a8-1971-4962-a76a-21794f5f68ca' title='Show/Hide data repr'><svg class='icon xr-icon-database'><use xlink:href='#icon-database'></use></svg></label><div class='xr-var-attrs'><dl class='xr-attrs'></dl></div><div class='xr-var-data'><pre>array([[0.995     , 0.9950495 , 1.        , ..., 0.9877551 , 0.97975709,\n",
       "        0.97560976],\n",
       "       [0.9950495 , 0.99009901, 0.99009901, ..., 0.98367347, 0.97959184,\n",
       "        0.9757085 ],\n",
       "       [0.99507389, 0.9950495 , 1.        , ..., 0.98353909, 0.98360656,\n",
       "        0.9795082 ],\n",
       "       ...,\n",
       "       [0.        , 0.        , 0.        , ..., 0.95384615, 0.96138996,\n",
       "        0.96551724],\n",
       "       [0.        , 0.        , 0.        , ..., 0.95719844, 0.96525097,\n",
       "        0.96168582],\n",
       "       [0.        , 0.        , 0.        , ..., 0.9581749 , 0.95801527,\n",
       "        0.96197719]])</pre></div></li><li class='xr-var-item'><div class='xr-var-name'><span>extents</span></div><div class='xr-var-dims'>(y, x)</div><div class='xr-var-dtype'>float64</div><div class='xr-var-preview xr-preview'>3.0 3.0 3.0 3.0 ... 3.0 3.0 3.0 3.0</div><input id='attrs-278f3472-5812-4545-bffa-6a75270051a5' class='xr-var-attrs-in' type='checkbox' disabled><label for='attrs-278f3472-5812-4545-bffa-6a75270051a5' title='Show/Hide attributes'><svg class='icon xr-icon-file-text2'><use xlink:href='#icon-file-text2'></use></svg></label><input id='data-c55a7fb4-5f16-4144-9d59-ec6628c2f713' class='xr-var-data-in' type='checkbox'><label for='data-c55a7fb4-5f16-4144-9d59-ec6628c2f713' title='Show/Hide data repr'><svg class='icon xr-icon-database'><use xlink:href='#icon-database'></use></svg></label><div class='xr-var-attrs'><dl class='xr-attrs'></dl></div><div class='xr-var-data'><pre>array([[3., 3., 3., ..., 3., 3., 3.],\n",
       "       [3., 3., 3., ..., 3., 3., 3.],\n",
       "       [3., 3., 3., ..., 3., 3., 3.],\n",
       "       ...,\n",
       "       [0., 0., 0., ..., 3., 3., 3.],\n",
       "       [0., 0., 0., ..., 3., 3., 3.],\n",
       "       [0., 0., 0., ..., 3., 3., 3.]])</pre></div></li><li class='xr-var-item'><div class='xr-var-name'><span>exposure_unfiltered</span></div><div class='xr-var-dims'>(y, x)</div><div class='xr-var-dtype'>float64</div><div class='xr-var-preview xr-preview'>nan nan nan nan ... nan nan nan nan</div><input id='attrs-6e028a59-1b68-4e8b-9b41-4648f15afade' class='xr-var-attrs-in' type='checkbox' disabled><label for='attrs-6e028a59-1b68-4e8b-9b41-4648f15afade' title='Show/Hide attributes'><svg class='icon xr-icon-file-text2'><use xlink:href='#icon-file-text2'></use></svg></label><input id='data-430ca160-6dea-4424-8e76-019ab43e1193' class='xr-var-data-in' type='checkbox'><label for='data-430ca160-6dea-4424-8e76-019ab43e1193' title='Show/Hide data repr'><svg class='icon xr-icon-database'><use xlink:href='#icon-database'></use></svg></label><div class='xr-var-attrs'><dl class='xr-attrs'></dl></div><div class='xr-var-data'><pre>array([[nan, nan, nan, ..., nan, nan, nan],\n",
       "       [nan, nan, nan, ..., nan, nan, nan],\n",
       "       [nan, nan, nan, ..., nan, nan, nan],\n",
       "       ...,\n",
       "       [nan, nan, nan, ..., nan, nan, nan],\n",
       "       [nan, nan, nan, ..., nan, nan, nan],\n",
       "       [nan, nan, nan, ..., nan, nan, nan]])</pre></div></li><li class='xr-var-item'><div class='xr-var-name'><span>ta_lat</span></div><div class='xr-var-dims'>(y, x)</div><div class='xr-var-dtype'>float32</div><div class='xr-var-preview xr-preview'>-1.303 -1.303 ... -1.317 -1.317</div><input id='attrs-2a7d5bbc-2d02-4d2b-bb8d-d2e29b7cacc9' class='xr-var-attrs-in' type='checkbox' disabled><label for='attrs-2a7d5bbc-2d02-4d2b-bb8d-d2e29b7cacc9' title='Show/Hide attributes'><svg class='icon xr-icon-file-text2'><use xlink:href='#icon-file-text2'></use></svg></label><input id='data-2e95c89e-243e-4f2b-a0a1-96f53a207a3d' class='xr-var-data-in' type='checkbox'><label for='data-2e95c89e-243e-4f2b-a0a1-96f53a207a3d' title='Show/Hide data repr'><svg class='icon xr-icon-database'><use xlink:href='#icon-database'></use></svg></label><div class='xr-var-attrs'><dl class='xr-attrs'></dl></div><div class='xr-var-data'><pre>array([[-1.3026893, -1.3026894, -1.3026894, ..., -1.3110572, -1.3111638,\n",
       "        -1.3112704],\n",
       "       [-1.3028541, -1.3028541, -1.3028541, ..., -1.3111511, -1.3112568,\n",
       "        -1.3113625],\n",
       "       [-1.3030187, -1.3030188, -1.3030188, ..., -1.311245 , -1.3113497,\n",
       "        -1.3114545],\n",
       "       ...,\n",
       "       [-1.3122863, -1.3123218, -1.3123572, ..., -1.3170285, -1.3170584,\n",
       "        -1.3170884],\n",
       "       [-1.3123177, -1.3123537, -1.3123899, ..., -1.3170552, -1.3170846,\n",
       "        -1.3171139],\n",
       "       [-1.3123491, -1.3123858, -1.3124225, ..., -1.317082 , -1.3171108,\n",
       "        -1.3171395]], dtype=float32)</pre></div></li><li class='xr-var-item'><div class='xr-var-name'><span>ta_hat</span></div><div class='xr-var-dims'>(y, x)</div><div class='xr-var-dtype'>float32</div><div class='xr-var-preview xr-preview'>1.449 1.448 1.448 ... 1.448 1.448</div><input id='attrs-e0ebce0b-ec9c-4d64-9d9b-353b794fbd6c' class='xr-var-attrs-in' type='checkbox' disabled><label for='attrs-e0ebce0b-ec9c-4d64-9d9b-353b794fbd6c' title='Show/Hide attributes'><svg class='icon xr-icon-file-text2'><use xlink:href='#icon-file-text2'></use></svg></label><input id='data-a487d74c-63bb-42a4-bd94-acf1b9c2efe8' class='xr-var-data-in' type='checkbox'><label for='data-a487d74c-63bb-42a4-bd94-acf1b9c2efe8' title='Show/Hide data repr'><svg class='icon xr-icon-database'><use xlink:href='#icon-database'></use></svg></label><div class='xr-var-attrs'><dl class='xr-attrs'></dl></div><div class='xr-var-data'><pre>array([[1.4485381, 1.4484391, 1.4483402, ..., 1.4437071, 1.4437306,\n",
       "        1.4437541],\n",
       "       [1.4486254, 1.4485246, 1.4484239, ..., 1.4437646, 1.4437892,\n",
       "        1.443814 ],\n",
       "       [1.4487128, 1.4486101, 1.4485074, ..., 1.4438219, 1.4438479,\n",
       "        1.443874 ],\n",
       "       ...,\n",
       "       [1.4472224, 1.447184 , 1.4471457, ..., 1.4479643, 1.4480067,\n",
       "        1.4480492],\n",
       "       [1.4471256, 1.4470899, 1.4470543, ..., 1.4479915, 1.4480331,\n",
       "        1.4480748],\n",
       "       [1.4470288, 1.4469959, 1.4469628, ..., 1.4480186, 1.4480596,\n",
       "        1.4481004]], dtype=float32)</pre></div></li><li class='xr-var-item'><div class='xr-var-name'><span>ta_lot</span></div><div class='xr-var-dims'>(y, x)</div><div class='xr-var-dtype'>float32</div><div class='xr-var-preview xr-preview'>-0.7852 -0.7852 ... -0.7974 -0.7974</div><input id='attrs-b874fd45-aa5e-493f-8ebd-3111a58c8017' class='xr-var-attrs-in' type='checkbox' disabled><label for='attrs-b874fd45-aa5e-493f-8ebd-3111a58c8017' title='Show/Hide attributes'><svg class='icon xr-icon-file-text2'><use xlink:href='#icon-file-text2'></use></svg></label><input id='data-5c7f6299-fd8a-431c-8dea-c2e5d02a3214' class='xr-var-data-in' type='checkbox'><label for='data-5c7f6299-fd8a-431c-8dea-c2e5d02a3214' title='Show/Hide data repr'><svg class='icon xr-icon-database'><use xlink:href='#icon-database'></use></svg></label><div class='xr-var-attrs'><dl class='xr-attrs'></dl></div><div class='xr-var-data'><pre>array([[-0.7851821 , -0.7852404 , -0.78529865, ..., -0.7940722 ,\n",
       "        -0.7941066 , -0.79414105],\n",
       "       [-0.7851966 , -0.7852552 , -0.7853138 , ..., -0.79417956,\n",
       "        -0.7942134 , -0.7942472 ],\n",
       "       [-0.78521115, -0.78527004, -0.7853289 , ..., -0.79428697,\n",
       "        -0.79432017, -0.79435337],\n",
       "       ...,\n",
       "       [-0.7917033 , -0.79173684, -0.7917704 , ..., -0.7973691 ,\n",
       "        -0.7973864 , -0.79740363],\n",
       "       [-0.79177356, -0.7918068 , -0.7918401 , ..., -0.7973889 ,\n",
       "        -0.7974061 , -0.79742324],\n",
       "       [-0.7918439 , -0.7918768 , -0.7919097 , ..., -0.79740864,\n",
       "        -0.79742575, -0.7974428 ]], dtype=float32)</pre></div></li><li class='xr-var-item'><div class='xr-var-name'><span>ta_hot</span></div><div class='xr-var-dims'>(y, x)</div><div class='xr-var-dtype'>float32</div><div class='xr-var-preview xr-preview'>1.423 1.423 1.423 ... 1.415 1.415</div><input id='attrs-43afdd09-7370-46a0-912a-f6dfe199b74e' class='xr-var-attrs-in' type='checkbox' disabled><label for='attrs-43afdd09-7370-46a0-912a-f6dfe199b74e' title='Show/Hide attributes'><svg class='icon xr-icon-file-text2'><use xlink:href='#icon-file-text2'></use></svg></label><input id='data-6cd773c5-eee1-4dea-b47c-400f647877cb' class='xr-var-data-in' type='checkbox'><label for='data-6cd773c5-eee1-4dea-b47c-400f647877cb' title='Show/Hide data repr'><svg class='icon xr-icon-database'><use xlink:href='#icon-database'></use></svg></label><div class='xr-var-attrs'><dl class='xr-attrs'></dl></div><div class='xr-var-data'><pre>array([[1.4232814, 1.4231931, 1.4231046, ..., 1.4118087, 1.4118415,\n",
       "        1.4118742],\n",
       "       [1.4232707, 1.4231818, 1.4230928, ..., 1.4117303, 1.411764 ,\n",
       "        1.4117978],\n",
       "       [1.4232601, 1.4231704, 1.4230809, ..., 1.411652 , 1.4116867,\n",
       "        1.4117212],\n",
       "       ...,\n",
       "       [1.4201207, 1.42008  , 1.4200392, ..., 1.4149424, 1.4149673,\n",
       "        1.4149921],\n",
       "       [1.4200872, 1.420047 , 1.4200069, ..., 1.4149897, 1.4150143,\n",
       "        1.415039 ],\n",
       "       [1.4200537, 1.4200143, 1.4199747, ..., 1.4150369, 1.4150614,\n",
       "        1.4150857]], dtype=float32)</pre></div></li><li class='xr-var-item'><div class='xr-var-name'><span>ta_spread</span></div><div class='xr-var-dims'>(y, x)</div><div class='xr-var-dtype'>float32</div><div class='xr-var-preview xr-preview'>80.27 80.27 80.28 ... 80.01 80.01</div><input id='attrs-6f1ab10e-2e27-4f5b-90f9-e0e4b4a8934d' class='xr-var-attrs-in' type='checkbox' disabled><label for='attrs-6f1ab10e-2e27-4f5b-90f9-e0e4b4a8934d' title='Show/Hide attributes'><svg class='icon xr-icon-file-text2'><use xlink:href='#icon-file-text2'></use></svg></label><input id='data-a7a36b11-da0e-476c-8323-724adc42dbc3' class='xr-var-data-in' type='checkbox'><label for='data-a7a36b11-da0e-476c-8323-724adc42dbc3' title='Show/Hide data repr'><svg class='icon xr-icon-database'><use xlink:href='#icon-database'></use></svg></label><div class='xr-var-attrs'><dl class='xr-attrs'></dl></div><div class='xr-var-data'><pre>array([[80.27194 , 80.27373 , 80.27552 , ..., 80.07512 , 80.073784,\n",
       "        80.07243 ],\n",
       "       [80.26471 , 80.26656 , 80.268394, ..., 80.07177 , 80.07044 ,\n",
       "        80.06909 ],\n",
       "       [80.257515, 80.25939 , 80.26126 , ..., 80.068436, 80.0671  ,\n",
       "        80.06576 ],\n",
       "       ...,\n",
       "       [80.152824, 80.15264 , 80.152466, ..., 80.011475, 80.0109  ,\n",
       "        80.01032 ],\n",
       "       [80.156044, 80.15579 , 80.15552 , ..., 80.01234 , 80.0118  ,\n",
       "        80.01125 ],\n",
       "       [80.15929 , 80.158936, 80.15859 , ..., 80.01321 , 80.01269 ,\n",
       "        80.01217 ]], dtype=float32)</pre></div></li><li class='xr-var-item'><div class='xr-var-name'><span>ta_offset_low</span></div><div class='xr-var-dims'>(y, x)</div><div class='xr-var-dtype'>float32</div><div class='xr-var-preview xr-preview'>18.81 18.81 18.81 ... 18.79 18.79</div><input id='attrs-1085e634-e491-499f-91f7-7ecf36ad16cf' class='xr-var-attrs-in' type='checkbox' disabled><label for='attrs-1085e634-e491-499f-91f7-7ecf36ad16cf' title='Show/Hide attributes'><svg class='icon xr-icon-file-text2'><use xlink:href='#icon-file-text2'></use></svg></label><input id='data-587e833a-3f3b-4ee2-b5b6-77e40eb28709' class='xr-var-data-in' type='checkbox'><label for='data-587e833a-3f3b-4ee2-b5b6-77e40eb28709' title='Show/Hide data repr'><svg class='icon xr-icon-database'><use xlink:href='#icon-database'></use></svg></label><div class='xr-var-attrs'><dl class='xr-attrs'></dl></div><div class='xr-var-data'><pre>array([[18.81005 , 18.808607, 18.807169, ..., 18.766941, 18.768675,\n",
       "        18.770407],\n",
       "       [18.813784, 18.812347, 18.810905, ..., 18.765423, 18.767141,\n",
       "        18.768862],\n",
       "       [18.817516, 18.816084, 18.814644, ..., 18.7639  , 18.76561 ,\n",
       "        18.767313],\n",
       "       ...,\n",
       "       [18.86506 , 18.865152, 18.865238, ..., 18.79424 , 18.794207,\n",
       "        18.794172],\n",
       "       [18.864101, 18.864197, 18.864298, ..., 18.794125, 18.794083,\n",
       "        18.794039],\n",
       "       [18.863136, 18.863247, 18.863361, ..., 18.794016, 18.79396 ,\n",
       "        18.793911]], dtype=float32)</pre></div></li><li class='xr-var-item'><div class='xr-var-name'><span>ta_offset_high</span></div><div class='xr-var-dims'>(y, x)</div><div class='xr-var-dtype'>float32</div><div class='xr-var-preview xr-preview'>0.918 0.9177 0.9173 ... 1.193 1.194</div><input id='attrs-df4d116e-1eae-4906-a80a-7ff3b8770c14' class='xr-var-attrs-in' type='checkbox' disabled><label for='attrs-df4d116e-1eae-4906-a80a-7ff3b8770c14' title='Show/Hide attributes'><svg class='icon xr-icon-file-text2'><use xlink:href='#icon-file-text2'></use></svg></label><input id='data-44b8c3fe-6cb3-45f2-b7c8-273ba325ee86' class='xr-var-data-in' type='checkbox'><label for='data-44b8c3fe-6cb3-45f2-b7c8-273ba325ee86' title='Show/Hide data repr'><svg class='icon xr-icon-database'><use xlink:href='#icon-database'></use></svg></label><div class='xr-var-attrs'><dl class='xr-attrs'></dl></div><div class='xr-var-data'><pre>array([[0.91801333, 0.91766065, 0.9173124 , ..., 1.1579349 , 1.1575428 ,\n",
       "        1.157155  ],\n",
       "       [0.9214949 , 0.92109543, 0.9207002 , ..., 1.1628042 , 1.1624205 ,\n",
       "        1.1620408 ],\n",
       "       [0.9249716 , 0.9245295 , 0.9240873 , ..., 1.1676645 , 1.1672933 ,\n",
       "        1.1669306 ],\n",
       "       ...,\n",
       "       [0.9821182 , 0.98220557, 0.9822973 , ..., 1.1942862 , 1.1948886 ,\n",
       "        1.1954954 ],\n",
       "       [0.97984743, 0.98001146, 0.9801755 , ..., 1.1935343 , 1.1941202 ,\n",
       "        1.194706  ],\n",
       "       [0.97757673, 0.977813  , 0.9780493 , ..., 1.1927824 , 1.1933516 ,\n",
       "        1.1939209 ]], dtype=float32)</pre></div></li></ul></div></li><li class='xr-section-item'><input id='section-c2d9eac2-f14f-47ed-8234-5cafd630a5a4' class='xr-section-summary-in' type='checkbox'  ><label for='section-c2d9eac2-f14f-47ed-8234-5cafd630a5a4' class='xr-section-summary' >Indexes: <span>(2)</span></label><div class='xr-section-inline-details'></div><div class='xr-section-details'><ul class='xr-var-list'><li class='xr-var-item'><div class='xr-index-name'><div>y</div></div><div class='xr-index-preview'>PandasIndex</div><div></div><input id='index-e1a1a9cc-98ea-47fe-97e0-69943e224870' class='xr-index-data-in' type='checkbox'/><label for='index-e1a1a9cc-98ea-47fe-97e0-69943e224870' title='Show/Hide index repr'><svg class='icon xr-icon-database'><use xlink:href='#icon-database'></use></svg></label><div class='xr-index-data'><pre>PandasIndex(Float64Index([-1587075.0, -1587105.0, -1587135.0, -1587165.0, -1587195.0,\n",
       "              -1587225.0, -1587255.0, -1587285.0, -1587315.0, -1587345.0,\n",
       "              ...\n",
       "              -1589985.0, -1590015.0, -1590045.0, -1590075.0, -1590105.0,\n",
       "              -1590135.0, -1590165.0, -1590195.0, -1590225.0, -1590255.0],\n",
       "             dtype=&#x27;float64&#x27;, name=&#x27;y&#x27;, length=107))</pre></div></li><li class='xr-var-item'><div class='xr-index-name'><div>x</div></div><div class='xr-index-preview'>PandasIndex</div><div></div><input id='index-68b5be7a-0ab7-4b1e-8ae5-b3ad9b211cb9' class='xr-index-data-in' type='checkbox'/><label for='index-68b5be7a-0ab7-4b1e-8ae5-b3ad9b211cb9' title='Show/Hide index repr'><svg class='icon xr-icon-database'><use xlink:href='#icon-database'></use></svg></label><div class='xr-index-data'><pre>PandasIndex(Float64Index([1373475.0, 1373505.0, 1373535.0, 1373565.0, 1373595.0, 1373625.0,\n",
       "              1373655.0, 1373685.0, 1373715.0, 1373745.0,\n",
       "              ...\n",
       "              1377645.0, 1377675.0, 1377705.0, 1377735.0, 1377765.0, 1377795.0,\n",
       "              1377825.0, 1377855.0, 1377885.0, 1377915.0],\n",
       "             dtype=&#x27;float64&#x27;, name=&#x27;x&#x27;, length=149))</pre></div></li></ul></div></li><li class='xr-section-item'><input id='section-41c97db7-eb17-4468-9d5e-002d34623216' class='xr-section-summary-in' type='checkbox' disabled ><label for='section-41c97db7-eb17-4468-9d5e-002d34623216' class='xr-section-summary'  title='Expand/collapse section'>Attributes: <span>(0)</span></label><div class='xr-section-inline-details'></div><div class='xr-section-details'><dl class='xr-attrs'></dl></div></li></ul></div></div>"
      ],
      "text/plain": [
       "<xarray.Dataset>\n",
       "Dimensions:                (y: 107, x: 149)\n",
       "Coordinates:\n",
       "  * y                      (y) float64 -1.587e+06 -1.587e+06 ... -1.59e+06\n",
       "  * x                      (x) float64 1.373e+06 1.374e+06 ... 1.378e+06\n",
       "    spatial_ref            int32 3577\n",
       "    time                   datetime64[ns] 2021-12-21T14:26:59.325771\n",
       "Data variables: (12/13)\n",
       "    elevation              (y, x) float64 nan nan nan nan ... nan nan nan nan\n",
       "    elevation_uncertainty  (y, x) float64 nan nan nan nan ... nan nan nan nan\n",
       "    qa_ndwi_corr           (y, x) float64 nan nan nan ... -0.07066 -0.1041 -0.11\n",
       "    qa_ndwi_freq           (y, x) float64 0.995 0.995 1.0 ... 0.9582 0.958 0.962\n",
       "    extents                (y, x) float64 3.0 3.0 3.0 3.0 ... 3.0 3.0 3.0 3.0\n",
       "    exposure_unfiltered    (y, x) float64 nan nan nan nan ... nan nan nan nan\n",
       "    ...                     ...\n",
       "    ta_hat                 (y, x) float32 1.449 1.448 1.448 ... 1.448 1.448\n",
       "    ta_lot                 (y, x) float32 -0.7852 -0.7852 ... -0.7974 -0.7974\n",
       "    ta_hot                 (y, x) float32 1.423 1.423 1.423 ... 1.415 1.415\n",
       "    ta_spread              (y, x) float32 80.27 80.27 80.28 ... 80.01 80.01\n",
       "    ta_offset_low          (y, x) float32 18.81 18.81 18.81 ... 18.79 18.79\n",
       "    ta_offset_high         (y, x) float32 0.918 0.9177 0.9173 ... 1.193 1.194"
      ]
     },
     "execution_count": 25,
     "metadata": {},
     "output_type": "execute_result"
    }
   ],
   "source": [
    "# Inspect contents of ds before plotting\n",
    "ds"
   ]
  },
  {
   "cell_type": "code",
   "execution_count": 26,
   "id": "f188da27",
   "metadata": {
    "tags": []
   },
   "outputs": [
    {
     "data": {
      "text/plain": [
       "<Figure size 640x480 with 0 Axes>"
      ]
     },
     "metadata": {},
     "output_type": "display_data"
    },
    {
     "data": {
      "image/png": "[encoded data removed]",
      "text/plain": [
       "<Figure size 1200x1200 with 22 Axes>"
      ]
     },
     "metadata": {},
     "output_type": "display_data"
    }
   ],
   "source": [
    "plt.clf()\n",
    "\n",
    "fig = plt.figure(figsize=(12, 12), tight_layout=True)\n",
    "ax_dict = fig.subplot_mosaic(\n",
    "    \"\"\"\n",
    "    AAAABBBBCCCC\n",
    "    DDDEEEFFFGGG\n",
    "    HHHIIIJJJKKK\n",
    "    \"\"\",\n",
    "    height_ratios=[1, 0.8, 0.8],\n",
    ")\n",
    "\n",
    "# label_params = dict(add_labels=False, yticks=[], xticks=[])\n",
    "\n",
    "# Plot Elevation with hillshade\n",
    "ds[\"elevation\"].plot.imshow(\n",
    "    ax=ax_dict[\"A\"],\n",
    "    cmap=\"viridis\",\n",
    "    interpolation=\"bilinear\",\n",
    ")\n",
    "# intertidal_hillshade(ds[\"elevation\"], ds[\"qa_ndwi_freq\"], vert_exag=300).plot.imshow(\n",
    "#     ax=ax_dict[\"A\"],\n",
    "#     interpolation=\"bilinear\",\n",
    "# )\n",
    "ax_dict[\"A\"].set_title(\"Elevation (metres AMSL)\")\n",
    "\n",
    "# Plot uncertainty\n",
    "ds[\"elevation_uncertainty\"].plot.imshow(\n",
    "    ax=ax_dict[\"B\"],\n",
    "    cmap=\"magma\",\n",
    "    interpolation=\"bilinear\",\n",
    ")\n",
    "ax_dict[\"B\"].set_title(\"Elevation uncertainty (metres)\")\n",
    "ax_dict[\"B\"].set_facecolor(\"#2E2E2E\")\n",
    "\n",
    "# Plot Exposure\n",
    "ds[\"exposure_unfiltered\"].plot.imshow(\n",
    "    ax=ax_dict[\"C\"],\n",
    "    cmap=cmocean.cm.matter_r,\n",
    "    levels=np.arange(0, 100, 1),\n",
    "    add_labels=False,\n",
    "    yticks=[],\n",
    ")\n",
    "ax_dict[\"C\"].set_title(\"Exposure\")\n",
    "\n",
    "# Plot Extents\n",
    "ds[\"extents\"].astype(np.int16).plot.imshow(ax=ax_dict[\"D\"])\n",
    "ax_dict[\"D\"].set_title(\"Extents\")\n",
    "\n",
    "# Plot the observation spread\n",
    "ds[\"ta_spread\"].where(ds.elevation.notnull()).plot.imshow(\n",
    "    ax=ax_dict[\"E\"],\n",
    "    vmin=0,\n",
    "    vmax=100,\n",
    "    cmap=\"magma\",\n",
    "    cbar_kwargs={\"label\": \"% of tidal range observed\"},\n",
    ")\n",
    "ax_dict[\"E\"].set_title(\"Observation Spread (%)\")\n",
    "\n",
    "# Plot the high-tide offset\n",
    "ds[\"ta_offset_high\"].where(ds.elevation.notnull()).plot.imshow(\n",
    "    ax=ax_dict[\"F\"],\n",
    "    vmin=0,\n",
    "    vmax=40,\n",
    "    cmap=\"magma\",\n",
    "    cbar_kwargs={\"label\": \"% of high tide never observed\"},\n",
    ")\n",
    "ax_dict[\"F\"].set_title(\"High-tide offset (%)\")\n",
    "\n",
    "# Plot the low-tide offset\n",
    "ds[\"ta_offset_low\"].where(ds.elevation.notnull()).plot.imshow(\n",
    "    ax=ax_dict[\"G\"],\n",
    "    vmin=0,\n",
    "    vmax=40,\n",
    "    cmap=\"magma\",\n",
    "    cbar_kwargs={\"label\": \"% of low tide never observed\"},\n",
    ")\n",
    "ax_dict[\"G\"].set_title(\"Low-tide offset (%)\")\n",
    "\n",
    "# Plot the LAT\n",
    "ds[\"ta_lat\"].where(ds.elevation.notnull()).plot.imshow(\n",
    "    ax=ax_dict[\"H\"],\n",
    "    vmin=ds[\"ta_lat\"].min(),\n",
    "    vmax=ds[\"ta_hat\"].max(),\n",
    "    add_labels=False,\n",
    ")\n",
    "ax_dict[\"H\"].set_title(\"Lowest Astronomical Tide\")\n",
    "\n",
    "# Plot the LOT\n",
    "ds[\"ta_lot\"].where(ds.elevation.notnull()).plot.imshow(\n",
    "    ax=ax_dict[\"I\"], vmin=ds[\"ta_lat\"].min(), vmax=ds[\"ta_hat\"].max()\n",
    ")\n",
    "ax_dict[\"I\"].set_title(\"Lowest Observed Tide\")\n",
    "\n",
    "# Plot the HAT\n",
    "ds[\"ta_hat\"].where(ds.elevation.notnull()).plot.imshow(\n",
    "    ax=ax_dict[\"J\"],\n",
    "    vmin=ds[\"ta_lat\"].min(),\n",
    "    vmax=ds[\"ta_hat\"].max(),\n",
    "    add_labels=False,\n",
    "    yticks=[],\n",
    ")\n",
    "ax_dict[\"J\"].set_title(\"Highest Astronomical Tide\")\n",
    "\n",
    "# Plot the HOT\n",
    "ds[\"ta_hot\"].where(ds.elevation.notnull()).plot.imshow(\n",
    "    ax=ax_dict[\"K\"],\n",
    "    vmin=ds[\"ta_lat\"].min(),\n",
    "    vmax=ds[\"ta_hat\"].max(),\n",
    ")\n",
    "ax_dict[\"K\"].set_title(\"Highest Observed Tide\")\n",
    "\n",
    "# # Plot the high and low tidelines with respective offset\n",
    "# ax_dict[\"L\"].set_title(\"Lowtide line and lowtide offset\")\n",
    "# # lowtideline.plot(\n",
    "# #     column=\"offset_lowtide\",\n",
    "# #     legend=True,\n",
    "# #     vmin=0,\n",
    "# #     vmax=40,\n",
    "# #     cmap=\"magma\",\n",
    "# #     ax=ax_dict[\"L\"],\n",
    "# #     zorder=2,\n",
    "# # )\n",
    "# # tidelines_gdf.loc[[0], \"geometry\"].plot(ax=ax_dict[\"L\"], zorder=1)\n",
    "# ax_dict[\"L\"].set_xlim(left=ds.elevation.x.min(), right=ds.elevation.x.max())\n",
    "# ax_dict[\"L\"].set_ylim(bottom=ds.elevation.y.min(), top=ds.elevation.y.max())\n",
    "\n",
    "# ax_dict[\"M\"].set_title(\"Hightide line and hightide offset\")\n",
    "# # hightideline.plot(\n",
    "# #     column=\"offset_hightide\",\n",
    "# #     legend=True,\n",
    "# #     vmin=0,\n",
    "# #     vmax=40,\n",
    "# #     cmap=\"magma\",\n",
    "# #     ax=ax_dict[\"M\"],\n",
    "# #     zorder=2,\n",
    "# # )\n",
    "# # tidelines_gdf.loc[[1], \"geometry\"].plot(ax=ax_dict[\"M\"], zorder=1)\n",
    "# ax_dict[\"M\"].set_yticks([])\n",
    "# ax_dict[\"M\"].set_xlim(left=ds.elevation.x.min(), right=ds.elevation.x.max())\n",
    "# ax_dict[\"M\"].set_ylim(bottom=ds.elevation.y.min(), top=ds.elevation.y.max())\n",
    "\n",
    "# Remove axis labels\n",
    "for label, ax in ax_dict.items():\n",
    "    ax.set_yticks([])\n",
    "    ax.set_xticks([])\n",
    "    ax.set_ylabel(\"\")\n",
    "    ax.set_xlabel(\"\")"
   ]
  },
  {
   "cell_type": "markdown",
   "id": "6f63fbdf",
   "metadata": {
    "tags": []
   },
   "source": [
    "## Export layers"
   ]
  },
  {
   "cell_type": "code",
   "execution_count": null,
   "id": "69e246d3",
   "metadata": {},
   "outputs": [],
   "source": [
    "# Create output folder if it doesn't exist\n",
    "output_dir = f\"data/interim/{study_area}/{start_date}-{end_date}\"\n",
    "os.makedirs(output_dir, exist_ok=True)\n",
    "\n",
    "# Prepare data for export\n",
    "ds[\"qa_ndwi_freq\"] *= 100  # Convert frequency to %\n",
    "\n",
    "# Prepare for export by correctly setting nodata and dtypes, then\n",
    "# export to file\n",
    "ds_prepared = prepare_for_export(ds, output_location=output_dir)"
   ]
  },
  {
   "cell_type": "code",
   "execution_count": null,
   "id": "c3399861",
   "metadata": {},
   "outputs": [],
   "source": [
    "# Export figure\n",
    "fig.savefig(f\"data/interim/{study_area}/{start_date}-{end_date}/outputs.png\")"
   ]
  },
  {
   "cell_type": "markdown",
   "id": "ecbb2c87",
   "metadata": {
    "tags": []
   },
   "source": [
    "### Close Dask client"
   ]
  },
  {
   "cell_type": "code",
   "execution_count": null,
   "id": "0c6c7149",
   "metadata": {},
   "outputs": [],
   "source": [
    "client.close()"
   ]
  }
 ],
 "metadata": {
  "kernelspec": {
   "display_name": "Python 3 (ipykernel)",
   "language": "python",
   "name": "python3"
  },
  "language_info": {
   "codemirror_mode": {
    "name": "ipython",
    "version": 3
   },
   "file_extension": ".py",
   "mimetype": "text/x-python",
   "name": "python",
   "nbconvert_exporter": "python",
   "pygments_lexer": "ipython3",
   "version": "3.10.13"
  },
  "widgets": {
   "application/vnd.jupyter.widget-state+json": {
    "state": {
     "016c6a989e8547f882761ac79a0f56f9": {
      "model_module": "@jupyter-widgets/controls",
      "model_module_version": "2.0.0",
      "model_name": "HTMLStyleModel",
      "state": {
       "description_width": "",
       "font_size": null,
       "text_color": null
      }
     },
     "06c9b2aa33b34c369196f0a5d30d43bd": {
      "model_module": "jupyter-leaflet",
      "model_module_version": "^0.17",
      "model_name": "LeafletAttributionControlModel",
      "state": {
       "_model_module_version": "^0.17",
       "_view_module_version": "^0.17",
       "options": [
        "position",
        "prefix"
       ],
       "position": "bottomright",
       "prefix": "ipyleaflet"
      }
     },
     "140b13c3f2e54a918c185ef53c801797": {
      "model_module": "@jupyter-widgets/controls",
      "model_module_version": "2.0.0",
      "model_name": "HTMLModel",
      "state": {
       "layout": "IPY_MODEL_53b9390f8b4d443aae45db9b150ddbb2",
       "style": "IPY_MODEL_423b67f14cb546a18e9b32078c43b5d9",
       "value": "<pre style=\"color:grey\">lat: [-12.2672, -12.1665]\nlon: [131.8126, 131.9525]</pre>"
      }
     },
     "148beff236474ba1a6f5bd183a448351": {
      "model_module": "jupyter-leaflet",
      "model_module_version": "^0.17",
      "model_name": "LeafletMapStyleModel",
      "state": {
       "_model_module_version": "^0.17"
      }
     },
     "15fb8187df5e48fd84d28fc64acd2b55": {
      "model_module": "jupyter-leaflet",
      "model_module_version": "^0.17",
      "model_name": "LeafletTileLayerModel",
      "state": {
       "_model_module_version": "^0.17",
       "_view_module_version": "^0.17",
       "attribution": "Tiles &copy; Esri &mdash; Source: Esri, i-cubed, USDA, USGS, AEX, GeoEye, Getmapping, Aerogrid, IGN, IGP, UPR-EGP, and the GIS User Community",
       "min_zoom": 1,
       "name": "Esri.WorldImagery",
       "options": [
        "attribution",
        "bounds",
        "detect_retina",
        "max_native_zoom",
        "max_zoom",
        "min_native_zoom",
        "min_zoom",
        "no_wrap",
        "tile_size",
        "tms",
        "zoom_offset"
       ],
       "url": "https://server.arcgisonline.com/ArcGIS/rest/services/World_Imagery/MapServer/tile/{z}/{y}/{x}"
      }
     },
     "18bfbcc0853941f186acb734b5b96ccb": {
      "model_module": "@jupyter-widgets/base",
      "model_module_version": "2.0.0",
      "model_name": "LayoutModel",
      "state": {}
     },
     "1e0b20db4cce43eb82e5106b752fe2ad": {
      "model_module": "jupyter-leaflet",
      "model_module_version": "^0.17",
      "model_name": "LeafletZoomControlModel",
      "state": {
       "_model_module_version": "^0.17",
       "_view_module_version": "^0.17",
       "options": [
        "position",
        "zoom_in_text",
        "zoom_in_title",
        "zoom_out_text",
        "zoom_out_title"
       ]
      }
     },
     "3ed7e6a707d94036a4f75bf26777e659": {
      "model_module": "@jupyter-widgets/controls",
      "model_module_version": "2.0.0",
      "model_name": "FloatProgressModel",
      "state": {
       "bar_style": "success",
       "layout": "IPY_MODEL_18bfbcc0853941f186acb734b5b96ccb",
       "max": 105,
       "style": "IPY_MODEL_d6e921c8b9af48bda49c1b0128936b2c",
       "value": 105
      }
     },
     "423b67f14cb546a18e9b32078c43b5d9": {
      "model_module": "@jupyter-widgets/controls",
      "model_module_version": "2.0.0",
      "model_name": "HTMLStyleModel",
      "state": {
       "description_width": "",
       "font_size": null,
       "text_color": null
      }
     },
     "4e1dee2bc1a84155b940f72304f5f221": {
      "model_module": "@jupyter-widgets/controls",
      "model_module_version": "2.0.0",
      "model_name": "HBoxModel",
      "state": {
       "children": [
        "IPY_MODEL_e03d207f1d6144e0ac150085cfa49471",
        "IPY_MODEL_3ed7e6a707d94036a4f75bf26777e659",
        "IPY_MODEL_f6e8f833410a46f29a8272995517e4f7"
       ],
       "layout": "IPY_MODEL_4e56c85c3eb5497f8f15cfcfcd8c9c44"
      }
     },
     "4e56c85c3eb5497f8f15cfcfcd8c9c44": {
      "model_module": "@jupyter-widgets/base",
      "model_module_version": "2.0.0",
      "model_name": "LayoutModel",
      "state": {}
     },
     "53b9390f8b4d443aae45db9b150ddbb2": {
      "model_module": "@jupyter-widgets/base",
      "model_module_version": "2.0.0",
      "model_name": "LayoutModel",
      "state": {
       "flex": "1 0 20em",
       "height": "3em",
       "width": "20em"
      }
     },
     "5704d9ce54ad45a39b382eb86aac763a": {
      "model_module": "jupyter-leaflet",
      "model_module_version": "^0.17",
      "model_name": "LeafletMapStyleModel",
      "state": {
       "_model_module_version": "^0.17",
       "cursor": "move"
      }
     },
     "586b01dfeac44354ae9d537b7f69797b": {
      "model_module": "jupyter-leaflet",
      "model_module_version": "^0.17",
      "model_name": "LeafletDrawControlModel",
      "state": {
       "_model_module_version": "^0.17",
       "_view_module_version": "^0.17",
       "data": [
        {
         "geometry": {
          "coordinates": [
           [
            [
             131.873531,
             -12.22041
            ],
            [
             131.873531,
             -12.200109
            ],
            [
             131.897221,
             -12.200109
            ],
            [
             131.897221,
             -12.22041
            ],
            [
             131.873531,
             -12.22041
            ]
           ]
          ],
          "type": "Polygon"
         },
         "properties": {
          "style": {
           "attribution": null,
           "bubblingMouseEvents": true,
           "clickable": true,
           "color": "#000000",
           "dashArray": null,
           "dashOffset": null,
           "fill": true,
           "fillColor": "#fca45d",
           "fillOpacity": 0.1,
           "fillRule": "evenodd",
           "interactive": true,
           "lineCap": "round",
           "lineJoin": "round",
           "noClip": false,
           "opacity": 0.5,
           "pane": "overlayPane",
           "smoothFactor": 1,
           "stroke": true,
           "weight": 4
          }
         },
         "type": "Feature"
        },
        {
         "geometry": {
          "coordinates": [
           [
            [
             131.873016,
             -12.221417
            ],
            [
             131.873016,
             -12.195915
            ],
            [
             131.898937,
             -12.195915
            ],
            [
             131.898937,
             -12.221417
            ],
            [
             131.873016,
             -12.221417
            ]
           ]
          ],
          "type": "Polygon"
         },
         "properties": {
          "style": {
           "clickable": true,
           "color": "#000000",
           "fill": true,
           "fillColor": "#fca45d",
           "fillOpacity": 0.1,
           "opacity": 0.5,
           "stroke": true,
           "weight": 4
          }
         },
         "type": "Feature"
        }
       ],
       "options": [
        "position"
       ],
       "polygon": {
        "shapeOptions": {
         "clickable": true,
         "color": "#000000",
         "editing": {
          "color": "#000000",
          "fillColor": "#fca45d",
          "fillOpacity": 0.1
         },
         "fill": true,
         "fillColor": "#fca45d",
         "fillOpacity": 0.1,
         "opacity": 0.5,
         "original": {
          "color": "#000000",
          "fillColor": "#fca45d",
          "fillOpacity": 0.1
         },
         "stroke": true,
         "weight": 4
        }
       },
       "polyline": {},
       "rectangle": {
        "metric": [
         "km",
         "m"
        ],
        "shapeOptions": {
         "clickable": true,
         "color": "#000000",
         "fill": true,
         "fillColor": "#fca45d",
         "fillOpacity": 0.1,
         "opacity": 0.5,
         "stroke": true,
         "weight": 4
        }
       }
      }
     },
     "5bbc48bf47694d8a80ba1c491fc77ed1": {
      "model_module": "jupyter-leaflet",
      "model_module_version": "^0.17",
      "model_name": "LeafletWidgetControlModel",
      "state": {
       "_model_module": "jupyter-leaflet",
       "_model_module_version": "^0.17",
       "_view_count": null,
       "_view_module": "jupyter-leaflet",
       "_view_module_version": "^0.17",
       "options": [
        "position",
        "transparent_bg"
       ],
       "position": "topright",
       "widget": "IPY_MODEL_e2e669b196d04316ae995fda9c220db2"
      }
     },
     "5d442c16e66644b3a047e841b63a1052": {
      "model_module": "@jupyter-widgets/base",
      "model_module_version": "2.0.0",
      "model_name": "LayoutModel",
      "state": {
       "height": "600px"
      }
     },
     "7909a969d0f4429786b92e3276f277c0": {
      "model_module": "jupyter-leaflet",
      "model_module_version": "^0.17",
      "model_name": "LeafletFullScreenControlModel",
      "state": {
       "_model_module_version": "^0.17",
       "_view_module_version": "^0.17",
       "options": [
        "position"
       ]
      }
     },
     "8136fa8fe564463d8bdeebb27e2c7be2": {
      "model_module": "@jupyter-widgets/base",
      "model_module_version": "2.0.0",
      "model_name": "LayoutModel",
      "state": {}
     },
     "83b2998caed04522940892771c49a1b4": {
      "model_module": "jupyter-leaflet",
      "model_module_version": "^0.17",
      "model_name": "LeafletMapStyleModel",
      "state": {
       "_model_module_version": "^0.17"
      }
     },
     "89532a92d00d44c3b546060c2da9ff59": {
      "model_module": "jupyter-leaflet",
      "model_module_version": "^0.17",
      "model_name": "LeafletWidgetControlModel",
      "state": {
       "_model_module": "jupyter-leaflet",
       "_model_module_version": "^0.17",
       "_view_count": null,
       "_view_module": "jupyter-leaflet",
       "_view_module_version": "^0.17",
       "options": [
        "position",
        "transparent_bg"
       ],
       "position": "bottomleft",
       "widget": "IPY_MODEL_140b13c3f2e54a918c185ef53c801797"
      }
     },
     "99cc8ba7e00f4f8b8cd8b79480a9c5d1": {
      "model_module": "@jupyter-widgets/controls",
      "model_module_version": "2.0.0",
      "model_name": "ButtonStyleModel",
      "state": {
       "button_color": "green",
       "font_family": null,
       "font_size": null,
       "font_style": null,
       "font_variant": null,
       "font_weight": null,
       "text_color": null,
       "text_decoration": null
      }
     },
     "9c3ed92cd34047db88bde52975ed9a9c": {
      "model_module": "@jupyter-widgets/controls",
      "model_module_version": "2.0.0",
      "model_name": "HTMLStyleModel",
      "state": {
       "description_width": "",
       "font_size": null,
       "text_color": null
      }
     },
     "a6a2123e3d1744019d2d60f2e44d1b2f": {
      "model_module": "@jupyter-widgets/base",
      "model_module_version": "2.0.0",
      "model_name": "LayoutModel",
      "state": {
       "width": "5em"
      }
     },
     "bf473c4ecfa74d7bb069f85ee664ab55": {
      "model_module": "@jupyter-widgets/base",
      "model_module_version": "2.0.0",
      "model_name": "LayoutModel",
      "state": {}
     },
     "d6e921c8b9af48bda49c1b0128936b2c": {
      "model_module": "@jupyter-widgets/controls",
      "model_module_version": "2.0.0",
      "model_name": "ProgressStyleModel",
      "state": {
       "description_width": ""
      }
     },
     "e03d207f1d6144e0ac150085cfa49471": {
      "model_module": "@jupyter-widgets/controls",
      "model_module_version": "2.0.0",
      "model_name": "HTMLModel",
      "state": {
       "layout": "IPY_MODEL_bf473c4ecfa74d7bb069f85ee664ab55",
       "style": "IPY_MODEL_9c3ed92cd34047db88bde52975ed9a9c",
       "value": "100%"
      }
     },
     "e2e669b196d04316ae995fda9c220db2": {
      "model_module": "@jupyter-widgets/controls",
      "model_module_version": "2.0.0",
      "model_name": "ButtonModel",
      "state": {
       "description": "done",
       "disabled": true,
       "layout": "IPY_MODEL_a6a2123e3d1744019d2d60f2e44d1b2f",
       "style": "IPY_MODEL_99cc8ba7e00f4f8b8cd8b79480a9c5d1",
       "tooltip": null
      }
     },
     "f663fef0a7844d2abbfc4521ec5c8063": {
      "model_module": "jupyter-leaflet",
      "model_module_version": "^0.17",
      "model_name": "LeafletMapModel",
      "state": {
       "_model_module_version": "^0.17",
       "_view_module_version": "^0.17",
       "bottom": 1120590,
       "center": [
        -12.216892428638982,
        131.8825435638428
       ],
       "controls": [
        "IPY_MODEL_1e0b20db4cce43eb82e5106b752fe2ad",
        "IPY_MODEL_06c9b2aa33b34c369196f0a5d30d43bd",
        "IPY_MODEL_7909a969d0f4429786b92e3276f277c0"
       ],
       "default_style": "IPY_MODEL_148beff236474ba1a6f5bd183a448351",
       "dragging_style": "IPY_MODEL_5704d9ce54ad45a39b382eb86aac763a",
       "east": 131.9524955749512,
       "fullscreen": false,
       "interpolation": "bilinear",
       "layers": [
        "IPY_MODEL_15fb8187df5e48fd84d28fc64acd2b55"
       ],
       "layout": "IPY_MODEL_5d442c16e66644b3a047e841b63a1052",
       "left": 1816440,
       "modisdate": "2024-03-07",
       "north": -12.166547625590848,
       "options": [
        "bounce_at_zoom_limits",
        "box_zoom",
        "center",
        "close_popup_on_click",
        "double_click_zoom",
        "dragging",
        "fullscreen",
        "inertia",
        "inertia_deceleration",
        "inertia_max_speed",
        "interpolation",
        "keyboard",
        "keyboard_pan_offset",
        "keyboard_zoom_offset",
        "max_zoom",
        "min_zoom",
        "prefer_canvas",
        "scroll_wheel_zoom",
        "tap",
        "tap_tolerance",
        "touch_zoom",
        "world_copy_jump",
        "zoom",
        "zoom_animation_threshold",
        "zoom_delta",
        "zoom_snap"
       ],
       "prefer_canvas": false,
       "right": 1817255,
       "scroll_wheel_zoom": true,
       "south": -12.267211929655348,
       "style": "IPY_MODEL_5704d9ce54ad45a39b382eb86aac763a",
       "top": 1119990,
       "west": 131.8125915527344,
       "window_url": "https://app.sandbox.dea.ga.gov.au/user/robbi.bishoptaylor@ga.gov.au/lab/tree/Robbi/dea-intertidal/notebooks/Intertidal_workflow.ipynb",
       "zoom": 13
      }
     },
     "f6e8f833410a46f29a8272995517e4f7": {
      "model_module": "@jupyter-widgets/controls",
      "model_module_version": "2.0.0",
      "model_name": "HTMLModel",
      "state": {
       "layout": "IPY_MODEL_8136fa8fe564463d8bdeebb27e2c7be2",
       "style": "IPY_MODEL_016c6a989e8547f882761ac79a0f56f9",
       "value": " 105/105 [00:24&lt;00:00,  4.41it/s]"
      }
     }
    },
    "version_major": 2,
    "version_minor": 0
   }
  }
 },
 "nbformat": 4,
 "nbformat_minor": 5
}

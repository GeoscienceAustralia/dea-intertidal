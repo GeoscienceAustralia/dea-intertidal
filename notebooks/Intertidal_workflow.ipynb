{
 "cells": [
  {
   "cell_type": "markdown",
   "id": "ccccdf10-6065-4f91-8725-d3233ebbe6d4",
   "metadata": {
    "tags": []
   },
   "source": [
    "# Digital Earth Australia Intertidal workflow\n",
    "\n",
    "## Getting started\n",
    "Set working directory to top level of repo to ensure links work correctly:"
   ]
  },
  {
   "cell_type": "code",
   "execution_count": null,
   "id": "3cdd49c0-fef3-4b10-9d45-d28c41755e12",
   "metadata": {},
   "outputs": [],
   "source": [
    "cd .."
   ]
  },
  {
   "cell_type": "markdown",
   "id": "9e0e6a00-0c55-4ec3-881f-4cdd32899772",
   "metadata": {},
   "source": [
    "Install additional packages directly from the requirements file"
   ]
  },
  {
   "cell_type": "code",
   "execution_count": null,
   "id": "924876a7-a415-4d65-81c4-5e5cd7b7b53d",
   "metadata": {},
   "outputs": [],
   "source": [
    "pip install -r requirements.in --quiet"
   ]
  },
  {
   "cell_type": "markdown",
   "id": "4dac1027-e128-4b7d-a5af-b7b360673e53",
   "metadata": {},
   "source": [
    "### Load packages"
   ]
  },
  {
   "cell_type": "code",
   "execution_count": null,
   "id": "325d183a-2ca2-42c8-9061-02849068c92e",
   "metadata": {},
   "outputs": [],
   "source": [
    "%load_ext autoreload\n",
    "%autoreload 2\n",
    "\n",
    "import os\n",
    "import pandas as pd\n",
    "import numpy as np\n",
    "import matplotlib.pyplot as plt\n",
    "import geopandas as gpd\n",
    "from ipyleaflet import basemaps, basemap_to_tiles\n",
    "\n",
    "import datacube\n",
    "from odc.geo.geom import Geometry\n",
    "from odc.ui import select_on_a_map\n",
    "\n",
    "from intertidal.utils import (\n",
    "    round_date_strings,\n",
    "    export_intertidal_rasters,\n",
    "    intertidal_hillshade,\n",
    ")\n",
    "from intertidal.elevation import load_data, load_topobathy, elevation\n",
    "from intertidal.extents import extents\n",
    "from intertidal.exposure import exposure\n",
    "from intertidal.tidal_bias_offset import bias_offset, tidal_offset_tidelines\n",
    "from dea_tools.dask import create_local_dask_cluster"
   ]
  },
  {
   "cell_type": "markdown",
   "id": "bd675e30-92c7-494f-9f16-2ea0ae1de32f",
   "metadata": {
    "tags": []
   },
   "source": [
    "## Setup\n"
   ]
  },
  {
   "cell_type": "markdown",
   "id": "3fbdf7a0-4daa-49c1-a3f7-3e0bd0e38560",
   "metadata": {
    "tags": []
   },
   "source": [
    "### Set analysis parameters"
   ]
  },
  {
   "cell_type": "code",
   "execution_count": null,
   "id": "ad578cb2-0465-4613-9e0a-14764abd17f6",
   "metadata": {
    "tags": []
   },
   "outputs": [],
   "source": [
    "# Intertidal Elevation variables\n",
    "start_date = \"2019\"  # Start date for analysis\n",
    "end_date = \"2021\"  # End date for analysis\n",
    "resolution = 10  # Spatial resolution used for output files\n",
    "crs = \"EPSG:3577\"  # Coordinate Reference System (CRS) to use for output files\n",
    "ndwi_thresh = 0.1  # Threshold used to identify dry/wet transition\n",
    "include_s2 = True  # Include Sentinel-2 data in the analysis?\n",
    "include_ls = True  # Include Landsat data in the analysis?\n",
    "filter_gqa = True  # Filter to remove poorly georeferenced scenes?\n",
    "tide_model = \"ensemble\"  # Tide model to use in analysis\n",
    "# tide_model_dir = \"/var/share/tide_models\"  # Directory containing tide model files\n",
    "# tide_model = [\"FES2014\", \"FES2012\", \"TPXO9-atlas-v5\"]\n",
    "tide_model_dir = \"/gdata1/data/tide_models_clipped\"\n",
    "\n",
    "# Exposure variables\n",
    "modelled_freq = \"3h\"  # Frequency to run tidal model e.g '30min' or '1h'\n",
    "\n",
    "# Generate range of times covering entire period of satellite record for exposure and bias/offset calculation\n",
    "all_timerange = pd.date_range(\n",
    "    start=round_date_strings(start_date, round_type=\"start\"),\n",
    "    end=round_date_strings(end_date, round_type=\"end\"),\n",
    "    freq=modelled_freq,\n",
    ")"
   ]
  },
  {
   "cell_type": "markdown",
   "id": "9545c2f6-d1d7-4848-a17f-54eb484279bb",
   "metadata": {},
   "source": [
    "#### Set study area\n",
    "\n",
    "##### Option 1: load study area from 32 km tile GridSpec"
   ]
  },
  {
   "cell_type": "code",
   "execution_count": null,
   "id": "92f3b5ca-b73a-47b2-b27c-ff63a4ace984",
   "metadata": {},
   "outputs": [],
   "source": [
    "# Set study area (e.g. tile ID in form 'x143y87')\n",
    "study_area = \"x133y40\"\n",
    "geom = None  # Use GridSpec to load study area, not a custom geom"
   ]
  },
  {
   "cell_type": "markdown",
   "id": "16e7ab04-cfc9-49e4-b75c-b39439143c20",
   "metadata": {
    "tags": []
   },
   "source": [
    "##### Option 2: load study area from vector file"
   ]
  },
  {
   "cell_type": "code",
   "execution_count": null,
   "id": "33bd708e-3c17-49c5-aa96-403ac50df896",
   "metadata": {
    "tags": []
   },
   "outputs": [],
   "source": [
    "# # Set study area to load from file\n",
    "# study_area = \"pointstuart\"\n",
    "\n",
    "# # Read file, select study area and convert to geom\n",
    "# studyarea_gdf = gpd.read_file(\n",
    "#     \"data/raw/intertidal_development_polygons.geojson\"\n",
    "# ).set_index(\"id\")\n",
    "# geom = Geometry(studyarea_gdf.loc[study_area].geometry, crs=studyarea_gdf.crs)\n",
    "# geom"
   ]
  },
  {
   "cell_type": "markdown",
   "id": "05c2043a-47dc-4b2b-a481-ef1bbf01ae80",
   "metadata": {},
   "source": [
    "##### Option 3: load study area using interactive map"
   ]
  },
  {
   "cell_type": "code",
   "execution_count": null,
   "id": "b7084b95-0d68-4bf5-81fc-1f26809cdc38",
   "metadata": {},
   "outputs": [],
   "source": [
    "# Set study area name for outputs\n",
    "study_area = \"testing\"\n",
    "\n",
    "# Plot interactive map to select area\n",
    "basemap = basemap_to_tiles(basemaps.Esri.WorldImagery)\n",
    "geom = select_on_a_map(height=\"600px\", layers=(basemap,), center=(-26, 135), zoom=4)\n",
    "geom"
   ]
  },
  {
   "cell_type": "markdown",
   "id": "ef305306-b424-4d6b-9183-ca480012f2d7",
   "metadata": {},
   "source": [
    "## Intertidal workflow\n",
    "\n",
    "### Load data"
   ]
  },
  {
   "cell_type": "code",
   "execution_count": null,
   "id": "21ed7ba2-3efe-4065-a495-7b80f5256e94",
   "metadata": {},
   "outputs": [],
   "source": [
    "%%time\n",
    "\n",
    "# Connect to datacube\n",
    "dc = datacube.Datacube(app=\"Intertidal_elevation\")\n",
    "\n",
    "# Create local dask cluster to improve data load time\n",
    "client = create_local_dask_cluster(return_client=True)\n",
    "\n",
    "satellite_ds = load_data(\n",
    "    dc=dc,\n",
    "    study_area=study_area,\n",
    "    geom=geom,\n",
    "    time_range=(start_date, end_date),\n",
    "    resolution=resolution,\n",
    "    crs=crs,\n",
    "    include_s2=True,\n",
    "    include_ls=True,\n",
    "    filter_gqa=filter_gqa,\n",
    "    max_cloudcover=90,\n",
    "    skip_broken_datasets=True,\n",
    ")\n",
    "\n",
    "print(satellite_ds)\n",
    "\n",
    "# Load data\n",
    "satellite_ds.load()"
   ]
  },
  {
   "cell_type": "markdown",
   "id": "6a0020d0-69be-4522-93d5-dede79e7591f",
   "metadata": {},
   "source": [
    "### Load optional topobathy mask\n",
    "Loads a topo-bathymetric DEM for the extents of the loaded satellite data.\n",
    "This is used as a coarse mask to constrain the analysis to the coastal zone, improving run time and reducing clear false positives over deep water or elevated land."
   ]
  },
  {
   "cell_type": "code",
   "execution_count": null,
   "id": "bafd49db-52c8-4796-a2f5-da568da9b86d",
   "metadata": {
    "tags": []
   },
   "outputs": [],
   "source": [
    "# Load data from GA's Australian Bathymetry and Topography Grid 2009\n",
    "topobathy_ds = load_topobathy(\n",
    "    dc, satellite_ds, product=\"ga_multi_ausbath_0\", resampling=\"bilinear\"\n",
    ")"
   ]
  },
  {
   "cell_type": "markdown",
   "id": "5b00d348-b532-4ccf-a0e1-51c5c189e735",
   "metadata": {},
   "source": [
    "### Intertidal elevation\n",
    "To run without the topobathy DEM mask, comment out `valid_mask=...`."
   ]
  },
  {
   "cell_type": "code",
   "execution_count": null,
   "id": "d7f1d42b-343c-47b4-bdd9-465efd407280",
   "metadata": {
    "tags": []
   },
   "outputs": [],
   "source": [
    "# Model elevation for each pixel\n",
    "ds, ds_aux, tide_m = elevation(\n",
    "    satellite_ds,\n",
    "    valid_mask=topobathy_ds.height_depth > -20,\n",
    "    tide_model=tide_model,\n",
    "    tide_model_dir=tide_model_dir,\n",
    ")"
   ]
  },
  {
   "cell_type": "markdown",
   "id": "f1a7244e-b4a3-45f2-b5c1-c7a658818b8c",
   "metadata": {
    "tags": []
   },
   "source": [
    "### Intertidal extents\n"
   ]
  },
  {
   "cell_type": "code",
   "execution_count": null,
   "id": "44afbee0-504f-43f2-ad4f-a9e83b9a27b9",
   "metadata": {},
   "outputs": [],
   "source": [
    "ds[\"extents\"] = extents(\n",
    "    freq=ds_aux.ndwi_wet_freq, dem=ds.elevation, corr=ds_aux.ndwi_tide_corr\n",
    ")"
   ]
  },
  {
   "cell_type": "markdown",
   "id": "4ebea320-f34c-4893-ad9a-a1eae0071450",
   "metadata": {
    "tags": []
   },
   "source": [
    "### Intertidal exposure\n",
    "Calculate exposure using the script function"
   ]
  },
  {
   "cell_type": "code",
   "execution_count": null,
   "id": "c674d6ec-069a-4237-89f0-f7ee94eb61ef",
   "metadata": {},
   "outputs": [],
   "source": [
    "ds[\"exposure\"], tide_cq = exposure(\n",
    "    dem=ds.elevation,\n",
    "    time_range=all_timerange,\n",
    "    tide_model=tide_model,\n",
    "    tide_model_dir=tide_model_dir,\n",
    ")"
   ]
  },
  {
   "cell_type": "markdown",
   "id": "92c49057-fecc-4390-9387-edd41d5c4b4e",
   "metadata": {},
   "source": [
    "### Spread and offset\n",
    "Calculate the spread and high/low tide biases of input observed images as a percentage of the modelled tide heights"
   ]
  },
  {
   "cell_type": "code",
   "execution_count": null,
   "id": "ea6d5149-587a-444b-ad8c-bbbd5b31a79c",
   "metadata": {},
   "outputs": [],
   "source": [
    "(\n",
    "    ds[\"oa_lat\"],\n",
    "    ds[\"oa_hat\"],\n",
    "    ds[\"oa_lot\"],\n",
    "    ds[\"oa_hot\"],\n",
    "    ds[\"oa_spread\"],\n",
    "    ds[\"oa_offset_lowtide\"],\n",
    "    ds[\"oa_offset_hightide\"],\n",
    ") = bias_offset(\n",
    "    tide_m=tide_m, tide_cq=tide_cq, extents=ds.extents, lot_hot=True, lat_hat=True\n",
    ")"
   ]
  },
  {
   "cell_type": "markdown",
   "id": "a0f6f1db-e5a7-4e67-94b2-3c09ae9364f5",
   "metadata": {},
   "source": [
    "### Tideline confidence"
   ]
  },
  {
   "cell_type": "code",
   "execution_count": null,
   "id": "a6491094-e123-4cc3-891a-c8302eb02bfa",
   "metadata": {},
   "outputs": [],
   "source": [
    "(hightideline, lowtideline, tidelines_gdf) = tidal_offset_tidelines(\n",
    "    extents=ds.extents,\n",
    "    offset_hightide=ds.oa_offset_hightide,\n",
    "    offset_lowtide=ds.oa_offset_lowtide,\n",
    "    distance=250,\n",
    ")"
   ]
  },
  {
   "cell_type": "markdown",
   "id": "12d5f458-6e32-4bd6-ab25-4417dfaa5edb",
   "metadata": {},
   "source": [
    "## Plot all layers"
   ]
  },
  {
   "cell_type": "code",
   "execution_count": null,
   "id": "98d4c60e-1378-424b-ab13-7d3dc1d4ca09",
   "metadata": {},
   "outputs": [],
   "source": [
    "# Inspect contents of ds before plotting\n",
    "ds"
   ]
  },
  {
   "cell_type": "code",
   "execution_count": null,
   "id": "21dd40e3-1e1e-4f07-a606-76eaf463114c",
   "metadata": {},
   "outputs": [],
   "source": [
    "fig = plt.figure(figsize=(16, 18), tight_layout=True)\n",
    "ax_dict = fig.subplot_mosaic(\n",
    "    \"\"\"\n",
    "    AAAABBBBCCCC\n",
    "    DDDEEEFFFGGG\n",
    "    HHHIIIJJJKKK\n",
    "    LLLMMM......\n",
    "    \"\"\",\n",
    "    height_ratios=[1, 0.8, 0.8, 0.8],\n",
    ")\n",
    "\n",
    "# label_params = dict(add_labels=False, yticks=[], xticks=[])\n",
    "\n",
    "# Plot Elevation with hillshade\n",
    "ds[\"elevation\"].plot.imshow(\n",
    "    ax=ax_dict[\"A\"],\n",
    "    cmap=\"viridis\",\n",
    "    interpolation=\"bilinear\",\n",
    ")\n",
    "intertidal_hillshade(ds[\"elevation\"], ds[\"extents\"], vert_exag=300).plot.imshow(\n",
    "    ax=ax_dict[\"A\"],\n",
    "    interpolation=\"bilinear\",\n",
    ")\n",
    "ax_dict[\"A\"].set_title(\"Elevation (metres AMSL)\")\n",
    "\n",
    "# Plot uncertainty\n",
    "ds[\"elevation_uncertainty\"].plot.imshow(\n",
    "    ax=ax_dict[\"B\"],\n",
    "    cmap=\"magma\",\n",
    "    interpolation=\"bilinear\",\n",
    ")\n",
    "ax_dict[\"B\"].set_title(\"Elevation uncertainty (metres)\")\n",
    "ax_dict[\"B\"].set_facecolor(\"#2E2E2E\")\n",
    "\n",
    "# Plot Exposure\n",
    "ds[\"exposure\"].plot.imshow(\n",
    "    ax=ax_dict[\"C\"],\n",
    "    cmap=\"RdYlGn\",\n",
    "    levels=np.arange(0, 100, 1),\n",
    "    add_labels=False,\n",
    "    yticks=[],\n",
    ")\n",
    "ax_dict[\"C\"].set_title(\"Exposure\")\n",
    "\n",
    "# Plot the always/sometimes/never wet extents\n",
    "ds[\"extents\"].astype(np.int16).plot.imshow(ax=ax_dict[\"D\"])\n",
    "ax_dict[\"D\"].set_title(\"Wet, Dry and Intertidal extent\")\n",
    "\n",
    "# Plot the observation spread\n",
    "ds[\"oa_spread\"].plot.imshow(\n",
    "    ax=ax_dict[\"E\"],\n",
    "    vmin=0,\n",
    "    vmax=100,\n",
    "    cmap=\"magma\",\n",
    "    cbar_kwargs={\"label\": \"% of tidal range observed\"},\n",
    ")\n",
    "ax_dict[\"E\"].set_title(\"Observation Spread (%)\")\n",
    "\n",
    "# Plot the high-tide offset\n",
    "ds[\"oa_offset_hightide\"].plot.imshow(\n",
    "    ax=ax_dict[\"F\"],\n",
    "    vmin=0,\n",
    "    vmax=40,\n",
    "    cmap=\"magma\",\n",
    "    cbar_kwargs={\"label\": \"% of high tide never observed\"},\n",
    ")\n",
    "ax_dict[\"F\"].set_title(\"High-tide offset (%)\")\n",
    "\n",
    "# Plot the low-tide offset\n",
    "ds[\"oa_offset_lowtide\"].plot.imshow(\n",
    "    ax=ax_dict[\"G\"],\n",
    "    vmin=0,\n",
    "    vmax=40,\n",
    "    cmap=\"magma\",\n",
    "    cbar_kwargs={\"label\": \"% of low tide never observed\"},\n",
    ")\n",
    "ax_dict[\"G\"].set_title(\"Low-tide offset (%)\")\n",
    "\n",
    "# Plot the LAT\n",
    "ds[\"oa_lat\"].plot.imshow(\n",
    "    ax=ax_dict[\"H\"],\n",
    "    vmin=ds[\"oa_lat\"].min(),\n",
    "    vmax=ds[\"oa_hat\"].max(),\n",
    "    add_labels=False,\n",
    ")\n",
    "ax_dict[\"H\"].set_title(\"Lowest Astronomical Tide\")\n",
    "\n",
    "# Plot the LOT\n",
    "ds[\"oa_lot\"].plot.imshow(\n",
    "    ax=ax_dict[\"I\"], vmin=ds[\"oa_lat\"].min(), vmax=ds[\"oa_hat\"].max()\n",
    ")\n",
    "ax_dict[\"I\"].set_title(\"Lowest Observed Tide\")\n",
    "\n",
    "# Plot the HAT\n",
    "ds[\"oa_hat\"].plot.imshow(\n",
    "    ax=ax_dict[\"J\"],\n",
    "    vmin=ds[\"oa_lat\"].min(),\n",
    "    vmax=ds[\"oa_hat\"].max(),\n",
    "    add_labels=False,\n",
    "    yticks=[],\n",
    ")\n",
    "ax_dict[\"J\"].set_title(\"Highest Astronomical Tide\")\n",
    "\n",
    "# Plot the HOT\n",
    "ds[\"oa_hot\"].plot.imshow(\n",
    "    ax=ax_dict[\"K\"],\n",
    "    vmin=ds[\"oa_lat\"].min(),\n",
    "    vmax=ds[\"oa_hat\"].max(),\n",
    ")\n",
    "ax_dict[\"K\"].set_title(\"Highest Observed Tide\")\n",
    "\n",
    "# Plot the high and low tidelines with respective offset\n",
    "ax_dict[\"L\"].set_title(\"Lowtide line and lowtide offset\")\n",
    "lowtideline.plot(\n",
    "    column=\"offset_lowtide\",\n",
    "    legend=True,\n",
    "    vmin=0,\n",
    "    vmax=40,\n",
    "    cmap=\"magma\",\n",
    "    ax=ax_dict[\"L\"],\n",
    "    zorder=2,\n",
    ")\n",
    "tidelines_gdf.loc[[0], \"geometry\"].plot(ax=ax_dict[\"L\"], zorder=1)\n",
    "ax_dict[\"L\"].set_xlim(left=ds.elevation.x.min(), right=ds.elevation.x.max())\n",
    "ax_dict[\"L\"].set_ylim(bottom=ds.elevation.y.min(), top=ds.elevation.y.max())\n",
    "\n",
    "ax_dict[\"M\"].set_title(\"Hightide line and hightide offset\")\n",
    "hightideline.plot(\n",
    "    column=\"offset_hightide\",\n",
    "    legend=True,\n",
    "    vmin=0,\n",
    "    vmax=40,\n",
    "    cmap=\"magma\",\n",
    "    ax=ax_dict[\"M\"],\n",
    "    zorder=2,\n",
    ")\n",
    "tidelines_gdf.loc[[1], \"geometry\"].plot(ax=ax_dict[\"M\"], zorder=1)\n",
    "ax_dict[\"M\"].set_yticks([])\n",
    "ax_dict[\"M\"].set_xlim(left=ds.elevation.x.min(), right=ds.elevation.x.max())\n",
    "ax_dict[\"M\"].set_ylim(bottom=ds.elevation.y.min(), top=ds.elevation.y.max())\n",
    "\n",
    "# Remove axis labels\n",
    "for label, ax in ax_dict.items():\n",
    "    ax.set_yticks([])\n",
    "    ax.set_xticks([])\n",
    "    ax.set_ylabel(\"\")\n",
    "    ax.set_xlabel(\"\")"
   ]
  },
  {
   "cell_type": "markdown",
   "id": "b55e9c43-a6e7-49fc-a4de-e97558f5393c",
   "metadata": {
    "tags": []
   },
   "source": [
    "## Export layers"
   ]
  },
  {
   "cell_type": "code",
   "execution_count": null,
   "id": "301b8d2e-9507-4e69-b107-3b372e953b1f",
   "metadata": {},
   "outputs": [],
   "source": [
    "# Create output folder. If it doesn't exist, create it\n",
    "output_dir = f\"data/interim/{study_area}/{start_date}-{end_date}\"\n",
    "os.makedirs(output_dir, exist_ok=True)"
   ]
  },
  {
   "cell_type": "code",
   "execution_count": null,
   "id": "c3fcf901-846e-4cc0-96ee-912937110c29",
   "metadata": {},
   "outputs": [],
   "source": [
    "# Save rasters as GeoTIFFs\n",
    "export_intertidal_rasters(\n",
    "    ds, prefix=f\"{output_dir}/{study_area}_{start_date}_{end_date}\"\n",
    ")\n",
    "export_intertidal_rasters(\n",
    "    ds_aux, prefix=f\"{output_dir}/{study_area}_{start_date}_{end_date}_debug\"\n",
    ")"
   ]
  },
  {
   "cell_type": "code",
   "execution_count": null,
   "id": "dba82a22-55b7-430a-89fb-8115cc29dad5",
   "metadata": {},
   "outputs": [],
   "source": [
    "# Export figure\n",
    "fig.savefig(f\"data/figures/{study_area}_{start_date}_{end_date}.png\")"
   ]
  },
  {
   "cell_type": "code",
   "execution_count": null,
   "id": "b0b149db-805c-4f97-b463-9d223581271a",
   "metadata": {},
   "outputs": [],
   "source": [
    "# Export vector files\n",
    "hightideline.to_crs(\"EPSG:4326\").to_file(\n",
    "    f\"{output_dir}/{study_area}_{start_date}_{end_date}_offset_hightide.geojson\"\n",
    ")\n",
    "lowtideline.to_crs(\"EPSG:4326\").to_file(\n",
    "    f\"{output_dir}/{study_area}_{start_date}_{end_date}_offset_lowtide.geojson\"\n",
    ")\n",
    "tidelines_gdf.to_crs(\"EPSG:4326\").to_file(\n",
    "    f\"{output_dir}/{study_area}_{start_date}_{end_date}_tidelines_highlow.geojson\"\n",
    ")"
   ]
  },
  {
   "cell_type": "markdown",
   "id": "2ec2d9b5-7855-412a-807f-b1238d61be23",
   "metadata": {
    "tags": []
   },
   "source": [
    "### Close Dask client"
   ]
  },
  {
   "cell_type": "code",
   "execution_count": null,
   "id": "1183efdd-5183-4d40-86c4-0b5b9f48fe11",
   "metadata": {},
   "outputs": [],
   "source": [
    "client.close()"
   ]
  }
 ],
 "metadata": {
  "kernelspec": {
   "display_name": "Python 3 (ipykernel)",
   "language": "python",
   "name": "python3"
  },
  "language_info": {
   "codemirror_mode": {
    "name": "ipython",
    "version": 3
   },
   "file_extension": ".py",
   "mimetype": "text/x-python",
   "name": "python",
   "nbconvert_exporter": "python",
   "pygments_lexer": "ipython3",
   "version": "3.10.8"
  },
  "widgets": {
   "application/vnd.jupyter.widget-state+json": {
    "state": {},
    "version_major": 2,
    "version_minor": 0
   }
  }
 },
 "nbformat": 4,
 "nbformat_minor": 5
}

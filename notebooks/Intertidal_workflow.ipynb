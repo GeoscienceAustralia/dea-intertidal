{
 "cells": [
  {
   "cell_type": "markdown",
   "id": "a1eed1f8",
   "metadata": {
    "tags": []
   },
   "source": [
    "# Digital Earth Australia Intertidal workflow\n",
    "\n",
    "## Getting started\n",
    "Set working directory to top level of repo to ensure links work correctly:"
   ]
  },
  {
   "cell_type": "code",
   "execution_count": 1,
   "id": "7f782832",
   "metadata": {
    "tags": []
   },
   "outputs": [
    {
     "name": "stdout",
     "output_type": "stream",
     "text": [
      "/home/jovyan/dea_intertidal/dea-intertidal\n"
     ]
    }
   ],
   "source": [
    "cd .."
   ]
  },
  {
   "cell_type": "markdown",
   "id": "cdb87709",
   "metadata": {},
   "source": [
    "Install additional packages directly from the requirements file"
   ]
  },
  {
   "cell_type": "code",
   "execution_count": 2,
   "id": "adce236f",
   "metadata": {
    "tags": []
   },
   "outputs": [
    {
     "name": "stdout",
     "output_type": "stream",
     "text": [
      "Note: you may need to restart the kernel to use updated packages.\n"
     ]
    }
   ],
   "source": [
    "pip install -r requirements.in --quiet"
   ]
  },
  {
   "cell_type": "markdown",
   "id": "fb6f5bac",
   "metadata": {},
   "source": [
    "### Load packages"
   ]
  },
  {
   "cell_type": "code",
   "execution_count": 3,
   "id": "a723fcdc",
   "metadata": {
    "tags": []
   },
   "outputs": [],
   "source": [
    "%load_ext autoreload\n",
    "%autoreload 2\n",
    "\n",
    "import os\n",
    "import pandas as pd\n",
    "import numpy as np\n",
    "import xarray as xr\n",
    "import matplotlib.pyplot as plt\n",
    "import geopandas as gpd\n",
    "from ipyleaflet import basemaps, basemap_to_tiles\n",
    "\n",
    "import datacube\n",
    "import odc.geo.xr\n",
    "from odc.geo.geom import Geometry\n",
    "from odc.ui import select_on_a_map\n",
    "import cmocean\n",
    "\n",
    "from intertidal.utils import (\n",
    "    round_date_strings,\n",
    "    intertidal_hillshade,\n",
    ")\n",
    "from intertidal.tide_modelling import pixel_tides_ensemble\n",
    "from intertidal.io import (\n",
    "    load_data,\n",
    "    load_topobathy_mask,\n",
    "    load_aclum_mask,\n",
    "    prepare_for_export,\n",
    ")\n",
    "from intertidal.elevation import elevation\n",
    "from intertidal.extents import extents\n",
    "# from intertidal.exposure import exposure\n",
    "from intertidal.exposure_edited import exposure\n",
    "from intertidal.tidal_bias_offset import bias_offset\n",
    "\n",
    "from dea_tools.dask import create_local_dask_cluster"
   ]
  },
  {
   "cell_type": "markdown",
   "id": "55347d87",
   "metadata": {
    "tags": []
   },
   "source": [
    "## Setup\n"
   ]
  },
  {
   "cell_type": "markdown",
   "id": "c3043ff7",
   "metadata": {
    "tags": []
   },
   "source": [
    "### Set analysis parameters"
   ]
  },
  {
   "cell_type": "code",
   "execution_count": 4,
   "id": "1aa6c76d",
   "metadata": {
    "tags": []
   },
   "outputs": [],
   "source": [
    "# Intertidal Elevation variables\n",
    "start_date = \"2020\"  # Start date for analysis\n",
    "end_date = \"2022\"  # End date for analysis\n",
    "resolution = 30  # Spatial resolution used for output files\n",
    "crs = \"EPSG:3577\"  # Coordinate Reference System (CRS) to use for output files\n",
    "ndwi_thresh = 0.1  # Threshold used to identify dry/wet transition\n",
    "include_s2 = True  # Include Sentinel-2 data in the analysis?\n",
    "include_ls = True  # Include Landsat data in the analysis?\n",
    "filter_gqa = True  # Filter to remove poorly georeferenced scenes?\n",
    "tide_model = \"ensemble\"  # Tide model to use in analysis\n",
    "tide_model_dir = \"/gdata1/data/tide_models_clipped\"\n",
    "\n",
    "# Exposure variables\n",
    "modelled_freq = \"3h\"  # Frequency to run tidal model e.g '30min' or '1h'\n",
    "filters=None#['dry','Neap_low'] # Exposure filters.\n",
    "filters_combined = None#[('winter','Lowtide')] ## Must be a list of tuples containing one temporal and spatial filter each, else None\n",
    "\n",
    "# Generate range of times covering entire period of satellite record for exposure and bias/offset calculation\n",
    "all_times = pd.date_range(\n",
    "    start=round_date_strings(start_date, round_type=\"start\"),\n",
    "    end=round_date_strings(end_date, round_type=\"end\"),\n",
    "    freq=modelled_freq,\n",
    ")\n",
    "\n",
    "# For debugging\n",
    "all_timerange = all_times"
   ]
  },
  {
   "cell_type": "markdown",
   "id": "a7321065",
   "metadata": {},
   "source": [
    "##### Option 1: load study area from 32 km tile GridSpec"
   ]
  },
  {
   "cell_type": "code",
   "execution_count": 5,
   "id": "4caa3bd3",
   "metadata": {
    "tags": []
   },
   "outputs": [],
   "source": [
    "# # Set study area (e.g. tile ID in form \"x094y145\")\n",
    "# study_area = \"x094y145\"\n",
    "# geom = None  # Use GridSpec to load study area, not a custom geom"
   ]
  },
  {
   "cell_type": "markdown",
   "id": "5d7ccd92",
   "metadata": {
    "tags": []
   },
   "source": [
    "##### Option 2: load study area from vector file"
   ]
  },
  {
   "cell_type": "code",
   "execution_count": 6,
   "id": "49b4231b",
   "metadata": {
    "tags": []
   },
   "outputs": [],
   "source": [
    "# # Set study area to load from file\n",
    "# study_area = \"pointstuart\"\n",
    "\n",
    "# # Read file, select study area and convert to geom\n",
    "# studyarea_gdf = gpd.read_file(\n",
    "#     \"data/raw/intertidal_development_polygons.geojson\"\n",
    "# ).set_index(\"id\")\n",
    "# geom = Geometry(studyarea_gdf.loc[study_area].geometry, crs=studyarea_gdf.crs)\n",
    "# geom"
   ]
  },
  {
   "cell_type": "markdown",
   "id": "0a484060",
   "metadata": {},
   "source": [
    "##### Option 3: load study area using interactive map"
   ]
  },
  {
   "cell_type": "code",
   "execution_count": 7,
   "id": "79d8aba4",
   "metadata": {
    "tags": []
   },
   "outputs": [
    {
     "data": {
      "application/vnd.jupyter.widget-view+json": {
       "model_id": "1f087fa786dc40f097cf6adc5a198116",
       "version_major": 2,
       "version_minor": 0
      },
      "text/plain": [
       "Map(center=[-26, 135], controls=(ZoomControl(options=['position', 'zoom_in_text', 'zoom_in_title', 'zoom_out_t…"
      ]
     },
     "metadata": {},
     "output_type": "display_data"
    },
    {
     "data": {
      "image/svg+xml": [
       "<svg xmlns=\"http://www.w3.org/2000/svg\" xmlns:xlink=\"http://www.w3.org/1999/xlink\" width=\"100.0\" height=\"100.0\" viewBox=\"151.1580734 -23.523714599999998 0.07137720000000058 0.038030199999997905\" preserveAspectRatio=\"xMinYMin meet\"><g transform=\"matrix(1,0,0,-1,0,-47.009399)\"><path fill-rule=\"evenodd\" fill=\"#66cc99\" stroke=\"#555555\" stroke-width=\"0.0014275440000000117\" opacity=\"0.6\" d=\"M 151.160717,-23.521071 L 151.160717,-23.488328 L 151.226807,-23.488328 L 151.226807,-23.521071 L 151.160717,-23.521071 z\" /></g></svg>"
      ],
      "text/plain": [
       "Geometry(POLYGON ((151.160717 -23.521071, 151.160717 -23.488328, 151.226807 -23.488328, 151.226807 -23.521071, 151.160717 -23.521071)), EPSG:4326)"
      ]
     },
     "execution_count": 7,
     "metadata": {},
     "output_type": "execute_result"
    }
   ],
   "source": [
    "# Set study area name for outputs\n",
    "study_area = \"testing\"\n",
    "\n",
    "# Plot interactive map to select area\n",
    "basemap = basemap_to_tiles(basemaps.Esri.WorldImagery)\n",
    "geom = select_on_a_map(height=\"600px\", layers=(basemap,), center=(-26, 135), zoom=4)\n",
    "geom"
   ]
  },
  {
   "cell_type": "markdown",
   "id": "41a23d82",
   "metadata": {},
   "source": [
    "## Intertidal workflow\n",
    "\n",
    "### Load data"
   ]
  },
  {
   "cell_type": "code",
   "execution_count": null,
   "id": "5906b017-38af-4e43-9e54-d6e49525ef3f",
   "metadata": {
    "tags": []
   },
   "outputs": [],
   "source": [
    "# %store ds"
   ]
  },
  {
   "cell_type": "code",
   "execution_count": 8,
   "id": "611834aa",
   "metadata": {
    "tags": []
   },
   "outputs": [
    {
     "data": {
      "text/html": [
       "<div>\n",
       "    <div style=\"width: 24px; height: 24px; background-color: #e1e1e1; border: 3px solid #9D9D9D; border-radius: 5px; position: absolute;\"> </div>\n",
       "    <div style=\"margin-left: 48px;\">\n",
       "        <h3 style=\"margin-bottom: 0px;\">Client</h3>\n",
       "        <p style=\"color: #9D9D9D; margin-bottom: 0px;\">Client-9b5d7276-07a7-11ef-8f5b-da090510f89c</p>\n",
       "        <table style=\"width: 100%; text-align: left;\">\n",
       "\n",
       "        <tr>\n",
       "        \n",
       "            <td style=\"text-align: left;\"><strong>Connection method:</strong> Cluster object</td>\n",
       "            <td style=\"text-align: left;\"><strong>Cluster type:</strong> distributed.LocalCluster</td>\n",
       "        \n",
       "        </tr>\n",
       "\n",
       "        \n",
       "            <tr>\n",
       "                <td style=\"text-align: left;\">\n",
       "                    <strong>Dashboard: </strong> <a href=\"/user/claire.phillips@ga.gov.au/proxy/8787/status\" target=\"_blank\">/user/claire.phillips@ga.gov.au/proxy/8787/status</a>\n",
       "                </td>\n",
       "                <td style=\"text-align: left;\"></td>\n",
       "            </tr>\n",
       "        \n",
       "\n",
       "        </table>\n",
       "\n",
       "        \n",
       "            <button style=\"margin-bottom: 12px;\" data-commandlinker-command=\"dask:populate-and-launch-layout\" data-commandlinker-args='{\"url\": \"/user/claire.phillips@ga.gov.au/proxy/8787/status\" }'>\n",
       "                Launch dashboard in JupyterLab\n",
       "            </button>\n",
       "        \n",
       "\n",
       "        \n",
       "            <details>\n",
       "            <summary style=\"margin-bottom: 20px;\"><h3 style=\"display: inline;\">Cluster Info</h3></summary>\n",
       "            <div class=\"jp-RenderedHTMLCommon jp-RenderedHTML jp-mod-trusted jp-OutputArea-output\">\n",
       "    <div style=\"width: 24px; height: 24px; background-color: #e1e1e1; border: 3px solid #9D9D9D; border-radius: 5px; position: absolute;\">\n",
       "    </div>\n",
       "    <div style=\"margin-left: 48px;\">\n",
       "        <h3 style=\"margin-bottom: 0px; margin-top: 0px;\">LocalCluster</h3>\n",
       "        <p style=\"color: #9D9D9D; margin-bottom: 0px;\">b359d737</p>\n",
       "        <table style=\"width: 100%; text-align: left;\">\n",
       "            <tr>\n",
       "                <td style=\"text-align: left;\">\n",
       "                    <strong>Dashboard:</strong> <a href=\"/user/claire.phillips@ga.gov.au/proxy/8787/status\" target=\"_blank\">/user/claire.phillips@ga.gov.au/proxy/8787/status</a>\n",
       "                </td>\n",
       "                <td style=\"text-align: left;\">\n",
       "                    <strong>Workers:</strong> 1\n",
       "                </td>\n",
       "            </tr>\n",
       "            <tr>\n",
       "                <td style=\"text-align: left;\">\n",
       "                    <strong>Total threads:</strong> 7\n",
       "                </td>\n",
       "                <td style=\"text-align: left;\">\n",
       "                    <strong>Total memory:</strong> 59.21 GiB\n",
       "                </td>\n",
       "            </tr>\n",
       "            \n",
       "            <tr>\n",
       "    <td style=\"text-align: left;\"><strong>Status:</strong> running</td>\n",
       "    <td style=\"text-align: left;\"><strong>Using processes:</strong> True</td>\n",
       "</tr>\n",
       "\n",
       "            \n",
       "        </table>\n",
       "\n",
       "        <details>\n",
       "            <summary style=\"margin-bottom: 20px;\">\n",
       "                <h3 style=\"display: inline;\">Scheduler Info</h3>\n",
       "            </summary>\n",
       "\n",
       "            <div style=\"\">\n",
       "    <div>\n",
       "        <div style=\"width: 24px; height: 24px; background-color: #FFF7E5; border: 3px solid #FF6132; border-radius: 5px; position: absolute;\"> </div>\n",
       "        <div style=\"margin-left: 48px;\">\n",
       "            <h3 style=\"margin-bottom: 0px;\">Scheduler</h3>\n",
       "            <p style=\"color: #9D9D9D; margin-bottom: 0px;\">Scheduler-6ce3b43d-e7cd-4862-b310-18a6f51fe756</p>\n",
       "            <table style=\"width: 100%; text-align: left;\">\n",
       "                <tr>\n",
       "                    <td style=\"text-align: left;\">\n",
       "                        <strong>Comm:</strong> tcp://127.0.0.1:37449\n",
       "                    </td>\n",
       "                    <td style=\"text-align: left;\">\n",
       "                        <strong>Workers:</strong> 1\n",
       "                    </td>\n",
       "                </tr>\n",
       "                <tr>\n",
       "                    <td style=\"text-align: left;\">\n",
       "                        <strong>Dashboard:</strong> <a href=\"/user/claire.phillips@ga.gov.au/proxy/8787/status\" target=\"_blank\">/user/claire.phillips@ga.gov.au/proxy/8787/status</a>\n",
       "                    </td>\n",
       "                    <td style=\"text-align: left;\">\n",
       "                        <strong>Total threads:</strong> 7\n",
       "                    </td>\n",
       "                </tr>\n",
       "                <tr>\n",
       "                    <td style=\"text-align: left;\">\n",
       "                        <strong>Started:</strong> Just now\n",
       "                    </td>\n",
       "                    <td style=\"text-align: left;\">\n",
       "                        <strong>Total memory:</strong> 59.21 GiB\n",
       "                    </td>\n",
       "                </tr>\n",
       "            </table>\n",
       "        </div>\n",
       "    </div>\n",
       "\n",
       "    <details style=\"margin-left: 48px;\">\n",
       "        <summary style=\"margin-bottom: 20px;\">\n",
       "            <h3 style=\"display: inline;\">Workers</h3>\n",
       "        </summary>\n",
       "\n",
       "        \n",
       "        <div style=\"margin-bottom: 20px;\">\n",
       "            <div style=\"width: 24px; height: 24px; background-color: #DBF5FF; border: 3px solid #4CC9FF; border-radius: 5px; position: absolute;\"> </div>\n",
       "            <div style=\"margin-left: 48px;\">\n",
       "            <details>\n",
       "                <summary>\n",
       "                    <h4 style=\"margin-bottom: 0px; display: inline;\">Worker: 0</h4>\n",
       "                </summary>\n",
       "                <table style=\"width: 100%; text-align: left;\">\n",
       "                    <tr>\n",
       "                        <td style=\"text-align: left;\">\n",
       "                            <strong>Comm: </strong> tcp://127.0.0.1:38489\n",
       "                        </td>\n",
       "                        <td style=\"text-align: left;\">\n",
       "                            <strong>Total threads: </strong> 7\n",
       "                        </td>\n",
       "                    </tr>\n",
       "                    <tr>\n",
       "                        <td style=\"text-align: left;\">\n",
       "                            <strong>Dashboard: </strong> <a href=\"/user/claire.phillips@ga.gov.au/proxy/37465/status\" target=\"_blank\">/user/claire.phillips@ga.gov.au/proxy/37465/status</a>\n",
       "                        </td>\n",
       "                        <td style=\"text-align: left;\">\n",
       "                            <strong>Memory: </strong> 59.21 GiB\n",
       "                        </td>\n",
       "                    </tr>\n",
       "                    <tr>\n",
       "                        <td style=\"text-align: left;\">\n",
       "                            <strong>Nanny: </strong> tcp://127.0.0.1:39895\n",
       "                        </td>\n",
       "                        <td style=\"text-align: left;\"></td>\n",
       "                    </tr>\n",
       "                    <tr>\n",
       "                        <td colspan=\"2\" style=\"text-align: left;\">\n",
       "                            <strong>Local directory: </strong> /tmp/dask-worker-space/worker-f7d3dtkx\n",
       "                        </td>\n",
       "                    </tr>\n",
       "\n",
       "                    \n",
       "\n",
       "                    \n",
       "\n",
       "                </table>\n",
       "            </details>\n",
       "            </div>\n",
       "        </div>\n",
       "        \n",
       "\n",
       "    </details>\n",
       "</div>\n",
       "\n",
       "        </details>\n",
       "    </div>\n",
       "</div>\n",
       "            </details>\n",
       "        \n",
       "\n",
       "    </div>\n",
       "</div>"
      ],
      "text/plain": [
       "<Client: 'tcp://127.0.0.1:37449' processes=1 threads=7, memory=59.21 GiB>"
      ]
     },
     "metadata": {},
     "output_type": "display_data"
    },
    {
     "name": "stdout",
     "output_type": "stream",
     "text": [
      "<xarray.Dataset>\n",
      "Dimensions:      (time: 303, y: 155, x: 239)\n",
      "Coordinates:\n",
      "  * time         (time) datetime64[ns] 2020-01-03T00:13:03.343948 ... 2022-12...\n",
      "  * y            (y) float64 -2.678e+06 -2.678e+06 ... -2.683e+06 -2.683e+06\n",
      "  * x            (x) float64 1.93e+06 1.93e+06 1.93e+06 ... 1.937e+06 1.937e+06\n",
      "    spatial_ref  int32 3577\n",
      "Data variables:\n",
      "    ndwi         (time, y, x) float32 dask.array<chunksize=(1, 155, 239), meta=np.ndarray>\n",
      "Attributes:\n",
      "    crs:           EPSG:3577\n",
      "    grid_mapping:  spatial_ref\n"
     ]
    },
    {
     "name": "stderr",
     "output_type": "stream",
     "text": [
      "/env/lib/python3.10/site-packages/datacube/drivers/driver_cache.py:54: DeprecationWarning: pkg_resources is deprecated as an API. See https://setuptools.pypa.io/en/latest/pkg_resources.html\n",
      "  from pkg_resources import iter_entry_points\n",
      "/env/lib/python3.10/site-packages/rasterio/warp.py:344: NotGeoreferencedWarning: Dataset has no geotransform, gcps, or rpcs. The identity matrix will be returned.\n",
      "  _reproject(\n"
     ]
    },
    {
     "name": "stdout",
     "output_type": "stream",
     "text": [
      "CPU times: user 7.03 s, sys: 591 ms, total: 7.62 s\n",
      "Wall time: 53.9 s\n"
     ]
    },
    {
     "data": {
      "text/html": [
       "<div><svg style=\"position: absolute; width: 0; height: 0; overflow: hidden\">\n",
       "<defs>\n",
       "<symbol id=\"icon-database\" viewBox=\"0 0 32 32\">\n",
       "<path d=\"M16 0c-8.837 0-16 2.239-16 5v4c0 2.761 7.163 5 16 5s16-2.239 16-5v-4c0-2.761-7.163-5-16-5z\"></path>\n",
       "<path d=\"M16 17c-8.837 0-16-2.239-16-5v6c0 2.761 7.163 5 16 5s16-2.239 16-5v-6c0 2.761-7.163 5-16 5z\"></path>\n",
       "<path d=\"M16 26c-8.837 0-16-2.239-16-5v6c0 2.761 7.163 5 16 5s16-2.239 16-5v-6c0 2.761-7.163 5-16 5z\"></path>\n",
       "</symbol>\n",
       "<symbol id=\"icon-file-text2\" viewBox=\"0 0 32 32\">\n",
       "<path d=\"M28.681 7.159c-0.694-0.947-1.662-2.053-2.724-3.116s-2.169-2.030-3.116-2.724c-1.612-1.182-2.393-1.319-2.841-1.319h-15.5c-1.378 0-2.5 1.121-2.5 2.5v27c0 1.378 1.122 2.5 2.5 2.5h23c1.378 0 2.5-1.122 2.5-2.5v-19.5c0-0.448-0.137-1.23-1.319-2.841zM24.543 5.457c0.959 0.959 1.712 1.825 2.268 2.543h-4.811v-4.811c0.718 0.556 1.584 1.309 2.543 2.268zM28 29.5c0 0.271-0.229 0.5-0.5 0.5h-23c-0.271 0-0.5-0.229-0.5-0.5v-27c0-0.271 0.229-0.5 0.5-0.5 0 0 15.499-0 15.5 0v7c0 0.552 0.448 1 1 1h7v19.5z\"></path>\n",
       "<path d=\"M23 26h-14c-0.552 0-1-0.448-1-1s0.448-1 1-1h14c0.552 0 1 0.448 1 1s-0.448 1-1 1z\"></path>\n",
       "<path d=\"M23 22h-14c-0.552 0-1-0.448-1-1s0.448-1 1-1h14c0.552 0 1 0.448 1 1s-0.448 1-1 1z\"></path>\n",
       "<path d=\"M23 18h-14c-0.552 0-1-0.448-1-1s0.448-1 1-1h14c0.552 0 1 0.448 1 1s-0.448 1-1 1z\"></path>\n",
       "</symbol>\n",
       "</defs>\n",
       "</svg>\n",
       "<style>/* CSS stylesheet for displaying xarray objects in jupyterlab.\n",
       " *\n",
       " */\n",
       "\n",
       ":root {\n",
       "  --xr-font-color0: var(--jp-content-font-color0, rgba(0, 0, 0, 1));\n",
       "  --xr-font-color2: var(--jp-content-font-color2, rgba(0, 0, 0, 0.54));\n",
       "  --xr-font-color3: var(--jp-content-font-color3, rgba(0, 0, 0, 0.38));\n",
       "  --xr-border-color: var(--jp-border-color2, #e0e0e0);\n",
       "  --xr-disabled-color: var(--jp-layout-color3, #bdbdbd);\n",
       "  --xr-background-color: var(--jp-layout-color0, white);\n",
       "  --xr-background-color-row-even: var(--jp-layout-color1, white);\n",
       "  --xr-background-color-row-odd: var(--jp-layout-color2, #eeeeee);\n",
       "}\n",
       "\n",
       "html[theme=dark],\n",
       "body[data-theme=dark],\n",
       "body.vscode-dark {\n",
       "  --xr-font-color0: rgba(255, 255, 255, 1);\n",
       "  --xr-font-color2: rgba(255, 255, 255, 0.54);\n",
       "  --xr-font-color3: rgba(255, 255, 255, 0.38);\n",
       "  --xr-border-color: #1F1F1F;\n",
       "  --xr-disabled-color: #515151;\n",
       "  --xr-background-color: #111111;\n",
       "  --xr-background-color-row-even: #111111;\n",
       "  --xr-background-color-row-odd: #313131;\n",
       "}\n",
       "\n",
       ".xr-wrap {\n",
       "  display: block !important;\n",
       "  min-width: 300px;\n",
       "  max-width: 700px;\n",
       "}\n",
       "\n",
       ".xr-text-repr-fallback {\n",
       "  /* fallback to plain text repr when CSS is not injected (untrusted notebook) */\n",
       "  display: none;\n",
       "}\n",
       "\n",
       ".xr-header {\n",
       "  padding-top: 6px;\n",
       "  padding-bottom: 6px;\n",
       "  margin-bottom: 4px;\n",
       "  border-bottom: solid 1px var(--xr-border-color);\n",
       "}\n",
       "\n",
       ".xr-header > div,\n",
       ".xr-header > ul {\n",
       "  display: inline;\n",
       "  margin-top: 0;\n",
       "  margin-bottom: 0;\n",
       "}\n",
       "\n",
       ".xr-obj-type,\n",
       ".xr-array-name {\n",
       "  margin-left: 2px;\n",
       "  margin-right: 10px;\n",
       "}\n",
       "\n",
       ".xr-obj-type {\n",
       "  color: var(--xr-font-color2);\n",
       "}\n",
       "\n",
       ".xr-sections {\n",
       "  padding-left: 0 !important;\n",
       "  display: grid;\n",
       "  grid-template-columns: 150px auto auto 1fr 20px 20px;\n",
       "}\n",
       "\n",
       ".xr-section-item {\n",
       "  display: contents;\n",
       "}\n",
       "\n",
       ".xr-section-item input {\n",
       "  display: none;\n",
       "}\n",
       "\n",
       ".xr-section-item input + label {\n",
       "  color: var(--xr-disabled-color);\n",
       "}\n",
       "\n",
       ".xr-section-item input:enabled + label {\n",
       "  cursor: pointer;\n",
       "  color: var(--xr-font-color2);\n",
       "}\n",
       "\n",
       ".xr-section-item input:enabled + label:hover {\n",
       "  color: var(--xr-font-color0);\n",
       "}\n",
       "\n",
       ".xr-section-summary {\n",
       "  grid-column: 1;\n",
       "  color: var(--xr-font-color2);\n",
       "  font-weight: 500;\n",
       "}\n",
       "\n",
       ".xr-section-summary > span {\n",
       "  display: inline-block;\n",
       "  padding-left: 0.5em;\n",
       "}\n",
       "\n",
       ".xr-section-summary-in:disabled + label {\n",
       "  color: var(--xr-font-color2);\n",
       "}\n",
       "\n",
       ".xr-section-summary-in + label:before {\n",
       "  display: inline-block;\n",
       "  content: '►';\n",
       "  font-size: 11px;\n",
       "  width: 15px;\n",
       "  text-align: center;\n",
       "}\n",
       "\n",
       ".xr-section-summary-in:disabled + label:before {\n",
       "  color: var(--xr-disabled-color);\n",
       "}\n",
       "\n",
       ".xr-section-summary-in:checked + label:before {\n",
       "  content: '▼';\n",
       "}\n",
       "\n",
       ".xr-section-summary-in:checked + label > span {\n",
       "  display: none;\n",
       "}\n",
       "\n",
       ".xr-section-summary,\n",
       ".xr-section-inline-details {\n",
       "  padding-top: 4px;\n",
       "  padding-bottom: 4px;\n",
       "}\n",
       "\n",
       ".xr-section-inline-details {\n",
       "  grid-column: 2 / -1;\n",
       "}\n",
       "\n",
       ".xr-section-details {\n",
       "  display: none;\n",
       "  grid-column: 1 / -1;\n",
       "  margin-bottom: 5px;\n",
       "}\n",
       "\n",
       ".xr-section-summary-in:checked ~ .xr-section-details {\n",
       "  display: contents;\n",
       "}\n",
       "\n",
       ".xr-array-wrap {\n",
       "  grid-column: 1 / -1;\n",
       "  display: grid;\n",
       "  grid-template-columns: 20px auto;\n",
       "}\n",
       "\n",
       ".xr-array-wrap > label {\n",
       "  grid-column: 1;\n",
       "  vertical-align: top;\n",
       "}\n",
       "\n",
       ".xr-preview {\n",
       "  color: var(--xr-font-color3);\n",
       "}\n",
       "\n",
       ".xr-array-preview,\n",
       ".xr-array-data {\n",
       "  padding: 0 5px !important;\n",
       "  grid-column: 2;\n",
       "}\n",
       "\n",
       ".xr-array-data,\n",
       ".xr-array-in:checked ~ .xr-array-preview {\n",
       "  display: none;\n",
       "}\n",
       "\n",
       ".xr-array-in:checked ~ .xr-array-data,\n",
       ".xr-array-preview {\n",
       "  display: inline-block;\n",
       "}\n",
       "\n",
       ".xr-dim-list {\n",
       "  display: inline-block !important;\n",
       "  list-style: none;\n",
       "  padding: 0 !important;\n",
       "  margin: 0;\n",
       "}\n",
       "\n",
       ".xr-dim-list li {\n",
       "  display: inline-block;\n",
       "  padding: 0;\n",
       "  margin: 0;\n",
       "}\n",
       "\n",
       ".xr-dim-list:before {\n",
       "  content: '(';\n",
       "}\n",
       "\n",
       ".xr-dim-list:after {\n",
       "  content: ')';\n",
       "}\n",
       "\n",
       ".xr-dim-list li:not(:last-child):after {\n",
       "  content: ',';\n",
       "  padding-right: 5px;\n",
       "}\n",
       "\n",
       ".xr-has-index {\n",
       "  font-weight: bold;\n",
       "}\n",
       "\n",
       ".xr-var-list,\n",
       ".xr-var-item {\n",
       "  display: contents;\n",
       "}\n",
       "\n",
       ".xr-var-item > div,\n",
       ".xr-var-item label,\n",
       ".xr-var-item > .xr-var-name span {\n",
       "  background-color: var(--xr-background-color-row-even);\n",
       "  margin-bottom: 0;\n",
       "}\n",
       "\n",
       ".xr-var-item > .xr-var-name:hover span {\n",
       "  padding-right: 5px;\n",
       "}\n",
       "\n",
       ".xr-var-list > li:nth-child(odd) > div,\n",
       ".xr-var-list > li:nth-child(odd) > label,\n",
       ".xr-var-list > li:nth-child(odd) > .xr-var-name span {\n",
       "  background-color: var(--xr-background-color-row-odd);\n",
       "}\n",
       "\n",
       ".xr-var-name {\n",
       "  grid-column: 1;\n",
       "}\n",
       "\n",
       ".xr-var-dims {\n",
       "  grid-column: 2;\n",
       "}\n",
       "\n",
       ".xr-var-dtype {\n",
       "  grid-column: 3;\n",
       "  text-align: right;\n",
       "  color: var(--xr-font-color2);\n",
       "}\n",
       "\n",
       ".xr-var-preview {\n",
       "  grid-column: 4;\n",
       "}\n",
       "\n",
       ".xr-index-preview {\n",
       "  grid-column: 2 / 5;\n",
       "  color: var(--xr-font-color2);\n",
       "}\n",
       "\n",
       ".xr-var-name,\n",
       ".xr-var-dims,\n",
       ".xr-var-dtype,\n",
       ".xr-preview,\n",
       ".xr-attrs dt {\n",
       "  white-space: nowrap;\n",
       "  overflow: hidden;\n",
       "  text-overflow: ellipsis;\n",
       "  padding-right: 10px;\n",
       "}\n",
       "\n",
       ".xr-var-name:hover,\n",
       ".xr-var-dims:hover,\n",
       ".xr-var-dtype:hover,\n",
       ".xr-attrs dt:hover {\n",
       "  overflow: visible;\n",
       "  width: auto;\n",
       "  z-index: 1;\n",
       "}\n",
       "\n",
       ".xr-var-attrs,\n",
       ".xr-var-data,\n",
       ".xr-index-data {\n",
       "  display: none;\n",
       "  background-color: var(--xr-background-color) !important;\n",
       "  padding-bottom: 5px !important;\n",
       "}\n",
       "\n",
       ".xr-var-attrs-in:checked ~ .xr-var-attrs,\n",
       ".xr-var-data-in:checked ~ .xr-var-data,\n",
       ".xr-index-data-in:checked ~ .xr-index-data {\n",
       "  display: block;\n",
       "}\n",
       "\n",
       ".xr-var-data > table {\n",
       "  float: right;\n",
       "}\n",
       "\n",
       ".xr-var-name span,\n",
       ".xr-var-data,\n",
       ".xr-index-name div,\n",
       ".xr-index-data,\n",
       ".xr-attrs {\n",
       "  padding-left: 25px !important;\n",
       "}\n",
       "\n",
       ".xr-attrs,\n",
       ".xr-var-attrs,\n",
       ".xr-var-data,\n",
       ".xr-index-data {\n",
       "  grid-column: 1 / -1;\n",
       "}\n",
       "\n",
       "dl.xr-attrs {\n",
       "  padding: 0;\n",
       "  margin: 0;\n",
       "  display: grid;\n",
       "  grid-template-columns: 125px auto;\n",
       "}\n",
       "\n",
       ".xr-attrs dt,\n",
       ".xr-attrs dd {\n",
       "  padding: 0;\n",
       "  margin: 0;\n",
       "  float: left;\n",
       "  padding-right: 10px;\n",
       "  width: auto;\n",
       "}\n",
       "\n",
       ".xr-attrs dt {\n",
       "  font-weight: normal;\n",
       "  grid-column: 1;\n",
       "}\n",
       "\n",
       ".xr-attrs dt:hover span {\n",
       "  display: inline-block;\n",
       "  background: var(--xr-background-color);\n",
       "  padding-right: 10px;\n",
       "}\n",
       "\n",
       ".xr-attrs dd {\n",
       "  grid-column: 2;\n",
       "  white-space: pre-wrap;\n",
       "  word-break: break-all;\n",
       "}\n",
       "\n",
       ".xr-icon-database,\n",
       ".xr-icon-file-text2,\n",
       ".xr-no-icon {\n",
       "  display: inline-block;\n",
       "  vertical-align: middle;\n",
       "  width: 1em;\n",
       "  height: 1.5em !important;\n",
       "  stroke-width: 0;\n",
       "  stroke: currentColor;\n",
       "  fill: currentColor;\n",
       "}\n",
       "</style><pre class='xr-text-repr-fallback'>&lt;xarray.Dataset&gt;\n",
       "Dimensions:      (time: 303, y: 155, x: 239)\n",
       "Coordinates:\n",
       "  * time         (time) datetime64[ns] 2020-01-03T00:13:03.343948 ... 2022-12...\n",
       "  * y            (y) float64 -2.678e+06 -2.678e+06 ... -2.683e+06 -2.683e+06\n",
       "  * x            (x) float64 1.93e+06 1.93e+06 1.93e+06 ... 1.937e+06 1.937e+06\n",
       "    spatial_ref  int32 3577\n",
       "Data variables:\n",
       "    ndwi         (time, y, x) float32 0.1483 0.1497 0.1519 ... -0.5674 -0.5051\n",
       "Attributes:\n",
       "    crs:           EPSG:3577\n",
       "    grid_mapping:  spatial_ref</pre><div class='xr-wrap' style='display:none'><div class='xr-header'><div class='xr-obj-type'>xarray.Dataset</div></div><ul class='xr-sections'><li class='xr-section-item'><input id='section-f3ea0cf2-7f07-4121-9a23-d2585ac9d4dc' class='xr-section-summary-in' type='checkbox' disabled ><label for='section-f3ea0cf2-7f07-4121-9a23-d2585ac9d4dc' class='xr-section-summary'  title='Expand/collapse section'>Dimensions:</label><div class='xr-section-inline-details'><ul class='xr-dim-list'><li><span class='xr-has-index'>time</span>: 303</li><li><span class='xr-has-index'>y</span>: 155</li><li><span class='xr-has-index'>x</span>: 239</li></ul></div><div class='xr-section-details'></div></li><li class='xr-section-item'><input id='section-dbd6cc07-c1cd-48da-80af-01bcf2ba9d44' class='xr-section-summary-in' type='checkbox'  checked><label for='section-dbd6cc07-c1cd-48da-80af-01bcf2ba9d44' class='xr-section-summary' >Coordinates: <span>(4)</span></label><div class='xr-section-inline-details'></div><div class='xr-section-details'><ul class='xr-var-list'><li class='xr-var-item'><div class='xr-var-name'><span class='xr-has-index'>time</span></div><div class='xr-var-dims'>(time)</div><div class='xr-var-dtype'>datetime64[ns]</div><div class='xr-var-preview xr-preview'>2020-01-03T00:13:03.343948 ... 2...</div><input id='attrs-66a98bcd-4d09-49b5-8992-7e561d01bd59' class='xr-var-attrs-in' type='checkbox' ><label for='attrs-66a98bcd-4d09-49b5-8992-7e561d01bd59' title='Show/Hide attributes'><svg class='icon xr-icon-file-text2'><use xlink:href='#icon-file-text2'></use></svg></label><input id='data-af8090ea-a0c6-4695-be97-62a75975723b' class='xr-var-data-in' type='checkbox'><label for='data-af8090ea-a0c6-4695-be97-62a75975723b' title='Show/Hide data repr'><svg class='icon xr-icon-database'><use xlink:href='#icon-database'></use></svg></label><div class='xr-var-attrs'><dl class='xr-attrs'><dt><span>units :</span></dt><dd>seconds since 1970-01-01 00:00:00</dd></dl></div><div class='xr-var-data'><pre>array([&#x27;2020-01-03T00:13:03.343948000&#x27;, &#x27;2020-01-07T23:53:29.051351000&#x27;,\n",
       "       &#x27;2020-01-08T00:13:03.655332000&#x27;, ..., &#x27;2022-12-22T23:53:40.820359000&#x27;,\n",
       "       &#x27;2022-12-23T00:13:22.730900000&#x27;, &#x27;2022-12-30T23:53:42.113542000&#x27;],\n",
       "      dtype=&#x27;datetime64[ns]&#x27;)</pre></div></li><li class='xr-var-item'><div class='xr-var-name'><span class='xr-has-index'>y</span></div><div class='xr-var-dims'>(y)</div><div class='xr-var-dtype'>float64</div><div class='xr-var-preview xr-preview'>-2.678e+06 ... -2.683e+06</div><input id='attrs-a2e57a28-cfd5-4cfe-b439-444f7c83761c' class='xr-var-attrs-in' type='checkbox' ><label for='attrs-a2e57a28-cfd5-4cfe-b439-444f7c83761c' title='Show/Hide attributes'><svg class='icon xr-icon-file-text2'><use xlink:href='#icon-file-text2'></use></svg></label><input id='data-cfdd9520-2a42-4dad-a045-6ddc71ed145f' class='xr-var-data-in' type='checkbox'><label for='data-cfdd9520-2a42-4dad-a045-6ddc71ed145f' title='Show/Hide data repr'><svg class='icon xr-icon-database'><use xlink:href='#icon-database'></use></svg></label><div class='xr-var-attrs'><dl class='xr-attrs'><dt><span>units :</span></dt><dd>metre</dd><dt><span>resolution :</span></dt><dd>-30.0</dd><dt><span>crs :</span></dt><dd>EPSG:3577</dd></dl></div><div class='xr-var-data'><pre>array([-2678325., -2678355., -2678385., -2678415., -2678445., -2678475.,\n",
       "       -2678505., -2678535., -2678565., -2678595., -2678625., -2678655.,\n",
       "       -2678685., -2678715., -2678745., -2678775., -2678805., -2678835.,\n",
       "       -2678865., -2678895., -2678925., -2678955., -2678985., -2679015.,\n",
       "       -2679045., -2679075., -2679105., -2679135., -2679165., -2679195.,\n",
       "       -2679225., -2679255., -2679285., -2679315., -2679345., -2679375.,\n",
       "       -2679405., -2679435., -2679465., -2679495., -2679525., -2679555.,\n",
       "       -2679585., -2679615., -2679645., -2679675., -2679705., -2679735.,\n",
       "       -2679765., -2679795., -2679825., -2679855., -2679885., -2679915.,\n",
       "       -2679945., -2679975., -2680005., -2680035., -2680065., -2680095.,\n",
       "       -2680125., -2680155., -2680185., -2680215., -2680245., -2680275.,\n",
       "       -2680305., -2680335., -2680365., -2680395., -2680425., -2680455.,\n",
       "       -2680485., -2680515., -2680545., -2680575., -2680605., -2680635.,\n",
       "       -2680665., -2680695., -2680725., -2680755., -2680785., -2680815.,\n",
       "       -2680845., -2680875., -2680905., -2680935., -2680965., -2680995.,\n",
       "       -2681025., -2681055., -2681085., -2681115., -2681145., -2681175.,\n",
       "       -2681205., -2681235., -2681265., -2681295., -2681325., -2681355.,\n",
       "       -2681385., -2681415., -2681445., -2681475., -2681505., -2681535.,\n",
       "       -2681565., -2681595., -2681625., -2681655., -2681685., -2681715.,\n",
       "       -2681745., -2681775., -2681805., -2681835., -2681865., -2681895.,\n",
       "       -2681925., -2681955., -2681985., -2682015., -2682045., -2682075.,\n",
       "       -2682105., -2682135., -2682165., -2682195., -2682225., -2682255.,\n",
       "       -2682285., -2682315., -2682345., -2682375., -2682405., -2682435.,\n",
       "       -2682465., -2682495., -2682525., -2682555., -2682585., -2682615.,\n",
       "       -2682645., -2682675., -2682705., -2682735., -2682765., -2682795.,\n",
       "       -2682825., -2682855., -2682885., -2682915., -2682945.])</pre></div></li><li class='xr-var-item'><div class='xr-var-name'><span class='xr-has-index'>x</span></div><div class='xr-var-dims'>(x)</div><div class='xr-var-dtype'>float64</div><div class='xr-var-preview xr-preview'>1.93e+06 1.93e+06 ... 1.937e+06</div><input id='attrs-4b710ccf-8e0a-49eb-ba2a-32bd5e9bac74' class='xr-var-attrs-in' type='checkbox' ><label for='attrs-4b710ccf-8e0a-49eb-ba2a-32bd5e9bac74' title='Show/Hide attributes'><svg class='icon xr-icon-file-text2'><use xlink:href='#icon-file-text2'></use></svg></label><input id='data-b229eb8c-cfde-4561-aa71-0db4346c7292' class='xr-var-data-in' type='checkbox'><label for='data-b229eb8c-cfde-4561-aa71-0db4346c7292' title='Show/Hide data repr'><svg class='icon xr-icon-database'><use xlink:href='#icon-database'></use></svg></label><div class='xr-var-attrs'><dl class='xr-attrs'><dt><span>units :</span></dt><dd>metre</dd><dt><span>resolution :</span></dt><dd>30.0</dd><dt><span>crs :</span></dt><dd>EPSG:3577</dd></dl></div><div class='xr-var-data'><pre>array([1929765., 1929795., 1929825., ..., 1936845., 1936875., 1936905.])</pre></div></li><li class='xr-var-item'><div class='xr-var-name'><span>spatial_ref</span></div><div class='xr-var-dims'>()</div><div class='xr-var-dtype'>int32</div><div class='xr-var-preview xr-preview'>3577</div><input id='attrs-ef5c11bb-fec8-41d6-8347-9ca9e504731e' class='xr-var-attrs-in' type='checkbox' ><label for='attrs-ef5c11bb-fec8-41d6-8347-9ca9e504731e' title='Show/Hide attributes'><svg class='icon xr-icon-file-text2'><use xlink:href='#icon-file-text2'></use></svg></label><input id='data-2c532def-b7fe-4966-94a3-fdceb2e3f674' class='xr-var-data-in' type='checkbox'><label for='data-2c532def-b7fe-4966-94a3-fdceb2e3f674' title='Show/Hide data repr'><svg class='icon xr-icon-database'><use xlink:href='#icon-database'></use></svg></label><div class='xr-var-attrs'><dl class='xr-attrs'><dt><span>spatial_ref :</span></dt><dd>PROJCS[&quot;GDA94 / Australian Albers&quot;,GEOGCS[&quot;GDA94&quot;,DATUM[&quot;Geocentric_Datum_of_Australia_1994&quot;,SPHEROID[&quot;GRS 1980&quot;,6378137,298.257222101,AUTHORITY[&quot;EPSG&quot;,&quot;7019&quot;]],AUTHORITY[&quot;EPSG&quot;,&quot;6283&quot;]],PRIMEM[&quot;Greenwich&quot;,0,AUTHORITY[&quot;EPSG&quot;,&quot;8901&quot;]],UNIT[&quot;degree&quot;,0.0174532925199433,AUTHORITY[&quot;EPSG&quot;,&quot;9122&quot;]],AUTHORITY[&quot;EPSG&quot;,&quot;4283&quot;]],PROJECTION[&quot;Albers_Conic_Equal_Area&quot;],PARAMETER[&quot;latitude_of_center&quot;,0],PARAMETER[&quot;longitude_of_center&quot;,132],PARAMETER[&quot;standard_parallel_1&quot;,-18],PARAMETER[&quot;standard_parallel_2&quot;,-36],PARAMETER[&quot;false_easting&quot;,0],PARAMETER[&quot;false_northing&quot;,0],UNIT[&quot;metre&quot;,1,AUTHORITY[&quot;EPSG&quot;,&quot;9001&quot;]],AXIS[&quot;Easting&quot;,EAST],AXIS[&quot;Northing&quot;,NORTH],AUTHORITY[&quot;EPSG&quot;,&quot;3577&quot;]]</dd><dt><span>grid_mapping_name :</span></dt><dd>albers_conical_equal_area</dd></dl></div><div class='xr-var-data'><pre>array(3577, dtype=int32)</pre></div></li></ul></div></li><li class='xr-section-item'><input id='section-a354e3e3-b3b4-4dc1-a6a2-b10cac22ed49' class='xr-section-summary-in' type='checkbox'  checked><label for='section-a354e3e3-b3b4-4dc1-a6a2-b10cac22ed49' class='xr-section-summary' >Data variables: <span>(1)</span></label><div class='xr-section-inline-details'></div><div class='xr-section-details'><ul class='xr-var-list'><li class='xr-var-item'><div class='xr-var-name'><span>ndwi</span></div><div class='xr-var-dims'>(time, y, x)</div><div class='xr-var-dtype'>float32</div><div class='xr-var-preview xr-preview'>0.1483 0.1497 ... -0.5674 -0.5051</div><input id='attrs-a8f7a70a-a7cd-4cca-b39a-a82b3543a54e' class='xr-var-attrs-in' type='checkbox' disabled><label for='attrs-a8f7a70a-a7cd-4cca-b39a-a82b3543a54e' title='Show/Hide attributes'><svg class='icon xr-icon-file-text2'><use xlink:href='#icon-file-text2'></use></svg></label><input id='data-d6bfbbee-f592-47a9-84eb-9e89cb0f6a87' class='xr-var-data-in' type='checkbox'><label for='data-d6bfbbee-f592-47a9-84eb-9e89cb0f6a87' title='Show/Hide data repr'><svg class='icon xr-icon-database'><use xlink:href='#icon-database'></use></svg></label><div class='xr-var-attrs'><dl class='xr-attrs'></dl></div><div class='xr-var-data'><pre>array([[[ 0.1483113 ,  0.14968815,  0.15192965, ...,  0.08225966,\n",
       "          0.13251606,  0.11177053],\n",
       "        [ 0.14503817,  0.14182939,  0.1394541 , ...,  0.08245711,\n",
       "          0.10438075,  0.07745779],\n",
       "        [ 0.1613577 ,  0.1311232 ,  0.1594203 , ...,  0.11581174,\n",
       "          0.09635974,  0.11350188],\n",
       "        ...,\n",
       "        [        nan,         nan,         nan, ..., -0.42480505,\n",
       "         -0.42543766, -0.44609374],\n",
       "        [        nan,         nan,         nan, ..., -0.43957436,\n",
       "         -0.4077922 , -0.4317269 ],\n",
       "        [        nan,         nan,         nan, ..., -0.4402904 ,\n",
       "         -0.43467176, -0.4105773 ]],\n",
       "\n",
       "       [[ 0.36430833,  0.35665914,  0.36448598, ...,  0.33258173,\n",
       "          0.33029613,  0.31651375],\n",
       "        [ 0.371123  ,  0.36774194,  0.35857987, ...,  0.32459018,\n",
       "          0.3258427 ,  0.30289534],\n",
       "        [ 0.35974973,  0.36363637,  0.36266094, ...,  0.3134963 ,\n",
       "          0.30115426,  0.31175837],\n",
       "...\n",
       "        [        nan,         nan,         nan, ...,         nan,\n",
       "                 nan,         nan],\n",
       "        [        nan,         nan,         nan, ...,         nan,\n",
       "                 nan,         nan],\n",
       "        [        nan,         nan,         nan, ...,         nan,\n",
       "                 nan,         nan]],\n",
       "\n",
       "       [[        nan,         nan,         nan, ...,  0.36849043,\n",
       "          0.37123746,  0.39797395],\n",
       "        [        nan,         nan,         nan, ...,  0.3736413 ,\n",
       "          0.3744076 ,  0.37631395],\n",
       "        [        nan,         nan,         nan, ...,  0.3760218 ,\n",
       "          0.38261464,  0.3819918 ],\n",
       "        ...,\n",
       "        [        nan,         nan,         nan, ..., -0.4257056 ,\n",
       "         -0.42200676, -0.58547276],\n",
       "        [        nan,         nan,         nan, ..., -0.57205755,\n",
       "         -0.4382771 , -0.4787234 ],\n",
       "        [        nan,         nan,         nan, ..., -0.6087609 ,\n",
       "         -0.567378  , -0.5051282 ]]], dtype=float32)</pre></div></li></ul></div></li><li class='xr-section-item'><input id='section-81c20a2a-0ac6-4507-998e-7093cdb0a5f6' class='xr-section-summary-in' type='checkbox'  ><label for='section-81c20a2a-0ac6-4507-998e-7093cdb0a5f6' class='xr-section-summary' >Indexes: <span>(3)</span></label><div class='xr-section-inline-details'></div><div class='xr-section-details'><ul class='xr-var-list'><li class='xr-var-item'><div class='xr-index-name'><div>time</div></div><div class='xr-index-preview'>PandasIndex</div><div></div><input id='index-c2250377-e130-410e-80ac-54395a88163e' class='xr-index-data-in' type='checkbox'/><label for='index-c2250377-e130-410e-80ac-54395a88163e' title='Show/Hide index repr'><svg class='icon xr-icon-database'><use xlink:href='#icon-database'></use></svg></label><div class='xr-index-data'><pre>PandasIndex(DatetimeIndex([&#x27;2020-01-03 00:13:03.343948&#x27;, &#x27;2020-01-07 23:53:29.051351&#x27;,\n",
       "               &#x27;2020-01-08 00:13:03.655332&#x27;, &#x27;2020-01-13 00:13:17.720851&#x27;,\n",
       "               &#x27;2020-01-15 23:33:25.735109&#x27;, &#x27;2020-01-18 00:13:02.774668&#x27;,\n",
       "               &#x27;2020-01-31 23:32:38.041837&#x27;, &#x27;2020-02-02 00:13:00.998023&#x27;,\n",
       "               &#x27;2020-02-08 23:53:20.237257&#x27;, &#x27;2020-02-12 00:13:01.714086&#x27;,\n",
       "               ...\n",
       "               &#x27;2022-11-13 00:13:22.972634&#x27;, &#x27;2022-11-18 00:13:25.148132&#x27;,\n",
       "               &#x27;2022-11-20 23:53:45.162957&#x27;, &#x27;2022-11-23 00:13:23.014280&#x27;,\n",
       "               &#x27;2022-12-03 00:13:21.357102&#x27;, &#x27;2022-12-06 23:53:43.531177&#x27;,\n",
       "               &#x27;2022-12-14 23:53:46.365088&#x27;, &#x27;2022-12-22 23:53:40.820359&#x27;,\n",
       "               &#x27;2022-12-23 00:13:22.730900&#x27;, &#x27;2022-12-30 23:53:42.113542&#x27;],\n",
       "              dtype=&#x27;datetime64[ns]&#x27;, name=&#x27;time&#x27;, length=303, freq=None))</pre></div></li><li class='xr-var-item'><div class='xr-index-name'><div>y</div></div><div class='xr-index-preview'>PandasIndex</div><div></div><input id='index-6f138518-f434-4707-ba65-0bfbbdfca730' class='xr-index-data-in' type='checkbox'/><label for='index-6f138518-f434-4707-ba65-0bfbbdfca730' title='Show/Hide index repr'><svg class='icon xr-icon-database'><use xlink:href='#icon-database'></use></svg></label><div class='xr-index-data'><pre>PandasIndex(Float64Index([-2678325.0, -2678355.0, -2678385.0, -2678415.0, -2678445.0,\n",
       "              -2678475.0, -2678505.0, -2678535.0, -2678565.0, -2678595.0,\n",
       "              ...\n",
       "              -2682675.0, -2682705.0, -2682735.0, -2682765.0, -2682795.0,\n",
       "              -2682825.0, -2682855.0, -2682885.0, -2682915.0, -2682945.0],\n",
       "             dtype=&#x27;float64&#x27;, name=&#x27;y&#x27;, length=155))</pre></div></li><li class='xr-var-item'><div class='xr-index-name'><div>x</div></div><div class='xr-index-preview'>PandasIndex</div><div></div><input id='index-f432e014-4cdb-4c94-a6a0-925175715316' class='xr-index-data-in' type='checkbox'/><label for='index-f432e014-4cdb-4c94-a6a0-925175715316' title='Show/Hide index repr'><svg class='icon xr-icon-database'><use xlink:href='#icon-database'></use></svg></label><div class='xr-index-data'><pre>PandasIndex(Float64Index([1929765.0, 1929795.0, 1929825.0, 1929855.0, 1929885.0, 1929915.0,\n",
       "              1929945.0, 1929975.0, 1930005.0, 1930035.0,\n",
       "              ...\n",
       "              1936635.0, 1936665.0, 1936695.0, 1936725.0, 1936755.0, 1936785.0,\n",
       "              1936815.0, 1936845.0, 1936875.0, 1936905.0],\n",
       "             dtype=&#x27;float64&#x27;, name=&#x27;x&#x27;, length=239))</pre></div></li></ul></div></li><li class='xr-section-item'><input id='section-d76009f1-8ec7-4f60-ba01-adb12af5aebd' class='xr-section-summary-in' type='checkbox'  checked><label for='section-d76009f1-8ec7-4f60-ba01-adb12af5aebd' class='xr-section-summary' >Attributes: <span>(2)</span></label><div class='xr-section-inline-details'></div><div class='xr-section-details'><dl class='xr-attrs'><dt><span>crs :</span></dt><dd>EPSG:3577</dd><dt><span>grid_mapping :</span></dt><dd>spatial_ref</dd></dl></div></li></ul></div></div>"
      ],
      "text/plain": [
       "<xarray.Dataset>\n",
       "Dimensions:      (time: 303, y: 155, x: 239)\n",
       "Coordinates:\n",
       "  * time         (time) datetime64[ns] 2020-01-03T00:13:03.343948 ... 2022-12...\n",
       "  * y            (y) float64 -2.678e+06 -2.678e+06 ... -2.683e+06 -2.683e+06\n",
       "  * x            (x) float64 1.93e+06 1.93e+06 1.93e+06 ... 1.937e+06 1.937e+06\n",
       "    spatial_ref  int32 3577\n",
       "Data variables:\n",
       "    ndwi         (time, y, x) float32 0.1483 0.1497 0.1519 ... -0.5674 -0.5051\n",
       "Attributes:\n",
       "    crs:           EPSG:3577\n",
       "    grid_mapping:  spatial_ref"
      ]
     },
     "execution_count": 8,
     "metadata": {},
     "output_type": "execute_result"
    }
   ],
   "source": [
    "%%time\n",
    "\n",
    "# Connect to datacube\n",
    "dc = datacube.Datacube(app=\"Intertidal_elevation\")\n",
    "\n",
    "# Create local dask cluster to improve data load time\n",
    "client = create_local_dask_cluster(return_client=True)\n",
    "\n",
    "satellite_ds,_,_ = load_data(\n",
    "    dc=dc,\n",
    "    study_area=study_area,\n",
    "    geom=geom,\n",
    "    time_range=(start_date, end_date),\n",
    "    resolution=resolution,\n",
    "    crs=crs,\n",
    "    include_s2=True,\n",
    "    include_ls=True,\n",
    "    filter_gqa=filter_gqa,\n",
    "    max_cloudcover=90,\n",
    "    skip_broken_datasets=True,\n",
    ")\n",
    "\n",
    "print(satellite_ds)\n",
    "\n",
    "# Load data\n",
    "satellite_ds.load()"
   ]
  },
  {
   "cell_type": "markdown",
   "id": "1e110fbd",
   "metadata": {},
   "source": [
    "### Load optional topobathy mask\n",
    "Loads a topo-bathymetric DEM for the extents of the loaded satellite data.\n",
    "This is used as a coarse mask to constrain the analysis to the coastal zone, improving run time and reducing clear false positives over deep water or elevated land."
   ]
  },
  {
   "cell_type": "code",
   "execution_count": 9,
   "id": "86e0342f",
   "metadata": {
    "tags": []
   },
   "outputs": [],
   "source": [
    "# Load data from GA's AusBathyTopo 250m 2023 Grid\n",
    "topobathy_mask = load_topobathy_mask(dc, geobox=satellite_ds.odc.geobox.compat)"
   ]
  },
  {
   "cell_type": "markdown",
   "id": "61de9aa9",
   "metadata": {},
   "source": [
    "### Intertidal elevation\n",
    "To run without the topobathy DEM mask, comment out `valid_mask=...`."
   ]
  },
  {
   "cell_type": "code",
   "execution_count": 10,
   "id": "498a6da5",
   "metadata": {
    "tags": []
   },
   "outputs": [
    {
     "name": "stderr",
     "output_type": "stream",
     "text": [
      "2024-05-01 10:44:06 INFO Processing: Modelling tide heights for each pixel\n"
     ]
    },
    {
     "name": "stdout",
     "output_type": "stream",
     "text": [
      "Running ensemble tide modelling\n",
      "Creating reduced resolution 5000 x 5000 metre tide modelling array\n",
      "Modelling tides using FES2014, FES2012, TPXO8-atlas-v1, TPXO9-atlas-v5, EOT20, HAMTIDE11, GOT4.10 in parallel\n"
     ]
    },
    {
     "name": "stderr",
     "output_type": "stream",
     "text": [
      "100%|██████████| 35/35 [00:30<00:00,  1.17it/s]\n"
     ]
    },
    {
     "name": "stdout",
     "output_type": "stream",
     "text": [
      "Returning low resolution tide array\n",
      "Generating ensemble tide model from point inputs\n",
      "Interpolating model weights using 'idw' interpolation\n",
      "                 weights\n",
      "tide_model              \n",
      "TPXO8-atlas-v1  0.360598\n",
      "FES2012         0.359349\n",
      "HAMTIDE11       0.358341\n",
      "TPXO9-atlas-v5  0.357452\n",
      "GOT4.10         0.354272\n",
      "FES2014         0.345433\n",
      "EOT20           0.343870\n",
      "Reducing multiple models into single ensemble model using 'mean'\n",
      "Reprojecting ensemble tides into original array\n"
     ]
    },
    {
     "name": "stderr",
     "output_type": "stream",
     "text": [
      "2024-05-01 10:44:42 INFO Processing: Masking nodata and adding tide heights to satellite data array\n",
      "2024-05-01 10:44:42 INFO Processing: Flattening satellite data array and filtering to intertidal candidate pixels\n",
      "2024-05-01 10:44:42 INFO Processing: Applying valid data mask to constrain study area\n",
      "2024-05-01 10:44:42 INFO Processing: Running per-pixel rolling median\n"
     ]
    },
    {
     "name": "stdout",
     "output_type": "stream",
     "text": [
      "Reducing analysed pixels from 37045 to 13002 (35.10%)\n"
     ]
    },
    {
     "data": {
      "application/vnd.jupyter.widget-view+json": {
       "model_id": "b5f1ba9ec3b740e5ae2565d646c8bf68",
       "version_major": 2,
       "version_minor": 0
      },
      "text/plain": [
       "  0%|          | 0/105 [00:00<?, ?it/s]"
      ]
     },
     "metadata": {},
     "output_type": "display_data"
    },
    {
     "name": "stderr",
     "output_type": "stream",
     "text": [
      "2024-05-01 10:44:56 INFO Processing: Modelling intertidal elevation\n",
      "2024-05-01 10:44:56 INFO Processing: Modelling intertidal uncertainty\n"
     ]
    },
    {
     "name": "stdout",
     "output_type": "stream",
     "text": [
      "Applying tidal interval interpolation to 200 intervals\n",
      "Applying rolling mean smoothing with radius 20\n"
     ]
    },
    {
     "name": "stderr",
     "output_type": "stream",
     "text": [
      "2024-05-01 10:44:57 INFO Processing: Unflattening data back to its original spatial dimensions\n",
      "2024-05-01 10:44:57 INFO Processing: Cleaning inaccurate upper intertidal pixels\n",
      "2024-05-01 10:44:57 INFO Processing: Successfully completed intertidal elevation modelling\n"
     ]
    }
   ],
   "source": [
    "# Model elevation for each pixel\n",
    "ds, tide_m = elevation(\n",
    "    satellite_ds,\n",
    "    valid_mask=topobathy_mask,\n",
    "    tide_model=tide_model,\n",
    "    tide_model_dir=tide_model_dir,\n",
    ")"
   ]
  },
  {
   "cell_type": "code",
   "execution_count": 11,
   "id": "fbe73592-e84a-41cc-bf6f-4847b0b1c7cb",
   "metadata": {
    "tags": []
   },
   "outputs": [
    {
     "name": "stdout",
     "output_type": "stream",
     "text": [
      "Stored 'ds' (Dataset)\n"
     ]
    }
   ],
   "source": [
    "%store ds"
   ]
  },
  {
   "cell_type": "markdown",
   "id": "704fc753",
   "metadata": {
    "tags": []
   },
   "source": [
    "### Intertidal extents\n"
   ]
  },
  {
   "cell_type": "code",
   "execution_count": 12,
   "id": "f7f72117",
   "metadata": {
    "tags": []
   },
   "outputs": [],
   "source": [
    "# Load and reclassify for intensive urban land use class only the ABARES ACLUM ds\n",
    "reclassified_aclum = load_aclum_mask(dc, geobox=satellite_ds.odc.geobox.compat)\n",
    "\n",
    "# Calculate intertidal extents\n",
    "ds[\"extents\"] = extents(\n",
    "    dem=ds.elevation,\n",
    "    freq=ds.qa_ndwi_freq,\n",
    "    corr=ds.qa_ndwi_corr,\n",
    "    reclassified_aclum=reclassified_aclum,\n",
    ")"
   ]
  },
  {
   "cell_type": "code",
   "execution_count": 13,
   "id": "2e92bfa6",
   "metadata": {
    "tags": []
   },
   "outputs": [],
   "source": [
    "# ## Plot with labels\n",
    "# labels=['0 Dry',\n",
    "#        '1 Intermittent\\n   wet\\n   inland',\n",
    "#        '2 Wet inland',\n",
    "#        '3 Wet ocean',\n",
    "#        '4 Intertidal lc',\n",
    "#        '5 Intertidal hc',\n",
    "#        ]\n",
    "\n",
    "# fig,ax=plt.subplots(figsize=(12,8))\n",
    "# cax=ax.imshow(ds['extents'], cmap='terrain_r')\n",
    "# cbar=fig.colorbar(cax, ticks=[0,1,2,3,4,5])\n",
    "# cbar.ax.set_yticklabels(labels)\n",
    "# plt.show()"
   ]
  },
  {
   "cell_type": "markdown",
   "id": "063c72b9",
   "metadata": {
    "tags": []
   },
   "source": [
    "### Intertidal exposure\n",
    "Calculate exposure using the script function.\n",
    "To calculate exposure for the full time period, leave `filters` commented out or set as ['unfiltered'].\n",
    "See the function documentation for the full range of available filters and filter_combinations.\n",
    "The code accepts lists of multiple filters and filter_combination tuples."
   ]
  },
  {
   "cell_type": "code",
   "execution_count": null,
   "id": "e1ff8db8",
   "metadata": {
    "tags": []
   },
   "outputs": [
    {
     "name": "stdout",
     "output_type": "stream",
     "text": [
      "-----\n",
      "Calculating unfiltered exposure\n",
      "Running ensemble tide modelling\n",
      "Creating reduced resolution 3000 x 3000 metre tide modelling array\n",
      "Modelling tides using FES2014, FES2012, TPXO8-atlas-v1, TPXO9-atlas-v5, EOT20, HAMTIDE11, GOT4.10 in parallel\n"
     ]
    },
    {
     "name": "stderr",
     "output_type": "stream",
     "text": [
      "  0%|          | 0/35 [00:00<?, ?it/s]"
     ]
    }
   ],
   "source": [
    "%reload_ext autoreload\n",
    "\n",
    "#Temp variable call\n",
    "filters=['Wet','unfiltered', 'Lowtide', 'Dry']\n",
    "filters_combined = [('Wet','Neap_low')]\n",
    "\n",
    "exposure_filters, tide_cq_dict = exposure(\n",
    "    dem=ds.elevation,\n",
    "    start_date=start_date,\n",
    "    end_date=end_date,\n",
    "    modelled_freq = modelled_freq,\n",
    "    tide_model=tide_model,\n",
    "    tide_model_dir=tide_model_dir,\n",
    "    filters=filters,\n",
    "    filters_combined=filters_combined,\n",
    ")\n",
    "\n",
    "for x in list(exposure_filters.keys()):\n",
    "    ds['exposure_'+str(x)]=exposure_filters[str(x)]\n",
    "    # tide_cq_dict['exposure_'+str(x)]=tide_cq_d"
   ]
  },
  {
   "cell_type": "code",
   "execution_count": null,
   "id": "152e0282-c137-4507-9f60-9dc5344173c2",
   "metadata": {
    "tags": []
   },
   "outputs": [],
   "source": [
    "ds#.exposure_unfiltered.plot()"
   ]
  },
  {
   "cell_type": "code",
   "execution_count": null,
   "id": "2d9e6ca6-8674-4abc-8cab-59ffb680dd20",
   "metadata": {
    "tags": []
   },
   "outputs": [],
   "source": [
    "# %store ds"
   ]
  },
  {
   "cell_type": "code",
   "execution_count": null,
   "id": "9f13b98f-9321-4ab0-9355-ecf6655a2022",
   "metadata": {
    "tags": []
   },
   "outputs": [],
   "source": [
    "tide_cq_dict.unfiltered.max(dim='quantile').where(ds.elevation.notnull()).plot()#isel(y=0,x=0).max()#.plot()"
   ]
  },
  {
   "cell_type": "code",
   "execution_count": null,
   "id": "884ea378-8cb8-4acb-809d-9e7f82b33801",
   "metadata": {
    "tags": []
   },
   "outputs": [],
   "source": [
    "ds.exposure_Hightide.plot()"
   ]
  },
  {
   "cell_type": "code",
   "execution_count": null,
   "id": "4cd1c131-0dbb-4392-8b3e-92acf6ffa737",
   "metadata": {
    "tags": []
   },
   "outputs": [],
   "source": [
    "ds.exposure_Lowtide.plot()"
   ]
  },
  {
   "cell_type": "markdown",
   "id": "a3157252",
   "metadata": {},
   "source": [
    "### Spread and offset\n",
    "Calculate the spread and high/low tide biases of input observed images as a percentage of the modelled tide heights.\n",
    "\n",
    "Warning: this code will only work if the exposure function has been run and produced 'unfiltered' exposure results.\n"
   ]
  },
  {
   "cell_type": "code",
   "execution_count": null,
   "id": "e8c240d4",
   "metadata": {
    "tags": []
   },
   "outputs": [],
   "source": [
    "# ds[\"exposure\"], tide_cq = exposure(\n",
    "#     dem=ds.elevation,\n",
    "#     times=all_timerange,\n",
    "#     tide_model=tide_model,\n",
    "#     tide_model_dir=tide_model_dir,\n",
    "# )"
   ]
  },
  {
   "cell_type": "code",
   "execution_count": null,
   "id": "f7a4cd0a",
   "metadata": {
    "tags": []
   },
   "outputs": [],
   "source": [
    "(\n",
    "    ds[\"ta_lat\"],\n",
    "    ds[\"ta_hat\"],\n",
    "    ds[\"ta_lot\"],\n",
    "    ds[\"ta_hot\"],\n",
    "    ds[\"ta_spread\"],\n",
    "    ds[\"ta_offset_low\"],\n",
    "    ds[\"ta_offset_high\"],\n",
    ") = bias_offset(\n",
    "    tide_m=tide_m, tide_cq=tide_cq_dict['unfiltered'], lot_hot=True, lat_hat=True\n",
    ")"
   ]
  },
  {
   "cell_type": "markdown",
   "id": "01e2aa71",
   "metadata": {},
   "source": [
    "## Plot all layers"
   ]
  },
  {
   "cell_type": "code",
   "execution_count": null,
   "id": "187c867c",
   "metadata": {
    "tags": []
   },
   "outputs": [],
   "source": [
    "# Inspect contents of ds before plotting\n",
    "ds"
   ]
  },
  {
   "cell_type": "code",
   "execution_count": null,
   "id": "f188da27",
   "metadata": {
    "tags": []
   },
   "outputs": [],
   "source": [
    "plt.clf()\n",
    "\n",
    "fig = plt.figure(figsize=(12, 12), tight_layout=True)\n",
    "ax_dict = fig.subplot_mosaic(\n",
    "    \"\"\"\n",
    "    AAAABBBBCCCC\n",
    "    DDDEEEFFFGGG\n",
    "    HHHIIIJJJKKK\n",
    "    \"\"\",\n",
    "    height_ratios=[1, 0.8, 0.8],\n",
    ")\n",
    "\n",
    "# label_params = dict(add_labels=False, yticks=[], xticks=[])\n",
    "\n",
    "# Plot Elevation with hillshade\n",
    "ds[\"elevation\"].plot.imshow(\n",
    "    ax=ax_dict[\"A\"],\n",
    "    cmap=\"viridis\",\n",
    "    interpolation=\"bilinear\",\n",
    ")\n",
    "# intertidal_hillshade(ds[\"elevation\"], ds[\"qa_ndwi_freq\"], vert_exag=300).plot.imshow(\n",
    "#     ax=ax_dict[\"A\"],\n",
    "#     interpolation=\"bilinear\",\n",
    "# )\n",
    "ax_dict[\"A\"].set_title(\"Elevation (metres AMSL)\")\n",
    "\n",
    "# Plot uncertainty\n",
    "ds[\"elevation_uncertainty\"].plot.imshow(\n",
    "    ax=ax_dict[\"B\"],\n",
    "    cmap=\"magma\",\n",
    "    interpolation=\"bilinear\",\n",
    ")\n",
    "ax_dict[\"B\"].set_title(\"Elevation uncertainty (metres)\")\n",
    "ax_dict[\"B\"].set_facecolor(\"#2E2E2E\")\n",
    "\n",
    "# Plot Exposure\n",
    "ds[\"exposure_unfiltered\"].plot.imshow(\n",
    "    ax=ax_dict[\"C\"],\n",
    "    cmap=cmocean.cm.matter_r,\n",
    "    levels=np.arange(0, 100, 1),\n",
    "    add_labels=False,\n",
    "    yticks=[],\n",
    ")\n",
    "ax_dict[\"C\"].set_title(\"Exposure\")\n",
    "\n",
    "# Plot Extents\n",
    "ds[\"extents\"].astype(np.int16).plot.imshow(ax=ax_dict[\"D\"])\n",
    "ax_dict[\"D\"].set_title(\"Extents\")\n",
    "\n",
    "# Plot the observation spread\n",
    "ds[\"ta_spread\"].where(ds.elevation.notnull()).plot.imshow(\n",
    "    ax=ax_dict[\"E\"],\n",
    "    vmin=0,\n",
    "    vmax=100,\n",
    "    cmap=\"magma\",\n",
    "    cbar_kwargs={\"label\": \"% of tidal range observed\"},\n",
    ")\n",
    "ax_dict[\"E\"].set_title(\"Observation Spread (%)\")\n",
    "\n",
    "# Plot the high-tide offset\n",
    "ds[\"ta_offset_high\"].where(ds.elevation.notnull()).plot.imshow(\n",
    "    ax=ax_dict[\"F\"],\n",
    "    vmin=0,\n",
    "    vmax=40,\n",
    "    cmap=\"magma\",\n",
    "    cbar_kwargs={\"label\": \"% of high tide never observed\"},\n",
    ")\n",
    "ax_dict[\"F\"].set_title(\"High-tide offset (%)\")\n",
    "\n",
    "# Plot the low-tide offset\n",
    "ds[\"ta_offset_low\"].where(ds.elevation.notnull()).plot.imshow(\n",
    "    ax=ax_dict[\"G\"],\n",
    "    vmin=0,\n",
    "    vmax=40,\n",
    "    cmap=\"magma\",\n",
    "    cbar_kwargs={\"label\": \"% of low tide never observed\"},\n",
    ")\n",
    "ax_dict[\"G\"].set_title(\"Low-tide offset (%)\")\n",
    "\n",
    "# Plot the LAT\n",
    "ds[\"ta_lat\"].where(ds.elevation.notnull()).plot.imshow(\n",
    "    ax=ax_dict[\"H\"],\n",
    "    vmin=ds[\"ta_lat\"].min(),\n",
    "    vmax=ds[\"ta_hat\"].max(),\n",
    "    add_labels=False,\n",
    ")\n",
    "ax_dict[\"H\"].set_title(\"Lowest Astronomical Tide\")\n",
    "\n",
    "# Plot the LOT\n",
    "ds[\"ta_lot\"].where(ds.elevation.notnull()).plot.imshow(\n",
    "    ax=ax_dict[\"I\"], vmin=ds[\"ta_lat\"].min(), vmax=ds[\"ta_hat\"].max()\n",
    ")\n",
    "ax_dict[\"I\"].set_title(\"Lowest Observed Tide\")\n",
    "\n",
    "# Plot the HAT\n",
    "ds[\"ta_hat\"].where(ds.elevation.notnull()).plot.imshow(\n",
    "    ax=ax_dict[\"J\"],\n",
    "    vmin=ds[\"ta_lat\"].min(),\n",
    "    vmax=ds[\"ta_hat\"].max(),\n",
    "    add_labels=False,\n",
    "    yticks=[],\n",
    ")\n",
    "ax_dict[\"J\"].set_title(\"Highest Astronomical Tide\")\n",
    "\n",
    "# Plot the HOT\n",
    "ds[\"ta_hot\"].where(ds.elevation.notnull()).plot.imshow(\n",
    "    ax=ax_dict[\"K\"],\n",
    "    vmin=ds[\"ta_lat\"].min(),\n",
    "    vmax=ds[\"ta_hat\"].max(),\n",
    ")\n",
    "ax_dict[\"K\"].set_title(\"Highest Observed Tide\")\n",
    "\n",
    "# # Plot the high and low tidelines with respective offset\n",
    "# ax_dict[\"L\"].set_title(\"Lowtide line and lowtide offset\")\n",
    "# # lowtideline.plot(\n",
    "# #     column=\"offset_lowtide\",\n",
    "# #     legend=True,\n",
    "# #     vmin=0,\n",
    "# #     vmax=40,\n",
    "# #     cmap=\"magma\",\n",
    "# #     ax=ax_dict[\"L\"],\n",
    "# #     zorder=2,\n",
    "# # )\n",
    "# # tidelines_gdf.loc[[0], \"geometry\"].plot(ax=ax_dict[\"L\"], zorder=1)\n",
    "# ax_dict[\"L\"].set_xlim(left=ds.elevation.x.min(), right=ds.elevation.x.max())\n",
    "# ax_dict[\"L\"].set_ylim(bottom=ds.elevation.y.min(), top=ds.elevation.y.max())\n",
    "\n",
    "# ax_dict[\"M\"].set_title(\"Hightide line and hightide offset\")\n",
    "# # hightideline.plot(\n",
    "# #     column=\"offset_hightide\",\n",
    "# #     legend=True,\n",
    "# #     vmin=0,\n",
    "# #     vmax=40,\n",
    "# #     cmap=\"magma\",\n",
    "# #     ax=ax_dict[\"M\"],\n",
    "# #     zorder=2,\n",
    "# # )\n",
    "# # tidelines_gdf.loc[[1], \"geometry\"].plot(ax=ax_dict[\"M\"], zorder=1)\n",
    "# ax_dict[\"M\"].set_yticks([])\n",
    "# ax_dict[\"M\"].set_xlim(left=ds.elevation.x.min(), right=ds.elevation.x.max())\n",
    "# ax_dict[\"M\"].set_ylim(bottom=ds.elevation.y.min(), top=ds.elevation.y.max())\n",
    "\n",
    "# Remove axis labels\n",
    "for label, ax in ax_dict.items():\n",
    "    ax.set_yticks([])\n",
    "    ax.set_xticks([])\n",
    "    ax.set_ylabel(\"\")\n",
    "    ax.set_xlabel(\"\")"
   ]
  },
  {
   "cell_type": "markdown",
   "id": "6f63fbdf",
   "metadata": {
    "tags": []
   },
   "source": [
    "## Export layers"
   ]
  },
  {
   "cell_type": "code",
   "execution_count": null,
   "id": "69e246d3",
   "metadata": {},
   "outputs": [],
   "source": [
    "# Create output folder if it doesn't exist\n",
    "output_dir = f\"data/interim/{study_area}/{start_date}-{end_date}\"\n",
    "os.makedirs(output_dir, exist_ok=True)\n",
    "\n",
    "# Prepare data for export\n",
    "ds[\"qa_ndwi_freq\"] *= 100  # Convert frequency to %\n",
    "\n",
    "# Prepare for export by correctly setting nodata and dtypes, then\n",
    "# export to file\n",
    "ds_prepared = prepare_for_export(ds, output_location=output_dir)"
   ]
  },
  {
   "cell_type": "code",
   "execution_count": null,
   "id": "c3399861",
   "metadata": {},
   "outputs": [],
   "source": [
    "# Export figure\n",
    "fig.savefig(f\"data/interim/{study_area}/{start_date}-{end_date}/outputs.png\")"
   ]
  },
  {
   "cell_type": "markdown",
   "id": "ecbb2c87",
   "metadata": {
    "tags": []
   },
   "source": [
    "### Close Dask client"
   ]
  },
  {
   "cell_type": "code",
   "execution_count": null,
   "id": "0c6c7149",
   "metadata": {},
   "outputs": [],
   "source": [
    "client.close()"
   ]
  }
 ],
 "metadata": {
  "kernelspec": {
   "display_name": "Python 3 (ipykernel)",
   "language": "python",
   "name": "python3"
  },
  "language_info": {
   "codemirror_mode": {
    "name": "ipython",
    "version": 3
   },
   "file_extension": ".py",
   "mimetype": "text/x-python",
   "name": "python",
   "nbconvert_exporter": "python",
   "pygments_lexer": "ipython3",
   "version": "3.10.13"
  },
  "widgets": {
   "application/vnd.jupyter.widget-state+json": {
    "state": {
     "016c6a989e8547f882761ac79a0f56f9": {
      "model_module": "@jupyter-widgets/controls",
      "model_module_version": "2.0.0",
      "model_name": "HTMLStyleModel",
      "state": {
       "description_width": "",
       "font_size": null,
       "text_color": null
      }
     },
     "06c9b2aa33b34c369196f0a5d30d43bd": {
      "model_module": "jupyter-leaflet",
      "model_module_version": "^0.17",
      "model_name": "LeafletAttributionControlModel",
      "state": {
       "_model_module_version": "^0.17",
       "_view_module_version": "^0.17",
       "options": [
        "position",
        "prefix"
       ],
       "position": "bottomright",
       "prefix": "ipyleaflet"
      }
     },
     "140b13c3f2e54a918c185ef53c801797": {
      "model_module": "@jupyter-widgets/controls",
      "model_module_version": "2.0.0",
      "model_name": "HTMLModel",
      "state": {
       "layout": "IPY_MODEL_53b9390f8b4d443aae45db9b150ddbb2",
       "style": "IPY_MODEL_423b67f14cb546a18e9b32078c43b5d9",
       "value": "<pre style=\"color:grey\">lat: [-12.2672, -12.1665]\nlon: [131.8126, 131.9525]</pre>"
      }
     },
     "148beff236474ba1a6f5bd183a448351": {
      "model_module": "jupyter-leaflet",
      "model_module_version": "^0.17",
      "model_name": "LeafletMapStyleModel",
      "state": {
       "_model_module_version": "^0.17"
      }
     },
     "15fb8187df5e48fd84d28fc64acd2b55": {
      "model_module": "jupyter-leaflet",
      "model_module_version": "^0.17",
      "model_name": "LeafletTileLayerModel",
      "state": {
       "_model_module_version": "^0.17",
       "_view_module_version": "^0.17",
       "attribution": "Tiles &copy; Esri &mdash; Source: Esri, i-cubed, USDA, USGS, AEX, GeoEye, Getmapping, Aerogrid, IGN, IGP, UPR-EGP, and the GIS User Community",
       "min_zoom": 1,
       "name": "Esri.WorldImagery",
       "options": [
        "attribution",
        "bounds",
        "detect_retina",
        "max_native_zoom",
        "max_zoom",
        "min_native_zoom",
        "min_zoom",
        "no_wrap",
        "tile_size",
        "tms",
        "zoom_offset"
       ],
       "url": "https://server.arcgisonline.com/ArcGIS/rest/services/World_Imagery/MapServer/tile/{z}/{y}/{x}"
      }
     },
     "18bfbcc0853941f186acb734b5b96ccb": {
      "model_module": "@jupyter-widgets/base",
      "model_module_version": "2.0.0",
      "model_name": "LayoutModel",
      "state": {}
     },
     "1e0b20db4cce43eb82e5106b752fe2ad": {
      "model_module": "jupyter-leaflet",
      "model_module_version": "^0.17",
      "model_name": "LeafletZoomControlModel",
      "state": {
       "_model_module_version": "^0.17",
       "_view_module_version": "^0.17",
       "options": [
        "position",
        "zoom_in_text",
        "zoom_in_title",
        "zoom_out_text",
        "zoom_out_title"
       ]
      }
     },
     "3ed7e6a707d94036a4f75bf26777e659": {
      "model_module": "@jupyter-widgets/controls",
      "model_module_version": "2.0.0",
      "model_name": "FloatProgressModel",
      "state": {
       "bar_style": "success",
       "layout": "IPY_MODEL_18bfbcc0853941f186acb734b5b96ccb",
       "max": 105,
       "style": "IPY_MODEL_d6e921c8b9af48bda49c1b0128936b2c",
       "value": 105
      }
     },
     "423b67f14cb546a18e9b32078c43b5d9": {
      "model_module": "@jupyter-widgets/controls",
      "model_module_version": "2.0.0",
      "model_name": "HTMLStyleModel",
      "state": {
       "description_width": "",
       "font_size": null,
       "text_color": null
      }
     },
     "4e1dee2bc1a84155b940f72304f5f221": {
      "model_module": "@jupyter-widgets/controls",
      "model_module_version": "2.0.0",
      "model_name": "HBoxModel",
      "state": {
       "children": [
        "IPY_MODEL_e03d207f1d6144e0ac150085cfa49471",
        "IPY_MODEL_3ed7e6a707d94036a4f75bf26777e659",
        "IPY_MODEL_f6e8f833410a46f29a8272995517e4f7"
       ],
       "layout": "IPY_MODEL_4e56c85c3eb5497f8f15cfcfcd8c9c44"
      }
     },
     "4e56c85c3eb5497f8f15cfcfcd8c9c44": {
      "model_module": "@jupyter-widgets/base",
      "model_module_version": "2.0.0",
      "model_name": "LayoutModel",
      "state": {}
     },
     "53b9390f8b4d443aae45db9b150ddbb2": {
      "model_module": "@jupyter-widgets/base",
      "model_module_version": "2.0.0",
      "model_name": "LayoutModel",
      "state": {
       "flex": "1 0 20em",
       "height": "3em",
       "width": "20em"
      }
     },
     "5704d9ce54ad45a39b382eb86aac763a": {
      "model_module": "jupyter-leaflet",
      "model_module_version": "^0.17",
      "model_name": "LeafletMapStyleModel",
      "state": {
       "_model_module_version": "^0.17",
       "cursor": "move"
      }
     },
     "586b01dfeac44354ae9d537b7f69797b": {
      "model_module": "jupyter-leaflet",
      "model_module_version": "^0.17",
      "model_name": "LeafletDrawControlModel",
      "state": {
       "_model_module_version": "^0.17",
       "_view_module_version": "^0.17",
       "data": [
        {
         "geometry": {
          "coordinates": [
           [
            [
             131.873531,
             -12.22041
            ],
            [
             131.873531,
             -12.200109
            ],
            [
             131.897221,
             -12.200109
            ],
            [
             131.897221,
             -12.22041
            ],
            [
             131.873531,
             -12.22041
            ]
           ]
          ],
          "type": "Polygon"
         },
         "properties": {
          "style": {
           "attribution": null,
           "bubblingMouseEvents": true,
           "clickable": true,
           "color": "#000000",
           "dashArray": null,
           "dashOffset": null,
           "fill": true,
           "fillColor": "#fca45d",
           "fillOpacity": 0.1,
           "fillRule": "evenodd",
           "interactive": true,
           "lineCap": "round",
           "lineJoin": "round",
           "noClip": false,
           "opacity": 0.5,
           "pane": "overlayPane",
           "smoothFactor": 1,
           "stroke": true,
           "weight": 4
          }
         },
         "type": "Feature"
        },
        {
         "geometry": {
          "coordinates": [
           [
            [
             131.873016,
             -12.221417
            ],
            [
             131.873016,
             -12.195915
            ],
            [
             131.898937,
             -12.195915
            ],
            [
             131.898937,
             -12.221417
            ],
            [
             131.873016,
             -12.221417
            ]
           ]
          ],
          "type": "Polygon"
         },
         "properties": {
          "style": {
           "clickable": true,
           "color": "#000000",
           "fill": true,
           "fillColor": "#fca45d",
           "fillOpacity": 0.1,
           "opacity": 0.5,
           "stroke": true,
           "weight": 4
          }
         },
         "type": "Feature"
        }
       ],
       "options": [
        "position"
       ],
       "polygon": {
        "shapeOptions": {
         "clickable": true,
         "color": "#000000",
         "editing": {
          "color": "#000000",
          "fillColor": "#fca45d",
          "fillOpacity": 0.1
         },
         "fill": true,
         "fillColor": "#fca45d",
         "fillOpacity": 0.1,
         "opacity": 0.5,
         "original": {
          "color": "#000000",
          "fillColor": "#fca45d",
          "fillOpacity": 0.1
         },
         "stroke": true,
         "weight": 4
        }
       },
       "polyline": {},
       "rectangle": {
        "metric": [
         "km",
         "m"
        ],
        "shapeOptions": {
         "clickable": true,
         "color": "#000000",
         "fill": true,
         "fillColor": "#fca45d",
         "fillOpacity": 0.1,
         "opacity": 0.5,
         "stroke": true,
         "weight": 4
        }
       }
      }
     },
     "5bbc48bf47694d8a80ba1c491fc77ed1": {
      "model_module": "jupyter-leaflet",
      "model_module_version": "^0.17",
      "model_name": "LeafletWidgetControlModel",
      "state": {
       "_model_module": "jupyter-leaflet",
       "_model_module_version": "^0.17",
       "_view_count": null,
       "_view_module": "jupyter-leaflet",
       "_view_module_version": "^0.17",
       "options": [
        "position",
        "transparent_bg"
       ],
       "position": "topright",
       "widget": "IPY_MODEL_e2e669b196d04316ae995fda9c220db2"
      }
     },
     "5d442c16e66644b3a047e841b63a1052": {
      "model_module": "@jupyter-widgets/base",
      "model_module_version": "2.0.0",
      "model_name": "LayoutModel",
      "state": {
       "height": "600px"
      }
     },
     "7909a969d0f4429786b92e3276f277c0": {
      "model_module": "jupyter-leaflet",
      "model_module_version": "^0.17",
      "model_name": "LeafletFullScreenControlModel",
      "state": {
       "_model_module_version": "^0.17",
       "_view_module_version": "^0.17",
       "options": [
        "position"
       ]
      }
     },
     "8136fa8fe564463d8bdeebb27e2c7be2": {
      "model_module": "@jupyter-widgets/base",
      "model_module_version": "2.0.0",
      "model_name": "LayoutModel",
      "state": {}
     },
     "83b2998caed04522940892771c49a1b4": {
      "model_module": "jupyter-leaflet",
      "model_module_version": "^0.17",
      "model_name": "LeafletMapStyleModel",
      "state": {
       "_model_module_version": "^0.17"
      }
     },
     "89532a92d00d44c3b546060c2da9ff59": {
      "model_module": "jupyter-leaflet",
      "model_module_version": "^0.17",
      "model_name": "LeafletWidgetControlModel",
      "state": {
       "_model_module": "jupyter-leaflet",
       "_model_module_version": "^0.17",
       "_view_count": null,
       "_view_module": "jupyter-leaflet",
       "_view_module_version": "^0.17",
       "options": [
        "position",
        "transparent_bg"
       ],
       "position": "bottomleft",
       "widget": "IPY_MODEL_140b13c3f2e54a918c185ef53c801797"
      }
     },
     "99cc8ba7e00f4f8b8cd8b79480a9c5d1": {
      "model_module": "@jupyter-widgets/controls",
      "model_module_version": "2.0.0",
      "model_name": "ButtonStyleModel",
      "state": {
       "button_color": "green",
       "font_family": null,
       "font_size": null,
       "font_style": null,
       "font_variant": null,
       "font_weight": null,
       "text_color": null,
       "text_decoration": null
      }
     },
     "9c3ed92cd34047db88bde52975ed9a9c": {
      "model_module": "@jupyter-widgets/controls",
      "model_module_version": "2.0.0",
      "model_name": "HTMLStyleModel",
      "state": {
       "description_width": "",
       "font_size": null,
       "text_color": null
      }
     },
     "a6a2123e3d1744019d2d60f2e44d1b2f": {
      "model_module": "@jupyter-widgets/base",
      "model_module_version": "2.0.0",
      "model_name": "LayoutModel",
      "state": {
       "width": "5em"
      }
     },
     "bf473c4ecfa74d7bb069f85ee664ab55": {
      "model_module": "@jupyter-widgets/base",
      "model_module_version": "2.0.0",
      "model_name": "LayoutModel",
      "state": {}
     },
     "d6e921c8b9af48bda49c1b0128936b2c": {
      "model_module": "@jupyter-widgets/controls",
      "model_module_version": "2.0.0",
      "model_name": "ProgressStyleModel",
      "state": {
       "description_width": ""
      }
     },
     "e03d207f1d6144e0ac150085cfa49471": {
      "model_module": "@jupyter-widgets/controls",
      "model_module_version": "2.0.0",
      "model_name": "HTMLModel",
      "state": {
       "layout": "IPY_MODEL_bf473c4ecfa74d7bb069f85ee664ab55",
       "style": "IPY_MODEL_9c3ed92cd34047db88bde52975ed9a9c",
       "value": "100%"
      }
     },
     "e2e669b196d04316ae995fda9c220db2": {
      "model_module": "@jupyter-widgets/controls",
      "model_module_version": "2.0.0",
      "model_name": "ButtonModel",
      "state": {
       "description": "done",
       "disabled": true,
       "layout": "IPY_MODEL_a6a2123e3d1744019d2d60f2e44d1b2f",
       "style": "IPY_MODEL_99cc8ba7e00f4f8b8cd8b79480a9c5d1",
       "tooltip": null
      }
     },
     "f663fef0a7844d2abbfc4521ec5c8063": {
      "model_module": "jupyter-leaflet",
      "model_module_version": "^0.17",
      "model_name": "LeafletMapModel",
      "state": {
       "_model_module_version": "^0.17",
       "_view_module_version": "^0.17",
       "bottom": 1120590,
       "center": [
        -12.216892428638982,
        131.8825435638428
       ],
       "controls": [
        "IPY_MODEL_1e0b20db4cce43eb82e5106b752fe2ad",
        "IPY_MODEL_06c9b2aa33b34c369196f0a5d30d43bd",
        "IPY_MODEL_7909a969d0f4429786b92e3276f277c0"
       ],
       "default_style": "IPY_MODEL_148beff236474ba1a6f5bd183a448351",
       "dragging_style": "IPY_MODEL_5704d9ce54ad45a39b382eb86aac763a",
       "east": 131.9524955749512,
       "fullscreen": false,
       "interpolation": "bilinear",
       "layers": [
        "IPY_MODEL_15fb8187df5e48fd84d28fc64acd2b55"
       ],
       "layout": "IPY_MODEL_5d442c16e66644b3a047e841b63a1052",
       "left": 1816440,
       "modisdate": "2024-03-07",
       "north": -12.166547625590848,
       "options": [
        "bounce_at_zoom_limits",
        "box_zoom",
        "center",
        "close_popup_on_click",
        "double_click_zoom",
        "dragging",
        "fullscreen",
        "inertia",
        "inertia_deceleration",
        "inertia_max_speed",
        "interpolation",
        "keyboard",
        "keyboard_pan_offset",
        "keyboard_zoom_offset",
        "max_zoom",
        "min_zoom",
        "prefer_canvas",
        "scroll_wheel_zoom",
        "tap",
        "tap_tolerance",
        "touch_zoom",
        "world_copy_jump",
        "zoom",
        "zoom_animation_threshold",
        "zoom_delta",
        "zoom_snap"
       ],
       "prefer_canvas": false,
       "right": 1817255,
       "scroll_wheel_zoom": true,
       "south": -12.267211929655348,
       "style": "IPY_MODEL_5704d9ce54ad45a39b382eb86aac763a",
       "top": 1119990,
       "west": 131.8125915527344,
       "window_url": "https://app.sandbox.dea.ga.gov.au/user/robbi.bishoptaylor@ga.gov.au/lab/tree/Robbi/dea-intertidal/notebooks/Intertidal_workflow.ipynb",
       "zoom": 13
      }
     },
     "f6e8f833410a46f29a8272995517e4f7": {
      "model_module": "@jupyter-widgets/controls",
      "model_module_version": "2.0.0",
      "model_name": "HTMLModel",
      "state": {
       "layout": "IPY_MODEL_8136fa8fe564463d8bdeebb27e2c7be2",
       "style": "IPY_MODEL_016c6a989e8547f882761ac79a0f56f9",
       "value": " 105/105 [00:24&lt;00:00,  4.41it/s]"
      }
     }
    },
    "version_major": 2,
    "version_minor": 0
   }
  }
 },
 "nbformat": 4,
 "nbformat_minor": 5
}

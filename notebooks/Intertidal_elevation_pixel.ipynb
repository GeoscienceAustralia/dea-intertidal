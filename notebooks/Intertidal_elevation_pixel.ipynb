{
 "cells": [
  {
   "cell_type": "markdown",
   "id": "306a1f55-3f9d-4996-be95-e11e5a74a86b",
   "metadata": {},
   "source": [
    "## Getting started\n",
    "Set working directory to top level of repo to ensure links work correctly:"
   ]
  },
  {
   "cell_type": "code",
   "execution_count": null,
   "id": "6c9907dc-c0d2-4b2e-8cbb-bb3a2bc15f08",
   "metadata": {},
   "outputs": [],
   "source": [
    "cd .."
   ]
  },
  {
   "cell_type": "code",
   "execution_count": null,
   "id": "e83130dd-6deb-4f91-be40-614e5667d46f",
   "metadata": {},
   "outputs": [],
   "source": [
    "pip install odc-geo --quiet"
   ]
  },
  {
   "cell_type": "code",
   "execution_count": null,
   "id": "43097431-edae-42c8-9737-c53391dbf66c",
   "metadata": {},
   "outputs": [],
   "source": [
    "pip install git+https://github.com/digitalearthafrica/deafrica-coastlines.git --quiet"
   ]
  },
  {
   "cell_type": "markdown",
   "id": "4244cc06-b5e7-4120-8514-adf35082cb2c",
   "metadata": {},
   "source": [
    "### Load packages"
   ]
  },
  {
   "cell_type": "code",
   "execution_count": null,
   "id": "2520e8de-ac2c-4571-99a0-f7fb7b932f56",
   "metadata": {},
   "outputs": [],
   "source": [
    "%load_ext autoreload\n",
    "%autoreload 2\n",
    "\n",
    "import datacube\n",
    "import xarray as xr\n",
    "import pandas as pd\n",
    "import numpy as np\n",
    "import geopandas as gpd\n",
    "import matplotlib.pyplot as plt\n",
    "from datacube.utils.cog import write_cog\n",
    "from datacube.utils.geometry import Geometry\n",
    "import odc.geo.xr\n",
    "from odc.algo import mask_cleanup\n",
    "\n",
    "from dea_tools.dask import create_local_dask_cluster\n",
    "from intertidal.extents import load_data, pixel_tide_sort, item, nidem, parallel_apply, pixel_tides, ds_to_flat, create_dask_gateway_cluster, abslmp_correction\n",
    "\n",
    "# cluster = create_dask_gateway_cluster(profile=\"r5_4XL\", workers=10)\n",
    "# print(\"Dashboard\", cluster.dashboard_link)\n",
    "# client = cluster.get_client()\n",
    "\n",
    "# Create local dask cluster to improve data load time\n",
    "client = create_local_dask_cluster(return_client=True)\n",
    "\n",
    "# Connect to datacube\n",
    "dc = datacube.Datacube(app='Intertidal_elevation')"
   ]
  },
  {
   "cell_type": "markdown",
   "id": "9b72074d-c4bc-410b-83e1-80295227b81c",
   "metadata": {},
   "source": [
    "## Setup"
   ]
  },
  {
   "cell_type": "code",
   "execution_count": null,
   "id": "6031b959-82c9-4698-a71c-410896b24134",
   "metadata": {},
   "outputs": [],
   "source": [
    "# aoi = 'McCarthur River'\n",
    "aoi = 'Greenbank'\n",
    "# aoi = 'Seven Emu'\n",
    "# aoi = 'Wollogorang'\n",
    "\n",
    "# Import regions of interest\n",
    "aoi_gdf = gpd.read_file('data/raw/Phase_1_NT_Gov.geojson').set_index('Name').to_crs('EPSG:3577')\n",
    "aoi_gdf.head()\n",
    "\n",
    "# Select AOI\n",
    "geom = Geometry(geom=aoi_gdf.loc[aoi].geometry, crs='EPSG:3577')\n",
    "geom"
   ]
  },
  {
   "cell_type": "code",
   "execution_count": null,
   "id": "bdcf1c79-ae5a-4453-a7e8-d3f021b0b65a",
   "metadata": {},
   "outputs": [],
   "source": [
    "from odc.ui import select_on_a_map\n",
    "from ipyleaflet import basemaps, basemap_to_tiles\n",
    "\n",
    "# Plot interactive map to select area\n",
    "basemap = basemap_to_tiles(basemaps.Esri.WorldImagery)\n",
    "geom = select_on_a_map(height='600px',\n",
    "                             layers=(basemap,),\n",
    "                             center=(-26, 135), \n",
    "                             zoom=4)"
   ]
  },
  {
   "cell_type": "markdown",
   "id": "54c892b8-42d3-4930-ad97-e0e214535fc5",
   "metadata": {},
   "source": [
    "## Load data"
   ]
  },
  {
   "cell_type": "code",
   "execution_count": null,
   "id": "756ce682-75ce-4a6b-8728-f18e8133283c",
   "metadata": {},
   "outputs": [],
   "source": [
    "client"
   ]
  },
  {
   "cell_type": "code",
   "execution_count": null,
   "id": "aacc0b6d-39e1-4609-8807-79db8882833f",
   "metadata": {},
   "outputs": [],
   "source": [
    "ds = load_data(dc=dc, \n",
    "               geom=geom, \n",
    "               time_range=('1986', '2022'), \n",
    "               resolution=30, \n",
    "               s2_prod=None,  #\"s2_nbart_ndwi\",\n",
    "               ls_prod=\"ls_nbart_ndwi\")\n",
    "ds"
   ]
  },
  {
   "cell_type": "code",
   "execution_count": null,
   "id": "a0a2ea49-7555-49f7-8d99-b03b2c01892f",
   "metadata": {},
   "outputs": [],
   "source": [
    "# Load into memory\n",
    "ds.load()"
   ]
  },
  {
   "cell_type": "code",
   "execution_count": null,
   "id": "83b38865-353b-4957-9ea7-ced1449b95d0",
   "metadata": {},
   "outputs": [],
   "source": [
    "buffered_geobox = ds.odc.geobox.buffered(10000)"
   ]
  },
  {
   "cell_type": "code",
   "execution_count": null,
   "id": "7b07b1d5-19b1-4945-91e4-a7a148562a10",
   "metadata": {},
   "outputs": [],
   "source": []
  },
  {
   "cell_type": "code",
   "execution_count": null,
   "id": "783313c3-4932-4626-a3ad-fc08d8825bc0",
   "metadata": {},
   "outputs": [],
   "source": [
    "ds1.odc.geobox"
   ]
  },
  {
   "cell_type": "code",
   "execution_count": null,
   "id": "5e89b9ee-568b-40ac-95e1-e0fdf1568424",
   "metadata": {},
   "outputs": [],
   "source": []
  },
  {
   "cell_type": "code",
   "execution_count": null,
   "id": "5eb26f97-b98d-426e-9e1e-03984c592b22",
   "metadata": {},
   "outputs": [],
   "source": []
  },
  {
   "cell_type": "code",
   "execution_count": null,
   "id": "fb3eae3f-033e-406e-9697-8bb900e4da7c",
   "metadata": {},
   "outputs": [],
   "source": [
    "\n"
   ]
  },
  {
   "cell_type": "code",
   "execution_count": 2,
   "id": "44421451-b730-4dd3-b6c8-0319a29a0f81",
   "metadata": {},
   "outputs": [
    {
     "data": {
      "text/plain": [
       "PosixPath('lowres_ds2.tif')"
      ]
     },
     "execution_count": 2,
     "metadata": {},
     "output_type": "execute_result"
    }
   ],
   "source": [
    "import datacube\n",
    "import odc.geo.xr\n",
    "import numpy as np\n",
    "from odc.geo.geobox import GeoBox\n",
    "\n",
    "dc = datacube.Datacube()\n",
    "\n",
    "ds1 = dc.load(\n",
    "    product=\"ga_ls8c_ard_3\",\n",
    "    x=(137.0, 137.1),\n",
    "    y=(-16.0, -16.1),\n",
    "    time=\"2022-01-03\",\n",
    "    output_crs=\"EPSG:3577\",\n",
    "    resolution=(-10, 10),\n",
    "    measurements=[\"nbart_red\"],\n",
    ")\n",
    "ds2 = dc.load(\n",
    "    product=\"ga_ls8c_ard_3\",\n",
    "    x=(137.13, 137.23),\n",
    "    y=(-16.12, -16.22),\n",
    "    time=\"2022-01-03\",\n",
    "    output_crs=\"EPSG:3577\",\n",
    "    resolution=(-10, 10),\n",
    "    measurements=[\"nbart_red\"],\n",
    ")\n",
    "\n",
    "def lowres_grid(ds):\n",
    "    \n",
    "    # Buffer original dataset geobox\n",
    "    buffered_geobox = ds.odc.geobox.buffered(10000)\n",
    "    \n",
    "    # Create new low-res geobox\n",
    "    lowres_geobox = GeoBox.from_bbox(\n",
    "        bbox=buffered_geobox.boundingbox, resolution=5000\n",
    "    )\n",
    "    \n",
    "    # Create new grid and fill with random values to see pixels\n",
    "    lowres_ds = odc.geo.xr.xr_zeros(lowres_geobox)    \n",
    "    lowres_ds[:] = np.random.randint(0, 10, size=(lowres_ds.values.shape))\n",
    "    \n",
    "    return lowres_ds\n",
    "    \n",
    "\n",
    "# Compute low res data for first dataset\n",
    "lowres_ds1 = lowres_grid(ds1)\n",
    "lowres_ds1.odc.write_cog(\"lowres_ds1.tif\", overwrite=True)\n",
    "\n",
    "# Compute low res data for second dataset\n",
    "lowres_ds2 = lowres_grid(ds2)\n",
    "lowres_ds2.odc.write_cog(\"lowres_ds2.tif\", overwrite=True)"
   ]
  },
  {
   "cell_type": "code",
   "execution_count": 3,
   "id": "a345e726-9244-4229-a04b-ec8897adee9e",
   "metadata": {},
   "outputs": [
    {
     "data": {
      "text/plain": [
       "PosixPath('lowres_ds2_old.tif')"
      ]
     },
     "execution_count": 3,
     "metadata": {},
     "output_type": "execute_result"
    }
   ],
   "source": [
    "def lowres_grid_old(ds):\n",
    "    \n",
    "    # Buffer original dataset geobox\n",
    "    buffered_geobox = ds.odc.geobox.buffered(10000)\n",
    "    \n",
    "    # Create new low-res geobox\n",
    "    lowres_geobox = buffered_geobox.zoom_out(500)\n",
    "    \n",
    "    # Create new grid and fill with random values to see pixels\n",
    "    lowres_ds = odc.geo.xr.xr_zeros(lowres_geobox)    \n",
    "    lowres_ds[:] = np.random.randint(0, 10, size=(lowres_ds.values.shape))\n",
    "    \n",
    "    return lowres_ds\n",
    "    \n",
    "\n",
    "# Compute low res data for first dataset\n",
    "lowres_ds1 = lowres_grid_old(ds1)\n",
    "lowres_ds1.odc.write_cog(\"lowres_ds1_old.tif\", overwrite=True)\n",
    "\n",
    "# Compute low res data for second dataset\n",
    "lowres_ds2 = lowres_grid_old(ds2)\n",
    "lowres_ds2.odc.write_cog(\"lowres_ds2_old.tif\", overwrite=True)"
   ]
  },
  {
   "cell_type": "code",
   "execution_count": null,
   "id": "33f0868a-f236-47c5-8e99-6791886bc37e",
   "metadata": {},
   "outputs": [],
   "source": []
  },
  {
   "cell_type": "markdown",
   "id": "c34949eb-96f1-4844-ad6e-aeb71399e9f5",
   "metadata": {},
   "source": [
    "## Pixel-based tides"
   ]
  },
  {
   "cell_type": "code",
   "execution_count": null,
   "id": "9f4c6369-6c90-4d32-a6b1-bbdab6a616f4",
   "metadata": {},
   "outputs": [],
   "source": [
    "# Model tides into every pixel in the dataset, and set tide pixels to nodata\n",
    "# TODO: Work out why this works if `_reproject` is defined here, but fails if\n",
    "# `_reproject` is defined in script\n",
    "def _reproject(x, to_geobox=ds.odc.geobox):\n",
    "    return x.odc.reproject(to_geobox, resampling=\"cubic\")\n",
    "\n",
    "ds[\"tide_m\"], _ = pixel_tides(ds, resample_func=_reproject, directory='~/tide_models_clipped')\n",
    "\n",
    "# Set tide pixels to nodata\n",
    "ds[\"tide_m\"] = ds[\"tide_m\"].where(~ds.to_array().isel(variable=0).isnull())"
   ]
  },
  {
   "cell_type": "code",
   "execution_count": null,
   "id": "bef832e9-d45e-4a84-8868-845a8a8c575b",
   "metadata": {},
   "outputs": [],
   "source": [
    "# # Optionally apply ABSMLP tide correction\n",
    "# ds = abslmp_correction(ds)"
   ]
  },
  {
   "cell_type": "markdown",
   "id": "dd64f5a2-ba02-429e-aaa5-ea9c4eab39d9",
   "metadata": {},
   "source": [
    "## ITEM/NIDEM method"
   ]
  },
  {
   "cell_type": "code",
   "execution_count": null,
   "id": "7bf4539c-dc4f-4e07-8771-747268d28220",
   "metadata": {},
   "outputs": [],
   "source": [
    "# intervals=10\n",
    "\n",
    "# # Add tide height dimension\n",
    "# ds_item = ds.copy()\n",
    "# ds_item['tide_height'] = ds_item.tide_m.mean(dim=['x', 'y'])\n",
    "# ds_item = ds_item.swap_dims({\"time\": \"tide_height\"}).drop(\"time\")"
   ]
  },
  {
   "cell_type": "code",
   "execution_count": null,
   "id": "d4cf9ec3-99f5-44b9-aa06-0e7173344cab",
   "metadata": {},
   "outputs": [],
   "source": [
    "# # Calculate intertidal extents\n",
    "# ds_item.persist()\n",
    "# item_da, ds_intervals, ds_confidence = item(ds_item, tide_dim='tide_height', intervals=intervals)\n",
    "# item_da.plot.imshow(cmap='RdYlBu_r', size=6)"
   ]
  },
  {
   "cell_type": "code",
   "execution_count": null,
   "id": "4820fb0d-cb79-454e-979e-6c9fea52e53b",
   "metadata": {},
   "outputs": [],
   "source": [
    "# # Convert ITEM to NIDEM elevations\n",
    "# intertidal_dem_clean = nidem(item_da, ds_intervals, intervals)\n",
    "# intertidal_dem_clean.plot.imshow(cmap='viridis', size=6)"
   ]
  },
  {
   "cell_type": "code",
   "execution_count": null,
   "id": "78bd83d6-9321-4cd4-84a3-d8d0387e36f7",
   "metadata": {},
   "outputs": [],
   "source": [
    "# # fname = 'testing'\n",
    "# fname = aoi.lower().replace(\" \", \"\")\n",
    "\n",
    "# # Export as a GeoTIFF\n",
    "# intertidal_dem_clean.odc.write_cog(\n",
    "#     fname=f\"data/interim/nidem_dem_{fname}.tif\", overwrite=True\n",
    "# )\n",
    "# ds_confidence.ndwi.odc.write_cog(\n",
    "#     fname=f\"data/interim/nidem_confidence_{fname}.tif\", overwrite=True\n",
    "# )"
   ]
  },
  {
   "cell_type": "markdown",
   "id": "e9c634b5-4195-4cee-9c34-84792debae03",
   "metadata": {},
   "source": [
    "## Pixel-based"
   ]
  },
  {
   "cell_type": "markdown",
   "id": "d197a187-6a74-4588-95ea-678a576a269b",
   "metadata": {},
   "source": [
    "### Flatten array"
   ]
  },
  {
   "cell_type": "code",
   "execution_count": null,
   "id": "d1a33f87-81f2-48a1-a6c1-ad6095ec1093",
   "metadata": {},
   "outputs": [],
   "source": [
    "# Flatten array to only pixels with positive correlations between water \n",
    "# observations and tide height. This greatly improves processing time by \n",
    "# ensuring only a narrow strip of pixels along the coastline are analysed,\n",
    "# rather than the entire x * y array\n",
    "ds_flat, freq, good_mask = ds_to_flat(\n",
    "    ds.sel(time=slice('2005', '2009')), ndwi_thresh=0.0, min_freq=0.01, max_freq=0.99, min_correlation=0.25\n",
    ")  # "
   ]
  },
  {
   "cell_type": "markdown",
   "id": "9e57e810-d4eb-4875-bf1a-aec1487acbf1",
   "metadata": {},
   "source": [
    "### Test pixel-wise rolling median"
   ]
  },
  {
   "cell_type": "code",
   "execution_count": null,
   "id": "5cfd07e9-5589-409f-8324-44c5cc9867a4",
   "metadata": {
    "tags": []
   },
   "outputs": [],
   "source": [
    "# Calculate tide min, max, range\n",
    "tide_max = ds_flat.tide_m.max(dim='time')\n",
    "tide_min = ds_flat.tide_m.min(dim='time')\n",
    "tide_range = tide_max - tide_min\n",
    "\n",
    "# Choose number of rolling window intervals and window radius\n",
    "window_interval_n = 100  # number of window intervals to iterate over\n",
    "window_tide_prop = 0.15  # proportion of the tide range to use as window radius\n",
    "window_tide = tide_range * window_tide_prop  # window radius in tide/metre units\n",
    "window_interval_tide = tide_range / window_interval_n  # interval size in time/metre units\n",
    "window_interval_buffer = int((window_interval_n * window_tide_prop) / 2.0)\n"
   ]
  },
  {
   "cell_type": "code",
   "execution_count": null,
   "id": "d241960f-73b1-41d7-8db7-fb2d2aaf5672",
   "metadata": {},
   "outputs": [],
   "source": [
    "from concurrent.futures import ProcessPoolExecutor\n",
    "from tqdm import tqdm\n",
    "from odc.algo import xr_quantile\n",
    "\n",
    "# # Experiment with removing bottom right quadrant\n",
    "# mean_tide = ds_flat.tide_m.mean(dim='time')\n",
    "# mean_ndwi = ds_flat.ndwi.mean(dim='time')\n",
    "# lr = ((ds_flat.ndwi < mean_ndwi) & (ds_flat.tide_m > mean_tide))\n",
    "\n",
    "# # Experiment with boolean/dry wet array\n",
    "# ds_bool = ds_flat.copy()\n",
    "# ds_bool['ndwi'] = (ds_flat.ndwi > 0.0).where(~ds_flat.ndwi.isnull())\n",
    "\n",
    "\n",
    "def rolling_tide_window(\n",
    "    i,\n",
    "    ds=ds_flat,\n",
    "    interval_tide=window_interval_tide,\n",
    "    interval_window=window_tide,\n",
    "    statistic='median',\n",
    "#     lr=lr\n",
    "):\n",
    "\n",
    "    # Set min and max thresholds to filter dataset\n",
    "    thresh_centre = tide_min + (i * interval_tide)\n",
    "    thresh_min = thresh_centre - interval_window\n",
    "    thresh_max = thresh_centre + interval_window\n",
    "\n",
    "    # Filter dataset\n",
    "    masked_ds = ds.where((ds.tide_m >= thresh_min) & (ds.tide_m <= thresh_max))  # & ~lr)\n",
    "\n",
    "    # Apply median or quantile\n",
    "    if statistic == 'quantile':\n",
    "        ds_agg = xr_quantile(src=masked_ds, quantiles=[0.1, 0.5, 0.9], nodata=np.nan)\n",
    "    elif statistic == 'median':\n",
    "        ds_agg = masked_ds.median(dim=\"time\").expand_dims(quantile=[0.5])\n",
    "    elif statistic == 'mean':\n",
    "        ds_agg = masked_ds.mean(dim=\"time\").expand_dims(quantile=[0.5])\n",
    "\n",
    "    # Add standard deviation\n",
    "    ds_agg[\"ndwi_std\"] = masked_ds.ndwi.std(dim=\"time\")\n",
    "    ds_agg[\"ndwi_count\"] = (~masked_ds.ndwi.isnull()).sum(dim=\"time\")\n",
    "\n",
    "    return ds_agg\n",
    "\n",
    "\n",
    "with ProcessPoolExecutor(max_workers=64) as executor:\n",
    "\n",
    "    # Apply func in parallel\n",
    "    rolling_intervals = range(\n",
    "        -window_interval_buffer, window_interval_n + window_interval_buffer\n",
    "    )\n",
    "    out_list = list(\n",
    "        tqdm(\n",
    "            executor.map(rolling_tide_window, rolling_intervals),\n",
    "            total=len(list(rolling_intervals)),\n",
    "        )\n",
    "    )\n",
    "\n",
    "# Combine to match the original dataset\n",
    "interval_ds = xr.concat(out_list, dim=\"interval\").sortby([\"interval\", \"x\", \"y\"])"
   ]
  },
  {
   "cell_type": "code",
   "execution_count": null,
   "id": "cec14155-eeb5-4a78-a30f-54b329e6e7e2",
   "metadata": {},
   "outputs": [],
   "source": [
    "# Output name\n",
    "fname = \"testing_karumba4\"\n",
    "ndwi_thresh = 0.1\n",
    "# fname = aoi.lower().replace(' ', '')\n",
    "\n",
    "# Calculate confidence (mean of NDWI standard deviation)\n",
    "confidence = interval_ds.ndwi_std.mean(dim=\"interval\").unstack(\"z\").reindex_like(ds).T\n",
    "\n",
    "# Export DEM for each quantile\n",
    "for q in interval_ds[\"quantile\"].data:\n",
    "\n",
    "    # Extract relevant quantile data\n",
    "    print(f\"Processing quantile {q}\")\n",
    "    quantile_ds = interval_ds.sel(quantile=q).copy()\n",
    "\n",
    "    # Smooth\n",
    "    quantile_ds = quantile_ds.rolling(interval=20, center=False, min_periods=1).mean()\n",
    "\n",
    "    # Identify the max tide per pixel where NDWI == land\n",
    "    tide_dry = quantile_ds.tide_m.where(\n",
    "        quantile_ds.ndwi <= ndwi_thresh\n",
    "    )\n",
    "    tide_thresh = tide_dry.max(dim=\"interval\")\n",
    "    tide_max = quantile_ds.tide_m.max(dim=\"interval\")\n",
    "\n",
    "    # Remove any pixel where tides max out (i.e. always land), and unstack back\n",
    "    # to 3D array\n",
    "    always_dry = tide_thresh >= tide_max\n",
    "    dem = tide_thresh.where(~always_dry)\n",
    "    dem = dem.unstack(\"z\").reindex_like(ds).transpose('y', 'x')\n",
    "\n",
    "    # Export DEM file\n",
    "    suffix = {0.1: \"dem_high\", 0.5: \"dem\", 0.9: \"dem_low\"}[q]\n",
    "    dem.odc.write_cog(\n",
    "        fname=f\"data/interim/pixel_{fname}_{suffix}.tif\", overwrite=True\n",
    "    )\n",
    "\n",
    "# Export NDWI standard deviation/confidence file\n",
    "confidence.odc.write_cog(\n",
    "    fname=f\"data/interim/pixel_{fname}_confidence.tif\", overwrite=True\n",
    ")"
   ]
  },
  {
   "cell_type": "markdown",
   "id": "657dd4bd-78c3-45a6-aedf-359b79c12cc2",
   "metadata": {},
   "source": [
    "## Experimental: Create extents layer"
   ]
  },
  {
   "cell_type": "code",
   "execution_count": null,
   "id": "4b7185ec-b0c1-4a3d-ac4a-3d0642fecfc9",
   "metadata": {},
   "outputs": [],
   "source": [
    "# Calculate percent of astronomical tide range for each intertidal pixel\n",
    "astro_tides, _ = pixel_tides(\n",
    "    ds,\n",
    "    times=pd.date_range(start=\"2000\", end=\"2021\", freq=\"5H\"),\n",
    "    calculate_quantiles=[0.0, 1.0],\n",
    "    resample_func=_reproject,\n",
    "    directory='~/tide_models_clipped'\n",
    ")\n",
    "astro_tide_min, astro_tide_max = astro_tides.groupby(\"quantile\")\n",
    "astro_tide_min, astro_tide_max = astro_tide_min[1], astro_tide_max[1]\n",
    "tide_perc_da = ((dem - astro_tide_min) * 100) / (astro_tide_max - astro_tide_min)\n",
    "\n",
    "# Identify pixels that were always wet or always dry across rolling medians\n",
    "nontidal_dry_da = always_dry.unstack(\"z\").reindex_like(ds).transpose('y', 'x') == True\n",
    "nontidal_wet_da = tide_thresh.isnull().unstack(\"z\").reindex_like(ds).transpose('y', 'x') == True\n",
    "\n",
    "# Create integer array with 0 = always observed as land, 100 = always observed\n",
    "# as water, and remaining values the % of the astronomical tide range represented\n",
    "# by each pixel of intertidal terrain\n",
    "extents_da = (\n",
    "    odc.geo.xr.xr_zeros(ds.odc.geobox)  # create empty array\n",
    "    .where(freq > 0.5, 100)  # Set mostly dry pixels to 100, and leave mostly wet as 0\n",
    "    .where(~nontidal_dry_da, 100)  # Set any non-tidal dry pixels to 100\n",
    "    .where(~nontidal_wet_da, 0)  # Set any non-tidal wet pixels to 0\n",
    "    .where(tide_perc_da.isnull(), tide_perc_da.clip(0, 100))  # Fill intertidal with %s\n",
    ").astype(np.uint16)\n",
    "\n",
    "# Ensure CRS is present\n",
    "# extents_da = extents_da.odc.assign_crs(ds.odc.geobox.crs)\n",
    "\n",
    "extents_da.odc.write_cog(\n",
    "    fname=f\"data/interim/pixel_{fname}_extents.tif\", overwrite=True\n",
    ")"
   ]
  },
  {
   "cell_type": "code",
   "execution_count": null,
   "id": "3b9a2201-e674-433d-bacb-b981c98fe869",
   "metadata": {},
   "outputs": [],
   "source": [
    "# Clean data using morphological opening to remove narrow inland \n",
    "# streams and waterbodies\n",
    "clean=[(\"opening\", 20), (\"dilation\", 10)]\n",
    "to_keep = mask_cleanup(extents_da < 100, mask_filters=clean)\n",
    "dem_clean = dem.where(to_keep)\n",
    "\n",
    "# Export to file\n",
    "dem_clean.odc.write_cog(\n",
    "        fname=f\"data/interim/pixel_{fname}_{suffix}_cleaned.tif\", overwrite=True\n",
    "    )"
   ]
  },
  {
   "cell_type": "code",
   "execution_count": null,
   "id": "96a2b486-92c8-4444-824b-40bc608d245d",
   "metadata": {},
   "outputs": [],
   "source": [
    "test = ds.tide_m.mean(dim=['x', 'y'])"
   ]
  },
  {
   "cell_type": "markdown",
   "id": "66864247-5cbb-4a45-9b36-195824615b1d",
   "metadata": {},
   "source": [
    "## Experimental: Remove water not attached to ocean"
   ]
  },
  {
   "cell_type": "code",
   "execution_count": null,
   "id": "1441451e-b70f-4ac5-9a2d-e1a7d826276f",
   "metadata": {},
   "outputs": [],
   "source": [
    "from skimage.measure import label, regionprops"
   ]
  },
  {
   "cell_type": "code",
   "execution_count": null,
   "id": "36886e5d-fd86-4d06-b92f-842d23bd47e9",
   "metadata": {},
   "outputs": [],
   "source": [
    "# First, break boolean array into unique, discrete regions/blobs\n",
    "blobs = xr.apply_ufunc(label, to_keep, 0, False, 1)\n",
    "\n",
    "# Get blob ID for each blob inside ocean area\n",
    "ocean = dc.load(product=\"geodata_coast_100k\", like=ds.odc.geobox.compat).land == 0\n",
    "ocean_blobs = np.unique(blobs.where(ocean, 0))\n",
    "\n",
    "# Return only blobs that contained tide modelling point\n",
    "ocean_mask = blobs.isin(ocean_blobs[ocean_blobs != 0])"
   ]
  },
  {
   "cell_type": "code",
   "execution_count": null,
   "id": "f9e398d7-a258-4b2a-a2f0-d1ae9436afa7",
   "metadata": {},
   "outputs": [],
   "source": [
    "ocean_mask.plot()"
   ]
  },
  {
   "cell_type": "code",
   "execution_count": null,
   "id": "0caec496-a16a-47b8-bbad-360799bde26e",
   "metadata": {},
   "outputs": [],
   "source": [
    "# First, break boolean array into unique, discrete regions/blobs\n",
    "blobs = xr.apply_ufunc(label, ds, 1, False, 1)\n",
    "\n",
    "# Get blob ID for each tidal modelling point\n",
    "x = xr.DataArray(tide_points_gdf.geometry.x, dims=\"z\")\n",
    "y = xr.DataArray(tide_points_gdf.geometry.y, dims=\"z\")\n",
    "ocean_blobs = np.unique(blobs.interp(x=x, y=y, method=\"nearest\"))\n",
    "\n",
    "# Return only blobs that contained tide modelling point\n",
    "ocean_mask = blobs.isin(ocean_blobs[ocean_blobs != 0])\n",
    "\n",
    "# Dilate mask so that we include land pixels on the inland side\n",
    "# of each shoreline to ensure contour extraction accurately\n",
    "# seperates land and water spectra\n",
    "if dilation:\n",
    "    ocean_mask = xr.apply_ufunc(binary_dilation, ocean_mask, disk(dilation))\n",
    "\n",
    "return ocean_mask"
   ]
  },
  {
   "cell_type": "markdown",
   "id": "61606f79-c0fa-4b8d-95f4-8d299a567c9c",
   "metadata": {},
   "source": [
    "## Regression experiment"
   ]
  },
  {
   "cell_type": "code",
   "execution_count": null,
   "id": "d9dc6242-26d6-458c-802b-e6a2c8f1338f",
   "metadata": {},
   "outputs": [],
   "source": [
    "from dea_tools.temporal import lag_linregress_3D"
   ]
  },
  {
   "cell_type": "code",
   "execution_count": null,
   "id": "e31b78af-8280-45fc-9b2f-56108237010d",
   "metadata": {},
   "outputs": [],
   "source": [
    "ds_subset = interval_ds.where((interval_ds.ndwi > 0.05) & (interval_ds.ndwi < 0.25))\n",
    "linreg = lag_linregress_3D(x=ds_subset.tide_m, y=ds_subset.ndwi, first_dim='interval')"
   ]
  },
  {
   "cell_type": "code",
   "execution_count": null,
   "id": "99ddeb7b-64a3-4c82-8f6d-d87e36ee4df6",
   "metadata": {},
   "outputs": [],
   "source": [
    "# linreg.intercept.unstack(\"z\").reindex_like(ds).plot(robust=True)"
   ]
  },
  {
   "cell_type": "code",
   "execution_count": null,
   "id": "a3607175-b892-4f14-9329-1a5e42656d45",
   "metadata": {},
   "outputs": [],
   "source": [
    "# linreg.slope.unstack(\"z\").reindex_like(ds).plot(robust=True)"
   ]
  },
  {
   "cell_type": "code",
   "execution_count": null,
   "id": "242f8d35-3333-47a7-83e6-3fe8d86b39e2",
   "metadata": {},
   "outputs": [],
   "source": [
    "testing = ((0 - linreg.intercept) / linreg.slope).where(linreg.pval < 0.01).unstack(\"z\").reindex_like(ds)  #.plot.imshow(vmin=-1, vmax=0.5)"
   ]
  },
  {
   "cell_type": "code",
   "execution_count": null,
   "id": "33507437-0b1a-4ad1-8834-3fc605e95a21",
   "metadata": {},
   "outputs": [],
   "source": [
    "testing = testing.where(testing > ds_subset.tide_m.min())"
   ]
  },
  {
   "cell_type": "code",
   "execution_count": null,
   "id": "9d51ff42-4d82-48b3-8751-91aa579c4eb9",
   "metadata": {},
   "outputs": [],
   "source": [
    "testing.T.odc.write_cog(fname=f'data/interim/pixel_linreg7.tif', overwrite=True)"
   ]
  },
  {
   "cell_type": "code",
   "execution_count": null,
   "id": "7b078af3-5cdd-4d39-8ffe-33de9d949ea3",
   "metadata": {},
   "outputs": [],
   "source": [
    "y = mx + a\n",
    "(y - a) / m"
   ]
  },
  {
   "cell_type": "code",
   "execution_count": null,
   "id": "f834fe40-7d47-4218-a2f8-3f6582361fba",
   "metadata": {},
   "outputs": [],
   "source": [
    "ds.geobox"
   ]
  },
  {
   "cell_type": "code",
   "execution_count": null,
   "id": "24465187-7d64-4e97-81c3-d0535c79964f",
   "metadata": {},
   "outputs": [],
   "source": [
    "quantile_ds.tide_m.where(quantile_ds.ndwi <= 0.1).dropna(dim='z', how='all')"
   ]
  },
  {
   "cell_type": "code",
   "execution_count": null,
   "id": "64d4e443-df6b-444b-80ea-ca0378e36776",
   "metadata": {},
   "outputs": [],
   "source": [
    "(tide_argmax + 1).unstack(\"z\").reindex_like(ds).T.plot()"
   ]
  },
  {
   "cell_type": "code",
   "execution_count": null,
   "id": "ab176595-1b9f-46b0-9c29-dfd031d32b0e",
   "metadata": {},
   "outputs": [],
   "source": [
    "tide_dry.isel(interval=(tide_argmax - 1).clip(0, len(tide_dry.interval) - 1))"
   ]
  },
  {
   "cell_type": "code",
   "execution_count": null,
   "id": "1d9e2b79-22e6-4f62-a372-2962bf600326",
   "metadata": {},
   "outputs": [],
   "source": [
    "tide_dry.isel(tide_argmax)"
   ]
  },
  {
   "cell_type": "code",
   "execution_count": null,
   "id": "f59c8c6b-4bd4-4e72-891a-936baaf702ce",
   "metadata": {},
   "outputs": [],
   "source": []
  },
  {
   "cell_type": "code",
   "execution_count": null,
   "id": "4d769c1b-eb08-4d1d-8b89-900601fb86e7",
   "metadata": {},
   "outputs": [],
   "source": [
    "tide_argmax + 1"
   ]
  },
  {
   "cell_type": "code",
   "execution_count": null,
   "id": "2f325526-340f-46d5-a710-70a0dc7f826a",
   "metadata": {},
   "outputs": [],
   "source": [
    "tide_dry.dropna(dim='interval', how='all').argmax(dim='interval', axis=1)"
   ]
  },
  {
   "cell_type": "code",
   "execution_count": null,
   "id": "c67ff227-7b14-4efd-ae96-a633e7823928",
   "metadata": {},
   "outputs": [],
   "source": [
    "interval_ds"
   ]
  },
  {
   "cell_type": "code",
   "execution_count": null,
   "id": "ca991a0e-d5cd-40fa-8d7a-2a98dc13354c",
   "metadata": {},
   "outputs": [],
   "source": [
    "# # Output name\n",
    "# fname = 'testing1'\n",
    "# # fname = aoi.lower().replace(' ', '')\n",
    "\n",
    "# # Calculate \n",
    "# confidence = interval_ds.ndwi_std.mean(dim='interval')\n",
    "# min_thresh = (0 - 0.5 * confidence)\n",
    "# max_thresh = (0 + 0.5 * confidence)\n",
    "\n",
    "# for thresh_name, thesh in {'': 0, '_low': min_thresh, '_high': max_thresh}.items():\n",
    "    \n",
    "#     dem_fname = f'data/interim/pixel_dem_{fname}{thresh_name}.tif'\n",
    "#     print(f'Exporting {dem_fname}')\n",
    "    \n",
    "#     # Identify the max tide per pixel where NDWI == land\n",
    "#     tide_thresh = interval_ds.tide_m.where(interval_ds.ndwi <= thesh).max(dim='interval')\n",
    "#     tide_max = interval_ds.tide_m.max(dim='interval')\n",
    "    \n",
    "#     # Remove any pixel where tides max out (i.e. always land)\n",
    "#     dem = tide_thresh.where(tide_thresh < tide_max)\n",
    "    \n",
    "#     # Export DEM file  \n",
    "# #     dem.T.odc.write_cog(fname=dem_fname, overwrite=True)\n",
    "#     dem.where(~((freq > 0) & tide_thresh.isnull()), dem.min()).T.odc.write_cog(fname=dem_fname, overwrite=True)\n",
    "    \n",
    "\n",
    "# # Export NDWI standard deviation/confidence file\n",
    "# confidence.T.odc.write_cog(fname=f'data/interim/pixel_dem_{fname}_confidence.tif', overwrite=True)"
   ]
  },
  {
   "cell_type": "code",
   "execution_count": null,
   "id": "31145088-84ab-4924-b6b5-f4db1925d686",
   "metadata": {},
   "outputs": [],
   "source": [
    "# dem.where(~((freq > 0) & tide_thresh.isnull()), dem.min()).plot()"
   ]
  },
  {
   "cell_type": "code",
   "execution_count": null,
   "id": "6edca090-a367-41dc-add2-231515b35253",
   "metadata": {},
   "outputs": [],
   "source": [
    "# dem.where(~(tide_thresh.isnull() & (freq > 0.90)), dem.min()).plot()"
   ]
  },
  {
   "cell_type": "code",
   "execution_count": null,
   "id": "fdaf2f96-a5d2-475d-8857-d59583219412",
   "metadata": {},
   "outputs": [],
   "source": [
    "interval_ds.squeeze('quantile').unstack().sel(x=x,  y=y, method='nearest')"
   ]
  },
  {
   "cell_type": "code",
   "execution_count": null,
   "id": "32f32fb2-6d6b-49a3-a4b0-2336aa2ae823",
   "metadata": {},
   "outputs": [],
   "source": [
    "x, y = 67131.32560043, 8632388.08690304\n",
    "ndwi_thresh = 0.1\n",
    "\n",
    "# Extract rolling and raw data\n",
    "pixel_rolling = interval_ds.squeeze('quantile').unstack().sel(x=x,  y=y, method='nearest').to_dataframe().reset_index()\n",
    "pixel_raw = ds.sel(x=x,  y=y, method='nearest').sortby('tide_m')\n",
    "# pixel_raw['ndwi'] = (pixel_raw.ndwi > 0.1).where(~pixel_raw.ndwi.isnull())\n",
    "# pixel_rolling = pixel_raw.rolling(time=100, min_periods=1).mean().to_dataframe().reset_index()\n",
    "pixel_raw = pixel_raw.to_dataframe().reset_index()\n",
    "\n",
    "# To plot\n",
    "pixel_to_plot = pixel_rolling\n",
    "pixel_to_plot_mean = pixel_to_plot.rolling(20, center=False, min_periods=None).mean()\n",
    "\n",
    "\n",
    "# pixel_savgol = pixel_rolling.copy()\n",
    "# pixel_savgol['ndwi'] = savgol_filter(pixel_savgol.ndwi.values, 50, 1)\n",
    "\n",
    "# Calculate thresholds\n",
    "land_tides = pixel_to_plot.where((pixel_to_plot.ndwi) < ndwi_thresh)\n",
    "max_ind = land_tides.tide_m.argmax()\n",
    "\n",
    "\n",
    "# Plot\n",
    "fig, ax = plt.subplots(1, 1, figsize=(10, 8))\n",
    "ax.scatter(x=pixel_raw.tide_m, y=pixel_raw.ndwi)\n",
    "ax.plot(pixel_to_plot.tide_m, pixel_to_plot.ndwi, '-o', color='orange')\n",
    "ax.plot(pixel_to_plot_mean.tide_m, pixel_to_plot_mean.ndwi, '-o', color='green')\n",
    "# ax.plot(pixel_savgol.tide_m, pixel_savgol.ndwi, '-o', color='blue')\n",
    "tide_thresh_1 = land_tides.tide_m.iloc[max_ind]\n",
    "ax.axvline(tide_thresh_1, color='orange', linestyle='--', lw=2, alpha=0.5)\n",
    "ax.axhline(ndwi_thresh, color='black', linestyle='--', lw=0.8, alpha=0.5)\n",
    "\n",
    "\n",
    "# clipped = pixel_rolling.where((pixel_rolling.ndwi > 0) & (pixel_rolling.ndwi < 0.1)).dropna()\n",
    "\n",
    "# ax.plot(clipped.tide_m, clipped.ndwi, '-o', color='green')\n",
    "# from scipy import stats\n",
    "# linreg = stats.linregress(x=clipped.tide_m, y=clipped.ndwi)\n",
    "# x = np.linspace(pixel_raw.tide_m.min(), pixel_raw.tide_m.max())\n",
    "# # ax.plot(x, [linreg.slope * i + linreg.intercept for i in x], color='green', linestyle='--')\n",
    "# tide_thresh_3 = (ndwi_thresh - linreg.intercept) / linreg.slope\n",
    "\n",
    "# rolling2 = pixel_raw.sort_values('tide_m').rolling(100, center=True, min_periods=1).median()\n",
    "# ax.plot(rolling2.tide_m, rolling2.ndwi, '-o', color='red')\n",
    "\n",
    "\n",
    "\n",
    "# tide_thresh_1 = land_tides.tide_m.iloc[max_ind]\n",
    "# tide_thresh_2 = pixel_rolling.tide_m.iloc[max_ind + 1]\n",
    "\n",
    "# ax.axvline(tide_thresh_1, color='orange', linestyle='--', lw=2, alpha=0.5)\n",
    "# ax.axvline(tide_thresh_2, color='red', linestyle='--', lw=0.8, alpha=0.5)\n",
    "# ax.axvline(tide_thresh_3, color='green', linestyle='--', lw=2, alpha=0.5)\n",
    "# ax.axhline(ndwi_thresh, color='black', linestyle='--', lw=0.8, alpha=0.5)"
   ]
  },
  {
   "cell_type": "code",
   "execution_count": null,
   "id": "17ed4878-fbd8-4e2e-a202-70d6f879ed3f",
   "metadata": {},
   "outputs": [],
   "source": [
    "x, y = 801144.14604825, 8189103.58475355\n",
    "ndwi_thresh = 0.1\n",
    "\n",
    "# Extract rolling and raw data\n",
    "pixel_rolling = interval_ds.squeeze('quantile').unstack().sel(x=x,  y=y, method='nearest').to_dataframe().reset_index()\n",
    "pixel_raw = ds.sel(x=x,  y=y, method='nearest').sortby('tide_m')\n",
    "# pixel_raw['ndwi'] = (pixel_raw.ndwi > 0.1).where(~pixel_raw.ndwi.isnull())\n",
    "# pixel_rolling = pixel_raw.rolling(time=100, min_periods=1).mean().to_dataframe().reset_index()\n",
    "pixel_raw = pixel_raw.to_dataframe().reset_index()\n",
    "\n",
    "# To plot\n",
    "pixel_to_plot = pixel_rolling\n",
    "pixel_to_plot_mean = pixel_to_plot.rolling(20, center=False, min_periods=None).mean()\n",
    "\n",
    "\n",
    "# pixel_savgol = pixel_rolling.copy()\n",
    "# pixel_savgol['ndwi'] = savgol_filter(pixel_savgol.ndwi.values, 50, 1)\n",
    "\n",
    "# Calculate thresholds\n",
    "land_tides = pixel_to_plot.where((pixel_to_plot.ndwi) < ndwi_thresh)\n",
    "max_ind = land_tides.tide_m.argmax()\n",
    "\n",
    "\n",
    "# Plot\n",
    "fig, ax = plt.subplots(1, 1, figsize=(10, 8))\n",
    "ax.scatter(x=pixel_raw.tide_m, y=pixel_raw.ndwi)\n",
    "ax.plot(pixel_to_plot.tide_m, pixel_to_plot.ndwi, '-o', color='orange')\n",
    "ax.plot(pixel_to_plot_mean.tide_m, pixel_to_plot_mean.ndwi, '-o', color='green')\n",
    "# ax.plot(pixel_savgol.tide_m, pixel_savgol.ndwi, '-o', color='blue')\n",
    "tide_thresh_1 = land_tides.tide_m.iloc[max_ind]\n",
    "ax.axvline(tide_thresh_1, color='orange', linestyle='--', lw=2, alpha=0.5)\n",
    "ax.axhline(ndwi_thresh, color='black', linestyle='--', lw=0.8, alpha=0.5)"
   ]
  },
  {
   "cell_type": "code",
   "execution_count": null,
   "id": "d96cc353-8609-4a50-905a-8cff2fd9a2c9",
   "metadata": {},
   "outputs": [],
   "source": [
    "(pixel_rolling.ndwi * (10* pixel_rolling.ndwi.abs())).plot()"
   ]
  },
  {
   "cell_type": "code",
   "execution_count": null,
   "id": "1ca2800b-2308-4cfb-a939-f0c331dd32ac",
   "metadata": {},
   "outputs": [],
   "source": [
    "ds_sub = ds.sel(x=x,  y=y, method='nearest')\n",
    "\n",
    "\n",
    "ds_sub.sel(time=(ds_sub.ndwi < 0) & (ds_sub.tide_m > 0.25)).time"
   ]
  },
  {
   "cell_type": "code",
   "execution_count": null,
   "id": "49259330-345a-4315-801a-ae5797529bf1",
   "metadata": {},
   "outputs": [],
   "source": [
    "from scipy.signal import savgol_filter\n",
    "yhat = savgol_filter(pixel_rolling.ndwi.values, 50, 2) # window size 51, polynomial order 3\n",
    "plt.plot(yhat)"
   ]
  },
  {
   "cell_type": "code",
   "execution_count": null,
   "id": "f51e1fbc-17b3-407f-babc-f2fd910d703d",
   "metadata": {},
   "outputs": [],
   "source": [
    "test = np.array([-0.5, -0.2, -0.01, 0, 0.01, 0.2, 0.5])"
   ]
  },
  {
   "cell_type": "code",
   "execution_count": null,
   "id": "ee240194-53e6-4d8f-80d4-1d356a06d165",
   "metadata": {},
   "outputs": [],
   "source": [
    "import scipy.stats\n",
    "plt.plot(scipy.stats.norm.pdf(test, loc=0, scale=1))"
   ]
  },
  {
   "cell_type": "code",
   "execution_count": null,
   "id": "42aedacb-8c10-4351-ac9f-be271a181c80",
   "metadata": {},
   "outputs": [],
   "source": [
    "from skimage import exposure"
   ]
  },
  {
   "cell_type": "code",
   "execution_count": null,
   "id": "638cac42-4035-4f06-8fc4-70f7c1ce2f3d",
   "metadata": {},
   "outputs": [],
   "source": [
    "plt.plot(test)"
   ]
  },
  {
   "cell_type": "code",
   "execution_count": null,
   "id": "fa403f63-e98d-40e0-bdbd-56bf2fa64549",
   "metadata": {},
   "outputs": [],
   "source": [
    "plt.plot(exposure.adjust_gamma(np.abs(test), 2))"
   ]
  },
  {
   "cell_type": "code",
   "execution_count": null,
   "id": "4194f061-be51-461a-8ed2-7c5d84762f32",
   "metadata": {},
   "outputs": [],
   "source": [
    "\n",
    "\n",
    "\n",
    "from scipy.signal import savgol_filter\n",
    "yhat = savgol_filter(pixel_raw.ndwi.values, 25, 3) # window size 51, polynomial order 3\n",
    "\n",
    "pixel_rolling.ndwi.plot()\n",
    "plt.plot(yhat)"
   ]
  },
  {
   "cell_type": "code",
   "execution_count": null,
   "id": "9fe9b85a-eb57-4c15-8d41-027c5dc04227",
   "metadata": {},
   "outputs": [],
   "source": [
    "pixel_raw.ndwi.plot()"
   ]
  },
  {
   "cell_type": "code",
   "execution_count": null,
   "id": "4d9c86fb-f015-4c4c-89f7-7f044a476e49",
   "metadata": {},
   "outputs": [],
   "source": []
  },
  {
   "cell_type": "code",
   "execution_count": null,
   "id": "d583eaa0-3bca-4790-a6d2-94a4b38e9db0",
   "metadata": {},
   "outputs": [],
   "source": [
    "interval_ds.ndwi2"
   ]
  },
  {
   "cell_type": "code",
   "execution_count": null,
   "id": "b8e4e841-acbd-4bb3-b7ae-ea5c41b06faf",
   "metadata": {},
   "outputs": [],
   "source": [
    "clipped_test = pixel_rolling.where((pixel_rolling.ndwi > -0.1) & (pixel_rolling.ndwi < 0.1)).dropna().rolling(5, center=True).mean()\n",
    "plt.plot(clipped_test.tide_m, clipped_test.ndwi, '-o', color='green')\n",
    "\n",
    "diff = clipped_test.ndwi.diff() / clipped_test.ndwi.index.to_series().diff()\n",
    "plt.plot(clipped_test.tide_m, diff, '-o', color='red')\n",
    "\n",
    "plt.axvline(clipped_test.tide_m.iloc[diff.argmax()], color='orange', linestyle='--', lw=2, alpha=0.5)\n",
    "plt.axhline(clipped_test.ndwi.iloc[diff.argmax()], color='orange', linestyle='--', lw=2, alpha=0.5)"
   ]
  },
  {
   "cell_type": "code",
   "execution_count": null,
   "id": "a0100f9f-a666-43be-acf9-ea67ab23175f",
   "metadata": {},
   "outputs": [],
   "source": []
  },
  {
   "cell_type": "code",
   "execution_count": null,
   "id": "2dc724c7-34c5-4d1c-b066-3f411a540f93",
   "metadata": {},
   "outputs": [],
   "source": [
    "plt.plot(clipped_test.tide_m, clipped_test.ndwi, '-o', color='green')"
   ]
  },
  {
   "cell_type": "code",
   "execution_count": null,
   "id": "422231ba-5068-4b76-8fcc-ecf4fcf640a4",
   "metadata": {},
   "outputs": [],
   "source": [
    "pdf = gaussian_kde(pixel_rolling.ndwi.values, bw_method=0.5, weights=scipy.stats.norm.pdf(pixel_rolling.ndwi.values, loc=0, scale=0.1))\n",
    "x = np.linspace(-0.5, 0.5, 200)\n",
    "y = pdf(x)\n",
    "plt.axvline(x[y.argmax()], color='orange', linestyle='--', lw=2, alpha=0.5)\n",
    "plt.plot(x, y, label='kde')"
   ]
  },
  {
   "cell_type": "code",
   "execution_count": null,
   "id": "aeabb2d4-139c-4fe4-bc3e-eba8f47fcf7f",
   "metadata": {},
   "outputs": [],
   "source": []
  },
  {
   "cell_type": "code",
   "execution_count": null,
   "id": "8bf37568-48e3-459e-afcc-de6170d5a39a",
   "metadata": {},
   "outputs": [],
   "source": [
    "from scipy.stats import gaussian_kde\n"
   ]
  },
  {
   "cell_type": "code",
   "execution_count": null,
   "id": "ea0c2eba-e182-44cf-82b0-a9284ae62f43",
   "metadata": {},
   "outputs": [],
   "source": [
    "import scipy.stats\n",
    "plt.scatter(pixel_rolling.ndwi.values, scipy.stats.norm.pdf(pixel_rolling.ndwi.values, loc=0, scale=0.1))"
   ]
  },
  {
   "cell_type": "code",
   "execution_count": null,
   "id": "d9a70cd0-195c-44a2-9388-761bc604c522",
   "metadata": {},
   "outputs": [],
   "source": [
    "pixel_raw.tide_m.min()"
   ]
  },
  {
   "cell_type": "code",
   "execution_count": null,
   "id": "7a8e7517-19e4-4b4d-acc2-b1e371cc8ed6",
   "metadata": {},
   "outputs": [],
   "source": [
    "pixel_raw.ndwi.plot.density(bw_method=0.05)"
   ]
  },
  {
   "cell_type": "code",
   "execution_count": null,
   "id": "a9d702d5-55d7-42ca-a07c-4f1c1fcc0a7b",
   "metadata": {},
   "outputs": [],
   "source": []
  },
  {
   "cell_type": "code",
   "execution_count": null,
   "id": "2da51b0d-7a33-4750-a757-f6f6d1b343f7",
   "metadata": {},
   "outputs": [],
   "source": [
    "pixel_rolling.ndwi.plot()\n",
    "(pixel_rolling.ndwi.diff() / pixel_rolling.ndwi.index.to_series().diff()).plot()"
   ]
  },
  {
   "cell_type": "code",
   "execution_count": null,
   "id": "344fc592-a8b8-4143-982a-f6d9ce341216",
   "metadata": {},
   "outputs": [],
   "source": [
    "from scipy.signal import savgol_filter\n",
    "w = savgol_filter(y.sort_values('ndwi').ndwi, 5, 2)\n",
    "w"
   ]
  },
  {
   "cell_type": "code",
   "execution_count": null,
   "id": "150e9df7-fc86-4b89-b2d0-3f1b5261bb4f",
   "metadata": {},
   "outputs": [],
   "source": [
    "y.sort_values('tide_m').ndwi"
   ]
  },
  {
   "cell_type": "code",
   "execution_count": null,
   "id": "e5df7fac-8ca6-4012-877e-8a8d796404e7",
   "metadata": {},
   "outputs": [],
   "source": [
    "# tide_thresh_2 = \n"
   ]
  },
  {
   "cell_type": "code",
   "execution_count": null,
   "id": "4456ab6e-849e-43d9-8605-64ff3569ff2e",
   "metadata": {},
   "outputs": [],
   "source": [
    "pixel_rolling.where(pixel_rolling.ndwi < 0).tide_m.argmax()"
   ]
  },
  {
   "cell_type": "code",
   "execution_count": null,
   "id": "5bd0596d-1201-41b1-9f90-7cd9a14259cf",
   "metadata": {},
   "outputs": [],
   "source": [
    "x, y = 642456.7107189415, 8275569.497920433\n",
    "pixel = interval_ds.sel(x=x,  y=y, method='nearest')\n",
    "df_median = pixel.to_dataframe().reset_index()\n",
    "\n",
    "fig, ax = plt.subplots(1, 1)\n",
    "ax.scatter(x=df_median.tide_m, y=df_median.ndwi)\n",
    "tide_thresh_1 = df_median.where(df_median.ndwi < 0).tide_m.max()\n",
    "tide_thresh_2 = df_median.where(df_median.ndwi > 0).tide_m.min()\n",
    "ax.axvline((tide_thresh_1 + tide_thresh_2) / 2)\n",
    "ax.axhline(0)"
   ]
  },
  {
   "cell_type": "markdown",
   "id": "90175bec-27b6-4601-97d5-5d5a7f4d44d1",
   "metadata": {
    "tags": []
   },
   "source": [
    "### Elevation calculation"
   ]
  },
  {
   "cell_type": "code",
   "execution_count": null,
   "id": "dab3cbd7-60c2-436f-9a59-56063826c2e8",
   "metadata": {
    "tags": []
   },
   "outputs": [],
   "source": [
    "# Output name\n",
    "fname = 'testing1'\n",
    "# fname = aoi.lower().replace(' ', '')\n",
    "\n",
    "# Calculate \n",
    "min_thresh = (0 - 0.5 * s2_stdev_mean)\n",
    "max_thresh = (0 + 0.5 * s2_stdev_mean)\n",
    "\n",
    "for thresh_name, thesh in {'': 0, '_low': min_thresh, '_high': max_thresh}.items():\n",
    "    \n",
    "    dem_fname = f'data/interim/pixel_dem_{fname}{thresh_name}.tif'\n",
    "    print(f'Exporting {dem_fname}')\n",
    "    \n",
    "    # Identify the max tide per pixel where NDWI == land\n",
    "    tide_thresh = ds.tide_m.where(s2_median <= thesh).max(dim='tide_n')\n",
    "    tide_max = ds.tide_m.max(dim='tide_n')\n",
    "    \n",
    "    # Remove any pixel where tides max out (i.e. always land)\n",
    "    dem = tide_thresh.where(tide_thresh < tide_max)\n",
    "    \n",
    "    # Export DEM file  \n",
    "    dem.odc.write_cog(fname=dem_fname, overwrite=True)\n",
    "\n",
    "# Export NDWI standard deviation/confidence file\n",
    "s2_stdev_mean.odc.write_cog(fname=f'data/interim/pixel_dem_{fname}_confidence.tif', overwrite=True)"
   ]
  },
  {
   "cell_type": "markdown",
   "id": "5781fcbf-08a2-4937-88a0-1e1ba81edab1",
   "metadata": {},
   "source": [
    "### Experimental"
   ]
  },
  {
   "cell_type": "code",
   "execution_count": null,
   "id": "39cdf81c-83da-43cc-884f-94df97dacc01",
   "metadata": {},
   "outputs": [],
   "source": [
    "from dea_tools.temporal import lag_linregress_3D"
   ]
  },
  {
   "cell_type": "code",
   "execution_count": null,
   "id": "2f85b5e1-9520-4077-af1b-e4f59d3dc06e",
   "metadata": {},
   "outputs": [],
   "source": [
    "# reg = lag_linregress_3D(s2_rolling.tide_height, (s2_rolling > 0).where(~s2_rolling.isnull()), first_dim='tide_height')\n",
    "# (reg.pval < 0.01).plot.imshow()"
   ]
  },
  {
   "cell_type": "code",
   "execution_count": null,
   "id": "ec11c556-5407-40de-a916-8d21f11a076e",
   "metadata": {},
   "outputs": [],
   "source": [
    "# s2_rolling"
   ]
  },
  {
   "cell_type": "code",
   "execution_count": null,
   "id": "c32ddbfb-874e-4085-b1da-9e5f6f405a44",
   "metadata": {},
   "outputs": [],
   "source": [
    "# test_min = tide_3d.where(s2_rolling >= 0).min(dim='tide_height')\n",
    "# test_max = tide_3d.where(s2_rolling < 0).max(dim='tide_height')\n",
    "# # dem = test_min.where(~test_max.isnull())\n",
    "# dem = ((test_max + test_min) / 2.0)\n",
    "# write_cog(dem, fname='pixel_dem_mccarthurriver.tif', overwrite=True)\n"
   ]
  },
  {
   "cell_type": "code",
   "execution_count": null,
   "id": "d9d3ced0-a1e7-47c3-b636-a217c947b864",
   "metadata": {},
   "outputs": [],
   "source": [
    "# out = xr.corr(s2_rolling, tide_3d)"
   ]
  },
  {
   "cell_type": "code",
   "execution_count": null,
   "id": "d2058e5c-111e-48d5-89e5-47bb93a670ef",
   "metadata": {},
   "outputs": [],
   "source": [
    "write_cog(test_max, fname='pixel_dem13.tif', overwrite=True)  # "
   ]
  },
  {
   "cell_type": "code",
   "execution_count": null,
   "id": "782714b0-5a93-4a8a-aa62-37a8e02bd53c",
   "metadata": {},
   "outputs": [],
   "source": [
    "x, y = 755234.5430086093, 8215882.783825266\n",
    "# pixel = s2_rolling.sel(x=x,  y=y, method='nearest')\n",
    "# df_median = pixel.to_dataframe()[['ndwi']].reset_index()\n",
    "\n",
    "pixel = ds.sel(x=x,  y=y, method='nearest')\n",
    "df = pixel.to_dataframe()[['ndwi']].reset_index()\n",
    "df_median = df.rolling(100, min_periods=10, center=True).median()\n",
    "df_std = df.rolling(100, min_periods=10, center=True).std()\n",
    "std_mean = df_std.ndwi.mean()\n",
    "\n",
    "fig, ax = plt.subplots(1, 1)\n",
    "ax.scatter(x=df_median.tide_height, y=df_median.ndwi)\n",
    "# ax.axvline(df_median.where(df_median.ndwi > 0).tide_height.min())\n",
    "ax.axvline(df_median.where(df_median.ndwi < 0).tide_height.max())\n",
    "ax.axvline(df_median.where(df_median.ndwi < (0 + std_mean * 0.5)).tide_height.max())\n",
    "ax.axvline(df_median.where(df_median.ndwi < (0 - std_mean * 0.5)).tide_height.max())\n",
    "ax.axhline(0)"
   ]
  },
  {
   "cell_type": "code",
   "execution_count": null,
   "id": "e35babc3-f719-4c01-9f4f-b742c199328d",
   "metadata": {},
   "outputs": [],
   "source": [
    "std_mean.ndwi"
   ]
  },
  {
   "cell_type": "code",
   "execution_count": null,
   "id": "f3f828fd-c9a3-4bf1-a1f8-c091eea486b7",
   "metadata": {},
   "outputs": [],
   "source": [
    "df_median.where(df_median.ndwi < 0).tide_height.max()"
   ]
  },
  {
   "cell_type": "code",
   "execution_count": null,
   "id": "eb6c4d35-5569-432e-bb70-6497a5329c0b",
   "metadata": {},
   "outputs": [],
   "source": [
    "df_median.where(df_median.ndwi > 0).tide_height.min()"
   ]
  },
  {
   "cell_type": "markdown",
   "id": "72172af8-b057-4416-9ba9-de434e78b4d2",
   "metadata": {},
   "source": [
    "# Shut down cluster"
   ]
  },
  {
   "cell_type": "code",
   "execution_count": null,
   "id": "7e5b413a-ab34-48a0-97b4-682a268eb322",
   "metadata": {},
   "outputs": [],
   "source": [
    "from dask_gateway import Gateway\n",
    "gateway = Gateway()\n",
    "\n",
    "# Close any existing clusters\n",
    "cluster_names = gateway.list_clusters()\n",
    "if len(cluster_names) > 0:\n",
    "    print(\"Cluster(s) still running:\", cluster_names)\n",
    "    for n in cluster_names:\n",
    "        cluster = gateway.connect(n.name)\n",
    "        cluster.shutdown()"
   ]
  },
  {
   "cell_type": "code",
   "execution_count": null,
   "id": "46f990e8-d01a-4334-b4d4-42306a31b627",
   "metadata": {},
   "outputs": [],
   "source": [
    "cluster.shutdown()"
   ]
  },
  {
   "cell_type": "code",
   "execution_count": null,
   "id": "a8a8bf32-584f-40d9-9484-8c3f2886ff8a",
   "metadata": {},
   "outputs": [],
   "source": []
  }
 ],
 "metadata": {
  "kernelspec": {
   "display_name": "Python 3 (ipykernel)",
   "language": "python",
   "name": "python3"
  },
  "language_info": {
   "codemirror_mode": {
    "name": "ipython",
    "version": 3
   },
   "file_extension": ".py",
   "mimetype": "text/x-python",
   "name": "python",
   "nbconvert_exporter": "python",
   "pygments_lexer": "ipython3",
   "version": "3.8.10"
  }
 },
 "nbformat": 4,
 "nbformat_minor": 5
}

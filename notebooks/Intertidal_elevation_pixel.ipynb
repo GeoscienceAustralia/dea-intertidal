{
 "cells": [
  {
   "cell_type": "markdown",
   "id": "306a1f55-3f9d-4996-be95-e11e5a74a86b",
   "metadata": {},
   "source": [
    "## Getting started\n",
    "Set working directory to top level of repo to ensure links work correctly:"
   ]
  },
  {
   "cell_type": "code",
   "execution_count": 1,
   "id": "6c9907dc-c0d2-4b2e-8cbb-bb3a2bc15f08",
   "metadata": {},
   "outputs": [
    {
     "name": "stdout",
     "output_type": "stream",
     "text": [
      "/home/jovyan/Robbi/dea-intertidal\n"
     ]
    }
   ],
   "source": [
    "cd .."
   ]
  },
  {
   "cell_type": "code",
   "execution_count": 2,
   "id": "e83130dd-6deb-4f91-be40-614e5667d46f",
   "metadata": {},
   "outputs": [
    {
     "name": "stdout",
     "output_type": "stream",
     "text": [
      "\u001b[33mWARNING: You are using pip version 22.0.2; however, version 22.2.1 is available.\n",
      "You should consider upgrading via the '/env/bin/python -m pip install --upgrade pip' command.\u001b[0m\u001b[33m\n",
      "\u001b[0mNote: you may need to restart the kernel to use updated packages.\n"
     ]
    }
   ],
   "source": [
    "pip install odc-geo --quiet"
   ]
  },
  {
   "cell_type": "code",
   "execution_count": 3,
   "id": "43097431-edae-42c8-9737-c53391dbf66c",
   "metadata": {},
   "outputs": [
    {
     "name": "stdout",
     "output_type": "stream",
     "text": [
      "\u001b[33mWARNING: You are using pip version 22.0.2; however, version 22.2.1 is available.\n",
      "You should consider upgrading via the '/env/bin/python -m pip install --upgrade pip' command.\u001b[0m\u001b[33m\n",
      "\u001b[0mNote: you may need to restart the kernel to use updated packages.\n"
     ]
    }
   ],
   "source": [
    "pip install git+https://github.com/digitalearthafrica/deafrica-coastlines.git --quiet"
   ]
  },
  {
   "cell_type": "markdown",
   "id": "4244cc06-b5e7-4120-8514-adf35082cb2c",
   "metadata": {},
   "source": [
    "### Load packages"
   ]
  },
  {
   "cell_type": "code",
   "execution_count": 4,
   "id": "2520e8de-ac2c-4571-99a0-f7fb7b932f56",
   "metadata": {},
   "outputs": [
    {
     "data": {
      "text/html": [
       "<table style=\"border: 2px solid white;\">\n",
       "<tr>\n",
       "<td style=\"vertical-align: top; border: 0px solid white\">\n",
       "<h3 style=\"text-align: left;\">Client</h3>\n",
       "<ul style=\"text-align: left; list-style: none; margin: 0; padding: 0;\">\n",
       "  <li><b>Scheduler: </b>tcp://127.0.0.1:43725</li>\n",
       "  <li><b>Dashboard: </b><a href='/user/robbi.bishoptaylor@ga.gov.au/proxy/8787/status' target='_blank'>/user/robbi.bishoptaylor@ga.gov.au/proxy/8787/status</a></li>\n",
       "</ul>\n",
       "</td>\n",
       "<td style=\"vertical-align: top; border: 0px solid white\">\n",
       "<h3 style=\"text-align: left;\">Cluster</h3>\n",
       "<ul style=\"text-align: left; list-style:none; margin: 0; padding: 0;\">\n",
       "  <li><b>Workers: </b>1</li>\n",
       "  <li><b>Cores: </b>31</li>\n",
       "  <li><b>Memory: </b>254.70 GB</li>\n",
       "</ul>\n",
       "</td>\n",
       "</tr>\n",
       "</table>"
      ],
      "text/plain": [
       "<Client: 'tcp://127.0.0.1:43725' processes=1 threads=31, memory=254.70 GB>"
      ]
     },
     "metadata": {},
     "output_type": "display_data"
    }
   ],
   "source": [
    "%load_ext autoreload\n",
    "%autoreload 2\n",
    "\n",
    "import datacube\n",
    "import xarray as xr\n",
    "import pandas as pd\n",
    "import numpy as np\n",
    "import geopandas as gpd\n",
    "import matplotlib.pyplot as plt\n",
    "from datacube.utils.cog import write_cog\n",
    "from datacube.utils.geometry import Geometry\n",
    "import odc.geo.xr\n",
    "from odc.algo import mask_cleanup\n",
    "\n",
    "from dea_tools.dask import create_local_dask_cluster\n",
    "from intertidal.extents import load_data, pixel_tide_sort, item, nidem, parallel_apply, pixel_tides, ds_to_flat, create_dask_gateway_cluster, abslmp_correction\n",
    "\n",
    "# cluster = create_dask_gateway_cluster(profile=\"r5_4XL\", workers=10)\n",
    "# print(\"Dashboard\", cluster.dashboard_link)\n",
    "# client = cluster.get_client()\n",
    "\n",
    "# Create local dask cluster to improve data load time\n",
    "client = create_local_dask_cluster(return_client=True)\n",
    "\n",
    "# Connect to datacube\n",
    "dc = datacube.Datacube(app='Intertidal_elevation')"
   ]
  },
  {
   "cell_type": "markdown",
   "id": "9b72074d-c4bc-410b-83e1-80295227b81c",
   "metadata": {},
   "source": [
    "## Setup"
   ]
  },
  {
   "cell_type": "code",
   "execution_count": null,
   "id": "6031b959-82c9-4698-a71c-410896b24134",
   "metadata": {},
   "outputs": [],
   "source": [
    "# aoi = 'McCarthur River'\n",
    "aoi = 'Greenbank'\n",
    "# aoi = 'Seven Emu'\n",
    "# aoi = 'Wollogorang'\n",
    "\n",
    "# Import regions of interest\n",
    "aoi_gdf = gpd.read_file('data/raw/Phase_1_NT_Gov.geojson').set_index('Name').to_crs('EPSG:3577')\n",
    "aoi_gdf.head()\n",
    "\n",
    "# Select AOI\n",
    "geom = Geometry(geom=aoi_gdf.loc[aoi].geometry, crs='EPSG:3577')\n",
    "geom"
   ]
  },
  {
   "cell_type": "code",
   "execution_count": 6,
   "id": "bdcf1c79-ae5a-4453-a7e8-d3f021b0b65a",
   "metadata": {},
   "outputs": [
    {
     "data": {
      "application/vnd.jupyter.widget-view+json": {
       "model_id": "a1d012314360475a91af78c96612fd7b",
       "version_major": 2,
       "version_minor": 0
      },
      "text/plain": [
       "Map(center=[-26, 135], controls=(ZoomControl(options=['position', 'zoom_in_text', 'zoom_in_title', 'zoom_out_t…"
      ]
     },
     "metadata": {},
     "output_type": "display_data"
    }
   ],
   "source": [
    "from odc.ui import select_on_a_map\n",
    "from ipyleaflet import basemaps, basemap_to_tiles\n",
    "\n",
    "# Plot interactive map to select area\n",
    "basemap = basemap_to_tiles(basemaps.Esri.WorldImagery)\n",
    "geom = select_on_a_map(height='600px',\n",
    "                             layers=(basemap,),\n",
    "                             center=(-26, 135), \n",
    "                             zoom=4)"
   ]
  },
  {
   "cell_type": "markdown",
   "id": "54c892b8-42d3-4930-ad97-e0e214535fc5",
   "metadata": {},
   "source": [
    "## Load data"
   ]
  },
  {
   "cell_type": "code",
   "execution_count": 7,
   "id": "756ce682-75ce-4a6b-8728-f18e8133283c",
   "metadata": {},
   "outputs": [
    {
     "data": {
      "text/html": [
       "<table style=\"border: 2px solid white;\">\n",
       "<tr>\n",
       "<td style=\"vertical-align: top; border: 0px solid white\">\n",
       "<h3 style=\"text-align: left;\">Client</h3>\n",
       "<ul style=\"text-align: left; list-style: none; margin: 0; padding: 0;\">\n",
       "  <li><b>Scheduler: </b>tcp://127.0.0.1:43725</li>\n",
       "  <li><b>Dashboard: </b><a href='/user/robbi.bishoptaylor@ga.gov.au/proxy/8787/status' target='_blank'>/user/robbi.bishoptaylor@ga.gov.au/proxy/8787/status</a></li>\n",
       "</ul>\n",
       "</td>\n",
       "<td style=\"vertical-align: top; border: 0px solid white\">\n",
       "<h3 style=\"text-align: left;\">Cluster</h3>\n",
       "<ul style=\"text-align: left; list-style:none; margin: 0; padding: 0;\">\n",
       "  <li><b>Workers: </b>1</li>\n",
       "  <li><b>Cores: </b>31</li>\n",
       "  <li><b>Memory: </b>254.70 GB</li>\n",
       "</ul>\n",
       "</td>\n",
       "</tr>\n",
       "</table>"
      ],
      "text/plain": [
       "<Client: 'tcp://127.0.0.1:43725' processes=1 threads=31, memory=254.70 GB>"
      ]
     },
     "execution_count": 7,
     "metadata": {},
     "output_type": "execute_result"
    }
   ],
   "source": [
    "client"
   ]
  },
  {
   "cell_type": "code",
   "execution_count": 9,
   "id": "aacc0b6d-39e1-4609-8807-79db8882833f",
   "metadata": {},
   "outputs": [
    {
     "data": {
      "text/html": [
       "<div><svg style=\"position: absolute; width: 0; height: 0; overflow: hidden\">\n",
       "<defs>\n",
       "<symbol id=\"icon-database\" viewBox=\"0 0 32 32\">\n",
       "<path d=\"M16 0c-8.837 0-16 2.239-16 5v4c0 2.761 7.163 5 16 5s16-2.239 16-5v-4c0-2.761-7.163-5-16-5z\"></path>\n",
       "<path d=\"M16 17c-8.837 0-16-2.239-16-5v6c0 2.761 7.163 5 16 5s16-2.239 16-5v-6c0 2.761-7.163 5-16 5z\"></path>\n",
       "<path d=\"M16 26c-8.837 0-16-2.239-16-5v6c0 2.761 7.163 5 16 5s16-2.239 16-5v-6c0 2.761-7.163 5-16 5z\"></path>\n",
       "</symbol>\n",
       "<symbol id=\"icon-file-text2\" viewBox=\"0 0 32 32\">\n",
       "<path d=\"M28.681 7.159c-0.694-0.947-1.662-2.053-2.724-3.116s-2.169-2.030-3.116-2.724c-1.612-1.182-2.393-1.319-2.841-1.319h-15.5c-1.378 0-2.5 1.121-2.5 2.5v27c0 1.378 1.122 2.5 2.5 2.5h23c1.378 0 2.5-1.122 2.5-2.5v-19.5c0-0.448-0.137-1.23-1.319-2.841zM24.543 5.457c0.959 0.959 1.712 1.825 2.268 2.543h-4.811v-4.811c0.718 0.556 1.584 1.309 2.543 2.268zM28 29.5c0 0.271-0.229 0.5-0.5 0.5h-23c-0.271 0-0.5-0.229-0.5-0.5v-27c0-0.271 0.229-0.5 0.5-0.5 0 0 15.499-0 15.5 0v7c0 0.552 0.448 1 1 1h7v19.5z\"></path>\n",
       "<path d=\"M23 26h-14c-0.552 0-1-0.448-1-1s0.448-1 1-1h14c0.552 0 1 0.448 1 1s-0.448 1-1 1z\"></path>\n",
       "<path d=\"M23 22h-14c-0.552 0-1-0.448-1-1s0.448-1 1-1h14c0.552 0 1 0.448 1 1s-0.448 1-1 1z\"></path>\n",
       "<path d=\"M23 18h-14c-0.552 0-1-0.448-1-1s0.448-1 1-1h14c0.552 0 1 0.448 1 1s-0.448 1-1 1z\"></path>\n",
       "</symbol>\n",
       "</defs>\n",
       "</svg>\n",
       "<style>/* CSS stylesheet for displaying xarray objects in jupyterlab.\n",
       " *\n",
       " */\n",
       "\n",
       ":root {\n",
       "  --xr-font-color0: var(--jp-content-font-color0, rgba(0, 0, 0, 1));\n",
       "  --xr-font-color2: var(--jp-content-font-color2, rgba(0, 0, 0, 0.54));\n",
       "  --xr-font-color3: var(--jp-content-font-color3, rgba(0, 0, 0, 0.38));\n",
       "  --xr-border-color: var(--jp-border-color2, #e0e0e0);\n",
       "  --xr-disabled-color: var(--jp-layout-color3, #bdbdbd);\n",
       "  --xr-background-color: var(--jp-layout-color0, white);\n",
       "  --xr-background-color-row-even: var(--jp-layout-color1, white);\n",
       "  --xr-background-color-row-odd: var(--jp-layout-color2, #eeeeee);\n",
       "}\n",
       "\n",
       "html[theme=dark],\n",
       "body.vscode-dark {\n",
       "  --xr-font-color0: rgba(255, 255, 255, 1);\n",
       "  --xr-font-color2: rgba(255, 255, 255, 0.54);\n",
       "  --xr-font-color3: rgba(255, 255, 255, 0.38);\n",
       "  --xr-border-color: #1F1F1F;\n",
       "  --xr-disabled-color: #515151;\n",
       "  --xr-background-color: #111111;\n",
       "  --xr-background-color-row-even: #111111;\n",
       "  --xr-background-color-row-odd: #313131;\n",
       "}\n",
       "\n",
       ".xr-wrap {\n",
       "  display: block !important;\n",
       "  min-width: 300px;\n",
       "  max-width: 700px;\n",
       "}\n",
       "\n",
       ".xr-text-repr-fallback {\n",
       "  /* fallback to plain text repr when CSS is not injected (untrusted notebook) */\n",
       "  display: none;\n",
       "}\n",
       "\n",
       ".xr-header {\n",
       "  padding-top: 6px;\n",
       "  padding-bottom: 6px;\n",
       "  margin-bottom: 4px;\n",
       "  border-bottom: solid 1px var(--xr-border-color);\n",
       "}\n",
       "\n",
       ".xr-header > div,\n",
       ".xr-header > ul {\n",
       "  display: inline;\n",
       "  margin-top: 0;\n",
       "  margin-bottom: 0;\n",
       "}\n",
       "\n",
       ".xr-obj-type,\n",
       ".xr-array-name {\n",
       "  margin-left: 2px;\n",
       "  margin-right: 10px;\n",
       "}\n",
       "\n",
       ".xr-obj-type {\n",
       "  color: var(--xr-font-color2);\n",
       "}\n",
       "\n",
       ".xr-sections {\n",
       "  padding-left: 0 !important;\n",
       "  display: grid;\n",
       "  grid-template-columns: 150px auto auto 1fr 20px 20px;\n",
       "}\n",
       "\n",
       ".xr-section-item {\n",
       "  display: contents;\n",
       "}\n",
       "\n",
       ".xr-section-item input {\n",
       "  display: none;\n",
       "}\n",
       "\n",
       ".xr-section-item input + label {\n",
       "  color: var(--xr-disabled-color);\n",
       "}\n",
       "\n",
       ".xr-section-item input:enabled + label {\n",
       "  cursor: pointer;\n",
       "  color: var(--xr-font-color2);\n",
       "}\n",
       "\n",
       ".xr-section-item input:enabled + label:hover {\n",
       "  color: var(--xr-font-color0);\n",
       "}\n",
       "\n",
       ".xr-section-summary {\n",
       "  grid-column: 1;\n",
       "  color: var(--xr-font-color2);\n",
       "  font-weight: 500;\n",
       "}\n",
       "\n",
       ".xr-section-summary > span {\n",
       "  display: inline-block;\n",
       "  padding-left: 0.5em;\n",
       "}\n",
       "\n",
       ".xr-section-summary-in:disabled + label {\n",
       "  color: var(--xr-font-color2);\n",
       "}\n",
       "\n",
       ".xr-section-summary-in + label:before {\n",
       "  display: inline-block;\n",
       "  content: '►';\n",
       "  font-size: 11px;\n",
       "  width: 15px;\n",
       "  text-align: center;\n",
       "}\n",
       "\n",
       ".xr-section-summary-in:disabled + label:before {\n",
       "  color: var(--xr-disabled-color);\n",
       "}\n",
       "\n",
       ".xr-section-summary-in:checked + label:before {\n",
       "  content: '▼';\n",
       "}\n",
       "\n",
       ".xr-section-summary-in:checked + label > span {\n",
       "  display: none;\n",
       "}\n",
       "\n",
       ".xr-section-summary,\n",
       ".xr-section-inline-details {\n",
       "  padding-top: 4px;\n",
       "  padding-bottom: 4px;\n",
       "}\n",
       "\n",
       ".xr-section-inline-details {\n",
       "  grid-column: 2 / -1;\n",
       "}\n",
       "\n",
       ".xr-section-details {\n",
       "  display: none;\n",
       "  grid-column: 1 / -1;\n",
       "  margin-bottom: 5px;\n",
       "}\n",
       "\n",
       ".xr-section-summary-in:checked ~ .xr-section-details {\n",
       "  display: contents;\n",
       "}\n",
       "\n",
       ".xr-array-wrap {\n",
       "  grid-column: 1 / -1;\n",
       "  display: grid;\n",
       "  grid-template-columns: 20px auto;\n",
       "}\n",
       "\n",
       ".xr-array-wrap > label {\n",
       "  grid-column: 1;\n",
       "  vertical-align: top;\n",
       "}\n",
       "\n",
       ".xr-preview {\n",
       "  color: var(--xr-font-color3);\n",
       "}\n",
       "\n",
       ".xr-array-preview,\n",
       ".xr-array-data {\n",
       "  padding: 0 5px !important;\n",
       "  grid-column: 2;\n",
       "}\n",
       "\n",
       ".xr-array-data,\n",
       ".xr-array-in:checked ~ .xr-array-preview {\n",
       "  display: none;\n",
       "}\n",
       "\n",
       ".xr-array-in:checked ~ .xr-array-data,\n",
       ".xr-array-preview {\n",
       "  display: inline-block;\n",
       "}\n",
       "\n",
       ".xr-dim-list {\n",
       "  display: inline-block !important;\n",
       "  list-style: none;\n",
       "  padding: 0 !important;\n",
       "  margin: 0;\n",
       "}\n",
       "\n",
       ".xr-dim-list li {\n",
       "  display: inline-block;\n",
       "  padding: 0;\n",
       "  margin: 0;\n",
       "}\n",
       "\n",
       ".xr-dim-list:before {\n",
       "  content: '(';\n",
       "}\n",
       "\n",
       ".xr-dim-list:after {\n",
       "  content: ')';\n",
       "}\n",
       "\n",
       ".xr-dim-list li:not(:last-child):after {\n",
       "  content: ',';\n",
       "  padding-right: 5px;\n",
       "}\n",
       "\n",
       ".xr-has-index {\n",
       "  font-weight: bold;\n",
       "}\n",
       "\n",
       ".xr-var-list,\n",
       ".xr-var-item {\n",
       "  display: contents;\n",
       "}\n",
       "\n",
       ".xr-var-item > div,\n",
       ".xr-var-item label,\n",
       ".xr-var-item > .xr-var-name span {\n",
       "  background-color: var(--xr-background-color-row-even);\n",
       "  margin-bottom: 0;\n",
       "}\n",
       "\n",
       ".xr-var-item > .xr-var-name:hover span {\n",
       "  padding-right: 5px;\n",
       "}\n",
       "\n",
       ".xr-var-list > li:nth-child(odd) > div,\n",
       ".xr-var-list > li:nth-child(odd) > label,\n",
       ".xr-var-list > li:nth-child(odd) > .xr-var-name span {\n",
       "  background-color: var(--xr-background-color-row-odd);\n",
       "}\n",
       "\n",
       ".xr-var-name {\n",
       "  grid-column: 1;\n",
       "}\n",
       "\n",
       ".xr-var-dims {\n",
       "  grid-column: 2;\n",
       "}\n",
       "\n",
       ".xr-var-dtype {\n",
       "  grid-column: 3;\n",
       "  text-align: right;\n",
       "  color: var(--xr-font-color2);\n",
       "}\n",
       "\n",
       ".xr-var-preview {\n",
       "  grid-column: 4;\n",
       "}\n",
       "\n",
       ".xr-var-name,\n",
       ".xr-var-dims,\n",
       ".xr-var-dtype,\n",
       ".xr-preview,\n",
       ".xr-attrs dt {\n",
       "  white-space: nowrap;\n",
       "  overflow: hidden;\n",
       "  text-overflow: ellipsis;\n",
       "  padding-right: 10px;\n",
       "}\n",
       "\n",
       ".xr-var-name:hover,\n",
       ".xr-var-dims:hover,\n",
       ".xr-var-dtype:hover,\n",
       ".xr-attrs dt:hover {\n",
       "  overflow: visible;\n",
       "  width: auto;\n",
       "  z-index: 1;\n",
       "}\n",
       "\n",
       ".xr-var-attrs,\n",
       ".xr-var-data {\n",
       "  display: none;\n",
       "  background-color: var(--xr-background-color) !important;\n",
       "  padding-bottom: 5px !important;\n",
       "}\n",
       "\n",
       ".xr-var-attrs-in:checked ~ .xr-var-attrs,\n",
       ".xr-var-data-in:checked ~ .xr-var-data {\n",
       "  display: block;\n",
       "}\n",
       "\n",
       ".xr-var-data > table {\n",
       "  float: right;\n",
       "}\n",
       "\n",
       ".xr-var-name span,\n",
       ".xr-var-data,\n",
       ".xr-attrs {\n",
       "  padding-left: 25px !important;\n",
       "}\n",
       "\n",
       ".xr-attrs,\n",
       ".xr-var-attrs,\n",
       ".xr-var-data {\n",
       "  grid-column: 1 / -1;\n",
       "}\n",
       "\n",
       "dl.xr-attrs {\n",
       "  padding: 0;\n",
       "  margin: 0;\n",
       "  display: grid;\n",
       "  grid-template-columns: 125px auto;\n",
       "}\n",
       "\n",
       ".xr-attrs dt,\n",
       ".xr-attrs dd {\n",
       "  padding: 0;\n",
       "  margin: 0;\n",
       "  float: left;\n",
       "  padding-right: 10px;\n",
       "  width: auto;\n",
       "}\n",
       "\n",
       ".xr-attrs dt {\n",
       "  font-weight: normal;\n",
       "  grid-column: 1;\n",
       "}\n",
       "\n",
       ".xr-attrs dt:hover span {\n",
       "  display: inline-block;\n",
       "  background: var(--xr-background-color);\n",
       "  padding-right: 10px;\n",
       "}\n",
       "\n",
       ".xr-attrs dd {\n",
       "  grid-column: 2;\n",
       "  white-space: pre-wrap;\n",
       "  word-break: break-all;\n",
       "}\n",
       "\n",
       ".xr-icon-database,\n",
       ".xr-icon-file-text2 {\n",
       "  display: inline-block;\n",
       "  vertical-align: middle;\n",
       "  width: 1em;\n",
       "  height: 1.5em !important;\n",
       "  stroke-width: 0;\n",
       "  stroke: currentColor;\n",
       "  fill: currentColor;\n",
       "}\n",
       "</style><pre class='xr-text-repr-fallback'>&lt;xarray.Dataset&gt;\n",
       "Dimensions:      (time: 395, y: 164, x: 191)\n",
       "Coordinates:\n",
       "  * time         (time) datetime64[ns] 2012-01-16T00:47:06.964591 ... 2022-07...\n",
       "  * y            (y) float64 8.229e+06 8.229e+06 ... 8.224e+06 8.224e+06\n",
       "  * x            (x) float64 7.398e+05 7.398e+05 ... 7.455e+05 7.455e+05\n",
       "    spatial_ref  int32 32753\n",
       "Data variables:\n",
       "    ndwi         (time, y, x) float32 dask.array&lt;chunksize=(1, 164, 191), meta=np.ndarray&gt;\n",
       "Attributes:\n",
       "    crs:           epsg:32753\n",
       "    grid_mapping:  spatial_ref</pre><div class='xr-wrap' style='display:none'><div class='xr-header'><div class='xr-obj-type'>xarray.Dataset</div></div><ul class='xr-sections'><li class='xr-section-item'><input id='section-d1e90c23-144f-4a83-aa21-c6e1708cbac7' class='xr-section-summary-in' type='checkbox' disabled ><label for='section-d1e90c23-144f-4a83-aa21-c6e1708cbac7' class='xr-section-summary'  title='Expand/collapse section'>Dimensions:</label><div class='xr-section-inline-details'><ul class='xr-dim-list'><li><span class='xr-has-index'>time</span>: 395</li><li><span class='xr-has-index'>y</span>: 164</li><li><span class='xr-has-index'>x</span>: 191</li></ul></div><div class='xr-section-details'></div></li><li class='xr-section-item'><input id='section-b06852d5-623e-49da-85dd-76cc52db06f6' class='xr-section-summary-in' type='checkbox'  checked><label for='section-b06852d5-623e-49da-85dd-76cc52db06f6' class='xr-section-summary' >Coordinates: <span>(4)</span></label><div class='xr-section-inline-details'></div><div class='xr-section-details'><ul class='xr-var-list'><li class='xr-var-item'><div class='xr-var-name'><span class='xr-has-index'>time</span></div><div class='xr-var-dims'>(time)</div><div class='xr-var-dtype'>datetime64[ns]</div><div class='xr-var-preview xr-preview'>2012-01-16T00:47:06.964591 ... 2...</div><input id='attrs-c63a65be-1c38-4db4-a513-ee42dcfded57' class='xr-var-attrs-in' type='checkbox' disabled><label for='attrs-c63a65be-1c38-4db4-a513-ee42dcfded57' title='Show/Hide attributes'><svg class='icon xr-icon-file-text2'><use xlink:href='#icon-file-text2'></use></svg></label><input id='data-20580b71-fffb-43b1-add1-59a12f761547' class='xr-var-data-in' type='checkbox'><label for='data-20580b71-fffb-43b1-add1-59a12f761547' title='Show/Hide data repr'><svg class='icon xr-icon-database'><use xlink:href='#icon-database'></use></svg></label><div class='xr-var-attrs'><dl class='xr-attrs'></dl></div><div class='xr-var-data'><pre>array([&#x27;2012-01-16T00:47:06.964591000&#x27;, &#x27;2012-02-17T00:47:13.650351000&#x27;,\n",
       "       &#x27;2012-03-20T00:47:13.127156000&#x27;, ..., &#x27;2022-05-27T00:53:00.946355000&#x27;,\n",
       "       &#x27;2022-06-12T00:53:13.966094000&#x27;, &#x27;2022-07-14T00:53:18.818486000&#x27;],\n",
       "      dtype=&#x27;datetime64[ns]&#x27;)</pre></div></li><li class='xr-var-item'><div class='xr-var-name'><span class='xr-has-index'>y</span></div><div class='xr-var-dims'>(y)</div><div class='xr-var-dtype'>float64</div><div class='xr-var-preview xr-preview'>8.229e+06 8.229e+06 ... 8.224e+06</div><input id='attrs-0cc0aff9-248c-429d-963b-09dbc5054433' class='xr-var-attrs-in' type='checkbox' ><label for='attrs-0cc0aff9-248c-429d-963b-09dbc5054433' title='Show/Hide attributes'><svg class='icon xr-icon-file-text2'><use xlink:href='#icon-file-text2'></use></svg></label><input id='data-fbbeb973-27d4-404a-9539-b13e992546bf' class='xr-var-data-in' type='checkbox'><label for='data-fbbeb973-27d4-404a-9539-b13e992546bf' title='Show/Hide data repr'><svg class='icon xr-icon-database'><use xlink:href='#icon-database'></use></svg></label><div class='xr-var-attrs'><dl class='xr-attrs'><dt><span>units :</span></dt><dd>metre</dd><dt><span>resolution :</span></dt><dd>-30.0</dd><dt><span>crs :</span></dt><dd>epsg:32753</dd></dl></div><div class='xr-var-data'><pre>array([8229045., 8229015., 8228985., 8228955., 8228925., 8228895., 8228865.,\n",
       "       8228835., 8228805., 8228775., 8228745., 8228715., 8228685., 8228655.,\n",
       "       8228625., 8228595., 8228565., 8228535., 8228505., 8228475., 8228445.,\n",
       "       8228415., 8228385., 8228355., 8228325., 8228295., 8228265., 8228235.,\n",
       "       8228205., 8228175., 8228145., 8228115., 8228085., 8228055., 8228025.,\n",
       "       8227995., 8227965., 8227935., 8227905., 8227875., 8227845., 8227815.,\n",
       "       8227785., 8227755., 8227725., 8227695., 8227665., 8227635., 8227605.,\n",
       "       8227575., 8227545., 8227515., 8227485., 8227455., 8227425., 8227395.,\n",
       "       8227365., 8227335., 8227305., 8227275., 8227245., 8227215., 8227185.,\n",
       "       8227155., 8227125., 8227095., 8227065., 8227035., 8227005., 8226975.,\n",
       "       8226945., 8226915., 8226885., 8226855., 8226825., 8226795., 8226765.,\n",
       "       8226735., 8226705., 8226675., 8226645., 8226615., 8226585., 8226555.,\n",
       "       8226525., 8226495., 8226465., 8226435., 8226405., 8226375., 8226345.,\n",
       "       8226315., 8226285., 8226255., 8226225., 8226195., 8226165., 8226135.,\n",
       "       8226105., 8226075., 8226045., 8226015., 8225985., 8225955., 8225925.,\n",
       "       8225895., 8225865., 8225835., 8225805., 8225775., 8225745., 8225715.,\n",
       "       8225685., 8225655., 8225625., 8225595., 8225565., 8225535., 8225505.,\n",
       "       8225475., 8225445., 8225415., 8225385., 8225355., 8225325., 8225295.,\n",
       "       8225265., 8225235., 8225205., 8225175., 8225145., 8225115., 8225085.,\n",
       "       8225055., 8225025., 8224995., 8224965., 8224935., 8224905., 8224875.,\n",
       "       8224845., 8224815., 8224785., 8224755., 8224725., 8224695., 8224665.,\n",
       "       8224635., 8224605., 8224575., 8224545., 8224515., 8224485., 8224455.,\n",
       "       8224425., 8224395., 8224365., 8224335., 8224305., 8224275., 8224245.,\n",
       "       8224215., 8224185., 8224155.])</pre></div></li><li class='xr-var-item'><div class='xr-var-name'><span class='xr-has-index'>x</span></div><div class='xr-var-dims'>(x)</div><div class='xr-var-dtype'>float64</div><div class='xr-var-preview xr-preview'>7.398e+05 7.398e+05 ... 7.455e+05</div><input id='attrs-eba5e9ef-2e50-4346-9fd6-1ae1203fee57' class='xr-var-attrs-in' type='checkbox' ><label for='attrs-eba5e9ef-2e50-4346-9fd6-1ae1203fee57' title='Show/Hide attributes'><svg class='icon xr-icon-file-text2'><use xlink:href='#icon-file-text2'></use></svg></label><input id='data-ed6c36c9-2dae-4530-8576-bd26d9d06dc6' class='xr-var-data-in' type='checkbox'><label for='data-ed6c36c9-2dae-4530-8576-bd26d9d06dc6' title='Show/Hide data repr'><svg class='icon xr-icon-database'><use xlink:href='#icon-database'></use></svg></label><div class='xr-var-attrs'><dl class='xr-attrs'><dt><span>units :</span></dt><dd>metre</dd><dt><span>resolution :</span></dt><dd>30.0</dd><dt><span>crs :</span></dt><dd>epsg:32753</dd></dl></div><div class='xr-var-data'><pre>array([739785., 739815., 739845., 739875., 739905., 739935., 739965., 739995.,\n",
       "       740025., 740055., 740085., 740115., 740145., 740175., 740205., 740235.,\n",
       "       740265., 740295., 740325., 740355., 740385., 740415., 740445., 740475.,\n",
       "       740505., 740535., 740565., 740595., 740625., 740655., 740685., 740715.,\n",
       "       740745., 740775., 740805., 740835., 740865., 740895., 740925., 740955.,\n",
       "       740985., 741015., 741045., 741075., 741105., 741135., 741165., 741195.,\n",
       "       741225., 741255., 741285., 741315., 741345., 741375., 741405., 741435.,\n",
       "       741465., 741495., 741525., 741555., 741585., 741615., 741645., 741675.,\n",
       "       741705., 741735., 741765., 741795., 741825., 741855., 741885., 741915.,\n",
       "       741945., 741975., 742005., 742035., 742065., 742095., 742125., 742155.,\n",
       "       742185., 742215., 742245., 742275., 742305., 742335., 742365., 742395.,\n",
       "       742425., 742455., 742485., 742515., 742545., 742575., 742605., 742635.,\n",
       "       742665., 742695., 742725., 742755., 742785., 742815., 742845., 742875.,\n",
       "       742905., 742935., 742965., 742995., 743025., 743055., 743085., 743115.,\n",
       "       743145., 743175., 743205., 743235., 743265., 743295., 743325., 743355.,\n",
       "       743385., 743415., 743445., 743475., 743505., 743535., 743565., 743595.,\n",
       "       743625., 743655., 743685., 743715., 743745., 743775., 743805., 743835.,\n",
       "       743865., 743895., 743925., 743955., 743985., 744015., 744045., 744075.,\n",
       "       744105., 744135., 744165., 744195., 744225., 744255., 744285., 744315.,\n",
       "       744345., 744375., 744405., 744435., 744465., 744495., 744525., 744555.,\n",
       "       744585., 744615., 744645., 744675., 744705., 744735., 744765., 744795.,\n",
       "       744825., 744855., 744885., 744915., 744945., 744975., 745005., 745035.,\n",
       "       745065., 745095., 745125., 745155., 745185., 745215., 745245., 745275.,\n",
       "       745305., 745335., 745365., 745395., 745425., 745455., 745485.])</pre></div></li><li class='xr-var-item'><div class='xr-var-name'><span>spatial_ref</span></div><div class='xr-var-dims'>()</div><div class='xr-var-dtype'>int32</div><div class='xr-var-preview xr-preview'>32753</div><input id='attrs-0f2a23d6-a255-468a-8be8-edd73e770217' class='xr-var-attrs-in' type='checkbox' ><label for='attrs-0f2a23d6-a255-468a-8be8-edd73e770217' title='Show/Hide attributes'><svg class='icon xr-icon-file-text2'><use xlink:href='#icon-file-text2'></use></svg></label><input id='data-afc91714-f2df-43bc-8f64-adce6d16ce5f' class='xr-var-data-in' type='checkbox'><label for='data-afc91714-f2df-43bc-8f64-adce6d16ce5f' title='Show/Hide data repr'><svg class='icon xr-icon-database'><use xlink:href='#icon-database'></use></svg></label><div class='xr-var-attrs'><dl class='xr-attrs'><dt><span>spatial_ref :</span></dt><dd>PROJCS[&quot;WGS 84 / UTM zone 53S&quot;,GEOGCS[&quot;WGS 84&quot;,DATUM[&quot;WGS_1984&quot;,SPHEROID[&quot;WGS 84&quot;,6378137,298.257223563,AUTHORITY[&quot;EPSG&quot;,&quot;7030&quot;]],AUTHORITY[&quot;EPSG&quot;,&quot;6326&quot;]],PRIMEM[&quot;Greenwich&quot;,0,AUTHORITY[&quot;EPSG&quot;,&quot;8901&quot;]],UNIT[&quot;degree&quot;,0.0174532925199433,AUTHORITY[&quot;EPSG&quot;,&quot;9122&quot;]],AUTHORITY[&quot;EPSG&quot;,&quot;4326&quot;]],PROJECTION[&quot;Transverse_Mercator&quot;],PARAMETER[&quot;latitude_of_origin&quot;,0],PARAMETER[&quot;central_meridian&quot;,135],PARAMETER[&quot;scale_factor&quot;,0.9996],PARAMETER[&quot;false_easting&quot;,500000],PARAMETER[&quot;false_northing&quot;,10000000],UNIT[&quot;metre&quot;,1,AUTHORITY[&quot;EPSG&quot;,&quot;9001&quot;]],AXIS[&quot;Easting&quot;,EAST],AXIS[&quot;Northing&quot;,NORTH],AUTHORITY[&quot;EPSG&quot;,&quot;32753&quot;]]</dd><dt><span>grid_mapping_name :</span></dt><dd>transverse_mercator</dd></dl></div><div class='xr-var-data'><pre>array(32753, dtype=int32)</pre></div></li></ul></div></li><li class='xr-section-item'><input id='section-ce9d83ca-3f58-4c6b-a5a0-2b353e93d4c1' class='xr-section-summary-in' type='checkbox'  checked><label for='section-ce9d83ca-3f58-4c6b-a5a0-2b353e93d4c1' class='xr-section-summary' >Data variables: <span>(1)</span></label><div class='xr-section-inline-details'></div><div class='xr-section-details'><ul class='xr-var-list'><li class='xr-var-item'><div class='xr-var-name'><span>ndwi</span></div><div class='xr-var-dims'>(time, y, x)</div><div class='xr-var-dtype'>float32</div><div class='xr-var-preview xr-preview'>dask.array&lt;chunksize=(1, 164, 191), meta=np.ndarray&gt;</div><input id='attrs-6fcfcd74-b6ce-4922-adcf-f6cdc87a1fe6' class='xr-var-attrs-in' type='checkbox' ><label for='attrs-6fcfcd74-b6ce-4922-adcf-f6cdc87a1fe6' title='Show/Hide attributes'><svg class='icon xr-icon-file-text2'><use xlink:href='#icon-file-text2'></use></svg></label><input id='data-d34d8f5e-7191-4a04-8f4c-8fc068e71f42' class='xr-var-data-in' type='checkbox'><label for='data-d34d8f5e-7191-4a04-8f4c-8fc068e71f42' title='Show/Hide data repr'><svg class='icon xr-icon-database'><use xlink:href='#icon-database'></use></svg></label><div class='xr-var-attrs'><dl class='xr-attrs'><dt><span>crs :</span></dt><dd>epsg:32753</dd><dt><span>units :</span></dt><dd>1</dd><dt><span>nodata :</span></dt><dd>nan</dd></dl></div><div class='xr-var-data'><table>\n",
       "<tr>\n",
       "<td>\n",
       "<table>\n",
       "  <thead>\n",
       "    <tr><td> </td><th> Array </th><th> Chunk </th></tr>\n",
       "  </thead>\n",
       "  <tbody>\n",
       "    <tr><th> Bytes </th><td> 49.49 MB </td> <td> 125.30 kB </td></tr>\n",
       "    <tr><th> Shape </th><td> (395, 164, 191) </td> <td> (1, 164, 191) </td></tr>\n",
       "    <tr><th> Count </th><td> 30418 Tasks </td><td> 395 Chunks </td></tr>\n",
       "    <tr><th> Type </th><td> float32 </td><td> numpy.ndarray </td></tr>\n",
       "  </tbody>\n",
       "</table>\n",
       "</td>\n",
       "<td>\n",
       "<svg width=\"188\" height=\"170\" style=\"stroke:rgb(0,0,0);stroke-width:1\" >\n",
       "\n",
       "  <!-- Horizontal lines -->\n",
       "  <line x1=\"10\" y1=\"0\" x2=\"80\" y2=\"70\" style=\"stroke-width:2\" />\n",
       "  <line x1=\"10\" y1=\"49\" x2=\"80\" y2=\"120\" style=\"stroke-width:2\" />\n",
       "\n",
       "  <!-- Vertical lines -->\n",
       "  <line x1=\"10\" y1=\"0\" x2=\"10\" y2=\"49\" style=\"stroke-width:2\" />\n",
       "  <line x1=\"13\" y1=\"3\" x2=\"13\" y2=\"53\" />\n",
       "  <line x1=\"17\" y1=\"7\" x2=\"17\" y2=\"57\" />\n",
       "  <line x1=\"21\" y1=\"11\" x2=\"21\" y2=\"60\" />\n",
       "  <line x1=\"24\" y1=\"14\" x2=\"24\" y2=\"64\" />\n",
       "  <line x1=\"28\" y1=\"18\" x2=\"28\" y2=\"68\" />\n",
       "  <line x1=\"32\" y1=\"22\" x2=\"32\" y2=\"71\" />\n",
       "  <line x1=\"35\" y1=\"25\" x2=\"35\" y2=\"75\" />\n",
       "  <line x1=\"39\" y1=\"29\" x2=\"39\" y2=\"79\" />\n",
       "  <line x1=\"43\" y1=\"33\" x2=\"43\" y2=\"83\" />\n",
       "  <line x1=\"46\" y1=\"36\" x2=\"46\" y2=\"86\" />\n",
       "  <line x1=\"50\" y1=\"40\" x2=\"50\" y2=\"90\" />\n",
       "  <line x1=\"54\" y1=\"44\" x2=\"54\" y2=\"94\" />\n",
       "  <line x1=\"58\" y1=\"48\" x2=\"58\" y2=\"98\" />\n",
       "  <line x1=\"62\" y1=\"52\" x2=\"62\" y2=\"101\" />\n",
       "  <line x1=\"65\" y1=\"55\" x2=\"65\" y2=\"105\" />\n",
       "  <line x1=\"69\" y1=\"59\" x2=\"69\" y2=\"109\" />\n",
       "  <line x1=\"73\" y1=\"63\" x2=\"73\" y2=\"112\" />\n",
       "  <line x1=\"76\" y1=\"66\" x2=\"76\" y2=\"116\" />\n",
       "  <line x1=\"80\" y1=\"70\" x2=\"80\" y2=\"120\" style=\"stroke-width:2\" />\n",
       "\n",
       "  <!-- Colored Rectangle -->\n",
       "  <polygon points=\"10.0,0.0 80.58823529411765,70.58823529411765 80.58823529411765,120.41102010424423 10.0,49.82278481012658\" style=\"fill:#8B4903A0;stroke-width:0\"/>\n",
       "\n",
       "  <!-- Horizontal lines -->\n",
       "  <line x1=\"10\" y1=\"0\" x2=\"68\" y2=\"0\" style=\"stroke-width:2\" />\n",
       "  <line x1=\"13\" y1=\"3\" x2=\"71\" y2=\"3\" />\n",
       "  <line x1=\"17\" y1=\"7\" x2=\"75\" y2=\"7\" />\n",
       "  <line x1=\"21\" y1=\"11\" x2=\"79\" y2=\"11\" />\n",
       "  <line x1=\"24\" y1=\"14\" x2=\"82\" y2=\"14\" />\n",
       "  <line x1=\"28\" y1=\"18\" x2=\"86\" y2=\"18\" />\n",
       "  <line x1=\"32\" y1=\"22\" x2=\"90\" y2=\"22\" />\n",
       "  <line x1=\"35\" y1=\"25\" x2=\"93\" y2=\"25\" />\n",
       "  <line x1=\"39\" y1=\"29\" x2=\"97\" y2=\"29\" />\n",
       "  <line x1=\"43\" y1=\"33\" x2=\"101\" y2=\"33\" />\n",
       "  <line x1=\"46\" y1=\"36\" x2=\"105\" y2=\"36\" />\n",
       "  <line x1=\"50\" y1=\"40\" x2=\"108\" y2=\"40\" />\n",
       "  <line x1=\"54\" y1=\"44\" x2=\"112\" y2=\"44\" />\n",
       "  <line x1=\"58\" y1=\"48\" x2=\"116\" y2=\"48\" />\n",
       "  <line x1=\"62\" y1=\"52\" x2=\"120\" y2=\"52\" />\n",
       "  <line x1=\"65\" y1=\"55\" x2=\"123\" y2=\"55\" />\n",
       "  <line x1=\"69\" y1=\"59\" x2=\"127\" y2=\"59\" />\n",
       "  <line x1=\"73\" y1=\"63\" x2=\"131\" y2=\"63\" />\n",
       "  <line x1=\"76\" y1=\"66\" x2=\"134\" y2=\"66\" />\n",
       "  <line x1=\"80\" y1=\"70\" x2=\"138\" y2=\"70\" style=\"stroke-width:2\" />\n",
       "\n",
       "  <!-- Vertical lines -->\n",
       "  <line x1=\"10\" y1=\"0\" x2=\"80\" y2=\"70\" style=\"stroke-width:2\" />\n",
       "  <line x1=\"68\" y1=\"0\" x2=\"138\" y2=\"70\" style=\"stroke-width:2\" />\n",
       "\n",
       "  <!-- Colored Rectangle -->\n",
       "  <polygon points=\"10.0,0.0 68.02531645569618,0.0 138.61355174981384,70.58823529411765 80.58823529411765,70.58823529411765\" style=\"fill:#8B4903A0;stroke-width:0\"/>\n",
       "\n",
       "  <!-- Horizontal lines -->\n",
       "  <line x1=\"80\" y1=\"70\" x2=\"138\" y2=\"70\" style=\"stroke-width:2\" />\n",
       "  <line x1=\"80\" y1=\"120\" x2=\"138\" y2=\"120\" style=\"stroke-width:2\" />\n",
       "\n",
       "  <!-- Vertical lines -->\n",
       "  <line x1=\"80\" y1=\"70\" x2=\"80\" y2=\"120\" style=\"stroke-width:2\" />\n",
       "  <line x1=\"138\" y1=\"70\" x2=\"138\" y2=\"120\" style=\"stroke-width:2\" />\n",
       "\n",
       "  <!-- Colored Rectangle -->\n",
       "  <polygon points=\"80.58823529411765,70.58823529411765 138.61355174981384,70.58823529411765 138.61355174981384,120.41102010424423 80.58823529411765,120.41102010424423\" style=\"fill:#ECB172A0;stroke-width:0\"/>\n",
       "\n",
       "  <!-- Text -->\n",
       "  <text x=\"109.600894\" y=\"140.411020\" font-size=\"1.0rem\" font-weight=\"100\" text-anchor=\"middle\" >191</text>\n",
       "  <text x=\"158.613552\" y=\"95.499628\" font-size=\"1.0rem\" font-weight=\"100\" text-anchor=\"middle\" transform=\"rotate(-90,158.613552,95.499628)\">164</text>\n",
       "  <text x=\"35.294118\" y=\"105.116902\" font-size=\"1.0rem\" font-weight=\"100\" text-anchor=\"middle\" transform=\"rotate(45,35.294118,105.116902)\">395</text>\n",
       "</svg>\n",
       "</td>\n",
       "</tr>\n",
       "</table></div></li></ul></div></li><li class='xr-section-item'><input id='section-cf507671-fe3e-4d6d-a2df-b9c0e9ad6a08' class='xr-section-summary-in' type='checkbox'  checked><label for='section-cf507671-fe3e-4d6d-a2df-b9c0e9ad6a08' class='xr-section-summary' >Attributes: <span>(2)</span></label><div class='xr-section-inline-details'></div><div class='xr-section-details'><dl class='xr-attrs'><dt><span>crs :</span></dt><dd>epsg:32753</dd><dt><span>grid_mapping :</span></dt><dd>spatial_ref</dd></dl></div></li></ul></div></div>"
      ],
      "text/plain": [
       "<xarray.Dataset>\n",
       "Dimensions:      (time: 395, y: 164, x: 191)\n",
       "Coordinates:\n",
       "  * time         (time) datetime64[ns] 2012-01-16T00:47:06.964591 ... 2022-07...\n",
       "  * y            (y) float64 8.229e+06 8.229e+06 ... 8.224e+06 8.224e+06\n",
       "  * x            (x) float64 7.398e+05 7.398e+05 ... 7.455e+05 7.455e+05\n",
       "    spatial_ref  int32 32753\n",
       "Data variables:\n",
       "    ndwi         (time, y, x) float32 dask.array<chunksize=(1, 164, 191), meta=np.ndarray>\n",
       "Attributes:\n",
       "    crs:           epsg:32753\n",
       "    grid_mapping:  spatial_ref"
      ]
     },
     "execution_count": 9,
     "metadata": {},
     "output_type": "execute_result"
    }
   ],
   "source": [
    "ds = load_data(dc=dc, \n",
    "               geom=geom, \n",
    "               time_range=('2012', '2022'), \n",
    "               resolution=30, \n",
    "               s2_prod=None,  #\"s2_nbart_ndwi\",\n",
    "               ls_prod=\"ls_nbart_ndwi\")[['ndwi']]\n",
    "ds"
   ]
  },
  {
   "cell_type": "code",
   "execution_count": 10,
   "id": "a0a2ea49-7555-49f7-8d99-b03b2c01892f",
   "metadata": {},
   "outputs": [
    {
     "data": {
      "text/html": [
       "<div><svg style=\"position: absolute; width: 0; height: 0; overflow: hidden\">\n",
       "<defs>\n",
       "<symbol id=\"icon-database\" viewBox=\"0 0 32 32\">\n",
       "<path d=\"M16 0c-8.837 0-16 2.239-16 5v4c0 2.761 7.163 5 16 5s16-2.239 16-5v-4c0-2.761-7.163-5-16-5z\"></path>\n",
       "<path d=\"M16 17c-8.837 0-16-2.239-16-5v6c0 2.761 7.163 5 16 5s16-2.239 16-5v-6c0 2.761-7.163 5-16 5z\"></path>\n",
       "<path d=\"M16 26c-8.837 0-16-2.239-16-5v6c0 2.761 7.163 5 16 5s16-2.239 16-5v-6c0 2.761-7.163 5-16 5z\"></path>\n",
       "</symbol>\n",
       "<symbol id=\"icon-file-text2\" viewBox=\"0 0 32 32\">\n",
       "<path d=\"M28.681 7.159c-0.694-0.947-1.662-2.053-2.724-3.116s-2.169-2.030-3.116-2.724c-1.612-1.182-2.393-1.319-2.841-1.319h-15.5c-1.378 0-2.5 1.121-2.5 2.5v27c0 1.378 1.122 2.5 2.5 2.5h23c1.378 0 2.5-1.122 2.5-2.5v-19.5c0-0.448-0.137-1.23-1.319-2.841zM24.543 5.457c0.959 0.959 1.712 1.825 2.268 2.543h-4.811v-4.811c0.718 0.556 1.584 1.309 2.543 2.268zM28 29.5c0 0.271-0.229 0.5-0.5 0.5h-23c-0.271 0-0.5-0.229-0.5-0.5v-27c0-0.271 0.229-0.5 0.5-0.5 0 0 15.499-0 15.5 0v7c0 0.552 0.448 1 1 1h7v19.5z\"></path>\n",
       "<path d=\"M23 26h-14c-0.552 0-1-0.448-1-1s0.448-1 1-1h14c0.552 0 1 0.448 1 1s-0.448 1-1 1z\"></path>\n",
       "<path d=\"M23 22h-14c-0.552 0-1-0.448-1-1s0.448-1 1-1h14c0.552 0 1 0.448 1 1s-0.448 1-1 1z\"></path>\n",
       "<path d=\"M23 18h-14c-0.552 0-1-0.448-1-1s0.448-1 1-1h14c0.552 0 1 0.448 1 1s-0.448 1-1 1z\"></path>\n",
       "</symbol>\n",
       "</defs>\n",
       "</svg>\n",
       "<style>/* CSS stylesheet for displaying xarray objects in jupyterlab.\n",
       " *\n",
       " */\n",
       "\n",
       ":root {\n",
       "  --xr-font-color0: var(--jp-content-font-color0, rgba(0, 0, 0, 1));\n",
       "  --xr-font-color2: var(--jp-content-font-color2, rgba(0, 0, 0, 0.54));\n",
       "  --xr-font-color3: var(--jp-content-font-color3, rgba(0, 0, 0, 0.38));\n",
       "  --xr-border-color: var(--jp-border-color2, #e0e0e0);\n",
       "  --xr-disabled-color: var(--jp-layout-color3, #bdbdbd);\n",
       "  --xr-background-color: var(--jp-layout-color0, white);\n",
       "  --xr-background-color-row-even: var(--jp-layout-color1, white);\n",
       "  --xr-background-color-row-odd: var(--jp-layout-color2, #eeeeee);\n",
       "}\n",
       "\n",
       "html[theme=dark],\n",
       "body.vscode-dark {\n",
       "  --xr-font-color0: rgba(255, 255, 255, 1);\n",
       "  --xr-font-color2: rgba(255, 255, 255, 0.54);\n",
       "  --xr-font-color3: rgba(255, 255, 255, 0.38);\n",
       "  --xr-border-color: #1F1F1F;\n",
       "  --xr-disabled-color: #515151;\n",
       "  --xr-background-color: #111111;\n",
       "  --xr-background-color-row-even: #111111;\n",
       "  --xr-background-color-row-odd: #313131;\n",
       "}\n",
       "\n",
       ".xr-wrap {\n",
       "  display: block !important;\n",
       "  min-width: 300px;\n",
       "  max-width: 700px;\n",
       "}\n",
       "\n",
       ".xr-text-repr-fallback {\n",
       "  /* fallback to plain text repr when CSS is not injected (untrusted notebook) */\n",
       "  display: none;\n",
       "}\n",
       "\n",
       ".xr-header {\n",
       "  padding-top: 6px;\n",
       "  padding-bottom: 6px;\n",
       "  margin-bottom: 4px;\n",
       "  border-bottom: solid 1px var(--xr-border-color);\n",
       "}\n",
       "\n",
       ".xr-header > div,\n",
       ".xr-header > ul {\n",
       "  display: inline;\n",
       "  margin-top: 0;\n",
       "  margin-bottom: 0;\n",
       "}\n",
       "\n",
       ".xr-obj-type,\n",
       ".xr-array-name {\n",
       "  margin-left: 2px;\n",
       "  margin-right: 10px;\n",
       "}\n",
       "\n",
       ".xr-obj-type {\n",
       "  color: var(--xr-font-color2);\n",
       "}\n",
       "\n",
       ".xr-sections {\n",
       "  padding-left: 0 !important;\n",
       "  display: grid;\n",
       "  grid-template-columns: 150px auto auto 1fr 20px 20px;\n",
       "}\n",
       "\n",
       ".xr-section-item {\n",
       "  display: contents;\n",
       "}\n",
       "\n",
       ".xr-section-item input {\n",
       "  display: none;\n",
       "}\n",
       "\n",
       ".xr-section-item input + label {\n",
       "  color: var(--xr-disabled-color);\n",
       "}\n",
       "\n",
       ".xr-section-item input:enabled + label {\n",
       "  cursor: pointer;\n",
       "  color: var(--xr-font-color2);\n",
       "}\n",
       "\n",
       ".xr-section-item input:enabled + label:hover {\n",
       "  color: var(--xr-font-color0);\n",
       "}\n",
       "\n",
       ".xr-section-summary {\n",
       "  grid-column: 1;\n",
       "  color: var(--xr-font-color2);\n",
       "  font-weight: 500;\n",
       "}\n",
       "\n",
       ".xr-section-summary > span {\n",
       "  display: inline-block;\n",
       "  padding-left: 0.5em;\n",
       "}\n",
       "\n",
       ".xr-section-summary-in:disabled + label {\n",
       "  color: var(--xr-font-color2);\n",
       "}\n",
       "\n",
       ".xr-section-summary-in + label:before {\n",
       "  display: inline-block;\n",
       "  content: '►';\n",
       "  font-size: 11px;\n",
       "  width: 15px;\n",
       "  text-align: center;\n",
       "}\n",
       "\n",
       ".xr-section-summary-in:disabled + label:before {\n",
       "  color: var(--xr-disabled-color);\n",
       "}\n",
       "\n",
       ".xr-section-summary-in:checked + label:before {\n",
       "  content: '▼';\n",
       "}\n",
       "\n",
       ".xr-section-summary-in:checked + label > span {\n",
       "  display: none;\n",
       "}\n",
       "\n",
       ".xr-section-summary,\n",
       ".xr-section-inline-details {\n",
       "  padding-top: 4px;\n",
       "  padding-bottom: 4px;\n",
       "}\n",
       "\n",
       ".xr-section-inline-details {\n",
       "  grid-column: 2 / -1;\n",
       "}\n",
       "\n",
       ".xr-section-details {\n",
       "  display: none;\n",
       "  grid-column: 1 / -1;\n",
       "  margin-bottom: 5px;\n",
       "}\n",
       "\n",
       ".xr-section-summary-in:checked ~ .xr-section-details {\n",
       "  display: contents;\n",
       "}\n",
       "\n",
       ".xr-array-wrap {\n",
       "  grid-column: 1 / -1;\n",
       "  display: grid;\n",
       "  grid-template-columns: 20px auto;\n",
       "}\n",
       "\n",
       ".xr-array-wrap > label {\n",
       "  grid-column: 1;\n",
       "  vertical-align: top;\n",
       "}\n",
       "\n",
       ".xr-preview {\n",
       "  color: var(--xr-font-color3);\n",
       "}\n",
       "\n",
       ".xr-array-preview,\n",
       ".xr-array-data {\n",
       "  padding: 0 5px !important;\n",
       "  grid-column: 2;\n",
       "}\n",
       "\n",
       ".xr-array-data,\n",
       ".xr-array-in:checked ~ .xr-array-preview {\n",
       "  display: none;\n",
       "}\n",
       "\n",
       ".xr-array-in:checked ~ .xr-array-data,\n",
       ".xr-array-preview {\n",
       "  display: inline-block;\n",
       "}\n",
       "\n",
       ".xr-dim-list {\n",
       "  display: inline-block !important;\n",
       "  list-style: none;\n",
       "  padding: 0 !important;\n",
       "  margin: 0;\n",
       "}\n",
       "\n",
       ".xr-dim-list li {\n",
       "  display: inline-block;\n",
       "  padding: 0;\n",
       "  margin: 0;\n",
       "}\n",
       "\n",
       ".xr-dim-list:before {\n",
       "  content: '(';\n",
       "}\n",
       "\n",
       ".xr-dim-list:after {\n",
       "  content: ')';\n",
       "}\n",
       "\n",
       ".xr-dim-list li:not(:last-child):after {\n",
       "  content: ',';\n",
       "  padding-right: 5px;\n",
       "}\n",
       "\n",
       ".xr-has-index {\n",
       "  font-weight: bold;\n",
       "}\n",
       "\n",
       ".xr-var-list,\n",
       ".xr-var-item {\n",
       "  display: contents;\n",
       "}\n",
       "\n",
       ".xr-var-item > div,\n",
       ".xr-var-item label,\n",
       ".xr-var-item > .xr-var-name span {\n",
       "  background-color: var(--xr-background-color-row-even);\n",
       "  margin-bottom: 0;\n",
       "}\n",
       "\n",
       ".xr-var-item > .xr-var-name:hover span {\n",
       "  padding-right: 5px;\n",
       "}\n",
       "\n",
       ".xr-var-list > li:nth-child(odd) > div,\n",
       ".xr-var-list > li:nth-child(odd) > label,\n",
       ".xr-var-list > li:nth-child(odd) > .xr-var-name span {\n",
       "  background-color: var(--xr-background-color-row-odd);\n",
       "}\n",
       "\n",
       ".xr-var-name {\n",
       "  grid-column: 1;\n",
       "}\n",
       "\n",
       ".xr-var-dims {\n",
       "  grid-column: 2;\n",
       "}\n",
       "\n",
       ".xr-var-dtype {\n",
       "  grid-column: 3;\n",
       "  text-align: right;\n",
       "  color: var(--xr-font-color2);\n",
       "}\n",
       "\n",
       ".xr-var-preview {\n",
       "  grid-column: 4;\n",
       "}\n",
       "\n",
       ".xr-var-name,\n",
       ".xr-var-dims,\n",
       ".xr-var-dtype,\n",
       ".xr-preview,\n",
       ".xr-attrs dt {\n",
       "  white-space: nowrap;\n",
       "  overflow: hidden;\n",
       "  text-overflow: ellipsis;\n",
       "  padding-right: 10px;\n",
       "}\n",
       "\n",
       ".xr-var-name:hover,\n",
       ".xr-var-dims:hover,\n",
       ".xr-var-dtype:hover,\n",
       ".xr-attrs dt:hover {\n",
       "  overflow: visible;\n",
       "  width: auto;\n",
       "  z-index: 1;\n",
       "}\n",
       "\n",
       ".xr-var-attrs,\n",
       ".xr-var-data {\n",
       "  display: none;\n",
       "  background-color: var(--xr-background-color) !important;\n",
       "  padding-bottom: 5px !important;\n",
       "}\n",
       "\n",
       ".xr-var-attrs-in:checked ~ .xr-var-attrs,\n",
       ".xr-var-data-in:checked ~ .xr-var-data {\n",
       "  display: block;\n",
       "}\n",
       "\n",
       ".xr-var-data > table {\n",
       "  float: right;\n",
       "}\n",
       "\n",
       ".xr-var-name span,\n",
       ".xr-var-data,\n",
       ".xr-attrs {\n",
       "  padding-left: 25px !important;\n",
       "}\n",
       "\n",
       ".xr-attrs,\n",
       ".xr-var-attrs,\n",
       ".xr-var-data {\n",
       "  grid-column: 1 / -1;\n",
       "}\n",
       "\n",
       "dl.xr-attrs {\n",
       "  padding: 0;\n",
       "  margin: 0;\n",
       "  display: grid;\n",
       "  grid-template-columns: 125px auto;\n",
       "}\n",
       "\n",
       ".xr-attrs dt,\n",
       ".xr-attrs dd {\n",
       "  padding: 0;\n",
       "  margin: 0;\n",
       "  float: left;\n",
       "  padding-right: 10px;\n",
       "  width: auto;\n",
       "}\n",
       "\n",
       ".xr-attrs dt {\n",
       "  font-weight: normal;\n",
       "  grid-column: 1;\n",
       "}\n",
       "\n",
       ".xr-attrs dt:hover span {\n",
       "  display: inline-block;\n",
       "  background: var(--xr-background-color);\n",
       "  padding-right: 10px;\n",
       "}\n",
       "\n",
       ".xr-attrs dd {\n",
       "  grid-column: 2;\n",
       "  white-space: pre-wrap;\n",
       "  word-break: break-all;\n",
       "}\n",
       "\n",
       ".xr-icon-database,\n",
       ".xr-icon-file-text2 {\n",
       "  display: inline-block;\n",
       "  vertical-align: middle;\n",
       "  width: 1em;\n",
       "  height: 1.5em !important;\n",
       "  stroke-width: 0;\n",
       "  stroke: currentColor;\n",
       "  fill: currentColor;\n",
       "}\n",
       "</style><pre class='xr-text-repr-fallback'>&lt;xarray.Dataset&gt;\n",
       "Dimensions:      (time: 395, y: 164, x: 191)\n",
       "Coordinates:\n",
       "  * time         (time) datetime64[ns] 2012-01-16T00:47:06.964591 ... 2022-07...\n",
       "  * y            (y) float64 8.229e+06 8.229e+06 ... 8.224e+06 8.224e+06\n",
       "  * x            (x) float64 7.398e+05 7.398e+05 ... 7.455e+05 7.455e+05\n",
       "    spatial_ref  int32 32753\n",
       "Data variables:\n",
       "    ndwi         (time, y, x) float32 0.4439 0.4356 0.47 ... 0.7884 0.7863\n",
       "Attributes:\n",
       "    crs:           epsg:32753\n",
       "    grid_mapping:  spatial_ref</pre><div class='xr-wrap' style='display:none'><div class='xr-header'><div class='xr-obj-type'>xarray.Dataset</div></div><ul class='xr-sections'><li class='xr-section-item'><input id='section-767eaea5-2144-4b2d-82d1-358b80fa2b09' class='xr-section-summary-in' type='checkbox' disabled ><label for='section-767eaea5-2144-4b2d-82d1-358b80fa2b09' class='xr-section-summary'  title='Expand/collapse section'>Dimensions:</label><div class='xr-section-inline-details'><ul class='xr-dim-list'><li><span class='xr-has-index'>time</span>: 395</li><li><span class='xr-has-index'>y</span>: 164</li><li><span class='xr-has-index'>x</span>: 191</li></ul></div><div class='xr-section-details'></div></li><li class='xr-section-item'><input id='section-21ed7140-fc0c-4589-a927-5cad8dc8a475' class='xr-section-summary-in' type='checkbox'  checked><label for='section-21ed7140-fc0c-4589-a927-5cad8dc8a475' class='xr-section-summary' >Coordinates: <span>(4)</span></label><div class='xr-section-inline-details'></div><div class='xr-section-details'><ul class='xr-var-list'><li class='xr-var-item'><div class='xr-var-name'><span class='xr-has-index'>time</span></div><div class='xr-var-dims'>(time)</div><div class='xr-var-dtype'>datetime64[ns]</div><div class='xr-var-preview xr-preview'>2012-01-16T00:47:06.964591 ... 2...</div><input id='attrs-d85a7a42-5bf8-4d14-adf5-ac16747f361c' class='xr-var-attrs-in' type='checkbox' disabled><label for='attrs-d85a7a42-5bf8-4d14-adf5-ac16747f361c' title='Show/Hide attributes'><svg class='icon xr-icon-file-text2'><use xlink:href='#icon-file-text2'></use></svg></label><input id='data-de3f620b-e422-4fcc-a133-4d721f128513' class='xr-var-data-in' type='checkbox'><label for='data-de3f620b-e422-4fcc-a133-4d721f128513' title='Show/Hide data repr'><svg class='icon xr-icon-database'><use xlink:href='#icon-database'></use></svg></label><div class='xr-var-attrs'><dl class='xr-attrs'></dl></div><div class='xr-var-data'><pre>array([&#x27;2012-01-16T00:47:06.964591000&#x27;, &#x27;2012-02-17T00:47:13.650351000&#x27;,\n",
       "       &#x27;2012-03-20T00:47:13.127156000&#x27;, ..., &#x27;2022-05-27T00:53:00.946355000&#x27;,\n",
       "       &#x27;2022-06-12T00:53:13.966094000&#x27;, &#x27;2022-07-14T00:53:18.818486000&#x27;],\n",
       "      dtype=&#x27;datetime64[ns]&#x27;)</pre></div></li><li class='xr-var-item'><div class='xr-var-name'><span class='xr-has-index'>y</span></div><div class='xr-var-dims'>(y)</div><div class='xr-var-dtype'>float64</div><div class='xr-var-preview xr-preview'>8.229e+06 8.229e+06 ... 8.224e+06</div><input id='attrs-927add31-beab-4811-bdc0-bd258d01f830' class='xr-var-attrs-in' type='checkbox' ><label for='attrs-927add31-beab-4811-bdc0-bd258d01f830' title='Show/Hide attributes'><svg class='icon xr-icon-file-text2'><use xlink:href='#icon-file-text2'></use></svg></label><input id='data-9dd7a055-0135-4f99-b698-6fa5385b197e' class='xr-var-data-in' type='checkbox'><label for='data-9dd7a055-0135-4f99-b698-6fa5385b197e' title='Show/Hide data repr'><svg class='icon xr-icon-database'><use xlink:href='#icon-database'></use></svg></label><div class='xr-var-attrs'><dl class='xr-attrs'><dt><span>units :</span></dt><dd>metre</dd><dt><span>resolution :</span></dt><dd>-30.0</dd><dt><span>crs :</span></dt><dd>epsg:32753</dd></dl></div><div class='xr-var-data'><pre>array([8229045., 8229015., 8228985., 8228955., 8228925., 8228895., 8228865.,\n",
       "       8228835., 8228805., 8228775., 8228745., 8228715., 8228685., 8228655.,\n",
       "       8228625., 8228595., 8228565., 8228535., 8228505., 8228475., 8228445.,\n",
       "       8228415., 8228385., 8228355., 8228325., 8228295., 8228265., 8228235.,\n",
       "       8228205., 8228175., 8228145., 8228115., 8228085., 8228055., 8228025.,\n",
       "       8227995., 8227965., 8227935., 8227905., 8227875., 8227845., 8227815.,\n",
       "       8227785., 8227755., 8227725., 8227695., 8227665., 8227635., 8227605.,\n",
       "       8227575., 8227545., 8227515., 8227485., 8227455., 8227425., 8227395.,\n",
       "       8227365., 8227335., 8227305., 8227275., 8227245., 8227215., 8227185.,\n",
       "       8227155., 8227125., 8227095., 8227065., 8227035., 8227005., 8226975.,\n",
       "       8226945., 8226915., 8226885., 8226855., 8226825., 8226795., 8226765.,\n",
       "       8226735., 8226705., 8226675., 8226645., 8226615., 8226585., 8226555.,\n",
       "       8226525., 8226495., 8226465., 8226435., 8226405., 8226375., 8226345.,\n",
       "       8226315., 8226285., 8226255., 8226225., 8226195., 8226165., 8226135.,\n",
       "       8226105., 8226075., 8226045., 8226015., 8225985., 8225955., 8225925.,\n",
       "       8225895., 8225865., 8225835., 8225805., 8225775., 8225745., 8225715.,\n",
       "       8225685., 8225655., 8225625., 8225595., 8225565., 8225535., 8225505.,\n",
       "       8225475., 8225445., 8225415., 8225385., 8225355., 8225325., 8225295.,\n",
       "       8225265., 8225235., 8225205., 8225175., 8225145., 8225115., 8225085.,\n",
       "       8225055., 8225025., 8224995., 8224965., 8224935., 8224905., 8224875.,\n",
       "       8224845., 8224815., 8224785., 8224755., 8224725., 8224695., 8224665.,\n",
       "       8224635., 8224605., 8224575., 8224545., 8224515., 8224485., 8224455.,\n",
       "       8224425., 8224395., 8224365., 8224335., 8224305., 8224275., 8224245.,\n",
       "       8224215., 8224185., 8224155.])</pre></div></li><li class='xr-var-item'><div class='xr-var-name'><span class='xr-has-index'>x</span></div><div class='xr-var-dims'>(x)</div><div class='xr-var-dtype'>float64</div><div class='xr-var-preview xr-preview'>7.398e+05 7.398e+05 ... 7.455e+05</div><input id='attrs-9f624f13-9002-47bd-906f-1ae038a9d517' class='xr-var-attrs-in' type='checkbox' ><label for='attrs-9f624f13-9002-47bd-906f-1ae038a9d517' title='Show/Hide attributes'><svg class='icon xr-icon-file-text2'><use xlink:href='#icon-file-text2'></use></svg></label><input id='data-d2d0e615-a2c9-479c-ba30-25853ba1711a' class='xr-var-data-in' type='checkbox'><label for='data-d2d0e615-a2c9-479c-ba30-25853ba1711a' title='Show/Hide data repr'><svg class='icon xr-icon-database'><use xlink:href='#icon-database'></use></svg></label><div class='xr-var-attrs'><dl class='xr-attrs'><dt><span>units :</span></dt><dd>metre</dd><dt><span>resolution :</span></dt><dd>30.0</dd><dt><span>crs :</span></dt><dd>epsg:32753</dd></dl></div><div class='xr-var-data'><pre>array([739785., 739815., 739845., 739875., 739905., 739935., 739965., 739995.,\n",
       "       740025., 740055., 740085., 740115., 740145., 740175., 740205., 740235.,\n",
       "       740265., 740295., 740325., 740355., 740385., 740415., 740445., 740475.,\n",
       "       740505., 740535., 740565., 740595., 740625., 740655., 740685., 740715.,\n",
       "       740745., 740775., 740805., 740835., 740865., 740895., 740925., 740955.,\n",
       "       740985., 741015., 741045., 741075., 741105., 741135., 741165., 741195.,\n",
       "       741225., 741255., 741285., 741315., 741345., 741375., 741405., 741435.,\n",
       "       741465., 741495., 741525., 741555., 741585., 741615., 741645., 741675.,\n",
       "       741705., 741735., 741765., 741795., 741825., 741855., 741885., 741915.,\n",
       "       741945., 741975., 742005., 742035., 742065., 742095., 742125., 742155.,\n",
       "       742185., 742215., 742245., 742275., 742305., 742335., 742365., 742395.,\n",
       "       742425., 742455., 742485., 742515., 742545., 742575., 742605., 742635.,\n",
       "       742665., 742695., 742725., 742755., 742785., 742815., 742845., 742875.,\n",
       "       742905., 742935., 742965., 742995., 743025., 743055., 743085., 743115.,\n",
       "       743145., 743175., 743205., 743235., 743265., 743295., 743325., 743355.,\n",
       "       743385., 743415., 743445., 743475., 743505., 743535., 743565., 743595.,\n",
       "       743625., 743655., 743685., 743715., 743745., 743775., 743805., 743835.,\n",
       "       743865., 743895., 743925., 743955., 743985., 744015., 744045., 744075.,\n",
       "       744105., 744135., 744165., 744195., 744225., 744255., 744285., 744315.,\n",
       "       744345., 744375., 744405., 744435., 744465., 744495., 744525., 744555.,\n",
       "       744585., 744615., 744645., 744675., 744705., 744735., 744765., 744795.,\n",
       "       744825., 744855., 744885., 744915., 744945., 744975., 745005., 745035.,\n",
       "       745065., 745095., 745125., 745155., 745185., 745215., 745245., 745275.,\n",
       "       745305., 745335., 745365., 745395., 745425., 745455., 745485.])</pre></div></li><li class='xr-var-item'><div class='xr-var-name'><span>spatial_ref</span></div><div class='xr-var-dims'>()</div><div class='xr-var-dtype'>int32</div><div class='xr-var-preview xr-preview'>32753</div><input id='attrs-2775e4cc-3102-4a63-984b-fffc3994ce39' class='xr-var-attrs-in' type='checkbox' ><label for='attrs-2775e4cc-3102-4a63-984b-fffc3994ce39' title='Show/Hide attributes'><svg class='icon xr-icon-file-text2'><use xlink:href='#icon-file-text2'></use></svg></label><input id='data-bbdbe2e2-ad12-467d-a362-4fb763c24889' class='xr-var-data-in' type='checkbox'><label for='data-bbdbe2e2-ad12-467d-a362-4fb763c24889' title='Show/Hide data repr'><svg class='icon xr-icon-database'><use xlink:href='#icon-database'></use></svg></label><div class='xr-var-attrs'><dl class='xr-attrs'><dt><span>spatial_ref :</span></dt><dd>PROJCS[&quot;WGS 84 / UTM zone 53S&quot;,GEOGCS[&quot;WGS 84&quot;,DATUM[&quot;WGS_1984&quot;,SPHEROID[&quot;WGS 84&quot;,6378137,298.257223563,AUTHORITY[&quot;EPSG&quot;,&quot;7030&quot;]],AUTHORITY[&quot;EPSG&quot;,&quot;6326&quot;]],PRIMEM[&quot;Greenwich&quot;,0,AUTHORITY[&quot;EPSG&quot;,&quot;8901&quot;]],UNIT[&quot;degree&quot;,0.0174532925199433,AUTHORITY[&quot;EPSG&quot;,&quot;9122&quot;]],AUTHORITY[&quot;EPSG&quot;,&quot;4326&quot;]],PROJECTION[&quot;Transverse_Mercator&quot;],PARAMETER[&quot;latitude_of_origin&quot;,0],PARAMETER[&quot;central_meridian&quot;,135],PARAMETER[&quot;scale_factor&quot;,0.9996],PARAMETER[&quot;false_easting&quot;,500000],PARAMETER[&quot;false_northing&quot;,10000000],UNIT[&quot;metre&quot;,1,AUTHORITY[&quot;EPSG&quot;,&quot;9001&quot;]],AXIS[&quot;Easting&quot;,EAST],AXIS[&quot;Northing&quot;,NORTH],AUTHORITY[&quot;EPSG&quot;,&quot;32753&quot;]]</dd><dt><span>grid_mapping_name :</span></dt><dd>transverse_mercator</dd></dl></div><div class='xr-var-data'><pre>array(32753, dtype=int32)</pre></div></li></ul></div></li><li class='xr-section-item'><input id='section-a7b3e5e5-b01b-4e64-984e-19e9402f472b' class='xr-section-summary-in' type='checkbox'  checked><label for='section-a7b3e5e5-b01b-4e64-984e-19e9402f472b' class='xr-section-summary' >Data variables: <span>(1)</span></label><div class='xr-section-inline-details'></div><div class='xr-section-details'><ul class='xr-var-list'><li class='xr-var-item'><div class='xr-var-name'><span>ndwi</span></div><div class='xr-var-dims'>(time, y, x)</div><div class='xr-var-dtype'>float32</div><div class='xr-var-preview xr-preview'>0.4439 0.4356 ... 0.7884 0.7863</div><input id='attrs-8543b9fc-80ad-4e2d-9fa8-dbdddd694026' class='xr-var-attrs-in' type='checkbox' ><label for='attrs-8543b9fc-80ad-4e2d-9fa8-dbdddd694026' title='Show/Hide attributes'><svg class='icon xr-icon-file-text2'><use xlink:href='#icon-file-text2'></use></svg></label><input id='data-cded8953-93c1-497c-a014-ffad701a4100' class='xr-var-data-in' type='checkbox'><label for='data-cded8953-93c1-497c-a014-ffad701a4100' title='Show/Hide data repr'><svg class='icon xr-icon-database'><use xlink:href='#icon-database'></use></svg></label><div class='xr-var-attrs'><dl class='xr-attrs'><dt><span>crs :</span></dt><dd>epsg:32753</dd><dt><span>units :</span></dt><dd>1</dd><dt><span>nodata :</span></dt><dd>nan</dd></dl></div><div class='xr-var-data'><pre>array([[[ 0.44394034,  0.4356307 ,  0.4700272 , ...,  0.57614684,\n",
       "          0.57222223,  0.5745856 ],\n",
       "        [ 0.43861893,  0.43963253,  0.4392646 , ...,  0.5670103 ,\n",
       "          0.5616698 ,  0.5670103 ],\n",
       "        [ 0.3844205 ,  0.3976982 ,  0.4142948 , ...,  0.5608365 ,\n",
       "          0.56      ,  0.5694315 ],\n",
       "        ...,\n",
       "        [-0.5908059 , -0.5865675 , -0.5971263 , ...,  0.5889146 ,\n",
       "          0.59183675,  0.61882716],\n",
       "        [-0.5847119 , -0.56899303, -0.5942029 , ...,  0.61616164,\n",
       "          0.5954887 ,  0.577548  ],\n",
       "        [-0.57356876, -0.5548087 , -0.58580506, ...,  0.61838007,\n",
       "          0.61205566,  0.6119175 ]],\n",
       "\n",
       "       [[ 0.5093945 ,  0.50526315,  0.504722  , ...,  0.38879457,\n",
       "          0.32119206,  0.37716264],\n",
       "        [ 0.47476828,  0.4601488 ,  0.5005359 , ...,  0.39464882,\n",
       "          0.37649065,  0.39261746],\n",
       "        [ 0.49896905,  0.45629   ,  0.46398303, ...,  0.34318554,\n",
       "          0.4026403 ,  0.4520548 ],\n",
       "...\n",
       "        [        nan,         nan,         nan, ...,         nan,\n",
       "                 nan,         nan],\n",
       "        [        nan,         nan,         nan, ...,         nan,\n",
       "                 nan,         nan],\n",
       "        [        nan,         nan,         nan, ...,         nan,\n",
       "                 nan,         nan]],\n",
       "\n",
       "       [[ 0.7652099 ,  0.7652099 ,  0.76530606, ...,  0.80107117,\n",
       "          0.7915408 ,  0.7965336 ],\n",
       "        [ 0.75870854,  0.76621157,  0.7682404 , ...,  0.75770617,\n",
       "          0.7510608 ,  0.79336345],\n",
       "        [ 0.75737154,  0.757167  ,  0.7597292 , ...,  0.7691746 ,\n",
       "          0.77075684,  0.7878104 ],\n",
       "        ...,\n",
       "        [-0.48324645, -0.4646244 , -0.48410946, ...,  0.7633588 ,\n",
       "          0.77777773,  0.78365755],\n",
       "        [-0.47954053, -0.44189385, -0.46962968, ...,  0.7586728 ,\n",
       "          0.7698841 ,  0.78369904],\n",
       "        [-0.45628998, -0.40944883, -0.47598252, ...,  0.789639  ,\n",
       "          0.78840125,  0.7863315 ]]], dtype=float32)</pre></div></li></ul></div></li><li class='xr-section-item'><input id='section-d87afa87-4009-4c07-87a6-df145eae29ca' class='xr-section-summary-in' type='checkbox'  checked><label for='section-d87afa87-4009-4c07-87a6-df145eae29ca' class='xr-section-summary' >Attributes: <span>(2)</span></label><div class='xr-section-inline-details'></div><div class='xr-section-details'><dl class='xr-attrs'><dt><span>crs :</span></dt><dd>epsg:32753</dd><dt><span>grid_mapping :</span></dt><dd>spatial_ref</dd></dl></div></li></ul></div></div>"
      ],
      "text/plain": [
       "<xarray.Dataset>\n",
       "Dimensions:      (time: 395, y: 164, x: 191)\n",
       "Coordinates:\n",
       "  * time         (time) datetime64[ns] 2012-01-16T00:47:06.964591 ... 2022-07...\n",
       "  * y            (y) float64 8.229e+06 8.229e+06 ... 8.224e+06 8.224e+06\n",
       "  * x            (x) float64 7.398e+05 7.398e+05 ... 7.455e+05 7.455e+05\n",
       "    spatial_ref  int32 32753\n",
       "Data variables:\n",
       "    ndwi         (time, y, x) float32 0.4439 0.4356 0.47 ... 0.7884 0.7863\n",
       "Attributes:\n",
       "    crs:           epsg:32753\n",
       "    grid_mapping:  spatial_ref"
      ]
     },
     "execution_count": 10,
     "metadata": {},
     "output_type": "execute_result"
    }
   ],
   "source": [
    "# Load into memory\n",
    "ds.load()"
   ]
  },
  {
   "cell_type": "markdown",
   "id": "c34949eb-96f1-4844-ad6e-aeb71399e9f5",
   "metadata": {},
   "source": [
    "## Pixel-based tides"
   ]
  },
  {
   "cell_type": "code",
   "execution_count": 11,
   "id": "9f4c6369-6c90-4d32-a6b1-bbdab6a616f4",
   "metadata": {},
   "outputs": [
    {
     "name": "stdout",
     "output_type": "stream",
     "text": [
      "Creating reduced resolution tide modelling array\n",
      "Modelling tides using FES2014 tide model\n",
      "Reprojecting tides into original array\n"
     ]
    },
    {
     "name": "stderr",
     "output_type": "stream",
     "text": [
      "100%|██████████| 395/395 [00:00<00:00, 791.41it/s]\n"
     ]
    }
   ],
   "source": [
    "# Model tides into every pixel in the dataset, and set tide pixels to nodata\n",
    "# TODO: Work out why this works if `_reproject` is defined here, but fails if\n",
    "# `_reproject` is defined in script\n",
    "def _reproject(x, to_geobox=ds.odc.geobox):\n",
    "    return x.odc.reproject(to_geobox, resampling=\"cubic\")\n",
    "\n",
    "ds[\"tide_m\"], _ = pixel_tides(ds, resample_func=_reproject, directory='~/tide_models_clipped')\n",
    "\n",
    "# Set tide pixels to nodata\n",
    "ds[\"tide_m\"] = ds[\"tide_m\"].where(~ds.to_array().isel(variable=0).isnull())"
   ]
  },
  {
   "cell_type": "code",
   "execution_count": null,
   "id": "bef832e9-d45e-4a84-8868-845a8a8c575b",
   "metadata": {},
   "outputs": [],
   "source": [
    "# # Optionally apply ABSMLP tide correction\n",
    "# ds = abslmp_correction(ds)"
   ]
  },
  {
   "cell_type": "markdown",
   "id": "dd64f5a2-ba02-429e-aaa5-ea9c4eab39d9",
   "metadata": {},
   "source": [
    "## ITEM/NIDEM method"
   ]
  },
  {
   "cell_type": "code",
   "execution_count": null,
   "id": "7bf4539c-dc4f-4e07-8771-747268d28220",
   "metadata": {},
   "outputs": [],
   "source": [
    "# intervals=10\n",
    "\n",
    "# # Add tide height dimension\n",
    "# ds_item = ds.copy()\n",
    "# ds_item['tide_height'] = ds_item.tide_m.mean(dim=['x', 'y'])\n",
    "# ds_item = ds_item.swap_dims({\"time\": \"tide_height\"}).drop(\"time\")"
   ]
  },
  {
   "cell_type": "code",
   "execution_count": null,
   "id": "d4cf9ec3-99f5-44b9-aa06-0e7173344cab",
   "metadata": {},
   "outputs": [],
   "source": [
    "# # Calculate intertidal extents\n",
    "# ds_item.persist()\n",
    "# item_da, ds_intervals, ds_confidence = item(ds_item, tide_dim='tide_height', intervals=intervals)\n",
    "# item_da.plot.imshow(cmap='RdYlBu_r', size=6)"
   ]
  },
  {
   "cell_type": "code",
   "execution_count": null,
   "id": "4820fb0d-cb79-454e-979e-6c9fea52e53b",
   "metadata": {},
   "outputs": [],
   "source": [
    "# # Convert ITEM to NIDEM elevations\n",
    "# intertidal_dem_clean = nidem(item_da, ds_intervals, intervals)\n",
    "# intertidal_dem_clean.plot.imshow(cmap='viridis', size=6)"
   ]
  },
  {
   "cell_type": "code",
   "execution_count": null,
   "id": "78bd83d6-9321-4cd4-84a3-d8d0387e36f7",
   "metadata": {},
   "outputs": [],
   "source": [
    "# # fname = 'testing'\n",
    "# fname = aoi.lower().replace(\" \", \"\")\n",
    "\n",
    "# # Export as a GeoTIFF\n",
    "# intertidal_dem_clean.odc.write_cog(\n",
    "#     fname=f\"data/interim/nidem_dem_{fname}.tif\", overwrite=True\n",
    "# )\n",
    "# ds_confidence.ndwi.odc.write_cog(\n",
    "#     fname=f\"data/interim/nidem_confidence_{fname}.tif\", overwrite=True\n",
    "# )"
   ]
  },
  {
   "cell_type": "markdown",
   "id": "e9c634b5-4195-4cee-9c34-84792debae03",
   "metadata": {},
   "source": [
    "## Pixel-based"
   ]
  },
  {
   "cell_type": "markdown",
   "id": "d197a187-6a74-4588-95ea-678a576a269b",
   "metadata": {},
   "source": [
    "### Flatten array"
   ]
  },
  {
   "cell_type": "code",
   "execution_count": 13,
   "id": "d1a33f87-81f2-48a1-a6c1-ad6095ec1093",
   "metadata": {},
   "outputs": [
    {
     "name": "stdout",
     "output_type": "stream",
     "text": [
      "Reducing analysed pixels from 31324 to 2907 (9.28%)\n"
     ]
    }
   ],
   "source": [
    "# Flatten array to only pixels with positive correlations between water \n",
    "# observations and tide height. This greatly improves processing time by \n",
    "# ensuring only a narrow strip of pixels along the coastline are analysed,\n",
    "# rather than the entire x * y array\n",
    "ds_flat, freq, good_mask = ds_to_flat(\n",
    "    ds, ndwi_thresh=0.0, min_freq=0.01, max_freq=0.99, min_correlation=0.25\n",
    ")  # .sel(time=slice('2019', '2019'))"
   ]
  },
  {
   "cell_type": "markdown",
   "id": "9e57e810-d4eb-4875-bf1a-aec1487acbf1",
   "metadata": {},
   "source": [
    "### Test pixel-wise rolling median"
   ]
  },
  {
   "cell_type": "code",
   "execution_count": 14,
   "id": "5cfd07e9-5589-409f-8324-44c5cc9867a4",
   "metadata": {
    "tags": []
   },
   "outputs": [],
   "source": [
    "# Calculate tide min, max, range\n",
    "tide_max = ds_flat.tide_m.max(dim='time')\n",
    "tide_min = ds_flat.tide_m.min(dim='time')\n",
    "tide_range = tide_max - tide_min\n",
    "\n",
    "# Choose number of rolling window intervals and window radius\n",
    "window_interval_n = 100  # number of window intervals to iterate over\n",
    "window_tide_prop = 0.15  #  0.15  # proportion of the tide range to use as window radius\n",
    "window_tide = tide_range * window_tide_prop  # window radius in tide/metre units\n",
    "window_interval_tide = tide_range / window_interval_n  # interval size in time/metre units\n",
    "window_interval_buffer = int((window_interval_n * window_tide_prop) / 2.0)\n"
   ]
  },
  {
   "cell_type": "code",
   "execution_count": 15,
   "id": "d241960f-73b1-41d7-8db7-fb2d2aaf5672",
   "metadata": {},
   "outputs": [
    {
     "name": "stderr",
     "output_type": "stream",
     "text": [
      "100%|██████████| 114/114 [00:00<00:00, 414.17it/s]\n"
     ]
    }
   ],
   "source": [
    "from concurrent.futures import ProcessPoolExecutor\n",
    "from tqdm import tqdm\n",
    "from odc.algo import xr_quantile\n",
    "\n",
    "# # Experiment with removing bottom right quadrant\n",
    "# mean_tide = ds_flat.tide_m.mean(dim='time')\n",
    "# mean_ndwi = ds_flat.ndwi.mean(dim='time')\n",
    "# lr = ((ds_flat.ndwi < mean_ndwi) & (ds_flat.tide_m > mean_tide))\n",
    "\n",
    "# # Experiment with boolean/dry wet array\n",
    "# ds_bool = ds_flat.copy()\n",
    "# ds_bool['ndwi'] = (ds_flat.ndwi > 0.0).where(~ds_flat.ndwi.isnull())\n",
    "\n",
    "\n",
    "def rolling_tide_window(\n",
    "    i,\n",
    "    ds=ds_flat,\n",
    "    interval_tide=window_interval_tide,\n",
    "    interval_window=window_tide,\n",
    "    statistic='median',\n",
    "#     lr=lr\n",
    "):\n",
    "\n",
    "    # Set min and max thresholds to filter dataset\n",
    "    thresh_centre = tide_min + (i * interval_tide)\n",
    "    thresh_min = thresh_centre - interval_window\n",
    "    thresh_max = thresh_centre + interval_window\n",
    "\n",
    "    # Filter dataset\n",
    "    masked_ds = ds.where((ds.tide_m >= thresh_min) & (ds.tide_m <= thresh_max))  # & ~lr)\n",
    "\n",
    "    # Apply median or quantile\n",
    "    if statistic == 'quantile':\n",
    "        ds_agg = xr_quantile(src=masked_ds, quantiles=[0.1, 0.5, 0.9], nodata=np.nan)\n",
    "    elif statistic == 'median':\n",
    "        ds_agg = masked_ds.median(dim=\"time\").expand_dims(quantile=[0.5])\n",
    "    elif statistic == 'mean':\n",
    "        ds_agg = masked_ds.mean(dim=\"time\").expand_dims(quantile=[0.5])\n",
    "\n",
    "    # Add standard deviation\n",
    "    ds_agg[\"ndwi_std\"] = masked_ds.ndwi.std(dim=\"time\")\n",
    "    ds_agg[\"ndwi_count\"] = (~masked_ds.ndwi.isnull()).sum(dim=\"time\")\n",
    "\n",
    "    return ds_agg\n",
    "\n",
    "\n",
    "with ProcessPoolExecutor(max_workers=64) as executor:\n",
    "\n",
    "    # Apply func in parallel\n",
    "    rolling_intervals = range(\n",
    "        -window_interval_buffer, window_interval_n + window_interval_buffer\n",
    "    )\n",
    "    out_list = list(\n",
    "        tqdm(\n",
    "            executor.map(rolling_tide_window, rolling_intervals),\n",
    "            total=len(list(rolling_intervals)),\n",
    "        )\n",
    "    )\n",
    "\n",
    "# Combine to match the original dataset\n",
    "interval_ds = xr.concat(out_list, dim=\"interval\").sortby([\"interval\", \"x\", \"y\"])"
   ]
  },
  {
   "cell_type": "code",
   "execution_count": 16,
   "id": "cec14155-eeb5-4a78-a30f-54b329e6e7e2",
   "metadata": {},
   "outputs": [
    {
     "name": "stdout",
     "output_type": "stream",
     "text": [
      "Processing quantile 0.5\n"
     ]
    },
    {
     "data": {
      "text/plain": [
       "PosixPath('data/interim/pixel_testing_confidence.tif')"
      ]
     },
     "execution_count": 16,
     "metadata": {},
     "output_type": "execute_result"
    }
   ],
   "source": [
    "# Output name\n",
    "fname = \"testing\"\n",
    "ndwi_thresh = 0.1\n",
    "# fname = aoi.lower().replace(' ', '')\n",
    "\n",
    "# Calculate confidence (mean of NDWI standard deviation)\n",
    "confidence = interval_ds.ndwi_std.mean(dim=\"interval\").unstack(\"z\").reindex_like(ds).T\n",
    "\n",
    "# Export DEM for each quantile\n",
    "for q in interval_ds[\"quantile\"].data:\n",
    "\n",
    "    # Extract relevant quantile data\n",
    "    print(f\"Processing quantile {q}\")\n",
    "    quantile_ds = interval_ds.sel(quantile=q).copy()\n",
    "\n",
    "    # Smooth\n",
    "    quantile_ds = quantile_ds.rolling(interval=20, center=False, min_periods=1).mean()\n",
    "\n",
    "    # Identify the max tide per pixel where NDWI == land\n",
    "    tide_dry = quantile_ds.tide_m.where(\n",
    "        quantile_ds.ndwi <= ndwi_thresh\n",
    "    )\n",
    "    tide_thresh = tide_dry.max(dim=\"interval\")\n",
    "    tide_max = quantile_ds.tide_m.max(dim=\"interval\")\n",
    "\n",
    "    # Remove any pixel where tides max out (i.e. always land), and unstack back\n",
    "    # to 3D array\n",
    "    always_dry = tide_thresh >= tide_max\n",
    "    dem = tide_thresh.where(~always_dry)\n",
    "    dem = dem.unstack(\"z\").reindex_like(ds).transpose('y', 'x')\n",
    "\n",
    "    # Export DEM file\n",
    "    suffix = {0.1: \"dem_high\", 0.5: \"dem\", 0.9: \"dem_low\"}[q]\n",
    "    dem.odc.write_cog(\n",
    "        fname=f\"data/interim/pixel_{fname}_{suffix}.tif\", overwrite=True\n",
    "    )\n",
    "\n",
    "# Export NDWI standard deviation/confidence file\n",
    "confidence.odc.write_cog(\n",
    "    fname=f\"data/interim/pixel_{fname}_confidence.tif\", overwrite=True\n",
    ")"
   ]
  },
  {
   "cell_type": "markdown",
   "id": "657dd4bd-78c3-45a6-aedf-359b79c12cc2",
   "metadata": {},
   "source": [
    "## Experimental: Create extents layer"
   ]
  },
  {
   "cell_type": "code",
   "execution_count": null,
   "id": "4b7185ec-b0c1-4a3d-ac4a-3d0642fecfc9",
   "metadata": {},
   "outputs": [],
   "source": [
    "# Calculate percent of astronomical tide range for each intertidal pixel\n",
    "astro_tides, _ = pixel_tides(\n",
    "    ds,\n",
    "    times=pd.date_range(start=\"2000\", end=\"2021\", freq=\"5H\"),\n",
    "    calculate_quantiles=[0.0, 1.0],\n",
    "    resample_func=_reproject,\n",
    "    directory='~/tide_models_clipped'\n",
    ")\n",
    "astro_tide_min, astro_tide_max = astro_tides.groupby(\"quantile\")\n",
    "astro_tide_min, astro_tide_max = astro_tide_min[1], astro_tide_max[1]\n",
    "tide_perc_da = ((dem - astro_tide_min) * 100) / (astro_tide_max - astro_tide_min)\n",
    "\n",
    "# Identify pixels that were always wet or always dry across rolling medians\n",
    "nontidal_dry_da = always_dry.unstack(\"z\").reindex_like(ds).transpose('y', 'x') == True\n",
    "nontidal_wet_da = tide_thresh.isnull().unstack(\"z\").reindex_like(ds).transpose('y', 'x') == True\n",
    "\n",
    "# Create integer array with 0 = always observed as land, 100 = always observed\n",
    "# as water, and remaining values the % of the astronomical tide range represented\n",
    "# by each pixel of intertidal terrain\n",
    "extents_da = (\n",
    "    odc.geo.xr.xr_zeros(ds.odc.geobox)  # create empty array\n",
    "    .where(freq > 0.5, 100)  # Set mostly dry pixels to 100, and leave mostly wet as 0\n",
    "    .where(~nontidal_dry_da, 100)  # Set any non-tidal dry pixels to 100\n",
    "    .where(~nontidal_wet_da, 0)  # Set any non-tidal wet pixels to 0\n",
    "    .where(tide_perc_da.isnull(), tide_perc_da.clip(0, 100))  # Fill intertidal with %s\n",
    ").astype(np.uint16)\n",
    "\n",
    "# Ensure CRS is present\n",
    "# extents_da = extents_da.odc.assign_crs(ds.odc.geobox.crs)\n",
    "\n",
    "extents_da.odc.write_cog(\n",
    "    fname=f\"data/interim/pixel_{fname}_extents.tif\", overwrite=True\n",
    ")"
   ]
  },
  {
   "cell_type": "code",
   "execution_count": null,
   "id": "3b9a2201-e674-433d-bacb-b981c98fe869",
   "metadata": {},
   "outputs": [],
   "source": [
    "# Clean data using morphological opening to remove narrow inland \n",
    "# streams and waterbodies\n",
    "clean=[(\"opening\", 20), (\"dilation\", 10)]\n",
    "to_keep = mask_cleanup(extents_da < 100, mask_filters=clean)\n",
    "dem_clean = dem.where(to_keep)\n",
    "\n",
    "# Export to file\n",
    "dem_clean.odc.write_cog(\n",
    "        fname=f\"data/interim/pixel_{fname}_{suffix}_cleaned.tif\", overwrite=True\n",
    "    )"
   ]
  },
  {
   "cell_type": "code",
   "execution_count": null,
   "id": "96a2b486-92c8-4444-824b-40bc608d245d",
   "metadata": {},
   "outputs": [],
   "source": [
    "test = ds.tide_m.mean(dim=['x', 'y'])"
   ]
  },
  {
   "cell_type": "markdown",
   "id": "66864247-5cbb-4a45-9b36-195824615b1d",
   "metadata": {},
   "source": [
    "## Experimental: Remove water not attached to ocean"
   ]
  },
  {
   "cell_type": "code",
   "execution_count": null,
   "id": "1441451e-b70f-4ac5-9a2d-e1a7d826276f",
   "metadata": {},
   "outputs": [],
   "source": [
    "from skimage.measure import label, regionprops"
   ]
  },
  {
   "cell_type": "code",
   "execution_count": null,
   "id": "36886e5d-fd86-4d06-b92f-842d23bd47e9",
   "metadata": {},
   "outputs": [],
   "source": [
    "# First, break boolean array into unique, discrete regions/blobs\n",
    "blobs = xr.apply_ufunc(label, to_keep, 0, False, 1)\n",
    "\n",
    "# Get blob ID for each blob inside ocean area\n",
    "ocean = dc.load(product=\"geodata_coast_100k\", like=ds.odc.geobox.compat).land == 0\n",
    "ocean_blobs = np.unique(blobs.where(ocean, 0))\n",
    "\n",
    "# Return only blobs that contained tide modelling point\n",
    "ocean_mask = blobs.isin(ocean_blobs[ocean_blobs != 0])"
   ]
  },
  {
   "cell_type": "code",
   "execution_count": null,
   "id": "f9e398d7-a258-4b2a-a2f0-d1ae9436afa7",
   "metadata": {},
   "outputs": [],
   "source": [
    "ocean_mask.plot()"
   ]
  },
  {
   "cell_type": "code",
   "execution_count": null,
   "id": "0caec496-a16a-47b8-bbad-360799bde26e",
   "metadata": {},
   "outputs": [],
   "source": [
    "# First, break boolean array into unique, discrete regions/blobs\n",
    "blobs = xr.apply_ufunc(label, ds, 1, False, 1)\n",
    "\n",
    "# Get blob ID for each tidal modelling point\n",
    "x = xr.DataArray(tide_points_gdf.geometry.x, dims=\"z\")\n",
    "y = xr.DataArray(tide_points_gdf.geometry.y, dims=\"z\")\n",
    "ocean_blobs = np.unique(blobs.interp(x=x, y=y, method=\"nearest\"))\n",
    "\n",
    "# Return only blobs that contained tide modelling point\n",
    "ocean_mask = blobs.isin(ocean_blobs[ocean_blobs != 0])\n",
    "\n",
    "# Dilate mask so that we include land pixels on the inland side\n",
    "# of each shoreline to ensure contour extraction accurately\n",
    "# seperates land and water spectra\n",
    "if dilation:\n",
    "    ocean_mask = xr.apply_ufunc(binary_dilation, ocean_mask, disk(dilation))\n",
    "\n",
    "return ocean_mask"
   ]
  },
  {
   "cell_type": "markdown",
   "id": "61606f79-c0fa-4b8d-95f4-8d299a567c9c",
   "metadata": {},
   "source": [
    "## Regression experiment"
   ]
  },
  {
   "cell_type": "code",
   "execution_count": null,
   "id": "d9dc6242-26d6-458c-802b-e6a2c8f1338f",
   "metadata": {},
   "outputs": [],
   "source": [
    "from dea_tools.temporal import lag_linregress_3D"
   ]
  },
  {
   "cell_type": "code",
   "execution_count": null,
   "id": "e31b78af-8280-45fc-9b2f-56108237010d",
   "metadata": {},
   "outputs": [],
   "source": [
    "ds_subset = interval_ds.where((interval_ds.ndwi > 0.05) & (interval_ds.ndwi < 0.25))\n",
    "linreg = lag_linregress_3D(x=ds_subset.tide_m, y=ds_subset.ndwi, first_dim='interval')"
   ]
  },
  {
   "cell_type": "code",
   "execution_count": null,
   "id": "99ddeb7b-64a3-4c82-8f6d-d87e36ee4df6",
   "metadata": {},
   "outputs": [],
   "source": [
    "# linreg.intercept.unstack(\"z\").reindex_like(ds).plot(robust=True)"
   ]
  },
  {
   "cell_type": "code",
   "execution_count": null,
   "id": "a3607175-b892-4f14-9329-1a5e42656d45",
   "metadata": {},
   "outputs": [],
   "source": [
    "# linreg.slope.unstack(\"z\").reindex_like(ds).plot(robust=True)"
   ]
  },
  {
   "cell_type": "code",
   "execution_count": null,
   "id": "242f8d35-3333-47a7-83e6-3fe8d86b39e2",
   "metadata": {},
   "outputs": [],
   "source": [
    "testing = ((0 - linreg.intercept) / linreg.slope).where(linreg.pval < 0.01).unstack(\"z\").reindex_like(ds)  #.plot.imshow(vmin=-1, vmax=0.5)"
   ]
  },
  {
   "cell_type": "code",
   "execution_count": null,
   "id": "33507437-0b1a-4ad1-8834-3fc605e95a21",
   "metadata": {},
   "outputs": [],
   "source": [
    "testing = testing.where(testing > ds_subset.tide_m.min())"
   ]
  },
  {
   "cell_type": "code",
   "execution_count": null,
   "id": "9d51ff42-4d82-48b3-8751-91aa579c4eb9",
   "metadata": {},
   "outputs": [],
   "source": [
    "testing.T.odc.write_cog(fname=f'data/interim/pixel_linreg7.tif', overwrite=True)"
   ]
  },
  {
   "cell_type": "code",
   "execution_count": null,
   "id": "7b078af3-5cdd-4d39-8ffe-33de9d949ea3",
   "metadata": {},
   "outputs": [],
   "source": [
    "y = mx + a\n",
    "(y - a) / m"
   ]
  },
  {
   "cell_type": "code",
   "execution_count": null,
   "id": "f834fe40-7d47-4218-a2f8-3f6582361fba",
   "metadata": {},
   "outputs": [],
   "source": [
    "ds.geobox"
   ]
  },
  {
   "cell_type": "code",
   "execution_count": null,
   "id": "24465187-7d64-4e97-81c3-d0535c79964f",
   "metadata": {},
   "outputs": [],
   "source": [
    "quantile_ds.tide_m.where(quantile_ds.ndwi <= 0.1).dropna(dim='z', how='all')"
   ]
  },
  {
   "cell_type": "code",
   "execution_count": null,
   "id": "64d4e443-df6b-444b-80ea-ca0378e36776",
   "metadata": {},
   "outputs": [],
   "source": [
    "(tide_argmax + 1).unstack(\"z\").reindex_like(ds).T.plot()"
   ]
  },
  {
   "cell_type": "code",
   "execution_count": null,
   "id": "ab176595-1b9f-46b0-9c29-dfd031d32b0e",
   "metadata": {},
   "outputs": [],
   "source": [
    "tide_dry.isel(interval=(tide_argmax - 1).clip(0, len(tide_dry.interval) - 1))"
   ]
  },
  {
   "cell_type": "code",
   "execution_count": null,
   "id": "1d9e2b79-22e6-4f62-a372-2962bf600326",
   "metadata": {},
   "outputs": [],
   "source": [
    "tide_dry.isel(tide_argmax)"
   ]
  },
  {
   "cell_type": "code",
   "execution_count": null,
   "id": "f59c8c6b-4bd4-4e72-891a-936baaf702ce",
   "metadata": {},
   "outputs": [],
   "source": []
  },
  {
   "cell_type": "code",
   "execution_count": null,
   "id": "4d769c1b-eb08-4d1d-8b89-900601fb86e7",
   "metadata": {},
   "outputs": [],
   "source": [
    "tide_argmax + 1"
   ]
  },
  {
   "cell_type": "code",
   "execution_count": null,
   "id": "2f325526-340f-46d5-a710-70a0dc7f826a",
   "metadata": {},
   "outputs": [],
   "source": [
    "tide_dry.dropna(dim='interval', how='all').argmax(dim='interval', axis=1)"
   ]
  },
  {
   "cell_type": "code",
   "execution_count": null,
   "id": "c67ff227-7b14-4efd-ae96-a633e7823928",
   "metadata": {},
   "outputs": [],
   "source": [
    "interval_ds"
   ]
  },
  {
   "cell_type": "code",
   "execution_count": null,
   "id": "ca991a0e-d5cd-40fa-8d7a-2a98dc13354c",
   "metadata": {},
   "outputs": [],
   "source": [
    "# # Output name\n",
    "# fname = 'testing1'\n",
    "# # fname = aoi.lower().replace(' ', '')\n",
    "\n",
    "# # Calculate \n",
    "# confidence = interval_ds.ndwi_std.mean(dim='interval')\n",
    "# min_thresh = (0 - 0.5 * confidence)\n",
    "# max_thresh = (0 + 0.5 * confidence)\n",
    "\n",
    "# for thresh_name, thesh in {'': 0, '_low': min_thresh, '_high': max_thresh}.items():\n",
    "    \n",
    "#     dem_fname = f'data/interim/pixel_dem_{fname}{thresh_name}.tif'\n",
    "#     print(f'Exporting {dem_fname}')\n",
    "    \n",
    "#     # Identify the max tide per pixel where NDWI == land\n",
    "#     tide_thresh = interval_ds.tide_m.where(interval_ds.ndwi <= thesh).max(dim='interval')\n",
    "#     tide_max = interval_ds.tide_m.max(dim='interval')\n",
    "    \n",
    "#     # Remove any pixel where tides max out (i.e. always land)\n",
    "#     dem = tide_thresh.where(tide_thresh < tide_max)\n",
    "    \n",
    "#     # Export DEM file  \n",
    "# #     dem.T.odc.write_cog(fname=dem_fname, overwrite=True)\n",
    "#     dem.where(~((freq > 0) & tide_thresh.isnull()), dem.min()).T.odc.write_cog(fname=dem_fname, overwrite=True)\n",
    "    \n",
    "\n",
    "# # Export NDWI standard deviation/confidence file\n",
    "# confidence.T.odc.write_cog(fname=f'data/interim/pixel_dem_{fname}_confidence.tif', overwrite=True)"
   ]
  },
  {
   "cell_type": "code",
   "execution_count": null,
   "id": "31145088-84ab-4924-b6b5-f4db1925d686",
   "metadata": {},
   "outputs": [],
   "source": [
    "# dem.where(~((freq > 0) & tide_thresh.isnull()), dem.min()).plot()"
   ]
  },
  {
   "cell_type": "code",
   "execution_count": null,
   "id": "6edca090-a367-41dc-add2-231515b35253",
   "metadata": {},
   "outputs": [],
   "source": [
    "# dem.where(~(tide_thresh.isnull() & (freq > 0.90)), dem.min()).plot()"
   ]
  },
  {
   "cell_type": "code",
   "execution_count": null,
   "id": "fdaf2f96-a5d2-475d-8857-d59583219412",
   "metadata": {},
   "outputs": [],
   "source": [
    "interval_ds.squeeze('quantile').unstack().sel(x=x,  y=y, method='nearest')"
   ]
  },
  {
   "cell_type": "code",
   "execution_count": 37,
   "id": "32f32fb2-6d6b-49a3-a4b0-2336aa2ae823",
   "metadata": {},
   "outputs": [
    {
     "data": {
      "text/plain": [
       "<matplotlib.lines.Line2D at 0x7f8e1ea48580>"
      ]
     },
     "execution_count": 37,
     "metadata": {},
     "output_type": "execute_result"
    },
    {
     "data": {
      "image/png": "[encoded data removed]",
      "text/plain": [
       "<Figure size 720x576 with 1 Axes>"
      ]
     },
     "metadata": {
      "needs_background": "light"
     },
     "output_type": "display_data"
    }
   ],
   "source": [
    "x, y = -1156521.12372093, 7712141.96160016\n",
    "ndwi_thresh = 0.0\n",
    "\n",
    "# Extract rolling and raw data\n",
    "pixel_rolling = interval_ds.squeeze('quantile').unstack().sortby([\"interval\", \"x\", \"y\"]).sel(x=x,  y=y, method='nearest').to_dataframe().reset_index()\n",
    "pixel_raw = ds.sel(x=x,  y=y, method='nearest').sortby('tide_m')\n",
    "# pixel_raw['ndwi'] = (pixel_raw.ndwi > 0.1).where(~pixel_raw.ndwi.isnull())\n",
    "# pixel_rolling = pixel_raw.rolling(time=100, min_periods=1).mean().to_dataframe().reset_index()\n",
    "pixel_raw = pixel_raw.to_dataframe().reset_index()\n",
    "\n",
    "# To plot\n",
    "pixel_to_plot = pixel_rolling\n",
    "pixel_to_plot_mean = pixel_to_plot.rolling(20, center=False, min_periods=None).mean()\n",
    "\n",
    "\n",
    "# pixel_savgol = pixel_rolling.copy()\n",
    "# pixel_savgol['ndwi'] = savgol_filter(pixel_savgol.ndwi.values, 50, 1)\n",
    "\n",
    "# Calculate thresholds\n",
    "land_tides = pixel_to_plot.where((pixel_to_plot.ndwi) < ndwi_thresh)\n",
    "max_ind = land_tides.tide_m.argmax()\n",
    "\n",
    "\n",
    "# Plot\n",
    "fig, ax = plt.subplots(1, 1, figsize=(10, 8))\n",
    "ax.scatter(x=pixel_raw.tide_m, y=pixel_raw.ndwi)\n",
    "ax.plot(pixel_to_plot.tide_m, pixel_to_plot.ndwi, '-o', color='orange')\n",
    "ax.plot(pixel_to_plot_mean.tide_m, pixel_to_plot_mean.ndwi, '-o', color='green')\n",
    "# ax.plot(pixel_savgol.tide_m, pixel_savgol.ndwi, '-o', color='blue')\n",
    "tide_thresh_1 = land_tides.tide_m.iloc[max_ind]\n",
    "ax.axvline(tide_thresh_1, color='orange', linestyle='--', lw=2, alpha=0.5)\n",
    "ax.axhline(ndwi_thresh, color='black', linestyle='--', lw=0.8, alpha=0.5)\n",
    "\n",
    "\n",
    "# clipped = pixel_rolling.where((pixel_rolling.ndwi > 0) & (pixel_rolling.ndwi < 0.1)).dropna()\n",
    "\n",
    "# ax.plot(clipped.tide_m, clipped.ndwi, '-o', color='green')\n",
    "# from scipy import stats\n",
    "# linreg = stats.linregress(x=clipped.tide_m, y=clipped.ndwi)\n",
    "# x = np.linspace(pixel_raw.tide_m.min(), pixel_raw.tide_m.max())\n",
    "# # ax.plot(x, [linreg.slope * i + linreg.intercept for i in x], color='green', linestyle='--')\n",
    "# tide_thresh_3 = (ndwi_thresh - linreg.intercept) / linreg.slope\n",
    "\n",
    "# rolling2 = pixel_raw.sort_values('tide_m').rolling(100, center=True, min_periods=1).median()\n",
    "# ax.plot(rolling2.tide_m, rolling2.ndwi, '-o', color='red')\n",
    "\n",
    "\n",
    "\n",
    "# tide_thresh_1 = land_tides.tide_m.iloc[max_ind]\n",
    "# tide_thresh_2 = pixel_rolling.tide_m.iloc[max_ind + 1]\n",
    "\n",
    "# ax.axvline(tide_thresh_1, color='orange', linestyle='--', lw=2, alpha=0.5)\n",
    "# ax.axvline(tide_thresh_2, color='red', linestyle='--', lw=0.8, alpha=0.5)\n",
    "# ax.axvline(tide_thresh_3, color='green', linestyle='--', lw=2, alpha=0.5)\n",
    "# ax.axhline(ndwi_thresh, color='black', linestyle='--', lw=0.8, alpha=0.5)"
   ]
  },
  {
   "cell_type": "code",
   "execution_count": null,
   "id": "17ed4878-fbd8-4e2e-a202-70d6f879ed3f",
   "metadata": {},
   "outputs": [],
   "source": [
    "x, y = 801144.14604825, 8189103.58475355\n",
    "ndwi_thresh = 0.1\n",
    "\n",
    "# Extract rolling and raw data\n",
    "pixel_rolling = interval_ds.squeeze('quantile').unstack().sel(x=x,  y=y, method='nearest').to_dataframe().reset_index()\n",
    "pixel_raw = ds.sel(x=x,  y=y, method='nearest').sortby('tide_m')\n",
    "# pixel_raw['ndwi'] = (pixel_raw.ndwi > 0.1).where(~pixel_raw.ndwi.isnull())\n",
    "# pixel_rolling = pixel_raw.rolling(time=100, min_periods=1).mean().to_dataframe().reset_index()\n",
    "pixel_raw = pixel_raw.to_dataframe().reset_index()\n",
    "\n",
    "# To plot\n",
    "pixel_to_plot = pixel_rolling\n",
    "pixel_to_plot_mean = pixel_to_plot.rolling(20, center=False, min_periods=None).mean()\n",
    "\n",
    "\n",
    "# pixel_savgol = pixel_rolling.copy()\n",
    "# pixel_savgol['ndwi'] = savgol_filter(pixel_savgol.ndwi.values, 50, 1)\n",
    "\n",
    "# Calculate thresholds\n",
    "land_tides = pixel_to_plot.where((pixel_to_plot.ndwi) < ndwi_thresh)\n",
    "max_ind = land_tides.tide_m.argmax()\n",
    "\n",
    "\n",
    "# Plot\n",
    "fig, ax = plt.subplots(1, 1, figsize=(10, 8))\n",
    "ax.scatter(x=pixel_raw.tide_m, y=pixel_raw.ndwi)\n",
    "ax.plot(pixel_to_plot.tide_m, pixel_to_plot.ndwi, '-o', color='orange')\n",
    "ax.plot(pixel_to_plot_mean.tide_m, pixel_to_plot_mean.ndwi, '-o', color='green')\n",
    "# ax.plot(pixel_savgol.tide_m, pixel_savgol.ndwi, '-o', color='blue')\n",
    "tide_thresh_1 = land_tides.tide_m.iloc[max_ind]\n",
    "ax.axvline(tide_thresh_1, color='orange', linestyle='--', lw=2, alpha=0.5)\n",
    "ax.axhline(ndwi_thresh, color='black', linestyle='--', lw=0.8, alpha=0.5)"
   ]
  },
  {
   "cell_type": "code",
   "execution_count": null,
   "id": "d96cc353-8609-4a50-905a-8cff2fd9a2c9",
   "metadata": {},
   "outputs": [],
   "source": [
    "(pixel_rolling.ndwi * (10* pixel_rolling.ndwi.abs())).plot()"
   ]
  },
  {
   "cell_type": "code",
   "execution_count": null,
   "id": "1ca2800b-2308-4cfb-a939-f0c331dd32ac",
   "metadata": {},
   "outputs": [],
   "source": [
    "ds_sub = ds.sel(x=x,  y=y, method='nearest')\n",
    "\n",
    "\n",
    "ds_sub.sel(time=(ds_sub.ndwi < 0) & (ds_sub.tide_m > 0.25)).time"
   ]
  },
  {
   "cell_type": "code",
   "execution_count": null,
   "id": "49259330-345a-4315-801a-ae5797529bf1",
   "metadata": {},
   "outputs": [],
   "source": [
    "from scipy.signal import savgol_filter\n",
    "yhat = savgol_filter(pixel_rolling.ndwi.values, 50, 2) # window size 51, polynomial order 3\n",
    "plt.plot(yhat)"
   ]
  },
  {
   "cell_type": "code",
   "execution_count": null,
   "id": "f51e1fbc-17b3-407f-babc-f2fd910d703d",
   "metadata": {},
   "outputs": [],
   "source": [
    "test = np.array([-0.5, -0.2, -0.01, 0, 0.01, 0.2, 0.5])"
   ]
  },
  {
   "cell_type": "code",
   "execution_count": null,
   "id": "ee240194-53e6-4d8f-80d4-1d356a06d165",
   "metadata": {},
   "outputs": [],
   "source": [
    "import scipy.stats\n",
    "plt.plot(scipy.stats.norm.pdf(test, loc=0, scale=1))"
   ]
  },
  {
   "cell_type": "code",
   "execution_count": null,
   "id": "42aedacb-8c10-4351-ac9f-be271a181c80",
   "metadata": {},
   "outputs": [],
   "source": [
    "from skimage import exposure"
   ]
  },
  {
   "cell_type": "code",
   "execution_count": null,
   "id": "638cac42-4035-4f06-8fc4-70f7c1ce2f3d",
   "metadata": {},
   "outputs": [],
   "source": [
    "plt.plot(test)"
   ]
  },
  {
   "cell_type": "code",
   "execution_count": null,
   "id": "fa403f63-e98d-40e0-bdbd-56bf2fa64549",
   "metadata": {},
   "outputs": [],
   "source": [
    "plt.plot(exposure.adjust_gamma(np.abs(test), 2))"
   ]
  },
  {
   "cell_type": "code",
   "execution_count": null,
   "id": "4194f061-be51-461a-8ed2-7c5d84762f32",
   "metadata": {},
   "outputs": [],
   "source": [
    "\n",
    "\n",
    "\n",
    "from scipy.signal import savgol_filter\n",
    "yhat = savgol_filter(pixel_raw.ndwi.values, 25, 3) # window size 51, polynomial order 3\n",
    "\n",
    "pixel_rolling.ndwi.plot()\n",
    "plt.plot(yhat)"
   ]
  },
  {
   "cell_type": "code",
   "execution_count": null,
   "id": "9fe9b85a-eb57-4c15-8d41-027c5dc04227",
   "metadata": {},
   "outputs": [],
   "source": [
    "pixel_raw.ndwi.plot()"
   ]
  },
  {
   "cell_type": "code",
   "execution_count": null,
   "id": "4d9c86fb-f015-4c4c-89f7-7f044a476e49",
   "metadata": {},
   "outputs": [],
   "source": []
  },
  {
   "cell_type": "code",
   "execution_count": null,
   "id": "d583eaa0-3bca-4790-a6d2-94a4b38e9db0",
   "metadata": {},
   "outputs": [],
   "source": [
    "interval_ds.ndwi2"
   ]
  },
  {
   "cell_type": "code",
   "execution_count": null,
   "id": "b8e4e841-acbd-4bb3-b7ae-ea5c41b06faf",
   "metadata": {},
   "outputs": [],
   "source": [
    "clipped_test = pixel_rolling.where((pixel_rolling.ndwi > -0.1) & (pixel_rolling.ndwi < 0.1)).dropna().rolling(5, center=True).mean()\n",
    "plt.plot(clipped_test.tide_m, clipped_test.ndwi, '-o', color='green')\n",
    "\n",
    "diff = clipped_test.ndwi.diff() / clipped_test.ndwi.index.to_series().diff()\n",
    "plt.plot(clipped_test.tide_m, diff, '-o', color='red')\n",
    "\n",
    "plt.axvline(clipped_test.tide_m.iloc[diff.argmax()], color='orange', linestyle='--', lw=2, alpha=0.5)\n",
    "plt.axhline(clipped_test.ndwi.iloc[diff.argmax()], color='orange', linestyle='--', lw=2, alpha=0.5)"
   ]
  },
  {
   "cell_type": "code",
   "execution_count": null,
   "id": "a0100f9f-a666-43be-acf9-ea67ab23175f",
   "metadata": {},
   "outputs": [],
   "source": []
  },
  {
   "cell_type": "code",
   "execution_count": null,
   "id": "2dc724c7-34c5-4d1c-b066-3f411a540f93",
   "metadata": {},
   "outputs": [],
   "source": [
    "plt.plot(clipped_test.tide_m, clipped_test.ndwi, '-o', color='green')"
   ]
  },
  {
   "cell_type": "code",
   "execution_count": null,
   "id": "422231ba-5068-4b76-8fcc-ecf4fcf640a4",
   "metadata": {},
   "outputs": [],
   "source": [
    "pdf = gaussian_kde(pixel_rolling.ndwi.values, bw_method=0.5, weights=scipy.stats.norm.pdf(pixel_rolling.ndwi.values, loc=0, scale=0.1))\n",
    "x = np.linspace(-0.5, 0.5, 200)\n",
    "y = pdf(x)\n",
    "plt.axvline(x[y.argmax()], color='orange', linestyle='--', lw=2, alpha=0.5)\n",
    "plt.plot(x, y, label='kde')"
   ]
  },
  {
   "cell_type": "code",
   "execution_count": null,
   "id": "aeabb2d4-139c-4fe4-bc3e-eba8f47fcf7f",
   "metadata": {},
   "outputs": [],
   "source": []
  },
  {
   "cell_type": "code",
   "execution_count": null,
   "id": "8bf37568-48e3-459e-afcc-de6170d5a39a",
   "metadata": {},
   "outputs": [],
   "source": [
    "from scipy.stats import gaussian_kde\n"
   ]
  },
  {
   "cell_type": "code",
   "execution_count": null,
   "id": "ea0c2eba-e182-44cf-82b0-a9284ae62f43",
   "metadata": {},
   "outputs": [],
   "source": [
    "import scipy.stats\n",
    "plt.scatter(pixel_rolling.ndwi.values, scipy.stats.norm.pdf(pixel_rolling.ndwi.values, loc=0, scale=0.1))"
   ]
  },
  {
   "cell_type": "code",
   "execution_count": null,
   "id": "d9a70cd0-195c-44a2-9388-761bc604c522",
   "metadata": {},
   "outputs": [],
   "source": [
    "pixel_raw.tide_m.min()"
   ]
  },
  {
   "cell_type": "code",
   "execution_count": null,
   "id": "7a8e7517-19e4-4b4d-acc2-b1e371cc8ed6",
   "metadata": {},
   "outputs": [],
   "source": [
    "pixel_raw.ndwi.plot.density(bw_method=0.05)"
   ]
  },
  {
   "cell_type": "code",
   "execution_count": null,
   "id": "a9d702d5-55d7-42ca-a07c-4f1c1fcc0a7b",
   "metadata": {},
   "outputs": [],
   "source": []
  },
  {
   "cell_type": "code",
   "execution_count": null,
   "id": "2da51b0d-7a33-4750-a757-f6f6d1b343f7",
   "metadata": {},
   "outputs": [],
   "source": [
    "pixel_rolling.ndwi.plot()\n",
    "(pixel_rolling.ndwi.diff() / pixel_rolling.ndwi.index.to_series().diff()).plot()"
   ]
  },
  {
   "cell_type": "code",
   "execution_count": null,
   "id": "344fc592-a8b8-4143-982a-f6d9ce341216",
   "metadata": {},
   "outputs": [],
   "source": [
    "from scipy.signal import savgol_filter\n",
    "w = savgol_filter(y.sort_values('ndwi').ndwi, 5, 2)\n",
    "w"
   ]
  },
  {
   "cell_type": "code",
   "execution_count": null,
   "id": "150e9df7-fc86-4b89-b2d0-3f1b5261bb4f",
   "metadata": {},
   "outputs": [],
   "source": [
    "y.sort_values('tide_m').ndwi"
   ]
  },
  {
   "cell_type": "code",
   "execution_count": null,
   "id": "e5df7fac-8ca6-4012-877e-8a8d796404e7",
   "metadata": {},
   "outputs": [],
   "source": [
    "# tide_thresh_2 = \n"
   ]
  },
  {
   "cell_type": "code",
   "execution_count": null,
   "id": "4456ab6e-849e-43d9-8605-64ff3569ff2e",
   "metadata": {},
   "outputs": [],
   "source": [
    "pixel_rolling.where(pixel_rolling.ndwi < 0).tide_m.argmax()"
   ]
  },
  {
   "cell_type": "code",
   "execution_count": null,
   "id": "5bd0596d-1201-41b1-9f90-7cd9a14259cf",
   "metadata": {},
   "outputs": [],
   "source": [
    "x, y = 642456.7107189415, 8275569.497920433\n",
    "pixel = interval_ds.sel(x=x,  y=y, method='nearest')\n",
    "df_median = pixel.to_dataframe().reset_index()\n",
    "\n",
    "fig, ax = plt.subplots(1, 1)\n",
    "ax.scatter(x=df_median.tide_m, y=df_median.ndwi)\n",
    "tide_thresh_1 = df_median.where(df_median.ndwi < 0).tide_m.max()\n",
    "tide_thresh_2 = df_median.where(df_median.ndwi > 0).tide_m.min()\n",
    "ax.axvline((tide_thresh_1 + tide_thresh_2) / 2)\n",
    "ax.axhline(0)"
   ]
  },
  {
   "cell_type": "markdown",
   "id": "90175bec-27b6-4601-97d5-5d5a7f4d44d1",
   "metadata": {
    "tags": []
   },
   "source": [
    "### Elevation calculation"
   ]
  },
  {
   "cell_type": "code",
   "execution_count": null,
   "id": "dab3cbd7-60c2-436f-9a59-56063826c2e8",
   "metadata": {
    "tags": []
   },
   "outputs": [],
   "source": [
    "# Output name\n",
    "fname = 'testing1'\n",
    "# fname = aoi.lower().replace(' ', '')\n",
    "\n",
    "# Calculate \n",
    "min_thresh = (0 - 0.5 * s2_stdev_mean)\n",
    "max_thresh = (0 + 0.5 * s2_stdev_mean)\n",
    "\n",
    "for thresh_name, thesh in {'': 0, '_low': min_thresh, '_high': max_thresh}.items():\n",
    "    \n",
    "    dem_fname = f'data/interim/pixel_dem_{fname}{thresh_name}.tif'\n",
    "    print(f'Exporting {dem_fname}')\n",
    "    \n",
    "    # Identify the max tide per pixel where NDWI == land\n",
    "    tide_thresh = ds.tide_m.where(s2_median <= thesh).max(dim='tide_n')\n",
    "    tide_max = ds.tide_m.max(dim='tide_n')\n",
    "    \n",
    "    # Remove any pixel where tides max out (i.e. always land)\n",
    "    dem = tide_thresh.where(tide_thresh < tide_max)\n",
    "    \n",
    "    # Export DEM file  \n",
    "    dem.odc.write_cog(fname=dem_fname, overwrite=True)\n",
    "\n",
    "# Export NDWI standard deviation/confidence file\n",
    "s2_stdev_mean.odc.write_cog(fname=f'data/interim/pixel_dem_{fname}_confidence.tif', overwrite=True)"
   ]
  },
  {
   "cell_type": "markdown",
   "id": "5781fcbf-08a2-4937-88a0-1e1ba81edab1",
   "metadata": {},
   "source": [
    "### Experimental"
   ]
  },
  {
   "cell_type": "code",
   "execution_count": null,
   "id": "39cdf81c-83da-43cc-884f-94df97dacc01",
   "metadata": {},
   "outputs": [],
   "source": [
    "from dea_tools.temporal import lag_linregress_3D"
   ]
  },
  {
   "cell_type": "code",
   "execution_count": null,
   "id": "2f85b5e1-9520-4077-af1b-e4f59d3dc06e",
   "metadata": {},
   "outputs": [],
   "source": [
    "# reg = lag_linregress_3D(s2_rolling.tide_height, (s2_rolling > 0).where(~s2_rolling.isnull()), first_dim='tide_height')\n",
    "# (reg.pval < 0.01).plot.imshow()"
   ]
  },
  {
   "cell_type": "code",
   "execution_count": null,
   "id": "ec11c556-5407-40de-a916-8d21f11a076e",
   "metadata": {},
   "outputs": [],
   "source": [
    "# s2_rolling"
   ]
  },
  {
   "cell_type": "code",
   "execution_count": null,
   "id": "c32ddbfb-874e-4085-b1da-9e5f6f405a44",
   "metadata": {},
   "outputs": [],
   "source": [
    "# test_min = tide_3d.where(s2_rolling >= 0).min(dim='tide_height')\n",
    "# test_max = tide_3d.where(s2_rolling < 0).max(dim='tide_height')\n",
    "# # dem = test_min.where(~test_max.isnull())\n",
    "# dem = ((test_max + test_min) / 2.0)\n",
    "# write_cog(dem, fname='pixel_dem_mccarthurriver.tif', overwrite=True)\n"
   ]
  },
  {
   "cell_type": "code",
   "execution_count": null,
   "id": "d9d3ced0-a1e7-47c3-b636-a217c947b864",
   "metadata": {},
   "outputs": [],
   "source": [
    "# out = xr.corr(s2_rolling, tide_3d)"
   ]
  },
  {
   "cell_type": "code",
   "execution_count": null,
   "id": "d2058e5c-111e-48d5-89e5-47bb93a670ef",
   "metadata": {},
   "outputs": [],
   "source": [
    "write_cog(test_max, fname='pixel_dem13.tif', overwrite=True)  # "
   ]
  },
  {
   "cell_type": "code",
   "execution_count": null,
   "id": "782714b0-5a93-4a8a-aa62-37a8e02bd53c",
   "metadata": {},
   "outputs": [],
   "source": [
    "x, y = 755234.5430086093, 8215882.783825266\n",
    "# pixel = s2_rolling.sel(x=x,  y=y, method='nearest')\n",
    "# df_median = pixel.to_dataframe()[['ndwi']].reset_index()\n",
    "\n",
    "pixel = ds.sel(x=x,  y=y, method='nearest')\n",
    "df = pixel.to_dataframe()[['ndwi']].reset_index()\n",
    "df_median = df.rolling(100, min_periods=10, center=True).median()\n",
    "df_std = df.rolling(100, min_periods=10, center=True).std()\n",
    "std_mean = df_std.ndwi.mean()\n",
    "\n",
    "fig, ax = plt.subplots(1, 1)\n",
    "ax.scatter(x=df_median.tide_height, y=df_median.ndwi)\n",
    "# ax.axvline(df_median.where(df_median.ndwi > 0).tide_height.min())\n",
    "ax.axvline(df_median.where(df_median.ndwi < 0).tide_height.max())\n",
    "ax.axvline(df_median.where(df_median.ndwi < (0 + std_mean * 0.5)).tide_height.max())\n",
    "ax.axvline(df_median.where(df_median.ndwi < (0 - std_mean * 0.5)).tide_height.max())\n",
    "ax.axhline(0)"
   ]
  },
  {
   "cell_type": "code",
   "execution_count": null,
   "id": "e35babc3-f719-4c01-9f4f-b742c199328d",
   "metadata": {},
   "outputs": [],
   "source": [
    "std_mean.ndwi"
   ]
  },
  {
   "cell_type": "code",
   "execution_count": null,
   "id": "f3f828fd-c9a3-4bf1-a1f8-c091eea486b7",
   "metadata": {},
   "outputs": [],
   "source": [
    "df_median.where(df_median.ndwi < 0).tide_height.max()"
   ]
  },
  {
   "cell_type": "code",
   "execution_count": null,
   "id": "eb6c4d35-5569-432e-bb70-6497a5329c0b",
   "metadata": {},
   "outputs": [],
   "source": [
    "df_median.where(df_median.ndwi > 0).tide_height.min()"
   ]
  },
  {
   "cell_type": "markdown",
   "id": "72172af8-b057-4416-9ba9-de434e78b4d2",
   "metadata": {},
   "source": [
    "# Shut down cluster"
   ]
  },
  {
   "cell_type": "code",
   "execution_count": null,
   "id": "7e5b413a-ab34-48a0-97b4-682a268eb322",
   "metadata": {},
   "outputs": [],
   "source": [
    "from dask_gateway import Gateway\n",
    "gateway = Gateway()\n",
    "\n",
    "# Close any existing clusters\n",
    "cluster_names = gateway.list_clusters()\n",
    "if len(cluster_names) > 0:\n",
    "    print(\"Cluster(s) still running:\", cluster_names)\n",
    "    for n in cluster_names:\n",
    "        cluster = gateway.connect(n.name)\n",
    "        cluster.shutdown()"
   ]
  },
  {
   "cell_type": "code",
   "execution_count": null,
   "id": "46f990e8-d01a-4334-b4d4-42306a31b627",
   "metadata": {},
   "outputs": [],
   "source": [
    "cluster.shutdown()"
   ]
  },
  {
   "cell_type": "code",
   "execution_count": null,
   "id": "a8a8bf32-584f-40d9-9484-8c3f2886ff8a",
   "metadata": {},
   "outputs": [],
   "source": []
  }
 ],
 "metadata": {
  "kernelspec": {
   "display_name": "Python 3 (ipykernel)",
   "language": "python",
   "name": "python3"
  },
  "language_info": {
   "codemirror_mode": {
    "name": "ipython",
    "version": 3
   },
   "file_extension": ".py",
   "mimetype": "text/x-python",
   "name": "python",
   "nbconvert_exporter": "python",
   "pygments_lexer": "ipython3",
   "version": "3.8.10"
  }
 },
 "nbformat": 4,
 "nbformat_minor": 5
}

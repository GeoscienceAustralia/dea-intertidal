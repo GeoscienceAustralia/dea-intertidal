{
 "cells": [
  {
   "cell_type": "markdown",
   "id": "cfda0f0d-1996-448f-b112-f3488eee2f9a",
   "metadata": {},
   "source": [
    "# Ensemble tide model tide guage validation\n",
    "\n",
    "This code compares tides modelled using custom ensemble tide modelling against results from various other global ocean tide models at [Global Extreme Sea Level Analysis (GESLA) tide gauges](https://gesla787883612.wordpress.com/) across Australia.\n",
    "\n",
    "> Haigh, I.D., Marcos, M., Talke, S.A., Woodworth, P.L., Hunter, J.R., Hague, B.S., Arns, A., Bradshaw, E. and Thompson, P., 2023. GESLA version 3: A major update to the global higher‐frequency sea‐level dataset. Geoscience Data Journal, 10(3), pp.293-314.\n",
    "\n",
    "## Getting started\n",
    "Set working directory to top level of repo to ensure links work correctly:"
   ]
  },
  {
   "cell_type": "code",
   "execution_count": 1,
   "id": "53b4f4dc-58ce-42b6-adb6-c61c41e8e3b3",
   "metadata": {},
   "outputs": [
    {
     "name": "stdout",
     "output_type": "stream",
     "text": [
      "/home/jovyan/Robbi/dea-intertidal\n"
     ]
    }
   ],
   "source": [
    "cd ../.."
   ]
  },
  {
   "cell_type": "markdown",
   "id": "f29a46ad-915d-462a-8942-682071b4662f",
   "metadata": {},
   "source": [
    "Install additional packages:"
   ]
  },
  {
   "cell_type": "code",
   "execution_count": null,
   "id": "414f0809-6b7f-4cc1-b968-f6c68f252c47",
   "metadata": {
    "tags": []
   },
   "outputs": [],
   "source": [
    "!pip install -e /home/jovyan/Robbi/dea-notebooks/Tools/"
   ]
  },
  {
   "cell_type": "markdown",
   "id": "dd6b1faf-155e-4cda-bb45-4c974c2c40a3",
   "metadata": {},
   "source": [
    "### Load packages"
   ]
  },
  {
   "cell_type": "code",
   "execution_count": 2,
   "id": "45aa3436-d449-45bd-b009-3501ec69a0f6",
   "metadata": {
    "tags": []
   },
   "outputs": [],
   "source": [
    "%load_ext autoreload\n",
    "%autoreload 2\n",
    "\n",
    "import os\n",
    "import glob\n",
    "import warnings\n",
    "import datetime\n",
    "import numpy as np\n",
    "import pandas as pd\n",
    "import xarray as xr\n",
    "import geopandas as gpd\n",
    "import seaborn as sns\n",
    "import matplotlib.pyplot as plt\n",
    "\n",
    "from odc.geo.geom import BoundingBox\n",
    "\n",
    "from dea_tools.validation import eval_metrics\n",
    "from intertidal.utils import round_date_strings\n",
    "\n",
    "os.environ[\"DEA_TOOLS_TIDE_MODELS\"] = \"/home/jovyan/tide_models_clipped\""
   ]
  },
  {
   "cell_type": "code",
   "execution_count": 3,
   "id": "d70395ed-10b1-4397-b5f0-555f82d5c397",
   "metadata": {
    "tags": []
   },
   "outputs": [],
   "source": [
    "\n",
    "def _load_gauge_metadata(metadata_path):\n",
    "    \n",
    "    # Load metadata\n",
    "    metadata_df = pd.read_csv(metadata_path)\n",
    "    metadata_df.columns = (\n",
    "        metadata_df.columns.str.replace(\" \", \"_\", regex=False)\n",
    "        .str.replace(\"(\", \"\", regex=False)\n",
    "        .str.replace(\")\", \"\", regex=False)\n",
    "        .str.replace(\"/\", \"_\", regex=False)\n",
    "        .str.lower()\n",
    "    )\n",
    "    metadata_df = metadata_df.set_index(\"site_code\")\n",
    "\n",
    "    # Convert metadata to GeoDataFrame\n",
    "    metadata_gdf = gpd.GeoDataFrame(\n",
    "        data=metadata_df,\n",
    "        geometry=gpd.points_from_xy(metadata_df.longitude, metadata_df.latitude),\n",
    "        crs=\"EPSG:4326\",\n",
    "    )\n",
    "    \n",
    "    return metadata_df, metadata_gdf\n",
    "\n",
    "\n",
    "def tide_gauge_abslmp(\n",
    "    x=None,\n",
    "    y=None,\n",
    "    site_code=None,\n",
    "    time=(\"2020\", \"2021\"),\n",
    "    ahd=True,\n",
    "    site_metadata=True,\n",
    "    data_path=\"/gdata1/data/sea_level/abslmp/\",\n",
    "    metadata_path=\"/gdata1/data/sea_level/ABSLMP_station_metadata_v2.csv\",\n",
    "):\n",
    "    \"\"\"\n",
    "    Load and process Australian Baseline Sea Level Monitoring Program\n",
    "    (ABSLMP) tide gauge data.\n",
    "\n",
    "    Parameters\n",
    "    ----------\n",
    "    x, y : tuple, optional\n",
    "        Tuples defining the x and y bounding box within which to load\n",
    "        tide gauge data, in WGS84 (degrees latitude, longitude) units.\n",
    "        Leave as None if providing a list of site codes using 'site_code'.\n",
    "    site_code : str or list of str, optional\n",
    "        ABSLMP site code(s) for which to load data. If provided, 'x' and\n",
    "        'y' will be ignored.\n",
    "    time : tuple or list of str, optional\n",
    "        Time range to consider, given as a tuple of start and end years.\n",
    "        If None, will default to all tide observations from 1991 onward.\n",
    "        Default is (\"2020\", \"2021\").\n",
    "    ahd : bool, optional\n",
    "        Whether to correct sea level to Australian Height Datum (AHD).\n",
    "        Default is True.\n",
    "    site_metadata : bool, optional\n",
    "        Whether to add tide gauge station metadata as additional columns\n",
    "        in the output DataFrame. Defaults to True.\n",
    "    data_path : str, optional\n",
    "        Path to the raw ABSLMP data files. Default is\n",
    "        \"/gdata1/data/sea_level/abslmp/\".\n",
    "    metadata_path : str, optional\n",
    "        Path to the ABSLMP station metadata file.\n",
    "        Default is \"/gdata1/data/sea_level/ABSLMP_station_metadata_v2.csv\".\n",
    "\n",
    "    Returns\n",
    "    -------\n",
    "    pd.DataFrame\n",
    "        Processed ABSLMP data as a DataFrame with columns including:\n",
    "        \"time\": Timestamps,\n",
    "        \"sea_level\": Observed sea level (m),\n",
    "        \"residuals\": Residuals data (m),\n",
    "        and additional columns from station metadata.\n",
    "    \"\"\"\n",
    "\n",
    "    def _load_abslmp_dataset(path, na_value):\n",
    "        abslmp_df = (\n",
    "            pd.read_csv(\n",
    "                path,\n",
    "                parse_dates=[\" Date & UTC Time\"],\n",
    "                na_values=na_value,\n",
    "                usecols=[\" Date & UTC Time\", \"Sea Level\", \"Residuals\"],\n",
    "            )\n",
    "            .rename(\n",
    "                {\n",
    "                    \" Date & UTC Time\": \"time\",\n",
    "                    \"Sea Level\": \"sea_level\",\n",
    "                    \"Residuals\": \"residuals\",\n",
    "                },\n",
    "                axis=1,\n",
    "            )\n",
    "            .assign(site_code=path[-17:-9])\n",
    "            .set_index(\"time\")\n",
    "        )\n",
    "\n",
    "        return abslmp_df\n",
    "\n",
    "    # Load tide gauge metadata\n",
    "    metadata_df, metadata_gdf = _load_gauge_metadata(metadata_path)\n",
    "\n",
    "    # Use supplied site codes if available\n",
    "    if site_code is not None:\n",
    "        site_code = [site_code] if isinstance(site_code, str) else site_code\n",
    "\n",
    "    # Otherwise, use xy bounds to identify sites\n",
    "    elif x is not None:\n",
    "        bbox = BoundingBox.from_xy(x, y)\n",
    "        site_code = metadata_gdf.cx[\n",
    "            bbox.left : bbox.right, bbox.top : bbox.bottom\n",
    "        ].index\n",
    "\n",
    "    # Otherwise, return all available site codes\n",
    "    else:\n",
    "        site_code = metadata_df.index.to_list()\n",
    "\n",
    "    # Prepare times\n",
    "    if time is None:\n",
    "        time = [\"1991\", str(datetime.datetime.now().year)]\n",
    "    time = [time] if isinstance(time, str) else time\n",
    "    start_time = round_date_strings(time[0], round_type=\"start\")\n",
    "    end_time = round_date_strings(time[-1], round_type=\"end\")\n",
    "\n",
    "    # Identify paths to load and nodata values for each site\n",
    "    years = list(range(int(start_time[0:4]), int(end_time[0:4]) + 1))\n",
    "    paths_na = [\n",
    "        (glob.glob(f\"{data_path}/{s}_*{y}.csv\"), metadata_df.loc[s].null_value)\n",
    "        for y in years\n",
    "        for s in site_code\n",
    "    ]\n",
    "\n",
    "    # Expand so we have a nodata value for each path, then load and\n",
    "    # combine into a single dataframe\n",
    "    paths_na = [(path, na) for paths, na in paths_na for path in paths]\n",
    "    data_df = (\n",
    "        pd.concat([_load_abslmp_dataset(path, na_value=na) for path, na in paths_na])\n",
    "        .loc[slice(start_time, end_time)]\n",
    "        .reset_index()\n",
    "        .set_index(\"site_code\")\n",
    "    )\n",
    "\n",
    "    # Insert metadata into dataframe\n",
    "    data_df[metadata_df.columns] = metadata_df\n",
    "\n",
    "    # Add time to index and remove duplicates\n",
    "    data_df = data_df.set_index(\"time\", append=True)\n",
    "    duplicates = data_df.index.duplicated()\n",
    "    if duplicates.sum() > 0:\n",
    "        warnings.warn(\"Duplicate timestamps were removed.\")\n",
    "        data_df = data_df.loc[~duplicates]\n",
    "\n",
    "    # Correct to AHD (i.e. mean sea level)\n",
    "    if ahd:\n",
    "        data_df[\"sea_level\"] -= data_df.ahd\n",
    "\n",
    "    # Return data\n",
    "    if not site_metadata:\n",
    "        return data_df[[\"sea_level\", \"residuals\"]]\n",
    "    else:\n",
    "        return data_df\n",
    "\n",
    "\n",
    "from tqdm import tqdm\n",
    "    \n",
    "    \n",
    "def tide_gauge_gesla(\n",
    "    x=None,\n",
    "    y=None,\n",
    "    site_code=None,\n",
    "    time=(\"2020\", \"2021\"),\n",
    "    filter_use_flag=True,\n",
    "    site_metadata=True,\n",
    "    data_path=\"/gdata1/data/sea_level/gesla/\",\n",
    "    metadata_path=\"/gdata1/data/sea_level/GESLA3_ALL 2.csv\",\n",
    "):\n",
    "    \"\"\"\n",
    "    Load and process Global Extreme Sea Level Analysis (GESLA) tide\n",
    "    gauge data.\n",
    "\n",
    "    Modified from original code from https://github.com/philiprt/GeslaDataset.\n",
    "\n",
    "    Parameters\n",
    "    ----------\n",
    "    x, y : tuple, optional\n",
    "        Tuples defining the x and y bounding box within which to load\n",
    "        tide gauge data, in WGS84 (degrees latitude, longitude) units.\n",
    "        Leave as None if providing a list of site codes using 'site_code'.\n",
    "    site_code : str or list of str, optional\n",
    "        GESLA site code(s) for which to load data. If provided, 'x' and\n",
    "        'y' will be ignored.\n",
    "    time : tuple or list of str, optional\n",
    "        Time range to consider, given as a tuple of start and end years.\n",
    "        If None, will default to all tide observations from 1800 onward.\n",
    "        Default is (\"2020\", \"2021\").\n",
    "    filter_use_flag : bool, optional\n",
    "        Whether to filter out low quality observations with a \"use_flag\"\n",
    "        value of 0 (do not use). Defaults to True.\n",
    "    site_metadata : bool, optional\n",
    "        Whether to add tide gauge station metadata as additional columns\n",
    "        in the output DataFrame. Defaults to True.\n",
    "    data_path : str, optional\n",
    "        Path to the raw GESLA data files. Default is\n",
    "        \"/gdata1/data/sea_level/gesla/\".\n",
    "    metadata_path : str, optional\n",
    "        Path to the GESLA station metadata file.\n",
    "        Default is \"/gdata1/data/sea_level/GESLA3_ALL 2.csv\".\n",
    "\n",
    "    Returns\n",
    "    -------\n",
    "    pd.DataFrame\n",
    "        Processed GESLA data as a DataFrame with columns including:\n",
    "        \"time\": Timestamps,\n",
    "        \"sea_level\": Observed sea level (m),\n",
    "        \"qc_flag\": Observed sea level QC flag,\n",
    "        \"use_flag\": Use-in-analysis flag (1 = use, 0 = do not use),\n",
    "        and additional columns from station metadata.\n",
    "    \"\"\"\n",
    "\n",
    "    def _load_gesla_dataset(site, path, na_value):\n",
    "        gesla_df = (\n",
    "            pd.read_csv(\n",
    "                path,\n",
    "                skiprows=41,\n",
    "                names=[\"date_in\", \"time_in\", \"sea_level\", \"qc_flag\", \"use_flag\"],\n",
    "                sep=\"\\s+\",\n",
    "                na_values=na_value,\n",
    "            )\n",
    "            .assign(\n",
    "                time=lambda df: pd.to_datetime(df[\"date_in\"] + \" \" + df[\"time_in\"]),\n",
    "                site_code=site,\n",
    "            )\n",
    "            .set_index(\"time\")\n",
    "            .drop([\"date_in\", \"time_in\"], axis=1)\n",
    "        )\n",
    "        \n",
    "        print(path)\n",
    "\n",
    "        return gesla_df\n",
    "\n",
    "    \n",
    "    # Load tide gauge metadata\n",
    "    metadata_df, metadata_gdf = _load_gauge_metadata(metadata_path)    \n",
    "\n",
    "    # Use supplied site codes if available\n",
    "    if site_code is not None:\n",
    "        site_code = [site_code] if isinstance(site_code, str) else site_code\n",
    "\n",
    "    # Otherwise, use xy bounds to identify sites\n",
    "    elif x is not None:\n",
    "        bbox = BoundingBox.from_xy(x, y)\n",
    "        site_code = metadata_gdf.cx[\n",
    "            bbox.left : bbox.right, bbox.top : bbox.bottom\n",
    "        ].index\n",
    "\n",
    "    # Otherwise, return all available site codes\n",
    "    else:\n",
    "        site_code = metadata_df.index.to_list()\n",
    "\n",
    "    # Prepare times\n",
    "    if time is None:\n",
    "        time = [\"1800\", str(datetime.datetime.now().year)]\n",
    "    time = [time] if isinstance(time, str) else time\n",
    "    start_time = round_date_strings(time[0], round_type=\"start\")\n",
    "    end_time = round_date_strings(time[-1], round_type=\"end\")\n",
    "\n",
    "    # Identify paths to load and nodata values for each site\n",
    "    metadata_df[\"file_name\"] = data_path + metadata_df[\"file_name\"]\n",
    "    paths_na = metadata_df.loc[site_code, [\"file_name\", \"null_value\"]]\n",
    "\n",
    "    # Load and combine into a single dataframe\n",
    "    data_df = (\n",
    "        pd.concat(\n",
    "            [\n",
    "                _load_gesla_dataset(s, p, na_value=na)\n",
    "                for s, p, na in paths_na.itertuples()\n",
    "            ]\n",
    "        )\n",
    "        .sort_index()\n",
    "        .loc[slice(start_time, end_time)]\n",
    "        .reset_index()\n",
    "        .set_index(\"site_code\")\n",
    "    )\n",
    "\n",
    "    # Optionally filter by use flag column\n",
    "    if filter_use_flag:\n",
    "        data_df = data_df.loc[data_df.use_flag == 1]\n",
    "\n",
    "    # Optionally insert metadata into dataframe\n",
    "    if site_metadata:\n",
    "        data_df[metadata_df.columns] = metadata_df.loc[site_code]\n",
    "\n",
    "    # Add time to index and remove duplicates\n",
    "    data_df = data_df.set_index(\"time\", append=True)\n",
    "    duplicates = data_df.index.duplicated()\n",
    "    if duplicates.sum() > 0:\n",
    "        warnings.warn(\"Duplicate timestamps were removed.\")\n",
    "        data_df = data_df.loc[~duplicates]\n",
    "\n",
    "    # Return data\n",
    "    return data_df\n",
    "\n",
    "\n",
    "# tide_gauge_abslmp(x=(140, 160), y=(-30, -35))\n",
    "# tide_gauge_gesla(x=(140, 160), y=(-30, -35))"
   ]
  },
  {
   "cell_type": "markdown",
   "id": "bd93f63e-3c26-47b8-b591-461986ec3d4c",
   "metadata": {},
   "source": [
    "### GESLA tide guage data\n"
   ]
  },
  {
   "cell_type": "code",
   "execution_count": null,
   "id": "9829a710-cff1-404b-9d8d-16b66c156815",
   "metadata": {
    "tags": []
   },
   "outputs": [],
   "source": [
    "# # Load tide gauge metadata\n",
    "# metadata_df, metadata_gdf = _load_gauge_metadata(metadata_path=\"/gdata1/data/sea_level/GESLA3_ALL 2.csv\") \n",
    "# metadata_gdf.to_file(\"gesla_stations.geojson\")"
   ]
  },
  {
   "cell_type": "code",
   "execution_count": null,
   "id": "2770d983-6288-418f-b6ea-8064db6639ef",
   "metadata": {
    "tags": []
   },
   "outputs": [],
   "source": [
    "# Load Collection 3 summary grid\n",
    "c3_path = \"https://data.dea.ga.gov.au/derivative/ga_summary_grid_c3.geojson\"\n",
    "c3_grid = gpd.read_file(c3_path)\n",
    "xmin, ymin, xmax, ymax = c3_grid.total_bounds"
   ]
  },
  {
   "cell_type": "code",
   "execution_count": null,
   "id": "b7646fad-cac1-4c0c-9939-5a4f4a8ec5cb",
   "metadata": {
    "tags": []
   },
   "outputs": [],
   "source": [
    "# Extract tide data for all sites\n",
    "gauge_df = tide_gauge_gesla(x=(xmin, xmax), y=(ymax, ymin), time=(\"2017\", \"2019\"))"
   ]
  },
  {
   "cell_type": "code",
   "execution_count": null,
   "id": "558bf8ff-e5a9-47a5-bdfd-f42ccbc679c2",
   "metadata": {
    "tags": []
   },
   "outputs": [],
   "source": [
    "# Clean to restrict to Australia and remove duplicate sites/contributers\n",
    "bad_sites = (\"H033007A\",  # Cape Ferguson, duplicate\n",
    "             \"H057022B\",  # Thursday Island, duplicate\n",
    "             \"PLPEE01\",  # Peel Inlet, inland\n",
    "             \"DVHAR01\", # Harvey, inland\n",
    "             \"H060010A\") # Half Tide Tug, duplicate \n",
    "bad_contributers = (\"UHSLC\",)\n",
    "gauge_df = gauge_df.query(\n",
    "    f\"(country == 'AUS') & \"\n",
    "    f\"(site_code not in {bad_sites}) & \"\n",
    "    f\"(contributor_abbreviated not in {bad_contributers})\"\n",
    ")\n",
    "\n",
    "# Normalise to mean sea level\n",
    "gauge_df[\"sea_level\"] -= gauge_df.groupby([\"site_code\"])[\"sea_level\"].transform(\"mean\")\n",
    "\n",
    "# Select 3-hourly subset\n",
    "# gauge_df = gauge_df.iloc[::3]"
   ]
  },
  {
   "cell_type": "code",
   "execution_count": null,
   "id": "1f81e778-118c-4618-b78e-24ffe7c278f4",
   "metadata": {
    "tags": []
   },
   "outputs": [],
   "source": [
    "# Export stations being processed to file\n",
    "sites_df = gauge_df.groupby(\"site_code\").first().iloc[:, 3:]\n",
    "sites_gdf = gpd.GeoDataFrame(data=sites_df, geometry=gpd.points_from_xy(sites_df.longitude, sites_df.latitude))\n",
    "sites_gdf.to_file(\"gesla_stations_aus.geojson\")"
   ]
  },
  {
   "cell_type": "markdown",
   "id": "6079bb09-1e37-488f-9c7c-dcb50ed62d6b",
   "metadata": {},
   "source": [
    "## Model tides at each gauge"
   ]
  },
  {
   "cell_type": "code",
   "execution_count": null,
   "id": "846bd768-1dc2-4bc8-8028-6d43fe90f71a",
   "metadata": {
    "tags": []
   },
   "outputs": [],
   "source": [
    "from dea_tools.coastal import model_tides\n",
    "\n",
    "ensemble_funcs = {\n",
    "    \"ensemble-top\": lambda x: x[\"rank\"] == 1,\n",
    "    \"ensemble-bottom\": lambda x: x[\"rank\"] == 7,\n",
    "    \"ensemble-mean-top3\": lambda x: x[\"rank\"] <= 3,\n",
    "    \"ensemble-mean-top5\": lambda x: x[\"rank\"] <= 5,\n",
    "    \"ensemble-mean-weighted\": lambda x: 8 - x[\"rank\"],\n",
    "    \"ensemble-mean\": lambda x: x[\"rank\"] <= 7,\n",
    "}\n",
    "\n",
    "tide_df = model_tides(\n",
    "    x=gauge_df.longitude,\n",
    "    y=gauge_df.latitude,\n",
    "    time=gauge_df.index.get_level_values(\"time\"),\n",
    "    model=[\n",
    "        \"FES2014\",\n",
    "        \"FES2012\",\n",
    "        \"TPXO8-atlas-v1\",\n",
    "        \"TPXO9-atlas-v5\",\n",
    "        \"EOT20\",\n",
    "        \"HAMTIDE11\",\n",
    "        \"GOT4.10\",\n",
    "        \"ensemble\",\n",
    "    ],\n",
    "    mode=\"one-to-one\",\n",
    "    parallel_splits=100,\n",
    "    output_format=\"wide\",\n",
    "    ensemble_func=ensemble_funcs,\n",
    ").rename(\n",
    "    {\n",
    "        \"TPXO9-atlas-v5\": \"TPXO9\",\n",
    "        \"TPXO8-atlas\": \"TPXO8\",\n",
    "        \"TPXO8-atlas-v1\": \"TPXO8\",\n",
    "    },\n",
    "    axis=1,\n",
    ")\n",
    "tide_df"
   ]
  },
  {
   "cell_type": "markdown",
   "id": "10b688b2-a57a-409b-8f89-effab80b5c36",
   "metadata": {},
   "source": [
    "Pre-process into long format:"
   ]
  },
  {
   "cell_type": "code",
   "execution_count": null,
   "id": "c578bfd5-26cc-4720-95ae-f36fd9a7d61c",
   "metadata": {
    "tags": []
   },
   "outputs": [],
   "source": [
    "# Add tide gauge data to dataframe\n",
    "tide_df[\"site_code\"] = gauge_df.index.get_level_values(\"site_code\").values\n",
    "tide_df[\"site_name\"] = gauge_df.site_name.values\n",
    "tide_df[\"tide_gauge\"] = gauge_df.sea_level.values\n",
    "\n",
    "# Reshape to long format\n",
    "tide_df_long = tide_df.melt(\n",
    "    ignore_index=False,\n",
    "    id_vars=[\"tide_gauge\", \"site_code\", \"site_name\"],\n",
    "    value_vars=[\n",
    "        \"EOT20\",\n",
    "        \"FES2012\",\n",
    "        \"FES2014\",\n",
    "        \"GOT4.10\",\n",
    "        \"HAMTIDE11\",\n",
    "        \"TPXO9\",\n",
    "        \"TPXO8\",\n",
    "        \"ensemble-top\",\n",
    "        \"ensemble-bottom\",\n",
    "        \"ensemble-mean-top3\",\n",
    "        # \"ensemble-mean-top5\",\n",
    "        # \"ensemble-mean-weighted\",\n",
    "        \"ensemble-mean\",\n",
    "    ],\n",
    "    value_name=\"tide_m\",\n",
    ")\n",
    "\n",
    "tide_df_long"
   ]
  },
  {
   "cell_type": "markdown",
   "id": "602d59d6-0eae-4324-acbf-b8ba711f9c6d",
   "metadata": {},
   "source": [
    "## Analysis\n"
   ]
  },
  {
   "cell_type": "markdown",
   "id": "a3015aa4-5919-44a0-9dfd-64eed7bfd1f3",
   "metadata": {
    "tags": []
   },
   "source": [
    "### Overall accuracy stats for each model"
   ]
  },
  {
   "cell_type": "code",
   "execution_count": null,
   "id": "802191f0-0dc8-4741-a85e-a3c752ec25b5",
   "metadata": {
    "tags": []
   },
   "outputs": [],
   "source": [
    "accuracy_df = tide_df_long.groupby([\"tide_model\"])[[\"tide_gauge\", \"tide_m\"]].apply(\n",
    "    lambda x: eval_metrics(x=x.tide_gauge, y=x.tide_m, round=4)\n",
    ")\n",
    "accuracy_df.sort_values(\"RMSE\").style.background_gradient(\n",
    "    cmap=\"RdBu_r\",\n",
    "    subset=[\"RMSE\"],\n",
    ")"
   ]
  },
  {
   "cell_type": "markdown",
   "id": "535a0375-3e37-48d0-aa1c-7987e63a5bb2",
   "metadata": {
    "tags": []
   },
   "source": [
    "### Model stats per site"
   ]
  },
  {
   "cell_type": "code",
   "execution_count": null,
   "id": "33d81da7-844d-417b-b644-cfcb584b9792",
   "metadata": {
    "tags": []
   },
   "outputs": [],
   "source": [
    "accuracy_sites_df = tide_df_long.groupby([\"site_name\", \"tide_model\"])[\n",
    "    [\"tide_gauge\", \"tide_m\"]\n",
    "].apply(lambda x: eval_metrics(x=x.tide_gauge, y=x.tide_m, round=4))"
   ]
  },
  {
   "cell_type": "markdown",
   "id": "aa7f1840-e948-4ef4-9c06-29dc5bb6bae0",
   "metadata": {},
   "source": [
    "#### Performance at sites with most model disagreement"
   ]
  },
  {
   "cell_type": "code",
   "execution_count": null,
   "id": "a4b016b8-fa4d-4bb5-b18a-ecb1825a41be",
   "metadata": {
    "tags": []
   },
   "outputs": [],
   "source": [
    "# Standard models\n",
    "default_models = [\n",
    "    \"FES2014\",\n",
    "    \"FES2012\",\n",
    "    \"TPXO8\",\n",
    "    \"TPXO9\",\n",
    "    \"EOT20\",\n",
    "    \"HAMTIDE11\",\n",
    "    \"GOT4.10\",\n",
    "]\n",
    "\n",
    "# Identify sites with highest standard deviation / disagrement\n",
    "most_disagrement = (\n",
    "    accuracy_sites_df.query(\"tide_model in @default_models\")\n",
    "    .groupby(\"site_name\")[\"RMSE\"]\n",
    "    .std()\n",
    "    .nlargest(10)\n",
    "    .index\n",
    ")\n",
    "most_disagrement"
   ]
  },
  {
   "cell_type": "code",
   "execution_count": null,
   "id": "aac0dded-9cfc-4f9c-9128-3960668a3314",
   "metadata": {
    "tags": []
   },
   "outputs": [],
   "source": [
    "accuracy_df = (\n",
    "    tide_df_long.query(\"site_name in @most_disagrement\")\n",
    "    .groupby([\"tide_model\"])[[\"tide_gauge\", \"tide_m\"]]\n",
    "    .apply(lambda x: eval_metrics(x=x.tide_gauge, y=x.tide_m, round=4))\n",
    ")\n",
    "accuracy_df.sort_values(\"RMSE\").sort_values(\"RMSE\").style.background_gradient(\n",
    "    cmap=\"RdBu_r\",\n",
    "    subset=[\"RMSE\"],\n",
    ")"
   ]
  },
  {
   "cell_type": "markdown",
   "id": "d5496769-3a2b-4cdd-8c1f-615e771685cc",
   "metadata": {},
   "source": [
    "#### Top results per site per model"
   ]
  },
  {
   "cell_type": "code",
   "execution_count": null,
   "id": "0b21f9fe-345e-4a77-9a44-402376bdbb1e",
   "metadata": {
    "tags": []
   },
   "outputs": [],
   "source": [
    "accuracy_sites_df.loc[\n",
    "    accuracy_sites_df\n",
    "    .groupby(\"site_name\")\n",
    "    .RMSE.idxmin()\n",
    "].reset_index().tide_model.value_counts()"
   ]
  },
  {
   "cell_type": "code",
   "execution_count": null,
   "id": "b80d9114-c9b9-4677-a1ec-baa4f288846b",
   "metadata": {
    "tags": []
   },
   "outputs": [],
   "source": [
    "# Excluding EOT20\n",
    "accuracy_sites_df.loc[\n",
    "    accuracy_sites_df.query(\n",
    "        \"tide_model not in ['EOT20']\"\n",
    "    )\n",
    "    .groupby(\"site_name\")\n",
    "    .RMSE.idxmin()\n",
    "].reset_index().tide_model.value_counts()"
   ]
  },
  {
   "cell_type": "markdown",
   "id": "62aba705-e20e-49ce-ab97-04f363b9db0c",
   "metadata": {},
   "source": [
    "#### Bottom results per site per model"
   ]
  },
  {
   "cell_type": "code",
   "execution_count": null,
   "id": "77c69725-972c-49b6-a804-c7a3134e5b8d",
   "metadata": {
    "tags": []
   },
   "outputs": [],
   "source": [
    "accuracy_sites_df.loc[\n",
    "    accuracy_sites_df\n",
    "    .groupby(\"site_name\")\n",
    "    .RMSE.idxmax()\n",
    "].reset_index().tide_model.value_counts()"
   ]
  },
  {
   "cell_type": "markdown",
   "id": "12315e89-e14f-454d-9568-d2e1cd5c946e",
   "metadata": {},
   "source": [
    "#### Plot rankings as histogram"
   ]
  },
  {
   "cell_type": "code",
   "execution_count": null,
   "id": "c43482ce-ba85-48d4-9bf5-ba269dcd18f4",
   "metadata": {
    "tags": []
   },
   "outputs": [],
   "source": [
    "rank_counts = (\n",
    "    accuracy_sites_df.groupby(\"site_name\")\n",
    "    .RMSE.rank(method=\"min\")\n",
    "    .groupby(\"tide_model\")\n",
    "    .value_counts()\n",
    "    .rename_axis([\"tide_model\", \"Rank (RMSE)\"])\n",
    ")\n",
    "\n",
    "g = sns.FacetGrid(\n",
    "    rank_counts.to_frame().reset_index(),\n",
    "    col_order=[\n",
    "        \"EOT20\",\n",
    "        \"ensemble-mean-top3\",\n",
    "        \"TPXO9\",\n",
    "        \"FES2014\",\n",
    "        \"TPXO8\",\n",
    "        \"FES2012\",\n",
    "        \"HAMTIDE11\",\n",
    "        \"GOT4.10\",\n",
    "    ],\n",
    "    col=\"tide_model\",\n",
    "    aspect=0.7,\n",
    "    height=4,\n",
    ")\n",
    "g.set_titles(col_template=\"{col_name}\")\n",
    "g.map(sns.barplot, \"Rank (RMSE)\", \"count\")"
   ]
  },
  {
   "cell_type": "markdown",
   "id": "2b2494d3-f70a-4ab2-aabf-ef0fea9c66b0",
   "metadata": {},
   "source": [
    "### Export tide validation plots"
   ]
  },
  {
   "cell_type": "code",
   "execution_count": null,
   "id": "c6372ce4-a0ff-4f16-876c-33516e45039b",
   "metadata": {
    "tags": []
   },
   "outputs": [],
   "source": [
    "# # Calculate tide range per site\n",
    "# tide_range = (\n",
    "#     tide_df_long.groupby(\"site_name\")[\"tide_gauge\"]\n",
    "#     .apply(lambda x: np.abs(x).max())\n",
    "#     .sort_values()\n",
    "# )\n",
    "\n",
    "# Select subset\n",
    "# sites, limits, title = tide_range.loc[tide_range >= 2].index, 5, \"Macrotidal sites\"\n",
    "# sites, limits, title = tide_range.loc[(tide_range >= 1) & (tide_range < 2)].index, 2, \"Mesotidal sites\"\n",
    "# sites, limits, title = tide_range.loc[tide_range < 1].index, 1, \"Microtidal sites\"\n",
    "\n",
    "# Optionally restrict to subset\n",
    "site_filter = [\n",
    "    # \"DYDBY01\",\n",
    "    # \"63090\",\n",
    "    # \"59511\",\n",
    "    # \"59510\",\n",
    "    # \"61800\",\n",
    "    # \"59690\",\n",
    "    # \"61840\",\n",
    "    # \"61600\",\n",
    "    # \"58170\",\n",
    "    # \"60780\",\n",
    "    # \"60739\",\n",
    "    # \"60590\",\n",
    "    # \"63511\",\n",
    "    # \"59980\",\n",
    "    # \"60710\",\n",
    "    # \"60730\",\n",
    "    \"59850\",\n",
    "]\n",
    "site_filter = most_disagrement.tolist()\n",
    "# site_filter = [\"Milner_Bay_Groote_Eylandt\"]\n",
    "sites, limits, title = site_filter, 3, \"Problematic sites\" \n",
    "models_to_plot = ['EOT20', 'FES2012', 'FES2014', 'GOT4.10', 'HAMTIDE11', \n",
    "                  'TPXO9', 'TPXO8', 'ensemble-mean-top3']\n",
    "\n",
    "# Plot facetted\n",
    "g = sns.FacetGrid(\n",
    "     tide_df_long.query(f\"(site_name in {sites}) & (tide_model in @models_to_plot)\").reset_index(),\n",
    "    col=\"tide_model\",\n",
    "    row=\"site_name\",\n",
    "    margin_titles=True,\n",
    "    # xlim=(-limits, limits),\n",
    "    # ylim=(-limits, limits),\n",
    ")\n",
    "g.fig.suptitle(title, size=20)\n",
    "g.set_titles(row_template=\"{row_name}\", col_template=\"{col_name}\")\n",
    "g.map(sns.scatterplot, \"tide_gauge\", \"tide_m\", alpha=0.1, linewidth=0, s=3)\n",
    "for a in g.axes.flat:\n",
    "    a.plot([-limits, limits], [-limits, limits], \"--\", c=\"black\")\n",
    "g.savefig(f\"{title.replace(' ', '')}.jpg\")"
   ]
  },
  {
   "cell_type": "code",
   "execution_count": null,
   "id": "2251bee0-965c-42dc-9517-b71a92e1207b",
   "metadata": {},
   "outputs": [],
   "source": []
  },
  {
   "cell_type": "code",
   "execution_count": null,
   "id": "78fef179-1a5d-40c6-8050-0dd86531745d",
   "metadata": {},
   "outputs": [],
   "source": []
  },
  {
   "cell_type": "code",
   "execution_count": null,
   "id": "eca9ccfe-9cd1-4d86-83b3-86a3de43db10",
   "metadata": {},
   "outputs": [],
   "source": []
  },
  {
   "cell_type": "code",
   "execution_count": 4,
   "id": "cb33d496-4c98-4d64-aece-bc1eacb8653a",
   "metadata": {},
   "outputs": [],
   "source": [
    "points_gdf = gpd.read_file(\"https://data.dea.ga.gov.au/derivative/dea_coastlines/2-1-0/coastlines_v2.1.0.gpkg\", layer=\"hotspots_zoom_2\")"
   ]
  },
  {
   "cell_type": "code",
   "execution_count": 5,
   "id": "2368bc0a-99e8-40bb-9965-80e90f13c4ea",
   "metadata": {},
   "outputs": [],
   "source": [
    "states_gdf = gpd.read_file(\"/gdata1/data/boundaries/GEODATA_COAST_100K/new_south_wales/cstnswcd_r.shp\").to_crs(points_gdf.crs)"
   ]
  },
  {
   "cell_type": "code",
   "execution_count": 6,
   "id": "f8fe2374-7668-4b4a-9182-d7588ee6a08d",
   "metadata": {},
   "outputs": [
    {
     "data": {
      "text/html": [
       "<div>\n",
       "<style scoped>\n",
       "    .dataframe tbody tr th:only-of-type {\n",
       "        vertical-align: middle;\n",
       "    }\n",
       "\n",
       "    .dataframe tbody tr th {\n",
       "        vertical-align: top;\n",
       "    }\n",
       "\n",
       "    .dataframe thead th {\n",
       "        text-align: right;\n",
       "    }\n",
       "</style>\n",
       "<table border=\"1\" class=\"dataframe\">\n",
       "  <thead>\n",
       "    <tr style=\"text-align: right;\">\n",
       "      <th></th>\n",
       "      <th>uid</th>\n",
       "      <th>dist_1988</th>\n",
       "      <th>dist_1989</th>\n",
       "      <th>dist_1990</th>\n",
       "      <th>dist_1991</th>\n",
       "      <th>dist_1992</th>\n",
       "      <th>dist_1993</th>\n",
       "      <th>dist_1994</th>\n",
       "      <th>dist_1995</th>\n",
       "      <th>dist_1996</th>\n",
       "      <th>...</th>\n",
       "      <th>dist_2021</th>\n",
       "      <th>dist_2022</th>\n",
       "      <th>rate_time</th>\n",
       "      <th>sig_time</th>\n",
       "      <th>se_time</th>\n",
       "      <th>outl_time</th>\n",
       "      <th>radius_m</th>\n",
       "      <th>certainty</th>\n",
       "      <th>n</th>\n",
       "      <th>geometry</th>\n",
       "    </tr>\n",
       "  </thead>\n",
       "  <tbody>\n",
       "    <tr>\n",
       "      <th>21062</th>\n",
       "      <td>r3due5t3kvh</td>\n",
       "      <td>9.05</td>\n",
       "      <td>7.46</td>\n",
       "      <td>6.52</td>\n",
       "      <td>10.42</td>\n",
       "      <td>6.34</td>\n",
       "      <td>9.64</td>\n",
       "      <td>11.35</td>\n",
       "      <td>7.74</td>\n",
       "      <td>7.85</td>\n",
       "      <td>...</td>\n",
       "      <td>4.04</td>\n",
       "      <td>0.0</td>\n",
       "      <td>-0.131</td>\n",
       "      <td>0.002</td>\n",
       "      <td>0.038</td>\n",
       "      <td></td>\n",
       "      <td>5000</td>\n",
       "      <td>good</td>\n",
       "      <td>224</td>\n",
       "      <td>POINT (1644391.729 -4023395.740)</td>\n",
       "    </tr>\n",
       "    <tr>\n",
       "      <th>21057</th>\n",
       "      <td>r3dud4vqgz9</td>\n",
       "      <td>5.29</td>\n",
       "      <td>3.05</td>\n",
       "      <td>0.94</td>\n",
       "      <td>3.72</td>\n",
       "      <td>6.24</td>\n",
       "      <td>5.31</td>\n",
       "      <td>7.75</td>\n",
       "      <td>6.00</td>\n",
       "      <td>3.89</td>\n",
       "      <td>...</td>\n",
       "      <td>2.89</td>\n",
       "      <td>0.0</td>\n",
       "      <td>-0.051</td>\n",
       "      <td>0.126</td>\n",
       "      <td>0.032</td>\n",
       "      <td></td>\n",
       "      <td>5000</td>\n",
       "      <td>good</td>\n",
       "      <td>235</td>\n",
       "      <td>POINT (1640406.260 -4023177.782)</td>\n",
       "    </tr>\n",
       "    <tr>\n",
       "      <th>21058</th>\n",
       "      <td>r3dudjmd2jg</td>\n",
       "      <td>8.32</td>\n",
       "      <td>6.37</td>\n",
       "      <td>5.32</td>\n",
       "      <td>8.49</td>\n",
       "      <td>4.51</td>\n",
       "      <td>8.63</td>\n",
       "      <td>9.50</td>\n",
       "      <td>7.66</td>\n",
       "      <td>7.08</td>\n",
       "      <td>...</td>\n",
       "      <td>3.91</td>\n",
       "      <td>0.0</td>\n",
       "      <td>-0.121</td>\n",
       "      <td>0.001</td>\n",
       "      <td>0.032</td>\n",
       "      <td></td>\n",
       "      <td>5000</td>\n",
       "      <td>good</td>\n",
       "      <td>525</td>\n",
       "      <td>POINT (1640627.167 -4021756.684)</td>\n",
       "    </tr>\n",
       "    <tr>\n",
       "      <th>21059</th>\n",
       "      <td>r3du9zpx7bf</td>\n",
       "      <td>7.62</td>\n",
       "      <td>5.94</td>\n",
       "      <td>4.38</td>\n",
       "      <td>7.24</td>\n",
       "      <td>3.58</td>\n",
       "      <td>7.80</td>\n",
       "      <td>8.75</td>\n",
       "      <td>7.32</td>\n",
       "      <td>6.88</td>\n",
       "      <td>...</td>\n",
       "      <td>3.73</td>\n",
       "      <td>0.0</td>\n",
       "      <td>-0.107</td>\n",
       "      <td>0.002</td>\n",
       "      <td>0.032</td>\n",
       "      <td></td>\n",
       "      <td>5000</td>\n",
       "      <td>good</td>\n",
       "      <td>544</td>\n",
       "      <td>POINT (1640068.843 -4020504.987)</td>\n",
       "    </tr>\n",
       "    <tr>\n",
       "      <th>21041</th>\n",
       "      <td>r3dug3msvg7</td>\n",
       "      <td>11.89</td>\n",
       "      <td>9.93</td>\n",
       "      <td>11.62</td>\n",
       "      <td>16.12</td>\n",
       "      <td>3.17</td>\n",
       "      <td>10.74</td>\n",
       "      <td>11.56</td>\n",
       "      <td>9.94</td>\n",
       "      <td>10.57</td>\n",
       "      <td>...</td>\n",
       "      <td>5.61</td>\n",
       "      <td>0.0</td>\n",
       "      <td>-0.154</td>\n",
       "      <td>0.014</td>\n",
       "      <td>0.059</td>\n",
       "      <td></td>\n",
       "      <td>5000</td>\n",
       "      <td>good</td>\n",
       "      <td>228</td>\n",
       "      <td>POINT (1645918.102 -4020005.756)</td>\n",
       "    </tr>\n",
       "    <tr>\n",
       "      <th>...</th>\n",
       "      <td>...</td>\n",
       "      <td>...</td>\n",
       "      <td>...</td>\n",
       "      <td>...</td>\n",
       "      <td>...</td>\n",
       "      <td>...</td>\n",
       "      <td>...</td>\n",
       "      <td>...</td>\n",
       "      <td>...</td>\n",
       "      <td>...</td>\n",
       "      <td>...</td>\n",
       "      <td>...</td>\n",
       "      <td>...</td>\n",
       "      <td>...</td>\n",
       "      <td>...</td>\n",
       "      <td>...</td>\n",
       "      <td>...</td>\n",
       "      <td>...</td>\n",
       "      <td>...</td>\n",
       "      <td>...</td>\n",
       "      <td>...</td>\n",
       "    </tr>\n",
       "    <tr>\n",
       "      <th>21052</th>\n",
       "      <td>r3du63p9kxs</td>\n",
       "      <td>6.69</td>\n",
       "      <td>5.90</td>\n",
       "      <td>4.65</td>\n",
       "      <td>9.18</td>\n",
       "      <td>6.86</td>\n",
       "      <td>8.57</td>\n",
       "      <td>8.62</td>\n",
       "      <td>8.64</td>\n",
       "      <td>6.08</td>\n",
       "      <td>...</td>\n",
       "      <td>4.41</td>\n",
       "      <td>0.0</td>\n",
       "      <td>-0.130</td>\n",
       "      <td>0.000</td>\n",
       "      <td>0.032</td>\n",
       "      <td></td>\n",
       "      <td>5000</td>\n",
       "      <td>good</td>\n",
       "      <td>325</td>\n",
       "      <td>POINT (1640808.347 -4029348.805)</td>\n",
       "    </tr>\n",
       "    <tr>\n",
       "      <th>21053</th>\n",
       "      <td>r3du6drq9ns</td>\n",
       "      <td>8.70</td>\n",
       "      <td>7.50</td>\n",
       "      <td>6.48</td>\n",
       "      <td>10.58</td>\n",
       "      <td>9.72</td>\n",
       "      <td>11.90</td>\n",
       "      <td>11.24</td>\n",
       "      <td>10.71</td>\n",
       "      <td>8.87</td>\n",
       "      <td>...</td>\n",
       "      <td>4.78</td>\n",
       "      <td>0.0</td>\n",
       "      <td>-0.152</td>\n",
       "      <td>0.001</td>\n",
       "      <td>0.042</td>\n",
       "      <td></td>\n",
       "      <td>5000</td>\n",
       "      <td>good</td>\n",
       "      <td>216</td>\n",
       "      <td>POINT (1641869.059 -4028630.665)</td>\n",
       "    </tr>\n",
       "    <tr>\n",
       "      <th>21054</th>\n",
       "      <td>r3du6sqj6rv</td>\n",
       "      <td>8.22</td>\n",
       "      <td>6.96</td>\n",
       "      <td>5.66</td>\n",
       "      <td>9.56</td>\n",
       "      <td>10.61</td>\n",
       "      <td>12.75</td>\n",
       "      <td>14.08</td>\n",
       "      <td>10.84</td>\n",
       "      <td>9.21</td>\n",
       "      <td>...</td>\n",
       "      <td>5.18</td>\n",
       "      <td>0.0</td>\n",
       "      <td>-0.131</td>\n",
       "      <td>0.008</td>\n",
       "      <td>0.046</td>\n",
       "      <td></td>\n",
       "      <td>5000</td>\n",
       "      <td>good</td>\n",
       "      <td>216</td>\n",
       "      <td>POINT (1641890.805 -4027424.812)</td>\n",
       "    </tr>\n",
       "    <tr>\n",
       "      <th>21055</th>\n",
       "      <td>r3du6wwkh7z</td>\n",
       "      <td>7.94</td>\n",
       "      <td>6.49</td>\n",
       "      <td>4.73</td>\n",
       "      <td>8.45</td>\n",
       "      <td>11.27</td>\n",
       "      <td>12.86</td>\n",
       "      <td>14.95</td>\n",
       "      <td>10.57</td>\n",
       "      <td>8.82</td>\n",
       "      <td>...</td>\n",
       "      <td>4.21</td>\n",
       "      <td>0.0</td>\n",
       "      <td>-0.125</td>\n",
       "      <td>0.016</td>\n",
       "      <td>0.049</td>\n",
       "      <td></td>\n",
       "      <td>5000</td>\n",
       "      <td>good</td>\n",
       "      <td>183</td>\n",
       "      <td>POINT (1642120.913 -4026097.963)</td>\n",
       "    </tr>\n",
       "    <tr>\n",
       "      <th>21056</th>\n",
       "      <td>r3dud2sbtpm</td>\n",
       "      <td>7.16</td>\n",
       "      <td>5.85</td>\n",
       "      <td>3.16</td>\n",
       "      <td>7.44</td>\n",
       "      <td>9.82</td>\n",
       "      <td>10.43</td>\n",
       "      <td>11.93</td>\n",
       "      <td>9.26</td>\n",
       "      <td>7.59</td>\n",
       "      <td>...</td>\n",
       "      <td>3.63</td>\n",
       "      <td>0.0</td>\n",
       "      <td>-0.107</td>\n",
       "      <td>0.012</td>\n",
       "      <td>0.040</td>\n",
       "      <td></td>\n",
       "      <td>5000</td>\n",
       "      <td>good</td>\n",
       "      <td>200</td>\n",
       "      <td>POINT (1641120.901 -4024787.355)</td>\n",
       "    </tr>\n",
       "  </tbody>\n",
       "</table>\n",
       "<p>942 rows × 44 columns</p>\n",
       "</div>"
      ],
      "text/plain": [
       "               uid  dist_1988  dist_1989  dist_1990  dist_1991  dist_1992  \\\n",
       "21062  r3due5t3kvh       9.05       7.46       6.52      10.42       6.34   \n",
       "21057  r3dud4vqgz9       5.29       3.05       0.94       3.72       6.24   \n",
       "21058  r3dudjmd2jg       8.32       6.37       5.32       8.49       4.51   \n",
       "21059  r3du9zpx7bf       7.62       5.94       4.38       7.24       3.58   \n",
       "21041  r3dug3msvg7      11.89       9.93      11.62      16.12       3.17   \n",
       "...            ...        ...        ...        ...        ...        ...   \n",
       "21052  r3du63p9kxs       6.69       5.90       4.65       9.18       6.86   \n",
       "21053  r3du6drq9ns       8.70       7.50       6.48      10.58       9.72   \n",
       "21054  r3du6sqj6rv       8.22       6.96       5.66       9.56      10.61   \n",
       "21055  r3du6wwkh7z       7.94       6.49       4.73       8.45      11.27   \n",
       "21056  r3dud2sbtpm       7.16       5.85       3.16       7.44       9.82   \n",
       "\n",
       "       dist_1993  dist_1994  dist_1995  dist_1996  ...  dist_2021  dist_2022  \\\n",
       "21062       9.64      11.35       7.74       7.85  ...       4.04        0.0   \n",
       "21057       5.31       7.75       6.00       3.89  ...       2.89        0.0   \n",
       "21058       8.63       9.50       7.66       7.08  ...       3.91        0.0   \n",
       "21059       7.80       8.75       7.32       6.88  ...       3.73        0.0   \n",
       "21041      10.74      11.56       9.94      10.57  ...       5.61        0.0   \n",
       "...          ...        ...        ...        ...  ...        ...        ...   \n",
       "21052       8.57       8.62       8.64       6.08  ...       4.41        0.0   \n",
       "21053      11.90      11.24      10.71       8.87  ...       4.78        0.0   \n",
       "21054      12.75      14.08      10.84       9.21  ...       5.18        0.0   \n",
       "21055      12.86      14.95      10.57       8.82  ...       4.21        0.0   \n",
       "21056      10.43      11.93       9.26       7.59  ...       3.63        0.0   \n",
       "\n",
       "       rate_time  sig_time  se_time  outl_time  radius_m  certainty    n  \\\n",
       "21062     -0.131     0.002    0.038                 5000       good  224   \n",
       "21057     -0.051     0.126    0.032                 5000       good  235   \n",
       "21058     -0.121     0.001    0.032                 5000       good  525   \n",
       "21059     -0.107     0.002    0.032                 5000       good  544   \n",
       "21041     -0.154     0.014    0.059                 5000       good  228   \n",
       "...          ...       ...      ...        ...       ...        ...  ...   \n",
       "21052     -0.130     0.000    0.032                 5000       good  325   \n",
       "21053     -0.152     0.001    0.042                 5000       good  216   \n",
       "21054     -0.131     0.008    0.046                 5000       good  216   \n",
       "21055     -0.125     0.016    0.049                 5000       good  183   \n",
       "21056     -0.107     0.012    0.040                 5000       good  200   \n",
       "\n",
       "                               geometry  \n",
       "21062  POINT (1644391.729 -4023395.740)  \n",
       "21057  POINT (1640406.260 -4023177.782)  \n",
       "21058  POINT (1640627.167 -4021756.684)  \n",
       "21059  POINT (1640068.843 -4020504.987)  \n",
       "21041  POINT (1645918.102 -4020005.756)  \n",
       "...                                 ...  \n",
       "21052  POINT (1640808.347 -4029348.805)  \n",
       "21053  POINT (1641869.059 -4028630.665)  \n",
       "21054  POINT (1641890.805 -4027424.812)  \n",
       "21055  POINT (1642120.913 -4026097.963)  \n",
       "21056  POINT (1641120.901 -4024787.355)  \n",
       "\n",
       "[942 rows x 44 columns]"
      ]
     },
     "execution_count": 6,
     "metadata": {},
     "output_type": "execute_result"
    }
   ],
   "source": [
    "points_nsw_gdf = points_gdf.clip(states_gdf)\n",
    "points_nsw_gdf"
   ]
  },
  {
   "cell_type": "code",
   "execution_count": 7,
   "id": "dad084b0-3092-4854-87e3-5292d849c95b",
   "metadata": {},
   "outputs": [
    {
     "name": "stdout",
     "output_type": "stream",
     "text": [
      "Running ensemble tide modelling\n",
      "Modelling tides using FES2014, TPXO9-atlas-v5, EOT20, HAMTIDE11, GOT4.10, FES2012, TPXO8-atlas-v1 in parallel\n"
     ]
    },
    {
     "name": "stderr",
     "output_type": "stream",
     "text": [
      "100%|██████████| 700/700 [20:09<00:00,  1.73s/it]  \n"
     ]
    },
    {
     "name": "stdout",
     "output_type": "stream",
     "text": [
      "Interpolating model rankings using IDW interpolation \n",
      "Combining models into single ensemble model\n",
      "Converting to a wide format dataframe\n"
     ]
    },
    {
     "data": {
      "text/html": [
       "<div>\n",
       "<style scoped>\n",
       "    .dataframe tbody tr th:only-of-type {\n",
       "        vertical-align: middle;\n",
       "    }\n",
       "\n",
       "    .dataframe tbody tr th {\n",
       "        vertical-align: top;\n",
       "    }\n",
       "\n",
       "    .dataframe thead th {\n",
       "        text-align: right;\n",
       "    }\n",
       "</style>\n",
       "<table border=\"1\" class=\"dataframe\">\n",
       "  <thead>\n",
       "    <tr style=\"text-align: right;\">\n",
       "      <th></th>\n",
       "      <th></th>\n",
       "      <th>tide_model</th>\n",
       "      <th>EOT20</th>\n",
       "      <th>FES2012</th>\n",
       "      <th>FES2014</th>\n",
       "      <th>GOT4.10</th>\n",
       "      <th>HAMTIDE11</th>\n",
       "      <th>TPXO8</th>\n",
       "      <th>TPXO9</th>\n",
       "      <th>ensemble</th>\n",
       "    </tr>\n",
       "    <tr>\n",
       "      <th>time</th>\n",
       "      <th>x</th>\n",
       "      <th>y</th>\n",
       "      <th></th>\n",
       "      <th></th>\n",
       "      <th></th>\n",
       "      <th></th>\n",
       "      <th></th>\n",
       "      <th></th>\n",
       "      <th></th>\n",
       "      <th></th>\n",
       "    </tr>\n",
       "  </thead>\n",
       "  <tbody>\n",
       "    <tr>\n",
       "      <th rowspan=\"5\" valign=\"top\">2006-01-01</th>\n",
       "      <th>1.589465e+06</th>\n",
       "      <th>-4.164731e+06</th>\n",
       "      <td>0.834172</td>\n",
       "      <td>0.859840</td>\n",
       "      <td>0.804386</td>\n",
       "      <td>0.781466</td>\n",
       "      <td>0.805511</td>\n",
       "      <td>0.796934</td>\n",
       "      <td>0.797103</td>\n",
       "      <td>0.830372</td>\n",
       "    </tr>\n",
       "    <tr>\n",
       "      <th>1.589743e+06</th>\n",
       "      <th>-4.166606e+06</th>\n",
       "      <td>0.834172</td>\n",
       "      <td>0.862422</td>\n",
       "      <td>0.804391</td>\n",
       "      <td>0.781466</td>\n",
       "      <td>0.805511</td>\n",
       "      <td>0.796934</td>\n",
       "      <td>0.797103</td>\n",
       "      <td>0.831233</td>\n",
       "    </tr>\n",
       "    <tr>\n",
       "      <th>1.590986e+06</th>\n",
       "      <th>-4.164078e+06</th>\n",
       "      <td>0.834172</td>\n",
       "      <td>0.859840</td>\n",
       "      <td>0.804393</td>\n",
       "      <td>0.781466</td>\n",
       "      <td>0.805511</td>\n",
       "      <td>0.795420</td>\n",
       "      <td>0.798352</td>\n",
       "      <td>0.830788</td>\n",
       "    </tr>\n",
       "    <tr>\n",
       "      <th>1.591582e+06</th>\n",
       "      <th>-4.167364e+06</th>\n",
       "      <td>0.834172</td>\n",
       "      <td>0.862422</td>\n",
       "      <td>0.804424</td>\n",
       "      <td>0.781466</td>\n",
       "      <td>0.805511</td>\n",
       "      <td>0.796934</td>\n",
       "      <td>0.797103</td>\n",
       "      <td>0.831233</td>\n",
       "    </tr>\n",
       "    <tr>\n",
       "      <th>1.591642e+06</th>\n",
       "      <th>-4.201466e+06</th>\n",
       "      <td>0.805139</td>\n",
       "      <td>0.858243</td>\n",
       "      <td>0.793298</td>\n",
       "      <td>0.747214</td>\n",
       "      <td>0.798356</td>\n",
       "      <td>0.773553</td>\n",
       "      <td>0.775793</td>\n",
       "      <td>0.813058</td>\n",
       "    </tr>\n",
       "    <tr>\n",
       "      <th>...</th>\n",
       "      <th>...</th>\n",
       "      <th>...</th>\n",
       "      <td>...</td>\n",
       "      <td>...</td>\n",
       "      <td>...</td>\n",
       "      <td>...</td>\n",
       "      <td>...</td>\n",
       "      <td>...</td>\n",
       "      <td>...</td>\n",
       "      <td>...</td>\n",
       "    </tr>\n",
       "    <tr>\n",
       "      <th rowspan=\"5\" valign=\"top\">2023-12-31</th>\n",
       "      <th>2.081501e+06</th>\n",
       "      <th>-3.239350e+06</th>\n",
       "      <td>0.742824</td>\n",
       "      <td>0.773398</td>\n",
       "      <td>0.740712</td>\n",
       "      <td>0.764520</td>\n",
       "      <td>0.753914</td>\n",
       "      <td>0.775481</td>\n",
       "      <td>0.782922</td>\n",
       "      <td>0.753006</td>\n",
       "    </tr>\n",
       "    <tr>\n",
       "      <th>2.081612e+06</th>\n",
       "      <th>-3.246330e+06</th>\n",
       "      <td>0.742824</td>\n",
       "      <td>0.770552</td>\n",
       "      <td>0.738057</td>\n",
       "      <td>0.764520</td>\n",
       "      <td>0.753914</td>\n",
       "      <td>0.773362</td>\n",
       "      <td>0.776337</td>\n",
       "      <td>0.751414</td>\n",
       "    </tr>\n",
       "    <tr>\n",
       "      <th>2.081933e+06</th>\n",
       "      <th>-3.237272e+06</th>\n",
       "      <td>0.742824</td>\n",
       "      <td>0.773398</td>\n",
       "      <td>0.741339</td>\n",
       "      <td>0.764520</td>\n",
       "      <td>0.753914</td>\n",
       "      <td>0.775481</td>\n",
       "      <td>0.783023</td>\n",
       "      <td>0.753215</td>\n",
       "    </tr>\n",
       "    <tr>\n",
       "      <th>2.082103e+06</th>\n",
       "      <th>-3.244006e+06</th>\n",
       "      <td>0.742824</td>\n",
       "      <td>0.770552</td>\n",
       "      <td>0.739010</td>\n",
       "      <td>0.764520</td>\n",
       "      <td>0.753914</td>\n",
       "      <td>0.773362</td>\n",
       "      <td>0.776337</td>\n",
       "      <td>0.751732</td>\n",
       "    </tr>\n",
       "    <tr>\n",
       "      <th>2.082310e+06</th>\n",
       "      <th>-3.244345e+06</th>\n",
       "      <td>0.742824</td>\n",
       "      <td>0.770552</td>\n",
       "      <td>0.738841</td>\n",
       "      <td>0.764520</td>\n",
       "      <td>0.753914</td>\n",
       "      <td>0.773362</td>\n",
       "      <td>0.776337</td>\n",
       "      <td>0.751676</td>\n",
       "    </tr>\n",
       "  </tbody>\n",
       "</table>\n",
       "<p>148603326 rows × 8 columns</p>\n",
       "</div>"
      ],
      "text/plain": [
       "tide_model                                EOT20   FES2012   FES2014   GOT4.10  \\\n",
       "time       x            y                                                       \n",
       "2006-01-01 1.589465e+06 -4.164731e+06  0.834172  0.859840  0.804386  0.781466   \n",
       "           1.589743e+06 -4.166606e+06  0.834172  0.862422  0.804391  0.781466   \n",
       "           1.590986e+06 -4.164078e+06  0.834172  0.859840  0.804393  0.781466   \n",
       "           1.591582e+06 -4.167364e+06  0.834172  0.862422  0.804424  0.781466   \n",
       "           1.591642e+06 -4.201466e+06  0.805139  0.858243  0.793298  0.747214   \n",
       "...                                         ...       ...       ...       ...   \n",
       "2023-12-31 2.081501e+06 -3.239350e+06  0.742824  0.773398  0.740712  0.764520   \n",
       "           2.081612e+06 -3.246330e+06  0.742824  0.770552  0.738057  0.764520   \n",
       "           2.081933e+06 -3.237272e+06  0.742824  0.773398  0.741339  0.764520   \n",
       "           2.082103e+06 -3.244006e+06  0.742824  0.770552  0.739010  0.764520   \n",
       "           2.082310e+06 -3.244345e+06  0.742824  0.770552  0.738841  0.764520   \n",
       "\n",
       "tide_model                             HAMTIDE11     TPXO8     TPXO9  ensemble  \n",
       "time       x            y                                                       \n",
       "2006-01-01 1.589465e+06 -4.164731e+06   0.805511  0.796934  0.797103  0.830372  \n",
       "           1.589743e+06 -4.166606e+06   0.805511  0.796934  0.797103  0.831233  \n",
       "           1.590986e+06 -4.164078e+06   0.805511  0.795420  0.798352  0.830788  \n",
       "           1.591582e+06 -4.167364e+06   0.805511  0.796934  0.797103  0.831233  \n",
       "           1.591642e+06 -4.201466e+06   0.798356  0.773553  0.775793  0.813058  \n",
       "...                                          ...       ...       ...       ...  \n",
       "2023-12-31 2.081501e+06 -3.239350e+06   0.753914  0.775481  0.782922  0.753006  \n",
       "           2.081612e+06 -3.246330e+06   0.753914  0.773362  0.776337  0.751414  \n",
       "           2.081933e+06 -3.237272e+06   0.753914  0.775481  0.783023  0.753215  \n",
       "           2.082103e+06 -3.244006e+06   0.753914  0.773362  0.776337  0.751732  \n",
       "           2.082310e+06 -3.244345e+06   0.753914  0.773362  0.776337  0.751676  \n",
       "\n",
       "[148603326 rows x 8 columns]"
      ]
     },
     "execution_count": 7,
     "metadata": {},
     "output_type": "execute_result"
    }
   ],
   "source": [
    "from dea_tools.coastal import model_tides\n",
    "\n",
    "tide_df = model_tides(\n",
    "    x=points_nsw_gdf.geometry.x,\n",
    "    y=points_nsw_gdf.geometry.y,\n",
    "    time=pd.date_range(\"2006-01-01\", \"2023-12-31\", freq=\"1h\"),\n",
    "    crs=points_gdf.crs,\n",
    "    model=[\n",
    "        \"FES2014\",\n",
    "        \"FES2012\",\n",
    "        \"TPXO8-atlas-v1\",\n",
    "        \"TPXO9-atlas-v5\",\n",
    "        \"EOT20\",\n",
    "        \"HAMTIDE11\",\n",
    "        \"GOT4.10\",\n",
    "        \"ensemble\",\n",
    "    ],\n",
    "    # mode=\"one-to-one\",\n",
    "    parallel_splits=100,\n",
    "    output_format=\"wide\",\n",
    ").rename(\n",
    "    {\n",
    "        \"TPXO9-atlas-v5\": \"TPXO9\",\n",
    "        \"TPXO8-atlas\": \"TPXO8\",\n",
    "        \"TPXO8-atlas-v1\": \"TPXO8\",\n",
    "    },\n",
    "    axis=1,\n",
    ")\n",
    "tide_df"
   ]
  },
  {
   "cell_type": "code",
   "execution_count": null,
   "id": "caa10a43-628c-4b7d-8f38-edb44fb5cabd",
   "metadata": {
    "tags": []
   },
   "outputs": [],
   "source": [
    "(tide_df * 1000).astype(\"int16\").to_csv(\"nsw_tides_experimental_mm.csv\")"
   ]
  },
  {
   "cell_type": "code",
   "execution_count": 10,
   "id": "842715a5-5e74-4db3-a393-97b473f2786f",
   "metadata": {
    "tags": []
   },
   "outputs": [],
   "source": [
    "tide_df_grouped = tide_df.groupby([\"x\", \"y\"])"
   ]
  },
  {
   "cell_type": "code",
   "execution_count": 17,
   "id": "cd17b438-88b5-43c2-a613-2f4c10e88986",
   "metadata": {},
   "outputs": [],
   "source": [
    "tide_df_range = (tide_df_grouped.max() - tide_df_grouped.min()).round(3)"
   ]
  },
  {
   "cell_type": "code",
   "execution_count": 38,
   "id": "fe41ec2d-586d-41da-bde1-dce397c1b706",
   "metadata": {},
   "outputs": [],
   "source": [
    "gpd.GeoDataFrame(\n",
    "    data=tide_df_range,\n",
    "    geometry=gpd.points_from_xy(\n",
    "        x=tide_df_range.index.get_level_values(\"x\"),\n",
    "        y=tide_df_range.index.get_level_values(\"y\"),\n",
    "    ),\n",
    "    crs=points_gdf.crs,\n",
    ").to_crs(\"EPSG:4326\").to_file(\"nsw_tide_range_experimental.geojson\")"
   ]
  },
  {
   "cell_type": "code",
   "execution_count": 24,
   "id": "f91e7c2e-1d5c-4a9a-9062-2a17e1385f4d",
   "metadata": {},
   "outputs": [
    {
     "data": {
      "text/plain": [
       "0      POINT (1644391.729 -4023395.740)\n",
       "1      POINT (1640406.260 -4023177.782)\n",
       "2      POINT (1640627.167 -4021756.684)\n",
       "3      POINT (1640068.843 -4020504.987)\n",
       "4      POINT (1645918.102 -4020005.756)\n",
       "                     ...               \n",
       "937    POINT (1640808.347 -4029348.805)\n",
       "938    POINT (1641869.059 -4028630.665)\n",
       "939    POINT (1641890.805 -4027424.812)\n",
       "940    POINT (1642120.913 -4026097.963)\n",
       "941    POINT (1641120.901 -4024787.355)\n",
       "Name: geometry, Length: 942, dtype: geometry"
      ]
     },
     "execution_count": 24,
     "metadata": {},
     "output_type": "execute_result"
    }
   ],
   "source": [
    "points_nsw_gdf.geometry.reset_index(drop=True)\n"
   ]
  },
  {
   "cell_type": "code",
   "execution_count": null,
   "id": "53a694d9-9746-4fdc-a44a-77b8a7c6abdb",
   "metadata": {},
   "outputs": [],
   "source": []
  },
  {
   "cell_type": "code",
   "execution_count": null,
   "id": "b186cf42-8e47-4da7-852b-4217595e0ea7",
   "metadata": {},
   "outputs": [],
   "source": []
  },
  {
   "cell_type": "markdown",
   "id": "aa9a6790-35e2-4bca-a2a2-1e80c411361d",
   "metadata": {},
   "source": [
    "### Tide gauge weighting"
   ]
  },
  {
   "cell_type": "code",
   "execution_count": null,
   "id": "b499fcd7-65f5-4d00-8f1c-a78cdca209ae",
   "metadata": {
    "tags": []
   },
   "outputs": [],
   "source": [
    "models = [\"EOT20\", \"FES2012\", \"FES2014\", \"GOT4.10\", \"HAMTIDE11\", \"TPXO8\", \"TPXO9\"]\n",
    "\n",
    "# Convert to wide\n",
    "wide_df = accuracy_sites_df[\"RMSE\"].unstack(\"tide_model\").reset_index()\n",
    "wide_df = wide_df.set_index(\"site_name\")[models]\n",
    "wide_df"
   ]
  },
  {
   "cell_type": "markdown",
   "id": "6f208b0a-3dc4-43fa-89b6-e530adff99a7",
   "metadata": {},
   "source": [
    "#### Correlation weighting (alternative)"
   ]
  },
  {
   "cell_type": "code",
   "execution_count": null,
   "id": "ef543472-f490-42a6-ba9d-031f130e918f",
   "metadata": {
    "tags": []
   },
   "outputs": [],
   "source": [
    "models = [\"EOT20\", \"FES2012\", \"FES2014\", \"GOT4.10\", \"HAMTIDE11\", \"TPXO8\", \"TPXO9\"]\n",
    "corr_results_gesla = gpd.read_file(\"corr_results_gesla_v3.geojson\")\n",
    "\n",
    "wide_df = (\n",
    "    corr_results_gesla\n",
    "    .rename(\n",
    "        {\"point_id\": \"site_name\", \"TPXO8-atlas-v1\": \"TPXO8\", \"TPXO9-atlas-v5\": \"TPXO9\"},\n",
    "        axis=1,\n",
    "    )\n",
    "    .set_index(\"site_name\")[models]\n",
    "    .dropna(axis=0)\n",
    ")\n",
    "\n",
    "wide_df = 1 - wide_df\n",
    "\n",
    "wide_df"
   ]
  },
  {
   "cell_type": "markdown",
   "id": "81696a17-8a8e-49dd-9fe9-979dd781ffb8",
   "metadata": {},
   "source": [
    "### Weight application"
   ]
  },
  {
   "cell_type": "code",
   "execution_count": null,
   "id": "cb609dc8-3db4-480c-ad95-8715ddff7871",
   "metadata": {
    "tags": []
   },
   "outputs": [],
   "source": [
    "def weighted_mean_top_n(gauge_df, altimetry_df, top_n=5):\n",
    "    \n",
    "    # Calculate ranks for each model\n",
    "    ranks_df = altimetry_df.rank(axis=1, ascending=False, method=\"max\")\n",
    "    \n",
    "    # Select top N models\n",
    "    altimetry_weights = (ranks_df - (len(wide_df.columns) - top_n)).clip(0, top_n) ** 10\n",
    " \n",
    "    # Normalise to sum to 1\n",
    "    altimetry_weights = altimetry_weights.divide(altimetry_weights.sum(axis=1), axis=0)    \n",
    "\n",
    "    return (gauge_df * altimetry_weights).sum(axis=1)\n",
    "    "
   ]
  },
  {
   "cell_type": "code",
   "execution_count": null,
   "id": "ff0debc6-10b2-47d3-9c4f-d89ca99c75b0",
   "metadata": {
    "tags": []
   },
   "outputs": [],
   "source": [
    "# Prepare data\n",
    "test_df = tide_df.set_index(\"site_name\", append=True).copy()\n",
    "test_df[\"site_code\"] = gauge_df.index.get_level_values(\"site_code\").values\n",
    "test_df[\"tide_gauge\"] = gauge_df.sea_level.values\n",
    "\n",
    "# Apply different weighting schemes\n",
    "test_df[\"median\"] = test_df[models].median(axis=1)\n",
    "# test_df[\"median_top5\"] = median_top_n(test_df[models], wide_df, top_n=5)\n",
    "test_df[\"median_top3\"] = median_top_n(test_df[models], wide_df, top_n=3)\n",
    "test_df[\"mean\"] = test_df[models].mean(axis=1)\n",
    "# test_df[\"mean_top5\"] = mean_top_n(test_df[models], wide_df, top_n=5)\n",
    "test_df[\"mean_top3\"] = mean_top_n(test_df[models], wide_df, top_n=3)\n",
    "\n",
    "# test_df[\"mean_top2\"] = mean_top_n(test_df[models], wide_df, top_n=2)\n",
    "# test_df[\"top_model\"] = mean_top_n(test_df[models], wide_df, top_n=1)\n",
    "# test_df[\"weighted_mean_power2\"] = weighted_mean_power(test_df[models], wide_df, power=2)\n",
    "# test_df[\"weighted_mean_power5\"] = weighted_mean_power(test_df[models], wide_df, power=5)\n",
    "# test_df[\"weighted_mean_power10\"] = weighted_mean_power(test_df[models], wide_df, power=10)\n",
    "# test_df[\"weighted_mean_top3\"] = weighted_mean_top_n(test_df[models], wide_df, top_n=3)\n",
    "# test_df[\"weighted_mean_top5\"] = weighted_mean_top_n(test_df[models], wide_df, top_n=5)\n",
    "\n",
    "# Reshape to long format\n",
    "tide_df_long = test_df.melt(\n",
    "    ignore_index=False,\n",
    "    id_vars=[\"tide_gauge\", \"site_code\"],\n",
    "    value_name=\"tide_m\",\n",
    ")\n",
    "\n",
    "# Calculate statistics against tide gauge data\n",
    "accuracy_df = tide_df_long.groupby([\"tide_model\"])[[\"tide_gauge\", \"tide_m\"]].apply(\n",
    "    lambda x: eval_metrics(x=x.tide_gauge, y=x.tide_m)\n",
    ")\n",
    "accuracy_df.sort_values(\"RMSE\").style.background_gradient(\n",
    "    cmap=\"RdBu_r\", subset=[\"RMSE\"], vmin=0.15, vmax=0.5\n",
    ")"
   ]
  },
  {
   "cell_type": "code",
   "execution_count": null,
   "id": "72b0e203-fb4f-4f1e-b9b0-8fdb9d19127a",
   "metadata": {
    "tags": []
   },
   "outputs": [],
   "source": [
    "# Prepare data\n",
    "test_df = tide_df.set_index(\"site_name\", append=True).copy()\n",
    "test_df[\"site_code\"] = gauge_df.index.get_level_values(\"site_code\").values\n",
    "test_df[\"tide_gauge\"] = gauge_df.sea_level.values\n",
    "\n",
    "# Apply different weighting schemes\n",
    "test_df[\"median\"] = test_df[models].median(axis=1)\n",
    "# test_df[\"median_top5\"] = median_top_n(test_df[models], wide_df, top_n=5)\n",
    "test_df[\"median_top3\"] = median_top_n(test_df[models], wide_df, top_n=3)\n",
    "test_df[\"mean\"] = test_df[models].mean(axis=1)\n",
    "# test_df[\"mean_top5\"] = mean_top_n(test_df[models], wide_df, top_n=5)\n",
    "test_df[\"mean_top3\"] = mean_top_n(test_df[models], wide_df, top_n=3)\n",
    "\n",
    "# test_df[\"mean_top2\"] = mean_top_n(test_df[models], wide_df, top_n=2)\n",
    "# test_df[\"top_model\"] = mean_top_n(test_df[models], wide_df, top_n=1)\n",
    "# test_df[\"weighted_mean_power2\"] = weighted_mean_power(test_df[models], wide_df, power=2)\n",
    "# test_df[\"weighted_mean_power5\"] = weighted_mean_power(test_df[models], wide_df, power=5)\n",
    "# test_df[\"weighted_mean_power10\"] = weighted_mean_power(test_df[models], wide_df, power=10)\n",
    "# test_df[\"weighted_mean_top3\"] = weighted_mean_top_n(test_df[models], wide_df, top_n=3)\n",
    "# test_df[\"weighted_mean_top5\"] = weighted_mean_top_n(test_df[models], wide_df, top_n=5)\n",
    "\n",
    "# Reshape to long format\n",
    "tide_df_long = test_df.melt(\n",
    "    ignore_index=False,\n",
    "    id_vars=[\"tide_gauge\", \"site_code\"],\n",
    "    value_name=\"tide_m\",\n",
    ")\n",
    "\n",
    "# Calculate statistics against tide gauge data\n",
    "accuracy_df = tide_df_long.groupby([\"tide_model\"])[[\"tide_gauge\", \"tide_m\"]].apply(\n",
    "    lambda x: eval_metrics(x=x.tide_gauge, y=x.tide_m)\n",
    ")\n",
    "accuracy_df.sort_values(\"RMSE\").style.background_gradient(\n",
    "    cmap=\"RdBu_r\", subset=[\"RMSE\"], vmin=0.15, vmax=0.5\n",
    ")"
   ]
  },
  {
   "cell_type": "code",
   "execution_count": null,
   "id": "d0179f71-9ae8-4f02-9235-34040878cc4f",
   "metadata": {
    "tags": []
   },
   "outputs": [],
   "source": [
    "# Compare performance at worst sites\n",
    "accuracy_sites_df = tide_df_long.dropna(axis=0).groupby([\"tide_model\", \"site_code\"])[\n",
    "    [\"tide_gauge\", \"tide_m\"]\n",
    "].apply(lambda x: eval_metrics(x=x.tide_gauge, y=x.tide_m))\n",
    "\n",
    "accuracy_sites_df.groupby([\"tide_model\"]).quantile(0.9).sort_values(\n",
    "    \"RMSE\"\n",
    ").style.background_gradient(cmap=\"RdBu_r\", subset=[\"RMSE\"], vmin=0.15, vmax=0.5)\n"
   ]
  },
  {
   "cell_type": "code",
   "execution_count": null,
   "id": "23528ce5-cebf-4f40-a7b2-06c6a61ba950",
   "metadata": {
    "tags": []
   },
   "outputs": [],
   "source": [
    "# Compare performance at worst sites\n",
    "accuracy_sites_df = tide_df_long.dropna(axis=0).groupby([\"tide_model\", \"site_code\"])[\n",
    "    [\"tide_gauge\", \"tide_m\"]\n",
    "].apply(lambda x: eval_metrics(x=x.tide_gauge, y=x.tide_m))\n",
    "\n",
    "accuracy_sites_df.groupby([\"tide_model\"]).quantile(0.9).sort_values(\n",
    "    \"RMSE\"\n",
    ").style.background_gradient(cmap=\"RdBu_r\", subset=[\"RMSE\"], vmin=0.15, vmax=0.5)\n",
    "\n"
   ]
  },
  {
   "cell_type": "code",
   "execution_count": null,
   "id": "a7f210df-2ae1-4c9a-b940-1050ef7e0eb2",
   "metadata": {
    "tags": []
   },
   "outputs": [],
   "source": [
    "accuracy_sites_df.query('site_code == \"60780\"').sort_values(\n",
    "    \"RMSE\"\n",
    ").style.background_gradient(cmap=\"RdBu_r\", subset=[\"RMSE\"], vmin=0.15, vmax=0.5)"
   ]
  },
  {
   "cell_type": "markdown",
   "id": "9cfbf774-ae8e-4e0f-a3b7-7796cf9c25c6",
   "metadata": {
    "tags": []
   },
   "source": [
    "## Altimetry comparisons"
   ]
  },
  {
   "cell_type": "code",
   "execution_count": null,
   "id": "ca7f3bab-fc85-464b-96dc-627129b13c5d",
   "metadata": {
    "tags": []
   },
   "outputs": [],
   "source": [
    "# Convert to GeoDataFrame\n",
    "wide_df = accuracy_df[\"RMSE\"].unstack(\"tide_model\").reset_index()\n",
    "wide_gdf = gpd.GeoDataFrame(\n",
    "    data=wide_df, geometry=gpd.points_from_xy(x=wide_df.x, y=wide_df.y), crs=\"EPSG:4326\"\n",
    ")"
   ]
  },
  {
   "cell_type": "code",
   "execution_count": null,
   "id": "76d81117-a528-422c-9de7-43bd57c07c17",
   "metadata": {
    "tags": []
   },
   "outputs": [],
   "source": [
    "# Load in altimetry data\n",
    "xtrack_rms_gdf = gpd.read_file(\"/home/jovyan/altimetry/X-TRACK/xtrack_rms_all.geojson\")\n",
    "xtrack_rms_gdf"
   ]
  },
  {
   "cell_type": "code",
   "execution_count": null,
   "id": "b1e39044-4d72-41b9-b1b4-e678d86d416c",
   "metadata": {
    "tags": []
   },
   "outputs": [],
   "source": [
    "# gpd.sjoin_nearest(\n",
    "#         gpd.GeoDataFrame(geometry=gpd.points_from_xy(x=[149.88344], y=[-22.33805], crs=\"EPSG:4326\")),\n",
    "#         xtrack_rms_gdf,\n",
    "#         lsuffix=\"gauge\",\n",
    "#         rsuffix=\"\",\n",
    "#         how=\"left\",\n",
    "#         distance_col=\"dist\",\n",
    "#     )"
   ]
  },
  {
   "cell_type": "code",
   "execution_count": null,
   "id": "bbececf9-b771-44ac-b3fa-eff9367f1b58",
   "metadata": {
    "tags": []
   },
   "outputs": [],
   "source": [
    "model_names = [\"EOT20\", \"FES2012\", \"FES2014\", \"GOT4.10\", \"HAMTIDE11\", \"TPXO8\", \"TPXO9\"]\n",
    "\n",
    "wide_df = wide_gdf.set_index(\"site_name\")[model_names]\n",
    "xtrack_df = (\n",
    "    gpd.sjoin_nearest(\n",
    "        wide_gdf[[\"site_name\", \"geometry\"]],\n",
    "        xtrack_rms_gdf,\n",
    "        lsuffix=\"gauge\",\n",
    "        rsuffix=\"\",\n",
    "        how=\"left\",\n",
    "        distance_col=\"dist\",\n",
    "    )\n",
    "    .set_index(\"site_name\")\n",
    ")\n",
    "\n",
    "# Keep distances between gauge and altimetry points\n",
    "distances = xtrack_df.dist\n",
    "xtrack_df = xtrack_df[model_names] "
   ]
  },
  {
   "cell_type": "markdown",
   "id": "16e7259f-77dd-40cb-b92c-c10bebfafbe7",
   "metadata": {},
   "source": [
    "### Difference between altimetry and gauge RMS"
   ]
  },
  {
   "cell_type": "code",
   "execution_count": null,
   "id": "c41d4838-0a46-4f21-b859-c4e5287b1dd4",
   "metadata": {
    "tags": []
   },
   "outputs": [],
   "source": [
    "with pd.option_context('display.max_rows', 500):\n",
    "    display((xtrack_df - wide_df).reset_index().style.background_gradient(cmap='RdBu', axis=None, vmin=-0.3, vmax=0.3))"
   ]
  },
  {
   "cell_type": "markdown",
   "id": "c98e523a-bea4-4967-9ed7-6459fba1b761",
   "metadata": {},
   "source": [
    "### RMS scatterplot"
   ]
  },
  {
   "cell_type": "code",
   "execution_count": null,
   "id": "bd3ade9d-432d-4737-9af7-4323de157744",
   "metadata": {
    "tags": []
   },
   "outputs": [],
   "source": [
    "gauge_df_long = wide_df.assign(distance=distances).melt(\n",
    "    id_vars=[\"distance\"], value_name=\"Tide gauge (metres RMS)\", ignore_index=False\n",
    ")\n",
    "gauge_df_long[\"Altimetry (metres RMS)\"] = xtrack_df.melt(ignore_index=False).value\n",
    "\n",
    "fig, ax = plt.subplots(figsize=(7, 7))\n",
    "sns.scatterplot(\n",
    "    ax=ax,\n",
    "    data=gauge_df_long,\n",
    "    x=\"Tide gauge (metres RMS)\",\n",
    "    y=\"Altimetry (metres RMS)\",\n",
    "    hue=\"site_name\",\n",
    "    s=50,\n",
    "    palette=sns.color_palette(\"tab20\"),\n",
    "    edgecolor=\"black\",\n",
    "    style=\"tide_model\",\n",
    ")\n",
    "sns.move_legend(ax, \"upper left\", bbox_to_anchor=(1, 1))\n",
    "ax.plot([0.05, 2], [0.05, 2], \"--\", c=\"black\")\n",
    "ax.set_title(\n",
    "    \"Comparison of tide model performance at tide\\ngauge and nearest altimetry observation\"\n",
    ");"
   ]
  },
  {
   "cell_type": "code",
   "execution_count": null,
   "id": "d18fab9d-f0a4-4457-986d-d265a0264fab",
   "metadata": {
    "tags": []
   },
   "outputs": [],
   "source": [
    "import matplotlib \n",
    "\n",
    "fig, ax = plt.subplots(figsize=(7, 7))\n",
    "sns.scatterplot(\n",
    "    ax=ax,\n",
    "    data=gauge_df_long,\n",
    "    x=\"distance\",\n",
    "    y=\"Tide gauge (metres RMS)\",\n",
    "    hue=\"distance\",\n",
    "    # hue_norm=matplotlib.colors.LogNorm(),\n",
    "    s=50,\n",
    "    palette=\"magma\",\n",
    "    edgecolor=\"black\",\n",
    "    style=\"tide_model\",\n",
    ")\n",
    "sns.move_legend(ax, \"upper left\", bbox_to_anchor=(1, 1))\n",
    "# ax.plot([0.05, 2], [0.05, 2], \"--\", c=\"black\")\n",
    "ax.set_title(\n",
    "    \"Comparison of tide model performance at tide\\ngauge and nearest altimetry observation\"\n",
    ");"
   ]
  },
  {
   "cell_type": "markdown",
   "id": "e4e4961f-9eb3-4bb6-9275-e085a613bd4b",
   "metadata": {},
   "source": [
    "### Overall stats"
   ]
  },
  {
   "cell_type": "code",
   "execution_count": null,
   "id": "dc502639-02fd-4890-a654-69e869af8d41",
   "metadata": {
    "tags": []
   },
   "outputs": [],
   "source": [
    "eval_metrics(x=gauge_df_long[\"Tide gauge (metres RMS)\"], \n",
    "             y=gauge_df_long[\"Altimetry (metres RMS)\"])"
   ]
  },
  {
   "cell_type": "markdown",
   "id": "0db2d87d-c0fd-4397-b2e9-b74964ff8b35",
   "metadata": {
    "tags": []
   },
   "source": [
    "### Agreement between top/bottom models"
   ]
  },
  {
   "cell_type": "code",
   "execution_count": null,
   "id": "f0e747ea-0f2e-4206-8a04-a137b2db151d",
   "metadata": {
    "tags": []
   },
   "outputs": [],
   "source": [
    "gauge_worst_n = gauge_df_long.groupby(\"site_name\").apply(lambda x: x.nlargest(4, columns=\"Tide gauge (metres RMS)\", keep='first')).set_index(\"tide_model\", append=True)\n",
    "xtrack_worst_n = gauge_df_long.groupby(\"site_name\").apply(lambda x: x.nlargest(4, columns=\"Altimetry (metres RMS)\", keep=\"first\")).set_index(\"tide_model\", append=True)"
   ]
  },
  {
   "cell_type": "code",
   "execution_count": null,
   "id": "ca1a1857-8cfb-4bfa-81a7-48cbb1c933b2",
   "metadata": {
    "tags": []
   },
   "outputs": [],
   "source": [
    "gauge_worst_n[[\"Tide gauge (metres RMS)\"]].join(xtrack_worst_n[[\"Altimetry (metres RMS)\"]], rsuffix=\"_altimetry\").groupby(\"site_name\").count()"
   ]
  },
  {
   "cell_type": "markdown",
   "id": "294f5e16-37ee-4053-bccc-ab30e83a57bb",
   "metadata": {},
   "source": [
    "### Spearman's correlation between gauge and altimetry per site\n",
    "High values indicate both data sources sort models into the same RMS order"
   ]
  },
  {
   "cell_type": "code",
   "execution_count": null,
   "id": "1aa7bf86-50c3-4566-b80a-304e95386cde",
   "metadata": {
    "tags": []
   },
   "outputs": [],
   "source": [
    "xtrack_df.corrwith(wide_df, axis=1, method=\"spearman\").to_frame().style.background_gradient(cmap='RdBu', axis=None, vmin=-1, vmax=1)"
   ]
  },
  {
   "cell_type": "markdown",
   "id": "98c57f3a-4036-4fbc-971d-22421893cd76",
   "metadata": {
    "tags": []
   },
   "source": [
    "## Weighting test"
   ]
  },
  {
   "cell_type": "code",
   "execution_count": null,
   "id": "42ae3844-72c6-4e58-937f-580b12ab936a",
   "metadata": {
    "tags": []
   },
   "outputs": [],
   "source": [
    "def weighted_median(values, weights):\n",
    "    values = np.array(values)\n",
    "    weights = np.array(weights)\n",
    "    \n",
    "    sort_indices = np.argsort(values)\n",
    "    values_sorted = values[sort_indices]\n",
    "    weights_sorted = weights[sort_indices]  \n",
    "\n",
    "    cumsum = weights_sorted.cumsum()\n",
    "    cutoff = weights_sorted.sum() / 2.\n",
    "    return values_sorted[cumsum >= cutoff][0]\n",
    "\n",
    "\n",
    "# def weighted_quantiles(values, weights, quantiles=0.5):\n",
    "#     i = np.argsort(values)\n",
    "#     c = np.cumsum(weights[i])\n",
    "#     return values[i[np.searchsorted(c, np.array(quantiles) * c[-1])]]\n",
    "\n",
    "# def weighted_median(df, val, weight):\n",
    "#     df_sorted = df.sort_values(val)\n",
    "#     cumsum = df_sorted[weight].cumsum()\n",
    "#     cutoff = df_sorted[weight].sum() / 2.\n",
    "#     return df_sorted[cumsum >= cutoff][val].iloc[0]"
   ]
  },
  {
   "cell_type": "code",
   "execution_count": null,
   "id": "5221cf77-c074-49ac-a138-9514e55f78c8",
   "metadata": {
    "tags": []
   },
   "outputs": [],
   "source": [
    "# weighted_median = test_df[model_names].apply(lambda x: weighted_median(x, xtrack_weights.loc[x.name[3]]), axis=1)"
   ]
  },
  {
   "cell_type": "code",
   "execution_count": null,
   "id": "f7cd13ba-a1bc-40ea-8a2a-bacd4fac2562",
   "metadata": {
    "tags": []
   },
   "outputs": [],
   "source": [
    "def weighted_mean_power(gauge_df, altimetry_df, power=5):\n",
    "    \n",
    "    # Baseline differences to best performing model, then calculate \n",
    "    # power weighting\n",
    "    x = altimetry_df.subtract(altimetry_df.min(axis=1), axis=0)\n",
    "    altimetry_weights = (1 - x.clip(0, 1)) ** power\n",
    "    \n",
    "    # Normalise to sum to 1\n",
    "    altimetry_weights = altimetry_weights.divide(altimetry_weights.sum(axis=1), axis=0)       \n",
    "    \n",
    "    return (gauge_df * altimetry_weights).sum(axis=1)\n",
    "\n",
    "def weighted_mean_power_top_n(gauge_df, altimetry_df, power=5, top_n=3):\n",
    "    \n",
    "    # Calculate ranks for each model\n",
    "    ranks_df = altimetry_df.rank(axis=1)\n",
    "    \n",
    "    # Baseline differences to best performing model, then calculate \n",
    "    # power weighting\n",
    "    x = altimetry_df.subtract(altimetry_df.min(axis=1), axis=0)\n",
    "    altimetry_weights = (1 - x.clip(0, 1)) ** power\n",
    "    altimetry_weights = altimetry_weights.where(ranks_df <= top_n, 0)\n",
    "    \n",
    "    # Normalise to sum to 1\n",
    "    altimetry_weights = altimetry_weights.divide(altimetry_weights.sum(axis=1), axis=0)       \n",
    "    \n",
    "    return (gauge_df * altimetry_weights).sum(axis=1)\n",
    "\n",
    "\n",
    "def mean_top_n(gauge_df, altimetry_df, top_n=5):\n",
    "    \n",
    "    # Calculate ranks for each model\n",
    "    ranks_df = altimetry_df.rank(axis=1)\n",
    "    \n",
    "    # Calculate mean of top ranked models\n",
    "    return gauge_df.where(ranks_df <= top_n).mean(axis=1)\n",
    "\n",
    "\n",
    "def median_top_n(gauge_df, altimetry_df, top_n=5):\n",
    "    \n",
    "    # Calculate ranks for each model\n",
    "    ranks_df = altimetry_df.rank(axis=1)\n",
    "    \n",
    "    # Calculate mean of top ranked models\n",
    "    return gauge_df.where(ranks_df <= top_n).median(axis=1)    \n",
    "    "
   ]
  },
  {
   "cell_type": "code",
   "execution_count": null,
   "id": "18d41e35-bd8c-4fde-abb1-0f69bdbb5b34",
   "metadata": {
    "tags": []
   },
   "outputs": [],
   "source": [
    "# Prepare data\n",
    "test_df = tide_df.set_index(\"site_name\", append=True).copy()\n",
    "test_df[\"site_code\"] = gauge_df.index.get_level_values(\"site_code\").values\n",
    "test_df[\"tide_gauge\"] = gauge_df.sea_level.values\n",
    "\n",
    "# Apply different weighting schemes\n",
    "test_df[\"median\"] = test_df[model_names].median(axis=1)\n",
    "test_df[\"median_top5\"] = median_top_n(test_df[model_names], xtrack_df, top_n=5)\n",
    "test_df[\"median_top3\"] = median_top_n(test_df[model_names], xtrack_df, top_n=3)\n",
    "test_df[\"mean\"] = test_df[model_names].mean(axis=1)\n",
    "test_df[\"mean_top5\"] = mean_top_n(test_df[model_names], xtrack_df, top_n=5)\n",
    "test_df[\"mean_top3\"] = mean_top_n(test_df[model_names], xtrack_df, top_n=3)\n",
    "test_df[\"weighted_mean_power2\"] = weighted_mean_power(\n",
    "    test_df[model_names], xtrack_df, power=2\n",
    ")\n",
    "test_df[\"weighted_mean_power5\"] = weighted_mean_power(\n",
    "    test_df[model_names], xtrack_df, power=5\n",
    ")\n",
    "test_df[\"weighted_mean_power10\"] = weighted_mean_power(\n",
    "    test_df[model_names], xtrack_df, power=10\n",
    ")\n",
    "test_df[\"weighted_mean_power5_top3\"] = weighted_mean_power_top_n(test_df[model_names], xtrack_df, power=5, top_n=3)\n",
    "test_df[\"weighted_mean_power5_top5\"] = weighted_mean_power_top_n(test_df[model_names], xtrack_df, power=5, top_n=5)\n",
    "test_df[\"weighted_mean_power10_top3\"] = weighted_mean_power_top_n(test_df[model_names], xtrack_df, power=10, top_n=3)\n",
    "test_df[\"weighted_mean_power10_top5\"] = weighted_mean_power_top_n(test_df[model_names], xtrack_df, power=10, top_n=5)\n",
    "\n",
    "# Reshape to long format\n",
    "tide_df_long = test_df.melt(\n",
    "    ignore_index=False,\n",
    "    id_vars=[\"tide_gauge\", \"site_code\"],\n",
    "    value_name=\"tide_m\",\n",
    ")\n",
    "\n",
    "# Calculate statistics against tide gauge data\n",
    "accuracy_df = tide_df_long.groupby([\"tide_model\"])[[\"tide_gauge\", \"tide_m\"]].apply(\n",
    "    lambda x: eval_metrics(x=x.tide_gauge, y=x.tide_m)\n",
    ")\n",
    "accuracy_df.sort_values(\"RMSE\").style.background_gradient(\n",
    "    cmap=\"RdBu_r\", subset=[\"RMSE\"], vmin=0.15, vmax=0.5\n",
    ")"
   ]
  },
  {
   "cell_type": "code",
   "execution_count": null,
   "id": "92a034e3-5387-48ae-854a-361fac4014b7",
   "metadata": {
    "tags": []
   },
   "outputs": [],
   "source": [
    "# Compare performance at worst sites\n",
    "accuracy_sites_df = tide_df_long.groupby([\"tide_model\", \"site_code\"])[\n",
    "    [\"tide_gauge\", \"tide_m\"]\n",
    "].apply(lambda x: eval_metrics(x=x.tide_gauge, y=x.tide_m))\n",
    "accuracy_sites_df.groupby([\"tide_model\"]).quantile(0.9).sort_values(\n",
    "    \"RMSE\"\n",
    ").style.background_gradient(cmap=\"RdBu_r\", subset=[\"RMSE\"], vmin=0.15, vmax=0.5)\n"
   ]
  },
  {
   "cell_type": "code",
   "execution_count": null,
   "id": "471ae44d-6210-4f1f-b335-e55e000d78aa",
   "metadata": {
    "tags": []
   },
   "outputs": [],
   "source": [
    "accuracy_sites_df.query('site_code == \"60710\"').sort_values(\n",
    "    \"RMSE\"\n",
    ").style.background_gradient(cmap=\"RdBu_r\", subset=[\"RMSE\"], vmin=0.15, vmax=0.5)"
   ]
  },
  {
   "cell_type": "code",
   "execution_count": null,
   "id": "e35af486-e298-42bc-bba5-b745424eae17",
   "metadata": {
    "tags": []
   },
   "outputs": [],
   "source": [
    "accuracy_sites_df.groupby([\"tide_model\"]).quantile(0.95).sort_values(\n",
    "    \"RMSE\"\n",
    ").style.background_gradient(cmap=\"RdBu_r\", subset=[\"RMSE\"], vmin=0.15, vmax=0.5)"
   ]
  },
  {
   "cell_type": "code",
   "execution_count": null,
   "id": "8497e13c-bd09-44f0-abbf-e0fa27039844",
   "metadata": {
    "tags": []
   },
   "outputs": [],
   "source": [
    "ranked_sites_df = accuracy_sites_df.groupby(\"site_code\")[\"RMSE\"].transform(func='rank').subtract(0).reset_index()\n",
    "\n",
    "sns.displot(\n",
    "    ranked_sites_df, x=\"RMSE\", col=\"tide_model\", col_wrap=4,\n",
    "    binwidth=1, height=3, facet_kws=dict(margin_titles=True),\n",
    ")"
   ]
  },
  {
   "cell_type": "code",
   "execution_count": null,
   "id": "4cca0e65-c534-410e-a945-00f3f3ac2188",
   "metadata": {
    "tags": []
   },
   "outputs": [],
   "source": [
    "sns.displot(\n",
    "    accuracy_sites_df.clip(0,1), x=\"RMSE\", col=\"tide_model\", col_wrap=4,\n",
    "    binwidth=0.05, height=3, facet_kws=dict(margin_titles=True),\n",
    ")"
   ]
  },
  {
   "cell_type": "code",
   "execution_count": null,
   "id": "06c1dea9-2d75-45d2-96a6-4ea2c990c964",
   "metadata": {
    "tags": []
   },
   "outputs": [],
   "source": [
    "# Best results overall\n",
    "accuracy_sites_df.loc[accuracy_sites_df.query(\"tide_model != 'EOT20'\").groupby(\"site_name\").RMSE.idxmin()\n",
    "].reset_index().tide_model.value_counts()\n",
    "    "
   ]
  },
  {
   "cell_type": "code",
   "execution_count": null,
   "id": "17b8dab8-2f42-487c-b1b0-23b69a15ba3b",
   "metadata": {
    "tags": []
   },
   "outputs": [],
   "source": [
    "\n",
    "# Step 1: Group by the first level of the multi-index ('y')\n",
    "grouped = accuracy_sites_df.groupby(level=0)\n",
    "\n",
    "# Step 2: Sort within each group by \"x\" in descending order\n",
    "sorted_groups = grouped.apply(lambda x: x.sort_values(\"RMSE\", ascending=False))\n",
    "\n",
    "# sorted_groups.reset_index(inplace=True)\n",
    "\n",
    "# Step 3: Retrieve the second highest value for each group\n",
    "second_highest_per_group = sorted_groups.groupby(level=0).nth(1).reset_index()\n",
    "\n",
    "# Display the result\n",
    "print(second_highest_per_group)"
   ]
  },
  {
   "cell_type": "code",
   "execution_count": null,
   "id": "3a95ff10-44a4-4ad5-88f2-a6caf883f8d3",
   "metadata": {
    "tags": []
   },
   "outputs": [],
   "source": [
    "# Step 1: Group by the first level of the multi-index ('y')\n",
    "grouped = accuracy_sites_df.groupby(level='site_name')\n",
    "\n",
    "# Step 2: Sort within each group by \"x\" in descending order and get the second highest\n",
    "second_highest_per_group = grouped.apply(lambda x: x.nlargest(2, 'RMSE')).groupby('site_name').nth(1).reset_index()\n",
    "\n",
    "# Display the result\n",
    "print(second_highest_per_group)"
   ]
  },
  {
   "cell_type": "code",
   "execution_count": null,
   "id": "eab1c7b0-e759-40cf-8d65-90f1f4f7ad5c",
   "metadata": {
    "tags": []
   },
   "outputs": [],
   "source": [
    "# Best results overall\n",
    "accuracy_sites_df.loc[\n",
    "    accuracy_sites_df.sort_values(\"RMSE\").groupby(\"site_name\").RMSE.nth(0).index\n",
    "].reset_index().tide_model.value_counts()"
   ]
  },
  {
   "cell_type": "code",
   "execution_count": null,
   "id": "d861ed97-b4d6-47cf-a4dc-c20478d704f0",
   "metadata": {
    "tags": []
   },
   "outputs": [],
   "source": [
    "accuracy_sites_df.sort_values(\"RMSE\").groupby(\"site_name\").RMSE.apply(lambda t: t.iloc[1])"
   ]
  },
  {
   "cell_type": "code",
   "execution_count": null,
   "id": "47bb6744-aeee-4f29-8e1c-8d432474e63a",
   "metadata": {
    "tags": []
   },
   "outputs": [],
   "source": [
    "with pd.option_context(\"display.max_rows\", 500):\n",
    "    display(xtrack_df)"
   ]
  },
  {
   "cell_type": "code",
   "execution_count": null,
   "id": "35bc53d9-95f0-483f-b0b9-7047d792658f",
   "metadata": {
    "tags": []
   },
   "outputs": [],
   "source": [
    "with pd.option_context(\"display.max_rows\", 500):\n",
    "    display(\n",
    "        xtrack_weights.style.background_gradient(\n",
    "            cmap=\"RdBu\", axis=None, vmin=0, vmax=0.2\n",
    "        )\n",
    "    )"
   ]
  },
  {
   "cell_type": "code",
   "execution_count": null,
   "id": "3f08cd55-514c-46b4-bef3-55bee8062496",
   "metadata": {
    "tags": []
   },
   "outputs": [],
   "source": [
    "xtrack_weights.mean(axis=0).to_frame(\"Average weighting\").sort_values(\"Average weighting\", ascending=False)"
   ]
  },
  {
   "cell_type": "markdown",
   "id": "2184c5cf-d461-48cc-939f-57ffa0629c08",
   "metadata": {},
   "source": [
    "### Test aggregation"
   ]
  },
  {
   "cell_type": "code",
   "execution_count": null,
   "id": "ae68ff29-c6f5-44c7-829f-a849114f9c29",
   "metadata": {
    "tags": []
   },
   "outputs": [],
   "source": [
    "xtrack_df"
   ]
  },
  {
   "cell_type": "code",
   "execution_count": null,
   "id": "924a4d02-ba12-4256-ae1c-38f570957b60",
   "metadata": {
    "tags": []
   },
   "outputs": [],
   "source": [
    "((gauge_df_long.groupby(\n",
    "    \"site_name\"\n",
    ").mean() / gauge_df_long.groupby(\"site_name\").apply(\n",
    "    lambda x: x.nsmallest(5, columns=\"X-TRACK altimetry (metres RMS)\", keep=\"first\")\n",
    ").droplevel(level=1).groupby(\"site_name\").mean() - 1.0)[[\"ABSLMP tide gauge (metres RMS)\"]] * 100).style.background_gradient(cmap='RdBu', axis=None, vmin=-50, vmax=50)"
   ]
  },
  {
   "cell_type": "code",
   "execution_count": null,
   "id": "6c577ad8-e6d0-43f2-aeff-4d8ab36b646b",
   "metadata": {
    "tags": []
   },
   "outputs": [],
   "source": [
    "gauge_df_long.groupby(\"site_name\")[[\"X-TRACK altimetry (metres RMS)\"]].rank()"
   ]
  },
  {
   "cell_type": "code",
   "execution_count": null,
   "id": "92113ab2-353a-4ed4-97dd-a82aee1ecace",
   "metadata": {
    "tags": []
   },
   "outputs": [],
   "source": [
    "gauge_df_long.groupby(\"site_name\")[[\"X-TRACK altimetry (metres RMS)\"]].rank()"
   ]
  },
  {
   "cell_type": "code",
   "execution_count": null,
   "id": "cf2313d7-0081-4394-96ca-bc77baa43ffb",
   "metadata": {
    "tags": []
   },
   "outputs": [],
   "source": [
    "gauge_df_long.groupby(\"site_name\")[[\"X-TRACK altimetry (metres RMS)\"]].rank()"
   ]
  },
  {
   "cell_type": "code",
   "execution_count": null,
   "id": "e12dc000-5b2b-44fb-9ade-5fbab6cd1630",
   "metadata": {
    "tags": []
   },
   "outputs": [],
   "source": [
    "gauge_df_long[\"weights\"] = (gauge_df_long.groupby(\"site_name\")[[\"X-TRACK altimetry (metres RMS)\"]].rank(ascending=False) - 2).clip(0, 5)\n",
    "gauge_df_long[\"weights\"] = (gauge_df_long.groupby(\"site_name\")[[\"X-TRACK altimetry (metres RMS)\"]].rank(ascending=False))\n",
    "gauge_df_long.loc[\"Broome\"]"
   ]
  },
  {
   "cell_type": "code",
   "execution_count": null,
   "id": "7c103bc1-00e9-4831-8308-a3a6537699cb",
   "metadata": {
    "tags": []
   },
   "outputs": [],
   "source": [
    "def weighted_mean(df, values, weights, groupby):\n",
    "    df = df.copy()\n",
    "    grouped = df.groupby(groupby)\n",
    "    df['weighted_average'] = df[values] / grouped[weights].transform('sum') * df[weights]\n",
    "    return grouped['weighted_average'].sum(min_count=1) #min_count is required for Grouper objects\n",
    "\n",
    "def weighted_median(df, val, weight):\n",
    "    df_sorted = df.sort_values(val)\n",
    "    cumsum = df_sorted[weight].cumsum()\n",
    "    cutoff = df_sorted[weight].sum() / 2.\n",
    "    return df_sorted[cumsum >= cutoff][val].iloc[0]\n",
    "\n",
    "weighted_mean(gauge_df_long, values=\"ABSLMP tide gauge (metres RMS)\", weights=\"weights\", groupby=\"site_name\") \n",
    "# gauge_df_long.groupby(\"site_name\").apply(lambda x: weighted_median(x, val=\"ABSLMP tide gauge (metres RMS)\", weight=\"weights\"))\n"
   ]
  },
  {
   "cell_type": "code",
   "execution_count": null,
   "id": "f668414b-324c-4f91-877c-b80a8d484bb4",
   "metadata": {
    "tags": []
   },
   "outputs": [],
   "source": [
    "gauge_df_long.groupby(\"site_name\").mean()[\"ABSLMP tide gauge (metres RMS)\"]"
   ]
  },
  {
   "cell_type": "code",
   "execution_count": null,
   "id": "c06313c9-5443-46b9-a676-d37edebb090a",
   "metadata": {
    "tags": []
   },
   "outputs": [],
   "source": [
    "weighted_df = gauge_df_long.groupby(\"site_name\").first()\n",
    "weighted_df[\"weights\"] = gauge_df_long.groupby(\"site_name\")[[\"X-TRACK altimetry (metres RMS)\"]].rank()\n",
    "\n",
    "\n",
    "#     [[\"tide_model\", \"X-TRACK altimetry (metres RMS)\"]].rank()   #axis=0, numeric_only=True).loc[\"Stony Point\"]"
   ]
  },
  {
   "cell_type": "code",
   "execution_count": null,
   "id": "771a965c-4afa-4dfe-b5d2-e6e2e3e71678",
   "metadata": {
    "tags": []
   },
   "outputs": [],
   "source": []
  },
  {
   "cell_type": "code",
   "execution_count": null,
   "id": "120ca671-9f97-4455-b59e-37a48af1fb85",
   "metadata": {
    "tags": []
   },
   "outputs": [],
   "source": [
    "df1 = pd.DataFrame(index=(\"a\", \"a\", \"b\", \"b\"), data={\"test\": [1, 2, 3, 4]})\n",
    "df1"
   ]
  },
  {
   "cell_type": "code",
   "execution_count": null,
   "id": "3ce2db8f-1827-4ae2-aaec-50eb675db64d",
   "metadata": {
    "tags": []
   },
   "outputs": [],
   "source": [
    "df2 = pd.DataFrame(index=(\"a\", \"b\"), data={\"test\": [0, 2]})\n",
    "df2"
   ]
  },
  {
   "cell_type": "code",
   "execution_count": null,
   "id": "c7210795-8b34-4615-9267-c5cdf8a17637",
   "metadata": {
    "tags": []
   },
   "outputs": [],
   "source": [
    "df1 * df2"
   ]
  },
  {
   "cell_type": "code",
   "execution_count": null,
   "id": "b6956a7e-8da4-406f-a719-c799d8874a96",
   "metadata": {
    "tags": []
   },
   "outputs": [],
   "source": [
    "gauge_df_long.groupby(\"site_name\").mean()"
   ]
  },
  {
   "cell_type": "code",
   "execution_count": null,
   "id": "dcde6cb9-ddd0-4786-b7d2-2e0a427dca57",
   "metadata": {},
   "outputs": [],
   "source": []
  },
  {
   "cell_type": "markdown",
   "id": "488ec471-36fd-4cb1-80b7-9ea395d6fe8c",
   "metadata": {},
   "source": [
    "### Pytides"
   ]
  },
  {
   "cell_type": "code",
   "execution_count": null,
   "id": "a346f482-9ff7-430d-a079-0f26a8d8d8f4",
   "metadata": {},
   "outputs": [],
   "source": [
    "from pytides.tide import Tide\n",
    "\n",
    "demeaned = water_level - water_level.mean()\n",
    "tide = Tide.decompose(demeaned, water_level.index)\n",
    "(demeaned - tide.at(water_level.index)).plot(figsize=(13, 10))"
   ]
  }
 ],
 "metadata": {
  "kernelspec": {
   "display_name": "Python 3 (ipykernel)",
   "language": "python",
   "name": "python3"
  },
  "language_info": {
   "codemirror_mode": {
    "name": "ipython",
    "version": 3
   },
   "file_extension": ".py",
   "mimetype": "text/x-python",
   "name": "python",
   "nbconvert_exporter": "python",
   "pygments_lexer": "ipython3",
   "version": "3.10.13"
  },
  "widgets": {
   "application/vnd.jupyter.widget-state+json": {
    "state": {},
    "version_major": 2,
    "version_minor": 0
   }
  }
 },
 "nbformat": 4,
 "nbformat_minor": 5
}

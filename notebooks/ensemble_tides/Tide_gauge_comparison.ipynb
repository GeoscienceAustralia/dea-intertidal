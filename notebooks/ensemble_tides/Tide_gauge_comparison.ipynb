{
 "cells": [
  {
   "cell_type": "markdown",
   "id": "cfda0f0d-1996-448f-b112-f3488eee2f9a",
   "metadata": {},
   "source": [
    "# Ensemble tide model tide guage validation\n",
    "\n",
    "This code compares tides modelled using custom ensemble tide modelling against results from various other global ocean tide models at [Global Extreme Sea Level Analysis (GESLA) tide gauges](https://gesla787883612.wordpress.com/) across Australia.\n",
    "\n",
    "> Haigh, I.D., Marcos, M., Talke, S.A., Woodworth, P.L., Hunter, J.R., Hague, B.S., Arns, A., Bradshaw, E. and Thompson, P., 2023. GESLA version 3: A major update to the global higher‐frequency sea‐level dataset. Geoscience Data Journal, 10(3), pp.293-314.\n",
    "\n",
    "## Getting started\n",
    "Set working directory to top level of repo to ensure links work correctly:"
   ]
  },
  {
   "cell_type": "code",
   "execution_count": 1,
   "id": "53b4f4dc-58ce-42b6-adb6-c61c41e8e3b3",
   "metadata": {},
   "outputs": [
    {
     "name": "stdout",
     "output_type": "stream",
     "text": [
      "/home/jovyan/Robbi/dea-intertidal\n"
     ]
    }
   ],
   "source": [
    "cd ../.."
   ]
  },
  {
   "cell_type": "markdown",
   "id": "f29a46ad-915d-462a-8942-682071b4662f",
   "metadata": {},
   "source": [
    "Install additional packages directly from the requirements file:"
   ]
  },
  {
   "cell_type": "code",
   "execution_count": null,
   "id": "fa616077-1909-48c7-a7d1-f95ada6d461c",
   "metadata": {
    "tags": []
   },
   "outputs": [],
   "source": [
    "pip install -r requirements.in --quiet"
   ]
  },
  {
   "cell_type": "markdown",
   "id": "dd6b1faf-155e-4cda-bb45-4c974c2c40a3",
   "metadata": {},
   "source": [
    "### Load packages"
   ]
  },
  {
   "cell_type": "code",
   "execution_count": 2,
   "id": "45aa3436-d449-45bd-b009-3501ec69a0f6",
   "metadata": {
    "tags": []
   },
   "outputs": [],
   "source": [
    "%load_ext autoreload\n",
    "%autoreload 2\n",
    "\n",
    "import os\n",
    "import glob\n",
    "import warnings\n",
    "import datetime\n",
    "import numpy as np\n",
    "import pandas as pd\n",
    "import xarray as xr\n",
    "import geopandas as gpd\n",
    "import seaborn as sns\n",
    "import matplotlib.pyplot as plt\n",
    "\n",
    "from odc.geo.geom import BoundingBox\n",
    "\n",
    "from dea_tools.coastal import model_tides\n",
    "from dea_tools.validation import eval_metrics\n",
    "from intertidal.utils import round_date_strings\n",
    "\n",
    "os.environ[\"DEA_TOOLS_TIDE_MODELS\"] = \"/gdata1/data/tide_models_clipped\""
   ]
  },
  {
   "cell_type": "code",
   "execution_count": 3,
   "id": "d70395ed-10b1-4397-b5f0-555f82d5c397",
   "metadata": {
    "tags": []
   },
   "outputs": [],
   "source": [
    "\n",
    "def _load_gauge_metadata(metadata_path):\n",
    "    \n",
    "    # Load metadata\n",
    "    metadata_df = pd.read_csv(metadata_path)\n",
    "    metadata_df.columns = (\n",
    "        metadata_df.columns.str.replace(\" \", \"_\", regex=False)\n",
    "        .str.replace(\"(\", \"\", regex=False)\n",
    "        .str.replace(\")\", \"\", regex=False)\n",
    "        .str.replace(\"/\", \"_\", regex=False)\n",
    "        .str.lower()\n",
    "    )\n",
    "    metadata_df = metadata_df.set_index(\"site_code\")\n",
    "\n",
    "    # Convert metadata to GeoDataFrame\n",
    "    metadata_gdf = gpd.GeoDataFrame(\n",
    "        data=metadata_df,\n",
    "        geometry=gpd.points_from_xy(metadata_df.longitude, metadata_df.latitude),\n",
    "        crs=\"EPSG:4326\",\n",
    "    )\n",
    "    \n",
    "    return metadata_df, metadata_gdf\n",
    "\n",
    "\n",
    "def tide_gauge_abslmp(\n",
    "    x=None,\n",
    "    y=None,\n",
    "    site_code=None,\n",
    "    time=(\"2020\", \"2021\"),\n",
    "    ahd=True,\n",
    "    site_metadata=True,\n",
    "    data_path=\"/gdata1/data/sea_level/abslmp/\",\n",
    "    metadata_path=\"/gdata1/data/sea_level/ABSLMP_station_metadata_v2.csv\",\n",
    "):\n",
    "    \"\"\"\n",
    "    Load and process Australian Baseline Sea Level Monitoring Program\n",
    "    (ABSLMP) tide gauge data.\n",
    "\n",
    "    Parameters\n",
    "    ----------\n",
    "    x, y : tuple, optional\n",
    "        Tuples defining the x and y bounding box within which to load\n",
    "        tide gauge data, in WGS84 (degrees latitude, longitude) units.\n",
    "        Leave as None if providing a list of site codes using 'site_code'.\n",
    "    site_code : str or list of str, optional\n",
    "        ABSLMP site code(s) for which to load data. If provided, 'x' and\n",
    "        'y' will be ignored.\n",
    "    time : tuple or list of str, optional\n",
    "        Time range to consider, given as a tuple of start and end years.\n",
    "        If None, will default to all tide observations from 1991 onward.\n",
    "        Default is (\"2020\", \"2021\").\n",
    "    ahd : bool, optional\n",
    "        Whether to correct sea level to Australian Height Datum (AHD).\n",
    "        Default is True.\n",
    "    site_metadata : bool, optional\n",
    "        Whether to add tide gauge station metadata as additional columns\n",
    "        in the output DataFrame. Defaults to True.\n",
    "    data_path : str, optional\n",
    "        Path to the raw ABSLMP data files. Default is\n",
    "        \"/gdata1/data/sea_level/abslmp/\".\n",
    "    metadata_path : str, optional\n",
    "        Path to the ABSLMP station metadata file.\n",
    "        Default is \"/gdata1/data/sea_level/ABSLMP_station_metadata_v2.csv\".\n",
    "\n",
    "    Returns\n",
    "    -------\n",
    "    pd.DataFrame\n",
    "        Processed ABSLMP data as a DataFrame with columns including:\n",
    "        \"time\": Timestamps,\n",
    "        \"sea_level\": Observed sea level (m),\n",
    "        \"residuals\": Residuals data (m),\n",
    "        and additional columns from station metadata.\n",
    "    \"\"\"\n",
    "\n",
    "    def _load_abslmp_dataset(path, na_value):\n",
    "        abslmp_df = (\n",
    "            pd.read_csv(\n",
    "                path,\n",
    "                parse_dates=[\" Date & UTC Time\"],\n",
    "                na_values=na_value,\n",
    "                usecols=[\" Date & UTC Time\", \"Sea Level\", \"Residuals\"],\n",
    "            )\n",
    "            .rename(\n",
    "                {\n",
    "                    \" Date & UTC Time\": \"time\",\n",
    "                    \"Sea Level\": \"sea_level\",\n",
    "                    \"Residuals\": \"residuals\",\n",
    "                },\n",
    "                axis=1,\n",
    "            )\n",
    "            .assign(site_code=path[-17:-9])\n",
    "            .set_index(\"time\")\n",
    "        )\n",
    "\n",
    "        return abslmp_df\n",
    "\n",
    "    # Load tide gauge metadata\n",
    "    metadata_df, metadata_gdf = _load_gauge_metadata(metadata_path)\n",
    "\n",
    "    # Use supplied site codes if available\n",
    "    if site_code is not None:\n",
    "        site_code = [site_code] if isinstance(site_code, str) else site_code\n",
    "\n",
    "    # Otherwise, use xy bounds to identify sites\n",
    "    elif x is not None:\n",
    "        bbox = BoundingBox.from_xy(x, y)\n",
    "        site_code = metadata_gdf.cx[\n",
    "            bbox.left : bbox.right, bbox.top : bbox.bottom\n",
    "        ].index\n",
    "\n",
    "    # Otherwise, return all available site codes\n",
    "    else:\n",
    "        site_code = metadata_df.index.to_list()\n",
    "\n",
    "    # Prepare times\n",
    "    if time is None:\n",
    "        time = [\"1991\", str(datetime.datetime.now().year)]\n",
    "    time = [time] if isinstance(time, str) else time\n",
    "    start_time = round_date_strings(time[0], round_type=\"start\")\n",
    "    end_time = round_date_strings(time[-1], round_type=\"end\")\n",
    "\n",
    "    # Identify paths to load and nodata values for each site\n",
    "    years = list(range(int(start_time[0:4]), int(end_time[0:4]) + 1))\n",
    "    paths_na = [\n",
    "        (glob.glob(f\"{data_path}/{s}_*{y}.csv\"), metadata_df.loc[s].null_value)\n",
    "        for y in years\n",
    "        for s in site_code\n",
    "    ]\n",
    "\n",
    "    # Expand so we have a nodata value for each path, then load and\n",
    "    # combine into a single dataframe\n",
    "    paths_na = [(path, na) for paths, na in paths_na for path in paths]\n",
    "    data_df = (\n",
    "        pd.concat([_load_abslmp_dataset(path, na_value=na) for path, na in paths_na])\n",
    "        .loc[slice(start_time, end_time)]\n",
    "        .reset_index()\n",
    "        .set_index(\"site_code\")\n",
    "    )\n",
    "\n",
    "    # Insert metadata into dataframe\n",
    "    data_df[metadata_df.columns] = metadata_df\n",
    "\n",
    "    # Add time to index and remove duplicates\n",
    "    data_df = data_df.set_index(\"time\", append=True)\n",
    "    duplicates = data_df.index.duplicated()\n",
    "    if duplicates.sum() > 0:\n",
    "        warnings.warn(\"Duplicate timestamps were removed.\")\n",
    "        data_df = data_df.loc[~duplicates]\n",
    "\n",
    "    # Correct to AHD (i.e. mean sea level)\n",
    "    if ahd:\n",
    "        data_df[\"sea_level\"] -= data_df.ahd\n",
    "\n",
    "    # Return data\n",
    "    if not site_metadata:\n",
    "        return data_df[[\"sea_level\", \"residuals\"]]\n",
    "    else:\n",
    "        return data_df\n",
    "\n",
    "\n",
    "from tqdm import tqdm\n",
    "    \n",
    "    \n",
    "def tide_gauge_gesla(\n",
    "    x=None,\n",
    "    y=None,\n",
    "    site_code=None,\n",
    "    time=(\"2020\", \"2021\"),\n",
    "    filter_use_flag=True,\n",
    "    site_metadata=True,\n",
    "    data_path=\"/gdata1/data/sea_level/gesla/\",\n",
    "    metadata_path=\"/gdata1/data/sea_level/GESLA3_ALL 2.csv\",\n",
    "):\n",
    "    \"\"\"\n",
    "    Load and process Global Extreme Sea Level Analysis (GESLA) tide\n",
    "    gauge data.\n",
    "\n",
    "    Modified from original code from https://github.com/philiprt/GeslaDataset.\n",
    "\n",
    "    Parameters\n",
    "    ----------\n",
    "    x, y : tuple, optional\n",
    "        Tuples defining the x and y bounding box within which to load\n",
    "        tide gauge data, in WGS84 (degrees latitude, longitude) units.\n",
    "        Leave as None if providing a list of site codes using 'site_code'.\n",
    "    site_code : str or list of str, optional\n",
    "        GESLA site code(s) for which to load data. If provided, 'x' and\n",
    "        'y' will be ignored.\n",
    "    time : tuple or list of str, optional\n",
    "        Time range to consider, given as a tuple of start and end years.\n",
    "        If None, will default to all tide observations from 1800 onward.\n",
    "        Default is (\"2020\", \"2021\").\n",
    "    filter_use_flag : bool, optional\n",
    "        Whether to filter out low quality observations with a \"use_flag\"\n",
    "        value of 0 (do not use). Defaults to True.\n",
    "    site_metadata : bool, optional\n",
    "        Whether to add tide gauge station metadata as additional columns\n",
    "        in the output DataFrame. Defaults to True.\n",
    "    data_path : str, optional\n",
    "        Path to the raw GESLA data files. Default is\n",
    "        \"/gdata1/data/sea_level/gesla/\".\n",
    "    metadata_path : str, optional\n",
    "        Path to the GESLA station metadata file.\n",
    "        Default is \"/gdata1/data/sea_level/GESLA3_ALL 2.csv\".\n",
    "\n",
    "    Returns\n",
    "    -------\n",
    "    pd.DataFrame\n",
    "        Processed GESLA data as a DataFrame with columns including:\n",
    "        \"time\": Timestamps,\n",
    "        \"sea_level\": Observed sea level (m),\n",
    "        \"qc_flag\": Observed sea level QC flag,\n",
    "        \"use_flag\": Use-in-analysis flag (1 = use, 0 = do not use),\n",
    "        and additional columns from station metadata.\n",
    "    \"\"\"\n",
    "\n",
    "    def _load_gesla_dataset(site, path, na_value):\n",
    "        gesla_df = (\n",
    "            pd.read_csv(\n",
    "                path,\n",
    "                skiprows=41,\n",
    "                names=[\"date_in\", \"time_in\", \"sea_level\", \"qc_flag\", \"use_flag\"],\n",
    "                sep=\"\\s+\",\n",
    "                na_values=na_value,\n",
    "            )\n",
    "            .assign(\n",
    "                time=lambda df: pd.to_datetime(df[\"date_in\"] + \" \" + df[\"time_in\"]),\n",
    "                site_code=site,\n",
    "            )\n",
    "            .set_index(\"time\")\n",
    "            .drop([\"date_in\", \"time_in\"], axis=1)\n",
    "        )\n",
    "        \n",
    "        print(path)\n",
    "\n",
    "        return gesla_df\n",
    "\n",
    "    \n",
    "    # Load tide gauge metadata\n",
    "    metadata_df, metadata_gdf = _load_gauge_metadata(metadata_path)    \n",
    "\n",
    "    # Use supplied site codes if available\n",
    "    if site_code is not None:\n",
    "        site_code = [site_code] if isinstance(site_code, str) else site_code\n",
    "\n",
    "    # Otherwise, use xy bounds to identify sites\n",
    "    elif x is not None:\n",
    "        bbox = BoundingBox.from_xy(x, y)\n",
    "        site_code = metadata_gdf.cx[\n",
    "            bbox.left : bbox.right, bbox.top : bbox.bottom\n",
    "        ].index\n",
    "\n",
    "    # Otherwise, return all available site codes\n",
    "    else:\n",
    "        site_code = metadata_df.index.to_list()\n",
    "\n",
    "    # Prepare times\n",
    "    if time is None:\n",
    "        time = [\"1800\", str(datetime.datetime.now().year)]\n",
    "    time = [time] if isinstance(time, str) else time\n",
    "    start_time = round_date_strings(time[0], round_type=\"start\")\n",
    "    end_time = round_date_strings(time[-1], round_type=\"end\")\n",
    "\n",
    "    # Identify paths to load and nodata values for each site\n",
    "    metadata_df[\"file_name\"] = data_path + metadata_df[\"file_name\"]\n",
    "    paths_na = metadata_df.loc[site_code, [\"file_name\", \"null_value\"]]\n",
    "\n",
    "    # Load and combine into a single dataframe\n",
    "    data_df = (\n",
    "        pd.concat(\n",
    "            [\n",
    "                _load_gesla_dataset(s, p, na_value=na)\n",
    "                for s, p, na in paths_na.itertuples()\n",
    "            ]\n",
    "        )\n",
    "        .sort_index()\n",
    "        .loc[slice(start_time, end_time)]\n",
    "        .reset_index()\n",
    "        .set_index(\"site_code\")\n",
    "    )\n",
    "\n",
    "    # Optionally filter by use flag column\n",
    "    if filter_use_flag:\n",
    "        data_df = data_df.loc[data_df.use_flag == 1]\n",
    "\n",
    "    # Optionally insert metadata into dataframe\n",
    "    if site_metadata:\n",
    "        data_df[metadata_df.columns] = metadata_df.loc[site_code]\n",
    "\n",
    "    # Add time to index and remove duplicates\n",
    "    data_df = data_df.set_index(\"time\", append=True)\n",
    "    duplicates = data_df.index.duplicated()\n",
    "    if duplicates.sum() > 0:\n",
    "        warnings.warn(\"Duplicate timestamps were removed.\")\n",
    "        data_df = data_df.loc[~duplicates]\n",
    "\n",
    "    # Return data\n",
    "    return data_df\n",
    "\n",
    "\n",
    "# tide_gauge_abslmp(x=(140, 160), y=(-30, -35))\n",
    "# tide_gauge_gesla(x=(140, 160), y=(-30, -35))"
   ]
  },
  {
   "cell_type": "markdown",
   "id": "bd93f63e-3c26-47b8-b591-461986ec3d4c",
   "metadata": {},
   "source": [
    "### GESLA tide guage data\n"
   ]
  },
  {
   "cell_type": "code",
   "execution_count": null,
   "id": "9829a710-cff1-404b-9d8d-16b66c156815",
   "metadata": {
    "tags": []
   },
   "outputs": [],
   "source": [
    "# # Load tide gauge metadata\n",
    "# metadata_df, metadata_gdf = _load_gauge_metadata(metadata_path=\"/gdata1/data/sea_level/GESLA3_ALL 2.csv\") \n",
    "# metadata_gdf.to_file(\"gesla_stations.geojson\")"
   ]
  },
  {
   "cell_type": "code",
   "execution_count": 4,
   "id": "2770d983-6288-418f-b6ea-8064db6639ef",
   "metadata": {
    "tags": []
   },
   "outputs": [],
   "source": [
    "# Load Collection 3 summary grid\n",
    "c3_path = \"https://data.dea.ga.gov.au/derivative/ga_summary_grid_c3.geojson\"\n",
    "c3_grid = gpd.read_file(c3_path)\n",
    "xmin, ymin, xmax, ymax = c3_grid.total_bounds"
   ]
  },
  {
   "cell_type": "code",
   "execution_count": 5,
   "id": "b7646fad-cac1-4c0c-9939-5a4f4a8ec5cb",
   "metadata": {
    "tags": []
   },
   "outputs": [
    {
     "name": "stdout",
     "output_type": "stream",
     "text": [
      "/gdata1/data/sea_level/gesla/fort_denison-333a-aus-uhslc\n",
      "/gdata1/data/sea_level/gesla/townsville-334a-aus-uhslc\n",
      "/gdata1/data/sea_level/gesla/bundaberg-332a-aus-uhslc\n",
      "/gdata1/data/sea_level/gesla/brisbane-331a-aus-uhslc\n",
      "/gdata1/data/sea_level/gesla/darwin-168a-aus-uhslc\n",
      "/gdata1/data/sea_level/gesla/port_hedland-169a-aus-uhslc\n",
      "/gdata1/data/sea_level/gesla/wyndham-165a-aus-uhslc\n",
      "/gdata1/data/sea_level/gesla/esperance-176a-aus-uhslc\n",
      "/gdata1/data/sea_level/gesla/spring_bay-335a-aus-uhslc\n",
      "/gdata1/data/sea_level/gesla/carnarvon-167a-aus-uhslc\n",
      "/gdata1/data/sea_level/gesla/fremantle-175a-aus-uhslc\n",
      "/gdata1/data/sea_level/gesla/broome-166a-aus-uhslc\n",
      "/gdata1/data/sea_level/gesla/hobart-339a-aus-uhslc\n",
      "/gdata1/data/sea_level/gesla/booby_island-336a-aus-uhslc\n",
      "/gdata1/data/sea_level/gesla/portland_victoria-129a-aus-uhslc\n",
      "/gdata1/data/sea_level/gesla/port_kembla-342a-aus-uhslc\n",
      "/gdata1/data/sea_level/gesla/cape_ferguson-343a-aus-uhslc\n",
      "/gdata1/data/sea_level/gesla/hillarys-132a-aus-uhslc\n",
      "/gdata1/data/sea_level/gesla/thevenard-128a-aus-uhslc\n",
      "/gdata1/data/sea_level/gesla/burnie-344a-aus-uhslc\n",
      "/gdata1/data/sea_level/gesla/rosslyn_bay-330a-aus-uhslc\n",
      "/gdata1/data/sea_level/gesla/groote_eylandt-145a-aus-uhslc\n",
      "/gdata1/data/sea_level/gesla/port_stanvac-100a-aus-uhslc\n",
      "/gdata1/data/sea_level/gesla/benoa-163a-idn-uhslc\n",
      "/gdata1/data/sea_level/gesla/benoa-163b-idn-uhslc\n",
      "/gdata1/data/sea_level/gesla/prigi-125a-idn-uhslc\n",
      "/gdata1/data/sea_level/gesla/saumlaki-420a-idn-uhslc\n",
      "/gdata1/data/sea_level/gesla/port_moresby-064a-png-uhslc\n",
      "/gdata1/data/sea_level/gesla/lembar-419a-idn-uhslc\n",
      "/gdata1/data/sea_level/gesla/alotau-069a-png-uhslc\n",
      "/gdata1/data/sea_level/gesla/meneng-158a-idn-uhslc\n",
      "/gdata1/data/sea_level/gesla/fremantle-62230-aus-bom\n",
      "/gdata1/data/sea_level/gesla/sydney_fort_denison-60370-aus-bom\n",
      "/gdata1/data/sea_level/gesla/port_pirie-61800-aus-bom\n",
      "/gdata1/data/sea_level/gesla/port_adelaide_outer_harbor-61600-aus-bom\n",
      "/gdata1/data/sea_level/gesla/port_adelaide_inner_harbor-61610-aus-bom\n",
      "/gdata1/data/sea_level/gesla/darwin-63230-aus-bom\n",
      "/gdata1/data/sea_level/gesla/townsville-59250-aus-bom\n",
      "/gdata1/data/sea_level/gesla/point_lonsdale-60730-aus-bom\n",
      "/gdata1/data/sea_level/gesla/geraldton-62290-aus-bom\n",
      "/gdata1/data/sea_level/gesla/thevenard-62000-aus-bom\n",
      "/gdata1/data/sea_level/gesla/victor_harbor-61490-aus-bom\n",
      "/gdata1/data/sea_level/gesla/port_lincoln-61900-aus-bom\n",
      "/gdata1/data/sea_level/gesla/newcastle-60310-aus-bom\n",
      "/gdata1/data/sea_level/gesla/esperance-62080-aus-bom\n",
      "/gdata1/data/sea_level/gesla/brisbane_bar-59980-aus-bom\n",
      "/gdata1/data/sea_level/gesla/port_hedland-62590-aus-bom\n",
      "/gdata1/data/sea_level/gesla/albany-62120-aus-bom\n",
      "/gdata1/data/sea_level/gesla/bunbury-62190-aus-bom\n",
      "/gdata1/data/sea_level/gesla/bundaberg_burnett_heads-59820-aus-bom\n",
      "/gdata1/data/sea_level/gesla/melbourne_williamstown-60780-aus-bom\n",
      "/gdata1/data/sea_level/gesla/geelong-60770-aus-bom\n",
      "/gdata1/data/sea_level/gesla/hobart-61220-aus-bom\n",
      "/gdata1/data/sea_level/gesla/wyndham-63090-aus-bom\n",
      "/gdata1/data/sea_level/gesla/burnie-60910-aus-bom\n",
      "/gdata1/data/sea_level/gesla/carnarvon-62370-aus-bom\n",
      "/gdata1/data/sea_level/gesla/broome-62650-aus-bom\n",
      "/gdata1/data/sea_level/gesla/eden-60530-aus-bom\n",
      "/gdata1/data/sea_level/gesla/mackay_outer_harbour-59510-aus-bom\n",
      "/gdata1/data/sea_level/gesla/cairns-59060-aus-bom\n",
      "/gdata1/data/sea_level/gesla/port_kembla-60420-aus-bom\n",
      "/gdata1/data/sea_level/gesla/weipa_humbug_point-63620-aus-bom\n",
      "/gdata1/data/sea_level/gesla/western_port_stony_point-60710-aus-bom\n",
      "/gdata1/data/sea_level/gesla/booby_island-58230-aus-bom\n",
      "/gdata1/data/sea_level/gesla/milner_bay_groote_eylandt-63511-aus-bom\n",
      "/gdata1/data/sea_level/gesla/gladstone-59750-aus-bom\n",
      "/gdata1/data/sea_level/gesla/wallaroo-61780-aus-bom\n",
      "/gdata1/data/sea_level/gesla/cape_ferguson-59260-aus-bom\n",
      "/gdata1/data/sea_level/gesla/portland-61410-aus-bom\n",
      "/gdata1/data/sea_level/gesla/lakes_entrance_inner_bullock_island-6057a-aus-bom\n",
      "/gdata1/data/sea_level/gesla/botany_bay-60390-aus-bom\n",
      "/gdata1/data/sea_level/gesla/spring_bay-61170-aus-bom\n",
      "/gdata1/data/sea_level/gesla/ince_point-58140-aus-bom\n",
      "/gdata1/data/sea_level/gesla/melville_bay_gove_harbour-63480-aus-bom\n",
      "/gdata1/data/sea_level/gesla/hay_point-59511-aus-bom\n",
      "/gdata1/data/sea_level/gesla/mooloolaba-59950-aus-bom\n",
      "/gdata1/data/sea_level/gesla/cooktown-58940-aus-bom\n",
      "/gdata1/data/sea_level/gesla/mourilyan_harbour-59140-aus-bom\n",
      "/gdata1/data/sea_level/gesla/shute_harbour-59410-aus-bom\n",
      "/gdata1/data/sea_level/gesla/peel_inlet-plpee01-aus-bom\n",
      "/gdata1/data/sea_level/gesla/forster-209402-aus-bom\n",
      "/gdata1/data/sea_level/gesla/lucinda_offshore-59200-aus-bom\n",
      "/gdata1/data/sea_level/gesla/karumba-63580-aus-bom\n",
      "/gdata1/data/sea_level/gesla/clump_point-59168-aus-bom\n",
      "/gdata1/data/sea_level/gesla/port_alma-59690-aus-bom\n",
      "/gdata1/data/sea_level/gesla/devonport-60930-aus-bom\n",
      "/gdata1/data/sea_level/gesla/onslow_beadon_creek-62470-aus-bom\n",
      "/gdata1/data/sea_level/gesla/goods_island-58200-aus-bom\n",
      "/gdata1/data/sea_level/gesla/whyalla-61840-aus-bom\n",
      "/gdata1/data/sea_level/gesla/yamba-60130-aus-bom\n",
      "/gdata1/data/sea_level/gesla/brunswick_heads-202403-aus-bom\n",
      "/gdata1/data/sea_level/gesla/sydney_port_jackson-213470-aus-bom\n",
      "/gdata1/data/sea_level/gesla/port_macquarie-207420-aus-bom\n",
      "/gdata1/data/sea_level/gesla/bowen-59320-aus-bom\n",
      "/gdata1/data/sea_level/gesla/urangan-59850-aus-bom\n",
      "/gdata1/data/sea_level/gesla/georgetown-60950-aus-bom\n",
      "/gdata1/data/sea_level/gesla/bermagui-219470-aus-bom\n",
      "/gdata1/data/sea_level/gesla/perth_barrack_street_jetty-6223a-aus-bom\n",
      "/gdata1/data/sea_level/gesla/jervis_bay-216470-aus-bom\n",
      "/gdata1/data/sea_level/gesla/turtle_head-58180-aus-bom\n",
      "/gdata1/data/sea_level/gesla/harvey-dvhar01-aus-bom\n",
      "/gdata1/data/sea_level/gesla/thursday_island-58170-aus-bom\n",
      "/gdata1/data/sea_level/gesla/rosslyn_bay-59670-aus-bom\n",
      "/gdata1/data/sea_level/gesla/hillarys-62237-aus-bom\n",
      "/gdata1/data/sea_level/gesla/patonga-212440-aus-bom\n",
      "/gdata1/data/sea_level/gesla/hovell_pile-60721-aus-bom\n",
      "/gdata1/data/sea_level/gesla/queenscliff-60732-aus-bom\n",
      "/gdata1/data/sea_level/gesla/west_channel_pile-60739-aus-bom\n",
      "/gdata1/data/sea_level/gesla/jurien_bay-jujur01-aus-bom\n",
      "/gdata1/data/sea_level/gesla/port_giles-61685-aus-bom\n",
      "/gdata1/data/sea_level/gesla/crookhaven_heads-215408-aus-bom\n",
      "/gdata1/data/sea_level/gesla/port_douglas-59040-aus-bom\n",
      "/gdata1/data/sea_level/gesla/exmouth-62435-aus-bom\n",
      "/gdata1/data/sea_level/gesla/lorne-60790-aus-bom\n",
      "/gdata1/data/sea_level/gesla/batemans_bay_princess_jetty-216410-aus-bom\n",
      "/gdata1/data/sea_level/gesla/cape_bouvard-dvbvd01-aus-bom\n",
      "/gdata1/data/sea_level/gesla/caddadup-dvcad01-aus-bom\n",
      "/gdata1/data/sea_level/gesla/south_trees-h052026a-aus-bom\n",
      "/gdata1/data/sea_level/gesla/cape_ferguson-h033007a-aus-bom\n",
      "/gdata1/data/sea_level/gesla/cardwell-h035012a-aus-bom\n",
      "/gdata1/data/sea_level/gesla/derby-dydby01-aus-bom\n",
      "/gdata1/data/sea_level/gesla/coffs_harbour-205470-aus-bom\n",
      "/gdata1/data/sea_level/gesla/port_welshpool_pier-60590-aus-bom\n",
      "/gdata1/data/sea_level/gesla/bremer_bay-bbbre01-aus-bom\n",
      "/gdata1/data/sea_level/gesla/gold_coast_southport-60051-aus-bom\n",
      "/gdata1/data/sea_level/gesla/point_richards_corio_bay-60757-aus-bom\n",
      "/gdata1/data/sea_level/gesla/port_stanvac-61583-aus-bom\n",
      "/gdata1/data/sea_level/gesla/cooktown-h066003a-aus-bom\n",
      "/gdata1/data/sea_level/gesla/thursday_island-h057022b-aus-bom\n",
      "/gdata1/data/sea_level/gesla/fishermans_landing-h052003b-aus-bom\n",
      "/gdata1/data/sea_level/gesla/busselton_port_geographe-bsgeo01-aus-bom\n",
      "/gdata1/data/sea_level/gesla/mandurah_fishermans_jetty-mhman01-aus-bom\n",
      "/gdata1/data/sea_level/gesla/low_head-60948-aus-bom\n",
      "/gdata1/data/sea_level/gesla/nardana_patches-58178-aus-bom\n",
      "/gdata1/data/sea_level/gesla/ulladulla-216471-aus-bom\n",
      "/gdata1/data/sea_level/gesla/mandurah_ocean_marina-mhman02-aus-bom\n",
      "/gdata1/data/sea_level/gesla/cape_jervis-61561-aus-bom\n",
      "/gdata1/data/sea_level/gesla/mornington_island-h074011a-aus-bom\n",
      "/gdata1/data/sea_level/gesla/half_tide_tug_harbour-h060010a-aus-bom\n"
     ]
    }
   ],
   "source": [
    "# Extract tide data for all sites\n",
    "gauge_df = tide_gauge_gesla(x=(xmin, xmax), y=(ymax, ymin), time=(\"2017\", \"2019\"))"
   ]
  },
  {
   "cell_type": "code",
   "execution_count": 6,
   "id": "558bf8ff-e5a9-47a5-bdfd-f42ccbc679c2",
   "metadata": {
    "tags": []
   },
   "outputs": [],
   "source": [
    "# Clean to restrict to Australia and remove duplicate sites/contributers\n",
    "bad_sites = (\"H033007A\",  # Cape Ferguson, duplicate\n",
    "             \"H057022B\",  # Thursday Island, duplicate\n",
    "             \"PLPEE01\",  # Peel Inlet, inland\n",
    "             \"DVHAR01\", # Harvey, inland\n",
    "             \"H060010A\") # Half Tide Tug, duplicate \n",
    "bad_contributers = (\"UHSLC\",)\n",
    "gauge_df = gauge_df.query(\n",
    "    f\"(country == 'AUS') & \"\n",
    "    f\"(site_code not in {bad_sites}) & \"\n",
    "    f\"(contributor_abbreviated not in {bad_contributers})\"\n",
    ")\n",
    "\n",
    "# Normalise to mean sea level\n",
    "gauge_df[\"sea_level\"] -= gauge_df.groupby([\"site_code\"])[\"sea_level\"].transform(\"mean\")\n",
    "\n",
    "# Select 3-hourly subset\n",
    "# gauge_df = gauge_df.iloc[::3]"
   ]
  },
  {
   "cell_type": "code",
   "execution_count": 7,
   "id": "1f81e778-118c-4618-b78e-24ffe7c278f4",
   "metadata": {
    "tags": []
   },
   "outputs": [],
   "source": [
    "# Export stations being processed to file\n",
    "sites_df = gauge_df.groupby(\"site_code\").first().iloc[:, 3:]\n",
    "sites_gdf = gpd.GeoDataFrame(data=sites_df, geometry=gpd.points_from_xy(sites_df.longitude, sites_df.latitude))\n",
    "sites_gdf.to_file(\"gesla_stations_aus.geojson\")"
   ]
  },
  {
   "cell_type": "markdown",
   "id": "6079bb09-1e37-488f-9c7c-dcb50ed62d6b",
   "metadata": {},
   "source": [
    "## Model tides at each gauge"
   ]
  },
  {
   "cell_type": "code",
   "execution_count": null,
   "id": "846bd768-1dc2-4bc8-8028-6d43fe90f71a",
   "metadata": {
    "tags": []
   },
   "outputs": [],
   "source": [
    "from dea_tools.coastal import model_tides\n",
    "\n",
    "ensemble_funcs = {\n",
    "    \"ensemble-top\": lambda x: x[\"rank\"] == 1,\n",
    "    \"ensemble-bottom\": lambda x: x[\"rank\"] == 7,\n",
    "    \"ensemble-mean-top3\": lambda x: x[\"rank\"] <= 3,\n",
    "    \"ensemble-mean\": lambda x: x[\"rank\"] <= 7,\n",
    "    # \"ensemble-mean-top5\": lambda x: x[\"rank\"] <= 5,\n",
    "    # \"ensemble-mean-weighted\": lambda x: 8 - x[\"rank\"],\n",
    "}\n",
    "\n",
    "tide_df = model_tides(\n",
    "    x=gauge_df.longitude,  #.iloc[0:5],\n",
    "    y=gauge_df.latitude,  #.iloc[0:5],\n",
    "    time=gauge_df.index.get_level_values(\"time\"),  #[0:5],\n",
    "    model=[\n",
    "        \"FES2014\",\n",
    "        \"FES2012\",\n",
    "        \"TPXO8-atlas-v1\",\n",
    "        \"TPXO9-atlas-v5\",\n",
    "        \"EOT20\",\n",
    "        \"HAMTIDE11\",\n",
    "        \"GOT4.10\",\n",
    "        \"ensemble\",\n",
    "    ],\n",
    "    mode=\"one-to-one\",\n",
    "    parallel_splits=50,\n",
    "    output_format=\"wide\",\n",
    "    ensemble_func=ensemble_funcs,\n",
    "    p=2,\n",
    ").rename(\n",
    "    {\n",
    "        \"TPXO9-atlas-v5\": \"TPXO9\",\n",
    "        \"TPXO8-atlas\": \"TPXO8\",\n",
    "        \"TPXO8-atlas-v1\": \"TPXO8\",\n",
    "    },\n",
    "    axis=1,\n",
    ")\n",
    "tide_df"
   ]
  },
  {
   "cell_type": "code",
   "execution_count": 11,
   "id": "8eae1e61-6851-44b5-b10e-6114620b23f0",
   "metadata": {
    "tags": []
   },
   "outputs": [
    {
     "name": "stdout",
     "output_type": "stream",
     "text": [
      "Modelling tides using FES2022 in parallel\n"
     ]
    },
    {
     "name": "stderr",
     "output_type": "stream",
     "text": [
      "100%|██████████| 10/10 [02:22<00:00, 14.22s/it]\n"
     ]
    },
    {
     "name": "stdout",
     "output_type": "stream",
     "text": [
      "Converting to a wide format dataframe\n"
     ]
    },
    {
     "ename": "NameError",
     "evalue": "name 'tide_df' is not defined",
     "output_type": "error",
     "traceback": [
      "\u001b[0;31m---------------------------------------------------------------------------\u001b[0m",
      "\u001b[0;31mNameError\u001b[0m                                 Traceback (most recent call last)",
      "Cell \u001b[0;32mIn[11], line 13\u001b[0m\n\u001b[1;32m      1\u001b[0m tide_df_fes2022 \u001b[38;5;241m=\u001b[39m model_tides(\n\u001b[1;32m      2\u001b[0m     x\u001b[38;5;241m=\u001b[39mgauge_df\u001b[38;5;241m.\u001b[39mlongitude,  \u001b[38;5;66;03m#.iloc[0:5],\u001b[39;00m\n\u001b[1;32m      3\u001b[0m     y\u001b[38;5;241m=\u001b[39mgauge_df\u001b[38;5;241m.\u001b[39mlatitude,  \u001b[38;5;66;03m#.iloc[0:5],\u001b[39;00m\n\u001b[0;32m   (...)\u001b[0m\n\u001b[1;32m     10\u001b[0m     output_format\u001b[38;5;241m=\u001b[39m\u001b[38;5;124m\"\u001b[39m\u001b[38;5;124mwide\u001b[39m\u001b[38;5;124m\"\u001b[39m,\n\u001b[1;32m     11\u001b[0m )\n\u001b[0;32m---> 13\u001b[0m \u001b[43mtide_df\u001b[49m[\u001b[38;5;124m\"\u001b[39m\u001b[38;5;124mFES2022\u001b[39m\u001b[38;5;124m\"\u001b[39m] \u001b[38;5;241m=\u001b[39m tide_df_fes2022\u001b[38;5;241m.\u001b[39mFES2022\n\u001b[1;32m     14\u001b[0m tide_df\n",
      "\u001b[0;31mNameError\u001b[0m: name 'tide_df' is not defined"
     ]
    }
   ],
   "source": [
    "tide_df_fes2022 = model_tides(\n",
    "    x=gauge_df.longitude,  #.iloc[0:5],\n",
    "    y=gauge_df.latitude,  #.iloc[0:5],\n",
    "    time=gauge_df.index.get_level_values(\"time\"),  #[0:5],\n",
    "    model=[\"FES2022\"],\n",
    "    mode=\"one-to-one\",\n",
    "    parallel_splits=10,\n",
    "    output_format=\"wide\",\n",
    ")\n",
    "\n",
    "tide_df[\"FES2022\"] = tide_df_fes2022.FES2022\n",
    "tide_df"
   ]
  },
  {
   "cell_type": "markdown",
   "id": "10b688b2-a57a-409b-8f89-effab80b5c36",
   "metadata": {},
   "source": [
    "Pre-process into long format:"
   ]
  },
  {
   "cell_type": "code",
   "execution_count": null,
   "id": "c578bfd5-26cc-4720-95ae-f36fd9a7d61c",
   "metadata": {
    "tags": []
   },
   "outputs": [],
   "source": [
    "# Add tide gauge data to dataframe\n",
    "tide_df[\"site_code\"] = gauge_df.index.get_level_values(\"site_code\").values\n",
    "tide_df[\"site_name\"] = gauge_df.site_name.values\n",
    "tide_df[\"tide_gauge\"] = gauge_df.sea_level.values\n",
    "\n",
    "# Reshape to long format\n",
    "tide_df_long = tide_df.melt(\n",
    "    ignore_index=False,\n",
    "    id_vars=[\"tide_gauge\", \"site_code\", \"site_name\"],\n",
    "    value_vars=[\n",
    "        \"FES2022\",\n",
    "        \"FES2014\",\n",
    "        \"FES2012\",\n",
    "        \"TPXO8\",\n",
    "        \"TPXO9\",\n",
    "        \"EOT20\",\n",
    "        \"HAMTIDE11\",\n",
    "        \"GOT4.10\",\n",
    "        \"ensemble-top\",\n",
    "        \"ensemble-bottom\",\n",
    "        \"ensemble-mean-top3\",\n",
    "        \"ensemble-mean\",\n",
    "        # \"ensemble-mean-top5\",\n",
    "        # \"ensemble-mean-weighted\",\n",
    "    ],\n",
    "    value_name=\"tide_m\",\n",
    ")\n",
    "\n",
    "tide_df_long"
   ]
  },
  {
   "cell_type": "markdown",
   "id": "602d59d6-0eae-4324-acbf-b8ba711f9c6d",
   "metadata": {},
   "source": [
    "## Analysis\n"
   ]
  },
  {
   "cell_type": "markdown",
   "id": "a3015aa4-5919-44a0-9dfd-64eed7bfd1f3",
   "metadata": {
    "tags": []
   },
   "source": [
    "### Overall accuracy stats for each model"
   ]
  },
  {
   "cell_type": "code",
   "execution_count": null,
   "id": "802191f0-0dc8-4741-a85e-a3c752ec25b5",
   "metadata": {
    "tags": []
   },
   "outputs": [],
   "source": [
    "accuracy_df = tide_df_long.groupby([\"tide_model\"])[[\"tide_gauge\", \"tide_m\"]].apply(\n",
    "    lambda x: eval_metrics(x=x.tide_gauge, y=x.tide_m, round=4)\n",
    ")\n",
    "accuracy_df.sort_values(\"RMSE\").style.background_gradient(\n",
    "    cmap=\"RdBu_r\",\n",
    "    subset=[\"RMSE\"],\n",
    ")"
   ]
  },
  {
   "cell_type": "code",
   "execution_count": null,
   "id": "3f79e46d-11e9-44b1-97c2-fd7feca19ef7",
   "metadata": {
    "tags": []
   },
   "outputs": [],
   "source": [
    "accuracy_df.loc[default_models].sort_values(\"RMSE\").style.background_gradient(\n",
    "    cmap=\"RdBu_r\",\n",
    "    subset=[\"RMSE\"],\n",
    ")"
   ]
  },
  {
   "cell_type": "code",
   "execution_count": null,
   "id": "360c6ece-9395-4cd0-9adf-560c2e1dc6d0",
   "metadata": {
    "tags": []
   },
   "outputs": [],
   "source": [
    "# with pd.option_context('display.max_rows', None, 'display.max_columns', None):  # more options can be specified also\n",
    "#     print(tide_df_long.groupby([\"site_name\", \"tide_model\"]).tide_m.count())"
   ]
  },
  {
   "cell_type": "markdown",
   "id": "535a0375-3e37-48d0-aa1c-7987e63a5bb2",
   "metadata": {
    "tags": []
   },
   "source": [
    "### Model stats per site"
   ]
  },
  {
   "cell_type": "code",
   "execution_count": null,
   "id": "33d81da7-844d-417b-b644-cfcb584b9792",
   "metadata": {
    "tags": []
   },
   "outputs": [],
   "source": [
    "accuracy_sites_df = tide_df_long.query(\"site_name != 'Lord_Howe_Island'\").groupby([\"site_name\", \"tide_model\"])[\n",
    "    [\"tide_gauge\", \"tide_m\"]\n",
    "].apply(lambda x: eval_metrics(x=x.tide_gauge, y=x.tide_m, round=4))"
   ]
  },
  {
   "cell_type": "markdown",
   "id": "aa7f1840-e948-4ef4-9c06-29dc5bb6bae0",
   "metadata": {},
   "source": [
    "#### Performance at sites with most model disagreement"
   ]
  },
  {
   "cell_type": "code",
   "execution_count": null,
   "id": "a4b016b8-fa4d-4bb5-b18a-ecb1825a41be",
   "metadata": {
    "tags": []
   },
   "outputs": [],
   "source": [
    "# Standard models\n",
    "default_models = [\n",
    "    \"FES2022\",\n",
    "    \"FES2014\",\n",
    "    \"FES2012\",\n",
    "    \"TPXO8\",\n",
    "    \"TPXO9\",\n",
    "    \"EOT20\",\n",
    "    \"HAMTIDE11\",\n",
    "    \"GOT4.10\",\n",
    "]\n",
    "\n",
    "# Identify sites with highest standard deviation / disagrement\n",
    "most_disagrement = (\n",
    "    accuracy_sites_df.query(\"tide_model in @default_models\")\n",
    "    .groupby(\"site_name\")[\"RMSE\"]\n",
    "    .std()\n",
    "    .nlargest(10)\n",
    "    .index\n",
    ")\n",
    "most_disagrement"
   ]
  },
  {
   "cell_type": "code",
   "execution_count": null,
   "id": "aac0dded-9cfc-4f9c-9128-3960668a3314",
   "metadata": {
    "tags": []
   },
   "outputs": [],
   "source": [
    "accuracy_df = (\n",
    "    tide_df_long.query(\"site_name in @most_disagrement\")\n",
    "    .groupby([\"tide_model\"])[[\"tide_gauge\", \"tide_m\"]]\n",
    "    .apply(lambda x: eval_metrics(x=x.tide_gauge, y=x.tide_m, round=4))\n",
    ")\n",
    "accuracy_df.sort_values(\"RMSE\").sort_values(\"RMSE\").style.background_gradient(\n",
    "    cmap=\"RdBu_r\",\n",
    "    subset=[\"RMSE\"],\n",
    ")"
   ]
  },
  {
   "cell_type": "markdown",
   "id": "d5496769-3a2b-4cdd-8c1f-615e771685cc",
   "metadata": {},
   "source": [
    "#### Top results per site per model"
   ]
  },
  {
   "cell_type": "code",
   "execution_count": null,
   "id": "0b21f9fe-345e-4a77-9a44-402376bdbb1e",
   "metadata": {
    "tags": []
   },
   "outputs": [],
   "source": [
    "accuracy_sites_df.loc[\n",
    "    accuracy_sites_df\n",
    "    .groupby(\"site_name\")\n",
    "    .RMSE.idxmin()\n",
    "].reset_index().tide_model.value_counts()"
   ]
  },
  {
   "cell_type": "code",
   "execution_count": null,
   "id": "b80d9114-c9b9-4677-a1ec-baa4f288846b",
   "metadata": {
    "tags": []
   },
   "outputs": [],
   "source": [
    "# Excluding EOT20\n",
    "accuracy_sites_df.loc[\n",
    "    accuracy_sites_df.query(\n",
    "        \"tide_model not in ['EOT20']\"\n",
    "    )\n",
    "    .groupby(\"site_name\")\n",
    "    .RMSE.idxmin()\n",
    "].reset_index().tide_model.value_counts()"
   ]
  },
  {
   "cell_type": "markdown",
   "id": "62aba705-e20e-49ce-ab97-04f363b9db0c",
   "metadata": {},
   "source": [
    "#### Bottom results per site per model"
   ]
  },
  {
   "cell_type": "code",
   "execution_count": null,
   "id": "77c69725-972c-49b6-a804-c7a3134e5b8d",
   "metadata": {
    "tags": []
   },
   "outputs": [],
   "source": [
    "accuracy_sites_df.loc[\n",
    "    accuracy_sites_df\n",
    "    .groupby(\"site_name\")\n",
    "    .RMSE.idxmax()\n",
    "].reset_index().tide_model.value_counts()"
   ]
  },
  {
   "cell_type": "markdown",
   "id": "12315e89-e14f-454d-9568-d2e1cd5c946e",
   "metadata": {},
   "source": [
    "#### Plot rankings as histogram"
   ]
  },
  {
   "cell_type": "code",
   "execution_count": null,
   "id": "c43482ce-ba85-48d4-9bf5-ba269dcd18f4",
   "metadata": {
    "tags": []
   },
   "outputs": [],
   "source": [
    "rank_counts = (\n",
    "    accuracy_sites_df.groupby(\"site_name\")\n",
    "    .RMSE.rank(method=\"min\")\n",
    "    .groupby(\"tide_model\")\n",
    "    .value_counts()\n",
    "    .rename_axis([\"tide_model\", \"Rank (RMSE)\"])\n",
    ")\n",
    "\n",
    "g = sns.FacetGrid(\n",
    "    rank_counts.to_frame().reset_index(),\n",
    "    col_order=[\n",
    "        \"EOT20\",\n",
    "        \"ensemble-mean-top3\",\n",
    "        \"FES2022\",\n",
    "        \"TPXO9\",\n",
    "        \"FES2014\",\n",
    "        \"TPXO8\",\n",
    "        \"FES2012\",\n",
    "        \"HAMTIDE11\",\n",
    "        \"GOT4.10\",\n",
    "    ],\n",
    "    col=\"tide_model\",\n",
    "    aspect=0.7,\n",
    "    height=4,\n",
    ")\n",
    "g.set_titles(col_template=\"{col_name}\")\n",
    "g.map(sns.barplot, \"Rank (RMSE)\", \"count\")"
   ]
  },
  {
   "cell_type": "markdown",
   "id": "2b2494d3-f70a-4ab2-aabf-ef0fea9c66b0",
   "metadata": {},
   "source": [
    "### Export tide validation plots"
   ]
  },
  {
   "cell_type": "code",
   "execution_count": null,
   "id": "c6372ce4-a0ff-4f16-876c-33516e45039b",
   "metadata": {
    "tags": []
   },
   "outputs": [],
   "source": [
    "# # Calculate tide range per site\n",
    "# tide_range = (\n",
    "#     tide_df_long.groupby(\"site_name\")[\"tide_gauge\"]\n",
    "#     .apply(lambda x: np.abs(x).max())\n",
    "#     .sort_values()\n",
    "# )\n",
    "\n",
    "# Select subset\n",
    "# sites, limits, title = tide_range.loc[tide_range >= 2].index, 5, \"Macrotidal sites\"\n",
    "# sites, limits, title = tide_range.loc[(tide_range >= 1) & (tide_range < 2)].index, 2, \"Mesotidal sites\"\n",
    "# sites, limits, title = tide_range.loc[tide_range < 1].index, 1, \"Microtidal sites\"\n",
    "\n",
    "# Optionally restrict to subset\n",
    "site_filter = [\n",
    "    # \"DYDBY01\",\n",
    "    # \"63090\",\n",
    "    # \"59511\",\n",
    "    # \"59510\",\n",
    "    # \"61800\",\n",
    "    # \"59690\",\n",
    "    # \"61840\",\n",
    "    # \"61600\",\n",
    "    # \"58170\",\n",
    "    # \"60780\",\n",
    "    # \"60739\",\n",
    "    # \"60590\",\n",
    "    # \"63511\",\n",
    "    # \"59980\",\n",
    "    # \"60710\",\n",
    "    # \"60730\",\n",
    "    \"59850\",\n",
    "]\n",
    "site_filter = most_disagrement.tolist()\n",
    "# site_filter = [\"Milner_Bay_Groote_Eylandt\"]\n",
    "sites, limits, title = site_filter, 3, \"Problematic sites\" \n",
    "models_to_plot = ['EOT20', 'FES2012', 'FES2014', 'GOT4.10', 'HAMTIDE11', \n",
    "                  'TPXO9', 'TPXO8', 'ensemble-mean-top3']\n",
    "\n",
    "# Plot facetted\n",
    "g = sns.FacetGrid(\n",
    "     tide_df_long.query(f\"(site_name in {sites}) & (tide_model in @models_to_plot)\").reset_index(),\n",
    "    col=\"tide_model\",\n",
    "    row=\"site_name\",\n",
    "    margin_titles=True,\n",
    "    # xlim=(-limits, limits),\n",
    "    # ylim=(-limits, limits),\n",
    ")\n",
    "g.fig.suptitle(title, size=20)\n",
    "g.set_titles(row_template=\"{row_name}\", col_template=\"{col_name}\")\n",
    "g.map(sns.scatterplot, \"tide_gauge\", \"tide_m\", alpha=0.1, linewidth=0, s=3)\n",
    "for a in g.axes.flat:\n",
    "    a.plot([-limits, limits], [-limits, limits], \"--\", c=\"black\")\n",
    "g.savefig(f\"{title.replace(' ', '')}.jpg\")"
   ]
  }
 ],
 "metadata": {
  "kernelspec": {
   "display_name": "Python 3 (ipykernel)",
   "language": "python",
   "name": "python3"
  },
  "language_info": {
   "codemirror_mode": {
    "name": "ipython",
    "version": 3
   },
   "file_extension": ".py",
   "mimetype": "text/x-python",
   "name": "python",
   "nbconvert_exporter": "python",
   "pygments_lexer": "ipython3",
   "version": "3.10.13"
  },
  "widgets": {
   "application/vnd.jupyter.widget-state+json": {
    "state": {},
    "version_major": 2,
    "version_minor": 0
   }
  }
 },
 "nbformat": 4,
 "nbformat_minor": 5
}

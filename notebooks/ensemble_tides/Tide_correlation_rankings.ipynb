{
 "cells": [
  {
   "cell_type": "markdown",
   "id": "5ec253af-be87-478a-bf54-24cbb24de3b9",
   "metadata": {},
   "source": [
    "# NDWI-tide correlation tide model rankings\n",
    "\n",
    "This code processes correlations between multiple global ocean tide models and satellite-derived NDWI water index data at regularly spaced points along the coastline, and returns tide model performance and rankings in a standardised format for further analysis.\n",
    "\n",
    "## Getting started\n",
    "Set working directory to top level of repo to ensure links work correctly:"
   ]
  },
  {
   "cell_type": "code",
   "execution_count": null,
   "id": "ab5f5e34-15e6-42af-9464-eaf382275fea",
   "metadata": {},
   "outputs": [],
   "source": [
    "cd ../.."
   ]
  },
  {
   "cell_type": "markdown",
   "id": "8ab5c518-db8a-417a-b28a-1e166ce6a468",
   "metadata": {},
   "source": [
    "Install additional packages directly from the requirements file:"
   ]
  },
  {
   "cell_type": "code",
   "execution_count": null,
   "id": "378cda91-11c6-494c-a5fd-7cb649d64e6b",
   "metadata": {},
   "outputs": [],
   "source": [
    "pip install -r requirements.in --quiet"
   ]
  },
  {
   "cell_type": "markdown",
   "id": "f68364b3-5da3-4ccc-b621-4bdc064176f5",
   "metadata": {},
   "source": [
    "Now restart!"
   ]
  },
  {
   "cell_type": "markdown",
   "id": "1daa805e-d940-4fb0-8e60-d795c1099940",
   "metadata": {},
   "source": [
    "### Load packages"
   ]
  },
  {
   "cell_type": "code",
   "execution_count": null,
   "id": "9549c82b-93b4-4873-a003-bcece2577a0c",
   "metadata": {},
   "outputs": [],
   "source": [
    "%load_ext autoreload\n",
    "%autoreload 2\n",
    "\n",
    "import os\n",
    "\n",
    "import xarray as xr\n",
    "import pandas as pd\n",
    "import numpy as np\n",
    "import geopandas as gpd\n",
    "import matplotlib.pyplot as plt\n",
    "from tqdm.auto import tqdm\n",
    "from ipyleaflet import basemaps, basemap_to_tiles\n",
    "\n",
    "import datacube\n",
    "import odc.geo.xr\n",
    "from odc.geo.geom import Geometry\n",
    "from odc.geo.geobox import GeoBox\n",
    "from odc.ui import select_on_a_map\n",
    "\n",
    "from dea_tools.dask import create_local_dask_cluster\n",
    "from dea_tools.coastal import pixel_tides, tidal_tag, model_tides\n",
    "from intertidal.elevation import (\n",
    "    load_data,\n",
    "    ds_to_flat,\n",
    "    flat_to_ds,\n",
    ")\n",
    "\n",
    "def correlation_loop(point_id, geom, models):\n",
    "    satellite_ds, _, _ = load_data(\n",
    "        dc=dc,\n",
    "        study_area=point_id,\n",
    "        geom=geom,\n",
    "        time_range=(start_date, end_date),\n",
    "        resolution=resolution,\n",
    "        crs=crs,\n",
    "        include_s2=True,\n",
    "        include_ls=True,\n",
    "        filter_gqa=filter_gqa,\n",
    "        dask_chunks={\"x\": None, \"y\": None},\n",
    "    )\n",
    "\n",
    "    # Load data\n",
    "    satellite_ds.load()\n",
    "\n",
    "    # Model tides\n",
    "    tides_df = model_tides(\n",
    "        x=satellite_ds.x.mean(),\n",
    "        y=satellite_ds.y.mean(),\n",
    "        time=satellite_ds.time,\n",
    "        model=models,\n",
    "        directory=tide_model_dir,\n",
    "        crs=satellite_ds.odc.crs,\n",
    "        parallel_splits=1,\n",
    "    )\n",
    "\n",
    "    # Add to data\n",
    "    satellite_ds[\"tide_m\"] = (\n",
    "        tides_df.droplevel(level=[\"x\", \"y\"])\n",
    "        .set_index(\"tide_model\", append=True)\n",
    "        .to_xarray()\n",
    "        .tide_m.reindex_like(satellite_ds)\n",
    "        .transpose(\"tide_model\", \"time\")\n",
    "    )\n",
    "\n",
    "    # Calculate corrs\n",
    "    _, _, corr = ds_to_flat(\n",
    "        satellite_ds,\n",
    "        ndwi_thresh=0.0,\n",
    "        min_freq=0.01,\n",
    "        max_freq=0.99,\n",
    "    )\n",
    "\n",
    "    corr_mask = corr.max(dim=\"tide_model\") >= 0.15\n",
    "    corr = corr.where(corr_mask)\n",
    "\n",
    "    out_df = (\n",
    "        corr.drop(\"spatial_ref\")\n",
    "        .mean(dim=\"z\")\n",
    "        .to_dataframe(name=\"tide_m\")\n",
    "        .assign(point_id=point_id)\n",
    "        .set_index(\"point_id\", append=True)\n",
    "    )\n",
    "\n",
    "    # Add percent valid intertidal pixels analysed\n",
    "    out_df[\"valid_perc\"] = corr_mask.mean(dim=\"z\").item()\n",
    "\n",
    "    return out_df\n"
   ]
  },
  {
   "cell_type": "markdown",
   "id": "696076dd-35f8-42a3-a056-96fb40e02168",
   "metadata": {
    "tags": []
   },
   "source": [
    "## Setup\n"
   ]
  },
  {
   "cell_type": "markdown",
   "id": "d207f9e8-aa30-47c9-9067-8b80d476d8ca",
   "metadata": {},
   "source": [
    "### Set analysis parameters"
   ]
  },
  {
   "cell_type": "code",
   "execution_count": null,
   "id": "6d7362fc-c845-4570-ae54-3c83c88af9ce",
   "metadata": {
    "tags": []
   },
   "outputs": [],
   "source": [
    "# Intertidal Elevation variables\n",
    "start_date = \"2017\"  # Informed by http://www.bom.gov.au/climate/enso/soi/?\n",
    "end_date = \"2019\"  #  Non La Nina/El Nino period\n",
    "resolution = 10  # Spatial resolution used for output files\n",
    "crs = \"EPSG:3577\"  # Coordinate Reference System (CRS) to use for output files\n",
    "include_s2 = True  # Include Sentinel-2 data in the analysis?\n",
    "include_ls = True  # Include Landsat data in the analysis?\n",
    "filter_gqa = True  # Filter to remove poorly georeferenced scenes?\n",
    "tide_model_dir = \"/gdata1/data/tide_models_clipped/\"  # Directory containing tide model files\n",
    "\n",
    "# Models to run\n",
    "models = [\n",
    "    \"FES2022\",\n",
    "    \"FES2014\",\n",
    "    \"TPXO9-atlas-v5\",\n",
    "    \"EOT20\",\n",
    "    \"HAMTIDE11\",\n",
    "    \"GOT4.10\",\n",
    "    \"FES2012\",\n",
    "    \"TPXO8-atlas-v1\",\n",
    "]"
   ]
  },
  {
   "cell_type": "markdown",
   "id": "fffd3b0a-b308-4325-9d08-4e7474199d65",
   "metadata": {},
   "source": [
    "### Load correlation points"
   ]
  },
  {
   "cell_type": "code",
   "execution_count": null,
   "id": "d02377f1-6168-4769-a28b-1050af1a9c52",
   "metadata": {
    "tags": []
   },
   "outputs": [],
   "source": [
    "# Load points\n",
    "points_gdf = gpd.read_file(\"data/raw/tide_correlation_points_input.geojson\").to_crs(\"EPSG:3577\")\n",
    "\n",
    "# Select subset\n",
    "points_gdf, name = points_gdf.iloc[0:5], \"test\"\n",
    "# points_gdf, name = points_gdf.to_crs(\"EPSG:4326\").cx[149.249485:150.307278, -22.739863:-21.483880].to_crs(\"EPSG:3577\"), \"test\"\n",
    "# points_gdf, name = points_gdf.iloc[0:500], \"robbi_part1\"\n",
    "# points_gdf, name = points_gdf.iloc[500:1000], \"robbi_part2\"\n",
    "# points_gdf, name = points_gdf.iloc[1000:1500], \"claire_part1\"\n",
    "# points_gdf, name = points_gdf.iloc[1500:2000], \"claire_part2\"\n",
    "# points_gdf, name = points_gdf.iloc[2000:2500], \"ness_part1\"\n",
    "# points_gdf, name = points_gdf.iloc[2500:3000], \"ness_part2\"\n",
    "points_gdf.plot()\n",
    "\n",
    "# Apply buffer\n",
    "points_gdf[\"geometry\"] = points_gdf.geometry.buffer(2500)\n"
   ]
  },
  {
   "cell_type": "markdown",
   "id": "1c826a4e-fc8a-419b-874f-9c82c5856b83",
   "metadata": {
    "tags": []
   },
   "source": [
    "## Run correlation analysis"
   ]
  },
  {
   "cell_type": "code",
   "execution_count": null,
   "id": "92705307-d8e6-48f7-a915-024db54745de",
   "metadata": {
    "tags": []
   },
   "outputs": [],
   "source": [
    "# Connect to datacube\n",
    "dc = datacube.Datacube(app=\"NDWI-tide correlations\")\n",
    "\n",
    "# Create local dask cluster to improve data load time\n",
    "client = create_local_dask_cluster(return_client=True)\n",
    "\n",
    "out_list = []\n",
    "\n",
    "for i, row in tqdm(points_gdf.iterrows(), \n",
    "                   total=points_gdf.shape[0]):\n",
    "    \n",
    "    try:\n",
    "    \n",
    "        point_id = row.id\n",
    "        print(f\"Processing ID {point_id}\")\n",
    "        geom = Geometry(row.geometry, crs=\"EPSG:3577\")       \n",
    "\n",
    "        output_df = correlation_loop(point_id, geom, models)\n",
    "        output_df[\"x\"] = row.geometry.centroid.x\n",
    "        output_df[\"y\"] = row.geometry.centroid.y\n",
    "\n",
    "        out_list.append(output_df)\n",
    "\n",
    "        client.restart()\n",
    "    \n",
    "    except:\n",
    "        print(f\"{point_id} failed; skipping\")\n",
    "    \n",
    "client.close()"
   ]
  },
  {
   "cell_type": "markdown",
   "id": "d86762e7-b3c6-4254-931d-d78309b0b58e",
   "metadata": {},
   "source": [
    "### Combine and process data"
   ]
  },
  {
   "cell_type": "code",
   "execution_count": null,
   "id": "1c932cca-fd88-43b3-8082-f76b8aa45088",
   "metadata": {
    "tags": []
   },
   "outputs": [],
   "source": [
    "# Combine outputs into single dataframe\n",
    "combined_df = (\n",
    "    pd.concat(out_list)\n",
    "    .set_index([\"x\", \"y\", \"valid_perc\"], append=True)\n",
    "    .unstack(\"tide_model\")[\"tide_m\"]\n",
    "    .assign(source=\"ndwi correlation\", statistic=\"correlation\")\n",
    "    .reset_index([\"x\", \"y\", \"valid_perc\"])\n",
    "    .reindex([\"x\", \"y\", \"valid_perc\", \"source\", \"statistic\"] + models, axis=1)\n",
    ")\n",
    "\n",
    "# Add additional columns\n",
    "combined_df[\"min\"] = combined_df.loc[:, models].min(axis=1)\n",
    "combined_df[\"max\"] = combined_df.loc[:, models].max(axis=1)\n",
    "combined_df[\"diff\"] = combined_df[\"max\"] - combined_df[\"min\"]\n",
    "combined_df[\"ave\"] = combined_df.loc[:, models].mean(axis=1)\n",
    "combined_df[\"std\"] = combined_df.loc[:, models].std(axis=1)\n",
    "\n",
    "# Calculate ranks and best/worst models\n",
    "combined_df = pd.concat(\n",
    "    [combined_df, combined_df.loc[:, models].rank(axis=1, ascending=False).add_prefix(\"rank_\")], axis=1\n",
    ")\n",
    "combined_df[\"top_model\"] = combined_df.filter(regex='^rank').idxmin(axis=1).str[5:]\n",
    "combined_df[\"worst_model\"] = combined_df.filter(regex='^rank').idxmax(axis=1).str[5:]\n",
    "combined_df"
   ]
  },
  {
   "cell_type": "markdown",
   "id": "9081e13d-ff74-4f8f-863e-6a43be0130ab",
   "metadata": {},
   "source": [
    "### Export"
   ]
  },
  {
   "cell_type": "code",
   "execution_count": null,
   "id": "1061ef63-6f79-465b-92dc-4139729849bc",
   "metadata": {
    "tags": []
   },
   "outputs": [],
   "source": [
    "combined_gdf = gpd.GeoDataFrame(\n",
    "    data=combined_df,\n",
    "    geometry=gpd.points_from_xy(combined_df.x, combined_df.y, crs=\"EPSG:3577\"),\n",
    ").to_crs(\"EPSG:4326\")\n",
    "combined_gdf.to_file(f\"data/raw/tide_correlation_points_{name}.geojson\")\n",
    "combined_gdf.explore()"
   ]
  },
  {
   "cell_type": "markdown",
   "id": "887e76fe-9ae6-44b4-9aa9-ea07215daa61",
   "metadata": {},
   "source": [
    "### Combine"
   ]
  },
  {
   "cell_type": "code",
   "execution_count": null,
   "id": "c3c25608-8416-4b2a-b9a9-dd2db137bd28",
   "metadata": {},
   "outputs": [],
   "source": [
    "tide_correlation_points = pd.concat(\n",
    "    [\n",
    "        gpd.read_file(\"data/raw/tide_correlation_points_robbi_part1.geojson\"),\n",
    "        gpd.read_file(\"data/raw/tide_correlation_points_robbi_part2.geojson\"),\n",
    "        gpd.read_file(\"data/raw/tide_correlation_points_ness_part1.geojson\"),\n",
    "        gpd.read_file(\"data/raw/tide_correlation_points_ness_part2.geojson\"),\n",
    "        gpd.read_file(\"data/raw/tide_correlation_points_claire_part1.geojson\"),\n",
    "        gpd.read_file(\"data/raw/tide_correlation_points_claire_part2.geojson\")\n",
    "    ]\n",
    ").dropna(subset=\"FES2014\")\n",
    "\n",
    "# Convert x/y to lat/lon\n",
    "tide_correlation_points[\"x\"] = tide_correlation_points.geometry.x\n",
    "tide_correlation_points[\"y\"] = tide_correlation_points.geometry.y\n",
    "\n",
    "# Export\n",
    "tide_correlation_points.to_file(f\"data/raw/rankings_correlations_2017-2019.geojson\")"
   ]
  },
  {
   "cell_type": "markdown",
   "id": "5593add3-dd8f-4249-90ec-fe9b8c00221f",
   "metadata": {
    "tags": []
   },
   "source": [
    "#### Combine with altimetry"
   ]
  },
  {
   "cell_type": "code",
   "execution_count": null,
   "id": "75ae2f06-efab-4bc5-8271-3d945534ff59",
   "metadata": {
    "tags": []
   },
   "outputs": [],
   "source": [
    "import geopandas as gpd\n",
    "tide_correlation_points = gpd.read_file(\"data/raw/rankings_correlations_2017-2019.geojson\")\n",
    "coastal_altimetry_points = gpd.read_file(\"data/raw/rankings_altimetry_2017-2019.geojson\")"
   ]
  },
  {
   "cell_type": "code",
   "execution_count": null,
   "id": "b35433f8-70c5-4435-a45e-0a2715695a67",
   "metadata": {
    "tags": []
   },
   "outputs": [],
   "source": [
    "import pandas as pd\n",
    "\n",
    "rank_cols = [\n",
    "    \"rank_FES2022\",\n",
    "    \"rank_FES2014\",\n",
    "    \"rank_TPXO9-atlas-v5\",\n",
    "    \"rank_EOT20\",\n",
    "    \"rank_HAMTIDE11\",\n",
    "    \"rank_GOT4.10\",\n",
    "    \"rank_FES2012\",\n",
    "    \"rank_TPXO8-atlas-v1\",\n",
    "]\n",
    "\n",
    "value_cols = [\n",
    "    \"FES2022\",\n",
    "    \"FES2014\",\n",
    "    \"TPXO9-atlas-v5\",\n",
    "    \"EOT20\",\n",
    "    \"HAMTIDE11\",\n",
    "    \"GOT4.10\",\n",
    "    \"FES2012\",\n",
    "    \"TPXO8-atlas-v1\",\n",
    "]\n",
    "\n",
    "\n",
    "combined_gdf = (\n",
    "    pd.concat([tide_correlation_points, coastal_altimetry_points])\n",
    "    .drop(\"point_id\", axis=1)\n",
    "    .rename_axis(\"point_id\")\n",
    "    .dropna(subset=rank_cols)\n",
    ")\n",
    "\n",
    "# Convert dtypes\n",
    "combined_gdf[rank_cols] = combined_gdf[rank_cols].astype('int16')\n",
    "float64_cols = list(combined_gdf.select_dtypes(include='float64'))\n",
    "combined_gdf[float64_cols] = combined_gdf[float64_cols].round(3).astype('float32')\n",
    "\n",
    "combined_gdf.to_file(f\"data/raw/rankings_ensemble_2017-2019.geojson\")"
   ]
  },
  {
   "cell_type": "code",
   "execution_count": null,
   "id": "949ebd4b-dd47-4ccb-8f57-08d56a816a18",
   "metadata": {},
   "outputs": [],
   "source": [
    "with pd.option_context('display.max_rows', 5, 'display.max_columns', None): \n",
    "    display(combined_gdf)\n"
   ]
  }
 ],
 "metadata": {
  "kernelspec": {
   "display_name": "Python 3 (ipykernel)",
   "language": "python",
   "name": "python3"
  },
  "language_info": {
   "codemirror_mode": {
    "name": "ipython",
    "version": 3
   },
   "file_extension": ".py",
   "mimetype": "text/x-python",
   "name": "python",
   "nbconvert_exporter": "python",
   "pygments_lexer": "ipython3",
   "version": "3.10.13"
  },
  "widgets": {
   "application/vnd.jupyter.widget-state+json": {
    "state": {},
    "version_major": 2,
    "version_minor": 0
   }
  }
 },
 "nbformat": 4,
 "nbformat_minor": 5
}

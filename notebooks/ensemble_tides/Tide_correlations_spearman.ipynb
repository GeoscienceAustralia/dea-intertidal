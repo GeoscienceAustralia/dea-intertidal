{
 "cells": [
  {
   "cell_type": "markdown",
   "id": "5ec253af-be87-478a-bf54-24cbb24de3b9",
   "metadata": {},
   "source": [
    "# NDWI - tide correlation analysis\n",
    "## Getting started\n",
    "Set working directory to top level of repo to ensure links work correctly:"
   ]
  },
  {
   "cell_type": "code",
   "execution_count": 1,
   "id": "ab5f5e34-15e6-42af-9464-eaf382275fea",
   "metadata": {},
   "outputs": [
    {
     "name": "stdout",
     "output_type": "stream",
     "text": [
      "/home/jovyan/Robbi/dea-intertidal\n"
     ]
    }
   ],
   "source": [
    "cd ../.."
   ]
  },
  {
   "cell_type": "markdown",
   "id": "8ab5c518-db8a-417a-b28a-1e166ce6a468",
   "metadata": {},
   "source": [
    "Install additional packages directly from the requirements file"
   ]
  },
  {
   "cell_type": "code",
   "execution_count": null,
   "id": "378cda91-11c6-494c-a5fd-7cb649d64e6b",
   "metadata": {},
   "outputs": [],
   "source": [
    "pip install -r requirements.in --quiet"
   ]
  },
  {
   "cell_type": "markdown",
   "id": "1daa805e-d940-4fb0-8e60-d795c1099940",
   "metadata": {},
   "source": [
    "### Load packages"
   ]
  },
  {
   "cell_type": "code",
   "execution_count": 2,
   "id": "9549c82b-93b4-4873-a003-bcece2577a0c",
   "metadata": {},
   "outputs": [],
   "source": [
    "%load_ext autoreload\n",
    "%autoreload 2\n",
    "\n",
    "import os\n",
    "\n",
    "import xarray as xr\n",
    "import pandas as pd\n",
    "import numpy as np\n",
    "import geopandas as gpd\n",
    "import matplotlib.pyplot as plt\n",
    "from tqdm.auto import tqdm\n",
    "from ipyleaflet import basemaps, basemap_to_tiles\n",
    "\n",
    "import datacube\n",
    "import odc.geo.xr\n",
    "from odc.geo.geom import Geometry\n",
    "from odc.geo.geobox import GeoBox\n",
    "from odc.ui import select_on_a_map\n",
    "\n",
    "from dea_tools.dask import create_local_dask_cluster\n",
    "from dea_tools.coastal import pixel_tides, tidal_tag, model_tides\n",
    "from intertidal.elevation import (\n",
    "    load_data,\n",
    "    ds_to_flat,\n",
    "    flat_to_ds,\n",
    ")\n",
    "\n",
    "def correlation_loop(point_id, geom, models):\n",
    "    satellite_ds = load_data(\n",
    "        dc=dc,\n",
    "        study_area=point_id,\n",
    "        geom=geom,\n",
    "        time_range=(start_date, end_date),\n",
    "        resolution=resolution,\n",
    "        crs=crs,\n",
    "        include_s2=True,\n",
    "        include_ls=True,\n",
    "        filter_gqa=filter_gqa,\n",
    "        dask_chunks={\"x\": None, \"y\": None},\n",
    "    )\n",
    "\n",
    "    # Load data\n",
    "    satellite_ds.load()\n",
    "\n",
    "    # Model tides\n",
    "    tides_df = model_tides(\n",
    "        x=satellite_ds.x.mean(),\n",
    "        y=satellite_ds.y.mean(),\n",
    "        time=satellite_ds.time,\n",
    "        model=models,\n",
    "        directory=tide_model_dir,\n",
    "        crs=satellite_ds.odc.crs,\n",
    "    )\n",
    "\n",
    "    # Add to data\n",
    "    satellite_ds[\"tide_m\"] = (\n",
    "        tides_df.droplevel(level=[\"x\", \"y\"])\n",
    "        .set_index(\"tide_model\", append=True)\n",
    "        .to_xarray()\n",
    "        .tide_m.reindex_like(satellite_ds)\n",
    "        .transpose(\"tide_model\", \"time\")\n",
    "    )\n",
    "\n",
    "    # Calculate corrs\n",
    "    _, _, corr = ds_to_flat(\n",
    "        satellite_ds,\n",
    "        ndwi_thresh=0.0,\n",
    "        min_freq=0.01,\n",
    "        max_freq=0.99,\n",
    "        corr_method=\"spearman\",\n",
    "    )\n",
    "\n",
    "    corr_mask = corr.max(dim=\"tide_model\") >= 0.15\n",
    "    corr = corr.where(corr_mask)\n",
    "\n",
    "    out_df = (\n",
    "        corr.drop(\"spatial_ref\")\n",
    "        .mean(dim=\"z\")\n",
    "        .to_dataframe(name=\"tide_m\")\n",
    "        .assign(point_id=point_id)\n",
    "        .set_index(\"point_id\", append=True)\n",
    "    )\n",
    "\n",
    "    # Add percent valid intertidal pixels analysed\n",
    "    out_df[\"valid_perc\"] = corr_mask.mean(dim=\"z\").item()\n",
    "\n",
    "    return out_df\n"
   ]
  },
  {
   "cell_type": "markdown",
   "id": "696076dd-35f8-42a3-a056-96fb40e02168",
   "metadata": {
    "tags": []
   },
   "source": [
    "## Setup\n"
   ]
  },
  {
   "cell_type": "markdown",
   "id": "d207f9e8-aa30-47c9-9067-8b80d476d8ca",
   "metadata": {},
   "source": [
    "### Set analysis parameters"
   ]
  },
  {
   "cell_type": "code",
   "execution_count": 3,
   "id": "6d7362fc-c845-4570-ae54-3c83c88af9ce",
   "metadata": {
    "tags": []
   },
   "outputs": [],
   "source": [
    "# Intertidal Elevation variables\n",
    "start_date = \"2017\"  # Informed by http://www.bom.gov.au/climate/enso/soi/?\n",
    "end_date = \"2019\"  #  Non La Nina/El Nino period\n",
    "resolution = 10  # Spatial resolution used for output files\n",
    "crs = \"EPSG:3577\"  # Coordinate Reference System (CRS) to use for output files\n",
    "# ndwi_thresh = 0.1  # Threshold used to identify dry/wet transition\n",
    "include_s2 = True  # Include Sentinel-2 data in the analysis?\n",
    "include_ls = True  # Include Landsat data in the analysis?\n",
    "filter_gqa = True  # Filter to remove poorly georeferenced scenes?\n",
    "tide_model_dir = \"/gdata1/data/tide_models_clipped/\"  # Directory containing tide model files\n",
    "\n",
    "# Models to run\n",
    "models = [\n",
    "    \"FES2014\",\n",
    "    \"TPXO9-atlas-v5\",\n",
    "    \"EOT20\",\n",
    "    \"HAMTIDE11\",\n",
    "    \"GOT4.10\",\n",
    "    \"FES2012\",\n",
    "    \"TPXO8-atlas-v1\",\n",
    "]"
   ]
  },
  {
   "cell_type": "markdown",
   "id": "fffd3b0a-b308-4325-9d08-4e7474199d65",
   "metadata": {},
   "source": [
    "### Load correlation points"
   ]
  },
  {
   "cell_type": "code",
   "execution_count": 4,
   "id": "d02377f1-6168-4769-a28b-1050af1a9c52",
   "metadata": {
    "tags": []
   },
   "outputs": [
    {
     "data": {
      "image/png": "[encoded data removed]",
      "text/plain": [
       "<Figure size 640x480 with 1 Axes>"
      ]
     },
     "metadata": {},
     "output_type": "display_data"
    }
   ],
   "source": [
    "# Load points\n",
    "points_gdf = gpd.read_file(\"data/raw/tide_correlation_points_input.geojson\").to_crs(\"EPSG:3577\")\n",
    "\n",
    "# Select subset\n",
    "points_gdf, name = points_gdf.cx[423112:614153,-1625174:-1752063], \"spearmanndwi_nt\"\n",
    "# points_gdf, name = points_gdf.iloc[0:500], \"robbi_part1\"\n",
    "# points_gdf, name = points_gdf.iloc[500:1000], \"robbi_part2\"\n",
    "# points_gdf, name = points_gdf.iloc[1000:1500], \"claire_part1\"\n",
    "# points_gdf, name = points_gdf.iloc[1500:2000], \"claire_part2\"\n",
    "# points_gdf, name = points_gdf.iloc[2000:2500], \"ness_part1\"\n",
    "# points_gdf, name = points_gdf.iloc[2500:3000], \"ness_part2\"\n",
    "points_gdf.plot()\n",
    "\n",
    "# Apply buffer\n",
    "points_gdf[\"geometry\"] = points_gdf.geometry.buffer(2500)\n"
   ]
  },
  {
   "cell_type": "markdown",
   "id": "1c826a4e-fc8a-419b-874f-9c82c5856b83",
   "metadata": {
    "tags": []
   },
   "source": [
    "## Run correlation analysis"
   ]
  },
  {
   "cell_type": "code",
   "execution_count": 5,
   "id": "150edf20-242b-46b2-8a66-b0245b2cecc8",
   "metadata": {
    "tags": []
   },
   "outputs": [
    {
     "data": {
      "text/html": [
       "<div>\n",
       "    <div style=\"width: 24px; height: 24px; background-color: #e1e1e1; border: 3px solid #9D9D9D; border-radius: 5px; position: absolute;\"> </div>\n",
       "    <div style=\"margin-left: 48px;\">\n",
       "        <h3 style=\"margin-bottom: 0px;\">Client</h3>\n",
       "        <p style=\"color: #9D9D9D; margin-bottom: 0px;\">Client-e1761df2-94ab-11ee-b8f6-6e76308b0a45</p>\n",
       "        <table style=\"width: 100%; text-align: left;\">\n",
       "\n",
       "        <tr>\n",
       "        \n",
       "            <td style=\"text-align: left;\"><strong>Connection method:</strong> Cluster object</td>\n",
       "            <td style=\"text-align: left;\"><strong>Cluster type:</strong> distributed.LocalCluster</td>\n",
       "        \n",
       "        </tr>\n",
       "\n",
       "        \n",
       "            <tr>\n",
       "                <td style=\"text-align: left;\">\n",
       "                    <strong>Dashboard: </strong> <a href=\"/user/robbi.bishoptaylor@ga.gov.au/proxy/8787/status\" target=\"_blank\">/user/robbi.bishoptaylor@ga.gov.au/proxy/8787/status</a>\n",
       "                </td>\n",
       "                <td style=\"text-align: left;\"></td>\n",
       "            </tr>\n",
       "        \n",
       "\n",
       "        </table>\n",
       "\n",
       "        \n",
       "            <button style=\"margin-bottom: 12px;\" data-commandlinker-command=\"dask:populate-and-launch-layout\" data-commandlinker-args='{\"url\": \"/user/robbi.bishoptaylor@ga.gov.au/proxy/8787/status\" }'>\n",
       "                Launch dashboard in JupyterLab\n",
       "            </button>\n",
       "        \n",
       "\n",
       "        \n",
       "            <details>\n",
       "            <summary style=\"margin-bottom: 20px;\"><h3 style=\"display: inline;\">Cluster Info</h3></summary>\n",
       "            <div class=\"jp-RenderedHTMLCommon jp-RenderedHTML jp-mod-trusted jp-OutputArea-output\">\n",
       "    <div style=\"width: 24px; height: 24px; background-color: #e1e1e1; border: 3px solid #9D9D9D; border-radius: 5px; position: absolute;\">\n",
       "    </div>\n",
       "    <div style=\"margin-left: 48px;\">\n",
       "        <h3 style=\"margin-bottom: 0px; margin-top: 0px;\">LocalCluster</h3>\n",
       "        <p style=\"color: #9D9D9D; margin-bottom: 0px;\">e4aaf933</p>\n",
       "        <table style=\"width: 100%; text-align: left;\">\n",
       "            <tr>\n",
       "                <td style=\"text-align: left;\">\n",
       "                    <strong>Dashboard:</strong> <a href=\"/user/robbi.bishoptaylor@ga.gov.au/proxy/8787/status\" target=\"_blank\">/user/robbi.bishoptaylor@ga.gov.au/proxy/8787/status</a>\n",
       "                </td>\n",
       "                <td style=\"text-align: left;\">\n",
       "                    <strong>Workers:</strong> 1\n",
       "                </td>\n",
       "            </tr>\n",
       "            <tr>\n",
       "                <td style=\"text-align: left;\">\n",
       "                    <strong>Total threads:</strong> 31\n",
       "                </td>\n",
       "                <td style=\"text-align: left;\">\n",
       "                    <strong>Total memory:</strong> 237.21 GiB\n",
       "                </td>\n",
       "            </tr>\n",
       "            \n",
       "            <tr>\n",
       "    <td style=\"text-align: left;\"><strong>Status:</strong> running</td>\n",
       "    <td style=\"text-align: left;\"><strong>Using processes:</strong> True</td>\n",
       "</tr>\n",
       "\n",
       "            \n",
       "        </table>\n",
       "\n",
       "        <details>\n",
       "            <summary style=\"margin-bottom: 20px;\">\n",
       "                <h3 style=\"display: inline;\">Scheduler Info</h3>\n",
       "            </summary>\n",
       "\n",
       "            <div style=\"\">\n",
       "    <div>\n",
       "        <div style=\"width: 24px; height: 24px; background-color: #FFF7E5; border: 3px solid #FF6132; border-radius: 5px; position: absolute;\"> </div>\n",
       "        <div style=\"margin-left: 48px;\">\n",
       "            <h3 style=\"margin-bottom: 0px;\">Scheduler</h3>\n",
       "            <p style=\"color: #9D9D9D; margin-bottom: 0px;\">Scheduler-0219f1cd-034e-4b7e-bd4b-fd70d1af702e</p>\n",
       "            <table style=\"width: 100%; text-align: left;\">\n",
       "                <tr>\n",
       "                    <td style=\"text-align: left;\">\n",
       "                        <strong>Comm:</strong> tcp://127.0.0.1:36675\n",
       "                    </td>\n",
       "                    <td style=\"text-align: left;\">\n",
       "                        <strong>Workers:</strong> 1\n",
       "                    </td>\n",
       "                </tr>\n",
       "                <tr>\n",
       "                    <td style=\"text-align: left;\">\n",
       "                        <strong>Dashboard:</strong> <a href=\"/user/robbi.bishoptaylor@ga.gov.au/proxy/8787/status\" target=\"_blank\">/user/robbi.bishoptaylor@ga.gov.au/proxy/8787/status</a>\n",
       "                    </td>\n",
       "                    <td style=\"text-align: left;\">\n",
       "                        <strong>Total threads:</strong> 31\n",
       "                    </td>\n",
       "                </tr>\n",
       "                <tr>\n",
       "                    <td style=\"text-align: left;\">\n",
       "                        <strong>Started:</strong> Just now\n",
       "                    </td>\n",
       "                    <td style=\"text-align: left;\">\n",
       "                        <strong>Total memory:</strong> 237.21 GiB\n",
       "                    </td>\n",
       "                </tr>\n",
       "            </table>\n",
       "        </div>\n",
       "    </div>\n",
       "\n",
       "    <details style=\"margin-left: 48px;\">\n",
       "        <summary style=\"margin-bottom: 20px;\">\n",
       "            <h3 style=\"display: inline;\">Workers</h3>\n",
       "        </summary>\n",
       "\n",
       "        \n",
       "        <div style=\"margin-bottom: 20px;\">\n",
       "            <div style=\"width: 24px; height: 24px; background-color: #DBF5FF; border: 3px solid #4CC9FF; border-radius: 5px; position: absolute;\"> </div>\n",
       "            <div style=\"margin-left: 48px;\">\n",
       "            <details>\n",
       "                <summary>\n",
       "                    <h4 style=\"margin-bottom: 0px; display: inline;\">Worker: 0</h4>\n",
       "                </summary>\n",
       "                <table style=\"width: 100%; text-align: left;\">\n",
       "                    <tr>\n",
       "                        <td style=\"text-align: left;\">\n",
       "                            <strong>Comm: </strong> tcp://127.0.0.1:40947\n",
       "                        </td>\n",
       "                        <td style=\"text-align: left;\">\n",
       "                            <strong>Total threads: </strong> 31\n",
       "                        </td>\n",
       "                    </tr>\n",
       "                    <tr>\n",
       "                        <td style=\"text-align: left;\">\n",
       "                            <strong>Dashboard: </strong> <a href=\"/user/robbi.bishoptaylor@ga.gov.au/proxy/35657/status\" target=\"_blank\">/user/robbi.bishoptaylor@ga.gov.au/proxy/35657/status</a>\n",
       "                        </td>\n",
       "                        <td style=\"text-align: left;\">\n",
       "                            <strong>Memory: </strong> 237.21 GiB\n",
       "                        </td>\n",
       "                    </tr>\n",
       "                    <tr>\n",
       "                        <td style=\"text-align: left;\">\n",
       "                            <strong>Nanny: </strong> tcp://127.0.0.1:46829\n",
       "                        </td>\n",
       "                        <td style=\"text-align: left;\"></td>\n",
       "                    </tr>\n",
       "                    <tr>\n",
       "                        <td colspan=\"2\" style=\"text-align: left;\">\n",
       "                            <strong>Local directory: </strong> /tmp/dask-worker-space/worker-a0iumpk6\n",
       "                        </td>\n",
       "                    </tr>\n",
       "\n",
       "                    \n",
       "\n",
       "                    \n",
       "\n",
       "                </table>\n",
       "            </details>\n",
       "            </div>\n",
       "        </div>\n",
       "        \n",
       "\n",
       "    </details>\n",
       "</div>\n",
       "\n",
       "        </details>\n",
       "    </div>\n",
       "</div>\n",
       "            </details>\n",
       "        \n",
       "\n",
       "    </div>\n",
       "</div>"
      ],
      "text/plain": [
       "<Client: 'tcp://127.0.0.1:36675' processes=1 threads=31, memory=237.21 GiB>"
      ]
     },
     "metadata": {},
     "output_type": "display_data"
    },
    {
     "data": {
      "application/vnd.jupyter.widget-view+json": {
       "model_id": "cfcfae60ffca41e08cdac7a2b0c211ab",
       "version_major": 2,
       "version_minor": 0
      },
      "text/plain": [
       "  0%|          | 0/41 [00:00<?, ?it/s]"
      ]
     },
     "metadata": {},
     "output_type": "display_data"
    },
    {
     "name": "stdout",
     "output_type": "stream",
     "text": [
      "Processing ID 21\n"
     ]
    },
    {
     "name": "stderr",
     "output_type": "stream",
     "text": [
      "/env/lib/python3.10/site-packages/datacube/drivers/driver_cache.py:54: DeprecationWarning: pkg_resources is deprecated as an API. See https://setuptools.pypa.io/en/latest/pkg_resources.html\n",
      "  from pkg_resources import iter_entry_points\n",
      "/env/lib/python3.10/site-packages/rasterio/warp.py:344: NotGeoreferencedWarning: Dataset has no geotransform, gcps, or rpcs. The identity matrix will be returned.\n",
      "  _reproject(\n"
     ]
    },
    {
     "name": "stdout",
     "output_type": "stream",
     "text": [
      "Modelling tides using FES2014, TPXO9-atlas-v5, EOT20, HAMTIDE11, GOT4.10, FES2012, TPXO8-atlas-v1 in parallel\n"
     ]
    },
    {
     "name": "stderr",
     "output_type": "stream",
     "text": [
      "\n",
      "  0%|          | 0/7 [00:00<?, ?it/s]\u001b[A\n",
      " 14%|█▍        | 1/7 [00:09<00:56,  9.48s/it]\u001b[A\n",
      "100%|██████████| 7/7 [00:16<00:00,  2.34s/it]\u001b[A\n"
     ]
    },
    {
     "name": "stdout",
     "output_type": "stream",
     "text": [
      "Reducing analysed pixels from 251001 to 16242 (6.47%)\n"
     ]
    },
    {
     "name": "stderr",
     "output_type": "stream",
     "text": [
      "2023-12-07 02:55:18,365 - distributed.nanny - WARNING - Restarting worker\n"
     ]
    },
    {
     "name": "stdout",
     "output_type": "stream",
     "text": [
      "Processing ID 22\n"
     ]
    },
    {
     "name": "stderr",
     "output_type": "stream",
     "text": [
      "/env/lib/python3.10/site-packages/datacube/drivers/driver_cache.py:54: DeprecationWarning: pkg_resources is deprecated as an API. See https://setuptools.pypa.io/en/latest/pkg_resources.html\n",
      "  from pkg_resources import iter_entry_points\n",
      "/env/lib/python3.10/site-packages/rasterio/warp.py:344: NotGeoreferencedWarning: Dataset has no geotransform, gcps, or rpcs. The identity matrix will be returned.\n",
      "  _reproject(\n",
      "/env/lib/python3.10/site-packages/rasterio/warp.py:344: NotGeoreferencedWarning: Dataset has no geotransform, gcps, or rpcs. The identity matrix will be returned.\n",
      "  _reproject(\n"
     ]
    },
    {
     "name": "stdout",
     "output_type": "stream",
     "text": [
      "Modelling tides using FES2014, TPXO9-atlas-v5, EOT20, HAMTIDE11, GOT4.10, FES2012, TPXO8-atlas-v1 in parallel\n"
     ]
    },
    {
     "name": "stderr",
     "output_type": "stream",
     "text": [
      "\n",
      "  0%|          | 0/7 [00:00<?, ?it/s]\u001b[A\n",
      " 14%|█▍        | 1/7 [00:10<01:02, 10.34s/it]\u001b[A\n",
      "100%|██████████| 7/7 [00:17<00:00,  2.43s/it]\u001b[A\n"
     ]
    },
    {
     "name": "stdout",
     "output_type": "stream",
     "text": [
      "Reducing analysed pixels from 251001 to 20161 (8.03%)\n"
     ]
    },
    {
     "name": "stderr",
     "output_type": "stream",
     "text": [
      "2023-12-07 02:56:32,229 - distributed.nanny - WARNING - Restarting worker\n"
     ]
    },
    {
     "name": "stdout",
     "output_type": "stream",
     "text": [
      "Processing ID 153\n"
     ]
    },
    {
     "name": "stderr",
     "output_type": "stream",
     "text": [
      "/env/lib/python3.10/site-packages/datacube/drivers/driver_cache.py:54: DeprecationWarning: pkg_resources is deprecated as an API. See https://setuptools.pypa.io/en/latest/pkg_resources.html\n",
      "  from pkg_resources import iter_entry_points\n",
      "/env/lib/python3.10/site-packages/rasterio/warp.py:344: NotGeoreferencedWarning: Dataset has no geotransform, gcps, or rpcs. The identity matrix will be returned.\n",
      "  _reproject(\n",
      "/env/lib/python3.10/site-packages/rasterio/warp.py:344: NotGeoreferencedWarning: Dataset has no geotransform, gcps, or rpcs. The identity matrix will be returned.\n",
      "  _reproject(\n"
     ]
    },
    {
     "name": "stdout",
     "output_type": "stream",
     "text": [
      "Modelling tides using FES2014, TPXO9-atlas-v5, EOT20, HAMTIDE11, GOT4.10, FES2012, TPXO8-atlas-v1 in parallel\n"
     ]
    },
    {
     "name": "stderr",
     "output_type": "stream",
     "text": [
      "\n",
      "  0%|          | 0/7 [00:00<?, ?it/s]\u001b[A\n",
      " 14%|█▍        | 1/7 [00:08<00:53,  8.87s/it]\u001b[A\n",
      "100%|██████████| 7/7 [00:15<00:00,  2.19s/it]\u001b[A\n"
     ]
    },
    {
     "name": "stdout",
     "output_type": "stream",
     "text": [
      "Reducing analysed pixels from 251001 to 18628 (7.42%)\n"
     ]
    },
    {
     "name": "stderr",
     "output_type": "stream",
     "text": [
      "2023-12-07 02:57:42,772 - distributed.nanny - WARNING - Restarting worker\n"
     ]
    },
    {
     "name": "stdout",
     "output_type": "stream",
     "text": [
      "Processing ID 199\n"
     ]
    },
    {
     "name": "stderr",
     "output_type": "stream",
     "text": [
      "/env/lib/python3.10/site-packages/datacube/drivers/driver_cache.py:54: DeprecationWarning: pkg_resources is deprecated as an API. See https://setuptools.pypa.io/en/latest/pkg_resources.html\n",
      "  from pkg_resources import iter_entry_points\n",
      "/env/lib/python3.10/site-packages/rasterio/warp.py:344: NotGeoreferencedWarning: Dataset has no geotransform, gcps, or rpcs. The identity matrix will be returned.\n",
      "  _reproject(\n",
      "/env/lib/python3.10/site-packages/rasterio/warp.py:344: NotGeoreferencedWarning: Dataset has no geotransform, gcps, or rpcs. The identity matrix will be returned.\n",
      "  _reproject(\n",
      "/env/lib/python3.10/site-packages/rasterio/warp.py:344: NotGeoreferencedWarning: Dataset has no geotransform, gcps, or rpcs. The identity matrix will be returned.\n",
      "  _reproject(\n"
     ]
    },
    {
     "name": "stdout",
     "output_type": "stream",
     "text": [
      "Modelling tides using FES2014, TPXO9-atlas-v5, EOT20, HAMTIDE11, GOT4.10, FES2012, TPXO8-atlas-v1 in parallel\n"
     ]
    },
    {
     "name": "stderr",
     "output_type": "stream",
     "text": [
      "\n",
      "  0%|          | 0/7 [00:00<?, ?it/s]\u001b[A\n",
      " 14%|█▍        | 1/7 [00:09<00:56,  9.49s/it]\u001b[A\n",
      "100%|██████████| 7/7 [00:15<00:00,  2.23s/it]\u001b[A\n"
     ]
    },
    {
     "name": "stdout",
     "output_type": "stream",
     "text": [
      "Reducing analysed pixels from 251001 to 86177 (34.33%)\n"
     ]
    },
    {
     "name": "stderr",
     "output_type": "stream",
     "text": [
      "2023-12-07 02:59:31,215 - distributed.nanny - WARNING - Restarting worker\n"
     ]
    },
    {
     "name": "stdout",
     "output_type": "stream",
     "text": [
      "Processing ID 254\n"
     ]
    },
    {
     "name": "stderr",
     "output_type": "stream",
     "text": [
      "/env/lib/python3.10/site-packages/datacube/drivers/driver_cache.py:54: DeprecationWarning: pkg_resources is deprecated as an API. See https://setuptools.pypa.io/en/latest/pkg_resources.html\n",
      "  from pkg_resources import iter_entry_points\n",
      "/env/lib/python3.10/site-packages/rasterio/warp.py:344: NotGeoreferencedWarning: Dataset has no geotransform, gcps, or rpcs. The identity matrix will be returned.\n",
      "  _reproject(\n",
      "/env/lib/python3.10/site-packages/rasterio/warp.py:344: NotGeoreferencedWarning: Dataset has no geotransform, gcps, or rpcs. The identity matrix will be returned.\n",
      "  _reproject(\n"
     ]
    },
    {
     "name": "stdout",
     "output_type": "stream",
     "text": [
      "Modelling tides using FES2014, TPXO9-atlas-v5, EOT20, HAMTIDE11, GOT4.10, FES2012, TPXO8-atlas-v1 in parallel\n"
     ]
    },
    {
     "name": "stderr",
     "output_type": "stream",
     "text": [
      "\n",
      "  0%|          | 0/7 [00:00<?, ?it/s]\u001b[A\n",
      " 14%|█▍        | 1/7 [00:09<00:55,  9.30s/it]\u001b[A\n",
      "100%|██████████| 7/7 [00:15<00:00,  2.27s/it]\u001b[A\n"
     ]
    },
    {
     "name": "stdout",
     "output_type": "stream",
     "text": [
      "Reducing analysed pixels from 251001 to 43531 (17.34%)\n"
     ]
    },
    {
     "name": "stderr",
     "output_type": "stream",
     "text": [
      "2023-12-07 03:00:52,795 - distributed.nanny - WARNING - Restarting worker\n"
     ]
    },
    {
     "name": "stdout",
     "output_type": "stream",
     "text": [
      "Processing ID 298\n"
     ]
    },
    {
     "name": "stderr",
     "output_type": "stream",
     "text": [
      "/env/lib/python3.10/site-packages/datacube/drivers/driver_cache.py:54: DeprecationWarning: pkg_resources is deprecated as an API. See https://setuptools.pypa.io/en/latest/pkg_resources.html\n",
      "  from pkg_resources import iter_entry_points\n",
      "/env/lib/python3.10/site-packages/rasterio/warp.py:344: NotGeoreferencedWarning: Dataset has no geotransform, gcps, or rpcs. The identity matrix will be returned.\n",
      "  _reproject(\n",
      "/env/lib/python3.10/site-packages/rasterio/warp.py:344: NotGeoreferencedWarning: Dataset has no geotransform, gcps, or rpcs. The identity matrix will be returned.\n",
      "  _reproject(\n"
     ]
    },
    {
     "name": "stdout",
     "output_type": "stream",
     "text": [
      "Modelling tides using FES2014, TPXO9-atlas-v5, EOT20, HAMTIDE11, GOT4.10, FES2012, TPXO8-atlas-v1 in parallel\n"
     ]
    },
    {
     "name": "stderr",
     "output_type": "stream",
     "text": [
      "\n",
      "  0%|          | 0/7 [00:00<?, ?it/s]\u001b[A\n",
      " 14%|█▍        | 1/7 [00:10<01:01, 10.30s/it]\u001b[A\n",
      "100%|██████████| 7/7 [00:16<00:00,  2.36s/it]\u001b[A\n"
     ]
    },
    {
     "name": "stdout",
     "output_type": "stream",
     "text": [
      "Reducing analysed pixels from 251001 to 105938 (42.21%)\n"
     ]
    },
    {
     "name": "stderr",
     "output_type": "stream",
     "text": [
      "2023-12-07 03:02:54,280 - distributed.nanny - WARNING - Restarting worker\n"
     ]
    },
    {
     "name": "stdout",
     "output_type": "stream",
     "text": [
      "Processing ID 428\n"
     ]
    },
    {
     "name": "stderr",
     "output_type": "stream",
     "text": [
      "/env/lib/python3.10/site-packages/datacube/drivers/driver_cache.py:54: DeprecationWarning: pkg_resources is deprecated as an API. See https://setuptools.pypa.io/en/latest/pkg_resources.html\n",
      "  from pkg_resources import iter_entry_points\n",
      "/env/lib/python3.10/site-packages/rasterio/warp.py:344: NotGeoreferencedWarning: Dataset has no geotransform, gcps, or rpcs. The identity matrix will be returned.\n",
      "  _reproject(\n"
     ]
    },
    {
     "name": "stdout",
     "output_type": "stream",
     "text": [
      "Modelling tides using FES2014, TPXO9-atlas-v5, EOT20, HAMTIDE11, GOT4.10, FES2012, TPXO8-atlas-v1 in parallel\n"
     ]
    },
    {
     "name": "stderr",
     "output_type": "stream",
     "text": [
      "\n",
      "  0%|          | 0/7 [00:00<?, ?it/s]\u001b[A\n",
      " 14%|█▍        | 1/7 [00:09<00:54,  9.02s/it]\u001b[A\n",
      "100%|██████████| 7/7 [00:15<00:00,  2.17s/it]\u001b[A\n"
     ]
    },
    {
     "name": "stdout",
     "output_type": "stream",
     "text": [
      "Reducing analysed pixels from 251001 to 46364 (18.47%)\n"
     ]
    },
    {
     "name": "stderr",
     "output_type": "stream",
     "text": [
      "2023-12-07 03:04:18,250 - distributed.nanny - WARNING - Restarting worker\n"
     ]
    },
    {
     "name": "stdout",
     "output_type": "stream",
     "text": [
      "Processing ID 469\n"
     ]
    },
    {
     "name": "stderr",
     "output_type": "stream",
     "text": [
      "/env/lib/python3.10/site-packages/datacube/drivers/driver_cache.py:54: DeprecationWarning: pkg_resources is deprecated as an API. See https://setuptools.pypa.io/en/latest/pkg_resources.html\n",
      "  from pkg_resources import iter_entry_points\n",
      "/env/lib/python3.10/site-packages/rasterio/warp.py:344: NotGeoreferencedWarning: Dataset has no geotransform, gcps, or rpcs. The identity matrix will be returned.\n",
      "  _reproject(\n"
     ]
    },
    {
     "name": "stdout",
     "output_type": "stream",
     "text": [
      "Modelling tides using FES2014, TPXO9-atlas-v5, EOT20, HAMTIDE11, GOT4.10, FES2012, TPXO8-atlas-v1 in parallel\n"
     ]
    },
    {
     "name": "stderr",
     "output_type": "stream",
     "text": [
      "\n",
      "  0%|          | 0/7 [00:00<?, ?it/s]\u001b[A\n",
      " 14%|█▍        | 1/7 [00:09<00:58,  9.73s/it]\u001b[A\n",
      "100%|██████████| 7/7 [00:15<00:00,  2.24s/it]\u001b[A\n"
     ]
    },
    {
     "name": "stdout",
     "output_type": "stream",
     "text": [
      "Reducing analysed pixels from 251001 to 38789 (15.45%)\n"
     ]
    },
    {
     "name": "stderr",
     "output_type": "stream",
     "text": [
      "2023-12-07 03:05:26,322 - distributed.nanny - WARNING - Restarting worker\n"
     ]
    },
    {
     "name": "stdout",
     "output_type": "stream",
     "text": [
      "Processing ID 493\n"
     ]
    },
    {
     "name": "stderr",
     "output_type": "stream",
     "text": [
      "/env/lib/python3.10/site-packages/datacube/drivers/driver_cache.py:54: DeprecationWarning: pkg_resources is deprecated as an API. See https://setuptools.pypa.io/en/latest/pkg_resources.html\n",
      "  from pkg_resources import iter_entry_points\n",
      "/env/lib/python3.10/site-packages/rasterio/warp.py:344: NotGeoreferencedWarning: Dataset has no geotransform, gcps, or rpcs. The identity matrix will be returned.\n",
      "  _reproject(\n",
      "/env/lib/python3.10/site-packages/rasterio/warp.py:344: NotGeoreferencedWarning: Dataset has no geotransform, gcps, or rpcs. The identity matrix will be returned.\n",
      "  _reproject(\n",
      "/env/lib/python3.10/site-packages/rasterio/warp.py:344: NotGeoreferencedWarning: Dataset has no geotransform, gcps, or rpcs. The identity matrix will be returned.\n",
      "  _reproject(\n"
     ]
    },
    {
     "name": "stdout",
     "output_type": "stream",
     "text": [
      "Modelling tides using FES2014, TPXO9-atlas-v5, EOT20, HAMTIDE11, GOT4.10, FES2012, TPXO8-atlas-v1 in parallel\n"
     ]
    },
    {
     "name": "stderr",
     "output_type": "stream",
     "text": [
      "\n",
      "  0%|          | 0/7 [00:00<?, ?it/s]\u001b[A\n",
      " 14%|█▍        | 1/7 [00:09<00:56,  9.35s/it]\u001b[A\n",
      "100%|██████████| 7/7 [00:15<00:00,  2.18s/it]\u001b[A\n"
     ]
    },
    {
     "name": "stdout",
     "output_type": "stream",
     "text": [
      "Reducing analysed pixels from 251001 to 17333 (6.91%)\n"
     ]
    },
    {
     "name": "stderr",
     "output_type": "stream",
     "text": [
      "2023-12-07 03:06:28,936 - distributed.nanny - WARNING - Restarting worker\n"
     ]
    },
    {
     "name": "stdout",
     "output_type": "stream",
     "text": [
      "Processing ID 669\n"
     ]
    },
    {
     "name": "stderr",
     "output_type": "stream",
     "text": [
      "/env/lib/python3.10/site-packages/datacube/drivers/driver_cache.py:54: DeprecationWarning: pkg_resources is deprecated as an API. See https://setuptools.pypa.io/en/latest/pkg_resources.html\n",
      "  from pkg_resources import iter_entry_points\n",
      "/env/lib/python3.10/site-packages/rasterio/warp.py:344: NotGeoreferencedWarning: Dataset has no geotransform, gcps, or rpcs. The identity matrix will be returned.\n",
      "  _reproject(\n",
      "/env/lib/python3.10/site-packages/rasterio/warp.py:344: NotGeoreferencedWarning: Dataset has no geotransform, gcps, or rpcs. The identity matrix will be returned.\n",
      "  _reproject(\n"
     ]
    },
    {
     "name": "stdout",
     "output_type": "stream",
     "text": [
      "Modelling tides using FES2014, TPXO9-atlas-v5, EOT20, HAMTIDE11, GOT4.10, FES2012, TPXO8-atlas-v1 in parallel\n"
     ]
    },
    {
     "name": "stderr",
     "output_type": "stream",
     "text": [
      "\n",
      "  0%|          | 0/7 [00:00<?, ?it/s]\u001b[A\n",
      " 14%|█▍        | 1/7 [00:09<00:57,  9.63s/it]\u001b[A\n",
      "100%|██████████| 7/7 [00:15<00:00,  2.24s/it]\u001b[A\n"
     ]
    },
    {
     "name": "stdout",
     "output_type": "stream",
     "text": [
      "Reducing analysed pixels from 251001 to 65416 (26.06%)\n"
     ]
    },
    {
     "name": "stderr",
     "output_type": "stream",
     "text": [
      "2023-12-07 03:07:42,452 - distributed.nanny - WARNING - Restarting worker\n"
     ]
    },
    {
     "name": "stdout",
     "output_type": "stream",
     "text": [
      "Processing ID 760\n"
     ]
    },
    {
     "name": "stderr",
     "output_type": "stream",
     "text": [
      "/env/lib/python3.10/site-packages/datacube/drivers/driver_cache.py:54: DeprecationWarning: pkg_resources is deprecated as an API. See https://setuptools.pypa.io/en/latest/pkg_resources.html\n",
      "  from pkg_resources import iter_entry_points\n",
      "/env/lib/python3.10/site-packages/rasterio/warp.py:344: NotGeoreferencedWarning: Dataset has no geotransform, gcps, or rpcs. The identity matrix will be returned.\n",
      "  _reproject(\n",
      "/env/lib/python3.10/site-packages/rasterio/warp.py:344: NotGeoreferencedWarning: Dataset has no geotransform, gcps, or rpcs. The identity matrix will be returned.\n",
      "  _reproject(\n"
     ]
    },
    {
     "name": "stdout",
     "output_type": "stream",
     "text": [
      "Modelling tides using FES2014, TPXO9-atlas-v5, EOT20, HAMTIDE11, GOT4.10, FES2012, TPXO8-atlas-v1 in parallel\n"
     ]
    },
    {
     "name": "stderr",
     "output_type": "stream",
     "text": [
      "\n",
      "  0%|          | 0/7 [00:00<?, ?it/s]\u001b[A\n",
      " 14%|█▍        | 1/7 [00:10<01:00, 10.13s/it]\u001b[A\n",
      "100%|██████████| 7/7 [00:16<00:00,  2.34s/it]\u001b[A\n"
     ]
    },
    {
     "name": "stdout",
     "output_type": "stream",
     "text": [
      "Reducing analysed pixels from 251001 to 19345 (7.71%)\n"
     ]
    },
    {
     "name": "stderr",
     "output_type": "stream",
     "text": [
      "2023-12-07 03:09:03,692 - distributed.nanny - WARNING - Restarting worker\n"
     ]
    },
    {
     "name": "stdout",
     "output_type": "stream",
     "text": [
      "Processing ID 784\n"
     ]
    },
    {
     "name": "stderr",
     "output_type": "stream",
     "text": [
      "/env/lib/python3.10/site-packages/datacube/drivers/driver_cache.py:54: DeprecationWarning: pkg_resources is deprecated as an API. See https://setuptools.pypa.io/en/latest/pkg_resources.html\n",
      "  from pkg_resources import iter_entry_points\n",
      "/env/lib/python3.10/site-packages/rasterio/warp.py:344: NotGeoreferencedWarning: Dataset has no geotransform, gcps, or rpcs. The identity matrix will be returned.\n",
      "  _reproject(\n"
     ]
    },
    {
     "name": "stdout",
     "output_type": "stream",
     "text": [
      "Modelling tides using FES2014, TPXO9-atlas-v5, EOT20, HAMTIDE11, GOT4.10, FES2012, TPXO8-atlas-v1 in parallel\n"
     ]
    },
    {
     "name": "stderr",
     "output_type": "stream",
     "text": [
      "\n",
      "  0%|          | 0/7 [00:00<?, ?it/s]\u001b[A\n",
      " 14%|█▍        | 1/7 [00:08<00:50,  8.50s/it]\u001b[A\n",
      "100%|██████████| 7/7 [00:15<00:00,  2.20s/it]\u001b[A\n"
     ]
    },
    {
     "name": "stdout",
     "output_type": "stream",
     "text": [
      "Reducing analysed pixels from 251001 to 37730 (15.03%)\n"
     ]
    },
    {
     "name": "stderr",
     "output_type": "stream",
     "text": [
      "2023-12-07 03:10:08,216 - distributed.nanny - WARNING - Restarting worker\n"
     ]
    },
    {
     "name": "stdout",
     "output_type": "stream",
     "text": [
      "Processing ID 934\n"
     ]
    },
    {
     "name": "stderr",
     "output_type": "stream",
     "text": [
      "/env/lib/python3.10/site-packages/datacube/drivers/driver_cache.py:54: DeprecationWarning: pkg_resources is deprecated as an API. See https://setuptools.pypa.io/en/latest/pkg_resources.html\n",
      "  from pkg_resources import iter_entry_points\n",
      "/env/lib/python3.10/site-packages/rasterio/warp.py:344: NotGeoreferencedWarning: Dataset has no geotransform, gcps, or rpcs. The identity matrix will be returned.\n",
      "  _reproject(\n"
     ]
    },
    {
     "name": "stdout",
     "output_type": "stream",
     "text": [
      "Modelling tides using FES2014, TPXO9-atlas-v5, EOT20, HAMTIDE11, GOT4.10, FES2012, TPXO8-atlas-v1 in parallel\n"
     ]
    },
    {
     "name": "stderr",
     "output_type": "stream",
     "text": [
      "\n",
      "  0%|          | 0/7 [00:00<?, ?it/s]\u001b[A\n",
      " 14%|█▍        | 1/7 [00:09<00:54,  9.03s/it]\u001b[A\n",
      "100%|██████████| 7/7 [00:15<00:00,  2.23s/it]\u001b[A\n"
     ]
    },
    {
     "name": "stdout",
     "output_type": "stream",
     "text": [
      "Reducing analysed pixels from 251001 to 24214 (9.65%)\n"
     ]
    },
    {
     "name": "stderr",
     "output_type": "stream",
     "text": [
      "2023-12-07 03:11:25,711 - distributed.nanny - WARNING - Restarting worker\n"
     ]
    },
    {
     "name": "stdout",
     "output_type": "stream",
     "text": [
      "Processing ID 965\n"
     ]
    },
    {
     "name": "stderr",
     "output_type": "stream",
     "text": [
      "/env/lib/python3.10/site-packages/datacube/drivers/driver_cache.py:54: DeprecationWarning: pkg_resources is deprecated as an API. See https://setuptools.pypa.io/en/latest/pkg_resources.html\n",
      "  from pkg_resources import iter_entry_points\n",
      "/env/lib/python3.10/site-packages/rasterio/warp.py:344: NotGeoreferencedWarning: Dataset has no geotransform, gcps, or rpcs. The identity matrix will be returned.\n",
      "  _reproject(\n",
      "/env/lib/python3.10/site-packages/rasterio/warp.py:344: NotGeoreferencedWarning: Dataset has no geotransform, gcps, or rpcs. The identity matrix will be returned.\n",
      "  _reproject(\n"
     ]
    },
    {
     "name": "stdout",
     "output_type": "stream",
     "text": [
      "Modelling tides using FES2014, TPXO9-atlas-v5, EOT20, HAMTIDE11, GOT4.10, FES2012, TPXO8-atlas-v1 in parallel\n"
     ]
    },
    {
     "name": "stderr",
     "output_type": "stream",
     "text": [
      "\n",
      "  0%|          | 0/7 [00:00<?, ?it/s]\u001b[A\n",
      " 14%|█▍        | 1/7 [00:09<00:55,  9.24s/it]\u001b[A\n",
      "100%|██████████| 7/7 [00:15<00:00,  2.23s/it]\u001b[A\n"
     ]
    },
    {
     "name": "stdout",
     "output_type": "stream",
     "text": [
      "Reducing analysed pixels from 251001 to 41520 (16.54%)\n"
     ]
    },
    {
     "name": "stderr",
     "output_type": "stream",
     "text": [
      "2023-12-07 03:13:00,486 - distributed.nanny - WARNING - Restarting worker\n"
     ]
    },
    {
     "name": "stdout",
     "output_type": "stream",
     "text": [
      "Processing ID 1048\n"
     ]
    },
    {
     "name": "stderr",
     "output_type": "stream",
     "text": [
      "/env/lib/python3.10/site-packages/datacube/drivers/driver_cache.py:54: DeprecationWarning: pkg_resources is deprecated as an API. See https://setuptools.pypa.io/en/latest/pkg_resources.html\n",
      "  from pkg_resources import iter_entry_points\n",
      "/env/lib/python3.10/site-packages/rasterio/warp.py:344: NotGeoreferencedWarning: Dataset has no geotransform, gcps, or rpcs. The identity matrix will be returned.\n",
      "  _reproject(\n"
     ]
    },
    {
     "name": "stdout",
     "output_type": "stream",
     "text": [
      "Modelling tides using FES2014, TPXO9-atlas-v5, EOT20, HAMTIDE11, GOT4.10, FES2012, TPXO8-atlas-v1 in parallel\n"
     ]
    },
    {
     "name": "stderr",
     "output_type": "stream",
     "text": [
      "\n",
      "  0%|          | 0/7 [00:00<?, ?it/s]\u001b[A\n",
      " 14%|█▍        | 1/7 [00:09<00:57,  9.57s/it]\u001b[A\n",
      "100%|██████████| 7/7 [00:16<00:00,  2.29s/it]\u001b[A\n"
     ]
    },
    {
     "name": "stdout",
     "output_type": "stream",
     "text": [
      "Reducing analysed pixels from 251001 to 44892 (17.89%)\n"
     ]
    },
    {
     "name": "stderr",
     "output_type": "stream",
     "text": [
      "2023-12-07 03:14:26,661 - distributed.nanny - WARNING - Restarting worker\n"
     ]
    },
    {
     "name": "stdout",
     "output_type": "stream",
     "text": [
      "Processing ID 1072\n"
     ]
    },
    {
     "name": "stderr",
     "output_type": "stream",
     "text": [
      "/env/lib/python3.10/site-packages/datacube/drivers/driver_cache.py:54: DeprecationWarning: pkg_resources is deprecated as an API. See https://setuptools.pypa.io/en/latest/pkg_resources.html\n",
      "  from pkg_resources import iter_entry_points\n",
      "/env/lib/python3.10/site-packages/rasterio/warp.py:344: NotGeoreferencedWarning: Dataset has no geotransform, gcps, or rpcs. The identity matrix will be returned.\n",
      "  _reproject(\n"
     ]
    },
    {
     "name": "stdout",
     "output_type": "stream",
     "text": [
      "Modelling tides using FES2014, TPXO9-atlas-v5, EOT20, HAMTIDE11, GOT4.10, FES2012, TPXO8-atlas-v1 in parallel\n"
     ]
    },
    {
     "name": "stderr",
     "output_type": "stream",
     "text": [
      "\n",
      "  0%|          | 0/7 [00:00<?, ?it/s]\u001b[A\n",
      " 14%|█▍        | 1/7 [00:09<00:55,  9.28s/it]\u001b[A\n",
      "100%|██████████| 7/7 [00:15<00:00,  2.19s/it]\u001b[A\n"
     ]
    },
    {
     "name": "stdout",
     "output_type": "stream",
     "text": [
      "Reducing analysed pixels from 251001 to 63783 (25.41%)\n"
     ]
    },
    {
     "name": "stderr",
     "output_type": "stream",
     "text": [
      "2023-12-07 03:15:40,062 - distributed.nanny - WARNING - Restarting worker\n"
     ]
    },
    {
     "name": "stdout",
     "output_type": "stream",
     "text": [
      "Processing ID 1138\n"
     ]
    },
    {
     "name": "stderr",
     "output_type": "stream",
     "text": [
      "/env/lib/python3.10/site-packages/datacube/drivers/driver_cache.py:54: DeprecationWarning: pkg_resources is deprecated as an API. See https://setuptools.pypa.io/en/latest/pkg_resources.html\n",
      "  from pkg_resources import iter_entry_points\n",
      "/env/lib/python3.10/site-packages/rasterio/warp.py:344: NotGeoreferencedWarning: Dataset has no geotransform, gcps, or rpcs. The identity matrix will be returned.\n",
      "  _reproject(\n"
     ]
    },
    {
     "name": "stdout",
     "output_type": "stream",
     "text": [
      "Modelling tides using FES2014, TPXO9-atlas-v5, EOT20, HAMTIDE11, GOT4.10, FES2012, TPXO8-atlas-v1 in parallel\n"
     ]
    },
    {
     "name": "stderr",
     "output_type": "stream",
     "text": [
      "\n",
      "  0%|          | 0/7 [00:00<?, ?it/s]\u001b[A\n",
      " 14%|█▍        | 1/7 [00:09<00:56,  9.33s/it]\u001b[A\n",
      "100%|██████████| 7/7 [00:15<00:00,  2.19s/it]\u001b[A\n"
     ]
    },
    {
     "name": "stdout",
     "output_type": "stream",
     "text": [
      "Reducing analysed pixels from 251001 to 28294 (11.27%)\n"
     ]
    },
    {
     "name": "stderr",
     "output_type": "stream",
     "text": [
      "2023-12-07 03:16:43,181 - distributed.nanny - WARNING - Restarting worker\n",
      "2023-12-07 03:16:43,629 - distributed.diskutils - INFO - Found stale lock file and directory '/tmp/dask-worker-space/worker-_j3a05sa', purging\n"
     ]
    },
    {
     "name": "stdout",
     "output_type": "stream",
     "text": [
      "Processing ID 1177\n"
     ]
    },
    {
     "name": "stderr",
     "output_type": "stream",
     "text": [
      "/env/lib/python3.10/site-packages/datacube/drivers/driver_cache.py:54: DeprecationWarning: pkg_resources is deprecated as an API. See https://setuptools.pypa.io/en/latest/pkg_resources.html\n",
      "  from pkg_resources import iter_entry_points\n",
      "/env/lib/python3.10/site-packages/rasterio/warp.py:344: NotGeoreferencedWarning: Dataset has no geotransform, gcps, or rpcs. The identity matrix will be returned.\n",
      "  _reproject(\n",
      "/env/lib/python3.10/site-packages/rasterio/warp.py:344: NotGeoreferencedWarning: Dataset has no geotransform, gcps, or rpcs. The identity matrix will be returned.\n",
      "  _reproject(\n",
      "/env/lib/python3.10/site-packages/rasterio/warp.py:344: NotGeoreferencedWarning: Dataset has no geotransform, gcps, or rpcs. The identity matrix will be returned.\n",
      "  _reproject(\n"
     ]
    },
    {
     "name": "stdout",
     "output_type": "stream",
     "text": [
      "Modelling tides using FES2014, TPXO9-atlas-v5, EOT20, HAMTIDE11, GOT4.10, FES2012, TPXO8-atlas-v1 in parallel\n"
     ]
    },
    {
     "name": "stderr",
     "output_type": "stream",
     "text": [
      "\n",
      "  0%|          | 0/7 [00:00<?, ?it/s]\u001b[A\n",
      " 14%|█▍        | 1/7 [00:09<00:55,  9.29s/it]\u001b[A\n",
      "100%|██████████| 7/7 [00:15<00:00,  2.22s/it]\u001b[A\n"
     ]
    },
    {
     "name": "stdout",
     "output_type": "stream",
     "text": [
      "Reducing analysed pixels from 251001 to 48250 (19.22%)\n"
     ]
    },
    {
     "name": "stderr",
     "output_type": "stream",
     "text": [
      "2023-12-07 03:17:54,601 - distributed.nanny - WARNING - Restarting worker\n"
     ]
    },
    {
     "name": "stdout",
     "output_type": "stream",
     "text": [
      "Processing ID 1180\n"
     ]
    },
    {
     "name": "stderr",
     "output_type": "stream",
     "text": [
      "/env/lib/python3.10/site-packages/datacube/drivers/driver_cache.py:54: DeprecationWarning: pkg_resources is deprecated as an API. See https://setuptools.pypa.io/en/latest/pkg_resources.html\n",
      "  from pkg_resources import iter_entry_points\n",
      "/env/lib/python3.10/site-packages/rasterio/warp.py:344: NotGeoreferencedWarning: Dataset has no geotransform, gcps, or rpcs. The identity matrix will be returned.\n",
      "  _reproject(\n"
     ]
    },
    {
     "name": "stdout",
     "output_type": "stream",
     "text": [
      "Modelling tides using FES2014, TPXO9-atlas-v5, EOT20, HAMTIDE11, GOT4.10, FES2012, TPXO8-atlas-v1 in parallel\n"
     ]
    },
    {
     "name": "stderr",
     "output_type": "stream",
     "text": [
      "\n",
      "  0%|          | 0/7 [00:00<?, ?it/s]\u001b[A\n",
      " 14%|█▍        | 1/7 [00:09<00:57,  9.54s/it]\u001b[A\n",
      "100%|██████████| 7/7 [00:15<00:00,  2.22s/it]\u001b[A\n"
     ]
    },
    {
     "name": "stdout",
     "output_type": "stream",
     "text": [
      "Reducing analysed pixels from 251001 to 39332 (15.67%)\n"
     ]
    },
    {
     "name": "stderr",
     "output_type": "stream",
     "text": [
      "2023-12-07 03:18:58,739 - distributed.nanny - WARNING - Restarting worker\n"
     ]
    },
    {
     "name": "stdout",
     "output_type": "stream",
     "text": [
      "Processing ID 1328\n"
     ]
    },
    {
     "name": "stderr",
     "output_type": "stream",
     "text": [
      "/env/lib/python3.10/site-packages/datacube/drivers/driver_cache.py:54: DeprecationWarning: pkg_resources is deprecated as an API. See https://setuptools.pypa.io/en/latest/pkg_resources.html\n",
      "  from pkg_resources import iter_entry_points\n",
      "/env/lib/python3.10/site-packages/rasterio/warp.py:344: NotGeoreferencedWarning: Dataset has no geotransform, gcps, or rpcs. The identity matrix will be returned.\n",
      "  _reproject(\n"
     ]
    },
    {
     "name": "stdout",
     "output_type": "stream",
     "text": [
      "Modelling tides using FES2014, TPXO9-atlas-v5, EOT20, HAMTIDE11, GOT4.10, FES2012, TPXO8-atlas-v1 in parallel\n"
     ]
    },
    {
     "name": "stderr",
     "output_type": "stream",
     "text": [
      "\n",
      "  0%|          | 0/7 [00:00<?, ?it/s]\u001b[A\n",
      " 14%|█▍        | 1/7 [00:09<00:55,  9.26s/it]\u001b[A\n",
      "100%|██████████| 7/7 [00:15<00:00,  2.21s/it]\u001b[A\n"
     ]
    },
    {
     "name": "stdout",
     "output_type": "stream",
     "text": [
      "Reducing analysed pixels from 251001 to 16618 (6.62%)\n"
     ]
    },
    {
     "name": "stderr",
     "output_type": "stream",
     "text": [
      "2023-12-07 03:20:09,947 - distributed.nanny - WARNING - Restarting worker\n"
     ]
    },
    {
     "name": "stdout",
     "output_type": "stream",
     "text": [
      "Processing ID 1538\n"
     ]
    },
    {
     "name": "stderr",
     "output_type": "stream",
     "text": [
      "/env/lib/python3.10/site-packages/datacube/drivers/driver_cache.py:54: DeprecationWarning: pkg_resources is deprecated as an API. See https://setuptools.pypa.io/en/latest/pkg_resources.html\n",
      "  from pkg_resources import iter_entry_points\n",
      "/env/lib/python3.10/site-packages/rasterio/warp.py:344: NotGeoreferencedWarning: Dataset has no geotransform, gcps, or rpcs. The identity matrix will be returned.\n",
      "  _reproject(\n",
      "/env/lib/python3.10/site-packages/rasterio/warp.py:344: NotGeoreferencedWarning: Dataset has no geotransform, gcps, or rpcs. The identity matrix will be returned.\n",
      "  _reproject(\n"
     ]
    },
    {
     "name": "stdout",
     "output_type": "stream",
     "text": [
      "Modelling tides using FES2014, TPXO9-atlas-v5, EOT20, HAMTIDE11, GOT4.10, FES2012, TPXO8-atlas-v1 in parallel\n"
     ]
    },
    {
     "name": "stderr",
     "output_type": "stream",
     "text": [
      "\n",
      "  0%|          | 0/7 [00:00<?, ?it/s]\u001b[A\n",
      " 14%|█▍        | 1/7 [00:09<00:56,  9.36s/it]\u001b[A\n",
      "100%|██████████| 7/7 [00:15<00:00,  2.25s/it]\u001b[A\n"
     ]
    },
    {
     "name": "stdout",
     "output_type": "stream",
     "text": [
      "Reducing analysed pixels from 251001 to 34496 (13.74%)\n"
     ]
    },
    {
     "name": "stderr",
     "output_type": "stream",
     "text": [
      "2023-12-07 03:21:40,452 - distributed.nanny - WARNING - Restarting worker\n"
     ]
    },
    {
     "name": "stdout",
     "output_type": "stream",
     "text": [
      "Processing ID 1589\n"
     ]
    },
    {
     "name": "stderr",
     "output_type": "stream",
     "text": [
      "/env/lib/python3.10/site-packages/datacube/drivers/driver_cache.py:54: DeprecationWarning: pkg_resources is deprecated as an API. See https://setuptools.pypa.io/en/latest/pkg_resources.html\n",
      "  from pkg_resources import iter_entry_points\n",
      "/env/lib/python3.10/site-packages/rasterio/warp.py:344: NotGeoreferencedWarning: Dataset has no geotransform, gcps, or rpcs. The identity matrix will be returned.\n",
      "  _reproject(\n",
      "/env/lib/python3.10/site-packages/rasterio/warp.py:344: NotGeoreferencedWarning: Dataset has no geotransform, gcps, or rpcs. The identity matrix will be returned.\n",
      "  _reproject(\n",
      "/env/lib/python3.10/site-packages/rasterio/warp.py:344: NotGeoreferencedWarning: Dataset has no geotransform, gcps, or rpcs. The identity matrix will be returned.\n",
      "  _reproject(\n",
      "/env/lib/python3.10/site-packages/rasterio/warp.py:344: NotGeoreferencedWarning: Dataset has no geotransform, gcps, or rpcs. The identity matrix will be returned.\n",
      "  _reproject(\n"
     ]
    },
    {
     "name": "stdout",
     "output_type": "stream",
     "text": [
      "Modelling tides using FES2014, TPXO9-atlas-v5, EOT20, HAMTIDE11, GOT4.10, FES2012, TPXO8-atlas-v1 in parallel\n"
     ]
    },
    {
     "name": "stderr",
     "output_type": "stream",
     "text": [
      "\n",
      "  0%|          | 0/7 [00:00<?, ?it/s]\u001b[A\n",
      " 14%|█▍        | 1/7 [00:09<00:54,  9.06s/it]\u001b[A\n",
      "100%|██████████| 7/7 [00:15<00:00,  2.24s/it]\u001b[A\n"
     ]
    },
    {
     "name": "stdout",
     "output_type": "stream",
     "text": [
      "Reducing analysed pixels from 251001 to 106583 (42.46%)\n"
     ]
    },
    {
     "name": "stderr",
     "output_type": "stream",
     "text": [
      "2023-12-07 03:23:31,247 - distributed.nanny - WARNING - Restarting worker\n"
     ]
    },
    {
     "name": "stdout",
     "output_type": "stream",
     "text": [
      "Processing ID 1636\n"
     ]
    },
    {
     "name": "stderr",
     "output_type": "stream",
     "text": [
      "/env/lib/python3.10/site-packages/datacube/drivers/driver_cache.py:54: DeprecationWarning: pkg_resources is deprecated as an API. See https://setuptools.pypa.io/en/latest/pkg_resources.html\n",
      "  from pkg_resources import iter_entry_points\n",
      "/env/lib/python3.10/site-packages/rasterio/warp.py:344: NotGeoreferencedWarning: Dataset has no geotransform, gcps, or rpcs. The identity matrix will be returned.\n",
      "  _reproject(\n"
     ]
    },
    {
     "name": "stdout",
     "output_type": "stream",
     "text": [
      "Modelling tides using FES2014, TPXO9-atlas-v5, EOT20, HAMTIDE11, GOT4.10, FES2012, TPXO8-atlas-v1 in parallel\n"
     ]
    },
    {
     "name": "stderr",
     "output_type": "stream",
     "text": [
      "\n",
      "  0%|          | 0/7 [00:00<?, ?it/s]\u001b[A\n",
      " 14%|█▍        | 1/7 [00:09<00:56,  9.44s/it]\u001b[A\n",
      "100%|██████████| 7/7 [00:15<00:00,  2.19s/it]\u001b[A\n"
     ]
    },
    {
     "name": "stdout",
     "output_type": "stream",
     "text": [
      "Reducing analysed pixels from 251001 to 12716 (5.07%)\n"
     ]
    },
    {
     "name": "stderr",
     "output_type": "stream",
     "text": [
      "2023-12-07 03:24:29,366 - distributed.nanny - WARNING - Restarting worker\n"
     ]
    },
    {
     "name": "stdout",
     "output_type": "stream",
     "text": [
      "Processing ID 1668\n"
     ]
    },
    {
     "name": "stderr",
     "output_type": "stream",
     "text": [
      "/env/lib/python3.10/site-packages/datacube/drivers/driver_cache.py:54: DeprecationWarning: pkg_resources is deprecated as an API. See https://setuptools.pypa.io/en/latest/pkg_resources.html\n",
      "  from pkg_resources import iter_entry_points\n",
      "/env/lib/python3.10/site-packages/rasterio/warp.py:344: NotGeoreferencedWarning: Dataset has no geotransform, gcps, or rpcs. The identity matrix will be returned.\n",
      "  _reproject(\n",
      "/env/lib/python3.10/site-packages/rasterio/warp.py:344: NotGeoreferencedWarning: Dataset has no geotransform, gcps, or rpcs. The identity matrix will be returned.\n",
      "  _reproject(\n"
     ]
    },
    {
     "name": "stdout",
     "output_type": "stream",
     "text": [
      "Modelling tides using FES2014, TPXO9-atlas-v5, EOT20, HAMTIDE11, GOT4.10, FES2012, TPXO8-atlas-v1 in parallel\n"
     ]
    },
    {
     "name": "stderr",
     "output_type": "stream",
     "text": [
      "\n",
      "  0%|          | 0/7 [00:00<?, ?it/s]\u001b[A\n",
      " 14%|█▍        | 1/7 [00:09<00:58,  9.78s/it]\u001b[A\n",
      "100%|██████████| 7/7 [00:16<00:00,  2.30s/it]\u001b[A\n"
     ]
    },
    {
     "name": "stdout",
     "output_type": "stream",
     "text": [
      "Reducing analysed pixels from 251001 to 38368 (15.29%)\n"
     ]
    },
    {
     "name": "stderr",
     "output_type": "stream",
     "text": [
      "2023-12-07 03:25:53,990 - distributed.nanny - WARNING - Restarting worker\n"
     ]
    },
    {
     "name": "stdout",
     "output_type": "stream",
     "text": [
      "Processing ID 1669\n"
     ]
    },
    {
     "name": "stderr",
     "output_type": "stream",
     "text": [
      "/env/lib/python3.10/site-packages/datacube/drivers/driver_cache.py:54: DeprecationWarning: pkg_resources is deprecated as an API. See https://setuptools.pypa.io/en/latest/pkg_resources.html\n",
      "  from pkg_resources import iter_entry_points\n",
      "/env/lib/python3.10/site-packages/rasterio/warp.py:344: NotGeoreferencedWarning: Dataset has no geotransform, gcps, or rpcs. The identity matrix will be returned.\n",
      "  _reproject(\n",
      "/env/lib/python3.10/site-packages/rasterio/warp.py:344: NotGeoreferencedWarning: Dataset has no geotransform, gcps, or rpcs. The identity matrix will be returned.\n",
      "  _reproject(\n"
     ]
    },
    {
     "name": "stdout",
     "output_type": "stream",
     "text": [
      "Modelling tides using FES2014, TPXO9-atlas-v5, EOT20, HAMTIDE11, GOT4.10, FES2012, TPXO8-atlas-v1 in parallel\n"
     ]
    },
    {
     "name": "stderr",
     "output_type": "stream",
     "text": [
      "\n",
      "  0%|          | 0/7 [00:00<?, ?it/s]\u001b[A\n",
      " 14%|█▍        | 1/7 [00:08<00:52,  8.77s/it]\u001b[A\n",
      "100%|██████████| 7/7 [00:15<00:00,  2.20s/it]\u001b[A\n"
     ]
    },
    {
     "name": "stdout",
     "output_type": "stream",
     "text": [
      "Reducing analysed pixels from 251001 to 20994 (8.36%)\n"
     ]
    },
    {
     "name": "stderr",
     "output_type": "stream",
     "text": [
      "2023-12-07 03:27:06,330 - distributed.nanny - WARNING - Restarting worker\n"
     ]
    },
    {
     "name": "stdout",
     "output_type": "stream",
     "text": [
      "Processing ID 1821\n"
     ]
    },
    {
     "name": "stderr",
     "output_type": "stream",
     "text": [
      "/env/lib/python3.10/site-packages/datacube/drivers/driver_cache.py:54: DeprecationWarning: pkg_resources is deprecated as an API. See https://setuptools.pypa.io/en/latest/pkg_resources.html\n",
      "  from pkg_resources import iter_entry_points\n",
      "/env/lib/python3.10/site-packages/rasterio/warp.py:344: NotGeoreferencedWarning: Dataset has no geotransform, gcps, or rpcs. The identity matrix will be returned.\n",
      "  _reproject(\n"
     ]
    },
    {
     "name": "stdout",
     "output_type": "stream",
     "text": [
      "Modelling tides using FES2014, TPXO9-atlas-v5, EOT20, HAMTIDE11, GOT4.10, FES2012, TPXO8-atlas-v1 in parallel\n"
     ]
    },
    {
     "name": "stderr",
     "output_type": "stream",
     "text": [
      "\n",
      "  0%|          | 0/7 [00:00<?, ?it/s]\u001b[A\n",
      " 14%|█▍        | 1/7 [00:09<00:56,  9.47s/it]\u001b[A\n",
      "100%|██████████| 7/7 [00:15<00:00,  2.26s/it]\u001b[A\n"
     ]
    },
    {
     "name": "stdout",
     "output_type": "stream",
     "text": [
      "Reducing analysed pixels from 251001 to 91598 (36.49%)\n"
     ]
    },
    {
     "name": "stderr",
     "output_type": "stream",
     "text": [
      "2023-12-07 03:29:13,694 - distributed.nanny - WARNING - Restarting worker\n"
     ]
    },
    {
     "name": "stdout",
     "output_type": "stream",
     "text": [
      "Processing ID 1840\n"
     ]
    },
    {
     "name": "stderr",
     "output_type": "stream",
     "text": [
      "/env/lib/python3.10/site-packages/datacube/drivers/driver_cache.py:54: DeprecationWarning: pkg_resources is deprecated as an API. See https://setuptools.pypa.io/en/latest/pkg_resources.html\n",
      "  from pkg_resources import iter_entry_points\n",
      "/env/lib/python3.10/site-packages/rasterio/warp.py:344: NotGeoreferencedWarning: Dataset has no geotransform, gcps, or rpcs. The identity matrix will be returned.\n",
      "  _reproject(\n"
     ]
    },
    {
     "name": "stdout",
     "output_type": "stream",
     "text": [
      "Modelling tides using FES2014, TPXO9-atlas-v5, EOT20, HAMTIDE11, GOT4.10, FES2012, TPXO8-atlas-v1 in parallel\n"
     ]
    },
    {
     "name": "stderr",
     "output_type": "stream",
     "text": [
      "\n",
      "  0%|          | 0/7 [00:00<?, ?it/s]\u001b[A\n",
      " 14%|█▍        | 1/7 [00:09<00:58,  9.80s/it]\u001b[A\n",
      "100%|██████████| 7/7 [00:15<00:00,  2.25s/it]\u001b[A\n"
     ]
    },
    {
     "name": "stdout",
     "output_type": "stream",
     "text": [
      "Reducing analysed pixels from 251001 to 16750 (6.67%)\n"
     ]
    },
    {
     "name": "stderr",
     "output_type": "stream",
     "text": [
      "2023-12-07 03:30:12,627 - distributed.nanny - WARNING - Restarting worker\n"
     ]
    },
    {
     "name": "stdout",
     "output_type": "stream",
     "text": [
      "Processing ID 1934\n"
     ]
    },
    {
     "name": "stderr",
     "output_type": "stream",
     "text": [
      "/env/lib/python3.10/site-packages/datacube/drivers/driver_cache.py:54: DeprecationWarning: pkg_resources is deprecated as an API. See https://setuptools.pypa.io/en/latest/pkg_resources.html\n",
      "  from pkg_resources import iter_entry_points\n",
      "/env/lib/python3.10/site-packages/rasterio/warp.py:344: NotGeoreferencedWarning: Dataset has no geotransform, gcps, or rpcs. The identity matrix will be returned.\n",
      "  _reproject(\n",
      "/env/lib/python3.10/site-packages/rasterio/warp.py:344: NotGeoreferencedWarning: Dataset has no geotransform, gcps, or rpcs. The identity matrix will be returned.\n",
      "  _reproject(\n",
      "/env/lib/python3.10/site-packages/rasterio/warp.py:344: NotGeoreferencedWarning: Dataset has no geotransform, gcps, or rpcs. The identity matrix will be returned.\n",
      "  _reproject(\n"
     ]
    },
    {
     "name": "stdout",
     "output_type": "stream",
     "text": [
      "Modelling tides using FES2014, TPXO9-atlas-v5, EOT20, HAMTIDE11, GOT4.10, FES2012, TPXO8-atlas-v1 in parallel\n"
     ]
    },
    {
     "name": "stderr",
     "output_type": "stream",
     "text": [
      "\n",
      "  0%|          | 0/7 [00:00<?, ?it/s]\u001b[A\n",
      " 14%|█▍        | 1/7 [00:09<00:58,  9.73s/it]\u001b[A\n",
      "100%|██████████| 7/7 [00:15<00:00,  2.27s/it]\u001b[A\n"
     ]
    },
    {
     "name": "stdout",
     "output_type": "stream",
     "text": [
      "Reducing analysed pixels from 251001 to 18931 (7.54%)\n"
     ]
    },
    {
     "name": "stderr",
     "output_type": "stream",
     "text": [
      "2023-12-07 03:31:30,155 - distributed.nanny - WARNING - Restarting worker\n"
     ]
    },
    {
     "name": "stdout",
     "output_type": "stream",
     "text": [
      "Processing ID 1963\n"
     ]
    },
    {
     "name": "stderr",
     "output_type": "stream",
     "text": [
      "/env/lib/python3.10/site-packages/datacube/drivers/driver_cache.py:54: DeprecationWarning: pkg_resources is deprecated as an API. See https://setuptools.pypa.io/en/latest/pkg_resources.html\n",
      "  from pkg_resources import iter_entry_points\n",
      "/env/lib/python3.10/site-packages/rasterio/warp.py:344: NotGeoreferencedWarning: Dataset has no geotransform, gcps, or rpcs. The identity matrix will be returned.\n",
      "  _reproject(\n",
      "/env/lib/python3.10/site-packages/rasterio/warp.py:344: NotGeoreferencedWarning: Dataset has no geotransform, gcps, or rpcs. The identity matrix will be returned.\n",
      "  _reproject(\n"
     ]
    },
    {
     "name": "stdout",
     "output_type": "stream",
     "text": [
      "Modelling tides using FES2014, TPXO9-atlas-v5, EOT20, HAMTIDE11, GOT4.10, FES2012, TPXO8-atlas-v1 in parallel\n"
     ]
    },
    {
     "name": "stderr",
     "output_type": "stream",
     "text": [
      "\n",
      "  0%|          | 0/7 [00:00<?, ?it/s]\u001b[A\n",
      " 14%|█▍        | 1/7 [00:09<00:57,  9.59s/it]\u001b[A\n",
      "100%|██████████| 7/7 [00:15<00:00,  2.27s/it]\u001b[A\n"
     ]
    },
    {
     "name": "stdout",
     "output_type": "stream",
     "text": [
      "Reducing analysed pixels from 251001 to 6868 (2.74%)\n"
     ]
    },
    {
     "name": "stderr",
     "output_type": "stream",
     "text": [
      "2023-12-07 03:32:26,450 - distributed.nanny - WARNING - Restarting worker\n"
     ]
    },
    {
     "name": "stdout",
     "output_type": "stream",
     "text": [
      "Processing ID 2116\n"
     ]
    },
    {
     "name": "stderr",
     "output_type": "stream",
     "text": [
      "/env/lib/python3.10/site-packages/datacube/drivers/driver_cache.py:54: DeprecationWarning: pkg_resources is deprecated as an API. See https://setuptools.pypa.io/en/latest/pkg_resources.html\n",
      "  from pkg_resources import iter_entry_points\n",
      "/env/lib/python3.10/site-packages/rasterio/warp.py:344: NotGeoreferencedWarning: Dataset has no geotransform, gcps, or rpcs. The identity matrix will be returned.\n",
      "  _reproject(\n"
     ]
    },
    {
     "name": "stdout",
     "output_type": "stream",
     "text": [
      "Modelling tides using FES2014, TPXO9-atlas-v5, EOT20, HAMTIDE11, GOT4.10, FES2012, TPXO8-atlas-v1 in parallel\n"
     ]
    },
    {
     "name": "stderr",
     "output_type": "stream",
     "text": [
      "\n",
      "  0%|          | 0/7 [00:00<?, ?it/s]\u001b[A\n",
      " 14%|█▍        | 1/7 [00:09<00:54,  9.03s/it]\u001b[A\n",
      "100%|██████████| 7/7 [00:15<00:00,  2.17s/it]\u001b[A\n"
     ]
    },
    {
     "name": "stdout",
     "output_type": "stream",
     "text": [
      "Reducing analysed pixels from 251001 to 54006 (21.52%)\n"
     ]
    },
    {
     "name": "stderr",
     "output_type": "stream",
     "text": [
      "2023-12-07 03:33:39,831 - distributed.nanny - WARNING - Restarting worker\n"
     ]
    },
    {
     "name": "stdout",
     "output_type": "stream",
     "text": [
      "Processing ID 2154\n"
     ]
    },
    {
     "name": "stderr",
     "output_type": "stream",
     "text": [
      "/env/lib/python3.10/site-packages/datacube/drivers/driver_cache.py:54: DeprecationWarning: pkg_resources is deprecated as an API. See https://setuptools.pypa.io/en/latest/pkg_resources.html\n",
      "  from pkg_resources import iter_entry_points\n",
      "/env/lib/python3.10/site-packages/rasterio/warp.py:344: NotGeoreferencedWarning: Dataset has no geotransform, gcps, or rpcs. The identity matrix will be returned.\n",
      "  _reproject(\n",
      "/env/lib/python3.10/site-packages/rasterio/warp.py:344: NotGeoreferencedWarning: Dataset has no geotransform, gcps, or rpcs. The identity matrix will be returned.\n",
      "  _reproject(\n",
      "/env/lib/python3.10/site-packages/rasterio/warp.py:344: NotGeoreferencedWarning: Dataset has no geotransform, gcps, or rpcs. The identity matrix will be returned.\n",
      "  _reproject(\n",
      "/env/lib/python3.10/site-packages/rasterio/warp.py:344: NotGeoreferencedWarning: Dataset has no geotransform, gcps, or rpcs. The identity matrix will be returned.\n",
      "  _reproject(\n",
      "/env/lib/python3.10/site-packages/rasterio/warp.py:344: NotGeoreferencedWarning: Dataset has no geotransform, gcps, or rpcs. The identity matrix will be returned.\n",
      "  _reproject(\n"
     ]
    },
    {
     "name": "stdout",
     "output_type": "stream",
     "text": [
      "Modelling tides using FES2014, TPXO9-atlas-v5, EOT20, HAMTIDE11, GOT4.10, FES2012, TPXO8-atlas-v1 in parallel\n"
     ]
    },
    {
     "name": "stderr",
     "output_type": "stream",
     "text": [
      "\n",
      "  0%|          | 0/7 [00:00<?, ?it/s]\u001b[A\n",
      " 14%|█▍        | 1/7 [00:09<00:58,  9.76s/it]\u001b[A\n",
      "100%|██████████| 7/7 [00:15<00:00,  2.27s/it]\u001b[A\n"
     ]
    },
    {
     "name": "stdout",
     "output_type": "stream",
     "text": [
      "Reducing analysed pixels from 251001 to 18584 (7.40%)\n"
     ]
    },
    {
     "name": "stderr",
     "output_type": "stream",
     "text": [
      "2023-12-07 03:34:37,757 - distributed.nanny - WARNING - Restarting worker\n"
     ]
    },
    {
     "name": "stdout",
     "output_type": "stream",
     "text": [
      "Processing ID 2177\n"
     ]
    },
    {
     "name": "stderr",
     "output_type": "stream",
     "text": [
      "/env/lib/python3.10/site-packages/datacube/drivers/driver_cache.py:54: DeprecationWarning: pkg_resources is deprecated as an API. See https://setuptools.pypa.io/en/latest/pkg_resources.html\n",
      "  from pkg_resources import iter_entry_points\n",
      "/env/lib/python3.10/site-packages/rasterio/warp.py:344: NotGeoreferencedWarning: Dataset has no geotransform, gcps, or rpcs. The identity matrix will be returned.\n",
      "  _reproject(\n"
     ]
    },
    {
     "name": "stdout",
     "output_type": "stream",
     "text": [
      "Modelling tides using FES2014, TPXO9-atlas-v5, EOT20, HAMTIDE11, GOT4.10, FES2012, TPXO8-atlas-v1 in parallel\n"
     ]
    },
    {
     "name": "stderr",
     "output_type": "stream",
     "text": [
      "\n",
      "  0%|          | 0/7 [00:00<?, ?it/s]\u001b[A\n",
      " 14%|█▍        | 1/7 [00:09<00:55,  9.22s/it]\u001b[A\n",
      "100%|██████████| 7/7 [00:15<00:00,  2.28s/it]\u001b[A\n"
     ]
    },
    {
     "name": "stdout",
     "output_type": "stream",
     "text": [
      "Reducing analysed pixels from 251001 to 61789 (24.62%)\n"
     ]
    },
    {
     "name": "stderr",
     "output_type": "stream",
     "text": [
      "2023-12-07 03:35:48,723 - distributed.nanny - WARNING - Restarting worker\n"
     ]
    },
    {
     "name": "stdout",
     "output_type": "stream",
     "text": [
      "Processing ID 2178\n"
     ]
    },
    {
     "name": "stderr",
     "output_type": "stream",
     "text": [
      "/env/lib/python3.10/site-packages/datacube/drivers/driver_cache.py:54: DeprecationWarning: pkg_resources is deprecated as an API. See https://setuptools.pypa.io/en/latest/pkg_resources.html\n",
      "  from pkg_resources import iter_entry_points\n",
      "/env/lib/python3.10/site-packages/rasterio/warp.py:344: NotGeoreferencedWarning: Dataset has no geotransform, gcps, or rpcs. The identity matrix will be returned.\n",
      "  _reproject(\n",
      "/env/lib/python3.10/site-packages/rasterio/warp.py:344: NotGeoreferencedWarning: Dataset has no geotransform, gcps, or rpcs. The identity matrix will be returned.\n",
      "  _reproject(\n",
      "/env/lib/python3.10/site-packages/rasterio/warp.py:344: NotGeoreferencedWarning: Dataset has no geotransform, gcps, or rpcs. The identity matrix will be returned.\n",
      "  _reproject(\n"
     ]
    },
    {
     "name": "stdout",
     "output_type": "stream",
     "text": [
      "Modelling tides using FES2014, TPXO9-atlas-v5, EOT20, HAMTIDE11, GOT4.10, FES2012, TPXO8-atlas-v1 in parallel\n"
     ]
    },
    {
     "name": "stderr",
     "output_type": "stream",
     "text": [
      "\n",
      "  0%|          | 0/7 [00:00<?, ?it/s]\u001b[A\n",
      " 14%|█▍        | 1/7 [00:09<00:56,  9.50s/it]\u001b[A\n",
      "100%|██████████| 7/7 [00:15<00:00,  2.24s/it]\u001b[A\n"
     ]
    },
    {
     "name": "stdout",
     "output_type": "stream",
     "text": [
      "Reducing analysed pixels from 251001 to 13380 (5.33%)\n"
     ]
    },
    {
     "name": "stderr",
     "output_type": "stream",
     "text": [
      "2023-12-07 03:36:46,812 - distributed.nanny - WARNING - Restarting worker\n"
     ]
    },
    {
     "name": "stdout",
     "output_type": "stream",
     "text": [
      "Processing ID 2277\n"
     ]
    },
    {
     "name": "stderr",
     "output_type": "stream",
     "text": [
      "/env/lib/python3.10/site-packages/datacube/drivers/driver_cache.py:54: DeprecationWarning: pkg_resources is deprecated as an API. See https://setuptools.pypa.io/en/latest/pkg_resources.html\n",
      "  from pkg_resources import iter_entry_points\n",
      "/env/lib/python3.10/site-packages/rasterio/warp.py:344: NotGeoreferencedWarning: Dataset has no geotransform, gcps, or rpcs. The identity matrix will be returned.\n",
      "  _reproject(\n",
      "/env/lib/python3.10/site-packages/rasterio/warp.py:344: NotGeoreferencedWarning: Dataset has no geotransform, gcps, or rpcs. The identity matrix will be returned.\n",
      "  _reproject(\n"
     ]
    },
    {
     "name": "stdout",
     "output_type": "stream",
     "text": [
      "Modelling tides using FES2014, TPXO9-atlas-v5, EOT20, HAMTIDE11, GOT4.10, FES2012, TPXO8-atlas-v1 in parallel\n"
     ]
    },
    {
     "name": "stderr",
     "output_type": "stream",
     "text": [
      "\n",
      "  0%|          | 0/7 [00:00<?, ?it/s]\u001b[A\n",
      " 14%|█▍        | 1/7 [00:08<00:53,  8.90s/it]\u001b[A\n",
      "100%|██████████| 7/7 [00:15<00:00,  2.16s/it]\u001b[A\n"
     ]
    },
    {
     "name": "stdout",
     "output_type": "stream",
     "text": [
      "Reducing analysed pixels from 251001 to 18309 (7.29%)\n"
     ]
    },
    {
     "name": "stderr",
     "output_type": "stream",
     "text": [
      "2023-12-07 03:37:44,751 - distributed.nanny - WARNING - Restarting worker\n"
     ]
    },
    {
     "name": "stdout",
     "output_type": "stream",
     "text": [
      "Processing ID 2325\n"
     ]
    },
    {
     "name": "stderr",
     "output_type": "stream",
     "text": [
      "/env/lib/python3.10/site-packages/datacube/drivers/driver_cache.py:54: DeprecationWarning: pkg_resources is deprecated as an API. See https://setuptools.pypa.io/en/latest/pkg_resources.html\n",
      "  from pkg_resources import iter_entry_points\n",
      "/env/lib/python3.10/site-packages/rasterio/warp.py:344: NotGeoreferencedWarning: Dataset has no geotransform, gcps, or rpcs. The identity matrix will be returned.\n",
      "  _reproject(\n"
     ]
    },
    {
     "name": "stdout",
     "output_type": "stream",
     "text": [
      "Modelling tides using FES2014, TPXO9-atlas-v5, EOT20, HAMTIDE11, GOT4.10, FES2012, TPXO8-atlas-v1 in parallel\n"
     ]
    },
    {
     "name": "stderr",
     "output_type": "stream",
     "text": [
      "\n",
      "  0%|          | 0/7 [00:00<?, ?it/s]\u001b[A\n",
      " 14%|█▍        | 1/7 [00:09<00:54,  9.10s/it]\u001b[A\n",
      "100%|██████████| 7/7 [00:16<00:00,  2.29s/it]\u001b[A\n"
     ]
    },
    {
     "name": "stdout",
     "output_type": "stream",
     "text": [
      "Reducing analysed pixels from 251001 to 58677 (23.38%)\n"
     ]
    },
    {
     "name": "stderr",
     "output_type": "stream",
     "text": [
      "2023-12-07 03:39:00,188 - distributed.nanny - WARNING - Restarting worker\n"
     ]
    },
    {
     "name": "stdout",
     "output_type": "stream",
     "text": [
      "Processing ID 2436\n"
     ]
    },
    {
     "name": "stderr",
     "output_type": "stream",
     "text": [
      "/env/lib/python3.10/site-packages/datacube/drivers/driver_cache.py:54: DeprecationWarning: pkg_resources is deprecated as an API. See https://setuptools.pypa.io/en/latest/pkg_resources.html\n",
      "  from pkg_resources import iter_entry_points\n",
      "/env/lib/python3.10/site-packages/rasterio/warp.py:344: NotGeoreferencedWarning: Dataset has no geotransform, gcps, or rpcs. The identity matrix will be returned.\n",
      "  _reproject(\n",
      "/env/lib/python3.10/site-packages/rasterio/warp.py:344: NotGeoreferencedWarning: Dataset has no geotransform, gcps, or rpcs. The identity matrix will be returned.\n",
      "  _reproject(\n",
      "/env/lib/python3.10/site-packages/rasterio/warp.py:344: NotGeoreferencedWarning: Dataset has no geotransform, gcps, or rpcs. The identity matrix will be returned.\n",
      "  _reproject(\n"
     ]
    },
    {
     "name": "stdout",
     "output_type": "stream",
     "text": [
      "Modelling tides using FES2014, TPXO9-atlas-v5, EOT20, HAMTIDE11, GOT4.10, FES2012, TPXO8-atlas-v1 in parallel\n"
     ]
    },
    {
     "name": "stderr",
     "output_type": "stream",
     "text": [
      "\n",
      "  0%|          | 0/7 [00:00<?, ?it/s]\u001b[A\n",
      " 14%|█▍        | 1/7 [00:09<00:59,  9.93s/it]\u001b[A\n",
      "100%|██████████| 7/7 [00:16<00:00,  2.32s/it]\u001b[A\n"
     ]
    },
    {
     "name": "stdout",
     "output_type": "stream",
     "text": [
      "Reducing analysed pixels from 251001 to 16532 (6.59%)\n"
     ]
    },
    {
     "name": "stderr",
     "output_type": "stream",
     "text": [
      "2023-12-07 03:40:00,160 - distributed.nanny - WARNING - Restarting worker\n"
     ]
    },
    {
     "name": "stdout",
     "output_type": "stream",
     "text": [
      "Processing ID 2522\n"
     ]
    },
    {
     "name": "stderr",
     "output_type": "stream",
     "text": [
      "/env/lib/python3.10/site-packages/datacube/drivers/driver_cache.py:54: DeprecationWarning: pkg_resources is deprecated as an API. See https://setuptools.pypa.io/en/latest/pkg_resources.html\n",
      "  from pkg_resources import iter_entry_points\n",
      "/env/lib/python3.10/site-packages/rasterio/warp.py:344: NotGeoreferencedWarning: Dataset has no geotransform, gcps, or rpcs. The identity matrix will be returned.\n",
      "  _reproject(\n"
     ]
    },
    {
     "name": "stdout",
     "output_type": "stream",
     "text": [
      "Modelling tides using FES2014, TPXO9-atlas-v5, EOT20, HAMTIDE11, GOT4.10, FES2012, TPXO8-atlas-v1 in parallel\n"
     ]
    },
    {
     "name": "stderr",
     "output_type": "stream",
     "text": [
      "\n",
      "  0%|          | 0/7 [00:00<?, ?it/s]\u001b[A\n",
      " 14%|█▍        | 1/7 [00:09<00:54,  9.01s/it]\u001b[A\n",
      "100%|██████████| 7/7 [00:15<00:00,  2.25s/it]\u001b[A\n"
     ]
    },
    {
     "name": "stdout",
     "output_type": "stream",
     "text": [
      "Reducing analysed pixels from 251001 to 106594 (42.47%)\n"
     ]
    },
    {
     "name": "stderr",
     "output_type": "stream",
     "text": [
      "2023-12-07 03:41:53,257 - distributed.nanny - WARNING - Restarting worker\n"
     ]
    },
    {
     "name": "stdout",
     "output_type": "stream",
     "text": [
      "Processing ID 2544\n"
     ]
    },
    {
     "name": "stderr",
     "output_type": "stream",
     "text": [
      "/env/lib/python3.10/site-packages/datacube/drivers/driver_cache.py:54: DeprecationWarning: pkg_resources is deprecated as an API. See https://setuptools.pypa.io/en/latest/pkg_resources.html\n",
      "  from pkg_resources import iter_entry_points\n",
      "/env/lib/python3.10/site-packages/rasterio/warp.py:344: NotGeoreferencedWarning: Dataset has no geotransform, gcps, or rpcs. The identity matrix will be returned.\n",
      "  _reproject(\n",
      "/env/lib/python3.10/site-packages/rasterio/warp.py:344: NotGeoreferencedWarning: Dataset has no geotransform, gcps, or rpcs. The identity matrix will be returned.\n",
      "  _reproject(\n",
      "/env/lib/python3.10/site-packages/rasterio/warp.py:344: NotGeoreferencedWarning: Dataset has no geotransform, gcps, or rpcs. The identity matrix will be returned.\n",
      "  _reproject(\n"
     ]
    },
    {
     "name": "stdout",
     "output_type": "stream",
     "text": [
      "Modelling tides using FES2014, TPXO9-atlas-v5, EOT20, HAMTIDE11, GOT4.10, FES2012, TPXO8-atlas-v1 in parallel\n"
     ]
    },
    {
     "name": "stderr",
     "output_type": "stream",
     "text": [
      "\n",
      "  0%|          | 0/7 [00:00<?, ?it/s]\u001b[A\n",
      " 14%|█▍        | 1/7 [00:09<00:57,  9.61s/it]\u001b[A\n",
      "100%|██████████| 7/7 [00:15<00:00,  2.27s/it]\u001b[A\n"
     ]
    },
    {
     "name": "stdout",
     "output_type": "stream",
     "text": [
      "Reducing analysed pixels from 251001 to 10379 (4.14%)\n"
     ]
    },
    {
     "name": "stderr",
     "output_type": "stream",
     "text": [
      "2023-12-07 03:42:51,912 - distributed.nanny - WARNING - Restarting worker\n"
     ]
    },
    {
     "name": "stdout",
     "output_type": "stream",
     "text": [
      "Processing ID 2793\n"
     ]
    },
    {
     "name": "stderr",
     "output_type": "stream",
     "text": [
      "/env/lib/python3.10/site-packages/datacube/drivers/driver_cache.py:54: DeprecationWarning: pkg_resources is deprecated as an API. See https://setuptools.pypa.io/en/latest/pkg_resources.html\n",
      "  from pkg_resources import iter_entry_points\n",
      "/env/lib/python3.10/site-packages/rasterio/warp.py:344: NotGeoreferencedWarning: Dataset has no geotransform, gcps, or rpcs. The identity matrix will be returned.\n",
      "  _reproject(\n",
      "/env/lib/python3.10/site-packages/rasterio/warp.py:344: NotGeoreferencedWarning: Dataset has no geotransform, gcps, or rpcs. The identity matrix will be returned.\n",
      "  _reproject(\n",
      "/env/lib/python3.10/site-packages/rasterio/warp.py:344: NotGeoreferencedWarning: Dataset has no geotransform, gcps, or rpcs. The identity matrix will be returned.\n",
      "  _reproject(\n",
      "/env/lib/python3.10/site-packages/rasterio/warp.py:344: NotGeoreferencedWarning: Dataset has no geotransform, gcps, or rpcs. The identity matrix will be returned.\n",
      "  _reproject(\n"
     ]
    },
    {
     "name": "stdout",
     "output_type": "stream",
     "text": [
      "Modelling tides using FES2014, TPXO9-atlas-v5, EOT20, HAMTIDE11, GOT4.10, FES2012, TPXO8-atlas-v1 in parallel\n"
     ]
    },
    {
     "name": "stderr",
     "output_type": "stream",
     "text": [
      "\n",
      "  0%|          | 0/7 [00:00<?, ?it/s]\u001b[A\n",
      " 14%|█▍        | 1/7 [00:08<00:53,  8.95s/it]\u001b[A\n",
      "100%|██████████| 7/7 [00:15<00:00,  2.18s/it]\u001b[A\n"
     ]
    },
    {
     "name": "stdout",
     "output_type": "stream",
     "text": [
      "Reducing analysed pixels from 250500 to 76274 (30.45%)\n"
     ]
    },
    {
     "name": "stderr",
     "output_type": "stream",
     "text": [
      "2023-12-07 03:44:47,898 - distributed.nanny - WARNING - Restarting worker\n"
     ]
    },
    {
     "name": "stdout",
     "output_type": "stream",
     "text": [
      "Processing ID 2821\n"
     ]
    },
    {
     "name": "stderr",
     "output_type": "stream",
     "text": [
      "/env/lib/python3.10/site-packages/datacube/drivers/driver_cache.py:54: DeprecationWarning: pkg_resources is deprecated as an API. See https://setuptools.pypa.io/en/latest/pkg_resources.html\n",
      "  from pkg_resources import iter_entry_points\n",
      "/env/lib/python3.10/site-packages/rasterio/warp.py:344: NotGeoreferencedWarning: Dataset has no geotransform, gcps, or rpcs. The identity matrix will be returned.\n",
      "  _reproject(\n",
      "/env/lib/python3.10/site-packages/rasterio/warp.py:344: NotGeoreferencedWarning: Dataset has no geotransform, gcps, or rpcs. The identity matrix will be returned.\n",
      "  _reproject(\n",
      "/env/lib/python3.10/site-packages/rasterio/warp.py:344: NotGeoreferencedWarning: Dataset has no geotransform, gcps, or rpcs. The identity matrix will be returned.\n",
      "  _reproject(\n"
     ]
    },
    {
     "name": "stdout",
     "output_type": "stream",
     "text": [
      "Modelling tides using FES2014, TPXO9-atlas-v5, EOT20, HAMTIDE11, GOT4.10, FES2012, TPXO8-atlas-v1 in parallel\n"
     ]
    },
    {
     "name": "stderr",
     "output_type": "stream",
     "text": [
      "\n",
      "  0%|          | 0/7 [00:00<?, ?it/s]\u001b[A\n",
      " 14%|█▍        | 1/7 [00:08<00:53,  8.98s/it]\u001b[A\n",
      "100%|██████████| 7/7 [00:15<00:00,  2.18s/it]\u001b[A\n"
     ]
    },
    {
     "name": "stdout",
     "output_type": "stream",
     "text": [
      "Reducing analysed pixels from 251001 to 34319 (13.67%)\n"
     ]
    },
    {
     "name": "stderr",
     "output_type": "stream",
     "text": [
      "2023-12-07 03:46:06,304 - distributed.nanny - WARNING - Restarting worker\n"
     ]
    },
    {
     "name": "stdout",
     "output_type": "stream",
     "text": [
      "Processing ID 2904\n"
     ]
    },
    {
     "name": "stderr",
     "output_type": "stream",
     "text": [
      "/env/lib/python3.10/site-packages/datacube/drivers/driver_cache.py:54: DeprecationWarning: pkg_resources is deprecated as an API. See https://setuptools.pypa.io/en/latest/pkg_resources.html\n",
      "  from pkg_resources import iter_entry_points\n",
      "/env/lib/python3.10/site-packages/rasterio/warp.py:344: NotGeoreferencedWarning: Dataset has no geotransform, gcps, or rpcs. The identity matrix will be returned.\n",
      "  _reproject(\n"
     ]
    },
    {
     "name": "stdout",
     "output_type": "stream",
     "text": [
      "Modelling tides using FES2014, TPXO9-atlas-v5, EOT20, HAMTIDE11, GOT4.10, FES2012, TPXO8-atlas-v1 in parallel\n"
     ]
    },
    {
     "name": "stderr",
     "output_type": "stream",
     "text": [
      "\n",
      "  0%|          | 0/7 [00:00<?, ?it/s]\u001b[A\n",
      " 14%|█▍        | 1/7 [00:08<00:52,  8.83s/it]\u001b[A\n",
      "100%|██████████| 7/7 [00:15<00:00,  2.18s/it]\u001b[A\n"
     ]
    },
    {
     "name": "stdout",
     "output_type": "stream",
     "text": [
      "Reducing analysed pixels from 251001 to 74397 (29.64%)\n"
     ]
    },
    {
     "name": "stderr",
     "output_type": "stream",
     "text": [
      "2023-12-07 03:47:33,294 - distributed.nanny - WARNING - Restarting worker\n"
     ]
    }
   ],
   "source": [
    "# Connect to datacube\n",
    "dc = datacube.Datacube(app=\"Intertidal_elevation\")\n",
    "\n",
    "# Create local dask cluster to improve data load time\n",
    "client = create_local_dask_cluster(return_client=True)\n",
    "\n",
    "out_list = []\n",
    "\n",
    "for i, row in tqdm(points_gdf.iterrows(), \n",
    "                   total=points_gdf.shape[0]):\n",
    "    \n",
    "    try:\n",
    "    \n",
    "        point_id = row.id\n",
    "        print(f\"Processing ID {point_id}\")\n",
    "        geom = Geometry(row.geometry, crs=\"EPSG:3577\")       \n",
    "\n",
    "        output_df = correlation_loop(point_id, geom, models)\n",
    "        output_df[\"x\"] = row.geometry.centroid.x\n",
    "        output_df[\"y\"] = row.geometry.centroid.y\n",
    "\n",
    "        out_list.append(output_df)\n",
    "\n",
    "        client.restart()\n",
    "    \n",
    "    except Exception as error:\n",
    "        print(f\"{point_id} failed; skipping. Error: {error}\")"
   ]
  },
  {
   "cell_type": "markdown",
   "id": "d86762e7-b3c6-4254-931d-d78309b0b58e",
   "metadata": {},
   "source": [
    "### Combine and process data"
   ]
  },
  {
   "cell_type": "code",
   "execution_count": 6,
   "id": "1c932cca-fd88-43b3-8082-f76b8aa45088",
   "metadata": {
    "tags": []
   },
   "outputs": [
    {
     "data": {
      "text/html": [
       "<div>\n",
       "<style scoped>\n",
       "    .dataframe tbody tr th:only-of-type {\n",
       "        vertical-align: middle;\n",
       "    }\n",
       "\n",
       "    .dataframe tbody tr th {\n",
       "        vertical-align: top;\n",
       "    }\n",
       "\n",
       "    .dataframe thead th {\n",
       "        text-align: right;\n",
       "    }\n",
       "</style>\n",
       "<table border=\"1\" class=\"dataframe\">\n",
       "  <thead>\n",
       "    <tr style=\"text-align: right;\">\n",
       "      <th>tide_model</th>\n",
       "      <th>x</th>\n",
       "      <th>y</th>\n",
       "      <th>valid_perc</th>\n",
       "      <th>source</th>\n",
       "      <th>statistic</th>\n",
       "      <th>FES2014</th>\n",
       "      <th>TPXO9-atlas-v5</th>\n",
       "      <th>EOT20</th>\n",
       "      <th>HAMTIDE11</th>\n",
       "      <th>GOT4.10</th>\n",
       "      <th>...</th>\n",
       "      <th>std</th>\n",
       "      <th>rank_FES2014</th>\n",
       "      <th>rank_TPXO9-atlas-v5</th>\n",
       "      <th>rank_EOT20</th>\n",
       "      <th>rank_HAMTIDE11</th>\n",
       "      <th>rank_GOT4.10</th>\n",
       "      <th>rank_FES2012</th>\n",
       "      <th>rank_TPXO8-atlas-v1</th>\n",
       "      <th>top_model</th>\n",
       "      <th>worst_model</th>\n",
       "    </tr>\n",
       "    <tr>\n",
       "      <th>point_id</th>\n",
       "      <th></th>\n",
       "      <th></th>\n",
       "      <th></th>\n",
       "      <th></th>\n",
       "      <th></th>\n",
       "      <th></th>\n",
       "      <th></th>\n",
       "      <th></th>\n",
       "      <th></th>\n",
       "      <th></th>\n",
       "      <th></th>\n",
       "      <th></th>\n",
       "      <th></th>\n",
       "      <th></th>\n",
       "      <th></th>\n",
       "      <th></th>\n",
       "      <th></th>\n",
       "      <th></th>\n",
       "      <th></th>\n",
       "      <th></th>\n",
       "      <th></th>\n",
       "    </tr>\n",
       "  </thead>\n",
       "  <tbody>\n",
       "    <tr>\n",
       "      <th>21</th>\n",
       "      <td>516442.644276</td>\n",
       "      <td>-1.671556e+06</td>\n",
       "      <td>0.998893</td>\n",
       "      <td>ndwi correlation</td>\n",
       "      <td>correlation</td>\n",
       "      <td>0.670726</td>\n",
       "      <td>0.647490</td>\n",
       "      <td>0.679817</td>\n",
       "      <td>0.618893</td>\n",
       "      <td>0.687086</td>\n",
       "      <td>...</td>\n",
       "      <td>0.026680</td>\n",
       "      <td>4.0</td>\n",
       "      <td>3.0</td>\n",
       "      <td>5.0</td>\n",
       "      <td>1.0</td>\n",
       "      <td>6.0</td>\n",
       "      <td>7.0</td>\n",
       "      <td>2.0</td>\n",
       "      <td>FES2012</td>\n",
       "      <td>HAMTIDE11</td>\n",
       "    </tr>\n",
       "    <tr>\n",
       "      <th>22</th>\n",
       "      <td>498432.989637</td>\n",
       "      <td>-1.660526e+06</td>\n",
       "      <td>0.970212</td>\n",
       "      <td>ndwi correlation</td>\n",
       "      <td>correlation</td>\n",
       "      <td>0.669901</td>\n",
       "      <td>0.672776</td>\n",
       "      <td>0.678625</td>\n",
       "      <td>0.638662</td>\n",
       "      <td>0.675613</td>\n",
       "      <td>...</td>\n",
       "      <td>0.017483</td>\n",
       "      <td>3.0</td>\n",
       "      <td>4.0</td>\n",
       "      <td>6.0</td>\n",
       "      <td>1.0</td>\n",
       "      <td>5.0</td>\n",
       "      <td>7.0</td>\n",
       "      <td>2.0</td>\n",
       "      <td>FES2012</td>\n",
       "      <td>HAMTIDE11</td>\n",
       "    </tr>\n",
       "    <tr>\n",
       "      <th>153</th>\n",
       "      <td>537163.525935</td>\n",
       "      <td>-1.683548e+06</td>\n",
       "      <td>0.980937</td>\n",
       "      <td>ndwi correlation</td>\n",
       "      <td>correlation</td>\n",
       "      <td>0.616050</td>\n",
       "      <td>0.618710</td>\n",
       "      <td>0.607304</td>\n",
       "      <td>0.571092</td>\n",
       "      <td>0.623861</td>\n",
       "      <td>...</td>\n",
       "      <td>0.020798</td>\n",
       "      <td>4.0</td>\n",
       "      <td>5.0</td>\n",
       "      <td>3.0</td>\n",
       "      <td>1.0</td>\n",
       "      <td>6.0</td>\n",
       "      <td>7.0</td>\n",
       "      <td>2.0</td>\n",
       "      <td>FES2012</td>\n",
       "      <td>HAMTIDE11</td>\n",
       "    </tr>\n",
       "    <tr>\n",
       "      <th>199</th>\n",
       "      <td>439899.820285</td>\n",
       "      <td>-1.635378e+06</td>\n",
       "      <td>0.970932</td>\n",
       "      <td>ndwi correlation</td>\n",
       "      <td>correlation</td>\n",
       "      <td>0.678386</td>\n",
       "      <td>0.679370</td>\n",
       "      <td>0.695030</td>\n",
       "      <td>0.603762</td>\n",
       "      <td>0.691279</td>\n",
       "      <td>...</td>\n",
       "      <td>0.047475</td>\n",
       "      <td>3.0</td>\n",
       "      <td>4.0</td>\n",
       "      <td>6.0</td>\n",
       "      <td>2.0</td>\n",
       "      <td>5.0</td>\n",
       "      <td>7.0</td>\n",
       "      <td>1.0</td>\n",
       "      <td>FES2012</td>\n",
       "      <td>TPXO8-atlas-v1</td>\n",
       "    </tr>\n",
       "    <tr>\n",
       "      <th>254</th>\n",
       "      <td>484566.938854</td>\n",
       "      <td>-1.675849e+06</td>\n",
       "      <td>0.510963</td>\n",
       "      <td>ndwi correlation</td>\n",
       "      <td>correlation</td>\n",
       "      <td>0.697543</td>\n",
       "      <td>0.684515</td>\n",
       "      <td>0.708324</td>\n",
       "      <td>0.650684</td>\n",
       "      <td>0.709453</td>\n",
       "      <td>...</td>\n",
       "      <td>0.039936</td>\n",
       "      <td>4.0</td>\n",
       "      <td>3.0</td>\n",
       "      <td>5.0</td>\n",
       "      <td>2.0</td>\n",
       "      <td>6.0</td>\n",
       "      <td>7.0</td>\n",
       "      <td>1.0</td>\n",
       "      <td>FES2012</td>\n",
       "      <td>TPXO8-atlas-v1</td>\n",
       "    </tr>\n",
       "    <tr>\n",
       "      <th>298</th>\n",
       "      <td>521114.736025</td>\n",
       "      <td>-1.701352e+06</td>\n",
       "      <td>0.871229</td>\n",
       "      <td>ndwi correlation</td>\n",
       "      <td>correlation</td>\n",
       "      <td>0.691732</td>\n",
       "      <td>0.708249</td>\n",
       "      <td>0.705356</td>\n",
       "      <td>0.642076</td>\n",
       "      <td>0.687179</td>\n",
       "      <td>...</td>\n",
       "      <td>0.022211</td>\n",
       "      <td>5.0</td>\n",
       "      <td>7.0</td>\n",
       "      <td>6.0</td>\n",
       "      <td>1.0</td>\n",
       "      <td>3.0</td>\n",
       "      <td>4.0</td>\n",
       "      <td>2.0</td>\n",
       "      <td>TPXO9-atlas-v5</td>\n",
       "      <td>HAMTIDE11</td>\n",
       "    </tr>\n",
       "    <tr>\n",
       "      <th>428</th>\n",
       "      <td>530032.062164</td>\n",
       "      <td>-1.704616e+06</td>\n",
       "      <td>0.815550</td>\n",
       "      <td>ndwi correlation</td>\n",
       "      <td>correlation</td>\n",
       "      <td>0.582267</td>\n",
       "      <td>0.603928</td>\n",
       "      <td>0.588071</td>\n",
       "      <td>0.522594</td>\n",
       "      <td>0.578191</td>\n",
       "      <td>...</td>\n",
       "      <td>0.025359</td>\n",
       "      <td>5.0</td>\n",
       "      <td>7.0</td>\n",
       "      <td>6.0</td>\n",
       "      <td>1.0</td>\n",
       "      <td>3.0</td>\n",
       "      <td>4.0</td>\n",
       "      <td>2.0</td>\n",
       "      <td>TPXO9-atlas-v5</td>\n",
       "      <td>HAMTIDE11</td>\n",
       "    </tr>\n",
       "    <tr>\n",
       "      <th>469</th>\n",
       "      <td>582028.441796</td>\n",
       "      <td>-1.729411e+06</td>\n",
       "      <td>0.918539</td>\n",
       "      <td>ndwi correlation</td>\n",
       "      <td>correlation</td>\n",
       "      <td>0.649994</td>\n",
       "      <td>0.654757</td>\n",
       "      <td>0.644533</td>\n",
       "      <td>0.600917</td>\n",
       "      <td>0.662406</td>\n",
       "      <td>...</td>\n",
       "      <td>0.020721</td>\n",
       "      <td>3.0</td>\n",
       "      <td>5.0</td>\n",
       "      <td>2.0</td>\n",
       "      <td>1.0</td>\n",
       "      <td>7.0</td>\n",
       "      <td>4.0</td>\n",
       "      <td>6.0</td>\n",
       "      <td>GOT4.10</td>\n",
       "      <td>HAMTIDE11</td>\n",
       "    </tr>\n",
       "    <tr>\n",
       "      <th>493</th>\n",
       "      <td>549966.678292</td>\n",
       "      <td>-1.707428e+06</td>\n",
       "      <td>0.567867</td>\n",
       "      <td>ndwi correlation</td>\n",
       "      <td>correlation</td>\n",
       "      <td>0.484439</td>\n",
       "      <td>0.485803</td>\n",
       "      <td>0.493438</td>\n",
       "      <td>0.439608</td>\n",
       "      <td>0.486596</td>\n",
       "      <td>...</td>\n",
       "      <td>0.018274</td>\n",
       "      <td>3.0</td>\n",
       "      <td>4.0</td>\n",
       "      <td>7.0</td>\n",
       "      <td>1.0</td>\n",
       "      <td>5.0</td>\n",
       "      <td>6.0</td>\n",
       "      <td>2.0</td>\n",
       "      <td>EOT20</td>\n",
       "      <td>HAMTIDE11</td>\n",
       "    </tr>\n",
       "    <tr>\n",
       "      <th>669</th>\n",
       "      <td>462584.561642</td>\n",
       "      <td>-1.660755e+06</td>\n",
       "      <td>0.973105</td>\n",
       "      <td>ndwi correlation</td>\n",
       "      <td>correlation</td>\n",
       "      <td>0.653992</td>\n",
       "      <td>0.638444</td>\n",
       "      <td>0.681054</td>\n",
       "      <td>0.591711</td>\n",
       "      <td>0.662139</td>\n",
       "      <td>...</td>\n",
       "      <td>0.044755</td>\n",
       "      <td>4.0</td>\n",
       "      <td>3.0</td>\n",
       "      <td>7.0</td>\n",
       "      <td>2.0</td>\n",
       "      <td>6.0</td>\n",
       "      <td>5.0</td>\n",
       "      <td>1.0</td>\n",
       "      <td>EOT20</td>\n",
       "      <td>TPXO8-atlas-v1</td>\n",
       "    </tr>\n",
       "    <tr>\n",
       "      <th>760</th>\n",
       "      <td>527280.475563</td>\n",
       "      <td>-1.661549e+06</td>\n",
       "      <td>0.994090</td>\n",
       "      <td>ndwi correlation</td>\n",
       "      <td>correlation</td>\n",
       "      <td>0.547969</td>\n",
       "      <td>0.578509</td>\n",
       "      <td>0.531668</td>\n",
       "      <td>0.493063</td>\n",
       "      <td>0.588062</td>\n",
       "      <td>...</td>\n",
       "      <td>0.034359</td>\n",
       "      <td>3.0</td>\n",
       "      <td>5.0</td>\n",
       "      <td>2.0</td>\n",
       "      <td>1.0</td>\n",
       "      <td>7.0</td>\n",
       "      <td>6.0</td>\n",
       "      <td>4.0</td>\n",
       "      <td>GOT4.10</td>\n",
       "      <td>HAMTIDE11</td>\n",
       "    </tr>\n",
       "    <tr>\n",
       "      <th>784</th>\n",
       "      <td>549870.490427</td>\n",
       "      <td>-1.689650e+06</td>\n",
       "      <td>0.995304</td>\n",
       "      <td>ndwi correlation</td>\n",
       "      <td>correlation</td>\n",
       "      <td>0.688303</td>\n",
       "      <td>0.697872</td>\n",
       "      <td>0.688345</td>\n",
       "      <td>0.622148</td>\n",
       "      <td>0.702854</td>\n",
       "      <td>...</td>\n",
       "      <td>0.028125</td>\n",
       "      <td>3.0</td>\n",
       "      <td>5.0</td>\n",
       "      <td>4.0</td>\n",
       "      <td>1.0</td>\n",
       "      <td>7.0</td>\n",
       "      <td>6.0</td>\n",
       "      <td>2.0</td>\n",
       "      <td>GOT4.10</td>\n",
       "      <td>HAMTIDE11</td>\n",
       "    </tr>\n",
       "    <tr>\n",
       "      <th>934</th>\n",
       "      <td>518912.381802</td>\n",
       "      <td>-1.678176e+06</td>\n",
       "      <td>0.999463</td>\n",
       "      <td>ndwi correlation</td>\n",
       "      <td>correlation</td>\n",
       "      <td>0.664444</td>\n",
       "      <td>0.672910</td>\n",
       "      <td>0.670021</td>\n",
       "      <td>0.614053</td>\n",
       "      <td>0.677351</td>\n",
       "      <td>...</td>\n",
       "      <td>0.023734</td>\n",
       "      <td>3.0</td>\n",
       "      <td>5.0</td>\n",
       "      <td>4.0</td>\n",
       "      <td>1.0</td>\n",
       "      <td>6.0</td>\n",
       "      <td>7.0</td>\n",
       "      <td>2.0</td>\n",
       "      <td>FES2012</td>\n",
       "      <td>HAMTIDE11</td>\n",
       "    </tr>\n",
       "    <tr>\n",
       "      <th>965</th>\n",
       "      <td>525910.232220</td>\n",
       "      <td>-1.668060e+06</td>\n",
       "      <td>0.998413</td>\n",
       "      <td>ndwi correlation</td>\n",
       "      <td>correlation</td>\n",
       "      <td>0.455078</td>\n",
       "      <td>0.491517</td>\n",
       "      <td>0.439021</td>\n",
       "      <td>0.397906</td>\n",
       "      <td>0.503727</td>\n",
       "      <td>...</td>\n",
       "      <td>0.038504</td>\n",
       "      <td>3.0</td>\n",
       "      <td>5.0</td>\n",
       "      <td>2.0</td>\n",
       "      <td>1.0</td>\n",
       "      <td>7.0</td>\n",
       "      <td>6.0</td>\n",
       "      <td>4.0</td>\n",
       "      <td>GOT4.10</td>\n",
       "      <td>HAMTIDE11</td>\n",
       "    </tr>\n",
       "    <tr>\n",
       "      <th>1048</th>\n",
       "      <td>510117.058987</td>\n",
       "      <td>-1.679605e+06</td>\n",
       "      <td>0.958534</td>\n",
       "      <td>ndwi correlation</td>\n",
       "      <td>correlation</td>\n",
       "      <td>0.662938</td>\n",
       "      <td>0.664872</td>\n",
       "      <td>0.670687</td>\n",
       "      <td>0.615920</td>\n",
       "      <td>0.669467</td>\n",
       "      <td>...</td>\n",
       "      <td>0.021328</td>\n",
       "      <td>3.0</td>\n",
       "      <td>4.0</td>\n",
       "      <td>6.0</td>\n",
       "      <td>1.0</td>\n",
       "      <td>5.0</td>\n",
       "      <td>7.0</td>\n",
       "      <td>2.0</td>\n",
       "      <td>FES2012</td>\n",
       "      <td>HAMTIDE11</td>\n",
       "    </tr>\n",
       "    <tr>\n",
       "      <th>1072</th>\n",
       "      <td>536846.566491</td>\n",
       "      <td>-1.696179e+06</td>\n",
       "      <td>0.996314</td>\n",
       "      <td>ndwi correlation</td>\n",
       "      <td>correlation</td>\n",
       "      <td>0.628036</td>\n",
       "      <td>0.640271</td>\n",
       "      <td>0.633094</td>\n",
       "      <td>0.564959</td>\n",
       "      <td>0.640577</td>\n",
       "      <td>...</td>\n",
       "      <td>0.028384</td>\n",
       "      <td>3.0</td>\n",
       "      <td>6.0</td>\n",
       "      <td>4.0</td>\n",
       "      <td>1.0</td>\n",
       "      <td>7.0</td>\n",
       "      <td>5.0</td>\n",
       "      <td>2.0</td>\n",
       "      <td>GOT4.10</td>\n",
       "      <td>HAMTIDE11</td>\n",
       "    </tr>\n",
       "    <tr>\n",
       "      <th>1138</th>\n",
       "      <td>542068.596695</td>\n",
       "      <td>-1.690306e+06</td>\n",
       "      <td>0.989197</td>\n",
       "      <td>ndwi correlation</td>\n",
       "      <td>correlation</td>\n",
       "      <td>0.676129</td>\n",
       "      <td>0.669168</td>\n",
       "      <td>0.669075</td>\n",
       "      <td>0.630661</td>\n",
       "      <td>0.683172</td>\n",
       "      <td>...</td>\n",
       "      <td>0.023523</td>\n",
       "      <td>5.0</td>\n",
       "      <td>4.0</td>\n",
       "      <td>3.0</td>\n",
       "      <td>2.0</td>\n",
       "      <td>6.0</td>\n",
       "      <td>7.0</td>\n",
       "      <td>1.0</td>\n",
       "      <td>FES2012</td>\n",
       "      <td>TPXO8-atlas-v1</td>\n",
       "    </tr>\n",
       "    <tr>\n",
       "      <th>1177</th>\n",
       "      <td>473231.542251</td>\n",
       "      <td>-1.667908e+06</td>\n",
       "      <td>0.864370</td>\n",
       "      <td>ndwi correlation</td>\n",
       "      <td>correlation</td>\n",
       "      <td>0.670851</td>\n",
       "      <td>0.656531</td>\n",
       "      <td>0.684217</td>\n",
       "      <td>0.627793</td>\n",
       "      <td>0.679481</td>\n",
       "      <td>...</td>\n",
       "      <td>0.035110</td>\n",
       "      <td>4.0</td>\n",
       "      <td>3.0</td>\n",
       "      <td>7.0</td>\n",
       "      <td>2.0</td>\n",
       "      <td>5.0</td>\n",
       "      <td>6.0</td>\n",
       "      <td>1.0</td>\n",
       "      <td>EOT20</td>\n",
       "      <td>TPXO8-atlas-v1</td>\n",
       "    </tr>\n",
       "    <tr>\n",
       "      <th>1180</th>\n",
       "      <td>548519.324587</td>\n",
       "      <td>-1.673629e+06</td>\n",
       "      <td>0.983275</td>\n",
       "      <td>ndwi correlation</td>\n",
       "      <td>correlation</td>\n",
       "      <td>0.652708</td>\n",
       "      <td>0.653521</td>\n",
       "      <td>0.669633</td>\n",
       "      <td>0.594530</td>\n",
       "      <td>0.657924</td>\n",
       "      <td>...</td>\n",
       "      <td>0.024267</td>\n",
       "      <td>3.0</td>\n",
       "      <td>5.0</td>\n",
       "      <td>7.0</td>\n",
       "      <td>1.0</td>\n",
       "      <td>6.0</td>\n",
       "      <td>4.0</td>\n",
       "      <td>2.0</td>\n",
       "      <td>EOT20</td>\n",
       "      <td>HAMTIDE11</td>\n",
       "    </tr>\n",
       "    <tr>\n",
       "      <th>1328</th>\n",
       "      <td>536962.481658</td>\n",
       "      <td>-1.673411e+06</td>\n",
       "      <td>0.997838</td>\n",
       "      <td>ndwi correlation</td>\n",
       "      <td>correlation</td>\n",
       "      <td>0.598246</td>\n",
       "      <td>0.606225</td>\n",
       "      <td>0.588869</td>\n",
       "      <td>0.558117</td>\n",
       "      <td>0.609794</td>\n",
       "      <td>...</td>\n",
       "      <td>0.019918</td>\n",
       "      <td>4.0</td>\n",
       "      <td>5.0</td>\n",
       "      <td>3.0</td>\n",
       "      <td>1.0</td>\n",
       "      <td>6.0</td>\n",
       "      <td>7.0</td>\n",
       "      <td>2.0</td>\n",
       "      <td>FES2012</td>\n",
       "      <td>HAMTIDE11</td>\n",
       "    </tr>\n",
       "    <tr>\n",
       "      <th>1538</th>\n",
       "      <td>516820.958608</td>\n",
       "      <td>-1.665829e+06</td>\n",
       "      <td>0.996994</td>\n",
       "      <td>ndwi correlation</td>\n",
       "      <td>correlation</td>\n",
       "      <td>0.670241</td>\n",
       "      <td>0.649878</td>\n",
       "      <td>0.677415</td>\n",
       "      <td>0.624643</td>\n",
       "      <td>0.685234</td>\n",
       "      <td>...</td>\n",
       "      <td>0.023854</td>\n",
       "      <td>4.0</td>\n",
       "      <td>3.0</td>\n",
       "      <td>5.0</td>\n",
       "      <td>1.0</td>\n",
       "      <td>6.0</td>\n",
       "      <td>7.0</td>\n",
       "      <td>2.0</td>\n",
       "      <td>FES2012</td>\n",
       "      <td>HAMTIDE11</td>\n",
       "    </tr>\n",
       "    <tr>\n",
       "      <th>1589</th>\n",
       "      <td>503901.598861</td>\n",
       "      <td>-1.688716e+06</td>\n",
       "      <td>0.978454</td>\n",
       "      <td>ndwi correlation</td>\n",
       "      <td>correlation</td>\n",
       "      <td>0.665284</td>\n",
       "      <td>0.679645</td>\n",
       "      <td>0.663511</td>\n",
       "      <td>0.606503</td>\n",
       "      <td>0.668545</td>\n",
       "      <td>...</td>\n",
       "      <td>0.025507</td>\n",
       "      <td>4.0</td>\n",
       "      <td>6.0</td>\n",
       "      <td>3.0</td>\n",
       "      <td>1.0</td>\n",
       "      <td>5.0</td>\n",
       "      <td>7.0</td>\n",
       "      <td>2.0</td>\n",
       "      <td>FES2012</td>\n",
       "      <td>HAMTIDE11</td>\n",
       "    </tr>\n",
       "    <tr>\n",
       "      <th>1636</th>\n",
       "      <td>562747.660614</td>\n",
       "      <td>-1.713583e+06</td>\n",
       "      <td>0.599670</td>\n",
       "      <td>ndwi correlation</td>\n",
       "      <td>correlation</td>\n",
       "      <td>0.503659</td>\n",
       "      <td>0.504025</td>\n",
       "      <td>0.513038</td>\n",
       "      <td>0.453272</td>\n",
       "      <td>0.511481</td>\n",
       "      <td>...</td>\n",
       "      <td>0.020674</td>\n",
       "      <td>3.0</td>\n",
       "      <td>4.0</td>\n",
       "      <td>7.0</td>\n",
       "      <td>1.0</td>\n",
       "      <td>6.0</td>\n",
       "      <td>5.0</td>\n",
       "      <td>2.0</td>\n",
       "      <td>EOT20</td>\n",
       "      <td>HAMTIDE11</td>\n",
       "    </tr>\n",
       "    <tr>\n",
       "      <th>1668</th>\n",
       "      <td>511256.082748</td>\n",
       "      <td>-1.701359e+06</td>\n",
       "      <td>0.897413</td>\n",
       "      <td>ndwi correlation</td>\n",
       "      <td>correlation</td>\n",
       "      <td>0.659027</td>\n",
       "      <td>0.674878</td>\n",
       "      <td>0.670196</td>\n",
       "      <td>0.606170</td>\n",
       "      <td>0.671206</td>\n",
       "      <td>...</td>\n",
       "      <td>0.024330</td>\n",
       "      <td>3.0</td>\n",
       "      <td>7.0</td>\n",
       "      <td>5.0</td>\n",
       "      <td>1.0</td>\n",
       "      <td>6.0</td>\n",
       "      <td>4.0</td>\n",
       "      <td>2.0</td>\n",
       "      <td>TPXO9-atlas-v5</td>\n",
       "      <td>HAMTIDE11</td>\n",
       "    </tr>\n",
       "    <tr>\n",
       "      <th>1669</th>\n",
       "      <td>458369.660579</td>\n",
       "      <td>-1.647119e+06</td>\n",
       "      <td>0.509984</td>\n",
       "      <td>ndwi correlation</td>\n",
       "      <td>correlation</td>\n",
       "      <td>0.621940</td>\n",
       "      <td>0.617538</td>\n",
       "      <td>0.636212</td>\n",
       "      <td>0.570789</td>\n",
       "      <td>0.632221</td>\n",
       "      <td>...</td>\n",
       "      <td>0.036898</td>\n",
       "      <td>4.0</td>\n",
       "      <td>3.0</td>\n",
       "      <td>6.0</td>\n",
       "      <td>2.0</td>\n",
       "      <td>5.0</td>\n",
       "      <td>7.0</td>\n",
       "      <td>1.0</td>\n",
       "      <td>FES2012</td>\n",
       "      <td>TPXO8-atlas-v1</td>\n",
       "    </tr>\n",
       "    <tr>\n",
       "      <th>1821</th>\n",
       "      <td>433580.672926</td>\n",
       "      <td>-1.630755e+06</td>\n",
       "      <td>0.988944</td>\n",
       "      <td>ndwi correlation</td>\n",
       "      <td>correlation</td>\n",
       "      <td>0.668914</td>\n",
       "      <td>0.666855</td>\n",
       "      <td>0.692138</td>\n",
       "      <td>0.581263</td>\n",
       "      <td>0.681591</td>\n",
       "      <td>...</td>\n",
       "      <td>0.061240</td>\n",
       "      <td>4.0</td>\n",
       "      <td>3.0</td>\n",
       "      <td>7.0</td>\n",
       "      <td>2.0</td>\n",
       "      <td>5.0</td>\n",
       "      <td>6.0</td>\n",
       "      <td>1.0</td>\n",
       "      <td>EOT20</td>\n",
       "      <td>TPXO8-atlas-v1</td>\n",
       "    </tr>\n",
       "    <tr>\n",
       "      <th>1840</th>\n",
       "      <td>541963.798086</td>\n",
       "      <td>-1.701514e+06</td>\n",
       "      <td>0.735197</td>\n",
       "      <td>ndwi correlation</td>\n",
       "      <td>correlation</td>\n",
       "      <td>0.503590</td>\n",
       "      <td>0.508168</td>\n",
       "      <td>0.504916</td>\n",
       "      <td>0.472274</td>\n",
       "      <td>0.507423</td>\n",
       "      <td>...</td>\n",
       "      <td>0.014161</td>\n",
       "      <td>4.0</td>\n",
       "      <td>7.0</td>\n",
       "      <td>5.0</td>\n",
       "      <td>1.0</td>\n",
       "      <td>6.0</td>\n",
       "      <td>3.0</td>\n",
       "      <td>2.0</td>\n",
       "      <td>TPXO9-atlas-v5</td>\n",
       "      <td>HAMTIDE11</td>\n",
       "    </tr>\n",
       "    <tr>\n",
       "      <th>1934</th>\n",
       "      <td>496314.968143</td>\n",
       "      <td>-1.684514e+06</td>\n",
       "      <td>0.723911</td>\n",
       "      <td>ndwi correlation</td>\n",
       "      <td>correlation</td>\n",
       "      <td>0.452625</td>\n",
       "      <td>0.450424</td>\n",
       "      <td>0.436461</td>\n",
       "      <td>0.415556</td>\n",
       "      <td>0.456296</td>\n",
       "      <td>...</td>\n",
       "      <td>0.020050</td>\n",
       "      <td>4.0</td>\n",
       "      <td>3.0</td>\n",
       "      <td>2.0</td>\n",
       "      <td>1.0</td>\n",
       "      <td>5.0</td>\n",
       "      <td>7.0</td>\n",
       "      <td>6.0</td>\n",
       "      <td>FES2012</td>\n",
       "      <td>HAMTIDE11</td>\n",
       "    </tr>\n",
       "    <tr>\n",
       "      <th>1963</th>\n",
       "      <td>542242.325097</td>\n",
       "      <td>-1.669445e+06</td>\n",
       "      <td>0.996662</td>\n",
       "      <td>ndwi correlation</td>\n",
       "      <td>correlation</td>\n",
       "      <td>0.621732</td>\n",
       "      <td>0.623482</td>\n",
       "      <td>0.630417</td>\n",
       "      <td>0.583566</td>\n",
       "      <td>0.627094</td>\n",
       "      <td>...</td>\n",
       "      <td>0.016892</td>\n",
       "      <td>4.0</td>\n",
       "      <td>5.0</td>\n",
       "      <td>7.0</td>\n",
       "      <td>1.0</td>\n",
       "      <td>6.0</td>\n",
       "      <td>3.0</td>\n",
       "      <td>2.0</td>\n",
       "      <td>EOT20</td>\n",
       "      <td>HAMTIDE11</td>\n",
       "    </tr>\n",
       "    <tr>\n",
       "      <th>2116</th>\n",
       "      <td>478894.482087</td>\n",
       "      <td>-1.671068e+06</td>\n",
       "      <td>0.788110</td>\n",
       "      <td>ndwi correlation</td>\n",
       "      <td>correlation</td>\n",
       "      <td>0.696166</td>\n",
       "      <td>0.685333</td>\n",
       "      <td>0.709387</td>\n",
       "      <td>0.651345</td>\n",
       "      <td>0.707621</td>\n",
       "      <td>...</td>\n",
       "      <td>0.038552</td>\n",
       "      <td>4.0</td>\n",
       "      <td>3.0</td>\n",
       "      <td>6.0</td>\n",
       "      <td>2.0</td>\n",
       "      <td>5.0</td>\n",
       "      <td>7.0</td>\n",
       "      <td>1.0</td>\n",
       "      <td>FES2012</td>\n",
       "      <td>TPXO8-atlas-v1</td>\n",
       "    </tr>\n",
       "    <tr>\n",
       "      <th>2154</th>\n",
       "      <td>569444.593473</td>\n",
       "      <td>-1.720877e+06</td>\n",
       "      <td>0.947631</td>\n",
       "      <td>ndwi correlation</td>\n",
       "      <td>correlation</td>\n",
       "      <td>0.617976</td>\n",
       "      <td>0.619550</td>\n",
       "      <td>0.615377</td>\n",
       "      <td>0.563065</td>\n",
       "      <td>0.628592</td>\n",
       "      <td>...</td>\n",
       "      <td>0.022002</td>\n",
       "      <td>3.0</td>\n",
       "      <td>5.0</td>\n",
       "      <td>2.0</td>\n",
       "      <td>1.0</td>\n",
       "      <td>7.0</td>\n",
       "      <td>6.0</td>\n",
       "      <td>4.0</td>\n",
       "      <td>GOT4.10</td>\n",
       "      <td>HAMTIDE11</td>\n",
       "    </tr>\n",
       "    <tr>\n",
       "      <th>2177</th>\n",
       "      <td>547769.029396</td>\n",
       "      <td>-1.682915e+06</td>\n",
       "      <td>0.994111</td>\n",
       "      <td>ndwi correlation</td>\n",
       "      <td>correlation</td>\n",
       "      <td>0.694458</td>\n",
       "      <td>0.697374</td>\n",
       "      <td>0.706916</td>\n",
       "      <td>0.635367</td>\n",
       "      <td>0.702836</td>\n",
       "      <td>...</td>\n",
       "      <td>0.024549</td>\n",
       "      <td>3.0</td>\n",
       "      <td>4.0</td>\n",
       "      <td>7.0</td>\n",
       "      <td>1.0</td>\n",
       "      <td>6.0</td>\n",
       "      <td>5.0</td>\n",
       "      <td>2.0</td>\n",
       "      <td>EOT20</td>\n",
       "      <td>HAMTIDE11</td>\n",
       "    </tr>\n",
       "    <tr>\n",
       "      <th>2178</th>\n",
       "      <td>487818.379824</td>\n",
       "      <td>-1.663989e+06</td>\n",
       "      <td>0.981874</td>\n",
       "      <td>ndwi correlation</td>\n",
       "      <td>correlation</td>\n",
       "      <td>0.711990</td>\n",
       "      <td>0.700508</td>\n",
       "      <td>0.731266</td>\n",
       "      <td>0.663568</td>\n",
       "      <td>0.720464</td>\n",
       "      <td>...</td>\n",
       "      <td>0.038033</td>\n",
       "      <td>4.0</td>\n",
       "      <td>3.0</td>\n",
       "      <td>7.0</td>\n",
       "      <td>2.0</td>\n",
       "      <td>5.0</td>\n",
       "      <td>6.0</td>\n",
       "      <td>1.0</td>\n",
       "      <td>EOT20</td>\n",
       "      <td>TPXO8-atlas-v1</td>\n",
       "    </tr>\n",
       "    <tr>\n",
       "      <th>2277</th>\n",
       "      <td>546506.056120</td>\n",
       "      <td>-1.696818e+06</td>\n",
       "      <td>0.999891</td>\n",
       "      <td>ndwi correlation</td>\n",
       "      <td>correlation</td>\n",
       "      <td>0.650030</td>\n",
       "      <td>0.657889</td>\n",
       "      <td>0.641137</td>\n",
       "      <td>0.584033</td>\n",
       "      <td>0.666972</td>\n",
       "      <td>...</td>\n",
       "      <td>0.028323</td>\n",
       "      <td>4.0</td>\n",
       "      <td>5.0</td>\n",
       "      <td>3.0</td>\n",
       "      <td>1.0</td>\n",
       "      <td>7.0</td>\n",
       "      <td>6.0</td>\n",
       "      <td>2.0</td>\n",
       "      <td>GOT4.10</td>\n",
       "      <td>HAMTIDE11</td>\n",
       "    </tr>\n",
       "    <tr>\n",
       "      <th>2325</th>\n",
       "      <td>466962.959966</td>\n",
       "      <td>-1.665567e+06</td>\n",
       "      <td>0.912267</td>\n",
       "      <td>ndwi correlation</td>\n",
       "      <td>correlation</td>\n",
       "      <td>0.615895</td>\n",
       "      <td>0.602597</td>\n",
       "      <td>0.640954</td>\n",
       "      <td>0.562818</td>\n",
       "      <td>0.624211</td>\n",
       "      <td>...</td>\n",
       "      <td>0.040948</td>\n",
       "      <td>4.0</td>\n",
       "      <td>3.0</td>\n",
       "      <td>7.0</td>\n",
       "      <td>2.0</td>\n",
       "      <td>6.0</td>\n",
       "      <td>5.0</td>\n",
       "      <td>1.0</td>\n",
       "      <td>EOT20</td>\n",
       "      <td>TPXO8-atlas-v1</td>\n",
       "    </tr>\n",
       "    <tr>\n",
       "      <th>2436</th>\n",
       "      <td>595547.661113</td>\n",
       "      <td>-1.734403e+06</td>\n",
       "      <td>0.612682</td>\n",
       "      <td>ndwi correlation</td>\n",
       "      <td>correlation</td>\n",
       "      <td>0.522985</td>\n",
       "      <td>0.531590</td>\n",
       "      <td>0.531168</td>\n",
       "      <td>0.500187</td>\n",
       "      <td>0.532402</td>\n",
       "      <td>...</td>\n",
       "      <td>0.011946</td>\n",
       "      <td>2.0</td>\n",
       "      <td>5.0</td>\n",
       "      <td>4.0</td>\n",
       "      <td>1.0</td>\n",
       "      <td>6.0</td>\n",
       "      <td>3.0</td>\n",
       "      <td>7.0</td>\n",
       "      <td>TPXO8-atlas-v1</td>\n",
       "      <td>HAMTIDE11</td>\n",
       "    </tr>\n",
       "    <tr>\n",
       "      <th>2522</th>\n",
       "      <td>507001.273368</td>\n",
       "      <td>-1.694192e+06</td>\n",
       "      <td>0.974458</td>\n",
       "      <td>ndwi correlation</td>\n",
       "      <td>correlation</td>\n",
       "      <td>0.690989</td>\n",
       "      <td>0.706998</td>\n",
       "      <td>0.689919</td>\n",
       "      <td>0.634763</td>\n",
       "      <td>0.694851</td>\n",
       "      <td>...</td>\n",
       "      <td>0.024483</td>\n",
       "      <td>4.0</td>\n",
       "      <td>7.0</td>\n",
       "      <td>3.0</td>\n",
       "      <td>1.0</td>\n",
       "      <td>5.0</td>\n",
       "      <td>6.0</td>\n",
       "      <td>2.0</td>\n",
       "      <td>TPXO9-atlas-v5</td>\n",
       "      <td>HAMTIDE11</td>\n",
       "    </tr>\n",
       "    <tr>\n",
       "      <th>2544</th>\n",
       "      <td>611061.871412</td>\n",
       "      <td>-1.739802e+06</td>\n",
       "      <td>0.426505</td>\n",
       "      <td>ndwi correlation</td>\n",
       "      <td>correlation</td>\n",
       "      <td>0.600435</td>\n",
       "      <td>0.595600</td>\n",
       "      <td>0.607633</td>\n",
       "      <td>0.581902</td>\n",
       "      <td>0.605353</td>\n",
       "      <td>...</td>\n",
       "      <td>0.008345</td>\n",
       "      <td>5.0</td>\n",
       "      <td>2.0</td>\n",
       "      <td>7.0</td>\n",
       "      <td>1.0</td>\n",
       "      <td>6.0</td>\n",
       "      <td>3.0</td>\n",
       "      <td>4.0</td>\n",
       "      <td>EOT20</td>\n",
       "      <td>HAMTIDE11</td>\n",
       "    </tr>\n",
       "    <tr>\n",
       "      <th>2793</th>\n",
       "      <td>450017.669213</td>\n",
       "      <td>-1.641470e+06</td>\n",
       "      <td>0.962339</td>\n",
       "      <td>ndwi correlation</td>\n",
       "      <td>correlation</td>\n",
       "      <td>0.706309</td>\n",
       "      <td>0.716762</td>\n",
       "      <td>0.713217</td>\n",
       "      <td>0.645102</td>\n",
       "      <td>0.720374</td>\n",
       "      <td>...</td>\n",
       "      <td>0.038949</td>\n",
       "      <td>3.0</td>\n",
       "      <td>5.0</td>\n",
       "      <td>4.0</td>\n",
       "      <td>2.0</td>\n",
       "      <td>6.0</td>\n",
       "      <td>7.0</td>\n",
       "      <td>1.0</td>\n",
       "      <td>FES2012</td>\n",
       "      <td>TPXO8-atlas-v1</td>\n",
       "    </tr>\n",
       "    <tr>\n",
       "      <th>2821</th>\n",
       "      <td>502509.214403</td>\n",
       "      <td>-1.667391e+06</td>\n",
       "      <td>0.999359</td>\n",
       "      <td>ndwi correlation</td>\n",
       "      <td>correlation</td>\n",
       "      <td>0.650035</td>\n",
       "      <td>0.648533</td>\n",
       "      <td>0.635378</td>\n",
       "      <td>0.613596</td>\n",
       "      <td>0.654125</td>\n",
       "      <td>...</td>\n",
       "      <td>0.020659</td>\n",
       "      <td>5.0</td>\n",
       "      <td>4.0</td>\n",
       "      <td>2.0</td>\n",
       "      <td>1.0</td>\n",
       "      <td>6.0</td>\n",
       "      <td>7.0</td>\n",
       "      <td>3.0</td>\n",
       "      <td>FES2012</td>\n",
       "      <td>HAMTIDE11</td>\n",
       "    </tr>\n",
       "    <tr>\n",
       "      <th>2904</th>\n",
       "      <td>488930.405584</td>\n",
       "      <td>-1.680243e+06</td>\n",
       "      <td>0.902405</td>\n",
       "      <td>ndwi correlation</td>\n",
       "      <td>correlation</td>\n",
       "      <td>0.704651</td>\n",
       "      <td>0.694817</td>\n",
       "      <td>0.719245</td>\n",
       "      <td>0.647581</td>\n",
       "      <td>0.718289</td>\n",
       "      <td>...</td>\n",
       "      <td>0.041255</td>\n",
       "      <td>4.0</td>\n",
       "      <td>3.0</td>\n",
       "      <td>6.0</td>\n",
       "      <td>2.0</td>\n",
       "      <td>5.0</td>\n",
       "      <td>7.0</td>\n",
       "      <td>1.0</td>\n",
       "      <td>FES2012</td>\n",
       "      <td>TPXO8-atlas-v1</td>\n",
       "    </tr>\n",
       "  </tbody>\n",
       "</table>\n",
       "<p>41 rows × 26 columns</p>\n",
       "</div>"
      ],
      "text/plain": [
       "tide_model              x             y  valid_perc            source  \\\n",
       "point_id                                                                \n",
       "21          516442.644276 -1.671556e+06    0.998893  ndwi correlation   \n",
       "22          498432.989637 -1.660526e+06    0.970212  ndwi correlation   \n",
       "153         537163.525935 -1.683548e+06    0.980937  ndwi correlation   \n",
       "199         439899.820285 -1.635378e+06    0.970932  ndwi correlation   \n",
       "254         484566.938854 -1.675849e+06    0.510963  ndwi correlation   \n",
       "298         521114.736025 -1.701352e+06    0.871229  ndwi correlation   \n",
       "428         530032.062164 -1.704616e+06    0.815550  ndwi correlation   \n",
       "469         582028.441796 -1.729411e+06    0.918539  ndwi correlation   \n",
       "493         549966.678292 -1.707428e+06    0.567867  ndwi correlation   \n",
       "669         462584.561642 -1.660755e+06    0.973105  ndwi correlation   \n",
       "760         527280.475563 -1.661549e+06    0.994090  ndwi correlation   \n",
       "784         549870.490427 -1.689650e+06    0.995304  ndwi correlation   \n",
       "934         518912.381802 -1.678176e+06    0.999463  ndwi correlation   \n",
       "965         525910.232220 -1.668060e+06    0.998413  ndwi correlation   \n",
       "1048        510117.058987 -1.679605e+06    0.958534  ndwi correlation   \n",
       "1072        536846.566491 -1.696179e+06    0.996314  ndwi correlation   \n",
       "1138        542068.596695 -1.690306e+06    0.989197  ndwi correlation   \n",
       "1177        473231.542251 -1.667908e+06    0.864370  ndwi correlation   \n",
       "1180        548519.324587 -1.673629e+06    0.983275  ndwi correlation   \n",
       "1328        536962.481658 -1.673411e+06    0.997838  ndwi correlation   \n",
       "1538        516820.958608 -1.665829e+06    0.996994  ndwi correlation   \n",
       "1589        503901.598861 -1.688716e+06    0.978454  ndwi correlation   \n",
       "1636        562747.660614 -1.713583e+06    0.599670  ndwi correlation   \n",
       "1668        511256.082748 -1.701359e+06    0.897413  ndwi correlation   \n",
       "1669        458369.660579 -1.647119e+06    0.509984  ndwi correlation   \n",
       "1821        433580.672926 -1.630755e+06    0.988944  ndwi correlation   \n",
       "1840        541963.798086 -1.701514e+06    0.735197  ndwi correlation   \n",
       "1934        496314.968143 -1.684514e+06    0.723911  ndwi correlation   \n",
       "1963        542242.325097 -1.669445e+06    0.996662  ndwi correlation   \n",
       "2116        478894.482087 -1.671068e+06    0.788110  ndwi correlation   \n",
       "2154        569444.593473 -1.720877e+06    0.947631  ndwi correlation   \n",
       "2177        547769.029396 -1.682915e+06    0.994111  ndwi correlation   \n",
       "2178        487818.379824 -1.663989e+06    0.981874  ndwi correlation   \n",
       "2277        546506.056120 -1.696818e+06    0.999891  ndwi correlation   \n",
       "2325        466962.959966 -1.665567e+06    0.912267  ndwi correlation   \n",
       "2436        595547.661113 -1.734403e+06    0.612682  ndwi correlation   \n",
       "2522        507001.273368 -1.694192e+06    0.974458  ndwi correlation   \n",
       "2544        611061.871412 -1.739802e+06    0.426505  ndwi correlation   \n",
       "2793        450017.669213 -1.641470e+06    0.962339  ndwi correlation   \n",
       "2821        502509.214403 -1.667391e+06    0.999359  ndwi correlation   \n",
       "2904        488930.405584 -1.680243e+06    0.902405  ndwi correlation   \n",
       "\n",
       "tide_model    statistic   FES2014  TPXO9-atlas-v5     EOT20  HAMTIDE11  \\\n",
       "point_id                                                                 \n",
       "21          correlation  0.670726        0.647490  0.679817   0.618893   \n",
       "22          correlation  0.669901        0.672776  0.678625   0.638662   \n",
       "153         correlation  0.616050        0.618710  0.607304   0.571092   \n",
       "199         correlation  0.678386        0.679370  0.695030   0.603762   \n",
       "254         correlation  0.697543        0.684515  0.708324   0.650684   \n",
       "298         correlation  0.691732        0.708249  0.705356   0.642076   \n",
       "428         correlation  0.582267        0.603928  0.588071   0.522594   \n",
       "469         correlation  0.649994        0.654757  0.644533   0.600917   \n",
       "493         correlation  0.484439        0.485803  0.493438   0.439608   \n",
       "669         correlation  0.653992        0.638444  0.681054   0.591711   \n",
       "760         correlation  0.547969        0.578509  0.531668   0.493063   \n",
       "784         correlation  0.688303        0.697872  0.688345   0.622148   \n",
       "934         correlation  0.664444        0.672910  0.670021   0.614053   \n",
       "965         correlation  0.455078        0.491517  0.439021   0.397906   \n",
       "1048        correlation  0.662938        0.664872  0.670687   0.615920   \n",
       "1072        correlation  0.628036        0.640271  0.633094   0.564959   \n",
       "1138        correlation  0.676129        0.669168  0.669075   0.630661   \n",
       "1177        correlation  0.670851        0.656531  0.684217   0.627793   \n",
       "1180        correlation  0.652708        0.653521  0.669633   0.594530   \n",
       "1328        correlation  0.598246        0.606225  0.588869   0.558117   \n",
       "1538        correlation  0.670241        0.649878  0.677415   0.624643   \n",
       "1589        correlation  0.665284        0.679645  0.663511   0.606503   \n",
       "1636        correlation  0.503659        0.504025  0.513038   0.453272   \n",
       "1668        correlation  0.659027        0.674878  0.670196   0.606170   \n",
       "1669        correlation  0.621940        0.617538  0.636212   0.570789   \n",
       "1821        correlation  0.668914        0.666855  0.692138   0.581263   \n",
       "1840        correlation  0.503590        0.508168  0.504916   0.472274   \n",
       "1934        correlation  0.452625        0.450424  0.436461   0.415556   \n",
       "1963        correlation  0.621732        0.623482  0.630417   0.583566   \n",
       "2116        correlation  0.696166        0.685333  0.709387   0.651345   \n",
       "2154        correlation  0.617976        0.619550  0.615377   0.563065   \n",
       "2177        correlation  0.694458        0.697374  0.706916   0.635367   \n",
       "2178        correlation  0.711990        0.700508  0.731266   0.663568   \n",
       "2277        correlation  0.650030        0.657889  0.641137   0.584033   \n",
       "2325        correlation  0.615895        0.602597  0.640954   0.562818   \n",
       "2436        correlation  0.522985        0.531590  0.531168   0.500187   \n",
       "2522        correlation  0.690989        0.706998  0.689919   0.634763   \n",
       "2544        correlation  0.600435        0.595600  0.607633   0.581902   \n",
       "2793        correlation  0.706309        0.716762  0.713217   0.645102   \n",
       "2821        correlation  0.650035        0.648533  0.635378   0.613596   \n",
       "2904        correlation  0.704651        0.694817  0.719245   0.647581   \n",
       "\n",
       "tide_model   GOT4.10  ...       std  rank_FES2014  rank_TPXO9-atlas-v5  \\\n",
       "point_id              ...                                                \n",
       "21          0.687086  ...  0.026680           4.0                  3.0   \n",
       "22          0.675613  ...  0.017483           3.0                  4.0   \n",
       "153         0.623861  ...  0.020798           4.0                  5.0   \n",
       "199         0.691279  ...  0.047475           3.0                  4.0   \n",
       "254         0.709453  ...  0.039936           4.0                  3.0   \n",
       "298         0.687179  ...  0.022211           5.0                  7.0   \n",
       "428         0.578191  ...  0.025359           5.0                  7.0   \n",
       "469         0.662406  ...  0.020721           3.0                  5.0   \n",
       "493         0.486596  ...  0.018274           3.0                  4.0   \n",
       "669         0.662139  ...  0.044755           4.0                  3.0   \n",
       "760         0.588062  ...  0.034359           3.0                  5.0   \n",
       "784         0.702854  ...  0.028125           3.0                  5.0   \n",
       "934         0.677351  ...  0.023734           3.0                  5.0   \n",
       "965         0.503727  ...  0.038504           3.0                  5.0   \n",
       "1048        0.669467  ...  0.021328           3.0                  4.0   \n",
       "1072        0.640577  ...  0.028384           3.0                  6.0   \n",
       "1138        0.683172  ...  0.023523           5.0                  4.0   \n",
       "1177        0.679481  ...  0.035110           4.0                  3.0   \n",
       "1180        0.657924  ...  0.024267           3.0                  5.0   \n",
       "1328        0.609794  ...  0.019918           4.0                  5.0   \n",
       "1538        0.685234  ...  0.023854           4.0                  3.0   \n",
       "1589        0.668545  ...  0.025507           4.0                  6.0   \n",
       "1636        0.511481  ...  0.020674           3.0                  4.0   \n",
       "1668        0.671206  ...  0.024330           3.0                  7.0   \n",
       "1669        0.632221  ...  0.036898           4.0                  3.0   \n",
       "1821        0.681591  ...  0.061240           4.0                  3.0   \n",
       "1840        0.507423  ...  0.014161           4.0                  7.0   \n",
       "1934        0.456296  ...  0.020050           4.0                  3.0   \n",
       "1963        0.627094  ...  0.016892           4.0                  5.0   \n",
       "2116        0.707621  ...  0.038552           4.0                  3.0   \n",
       "2154        0.628592  ...  0.022002           3.0                  5.0   \n",
       "2177        0.702836  ...  0.024549           3.0                  4.0   \n",
       "2178        0.720464  ...  0.038033           4.0                  3.0   \n",
       "2277        0.666972  ...  0.028323           4.0                  5.0   \n",
       "2325        0.624211  ...  0.040948           4.0                  3.0   \n",
       "2436        0.532402  ...  0.011946           2.0                  5.0   \n",
       "2522        0.694851  ...  0.024483           4.0                  7.0   \n",
       "2544        0.605353  ...  0.008345           5.0                  2.0   \n",
       "2793        0.720374  ...  0.038949           3.0                  5.0   \n",
       "2821        0.654125  ...  0.020659           5.0                  4.0   \n",
       "2904        0.718289  ...  0.041255           4.0                  3.0   \n",
       "\n",
       "tide_model  rank_EOT20  rank_HAMTIDE11  rank_GOT4.10  rank_FES2012  \\\n",
       "point_id                                                             \n",
       "21                 5.0             1.0           6.0           7.0   \n",
       "22                 6.0             1.0           5.0           7.0   \n",
       "153                3.0             1.0           6.0           7.0   \n",
       "199                6.0             2.0           5.0           7.0   \n",
       "254                5.0             2.0           6.0           7.0   \n",
       "298                6.0             1.0           3.0           4.0   \n",
       "428                6.0             1.0           3.0           4.0   \n",
       "469                2.0             1.0           7.0           4.0   \n",
       "493                7.0             1.0           5.0           6.0   \n",
       "669                7.0             2.0           6.0           5.0   \n",
       "760                2.0             1.0           7.0           6.0   \n",
       "784                4.0             1.0           7.0           6.0   \n",
       "934                4.0             1.0           6.0           7.0   \n",
       "965                2.0             1.0           7.0           6.0   \n",
       "1048               6.0             1.0           5.0           7.0   \n",
       "1072               4.0             1.0           7.0           5.0   \n",
       "1138               3.0             2.0           6.0           7.0   \n",
       "1177               7.0             2.0           5.0           6.0   \n",
       "1180               7.0             1.0           6.0           4.0   \n",
       "1328               3.0             1.0           6.0           7.0   \n",
       "1538               5.0             1.0           6.0           7.0   \n",
       "1589               3.0             1.0           5.0           7.0   \n",
       "1636               7.0             1.0           6.0           5.0   \n",
       "1668               5.0             1.0           6.0           4.0   \n",
       "1669               6.0             2.0           5.0           7.0   \n",
       "1821               7.0             2.0           5.0           6.0   \n",
       "1840               5.0             1.0           6.0           3.0   \n",
       "1934               2.0             1.0           5.0           7.0   \n",
       "1963               7.0             1.0           6.0           3.0   \n",
       "2116               6.0             2.0           5.0           7.0   \n",
       "2154               2.0             1.0           7.0           6.0   \n",
       "2177               7.0             1.0           6.0           5.0   \n",
       "2178               7.0             2.0           5.0           6.0   \n",
       "2277               3.0             1.0           7.0           6.0   \n",
       "2325               7.0             2.0           6.0           5.0   \n",
       "2436               4.0             1.0           6.0           3.0   \n",
       "2522               3.0             1.0           5.0           6.0   \n",
       "2544               7.0             1.0           6.0           3.0   \n",
       "2793               4.0             2.0           6.0           7.0   \n",
       "2821               2.0             1.0           6.0           7.0   \n",
       "2904               6.0             2.0           5.0           7.0   \n",
       "\n",
       "tide_model  rank_TPXO8-atlas-v1       top_model     worst_model  \n",
       "point_id                                                         \n",
       "21                          2.0         FES2012       HAMTIDE11  \n",
       "22                          2.0         FES2012       HAMTIDE11  \n",
       "153                         2.0         FES2012       HAMTIDE11  \n",
       "199                         1.0         FES2012  TPXO8-atlas-v1  \n",
       "254                         1.0         FES2012  TPXO8-atlas-v1  \n",
       "298                         2.0  TPXO9-atlas-v5       HAMTIDE11  \n",
       "428                         2.0  TPXO9-atlas-v5       HAMTIDE11  \n",
       "469                         6.0         GOT4.10       HAMTIDE11  \n",
       "493                         2.0           EOT20       HAMTIDE11  \n",
       "669                         1.0           EOT20  TPXO8-atlas-v1  \n",
       "760                         4.0         GOT4.10       HAMTIDE11  \n",
       "784                         2.0         GOT4.10       HAMTIDE11  \n",
       "934                         2.0         FES2012       HAMTIDE11  \n",
       "965                         4.0         GOT4.10       HAMTIDE11  \n",
       "1048                        2.0         FES2012       HAMTIDE11  \n",
       "1072                        2.0         GOT4.10       HAMTIDE11  \n",
       "1138                        1.0         FES2012  TPXO8-atlas-v1  \n",
       "1177                        1.0           EOT20  TPXO8-atlas-v1  \n",
       "1180                        2.0           EOT20       HAMTIDE11  \n",
       "1328                        2.0         FES2012       HAMTIDE11  \n",
       "1538                        2.0         FES2012       HAMTIDE11  \n",
       "1589                        2.0         FES2012       HAMTIDE11  \n",
       "1636                        2.0           EOT20       HAMTIDE11  \n",
       "1668                        2.0  TPXO9-atlas-v5       HAMTIDE11  \n",
       "1669                        1.0         FES2012  TPXO8-atlas-v1  \n",
       "1821                        1.0           EOT20  TPXO8-atlas-v1  \n",
       "1840                        2.0  TPXO9-atlas-v5       HAMTIDE11  \n",
       "1934                        6.0         FES2012       HAMTIDE11  \n",
       "1963                        2.0           EOT20       HAMTIDE11  \n",
       "2116                        1.0         FES2012  TPXO8-atlas-v1  \n",
       "2154                        4.0         GOT4.10       HAMTIDE11  \n",
       "2177                        2.0           EOT20       HAMTIDE11  \n",
       "2178                        1.0           EOT20  TPXO8-atlas-v1  \n",
       "2277                        2.0         GOT4.10       HAMTIDE11  \n",
       "2325                        1.0           EOT20  TPXO8-atlas-v1  \n",
       "2436                        7.0  TPXO8-atlas-v1       HAMTIDE11  \n",
       "2522                        2.0  TPXO9-atlas-v5       HAMTIDE11  \n",
       "2544                        4.0           EOT20       HAMTIDE11  \n",
       "2793                        1.0         FES2012  TPXO8-atlas-v1  \n",
       "2821                        3.0         FES2012       HAMTIDE11  \n",
       "2904                        1.0         FES2012  TPXO8-atlas-v1  \n",
       "\n",
       "[41 rows x 26 columns]"
      ]
     },
     "execution_count": 6,
     "metadata": {},
     "output_type": "execute_result"
    }
   ],
   "source": [
    "# Combine outputs into single dataframe\n",
    "combined_df = (\n",
    "    pd.concat(out_list)\n",
    "    .set_index([\"x\", \"y\", \"valid_perc\"], append=True)\n",
    "    .unstack(\"tide_model\")[\"tide_m\"]\n",
    "    .assign(source=\"ndwi correlation\", statistic=\"correlation\")\n",
    "    .reset_index([\"x\", \"y\", \"valid_perc\"])\n",
    "    .reindex([\"x\", \"y\", \"valid_perc\", \"source\", \"statistic\"] + models, axis=1)\n",
    ")\n",
    "\n",
    "# Add additional columns\n",
    "combined_df[\"min\"] = combined_df.loc[:, models].min(axis=1)\n",
    "combined_df[\"max\"] = combined_df.loc[:, models].max(axis=1)\n",
    "combined_df[\"diff\"] = combined_df[\"max\"] - combined_df[\"min\"]\n",
    "combined_df[\"ave\"] = combined_df.loc[:, models].mean(axis=1)\n",
    "combined_df[\"std\"] = combined_df.loc[:, models].std(axis=1)\n",
    "\n",
    "# Calculate ranks and best/worst models\n",
    "combined_df = pd.concat(\n",
    "    [combined_df, combined_df.loc[:, models].rank(axis=1).add_prefix(\"rank_\")], axis=1\n",
    ")\n",
    "combined_df[\"top_model\"] = combined_df.filter(regex='^rank').idxmax(axis=1).str[5:]\n",
    "combined_df[\"worst_model\"] = combined_df.filter(regex='^rank').idxmin(axis=1).str[5:]\n",
    "combined_df"
   ]
  },
  {
   "cell_type": "markdown",
   "id": "9081e13d-ff74-4f8f-863e-6a43be0130ab",
   "metadata": {},
   "source": [
    "### Export"
   ]
  },
  {
   "cell_type": "code",
   "execution_count": 7,
   "id": "1061ef63-6f79-465b-92dc-4139729849bc",
   "metadata": {
    "tags": []
   },
   "outputs": [],
   "source": [
    "gpd.GeoDataFrame(\n",
    "    data=combined_df,\n",
    "    geometry=gpd.points_from_xy(combined_df.x, combined_df.y, crs=\"EPSG:3577\"),\n",
    ").to_crs(\"EPSG:4326\").to_file(f\"data/raw/tide_correlation_points_{name}.geojson\")"
   ]
  },
  {
   "cell_type": "markdown",
   "id": "887e76fe-9ae6-44b4-9aa9-ea07215daa61",
   "metadata": {},
   "source": [
    "### Combine"
   ]
  },
  {
   "cell_type": "code",
   "execution_count": null,
   "id": "c3c25608-8416-4b2a-b9a9-dd2db137bd28",
   "metadata": {},
   "outputs": [],
   "source": [
    "tide_correlation_points = pd.concat(\n",
    "    [\n",
    "        gpd.read_file(\"data/raw/tide_correlation_points_robbi_part1.geojson\"),\n",
    "        gpd.read_file(\"data/raw/tide_correlation_points_robbi_part2.geojson\"),\n",
    "        gpd.read_file(\"data/raw/tide_correlation_points_ness_part1.geojson\"),\n",
    "        gpd.read_file(\"data/raw/tide_correlation_points_ness_part2.geojson\"),\n",
    "        gpd.read_file(\"data/raw/tide_correlation_points_claire_part1.geojson\"),\n",
    "        gpd.read_file(\"data/raw/tide_correlation_points_claire_part2.geojson\")\n",
    "    ]\n",
    ").dropna(subset=\"FES2014\")\n",
    "\n",
    "# Convert x/y to lat/lon\n",
    "tide_correlation_points[\"x\"] = tide_correlation_points.geometry.x\n",
    "tide_correlation_points[\"y\"] = tide_correlation_points.geometry.y\n",
    "\n",
    "# Export\n",
    "tide_correlation_points.to_file(f\"data/raw/tide_correlations_2017-2019.geojson\")"
   ]
  },
  {
   "cell_type": "markdown",
   "id": "5593add3-dd8f-4249-90ec-fe9b8c00221f",
   "metadata": {
    "tags": []
   },
   "source": [
    "#### Combine with altimetry"
   ]
  },
  {
   "cell_type": "code",
   "execution_count": null,
   "id": "75ae2f06-efab-4bc5-8271-3d945534ff59",
   "metadata": {
    "tags": []
   },
   "outputs": [],
   "source": [
    "# gpd.read_file(\"data/raw/xtrack_rms_2017-2019.geojson\")"
   ]
  },
  {
   "cell_type": "code",
   "execution_count": null,
   "id": "172d6cc4-7be8-42b9-b82f-a0eb41599e73",
   "metadata": {},
   "outputs": [],
   "source": [
    "corr_spear = gpd.read_file(\"data/raw/tide_correlation_points_spearman.geojson\").set_index(\"point_id\")"
   ]
  },
  {
   "cell_type": "code",
   "execution_count": null,
   "id": "aa15cb25-76b1-4d63-8183-7db2c96fec6b",
   "metadata": {
    "tags": []
   },
   "outputs": [],
   "source": [
    "corr_pears = gpd.read_file(\"data/raw/tide_correlations_2017-2019.geojson\").set_index(\"point_id\")"
   ]
  },
  {
   "cell_type": "code",
   "execution_count": null,
   "id": "70050ba5-b3bf-47a6-abf2-7f0d873e4d91",
   "metadata": {
    "tags": []
   },
   "outputs": [],
   "source": [
    "corr_pears2 = corr_pears.loc[corr_spear.index]"
   ]
  },
  {
   "cell_type": "code",
   "execution_count": null,
   "id": "20bfb7be-1bed-4fc3-b580-a30f041beca3",
   "metadata": {
    "tags": []
   },
   "outputs": [],
   "source": [
    "corr_pears2.columns"
   ]
  },
  {
   "cell_type": "code",
   "execution_count": null,
   "id": "4731d055-b346-46d0-8af5-d1fff4f358f3",
   "metadata": {
    "tags": []
   },
   "outputs": [],
   "source": [
    "plt.scatter(corr_pears2['GOT4.10'], corr_spear['GOT4.10'])"
   ]
  },
  {
   "cell_type": "code",
   "execution_count": null,
   "id": "21007604-2919-4608-b3e4-6229357f0b8d",
   "metadata": {
    "tags": []
   },
   "outputs": [],
   "source": [
    "import seaborn as sns\n",
    "import matplotlib.pyplot as pl\n",
    "\n",
    "# Y = np.random.multivariate_normal((0, 0), [[0.8, 0.05], [0.05, 0.7]], 100)\n",
    "ax = sns.kdeplot(x=corr_pears2['rank_HAMTIDE11'], y=corr_spear['rank_HAMTIDE11'], fill= True, cmap = \"PuBu\")"
   ]
  },
  {
   "cell_type": "code",
   "execution_count": null,
   "id": "2462a7cf-398c-42af-8022-23ee6ea69f3a",
   "metadata": {
    "tags": []
   },
   "outputs": [],
   "source": [
    "corr_spear[[f\"rank_{m}\" for m in models]]"
   ]
  },
  {
   "cell_type": "code",
   "execution_count": null,
   "id": "5d9f8222-05db-4915-8ccc-e6e80416746c",
   "metadata": {
    "tags": []
   },
   "outputs": [],
   "source": [
    "corr_spear[\"corr_matchup\"] = corr_pears2[[f\"rank_{m}\" for m in models]].corrwith(corr_spear[[f\"rank_{m}\" for m in models]], axis=1)"
   ]
  },
  {
   "cell_type": "code",
   "execution_count": null,
   "id": "19fa3ce3-0070-4b46-a145-2cbbe7213ddd",
   "metadata": {
    "tags": []
   },
   "outputs": [],
   "source": [
    "corr_spear.to_file(f\"data/raw/tide_correlation_points_spearman2.geojson\")"
   ]
  },
  {
   "cell_type": "code",
   "execution_count": null,
   "id": "6c4343ba-7fa9-4d0d-8413-f5b706e5bec5",
   "metadata": {},
   "outputs": [],
   "source": []
  }
 ],
 "metadata": {
  "kernelspec": {
   "display_name": "Python 3 (ipykernel)",
   "language": "python",
   "name": "python3"
  },
  "language_info": {
   "codemirror_mode": {
    "name": "ipython",
    "version": 3
   },
   "file_extension": ".py",
   "mimetype": "text/x-python",
   "name": "python",
   "nbconvert_exporter": "python",
   "pygments_lexer": "ipython3",
   "version": "3.10.13"
  },
  "widgets": {
   "application/vnd.jupyter.widget-state+json": {
    "state": {
     "23d1a68ff2cd483ab919982efaec4ec9": {
      "model_module": "@jupyter-widgets/controls",
      "model_module_version": "2.0.0",
      "model_name": "HTMLStyleModel",
      "state": {
       "description_width": "",
       "font_size": null,
       "text_color": null
      }
     },
     "6b8c313ea1c444a080cebc2f790305d6": {
      "model_module": "@jupyter-widgets/controls",
      "model_module_version": "2.0.0",
      "model_name": "ProgressStyleModel",
      "state": {
       "description_width": ""
      }
     },
     "72474aa74f6f420681711334466b2aa4": {
      "model_module": "@jupyter-widgets/base",
      "model_module_version": "2.0.0",
      "model_name": "LayoutModel",
      "state": {}
     },
     "738ca1eef134498195dd851e173f8e69": {
      "model_module": "@jupyter-widgets/controls",
      "model_module_version": "2.0.0",
      "model_name": "HTMLStyleModel",
      "state": {
       "description_width": "",
       "font_size": null,
       "text_color": null
      }
     },
     "918968d81fd44658b555a68ed9514d55": {
      "model_module": "@jupyter-widgets/base",
      "model_module_version": "2.0.0",
      "model_name": "LayoutModel",
      "state": {}
     },
     "b3e6cf56b18248dcb82b071d39d052b3": {
      "model_module": "@jupyter-widgets/controls",
      "model_module_version": "2.0.0",
      "model_name": "HTMLModel",
      "state": {
       "layout": "IPY_MODEL_f787a552032647d39c05c3f2be72ee54",
       "style": "IPY_MODEL_738ca1eef134498195dd851e173f8e69",
       "value": " 41/41 [53:28&lt;00:00, 84.72s/it]"
      }
     },
     "b3ff5a55b71842789f4f834fe7f27c9c": {
      "model_module": "@jupyter-widgets/base",
      "model_module_version": "2.0.0",
      "model_name": "LayoutModel",
      "state": {}
     },
     "cfcfae60ffca41e08cdac7a2b0c211ab": {
      "model_module": "@jupyter-widgets/controls",
      "model_module_version": "2.0.0",
      "model_name": "HBoxModel",
      "state": {
       "children": [
        "IPY_MODEL_e3b261413c694a7699e86159f6f60232",
        "IPY_MODEL_dbf04436d73c4882a84517fc0ee184ef",
        "IPY_MODEL_b3e6cf56b18248dcb82b071d39d052b3"
       ],
       "layout": "IPY_MODEL_b3ff5a55b71842789f4f834fe7f27c9c"
      }
     },
     "dbf04436d73c4882a84517fc0ee184ef": {
      "model_module": "@jupyter-widgets/controls",
      "model_module_version": "2.0.0",
      "model_name": "FloatProgressModel",
      "state": {
       "bar_style": "success",
       "layout": "IPY_MODEL_918968d81fd44658b555a68ed9514d55",
       "max": 41,
       "style": "IPY_MODEL_6b8c313ea1c444a080cebc2f790305d6",
       "value": 41
      }
     },
     "e3b261413c694a7699e86159f6f60232": {
      "model_module": "@jupyter-widgets/controls",
      "model_module_version": "2.0.0",
      "model_name": "HTMLModel",
      "state": {
       "layout": "IPY_MODEL_72474aa74f6f420681711334466b2aa4",
       "style": "IPY_MODEL_23d1a68ff2cd483ab919982efaec4ec9",
       "value": "100%"
      }
     },
     "f787a552032647d39c05c3f2be72ee54": {
      "model_module": "@jupyter-widgets/base",
      "model_module_version": "2.0.0",
      "model_name": "LayoutModel",
      "state": {}
     }
    },
    "version_major": 2,
    "version_minor": 0
   }
  }
 },
 "nbformat": 4,
 "nbformat_minor": 5
}

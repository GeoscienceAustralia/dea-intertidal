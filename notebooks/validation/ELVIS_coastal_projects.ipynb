{
 "cells": [
  {
   "cell_type": "markdown",
   "id": "5018ab93-d029-4f67-a819-8010bf5b59d1",
   "metadata": {},
   "source": [
    "# ELVIS data preprocessing"
   ]
  },
  {
   "cell_type": "code",
   "execution_count": 1,
   "id": "4b8b4906-bc1c-42e1-aff9-47f18ce01cae",
   "metadata": {
    "tags": []
   },
   "outputs": [
    {
     "name": "stdout",
     "output_type": "stream",
     "text": [
      "/home/jovyan/Robbi/dea-intertidal\n"
     ]
    }
   ],
   "source": [
    "cd ../.."
   ]
  },
  {
   "cell_type": "code",
   "execution_count": 2,
   "id": "0a2344d2-117f-4e09-bc29-cc11fb8e2ee7",
   "metadata": {
    "tags": []
   },
   "outputs": [],
   "source": [
    "import fiona\n",
    "import geopandas as gpd\n",
    "import pandas as pd"
   ]
  },
  {
   "cell_type": "markdown",
   "id": "5741204f-d647-480c-b874-81d9447f4526",
   "metadata": {},
   "source": [
    "## Identify coastal LiDAR from ELVIS project extents index"
   ]
  },
  {
   "cell_type": "code",
   "execution_count": 3,
   "id": "8164547a-7704-4574-8576-c618e884ee76",
   "metadata": {
    "tags": []
   },
   "outputs": [
    {
     "data": {
      "text/plain": [
       "['public.NSW_100k_Index_57',\n",
       " 'public.TAS_Project_Index_55',\n",
       " 'public.DAWE_Project_Index_56',\n",
       " 'public.VIC_Elevation_Metadata_Index',\n",
       " 'public.NSW_100k_Index_56',\n",
       " 'public.QLD_Elevation_Metadata_Index',\n",
       " 'public.GriffithUniFugro_Project_Index_55',\n",
       " 'public.GA_Project_Index_54',\n",
       " 'public.TAS_DEM_Index_2m',\n",
       " 'public.SA_Elevation_Metadata_Index',\n",
       " 'public.GriffithUniFugro_Project_Index_54',\n",
       " 'public.GA_Project_Index_52',\n",
       " 'public.DAWE_Project_Index_55',\n",
       " 'public.GA_Project_Index_53',\n",
       " 'public.NSW_100k_Index_55',\n",
       " 'public.NSW_DPIE_Elevation_Metadata_Index',\n",
       " 'public.GriffithUniFugro_Project_Index_56']"
      ]
     },
     "execution_count": 3,
     "metadata": {},
     "output_type": "execute_result"
    }
   ],
   "source": [
    "path = '/gdata1/projects/coastal/ELVIS/ELVIS_Project_Extents.gpkg'\n",
    "layers = fiona.listlayers(path)\n",
    "layers"
   ]
  },
  {
   "cell_type": "code",
   "execution_count": 4,
   "id": "a1eaf242-e2c0-4954-bd0e-7f025bd7bb46",
   "metadata": {
    "tags": []
   },
   "outputs": [],
   "source": [
    "out = []\n",
    "\n",
    "for i in layers:\n",
    "\n",
    "    project = (\n",
    "        gpd.read_file(path, layer=i)\n",
    "        .assign(data_source=i[7:])\n",
    "        .to_crs(\"EPSG:4326\")\n",
    "    )\n",
    "\n",
    "    # Standardise project name\n",
    "    if \"project_raw\" in project.columns:\n",
    "        pass\n",
    "    elif \"project\" in project.columns:\n",
    "        project = project.rename({\"project\": \"project_raw\"}, axis=1)\n",
    "    elif \"object_name\" in project.columns:\n",
    "        project = project.rename({\"object_name\": \"project_raw\"}, axis=1)\n",
    "    else:\n",
    "        pass\n",
    "\n",
    "    # Drop LAS data if data type exists\n",
    "    if \"data_type\" in project.columns:\n",
    "        project = project.loc[~project.data_type.isin([\"las_reflectance\", \"las_height\"])]\n",
    "\n",
    "    out.append(project[[\"project_raw\", \"metadata_url\", \"data_source\", \"geometry\"]])\n"
   ]
  },
  {
   "cell_type": "code",
   "execution_count": 5,
   "id": "d589a0b6-0083-43eb-967c-5cb9dbb34583",
   "metadata": {
    "tags": []
   },
   "outputs": [],
   "source": [
    "# Combine all layers\n",
    "projects_gdf = pd.concat(out, axis=0)\n",
    "\n",
    "# Add year data\n",
    "projects_gdf[\"year\"] = projects_gdf.project_raw.str.extract(r\"(\\d{4})\").astype(float).values\n",
    "invalid = (projects_gdf.year < 2000) | (projects_gdf.year > 2030)\n",
    "projects_gdf.loc[invalid, \"year\"] = (\n",
    "    projects_gdf.loc[invalid].project_raw.str.extract(r\"(\\d{4}$)\").astype(float).values\n",
    ")\n",
    "projects_gdf.loc[projects_gdf.project_raw == 'VICMAP_ELEV_DEM_10M', \"year\"] = 2021"
   ]
  },
  {
   "cell_type": "code",
   "execution_count": 6,
   "id": "3dc99691-0448-4aa2-bdcd-504363be07a6",
   "metadata": {
    "tags": []
   },
   "outputs": [
    {
     "data": {
      "text/html": [
       "<div>\n",
       "<style scoped>\n",
       "    .dataframe tbody tr th:only-of-type {\n",
       "        vertical-align: middle;\n",
       "    }\n",
       "\n",
       "    .dataframe tbody tr th {\n",
       "        vertical-align: top;\n",
       "    }\n",
       "\n",
       "    .dataframe thead th {\n",
       "        text-align: right;\n",
       "    }\n",
       "</style>\n",
       "<table border=\"1\" class=\"dataframe\">\n",
       "  <thead>\n",
       "    <tr style=\"text-align: right;\">\n",
       "      <th></th>\n",
       "      <th>project_raw</th>\n",
       "      <th>metadata_url</th>\n",
       "      <th>data_source</th>\n",
       "      <th>geometry</th>\n",
       "      <th>year</th>\n",
       "    </tr>\n",
       "  </thead>\n",
       "  <tbody>\n",
       "    <tr>\n",
       "      <th>5</th>\n",
       "      <td>CampbellTown2019</td>\n",
       "      <td>NaN</td>\n",
       "      <td>TAS_Project_Index_55</td>\n",
       "      <td>POLYGON ((147.48252 -41.93795, 147.48245 -41.9...</td>\n",
       "      <td>2019.0</td>\n",
       "    </tr>\n",
       "    <tr>\n",
       "      <th>26</th>\n",
       "      <td>Westerway2019</td>\n",
       "      <td>NaN</td>\n",
       "      <td>TAS_Project_Index_55</td>\n",
       "      <td>POLYGON ((146.80475 -42.66830, 146.80472 -42.6...</td>\n",
       "      <td>2019.0</td>\n",
       "    </tr>\n",
       "    <tr>\n",
       "      <th>27</th>\n",
       "      <td>BrontePark2019</td>\n",
       "      <td>NaN</td>\n",
       "      <td>TAS_Project_Index_55</td>\n",
       "      <td>POLYGON ((146.51605 -42.12709, 146.51598 -42.1...</td>\n",
       "      <td>2019.0</td>\n",
       "    </tr>\n",
       "    <tr>\n",
       "      <th>28</th>\n",
       "      <td>CrampsBay2019</td>\n",
       "      <td>NaN</td>\n",
       "      <td>TAS_Project_Index_55</td>\n",
       "      <td>POLYGON ((146.85538 -41.87583, 146.85536 -41.8...</td>\n",
       "      <td>2019.0</td>\n",
       "    </tr>\n",
       "    <tr>\n",
       "      <th>34</th>\n",
       "      <td>Scotia2017</td>\n",
       "      <td>NaN</td>\n",
       "      <td>TAS_Project_Index_55</td>\n",
       "      <td>POLYGON ((148.02170 -40.94361, 148.02183 -40.9...</td>\n",
       "      <td>2017.0</td>\n",
       "    </tr>\n",
       "    <tr>\n",
       "      <th>...</th>\n",
       "      <td>...</td>\n",
       "      <td>...</td>\n",
       "      <td>...</td>\n",
       "      <td>...</td>\n",
       "      <td>...</td>\n",
       "    </tr>\n",
       "    <tr>\n",
       "      <th>46</th>\n",
       "      <td>Dalby201811</td>\n",
       "      <td>https://griffith-elvis.s3-ap-southeast-2.amazo...</td>\n",
       "      <td>GriffithUniFugro_Project_Index_56</td>\n",
       "      <td>POLYGON ((151.41121 -26.74339, 151.41134 -26.7...</td>\n",
       "      <td>2018.0</td>\n",
       "    </tr>\n",
       "    <tr>\n",
       "      <th>47</th>\n",
       "      <td>Bundaberg201801</td>\n",
       "      <td>https://griffith-elvis.s3-ap-southeast-2.amazo...</td>\n",
       "      <td>GriffithUniFugro_Project_Index_56</td>\n",
       "      <td>POLYGON ((152.46377 -25.25236, 152.45384 -25.2...</td>\n",
       "      <td>2018.0</td>\n",
       "    </tr>\n",
       "    <tr>\n",
       "      <th>48</th>\n",
       "      <td>Bundaberg201801</td>\n",
       "      <td>https://griffith-elvis.s3-ap-southeast-2.amazo...</td>\n",
       "      <td>GriffithUniFugro_Project_Index_56</td>\n",
       "      <td>POLYGON ((152.09525 -25.40408, 152.10519 -25.4...</td>\n",
       "      <td>2018.0</td>\n",
       "    </tr>\n",
       "    <tr>\n",
       "      <th>49</th>\n",
       "      <td>Bundaberg201801</td>\n",
       "      <td>https://griffith-elvis.s3-ap-southeast-2.amazo...</td>\n",
       "      <td>GriffithUniFugro_Project_Index_56</td>\n",
       "      <td>POLYGON ((152.14393 -25.54885, 152.16384 -25.5...</td>\n",
       "      <td>2018.0</td>\n",
       "    </tr>\n",
       "    <tr>\n",
       "      <th>50</th>\n",
       "      <td>Bundaberg201801</td>\n",
       "      <td>https://griffith-elvis.s3-ap-southeast-2.amazo...</td>\n",
       "      <td>GriffithUniFugro_Project_Index_56</td>\n",
       "      <td>POLYGON ((152.39400 -25.30628, 152.39382 -25.3...</td>\n",
       "      <td>2018.0</td>\n",
       "    </tr>\n",
       "  </tbody>\n",
       "</table>\n",
       "<p>1843 rows × 5 columns</p>\n",
       "</div>"
      ],
      "text/plain": [
       "         project_raw                                       metadata_url  \\\n",
       "5   CampbellTown2019                                                NaN   \n",
       "26     Westerway2019                                                NaN   \n",
       "27    BrontePark2019                                                NaN   \n",
       "28     CrampsBay2019                                                NaN   \n",
       "34        Scotia2017                                                NaN   \n",
       "..               ...                                                ...   \n",
       "46       Dalby201811  https://griffith-elvis.s3-ap-southeast-2.amazo...   \n",
       "47   Bundaberg201801  https://griffith-elvis.s3-ap-southeast-2.amazo...   \n",
       "48   Bundaberg201801  https://griffith-elvis.s3-ap-southeast-2.amazo...   \n",
       "49   Bundaberg201801  https://griffith-elvis.s3-ap-southeast-2.amazo...   \n",
       "50   Bundaberg201801  https://griffith-elvis.s3-ap-southeast-2.amazo...   \n",
       "\n",
       "                          data_source  \\\n",
       "5                TAS_Project_Index_55   \n",
       "26               TAS_Project_Index_55   \n",
       "27               TAS_Project_Index_55   \n",
       "28               TAS_Project_Index_55   \n",
       "34               TAS_Project_Index_55   \n",
       "..                                ...   \n",
       "46  GriffithUniFugro_Project_Index_56   \n",
       "47  GriffithUniFugro_Project_Index_56   \n",
       "48  GriffithUniFugro_Project_Index_56   \n",
       "49  GriffithUniFugro_Project_Index_56   \n",
       "50  GriffithUniFugro_Project_Index_56   \n",
       "\n",
       "                                             geometry    year  \n",
       "5   POLYGON ((147.48252 -41.93795, 147.48245 -41.9...  2019.0  \n",
       "26  POLYGON ((146.80475 -42.66830, 146.80472 -42.6...  2019.0  \n",
       "27  POLYGON ((146.51605 -42.12709, 146.51598 -42.1...  2019.0  \n",
       "28  POLYGON ((146.85538 -41.87583, 146.85536 -41.8...  2019.0  \n",
       "34  POLYGON ((148.02170 -40.94361, 148.02183 -40.9...  2017.0  \n",
       "..                                                ...     ...  \n",
       "46  POLYGON ((151.41121 -26.74339, 151.41134 -26.7...  2018.0  \n",
       "47  POLYGON ((152.46377 -25.25236, 152.45384 -25.2...  2018.0  \n",
       "48  POLYGON ((152.09525 -25.40408, 152.10519 -25.4...  2018.0  \n",
       "49  POLYGON ((152.14393 -25.54885, 152.16384 -25.5...  2018.0  \n",
       "50  POLYGON ((152.39400 -25.30628, 152.39382 -25.3...  2018.0  \n",
       "\n",
       "[1843 rows x 5 columns]"
      ]
     },
     "execution_count": 6,
     "metadata": {},
     "output_type": "execute_result"
    }
   ],
   "source": [
    "# Filter to time of interest\n",
    "projects_gdf = projects_gdf.loc[projects_gdf.year >= 2016]\n",
    "projects_gdf"
   ]
  },
  {
   "cell_type": "markdown",
   "id": "7c8fc5c8-b630-4339-87db-36733de0cd41",
   "metadata": {
    "tags": []
   },
   "source": [
    "### Filter to coast"
   ]
  },
  {
   "cell_type": "code",
   "execution_count": 7,
   "id": "8aa53ccc-f0d2-4bf6-a11d-a1524dba7ea4",
   "metadata": {
    "tags": []
   },
   "outputs": [],
   "source": [
    "coastline_gdf = gpd.read_file(\n",
    "    \"/gdata1/data/boundaries/GEODATA_COAST_100K/australia/cstauscd_l.shp\"\n",
    ").query(\"FEAT_CODE == 'coastline'\").to_crs(\"EPSG:4326\")"
   ]
  },
  {
   "cell_type": "code",
   "execution_count": 8,
   "id": "2873a2e9-9363-414d-ab45-6ef807f85453",
   "metadata": {
    "tags": []
   },
   "outputs": [
    {
     "data": {
      "text/html": [
       "<div>\n",
       "<style scoped>\n",
       "    .dataframe tbody tr th:only-of-type {\n",
       "        vertical-align: middle;\n",
       "    }\n",
       "\n",
       "    .dataframe tbody tr th {\n",
       "        vertical-align: top;\n",
       "    }\n",
       "\n",
       "    .dataframe thead th {\n",
       "        text-align: right;\n",
       "    }\n",
       "</style>\n",
       "<table border=\"1\" class=\"dataframe\">\n",
       "  <thead>\n",
       "    <tr style=\"text-align: right;\">\n",
       "      <th></th>\n",
       "      <th>project_raw</th>\n",
       "      <th>metadata_url</th>\n",
       "      <th>data_source</th>\n",
       "      <th>geometry</th>\n",
       "      <th>year</th>\n",
       "      <th>id</th>\n",
       "    </tr>\n",
       "  </thead>\n",
       "  <tbody>\n",
       "    <tr>\n",
       "      <th>5</th>\n",
       "      <td>CampbellTown2019</td>\n",
       "      <td>NaN</td>\n",
       "      <td>TAS_Project_Index_55</td>\n",
       "      <td>POLYGON ((147.48252 -41.93795, 147.48245 -41.9...</td>\n",
       "      <td>2019.0</td>\n",
       "      <td>0</td>\n",
       "    </tr>\n",
       "    <tr>\n",
       "      <th>26</th>\n",
       "      <td>Westerway2019</td>\n",
       "      <td>NaN</td>\n",
       "      <td>TAS_Project_Index_55</td>\n",
       "      <td>POLYGON ((146.80475 -42.66830, 146.80472 -42.6...</td>\n",
       "      <td>2019.0</td>\n",
       "      <td>1</td>\n",
       "    </tr>\n",
       "    <tr>\n",
       "      <th>27</th>\n",
       "      <td>BrontePark2019</td>\n",
       "      <td>NaN</td>\n",
       "      <td>TAS_Project_Index_55</td>\n",
       "      <td>POLYGON ((146.51605 -42.12709, 146.51598 -42.1...</td>\n",
       "      <td>2019.0</td>\n",
       "      <td>2</td>\n",
       "    </tr>\n",
       "    <tr>\n",
       "      <th>28</th>\n",
       "      <td>CrampsBay2019</td>\n",
       "      <td>NaN</td>\n",
       "      <td>TAS_Project_Index_55</td>\n",
       "      <td>POLYGON ((146.85538 -41.87583, 146.85536 -41.8...</td>\n",
       "      <td>2019.0</td>\n",
       "      <td>3</td>\n",
       "    </tr>\n",
       "    <tr>\n",
       "      <th>34</th>\n",
       "      <td>Scotia2017</td>\n",
       "      <td>NaN</td>\n",
       "      <td>TAS_Project_Index_55</td>\n",
       "      <td>POLYGON ((148.02170 -40.94361, 148.02183 -40.9...</td>\n",
       "      <td>2017.0</td>\n",
       "      <td>4</td>\n",
       "    </tr>\n",
       "    <tr>\n",
       "      <th>...</th>\n",
       "      <td>...</td>\n",
       "      <td>...</td>\n",
       "      <td>...</td>\n",
       "      <td>...</td>\n",
       "      <td>...</td>\n",
       "      <td>...</td>\n",
       "    </tr>\n",
       "    <tr>\n",
       "      <th>46</th>\n",
       "      <td>Dalby201811</td>\n",
       "      <td>https://griffith-elvis.s3-ap-southeast-2.amazo...</td>\n",
       "      <td>GriffithUniFugro_Project_Index_56</td>\n",
       "      <td>POLYGON ((151.41121 -26.74339, 151.41134 -26.7...</td>\n",
       "      <td>2018.0</td>\n",
       "      <td>1838</td>\n",
       "    </tr>\n",
       "    <tr>\n",
       "      <th>47</th>\n",
       "      <td>Bundaberg201801</td>\n",
       "      <td>https://griffith-elvis.s3-ap-southeast-2.amazo...</td>\n",
       "      <td>GriffithUniFugro_Project_Index_56</td>\n",
       "      <td>POLYGON ((152.46377 -25.25236, 152.45384 -25.2...</td>\n",
       "      <td>2018.0</td>\n",
       "      <td>1839</td>\n",
       "    </tr>\n",
       "    <tr>\n",
       "      <th>48</th>\n",
       "      <td>Bundaberg201801</td>\n",
       "      <td>https://griffith-elvis.s3-ap-southeast-2.amazo...</td>\n",
       "      <td>GriffithUniFugro_Project_Index_56</td>\n",
       "      <td>POLYGON ((152.09525 -25.40408, 152.10519 -25.4...</td>\n",
       "      <td>2018.0</td>\n",
       "      <td>1840</td>\n",
       "    </tr>\n",
       "    <tr>\n",
       "      <th>49</th>\n",
       "      <td>Bundaberg201801</td>\n",
       "      <td>https://griffith-elvis.s3-ap-southeast-2.amazo...</td>\n",
       "      <td>GriffithUniFugro_Project_Index_56</td>\n",
       "      <td>POLYGON ((152.14393 -25.54885, 152.16384 -25.5...</td>\n",
       "      <td>2018.0</td>\n",
       "      <td>1841</td>\n",
       "    </tr>\n",
       "    <tr>\n",
       "      <th>50</th>\n",
       "      <td>Bundaberg201801</td>\n",
       "      <td>https://griffith-elvis.s3-ap-southeast-2.amazo...</td>\n",
       "      <td>GriffithUniFugro_Project_Index_56</td>\n",
       "      <td>POLYGON ((152.39400 -25.30628, 152.39382 -25.3...</td>\n",
       "      <td>2018.0</td>\n",
       "      <td>1842</td>\n",
       "    </tr>\n",
       "  </tbody>\n",
       "</table>\n",
       "<p>1843 rows × 6 columns</p>\n",
       "</div>"
      ],
      "text/plain": [
       "         project_raw                                       metadata_url  \\\n",
       "5   CampbellTown2019                                                NaN   \n",
       "26     Westerway2019                                                NaN   \n",
       "27    BrontePark2019                                                NaN   \n",
       "28     CrampsBay2019                                                NaN   \n",
       "34        Scotia2017                                                NaN   \n",
       "..               ...                                                ...   \n",
       "46       Dalby201811  https://griffith-elvis.s3-ap-southeast-2.amazo...   \n",
       "47   Bundaberg201801  https://griffith-elvis.s3-ap-southeast-2.amazo...   \n",
       "48   Bundaberg201801  https://griffith-elvis.s3-ap-southeast-2.amazo...   \n",
       "49   Bundaberg201801  https://griffith-elvis.s3-ap-southeast-2.amazo...   \n",
       "50   Bundaberg201801  https://griffith-elvis.s3-ap-southeast-2.amazo...   \n",
       "\n",
       "                          data_source  \\\n",
       "5                TAS_Project_Index_55   \n",
       "26               TAS_Project_Index_55   \n",
       "27               TAS_Project_Index_55   \n",
       "28               TAS_Project_Index_55   \n",
       "34               TAS_Project_Index_55   \n",
       "..                                ...   \n",
       "46  GriffithUniFugro_Project_Index_56   \n",
       "47  GriffithUniFugro_Project_Index_56   \n",
       "48  GriffithUniFugro_Project_Index_56   \n",
       "49  GriffithUniFugro_Project_Index_56   \n",
       "50  GriffithUniFugro_Project_Index_56   \n",
       "\n",
       "                                             geometry    year    id  \n",
       "5   POLYGON ((147.48252 -41.93795, 147.48245 -41.9...  2019.0     0  \n",
       "26  POLYGON ((146.80475 -42.66830, 146.80472 -42.6...  2019.0     1  \n",
       "27  POLYGON ((146.51605 -42.12709, 146.51598 -42.1...  2019.0     2  \n",
       "28  POLYGON ((146.85538 -41.87583, 146.85536 -41.8...  2019.0     3  \n",
       "34  POLYGON ((148.02170 -40.94361, 148.02183 -40.9...  2017.0     4  \n",
       "..                                                ...     ...   ...  \n",
       "46  POLYGON ((151.41121 -26.74339, 151.41134 -26.7...  2018.0  1838  \n",
       "47  POLYGON ((152.46377 -25.25236, 152.45384 -25.2...  2018.0  1839  \n",
       "48  POLYGON ((152.09525 -25.40408, 152.10519 -25.4...  2018.0  1840  \n",
       "49  POLYGON ((152.14393 -25.54885, 152.16384 -25.5...  2018.0  1841  \n",
       "50  POLYGON ((152.39400 -25.30628, 152.39382 -25.3...  2018.0  1842  \n",
       "\n",
       "[1843 rows x 6 columns]"
      ]
     },
     "execution_count": 8,
     "metadata": {},
     "output_type": "execute_result"
    }
   ],
   "source": [
    "projects_gdf.assign(id=range(0, len(projects_gdf.index)))  # Create temporary ID so we can keep only the first of n duplicates for each row"
   ]
  },
  {
   "cell_type": "code",
   "execution_count": 9,
   "id": "45e921f9-6f04-4302-856c-27d382ecc18e",
   "metadata": {
    "tags": []
   },
   "outputs": [],
   "source": [
    "projects_coastal_gdf = (\n",
    "    projects_gdf.assign(id=range(0, len(projects_gdf.index)))  # Create temporary ID so we can keep only the first of n duplicates for each row\n",
    "    .sjoin(coastline_gdf, predicate=\"intersects\")\n",
    "    .groupby(\"id\")\n",
    "    .first()\n",
    "    .dissolve(\"project_raw\")\n",
    ")[[\"metadata_url\", \"data_source\", \"year\", \"geometry\"]]\n"
   ]
  },
  {
   "cell_type": "code",
   "execution_count": 10,
   "id": "f9223376-18a6-4600-a12f-34c85116e7cb",
   "metadata": {
    "tags": []
   },
   "outputs": [
    {
     "data": {
      "text/html": [
       "<div>\n",
       "<style scoped>\n",
       "    .dataframe tbody tr th:only-of-type {\n",
       "        vertical-align: middle;\n",
       "    }\n",
       "\n",
       "    .dataframe tbody tr th {\n",
       "        vertical-align: top;\n",
       "    }\n",
       "\n",
       "    .dataframe thead th {\n",
       "        text-align: right;\n",
       "    }\n",
       "</style>\n",
       "<table border=\"1\" class=\"dataframe\">\n",
       "  <thead>\n",
       "    <tr style=\"text-align: right;\">\n",
       "      <th></th>\n",
       "      <th>metadata_url</th>\n",
       "      <th>data_source</th>\n",
       "      <th>year</th>\n",
       "      <th>geometry</th>\n",
       "    </tr>\n",
       "    <tr>\n",
       "      <th>project_raw</th>\n",
       "      <th></th>\n",
       "      <th></th>\n",
       "      <th></th>\n",
       "      <th></th>\n",
       "    </tr>\n",
       "  </thead>\n",
       "  <tbody>\n",
       "    <tr>\n",
       "      <th>AdelaideMetro2018</th>\n",
       "      <td>http://location.sa.gov.au/LMS/Reports/ReportMe...</td>\n",
       "      <td>SA_Elevation_Metadata_Index</td>\n",
       "      <td>2018.0</td>\n",
       "      <td>POLYGON ((138.72196 -34.69992, 138.71624 -34.7...</td>\n",
       "    </tr>\n",
       "    <tr>\n",
       "      <th>AdelaideMetro2022</th>\n",
       "      <td>http://location.sa.gov.au/LMS/Reports/ReportMe...</td>\n",
       "      <td>SA_Elevation_Metadata_Index</td>\n",
       "      <td>2022.0</td>\n",
       "      <td>POLYGON ((138.68344 -35.01350, 138.68509 -35.0...</td>\n",
       "    </tr>\n",
       "    <tr>\n",
       "      <th>AnnaBay2018</th>\n",
       "      <td>https://datasets.seed.nsw.gov.au/dataset/marin...</td>\n",
       "      <td>NSW_DPIE_Elevation_Metadata_Index</td>\n",
       "      <td>2018.0</td>\n",
       "      <td>POLYGON ((152.20370 -32.72146, 152.20373 -32.7...</td>\n",
       "    </tr>\n",
       "    <tr>\n",
       "      <th>Ayr201804</th>\n",
       "      <td>https://griffith-elvis.s3-ap-southeast-2.amazo...</td>\n",
       "      <td>GriffithUniFugro_Project_Index_55</td>\n",
       "      <td>2018.0</td>\n",
       "      <td>POLYGON ((147.24877 -20.14006, 147.23921 -20.1...</td>\n",
       "    </tr>\n",
       "    <tr>\n",
       "      <th>BatemansBay2018</th>\n",
       "      <td>https://datasets.seed.nsw.gov.au/dataset/marin...</td>\n",
       "      <td>NSW_DPIE_Elevation_Metadata_Index</td>\n",
       "      <td>2018.0</td>\n",
       "      <td>POLYGON ((150.22733 -35.68666, 150.22736 -35.6...</td>\n",
       "    </tr>\n",
       "    <tr>\n",
       "      <th>...</th>\n",
       "      <td>...</td>\n",
       "      <td>...</td>\n",
       "      <td>...</td>\n",
       "      <td>...</td>\n",
       "    </tr>\n",
       "    <tr>\n",
       "      <th>Yuraygir2018</th>\n",
       "      <td>https://datasets.seed.nsw.gov.au/dataset/marin...</td>\n",
       "      <td>NSW_DPIE_Elevation_Metadata_Index</td>\n",
       "      <td>2018.0</td>\n",
       "      <td>MULTIPOLYGON (((153.38812 -29.88437, 153.38817...</td>\n",
       "    </tr>\n",
       "    <tr>\n",
       "      <th>cann-river-south2020apr13</th>\n",
       "      <td>https://www.land.vic.gov.au/__data/assets/pdf_...</td>\n",
       "      <td>VIC_Elevation_Metadata_Index</td>\n",
       "      <td>2020.0</td>\n",
       "      <td>MULTIPOLYGON (((149.51735 -37.74769, 149.51720...</td>\n",
       "    </tr>\n",
       "    <tr>\n",
       "      <th>golden-plains2021apr29</th>\n",
       "      <td>https://www.land.vic.gov.au/__data/assets/pdf_...</td>\n",
       "      <td>VIC_Elevation_Metadata_Index</td>\n",
       "      <td>2021.0</td>\n",
       "      <td>POLYGON ((144.26338 -38.39330, 144.26304 -38.4...</td>\n",
       "    </tr>\n",
       "    <tr>\n",
       "      <th>nowa-nowa2019sep10</th>\n",
       "      <td>https://www.land.vic.gov.au/__data/assets/pdf_...</td>\n",
       "      <td>VIC_Elevation_Metadata_Index</td>\n",
       "      <td>2019.0</td>\n",
       "      <td>POLYGON ((148.42511 -36.89048, 148.42548 -36.8...</td>\n",
       "    </tr>\n",
       "    <tr>\n",
       "      <th>orbost2019apr02</th>\n",
       "      <td>https://www.land.vic.gov.au/__data/assets/pdf_...</td>\n",
       "      <td>VIC_Elevation_Metadata_Index</td>\n",
       "      <td>2019.0</td>\n",
       "      <td>POLYGON ((148.91315 -37.55409, 148.91312 -37.5...</td>\n",
       "    </tr>\n",
       "  </tbody>\n",
       "</table>\n",
       "<p>135 rows × 4 columns</p>\n",
       "</div>"
      ],
      "text/plain": [
       "                                                                metadata_url  \\\n",
       "project_raw                                                                    \n",
       "AdelaideMetro2018          http://location.sa.gov.au/LMS/Reports/ReportMe...   \n",
       "AdelaideMetro2022          http://location.sa.gov.au/LMS/Reports/ReportMe...   \n",
       "AnnaBay2018                https://datasets.seed.nsw.gov.au/dataset/marin...   \n",
       "Ayr201804                  https://griffith-elvis.s3-ap-southeast-2.amazo...   \n",
       "BatemansBay2018            https://datasets.seed.nsw.gov.au/dataset/marin...   \n",
       "...                                                                      ...   \n",
       "Yuraygir2018               https://datasets.seed.nsw.gov.au/dataset/marin...   \n",
       "cann-river-south2020apr13  https://www.land.vic.gov.au/__data/assets/pdf_...   \n",
       "golden-plains2021apr29     https://www.land.vic.gov.au/__data/assets/pdf_...   \n",
       "nowa-nowa2019sep10         https://www.land.vic.gov.au/__data/assets/pdf_...   \n",
       "orbost2019apr02            https://www.land.vic.gov.au/__data/assets/pdf_...   \n",
       "\n",
       "                                                 data_source    year  \\\n",
       "project_raw                                                            \n",
       "AdelaideMetro2018                SA_Elevation_Metadata_Index  2018.0   \n",
       "AdelaideMetro2022                SA_Elevation_Metadata_Index  2022.0   \n",
       "AnnaBay2018                NSW_DPIE_Elevation_Metadata_Index  2018.0   \n",
       "Ayr201804                  GriffithUniFugro_Project_Index_55  2018.0   \n",
       "BatemansBay2018            NSW_DPIE_Elevation_Metadata_Index  2018.0   \n",
       "...                                                      ...     ...   \n",
       "Yuraygir2018               NSW_DPIE_Elevation_Metadata_Index  2018.0   \n",
       "cann-river-south2020apr13       VIC_Elevation_Metadata_Index  2020.0   \n",
       "golden-plains2021apr29          VIC_Elevation_Metadata_Index  2021.0   \n",
       "nowa-nowa2019sep10              VIC_Elevation_Metadata_Index  2019.0   \n",
       "orbost2019apr02                 VIC_Elevation_Metadata_Index  2019.0   \n",
       "\n",
       "                                                                    geometry  \n",
       "project_raw                                                                   \n",
       "AdelaideMetro2018          POLYGON ((138.72196 -34.69992, 138.71624 -34.7...  \n",
       "AdelaideMetro2022          POLYGON ((138.68344 -35.01350, 138.68509 -35.0...  \n",
       "AnnaBay2018                POLYGON ((152.20370 -32.72146, 152.20373 -32.7...  \n",
       "Ayr201804                  POLYGON ((147.24877 -20.14006, 147.23921 -20.1...  \n",
       "BatemansBay2018            POLYGON ((150.22733 -35.68666, 150.22736 -35.6...  \n",
       "...                                                                      ...  \n",
       "Yuraygir2018               MULTIPOLYGON (((153.38812 -29.88437, 153.38817...  \n",
       "cann-river-south2020apr13  MULTIPOLYGON (((149.51735 -37.74769, 149.51720...  \n",
       "golden-plains2021apr29     POLYGON ((144.26338 -38.39330, 144.26304 -38.4...  \n",
       "nowa-nowa2019sep10         POLYGON ((148.42511 -36.89048, 148.42548 -36.8...  \n",
       "orbost2019apr02            POLYGON ((148.91315 -37.55409, 148.91312 -37.5...  \n",
       "\n",
       "[135 rows x 4 columns]"
      ]
     },
     "execution_count": 10,
     "metadata": {},
     "output_type": "execute_result"
    }
   ],
   "source": [
    "projects_coastal_gdf"
   ]
  },
  {
   "cell_type": "code",
   "execution_count": 11,
   "id": "2b93456c-a994-4963-977c-0f45957574eb",
   "metadata": {
    "tags": []
   },
   "outputs": [
    {
     "data": {
      "text/plain": [
       "<Axes: >"
      ]
     },
     "execution_count": 11,
     "metadata": {},
     "output_type": "execute_result"
    },
    {
     "data": {
      "image/png": "[encoded data removed]",
      "text/plain": [
       "<Figure size 640x480 with 1 Axes>"
      ]
     },
     "metadata": {},
     "output_type": "display_data"
    }
   ],
   "source": [
    "projects_coastal_gdf.year.astype(int).value_counts().sort_index().plot(kind='bar')"
   ]
  },
  {
   "cell_type": "markdown",
   "id": "1dd7ea98-7b67-49b0-a209-83bff583d0ec",
   "metadata": {},
   "source": [
    "### Export:"
   ]
  },
  {
   "cell_type": "code",
   "execution_count": 12,
   "id": "b070ef6e-d00b-4b47-9f22-aaa46437fe3d",
   "metadata": {
    "tags": []
   },
   "outputs": [],
   "source": [
    "projects_coastal_gdf[\"geometry\"] = projects_coastal_gdf.geometry.simplify(0.001)\n",
    "projects_coastal_gdf.to_file(\"elvis_coastal_projects.geojson\")"
   ]
  },
  {
   "cell_type": "markdown",
   "id": "a258e8db-94f1-4350-9f4a-f220f7eddcb0",
   "metadata": {},
   "source": [
    "## Pre-process ELVIS tile indexes to extract S3 paths and project data"
   ]
  },
  {
   "cell_type": "code",
   "execution_count": 116,
   "id": "b5915668-7601-422a-9e53-f38ebe1bf5dc",
   "metadata": {},
   "outputs": [
    {
     "data": {
      "text/plain": [
       "['public.NSW-DPIE_Tile_Index_56',\n",
       " 'public.TAS_DEM_Index_2m',\n",
       " 'public.QLD_Bathy_Tile_Index_56',\n",
       " 'public.VIC_DEM_Index_10m',\n",
       " 'public.GA_Tile_Index_52',\n",
       " 'public.QLD_Tile_Index_56',\n",
       " 'public.GriffithUniFugro_Tile_Index_54',\n",
       " 'public.DAWE_Tile_Index_55',\n",
       " 'public.TAS_Tile_Index_55',\n",
       " 'public.SA_Tile_Index_53',\n",
       " 'public.SA_Tile_Index_54',\n",
       " 'public.GA_Tile_Index_54',\n",
       " 'public.GriffithUniFugro_Tile_Index_56',\n",
       " 'public.GriffithUniFugro_Tile_Index_55',\n",
       " 'public.QLD_Tile_Index_55',\n",
       " 'public.NSW_Tile_Index_56',\n",
       " 'public.NSW_DPIE_Elevation_Metadata_Index']"
      ]
     },
     "execution_count": 116,
     "metadata": {},
     "output_type": "execute_result"
    }
   ],
   "source": [
    "# List layers in GeoPackage\n",
    "path = '/gdata1/projects/coastal/ELVIS/Elvis_DEM_Tile_Extents_NIDEM.gpkg'\n",
    "layers = fiona.listlayers(path)\n",
    "\n",
    "# Remove inaccessible Vic data\n",
    "layers.remove(\"public.VIC_Tile_Index_55\")\n",
    "layers"
   ]
  },
  {
   "cell_type": "markdown",
   "id": "382b8b02-0d4e-4e2e-adda-d9917c35a2d3",
   "metadata": {
    "tags": []
   },
   "source": [
    "### Filter to coast"
   ]
  },
  {
   "cell_type": "code",
   "execution_count": 117,
   "id": "5e00a188-cb83-4aeb-a042-eb6598b43a48",
   "metadata": {
    "tags": []
   },
   "outputs": [],
   "source": [
    "# Load coastline data\n",
    "coastline_gdf = gpd.read_file(\n",
    "    \"/gdata1/data/boundaries/GEODATA_COAST_100K/australia/cstauscd_l.shp\"\n",
    ").query(\"FEAT_CODE == 'coastline'\").to_crs(\"EPSG:3577\")\n",
    "\n",
    "# Buffer by 1 km\n",
    "coastline_gdf[\"geometry\"] = coastline_gdf.buffer(1000).simplify(100)"
   ]
  },
  {
   "cell_type": "code",
   "execution_count": 118,
   "id": "c7405176-55d0-4271-8085-0ce8b90232a8",
   "metadata": {
    "tags": []
   },
   "outputs": [
    {
     "name": "stdout",
     "output_type": "stream",
     "text": [
      "public.NSW-DPIE_Tile_Index_56\n",
      "public.TAS_DEM_Index_2m\n",
      "public.QLD_Bathy_Tile_Index_56\n",
      "public.VIC_DEM_Index_10m\n",
      "public.GA_Tile_Index_52\n",
      "public.QLD_Tile_Index_56\n",
      "public.GriffithUniFugro_Tile_Index_54\n",
      "public.DAWE_Tile_Index_55\n",
      "public.TAS_Tile_Index_55\n",
      "public.SA_Tile_Index_53\n",
      "public.SA_Tile_Index_54\n",
      "public.GA_Tile_Index_54\n",
      "public.GriffithUniFugro_Tile_Index_56\n",
      "public.GriffithUniFugro_Tile_Index_55\n",
      "public.QLD_Tile_Index_55\n",
      "public.NSW_Tile_Index_56\n",
      "public.NSW_DPIE_Elevation_Metadata_Index\n"
     ]
    }
   ],
   "source": [
    "out_list = []\n",
    "\n",
    "for i in layers:\n",
    "    print(i)\n",
    "\n",
    "    # Read layer\n",
    "    project_gdf = (\n",
    "        gpd.read_file(path, layer=i, rows=None)\n",
    "        .assign(data_source=i[7:])\n",
    "        .to_crs(\"EPSG:4326\")\n",
    "    )\n",
    "\n",
    "    # Get the identifier columns dynamically\n",
    "    stackable_columns = project_gdf.filter(like=\"object_url\").columns\n",
    "    id_columns = [\"data_source\", \"geometry\"]\n",
    "\n",
    "    # Melt the DataFrame\n",
    "    melted_gdf = pd.melt(\n",
    "        project_gdf,\n",
    "        id_vars=id_columns,\n",
    "        value_vars=stackable_columns,\n",
    "        var_name=\"resolution\",\n",
    "        value_name=\"s3_url\",\n",
    "    )\n",
    "\n",
    "    # Get resolution\n",
    "    melted_gdf[\"resolution\"] = (\n",
    "        melted_gdf.resolution.str.replace(\"object_url\", \"\")\n",
    "        .str.replace(\"dem\", \"\")\n",
    "        .str.strip(\"_\")\n",
    "    )\n",
    "\n",
    "    # Drop rows with NaN values in 'value' column, and where file\n",
    "    # format is not GeoTIFF\n",
    "    melted_gdf = melted_gdf.dropna(subset=[\"s3_url\"])\n",
    "    melted_gdf = melted_gdf.loc[melted_gdf.s3_url.str.endswith(\".tif\")]\n",
    "\n",
    "    # Extract project name and date\n",
    "    file_names = melted_gdf.s3_url.str.split(\"/\").str[-1]\n",
    "    melted_gdf[[\"project\", \"year\"]] = file_names.str.extract(\"^(.*?)(\\d{4})\")\n",
    "    melted_gdf[\"project\"] = melted_gdf[\"project\"].str.strip(\"_\")\n",
    "\n",
    "    # Convert to vsis3 paths, handling differently formatted S3 URLs\n",
    "    melted_gdf[\"vsis3_path\"] = (\n",
    "        melted_gdf.s3_url.str.replace(\"https://\", \"/vsis3/\")\n",
    "        .str.replace(\"s3-ap-southeast-2.amazonaws.com\", \"\")\n",
    "        .str.replace(\"//\", \"/\", regex=False)\n",
    "        .str.replace(\"./\", \"/\", regex=False)\n",
    "    )\n",
    "\n",
    "    # Dissolve duplicate columns\n",
    "    melted_gdf = melted_gdf.dissolve(\n",
    "        by=[\"data_source\", \"project\", \"year\", \"resolution\", \"s3_url\", \"vsis3_path\"],\n",
    "        as_index=False,\n",
    "    )\n",
    "\n",
    "    # CLip to coastline\n",
    "    clipped_gdf = melted_gdf.clip(mask=coastline_gdf.to_crs(crs=melted_gdf.crs))\n",
    "\n",
    "    # Append to file\n",
    "    out_list.append(clipped_gdf)\n",
    "\n",
    "\n",
    "# Combine into a single layer\n",
    "combined_gdf = pd.concat(out_list, ignore_index=True)\n",
    "combined_gdf.to_file(\"elvis_preprocessed.geojson\")"
   ]
  },
  {
   "cell_type": "code",
   "execution_count": 175,
   "id": "bf7138f5-cc9d-4236-a4ba-7b6ecf6c5214",
   "metadata": {
    "tags": []
   },
   "outputs": [
    {
     "name": "stderr",
     "output_type": "stream",
     "text": [
      "/tmp/ipykernel_232/2204249781.py:4: FutureWarning: The default value of regex will change from True to False in a future version.\n",
      "  .str.replace(\"s3-ap-southeast-2.amazonaws.com\", \"\")\n"
     ]
    }
   ],
   "source": [
    "combined_gdf = pd.concat(out_list, ignore_index=True)\n",
    "combined_gdf.to_file(\"elvis_preprocessed.geojson\")\n",
    "\n",
    "# with pd.option_context(\"display.max_rows\", 100, \"display.max_colwidth\", 200):\n",
    "#     display(\n",
    "#         combined_gdf[\n",
    "#             [\"data_source\", \"project\", \"year\", \"resolution\", \"s3_url\", \"vsis3_path\", \"geometry\"]\n",
    "#         ]\n",
    "#     )"
   ]
  },
  {
   "cell_type": "code",
   "execution_count": 174,
   "id": "16ad0b15-51f8-4149-a05a-93142ccc8e3f",
   "metadata": {
    "tags": []
   },
   "outputs": [
    {
     "name": "stderr",
     "output_type": "stream",
     "text": [
      "/tmp/ipykernel_232/2394436667.py:1: FutureWarning: The default value of regex will change from True to False in a future version.\n",
      "  combined_gdf.query(\"s3_url == 'https://qld-elvis.s3-ap-southeast-2.amazonaws.com/elevation/1m-dem/z56/Moreton_Bay_2018_LGA/Moreton_Bay_2018_LGA_SW_505000_6978000_1k_DEM_1m.tif'\").s3_url.str.replace(\"https://\", \"/vsis3/\").str.replace(\"s3-ap-southeast-2.amazonaws.com\", \"\").str.replace(\"//\", \"/\", regex=False).str.replace(\"./\", \"/\", regex=False)\n"
     ]
    },
    {
     "data": {
      "text/plain": [
       "1235    /vsis3/qld-elvis/elevation/1m-dem/z56/Moreton_...\n",
       "Name: s3_url, dtype: object"
      ]
     },
     "execution_count": 174,
     "metadata": {},
     "output_type": "execute_result"
    }
   ],
   "source": [
    "combined_gdf.query(\"s3_url == 'https://qld-elvis.s3-ap-southeast-2.amazonaws.com/elevation/1m-dem/z56/Moreton_Bay_2018_LGA/Moreton_Bay_2018_LGA_SW_505000_6978000_1k_DEM_1m.tif'\").s3_url.str.replace(\"https://\", \"/vsis3/\").str.replace(\"s3-ap-southeast-2.amazonaws.com\", \"\").str.replace(\"//\", \"/\", regex=False).str.replace(\"./\", \"/\", regex=False)\n",
    "\n"
   ]
  },
  {
   "cell_type": "code",
   "execution_count": 120,
   "id": "e977c26a-3a5a-4cfb-9202-b1dc308bdd19",
   "metadata": {
    "tags": []
   },
   "outputs": [
    {
     "data": {
      "text/plain": [
       "data_source\n",
       "DAWE_Tile_Index_55                                                          https://dawe-elvis.s3-ap-southeast-2.amazonaws.com/elevation/50cm-dem/z55/StyxLidar2020/StyxLidar2020-DEM-0_5_7707503_55_0001_0001.tif\n",
       "GA_Tile_Index_52                                                            https://ga-elvis.s3-ap-southeast-2.amazonaws.com/elevation/1m-dem/ausgeoid/z52/KimberleyEast2017-DEM-GRID-001_5128314_52_0002_0002.tif\n",
       "GA_Tile_Index_54                                                            https://ga-elvis.s3-ap-southeast-2.amazonaws.com/elevation/1m-dem/ausgeoid/z54/NirrandaLidar2016-DEM-GRID-001_6605724_54_0002_0002.tif\n",
       "GriffithUniFugro_Tile_Index_54       https://griffith-elvis.s3-ap-southeast-2.amazonaws.com/elevation/50cm-dem/z54/RemoteCapeMainland201808_Cycle6/RemoteCapeMainland201808-DEM-GRID-50cm_7548584_54_0001_0001.tif\n",
       "GriffithUniFugro_Tile_Index_55                       https://griffith-elvis.s3-ap-southeast-2.amazonaws.com/elevation/50cm-dem/z55/StLawrence201805_Cycle6/StLawrence201805-DEM-GRID-50cm_7627529_55_0001_0001.tif\n",
       "GriffithUniFugro_Tile_Index_56                         https://griffith-elvis.s3-ap-southeast-2.amazonaws.com/elevation/50cm-dem/z56/Bundaberg201801_Cycle6/Bundaberg201801-DEM-GRID-50cm_4547212_56_0001_0001.tif\n",
       "NSW_DPIE_Elevation_Metadata_Index                                                                         https://s3-ap-southeast-2.amazonaws.com/nsw-dpie-elvis/5m-dem/z55/NadgeeCoast2018_DEM_7605843_01_005.tif\n",
       "NSW_Tile_Index_56                                                              https://nsw-elvis.s3-ap-southeast-2.amazonaws.com/elevation/1m-dem/z56/Kiama202106/Kiama202106-LID1-AHD_3046168_56_0002_0002_1m.tif\n",
       "QLD_Bathy_Tile_Index_56                    https://qld-elvis.s3-ap-southeast-2.amazonaws.com/bathymetry/3m-dem/z56/Moreton_Bay_2022_Bathymetry_MSL/Moreton_Bay_2022_Bathymetry_MSL_SW_537250_6930169_1k_DEM_3m.tif\n",
       "QLD_Tile_Index_55                                                 https://qld-elvis.s3-ap-southeast-2.amazonaws.com/elevation/1m-dem/z55/Townsville_2018_Prj/Townsville_2018_Prj_SW_511000_7853000_1.0K_DEM_1m.tif\n",
       "QLD_Tile_Index_56                                                       https://qld-elvis.s3-ap-southeast-2.amazonaws.com/elevation/1m-dem/z56/Brisbane_2019_Prj/Brisbane_2019_Prj_SW_517000_6959000_1k_DEM_1m.tif\n",
       "SA_Tile_Index_53                                                                https://sa-elvis.s3-ap-southeast-2.amazonaws.com/elevation/1m-dem/z53/KangarooIsland2020/KangarooIsland2020_DEM_7216004_01_001.tif\n",
       "SA_Tile_Index_54                                                            https://sa-elvis.s3-ap-southeast-2.amazonaws.com/elevation/1m-dem/z54/SouthEastCoastal2018/SouthEastCoastal2018_DEM_4995787_01_001.tif\n",
       "TAS_DEM_Index_2m                                                                           https://s3.ap-southeast-2.amazonaws.com/tas-elvis/elevation/2m-dem/z55/mosaics/Tasmania_Statewide_2m_DEM_14-08-2021.tif\n",
       "TAS_Tile_Index_55                                                           https://tas-elvis.s3-ap-southeast-2.amazonaws.com/elevation/50cm-dem/z55/SouthCoast2021/SouthCoast2021-DEM-50cm_4695177_GDA2020_55.tif\n",
       "Name: s3_url, dtype: object"
      ]
     },
     "metadata": {},
     "output_type": "display_data"
    }
   ],
   "source": [
    "with pd.option_context('display.max_rows', 100, 'display.max_colwidth', 300):\n",
    "    display(combined_gdf.groupby(\"data_source\").first().s3_url)"
   ]
  },
  {
   "cell_type": "code",
   "execution_count": 105,
   "id": "921a32af-7843-4884-8209-988dbc23079b",
   "metadata": {
    "tags": []
   },
   "outputs": [
    {
     "data": {
      "text/plain": [
       "0        zip\n",
       "1        zip\n",
       "2        zip\n",
       "3        zip\n",
       "4        zip\n",
       "        ... \n",
       "17935    tif\n",
       "17936    tif\n",
       "17937    tif\n",
       "17938    tif\n",
       "17939    tif\n",
       "Name: s3_url, Length: 17940, dtype: object"
      ]
     },
     "execution_count": 105,
     "metadata": {},
     "output_type": "execute_result"
    }
   ],
   "source": [
    "# https://s3.ap-southeast-2.amazonaws.com/tas-elvis/elevation/2m-dem/z55/mosaics/Tasmania_Statewide_2m_DEM_14-08-2021.tif\n",
    "# https://tas-elvis.s3-ap-southeast-2.amazonaws.com/elevation/50cm-dem/z55/SouthCoast2021/SouthCoast2021-DEM-50cm_4695177_GDA2020_55.tif\n",
    "# https://cip-data-archive.s3-ap-southeast-2.amazonaws.com/2020-21/cep24-2020-21_golden-plains/external/epsg7855/golden-plains/regular_surface/dem_unmerged/cog/e259n5746_golden-plains_2021jul11_dem50cm_v10cm_epsg7855.tif"
   ]
  },
  {
   "cell_type": "code",
   "execution_count": 162,
   "id": "7ace5380-d590-4f52-af7e-eb8af7d89d51",
   "metadata": {
    "tags": []
   },
   "outputs": [
    {
     "data": {
      "text/html": [
       "<div>\n",
       "<style scoped>\n",
       "    .dataframe tbody tr th:only-of-type {\n",
       "        vertical-align: middle;\n",
       "    }\n",
       "\n",
       "    .dataframe tbody tr th {\n",
       "        vertical-align: top;\n",
       "    }\n",
       "\n",
       "    .dataframe thead th {\n",
       "        text-align: right;\n",
       "    }\n",
       "</style>\n",
       "<table border=\"1\" class=\"dataframe\">\n",
       "  <thead>\n",
       "    <tr style=\"text-align: right;\">\n",
       "      <th></th>\n",
       "      <th>data_source</th>\n",
       "      <th>project</th>\n",
       "      <th>year</th>\n",
       "      <th>resolution</th>\n",
       "      <th>s3_url</th>\n",
       "      <th>geometry</th>\n",
       "      <th>vsis3_path</th>\n",
       "    </tr>\n",
       "  </thead>\n",
       "  <tbody>\n",
       "  </tbody>\n",
       "</table>\n",
       "</div>"
      ],
      "text/plain": [
       "Empty GeoDataFrame\n",
       "Columns: [data_source, project, year, resolution, s3_url, geometry, vsis3_path]\n",
       "Index: []"
      ]
     },
     "execution_count": 162,
     "metadata": {},
     "output_type": "execute_result"
    }
   ],
   "source": [
    "combined_gdf.loc[combined_gdf.year.astype(int) >= 2023]   #.data_source.unique()   #.to_file(\"elvis_preprocessed.geojson\")"
   ]
  },
  {
   "cell_type": "code",
   "execution_count": 161,
   "id": "1704e6a9-347f-4ed6-9f4b-e6a3a276593e",
   "metadata": {
    "tags": []
   },
   "outputs": [
    {
     "data": {
      "text/html": [
       "<div>\n",
       "<style scoped>\n",
       "    .dataframe tbody tr th:only-of-type {\n",
       "        vertical-align: middle;\n",
       "    }\n",
       "\n",
       "    .dataframe tbody tr th {\n",
       "        vertical-align: top;\n",
       "    }\n",
       "\n",
       "    .dataframe thead th {\n",
       "        text-align: right;\n",
       "    }\n",
       "</style>\n",
       "<table border=\"1\" class=\"dataframe\">\n",
       "  <thead>\n",
       "    <tr style=\"text-align: right;\">\n",
       "      <th></th>\n",
       "      <th>data_source</th>\n",
       "      <th>project</th>\n",
       "      <th>year</th>\n",
       "      <th>resolution</th>\n",
       "      <th>s3_url</th>\n",
       "      <th>geometry</th>\n",
       "      <th>vsis3_path</th>\n",
       "    </tr>\n",
       "  </thead>\n",
       "  <tbody>\n",
       "  </tbody>\n",
       "</table>\n",
       "</div>"
      ],
      "text/plain": [
       "Empty GeoDataFrame\n",
       "Columns: [data_source, project, year, resolution, s3_url, geometry, vsis3_path]\n",
       "Index: []"
      ]
     },
     "metadata": {},
     "output_type": "display_data"
    }
   ],
   "source": [
    "with pd.option_context('display.max_rows', 100, 'display.max_colwidth', 300):\n",
    "    display(combined_gdf.query(\"data_source=='NSW-DPIE_Tile_Index_56'\"))"
   ]
  },
  {
   "cell_type": "code",
   "execution_count": null,
   "id": "2d16a847-d582-4f75-8ea0-28f45faf1e05",
   "metadata": {},
   "outputs": [],
   "source": []
  }
 ],
 "metadata": {
  "kernelspec": {
   "display_name": "Python 3 (ipykernel)",
   "language": "python",
   "name": "python3"
  },
  "language_info": {
   "codemirror_mode": {
    "name": "ipython",
    "version": 3
   },
   "file_extension": ".py",
   "mimetype": "text/x-python",
   "name": "python",
   "nbconvert_exporter": "python",
   "pygments_lexer": "ipython3",
   "version": "3.10.13"
  },
  "widgets": {
   "application/vnd.jupyter.widget-state+json": {
    "state": {},
    "version_major": 2,
    "version_minor": 0
   }
  }
 },
 "nbformat": 4,
 "nbformat_minor": 5
}

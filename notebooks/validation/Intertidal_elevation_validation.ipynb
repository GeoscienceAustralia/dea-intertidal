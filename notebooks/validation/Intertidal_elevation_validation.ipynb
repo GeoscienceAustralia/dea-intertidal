{
 "cells": [
  {
   "cell_type": "markdown",
   "id": "4d59afff-387d-456b-a791-35c3b64996d7",
   "metadata": {},
   "source": [
    "# DEA Intertidal Elevation validation"
   ]
  },
  {
   "cell_type": "code",
   "execution_count": null,
   "id": "181531a0-1f9a-4380-a477-871790d847b2",
   "metadata": {},
   "outputs": [],
   "source": [
    "cd ../.."
   ]
  },
  {
   "cell_type": "code",
   "execution_count": null,
   "id": "120fbe6c-7e77-42e7-b94e-ffe3b98adfc3",
   "metadata": {},
   "outputs": [],
   "source": [
    "pip install -r requirements.in --quiet"
   ]
  },
  {
   "cell_type": "code",
   "execution_count": null,
   "id": "d8e394c4-823b-4982-9b90-4dd476f434b9",
   "metadata": {
    "tags": []
   },
   "outputs": [],
   "source": [
    "pip install xarray-spatial"
   ]
  },
  {
   "cell_type": "code",
   "execution_count": null,
   "id": "212f3279-b557-49d1-8d5d-9962776f6182",
   "metadata": {},
   "outputs": [],
   "source": [
    "%load_ext autoreload\n",
    "%autoreload 2\n",
    "\n",
    "import glob \n",
    "import rioxarray\n",
    "import numpy as np\n",
    "import pandas as pd\n",
    "import matplotlib.pyplot as plt\n",
    "import geopandas as gpd\n",
    "from rasterio.errors import RasterioIOError\n",
    "import warnings\n",
    "warnings.filterwarnings(\"ignore\")\n",
    "\n",
    "import datacube\n",
    "import odc.geo.xr\n",
    "from odc.geo.geobox import GeoBox\n",
    "from odc.geo.geom import BoundingBox, Geometry\n",
    "from dea_tools.datahandling import load_reproject\n",
    "from dea_tools.dask import create_local_dask_cluster\n",
    "# from dea_tools.validation import eval_metrics\n",
    "\n",
    "from intertidal.validation import eval_metrics, map_raster, preprocess_validation\n",
    "\n",
    "config = {\n",
    "    \"db_hostname\": \"dea-dev-eks-proxy-share.endpoint.proxy-cxhoeczwhtar.ap-southeast-2.rds.amazonaws.com\",\n",
    "    \"db_database\": \"odc\",\n",
    "    \"db_username\": \"sandbox_reader\",\n",
    "    \"db_password\": \"ZWGRrBLmRs9WqTIj\",\n",
    "}\n",
    "dc = datacube.Datacube(config=config)\n",
    "\n",
    "client = create_local_dask_cluster(return_client=True)"
   ]
  },
  {
   "cell_type": "markdown",
   "id": "4869fd6c-b597-41c0-8f94-3087e009f586",
   "metadata": {},
   "source": [
    "## Validation sites from polygons"
   ]
  },
  {
   "cell_type": "code",
   "execution_count": null,
   "id": "8799ff15-f34d-43f4-a042-4fd2c69294bb",
   "metadata": {
    "tags": []
   },
   "outputs": [],
   "source": [
    "# Set up data paths\n",
    "resampling=\"average\"\n",
    "resolution=10\n",
    "\n",
    "# Load polygons\n",
    "# validation_sites_gdf = gpd.read_file(\"data/raw/validation_sites_2016.geojson\").query(\"Year == '2016'\")\n",
    "# validation_sites_gdf = pd.concat([gpd.read_file(i) for i in glob.glob(\"data/raw/validation_sites_*.geojson\")]).reset_index(drop=True)\n",
    "validation_sites_gdf = gpd.read_file(\"data/raw/validation_sites.geojson\").query(\"year != '2016'\")\n",
    "validation_sites_gdf[\"mod_path\"] = \"https://dea-public-data-dev.s3-ap-southeast-2.amazonaws.com/derivative/dea_intertidal/sample_data/virtual_rasters/DEV_2019_2021_elevation.vrt\"\n",
    "validation_sites_gdf[\"val_path\"] = \"/gdata1/projects/coastal/intertidal/Elevation_data/Processed/\" + validation_sites_gdf.year + \"_combined.tif\"\n",
    "# validation_sites_gdf.loc[0, \"mod_path\"] = \"data/processed/ga_s2ls_intertidal_cyear_3/0-0-1/x094/y145/2018--P1Y/ga_s2ls_intertidal_cyear_3_x094y145_2018--P1Y_final_elevation.tif\"\n",
    "\n",
    "# NIDEM comparison\n",
    "# validation_sites_gdf[\"mod_path\"] = \"/gdata1/data/nidem/NIDEM_mosaic.tif\"\n",
    "# resampling=\"average\"\n",
    "# resolution=25\n",
    "\n"
   ]
  },
  {
   "cell_type": "code",
   "execution_count": null,
   "id": "517ddc00-c4da-4be0-9361-9ab79d6f90e3",
   "metadata": {
    "tags": []
   },
   "outputs": [],
   "source": [
    "outputs = []\n",
    "\n",
    "for i, row in validation_sites_gdf.iterrows():\n",
    "    print(i)\n",
    "\n",
    "    try:\n",
    "        # Convert to Geometry and create GeoBox to load data into\n",
    "        poly = Geometry(row.geometry, crs=\"EPSG:4326\")\n",
    "        poly_geobox = odc.geo.geobox.GeoBox.from_geopolygon(\n",
    "            poly, crs=\"EPSG:3577\", resolution=resolution\n",
    "        )\n",
    "\n",
    "        # Load from datacube\n",
    "        dss = dc.find_datasets(\n",
    "            product=\"ga_s2ls_intertidal_cyear_3\",\n",
    "            time=\"2021\",\n",
    "            like=poly_geobox.compat,\n",
    "            # intertidal_category=\"macrotidal\",\n",
    "        )\n",
    "        tr = np.mean([i.metadata.search_fields[\"intertidal_tr\"] for i in dss])\n",
    "        otr = np.mean([i.metadata.search_fields[\"intertidal_otr\"] for i in dss])\n",
    "\n",
    "        modelled_ds = (\n",
    "            dc.load(\n",
    "                datasets=dss,\n",
    "                like=poly_geobox.compat,\n",
    "                measurements=[\"elevation\", \"uncertainty\"],\n",
    "                dask_chunks={\"x\": 2024, \"y\": 2048},\n",
    "                resampling=resampling,\n",
    "            )\n",
    "            .squeeze(\"time\")\n",
    "            .compute()\n",
    "        )\n",
    "        modelled_da = modelled_ds.elevation\n",
    "        uncertainty_da = modelled_ds.uncertainty\n",
    "\n",
    "        # modelled_ds = dc.load(\n",
    "        #             product=\"nidem\",\n",
    "        #             like=poly_geobox.compat,\n",
    "        #             dask_chunks={\"x\": 2048, \"y\": 2048},\n",
    "        #             resampling=resampling,\n",
    "        #         ).squeeze(\"time\")\n",
    "        # modelled_da = modelled_ds.nidem.compute()\n",
    "        # modelled_da = modelled_da.where(modelled_da > -10)\n",
    "\n",
    "        # Skip polygon if no modelled data available\n",
    "        if (~modelled_da.isnull()).sum().item() > 0:\n",
    "            # Load validation data into polygon GeoBox\n",
    "            validation_da = load_reproject(\n",
    "                path=row.val_path, how=poly_geobox, resampling=resampling\n",
    "            ).compute()\n",
    "\n",
    "            # Mask our data by our input polygon\n",
    "            modelled_da = modelled_da.odc.mask(poly=poly)\n",
    "\n",
    "            # Preprocess\n",
    "            validation_m, modelled_m, uncertainty_m = preprocess_validation(\n",
    "                modelled_da, validation_da, uncertainty_da\n",
    "            )\n",
    "\n",
    "            output_df = pd.DataFrame(\n",
    "                {\n",
    "                    \"i\": i,\n",
    "                    \"year\": row.year,\n",
    "                    \"tr\": tr,\n",
    "                    \"otr\": otr,\n",
    "                    \"validation_m\": validation_m,\n",
    "                    \"modelled_m\": modelled_m,\n",
    "                    \"uncertainty_m\": uncertainty_m,\n",
    "                }\n",
    "            )\n",
    "            outputs.append(output_df)\n",
    "\n",
    "    except (KeyError, RasterioIOError, IndexError, AssertionError):\n",
    "        pass\n",
    "\n",
    "# Combine and add additional columns\n",
    "outputs_all_df = pd.concat(outputs)\n",
    "outputs_all_df[\"uncertainty_perc\"] = outputs_all_df.uncertainty_m / outputs_all_df.tr\n",
    "outputs_all_df[\"category\"] = pd.cut(\n",
    "    outputs_all_df.tr,\n",
    "    bins=(0, 2, 4, np.inf),\n",
    "    labels=[\"microtidal\", \"mesotidal\", \"macrotidal\"],\n",
    ")"
   ]
  },
  {
   "cell_type": "code",
   "execution_count": null,
   "id": "5fe96c4c-eec6-41ae-add0-0dcc67856f03",
   "metadata": {
    "tags": []
   },
   "outputs": [],
   "source": [
    "# test = outputs_all_df.groupby(\"i\").first()"
   ]
  },
  {
   "cell_type": "code",
   "execution_count": null,
   "id": "13170b63-2733-49fc-b3a7-ff3742c85d2a",
   "metadata": {
    "tags": []
   },
   "outputs": [],
   "source": [
    "# test[\"category\"] = test.category.astype(str)"
   ]
  },
  {
   "cell_type": "code",
   "execution_count": null,
   "id": "25941421-8604-4f33-9fa8-204b183fbc85",
   "metadata": {
    "tags": []
   },
   "outputs": [],
   "source": [
    "# validation_sites_gdf.join(test).to_file(\"test.geojson\")"
   ]
  },
  {
   "cell_type": "code",
   "execution_count": null,
   "id": "a271b98c-269e-4a68-84de-3f8b5acc23b8",
   "metadata": {
    "tags": []
   },
   "outputs": [],
   "source": [
    "# Plot and compare - heatmap\n",
    "plt.figure(figsize=(5, 5))\n",
    "lim_min, lim_max = np.percentile(\n",
    "    np.concatenate([outputs_all_df.validation_m, outputs_all_df.modelled_m]), [1, 99]\n",
    ")\n",
    "lim_min -= 1\n",
    "lim_max += 1\n",
    "plt.hexbin(\n",
    "    x=outputs_all_df.validation_m,\n",
    "    y=outputs_all_df.modelled_m,\n",
    "    extent=(lim_min, lim_max, lim_min, lim_max),\n",
    "    cmap=\"inferno\",\n",
    "    # bins=\"log\",\n",
    ")\n",
    "plt.gca().set_facecolor(\"#0C0C0C\")\n",
    "plt.plot([lim_min, lim_max], [lim_min, lim_max], \"--\", c=\"white\")\n",
    "plt.margins(x=0, y=0)\n",
    "plt.xlabel(\"LiDAR DEM (m)\")\n",
    "plt.ylabel(\"Intertidal DEM (m)\")\n",
    "\n",
    "# Accuracy statistics\n",
    "print(eval_metrics(x=outputs_all_df.validation_m, y=outputs_all_df.modelled_m, round=3))\n",
    "print(f\"{len(outputs_all_df.modelled_m) * (10 * 10) * 0.000001:.2f} km sq\")\n"
   ]
  },
  {
   "cell_type": "code",
   "execution_count": null,
   "id": "3e9a1987-98b7-4ed7-9371-32417fb4372a",
   "metadata": {
    "tags": []
   },
   "outputs": [],
   "source": [
    "lim_min, lim_max = np.percentile(\n",
    "    np.concatenate([outputs_all_df.validation_m, outputs_all_df.modelled_m]), [1, 99]\n",
    ")\n",
    "lim_min -= 0.1\n",
    "lim_max += 0.1\n",
    "\n",
    "fig, axes = plt.subplots(1, 3, figsize=(12, 3.6), sharex=True, sharey=True)\n",
    "\n",
    "# Define a set of certainty ranges\n",
    "cert_ranges = [(0, 0.1), (0.1, 0.2), (0.2, 1.0)]\n",
    "\n",
    "out = {}\n",
    "for i, (min_thresh, max_thresh) in enumerate(cert_ranges):\n",
    "    outputs_subset_df = outputs_all_df.query(\n",
    "        \"(uncertainty_perc >= @min_thresh) & (uncertainty_perc < @max_thresh)\"\n",
    "    )\n",
    "\n",
    "    # Plot and compare - heatmap\n",
    "    axes[i].hexbin(\n",
    "        x=outputs_subset_df.validation_m,\n",
    "        y=outputs_subset_df.modelled_m,\n",
    "        extent=(lim_min, lim_max, lim_min, lim_max),\n",
    "        cmap=\"inferno\",\n",
    "        bins=20,\n",
    "        vmin=0,\n",
    "        vmax=12,\n",
    "        # edgecolors=\"face\",\n",
    "    )\n",
    "    axes[i].plot([lim_min, lim_max], [lim_min, lim_max], \"--\", c=\"white\")\n",
    "    axes[i].margins(x=0, y=0)\n",
    "    if i == 0:\n",
    "        axes[i].set_ylabel(\"Intertidal DEM (m)\")\n",
    "    elif i == 1:\n",
    "        axes[i].set_xlabel(\"LiDAR DEM (m)\")\n",
    "\n",
    "    # Accuracy statistics\n",
    "    print(\n",
    "        eval_metrics(\n",
    "            x=outputs_subset_df.validation_m, y=outputs_subset_df.modelled_m, round=3\n",
    "        )\n",
    "    )"
   ]
  },
  {
   "cell_type": "code",
   "execution_count": null,
   "id": "29d6c32e-b75f-414d-bc25-f20ffc35d9c8",
   "metadata": {
    "tags": []
   },
   "outputs": [],
   "source": [
    "import matplotlib.colors"
   ]
  },
  {
   "cell_type": "code",
   "execution_count": null,
   "id": "fd828165-45c3-4fa7-a3ec-6b8239d6177e",
   "metadata": {
    "tags": []
   },
   "outputs": [],
   "source": [
    "\n",
    "\n",
    "fig, axes = plt.subplots(1, 3, figsize=(12, 3.6))  #, sharex=True, sharey=True)\n",
    "\n",
    "# Define a set of certainty ranges\n",
    "cat_ranges = [\"microtidal\", \"mesotidal\", \"macrotidal\"]  #\n",
    "\n",
    "out = {}\n",
    "for i, cat in enumerate(cat_ranges):\n",
    "    outputs_subset_df = outputs_all_df.query(\"category == @cat\")\n",
    "    \n",
    "    lim_min, lim_max = np.percentile(\n",
    "    np.concatenate([outputs_subset_df.validation_m, outputs_subset_df.modelled_m]), [1, 99]\n",
    ")\n",
    "    lim_min -= 1\n",
    "    lim_max += 1\n",
    "\n",
    "    # Plot and compare - heatmap\n",
    "    axes[i].hexbin(\n",
    "        x=outputs_subset_df.validation_m,\n",
    "        y=outputs_subset_df.modelled_m,\n",
    "        extent=(lim_min, lim_max, lim_min, lim_max),\n",
    "        cmap=\"inferno\",\n",
    "        # mincnt=5,\n",
    "        # bins=\"log\",\n",
    "    )\n",
    "    axes[i].set_facecolor(\"#0C0C0C\")\n",
    "    axes[i].plot([lim_min, lim_max], [lim_min, lim_max], \"--\", c=\"white\")\n",
    "    axes[i].margins(x=0, y=0)\n",
    "    if i == 0:\n",
    "        axes[i].set_ylabel(\"Intertidal DEM (m)\")\n",
    "    elif i == 1:\n",
    "        axes[i].set_xlabel(\"LiDAR DEM (m)\")\n",
    "\n",
    "    # Accuracy statistics\n",
    "    print(\n",
    "        eval_metrics(\n",
    "            x=outputs_subset_df.validation_m, y=outputs_subset_df.modelled_m, round=3\n",
    "        )\n",
    "    )"
   ]
  },
  {
   "cell_type": "code",
   "execution_count": null,
   "id": "805d4f8e-5f64-48a7-985a-b580a59b2a91",
   "metadata": {},
   "outputs": [],
   "source": []
  },
  {
   "cell_type": "code",
   "execution_count": null,
   "id": "ae2c0f03-9bb4-4949-bddb-e101e1756b87",
   "metadata": {},
   "outputs": [],
   "source": []
  },
  {
   "cell_type": "code",
   "execution_count": null,
   "id": "7c96be29-58d8-4be4-8f49-62a718ea6071",
   "metadata": {},
   "outputs": [],
   "source": []
  },
  {
   "cell_type": "code",
   "execution_count": null,
   "id": "106da9cb-41df-44a9-971d-fe7c5d58f230",
   "metadata": {},
   "outputs": [],
   "source": []
  },
  {
   "cell_type": "code",
   "execution_count": null,
   "id": "15442780-8f09-4d5c-966e-96d46dc75944",
   "metadata": {},
   "outputs": [],
   "source": []
  },
  {
   "cell_type": "code",
   "execution_count": null,
   "id": "744be57b-983f-45ba-843f-c04442aa5969",
   "metadata": {},
   "outputs": [],
   "source": []
  },
  {
   "cell_type": "code",
   "execution_count": null,
   "id": "93c05e3d-8442-4b3a-809e-6d312043f030",
   "metadata": {},
   "outputs": [],
   "source": [
    "fig, axes = plt.subplots(1, 5, figsize=(12, 2), sharex=True, sharey=True)\n",
    "\n",
    "# Define a set of certainty ranges\n",
    "cert_ranges = [(0, 0.1), (0.1, 0.2), (0.2, 0.5), (0.5, 1.0)]\n",
    "\n",
    "out = {}\n",
    "for i, (min_thresh, max_thresh) in enumerate(cert_ranges):\n",
    "    \n",
    "    # Extract subset of modelled elevation according to certainty range\n",
    "    modelled_ds_subset = modelled_ds.where(\n",
    "        (uncertainty_ds >= min_thresh) * (uncertainty_ds < max_thresh)\n",
    "    )\n",
    "\n",
    "    # Preprocess\n",
    "    validation_z, modelled_z = preprocess_validation(\n",
    "        modelled_ds_subset, validation_ds, None\n",
    "    )\n",
    "\n",
    "    # Compute accuracy metrics\n",
    "    certainty_str = f\"{min_thresh}-{max_thresh}\"\n",
    "    out[certainty_str] = eval_metrics(\n",
    "        x=validation_z, y=modelled_z, round=3\n",
    "    )\n",
    "    \n",
    "    # Plot heatmaps\n",
    "    axes[i].hexbin(\n",
    "    x=validation_z,\n",
    "    y=modelled_z,\n",
    "    extent=(lim_min, lim_max, lim_min, lim_max),\n",
    "    cmap=\"inferno\",\n",
    ")\n",
    "    axes[i].plot([lim_min, lim_max], [lim_min, lim_max], \"--\", c=\"white\")\n",
    "    axes[i].margins(x=0, y=0)\n",
    "    axes[i].set_title(f\"Certainty: {certainty_str} m\")\n",
    "    if i == 2:\n",
    "        axes[i].set_xlabel(\"LiDAR DEM (m)\")\n",
    "    if i == 0:\n",
    "        axes[i].set_ylabel(\"Intertidal DEM (m)\")\n",
    "\n",
    "# Combine into a single dataframe\n",
    "combined_df = pd.concat(out, axis=1)\n",
    "combined_df.T.plot()\n",
    "plt.gca().set_title(\"Accuracy statistics by certainty\")\n",
    "print(combined_df)"
   ]
  },
  {
   "cell_type": "code",
   "execution_count": null,
   "id": "0a44f683-a943-4a61-bf26-754731484677",
   "metadata": {
    "tags": []
   },
   "outputs": [],
   "source": [
    "validation_all = np.concatenate(validation_zs)\n",
    "modelled_all = np.concatenate(modelled_zs)\n",
    "\n",
    "# Plot and compare - heatmap\n",
    "plt.figure(figsize=(5, 5))\n",
    "lim_min, lim_max = np.percentile(\n",
    "    np.concatenate([validation_all, modelled_all]), [1, 99]\n",
    ")\n",
    "lim_min -= 0.1\n",
    "lim_max += 0.1\n",
    "plt.hexbin(\n",
    "    x=validation_all,\n",
    "    y=modelled_all,\n",
    "    extent=(lim_min, lim_max, lim_min, lim_max),\n",
    "    cmap=\"inferno\",\n",
    ")\n",
    "plt.plot([lim_min, lim_max], [lim_min, lim_max], \"--\", c=\"white\")\n",
    "plt.margins(x=0, y=0)\n",
    "plt.xlabel(\"LiDAR DEM (m)\")\n",
    "plt.ylabel(\"Intertidal DEM (m)\")\n",
    "\n",
    "# Accuracy statistics\n",
    "print(eval_metrics(x=validation_all, y=modelled_all, round=3))\n",
    "print(f\"{len(modelled_all) * (10 * 10) * 0.000001} km sq\")"
   ]
  },
  {
   "cell_type": "code",
   "execution_count": null,
   "id": "9fdaf6f9-aea3-44e2-bdb6-b946c097e8c7",
   "metadata": {
    "tags": []
   },
   "outputs": [],
   "source": [
    "validation_all = np.concatenate(validation_zs)\n",
    "modelled_all = np.concatenate(modelled_zs)\n",
    "\n",
    "# Plot and compare - heatmap\n",
    "plt.figure(figsize=(5, 5))\n",
    "lim_min, lim_max = np.percentile(\n",
    "    np.concatenate([validation_all, modelled_all]), [1, 99]\n",
    ")\n",
    "lim_min -= 0.1\n",
    "lim_max += 0.1\n",
    "plt.hexbin(\n",
    "    x=validation_all,\n",
    "    y=modelled_all,\n",
    "    extent=(lim_min, lim_max, lim_min, lim_max),\n",
    "    cmap=\"inferno\",\n",
    ")\n",
    "plt.plot([lim_min, lim_max], [lim_min, lim_max], \"--\", c=\"white\")\n",
    "plt.margins(x=0, y=0)\n",
    "plt.xlabel(\"LiDAR DEM (m)\")\n",
    "plt.ylabel(\"Intertidal DEM (m)\")\n",
    "\n",
    "# Accuracy statistics\n",
    "print(eval_metrics(x=validation_all, y=modelled_all, round=3))\n",
    "print(f\"{len(modelled_all) * (10 * 10) * 0.000001} km sq\")"
   ]
  },
  {
   "cell_type": "code",
   "execution_count": null,
   "id": "7677f66d-6afb-4b56-9e18-d8f6339da228",
   "metadata": {
    "tags": []
   },
   "outputs": [],
   "source": [
    "validation_all = np.concatenate(validation_zs)\n",
    "modelled_all = np.concatenate(modelled_zs)\n",
    "\n",
    "# Plot and compare - heatmap\n",
    "plt.figure(figsize=(5, 5))\n",
    "lim_min, lim_max = np.percentile(\n",
    "    np.concatenate([validation_all, modelled_all]), [2, 98]\n",
    ")\n",
    "lim_min -= 0.2\n",
    "lim_max += 0.2\n",
    "plt.hexbin(\n",
    "    x=validation_all,\n",
    "    y=modelled_all,\n",
    "    extent=(lim_min, lim_max, lim_min, lim_max),\n",
    "    cmap=\"inferno\",\n",
    ")\n",
    "plt.plot([lim_min, lim_max], [lim_min, lim_max], \"--\", c=\"white\")\n",
    "plt.margins(x=0, y=0)\n",
    "plt.xlabel(\"LiDAR DEM (m)\")\n",
    "plt.ylabel(\"Intertidal DEM (m)\")\n",
    "\n",
    "# Accuracy statistics\n",
    "print(eval_metrics(x=validation_all, y=modelled_all, round=3))\n",
    "print(f\"{len(modelled_all) * (10 * 10) * 0.000001} km sq\")"
   ]
  },
  {
   "cell_type": "markdown",
   "id": "ea7f4d25-dd06-42f5-84cb-976324bc0ee3",
   "metadata": {},
   "source": [
    "## Individual validations"
   ]
  },
  {
   "cell_type": "markdown",
   "id": "c90bbaa3-1243-46f2-9c70-6904335ab9cf",
   "metadata": {},
   "source": [
    "#### NT LiDAR"
   ]
  },
  {
   "cell_type": "code",
   "execution_count": null,
   "id": "678439e6-e609-4c2c-a5a4-398d20ec3b96",
   "metadata": {},
   "outputs": [],
   "source": [
    "# Setup\n",
    "val_path = \"data/raw/lidar_10m.tif\"\n",
    "mod_path = \"https://dea-public-data-dev.s3-ap-southeast-2.amazonaws.com/derivative/dea_intertidal/sample_data/virtual_rasters/DEV_2019_2021_elevation.vrt\"\n",
    "unc_path = \"https://dea-public-data-dev.s3-ap-southeast-2.amazonaws.com/derivative/dea_intertidal/sample_data/virtual_rasters/DEV_2019_2021_elevation_uncertainty.vrt\"\n",
    "resampling = \"average\"\n",
    "\n",
    "# Load LIDAR validation data\n",
    "validation_ds = (\n",
    "    rioxarray.open_rasterio(val_path, masked=True)\n",
    "    .squeeze(\"band\")\n",
    "    .sel(x=slice(623294, 720470), y=slice(8275633, 8214379))\n",
    ")\n",
    "validation_ds.name = \"validation_ds\"\n",
    "\n",
    "# Load modelled elevation and uncertainty data\n",
    "modelled_ds = load_reproject(\n",
    "    path=mod_path,\n",
    "    gbox=validation_ds.odc.geobox,\n",
    "    name=\"modelled_ds\",\n",
    "    resampling=resampling,\n",
    ")\n",
    "uncertainty_ds = load_reproject(\n",
    "    path=unc_path,\n",
    "    gbox=validation_ds.odc.geobox,\n",
    "    name=\"uncertainty_ds\",\n",
    "    resampling=resampling,\n",
    ")"
   ]
  },
  {
   "cell_type": "markdown",
   "id": "870b5f94-c8df-4bdc-b1dc-512adb036952",
   "metadata": {},
   "source": [
    "#### Testing tiles"
   ]
  },
  {
   "cell_type": "code",
   "execution_count": null,
   "id": "e097b96d-b7b0-4c77-8dbe-affdb7624292",
   "metadata": {
    "tags": []
   },
   "outputs": [],
   "source": [
    "# Setup\n",
    "val_path = \"data/raw/lidar_10m.tif\"\n",
    "mod_path1 = f\"data/interim/x99y118/2019-2021/x99y118_2019_2021_elevation.tif\"\n",
    "mod_path2 = f\"data/interim/x98y118/2019-2021/x98y118_2019_2021_elevation.tif\"\n",
    "mod_path3 = f\"data/interim/x100y117/2019-2021/x100y117_2019_2021_elevation.tif\"\n",
    "mod_path4 = f\"data/interim/x99y117/2019-2021/x99y117_2019_2021_elevation.tif\"\n",
    "# mod_path1 = f\"data/interim/x99y118/2019-2021-spearman/x99y118_2019_2021_elevation_uncertainty.tif\"\n",
    "# mod_path2 = f\"data/interim/x98y118/2019-2021-spearman/x98y118_2019_2021_elevation_uncertainty.tif\"\n",
    "# mod_path3 = f\"data/interim/x100y117/2019-2021-spearman/x100y117_2019_2021_elevation_uncertainty.tif\"\n",
    "# mod_path4 = f\"data/interim/x99y117/2019-2021-spearman/x99y117_2019_2021_elevation_uncertainty.tif\"\n",
    "resampling = \"average\"\n",
    "\n",
    "# Load LIDAR validation data\n",
    "validation_ds = (\n",
    "    rioxarray.open_rasterio(val_path, masked=True)\n",
    "    .squeeze(\"band\")\n",
    "    .sel(x=slice(623294, 720470), y=slice(8275633, 8214379))\n",
    ")\n",
    "validation_ds.name = \"validation_ds\"\n",
    "\n",
    "# Load modelled elevation and uncertainty data\n",
    "modelled_ds1 = load_reproject(\n",
    "    path=mod_path1,\n",
    "    gbox=validation_ds.odc.geobox,\n",
    "    name=\"modelled_ds\",\n",
    "    resampling=resampling,\n",
    "    dst_nodata=np.nan,\n",
    ")\n",
    "modelled_ds2 = load_reproject(\n",
    "    path=mod_path2,\n",
    "    gbox=validation_ds.odc.geobox,\n",
    "    name=\"modelled_ds\",\n",
    "    resampling=resampling,\n",
    "    dst_nodata=np.nan,\n",
    ")\n",
    "modelled_ds3 = load_reproject(\n",
    "    path=mod_path3,\n",
    "    gbox=validation_ds.odc.geobox,\n",
    "    name=\"modelled_ds\",\n",
    "    resampling=resampling,\n",
    "    dst_nodata=np.nan,\n",
    ")\n",
    "modelled_ds4 = load_reproject(\n",
    "    path=mod_path4,\n",
    "    gbox=validation_ds.odc.geobox,\n",
    "    name=\"modelled_ds\",\n",
    "    resampling=resampling,\n",
    "    dst_nodata=np.nan,\n",
    ")\n",
    "modelled_ds = (\n",
    "    modelled_ds1.combine_first(modelled_ds2)\n",
    "    .combine_first(modelled_ds3)\n",
    "    .combine_first(modelled_ds4)\n",
    ")"
   ]
  },
  {
   "cell_type": "code",
   "execution_count": null,
   "id": "837e38dc-b8c4-4e99-b824-b34ae5980ced",
   "metadata": {
    "tags": []
   },
   "outputs": [],
   "source": [
    "# modelled_ds.plot.imshow()"
   ]
  },
  {
   "cell_type": "markdown",
   "id": "b3880005-2264-49e7-8e9f-98ab2758e453",
   "metadata": {},
   "source": [
    "#### Moreton Bay SDB"
   ]
  },
  {
   "cell_type": "code",
   "execution_count": null,
   "id": "8585e9f5-bad1-494f-9f91-6a452333b578",
   "metadata": {
    "tags": []
   },
   "outputs": [],
   "source": [
    "# Setup\n",
    "val_path = \"data/raw/SDB_AUS_MoretonBay_EOMAP_20220808_20230414_3m_MSL_geotiff.tif\"\n",
    "mod_path = \"https://dea-public-data-dev.s3-ap-southeast-2.amazonaws.com/derivative/dea_intertidal/sample_data/virtual_rasters/DEV_2019_2021_elevation.vrt\"\n",
    "unc_path = \"https://dea-public-data-dev.s3-ap-southeast-2.amazonaws.com/derivative/dea_intertidal/sample_data/virtual_rasters/DEV_2019_2021_elevation_uncertainty.vrt\"\n",
    "resampling = \"average\"\n",
    "\n",
    "# Set geobox for specific bounding box\n",
    "bbox = BoundingBox(2050863, -3186980, 2091372, -3070780, crs=\"EPSG:3577\")\n",
    "bbox = BoundingBox(2054949, -3158856, 2090075, -3130736, crs=\"EPSG:3577\")\n",
    "gbox = GeoBox.from_bbox(bbox, resolution=10)\n",
    "\n",
    "# Load SDB as validation data\n",
    "validation_ds = load_reproject(\n",
    "    path=val_path, gbox=gbox, name=\"validation_ds\", resampling=resampling\n",
    ")\n",
    "\n",
    "# Load modelled elevation and uncertainty data\n",
    "modelled_ds = load_reproject(\n",
    "    path=mod_path,\n",
    "    gbox=validation_ds.odc.geobox,\n",
    "    name=\"modelled_ds\",\n",
    "    resampling=resampling,\n",
    ")\n",
    "uncertainty_ds = load_reproject(\n",
    "    path=unc_path,\n",
    "    gbox=validation_ds.odc.geobox,\n",
    "    name=\"uncertainty_ds\",\n",
    "    resampling=resampling,\n",
    ")"
   ]
  },
  {
   "cell_type": "markdown",
   "id": "250b1542-e5b0-44e7-9ad9-a59911f7de97",
   "metadata": {},
   "source": [
    "### Plot layers"
   ]
  },
  {
   "cell_type": "code",
   "execution_count": null,
   "id": "eeedb491-59af-4781-898e-8283f4636392",
   "metadata": {},
   "outputs": [],
   "source": [
    "# Calculate difference\n",
    "diff_ds = validation_ds - modelled_ds\n",
    "diff_ds = diff_ds.odc.assign_crs(modelled_ds.odc.crs)\n",
    "diff_ds.name = \"difference\"\n",
    "\n",
    "# Plot both layers\n",
    "map_raster(\n",
    "    [validation_ds, modelled_ds, diff_ds],\n",
    "    vmin=[-10.0, -10.0, -1.0],\n",
    "    vmax=[0.5, 0.5, 1.0 ],\n",
    "    cmap=[\"viridis\", \"viridis\", \"RdBu\"],\n",
    ")"
   ]
  },
  {
   "cell_type": "markdown",
   "id": "325b8027-d7a7-4696-b8da-1cd671dcc170",
   "metadata": {
    "tags": []
   },
   "source": [
    "#### Validate modelled elevation against validation elevation"
   ]
  },
  {
   "cell_type": "code",
   "execution_count": null,
   "id": "757d1e03-6da3-4762-bfe6-09bfa01ebef9",
   "metadata": {
    "tags": []
   },
   "outputs": [],
   "source": [
    "# Preprocess\n",
    "validation_z, modelled_z = preprocess_validation(modelled_ds-0.18, validation_ds, None)\n",
    "\n",
    "# Plot and compare - heatmap\n",
    "plt.figure(figsize=(5, 5))\n",
    "lim_min, lim_max = np.percentile(np.concatenate([validation_z, modelled_z]), [1, 99])\n",
    "lim_min -= 0.2\n",
    "lim_max += 0.2\n",
    "plt.hexbin(\n",
    "    x=validation_z,\n",
    "    y=modelled_z,\n",
    "    extent=(lim_min, lim_max, lim_min, lim_max),\n",
    "    cmap=\"inferno\",\n",
    ")\n",
    "plt.plot([lim_min, lim_max], [lim_min, lim_max], \"--\", c=\"white\")\n",
    "plt.margins(x=0, y=0)\n",
    "plt.xlabel(\"LiDAR DEM (m)\")\n",
    "plt.ylabel(\"Intertidal DEM (m)\")\n",
    "\n",
    "# Accuracy statistics\n",
    "eval_metrics(x=validation_z, y=modelled_z, round=3)"
   ]
  },
  {
   "cell_type": "markdown",
   "id": "ec1b6d4e-cda7-4adf-815e-773d8f36d038",
   "metadata": {},
   "source": [
    "#### Compare elevation accuracy by uncertainty"
   ]
  },
  {
   "cell_type": "code",
   "execution_count": null,
   "id": "20ebe676-eafb-4421-88d4-27ec2ce9d215",
   "metadata": {},
   "outputs": [],
   "source": [
    "fig, axes = plt.subplots(1, 5, figsize=(12, 2), sharex=True, sharey=True)\n",
    "\n",
    "# Define a set of certainty ranges\n",
    "cert_ranges = [(0, 0.25), (0.25, 0.5), (0.5, 0.75), (0.75, 1.0), (1.0, 10.0)]\n",
    "\n",
    "out = {}\n",
    "for i, (min_thresh, max_thresh) in enumerate(cert_ranges):\n",
    "    \n",
    "    # Extract subset of modelled elevation according to certainty range\n",
    "    modelled_ds_subset = modelled_ds.where(\n",
    "        (uncertainty_ds >= min_thresh) * (uncertainty_ds < max_thresh)\n",
    "    )\n",
    "\n",
    "    # Preprocess\n",
    "    validation_z, modelled_z = preprocess_validation(\n",
    "        modelled_ds_subset, validation_ds, None\n",
    "    )\n",
    "\n",
    "    # Compute accuracy metrics\n",
    "    certainty_str = f\"{min_thresh}-{max_thresh}\"\n",
    "    out[certainty_str] = eval_metrics(\n",
    "        x=validation_z, y=modelled_z, round=3\n",
    "    )\n",
    "    \n",
    "    # Plot heatmaps\n",
    "    axes[i].hexbin(\n",
    "    x=validation_z,\n",
    "    y=modelled_z,\n",
    "    extent=(lim_min, lim_max, lim_min, lim_max),\n",
    "    cmap=\"inferno\",\n",
    ")\n",
    "    axes[i].plot([lim_min, lim_max], [lim_min, lim_max], \"--\", c=\"white\")\n",
    "    axes[i].margins(x=0, y=0)\n",
    "    axes[i].set_title(f\"Certainty: {certainty_str} m\")\n",
    "    if i == 2:\n",
    "        axes[i].set_xlabel(\"LiDAR DEM (m)\")\n",
    "    if i == 0:\n",
    "        axes[i].set_ylabel(\"Intertidal DEM (m)\")\n",
    "\n",
    "# Combine into a single dataframe\n",
    "combined_df = pd.concat(out, axis=1)\n",
    "combined_df.T.plot()\n",
    "plt.gca().set_title(\"Accuracy statistics by certainty\")\n",
    "print(combined_df)"
   ]
  }
 ],
 "metadata": {
  "kernelspec": {
   "display_name": "Python 3 (ipykernel)",
   "language": "python",
   "name": "python3"
  },
  "language_info": {
   "codemirror_mode": {
    "name": "ipython",
    "version": 3
   },
   "file_extension": ".py",
   "mimetype": "text/x-python",
   "name": "python",
   "nbconvert_exporter": "python",
   "pygments_lexer": "ipython3",
   "version": "3.10.13"
  },
  "widgets": {
   "application/vnd.jupyter.widget-state+json": {
    "state": {},
    "version_major": 2,
    "version_minor": 0
   }
  }
 },
 "nbformat": 4,
 "nbformat_minor": 5
}

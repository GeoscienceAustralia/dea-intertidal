{
 "cells": [
  {
   "cell_type": "markdown",
   "id": "4d59afff-387d-456b-a791-35c3b64996d7",
   "metadata": {},
   "source": [
    "# DEA Intertidal Elevation validation"
   ]
  },
  {
   "cell_type": "code",
   "execution_count": 1,
   "id": "181531a0-1f9a-4380-a477-871790d847b2",
   "metadata": {},
   "outputs": [
    {
     "name": "stdout",
     "output_type": "stream",
     "text": [
      "/home/jovyan/Robbi/dea-intertidal\n"
     ]
    }
   ],
   "source": [
    "cd ../.."
   ]
  },
  {
   "cell_type": "code",
   "execution_count": null,
   "id": "120fbe6c-7e77-42e7-b94e-ffe3b98adfc3",
   "metadata": {},
   "outputs": [],
   "source": [
    "pip install -r requirements.in --quiet"
   ]
  },
  {
   "cell_type": "code",
   "execution_count": null,
   "id": "d8e394c4-823b-4982-9b90-4dd476f434b9",
   "metadata": {
    "tags": []
   },
   "outputs": [],
   "source": [
    "pip install xarray-spatial"
   ]
  },
  {
   "cell_type": "code",
   "execution_count": 2,
   "id": "212f3279-b557-49d1-8d5d-9962776f6182",
   "metadata": {},
   "outputs": [
    {
     "data": {
      "text/html": [
       "<div>\n",
       "    <div style=\"width: 24px; height: 24px; background-color: #e1e1e1; border: 3px solid #9D9D9D; border-radius: 5px; position: absolute;\"> </div>\n",
       "    <div style=\"margin-left: 48px;\">\n",
       "        <h3 style=\"margin-bottom: 0px;\">Client</h3>\n",
       "        <p style=\"color: #9D9D9D; margin-bottom: 0px;\">Client-31de2369-d069-11ee-869a-1e13431880f9</p>\n",
       "        <table style=\"width: 100%; text-align: left;\">\n",
       "\n",
       "        <tr>\n",
       "        \n",
       "            <td style=\"text-align: left;\"><strong>Connection method:</strong> Cluster object</td>\n",
       "            <td style=\"text-align: left;\"><strong>Cluster type:</strong> distributed.LocalCluster</td>\n",
       "        \n",
       "        </tr>\n",
       "\n",
       "        \n",
       "            <tr>\n",
       "                <td style=\"text-align: left;\">\n",
       "                    <strong>Dashboard: </strong> <a href=\"/user/robbi.bishoptaylor@ga.gov.au/proxy/8787/status\" target=\"_blank\">/user/robbi.bishoptaylor@ga.gov.au/proxy/8787/status</a>\n",
       "                </td>\n",
       "                <td style=\"text-align: left;\"></td>\n",
       "            </tr>\n",
       "        \n",
       "\n",
       "        </table>\n",
       "\n",
       "        \n",
       "            <button style=\"margin-bottom: 12px;\" data-commandlinker-command=\"dask:populate-and-launch-layout\" data-commandlinker-args='{\"url\": \"/user/robbi.bishoptaylor@ga.gov.au/proxy/8787/status\" }'>\n",
       "                Launch dashboard in JupyterLab\n",
       "            </button>\n",
       "        \n",
       "\n",
       "        \n",
       "            <details>\n",
       "            <summary style=\"margin-bottom: 20px;\"><h3 style=\"display: inline;\">Cluster Info</h3></summary>\n",
       "            <div class=\"jp-RenderedHTMLCommon jp-RenderedHTML jp-mod-trusted jp-OutputArea-output\">\n",
       "    <div style=\"width: 24px; height: 24px; background-color: #e1e1e1; border: 3px solid #9D9D9D; border-radius: 5px; position: absolute;\">\n",
       "    </div>\n",
       "    <div style=\"margin-left: 48px;\">\n",
       "        <h3 style=\"margin-bottom: 0px; margin-top: 0px;\">LocalCluster</h3>\n",
       "        <p style=\"color: #9D9D9D; margin-bottom: 0px;\">c9b0d851</p>\n",
       "        <table style=\"width: 100%; text-align: left;\">\n",
       "            <tr>\n",
       "                <td style=\"text-align: left;\">\n",
       "                    <strong>Dashboard:</strong> <a href=\"/user/robbi.bishoptaylor@ga.gov.au/proxy/8787/status\" target=\"_blank\">/user/robbi.bishoptaylor@ga.gov.au/proxy/8787/status</a>\n",
       "                </td>\n",
       "                <td style=\"text-align: left;\">\n",
       "                    <strong>Workers:</strong> 1\n",
       "                </td>\n",
       "            </tr>\n",
       "            <tr>\n",
       "                <td style=\"text-align: left;\">\n",
       "                    <strong>Total threads:</strong> 15\n",
       "                </td>\n",
       "                <td style=\"text-align: left;\">\n",
       "                    <strong>Total memory:</strong> 117.21 GiB\n",
       "                </td>\n",
       "            </tr>\n",
       "            \n",
       "            <tr>\n",
       "    <td style=\"text-align: left;\"><strong>Status:</strong> running</td>\n",
       "    <td style=\"text-align: left;\"><strong>Using processes:</strong> True</td>\n",
       "</tr>\n",
       "\n",
       "            \n",
       "        </table>\n",
       "\n",
       "        <details>\n",
       "            <summary style=\"margin-bottom: 20px;\">\n",
       "                <h3 style=\"display: inline;\">Scheduler Info</h3>\n",
       "            </summary>\n",
       "\n",
       "            <div style=\"\">\n",
       "    <div>\n",
       "        <div style=\"width: 24px; height: 24px; background-color: #FFF7E5; border: 3px solid #FF6132; border-radius: 5px; position: absolute;\"> </div>\n",
       "        <div style=\"margin-left: 48px;\">\n",
       "            <h3 style=\"margin-bottom: 0px;\">Scheduler</h3>\n",
       "            <p style=\"color: #9D9D9D; margin-bottom: 0px;\">Scheduler-804d0c07-7be4-40d6-8689-9a76337e3e13</p>\n",
       "            <table style=\"width: 100%; text-align: left;\">\n",
       "                <tr>\n",
       "                    <td style=\"text-align: left;\">\n",
       "                        <strong>Comm:</strong> tcp://127.0.0.1:46209\n",
       "                    </td>\n",
       "                    <td style=\"text-align: left;\">\n",
       "                        <strong>Workers:</strong> 1\n",
       "                    </td>\n",
       "                </tr>\n",
       "                <tr>\n",
       "                    <td style=\"text-align: left;\">\n",
       "                        <strong>Dashboard:</strong> <a href=\"/user/robbi.bishoptaylor@ga.gov.au/proxy/8787/status\" target=\"_blank\">/user/robbi.bishoptaylor@ga.gov.au/proxy/8787/status</a>\n",
       "                    </td>\n",
       "                    <td style=\"text-align: left;\">\n",
       "                        <strong>Total threads:</strong> 15\n",
       "                    </td>\n",
       "                </tr>\n",
       "                <tr>\n",
       "                    <td style=\"text-align: left;\">\n",
       "                        <strong>Started:</strong> Just now\n",
       "                    </td>\n",
       "                    <td style=\"text-align: left;\">\n",
       "                        <strong>Total memory:</strong> 117.21 GiB\n",
       "                    </td>\n",
       "                </tr>\n",
       "            </table>\n",
       "        </div>\n",
       "    </div>\n",
       "\n",
       "    <details style=\"margin-left: 48px;\">\n",
       "        <summary style=\"margin-bottom: 20px;\">\n",
       "            <h3 style=\"display: inline;\">Workers</h3>\n",
       "        </summary>\n",
       "\n",
       "        \n",
       "        <div style=\"margin-bottom: 20px;\">\n",
       "            <div style=\"width: 24px; height: 24px; background-color: #DBF5FF; border: 3px solid #4CC9FF; border-radius: 5px; position: absolute;\"> </div>\n",
       "            <div style=\"margin-left: 48px;\">\n",
       "            <details>\n",
       "                <summary>\n",
       "                    <h4 style=\"margin-bottom: 0px; display: inline;\">Worker: 0</h4>\n",
       "                </summary>\n",
       "                <table style=\"width: 100%; text-align: left;\">\n",
       "                    <tr>\n",
       "                        <td style=\"text-align: left;\">\n",
       "                            <strong>Comm: </strong> tcp://127.0.0.1:43227\n",
       "                        </td>\n",
       "                        <td style=\"text-align: left;\">\n",
       "                            <strong>Total threads: </strong> 15\n",
       "                        </td>\n",
       "                    </tr>\n",
       "                    <tr>\n",
       "                        <td style=\"text-align: left;\">\n",
       "                            <strong>Dashboard: </strong> <a href=\"/user/robbi.bishoptaylor@ga.gov.au/proxy/39187/status\" target=\"_blank\">/user/robbi.bishoptaylor@ga.gov.au/proxy/39187/status</a>\n",
       "                        </td>\n",
       "                        <td style=\"text-align: left;\">\n",
       "                            <strong>Memory: </strong> 117.21 GiB\n",
       "                        </td>\n",
       "                    </tr>\n",
       "                    <tr>\n",
       "                        <td style=\"text-align: left;\">\n",
       "                            <strong>Nanny: </strong> tcp://127.0.0.1:42131\n",
       "                        </td>\n",
       "                        <td style=\"text-align: left;\"></td>\n",
       "                    </tr>\n",
       "                    <tr>\n",
       "                        <td colspan=\"2\" style=\"text-align: left;\">\n",
       "                            <strong>Local directory: </strong> /tmp/dask-worker-space/worker-iapn89rr\n",
       "                        </td>\n",
       "                    </tr>\n",
       "\n",
       "                    \n",
       "\n",
       "                    \n",
       "\n",
       "                </table>\n",
       "            </details>\n",
       "            </div>\n",
       "        </div>\n",
       "        \n",
       "\n",
       "    </details>\n",
       "</div>\n",
       "\n",
       "        </details>\n",
       "    </div>\n",
       "</div>\n",
       "            </details>\n",
       "        \n",
       "\n",
       "    </div>\n",
       "</div>"
      ],
      "text/plain": [
       "<Client: 'tcp://127.0.0.1:46209' processes=1 threads=15, memory=117.21 GiB>"
      ]
     },
     "metadata": {},
     "output_type": "display_data"
    }
   ],
   "source": [
    "%load_ext autoreload\n",
    "%autoreload 2\n",
    "\n",
    "import rioxarray\n",
    "import numpy as np\n",
    "import pandas as pd\n",
    "import matplotlib.pyplot as plt\n",
    "import geopandas as gpd\n",
    "\n",
    "import odc.geo.xr\n",
    "from odc.geo.geobox import GeoBox\n",
    "from odc.geo.geom import BoundingBox, Geometry\n",
    "from dea_tools.datahandling import load_reproject\n",
    "from dea_tools.dask import create_local_dask_cluster\n",
    "\n",
    "from intertidal.validation import eval_metrics, map_raster, preprocess_validation\n",
    "\n",
    "client = create_local_dask_cluster(return_client=True)\n"
   ]
  },
  {
   "cell_type": "markdown",
   "id": "4869fd6c-b597-41c0-8f94-3087e009f586",
   "metadata": {},
   "source": [
    "## Validation sites from polygons"
   ]
  },
  {
   "cell_type": "code",
   "execution_count": 110,
   "id": "8799ff15-f34d-43f4-a042-4fd2c69294bb",
   "metadata": {
    "tags": []
   },
   "outputs": [],
   "source": [
    "# Set up data paths\n",
    "resampling=\"average\"\n",
    "resolution=10\n",
    "\n",
    "# Load polygons\n",
    "validation_sites_path = \"data/raw/validation_sites_2021.geojson\"\n",
    "validation_sites_gdf = gpd.read_file(validation_sites_path)\n",
    "validation_sites_gdf[\"mod_path\"] = \"https://dea-public-data-dev.s3-ap-southeast-2.amazonaws.com/derivative/dea_intertidal/sample_data/virtual_rasters/DEV_2019_2021_elevation.vrt\"\n",
    "validation_sites_gdf[\"val_path\"] = \"/gdata1/projects/coastal/intertidal/Elevation_data/Processed/\" + validation_sites_gdf.Year + \"_combined.tif\"\n",
    "# validation_sites_gdf.loc[0, \"mod_path\"] = \"data/processed/ga_s2ls_intertidal_cyear_3/0-0-1/x094/y145/2018--P1Y/ga_s2ls_intertidal_cyear_3_x094y145_2018--P1Y_final_elevation.tif\"\n",
    "\n",
    "# NIDEM comparison\n",
    "# validation_sites_gdf[\"mod_path\"] = \"/gdata1/data/nidem/NIDEM_mosaic.tif\"\n",
    "# resampling=\"average\"\n",
    "# resolution=25\n",
    "\n"
   ]
  },
  {
   "cell_type": "code",
   "execution_count": 128,
   "id": "517ddc00-c4da-4be0-9361-9ab79d6f90e3",
   "metadata": {
    "tags": []
   },
   "outputs": [
    {
     "name": "stdout",
     "output_type": "stream",
     "text": [
      "0\n",
      "1\n",
      "2\n",
      "3\n",
      "4\n",
      "5\n",
      "6\n",
      "7\n",
      "8\n",
      "9\n",
      "10\n",
      "11\n",
      "12\n",
      "13\n",
      "14\n",
      "15\n",
      "16\n",
      "17\n",
      "18\n",
      "19\n"
     ]
    }
   ],
   "source": [
    "validation_zs = []\n",
    "modelled_zs = []\n",
    "\n",
    "for i, row in validation_sites_gdf.iterrows():\n",
    "    print(i)\n",
    "\n",
    "    # Convert to Geometry and create GeoBox to load data into\n",
    "    poly = Geometry(row.geometry, crs=\"EPSG:4326\")\n",
    "    poly_geobox = odc.geo.geobox.GeoBox.from_geopolygon(\n",
    "        poly, crs=\"EPSG:3577\", resolution=resolution\n",
    "    )\n",
    "\n",
    "    # Load validation and modelled data into polygon GeoBox\n",
    "    modelled_ds = load_reproject(\n",
    "        path=row.mod_path, how=poly_geobox, resampling=resampling\n",
    "    ).compute()\n",
    "    validation_ds = load_reproject(\n",
    "        path=row.val_path, how=poly_geobox, resampling=resampling\n",
    "    ).compute()\n",
    "    \n",
    "    # Mask our data by our input polygon\n",
    "    modelled_ds = modelled_ds.odc.mask(poly=poly)\n",
    "\n",
    "    # Preprocess\n",
    "    validation_z, modelled_z = preprocess_validation(modelled_ds, validation_ds)\n",
    "\n",
    "    validation_zs.append(validation_z)\n",
    "    modelled_zs.append(modelled_z)\n",
    "\n"
   ]
  },
  {
   "cell_type": "code",
   "execution_count": 139,
   "id": "7677f66d-6afb-4b56-9e18-d8f6339da228",
   "metadata": {
    "tags": []
   },
   "outputs": [
    {
     "name": "stdout",
     "output_type": "stream",
     "text": [
      "Correlation         0.837\n",
      "RMSE                0.264\n",
      "MAE                 0.203\n",
      "R-squared           0.700\n",
      "Bias                0.167\n",
      "Regression slope    0.850\n",
      "dtype: float64\n",
      "132.57479999999998 km sq\n"
     ]
    },
    {
     "data": {
      "image/png": "[encoded data removed]",
      "text/plain": [
       "<Figure size 500x500 with 1 Axes>"
      ]
     },
     "metadata": {},
     "output_type": "display_data"
    }
   ],
   "source": [
    "validation_all = np.concatenate(validation_zs)\n",
    "modelled_all = np.concatenate(modelled_zs)\n",
    "\n",
    "# Plot and compare - heatmap\n",
    "plt.figure(figsize=(5, 5))\n",
    "lim_min, lim_max = np.percentile(\n",
    "    np.concatenate([validation_all, modelled_all]), [1, 95]\n",
    ")\n",
    "lim_min -= 0.2\n",
    "lim_max += 0.2\n",
    "plt.hexbin(\n",
    "    x=validation_all,\n",
    "    y=modelled_all,\n",
    "    extent=(lim_min, lim_max, lim_min, lim_max),\n",
    "    cmap=\"inferno\",\n",
    ")\n",
    "plt.plot([lim_min, lim_max], [lim_min, lim_max], \"--\", c=\"white\")\n",
    "plt.margins(x=0, y=0)\n",
    "plt.xlabel(\"LiDAR DEM (m)\")\n",
    "plt.ylabel(\"Intertidal DEM (m)\")\n",
    "\n",
    "# Accuracy statistics\n",
    "print(eval_metrics(x=validation_all, y=modelled_all, round=3))\n",
    "print(f\"{len(modelled_all) * (10 * 10) * 0.000001} km sq\")"
   ]
  },
  {
   "cell_type": "markdown",
   "id": "ea7f4d25-dd06-42f5-84cb-976324bc0ee3",
   "metadata": {},
   "source": [
    "## Individual validations"
   ]
  },
  {
   "cell_type": "markdown",
   "id": "c90bbaa3-1243-46f2-9c70-6904335ab9cf",
   "metadata": {},
   "source": [
    "#### NT LiDAR"
   ]
  },
  {
   "cell_type": "code",
   "execution_count": null,
   "id": "678439e6-e609-4c2c-a5a4-398d20ec3b96",
   "metadata": {},
   "outputs": [],
   "source": [
    "# Setup\n",
    "val_path = \"data/raw/lidar_10m.tif\"\n",
    "mod_path = \"https://dea-public-data-dev.s3-ap-southeast-2.amazonaws.com/derivative/dea_intertidal/sample_data/virtual_rasters/DEV_2019_2021_elevation.vrt\"\n",
    "unc_path = \"https://dea-public-data-dev.s3-ap-southeast-2.amazonaws.com/derivative/dea_intertidal/sample_data/virtual_rasters/DEV_2019_2021_elevation_uncertainty.vrt\"\n",
    "resampling = \"average\"\n",
    "\n",
    "# Load LIDAR validation data\n",
    "validation_ds = (\n",
    "    rioxarray.open_rasterio(val_path, masked=True)\n",
    "    .squeeze(\"band\")\n",
    "    .sel(x=slice(623294, 720470), y=slice(8275633, 8214379))\n",
    ")\n",
    "validation_ds.name = \"validation_ds\"\n",
    "\n",
    "# Load modelled elevation and uncertainty data\n",
    "modelled_ds = load_reproject(\n",
    "    path=mod_path,\n",
    "    gbox=validation_ds.odc.geobox,\n",
    "    name=\"modelled_ds\",\n",
    "    resampling=resampling,\n",
    ")\n",
    "uncertainty_ds = load_reproject(\n",
    "    path=unc_path,\n",
    "    gbox=validation_ds.odc.geobox,\n",
    "    name=\"uncertainty_ds\",\n",
    "    resampling=resampling,\n",
    ")"
   ]
  },
  {
   "cell_type": "markdown",
   "id": "870b5f94-c8df-4bdc-b1dc-512adb036952",
   "metadata": {},
   "source": [
    "#### Testing tiles"
   ]
  },
  {
   "cell_type": "code",
   "execution_count": null,
   "id": "e097b96d-b7b0-4c77-8dbe-affdb7624292",
   "metadata": {
    "tags": []
   },
   "outputs": [],
   "source": [
    "# Setup\n",
    "val_path = \"data/raw/lidar_10m.tif\"\n",
    "mod_path1 = f\"data/interim/x99y118/2019-2021/x99y118_2019_2021_elevation.tif\"\n",
    "mod_path2 = f\"data/interim/x98y118/2019-2021/x98y118_2019_2021_elevation.tif\"\n",
    "mod_path3 = f\"data/interim/x100y117/2019-2021/x100y117_2019_2021_elevation.tif\"\n",
    "mod_path4 = f\"data/interim/x99y117/2019-2021/x99y117_2019_2021_elevation.tif\"\n",
    "# mod_path1 = f\"data/interim/x99y118/2019-2021-spearman/x99y118_2019_2021_elevation_uncertainty.tif\"\n",
    "# mod_path2 = f\"data/interim/x98y118/2019-2021-spearman/x98y118_2019_2021_elevation_uncertainty.tif\"\n",
    "# mod_path3 = f\"data/interim/x100y117/2019-2021-spearman/x100y117_2019_2021_elevation_uncertainty.tif\"\n",
    "# mod_path4 = f\"data/interim/x99y117/2019-2021-spearman/x99y117_2019_2021_elevation_uncertainty.tif\"\n",
    "resampling = \"average\"\n",
    "\n",
    "# Load LIDAR validation data\n",
    "validation_ds = (\n",
    "    rioxarray.open_rasterio(val_path, masked=True)\n",
    "    .squeeze(\"band\")\n",
    "    .sel(x=slice(623294, 720470), y=slice(8275633, 8214379))\n",
    ")\n",
    "validation_ds.name = \"validation_ds\"\n",
    "\n",
    "# Load modelled elevation and uncertainty data\n",
    "modelled_ds1 = load_reproject(\n",
    "    path=mod_path1,\n",
    "    gbox=validation_ds.odc.geobox,\n",
    "    name=\"modelled_ds\",\n",
    "    resampling=resampling,\n",
    "    dst_nodata=np.nan,\n",
    ")\n",
    "modelled_ds2 = load_reproject(\n",
    "    path=mod_path2,\n",
    "    gbox=validation_ds.odc.geobox,\n",
    "    name=\"modelled_ds\",\n",
    "    resampling=resampling,\n",
    "    dst_nodata=np.nan,\n",
    ")\n",
    "modelled_ds3 = load_reproject(\n",
    "    path=mod_path3,\n",
    "    gbox=validation_ds.odc.geobox,\n",
    "    name=\"modelled_ds\",\n",
    "    resampling=resampling,\n",
    "    dst_nodata=np.nan,\n",
    ")\n",
    "modelled_ds4 = load_reproject(\n",
    "    path=mod_path4,\n",
    "    gbox=validation_ds.odc.geobox,\n",
    "    name=\"modelled_ds\",\n",
    "    resampling=resampling,\n",
    "    dst_nodata=np.nan,\n",
    ")\n",
    "modelled_ds = (\n",
    "    modelled_ds1.combine_first(modelled_ds2)\n",
    "    .combine_first(modelled_ds3)\n",
    "    .combine_first(modelled_ds4)\n",
    ")"
   ]
  },
  {
   "cell_type": "code",
   "execution_count": null,
   "id": "837e38dc-b8c4-4e99-b824-b34ae5980ced",
   "metadata": {
    "tags": []
   },
   "outputs": [],
   "source": [
    "# modelled_ds.plot.imshow()"
   ]
  },
  {
   "cell_type": "markdown",
   "id": "b3880005-2264-49e7-8e9f-98ab2758e453",
   "metadata": {},
   "source": [
    "#### Moreton Bay SDB"
   ]
  },
  {
   "cell_type": "code",
   "execution_count": null,
   "id": "8585e9f5-bad1-494f-9f91-6a452333b578",
   "metadata": {
    "tags": []
   },
   "outputs": [],
   "source": [
    "# Setup\n",
    "val_path = \"data/raw/SDB_AUS_MoretonBay_EOMAP_20220808_20230414_3m_MSL_geotiff.tif\"\n",
    "mod_path = \"https://dea-public-data-dev.s3-ap-southeast-2.amazonaws.com/derivative/dea_intertidal/sample_data/virtual_rasters/DEV_2019_2021_elevation.vrt\"\n",
    "unc_path = \"https://dea-public-data-dev.s3-ap-southeast-2.amazonaws.com/derivative/dea_intertidal/sample_data/virtual_rasters/DEV_2019_2021_elevation_uncertainty.vrt\"\n",
    "resampling = \"average\"\n",
    "\n",
    "# Set geobox for specific bounding box\n",
    "bbox = BoundingBox(2050863, -3186980, 2091372, -3070780, crs=\"EPSG:3577\")\n",
    "bbox = BoundingBox(2054949, -3158856, 2090075, -3130736, crs=\"EPSG:3577\")\n",
    "gbox = GeoBox.from_bbox(bbox, resolution=10)\n",
    "\n",
    "# Load SDB as validation data\n",
    "validation_ds = load_reproject(\n",
    "    path=val_path, gbox=gbox, name=\"validation_ds\", resampling=resampling\n",
    ")\n",
    "\n",
    "# Load modelled elevation and uncertainty data\n",
    "modelled_ds = load_reproject(\n",
    "    path=mod_path,\n",
    "    gbox=validation_ds.odc.geobox,\n",
    "    name=\"modelled_ds\",\n",
    "    resampling=resampling,\n",
    ")\n",
    "uncertainty_ds = load_reproject(\n",
    "    path=unc_path,\n",
    "    gbox=validation_ds.odc.geobox,\n",
    "    name=\"uncertainty_ds\",\n",
    "    resampling=resampling,\n",
    ")"
   ]
  },
  {
   "cell_type": "markdown",
   "id": "250b1542-e5b0-44e7-9ad9-a59911f7de97",
   "metadata": {},
   "source": [
    "### Plot layers"
   ]
  },
  {
   "cell_type": "code",
   "execution_count": null,
   "id": "eeedb491-59af-4781-898e-8283f4636392",
   "metadata": {},
   "outputs": [],
   "source": [
    "# Calculate difference\n",
    "diff_ds = validation_ds - modelled_ds\n",
    "diff_ds = diff_ds.odc.assign_crs(modelled_ds.odc.crs)\n",
    "diff_ds.name = \"difference\"\n",
    "\n",
    "# Plot both layers\n",
    "map_raster(\n",
    "    [validation_ds, modelled_ds, diff_ds],\n",
    "    vmin=[-10.0, -10.0, -1.0],\n",
    "    vmax=[0.5, 0.5, 1.0 ],\n",
    "    cmap=[\"viridis\", \"viridis\", \"RdBu\"],\n",
    ")"
   ]
  },
  {
   "cell_type": "markdown",
   "id": "325b8027-d7a7-4696-b8da-1cd671dcc170",
   "metadata": {
    "tags": []
   },
   "source": [
    "#### Validate modelled elevation against validation elevation"
   ]
  },
  {
   "cell_type": "code",
   "execution_count": null,
   "id": "757d1e03-6da3-4762-bfe6-09bfa01ebef9",
   "metadata": {
    "tags": []
   },
   "outputs": [],
   "source": [
    "# Preprocess\n",
    "validation_z, modelled_z = preprocess_validation(modelled_ds-0.18, validation_ds, None)\n",
    "\n",
    "# Plot and compare - heatmap\n",
    "plt.figure(figsize=(5, 5))\n",
    "lim_min, lim_max = np.percentile(np.concatenate([validation_z, modelled_z]), [1, 99])\n",
    "lim_min -= 0.2\n",
    "lim_max += 0.2\n",
    "plt.hexbin(\n",
    "    x=validation_z,\n",
    "    y=modelled_z,\n",
    "    extent=(lim_min, lim_max, lim_min, lim_max),\n",
    "    cmap=\"inferno\",\n",
    ")\n",
    "plt.plot([lim_min, lim_max], [lim_min, lim_max], \"--\", c=\"white\")\n",
    "plt.margins(x=0, y=0)\n",
    "plt.xlabel(\"LiDAR DEM (m)\")\n",
    "plt.ylabel(\"Intertidal DEM (m)\")\n",
    "\n",
    "# Accuracy statistics\n",
    "eval_metrics(x=validation_z, y=modelled_z, round=3)"
   ]
  },
  {
   "cell_type": "markdown",
   "id": "ec1b6d4e-cda7-4adf-815e-773d8f36d038",
   "metadata": {},
   "source": [
    "#### Compare elevation accuracy by uncertainty"
   ]
  },
  {
   "cell_type": "code",
   "execution_count": null,
   "id": "20ebe676-eafb-4421-88d4-27ec2ce9d215",
   "metadata": {},
   "outputs": [],
   "source": [
    "fig, axes = plt.subplots(1, 5, figsize=(12, 2), sharex=True, sharey=True)\n",
    "\n",
    "# Define a set of certainty ranges\n",
    "cert_ranges = [(0, 0.25), (0.25, 0.5), (0.5, 0.75), (0.75, 1.0), (1.0, 10.0)]\n",
    "\n",
    "out = {}\n",
    "for i, (min_thresh, max_thresh) in enumerate(cert_ranges):\n",
    "    \n",
    "    # Extract subset of modelled elevation according to certainty range\n",
    "    modelled_ds_subset = modelled_ds.where(\n",
    "        (uncertainty_ds >= min_thresh) * (uncertainty_ds < max_thresh)\n",
    "    )\n",
    "\n",
    "    # Preprocess\n",
    "    validation_z, modelled_z = preprocess_validation(\n",
    "        modelled_ds_subset, validation_ds, None\n",
    "    )\n",
    "\n",
    "    # Compute accuracy metrics\n",
    "    certainty_str = f\"{min_thresh}-{max_thresh}\"\n",
    "    out[certainty_str] = eval_metrics(\n",
    "        x=validation_z, y=modelled_z, round=3\n",
    "    )\n",
    "    \n",
    "    # Plot heatmaps\n",
    "    axes[i].hexbin(\n",
    "    x=validation_z,\n",
    "    y=modelled_z,\n",
    "    extent=(lim_min, lim_max, lim_min, lim_max),\n",
    "    cmap=\"inferno\",\n",
    ")\n",
    "    axes[i].plot([lim_min, lim_max], [lim_min, lim_max], \"--\", c=\"white\")\n",
    "    axes[i].margins(x=0, y=0)\n",
    "    axes[i].set_title(f\"Certainty: {certainty_str} m\")\n",
    "    if i == 2:\n",
    "        axes[i].set_xlabel(\"LiDAR DEM (m)\")\n",
    "    if i == 0:\n",
    "        axes[i].set_ylabel(\"Intertidal DEM (m)\")\n",
    "\n",
    "# Combine into a single dataframe\n",
    "combined_df = pd.concat(out, axis=1)\n",
    "combined_df.T.plot()\n",
    "plt.gca().set_title(\"Accuracy statistics by certainty\")\n",
    "print(combined_df)"
   ]
  }
 ],
 "metadata": {
  "kernelspec": {
   "display_name": "Python 3 (ipykernel)",
   "language": "python",
   "name": "python3"
  },
  "language_info": {
   "codemirror_mode": {
    "name": "ipython",
    "version": 3
   },
   "file_extension": ".py",
   "mimetype": "text/x-python",
   "name": "python",
   "nbconvert_exporter": "python",
   "pygments_lexer": "ipython3",
   "version": "3.10.13"
  },
  "widgets": {
   "application/vnd.jupyter.widget-state+json": {
    "state": {},
    "version_major": 2,
    "version_minor": 0
   }
  }
 },
 "nbformat": 4,
 "nbformat_minor": 5
}

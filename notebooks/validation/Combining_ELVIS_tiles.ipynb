{
 "cells": [
  {
   "cell_type": "markdown",
   "id": "893a4424-c820-4851-b5db-017cea9bbc28",
   "metadata": {
    "tags": []
   },
   "source": [
    "# Combine multiple ELVIS DEM tiles using `gdalwarp`"
   ]
  },
  {
   "cell_type": "code",
   "execution_count": null,
   "id": "d9ae36d0-67f2-4858-ab7f-f2ca23b885ce",
   "metadata": {
    "tags": []
   },
   "outputs": [],
   "source": [
    "cd ../.."
   ]
  },
  {
   "cell_type": "code",
   "execution_count": null,
   "id": "516112d5-638c-4820-810d-f8dba6ece98d",
   "metadata": {
    "tags": []
   },
   "outputs": [],
   "source": [
    "import glob\n",
    "import pathlib\n",
    "import geopandas as gpd"
   ]
  },
  {
   "cell_type": "code",
   "execution_count": null,
   "id": "dae3bcec-1e98-4ec0-b329-be04215c9f67",
   "metadata": {
    "tags": []
   },
   "outputs": [],
   "source": [
    "geojson_path = pathlib.Path(\"data/validation/elvis_preprocessed.geojson\")\n",
    "data_path = pathlib.Path(\"data/validation/interim/\")\n",
    "# data_path = pathlib.Path(\"/gdata1/projects/coastal/intertidal/Elevation_data/Interim\")"
   ]
  },
  {
   "cell_type": "markdown",
   "id": "784aa5de-3a42-4db6-86f1-1e7127fe5e79",
   "metadata": {},
   "source": [
    "## Load preprocessed tile list"
   ]
  },
  {
   "cell_type": "code",
   "execution_count": null,
   "id": "5c56fa50-2e59-4b11-ae71-2019b66f9836",
   "metadata": {
    "tags": []
   },
   "outputs": [],
   "source": [
    "preprocessed_tiles_gdf = gpd.read_file(geojson_path)"
   ]
  },
  {
   "cell_type": "markdown",
   "id": "ab748f28-f374-4e0c-ae6f-dda1eb909528",
   "metadata": {},
   "source": [
    "## Combine each data source/project/year using `gdalwarp`\n",
    "To compress: `!tar -zcvf elvis_interim.tar.gz $data_path`"
   ]
  },
  {
   "cell_type": "code",
   "execution_count": null,
   "id": "cf55c841-7d21-4029-9b66-bd505255056f",
   "metadata": {
    "tags": []
   },
   "outputs": [],
   "source": [
    "failures = []\n",
    "\n",
    "for (data_source, project, year), group in preprocessed_tiles_gdf.groupby(\n",
    "    [\"data_source\", \"project\", \"year\"]\n",
    "):\n",
    "    output_name = data_path / f\"{data_source.replace('_', '')}_{project}_{year}.tif\"\n",
    "\n",
    "    if not output_name.exists():\n",
    "        print(output_name)\n",
    "        try:\n",
    "            # Run gdalwarp on selected paths\n",
    "            paths = \" \".join(group.vsis3_path)\n",
    "            !gdalwarp $paths $output_name -t_srs EPSG:3577 -tr 10 10 -tap -dstnodata -9999 -r average -overwrite -multi -wm 80% -co NUM_THREADS=ALL_CPUS -of COG -co COMPRESS=ZSTD -co PREDICTOR=YES -co OVERVIEWS=AUTO -co OVERVIEW_COUNT=4\n",
    "        except:\n",
    "            failures.append(output_name)"
   ]
  },
  {
   "cell_type": "code",
   "execution_count": null,
   "id": "edc234dd-5ade-4e28-9262-9ac7ef3131bf",
   "metadata": {
    "tags": []
   },
   "outputs": [],
   "source": [
    "failures"
   ]
  }
 ],
 "metadata": {
  "kernelspec": {
   "display_name": "Python 3 (ipykernel)",
   "language": "python",
   "name": "python3"
  },
  "language_info": {
   "codemirror_mode": {
    "name": "ipython",
    "version": 3
   },
   "file_extension": ".py",
   "mimetype": "text/x-python",
   "name": "python",
   "nbconvert_exporter": "python",
   "pygments_lexer": "ipython3",
   "version": "3.10.13"
  }
 },
 "nbformat": 4,
 "nbformat_minor": 5
}

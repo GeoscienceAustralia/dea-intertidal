{
 "cells": [
  {
   "cell_type": "markdown",
   "id": "9ae9ce06-d540-42a8-a11f-7b5dfb320214",
   "metadata": {
    "tags": []
   },
   "source": [
    "# Combine multiple DEM tiles using `gdalwarp`"
   ]
  },
  {
   "cell_type": "code",
   "execution_count": 18,
   "id": "1b30b21f-13a2-4bc7-b964-62f1d75b627a",
   "metadata": {
    "tags": []
   },
   "outputs": [],
   "source": [
    "import pathlib\n",
    "\n",
    "# Provide paths to input (raw) data, the location where interim merged layers \n",
    "# should be output, and the location for final processed annual rasters to be output\n",
    "raw_dir = pathlib.Path(\"/gdata1/projects/coastal/intertidal/Elevation_data/Raw\")\n",
    "interim_dir = pathlib.Path(\"/gdata1/projects/coastal/intertidal/Elevation_data/Interim\")\n",
    "processed_dir = pathlib.Path(\"/gdata1/projects/coastal/intertidal/Elevation_data/Processed\")"
   ]
  },
  {
   "cell_type": "markdown",
   "id": "ef0ae3ee-7b6d-4c65-9b5a-148807770410",
   "metadata": {},
   "source": [
    "## Data sources\n",
    "\n",
    "Annotated `gdalwarp` command used below:\n",
    "```\n",
    "!gdalwarp input_path output_path \\ # input and output files\n",
    "-b 1 \\ # band to extract from the input file (only the first band is needed for bathymetry data)\n",
    "-t_srs EPSG:3577 \\ # target spatial reference system (to reproject to the desired coordinate system)\n",
    "-tr 10 10 \\ # output resolution in target SRS units (to resample data to the desired resolution)\n",
    "-tap \\ # align output and target resolution to the same grid (to ensure alignment to a specific grid)\n",
    "-dstnodata -9999 \\ # value to use for nodata pixels in the output file (to ensure nodata pixels are correct)\n",
    "-r average \\ # resampling method to use (to average the values of multiple input pixels when resampling)\n",
    "-overwrite \\ # overwrite the output file if it already exists (to avoid errors if output file already exists)\n",
    "-multi \\ # enable multithreaded processing (to speed up processing by using multiple CPU cores)\n",
    "-wm 80% \\ # working memory to use for caching data during processing (to improve performance by reducing disk I/O)\n",
    "-co NUM_THREADS=ALL_CPUS \\ # number of threads to use for compression (to speed up compression by using multiple CPU cores)\n",
    "-of COG \\ # output format as COG (to create a Cloud Optimized GeoTIFF)\n",
    "-co COMPRESS=ZSTD \\ # compression method to use (to compress the output file using the ZSTD algorithm)\n",
    "-co PREDICTOR=YES \\ # enable the predictor (to improve compression efficiency)\n",
    "-co OVERVIEWS=AUTO \\ # generate overviews automatically (to create overviews for faster access to lower resolution data)\n",
    "-co OVERVIEW_COUNT=4 # number of overviews to generate (to specify the number of overviews to create)\n",
    "```\n",
    "\n",
    "### Combining WA Bathymetry portal data\n",
    "Will combine all data matching pattern `WA_Govt/*{year}*.bag` into a single output GeoTIFF (compressed in COG format with overviews).\n"
   ]
  },
  {
   "cell_type": "code",
   "execution_count": null,
   "id": "dcc686a5-259f-4b8f-831b-b61bd1c5acbc",
   "metadata": {
    "tags": []
   },
   "outputs": [],
   "source": [
    "for year in range(2015, 2024):\n",
    "    input_path = raw_dir / f\"WA_Govt/*{year}*.bag\"\n",
    "    output_path = interim_dir / f\"WA_BathymetryPortal_{year}.tif\"    \n",
    "    \n",
    "    try:\n",
    "        print(year)\n",
    "        !gdalwarp $input_path $output_path -b 1 -t_srs EPSG:3577 -tr 10 10 -tap -dstnodata -9999 -r average -overwrite -multi -wm 80% -co NUM_THREADS=ALL_CPUS -of COG -co COMPRESS=ZSTD -co PREDICTOR=YES -co OVERVIEWS=AUTO -co OVERVIEW_COUNT=4\n",
    "    except:\n",
    "        print(f\"{year} failed to process\")"
   ]
  },
  {
   "cell_type": "markdown",
   "id": "e64dc3e7-e3e4-40b0-aa56-3a903810a8a4",
   "metadata": {},
   "source": [
    "### Combining Uni. of Western Australia Dampier Archipelago LiDAR\n",
    "\n",
    "Files missing a nodata attribute; requires additional `-srcnodata` flag (i.e. telling `gdal` what nodata pixels are in the source files), in addition to `-dstnodata` (telling `gdal` what we want nodata pixels to be converted to in our combined output TIF).\n",
    "\n",
    "Assuming [date is 2016 for now](https://www.mdpi.com/2072-4292/12/18/3033); may require confirmation."
   ]
  },
  {
   "cell_type": "code",
   "execution_count": null,
   "id": "3da6b169-576d-4cb6-8930-c1df084e60ad",
   "metadata": {
    "tags": []
   },
   "outputs": [],
   "source": [
    "input_path = raw_dir / \"WA_UWA_Dampier_Archipelago/*.tif\"\n",
    "output_path = interim_dir / f\"WA_BathymetryPortal_{year}.tif\" \n",
    "\n",
    "!gdalwarp $input_path $output_path -b 1 -t_srs EPSG:3577 -tr 10 10 -tap -srcnodata -32767 -dstnodata -9999 -r average -overwrite -multi -wm 80% -co NUM_THREADS=ALL_CPUS -of COG -co COMPRESS=ZSTD -co PREDICTOR=YES -co OVERVIEWS=AUTO -co OVERVIEW_COUNT=4"
   ]
  },
  {
   "cell_type": "markdown",
   "id": "0a23fd27-569e-40d1-9e27-c2261baab7d7",
   "metadata": {},
   "source": [
    "### Combining NT Native Title LiDAR\n",
    "\n",
    "> Warning: this GeoTIFF was slow to produce due to a large number of input files"
   ]
  },
  {
   "cell_type": "code",
   "execution_count": null,
   "id": "76ece9b2-f1d8-44b7-84de-a391c3809fb8",
   "metadata": {
    "tags": []
   },
   "outputs": [],
   "source": [
    "input_path = raw_dir / \"NT_Native_Title/Clipped_500m/*.asc\"\n",
    "output_path = interim_dir / f\"NT_NativeTitleLidar_2021.tif\" \n",
    "\n",
    "!gdalwarp $input_path $output_path -b 1 -t_srs EPSG:3577 -tr 10 10 -tap -dstnodata -9999 -r average -overwrite -multi -wm 80% -co NUM_THREADS=ALL_CPUS -of COG -co COMPRESS=ZSTD -co PREDICTOR=YES -co OVERVIEWS=AUTO -co OVERVIEW_COUNT=4"
   ]
  },
  {
   "cell_type": "markdown",
   "id": "e624fd8b-5005-41ea-96a2-946204400da1",
   "metadata": {},
   "source": [
    "### Combining Airborne Research Australia Gulf of Carpentaria Mangrove Dieback LiDAR\n",
    "\n",
    "Obtained from [Dropbox links](https://www.dropbox.com/s/njq5xfk7cufuihr/ARA_Lidar_Mangroves2017.pdf?dl=0) provided by [ARA](https://www.airborneresearch.org.au/mangrove-dynamics).\n",
    "\n",
    "Unable to run GDAL merge on DEA Sandbox due to `.bil' not recognized as a supported file format` error; ran on NCI instead (data stored at `/g/data/r78/Airborne_LIDAR/GulfofCarpentaria/`)"
   ]
  },
  {
   "cell_type": "code",
   "execution_count": null,
   "id": "813abb70-9cc0-4ba8-9dcb-5fd81d7f3439",
   "metadata": {},
   "outputs": [],
   "source": [
    "# !gdalwarp GulfofCarpentaria.vrt ARA_GulfCarpentariaLidarMangroves_2017.tif -t_srs EPSG:3577 -tr 10 10 -tap -dstnodata -9999 -r average -overwrite -multi -wm 80% -co NUM_THREADS=ALL_CPUS -of COG -co COMPRESS=ZSTD -co PREDICTOR=YES -co OVERVIEWS=AUTO -co OVERVIEW_COUNT=4\n"
   ]
  },
  {
   "cell_type": "markdown",
   "id": "7b5fa12d-f6e7-4d2c-81c0-5d08403bfdcc",
   "metadata": {},
   "source": [
    "## Inspect outputs\n",
    "\n",
    "Inspect combined data using GDAL:"
   ]
  },
  {
   "cell_type": "code",
   "execution_count": 14,
   "id": "c1a45ce1-7bf2-40f2-b780-f906d23a6814",
   "metadata": {
    "tags": []
   },
   "outputs": [
    {
     "name": "stdout",
     "output_type": "stream",
     "text": [
      "Driver: GTiff/GeoTIFF\n",
      "Files: /gdata1/projects/coastal/intertidal/Elevation_data/Interim/NT_NativeTitleLidar_2021.tif\n",
      "Size is 18010, 11106\n",
      "Coordinate System is:\n",
      "PROJCRS[\"WGS 84 / UTM zone 53S\",\n",
      "    BASEGEOGCRS[\"WGS 84\",\n",
      "        DATUM[\"World Geodetic System 1984\",\n",
      "            ELLIPSOID[\"WGS 84\",6378137,298.257223563,\n",
      "                LENGTHUNIT[\"metre\",1]]],\n",
      "        PRIMEM[\"Greenwich\",0,\n",
      "            ANGLEUNIT[\"degree\",0.0174532925199433]],\n",
      "        ID[\"EPSG\",4326]],\n",
      "    CONVERSION[\"UTM zone 53S\",\n",
      "        METHOD[\"Transverse Mercator\",\n",
      "            ID[\"EPSG\",9807]],\n",
      "        PARAMETER[\"Latitude of natural origin\",0,\n",
      "            ANGLEUNIT[\"degree\",0.0174532925199433],\n",
      "            ID[\"EPSG\",8801]],\n",
      "        PARAMETER[\"Longitude of natural origin\",135,\n",
      "            ANGLEUNIT[\"degree\",0.0174532925199433],\n",
      "            ID[\"EPSG\",8802]],\n",
      "        PARAMETER[\"Scale factor at natural origin\",0.9996,\n",
      "            SCALEUNIT[\"unity\",1],\n",
      "            ID[\"EPSG\",8805]],\n",
      "        PARAMETER[\"False easting\",500000,\n",
      "            LENGTHUNIT[\"metre\",1],\n",
      "            ID[\"EPSG\",8806]],\n",
      "        PARAMETER[\"False northing\",10000000,\n",
      "            LENGTHUNIT[\"metre\",1],\n",
      "            ID[\"EPSG\",8807]]],\n",
      "    CS[Cartesian,2],\n",
      "        AXIS[\"(E)\",east,\n",
      "            ORDER[1],\n",
      "            LENGTHUNIT[\"metre\",1]],\n",
      "        AXIS[\"(N)\",north,\n",
      "            ORDER[2],\n",
      "            LENGTHUNIT[\"metre\",1]],\n",
      "    USAGE[\n",
      "        SCOPE[\"Navigation and medium accuracy spatial referencing.\"],\n",
      "        AREA[\"Between 132°E and 138°E, southern hemisphere between 80°S and equator, onshore and offshore. Australia. Indonesia.\"],\n",
      "        BBOX[-80,132,0,138]],\n",
      "    ID[\"EPSG\",32753]]\n",
      "Data axis to CRS axis mapping: 1,2\n",
      "Origin = (640270.000000000000000,8276390.000000000000000)\n",
      "Pixel Size = (10.000000000000000,-10.000000000000000)\n",
      "Metadata:\n",
      "  AREA_OR_POINT=Area\n",
      "Image Structure Metadata:\n",
      "  COMPRESSION=DEFLATE\n",
      "  INTERLEAVE=BAND\n",
      "  PREDICTOR=2\n",
      "Corner Coordinates:\n",
      "Upper Left  (  640270.000, 8276390.000) (136d18'29.82\"E, 15d35'10.83\"S)\n",
      "Lower Left  (  640270.000, 8165330.000) (136d18'53.53\"E, 16d35'24.35\"S)\n",
      "Upper Right (  820370.000, 8276390.000) (137d59'12.75\"E, 15d34'11.84\"S)\n",
      "Lower Right (  820370.000, 8165330.000) (138d 0' 6.81\"E, 16d34'21.35\"S)\n",
      "Center      (  730320.000, 8220860.000) (137d 9'11.29\"E, 16d 4'53.09\"S)\n",
      "Band 1 Block=18010x1 Type=Float32, ColorInterp=Gray\n",
      "  NoData Value=-9999\n"
     ]
    }
   ],
   "source": [
    "output_path = interim_dir / \"NT_NativeTitleLidar_2021.tif\"\n",
    "\n",
    "!gdalinfo $output_path"
   ]
  },
  {
   "cell_type": "markdown",
   "id": "d07a5c41-e2f0-4271-abc5-6b9a926bc95b",
   "metadata": {},
   "source": [
    "## Combine merged rasters into a single annual raster"
   ]
  },
  {
   "cell_type": "code",
   "execution_count": null,
   "id": "98e20c7b-348b-45e5-8271-22931c9a8723",
   "metadata": {},
   "outputs": [
    {
     "name": "stdout",
     "output_type": "stream",
     "text": [
      "/gdata1/projects/coastal/intertidal/Elevation_data/Processed/2015_combined.tif\n",
      "Creating output file that is 380332P x 108280L.\n",
      "0Using internal nodata values (e.g. -9999) for image /gdata1/projects/coastal/intertidal/Elevation_data/Interim/WA_BathymetryPortal_2015.tif.\n",
      "...10...20...30...40...50...60..Using internal nodata values (e.g. -9999) for image /gdata1/projects/coastal/intertidal/Elevation_data/Interim/QLDTileIndex56_Noosa_2015.tif.\n",
      ".70...80...90...100 - done.\n",
      "/gdata1/projects/coastal/intertidal/Elevation_data/Processed/2016_combined.tif\n",
      "Creating output file that is 383135P x 283372L.\n",
      "0Using internal nodata values (e.g. -9999) for image /gdata1/projects/coastal/intertidal/Elevation_data/Interim/QLDTileIndex56_Bundaberg_2016.tif.\n",
      "...10...20...30...40...50...60..Using internal nodata values (e.g. -9999) for image /gdata1/projects/coastal/intertidal/Elevation_data/Interim/NSWTileIndex56_Macksville_2016.tif.\n",
      ".70...80...90...100 - done.\n",
      "Using internal nodata values (e.g. -9999) for image /gdata1/projects/coastal/intertidal/Elevation_data/Interim/GATileIndex54_NirrandaLidar_2016.tif.\n",
      "Using internal nodata values (e.g. -9999) for image /gdata1/projects/coastal/intertidal/Elevation_data/Interim/UWA_DampierArchipelago_2016.tif.\n",
      "Using internal nodata values (e.g. -9999) for image /gdata1/projects/coastal/intertidal/Elevation_data/Interim/WA_BathymetryPortal_2016.tif.\n"
     ]
    }
   ],
   "source": [
    "for year in range(2015, 2024):\n",
    "    # Identify merged rasters for given year\n",
    "    combined_paths = \" \".join(str(file) for file in interim_dir.glob(f\"*{year}.tif\"))\n",
    "    output_name = processed_dir / f\"{year}_combined.tif\"\n",
    "\n",
    "    if not output_name.exists():\n",
    "        print(output_name)\n",
    "\n",
    "        # Combine using gdalwarp\n",
    "        !gdalwarp $combined_paths $output_name -t_srs EPSG:3577 -tr 10 10 -tap -dstnodata -9999 -r average -overwrite -multi -wm 80% -co NUM_THREADS=ALL_CPUS -of COG -co COMPRESS=ZSTD -co PREDICTOR=YES -co OVERVIEWS=AUTO -co OVERVIEW_COUNT=4"
   ]
  },
  {
   "cell_type": "code",
   "execution_count": 40,
   "id": "bdc4a7b1-8fad-4078-b0e2-a324ec58f8c6",
   "metadata": {
    "tags": []
   },
   "outputs": [],
   "source": [
    "# slope_name = output_name.parent / \"2021_slope.tif\"\n",
    "# !gdaldem slope $output_name $slope_name -co NUM_THREADS=ALL_CPUS -of COG -co COMPRESS=ZSTD -co PREDICTOR=YES -co OVERVIEWS=AUTO -co OVERVIEW_COUNT=4"
   ]
  },
  {
   "cell_type": "code",
   "execution_count": null,
   "id": "d3311d2b-bbbc-4579-bc39-3f37d5cd8cc3",
   "metadata": {},
   "outputs": [],
   "source": []
  }
 ],
 "metadata": {
  "kernelspec": {
   "display_name": "Python 3 (ipykernel)",
   "language": "python",
   "name": "python3"
  },
  "language_info": {
   "codemirror_mode": {
    "name": "ipython",
    "version": 3
   },
   "file_extension": ".py",
   "mimetype": "text/x-python",
   "name": "python",
   "nbconvert_exporter": "python",
   "pygments_lexer": "ipython3",
   "version": "3.10.13"
  },
  "widgets": {
   "application/vnd.jupyter.widget-state+json": {
    "state": {},
    "version_major": 2,
    "version_minor": 0
   }
  }
 },
 "nbformat": 4,
 "nbformat_minor": 5
}

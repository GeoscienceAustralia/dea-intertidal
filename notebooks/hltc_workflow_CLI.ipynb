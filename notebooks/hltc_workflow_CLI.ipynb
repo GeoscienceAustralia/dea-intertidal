{
 "cells": [
  {
   "cell_type": "markdown",
   "id": "ccccdf10-6065-4f91-8725-d3233ebbe6d4",
   "metadata": {
    "tags": []
   },
   "source": [
    "# Digital Earth Australia HLTC Command Line Interface (CLI)\n",
    "\n",
    "## Getting started\n",
    "Set working directory to top level of repo to ensure links work correctly:"
   ]
  },
  {
   "cell_type": "code",
   "execution_count": null,
   "id": "3cdd49c0-fef3-4b10-9d45-d28c41755e12",
   "metadata": {},
   "outputs": [],
   "source": [
    "cd .."
   ]
  },
  {
   "cell_type": "markdown",
   "id": "9e0e6a00-0c55-4ec3-881f-4cdd32899772",
   "metadata": {},
   "source": [
    "Install additional packages directly from the requirements file"
   ]
  },
  {
   "cell_type": "code",
   "execution_count": null,
   "id": "924876a7-a415-4d65-81c4-5e5cd7b7b53d",
   "metadata": {},
   "outputs": [],
   "source": [
    "pip install -r requirements.in --quiet"
   ]
  },
  {
   "cell_type": "markdown",
   "id": "bd675e30-92c7-494f-9f16-2ea0ae1de32f",
   "metadata": {
    "tags": []
   },
   "source": [
    "## Setup\n"
   ]
  },
  {
   "cell_type": "markdown",
   "id": "3fbdf7a0-4daa-49c1-a3f7-3e0bd0e38560",
   "metadata": {
    "tags": []
   },
   "source": [
    "### Set analysis parameters\n",
    "Sets the 32 km coastal grid cell to analyse and the config file:"
   ]
  },
  {
   "cell_type": "code",
   "execution_count": null,
   "id": "58c0e260-cd76-45d9-9dc3-5e4294be31c6",
   "metadata": {},
   "outputs": [],
   "source": [
    "# study_area = '1215'\n",
    "# config_path = 'configs/dea_intertidal_config.yaml'\n",
    "study_area = 'inverloch'\n",
    "config_path = 'configs/dea_intertidal_config_development.yaml'\n",
    "start_date = '2020'\n",
    "end_date = '2022'\n"
   ]
  },
  {
   "cell_type": "markdown",
   "id": "cd538aa3-7716-443b-a10d-6d35e7e61597",
   "metadata": {},
   "source": [
    "### View CLI help\n",
    "This shows all the CLI parameters that can be used to customise each analysis:"
   ]
  },
  {
   "cell_type": "code",
   "execution_count": null,
   "id": "0ef38032-e7e1-4090-b89c-c236d573e3a8",
   "metadata": {},
   "outputs": [],
   "source": [
    "!python -m intertidal.hltc --help"
   ]
  },
  {
   "cell_type": "markdown",
   "id": "4a056759-7ec9-473d-8a60-9a7b95f122cd",
   "metadata": {},
   "source": [
    "### Run DEA Intertidal CLI for a single epoch\n",
    "This will run an entire DEA Intertidal analysis from start to finish:"
   ]
  },
  {
   "cell_type": "code",
   "execution_count": null,
   "id": "1da1e270-43bd-4a11-9d5b-6be26cb1a74f",
   "metadata": {},
   "outputs": [],
   "source": [
    "%%time\n",
    "!python -m intertidal.hltc --config_path {config_path} --study_area {study_area} --start_date {start_date} --end_date {end_date}"
   ]
  },
  {
   "cell_type": "markdown",
   "id": "d7db1fe7-7cab-4543-8e35-79587284a4c3",
   "metadata": {},
   "source": [
    "### Run DEA HLTC CLI for multiple epochs\n",
    "This will run an entire DEA HLTC analysis from start to finish for several epochs:"
   ]
  },
  {
   "cell_type": "code",
   "execution_count": null,
   "id": "16ab31f6-2490-4159-90ba-2849e1eb3fac",
   "metadata": {},
   "outputs": [],
   "source": [
    "epoch_list = [\n",
    "    (\"2017\", \"2019\"),\n",
    "    (\"2018\", \"2020\"),\n",
    "    (\"2019\", \"2021\"),\n",
    "    (\"2020\", \"2022\"),\n",
    "]\n",
    "\n",
    "for start_date, end_date in epoch_list:\n",
    "    print(start_date, end_date)\n",
    "    !python -m intertidal.hltc --config_path {config_path} --study_area {study_area} --start_date {start_date} --end_date {end_date} "
   ]
  }
 ],
 "metadata": {
  "kernelspec": {
   "display_name": "Python 3 (ipykernel)",
   "language": "python",
   "name": "python3"
  },
  "language_info": {
   "codemirror_mode": {
    "name": "ipython",
    "version": 3
   },
   "file_extension": ".py",
   "mimetype": "text/x-python",
   "name": "python",
   "nbconvert_exporter": "python",
   "pygments_lexer": "ipython3",
   "version": "3.8.10"
  },
  "widgets": {
   "application/vnd.jupyter.widget-state+json": {
    "state": {},
    "version_major": 2,
    "version_minor": 0
   }
  }
 },
 "nbformat": 4,
 "nbformat_minor": 5
}

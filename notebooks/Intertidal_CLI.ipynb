{
 "cells": [
  {
   "cell_type": "markdown",
   "id": "ccccdf10-6065-4f91-8725-d3233ebbe6d4",
   "metadata": {
    "tags": []
   },
   "source": [
    "# Digital Earth Australia Intertidal Command Line Interfaces (CLI)\n",
    "\n",
    "This notebook demonstrates how to call the DEA Intertidal and DEA Intertidal Composites workflows via their Command Line Interface utilities. \n",
    "This allows you to run an entire DEA Intertidal Analysis using a single line of code.\n",
    "\n",
    "## Getting started\n",
    "Set working directory to top level of repo to ensure links work correctly:"
   ]
  },
  {
   "cell_type": "code",
   "execution_count": 1,
   "id": "3cdd49c0-fef3-4b10-9d45-d28c41755e12",
   "metadata": {
    "tags": []
   },
   "outputs": [
    {
     "name": "stdout",
     "output_type": "stream",
     "text": [
      "/home/jovyan/Robbi/dea-intertidal\n"
     ]
    }
   ],
   "source": [
    "cd .."
   ]
  },
  {
   "cell_type": "markdown",
   "id": "9e0e6a00-0c55-4ec3-881f-4cdd32899772",
   "metadata": {},
   "source": [
    "Install additional packages directly from the requirements file"
   ]
  },
  {
   "cell_type": "code",
   "execution_count": null,
   "id": "924876a7-a415-4d65-81c4-5e5cd7b7b53d",
   "metadata": {},
   "outputs": [],
   "source": [
    "pip install -r requirements.in --quiet"
   ]
  },
  {
   "cell_type": "markdown",
   "id": "bd675e30-92c7-494f-9f16-2ea0ae1de32f",
   "metadata": {
    "tags": []
   },
   "source": [
    "## Setup\n"
   ]
  },
  {
   "cell_type": "markdown",
   "id": "3fbdf7a0-4daa-49c1-a3f7-3e0bd0e38560",
   "metadata": {
    "tags": []
   },
   "source": [
    "### Set analysis parameters\n",
    "Sets the 32 km coastal grid cell to analyse, the config file, start and end dates, and other more specific parameters. "
   ]
  },
  {
   "cell_type": "code",
   "execution_count": 2,
   "id": "58c0e260-cd76-45d9-9dc3-5e4294be31c6",
   "metadata": {
    "tags": []
   },
   "outputs": [],
   "source": [
    "# General params\n",
    "study_area = \"x99y117\"  # To match the default 32 km tile GridSpec\n",
    "start_date = \"2019\"  # Start date for analysis\n",
    "end_date = \"2021\"  # End date for analysis\n",
    "tide_model = \"ensemble\"  # Tide model to use in analysis  \n",
    "tide_model_dir = \"/gdata1/data/tide_models_clipped\"  # Directory containing tide model files\n",
    "\n",
    "# Intertidal Exposure params\n",
    "modelled_freq = \"30min\"\n",
    "\n",
    "# Intertidal Composites params\n",
    "threshold_lowtide = 0.2\n",
    "threshold_hightide = 0.8\n",
    "\n",
    "# Additional flags optionally turning exposure/offset calculation off\n",
    "# for testing elevation code, and outputting optional auxiliary outputs\n",
    "# for debugging (defaults are to calculate exposure/offsets, and not\n",
    "# output auxiliary files.\n",
    "exposure_offsets = \"--no-exposure_offsets\"\n",
    "output_auxiliaries = \"--output_auxiliaries\""
   ]
  },
  {
   "cell_type": "markdown",
   "id": "cd538aa3-7716-443b-a10d-6d35e7e61597",
   "metadata": {},
   "source": [
    "## DEA Intertidal CLI\n",
    "This CLI allows you to generate the following DEA Intertidal layers with a single command line call:\n",
    "* **DEA Intertidal Elevation**\n",
    "* **DEA Intertidal Exposure**\n",
    "* **DEA Intertidal Extents**\n",
    "* **DEA Intertidal spread, offsets, HOT, LOT, HAT, LAT**\n",
    "* **DEA Intertidal tidelines and tidal offset points**\n",
    "\n",
    "Running `--help` shows all the CLI parameters that can be used to customise the analysis:"
   ]
  },
  {
   "cell_type": "code",
   "execution_count": null,
   "id": "0ef38032-e7e1-4090-b89c-c236d573e3a8",
   "metadata": {
    "tags": []
   },
   "outputs": [],
   "source": [
    "!python -m intertidal.elevation --help"
   ]
  },
  {
   "cell_type": "markdown",
   "id": "4a056759-7ec9-473d-8a60-9a7b95f122cd",
   "metadata": {},
   "source": [
    "### Run DEA Intertidal CLI for a single epoch\n",
    "This will run an entire DEA Intertidal analysis from start to finish:"
   ]
  },
  {
   "cell_type": "code",
   "execution_count": null,
   "id": "1da1e270-43bd-4a11-9d5b-6be26cb1a74f",
   "metadata": {
    "tags": []
   },
   "outputs": [],
   "source": [
    "%%time\n",
    "!python -m intertidal.elevation --study_area {study_area} --start_date {start_date} --end_date {end_date} --modelled_freq {modelled_freq} {exposure_offsets} {output_auxiliaries} --tide_model {tide_model} --tide_model_dir {tide_model_dir}"
   ]
  },
  {
   "cell_type": "markdown",
   "id": "dc1dc57d-c974-4025-b26e-d70a0d343c8d",
   "metadata": {},
   "source": [
    "### Run DEA Intertidal CLI for a single epoch with multiple tiles\n",
    "This will run an entire DEA Intertidal analysis from start to finish:"
   ]
  },
  {
   "cell_type": "code",
   "execution_count": 3,
   "id": "9dcf7f21-41e0-4b4b-aaf3-2ab5fc5325d8",
   "metadata": {},
   "outputs": [
    {
     "name": "stdout",
     "output_type": "stream",
     "text": [
      "2019 2021\n",
      "x99y118\n",
      "2023-12-07 04:54:49 INFO Study area x99y118: Loading satellite data\n",
      "/env/lib/python3.10/site-packages/distributed/node.py:183: UserWarning: Port 8787 is already in use.\n",
      "Perhaps you already have a cluster running?\n",
      "Hosting the HTTP server on port 39627 instead\n",
      "  warnings.warn(\n",
      "<Client: 'tcp://127.0.0.1:43689' processes=1 threads=31, memory=237.21 GiB>\n",
      "/env/lib/python3.10/site-packages/rasterio/warp.py:344: NotGeoreferencedWarning: Dataset has no geotransform, gcps, or rpcs. The identity matrix will be returned.\n",
      "  _reproject(\n",
      "2023-12-07 04:59:00 INFO Study area x99y118: Calculating Intertidal Elevation\n",
      "2023-12-07 04:59:00 INFO Study area x99y118: Modelling tide heights for each pixel\n",
      "Creating reduced resolution 3000 x 3000 metre tide modelling array\n",
      "Modelling tides using FES2014, FES2012, TPXO8-atlas-v1, TPXO9-atlas-v5, EOT20, HAMTIDE11, GOT4.10 in parallel\n",
      "100%|███████████████████████████████████████████| 35/35 [00:21<00:00,  1.60it/s]\n",
      "Returning low resolution tide array\n",
      "Generating ensemble tide model from point inputs\n",
      "2023-12-07 05:00:27 INFO Study area x99y118: Masking nodata and adding tide heights to satellite data array\n",
      "2023-12-07 05:00:45 INFO Study area x99y118: Flattening satellite data array and filtering to intertidal candidate pixels\n",
      "2023-12-07 05:00:45 INFO Study area x99y118: Applying valid data mask to constrain study area\n",
      "Reducing analysed pixels from 10240000 to 763530 (7.46%)\n",
      "2023-12-07 05:03:11 INFO Study area x99y118: Running per-pixel rolling median\n",
      "100%|█████████████████████████████████████████| 105/105 [13:47<00:00,  7.88s/it]\n",
      "2023-12-07 05:17:18 INFO Study area x99y118: Modelling intertidal elevation\n",
      "Applying tidal interval interpolation to 200 intervals\n",
      "Applying rolling mean smoothing with radius 20\n",
      "2023-12-07 05:17:27 INFO Study area x99y118: Modelling intertidal uncertainty\n",
      "2023-12-07 05:17:45,775 - distributed.utils_perf - WARNING - full garbage collections took 27% CPU time recently (threshold: 10%)\n",
      "2023-12-07 05:17:46,657 - distributed.utils_perf - WARNING - full garbage collections took 28% CPU time recently (threshold: 10%)\n",
      "2023-12-07 05:17:47,673 - distributed.utils_perf - WARNING - full garbage collections took 28% CPU time recently (threshold: 10%)\n",
      "2023-12-07 05:17:56,065 - distributed.utils_perf - WARNING - full garbage collections took 25% CPU time recently (threshold: 10%)\n",
      "2023-12-07 05:17:56,564 - distributed.utils_perf - WARNING - full garbage collections took 25% CPU time recently (threshold: 10%)\n",
      "2023-12-07 05:17:57,091 - distributed.utils_perf - WARNING - full garbage collections took 26% CPU time recently (threshold: 10%)\n",
      "2023-12-07 05:17:57,656 - distributed.utils_perf - WARNING - full garbage collections took 36% CPU time recently (threshold: 10%)\n",
      "2023-12-07 05:17:58,271 - distributed.utils_perf - WARNING - full garbage collections took 37% CPU time recently (threshold: 10%)\n",
      "2023-12-07 05:17:58,945 - distributed.utils_perf - WARNING - full garbage collections took 37% CPU time recently (threshold: 10%)\n",
      "2023-12-07 05:17:59,685 - distributed.utils_perf - WARNING - full garbage collections took 53% CPU time recently (threshold: 10%)\n",
      "2023-12-07 05:18:00,529 - distributed.utils_perf - WARNING - full garbage collections took 54% CPU time recently (threshold: 10%)\n",
      "2023-12-07 05:18:01,492 - distributed.utils_perf - WARNING - full garbage collections took 55% CPU time recently (threshold: 10%)\n",
      "2023-12-07 05:18:02,592 - distributed.utils_perf - WARNING - full garbage collections took 55% CPU time recently (threshold: 10%)\n",
      "2023-12-07 05:18:07,919 - distributed.utils_perf - WARNING - full garbage collections took 47% CPU time recently (threshold: 10%)\n",
      "2023-12-07 05:18:08,412 - distributed.utils_perf - WARNING - full garbage collections took 48% CPU time recently (threshold: 10%)\n",
      "2023-12-07 05:18:08,980 - distributed.utils_perf - WARNING - full garbage collections took 48% CPU time recently (threshold: 10%)\n",
      "2023-12-07 05:18:09,635 - distributed.utils_perf - WARNING - full garbage collections took 48% CPU time recently (threshold: 10%)\n",
      "2023-12-07 05:18:10,418 - distributed.utils_perf - WARNING - full garbage collections took 48% CPU time recently (threshold: 10%)\n",
      "2023-12-07 05:18:11,324 - distributed.utils_perf - WARNING - full garbage collections took 49% CPU time recently (threshold: 10%)\n",
      "2023-12-07 05:18:21 INFO Study area x99y118: Unflattening data back to its original spatial dimensions\n",
      "2023-12-07 05:18:22 INFO Study area x99y118: Cleaning inaccurate upper intertidal pixels\n",
      "2023-12-07 05:18:22 INFO Study area x99y118: Successfully completed intertidal elevation modelling\n",
      "2023-12-07 05:18:22 INFO Study area x99y118: Calculating Intertidal Extents\n",
      "2023-12-07 05:18:28 INFO Study area x99y118: Skipping Exposure and spread/offsets/tidelines calculation\n",
      "2023-12-07 05:18:28 INFO Study area x99y118: Exporting output GeoTIFFs to data/interim/x99y118/2019-2021-spearman\n",
      "2023-12-07 05:18:30 INFO Study area x99y118: Exporting debugging GeoTIFFs to data/interim/x99y118/2019-2021-spearman\n",
      "\u001b[0m2023-12-07 05:18:36 INFO Study area x99y118: Completed DEA Intertidal workflow\n",
      "\u001b[0m2019 2021\n",
      "x98y118\n",
      "2023-12-07 05:18:43 INFO Study area x98y118: Loading satellite data\n",
      "<Client: 'tcp://127.0.0.1:33341' processes=1 threads=31, memory=237.21 GiB>\n",
      "/env/lib/python3.10/site-packages/rasterio/warp.py:344: NotGeoreferencedWarning: Dataset has no geotransform, gcps, or rpcs. The identity matrix will be returned.\n",
      "  _reproject(\n",
      "/env/lib/python3.10/site-packages/rasterio/warp.py:344: NotGeoreferencedWarning: Dataset has no geotransform, gcps, or rpcs. The identity matrix will be returned.\n",
      "  _reproject(\n",
      "2023-12-07 05:21:56 INFO Study area x98y118: Calculating Intertidal Elevation\n",
      "2023-12-07 05:21:56 INFO Study area x98y118: Modelling tide heights for each pixel\n",
      "Creating reduced resolution 3000 x 3000 metre tide modelling array\n",
      "Modelling tides using FES2014, FES2012, TPXO8-atlas-v1, TPXO9-atlas-v5, EOT20, HAMTIDE11, GOT4.10 in parallel\n",
      "100%|███████████████████████████████████████████| 35/35 [00:21<00:00,  1.66it/s]\n",
      "Returning low resolution tide array\n",
      "Generating ensemble tide model from point inputs\n",
      "2023-12-07 05:23:10 INFO Study area x98y118: Masking nodata and adding tide heights to satellite data array\n",
      "2023-12-07 05:23:23 INFO Study area x98y118: Flattening satellite data array and filtering to intertidal candidate pixels\n",
      "2023-12-07 05:23:23 INFO Study area x98y118: Applying valid data mask to constrain study area\n",
      "Reducing analysed pixels from 10240000 to 150430 (1.47%)\n",
      "2023-12-07 05:24:47 INFO Study area x98y118: Running per-pixel rolling median\n",
      "100%|█████████████████████████████████████████| 105/105 [01:59<00:00,  1.14s/it]\n",
      "2023-12-07 05:26:54 INFO Study area x98y118: Modelling intertidal elevation\n",
      "Applying tidal interval interpolation to 200 intervals\n",
      "Applying rolling mean smoothing with radius 20\n",
      "2023-12-07 05:26:55 INFO Study area x98y118: Modelling intertidal uncertainty\n",
      "2023-12-07 05:27:24,749 - distributed.utils_perf - WARNING - full garbage collections took 44% CPU time recently (threshold: 10%)\n",
      "2023-12-07 05:27:25,072 - distributed.utils_perf - WARNING - full garbage collections took 48% CPU time recently (threshold: 10%)\n",
      "2023-12-07 05:27:25,416 - distributed.utils_perf - WARNING - full garbage collections took 51% CPU time recently (threshold: 10%)\n",
      "2023-12-07 05:27:25,786 - distributed.utils_perf - WARNING - full garbage collections took 51% CPU time recently (threshold: 10%)\n",
      "2023-12-07 05:27:26,226 - distributed.utils_perf - WARNING - full garbage collections took 51% CPU time recently (threshold: 10%)\n",
      "2023-12-07 05:27:26,719 - distributed.utils_perf - WARNING - full garbage collections took 51% CPU time recently (threshold: 10%)\n",
      "2023-12-07 05:27:27,288 - distributed.utils_perf - WARNING - full garbage collections took 54% CPU time recently (threshold: 10%)\n",
      "2023-12-07 05:27:27,922 - distributed.utils_perf - WARNING - full garbage collections took 54% CPU time recently (threshold: 10%)\n",
      "2023-12-07 05:27:28,650 - distributed.utils_perf - WARNING - full garbage collections took 54% CPU time recently (threshold: 10%)\n",
      "2023-12-07 05:27:29,492 - distributed.utils_perf - WARNING - full garbage collections took 54% CPU time recently (threshold: 10%)\n",
      "2023-12-07 05:27:30,472 - distributed.utils_perf - WARNING - full garbage collections took 55% CPU time recently (threshold: 10%)\n",
      "2023-12-07 05:27:40 INFO Study area x98y118: Unflattening data back to its original spatial dimensions\n",
      "2023-12-07 05:27:41 INFO Study area x98y118: Cleaning inaccurate upper intertidal pixels\n",
      "2023-12-07 05:27:41 INFO Study area x98y118: Successfully completed intertidal elevation modelling\n",
      "2023-12-07 05:27:41 INFO Study area x98y118: Calculating Intertidal Extents\n",
      "2023-12-07 05:27:44 INFO Study area x98y118: Skipping Exposure and spread/offsets/tidelines calculation\n",
      "2023-12-07 05:27:44 INFO Study area x98y118: Exporting output GeoTIFFs to data/interim/x98y118/2019-2021-spearman\n",
      "2023-12-07 05:27:46 INFO Study area x98y118: Exporting debugging GeoTIFFs to data/interim/x98y118/2019-2021-spearman\n",
      "\u001b[0m2023-12-07 05:27:50 INFO Study area x98y118: Completed DEA Intertidal workflow\n",
      "\u001b[0m2019 2021\n",
      "x100y117\n",
      "2023-12-07 05:27:56 INFO Study area x100y117: Loading satellite data\n",
      "<Client: 'tcp://127.0.0.1:36607' processes=1 threads=31, memory=237.21 GiB>\n",
      "/env/lib/python3.10/site-packages/rasterio/warp.py:344: NotGeoreferencedWarning: Dataset has no geotransform, gcps, or rpcs. The identity matrix will be returned.\n",
      "  _reproject(\n",
      "2023-12-07 05:32:31 INFO Study area x100y117: Calculating Intertidal Elevation\n",
      "2023-12-07 05:32:31 INFO Study area x100y117: Modelling tide heights for each pixel\n",
      "Creating reduced resolution 3000 x 3000 metre tide modelling array\n",
      "Modelling tides using FES2014, FES2012, TPXO8-atlas-v1, TPXO9-atlas-v5, EOT20, HAMTIDE11, GOT4.10 in parallel\n",
      "100%|███████████████████████████████████████████| 35/35 [00:18<00:00,  1.85it/s]\n",
      "Returning low resolution tide array\n",
      "Generating ensemble tide model from point inputs\n",
      "2023-12-07 05:33:25 INFO Study area x100y117: Masking nodata and adding tide heights to satellite data array\n",
      "2023-12-07 05:33:41 INFO Study area x100y117: Flattening satellite data array and filtering to intertidal candidate pixels\n",
      "2023-12-07 05:33:41 INFO Study area x100y117: Applying valid data mask to constrain study area\n",
      "Reducing analysed pixels from 10240000 to 453493 (4.43%)\n",
      "2023-12-07 05:36:34 INFO Study area x100y117: Running per-pixel rolling median\n",
      "100%|█████████████████████████████████████████| 105/105 [08:00<00:00,  4.58s/it]\n",
      "2023-12-07 05:44:51 INFO Study area x100y117: Modelling intertidal elevation\n",
      "Applying tidal interval interpolation to 200 intervals\n",
      "Applying rolling mean smoothing with radius 20\n",
      "2023-12-07 05:44:57 INFO Study area x100y117: Modelling intertidal uncertainty\n",
      "2023-12-07 05:45:14,525 - distributed.utils_perf - WARNING - full garbage collections took 32% CPU time recently (threshold: 10%)\n",
      "2023-12-07 05:45:15,837 - distributed.utils_perf - WARNING - full garbage collections took 32% CPU time recently (threshold: 10%)\n",
      "2023-12-07 05:45:16,116 - distributed.utils_perf - WARNING - full garbage collections took 32% CPU time recently (threshold: 10%)\n",
      "2023-12-07 05:45:16,429 - distributed.utils_perf - WARNING - full garbage collections took 32% CPU time recently (threshold: 10%)\n",
      "2023-12-07 05:45:16,780 - distributed.utils_perf - WARNING - full garbage collections took 44% CPU time recently (threshold: 10%)\n",
      "2023-12-07 05:45:17,160 - distributed.utils_perf - WARNING - full garbage collections took 44% CPU time recently (threshold: 10%)\n",
      "2023-12-07 05:45:24,763 - distributed.utils_perf - WARNING - full garbage collections took 35% CPU time recently (threshold: 10%)\n",
      "2023-12-07 05:45:25,197 - distributed.utils_perf - WARNING - full garbage collections took 45% CPU time recently (threshold: 10%)\n",
      "2023-12-07 05:45:25,651 - distributed.utils_perf - WARNING - full garbage collections took 46% CPU time recently (threshold: 10%)\n",
      "2023-12-07 05:45:26,131 - distributed.utils_perf - WARNING - full garbage collections took 46% CPU time recently (threshold: 10%)\n",
      "2023-12-07 05:45:26,642 - distributed.utils_perf - WARNING - full garbage collections took 47% CPU time recently (threshold: 10%)\n",
      "2023-12-07 05:45:27,194 - distributed.utils_perf - WARNING - full garbage collections took 47% CPU time recently (threshold: 10%)\n",
      "2023-12-07 05:45:27,808 - distributed.utils_perf - WARNING - full garbage collections took 48% CPU time recently (threshold: 10%)\n",
      "2023-12-07 05:45:28,469 - distributed.utils_perf - WARNING - full garbage collections took 51% CPU time recently (threshold: 10%)\n",
      "2023-12-07 05:45:29,212 - distributed.utils_perf - WARNING - full garbage collections took 52% CPU time recently (threshold: 10%)\n",
      "2023-12-07 05:45:30,053 - distributed.utils_perf - WARNING - full garbage collections took 52% CPU time recently (threshold: 10%)\n",
      "2023-12-07 05:45:31,018 - distributed.utils_perf - WARNING - full garbage collections took 53% CPU time recently (threshold: 10%)\n",
      "2023-12-07 05:45:35,696 - distributed.utils_perf - WARNING - full garbage collections took 45% CPU time recently (threshold: 10%)\n",
      "2023-12-07 05:45:35,935 - distributed.utils_perf - WARNING - full garbage collections took 45% CPU time recently (threshold: 10%)\n",
      "2023-12-07 05:45:36,193 - distributed.utils_perf - WARNING - full garbage collections took 44% CPU time recently (threshold: 10%)\n",
      "2023-12-07 05:45:36,475 - distributed.utils_perf - WARNING - full garbage collections took 48% CPU time recently (threshold: 10%)\n",
      "2023-12-07 05:45:36,784 - distributed.utils_perf - WARNING - full garbage collections took 48% CPU time recently (threshold: 10%)\n",
      "2023-12-07 05:45:37,128 - distributed.utils_perf - WARNING - full garbage collections took 48% CPU time recently (threshold: 10%)\n",
      "2023-12-07 05:45:37,537 - distributed.utils_perf - WARNING - full garbage collections took 49% CPU time recently (threshold: 10%)\n",
      "2023-12-07 05:45:38,028 - distributed.utils_perf - WARNING - full garbage collections took 49% CPU time recently (threshold: 10%)\n",
      "2023-12-07 05:45:38,595 - distributed.utils_perf - WARNING - full garbage collections took 49% CPU time recently (threshold: 10%)\n",
      "2023-12-07 05:45:39,257 - distributed.utils_perf - WARNING - full garbage collections took 49% CPU time recently (threshold: 10%)\n",
      "2023-12-07 05:45:40,037 - distributed.utils_perf - WARNING - full garbage collections took 49% CPU time recently (threshold: 10%)\n",
      "2023-12-07 05:45:40,959 - distributed.utils_perf - WARNING - full garbage collections took 49% CPU time recently (threshold: 10%)\n",
      "2023-12-07 05:45:51 INFO Study area x100y117: Unflattening data back to its original spatial dimensions\n",
      "2023-12-07 05:45:52 INFO Study area x100y117: Cleaning inaccurate upper intertidal pixels\n",
      "2023-12-07 05:45:52 INFO Study area x100y117: Successfully completed intertidal elevation modelling\n",
      "2023-12-07 05:45:52 INFO Study area x100y117: Calculating Intertidal Extents\n",
      "2023-12-07 05:45:56 INFO Study area x100y117: Skipping Exposure and spread/offsets/tidelines calculation\n",
      "2023-12-07 05:45:56 INFO Study area x100y117: Exporting output GeoTIFFs to data/interim/x100y117/2019-2021-spearman\n",
      "2023-12-07 05:45:59 INFO Study area x100y117: Exporting debugging GeoTIFFs to data/interim/x100y117/2019-2021-spearman\n",
      "\u001b[0m2023-12-07 05:46:05 INFO Study area x100y117: Completed DEA Intertidal workflow\n",
      "\u001b[0m2019 2021\n",
      "x99y117\n",
      "2023-12-07 05:46:11 INFO Study area x99y117: Loading satellite data\n",
      "<Client: 'tcp://127.0.0.1:45969' processes=1 threads=31, memory=237.21 GiB>\n",
      "/env/lib/python3.10/site-packages/rasterio/warp.py:344: NotGeoreferencedWarning: Dataset has no geotransform, gcps, or rpcs. The identity matrix will be returned.\n",
      "  _reproject(\n",
      "2023-12-07 05:50:24 INFO Study area x99y117: Calculating Intertidal Elevation\n",
      "2023-12-07 05:50:24 INFO Study area x99y117: Modelling tide heights for each pixel\n",
      "Creating reduced resolution 3000 x 3000 metre tide modelling array\n",
      "Modelling tides using FES2014, FES2012, TPXO8-atlas-v1, TPXO9-atlas-v5, EOT20, HAMTIDE11, GOT4.10 in parallel\n",
      "100%|███████████████████████████████████████████| 35/35 [00:19<00:00,  1.83it/s]\n",
      "Returning low resolution tide array\n",
      "Generating ensemble tide model from point inputs\n",
      "2023-12-07 05:51:47 INFO Study area x99y117: Masking nodata and adding tide heights to satellite data array\n",
      "2023-12-07 05:52:04 INFO Study area x99y117: Flattening satellite data array and filtering to intertidal candidate pixels\n",
      "2023-12-07 05:52:04 INFO Study area x99y117: Applying valid data mask to constrain study area\n",
      "Reducing analysed pixels from 10240000 to 179586 (1.75%)\n",
      "2023-12-07 05:54:11 INFO Study area x99y117: Running per-pixel rolling median\n",
      "100%|█████████████████████████████████████████| 105/105 [03:12<00:00,  1.84s/it]\n",
      "2023-12-07 05:57:33 INFO Study area x99y117: Modelling intertidal elevation\n",
      "Applying tidal interval interpolation to 200 intervals\n",
      "Applying rolling mean smoothing with radius 20\n",
      "2023-12-07 05:57:35 INFO Study area x99y117: Modelling intertidal uncertainty\n",
      "2023-12-07 05:58:04,688 - distributed.utils_perf - WARNING - full garbage collections took 39% CPU time recently (threshold: 10%)\n",
      "2023-12-07 05:58:05,106 - distributed.utils_perf - WARNING - full garbage collections took 39% CPU time recently (threshold: 10%)\n",
      "2023-12-07 05:58:05,591 - distributed.utils_perf - WARNING - full garbage collections took 43% CPU time recently (threshold: 10%)\n",
      "2023-12-07 05:58:06,142 - distributed.utils_perf - WARNING - full garbage collections took 47% CPU time recently (threshold: 10%)\n",
      "2023-12-07 05:58:06,777 - distributed.utils_perf - WARNING - full garbage collections took 48% CPU time recently (threshold: 10%)\n",
      "2023-12-07 05:58:07,511 - distributed.utils_perf - WARNING - full garbage collections took 48% CPU time recently (threshold: 10%)\n",
      "2023-12-07 05:58:08,376 - distributed.utils_perf - WARNING - full garbage collections took 49% CPU time recently (threshold: 10%)\n",
      "2023-12-07 05:58:09,398 - distributed.utils_perf - WARNING - full garbage collections took 49% CPU time recently (threshold: 10%)\n",
      "2023-12-07 05:58:19 INFO Study area x99y117: Unflattening data back to its original spatial dimensions\n",
      "2023-12-07 05:58:20 INFO Study area x99y117: Cleaning inaccurate upper intertidal pixels\n",
      "2023-12-07 05:58:20 INFO Study area x99y117: Successfully completed intertidal elevation modelling\n",
      "2023-12-07 05:58:20 INFO Study area x99y117: Calculating Intertidal Extents\n",
      "2023-12-07 05:58:23 INFO Study area x99y117: Skipping Exposure and spread/offsets/tidelines calculation\n",
      "2023-12-07 05:58:23 INFO Study area x99y117: Exporting output GeoTIFFs to data/interim/x99y117/2019-2021-spearman\n",
      "2023-12-07 05:58:26 INFO Study area x99y117: Exporting debugging GeoTIFFs to data/interim/x99y117/2019-2021-spearman\n",
      "\u001b[0m2023-12-07 05:58:31 INFO Study area x99y117: Completed DEA Intertidal workflow\n",
      "\u001b[0m"
     ]
    }
   ],
   "source": [
    "# study_area_list = [\"x139y96\", \"x139y95\", \"x139y94\", \"x139y93\", \"x139y92\", \"x139y91\", \"x140y91\", \"x141y91\"]\n",
    "study_area_list = [\"x99y118\", \"x98y118\", \"x100y117\", \"x99y117\"]\n",
    "# study_area_list = []\n",
    "\n",
    "epoch_list = [\n",
    "    # (\"2016\", \"2018\"),\n",
    "    # (\"2017\", \"2019\"),\n",
    "    # (\"2018\", \"2020\"),\n",
    "    # (\"2019\", \"2019\"),\n",
    "    (\"2019\", \"2021\"),\n",
    "]\n",
    "\n",
    "for tile in study_area_list:\n",
    "    for start_date, end_date in epoch_list:\n",
    "        print(start_date, end_date)\n",
    "        print(tile)\n",
    "        try:\n",
    "            !python -m intertidal.elevation --study_area {tile} --start_date {start_date} --end_date {end_date} --modelled_freq {modelled_freq} {exposure_offsets} {output_auxiliaries} --tide_model {tide_model} --tide_model_dir {tide_model_dir}\n",
    "        except:\n",
    "            pass"
   ]
  },
  {
   "cell_type": "markdown",
   "id": "e9a7aa51-aed7-4291-af12-515f73e59755",
   "metadata": {},
   "source": [
    "## DEA Intertidal Composites CLI\n",
    "\n",
    "This CLI allows you to generate the following DEA Intertidal layers with a single command line call:\n",
    "\n",
    "* **DEA Intertidal Composites** (producing low and high tide geomedian outputs)\n",
    "\n",
    "Running `--help` shows all the CLI parameters that can be used to customise the analysis:"
   ]
  },
  {
   "cell_type": "code",
   "execution_count": null,
   "id": "1e885ff2-d431-42de-9ce3-5223c748b8f8",
   "metadata": {
    "tags": []
   },
   "outputs": [],
   "source": [
    "!python -m intertidal.composites --help"
   ]
  },
  {
   "cell_type": "markdown",
   "id": "c9b351da-2a04-463e-a5fb-f140a5048741",
   "metadata": {},
   "source": [
    "### Run DEA Intertidal Composites CLI for a single epoch\n",
    "This will run an entire DEA Intertidal Composites analysis from start to finish:"
   ]
  },
  {
   "cell_type": "code",
   "execution_count": null,
   "id": "03f7606a-add3-4673-a2aa-de5bd039418b",
   "metadata": {
    "tags": []
   },
   "outputs": [],
   "source": [
    "%%time\n",
    "!python -m intertidal.composites --study_area {study_area} --start_date {start_date} --end_date {end_date} --threshold_lowtide {threshold_lowtide} --threshold_hightide {threshold_hightide}"
   ]
  },
  {
   "cell_type": "markdown",
   "id": "d7db1fe7-7cab-4543-8e35-79587284a4c3",
   "metadata": {
    "tags": []
   },
   "source": [
    "## Run DEA Intertidal CLIs for multiple epochs\n",
    "This will run an entire DEA Intertidal and DEA Intertidal Composites analysis from start to finish for several epochs:"
   ]
  },
  {
   "cell_type": "code",
   "execution_count": null,
   "id": "16ab31f6-2490-4159-90ba-2849e1eb3fac",
   "metadata": {},
   "outputs": [],
   "source": [
    "epoch_list = [\n",
    "    # (\"2016\", \"2018\"),\n",
    "    # (\"2018\", \"2020\"),\n",
    "    (\"2019\", \"2021\"),\n",
    "    # (\"2020\", \"2022\"),\n",
    "]\n",
    "\n",
    "for start_date, end_date in epoch_list:\n",
    "    print(start_date, end_date)\n",
    "    !python -m intertidal.elevation --config_path {config_path} --study_area {study_area} --start_date {start_date} --end_date {end_date} --modelled_freq {modelled_freq} --tideline_offset_distance {tideline_offset_distance} {exposure_offsets} {output_auxiliaries}\n",
    "    !python -m intertidal.composites --config_path {config_path} --study_area {study_area} --start_date {start_date} --end_date {end_date} --threshold_lowtide {threshold_lowtide} --threshold_hightide {threshold_hightide}"
   ]
  },
  {
   "cell_type": "code",
   "execution_count": null,
   "id": "362dd600-9cb2-415d-bf7b-331bc22d7e95",
   "metadata": {},
   "outputs": [],
   "source": []
  }
 ],
 "metadata": {
  "kernelspec": {
   "display_name": "Python 3 (ipykernel)",
   "language": "python",
   "name": "python3"
  },
  "language_info": {
   "codemirror_mode": {
    "name": "ipython",
    "version": 3
   },
   "file_extension": ".py",
   "mimetype": "text/x-python",
   "name": "python",
   "nbconvert_exporter": "python",
   "pygments_lexer": "ipython3",
   "version": "3.10.13"
  },
  "widgets": {
   "application/vnd.jupyter.widget-state+json": {
    "state": {},
    "version_major": 2,
    "version_minor": 0
   }
  }
 },
 "nbformat": 4,
 "nbformat_minor": 5
}

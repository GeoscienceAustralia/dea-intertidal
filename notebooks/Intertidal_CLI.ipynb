{
 "cells": [
  {
   "cell_type": "markdown",
   "id": "ccccdf10-6065-4f91-8725-d3233ebbe6d4",
   "metadata": {
    "tags": []
   },
   "source": [
    "# Digital Earth Australia Intertidal Command Line Interfaces (CLI)\n",
    "\n",
    "This notebook demonstrates how to call the DEA Intertidal and DEA Intertidal Composites workflows via their Command Line Interface utilities. \n",
    "This allows you to run an entire DEA Intertidal Analysis using a single line of code.\n",
    "\n",
    "## Getting started\n",
    "Set working directory to top level of repo to ensure links work correctly:"
   ]
  },
  {
   "cell_type": "code",
   "execution_count": 1,
   "id": "3cdd49c0-fef3-4b10-9d45-d28c41755e12",
   "metadata": {},
   "outputs": [
    {
     "name": "stdout",
     "output_type": "stream",
     "text": [
      "/home/jovyan/dea_intertidal/dea-intertidal\n"
     ]
    }
   ],
   "source": [
    "cd .."
   ]
  },
  {
   "cell_type": "markdown",
   "id": "9e0e6a00-0c55-4ec3-881f-4cdd32899772",
   "metadata": {},
   "source": [
    "Install additional packages directly from the requirements file"
   ]
  },
  {
   "cell_type": "code",
   "execution_count": 2,
   "id": "924876a7-a415-4d65-81c4-5e5cd7b7b53d",
   "metadata": {},
   "outputs": [],
   "source": [
    "# pip install -r requirements.in --quiet"
   ]
  },
  {
   "cell_type": "markdown",
   "id": "bd675e30-92c7-494f-9f16-2ea0ae1de32f",
   "metadata": {
    "tags": []
   },
   "source": [
    "## Setup\n"
   ]
  },
  {
   "cell_type": "markdown",
   "id": "3fbdf7a0-4daa-49c1-a3f7-3e0bd0e38560",
   "metadata": {
    "tags": []
   },
   "source": [
    "### Set analysis parameters\n",
    "Sets the 32 km coastal grid cell to analyse, the config file, start and end dates, and other more specific parameters. "
   ]
  },
  {
   "cell_type": "code",
   "execution_count": 7,
   "id": "58c0e260-cd76-45d9-9dc3-5e4294be31c6",
   "metadata": {},
   "outputs": [],
   "source": [
    "# General params\n",
    "study_area = '776'\n",
    "config_path = 'configs/dea_intertidal_config_studyareas.yaml'\n",
    "# study_area = 'carnarvon_test'\n",
    "# config_path = 'configs/dea_intertidal_config_development.yaml'\n",
    "start_date = '2019'\n",
    "end_date = '2021'\n",
    "\n",
    "# Intertidal Exposure params\n",
    "modelled_freq = '30min'\n",
    "tideline_offset_distance = 1000\n",
    "\n",
    "# Intertidal Composites params\n",
    "threshold_lowtide = 0.2\n",
    "threshold_hightide = 0.8\n",
    "\n",
    "# Additional flags optionally turning exposure/offset calculation off\n",
    "# for testing elevation code, and outputting optional auxiliary outputs\n",
    "# for debugging (defaults are to calculate exposure/offsets, and not\n",
    "# output auxiliary files.\n",
    "exposure_offsets = \"\"\n",
    "output_auxiliaries = \"--output_auxiliaries\""
   ]
  },
  {
   "cell_type": "markdown",
   "id": "cd538aa3-7716-443b-a10d-6d35e7e61597",
   "metadata": {},
   "source": [
    "## DEA Intertidal CLI\n",
    "This CLI allows you to generate the following DEA Intertidal layers with a single command line call:\n",
    "* **DEA Intertidal Elevation**\n",
    "* **DEA Intertidal Exposure**\n",
    "* **DEA Intertidal Extents**\n",
    "* **DEA Intertidal spread, offsets, HOT, LOT, HAT, LAT**\n",
    "* **DEA Intertidal tidelines and tidal offset points**\n",
    "\n",
    "Running `--help` shows all the CLI parameters that can be used to customise the analysis:"
   ]
  },
  {
   "cell_type": "code",
   "execution_count": 8,
   "id": "0ef38032-e7e1-4090-b89c-c236d573e3a8",
   "metadata": {},
   "outputs": [],
   "source": [
    "# !python -m intertidal.elevation --help"
   ]
  },
  {
   "cell_type": "markdown",
   "id": "4a056759-7ec9-473d-8a60-9a7b95f122cd",
   "metadata": {},
   "source": [
    "### Run DEA Intertidal CLI for a single epoch\n",
    "This will run an entire DEA Intertidal analysis from start to finish:"
   ]
  },
  {
   "cell_type": "code",
   "execution_count": 9,
   "id": "1da1e270-43bd-4a11-9d5b-6be26cb1a74f",
   "metadata": {},
   "outputs": [
    {
     "name": "stdout",
     "output_type": "stream",
     "text": [
      "<Client: 'tcp://127.0.0.1:33611' processes=1 threads=94, memory=697.21 GiB>\n",
      "2023-05-26 05:51:05 INFO Study area 776: Loaded study area grid\n",
      "2023-05-26 05:51:05 INFO Study area 776: Loading satellite data\n",
      "/env/lib/python3.8/site-packages/rasterio/warp.py:344: NotGeoreferencedWarning: Dataset has no geotransform, gcps, or rpcs. The identity matrix will be returned.\n",
      "  _reproject(\n",
      "/env/lib/python3.8/site-packages/rasterio/warp.py:344: NotGeoreferencedWarning: Dataset has no geotransform, gcps, or rpcs. The identity matrix will be returned.\n",
      "  _reproject(\n",
      "2023-05-26 05:57:23 INFO Study area 776: Modelling tide heights for each pixel\n",
      "Creating reduced resolution 5000 x 5000 metre tide modelling array\n",
      "Modelling tides using FES2014 tide model\n",
      "Reprojecting tides into original array\n",
      "100%|█████████████████████████████████████████| 323/323 [00:18<00:00, 17.33it/s]\n",
      "2023-05-26 05:58:11 INFO Study area 776: Masking nodata and adding tide heights to satellite data array\n",
      "2023-05-26 05:58:22 INFO Study area 776: Flattening satellite data array and filtering to intertidal candidate pixels\n",
      "Reducing analysed pixels from 8072922 to 56074 (0.69%)\n",
      "2023-05-26 05:59:07 INFO Study area 776: Running per-pixel rolling median\n",
      "100%|█████████████████████████████████████████| 114/114 [00:42<00:00,  2.71it/s]\n",
      "2023-05-26 06:00:05 INFO Study area 776: Modelling intertidal elevation\n",
      "2023-05-26 06:00:05 INFO Study area 776: Modelling intertidal uncertainty\n",
      "2023-05-26 06:00:43 INFO Study area 776: Unflattening data back to its original spatial dimensions\n",
      "2023-05-26 06:00:44 INFO Study area 776: Successfully completed intertidal elevation modelling\n",
      "2023-05-26 06:00:44 INFO Study area 776: Calculating Extents layer\n",
      "2023-05-26 06:00:47 INFO Study area 776: Calculating Exposure layer\n",
      "Creating reduced resolution 5000 x 5000 metre tide modelling array\n",
      "Modelling tides using FES2014 tide model\n",
      "Computing tide quantiles\n",
      "Reprojecting tides into original array\n",
      "100%|█████████████████████████████████████████| 101/101 [00:12<00:00,  8.02it/s]\n",
      "2023-05-26 06:06:07 INFO Study area 776: Calculating spread, offset and HAT/LAT/LOT/HOT layers\n",
      "2023-05-26 06:06:30 INFO Study area 776: Exporting output GeoTIFFs to data/interim/776\n",
      "2023-05-26 06:06:33 INFO Study area 776: Exporting debugging GeoTIFFs to data/interim/776\n",
      "2023-05-26 06:06:35 INFO Study area 776: Completed DEA Intertidal workflow\n",
      "CPU times: user 13.3 s, sys: 2.01 s, total: 15.3 s\n",
      "Wall time: 15min 37s\n"
     ]
    }
   ],
   "source": [
    "%%time\n",
    "!python -m intertidal.elevation --config_path {config_path} --study_area {study_area} --start_date {start_date} --end_date {end_date} --modelled_freq {modelled_freq} --tideline_offset_distance {tideline_offset_distance} {exposure_offsets} {output_auxiliaries}"
   ]
  },
  {
   "cell_type": "markdown",
   "id": "dc1dc57d-c974-4025-b26e-d70a0d343c8d",
   "metadata": {},
   "source": [
    "### Run DEA Intertidal CLI for a single epoch with multiple tiles\n",
    "This will run an entire DEA Intertidal analysis from start to finish:"
   ]
  },
  {
   "cell_type": "code",
   "execution_count": null,
   "id": "a4360be6-aa30-4542-a7fb-9ddff664bde3",
   "metadata": {},
   "outputs": [],
   "source": [
    "# Separated study area ids\n",
    "\n",
    "# Single timesteps (2019 - 2021)\n",
    "claire_ids =['107', '108', '109', '137', '138', '160', '161', '175', '176', '272', '273', '294', '295', '296', '318', '319', '297', '337', '338', '463', '464', '483', '477', '478', '494', '506', '507', '519', '638', '654', '655']#, '776']\n",
    "\n",
    "robbi_ids = ['669', '670', '728', '743', '746', '747', '764', '765', '766', '761', '762', '777', '767', '778', '793', '808', '814', '815', '832', '833', '836', '837', '843', '844', '851', '852', '850', '858', '859']\n",
    "\n",
    "ness_ids = ['860', '866', '867', '872', '876', '881', '883', '884', '887', '888', '892', '897', '976', '977', '986', '987', '996', '997', '1006', '1082', '1083', '1096', '1110', '1193', '1194', '1208', '1209', '1214', '1215', '1216', '1235']\n",
    "\n",
    "# timeseries tiles\n",
    "\n",
    "ts_ids =['832', '833', '477', '478', '808', '814', '815', '876', '881', '1193', '1194', '1208', '1209']"
   ]
  },
  {
   "cell_type": "code",
   "execution_count": null,
   "id": "9dcf7f21-41e0-4b4b-aaf3-2ab5fc5325d8",
   "metadata": {},
   "outputs": [],
   "source": [
    "study_area_list = claire_ids\n",
    "\n",
    "for tile in study_area_list:\n",
    "    print(tile)\n",
    "    !python -m intertidal.elevation --config_path {config_path} --study_area {tile} --start_date {start_date} --end_date {end_date} --modelled_freq {modelled_freq} --tideline_offset_distance {tideline_offset_distance} {exposure_offsets} {output_auxiliaries}"
   ]
  },
  {
   "cell_type": "markdown",
   "id": "e9a7aa51-aed7-4291-af12-515f73e59755",
   "metadata": {},
   "source": [
    "## DEA Intertidal Composites CLI\n",
    "\n",
    "This CLI allows you to generate the following DEA Intertidal layers with a single command line call:\n",
    "\n",
    "* **DEA Intertidal Composites** (producing low and high tide geomedian outputs)\n",
    "\n",
    "Running `--help` shows all the CLI parameters that can be used to customise the analysis:"
   ]
  },
  {
   "cell_type": "code",
   "execution_count": 5,
   "id": "1e885ff2-d431-42de-9ce3-5223c748b8f8",
   "metadata": {},
   "outputs": [
    {
     "name": "stdout",
     "output_type": "stream",
     "text": [
      "Usage: python -m intertidal.composites [OPTIONS]\n",
      "\n",
      "Options:\n",
      "  --config_path TEXT              Path to the YAML config file defining inputs\n",
      "                                  to use for this analysis. These are\n",
      "                                  typically located in the `dea-\n",
      "                                  intertidal/configs/` directory.  [required]\n",
      "  --study_area TEXT               A string providing a unique ID of an\n",
      "                                  analysis gridcell that will be used to run\n",
      "                                  the analysis. This should match a row in the\n",
      "                                  \"id\" column of the provided analysis\n",
      "                                  gridcell vector file.  [required]\n",
      "  --start_date TEXT               The start date of satellite data to load\n",
      "                                  from the datacube. This can be any date\n",
      "                                  format accepted by datacube.\n",
      "  --end_date TEXT                 The end date of satellite data to load from\n",
      "                                  the datacube. This can be any date format\n",
      "                                  accepted by datacube.\n",
      "  --resolution INTEGER            The spatial resolution in metres used to\n",
      "                                  load satellite data and produce intertidal\n",
      "                                  outputs. Defaults to 10 metre Sentinel-2\n",
      "                                  resolution.\n",
      "  --threshold_lowtide FLOAT       The percent or percentile used to identify\n",
      "                                  low tide observations. Defaults to 0.2.\n",
      "  --threshold_hightide FLOAT      The percent or percentile used to identify\n",
      "                                  high tide observations. Defaults to 0.8.\n",
      "  --aws_unsigned / --no-aws_unsigned\n",
      "                                  Whether to use sign AWS requests for S3\n",
      "                                  access\n",
      "  --help                          Show this message and exit.\n"
     ]
    }
   ],
   "source": [
    "!python -m intertidal.composites --help"
   ]
  },
  {
   "cell_type": "markdown",
   "id": "c9b351da-2a04-463e-a5fb-f140a5048741",
   "metadata": {},
   "source": [
    "### Run DEA Intertidal Composites CLI for a single epoch\n",
    "This will run an entire DEA Intertidal Composites analysis from start to finish:"
   ]
  },
  {
   "cell_type": "code",
   "execution_count": 3,
   "id": "03f7606a-add3-4673-a2aa-de5bd039418b",
   "metadata": {},
   "outputs": [
    {
     "name": "stdout",
     "output_type": "stream",
     "text": [
      "<Client: 'tcp://127.0.0.1:40713' processes=1 threads=94, memory=697.21 GiB>\n",
      "2023-05-25 05:40:02 INFO Study area 832: Loaded study area grid\n",
      "2023-05-25 05:40:02 INFO Study area 832: Loading satellite data\n",
      "2023-05-25 05:40:12 INFO Study area 832: Modelling tide heights for each pixel\n",
      "Creating reduced resolution 5000 x 5000 metre tide modelling array\n",
      "Modelling tides using FES2014 tide model\n",
      "Reprojecting tides into original array\n",
      "100%|█████████████████████████████████████████| 401/401 [00:18<00:00, 21.97it/s]\n",
      "2023-05-25 05:41:09 INFO Study area 832: Add tide heights to satellite data array\n",
      "2023-05-25 05:41:09 INFO Study area 832: Calculate low and high tide thresholds\n",
      "2023-05-25 05:42:15 INFO Study area 832: Masking to low and high tide observations\n",
      "2023-05-25 05:43:50 INFO Study area 832: Processing low tide geomedian\n",
      "/env/lib/python3.8/site-packages/rasterio/warp.py:344: NotGeoreferencedWarning: Dataset has no geotransform, gcps, or rpcs. The identity matrix will be returned.\n",
      "  _reproject(\n",
      "2023-05-25 05:48:10 INFO Study area 832: Processing high tide geomedian\n",
      "2023-05-25 05:52:34 INFO Study area 832: Exporting outputs GeoTIFFs to data/interim/832\n",
      "2023-05-25 05:52:47 INFO Study area 832: Completed DEA Intertidal composites workflow\n",
      "CPU times: user 9.57 s, sys: 1.58 s, total: 11.2 s\n",
      "Wall time: 12min 51s\n"
     ]
    }
   ],
   "source": [
    "%%time\n",
    "!python -m intertidal.composites --config_path {config_path} --study_area {study_area} --start_date {start_date} --end_date {end_date} --threshold_lowtide {threshold_lowtide} --threshold_hightide {threshold_hightide}"
   ]
  },
  {
   "cell_type": "markdown",
   "id": "d7db1fe7-7cab-4543-8e35-79587284a4c3",
   "metadata": {},
   "source": [
    "## Run DEA Intertidal CLIs for multiple epochs\n",
    "This will run an entire DEA Intertidal and DEA Intertidal Composites analysis from start to finish for several epochs:"
   ]
  },
  {
   "cell_type": "code",
   "execution_count": null,
   "id": "16ab31f6-2490-4159-90ba-2849e1eb3fac",
   "metadata": {},
   "outputs": [],
   "source": [
    "epoch_list = [\n",
    "    (\"2016\", \"2018\"),\n",
    "    # (\"2018\", \"2020\"),\n",
    "    # (\"2019\", \"2021\"),\n",
    "    # (\"2020\", \"2022\"),\n",
    "]\n",
    "\n",
    "for start_date, end_date in epoch_list:\n",
    "    print(start_date, end_date)\n",
    "    !python -m intertidal.elevation --config_path {config_path} --study_area {study_area} --start_date {start_date} --end_date {end_date} --modelled_freq {modelled_freq} --tideline_offset_distance {tideline_offset_distance} {exposure_offsets} {output_auxiliaries}\n",
    "    !python -m intertidal.composites --config_path {config_path} --study_area {study_area} --start_date {start_date} --end_date {end_date} --threshold_lowtide {threshold_lowtide} --threshold_hightide {threshold_hightide}"
   ]
  },
  {
   "cell_type": "code",
   "execution_count": null,
   "id": "362dd600-9cb2-415d-bf7b-331bc22d7e95",
   "metadata": {},
   "outputs": [],
   "source": []
  }
 ],
 "metadata": {
  "kernelspec": {
   "display_name": "Python 3 (ipykernel)",
   "language": "python",
   "name": "python3"
  },
  "language_info": {
   "codemirror_mode": {
    "name": "ipython",
    "version": 3
   },
   "file_extension": ".py",
   "mimetype": "text/x-python",
   "name": "python",
   "nbconvert_exporter": "python",
   "pygments_lexer": "ipython3",
   "version": "3.8.10"
  },
  "widgets": {
   "application/vnd.jupyter.widget-state+json": {
    "state": {},
    "version_major": 2,
    "version_minor": 0
   }
  }
 },
 "nbformat": 4,
 "nbformat_minor": 5
}

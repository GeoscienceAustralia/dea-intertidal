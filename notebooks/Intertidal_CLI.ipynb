{
 "cells": [
  {
   "cell_type": "markdown",
   "id": "dfda954d",
   "metadata": {
    "tags": []
   },
   "source": [
    "# Digital Earth Australia Intertidal Command Line Interfaces (CLI)\n",
    "\n",
    "This notebook demonstrates how to call the DEA Intertidal and DEA Intertidal Composites workflows via their Command Line Interface utilities. \n",
    "This allows you to run an entire DEA Intertidal Analysis using a single line of code.\n",
    "\n",
    "## Getting started\n",
    "Set working directory to top level of repo to ensure links work correctly:"
   ]
  },
  {
   "cell_type": "code",
   "execution_count": 1,
   "id": "4c1075a0",
   "metadata": {
    "tags": []
   },
   "outputs": [
    {
     "name": "stdout",
     "output_type": "stream",
     "text": [
      "/home/jovyan/Robbi/dea-intertidal\n"
     ]
    }
   ],
   "source": [
    "cd .."
   ]
  },
  {
   "cell_type": "markdown",
   "id": "42430d93",
   "metadata": {},
   "source": [
    "Install additional packages directly from the requirements file"
   ]
  },
  {
   "cell_type": "code",
   "execution_count": null,
   "id": "8f7bb11f",
   "metadata": {
    "tags": []
   },
   "outputs": [],
   "source": [
    "pip install -r requirements.in --quiet"
   ]
  },
  {
   "cell_type": "markdown",
   "id": "1bb02e20",
   "metadata": {
    "tags": []
   },
   "source": [
    "## Setup\n"
   ]
  },
  {
   "cell_type": "markdown",
   "id": "f66be0ef",
   "metadata": {
    "tags": []
   },
   "source": [
    "### Set analysis parameters\n",
    "Sets the 32 km coastal grid cell to analyse, the config file, start and end dates, and other more specific parameters. "
   ]
  },
  {
   "cell_type": "code",
   "execution_count": 2,
   "id": "0e979f2b",
   "metadata": {
    "tags": []
   },
   "outputs": [],
   "source": [
    "# General params\n",
    "study_area = \"testing\"  # \"x094y145\"  # To match the default 32 km tile GridSpec\n",
    "start_date = \"2020\"  # Start date for analysis\n",
    "label_date = \"2020\"  # Date used to label arrays\n",
    "end_date = \"2020\"  # End date for analysis\n",
    "tide_model = \"ensemble\"  # Tide model to use in analysis  \n",
    "tide_model_dir = \"/gdata1/data/tide_models_clipped\"  # Directory containing tide model files\n",
    "output_version = \"0.0.1\"  # Version number to label output files and metadata\n",
    "output_dir = \"data/processed/\"  # Path for output files, can also be e.g. \"s3://dea-public-data-dev/derivative/\"\n",
    "\n",
    "# Intertidal Exposure params\n",
    "modelled_freq = \"3h\"\n",
    "\n",
    "# Intertidal Composites params\n",
    "threshold_lowtide = 0.2\n",
    "threshold_hightide = 0.8\n",
    "\n",
    "# Additional flags optionally turning exposure/offset calculation off\n",
    "# for testing elevation code\n",
    "exposure_offsets = \"\"  # \"--no-exposure_offsets\"\n",
    "# output_auxiliaries = \"--output_auxiliaries\""
   ]
  },
  {
   "cell_type": "markdown",
   "id": "a1945634",
   "metadata": {},
   "source": [
    "## DEA Intertidal CLI\n",
    "This CLI allows you to generate the following DEA Intertidal layers with a single command line call:\n",
    "* **DEA Intertidal Elevation**\n",
    "* **DEA Intertidal Exposure**\n",
    "* **DEA Intertidal Extents**\n",
    "* **DEA Intertidal spread, offsets, HOT, LOT, HAT, LAT**\n",
    "\n",
    "Running `--help` shows all the CLI parameters that can be used to customise the analysis:"
   ]
  },
  {
   "cell_type": "code",
   "execution_count": null,
   "id": "415108cd",
   "metadata": {
    "tags": []
   },
   "outputs": [],
   "source": [
    "!python -m intertidal.elevation --help"
   ]
  },
  {
   "cell_type": "markdown",
   "id": "0dbc46d9",
   "metadata": {},
   "source": [
    "### Run DEA Intertidal CLI for a single epoch\n",
    "This will run an entire DEA Intertidal analysis from start to finish:"
   ]
  },
  {
   "cell_type": "code",
   "execution_count": 5,
   "id": "3f36e01e-a0d9-4525-a88a-8d89b669d527",
   "metadata": {
    "tags": []
   },
   "outputs": [
    {
     "name": "stdout",
     "output_type": "stream",
     "text": [
      "2024-09-20 05:49:15 INFO [0.0.1] [2020] [testing]: Using parameters {'study_area': 'testing', 'start_date': '2020', 'end_date': '2020', 'label_date': '2020', 'output_version': '0.0.1', 'output_dir': 'data/processed/', 'product_maturity': 'provisional', 'dataset_maturity': 'final', 'resolution': 10, 'ndwi_thresh': 0.1, 'min_freq': 0.01, 'max_freq': 0.99, 'min_correlation': 0.15, 'windows_n': 100, 'window_prop_tide': 0.15, 'correct_seasonality': False, 'tide_model': ('ensemble',), 'tide_model_dir': '/gdata1/data/tide_models_clipped', 'modelled_freq': '3h', 'exposure_offsets': True, 'aws_unsigned': True}\n",
      "2024-09-20 05:49:15 INFO [0.0.1] [2020] [testing]: Loading satellite data\n",
      "/env/lib/python3.10/site-packages/distributed/node.py:182: UserWarning: Port 8787 is already in use.\n",
      "Perhaps you already have a cluster running?\n",
      "Hosting the HTTP server on port 43085 instead\n",
      "  warnings.warn(\n",
      "<Client: 'tcp://127.0.0.1:39591' processes=1 threads=31, memory=237.21 GiB>\n",
      "2024-09-20 05:49:18 INFO [0.0.1] [2020] [testing]: Running in testing mode using custom study area\n",
      "2024-09-20 05:49:48 INFO [0.0.1] [2020] [testing]: Calculating Intertidal Elevation\n",
      "2024-09-20 05:49:48 INFO [0.0.1] [2020] [testing]: Modelling tide heights for each pixel\n",
      "Running ensemble tide modelling\n",
      "Creating reduced resolution 5000 x 5000 metre tide modelling array\n",
      "Modelling tides using FES2014, FES2012, TPXO8-atlas-v1, TPXO9-atlas-v5, EOT20, HAMTIDE11, GOT4.10 in parallel\n",
      "100%|███████████████████████████████████████████| 35/35 [00:20<00:00,  1.67it/s]\n",
      "Returning low resolution tide array\n",
      "Generating ensemble tide model from point inputs\n",
      "Interpolating model weights using 'idw' interpolation\n",
      "                 weights\n",
      "tide_model              \n",
      "TPXO9-atlas-v5  0.453527\n",
      "GOT4.10         0.452426\n",
      "EOT20           0.451006\n",
      "FES2014         0.450247\n",
      "FES2012         0.446300\n",
      "HAMTIDE11       0.437319\n",
      "TPXO8-atlas-v1  0.433992\n",
      "Reducing multiple models into single ensemble model using 'mean'\n",
      "Reprojecting ensemble tides into original array\n",
      "2024-09-20 05:50:12 INFO [0.0.1] [2020] [testing]: Masking nodata and adding tide heights to satellite data array\n",
      "2024-09-20 05:50:12 INFO [0.0.1] [2020] [testing]: Flattening satellite data array and filtering to intertidal candidate pixels\n",
      "2024-09-20 05:50:12 INFO [0.0.1] [2020] [testing]: Applying valid data mask to constrain study area\n",
      "Reducing analysed pixels from 7125 to 5174 (72.62%)\n",
      "2024-09-20 05:50:13 INFO [0.0.1] [2020] [testing]: Running per-pixel rolling median\n",
      "100%|█████████████████████████████████████████| 105/105 [00:01<00:00, 72.90it/s]\n",
      "2024-09-20 05:50:16 INFO [0.0.1] [2020] [testing]: Modelling intertidal elevation\n",
      "Applying tidal interval interpolation to 200 intervals\n",
      "Applying rolling mean smoothing with radius 20\n",
      "2024-09-20 05:50:16 INFO [0.0.1] [2020] [testing]: Modelling intertidal uncertainty\n",
      "2024-09-20 05:50:16 INFO [0.0.1] [2020] [testing]: Unflattening data back to its original spatial dimensions\n",
      "2024-09-20 05:50:16 INFO [0.0.1] [2020] [testing]: Cleaning inaccurate upper intertidal pixels\n",
      "2024-09-20 05:50:16 INFO [0.0.1] [2020] [testing]: Successfully completed intertidal elevation modelling\n",
      "2024-09-20 05:50:16 INFO [0.0.1] [2020] [testing]: Calculating Intertidal Extents\n",
      "2024-09-20 05:50:16 INFO [0.0.1] [2020] [testing]: Calculating Intertidal Exposure\n",
      "Running ensemble tide modelling\n",
      "Creating reduced resolution 5000 x 5000 metre tide modelling array\n",
      "Modelling tides using FES2014, FES2012, TPXO8-atlas-v1, TPXO9-atlas-v5, EOT20, HAMTIDE11, GOT4.10 in parallel\n",
      "  0%|                                                    | 0/35 [00:01<?, ?it/s]\n",
      "2024-09-20 05:50:24 ERROR [0.0.1] [2020] [testing]: Failed to run process with error A process in the process pool was terminated abruptly while the future was running or pending.\n",
      "Traceback (most recent call last):\n",
      "  File \"/home/jovyan/Robbi/dea-intertidal/intertidal/elevation.py\", line 1262, in intertidal_cli\n",
      "    exposure_ds, modelledtides_ds = exposure(\n",
      "  File \"/home/jovyan/Robbi/dea-intertidal/intertidal/exposure.py\", line 456, in exposure\n",
      "    modelledtides_lowres = pixel_tides_ensemble(\n",
      "  File \"/home/jovyan/Robbi/dea-intertidal/intertidal/tide_modelling.py\", line 99, in pixel_tides_ensemble\n",
      "    tides_lowres = pixel_tides(\n",
      "  File \"/env/lib/python3.10/site-packages/dea_tools/coastal.py\", line 1242, in pixel_tides\n",
      "    tide_df = model_tides(\n",
      "  File \"/env/lib/python3.10/site-packages/dea_tools/coastal.py\", line 883, in model_tides\n",
      "    model_outputs = list(\n",
      "  File \"/env/lib/python3.10/site-packages/tqdm/std.py\", line 1181, in __iter__\n",
      "    for obj in iterable:\n",
      "  File \"/env/lib/python3.10/concurrent/futures/process.py\", line 575, in _chain_from_iterable_of_lists\n",
      "    for element in iterable:\n",
      "  File \"/env/lib/python3.10/concurrent/futures/_base.py\", line 621, in result_iterator\n",
      "    yield _result_or_cancel(fs.pop())\n",
      "  File \"/env/lib/python3.10/concurrent/futures/_base.py\", line 319, in _result_or_cancel\n",
      "    return fut.result(timeout)\n",
      "  File \"/env/lib/python3.10/concurrent/futures/_base.py\", line 458, in result\n",
      "    return self.__get_result()\n",
      "  File \"/env/lib/python3.10/concurrent/futures/_base.py\", line 403, in __get_result\n",
      "    raise self._exception\n",
      "concurrent.futures.process.BrokenProcessPool: A process in the process pool was terminated abruptly while the future was running or pending.\n",
      "\u001b[0m\u001b[0mCPU times: user 894 ms, sys: 218 ms, total: 1.11 s\n",
      "Wall time: 1min 14s\n"
     ]
    }
   ],
   "source": [
    "%%time\n",
    "!python -m intertidal.elevation --study_area {study_area} --start_date {start_date} --end_date {end_date} --label_date {label_date} --output_dir {output_dir} --output_version {output_version} --modelled_freq {modelled_freq} --exposure_offsets {exposure_offsets} --tide_model {tide_model} --tide_model_dir {tide_model_dir}"
   ]
  },
  {
   "cell_type": "markdown",
   "id": "9c760ff2",
   "metadata": {},
   "source": [
    "### Run DEA Intertidal CLI for a single epoch with multiple tiles\n",
    "This will run an entire DEA Intertidal analysis from start to finish:"
   ]
  },
  {
   "cell_type": "code",
   "execution_count": null,
   "id": "f1f32b95",
   "metadata": {
    "tags": []
   },
   "outputs": [],
   "source": [
    "# study_area_list = [\"x139y96\", \"x139y95\", \"x139y94\", \"x139y93\", \"x139y92\", \"x139y91\", \"x140y91\", \"x141y91\"]\n",
    "study_area_list = [\"x99y118\", \"x98y118\", \"x100y117\", \"x99y117\"]\n",
    "# study_area_list = []\n",
    "\n",
    "epoch_list = [\n",
    "    # (\"2016\", \"2017\", \"2018\"),\n",
    "    # (\"2017\", \"2018\", \"2019\"),\n",
    "    # (\"2018\", \"2019\", \"2020\"),\n",
    "    (\"2019\", \"2020\", \"2021\"),\n",
    "]\n",
    "\n",
    "for tile in study_area_list:\n",
    "    for start_date, label_date, end_date in epoch_list:\n",
    "        print(start_date, label_date, end_date)\n",
    "        print(tile)\n",
    "        try:\n",
    "            !python -m intertidal.elevation --study_area {tile} --start_date {start_date} --end_date {end_date} --label_date {label_date} --modelled_freq {modelled_freq} {exposure_offsets} {output_auxiliaries} --tide_model {tide_model} --tide_model_dir {tide_model_dir}\n",
    "        except:\n",
    "            pass"
   ]
  },
  {
   "cell_type": "markdown",
   "id": "7d761c4d",
   "metadata": {},
   "source": [
    "## DEA Intertidal Composites CLI\n",
    "\n",
    "<div class=\"alert alert-block alert-warning\">Note: DEA Intertidal Composites code is currently a work in progress.</div>\n",
    "\n",
    "This CLI allows you to generate the following DEA Intertidal layers with a single command line call:\n",
    "\n",
    "* **DEA Intertidal Composites** (producing low and high tide geomedian outputs)\n",
    "\n",
    "Running `--help` shows all the CLI parameters that can be used to customise the analysis:"
   ]
  },
  {
   "cell_type": "code",
   "execution_count": null,
   "id": "a0a85d38",
   "metadata": {
    "tags": []
   },
   "outputs": [],
   "source": [
    "# !python -m intertidal.composites --help"
   ]
  },
  {
   "cell_type": "markdown",
   "id": "8dfadaaf",
   "metadata": {},
   "source": [
    "### Run DEA Intertidal Composites CLI for a single epoch\n",
    "This will run an entire DEA Intertidal Composites analysis from start to finish:"
   ]
  },
  {
   "cell_type": "code",
   "execution_count": null,
   "id": "1c3c87bf",
   "metadata": {
    "tags": []
   },
   "outputs": [],
   "source": [
    "# %%time\n",
    "# !python -m intertidal.composites --study_area {study_area} --start_date {start_date} --end_date {end_date} --label_date {label_date} --threshold_lowtide {threshold_lowtide} --threshold_hightide {threshold_hightide}"
   ]
  },
  {
   "cell_type": "markdown",
   "id": "bad66133",
   "metadata": {
    "tags": []
   },
   "source": [
    "## Run DEA Intertidal CLIs for multiple epochs\n",
    "This will run an entire DEA Intertidal and DEA Intertidal Composites analysis from start to finish for several epochs:"
   ]
  },
  {
   "cell_type": "code",
   "execution_count": null,
   "id": "c0c3febf",
   "metadata": {},
   "outputs": [],
   "source": [
    "# epoch_list = [\n",
    "    # (\"2016\", \"2017\", \"2018\"),\n",
    "    # (\"2017\", \"2018\", \"2019\"),\n",
    "    # (\"2018\", \"2019\", \"2020\"),\n",
    "    (\"2019\", \"2020\", \"2021\"),\n",
    "# ]\n",
    "\n",
    "# for start_date, label_date, end_date in epoch_list:\n",
    "#     print(start_date, label_date, end_date)\n",
    "#     !python -m intertidal.elevation --config_path {config_path} --study_area {study_area} --start_date {start_date} --end_date {end_date} --label_date {label_date} --modelled_freq {modelled_freq} --tideline_offset_distance {tideline_offset_distance} {exposure_offsets} {output_auxiliaries}\n",
    "#     !python -m intertidal.composites --config_path {config_path} --study_area {study_area} --start_date {start_date} --end_date {end_date} --label_date {label_date} --threshold_lowtide {threshold_lowtide} --threshold_hightide {threshold_hightide}"
   ]
  }
 ],
 "metadata": {
  "kernelspec": {
   "display_name": "Python 3 (ipykernel)",
   "language": "python",
   "name": "python3"
  },
  "language_info": {
   "codemirror_mode": {
    "name": "ipython",
    "version": 3
   },
   "file_extension": ".py",
   "mimetype": "text/x-python",
   "name": "python",
   "nbconvert_exporter": "python",
   "pygments_lexer": "ipython3",
   "version": "3.10.13"
  },
  "widgets": {
   "application/vnd.jupyter.widget-state+json": {
    "state": {},
    "version_major": 2,
    "version_minor": 0
   }
  }
 },
 "nbformat": 4,
 "nbformat_minor": 5
}

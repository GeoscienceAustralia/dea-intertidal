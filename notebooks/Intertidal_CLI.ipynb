{
 "cells": [
  {
   "cell_type": "markdown",
   "id": "dfda954d",
   "metadata": {
    "tags": []
   },
   "source": [
    "# Digital Earth Australia Intertidal Command Line Interfaces (CLI)\n",
    "\n",
    "This notebook demonstrates how to call the DEA Intertidal and DEA Intertidal Composites workflows via their Command Line Interface utilities. \n",
    "This allows you to run an entire DEA Intertidal Analysis using a single line of code.\n",
    "\n",
    "## Getting started\n",
    "Set working directory to top level of repo to ensure links work correctly:"
   ]
  },
  {
   "cell_type": "code",
   "execution_count": 1,
   "id": "4c1075a0",
   "metadata": {
    "tags": []
   },
   "outputs": [
    {
     "name": "stdout",
     "output_type": "stream",
     "text": [
      "/home/jovyan/Robbi/dea-intertidal\n"
     ]
    }
   ],
   "source": [
    "cd .."
   ]
  },
  {
   "cell_type": "markdown",
   "id": "42430d93",
   "metadata": {},
   "source": [
    "Install additional packages directly from the requirements file"
   ]
  },
  {
   "cell_type": "code",
   "execution_count": null,
   "id": "8f7bb11f",
   "metadata": {
    "tags": []
   },
   "outputs": [],
   "source": [
    "pip install -r requirements.in  --quiet"
   ]
  },
  {
   "cell_type": "markdown",
   "id": "1bb02e20",
   "metadata": {
    "tags": []
   },
   "source": [
    "## Setup\n"
   ]
  },
  {
   "cell_type": "markdown",
   "id": "f66be0ef",
   "metadata": {
    "tags": []
   },
   "source": [
    "### Set analysis parameters\n",
    "Sets the 32 km coastal grid cell to analyse, the config file, start and end dates, and other more specific parameters. "
   ]
  },
  {
   "cell_type": "code",
   "execution_count": 2,
   "id": "0e979f2b",
   "metadata": {
    "tags": []
   },
   "outputs": [],
   "source": [
    "# General params\n",
    "study_area = \"testing\"  # \"x094y145\"  # To match the default 32 km tile GridSpec\n",
    "start_date = \"2019\"  # Start date for analysis\n",
    "label_date = \"2020\"  # Date used to label arrays\n",
    "end_date = \"2021\"  # End date for analysis\n",
    "tide_model = \"ensemble\"  # Tide model to use in analysis  \n",
    "tide_model_dir = \"/gdata1/data/tide_models_clipped\"  # Directory containing tide model files\n",
    "# tide_model_dir = \"/home/jovyan/tide_models_clipped\"  # Directory containing tide model files\n",
    "output_version = \"0.0.1\"  # Version number to label output files and metadata\n",
    "output_dir = \"data/processed/\"  # Path for output files, can also be e.g. \"s3://dea-public-data-dev/derivative/\"\n",
    "\n",
    "# Intertidal Exposure params\n",
    "modelled_freq = \"3h\"\n",
    "\n",
    "# Intertidal Composites params\n",
    "threshold_lowtide = 0.2\n",
    "threshold_hightide = 0.8\n",
    "\n",
    "# Additional flags optionally turning exposure/offset calculation off\n",
    "# for testing elevation code\n",
    "exposure_offsets = \"\"  # \"--no-exposure_offsets\"\n",
    "# output_auxiliaries = \"--output_auxiliaries\""
   ]
  },
  {
   "cell_type": "markdown",
   "id": "a1945634",
   "metadata": {},
   "source": [
    "## DEA Intertidal CLI\n",
    "This CLI allows you to generate the following DEA Intertidal layers with a single command line call:\n",
    "* **DEA Intertidal Elevation**\n",
    "* **DEA Intertidal Exposure**\n",
    "* **DEA Intertidal Extents**\n",
    "* **DEA Intertidal spread, offsets, HOT, LOT, HAT, LAT**\n",
    "\n",
    "Running `--help` shows all the CLI parameters that can be used to customise the analysis:"
   ]
  },
  {
   "cell_type": "code",
   "execution_count": 3,
   "id": "415108cd",
   "metadata": {
    "tags": []
   },
   "outputs": [
    {
     "name": "stdout",
     "output_type": "stream",
     "text": [
      "Usage: python -m intertidal.elevation [OPTIONS]\n",
      "\n",
      "Options:\n",
      "  --study_area TEXT               A string providing a GridSpec tile ID (e.g.\n",
      "                                  in the form 'x123y123') to run the analysis\n",
      "                                  on.  [required]\n",
      "  --start_date TEXT               The start date of satellite data to load\n",
      "                                  from the datacube. This can be any date\n",
      "                                  format accepted by datacube. For DEA\n",
      "                                  Intertidal, this is set to provide a three\n",
      "                                  year window centred over `label_date` below.\n",
      "                                  [required]\n",
      "  --end_date TEXT                 The end date of satellite data to load from\n",
      "                                  the datacube. This can be any date format\n",
      "                                  accepted by datacube. For DEA Intertidal,\n",
      "                                  this is set to provide a three year window\n",
      "                                  centred over `label_date` below.  [required]\n",
      "  --label_date TEXT               The date used to label output arrays, and to\n",
      "                                  use as the date assigned to the dataset when\n",
      "                                  indexed into Datacube.  [required]\n",
      "  --output_version TEXT           The version number to use for output files\n",
      "                                  and metadata (e.g. '0.0.1').  [required]\n",
      "  --output_dir TEXT               The directory/location to output data and\n",
      "                                  metadata; supports both local disk and S3\n",
      "                                  locations. Defaults to 'data/processed/'.\n",
      "  --product_maturity TEXT         Product maturity metadata to use for the\n",
      "                                  output dataset. Defaults to 'provisional',\n",
      "                                  can also be 'stable'.\n",
      "  --dataset_maturity TEXT         Dataset maturity metadata to use for the\n",
      "                                  output dataset. Defaults to 'final', can\n",
      "                                  also be 'interim'.\n",
      "  --resolution INTEGER            The spatial resolution in metres used to\n",
      "                                  load satellite data and produce intertidal\n",
      "                                  outputs. Defaults to 10 metre Sentinel-2\n",
      "                                  resolution.\n",
      "  --ndwi_thresh FLOAT             NDWI threshold used to identify the\n",
      "                                  transition from dry to wet in the intertidal\n",
      "                                  elevation calculation. Defaults to 0.1,\n",
      "                                  which typically captures this transition\n",
      "                                  more reliably than 0.0.\n",
      "  --min_freq FLOAT                Minimum frequency of wetness required for a\n",
      "                                  pixel to be included in the analysis, by\n",
      "                                  default 0.01.\n",
      "  --max_freq FLOAT                Maximum frequency of wetness required for a\n",
      "                                  pixel to be included in the analysis, by\n",
      "                                  default 0.99.\n",
      "  --min_correlation FLOAT         Minimum correlation between water index and\n",
      "                                  tide height required for a pixel to be\n",
      "                                  included in the analysis, by default 0.15.\n",
      "  --windows_n INTEGER             Number of rolling windows to iterate over in\n",
      "                                  the per-pixel rolling median calculation, by\n",
      "                                  default 100.\n",
      "  --window_prop_tide FLOAT        Proportion of the tide range to use for each\n",
      "                                  window radius in the per-pixel rolling\n",
      "                                  median calculation, by default 0.15.\n",
      "  --correct_seasonality / --no-correct_seasonality\n",
      "                                  If True, remove any seasonal signal from the\n",
      "                                  tide height data by subtracting monthly mean\n",
      "                                  tide height from each value prior to\n",
      "                                  correlation calculations. This can reduce\n",
      "                                  false tide correlations in regions where\n",
      "                                  tide heights correlate with seasonal changes\n",
      "                                  in surface water. Note that seasonally\n",
      "                                  corrected tides are only used to identify\n",
      "                                  potentially tide influenced pixels - not for\n",
      "                                  elevation modelling itself.\n",
      "  --tide_model TEXT               The model used for tide modelling, as\n",
      "                                  supported by the `pyTMD` Python package.\n",
      "                                  Options include 'FES2014' (default),\n",
      "                                  'TPXO9-atlas-v5', 'TPXO8-atlas-v1', 'EOT20',\n",
      "                                  'HAMTIDE11', 'GOT4.10'.\n",
      "  --tide_model_dir TEXT           The directory containing tide model data\n",
      "                                  files. Defaults to '/var/share/tide_models';\n",
      "                                  for more information about the required\n",
      "                                  directory structure, refer to\n",
      "                                  `dea_tools.coastal.model_tides`.\n",
      "  --modelled_freq TEXT            The frequency at which to model tides across\n",
      "                                  the entire analysis period as inputs to the\n",
      "                                  exposure, LAT (lowest astronomical tide),\n",
      "                                  HAT (highest astronomical tide), and\n",
      "                                  spread/offset calculations. Defaults to\n",
      "                                  '30min' which will generate a timestep every\n",
      "                                  30 minutes between 'start_date' and\n",
      "                                  'end_date'.\n",
      "  --exposure_offsets / --no-exposure_offsets\n",
      "                                  Whether to run the Exposure and\n",
      "                                  spread/offsets/tidelines steps of the\n",
      "                                  Intertidal workflow. Defaults to True; can\n",
      "                                  be set to False by passing `--no-\n",
      "                                  exposure_offsets`.\n",
      "  --aws_unsigned / --no-aws_unsigned\n",
      "                                  Whether to sign AWS requests for S3 access.\n",
      "                                  Defaults to True; can be set to False by\n",
      "                                  passing `--no-aws_unsigned`.\n",
      "  --help                          Show this message and exit.\n",
      "\u001b[0m"
     ]
    }
   ],
   "source": [
    "!python -m intertidal.elevation --help"
   ]
  },
  {
   "cell_type": "markdown",
   "id": "0dbc46d9",
   "metadata": {},
   "source": [
    "### Run DEA Intertidal CLI for a single epoch\n",
    "This will run an entire DEA Intertidal analysis from start to finish:"
   ]
  },
  {
   "cell_type": "code",
   "execution_count": 4,
   "id": "3f36e01e-a0d9-4525-a88a-8d89b669d527",
   "metadata": {
    "tags": []
   },
   "outputs": [
    {
     "name": "stdout",
     "output_type": "stream",
     "text": [
      "2024-09-24 04:47:05 INFO [0.0.1] [2020] [testing]: Using parameters {'study_area': 'testing', 'start_date': '2019', 'end_date': '2021', 'label_date': '2020', 'output_version': '0.0.1', 'output_dir': 'data/processed/', 'product_maturity': 'provisional', 'dataset_maturity': 'final', 'resolution': 10, 'ndwi_thresh': 0.1, 'min_freq': 0.01, 'max_freq': 0.99, 'min_correlation': 0.15, 'windows_n': 100, 'window_prop_tide': 0.15, 'correct_seasonality': False, 'tide_model': ('ensemble',), 'tide_model_dir': '/gdata1/data/tide_models_clipped', 'modelled_freq': '3h', 'exposure_offsets': True, 'aws_unsigned': True}\n",
      "2024-09-24 04:47:05 INFO [0.0.1] [2020] [testing]: Loading satellite data\n",
      "<Client: 'tcp://127.0.0.1:35085' processes=1 threads=62, memory=477.21 GiB>\n",
      "2024-09-24 04:47:09 INFO [0.0.1] [2020] [testing]: Running in testing mode using custom study area\n",
      "2024-09-24 04:48:07 INFO [0.0.1] [2020] [testing]: Calculating Intertidal Elevation\n",
      "2024-09-24 04:48:07 INFO [0.0.1] [2020] [testing]: Modelling tide heights for each pixel\n",
      "Creating reduced resolution 5000 x 5000 metre tide modelling array\n",
      "Running ensemble tide modelling\n",
      "Modelling tides using FES2014, TPXO9-atlas-v5, EOT20, HAMTIDE11, GOT4.10, FES2012, TPXO8-atlas-v1 in parallel\n",
      "100%|███████████████████████████████████████████| 35/35 [00:22<00:00,  1.58it/s]\n",
      "Interpolating model rankings using IDW interpolation \n",
      "Combining models into single ensemble model\n",
      "Reprojecting tides into original array\n",
      "2024-09-24 04:48:33 INFO [0.0.1] [2020] [testing]: Masking nodata and adding tide heights to satellite data array\n",
      "2024-09-24 04:48:33 INFO [0.0.1] [2020] [testing]: Flattening satellite data array and filtering to intertidal candidate pixels\n",
      "2024-09-24 04:48:33 INFO [0.0.1] [2020] [testing]: Applying valid data mask to constrain study area\n",
      "Reducing analysed pixels from 7125 to 5248 (73.66%)\n",
      "2024-09-24 04:48:33 INFO [0.0.1] [2020] [testing]: Running per-pixel rolling median\n",
      "100%|█████████████████████████████████████████| 105/105 [00:04<00:00, 23.61it/s]\n",
      "2024-09-24 04:48:39 INFO [0.0.1] [2020] [testing]: Modelling intertidal elevation\n",
      "Applying tidal interval interpolation to 200 intervals\n",
      "Applying rolling mean smoothing with radius 20\n",
      "2024-09-24 04:48:39 INFO [0.0.1] [2020] [testing]: Modelling intertidal uncertainty\n",
      "2024-09-24 04:48:39 INFO [0.0.1] [2020] [testing]: Unflattening data back to its original spatial dimensions\n",
      "2024-09-24 04:48:39 INFO [0.0.1] [2020] [testing]: Cleaning inaccurate upper intertidal pixels\n",
      "2024-09-24 04:48:39 INFO [0.0.1] [2020] [testing]: Successfully completed intertidal elevation modelling\n",
      "2024-09-24 04:48:39 INFO [0.0.1] [2020] [testing]: Calculating Intertidal Extents\n",
      "2024-09-24 04:48:39 INFO [0.0.1] [2020] [testing]: Calculating Intertidal Exposure\n",
      "Creating reduced resolution 5000 x 5000 metre tide modelling array\n",
      "Running ensemble tide modelling\n",
      "Modelling tides using FES2014, TPXO9-atlas-v5, EOT20, HAMTIDE11, GOT4.10, FES2012, TPXO8-atlas-v1 in parallel\n",
      "100%|███████████████████████████████████████████| 35/35 [00:25<00:00,  1.35it/s]\n",
      "Interpolating model rankings using IDW interpolation \n",
      "Combining models into single ensemble model\n",
      "Returning low resolution tide array\n",
      "Calculating unfiltered exposure\n",
      "2024-09-24 04:49:12 INFO [0.0.1] [2020] [testing]: Calculating spread, offset and HAT/LAT/LOT/HOT layers\n",
      "2024-09-24 04:49:12 INFO [0.0.1] [2020] [testing]: Assembling dataset\n",
      "2024-09-24 04:49:12 INFO [0.0.1] [2020] [testing]: Writing output arrays\n",
      "2024-09-24 04:49:13 INFO [0.0.1] [2020] [testing]: Assembled dataset: /tmp/tmpy3ce3ev7/ga_s2ls_intertidal_cyear_3/0-0-1/tes/ting/2020--P1Y/ga_s2ls_intertidal_cyear_3_testing_2020--P1Y_final.odc-metadata.yaml\n",
      "2024-09-24 04:49:13 INFO [0.0.1] [2020] [testing]: Writing data locally: data/processed/ga_s2ls_intertidal_cyear_3/0-0-1/tes/ting/2020--P1Y/\n",
      "\u001b[0m2024-09-24 04:49:14 INFO [0.0.1] [2020] [testing]: Completed DEA Intertidal workflow\n",
      "\u001b[0mCPU times: user 1.63 s, sys: 337 ms, total: 1.97 s\n",
      "Wall time: 2min 13s\n"
     ]
    }
   ],
   "source": [
    "%%time\n",
    "!python -m intertidal.elevation --study_area {study_area} --start_date {start_date} --end_date {end_date} --label_date {label_date} --output_dir {output_dir} --output_version {output_version} --modelled_freq {modelled_freq} --exposure_offsets {exposure_offsets} --tide_model {tide_model} --tide_model_dir {tide_model_dir}"
   ]
  },
  {
   "cell_type": "markdown",
   "id": "9c760ff2",
   "metadata": {},
   "source": [
    "### Run DEA Intertidal CLI for a single epoch with multiple tiles\n",
    "This will run an entire DEA Intertidal analysis from start to finish:"
   ]
  },
  {
   "cell_type": "code",
   "execution_count": null,
   "id": "f1f32b95",
   "metadata": {
    "tags": []
   },
   "outputs": [],
   "source": [
    "# study_area_list = [\"x139y96\", \"x139y95\", \"x139y94\", \"x139y93\", \"x139y92\", \"x139y91\", \"x140y91\", \"x141y91\"]\n",
    "study_area_list = [\"x99y118\", \"x98y118\", \"x100y117\", \"x99y117\"]\n",
    "# study_area_list = []\n",
    "\n",
    "epoch_list = [\n",
    "    # (\"2016\", \"2017\", \"2018\"),\n",
    "    # (\"2017\", \"2018\", \"2019\"),\n",
    "    # (\"2018\", \"2019\", \"2020\"),\n",
    "    (\"2019\", \"2020\", \"2021\"),\n",
    "]\n",
    "\n",
    "for tile in study_area_list:\n",
    "    for start_date, label_date, end_date in epoch_list:\n",
    "        print(start_date, label_date, end_date)\n",
    "        print(tile)\n",
    "        try:\n",
    "            !python -m intertidal.elevation --study_area {tile} --start_date {start_date} --end_date {end_date} --label_date {label_date} --modelled_freq {modelled_freq} {exposure_offsets} {output_auxiliaries} --tide_model {tide_model} --tide_model_dir {tide_model_dir}\n",
    "        except:\n",
    "            pass"
   ]
  },
  {
   "cell_type": "markdown",
   "id": "7d761c4d",
   "metadata": {},
   "source": [
    "## DEA Intertidal Composites CLI\n",
    "\n",
    "<div class=\"alert alert-block alert-warning\">Note: DEA Intertidal Composites code is currently a work in progress.</div>\n",
    "\n",
    "This CLI allows you to generate the following DEA Intertidal layers with a single command line call:\n",
    "\n",
    "* **DEA Intertidal Composites** (producing low and high tide geomedian outputs)\n",
    "\n",
    "Running `--help` shows all the CLI parameters that can be used to customise the analysis:"
   ]
  },
  {
   "cell_type": "code",
   "execution_count": null,
   "id": "a0a85d38",
   "metadata": {
    "tags": []
   },
   "outputs": [],
   "source": [
    "# !python -m intertidal.composites --help"
   ]
  },
  {
   "cell_type": "markdown",
   "id": "8dfadaaf",
   "metadata": {},
   "source": [
    "### Run DEA Intertidal Composites CLI for a single epoch\n",
    "This will run an entire DEA Intertidal Composites analysis from start to finish:"
   ]
  },
  {
   "cell_type": "code",
   "execution_count": null,
   "id": "1c3c87bf",
   "metadata": {
    "tags": []
   },
   "outputs": [],
   "source": [
    "# %%time\n",
    "# !python -m intertidal.composites --study_area {study_area} --start_date {start_date} --end_date {end_date} --label_date {label_date} --threshold_lowtide {threshold_lowtide} --threshold_hightide {threshold_hightide}"
   ]
  },
  {
   "cell_type": "markdown",
   "id": "bad66133",
   "metadata": {
    "tags": []
   },
   "source": [
    "## Run DEA Intertidal CLIs for multiple epochs\n",
    "This will run an entire DEA Intertidal and DEA Intertidal Composites analysis from start to finish for several epochs:"
   ]
  },
  {
   "cell_type": "code",
   "execution_count": null,
   "id": "c0c3febf",
   "metadata": {},
   "outputs": [],
   "source": [
    "# epoch_list = [\n",
    "    # (\"2016\", \"2017\", \"2018\"),\n",
    "    # (\"2017\", \"2018\", \"2019\"),\n",
    "    # (\"2018\", \"2019\", \"2020\"),\n",
    "    (\"2019\", \"2020\", \"2021\"),\n",
    "# ]\n",
    "\n",
    "# for start_date, label_date, end_date in epoch_list:\n",
    "#     print(start_date, label_date, end_date)\n",
    "#     !python -m intertidal.elevation --config_path {config_path} --study_area {study_area} --start_date {start_date} --end_date {end_date} --label_date {label_date} --modelled_freq {modelled_freq} --tideline_offset_distance {tideline_offset_distance} {exposure_offsets} {output_auxiliaries}\n",
    "#     !python -m intertidal.composites --config_path {config_path} --study_area {study_area} --start_date {start_date} --end_date {end_date} --label_date {label_date} --threshold_lowtide {threshold_lowtide} --threshold_hightide {threshold_hightide}"
   ]
  }
 ],
 "metadata": {
  "kernelspec": {
   "display_name": "Python 3 (ipykernel)",
   "language": "python",
   "name": "python3"
  },
  "language_info": {
   "codemirror_mode": {
    "name": "ipython",
    "version": 3
   },
   "file_extension": ".py",
   "mimetype": "text/x-python",
   "name": "python",
   "nbconvert_exporter": "python",
   "pygments_lexer": "ipython3",
   "version": "3.10.14"
  },
  "widgets": {
   "application/vnd.jupyter.widget-state+json": {
    "state": {},
    "version_major": 2,
    "version_minor": 0
   }
  }
 },
 "nbformat": 4,
 "nbformat_minor": 5
}

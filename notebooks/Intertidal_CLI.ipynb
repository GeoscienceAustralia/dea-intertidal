{
 "cells": [
  {
   "cell_type": "markdown",
   "id": "ccccdf10-6065-4f91-8725-d3233ebbe6d4",
   "metadata": {
    "tags": []
   },
   "source": [
    "# Digital Earth Australia Intertidal Command Line Interfaces (CLI)\n",
    "\n",
    "This notebook demonstrates how to call the DEA Intertidal and DEA Intertidal Composites workflows via their Command Line Interface utilities. \n",
    "This allows you to run an entire DEA Intertidal Analysis using a single line of code.\n",
    "\n",
    "## Getting started\n",
    "Set working directory to top level of repo to ensure links work correctly:"
   ]
  },
  {
   "cell_type": "code",
   "execution_count": 1,
   "id": "3cdd49c0-fef3-4b10-9d45-d28c41755e12",
   "metadata": {
    "tags": []
   },
   "outputs": [
    {
     "name": "stdout",
     "output_type": "stream",
     "text": [
      "/home/jovyan/dea_intertidal/dea-intertidal\n"
     ]
    }
   ],
   "source": [
    "cd .."
   ]
  },
  {
   "cell_type": "markdown",
   "id": "9e0e6a00-0c55-4ec3-881f-4cdd32899772",
   "metadata": {},
   "source": [
    "Install additional packages directly from the requirements file"
   ]
  },
  {
   "cell_type": "code",
   "execution_count": 2,
   "id": "924876a7-a415-4d65-81c4-5e5cd7b7b53d",
   "metadata": {},
   "outputs": [
    {
     "name": "stdout",
     "output_type": "stream",
     "text": [
      "Note: you may need to restart the kernel to use updated packages.\n"
     ]
    }
   ],
   "source": [
    "pip install -r requirements.in --quiet"
   ]
  },
  {
   "cell_type": "markdown",
   "id": "bd675e30-92c7-494f-9f16-2ea0ae1de32f",
   "metadata": {
    "tags": []
   },
   "source": [
    "## Setup\n"
   ]
  },
  {
   "cell_type": "markdown",
   "id": "3fbdf7a0-4daa-49c1-a3f7-3e0bd0e38560",
   "metadata": {
    "tags": []
   },
   "source": [
    "### Set analysis parameters\n",
    "Sets the 32 km coastal grid cell to analyse, the config file, start and end dates, and other more specific parameters. "
   ]
  },
  {
   "cell_type": "code",
   "execution_count": 3,
   "id": "58c0e260-cd76-45d9-9dc3-5e4294be31c6",
   "metadata": {
    "tags": []
   },
   "outputs": [],
   "source": [
    "# General params\n",
    "study_area = \"x99y117\"  # To match the default 32 km tile GridSpec\n",
    "start_date = \"2019\"  # Start date for analysis\n",
    "end_date = \"2021\"  # End date for analysis\n",
    "tide_model = \"ensemble\"  # Tide model to use in analysis  \n",
    "tide_model_dir = \"/gdata1/data/tide_models_clipped\"  # Directory containing tide model files\n",
    "\n",
    "# Intertidal Exposure params\n",
    "modelled_freq = \"30min\"\n",
    "\n",
    "# Intertidal Composites params\n",
    "threshold_lowtide = 0.2\n",
    "threshold_hightide = 0.8\n",
    "\n",
    "# Additional flags optionally turning exposure/offset calculation off\n",
    "# for testing elevation code, and outputting optional auxiliary outputs\n",
    "# for debugging (defaults are to calculate exposure/offsets, and not\n",
    "# output auxiliary files.\n",
    "exposure_offsets = \"\"  #\"--no-exposure_offsets\"\n",
    "output_auxiliaries = \"--output_auxiliaries\""
   ]
  },
  {
   "cell_type": "markdown",
   "id": "cd538aa3-7716-443b-a10d-6d35e7e61597",
   "metadata": {},
   "source": [
    "## DEA Intertidal CLI\n",
    "This CLI allows you to generate the following DEA Intertidal layers with a single command line call:\n",
    "* **DEA Intertidal Elevation**\n",
    "* **DEA Intertidal Exposure**\n",
    "* **DEA Intertidal Extents**\n",
    "* **DEA Intertidal spread, offsets, HOT, LOT, HAT, LAT**\n",
    "* **DEA Intertidal tidelines and tidal offset points**\n",
    "\n",
    "Running `--help` shows all the CLI parameters that can be used to customise the analysis:"
   ]
  },
  {
   "cell_type": "code",
   "execution_count": null,
   "id": "0ef38032-e7e1-4090-b89c-c236d573e3a8",
   "metadata": {
    "tags": []
   },
   "outputs": [],
   "source": [
    "!python -m intertidal.elevation --help\n",
    "# !python -m elevation.intertidal_cli --help"
   ]
  },
  {
   "cell_type": "markdown",
   "id": "4a056759-7ec9-473d-8a60-9a7b95f122cd",
   "metadata": {},
   "source": [
    "### Run DEA Intertidal CLI for a single epoch\n",
    "This will run an entire DEA Intertidal analysis from start to finish:"
   ]
  },
  {
   "cell_type": "code",
   "execution_count": null,
   "id": "1da1e270-43bd-4a11-9d5b-6be26cb1a74f",
   "metadata": {
    "tags": []
   },
   "outputs": [],
   "source": [
    "%%time\n",
    "!python -m intertidal.elevation --study_area {study_area} --start_date {start_date} --end_date {end_date} --modelled_freq {modelled_freq} {exposure_offsets} {output_auxiliaries} --tide_model {tide_model} --tide_model_dir {tide_model_dir}"
   ]
  },
  {
   "cell_type": "markdown",
   "id": "dc1dc57d-c974-4025-b26e-d70a0d343c8d",
   "metadata": {},
   "source": [
    "### Run DEA Intertidal CLI for a single epoch with multiple tiles\n",
    "This will run an entire DEA Intertidal analysis from start to finish:"
   ]
  },
  {
   "cell_type": "code",
   "execution_count": 4,
   "id": "9dcf7f21-41e0-4b4b-aaf3-2ab5fc5325d8",
   "metadata": {},
   "outputs": [
    {
     "name": "stdout",
     "output_type": "stream",
     "text": [
      "2016 2018\n",
      "x198y131\n",
      "2024-02-27 00:48:38 INFO Study area x198y131: Loading satellite data\n",
      "<Client: 'tcp://127.0.0.1:36367' processes=1 threads=62, memory=477.21 GiB>\n",
      "2024-02-27 00:48:43 ERROR Study area x198y131: Failed to run process with error 'Dataset' object has no attribute 'oa_s2cloudless_mask'\n",
      "Traceback (most recent call last):\n",
      "  File \"/home/jovyan/dea_intertidal/dea-intertidal/intertidal/elevation.py\", line 1606, in intertidal_cli\n",
      "    satellite_ds = load_data(\n",
      "  File \"/home/jovyan/dea_intertidal/dea-intertidal/intertidal/elevation.py\", line 330, in load_data\n",
      "    mask=ds_s2.oa_s2cloudless_mask, categories=[\"nodata\", \"cloud\"]\n",
      "  File \"/env/lib/python3.10/site-packages/xarray/core/common.py\", line 278, in __getattr__\n",
      "    raise AttributeError(\n",
      "AttributeError: 'Dataset' object has no attribute 'oa_s2cloudless_mask'\n",
      "\u001b[0m\u001b[0m2017 2019\n",
      "x198y131\n",
      "2024-02-27 00:48:49 INFO Study area x198y131: Loading satellite data\n",
      "<Client: 'tcp://127.0.0.1:37971' processes=1 threads=62, memory=477.21 GiB>\n",
      "2024-02-27 00:48:54 ERROR Study area x198y131: Failed to run process with error 'Dataset' object has no attribute 'oa_s2cloudless_mask'\n",
      "Traceback (most recent call last):\n",
      "  File \"/home/jovyan/dea_intertidal/dea-intertidal/intertidal/elevation.py\", line 1606, in intertidal_cli\n",
      "    satellite_ds = load_data(\n",
      "  File \"/home/jovyan/dea_intertidal/dea-intertidal/intertidal/elevation.py\", line 330, in load_data\n",
      "    mask=ds_s2.oa_s2cloudless_mask, categories=[\"nodata\", \"cloud\"]\n",
      "  File \"/env/lib/python3.10/site-packages/xarray/core/common.py\", line 278, in __getattr__\n",
      "    raise AttributeError(\n",
      "AttributeError: 'Dataset' object has no attribute 'oa_s2cloudless_mask'\n",
      "\u001b[0m\u001b[0m2018 2020\n",
      "x198y131\n",
      "2024-02-27 00:49:01 INFO Study area x198y131: Loading satellite data\n",
      "<Client: 'tcp://127.0.0.1:38021' processes=1 threads=62, memory=477.21 GiB>\n",
      "2024-02-27 00:49:05 ERROR Study area x198y131: Failed to run process with error 'Dataset' object has no attribute 'oa_s2cloudless_mask'\n",
      "Traceback (most recent call last):\n",
      "  File \"/home/jovyan/dea_intertidal/dea-intertidal/intertidal/elevation.py\", line 1606, in intertidal_cli\n",
      "    satellite_ds = load_data(\n",
      "  File \"/home/jovyan/dea_intertidal/dea-intertidal/intertidal/elevation.py\", line 330, in load_data\n",
      "    mask=ds_s2.oa_s2cloudless_mask, categories=[\"nodata\", \"cloud\"]\n",
      "  File \"/env/lib/python3.10/site-packages/xarray/core/common.py\", line 278, in __getattr__\n",
      "    raise AttributeError(\n",
      "AttributeError: 'Dataset' object has no attribute 'oa_s2cloudless_mask'\n",
      "\u001b[0m\u001b[0m2019 2021\n",
      "x198y131\n",
      "2024-02-27 00:49:12 INFO Study area x198y131: Loading satellite data\n",
      "<Client: 'tcp://127.0.0.1:37841' processes=1 threads=62, memory=477.21 GiB>\n",
      "2024-02-27 00:49:17 ERROR Study area x198y131: Failed to run process with error 'Dataset' object has no attribute 'oa_s2cloudless_mask'\n",
      "Traceback (most recent call last):\n",
      "  File \"/home/jovyan/dea_intertidal/dea-intertidal/intertidal/elevation.py\", line 1606, in intertidal_cli\n",
      "    satellite_ds = load_data(\n",
      "  File \"/home/jovyan/dea_intertidal/dea-intertidal/intertidal/elevation.py\", line 330, in load_data\n",
      "    mask=ds_s2.oa_s2cloudless_mask, categories=[\"nodata\", \"cloud\"]\n",
      "  File \"/env/lib/python3.10/site-packages/xarray/core/common.py\", line 278, in __getattr__\n",
      "    raise AttributeError(\n",
      "AttributeError: 'Dataset' object has no attribute 'oa_s2cloudless_mask'\n",
      "\u001b[0m\u001b[0m2020 2022\n",
      "x198y131\n",
      "2024-02-27 00:49:23 INFO Study area x198y131: Loading satellite data\n",
      "<Client: 'tcp://127.0.0.1:46477' processes=1 threads=62, memory=477.21 GiB>\n",
      "2024-02-27 00:49:28 ERROR Study area x198y131: Failed to run process with error 'Dataset' object has no attribute 'oa_s2cloudless_mask'\n",
      "Traceback (most recent call last):\n",
      "  File \"/home/jovyan/dea_intertidal/dea-intertidal/intertidal/elevation.py\", line 1606, in intertidal_cli\n",
      "    satellite_ds = load_data(\n",
      "  File \"/home/jovyan/dea_intertidal/dea-intertidal/intertidal/elevation.py\", line 330, in load_data\n",
      "    mask=ds_s2.oa_s2cloudless_mask, categories=[\"nodata\", \"cloud\"]\n",
      "  File \"/env/lib/python3.10/site-packages/xarray/core/common.py\", line 278, in __getattr__\n",
      "    raise AttributeError(\n",
      "AttributeError: 'Dataset' object has no attribute 'oa_s2cloudless_mask'\n",
      "\u001b[0m\u001b[0m2021 2023\n",
      "x198y131\n",
      "2024-02-27 00:49:34 INFO Study area x198y131: Loading satellite data\n",
      "<Client: 'tcp://127.0.0.1:33873' processes=1 threads=62, memory=477.21 GiB>\n",
      "2024-02-27 00:49:39 ERROR Study area x198y131: Failed to run process with error 'Dataset' object has no attribute 'oa_s2cloudless_mask'\n",
      "Traceback (most recent call last):\n",
      "  File \"/home/jovyan/dea_intertidal/dea-intertidal/intertidal/elevation.py\", line 1606, in intertidal_cli\n",
      "    satellite_ds = load_data(\n",
      "  File \"/home/jovyan/dea_intertidal/dea-intertidal/intertidal/elevation.py\", line 330, in load_data\n",
      "    mask=ds_s2.oa_s2cloudless_mask, categories=[\"nodata\", \"cloud\"]\n",
      "  File \"/env/lib/python3.10/site-packages/xarray/core/common.py\", line 278, in __getattr__\n",
      "    raise AttributeError(\n",
      "AttributeError: 'Dataset' object has no attribute 'oa_s2cloudless_mask'\n",
      "\u001b[0m\u001b[0m"
     ]
    }
   ],
   "source": [
    "# study_area_list = [\"x139y96\", \"x139y95\", \"x139y94\", \"x139y93\", \"x139y92\", \"x139y91\", \"x140y91\", \"x141y91\"]\n",
    "# study_area_list = [\"x99y118\", \"x98y118\", \"x100y117\", \"x99y117\"]\n",
    "# study_area_list = ['x98y125', 'x98y124','x98y123','x99y125','x99y124','x99y123','x100y125','x100y124','x100y123']\n",
    "# study_area_list = ['x99y124','x99y123']#'x98y123',] #Groote Eylandt\n",
    "study_area_list = ['x198y131']\n",
    " \n",
    "epoch_list = [\n",
    "    (\"2016\", \"2018\"),\n",
    "    (\"2017\", \"2019\"),\n",
    "    (\"2018\", \"2020\"),\n",
    "    (\"2019\", \"2021\"),\n",
    "    (\"2020\", \"2022\"),\n",
    "    (\"2021\", \"2023\"),\n",
    "]\n",
    "\n",
    "for tile in study_area_list:\n",
    "    for start_date, end_date in epoch_list:\n",
    "        print(start_date, end_date)\n",
    "        print(tile)\n",
    "        try:\n",
    "            !python -m intertidal.elevation --study_area {tile} --start_date {start_date} --end_date {end_date} --modelled_freq {modelled_freq} {exposure_offsets} {output_auxiliaries} --tide_model {tide_model} --tide_model_dir {tide_model_dir}\n",
    "        except:\n",
    "            pass"
   ]
  },
  {
   "cell_type": "markdown",
   "id": "e9a7aa51-aed7-4291-af12-515f73e59755",
   "metadata": {},
   "source": [
    "## DEA Intertidal Composites CLI\n",
    "\n",
    "This CLI allows you to generate the following DEA Intertidal layers with a single command line call:\n",
    "\n",
    "* **DEA Intertidal Composites** (producing low and high tide geomedian outputs)\n",
    "\n",
    "Running `--help` shows all the CLI parameters that can be used to customise the analysis:"
   ]
  },
  {
   "cell_type": "code",
   "execution_count": null,
   "id": "1e885ff2-d431-42de-9ce3-5223c748b8f8",
   "metadata": {
    "tags": []
   },
   "outputs": [],
   "source": [
    "!python -m intertidal.composites --help"
   ]
  },
  {
   "cell_type": "markdown",
   "id": "c9b351da-2a04-463e-a5fb-f140a5048741",
   "metadata": {},
   "source": [
    "### Run DEA Intertidal Composites CLI for a single epoch\n",
    "This will run an entire DEA Intertidal Composites analysis from start to finish:"
   ]
  },
  {
   "cell_type": "code",
   "execution_count": null,
   "id": "03f7606a-add3-4673-a2aa-de5bd039418b",
   "metadata": {
    "tags": []
   },
   "outputs": [],
   "source": [
    "%%time\n",
    "!python -m intertidal.composites --study_area {study_area} --start_date {start_date} --end_date {end_date} --threshold_lowtide {threshold_lowtide} --threshold_hightide {threshold_hightide}"
   ]
  },
  {
   "cell_type": "markdown",
   "id": "d7db1fe7-7cab-4543-8e35-79587284a4c3",
   "metadata": {
    "tags": []
   },
   "source": [
    "## Run DEA Intertidal CLIs for multiple epochs\n",
    "This will run an entire DEA Intertidal and DEA Intertidal Composites analysis from start to finish for several epochs:"
   ]
  },
  {
   "cell_type": "code",
   "execution_count": null,
   "id": "16ab31f6-2490-4159-90ba-2849e1eb3fac",
   "metadata": {},
   "outputs": [],
   "source": [
    "epoch_list = [\n",
    "    # (\"2016\", \"2018\"),\n",
    "    # (\"2018\", \"2020\"),\n",
    "    (\"2019\", \"2021\"),\n",
    "    # (\"2020\", \"2022\"),\n",
    "]\n",
    "\n",
    "for start_date, end_date in epoch_list:\n",
    "    print(start_date, end_date)\n",
    "    !python -m intertidal.elevation --config_path {config_path} --study_area {study_area} --start_date {start_date} --end_date {end_date} --modelled_freq {modelled_freq} --tideline_offset_distance {tideline_offset_distance} {exposure_offsets} {output_auxiliaries}\n",
    "    !python -m intertidal.composites --config_path {config_path} --study_area {study_area} --start_date {start_date} --end_date {end_date} --threshold_lowtide {threshold_lowtide} --threshold_hightide {threshold_hightide}"
   ]
  },
  {
   "cell_type": "code",
   "execution_count": null,
   "id": "362dd600-9cb2-415d-bf7b-331bc22d7e95",
   "metadata": {},
   "outputs": [],
   "source": [
    "print ('hello')"
   ]
  },
  {
   "cell_type": "code",
   "execution_count": null,
   "id": "94c05696-dbcd-480a-89a8-326b31cd6be0",
   "metadata": {},
   "outputs": [],
   "source": []
  }
 ],
 "metadata": {
  "kernelspec": {
   "display_name": "Python 3 (ipykernel)",
   "language": "python",
   "name": "python3"
  },
  "language_info": {
   "codemirror_mode": {
    "name": "ipython",
    "version": 3
   },
   "file_extension": ".py",
   "mimetype": "text/x-python",
   "name": "python",
   "nbconvert_exporter": "python",
   "pygments_lexer": "ipython3",
   "version": "3.10.13"
  },
  "widgets": {
   "application/vnd.jupyter.widget-state+json": {
    "state": {},
    "version_major": 2,
    "version_minor": 0
   }
  }
 },
 "nbformat": 4,
 "nbformat_minor": 5
}

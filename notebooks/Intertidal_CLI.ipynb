{
 "cells": [
  {
   "cell_type": "markdown",
   "id": "ccccdf10-6065-4f91-8725-d3233ebbe6d4",
   "metadata": {
    "tags": []
   },
   "source": [
    "# Digital Earth Australia Intertidal Command Line Interfaces (CLI)\n",
    "\n",
    "This notebook demonstrates how to call the DEA Intertidal and DEA Intertidal Composites workflows via their Command Line Interface utilities. \n",
    "This allows you to run an entire DEA Intertidal Analysis using a single line of code.\n",
    "\n",
    "## Getting started\n",
    "Set working directory to top level of repo to ensure links work correctly:"
   ]
  },
  {
   "cell_type": "code",
   "execution_count": 2,
   "id": "3cdd49c0-fef3-4b10-9d45-d28c41755e12",
   "metadata": {
    "tags": []
   },
   "outputs": [
    {
     "name": "stdout",
     "output_type": "stream",
     "text": [
      "/home/jovyan/Robbi/dea-intertidal\n"
     ]
    }
   ],
   "source": [
    "cd .."
   ]
  },
  {
   "cell_type": "markdown",
   "id": "9e0e6a00-0c55-4ec3-881f-4cdd32899772",
   "metadata": {},
   "source": [
    "Install additional packages directly from the requirements file"
   ]
  },
  {
   "cell_type": "code",
   "execution_count": null,
   "id": "924876a7-a415-4d65-81c4-5e5cd7b7b53d",
   "metadata": {},
   "outputs": [],
   "source": [
    "pip install -r requirements.in --quiet"
   ]
  },
  {
   "cell_type": "markdown",
   "id": "bd675e30-92c7-494f-9f16-2ea0ae1de32f",
   "metadata": {
    "tags": []
   },
   "source": [
    "## Setup\n"
   ]
  },
  {
   "cell_type": "markdown",
   "id": "3fbdf7a0-4daa-49c1-a3f7-3e0bd0e38560",
   "metadata": {
    "tags": []
   },
   "source": [
    "### Set analysis parameters\n",
    "Sets the 32 km coastal grid cell to analyse, the config file, start and end dates, and other more specific parameters. "
   ]
  },
  {
   "cell_type": "code",
   "execution_count": 3,
   "id": "58c0e260-cd76-45d9-9dc3-5e4294be31c6",
   "metadata": {
    "tags": []
   },
   "outputs": [],
   "source": [
    "# General params\n",
    "study_area = \"testing\"  # \"x094y145\"  # To match the default 32 km tile GridSpec\n",
    "start_date = \"2023\"  # Start date for analysis\n",
    "label_date = \"2023\"  # Date used to label arrays\n",
    "end_date = \"2023\"  # End date for analysis\n",
    "tide_model = \"ensemble\"  # Tide model to use in analysis  \n",
    "tide_model_dir = \"/gdata1/data/tide_models_clipped\"  # Directory containing tide model files\n",
    "output_version = \"0.0.1\"\n",
    "\n",
    "# Intertidal Exposure params\n",
    "modelled_freq = \"6h\"\n",
    "\n",
    "# Intertidal Composites params\n",
    "threshold_lowtide = 0.2\n",
    "threshold_hightide = 0.8\n",
    "\n",
    "# Additional flags optionally turning exposure/offset calculation off\n",
    "# for testing elevation code\n",
    "exposure_offsets = \"\"  # \"--no-exposure_offsets\""
   ]
  },
  {
   "cell_type": "markdown",
   "id": "cd538aa3-7716-443b-a10d-6d35e7e61597",
   "metadata": {},
   "source": [
    "## DEA Intertidal CLI\n",
    "This CLI allows you to generate the following DEA Intertidal layers with a single command line call:\n",
    "* **DEA Intertidal Elevation**\n",
    "* **DEA Intertidal Exposure**\n",
    "* **DEA Intertidal Extents**\n",
    "* **DEA Intertidal spread, offsets, HOT, LOT, HAT, LAT**\n",
    "\n",
    "Running `--help` shows all the CLI parameters that can be used to customise the analysis:"
   ]
  },
  {
   "cell_type": "code",
   "execution_count": 4,
   "id": "0ef38032-e7e1-4090-b89c-c236d573e3a8",
   "metadata": {
    "tags": []
   },
   "outputs": [
    {
     "name": "stdout",
     "output_type": "stream",
     "text": [
      "Usage: python -m intertidal.elevation [OPTIONS]\n",
      "\n",
      "Options:\n",
      "  --study_area TEXT               A string providing a GridSpec tile ID (e.g.\n",
      "                                  in the form 'x123y123') to run the analysis\n",
      "                                  on.  [required]\n",
      "  --start_date TEXT               The start date of satellite data to load\n",
      "                                  from the datacube. This can be any date\n",
      "                                  format accepted by datacube. For DEA\n",
      "                                  Intertidal, this is set to provide a three\n",
      "                                  year window centred over `label_date` below.\n",
      "                                  [required]\n",
      "  --end_date TEXT                 The end date of satellite data to load from\n",
      "                                  the datacube. This can be any date format\n",
      "                                  accepted by datacube. For DEA Intertidal,\n",
      "                                  this is set to provide a three year window\n",
      "                                  centred over `label_date` below.  [required]\n",
      "  --label_date TEXT               The date used to label output arrays, and to\n",
      "                                  use as the date assigned to the dataset when\n",
      "                                  indexed into Datacube.  [required]\n",
      "  --output_version TEXT           The version number to use for output files\n",
      "                                  and metadata (e.g. '0.0.1').  [required]\n",
      "  --output_dir TEXT               The directory/location to output data and\n",
      "                                  metadata; supports both local disk and S3\n",
      "                                  locations.\n",
      "  --resolution INTEGER            The spatial resolution in metres used to\n",
      "                                  load satellite data and produce intertidal\n",
      "                                  outputs. Defaults to 10 metre Sentinel-2\n",
      "                                  resolution.\n",
      "  --ndwi_thresh FLOAT             NDWI threshold used to identify the\n",
      "                                  transition from dry to wet in the intertidal\n",
      "                                  elevation calculation. Defaults to 0.1,\n",
      "                                  which typically captures this transition\n",
      "                                  more reliably than 0.0.\n",
      "  --min_freq FLOAT                Minimum frequency of wetness required for a\n",
      "                                  pixel to be included in the analysis, by\n",
      "                                  default 0.01.\n",
      "  --max_freq FLOAT                Maximum frequency of wetness required for a\n",
      "                                  pixel to be included in the analysis, by\n",
      "                                  default 0.99.\n",
      "  --min_correlation FLOAT         Minimum correlation between water index and\n",
      "                                  tide height required for a pixel to be\n",
      "                                  included in the analysis, by default 0.15.\n",
      "  --windows_n INTEGER             Number of rolling windows to iterate over in\n",
      "                                  the per-pixel rolling median calculation, by\n",
      "                                  default 100.\n",
      "  --window_prop_tide FLOAT        Proportion of the tide range to use for each\n",
      "                                  window radius in the per-pixel rolling\n",
      "                                  median calculation, by default 0.15.\n",
      "  --tide_model TEXT               The model used for tide modelling, as\n",
      "                                  supported by the `pyTMD` Python package.\n",
      "                                  Options include 'FES2014' (default),\n",
      "                                  'TPXO9-atlas-v5', 'TPXO8-atlas-v1', 'EOT20',\n",
      "                                  'HAMTIDE11', 'GOT4.10'.\n",
      "  --tide_model_dir TEXT           The directory containing tide model data\n",
      "                                  files. Defaults to '/var/share/tide_models';\n",
      "                                  for more information about the required\n",
      "                                  directory structure, refer to\n",
      "                                  `dea_tools.coastal.model_tides`.\n",
      "  --modelled_freq TEXT            The frequency at which to model tides across\n",
      "                                  the entire analysis period as inputs to the\n",
      "                                  exposure, LAT (lowest astronomical tide),\n",
      "                                  HAT (highest astronomical tide), and\n",
      "                                  spread/offset calculations. Defaults to\n",
      "                                  '30min' which will generate a timestep every\n",
      "                                  30 minutes between 'start_date' and\n",
      "                                  'end_date'.\n",
      "  --exposure_offsets / --no-exposure_offsets\n",
      "                                  Whether to run the Exposure and\n",
      "                                  spread/offsets/tidelines steps of the\n",
      "                                  Intertidal workflow. Defaults to True; can\n",
      "                                  be set to False by passing `--no-\n",
      "                                  exposure_offsets`.\n",
      "  --aws_unsigned / --no-aws_unsigned\n",
      "                                  Whether to sign AWS requests for S3 access.\n",
      "                                  Defaults to True; can be set to False by\n",
      "                                  passing `--no-aws_unsigned`.\n",
      "  --help                          Show this message and exit.\n"
     ]
    }
   ],
   "source": [
    "!python -m intertidal.elevation --help"
   ]
  },
  {
   "cell_type": "markdown",
   "id": "4a056759-7ec9-473d-8a60-9a7b95f122cd",
   "metadata": {},
   "source": [
    "### Run DEA Intertidal CLI for a single epoch\n",
    "This will run an entire DEA Intertidal analysis from start to finish:"
   ]
  },
  {
   "cell_type": "code",
   "execution_count": null,
   "id": "1da1e270-43bd-4a11-9d5b-6be26cb1a74f",
   "metadata": {
    "tags": []
   },
   "outputs": [],
   "source": [
    "%%time\n",
    "!python -m intertidal.elevation --study_area {study_area} --start_date {start_date} --end_date {end_date} --label_date {label_date} --output_dir s3://dea-public-data-dev/derivative/ --output_version {output_version} --modelled_freq {modelled_freq} {exposure_offsets} --tide_model {tide_model} --tide_model_dir {tide_model_dir}"
   ]
  },
  {
   "cell_type": "markdown",
   "id": "dc1dc57d-c974-4025-b26e-d70a0d343c8d",
   "metadata": {},
   "source": [
    "### Run DEA Intertidal CLI for a single epoch with multiple tiles\n",
    "This will run an entire DEA Intertidal analysis from start to finish:"
   ]
  },
  {
   "cell_type": "code",
   "execution_count": null,
   "id": "9dcf7f21-41e0-4b4b-aaf3-2ab5fc5325d8",
   "metadata": {},
   "outputs": [],
   "source": [
    "# study_area_list = []\n",
    "\n",
    "epoch_list = [\n",
    "    # (\"2016\", \"2017\", \"2018\"),\n",
    "    # (\"2017\", \"2018\", \"2019\"),\n",
    "    # (\"2018\", \"2019\", \"2020\"),\n",
    "    (\"2019\", \"2020\", \"2021\"),\n",
    "]\n",
    "\n",
    "for tile in study_area_list:\n",
    "    for start_date, label_date, end_date in epoch_list:\n",
    "        print(start_date, label_date, end_date)\n",
    "        print(tile)\n",
    "        try:\n",
    "            !python -m intertidal.elevation --study_area {tile} --start_date {start_date} --end_date {end_date} --label_date {label_date} --modelled_freq {modelled_freq} {exposure_offsets} --tide_model {tide_model} --tide_model_dir {tide_model_dir}\n",
    "        except:\n",
    "            pass"
   ]
  },
  {
   "cell_type": "markdown",
   "id": "e9a7aa51-aed7-4291-af12-515f73e59755",
   "metadata": {},
   "source": [
    "## DEA Intertidal Composites CLI\n",
    "\n",
    "<div class=\"alert alert-block alert-warning\">Note: DEA Intertidal Composites code is currently a work in progress.</div>\n",
    "\n",
    "This CLI allows you to generate the following DEA Intertidal layers with a single command line call:\n",
    "\n",
    "* **DEA Intertidal Composites** (producing low and high tide geomedian outputs)\n",
    "\n",
    "Running `--help` shows all the CLI parameters that can be used to customise the analysis:"
   ]
  },
  {
   "cell_type": "code",
   "execution_count": null,
   "id": "1e885ff2-d431-42de-9ce3-5223c748b8f8",
   "metadata": {
    "tags": []
   },
   "outputs": [],
   "source": [
    "# !python -m intertidal.composites --help"
   ]
  },
  {
   "cell_type": "markdown",
   "id": "c9b351da-2a04-463e-a5fb-f140a5048741",
   "metadata": {},
   "source": [
    "### Run DEA Intertidal Composites CLI for a single epoch\n",
    "This will run an entire DEA Intertidal Composites analysis from start to finish:"
   ]
  },
  {
   "cell_type": "code",
   "execution_count": null,
   "id": "03f7606a-add3-4673-a2aa-de5bd039418b",
   "metadata": {
    "tags": []
   },
   "outputs": [],
   "source": [
    "# %%time\n",
    "# !python -m intertidal.composites --study_area {study_area} --start_date {start_date} --end_date {end_date} --threshold_lowtide {threshold_lowtide} --threshold_hightide {threshold_hightide}"
   ]
  },
  {
   "cell_type": "markdown",
   "id": "d7db1fe7-7cab-4543-8e35-79587284a4c3",
   "metadata": {
    "tags": []
   },
   "source": [
    "## Run DEA Intertidal CLIs for multiple epochs\n",
    "This will run an entire DEA Intertidal and DEA Intertidal Composites analysis from start to finish for several epochs:"
   ]
  },
  {
   "cell_type": "code",
   "execution_count": null,
   "id": "16ab31f6-2490-4159-90ba-2849e1eb3fac",
   "metadata": {},
   "outputs": [],
   "source": [
    "# epoch_list = [\n",
    "#     # (\"2016\", \"2018\"),\n",
    "#     # (\"2018\", \"2020\"),\n",
    "#     (\"2019\", \"2021\"),\n",
    "#     # (\"2020\", \"2022\"),\n",
    "# ]\n",
    "\n",
    "# for start_date, end_date in epoch_list:\n",
    "#     print(start_date, end_date)\n",
    "#     !python -m intertidal.elevation --config_path {config_path} --study_area {study_area} --start_date {start_date} --end_date {end_date} --modelled_freq {modelled_freq} --tideline_offset_distance {tideline_offset_distance} {exposure_offsets} {output_auxiliaries}\n",
    "#     !python -m intertidal.composites --config_path {config_path} --study_area {study_area} --start_date {start_date} --end_date {end_date} --threshold_lowtide {threshold_lowtide} --threshold_hightide {threshold_hightide}"
   ]
  },
  {
   "cell_type": "code",
   "execution_count": null,
   "id": "362dd600-9cb2-415d-bf7b-331bc22d7e95",
   "metadata": {},
   "outputs": [],
   "source": []
  }
 ],
 "metadata": {
  "kernelspec": {
   "display_name": "Python 3 (ipykernel)",
   "language": "python",
   "name": "python3"
  },
  "language_info": {
   "codemirror_mode": {
    "name": "ipython",
    "version": 3
   },
   "file_extension": ".py",
   "mimetype": "text/x-python",
   "name": "python",
   "nbconvert_exporter": "python",
   "pygments_lexer": "ipython3",
   "version": "3.10.13"
  },
  "widgets": {
   "application/vnd.jupyter.widget-state+json": {
    "state": {},
    "version_major": 2,
    "version_minor": 0
   }
  }
 },
 "nbformat": 4,
 "nbformat_minor": 5
}

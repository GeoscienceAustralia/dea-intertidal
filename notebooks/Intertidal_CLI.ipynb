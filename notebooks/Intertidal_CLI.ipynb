{
 "cells": [
  {
   "cell_type": "markdown",
   "id": "ccccdf10-6065-4f91-8725-d3233ebbe6d4",
   "metadata": {
    "tags": []
   },
   "source": [
    "# Digital Earth Australia Intertidal Command Line Interfaces (CLI)\n",
    "\n",
    "This notebook demonstrates how to call the DEA Intertidal and DEA Intertidal Composites workflows via their Command Line Interface utilities. \n",
    "This allows you to run an entire DEA Intertidal Analysis using a single line of code.\n",
    "\n",
    "## Getting started\n",
    "Set working directory to top level of repo to ensure links work correctly:"
   ]
  },
  {
   "cell_type": "code",
   "execution_count": 1,
   "id": "3cdd49c0-fef3-4b10-9d45-d28c41755e12",
   "metadata": {},
   "outputs": [
    {
     "name": "stdout",
     "output_type": "stream",
     "text": [
      "/home/jovyan/Robbi/dea-intertidal\n"
     ]
    }
   ],
   "source": [
    "cd .."
   ]
  },
  {
   "cell_type": "markdown",
   "id": "9e0e6a00-0c55-4ec3-881f-4cdd32899772",
   "metadata": {},
   "source": [
    "Install additional packages directly from the requirements file"
   ]
  },
  {
   "cell_type": "code",
   "execution_count": null,
   "id": "924876a7-a415-4d65-81c4-5e5cd7b7b53d",
   "metadata": {},
   "outputs": [],
   "source": [
    "# pip install -r requirements.in --quiet"
   ]
  },
  {
   "cell_type": "markdown",
   "id": "bd675e30-92c7-494f-9f16-2ea0ae1de32f",
   "metadata": {
    "tags": []
   },
   "source": [
    "## Setup\n"
   ]
  },
  {
   "cell_type": "markdown",
   "id": "3fbdf7a0-4daa-49c1-a3f7-3e0bd0e38560",
   "metadata": {
    "tags": []
   },
   "source": [
    "### Set analysis parameters\n",
    "Sets the 32 km coastal grid cell to analyse, the config file, start and end dates, and other more specific parameters. "
   ]
  },
  {
   "cell_type": "code",
   "execution_count": 2,
   "id": "58c0e260-cd76-45d9-9dc3-5e4294be31c6",
   "metadata": {},
   "outputs": [],
   "source": [
    "# General params\n",
    "# study_area = '776'\n",
    "# config_path = 'configs/dea_intertidal_config_studyareas.yaml'\n",
    "study_area = 'pointstuart'\n",
    "config_path = 'configs/dea_intertidal_config_development.yaml'\n",
    "# study_area = '776'\n",
    "# config_path = 'configs/dea_intertidal_config.yaml'\n",
    "start_date = '2019'\n",
    "end_date = '2021'\n",
    "\n",
    "# Intertidal Exposure params\n",
    "modelled_freq = '30min'\n",
    "tideline_offset_distance = 1000\n",
    "\n",
    "# Intertidal Composites params\n",
    "threshold_lowtide = 0.2\n",
    "threshold_hightide = 0.8\n",
    "\n",
    "# Additional flags optionally turning exposure/offset calculation off\n",
    "# for testing elevation code, and outputting optional auxiliary outputs\n",
    "# for debugging (defaults are to calculate exposure/offsets, and not\n",
    "# output auxiliary files.\n",
    "exposure_offsets = \"\"\n",
    "output_auxiliaries = \"--output_auxiliaries\""
   ]
  },
  {
   "cell_type": "markdown",
   "id": "cd538aa3-7716-443b-a10d-6d35e7e61597",
   "metadata": {},
   "source": [
    "## DEA Intertidal CLI\n",
    "This CLI allows you to generate the following DEA Intertidal layers with a single command line call:\n",
    "* **DEA Intertidal Elevation**\n",
    "* **DEA Intertidal Exposure**\n",
    "* **DEA Intertidal Extents**\n",
    "* **DEA Intertidal spread, offsets, HOT, LOT, HAT, LAT**\n",
    "* **DEA Intertidal tidelines and tidal offset points**\n",
    "\n",
    "Running `--help` shows all the CLI parameters that can be used to customise the analysis:"
   ]
  },
  {
   "cell_type": "code",
   "execution_count": null,
   "id": "0ef38032-e7e1-4090-b89c-c236d573e3a8",
   "metadata": {},
   "outputs": [],
   "source": [
    "!python -m intertidal.elevation --help"
   ]
  },
  {
   "cell_type": "markdown",
   "id": "4a056759-7ec9-473d-8a60-9a7b95f122cd",
   "metadata": {},
   "source": [
    "### Run DEA Intertidal CLI for a single epoch\n",
    "This will run an entire DEA Intertidal analysis from start to finish:"
   ]
  },
  {
   "cell_type": "code",
   "execution_count": 6,
   "id": "1da1e270-43bd-4a11-9d5b-6be26cb1a74f",
   "metadata": {},
   "outputs": [
    {
     "name": "stdout",
     "output_type": "stream",
     "text": [
      "2023-06-06 01:36:06 INFO Study area pointstuart: Loading satellite data\n",
      "/env/lib/python3.8/site-packages/distributed/node.py:182: UserWarning: Port 8787 is already in use.\n",
      "Perhaps you already have a cluster running?\n",
      "Hosting the HTTP server on port 39715 instead\n",
      "  warnings.warn(\n",
      "<Client: 'tcp://127.0.0.1:35819' processes=1 threads=15, memory=117.21 GiB>\n",
      "/env/lib/python3.8/site-packages/rasterio/warp.py:344: NotGeoreferencedWarning: Dataset has no geotransform, gcps, or rpcs. The identity matrix will be returned.\n",
      "  _reproject(\n",
      "2023-06-06 01:37:01 INFO Study area pointstuart: Calculating Intertidal Elevation\n",
      "2023-06-06 01:37:01 INFO Study area pointstuart: Modelling tide heights for each pixel\n",
      "Creating reduced resolution 5000 x 5000 metre tide modelling array\n",
      "Modelling tides using FES2014 tide model\n",
      "Reprojecting tides into original array\n",
      "100%|████████████████████████████████████████| 329/329 [00:00<00:00, 580.71it/s]\n",
      "2023-06-06 01:37:12 INFO Study area pointstuart: Masking nodata and adding tide heights to satellite data array\n",
      "2023-06-06 01:37:12 INFO Study area pointstuart: Flattening satellite data array and filtering to intertidal candidate pixels\n",
      "Reducing analysed pixels from 69204 to 44143 (63.79%)\n",
      "2023-06-06 01:37:13 INFO Study area pointstuart: Running per-pixel rolling median\n",
      "100%|█████████████████████████████████████████| 114/114 [00:34<00:00,  3.32it/s]\n",
      "2023-06-06 01:37:48 INFO Study area pointstuart: Modelling intertidal elevation\n",
      "2023-06-06 01:37:49 INFO Study area pointstuart: Modelling intertidal uncertainty\n",
      "2023-06-06 01:37:49 INFO Study area pointstuart: Unflattening data back to its original spatial dimensions\n",
      "2023-06-06 01:37:49 INFO Study area pointstuart: Successfully completed intertidal elevation modelling\n",
      "2023-06-06 01:37:49 INFO Study area pointstuart: Calculating Intertidal Extents\n",
      "2023-06-06 01:37:50 INFO Study area pointstuart: Calculating Intertidal Exposure\n",
      "Creating reduced resolution 5000 x 5000 metre tide modelling array\n",
      "Modelling tides using FES2014 tide model\n",
      "Computing tide quantiles\n",
      "Reprojecting tides into original array\n",
      "100%|████████████████████████████████████████| 101/101 [00:00<00:00, 521.96it/s]\n",
      "2023-06-06 01:39:37 INFO Study area pointstuart: Calculating spread, offset and HAT/LAT/LOT/HOT layers\n",
      "2023-06-06 01:39:37 INFO Study area pointstuart: Calculating high and low tidelines and associated satellite offsets\n",
      "Operating in multiple z-value, single array mode\n",
      "2023-06-06 01:39:37 INFO Study area pointstuart: Exporting high and low tidelines with satellite offset to data/interim/pointstuart\n",
      "2023-06-06 01:39:37 INFO Study area pointstuart: Exporting output GeoTIFFs to data/interim/pointstuart\n",
      "2023-06-06 01:39:37 INFO Study area pointstuart: Exporting debugging GeoTIFFs to data/interim/pointstuart\n",
      "2023-06-06 01:39:37 INFO Study area pointstuart: Completed DEA Intertidal workflow\n",
      "CPU times: user 2.15 s, sys: 418 ms, total: 2.57 s\n",
      "Wall time: 3min 34s\n"
     ]
    }
   ],
   "source": [
    "%%time\n",
    "!python -m intertidal.elevation --config_path {config_path} --study_area {study_area} --start_date {start_date} --end_date {end_date} --modelled_freq {modelled_freq} --tideline_offset_distance {tideline_offset_distance} {exposure_offsets} {output_auxiliaries}"
   ]
  },
  {
   "cell_type": "markdown",
   "id": "dc1dc57d-c974-4025-b26e-d70a0d343c8d",
   "metadata": {},
   "source": [
    "### Run DEA Intertidal CLI for a single epoch with multiple tiles\n",
    "This will run an entire DEA Intertidal analysis from start to finish:"
   ]
  },
  {
   "cell_type": "code",
   "execution_count": 8,
   "id": "a4360be6-aa30-4542-a7fb-9ddff664bde3",
   "metadata": {},
   "outputs": [],
   "source": [
    "# Separated study area ids\n",
    "\n",
    "# Single timesteps (2019 - 2021)\n",
    "claire_ids =['107', '108', '109', '137', '138', '160', '161', '175', '176', '272', '273', '294', '295', '296', '318', '319', '297', '337', '338', '463', '464', '483', '477', '478', '494', '506', '507', '519', '638', '654', '655']#, '776']\n",
    "robbi_ids = ['669', '670', '728', '743', '746', '747', '764', '765', '766', '761', '762', '777', '767', '778', '793', '808', '814', '815', '832', '833', '836', '837', '843', '844', '851', '852', '850', '858', '859']\n",
    "ness_ids = ['860', '866', '867', '872', '876', '881', '883', '884', '887', '888', '892', '897', '976', '977', '986', '987', '996', '997', '1006', '1082', '1083', '1096', '1110', '1193', '1194', '1208', '1209', '1214', '1215', '1216', '1235']\n",
    "\n",
    "# timeseries tiles\n",
    "ts_ids =['832', '833', '477', '478', '808', '814', '815', '876', '881', '1193', '1194', '1208', '1209']\n",
    "\n",
    "# Gapfill\n",
    "gapfill_ids = ['743', '836', '858', '107', '872', '1006', '107', '297']\n",
    "\n",
    "# Extras\n",
    "extra_ids = ['355', '357', '370', '371', '372', '373', '385', '386', '401', '402']\n",
    "extra_temporal_ids = ['385', '386']"
   ]
  },
  {
   "cell_type": "code",
   "execution_count": null,
   "id": "e47300c0-0e09-4b27-ab22-e0db4883e95e",
   "metadata": {},
   "outputs": [],
   "source": []
  },
  {
   "cell_type": "code",
   "execution_count": null,
   "id": "9dcf7f21-41e0-4b4b-aaf3-2ab5fc5325d8",
   "metadata": {},
   "outputs": [
    {
     "name": "stdout",
     "output_type": "stream",
     "text": [
      "2016 2018\n",
      "385\n",
      "<Client: 'tcp://127.0.0.1:39909' processes=1 threads=62, memory=477.21 GiB>\n",
      "2023-05-31 11:15:37 INFO Study area 385: Loaded study area grid\n",
      "2023-05-31 11:15:37 INFO Study area 385: Loading satellite data\n",
      "/env/lib/python3.8/site-packages/rasterio/warp.py:344: NotGeoreferencedWarning: Dataset has no geotransform, gcps, or rpcs. The identity matrix will be returned.\n",
      "  _reproject(\n",
      "/env/lib/python3.8/site-packages/rasterio/warp.py:344: NotGeoreferencedWarning: Dataset has no geotransform, gcps, or rpcs. The identity matrix will be returned.\n",
      "  _reproject(\n"
     ]
    }
   ],
   "source": [
    "study_area_list = extra_temporal_ids\n",
    "epoch_list = [\n",
    "    (\"2016\", \"2018\"),\n",
    "    (\"2017\", \"2019\"),\n",
    "    (\"2018\", \"2020\"),\n",
    "    # (\"2019\", \"2021\"),\n",
    "    (\"2020\", \"2022\"),\n",
    "]\n",
    "\n",
    "for tile in study_area_list:\n",
    "    for start_date, end_date in epoch_list:\n",
    "        print(start_date, end_date)\n",
    "        print(tile)\n",
    "        try:\n",
    "            !python -m intertidal.elevation --config_path {config_path} --study_area {tile} --start_date {start_date} --end_date {end_date} --modelled_freq {modelled_freq} --tideline_offset_distance {tideline_offset_distance} {exposure_offsets} {output_auxiliaries}\n",
    "        except:\n",
    "            pass"
   ]
  },
  {
   "cell_type": "markdown",
   "id": "e9a7aa51-aed7-4291-af12-515f73e59755",
   "metadata": {},
   "source": [
    "## DEA Intertidal Composites CLI\n",
    "\n",
    "This CLI allows you to generate the following DEA Intertidal layers with a single command line call:\n",
    "\n",
    "* **DEA Intertidal Composites** (producing low and high tide geomedian outputs)\n",
    "\n",
    "Running `--help` shows all the CLI parameters that can be used to customise the analysis:"
   ]
  },
  {
   "cell_type": "code",
   "execution_count": null,
   "id": "1e885ff2-d431-42de-9ce3-5223c748b8f8",
   "metadata": {},
   "outputs": [],
   "source": [
    "!python -m intertidal.composites --help"
   ]
  },
  {
   "cell_type": "markdown",
   "id": "c9b351da-2a04-463e-a5fb-f140a5048741",
   "metadata": {},
   "source": [
    "### Run DEA Intertidal Composites CLI for a single epoch\n",
    "This will run an entire DEA Intertidal Composites analysis from start to finish:"
   ]
  },
  {
   "cell_type": "code",
   "execution_count": null,
   "id": "03f7606a-add3-4673-a2aa-de5bd039418b",
   "metadata": {},
   "outputs": [],
   "source": [
    "%%time\n",
    "!python -m intertidal.composites --config_path {config_path} --study_area {study_area} --start_date {start_date} --end_date {end_date} --threshold_lowtide {threshold_lowtide} --threshold_hightide {threshold_hightide}"
   ]
  },
  {
   "cell_type": "markdown",
   "id": "d7db1fe7-7cab-4543-8e35-79587284a4c3",
   "metadata": {},
   "source": [
    "## Run DEA Intertidal CLIs for multiple epochs\n",
    "This will run an entire DEA Intertidal and DEA Intertidal Composites analysis from start to finish for several epochs:"
   ]
  },
  {
   "cell_type": "code",
   "execution_count": null,
   "id": "16ab31f6-2490-4159-90ba-2849e1eb3fac",
   "metadata": {},
   "outputs": [],
   "source": [
    "epoch_list = [\n",
    "    (\"2016\", \"2018\"),\n",
    "    # (\"2018\", \"2020\"),\n",
    "    # (\"2019\", \"2021\"),\n",
    "    # (\"2020\", \"2022\"),\n",
    "]\n",
    "\n",
    "for start_date, end_date in epoch_list:\n",
    "    print(start_date, end_date)\n",
    "    !python -m intertidal.elevation --config_path {config_path} --study_area {study_area} --start_date {start_date} --end_date {end_date} --modelled_freq {modelled_freq} --tideline_offset_distance {tideline_offset_distance} {exposure_offsets} {output_auxiliaries}\n",
    "    !python -m intertidal.composites --config_path {config_path} --study_area {study_area} --start_date {start_date} --end_date {end_date} --threshold_lowtide {threshold_lowtide} --threshold_hightide {threshold_hightide}"
   ]
  },
  {
   "cell_type": "code",
   "execution_count": null,
   "id": "362dd600-9cb2-415d-bf7b-331bc22d7e95",
   "metadata": {},
   "outputs": [],
   "source": []
  }
 ],
 "metadata": {
  "kernelspec": {
   "display_name": "Python 3 (ipykernel)",
   "language": "python",
   "name": "python3"
  },
  "language_info": {
   "codemirror_mode": {
    "name": "ipython",
    "version": 3
   },
   "file_extension": ".py",
   "mimetype": "text/x-python",
   "name": "python",
   "nbconvert_exporter": "python",
   "pygments_lexer": "ipython3",
   "version": "3.8.10"
  },
  "widgets": {
   "application/vnd.jupyter.widget-state+json": {
    "state": {},
    "version_major": 2,
    "version_minor": 0
   }
  }
 },
 "nbformat": 4,
 "nbformat_minor": 5
}

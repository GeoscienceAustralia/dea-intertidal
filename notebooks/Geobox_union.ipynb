{
 "cells": [
  {
   "cell_type": "code",
   "execution_count": 1,
   "id": "15806014-9224-4fb8-ba69-7fa178693dfb",
   "metadata": {},
   "outputs": [
    {
     "name": "stdout",
     "output_type": "stream",
     "text": [
      "/home/jovyan/Robbi/dea-intertidal\n"
     ]
    }
   ],
   "source": [
    "cd .."
   ]
  },
  {
   "cell_type": "code",
   "execution_count": null,
   "id": "75a90fab-13c3-475a-ae58-a8e03501cf58",
   "metadata": {},
   "outputs": [],
   "source": [
    "pip install odc-geo --quiet"
   ]
  },
  {
   "cell_type": "code",
   "execution_count": 34,
   "id": "389d98de-e24b-4b46-9893-a99d3b6aebf8",
   "metadata": {},
   "outputs": [
    {
     "name": "stdout",
     "output_type": "stream",
     "text": [
      "The autoreload extension is already loaded. To reload it, use:\n",
      "  %reload_ext autoreload\n"
     ]
    }
   ],
   "source": [
    "%load_ext autoreload\n",
    "%autoreload 2\n",
    "\n",
    "import geopandas as gpd\n",
    "import numpy as np\n",
    "import odc.geo.xr\n",
    "import datacube\n",
    "\n",
    "from intertidal.extents import load_data\n",
    "\n",
    "dc = datacube.Datacube(app='Intertidal_elevation')\n"
   ]
  },
  {
   "cell_type": "markdown",
   "id": "6d7b7595-ea74-4a42-b454-9f11ede02200",
   "metadata": {},
   "source": [
    "### Load data\n",
    "For each Area of Interest, lazily load datacube data:"
   ]
  },
  {
   "cell_type": "code",
   "execution_count": 23,
   "id": "20186860-9a97-4759-917e-daef0992f535",
   "metadata": {},
   "outputs": [],
   "source": [
    "# Load AOI vector regions\n",
    "aoi_gdf = gpd.read_file('data/raw/Phase_1_NT_Gov.geojson').set_index('Name').to_crs('EPSG:3577')\n",
    "\n",
    "# Load data for each ROI\n",
    "aois = ['Wollogorang', 'McCarthur River', 'Greenbank', 'Seven Emu']\n",
    "geoboxes = []\n",
    "\n",
    "for aoi in aois:\n",
    "    \n",
    "    # Import region of interest    \n",
    "    geom = Geometry(geom=aoi_gdf.loc[aoi].geometry, crs='EPSG:3577')\n",
    "    \n",
    "    # Load data and append geobox\n",
    "    ds = load_data(dc, geom)\n",
    "    geoboxes.append(ds.odc.geobox)\n"
   ]
  },
  {
   "cell_type": "markdown",
   "id": "f35934a9-4d63-4794-b85b-91325ae5b300",
   "metadata": {},
   "source": [
    "### Create template raster\n",
    "Create new GeoBox from the union of all inputs:"
   ]
  },
  {
   "cell_type": "code",
   "execution_count": 25,
   "id": "770f6356-0858-4418-9e50-255facc9689a",
   "metadata": {},
   "outputs": [],
   "source": [
    "geobox_union = odc.geo.geobox.geobox_union_conservative(geoboxes=geoboxes)"
   ]
  },
  {
   "cell_type": "markdown",
   "id": "466fac01-e4a7-4032-9a73-0e10c817ce2f",
   "metadata": {},
   "source": [
    "Create and save template raster:"
   ]
  },
  {
   "cell_type": "code",
   "execution_count": 37,
   "id": "08ecb232-ab8f-48b2-80d3-90b00b44fba9",
   "metadata": {},
   "outputs": [],
   "source": [
    "ds_union = odc.geo.xr.xr_zeros(geobox=geobox_union).astype(np.int16)\n",
    "ds_union.odc.write_cog('intertidal_template.tif', overwrite=True)"
   ]
  },
  {
   "cell_type": "markdown",
   "id": "253c8e8b-2876-4114-bd99-f2cfea440382",
   "metadata": {},
   "source": [
    "### Reproject LiDAR DEM into template raster grid\n",
    "```\n",
    "gdalwarp -s_srs EPSG:28353 -t_srs EPSG:32753 -dstnodata -9999.0 -tr 10.0 10.0 -r average -te 640270.0 8165330.0 820370.0 8276390.0 -te_srs EPSG:32753 -multi -ot Float32 -of GTiff -co COMPRESS=DEFLATE -co PREDICTOR=2 -co ZLEVEL=9 \"dem.vrt\" \"lidar_10m.tif\"\n",
    "```"
   ]
  },
  {
   "cell_type": "code",
   "execution_count": null,
   "id": "fe9c674f-6209-4083-b67c-e23cba9e8177",
   "metadata": {},
   "outputs": [],
   "source": []
  }
 ],
 "metadata": {
  "kernelspec": {
   "display_name": "Python 3 (ipykernel)",
   "language": "python",
   "name": "python3"
  },
  "language_info": {
   "codemirror_mode": {
    "name": "ipython",
    "version": 3
   },
   "file_extension": ".py",
   "mimetype": "text/x-python",
   "name": "python",
   "nbconvert_exporter": "python",
   "pygments_lexer": "ipython3",
   "version": "3.8.10"
  }
 },
 "nbformat": 4,
 "nbformat_minor": 5
}

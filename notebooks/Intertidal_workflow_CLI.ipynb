{
 "cells": [
  {
   "cell_type": "markdown",
   "id": "ccccdf10-6065-4f91-8725-d3233ebbe6d4",
   "metadata": {
    "tags": []
   },
   "source": [
    "# Digital Earth Australia Intertidal Command Line Interface (CLI)\n",
    "\n",
    "## Getting started\n",
    "Set working directory to top level of repo to ensure links work correctly:"
   ]
  },
  {
   "cell_type": "code",
   "execution_count": 1,
   "id": "3cdd49c0-fef3-4b10-9d45-d28c41755e12",
   "metadata": {},
   "outputs": [
    {
     "name": "stdout",
     "output_type": "stream",
     "text": [
      "/home/jovyan/dea_intertidal/dea-intertidal\n"
     ]
    }
   ],
   "source": [
    "cd .."
   ]
  },
  {
   "cell_type": "markdown",
   "id": "9e0e6a00-0c55-4ec3-881f-4cdd32899772",
   "metadata": {},
   "source": [
    "Install additional packages directly from the requirements file"
   ]
  },
  {
   "cell_type": "code",
   "execution_count": 2,
   "id": "924876a7-a415-4d65-81c4-5e5cd7b7b53d",
   "metadata": {},
   "outputs": [
    {
     "name": "stdout",
     "output_type": "stream",
     "text": [
      "Note: you may need to restart the kernel to use updated packages.\n"
     ]
    }
   ],
   "source": [
    "pip install -r requirements.in --quiet"
   ]
  },
  {
   "cell_type": "markdown",
   "id": "bd675e30-92c7-494f-9f16-2ea0ae1de32f",
   "metadata": {
    "tags": []
   },
   "source": [
    "## Setup\n"
   ]
  },
  {
   "cell_type": "markdown",
   "id": "3fbdf7a0-4daa-49c1-a3f7-3e0bd0e38560",
   "metadata": {
    "tags": []
   },
   "source": [
    "### Set analysis parameters\n",
    "Sets the 32 km coastal grid cell to analyse and the config file:"
   ]
  },
  {
   "cell_type": "code",
   "execution_count": 3,
   "id": "58c0e260-cd76-45d9-9dc3-5e4294be31c6",
   "metadata": {},
   "outputs": [],
   "source": [
    "study_area = 70\n",
    "config_path = 'configs/dea_intertidal_config.yaml'"
   ]
  },
  {
   "cell_type": "markdown",
   "id": "cd538aa3-7716-443b-a10d-6d35e7e61597",
   "metadata": {},
   "source": [
    "### View CLI help\n",
    "This shows all the CLI parameters that can be used to customise each analysis:"
   ]
  },
  {
   "cell_type": "code",
   "execution_count": 5,
   "id": "0ef38032-e7e1-4090-b89c-c236d573e3a8",
   "metadata": {},
   "outputs": [
    {
     "name": "stdout",
     "output_type": "stream",
     "text": [
      "Usage: python -m intertidal.elevation [OPTIONS]\n",
      "\n",
      "Options:\n",
      "  --config_path TEXT              Path to the YAML config file defining inputs\n",
      "                                  to use for this analysis. These are\n",
      "                                  typically located in the `dea-\n",
      "                                  intertidal/configs/` directory.  [required]\n",
      "  --study_area TEXT               A string providing a unique ID of an\n",
      "                                  analysis gridcell that will be used to run\n",
      "                                  the analysis. This should match a row in the\n",
      "                                  \"id\" column of the provided analysis\n",
      "                                  gridcell vector file.  [required]\n",
      "  --start_date INTEGER            The start date of satellite data to load\n",
      "                                  from the datacube. This can be any date\n",
      "                                  format accepted by datacube.\n",
      "  --end_date INTEGER              The end date of satellite data to load from\n",
      "                                  the datacube. This can be any date format\n",
      "                                  accepted by datacube.\n",
      "  --resolution FLOAT              The spatial resolution in metres used to\n",
      "                                  load satellite data and produce intertidal\n",
      "                                  outputs. Defaults to 10 metre Sentinel-2\n",
      "                                  resolution.\n",
      "  --ndwi_thresh FLOAT             NDWI threshold used to identify the\n",
      "                                  transition from dry to wet in the intertidal\n",
      "                                  elevation calculation. Defaults to 0.1,\n",
      "                                  which appears to more reliably capture this\n",
      "                                  transition than 0.0.\n",
      "  --modelled_freq TEXT            The frequency at which to model tides across\n",
      "                                  the entire analysis period as inputs to the\n",
      "                                  exposure, LAT (lowest astronomical tide),\n",
      "                                  HAT (highest astronomical tide), and\n",
      "                                  spread/offset calculations. Defaults to\n",
      "                                  '30min' which will generate a timestep every\n",
      "                                  30 minutes between 'start_date' and\n",
      "                                  'end_date'.\n",
      "  --tideline_offset_distance INTEGER\n",
      "                                  The distance along each high and low\n",
      "                                  tideline at which the respective high or low\n",
      "                                  tide satellite offset will be calculated. By\n",
      "                                  default, the distance is set to 500m.\n",
      "  --aws_unsigned / --no-aws_unsigned\n",
      "                                  Whether to use sign AWS requests for S3\n",
      "                                  access\n",
      "  --help                          Show this message and exit.\n"
     ]
    }
   ],
   "source": [
    "!python -m intertidal.elevation --help"
   ]
  },
  {
   "cell_type": "markdown",
   "id": "4a056759-7ec9-473d-8a60-9a7b95f122cd",
   "metadata": {},
   "source": [
    "### Run CLI\n",
    "This will run an entire DEA Intertidal analysis from start to finish:"
   ]
  },
  {
   "cell_type": "code",
   "execution_count": 6,
   "id": "1da1e270-43bd-4a11-9d5b-6be26cb1a74f",
   "metadata": {},
   "outputs": [
    {
     "name": "stdout",
     "output_type": "stream",
     "text": [
      "<Client: 'tcp://127.0.0.1:44185' processes=1 threads=2, memory=12.21 GiB>\n",
      "2023-04-06 06:29:15 INFO Study area 70: Loaded study area grid\n",
      "2023-04-06 06:29:15 INFO Study area 70: Loading satellite data\n",
      "2023-04-06 06:32:11 INFO Study area 70: Modelling tide heights for each pixel\n",
      "Creating reduced resolution tide modelling array\n",
      "Modelling tides using FES2014 tide model\n",
      "Reprojecting tides into original array\n",
      "100%|███████████████████████████████████████████| 26/26 [00:11<00:00,  2.28it/s]\n",
      "2023-04-06 06:32:46 INFO Study area 70: Masking nodata and adding tide heights to satellite data array\n",
      "2023-04-06 06:32:47 INFO Study area 70: Flattening satellite data array and filtering to tide influenced pixels\n",
      "Reducing analysed pixels from 10217507 to 57615 (0.56%)\n",
      "2023-04-06 06:32:59 INFO Study area 70: Running per-pixel rolling median\n",
      "100%|█████████████████████████████████████████| 114/114 [00:08<00:00, 13.23it/s]\n",
      "2023-04-06 06:33:11 INFO Study area 70: Modelling intertidal elevation and confidence\n",
      "Processing elevation_low\n",
      "Processing elevation\n",
      "Processing elevation_high\n",
      "2023-04-06 06:33:11 INFO Study area 70: Successfully completed intertidal elevation modelling\n",
      "2023-04-06 06:33:11 INFO Study area 70: Calculating Extents layer\n",
      "2023-04-06 06:33:12 INFO Study area 70: Calculating Exposure layer\n",
      "Creating reduced resolution tide modelling array\n",
      "Modelling tides using FES2014 tide model\n",
      "Computing tide quantiles\n",
      "Reprojecting tides into original array\n",
      "100%|█████████████████████████████████████████| 101/101 [01:48<00:00,  1.07s/it]\n"
     ]
    }
   ],
   "source": [
    "!python -m intertidal.elevation --config_path {config_path} --study_area {study_area} --start_date 2023 --end_date 2023 --modelled_freq 5h --tideline_offset_distance 1000"
   ]
  },
  {
   "cell_type": "code",
   "execution_count": null,
   "id": "7d337f9e-c6b3-4f04-9a9e-7f15f224fa90",
   "metadata": {},
   "outputs": [],
   "source": []
  }
 ],
 "metadata": {
  "kernelspec": {
   "display_name": "Python 3 (ipykernel)",
   "language": "python",
   "name": "python3"
  },
  "language_info": {
   "codemirror_mode": {
    "name": "ipython",
    "version": 3
   },
   "file_extension": ".py",
   "mimetype": "text/x-python",
   "name": "python",
   "nbconvert_exporter": "python",
   "pygments_lexer": "ipython3",
   "version": "3.8.10"
  },
  "widgets": {
   "application/vnd.jupyter.widget-state+json": {
    "state": {},
    "version_major": 2,
    "version_minor": 0
   }
  }
 },
 "nbformat": 4,
 "nbformat_minor": 5
}

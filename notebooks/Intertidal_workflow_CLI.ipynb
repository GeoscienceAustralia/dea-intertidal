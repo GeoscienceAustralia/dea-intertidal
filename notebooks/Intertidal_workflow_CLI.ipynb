{
 "cells": [
  {
   "cell_type": "markdown",
   "id": "ccccdf10-6065-4f91-8725-d3233ebbe6d4",
   "metadata": {
    "tags": []
   },
   "source": [
    "# Digital Earth Australia Intertidal Command Line Interface (CLI)\n",
    "\n",
    "## Getting started\n",
    "Set working directory to top level of repo to ensure links work correctly:"
   ]
  },
  {
   "cell_type": "code",
   "execution_count": 1,
   "id": "3cdd49c0-fef3-4b10-9d45-d28c41755e12",
   "metadata": {},
   "outputs": [
    {
     "name": "stdout",
     "output_type": "stream",
     "text": [
      "/home/jovyan/Robbi/dea-intertidal\n"
     ]
    }
   ],
   "source": [
    "cd .."
   ]
  },
  {
   "cell_type": "markdown",
   "id": "9e0e6a00-0c55-4ec3-881f-4cdd32899772",
   "metadata": {},
   "source": [
    "Install additional packages directly from the requirements file"
   ]
  },
  {
   "cell_type": "code",
   "execution_count": null,
   "id": "924876a7-a415-4d65-81c4-5e5cd7b7b53d",
   "metadata": {},
   "outputs": [],
   "source": [
    "# pip install -r requirements.in --quiet"
   ]
  },
  {
   "cell_type": "markdown",
   "id": "bd675e30-92c7-494f-9f16-2ea0ae1de32f",
   "metadata": {
    "tags": []
   },
   "source": [
    "## Setup\n"
   ]
  },
  {
   "cell_type": "markdown",
   "id": "3fbdf7a0-4daa-49c1-a3f7-3e0bd0e38560",
   "metadata": {
    "tags": []
   },
   "source": [
    "### Set analysis parameters\n",
    "Sets the 32 km coastal grid cell to analyse and the config file:"
   ]
  },
  {
   "cell_type": "code",
   "execution_count": 6,
   "id": "58c0e260-cd76-45d9-9dc3-5e4294be31c6",
   "metadata": {},
   "outputs": [],
   "source": [
    "# study_area = '1215'\n",
    "# config_path = 'configs/dea_intertidal_config.yaml'\n",
    "study_area = 'carnot'\n",
    "config_path = 'configs/dea_intertidal_config_development.yaml'\n",
    "start_date = '2020'\n",
    "end_date = '2022'\n",
    "modelled_freq = '3h'\n"
   ]
  },
  {
   "cell_type": "markdown",
   "id": "cd538aa3-7716-443b-a10d-6d35e7e61597",
   "metadata": {},
   "source": [
    "### View CLI help\n",
    "This shows all the CLI parameters that can be used to customise each analysis:"
   ]
  },
  {
   "cell_type": "code",
   "execution_count": 3,
   "id": "0ef38032-e7e1-4090-b89c-c236d573e3a8",
   "metadata": {},
   "outputs": [
    {
     "name": "stdout",
     "output_type": "stream",
     "text": [
      "Usage: python -m intertidal.elevation [OPTIONS]\n",
      "\n",
      "Options:\n",
      "  --config_path TEXT              Path to the YAML config file defining inputs\n",
      "                                  to use for this analysis. These are\n",
      "                                  typically located in the `dea-\n",
      "                                  intertidal/configs/` directory.  [required]\n",
      "  --study_area TEXT               A string providing a unique ID of an\n",
      "                                  analysis gridcell that will be used to run\n",
      "                                  the analysis. This should match a row in the\n",
      "                                  \"id\" column of the provided analysis\n",
      "                                  gridcell vector file.  [required]\n",
      "  --start_date TEXT               The start date of satellite data to load\n",
      "                                  from the datacube. This can be any date\n",
      "                                  format accepted by datacube.\n",
      "  --end_date TEXT                 The end date of satellite data to load from\n",
      "                                  the datacube. This can be any date format\n",
      "                                  accepted by datacube.\n",
      "  --resolution INTEGER            The spatial resolution in metres used to\n",
      "                                  load satellite data and produce intertidal\n",
      "                                  outputs. Defaults to 10 metre Sentinel-2\n",
      "                                  resolution.\n",
      "  --ndwi_thresh FLOAT             NDWI threshold used to identify the\n",
      "                                  transition from dry to wet in the intertidal\n",
      "                                  elevation calculation. Defaults to 0.1,\n",
      "                                  which appears to more reliably capture this\n",
      "                                  transition than 0.0.\n",
      "  --modelled_freq TEXT            The frequency at which to model tides across\n",
      "                                  the entire analysis period as inputs to the\n",
      "                                  exposure, LAT (lowest astronomical tide),\n",
      "                                  HAT (highest astronomical tide), and\n",
      "                                  spread/offset calculations. Defaults to\n",
      "                                  '30min' which will generate a timestep every\n",
      "                                  30 minutes between 'start_date' and\n",
      "                                  'end_date'.\n",
      "  --tideline_offset_distance INTEGER\n",
      "                                  The distance along each high and low\n",
      "                                  tideline at which the respective high or low\n",
      "                                  tide satellite offset will be calculated. By\n",
      "                                  default, the distance is set to 500m.\n",
      "  --exposure_offsets / --no-exposure_offsets\n",
      "                                  Whether to run the Exposure and\n",
      "                                  spread/offsets/tidelines steps of the\n",
      "                                  Intertidal workflow. Defaults to True; can\n",
      "                                  be set to False by passing `--no-\n",
      "                                  exposure_offsets`.\n",
      "  --aws_unsigned / --no-aws_unsigned\n",
      "                                  Whether to use sign AWS requests for S3\n",
      "                                  access\n",
      "  --help                          Show this message and exit.\n"
     ]
    }
   ],
   "source": [
    "!python -m intertidal.elevation --help"
   ]
  },
  {
   "cell_type": "markdown",
   "id": "4a056759-7ec9-473d-8a60-9a7b95f122cd",
   "metadata": {},
   "source": [
    "### Run DEA Intertidal CLI for a single epoch\n",
    "This will run an entire DEA Intertidal analysis from start to finish:"
   ]
  },
  {
   "cell_type": "code",
   "execution_count": null,
   "id": "1da1e270-43bd-4a11-9d5b-6be26cb1a74f",
   "metadata": {},
   "outputs": [],
   "source": [
    "!python -m intertidal.elevation --config_path {config_path} --study_area {study_area} --start_date {start_date} --end_date {end_date} --modelled_freq {modelled_freq} --tideline_offset_distance 1000"
   ]
  },
  {
   "cell_type": "markdown",
   "id": "d7db1fe7-7cab-4543-8e35-79587284a4c3",
   "metadata": {},
   "source": [
    "### Run DEA Intertidal CLI for multiple epochs\n",
    "This will run an entire DEA Intertidal analysis from start to finish for several epochs:"
   ]
  },
  {
   "cell_type": "code",
   "execution_count": 7,
   "id": "16ab31f6-2490-4159-90ba-2849e1eb3fac",
   "metadata": {},
   "outputs": [
    {
     "name": "stdout",
     "output_type": "stream",
     "text": [
      "2016 2018\n",
      "/env/lib/python3.8/site-packages/distributed/node.py:182: UserWarning: Port 8787 is already in use.\n",
      "Perhaps you already have a cluster running?\n",
      "Hosting the HTTP server on port 35765 instead\n",
      "  warnings.warn(\n",
      "<Client: 'tcp://127.0.0.1:42909' processes=1 threads=31, memory=237.21 GiB>\n",
      "2023-04-17 02:15:03 INFO Study area carnot: Loaded study area grid\n",
      "2023-04-17 02:15:03 INFO Study area carnot: Loading satellite data\n",
      "/env/lib/python3.8/site-packages/rasterio/warp.py:344: NotGeoreferencedWarning: Dataset has no geotransform, gcps, or rpcs. The identity matrix will be returned.\n",
      "  _reproject(\n",
      "/env/lib/python3.8/site-packages/rasterio/warp.py:344: NotGeoreferencedWarning: Dataset has no geotransform, gcps, or rpcs. The identity matrix will be returned.\n",
      "  _reproject(\n",
      "2023-04-17 02:15:59 INFO Study area carnot: Modelling tide heights for each pixel\n",
      "Creating reduced resolution tide modelling array\n",
      "Modelling tides using FES2014 tide model\n",
      "Reprojecting tides into original array\n",
      "100%|█████████████████████████████████████████| 293/293 [00:02<00:00, 99.28it/s]\n",
      "2023-04-17 02:16:15 INFO Study area carnot: Masking nodata and adding tide heights to satellite data array\n",
      "2023-04-17 02:16:17 INFO Study area carnot: Flattening satellite data array and filtering to tide influenced pixels\n",
      "Reducing analysed pixels from 1356825 to 268924 (19.82%)\n",
      "2023-04-17 02:16:31 INFO Study area carnot: Running per-pixel rolling median\n",
      "100%|█████████████████████████████████████████| 114/114 [03:07<00:00,  1.65s/it]\n",
      "2023-04-17 02:19:46 INFO Study area carnot: Modelling intertidal elevation and confidence\n",
      "Processing elevation_low\n",
      "Processing elevation\n",
      "Processing elevation_high\n",
      "2023-04-17 02:19:48 INFO Study area carnot: Successfully completed intertidal elevation modelling\n",
      "2023-04-17 02:19:48 INFO Study area carnot: Calculating Extents layer\n",
      "2023-04-17 02:19:48 INFO Study area carnot: Skipping Exposure and spread/offsets/tidelines calculation\n",
      "2023-04-17 02:19:48 INFO Study area carnot: Exporting outputs to GeoTIFFs\n",
      "2023-04-17 02:19:49 INFO Study area carnot: Completed DEA Intertidal workflow\n",
      "2017 2019\n",
      "/env/lib/python3.8/site-packages/distributed/node.py:182: UserWarning: Port 8787 is already in use.\n",
      "Perhaps you already have a cluster running?\n",
      "Hosting the HTTP server on port 35527 instead\n",
      "  warnings.warn(\n",
      "<Client: 'tcp://127.0.0.1:40257' processes=1 threads=31, memory=237.21 GiB>\n",
      "2023-04-17 02:19:55 INFO Study area carnot: Loaded study area grid\n",
      "2023-04-17 02:19:55 INFO Study area carnot: Loading satellite data\n",
      "/env/lib/python3.8/site-packages/rasterio/warp.py:344: NotGeoreferencedWarning: Dataset has no geotransform, gcps, or rpcs. The identity matrix will be returned.\n",
      "  _reproject(\n",
      "/env/lib/python3.8/site-packages/rasterio/warp.py:344: NotGeoreferencedWarning: Dataset has no geotransform, gcps, or rpcs. The identity matrix will be returned.\n",
      "  _reproject(\n",
      "/env/lib/python3.8/site-packages/rasterio/warp.py:344: NotGeoreferencedWarning: Dataset has no geotransform, gcps, or rpcs. The identity matrix will be returned.\n",
      "  _reproject(\n",
      "2023-04-17 02:21:05 INFO Study area carnot: Modelling tide heights for each pixel\n",
      "Creating reduced resolution tide modelling array\n",
      "Modelling tides using FES2014 tide model\n",
      "Reprojecting tides into original array\n",
      "100%|████████████████████████████████████████| 349/349 [00:03<00:00, 100.42it/s]\n",
      "2023-04-17 02:21:23 INFO Study area carnot: Masking nodata and adding tide heights to satellite data array\n",
      "2023-04-17 02:21:25 INFO Study area carnot: Flattening satellite data array and filtering to tide influenced pixels\n",
      "Reducing analysed pixels from 1356825 to 275332 (20.29%)\n",
      "2023-04-17 02:21:42 INFO Study area carnot: Running per-pixel rolling median\n",
      "100%|█████████████████████████████████████████| 114/114 [03:48<00:00,  2.00s/it]\n",
      "2023-04-17 02:25:37 INFO Study area carnot: Modelling intertidal elevation and confidence\n",
      "Processing elevation_low\n",
      "Processing elevation\n",
      "Processing elevation_high\n",
      "2023-04-17 02:25:39 INFO Study area carnot: Successfully completed intertidal elevation modelling\n",
      "2023-04-17 02:25:39 INFO Study area carnot: Calculating Extents layer\n",
      "2023-04-17 02:25:39 INFO Study area carnot: Skipping Exposure and spread/offsets/tidelines calculation\n",
      "2023-04-17 02:25:39 INFO Study area carnot: Exporting outputs to GeoTIFFs\n",
      "2023-04-17 02:25:40 INFO Study area carnot: Completed DEA Intertidal workflow\n",
      "2018 2020\n",
      "/env/lib/python3.8/site-packages/distributed/node.py:182: UserWarning: Port 8787 is already in use.\n",
      "Perhaps you already have a cluster running?\n",
      "Hosting the HTTP server on port 36655 instead\n",
      "  warnings.warn(\n",
      "<Client: 'tcp://127.0.0.1:40687' processes=1 threads=31, memory=237.21 GiB>\n",
      "2023-04-17 02:25:46 INFO Study area carnot: Loaded study area grid\n",
      "2023-04-17 02:25:46 INFO Study area carnot: Loading satellite data\n",
      "/env/lib/python3.8/site-packages/rasterio/warp.py:344: NotGeoreferencedWarning: Dataset has no geotransform, gcps, or rpcs. The identity matrix will be returned.\n",
      "  _reproject(\n",
      "2023-04-17 02:27:04 INFO Study area carnot: Modelling tide heights for each pixel\n",
      "Creating reduced resolution tide modelling array\n",
      "Modelling tides using FES2014 tide model\n",
      "Reprojecting tides into original array\n",
      "100%|█████████████████████████████████████████| 383/383 [00:03<00:00, 99.73it/s]\n",
      "2023-04-17 02:27:22 INFO Study area carnot: Masking nodata and adding tide heights to satellite data array\n",
      "2023-04-17 02:27:24 INFO Study area carnot: Flattening satellite data array and filtering to tide influenced pixels\n",
      "Reducing analysed pixels from 1356825 to 282198 (20.80%)\n",
      "2023-04-17 02:27:42 INFO Study area carnot: Running per-pixel rolling median\n",
      "100%|█████████████████████████████████████████| 114/114 [04:15<00:00,  2.25s/it]\n",
      "2023-04-17 02:32:06 INFO Study area carnot: Modelling intertidal elevation and confidence\n",
      "Processing elevation_low\n",
      "Processing elevation\n",
      "Processing elevation_high\n",
      "2023-04-17 02:32:08 INFO Study area carnot: Successfully completed intertidal elevation modelling\n",
      "2023-04-17 02:32:08 INFO Study area carnot: Calculating Extents layer\n",
      "2023-04-17 02:32:08 INFO Study area carnot: Skipping Exposure and spread/offsets/tidelines calculation\n",
      "2023-04-17 02:32:08 INFO Study area carnot: Exporting outputs to GeoTIFFs\n",
      "2023-04-17 02:32:08 INFO Study area carnot: Completed DEA Intertidal workflow\n",
      "2019 2021\n",
      "/env/lib/python3.8/site-packages/distributed/node.py:182: UserWarning: Port 8787 is already in use.\n",
      "Perhaps you already have a cluster running?\n",
      "Hosting the HTTP server on port 33389 instead\n",
      "  warnings.warn(\n",
      "<Client: 'tcp://127.0.0.1:43857' processes=1 threads=31, memory=237.21 GiB>\n",
      "2023-04-17 02:32:15 INFO Study area carnot: Loaded study area grid\n",
      "2023-04-17 02:32:15 INFO Study area carnot: Loading satellite data\n",
      "/env/lib/python3.8/site-packages/rasterio/warp.py:344: NotGeoreferencedWarning: Dataset has no geotransform, gcps, or rpcs. The identity matrix will be returned.\n",
      "  _reproject(\n",
      "2023-04-17 02:33:28 INFO Study area carnot: Modelling tide heights for each pixel\n",
      "Creating reduced resolution tide modelling array\n",
      "Modelling tides using FES2014 tide model\n",
      "Reprojecting tides into original array\n",
      "100%|████████████████████████████████████████| 370/370 [00:03<00:00, 102.06it/s]\n",
      "2023-04-17 02:33:46 INFO Study area carnot: Masking nodata and adding tide heights to satellite data array\n",
      "2023-04-17 02:33:48 INFO Study area carnot: Flattening satellite data array and filtering to tide influenced pixels\n",
      "Reducing analysed pixels from 1356825 to 283073 (20.86%)\n",
      "2023-04-17 02:34:05 INFO Study area carnot: Running per-pixel rolling median\n",
      "100%|█████████████████████████████████████████| 114/114 [04:07<00:00,  2.17s/it]\n",
      "2023-04-17 02:38:21 INFO Study area carnot: Modelling intertidal elevation and confidence\n",
      "Processing elevation_low\n",
      "Processing elevation\n",
      "Processing elevation_high\n",
      "2023-04-17 02:38:23 INFO Study area carnot: Successfully completed intertidal elevation modelling\n",
      "2023-04-17 02:38:23 INFO Study area carnot: Calculating Extents layer\n",
      "2023-04-17 02:38:23 INFO Study area carnot: Skipping Exposure and spread/offsets/tidelines calculation\n",
      "2023-04-17 02:38:23 INFO Study area carnot: Exporting outputs to GeoTIFFs\n",
      "2023-04-17 02:38:24 INFO Study area carnot: Completed DEA Intertidal workflow\n",
      "2020 2022\n",
      "/env/lib/python3.8/site-packages/distributed/node.py:182: UserWarning: Port 8787 is already in use.\n",
      "Perhaps you already have a cluster running?\n",
      "Hosting the HTTP server on port 37667 instead\n",
      "  warnings.warn(\n",
      "<Client: 'tcp://127.0.0.1:42549' processes=1 threads=31, memory=237.21 GiB>\n",
      "2023-04-17 02:38:31 INFO Study area carnot: Loaded study area grid\n",
      "2023-04-17 02:38:31 INFO Study area carnot: Loading satellite data\n",
      "/env/lib/python3.8/site-packages/rasterio/warp.py:344: NotGeoreferencedWarning: Dataset has no geotransform, gcps, or rpcs. The identity matrix will be returned.\n",
      "  _reproject(\n",
      "2023-04-17 02:39:42 INFO Study area carnot: Modelling tide heights for each pixel\n",
      "Creating reduced resolution tide modelling array\n",
      "Modelling tides using FES2014 tide model\n",
      "Reprojecting tides into original array\n",
      "100%|████████████████████████████████████████| 353/353 [00:03<00:00, 101.12it/s]\n",
      "2023-04-17 02:39:59 INFO Study area carnot: Masking nodata and adding tide heights to satellite data array\n",
      "2023-04-17 02:40:01 INFO Study area carnot: Flattening satellite data array and filtering to tide influenced pixels\n",
      "Reducing analysed pixels from 1356825 to 279281 (20.58%)\n",
      "2023-04-17 02:40:18 INFO Study area carnot: Running per-pixel rolling median\n",
      "100%|█████████████████████████████████████████| 114/114 [03:53<00:00,  2.05s/it]\n",
      "2023-04-17 02:44:19 INFO Study area carnot: Modelling intertidal elevation and confidence\n",
      "Processing elevation_low\n",
      "Processing elevation\n",
      "Processing elevation_high\n",
      "2023-04-17 02:44:21 INFO Study area carnot: Successfully completed intertidal elevation modelling\n",
      "2023-04-17 02:44:21 INFO Study area carnot: Calculating Extents layer\n",
      "2023-04-17 02:44:21 INFO Study area carnot: Skipping Exposure and spread/offsets/tidelines calculation\n",
      "2023-04-17 02:44:21 INFO Study area carnot: Exporting outputs to GeoTIFFs\n",
      "2023-04-17 02:44:22 INFO Study area carnot: Completed DEA Intertidal workflow\n"
     ]
    }
   ],
   "source": [
    "epoch_list = [\n",
    "    (\"2016\", \"2018\"),\n",
    "    (\"2017\", \"2019\"),\n",
    "    (\"2018\", \"2020\"),\n",
    "    (\"2019\", \"2021\"),\n",
    "    (\"2020\", \"2022\"),\n",
    "]\n",
    "\n",
    "for start_date, end_date in epoch_list:\n",
    "    print(start_date, end_date)\n",
    "    !python -m intertidal.elevation --config_path {config_path} --study_area {study_area} --start_date {start_date} --end_date {end_date} --no-exposure_offsets"
   ]
  },
  {
   "cell_type": "code",
   "execution_count": null,
   "id": "58a8ba56-cd21-49a4-a4cf-0986bfdf12c1",
   "metadata": {},
   "outputs": [],
   "source": []
  }
 ],
 "metadata": {
  "kernelspec": {
   "display_name": "Python 3 (ipykernel)",
   "language": "python",
   "name": "python3"
  },
  "language_info": {
   "codemirror_mode": {
    "name": "ipython",
    "version": 3
   },
   "file_extension": ".py",
   "mimetype": "text/x-python",
   "name": "python",
   "nbconvert_exporter": "python",
   "pygments_lexer": "ipython3",
   "version": "3.8.10"
  },
  "widgets": {
   "application/vnd.jupyter.widget-state+json": {
    "state": {},
    "version_major": 2,
    "version_minor": 0
   }
  }
 },
 "nbformat": 4,
 "nbformat_minor": 5
}

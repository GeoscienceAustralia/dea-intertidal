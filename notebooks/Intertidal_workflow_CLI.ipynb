{
 "cells": [
  {
   "cell_type": "markdown",
   "id": "ccccdf10-6065-4f91-8725-d3233ebbe6d4",
   "metadata": {
    "tags": []
   },
   "source": [
    "# Digital Earth Australia Intertidal Command Line Interfaces (CLI)\n",
    "\n",
    "This notebook demonstrates how to call the DEA Intertidal and DEA Intertidal Composites workflows via their Command Line Interface utilities. \n",
    "This allows you to run an entire DEA Intertidal Analysis using a single line of code.\n",
    "\n",
    "## Getting started\n",
    "Set working directory to top level of repo to ensure links work correctly:"
   ]
  },
  {
   "cell_type": "code",
   "execution_count": 1,
   "id": "3cdd49c0-fef3-4b10-9d45-d28c41755e12",
   "metadata": {},
   "outputs": [
    {
     "name": "stdout",
     "output_type": "stream",
     "text": [
      "/home/jovyan/dea_intertidal/dea-intertidal\n"
     ]
    }
   ],
   "source": [
    "cd .."
   ]
  },
  {
   "cell_type": "markdown",
   "id": "9e0e6a00-0c55-4ec3-881f-4cdd32899772",
   "metadata": {},
   "source": [
    "Install additional packages directly from the requirements file"
   ]
  },
  {
   "cell_type": "code",
   "execution_count": 2,
   "id": "924876a7-a415-4d65-81c4-5e5cd7b7b53d",
   "metadata": {},
   "outputs": [],
   "source": [
    "# pip install -r requirements.in --quiet"
   ]
  },
  {
   "cell_type": "markdown",
   "id": "bd675e30-92c7-494f-9f16-2ea0ae1de32f",
   "metadata": {
    "tags": []
   },
   "source": [
    "## Setup\n"
   ]
  },
  {
   "cell_type": "markdown",
   "id": "3fbdf7a0-4daa-49c1-a3f7-3e0bd0e38560",
   "metadata": {
    "tags": []
   },
   "source": [
    "### Set analysis parameters\n",
    "Sets the 32 km coastal grid cell to analyse, the config file, start and end dates, and other more specific parameters. "
   ]
  },
  {
   "cell_type": "code",
   "execution_count": 3,
   "id": "58c0e260-cd76-45d9-9dc3-5e4294be31c6",
   "metadata": {},
   "outputs": [],
   "source": [
    "# General params\n",
    "# study_area = '1215'\n",
    "# config_path = 'configs/dea_intertidal_config.yaml'\n",
    "study_area = 'gladstone'\n",
    "config_path = 'configs/dea_intertidal_config_development.yaml'\n",
    "start_date = '2020'\n",
    "end_date = '2022'\n",
    "\n",
    "# Intertidal Exposure params\n",
    "modelled_freq = '3h'\n",
    "tideline_offset_distance = 1000\n",
    "\n",
    "# Intertidal Composites params\n",
    "threshold_lowtide = 0.2\n",
    "threshold_hightide = 0.8\n",
    "\n",
    "# Output auxiliary files for debugging (default is False)\n",
    "output_auxiliaries = True"
   ]
  },
  {
   "cell_type": "markdown",
   "id": "cd538aa3-7716-443b-a10d-6d35e7e61597",
   "metadata": {},
   "source": [
    "## DEA Intertidal CLI\n",
    "This CLI allows you to generate the following DEA Intertidal layers with a single command line call:\n",
    "* **DEA Intertidal Elevation**\n",
    "* **DEA Intertidal Exposure**\n",
    "* **DEA Intertidal Extents**\n",
    "* **DEA Intertidal spread, offsets, HOT, LOT, HAT, LAT**\n",
    "* **DEA Intertidal tidelines and tidal offset points**\n",
    "\n",
    "Running `--help` shows all the CLI parameters that can be used to customise the analysis:"
   ]
  },
  {
   "cell_type": "code",
   "execution_count": 4,
   "id": "0ef38032-e7e1-4090-b89c-c236d573e3a8",
   "metadata": {},
   "outputs": [],
   "source": [
    "# !python -m intertidal.elevation --help"
   ]
  },
  {
   "cell_type": "markdown",
   "id": "4a056759-7ec9-473d-8a60-9a7b95f122cd",
   "metadata": {},
   "source": [
    "### Run DEA Intertidal CLI for a single epoch\n",
    "This will run an entire DEA Intertidal analysis from start to finish:"
   ]
  },
  {
   "cell_type": "code",
   "execution_count": 5,
   "id": "1da1e270-43bd-4a11-9d5b-6be26cb1a74f",
   "metadata": {},
   "outputs": [
    {
     "name": "stdout",
     "output_type": "stream",
     "text": [
      "Usage: python -m intertidal.elevation [OPTIONS]\n",
      "Try 'python -m intertidal.elevation --help' for help.\n",
      "\n",
      "Error: Got unexpected extra arguments (output_auxiliaries True)\n",
      "CPU times: user 20.8 ms, sys: 7.35 ms, total: 28.1 ms\n",
      "Wall time: 3.01 s\n"
     ]
    }
   ],
   "source": [
    "%%time\n",
    "!python -m intertidal.elevation --config_path {config_path} --study_area {study_area} --start_date {start_date} --end_date {end_date} --modelled_freq {modelled_freq} --tideline_offset_distance {tideline_offset_distance} -- output_auxiliaries {output_auxiliaries}"
   ]
  },
  {
   "cell_type": "markdown",
   "id": "e9a7aa51-aed7-4291-af12-515f73e59755",
   "metadata": {},
   "source": [
    "## DEA Intertidal Composites CLI\n",
    "\n",
    "This CLI allows you to generate the following DEA Intertidal layers with a single command line call:\n",
    "\n",
    "* **DEA Intertidal Composites** (producing low and high tide geomedian outputs)\n",
    "\n",
    "Running `--help` shows all the CLI parameters that can be used to customise the analysis:"
   ]
  },
  {
   "cell_type": "code",
   "execution_count": null,
   "id": "1e885ff2-d431-42de-9ce3-5223c748b8f8",
   "metadata": {},
   "outputs": [],
   "source": [
    "# !python -m intertidal.composites --help"
   ]
  },
  {
   "cell_type": "markdown",
   "id": "c9b351da-2a04-463e-a5fb-f140a5048741",
   "metadata": {},
   "source": [
    "### Run DEA Intertidal Composites CLI for a single epoch\n",
    "This will run an entire DEA Intertidal Composites analysis from start to finish:"
   ]
  },
  {
   "cell_type": "code",
   "execution_count": null,
   "id": "03f7606a-add3-4673-a2aa-de5bd039418b",
   "metadata": {},
   "outputs": [],
   "source": [
    "# %%time\n",
    "# !python -m intertidal.composites --config_path {config_path} --study_area {study_area} --start_date {start_date} --end_date {end_date} --threshold_lowtide {threshold_lowtide} --threshold_hightide {threshold_hightide}"
   ]
  },
  {
   "cell_type": "markdown",
   "id": "d7db1fe7-7cab-4543-8e35-79587284a4c3",
   "metadata": {},
   "source": [
    "## Run DEA Intertidal CLIs for multiple epochs\n",
    "This will run an entire DEA Intertidal and DEA Intertidal Composites analysis from start to finish for several epochs:"
   ]
  },
  {
   "cell_type": "code",
   "execution_count": null,
   "id": "16ab31f6-2490-4159-90ba-2849e1eb3fac",
   "metadata": {},
   "outputs": [],
   "source": [
    "epoch_list = [\n",
    "    (\"2017\", \"2019\"),\n",
    "    (\"2018\", \"2020\"),\n",
    "    (\"2019\", \"2021\"),\n",
    "    (\"2020\", \"2022\"),\n",
    "]\n",
    "\n",
    "for start_date, end_date in epoch_list:\n",
    "    print(start_date, end_date)\n",
    "    !python -m intertidal.elevation --config_path {config_path} --study_area {study_area} --start_date {start_date} --end_date {end_date}\n",
    "    !python -m intertidal.composites --config_path {config_path} --study_area {study_area} --start_date {start_date} --end_date {end_date}"
   ]
  }
 ],
 "metadata": {
  "kernelspec": {
   "display_name": "Python 3 (ipykernel)",
   "language": "python",
   "name": "python3"
  },
  "language_info": {
   "codemirror_mode": {
    "name": "ipython",
    "version": 3
   },
   "file_extension": ".py",
   "mimetype": "text/x-python",
   "name": "python",
   "nbconvert_exporter": "python",
   "pygments_lexer": "ipython3",
   "version": "3.8.10"
  },
  "widgets": {
   "application/vnd.jupyter.widget-state+json": {
    "state": {},
    "version_major": 2,
    "version_minor": 0
   }
  }
 },
 "nbformat": 4,
 "nbformat_minor": 5
}

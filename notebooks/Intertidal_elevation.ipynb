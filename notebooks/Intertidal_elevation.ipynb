{
 "cells": [
  {
   "cell_type": "markdown",
   "id": "20e6c169-97c7-4a86-8c49-296eae895383",
   "metadata": {},
   "source": [
    "## Getting started\n",
    "Set working directory to top level of repo to ensure links work correctly:"
   ]
  },
  {
   "cell_type": "code",
   "execution_count": 1,
   "id": "adb75e50-669a-44f7-9e42-0afa1fde7d36",
   "metadata": {},
   "outputs": [
    {
     "name": "stdout",
     "output_type": "stream",
     "text": [
      "/home/jovyan/Robbi/dea-intertidal\n"
     ]
    }
   ],
   "source": [
    "cd .."
   ]
  },
  {
   "cell_type": "markdown",
   "id": "1c90069a-a58e-4b04-845f-12d257da62a7",
   "metadata": {},
   "source": [
    "### Load packages"
   ]
  },
  {
   "cell_type": "code",
   "execution_count": 11,
   "id": "71084095-5b6c-450d-bc09-0289c025450f",
   "metadata": {},
   "outputs": [
    {
     "name": "stdout",
     "output_type": "stream",
     "text": [
      "The autoreload extension is already loaded. To reload it, use:\n",
      "  %reload_ext autoreload\n"
     ]
    },
    {
     "name": "stderr",
     "output_type": "stream",
     "text": [
      "/env/lib/python3.8/site-packages/distributed/node.py:151: UserWarning: Port 8787 is already in use.\n",
      "Perhaps you already have a cluster running?\n",
      "Hosting the HTTP server on port 37755 instead\n",
      "  warnings.warn(\n"
     ]
    },
    {
     "data": {
      "text/html": [
       "<table style=\"border: 2px solid white;\">\n",
       "<tr>\n",
       "<td style=\"vertical-align: top; border: 0px solid white\">\n",
       "<h3 style=\"text-align: left;\">Client</h3>\n",
       "<ul style=\"text-align: left; list-style: none; margin: 0; padding: 0;\">\n",
       "  <li><b>Scheduler: </b>tcp://127.0.0.1:35271</li>\n",
       "  <li><b>Dashboard: </b><a href='/user/robbi.bishoptaylor@ga.gov.au/proxy/37755/status' target='_blank'>/user/robbi.bishoptaylor@ga.gov.au/proxy/37755/status</a></li>\n",
       "</ul>\n",
       "</td>\n",
       "<td style=\"vertical-align: top; border: 0px solid white\">\n",
       "<h3 style=\"text-align: left;\">Cluster</h3>\n",
       "<ul style=\"text-align: left; list-style:none; margin: 0; padding: 0;\">\n",
       "  <li><b>Workers: </b>1</li>\n",
       "  <li><b>Cores: </b>15</li>\n",
       "  <li><b>Memory: </b>125.85 GB</li>\n",
       "</ul>\n",
       "</td>\n",
       "</tr>\n",
       "</table>"
      ],
      "text/plain": [
       "<Client: 'tcp://127.0.0.1:35271' processes=1 threads=15, memory=125.85 GB>"
      ]
     },
     "metadata": {},
     "output_type": "display_data"
    }
   ],
   "source": [
    "%load_ext autoreload\n",
    "%autoreload 2\n",
    "\n",
    "import datacube\n",
    "import xarray as xr\n",
    "import pandas as pd\n",
    "import numpy as np\n",
    "import geopandas as gpd\n",
    "import matplotlib.pyplot as plt\n",
    "from datacube.utils.cog import write_cog\n",
    "from datacube.utils.masking import mask_invalid_data\n",
    "from datacube.utils.geometry import GeoBox, Geometry\n",
    "from odc.algo import mask_cleanup\n",
    "\n",
    "from dea_tools.dask import create_local_dask_cluster\n",
    "from dea_tools.datahandling import mostcommon_crs\n",
    "\n",
    "# Create local dask cluster to improve data load time\n",
    "client = create_local_dask_cluster(return_client=True)"
   ]
  },
  {
   "cell_type": "markdown",
   "id": "19d9b265-fe3b-46c9-81dd-51425a458384",
   "metadata": {},
   "source": [
    "## Setup"
   ]
  },
  {
   "cell_type": "code",
   "execution_count": 3,
   "id": "564b3907-b5ea-4f00-9e6a-b78c75f6848e",
   "metadata": {},
   "outputs": [],
   "source": [
    "dc = datacube.Datacube(app='Intertidal_elevation')"
   ]
  },
  {
   "cell_type": "code",
   "execution_count": 8,
   "id": "3162cb3f-6328-43d6-84c2-2ff89d8b4822",
   "metadata": {},
   "outputs": [],
   "source": [
    "aoi = 'Wollogorang'\n",
    "# aoi = 'McCarthur River'\n",
    "# aoi = 'Greenbank'\n",
    "# aoi = 'Seven Emu'\n",
    "\n",
    "time_range = ('2017', '2021')\n",
    "resolution = 10"
   ]
  },
  {
   "cell_type": "code",
   "execution_count": 9,
   "id": "18b55d98-696c-45c2-9476-8c0c9abfc2db",
   "metadata": {},
   "outputs": [
    {
     "data": {
      "image/svg+xml": [
       "<svg xmlns=\"http://www.w3.org/2000/svg\" xmlns:xlink=\"http://www.w3.org/1999/xlink\" width=\"300\" height=\"300\" viewBox=\"612809.6843605926 -1780986.0042191646 31532.47662492073 37496.83674979699\" preserveAspectRatio=\"xMinYMin meet\"><g transform=\"matrix(1,0,0,-1,0,-3524475.1716885325)\"><path fill-rule=\"evenodd\" fill=\"#66cc99\" stroke=\"#555555\" stroke-width=\"249.97891166531326\" opacity=\"0.6\" d=\"M 642292.0397815972,-1779597.2324876906 L 642953.3892540394,-1774745.718231195 L 637710.2735331923,-1767963.4423670901 L 629401.5329788454,-1762040.4783471045 L 627869.0431481804,-1758004.8111196405 L 624780.3077986662,-1753411.7074675139 L 622003.4049080892,-1751246.6565903677 L 620852.6585385501,-1748945.4190871643 L 620651.522893429,-1747790.0169972123 L 618651.8607899075,-1744877.9392008416 L 616830.528489599,-1745660.7244781845 L 614754.8086213917,-1750570.0727328183 L 614198.4560920666,-1753945.5168674581 L 614808.6842218001,-1756264.3505845768 L 616784.8994335878,-1759705.066037484 L 620590.1919916125,-1763099.884474727 L 622304.5452514553,-1762844.831804383 L 625147.1427083213,-1765380.5407386348 L 625867.5984779329,-1767007.8537313766 L 629190.0085668135,-1769974.5462644778 L 632967.2503843564,-1771036.8285668117 L 636418.631911622,-1772946.5594222783 L 639511.6903980551,-1775498.1861738963 L 640338.644799072,-1777584.1769490878 L 642292.0397815972,-1779597.2324876906 z\" /></g></svg>"
      ],
      "text/plain": [
       "Geometry(POLYGON ((642292.0397815972 -1779597.232487691, 642953.3892540394 -1774745.718231195, 637710.2735331923 -1767963.44236709, 629401.5329788454 -1762040.478347105, 627869.0431481804 -1758004.81111964, 624780.3077986662 -1753411.707467514, 622003.4049080892 -1751246.656590368, 620852.6585385501 -1748945.419087164, 620651.522893429 -1747790.016997212, 618651.8607899075 -1744877.939200842, 616830.528489599 -1745660.724478184, 614754.8086213917 -1750570.072732818, 614198.4560920666 -1753945.516867458, 614808.6842218001 -1756264.350584577, 616784.8994335878 -1759705.066037484, 620590.1919916125 -1763099.884474727, 622304.5452514553 -1762844.831804383, 625147.1427083213 -1765380.540738635, 625867.5984779329 -1767007.853731377, 629190.0085668135 -1769974.546264478, 632967.2503843564 -1771036.828566812, 636418.631911622 -1772946.559422278, 639511.6903980551 -1775498.186173896, 640338.6447990719 -1777584.176949088, 642292.0397815972 -1779597.232487691)), EPSG:3577)"
      ]
     },
     "execution_count": 9,
     "metadata": {},
     "output_type": "execute_result"
    }
   ],
   "source": [
    "# Import regions of interest\n",
    "aoi_gdf = gpd.read_file('data/raw/Phase_1_NT_Gov.geojson').set_index('Name').to_crs('EPSG:3577')\n",
    "aoi_gdf.head()\n",
    "\n",
    "# Select AOI\n",
    "geom = Geometry(geom=aoi_gdf.loc[aoi].geometry, crs='EPSG:3577')\n",
    "geom"
   ]
  },
  {
   "cell_type": "markdown",
   "id": "aa8c9cc8-a140-4449-9720-9802265cccbd",
   "metadata": {},
   "source": [
    "## Load data"
   ]
  },
  {
   "cell_type": "code",
   "execution_count": 14,
   "id": "0d92db3f-13b9-4306-b60a-c18e53cdd2d1",
   "metadata": {},
   "outputs": [],
   "source": [
    "# Create the 'query' dictionary object\n",
    "query_params = {\n",
    "    'geopolygon': geom,\n",
    "    'time': time_range,\n",
    "    'gqa_iterative_mean_xy': [0, 1]}\n",
    "    \n",
    "load_params = {\n",
    "    'group_by': 'solar_day',\n",
    "    'resampling': {'*': 'average', 'fmask': 'nearest'},\n",
    "    'dask_chunks': {'time': 1, 'x': 2048, 'y': 2048}\n",
    "}\n",
    "\n",
    "# Identify the most common projection system in the input query \n",
    "output_crs = mostcommon_crs(dc=dc, product='ga_s2am_ard_3', \n",
    "                            query=query_params)"
   ]
  },
  {
   "cell_type": "code",
   "execution_count": null,
   "id": "1ef25703-e4dc-498a-ae0f-441a6c07439d",
   "metadata": {},
   "outputs": [],
   "source": []
  }
 ],
 "metadata": {
  "kernelspec": {
   "display_name": "Python 3 (ipykernel)",
   "language": "python",
   "name": "python3"
  },
  "language_info": {
   "codemirror_mode": {
    "name": "ipython",
    "version": 3
   },
   "file_extension": ".py",
   "mimetype": "text/x-python",
   "name": "python",
   "nbconvert_exporter": "python",
   "pygments_lexer": "ipython3",
   "version": "3.8.10"
  },
  "widgets": {
   "application/vnd.jupyter.widget-state+json": {
    "state": {},
    "version_major": 2,
    "version_minor": 0
   }
  }
 },
 "nbformat": 4,
 "nbformat_minor": 5
}

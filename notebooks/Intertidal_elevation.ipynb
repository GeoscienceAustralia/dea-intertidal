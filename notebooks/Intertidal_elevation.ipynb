{
 "cells": [
  {
   "cell_type": "markdown",
   "id": "306a1f55-3f9d-4996-be95-e11e5a74a86b",
   "metadata": {},
   "source": [
    "## Getting started\n",
    "Set working directory to top level of repo to ensure links work correctly:"
   ]
  },
  {
   "cell_type": "code",
   "execution_count": 1,
   "id": "6c9907dc-c0d2-4b2e-8cbb-bb3a2bc15f08",
   "metadata": {},
   "outputs": [
    {
     "name": "stdout",
     "output_type": "stream",
     "text": [
      "/home/jovyan/Robbi/dea-intertidal\n"
     ]
    }
   ],
   "source": [
    "cd .."
   ]
  },
  {
   "cell_type": "markdown",
   "id": "c586a481-013f-4884-8e53-f3ddb9c438d7",
   "metadata": {},
   "source": [
    "Install additional packages directly from the requirements file"
   ]
  },
  {
   "cell_type": "code",
   "execution_count": null,
   "id": "d67433e6-0408-40d1-be61-db49c52f88dc",
   "metadata": {},
   "outputs": [],
   "source": [
    "pip install -r requirements.in --quiet"
   ]
  },
  {
   "cell_type": "markdown",
   "id": "4244cc06-b5e7-4120-8514-adf35082cb2c",
   "metadata": {},
   "source": [
    "### Load packages"
   ]
  },
  {
   "cell_type": "code",
   "execution_count": 2,
   "id": "2520e8de-ac2c-4571-99a0-f7fb7b932f56",
   "metadata": {},
   "outputs": [],
   "source": [
    "%load_ext autoreload\n",
    "%autoreload 2\n",
    "\n",
    "import os\n",
    "import xarray as xr\n",
    "import pandas as pd\n",
    "import numpy as np\n",
    "import geopandas as gpd\n",
    "import matplotlib.pyplot as plt\n",
    "from tqdm import tqdm\n",
    "from concurrent.futures import ProcessPoolExecutor\n",
    "from ipyleaflet import basemaps, basemap_to_tiles\n",
    "\n",
    "import datacube\n",
    "import odc.geo.xr\n",
    "from odc.geo.geom import Geometry\n",
    "from odc.geo.geobox import GeoBox\n",
    "from odc.algo import mask_cleanup, xr_quantile\n",
    "from odc.ui import select_on_a_map\n",
    "\n",
    "from dea_tools.dask import create_local_dask_cluster\n",
    "from dea_tools.coastal import pixel_tides\n",
    "from intertidal.elevation import (\n",
    "    load_data,\n",
    "    load_topobathy,\n",
    "    pixel_tides_ensemble,\n",
    "    ds_to_flat,\n",
    "    pixel_rolling_median,\n",
    "    pixel_dem,\n",
    "    pixel_dem_debug,\n",
    "    pixel_uncertainty,\n",
    "    flat_to_ds,\n",
    "    elevation,\n",
    ")\n",
    "from intertidal.utils import export_intertidal_rasters\n"
   ]
  },
  {
   "cell_type": "markdown",
   "id": "1a69b01f-bae0-4373-8ed6-e907393407eb",
   "metadata": {
    "tags": []
   },
   "source": [
    "## Setup\n"
   ]
  },
  {
   "cell_type": "markdown",
   "id": "b02efd2f-dab6-41ec-86f0-1724c93cf356",
   "metadata": {},
   "source": [
    "### Set analysis parameters"
   ]
  },
  {
   "cell_type": "code",
   "execution_count": 3,
   "id": "96122c69-8f4d-439a-a945-8f19294d2e07",
   "metadata": {
    "tags": []
   },
   "outputs": [],
   "source": [
    "# Intertidal Elevation variables\n",
    "start_date = \"2019\"  # Start date for analysis\n",
    "end_date = \"2021\"  # End date for analysis\n",
    "resolution = 10  # Spatial resolution used for output files\n",
    "crs = \"EPSG:3577\"  # Coordinate Reference System (CRS) to use for output files\n",
    "ndwi_thresh = 0.1  # Threshold used to identify dry/wet transition\n",
    "include_s2 = True  # Include Sentinel-2 data in the analysis?\n",
    "include_ls = True  # Include Landsat data in the analysis?\n",
    "filter_gqa = True  # Filter to remove poorly georeferenced scenes?\n",
    "tide_model = \"ensemble\"  # Tide model to use in analysis \n",
    "# tide_model_dir = \"/var/share/tide_models\"  # Directory containing tide model files\n",
    "# tide_model = [\"FES2014\", \"FES2012\", \"TPXO9-atlas-v5\"]\n",
    "tide_model_dir = \"/gdata1/data/tide_models_clipped\""
   ]
  },
  {
   "cell_type": "markdown",
   "id": "694c8695-d30d-4d55-84b2-d31a910ebaf3",
   "metadata": {},
   "source": [
    "#### Set study area\n",
    "\n",
    "##### Option 1: load study area from 32 km tile GridSpec"
   ]
  },
  {
   "cell_type": "code",
   "execution_count": null,
   "id": "8c1dfca3-543d-4e07-9a0f-2eeddf582835",
   "metadata": {},
   "outputs": [],
   "source": [
    "# Set study area (e.g. tile ID in form 'x143y87')\n",
    "study_area = \"x139y94\"\n",
    "geom = None  # Use GridSpec to load study area, not a custom geom"
   ]
  },
  {
   "cell_type": "markdown",
   "id": "298e1361-c8ff-4602-ac04-2dd07bf99ca2",
   "metadata": {
    "tags": []
   },
   "source": [
    "##### Option 2: load study area from vector file"
   ]
  },
  {
   "cell_type": "code",
   "execution_count": null,
   "id": "e67929eb-8a55-4a15-be7a-fcda29ec1f66",
   "metadata": {
    "tags": []
   },
   "outputs": [],
   "source": [
    "# # Set study area to load from file\n",
    "# study_area = \"pointstuart\"\n",
    "\n",
    "# # Read file, select study area and convert to geom\n",
    "# studyarea_gdf = gpd.read_file(\n",
    "#     \"data/raw/intertidal_development_polygons.geojson\"\n",
    "# ).set_index(\"id\")\n",
    "# geom = Geometry(studyarea_gdf.loc[study_area].geometry, crs=studyarea_gdf.crs)\n",
    "# geom"
   ]
  },
  {
   "cell_type": "markdown",
   "id": "9b72074d-c4bc-410b-83e1-80295227b81c",
   "metadata": {},
   "source": [
    "##### Option 3: load study area using interactive map"
   ]
  },
  {
   "cell_type": "code",
   "execution_count": 4,
   "id": "bdcf1c79-ae5a-4453-a7e8-d3f021b0b65a",
   "metadata": {},
   "outputs": [
    {
     "data": {
      "application/vnd.jupyter.widget-view+json": {
       "model_id": "c53bcfc9ff094732b3f5c9da06700769",
       "version_major": 2,
       "version_minor": 0
      },
      "text/plain": [
       "Map(center=[-26, 135], controls=(ZoomControl(options=['position', 'zoom_in_text', 'zoom_in_title', 'zoom_out_t…"
      ]
     },
     "metadata": {},
     "output_type": "display_data"
    },
    {
     "data": {
      "image/svg+xml": [
       "<svg xmlns=\"http://www.w3.org/2000/svg\" xmlns:xlink=\"http://www.w3.org/1999/xlink\" width=\"100.0\" height=\"100.0\" viewBox=\"136.36217212 -14.19521788 0.09163476000000514 0.09101275999999814\" preserveAspectRatio=\"xMinYMin meet\"><g transform=\"matrix(1,0,0,-1,0,-28.299423)\"><path fill-rule=\"evenodd\" fill=\"#66cc99\" stroke=\"#555555\" stroke-width=\"0.001832695200000103\" opacity=\"0.6\" d=\"M 136.365566,-14.191824 L 136.365566,-14.107599 L 136.450413,-14.107599 L 136.450413,-14.191824 L 136.365566,-14.191824 z\" /></g></svg>"
      ],
      "text/plain": [
       "Geometry(POLYGON ((136.365566 -14.191824, 136.365566 -14.107599, 136.450413 -14.107599, 136.450413 -14.191824, 136.365566 -14.191824)), EPSG:4326)"
      ]
     },
     "execution_count": 4,
     "metadata": {},
     "output_type": "execute_result"
    }
   ],
   "source": [
    "# Set study area name for outputs\n",
    "study_area = \"testing\"\n",
    "\n",
    "# Plot interactive map to select area\n",
    "basemap = basemap_to_tiles(basemaps.Esri.WorldImagery)\n",
    "geom = select_on_a_map(height=\"600px\", layers=(basemap,), center=(-26, 135), zoom=4)\n",
    "geom"
   ]
  },
  {
   "cell_type": "markdown",
   "id": "54c892b8-42d3-4930-ad97-e0e214535fc5",
   "metadata": {},
   "source": [
    "## Load data"
   ]
  },
  {
   "cell_type": "code",
   "execution_count": 5,
   "id": "98e930ff-c5a4-45fa-a043-b8902c606d63",
   "metadata": {
    "tags": []
   },
   "outputs": [
    {
     "name": "stderr",
     "output_type": "stream",
     "text": [
      "/env/lib/python3.10/site-packages/datacube/drivers/driver_cache.py:54: DeprecationWarning: pkg_resources is deprecated as an API. See https://setuptools.pypa.io/en/latest/pkg_resources.html\n",
      "  from pkg_resources import iter_entry_points\n"
     ]
    },
    {
     "data": {
      "text/html": [
       "<div>\n",
       "    <div style=\"width: 24px; height: 24px; background-color: #e1e1e1; border: 3px solid #9D9D9D; border-radius: 5px; position: absolute;\"> </div>\n",
       "    <div style=\"margin-left: 48px;\">\n",
       "        <h3 style=\"margin-bottom: 0px;\">Client</h3>\n",
       "        <p style=\"color: #9D9D9D; margin-bottom: 0px;\">Client-775114dd-84e5-11ee-88f7-6a69f9eea40c</p>\n",
       "        <table style=\"width: 100%; text-align: left;\">\n",
       "\n",
       "        <tr>\n",
       "        \n",
       "            <td style=\"text-align: left;\"><strong>Connection method:</strong> Cluster object</td>\n",
       "            <td style=\"text-align: left;\"><strong>Cluster type:</strong> distributed.LocalCluster</td>\n",
       "        \n",
       "        </tr>\n",
       "\n",
       "        \n",
       "            <tr>\n",
       "                <td style=\"text-align: left;\">\n",
       "                    <strong>Dashboard: </strong> <a href=\"/user/robbi.bishoptaylor@ga.gov.au/proxy/8787/status\" target=\"_blank\">/user/robbi.bishoptaylor@ga.gov.au/proxy/8787/status</a>\n",
       "                </td>\n",
       "                <td style=\"text-align: left;\"></td>\n",
       "            </tr>\n",
       "        \n",
       "\n",
       "        </table>\n",
       "\n",
       "        \n",
       "            <button style=\"margin-bottom: 12px;\" data-commandlinker-command=\"dask:populate-and-launch-layout\" data-commandlinker-args='{\"url\": \"/user/robbi.bishoptaylor@ga.gov.au/proxy/8787/status\" }'>\n",
       "                Launch dashboard in JupyterLab\n",
       "            </button>\n",
       "        \n",
       "\n",
       "        \n",
       "            <details>\n",
       "            <summary style=\"margin-bottom: 20px;\"><h3 style=\"display: inline;\">Cluster Info</h3></summary>\n",
       "            <div class=\"jp-RenderedHTMLCommon jp-RenderedHTML jp-mod-trusted jp-OutputArea-output\">\n",
       "    <div style=\"width: 24px; height: 24px; background-color: #e1e1e1; border: 3px solid #9D9D9D; border-radius: 5px; position: absolute;\">\n",
       "    </div>\n",
       "    <div style=\"margin-left: 48px;\">\n",
       "        <h3 style=\"margin-bottom: 0px; margin-top: 0px;\">LocalCluster</h3>\n",
       "        <p style=\"color: #9D9D9D; margin-bottom: 0px;\">2e21f1fe</p>\n",
       "        <table style=\"width: 100%; text-align: left;\">\n",
       "            <tr>\n",
       "                <td style=\"text-align: left;\">\n",
       "                    <strong>Dashboard:</strong> <a href=\"/user/robbi.bishoptaylor@ga.gov.au/proxy/8787/status\" target=\"_blank\">/user/robbi.bishoptaylor@ga.gov.au/proxy/8787/status</a>\n",
       "                </td>\n",
       "                <td style=\"text-align: left;\">\n",
       "                    <strong>Workers:</strong> 1\n",
       "                </td>\n",
       "            </tr>\n",
       "            <tr>\n",
       "                <td style=\"text-align: left;\">\n",
       "                    <strong>Total threads:</strong> 31\n",
       "                </td>\n",
       "                <td style=\"text-align: left;\">\n",
       "                    <strong>Total memory:</strong> 237.21 GiB\n",
       "                </td>\n",
       "            </tr>\n",
       "            \n",
       "            <tr>\n",
       "    <td style=\"text-align: left;\"><strong>Status:</strong> running</td>\n",
       "    <td style=\"text-align: left;\"><strong>Using processes:</strong> True</td>\n",
       "</tr>\n",
       "\n",
       "            \n",
       "        </table>\n",
       "\n",
       "        <details>\n",
       "            <summary style=\"margin-bottom: 20px;\">\n",
       "                <h3 style=\"display: inline;\">Scheduler Info</h3>\n",
       "            </summary>\n",
       "\n",
       "            <div style=\"\">\n",
       "    <div>\n",
       "        <div style=\"width: 24px; height: 24px; background-color: #FFF7E5; border: 3px solid #FF6132; border-radius: 5px; position: absolute;\"> </div>\n",
       "        <div style=\"margin-left: 48px;\">\n",
       "            <h3 style=\"margin-bottom: 0px;\">Scheduler</h3>\n",
       "            <p style=\"color: #9D9D9D; margin-bottom: 0px;\">Scheduler-5af8a761-4486-4408-b855-0051742d2c74</p>\n",
       "            <table style=\"width: 100%; text-align: left;\">\n",
       "                <tr>\n",
       "                    <td style=\"text-align: left;\">\n",
       "                        <strong>Comm:</strong> tcp://127.0.0.1:37145\n",
       "                    </td>\n",
       "                    <td style=\"text-align: left;\">\n",
       "                        <strong>Workers:</strong> 1\n",
       "                    </td>\n",
       "                </tr>\n",
       "                <tr>\n",
       "                    <td style=\"text-align: left;\">\n",
       "                        <strong>Dashboard:</strong> <a href=\"/user/robbi.bishoptaylor@ga.gov.au/proxy/8787/status\" target=\"_blank\">/user/robbi.bishoptaylor@ga.gov.au/proxy/8787/status</a>\n",
       "                    </td>\n",
       "                    <td style=\"text-align: left;\">\n",
       "                        <strong>Total threads:</strong> 31\n",
       "                    </td>\n",
       "                </tr>\n",
       "                <tr>\n",
       "                    <td style=\"text-align: left;\">\n",
       "                        <strong>Started:</strong> Just now\n",
       "                    </td>\n",
       "                    <td style=\"text-align: left;\">\n",
       "                        <strong>Total memory:</strong> 237.21 GiB\n",
       "                    </td>\n",
       "                </tr>\n",
       "            </table>\n",
       "        </div>\n",
       "    </div>\n",
       "\n",
       "    <details style=\"margin-left: 48px;\">\n",
       "        <summary style=\"margin-bottom: 20px;\">\n",
       "            <h3 style=\"display: inline;\">Workers</h3>\n",
       "        </summary>\n",
       "\n",
       "        \n",
       "        <div style=\"margin-bottom: 20px;\">\n",
       "            <div style=\"width: 24px; height: 24px; background-color: #DBF5FF; border: 3px solid #4CC9FF; border-radius: 5px; position: absolute;\"> </div>\n",
       "            <div style=\"margin-left: 48px;\">\n",
       "            <details>\n",
       "                <summary>\n",
       "                    <h4 style=\"margin-bottom: 0px; display: inline;\">Worker: 0</h4>\n",
       "                </summary>\n",
       "                <table style=\"width: 100%; text-align: left;\">\n",
       "                    <tr>\n",
       "                        <td style=\"text-align: left;\">\n",
       "                            <strong>Comm: </strong> tcp://127.0.0.1:40687\n",
       "                        </td>\n",
       "                        <td style=\"text-align: left;\">\n",
       "                            <strong>Total threads: </strong> 31\n",
       "                        </td>\n",
       "                    </tr>\n",
       "                    <tr>\n",
       "                        <td style=\"text-align: left;\">\n",
       "                            <strong>Dashboard: </strong> <a href=\"/user/robbi.bishoptaylor@ga.gov.au/proxy/33995/status\" target=\"_blank\">/user/robbi.bishoptaylor@ga.gov.au/proxy/33995/status</a>\n",
       "                        </td>\n",
       "                        <td style=\"text-align: left;\">\n",
       "                            <strong>Memory: </strong> 237.21 GiB\n",
       "                        </td>\n",
       "                    </tr>\n",
       "                    <tr>\n",
       "                        <td style=\"text-align: left;\">\n",
       "                            <strong>Nanny: </strong> tcp://127.0.0.1:41313\n",
       "                        </td>\n",
       "                        <td style=\"text-align: left;\"></td>\n",
       "                    </tr>\n",
       "                    <tr>\n",
       "                        <td colspan=\"2\" style=\"text-align: left;\">\n",
       "                            <strong>Local directory: </strong> /tmp/dask-scratch-space/worker-es6phwk6\n",
       "                        </td>\n",
       "                    </tr>\n",
       "\n",
       "                    \n",
       "\n",
       "                    \n",
       "\n",
       "                </table>\n",
       "            </details>\n",
       "            </div>\n",
       "        </div>\n",
       "        \n",
       "\n",
       "    </details>\n",
       "</div>\n",
       "\n",
       "        </details>\n",
       "    </div>\n",
       "</div>\n",
       "            </details>\n",
       "        \n",
       "\n",
       "    </div>\n",
       "</div>"
      ],
      "text/plain": [
       "<Client: 'tcp://127.0.0.1:37145' processes=1 threads=31, memory=237.21 GiB>"
      ]
     },
     "metadata": {},
     "output_type": "display_data"
    },
    {
     "name": "stdout",
     "output_type": "stream",
     "text": [
      "<xarray.Dataset>\n",
      "Dimensions:      (time: 486, y: 953, x: 959)\n",
      "Coordinates:\n",
      "  * time         (time) datetime64[ns] 2019-01-02T00:58:44.757467 ... 2021-12...\n",
      "  * y            (y) float64 -1.502e+06 -1.502e+06 ... -1.512e+06 -1.512e+06\n",
      "  * x            (x) float64 4.766e+05 4.766e+05 ... 4.861e+05 4.861e+05\n",
      "    spatial_ref  int32 3577\n",
      "Data variables:\n",
      "    ndwi         (time, y, x) float32 dask.array<chunksize=(1, 953, 959), meta=np.ndarray>\n",
      "Attributes:\n",
      "    crs:           EPSG:3577\n",
      "    grid_mapping:  spatial_ref\n"
     ]
    },
    {
     "name": "stderr",
     "output_type": "stream",
     "text": [
      "/env/lib/python3.10/site-packages/datacube/drivers/driver_cache.py:54: DeprecationWarning: pkg_resources is deprecated as an API. See https://setuptools.pypa.io/en/latest/pkg_resources.html\n",
      "  from pkg_resources import iter_entry_points\n",
      "/env/lib/python3.10/site-packages/rasterio/warp.py:344: NotGeoreferencedWarning: Dataset has no geotransform, gcps, or rpcs. The identity matrix will be returned.\n",
      "  _reproject(\n"
     ]
    },
    {
     "name": "stdout",
     "output_type": "stream",
     "text": [
      "CPU times: user 10.3 s, sys: 2.08 s, total: 12.4 s\n",
      "Wall time: 1min 1s\n"
     ]
    },
    {
     "data": {
      "text/html": [
       "<div><svg style=\"position: absolute; width: 0; height: 0; overflow: hidden\">\n",
       "<defs>\n",
       "<symbol id=\"icon-database\" viewBox=\"0 0 32 32\">\n",
       "<path d=\"M16 0c-8.837 0-16 2.239-16 5v4c0 2.761 7.163 5 16 5s16-2.239 16-5v-4c0-2.761-7.163-5-16-5z\"></path>\n",
       "<path d=\"M16 17c-8.837 0-16-2.239-16-5v6c0 2.761 7.163 5 16 5s16-2.239 16-5v-6c0 2.761-7.163 5-16 5z\"></path>\n",
       "<path d=\"M16 26c-8.837 0-16-2.239-16-5v6c0 2.761 7.163 5 16 5s16-2.239 16-5v-6c0 2.761-7.163 5-16 5z\"></path>\n",
       "</symbol>\n",
       "<symbol id=\"icon-file-text2\" viewBox=\"0 0 32 32\">\n",
       "<path d=\"M28.681 7.159c-0.694-0.947-1.662-2.053-2.724-3.116s-2.169-2.030-3.116-2.724c-1.612-1.182-2.393-1.319-2.841-1.319h-15.5c-1.378 0-2.5 1.121-2.5 2.5v27c0 1.378 1.122 2.5 2.5 2.5h23c1.378 0 2.5-1.122 2.5-2.5v-19.5c0-0.448-0.137-1.23-1.319-2.841zM24.543 5.457c0.959 0.959 1.712 1.825 2.268 2.543h-4.811v-4.811c0.718 0.556 1.584 1.309 2.543 2.268zM28 29.5c0 0.271-0.229 0.5-0.5 0.5h-23c-0.271 0-0.5-0.229-0.5-0.5v-27c0-0.271 0.229-0.5 0.5-0.5 0 0 15.499-0 15.5 0v7c0 0.552 0.448 1 1 1h7v19.5z\"></path>\n",
       "<path d=\"M23 26h-14c-0.552 0-1-0.448-1-1s0.448-1 1-1h14c0.552 0 1 0.448 1 1s-0.448 1-1 1z\"></path>\n",
       "<path d=\"M23 22h-14c-0.552 0-1-0.448-1-1s0.448-1 1-1h14c0.552 0 1 0.448 1 1s-0.448 1-1 1z\"></path>\n",
       "<path d=\"M23 18h-14c-0.552 0-1-0.448-1-1s0.448-1 1-1h14c0.552 0 1 0.448 1 1s-0.448 1-1 1z\"></path>\n",
       "</symbol>\n",
       "</defs>\n",
       "</svg>\n",
       "<style>/* CSS stylesheet for displaying xarray objects in jupyterlab.\n",
       " *\n",
       " */\n",
       "\n",
       ":root {\n",
       "  --xr-font-color0: var(--jp-content-font-color0, rgba(0, 0, 0, 1));\n",
       "  --xr-font-color2: var(--jp-content-font-color2, rgba(0, 0, 0, 0.54));\n",
       "  --xr-font-color3: var(--jp-content-font-color3, rgba(0, 0, 0, 0.38));\n",
       "  --xr-border-color: var(--jp-border-color2, #e0e0e0);\n",
       "  --xr-disabled-color: var(--jp-layout-color3, #bdbdbd);\n",
       "  --xr-background-color: var(--jp-layout-color0, white);\n",
       "  --xr-background-color-row-even: var(--jp-layout-color1, white);\n",
       "  --xr-background-color-row-odd: var(--jp-layout-color2, #eeeeee);\n",
       "}\n",
       "\n",
       "html[theme=dark],\n",
       "body[data-theme=dark],\n",
       "body.vscode-dark {\n",
       "  --xr-font-color0: rgba(255, 255, 255, 1);\n",
       "  --xr-font-color2: rgba(255, 255, 255, 0.54);\n",
       "  --xr-font-color3: rgba(255, 255, 255, 0.38);\n",
       "  --xr-border-color: #1F1F1F;\n",
       "  --xr-disabled-color: #515151;\n",
       "  --xr-background-color: #111111;\n",
       "  --xr-background-color-row-even: #111111;\n",
       "  --xr-background-color-row-odd: #313131;\n",
       "}\n",
       "\n",
       ".xr-wrap {\n",
       "  display: block !important;\n",
       "  min-width: 300px;\n",
       "  max-width: 700px;\n",
       "}\n",
       "\n",
       ".xr-text-repr-fallback {\n",
       "  /* fallback to plain text repr when CSS is not injected (untrusted notebook) */\n",
       "  display: none;\n",
       "}\n",
       "\n",
       ".xr-header {\n",
       "  padding-top: 6px;\n",
       "  padding-bottom: 6px;\n",
       "  margin-bottom: 4px;\n",
       "  border-bottom: solid 1px var(--xr-border-color);\n",
       "}\n",
       "\n",
       ".xr-header > div,\n",
       ".xr-header > ul {\n",
       "  display: inline;\n",
       "  margin-top: 0;\n",
       "  margin-bottom: 0;\n",
       "}\n",
       "\n",
       ".xr-obj-type,\n",
       ".xr-array-name {\n",
       "  margin-left: 2px;\n",
       "  margin-right: 10px;\n",
       "}\n",
       "\n",
       ".xr-obj-type {\n",
       "  color: var(--xr-font-color2);\n",
       "}\n",
       "\n",
       ".xr-sections {\n",
       "  padding-left: 0 !important;\n",
       "  display: grid;\n",
       "  grid-template-columns: 150px auto auto 1fr 20px 20px;\n",
       "}\n",
       "\n",
       ".xr-section-item {\n",
       "  display: contents;\n",
       "}\n",
       "\n",
       ".xr-section-item input {\n",
       "  display: none;\n",
       "}\n",
       "\n",
       ".xr-section-item input + label {\n",
       "  color: var(--xr-disabled-color);\n",
       "}\n",
       "\n",
       ".xr-section-item input:enabled + label {\n",
       "  cursor: pointer;\n",
       "  color: var(--xr-font-color2);\n",
       "}\n",
       "\n",
       ".xr-section-item input:enabled + label:hover {\n",
       "  color: var(--xr-font-color0);\n",
       "}\n",
       "\n",
       ".xr-section-summary {\n",
       "  grid-column: 1;\n",
       "  color: var(--xr-font-color2);\n",
       "  font-weight: 500;\n",
       "}\n",
       "\n",
       ".xr-section-summary > span {\n",
       "  display: inline-block;\n",
       "  padding-left: 0.5em;\n",
       "}\n",
       "\n",
       ".xr-section-summary-in:disabled + label {\n",
       "  color: var(--xr-font-color2);\n",
       "}\n",
       "\n",
       ".xr-section-summary-in + label:before {\n",
       "  display: inline-block;\n",
       "  content: '►';\n",
       "  font-size: 11px;\n",
       "  width: 15px;\n",
       "  text-align: center;\n",
       "}\n",
       "\n",
       ".xr-section-summary-in:disabled + label:before {\n",
       "  color: var(--xr-disabled-color);\n",
       "}\n",
       "\n",
       ".xr-section-summary-in:checked + label:before {\n",
       "  content: '▼';\n",
       "}\n",
       "\n",
       ".xr-section-summary-in:checked + label > span {\n",
       "  display: none;\n",
       "}\n",
       "\n",
       ".xr-section-summary,\n",
       ".xr-section-inline-details {\n",
       "  padding-top: 4px;\n",
       "  padding-bottom: 4px;\n",
       "}\n",
       "\n",
       ".xr-section-inline-details {\n",
       "  grid-column: 2 / -1;\n",
       "}\n",
       "\n",
       ".xr-section-details {\n",
       "  display: none;\n",
       "  grid-column: 1 / -1;\n",
       "  margin-bottom: 5px;\n",
       "}\n",
       "\n",
       ".xr-section-summary-in:checked ~ .xr-section-details {\n",
       "  display: contents;\n",
       "}\n",
       "\n",
       ".xr-array-wrap {\n",
       "  grid-column: 1 / -1;\n",
       "  display: grid;\n",
       "  grid-template-columns: 20px auto;\n",
       "}\n",
       "\n",
       ".xr-array-wrap > label {\n",
       "  grid-column: 1;\n",
       "  vertical-align: top;\n",
       "}\n",
       "\n",
       ".xr-preview {\n",
       "  color: var(--xr-font-color3);\n",
       "}\n",
       "\n",
       ".xr-array-preview,\n",
       ".xr-array-data {\n",
       "  padding: 0 5px !important;\n",
       "  grid-column: 2;\n",
       "}\n",
       "\n",
       ".xr-array-data,\n",
       ".xr-array-in:checked ~ .xr-array-preview {\n",
       "  display: none;\n",
       "}\n",
       "\n",
       ".xr-array-in:checked ~ .xr-array-data,\n",
       ".xr-array-preview {\n",
       "  display: inline-block;\n",
       "}\n",
       "\n",
       ".xr-dim-list {\n",
       "  display: inline-block !important;\n",
       "  list-style: none;\n",
       "  padding: 0 !important;\n",
       "  margin: 0;\n",
       "}\n",
       "\n",
       ".xr-dim-list li {\n",
       "  display: inline-block;\n",
       "  padding: 0;\n",
       "  margin: 0;\n",
       "}\n",
       "\n",
       ".xr-dim-list:before {\n",
       "  content: '(';\n",
       "}\n",
       "\n",
       ".xr-dim-list:after {\n",
       "  content: ')';\n",
       "}\n",
       "\n",
       ".xr-dim-list li:not(:last-child):after {\n",
       "  content: ',';\n",
       "  padding-right: 5px;\n",
       "}\n",
       "\n",
       ".xr-has-index {\n",
       "  font-weight: bold;\n",
       "}\n",
       "\n",
       ".xr-var-list,\n",
       ".xr-var-item {\n",
       "  display: contents;\n",
       "}\n",
       "\n",
       ".xr-var-item > div,\n",
       ".xr-var-item label,\n",
       ".xr-var-item > .xr-var-name span {\n",
       "  background-color: var(--xr-background-color-row-even);\n",
       "  margin-bottom: 0;\n",
       "}\n",
       "\n",
       ".xr-var-item > .xr-var-name:hover span {\n",
       "  padding-right: 5px;\n",
       "}\n",
       "\n",
       ".xr-var-list > li:nth-child(odd) > div,\n",
       ".xr-var-list > li:nth-child(odd) > label,\n",
       ".xr-var-list > li:nth-child(odd) > .xr-var-name span {\n",
       "  background-color: var(--xr-background-color-row-odd);\n",
       "}\n",
       "\n",
       ".xr-var-name {\n",
       "  grid-column: 1;\n",
       "}\n",
       "\n",
       ".xr-var-dims {\n",
       "  grid-column: 2;\n",
       "}\n",
       "\n",
       ".xr-var-dtype {\n",
       "  grid-column: 3;\n",
       "  text-align: right;\n",
       "  color: var(--xr-font-color2);\n",
       "}\n",
       "\n",
       ".xr-var-preview {\n",
       "  grid-column: 4;\n",
       "}\n",
       "\n",
       ".xr-index-preview {\n",
       "  grid-column: 2 / 5;\n",
       "  color: var(--xr-font-color2);\n",
       "}\n",
       "\n",
       ".xr-var-name,\n",
       ".xr-var-dims,\n",
       ".xr-var-dtype,\n",
       ".xr-preview,\n",
       ".xr-attrs dt {\n",
       "  white-space: nowrap;\n",
       "  overflow: hidden;\n",
       "  text-overflow: ellipsis;\n",
       "  padding-right: 10px;\n",
       "}\n",
       "\n",
       ".xr-var-name:hover,\n",
       ".xr-var-dims:hover,\n",
       ".xr-var-dtype:hover,\n",
       ".xr-attrs dt:hover {\n",
       "  overflow: visible;\n",
       "  width: auto;\n",
       "  z-index: 1;\n",
       "}\n",
       "\n",
       ".xr-var-attrs,\n",
       ".xr-var-data,\n",
       ".xr-index-data {\n",
       "  display: none;\n",
       "  background-color: var(--xr-background-color) !important;\n",
       "  padding-bottom: 5px !important;\n",
       "}\n",
       "\n",
       ".xr-var-attrs-in:checked ~ .xr-var-attrs,\n",
       ".xr-var-data-in:checked ~ .xr-var-data,\n",
       ".xr-index-data-in:checked ~ .xr-index-data {\n",
       "  display: block;\n",
       "}\n",
       "\n",
       ".xr-var-data > table {\n",
       "  float: right;\n",
       "}\n",
       "\n",
       ".xr-var-name span,\n",
       ".xr-var-data,\n",
       ".xr-index-name div,\n",
       ".xr-index-data,\n",
       ".xr-attrs {\n",
       "  padding-left: 25px !important;\n",
       "}\n",
       "\n",
       ".xr-attrs,\n",
       ".xr-var-attrs,\n",
       ".xr-var-data,\n",
       ".xr-index-data {\n",
       "  grid-column: 1 / -1;\n",
       "}\n",
       "\n",
       "dl.xr-attrs {\n",
       "  padding: 0;\n",
       "  margin: 0;\n",
       "  display: grid;\n",
       "  grid-template-columns: 125px auto;\n",
       "}\n",
       "\n",
       ".xr-attrs dt,\n",
       ".xr-attrs dd {\n",
       "  padding: 0;\n",
       "  margin: 0;\n",
       "  float: left;\n",
       "  padding-right: 10px;\n",
       "  width: auto;\n",
       "}\n",
       "\n",
       ".xr-attrs dt {\n",
       "  font-weight: normal;\n",
       "  grid-column: 1;\n",
       "}\n",
       "\n",
       ".xr-attrs dt:hover span {\n",
       "  display: inline-block;\n",
       "  background: var(--xr-background-color);\n",
       "  padding-right: 10px;\n",
       "}\n",
       "\n",
       ".xr-attrs dd {\n",
       "  grid-column: 2;\n",
       "  white-space: pre-wrap;\n",
       "  word-break: break-all;\n",
       "}\n",
       "\n",
       ".xr-icon-database,\n",
       ".xr-icon-file-text2,\n",
       ".xr-no-icon {\n",
       "  display: inline-block;\n",
       "  vertical-align: middle;\n",
       "  width: 1em;\n",
       "  height: 1.5em !important;\n",
       "  stroke-width: 0;\n",
       "  stroke: currentColor;\n",
       "  fill: currentColor;\n",
       "}\n",
       "</style><pre class='xr-text-repr-fallback'>&lt;xarray.Dataset&gt;\n",
       "Dimensions:      (time: 486, y: 953, x: 959)\n",
       "Coordinates:\n",
       "  * time         (time) datetime64[ns] 2019-01-02T00:58:44.757467 ... 2021-12...\n",
       "  * y            (y) float64 -1.502e+06 -1.502e+06 ... -1.512e+06 -1.512e+06\n",
       "  * x            (x) float64 4.766e+05 4.766e+05 ... 4.861e+05 4.861e+05\n",
       "    spatial_ref  int32 3577\n",
       "Data variables:\n",
       "    ndwi         (time, y, x) float32 nan nan nan nan ... -0.462 -0.4577 -0.4556\n",
       "Attributes:\n",
       "    crs:           EPSG:3577\n",
       "    grid_mapping:  spatial_ref</pre><div class='xr-wrap' style='display:none'><div class='xr-header'><div class='xr-obj-type'>xarray.Dataset</div></div><ul class='xr-sections'><li class='xr-section-item'><input id='section-0b3abb79-5223-4cf4-b0eb-14b54badafa1' class='xr-section-summary-in' type='checkbox' disabled ><label for='section-0b3abb79-5223-4cf4-b0eb-14b54badafa1' class='xr-section-summary'  title='Expand/collapse section'>Dimensions:</label><div class='xr-section-inline-details'><ul class='xr-dim-list'><li><span class='xr-has-index'>time</span>: 486</li><li><span class='xr-has-index'>y</span>: 953</li><li><span class='xr-has-index'>x</span>: 959</li></ul></div><div class='xr-section-details'></div></li><li class='xr-section-item'><input id='section-e266962c-97fe-4d0b-a4a7-4a045f75fccc' class='xr-section-summary-in' type='checkbox'  checked><label for='section-e266962c-97fe-4d0b-a4a7-4a045f75fccc' class='xr-section-summary' >Coordinates: <span>(4)</span></label><div class='xr-section-inline-details'></div><div class='xr-section-details'><ul class='xr-var-list'><li class='xr-var-item'><div class='xr-var-name'><span class='xr-has-index'>time</span></div><div class='xr-var-dims'>(time)</div><div class='xr-var-dtype'>datetime64[ns]</div><div class='xr-var-preview xr-preview'>2019-01-02T00:58:44.757467 ... 2...</div><input id='attrs-2b1fff9d-defe-4ad3-9647-87eec09dc24c' class='xr-var-attrs-in' type='checkbox' ><label for='attrs-2b1fff9d-defe-4ad3-9647-87eec09dc24c' title='Show/Hide attributes'><svg class='icon xr-icon-file-text2'><use xlink:href='#icon-file-text2'></use></svg></label><input id='data-eafcd226-220a-4615-8122-82530c483e65' class='xr-var-data-in' type='checkbox'><label for='data-eafcd226-220a-4615-8122-82530c483e65' title='Show/Hide data repr'><svg class='icon xr-icon-database'><use xlink:href='#icon-database'></use></svg></label><div class='xr-var-attrs'><dl class='xr-attrs'><dt><span>units :</span></dt><dd>seconds since 1970-01-01 00:00:00</dd></dl></div><div class='xr-var-data'><pre>array([&#x27;2019-01-02T00:58:44.757467000&#x27;, &#x27;2019-01-04T01:21:02.385000000&#x27;,\n",
       "       &#x27;2019-01-06T01:11:03.942000000&#x27;, ..., &#x27;2021-12-21T01:11:10.113195000&#x27;,\n",
       "       &#x27;2021-12-24T01:21:05.670947000&#x27;, &#x27;2021-12-31T01:11:10.845483000&#x27;],\n",
       "      dtype=&#x27;datetime64[ns]&#x27;)</pre></div></li><li class='xr-var-item'><div class='xr-var-name'><span class='xr-has-index'>y</span></div><div class='xr-var-dims'>(y)</div><div class='xr-var-dtype'>float64</div><div class='xr-var-preview xr-preview'>-1.502e+06 ... -1.512e+06</div><input id='attrs-4d6ccd6b-5d0b-4bbc-979d-333632abec65' class='xr-var-attrs-in' type='checkbox' ><label for='attrs-4d6ccd6b-5d0b-4bbc-979d-333632abec65' title='Show/Hide attributes'><svg class='icon xr-icon-file-text2'><use xlink:href='#icon-file-text2'></use></svg></label><input id='data-12be13c5-dd56-4272-ba04-11d42cc20cf0' class='xr-var-data-in' type='checkbox'><label for='data-12be13c5-dd56-4272-ba04-11d42cc20cf0' title='Show/Hide data repr'><svg class='icon xr-icon-database'><use xlink:href='#icon-database'></use></svg></label><div class='xr-var-attrs'><dl class='xr-attrs'><dt><span>units :</span></dt><dd>metre</dd><dt><span>resolution :</span></dt><dd>-10.0</dd><dt><span>crs :</span></dt><dd>EPSG:3577</dd></dl></div><div class='xr-var-data'><pre>array([-1501995., -1502005., -1502015., ..., -1511495., -1511505., -1511515.])</pre></div></li><li class='xr-var-item'><div class='xr-var-name'><span class='xr-has-index'>x</span></div><div class='xr-var-dims'>(x)</div><div class='xr-var-dtype'>float64</div><div class='xr-var-preview xr-preview'>4.766e+05 4.766e+05 ... 4.861e+05</div><input id='attrs-9384d3bf-be7b-4b79-9522-c122d3d59879' class='xr-var-attrs-in' type='checkbox' ><label for='attrs-9384d3bf-be7b-4b79-9522-c122d3d59879' title='Show/Hide attributes'><svg class='icon xr-icon-file-text2'><use xlink:href='#icon-file-text2'></use></svg></label><input id='data-6456ead7-80a9-4f55-a90d-6e0060d296be' class='xr-var-data-in' type='checkbox'><label for='data-6456ead7-80a9-4f55-a90d-6e0060d296be' title='Show/Hide data repr'><svg class='icon xr-icon-database'><use xlink:href='#icon-database'></use></svg></label><div class='xr-var-attrs'><dl class='xr-attrs'><dt><span>units :</span></dt><dd>metre</dd><dt><span>resolution :</span></dt><dd>10.0</dd><dt><span>crs :</span></dt><dd>EPSG:3577</dd></dl></div><div class='xr-var-data'><pre>array([476565., 476575., 476585., ..., 486125., 486135., 486145.])</pre></div></li><li class='xr-var-item'><div class='xr-var-name'><span>spatial_ref</span></div><div class='xr-var-dims'>()</div><div class='xr-var-dtype'>int32</div><div class='xr-var-preview xr-preview'>3577</div><input id='attrs-9b72ba86-f979-44ed-9414-ea23668aea84' class='xr-var-attrs-in' type='checkbox' ><label for='attrs-9b72ba86-f979-44ed-9414-ea23668aea84' title='Show/Hide attributes'><svg class='icon xr-icon-file-text2'><use xlink:href='#icon-file-text2'></use></svg></label><input id='data-b8f32156-347f-4b12-aa72-303c030ae0ac' class='xr-var-data-in' type='checkbox'><label for='data-b8f32156-347f-4b12-aa72-303c030ae0ac' title='Show/Hide data repr'><svg class='icon xr-icon-database'><use xlink:href='#icon-database'></use></svg></label><div class='xr-var-attrs'><dl class='xr-attrs'><dt><span>spatial_ref :</span></dt><dd>PROJCS[&quot;GDA94 / Australian Albers&quot;,GEOGCS[&quot;GDA94&quot;,DATUM[&quot;Geocentric_Datum_of_Australia_1994&quot;,SPHEROID[&quot;GRS 1980&quot;,6378137,298.257222101,AUTHORITY[&quot;EPSG&quot;,&quot;7019&quot;]],AUTHORITY[&quot;EPSG&quot;,&quot;6283&quot;]],PRIMEM[&quot;Greenwich&quot;,0,AUTHORITY[&quot;EPSG&quot;,&quot;8901&quot;]],UNIT[&quot;degree&quot;,0.0174532925199433,AUTHORITY[&quot;EPSG&quot;,&quot;9122&quot;]],AUTHORITY[&quot;EPSG&quot;,&quot;4283&quot;]],PROJECTION[&quot;Albers_Conic_Equal_Area&quot;],PARAMETER[&quot;latitude_of_center&quot;,0],PARAMETER[&quot;longitude_of_center&quot;,132],PARAMETER[&quot;standard_parallel_1&quot;,-18],PARAMETER[&quot;standard_parallel_2&quot;,-36],PARAMETER[&quot;false_easting&quot;,0],PARAMETER[&quot;false_northing&quot;,0],UNIT[&quot;metre&quot;,1,AUTHORITY[&quot;EPSG&quot;,&quot;9001&quot;]],AXIS[&quot;Easting&quot;,EAST],AXIS[&quot;Northing&quot;,NORTH],AUTHORITY[&quot;EPSG&quot;,&quot;3577&quot;]]</dd><dt><span>grid_mapping_name :</span></dt><dd>albers_conical_equal_area</dd></dl></div><div class='xr-var-data'><pre>array(3577, dtype=int32)</pre></div></li></ul></div></li><li class='xr-section-item'><input id='section-c11c118c-7479-4f4e-859b-cc32335eaa59' class='xr-section-summary-in' type='checkbox'  checked><label for='section-c11c118c-7479-4f4e-859b-cc32335eaa59' class='xr-section-summary' >Data variables: <span>(1)</span></label><div class='xr-section-inline-details'></div><div class='xr-section-details'><ul class='xr-var-list'><li class='xr-var-item'><div class='xr-var-name'><span>ndwi</span></div><div class='xr-var-dims'>(time, y, x)</div><div class='xr-var-dtype'>float32</div><div class='xr-var-preview xr-preview'>nan nan nan ... -0.4577 -0.4556</div><input id='attrs-c36867c8-2aec-4bfd-8eb5-b010f1c486c7' class='xr-var-attrs-in' type='checkbox' disabled><label for='attrs-c36867c8-2aec-4bfd-8eb5-b010f1c486c7' title='Show/Hide attributes'><svg class='icon xr-icon-file-text2'><use xlink:href='#icon-file-text2'></use></svg></label><input id='data-d3020fc5-f379-496c-8340-c59268dfeefd' class='xr-var-data-in' type='checkbox'><label for='data-d3020fc5-f379-496c-8340-c59268dfeefd' title='Show/Hide data repr'><svg class='icon xr-icon-database'><use xlink:href='#icon-database'></use></svg></label><div class='xr-var-attrs'><dl class='xr-attrs'></dl></div><div class='xr-var-data'><pre>array([[[        nan,         nan,         nan, ...,         nan,\n",
       "                 nan,         nan],\n",
       "        [        nan,         nan,         nan, ...,         nan,\n",
       "                 nan,         nan],\n",
       "        [        nan,         nan,         nan, ...,         nan,\n",
       "                 nan,         nan],\n",
       "        ...,\n",
       "        [        nan,         nan,         nan, ...,         nan,\n",
       "                 nan,         nan],\n",
       "        [        nan,         nan,         nan, ...,         nan,\n",
       "                 nan,         nan],\n",
       "        [        nan,         nan,         nan, ...,         nan,\n",
       "                 nan,         nan]],\n",
       "\n",
       "       [[ 0.28118393,  0.27139875,  0.27340823, ..., -0.44302848,\n",
       "         -0.40115026, -0.4       ],\n",
       "        [ 0.28647497,  0.28405064,  0.26940638, ..., -0.41937926,\n",
       "         -0.39296636, -0.41490263],\n",
       "        [ 0.2721585 ,  0.27447996,  0.26666668, ..., -0.38153845,\n",
       "         -0.3861145 , -0.425     ],\n",
       "...\n",
       "        [        nan,         nan,         nan, ...,         nan,\n",
       "                 nan,         nan],\n",
       "        [        nan,         nan,         nan, ...,         nan,\n",
       "                 nan,         nan],\n",
       "        [        nan,         nan,         nan, ...,         nan,\n",
       "                 nan,         nan]],\n",
       "\n",
       "       [[ 0.5006896 ,  0.49394348,  0.49462366, ..., -0.48769575,\n",
       "         -0.4660121 , -0.47852528],\n",
       "        [ 0.5069252 ,  0.50906557,  0.5088195 , ..., -0.48099807,\n",
       "         -0.46972048, -0.4871997 ],\n",
       "        [ 0.5068871 ,  0.5089163 ,  0.5096419 , ..., -0.46434233,\n",
       "         -0.48035285, -0.4964539 ],\n",
       "        ...,\n",
       "        [-0.3154787 , -0.3293092 , -0.3853096 , ..., -0.40988836,\n",
       "         -0.4262295 , -0.44204018],\n",
       "        [-0.30270714, -0.32025588, -0.39138755, ..., -0.44333076,\n",
       "         -0.43990573, -0.4393404 ],\n",
       "        [-0.33066666, -0.3591921 , -0.35576922, ..., -0.46197936,\n",
       "         -0.45772132, -0.45555118]]], dtype=float32)</pre></div></li></ul></div></li><li class='xr-section-item'><input id='section-05493e2f-e1a2-4daf-b2c4-3524886d70f6' class='xr-section-summary-in' type='checkbox'  ><label for='section-05493e2f-e1a2-4daf-b2c4-3524886d70f6' class='xr-section-summary' >Indexes: <span>(3)</span></label><div class='xr-section-inline-details'></div><div class='xr-section-details'><ul class='xr-var-list'><li class='xr-var-item'><div class='xr-index-name'><div>time</div></div><div class='xr-index-preview'>PandasIndex</div><div></div><input id='index-330451b4-cc0f-40b6-b757-6df245d7bba3' class='xr-index-data-in' type='checkbox'/><label for='index-330451b4-cc0f-40b6-b757-6df245d7bba3' title='Show/Hide index repr'><svg class='icon xr-icon-database'><use xlink:href='#icon-database'></use></svg></label><div class='xr-index-data'><pre>PandasIndex(DatetimeIndex([&#x27;2019-01-02 00:58:44.757467&#x27;, &#x27;2019-01-04 01:21:02.385000&#x27;,\n",
       "               &#x27;2019-01-06 01:11:03.942000&#x27;, &#x27;2019-01-09 01:20:59.577000&#x27;,\n",
       "               &#x27;2019-01-10 00:53:49.550408&#x27;, &#x27;2019-01-11 01:11:08.166000&#x27;,\n",
       "               &#x27;2019-01-14 01:21:03.691000&#x27;, &#x27;2019-01-16 01:11:05.170000&#x27;,\n",
       "               &#x27;2019-01-18 00:58:41.964310&#x27;, &#x27;2019-01-21 01:11:09.101000&#x27;,\n",
       "               ...\n",
       "               &#x27;2021-12-09 00:59:13.985854&#x27;, &#x27;2021-12-09 01:20:59.164040&#x27;,\n",
       "               &#x27;2021-12-11 01:11:08.079452&#x27;, &#x27;2021-12-14 01:21:03.969551&#x27;,\n",
       "               &#x27;2021-12-16 01:11:02.901967&#x27;, &#x27;2021-12-16 23:47:44.280520&#x27;,\n",
       "               &#x27;2021-12-19 01:20:58.576701&#x27;, &#x27;2021-12-21 01:11:10.113195&#x27;,\n",
       "               &#x27;2021-12-24 01:21:05.670947&#x27;, &#x27;2021-12-31 01:11:10.845483&#x27;],\n",
       "              dtype=&#x27;datetime64[ns]&#x27;, name=&#x27;time&#x27;, length=486, freq=None))</pre></div></li><li class='xr-var-item'><div class='xr-index-name'><div>y</div></div><div class='xr-index-preview'>PandasIndex</div><div></div><input id='index-b65c0b8e-391a-4155-9a36-b7df80a3b684' class='xr-index-data-in' type='checkbox'/><label for='index-b65c0b8e-391a-4155-9a36-b7df80a3b684' title='Show/Hide index repr'><svg class='icon xr-icon-database'><use xlink:href='#icon-database'></use></svg></label><div class='xr-index-data'><pre>PandasIndex(Float64Index([-1501995.0, -1502005.0, -1502015.0, -1502025.0, -1502035.0,\n",
       "              -1502045.0, -1502055.0, -1502065.0, -1502075.0, -1502085.0,\n",
       "              ...\n",
       "              -1511425.0, -1511435.0, -1511445.0, -1511455.0, -1511465.0,\n",
       "              -1511475.0, -1511485.0, -1511495.0, -1511505.0, -1511515.0],\n",
       "             dtype=&#x27;float64&#x27;, name=&#x27;y&#x27;, length=953))</pre></div></li><li class='xr-var-item'><div class='xr-index-name'><div>x</div></div><div class='xr-index-preview'>PandasIndex</div><div></div><input id='index-8ec442a5-5bd7-4f48-8b75-ea9933fb9ecf' class='xr-index-data-in' type='checkbox'/><label for='index-8ec442a5-5bd7-4f48-8b75-ea9933fb9ecf' title='Show/Hide index repr'><svg class='icon xr-icon-database'><use xlink:href='#icon-database'></use></svg></label><div class='xr-index-data'><pre>PandasIndex(Float64Index([476565.0, 476575.0, 476585.0, 476595.0, 476605.0, 476615.0,\n",
       "              476625.0, 476635.0, 476645.0, 476655.0,\n",
       "              ...\n",
       "              486055.0, 486065.0, 486075.0, 486085.0, 486095.0, 486105.0,\n",
       "              486115.0, 486125.0, 486135.0, 486145.0],\n",
       "             dtype=&#x27;float64&#x27;, name=&#x27;x&#x27;, length=959))</pre></div></li></ul></div></li><li class='xr-section-item'><input id='section-42d638d7-34fa-4d4a-bb7e-1853ededa0d1' class='xr-section-summary-in' type='checkbox'  checked><label for='section-42d638d7-34fa-4d4a-bb7e-1853ededa0d1' class='xr-section-summary' >Attributes: <span>(2)</span></label><div class='xr-section-inline-details'></div><div class='xr-section-details'><dl class='xr-attrs'><dt><span>crs :</span></dt><dd>EPSG:3577</dd><dt><span>grid_mapping :</span></dt><dd>spatial_ref</dd></dl></div></li></ul></div></div>"
      ],
      "text/plain": [
       "<xarray.Dataset>\n",
       "Dimensions:      (time: 486, y: 953, x: 959)\n",
       "Coordinates:\n",
       "  * time         (time) datetime64[ns] 2019-01-02T00:58:44.757467 ... 2021-12...\n",
       "  * y            (y) float64 -1.502e+06 -1.502e+06 ... -1.512e+06 -1.512e+06\n",
       "  * x            (x) float64 4.766e+05 4.766e+05 ... 4.861e+05 4.861e+05\n",
       "    spatial_ref  int32 3577\n",
       "Data variables:\n",
       "    ndwi         (time, y, x) float32 nan nan nan nan ... -0.462 -0.4577 -0.4556\n",
       "Attributes:\n",
       "    crs:           EPSG:3577\n",
       "    grid_mapping:  spatial_ref"
      ]
     },
     "execution_count": 5,
     "metadata": {},
     "output_type": "execute_result"
    }
   ],
   "source": [
    "%%time\n",
    "\n",
    "# Connect to datacube\n",
    "dc = datacube.Datacube(app=\"Intertidal_elevation\")\n",
    "\n",
    "# Create local dask cluster to improve data load time\n",
    "client = create_local_dask_cluster(return_client=True)\n",
    "\n",
    "satellite_ds = load_data(\n",
    "    dc=dc,\n",
    "    study_area=study_area,\n",
    "    geom=geom,\n",
    "    time_range=(start_date, end_date),\n",
    "    resolution=resolution,\n",
    "    crs=crs,\n",
    "    include_s2=True,\n",
    "    include_ls=True,\n",
    "    filter_gqa=filter_gqa,\n",
    "    max_cloudcover=90,\n",
    "    skip_broken_datasets=True,\n",
    ")\n",
    "\n",
    "print(satellite_ds)\n",
    "\n",
    "# Load data\n",
    "satellite_ds.load()\n"
   ]
  },
  {
   "cell_type": "code",
   "execution_count": null,
   "id": "92d23ccd-f088-4815-8a56-08bc0f69ccbe",
   "metadata": {
    "tags": []
   },
   "outputs": [],
   "source": [
    "# # Experiment of removing mostly empty scenes to reduce memory/speed up\n",
    "# satellite_ds = satellite_ds.sel(\n",
    "#     time=satellite_ds.ndwi.notnull().mean(dim=[\"y\", \"x\"]) > 0.9\n",
    "# )"
   ]
  },
  {
   "cell_type": "markdown",
   "id": "93f45ad8-b23d-425a-91c1-a227b67d1372",
   "metadata": {},
   "source": [
    "### Load optional topobathy mask\n",
    "Loads a topo-bathymetric DEM for the extents of the loaded satellite data.\n",
    "This is used as a coarse mask to constrain the analysis to the coastal zone, improving run time and reducing clear false positives over deep water or elevated land."
   ]
  },
  {
   "cell_type": "code",
   "execution_count": 6,
   "id": "b3348b1b-ea4c-4637-958e-c0d89212e25a",
   "metadata": {
    "tags": []
   },
   "outputs": [],
   "source": [
    "# Load data from GA's Australian Bathymetry and Topography Grid 2009\n",
    "topobathy_ds = load_topobathy(\n",
    "    dc, satellite_ds, product=\"ga_multi_ausbath_0\", resampling=\"bilinear\"\n",
    ")"
   ]
  },
  {
   "cell_type": "markdown",
   "id": "c34949eb-96f1-4844-ad6e-aeb71399e9f5",
   "metadata": {},
   "source": [
    "## Pixel-based tides"
   ]
  },
  {
   "cell_type": "code",
   "execution_count": 7,
   "id": "1cc505df-daf3-4592-858e-6695aa1f78b4",
   "metadata": {},
   "outputs": [
    {
     "name": "stdout",
     "output_type": "stream",
     "text": [
      "Creating reduced resolution 5000 x 5000 metre tide modelling array\n",
      "Modelling tides using FES2014, FES2012, TPXO8-atlas-v1, TPXO9-atlas-v5, EOT20, HAMTIDE11, GOT4.10 in parallel\n"
     ]
    },
    {
     "name": "stderr",
     "output_type": "stream",
     "text": [
      "100%|██████████| 35/35 [00:18<00:00,  1.85it/s]\n"
     ]
    },
    {
     "name": "stdout",
     "output_type": "stream",
     "text": [
      "Returning low resolution tide array\n",
      "Generating ensemble tide model from point inputs\n"
     ]
    }
   ],
   "source": [
    "if tide_model == \"ensemble\":\n",
    "    \n",
    "    # Model tides into every pixel in the three-dimensional satellite \n",
    "    # dataset (x by y by time) after generating ensemble model using\n",
    "    # ancillary inputs\n",
    "    tide_m, model_weights = pixel_tides_ensemble(\n",
    "        satellite_ds,\n",
    "        directory=tide_model_dir,\n",
    "        ancillary_points=\"data/raw/corr_points.geojson\",\n",
    "    )\n",
    "    \n",
    "    # model_weights.mean(dim=[\"x\", \"y\"]).to_dataframe(\"correlation\")\n",
    "    \n",
    "else:    \n",
    "\n",
    "    # Model tides into every pixel in the three-dimensional satellite \n",
    "    # dataset (x by y by time)\n",
    "    tide_m, _ = pixel_tides(\n",
    "        satellite_ds,\n",
    "        resample=True,\n",
    "        model=tide_model,\n",
    "        directory=tide_model_dir,\n",
    "    )\n"
   ]
  },
  {
   "cell_type": "code",
   "execution_count": null,
   "id": "32fcc597-9145-4f0e-bd4e-cef454d4a919",
   "metadata": {},
   "outputs": [],
   "source": [
    "## Experimental: testing ebb flow filtering\n",
    "# ebb_flow_da, tide_m_offset = pixel_ebb_flow(tide_m, offset_min=15)"
   ]
  },
  {
   "cell_type": "code",
   "execution_count": 8,
   "id": "0dcac52f-78d5-41f3-81a4-199509949a96",
   "metadata": {},
   "outputs": [],
   "source": [
    "# Set tide array pixels to nodata if the satellite data array pixels contain\n",
    "# nodata. This ensures that we ignore any tide observations where we don't\n",
    "# have matching satellite imagery\n",
    "satellite_ds[\"tide_m\"] = tide_m.where(\n",
    "    ~satellite_ds.to_array().isel(variable=0).isnull().drop(\"variable\")\n",
    ")"
   ]
  },
  {
   "cell_type": "markdown",
   "id": "e9c634b5-4195-4cee-9c34-84792debae03",
   "metadata": {},
   "source": [
    "## Pixel-based DEM creation"
   ]
  },
  {
   "cell_type": "markdown",
   "id": "d197a187-6a74-4588-95ea-678a576a269b",
   "metadata": {
    "tags": []
   },
   "source": [
    "### Flatten array from 3D to 2D and drop pixels with no correlation with tide\n",
    "Flatten array to only pixels with positive correlations between water observations and tide height. This greatly improves processing time by ensuring only a narrow strip of pixels along the coastline are analysed, rather than the entire x * y array:\n",
    "\n",
    "\n",
    "![](../data/figures/tide_array_flattening.JPG)"
   ]
  },
  {
   "cell_type": "code",
   "execution_count": 9,
   "id": "457ee569-b862-4a4c-b04e-66b39c9fa931",
   "metadata": {},
   "outputs": [
    {
     "name": "stdout",
     "output_type": "stream",
     "text": [
      "Reducing analysed pixels from 913927 to 63038 (6.90%)\n",
      "CPU times: user 7.71 s, sys: 5.03 s, total: 12.7 s\n",
      "Wall time: 12.2 s\n"
     ]
    }
   ],
   "source": [
    "%%time\n",
    "flat_ds, freq, corr, intertidal_candidates = ds_to_flat(\n",
    "    satellite_ds,\n",
    "    ndwi_thresh=0.0,\n",
    "    min_freq=0.01,\n",
    "    max_freq=0.99,\n",
    "    min_correlation=0.15,\n",
    "    valid_mask=topobathy_ds.height_depth > -20,\n",
    ")"
   ]
  },
  {
   "cell_type": "markdown",
   "id": "9e57e810-d4eb-4875-bf1a-aec1487acbf1",
   "metadata": {
    "tags": []
   },
   "source": [
    "### Pixel-wise rolling median\n",
    "This function performs a rolling median calculation along the tide heights of our satellite images. \n",
    "It breaks our tide range into `windows_n` individual rolling windows, each of which covers `windows_prop_tide` of the full tidal range. \n",
    "For each window, the function returns the median of all tide heights and NDWI index values within the window, and returns an array with a new \"interval\" dimension that summarises these values from low to high tide."
   ]
  },
  {
   "cell_type": "code",
   "execution_count": 10,
   "id": "6bc468ab-9c95-4065-b0f4-ea323cff266f",
   "metadata": {},
   "outputs": [
    {
     "name": "stderr",
     "output_type": "stream",
     "text": [
      "100%|██████████| 114/114 [01:16<00:00,  1.49it/s]\n"
     ]
    }
   ],
   "source": [
    "interval_ds = pixel_rolling_median(\n",
    "    flat_ds,\n",
    "    windows_n=100,\n",
    "    window_prop_tide=0.15,\n",
    "    max_workers=None,\n",
    ")"
   ]
  },
  {
   "cell_type": "markdown",
   "id": "baab484a-b501-4203-88de-c8c959ae701c",
   "metadata": {},
   "source": [
    "### Model intertidal elevation and uncertainty"
   ]
  },
  {
   "cell_type": "code",
   "execution_count": 11,
   "id": "0a8e0556-c698-4628-b0f3-cf35e722a293",
   "metadata": {},
   "outputs": [
    {
     "name": "stdout",
     "output_type": "stream",
     "text": [
      "Applying tidal interval interpolation to 200 intervals\n",
      "Applying rolling mean smoothing with radius 10\n"
     ]
    }
   ],
   "source": [
    "# Model elevation\n",
    "flat_dem = pixel_dem(\n",
    "    interval_ds,\n",
    "    ndwi_thresh=ndwi_thresh,\n",
    "    interp_intervals=200,\n",
    "    smooth_radius=10,\n",
    ")"
   ]
  },
  {
   "cell_type": "code",
   "execution_count": 12,
   "id": "cec14155-eeb5-4a78-a30f-54b329e6e7e2",
   "metadata": {},
   "outputs": [],
   "source": [
    "# Model uncertainty\n",
    "low, high, uncertainty, misclassified = pixel_uncertainty(\n",
    "    flat_ds, flat_dem, ndwi_thresh, method=\"mad\"\n",
    ")\n",
    "\n",
    "# Add arrays to dataset\n",
    "flat_dem[[\"elevation_low\", \"elevation_high\", \"elevation_uncertainty\"]] = (\n",
    "    low,\n",
    "    high,\n",
    "    uncertainty,\n",
    ")"
   ]
  },
  {
   "cell_type": "markdown",
   "id": "251168d7-3210-4b59-9436-8ae550c777b9",
   "metadata": {},
   "source": [
    "Plot example elevation extraction for a single pixel:"
   ]
  },
  {
   "cell_type": "code",
   "execution_count": 13,
   "id": "8c78a876-50c0-42f8-a32f-d7610e4e9d0e",
   "metadata": {
    "tags": []
   },
   "outputs": [
    {
     "data": {
      "image/png": "[encoded data removed]",
      "text/plain": [
       "<Figure size 640x480 with 1 Axes>"
      ]
     },
     "metadata": {},
     "output_type": "display_data"
    }
   ],
   "source": [
    "x, y = 480997.3,-1508865.7\n",
    "\n",
    "pixel_dem_debug(\n",
    "    x,\n",
    "    y,\n",
    "    flat_ds,\n",
    "    interval_ds, \n",
    "    interp_intervals=200,\n",
    "    smooth_radius=10,\n",
    ")"
   ]
  },
  {
   "cell_type": "markdown",
   "id": "a379f9cf-3f24-4a0f-9b37-e4b462dccb5d",
   "metadata": {},
   "source": [
    "## Unstack outputs and export"
   ]
  },
  {
   "cell_type": "code",
   "execution_count": 14,
   "id": "7d5d7d06-831b-43ed-8de9-7a29f2ca723e",
   "metadata": {},
   "outputs": [],
   "source": [
    "# Unstack elevation and uncertainty layers back into their original \n",
    "# spatial dimensions\n",
    "ds = flat_to_ds(flat_dem, satellite_ds)"
   ]
  },
  {
   "cell_type": "code",
   "execution_count": 15,
   "id": "1a86388c-cab8-40e3-aa3f-98fed2c396b1",
   "metadata": {
    "tags": []
   },
   "outputs": [],
   "source": [
    "# Combine auxiliary layers into a new auxilary xr.Dataset\n",
    "flat_ds_aux = xr.combine_by_coords(\n",
    "    [freq, corr, intertidal_candidates, misclassified],\n",
    "    fill_value={\"intertidal_candidates\": False},\n",
    ")\n",
    "\n",
    "# Unstack auxiliary layers back into their original spatial dimensions\n",
    "ds_aux = flat_to_ds(flat_ds_aux, satellite_ds, stacked_dim=\"z\")"
   ]
  },
  {
   "cell_type": "code",
   "execution_count": 16,
   "id": "75b41fb9-6271-4c8a-a1d5-f4800d03f789",
   "metadata": {
    "tags": []
   },
   "outputs": [
    {
     "data": {
      "text/plain": [
       "<matplotlib.image.AxesImage at 0x7f27ac439ba0>"
      ]
     },
     "execution_count": 16,
     "metadata": {},
     "output_type": "execute_result"
    },
    {
     "data": {
      "image/png": "[encoded data removed]",
      "text/plain": [
       "<Figure size 1200x300 with 6 Axes>"
      ]
     },
     "metadata": {},
     "output_type": "display_data"
    }
   ],
   "source": [
    "fix, axes = plt.subplots(1, 3, figsize=(12, 3))\n",
    "ds.elevation.plot.imshow(cmap=\"viridis\", ax=axes[0])\n",
    "ds.elevation_uncertainty.plot.imshow(cmap=\"inferno\", ax=axes[1])\n",
    "ds_aux.ndwi_tide_corr.plot.imshow(cmap=\"RdBu\", vmin=-0.7, vmax=0.7, ax=axes[2])"
   ]
  },
  {
   "cell_type": "markdown",
   "id": "9fcd13e6-db3e-409c-905d-d9f6a9733348",
   "metadata": {},
   "source": [
    "### Export to GeoTIFF files"
   ]
  },
  {
   "cell_type": "code",
   "execution_count": 17,
   "id": "9296e76c-12b6-44bb-829b-871f955bbc69",
   "metadata": {},
   "outputs": [],
   "source": [
    "# Create output folder. If it doesn't exist, create it\n",
    "output_dir = f\"data/interim/{study_area}/{start_date}-{end_date}\"\n",
    "os.makedirs(output_dir, exist_ok=True)\n",
    "\n",
    "# Export rasters\n",
    "export_intertidal_rasters(\n",
    "    ds, prefix=f\"{output_dir}/{study_area}_{start_date}_{end_date}\"\n",
    ")\n",
    "export_intertidal_rasters(\n",
    "    ds_aux, prefix=f\"{output_dir}/{study_area}_{start_date}_{end_date}_debug\"\n",
    ")"
   ]
  },
  {
   "cell_type": "markdown",
   "id": "9b564afc-4a09-4eb3-a9a3-cb445822c7ad",
   "metadata": {
    "tags": []
   },
   "source": [
    "### Close Dask client"
   ]
  },
  {
   "cell_type": "code",
   "execution_count": 21,
   "id": "dbad6b6a-081b-4360-9ffe-120c76b43bd2",
   "metadata": {},
   "outputs": [],
   "source": [
    "client.close()"
   ]
  },
  {
   "cell_type": "markdown",
   "id": "18b8ced0-ff2d-4995-a0e4-0cf001ee8a99",
   "metadata": {},
   "source": [
    "## Experimental - not tested or working"
   ]
  },
  {
   "cell_type": "markdown",
   "id": "b3272f38-68fd-46fb-ab09-074563b4f9fe",
   "metadata": {},
   "source": [
    "### Investigate specific pixels"
   ]
  },
  {
   "cell_type": "code",
   "execution_count": null,
   "id": "13155d96-ca81-4749-98a5-3120f2fdf1c2",
   "metadata": {},
   "outputs": [],
   "source": [
    "# import pickle\n",
    "\n",
    "# study_area = 'moreton'\n",
    "\n",
    "# # Save flat_ds and interval_ds data to pickle file\n",
    "# with open(f'{study_area}_flat_ds.pickle', 'wb') as handle:\n",
    "#     pickle.dump(flat_ds, handle)\n",
    "# with open(f'{study_area}_interval_ds.pickle', 'wb') as handle:\n",
    "#     pickle.dump(interval_ds, handle)\n"
   ]
  },
  {
   "cell_type": "code",
   "execution_count": null,
   "id": "a848e345-5778-42e1-8181-e82f85ef74df",
   "metadata": {},
   "outputs": [],
   "source": [
    "import pickle\n",
    "\n",
    "# study_area = 'roebuck'\n",
    "study_area = 'moreton'\n",
    "# study_area = 'gulfcarpentaria2'\n",
    "\n",
    "# Load flat_ds and interval_ds data from pickle file\n",
    "with open(f'{study_area}_flat_ds.pickle', 'rb') as handle:\n",
    "    flat_ds = pickle.load(handle)    \n",
    "with open(f'{study_area}_interval_ds.pickle', 'rb') as handle:\n",
    "    interval_ds = pickle.load(handle)"
   ]
  },
  {
   "cell_type": "code",
   "execution_count": null,
   "id": "5491cd92-cf19-4ebb-bdd5-6cbfea11edba",
   "metadata": {},
   "outputs": [],
   "source": [
    "# Unstack data back to x, y so we can select pixels by their coordinates\n",
    "flat_ds_unstacked = flat_ds[[\"tide_m\", \"ndwi\"]].unstack().sortby([\"time\", \"x\", \"y\"])\n",
    "interval_ds_unstacked = interval_ds[[\"tide_m\", \"ndwi\"]].unstack().sortby([\"interval\", \"x\", \"y\"])"
   ]
  },
  {
   "cell_type": "code",
   "execution_count": null,
   "id": "fa0ab910-979d-4b6f-a2f0-43fccb6c3005",
   "metadata": {},
   "outputs": [],
   "source": [
    "from shapely.geometry import LineString\n",
    "\n",
    "# # Roebuck\n",
    "# start = -1034545,-1985389\n",
    "# end = -1038448,-1983292\n",
    "# n = 5\n",
    "\n",
    "# # Carpentaria1\n",
    "# start = 450770.6,-1641979.8\n",
    "# end = 451152.5,-1640577.0\n",
    "# n = 5\n",
    "\n",
    "# # Moreton\n",
    "start = 2081464.0,-3140036.2\n",
    "end = 2081003.8,-3140643.6\n",
    "n = 7\n",
    "\n",
    "# # Point Stuart\n",
    "# start = -13098.3,-1287619.9\n",
    "# end = -12187.1,-1286280.9\n",
    "# start=-12672.6,-1287222.9\n",
    "# end=-11678.7,-1287291.7\n",
    "# n = 5\n",
    "\n",
    "\n",
    "# # Gulf Carpentaria 2\n",
    "# start = 506000.5,-1701434.1\n",
    "# end = 508226.6,-1701232.9\n",
    "# n = 5\n",
    "\n",
    "# # Gulf Carpentaria 3\n",
    "# start = 613819.0,-1740248.7\n",
    "# end = 614185.7,-1739698.7\n",
    "# n = 5\n",
    "\n",
    "# Testing\n",
    "start = -925456.88,-3733613.17\n",
    "end = -925456.88,-3733613.17\n",
    "n=2\n",
    "\n",
    "fig, axes = plt.subplots(1, n, figsize=(25, 5))\n",
    "axes = axes.flatten()\n",
    "\n",
    "transect = LineString([start, end])\n",
    "\n",
    "for i, prop in enumerate(np.linspace(0.0, 1, n)):\n",
    "    x, y = transect.interpolate(prop, normalized=True).coords.xy\n",
    "\n",
    "    # Extract pixels\n",
    "    flat_ds_pixel = flat_ds_unstacked.sel(x=x, y=y, method='nearest')\n",
    "    interval_ds_pixel = interval_ds_unstacked.sel(x=x, y=y, method='nearest')\n",
    "    \n",
    "    # Convert to dataframes\n",
    "    flat_ds_df = flat_ds_pixel.to_dataframe()[['tide_m', 'ndwi']]\n",
    "    interval_ds_df = interval_ds_pixel.to_dataframe()[['tide_m', 'ndwi']]\n",
    "    # interval_rolling_df = interval_ds_unstacked.sel(x=x, y=y, method='nearest').rolling(interval=20, center=False, min_periods=1).mean().to_dataframe()[['tide_m', 'ndwi']]\n",
    "\n",
    "    # ndwi_scaling = 1\n",
    "    # interval_ds_df['ndwi_min'] = interval_ds_df.ndwi - (interval_ds_df.ndwi_std * ndwi_scaling)\n",
    "    # interval_ds_df['ndwi_max'] = interval_ds_df.ndwi + (interval_ds_df.ndwi_std * ndwi_scaling)\n",
    "    \n",
    "    ndwi_thresh = 0.1\n",
    "    flat_dem_pixel = pixel_dem(interval_ds_pixel, flat_ds_pixel, ndwi_thresh, 0)\n",
    "    elevation_low_mad, elevation_high_mad, _, _ = pixel_uncertainty(flat_ds_pixel, flat_dem_pixel, ndwi_thresh, method=\"mad\")\n",
    "    elevation_low_q, elevation_high_q, _, _ = pixel_uncertainty(flat_ds_pixel, flat_dem_pixel, ndwi_thresh, method=\"quantile\")\n",
    "    \n",
    "        \n",
    "    # Plot \n",
    "    import seaborn as sns\n",
    "    flat_ds_df.plot.scatter(x='tide_m', y='ndwi', c='black', s=2, ax=axes[i])\n",
    "    # flat_ds_df['month'] = flat_ds_df.index.get_level_values('time').month\n",
    "    # sns.scatterplot(flat_ds_df, x='tide_m', y='ndwi', hue='month', palette='twilight_shifted', ax=axes[i])\n",
    "    # flat_ds_df.query(\"(tide_m > 0) & (ndwi < 0.7)\").plot.scatter(x='tide_m', y='ndwi', c='red', s=5, ax=axes[i])\n",
    "    interval_ds_df.plot(x='tide_m', y='ndwi', c='darkorange', ax=axes[i], lw=3)\n",
    "    axes[i].axvspan(elevation_low_mad.item(), elevation_high_mad.item(), color='orange', alpha=0.3)\n",
    "    axes[i].axvspan(elevation_low_q.item(), elevation_high_q.item(), color='blue', alpha=0.2)\n",
    "    axes[i].axhline(ndwi_thresh, color='black', linestyle='-', lw=3, alpha=1)\n",
    "    axes[i].axvline(flat_dem_pixel.elevation, color='black', linestyle='-', lw=3, alpha=1)  \n",
    "    axes[i].set_ylim(-0.5, 1.1)"
   ]
  },
  {
   "cell_type": "code",
   "execution_count": null,
   "id": "c2bf0323-dbdf-4c33-bde1-03c6107e9d3a",
   "metadata": {},
   "outputs": [],
   "source": [
    "pixel_uncertainty(flat_ds_pixel, flat_dem_pixel, 0.0, method=\"quantile\")[3]"
   ]
  },
  {
   "cell_type": "code",
   "execution_count": null,
   "id": "631ab1d9-39bb-45a3-9c9a-c284189860b5",
   "metadata": {},
   "outputs": [],
   "source": [
    "# Extract pixel\n",
    "x, y = transect.interpolate(0.8, normalized=True).coords.xy\n",
    "flat_ds_pixel = flat_ds_unstacked.sel(x=x, y=y, method='nearest')\n",
    "interval_ds_pixel = interval_ds_unstacked.sel(x=x, y=y, method='nearest')\n",
    "\n",
    "\n",
    "thresholds = np.linspace(0, 0.2, 100)\n",
    "out_mad = []\n",
    "out_q = []\n",
    "for thresh in thresholds:\n",
    "    flat_dem_pixel = pixel_dem(interval_ds_pixel, flat_ds_pixel, thresh, 0)\n",
    "    _, _, uncertainty_mad = pixel_uncertainty(flat_ds_pixel, flat_dem_pixel, thresh, method=\"mad\")\n",
    "    _, _, uncertainty_q = pixel_uncertainty(flat_ds_pixel, flat_dem_pixel, thresh, method=\"quantile\")\n",
    "    out_mad.append(uncertainty_mad.item())\n",
    "    out_q.append(uncertainty_q.item())\n",
    "    \n",
    "plt.plot(thresholds, out_mad)\n",
    "plt.plot(thresholds, out_q)"
   ]
  },
  {
   "cell_type": "code",
   "execution_count": null,
   "id": "5bc49848-5868-4599-93bc-9848b48b8b8d",
   "metadata": {},
   "outputs": [],
   "source": []
  },
  {
   "cell_type": "code",
   "execution_count": null,
   "id": "88543c3b-bf4a-40b6-98b2-fe8e21da867b",
   "metadata": {},
   "outputs": [],
   "source": [
    "# Calculate elevation\n",
    "def elev_cert(interval_ds_pixel, flat_ds_pixel, thresh):\n",
    "    elevation = interval_ds_pixel.tide_m.where(interval_ds_pixel.ndwi <= thresh).max()\n",
    "    misclassified_wet = flat_ds_pixel.where(\n",
    "        (flat_ds_pixel.ndwi > thresh) & (flat_ds_pixel.tide_m < elevation)\n",
    "    )\n",
    "    misclassified_dry = flat_ds_pixel.where(\n",
    "        (flat_ds_pixel.ndwi < thresh) & (flat_ds_pixel.tide_m > elevation)\n",
    "    )\n",
    "    elev_min = misclassified_wet.tide_m.quantile(0.25, method=\"higher\")\n",
    "    elev_max = misclassified_dry.tide_m.quantile(0.75, method=\"lower\")\n",
    "    return (elev_max - elev_min).item()\n",
    "\n",
    "thresholds = np.linspace(-0.1, 0.2, 100)\n",
    "out = []\n",
    "for thresh in thresholds:\n",
    "    out.append(elev_cert(interval_ds_pixel, flat_ds_pixel, thresh=thresh))\n",
    "    \n",
    "plt.plot(thresholds, out)"
   ]
  },
  {
   "cell_type": "code",
   "execution_count": null,
   "id": "5beab68f-b8cd-4940-9c23-c1f92007812d",
   "metadata": {},
   "outputs": [],
   "source": [
    "# Calculate elevation\n",
    "thresh=0.05\n",
    "elevation = interval_ds_pixel.tide_m.where(interval_ds_pixel.ndwi <= thresh).max()\n",
    "# misclassified_wet = flat_ds_pixel.where(\n",
    "#     (flat_ds_pixel.ndwi > thresh) & (flat_ds_pixel.tide_m < elevation)\n",
    "# )\n",
    "# misclassified_dry = flat_ds_pixel.where(\n",
    "#     (flat_ds_pixel.ndwi < thresh) & (flat_ds_pixel.tide_m > elevation)\n",
    "# )\n",
    "# elev_min = misclassified_wet.tide_m.quantile(0.25, method=\"higher\")\n",
    "# elev_max = misclassified_dry.tide_m.quantile(0.75, method=\"lower\")\n",
    "\n",
    "misclassified_ds = flat_ds_pixel.where(\n",
    "    ((flat_ds_pixel.ndwi > thresh) & (flat_ds_pixel.tide_m < elevation))\n",
    "    | ((flat_ds_pixel.ndwi < thresh) & (flat_ds_pixel.tide_m > elevation))\n",
    ")\n",
    "\n",
    "testing = misclassified_ds.tide_m.quantile((0.25, 0.75), method=\"weibull\")\n",
    "elev_min = np.minimum(testing.sel(quantile=0.25), elevation)\n",
    "elev_max = np.maximum(testing.sel(quantile=0.75), elevation)\n",
    "\n",
    "fig, ax = plt.subplots(1, 1)\n",
    "flat_ds_df.plot.scatter(x=\"tide_m\", y=\"ndwi\", c=\"black\", alpha=1, s=1, ax=ax)\n",
    "# misclassified_wet.to_dataframe()[[\"tide_m\", \"ndwi\"]].plot.scatter(x=\"tide_m\", y=\"ndwi\", c=\"red\", alpha=1, s=3, ax=ax)\n",
    "# misclassified_dry.to_dataframe()[[\"tide_m\", \"ndwi\"]].plot.scatter(x=\"tide_m\", y=\"ndwi\", c=\"red\", alpha=1, s=3, ax=ax)\n",
    "interval_ds_df.plot(x=\"tide_m\", y=\"ndwi\", c=\"darkorange\", ax=ax, lw=3)\n",
    "ax.axhline(thresh, color=\"black\", linestyle=\"--\", lw=1.5)\n",
    "ax.axvline(elevation, color=\"black\", linestyle=\"--\", lw=1.5)\n",
    "ax.axvspan(elev_min, elev_max, alpha=0.2, color='grey')\n",
    "\n",
    "\n",
    "#         1. \"inverted_cdf\" (*)\n",
    "#         2. \"averaged_inverted_cdf\" (*)\n",
    "#         3. \"closest_observation\" (*)\n",
    "#         4. \"interpolated_inverted_cdf\" (*)\n",
    "#         5. \"hazen\" (*)\n",
    "#         6. \"weibull\" (*)\n",
    "#         7. \"linear\"  (default)\n",
    "#         8. \"median_unbiased\" (*)\n",
    "#         9. \"normal_unbiased\" (*)\n",
    "\n",
    "#     The first three methods are discontiuous. The following discontinuous\n",
    "#     variations of the default \"linear\" (7.) option are also available:\n",
    "\n",
    "#         * \"lower\"\n",
    "#         * \"higher\"\n",
    "#         * \"midpoint\"\n",
    "#         * \"nearest\""
   ]
  },
  {
   "cell_type": "code",
   "execution_count": null,
   "id": "e1cb3f48-2184-441c-9de5-4e61161e30de",
   "metadata": {},
   "outputs": [],
   "source": [
    "smoothed_ds = interval_ds.copy()   #.rolling(interval=20, center=False, min_periods=1).mean()"
   ]
  },
  {
   "cell_type": "code",
   "execution_count": null,
   "id": "c4d24609-36dd-465b-91fd-27fa5ce395b0",
   "metadata": {},
   "outputs": [],
   "source": [
    "smoothed_ds = smoothed_ds.interp(coords={'interval': np.linspace(1, 114, 300)})\n"
   ]
  },
  {
   "cell_type": "code",
   "execution_count": null,
   "id": "c23c96de-0b16-4615-98e0-1f82d97c2bf5",
   "metadata": {},
   "outputs": [],
   "source": [
    "smoothed_ds = interval_ds.rolling(interval=10, center=False, min_periods=1).mean()"
   ]
  },
  {
   "cell_type": "code",
   "execution_count": null,
   "id": "454f4108-e6c2-4952-94b5-7916ebcfa29a",
   "metadata": {},
   "outputs": [],
   "source": [
    "smooth_radius = 20\n",
    "ndwi_thresh = 0.1\n",
    "\n",
    "\n",
    "########################\n",
    "# Elevation extraction #\n",
    "########################\n",
    "\n",
    "# Smooth tidal intervals using a rolling mean\n",
    "if smooth_radius > 1:\n",
    "    smoothed_ds = interval_ds.rolling(\n",
    "        interval=smooth_radius, center=False, min_periods=1\n",
    "    ).mean()\n",
    "else:\n",
    "    smoothed_ds = interval_ds\n",
    "\n",
    "# Identify the max tide per pixel where rolling median NDWI == land.\n",
    "# This represents the tide height at which the pixel transitions from\n",
    "# dry to wet as it gets inundated by tidal waters.\n",
    "tide_dry = smoothed_ds.tide_m.where(smoothed_ds.ndwi <= ndwi_thresh)\n",
    "tide_thresh = tide_dry.max(dim=\"interval\")\n",
    "\n",
    "# Remove any pixel where tides max out (i.e. always land)\n",
    "tide_max = smoothed_ds.tide_m.max(dim=\"interval\")\n",
    "always_dry = tide_thresh >= tide_max\n",
    "flat_elev = tide_thresh.where(~always_dry).drop(\"variable\")\n",
    "\n",
    "\n",
    "###############\n",
    "# Uncertainty #\n",
    "###############\n",
    "\n",
    "# Identify observations that were misclassifed by our modelled\n",
    "# elevation: e.g. wet observations (NDWI > threshold) at lower tide\n",
    "# heights than our modelled elevation, or dry observations (NDWI <\n",
    "# threshold) at higher tide heights than our modelled elevation.\n",
    "misclassified_wet = (flat_ds.ndwi > ndwi_thresh) & (flat_ds.tide_m < flat_elev)\n",
    "misclassified_dry = (flat_ds.ndwi < ndwi_thresh) & (flat_ds.tide_m > flat_elev)\n",
    "misclassified_all = misclassified_wet | misclassified_dry\n",
    "misclassified_ds = flat_ds.where(misclassified_all).drop(\"variable\")\n",
    "\n",
    "# Calculate interquartile tide height range of our misclassified\n",
    "# observations to obtain lower and upper uncertainty bounds around our\n",
    "# modelled elevation.\n",
    "misclassified_q = xr_quantile(\n",
    "    src=misclassified_ds.dropna(dim=\"time\", how=\"all\")[[\"tide_m\"]],\n",
    "    quantiles=[0.25, 0.75],\n",
    "    nodata=np.nan,\n",
    ").tide_m.fillna(flat_elev)\n",
    "\n",
    "# Clip min and max uncertainty to modelled elevation to ensure lower\n",
    "# bounds are not above modelled elevation (and vice versa)\n",
    "flat_elev_low = np.minimum(misclassified_q.sel(quantile=0.25, drop=True), flat_elev)\n",
    "flat_elev_high = np.maximum(misclassified_q.sel(quantile=0.75, drop=True), flat_elev)\n",
    "\n",
    "# Combine into a single xr.Dataset\n",
    "ds = xr.merge(\n",
    "    [\n",
    "        flat_elev.rename(\"elevation\"),\n",
    "        flat_elev_low.rename(\"elevation_low\"),\n",
    "        flat_elev_high.rename(\"elevation_high\"),\n",
    "    ]\n",
    ")\n",
    "\n",
    "# Subtract low from high DEM to get a single confidence layer\n",
    "# Note: This may produce unexpected results at the top and bottom\n",
    "# of the intertidal zone, as the low and high DEMs may not be\n",
    "# currently be properly masked to remove always wet/dry terrain\n",
    "ds[\"elevation_uncertainty\"] = ds.elevation_high - ds.elevation_low"
   ]
  },
  {
   "cell_type": "code",
   "execution_count": null,
   "id": "91e7d535-7c22-44fc-bd22-7a643822782a",
   "metadata": {},
   "outputs": [],
   "source": [
    "misclassified_wet = (flat_ds.ndwi > thresh) & (flat_ds.tide_m < flat_dem)\n",
    "misclassified_dry = (flat_ds.ndwi < thresh) & (flat_ds.tide_m > flat_dem)\n",
    "misclassified_all = misclassified_wet | misclassified_dry\n",
    "misclassified_ds = flat_ds.where(misclassified_all)\n",
    "\n",
    "# misclassified_q = misclassified_ds.tide_m.quantile(\n",
    "#     (0.25, 0.75), dim=\"time\", method=\"midpoint\"\n",
    "# ).fillna(flat_dem)\n",
    "misclassified_q = xr_quantile(\n",
    "    src=misclassified_ds.dropna(dim=\"time\", how=\"all\")[[\"tide_m\"]],\n",
    "    quantiles=[0.25, 0.75],\n",
    "    nodata=np.nan,\n",
    ").tide_m.fillna(flat_dem)\n",
    "elev_min = np.minimum(misclassified_q.sel(quantile=0.25), flat_dem)\n",
    "elev_max = np.maximum(misclassified_q.sel(quantile=0.75), flat_dem)\n",
    "\n",
    "dem_low = elev_min.unstack(\"z\").reindex_like(satellite_ds).transpose(\"y\", \"x\")\n",
    "dem_high = elev_max.unstack(\"z\").reindex_like(satellite_ds).transpose(\"y\", \"x\")\n"
   ]
  },
  {
   "cell_type": "code",
   "execution_count": null,
   "id": "943bac44-6f6a-438b-bf26-2f113516a7bc",
   "metadata": {},
   "outputs": [],
   "source": [
    "# misclassified_all.mean(dim='time').unstack(\"z\").reindex_like(satellite_ds).transpose(\"y\", \"x\").plot()"
   ]
  },
  {
   "cell_type": "code",
   "execution_count": null,
   "id": "c5176dc1-e122-41ab-83a9-d7552073f601",
   "metadata": {},
   "outputs": [],
   "source": [
    "(dem_high - dem_low).rename('Uncertainty (m)').plot.imshow(cmap='inferno', interpolation='bilinear', size=8, robust=True)\n",
    "plt.gca().set_facecolor('#2E2E2E')\n",
    "plt.gca().set_title('Per-pixel uncertainty')"
   ]
  },
  {
   "cell_type": "code",
   "execution_count": null,
   "id": "87c3d5f6-ed8a-47f5-9cbf-2dbbe3b50c1a",
   "metadata": {},
   "outputs": [],
   "source": [
    "dem.odc.write_cog('testing_elevation.tif', overwrite=True)\n",
    "# dem_low.odc.write_cog('testing_elevation_low.tif', overwrite=True)\n",
    "# dem_high.odc.write_cog('testing_elevation_high.tif', overwrite=True)"
   ]
  },
  {
   "cell_type": "code",
   "execution_count": null,
   "id": "2463255f-14e9-430d-a033-c081e41ecd21",
   "metadata": {},
   "outputs": [],
   "source": []
  },
  {
   "cell_type": "code",
   "execution_count": null,
   "id": "b236186b-afa7-4707-8b4d-a6e8eae48233",
   "metadata": {},
   "outputs": [],
   "source": [
    "# .unstack(\"z\").reindex_like(satellite_ds).transpose(\"y\", \"x\", \"quantile\")"
   ]
  },
  {
   "cell_type": "code",
   "execution_count": null,
   "id": "0fd343e2-3a37-4850-8895-3569348b3b5b",
   "metadata": {},
   "outputs": [],
   "source": [
    "misclassified_wet = flat_ds.where(\n",
    "    (flat_ds.ndwi > thresh) & (flat_ds.tide_m < flat_dem)\n",
    ")\n",
    "misclassified_dry = flat_ds.where(\n",
    "    (flat_ds.ndwi < thresh) & (flat_ds.tide_m > flat_dem)\n",
    ")\n",
    "elev_min = misclassified_wet.tide_m.quantile(0.25, dim='time', method=\"midpoint\")\n",
    "elev_max = misclassified_dry.tide_m.quantile(0.75, dim='time', method=\"midpoint\")\n",
    "\n",
    "dem_low = elev_min.unstack(\"z\").reindex_like(satellite_ds).transpose(\"y\", \"x\").fillna(dem)\n",
    "dem_high = elev_max.unstack(\"z\").reindex_like(satellite_ds).transpose(\"y\", \"x\").fillna(dem)"
   ]
  },
  {
   "cell_type": "code",
   "execution_count": null,
   "id": "e5a36c33-49e9-4bee-9ff1-1b32d3dc307e",
   "metadata": {},
   "outputs": [],
   "source": [
    "(dem_high - dem_low).rename('Uncertainty (m)').plot.imshow(cmap='inferno', interpolation='bilinear', size=8, robust=True)\n",
    "plt.gca().set_facecolor('#2E2E2E')\n",
    "plt.gca().set_title('Per-pixel uncertainty')"
   ]
  },
  {
   "cell_type": "code",
   "execution_count": null,
   "id": "cc04670a-0895-4fde-9cd0-fff72817944c",
   "metadata": {},
   "outputs": [],
   "source": [
    "(dem_high - dem_low).rename('Uncertainty (m)').plot.imshow(cmap='inferno', interpolation='bilinear', size=8, robust=True)\n",
    "plt.gca().set_facecolor('#2E2E2E')\n",
    "plt.gca().set_title('Per-pixel uncertainty')\n"
   ]
  },
  {
   "cell_type": "code",
   "execution_count": null,
   "id": "00ebde6a-2619-4a4a-8981-dc5368832375",
   "metadata": {},
   "outputs": [],
   "source": [
    "(dem_high - dem_low).rename('Uncertainty (m)').odc.write_cog('test.tif', overwrite=True)"
   ]
  },
  {
   "cell_type": "code",
   "execution_count": null,
   "id": "d835f2d3-777e-43ed-b75e-91b9898d222e",
   "metadata": {},
   "outputs": [],
   "source": [
    "dem.odc.write_cog('test_dem.tif')"
   ]
  },
  {
   "cell_type": "code",
   "execution_count": null,
   "id": "7f623146-b7ca-40e2-a99e-b59b4215a6eb",
   "metadata": {},
   "outputs": [],
   "source": [
    "dem.plot()"
   ]
  },
  {
   "cell_type": "code",
   "execution_count": null,
   "id": "331f4577-1bde-44e5-b689-5c278cd50397",
   "metadata": {},
   "outputs": [],
   "source": [
    "x, y = transect.interpolate(0.7, normalized=True).coords.xy\n",
    "interval_ds_pixel = interval_ds_unstacked.sel(x=x, y=y, method='nearest')\n",
    "rate = interval_ds_pixel.ndwi.rolling(interval=20).mean().differentiate('interval')\n",
    "change = rate.differentiate('interval')\n",
    "min_change = change.argmin()\n",
    "max_change = rate.isel(interval=slice(None, min_change.item())).argmax()\n",
    "\n",
    "interval_ds_pixel.isel(interval=max_change).to_dataframe()[['tide_m', 'ndwi', 'ndwi_std']].plot.scatter(x='tide_m', y='ndwi', zorder=5, s=30)\n",
    "interval_ds_pixel.isel(interval=min_change).to_dataframe()[['tide_m', 'ndwi', 'ndwi_std']].plot.scatter(x='tide_m', y='ndwi', zorder=5, s=30, ax=plt.gca())\n",
    "interval_ds_pixel.to_dataframe()[['tide_m', 'ndwi', 'ndwi_std']].plot(x='tide_m', y='ndwi', c='darkorange', lw=3, ax=plt.gca())"
   ]
  },
  {
   "cell_type": "code",
   "execution_count": null,
   "id": "27703b56-42e6-409c-91e5-a0f985c2430f",
   "metadata": {},
   "outputs": [],
   "source": [
    "rate.isel(interval=slice(None, min_change.item())).plot()"
   ]
  },
  {
   "cell_type": "code",
   "execution_count": null,
   "id": "2166a1c0-263c-42b5-8855-e213b1bc192a",
   "metadata": {},
   "outputs": [],
   "source": [
    "\n"
   ]
  },
  {
   "cell_type": "code",
   "execution_count": null,
   "id": "8f8e5a09-d4d1-44e5-a948-050101517851",
   "metadata": {},
   "outputs": [],
   "source": [
    "interval_ds_df.derivitive('interval').plot()"
   ]
  },
  {
   "cell_type": "code",
   "execution_count": null,
   "id": "bd19da0c-ebd6-4814-9b29-0452ede28f8f",
   "metadata": {},
   "outputs": [],
   "source": [
    "accumulated height gain along x dimension"
   ]
  },
  {
   "cell_type": "code",
   "execution_count": null,
   "id": "b063ceca-3f4c-4527-8e2d-1c7302ef1c78",
   "metadata": {},
   "outputs": [],
   "source": [
    "flat_ds_unstacked.sel(x=x, y=y, method='nearest')  #.rolling(time=20, min_periods=1).median()."
   ]
  },
  {
   "cell_type": "code",
   "execution_count": null,
   "id": "ae1779de-6dd1-4ccc-b832-cb5fd00c578f",
   "metadata": {},
   "outputs": [],
   "source": [
    "# interval_ds_df.ndwi.plot.hist(bins=30)"
   ]
  },
  {
   "cell_type": "code",
   "execution_count": null,
   "id": "18e8b969-2078-414b-befc-1a135031f1a7",
   "metadata": {},
   "outputs": [],
   "source": [
    "# x, y = LineString([start, end]).interpolate(0.0, normalized=True).coords.xy\n",
    "# interval_ds_df = interval_ds_unstacked.sel(x=x, y=y, method='nearest')  #.to_dataframe()[['tide_m', 'ndwi', 'ndwi_std']]\n",
    "# interval_ds_df.ndwi.differentiate(\"interval\").plot()  \n",
    "# interval_ds_df.ndwi.differentiate(\"interval\").differentiate(\"interval\").plot()   #.plot() .rolling(interval=5, center=True, min_periods=5).mean()"
   ]
  },
  {
   "cell_type": "code",
   "execution_count": null,
   "id": "8795e431-5834-4b39-a10b-3ec540385b27",
   "metadata": {},
   "outputs": [],
   "source": [
    "# from random import randint\n",
    "# flat_ds_unstacked.isel(z=randint(0, 10))"
   ]
  },
  {
   "cell_type": "markdown",
   "id": "491ffdcf-d76b-4acf-bd9b-95ac2235fa6a",
   "metadata": {},
   "source": [
    "### Investigate faster ways to do rolling median"
   ]
  },
  {
   "cell_type": "code",
   "execution_count": null,
   "id": "579466ac-b5bc-40f0-bf7c-c176366b39ee",
   "metadata": {},
   "outputs": [],
   "source": [
    "windows_n=100\n",
    "window_prop_tide=0.15\n",
    "\n",
    "tide_max = flat_ds.tide_m.max(dim=\"time\")\n",
    "tide_min = flat_ds.tide_m.min(dim=\"time\")\n",
    "tide_range = tide_max - tide_min\n",
    "\n",
    "window_radius_tide = tide_range * window_prop_tide\n",
    "window_spacing_tide = tide_range / windows_n\n",
    "window_offset = int((windows_n * window_prop_tide) / 2.0)\n",
    "\n",
    "i= 50\n",
    "thresh_centre = tide_min + (i * window_spacing_tide)\n",
    "thresh_min = thresh_centre - window_radius_tide\n",
    "thresh_max = thresh_centre + window_radius_tide"
   ]
  },
  {
   "cell_type": "code",
   "execution_count": null,
   "id": "1595d99e-0400-4f4c-b203-eb17c7a1c43d",
   "metadata": {},
   "outputs": [],
   "source": [
    "import multiprocess as mp"
   ]
  },
  {
   "cell_type": "code",
   "execution_count": null,
   "id": "76fb293a-1807-4b95-aff8-c4e3b96e4477",
   "metadata": {},
   "outputs": [],
   "source": [
    "from intertidal.elevation import rolling_tide_window"
   ]
  },
  {
   "cell_type": "code",
   "execution_count": null,
   "id": "d6bf3516-b26d-46f2-968e-fc2f1aab73b6",
   "metadata": {},
   "outputs": [],
   "source": [
    "from concurrent.futures import ProcessPoolExecutor\n",
    "import time\n",
    "\n",
    "# Parallelise pixel-based rolling median using `concurrent.futures`\n",
    "with ProcessPoolExecutor(max_workers=30) as executor:\n",
    "    # Create rolling intervals to iterate over\n",
    "    \n",
    "    def foo_pool(x):\n",
    "        # time.sleep(0.2)\n",
    "        return satellite_ds.ndwi * satellite_ds.ndwi * satellite_ds.ndwi\n",
    "\n",
    "    # Place itervals in a iterable along with params for each call\n",
    "    to_iterate = range(10)\n",
    "\n",
    "    # Apply func in parallel\n",
    "    out_list = list(\n",
    "        # tqdm(\n",
    "            executor.map(foo_pool, to_iterate),\n",
    "            # total=len(list(rolling_intervals)),\n",
    "        # )\n",
    "    )"
   ]
  },
  {
   "cell_type": "code",
   "execution_count": null,
   "id": "e65cd7f2-abdb-4c62-b2fb-eb3e98d8d832",
   "metadata": {},
   "outputs": [],
   "source": [
    "# import multiprocessing as mp\n",
    "import time\n",
    "\n",
    "def foo_pool(x):\n",
    "    time.sleep(0.2)\n",
    "    return x*x\n",
    "\n",
    "result_list = []\n",
    "def log_result(result):\n",
    "    # This is called whenever foo_pool(i) returns a result.\n",
    "    # result_list is modified only by the main process, not the pool workers.\n",
    "    result_list.append(result)\n",
    "\n",
    "def apply_async_with_callback():\n",
    "    pool = mp.Pool(processes=15)\n",
    "    for i in range(5):\n",
    "        pool.apply_async(rolling_tide_window, args = (i, flat_ds, window_spacing_tide, window_radius_tide, tide_min ), callback = log_result)\n",
    "    pool.close()\n",
    "    pool.join()\n",
    "    print(result_list)\n",
    "\n",
    "if __name__ == '__main__':\n",
    "    apply_async_with_callback()"
   ]
  },
  {
   "cell_type": "code",
   "execution_count": null,
   "id": "a250e39a-cd16-40be-a650-037a4119e9cd",
   "metadata": {},
   "outputs": [],
   "source": [
    "0.2 * 100 / 10"
   ]
  },
  {
   "cell_type": "code",
   "execution_count": null,
   "id": "0d0a394c-e069-4042-9f5c-b287d89a6f65",
   "metadata": {},
   "outputs": [],
   "source": [
    "# flat_ds.tide_m.dropna(dim='time', how='all')"
   ]
  },
  {
   "cell_type": "code",
   "execution_count": null,
   "id": "17dc7ecd-b329-433b-8564-353c1aca5530",
   "metadata": {},
   "outputs": [],
   "source": [
    "max_tide = flat_ds.tide_m.max(dim='z')\n",
    "min_tide = flat_ds.tide_m.min(dim='z')"
   ]
  },
  {
   "cell_type": "code",
   "execution_count": null,
   "id": "a4f54902-995d-4d6c-a1b6-0b2dc67a97a7",
   "metadata": {},
   "outputs": [],
   "source": [
    "%%timeit -n 1 -r 1\n",
    "flat_ds.where(\n",
    "        (flat_ds.tide_m >= thresh_min) & (flat_ds.tide_m <= thresh_max)\n",
    "    )"
   ]
  },
  {
   "cell_type": "code",
   "execution_count": null,
   "id": "9bd2a123-a086-47b3-9170-431d3e883ce7",
   "metadata": {},
   "outputs": [],
   "source": [
    "tide_m_np = flat_ds.tide_m.values.copy()\n",
    "ndwi_np = flat_ds.ndwi.values.copy()\n",
    "thresh_min_np = thresh_min.values.copy() \n",
    "thresh_max_np = thresh_max.values.copy() "
   ]
  },
  {
   "cell_type": "code",
   "execution_count": null,
   "id": "dea9bbbc-7ee4-46eb-9af7-2adcaa25b347",
   "metadata": {},
   "outputs": [],
   "source": [
    "flat_ds.copy(data="
   ]
  },
  {
   "cell_type": "code",
   "execution_count": null,
   "id": "cba5a4e9-105f-4330-8332-8a278aedafdc",
   "metadata": {},
   "outputs": [],
   "source": [
    "%%timeit -n 1 -r 1\n",
    "bool_array = (tide_m_np >= thresh_min_np) & (tide_m_np <= thresh_max_np)\n",
    "# np.where(bool_array, tide_m_np, np.nan)\n",
    "# np.where(bool_array, ndwi_np, np.nan)\n",
    "ndwi_np[bool_array]\n",
    "tide_m_np[bool_array]"
   ]
  },
  {
   "cell_type": "code",
   "execution_count": null,
   "id": "d245a65e-a9f5-4567-8f7f-d312eb7cfd11",
   "metadata": {},
   "outputs": [],
   "source": [
    "%%timeit -n 1 -r 1\n",
    "\n",
    "masked_ds = flat_ds.where(\n",
    "        (flat_ds.tide_m >= thresh_min) & (flat_ds.tide_m <= thresh_max)\n",
    "    )\n",
    "\n",
    "# valid = ~masked_ds.ndwi.isnull()\n",
    "# masked_ds = masked_ds.sel(time = valid.mean(dim='z') > 0)\n",
    "\n",
    "\n",
    "# ds_agg = xr_quantile(src=masked_ds, quantiles=[0.1, 0.5, 0.9], nodata=np.nan)\n",
    "masked_ds.median(dim='time')\n",
    "masked_ds.ndwi.std(dim=\"time\")\n",
    "# valid.sum(dim=\"time\")"
   ]
  },
  {
   "cell_type": "code",
   "execution_count": null,
   "id": "34001a16-bb1c-4091-8388-555a65ad04ec",
   "metadata": {},
   "outputs": [],
   "source": []
  },
  {
   "cell_type": "code",
   "execution_count": null,
   "id": "6993f11b-1926-446e-b6d5-a73943f09cfd",
   "metadata": {},
   "outputs": [],
   "source": [
    "# masked_ds.dropna(dim='time', how='all')    #.sel((masked_ds.tide_m.isnull()).mean(dim='z') == 1)"
   ]
  },
  {
   "cell_type": "code",
   "execution_count": null,
   "id": "6ab7c217-4fad-4abc-be9b-a0867c188638",
   "metadata": {},
   "outputs": [],
   "source": [
    "import os\n",
    "os.cpu_count()"
   ]
  },
  {
   "cell_type": "code",
   "execution_count": null,
   "id": "d836d856-d280-4cdb-a99a-b123e058c0b0",
   "metadata": {},
   "outputs": [],
   "source": []
  },
  {
   "cell_type": "code",
   "execution_count": null,
   "id": "bf31d66c-2086-4ff9-8536-df639574c90e",
   "metadata": {},
   "outputs": [],
   "source": [
    "# %%timeit -n 1 -r 1  # original = 1 min 23; after = \n",
    "interval_ds = pixel_rolling_median(\n",
    "    flat_ds, windows_n=100,  # default 100\n",
    "    window_prop_tide=0.15,  # default 0.15\n",
    "    max_workers=64  # default 64\n",
    ")"
   ]
  },
  {
   "cell_type": "code",
   "execution_count": null,
   "id": "df25b11b-1dfa-4f8b-a943-731e51a2755d",
   "metadata": {},
   "outputs": [],
   "source": [
    "import numpy as np\n",
    "import xarray as xr\n",
    "from timeit import timeit\n",
    "import numba as nb\n",
    "\n",
    "\n",
    "def time_solution(solution, number=1):\n",
    "    return timeit(\n",
    "        f\"{solution.__name__}(data, threshold_value, low, high)\",\n",
    "        setup=f\"from __main__ import data, threshold_value, low, high, {solution.__name__}\",\n",
    "        number=number,\n",
    "    )\n",
    "\n",
    "\n",
    "def your_solution(data, threshold_value, low, high):\n",
    "    ds = xr.Dataset(\n",
    "        data_vars={\n",
    "            \"a\": xr.DataArray(data, dims=(\"time\", \"y\", \"x\")),\n",
    "            \"b\": xr.DataArray(threshold_value, dims=(\"time\", \"y\", \"x\")),\n",
    "        }\n",
    "    )\n",
    "\n",
    "    result = ds.a.where((ds.b > low) & (ds.b < high)).median(dim=\"time\")\n",
    "\n",
    "    return result\n",
    "\n",
    "\n",
    "@nb.jit(\n",
    "    \"float32[:, :](float32[::1, :, :], float32[::1, :, :], float32[::1, :, :], float32[::1, :, :])\",\n",
    "    nopython=True,\n",
    "    nogil=True,\n",
    ")\n",
    "def numba_magic(data, threshold_value, low, high):\n",
    "    output = np.empty(data.shape[1:], dtype=np.float32)\n",
    "\n",
    "    for height in range(data.shape[1]):\n",
    "        for width in range(data.shape[2]):\n",
    "            threshold = threshold_value[:, height, width]\n",
    "            mask = (low[:, height, width] < threshold) & (\n",
    "                threshold < high[:, height, width]\n",
    "            )\n",
    "            buffer = np.where(mask, data[:, height, width], np.nan)\n",
    "            output[height, width] = np.nanmedian(buffer)\n",
    "\n",
    "    return output\n",
    "\n",
    "\n",
    "# Time solutions\n",
    "# ==============\n",
    "\n",
    "shape = (100, 3000, 3000)\n",
    "rng = np.random.default_rng()\n",
    "data = rng.random(shape).astype(np.float32, order=\"F\")\n",
    "threshold_value = rng.random(shape).astype(np.float32, order=\"F\")\n",
    "\n",
    "random_vals = (rng.random(shape) / 10).astype(np.float32, order=\"F\")\n",
    "low = 0.5 - random_vals\n",
    "high = 0.5 + random_vals\n",
    "\n",
    "\n",
    "# assert equality of solutions\n",
    "expected = np.asarray(your_solution(data, threshold_value, low, high))\n",
    "actual_numba = numba_magic(data, threshold_value, low, high)\n",
    "assert np.allclose(expected, actual_numba, equal_nan=True)\n",
    "\n",
    "# compare timings of solutions\n",
    "repeats = 1\n",
    "print(\"\"\"\n",
    "Timings\n",
    "-------\"\"\")\n",
    "print(f\"Your Approach: {time_solution(your_solution, repeats)/repeats:.4f} s\")\n",
    "print(f\"Numba JIT: {time_solution(numba_magic, repeats)/repeats:.4f} s\")"
   ]
  },
  {
   "cell_type": "code",
   "execution_count": null,
   "id": "216517c5-cf0c-4acd-809b-71c7e8ab4ab2",
   "metadata": {},
   "outputs": [],
   "source": [
    "%%timeit -n 1 -r 1\n",
    "masked_ds = flat_ds.tide_m.where(\n",
    "        (flat_ds.tide_m >= 0) & (flat_ds.tide_m <= 0.5)\n",
    ")"
   ]
  },
  {
   "cell_type": "code",
   "execution_count": null,
   "id": "d5d6bac1-5bf8-4bb7-9574-a20616129499",
   "metadata": {},
   "outputs": [],
   "source": [
    "# flat_ds.tide_m.values.is\n",
    "a = flat_ds.tide_m.values.copy()\n"
   ]
  },
  {
   "cell_type": "code",
   "execution_count": null,
   "id": "a51e0ddc-6fb5-4c9f-9d66-35c9cda26dbb",
   "metadata": {},
   "outputs": [],
   "source": [
    "%%timeit -n 1 -r 1\n",
    "a[~((a >= 0) & (a <= 0.5))] = np.nan"
   ]
  },
  {
   "cell_type": "code",
   "execution_count": null,
   "id": "4d952fca-7740-49cd-8b39-f7fe014780e9",
   "metadata": {},
   "outputs": [],
   "source": [
    "np.allclose(a, masked_ds.values, equal_nan=True)"
   ]
  },
  {
   "cell_type": "markdown",
   "id": "e35f289a-279e-4f3a-82dc-ada62d9491aa",
   "metadata": {},
   "source": [
    "### Morphological cleaning to remove narrow inland streams"
   ]
  },
  {
   "cell_type": "code",
   "execution_count": null,
   "id": "3b9a2201-e674-433d-bacb-b981c98fe869",
   "metadata": {},
   "outputs": [],
   "source": [
    "# # Clean data using morphological opening to remove narrow inland \n",
    "# # streams and waterbodies\n",
    "# clean=[(\"opening\", 20), (\"dilation\", 10)]\n",
    "# to_keep = mask_cleanup(extents_da < 100, mask_filters=clean)\n",
    "# dem_clean = dem.where(to_keep)\n",
    "\n",
    "# # Export to file\n",
    "# dem_clean.odc.write_cog(\n",
    "#         fname=f\"data/interim/pixel_{fname}_{suffix}_cleaned.tif\", overwrite=True\n",
    "#     )"
   ]
  },
  {
   "cell_type": "code",
   "execution_count": null,
   "id": "96a2b486-92c8-4444-824b-40bc608d245d",
   "metadata": {},
   "outputs": [],
   "source": [
    "# test = ds.tide_m.mean(dim=['x', 'y'])"
   ]
  },
  {
   "cell_type": "markdown",
   "id": "66864247-5cbb-4a45-9b36-195824615b1d",
   "metadata": {},
   "source": [
    "### Remove water not attached to ocean"
   ]
  },
  {
   "cell_type": "code",
   "execution_count": null,
   "id": "1441451e-b70f-4ac5-9a2d-e1a7d826276f",
   "metadata": {},
   "outputs": [],
   "source": [
    "# from skimage.measure import label, regionprops"
   ]
  },
  {
   "cell_type": "code",
   "execution_count": null,
   "id": "36886e5d-fd86-4d06-b92f-842d23bd47e9",
   "metadata": {},
   "outputs": [],
   "source": [
    "# # First, break boolean array into unique, discrete regions/blobs\n",
    "# blobs = xr.apply_ufunc(label, to_keep, 0, False, 1)\n",
    "\n",
    "# # Get blob ID for each blob inside ocean area\n",
    "# ocean = dc.load(product=\"geodata_coast_100k\", like=ds.odc.geobox.compat).land == 0\n",
    "# ocean_blobs = np.unique(blobs.where(ocean, 0))\n",
    "\n",
    "# # Return only blobs that contained tide modelling point\n",
    "# ocean_mask = blobs.isin(ocean_blobs[ocean_blobs != 0])"
   ]
  },
  {
   "cell_type": "code",
   "execution_count": null,
   "id": "f9e398d7-a258-4b2a-a2f0-d1ae9436afa7",
   "metadata": {},
   "outputs": [],
   "source": [
    "# ocean_mask.plot()"
   ]
  },
  {
   "cell_type": "code",
   "execution_count": null,
   "id": "0caec496-a16a-47b8-bbad-360799bde26e",
   "metadata": {},
   "outputs": [],
   "source": [
    "# # First, break boolean array into unique, discrete regions/blobs\n",
    "# blobs = xr.apply_ufunc(label, ds, 1, False, 1)\n",
    "\n",
    "# # Get blob ID for each tidal modelling point\n",
    "# x = xr.DataArray(tide_points_gdf.geometry.x, dims=\"z\")\n",
    "# y = xr.DataArray(tide_points_gdf.geometry.y, dims=\"z\")\n",
    "# ocean_blobs = np.unique(blobs.interp(x=x, y=y, method=\"nearest\"))\n",
    "\n",
    "# # Return only blobs that contained tide modelling point\n",
    "# ocean_mask = blobs.isin(ocean_blobs[ocean_blobs != 0])\n",
    "\n",
    "# # Dilate mask so that we include land pixels on the inland side\n",
    "# # of each shoreline to ensure contour extraction accurately\n",
    "# # seperates land and water spectra\n",
    "# if dilation:\n",
    "#     ocean_mask = xr.apply_ufunc(binary_dilation, ocean_mask, disk(dilation))\n",
    "\n",
    "# return ocean_mask"
   ]
  },
  {
   "cell_type": "markdown",
   "id": "61606f79-c0fa-4b8d-95f4-8d299a567c9c",
   "metadata": {},
   "source": [
    "### Regression experiment"
   ]
  },
  {
   "cell_type": "code",
   "execution_count": null,
   "id": "d9dc6242-26d6-458c-802b-e6a2c8f1338f",
   "metadata": {},
   "outputs": [],
   "source": [
    "from dea_tools.temporal import lag_linregress_3D"
   ]
  },
  {
   "cell_type": "code",
   "execution_count": null,
   "id": "e31b78af-8280-45fc-9b2f-56108237010d",
   "metadata": {},
   "outputs": [],
   "source": [
    "ds_subset = interval_ds.where((interval_ds.ndwi > 0.05) & (interval_ds.ndwi < 0.25))\n",
    "linreg = lag_linregress_3D(x=ds_subset.tide_m, y=ds_subset.ndwi, first_dim='interval')"
   ]
  },
  {
   "cell_type": "code",
   "execution_count": null,
   "id": "99ddeb7b-64a3-4c82-8f6d-d87e36ee4df6",
   "metadata": {},
   "outputs": [],
   "source": [
    "# linreg.intercept.unstack(\"z\").reindex_like(ds).plot(robust=True)"
   ]
  },
  {
   "cell_type": "code",
   "execution_count": null,
   "id": "a3607175-b892-4f14-9329-1a5e42656d45",
   "metadata": {},
   "outputs": [],
   "source": [
    "# linreg.slope.unstack(\"z\").reindex_like(ds).plot(robust=True)"
   ]
  },
  {
   "cell_type": "code",
   "execution_count": null,
   "id": "242f8d35-3333-47a7-83e6-3fe8d86b39e2",
   "metadata": {},
   "outputs": [],
   "source": [
    "testing = ((0 - linreg.intercept) / linreg.slope).where(linreg.pval < 0.01).unstack(\"z\").reindex_like(ds)  #.plot.imshow(vmin=-1, vmax=0.5)"
   ]
  },
  {
   "cell_type": "code",
   "execution_count": null,
   "id": "33507437-0b1a-4ad1-8834-3fc605e95a21",
   "metadata": {},
   "outputs": [],
   "source": [
    "testing = testing.where(testing > ds_subset.tide_m.min())"
   ]
  },
  {
   "cell_type": "code",
   "execution_count": null,
   "id": "9d51ff42-4d82-48b3-8751-91aa579c4eb9",
   "metadata": {},
   "outputs": [],
   "source": [
    "testing.T.odc.write_cog(fname=f'data/interim/pixel_linreg7.tif', overwrite=True)"
   ]
  },
  {
   "cell_type": "code",
   "execution_count": null,
   "id": "7b078af3-5cdd-4d39-8ffe-33de9d949ea3",
   "metadata": {},
   "outputs": [],
   "source": [
    "y = mx + a\n",
    "(y - a) / m"
   ]
  },
  {
   "cell_type": "code",
   "execution_count": null,
   "id": "f834fe40-7d47-4218-a2f8-3f6582361fba",
   "metadata": {},
   "outputs": [],
   "source": [
    "ds.geobox"
   ]
  },
  {
   "cell_type": "code",
   "execution_count": null,
   "id": "24465187-7d64-4e97-81c3-d0535c79964f",
   "metadata": {},
   "outputs": [],
   "source": [
    "quantile_ds.tide_m.where(quantile_ds.ndwi <= 0.1).dropna(dim='z', how='all')"
   ]
  },
  {
   "cell_type": "code",
   "execution_count": null,
   "id": "64d4e443-df6b-444b-80ea-ca0378e36776",
   "metadata": {},
   "outputs": [],
   "source": [
    "(tide_argmax + 1).unstack(\"z\").reindex_like(ds).T.plot()"
   ]
  },
  {
   "cell_type": "code",
   "execution_count": null,
   "id": "ab176595-1b9f-46b0-9c29-dfd031d32b0e",
   "metadata": {},
   "outputs": [],
   "source": [
    "tide_dry.isel(interval=(tide_argmax - 1).clip(0, len(tide_dry.interval) - 1))"
   ]
  },
  {
   "cell_type": "code",
   "execution_count": null,
   "id": "1d9e2b79-22e6-4f62-a372-2962bf600326",
   "metadata": {},
   "outputs": [],
   "source": [
    "tide_dry.isel(tide_argmax)"
   ]
  },
  {
   "cell_type": "code",
   "execution_count": null,
   "id": "f59c8c6b-4bd4-4e72-891a-936baaf702ce",
   "metadata": {},
   "outputs": [],
   "source": []
  },
  {
   "cell_type": "code",
   "execution_count": null,
   "id": "4d769c1b-eb08-4d1d-8b89-900601fb86e7",
   "metadata": {},
   "outputs": [],
   "source": [
    "tide_argmax + 1"
   ]
  },
  {
   "cell_type": "code",
   "execution_count": null,
   "id": "2f325526-340f-46d5-a710-70a0dc7f826a",
   "metadata": {},
   "outputs": [],
   "source": [
    "tide_dry.dropna(dim='interval', how='all').argmax(dim='interval', axis=1)"
   ]
  },
  {
   "cell_type": "code",
   "execution_count": null,
   "id": "c67ff227-7b14-4efd-ae96-a633e7823928",
   "metadata": {},
   "outputs": [],
   "source": [
    "interval_ds"
   ]
  },
  {
   "cell_type": "code",
   "execution_count": null,
   "id": "ca991a0e-d5cd-40fa-8d7a-2a98dc13354c",
   "metadata": {},
   "outputs": [],
   "source": [
    "# # Output name\n",
    "# fname = 'testing1'\n",
    "# # fname = aoi.lower().replace(' ', '')\n",
    "\n",
    "# # Calculate \n",
    "# confidence = interval_ds.ndwi_std.mean(dim='interval')\n",
    "# min_thresh = (0 - 0.5 * confidence)\n",
    "# max_thresh = (0 + 0.5 * confidence)\n",
    "\n",
    "# for thresh_name, thesh in {'': 0, '_low': min_thresh, '_high': max_thresh}.items():\n",
    "    \n",
    "#     dem_fname = f'data/interim/pixel_dem_{fname}{thresh_name}.tif'\n",
    "#     print(f'Exporting {dem_fname}')\n",
    "    \n",
    "#     # Identify the max tide per pixel where NDWI == land\n",
    "#     tide_thresh = interval_ds.tide_m.where(interval_ds.ndwi <= thesh).max(dim='interval')\n",
    "#     tide_max = interval_ds.tide_m.max(dim='interval')\n",
    "    \n",
    "#     # Remove any pixel where tides max out (i.e. always land)\n",
    "#     dem = tide_thresh.where(tide_thresh < tide_max)\n",
    "    \n",
    "#     # Export DEM file  \n",
    "# #     dem.T.odc.write_cog(fname=dem_fname, overwrite=True)\n",
    "#     dem.where(~((freq > 0) & tide_thresh.isnull()), dem.min()).T.odc.write_cog(fname=dem_fname, overwrite=True)\n",
    "    \n",
    "\n",
    "# # Export NDWI standard deviation/confidence file\n",
    "# confidence.T.odc.write_cog(fname=f'data/interim/pixel_dem_{fname}_confidence.tif', overwrite=True)"
   ]
  },
  {
   "cell_type": "code",
   "execution_count": null,
   "id": "31145088-84ab-4924-b6b5-f4db1925d686",
   "metadata": {},
   "outputs": [],
   "source": [
    "# dem.where(~((freq > 0) & tide_thresh.isnull()), dem.min()).plot()"
   ]
  },
  {
   "cell_type": "code",
   "execution_count": null,
   "id": "6edca090-a367-41dc-add2-231515b35253",
   "metadata": {},
   "outputs": [],
   "source": [
    "# dem.where(~(tide_thresh.isnull() & (freq > 0.90)), dem.min()).plot()"
   ]
  },
  {
   "cell_type": "code",
   "execution_count": null,
   "id": "fdaf2f96-a5d2-475d-8857-d59583219412",
   "metadata": {},
   "outputs": [],
   "source": [
    "interval_ds.squeeze('quantile').unstack().sel(x=x,  y=y, method='nearest')"
   ]
  },
  {
   "cell_type": "code",
   "execution_count": null,
   "id": "32f32fb2-6d6b-49a3-a4b0-2336aa2ae823",
   "metadata": {},
   "outputs": [],
   "source": [
    "x, y = -1156521.12372093, 7712141.96160016\n",
    "ndwi_thresh = 0.0\n",
    "\n",
    "# Extract rolling and raw data\n",
    "pixel_rolling = interval_ds.squeeze('quantile').unstack().sortby([\"interval\", \"x\", \"y\"]).sel(x=x,  y=y, method='nearest')\n",
    "pixel_raw = ds.sel(x=x,  y=y, method='nearest').sortby('tide_m')\n",
    "# pixel_raw['ndwi'] = (pixel_raw.ndwi > 0.1).where(~pixel_raw.ndwi.isnull())\n",
    "# pixel_rolling = pixel_raw.rolling(time=100, min_periods=1).mean().to_dataframe().reset_index()\n",
    "pixel_raw = pixel_raw.to_dataframe().reset_index()\n",
    "\n",
    "# To plot\n",
    "pixel_to_plot = pixel_rolling\n",
    "pixel_to_plot_mean = pixel_to_plot.rolling(20, center=False, min_periods=None).mean()\n",
    "\n",
    "\n",
    "# pixel_savgol = pixel_rolling.copy()\n",
    "# pixel_savgol['ndwi'] = savgol_filter(pixel_savgol.ndwi.values, 50, 1)\n",
    "\n",
    "# Calculate thresholds\n",
    "land_tides = pixel_to_plot.where((pixel_to_plot.ndwi) < ndwi_thresh)\n",
    "max_ind = land_tides.tide_m.argmax()\n",
    "\n",
    "\n",
    "# Plot\n",
    "fig, ax = plt.subplots(1, 1, figsize=(10, 8))\n",
    "ax.scatter(x=pixel_raw.tide_m, y=pixel_raw.ndwi)\n",
    "ax.plot(pixel_to_plot.tide_m, pixel_to_plot.ndwi, '-o', color='orange')\n",
    "ax.plot(pixel_to_plot_mean.tide_m, pixel_to_plot_mean.ndwi, '-o', color='green')\n",
    "# ax.plot(pixel_savgol.tide_m, pixel_savgol.ndwi, '-o', color='blue')\n",
    "tide_thresh_1 = land_tides.tide_m.iloc[max_ind]\n",
    "ax.axvline(tide_thresh_1, color='orange', linestyle='--', lw=2, alpha=0.5)\n",
    "ax.axhline(ndwi_thresh, color='black', linestyle='--', lw=0.8, alpha=0.5)\n",
    "\n",
    "\n",
    "# clipped = pixel_rolling.where((pixel_rolling.ndwi > 0) & (pixel_rolling.ndwi < 0.1)).dropna()\n",
    "\n",
    "# ax.plot(clipped.tide_m, clipped.ndwi, '-o', color='green')\n",
    "# from scipy import stats\n",
    "# linreg = stats.linregress(x=clipped.tide_m, y=clipped.ndwi)\n",
    "# x = np.linspace(pixel_raw.tide_m.min(), pixel_raw.tide_m.max())\n",
    "# # ax.plot(x, [linreg.slope * i + linreg.intercept for i in x], color='green', linestyle='--')\n",
    "# tide_thresh_3 = (ndwi_thresh - linreg.intercept) / linreg.slope\n",
    "\n",
    "# rolling2 = pixel_raw.sort_values('tide_m').rolling(100, center=True, min_periods=1).median()\n",
    "# ax.plot(rolling2.tide_m, rolling2.ndwi, '-o', color='red')\n",
    "\n",
    "\n",
    "\n",
    "# tide_thresh_1 = land_tides.tide_m.iloc[max_ind]\n",
    "# tide_thresh_2 = pixel_rolling.tide_m.iloc[max_ind + 1]\n",
    "\n",
    "# ax.axvline(tide_thresh_1, color='orange', linestyle='--', lw=2, alpha=0.5)\n",
    "# ax.axvline(tide_thresh_2, color='red', linestyle='--', lw=0.8, alpha=0.5)\n",
    "# ax.axvline(tide_thresh_3, color='green', linestyle='--', lw=2, alpha=0.5)\n",
    "# ax.axhline(ndwi_thresh, color='black', linestyle='--', lw=0.8, alpha=0.5)"
   ]
  },
  {
   "cell_type": "code",
   "execution_count": null,
   "id": "17ed4878-fbd8-4e2e-a202-70d6f879ed3f",
   "metadata": {},
   "outputs": [],
   "source": [
    "x, y = 801144.14604825, 8189103.58475355\n",
    "ndwi_thresh = 0.1\n",
    "\n",
    "# Extract rolling and raw data\n",
    "pixel_rolling = interval_ds.squeeze('quantile').unstack().sel(x=x,  y=y, method='nearest').to_dataframe().reset_index()\n",
    "pixel_raw = ds.sel(x=x,  y=y, method='nearest').sortby('tide_m')\n",
    "# pixel_raw['ndwi'] = (pixel_raw.ndwi > 0.1).where(~pixel_raw.ndwi.isnull())\n",
    "# pixel_rolling = pixel_raw.rolling(time=100, min_periods=1).mean().to_dataframe().reset_index()\n",
    "pixel_raw = pixel_raw.to_dataframe().reset_index()\n",
    "\n",
    "# To plot\n",
    "pixel_to_plot = pixel_rolling\n",
    "pixel_to_plot_mean = pixel_to_plot.rolling(20, center=False, min_periods=None).mean()\n",
    "\n",
    "\n",
    "# pixel_savgol = pixel_rolling.copy()\n",
    "# pixel_savgol['ndwi'] = savgol_filter(pixel_savgol.ndwi.values, 50, 1)\n",
    "\n",
    "# Calculate thresholds\n",
    "land_tides = pixel_to_plot.where((pixel_to_plot.ndwi) < ndwi_thresh)\n",
    "max_ind = land_tides.tide_m.argmax()\n",
    "\n",
    "\n",
    "# Plot\n",
    "fig, ax = plt.subplots(1, 1, figsize=(10, 8))\n",
    "ax.scatter(x=pixel_raw.tide_m, y=pixel_raw.ndwi)\n",
    "ax.plot(pixel_to_plot.tide_m, pixel_to_plot.ndwi, '-o', color='orange')\n",
    "ax.plot(pixel_to_plot_mean.tide_m, pixel_to_plot_mean.ndwi, '-o', color='green')\n",
    "# ax.plot(pixel_savgol.tide_m, pixel_savgol.ndwi, '-o', color='blue')\n",
    "tide_thresh_1 = land_tides.tide_m.iloc[max_ind]\n",
    "ax.axvline(tide_thresh_1, color='orange', linestyle='--', lw=2, alpha=0.5)\n",
    "ax.axhline(ndwi_thresh, color='black', linestyle='--', lw=0.8, alpha=0.5)"
   ]
  },
  {
   "cell_type": "code",
   "execution_count": null,
   "id": "d96cc353-8609-4a50-905a-8cff2fd9a2c9",
   "metadata": {},
   "outputs": [],
   "source": [
    "(pixel_rolling.ndwi * (10* pixel_rolling.ndwi.abs())).plot()"
   ]
  },
  {
   "cell_type": "code",
   "execution_count": null,
   "id": "1ca2800b-2308-4cfb-a939-f0c331dd32ac",
   "metadata": {},
   "outputs": [],
   "source": [
    "ds_sub = ds.sel(x=x,  y=y, method='nearest')\n",
    "\n",
    "\n",
    "ds_sub.sel(time=(ds_sub.ndwi < 0) & (ds_sub.tide_m > 0.25)).time"
   ]
  },
  {
   "cell_type": "code",
   "execution_count": null,
   "id": "49259330-345a-4315-801a-ae5797529bf1",
   "metadata": {},
   "outputs": [],
   "source": [
    "from scipy.signal import savgol_filter\n",
    "yhat = savgol_filter(pixel_rolling.ndwi.values, 50, 2) # window size 51, polynomial order 3\n",
    "plt.plot(yhat)"
   ]
  },
  {
   "cell_type": "code",
   "execution_count": null,
   "id": "f51e1fbc-17b3-407f-babc-f2fd910d703d",
   "metadata": {},
   "outputs": [],
   "source": [
    "test = np.array([-0.5, -0.2, -0.01, 0, 0.01, 0.2, 0.5])"
   ]
  },
  {
   "cell_type": "code",
   "execution_count": null,
   "id": "ee240194-53e6-4d8f-80d4-1d356a06d165",
   "metadata": {},
   "outputs": [],
   "source": [
    "import scipy.stats\n",
    "plt.plot(scipy.stats.norm.pdf(test, loc=0, scale=1))"
   ]
  },
  {
   "cell_type": "code",
   "execution_count": null,
   "id": "42aedacb-8c10-4351-ac9f-be271a181c80",
   "metadata": {},
   "outputs": [],
   "source": [
    "from skimage import exposure"
   ]
  },
  {
   "cell_type": "code",
   "execution_count": null,
   "id": "638cac42-4035-4f06-8fc4-70f7c1ce2f3d",
   "metadata": {},
   "outputs": [],
   "source": [
    "plt.plot(test)"
   ]
  },
  {
   "cell_type": "code",
   "execution_count": null,
   "id": "fa403f63-e98d-40e0-bdbd-56bf2fa64549",
   "metadata": {},
   "outputs": [],
   "source": [
    "plt.plot(exposure.adjust_gamma(np.abs(test), 2))"
   ]
  },
  {
   "cell_type": "code",
   "execution_count": null,
   "id": "4194f061-be51-461a-8ed2-7c5d84762f32",
   "metadata": {},
   "outputs": [],
   "source": [
    "\n",
    "\n",
    "\n",
    "from scipy.signal import savgol_filter\n",
    "yhat = savgol_filter(pixel_raw.ndwi.values, 25, 3) # window size 51, polynomial order 3\n",
    "\n",
    "pixel_rolling.ndwi.plot()\n",
    "plt.plot(yhat)"
   ]
  },
  {
   "cell_type": "code",
   "execution_count": null,
   "id": "9fe9b85a-eb57-4c15-8d41-027c5dc04227",
   "metadata": {},
   "outputs": [],
   "source": [
    "pixel_raw.ndwi.plot()"
   ]
  },
  {
   "cell_type": "code",
   "execution_count": null,
   "id": "4d9c86fb-f015-4c4c-89f7-7f044a476e49",
   "metadata": {},
   "outputs": [],
   "source": []
  },
  {
   "cell_type": "code",
   "execution_count": null,
   "id": "d583eaa0-3bca-4790-a6d2-94a4b38e9db0",
   "metadata": {},
   "outputs": [],
   "source": [
    "interval_ds.ndwi2"
   ]
  },
  {
   "cell_type": "code",
   "execution_count": null,
   "id": "b8e4e841-acbd-4bb3-b7ae-ea5c41b06faf",
   "metadata": {},
   "outputs": [],
   "source": [
    "clipped_test = pixel_rolling.where((pixel_rolling.ndwi > -0.1) & (pixel_rolling.ndwi < 0.1)).dropna().rolling(5, center=True).mean()\n",
    "plt.plot(clipped_test.tide_m, clipped_test.ndwi, '-o', color='green')\n",
    "\n",
    "diff = clipped_test.ndwi.diff() / clipped_test.ndwi.index.to_series().diff()\n",
    "plt.plot(clipped_test.tide_m, diff, '-o', color='red')\n",
    "\n",
    "plt.axvline(clipped_test.tide_m.iloc[diff.argmax()], color='orange', linestyle='--', lw=2, alpha=0.5)\n",
    "plt.axhline(clipped_test.ndwi.iloc[diff.argmax()], color='orange', linestyle='--', lw=2, alpha=0.5)"
   ]
  },
  {
   "cell_type": "code",
   "execution_count": null,
   "id": "a0100f9f-a666-43be-acf9-ea67ab23175f",
   "metadata": {},
   "outputs": [],
   "source": []
  },
  {
   "cell_type": "code",
   "execution_count": null,
   "id": "2dc724c7-34c5-4d1c-b066-3f411a540f93",
   "metadata": {},
   "outputs": [],
   "source": [
    "plt.plot(clipped_test.tide_m, clipped_test.ndwi, '-o', color='green')"
   ]
  },
  {
   "cell_type": "code",
   "execution_count": null,
   "id": "422231ba-5068-4b76-8fcc-ecf4fcf640a4",
   "metadata": {},
   "outputs": [],
   "source": [
    "pdf = gaussian_kde(pixel_rolling.ndwi.values, bw_method=0.5, weights=scipy.stats.norm.pdf(pixel_rolling.ndwi.values, loc=0, scale=0.1))\n",
    "x = np.linspace(-0.5, 0.5, 200)\n",
    "y = pdf(x)\n",
    "plt.axvline(x[y.argmax()], color='orange', linestyle='--', lw=2, alpha=0.5)\n",
    "plt.plot(x, y, label='kde')"
   ]
  },
  {
   "cell_type": "code",
   "execution_count": null,
   "id": "aeabb2d4-139c-4fe4-bc3e-eba8f47fcf7f",
   "metadata": {},
   "outputs": [],
   "source": []
  },
  {
   "cell_type": "code",
   "execution_count": null,
   "id": "8bf37568-48e3-459e-afcc-de6170d5a39a",
   "metadata": {},
   "outputs": [],
   "source": [
    "from scipy.stats import gaussian_kde\n"
   ]
  },
  {
   "cell_type": "code",
   "execution_count": null,
   "id": "ea0c2eba-e182-44cf-82b0-a9284ae62f43",
   "metadata": {},
   "outputs": [],
   "source": [
    "import scipy.stats\n",
    "plt.scatter(pixel_rolling.ndwi.values, scipy.stats.norm.pdf(pixel_rolling.ndwi.values, loc=0, scale=0.1))"
   ]
  },
  {
   "cell_type": "code",
   "execution_count": null,
   "id": "d9a70cd0-195c-44a2-9388-761bc604c522",
   "metadata": {},
   "outputs": [],
   "source": [
    "pixel_raw.tide_m.min()"
   ]
  },
  {
   "cell_type": "code",
   "execution_count": null,
   "id": "7a8e7517-19e4-4b4d-acc2-b1e371cc8ed6",
   "metadata": {},
   "outputs": [],
   "source": [
    "pixel_raw.ndwi.plot.density(bw_method=0.05)"
   ]
  },
  {
   "cell_type": "code",
   "execution_count": null,
   "id": "a9d702d5-55d7-42ca-a07c-4f1c1fcc0a7b",
   "metadata": {},
   "outputs": [],
   "source": []
  },
  {
   "cell_type": "code",
   "execution_count": null,
   "id": "2da51b0d-7a33-4750-a757-f6f6d1b343f7",
   "metadata": {},
   "outputs": [],
   "source": [
    "pixel_rolling.ndwi.plot()\n",
    "(pixel_rolling.ndwi.diff() / pixel_rolling.ndwi.index.to_series().diff()).plot()"
   ]
  },
  {
   "cell_type": "code",
   "execution_count": null,
   "id": "344fc592-a8b8-4143-982a-f6d9ce341216",
   "metadata": {},
   "outputs": [],
   "source": [
    "from scipy.signal import savgol_filter\n",
    "w = savgol_filter(y.sort_values('ndwi').ndwi, 5, 2)\n",
    "w"
   ]
  },
  {
   "cell_type": "code",
   "execution_count": null,
   "id": "150e9df7-fc86-4b89-b2d0-3f1b5261bb4f",
   "metadata": {},
   "outputs": [],
   "source": [
    "y.sort_values('tide_m').ndwi"
   ]
  },
  {
   "cell_type": "code",
   "execution_count": null,
   "id": "e5df7fac-8ca6-4012-877e-8a8d796404e7",
   "metadata": {},
   "outputs": [],
   "source": [
    "# tide_thresh_2 = \n"
   ]
  },
  {
   "cell_type": "code",
   "execution_count": null,
   "id": "4456ab6e-849e-43d9-8605-64ff3569ff2e",
   "metadata": {},
   "outputs": [],
   "source": [
    "pixel_rolling.where(pixel_rolling.ndwi < 0).tide_m.argmax()"
   ]
  },
  {
   "cell_type": "code",
   "execution_count": null,
   "id": "5bd0596d-1201-41b1-9f90-7cd9a14259cf",
   "metadata": {},
   "outputs": [],
   "source": [
    "x, y = 642456.7107189415, 8275569.497920433\n",
    "pixel = interval_ds.sel(x=x,  y=y, method='nearest')\n",
    "df_median = pixel.to_dataframe().reset_index()\n",
    "\n",
    "fig, ax = plt.subplots(1, 1)\n",
    "ax.scatter(x=df_median.tide_m, y=df_median.ndwi)\n",
    "tide_thresh_1 = df_median.where(df_median.ndwi < 0).tide_m.max()\n",
    "tide_thresh_2 = df_median.where(df_median.ndwi > 0).tide_m.min()\n",
    "ax.axvline((tide_thresh_1 + tide_thresh_2) / 2)\n",
    "ax.axhline(0)"
   ]
  },
  {
   "cell_type": "markdown",
   "id": "90175bec-27b6-4601-97d5-5d5a7f4d44d1",
   "metadata": {
    "tags": []
   },
   "source": [
    "### Elevation calculation"
   ]
  },
  {
   "cell_type": "code",
   "execution_count": null,
   "id": "dab3cbd7-60c2-436f-9a59-56063826c2e8",
   "metadata": {
    "tags": []
   },
   "outputs": [],
   "source": [
    "# Output name\n",
    "fname = 'testing1'\n",
    "# fname = aoi.lower().replace(' ', '')\n",
    "\n",
    "# Calculate \n",
    "min_thresh = (0 - 0.5 * s2_stdev_mean)\n",
    "max_thresh = (0 + 0.5 * s2_stdev_mean)\n",
    "\n",
    "for thresh_name, thesh in {'': 0, '_low': min_thresh, '_high': max_thresh}.items():\n",
    "    \n",
    "    dem_fname = f'data/interim/pixel_dem_{fname}{thresh_name}.tif'\n",
    "    print(f'Exporting {dem_fname}')\n",
    "    \n",
    "    # Identify the max tide per pixel where NDWI == land\n",
    "    tide_thresh = ds.tide_m.where(s2_median <= thesh).max(dim='tide_n')\n",
    "    tide_max = ds.tide_m.max(dim='tide_n')\n",
    "    \n",
    "    # Remove any pixel where tides max out (i.e. always land)\n",
    "    dem = tide_thresh.where(tide_thresh < tide_max)\n",
    "    \n",
    "    # Export DEM file  \n",
    "    dem.odc.write_cog(fname=dem_fname, overwrite=True)\n",
    "\n",
    "# Export NDWI standard deviation/confidence file\n",
    "s2_stdev_mean.odc.write_cog(fname=f'data/interim/pixel_dem_{fname}_confidence.tif', overwrite=True)"
   ]
  },
  {
   "cell_type": "markdown",
   "id": "5781fcbf-08a2-4937-88a0-1e1ba81edab1",
   "metadata": {},
   "source": [
    "### Experimental"
   ]
  },
  {
   "cell_type": "code",
   "execution_count": null,
   "id": "39cdf81c-83da-43cc-884f-94df97dacc01",
   "metadata": {},
   "outputs": [],
   "source": [
    "from dea_tools.temporal import lag_linregress_3D"
   ]
  },
  {
   "cell_type": "code",
   "execution_count": null,
   "id": "2f85b5e1-9520-4077-af1b-e4f59d3dc06e",
   "metadata": {},
   "outputs": [],
   "source": [
    "# reg = lag_linregress_3D(s2_rolling.tide_height, (s2_rolling > 0).where(~s2_rolling.isnull()), first_dim='tide_height')\n",
    "# (reg.pval < 0.01).plot.imshow()"
   ]
  },
  {
   "cell_type": "code",
   "execution_count": null,
   "id": "ec11c556-5407-40de-a916-8d21f11a076e",
   "metadata": {},
   "outputs": [],
   "source": [
    "# s2_rolling"
   ]
  },
  {
   "cell_type": "code",
   "execution_count": null,
   "id": "c32ddbfb-874e-4085-b1da-9e5f6f405a44",
   "metadata": {},
   "outputs": [],
   "source": [
    "# test_min = tide_3d.where(s2_rolling >= 0).min(dim='tide_height')\n",
    "# test_max = tide_3d.where(s2_rolling < 0).max(dim='tide_height')\n",
    "# # dem = test_min.where(~test_max.isnull())\n",
    "# dem = ((test_max + test_min) / 2.0)\n",
    "# write_cog(dem, fname='pixel_dem_mccarthurriver.tif', overwrite=True)\n"
   ]
  },
  {
   "cell_type": "code",
   "execution_count": null,
   "id": "d9d3ced0-a1e7-47c3-b636-a217c947b864",
   "metadata": {},
   "outputs": [],
   "source": [
    "# out = xr.corr(s2_rolling, tide_3d)"
   ]
  },
  {
   "cell_type": "code",
   "execution_count": null,
   "id": "d2058e5c-111e-48d5-89e5-47bb93a670ef",
   "metadata": {},
   "outputs": [],
   "source": [
    "write_cog(test_max, fname='pixel_dem13.tif', overwrite=True)  # "
   ]
  },
  {
   "cell_type": "code",
   "execution_count": null,
   "id": "782714b0-5a93-4a8a-aa62-37a8e02bd53c",
   "metadata": {},
   "outputs": [],
   "source": [
    "x, y = 755234.5430086093, 8215882.783825266\n",
    "# pixel = s2_rolling.sel(x=x,  y=y, method='nearest')\n",
    "# df_median = pixel.to_dataframe()[['ndwi']].reset_index()\n",
    "\n",
    "pixel = ds.sel(x=x,  y=y, method='nearest')\n",
    "df = pixel.to_dataframe()[['ndwi']].reset_index()\n",
    "df_median = df.rolling(100, min_periods=10, center=True).median()\n",
    "df_std = df.rolling(100, min_periods=10, center=True).std()\n",
    "std_mean = df_std.ndwi.mean()\n",
    "\n",
    "fig, ax = plt.subplots(1, 1)\n",
    "ax.scatter(x=df_median.tide_height, y=df_median.ndwi)\n",
    "# ax.axvline(df_median.where(df_median.ndwi > 0).tide_height.min())\n",
    "ax.axvline(df_median.where(df_median.ndwi < 0).tide_height.max())\n",
    "ax.axvline(df_median.where(df_median.ndwi < (0 + std_mean * 0.5)).tide_height.max())\n",
    "ax.axvline(df_median.where(df_median.ndwi < (0 - std_mean * 0.5)).tide_height.max())\n",
    "ax.axhline(0)"
   ]
  },
  {
   "cell_type": "code",
   "execution_count": null,
   "id": "e35babc3-f719-4c01-9f4f-b742c199328d",
   "metadata": {},
   "outputs": [],
   "source": [
    "std_mean.ndwi"
   ]
  },
  {
   "cell_type": "code",
   "execution_count": null,
   "id": "f3f828fd-c9a3-4bf1-a1f8-c091eea486b7",
   "metadata": {},
   "outputs": [],
   "source": [
    "df_median.where(df_median.ndwi < 0).tide_height.max()"
   ]
  },
  {
   "cell_type": "code",
   "execution_count": null,
   "id": "eb6c4d35-5569-432e-bb70-6497a5329c0b",
   "metadata": {},
   "outputs": [],
   "source": [
    "df_median.where(df_median.ndwi > 0).tide_height.min()"
   ]
  },
  {
   "cell_type": "markdown",
   "id": "72172af8-b057-4416-9ba9-de434e78b4d2",
   "metadata": {},
   "source": [
    "# Shut down cluster"
   ]
  },
  {
   "cell_type": "code",
   "execution_count": null,
   "id": "7e5b413a-ab34-48a0-97b4-682a268eb322",
   "metadata": {},
   "outputs": [],
   "source": [
    "# from dask_gateway import Gateway\n",
    "# gateway = Gateway()\n",
    "\n",
    "# # Close any existing clusters\n",
    "# cluster_names = gateway.list_clusters()\n",
    "# if len(cluster_names) > 0:\n",
    "#     print(\"Cluster(s) still running:\", cluster_names)\n",
    "#     for n in cluster_names:\n",
    "#         cluster = gateway.connect(n.name)\n",
    "#         cluster.shutdown()"
   ]
  },
  {
   "cell_type": "code",
   "execution_count": null,
   "id": "46f990e8-d01a-4334-b4d4-42306a31b627",
   "metadata": {},
   "outputs": [],
   "source": [
    "# cluster.shutdown()"
   ]
  },
  {
   "cell_type": "code",
   "execution_count": null,
   "id": "a8a8bf32-584f-40d9-9484-8c3f2886ff8a",
   "metadata": {},
   "outputs": [],
   "source": []
  }
 ],
 "metadata": {
  "kernelspec": {
   "display_name": "Python 3 (ipykernel)",
   "language": "python",
   "name": "python3"
  },
  "language_info": {
   "codemirror_mode": {
    "name": "ipython",
    "version": 3
   },
   "file_extension": ".py",
   "mimetype": "text/x-python",
   "name": "python",
   "nbconvert_exporter": "python",
   "pygments_lexer": "ipython3",
   "version": "3.10.8"
  },
  "widgets": {
   "application/vnd.jupyter.widget-state+json": {
    "state": {
     "175b47f9942d492699c1e866a479bd90": {
      "model_module": "jupyter-leaflet",
      "model_module_version": "^0.17",
      "model_name": "LeafletWidgetControlModel",
      "state": {
       "_model_module": "jupyter-leaflet",
       "_model_module_version": "^0.17",
       "_view_count": null,
       "_view_module": "jupyter-leaflet",
       "_view_module_version": "^0.17",
       "options": [
        "position",
        "transparent_bg"
       ],
       "position": "topright",
       "widget": "IPY_MODEL_93e518b890fa456fbe4e74445a68444a"
      }
     },
     "1bc1b51854844dc5b8f1fa629391fb63": {
      "model_module": "@jupyter-widgets/controls",
      "model_module_version": "2.0.0",
      "model_name": "HTMLModel",
      "state": {
       "layout": "IPY_MODEL_879e325799a6462eb8a8fedf14342a5d",
       "style": "IPY_MODEL_2a6761bee98a40028f3bc1643991e473",
       "value": "<pre style=\"color:grey\">lat: [-14.2451, -14.0453]\nlon: [136.3194, 136.5501]</pre>"
      }
     },
     "1ddcf4de29164bf789f943a56c1d0686": {
      "model_module": "jupyter-leaflet",
      "model_module_version": "^0.17",
      "model_name": "LeafletAttributionControlModel",
      "state": {
       "_model_module_version": "^0.17",
       "_view_module_version": "^0.17",
       "options": [
        "position",
        "prefix"
       ],
       "position": "bottomright",
       "prefix": "ipyleaflet"
      }
     },
     "2a6761bee98a40028f3bc1643991e473": {
      "model_module": "@jupyter-widgets/controls",
      "model_module_version": "2.0.0",
      "model_name": "HTMLStyleModel",
      "state": {
       "description_width": "",
       "font_size": null,
       "text_color": null
      }
     },
     "33e40ef018e749c18224fa23c399ba14": {
      "model_module": "jupyter-leaflet",
      "model_module_version": "^0.17",
      "model_name": "LeafletDrawControlModel",
      "state": {
       "_model_module_version": "^0.17",
       "_view_module_version": "^0.17",
       "data": [
        {
         "geometry": {
          "coordinates": [
           [
            [
             136.365566,
             -14.191824
            ],
            [
             136.365566,
             -14.107599
            ],
            [
             136.450413,
             -14.107599
            ],
            [
             136.450413,
             -14.191824
            ],
            [
             136.365566,
             -14.191824
            ]
           ]
          ],
          "type": "Polygon"
         },
         "properties": {
          "style": {
           "clickable": true,
           "color": "#000000",
           "fill": true,
           "fillColor": "#fca45d",
           "fillOpacity": 0.1,
           "opacity": 0.5,
           "stroke": true,
           "weight": 4
          }
         },
         "type": "Feature"
        }
       ],
       "options": [
        "position"
       ],
       "polygon": {
        "shapeOptions": {
         "clickable": true,
         "color": "#000000",
         "editing": {
          "color": "#000000",
          "fillColor": "#fca45d",
          "fillOpacity": 0.1
         },
         "fill": true,
         "fillColor": "#fca45d",
         "fillOpacity": 0.1,
         "opacity": 0.5,
         "original": {
          "color": "#000000",
          "fillColor": "#fca45d",
          "fillOpacity": 0.1
         },
         "stroke": true,
         "weight": 4
        }
       },
       "polyline": {},
       "rectangle": {
        "metric": [
         "km",
         "m"
        ],
        "shapeOptions": {
         "clickable": true,
         "color": "#000000",
         "fill": true,
         "fillColor": "#fca45d",
         "fillOpacity": 0.1,
         "opacity": 0.5,
         "stroke": true,
         "weight": 4
        }
       }
      }
     },
     "46ada08535e24bdbaafa1e7209ce48d0": {
      "model_module": "@jupyter-widgets/controls",
      "model_module_version": "2.0.0",
      "model_name": "ButtonStyleModel",
      "state": {
       "button_color": "green",
       "font_family": null,
       "font_size": null,
       "font_style": null,
       "font_variant": null,
       "font_weight": null,
       "text_color": null,
       "text_decoration": null
      }
     },
     "51ffa111c4da4a84bef1baf691926217": {
      "model_module": "jupyter-leaflet",
      "model_module_version": "^0.17",
      "model_name": "LeafletMapStyleModel",
      "state": {
       "_model_module_version": "^0.17"
      }
     },
     "563e43c6823b473286bdba1e245f3a69": {
      "model_module": "jupyter-leaflet",
      "model_module_version": "^0.17",
      "model_name": "LeafletFullScreenControlModel",
      "state": {
       "_model_module_version": "^0.17",
       "_view_module_version": "^0.17",
       "options": [
        "position"
       ]
      }
     },
     "73035b6606314464aecef5110080f242": {
      "model_module": "jupyter-leaflet",
      "model_module_version": "^0.17",
      "model_name": "LeafletTileLayerModel",
      "state": {
       "_model_module_version": "^0.17",
       "_view_module_version": "^0.17",
       "attribution": "Tiles &copy; Esri &mdash; Source: Esri, i-cubed, USDA, USGS, AEX, GeoEye, Getmapping, Aerogrid, IGN, IGP, UPR-EGP, and the GIS User Community",
       "min_zoom": 1,
       "name": "Esri.WorldImagery",
       "options": [
        "attribution",
        "bounds",
        "detect_retina",
        "max_native_zoom",
        "max_zoom",
        "min_native_zoom",
        "min_zoom",
        "no_wrap",
        "tile_size",
        "tms",
        "zoom_offset"
       ],
       "url": "https://server.arcgisonline.com/ArcGIS/rest/services/World_Imagery/MapServer/tile/{z}/{y}/{x}"
      }
     },
     "879e325799a6462eb8a8fedf14342a5d": {
      "model_module": "@jupyter-widgets/base",
      "model_module_version": "2.0.0",
      "model_name": "LayoutModel",
      "state": {
       "flex": "1 0 20em",
       "height": "3em",
       "width": "20em"
      }
     },
     "93e518b890fa456fbe4e74445a68444a": {
      "model_module": "@jupyter-widgets/controls",
      "model_module_version": "2.0.0",
      "model_name": "ButtonModel",
      "state": {
       "description": "done",
       "disabled": true,
       "layout": "IPY_MODEL_fe545848dec14243bcef7df151f3c5af",
       "style": "IPY_MODEL_46ada08535e24bdbaafa1e7209ce48d0",
       "tooltip": null
      }
     },
     "c187f42590c945e49eafcaa3e60da79d": {
      "model_module": "jupyter-leaflet",
      "model_module_version": "^0.17",
      "model_name": "LeafletWidgetControlModel",
      "state": {
       "_model_module": "jupyter-leaflet",
       "_model_module_version": "^0.17",
       "_view_count": null,
       "_view_module": "jupyter-leaflet",
       "_view_module_version": "^0.17",
       "options": [
        "position",
        "transparent_bg"
       ],
       "position": "bottomleft",
       "widget": "IPY_MODEL_1bc1b51854844dc5b8f1fa629391fb63"
      }
     },
     "c4c4ce28e3e243a797fadae77301062d": {
      "model_module": "jupyter-leaflet",
      "model_module_version": "^0.17",
      "model_name": "LeafletZoomControlModel",
      "state": {
       "_model_module_version": "^0.17",
       "_view_module_version": "^0.17",
       "options": [
        "position",
        "zoom_in_text",
        "zoom_in_title",
        "zoom_out_text",
        "zoom_out_title"
       ]
      }
     },
     "c53bcfc9ff094732b3f5c9da06700769": {
      "model_module": "jupyter-leaflet",
      "model_module_version": "^0.17",
      "model_name": "LeafletMapModel",
      "state": {
       "_model_module_version": "^0.17",
       "_view_module_version": "^0.17",
       "bottom": 566214,
       "center": [
        -14.14520034362396,
        136.43446961289828
       ],
       "controls": [
        "IPY_MODEL_c4c4ce28e3e243a797fadae77301062d",
        "IPY_MODEL_1ddcf4de29164bf789f943a56c1d0686",
        "IPY_MODEL_563e43c6823b473286bdba1e245f3a69"
       ],
       "default_style": "IPY_MODEL_cf6950068f614bca9879e61d8977389f",
       "dragging_style": "IPY_MODEL_fc79767e92f24d42a5d1a5c76df778e5",
       "east": 136.55010223388675,
       "fullscreen": false,
       "interpolation": "bilinear",
       "layers": [
        "IPY_MODEL_73035b6606314464aecef5110080f242"
       ],
       "layout": "IPY_MODEL_e45503a950934421a89a45e54f33e9e3",
       "left": 921347,
       "modisdate": "2023-11-16",
       "north": -14.045335764009454,
       "options": [
        "bounce_at_zoom_limits",
        "box_zoom",
        "center",
        "close_popup_on_click",
        "double_click_zoom",
        "dragging",
        "fullscreen",
        "inertia",
        "inertia_deceleration",
        "inertia_max_speed",
        "interpolation",
        "keyboard",
        "keyboard_pan_offset",
        "keyboard_zoom_offset",
        "max_zoom",
        "min_zoom",
        "prefer_canvas",
        "scroll_wheel_zoom",
        "tap",
        "tap_tolerance",
        "touch_zoom",
        "world_copy_jump",
        "zoom",
        "zoom_animation_threshold",
        "zoom_delta",
        "zoom_snap"
       ],
       "prefer_canvas": false,
       "right": 922019,
       "scroll_wheel_zoom": true,
       "south": -14.245083469202196,
       "style": "IPY_MODEL_cf6950068f614bca9879e61d8977389f",
       "top": 565614,
       "west": 136.31938934326175,
       "window_url": "https://app.sandbox.dea.ga.gov.au/user/robbi.bishoptaylor@ga.gov.au/lab/tree/Robbi/dea-intertidal/notebooks/Intertidal_elevation.ipynb"
      }
     },
     "cf6950068f614bca9879e61d8977389f": {
      "model_module": "jupyter-leaflet",
      "model_module_version": "^0.17",
      "model_name": "LeafletMapStyleModel",
      "state": {
       "_model_module_version": "^0.17"
      }
     },
     "e45503a950934421a89a45e54f33e9e3": {
      "model_module": "@jupyter-widgets/base",
      "model_module_version": "2.0.0",
      "model_name": "LayoutModel",
      "state": {
       "height": "600px"
      }
     },
     "fc79767e92f24d42a5d1a5c76df778e5": {
      "model_module": "jupyter-leaflet",
      "model_module_version": "^0.17",
      "model_name": "LeafletMapStyleModel",
      "state": {
       "_model_module_version": "^0.17",
       "cursor": "move"
      }
     },
     "fe545848dec14243bcef7df151f3c5af": {
      "model_module": "@jupyter-widgets/base",
      "model_module_version": "2.0.0",
      "model_name": "LayoutModel",
      "state": {
       "width": "5em"
      }
     }
    },
    "version_major": 2,
    "version_minor": 0
   }
  }
 },
 "nbformat": 4,
 "nbformat_minor": 5
}

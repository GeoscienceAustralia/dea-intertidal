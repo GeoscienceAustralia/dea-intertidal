{
 "cells": [
  {
   "cell_type": "markdown",
   "id": "306a1f55-3f9d-4996-be95-e11e5a74a86b",
   "metadata": {},
   "source": [
    "# DEA Intertidal Elevation\n",
    "\n",
    "This notebook demonstrates how to run and customise a DEA Intertidal Elevation analysis.\n",
    "\n",
    "## Getting started\n",
    "Set working directory to top level of repo to ensure links work correctly:"
   ]
  },
  {
   "cell_type": "code",
   "execution_count": 1,
   "id": "6c9907dc-c0d2-4b2e-8cbb-bb3a2bc15f08",
   "metadata": {},
   "outputs": [
    {
     "name": "stdout",
     "output_type": "stream",
     "text": [
      "/home/jovyan/Robbi/dea-intertidal\n"
     ]
    }
   ],
   "source": [
    "cd .."
   ]
  },
  {
   "cell_type": "markdown",
   "id": "c586a481-013f-4884-8e53-f3ddb9c438d7",
   "metadata": {},
   "source": [
    "Install additional packages directly from the requirements file"
   ]
  },
  {
   "cell_type": "code",
   "execution_count": null,
   "id": "d67433e6-0408-40d1-be61-db49c52f88dc",
   "metadata": {},
   "outputs": [],
   "source": [
    "pip install -r requirements.in --quiet"
   ]
  },
  {
   "cell_type": "markdown",
   "id": "4244cc06-b5e7-4120-8514-adf35082cb2c",
   "metadata": {},
   "source": [
    "### Load packages"
   ]
  },
  {
   "cell_type": "code",
   "execution_count": 3,
   "id": "2520e8de-ac2c-4571-99a0-f7fb7b932f56",
   "metadata": {},
   "outputs": [
    {
     "name": "stdout",
     "output_type": "stream",
     "text": [
      "The autoreload extension is already loaded. To reload it, use:\n",
      "  %reload_ext autoreload\n"
     ]
    }
   ],
   "source": [
    "%load_ext autoreload\n",
    "%autoreload 2\n",
    "\n",
    "import os\n",
    "import xarray as xr\n",
    "import pandas as pd\n",
    "import numpy as np\n",
    "import geopandas as gpd\n",
    "import matplotlib.pyplot as plt\n",
    "from tqdm import tqdm\n",
    "from concurrent.futures import ProcessPoolExecutor\n",
    "from ipyleaflet import basemaps, basemap_to_tiles\n",
    "\n",
    "import datacube\n",
    "import odc.geo.xr\n",
    "from odc.geo.geom import Geometry\n",
    "from odc.geo.geobox import GeoBox\n",
    "from odc.algo import mask_cleanup, xr_quantile\n",
    "from odc.ui import select_on_a_map\n",
    "\n",
    "from dea_tools.dask import create_local_dask_cluster\n",
    "from dea_tools.coastal import pixel_tides\n",
    "from intertidal.io import load_data, prepare_for_export\n",
    "from intertidal.elevation import (\n",
    "    load_topobathy,\n",
    "    ds_to_flat,\n",
    "    pixel_tides_ensemble,\n",
    "    pixel_rolling_median,\n",
    "    pixel_dem,\n",
    "    pixel_dem_debug,\n",
    "    pixel_uncertainty,\n",
    "    flat_to_ds,\n",
    "    clean_edge_pixels,\n",
    "    elevation,\n",
    ")\n",
    "\n"
   ]
  },
  {
   "cell_type": "markdown",
   "id": "1a69b01f-bae0-4373-8ed6-e907393407eb",
   "metadata": {
    "tags": []
   },
   "source": [
    "## Setup\n"
   ]
  },
  {
   "cell_type": "markdown",
   "id": "b02efd2f-dab6-41ec-86f0-1724c93cf356",
   "metadata": {},
   "source": [
    "### Set analysis parameters"
   ]
  },
  {
   "cell_type": "code",
   "execution_count": 5,
   "id": "96122c69-8f4d-439a-a945-8f19294d2e07",
   "metadata": {
    "tags": []
   },
   "outputs": [],
   "source": [
    "# Intertidal Elevation variables\n",
    "start_date = \"2019\"  # Start date for analysis\n",
    "end_date = \"2019\"  # End date for analysis\n",
    "resolution = 10  # Spatial resolution used for output files\n",
    "crs = \"EPSG:3577\"  # Coordinate Reference System (CRS) to use for output files\n",
    "ndwi_thresh = 0.1  # Threshold used to identify dry/wet transition\n",
    "include_s2 = True  # Include Sentinel-2 data in the analysis?\n",
    "include_ls = True  # Include Landsat data in the analysis?\n",
    "filter_gqa = True  # Filter to remove poorly georeferenced scenes?\n",
    "tide_model = \"ensemble\"  # Tide model to use in analysis \n",
    "# tide_model_dir = \"/var/share/tide_models\"  # Directory containing tide model files\n",
    "# tide_model = [\"FES2014\", \"FES2012\", \"TPXO9-atlas-v5\"]\n",
    "tide_model_dir = \"/gdata1/data/tide_models_clipped\""
   ]
  },
  {
   "cell_type": "markdown",
   "id": "694c8695-d30d-4d55-84b2-d31a910ebaf3",
   "metadata": {},
   "source": [
    "#### Set study area\n",
    "\n",
    "##### Option 1: load study area from 32 km tile GridSpec"
   ]
  },
  {
   "cell_type": "code",
   "execution_count": null,
   "id": "8c1dfca3-543d-4e07-9a0f-2eeddf582835",
   "metadata": {},
   "outputs": [],
   "source": [
    "# Set study area (e.g. tile ID in form 'x143y87')\n",
    "study_area = \"x133y40\"\n",
    "geom = None  # Use GridSpec to load study area, not a custom geom"
   ]
  },
  {
   "cell_type": "markdown",
   "id": "298e1361-c8ff-4602-ac04-2dd07bf99ca2",
   "metadata": {
    "tags": []
   },
   "source": [
    "##### Option 2: load study area from vector file"
   ]
  },
  {
   "cell_type": "code",
   "execution_count": null,
   "id": "e67929eb-8a55-4a15-be7a-fcda29ec1f66",
   "metadata": {
    "tags": []
   },
   "outputs": [],
   "source": [
    "# # Set study area to load from file\n",
    "# study_area = \"pointstuart\"\n",
    "\n",
    "# # Read file, select study area and convert to geom\n",
    "# studyarea_gdf = gpd.read_file(\n",
    "#     \"data/raw/intertidal_development_polygons.geojson\"\n",
    "# ).set_index(\"id\")\n",
    "# geom = Geometry(studyarea_gdf.loc[study_area].geometry, crs=studyarea_gdf.crs)\n",
    "# geom"
   ]
  },
  {
   "cell_type": "markdown",
   "id": "9b72074d-c4bc-410b-83e1-80295227b81c",
   "metadata": {},
   "source": [
    "##### Option 3: load study area using interactive map"
   ]
  },
  {
   "cell_type": "code",
   "execution_count": 6,
   "id": "bdcf1c79-ae5a-4453-a7e8-d3f021b0b65a",
   "metadata": {},
   "outputs": [
    {
     "data": {
      "application/vnd.jupyter.widget-view+json": {
       "model_id": "12fc45896b03402fbc3c030e05fce4b3",
       "version_major": 2,
       "version_minor": 0
      },
      "text/plain": [
       "Map(center=[-26, 135], controls=(ZoomControl(options=['position', 'zoom_in_text', 'zoom_in_title', 'zoom_out_t…"
      ]
     },
     "metadata": {},
     "output_type": "display_data"
    },
    {
     "data": {
      "image/svg+xml": [
       "<svg xmlns=\"http://www.w3.org/2000/svg\" xmlns:xlink=\"http://www.w3.org/1999/xlink\" width=\"100.0\" height=\"100.0\" viewBox=\"136.52910356 -15.73501244 0.026336879999973917 0.02210988000000036\" preserveAspectRatio=\"xMinYMin meet\"><g transform=\"matrix(1,0,0,-1,0,-31.447915000000002)\"><path fill-rule=\"evenodd\" fill=\"#66cc99\" stroke=\"#555555\" stroke-width=\"0.0005267375999994784\" opacity=\"0.6\" d=\"M 136.530079,-15.734037 L 136.530079,-15.713878 L 136.554465,-15.713878 L 136.554465,-15.734037 L 136.530079,-15.734037 z\" /></g></svg>"
      ],
      "text/plain": [
       "Geometry(POLYGON ((136.530079 -15.734037, 136.530079 -15.713878, 136.554465 -15.713878, 136.554465 -15.734037, 136.530079 -15.734037)), EPSG:4326)"
      ]
     },
     "execution_count": 6,
     "metadata": {},
     "output_type": "execute_result"
    }
   ],
   "source": [
    "# Set study area name for outputs\n",
    "study_area = \"testing\"\n",
    "\n",
    "# Plot interactive map to select area\n",
    "basemap = basemap_to_tiles(basemaps.Esri.WorldImagery)\n",
    "geom = select_on_a_map(height=\"600px\", layers=(basemap,), center=(-26, 135), zoom=4)\n",
    "geom"
   ]
  },
  {
   "cell_type": "markdown",
   "id": "54c892b8-42d3-4930-ad97-e0e214535fc5",
   "metadata": {},
   "source": [
    "## Load data"
   ]
  },
  {
   "cell_type": "code",
   "execution_count": 8,
   "id": "98e930ff-c5a4-45fa-a043-b8902c606d63",
   "metadata": {
    "tags": []
   },
   "outputs": [
    {
     "name": "stderr",
     "output_type": "stream",
     "text": [
      "/env/lib/python3.10/site-packages/distributed/node.py:183: UserWarning: Port 8787 is already in use.\n",
      "Perhaps you already have a cluster running?\n",
      "Hosting the HTTP server on port 37249 instead\n",
      "  warnings.warn(\n"
     ]
    },
    {
     "data": {
      "text/html": [
       "<div>\n",
       "    <div style=\"width: 24px; height: 24px; background-color: #e1e1e1; border: 3px solid #9D9D9D; border-radius: 5px; position: absolute;\"> </div>\n",
       "    <div style=\"margin-left: 48px;\">\n",
       "        <h3 style=\"margin-bottom: 0px;\">Client</h3>\n",
       "        <p style=\"color: #9D9D9D; margin-bottom: 0px;\">Client-9da236e7-cee6-11ee-817f-1a9f6e3bb4f7</p>\n",
       "        <table style=\"width: 100%; text-align: left;\">\n",
       "\n",
       "        <tr>\n",
       "        \n",
       "            <td style=\"text-align: left;\"><strong>Connection method:</strong> Cluster object</td>\n",
       "            <td style=\"text-align: left;\"><strong>Cluster type:</strong> distributed.LocalCluster</td>\n",
       "        \n",
       "        </tr>\n",
       "\n",
       "        \n",
       "            <tr>\n",
       "                <td style=\"text-align: left;\">\n",
       "                    <strong>Dashboard: </strong> <a href=\"/user/robbi.bishoptaylor@ga.gov.au/proxy/37249/status\" target=\"_blank\">/user/robbi.bishoptaylor@ga.gov.au/proxy/37249/status</a>\n",
       "                </td>\n",
       "                <td style=\"text-align: left;\"></td>\n",
       "            </tr>\n",
       "        \n",
       "\n",
       "        </table>\n",
       "\n",
       "        \n",
       "            <button style=\"margin-bottom: 12px;\" data-commandlinker-command=\"dask:populate-and-launch-layout\" data-commandlinker-args='{\"url\": \"/user/robbi.bishoptaylor@ga.gov.au/proxy/37249/status\" }'>\n",
       "                Launch dashboard in JupyterLab\n",
       "            </button>\n",
       "        \n",
       "\n",
       "        \n",
       "            <details>\n",
       "            <summary style=\"margin-bottom: 20px;\"><h3 style=\"display: inline;\">Cluster Info</h3></summary>\n",
       "            <div class=\"jp-RenderedHTMLCommon jp-RenderedHTML jp-mod-trusted jp-OutputArea-output\">\n",
       "    <div style=\"width: 24px; height: 24px; background-color: #e1e1e1; border: 3px solid #9D9D9D; border-radius: 5px; position: absolute;\">\n",
       "    </div>\n",
       "    <div style=\"margin-left: 48px;\">\n",
       "        <h3 style=\"margin-bottom: 0px; margin-top: 0px;\">LocalCluster</h3>\n",
       "        <p style=\"color: #9D9D9D; margin-bottom: 0px;\">b0644bf5</p>\n",
       "        <table style=\"width: 100%; text-align: left;\">\n",
       "            <tr>\n",
       "                <td style=\"text-align: left;\">\n",
       "                    <strong>Dashboard:</strong> <a href=\"/user/robbi.bishoptaylor@ga.gov.au/proxy/37249/status\" target=\"_blank\">/user/robbi.bishoptaylor@ga.gov.au/proxy/37249/status</a>\n",
       "                </td>\n",
       "                <td style=\"text-align: left;\">\n",
       "                    <strong>Workers:</strong> 1\n",
       "                </td>\n",
       "            </tr>\n",
       "            <tr>\n",
       "                <td style=\"text-align: left;\">\n",
       "                    <strong>Total threads:</strong> 31\n",
       "                </td>\n",
       "                <td style=\"text-align: left;\">\n",
       "                    <strong>Total memory:</strong> 237.21 GiB\n",
       "                </td>\n",
       "            </tr>\n",
       "            \n",
       "            <tr>\n",
       "    <td style=\"text-align: left;\"><strong>Status:</strong> running</td>\n",
       "    <td style=\"text-align: left;\"><strong>Using processes:</strong> True</td>\n",
       "</tr>\n",
       "\n",
       "            \n",
       "        </table>\n",
       "\n",
       "        <details>\n",
       "            <summary style=\"margin-bottom: 20px;\">\n",
       "                <h3 style=\"display: inline;\">Scheduler Info</h3>\n",
       "            </summary>\n",
       "\n",
       "            <div style=\"\">\n",
       "    <div>\n",
       "        <div style=\"width: 24px; height: 24px; background-color: #FFF7E5; border: 3px solid #FF6132; border-radius: 5px; position: absolute;\"> </div>\n",
       "        <div style=\"margin-left: 48px;\">\n",
       "            <h3 style=\"margin-bottom: 0px;\">Scheduler</h3>\n",
       "            <p style=\"color: #9D9D9D; margin-bottom: 0px;\">Scheduler-d605a879-c8f4-4e6b-ac43-6cbed2805765</p>\n",
       "            <table style=\"width: 100%; text-align: left;\">\n",
       "                <tr>\n",
       "                    <td style=\"text-align: left;\">\n",
       "                        <strong>Comm:</strong> tcp://127.0.0.1:33753\n",
       "                    </td>\n",
       "                    <td style=\"text-align: left;\">\n",
       "                        <strong>Workers:</strong> 1\n",
       "                    </td>\n",
       "                </tr>\n",
       "                <tr>\n",
       "                    <td style=\"text-align: left;\">\n",
       "                        <strong>Dashboard:</strong> <a href=\"/user/robbi.bishoptaylor@ga.gov.au/proxy/37249/status\" target=\"_blank\">/user/robbi.bishoptaylor@ga.gov.au/proxy/37249/status</a>\n",
       "                    </td>\n",
       "                    <td style=\"text-align: left;\">\n",
       "                        <strong>Total threads:</strong> 31\n",
       "                    </td>\n",
       "                </tr>\n",
       "                <tr>\n",
       "                    <td style=\"text-align: left;\">\n",
       "                        <strong>Started:</strong> Just now\n",
       "                    </td>\n",
       "                    <td style=\"text-align: left;\">\n",
       "                        <strong>Total memory:</strong> 237.21 GiB\n",
       "                    </td>\n",
       "                </tr>\n",
       "            </table>\n",
       "        </div>\n",
       "    </div>\n",
       "\n",
       "    <details style=\"margin-left: 48px;\">\n",
       "        <summary style=\"margin-bottom: 20px;\">\n",
       "            <h3 style=\"display: inline;\">Workers</h3>\n",
       "        </summary>\n",
       "\n",
       "        \n",
       "        <div style=\"margin-bottom: 20px;\">\n",
       "            <div style=\"width: 24px; height: 24px; background-color: #DBF5FF; border: 3px solid #4CC9FF; border-radius: 5px; position: absolute;\"> </div>\n",
       "            <div style=\"margin-left: 48px;\">\n",
       "            <details>\n",
       "                <summary>\n",
       "                    <h4 style=\"margin-bottom: 0px; display: inline;\">Worker: 0</h4>\n",
       "                </summary>\n",
       "                <table style=\"width: 100%; text-align: left;\">\n",
       "                    <tr>\n",
       "                        <td style=\"text-align: left;\">\n",
       "                            <strong>Comm: </strong> tcp://127.0.0.1:41883\n",
       "                        </td>\n",
       "                        <td style=\"text-align: left;\">\n",
       "                            <strong>Total threads: </strong> 31\n",
       "                        </td>\n",
       "                    </tr>\n",
       "                    <tr>\n",
       "                        <td style=\"text-align: left;\">\n",
       "                            <strong>Dashboard: </strong> <a href=\"/user/robbi.bishoptaylor@ga.gov.au/proxy/46107/status\" target=\"_blank\">/user/robbi.bishoptaylor@ga.gov.au/proxy/46107/status</a>\n",
       "                        </td>\n",
       "                        <td style=\"text-align: left;\">\n",
       "                            <strong>Memory: </strong> 237.21 GiB\n",
       "                        </td>\n",
       "                    </tr>\n",
       "                    <tr>\n",
       "                        <td style=\"text-align: left;\">\n",
       "                            <strong>Nanny: </strong> tcp://127.0.0.1:44763\n",
       "                        </td>\n",
       "                        <td style=\"text-align: left;\"></td>\n",
       "                    </tr>\n",
       "                    <tr>\n",
       "                        <td colspan=\"2\" style=\"text-align: left;\">\n",
       "                            <strong>Local directory: </strong> /tmp/dask-worker-space/worker-9ma0p8ec\n",
       "                        </td>\n",
       "                    </tr>\n",
       "\n",
       "                    \n",
       "\n",
       "                    \n",
       "\n",
       "                </table>\n",
       "            </details>\n",
       "            </div>\n",
       "        </div>\n",
       "        \n",
       "\n",
       "    </details>\n",
       "</div>\n",
       "\n",
       "        </details>\n",
       "    </div>\n",
       "</div>\n",
       "            </details>\n",
       "        \n",
       "\n",
       "    </div>\n",
       "</div>"
      ],
      "text/plain": [
       "<Client: 'tcp://127.0.0.1:33753' processes=1 threads=31, memory=237.21 GiB>"
      ]
     },
     "metadata": {},
     "output_type": "display_data"
    },
    {
     "name": "stdout",
     "output_type": "stream",
     "text": [
      "<xarray.Dataset>\n",
      "Dimensions:      (time: 129, y: 232, x: 271)\n",
      "Coordinates:\n",
      "  * time         (time) datetime64[ns] 2019-01-02T00:59:08.684254 ... 2019-12...\n",
      "  * y            (y) float64 -1.679e+06 -1.679e+06 ... -1.681e+06 -1.681e+06\n",
      "  * x            (x) float64 4.885e+05 4.885e+05 ... 4.912e+05 4.912e+05\n",
      "    spatial_ref  int32 3577\n",
      "Data variables:\n",
      "    ndwi         (time, y, x) float32 dask.array<chunksize=(1, 232, 271), meta=np.ndarray>\n",
      "Attributes:\n",
      "    crs:           EPSG:3577\n",
      "    grid_mapping:  spatial_ref\n"
     ]
    },
    {
     "name": "stderr",
     "output_type": "stream",
     "text": [
      "/env/lib/python3.10/site-packages/datacube/drivers/driver_cache.py:54: DeprecationWarning: pkg_resources is deprecated as an API. See https://setuptools.pypa.io/en/latest/pkg_resources.html\n",
      "  from pkg_resources import iter_entry_points\n",
      "/env/lib/python3.10/site-packages/rasterio/warp.py:344: NotGeoreferencedWarning: Dataset has no geotransform, gcps, or rpcs. The identity matrix will be returned.\n",
      "  _reproject(\n",
      "/env/lib/python3.10/site-packages/rasterio/warp.py:344: NotGeoreferencedWarning: Dataset has no geotransform, gcps, or rpcs. The identity matrix will be returned.\n",
      "  _reproject(\n"
     ]
    },
    {
     "name": "stdout",
     "output_type": "stream",
     "text": [
      "CPU times: user 2.22 s, sys: 527 ms, total: 2.75 s\n",
      "Wall time: 23.7 s\n"
     ]
    },
    {
     "data": {
      "text/html": [
       "<div><svg style=\"position: absolute; width: 0; height: 0; overflow: hidden\">\n",
       "<defs>\n",
       "<symbol id=\"icon-database\" viewBox=\"0 0 32 32\">\n",
       "<path d=\"M16 0c-8.837 0-16 2.239-16 5v4c0 2.761 7.163 5 16 5s16-2.239 16-5v-4c0-2.761-7.163-5-16-5z\"></path>\n",
       "<path d=\"M16 17c-8.837 0-16-2.239-16-5v6c0 2.761 7.163 5 16 5s16-2.239 16-5v-6c0 2.761-7.163 5-16 5z\"></path>\n",
       "<path d=\"M16 26c-8.837 0-16-2.239-16-5v6c0 2.761 7.163 5 16 5s16-2.239 16-5v-6c0 2.761-7.163 5-16 5z\"></path>\n",
       "</symbol>\n",
       "<symbol id=\"icon-file-text2\" viewBox=\"0 0 32 32\">\n",
       "<path d=\"M28.681 7.159c-0.694-0.947-1.662-2.053-2.724-3.116s-2.169-2.030-3.116-2.724c-1.612-1.182-2.393-1.319-2.841-1.319h-15.5c-1.378 0-2.5 1.121-2.5 2.5v27c0 1.378 1.122 2.5 2.5 2.5h23c1.378 0 2.5-1.122 2.5-2.5v-19.5c0-0.448-0.137-1.23-1.319-2.841zM24.543 5.457c0.959 0.959 1.712 1.825 2.268 2.543h-4.811v-4.811c0.718 0.556 1.584 1.309 2.543 2.268zM28 29.5c0 0.271-0.229 0.5-0.5 0.5h-23c-0.271 0-0.5-0.229-0.5-0.5v-27c0-0.271 0.229-0.5 0.5-0.5 0 0 15.499-0 15.5 0v7c0 0.552 0.448 1 1 1h7v19.5z\"></path>\n",
       "<path d=\"M23 26h-14c-0.552 0-1-0.448-1-1s0.448-1 1-1h14c0.552 0 1 0.448 1 1s-0.448 1-1 1z\"></path>\n",
       "<path d=\"M23 22h-14c-0.552 0-1-0.448-1-1s0.448-1 1-1h14c0.552 0 1 0.448 1 1s-0.448 1-1 1z\"></path>\n",
       "<path d=\"M23 18h-14c-0.552 0-1-0.448-1-1s0.448-1 1-1h14c0.552 0 1 0.448 1 1s-0.448 1-1 1z\"></path>\n",
       "</symbol>\n",
       "</defs>\n",
       "</svg>\n",
       "<style>/* CSS stylesheet for displaying xarray objects in jupyterlab.\n",
       " *\n",
       " */\n",
       "\n",
       ":root {\n",
       "  --xr-font-color0: var(--jp-content-font-color0, rgba(0, 0, 0, 1));\n",
       "  --xr-font-color2: var(--jp-content-font-color2, rgba(0, 0, 0, 0.54));\n",
       "  --xr-font-color3: var(--jp-content-font-color3, rgba(0, 0, 0, 0.38));\n",
       "  --xr-border-color: var(--jp-border-color2, #e0e0e0);\n",
       "  --xr-disabled-color: var(--jp-layout-color3, #bdbdbd);\n",
       "  --xr-background-color: var(--jp-layout-color0, white);\n",
       "  --xr-background-color-row-even: var(--jp-layout-color1, white);\n",
       "  --xr-background-color-row-odd: var(--jp-layout-color2, #eeeeee);\n",
       "}\n",
       "\n",
       "html[theme=dark],\n",
       "body[data-theme=dark],\n",
       "body.vscode-dark {\n",
       "  --xr-font-color0: rgba(255, 255, 255, 1);\n",
       "  --xr-font-color2: rgba(255, 255, 255, 0.54);\n",
       "  --xr-font-color3: rgba(255, 255, 255, 0.38);\n",
       "  --xr-border-color: #1F1F1F;\n",
       "  --xr-disabled-color: #515151;\n",
       "  --xr-background-color: #111111;\n",
       "  --xr-background-color-row-even: #111111;\n",
       "  --xr-background-color-row-odd: #313131;\n",
       "}\n",
       "\n",
       ".xr-wrap {\n",
       "  display: block !important;\n",
       "  min-width: 300px;\n",
       "  max-width: 700px;\n",
       "}\n",
       "\n",
       ".xr-text-repr-fallback {\n",
       "  /* fallback to plain text repr when CSS is not injected (untrusted notebook) */\n",
       "  display: none;\n",
       "}\n",
       "\n",
       ".xr-header {\n",
       "  padding-top: 6px;\n",
       "  padding-bottom: 6px;\n",
       "  margin-bottom: 4px;\n",
       "  border-bottom: solid 1px var(--xr-border-color);\n",
       "}\n",
       "\n",
       ".xr-header > div,\n",
       ".xr-header > ul {\n",
       "  display: inline;\n",
       "  margin-top: 0;\n",
       "  margin-bottom: 0;\n",
       "}\n",
       "\n",
       ".xr-obj-type,\n",
       ".xr-array-name {\n",
       "  margin-left: 2px;\n",
       "  margin-right: 10px;\n",
       "}\n",
       "\n",
       ".xr-obj-type {\n",
       "  color: var(--xr-font-color2);\n",
       "}\n",
       "\n",
       ".xr-sections {\n",
       "  padding-left: 0 !important;\n",
       "  display: grid;\n",
       "  grid-template-columns: 150px auto auto 1fr 20px 20px;\n",
       "}\n",
       "\n",
       ".xr-section-item {\n",
       "  display: contents;\n",
       "}\n",
       "\n",
       ".xr-section-item input {\n",
       "  display: none;\n",
       "}\n",
       "\n",
       ".xr-section-item input + label {\n",
       "  color: var(--xr-disabled-color);\n",
       "}\n",
       "\n",
       ".xr-section-item input:enabled + label {\n",
       "  cursor: pointer;\n",
       "  color: var(--xr-font-color2);\n",
       "}\n",
       "\n",
       ".xr-section-item input:enabled + label:hover {\n",
       "  color: var(--xr-font-color0);\n",
       "}\n",
       "\n",
       ".xr-section-summary {\n",
       "  grid-column: 1;\n",
       "  color: var(--xr-font-color2);\n",
       "  font-weight: 500;\n",
       "}\n",
       "\n",
       ".xr-section-summary > span {\n",
       "  display: inline-block;\n",
       "  padding-left: 0.5em;\n",
       "}\n",
       "\n",
       ".xr-section-summary-in:disabled + label {\n",
       "  color: var(--xr-font-color2);\n",
       "}\n",
       "\n",
       ".xr-section-summary-in + label:before {\n",
       "  display: inline-block;\n",
       "  content: '►';\n",
       "  font-size: 11px;\n",
       "  width: 15px;\n",
       "  text-align: center;\n",
       "}\n",
       "\n",
       ".xr-section-summary-in:disabled + label:before {\n",
       "  color: var(--xr-disabled-color);\n",
       "}\n",
       "\n",
       ".xr-section-summary-in:checked + label:before {\n",
       "  content: '▼';\n",
       "}\n",
       "\n",
       ".xr-section-summary-in:checked + label > span {\n",
       "  display: none;\n",
       "}\n",
       "\n",
       ".xr-section-summary,\n",
       ".xr-section-inline-details {\n",
       "  padding-top: 4px;\n",
       "  padding-bottom: 4px;\n",
       "}\n",
       "\n",
       ".xr-section-inline-details {\n",
       "  grid-column: 2 / -1;\n",
       "}\n",
       "\n",
       ".xr-section-details {\n",
       "  display: none;\n",
       "  grid-column: 1 / -1;\n",
       "  margin-bottom: 5px;\n",
       "}\n",
       "\n",
       ".xr-section-summary-in:checked ~ .xr-section-details {\n",
       "  display: contents;\n",
       "}\n",
       "\n",
       ".xr-array-wrap {\n",
       "  grid-column: 1 / -1;\n",
       "  display: grid;\n",
       "  grid-template-columns: 20px auto;\n",
       "}\n",
       "\n",
       ".xr-array-wrap > label {\n",
       "  grid-column: 1;\n",
       "  vertical-align: top;\n",
       "}\n",
       "\n",
       ".xr-preview {\n",
       "  color: var(--xr-font-color3);\n",
       "}\n",
       "\n",
       ".xr-array-preview,\n",
       ".xr-array-data {\n",
       "  padding: 0 5px !important;\n",
       "  grid-column: 2;\n",
       "}\n",
       "\n",
       ".xr-array-data,\n",
       ".xr-array-in:checked ~ .xr-array-preview {\n",
       "  display: none;\n",
       "}\n",
       "\n",
       ".xr-array-in:checked ~ .xr-array-data,\n",
       ".xr-array-preview {\n",
       "  display: inline-block;\n",
       "}\n",
       "\n",
       ".xr-dim-list {\n",
       "  display: inline-block !important;\n",
       "  list-style: none;\n",
       "  padding: 0 !important;\n",
       "  margin: 0;\n",
       "}\n",
       "\n",
       ".xr-dim-list li {\n",
       "  display: inline-block;\n",
       "  padding: 0;\n",
       "  margin: 0;\n",
       "}\n",
       "\n",
       ".xr-dim-list:before {\n",
       "  content: '(';\n",
       "}\n",
       "\n",
       ".xr-dim-list:after {\n",
       "  content: ')';\n",
       "}\n",
       "\n",
       ".xr-dim-list li:not(:last-child):after {\n",
       "  content: ',';\n",
       "  padding-right: 5px;\n",
       "}\n",
       "\n",
       ".xr-has-index {\n",
       "  font-weight: bold;\n",
       "}\n",
       "\n",
       ".xr-var-list,\n",
       ".xr-var-item {\n",
       "  display: contents;\n",
       "}\n",
       "\n",
       ".xr-var-item > div,\n",
       ".xr-var-item label,\n",
       ".xr-var-item > .xr-var-name span {\n",
       "  background-color: var(--xr-background-color-row-even);\n",
       "  margin-bottom: 0;\n",
       "}\n",
       "\n",
       ".xr-var-item > .xr-var-name:hover span {\n",
       "  padding-right: 5px;\n",
       "}\n",
       "\n",
       ".xr-var-list > li:nth-child(odd) > div,\n",
       ".xr-var-list > li:nth-child(odd) > label,\n",
       ".xr-var-list > li:nth-child(odd) > .xr-var-name span {\n",
       "  background-color: var(--xr-background-color-row-odd);\n",
       "}\n",
       "\n",
       ".xr-var-name {\n",
       "  grid-column: 1;\n",
       "}\n",
       "\n",
       ".xr-var-dims {\n",
       "  grid-column: 2;\n",
       "}\n",
       "\n",
       ".xr-var-dtype {\n",
       "  grid-column: 3;\n",
       "  text-align: right;\n",
       "  color: var(--xr-font-color2);\n",
       "}\n",
       "\n",
       ".xr-var-preview {\n",
       "  grid-column: 4;\n",
       "}\n",
       "\n",
       ".xr-index-preview {\n",
       "  grid-column: 2 / 5;\n",
       "  color: var(--xr-font-color2);\n",
       "}\n",
       "\n",
       ".xr-var-name,\n",
       ".xr-var-dims,\n",
       ".xr-var-dtype,\n",
       ".xr-preview,\n",
       ".xr-attrs dt {\n",
       "  white-space: nowrap;\n",
       "  overflow: hidden;\n",
       "  text-overflow: ellipsis;\n",
       "  padding-right: 10px;\n",
       "}\n",
       "\n",
       ".xr-var-name:hover,\n",
       ".xr-var-dims:hover,\n",
       ".xr-var-dtype:hover,\n",
       ".xr-attrs dt:hover {\n",
       "  overflow: visible;\n",
       "  width: auto;\n",
       "  z-index: 1;\n",
       "}\n",
       "\n",
       ".xr-var-attrs,\n",
       ".xr-var-data,\n",
       ".xr-index-data {\n",
       "  display: none;\n",
       "  background-color: var(--xr-background-color) !important;\n",
       "  padding-bottom: 5px !important;\n",
       "}\n",
       "\n",
       ".xr-var-attrs-in:checked ~ .xr-var-attrs,\n",
       ".xr-var-data-in:checked ~ .xr-var-data,\n",
       ".xr-index-data-in:checked ~ .xr-index-data {\n",
       "  display: block;\n",
       "}\n",
       "\n",
       ".xr-var-data > table {\n",
       "  float: right;\n",
       "}\n",
       "\n",
       ".xr-var-name span,\n",
       ".xr-var-data,\n",
       ".xr-index-name div,\n",
       ".xr-index-data,\n",
       ".xr-attrs {\n",
       "  padding-left: 25px !important;\n",
       "}\n",
       "\n",
       ".xr-attrs,\n",
       ".xr-var-attrs,\n",
       ".xr-var-data,\n",
       ".xr-index-data {\n",
       "  grid-column: 1 / -1;\n",
       "}\n",
       "\n",
       "dl.xr-attrs {\n",
       "  padding: 0;\n",
       "  margin: 0;\n",
       "  display: grid;\n",
       "  grid-template-columns: 125px auto;\n",
       "}\n",
       "\n",
       ".xr-attrs dt,\n",
       ".xr-attrs dd {\n",
       "  padding: 0;\n",
       "  margin: 0;\n",
       "  float: left;\n",
       "  padding-right: 10px;\n",
       "  width: auto;\n",
       "}\n",
       "\n",
       ".xr-attrs dt {\n",
       "  font-weight: normal;\n",
       "  grid-column: 1;\n",
       "}\n",
       "\n",
       ".xr-attrs dt:hover span {\n",
       "  display: inline-block;\n",
       "  background: var(--xr-background-color);\n",
       "  padding-right: 10px;\n",
       "}\n",
       "\n",
       ".xr-attrs dd {\n",
       "  grid-column: 2;\n",
       "  white-space: pre-wrap;\n",
       "  word-break: break-all;\n",
       "}\n",
       "\n",
       ".xr-icon-database,\n",
       ".xr-icon-file-text2,\n",
       ".xr-no-icon {\n",
       "  display: inline-block;\n",
       "  vertical-align: middle;\n",
       "  width: 1em;\n",
       "  height: 1.5em !important;\n",
       "  stroke-width: 0;\n",
       "  stroke: currentColor;\n",
       "  fill: currentColor;\n",
       "}\n",
       "</style><pre class='xr-text-repr-fallback'>&lt;xarray.Dataset&gt;\n",
       "Dimensions:      (time: 129, y: 232, x: 271)\n",
       "Coordinates:\n",
       "  * time         (time) datetime64[ns] 2019-01-02T00:59:08.684254 ... 2019-12...\n",
       "  * y            (y) float64 -1.679e+06 -1.679e+06 ... -1.681e+06 -1.681e+06\n",
       "  * x            (x) float64 4.885e+05 4.885e+05 ... 4.912e+05 4.912e+05\n",
       "    spatial_ref  int32 3577\n",
       "Data variables:\n",
       "    ndwi         (time, y, x) float32 nan nan nan ... -0.1545 -0.1497 -0.1475\n",
       "Attributes:\n",
       "    crs:           EPSG:3577\n",
       "    grid_mapping:  spatial_ref</pre><div class='xr-wrap' style='display:none'><div class='xr-header'><div class='xr-obj-type'>xarray.Dataset</div></div><ul class='xr-sections'><li class='xr-section-item'><input id='section-8e42ca75-e3e4-49d9-acce-3486fcf121d0' class='xr-section-summary-in' type='checkbox' disabled ><label for='section-8e42ca75-e3e4-49d9-acce-3486fcf121d0' class='xr-section-summary'  title='Expand/collapse section'>Dimensions:</label><div class='xr-section-inline-details'><ul class='xr-dim-list'><li><span class='xr-has-index'>time</span>: 129</li><li><span class='xr-has-index'>y</span>: 232</li><li><span class='xr-has-index'>x</span>: 271</li></ul></div><div class='xr-section-details'></div></li><li class='xr-section-item'><input id='section-4a313c9b-e4bd-4f43-a67f-adaa8da847e5' class='xr-section-summary-in' type='checkbox'  checked><label for='section-4a313c9b-e4bd-4f43-a67f-adaa8da847e5' class='xr-section-summary' >Coordinates: <span>(4)</span></label><div class='xr-section-inline-details'></div><div class='xr-section-details'><ul class='xr-var-list'><li class='xr-var-item'><div class='xr-var-name'><span class='xr-has-index'>time</span></div><div class='xr-var-dims'>(time)</div><div class='xr-var-dtype'>datetime64[ns]</div><div class='xr-var-preview xr-preview'>2019-01-02T00:59:08.684254 ... 2...</div><input id='attrs-9339be45-87cb-4573-8c38-fff4a4a56e6a' class='xr-var-attrs-in' type='checkbox' ><label for='attrs-9339be45-87cb-4573-8c38-fff4a4a56e6a' title='Show/Hide attributes'><svg class='icon xr-icon-file-text2'><use xlink:href='#icon-file-text2'></use></svg></label><input id='data-fa13bd02-ecae-488f-8b3b-8e4f16b6d9b1' class='xr-var-data-in' type='checkbox'><label for='data-fa13bd02-ecae-488f-8b3b-8e4f16b6d9b1' title='Show/Hide data repr'><svg class='icon xr-icon-database'><use xlink:href='#icon-database'></use></svg></label><div class='xr-var-attrs'><dl class='xr-attrs'><dt><span>units :</span></dt><dd>seconds since 1970-01-01 00:00:00</dd></dl></div><div class='xr-var-data'><pre>array([&#x27;2019-01-02T00:59:08.684254000&#x27;, &#x27;2019-01-03T00:48:15.730294000&#x27;,\n",
       "       &#x27;2019-01-06T01:11:32.919000000&#x27;, &#x27;2019-01-10T00:54:13.477130000&#x27;,\n",
       "       &#x27;2019-01-11T01:11:37.142000000&#x27;, &#x27;2019-01-16T01:11:34.149000000&#x27;,\n",
       "       &#x27;2019-01-18T00:59:05.911427000&#x27;, &#x27;2019-01-19T00:47:45.379520000&#x27;,\n",
       "       &#x27;2019-01-21T01:11:38.080000000&#x27;, &#x27;2019-01-26T00:53:42.358434000&#x27;,\n",
       "       &#x27;2019-01-26T01:11:34.869000000&#x27;, &#x27;2019-02-03T00:59:02.382941000&#x27;,\n",
       "       &#x27;2019-02-05T01:11:35.064000000&#x27;, &#x27;2019-02-10T01:11:38.279000000&#x27;,\n",
       "       &#x27;2019-02-11T00:53:13.611229000&#x27;, &#x27;2019-02-19T00:59:00.121826000&#x27;,\n",
       "       &#x27;2019-02-20T00:46:46.571807000&#x27;, &#x27;2019-02-20T01:11:37.577000000&#x27;,\n",
       "       &#x27;2019-02-25T01:11:33.783028000&#x27;, &#x27;2019-02-27T00:52:44.384370000&#x27;,\n",
       "       &#x27;2019-03-02T01:11:36.339507000&#x27;, &#x27;2019-03-07T00:58:55.299161000&#x27;,\n",
       "       &#x27;2019-03-07T01:11:32.401122000&#x27;, &#x27;2019-03-08T00:46:16.455385000&#x27;,\n",
       "       &#x27;2019-03-12T01:11:35.404436000&#x27;, &#x27;2019-03-15T00:52:13.599584000&#x27;,\n",
       "       &#x27;2019-03-17T01:11:34.995894000&#x27;, &#x27;2019-03-22T01:11:37.896837000&#x27;,\n",
       "       &#x27;2019-03-27T01:11:37.402377000&#x27;, &#x27;2019-03-31T00:51:41.244750000&#x27;,\n",
       "       &#x27;2019-04-06T01:11:39.170770000&#x27;, &#x27;2019-04-09T00:45:11.578939000&#x27;,\n",
       "       &#x27;2019-04-11T01:11:42.598511000&#x27;, &#x27;2019-04-16T00:51:07.284593000&#x27;,\n",
       "       &#x27;2019-04-16T01:11:40.613989000&#x27;, &#x27;2019-04-21T01:11:44.480234000&#x27;,\n",
       "       &#x27;2019-04-24T00:58:40.121108000&#x27;, &#x27;2019-04-25T00:44:36.548238000&#x27;,\n",
       "       &#x27;2019-04-26T01:11:41.544422000&#x27;, &#x27;2019-05-01T01:11:45.762808000&#x27;,\n",
       "       &#x27;2019-05-02T00:50:31.535612000&#x27;, &#x27;2019-05-06T01:11:41.989319000&#x27;,\n",
       "       &#x27;2019-05-10T00:58:47.309416000&#x27;, &#x27;2019-05-11T00:43:59.866671000&#x27;,\n",
       "       &#x27;2019-05-11T01:11:46.561359000&#x27;, &#x27;2019-05-16T01:11:41.876519000&#x27;,\n",
       "       &#x27;2019-05-18T00:49:53.998756000&#x27;, &#x27;2019-05-26T00:58:56.996343000&#x27;,\n",
       "       &#x27;2019-05-26T01:11:41.245370000&#x27;, &#x27;2019-05-27T00:43:23.314918000&#x27;,\n",
       "       &#x27;2019-05-31T01:11:46.500108000&#x27;, &#x27;2019-06-03T00:49:19.479578000&#x27;,\n",
       "       &#x27;2019-06-05T01:11:40.174550000&#x27;, &#x27;2019-06-10T01:11:45.743803000&#x27;,\n",
       "       &#x27;2019-06-11T00:59:04.363257000&#x27;, &#x27;2019-06-12T00:42:49.283281000&#x27;,\n",
       "       &#x27;2019-06-15T01:11:41.418325000&#x27;, &#x27;2019-06-19T00:48:44.721344000&#x27;,\n",
       "       &#x27;2019-06-20T01:11:46.006776000&#x27;, &#x27;2019-06-25T01:11:42.468100000&#x27;,\n",
       "       &#x27;2019-06-27T00:59:09.584872000&#x27;, &#x27;2019-06-28T00:42:13.697049000&#x27;,\n",
       "       &#x27;2019-06-30T01:11:46.673858000&#x27;, &#x27;2019-07-05T00:48:08.525131000&#x27;,\n",
       "       &#x27;2019-07-05T01:11:43.127999000&#x27;, &#x27;2019-07-10T01:11:46.940141000&#x27;,\n",
       "       &#x27;2019-07-13T00:59:12.802216000&#x27;, &#x27;2019-07-14T00:41:36.713991000&#x27;,\n",
       "       &#x27;2019-07-15T01:11:43.333644000&#x27;, &#x27;2019-07-20T01:11:46.806000000&#x27;,\n",
       "       &#x27;2019-07-21T00:47:30.935992000&#x27;, &#x27;2019-07-25T01:11:43.133430000&#x27;,\n",
       "       &#x27;2019-07-29T00:59:18.243273000&#x27;, &#x27;2019-07-30T00:40:58.411009000&#x27;,\n",
       "       &#x27;2019-07-30T01:11:46.237474000&#x27;, &#x27;2019-08-04T01:11:42.555755000&#x27;,\n",
       "       &#x27;2019-08-06T00:46:52.056571000&#x27;, &#x27;2019-08-09T01:11:45.271342000&#x27;,\n",
       "       &#x27;2019-08-14T00:59:24.106068000&#x27;, &#x27;2019-08-14T01:11:41.528841000&#x27;,\n",
       "       &#x27;2019-08-15T00:40:18.866587000&#x27;, &#x27;2019-08-19T01:11:43.940872000&#x27;,\n",
       "       &#x27;2019-08-22T00:46:11.981076000&#x27;, &#x27;2019-08-24T01:11:40.092645000&#x27;,\n",
       "       &#x27;2019-08-29T01:11:42.170039000&#x27;, &#x27;2019-08-30T00:59:28.018521000&#x27;,\n",
       "       &#x27;2019-08-31T00:39:38.108602000&#x27;, &#x27;2019-09-03T01:11:38.285322000&#x27;,\n",
       "       &#x27;2019-09-07T00:45:30.634821000&#x27;, &#x27;2019-09-08T01:11:39.960570000&#x27;,\n",
       "       &#x27;2019-09-13T01:11:36.634427000&#x27;, &#x27;2019-09-15T00:59:32.859032000&#x27;,\n",
       "       &#x27;2019-09-18T01:11:37.335036000&#x27;, &#x27;2019-09-23T00:44:47.850510000&#x27;,\n",
       "       &#x27;2019-09-23T01:11:38.573109000&#x27;, &#x27;2019-09-28T01:11:38.348442000&#x27;,\n",
       "       &#x27;2019-10-01T00:59:37.670076000&#x27;, &#x27;2019-10-03T01:11:40.081162000&#x27;,\n",
       "       &#x27;2019-10-08T01:11:39.107681000&#x27;, &#x27;2019-10-09T00:44:08.273174000&#x27;,\n",
       "       &#x27;2019-10-13T01:11:41.032717000&#x27;, &#x27;2019-10-17T00:59:40.025336000&#x27;,\n",
       "       &#x27;2019-10-18T00:37:34.744368000&#x27;, &#x27;2019-10-18T01:11:39.369091000&#x27;,\n",
       "       &#x27;2019-10-23T01:11:41.420999000&#x27;, &#x27;2019-10-25T00:43:27.449927000&#x27;,\n",
       "       &#x27;2019-11-02T00:59:39.693970000&#x27;, &#x27;2019-11-02T01:11:41.246671000&#x27;,\n",
       "       &#x27;2019-11-03T00:36:52.737169000&#x27;, &#x27;2019-11-07T01:11:38.039415000&#x27;,\n",
       "       &#x27;2019-11-10T00:42:44.497429000&#x27;, &#x27;2019-11-12T01:11:40.429654000&#x27;,\n",
       "       &#x27;2019-11-17T01:11:36.461657000&#x27;, &#x27;2019-11-18T00:59:36.462622000&#x27;,\n",
       "       &#x27;2019-11-19T00:36:08.574906000&#x27;, &#x27;2019-11-22T01:11:38.942657000&#x27;,\n",
       "       &#x27;2019-11-26T00:41:59.383356000&#x27;, &#x27;2019-11-27T01:11:34.228795000&#x27;,\n",
       "       &#x27;2019-12-02T01:11:36.849756000&#x27;, &#x27;2019-12-04T00:59:35.448261000&#x27;,\n",
       "       &#x27;2019-12-05T00:35:22.243660000&#x27;, &#x27;2019-12-07T01:11:32.224747000&#x27;,\n",
       "       &#x27;2019-12-12T00:41:12.118540000&#x27;, &#x27;2019-12-12T01:11:34.140178000&#x27;,\n",
       "       &#x27;2019-12-17T01:11:32.883410000&#x27;, &#x27;2019-12-21T00:34:33.836029000&#x27;,\n",
       "       &#x27;2019-12-22T01:11:32.299421000&#x27;, &#x27;2019-12-27T01:11:33.253026000&#x27;,\n",
       "       &#x27;2019-12-28T00:40:22.913633000&#x27;], dtype=&#x27;datetime64[ns]&#x27;)</pre></div></li><li class='xr-var-item'><div class='xr-var-name'><span class='xr-has-index'>y</span></div><div class='xr-var-dims'>(y)</div><div class='xr-var-dtype'>float64</div><div class='xr-var-preview xr-preview'>-1.679e+06 ... -1.681e+06</div><input id='attrs-de8eb06c-2d54-43b1-97d4-0a196420189d' class='xr-var-attrs-in' type='checkbox' ><label for='attrs-de8eb06c-2d54-43b1-97d4-0a196420189d' title='Show/Hide attributes'><svg class='icon xr-icon-file-text2'><use xlink:href='#icon-file-text2'></use></svg></label><input id='data-a13f5dbd-7c43-4949-a8f5-c9a8f18a00a8' class='xr-var-data-in' type='checkbox'><label for='data-a13f5dbd-7c43-4949-a8f5-c9a8f18a00a8' title='Show/Hide data repr'><svg class='icon xr-icon-database'><use xlink:href='#icon-database'></use></svg></label><div class='xr-var-attrs'><dl class='xr-attrs'><dt><span>units :</span></dt><dd>metre</dd><dt><span>resolution :</span></dt><dd>-10.0</dd><dt><span>crs :</span></dt><dd>EPSG:3577</dd></dl></div><div class='xr-var-data'><pre>array([-1678635., -1678645., -1678655., ..., -1680925., -1680935., -1680945.])</pre></div></li><li class='xr-var-item'><div class='xr-var-name'><span class='xr-has-index'>x</span></div><div class='xr-var-dims'>(x)</div><div class='xr-var-dtype'>float64</div><div class='xr-var-preview xr-preview'>4.885e+05 4.885e+05 ... 4.912e+05</div><input id='attrs-45b0ea75-05ab-42e8-aaac-9d80c58165b7' class='xr-var-attrs-in' type='checkbox' ><label for='attrs-45b0ea75-05ab-42e8-aaac-9d80c58165b7' title='Show/Hide attributes'><svg class='icon xr-icon-file-text2'><use xlink:href='#icon-file-text2'></use></svg></label><input id='data-adf22cc2-cc65-429f-a08b-6d6ec7b0c857' class='xr-var-data-in' type='checkbox'><label for='data-adf22cc2-cc65-429f-a08b-6d6ec7b0c857' title='Show/Hide data repr'><svg class='icon xr-icon-database'><use xlink:href='#icon-database'></use></svg></label><div class='xr-var-attrs'><dl class='xr-attrs'><dt><span>units :</span></dt><dd>metre</dd><dt><span>resolution :</span></dt><dd>10.0</dd><dt><span>crs :</span></dt><dd>EPSG:3577</dd></dl></div><div class='xr-var-data'><pre>array([488525., 488535., 488545., ..., 491205., 491215., 491225.])</pre></div></li><li class='xr-var-item'><div class='xr-var-name'><span>spatial_ref</span></div><div class='xr-var-dims'>()</div><div class='xr-var-dtype'>int32</div><div class='xr-var-preview xr-preview'>3577</div><input id='attrs-e188514a-4746-4c86-857b-0ba2b057ffe9' class='xr-var-attrs-in' type='checkbox' ><label for='attrs-e188514a-4746-4c86-857b-0ba2b057ffe9' title='Show/Hide attributes'><svg class='icon xr-icon-file-text2'><use xlink:href='#icon-file-text2'></use></svg></label><input id='data-ab3528c7-665b-4b7d-8589-9281e43300a6' class='xr-var-data-in' type='checkbox'><label for='data-ab3528c7-665b-4b7d-8589-9281e43300a6' title='Show/Hide data repr'><svg class='icon xr-icon-database'><use xlink:href='#icon-database'></use></svg></label><div class='xr-var-attrs'><dl class='xr-attrs'><dt><span>spatial_ref :</span></dt><dd>PROJCS[&quot;GDA94 / Australian Albers&quot;,GEOGCS[&quot;GDA94&quot;,DATUM[&quot;Geocentric_Datum_of_Australia_1994&quot;,SPHEROID[&quot;GRS 1980&quot;,6378137,298.257222101,AUTHORITY[&quot;EPSG&quot;,&quot;7019&quot;]],AUTHORITY[&quot;EPSG&quot;,&quot;6283&quot;]],PRIMEM[&quot;Greenwich&quot;,0,AUTHORITY[&quot;EPSG&quot;,&quot;8901&quot;]],UNIT[&quot;degree&quot;,0.0174532925199433,AUTHORITY[&quot;EPSG&quot;,&quot;9122&quot;]],AUTHORITY[&quot;EPSG&quot;,&quot;4283&quot;]],PROJECTION[&quot;Albers_Conic_Equal_Area&quot;],PARAMETER[&quot;latitude_of_center&quot;,0],PARAMETER[&quot;longitude_of_center&quot;,132],PARAMETER[&quot;standard_parallel_1&quot;,-18],PARAMETER[&quot;standard_parallel_2&quot;,-36],PARAMETER[&quot;false_easting&quot;,0],PARAMETER[&quot;false_northing&quot;,0],UNIT[&quot;metre&quot;,1,AUTHORITY[&quot;EPSG&quot;,&quot;9001&quot;]],AXIS[&quot;Easting&quot;,EAST],AXIS[&quot;Northing&quot;,NORTH],AUTHORITY[&quot;EPSG&quot;,&quot;3577&quot;]]</dd><dt><span>grid_mapping_name :</span></dt><dd>albers_conical_equal_area</dd></dl></div><div class='xr-var-data'><pre>array(3577, dtype=int32)</pre></div></li></ul></div></li><li class='xr-section-item'><input id='section-9cf6b55b-ad39-4d46-92f1-73bf003731e5' class='xr-section-summary-in' type='checkbox'  checked><label for='section-9cf6b55b-ad39-4d46-92f1-73bf003731e5' class='xr-section-summary' >Data variables: <span>(1)</span></label><div class='xr-section-inline-details'></div><div class='xr-section-details'><ul class='xr-var-list'><li class='xr-var-item'><div class='xr-var-name'><span>ndwi</span></div><div class='xr-var-dims'>(time, y, x)</div><div class='xr-var-dtype'>float32</div><div class='xr-var-preview xr-preview'>nan nan nan ... -0.1497 -0.1475</div><input id='attrs-db76b7d6-4711-4316-aa1f-4a696467ea31' class='xr-var-attrs-in' type='checkbox' disabled><label for='attrs-db76b7d6-4711-4316-aa1f-4a696467ea31' title='Show/Hide attributes'><svg class='icon xr-icon-file-text2'><use xlink:href='#icon-file-text2'></use></svg></label><input id='data-a0937966-3031-4e30-806a-0f8365ddd020' class='xr-var-data-in' type='checkbox'><label for='data-a0937966-3031-4e30-806a-0f8365ddd020' title='Show/Hide data repr'><svg class='icon xr-icon-database'><use xlink:href='#icon-database'></use></svg></label><div class='xr-var-attrs'><dl class='xr-attrs'></dl></div><div class='xr-var-data'><pre>array([[[        nan,         nan,         nan, ...,         nan,\n",
       "                 nan,         nan],\n",
       "        [        nan,         nan,         nan, ...,         nan,\n",
       "                 nan,         nan],\n",
       "        [        nan,         nan,         nan, ...,         nan,\n",
       "                 nan,         nan],\n",
       "        ...,\n",
       "        [        nan,         nan,         nan, ...,         nan,\n",
       "                 nan,         nan],\n",
       "        [        nan,         nan,         nan, ...,         nan,\n",
       "                 nan,         nan],\n",
       "        [        nan,         nan,         nan, ...,         nan,\n",
       "                 nan,         nan]],\n",
       "\n",
       "       [[        nan,         nan,         nan, ...,         nan,\n",
       "                 nan,         nan],\n",
       "        [        nan,         nan,         nan, ...,         nan,\n",
       "                 nan,         nan],\n",
       "        [        nan,         nan,         nan, ...,         nan,\n",
       "                 nan,         nan],\n",
       "...\n",
       "        [-0.28791055, -0.19908765, -0.18291906, ..., -0.12566371,\n",
       "         -0.13734658, -0.13780919],\n",
       "        [-0.26882452, -0.18714556, -0.18330757, ..., -0.1266628 ,\n",
       "         -0.14154728, -0.16397229],\n",
       "        [-0.26941255, -0.19596086, -0.19256966, ..., -0.13431086,\n",
       "         -0.14449541, -0.1503192 ]],\n",
       "\n",
       "       [[ 0.12037037,  0.13239028,  0.14423077, ..., -0.10151584,\n",
       "         -0.11488601, -0.12766884],\n",
       "        [        nan,         nan,         nan, ..., -0.09648332,\n",
       "         -0.11159737, -0.12398807],\n",
       "        [        nan,         nan,         nan, ..., -0.10063463,\n",
       "         -0.1155517 , -0.12807676],\n",
       "        ...,\n",
       "        [        nan,         nan,         nan, ..., -0.16178522,\n",
       "         -0.15329513, -0.14453411],\n",
       "        [        nan,         nan,         nan, ..., -0.15825847,\n",
       "         -0.1529246 , -0.1492109 ],\n",
       "        [        nan,         nan,         nan, ..., -0.15453915,\n",
       "         -0.14968377, -0.14754099]]], dtype=float32)</pre></div></li></ul></div></li><li class='xr-section-item'><input id='section-84471b4d-4685-4f7c-86ce-bb9b20030bd5' class='xr-section-summary-in' type='checkbox'  ><label for='section-84471b4d-4685-4f7c-86ce-bb9b20030bd5' class='xr-section-summary' >Indexes: <span>(3)</span></label><div class='xr-section-inline-details'></div><div class='xr-section-details'><ul class='xr-var-list'><li class='xr-var-item'><div class='xr-index-name'><div>time</div></div><div class='xr-index-preview'>PandasIndex</div><div></div><input id='index-b8326736-d0f5-4b14-acc2-a1054e845722' class='xr-index-data-in' type='checkbox'/><label for='index-b8326736-d0f5-4b14-acc2-a1054e845722' title='Show/Hide index repr'><svg class='icon xr-icon-database'><use xlink:href='#icon-database'></use></svg></label><div class='xr-index-data'><pre>PandasIndex(DatetimeIndex([&#x27;2019-01-02 00:59:08.684254&#x27;, &#x27;2019-01-03 00:48:15.730294&#x27;,\n",
       "               &#x27;2019-01-06 01:11:32.919000&#x27;, &#x27;2019-01-10 00:54:13.477130&#x27;,\n",
       "               &#x27;2019-01-11 01:11:37.142000&#x27;, &#x27;2019-01-16 01:11:34.149000&#x27;,\n",
       "               &#x27;2019-01-18 00:59:05.911427&#x27;, &#x27;2019-01-19 00:47:45.379520&#x27;,\n",
       "               &#x27;2019-01-21 01:11:38.080000&#x27;, &#x27;2019-01-26 00:53:42.358434&#x27;,\n",
       "               ...\n",
       "               &#x27;2019-12-04 00:59:35.448261&#x27;, &#x27;2019-12-05 00:35:22.243660&#x27;,\n",
       "               &#x27;2019-12-07 01:11:32.224747&#x27;, &#x27;2019-12-12 00:41:12.118540&#x27;,\n",
       "               &#x27;2019-12-12 01:11:34.140178&#x27;, &#x27;2019-12-17 01:11:32.883410&#x27;,\n",
       "               &#x27;2019-12-21 00:34:33.836029&#x27;, &#x27;2019-12-22 01:11:32.299421&#x27;,\n",
       "               &#x27;2019-12-27 01:11:33.253026&#x27;, &#x27;2019-12-28 00:40:22.913633&#x27;],\n",
       "              dtype=&#x27;datetime64[ns]&#x27;, name=&#x27;time&#x27;, length=129, freq=None))</pre></div></li><li class='xr-var-item'><div class='xr-index-name'><div>y</div></div><div class='xr-index-preview'>PandasIndex</div><div></div><input id='index-c9fc5bbc-95b6-40d8-af32-841d0b13cac5' class='xr-index-data-in' type='checkbox'/><label for='index-c9fc5bbc-95b6-40d8-af32-841d0b13cac5' title='Show/Hide index repr'><svg class='icon xr-icon-database'><use xlink:href='#icon-database'></use></svg></label><div class='xr-index-data'><pre>PandasIndex(Float64Index([-1678635.0, -1678645.0, -1678655.0, -1678665.0, -1678675.0,\n",
       "              -1678685.0, -1678695.0, -1678705.0, -1678715.0, -1678725.0,\n",
       "              ...\n",
       "              -1680855.0, -1680865.0, -1680875.0, -1680885.0, -1680895.0,\n",
       "              -1680905.0, -1680915.0, -1680925.0, -1680935.0, -1680945.0],\n",
       "             dtype=&#x27;float64&#x27;, name=&#x27;y&#x27;, length=232))</pre></div></li><li class='xr-var-item'><div class='xr-index-name'><div>x</div></div><div class='xr-index-preview'>PandasIndex</div><div></div><input id='index-12699311-3b3d-44ec-a9f9-23981cf615a0' class='xr-index-data-in' type='checkbox'/><label for='index-12699311-3b3d-44ec-a9f9-23981cf615a0' title='Show/Hide index repr'><svg class='icon xr-icon-database'><use xlink:href='#icon-database'></use></svg></label><div class='xr-index-data'><pre>PandasIndex(Float64Index([488525.0, 488535.0, 488545.0, 488555.0, 488565.0, 488575.0,\n",
       "              488585.0, 488595.0, 488605.0, 488615.0,\n",
       "              ...\n",
       "              491135.0, 491145.0, 491155.0, 491165.0, 491175.0, 491185.0,\n",
       "              491195.0, 491205.0, 491215.0, 491225.0],\n",
       "             dtype=&#x27;float64&#x27;, name=&#x27;x&#x27;, length=271))</pre></div></li></ul></div></li><li class='xr-section-item'><input id='section-2d3c986d-663c-4f26-ad5d-0ad37888bcf7' class='xr-section-summary-in' type='checkbox'  checked><label for='section-2d3c986d-663c-4f26-ad5d-0ad37888bcf7' class='xr-section-summary' >Attributes: <span>(2)</span></label><div class='xr-section-inline-details'></div><div class='xr-section-details'><dl class='xr-attrs'><dt><span>crs :</span></dt><dd>EPSG:3577</dd><dt><span>grid_mapping :</span></dt><dd>spatial_ref</dd></dl></div></li></ul></div></div>"
      ],
      "text/plain": [
       "<xarray.Dataset>\n",
       "Dimensions:      (time: 129, y: 232, x: 271)\n",
       "Coordinates:\n",
       "  * time         (time) datetime64[ns] 2019-01-02T00:59:08.684254 ... 2019-12...\n",
       "  * y            (y) float64 -1.679e+06 -1.679e+06 ... -1.681e+06 -1.681e+06\n",
       "  * x            (x) float64 4.885e+05 4.885e+05 ... 4.912e+05 4.912e+05\n",
       "    spatial_ref  int32 3577\n",
       "Data variables:\n",
       "    ndwi         (time, y, x) float32 nan nan nan ... -0.1545 -0.1497 -0.1475\n",
       "Attributes:\n",
       "    crs:           EPSG:3577\n",
       "    grid_mapping:  spatial_ref"
      ]
     },
     "execution_count": 8,
     "metadata": {},
     "output_type": "execute_result"
    }
   ],
   "source": [
    "%%time\n",
    "\n",
    "# Connect to datacube\n",
    "dc = datacube.Datacube(app=\"Intertidal_elevation\")\n",
    "\n",
    "# Create local dask cluster to improve data load time\n",
    "client = create_local_dask_cluster(return_client=True)\n",
    "\n",
    "satellite_ds, _, _ = load_data(\n",
    "    dc=dc,\n",
    "    study_area=study_area,\n",
    "    geom=geom,\n",
    "    time_range=(start_date, end_date),\n",
    "    resolution=resolution,\n",
    "    crs=crs,\n",
    "    include_s2=True,\n",
    "    include_ls=True,\n",
    "    filter_gqa=filter_gqa,\n",
    "    max_cloudcover=90,\n",
    "    skip_broken_datasets=True,\n",
    ")\n",
    "\n",
    "print(satellite_ds)\n",
    "\n",
    "# Load data\n",
    "satellite_ds.load()\n"
   ]
  },
  {
   "cell_type": "code",
   "execution_count": null,
   "id": "92d23ccd-f088-4815-8a56-08bc0f69ccbe",
   "metadata": {
    "tags": []
   },
   "outputs": [],
   "source": [
    "# # Experiment of removing mostly empty scenes to reduce memory/speed up\n",
    "# satellite_ds = satellite_ds.sel(\n",
    "#     time=satellite_ds.ndwi.notnull().mean(dim=[\"y\", \"x\"]) > 0.9\n",
    "# )"
   ]
  },
  {
   "cell_type": "markdown",
   "id": "93f45ad8-b23d-425a-91c1-a227b67d1372",
   "metadata": {},
   "source": [
    "### Load optional topobathy mask\n",
    "Loads a topo-bathymetric DEM for the extents of the loaded satellite data.\n",
    "This is used as a coarse mask to constrain the analysis to the coastal zone, improving run time and reducing clear false positives over deep water or elevated land."
   ]
  },
  {
   "cell_type": "code",
   "execution_count": 9,
   "id": "b3348b1b-ea4c-4637-958e-c0d89212e25a",
   "metadata": {
    "tags": []
   },
   "outputs": [],
   "source": [
    "# Load data from GA's Australian Bathymetry and Topography Grid 2009\n",
    "topobathy_ds = load_topobathy(\n",
    "    dc, satellite_ds, product=\"ga_multi_ausbath_0\", resampling=\"bilinear\"\n",
    ")"
   ]
  },
  {
   "cell_type": "code",
   "execution_count": null,
   "id": "9b132304-7271-455b-808b-396423a644fe",
   "metadata": {
    "tags": []
   },
   "outputs": [],
   "source": [
    "# interpolate_2d(\n",
    "#         tide_lowres,\n",
    "#         x_coords=ranks_gdf.geometry.x,\n",
    "#         y_coords=ranks_gdf.geometry.y,\n",
    "#         z_coords=ranks_gdf.point_id,\n",
    "#         method=interp_method,\n",
    "#     ).odc.assign_crs(\"EPSG:3577\").astype(np.int16).odc.write_cog(f\"model_nearest.tif\", overwrite=True)"
   ]
  },
  {
   "cell_type": "markdown",
   "id": "c34949eb-96f1-4844-ad6e-aeb71399e9f5",
   "metadata": {},
   "source": [
    "## Pixel-based tides"
   ]
  },
  {
   "cell_type": "code",
   "execution_count": 10,
   "id": "1cc505df-daf3-4592-858e-6695aa1f78b4",
   "metadata": {},
   "outputs": [
    {
     "name": "stdout",
     "output_type": "stream",
     "text": [
      "Creating reduced resolution 5000 x 5000 metre tide modelling array\n",
      "Modelling tides using FES2014, FES2012, TPXO8-atlas-v1, TPXO9-atlas-v5, EOT20, HAMTIDE11, GOT4.10 in parallel\n"
     ]
    },
    {
     "name": "stderr",
     "output_type": "stream",
     "text": [
      "100%|██████████| 35/35 [00:17<00:00,  2.03it/s]\n"
     ]
    },
    {
     "name": "stdout",
     "output_type": "stream",
     "text": [
      "Returning low resolution tide array\n",
      "Generating ensemble tide model from point inputs\n",
      "                   ranks\n",
      "tide_model              \n",
      "TPXO9-atlas-v5  0.388625\n",
      "TPXO8-atlas-v1  0.386603\n",
      "GOT4.10         0.381120\n",
      "FES2014         0.377686\n",
      "FES2012         0.377092\n",
      "EOT20           0.372728\n",
      "HAMTIDE11       0.368915\n"
     ]
    }
   ],
   "source": [
    "# tide_model = \"FES2014\"\n",
    "tide_model = \"ensemble\"\n",
    "\n",
    "if tide_model == \"ensemble\":\n",
    "    # Model tides into every pixel in the three-dimensional satellite\n",
    "    # dataset (x by y by time) after generating ensemble model using\n",
    "    # ancillary inputs\n",
    "    tide_m, model_ranks = pixel_tides_ensemble(\n",
    "        satellite_ds,\n",
    "        directory=tide_model_dir,\n",
    "        ancillary_points=\"data/raw/tide_correlations_2017-2019.geojson\",\n",
    "        top_n=3,\n",
    "        reduce_method='mean',\n",
    "        resolution=3000,\n",
    "    )\n",
    "\n",
    "    # Print models in order of correlation\n",
    "    print(\n",
    "        model_ranks.mean(dim=[\"x\", \"y\"])\n",
    "        .to_dataframe(\"ranks\")\n",
    "        .sort_values(\"ranks\", ascending=False)\n",
    "    )\n",
    "\n",
    "else:\n",
    "    # Model tides into every pixel in the three-dimensional satellite\n",
    "    # dataset (x by y by time)\n",
    "    tide_m, _ = pixel_tides(\n",
    "        satellite_ds,\n",
    "        resample=True,\n",
    "        model=tide_model,\n",
    "        directory=tide_model_dir,\n",
    "    )"
   ]
  },
  {
   "cell_type": "code",
   "execution_count": null,
   "id": "32fcc597-9145-4f0e-bd4e-cef454d4a919",
   "metadata": {},
   "outputs": [],
   "source": [
    "## Experimental: testing ebb flow filtering\n",
    "# ebb_flow_da, tide_m_offset = pixel_ebb_flow(tide_m, offset_min=15)"
   ]
  },
  {
   "cell_type": "code",
   "execution_count": 11,
   "id": "0dcac52f-78d5-41f3-81a4-199509949a96",
   "metadata": {},
   "outputs": [],
   "source": [
    "# Set tide array pixels to nodata if the satellite data array pixels contain\n",
    "# nodata. This ensures that we ignore any tide observations where we don't\n",
    "# have matching satellite imagery\n",
    "satellite_ds[\"tide_m\"] = tide_m.where(\n",
    "    ~satellite_ds.to_array().isel(variable=0).isnull().drop(\"variable\")\n",
    ")"
   ]
  },
  {
   "cell_type": "markdown",
   "id": "e9c634b5-4195-4cee-9c34-84792debae03",
   "metadata": {},
   "source": [
    "## Pixel-based DEM creation"
   ]
  },
  {
   "cell_type": "markdown",
   "id": "d197a187-6a74-4588-95ea-678a576a269b",
   "metadata": {
    "tags": []
   },
   "source": [
    "### Flatten array from 3D to 2D and drop pixels with no correlation with tide\n",
    "Flatten array to only pixels with positive correlations between water observations and tide height. This greatly improves processing time by ensuring only a narrow strip of pixels along the coastline are analysed, rather than the entire x * y array:\n",
    "\n",
    "\n",
    "![](../data/figures/tide_array_flattening.JPG)"
   ]
  },
  {
   "cell_type": "code",
   "execution_count": 12,
   "id": "457ee569-b862-4a4c-b04e-66b39c9fa931",
   "metadata": {},
   "outputs": [
    {
     "name": "stdout",
     "output_type": "stream",
     "text": [
      "Reducing analysed pixels from 62872 to 32922 (52.36%)\n",
      "CPU times: user 325 ms, sys: 103 ms, total: 428 ms\n",
      "Wall time: 403 ms\n"
     ]
    }
   ],
   "source": [
    "%%time\n",
    "flat_ds, freq, corr = ds_to_flat(\n",
    "    satellite_ds,\n",
    "    ndwi_thresh=0.0,\n",
    "    min_freq=0.01,\n",
    "    max_freq=0.99,\n",
    "    min_correlation=0.15,\n",
    "    valid_mask=topobathy_ds.height_depth > -20,\n",
    ")"
   ]
  },
  {
   "cell_type": "markdown",
   "id": "9e57e810-d4eb-4875-bf1a-aec1487acbf1",
   "metadata": {
    "tags": []
   },
   "source": [
    "### Pixel-wise rolling median\n",
    "This function performs a rolling median calculation along the tide heights of our satellite images. \n",
    "It breaks our tide range into `windows_n` individual rolling windows, each of which covers `windows_prop_tide` of the full tidal range. \n",
    "For each window, the function returns the median of all tide heights and NDWI index values within the window, and returns an array with a new \"interval\" dimension that summarises these values from low to high tide."
   ]
  },
  {
   "cell_type": "code",
   "execution_count": 13,
   "id": "6bc468ab-9c95-4065-b0f4-ea323cff266f",
   "metadata": {},
   "outputs": [
    {
     "data": {
      "application/vnd.jupyter.widget-view+json": {
       "model_id": "a853124e7e1e444b9b1411247d4470bd",
       "version_major": 2,
       "version_minor": 0
      },
      "text/plain": [
       "  0%|          | 0/105 [00:00<?, ?it/s]"
      ]
     },
     "metadata": {},
     "output_type": "display_data"
    }
   ],
   "source": [
    "interval_ds = pixel_rolling_median(\n",
    "    flat_ds,\n",
    "    windows_n=100,\n",
    "    window_prop_tide=0.15,\n",
    "    window_offset=5,\n",
    "    max_workers=None,\n",
    ")"
   ]
  },
  {
   "cell_type": "markdown",
   "id": "baab484a-b501-4203-88de-c8c959ae701c",
   "metadata": {},
   "source": [
    "### Model intertidal elevation and uncertainty"
   ]
  },
  {
   "cell_type": "code",
   "execution_count": 14,
   "id": "0a8e0556-c698-4628-b0f3-cf35e722a293",
   "metadata": {},
   "outputs": [
    {
     "name": "stdout",
     "output_type": "stream",
     "text": [
      "Applying tidal interval interpolation to 200 intervals\n",
      "Applying rolling mean smoothing with radius 20\n"
     ]
    }
   ],
   "source": [
    "# Model elevation\n",
    "flat_dem = pixel_dem(\n",
    "    interval_ds,\n",
    "    ndwi_thresh=ndwi_thresh,\n",
    "    interp_intervals=200,\n",
    "    smooth_radius=20,\n",
    ")"
   ]
  },
  {
   "cell_type": "code",
   "execution_count": 15,
   "id": "cec14155-eeb5-4a78-a30f-54b329e6e7e2",
   "metadata": {},
   "outputs": [],
   "source": [
    "# Model uncertainty\n",
    "low, high, uncertainty, misclassified = pixel_uncertainty(\n",
    "    flat_ds, flat_dem, ndwi_thresh, method=\"mad\"\n",
    ")\n",
    "\n",
    "# Add arrays to dataset\n",
    "flat_dem[[\"elevation_low\", \"elevation_high\", \"elevation_uncertainty\"]] = (\n",
    "    low,\n",
    "    high,\n",
    "    uncertainty,\n",
    ")"
   ]
  },
  {
   "cell_type": "markdown",
   "id": "251168d7-3210-4b59-9436-8ae550c777b9",
   "metadata": {},
   "source": [
    "Plot example elevation extraction for a single pixel:"
   ]
  },
  {
   "cell_type": "code",
   "execution_count": 16,
   "id": "d27970fe-05f4-4fa6-920e-73a1addb1e88",
   "metadata": {
    "tags": []
   },
   "outputs": [
    {
     "data": {
      "image/png": "[encoded data removed]",
      "text/plain": [
       "<Figure size 640x480 with 1 Axes>"
      ]
     },
     "metadata": {},
     "output_type": "display_data"
    }
   ],
   "source": [
    "x, y = 495493,-1677653\n",
    "pixel_dem_debug(\n",
    "    x,\n",
    "    y,\n",
    "    flat_ds,\n",
    "    interval_ds, \n",
    "    interp_intervals=200,\n",
    "    smooth_radius=20,\n",
    "    plot_style=\"year\"\n",
    ")"
   ]
  },
  {
   "cell_type": "markdown",
   "id": "a379f9cf-3f24-4a0f-9b37-e4b462dccb5d",
   "metadata": {},
   "source": [
    "## Unstack outputs and export"
   ]
  },
  {
   "cell_type": "code",
   "execution_count": 17,
   "id": "1f1d3490-59aa-4001-8ea9-ea46f809c944",
   "metadata": {
    "tags": []
   },
   "outputs": [],
   "source": [
    "# Combine QA layers with elevation layers\n",
    "flat_combined = xr.combine_by_coords(\n",
    "    [flat_dem,  # DEM data\n",
    "     freq,  # Frequency\n",
    "     corr,  # Correlation\n",
    "    ],\n",
    ")\n",
    "\n",
    "# Unstack elevation and uncertainty layers back into their original \n",
    "# spatial dimensions\n",
    "ds = flat_to_ds(flat_combined, satellite_ds)\n",
    "\n",
    "# Clean upper edge of intertidal zone in elevation layers \n",
    "# (likely to be inaccurate edge pixels)\n",
    "elevation_bands = [d for d in ds.data_vars if \"elevation\" in d]\n",
    "ds[elevation_bands] = clean_edge_pixels(ds[elevation_bands])"
   ]
  },
  {
   "cell_type": "code",
   "execution_count": 19,
   "id": "75b41fb9-6271-4c8a-a1d5-f4800d03f789",
   "metadata": {
    "tags": []
   },
   "outputs": [
    {
     "data": {
      "text/plain": [
       "<matplotlib.image.AxesImage at 0x7f6155590580>"
      ]
     },
     "execution_count": 19,
     "metadata": {},
     "output_type": "execute_result"
    },
    {
     "data": {
      "image/png": "[encoded data removed]",
      "text/plain": [
       "<Figure size 1200x300 with 8 Axes>"
      ]
     },
     "metadata": {},
     "output_type": "display_data"
    }
   ],
   "source": [
    "fix, axes = plt.subplots(1, 4, figsize=(12, 3))\n",
    "ds.elevation.plot.imshow(cmap=\"viridis\", ax=axes[0])\n",
    "ds.elevation_uncertainty.plot.imshow(cmap=\"inferno\", ax=axes[1])\n",
    "ds.qa_ndwi_corr.plot.imshow(cmap=\"RdBu\", vmin=-0.7, vmax=0.7, ax=axes[2])\n",
    "ds.qa_ndwi_freq.plot.imshow(cmap=\"Blues\", vmin=0, vmax=1, ax=axes[3])"
   ]
  },
  {
   "cell_type": "markdown",
   "id": "9fcd13e6-db3e-409c-905d-d9f6a9733348",
   "metadata": {},
   "source": [
    "### Export to GeoTIFF files"
   ]
  },
  {
   "cell_type": "code",
   "execution_count": 20,
   "id": "ae5db6ce-c55c-4d3c-8a90-e7db3f792039",
   "metadata": {
    "tags": []
   },
   "outputs": [
    {
     "data": {
      "text/html": [
       "<div><svg style=\"position: absolute; width: 0; height: 0; overflow: hidden\">\n",
       "<defs>\n",
       "<symbol id=\"icon-database\" viewBox=\"0 0 32 32\">\n",
       "<path d=\"M16 0c-8.837 0-16 2.239-16 5v4c0 2.761 7.163 5 16 5s16-2.239 16-5v-4c0-2.761-7.163-5-16-5z\"></path>\n",
       "<path d=\"M16 17c-8.837 0-16-2.239-16-5v6c0 2.761 7.163 5 16 5s16-2.239 16-5v-6c0 2.761-7.163 5-16 5z\"></path>\n",
       "<path d=\"M16 26c-8.837 0-16-2.239-16-5v6c0 2.761 7.163 5 16 5s16-2.239 16-5v-6c0 2.761-7.163 5-16 5z\"></path>\n",
       "</symbol>\n",
       "<symbol id=\"icon-file-text2\" viewBox=\"0 0 32 32\">\n",
       "<path d=\"M28.681 7.159c-0.694-0.947-1.662-2.053-2.724-3.116s-2.169-2.030-3.116-2.724c-1.612-1.182-2.393-1.319-2.841-1.319h-15.5c-1.378 0-2.5 1.121-2.5 2.5v27c0 1.378 1.122 2.5 2.5 2.5h23c1.378 0 2.5-1.122 2.5-2.5v-19.5c0-0.448-0.137-1.23-1.319-2.841zM24.543 5.457c0.959 0.959 1.712 1.825 2.268 2.543h-4.811v-4.811c0.718 0.556 1.584 1.309 2.543 2.268zM28 29.5c0 0.271-0.229 0.5-0.5 0.5h-23c-0.271 0-0.5-0.229-0.5-0.5v-27c0-0.271 0.229-0.5 0.5-0.5 0 0 15.499-0 15.5 0v7c0 0.552 0.448 1 1 1h7v19.5z\"></path>\n",
       "<path d=\"M23 26h-14c-0.552 0-1-0.448-1-1s0.448-1 1-1h14c0.552 0 1 0.448 1 1s-0.448 1-1 1z\"></path>\n",
       "<path d=\"M23 22h-14c-0.552 0-1-0.448-1-1s0.448-1 1-1h14c0.552 0 1 0.448 1 1s-0.448 1-1 1z\"></path>\n",
       "<path d=\"M23 18h-14c-0.552 0-1-0.448-1-1s0.448-1 1-1h14c0.552 0 1 0.448 1 1s-0.448 1-1 1z\"></path>\n",
       "</symbol>\n",
       "</defs>\n",
       "</svg>\n",
       "<style>/* CSS stylesheet for displaying xarray objects in jupyterlab.\n",
       " *\n",
       " */\n",
       "\n",
       ":root {\n",
       "  --xr-font-color0: var(--jp-content-font-color0, rgba(0, 0, 0, 1));\n",
       "  --xr-font-color2: var(--jp-content-font-color2, rgba(0, 0, 0, 0.54));\n",
       "  --xr-font-color3: var(--jp-content-font-color3, rgba(0, 0, 0, 0.38));\n",
       "  --xr-border-color: var(--jp-border-color2, #e0e0e0);\n",
       "  --xr-disabled-color: var(--jp-layout-color3, #bdbdbd);\n",
       "  --xr-background-color: var(--jp-layout-color0, white);\n",
       "  --xr-background-color-row-even: var(--jp-layout-color1, white);\n",
       "  --xr-background-color-row-odd: var(--jp-layout-color2, #eeeeee);\n",
       "}\n",
       "\n",
       "html[theme=dark],\n",
       "body[data-theme=dark],\n",
       "body.vscode-dark {\n",
       "  --xr-font-color0: rgba(255, 255, 255, 1);\n",
       "  --xr-font-color2: rgba(255, 255, 255, 0.54);\n",
       "  --xr-font-color3: rgba(255, 255, 255, 0.38);\n",
       "  --xr-border-color: #1F1F1F;\n",
       "  --xr-disabled-color: #515151;\n",
       "  --xr-background-color: #111111;\n",
       "  --xr-background-color-row-even: #111111;\n",
       "  --xr-background-color-row-odd: #313131;\n",
       "}\n",
       "\n",
       ".xr-wrap {\n",
       "  display: block !important;\n",
       "  min-width: 300px;\n",
       "  max-width: 700px;\n",
       "}\n",
       "\n",
       ".xr-text-repr-fallback {\n",
       "  /* fallback to plain text repr when CSS is not injected (untrusted notebook) */\n",
       "  display: none;\n",
       "}\n",
       "\n",
       ".xr-header {\n",
       "  padding-top: 6px;\n",
       "  padding-bottom: 6px;\n",
       "  margin-bottom: 4px;\n",
       "  border-bottom: solid 1px var(--xr-border-color);\n",
       "}\n",
       "\n",
       ".xr-header > div,\n",
       ".xr-header > ul {\n",
       "  display: inline;\n",
       "  margin-top: 0;\n",
       "  margin-bottom: 0;\n",
       "}\n",
       "\n",
       ".xr-obj-type,\n",
       ".xr-array-name {\n",
       "  margin-left: 2px;\n",
       "  margin-right: 10px;\n",
       "}\n",
       "\n",
       ".xr-obj-type {\n",
       "  color: var(--xr-font-color2);\n",
       "}\n",
       "\n",
       ".xr-sections {\n",
       "  padding-left: 0 !important;\n",
       "  display: grid;\n",
       "  grid-template-columns: 150px auto auto 1fr 20px 20px;\n",
       "}\n",
       "\n",
       ".xr-section-item {\n",
       "  display: contents;\n",
       "}\n",
       "\n",
       ".xr-section-item input {\n",
       "  display: none;\n",
       "}\n",
       "\n",
       ".xr-section-item input + label {\n",
       "  color: var(--xr-disabled-color);\n",
       "}\n",
       "\n",
       ".xr-section-item input:enabled + label {\n",
       "  cursor: pointer;\n",
       "  color: var(--xr-font-color2);\n",
       "}\n",
       "\n",
       ".xr-section-item input:enabled + label:hover {\n",
       "  color: var(--xr-font-color0);\n",
       "}\n",
       "\n",
       ".xr-section-summary {\n",
       "  grid-column: 1;\n",
       "  color: var(--xr-font-color2);\n",
       "  font-weight: 500;\n",
       "}\n",
       "\n",
       ".xr-section-summary > span {\n",
       "  display: inline-block;\n",
       "  padding-left: 0.5em;\n",
       "}\n",
       "\n",
       ".xr-section-summary-in:disabled + label {\n",
       "  color: var(--xr-font-color2);\n",
       "}\n",
       "\n",
       ".xr-section-summary-in + label:before {\n",
       "  display: inline-block;\n",
       "  content: '►';\n",
       "  font-size: 11px;\n",
       "  width: 15px;\n",
       "  text-align: center;\n",
       "}\n",
       "\n",
       ".xr-section-summary-in:disabled + label:before {\n",
       "  color: var(--xr-disabled-color);\n",
       "}\n",
       "\n",
       ".xr-section-summary-in:checked + label:before {\n",
       "  content: '▼';\n",
       "}\n",
       "\n",
       ".xr-section-summary-in:checked + label > span {\n",
       "  display: none;\n",
       "}\n",
       "\n",
       ".xr-section-summary,\n",
       ".xr-section-inline-details {\n",
       "  padding-top: 4px;\n",
       "  padding-bottom: 4px;\n",
       "}\n",
       "\n",
       ".xr-section-inline-details {\n",
       "  grid-column: 2 / -1;\n",
       "}\n",
       "\n",
       ".xr-section-details {\n",
       "  display: none;\n",
       "  grid-column: 1 / -1;\n",
       "  margin-bottom: 5px;\n",
       "}\n",
       "\n",
       ".xr-section-summary-in:checked ~ .xr-section-details {\n",
       "  display: contents;\n",
       "}\n",
       "\n",
       ".xr-array-wrap {\n",
       "  grid-column: 1 / -1;\n",
       "  display: grid;\n",
       "  grid-template-columns: 20px auto;\n",
       "}\n",
       "\n",
       ".xr-array-wrap > label {\n",
       "  grid-column: 1;\n",
       "  vertical-align: top;\n",
       "}\n",
       "\n",
       ".xr-preview {\n",
       "  color: var(--xr-font-color3);\n",
       "}\n",
       "\n",
       ".xr-array-preview,\n",
       ".xr-array-data {\n",
       "  padding: 0 5px !important;\n",
       "  grid-column: 2;\n",
       "}\n",
       "\n",
       ".xr-array-data,\n",
       ".xr-array-in:checked ~ .xr-array-preview {\n",
       "  display: none;\n",
       "}\n",
       "\n",
       ".xr-array-in:checked ~ .xr-array-data,\n",
       ".xr-array-preview {\n",
       "  display: inline-block;\n",
       "}\n",
       "\n",
       ".xr-dim-list {\n",
       "  display: inline-block !important;\n",
       "  list-style: none;\n",
       "  padding: 0 !important;\n",
       "  margin: 0;\n",
       "}\n",
       "\n",
       ".xr-dim-list li {\n",
       "  display: inline-block;\n",
       "  padding: 0;\n",
       "  margin: 0;\n",
       "}\n",
       "\n",
       ".xr-dim-list:before {\n",
       "  content: '(';\n",
       "}\n",
       "\n",
       ".xr-dim-list:after {\n",
       "  content: ')';\n",
       "}\n",
       "\n",
       ".xr-dim-list li:not(:last-child):after {\n",
       "  content: ',';\n",
       "  padding-right: 5px;\n",
       "}\n",
       "\n",
       ".xr-has-index {\n",
       "  font-weight: bold;\n",
       "}\n",
       "\n",
       ".xr-var-list,\n",
       ".xr-var-item {\n",
       "  display: contents;\n",
       "}\n",
       "\n",
       ".xr-var-item > div,\n",
       ".xr-var-item label,\n",
       ".xr-var-item > .xr-var-name span {\n",
       "  background-color: var(--xr-background-color-row-even);\n",
       "  margin-bottom: 0;\n",
       "}\n",
       "\n",
       ".xr-var-item > .xr-var-name:hover span {\n",
       "  padding-right: 5px;\n",
       "}\n",
       "\n",
       ".xr-var-list > li:nth-child(odd) > div,\n",
       ".xr-var-list > li:nth-child(odd) > label,\n",
       ".xr-var-list > li:nth-child(odd) > .xr-var-name span {\n",
       "  background-color: var(--xr-background-color-row-odd);\n",
       "}\n",
       "\n",
       ".xr-var-name {\n",
       "  grid-column: 1;\n",
       "}\n",
       "\n",
       ".xr-var-dims {\n",
       "  grid-column: 2;\n",
       "}\n",
       "\n",
       ".xr-var-dtype {\n",
       "  grid-column: 3;\n",
       "  text-align: right;\n",
       "  color: var(--xr-font-color2);\n",
       "}\n",
       "\n",
       ".xr-var-preview {\n",
       "  grid-column: 4;\n",
       "}\n",
       "\n",
       ".xr-index-preview {\n",
       "  grid-column: 2 / 5;\n",
       "  color: var(--xr-font-color2);\n",
       "}\n",
       "\n",
       ".xr-var-name,\n",
       ".xr-var-dims,\n",
       ".xr-var-dtype,\n",
       ".xr-preview,\n",
       ".xr-attrs dt {\n",
       "  white-space: nowrap;\n",
       "  overflow: hidden;\n",
       "  text-overflow: ellipsis;\n",
       "  padding-right: 10px;\n",
       "}\n",
       "\n",
       ".xr-var-name:hover,\n",
       ".xr-var-dims:hover,\n",
       ".xr-var-dtype:hover,\n",
       ".xr-attrs dt:hover {\n",
       "  overflow: visible;\n",
       "  width: auto;\n",
       "  z-index: 1;\n",
       "}\n",
       "\n",
       ".xr-var-attrs,\n",
       ".xr-var-data,\n",
       ".xr-index-data {\n",
       "  display: none;\n",
       "  background-color: var(--xr-background-color) !important;\n",
       "  padding-bottom: 5px !important;\n",
       "}\n",
       "\n",
       ".xr-var-attrs-in:checked ~ .xr-var-attrs,\n",
       ".xr-var-data-in:checked ~ .xr-var-data,\n",
       ".xr-index-data-in:checked ~ .xr-index-data {\n",
       "  display: block;\n",
       "}\n",
       "\n",
       ".xr-var-data > table {\n",
       "  float: right;\n",
       "}\n",
       "\n",
       ".xr-var-name span,\n",
       ".xr-var-data,\n",
       ".xr-index-name div,\n",
       ".xr-index-data,\n",
       ".xr-attrs {\n",
       "  padding-left: 25px !important;\n",
       "}\n",
       "\n",
       ".xr-attrs,\n",
       ".xr-var-attrs,\n",
       ".xr-var-data,\n",
       ".xr-index-data {\n",
       "  grid-column: 1 / -1;\n",
       "}\n",
       "\n",
       "dl.xr-attrs {\n",
       "  padding: 0;\n",
       "  margin: 0;\n",
       "  display: grid;\n",
       "  grid-template-columns: 125px auto;\n",
       "}\n",
       "\n",
       ".xr-attrs dt,\n",
       ".xr-attrs dd {\n",
       "  padding: 0;\n",
       "  margin: 0;\n",
       "  float: left;\n",
       "  padding-right: 10px;\n",
       "  width: auto;\n",
       "}\n",
       "\n",
       ".xr-attrs dt {\n",
       "  font-weight: normal;\n",
       "  grid-column: 1;\n",
       "}\n",
       "\n",
       ".xr-attrs dt:hover span {\n",
       "  display: inline-block;\n",
       "  background: var(--xr-background-color);\n",
       "  padding-right: 10px;\n",
       "}\n",
       "\n",
       ".xr-attrs dd {\n",
       "  grid-column: 2;\n",
       "  white-space: pre-wrap;\n",
       "  word-break: break-all;\n",
       "}\n",
       "\n",
       ".xr-icon-database,\n",
       ".xr-icon-file-text2,\n",
       ".xr-no-icon {\n",
       "  display: inline-block;\n",
       "  vertical-align: middle;\n",
       "  width: 1em;\n",
       "  height: 1.5em !important;\n",
       "  stroke-width: 0;\n",
       "  stroke: currentColor;\n",
       "  fill: currentColor;\n",
       "}\n",
       "</style><pre class='xr-text-repr-fallback'>&lt;xarray.Dataset&gt;\n",
       "Dimensions:                (y: 232, x: 271)\n",
       "Coordinates:\n",
       "  * y                      (y) float64 -1.679e+06 -1.679e+06 ... -1.681e+06\n",
       "  * x                      (x) float64 4.885e+05 4.885e+05 ... 4.912e+05\n",
       "    spatial_ref            int32 3577\n",
       "Data variables:\n",
       "    elevation              (y, x) float32 nan nan nan ... -0.7757 -0.7826\n",
       "    elevation_low          (y, x) float32 nan nan nan ... -0.8861 -0.8861\n",
       "    elevation_high         (y, x) float32 nan nan nan ... -0.6652 -0.6792\n",
       "    elevation_uncertainty  (y, x) float32 nan nan nan ... 0.2208 0.2208 0.2069\n",
       "    qa_ndwi_corr           (y, x) float32 nan nan nan ... 0.5677 0.5677 0.5677\n",
       "    qa_ndwi_freq           (y, x) int16 1 1 1 1 1 1 1 1 1 ... 0 0 0 0 0 0 0 0 0</pre><div class='xr-wrap' style='display:none'><div class='xr-header'><div class='xr-obj-type'>xarray.Dataset</div></div><ul class='xr-sections'><li class='xr-section-item'><input id='section-554f4eb7-e340-4681-a297-1d0d668edff5' class='xr-section-summary-in' type='checkbox' disabled ><label for='section-554f4eb7-e340-4681-a297-1d0d668edff5' class='xr-section-summary'  title='Expand/collapse section'>Dimensions:</label><div class='xr-section-inline-details'><ul class='xr-dim-list'><li><span class='xr-has-index'>y</span>: 232</li><li><span class='xr-has-index'>x</span>: 271</li></ul></div><div class='xr-section-details'></div></li><li class='xr-section-item'><input id='section-2067dd6f-507b-4cb3-bead-e3a3e6678b33' class='xr-section-summary-in' type='checkbox'  checked><label for='section-2067dd6f-507b-4cb3-bead-e3a3e6678b33' class='xr-section-summary' >Coordinates: <span>(3)</span></label><div class='xr-section-inline-details'></div><div class='xr-section-details'><ul class='xr-var-list'><li class='xr-var-item'><div class='xr-var-name'><span class='xr-has-index'>y</span></div><div class='xr-var-dims'>(y)</div><div class='xr-var-dtype'>float64</div><div class='xr-var-preview xr-preview'>-1.679e+06 ... -1.681e+06</div><input id='attrs-e0338909-3a10-453a-85d0-893e3c4cb88b' class='xr-var-attrs-in' type='checkbox' ><label for='attrs-e0338909-3a10-453a-85d0-893e3c4cb88b' title='Show/Hide attributes'><svg class='icon xr-icon-file-text2'><use xlink:href='#icon-file-text2'></use></svg></label><input id='data-2437c6ca-dd83-486a-af60-d8d7d47762dc' class='xr-var-data-in' type='checkbox'><label for='data-2437c6ca-dd83-486a-af60-d8d7d47762dc' title='Show/Hide data repr'><svg class='icon xr-icon-database'><use xlink:href='#icon-database'></use></svg></label><div class='xr-var-attrs'><dl class='xr-attrs'><dt><span>units :</span></dt><dd>metre</dd><dt><span>resolution :</span></dt><dd>-10.0</dd><dt><span>crs :</span></dt><dd>PROJCS[&quot;GDA94 / Australian Albers&quot;,GEOGCS[&quot;GDA94&quot;,DATUM[&quot;Geocentric_Datum_of_Australia_1994&quot;,SPHEROID[&quot;GRS 1980&quot;,6378137,298.257222101,AUTHORITY[&quot;EPSG&quot;,&quot;7019&quot;]],AUTHORITY[&quot;EPSG&quot;,&quot;6283&quot;]],PRIMEM[&quot;Greenwich&quot;,0,AUTHORITY[&quot;EPSG&quot;,&quot;8901&quot;]],UNIT[&quot;degree&quot;,0.0174532925199433,AUTHORITY[&quot;EPSG&quot;,&quot;9122&quot;]],AUTHORITY[&quot;EPSG&quot;,&quot;4283&quot;]],PROJECTION[&quot;Albers_Conic_Equal_Area&quot;],PARAMETER[&quot;latitude_of_center&quot;,0],PARAMETER[&quot;longitude_of_center&quot;,132],PARAMETER[&quot;standard_parallel_1&quot;,-18],PARAMETER[&quot;standard_parallel_2&quot;,-36],PARAMETER[&quot;false_easting&quot;,0],PARAMETER[&quot;false_northing&quot;,0],UNIT[&quot;metre&quot;,1,AUTHORITY[&quot;EPSG&quot;,&quot;9001&quot;]],AXIS[&quot;Easting&quot;,EAST],AXIS[&quot;Northing&quot;,NORTH],AUTHORITY[&quot;EPSG&quot;,&quot;3577&quot;]]</dd></dl></div><div class='xr-var-data'><pre>array([-1678635., -1678645., -1678655., ..., -1680925., -1680935., -1680945.])</pre></div></li><li class='xr-var-item'><div class='xr-var-name'><span class='xr-has-index'>x</span></div><div class='xr-var-dims'>(x)</div><div class='xr-var-dtype'>float64</div><div class='xr-var-preview xr-preview'>4.885e+05 4.885e+05 ... 4.912e+05</div><input id='attrs-f569aa07-5287-4686-b801-ebaddbd6da47' class='xr-var-attrs-in' type='checkbox' ><label for='attrs-f569aa07-5287-4686-b801-ebaddbd6da47' title='Show/Hide attributes'><svg class='icon xr-icon-file-text2'><use xlink:href='#icon-file-text2'></use></svg></label><input id='data-19fcc101-1dc8-48e9-9b53-c204fcf7b634' class='xr-var-data-in' type='checkbox'><label for='data-19fcc101-1dc8-48e9-9b53-c204fcf7b634' title='Show/Hide data repr'><svg class='icon xr-icon-database'><use xlink:href='#icon-database'></use></svg></label><div class='xr-var-attrs'><dl class='xr-attrs'><dt><span>units :</span></dt><dd>metre</dd><dt><span>resolution :</span></dt><dd>10.0</dd><dt><span>crs :</span></dt><dd>PROJCS[&quot;GDA94 / Australian Albers&quot;,GEOGCS[&quot;GDA94&quot;,DATUM[&quot;Geocentric_Datum_of_Australia_1994&quot;,SPHEROID[&quot;GRS 1980&quot;,6378137,298.257222101,AUTHORITY[&quot;EPSG&quot;,&quot;7019&quot;]],AUTHORITY[&quot;EPSG&quot;,&quot;6283&quot;]],PRIMEM[&quot;Greenwich&quot;,0,AUTHORITY[&quot;EPSG&quot;,&quot;8901&quot;]],UNIT[&quot;degree&quot;,0.0174532925199433,AUTHORITY[&quot;EPSG&quot;,&quot;9122&quot;]],AUTHORITY[&quot;EPSG&quot;,&quot;4283&quot;]],PROJECTION[&quot;Albers_Conic_Equal_Area&quot;],PARAMETER[&quot;latitude_of_center&quot;,0],PARAMETER[&quot;longitude_of_center&quot;,132],PARAMETER[&quot;standard_parallel_1&quot;,-18],PARAMETER[&quot;standard_parallel_2&quot;,-36],PARAMETER[&quot;false_easting&quot;,0],PARAMETER[&quot;false_northing&quot;,0],UNIT[&quot;metre&quot;,1,AUTHORITY[&quot;EPSG&quot;,&quot;9001&quot;]],AXIS[&quot;Easting&quot;,EAST],AXIS[&quot;Northing&quot;,NORTH],AUTHORITY[&quot;EPSG&quot;,&quot;3577&quot;]]</dd></dl></div><div class='xr-var-data'><pre>array([488525., 488535., 488545., ..., 491205., 491215., 491225.])</pre></div></li><li class='xr-var-item'><div class='xr-var-name'><span>spatial_ref</span></div><div class='xr-var-dims'>()</div><div class='xr-var-dtype'>int32</div><div class='xr-var-preview xr-preview'>3577</div><input id='attrs-21f7182b-b403-49f1-8164-0f0fccc8f7de' class='xr-var-attrs-in' type='checkbox' ><label for='attrs-21f7182b-b403-49f1-8164-0f0fccc8f7de' title='Show/Hide attributes'><svg class='icon xr-icon-file-text2'><use xlink:href='#icon-file-text2'></use></svg></label><input id='data-cc88aace-f5ea-47da-b9ec-8dc92ec96844' class='xr-var-data-in' type='checkbox'><label for='data-cc88aace-f5ea-47da-b9ec-8dc92ec96844' title='Show/Hide data repr'><svg class='icon xr-icon-database'><use xlink:href='#icon-database'></use></svg></label><div class='xr-var-attrs'><dl class='xr-attrs'><dt><span>spatial_ref :</span></dt><dd>PROJCS[&quot;GDA94 / Australian Albers&quot;,GEOGCS[&quot;GDA94&quot;,DATUM[&quot;Geocentric_Datum_of_Australia_1994&quot;,SPHEROID[&quot;GRS 1980&quot;,6378137,298.257222101,AUTHORITY[&quot;EPSG&quot;,&quot;7019&quot;]],AUTHORITY[&quot;EPSG&quot;,&quot;6283&quot;]],PRIMEM[&quot;Greenwich&quot;,0,AUTHORITY[&quot;EPSG&quot;,&quot;8901&quot;]],UNIT[&quot;degree&quot;,0.0174532925199433,AUTHORITY[&quot;EPSG&quot;,&quot;9122&quot;]],AUTHORITY[&quot;EPSG&quot;,&quot;4283&quot;]],PROJECTION[&quot;Albers_Conic_Equal_Area&quot;],PARAMETER[&quot;latitude_of_center&quot;,0],PARAMETER[&quot;longitude_of_center&quot;,132],PARAMETER[&quot;standard_parallel_1&quot;,-18],PARAMETER[&quot;standard_parallel_2&quot;,-36],PARAMETER[&quot;false_easting&quot;,0],PARAMETER[&quot;false_northing&quot;,0],UNIT[&quot;metre&quot;,1,AUTHORITY[&quot;EPSG&quot;,&quot;9001&quot;]],AXIS[&quot;Easting&quot;,EAST],AXIS[&quot;Northing&quot;,NORTH],AUTHORITY[&quot;EPSG&quot;,&quot;3577&quot;]]</dd><dt><span>grid_mapping_name :</span></dt><dd>albers_conical_equal_area</dd></dl></div><div class='xr-var-data'><pre>array(3577, dtype=int32)</pre></div></li></ul></div></li><li class='xr-section-item'><input id='section-cef6cabd-c886-4219-9b30-4132b8e1061b' class='xr-section-summary-in' type='checkbox'  checked><label for='section-cef6cabd-c886-4219-9b30-4132b8e1061b' class='xr-section-summary' >Data variables: <span>(6)</span></label><div class='xr-section-inline-details'></div><div class='xr-section-details'><ul class='xr-var-list'><li class='xr-var-item'><div class='xr-var-name'><span>elevation</span></div><div class='xr-var-dims'>(y, x)</div><div class='xr-var-dtype'>float32</div><div class='xr-var-preview xr-preview'>nan nan nan ... -0.7757 -0.7826</div><input id='attrs-0f05d418-3df3-4fad-ab09-ad74c57d6bc2' class='xr-var-attrs-in' type='checkbox' disabled><label for='attrs-0f05d418-3df3-4fad-ab09-ad74c57d6bc2' title='Show/Hide attributes'><svg class='icon xr-icon-file-text2'><use xlink:href='#icon-file-text2'></use></svg></label><input id='data-4b1bddf8-fb2f-40ef-bd9d-e7c7e6099524' class='xr-var-data-in' type='checkbox'><label for='data-4b1bddf8-fb2f-40ef-bd9d-e7c7e6099524' title='Show/Hide data repr'><svg class='icon xr-icon-database'><use xlink:href='#icon-database'></use></svg></label><div class='xr-var-attrs'><dl class='xr-attrs'></dl></div><div class='xr-var-data'><pre>array([[        nan,         nan,         nan, ..., -0.38755962,\n",
       "        -0.40563735, -0.37197226],\n",
       "       [        nan,         nan,         nan, ..., -0.40563825,\n",
       "        -0.40563735, -0.37197226],\n",
       "       [        nan,         nan,         nan, ..., -0.4254143 ,\n",
       "        -0.38755912, -0.35850242],\n",
       "       ...,\n",
       "       [        nan,         nan,         nan, ..., -0.782631  ,\n",
       "        -0.7826314 , -0.7897098 ],\n",
       "       [        nan,         nan,         nan, ..., -0.782631  ,\n",
       "        -0.7826314 , -0.7897098 ],\n",
       "       [        nan,         nan,         nan, ..., -0.7756588 ,\n",
       "        -0.77565914, -0.7826319 ]], dtype=float32)</pre></div></li><li class='xr-var-item'><div class='xr-var-name'><span>elevation_low</span></div><div class='xr-var-dims'>(y, x)</div><div class='xr-var-dtype'>float32</div><div class='xr-var-preview xr-preview'>nan nan nan ... -0.8861 -0.8861</div><input id='attrs-996ad71f-83cc-4dcf-83dc-118b008efc48' class='xr-var-attrs-in' type='checkbox' disabled><label for='attrs-996ad71f-83cc-4dcf-83dc-118b008efc48' title='Show/Hide attributes'><svg class='icon xr-icon-file-text2'><use xlink:href='#icon-file-text2'></use></svg></label><input id='data-5c5eedd6-04ba-4245-8044-d8f8f58dffc5' class='xr-var-data-in' type='checkbox'><label for='data-5c5eedd6-04ba-4245-8044-d8f8f58dffc5' title='Show/Hide data repr'><svg class='icon xr-icon-database'><use xlink:href='#icon-database'></use></svg></label><div class='xr-var-attrs'><dl class='xr-attrs'></dl></div><div class='xr-var-data'><pre>array([[        nan,         nan,         nan, ..., -0.8148825 ,\n",
       "        -0.66463625, -0.4539216 ],\n",
       "       [        nan,         nan,         nan, ..., -0.8148825 ,\n",
       "        -0.5143737 , -0.4539216 ],\n",
       "       [        nan,         nan,         nan, ..., -0.8148825 ,\n",
       "        -0.4660694 , -0.43701535],\n",
       "       ...,\n",
       "       [        nan,         nan,         nan, ..., -0.87433493,\n",
       "        -0.88607013, -0.8884925 ],\n",
       "       [        nan,         nan,         nan, ..., -0.88607013,\n",
       "        -0.88607013, -0.8884925 ],\n",
       "       [        nan,         nan,         nan, ..., -0.88607013,\n",
       "        -0.88607013, -0.88607013]], dtype=float32)</pre></div></li><li class='xr-var-item'><div class='xr-var-name'><span>elevation_high</span></div><div class='xr-var-dims'>(y, x)</div><div class='xr-var-dtype'>float32</div><div class='xr-var-preview xr-preview'>nan nan nan ... -0.6652 -0.6792</div><input id='attrs-1a0d542b-7877-4df1-aa31-88452308748b' class='xr-var-attrs-in' type='checkbox' disabled><label for='attrs-1a0d542b-7877-4df1-aa31-88452308748b' title='Show/Hide attributes'><svg class='icon xr-icon-file-text2'><use xlink:href='#icon-file-text2'></use></svg></label><input id='data-f50269bd-ac42-46d0-88fb-db35a49cab2c' class='xr-var-data-in' type='checkbox'><label for='data-f50269bd-ac42-46d0-88fb-db35a49cab2c' title='Show/Hide data repr'><svg class='icon xr-icon-database'><use xlink:href='#icon-database'></use></svg></label><div class='xr-var-attrs'><dl class='xr-attrs'></dl></div><div class='xr-var-data'><pre>array([[        nan,         nan,         nan, ...,  0.03976328,\n",
       "        -0.14663847, -0.29002294],\n",
       "       [        nan,         nan,         nan, ...,  0.00360601,\n",
       "        -0.29690102, -0.29002294],\n",
       "       [        nan,         nan,         nan, ..., -0.03594609,\n",
       "        -0.30904883, -0.27998948],\n",
       "       ...,\n",
       "       [        nan,         nan,         nan, ..., -0.690927  ,\n",
       "        -0.6791927 , -0.690927  ],\n",
       "       [        nan,         nan,         nan, ..., -0.6791918 ,\n",
       "        -0.6791927 , -0.690927  ],\n",
       "       [        nan,         nan,         nan, ..., -0.6652475 ,\n",
       "        -0.6652481 , -0.6791936 ]], dtype=float32)</pre></div></li><li class='xr-var-item'><div class='xr-var-name'><span>elevation_uncertainty</span></div><div class='xr-var-dims'>(y, x)</div><div class='xr-var-dtype'>float32</div><div class='xr-var-preview xr-preview'>nan nan nan ... 0.2208 0.2069</div><input id='attrs-8fb5c4fa-54f1-41c4-9319-578868b0bafc' class='xr-var-attrs-in' type='checkbox' disabled><label for='attrs-8fb5c4fa-54f1-41c4-9319-578868b0bafc' title='Show/Hide attributes'><svg class='icon xr-icon-file-text2'><use xlink:href='#icon-file-text2'></use></svg></label><input id='data-a21f6c46-dfca-44b7-96c6-87121b266377' class='xr-var-data-in' type='checkbox'><label for='data-a21f6c46-dfca-44b7-96c6-87121b266377' title='Show/Hide data repr'><svg class='icon xr-icon-database'><use xlink:href='#icon-database'></use></svg></label><div class='xr-var-attrs'><dl class='xr-attrs'></dl></div><div class='xr-var-data'><pre>array([[       nan,        nan,        nan, ..., 0.8546458 , 0.51799774,\n",
       "        0.16389863],\n",
       "       [       nan,        nan,        nan, ..., 0.81848854, 0.21747267,\n",
       "        0.16389863],\n",
       "       [       nan,        nan,        nan, ..., 0.77893645, 0.15702057,\n",
       "        0.15702587],\n",
       "       ...,\n",
       "       [       nan,        nan,        nan, ..., 0.1834079 , 0.20687741,\n",
       "        0.19756551],\n",
       "       [       nan,        nan,        nan, ..., 0.2068783 , 0.20687741,\n",
       "        0.19756551],\n",
       "       [       nan,        nan,        nan, ..., 0.22082265, 0.22082202,\n",
       "        0.20687652]], dtype=float32)</pre></div></li><li class='xr-var-item'><div class='xr-var-name'><span>qa_ndwi_corr</span></div><div class='xr-var-dims'>(y, x)</div><div class='xr-var-dtype'>float32</div><div class='xr-var-preview xr-preview'>nan nan nan ... 0.5677 0.5677</div><input id='attrs-21078baa-a5ae-423a-bfd8-f0bb17948cc9' class='xr-var-attrs-in' type='checkbox' disabled><label for='attrs-21078baa-a5ae-423a-bfd8-f0bb17948cc9' title='Show/Hide attributes'><svg class='icon xr-icon-file-text2'><use xlink:href='#icon-file-text2'></use></svg></label><input id='data-5968f13d-ec40-4a23-8864-dd9296e36ca2' class='xr-var-data-in' type='checkbox'><label for='data-5968f13d-ec40-4a23-8864-dd9296e36ca2' title='Show/Hide data repr'><svg class='icon xr-icon-database'><use xlink:href='#icon-database'></use></svg></label><div class='xr-var-attrs'><dl class='xr-attrs'></dl></div><div class='xr-var-data'><pre>array([[       nan,        nan,        nan, ..., 0.79373366, 0.6798194 ,\n",
       "        0.7932962 ],\n",
       "       [       nan,        nan,        nan, ..., 0.72828937, 0.6954052 ,\n",
       "        0.8194424 ],\n",
       "       [       nan,        nan,        nan, ..., 0.66908306, 0.7663343 ,\n",
       "        0.8194424 ],\n",
       "       ...,\n",
       "       [       nan,        nan,        nan, ..., 0.5856444 , 0.5673697 ,\n",
       "        0.5673667 ],\n",
       "       [       nan,        nan,        nan, ..., 0.5676926 , 0.56768966,\n",
       "        0.5676867 ],\n",
       "       [       nan,        nan,        nan, ..., 0.5676926 , 0.56768966,\n",
       "        0.5676867 ]], dtype=float32)</pre></div></li><li class='xr-var-item'><div class='xr-var-name'><span>qa_ndwi_freq</span></div><div class='xr-var-dims'>(y, x)</div><div class='xr-var-dtype'>int16</div><div class='xr-var-preview xr-preview'>1 1 1 1 1 1 1 1 ... 0 0 0 0 0 0 0 0</div><input id='attrs-cf63d412-6e17-4ad9-9971-85b4796b260f' class='xr-var-attrs-in' type='checkbox' ><label for='attrs-cf63d412-6e17-4ad9-9971-85b4796b260f' title='Show/Hide attributes'><svg class='icon xr-icon-file-text2'><use xlink:href='#icon-file-text2'></use></svg></label><input id='data-a229cb93-4332-498e-a598-ff6a9490913d' class='xr-var-data-in' type='checkbox'><label for='data-a229cb93-4332-498e-a598-ff6a9490913d' title='Show/Hide data repr'><svg class='icon xr-icon-database'><use xlink:href='#icon-database'></use></svg></label><div class='xr-var-attrs'><dl class='xr-attrs'><dt><span>nodata :</span></dt><dd>-999</dd></dl></div><div class='xr-var-data'><pre>array([[1, 1, 1, ..., 0, 0, 0],\n",
       "       [1, 1, 1, ..., 0, 0, 0],\n",
       "       [1, 1, 1, ..., 0, 0, 0],\n",
       "       ...,\n",
       "       [0, 0, 0, ..., 0, 0, 0],\n",
       "       [0, 0, 0, ..., 0, 0, 0],\n",
       "       [0, 0, 0, ..., 0, 0, 0]], dtype=int16)</pre></div></li></ul></div></li><li class='xr-section-item'><input id='section-ee57958f-0f07-489c-b095-ea45779e6d54' class='xr-section-summary-in' type='checkbox'  ><label for='section-ee57958f-0f07-489c-b095-ea45779e6d54' class='xr-section-summary' >Indexes: <span>(2)</span></label><div class='xr-section-inline-details'></div><div class='xr-section-details'><ul class='xr-var-list'><li class='xr-var-item'><div class='xr-index-name'><div>y</div></div><div class='xr-index-preview'>PandasIndex</div><div></div><input id='index-3fcfce07-a96b-4ee8-a54e-8914cc00795f' class='xr-index-data-in' type='checkbox'/><label for='index-3fcfce07-a96b-4ee8-a54e-8914cc00795f' title='Show/Hide index repr'><svg class='icon xr-icon-database'><use xlink:href='#icon-database'></use></svg></label><div class='xr-index-data'><pre>PandasIndex(Float64Index([-1678635.0, -1678645.0, -1678655.0, -1678665.0, -1678675.0,\n",
       "              -1678685.0, -1678695.0, -1678705.0, -1678715.0, -1678725.0,\n",
       "              ...\n",
       "              -1680855.0, -1680865.0, -1680875.0, -1680885.0, -1680895.0,\n",
       "              -1680905.0, -1680915.0, -1680925.0, -1680935.0, -1680945.0],\n",
       "             dtype=&#x27;float64&#x27;, name=&#x27;y&#x27;, length=232))</pre></div></li><li class='xr-var-item'><div class='xr-index-name'><div>x</div></div><div class='xr-index-preview'>PandasIndex</div><div></div><input id='index-90c4873c-2da0-4c61-9b90-2eaff91381f9' class='xr-index-data-in' type='checkbox'/><label for='index-90c4873c-2da0-4c61-9b90-2eaff91381f9' title='Show/Hide index repr'><svg class='icon xr-icon-database'><use xlink:href='#icon-database'></use></svg></label><div class='xr-index-data'><pre>PandasIndex(Float64Index([488525.0, 488535.0, 488545.0, 488555.0, 488565.0, 488575.0,\n",
       "              488585.0, 488595.0, 488605.0, 488615.0,\n",
       "              ...\n",
       "              491135.0, 491145.0, 491155.0, 491165.0, 491175.0, 491185.0,\n",
       "              491195.0, 491205.0, 491215.0, 491225.0],\n",
       "             dtype=&#x27;float64&#x27;, name=&#x27;x&#x27;, length=271))</pre></div></li></ul></div></li><li class='xr-section-item'><input id='section-fcd21d4d-2da3-491f-bbf9-bbfcc92a985a' class='xr-section-summary-in' type='checkbox' disabled ><label for='section-fcd21d4d-2da3-491f-bbf9-bbfcc92a985a' class='xr-section-summary'  title='Expand/collapse section'>Attributes: <span>(0)</span></label><div class='xr-section-inline-details'></div><div class='xr-section-details'><dl class='xr-attrs'></dl></div></li></ul></div></div>"
      ],
      "text/plain": [
       "<xarray.Dataset>\n",
       "Dimensions:                (y: 232, x: 271)\n",
       "Coordinates:\n",
       "  * y                      (y) float64 -1.679e+06 -1.679e+06 ... -1.681e+06\n",
       "  * x                      (x) float64 4.885e+05 4.885e+05 ... 4.912e+05\n",
       "    spatial_ref            int32 3577\n",
       "Data variables:\n",
       "    elevation              (y, x) float32 nan nan nan ... -0.7757 -0.7826\n",
       "    elevation_low          (y, x) float32 nan nan nan ... -0.8861 -0.8861\n",
       "    elevation_high         (y, x) float32 nan nan nan ... -0.6652 -0.6792\n",
       "    elevation_uncertainty  (y, x) float32 nan nan nan ... 0.2208 0.2208 0.2069\n",
       "    qa_ndwi_corr           (y, x) float32 nan nan nan ... 0.5677 0.5677 0.5677\n",
       "    qa_ndwi_freq           (y, x) int16 1 1 1 1 1 1 1 1 1 ... 0 0 0 0 0 0 0 0 0"
      ]
     },
     "execution_count": 20,
     "metadata": {},
     "output_type": "execute_result"
    }
   ],
   "source": [
    "# Create output folder. If it doesn't exist, create it\n",
    "output_dir = f\"data/interim/{study_area}/{start_date}-{end_date}\"\n",
    "os.makedirs(output_dir, exist_ok=True)\n",
    "\n",
    "# Prepare for export by correctly setting nodata and dtypes, then\n",
    "# export to file\n",
    "prepare_for_export(ds, output_location=output_dir)"
   ]
  },
  {
   "cell_type": "markdown",
   "id": "9b564afc-4a09-4eb3-a9a3-cb445822c7ad",
   "metadata": {
    "tags": []
   },
   "source": [
    "### Close Dask client"
   ]
  },
  {
   "cell_type": "code",
   "execution_count": 21,
   "id": "dbad6b6a-081b-4360-9ffe-120c76b43bd2",
   "metadata": {},
   "outputs": [],
   "source": [
    "client.close()"
   ]
  }
 ],
 "metadata": {
  "kernelspec": {
   "display_name": "Python 3 (ipykernel)",
   "language": "python",
   "name": "python3"
  },
  "language_info": {
   "codemirror_mode": {
    "name": "ipython",
    "version": 3
   },
   "file_extension": ".py",
   "mimetype": "text/x-python",
   "name": "python",
   "nbconvert_exporter": "python",
   "pygments_lexer": "ipython3",
   "version": "3.10.13"
  },
  "widgets": {
   "application/vnd.jupyter.widget-state+json": {
    "state": {
     "0668a3033fb3432bbe798b3bf7a533c6": {
      "model_module": "@jupyter-widgets/base",
      "model_module_version": "2.0.0",
      "model_name": "LayoutModel",
      "state": {
       "width": "5em"
      }
     },
     "069a13d979ea4f478bb676f6475e80e5": {
      "model_module": "jupyter-leaflet",
      "model_module_version": "^0.17",
      "model_name": "LeafletFullScreenControlModel",
      "state": {
       "_model_module_version": "^0.17",
       "_view_module_version": "^0.17",
       "options": [
        "position"
       ]
      }
     },
     "0e69c6b83ef64845a40644dcaca57eac": {
      "model_module": "@jupyter-widgets/controls",
      "model_module_version": "2.0.0",
      "model_name": "HTMLModel",
      "state": {
       "layout": "IPY_MODEL_661b07852460423cb13f7cd2dfdb653d",
       "style": "IPY_MODEL_ecfede8c08304bfd9691391118d5a22c",
       "value": "<pre style=\"color:grey\">lat: [-15.8477, -15.6495]\nlon: [136.3702, 136.7118]</pre>"
      }
     },
     "12fc45896b03402fbc3c030e05fce4b3": {
      "model_module": "jupyter-leaflet",
      "model_module_version": "^0.17",
      "model_name": "LeafletMapModel",
      "state": {
       "_model_module_version": "^0.17",
       "_view_module_version": "^0.17",
       "bottom": 571048,
       "center": [
        -15.748777657769788,
        136.54104131656135
       ],
       "controls": [
        "IPY_MODEL_71d0e67ed9ab4812be895154bf14d041",
        "IPY_MODEL_26ecf1c386c542a9b16928a95c6ff7e1",
        "IPY_MODEL_069a13d979ea4f478bb676f6475e80e5"
       ],
       "default_style": "IPY_MODEL_aeee888f1c7647efbc44b7286979b2d9",
       "dragging_style": "IPY_MODEL_9dac7cb701fa486799e497c229a5a5f3",
       "east": 136.7118072509766,
       "fullscreen": false,
       "interpolation": "bilinear",
       "layers": [
        "IPY_MODEL_e444f33990ff4b3394259829b788cd9e"
       ],
       "layout": "IPY_MODEL_d8bbf63123ee4b49a754cfbbb658b94d",
       "left": 921495,
       "modisdate": "2024-02-18",
       "north": -15.649486201412108,
       "options": [
        "bounce_at_zoom_limits",
        "box_zoom",
        "center",
        "close_popup_on_click",
        "double_click_zoom",
        "dragging",
        "fullscreen",
        "inertia",
        "inertia_deceleration",
        "inertia_max_speed",
        "interpolation",
        "keyboard",
        "keyboard_pan_offset",
        "keyboard_zoom_offset",
        "max_zoom",
        "min_zoom",
        "prefer_canvas",
        "scroll_wheel_zoom",
        "tap",
        "tap_tolerance",
        "touch_zoom",
        "world_copy_jump",
        "zoom",
        "zoom_animation_threshold",
        "zoom_delta",
        "zoom_snap"
       ],
       "prefer_canvas": false,
       "right": 922490,
       "scroll_wheel_zoom": true,
       "south": -15.847747106092061,
       "style": "IPY_MODEL_aeee888f1c7647efbc44b7286979b2d9",
       "top": 570448,
       "west": 136.37020111083987,
       "window_url": "https://app.sandbox.dea.ga.gov.au/user/robbi.bishoptaylor@ga.gov.au/lab/tree/Robbi/dea-intertidal/notebooks/Intertidal_elevation.ipynb"
      }
     },
     "25ce519453ca4aa785ac0cad1588ae25": {
      "model_module": "jupyter-leaflet",
      "model_module_version": "^0.17",
      "model_name": "LeafletMapStyleModel",
      "state": {
       "_model_module_version": "^0.17"
      }
     },
     "26ecf1c386c542a9b16928a95c6ff7e1": {
      "model_module": "jupyter-leaflet",
      "model_module_version": "^0.17",
      "model_name": "LeafletAttributionControlModel",
      "state": {
       "_model_module_version": "^0.17",
       "_view_module_version": "^0.17",
       "options": [
        "position",
        "prefix"
       ],
       "position": "bottomright",
       "prefix": "ipyleaflet"
      }
     },
     "32286ab6f0b3496598940c8e73cb2852": {
      "model_module": "@jupyter-widgets/controls",
      "model_module_version": "2.0.0",
      "model_name": "HTMLModel",
      "state": {
       "layout": "IPY_MODEL_370c0783196145fda7f3dda0e68dbaab",
       "style": "IPY_MODEL_905cb71c0a654e6cba49e438a920ad97",
       "value": " 105/105 [00:07&lt;00:00, 20.00it/s]"
      }
     },
     "370c0783196145fda7f3dda0e68dbaab": {
      "model_module": "@jupyter-widgets/base",
      "model_module_version": "2.0.0",
      "model_name": "LayoutModel",
      "state": {}
     },
     "387cf10160024808b7b2b46ed9ae6ea1": {
      "model_module": "jupyter-leaflet",
      "model_module_version": "^0.17",
      "model_name": "LeafletDrawControlModel",
      "state": {
       "_model_module_version": "^0.17",
       "_view_module_version": "^0.17",
       "data": [
        {
         "geometry": {
          "coordinates": [
           [
            [
             136.530079,
             -15.734037
            ],
            [
             136.530079,
             -15.713878
            ],
            [
             136.554465,
             -15.713878
            ],
            [
             136.554465,
             -15.734037
            ],
            [
             136.530079,
             -15.734037
            ]
           ]
          ],
          "type": "Polygon"
         },
         "properties": {
          "style": {
           "clickable": true,
           "color": "#000000",
           "fill": true,
           "fillColor": "#fca45d",
           "fillOpacity": 0.1,
           "opacity": 0.5,
           "stroke": true,
           "weight": 4
          }
         },
         "type": "Feature"
        }
       ],
       "options": [
        "position"
       ],
       "polygon": {
        "shapeOptions": {
         "clickable": true,
         "color": "#000000",
         "editing": {
          "color": "#000000",
          "fillColor": "#fca45d",
          "fillOpacity": 0.1
         },
         "fill": true,
         "fillColor": "#fca45d",
         "fillOpacity": 0.1,
         "opacity": 0.5,
         "original": {
          "color": "#000000",
          "fillColor": "#fca45d",
          "fillOpacity": 0.1
         },
         "stroke": true,
         "weight": 4
        }
       },
       "polyline": {},
       "rectangle": {
        "metric": [
         "km",
         "m"
        ],
        "shapeOptions": {
         "clickable": true,
         "color": "#000000",
         "fill": true,
         "fillColor": "#fca45d",
         "fillOpacity": 0.1,
         "opacity": 0.5,
         "stroke": true,
         "weight": 4
        }
       }
      }
     },
     "3cb6dcea83a7448dace90dbf4d866f44": {
      "model_module": "@jupyter-widgets/controls",
      "model_module_version": "2.0.0",
      "model_name": "ButtonModel",
      "state": {
       "description": "done",
       "disabled": true,
       "layout": "IPY_MODEL_0668a3033fb3432bbe798b3bf7a533c6",
       "style": "IPY_MODEL_eac766c73ca64d8d87afab2df2ef4c5a",
       "tooltip": null
      }
     },
     "4daeb8f09ce249ad9baaba75e24b423c": {
      "model_module": "jupyter-leaflet",
      "model_module_version": "^0.17",
      "model_name": "LeafletWidgetControlModel",
      "state": {
       "_model_module": "jupyter-leaflet",
       "_model_module_version": "^0.17",
       "_view_count": null,
       "_view_module": "jupyter-leaflet",
       "_view_module_version": "^0.17",
       "options": [
        "position",
        "transparent_bg"
       ],
       "position": "bottomleft",
       "widget": "IPY_MODEL_0e69c6b83ef64845a40644dcaca57eac"
      }
     },
     "4ef5bfd6685a43009ca6ed588fb06f0e": {
      "model_module": "@jupyter-widgets/base",
      "model_module_version": "2.0.0",
      "model_name": "LayoutModel",
      "state": {}
     },
     "558587fcaca84b9085d4d2b934582ed1": {
      "model_module": "@jupyter-widgets/controls",
      "model_module_version": "2.0.0",
      "model_name": "FloatProgressModel",
      "state": {
       "bar_style": "success",
       "layout": "IPY_MODEL_c9cce7bb027f4f2d9a80486038325098",
       "max": 105,
       "style": "IPY_MODEL_a6a3397f6a1146e9a7d4dc9bad2fac62",
       "value": 105
      }
     },
     "661b07852460423cb13f7cd2dfdb653d": {
      "model_module": "@jupyter-widgets/base",
      "model_module_version": "2.0.0",
      "model_name": "LayoutModel",
      "state": {
       "flex": "1 0 20em",
       "height": "3em",
       "width": "20em"
      }
     },
     "71d0e67ed9ab4812be895154bf14d041": {
      "model_module": "jupyter-leaflet",
      "model_module_version": "^0.17",
      "model_name": "LeafletZoomControlModel",
      "state": {
       "_model_module_version": "^0.17",
       "_view_module_version": "^0.17",
       "options": [
        "position",
        "zoom_in_text",
        "zoom_in_title",
        "zoom_out_text",
        "zoom_out_title"
       ]
      }
     },
     "8a4e883a7f954c4485ad674adca02404": {
      "model_module": "@jupyter-widgets/controls",
      "model_module_version": "2.0.0",
      "model_name": "HTMLModel",
      "state": {
       "layout": "IPY_MODEL_8f7660c83585404abcd14419089299f5",
       "style": "IPY_MODEL_d424056ec20e43dcadb48520549e8841",
       "value": "100%"
      }
     },
     "8f7660c83585404abcd14419089299f5": {
      "model_module": "@jupyter-widgets/base",
      "model_module_version": "2.0.0",
      "model_name": "LayoutModel",
      "state": {}
     },
     "905cb71c0a654e6cba49e438a920ad97": {
      "model_module": "@jupyter-widgets/controls",
      "model_module_version": "2.0.0",
      "model_name": "HTMLStyleModel",
      "state": {
       "description_width": "",
       "font_size": null,
       "text_color": null
      }
     },
     "9dac7cb701fa486799e497c229a5a5f3": {
      "model_module": "jupyter-leaflet",
      "model_module_version": "^0.17",
      "model_name": "LeafletMapStyleModel",
      "state": {
       "_model_module_version": "^0.17",
       "cursor": "move"
      }
     },
     "a6a3397f6a1146e9a7d4dc9bad2fac62": {
      "model_module": "@jupyter-widgets/controls",
      "model_module_version": "2.0.0",
      "model_name": "ProgressStyleModel",
      "state": {
       "description_width": ""
      }
     },
     "a853124e7e1e444b9b1411247d4470bd": {
      "model_module": "@jupyter-widgets/controls",
      "model_module_version": "2.0.0",
      "model_name": "HBoxModel",
      "state": {
       "children": [
        "IPY_MODEL_8a4e883a7f954c4485ad674adca02404",
        "IPY_MODEL_558587fcaca84b9085d4d2b934582ed1",
        "IPY_MODEL_32286ab6f0b3496598940c8e73cb2852"
       ],
       "layout": "IPY_MODEL_4ef5bfd6685a43009ca6ed588fb06f0e"
      }
     },
     "aeee888f1c7647efbc44b7286979b2d9": {
      "model_module": "jupyter-leaflet",
      "model_module_version": "^0.17",
      "model_name": "LeafletMapStyleModel",
      "state": {
       "_model_module_version": "^0.17"
      }
     },
     "c9cce7bb027f4f2d9a80486038325098": {
      "model_module": "@jupyter-widgets/base",
      "model_module_version": "2.0.0",
      "model_name": "LayoutModel",
      "state": {}
     },
     "d424056ec20e43dcadb48520549e8841": {
      "model_module": "@jupyter-widgets/controls",
      "model_module_version": "2.0.0",
      "model_name": "HTMLStyleModel",
      "state": {
       "description_width": "",
       "font_size": null,
       "text_color": null
      }
     },
     "d8bbf63123ee4b49a754cfbbb658b94d": {
      "model_module": "@jupyter-widgets/base",
      "model_module_version": "2.0.0",
      "model_name": "LayoutModel",
      "state": {
       "height": "600px"
      }
     },
     "deb403f39e2142468be3dd386dcf3bd0": {
      "model_module": "jupyter-leaflet",
      "model_module_version": "^0.17",
      "model_name": "LeafletWidgetControlModel",
      "state": {
       "_model_module": "jupyter-leaflet",
       "_model_module_version": "^0.17",
       "_view_count": null,
       "_view_module": "jupyter-leaflet",
       "_view_module_version": "^0.17",
       "options": [
        "position",
        "transparent_bg"
       ],
       "position": "topright",
       "widget": "IPY_MODEL_3cb6dcea83a7448dace90dbf4d866f44"
      }
     },
     "e444f33990ff4b3394259829b788cd9e": {
      "model_module": "jupyter-leaflet",
      "model_module_version": "^0.17",
      "model_name": "LeafletTileLayerModel",
      "state": {
       "_model_module_version": "^0.17",
       "_view_module_version": "^0.17",
       "attribution": "Tiles &copy; Esri &mdash; Source: Esri, i-cubed, USDA, USGS, AEX, GeoEye, Getmapping, Aerogrid, IGN, IGP, UPR-EGP, and the GIS User Community",
       "min_zoom": 1,
       "name": "Esri.WorldImagery",
       "options": [
        "attribution",
        "bounds",
        "detect_retina",
        "max_native_zoom",
        "max_zoom",
        "min_native_zoom",
        "min_zoom",
        "no_wrap",
        "tile_size",
        "tms",
        "zoom_offset"
       ],
       "url": "https://server.arcgisonline.com/ArcGIS/rest/services/World_Imagery/MapServer/tile/{z}/{y}/{x}"
      }
     },
     "eac766c73ca64d8d87afab2df2ef4c5a": {
      "model_module": "@jupyter-widgets/controls",
      "model_module_version": "2.0.0",
      "model_name": "ButtonStyleModel",
      "state": {
       "button_color": "green",
       "font_family": null,
       "font_size": null,
       "font_style": null,
       "font_variant": null,
       "font_weight": null,
       "text_color": null,
       "text_decoration": null
      }
     },
     "ecfede8c08304bfd9691391118d5a22c": {
      "model_module": "@jupyter-widgets/controls",
      "model_module_version": "2.0.0",
      "model_name": "HTMLStyleModel",
      "state": {
       "description_width": "",
       "font_size": null,
       "text_color": null
      }
     }
    },
    "version_major": 2,
    "version_minor": 0
   }
  }
 },
 "nbformat": 4,
 "nbformat_minor": 5
}

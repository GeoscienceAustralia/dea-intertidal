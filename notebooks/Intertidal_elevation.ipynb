{
 "cells": [
  {
   "cell_type": "markdown",
   "id": "306a1f55-3f9d-4996-be95-e11e5a74a86b",
   "metadata": {},
   "source": [
    "# DEA Intertidal Elevation\n",
    "\n",
    "This notebook demonstrates how to run and customise a DEA Intertidal Elevation analysis.\n",
    "\n",
    "## Getting started\n",
    "Set working directory to top level of repo to ensure links work correctly:"
   ]
  },
  {
   "cell_type": "code",
   "execution_count": 1,
   "id": "6c9907dc-c0d2-4b2e-8cbb-bb3a2bc15f08",
   "metadata": {},
   "outputs": [
    {
     "name": "stdout",
     "output_type": "stream",
     "text": [
      "/home/jovyan/Robbi/dea-intertidal\n"
     ]
    }
   ],
   "source": [
    "cd .."
   ]
  },
  {
   "cell_type": "markdown",
   "id": "c586a481-013f-4884-8e53-f3ddb9c438d7",
   "metadata": {},
   "source": [
    "Install additional packages directly from the requirements file"
   ]
  },
  {
   "cell_type": "code",
   "execution_count": 2,
   "id": "d67433e6-0408-40d1-be61-db49c52f88dc",
   "metadata": {},
   "outputs": [
    {
     "name": "stdout",
     "output_type": "stream",
     "text": [
      "Note: you may need to restart the kernel to use updated packages.\n"
     ]
    }
   ],
   "source": [
    "pip install -r requirements.in --quiet"
   ]
  },
  {
   "cell_type": "markdown",
   "id": "4244cc06-b5e7-4120-8514-adf35082cb2c",
   "metadata": {},
   "source": [
    "### Load packages"
   ]
  },
  {
   "cell_type": "code",
   "execution_count": 3,
   "id": "2520e8de-ac2c-4571-99a0-f7fb7b932f56",
   "metadata": {},
   "outputs": [],
   "source": [
    "%load_ext autoreload\n",
    "%autoreload 2\n",
    "\n",
    "import os\n",
    "import xarray as xr\n",
    "import geopandas as gpd\n",
    "import matplotlib.pyplot as plt\n",
    "from tqdm import tqdm\n",
    "from concurrent.futures import ProcessPoolExecutor\n",
    "from ipyleaflet import basemaps, basemap_to_tiles\n",
    "\n",
    "import datacube\n",
    "import odc.geo.xr\n",
    "from odc.geo.geom import Geometry\n",
    "from odc.geo.geobox import GeoBox\n",
    "from odc.ui import select_on_a_map\n",
    "from dea_tools.dask import create_local_dask_cluster\n",
    "from dea_tools.coastal import pixel_tides\n",
    "\n",
    "from intertidal.io import (\n",
    "    load_data,\n",
    "    load_topobathy_mask,\n",
    "    prepare_for_export,\n",
    ")\n",
    "from intertidal.elevation import (\n",
    "    ds_to_flat,\n",
    "    pixel_rolling_median,\n",
    "    pixel_dem,\n",
    "    pixel_dem_debug,\n",
    "    pixel_uncertainty,\n",
    "    flat_to_ds,\n",
    "    clean_edge_pixels,\n",
    "    elevation,\n",
    ")\n",
    "from intertidal.extents import load_connectivity_mask"
   ]
  },
  {
   "cell_type": "markdown",
   "id": "1a69b01f-bae0-4373-8ed6-e907393407eb",
   "metadata": {
    "tags": []
   },
   "source": [
    "## Setup\n"
   ]
  },
  {
   "cell_type": "markdown",
   "id": "b02efd2f-dab6-41ec-86f0-1724c93cf356",
   "metadata": {},
   "source": [
    "### Set analysis parameters"
   ]
  },
  {
   "cell_type": "code",
   "execution_count": 4,
   "id": "96122c69-8f4d-439a-a945-8f19294d2e07",
   "metadata": {
    "tags": []
   },
   "outputs": [],
   "source": [
    "# Intertidal Elevation variables\n",
    "start_date = \"2019\"  # Start date for analysis\n",
    "end_date = \"2021\"  # End date for analysis\n",
    "resolution = 10  # Spatial resolution used for output files\n",
    "crs = \"EPSG:3577\"  # Coordinate Reference System (CRS) to use for output files\n",
    "min_freq = 0.01  # Minimum wetness freq required for pixel to be included in analysis\n",
    "max_freq = 0.99  # Maximum wetness freq required for pixel to be included in analysis\n",
    "min_correlation = 0.15  # Minimum correlation between water index and tide height \n",
    "ndwi_thresh = 0.1  # Threshold used to identify dry/wet transition\n",
    "include_s2 = True  # Include Sentinel-2 data in the analysis?\n",
    "include_ls = True  # Include Landsat data in the analysis?\n",
    "filter_gqa = True  # Filter to remove poorly georeferenced scenes?\n",
    "tide_model = \"ensemble\"  # Tide model to use in analysis \n",
    "tide_model_dir = \"/gdata1/data/tide_models_clipped\""
   ]
  },
  {
   "cell_type": "markdown",
   "id": "694c8695-d30d-4d55-84b2-d31a910ebaf3",
   "metadata": {},
   "source": [
    "#### Set study area\n",
    "\n",
    "##### Option 1: load study area from 32 km tile GridSpec"
   ]
  },
  {
   "cell_type": "code",
   "execution_count": 5,
   "id": "8c1dfca3-543d-4e07-9a0f-2eeddf582835",
   "metadata": {},
   "outputs": [],
   "source": [
    "# # Set study area (e.g. tile ID in form \"x094y145\")\n",
    "# study_area = \"x094y145\"\n",
    "# geom = None  # Use GridSpec to load study area, not a custom geom"
   ]
  },
  {
   "cell_type": "markdown",
   "id": "298e1361-c8ff-4602-ac04-2dd07bf99ca2",
   "metadata": {
    "tags": []
   },
   "source": [
    "##### Option 2: load study area from vector file"
   ]
  },
  {
   "cell_type": "code",
   "execution_count": 6,
   "id": "e67929eb-8a55-4a15-be7a-fcda29ec1f66",
   "metadata": {
    "tags": []
   },
   "outputs": [
    {
     "data": {
      "image/svg+xml": [
       "<svg xmlns=\"http://www.w3.org/2000/svg\" xmlns:xlink=\"http://www.w3.org/1999/xlink\" width=\"100.0\" height=\"100.0\" viewBox=\"131.8721520963551 -12.221723912348452 0.03076900045030584 0.022361455588340462\" preserveAspectRatio=\"xMinYMin meet\"><g transform=\"matrix(1,0,0,-1,0,-24.421086369108565)\"><g><path fill-rule=\"evenodd\" fill=\"#66cc99\" stroke=\"#555555\" stroke-width=\"0.0006153800090061168\" opacity=\"0.6\" d=\"M 131.87329168896437,-12.220584319739181 L 131.87329168896437,-12.200502049369382 L 131.90178150419615,-12.200502049369382 L 131.90178150419615,-12.220584319739181 L 131.87329168896437,-12.220584319739181 z\" /></g></g></svg>"
      ],
      "text/plain": [
       "Geometry(MULTIPOLYGON (((131.87329168896437 -12.220584319739181, 131.87329168896437 -12.200502049369382, 131.90178150419615 -12.200502049369382, 131.90178150419615 -12.220584319739181, 131.87329168896437 -12.220584319739181))), EPSG:4326)"
      ]
     },
     "execution_count": 6,
     "metadata": {},
     "output_type": "execute_result"
    }
   ],
   "source": [
    "# Set study area to load from file\n",
    "study_area = \"pointstuart\"\n",
    "\n",
    "# Read file, select study area and convert to geom\n",
    "studyarea_gdf = gpd.read_file(\n",
    "    \"data/raw/intertidal_development_polygons.geojson\"\n",
    ").set_index(\"id\")\n",
    "geom = Geometry(studyarea_gdf.loc[study_area].geometry, crs=studyarea_gdf.crs)\n",
    "geom"
   ]
  },
  {
   "cell_type": "markdown",
   "id": "9b72074d-c4bc-410b-83e1-80295227b81c",
   "metadata": {},
   "source": [
    "##### Option 3: load study area using interactive map"
   ]
  },
  {
   "cell_type": "code",
   "execution_count": 7,
   "id": "bdcf1c79-ae5a-4453-a7e8-d3f021b0b65a",
   "metadata": {},
   "outputs": [],
   "source": [
    "# # Set study area name for outputs\n",
    "# study_area = \"testing\"\n",
    "\n",
    "# # Plot interactive map to select area\n",
    "# basemap = basemap_to_tiles(basemaps.Esri.WorldImagery)\n",
    "# geom = select_on_a_map(height=\"600px\", layers=(basemap,), center=(-26, 135), zoom=4)\n",
    "# geom"
   ]
  },
  {
   "cell_type": "markdown",
   "id": "54c892b8-42d3-4930-ad97-e0e214535fc5",
   "metadata": {},
   "source": [
    "## Load data"
   ]
  },
  {
   "cell_type": "code",
   "execution_count": 8,
   "id": "98e930ff-c5a4-45fa-a043-b8902c606d63",
   "metadata": {
    "tags": []
   },
   "outputs": [
    {
     "name": "stderr",
     "output_type": "stream",
     "text": [
      "/env/lib/python3.10/site-packages/distributed/node.py:182: UserWarning: Port 8787 is already in use.\n",
      "Perhaps you already have a cluster running?\n",
      "Hosting the HTTP server on port 36173 instead\n",
      "  warnings.warn(\n"
     ]
    },
    {
     "data": {
      "text/html": [
       "<div>\n",
       "    <div style=\"width: 24px; height: 24px; background-color: #e1e1e1; border: 3px solid #9D9D9D; border-radius: 5px; position: absolute;\"> </div>\n",
       "    <div style=\"margin-left: 48px;\">\n",
       "        <h3 style=\"margin-bottom: 0px;\">Client</h3>\n",
       "        <p style=\"color: #9D9D9D; margin-bottom: 0px;\">Client-c63de123-7a35-11ef-94c8-563a0aa6a178</p>\n",
       "        <table style=\"width: 100%; text-align: left;\">\n",
       "\n",
       "        <tr>\n",
       "        \n",
       "            <td style=\"text-align: left;\"><strong>Connection method:</strong> Cluster object</td>\n",
       "            <td style=\"text-align: left;\"><strong>Cluster type:</strong> distributed.LocalCluster</td>\n",
       "        \n",
       "        </tr>\n",
       "\n",
       "        \n",
       "            <tr>\n",
       "                <td style=\"text-align: left;\">\n",
       "                    <strong>Dashboard: </strong> <a href=\"/user/robbi.bishoptaylor@ga.gov.au/proxy/36173/status\" target=\"_blank\">/user/robbi.bishoptaylor@ga.gov.au/proxy/36173/status</a>\n",
       "                </td>\n",
       "                <td style=\"text-align: left;\"></td>\n",
       "            </tr>\n",
       "        \n",
       "\n",
       "        </table>\n",
       "\n",
       "        \n",
       "            <button style=\"margin-bottom: 12px;\" data-commandlinker-command=\"dask:populate-and-launch-layout\" data-commandlinker-args='{\"url\": \"/user/robbi.bishoptaylor@ga.gov.au/proxy/36173/status\" }'>\n",
       "                Launch dashboard in JupyterLab\n",
       "            </button>\n",
       "        \n",
       "\n",
       "        \n",
       "            <details>\n",
       "            <summary style=\"margin-bottom: 20px;\"><h3 style=\"display: inline;\">Cluster Info</h3></summary>\n",
       "            <div class=\"jp-RenderedHTMLCommon jp-RenderedHTML jp-mod-trusted jp-OutputArea-output\">\n",
       "    <div style=\"width: 24px; height: 24px; background-color: #e1e1e1; border: 3px solid #9D9D9D; border-radius: 5px; position: absolute;\">\n",
       "    </div>\n",
       "    <div style=\"margin-left: 48px;\">\n",
       "        <h3 style=\"margin-bottom: 0px; margin-top: 0px;\">LocalCluster</h3>\n",
       "        <p style=\"color: #9D9D9D; margin-bottom: 0px;\">3cae28e6</p>\n",
       "        <table style=\"width: 100%; text-align: left;\">\n",
       "            <tr>\n",
       "                <td style=\"text-align: left;\">\n",
       "                    <strong>Dashboard:</strong> <a href=\"/user/robbi.bishoptaylor@ga.gov.au/proxy/36173/status\" target=\"_blank\">/user/robbi.bishoptaylor@ga.gov.au/proxy/36173/status</a>\n",
       "                </td>\n",
       "                <td style=\"text-align: left;\">\n",
       "                    <strong>Workers:</strong> 1\n",
       "                </td>\n",
       "            </tr>\n",
       "            <tr>\n",
       "                <td style=\"text-align: left;\">\n",
       "                    <strong>Total threads:</strong> 62\n",
       "                </td>\n",
       "                <td style=\"text-align: left;\">\n",
       "                    <strong>Total memory:</strong> 477.21 GiB\n",
       "                </td>\n",
       "            </tr>\n",
       "            \n",
       "            <tr>\n",
       "    <td style=\"text-align: left;\"><strong>Status:</strong> running</td>\n",
       "    <td style=\"text-align: left;\"><strong>Using processes:</strong> True</td>\n",
       "</tr>\n",
       "\n",
       "            \n",
       "        </table>\n",
       "\n",
       "        <details>\n",
       "            <summary style=\"margin-bottom: 20px;\">\n",
       "                <h3 style=\"display: inline;\">Scheduler Info</h3>\n",
       "            </summary>\n",
       "\n",
       "            <div style=\"\">\n",
       "    <div>\n",
       "        <div style=\"width: 24px; height: 24px; background-color: #FFF7E5; border: 3px solid #FF6132; border-radius: 5px; position: absolute;\"> </div>\n",
       "        <div style=\"margin-left: 48px;\">\n",
       "            <h3 style=\"margin-bottom: 0px;\">Scheduler</h3>\n",
       "            <p style=\"color: #9D9D9D; margin-bottom: 0px;\">Scheduler-052b9900-c335-4c83-8dc0-e55b96eddb80</p>\n",
       "            <table style=\"width: 100%; text-align: left;\">\n",
       "                <tr>\n",
       "                    <td style=\"text-align: left;\">\n",
       "                        <strong>Comm:</strong> tcp://127.0.0.1:42183\n",
       "                    </td>\n",
       "                    <td style=\"text-align: left;\">\n",
       "                        <strong>Workers:</strong> 1\n",
       "                    </td>\n",
       "                </tr>\n",
       "                <tr>\n",
       "                    <td style=\"text-align: left;\">\n",
       "                        <strong>Dashboard:</strong> <a href=\"/user/robbi.bishoptaylor@ga.gov.au/proxy/36173/status\" target=\"_blank\">/user/robbi.bishoptaylor@ga.gov.au/proxy/36173/status</a>\n",
       "                    </td>\n",
       "                    <td style=\"text-align: left;\">\n",
       "                        <strong>Total threads:</strong> 62\n",
       "                    </td>\n",
       "                </tr>\n",
       "                <tr>\n",
       "                    <td style=\"text-align: left;\">\n",
       "                        <strong>Started:</strong> Just now\n",
       "                    </td>\n",
       "                    <td style=\"text-align: left;\">\n",
       "                        <strong>Total memory:</strong> 477.21 GiB\n",
       "                    </td>\n",
       "                </tr>\n",
       "            </table>\n",
       "        </div>\n",
       "    </div>\n",
       "\n",
       "    <details style=\"margin-left: 48px;\">\n",
       "        <summary style=\"margin-bottom: 20px;\">\n",
       "            <h3 style=\"display: inline;\">Workers</h3>\n",
       "        </summary>\n",
       "\n",
       "        \n",
       "        <div style=\"margin-bottom: 20px;\">\n",
       "            <div style=\"width: 24px; height: 24px; background-color: #DBF5FF; border: 3px solid #4CC9FF; border-radius: 5px; position: absolute;\"> </div>\n",
       "            <div style=\"margin-left: 48px;\">\n",
       "            <details>\n",
       "                <summary>\n",
       "                    <h4 style=\"margin-bottom: 0px; display: inline;\">Worker: 0</h4>\n",
       "                </summary>\n",
       "                <table style=\"width: 100%; text-align: left;\">\n",
       "                    <tr>\n",
       "                        <td style=\"text-align: left;\">\n",
       "                            <strong>Comm: </strong> tcp://127.0.0.1:35389\n",
       "                        </td>\n",
       "                        <td style=\"text-align: left;\">\n",
       "                            <strong>Total threads: </strong> 62\n",
       "                        </td>\n",
       "                    </tr>\n",
       "                    <tr>\n",
       "                        <td style=\"text-align: left;\">\n",
       "                            <strong>Dashboard: </strong> <a href=\"/user/robbi.bishoptaylor@ga.gov.au/proxy/37593/status\" target=\"_blank\">/user/robbi.bishoptaylor@ga.gov.au/proxy/37593/status</a>\n",
       "                        </td>\n",
       "                        <td style=\"text-align: left;\">\n",
       "                            <strong>Memory: </strong> 477.21 GiB\n",
       "                        </td>\n",
       "                    </tr>\n",
       "                    <tr>\n",
       "                        <td style=\"text-align: left;\">\n",
       "                            <strong>Nanny: </strong> tcp://127.0.0.1:43701\n",
       "                        </td>\n",
       "                        <td style=\"text-align: left;\"></td>\n",
       "                    </tr>\n",
       "                    <tr>\n",
       "                        <td colspan=\"2\" style=\"text-align: left;\">\n",
       "                            <strong>Local directory: </strong> /tmp/dask-scratch-space/worker-jfw082c2\n",
       "                        </td>\n",
       "                    </tr>\n",
       "\n",
       "                    \n",
       "\n",
       "                    \n",
       "\n",
       "                </table>\n",
       "            </details>\n",
       "            </div>\n",
       "        </div>\n",
       "        \n",
       "\n",
       "    </details>\n",
       "</div>\n",
       "\n",
       "        </details>\n",
       "    </div>\n",
       "</div>\n",
       "            </details>\n",
       "        \n",
       "\n",
       "    </div>\n",
       "</div>"
      ],
      "text/plain": [
       "<Client: 'tcp://127.0.0.1:42183' processes=1 threads=62, memory=477.21 GiB>"
      ]
     },
     "metadata": {},
     "output_type": "display_data"
    },
    {
     "name": "stdout",
     "output_type": "stream",
     "text": [
      "<xarray.Dataset> Size: 84MB\n",
      "Dimensions:      (time: 303, y: 219, x: 317)\n",
      "Coordinates:\n",
      "  * time         (time) datetime64[ns] 2kB 2019-01-07T01:16:28.775870 ... 202...\n",
      "  * y            (y) float64 2kB -1.286e+06 -1.286e+06 ... -1.288e+06 -1.288e+06\n",
      "  * x            (x) float64 3kB -1.404e+04 -1.404e+04 ... -1.09e+04 -1.088e+04\n",
      "    spatial_ref  int32 4B 3577\n",
      "Data variables:\n",
      "    ndwi         (time, y, x) float32 84MB dask.array<chunksize=(1, 219, 317), meta=np.ndarray>\n",
      "Attributes:\n",
      "    crs:           EPSG:3577\n",
      "    grid_mapping:  spatial_ref\n"
     ]
    },
    {
     "name": "stderr",
     "output_type": "stream",
     "text": [
      "/env/lib/python3.10/site-packages/rasterio/warp.py:344: NotGeoreferencedWarning: Dataset has no geotransform, gcps, or rpcs. The identity matrix will be returned.\n",
      "  _reproject(\n"
     ]
    },
    {
     "name": "stdout",
     "output_type": "stream",
     "text": [
      "CPU times: user 5.82 s, sys: 542 ms, total: 6.37 s\n",
      "Wall time: 1min 13s\n"
     ]
    },
    {
     "data": {
      "text/html": [
       "<div><svg style=\"position: absolute; width: 0; height: 0; overflow: hidden\">\n",
       "<defs>\n",
       "<symbol id=\"icon-database\" viewBox=\"0 0 32 32\">\n",
       "<path d=\"M16 0c-8.837 0-16 2.239-16 5v4c0 2.761 7.163 5 16 5s16-2.239 16-5v-4c0-2.761-7.163-5-16-5z\"></path>\n",
       "<path d=\"M16 17c-8.837 0-16-2.239-16-5v6c0 2.761 7.163 5 16 5s16-2.239 16-5v-6c0 2.761-7.163 5-16 5z\"></path>\n",
       "<path d=\"M16 26c-8.837 0-16-2.239-16-5v6c0 2.761 7.163 5 16 5s16-2.239 16-5v-6c0 2.761-7.163 5-16 5z\"></path>\n",
       "</symbol>\n",
       "<symbol id=\"icon-file-text2\" viewBox=\"0 0 32 32\">\n",
       "<path d=\"M28.681 7.159c-0.694-0.947-1.662-2.053-2.724-3.116s-2.169-2.030-3.116-2.724c-1.612-1.182-2.393-1.319-2.841-1.319h-15.5c-1.378 0-2.5 1.121-2.5 2.5v27c0 1.378 1.122 2.5 2.5 2.5h23c1.378 0 2.5-1.122 2.5-2.5v-19.5c0-0.448-0.137-1.23-1.319-2.841zM24.543 5.457c0.959 0.959 1.712 1.825 2.268 2.543h-4.811v-4.811c0.718 0.556 1.584 1.309 2.543 2.268zM28 29.5c0 0.271-0.229 0.5-0.5 0.5h-23c-0.271 0-0.5-0.229-0.5-0.5v-27c0-0.271 0.229-0.5 0.5-0.5 0 0 15.499-0 15.5 0v7c0 0.552 0.448 1 1 1h7v19.5z\"></path>\n",
       "<path d=\"M23 26h-14c-0.552 0-1-0.448-1-1s0.448-1 1-1h14c0.552 0 1 0.448 1 1s-0.448 1-1 1z\"></path>\n",
       "<path d=\"M23 22h-14c-0.552 0-1-0.448-1-1s0.448-1 1-1h14c0.552 0 1 0.448 1 1s-0.448 1-1 1z\"></path>\n",
       "<path d=\"M23 18h-14c-0.552 0-1-0.448-1-1s0.448-1 1-1h14c0.552 0 1 0.448 1 1s-0.448 1-1 1z\"></path>\n",
       "</symbol>\n",
       "</defs>\n",
       "</svg>\n",
       "<style>/* CSS stylesheet for displaying xarray objects in jupyterlab.\n",
       " *\n",
       " */\n",
       "\n",
       ":root {\n",
       "  --xr-font-color0: var(--jp-content-font-color0, rgba(0, 0, 0, 1));\n",
       "  --xr-font-color2: var(--jp-content-font-color2, rgba(0, 0, 0, 0.54));\n",
       "  --xr-font-color3: var(--jp-content-font-color3, rgba(0, 0, 0, 0.38));\n",
       "  --xr-border-color: var(--jp-border-color2, #e0e0e0);\n",
       "  --xr-disabled-color: var(--jp-layout-color3, #bdbdbd);\n",
       "  --xr-background-color: var(--jp-layout-color0, white);\n",
       "  --xr-background-color-row-even: var(--jp-layout-color1, white);\n",
       "  --xr-background-color-row-odd: var(--jp-layout-color2, #eeeeee);\n",
       "}\n",
       "\n",
       "html[theme=dark],\n",
       "html[data-theme=dark],\n",
       "body[data-theme=dark],\n",
       "body.vscode-dark {\n",
       "  --xr-font-color0: rgba(255, 255, 255, 1);\n",
       "  --xr-font-color2: rgba(255, 255, 255, 0.54);\n",
       "  --xr-font-color3: rgba(255, 255, 255, 0.38);\n",
       "  --xr-border-color: #1F1F1F;\n",
       "  --xr-disabled-color: #515151;\n",
       "  --xr-background-color: #111111;\n",
       "  --xr-background-color-row-even: #111111;\n",
       "  --xr-background-color-row-odd: #313131;\n",
       "}\n",
       "\n",
       ".xr-wrap {\n",
       "  display: block !important;\n",
       "  min-width: 300px;\n",
       "  max-width: 700px;\n",
       "}\n",
       "\n",
       ".xr-text-repr-fallback {\n",
       "  /* fallback to plain text repr when CSS is not injected (untrusted notebook) */\n",
       "  display: none;\n",
       "}\n",
       "\n",
       ".xr-header {\n",
       "  padding-top: 6px;\n",
       "  padding-bottom: 6px;\n",
       "  margin-bottom: 4px;\n",
       "  border-bottom: solid 1px var(--xr-border-color);\n",
       "}\n",
       "\n",
       ".xr-header > div,\n",
       ".xr-header > ul {\n",
       "  display: inline;\n",
       "  margin-top: 0;\n",
       "  margin-bottom: 0;\n",
       "}\n",
       "\n",
       ".xr-obj-type,\n",
       ".xr-array-name {\n",
       "  margin-left: 2px;\n",
       "  margin-right: 10px;\n",
       "}\n",
       "\n",
       ".xr-obj-type {\n",
       "  color: var(--xr-font-color2);\n",
       "}\n",
       "\n",
       ".xr-sections {\n",
       "  padding-left: 0 !important;\n",
       "  display: grid;\n",
       "  grid-template-columns: 150px auto auto 1fr 20px 20px;\n",
       "}\n",
       "\n",
       ".xr-section-item {\n",
       "  display: contents;\n",
       "}\n",
       "\n",
       ".xr-section-item input {\n",
       "  display: none;\n",
       "}\n",
       "\n",
       ".xr-section-item input + label {\n",
       "  color: var(--xr-disabled-color);\n",
       "}\n",
       "\n",
       ".xr-section-item input:enabled + label {\n",
       "  cursor: pointer;\n",
       "  color: var(--xr-font-color2);\n",
       "}\n",
       "\n",
       ".xr-section-item input:enabled + label:hover {\n",
       "  color: var(--xr-font-color0);\n",
       "}\n",
       "\n",
       ".xr-section-summary {\n",
       "  grid-column: 1;\n",
       "  color: var(--xr-font-color2);\n",
       "  font-weight: 500;\n",
       "}\n",
       "\n",
       ".xr-section-summary > span {\n",
       "  display: inline-block;\n",
       "  padding-left: 0.5em;\n",
       "}\n",
       "\n",
       ".xr-section-summary-in:disabled + label {\n",
       "  color: var(--xr-font-color2);\n",
       "}\n",
       "\n",
       ".xr-section-summary-in + label:before {\n",
       "  display: inline-block;\n",
       "  content: '►';\n",
       "  font-size: 11px;\n",
       "  width: 15px;\n",
       "  text-align: center;\n",
       "}\n",
       "\n",
       ".xr-section-summary-in:disabled + label:before {\n",
       "  color: var(--xr-disabled-color);\n",
       "}\n",
       "\n",
       ".xr-section-summary-in:checked + label:before {\n",
       "  content: '▼';\n",
       "}\n",
       "\n",
       ".xr-section-summary-in:checked + label > span {\n",
       "  display: none;\n",
       "}\n",
       "\n",
       ".xr-section-summary,\n",
       ".xr-section-inline-details {\n",
       "  padding-top: 4px;\n",
       "  padding-bottom: 4px;\n",
       "}\n",
       "\n",
       ".xr-section-inline-details {\n",
       "  grid-column: 2 / -1;\n",
       "}\n",
       "\n",
       ".xr-section-details {\n",
       "  display: none;\n",
       "  grid-column: 1 / -1;\n",
       "  margin-bottom: 5px;\n",
       "}\n",
       "\n",
       ".xr-section-summary-in:checked ~ .xr-section-details {\n",
       "  display: contents;\n",
       "}\n",
       "\n",
       ".xr-array-wrap {\n",
       "  grid-column: 1 / -1;\n",
       "  display: grid;\n",
       "  grid-template-columns: 20px auto;\n",
       "}\n",
       "\n",
       ".xr-array-wrap > label {\n",
       "  grid-column: 1;\n",
       "  vertical-align: top;\n",
       "}\n",
       "\n",
       ".xr-preview {\n",
       "  color: var(--xr-font-color3);\n",
       "}\n",
       "\n",
       ".xr-array-preview,\n",
       ".xr-array-data {\n",
       "  padding: 0 5px !important;\n",
       "  grid-column: 2;\n",
       "}\n",
       "\n",
       ".xr-array-data,\n",
       ".xr-array-in:checked ~ .xr-array-preview {\n",
       "  display: none;\n",
       "}\n",
       "\n",
       ".xr-array-in:checked ~ .xr-array-data,\n",
       ".xr-array-preview {\n",
       "  display: inline-block;\n",
       "}\n",
       "\n",
       ".xr-dim-list {\n",
       "  display: inline-block !important;\n",
       "  list-style: none;\n",
       "  padding: 0 !important;\n",
       "  margin: 0;\n",
       "}\n",
       "\n",
       ".xr-dim-list li {\n",
       "  display: inline-block;\n",
       "  padding: 0;\n",
       "  margin: 0;\n",
       "}\n",
       "\n",
       ".xr-dim-list:before {\n",
       "  content: '(';\n",
       "}\n",
       "\n",
       ".xr-dim-list:after {\n",
       "  content: ')';\n",
       "}\n",
       "\n",
       ".xr-dim-list li:not(:last-child):after {\n",
       "  content: ',';\n",
       "  padding-right: 5px;\n",
       "}\n",
       "\n",
       ".xr-has-index {\n",
       "  font-weight: bold;\n",
       "}\n",
       "\n",
       ".xr-var-list,\n",
       ".xr-var-item {\n",
       "  display: contents;\n",
       "}\n",
       "\n",
       ".xr-var-item > div,\n",
       ".xr-var-item label,\n",
       ".xr-var-item > .xr-var-name span {\n",
       "  background-color: var(--xr-background-color-row-even);\n",
       "  margin-bottom: 0;\n",
       "}\n",
       "\n",
       ".xr-var-item > .xr-var-name:hover span {\n",
       "  padding-right: 5px;\n",
       "}\n",
       "\n",
       ".xr-var-list > li:nth-child(odd) > div,\n",
       ".xr-var-list > li:nth-child(odd) > label,\n",
       ".xr-var-list > li:nth-child(odd) > .xr-var-name span {\n",
       "  background-color: var(--xr-background-color-row-odd);\n",
       "}\n",
       "\n",
       ".xr-var-name {\n",
       "  grid-column: 1;\n",
       "}\n",
       "\n",
       ".xr-var-dims {\n",
       "  grid-column: 2;\n",
       "}\n",
       "\n",
       ".xr-var-dtype {\n",
       "  grid-column: 3;\n",
       "  text-align: right;\n",
       "  color: var(--xr-font-color2);\n",
       "}\n",
       "\n",
       ".xr-var-preview {\n",
       "  grid-column: 4;\n",
       "}\n",
       "\n",
       ".xr-index-preview {\n",
       "  grid-column: 2 / 5;\n",
       "  color: var(--xr-font-color2);\n",
       "}\n",
       "\n",
       ".xr-var-name,\n",
       ".xr-var-dims,\n",
       ".xr-var-dtype,\n",
       ".xr-preview,\n",
       ".xr-attrs dt {\n",
       "  white-space: nowrap;\n",
       "  overflow: hidden;\n",
       "  text-overflow: ellipsis;\n",
       "  padding-right: 10px;\n",
       "}\n",
       "\n",
       ".xr-var-name:hover,\n",
       ".xr-var-dims:hover,\n",
       ".xr-var-dtype:hover,\n",
       ".xr-attrs dt:hover {\n",
       "  overflow: visible;\n",
       "  width: auto;\n",
       "  z-index: 1;\n",
       "}\n",
       "\n",
       ".xr-var-attrs,\n",
       ".xr-var-data,\n",
       ".xr-index-data {\n",
       "  display: none;\n",
       "  background-color: var(--xr-background-color) !important;\n",
       "  padding-bottom: 5px !important;\n",
       "}\n",
       "\n",
       ".xr-var-attrs-in:checked ~ .xr-var-attrs,\n",
       ".xr-var-data-in:checked ~ .xr-var-data,\n",
       ".xr-index-data-in:checked ~ .xr-index-data {\n",
       "  display: block;\n",
       "}\n",
       "\n",
       ".xr-var-data > table {\n",
       "  float: right;\n",
       "}\n",
       "\n",
       ".xr-var-name span,\n",
       ".xr-var-data,\n",
       ".xr-index-name div,\n",
       ".xr-index-data,\n",
       ".xr-attrs {\n",
       "  padding-left: 25px !important;\n",
       "}\n",
       "\n",
       ".xr-attrs,\n",
       ".xr-var-attrs,\n",
       ".xr-var-data,\n",
       ".xr-index-data {\n",
       "  grid-column: 1 / -1;\n",
       "}\n",
       "\n",
       "dl.xr-attrs {\n",
       "  padding: 0;\n",
       "  margin: 0;\n",
       "  display: grid;\n",
       "  grid-template-columns: 125px auto;\n",
       "}\n",
       "\n",
       ".xr-attrs dt,\n",
       ".xr-attrs dd {\n",
       "  padding: 0;\n",
       "  margin: 0;\n",
       "  float: left;\n",
       "  padding-right: 10px;\n",
       "  width: auto;\n",
       "}\n",
       "\n",
       ".xr-attrs dt {\n",
       "  font-weight: normal;\n",
       "  grid-column: 1;\n",
       "}\n",
       "\n",
       ".xr-attrs dt:hover span {\n",
       "  display: inline-block;\n",
       "  background: var(--xr-background-color);\n",
       "  padding-right: 10px;\n",
       "}\n",
       "\n",
       ".xr-attrs dd {\n",
       "  grid-column: 2;\n",
       "  white-space: pre-wrap;\n",
       "  word-break: break-all;\n",
       "}\n",
       "\n",
       ".xr-icon-database,\n",
       ".xr-icon-file-text2,\n",
       ".xr-no-icon {\n",
       "  display: inline-block;\n",
       "  vertical-align: middle;\n",
       "  width: 1em;\n",
       "  height: 1.5em !important;\n",
       "  stroke-width: 0;\n",
       "  stroke: currentColor;\n",
       "  fill: currentColor;\n",
       "}\n",
       "</style><pre class='xr-text-repr-fallback'>&lt;xarray.Dataset&gt; Size: 84MB\n",
       "Dimensions:      (time: 303, y: 219, x: 317)\n",
       "Coordinates:\n",
       "  * time         (time) datetime64[ns] 2kB 2019-01-07T01:16:28.775870 ... 202...\n",
       "  * y            (y) float64 2kB -1.286e+06 -1.286e+06 ... -1.288e+06 -1.288e+06\n",
       "  * x            (x) float64 3kB -1.404e+04 -1.404e+04 ... -1.09e+04 -1.088e+04\n",
       "    spatial_ref  int32 4B 3577\n",
       "Data variables:\n",
       "    ndwi         (time, y, x) float32 84MB 0.3482 0.3449 ... -0.08957 -0.092\n",
       "Attributes:\n",
       "    crs:           EPSG:3577\n",
       "    grid_mapping:  spatial_ref</pre><div class='xr-wrap' style='display:none'><div class='xr-header'><div class='xr-obj-type'>xarray.Dataset</div></div><ul class='xr-sections'><li class='xr-section-item'><input id='section-db20d317-6ac8-4615-b1c9-4933aacce965' class='xr-section-summary-in' type='checkbox' disabled ><label for='section-db20d317-6ac8-4615-b1c9-4933aacce965' class='xr-section-summary'  title='Expand/collapse section'>Dimensions:</label><div class='xr-section-inline-details'><ul class='xr-dim-list'><li><span class='xr-has-index'>time</span>: 303</li><li><span class='xr-has-index'>y</span>: 219</li><li><span class='xr-has-index'>x</span>: 317</li></ul></div><div class='xr-section-details'></div></li><li class='xr-section-item'><input id='section-3c01d288-55cb-43cd-8202-1f4fb6969512' class='xr-section-summary-in' type='checkbox'  checked><label for='section-3c01d288-55cb-43cd-8202-1f4fb6969512' class='xr-section-summary' >Coordinates: <span>(4)</span></label><div class='xr-section-inline-details'></div><div class='xr-section-details'><ul class='xr-var-list'><li class='xr-var-item'><div class='xr-var-name'><span class='xr-has-index'>time</span></div><div class='xr-var-dims'>(time)</div><div class='xr-var-dtype'>datetime64[ns]</div><div class='xr-var-preview xr-preview'>2019-01-07T01:16:28.775870 ... 2...</div><input id='attrs-85498f25-db8c-4788-854b-cfd7befbe9e6' class='xr-var-attrs-in' type='checkbox' ><label for='attrs-85498f25-db8c-4788-854b-cfd7befbe9e6' title='Show/Hide attributes'><svg class='icon xr-icon-file-text2'><use xlink:href='#icon-file-text2'></use></svg></label><input id='data-107a7067-2da5-46a5-9404-f3bc189240cf' class='xr-var-data-in' type='checkbox'><label for='data-107a7067-2da5-46a5-9404-f3bc189240cf' title='Show/Hide data repr'><svg class='icon xr-icon-database'><use xlink:href='#icon-database'></use></svg></label><div class='xr-var-attrs'><dl class='xr-attrs'><dt><span>units :</span></dt><dd>seconds since 1970-01-01 00:00:00</dd></dl></div><div class='xr-var-data'><pre>array([&#x27;2019-01-07T01:16:28.775870000&#x27;, &#x27;2019-01-07T01:30:43.619000000&#x27;,\n",
       "       &#x27;2019-01-15T01:11:24.544700000&#x27;, ..., &#x27;2021-12-14T01:16:57.914485000&#x27;,\n",
       "       &#x27;2021-12-22T00:04:59.551352000&#x27;, &#x27;2021-12-30T01:16:52.164451000&#x27;],\n",
       "      dtype=&#x27;datetime64[ns]&#x27;)</pre></div></li><li class='xr-var-item'><div class='xr-var-name'><span class='xr-has-index'>y</span></div><div class='xr-var-dims'>(y)</div><div class='xr-var-dtype'>float64</div><div class='xr-var-preview xr-preview'>-1.286e+06 ... -1.288e+06</div><input id='attrs-24261ecd-d0e8-4d9e-b6d5-475e9e156385' class='xr-var-attrs-in' type='checkbox' ><label for='attrs-24261ecd-d0e8-4d9e-b6d5-475e9e156385' title='Show/Hide attributes'><svg class='icon xr-icon-file-text2'><use xlink:href='#icon-file-text2'></use></svg></label><input id='data-d36163a4-bb33-4a6a-8787-058961d50626' class='xr-var-data-in' type='checkbox'><label for='data-d36163a4-bb33-4a6a-8787-058961d50626' title='Show/Hide data repr'><svg class='icon xr-icon-database'><use xlink:href='#icon-database'></use></svg></label><div class='xr-var-attrs'><dl class='xr-attrs'><dt><span>units :</span></dt><dd>metre</dd><dt><span>resolution :</span></dt><dd>-10.0</dd><dt><span>crs :</span></dt><dd>EPSG:3577</dd></dl></div><div class='xr-var-data'><pre>array([-1286045., -1286055., -1286065., ..., -1288205., -1288215., -1288225.])</pre></div></li><li class='xr-var-item'><div class='xr-var-name'><span class='xr-has-index'>x</span></div><div class='xr-var-dims'>(x)</div><div class='xr-var-dtype'>float64</div><div class='xr-var-preview xr-preview'>-1.404e+04 ... -1.088e+04</div><input id='attrs-64cebd69-246e-4fb4-872d-0cd1429c56cc' class='xr-var-attrs-in' type='checkbox' ><label for='attrs-64cebd69-246e-4fb4-872d-0cd1429c56cc' title='Show/Hide attributes'><svg class='icon xr-icon-file-text2'><use xlink:href='#icon-file-text2'></use></svg></label><input id='data-a6893ec9-f3b5-495f-a279-b2fe860d3168' class='xr-var-data-in' type='checkbox'><label for='data-a6893ec9-f3b5-495f-a279-b2fe860d3168' title='Show/Hide data repr'><svg class='icon xr-icon-database'><use xlink:href='#icon-database'></use></svg></label><div class='xr-var-attrs'><dl class='xr-attrs'><dt><span>units :</span></dt><dd>metre</dd><dt><span>resolution :</span></dt><dd>10.0</dd><dt><span>crs :</span></dt><dd>EPSG:3577</dd></dl></div><div class='xr-var-data'><pre>array([-14045., -14035., -14025., ..., -10905., -10895., -10885.])</pre></div></li><li class='xr-var-item'><div class='xr-var-name'><span>spatial_ref</span></div><div class='xr-var-dims'>()</div><div class='xr-var-dtype'>int32</div><div class='xr-var-preview xr-preview'>3577</div><input id='attrs-6dbd50a0-01ed-4737-b54e-7f588570d823' class='xr-var-attrs-in' type='checkbox' ><label for='attrs-6dbd50a0-01ed-4737-b54e-7f588570d823' title='Show/Hide attributes'><svg class='icon xr-icon-file-text2'><use xlink:href='#icon-file-text2'></use></svg></label><input id='data-9ba4fbde-0219-4fe5-9bdd-fc52ce7cc69f' class='xr-var-data-in' type='checkbox'><label for='data-9ba4fbde-0219-4fe5-9bdd-fc52ce7cc69f' title='Show/Hide data repr'><svg class='icon xr-icon-database'><use xlink:href='#icon-database'></use></svg></label><div class='xr-var-attrs'><dl class='xr-attrs'><dt><span>spatial_ref :</span></dt><dd>PROJCS[&quot;GDA94 / Australian Albers&quot;,GEOGCS[&quot;GDA94&quot;,DATUM[&quot;Geocentric_Datum_of_Australia_1994&quot;,SPHEROID[&quot;GRS 1980&quot;,6378137,298.257222101,AUTHORITY[&quot;EPSG&quot;,&quot;7019&quot;]],AUTHORITY[&quot;EPSG&quot;,&quot;6283&quot;]],PRIMEM[&quot;Greenwich&quot;,0,AUTHORITY[&quot;EPSG&quot;,&quot;8901&quot;]],UNIT[&quot;degree&quot;,0.0174532925199433,AUTHORITY[&quot;EPSG&quot;,&quot;9122&quot;]],AUTHORITY[&quot;EPSG&quot;,&quot;4283&quot;]],PROJECTION[&quot;Albers_Conic_Equal_Area&quot;],PARAMETER[&quot;latitude_of_center&quot;,0],PARAMETER[&quot;longitude_of_center&quot;,132],PARAMETER[&quot;standard_parallel_1&quot;,-18],PARAMETER[&quot;standard_parallel_2&quot;,-36],PARAMETER[&quot;false_easting&quot;,0],PARAMETER[&quot;false_northing&quot;,0],UNIT[&quot;metre&quot;,1,AUTHORITY[&quot;EPSG&quot;,&quot;9001&quot;]],AXIS[&quot;Easting&quot;,EAST],AXIS[&quot;Northing&quot;,NORTH],AUTHORITY[&quot;EPSG&quot;,&quot;3577&quot;]]</dd><dt><span>grid_mapping_name :</span></dt><dd>albers_conical_equal_area</dd></dl></div><div class='xr-var-data'><pre>array(3577, dtype=int32)</pre></div></li></ul></div></li><li class='xr-section-item'><input id='section-4f8ba0e6-3a21-4890-94d8-29c669c1bf22' class='xr-section-summary-in' type='checkbox'  checked><label for='section-4f8ba0e6-3a21-4890-94d8-29c669c1bf22' class='xr-section-summary' >Data variables: <span>(1)</span></label><div class='xr-section-inline-details'></div><div class='xr-section-details'><ul class='xr-var-list'><li class='xr-var-item'><div class='xr-var-name'><span>ndwi</span></div><div class='xr-var-dims'>(time, y, x)</div><div class='xr-var-dtype'>float32</div><div class='xr-var-preview xr-preview'>0.3482 0.3449 ... -0.08957 -0.092</div><input id='attrs-4d366611-246c-4589-bce3-0fffc0771d91' class='xr-var-attrs-in' type='checkbox' disabled><label for='attrs-4d366611-246c-4589-bce3-0fffc0771d91' title='Show/Hide attributes'><svg class='icon xr-icon-file-text2'><use xlink:href='#icon-file-text2'></use></svg></label><input id='data-3e2b06f0-f6a7-464b-8596-1a90440ce4f7' class='xr-var-data-in' type='checkbox'><label for='data-3e2b06f0-f6a7-464b-8596-1a90440ce4f7' title='Show/Hide data repr'><svg class='icon xr-icon-database'><use xlink:href='#icon-database'></use></svg></label><div class='xr-var-attrs'><dl class='xr-attrs'></dl></div><div class='xr-var-data'><pre>array([[[ 0.34816754,  0.3449326 ,  0.34084997, ...,  0.34704596,\n",
       "          0.34617066,  0.34500876],\n",
       "        [ 0.34084997,  0.33679205,  0.3336207 , ...,  0.34647393,\n",
       "          0.34442014,  0.34295714],\n",
       "        [ 0.33103746,  0.32789698,  0.32448632, ...,  0.34797892,\n",
       "          0.3441473 ,  0.34150612],\n",
       "        ...,\n",
       "        [-0.15569709, -0.27723768, -0.38148266, ...,  0.53269136,\n",
       "          0.5266868 ,  0.5197599 ],\n",
       "        [-0.3081957 , -0.40574887, -0.48745203, ...,  0.5347187 ,\n",
       "          0.52769387,  0.5212819 ],\n",
       "        [-0.38714498, -0.45721847, -0.52560025, ...,  0.53760165,\n",
       "          0.5305401 ,  0.52433515]],\n",
       "\n",
       "       [[ 0.24433033,  0.23207468,  0.2298558 , ...,  0.2683578 ,\n",
       "          0.2623169 ,  0.26436782],\n",
       "        [ 0.21932773,  0.21698907,  0.22101751, ...,  0.26198936,\n",
       "          0.26385808,  0.26338893],\n",
       "        [ 0.209744  ,  0.21157025,  0.21295144, ...,  0.26273814,\n",
       "          0.26855123,  0.26519823],\n",
       "...\n",
       "        [        nan,         nan,         nan, ...,         nan,\n",
       "                 nan,         nan],\n",
       "        [        nan,         nan,         nan, ...,         nan,\n",
       "                 nan,         nan],\n",
       "        [        nan,         nan,         nan, ...,         nan,\n",
       "                 nan,         nan]],\n",
       "\n",
       "       [[ 0.4017744 ,  0.40227944,  0.40278363, ...,  0.30671784,\n",
       "          0.30902112,  0.31182796],\n",
       "        [ 0.40295982,  0.40474173,  0.40677965, ...,  0.30712909,\n",
       "          0.30970725,  0.3127889 ],\n",
       "        [ 0.40439934,  0.40831918,  0.41166455, ...,  0.30933022,\n",
       "          0.3119195 ,  0.31399846],\n",
       "        ...,\n",
       "        [-0.05439033, -0.07719547, -0.10932025, ..., -0.09055007,\n",
       "         -0.08912005, -0.08779804],\n",
       "        [-0.08658158, -0.12559082, -0.17186986, ..., -0.08917018,\n",
       "         -0.08808583, -0.08832718],\n",
       "        [-0.15605411, -0.20333548, -0.24781524, ..., -0.08912005,\n",
       "         -0.08956916, -0.09200344]]], dtype=float32)</pre></div></li></ul></div></li><li class='xr-section-item'><input id='section-ebec2c36-7a41-4886-9f34-65696f3690b2' class='xr-section-summary-in' type='checkbox'  ><label for='section-ebec2c36-7a41-4886-9f34-65696f3690b2' class='xr-section-summary' >Indexes: <span>(3)</span></label><div class='xr-section-inline-details'></div><div class='xr-section-details'><ul class='xr-var-list'><li class='xr-var-item'><div class='xr-index-name'><div>time</div></div><div class='xr-index-preview'>PandasIndex</div><div></div><input id='index-bbea9e13-2037-4fd9-9219-33da65dfe78c' class='xr-index-data-in' type='checkbox'/><label for='index-bbea9e13-2037-4fd9-9219-33da65dfe78c' title='Show/Hide index repr'><svg class='icon xr-icon-database'><use xlink:href='#icon-database'></use></svg></label><div class='xr-index-data'><pre>PandasIndex(DatetimeIndex([&#x27;2019-01-07 01:16:28.775870&#x27;, &#x27;2019-01-07 01:30:43.619000&#x27;,\n",
       "               &#x27;2019-01-15 01:11:24.544700&#x27;, &#x27;2019-01-17 01:30:44.742000&#x27;,\n",
       "               &#x27;2019-02-06 01:30:45.425000&#x27;, &#x27;2019-02-08 01:16:22.611062&#x27;,\n",
       "               &#x27;2019-02-11 01:30:41.891000&#x27;, &#x27;2019-02-16 01:10:25.272117&#x27;,\n",
       "               &#x27;2019-02-16 01:30:44.907000&#x27;, &#x27;2019-02-21 01:30:41.215539&#x27;,\n",
       "               ...\n",
       "               &#x27;2021-11-12 01:30:44.495407&#x27;, &#x27;2021-11-17 01:30:45.725887&#x27;,\n",
       "               &#x27;2021-11-20 00:08:02.290207&#x27;, &#x27;2021-11-22 01:30:41.923139&#x27;,\n",
       "               &#x27;2021-11-27 01:30:45.102845&#x27;, &#x27;2021-11-28 01:16:58.553191&#x27;,\n",
       "               &#x27;2021-12-12 01:30:39.512409&#x27;, &#x27;2021-12-14 01:16:57.914485&#x27;,\n",
       "               &#x27;2021-12-22 00:04:59.551352&#x27;, &#x27;2021-12-30 01:16:52.164451&#x27;],\n",
       "              dtype=&#x27;datetime64[ns]&#x27;, name=&#x27;time&#x27;, length=303, freq=None))</pre></div></li><li class='xr-var-item'><div class='xr-index-name'><div>y</div></div><div class='xr-index-preview'>PandasIndex</div><div></div><input id='index-7b044147-ca2d-4d55-8602-2795b6ed7642' class='xr-index-data-in' type='checkbox'/><label for='index-7b044147-ca2d-4d55-8602-2795b6ed7642' title='Show/Hide index repr'><svg class='icon xr-icon-database'><use xlink:href='#icon-database'></use></svg></label><div class='xr-index-data'><pre>PandasIndex(Index([-1286045.0, -1286055.0, -1286065.0, -1286075.0, -1286085.0, -1286095.0,\n",
       "       -1286105.0, -1286115.0, -1286125.0, -1286135.0,\n",
       "       ...\n",
       "       -1288135.0, -1288145.0, -1288155.0, -1288165.0, -1288175.0, -1288185.0,\n",
       "       -1288195.0, -1288205.0, -1288215.0, -1288225.0],\n",
       "      dtype=&#x27;float64&#x27;, name=&#x27;y&#x27;, length=219))</pre></div></li><li class='xr-var-item'><div class='xr-index-name'><div>x</div></div><div class='xr-index-preview'>PandasIndex</div><div></div><input id='index-6b380b6c-5a2d-4e5d-8780-59adcc9685f2' class='xr-index-data-in' type='checkbox'/><label for='index-6b380b6c-5a2d-4e5d-8780-59adcc9685f2' title='Show/Hide index repr'><svg class='icon xr-icon-database'><use xlink:href='#icon-database'></use></svg></label><div class='xr-index-data'><pre>PandasIndex(Index([-14045.0, -14035.0, -14025.0, -14015.0, -14005.0, -13995.0, -13985.0,\n",
       "       -13975.0, -13965.0, -13955.0,\n",
       "       ...\n",
       "       -10975.0, -10965.0, -10955.0, -10945.0, -10935.0, -10925.0, -10915.0,\n",
       "       -10905.0, -10895.0, -10885.0],\n",
       "      dtype=&#x27;float64&#x27;, name=&#x27;x&#x27;, length=317))</pre></div></li></ul></div></li><li class='xr-section-item'><input id='section-72736517-53a7-42f5-975d-32e07d7def98' class='xr-section-summary-in' type='checkbox'  checked><label for='section-72736517-53a7-42f5-975d-32e07d7def98' class='xr-section-summary' >Attributes: <span>(2)</span></label><div class='xr-section-inline-details'></div><div class='xr-section-details'><dl class='xr-attrs'><dt><span>crs :</span></dt><dd>EPSG:3577</dd><dt><span>grid_mapping :</span></dt><dd>spatial_ref</dd></dl></div></li></ul></div></div>"
      ],
      "text/plain": [
       "<xarray.Dataset> Size: 84MB\n",
       "Dimensions:      (time: 303, y: 219, x: 317)\n",
       "Coordinates:\n",
       "  * time         (time) datetime64[ns] 2kB 2019-01-07T01:16:28.775870 ... 202...\n",
       "  * y            (y) float64 2kB -1.286e+06 -1.286e+06 ... -1.288e+06 -1.288e+06\n",
       "  * x            (x) float64 3kB -1.404e+04 -1.404e+04 ... -1.09e+04 -1.088e+04\n",
       "    spatial_ref  int32 4B 3577\n",
       "Data variables:\n",
       "    ndwi         (time, y, x) float32 84MB 0.3482 0.3449 ... -0.08957 -0.092\n",
       "Attributes:\n",
       "    crs:           EPSG:3577\n",
       "    grid_mapping:  spatial_ref"
      ]
     },
     "execution_count": 8,
     "metadata": {},
     "output_type": "execute_result"
    }
   ],
   "source": [
    "%%time\n",
    "\n",
    "# Connect to datacube\n",
    "dc = datacube.Datacube(app=\"Intertidal_elevation\")\n",
    "\n",
    "# Create local dask cluster to improve data load time\n",
    "client = create_local_dask_cluster(return_client=True)\n",
    "\n",
    "satellite_ds, _, _ = load_data(\n",
    "    dc=dc,\n",
    "    study_area=study_area,\n",
    "    geom=geom,\n",
    "    time_range=(start_date, end_date),\n",
    "    resolution=resolution,\n",
    "    crs=crs,\n",
    "    include_s2=True,\n",
    "    include_ls=True,\n",
    "    filter_gqa=filter_gqa,\n",
    "    max_cloudcover=90,\n",
    "    skip_broken_datasets=True,\n",
    ")\n",
    "\n",
    "print(satellite_ds)\n",
    "\n",
    "# Load data\n",
    "satellite_ds.load()\n"
   ]
  },
  {
   "cell_type": "markdown",
   "id": "93f45ad8-b23d-425a-91c1-a227b67d1372",
   "metadata": {
    "tags": []
   },
   "source": [
    "### Load optional masks\n",
    "Loads a topo-bathymetric DEM for the extents of the loaded satellite data.\n",
    "This is used as a coarse mask to constrain the analysis to the coastal zone, improving run time and reducing clear false positives over deep water or elevated land."
   ]
  },
  {
   "cell_type": "code",
   "execution_count": 9,
   "id": "b3348b1b-ea4c-4637-958e-c0d89212e25a",
   "metadata": {
    "tags": []
   },
   "outputs": [],
   "source": [
    "# Load data from GA's AusBathyTopo 250m 2023 Grid\n",
    "topobathy_mask = load_topobathy_mask(\n",
    "    dc=dc,\n",
    "    geobox=satellite_ds.odc.geobox,\n",
    "    product=\"ga_ausbathytopo250m_2023\",\n",
    "    resampling=\"bilinear\",\n",
    "    min_threshold=-15,\n",
    "    mask_filters=[(\"dilation\", 25)],\n",
    ")"
   ]
  },
  {
   "cell_type": "markdown",
   "id": "6042da34-dd8a-4b67-b039-ca6e5946d112",
   "metadata": {},
   "source": [
    "Generate a coastal mask, based on the connectivity of each pixel to the ocean.\n",
    "Coastal pixels are identified by calculating \"least-cost\" distances from ocean weighted by elevation, where low, flat areas of terrain are assigned lower weights than high, steep pixels. \n",
    "This produces a coastal mask that extends further inland in low-lying coastal areas."
   ]
  },
  {
   "cell_type": "code",
   "execution_count": 10,
   "id": "82a0802f-c1a8-47fc-bb0d-798229255e50",
   "metadata": {
    "tags": []
   },
   "outputs": [],
   "source": [
    "# Generate coastal connectivity mask to exclude non-tidal areas\n",
    "coastal_mask, _ = load_connectivity_mask(\n",
    "    dc=dc,\n",
    "    geobox=satellite_ds.odc.geobox,\n",
    "    product='ga_srtm_dem1sv1_0',\n",
    "    elevation_band='dem_h',\n",
    "    resampling='bilinear',\n",
    "    buffer=20000,\n",
    "    max_threshold=100,\n",
    ")"
   ]
  },
  {
   "cell_type": "markdown",
   "id": "c34949eb-96f1-4844-ad6e-aeb71399e9f5",
   "metadata": {},
   "source": [
    "## Pixel-based tides"
   ]
  },
  {
   "cell_type": "code",
   "execution_count": 11,
   "id": "861a8d3c-d98c-477c-9491-b0de24131a02",
   "metadata": {
    "tags": []
   },
   "outputs": [
    {
     "name": "stdout",
     "output_type": "stream",
     "text": [
      "Creating reduced resolution 5000 x 5000 metre tide modelling array\n",
      "Running ensemble tide modelling\n",
      "Modelling tides using FES2014, TPXO9-atlas-v5, EOT20, HAMTIDE11, GOT4.10, FES2012, TPXO8-atlas-v1 in parallel\n"
     ]
    },
    {
     "name": "stderr",
     "output_type": "stream",
     "text": [
      "100%|██████████| 35/35 [00:22<00:00,  1.53it/s]\n"
     ]
    },
    {
     "name": "stdout",
     "output_type": "stream",
     "text": [
      "Interpolating model rankings using IDW interpolation \n",
      "Combining models into single ensemble model\n",
      "Reprojecting tides into original array\n"
     ]
    }
   ],
   "source": [
    "# Model tides into every pixel in the three-dimensional (x, y, time)\n",
    "# satellite dataset. If `model` is \"ensemble\" this generate optimised\n",
    "# tide modelling by combining the best local tide models.\n",
    "tide_m, _ = pixel_tides(\n",
    "        ds=satellite_ds,\n",
    "        model=tide_model,\n",
    "        directory=tide_model_dir,\n",
    "    )"
   ]
  },
  {
   "cell_type": "code",
   "execution_count": 12,
   "id": "0dcac52f-78d5-41f3-81a4-199509949a96",
   "metadata": {},
   "outputs": [],
   "source": [
    "# Set tide array pixels to nodata if the satellite data array pixels contain\n",
    "# nodata. This ensures that we ignore any tide observations where we don't\n",
    "# have matching satellite imagery\n",
    "satellite_ds[\"tide_m\"] = tide_m.where(\n",
    "    ~satellite_ds.to_array().isel(variable=0).isnull().drop(\"variable\")\n",
    ")"
   ]
  },
  {
   "cell_type": "markdown",
   "id": "e9c634b5-4195-4cee-9c34-84792debae03",
   "metadata": {},
   "source": [
    "## Pixel-based DEM creation"
   ]
  },
  {
   "cell_type": "markdown",
   "id": "d197a187-6a74-4588-95ea-678a576a269b",
   "metadata": {
    "tags": []
   },
   "source": [
    "### Flatten array from 3D to 2D and drop pixels with no correlation with tide\n",
    "Flatten array to only pixels with positive correlations between water observations and tide height. This greatly improves processing time by ensuring only a narrow strip of pixels along the coastline are analysed, rather than the entire x * y array:\n",
    "\n",
    "\n",
    "![](../data/figures/tide_array_flattening.JPG)\n",
    "\n",
    "<div class=\"alert alert-info\">\n",
    "\n",
    "**Note:** For Australia, we pass in a custom `valid_mask` to constrain the analysis to probable coastal pixels. \n",
    "This is optional, and can be skipped (at the expense of slightly less clean outputs and longer runtimes) by commenting out `valid_mask=...`.\n",
    "\n",
    "</div>"
   ]
  },
  {
   "cell_type": "code",
   "execution_count": 13,
   "id": "3cd6667b-38a2-497b-a994-2fae1254537a",
   "metadata": {
    "tags": []
   },
   "outputs": [
    {
     "name": "stdout",
     "output_type": "stream",
     "text": [
      "Reducing analysed pixels from 69423 to 43276 (62.34%)\n",
      "CPU times: user 885 ms, sys: 515 ms, total: 1.4 s\n",
      "Wall time: 1.36 s\n"
     ]
    }
   ],
   "source": [
    "%%time\n",
    "flat_ds, freq, corr = ds_to_flat(\n",
    "    satellite_ds,\n",
    "    min_freq=min_freq,\n",
    "    max_freq=max_freq,\n",
    "    min_correlation=min_correlation,\n",
    "    valid_mask=topobathy_mask & coastal_mask,\n",
    ")"
   ]
  },
  {
   "cell_type": "markdown",
   "id": "9e57e810-d4eb-4875-bf1a-aec1487acbf1",
   "metadata": {
    "tags": []
   },
   "source": [
    "### Pixel-wise rolling median\n",
    "This function performs a rolling median calculation along the tide heights of our satellite images. \n",
    "It breaks our tide range into `windows_n` individual rolling windows, each of which covers `windows_prop_tide` of the full tidal range. \n",
    "For each window, the function returns the median of all tide heights and NDWI index values within the window, and returns an array with a new \"interval\" dimension that summarises these values from low to high tide.\n",
    "\n",
    "More windows (e.g. `windows_n=100`) produces detailed elevation maps that can capture small differences in intertidal morphology - at the expense of slower run times.\n",
    "Fewer windows (e.g. `windows_n=50`) will run faster, but produce less smooth, less detailed elevation maps."
   ]
  },
  {
   "cell_type": "code",
   "execution_count": 14,
   "id": "230cb5d2-2d11-4d9a-a29d-d24d2fa44c18",
   "metadata": {
    "tags": []
   },
   "outputs": [
    {
     "data": {
      "application/vnd.jupyter.widget-view+json": {
       "model_id": "69cdfffe42644e4fbfebf14f7b79b54d",
       "version_major": 2,
       "version_minor": 0
      },
      "text/plain": [
       "  0%|          | 0/55 [00:00<?, ?it/s]"
      ]
     },
     "metadata": {},
     "output_type": "display_data"
    },
    {
     "name": "stdout",
     "output_type": "stream",
     "text": [
      "CPU times: user 5.47 s, sys: 12.1 s, total: 17.6 s\n",
      "Wall time: 27.1 s\n"
     ]
    }
   ],
   "source": [
    "%%time\n",
    "interval_ds = pixel_rolling_median(\n",
    "    flat_ds,\n",
    "    windows_n=50,\n",
    "    window_prop_tide=0.15,\n",
    "    max_workers=None,\n",
    "    min_count=5,\n",
    ")"
   ]
  },
  {
   "cell_type": "markdown",
   "id": "baab484a-b501-4203-88de-c8c959ae701c",
   "metadata": {},
   "source": [
    "### Model intertidal elevation and uncertainty"
   ]
  },
  {
   "cell_type": "markdown",
   "id": "251168d7-3210-4b59-9436-8ae550c777b9",
   "metadata": {},
   "source": [
    "Test our workflow by plotting an example elevation extraction for a single pixel:"
   ]
  },
  {
   "cell_type": "code",
   "execution_count": 15,
   "id": "c079977e-cf56-499e-b016-819d3cd5110c",
   "metadata": {
    "tags": []
   },
   "outputs": [],
   "source": [
    "# x, y = -1455867.2,-2277114.2\n",
    "# interval_pixel, interval_smoothed_pixel = pixel_dem_debug(\n",
    "#     x,\n",
    "#     y,\n",
    "#     flat_ds,\n",
    "#     interval_ds, \n",
    "#     interp_intervals=200,\n",
    "#     smooth_radius=20,\n",
    "#     min_periods=5,\n",
    "#     # plot_style=\"season\"\n",
    "# )"
   ]
  },
  {
   "cell_type": "markdown",
   "id": "55b8f443-b35c-4380-8883-1e590fe25e9d",
   "metadata": {},
   "source": [
    "Now model our full elevation raster:"
   ]
  },
  {
   "cell_type": "code",
   "execution_count": 16,
   "id": "0a8e0556-c698-4628-b0f3-cf35e722a293",
   "metadata": {},
   "outputs": [
    {
     "name": "stdout",
     "output_type": "stream",
     "text": [
      "Applying tidal interval interpolation to 200 intervals\n",
      "Applying rolling mean smoothing with radius 20\n"
     ]
    }
   ],
   "source": [
    "# Model elevation\n",
    "flat_dem = pixel_dem(\n",
    "    interval_ds,\n",
    "    ndwi_thresh=ndwi_thresh,\n",
    "    interp_intervals=200,\n",
    "    smooth_radius=20,\n",
    "    min_periods=5,\n",
    ")"
   ]
  },
  {
   "cell_type": "code",
   "execution_count": 17,
   "id": "cec14155-eeb5-4a78-a30f-54b329e6e7e2",
   "metadata": {},
   "outputs": [],
   "source": [
    "# Model uncertainty\n",
    "low, high, uncertainty, misclassified = pixel_uncertainty(\n",
    "    flat_ds, flat_dem, ndwi_thresh, method=\"mad\"\n",
    ")\n",
    "\n",
    "# Add arrays to dataset\n",
    "flat_dem[[\"elevation_low\", \"elevation_high\", \"elevation_uncertainty\"]] = (\n",
    "    low,\n",
    "    high,\n",
    "    uncertainty,\n",
    ")"
   ]
  },
  {
   "cell_type": "markdown",
   "id": "a379f9cf-3f24-4a0f-9b37-e4b462dccb5d",
   "metadata": {},
   "source": [
    "## Unstack outputs and export"
   ]
  },
  {
   "cell_type": "code",
   "execution_count": 18,
   "id": "1f1d3490-59aa-4001-8ea9-ea46f809c944",
   "metadata": {
    "tags": []
   },
   "outputs": [],
   "source": [
    "# Combine QA layers with elevation layers\n",
    "flat_combined = xr.combine_by_coords(\n",
    "    [flat_dem,  # DEM data\n",
    "     freq,  # Frequency\n",
    "     corr,  # Correlation\n",
    "    ],\n",
    ")\n",
    "\n",
    "# Unstack elevation and uncertainty layers back into their original \n",
    "# spatial dimensions\n",
    "ds = flat_to_ds(flat_combined, satellite_ds)\n",
    "\n",
    "# Clean upper edge of intertidal zone in elevation layers \n",
    "# (likely to be inaccurate edge pixels)\n",
    "elevation_bands = [d for d in ds.data_vars if \"elevation\" in d]\n",
    "ds[elevation_bands] = clean_edge_pixels(ds[elevation_bands])\n"
   ]
  },
  {
   "cell_type": "code",
   "execution_count": 19,
   "id": "75b41fb9-6271-4c8a-a1d5-f4800d03f789",
   "metadata": {
    "tags": []
   },
   "outputs": [
    {
     "data": {
      "text/plain": [
       "<matplotlib.image.AxesImage at 0x7fc86b546c80>"
      ]
     },
     "execution_count": 19,
     "metadata": {},
     "output_type": "execute_result"
    },
    {
     "data": {
      "image/png": "[encoded data removed]",
      "text/plain": [
       "<Figure size 1200x300 with 8 Axes>"
      ]
     },
     "metadata": {},
     "output_type": "display_data"
    }
   ],
   "source": [
    "fix, axes = plt.subplots(1, 4, figsize=(12, 3))\n",
    "ds.elevation.plot.imshow(cmap=\"viridis\", ax=axes[0])\n",
    "ds.elevation_uncertainty.plot.imshow(cmap=\"inferno\", vmin=0, vmax=0.5, ax=axes[1])\n",
    "ds.qa_ndwi_corr.plot.imshow(cmap=\"RdBu\", vmin=-0.7, vmax=0.7, ax=axes[2])\n",
    "ds.qa_ndwi_freq.plot.imshow(cmap=\"Blues\", vmin=0, vmax=1, ax=axes[3])"
   ]
  },
  {
   "cell_type": "code",
   "execution_count": 20,
   "id": "87202b19-b854-4140-9bb7-ca05d324901c",
   "metadata": {
    "tags": []
   },
   "outputs": [
    {
     "data": {
      "text/html": [
       "<div style=\"width:100%;\"><div style=\"position:relative;width:100%;height:0;padding-bottom:60%;\"><span style=\"color:#565656\">Make this Notebook Trusted to load map: File -> Trust Notebook</span><iframe srcdoc=\"&lt;!DOCTYPE html&gt;\n",
       "&lt;html&gt;\n",
       "&lt;head&gt;\n",
       "    \n",
       "    &lt;meta http-equiv=&quot;content-type&quot; content=&quot;text/html; charset=UTF-8&quot; /&gt;\n",
       "    \n",
       "        &lt;script&gt;\n",
       "            L_NO_TOUCH = false;\n",
       "            L_DISABLE_3D = false;\n",
       "        &lt;/script&gt;\n",
       "    \n",
       "    &lt;style&gt;html, body {width: 100%;height: 100%;margin: 0;padding: 0;}&lt;/style&gt;\n",
       "    &lt;style&gt;#map {position:absolute;top:0;bottom:0;right:0;left:0;}&lt;/style&gt;\n",
       "    &lt;script src=&quot;https://cdn.jsdelivr.net/npm/leaflet@1.9.3/dist/leaflet.js&quot;&gt;&lt;/script&gt;\n",
       "    &lt;script src=&quot;https://code.jquery.com/jquery-3.7.1.min.js&quot;&gt;&lt;/script&gt;\n",
       "    &lt;script src=&quot;https://cdn.jsdelivr.net/npm/bootstrap@5.2.2/dist/js/bootstrap.bundle.min.js&quot;&gt;&lt;/script&gt;\n",
       "    &lt;script src=&quot;https://cdnjs.cloudflare.com/ajax/libs/Leaflet.awesome-markers/2.0.2/leaflet.awesome-markers.js&quot;&gt;&lt;/script&gt;\n",
       "    &lt;link rel=&quot;stylesheet&quot; href=&quot;https://cdn.jsdelivr.net/npm/leaflet@1.9.3/dist/leaflet.css&quot;/&gt;\n",
       "    &lt;link rel=&quot;stylesheet&quot; href=&quot;https://cdn.jsdelivr.net/npm/bootstrap@5.2.2/dist/css/bootstrap.min.css&quot;/&gt;\n",
       "    &lt;link rel=&quot;stylesheet&quot; href=&quot;https://netdna.bootstrapcdn.com/bootstrap/3.0.0/css/bootstrap-glyphicons.css&quot;/&gt;\n",
       "    &lt;link rel=&quot;stylesheet&quot; href=&quot;https://cdn.jsdelivr.net/npm/@fortawesome/fontawesome-free@6.2.0/css/all.min.css&quot;/&gt;\n",
       "    &lt;link rel=&quot;stylesheet&quot; href=&quot;https://cdnjs.cloudflare.com/ajax/libs/Leaflet.awesome-markers/2.0.2/leaflet.awesome-markers.css&quot;/&gt;\n",
       "    &lt;link rel=&quot;stylesheet&quot; href=&quot;https://cdn.jsdelivr.net/gh/python-visualization/folium/folium/templates/leaflet.awesome.rotate.min.css&quot;/&gt;\n",
       "    \n",
       "            &lt;meta name=&quot;viewport&quot; content=&quot;width=device-width,\n",
       "                initial-scale=1.0, maximum-scale=1.0, user-scalable=no&quot; /&gt;\n",
       "            &lt;style&gt;\n",
       "                #map_1c8ea9a2a3bde24116c9134f1a24d221 {\n",
       "                    position: relative;\n",
       "                    width: 100.0%;\n",
       "                    height: 100.0%;\n",
       "                    left: 0.0%;\n",
       "                    top: 0.0%;\n",
       "                }\n",
       "                .leaflet-container { font-size: 1rem; }\n",
       "            &lt;/style&gt;\n",
       "        \n",
       "    \n",
       "                &lt;style&gt;\n",
       "                    .leaflet-image-layer {\n",
       "                        /* old android/safari*/\n",
       "                        image-rendering: -webkit-optimize-contrast;\n",
       "                        image-rendering: crisp-edges; /* safari */\n",
       "                        image-rendering: pixelated; /* chrome */\n",
       "                        image-rendering: -moz-crisp-edges; /* firefox */\n",
       "                        image-rendering: -o-crisp-edges; /* opera */\n",
       "                        -ms-interpolation-mode: nearest-neighbor; /* ie */\n",
       "                    }\n",
       "                &lt;/style&gt;\n",
       "            \n",
       "&lt;/head&gt;\n",
       "&lt;body&gt;\n",
       "    \n",
       "    \n",
       "            &lt;div class=&quot;folium-map&quot; id=&quot;map_1c8ea9a2a3bde24116c9134f1a24d221&quot; &gt;&lt;/div&gt;\n",
       "        \n",
       "&lt;/body&gt;\n",
       "&lt;script&gt;\n",
       "    \n",
       "    \n",
       "            var map_1c8ea9a2a3bde24116c9134f1a24d221 = L.map(\n",
       "                &quot;map_1c8ea9a2a3bde24116c9134f1a24d221&quot;,\n",
       "                {\n",
       "                    center: [0.0, 0.0],\n",
       "                    crs: L.CRS.EPSG3857,\n",
       "                    zoom: 1,\n",
       "                    zoomControl: true,\n",
       "                    preferCanvas: false,\n",
       "                }\n",
       "            );\n",
       "\n",
       "            \n",
       "\n",
       "        \n",
       "    \n",
       "            var tile_layer_77c94db52bd50a6d5f4138566d7425c2 = L.tileLayer(\n",
       "                &quot;https://tile.openstreetmap.org/{z}/{x}/{y}.png&quot;,\n",
       "                {&quot;attribution&quot;: &quot;\\u0026copy; \\u003ca href=\\&quot;https://www.openstreetmap.org/copyright\\&quot;\\u003eOpenStreetMap\\u003c/a\\u003e contributors&quot;, &quot;detectRetina&quot;: false, &quot;maxNativeZoom&quot;: 19, &quot;maxZoom&quot;: 19, &quot;minZoom&quot;: 0, &quot;noWrap&quot;: false, &quot;opacity&quot;: 1, &quot;subdomains&quot;: &quot;abc&quot;, &quot;tms&quot;: false}\n",
       "            );\n",
       "        \n",
       "    \n",
       "            tile_layer_77c94db52bd50a6d5f4138566d7425c2.addTo(map_1c8ea9a2a3bde24116c9134f1a24d221);\n",
       "        \n",
       "    \n",
       "            var image_overlay_c9e76b0087aba10d9d2224ca779821f4 = L.imageOverlay(\n",
       "                &quot;data:image/png;base64,iVBORw0KGgoAAAANSUhEUgAAAUEAAADoCAYAAABxalajAAAgAElEQVR4nOy9S69kWXYe9q299zkR cW9mVneblC1CFChr6JHgsT3KzCrPu1CF7kYTNCFzQEMSZQMGPJAHhmFpIMskYBuyYQki3A02mkMP qrpq5j9gGLYh2JBMmxREiOxHVeV9xDln7+XB2mu/zjkRcTOzMm9mxgIy40bEeceJL771+hZwtrOd 7WzvsNHrPoCzne1125PuY4a1gPfygrUg5wBjQJse9PABxl/5Jm7+9Q3GHYGNfG3YyuLBAqGDvG7k OQzABqBQ7IjlwUyAGTm9xwYIlmA8w97KOnZg7P5sRP/Ta5gvr4FhBE9T3lZggAPALH97D54msPf4 7PYH5+/1Hcy97gM429lelz3pPmba7eRJCIC1+dEYkHMChkQIvRGwcoTQZ+BSsAtOHmHm+6EQ34sg GByAQDDxhWCpWtZ4hpkY7Aj+sgfdjiBmkDFyfHq8sAAzmBkIDmQtyHs8td/nn1z9/hkIT7QzCJ7t nTXabGAePQSIwLe34P0AEAkAWgNYA1gL7uRrEqwAoN+QgJ4FWKFGGSDl1yjEzU0RBAlAKJaHsD/j BQzNKABo9/KPJgYbAm870DjJxiLwwSuNZBDFHdodQAQC8EH4HQ4/+wV+8uU/PoPhETuD4NneXfM+ Mz9rQX2XXWIyiRHCiAvse4Lv5phC0TMlAwQDsAPA8jooAuCCKfipW0we6K4D3HUATQwzeJjBC9uz RsCPCOQjusbnsjKBdxtM723jNhl2u8EH7/1N/uSPf/cMhAds5eM529nefmNm8DCAx1FeIEqACOfE /TTCDP1G3GF20Z2FgJbE94pHL68T1/uiAJg94G4Ad82wNwyaADMAdg/0XzG66wB7E2BvPOzex/UY tJ/i/oIAYNooCfhZA+4cpve2mB50mB50CJ1FeLABb3s8ffQbzdGcrbQzEzzbO2tEBB5GUGBxfcmk VCFFVzgxLYj7Gzpxd02Ro6BJVmMFxyCuMbEAor0F3C0DAbBjsV5kgnZg2IFhRoYdAihEN9gRcAtx eQv3Nx68PDUE9B38gw381qX4orEE8rLep2eX+KCdQfBs76SljDCQXWAnzI+MAZwTYDQG7MRhCl3O CFMQ8AMKt3YE6Jks4zsCBYbxwhDtwHWmOJq7CZIp9vHfJNtiRzEGaWGcBSa/fCJEYGcwPejhNyYd j70eYX7+FT75o39wBsAjdgbBs72TRn2fMsAAottbAKCzEofrHMKug98YBEvi6gbA7hlmFKbHNjK+ kUERq9hm0FOWV+0/gp4dAoIlcJEhZqMAaIDrV3E13m07g+DZznaPjTsD7iwwWdDksztcJEXCtkPo pFynezbB3EywP3uG8LNfvMYjf3PsDIJne+fs6eX3mZwDOldkV00qkIY1wgL7DtxZ+K3DtJPl7D4u HnJJSwix0Hlg2FuW5IklgIQxApn5GXV3CbB7pYoxjuc5xQN1HQAIGycudwjyGsd/Rtz1sJPzcNce 9ssB5tkN6OomJ3zOdtDO2eGzvVP2mL7NtNsCuy2o62IyxICczQDorACgMwgbh2lnMW0pfVvMyJLV HcT9NZ5jAkRAa9oYqSW0JOtF06SHxAqlGJqdAmhI8UAA+bUhwFyPoP0gyZEQ8Mn/818RQlzWWbAh 2L2HvRphbgfQ5MGTB7oOT3ffO2eGj9iZCZ7tnTLabFI8ECFk8GsBsLPCAi87TJc1VzCjxP/sEFmd FcZnh4DpwkhWWJMmU2aBB49rEnBEBEmaADN6mC+uE/hh8tCaPx4GkNsh7DqYIcA+24Nui1IfQ+dC 6RPtDIJneyfssfmQyXUCgM5JIgSa6o3lJhEAw6ZD2DqwJfje5LKTmPjQbG//pSDddGEBzu1vFLtA KAKgMsA1Kxkg+cgWbydhf5PHJ//878/A7NM//W/pg7/6HzMA0OhBV7fiSjsL3nSgoXsJV+3dsDMI nu2ttcfmQ6a+l7Yy7Qfe9DGeFrO/GhM0BrxxkmTYuTpDC6RMsJrdM+z1BBjCdGFjjSCBJsBO2b1N 4FfAWAl6ABIDNKMXQJsCME6rAJiMGfAsmzYGCD6dS1nfeLbDdgbBs7119qT7WBIfhRCC9gGTAgQR sOlzaYoxCFuH8UGHsMnub+hy0oJDLIAOAlxm9Ai9ja4uwYyhiu2VSQ4AUvQcuAaowJn9jR40TIAP kgkOC4WFpTGDQgAjuvIci75DAA/Dy7iU74SdQfBsb5WJ2+uArpOuD5IsL8XaPyl+jo+WpPzEGITO YLpwmC4t2BKClRa4YJGAiyDurbtlmH2Qrg4jnRnuxsMMQYDMh7R9qSMUUM0tb0WMMAQgABSCMECN /6lE1hGjq1uQFn07C7YW5tk1wvXNy7+4b6mdQfBsz22P7Uer39LP/Y9euT9WMkAiEgB0TrLAnUO4 3AnoWUolJqEzIo6wtRUDBJCAEIC4nbHExeyDlMb0Aj7dswlmEFcWU5AssmEgREUa7UiZAogL8EMu gwGzdIWEIn7oLD741WUBhCf9d1jdXhonYZxB/sZ+ODPBO9gZBM92J3vSfbwKfHwCc/m67Mn2u0yq BqMM0MbSF2fh/7WHmB72YEMwQ2RkEfOClda44KhigQCqrG4CwMLdtddjjs2NkijhzgmYcaGd5cV1 lQXiNst+YC7ih5z3ydseH/za73Db/mYeXII3XRRUjYCqAHhzcxZWvYOdQfBsJ9mT7mMGFUyJ63hV CYCvggWWvb9EVLu/Gv+LBdF8scX0sIePSQ4KhfgAz6WuRAmmBj/yAE0B9tbHeKC4rbQfZ329NE4x NhdfWAK9+LgEfGratgcf8MGv/Q6LmrSoSGPTI/QO0L7l/ZAYIA/nIum72BkEz3bQHtuPmEx0LRX4 YoExAIDDK2eAqghN1ggT0uSDKkFbYX/cd+CLDfyDDQApVlZjQylxQUFEn83EWfNU2V4EPwoQfb9J 4n7mZpQEhrI/PQbV+fMhH5eCX5HomIFfCYLxb1IXWbfb2RRf5E0P7iwIHhhkOR5H8DCC/YrYwtkW 7QyCZ6vssfkwMT6qMpsBFRMsLC2nQPk1fAef9N/hz4Yf0pPuY6bNJktdxZxAAkAtet5t4B9u4S+7 NL9DgUcBUC10lOTvtc0NyOAnxcshPZovb3IBsy7Lqu1Hua0tiaWGtN/KSve4BEXmnBzR8h5nJaHj bFqdhgl0vQftR1HFniZhiWcQvJOdQfBsVYKjArTWTF3asbjcClC+iD02HzIQ437OgTqXkh6yS1MD Rd/BP9piuuwwXUgJi7n2oDFSPmekZc1QigMmiyzMTCzq0IFlvgcLKJqbMQsZKNtT9gfIeytWdY0s McAgwMohZEDTdXc7qQccJ2AYJdnSdbL8fg9ME3iMg5bGPzjHA+9gZxB8R0yBpDIySK5uaS1jAfIc C4giMwyl1zhlPF++W1wxU2sFAJX1uUIAwRpxf7cdwkWP/bc20sLmATeI8IAZg8z/MARMiHc/zeN/ xXkQi8YfjV56eG/29YyPwAB48ZpVVgDlzDTWB+SYn/cIN7cpwfHk2cdsvvGeSO0PozDhaUrLsw9n Fvicdv7FeIutAj4FvPh3+aVtwYzu0m1gYoxqnOrXObwwI6kAsBPgo74HXewkYVDuzlnwxQbhosd0 2WH/TVFZ1va27ssBNHqwk5IY7ixC2RKX5n0oo2u6OIYpdXHA10mhk+wQSBYJD548MA749Of/4+IK Ty+/zykDruceXXOO7PF5r/tj+jZ/zn/4zmHCmQm+hTYDPy2mVYmmFuQikL3I3U8RlHJQ3uIJfWdG fT4bfnh0N+n4SwYYWSBt+lT0rMbOShZ408FvXRJA1dGVZoggYYuZHFG5GUAVL6RB5njQqIXPHph8 7QIvMbr2tfYae56/Vq7LLG5w8KsAuGiBMwDi+cqUHtuPmBRY38Ea63cO9d9GK2v3OHCd0CjLSIAK PL4um2Unl76YK0xxCcCVBWK3TWUv0pFhYhbYIWwcQm8ReovhPQffRxb4xQR7O8FeDeCovRf62BXi KJa/xELo0YP2yvzGqN8XimQFr7eytTWAwBz09NqXr8ckiMYBeRhX1V80Jlp9hjGBwt4DgY/+yOi9 ku6T6BVQHDWKEPCTm//pncKFMxN8Q22xaJkMqKNld/YVgF86DGvB3mc32+TXEQKYGZ/d1gCYkjMc 8Hn4MSkYkoocdC73/XLsyV0AwOnCwveRBY7q2kpLGiEkcQS2lN+Pg4zIM0zp9ir4lQAYCiao17ks bl4odUnXZakWMMUAhc0dkr+aAaDuYwWYy/Kmz4YfUgovGIJxxW5KcLY2ZeLXjuNtszMIvmFWxskq I1PFiU4CvWOxv7VAfstkFrZVMk8qwcIYEGJsKwHiD4isjTWH+oWMbrwxKRmSyl+6WATdAKDfGPit yllJNlZFTFWPz17FoUm9nZWsSNubPwqACeh8mBWNV9ekYcCzqxnXZR+Oav89vfw+p6HwcdvKuEvg fdJ9zMqwP/c/IngpL3qy/S4jsKy/xEiBHDax71Zy5QyCb5q1CQ41k0Hn8Pp3+IE/Zdm1Zaydv7bg HhKAp7vvsXyRLRAmEUGIg490WzIAyYI7B95uwNsodxUBkB3Bb4tY4KiafkHicRHc6Isr0DBh+uZF BYIUi6AT0zsEgIFFtkrrDqdJXGdr5ZgDZ4ZXAP3xi7lsT3ffYxDl2shDGeDmB/Kx+VDkb2CPZ7Df UTuD4BtkVfeGmiY7lkCntPugLxdjTkt/EyDPOydfcooMUv9ZAUBsevDWJSbHbiHJEVmgSXL2IbuN kwe++ArO/AWEXZcKp+l2EqAsY4Bvqy3Eh7PmYizleYcSJGcQvOeWY2OqgqyDLlYyva3dB/B7U62s 31M5fgCMmOk1sgxZAw5B3FOPWOoyvZSi5Sfb79ZorC62IQm2hiBD5GPtJgJX3TUAcpa9vBfKMAWQ AZAI1MtsknclQXIetHS2V2PKOkyOSWnMD9ZGUInZYOfq2JW2j/Uie59d4PntK/L32RWmSXvXKO9j 04Nu9jBXe9irQbpA9oP0AStr9E0SpDoHZU02zih2oK3MLqFOepdfWtdGGVcMnGOQoT4uIkmIyXUj Ac+oqlMWts/CJaZggMamInTabuYA/JbaO4H0b6ol91ftEAtsb+41BqjLHVMtflFryzha12shPsVL wEMk4PLgEvzwAuFyg9CZpOVXmkrhA4AZgmj8TQFmP4Fuxwxysx0XiYymd5e1MFqBJDHyheSQlroE juUuA37y7J+88Hfs6e57rD8Ws86duN9DWeLqsyi30RTPU9+nmCOP0o/Mw7AYz1QVn7dBsuuNP4G3 1WYlMCtdHgBOA8ClhMmLAmEZ1zu0vwYEAWTZq7L3NnAq+q3ECToHevAAfLlDeLBJGeH0/iSAx07A 0Qw+vV7J1hfDy2f1fyX4AbOyF6oYq4JHc53LREp0ifnm9oWBMIGg1vItWdxnspUMcHKDlQGmtkMr 4rOqzKMguN+n2sEn3cfMgeXziMfC3r/xQHiOCd5DqxSbD4EfUH8pDr23ZIdA7JiV7q2C3ALYrVpg wMSsJSCuJQWQ6QRAymXJVH2xXJQCaRmMusYlAKqxsqiCBbONIqjMELkXiact/YBUzKkczGQiKLWl JvsBebaJBZ6ddklaSzODy32c8nmVAKihh+pHM7vzqeTGWgFAjXWWYG9MyuAbF9fVH4zXKKT7suwM gvfMUnlIWcm/ZIfAr33/kD0PEM7iSgusr9zmwrFwOSnNWsigDSOP1sZscSw14ehmAjIP2Nbn20pj AQA7A5pkDggBYOsysGqf8OhyW5wPgCkSIXpNU8F3AXjxb7b1oxqNPehmAEWhgw9+9W8ypin29oaT 3GTtEQYwrw1sS2SWPusUY11Q+Sl+VBPLLQdQxXpOGAvqZXQnD6Pst5N5LSrfz+ObL+N/BsF7bCd1 frxod8iLAuBdt1mWyKTXWOZ+ABkInQOmCQRKLI7jF5I8JyCUR5LZHkAFhsoO17gKdQYUXJ4NAuQk DACOrIg7ZatFv7KlVGfIDdBYAAhR5ktVnm0c/ekY6Du8v/stAcaiUPrpg19PzI8KNzXXSyIJLbSZ Wy2mlp1Srlls4sjQ2SssMmDJzS/HjyoYQoQxKsC+Bd7/1l9nGAOeJrwNggtnELxH9pi+XfR1BrDH 3BVuGdZSPdtaMe2xWsJj9rytd3cBWh2KHjhKZcU5IdaCbgeYXtveMiM0+/n5zgRMF4x7KzFDQ8BG 9s1NvE9qEeXvshZxpj4TJbjSwCXdh401kBzPhyP7JQKTAdGE97/5m1UpyyxpVHTcEBE+XSpdCSH3 iRdZ4QR6s2SakeOxBQts9xn8MmONReB3Uhu6x3YGwddgj+nbDCJ8Hn58+C5akbt67trApZjdy0qY tAmFQ8fYxqnWAEszmcaAb2+BZ8/Evbvskxiq6v8lFZiKJZqZ69waA0BMsuiywVH9vKu3odL7Zh9E rmsf0uxgXY9gwLte5Lsmn2T4kwpNPDc2VP9oLWk7JtVpX/cmt1a6vwqACoxmAex09GgrDOu5jn82 9ukX/4hyl8+bb2cQfB22cHMpMK7Zc2n9LdkpyYv2/VNB8YB4wFKXQnLXCrZSii6kv6cJfH0jOoJU sLFy86r7NwXpBNnMb+1FQGRUTK8FPrYQIda4voKs3ReJF0cADNgC6MQlV0EGALkXub0WGvtc+IGr AEZ/JMLy56+VBGnMqLbX6e4UAM3cNU4AWLrCOmfZOTx98Ou8xAaZea4h+YbaGQRfgy0ywHgDV3WB xRChg1nhdjuH7Hlc2kPrFAywVI5ZXK9MHpQlMvpac+xZqMCDNhvQdgt2VsDOkVT6K1YYI4kNP+WM ceH9LwFgcATiDH4l8AW7BoKQMEXRZ8AewCaW6ngW1WoU84atyH7pEPeqLa90dePjkqvJIdQZ22hP d9/jNGlPS15K9gfUpT1lvK91heMyzDJSQIumn+LXuYxDppIdAI/Dmy/EegbBe2AaC0xWTnaLdhIT /LpjNC0jLOrqOCqqMJBZiPeLPc2zkpMGDCuLMlPoO3HfJg/71S3M0MHvurRe6AzQGRgFrwMxwdLd DVbnjCgYxmUWQBCAJHBGBseYHlDGBS0C5+HsbAjGEsgSjLa2RXc4sUNSQFS2x/NYbxlHtBbv/9J/ wNpfDf0xaa9x6f5q0qPJeMMYUePRxE8IMsHOM3B1K8doRNCWObfjpaHvREDXA294gvgMgq/ZROWj dJVM/fgy7GVrCZadCigAMLDINzVjb59efr8G+dINjjbrhNAWsSg0ShyA7UZia5O4bJZjfWAsU2FD CAtucGklAKqwqu+XwU+eI+ETW4A84EEgTRh7wMd1yAqYmSjWaqLLbAAE7T0evbjU6YBiLFHZoU6r K/sYFBhjuECVtOGDZJ8nL9ep/aGM0mPxxbrchwhwNrYh5mtGzIBhSUZp9jv1T8vzn1z9Pmkm+20Y 73kGwddsyTWO99kT20jSR5f4oJupVpR31Nu4QxHzmrUsMD5fa7LXYe1kzUkMtYqBRakqHkaEq2sB 1ivgg+1vMzbS2kX7AXS7T2yHOwfe9amOsGSCs7pCS/CbWD5jUQGgMMK4YLxk3DySl7/ZIs8p9nk/ zPp66f4zyMckTwigWMeYWvPUDV4axh6Ll9kahEc7TI828Bs5yO6LAd2f/kKYmXbbKAssGGCV9VZd RmcQegfWofRDUfw8+VhqE5ctXPQn2++yHvfn/kdvtCsM4Nw2dx/tSV8AYRkTfBGh1BcBwTbzewcJ 9sfmQ6a+F7e4YCgUx2UuunOx75aHMcnFP7Yfsf3WN0AbGaT+yZ/8XrX/p7vvsfmVfwPhwRa86RA6 k7LDZdZXn/sNFaAnjwpsagp6oVBhFhn++HcQ8EuZaS2BnOJynkGTDH2niWFiHzKlwe4xeRKaxzbB pEy3s9j/8gWGRxa+l+OmAOz+fMLuX3wlBdrljOMkjKCAL3/LeIH4Wm8QrIGNYwW0xCdN1Rsn6SN+ diWdPGXy5iUp5bxuOzPB+2x3FcF80cLp0g7E/+5in4cf0+PhQ6bNpq5TLIe5cwGyXhggD0P1BUuz hr3HJ//yv5mdKF1epK4OAbp1AMwu8TIAhgoIawCkgLS8XibykmAhD9gxA1iwBAOGhwF6gLyR+KHg OMwYwXH0ktSBrQu7Q5DziDG70Ity9rgjhF7qsZkIoXMYH34D7jrMATcOjuKidMZvrJxvajUUN90+ 289HCyD+AMeRCenQhnEWt35T7QyC98Qe24/4c/8jemw/Yr3ZCPnbyGhuSqAGuDskRRaVSEprwe4F 4z6fhx/TE/8dpjITGVg6IHSAeYwB8jCCva++cI/p2/zZ7Q/o/Ye/xZ/8y/9u+USdk5Gb2zxDpAVA vzEV8KXHLh7SCviVJmBZutoAGRnObiCZ4uAAE+cZKxACgN+YIokiZTjkAZqM1BrOWv8cQpyMBwC+ Nxh3JoO2IYAAvwH2ljA8sDCjhR0Ybh9gbxkOMYaatkkCpht5ze4Zdu9hv7hJw6VkZ2EWXnlb9QVf csT8bC9iKpxAhupSGTUtxl0rUi1rwfR5YaXenP4jW2jRfR3lNdE+G35IsyA6xxkdo/TVJimteJ4p a26stGodMAVYJgJ3BiABP78xMnxpYxCcvBZcDYACKAIq+g8G+Z8ebgGs6TUjYOZ72a7vSF6ziAmX mIGO644XBuOFwfDIYLy0mC4MxkcO40OH8WGHaWfl36WD38jgqOnCYLqI81NI3G7yABipFlGZbBXj dATfGfiNFfbnCCEyQjPlcaT2SvqcMYzAfpB/cYaxtvatdRtVoZs31M5MMJpq963FOJSpfV371r9n 8vnAwVq6ylZEC452ZpTbDxDVlXKb8flPrn7/xc7f+/rLtFAKVL2HgMf0IYtQaRFHBPDBX/xtrtxi Y+S4tWTGZvYXnAASUBRBK2iYnBFGBEON7WnWQ2oO5+BXLYu4vQCwJ2imK0BYIYAEkmrBAtRJXDFY I64021mkftoYmCm36tkhJlmYETqpstHjIB/f1zpmI6BMk5T16PlQQNZcvN4Dk0h/YZoiS4/3QDFM qlWbfmw/4rfBJT6DYDSdzHXw/Zdsa2MzD0rnlzJJJ7YtpdKJWZjvhPVVEYY5ySk9r34cey/zPmws 8SACYKTUo3GBSXuIdeqcFRXnD37td3hx/i+RbBuIA5iMTJ/bEIKNr0W3t8wAs6MK0ChAOjOUdZtl 9kcBaWSnghbFww8WsEFdakaI7/sul+LoI00EDJJsCE6Yng6LIl+U5UT3VfcBK+CZTp81UcOwtww7 hAzu6bhzHzRN0udsr4ZabDZwUoiRg47JkPjj9dh8yGWx//MMe79vdgbBV2yly5tsTTF6TSKpfK8F g1NcVt1PSzmKDpUkY1XYi05NSzFNa6QbgSi6WsX7Ku1UDmHqO3mtc+DOgcYJn/zz/7o6jk/++Hfp yS//ZwwIiJQAGDp5hFkGPzUFQGA5Jpja4HwBmEDKFgNI4CXbkMTFUub5bPfHziD4imyV9QGn1wEu MEOt5q8XaxjAqY3u5RffUNLdA4TFndoruhY6MNst0HVzifcIGqkmzQdQ34Fv96cd9xtkVWbZEozh OAgeKfMculiQHcHWDoVqTZE/Jh9HBOulnBh2YHTPJtjrEeM3JA2tCjcAwKDkBturAearmxSTTT+C xgCjILuODlXGV7LAt6FGEHjLQPDJ9rtMRPcqi/VCc0LSOvUyb4uE0TGj7QalIABfbKVc5GoZ1IkZ TLH0g3CQBaaESEw0mDV8N0BZtyJusJTCkAe6mwCKdYFsCewkixusrJcKrS3qGGRkoYEIVvucKQJg FxMzQUtusiusLNNA9q/Z5qxsIwOmRFS2AMyol2inADMFmJsR5strYBgFAIcxZ+mBer5xEccth7u/ LfZWgWA1COcdspl0enpDEg+V23sg6TIzX7vap/zyazvVU/4+p+4EIDf4q1qxi03+sTOBKQfgyaGO jToXB69LNwgx4/1f/i3+9M/+YTqeD/7N/4h9EQNTwCsBMMUFTayxi6Bkyt7XCD4pKxzjg2bKbq8d hHHZPae6PArSKzxdWBgjwOV7Wb4FwDKDy7EbxO4Zvo8A7eJxTcoIuSjE1oQLwe0zALsb34wUIEl6 aCH3FEVUpwC6naTbRpMhEQjT6M5i2FV6LZoC4NeZKHzV9laB4H2zigUuMcC7dICUYFK9X9ZwhDnI 3QX0mmRLklGPjOAYC3j/m7+ZJOFLuahqFy4OUHcyp0IHrJPNX77UlaBdJqopWGQ3eZqki+S9RzKJ rnOyzMIYTgBV2YvvEUtoIGytLC0px57EbhB3A3Q3nGKCZSeIWjnpLljAd0huKkdWKko1CnyoxRkC ZXAukzTIy9kAuOsg7nMRqrD7gO5n16Jd2LvUP22uR0k4WQtYErHXYcxDpjQbHNV/UmKqKYwvgTCV xBiat3jG/nHgzXKV3yoQZGZ89hJGHL4MSwBYgtAxADzQ8laNqVwFNqU/C+5iC55L+nYLRla6GIgZ 6Hs83Yi+3GP7ESP4JK/+9NFvMDabuXin9q8WoyvZkGSHJy/Lung8wQgwapGunrMx4I1WNMfj2u3g djug7wQAuyhnPwmKmTgH3XjZLBDdY4dZQgQkwJjc4ghANDG6a8kCk2++7w4IXs+RsiusNYMd5X12 WoOYEyTByX7VZSZmcCCYSd6rkzSAHYUF6n40RuhikTX3TuJ7gaXVWEeMFgo0Any5GySNB1U3+MC8 mSz3X9wrZdE4S8cLWQCB8cRGxZk3wN6IgzzFnmy/y1pHVvacvg5bA8CDWV9gDkalAvMKo1zdRluD Z20Gx0O1XW0SRb8k4yRyVj6A9/s0gCeztSiDryDoYn/qpgcT5eHm2tCvoKZDjlb2zxFEedOn9jFz vZeJblE4QeWgwtYhxLGboTeYdpIhnraUYm1+J4DHMWaXLlvQJAQAjfvtGW5f1NdxzvxqeQp5rmoQ tVC66uooGF7o6uQIecDuge4qFz1rqUw6tj8pBrQAACAASURBVCl2dgyIEl1I9YD9Vx72ehLG+tMr fPpP/y69/2/9p0y3QwK72Vxl7xPjVrGKdrB7Gn0KLAPjivBuK4TB3t97VvhWMMEn/Xdik75kFj8b fkivK2ZRjcsE5mB1jAEudHksMsA19lYpt9h8s5fHotSoBcMlaXz9te9cdm2t1O/Bubyvasxj7N3d bsCxjc1YAm4oj7n0IbFEBbq0/3S8MVtsJR6IqA7DnczqgDXg3oGNAXfiLhMDxgfQrXRD+J2BHQzG HcF0wvTMRthU7hSJu5sy4JhRgM53GZDYUK7T00tWtOC1xdaJ9dkC/FI5EECc92tGeZy2ADronCYB ZyAnTTYimuBuNNbHsLcT6HbCp//075Ls1wCbDrQf5wAIpMl9EnIg+S0wEDAEAPh8D6xVFqz9YBeA yQYgWDwx9zuZ8laAYBoGHTjFr14LAJoPcw3gUtHzCXV/i90dp8T1qIgZKihFNWKKAFOB4ZLLfCjr bGyu6wMArd0rwa955M5KltKzfDF3Pbjv8gQ2QMC1HNNZ9qx2LrbBZQAEkEVAo7IKR9BFWQzsGWYM sHuP0Bu4K4PxgYXvCdOY2+XK+SFm5Jj5LeJ6qFldpTLjcoKlBK30vqlZX7rMDGGh6n5zzFJ7hhkJ HMtmEGRZYq5qDc2YwdTuPczVHp/+n/9lOpHwoJdtAQKEvpD3L9S64ZzcE+MAbDZyEMOY75NWNGOt NlU/d65dapmhAiCYe51VfitAEECqZ3rh1q4XMZXHb2cGt0IHbUvbQkZ3VVRVl11ibe1wnPKmpZwj 5qIV6mjXSWIEARyj+NpvnLZdyWRRcomJOc/4jarF4cLCXhNomDLDK09P3ThnxQ1dUoq2BEbBDNt4 Z9HxAQhbMobhriXtK21qsbd3Pz9/3ymwxX3bGvAAxFIcfY2z+1purrwTi9Y2zYaUpTl+G2N8tyzC ClPBKuO6ofm2mokT6Ks9/Wt/hz0RQBInBAC6qVV6qh70UIAizwvk887M8t+lLRTyvwlAeEJ68n7b k/47LE334fUCIJCBZZGpNQCFBQBMbzzHx9IWXFfvFWxNRRROLSVKcleZZUN7eHVmbQmA1krmV4Fp 0la2ONXMRPbWu8zwOoOwdTHBUGaEkR7Jh8iK8muSRIlJG2XdU9HuZjJ7BAMwEkczo5Sc2DGWvky6 XQE2VrCLz/0GGC+A6QKYLhjjQ/k3XTJCz2l5ptrFZop4V7jH6bKyJl8iI+0FCH1P6TzVXWYTW/9I zylvZ7xwCA+2ebujz+KunUXY9jlRFVvgpMG5yA7rvVC2z+n9UrL9+D07fs8Qyh/7dJ+TWW4aeM32 RjPBJ/13ODGP+yLzfQzADpXFHF23cTnb9Q66s3NWyDro/FCmuI0blnFA/dcwMfIBbEJmApwZHWI9 nQCoxviiwgkAO3rZXlmq42sBA7ZUgXgSCG3UpJPCii1mB7vapQWQeoqXjA0k1meB0LGwMRPZHwCE 2Nmhx8qoZpIokM1Y4CRJGNH1y4kTvf4l66PYhxyi2AIlZijxSn/h8PSv/R02P/8KobMimuoM7PUo n/Omy0OfyuH0wzgviG7qBGWdBeDT9ZYSJOW9pmMF7jEjfKNBUKSg7OEv/6u0lJG1y6xsSdlFs6/H 3F9Zqd5XGXM8lnmeHWv8dQ6mcOUW3HAFQc0AlzHHEgybmFNqyjcG8AzeRtdMlY872U/YuQReFAEx DS/XWGbzpeKGQadYYSMYEDpTiYdqTC/YnC3WBEl1ykZYFzjH7Ex0idNcJFa2KBSSlE2G5nZURqfg xwCNgLsF7I24vr4AQSbZZym0QFq/GLdnRoB8dtf9xgIPerhwielBH/fDCL2FvS2yvHrdijZFjoPU xUOIIYhThTVaO9LHnoDwnvAVtTcbBEMOtNybVrlDbK74lZwNUV+LA5aiBuU+lsDxjnp/osFXMANe uIRhJUZZgl8rwBmZnJaxEBE4XCBc9HlfC7G80BuwE1qWgDC9iWIIEdJ1KQGwYoLK/Lo4gMmpkEHW /Uutc5ZSATMFpE4Pydoy3AgYTxggwBh6OVc2MRZoOGWmKdTXMF3eCJzEknjZ/Ey6TsYHMeNbtM3l bHRmkAQBPjNxlaGWQVEGdk8I2y6yQAG6SqQ1Fp9LkiWWSwXO4QyWcpZFADxQP7i4bGll0isdy/2K wr3ZIKjB+q9JzqeVDTpmn/sf0ayKviwcLmyWBT52Y0QmtqoteCoAtjekukE6SIdLUOTMFpeOhxmf /NE/qE7ug1/5DxmmA19d49M/+4f0wV/8bYa1oNsB0NrAQv5erRx8zoZgr0b5EnuuC3SR2WRwLrXR pViZqeNmJQCGCHbJJSYkNZk2u5tfI3TPGJtfSFJFOuwIoWcYpuwWI6/fltHIBuP7LK5w/yyg/8qD rcN4mZVmdN9pW3o8hBgbBdxeirdVXstvCKN36IA0QIqskY4Wz/ketOLXk/dyTW0vtZ/TJGIVpwpt rNnaPRhCNUHwvslvvdEg+Nn4B/TY3w2o7mK6XRWPXNvPY/o2qztxJzsFADXjW2y7cn+BOzPAxeXb 8odq2hnNGSnHTEJh73/rrzNfXYNwAdpu8cFf+dtcusoUAtgYGeRjSFq8NJ5nRQMwqPx7b9A9mxIj rPT9nCZZFOSMuLibmFWNd/VsprCpi5VDl/t0S5MYnCQr2Am704SK3ReA1QHw2c1NbM9XBDter7xd ANi/Z/Dgj54hdBfYv2cQekh41tYMMB0bQYa6axTFUdIdVPMbm2KhacaIJjP0nnFNGyOQ31MxBbU1 9neX6YVtTNBL2OM+ucRvNAgCWAWml7qPWHP4mL7N5FylPq0A+LVQfAVArQF8UfB70WMp91uWV0T7 9Gf/AwHA++Y3md57JPE7Q4m50ehB8BL3SyxP1uUCsLwlBCdf6O6KQGPIWWYrhdG+iyMjnUyO066N JVPX128KDUFCSnIEm5MNeYYmUvva+EBeIC/ZZHsLgAheB4sAyRVOmd0JqatE43xm4NQ/7DfAza9c RtFUyabM4pNUg2EK3VItsiqCDgp6IuZAY4AZvfzoxOtG2j3S1nTKroSsqkus7A2Nx/E8Vnofh9TE X5O98SD4qo29T0XRMztUH7j0/JCVAKjbfNkAWAiXVs/jF4WAed3YwhdoZhpzMlxkRVlUS/oObAxC Z6XLwwDTpRY853IQdEDoZDaIuwlwN5mhKAD6jYinjjuaMagkbKr6fBuq3E3pv80JiAR+Tr6jwQF+ G2Xso3XPKLfWafLE5GywSl3RpKCHCGQMuwe+8X/fgi3hF391A78lfPmr8vULG1RKMyWjLBVtypY8 FEQ8OFGvIc8RqIvMegjSL4wCCMuB7PrZABGguEhoxfXK+PUL3HclG7xPKjRnELyDfc5/SODYGbLC /KpfzYUb56AQQr2hVwOA7d9aMFsmILSdqpjxoT2ps1kfzXKs7hfFAelbJwC2czL/I87/BdTFy1ne 0AHYRpfVOpi96ORpIfO0MxgvKHVSABlIVPYqdNntBVC5xKAMnAo+WvOXsrWWETopMjQD4K6jIAFT 2l7xFHbQBEYEv0Fa3L75v/0cn/7v/wUBwL/9a3+fJz0OV68vGZB4LJqPCqgCD+l6WYCcMM7JEdxt 3MQ+pPnBAKQrx4e6rKX9cbMW8PNaWy1DS0C4MsfmTkb3K0V8BsHnMY61EEB2VU0BbkC+QQ51h5Ru QSmMcAgAX7a1iRBgnmgyy7HOT/7k9+j99/79ZVZsjYBeXxThaeIjjpHUSWwylU1LQzJjSyKoJEkU u8nX0vcU/8k69UyQXPuXCpdVwKAshFZ3M7KqoBJblsW19cLSwo4xIcDeGrhrWUf7iwGkNrY0NySq PZsBePT/Dtj+X3+KT/74d9OHOG3FHW6tTc6zkbssNoDIa06y0ppF5olyYbYVt5qmkP6F3oE3BmaI PdumcInLH7vGnmy/y5/d/oCEFpt0PEDxQ3+X2GB1Ymd3+I22FAMEagAkU7sMzwNcJUNcU4l5iXFA nupfY7ImDtWZl/HM+knjcXz6xT+aH2jqLCl07AAwjHwJA0tnh4qOmpy4UJcPUMZGCIEx7QjddV0A rbqAAnpFvK/JsjIhiakmsABkaHrM5sowc06US1vh/DaA+wBPhOmG4G4I7loYHiBtbv1XHvYmIHSU +pNDR3C3jO0/+1fgm5t0aT74K3+b/0UvbjQCkqArb5FqEKvYpLJV7WzxXPcvW2DaUDxuA4cAWELo LdDnBQMcTAjgEGYDt6o6z7SCPP9s/ANKGoJalvQiscJ7lhkGziB4J2uTIHQKaBXGzPPhRq2Vweol Fvi8v75Lu7IFWGsc0Ln0paCya6OJH37yJ7+3eiK8H0C7nQh4EklwfhhFMTpIosT4EBMMNsXrfEEa Zd4GJYAzkzA0gxgzJHVZSUDO1Zlf2Ug8HsuVy6z1emwZASRxQCfsKjgGdwzeiA9qLyYQMaZbB7+1 mC4Q44SM7orhbkLMYgd0X3qQ32B4z8GOjAf/7JmUCv35f5+uVXjvEmbI8luJXU0RFy1qkIpJFbtH mm7Xjvo824vZK0wvvtm2CIBk7s7aFtVbTgPR2XD1FzHt+y37iqOMPayRx6jWnIC36Ov94C/9DQaA p5ffn59QCMA4inT+5HPLVjSKTLAs79CSlWkn2d5pV4iQKkPspJBZ4nziGvpNdFl7/ScxvLBh+A3D byO49e1Bvj3WjvEMNmoq7lxqoYOVkiR0ru6prjYU8PTRb/DTy+9zeT9W2pzt/XtqP/E9tjMTPGKr 7K+xxezZAmubscG7lNa8RBZYWem+txnDt8hCH924iSTxAAA9w18G4HKC6QKsCXCdT90zzgmAXwdC 2Fn4GwMzSfZCylMIvjOwkKx12BhQAPovJtg//SnC9U11DD/5X/9z+nf+0t/jL36tw7TLsUqKWoYm tsUp6ANIM451DnHo1DWO78cYpD73GwMzeCBmi1OJ0hQExNT9LQv2A6SjZNPL0CVr8dR+n1Vy/5Dr y8xSA7pyz2j97MlTD1+xnZngMTN2BoD3reL9a7G2H1l7hZUpRjA27z3CB3/5b1UX5CfP/gnx7S2g atIqpNqY72OZSzGUHCiAoeiYEHc3trxtCNMFYboA/DYmGraRAUaWmHT+OobfMfwuCEt0AoY+gp// CwP6X77G9sEe/WaEsZnVEDGcCTDEIMPJrQ5WEht+SxgvDfbf6nDzSz1ufqnH/j2LaSclK/zoAehi Nzvv/+V//k+ou8rlQxTLYDQ5VKraANllNmPOepfK1GqmiJeG3kZ9QkXG4vqXAFh81qRsf7MR5XAi aHvdIQBrhzG1xt6LfFvRMXJfymOAMxN8cTvFjS1sWVjhwDbaG/brtrK7AIiAR3VZRdlzHFvrPvjL f4s/+f/yQHQeRvkyhQBikvpAZ5IYAo1eFJ9hiy8/Y9rmpAEFrvp6Qy8szm+RXFy/ifE+V38JOSZM uCvqSxhABDK4gO5yRL+JMb/JYhwcgicQSVJEpsbFyzIZiQXqSyZmeFmAmXxuxQMA31uMl7+E7c+/ gQ/+j7/B4cuv8JMv/zEBwL/77/09vkIEv1j+WGav2y4W7W8OHVc/DGrlwHfdlrBBEi3B6A6HXQdz FSBDnUye+1J8rhLtFBEQeU93dsduqNKasQ73CQABHIvSnw2oJfMPTo9Ta7PDx0RUW4mstuj66+wS KRMeJfCV+2aWUpcmOUL7IblOcFaKoW9u0k1P202eLBdnhKhQaugswtZifOAwXsj2fC8ABwjjCR0k RthnliRMDph2DH/BYMd1/24BUqCc7UXIdSa0CdhcDnDOwxBjnCxun23Ae5PrVAwDKpZKDOwt3JcW 7ioPSk8Z25hhVk1B4+PjKFlkfd94hu8I0y5mswuJ/3LKnIK+ttoZL1lkCtJ1Uu7TDozupkZFbafr vvRwz/I8UQqcx21S7ORRkdUxq32ngevXN+Bxqu/F57Cq9IoD7pOMFnBmgkdtEQCP2bH4ydJvT1N2 c6f9vIxYi5ZPKONTNqi1frGNLe3as5TXTV6+MNse6BxI53+U20hFthZwJmZ9JThvhoDeM6YLg8lk gEn7UVfRSFLEb4HpMiBsJItbAV0EDgACYvo8UAI16gI2uxHOeUyTFRGcyQoABirYHlXr2z3B7KP7 KeV4oAheFCDfpHgcUyevhS6Duh5gNenOxO0Xx5+0DQ1AxRSCBJCWgCkPXjexQyUt5yJrhLJBm2Yi m8EDnQV5VwuoMou7WoAd7wew9/MRr8D8h/icGHl7bTY0SW0BqGbSWKW17WnHbI0FvgwrgbMcihPH L8aikYoZ8kbKZtgY8MaCpgD2DKOJGmdl9KUxQBeAcYrCquJ2CYiKejRbk/UDQwz2O0pKz4B0g3id DtdLDC5sJL43Pgri+ipDKy8PF48KfBzBzDLsxsOYAGsDhsHBTxbGFFpVcV2aKNbq5TpCTYJUbqeJ OFnUI6Y4HiJoNZdf1afLfVZiCWXJTAS40gWmwGmjdpDZx2ZiKY4OqiKjfdYSGzS+Bim2VlgghewS q1kratMovJuDQsDH789jMcPXbWcQPMFOZoAnGvuw/AurFuJYxfYGa2/Gu9xYKzcrV21QEXzL/bBk GMtZFuwMCDIzBLtNeg3GQCr5YoyOKMnos836gRx7XYPL8lkh9sP6TRY70M6KsGFMO8BfekABMPUk A/NWC2QWZwBYhul8Arxh7zCNFuwJ2Mi8XxAAx+LG7kkywAqAcR7wkkRWG7ur3lu7bQhpRgmA1GMs FyIuEgHQ7vNqOgjKeCnSNiPD3gTYfewQ8Qx7A/idqz6vYA2Ml5ZDCiw/ENYAIyQUM0UWWIZt+k7u jfui2P412hkEV0xZILXxO7UXBcYlsdTCXkqhdLn+SoKF2u2tTY/TLoEpSOlFTKDwVvw37qTmkEaf lJxhDPxlD7+1CRDCxmC8kJnAFN25EIeJSx0gxXkb8V+s9wvbAHSx7UuOJMlY5XPMb6VHEubEgRCC QfAEHo2sq9ti+WcvJ/i9BWAyADKykEG5fW5AjhZAb+3jjW6032p8rwgzxP0Yj6QgLUozyvwyEzQT FyxQXjSjzHEO2i1iSeoGrYEdQ/48GwZYTg6UAndbJ8MO2RHR1fvMAoEzCC7aqkoMsApcRwPHp4DX scHqwOmudXs8S8/X9A+L+jE2BNUOpBCE6emg7d5lIdTI8uzoEyD6C4fxgUtCn2nCmxV3Fz2lRABb RFWYWBS9FfYXNkFify7G/0zz0QREWoUadCL4IQIMBwsfAjAJAJInMDE8OZjeA11AGA2wN+IOa7hx osS+tEe3tYoBlq5xfM6Gc5cHS++v38q54VaARhItFGN9gNmjGq0pYgyc3qcgc5XJc/zbI2wcQieu rhl8VpaOohXp0oy+/lFcupfKsQr3HMRe1M4guGCfhx/TLB54IGHxXJmzJcn8u9gSGB47jkPvt8Kp lON2PHlhB45S9wdvOvh2bogj+F0HGBFGHR45TDsjwBfr61RoILhc+lIOGwq9THTzGwE+dmEe/1Pm pDG/0v1Nsb0iOJdPUhhgADCRKENPJODHAN1KIXSaFeIFAO0+Jjp62US5yRYAVQFaD0HrFLkTUDa3 Rtr1LgIQtICbUg1g0iKMKjT6OZgRYCKYqBdo9wx3NcHeTvJDpdneeKkAATsapWjaX6qihMxsqfvc NXsr3R+qIkREs5hmZQqQRxIj9z0meK9S1a/alPGtKkabDzmpRR9obZuB4BLDaofOJE23WIR8qORm vsP5NpeWP6UmcY0xUtNaFYtn2coXLuw60QR0GYRU4omdwfBQXN5pG4ucYwGzZkC1T1fa36IqipWS F2jJSyvPTMhMMBQgN5nk0laLK0ByjFGyAFtKfDTurQoqqJafmQjuBnDXspiPStMtI6xEG6wmSETo wPeAf+CBPoC6AJ4MyAjN5L0FjQY0ENwVwd6SlNRMSFlyZZD2lpM7bAdG/+UE99UQe6CzsASCsEMV oaVhBKxBuNxITHAKUibjtaUxZCCLJTMcQlaZTlPqFoCu1aE8YNWM48gy70upzFvDBCt1FwBgFv2/ Y3bKL9QRlnYwMwysAyCwCqzlL+fJTPMY02uXWQHANBKzdIV8iGKclIZ6q/lNkUm2wHhhcPtNI/2/ LoJHdHl1Tm8aX6l1fqrS3Ja8ABVYpUO2MaGBuE6gCvR0PZoyWAqz08xv3H55CYp12UEKmYvMbZv4 qCxk11UBUM8XXUB3McJ1HiEQpskiROBmK+w7AbAeStlBE0FWSmIY9jbA7L0wbhtb5BSIAqJ7HZ9H PUe6nSSbD3kf4xQzzVx/BzS+x1ES/2W6w+pt3DN740FwVd6egMeQ2SAa/1hifKcBZZDtryQz7uIO 16KrZWpxeR+zbR9ige384DXWdwj8gCycoJPkANEHdAZsbexeiLOC40xfHf847QyGS8L4IMf32EqG N3Sq5iJAl0pdFARb8MPKcwAgBlkGT0LLKEiiJM36oBiLs4DdE6DZ3vi+Jj20syRt1kPAOJbFAEUX h0MqcSFGVoGmDFTlAPbgGHw5YfNoD+ekL3nyBswkIBgINIo8V9sFIlnp4oUQB8dPIqUvDLC5Bzxn 2bIy0xtCGoFKPlT1gbLtAgwTeDoplWGTE3JLgqoaWz4ClAmULX2tw9Gex95YEEzJixVhg9TfuzRg PNqh+SSqHs2B620fyepWtjB3dSaqGkxkQFQDIdB0lqwEsY8lQJZsYc6ExpUAxHMUtzYVz1oSANyI FL6oQht5jIrQoZOylvGBdEVMDzipupRdV1zM5qgSHUuxvSWjZp34qMChQMs9AyYgeCsMkPP7IRY0 JzBMx4PYsqeuPWQucKFELedQHyvH85ChTgBHJRuz9XAuwJgAHwy8N4I30S131wb2ljLoxfI9M3Ka UYIAdDeyfbPnVPxMsa83OAPyIbvElnJ7YpDYI3xMlOhg9SUWqJfXmBxZ8MPs/bzgid+DRVf6XnjC AN4wECxl7ZOU1YqRyReegwE41zs9pm9LLPAQC2RhJocmyC0yQF1+caLbgQ/+lB7htnxlfkCH97XQ OJ/Ajyi3yyn7i8kQLZJmQwgbC7+xab6H7+Mgox4iarAF/I4xXQgAcs8ZtNrUqmZwGUioV7qobUzQ INf0AZLkmCSbizjkKC3nGOZSWi54EOBBdI2Dk8ysGQlm0B8BcdGTuzxJbaRPLm4BdAtMVWOB0sYX Hw2DB4tb08FGYYbgDfxkQFcO7isjBdjFTBKtR9QSGR0VYAeGveWsoO0IXsteEEHVGWDn4vkISJqb CYQY+2tLppjTdLlUkqXgGT8Wcg48DHMgWyq/SrNKir8XAJCI7s+ccLwBINhmaVfBr/3Sx6Hhi4ov yX08vG+VzE/ZrWJbLzyBSy2xwQPb05vzruCXsncFsywTH1EzUJMdyZzsS0tgFPy0wHkGfjthfj4C oN8GwCLH+lbPfQmoUaxD1UMqkIbG/ijV71FAysxKnE0WI8OSgGGALKTFTD9+lcQPSBnbwIC9NjBE CArSpbXF0VS4wHG/6u4TE3hv4McOXpM9gUC3Bt1XInBgxgIAR2GAmp0GIiuMw5PKIUo6p9kj3ztl Jw4AUe8GxEW2RlocSys7hvSHz4Ts7cRe36PW3pcHAFDt6e57fF+A8F6A4FJcjwxVADbr2jhGp+PQ cDILQEgGaXhQeyyNmw3vpc2I8uyL5wbAQ650yF/c+lhXAFABbgkA2+SHQf06EXjTIVz0CBsHv9NS l1x4m+b7WgG94aHKxiN1dPgemC4k+B96YVLSz5tZ0zrQAW12Nr/fgB8vP1KIYKjskDIQgoFw49Ky 3EkChmxkjdHdVWUWJoBGyqxuwrJwCmGeGVZhBs04M6XXpRfZCMMbKbbCUWJ9dhAAlHo/JNl+LZLW bLCaxF5zpw1IRGhD0SGSiqhNZLqW0iClxdidgl1JLjQ7XJZiNQO5ZmwQOClTfN/stSDxYjEymQR8 B9vUTlBhns3FaFLzOvtUdc1KEF5kmqeqaLSu87GYYHlOcT/px0DbmNYAcMlKpldaIWbA1gCdQ3iw xfiox3Qx/6ZrbEkYnww0Gi8Br4xvE7O8MQHAXXTRjMT+uO3pVZBbIYW0VNPXnsYKEM5A1uR9s/5t GfZSRPrCZMB7C4wChGxY9h/b4yiCVJLgj+dIPp6GurykoKfsCzkp0xw3BSm3IWV92g88CcipAILx 6goXP/7xub3N5xW6fM52HzBeWpm3EpfXbdkhwF0HdF8OMDcj6HaUkhkth5mm7OFwEFFV9Xom0YFU UdUqabKWJAHuDIL3gQ2+HiZYAF5+ifLjCYXDp4BSWiapn+TtMotu3BP7nXwQDdiVZSpHy2BelrUA eIotMcBqmyVbNAgPtth/ayPCn0mSvThvq+6WsD7N9HoVL1VXd+XwUqlKa42Xm4CxWLZsIavWK9dt 2NhiosREdzTRRkbXeVA/gXeE/VUP9gTTi4o0XztgRJ4zXLi5pcIpxdgiKQgCKZmh+09gqrvWEZxT /lu7P3Qd45Fc3VYo1Uwc6xMjey3HkjornTgRGMnKOgEAWcJ0YRDsBm7r0P0cAoIA0mhVIHlN6vUo aZgN19LD9b7+LpTgeKSF7j7aKwfBx/YjrgCvtFPaxkprEwV3aPYmogIcjyx3V3sezT9DgLFzADxU 19fakmKwvh6f88UG46MefmvysJ8G9FTpmY3270qsT8VLV+vlmLKCcenicgEg1fLNox72EoAGyqU1 tLIQFY8cmaDW8w426gUIxbO9TsADCIywm8DBITiCQT10nUIuvUmMT18vi66BnHFWYFQmGIufFfx0 OUBAi+N5malmgtIbDGhmOhTEXcRc835LM234rzeYHm7gAJgv49zQpdjfNGFtxOrbaq8MBDWzOxMl be2UjonSyuVKd/R5CzyLX7GDcxWi/loSELUm79P7dFxVdvlQq1x0lVcBcM2WymjSQXL1HluD6b0N pp1NLlXoMgBOW8J0iZTp9DuVq89jUe7PcAAAIABJREFUHssvbyn+mU6nKVimGLObuYqKz4mkcwWa KaGsscW1zGy5PSpc4PQap3XDaFKjCWmdoZe6NY7K0Rq7o+L4KbbQqZiCgpgZgPHhyvG8yRb8UULR ekYqxHpX0nAfEiRfOwjOylrkj3qhQ8XBa3aqgMAaPV8qSWGexzeK1qCq/1GP2dDBMpqq86MMdJWx zfjLm2Ss7hIDPLZMfI+tAV9u4TcCgMHqVLfsCocNUqtXSJPaeM7k9Ll+TzQG6AFFmQR6hXv6Nlr/ Rf5b2wI1npg1AWPNX8hxP6BlfEgy+TrqtBRLTctpATcEhGR7dfLETNnVJp+n+rEzCBsH2snYAxha Brs0E0S7UJbd26V+4FcWNnqJ9lJB8LH5kMsC5IOy9MCMGZ2sxLK03CFQXArcLm2jfc3a6iaZSeiv rbd2POp+NP3Caf7v8w5tfxMsoMp1RGGaHG7zVGddCzaXCpOV2ZVMT5e35eucGaoyTh83RBDXunTF mUB7A3sjoJLc3ph9NiPSoyQ5kAqbjc/hAbvPcTtwFokt3V8FpBYINR5oBn2/ZvEA0tzh8hoZz6kU xvgAGkItpQUBP3s9wuwFVbmzoCiiwOnDiKYAmFa+o0cV5uGSMlF5HwHypRxRVVbCYabCMkt23KX1 bAn4lhq3T43D3TVou+YWPAcIpuzwqSB4CgM8tFx8j60BNj2mb+yw/2YvU9IuDIYHJOzPIHVSeFVx 2SKPqNTfDY/KVT05psf166WyMsfHvHIR8yPUPbSEWfaXmHI2WrcTkxOImV7N4lLIYFnG/Kq4nZfi 5fIctZavGnIUCua2cEu1YzBL1gfkFriS7ZWsraxJNVEuS4dPpcRFFE4gL2VNNHrQzSDA1XcpeSKC CtHFtRbcOZirG+B2Dx7HOoyjk+W0swSYfWdmDLAtQStCWgp87Trt9/11usT3ok7wue25EhB3SOe3 7jGwDsYrx1KzR8pucHShZ2UwLaAdK6I+9J6+33eYHm0xPOrgt4T9Q4PpUjK+Ckg66EeHlCsoAKim rCWCVd7TvAB8+roCEGu2NY6ajKBFQO7BjWFVgmY/izhhAXBlnSBF4QTV4zNT3q8+13KUfF2QlWD0 she3Qlo2lsekR+RHCgB8vkbJ5Ww+k7bcRV9LLishMbm8nP74CMtT4DNT6aLGhTW557keqzlOIP16 j5MUSl/fABe7KISBmmCoHNoM4O4IgHoORIuP91FS64XRd1ZcDKxnfYHT43+HGOCrsBYgy9jiKYBX rVuEAqxJ9VgpkbMEgM8LfvF97QYBgLDrML63xfjI4uabFtOlFD1Xk86S1p+KHKxsWjsz9HkEJWVW JRhqEqEEsiQ1ZbCY5KgywKYgmYQC/FAkKSiBXOWuxlhZmcgB6v0moVPIOunYoD8IOUue5oAQUlKk u+Ia5BSf4rQ3tTXWBzQgqWBI8dg9V8xPxVLlQCLodjYrfat5lvPsnbTPjQHm6lbKY0jGn9IwSkH0 MCKJjCwxwQWiMKu/LU1ZYBsnD3OQvS9s8OUwwbaft60+V7sLAM4Y0WEAPB5PvMP1DVypcKTtH0iA LO6rLYJW8FtzfZda3u4SQ9Ff274D7/oUF5oe9BgfWewfWZnd66UgXcEuPVquhQF0s8q+9LR8+14h RJrAKbuPSbqqYVSlPFUeNkQZBHX7kP2XrC5t29dDzCtJ/MVrFDenYJYYXLF/yPUI47JLTgzYW3VT i00r0wPPWJ/ZZ9BL8b7yGjeAkgAQqKoQVBMwmW6rEE9QAYUQZ7ugtwhbB/eLa5ky52yq9SNrYlt9 yPvyC+B2ip3aVID6+6ou85Ptd/mz2x+8ciB8IRBcFTR4EeYnCy6/rm+XEkJ3UXU5xfRXd80tPfDr Jys2wFdkgSvX95Db2zLDQ9etbFonAncO4cEGoc/tcOMji2ljEOKsihKASpcwfcOXfsOU8enuykHk ethFjVwFWB45e0lFTLDdxcJpltnUtrZOjqN+vmZlMThxXW+n0vkAAC/F4CkcUICjXqu2Nm92DPo8 sj/J3hYqLytGFavM7K81jq1/lVmSHuEoqIDOSULeEvxWesD9wy0ovm+ipqAOf0fD0NhI8fTi92+l UmJWQL0Qu1/CgNetPP3c6HGSosuhmr/nya4Ch6e0nWrKVvVvILPXpYbx9txaptt2bCwB32yg0QLo nfp8qTTByj74YgN/2WO6dJjiUPPhMvYA94DfxjGWvcbokIGpcAXbIB+VSs6MigHNioUVBKOLaoea MQHrTG1e9FuDnb5GVYdFfayV0jIyuwsdpfITIAOjDkVfPqC4bqEms3QOZsqusbq9muig4p+c4/zY ytdL4GNr0g+vUQYYQs0GgaglOKWOEO6cMD5jwFsnoxCK+KG9nWB/+lV2iYOviqarEhmgvucUBBe0 LxXMqqmFR2LvzIzPbn9AT7bfTTt5lYzwuZhgBYDWVnQ9WQuAp8zCeFGX9xRr2Wrqt1UwPPxliCvV 62OF5a0x1BMTGrzKcBdA0hjwrsf03gbDQ0mATBtKXSGhz4OM5gwQWUwUiHG/8tuOGeubFUqXrqgC 4UIfrNoac5vF8FADYQl8Ka42rbMImfMhJ2abfapqHluCW2VpEiO1QBYpKM67juktA98hVidCCaZ6 vwJwKgAwzN8HkIRUE1Axg4YRHIJ8Py3BGJlBHHoLWEhsUYHKEDA1ALhkGqJZu1Jtm+mJE+hehwtc 2p13fpABrrm+p9S/LcXgym0uCY0eslPktqg4fi0cPdK6l0ZUzh4PMLul15bifUQHgO/AtvpO2F+M /QWXAVCzvSUAHrLZ+437yiUj4iJpwHViIrWJ3cYvcZNFXTytFXe3BDkFluq18geYZZmSDaaJeM21 rWYp6+02xRa2QqWlPffUMWNrwKYp1CAduBY7PcWWEnLF6+RjsqKMRYYgJTDMkgUOAdgPQNeBt70I Zmw6hG0OkdjbCe7PnwlzHCfwPg44JgPs9zk5smTe19JyJQnSuOCBHuJWli6fa5at0+//q0iWnMwE D9b9AXdnfgvZ1lk5ycL2j9ohECvd1faYSwZ36BxKcD6lpm/tGJrn3G5P32sl89u/nYV/uMF00SW9 P9Wak+02myyzpwv3aJoFEsfvziTkGcjSXHmdKjmRYmXSbmeGepnZJVlwgRX8kgvZsD7ykrSgFTBM fzMnhDMs15l8EPZVABgTHQQrBcw2gVGZlzKWFoSPTmNrl6+26TMgt+vpdluJrCBiqQRI4qNzEsdL g7AI3BmEyy3sJHE/ck5qCKfpeHLEyNhVNrKvVan8U9xhDS0VSZUSB57uvsfsQ2KpX8dwpoMgeFDQ tEF/oIkDpJUaRlhaOQehzY621s7jWHt/EUwOsFVddinz27LRpYTGITvm9qIBvyUQbF8rYqLcWUwP NwgbAT9QBCGK2UlLFTilObZtTA/zrO3MIhBWWoF6mIXas5bEtEOD0ryOpnyk3LZ2VJQAuAR+JctK x9ACTry3mOS+1RhaEh5tY2rHfmQjk0ULtK1rqjGxEaeZMrzycBqCsASOpHJYJfipdxHrUHk/gLoO 8AG86QRsHcH3BjQxbBTMJSDdZzJcyaCimqvHvgB+QWcsF4mRtja3XY8DknhjwyArt/lrmk63CoIK gFXNX6vl16bEl5jTKXG+U8GvfK1NbMyYmZkDXntca+BzCJjmJ3D4/cJU8pzNwrbXAG9l+6F3CDuH 0Nu6M2AlwN+6tL5x5WZmcjJgPleD0Ermp5IYLtcRn/ngfqIp8KUujGk9tqbT1WbgUHUQiTvXXo3Z 8wXXmbt1jUUAaZwlgCrRMmPtRchD95FYXfFlr9z2FjjCAtAvWfpRlR8l6jqRqtP6PwDkA+ze5+FY vYXR+0vrDrlIdhxzaZdyARxA1MDK0vernAG0ol6togyl5F6LS+z9wVlBp9jiypXiy7F5uHdhfmmR I8AHLINfa2usr3VzlwDvWOvZGrgdAb0q7rR0rUJY39cC6C25QmytuDM7h2BNHHkpy05bSkKoovZM 0tgPpJrANUvFvjpb1wBLcvLBcl0qA6Th4WkuRnK5ObajoarLS/v0SCIA0gdb/s0wo7SEpSJhBb+2 cwLZPeTors2C+O0Xdq343QgQzkCn1NcrbS2R0NrS59xu05jqM6+OoWVRS0kKjgw5TpcDEdB3CBfb Okscf1TcT69A17dRQsuIO9yqSi/sg8t20rbGcamCY02IRNdvCFVKzjQjMioNAn0vgujzguFspRkA HnJ1qy2tg9/BWN9sOysJjfJCV0xt7uqutqIdYFbrx7MAQqd2c7RJk2KAUbI0hJ1WYz9VcN4YAcBe sn5+Y6NwJsX5H3HyW5z1G7o8FiAVRh/4GKv2MM0iA6iS5wUL1CJpd4tUxAyo+81FT27cTJMtLgHQ 7BX0hO0l8EtxQb8IejMGprM09Lq1X+ZTa9LWpNmaKW0H44SNpZnOakuCHkRV2CMveyBZEZlnChH4 fA3YWQHCTQfuinCKNbBf7WG+ukrX7CgIxoTJal1fYIlDtsmP8jtzKMkZBGCrxot0js01aWcIRd2C 5QNbt7TCYta3ROdjox7V2jgf8PzAt7o8YRH8SGIhszKVpaRHa2sJCH17yYVN+1+OOc4s8PzmLsEv uTQrKKVDj2InSOgt/MZguhD2MO4oz/ntKI+JLNzaQyBYMr+2ta2MA2qXiP5NHrA3qEQGtJPDDHIM JQiWRcY6D0O6KgLsPsCMXhjQFGaMjnwBQJX6yUJNW9u0vwZWZcF5+XLxWS2Vt5wEpu0yJ8SVF5Nk xbbS0PSFY64A2khShLcdwsaBrZFrG0tqwsbBXg2gZ9cZBPd7iSG2ILhUJ9haCYDx+UmDmqKdEvN7 0kcleA4CltZWbBC4OyMkYJ39ASsM8AgQnAR+zwN85XrtMZbgdyzZsGIzhnfM9T+UgV6zJXd3Cfwa VpjauZyRvyML9L2A4LgjUX5R8FtIdLR/yznE5wXotYkPOW49kAh8gVKbnBmljSzVB44au4urqteZ ioXVXeY0P4OmAHc9wYwhg58u33wBK2vBSUGA6MWB6wAQzV475cd1aZtHni8VU5fnWLnVXIMjOwve buAfbhC28kvofrGHud6Dtx3YGJivrmUwu84c2Q8RYBaKpRf6f+tDp2JqHc1AUGf6LK78kq2V9Ttk cczYivsLLCc71Jbc3pPq3E4Ak3Z/a2UtZTfGsYRGmZE9uK/CfV56f82O/cKTdCxUbq8xUpi8UMum faLs5j8YwZoY4Eaa+uZ7koRGEZeeMT/Ksb3561wXUQMJ9PS2rwDQA3bMbrC6v3VRNLLuXcEAKQgA uusAmhjueqzZn+cMfin+txIPK4uEtce2vWRr8by11464bAsbOb5sC66GDgMosJwMKa9LCYLlMRsD 2Fg+dekQeiOf0dbB7CV1bfaj/FCUM0WWALDa9fq14rKifkGCjgzhMT7iVwKEZE4GwsXs8Ens73kB 8FRbAcAEfsr82kTEyi/rIstr+m6r/S64rafaYmwvFO9p8Lso40jrNoBXPk/nELN70gpnJBmyieMw C3Xj+vh1G6gBcMHdzTtEOr5yrkYLgDOtPSAlQpYAcCYqMGjLVnEMlsCqstxmKQsQoBZk1GVsO39a EJxlNReeH5BIW3wvoL6PlrZZHQPysij+PlZ43/4AlFlgYwBjwc7Cv7dLAKjjFOjSge0F7NUIGvdy HuMo4DaMNQAqQB8qnF4LMaxkfclQVZ/5tVnc9ylAOAPBCgCPxb90eeB0ADwl69sCYMn+nFtnaM3f i5na9pe3vGnX+pJPAMAZ8BXXSRrey/cwywIusdPZa3H50g0eLgnThbrCGeRSkoLleRkXrERJ49jJ esf108T+OG8z6fZp1rdQUa7W06LmlDBh2D1nV3jvUxKksjYr2v5dsD59Xp/DCoMqwbZlZktf9hDA qwBQlK8cizkDB0tOqmVWB6kU2z8aZxcx3bAxqd3P7ov+5hCku2TyEv+LLLACwOfUEpSFT48Fvm6r QfDYL9DX6f7OGNwC+3Pubi5vywwXz+kEVzzarDG/cWvbZatt2bmrW+0ucBWIb4+Biy6QYAmhI/g4 DnO8ROwNzkBkVEp+jRGS/KeP6e0FAEwipbEQWmfnImZ+dXvViMny1z69zul1iiUwFdi15TOlu7cA eKnwORSM5XnsFABdslIIQd3hMonT3ntLZTvvoD3pPuavq/BZ7S7JEQdEiqpadydo+T03+AGnZ4rX wO8U4NPXymVnbXgnMNJoFWM7xviWXgu8GNdLyzTZwJwEqV354Ah+K67NtCHs3zOYLpAmwqWavgAR JwWdVKis1qpFA5npJcEAdX9LgdCQwbfa3kI8y4y599cs9NXOmu5TLR8dZh5vixWTChdN7y2muUek 35OYFYYhmH2A2UsIQlxgibnStbjCPE05GwwkBrhY4rJ0/cumhbVOruZ1vmefY+ymLgCwtbu0tgGH 3d1DZSa6roljJ63NdX0HmN+sdOUQ+GkMrgWyAyyi+pKuAOca+KVjM3OAm22D8jko+EniwwDM8Ftx n3Xw9vCQ4HcyEziNxIysLR88qpa1NbXoN920EwfA+meZykaa0ESbfJmt1oABF+7ibOE6jMMzGo7T yIOOc10wasM5NpMGzQhLcXQHdgR3o0XmDHM9Sq3l5KPQQpz/Acj565AlVZPRHzdDQFDwbTq10rmv FVbfbwAElAmuKSafCoDH4nyz5MUyQ0ylLirvU8QmD5avtCC5wvrKcpT5ORRxobfN9JS5ed5YcmmL WJ+u1+oELtX9rVk7CDz1BPuyuPcO170AuqpsRB/v+hkuFF3P4l8t+K1liNWWEk0ATmnJTcul+zoD HZfJH102/Xha8MUGYduBrQENITE4M3phgPsxx/s03GCNAOA01Z0gcb8cGGTaUqTnj/m12eFX4R4f sjkaLZTGLALgKQmON90oMrGCJScljhij405B26TXQmfq+J+h9A+QeGCV9Y3PQ2ekp9NSYoFsAb81 8H2Ux9oQ9o8kGTLtgNBnFph6dyMDZMOLBdJLcXdiZIl8dX+LbaYi6KIdzhYlMaWcvnaBlPvTeKC6 wmsiowDmMzOAuluiBcC0ozXg4fqfLruS9awAsKx1W9s+h/m/cRLXdulfezxr/3yQf8EjDUQvlc9V /VleiPdgO9uDYW4n0O2Uj2nyub7SiKehAPh5+DHlmsN8bT4b/4AWWRyZ/O+Ivco6wbvYi80YWTtx BYBSeXaJAZZxv6TAXMT+DsT/qr9bBrgUp2u2tdqVoZsOYb6MZnWRb6ClDO8swVEeR/laBMIyBhiK ffqNvO772BIX+4GnC9EG9Nv5jNe88Qg+UJAsr1vp3h2+JxM7pDoOeBczUwbA/E/m46oSS5aFWvii ndAvu1oHuAaUJQBqouXQuocAcMmaGFq97Xqdw2MnSEpKyMj9Z0lkrwCRyyrigHqPU2BQiKIJtxNo P2SdwSi2queX+nyLGduf8x/SY/o2p/OL39vP/Y/oMT7iSlTlREZ4CABfJwsEShBcYIDy8h1ZYBWD K+N5pnr9VPBbApTFGGHRF7woiKnntZagKKWVLM1+UdkU83YL8EsAttbqBCwCZfV+EQNUbh5iHWCw qAFwGxmgCqS2rm4bE4SC2MqXWGdhlscTf68YWHV1c5a32VzDAk1UmzZDTIiM0h9cdYZwMXyoKodZ ALfCFZ7FAsvl0gHQOhCmg27iiIktluUiTVzwVIGPgrmtCZUe/EFWtmwBkBPQ0+P1Hui66r6TOSNI M0fodsgMchzB1zfi8kYNQYarY4PVdZkf1+f+RwQvai6zqZIrdl8ZoBoBwNMHvy7nf0oM8Fi5S1vj 1yw7A79CQGDG1k4BwAh+s5IU3cYC+C2xstmciqWPbCHBsZjosDSbP3sI/IBY9rLJ21TwE4HTCHyd MkEph2H9CStdV/3eGqC9q5dnAyt7KLalz0t3uCiKNiMDrG5vXC0mYP7/9t49WLrsqg/7rb3P6e57 7/eYGUloBvGQhHgFEE+BwUHYKsZAACu8hICyU4kTV6UIqaIw2OEhoQcYGckYA0VsU6EMZYuHMQWY EJBKFaMKJBBSFoGAQBIvAUKDHvN9c7/b3efsvfLH2mvvtfc5p+/9RhKaGfWqure7T59XP86vf+v1 W26UXUo/MMqM3RHw21D1BtN+LK7tEggC0zhfA2KTuOBlhb0HXOGKFaorPAeQwNXjYrYjIy+7wrZN HSP1HejsLLuwAOrkYaoN1G2FZadawPNz8HZXssDeZ0b5S4/861mAUtmquwGwVoP0sQx+aoUJWnXn qyRA7hL88r6108Mqusz8Eh6qmasKmxUAc5mM2a5tRXN1gqUaeDPb5dEA4xLwzYFq+pJG7zJba48R bXyxS+DXaQa4rCOKMKlFbp2eo4JxRIAdiSk7bc9n+vIqAORym7dp44FRS1zK/qpxlB7AWNznvB8r jxU5t8dViQitwdSC4tn4U2JADXPLjNA+n98YGMBQBsXlh3hBTot0X1osnVvS0goxlIxpPpHDwHal qWoHgJyZAboArVdSDmOJQwL23GqoQJ/KX3i7Q9xu8Vr+d7LBVURfH0XyQ0Hvc/1fUXvce8GECZ79 XdYvxfxkuBmX1j7XbnPI9bUAuBD34znJq4b5yXoN+BmQiUkYc1GeCpgG1q9g9pc2z4CdgJtNekyP X8nf+3KO47osk3X0fpoRskklMSthgVWYzyQ02gHpwAwIGgBs1aDtLOA5FmhBsDVlg6oj2O1iBsH+ kbFWiJm54GutQHNBKyjdDSOsXq+NBfJ0X5MXYoBWW+TaDooxFJc3hstZYssID0hVLZpzoFUPOjkB Vn25htrXZ/c3jojvfvj9Ntz8KqbqMK/Z/9t8jn9VWeMkoLAAgIfAT5+/ivur8bVLAJAPuMYAamn5 BICZ+RnWp1JT0+2b4+lpLzC+av3YAmo63lxvrz5uADDPvnU1+LWur7y+AoDqBoc1wF3K+Lasz37v D31tjARW6V1FFdvLLW4GGPPmqpBMUyDMrjHJu2PfVzc0O+qcTEObS4Qo4OQEG9L99HhOOQbl/Zcf gwNxv6VawZl9FkCeAhN1+r3m+rO3oGhVVLgMEDrkih9sr4tR3NphBK1WoM1awNACuw5CAorLuwCA n3fzv2E9t1+69cPvF5B8cPXVrO+TAt+D/Qvzh/K+BsNSJ9gGkJcAUNfT55kB5yfrTNifutmLyYMF ALTLMc/+2JVYCHuadU9nLSnsLsX1rMXeLTLHJfCz7q4aMU+SHm0RcwuAqhTDHYvqc7n2MgDa+xOj 6fIMVEog3AzgZTAzf4eGEc1I9jMRXDtHNyEQpR8WgssXcB4VkDNE5qSsNxDi/HeJObnH5fGiTRIi 4qJXenhqNqQzuyvzvXUA2JXC43RrJ6nNJkO03KV10edmboxS7sL7PahPUS3tzojmNRwIb8kQo7A4 ZP19bQ/2L2SOtUr1ZJwHJHus674vXGwCgM+79+/Nf1MOxQABE3tx1Tp5LKVVemnBLQOZWT7j8s7G /BbKUiqmNuOiuiUZdHthW5d6UVBhZhnX4FdlhJtCpDbxUY5XXGAACL0ow4QNpDtkxSUmZcEvQuZK MLLy81JFTFaDBjIbWpo8l3UAhxoIdaylNZstVqUYv5PkiN9KNtjvIuyApMr11WOqaOpcxrgFoCzB Po0T5n0sFVPPuc6G/eU4oHVr7bpEyOIeRsJqDiSzxt44yv68T3WAhbFl0/7iBvh0v1XCBu//8pJH Y5dmltthbpqNT0rSrw0/XjFF4D17H+brBJfAb7Zuz03Bz5a96HZt6YsFxs64y2jcTv3VPFCPl9c/ EJuzj4vmnKzvZsr4FwEQQFuGAswDYJwZelTF+zS8SJSZn1roSdzmDogdELvk3uiPpoJgpCorTPq6 7vKH3cYB7TJha2nH+nEe6EdW9iivlYAxsbtB3iPac86cEzgzkNg5uDGWuscYUYYlzSTOKAFOTBfI HDMkysPLqwJrTr8ezOVFAcWl9F68o1REXC5EKgDKivoOtmSmfK9dAUVHwra8Q/5gHAB40BwQNlaJ lQIAx8cl+M3anIT+gZI8coQH3Qsnb5iC4muGH6O7TcoUJnio9OVuyl7mXN9WYaUFwLbEpS12tqwR h8GvBa8qAzzz65Ob/2029wpmQc8FrlxfBb+5Xt0WAG0MsAw4Sut0wLgRJsiOZ2JwhEmLGykbLMdY BEQT+2t/B9o5wvU8Yf0roQQ/lKlyfi8n6sYk3zSKYozfRRFNGLliT3OWh5YfmCq3OAgpxBJGsWzR JENmkyg2IdOU0VTM0LKxuRCJo/o68a6w1faYqYZvkiyZYYM6eY0cPeZr7w5ZxeKW5oi0MVZgwn6r /WjeoUlOXeXHIitLTw58Sca3LHaF+elz1r1t2Z8u74oc/qL6SnsuTYlLNh1Z2C3H7YApA9T7FA07 iXWMcC67C9TxvtC4vkvgJ8eTvyoB4so2AqIACEkdRs+dclaWqbil8hxyJteKpuZsrz2REpIr52yv 2bl4vWWJtoyvp9xC175W1a0TlWuCTzNvI1xi3ge+m9GcKDm06K+dKzL82wCifk868wHo/VQuovFE dg0oWiap75F+f0NI33M5KIf0hgcAzgBnPn8uy4EiIuowXZecrHtofKgxLVZ+vFpVR6hfuhZbtG3Q lLblzHq6fbB/4ZS4NetetbW3yxsClzI+a5XCcxPDa5lbtW+bIYa4NRVQLkhVWVWWaSJi+cUuji+0 69jOg2q/he0d2q/G/HS9ufXlOMUdln2YZb1um0DSAKAbAJv8qH6f0vLsoiYWmCXxWwxpExfZJZd9 wdcu8awmoT7V7qtJjMQOcCguMQepxIqdg8ZQaeTpD03UmsL0PHM9LN183hkQEWcTCdULSdvlGkAd Xs6i5VgNMHJmuyajSwB4TNnrmNw3j5odxuZN13UX2GOO+eXMeHktygIfrQv84OZr+DXbf/OYYI3V yMyluODScu9BxOIOt9u372nKjNn1AAAgAElEQVQCw6tkluuYoFL2OWaoL+Kq4DeX7Cg7qeN85qpu B1Q/WvADZgDVLms9qUsyvO32LfDpc3GGBZbnZ+KB3oInchwwiyIsJC30NWgdHyDbVgBoTl0TJfVw 9MYS4Gm3ySRbPJNBrjZfYCgi+U8AHNiXhAd7AjpCG2OlSAgd4PYR8FJew97lhAoDGRQ5lUNRoFxa QnBVx46GOphI3iONNdrawzHI+WgyhWcA0fl8sem2E7GFGIAoH0j1XCgxhzrJsZAJruoU+T2KAT5W ADBPigOqbPuhwU1Aep8sK8SBi6xt270CayYA+Lwn/32esEDr8raZXZW4txncy7K8yaq6vkmdoH0B dbY3NqorrWW39qrlMQdM5chLDLIFyLSegldH86CCqWsc1d1FDYC5IqSXcpgc27PWsLK2jq+qH6Ti GgMz+1r6/VC2GZHdb3WDXQLbyhU37rBto6uktnS0ZkCW4V+yrCyT2u3sMhFxMN5Ujvc1+2C7zszx rAutMUfTYSH7bOKHTUyxdn9jzuqqSKmWu0xifXMzh5fMZquDjJh83MYBN1+T37CDghHGLu2uOWTq TqfPyRZht1aKpfMZ6tXI06SH9vpOXFj17Wm2FziDSMQE/A5J1Lf7nmV2bmFfd2GxcceylD3PM772 eJMxlu3+K7YoIKLr2qRK9CiT4jhhnv1oImaLlK1LW88QmTmZy94iZZexPNY+YTt4CVTKYtiVGKC6 xLntT3gZYkJwiRcKGLbZczdwKcb2lMOP+jIoNq6z/b7YuLAd8N7q4Jk9agsfAxNgtPft8KEcNrEx RefF1R3HemB7CIXpHAK/Qxd7M+P3c+nLObe+PU7s0QCgrjsHhLNlSLM/ThKeuJo7vJTxBWqRUwVD PbDN8rauMQwo5aQJ6uX2OUyfY+8mbmo+bmuP8muRWV/r1mY2OH9uALLrm9keL6xj3VJXb6PKMdEj 9QiX9edq/SwAWhZoj9OO0sy3TT5itrWuYZv2vFtXOHoT609gl/dlY4PeAiGgYGjNBYmLKhBWx2n3 6VKssKoLLa/NzoKZ6Os1RqEAa/YmTIyYIoP2EW4/gnah6PHNldy4HhSklk1EVT3AUX68loDuqmzH EQgeDOBz+eozdd9fViUubJLjLu1uQPPRmhFQmHF/ZyTuJ3L2c+ytdYuxDHwTV9M3INustyRPv2QK Zm7k2eVz80NaZlg91woG6P5mmKK6vQAqgKra5zRb3Mv+bOwuZ4L11Lnsy/b5KgC2YzQngLeEB+kA DMrsk+qn8vm22ePoEyN0yCCnYDjHCAFU2XR1uYMXQFKmCADoE5j15jPU46d9lCy03SdLrPGKZoVy dT/KyPVcdDZKdxHg9hFuO8BdpBGVKbZHURgfeScxxv0gMUKE8nkpK1wqAM8npYzTGQXpCPIOzIwH 41dzpduZConzqqmLhPf7uxo69Lg3+54AV5Lzz9nhCnGV/RkArMBHf10bQGz7eLMLO+vmXg5+swOO WlcwfWkPtXNZADwIcBO3WABrSSwg77Nxi3Xbg6UyqSYwdihgqG+brdGbOyCZ9dPf5Fgtm5x5EfZ8 Kco6DJKYvEsg1rrfMy5267ZGkCQ0XFGeZl/Az8YL2ZuPtJOSm1il6woAxo4qNkos7NImQVzLENtz XQBH9lLT+IFmf+vaf8Vw7lH3DVvhgwc3X8NFN/Fqbux7yxZdZ+9zcfWSW0wA8PkPfG1Wkanme9iE R5vsSJnkOeADpq7woS9mLn4+AH42azwBUEsyLwG8+rhTBiCP0/Z6bD7MAG2dX/t8G5fLF2wCQAuC 8joPnK9herYgmluXu3K/Fy7slAG2RiG93mjKcmyRtAUgywg15h/axwUE6+OU51tbev1u5OpcANRZ X7PeITsEgvq8lCnV3wdbgkSB4feMbivKON0jA2g3SMZ6EI1EUoY4BvBuD9tDXKnJzCVH2jIZYPoY AHWdyGoB4GEA7wdkwZKVuCH8yHlmqhUDTV0xdOM6wAy+/QjixVb6eFNR8hKDfHBlWKg9HyLQZi3s eEgsufUwZ0qA3puWhSMsKKYk1WEQ/JD/kdu43yz4yd4LwwNq1zavq2zHZfBanLLW9PwenO27YJeB 3aF91RloBcV5dle2Mc835S55X8blredtPDFAMG+jy8xzc2A4WR/1a5173XlQeAVAZpsqPnr3LK79 3ugPna3Z1OPazzgPoB+kO8bvGatbAf2tAf58J+rOKW5IMQGQAoMOOieagGJ54TTLpHInihdVaKxX 4L6rxFOz2jQg4LbbA8NeQK/vs4w+M4sCjYLSbg/ebsH7oR62tGCT6ZTpMSV5L97tc8ZckzvVNu9l 8FuyKmGykCRJ7nBxfdl0crTjKi3IzYmXAqgUXQCAZ/tnpzHBFvyeSLYI5Opq2tISE+trs87VLc3c N66vLZVpjzmrNsMoQcj0fKsw0/4gVMs0cRLrOCEAkxBBjku6wHVXi7aPmxIb7TzJz8WGZed/d+dq HQxT+Br85rbLILmSlkaKhP01h+6+Dpt3rdA/vM9gyKP0DJOLQOeFvaq7OI7yvGGJHKR7JPcca7la 18kyFVN1ifGtV/IW7PZyunr95pewkmtbQ1ydB/u1vJ7k0RER0Pdp6uQ5MOgXqv2VPPAeqxSfE0Uq 8q7Kupc3espo39cmqj1YrBl8zwYtvZdtyd1dsqu6u0uP52KAwJTlWfax1PFR7TdlfPM2rUvsagap RrGNhxWQs+UvGfgyEJYMSgY/u29GfUEvvW0N85ucR3OubUyRHTIYVtePK+uoxRzAtvvgIpKTXNAq jmjAEEhMkcr6l9kkeUX1a2BCLlKfyJvZ12pCMwqIYQWMJ4ThjLC6x2P9rh797QH+fC9gSAETUOG+ cpvFjQ6VSzfbmGBtGIG+A7xfVFHLpgRlpb2YAoK8H0QbcQTQryRD/mhq9FSSz0zFg30tgKkUcbNs kNv130Nrcx0PYtpBIpecihjoF9ObE0X6xcjuYRMDRBs/qVleLWE/zwCvaoeSGnO29Nxc/A+owa3e z9RdawGwLXperBnsIMow3jCt9tqMBlQsADqzzACfbMQVK6x3WB9jXmrf3NrnW5aJGgDn1Kgtiz3U YcL2tyLK9yi44tq6aMip+XFQdzt4Ohg+AJbBca6zp/RvL+zLUXlvIqqQQn7NjrDtgXHTY33msXp3 J6IRe5mtAiAX+9MorM/tBgHBlGGuJPKBEoJyM9eTXuSdABCvOmGStvi7rdYgKg0HzCD0ItIKgFa9 TLG7gksMQAB4GIX9aXxSC84vc3kbIGyB91JAtK71JUXoOUZIbtJKl4ulWel1egyiqfs7U6Zy2XhJ O2u33bZd95Atta8d3OaSIPjSvtvl7KTsI2vlgYWhtJuZi786ngFGLWlhL9/RWemq1hU28ahKL7AK iulOgNn4oF1mN63ianX2tcoMm/23gFe2XwZ/+/qsRQcgGjA05xP7Ani2dEi3AVCxQ/t2HGpfBHBJ HLX+kaR4+f60wFxaDgnjCSN6h7DqpbRmy6XbJYUkFND8bg0aI9wYQbsgoDiUIVSyDUlIygN5aPrk NXmZg90DHBhuPxbXWTUcI4sL3jlZFwAoFXUDoBhB61XpfAEwGRWg9X8pNsnOS6G4mrarpbnIB8Es AeEhALTPVXFFyy7tvucSSrljh4BYA2Enb55DlRjRxAfV4AcYUGvlrNRsomFBlmpJmaW1y4BP2UE7 DzcvZ54Fwul+l4+t7lH0JGUfVjbLmXVnALAFPz23ud7c2W1nwA9ATopMjA48Z9bRfSy5vXoxV7NK ZtjjIcBbsjmGaEGGYvmOUSz1g3l7veMLQAI1SNn6xPYc8zYW1PO6lu4Wpn/INc7Ho/rzpiBxqG1f DuYC4PbIk/hkGWO47pOALqE/jzj5ix26d29BmlDRC7lSSFEA0LBCBDmJw7Fr4uu6jYJaCKBBQDBs OvkdsYmLvk84PRYB2BgSNqQ6SHXTAYAHaDyTvJO4JQDsB4AoAxlzmi/dgNRV9BRnFs7fbx83EzTn jlW5wwAK6CkTNJleeX6BXS3M2sj9vHwY/JbYGNAwy5koZrvMAt+h/cq+l8/BurzZ7Qr1drbjo5pp PgOAWU/Txhitq0szgKzbtgBYMZfymIHMNCamzI7QxOJ0R/W6SyC35OJeFjfMy1s22U3dathtm++N rmuL0YvW4XQgvf0+RnAVpqll1Zr3coHZA7BFkfL9qwAQQO4PpwrgpWWQQCPQbQttHzfiWYTewY0r gAjduy6Sa+xK2RpiSj606O6mPfWj1iIRsFe5nZSc0fhrkDgkbYfajfRezix33Jg4IpFghsYydX1N wIyjMNl2fKqjeSCE7vpq5OhggmbJdJpmjJMkSWKC6YUm8AOQAbAFv/n5uVOAVJmkcuIoPaFXcGWX WJ/awX1oSKUpdJ6NA1l3LgurFtn79vYgWNunjBuqFz0bcJrWDyIDoZXJr/ar+0h/+aXpY1MOQ7Hx f9NtdnHT9tQAnz23WbDj5j07FPZp3yobA6UaJGfBcglszfOTc21c+sxqtVJirjDeoXGHMRvbbWO3 s+2JAKBsn2Q+dP6BS+fhBsBvCeGC4HdmFymjvrvh05D6FdwjexBFQ0oExCZzrXuf5+1ks6INq14A S7fb7UEhwO3L7M3SF03IeopAAb484zsBSoo3UtcJ+4sy3hNab2hN2X0WP5Vzq4ZP6blaa+N7d5tZ 1ppmu30IsK3CAi0W/EyHR9uqtiRltSRDxR2Bzbejnb3R2l0BnTm/Q9YC32VZxHbOxwSsDCu0LHD2 /ObYoN2nuq+GCcp+uc7u6nYKlGnbDHzGxQUUdFNMxYKhZYhz7i2lXSWmqBdtJcNl3/IGYOaGOVXH tKdySfwQuISJwbA/e53YeGE69Nx7v7TfSfnRgXUzULZfQ5KynrBmxDQXhj3n98LtyheAO8hI0gj4 XXKtnWSdY+dAm05mNOto18B1YgWYACLFwraEeSEBoauAjS+2oJ3UEKLv6lhb55G1Em3bbOflucHE oOyAqnE87N5qRnpunTbWNyc80arx3C0rnEmaCBNsM76c1JUjVxmonM3sStLkMhXmVm/Pmo3pHVJr qba55PkWkOxFfJm1s351+/r4OJyRXIgLzj5WRlaxEL1o8tMlE4kCgHpRTRIfBnBUfh/l+iv7M68t gxxS21zywBCbc7MgpusAJW7ePN+eWxUDvUJJS153gSW2P1SaVbdlRrbI2f743I2V7Xi6bGZd9kBc M+ImAivJ2Lg+wvuIce8R0YG3Xs5pTKSE5bzDCugu5LoKpx10aD16n4ANNTgwA57EzYM0J1CMRYTW uSQ4K0AXVx2IGfTIBej0BJW4bDvZr3OF9aniunPAMAoL3O7A+30BxF4YIYVQ1wh6M0tlIeEBXd+5 mrlZm2OBWniut4dsIVtdmKDuswI1V+24Ajkqv0CL83XtuTZxPc202n1NWdfdAV4+tRnguszsOWd1 GEfG9SozPjIQ9qhtju1hhtFY5kbmsQIgleciGeZuQLOtFayeB3JXgwIgYlo9LbPbTN4v3ad2R6Be 37rilBILEwFWywBn3pOD1ryu2Yx7UzOo52W1Gm2IoAojUNouMd7F02iAvI3tzhBcUQNaR/CKgVWE W4VEpOSNdh0jOJXvSjHCHXJsNKzljXOB4LfiOfHag8YEcu0cZOb0GhiEWGT6m/geOo940oM7SZ6Q P4W7vQUNYx5BkNW1kXDAe/C6S8dG1kmkrXSXYD/UeonMcH0PbDbAdls+/hizG2/Pi7yfAtNcvHAJ 3Nrs+d2YyXh3+QXrc3MubuMWVyA3s2wCXlSAI7emtUXBKQs7u31jh8oVLosBHk7ApPm+C/JdDPky OyCPlVSxgHrd5pxs0L9hfrOsxLhkerFO2t+aOJbdlwidUg2ACn5pN8WFnTkBQxEnZS26emIvurmV E8u7uML3ki3A6/5bZrxwmvU5JxBZsSQezNtVWgzlhG1hd/VD0YK2vgYFfQOicFy7+wTwioWhA8A6 YHU6wPuIGAnMlMgKAz0jnEiGmPeURpoyQkdJTYiSe+zgd16AqXMSa4QXtrcriYwqRqjf75hOzFZo BJbjA+Degzd9KbdZ9RJXHKRomzsHXssvSjyVbLN7+A5oDOBhEEB0BIJ4jMoCtWWPiID9XpR0bD2f 19qwdJ5XAby5esCFMqHJB3gFcJzmWu2XZyHjO/d8xYKMMGj1hZ7pkji0/9Yuq9UCkAP/dt3LgE8t rFAJfc7VtQEkcRllP6lU41DSxWYdq4vZAJnG9lolmez+KjBWyYUphROGTYXhRMMKATjjIrexr4kl KrSYJV5aqOA459XMJYTM8WZLfGjhHPWldIy4YfA6or+2Rxgd4u2+xEMZkjBheaAkgD0AzwADbk9m Hcj7puCn7Fzjes3nSCznwKejbBMIfhXR9yF5mU5wZhXg3AA63WG44XHxjhOAOsiAeirthlG6Ty6c Q7f1cCHKfBaGeF2B4ZO7m7tXtJwNCRQ7l2sB3XYEE8lyZsS+FFbTTgqd46oD9w7UiW5AXHl5rLWM dzS7nBIZpyeSbFF3WgFKK028k+FURJItjizM0og5kHeVYO2lSY9HkxRptufUzTIplp6r+TuU9GiL SdVapeBDbW1WQbja5i5iRfP7LdfeVcHP1okdjOElC5ASC2fYYI7HN8H0WQBsA+p6y80tlfXm5obY KzEPW9LsKBmMTIAkg4vMa6ay7azQgqmWrjtGaLLMGjV35tbLx6OF9SwDa3ds3kv2KfbWM9zJiPVm gCPGRRcRgoNzjBgJcevBg2SViNM8YpdefBQVaxohpROc2H37g2MZpX0tHcCrCMQSPomDwwWv4ByD mdD1I65tdlj5AJfe04eIcYdOwb6D26d97UkO3QHhhHAbHtcZ6O4EqXvt5cvj9nWzOTuXB0kl2Mrn FzcafDfzejpCjB4ux/zS+TsC915A0KWc3TZIYibtA96DT9bC/kIEpW6XUmPsBATTfjmLzlKOF5J3 wHotj3f78hFrjaEZT1DNGlFbaLu7kjXF3wkEGyqNGvzamJ/9sk6AbwF4Dim4TDK4M/EzAFURrF0m +5o/h8vigZoEYZdmfxz6sWlKMqrawBSzjnOxwOxCmecaQMyvZwbssqy+2U7ZXRXjy8gwdYOrjoaG bVUXtQW+BQUam5HW42H5YTF1oec+Xwt4lqHmtkB7/LS+Z3BfYm/eC/CxYzgvLz7V94JOGRwJPDqw zmvuE4DsvHF3jSq1fTFUvmtEpoTKMXgVQesg+w3CKOEZvpMNJLwW8ch2DeciPuTmwwjRofMRf/zf /UP68B/4bu5uOfi9nFfsynGHa4SLJ3ts3i0gPZ6k9rmR0d0ZgFAIDDtCOElNYIHh9kESGqo0A4jb 7EjqER2BbzvQfpB4XWBg01UlSP58AA1RlHGysIort0hAlYUhxE3Gqk8jTr24yVoyQ0IXOERpzfMe tNmI0o2+WV0HoAfGUWKWWl6DZgj9XKtcGyecS7KQgx3QPkmM2C6PQwmPOVC7KgBeNpFtyWJH1RCd dv2rgN+0ZS4xQI/DAIjyPAN55u6s5NFd2iyj0ms/fY7agZC5RlrWbkN2WwOUFGkCfrPHtiIMednM +Vl3d5lwT0MAloHb9Sw7Nn3QFRDqsdQ19Qx0DLcK6FdjBsGQgMEmDbsESFgBMa2j3lJEAA8ueQIE GpQdodwm9ptDCxHgTtgkrQJ8FxHkAwJ1Ab4LWK9HOGLshw7j6BFGGRn5F/4aHAG/9fyXEQD80dd+ Iz3jla9iNyZtb0ZJHkZJ9gynDv2dBNoeGE893BBBTibxqYcW1uVLrFEpXSaajNLxFFcO2EfwpgPt h5Lx9QTeSL+zuxjhdqMAYAI59k6yy2PIcUgaQ1LS3qf3XVxz9iKtRczls7bX7ziKvFdXj9HQWeYc 02eszI2yv3U1a7HC1C5S3+WC6SomGNObWR4vs7erDCCas7ut27PHkBDV8r6rWKBiRdMjWomjOvuL 3jCUuf3r++/sBVzmUixtk64N+SztMex94/PmPXFhgNm9VeBrAagBvsISl9+vxaTDHGPNL8jsew5Q LTja/djtLTAmN9PqI0KZJkHcVt2vY6CPICfVp+QYzgvrW6/E3dwOHbb7krbndCDnGM6JqNdu3yFm 1kxwHQNdQBwTUyT50WB9vxklodDV58qOQUwgYvjELIkYzjE6F+FcxMW2x7jvwIFAnnHr9im6vq6z iitGDCmmuy+fu98hu8pA0S+kwAncpFOE04+5HWeq4DeeepkBHQC/jYk1yn4lC+wyyCExSM0UZwDU Mhp5gQKaWqqT6gMxjqVlLrnH7EiAMC1rKQPHKOKufW+YZPriKKO0Bd0LrW/ZPW7xYU64trlWO6Cw v8tm7co6mKxzVdDTcoqrmAW+OdWTxQLl2dpD87wZplPVmc2VYRjXd/LYFeCkaNRM0nN2GwuEUMl6 V0Axe3yBKnDQDC+QXD9CyWhWJzrzHtksqFkv37ZxySXgW/hoW/d+dlsLlAVz6gSD09hcA3h6P63r +oCTsz3uOb3Are0a4+jhEog7F3Fts8O1fo+VD1h1AfvRg5kQosMwesRIprSO4H2U6z46OB9BJAOX wugF9/THZhQXlyPKD5Uz557WZSY4dceZgEjYDR1ilH3yzoNSkfR4NoKI8bE//WL+nS95CX3Ej72M h4eFSTKADpIxdntxa0HyHQo9pbGmjLgmjKfdZIaO36X4YWT47YjYOcTeYTxxYAf4C9neX0R0F7Ie iCS+N/c5Oydua+tmemfqCxkcY3F5hzGFDFy9jdYIKlDa8RzeJTUaV6/rHNgCoc1Im17qCTA24Det SSyPBQRTXO8y5WV5Uwo4Xabn10rSc2IoS5ZZptlty0RIYyaTbZvHCwAITDPAh8QP2vtWXABAwwpT ptgcv13fgiEIE6HHXBNoM5UAeKSSTbbvTwPUsjDdzP1QzL3/M/uVnc6siwVyeYg9AsXFdQD3DN4E YXbB0ELHIG9O0DHIMfrViOunO3zXx/4UvvetD2IfPPoEervQYYgShN+FDt5F3Lu5QIgOu9BhO3YI 0cGl0Zu7fYcQHPrExNgFOMcJFM33Qt9D/SFiAu9cOVfPoHWA6yI4EmJMQgG6PsmyGBzi4DKj7M4d wtBjvI8RmfCMf/sdzMzw1wcE1wHsEQfJVuceaS8AiBUJC0yu+bguM6wpELoto7sT0T+8hbt1IZPv TtYAEcJmJT/U+lYrY3SEeLoq9YW+AS9P5Tv6aDQGHweW4WR2qJGxieT4jB3SaFuypXkhizG9hf3k BMmCS1vUb+wyLMcBlwBA2aN53um+InLIomWCebc2uaLP2xcV6nXzPiDMMR92BgjbZVmLzyU3O12g EiLgKnFjExN5N4bJTd73GYZnkxiVa+wK42PPwCbgaQ+8C7/6ef+EAOBZP/FSDsFhtRrhHGMcS0zP +4jeB6y7Ef/qbZ+D3djh3s0FPvaet2HtRtweN3jn/hS39hvcWG2xD/IBjc5jTG9M7wOcixhD+fDD 6ND1Ad5L7Vxn5hNbhgkg1fgRxpVPYJdcXh9xutljCB7D4KV5w+sXgCtQfcJZFnMwX+DIAGTKHgEi 1Grb9BREvcu/9mSTG50vSjdAVrVRdRyVyJc3WlfiwkAPCbXqtql3mQzQ5+zwIeDLjytmlxhhvDzO pxPb5kpi8jqPQuN6DigtCB5KlMwxwMX75pQzYBlwM6SwgCGQ27jaeONkYNEl10rFOnXdFrEUjFx9 a40JMgq3M/V4BvwqwGtjfnOgp/v1BfxKJjwVDmtiI8X63CpgtRkzAALAm17wInrGq1/+hKQZzAQM DvAM7iOGnuHuOGmby1l2gnMRfDIKyN728Pvyww5IDasLQFgJ49Nrzg2SOIkrgAdheG47grZ7YBAw csMa3XkEd4Tx1JX2Qk9wKwe3l+yvFWwllfkfQgVMAFJICTDxhZQMSXGepC7NyYWlVQ+V32cdE6DZ ZR3tobFFosnxgASWDgC8uN4KahC3WNTMzVfICDRkUwBs4oZViUwLenl/WUllxl22PwQmKWHXLe1m B9jkTKA9P3Wl5El7XjQPfMC0YHcGOHJr2sxpAiUuCJTTjlSWT4DugLUF1LPrXJK0ebzbH3zVtxIA fOEv/w98Pqxwvl9hP3qsuoBNN8K7iIcursER43q/xc3uAm+9uBe3xzVWLuBDz96Fe/oL/OnFPcIA A9BRzNuG6ND7iFUXMAaH3dClBIYwTe8Yjhh9FxBShwcAhFhGynddwDDUbHA/ypdstZJMcIhO8gjB SXwxAaBbq6p0RPQe6ITWUzqu8xG+i9hu07xgn76DXpRm3MBZ2CWsaoDUPuqYkiHhbAU/BsCdIJ6u MJ71GM9cel6TJ8UN6u5EdBcE2kcBP6AkRVTcdUnTT2OCQoOld/hkI0C2Owc4gjmCTk6KPJcyRGey wmlfGYiHViTUAlwCQAOWi6INTfXGnFxX5l+HWB9Qg9piUmJRoXl+/bydxs9m6gDbfagW3xzolfMo t5fJrz+uzYQO2lKSthCbHUqBsK4DHA4HWHdY97fQi5uzvKZ0hbqILpWPjIOUh9x38xy//gXftch9 f/6531+B4dqP2HhhFNvQ56zuH1/ch5Ubcb3b4UNO3oVt7HFfd46/dNcwBpF59y7i1EnccDcm6UwX se6AdT/iYt+j8wGbfoQnRmACMeVOs/3o4Z0kTbxjjMFhTKCnZTgxEvo+5EywWggO484DowOtQi6a 1gy3mnMR1053eMMXfwcBwDNf/XKOfSdAp+GQDuhvCesDEoMDT0SDYy+9x+P1JHPfe+zuW2HcEMYT yfa6QbqdxjWhS3OWw5rg9g60JknGRAbtZyT2l+ruXJLTUqFV7QJZ9ZL17buybWaM6bxT37IAG4MR QWyeD6lNz1pmgbi8RG1pcp+xKjHyRLS5GcAVqzLLKhfPrjP39sy4kUtMdml4kR6nyj5b39qss9Rd wilb3BYw59fdnmdzjped0rgAACAASURBVIthK8e5Nq4Fvgy4+tizrJNq9pxndH3A7335i/PeP/s1 /4Bf/+Ar6c0Lh2tNwfC//fW/w/vY4XxcoeOIjgRwrndbnPgBF6HHA/278Qe7p+DP9zexM3EVjfOF GNGlJIpPy7roqu4NAAgpm5zfGy2vad6jGDzCXj4U7gM4CjgSSYJFY4pI7YvkSnyQHKS2jxUzOAMg ALzlq76VPvz7vpvd3metweiBsCG4QWT69TOkVL+sP/bsgf01BwqSNY4rh92NMtKWAkytIcHvYv6+ hbWTOdFjhNslFqYuq2aHWw1D6xb3VGJ6qXSGTk8K6OmLV0tucG71Q5DkjJHtAiAAmIc21cA35/4u mqNF0dZJJO4QA7zK80vrzdmsiMKCaX/uXLa33VbljKp9X+YK25iasiBgFjgWux7M/myh7WwG98C5 LcUjl0CulGxM12XzGnIHSG474en61Q8El2W6riY3CML4nDA+10ecne5wfbOr4n1qr3/wlY/ql/aH nvOj9LW/8VU8RA9HjI4i7lud46vv+z/xK3c+Em8aPwi/e/EAbnYXuD1uqm07ChjZ46wXNOl9wJjA bx88AjuM0RWAAhAiISYg3I8+4YBkjkNwGAcv2d6dBw0Edh4jsXStrANiH9B1AoRuHRC3HZgJRJJF JleAkhno+8btA/BHX/eN9MxXvIopCjNzQWLmcQW4c6kVzAyQZN4NxRIf3F+X8/f7KNuSzMfpdozu PORyGhoj2sFNfhckPjg2X1YrhsqlLlZuTejLc2GLFgCrD8ZDe511zgm1IOYdeFDgTcxvqRwGKPHJ Zj86bnMyJ9meDnB3wHf5mMvm/iTl2KzfgNBVrB7k1Nz6+jGACauq9jUX+1tiTGbZrDYel+fmzmMJ BHPMdI7x2X3YZdk9BWJXZvhmENfTsczNHpDq/WoyI2dy7fHUjfYMkJStuD7i9HQHT5JdtWzmvW33 9ncAALvYYe1G3L+6hZtuh23ssUrDOh4eTwAAazcKYuhnEoCVL27dygGn3YC997gzrjCENV7/4Cvp U37+m/naeocxOtwJHvt9hzB6OB/hnEMIAo5h50F3Ovg7Dpt3EJ766zv8+V9bY39vRLiZgCHKnGHy XFrzNDOfxBXuvXYHty42+O3UNdLaeDPAhRQ72wPysghhJSDoxgSEjKxoJGxQymi6iwi/k9c9nHm4 Ucpn/FaWifCqFF1rgTKnQfF5PomyuqxQ40pB8kIMTkFRa3Eraa4UN2Tva9AzOqbZkmL1VQbBVzaT Ic4AeBUmuBT3mx91OR/DmwhdNutcZXLXnM0Bnx7vkJs7WX8OXJaY19y+LEi13wMDZhXmXFa+o/tr z9UAWrV+Bq96zGYZyGS3L+5TBeTKDLM7C2AVsb62w+9/xYvfZ4D2aOwZ64fw8mf/Sj6n/Z89kz2d 4j92j2DHHdZJFeLhcILrHSqXWO32sMGZB866HU78gMiEgT2+71NETeT/+cLvpC/4j1/HnYsYgsMe 0kMrSY4EgNsO2DvQjnDjLcD9P/lGYBzx9N9cITzjfvzBl17DeM1hXEe4k8LwcrdJ6l0ePOPObnXw NdNJwHjq4C8A/dCoL96QFk07EGJusWP056mjJLE8t4tYpWuQxgjuXBFf0GMFLTMRma6qQyT77XpB U7k1Iql5WQbIGZBM+oRSSCvir+y7UqOoqtOOQHBA38llNo5SLO0KG7zUWskutRmQrAUUsAx+c6C3 NKd1AlJzbtwBW3Kxl9heC36L7qRdd4YR2n1Mnmt6au1HUdX5aacGlRVt4XRlLSAbl5UrsJrZhsw5 WDbteJq0SHWCtl5PtpMkhlsFdKuAN73gRY8p8FP7ex/9K9V5rT74Lenxm96rx3nW9Yfw8HCCk27A W/kmbj9yIt0ekUSBZnCgQKBAuOfNQwaA+O6Hgf/7nXjmGzq469fw9i/5KLzjr0nhNw8KHun+6DCi wyPYgFzER/27l7CNnQLAx/z7F/NuFxBOPCimkpaRSphHXUQgj/MEhCECSD3Ch19rxQLbsZQKenYm CWBGcDbAZ7dxabthFJmuEKSVbrMS4MuiryyucFLCBiA9yID0QvdexBNWvdQJ6sS7OFaxvawy4xpx BXtuGndcaLkTd9j8cMYFxpXjYHwY9HQfuZ/2PbisDiU1DsX4qvge6vUOut2T+CDXoNO6quIdmuZw +cfle29ObFqyo7MoYupvzpL5CojWHdXjKlB2KRkxOOlzNTE7BbfcfUFy/w+/5lvoI37sZex8zHGp /++/fOljEvjeH6asEJDs9Jv2PXYXPXh0k1+9t336Ck9/Q1FHeW34cUIAsAXwL4H/7OY/5fNnBPmM gy+MvItAJITRwXcAu4Bn/cRLedx7+C4iRoftBbBaj4inI3CeMr3mex+bqofMClOsL3apRTAJMDCU KSLJ7xswAsQVnjRL0PTS1UwuswCdZYpEYO8Rr61AQ4BjBm13AlIhiAhs36Ea7+sgzwXObXFZwt9J 50ou2Vn1QHCiHZAUrkvxtcdkNrJ5bQAKcM4NZgeA5/ydV3I7S3fO7mbymq43GaW4ZIfcvnR/1n2d YX22E+RKscYKONt4WAN+Jt5G5naycMa03zb2LCrEJ0GyqToUiRhvfuG3HUHpMWTP/tlv5UfONwj7 pEcYCDTIX3dOeOBXR5z+xh+B71zgl279cPXZffLffxW/8xMieB0lU+wlgYLRgfoIvwro+oAYCePe g7zULYIJX/fs/x0/+Dufjf0fXoO/ILiB0G2B9TsY/R3OwAcgzTEuXzoK4vr6IYooigPgCG4fs7xW WZcrYKjAEahBI4ElDaHUEKqtV4inK4S1KGF377ojBdtmbgj3nShY2xrikAA1JNapwqwxAmMQENRa RWYpwI4ijKpASF0HnXucz7kFP2WKRnLrl85/hIDEBIPtpV2sATTvSwt+BwDnyp0gS24ravBb6oQ4 GN87BOxz4KfAR/U6k/03t/nBzLbsWTo11hHd9QFvScXBR3ts22/+7ZcTAHzSf/hmvnX7FOPOJ3eN sN8Af/yFDvxFTwcI+PDw3ezPHd7yTd9AAHDtrSPe8WkAbQJ45wUI0x/DgVcBYSzZ6TgmpkPAm7dP wfaRNfxoviYR1cxqAGX8gspaKdNjIHaiiONGcVncEJNHRxUQWldYs7XFRSbJFIeUFBtNnM1MfIun KwzXV6nGMIDXItdf3N8okv5Jsp+GkIHOskmp66sLocvrN+66hgMW5Pgt+OX3StW352OCZcEcCNYz ReaeT0/Nycw7wE5LO2RLSYGDNXzNOR2ShWrXqURDG/CbCAq0gDgnbWOPkdio7Zl11wd81Ae/Ha/5 m997BMDHmf2nL/rO6jN7xqtfznF0cCljDgAcCeOpXACf+l+/iv/kkxjubCc6h44Rtx2oY7CT+jxO kvocCRwceC+CrzQSfu6XPw3dTpTAXaCq1pSTqwsgiZnW58oExHWaPKcqNMoUdYqkqillQWU/cZHz /tJ8E1uGwt2qBk8zhyhsxO11iTFSYHC/AntC7D0oRLgY4XZGkbo1dbWzkkVSqrF2yA1W0za+1NdM WtBtzAgolIVLTE9epLnfrFYB4IFkxZzNtq6lLOtsGcvcOV0CLVlMQK1lbAp+h5ImVv9Oz4PNtlZq SS8QB5w96Q4+/ql/jp/8rH95BMAngGmb32f+4jfxnX2PIXipI/QRH/ZDr+B3PMKIJ9KOxyw6gpox Jk7AxyTSasGlpIkAoNs5uBHVvBgtfwqr0jkCCAMkrmN8Ey2A1sUFFkM2lfxU7yvAKDV/IpiqIzLc oIgsx46esiyfA8C9bFup0wCpbCVWQJclsmz2ea4cRzUQtRbKthFSAfac1XYAfF+OMZk218b4ZpIN 1WMLAAssb9IJsbCvg88TRK5+KT6Hmfv2/PI+ebruHOsjTAHPntcENOvESU5a6PE8w20CnnLfbTzr nr/Eqz/zh44A+AQzWxj+iT/3LXxH5684AEyIew9KfcHwIp/FkSrJMGYI0FVF7JKF1rEImpCMfUqw DVyOAxni3hb6U1QSQWlmSurN1TNmcUszOJkaQe4c8txxNZ314QrIUpRJd26McHsRbKUEwuwJsR3F qKbxRXTT/uTYAJ/2FZNMxq7YHcdqXc0U53VUNME5YZKjdsOU15WKpafgNwE+fS0t6B1gea16ymUA ONu10LJA6xbPsWgb29P3pgUvTfZNlpsvZsMI67gg16BnXWTPoNQ+dv1siydfO8czr/8lfug5P3oE wCe4veGLv4M+/X/7h/z2fYeYYnk8iKCCS5JdBMiP++CgeomUvuPcR8BRmpYpc0TcTgR7tRskrAE+ TyIKkXJZTDZOJTJN7JBdAaeKGZoMLIB6giSQY2rsqFKdpyoRIyo0PsURY+8QTrpJAqQ8TiUv6x4c Y7nMsjpMivdFA4zN+YhbS2DVSIxlnGgGQOeL+6v7zi+0YYJXAr98EtP1DoGgbRub7cxo97EEhIfY XWuWqaIGNE7LLVjOxREXmV5TrmIVkLXe7nSzx1Ov38YDp7fwCdf+FN/4cb90BMAPEPu1z38FAcBH /PhLeXhkBdp58EAITgavg2TkJ6eBTNSHFDIpP6yIhLhiuJEAHcyeyqjCGhjOpB3NDYzNuwCHNPFw 1PIXORdqCoujd3BpjgiAUtmQkhJxVcQMKKTZJWY6XVi5fAxdRnsuZSxDAPdISuuc2eAk44wEqk4u TFLJLqB2jdWchARAVM4XyAkQjjG5x7EAoAXP1OqHcZTC61izxxITvAz85ta5Ass7JERwkPFNnk9v /AE3eAlULetr5/u2bnWlluIM6LXn4uSW+gjfR2xO9rh5ssWTT85x7/oOfuQzfvgIfB/A9uavfBE9 6ydeyvtxA3fhwNwjrANoFcF7l2fFRJbSGPuDyl4Yo46AbZsD9jeFFeqgrc27AK9Ak11h49V0lJlb BkLj9sYMdKmsZBQwsW7vuPGIawLvGC4w/DCCySWC4dJ5dgJ+CnAZZdM5VXHLdKyQXOgBVZcKKSO0 GWFNxNgWuCTPxZErF1fca0gtITOwH2QQ1MzMkStLmc4B3mVsbfKcJhHSsivtw4Kf/jVv7hzDzMCn jz1PgM+2n1nXuJwL190VTlxd8hG+D9hsBpyt97i53uKB01tH4DtaZW96wYvoI378pTzEDbpHvIw0 BuAekdYxXjMwQmYWO5NdY1mRO0bYANhrrAzSQ9wD4xnD7WQk5+o2p7EOBG97dYHcKhdP5LEbGKHz 4moHGXzEadpblcxIr0GXx7UkPOIpwe8YQDedRWT2Ez2h24Z8rVagbM5NXWlbfE2xAb+qf9mX5WrO SXeOqh5prFCTLGngul3fAqEkRizAHWCAi10banMxOuuKtkBjl+d9zDC+QyzVgqFZNumbtec8cWkX 3Fw9thfgcx1jc7LH6XqP6+sdbq4u8MEnt/CDn/ZvjuB3tFl781e+iJ756pdziGu4LSGyR3+LcPZW 4F2fIN9PuuOloLoJ8cSVdBRxB7gd0O1FYJUd0J2Lwkx3x2xAqdW1QxFYWHuEFWF/TS6A1SMRfmDQ CPi9MER1dbW903nKM0iAkjPQSo2wpswa2Xt4M6CNvSRpaJS4YVzVF2+rKiOAhzoO2Pb82il3rTnD nLSbJANglKyxAqAFv74HLuTupE5QTvTw/UW3dcZVnbid7XKgAN9ckmRpezRGU4CbAnDj2hr32ErA 62NVS+n7gOun2wx8P/PZP3gEvaNd2d7yVd9KH/6j38nxVg8aCP6CcP1PBrzzU+Rr5HcE7D3iOnWX 9CKFj9SZQiPgBgG92EmSpHsY6M9ZptKlhGf0gEsXyLAiaZ8bOdXnSWaZokMIDL+TUaEwwBVWTgR4 fHo+FE/IDUJPYyf7VWB0YIwJEBUEAcAjIvblgubUJqf3KbO00jv8/rJaReYSpnfwceLQFSBaMG9A b7ELgwpWVfvimXhgZnkzSQ4bY7Tgl8G1xPUy20vaeL4TV3fTj7i+3uGpJ7fx45/1r47Ad7RHbR92 /zvxx/FJ4PMOw03G2z+tB3jMcT2tCeRI0hfuIzD6XOaiQ9gvE0Z43JpVkDHMMN9ahWh7vy2nUVO3 mWPJKEdMCqWBxh2+a/BrS0jUtZxJaOR11JbKT3T/LeOzMcG83gHwWwI+3YcWMiehgW415hjfjdUO N9cX+Km//i+OwHe0x5TFFeC3wsxUR5A9EJOrqOPN8xhdp7FAAJB2OnaiSwhIUba60THJ0oW1JGS6 NKNYFKdlv85J7C9s6FLtAAClk8RTFXekUZIrcn3SFMjmlin4RQOQKdGREyCOUnFxWt/WKWZ2FTGp E5Q3a+FFzAHgbCxvhnlhZr12f9bNXYjvzTJKW9PnZo6dwK8CPqOuQj7mcpaz9R431lv84t/450fQ O9r7xF7/4Cvps1/zD/iP//w+DK7DeJ1yNwgAiQ0GiFp1D/miO0bccNICJKAHQAy3T4DiGTFSlqvr dolJBXFNFSDDKqkrh3StEABPKZmSYoek7mw6H4a0eo4QtWkdwuQI42kPwAHrtE+NJQYu0yF2TUxx 5bK7TIFzNrsqn1kalnRAxLUcJMURKdXlKcjZtjpTpzgpkVlMdOSTSM/PQUQLiHOJDbPuNPtr9j93 TFcCsmU/5hhthjdty24G/PqIfj3i5rUL3Nxsce/6zpHtHe2vzF7/4Cvpea/7ev6Dtz0ZcSTwRQe3 dUAUQKOYtCgjAaOAIK8jEB3imiWznLPDSCM4U6xPwSijEDA0UyT9nmUiYpBthTwURmcFisOK4MaU CY6AS3L7HCWrHMgJaDNLeQvk2OQLe9QsMXtC0GN0gF6oOQtsWuPa2sZFAGyWUeeRWZ/rhR3GiIoJ trNKkk2yw5PH1tVsAa8FtUMAeLSjHQ2ve9730Gf+4jfxQw9fw36v5R4pC+zFxaWdy54VJUGF2LGw QUh5TDgBAILfGuCCMLmwFrdZTeKNAEhAze8BcGGLLvB0RjeLiyzZ6VJInd3rILNN3MC53AaQOkSe yRarRU/wIz86BmgBMrf6MaqZxZp9DgRSdem8vQAuB0D+iT2Kked3aXOxvzbBAdR1faiB2GZ2Jz28 lvG1j7sIOMD1AeuTAfdeu4N7Nxf4hc/5viNMH+39Zr/6ef8ktdd5xIHgOIFex9JJkuoEKTjxgowm KzspnQErW0MWVFAmF/sEZKnFlZOXCCfrqmsMIAk1MOJpKcxmByC50bsbHrET8KQx5tIZGhldUoL2 2zG7cc4zsJe4IVYuM0AahQW6pGxTdYkYy+o2rdxXapOrymU0BigL6h219YUA8uS8xuZjgm0MrgWk ubIT+zwwZY3tebYu8Ewhtdxvav2sq6vrWgBMc2915u21sy1unkgx8zHDe7THiv3a57+CPuk/fDO/ c7wuHWHaa7xO6eAopTEMJHcZCEoEEiuMKyCMyO2pAIAIdNsSJw8bAR+GkB86SeyNxD2WgUuAH1Js MMrlFDvkOcbDqYcfgNXtiO5OKO4uUWaA2mZHQeYhcyw1gqSaBQlw/T6KzJZKfcUa2CYT6iyQLQxL qgBvTouwWnfJHZ6L+7kpqFXrtCor+UQvOQcFrhZsycT/XMP8dJ0sGT+T9EjCBZuTPe49u8CTT87x c8/9gSPwHe0xaf/pi76TPv5nvo1vuxPwReIjSX4fBOkkiSnel378KZZkSlzLwHjeFzboRhTprVVz /Xhxk8fTlDzpJTbokzS/3wv7C73MOVZzo7rqBECUo1WkIZDMK/Y7mRvstyNoP2bxVDV1f/1eJt5l UdUlqay84czla0VYrcT/Iata8BxK8FSZoAWZObA70NkBGACcA9J22Qx7tfNwFQAn8lZWp0/BL/X3 Uh/hVgGnpzs86ezOkfUd7XFjv/X8l9FzfuEf8UPvvI6495IQ0WH2APKc5zSyExDW6AYCAwhrYQ3q 3spITkhbngFA3TZ2wg4FNAnDCfL0OvaEsBYAjAlAlcVp1tlKaFEo++/vOPgtA55Avc/LbezP70Wq y+3TXJGcGVeQ4Oq+ZYSta5zd5WrCHVJvcdrO1hsCxR22ZTRQJjjH9tQ9nc3o8hT4dP1m3aUSmOq5 fJI8Wd/G+PKktOTyWtZ3z+YCTz9757GF7WiPO/v1L/gueu5rv4H/9B03EYYy3Y52Hlmf0pZIJI+J AjKQ6PUosvrFPSYzBkTjffnaZWGGbLLDcSUjPNXFtpqgsq7GE825RICdg+8Z7Dp0aQYABS7D6FT2 f4zAmBigQy3r1YKhAbDJDOM5uwqjTDOPecIEZ5jevCpME/+zvzQKVNWBy+2s9NUBllhJWemvoZa5 nAy4ee0C953cwYeevRv/y6f/6yPwHe1xbb/8ua+i5772G/jP3nkTYfQIe7mYKJXPoI/iKQ3CYjjJ S7mURNFuEhoL0GUFGr30GHkcrM7+iSg1hC5tC40xGhAEUimOB1yrYQhxo8FAt6WcdQaQB0DpsHcd CM/OgUIQdoZU12djeTMu7mIJn7U2o9y6yYk52qWzTLBNeCyyuRb45tzgOVVnYN5lrtrwBADZS6yP 1gFn17e49/QC95/dOtb3He0JZ7/8ua+i573u6/mPHroXgZIi8pBkqXqAHOceXHYMsoyIUlbYZH65 KyIMNEj/MVCyx7Ezl3kP8D5t5/IuJ9oBfl+fs3WJpbWP4PYkyZ5UZkNBpMFoLHE5SrNF2KPMN+lS SUuIdbwvH8wwxXxOxi3W5zLrW4gngkqJDRaY4IS10ULigxqA5HY9rtafLZGBjSka1zeBnz8dcXa2 xdNuPnzs6DjaE95e97zvkc6S7ZPyNeW2DtFxCTkBEgccIXWEUZkfI66EDVIUn5k9EDYM52QWSd6c SUJno2F7lGKFCqiSB8mmQg0q8poBkGvGqJYFFBxESLZLs4SJwXCVcEIlvupdAUI52ZrhHcoiLyRI Fl1otEwQBgDnXGPDBBdr/mhme8sgbaB2zu11Qv1pFXHPPee4//pt/OLf+Of0W4sv4WhHe2LZ6x98 JX3sT7+Yz4dTAE68xdHlkBCvA3gg8Cjy8kVJmiBzQRKJUIsJIPuSQAEnuXsVaNDh7NHUHRpCY0FO AdDWGgLIs5DZ12AUe0rjiByo9+DIIJey4EZFJgMrc2Fql5W74DDAycnPPG+WOdkJ57+67g5Z1ttm amuxAs7p+yqJYde155BiGCXRwYAHuGfwKoLORpzcs8VHPO0hfNYDf3hkf0f7gLTf+ZKX0Mm9F+BN APfWJZRMMZskYnZfI0CjAToqCY68XkNOuEcWTsiHiAYQx1RQncBRhRssALKXImiV7Qobl4AYRhWb EHuS2kFHMoPYkUh52fGeCqDK/Lo0MY7McqB+3P45V9/Xv84DfSe3BgQ7fV/n3N2ckJqJ+02kseaC lpb12W0dcnkLdxHoGX4z4ux0hwdu3MJr/ub30hsBvG5ml0c72geKvfHLvl0Y4btOwBqzGl0CunoW MYBynaXkRvQAKNUWmgQzpYRLFlXxkNGfTmX7S+KEItKgJ8732yFOQNpW9QuXaAtJ0oQ6YYDoHDDG 5FEn93hu9rEmT+ZKauxjNWWRREnt2pXKlwhQCFW3St07vOACWzY3SZo4tE0jk5jfJPHhWH7d+oj+ bI/7btzBB509gp9/7vcf3d6jHc3Y73zJS+ijf+rb+eLWppTDRAdnRntmpudZOj1WXK7LqPp8033b EhsgCbaO5ToVYEvlubt5F9iazB2X2F7sahBwBqFjBFzbvuZJgBAxjyAFIHFMIpACWVsGE2KV5AAg wOc94qYT1plmpYicP8NtUdUv1sXSDRus3N4Z8Jvcn0uOWCNlfwx3bcB995zjgeu38PPP/f6jy3u0 oy3YG7/s2+njfubb+M75JinHE3iHElLS0FMHxH4BAJsaXkpAo9ne2CFng5Vh2ppCzTp3O57oCPo9 SwLH4JqCoJbIKEssG0mxt7JBADUj9ABSax6AfKsZXwpcYoe6TnKl2TnETQdepZknaUA9dNxoM5x+ 2jtM0x+NCgDn4nwtg2y1r2zio4/Y3LvFR37QQ0fwO9rRrmi//fyX0bN/9lv51u2TTDRU6ICRHncJ AK2rrJdtAj1VsgYKg+wugPGkxPDYzTM9v4MIKXSpLjCZxA1rN1hBJit7jTWBinBwkFkg3LkimkAM 1iy0bq2iDcwyMwSATp1jnT/sXBklaqbkMRkhhjyRr1axkcSISX7Y2F9+o23pylKcT5/T5IgRM9Bi Z15FnD7pDj75g996BMCjHe0u7Tf/9stpvRnk+upYrqkU/wMAaZ+jKplBKRYoqjRUXFoj2+8GRv8I 52uanQ53twkRSX705xH9eVGTERmuggt21jA1BdPW2CXZreSuxs6M+OxcnTDxCeg6AT0mEnd31YE3 HcLpCvGkk/2sfDVA3u0D3BDhdgFujHD7cTIHWUDQ/JUWNcAOha6ywumNV5Va1rYeW17jdD+cKt4Z 1558jo976tuOfb1HO9qjtDd+2bfT6sYO3EWJ/fVS+0dR3FGRxqr/CmHhnK1VYNRyGM0E5868BIB+ hwRo8+eTC7MbF9ONnP9asyAVV160Cn0BwwyIvZMssv3bCPDF0x7hTP7U7c3D4+/SXHXPtNssmoUv LXHRXyP7qwQtgQHQMVY3dvjIJz107PQ42tHeQ3vTC15E/c0d+CSK/H6XvK82AZKYizBAkiwxUOkB PFEHN1FkuF2A345w2wFuO8JtR9CQMsOtvP6iPqBlf+lxK2qQlxvL4AcAXro+Pvi+h4+jKo92tMeg xZ4kJtjUCroBadA6snc4njgMp8nlTYXZLUts3U1ruj53rhqaFOEADxkI70nEZVvTOKOfsjSHUl6T hRr08RAknqh/IVYgKO7wQva36gox7q0tnp4qw+jzDHRRen7PRNT0aEc72nvH3vyVL6KTey+AszEP Y6raWU3XiK3vq8pi0vqxR1aOycaFJdrtxxPK0+iip3o4k26qsvqNi9yWzcj0OQfuHOLK5Thh9BIT VFc5bNJf7zCetdjnFAAAC4ZJREFUdIgrl/8WPdck7ur2I2gYAf0bRceQxoLcsnlya3XaPXco7rHK 7/gU27NV5wbwmbjM8lXRgz5ifTLg+maHj772F0uf59GOdrRHYW/8sm+n9dkevI4Imyhg5IoqtB09 m1VhAooMF2QeiVo9tbFZnjLHVXmMuRs7+RvXMrpTR3gC03ihBc3qflfALfQJFFcuA+V45hHWCYR9 2ca69BQZtAtpAFTIoCcZYQE/UjBM5qoX32R6c8LDz7C/qoC6lMBkeXvP8H3E9dMtPuj0Nl767J89 usJHO9p72X7vy19M/bU9+CQinEaEFSOuGbHniZeW2+FS5pgTY4wqAk3GGcwYgFw0HXrKIBmTCo0C Y/SUn5dlCQjTH2fWKdldu2zKJIG4TuDnk8T/mUNYuwpMAYjbC4CGCDdGAcAQQBd7YD8U1Rp1gWc0 Bw+lQI52tKM9DuzNL/w22tyzBZ8ExJMoiRIUkNNSGi2iLiUvZR9k3F8AuYWuFSfQGcd5qJPpEc6A 6UlmHSsYemGD6g7r9LmWHdpeY0DAb9wI+Nm6xHzOY4QfoiQ/Lka4O3u4OzvQtoDfpfL9UBBUxG/L XbTAWQUWPGe3N//l7DDnP/IM10dsTva4udniY64fXeGjHe19ab/35S+m6086BzYhK0GpZmDsIIXU Ws9HqRg61w8Cbl8XV6u1QJiByrC42BcwBGowrEQUvJlxnMJuli3O/YVVcau19tDvGP5CZ5VEAcDd UMDPJkGuYKlYugBYpRjjG2UZdXmrP1Mmk/ZDXUTXj7hxssUDpw/jFZ/074+u8NGO9j62337+y+j0 xhbopWwm//maacVOYoG5JS6RIBqTHBajkuVXs8PZq5Y6xQYuscg87a7XjK6sK2It0pWhxdH2L6xd +UvszwWgvyNF2v3tgO6RAX47wu8C/J0Bbj9OJbcOaAu2lplgTngo+HmeLK8P0oCmMsAuwncBJ+sB 11c7fML1P73SiRztaEd7z+13v/QlEiPsuWgKqqfn2TCwkvCIvUmGNnNF2Fz/YZ1ieQ7IvcgZMyzj K9sDhRHaOGFuqzOsLydVvHSs6H7684DuIqK7GDP4uSEK64uXgJ/2FTtaBMaUGCmubZUBrmoEDbVs 5/4mACQf4Txjsxlwz+kFnnX9L/GPPu4XjyzwaEf7K7Q3v/DbyN9IQNiwtajxwTam5wpbAwCdM6Ij PCvXduGKnmSXqSy3QAgU8ANK3BCowZQSA6QA+J24vtXUOaDIbVnNQWAW8LJb3ywviRHL+qxp82EC u5b96aBz6iJ8F3GSxl4+68ZfHie/He1o7yf7lA/7E9DZmJMkBOQ+Y/XyqvIUw+gAZEaY3WJ1mY1g K1C7vgAmHSiWFSoQhlVhe8r42qSI3wsA+p0MaNI+49g5xD5liZ3ccp/6hVWA1SjLyEk14NhYcYcv c3crEOQaAD3DdwHrzYD7Ti/w9OvvxHNu/MH8p3O0ox3tfW4/9df/BX3k094O3kSR1wJK2YsvQJiv e2eeMwCn69gxnip6oKZyVbK8bJvvVwmT1CPcU75v/wAk5hdlwHtkGdAE1CoxKrbgakAsitIz7m86 x/x8eemYB0ALft4AYkqAUB/hOnF/uz5gsxnwpLM7+JBr78Zn3nwz/vuP+eUjCzza0d6P9trn/TO6 /0PeKWUz6hob5pZjhAkAs9J01f9fGCTQsMcGDO027X11uUNf/qKv7wPImoXVMWyniQHCbCqppcxQ 5fUX3N8WHOs6Qev65l+I4gqTZ5CT5Aelx10/4uxEXOBn3HgHvuBJ/+8RAI92tMeI/drnv4Ju3H8b 4SxKzB8oiRItf+s4d4cBdfi/FVadW5ZB0hVwmgPSSZa6L8d0ASJ6sKBWA5ieYcsIE7vNUlvep/NQ /3whRjgLgvrKtezFuMPkOIGexP7IAc4xui7gdLPHk87u4KNuvh0/8hk/TH/3o/6vIwAe7WiPIfut 57+Mrt9/G+FUCqkZKIxQi5+bv/y8Zo1RGKPtIqk6zQwQqmu81NvbxhEpMvxeJLjmBBg4J1FcUZtO vcd6H4AApErxN26vHMy4xMmSO8y126sub8r4yh+DnACicxH9asSNsy2edHYHH3vzbfih5/zoEfyO drTHqP32819Gp089RzzhCgiRbivlJxs7dKbg2qPSFZiT36tc5ypuOE2iAOL+umZ4k9YMSimNYZfd FGLmgDDHCDs3zwCpduNd/m86P8iLu6sucGaDJAC4Wo+4eXaB+6/dxifd+1b8wKe++giARzvaY9x+ 90tfQv2TL4rqDAqzk+l0TWG1KaWx9YCxZY9XAULd3iZAbE2iqSO0pkCYO03U5W56iCsgJJM0ca4k SRZMtsyiB7EGPccCnI4lLOgjVquA6ydbPOX0HM+++af4p5/8k0cAPNrRHif2phe8iFYfdEeSJaYY OruypsPEiihY4ENyky34xW4BCE2cEMBEraAVTwAKEFZiCc1+VG5LjjUPQQKESHHCpkymdYcV7EAA kYBfxf6IEwCOuHl6gaecnuPnn/v99I8/8aePAHi0oz3O7Pe/4sW0fuodSZYk1zgzOg+EFU8YoE2m FFGEApZ1sqVhh664uIjT84nJ5W2LqZnqomq1KsZoRRg6YX1ym1Y6FB9MlmOC5CMoxQYl2yzgRy4W ADzZ4oGz44jMox3t8W6/9+UvppP7H8nJEgAAJ4Bbceks0aSHAbkqEQKzbAEEM5M0brL0EKOALEMS HoltUhQsciEVdlPKBCuYJtcapnaxurW1g8A0W2xMmGBOeiCxQE6AyHCOsV6NuPf0Ah95z0P46f/8 fz4C4NGO9gSw3/3Sl9DZ/SZZ4gHuTb+xBzipTlciq9QAIApYWiBsXeRsrsT4lFFquUxpr6MEykm9 umvcYz2Xrri2LRDKsdw8G5y4w/qYUuwvucR9H3D9dIcHbtzC//G3vpt+5DN++AiARzvaE8h+50te Qvd86LsRrkWEjcwOppDk83tGWDU6AY17DBjGZ2KGjyfLw9ezDLeJ/52t93jatYeP7O9oRzva3ZkD EAtQUiPvJx5wGYxuEyQRBAeW26ZmkJ1sEztKs5VNS51Zt7TgMdiT7NEBFIKwvsm0uZT8aN3f1z/4 yiP4He1oT3B7wxd/B33q//o/8UN/dg94ECpHjgBi+B3VHWQWkwwbJAN4GqcjSiUwOc5X38LLShGc 1yMkt/gKQJgfdwQaWXicurU6yY5ZwJgI5ACGB8VaLLEDavf32maHX/+C7zqC39GO9gFkv/Ff/GN6 3uu+nt/81qeAYw+ODLenlLBASWgszCmeBcO0XOsB2eUcSLUvifXxhC1aIARSSA+oOkosILbgmJcB whJdoqfeVSKsDpD6v9PNHvecXhwB8GhH+wC11z3ve+jjn/5noHv24BQLlIQEI3a1DmEZ01v/tSUz s5JbptMk6rwRR5VE/5xJAqWoUOd6wlZkYWl7FVnQAupkHQCcrAc8+do5Xve87zkC4NGO9gFsWv72 iT/3LXzr9ini29YgEFyACC8zQJHE9VT3VlWmAWGOTm5JH3ugnV0C3UQZonGbFUTJJFo41+qkge9Z nt/ur2GB3smUOWASM8x1hHjc5XGOdrSj/VXYG774O+jG9TsIN4KM8DTzyHX2kM45ZkudGhrF7eOZ rpLCEot6da4t9JTvA8gMMHZUldroc/PSXmYdIlGcaUtknnbz4SMLPNrRjlbZG774O2h9c4t4TYCQ UdxdYWxcFKlb9JipK5yU1LhHB4RqFgirgU2dBUbD8zyBluYO/8LnfN8RAI92tKNN7Pe/4sW0urHL zI9hgEuBMMX+MhCa+KCNEba1hXqrkl2l3rAMcZ/TMwRKf/EsEFJRllGrOkkSG1Q7usNHO9rRDtqb XvAionv3WXw1A15uozNdJguM0ALkHCMEDBAa+Sy1aEZ3VokRs9qUEWr/MFXlMwKyR+g72tGOdjQA wP8PXua/D8OLOwoAAAAASUVORK5CYII= &quot;,\n",
       "                [[-12.200389068050452, 131.87319071595257], [-12.22075849597588, 131.9020266365728]],\n",
       "                {}\n",
       "            );\n",
       "        \n",
       "    \n",
       "            image_overlay_c9e76b0087aba10d9d2224ca779821f4.addTo(map_1c8ea9a2a3bde24116c9134f1a24d221);\n",
       "        \n",
       "    \n",
       "            map_1c8ea9a2a3bde24116c9134f1a24d221.fitBounds(\n",
       "                [[-12.200471967050953, 131.87329148546334], [-12.22066893753952, 131.90186462819685]],\n",
       "                {}\n",
       "            );\n",
       "        \n",
       "    \n",
       "            var layer_control_b0238aae45481584c615c27dd1d0d01a_layers = {\n",
       "                base_layers : {\n",
       "                    &quot;openstreetmap&quot; : tile_layer_77c94db52bd50a6d5f4138566d7425c2,\n",
       "                },\n",
       "                overlays :  {\n",
       "                    &quot;elevation&quot; : image_overlay_c9e76b0087aba10d9d2224ca779821f4,\n",
       "                },\n",
       "            };\n",
       "            let layer_control_b0238aae45481584c615c27dd1d0d01a = L.control.layers(\n",
       "                layer_control_b0238aae45481584c615c27dd1d0d01a_layers.base_layers,\n",
       "                layer_control_b0238aae45481584c615c27dd1d0d01a_layers.overlays,\n",
       "                {&quot;autoZIndex&quot;: true, &quot;collapsed&quot;: true, &quot;position&quot;: &quot;topright&quot;}\n",
       "            ).addTo(map_1c8ea9a2a3bde24116c9134f1a24d221);\n",
       "\n",
       "        \n",
       "&lt;/script&gt;\n",
       "&lt;/html&gt;\" style=\"position:absolute;width:100%;height:100%;left:0;top:0;border:none !important;\" allowfullscreen webkitallowfullscreen mozallowfullscreen></iframe></div></div>"
      ],
      "text/plain": [
       "<folium.folium.Map at 0x7fc872445b10>"
      ]
     },
     "execution_count": 20,
     "metadata": {},
     "output_type": "execute_result"
    }
   ],
   "source": [
    "ds.elevation.odc.explore()"
   ]
  },
  {
   "cell_type": "markdown",
   "id": "9fcd13e6-db3e-409c-905d-d9f6a9733348",
   "metadata": {},
   "source": [
    "### Export to GeoTIFF files"
   ]
  },
  {
   "cell_type": "code",
   "execution_count": 21,
   "id": "ae5db6ce-c55c-4d3c-8a90-e7db3f792039",
   "metadata": {
    "tags": []
   },
   "outputs": [],
   "source": [
    "# Create output folder if it doesn't exist\n",
    "output_dir = f\"data/interim/{study_area}/{start_date}-{end_date}\"\n",
    "os.makedirs(output_dir, exist_ok=True)\n",
    "\n",
    "# Prepare data for export\n",
    "ds[\"qa_ndwi_freq\"] *= 100  # Convert frequency to %\n",
    "\n",
    "# Prepare for export by correctly setting nodata and dtypes, then\n",
    "# export to file\n",
    "ds_prepared = prepare_for_export(ds, output_location=output_dir)"
   ]
  },
  {
   "cell_type": "markdown",
   "id": "9b564afc-4a09-4eb3-a9a3-cb445822c7ad",
   "metadata": {
    "tags": []
   },
   "source": [
    "## Close Dask client"
   ]
  },
  {
   "cell_type": "code",
   "execution_count": 22,
   "id": "dbad6b6a-081b-4360-9ffe-120c76b43bd2",
   "metadata": {},
   "outputs": [],
   "source": [
    "client.close()"
   ]
  }
 ],
 "metadata": {
  "kernelspec": {
   "display_name": "Python 3 (ipykernel)",
   "language": "python",
   "name": "python3"
  },
  "language_info": {
   "codemirror_mode": {
    "name": "ipython",
    "version": 3
   },
   "file_extension": ".py",
   "mimetype": "text/x-python",
   "name": "python",
   "nbconvert_exporter": "python",
   "pygments_lexer": "ipython3",
   "version": "3.10.14"
  },
  "widgets": {
   "application/vnd.jupyter.widget-state+json": {
    "state": {
     "052e66fc68db4577bab0e0eab5a08fa2": {
      "model_module": "@jupyter-widgets/base",
      "model_module_version": "2.0.0",
      "model_name": "LayoutModel",
      "state": {
       "width": "5em"
      }
     },
     "0c6168b3e44a4826a20dda25eb41abd4": {
      "model_module": "jupyter-leaflet",
      "model_module_version": "^0.17",
      "model_name": "LeafletTileLayerModel",
      "state": {
       "_model_module_version": "^0.17",
       "_view_module_version": "^0.17",
       "attribution": "Tiles &copy; Esri &mdash; Source: Esri, i-cubed, USDA, USGS, AEX, GeoEye, Getmapping, Aerogrid, IGN, IGP, UPR-EGP, and the GIS User Community",
       "min_zoom": 1,
       "name": "Esri.WorldImagery",
       "options": [
        "attribution",
        "bounds",
        "detect_retina",
        "max_native_zoom",
        "max_zoom",
        "min_native_zoom",
        "min_zoom",
        "no_wrap",
        "tile_size",
        "tms",
        "zoom_offset"
       ],
       "url": "https://server.arcgisonline.com/ArcGIS/rest/services/World_Imagery/MapServer/tile/{z}/{y}/{x}"
      }
     },
     "1156b340809344efb273cb5d467f67fa": {
      "model_module": "jupyter-leaflet",
      "model_module_version": "^0.17",
      "model_name": "LeafletWidgetControlModel",
      "state": {
       "_model_module": "jupyter-leaflet",
       "_model_module_version": "^0.17",
       "_view_count": null,
       "_view_module": "jupyter-leaflet",
       "_view_module_version": "^0.17",
       "options": [
        "position",
        "transparent_bg"
       ],
       "position": "topright",
       "widget": "IPY_MODEL_860d23335c8949868e82507dc0878961"
      }
     },
     "221b839a429d443cbb693347cb0e20bb": {
      "model_module": "jupyter-leaflet",
      "model_module_version": "^0.17",
      "model_name": "LeafletMapStyleModel",
      "state": {
       "_model_module_version": "^0.17"
      }
     },
     "332b966dabbd427ca234486ccd9afcb8": {
      "model_module": "@jupyter-widgets/base",
      "model_module_version": "2.0.0",
      "model_name": "LayoutModel",
      "state": {}
     },
     "3de1451f1a24435ba2cc8680a8701002": {
      "model_module": "jupyter-leaflet",
      "model_module_version": "^0.17",
      "model_name": "LeafletFullScreenControlModel",
      "state": {
       "_model_module_version": "^0.17",
       "_view_module_version": "^0.17",
       "options": [
        "position"
       ]
      }
     },
     "3ed73e1ea9ac4c62bbb4d4b45f2bf6ed": {
      "model_module": "jupyter-leaflet",
      "model_module_version": "^0.17",
      "model_name": "LeafletAttributionControlModel",
      "state": {
       "_model_module_version": "^0.17",
       "_view_module_version": "^0.17",
       "options": [
        "position",
        "prefix"
       ],
       "position": "bottomright",
       "prefix": "ipyleaflet"
      }
     },
     "5b7f7ec205744675b7c02af3c79c25e8": {
      "model_module": "@jupyter-widgets/controls",
      "model_module_version": "2.0.0",
      "model_name": "HTMLStyleModel",
      "state": {
       "description_width": "",
       "font_size": null,
       "text_color": null
      }
     },
     "73b2a8febbe4416cbff26fe11bb0c2c0": {
      "model_module": "jupyter-leaflet",
      "model_module_version": "^0.17",
      "model_name": "LeafletMapStyleModel",
      "state": {
       "_model_module_version": "^0.17",
       "cursor": "move"
      }
     },
     "7442c72a3e7147ea8d88bad2b54cb606": {
      "model_module": "@jupyter-widgets/base",
      "model_module_version": "2.0.0",
      "model_name": "LayoutModel",
      "state": {
       "flex": "1 0 20em",
       "height": "3em",
       "width": "20em"
      }
     },
     "80112e857f19414cbfd8b1f76319302f": {
      "model_module": "@jupyter-widgets/controls",
      "model_module_version": "2.0.0",
      "model_name": "HBoxModel",
      "state": {
       "children": [
        "IPY_MODEL_dd8adcbecba04fc085d376dda54b6739",
        "IPY_MODEL_f5e041c467774fc494c2f380871e3df3",
        "IPY_MODEL_c811043b37404629907b794a6721608b"
       ],
       "layout": "IPY_MODEL_cafe08eba9b94b16ad602cec6c5b88ef"
      }
     },
     "860d23335c8949868e82507dc0878961": {
      "model_module": "@jupyter-widgets/controls",
      "model_module_version": "2.0.0",
      "model_name": "ButtonModel",
      "state": {
       "description": "done",
       "disabled": true,
       "layout": "IPY_MODEL_052e66fc68db4577bab0e0eab5a08fa2",
       "style": "IPY_MODEL_ddeeffee65054f05afc6039f3078c55e",
       "tooltip": null
      }
     },
     "8bdc4c25fb434da7b831e68c33e350e3": {
      "model_module": "@jupyter-widgets/controls",
      "model_module_version": "2.0.0",
      "model_name": "HTMLStyleModel",
      "state": {
       "description_width": "",
       "font_size": null,
       "text_color": null
      }
     },
     "90f4f021e4df4ef29ba21fd10a8b497a": {
      "model_module": "@jupyter-widgets/controls",
      "model_module_version": "2.0.0",
      "model_name": "ProgressStyleModel",
      "state": {
       "description_width": ""
      }
     },
     "956f4a3ac40242cc8f1aef2ff916c6ae": {
      "model_module": "jupyter-leaflet",
      "model_module_version": "^0.17",
      "model_name": "LeafletZoomControlModel",
      "state": {
       "_model_module_version": "^0.17",
       "_view_module_version": "^0.17",
       "options": [
        "position",
        "zoom_in_text",
        "zoom_in_title",
        "zoom_out_text",
        "zoom_out_title"
       ]
      }
     },
     "abb7e06699b64c44883c18ec48d1f52c": {
      "model_module": "jupyter-leaflet",
      "model_module_version": "^0.17",
      "model_name": "LeafletMapStyleModel",
      "state": {
       "_model_module_version": "^0.17"
      }
     },
     "b4214ad81a4049f4aed147a940c16e72": {
      "model_module": "@jupyter-widgets/base",
      "model_module_version": "2.0.0",
      "model_name": "LayoutModel",
      "state": {}
     },
     "b477eac592804e8db82a0e255d0c9d1e": {
      "model_module": "jupyter-leaflet",
      "model_module_version": "^0.17",
      "model_name": "LeafletDrawControlModel",
      "state": {
       "_model_module_version": "^0.17",
       "_view_module_version": "^0.17",
       "data": [
        {
         "geometry": {
          "coordinates": [
           [
            [
             150.786636,
             -34.321216
            ],
            [
             150.786636,
             -34.254272
            ],
            [
             151.175283,
             -34.254272
            ],
            [
             151.175283,
             -34.321216
            ],
            [
             150.786636,
             -34.321216
            ]
           ]
          ],
          "type": "Polygon"
         },
         "properties": {
          "style": {
           "clickable": true,
           "color": "#000000",
           "fill": true,
           "fillColor": "#fca45d",
           "fillOpacity": 0.1,
           "opacity": 0.5,
           "stroke": true,
           "weight": 4
          }
         },
         "type": "Feature"
        }
       ],
       "options": [
        "position"
       ],
       "polygon": {
        "shapeOptions": {
         "color": "#000000",
         "editing": {
          "color": "#000000",
          "fillColor": "#fca45d",
          "fillOpacity": 0.1
         },
         "fillColor": "#fca45d",
         "fillOpacity": 0.1,
         "original": {
          "color": "#000000",
          "fillColor": "#fca45d",
          "fillOpacity": 0.1
         }
        }
       },
       "polyline": {},
       "rectangle": {
        "metric": [
         "km",
         "m"
        ],
        "shapeOptions": {
         "color": "#000000",
         "fillColor": "#fca45d",
         "fillOpacity": 0.1
        }
       }
      }
     },
     "bb6ff04db385480ab59fc5dc9347f9fc": {
      "model_module": "@jupyter-widgets/base",
      "model_module_version": "2.0.0",
      "model_name": "LayoutModel",
      "state": {}
     },
     "c811043b37404629907b794a6721608b": {
      "model_module": "@jupyter-widgets/controls",
      "model_module_version": "2.0.0",
      "model_name": "HTMLModel",
      "state": {
       "layout": "IPY_MODEL_bb6ff04db385480ab59fc5dc9347f9fc",
       "style": "IPY_MODEL_cfa3b6ab577b4acab858fbdd08b32a25",
       "value": " 105/105 [00:01&lt;00:00, 116.59it/s]"
      }
     },
     "cafe08eba9b94b16ad602cec6c5b88ef": {
      "model_module": "@jupyter-widgets/base",
      "model_module_version": "2.0.0",
      "model_name": "LayoutModel",
      "state": {}
     },
     "cd18c8e1cee0497a8153c9c91ac6b537": {
      "model_module": "jupyter-leaflet",
      "model_module_version": "^0.17",
      "model_name": "LeafletWidgetControlModel",
      "state": {
       "_model_module": "jupyter-leaflet",
       "_model_module_version": "^0.17",
       "_view_count": null,
       "_view_module": "jupyter-leaflet",
       "_view_module_version": "^0.17",
       "options": [
        "position",
        "transparent_bg"
       ],
       "position": "bottomleft",
       "widget": "IPY_MODEL_e3fccb4ac28941b78d99ef83262dc8f4"
      }
     },
     "cd23d25494fa409aa62344c60bb9d7aa": {
      "model_module": "@jupyter-widgets/base",
      "model_module_version": "2.0.0",
      "model_name": "LayoutModel",
      "state": {
       "height": "600px"
      }
     },
     "cfa3b6ab577b4acab858fbdd08b32a25": {
      "model_module": "@jupyter-widgets/controls",
      "model_module_version": "2.0.0",
      "model_name": "HTMLStyleModel",
      "state": {
       "description_width": "",
       "font_size": null,
       "text_color": null
      }
     },
     "d7781c2846034bc29733dc79e5f5bb6b": {
      "model_module": "jupyter-leaflet",
      "model_module_version": "^0.17",
      "model_name": "LeafletMapModel",
      "state": {
       "_model_module_version": "^0.17",
       "_view_module_version": "^0.17",
       "bottom": 158010,
       "center": [
        -34.323023630488315,
        151.00845809753469
       ],
       "controls": [
        "IPY_MODEL_956f4a3ac40242cc8f1aef2ff916c6ae",
        "IPY_MODEL_3ed73e1ea9ac4c62bbb4d4b45f2bf6ed",
        "IPY_MODEL_3de1451f1a24435ba2cc8680a8701002"
       ],
       "default_style": "IPY_MODEL_abb7e06699b64c44883c18ec48d1f52c",
       "dragging_style": "IPY_MODEL_73b2a8febbe4416cbff26fe11bb0c2c0",
       "east": 151.51932235534719,
       "fullscreen": false,
       "interpolation": "bilinear",
       "layers": [
        "IPY_MODEL_0c6168b3e44a4826a20dda25eb41abd4"
       ],
       "layout": "IPY_MODEL_cd23d25494fa409aa62344c60bb9d7aa",
       "left": 240661.00344311146,
       "modisdate": "2024-03-24",
       "north": -33.98208625901937,
       "options": [
        "bounce_at_zoom_limits",
        "box_zoom",
        "center",
        "close_popup_on_click",
        "double_click_zoom",
        "dragging",
        "fullscreen",
        "inertia",
        "inertia_deceleration",
        "inertia_max_speed",
        "interpolation",
        "keyboard",
        "keyboard_pan_offset",
        "keyboard_zoom_offset",
        "max_zoom",
        "min_zoom",
        "prefer_canvas",
        "scroll_wheel_zoom",
        "tap",
        "tap_tolerance",
        "touch_zoom",
        "world_copy_jump",
        "zoom",
        "zoom_animation_threshold",
        "zoom_delta",
        "zoom_snap"
       ],
       "prefer_canvas": false,
       "right": 241405.00344311146,
       "scroll_wheel_zoom": true,
       "south": -34.66258150231495,
       "style": "IPY_MODEL_abb7e06699b64c44883c18ec48d1f52c",
       "top": 157410,
       "west": 150.49759383972219,
       "window_url": "https://app.sandbox.dea.ga.gov.au/user/robbi.bishoptaylor@ga.gov.au/lab/tree/Robbi/dea-intertidal/notebooks/Intertidal_elevation.ipynb",
       "zoom": 10
      }
     },
     "dd8adcbecba04fc085d376dda54b6739": {
      "model_module": "@jupyter-widgets/controls",
      "model_module_version": "2.0.0",
      "model_name": "HTMLModel",
      "state": {
       "layout": "IPY_MODEL_b4214ad81a4049f4aed147a940c16e72",
       "style": "IPY_MODEL_8bdc4c25fb434da7b831e68c33e350e3",
       "value": "100%"
      }
     },
     "ddeeffee65054f05afc6039f3078c55e": {
      "model_module": "@jupyter-widgets/controls",
      "model_module_version": "2.0.0",
      "model_name": "ButtonStyleModel",
      "state": {
       "button_color": "green",
       "font_family": null,
       "font_size": null,
       "font_style": null,
       "font_variant": null,
       "font_weight": null,
       "text_color": null,
       "text_decoration": null
      }
     },
     "e3fccb4ac28941b78d99ef83262dc8f4": {
      "model_module": "@jupyter-widgets/controls",
      "model_module_version": "2.0.0",
      "model_name": "HTMLModel",
      "state": {
       "layout": "IPY_MODEL_7442c72a3e7147ea8d88bad2b54cb606",
       "style": "IPY_MODEL_5b7f7ec205744675b7c02af3c79c25e8",
       "value": "<pre style=\"color:grey\">lat: [-34.6626, -33.9821]\nlon: [150.4976, 151.5193]</pre>"
      }
     },
     "f5e041c467774fc494c2f380871e3df3": {
      "model_module": "@jupyter-widgets/controls",
      "model_module_version": "2.0.0",
      "model_name": "FloatProgressModel",
      "state": {
       "bar_style": "success",
       "layout": "IPY_MODEL_332b966dabbd427ca234486ccd9afcb8",
       "max": 105,
       "style": "IPY_MODEL_90f4f021e4df4ef29ba21fd10a8b497a",
       "value": 105
      }
     }
    },
    "version_major": 2,
    "version_minor": 0
   }
  }
 },
 "nbformat": 4,
 "nbformat_minor": 5
}

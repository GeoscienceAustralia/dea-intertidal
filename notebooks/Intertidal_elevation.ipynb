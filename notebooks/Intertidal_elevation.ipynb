{
 "cells": [
  {
   "cell_type": "markdown",
   "id": "306a1f55-3f9d-4996-be95-e11e5a74a86b",
   "metadata": {},
   "source": [
    "# DEA Intertidal Elevation\n",
    "\n",
    "This notebook demonstrates how to run and customise a DEA Intertidal Elevation analysis.\n",
    "\n",
    "## Getting started\n",
    "Set working directory to top level of repo to ensure links work correctly:"
   ]
  },
  {
   "cell_type": "code",
   "execution_count": 1,
   "id": "6c9907dc-c0d2-4b2e-8cbb-bb3a2bc15f08",
   "metadata": {},
   "outputs": [
    {
     "name": "stdout",
     "output_type": "stream",
     "text": [
      "/home/jovyan/Robbi/dea-intertidal\n"
     ]
    }
   ],
   "source": [
    "cd .."
   ]
  },
  {
   "cell_type": "markdown",
   "id": "c586a481-013f-4884-8e53-f3ddb9c438d7",
   "metadata": {},
   "source": [
    "Install additional packages directly from the requirements file"
   ]
  },
  {
   "cell_type": "code",
   "execution_count": null,
   "id": "d67433e6-0408-40d1-be61-db49c52f88dc",
   "metadata": {},
   "outputs": [],
   "source": [
    "pip install -r requirements.in --quiet"
   ]
  },
  {
   "cell_type": "markdown",
   "id": "4244cc06-b5e7-4120-8514-adf35082cb2c",
   "metadata": {},
   "source": [
    "### Load packages"
   ]
  },
  {
   "cell_type": "code",
   "execution_count": 2,
   "id": "2520e8de-ac2c-4571-99a0-f7fb7b932f56",
   "metadata": {},
   "outputs": [],
   "source": [
    "%load_ext autoreload\n",
    "%autoreload 2\n",
    "\n",
    "import os\n",
    "import xarray as xr\n",
    "import geopandas as gpd\n",
    "import matplotlib.pyplot as plt\n",
    "from tqdm import tqdm\n",
    "from concurrent.futures import ProcessPoolExecutor\n",
    "from ipyleaflet import basemaps, basemap_to_tiles\n",
    "\n",
    "import datacube\n",
    "import odc.geo.xr\n",
    "from odc.geo.geom import Geometry\n",
    "from odc.geo.geobox import GeoBox\n",
    "from odc.ui import select_on_a_map\n",
    "from dea_tools.dask import create_local_dask_cluster\n",
    "\n",
    "from intertidal.tide_modelling import pixel_tides_ensemble\n",
    "from intertidal.io import load_data, load_topobathy_mask, prepare_for_export\n",
    "from intertidal.elevation import (\n",
    "    ds_to_flat,\n",
    "    pixel_rolling_median,\n",
    "    pixel_dem,\n",
    "    pixel_dem_debug,\n",
    "    pixel_uncertainty,\n",
    "    flat_to_ds,\n",
    "    clean_edge_pixels,\n",
    "    elevation,\n",
    ")"
   ]
  },
  {
   "cell_type": "markdown",
   "id": "1a69b01f-bae0-4373-8ed6-e907393407eb",
   "metadata": {
    "tags": []
   },
   "source": [
    "## Setup\n"
   ]
  },
  {
   "cell_type": "markdown",
   "id": "b02efd2f-dab6-41ec-86f0-1724c93cf356",
   "metadata": {},
   "source": [
    "### Set analysis parameters"
   ]
  },
  {
   "cell_type": "code",
   "execution_count": 3,
   "id": "96122c69-8f4d-439a-a945-8f19294d2e07",
   "metadata": {
    "tags": []
   },
   "outputs": [],
   "source": [
    "# Intertidal Elevation variables\n",
    "start_date = \"2020\"  # Start date for analysis\n",
    "end_date = \"2022\"  # End date for analysis\n",
    "resolution = 10  # Spatial resolution used for output files\n",
    "crs = \"EPSG:3577\"  # Coordinate Reference System (CRS) to use for output files\n",
    "ndwi_thresh = 0.1  # Threshold used to identify dry/wet transition\n",
    "include_s2 = True  # Include Sentinel-2 data in the analysis?\n",
    "include_ls = True  # Include Landsat data in the analysis?\n",
    "filter_gqa = True  # Filter to remove poorly georeferenced scenes?\n",
    "tide_model = \"ensemble\"  # Tide model to use in analysis \n",
    "# tide_model_dir = \"/var/share/tide_models\"  # Directory containing tide model files\n",
    "# tide_model = [\"FES2014\", \"FES2012\", \"TPXO9-atlas-v5\"]\n",
    "tide_model_dir = \"/gdata1/data/tide_models_clipped\""
   ]
  },
  {
   "cell_type": "markdown",
   "id": "694c8695-d30d-4d55-84b2-d31a910ebaf3",
   "metadata": {},
   "source": [
    "#### Set study area\n",
    "\n",
    "##### Option 1: load study area from 32 km tile GridSpec"
   ]
  },
  {
   "cell_type": "code",
   "execution_count": 4,
   "id": "8c1dfca3-543d-4e07-9a0f-2eeddf582835",
   "metadata": {},
   "outputs": [],
   "source": [
    "# # Set study area (e.g. tile ID in form \"x094y145\")\n",
    "# study_area = \"x094y145\"\n",
    "# geom = None  # Use GridSpec to load study area, not a custom geom"
   ]
  },
  {
   "cell_type": "markdown",
   "id": "298e1361-c8ff-4602-ac04-2dd07bf99ca2",
   "metadata": {
    "tags": []
   },
   "source": [
    "##### Option 2: load study area from vector file"
   ]
  },
  {
   "cell_type": "code",
   "execution_count": 5,
   "id": "e67929eb-8a55-4a15-be7a-fcda29ec1f66",
   "metadata": {
    "tags": []
   },
   "outputs": [],
   "source": [
    "# # Set study area to load from file\n",
    "# study_area = \"pointstuart\"\n",
    "\n",
    "# # Read file, select study area and convert to geom\n",
    "# studyarea_gdf = gpd.read_file(\n",
    "#     \"data/raw/intertidal_development_polygons.geojson\"\n",
    "# ).set_index(\"id\")\n",
    "# geom = Geometry(studyarea_gdf.loc[study_area].geometry, crs=studyarea_gdf.crs)\n",
    "# geom"
   ]
  },
  {
   "cell_type": "markdown",
   "id": "9b72074d-c4bc-410b-83e1-80295227b81c",
   "metadata": {},
   "source": [
    "##### Option 3: load study area using interactive map"
   ]
  },
  {
   "cell_type": "code",
   "execution_count": 6,
   "id": "bdcf1c79-ae5a-4453-a7e8-d3f021b0b65a",
   "metadata": {},
   "outputs": [
    {
     "data": {
      "application/vnd.jupyter.widget-view+json": {
       "model_id": "e27e28f5a5db4ec296e30fdeb00e96e4",
       "version_major": 2,
       "version_minor": 0
      },
      "text/plain": [
       "Map(center=[-26, 135], controls=(ZoomControl(options=['position', 'zoom_in_text', 'zoom_in_title', 'zoom_out_t…"
      ]
     },
     "metadata": {},
     "output_type": "display_data"
    },
    {
     "data": {
      "image/svg+xml": [
       "<svg xmlns=\"http://www.w3.org/2000/svg\" xmlns:xlink=\"http://www.w3.org/1999/xlink\" width=\"100.0\" height=\"100.0\" viewBox=\"131.86215368 -12.231036320000001 0.05228063999999222 0.048501640000001345\" preserveAspectRatio=\"xMinYMin meet\"><g transform=\"matrix(1,0,0,-1,0,-24.413571)\"><path fill-rule=\"evenodd\" fill=\"#66cc99\" stroke=\"#555555\" stroke-width=\"0.0010456127999998444\" opacity=\"0.6\" d=\"M 131.86409,-12.2291 L 131.86409,-12.184471 L 131.912498,-12.184471 L 131.912498,-12.2291 L 131.86409,-12.2291 z\" /></g></svg>"
      ],
      "text/plain": [
       "Geometry(POLYGON ((131.86409 -12.2291, 131.86409 -12.184471, 131.912498 -12.184471, 131.912498 -12.2291, 131.86409 -12.2291)), EPSG:4326)"
      ]
     },
     "execution_count": 6,
     "metadata": {},
     "output_type": "execute_result"
    }
   ],
   "source": [
    "# Set study area name for outputs\n",
    "study_area = \"testing\"\n",
    "\n",
    "# Plot interactive map to select area\n",
    "basemap = basemap_to_tiles(basemaps.Esri.WorldImagery)\n",
    "geom = select_on_a_map(height=\"600px\", layers=(basemap,), center=(-26, 135), zoom=4)\n",
    "geom"
   ]
  },
  {
   "cell_type": "markdown",
   "id": "54c892b8-42d3-4930-ad97-e0e214535fc5",
   "metadata": {},
   "source": [
    "## Load data"
   ]
  },
  {
   "cell_type": "code",
   "execution_count": 7,
   "id": "98e930ff-c5a4-45fa-a043-b8902c606d63",
   "metadata": {
    "tags": []
   },
   "outputs": [
    {
     "data": {
      "text/html": [
       "<div>\n",
       "    <div style=\"width: 24px; height: 24px; background-color: #e1e1e1; border: 3px solid #9D9D9D; border-radius: 5px; position: absolute;\"> </div>\n",
       "    <div style=\"margin-left: 48px;\">\n",
       "        <h3 style=\"margin-bottom: 0px;\">Client</h3>\n",
       "        <p style=\"color: #9D9D9D; margin-bottom: 0px;\">Client-300c2b16-dcfe-11ee-85c3-a647befe7275</p>\n",
       "        <table style=\"width: 100%; text-align: left;\">\n",
       "\n",
       "        <tr>\n",
       "        \n",
       "            <td style=\"text-align: left;\"><strong>Connection method:</strong> Cluster object</td>\n",
       "            <td style=\"text-align: left;\"><strong>Cluster type:</strong> distributed.LocalCluster</td>\n",
       "        \n",
       "        </tr>\n",
       "\n",
       "        \n",
       "            <tr>\n",
       "                <td style=\"text-align: left;\">\n",
       "                    <strong>Dashboard: </strong> <a href=\"/user/robbi.bishoptaylor@ga.gov.au/proxy/8787/status\" target=\"_blank\">/user/robbi.bishoptaylor@ga.gov.au/proxy/8787/status</a>\n",
       "                </td>\n",
       "                <td style=\"text-align: left;\"></td>\n",
       "            </tr>\n",
       "        \n",
       "\n",
       "        </table>\n",
       "\n",
       "        \n",
       "            <button style=\"margin-bottom: 12px;\" data-commandlinker-command=\"dask:populate-and-launch-layout\" data-commandlinker-args='{\"url\": \"/user/robbi.bishoptaylor@ga.gov.au/proxy/8787/status\" }'>\n",
       "                Launch dashboard in JupyterLab\n",
       "            </button>\n",
       "        \n",
       "\n",
       "        \n",
       "            <details>\n",
       "            <summary style=\"margin-bottom: 20px;\"><h3 style=\"display: inline;\">Cluster Info</h3></summary>\n",
       "            <div class=\"jp-RenderedHTMLCommon jp-RenderedHTML jp-mod-trusted jp-OutputArea-output\">\n",
       "    <div style=\"width: 24px; height: 24px; background-color: #e1e1e1; border: 3px solid #9D9D9D; border-radius: 5px; position: absolute;\">\n",
       "    </div>\n",
       "    <div style=\"margin-left: 48px;\">\n",
       "        <h3 style=\"margin-bottom: 0px; margin-top: 0px;\">LocalCluster</h3>\n",
       "        <p style=\"color: #9D9D9D; margin-bottom: 0px;\">e50b41f5</p>\n",
       "        <table style=\"width: 100%; text-align: left;\">\n",
       "            <tr>\n",
       "                <td style=\"text-align: left;\">\n",
       "                    <strong>Dashboard:</strong> <a href=\"/user/robbi.bishoptaylor@ga.gov.au/proxy/8787/status\" target=\"_blank\">/user/robbi.bishoptaylor@ga.gov.au/proxy/8787/status</a>\n",
       "                </td>\n",
       "                <td style=\"text-align: left;\">\n",
       "                    <strong>Workers:</strong> 1\n",
       "                </td>\n",
       "            </tr>\n",
       "            <tr>\n",
       "                <td style=\"text-align: left;\">\n",
       "                    <strong>Total threads:</strong> 31\n",
       "                </td>\n",
       "                <td style=\"text-align: left;\">\n",
       "                    <strong>Total memory:</strong> 237.21 GiB\n",
       "                </td>\n",
       "            </tr>\n",
       "            \n",
       "            <tr>\n",
       "    <td style=\"text-align: left;\"><strong>Status:</strong> running</td>\n",
       "    <td style=\"text-align: left;\"><strong>Using processes:</strong> True</td>\n",
       "</tr>\n",
       "\n",
       "            \n",
       "        </table>\n",
       "\n",
       "        <details>\n",
       "            <summary style=\"margin-bottom: 20px;\">\n",
       "                <h3 style=\"display: inline;\">Scheduler Info</h3>\n",
       "            </summary>\n",
       "\n",
       "            <div style=\"\">\n",
       "    <div>\n",
       "        <div style=\"width: 24px; height: 24px; background-color: #FFF7E5; border: 3px solid #FF6132; border-radius: 5px; position: absolute;\"> </div>\n",
       "        <div style=\"margin-left: 48px;\">\n",
       "            <h3 style=\"margin-bottom: 0px;\">Scheduler</h3>\n",
       "            <p style=\"color: #9D9D9D; margin-bottom: 0px;\">Scheduler-de259d81-50fb-48c7-832a-844dfbdf5a04</p>\n",
       "            <table style=\"width: 100%; text-align: left;\">\n",
       "                <tr>\n",
       "                    <td style=\"text-align: left;\">\n",
       "                        <strong>Comm:</strong> tcp://127.0.0.1:41033\n",
       "                    </td>\n",
       "                    <td style=\"text-align: left;\">\n",
       "                        <strong>Workers:</strong> 1\n",
       "                    </td>\n",
       "                </tr>\n",
       "                <tr>\n",
       "                    <td style=\"text-align: left;\">\n",
       "                        <strong>Dashboard:</strong> <a href=\"/user/robbi.bishoptaylor@ga.gov.au/proxy/8787/status\" target=\"_blank\">/user/robbi.bishoptaylor@ga.gov.au/proxy/8787/status</a>\n",
       "                    </td>\n",
       "                    <td style=\"text-align: left;\">\n",
       "                        <strong>Total threads:</strong> 31\n",
       "                    </td>\n",
       "                </tr>\n",
       "                <tr>\n",
       "                    <td style=\"text-align: left;\">\n",
       "                        <strong>Started:</strong> Just now\n",
       "                    </td>\n",
       "                    <td style=\"text-align: left;\">\n",
       "                        <strong>Total memory:</strong> 237.21 GiB\n",
       "                    </td>\n",
       "                </tr>\n",
       "            </table>\n",
       "        </div>\n",
       "    </div>\n",
       "\n",
       "    <details style=\"margin-left: 48px;\">\n",
       "        <summary style=\"margin-bottom: 20px;\">\n",
       "            <h3 style=\"display: inline;\">Workers</h3>\n",
       "        </summary>\n",
       "\n",
       "        \n",
       "        <div style=\"margin-bottom: 20px;\">\n",
       "            <div style=\"width: 24px; height: 24px; background-color: #DBF5FF; border: 3px solid #4CC9FF; border-radius: 5px; position: absolute;\"> </div>\n",
       "            <div style=\"margin-left: 48px;\">\n",
       "            <details>\n",
       "                <summary>\n",
       "                    <h4 style=\"margin-bottom: 0px; display: inline;\">Worker: 0</h4>\n",
       "                </summary>\n",
       "                <table style=\"width: 100%; text-align: left;\">\n",
       "                    <tr>\n",
       "                        <td style=\"text-align: left;\">\n",
       "                            <strong>Comm: </strong> tcp://127.0.0.1:40093\n",
       "                        </td>\n",
       "                        <td style=\"text-align: left;\">\n",
       "                            <strong>Total threads: </strong> 31\n",
       "                        </td>\n",
       "                    </tr>\n",
       "                    <tr>\n",
       "                        <td style=\"text-align: left;\">\n",
       "                            <strong>Dashboard: </strong> <a href=\"/user/robbi.bishoptaylor@ga.gov.au/proxy/40695/status\" target=\"_blank\">/user/robbi.bishoptaylor@ga.gov.au/proxy/40695/status</a>\n",
       "                        </td>\n",
       "                        <td style=\"text-align: left;\">\n",
       "                            <strong>Memory: </strong> 237.21 GiB\n",
       "                        </td>\n",
       "                    </tr>\n",
       "                    <tr>\n",
       "                        <td style=\"text-align: left;\">\n",
       "                            <strong>Nanny: </strong> tcp://127.0.0.1:37443\n",
       "                        </td>\n",
       "                        <td style=\"text-align: left;\"></td>\n",
       "                    </tr>\n",
       "                    <tr>\n",
       "                        <td colspan=\"2\" style=\"text-align: left;\">\n",
       "                            <strong>Local directory: </strong> /tmp/dask-worker-space/worker-exlgetrp\n",
       "                        </td>\n",
       "                    </tr>\n",
       "\n",
       "                    \n",
       "\n",
       "                    \n",
       "\n",
       "                </table>\n",
       "            </details>\n",
       "            </div>\n",
       "        </div>\n",
       "        \n",
       "\n",
       "    </details>\n",
       "</div>\n",
       "\n",
       "        </details>\n",
       "    </div>\n",
       "</div>\n",
       "            </details>\n",
       "        \n",
       "\n",
       "    </div>\n",
       "</div>"
      ],
      "text/plain": [
       "<Client: 'tcp://127.0.0.1:41033' processes=1 threads=31, memory=237.21 GiB>"
      ]
     },
     "metadata": {},
     "output_type": "display_data"
    },
    {
     "name": "stdout",
     "output_type": "stream",
     "text": [
      "<xarray.Dataset>\n",
      "Dimensions:      (time: 306, y: 486, x: 538)\n",
      "Coordinates:\n",
      "  * time         (time) datetime64[ns] 2020-01-02T00:57:27.736492 ... 2022-12...\n",
      "  * y            (y) float64 -1.284e+06 -1.284e+06 ... -1.289e+06 -1.289e+06\n",
      "  * x            (x) float64 -1.508e+04 -1.506e+04 ... -9.715e+03 -9.705e+03\n",
      "    spatial_ref  int32 3577\n",
      "Data variables:\n",
      "    ndwi         (time, y, x) float32 dask.array<chunksize=(1, 486, 538), meta=np.ndarray>\n",
      "Attributes:\n",
      "    crs:           EPSG:3577\n",
      "    grid_mapping:  spatial_ref\n"
     ]
    },
    {
     "name": "stderr",
     "output_type": "stream",
     "text": [
      "/env/lib/python3.10/site-packages/datacube/drivers/driver_cache.py:54: DeprecationWarning: pkg_resources is deprecated as an API. See https://setuptools.pypa.io/en/latest/pkg_resources.html\n",
      "  from pkg_resources import iter_entry_points\n",
      "/env/lib/python3.10/site-packages/rasterio/warp.py:344: NotGeoreferencedWarning: Dataset has no geotransform, gcps, or rpcs. The identity matrix will be returned.\n",
      "  _reproject(\n",
      "/env/lib/python3.10/site-packages/rasterio/warp.py:344: NotGeoreferencedWarning: Dataset has no geotransform, gcps, or rpcs. The identity matrix will be returned.\n",
      "  _reproject(\n"
     ]
    },
    {
     "name": "stdout",
     "output_type": "stream",
     "text": [
      "CPU times: user 7.43 s, sys: 761 ms, total: 8.19 s\n",
      "Wall time: 54.7 s\n"
     ]
    },
    {
     "data": {
      "text/html": [
       "<div><svg style=\"position: absolute; width: 0; height: 0; overflow: hidden\">\n",
       "<defs>\n",
       "<symbol id=\"icon-database\" viewBox=\"0 0 32 32\">\n",
       "<path d=\"M16 0c-8.837 0-16 2.239-16 5v4c0 2.761 7.163 5 16 5s16-2.239 16-5v-4c0-2.761-7.163-5-16-5z\"></path>\n",
       "<path d=\"M16 17c-8.837 0-16-2.239-16-5v6c0 2.761 7.163 5 16 5s16-2.239 16-5v-6c0 2.761-7.163 5-16 5z\"></path>\n",
       "<path d=\"M16 26c-8.837 0-16-2.239-16-5v6c0 2.761 7.163 5 16 5s16-2.239 16-5v-6c0 2.761-7.163 5-16 5z\"></path>\n",
       "</symbol>\n",
       "<symbol id=\"icon-file-text2\" viewBox=\"0 0 32 32\">\n",
       "<path d=\"M28.681 7.159c-0.694-0.947-1.662-2.053-2.724-3.116s-2.169-2.030-3.116-2.724c-1.612-1.182-2.393-1.319-2.841-1.319h-15.5c-1.378 0-2.5 1.121-2.5 2.5v27c0 1.378 1.122 2.5 2.5 2.5h23c1.378 0 2.5-1.122 2.5-2.5v-19.5c0-0.448-0.137-1.23-1.319-2.841zM24.543 5.457c0.959 0.959 1.712 1.825 2.268 2.543h-4.811v-4.811c0.718 0.556 1.584 1.309 2.543 2.268zM28 29.5c0 0.271-0.229 0.5-0.5 0.5h-23c-0.271 0-0.5-0.229-0.5-0.5v-27c0-0.271 0.229-0.5 0.5-0.5 0 0 15.499-0 15.5 0v7c0 0.552 0.448 1 1 1h7v19.5z\"></path>\n",
       "<path d=\"M23 26h-14c-0.552 0-1-0.448-1-1s0.448-1 1-1h14c0.552 0 1 0.448 1 1s-0.448 1-1 1z\"></path>\n",
       "<path d=\"M23 22h-14c-0.552 0-1-0.448-1-1s0.448-1 1-1h14c0.552 0 1 0.448 1 1s-0.448 1-1 1z\"></path>\n",
       "<path d=\"M23 18h-14c-0.552 0-1-0.448-1-1s0.448-1 1-1h14c0.552 0 1 0.448 1 1s-0.448 1-1 1z\"></path>\n",
       "</symbol>\n",
       "</defs>\n",
       "</svg>\n",
       "<style>/* CSS stylesheet for displaying xarray objects in jupyterlab.\n",
       " *\n",
       " */\n",
       "\n",
       ":root {\n",
       "  --xr-font-color0: var(--jp-content-font-color0, rgba(0, 0, 0, 1));\n",
       "  --xr-font-color2: var(--jp-content-font-color2, rgba(0, 0, 0, 0.54));\n",
       "  --xr-font-color3: var(--jp-content-font-color3, rgba(0, 0, 0, 0.38));\n",
       "  --xr-border-color: var(--jp-border-color2, #e0e0e0);\n",
       "  --xr-disabled-color: var(--jp-layout-color3, #bdbdbd);\n",
       "  --xr-background-color: var(--jp-layout-color0, white);\n",
       "  --xr-background-color-row-even: var(--jp-layout-color1, white);\n",
       "  --xr-background-color-row-odd: var(--jp-layout-color2, #eeeeee);\n",
       "}\n",
       "\n",
       "html[theme=dark],\n",
       "body[data-theme=dark],\n",
       "body.vscode-dark {\n",
       "  --xr-font-color0: rgba(255, 255, 255, 1);\n",
       "  --xr-font-color2: rgba(255, 255, 255, 0.54);\n",
       "  --xr-font-color3: rgba(255, 255, 255, 0.38);\n",
       "  --xr-border-color: #1F1F1F;\n",
       "  --xr-disabled-color: #515151;\n",
       "  --xr-background-color: #111111;\n",
       "  --xr-background-color-row-even: #111111;\n",
       "  --xr-background-color-row-odd: #313131;\n",
       "}\n",
       "\n",
       ".xr-wrap {\n",
       "  display: block !important;\n",
       "  min-width: 300px;\n",
       "  max-width: 700px;\n",
       "}\n",
       "\n",
       ".xr-text-repr-fallback {\n",
       "  /* fallback to plain text repr when CSS is not injected (untrusted notebook) */\n",
       "  display: none;\n",
       "}\n",
       "\n",
       ".xr-header {\n",
       "  padding-top: 6px;\n",
       "  padding-bottom: 6px;\n",
       "  margin-bottom: 4px;\n",
       "  border-bottom: solid 1px var(--xr-border-color);\n",
       "}\n",
       "\n",
       ".xr-header > div,\n",
       ".xr-header > ul {\n",
       "  display: inline;\n",
       "  margin-top: 0;\n",
       "  margin-bottom: 0;\n",
       "}\n",
       "\n",
       ".xr-obj-type,\n",
       ".xr-array-name {\n",
       "  margin-left: 2px;\n",
       "  margin-right: 10px;\n",
       "}\n",
       "\n",
       ".xr-obj-type {\n",
       "  color: var(--xr-font-color2);\n",
       "}\n",
       "\n",
       ".xr-sections {\n",
       "  padding-left: 0 !important;\n",
       "  display: grid;\n",
       "  grid-template-columns: 150px auto auto 1fr 20px 20px;\n",
       "}\n",
       "\n",
       ".xr-section-item {\n",
       "  display: contents;\n",
       "}\n",
       "\n",
       ".xr-section-item input {\n",
       "  display: none;\n",
       "}\n",
       "\n",
       ".xr-section-item input + label {\n",
       "  color: var(--xr-disabled-color);\n",
       "}\n",
       "\n",
       ".xr-section-item input:enabled + label {\n",
       "  cursor: pointer;\n",
       "  color: var(--xr-font-color2);\n",
       "}\n",
       "\n",
       ".xr-section-item input:enabled + label:hover {\n",
       "  color: var(--xr-font-color0);\n",
       "}\n",
       "\n",
       ".xr-section-summary {\n",
       "  grid-column: 1;\n",
       "  color: var(--xr-font-color2);\n",
       "  font-weight: 500;\n",
       "}\n",
       "\n",
       ".xr-section-summary > span {\n",
       "  display: inline-block;\n",
       "  padding-left: 0.5em;\n",
       "}\n",
       "\n",
       ".xr-section-summary-in:disabled + label {\n",
       "  color: var(--xr-font-color2);\n",
       "}\n",
       "\n",
       ".xr-section-summary-in + label:before {\n",
       "  display: inline-block;\n",
       "  content: '►';\n",
       "  font-size: 11px;\n",
       "  width: 15px;\n",
       "  text-align: center;\n",
       "}\n",
       "\n",
       ".xr-section-summary-in:disabled + label:before {\n",
       "  color: var(--xr-disabled-color);\n",
       "}\n",
       "\n",
       ".xr-section-summary-in:checked + label:before {\n",
       "  content: '▼';\n",
       "}\n",
       "\n",
       ".xr-section-summary-in:checked + label > span {\n",
       "  display: none;\n",
       "}\n",
       "\n",
       ".xr-section-summary,\n",
       ".xr-section-inline-details {\n",
       "  padding-top: 4px;\n",
       "  padding-bottom: 4px;\n",
       "}\n",
       "\n",
       ".xr-section-inline-details {\n",
       "  grid-column: 2 / -1;\n",
       "}\n",
       "\n",
       ".xr-section-details {\n",
       "  display: none;\n",
       "  grid-column: 1 / -1;\n",
       "  margin-bottom: 5px;\n",
       "}\n",
       "\n",
       ".xr-section-summary-in:checked ~ .xr-section-details {\n",
       "  display: contents;\n",
       "}\n",
       "\n",
       ".xr-array-wrap {\n",
       "  grid-column: 1 / -1;\n",
       "  display: grid;\n",
       "  grid-template-columns: 20px auto;\n",
       "}\n",
       "\n",
       ".xr-array-wrap > label {\n",
       "  grid-column: 1;\n",
       "  vertical-align: top;\n",
       "}\n",
       "\n",
       ".xr-preview {\n",
       "  color: var(--xr-font-color3);\n",
       "}\n",
       "\n",
       ".xr-array-preview,\n",
       ".xr-array-data {\n",
       "  padding: 0 5px !important;\n",
       "  grid-column: 2;\n",
       "}\n",
       "\n",
       ".xr-array-data,\n",
       ".xr-array-in:checked ~ .xr-array-preview {\n",
       "  display: none;\n",
       "}\n",
       "\n",
       ".xr-array-in:checked ~ .xr-array-data,\n",
       ".xr-array-preview {\n",
       "  display: inline-block;\n",
       "}\n",
       "\n",
       ".xr-dim-list {\n",
       "  display: inline-block !important;\n",
       "  list-style: none;\n",
       "  padding: 0 !important;\n",
       "  margin: 0;\n",
       "}\n",
       "\n",
       ".xr-dim-list li {\n",
       "  display: inline-block;\n",
       "  padding: 0;\n",
       "  margin: 0;\n",
       "}\n",
       "\n",
       ".xr-dim-list:before {\n",
       "  content: '(';\n",
       "}\n",
       "\n",
       ".xr-dim-list:after {\n",
       "  content: ')';\n",
       "}\n",
       "\n",
       ".xr-dim-list li:not(:last-child):after {\n",
       "  content: ',';\n",
       "  padding-right: 5px;\n",
       "}\n",
       "\n",
       ".xr-has-index {\n",
       "  font-weight: bold;\n",
       "}\n",
       "\n",
       ".xr-var-list,\n",
       ".xr-var-item {\n",
       "  display: contents;\n",
       "}\n",
       "\n",
       ".xr-var-item > div,\n",
       ".xr-var-item label,\n",
       ".xr-var-item > .xr-var-name span {\n",
       "  background-color: var(--xr-background-color-row-even);\n",
       "  margin-bottom: 0;\n",
       "}\n",
       "\n",
       ".xr-var-item > .xr-var-name:hover span {\n",
       "  padding-right: 5px;\n",
       "}\n",
       "\n",
       ".xr-var-list > li:nth-child(odd) > div,\n",
       ".xr-var-list > li:nth-child(odd) > label,\n",
       ".xr-var-list > li:nth-child(odd) > .xr-var-name span {\n",
       "  background-color: var(--xr-background-color-row-odd);\n",
       "}\n",
       "\n",
       ".xr-var-name {\n",
       "  grid-column: 1;\n",
       "}\n",
       "\n",
       ".xr-var-dims {\n",
       "  grid-column: 2;\n",
       "}\n",
       "\n",
       ".xr-var-dtype {\n",
       "  grid-column: 3;\n",
       "  text-align: right;\n",
       "  color: var(--xr-font-color2);\n",
       "}\n",
       "\n",
       ".xr-var-preview {\n",
       "  grid-column: 4;\n",
       "}\n",
       "\n",
       ".xr-index-preview {\n",
       "  grid-column: 2 / 5;\n",
       "  color: var(--xr-font-color2);\n",
       "}\n",
       "\n",
       ".xr-var-name,\n",
       ".xr-var-dims,\n",
       ".xr-var-dtype,\n",
       ".xr-preview,\n",
       ".xr-attrs dt {\n",
       "  white-space: nowrap;\n",
       "  overflow: hidden;\n",
       "  text-overflow: ellipsis;\n",
       "  padding-right: 10px;\n",
       "}\n",
       "\n",
       ".xr-var-name:hover,\n",
       ".xr-var-dims:hover,\n",
       ".xr-var-dtype:hover,\n",
       ".xr-attrs dt:hover {\n",
       "  overflow: visible;\n",
       "  width: auto;\n",
       "  z-index: 1;\n",
       "}\n",
       "\n",
       ".xr-var-attrs,\n",
       ".xr-var-data,\n",
       ".xr-index-data {\n",
       "  display: none;\n",
       "  background-color: var(--xr-background-color) !important;\n",
       "  padding-bottom: 5px !important;\n",
       "}\n",
       "\n",
       ".xr-var-attrs-in:checked ~ .xr-var-attrs,\n",
       ".xr-var-data-in:checked ~ .xr-var-data,\n",
       ".xr-index-data-in:checked ~ .xr-index-data {\n",
       "  display: block;\n",
       "}\n",
       "\n",
       ".xr-var-data > table {\n",
       "  float: right;\n",
       "}\n",
       "\n",
       ".xr-var-name span,\n",
       ".xr-var-data,\n",
       ".xr-index-name div,\n",
       ".xr-index-data,\n",
       ".xr-attrs {\n",
       "  padding-left: 25px !important;\n",
       "}\n",
       "\n",
       ".xr-attrs,\n",
       ".xr-var-attrs,\n",
       ".xr-var-data,\n",
       ".xr-index-data {\n",
       "  grid-column: 1 / -1;\n",
       "}\n",
       "\n",
       "dl.xr-attrs {\n",
       "  padding: 0;\n",
       "  margin: 0;\n",
       "  display: grid;\n",
       "  grid-template-columns: 125px auto;\n",
       "}\n",
       "\n",
       ".xr-attrs dt,\n",
       ".xr-attrs dd {\n",
       "  padding: 0;\n",
       "  margin: 0;\n",
       "  float: left;\n",
       "  padding-right: 10px;\n",
       "  width: auto;\n",
       "}\n",
       "\n",
       ".xr-attrs dt {\n",
       "  font-weight: normal;\n",
       "  grid-column: 1;\n",
       "}\n",
       "\n",
       ".xr-attrs dt:hover span {\n",
       "  display: inline-block;\n",
       "  background: var(--xr-background-color);\n",
       "  padding-right: 10px;\n",
       "}\n",
       "\n",
       ".xr-attrs dd {\n",
       "  grid-column: 2;\n",
       "  white-space: pre-wrap;\n",
       "  word-break: break-all;\n",
       "}\n",
       "\n",
       ".xr-icon-database,\n",
       ".xr-icon-file-text2,\n",
       ".xr-no-icon {\n",
       "  display: inline-block;\n",
       "  vertical-align: middle;\n",
       "  width: 1em;\n",
       "  height: 1.5em !important;\n",
       "  stroke-width: 0;\n",
       "  stroke: currentColor;\n",
       "  fill: currentColor;\n",
       "}\n",
       "</style><pre class='xr-text-repr-fallback'>&lt;xarray.Dataset&gt;\n",
       "Dimensions:      (time: 306, y: 486, x: 538)\n",
       "Coordinates:\n",
       "  * time         (time) datetime64[ns] 2020-01-02T00:57:27.736492 ... 2022-12...\n",
       "  * y            (y) float64 -1.284e+06 -1.284e+06 ... -1.289e+06 -1.289e+06\n",
       "  * x            (x) float64 -1.508e+04 -1.506e+04 ... -9.715e+03 -9.705e+03\n",
       "    spatial_ref  int32 3577\n",
       "Data variables:\n",
       "    ndwi         (time, y, x) float32 nan nan nan nan nan ... nan nan nan nan\n",
       "Attributes:\n",
       "    crs:           EPSG:3577\n",
       "    grid_mapping:  spatial_ref</pre><div class='xr-wrap' style='display:none'><div class='xr-header'><div class='xr-obj-type'>xarray.Dataset</div></div><ul class='xr-sections'><li class='xr-section-item'><input id='section-7d6daea6-a54d-4be0-97ec-1ed745f2c000' class='xr-section-summary-in' type='checkbox' disabled ><label for='section-7d6daea6-a54d-4be0-97ec-1ed745f2c000' class='xr-section-summary'  title='Expand/collapse section'>Dimensions:</label><div class='xr-section-inline-details'><ul class='xr-dim-list'><li><span class='xr-has-index'>time</span>: 306</li><li><span class='xr-has-index'>y</span>: 486</li><li><span class='xr-has-index'>x</span>: 538</li></ul></div><div class='xr-section-details'></div></li><li class='xr-section-item'><input id='section-62df28b5-e005-4141-9c89-58553fae3b28' class='xr-section-summary-in' type='checkbox'  checked><label for='section-62df28b5-e005-4141-9c89-58553fae3b28' class='xr-section-summary' >Coordinates: <span>(4)</span></label><div class='xr-section-inline-details'></div><div class='xr-section-details'><ul class='xr-var-list'><li class='xr-var-item'><div class='xr-var-name'><span class='xr-has-index'>time</span></div><div class='xr-var-dims'>(time)</div><div class='xr-var-dtype'>datetime64[ns]</div><div class='xr-var-preview xr-preview'>2020-01-02T00:57:27.736492 ... 2...</div><input id='attrs-655e56ff-d37c-41c1-920d-36e056ddf283' class='xr-var-attrs-in' type='checkbox' ><label for='attrs-655e56ff-d37c-41c1-920d-36e056ddf283' title='Show/Hide attributes'><svg class='icon xr-icon-file-text2'><use xlink:href='#icon-file-text2'></use></svg></label><input id='data-1debebe1-4ce7-4d99-8948-8218b647fac3' class='xr-var-data-in' type='checkbox'><label for='data-1debebe1-4ce7-4d99-8948-8218b647fac3' title='Show/Hide data repr'><svg class='icon xr-icon-database'><use xlink:href='#icon-database'></use></svg></label><div class='xr-var-attrs'><dl class='xr-attrs'><dt><span>units :</span></dt><dd>seconds since 1970-01-01 00:00:00</dd></dl></div><div class='xr-var-data'><pre>array([&#x27;2020-01-02T00:57:27.736492000&#x27;, &#x27;2020-01-07T01:30:39.609305000&#x27;,\n",
       "       &#x27;2020-01-12T01:30:39.670644000&#x27;, ..., &#x27;2022-12-07T01:30:41.843338000&#x27;,\n",
       "       &#x27;2022-12-09T01:17:03.931814000&#x27;, &#x27;2022-12-17T01:17:28.625260000&#x27;],\n",
       "      dtype=&#x27;datetime64[ns]&#x27;)</pre></div></li><li class='xr-var-item'><div class='xr-var-name'><span class='xr-has-index'>y</span></div><div class='xr-var-dims'>(y)</div><div class='xr-var-dtype'>float64</div><div class='xr-var-preview xr-preview'>-1.284e+06 ... -1.289e+06</div><input id='attrs-3a5942ee-3737-4465-9094-fea3af012b05' class='xr-var-attrs-in' type='checkbox' ><label for='attrs-3a5942ee-3737-4465-9094-fea3af012b05' title='Show/Hide attributes'><svg class='icon xr-icon-file-text2'><use xlink:href='#icon-file-text2'></use></svg></label><input id='data-09bc6d51-3773-49fc-bac3-49f81adfa233' class='xr-var-data-in' type='checkbox'><label for='data-09bc6d51-3773-49fc-bac3-49f81adfa233' title='Show/Hide data repr'><svg class='icon xr-icon-database'><use xlink:href='#icon-database'></use></svg></label><div class='xr-var-attrs'><dl class='xr-attrs'><dt><span>units :</span></dt><dd>metre</dd><dt><span>resolution :</span></dt><dd>-10.0</dd><dt><span>crs :</span></dt><dd>EPSG:3577</dd></dl></div><div class='xr-var-data'><pre>array([-1284295., -1284305., -1284315., ..., -1289125., -1289135., -1289145.])</pre></div></li><li class='xr-var-item'><div class='xr-var-name'><span class='xr-has-index'>x</span></div><div class='xr-var-dims'>(x)</div><div class='xr-var-dtype'>float64</div><div class='xr-var-preview xr-preview'>-1.508e+04 ... -9.705e+03</div><input id='attrs-40250e2d-0ab5-4bf2-b2f1-d2a7c290218e' class='xr-var-attrs-in' type='checkbox' ><label for='attrs-40250e2d-0ab5-4bf2-b2f1-d2a7c290218e' title='Show/Hide attributes'><svg class='icon xr-icon-file-text2'><use xlink:href='#icon-file-text2'></use></svg></label><input id='data-25da0239-b9e0-482a-8cf1-7c3d5abc3449' class='xr-var-data-in' type='checkbox'><label for='data-25da0239-b9e0-482a-8cf1-7c3d5abc3449' title='Show/Hide data repr'><svg class='icon xr-icon-database'><use xlink:href='#icon-database'></use></svg></label><div class='xr-var-attrs'><dl class='xr-attrs'><dt><span>units :</span></dt><dd>metre</dd><dt><span>resolution :</span></dt><dd>10.0</dd><dt><span>crs :</span></dt><dd>EPSG:3577</dd></dl></div><div class='xr-var-data'><pre>array([-15075., -15065., -15055., ...,  -9725.,  -9715.,  -9705.])</pre></div></li><li class='xr-var-item'><div class='xr-var-name'><span>spatial_ref</span></div><div class='xr-var-dims'>()</div><div class='xr-var-dtype'>int32</div><div class='xr-var-preview xr-preview'>3577</div><input id='attrs-ead38501-756e-42bb-9e7a-ac10a35fccfd' class='xr-var-attrs-in' type='checkbox' ><label for='attrs-ead38501-756e-42bb-9e7a-ac10a35fccfd' title='Show/Hide attributes'><svg class='icon xr-icon-file-text2'><use xlink:href='#icon-file-text2'></use></svg></label><input id='data-98df3bbe-2eda-4438-853d-29d0903451f5' class='xr-var-data-in' type='checkbox'><label for='data-98df3bbe-2eda-4438-853d-29d0903451f5' title='Show/Hide data repr'><svg class='icon xr-icon-database'><use xlink:href='#icon-database'></use></svg></label><div class='xr-var-attrs'><dl class='xr-attrs'><dt><span>spatial_ref :</span></dt><dd>PROJCS[&quot;GDA94 / Australian Albers&quot;,GEOGCS[&quot;GDA94&quot;,DATUM[&quot;Geocentric_Datum_of_Australia_1994&quot;,SPHEROID[&quot;GRS 1980&quot;,6378137,298.257222101,AUTHORITY[&quot;EPSG&quot;,&quot;7019&quot;]],AUTHORITY[&quot;EPSG&quot;,&quot;6283&quot;]],PRIMEM[&quot;Greenwich&quot;,0,AUTHORITY[&quot;EPSG&quot;,&quot;8901&quot;]],UNIT[&quot;degree&quot;,0.0174532925199433,AUTHORITY[&quot;EPSG&quot;,&quot;9122&quot;]],AUTHORITY[&quot;EPSG&quot;,&quot;4283&quot;]],PROJECTION[&quot;Albers_Conic_Equal_Area&quot;],PARAMETER[&quot;latitude_of_center&quot;,0],PARAMETER[&quot;longitude_of_center&quot;,132],PARAMETER[&quot;standard_parallel_1&quot;,-18],PARAMETER[&quot;standard_parallel_2&quot;,-36],PARAMETER[&quot;false_easting&quot;,0],PARAMETER[&quot;false_northing&quot;,0],UNIT[&quot;metre&quot;,1,AUTHORITY[&quot;EPSG&quot;,&quot;9001&quot;]],AXIS[&quot;Easting&quot;,EAST],AXIS[&quot;Northing&quot;,NORTH],AUTHORITY[&quot;EPSG&quot;,&quot;3577&quot;]]</dd><dt><span>grid_mapping_name :</span></dt><dd>albers_conical_equal_area</dd></dl></div><div class='xr-var-data'><pre>array(3577, dtype=int32)</pre></div></li></ul></div></li><li class='xr-section-item'><input id='section-e05c6e87-f13f-40d4-86aa-a8b07a2e0743' class='xr-section-summary-in' type='checkbox'  checked><label for='section-e05c6e87-f13f-40d4-86aa-a8b07a2e0743' class='xr-section-summary' >Data variables: <span>(1)</span></label><div class='xr-section-inline-details'></div><div class='xr-section-details'><ul class='xr-var-list'><li class='xr-var-item'><div class='xr-var-name'><span>ndwi</span></div><div class='xr-var-dims'>(time, y, x)</div><div class='xr-var-dtype'>float32</div><div class='xr-var-preview xr-preview'>nan nan nan nan ... nan nan nan nan</div><input id='attrs-7df8aa27-bb5d-44e9-91a6-6a5eba36c5d1' class='xr-var-attrs-in' type='checkbox' disabled><label for='attrs-7df8aa27-bb5d-44e9-91a6-6a5eba36c5d1' title='Show/Hide attributes'><svg class='icon xr-icon-file-text2'><use xlink:href='#icon-file-text2'></use></svg></label><input id='data-a6e9bbbb-143e-4a41-8a87-8e77d7426c2a' class='xr-var-data-in' type='checkbox'><label for='data-a6e9bbbb-143e-4a41-8a87-8e77d7426c2a' title='Show/Hide data repr'><svg class='icon xr-icon-database'><use xlink:href='#icon-database'></use></svg></label><div class='xr-var-attrs'><dl class='xr-attrs'></dl></div><div class='xr-var-data'><pre>array([[[        nan,         nan,         nan, ...,         nan,\n",
       "                 nan,         nan],\n",
       "        [        nan,         nan,         nan, ...,         nan,\n",
       "                 nan,         nan],\n",
       "        [        nan,         nan,         nan, ...,         nan,\n",
       "                 nan,         nan],\n",
       "        ...,\n",
       "        [        nan,         nan,         nan, ...,         nan,\n",
       "                 nan,         nan],\n",
       "        [        nan,         nan,         nan, ...,         nan,\n",
       "                 nan,         nan],\n",
       "        [        nan,         nan,         nan, ...,         nan,\n",
       "                 nan,         nan]],\n",
       "\n",
       "       [[ 0.66993004,  0.67965984,  0.68532956, ...,  0.5105121 ,\n",
       "          0.49811524,  0.4876577 ],\n",
       "        [ 0.6814921 ,  0.6971882 ,  0.69162995, ...,  0.51216877,\n",
       "          0.50431037,  0.49671772],\n",
       "        [ 0.6997793 ,  0.6944444 ,  0.6936803 , ...,  0.50787616,\n",
       "          0.5       ,  0.49430278],\n",
       "...\n",
       "        [        nan,         nan,         nan, ...,         nan,\n",
       "                 nan,         nan],\n",
       "        [        nan,         nan,         nan, ...,         nan,\n",
       "                 nan,         nan],\n",
       "        [        nan,         nan,         nan, ...,         nan,\n",
       "                 nan,         nan]],\n",
       "\n",
       "       [[        nan,         nan,         nan, ...,         nan,\n",
       "                 nan,         nan],\n",
       "        [        nan,         nan,         nan, ...,         nan,\n",
       "                 nan,         nan],\n",
       "        [        nan,         nan,         nan, ...,         nan,\n",
       "                 nan,         nan],\n",
       "        ...,\n",
       "        [        nan,         nan,         nan, ...,         nan,\n",
       "                 nan,         nan],\n",
       "        [        nan,         nan,         nan, ...,         nan,\n",
       "                 nan,         nan],\n",
       "        [        nan,         nan,         nan, ...,         nan,\n",
       "                 nan,         nan]]], dtype=float32)</pre></div></li></ul></div></li><li class='xr-section-item'><input id='section-cb12c5a3-2e05-4d51-bafb-4975da8e371b' class='xr-section-summary-in' type='checkbox'  ><label for='section-cb12c5a3-2e05-4d51-bafb-4975da8e371b' class='xr-section-summary' >Indexes: <span>(3)</span></label><div class='xr-section-inline-details'></div><div class='xr-section-details'><ul class='xr-var-list'><li class='xr-var-item'><div class='xr-index-name'><div>time</div></div><div class='xr-index-preview'>PandasIndex</div><div></div><input id='index-575cecd3-9f88-444b-9dbd-288fb3c6af96' class='xr-index-data-in' type='checkbox'/><label for='index-575cecd3-9f88-444b-9dbd-288fb3c6af96' title='Show/Hide index repr'><svg class='icon xr-icon-database'><use xlink:href='#icon-database'></use></svg></label><div class='xr-index-data'><pre>PandasIndex(DatetimeIndex([&#x27;2020-01-02 00:57:27.736492&#x27;, &#x27;2020-01-07 01:30:39.609305&#x27;,\n",
       "               &#x27;2020-01-12 01:30:39.670644&#x27;, &#x27;2020-01-18 00:56:39.593261&#x27;,\n",
       "               &#x27;2020-01-26 01:16:44.483873&#x27;, &#x27;2020-01-27 01:30:38.140091&#x27;,\n",
       "               &#x27;2020-02-01 01:30:37.981330&#x27;, &#x27;2020-02-03 00:55:51.742435&#x27;,\n",
       "               &#x27;2020-02-06 01:30:36.775562&#x27;, &#x27;2020-02-19 00:55:02.134587&#x27;,\n",
       "               ...\n",
       "               &#x27;2022-10-30 01:17:15.544009&#x27;, &#x27;2022-11-02 01:30:49.196086&#x27;,\n",
       "               &#x27;2022-11-07 01:17:03.142615&#x27;, &#x27;2022-11-15 01:17:10.045673&#x27;,\n",
       "               &#x27;2022-11-17 01:30:44.846678&#x27;, &#x27;2022-11-23 01:17:28.591652&#x27;,\n",
       "               &#x27;2022-12-02 01:30:45.421806&#x27;, &#x27;2022-12-07 01:30:41.843338&#x27;,\n",
       "               &#x27;2022-12-09 01:17:03.931814&#x27;, &#x27;2022-12-17 01:17:28.625260&#x27;],\n",
       "              dtype=&#x27;datetime64[ns]&#x27;, name=&#x27;time&#x27;, length=306, freq=None))</pre></div></li><li class='xr-var-item'><div class='xr-index-name'><div>y</div></div><div class='xr-index-preview'>PandasIndex</div><div></div><input id='index-52bb3be1-4bba-499a-8521-c56ba06cb448' class='xr-index-data-in' type='checkbox'/><label for='index-52bb3be1-4bba-499a-8521-c56ba06cb448' title='Show/Hide index repr'><svg class='icon xr-icon-database'><use xlink:href='#icon-database'></use></svg></label><div class='xr-index-data'><pre>PandasIndex(Float64Index([-1284295.0, -1284305.0, -1284315.0, -1284325.0, -1284335.0,\n",
       "              -1284345.0, -1284355.0, -1284365.0, -1284375.0, -1284385.0,\n",
       "              ...\n",
       "              -1289055.0, -1289065.0, -1289075.0, -1289085.0, -1289095.0,\n",
       "              -1289105.0, -1289115.0, -1289125.0, -1289135.0, -1289145.0],\n",
       "             dtype=&#x27;float64&#x27;, name=&#x27;y&#x27;, length=486))</pre></div></li><li class='xr-var-item'><div class='xr-index-name'><div>x</div></div><div class='xr-index-preview'>PandasIndex</div><div></div><input id='index-395e358a-23e6-46a8-9254-d211c8d41550' class='xr-index-data-in' type='checkbox'/><label for='index-395e358a-23e6-46a8-9254-d211c8d41550' title='Show/Hide index repr'><svg class='icon xr-icon-database'><use xlink:href='#icon-database'></use></svg></label><div class='xr-index-data'><pre>PandasIndex(Float64Index([-15075.0, -15065.0, -15055.0, -15045.0, -15035.0, -15025.0,\n",
       "              -15015.0, -15005.0, -14995.0, -14985.0,\n",
       "              ...\n",
       "               -9795.0,  -9785.0,  -9775.0,  -9765.0,  -9755.0,  -9745.0,\n",
       "               -9735.0,  -9725.0,  -9715.0,  -9705.0],\n",
       "             dtype=&#x27;float64&#x27;, name=&#x27;x&#x27;, length=538))</pre></div></li></ul></div></li><li class='xr-section-item'><input id='section-ee2736f3-a2e8-461e-872e-f7ca3a6ba150' class='xr-section-summary-in' type='checkbox'  checked><label for='section-ee2736f3-a2e8-461e-872e-f7ca3a6ba150' class='xr-section-summary' >Attributes: <span>(2)</span></label><div class='xr-section-inline-details'></div><div class='xr-section-details'><dl class='xr-attrs'><dt><span>crs :</span></dt><dd>EPSG:3577</dd><dt><span>grid_mapping :</span></dt><dd>spatial_ref</dd></dl></div></li></ul></div></div>"
      ],
      "text/plain": [
       "<xarray.Dataset>\n",
       "Dimensions:      (time: 306, y: 486, x: 538)\n",
       "Coordinates:\n",
       "  * time         (time) datetime64[ns] 2020-01-02T00:57:27.736492 ... 2022-12...\n",
       "  * y            (y) float64 -1.284e+06 -1.284e+06 ... -1.289e+06 -1.289e+06\n",
       "  * x            (x) float64 -1.508e+04 -1.506e+04 ... -9.715e+03 -9.705e+03\n",
       "    spatial_ref  int32 3577\n",
       "Data variables:\n",
       "    ndwi         (time, y, x) float32 nan nan nan nan nan ... nan nan nan nan\n",
       "Attributes:\n",
       "    crs:           EPSG:3577\n",
       "    grid_mapping:  spatial_ref"
      ]
     },
     "execution_count": 7,
     "metadata": {},
     "output_type": "execute_result"
    }
   ],
   "source": [
    "%%time\n",
    "\n",
    "# Connect to datacube\n",
    "dc = datacube.Datacube(app=\"Intertidal_elevation\")\n",
    "\n",
    "# Create local dask cluster to improve data load time\n",
    "client = create_local_dask_cluster(return_client=True)\n",
    "\n",
    "satellite_ds, _, _ = load_data(\n",
    "    dc=dc,\n",
    "    study_area=study_area,\n",
    "    geom=geom,\n",
    "    time_range=(start_date, end_date),\n",
    "    resolution=resolution,\n",
    "    crs=crs,\n",
    "    include_s2=True,\n",
    "    include_ls=True,\n",
    "    filter_gqa=filter_gqa,\n",
    "    max_cloudcover=90,\n",
    "    skip_broken_datasets=True,\n",
    ")\n",
    "\n",
    "print(satellite_ds)\n",
    "\n",
    "# Load data\n",
    "satellite_ds.load()\n"
   ]
  },
  {
   "cell_type": "code",
   "execution_count": null,
   "id": "92d23ccd-f088-4815-8a56-08bc0f69ccbe",
   "metadata": {
    "tags": []
   },
   "outputs": [],
   "source": [
    "# # Experiment of removing mostly empty scenes to reduce memory/speed up\n",
    "# satellite_ds = satellite_ds.sel(\n",
    "#     time=satellite_ds.ndwi.notnull().mean(dim=[\"y\", \"x\"]) > 0.9\n",
    "# )"
   ]
  },
  {
   "cell_type": "markdown",
   "id": "93f45ad8-b23d-425a-91c1-a227b67d1372",
   "metadata": {},
   "source": [
    "### Load optional topobathy mask\n",
    "Loads a topo-bathymetric DEM for the extents of the loaded satellite data.\n",
    "This is used as a coarse mask to constrain the analysis to the coastal zone, improving run time and reducing clear false positives over deep water or elevated land."
   ]
  },
  {
   "cell_type": "code",
   "execution_count": 8,
   "id": "b3348b1b-ea4c-4637-958e-c0d89212e25a",
   "metadata": {
    "tags": []
   },
   "outputs": [],
   "source": [
    "# Load data from GA's AusBathyTopo 250m 2023 Grid\n",
    "topobathy_mask = load_topobathy_mask(\n",
    "    dc=dc,\n",
    "    geobox=satellite_ds.odc.geobox.compat,\n",
    "    product=\"ga_ausbathytopo250m_2023\",\n",
    "    resampling=\"bilinear\",\n",
    "    min_threshold=-15,\n",
    "    mask_filters=[(\"dilation\", 25)],\n",
    ")"
   ]
  },
  {
   "cell_type": "markdown",
   "id": "c34949eb-96f1-4844-ad6e-aeb71399e9f5",
   "metadata": {},
   "source": [
    "## Pixel-based tides"
   ]
  },
  {
   "cell_type": "code",
   "execution_count": 9,
   "id": "1cc505df-daf3-4592-858e-6695aa1f78b4",
   "metadata": {},
   "outputs": [
    {
     "name": "stdout",
     "output_type": "stream",
     "text": [
      "Running ensemble tide modelling\n",
      "Creating reduced resolution 5000 x 5000 metre tide modelling array\n",
      "Modelling tides using FES2014, FES2012, TPXO8-atlas-v1, TPXO9-atlas-v5, EOT20, HAMTIDE11, GOT4.10 in parallel\n"
     ]
    },
    {
     "name": "stderr",
     "output_type": "stream",
     "text": [
      "100%|██████████| 35/35 [00:19<00:00,  1.79it/s]\n"
     ]
    },
    {
     "name": "stdout",
     "output_type": "stream",
     "text": [
      "Returning low resolution tide array\n",
      "Generating ensemble tide model from point inputs\n",
      "                 weights\n",
      "tide_model              \n",
      "HAMTIDE11       0.360616\n",
      "EOT20           0.344405\n",
      "FES2014         0.341572\n",
      "TPXO9-atlas-v5  0.334541\n",
      "GOT4.10         0.329943\n",
      "TPXO8-atlas-v1  0.320947\n",
      "FES2012         0.313632\n",
      "Reducing multiple model outputs using 'mean'\n",
      "Reprojecting tides into original array\n"
     ]
    }
   ],
   "source": [
    "# Model tides into every pixel in the three-dimensional satellite\n",
    "# dataset (x by y by time). If `model` is \"ensemble\" this will model\n",
    "# tides by combining the best local tide models.\n",
    "tide_m, _ = pixel_tides_ensemble(\n",
    "        ds=satellite_ds,\n",
    "        ancillary_points=\"data/raw/tide_correlations_2017-2019.geojson\",\n",
    "        top_n=3,\n",
    "        reduce_method='mean',\n",
    "        model=tide_model,\n",
    "        directory=tide_model_dir,\n",
    "    )"
   ]
  },
  {
   "cell_type": "code",
   "execution_count": 10,
   "id": "32fcc597-9145-4f0e-bd4e-cef454d4a919",
   "metadata": {},
   "outputs": [],
   "source": [
    "## Experimental: testing ebb flow filtering\n",
    "# ebb_flow_da, tide_m_offset = pixel_ebb_flow(tide_m, offset_min=15)"
   ]
  },
  {
   "cell_type": "code",
   "execution_count": 11,
   "id": "0dcac52f-78d5-41f3-81a4-199509949a96",
   "metadata": {},
   "outputs": [],
   "source": [
    "# Set tide array pixels to nodata if the satellite data array pixels contain\n",
    "# nodata. This ensures that we ignore any tide observations where we don't\n",
    "# have matching satellite imagery\n",
    "satellite_ds[\"tide_m\"] = tide_m.where(\n",
    "    ~satellite_ds.to_array().isel(variable=0).isnull().drop(\"variable\")\n",
    ")"
   ]
  },
  {
   "cell_type": "markdown",
   "id": "e9c634b5-4195-4cee-9c34-84792debae03",
   "metadata": {},
   "source": [
    "## Pixel-based DEM creation"
   ]
  },
  {
   "cell_type": "markdown",
   "id": "d197a187-6a74-4588-95ea-678a576a269b",
   "metadata": {
    "tags": []
   },
   "source": [
    "### Flatten array from 3D to 2D and drop pixels with no correlation with tide\n",
    "Flatten array to only pixels with positive correlations between water observations and tide height. This greatly improves processing time by ensuring only a narrow strip of pixels along the coastline are analysed, rather than the entire x * y array:\n",
    "\n",
    "\n",
    "![](../data/figures/tide_array_flattening.JPG)"
   ]
  },
  {
   "cell_type": "code",
   "execution_count": 12,
   "id": "457ee569-b862-4a4c-b04e-66b39c9fa931",
   "metadata": {},
   "outputs": [
    {
     "name": "stdout",
     "output_type": "stream",
     "text": [
      "Reducing analysed pixels from 261468 to 74374 (28.44%)\n",
      "CPU times: user 1.95 s, sys: 1.21 s, total: 3.16 s\n",
      "Wall time: 3.03 s\n"
     ]
    }
   ],
   "source": [
    "%%time\n",
    "flat_ds, freq, corr = ds_to_flat(\n",
    "    satellite_ds,\n",
    "    ndwi_thresh=0.0,\n",
    "    min_freq=0.01,\n",
    "    max_freq=0.99,\n",
    "    min_correlation=0.15,\n",
    "    valid_mask=topobathy_mask,\n",
    ")"
   ]
  },
  {
   "cell_type": "markdown",
   "id": "9e57e810-d4eb-4875-bf1a-aec1487acbf1",
   "metadata": {
    "tags": []
   },
   "source": [
    "### Pixel-wise rolling median\n",
    "This function performs a rolling median calculation along the tide heights of our satellite images. \n",
    "It breaks our tide range into `windows_n` individual rolling windows, each of which covers `windows_prop_tide` of the full tidal range. \n",
    "For each window, the function returns the median of all tide heights and NDWI index values within the window, and returns an array with a new \"interval\" dimension that summarises these values from low to high tide."
   ]
  },
  {
   "cell_type": "code",
   "execution_count": 13,
   "id": "230cb5d2-2d11-4d9a-a29d-d24d2fa44c18",
   "metadata": {
    "tags": []
   },
   "outputs": [
    {
     "data": {
      "application/vnd.jupyter.widget-view+json": {
       "model_id": "5fdb78a7313b4c96b69a7fe81f26c1f2",
       "version_major": 2,
       "version_minor": 0
      },
      "text/plain": [
       "  0%|          | 0/105 [00:00<?, ?it/s]"
      ]
     },
     "metadata": {},
     "output_type": "display_data"
    },
    {
     "name": "stdout",
     "output_type": "stream",
     "text": [
      "CPU times: user 13.3 s, sys: 22.5 s, total: 35.8 s\n",
      "Wall time: 51.3 s\n"
     ]
    }
   ],
   "source": [
    "%%time\n",
    "interval_ds = pixel_rolling_median(\n",
    "    flat_ds,\n",
    "    windows_n=100,\n",
    "    window_prop_tide=0.15,\n",
    "    max_workers=None,\n",
    "    min_count=5,\n",
    ")"
   ]
  },
  {
   "cell_type": "markdown",
   "id": "baab484a-b501-4203-88de-c8c959ae701c",
   "metadata": {},
   "source": [
    "### Model intertidal elevation and uncertainty"
   ]
  },
  {
   "cell_type": "markdown",
   "id": "251168d7-3210-4b59-9436-8ae550c777b9",
   "metadata": {},
   "source": [
    "Test our workflow by plotting an example elevation extraction for a single pixel:"
   ]
  },
  {
   "cell_type": "code",
   "execution_count": 14,
   "id": "c079977e-cf56-499e-b016-819d3cd5110c",
   "metadata": {
    "tags": []
   },
   "outputs": [
    {
     "name": "stdout",
     "output_type": "stream",
     "text": [
      "Applying tidal interval interpolation to 200 intervals\n",
      "Applying rolling mean smoothing with radius 20\n"
     ]
    },
    {
     "data": {
      "image/png": "[encoded data removed]",
      "text/plain": [
       "<Figure size 640x480 with 1 Axes>"
      ]
     },
     "metadata": {},
     "output_type": "display_data"
    }
   ],
   "source": [
    "x, y = -12845.7,-1287223.4\n",
    "interval_pixel, interval_smoothed_pixel = pixel_dem_debug(\n",
    "    x,\n",
    "    y,\n",
    "    flat_ds,\n",
    "    interval_ds, \n",
    "    interp_intervals=200,\n",
    "    smooth_radius=20,\n",
    "    min_periods=5,\n",
    "    # plot_style=\"season\"\n",
    ")"
   ]
  },
  {
   "cell_type": "markdown",
   "id": "55b8f443-b35c-4380-8883-1e590fe25e9d",
   "metadata": {},
   "source": [
    "Now model our full elevation raster:"
   ]
  },
  {
   "cell_type": "code",
   "execution_count": 15,
   "id": "0a8e0556-c698-4628-b0f3-cf35e722a293",
   "metadata": {},
   "outputs": [
    {
     "name": "stdout",
     "output_type": "stream",
     "text": [
      "Applying tidal interval interpolation to 200 intervals\n",
      "Applying rolling mean smoothing with radius 20\n"
     ]
    }
   ],
   "source": [
    "# Model elevation\n",
    "flat_dem = pixel_dem(\n",
    "    interval_ds,\n",
    "    ndwi_thresh=ndwi_thresh,\n",
    "    interp_intervals=200,\n",
    "    smooth_radius=20,\n",
    "    min_periods=5,\n",
    ")"
   ]
  },
  {
   "cell_type": "code",
   "execution_count": 16,
   "id": "cec14155-eeb5-4a78-a30f-54b329e6e7e2",
   "metadata": {},
   "outputs": [],
   "source": [
    "# Model uncertainty\n",
    "low, high, uncertainty, misclassified = pixel_uncertainty(\n",
    "    flat_ds, flat_dem, ndwi_thresh, method=\"mad\"\n",
    ")\n",
    "\n",
    "# Add arrays to dataset\n",
    "flat_dem[[\"elevation_low\", \"elevation_high\", \"elevation_uncertainty\"]] = (\n",
    "    low,\n",
    "    high,\n",
    "    uncertainty,\n",
    ")"
   ]
  },
  {
   "cell_type": "markdown",
   "id": "a379f9cf-3f24-4a0f-9b37-e4b462dccb5d",
   "metadata": {},
   "source": [
    "## Unstack outputs and export"
   ]
  },
  {
   "cell_type": "code",
   "execution_count": 17,
   "id": "1f1d3490-59aa-4001-8ea9-ea46f809c944",
   "metadata": {
    "tags": []
   },
   "outputs": [],
   "source": [
    "# Combine QA layers with elevation layers\n",
    "flat_combined = xr.combine_by_coords(\n",
    "    [flat_dem,  # DEM data\n",
    "     freq,  # Frequency\n",
    "     corr,  # Correlation\n",
    "    ],\n",
    ")\n",
    "\n",
    "# Unstack elevation and uncertainty layers back into their original \n",
    "# spatial dimensions\n",
    "ds = flat_to_ds(flat_combined, satellite_ds)\n",
    "\n",
    "# Clean upper edge of intertidal zone in elevation layers \n",
    "# (likely to be inaccurate edge pixels)\n",
    "elevation_bands = [d for d in ds.data_vars if \"elevation\" in d]\n",
    "ds[elevation_bands] = clean_edge_pixels(ds[elevation_bands])"
   ]
  },
  {
   "cell_type": "code",
   "execution_count": 18,
   "id": "75b41fb9-6271-4c8a-a1d5-f4800d03f789",
   "metadata": {
    "tags": []
   },
   "outputs": [
    {
     "data": {
      "text/plain": [
       "<matplotlib.image.AxesImage at 0x7fd77c95d150>"
      ]
     },
     "execution_count": 18,
     "metadata": {},
     "output_type": "execute_result"
    },
    {
     "data": {
      "image/png": "[encoded data removed]",
      "text/plain": [
       "<Figure size 1200x300 with 8 Axes>"
      ]
     },
     "metadata": {},
     "output_type": "display_data"
    }
   ],
   "source": [
    "fix, axes = plt.subplots(1, 4, figsize=(12, 3))\n",
    "ds.elevation.plot.imshow(cmap=\"viridis\", ax=axes[0])\n",
    "ds.elevation_uncertainty.plot.imshow(cmap=\"inferno\", ax=axes[1])\n",
    "ds.qa_ndwi_corr.plot.imshow(cmap=\"RdBu\", vmin=-0.7, vmax=0.7, ax=axes[2])\n",
    "ds.qa_ndwi_freq.plot.imshow(cmap=\"Blues\", vmin=0, vmax=1, ax=axes[3])"
   ]
  },
  {
   "cell_type": "code",
   "execution_count": 21,
   "id": "87202b19-b854-4140-9bb7-ca05d324901c",
   "metadata": {
    "tags": []
   },
   "outputs": [
    {
     "data": {
      "text/html": [
       "<div style=\"width:100%;\"><div style=\"position:relative;width:100%;height:0;padding-bottom:60%;\"><span style=\"color:#565656\">Make this Notebook Trusted to load map: File -> Trust Notebook</span><iframe srcdoc=\"&lt;!DOCTYPE html&gt;\n",
       "&lt;html&gt;\n",
       "&lt;head&gt;\n",
       "    \n",
       "    &lt;meta http-equiv=&quot;content-type&quot; content=&quot;text/html; charset=UTF-8&quot; /&gt;\n",
       "    \n",
       "        &lt;script&gt;\n",
       "            L_NO_TOUCH = false;\n",
       "            L_DISABLE_3D = false;\n",
       "        &lt;/script&gt;\n",
       "    \n",
       "    &lt;style&gt;html, body {width: 100%;height: 100%;margin: 0;padding: 0;}&lt;/style&gt;\n",
       "    &lt;style&gt;#map {position:absolute;top:0;bottom:0;right:0;left:0;}&lt;/style&gt;\n",
       "    &lt;script src=&quot;https://cdn.jsdelivr.net/npm/leaflet@1.9.3/dist/leaflet.js&quot;&gt;&lt;/script&gt;\n",
       "    &lt;script src=&quot;https://code.jquery.com/jquery-3.7.1.min.js&quot;&gt;&lt;/script&gt;\n",
       "    &lt;script src=&quot;https://cdn.jsdelivr.net/npm/bootstrap@5.2.2/dist/js/bootstrap.bundle.min.js&quot;&gt;&lt;/script&gt;\n",
       "    &lt;script src=&quot;https://cdnjs.cloudflare.com/ajax/libs/Leaflet.awesome-markers/2.0.2/leaflet.awesome-markers.js&quot;&gt;&lt;/script&gt;\n",
       "    &lt;link rel=&quot;stylesheet&quot; href=&quot;https://cdn.jsdelivr.net/npm/leaflet@1.9.3/dist/leaflet.css&quot;/&gt;\n",
       "    &lt;link rel=&quot;stylesheet&quot; href=&quot;https://cdn.jsdelivr.net/npm/bootstrap@5.2.2/dist/css/bootstrap.min.css&quot;/&gt;\n",
       "    &lt;link rel=&quot;stylesheet&quot; href=&quot;https://netdna.bootstrapcdn.com/bootstrap/3.0.0/css/bootstrap.min.css&quot;/&gt;\n",
       "    &lt;link rel=&quot;stylesheet&quot; href=&quot;https://cdn.jsdelivr.net/npm/@fortawesome/fontawesome-free@6.2.0/css/all.min.css&quot;/&gt;\n",
       "    &lt;link rel=&quot;stylesheet&quot; href=&quot;https://cdnjs.cloudflare.com/ajax/libs/Leaflet.awesome-markers/2.0.2/leaflet.awesome-markers.css&quot;/&gt;\n",
       "    &lt;link rel=&quot;stylesheet&quot; href=&quot;https://cdn.jsdelivr.net/gh/python-visualization/folium/folium/templates/leaflet.awesome.rotate.min.css&quot;/&gt;\n",
       "    \n",
       "            &lt;meta name=&quot;viewport&quot; content=&quot;width=device-width,\n",
       "                initial-scale=1.0, maximum-scale=1.0, user-scalable=no&quot; /&gt;\n",
       "            &lt;style&gt;\n",
       "                #map_8da6557b425227eea3f0c58d611ddcd8 {\n",
       "                    position: relative;\n",
       "                    width: 100.0%;\n",
       "                    height: 100.0%;\n",
       "                    left: 0.0%;\n",
       "                    top: 0.0%;\n",
       "                }\n",
       "                .leaflet-container { font-size: 1rem; }\n",
       "            &lt;/style&gt;\n",
       "        \n",
       "    \n",
       "                &lt;style&gt;\n",
       "                    .leaflet-image-layer {\n",
       "                        /* old android/safari*/\n",
       "                        image-rendering: -webkit-optimize-contrast;\n",
       "                        image-rendering: crisp-edges; /* safari */\n",
       "                        image-rendering: pixelated; /* chrome */\n",
       "                        image-rendering: -moz-crisp-edges; /* firefox */\n",
       "                        image-rendering: -o-crisp-edges; /* opera */\n",
       "                        -ms-interpolation-mode: nearest-neighbor; /* ie */\n",
       "                    }\n",
       "                &lt;/style&gt;\n",
       "            \n",
       "&lt;/head&gt;\n",
       "&lt;body&gt;\n",
       "    \n",
       "    \n",
       "            &lt;div class=&quot;folium-map&quot; id=&quot;map_8da6557b425227eea3f0c58d611ddcd8&quot; &gt;&lt;/div&gt;\n",
       "        \n",
       "&lt;/body&gt;\n",
       "&lt;script&gt;\n",
       "    \n",
       "    \n",
       "            var map_8da6557b425227eea3f0c58d611ddcd8 = L.map(\n",
       "                &quot;map_8da6557b425227eea3f0c58d611ddcd8&quot;,\n",
       "                {\n",
       "                    center: [0.0, 0.0],\n",
       "                    crs: L.CRS.EPSG3857,\n",
       "                    zoom: 1,\n",
       "                    zoomControl: true,\n",
       "                    preferCanvas: false,\n",
       "                }\n",
       "            );\n",
       "\n",
       "            \n",
       "\n",
       "        \n",
       "    \n",
       "            var tile_layer_cc4054741ae2c1801efd30a75fe97a08 = L.tileLayer(\n",
       "                &quot;https://{s}.tile.openstreetmap.org/{z}/{x}/{y}.png&quot;,\n",
       "                {&quot;attribution&quot;: &quot;Data by \\u0026copy; \\u003ca target=\\&quot;_blank\\&quot; href=\\&quot;http://openstreetmap.org\\&quot;\\u003eOpenStreetMap\\u003c/a\\u003e, under \\u003ca target=\\&quot;_blank\\&quot; href=\\&quot;http://www.openstreetmap.org/copyright\\&quot;\\u003eODbL\\u003c/a\\u003e.&quot;, &quot;detectRetina&quot;: false, &quot;maxNativeZoom&quot;: 18, &quot;maxZoom&quot;: 18, &quot;minZoom&quot;: 0, &quot;noWrap&quot;: false, &quot;opacity&quot;: 1, &quot;subdomains&quot;: &quot;abc&quot;, &quot;tms&quot;: false}\n",
       "            );\n",
       "        \n",
       "    \n",
       "                tile_layer_cc4054741ae2c1801efd30a75fe97a08.addTo(map_8da6557b425227eea3f0c58d611ddcd8);\n",
       "    \n",
       "            var image_overlay_8f88272be66703eb17207ec7abe1e2b4 = L.imageOverlay(\n",
       "                &quot;data:image/png;base64,iVBORw0KGgoAAAANSUhEUgAAAh8AAAIBCAYAAADpgd06AAAgAElEQVR4nOy9zY8cWZbld+579uEe HiSTmVlVXT3d06350AACtOit1sVg/QEjdCEzQSIz0SVIAgYYzAz0PwgSoMVAwHSjKlGF6kY1pKUW RWYtBGgrbSQtNII0gNTCdA+qOj/IYLi72XvvanHfMzP3cI8PMkhGMM4PCDDC3cPdPCLodvzec88F CCGEEEIIIYQQQgghhBBCCCGEEEIIIYQQQgghhBBCCCGEEEIIIYQQQgghhBBCCCGEEEIIIYQQQggh hBBCCCGEEEIIIYQQQgghhBBCCCGEEEIIIYQQQgghhBBCCCGEEEIIIYQQQgghhBBCCCGEEEIIIYQQ QgghhBBCCCGEEEIIIYQQQgghhBBCCCGEEEIIIYQQQgghhBBCCCGEEEIIIYQQQgghhBBCCCGEEEII IYQQQgghhBBCCCGEEEIIIYQQQgghhBBCCCGEEEIIIYQQQgghhBBCCCGEEEIIIYQQQgghhBBCCCGE EEIIIYQQQgghhBBCCCGEEEIIIYQQQgghhBBCCCGEEEIIIYQQQgghhBBCCCGEEEIIIYQQQgghhBBC CCGEEEIIIYQQQgghhBBCCCGEEEIIIYQQQgghhBBCCCGEEEIIIYQQQgghhBBCCCGEEEIIIYQQQggh hBBCCCGEEEIIIYQQQgghhBBCCCGEEEIIIYQQQgghhBBCCCGEEEIIIYQQQgghhBBCCCGEEEIIIYQQ QgghhBBCCCGEEEIIIYQQQgghhBBCCCGEEEIIIYQQQgghhBBCCCGEEEIIIYQQQgghhBBCCCGEEEII IYQQQgghhBBCCCGEEEIIIYQQQgghhBBCCCGEEEIIIYQQQgghhBBCCCGEEEIIIYQQQgghhBBCCCGE EEIIIYQQQgghhBBCCCGEEEIIIYQQQgghhBBCCCGEEEIIIYQQQgghhBBCCCGEEEIIIYQQQgi52Rwt HunR4pG+7eMg5HXi3vYBEEIIMY4OHyu8B0Te9qEQ8lrhXzghhLxljg4fq9QV4D2QFIgRGgKevvg5 X6PJO0n1tg+AEEJuMw/vfaaoK6DKL8ddDzgxIULIOwrbLoQQ8pZ4eP9zRVOPwiOEjeuPDh/T+0He SSg+CCHkLXB091OF5JfgpKeEh4gAzlGAkHcSig9CCHkFjhaP9Gj+yaUFgvj88qsKpGifJwU0bd6Q AoS8g9DzQQghr8DLmEIHMeHEBEf5l5BbAsUHIYS8Akd3P1UAePrsi3NFyNHhY4WbFJyL4JgKD3FW /XACSYAqRQl596D4IISQV0S8MxES46lKyNHikQ65HY6dbkIAig9CCHnjyDREbNpyGXwgAsTsA9kh aAi56VB8EELIKyAigDiIx5BMejT/xJJKtyodg+hwW1qifM0WC7klUE0TQshLcnT4WGXWbuZ0lIkV 2dNimU6ziDstRArlfpJCVS/kKSHkpsDKByGEvARH809U6goym0HvLpAOGkhUICW450vorIG2NdQL UlPBdQHupIMs10CIQAhQVauGVFUeuU3QlHLLJVdBsvGUkHcJKmlCCLkkR3c/VfEOslig+/e+i7Co kBqH2GwKBUkK1ytcl4bLJSkkKiQkSCwfCumjCZOUgBChy6WJkKR48u1P+VpN3ilY+SCEkEvw8P7n 5ud4/z28+AcfoD90SJVAPSBp8hEV6mT4kGwqlWiCRLxAooMkhX/RmeBwAoEDYjc8HoUHeReh+CCE kAtwdPdTldkMUnnonQW6v3MPcIDvdVLVwCAyChLHagcAq4T0CRISqmcraO2t2oH8vTFa6wXY7xsh 5IZDRU0IIXs4mn9ihtK2hcxniB/eRX+3heSplOTHl1DfJ+hkhNYqHiZIXG9iwq0D/PEa6HpIiEBM QF1BKxMgslxDi2k1BDz56s/4Gk3eSVj5IISQHRwdPlZ35xA4mCMdzNDfnyPVDuqAlPM4qpMICQl+ 2Vv1wjmoHwPFUuOBpJCY4FY93PMl0AdA1UQGAEkJEr21XdZrM57GCO3DvkMj5MZD8UEIIVs8vPeZ 4u98D6mpEA9baB6HdX0CHJCSeTUkKfyyh6x7ExXIWR5NDa09XGmn9BHSR6AP0L6fxKrHQYTY1zZe qzHh6fHPLlT1ODp8rBe9LSHXBf7BEkJI5ujwsUrTIPwHf4D+0N6bVScRbh3g1gHSR6hz0NZDQgKi Wgum6yFdD3Q94D1Qeei8tZCxPL0ifYAuVzbBMg0Tm3pESgZIUmiM5wqQh/c+UwAXui0h1wn+sRJC 3jke1D/SL/tfnr/obfFIpalHY+cH7+HkH32IMHNwQeFXCc3Xa/jnK8vmKBRvh3fm20gJsuqgq9Uo LKoK0jQbt9GT5dkHNBUfJQOkhJBtb72dXM6JGHLTYNuFEPLO8WX/S/mB+4+1bIj9dfrvTp2cH97/ XPUPfhep9khthe5uje6eR6owTK94AOod5CSLj7Qj7auqTAjEaCIm5jZKCNA4ESwxDYmlAEbxUISP bt63iFgVZbidbt5uSEeNIOSmQbVMCHmn+YH/Y/11/MuN17qH9z5TfP+76L97B/1hhXDgsL7nENsy nQJUK0X9ImH22w7Vv/4rEw+F7MsYKhPigKY2ARJ3CJRJRWODs6LVy/1OKx9lCd00vj2ab4TL58hN gn+shJBbxdHhY3Xv3UP68B66Dw7Q3/VY3vfoD8WKC5qTSTvAd8DirzvM/uf/y8SGd4OAKK2Oo8PH KnVlVQrgtMDIwkOzKNm7XG6b7YyPqQiZVj/K/hcKEHKDYIINIeRWos7GZtUJYmuXScj5HbUgzgRx BnTvVZD772HwhmyJhqfHPxPtw17RUUTE02dfyMZyuO3bl9uWDyebjzVt13g/Co9yW6HuIDcHig9C yO0iL3DbfvXz6zGpVAVINRBrQT93iO8fmnm0qjZ9GJmnxz+TIRzM795U+/DeZ3p091N98u1PpXxo tPbNICyKYPEOMptB6hoALGws73kZREZu/aD4SpzD0eLRDkVDyPWDhlNCyO3DOcA5SAL8OqFaOqQK gJR4dLGlsg5IFbD8/gKLZ0vI8Qm0MxFwdPdTRZrkccRo4gQwkZAUcKPXY9dESqmEHB0+VnHVUMWQ toXOW0gfgBDw8MMf6yBQut6yQUTy8zBviIhuJKwScp2h+CCE3C7KSXuCC3kJnLc2DATDRnutgHDg kN5bwK86YLXOdyOjzwOAVBVk1kK7Dtp1l8rdeHr8MykZIxABKj8uomutJ6SrFXS1Hu736PCxis8t Gp9bMNHGh6dTOU+Xv6AiIdcOtl0IIbcL5wBVi0qv7LxcNtGqA9TDxIfk9osH+gNBd6+BznJuR2m9 OLEKCAA5mAOzFlLXLxX4tfE9IebRXYEezIC6ApLuv984pqI+ffFzebr8hRTRcTT/hK0Ycu1g5YMQ cqso0yZaO6Ta1t27oIiNIDVi7RfkUUDJhtRGsX6/hu/voVmuoS9OBsNnaZ1o35ufZL1+tQPMu13K rhiZpKE+vPeZ6sTjoTFBKr6HJDcPig9CCLnBmNF1YjydcJUtlwezjxVJ8WX3F2zjkFeG4oMQcvuo /LCZVrNtQ7O5VF0OE02AlPO5AN2hwIUG9W8WwGqVI9PHqsST3/7pK52Uy54WAJvL54qJ1VkfSNzm y7bGBKi+dm+HNA2QEh7gI6UAIa8KxQch5NZwdPdTRV0BzsF1EbF1ua2Ssz6mp9QSOKY6CJPY5DwN 74GYrnanihMzjfanJ2OO5p+ozOfjqC8A5NFe8YM39kp50HykMmuHr8U7aEqsfJArgc1CQsitwaZD 7Nzplz0kmbCIjUC9QPecVoshFcDu/S5XQVI8+fonsnMkd/kL0eUS8N6mauoacN7Mr+Ig3uHo8PGV ahCZtRBv9y0i0D5wcy65Mig+CCG3h9LKSAkSEkQxjNhaxoddvUuESLTr+w8W47baK+S8KsrT5S9E T5bQrrcLSr5H22yM/F4FwxhvRosJlpArguKDEHJrePLtTwUhDMvf/Dpa9cOfFhySABfVREcEXASg inhQIf7OfcjhAg/vf/5Gx1ifPvtCdLWC9j3EWVUCQF5od4XioKSpAkOKKvNCyFVC8UEIuV0kBVSt 8tEni1UPueqRpYRMJIVk46lfK3xnV8RZhXRvATk8xMP7n2vJ+ngTPH32hWC5gub2j647PPn6J3KV 4uDp8heiIUD7YMKDC+vIFcM/KELIreLhvc8U8xlw9xDpvQXW77d4/ns1woFA87QLALgecL3te3Ed 0D5LqF8k1M9tEsWFBPftCfDtc6DrgRiv1oB63vPIVZcnX/+Er+PkxsFpF0LIrUK7DuK97U1JCRJ1 eBtmW24BqC2WA8SqIl6Rchpq9ZvnkJMV9O7CYtAXB1CcAJ1N02xsrn2NUHSQmwzbLoSQ24Vz4/bY svV+ajTNC+XUmwBJdc4AqYEwdwgfHFrCaR+Q5jXi/QVw99A20Yrg4b3PdJrZQQg5DSsfhJDbh9hW W1QOcWaTIqXdUt6SqeTPPZBqyTkfQHe/gf+7vwNERZrVSI1D5Rx810P1RfaUJGuLeG8jsZqAEFit ICTDygch5Pbh8n4XL+gPnVU38ritymTyRcfk00JqBKvfWSDcnyPVDrH16O826H/3fejvfc8WzHlv Y7CzGeTwAHjvLmSxwJs0phJynWHlgxBy+xCBVh6p9bZQrpIN+71ojlbXcdOtOgACu+3cITUOfllG dcVGcA8qVPMa1V9/bSbUypuvBIAu5pDV6i09YUKuF6x8EEJuDQ+ajxRi4Vza1IitR/LjfheLU8cQ rQ4gb7YdvR8Wx+4Q5g6pdaie95j9f8/gV5az0R/WCN+/D33/HnQxt+2z3pkIaZorTyIl5CbCygch 5PaQ2y3SNkitRzhwiO3E71HYIQ+SFyQPW3kPwAWbgIkHFbRZINYO6sVSU71DmlWQPkIAm6xZdxYO dsVppITcRCg+CCG3j8ojtRX6AwfNLRcVWOtlK2BsVxrSdNdLbE25pNr+rU4Cqm+WkG+PgRCgfQ/t etuPogr0/Wt9aoTcBCg+CCG3C2eTLqn16OcyVD1EJ52W7PlwZY1K1OHzKZITzVUA1ye4qGj+6mv8 6v/+rzjVQsgZUHwQQm4PSW0rrSqSlw2vB0rWWPZ9iAK+V7iuiJGxJCJJc/VDcyCZQ30SUP/mBdJv /vYtPDFCbhYUH4SQW4dWHlqVQA/7KG2UcplEq2hIMn9HwUXYtIzTDUGCqJBnL6Dc/krIuXDahRBy a/iy+wsphlF1ebJFtiZcpp6PsmguC5DphxlLBb6ziHYXErTvAWHHhZDzYOWDEHLrkJis0pFydSOL kKn/AwAkAL7Toc0CYNx8mxTqBMkL3LQlw2kWQs6F4oMQcmt4MPtYpaqgs8ZyOmrYJluMS+UkAcgB Yy5stlyA8TYbbRpCyKVg24UQQl4WMbOpOoE6gcxngBMcLR4xSIyQM6D4IITcGkQEqCusv38H67sO cW4TL6nK+1uyXUMiIKo2Yps/ygSMfT5qC60s8VRrh3RvAYjD0xc/p/GDkDOg+CCE3AoezD5WOAdp GvR3PMI8XzExlU4NpxLHj4IkhUTAL9Ow92VqUNXaQ9oxQv1o/gkrIITsgJ4PQsg7y4PZxypl+sR7 iPfQ9+4gzOx9lwR7B5Y8hrdipcJRPCCpzpHsWXgUo6kZVC0S1fUKFNNpXQMw4fF0+YudFZByXPuu J+Rdh3/4hJB3jmIsFe+HfS4QB1QVVn/0B3jxvRqxsYVysRUznbpprgfgOkXzXNG8SHC9CQ7dMcgi AaiWEdXzDpIU/jffQr99hidf/+TM19ej+ScK5wBvm28BQLvexoEJecdh24UQ8k5xNP9EpWkgTQO0 rX3UDVBVkMUcqRa4oKhWimoJVCcKvypVDQwjt2WixWLWrbqhIoi1jdeqiI3iriL8Mtj4bkgmJuT8 l9any1+ItC2kqSGzFlJXgHKEhtwOKD4IIe8Mg/BoG8jhArKYQ+Yz+7ptkO4eAMix6XmMdhAhy4kA QW6/5M9TJfnDWi2psp0w6gGtHFLjod5B+ghcJuHUOyBGPPntnwqS4sv+l6x6kFsBxQch5J2gCA/M Z8B3P0D64C70YAZtG+gsf9QeEhR+rfC9olqbCPGdCZD6haI6sQ+/LjtccphYLXmkdnzMIkRSlX0h yzV0tQZixNHdT883m6oC3uPh/c9Vld5Ucnug4ZQQ8m7gPdDUCH//+1BvCsGvPGTdQ8KoGCw0LEGC AA5wvSA2Mng9AKt4+HU2kpYI9qRwEUgiYyKqR0lrh/TJqh658iEXiVnvg4klEUjasTaXkHcUVj4I ITeeUvUI//7vobvXICwqxNYhth5a2xK5skjOhQQXFL5L8KuE6iSifpFQHyf7N39eLe120yTTaVsG yJ6QsJV26j1QV0NFY+8x3/1U0dSQ2j4IuU2w8kEIufnUNeI/+n107zWIrTMvRy4kqHe2fTaXKCQo JC9vcX0yn8ZwuzR8DidItUOqBOIcbDhQT8WqW1sGQOWgTQ1JCjgTOpoSHr7/J3rKB+LERn8PF9DK Q45PXsdPhZBrC8UHIeRGc7R4pPK9D9G91yK2znI5xEyibm1CQn0awsKkj3Dl33WArHogRkjIIqTy QNtAKwdXe6gTxIPaTKaVg8TcbvEy+EHUm1DB3Tlc5YEQAVVITNCUix9Nrm4kBZxA6hraNpB1h/T8 GE+Pf0azKbk1UHwQQm423iN85y5ia6bQ5AFAkBoHvNi8qUSFhACsA9TZdIo8O8av/u2/FMDaN+6D 9+265OCeL6HewT/3SIsW4bABZh4pV0EgyB9mRoVzZmoFIMdLIITNxxeBBivJKAB5ASAECg9y66Dn gxByo3GHC4RFBfXj+GvyQGwEcTYJGVMFUoJ0AfJiBff8BPLtKDwAy95ASpAQIcs1sO4gy7WZVrsA f9LDdeYFcb1CirZQm4opLRxZ90DfQ0M0AaIJCAHa99AQ8OSrP5Mnf/Pfih4fI71gy4XcPlj5IITc bGatGUrzW6kyDisJ6O9UthhuBQsA6wPkZAV99hyYz8aWSObh+39iqaPrDogRGhPEO0AVLiVI38J1 EanxCIfNEL1evQiovj6xlgoArDuU0VkNAU+ffbGzsqF9GMdlCLlFUHwQQm4s24vbkoctfMux6QCw fq+GBIVbBUgfoOsOGoK1X7Z48tWfCb7avOzhd/9ThSpwsgSWKzgRuLaB/6YB6sqSTtcdpOsH8aEh AJ15SfYJD0JuM/xPQQi5sRzNP1H5/d/F8u9/gH7hzPdRCXTyyuaCol4q2q971F8tISdra6kA1gpZ dyY6LsnDe5+pHMxtkVxKw34WANDV+syKx/Zz4II5ctvgHzwh5Ebz8B/+C13+gw83xEeaLICz8DAT IPVxRPW8hz/prA2z7iCrDrpa4clv/tXe18MHzUfq7t2xCZUQgfUaT779qTz88McqdQ2IWPtEZLhe Y6SRlJA9sO1CCLnRDCOyg+cDJZJj+DpVgn4OSHJAqqCNg/QJEhq4kx7upMYPq/9cte+BPuDJtz/d EA3u3h3gO+8j1aZq3N8+w0P3uUIEqmoPp2rm0sjlcIScB8UHIeRms1pvfDmEgOnm15KAWAtkZomn Uie4qEjzCu6ghqRDuKWJjx/e/6eqL07Gash33kd4fwF1MoSIuRjN2xGCPVRSm2pJCu5pIeRsWBIk hNxYjhaP1N27ixd/9PsIcwsYS+UtVd5Kax+2l0WSmkE0G0NL8JgLCglpvO06wq0C3LoHVNF97w76 Q7tj1yf4LqH5m+fAb76yasfW1IzmsV4NAV+u/pyvs4RswZwPQgghhLxR2HYhhNxsqmqocACbm2mh Ct9vVjm0GrNAtCm3FUhyFhQWATfzkEWFallDnaA/rBAO7PqyMTfNGjjZfP+23W4R70EIOQ0rH4SQ m4vIxojr2GYBXK+oljmJNAuPVEk2oNrnsRGEmUN/4BDmgjC3iZkwd4gzj/5Ojf6OCY9URIu3j7io IdUoLk75PJwDRPBg9jENIIRsQfFBCLmRHB0+tjTSlOC6lKsWk4+kFrVe286XMJMN0RGbPJZbmRix ry2crHyEuUN/6AcfSXkMANDaAfMZkKsfInLqA85BmuZUGBohtx22XQghN4qjxaONE7mmNLRLUNm2 WQCI+d9UASqTVsv2SG65H9htXDADqlU48ve7yRRNRpJC29q21XYYJl02biP2AFrXOALDxAgp8D8C IeTacTT/RDH1S2y3NEpVQQSYz5D+7vew+s4M3V2P2IwiYxAbMoqOjbvJgkIdbDpGzRtSrXRo35T7 cAHwncJ1ChcU1XGP6vka7ptj6IuTMd9D9+R85BFcxq0TwsoHIeQ64v1g1ixjq/uQugZUh9ZKbPJm 20qGt1e643Q/NalC7DaSAAcd8jymFQ9JgESF69PYenEOOmsh6w4qE/FRxFLScatu7SFO8PDgP1Os 13jy9U8oQsitheKDEHI9KZWPEFC8HadwYlUQYPBvqM+tlywoStqp+rH6sd1CsQvtH5Wx2lEqHyX/ w68VvkuQPsGvI6SIjKqCeItXR4zQlFswkgBxthl3PkP4zl1ITEACfnjvn2r6d78BWzHkNkLxQQi5 fuT00OKZAGACZBtxgHfQyqZUBuEBWBsl/wsASJPWi0w+crsFubLhuxw6NpmckaTwK4XrEvwy2F4Y ANJHSB/G3S75OEVz1UQqu65tED+4gzSvgAS4dUB8/y58TMBfXfHPjpAbAKddCCHXjqfLXwhSOjOm 3KZJsqHTyTDFom7SZinFh1A8G4Dr7Wtro8CqGStF/ULRHCuqlWbTqYkQ1yuqkwS/inAxDcJDK4fU VCY6VKFdD113QIzj8RVPyr0FUluZ6bWaCCrPl2ByO2HlgxByfUlpZ8VDRKwt47xtkq3dMJUCmHAo LRGJGMQEkBfN+XybXNWQBItfj2UhTP6+3jwefp0garHrQBYelYPPQqQIDsA8KoPwcA5aVwh3Wmht IWWICokJ/m/+Fr/6t/+SLRdyK6H4IIRcO44OH5sK2BIeg+gAzGdReeisQZhXg2FUUq5m9Pl7kg5V jCI2sD08k/e+2O3zZSHZ90QFHPIW3NEsorWDdgKtPKSqrNWSBU/ZdAsR6Lyx2zqB6xLcqof/2+dI X39zpT8zQm4SFB+EkGvFEB42YWixiAMqe9mSxjI24r05YisQtRFZJMD3JkBcyBomt09clyy/w9nt JSmQJqJEAAmaBUoOKnMCVZt+kZCglQmJgraW0S4pAV0/Xu4AqTziQZ2PIcE/X0FO1tDnxzSaklsN G46EkGvD0d1PVbzfkRQqg7lUmnoQHjprEA5qhJkzn0dun7jehMfwkYWHTa8IMGSA2Plf1NorbhVt u21MQyXE5ckWtwrm7yjjtn2CWwdIHyAhWuslRZvOCdbjGYWJovp6CTlZQ14sgRiZekpuNax8EEKu BUeLRzo1kW7gzdshbWuJogC0qZEWLVLjJuOwFgTmO0W1LGIjVz6iInnZeMtlLZkiJiLgZPR9lNHe lP0jxUPSRyAl1CcdZLm2akcI0L7Hk9/+qQDAw3ufqUiD1FZwXYT7ZjmGkOWqDisf5DZD8UEIuR54 D+zaApuzPKRtgbaBtjW0sZeuOKsG4VGtxhZLtUyolhGSFLH1li4qthAOaRQdfhWtylEERx+BYutw GIVHISokRqBXG7FdrqCrNZ589WcbQuLJtz+VH975JwoRSBcgJysAJpj08AA4WV7pj46QmwbFByHk rbNR9ZDcYiktkaqyFktTQ+sK2nqk1l66tHI2qRJ0Y9LFBYVfBmur1HZfiuIBMS+HXwarYhQmwWOi CpSriviIar6OlIXHujt3WmUwqMacetrUNl7LEVtyy6H4IIS8FYb9LWVHy1RszFq7kdg0ibYN0kFt WRnZMGrXj22Vcpnr1UyjIQFVPskna7u4Lvs5evN2YBpiti/CXWSseASrlKAP0PX67CdYDKgio9gQ AfqwYUwl5DZC8UEIeaM8mH2skj0cG8LDe9vTUlWWj1F5Sy/1HvFOi9R6qLcwsQ0UQ0XDDKcKF0dh 4aJVOtw6wp10w7dJ1DENtbBDf4gmExIT4YEQRg/HPpyDhGjPwzloFiDS9UjZkErIbYWGJ0LIG+No 8Si7NifCo64g87m1VrwbqxF1ZWOtTYU4q5Bqh1TLxpirbK2wt6kW83q4Prc6cvT5VHhMKx6aP5dS +Zh6PFJeaqcWDIaQp1lUoTEBfbdzQdzR4pG69+9bxSMmIAsQpAR9fjwYUwm5rbDyQQh57WxUO4BR eDQ18N5dpMO5XV4EQE4IVS9IjUeq3fBWaQgDm2gEiRYGZsFgo4hwy97uM6bxvt2kBYKJoXRIRJ2I kMHvkcavc5iYeAe0h3jof6zbYkKqCjpvzRsyVDkidLWyygkhtxyKD0LIa+NB85FKXQ2VjoJ4Z22W wwXS4RxxXsP1ERKw0QpRPwZ6qZdBcAzTKYC1XXKVwy/7oXUifQT6AOn6zRaJd6cj23N1Q/MYLyHk 9ULxQQghGel6a7WUKkcWJYBFpiPpmENSVUBlPpWHH/5YkdSCxpxADg/NKFv5vFlXoccvgBjx5Nuf suVCbj0UH4SQK+Vo/slmPPqk6jGYS9sWcjBHWsyhXuC6cNoAOjVpJgVyt0KSblU+FC4kyDpCVK3i kRNHZTVumYXLFY9pFSSmSWslbtznIDY0bVxuS2ScbbDtxW5TVRDnclaJgx7MoN7bhExM0NUaiNF8 IoQQig9CyNXwoPlISztlYFt0iIMczKGHB0jzxlopfdy47S6KpwPAxt6Vch2yz0P6CKwteVS7HlqE g/fm7UjJji9MhEaMo9iYUsTIqcsTht5OCUBzNTBrbbIFyFkga8iqM59HtHwQ9ByxJQSg+CCEXAHb 47NTNoTHrIUu5kgHtmIeKHHlAJAgcFb9ELFdLU42J1qSWnUjZiFR/B2lPdL1JjzW60mcuVjVIQeX TRNLB8GxNTUzVDu2J1+m16UxiEzFxmolJWu2lm8AACAASURBVGDdWYXDCTSEvPNFoTEyUp2QDMUH Ie8QD+ofKWQ8+WvfbVz/a/3vr/zk92D2sU5X3YtsPUTJ8JjNoIcHiPfm0NomWPxJvzNbY2CobuTK RtECWXjIJBhM1sEqDV1/ulqhCiAB0YTCRitl++szjqPcTmOCdh2+XP358GQffvhjRYzQPkBKVLwm EyIp4enxzyg8CMlQfBByg9gWFzuXsE2QtoX2wbatvo7jaT7SqdjYuRhOHOTgAHrnAKmtERe1rbSf VBskJWhepmLVD0BUxnjyyZK3cnvoxPsRImS1hnbdaSFRTKLDSO3Wz2L76/PI7ZOp8ACAJ7/9Uzla PNKh7RRj9o2kTT8JIYTig5DrximBAewVGaeqDLtu09QAamgIeIAf6Zf9L6/uHXg5Lu83hUc5fieQ uoYezJDaGuFeizDzcFk0pMbDneRRWOdOZXAU0SGT7A4JY26HFO9GiCY8sn/jVBtl++uznss206rH ee2TfNxjO8eEB9sthGzC/xCEXBPOq2pcRGjY95V9JsnCsIoPIyXzIGQ0KX4d//KlXwM22i1b+1kg ziZA2gY6b6HzBnHRonuvGbbFVqsI1yVUX5/Y8VQOWptvRJ2M22ZVx6VufTDBkZNGtYiPFPMOlnPa J2e1V7YF347v05jw9NkXO39m0101AzHi6YufX8nr7NHikV7VfRHytuEfMiFviQf1j7KhYX+V40zB ccZ0yEBKm7fbEiCAiRCprQi63UrYxzDZksdLh+PMxlJUFWQxh7YNUHmkeY1wp0F/WNmobFD4dYI/ 6eG/Xdq0yawexMdmSyVBYoSse6DroX0/VjiA/WbR4Tnntsv0dtOvz2ldDXd7hvAAgKPDx7r9Oznr 9hdhiKMHTOTRO0LeEfhHTMgbYhAbwJmCA9gjOi4iNrbZFh+AtSfEDYKj3E63Jju+7P5i7+vDUPWo 683jdQLUDeRgBp21QOWhtUe406K/WyHVAtcr/CpZ1ePbJeQkb4f1HtpWQ5XGjgNjxWO5tmwNTZut lanYuEh7BTg9VjtBdrROzjvhT70eIrLh9bhsy2V7/82pY7rCagohbwt6Pgh5AzxoPtp9titr5E9N iLyE0Nh5/6fvR5pm5+2GI0gJ2Nr2+qD5SPeJke1RWsxn0FmzsZsltrYUTiJs82yX4I87SMi+jbVN 5Uj+Xi0n3WIszaFhO4XHDsGxKaQmC+aKsFG90nbIRvXniu6rPIepsBMILiavCLneUHwQ8hr5gfxj lXrXyX6H6LgqwXEWFzlB5nfwR4tHWioQOysFGymmDrI4gM5b20brzL+htUOa20ZawALCfJfgl72l fwbbv6JdB12tIS9OIB++b1tgc7opQrTKzCTqfPM4ijl1UlianLyHmHTnXkvV4OmLn8vR4pFq2dTr HSTBBJQqjuaf6IWrH9uTQ4XSzgIgfvubCLl5sHRHyGvgB/KPhzOh1M3+tsp1ERyFXceT2wfbu01K loV4B5nPoYs50NR20vWCNK9tMVwl6A+q0Wi6jKi+XcN1YUwjXa+H7a9yeGgCJqeFSojAcmVelV2R 58Nx7q4JnKqCAFc+gXK0eKSnfs7TiRfg3Mcb7qOYd4FNA+9UZHFHDLnhvIFXPkJuOVsG0nOFxz6x cBkRkVfSv7LwKJd7DylCY/ocADsxto3tYsnCA4DtWukjEHO1Y5VswqVPm/dddqJUFVBV5utYriDH J5DnL6DHJ2YyLWmheUdK+UDS02bSyYeIjMednwfqetPM+Qo8mH28+37Kzz//XI/mnwy32/78aP6J lurMTuExJYe2Pbz3GTsw5MZC5UzIFbOv6vFSouMMY+S5vIwH4axKTKkaTI/Je0hVQe7dsZFa7wEv gwhRJ9Z+KT+DZIvfXBdtiqUPkD4AfTBxUXasTPM6SkoodphBsb89cfq5bU28xGiZHa84PTJEy9vB 7L5Raf2chXPj9zsHqarxuAvl+vKzYQWE3FD4R0vIFTEVHQVp25evdACXFx/Tk9N5913Ml5dp/Wyf QPNJchAfTbVhFrUYdT+c+CUmEx4pZ3iU7bOpTIdkX0cIp9ssZ02y7GpPTJ9/2esy+XloTHa/IVh4 2EtMkgxTP+f9brfFx/btd3h/bJqo2n2bifiYHvfR3U+1+F1edcyXkNcJDaeEXAHTgDANtrnUta1d ub1e/nUhO06653FZz8l0DLagW0bQMinTKwRx6O1Oo9KHDI9sKlWPDY+EBA/RxnI9Sjz5rlyPQXRs toHE5yqC9zbuW1n4l5bbbjxWhC5XkK4HRHB091NF35/r0djbbtkh0HYKjzPMxoNISjoabzdvYE1z FTO3yqS65gSIlxSthLxhKD4IeUU2kkmdQJoGZ74bvgzTE+VVU06I28e57/LCRZ6XCHQ2vrxISOb/ 2EInkerjkjgPrSurijS1LZUru1HSngqC3xR4WgLQROy60q7xAok6nKyH51tXwDfP7dvzfWC5+6lN Rcfwe55UOEpLaBrYNvV4lGPcOP6Nq7Y0T0zmh9km76SZtl2efPtTeXj/c72KsV9CXicUH4S8Klul /r0v/K/7hHCRVssudnkRLiichucak4kF74HaTvKADCd5B+wUH1N08phSBIFqnnqp87HuEWLb1YGJ 2Dj1OFuXqXMQ9ZCDme2ICQHogIf3PlPtujGiHji7XTJhZ1LstOIxfa47A+Vk/LvaNqACg8n2ydc/ 2XkAZ4WoEXIdoPgg5BXZFb51dPj4Zr76X6JaM20NpK++hvvOBxannlEnueJh8egbFZxToWqbX6pz wwZbAKdCz85CL/ocHMb2T+zHy4dxYpuKkfOMoltcNKIe2GGWHa5wuWIzaSEBw89Qc9TY0eFjPWWY 3a4OEXINofgg5Iq5qhHOgW0T6UWZLJi71O0vSHl3/fTZF3J0+FgRE0R1SOCUpJCkcHkni4QIbWoL EBsec89xpJTLJTs8Hfbgo8ioHFRgrRYAcDJM12wjuWIgMdnnUMi6N79HiNCu38gQEZGLixme8Am5 MBQfhFw1r6u9csYorsZo+RXbXoaL8IrelKPDxyp1Ze/UU7INtEgmAKJCKwd3YkmmqDygbohe3ziG d/jk/XT5C9neentmnkeJq/du2Bo8iM+yGNBv7efJcPSW3AQoPggh14OpCHJlCmb3RIiWDBHv7DaC /PWe8272ikiChZw5AWKyttC6H0Z+h3ZLUiAFMxDv0ER74+bjbl/LNL0UmEyl7Pw5mM9DvBsW99mo MoaqkSCY33Rfpgkh1xwqZEKumDfm99hzohsSQ3eFgl3lttxy395D2gZS18CshTa1TatkIaDOQfoI WY3ba8tJdBALzu0WDhMRoqWd4s3Iqk6gVbk8H852jL2Oky0SFaLWenGdjfu6dYBb9ZBlZ1M1KQ1C RPt+//ZcYP9Cu+kiu63nMRzXKYPsxLScR4Slrm1XTq4KSUz2c40Rsurs+GIEYoKGMOR6lL+/Vw1P I+R1wsoHIVfIpYXHZX0Z24JjelJLaSjvT4OyigdlV3jWSwmlra2w5f41ROD4BNI2QDlpOgFqb/6N pt64G5X8bn6f7wMT0VE7qAhSJYOnQ90oNnRr2Zo6gSSFTt5f2ZgtciXDwXUJqbWXQJcABYZldxIT JJ/0x5yRSfZG+aatVonIZEolKZByRWXflM72REsJQ3POpn2aGlo5y+0oItJJXsiXTbJbooiig9wE KD4IuSIuZDSdio0dbYa9ImRXlWPyPduBWBu5EruuP3ysr1LxmAoZ7QMkBMui8B7a9/Z1jhwX56Bt bV+Xd/zblQFYZUK9tSaKgVQrq4gMHztExz5z6e7LFYDdR6rEcrpqD22tEqIOdpx9MNkSoy22c85E SNIc7jVRTWXbbOWhiznSewvEWQWJiupvj4GvvrFR5KGtg03RMal6SKlaeQetvAk0EaASaA5pk2mu CCE3FIoPQq6KfSeEXSf5y5z497VXtralngqyykyFx1DpeEmT6a531V92fyFHs09VYPtZtrMnHsw+ Vne4gNw5tMyOsgelHMPWsaggx7I7pCZXQFyuepTb5LuYtlwuhgBQ0w6VCQrNIkArAeAgISHVLaSv hkoI1CZkAIytmXLsOdBM2xrhvQOEOzVSJUi1wN1v0P72ANW/+wa6Wo+/S++tSlJGk7MfRL0bp4Em S/qgChkMp7k6IwIVEytyVvQ8IdcQig9CXhdXkXC6T3hk9gmP86LBB3/A3U8vddY6WjzS7fbNsN8k 6c5Jiy9Xfy4PD/5kU/QMY7H2z4b3YyI8hkqH3yM8Jo+2S4RMv8/aLWpx5M5ESKoFkgRxUQMpj+LW OedDK7h1sO28kxFi9AHIyfmoPLQc86xCPKgQ5g6xyWJJgDA/QPXBDPVJgPR5tw1gU0ExWuy85EA2 h03/i+SslJCGceWNlkthn3mVkGsKxQchV8TT45/ZOGU5wU7e5b7R4zhHeACTCshlFsvtWbr25erP 5WH7me4b8Xww+1jlYG5Vj2nc+fREO2m1pNrtbbEUpi2VU2ZT2bx8isRReAAyCBGFABv3D4gCqfHw dYBb5SV3UTe8K1p786N4hzTziK2zqkeufIz355CaGi4okCduqpMAt8TmFI8IUOWfQe0gfYLvowmP 4xPz1Wxv5wXOXrpHyDWE4oOQ102M5wuQl8i42Ccy9rVfgCyQcvXisgJk37bXo7uf6llx3tI0Zp70 eWcLALh84va51eAEqXYbI7NFeKjHcDlgwiD504KkXDd+vilQXBgFh0QAVfl+l0PLSvUlG1ajVUlS JfC1h1tbvsa0xZFqD80VmpRHfqWk3CcdBFQRIuoErldoGoPQdKtdV6oepUoiIQHPji32XQTYLoYl ZZw6uXFQfBByhQxtkMumnO4ynKqemmZ5mWM5dXkWEUWIQORsAXKBxz1vkZlupZpqUyG11SA4RjEx /js9YReRkfx0rBaTKsfW5dvHl0XEIEKqMb9D4igYymOpE2gjORdEkBoHN/fw67FlAi+I9dgiGcSL Ar5TxNYqLJJyy0dMmUhUuL5s9ZVhMqdsopVgOSQSE2QdgXWXR2qziC3x79MR4Hc4oI28m1B8EHIO P/B/PG4x3ZdGWa7ft832HO/GKbw/d6x2Hxdpuwy3LeOyh491rwC5SPqoEzy8/7kCOGU4ffrsC/nh h/9Mtak3hUfjTEx4OVV1UD8KDfWCNPF52L/56+Hy04c0DQebXp+qPIbrANfDqioiG16SWFomguwL Ufi1eUSKN0R0nL4djj8BvkuIjbMKR96iC5Exbr5PFnS2zUTEFOEh6w7yYjlWNpJmIWJfMs2U3FQo PgjZw5miYzvM6owV6S/FWWJlSwhM2yxnCY9yu5232TH6ehGODh+b2dR7SNOYJ+EsnENqK8SZt0pE NWk/TE7+pUpRRmLTVGRMD7PYN7aYCo+h8lAOIUxD10ZxUY4j1mOrpIgL343VGbtPq2j4Tje+d9qS kTTeTlICBHBrNa9HFy2/A9ZeGfBZeIQE6YP5PEqYmDhAkwmRPf4bQm4K/OMlZIuLio5zBYcILr0M 7oIMFYuzBMUWZ4mUvbkfZ1U8SlS4d5A7d8zXsVxBX5wM78jL/cr3PoTOWqSDGnFRIzbT/A67O/NN FPGRKxDNlq9jIjaKKXS4Kns5JI0CwwX7vIiPqYEVsMqFzy2QUh2JtSA2uf2SPRwujMKifL8L1j5x oTy+bgobWEXFvCMmUPw6oTrp4U46pINm2Pw7TMAAQBEez46hXTeGlA3VFR2TVMFQMXIz4R8tufVM xUbhQqKjcJlqx66T+WWrJZMk03LReeJjYwoH2GuAnT63i5gYS9UDH7xnYuub59CTk41KijQN8N0P oLMa8aBBnOeWSz3xV7hRfNi0CJCarWqDbp787QsTDxJHoWHVCLva9RalXkRBnLlhBHaaGwKMbR6b VCkBZvYYdt/Ioijfd7DKh+snVZAiPhwgQQfTql8FM5t2cax0eBMeSMlaOUVQhByfvlzaErksNnb+ bihAyA2FbRfyxnjQfKSAhVK97WPZh0xPbBPhsdfL8ZbYFh5H80/0TAHi/WZrZVdbR8SqF+Lyu+0E 8X6nCJluZJVZa2vnd+yQEe8hiwObanGWWDqKjk0DafLW6ogNxspDabMo4OLYBiktDb8GqtVo6izV iCICfJdQPe+GNoframglCHOf98OM1ZDhmOryYdeXx0qViY9p9SVVJbJ9fLxy+fCjXwVUX59YPkhJ eRUxkdEHm/YBLMQs2litBtvZMvw4vRsMppxsIe8C1/YkQMjrZmd7xb6wf914Aj2TciK+yEnhZSsf 2y2ccj/FmLpjWubp8hcyTN2cVa3J3yPem/ioKnvH3YeNUv9OvIccLmwBmirwzXNgvbZ36t5B5nNg PoPOGqS2RjxsEA5yiFg9VhrKv3F2WngUcSIht1nU2ivVUlGtR+FR/BWuV/i1PafqeQ/XRxuJrRy0 spHeksNRMjl0UnGJDRDbccTXdfZY08qHtWHsw6+t3VKtEvzSvB2xcZCkqFZW6ai+PoE8e2HppeV3 VjbpZoqXY1hmpznO3Xts7G+ZjtaW3/eWKVhDOFUp+XL153y9J9cG/jGSN8KD5iMV76Ah4Mv+l2/9 7+4H/o+1CA5NurPNstPT8apCYxcvIz7Oesxyf9Njna5z9w4QB5m1lr1xfDyKiyI+kgJ9l+9nGp6R xsuc2CbbLC4QE+RkZe0C5yEHszHbo/JITWWej5mJj9hK9nWUk74gHNjncFYJGZbOqU2mFF+HXyuq 1ba5c/R3+HUaxlnLzpiN9k6dWzv1aG5N3kRHajEYXAGgWgHVyejtSFv1Yt+pCaGVtU8g9iFBUT/v rdWyCnDfHtvvwjsgRGjXb4qK7Q26Zax2myxKtlsxdhd2mYZw+u8Cl5uEIuR1wrYLeSNIXdkLoFzg RPua2fZ4bAiPUu3YbrNsVw4uI0Jehenj7ppGKY+/LU72fJ+IAHVjrZJZYyOglYcuV4O/AMmqFpp2 ZEpMFqJJVQFtM7QN4B103to7mspD22ZoMYzBWRHOSW5buImHwsSAjbAK0nSqRUcjqV8rXG8nfCAH dEm+EUobRKFzB8wnP6YiPAQb1Rb19hEbgU7bKuVxk4mXInbCTGzJW27XDAmpThFmWdypVV8EavfR 28jsr/7f/0YA4Id/75/lEo0Aydnm26nIKMID2J1mOv1dTnEC2fV+cvK3fBmDMiGvE4oP8to5WjxS pDwiqBesBrwmdplLAVxOeBTOEx7nbao9i4uOvW6Lju2Np3uqKjprxgVmYr4NdG5jVFbqSYx4TOPv znu7rq5yOmmpFjlLDZ2348K1qfDJ7+zdOkCCg+stRtz1grDwJgTWxVCxuTDOdbnCsCqpoVvv+IfI 9HFUN5bDdzbBMuyRyQJkaO0U34dM2jqT9o4kwEWrqlRru/8w33h425AbrWLiex3uw3UBcrLGk//z vxwOuFSCRMSmWVTw5Ks/lYff+U90OMAp24FiGH0fU+/NeDC7Zo/z30luzxzNP1G2YsjbhH945LXy YPaxivdAStCYro3Z9EHzkW60VoDT7YrpZShXCbT05S/DywiQy+6EmVZBCpPjN1ElQNtC5jPowQyy slFOCwBzkNUa6PosJCbbVfMyM1W1ikddWUWj8pu3HdbOW3WkHMvG4ri810W9ZX6otwTRcOAQZm5o wwxejzR+ANiqOiAHko1TMKWaMaSi1vl8Ph2S2fq6VDmGx1PzmPiuTMwAzQvzkoS5Q3eYzagx3ybq YEJ1EahOEqqTiPrbFfxXx/jVv/mvh6qH5t0w0puvZhinnf4Op0yrT/l2Z4oPANqH3X8PO3xDrIKQ twErH+T1k6se10Z41D86/Qq/LTz2VQzKu8fLJpZeJCX0KthVMSk+EGdjseKc+TNeLKFNPY6wzmo7 IeYt75oFRqliiCqk7BdRNeGhunnicw5mfMBp4ZGPRQCgB8TZzzC1FVyXUEeFXynCgRuCvrZ3tZTR V+R00VQBYW4tExVsVDGGfJDy+fTHP+1Kbf8qxW4rMftFBIgt0KvABZu4KcKn+DtUAC3JqXlsVpLa /pq5rcAdKhu5TaWorFXS99AcILb5eytqZtM4el6UPSE3gbffgCe3g9u6dXMqOJw7/XGVbFc8nBta SCIy+G00Zb9BTJCuN0EQrJqjdWXVibwIDnU1fu7dOLKLPBoK2FRMRr3kTa9+CBEbDi+WCY3JIefI 8fEOFK4bszo2P/RUFQQC82rUQJwBYQaEORDnOlz/LiIie6sekxvt9yoBp3wghLxJWPkgr40Hs49V RK5V1WNg+wW7VAcuGjN+0ZbI9Ha7qiVn+UJeJvK8TLSUFgsmJ2pNw04QXeXbRNlYEf8ukWpg3Bgn 9qPcOs1KwkbLxW47uUytopF8uS/7+cZm8jjVaFouW2slmhCL8woSWzz8h/9CZbm2vJPGzNcW0OaA ugbieuvgR4/Hk9/arpyH9z/Xp8++kLJDZ8p0n87D+5/rRUPHyij2uTkxhFwxrHyQ10eMOQb6mr2x usjEzW3bEioCWXbWdslCTOsKqa2hs8omWUobZmoi3Wdu3CGahipI5aCtR5rV5vlwMrQuhu+b2hTc VhqpjB+lCpKKz6NSaKU5JMxaJoN/s0yvDFMsyEviJnedr6tWNlkDjKFjYS7oD81sWrbujqFo4wju EMOex3tT44Gmhh7M8nSQbEwAlTbMBluj30Vw7BIeVwUrIORNQvFByJvgPI/IRVowF2zXTKseJQ9C VW1iJamZHE+WSC9OLJOjtF6K8BgmI/IdqiLNa2gZz82tmXIdALsPjLc/NYHjHNR7aFMhzutBeMQ2 B455sRAwn9soOQJdPYZMjtjYiT/MRhOpBMAvLel027uhzu5LKwBiW2gl2vdIGCdZBjFSskJ6oH6u aI5trFei3aaknw6GWL+ZhArkhNVJxEYx02pjJt00q5CaahRZpXW1q3Xixt/jk69/IpcZUz86fHwh ITEsp8u/IwoQ8qZg24W8Nr7sfykP8CO9DqFiF+Z1mPkua04tnDUyu8/AmsZwKlWFrtb4svsLOZp/ oqnr4RYH0OVyCFZTcXB1A6nKGK0bxnUtnMumUrRyQFvB1R5u1W34PM48/mJmrZwZRvO/yFWBocKR zaSxcYNhNGbRUcykRQCoz+vp8z6X5nneKlvyQho1X8m0M5bLH7LdYhmuH//1K0VznHLlw8LQJKed qpsUZXT8vjLqaxkkyeLYS7ZJFKRZBQcgNRW0cdBOIAHj+Ov0Zzbcv935ww9/rK+zesjtuORtQPFB XivXVnjkIK2B6Tv5qxQglxEeZ1U0LtoG0jH5Urtu8NqUfv6D5Y9Uqsqi1J0bfwbleZeKRW0jsHAm HFJru1BS4+FbD3fcQeLm/pHSTkDULC4ctDbhonU2u04yOrZTR2MrQ8R5qiQvlkNuyciQXlpCwVyw qRIXrEWi1ei7gN8cnQUmlY6IU96PgmiuVlSCe//LX+PZH30f7lCRais8lIyQIQsE40SOjf/abplB DJXxYO+QGg9tsicnbh6AOGeHVGLVAcBNYtVdvi5PxRSPx3Yb5nW2ZQi5Sig+yO1Dz0hafVvC41XZ yofYFyClSSF1PYqOMuJZjrWqhoqB1j57P9ywhC3VDhDzabh1gFvlPIkQIX2EtjV05pFqDzjJ22vd 4LvYqHYAiK3LogPjeO2Q05Gj1tWyM1IZZS2tGTfxkSTAdXltvcOpnBB7cExGaDe8qFZFyWO1EPN3 rP/ww/FYZSvufSpspIz9mvgaWkZOhmketw7D90lSa3NNBWVTQ7oemuLm32b5/eRsFMS4YS6dfj6F W27JdYfig9wqHtQ/0mma6QbXPT/hIsFm5zyHnQv0VKEpWWqpd9DKD+OyqfZI3uUkUDu5xtYjNg5V be0Zt+wtpMxbZcS+z5a3xXlOLh0mb9RCxmDiIMzFIstLVsZEdEzDxBLs3GvppWbwLH4NQFAtc2J5 N1Ym1GPI5ABMwNj+FxMqLmCogNRLRfM8ItWC1Xse6oBnf9gO3o5pEiqQ2zeTtksxwA57X6ZZXl4Q Z+NLrcRklY+YcihbFhdNPYa0FUoEe66A7BMbhNw0aDglt4tdwuOq8zauiiI2JgZOjXH8yOmYGuNm WyZ/Pmy0nTId/fXOKh1VZcKj8iY85g3iQY04qxDn3gyVlRs2wKbaKhr9okJ/t0W800LnNbSpbHol 3y4cevQHDqF1CK0gtIJ+bpWOMBf0C4cwH6seqbElc2VyRPOCuXLit22z2WzqS8CY5XvE2towZcmb 60skuxlIXW8mU7vcDKrVUtE+T5h/FXHv/3iG/+l/+C/k8H/81/BrHe47HFg7aBBHw1QOxpAxwNRR 8aTk1pLmSol6QTisbeoFueWiujnenRnMwhOz6WWgOCE3BVY+yK2hRKoDOJ0SedVVj1dtuWytSh9G licpmJoUv45/Kehzpkq+fF/J/UH9Ix3CqapqTDv1HkOSaV0hze1EmRq3MeJqoWEYfBqS8km2EkgY T6DqgDj36Odb35/bIcPkSIXhJL3Rbskn9ZKzMVQUcuujTK2kBoitRZ26NYCliQsoUKlO2h72+Lbw bZxIqY8TDv+3v4Y+O8aTr/5MAEC7HrGdCI5SHJoWjHK6annrthF45kxEFcOp6xUuaH7e1oKRPpph N/tstG0s5G36NzPd5VJ+9xf8m6IAITcBig9yK9grPM4zeb6NqkgRG4CdcPJuD/NpuOE6VwmOYKOR eoGWzJf9L+WB/1ilxKzXtd3/dDR3aiB1OYtC7cQ5FR5FVIRW4DuxRNKQI8Wr0Twam1FQDNWAUxke 2IhFL5TJlLK7ZfieYvOo7JjiXBE7QVoCfp3bKgFw0SZWfPaCABimZADg8H//G+iz443187JYIMzs MQdzKgDxWQdNhEw5FlMto4k0ecBhYqSduaHVVPwew99VlfcelR+L95CUoNhqvwAvVQkh5LpC8UHe eV5KeBTelADZUXkp6bAmPMbqhKS0QGcVuwAAIABJREFUOZWjevEU8SJmQtic8EnI5gqBO+7sYidI lUdqxHI43Jhnkepxa6y6XFWA+RtSZS2W2OQcjEkuxvaBTtfcl+tk0sIoVY9RwFi1Qz2QWlMCrrN2 TViITb/kRW/1C0X9IsL1aXO6RYD2//kK+mIJaMLTZ18MRyUHM/jOqiobv4tQPCfYuC/JJla/tmrK ILJyxSVVMnhLynRP2ZWjzgGVA5JAYAJS2gboAySELEDKyAyHWMi7BcUHefd51XeM0xbIRbhsy2Vb eDhn52GRvIZ+fHyL5PZjpaOYFScx7UeHj8+M19YQLOMjREjl7XgreymQXN6XPkJSZZUMJwgzZ3Hl GCsPJX8jRUHqcxXDiwVx1bIpPKrp2Cw2pkhMWFgvQ2K+Tu17YqOIB4pUK+ABbdK4G6axT9JxhdQo YiOQmaCCwi2Rt9EmuPX4+9DKWZWlrYHn1mbZ+Nm8OMH8q4hUecSZLayzBzEBItPx2ckkTqm2ACa4 hsCyUg3KuSll2RxCvpOQ8u94Ii7q/KBdN/mbMOPpw/ufK5JCQzgzn6OEhTEynVxXKD7IO810g+3e qsdV+z28v5gA2SE6AJzO9Mi+jGkuiaSx1SIbJlITJkPCpXN4+uwLmf4cNEagt2qKBpgA2cZZGJil i44bZtUDQ0x5aYnUQJhJjjkXM4U2MsSSp4mnA7nSYb4PHbfP5hwLcSVrAwhzRZonoFLAKZAE8GPy qqsTNArUqwmh/BixtgCv2Ap854aWCwCknLOB7x6iWa6BvgNejE/7yW/+lfzwf/3n2v1Hv4PUyEYb CMCQkKpVrkVMqjV+PbamUj3Gs0+xapKDr5wJjz6YsNix6l7yeDOmf0riAJdO7RY6WjzSpy9+LhvJ pjFyZwu5tlB8kHebPE566XbLWbe9bCVk53GdcTzT9NKNqoaOVRxnJ3t4f2oPiGiyzbU5bOzo7qeq y+Xk+O2ds/Qe8NmYOX38mMwUCTtZSrSo8TC39kYRHrHNngaHPJFjwWBxNno9Bj+HZLFRBAgwGDpl ct7VClCviPMEtGkUHb2DRLEKSfneKkGDg/RurIbIKIj6hUOqzfQ5PPVKIGrXdXd+B4t/M8MPF/9E 09ffQGOEOzjA6g8/sLsKOno3SvYJMIzwbqSuTm6za9+NeU3s8ji3ALf6q5Ph523hJDp6brwDtMrt l/J3IUOF5JRhGvsj1SlAyHWE4oO8s0zf7Q9sn+jPq3psez6uUnicdR874tNVFRsyoYiOusF2cJok heayvXgHNI1VPIZDmIiYPQJLkqJa5tZGZeZT32VTZd61AmBIHIWYIImtjb+mWof8i+E5FH9HEREK KOwsbntYFNomyCxCnCJ1HrL0kC57doZSA6DrBi4Bbi3wKxNFZSw3VYIwV8TaDmBD4AjgosDNFP1/ +D5cuA/f/R6gVi0JszF7ZIxPn5hhJ89J0yg8wtwqLj5niEg2ofp12qigaCVQdUiLFu4k+2tEICmU X7SJkBDMDLtjOeNFDMZTKEDIdYPig7zbONn5LvFSTEXARUXHvtbLRYTH9LFKCFUZy8REONQ5o6Oq Tn2PArZVOEZIewARZxWREmzl3BAaZsfrrNXi3fC5X9nJMDUOmsdGLWFU8hgrximVXOWIc2uXDCOz uxAdqgZ2zDr4Porw0CTQzgNBIKFUW8oZH8O/ooBfi+V4lF9TOR4nQIXRczE5YScA0ubnMFEGZfx3 muMxmGJLp6Pon8mvd4hcRwkz02HMV5LCZe9MMe6m2iG2HgiVxdQDtjU4Jfu6LAKcjtk6GQTm1CR7 tHikO0V0XQP96Gk5WjzSs2L6KU7Im4Tig7yTDEmmV8klqh0iMoxXXuZ+hgmX6W3LCaMEjeV2CiRX LSpvXo8y0ROiTcRk/4e0DdA2dgLrurF9I2Ljtm0Drfywrda2y8qGV8JaFzr4GUqrIXmbDDHhoYgz a5sA2EgXHS4oz3OSDGriRaG1Ao21UtBPq032vcPoa9lEG2WISndlX8ukUjF8niPYd84ETSsiE7Ex fI1839i8rBxLWW437I2ZxK67TuH60fDqkkJaj5hbWfBiO2/Kfa4jxq3FZcZ3Un7Zx2XE9b6FhIS8 YSg+yDvHhYXHZV+0995NPrkVA+hLio7p53sFyC6STYIM9+/UPm9qiORKhgjg3Xj69X6I854KjzSr xlj12m2cbNWZnyPMZIhFT01OHp1pTh7VzYpHecA0+ZnoeELdEB6iJjqCmL/DT38GCo0C35dtsBhy QMpo7rS1MkzVlIe8iG6cfs9EhKTyPCbmUonIG2zHEDPf5QCz3lotEhVubaO+0lsKrVs5uFmFVLlc Rco+nWlbJQtLODltNgWApMNE00aK7dSwvMtHVK4j5BpA8UHeGR40H+UJj1wB2DdNYlde/I7PqXiU SsT244n3o89iz31cuCW06/u3JySmJ/i6snNlnpRR72yyom2G+9O2tpFTVYtGr51Fqs82H6tMvRQ/ RL+QsdrRZuFR/BqTvI5Tb9hl9zt4Sfkkm0x0DN+Xx1qLqVNKa2MiNiSNt7E7wxjYBYxR6Fvek73k 26S8vG7aWiltlbIfxoLVxuN0vaJaZ2NpwjBaK2trfUhIQOjhQoKrrMI0/nw9fLBcD00TkVh+x9Pp FmfKaKfBdFtcbLVeCLkuUHyQG81gKp3sbHllj0fhEm2WadVjaItgS4BMOO8Yt6spp64ra+nLdlTv LKJ7cuw6bzefR/F0iECbGumwQZzbS0Dytr8ltjIYSf9/9t425rYkOwt7VtXe57zvvbe7p3tm7LHx B8FgSED8SCKIpfDHwn1Hyg8ioUCwR+N4BmPZRDiWgCghwcQkURIFSCJIBMQzspUxRoogkSJleiay IoIg+RGRRAnCCQbbWBjGNu3pvh/vOXtXrfxYtapW1a59znlv3+6+H3tJ977n7F27du2Ps+vZaz3r WertEKVSQrhC9nbEIcmbJ+CReRvqHUgIIHM7VJO8ASDEiSt7JJQU3k6KawIZCkyy1yNgCXJQg438 ufGGSEedZQDiXhRU3ZEkKqL7S3oe/sCZ8wIAfkIGHi5JzfspisAZEvAgAgZRMMUxgo4QobG9F8/H HCXTaA4FdNiwS5Ptsjjsc16Nzeux2TNkG/jY7Lm1XjbLRSGPS8DJE2azWOCx1led9lsmlPzdts2v 4ssJqFquxMQknc6DFy7IHCTsgjSFeQcePcK9PaZXxlSvRTwb7CRrRXU9tDKs6HUU3Y6QaqrEMXk7 kthYzmBJ+6KQMkZyGiwvZ3oGiJJLIVKuVEsR4EBJVhSpJgtlr4fImQMu6XCdJrhiCTLSd3ZATIqp iJIFEz0j7mQckQVFafbKZptt9nRsAx+bPf92it/xAdZmWQM+rTcEQA0yLlFgtW2stgcgb7Qz5Fgp EUVJPBmZ+OrSdoNDuDNienWH+Y5LVWRFKr2VQtcMFvnMmWSKRDStvB2Oc/gh/30BzeXKuDWZ1h9Z QNLMKQQT4R9OkkpLVLQ8gKLlESNciOBpAF83eu5Or50TPo+Cy2EAYhAk1HrUlBtk7/kt5LLZM2of 3JN5s82wor3xhPbl6ScpA49eSu0a8DilkaDZBk/LRZ1Ko2d10icslf48mkim2wV1touSRSlxPVSm vIQ2pFqtvyE4QzS12/ujFI7TbBNd19llGlNJnRWhMuTquNOrjONrEfM9Rtxx5n3wYDtMf60jrblV KDL8TYB7PFWF+hBi+hdSSq18puMEenyUcEzVEZX0Wr23p5StxLFWtgXKPdtTyN1ss2fMNs/HZu+7 VbwM1ADky9NPvhwz8ZNYz6OjIIackCWA9FYcC3BKy2iOiNdj2dY5hDsDDq+PON4Tr8d8nVJnNbwy AHHHpbw9jL5FkkNXxVIYtVHZZ/qsf7MuRy3yhZg2MRLtFCEAI5jtbedtGm0ofA9bsM4ST9F00f5l L8caR0a4G4ExgiOJ9PwkpE+2x2bmdPUA2f7U6+GPUTRSYiyhL70+zKmyrSEixwjSGjPRAJQWJKf6 LghBPGnegdwAnmYsbE0c74RtQmSbfZC2gY/NnlvLIOY2Xg9gnfNht7nl22I35NJ6OG7j8bDAw4iB 0TDkzxwp632USqnp8+BLu1E0QOLeY7o34OYjHtNdqcFiQysSduFa58KZcAvk+7msEXZcBMGQAIHy NGxGKQuPAzNSdkhabqXSlSyqmS1U+gILFyXLuFuCado+L3NleanMy1I/5l4A7ZOi6uxkgp/S+ALg jpQJtHnsRs8j/0tF5Nwxgm5M1WDvMkAk9YS099eUlEwTsFDvhgw4nTTD9SEicIgCQMZhoYAKRwJK 1DvSekl6xgxN3T1VtG6zzZ6GbeBjs/fVupob5vt37L6Tv3z8iVs/6G4lIvY+Ekyl+wuAx5OaAg+T zSPLTTrmMGRVUvnuwTvV63Dg0SF6h/mux83rHofXKGVzKOhIJep9CjEkImae/J1FDPKHXT3ZWbCR lzVpsdlzoKEPD0lHnZNYWEqp5QHZK1J5HwgVgNEqu1aTowdAqs8KVCDEWd4xaB/gBs5zPahk0vjH VAmI5Uq1M+Anzsv8QeTo/SEm3RUSUTOWkBC8Ew8IkLU9ABQwQlTLqat16sQo6ZhIAAaN22N8s+fP NnS72RPZd+y+k2vSo42L13VGzhrHJwq/6Bjes57HhwE89PzwijvccFngfO3d8UkUTEmMzkl2S0rl jFcD4n5A3CePx0ACPF5zOLxBuf5KrgYLQypNRNJsvTAGULPFTEjELqMkFmYVSDUrJe5SOuqB4A6S TYIo/Av2LJktieOhFWu1jWbE2LH10mXzOgN28jGiAK94HaVaLrFk3BwchocOw4MydqnZIloeNAPj Y84F69wM+JuI4SZIMbrDnAGGmwIQWKTdYyyEXB3eYZaQy3ES4KHhlh7oaC3J55dr4qqaPd1wzJol +X79vHk+Nnu/bYPMm11krYDXwqrlF7h4gcsesGesPGxXSKKVXsLTsycCHT1A1gMhusyLQBglobDM 94hcAEcKsfAgKbQ8esS9Rxxcqh9CON5zOL5KOL5KmO+k0IoSLh2Qi7q1Xo5Ixc3QhB2yF6O5hNkD YsMRGj1wJb01S7A7yqEel6rWiraIVJRFlLZhL5fXHwiYsAQ8rccD5fgUdFiPjo5diKw+r6eZ4I+A fyQEWJVPdwcltyKrmBZlU/F60BRz5Vq4VMNFU6MboK4eDweI+NuarYHTnqWaPuQ9+Djd7p63bYnw 5t1P8wZANns/bQMfm521hZfDWG8StsJYJ9e3mhWXjkdDLs4AD7Un8WL05Kg7dlIY7EmAB7CcXPS4 hkHqrgy+gAy7/8GLRsduQLgeMd/x4EH1OkSn4/CKw/QKYb4G5rsM9pxSZJVLwTkUkSftJnyiYGKR uWLWSQPD1eC0Lpp5npBm2nS6Jspl6ZG8IayF2BLQiYN8L0JlQPQMx4knYvggMiDUPBEyx6kYNJb1 2icxQIeSUUPReDtuSpVaBRxWUt2STIkhqqUJeKiGiirESjG+IkRGQUAIewdK4mMcGeAmhbYDXlg9 KR3ridrJivYCbthisw/PNvCx2cKyl0PtFsDj1PLuek9gJnwHfWcJupOD5YFU/I5TVWrfx5TC9X2+ hwf4CvCgcQSu9gI6vM9AQzQ81CtCmO/tML0y4PCqw3xH9Do0Y0W5DSqgVYGOvD/kEEQVxmCU0IBO 2qEFJWldKvhWjqnggWoL0x8xABUgc4wwMuAAmpLI2EylAy5AIFe2VWdMynKpPCvJk5MRC6fQTzvv mmPVY1FPB6mWx8wl1JIAiVNS6aTEE0j2CiPVwiHwUEA1RSBcOcSRynkcRbxMCKqj1H3R86WhGUDu jycA5zzPzW9MLzLVnkALRkzIZQMlm30QtoGPzSqrdDieBmnygnQ/IgK8vhqncVx9F9s3viq8csrW Hqrvwd4T8DjFfbHpsqm/DDx2YwmneA8ekzR6LsfucHzV4/ARSZmNO2RdiugBHsVLgDwhp13qxK3h FeMRqGxFtlzRSyaS2nXKZ9DlCmIsxyG1YyoghUcGPIOvGAjCuaAoIRgKJKmvcz1GTQXWY8jkVkpj jAAx5fBMBTYM0FIirEvaIhQY/qDfVT+EC9FUM3LUucACRNTblKsBj5RBhPJuALnkFBkMkW2f7g0A ruC8h3vkQIdjqobceAffS4hSPSHel99H6wWx3zcAstkHYBv42Ky2p1mGfq2y5iXDiDEBkltue0pA rGdn+n3PHo9z5FsFIOSEWDqOAjzGATw4xOtRir3tHeLOYb6SyW2+lnBKHAlhB6jqKKsiqabE6uQb UXk9imw7Fl4BtJPz4pjMuuShYIsdqfm73LRsA4CODryPZfmOJQTDBCYWTBMpgQ1ZnrvhAiCILSho vDko660gWZZpD5y8HcXTQZHFGxIt6FCPhgCC7HUZUhjJUTo2Au+kbzYUKHYNiHKEcOXT+Bh0vAIe PMJFErErPKfVezaEOuW2BerWbvs72myzW9oGbzcD0Eld7Uyuty7Y1pvYz/XxlB56HMJl4x3Hk6uX mTTv0duxZt6Brq+lGJwCj/2A6dUdwrXHdMdlQbA4SGn7qEJgroQgsgiY44r7AKCqfWIn3zJRUym/ Qpzru1RPiR7J03hWrEfD0jF6WspKcBWNDq44IdnrESQTxh0JbkLOnmkBkK1wa8M0eV+J16IptE6J oYwqtOIN8AAKmBGwkQDJXDgkLkRE7zKno+yPUirx8rgl8wVwUywgZ4pwxwD38AB69xH40aOkhLr8 PWTO1Brnow27NNstlFFP2EY63ez9ss3z8ZLbJfyOW5d97z0UL+3j1NvYGVsl2p2yaTJiUOWh/J5T aE9Z6w1xBLq6ysAj7gbE6wHzvRHTXY8p8TnCXmqvzNdlwrfiWrJ/IBM+FUSoh8F6OazqqE1dVfDg CreirUhrPSgW0DA1f3U8zTatyQRNeVfSnpKnQkCHv6lBRz6eWLwZOVQSO+BDARqEz6FhFMBsE0uI RcGHOiAqouhcOubBgVgIqXZw7AvvI5NLI8MdQwImLme8sCP4RxPoOIsWyFiE5J7UbC2hXmXks7aF XTZ7n20DHy+xnU2fxRMAj/bzk1iPGGfHYR6mTwQ41sz2NTzBT+NS4GHNO9A4gu9cZY8HPOHwxh7z HYfpWgq9xRFS7v66hFdO+i3Vm0FUN7MZvQo4LCcCyB4PCkgcjjSJKUAAZ/BjC9VWng6q8EpXXl3A hFaqpZzuigYkicejE1aJbZgEOcVXgUgejqXWBK6+S1+27dLL4UIEgoAHiow4plBJCEUoDJB02xjl OkZZL+0YmEOWUedxEBVaQO7nECXllgSYwHtgXqbgnvN6AMCXb75AQOJNNctae/P6U9z9vW68j83e Z9vAx0tq59Jnu6XhW7sUZDzJQ6zRHVisY87A42T2i31I98ivK6EhDiGvI99r8wQAy2TzyL5J5NKv 9jmjJV6PePy1Vzi86jPoYAeEa8J8lcIHAxaeBOu5kH3V4KI0NOtj2bbigyROBCcgkLej4j3I6xux scyVNPsv8uONWqj5LJ0qb6Lsr+KfJFBh5d4zzyIBIooAZgEOflqCDOmnXs5OxyLgJ5NMQ/J2HDX2 koABooiHASIgFmMtJAaAjma/GsKZ5qxymoFaupfp8QH84CHotVfkEmlFWxRAfIkH40sPfmzxY+gB jzevP5VePE7fx5vex2bvl2031UtmC42Mxp7I0/EhvCFxeis8m3bbAxlngEdvnVWOlAVPCD6MgBhd XYGvduLxGD2OH7+Lw0cGzFcSZtHMlflOymYZUcikuU/qgoxMwjQAo2xjAIBNU1W9D8JqmCTLrpti bnWD2gORORYpfVW8CCpPXoCAlUCPvu54MUan6cRU7ReQvv0BGB/GyvuhYKXLwUj8D+WBaIiEIgOB K+9bFgebYrmPIgSAsICVrldCvSPMoDmAvQNf7SXFeI6gxwfg8Q2w3wnweHwDHCe06bYVADnB+VBb 9XikGi6X2gZANnvatnk+XiK7JMxykbWT9gftor2UTLoGMs4RYc8BD2DJ27jEVMfj+hp8tQMnDY94 PWJ6bY/jqwPYi7JmjEDw4vHIwENBQZPtIeMx35tQSgYg6mlg8zmYic1TKcCm3gXTD/dAh4INtkAj cSDMfqwXooyHq2MoAKQme5bxIZM6wyg7FzGvut/hcRQhMLN99Zm58vxouixxARyZcBo571NL3udz Fsuy1vPRtQQcuCn6B+fAzsFZcb5hSHLrdRfqlbykSu0a8MjhmHP8qhihVW43D8hmT9s28PESWCvS tWZPHGZ5P4FHGzpZ43isje3S6rZPwlPpEEdX9Rh0Aru+Bt+5Au9G8NWA+d5O1EnT+jgglbqXv3FA lXViJ+oF0LBhjrXlWqskcPZIlImZKwIpgBzK6KXcWoJm+a6eAw1doOJTlI5tR8mL0TRrt8vhFQ/4 A1a9JKv71a+kgCkVgoN6MkRxlLj2qpTMF8O3UOCRAVSzL/V0eCefY8xAhiIL4fQ4CT9kN4D3HszX Ut1W+8sFBYv3oxt6WSst0LEMPNZUfZt+bush2WyzS20DHy+4VdksTwo82ofUk4CUcw/HU5O/XXcb 5v4tPRw963o9bmupMi1dXYHvXiPe2WN+bY9w5RFHEaCKgxBK5yvR8NCQC4Cc5UGxhD3yaAzIqCrI 9sIwKOtsKKTlQNSfubOsXm8nes3sUBJnqXWShtucR/3OnkCB61AK2m04jz2fWvAijZeJauBhuB55 u4lTqmsa96FUkxVyKBndEuMhsN6O9l7MYRgu20WWUIvlfYQolWiVWwWA9yPinR2AHRAj3DgAj25w kd5HY9k70rEv33yBLBG1NfV0AAV4bB6Pzd4P28DHC2xPJZvlaXE73kfp85N2quLt2U1PAI9eyKV9 0861Zzzo7jX47jXmV69wfGOXdSHCWNJoVbsjhzyAip+x4GIo/aQ3P5n52vaTQYGZxG2aad68DZH0 dC+a9ZSkx8mELcpEXA8LgLz9QwBH5lgcUnsDQmIi/LZeGWuVpyJ9FF2PEtpxUxTOyRRBU0i8GBNK MQCZiAzZ1oAPE6aiHv9Cj7enIhojMAfR4WAGdqPUdnEyHh4cwt6DohMeiN4/rdfDei0u9Hi0pqCn tTevP8UKQDbQsdn7aRv4eEGtAh5tYSpcADqA2wOP9wlgZL2CEC73uqxludxif6ugrQUep/gfRKC7 14iv3cXxo3cwveoz6MjejmtaVFulgD4b3ACQajKm5fosdW4zTBQLGBBh1TwB2d4FBhPBzVxlgyzB SAINbD5r+KLyPjB6HAMePXgmuDlm7wdQgwlnMz6SF6n1oMSxnAyKceFBcXMUcDRJamwGG725W7tS oOHL5+z1IFpO/NGAAx2LIZpCuRqRwY8eSxru9VVnAJtt9uLbBj5eMKtqswC3Bx6XqpI+IdCwLuFb V8S9zT5PtD3v7bkQdLTL2+1SqCV87FVMr+0x3/ESYvGq3UE5lZZdejs3uhU5Q8NmeziIlLcSQzU7 Rdc1IEQrt0oHSNoT9TCt5DdFzhocBC6AI3tg0rXreDloCoWweSorw4ZtDmkwLh1KEvDinTyaJIQi y+L1aTXa59Zi0gaZI5zXqsQObhyFdMryApF/O+293ZzfS1Jyyfsu78OGXdZsC8ds9jRsAx8vkGXg 8aT1Wc5xO54AcPQm+lOT/20l3G8v+X6ivZ63Vo/j3PY6hgaE0Dgifuw1TK/u85t4Sf3UDAok74KE HjQdVddZkmS2FIIhXf2STAHu8ZQ/s70XPcEdqKTGAsBQ1mv4heZE/AyNR6a11htismKyzTZ9xlyA HMZpOtFtnQN4AkIQ74f3AiqGcl+wI2Bw4FfugEIA3xyEdAq5JxbhlwZ85EyZFfvyzRfozbuf5oWX 8ILf95v3vpt7n9V6OiObbdazDXy8ILaozaJ2idfjkvDKhcDj1mDgFvbUJc8drWfPPM/W8kIUG3HN UxBvSUPOPNVtLGTSTNa0IZbAtaLnuaJlek9Ny4mSjBgXxuVjinrxkqQUuu65opKFcqmdOoaVUNIC eFhwkDNYCBwicDiAduLRyR6enZdzPfq6DotmvoTLrtcp+9LDH6ecyXJhrZcMWHohzbTs/mufYQB4 66uf20DIZidtAx8vgJ0TDlM7CTyegpfjubReqmyvwJ5OGtbUe9GqsSb9jvDx1xDuDKueiSzGFZAn sDiUEIi1LO7lyHxGDq9UIRhSoIE660U9KWnbWvvCfG5IpeCSxZL/zUnlU0MszEbt0xyATsxWJTal ntbn8kRG03EqdVDGoX5T74V32vGfMe4q2CrZ8zxYWYANu137u/IO5B14FqXUSkI9i52tbAvU4ZcT tqbxsRijnvf096SehxXgywTb9jpKm/uvfYY3ALLZKdvAx2bvyd5PT0cFpnQiWfAqLgBJp96E29RO h/qhb6XQiQq4UOtNXN4j3rtC2HuEvfA8SrVW4XxYifCyr9RGuzd8jVyq3YqAGa8GYEAIyl8rcZ73 ocs086Wb7aKufVUkLamp7hhAUyiAwxApZecN8dIVrQsQZa+G7Ch5DiLXE/bKpE8hCAABKq8Vhdj1 Qqx6Lsw1tuPJQMRyj7Tvrp0BOMrRsMfjvYAQdnJ/HSfx7ngPd5gRMaxoo5wAOcYuDX3cOq32QnEz AICjDYBsdtK2G+MFsEuVSyugsObxsOsu6ecS641rLS31EjsFOKyn4jZGrs5aab0aw1ADjRVPETsC 39mDR49wb4f5ekDYSxxfSaaAiGOFHQqg8AVgWKsIpMbTUWW1ZICyBDSq5eFmlGJpQZeJRoefOH8G lsDDTRHuEHKKahbZakFHkhg/eZo1xGLPn4ZK1ngSPduN6+3aooTn7BIvn4Z0vKvbr3k4evs1IIvn OZPBabcD37sGey+Kp5Bzy0TwX30I/uo7SS+kERt7D8DjaVjL+aBOeAwA3nr7R7d5ZrOFbZ6P59wW 2S2XmHO3Bh23AhyXAIk17YwHFG18AAAgAElEQVTe252uW9v+iQrXmdRM1ZEIKB4O7Te9pVqXc5vm Wcbkcp0WHn0CHAV4iGIpFYBQgQaqwUU11iXwWJSq751OG3ZJxFbRu0CWQJe/FwCPwyzaE1pQzXor Ws7DqXCHehFi4/3QMvUhdEMKi/uP1ftx4k08XpCabccE9O9LZwDpJW//a+tDzNuTc8Ao4TnejSK1 76muEWNIswLOLtjHB2g9oHP/9c9WF28DHput2XZjPKe2yGy5NJ32lsDjMj2QJ7yNeh6MnmQ5sEwZ PjWuC0Ix1HoxtIS5Daso6DBejcpj1E6SROCrEXE/gAeHuPeYrz3C3mX1UlUt1V+eFkjLXgu3BB9V MTd0wEnv+BhFxfRQvBwu3AJ4HBPwuJmTPkZYBRxAE55oJ0f1bhyOi+0AfZPXsM15AEr73XK9hmHa MIcdq15bbbvGdbKAwxJVe2E220/mnXS8ODGCNRuGCNjvwPsd4t0rxGsJtbgHR9DNAXy1B8UIevcR +NGjMubIz4TXY7PN3qttno/n0M5Jpq8SS2+RyfLEWhhrdik3I3aIsz1uxgX7oLWJQvsEZDIiEuBh QysJdGQvR5sR5GiZkumFAOmOAdHVQljzvvZ4tJ8z8FDKgeVzUEMqBU5SDZTDoXVbXODyeeYMQCjg vMfjOMsk2AEe1PI0MvG0P/HzjQEeFkxa0NHLIMmSpaVfvrkBDUkLJHNMlBcU6+9A2ZcleGooozp5 cgGouQ/KGM5k8FhRMUvoDKGkv3qf//H1DuHuCE4iae5mBpwTD8g0A1NJL96Ax2Yvkm3g4zmz7PF4 EtDRi1U/iZ0DHpfqjHRd3B3Oxlo4RjN8DBm1ew56y/QNmCjF8cd+aKUH2nRi8s0bsUpyk1ZbTRLq ewm7qFejAh6eYLNU2rAKsCSWrgEPSy7NYGMqIMPNnHVFSDkb6AMPmqIAj8N5j4ds2yGchhKiYWbj bUjXMyrSivV2a0XarHHiTdh77ZzHRL0YuT0XEJSBSsqqmVHuRecLB2g2oBXocz3UwxEZOVYSQ94H DYN4Pa52mF+RGj+A3At0bwc/OLhHR9A0p8q2IXVdA48NcGz2PNsGPp4jW+N3XJRCa/PxXUOau6S/ 3O8KV+OUXeol6WWZ5O19PXmpRV56OBZgwffXJ/Igu5SB0QMddmLqZra4PDmy8dDwKH3FkTBdJyVT v5RRr9RJdZ2CkDxe87lzB+SickACEABpWGVKHI+Q+B4zFx5IGzViZMVSfwjC8WgzV3qmIZV5lnNt QIf8aUAFh/qvWht26cnYt6YkzFMVhRUAtPEq7X9tuwzKirdE5d0rD0ovzb2Slo/Vd07E1XhnB3jK svL+aCTp5yAhqnmW9o1twGOz59028PGc262AR/v54v4uBBwXCX6tTABme2rHmFzx3JkkFtyN1to3 VG1vgAZFBg8p/KL/bKz/VPjG9EnMYBB4NyAODnEgHO85hD0Qd3V6bdbV4Bp4VOCkPVadm8l8V+DB hedBsfA9tJ5LSafVf4nrQaUPLe5GU0qLzfVPlh6JRfppSKB2nqVoWXst2ro8Gl5p+q3sVM0caxkw NmGc1tp07TVPSc8qb03bf1zykZjFYwKkz8WjR4MXhVYiIDCGG9FLGR4chWw6BdBxAs/BACAZ6wY6 NntRbAMfz5uZt6xbA49zXS/IdyeAQttmhYBZpbCugBNqSX5r4/Nr8QbT7xkvB4AFj6OEQRqA0n5u 95WMG5GxODrE0eHwmsN0V6rVsq/DJ8wFPOQwi67rYT1uPpvtbXVaN0M0ORR4mPmVGmVMSZWt11PS 8mjb2uubRbVOeEO6AKSsrP+qZfBw5p49lRVl+2mtrbS7UnSxazk0tOKVqfglMOTXAn5pHBPPY5/F 0vxjBW0RdJyBECUdeZqrjKANdGz2otkGPp4D69VsWS261tPyOGFnPR2nUlwBebgquGi7yiBpkMmo N542e6RtU3E63PpbsvZhzdegZkEeVb5Hm8lwIuzEi30U8MWewKNH3HscX/WY7hLmOwI8qjRZINXo WDkMPpHRYj0dsfagZOAxFdAhXhCuQUjPg6ReD62B0lorEd4SLHtDDbF4pi7R27jULvFY9EDFWmjm nBJq16MS6uUZhDshhoZYq9wPA3C1Fw9b0sMgk14MAJgD6PFBvEfqcXL0VOTUN9vsWbMNfDzjtqjZ ckqH4EJvx0WcjrVKrXY/2iZ5G7IC6No+1dVsJ6K1ujKV9+EWL33NsS80OXR9CrOwJ5kk0r6ZKAs8 da0dS+oDzoma6d7j+NqAwysCPOKuDyTYN+ChMQtALMCwIZbSWQq3GOCR/zEvQi6AcD+YSCrXBmSu Ry7ONjcZLtXgO5kdIRRiactvcCQgNa5wPHp2qrjfJbaqxbIEIKekyolOcEnscgUKCYhn0BWCHINm Ven9p/eR1sOJDHp8kCJyi/P04Wt6bLbZ07YNfDzrtqa4qXYh8Lg4dbYFHWscDfNw73o0euOjTp9t BoLdTgmLBohQ5HWRr2qcK56UXthkcFX4oQIeDv1x63YJfMS9Rxgd5rsex3sO811C2JuQjt2OkEvd c+JclPGZjy3A6JBE87qABciw0unLMaT7KRhPiNZt4VSjxU6u6XyWei/mb1ucr53ge8X7LgEe55Y9 qbn6/qsqxba7tTyXS0C7gowAOW5HksLd6ICQdJ5l5+kwSVrtPC8Iqptt9iLaBj6eYWtl07vy6LKi CzrWhcY6se4e6OgAH30YrwKO3mS/Fg6xbZLVRb5WvAzngNTavlXJ1DkBFdX+zcO+490o4ysgL6aM Fh4dwk6+h52AjrATAbGqmyacwom7aPdm17deEdZLkhJWQOgWh7PAw4W0XWBURFOgVJ5NHI+s22FT amPxbuT1Oml2OD6ENGHbkESPo9ECFLs+kzsZi/CG3d7apaGTTvsu8LAaHZ12/ZRuV9JyTTiKvKvv eauVcpyAm4N4iKYj+Djl+ipv3vtuvg1na7PNnifbwMdzYifrsjQPqFUehwUcpzwdJ7wbJ5VTe5/V zgGOSwHFJQ/jExkwXfBCBHic3ibtW7U7LOhgR4hJOn264zDdJfCArEiqHou16fESxdKeEQMw4RUb jlHgkdshpdkCmWhKGXQgVamNuWItgCXwsKZcGetd6oUHKhJpA1gsALkke+qUx6sFM5dK/MdCjK1A yG0n/ciAkxATEYGHQQBU9oQImMnVeVN6Nz98DEzHrgz5lx78GJ2sMrvZZs+xbeDjGbVusbgLQiwn CaQt4KiWmXWnQirnHsrngIc+6Jt6Kbd6k+0RB08BDqISPumFXTwBIAm92MwXnYw6oEPrtsSkTBkH EROb7wBRvR6pW9aslB5fY8UqnocNt3BZn9NobVptxAIodKvV5u+AOwa4Obn/p7BQKCXL7Tg7cKo9 OfkckgAQ1fbI1940rsI8jbekvWd7Uuy3Ud3tpOdeUqperW2XuSHHKd3bieeRVFglnML5uCmERCoN J+/1DXhs9qLaBj6eUfvy8Seqh06uIHlbcbBT6bJnvB0XWzumFSDQBRyta1sfzs4QHVt9Bv0ceZGh widCJovwif3uCISYgYZdzo5EDErBB8n2cXS5Gm0cCdOdRDL1qCvManjERnc6880ClChgQQEulUCZ rlOvR+N4iD6FXRzl1Fl2lAGILssekCkswy3WtGaKBWY9rQ6blnuLCX1hl5BNL2lzCV8ka76YzW4x 7hyODEH2NwzAMAh41/OmRfMsB8b54qLabLOXyDbw8YxbVbb6tmTSNeDRCiKdeICzVuBUa2Ph9vMC CJjvrtn3CuiAeueJAO9lYnUok6GmzWqoZMHdEE4HNRNHBUoa0AEk8qgCDSB7NyzYqNp7KsBjkNot 092kZDrU4+qBip5lIqr1dhgPR2/bLqGUBPhQLAAEEO+Mhl7K9ifAxrnJ16Yp22usAKXtwxHghtoL oECl1d6oxtGiqg6HBFi/j1sJ9o5yKk9zAQntuO25Gcf+PqKGU5wQd+ME+AjmCOz30iYkrxLHkoY8 nH8Ev3nvu3nT+djsRbMNfDyj9tRAx1qabgs6Og/9k7ocOWXwFl4Oux3QT2eNqNIQeZCH+UI8zOhr SGfGpZ1SZYn5LOgAAB59CqeUdRpWqdopAPHaBohjAh8p3MKu4XoAFZi4JOSi25xcpn3FFQDSburO t3liUwDRCwfGWO5TzV4ahpyam21Ng6Nna56MtTBNtY9LPCVP6KnZbLPNLrYNTT9jVoEO4HbA49IQ y9q6Xv/6107+1qPRejlKB2X8Zt9ceU1Su8C30/Kw/aOAglaVkxuAUqXoOgL75N0YCDEDi6WHo/RX lsdBgEcYCeEKmO5JlkscUYdG1HNxoWe9rdOiyyzXo8ihSxuvxeMq8TGuQjaUKttKUTkhnLopws0M fzOLpPck9VyqTBYNJ8xJHr31DKjMup2w17wGttZLCz6AQog+5/m4xFbBRwdYJE/E2njL+Iz3rQXD 7ba2D/tbZa54HG+++j38pXc+vz2HN3vpbLvpnyF7Im9HVwTsAtBxCnBoe33A9pQ/bRG2NZ2Oxtux qg5q7RYZBwt+h25jy7yj8XL4El5R0KFk0tKHAR8OKYwh38NYarQIyRSY7xLm6wQ8gBcSfAAoxFNg qd3RApAWlChwMWmmnEIQhWdygcfhHBDp8YOqca7cU8rHANZF1br7iyUUs5W632yzi20LuzwDdg50 XMzpANaBxwroWAAOYB10WJlyMv9647JekUpr4wV/FjfgoSiNooRNEidjbfts1HxH4oWYvwCyXki1 fSTA8XsPtQzpXghRpMEBCaVobrIFKfY6Dz6ts6DOJ76GeD5EBTTdU2veEGuqGQI8mTfEbmd/JwlI ZXJsmzrcAqvWpqn2hDTejc0222xpG/j4kOw9hVdeZGtc1O3yrrcDKMDIi8cmezLsWTYeD3bJ42G8 GkoSrTwlxgMSfeF5sBMhsfmaMF8lToWtsm5BR0sYJfP3UrOnRbtw6W8CPOyKh8V+1vHcyogA74S8 G2MBIUTAHITXwlz+5f0Y70F771oviCVasqiq5mvcSLTLwpiIx9rHCgg5xR2xOjfvVb69MZ5nfPnm Cy/Zj3WzzZ7cNvDxPNtaRU71PKilB+ytys/bPixJtJMe25JOVwGCtdYlf47kl7kHiYRqx9TwNNrP xBA9jgQ0mFCACKHKTCmcjgI6WEGHl8/C9wDmK+F7ADLRVyGTJmtF12uf4BLSWQUhDX5alVdHB2xY 3LZSmIw9iZDo4JqkoTYEZUjGMQI0JKGyWIdXiMAaK3K+1hRRMDK0mSZcMmau9lJcrUlH5aAZKg0A AZbggeN6yKW3vAEvVWqwDeHJyo2MutlmT8k28PEB2MLLoXZbzY5q22Z9LvLmFg9k6nE2bGilSpdc go6aD9HpK31fqIe2rnhrGvdX5dRLqtVmLQXOoMCOb1HzxROYSHCAkziF5Xe0oY9CMkWZ+JXf4ZFE xQR4hL0UjQMM/6KXzZKAh6a7tvLp3aOm5nPylGRnifWenLFKt8J4dggMBoGdgLkIg8Fcuja+c92j aIYwc/H0JPXOrHaa004pjYFP3usYfCYsy/Fxmei1PkoOuTQAxIiEPbHpdbecllPE08aYefN6bLbZ LW0DHx+AKensEqEw4Azw6KXRrhA/z4IOXeddLdhlxrgoQ2/HkXgdbVZJbywgWq8UC/N2rc17D/wm 9JIFwICKS6L7aUGGqpFWIYx87lBns/iyPmpqrZc2cRDvRyvs1fNMZJlz6+l4EjNekNV0XcMlWQu/ VFofTs9JhIMAEDIiZGqVF0m5JFNIFYFtWi0KAMnL4gIUUuRE/G3uqSi8Emq8KdnLAoAjCSDxjRei AijAatrtCa4ImVAQH49mRXNfb96PzTZ7z7aBj/fZ3rz+FH/p8X9Db15/ikt6Ylj3CKAzEWdPRAM8 VjJZLgYdgNHrsPtPwKIHOMw2IvRFWdRrkfKaAMeqVyO9yPasEh2rtincjjbbRsIoVIMLy+uwc1AG MrXHI4di8rmo/2o7ijgLJGyWS1Y8PRVmyTuQNosic/qdzHpKx09cum36l+tSyKcCQLQpZwBCKVSS a7uoeZJ0aGuRQEyp2J2enHRSbOXbTohufeo295XWk8kiZOneNiJ3rJV3FVDkYRgQcqm13sJdcmtZ sNIrRue9qJputtlmt7INfDwl+46r7+LW9frm9acYAN68++n6ebuavXIi06UNKZzjdaxlrui6PIl3 HtKVFsfS9Z4n7tEXkiZKn3EkkepOxuTW3xbtvNVbnvbb9XYQZS5H3tciFIOyXSvNQNofis6HK9so iZMdCW/ESbgF1AmZtI4eQzhlh8wtUcBwspjc2jqzQ9bLb8BMrnob9BhsbEY+q9hY2FEeo5sFgLhJ wAPvyolSwTaHuAQgRMCQOBKBaxDShMpAJFydc5bTi7kcrvJCkgeEopBcyS5PIZpKvryXwtursHup GTJrxQ15wUjh+XlljmtLGd7sadt2Q70H6xZ/M0atd6FeWT5fkl7bC7cYfsdZ0NHyOHqVZJXzUe23 Bhzq6ZB1y/Hn0AaQJjPUkuw9IaZT1hR103EKv8R6LdZBh1rl5VAiKaHr3bCmJNP5KvE8rNchN0pD U4JpLMvYIRE3DeiwfzuZLz1w0vatReXkH1cpvaXIHEotF/0eGg2QqDohqcZLAzKqPmaZ/LUtAAEE s9Xr6JzDvV+KwN1m0u5VI2bx0tBhEqLqNANzyCAFzMsU3l5BunygHfLqmqV+2Hgzn9f02vuvfYYz 7+U4ycL22WXE5b708MepB1DUNqCy2SW23STvwb5j9518a+CxJsjV3bYOp9TbmIex4X6QFQfLgCHF 13OowdUiYCtjsYADQA061B1uU1whmRP5OMwbZwYit7AKdNgwi4YlXJ1Zo14M+z1/Hsp3m8kSfekr 8zLSuuz5GERcTIFHOT/pOJXr0QAQ7eck8DD9VNZbZkBFBTAa8MGEBlycByHKA9EwkS0+VwrQ1evy +igcELLhlrROQ3NyLuqDWuOutNlStpowULxU5VgEhLg5wt3MoMdHASK5looBIyECUYvdWFfSmdTb NSDShmKecRCypqi6ACC9sOvai0Pn5WlTbd3snG03yAnLng1jXz7+BJ3yeFzs7VAz7VZBhwKNYNII O8JhGXiowJflaBDVJL82nKKpkm2apQKZjpcDqCcK9q6eSE3sXicm5YDohBaHZRE4oAmvKAjJ3A7T rnHla5ikWjYUYFLCLEuviIzPAAaS5Vq/Rb0UlWYGm0nUZqEY7wh74ynpgJcWhOSU3NYxpfs2gAIs hFYLJIAEnDogRD+L0mn6vgAXFnzYPpceEUC8Ic5UyAVQQjTpmlHkZTbS2jzfXj/VZDHgsspM0vEY 781wE+AfzaDDJGBkDuIVSSqrnKrM3kpddTHQCwB1IrHy4YgvvfN5evPedzOcy+RWnmcgxq634P5r n2EtSsc3N7ee0Fug8ear38O0G4EQ8NbbP1r1lcEHORlTstWqxG2ByY6dGu/91z4jnXqPt/7JX9zm oZfQtot+wr7j6rsufiK9F9BRb78EFQugEQIs4ZQy2EjeDQsy1kDHWlVZoPZ0uNJW9THyNiten3a5 awmMSG/FHT2QKm3W8jwoTTwGlLSTtbQ1fQylT5VDt1ksp8ItPKT02lGr1yKHObKHo01jbT0ZCchU qbsVOFvud9HGNm/BR2iXcdVWOluOVcCH7Mc1IRj9W0jDfQDSysVLRkqvnRmTeu5PhLfqTjueLAWE FUeHqnOpQMzNDH9gjO8c4R8eQY8OySPS8ERamffWeoJnvQwaSwIHQOMo4INZJnQFO84gpnku2zfC a3AetBsFLB2PMg4rA9+xL73zeXrz1e/JDWrNFgLGHcARb/3Sn1+Cndc/W2g2WuUXKwCkqTJt29l9 MvMChNj9SJbdBkBeRtsu+Iq1wMP+sOwP8VagYw1wADXoyN87HhDdrsftMGOpOB2d7Jc2o0barYCO JrRhTTNjqrof9hjPvFGuCYOpRod4EGrgUb39EnKtEjn2+q1YVUnZpXL3lvNh54/2l2BDMokbsqjP ooDCghgy/ar3Q9d3gMdJ4mm7uxXPR7diriFuAqVt/nximet4QuRvAzzIeE3WPCS3dShQB9RS8XBY 0CHrkuhbs1y9N24GhkPE8ChieDjDPziAHt6IJ8SCEMNpsDwOXdblivR+r/alYLcDX++FE3NzBE9T 2iz9rjRbJ6bsN+/FI1K9CDjgOIHnIPtWoGTtEq+NPl+GoQCtacZbX/3c0gMCgPXYe8+JNvxiQMop e+urn6MKeKil87gBkJfLtottbI3DcVp34z2EV4DbgQ67rxZ02EJvrRBYk9FSAY+WzwFkFcpzyqGr ZlMl7WIbH0/HWU2+3oZW6skkp9aSGZfHgqOg21rgEQf1XpSicNV+OyAkjuZtuvEiyA7NNgo6vOmb 6nZrIZb6BHWWmX1mgqnhfFQ8k077bDaU0npDTChpFXBYwIP6fFfhG711rdT8BboYNvVZAaduFyvw u/SQLLKVOgVn/YExPmYMjyJ2v3qAe3AEHSfxhGQAYkET156QUx4S54Xw3f7uhwG8HwHnBOy0ZE5A PBrJk0mDB/a7UkNHf0eHCZjnEiqa5/JsaMGQfu8BktEAmxBPTvb3X/sMLwBI4s20nJYcSjpHIG6f dTpWfZaltOk2JLTZi2kvfKqtpruu2lrcMv9IOzn857ZZabeq15Hb68ykQ07u3WhmGCJgN5b9rYGO JhV34enoCYM5VFVfgfS9fdiek09Pb8O1OBUvQQxR8QrkUApVgKPqx074mbOhY+uJY50BHq5uWzga ieMBVJ6FcizNdsoR0T5aT0fygCgZtGunlluw0AKgtF4l2y2gqMJS6hGK5ow54+FovDgFZJD0S9Je wZ6DTIw2NEJmf7wzACX0D26RkUTmGpAssCGVNkxm7xW7vBCSy3J2hLAnuLsO8x2H8cEO4ztHuJu5 ZOsAwiHSSX+OwCQoio5T8rDp5N55+1ePpCq0GtDPg5dLtR+zx4XmAJpIUtG1D9128Pk7AyL+Ngdw ClMUM5/tOpKJHN7LMyyacE/sPNM6Rt7jra9+jt68+2k+RaJd5avoddUyEGtkXl3vCIgO91//LG8A 5MW3Fx58ZDtDjlrN1dcf71o/l/I5Fq7kDuho++yl0XovD6/diKrOSsfL0Q2tAJW3w4qDaQZMRfZ0 wKUOsrJN8tRYb4Q9NuYFn0M+970tC4BilUgHmRydyVctXo8V4NGZsHSiZkcIO2SOh+xE/lW1WexE 6cwyE3Kx/VafO6fzFM/D/m23UR2RBUmVzDK7kZ2b9HxRA0SAIqSWBwIwU7ndk+pZDcTku/GJyD3Q 8USUbbRpGYvu3x5LG1bJ2zW3+Np5zNffAUc4xIEQdg7+JgjvRbOx9LegnqJ0D7s5AnOEU97INNcA xIAFub89Wi8hD74AizkIINETykKERaAM9plIrtBulN8qjokj0ruBuCGREwAvgEPJ6moG9Pfs/muf YRuOuU32zpv3vpvJ++VYrBe3LQ4IFACSlm8A5MW3FxZ8VB6PJwUe1tZAxyX1Wdrsldwn2cbm8wro yJ/dEnicC60ErkMs+plKiGVNrrz0eTkIsZ4OmYDKtnmfhr+R0/zc8sHYZjYsU2qBCIJDeTNX9/s5 4FGBA1/esnthjNZjUgGOxVt7Y3SB96Njus3asjxZl6GXdmbfVR/NGMgZIOLRLUSXvSjJS1KubWnj Us0dbe+CASR5e+MBawbcgo1yvet1Lcem6sPeox3AJvuXsNq896DoQAy4SfghkgXEi23jKP36m2vs f+UG7t2b5DFJWTT5hUHBS7ojXfmePRneg3wKp9ixxwjyXjwc3gMeiLsBFFKxvZQlw0BRds3PlCb8 4qjw0wLk96XtyQEcsneiN8m3AORi64ahzzx/q+2p723e7IWzFw58LMIsTwN4jOP5eGbeX/NUPwMw 2uyVaj8d0LHIXmndu2vhFRUHaz0Lraejo7HQs3NAZBFiaScCKoCn2m5ovrey77CTT2kbB1nuwcXr Yd5224lKJ7RqIkwTGwUsJrUqlEL1526mCzrLOhGss9Y5bxpm6YKSlezPPIbkIKoyhNrGC/Jm8Yqw bjAgL1MLoOrcBQ0DpXEJqKlPLLHhdBjgZoGH/s2ZLW1Yy7RbtXz87f1VQJQ7CjfEzYCf6rMSRrmf dg8dKOyxA+AeHgR4VP05UIj1b1SBhyWKA+VmSOEGhJBq9xipfE9FSE1r3Wi4ye66zX5LWTYUgoD9 fA8mz4M+Wzrpwk8EOqy1z4Y2O2jN1CsKbLyPl8BeCPCxyus4BTxu4e1YBR69CbhNk7X7Wgm10DiW B1GbxWLBhQUeGspZO0aH6mWoF4KRjJj0dqpv0up2H5bHtgpELnlMtM+j7HnB0tOx4qa3b/ltGqb2 GWMCNdbrYd6WW/4AIPtfHAPXbXt1WVpOR+9z9bfdr65eAyQdb0Wu8bLmQXGl/cLjYbuzQMUCEzT7 gblWvm6Xx2+5NqNdXvYj/5beEsAADAvSyIANM8Y2xNXVRFm5RnZ9LTBX1ruJ4CbAHwjDI+UuyTp/ SNvtHOZ7O4zHGYjpxYQ5lypYFM0zAn96fAjIoIQAcEwvIJFF5Os4CSfkmECHEmItel1Lt9fwjnpk 7O9WPSbzDEReZru8/lnuLd9ss6dtzz34uLWn41JbY2+vvfGfAh12PbBkxlteiQUdOX3PgI5O5VkA XZ0OeAM6LMfCl7G2qp/WYif00lpPq2PRpnfOOt4L6W99322KbTuRUzQTZS/UYraxhet63ozcXr9T +d4CmbwdTNt22eJgmm074IdsuwQ4TtJvuN5nDvEoabYds2v6bMDOovsVMKOpyAAW4R1AgQdX36sx EHJadebQrAE3aq4X6nYLQNa5FkwAj0DYyUlmLx3J/ZMakRwXzRKSsRb2Dv4QhTwagSoz5gWueGuF yPQtxeqBACde1NT7cRo9qPUAACAASURBVCoteJ6TSOJTeoZv9kzbcwk+nsjTYe1M6my3roolRJ2y zNzuvL5rWKXn3RiGhR4HmzTaU9Yrab8KOiy3wm6rZl/QAi9AwBrYuIgPUvEt+qAD6Gg5NNtUYY4c Gqg/L6wCCkvgsQoezJuxzYipFE97vJBmn4sJvjdJGp5JlWFDBSNkMIHSdm0flpDarR5sAYouSvtd 82ZFv9zGWh6yjj8NvPKupbH5wws4Udvfd0eIi52TaxFiCX84B7JPYicqo/z4MfBY+qT9vvp9i5qx 2ZeWOhgHIbLacJBO+E023Vtf/Rx1uR1++ezK+hwKDJSXptV/gfICdepZuaaTYpdz3AinL4E9N+Dj iVNmL7W1EEuTwVHZqYyVteUtj0OtDa30QEfFIFcX7zrw0FoYZ0FHZ+iZUKgThq+/2zbt8mVf6a++ 3dp1HU9HV3F0QTo1Y4yF6HjKO8D6ht3wN1Z1Ocy6Knyjb8t60DNV2+bPvbH0xmaBhgUefPq8Pu82 X1M5t3r9zvyMb62XouCHpG/2QBwYYQ/wkDwfI4Mdw93IxXWTzIXRA46BkEM/DIoEf5AMsbjz8FOQ hlrQrh1KZDAK54NsvRlHiRiTngmDB+93QAigBDo4hVt4novOT+s1Nam9GXgECa3wnHRM7EuR5E0X iXNjb739o9RbLvs9cXE0u0atJY0q4RUoY+lxQaZ5Uzx9Sey5AB9d4HFbsLHK27hleCX31wmz2H01 y/ODo8flSN8rVdJe4Tf7BtVU+cyejqEuPy/ciNOAY5XLcQH59BzRr62fYlM5dX3069vU46lBhw3D 2HokL5x1uBgLD4g140XJmMbwI6quWzCo26/0y9RpY+8l9aYY8JR32wKBJrzSZvH0QjjdY7XHYkFj aw4IV4w4CljlgcGeBfA4Bu8YfFRUgyxDr16jOBKmewJA3OTgjg5ucEAU3kYGIFlVNn0mVwBCkJTa nMZrQAPGIXM2GADdHAWsOBTeiPaTUnZ58BXooRCBQ1JTbYXTYjpWX4OE1svQ5XtEBlwDFnImj/Gs 6OdxyBopy+tgL1qrl7JhjpfFnnnwkYHHk3o2zuhwXJzFkjc4AzrU2okwvyXPxauhLHgnDxVKfWRh r8CLFFoAiVBpHiAdRdKqKFt7jC/o71tFx9YyPi7uZ2VitZwEEEs66Wy8Oe3bePetnHMbiiUUkQXE GKvjt+GOteJzi2HrB+7P34vJvgKlvQ7r/Xa9VJ0xa+pzRXJVMGKK+hFDJnudZ3uDNqJoFfcne6p4 MfY46nhZMqOuAzDYiRlgzwjXEW5yoFkyd/yNpG/PdwXghj3h8BH57CYH/0izTxywc6CkAkqHKb/9 U0i/aasL0oiUUWQREEtIh6+koFxOxzXhFOV/8T4Vp/MeFCPo4Q1wcxApdgBZz8OAA+WbCYBMHDJm 3H/je1mBwFtv/yjdf+N7OYMJ66FoOW1dfZG0bjfK8+5SiyJtTyd0YTZ7ceyZBh9nQy09O8PnKM1a r8ILOiOvWO2RWD/2OmX2sv5Kv712gHIA2j57VWazbofxelRu+oUR4ngegHQBRp68TJsWUOiEGKia 4HXSW/Rt+9fPmQshM3Ou12LARyVolvpsBcvIfm55HmU4Zb/GI9I7Dy3xtZvBszjmfr/ZS+KBuBdv Q9wxKBDckUqBPhsuU+DFKMX4OHkfmEo4qgs8uEtI1TZxlwYYAR4j6CoAkcCzTNDuKgAIIMc43hsQ vzLKxkRlPEAmpR5fIQAD3MQYI4PSDRfTS4GbkzaHDcXY1FuglEaIsd/Oe2BMWTTjAB49MEcwEXjv 6xeyicXrof14L95WrVUTy3IQyboQwCGdFF8u8v03vpfzS4+DpAEDhQBfXWfCSZLtMPTr0VgpeKCb ebPZi23PNPh4puxSj0cTw6SGRLpIwdN02Tbskn/8DbdjpQZL5e0AzoqEXZIeew549MBCu7xqf6ZN tQ8z+aryaZXBAlTpxOztZFs8ICKglSY118yR58CG+Zy9DgaE6BjYcTdlOPfTHhcj1Wgpk3BOR+Vm W6xfqwVwMJ+pt13j2aiIoyt9rQGPxfL22EnOS9jLxM8jg69FxyIeHWiSQVIgAV6BsiK4eEM0dEGI pJ4B5HTd6iBgQW05FkYCrZ7Lsad98qOhnGzH2F9NcI4x+oDpyuMhA8SjTNSWIzkD/iiekPmaAIy4 Gxn+Zi5chsiiSgoUzQ/A8Md8CZM6kvCESZ0v4AJ1cbvA4MHJP++ypghNETRZFWaS9P1xAOYg3hjL wdDMuWPqV8GF/pjCbEjzraZ/Y5dk93gHdCpbb/Zy2zMJPqpQS1tDoWfvVbPjlNfjEhn0TttV0GEf Oi3ouARwpOU8ykzeK0EPYBFq6XkatK/yln052Cjbn9nOTmpthot5q+9ZXm+BRyM+pZNeLevd7Dii mhx7RNPVdNtqQMg76U3uq4Cu2T8FwKVJd+Hp6ACd1WyaE3aWiIklEFts3wMduq69dmaQTAAPSfht ZOFWjFEmfsfgXSzp0gwgEmimBMp64IKKh8VxfR30XCmos16TBGJ4ZNmHAYxSJ0n6oyHicDOCHOO1 Nx7j0WEHtw+YXneg6DE8pCpcpCEcOODmDQd/HLF714EC55T1fWQ4lmOX7UhAw26AKgDTFIDApcqt 4XHF3QDnHOjRQQAMEpDZjcCu3EzuMEsNGtX0oOSRGzx4lzRIjlP2UChxlUcHcvKPEYtnRMHENAM7 kmea9WAuSKfJ23LOA9JaR9xss5fLnknwUdn7ncXSs3NZLD3RMBjA0bazwEP5HM6VWg9AfhtpAUc3 JJLejnQftihbaz1gsCCSEnIq5FoYJC9r7hipzWK+m76XxeSWh1L31XxvNTv8CcBSjdt4ErJ2Q9O3 eeNfndB7l56b9tysM2GELEVOyGEVCpCJFur9ODE27Zua5ReOddnx+jZVCKUdh5rxOrHjpQdEPzsU UucYgV0EDQyOBFbPhTeD8ZxF7VhBmXY5Sz0ZisVLYrOAsjZflAETAxEs11zvmYFBs3pCGBgY7noW IHHw4MmBJwcMEe9cX2GaPD7y2kN83Te8i7/zv38z3JHgjmk/xiOn1y7sCHEkUAoJxpEw39thYM5S 9UyEeDWADXDwDwGiiHAlPyqaBEDE0YMHh+AJznsgTCI25r2QU6MUqXOHGXScM4kVMUqbOdWeGbz8 ZRYeiE748wxyydPifXnBo+JKfOurn6P7H/sDLC80vuawWaKp2aZK+30SQLLZS2XPFPhYcDw6efIL u4Dj0a0m2+3rDOiw+2vrr/TG0/N2JLJp5e24AHTU6onF29EDJ2sT/mpbqtue42+seTCA8uZu27XZ LAuj5i93gAeVfrrjQwI7Gn6hMhblQCwmWNuNneDt5N+7Daz3A2mCdEixdQgQ4vIv7y6FWXJpep1E TUhgoRtiw0y9sdrFLTBqrXO83WNv+rAkTksOzduSgJE4pkG4NMk7BkaGv5oxDAHz7BGngh4rUV+n olUOmMoNxQOLWN5MIMdC8FVwsuDGcA61FCAkF4DHEmKBZ/gxgKNDjAQ6uKS94fHgl++CdgFf9/o7 +KFv/BJ+/9/5LNyBhKsySd80I1+r4THDTwKyaY5wMzLgiPsh3ZNS48WqBrMj4ErWh+sB7AluKu67 uHPwj2bwOAjwABLA4FyBVz0e1GTZSFZNAD18DNUMQdTKtiQ1ZDRE5B0oGO9HIpCq0ikA8cw4LIAE 62BVJNHyOMzLEZiF+zHPWHA9Nntp7ZkBH7dOp32aoAO4tbejAh3tWFodD8PlyKDjlsCjVSXtVn/V 9isehG7fK6mw+r1tdyotVt8Gsx7GhdYbb1XTgwAemmNtwtQ6FmLO5Mz8UqbPwxUviGwMgJoJvPFw ZLBhvR3pP1HJTFVfQ9lG92snyoWImG3LyAAmk0zN31N2kuhq21C5zpXXIoUjrLZJxZMxQEPXa1iD rgPcLgBMiImMS45BjnH3zgGDD5iDx3EaEGa5eCE4ASPEuaouA8Cgua0EDGk8kYCjS/yPdB2MJwSE KgVYxp5Qp0tAaHbSDwHzzShemFlCPu5IAqBY6iP/wi+9jj/49nfKMEYg7AsSJRYA4mbATQomk5cv ireDHWG+M0ioxXhJ3BSlQi4AfwiIgxNgPRKi9xgfzIijg38chEfiKWW52IvY8Sp05Nc5RiG9lgXQ GjKYZwEEQAlvczTeDDRZLE0IvM1yseJjhBpg2OdjQzIt3W0ekvdin/y6P8iAnMe3/tF/ecGE9+Hb MwE+nmoF2la340mAx9o+yJ32dACna7Joim0mnp0GHq23w+p1nPI+5GWDhHjOAY62n7bv2Am12PZ2 Uq/6a97gu0Z1fwpuNISRs1zWJlLTHkB26xO4IqYqr8JNjMgEDGV41tGhE3OWHte+1SvROTbZbw0U 1jQqWn6H3blNM7UDa7M31qzii1jreTlc279We0XSvzDj1sldr2HiS7BnYBexe+WI3/5NP4v/9+2v wbuPJUV0NwREJkQmOGIwE7yLeOXODebgMEeHaRpwTHE8IiAcEzhQ8EGQ6q8+glnSQ4UvkQaePAwU qZqcNdTCnkFMqUy9OZ4IyXIJAjxoBigA47sO08wIAOaww5wuVLyKIHZ5IqdA8GkbUFJ9TV4NN8nB RC+Awt7b/kZQ0/CrN3DvPgZCgLvaA+4ejnud8NOhBzNJ70YJ0UbOdVvYuZxhs7CUyVJZ5nREyZgB RG9kGJa8uvYZ2HpwAfGsGDVXRszPXQESTagGKM/ZBHLe+urn6M1Xv4e/9M7nn4vJ8lm0+x//PqZh yHMLAfjkN/yhdONGfPEf/tln9tw+E+Aj222Bh22vRZou8XasKfV1U8lW2mavhl9Z7k6CDiABjZVj zt6OJsSyRhzN/dnvDrAzz2nQUQOKXp9rRdFWvQl0ZiIEulLqrG/bdn92O/UK2PX6/PT6Zkx5gAom lIPhZkYECXAxXoWEL2Szc55h+1xVYHKLn3mbLkzapwkzWQ7FRURTe77ty2YCF9X+FajoOEhAZrgb cPcTD/Hancf4x7/yGsJjL429eCfYqLnSEOHGiKv9hJ9/9w2E6HBnP+Gjdx7iys+4CQMeHPeYo4N3 5YR6F8HHERMEXDhKgFAtEsgzMEYQMfwQE5BJv4v2WGYnQCIoOGdgiBjvTphuBvF4QE8wEuE07Sdl 3cSRMd0Vb0Y8CljhAVDxsWj6948FeGQ+hyOEHeBCclpN4nGxv1V2BOeFaOrefQx+5105jZHhjtfw jz14IMzXA5gANznEHUCOQC6CQhCPSlYaTl6ONp3XCJFVt4yj4pFTVdTjJCEZ50HegZVc6n15jnq/ vLE7nhf7wpdBSPX7NKGXZBvweG92/2u+n8k7fPEX/xwBwCe/8QcTOi7zzCe/4Q/xF3/hv3gmz/GH PqiLRMROgY6q2QngcU4a+AzoWGSv9CTSgX6IxabUog86SuVQV3k62vDKk4ZUZP2JdRcAjsor0T6P LtRJWdZr6Sy3IRcHVJLovfbGe2D/Wm6FjLvW/xAdilQBt+dZWDuk1kNMNRhaZKfQsm3vuxXkqsic +u+UZ5rM/vIyXh4XwWimcBm7B3gf4e5O+LqPfxV//bf+Ffz8/AC/62/9fhymAdf7IxwBh9njeBwQ I8F7xjAEDC7CuQhHwN3dER+7foAH0x4hnZC9nzFQxMN5h8iEwzzg8TRgDh5zcOA0yBAcYnAIifPh Rul3SJ6QGAnRptomzwoAxDmRRvUcOQFHACT8Q0AMJNoegYDJCZiYKV8wipTExiDhniGKEBlBpDC+ Ku9q+192GB4J2HATY3gsf10QYOsP4uGw1ZXDjjDcRIzvBOz/0bugrz6QQ3jtHqaP3sV8x0Mk24UX 5I4RFOR+9Tcz3OM5C5jBOSGnTnPhg7RhlxDA1qMxm1RgfWapd0VTc/N9k55PxrORifK6DwURK6TS RRjFVtM1yzZtj/dmGm6pAEjrnQ8RX/wH//kzd54/NM/HE4GOE0aaJ18tNLFLy8Ru+7bhlFMeDa26 2G6/JpNuQEcFDBSEDGW7DC5Gv/ByyPqy+ZITYtstz5mVMu/1t+yjLO+RRdeq3d46m0W/nwAkCjys NwDAWa+Kncg11MEoXBKtskpBFCxztkVevxzzKe8DATJx9c4BlfGfIoVqsTobLrL7JjOGhcJpK3Bm z5OeTy+Agz1EStyEN+AY1x+5wU//7j9BPwt5Af6rf/e38j//iX+Az/22H8sj/vaf+iF+97DHFBwc AYMPYAsCmPBo3mHnRbTr3nDAzA4DRRyjxyEMcMTYDQGjj5iCQ1SdiREITDgeB8yzxzAEjGOQsA2Q 2ykIiREYB/GOzM5hCqOEWIK85TM70BjhhyA/Rw9wdJgfD5JxFEgybXwCGBNyGI8dg/YRV/cO+Onf /ScIAL7pL/zHEq14xyHOMpeGPSEOwO5dwBlPiJKfOYmUgYE4EMKVQ3j1Cs458N5jfmWP+doj7vT5 lO6VQZ5Z0QHsBoxzurnmxOOYQwmXrPAliKiAAOdRXB9pG0fAMCRCqQ09m5eliq+RYoMhFtDRklD1 uy0up8CjsQ14vDf75Nf9QW7nKZ4mEO0WRUqfRftQRvbm9af4iUDHKY9HS35qJYHX+rQuRqIadLSC X0DJp1+rQKvjPOHp6IKO5O2Io6nNYn/3twAcayGVSoZaH5ArHpV4wktSlqPyOrQTd9vvEvB0Jmt9 Bttx6Zt5M7G2E3HduVneekJ0fVPmvetNQX381THrGNK/1suR01K9OVZLNKFlH9Uh2O+NjkaXGGuA RiZgOoB9khTfRQmf7AN+7tP/du79n/6rP8zORfw/v+tPXvw8uP8//yEO0SGCMAWPOTo4EpGu13aP MaQwyyvDAe/OEnq5CSOm6HGYB0QmBCYwE0J0CJHgHSNE+a5cEQ3XHGfxtjjHBnyI98W5iGnymA8D +OBByQOiabUYYsqoYbghIhw86N0BFEl0SDTtl8X7wYmg6l+Z8Pd/379TnZNf95/8KQaA3a9SUl6V e2d8yLh6m+GPUcBsAr1xMIq8ROIpeRQwPAoIe4dw5bN3xE0MfxPy88HfBLgpIo4ONIsnxE0B7vEk 2h3MJdNFTT0TzFk5tQIE5rlI3tXVtNWs/tA4lHo0qqA6C2GVY8vzMGNQsTWgBh7G87FVrb293f/E D3AGi0Rdj8Ynv/EHGYNRwGUGpvmZ8348e+DjtsCj8jq0P6IO6CCXgUoFOoB+lorZPzuSWgvnKtC2 3o4VT8cig2VIf1dAR54E6bSHI6/nzjrTz5qH4yyZtZ0k2/XcWdbxbmQPCtXL7bIMPuwEr+t5OZZW d8Mur8BI+m5rqiysd5wN8Fl4Ytr1kHOvXo1e2/LduDNULpzrdm3flXckfWdnCqcNLOmudyfs9xMG H/F/3wJknLJP/2/fw28f7uAYPUJ0IGLcGw/41ntfwS8eXsPbhzu4GiQs8GASAKLgQ8fr0zFPsRyI ghG9DUMUgDNNPoddYvAgYlDii3AgxIMHHTzoSFlLRbNxeEwckjFK2OXGgyaS82PvzSFpkjDw8//a v7V6nr71h/80+wMyAPFHYP92xP6dCJo5ifdxAh+Ur130gD8y/I2Aifmu/PAoSCbM+O6U7s2kETJH EQ8kQhwc/OMJ9PgI0qJtCjL0+WPBSEs6bT0k3i+fW5GTlPuQCt4loDJH0M2x7G8OVf8Lj4clm9oX wemYF18CPu6/8b28VbhN/I7dWEJh6Rx/8ef/s+65+eS3/GHWGmGUwCM/usFbX/mvnplz+YGHXVaB xwWps3XzjrcDaJatr+8Cj14oRYGDTtj7sYyHSJQEfQM2OmNecjcoK5JaaXRJK7UgxfTRgoKVLJRY SY0v153ttwMUVlNQO1Z5XqjdV73PnrdhzbvQ408sPtvtLNhIWKwFID1vzYJM2oyjGmszhsV3h6K4 2Xo9KjDFpn9e9FXxQByX/nUcHkKOTG/7tA9wA8MPAX/39/zx9+WB8+O//fP0Xf/rZ/jBtAc8cOVn vLF7hG/a/wp+4eYjcBRxDF44IcT5n3pFYsqA0c+DkxAKM+EQPA7TgAcPr3B9fcToRSeEo0OYHXh2 kp7rWLgegUBHB3cjabPju4Q3fjrgV36zx3yHMd+NYDgBHpp6a+97jUCNEfs7E+bptDjNfIezJDyi gMv5mjA+IviZMzlUM8EocqpTJL91f4zwj2f4KWK6O4CCcEXcpIJhAkAQI+goffkpcT2s5HoLKFy6 SaJwQxZaSb3vCl6YSqVcKwkApPosbCY/lz0rC1vLctHPnRDM/dc/W22kwGQDHsAnv/5f5zw/Za8W AO/wyV/7Q/zFn/0z1Tn65Df+IGvxwczTcQ60331IR9C3DxR8nA239KzR7GDmGnis6XM0uhx23Ung oRctWZ6Y7bg17EJUA48VwGH7qarNNqADKMBjTfBrDXDoNtpPy8toiZp5bFwvrwCA3b55BKzxO7ph FlqO86S3owMq1kITa+PTbReVWs0HTn9zxo7O6U24pvW4tAJbp8aSr4kCIAsiCDXooOacpe0UWMQr Bu7OcKM8vP/+d/6xxd7/mf/uj/Pf/pd/5AN7YH989wBf+BeWsfs//H98nH/VX+fvc/SY2GGOHjNL qu1//zvKW9jv/Kl/g6+HCVfDhMiEOTr840ev4CN/9hX87Hd5fMMn3gYAPAh7QdAMSauOJMBjEuDh D4Sv/19m/LX/8d+kN+9+ml/9G68gfux1/P3f8zrmu1LgLguOqUUI2ZQBnl1Nal2xeMWIRwCQ8Auz ABDVRkHS/gAhqbOWLBgFHjQFOABjYMAT6BgXWhri/QiSSjz4erK3/DWT5QKkMTCVzBZt1z5/FXjo i9Q4yH7mkNN67fbsCIQ0qWnf1sPSej1aGwYBH8y4/7E/wG/98l+g+x//PkaoAYn1eLys3o9PfuMP crmeCgK5fCfRgLn/G/4I0xwKJUCvIREQooBJyCPm/id+gJ8VHZAPZBAnyaVnwiw2hasCHr3slTbM com3A6gyVDS8shjvIoW2DzpWAUezvNLsoNL/wjPQeBHsutJf+ZxTV61Og+3XCHi1tkoIPWG9bXpi YAsxq/S52pbq5auhjdbWluvqFkycWn4i/FKFgNp1a2NtvgufwPSl2+R9GK9GasdXAXQdsLua8P/9 Kz/8TDw4Pkj79p/6If7o1UP86uEav3pzjbffvYPjw50QRmdJl9Vquf6G8E1ffAj/t34atNuB5xkc Ar588wX6nd/2I/wPf8c9PPr6KOEWC0xT7RceOXNj/D4sAN63/OSfZACY3t5jeMfDHwgafhkeAXe+ EjE8ltCLGg+UPRtMQkwd3j2C5oi480mITNq4WXQ4NLOFAgu/Y0xvHcw1B0OtJYB2RMeyNzdI1gnP gpqkCN0oYZYxaUbECOx3WSuIbibQ4ZgnPADIE17icXQzXIA+IOlVuVVL/b2MgMNaH3yk85YFKjUs VoMP3o8ZfOg9QNMMfvT4mREh++A8H72J/JK2xlaBR/aCpHUWbLRiOVr/AKhJoz3Q0XI/FCCMvuJz rKmNKuhovR5r6bMt4LiUSGr7yN9JnqvR03KC5GVfvT6q5WtAoTOWFnBUYKMHFNrxNcvPhTjWwEwe W/4PlbLoIgyTvrdAqRBGS/XaHgCxICVzONgW7uP8ZqwZFrlGipNwCSLlsIAbI3a7+aUEHNZ+6tuL W/n3/c3fzz9DH8VXjh4xFKU4m1J9+Oged3fJxRwjvnzzBQKA/+lv/nHC3wR+0x/703x4XSfG2vOE Wd7seYwI8Pimz/9HrFkxiMD0jj4TxBPlJoBJXiC4c28TAzSxhF0iw9l6R8xyizBSWCaBihjLGy4g ImOq7zGF/Dxa1HLSF7ZpTh4U6/GQZ1x85ToLnKlxiCBMAEvmi/LYmEgK34Uk4R4580/kWcrJrSPA p8quAWrQYTNfAGwy631T7Y4uEdjyPfQ6JR4I+wAMoSQRaFvtg1nu7eHZkfZ6X0fSDbPcEnhkbwdw Gng0lrexLscWeBg3JJvslNbLAaAGG2OZubtcDmDB5+h7RJrvvr/+Eo9H+50dIdr19sFIZ4DGie/t MQBYejd0u+atf/HZWjuZ80pbXdb02faRJ5QmlML2bZdRHB0WOKTskLjnXA4egExAQ8xExG/5yT/J VmdCxzzsZvy931t4Ft/yl3+EAcA7fumBxHu1v/Rt/3U+f7/uL/37PN8M4KOTEAyLOulX/rkBV7/2 t+Bj/+djjH/75/Cm/27+0oOSLvxrf/zn8HOf+mYc3mBRWw9CPGWXkKfyP5wUw0NT7O5rv1FCQP/4 598AveO7admZxBoEWLgp1VMBQFOsnzcAKoVbNU/ggFoi/UWynveaYwYt9z/+ffzWL/35F/73cv/j 38fwvqQ8t/OQteq5W7zwxA4IAV/8mf+UAOD+t/5R5v2uPBJ7/KAP2d438PFEwKNjldKemiLq6kKs EMQqEqlfhFgAZDfiWmgFwGp45VLQsQY4pK91L8bJVNVOuKXeR9OuBQcrfS3bEiz/ofVELPrvgYDm 8+q+On1099cZxykCquV69Lw4Wf/CATwy4seO+Oav/xX8td/5p1Zv2p/5V//di27on/m97w/h82W3 v5fSYL/lL/8IT4928P/k2Xmre5p2ishemfHCZvExsy6+co1wdw84BzfNBdRoyEYFDgcP9h5wkOJ1 Gr4Zh7x+zRbeD6B+Vlck3/WwzFv/5C/S/Y9/H9//mu+XFVWtmHQOYsBbv/wXnuvf1v1P/ECRRwfK tVibK4lSplHMwm80J17QoVxzevAINt2Wbo5S4bjNgPoQ7f37tT6hx4Padqf4Hbbfc4TSJsSill1U C6EwWqTL9sIrLYHULuvJofe4HL3MjwUxtLNe3a4nwUY70XbCM4u0XVevP8fN6Hoh1to2n1e5Gh2v hxUlO595wmVhR1q8CgElbkUcGfEjE379N30FP/Xtf4Z+bmVomz2bFu5GSZ8dCfMdwsNfcwX8S78R TMCvn/8U/7r/vN44hAAAIABJREFU8P/Clx78GPErd/D6Twf84r+YUm0JSZsj8T6St4MnBy1cR0Ff VCJ+29fInfE//N2PikpqupcoCp9DUqRLkUOrJwMA7pgmAE1j1Th+xc8wLzO2WNzoJTRjf6Rz6o9S Ro0+yxJI4HEAX40Ir1yV/Yx9fQ++eyUe4hRyQYipYm3ieowDMu+ktV74ZcUzbdcRJR6aFrUjyX55 65f+PGXwYcLp5iRl0ur6Tp5Nu/81389wJN4OO+e1xfssmdia5e+k7aq0W+eKGNw0Z26OKqE+C/bU B/Lm3U8vfTtPE3i0GS3ppqy27RFK03K2qF0vvMZQtXR0W+QtAY9TXg7921MmPQU4tI39a/d9Kk0V 6KfO2qwKFTsCepO5Hp9Z1l6qFgSseBwuCaWcIoWuttFltPIZ6IMLALm0fQt2UoQk95Pi96/8mnfw z37iF/Djv/3zz8wPdLPb2T/1E/8Bh4MHjvVzgyaCOwgp9ev/+ox/+DsGzK9EsGfJdFGZdQWrHuBU QI+mVIDOpNYCwHBDoFTV1s3A+IBx5ysR/ihgg1JKpAucyaQ08+ItX6vcYi4TDzXF3ti5OvyS1lMw 7nR9acp1jihPYLwbMN8b82/ePxbJdndzBCKD94N4RQgJbEX4BwfQzVFIqNrPOIhH5JCk3du36TSW bpVae9zmmb0mxa7gY7WYp93XcXrmCaoKOAAUPqIFH5Y0rEKVvbkzrbfClhQi8PgmF5K7/xv+CKtA HB2OwHF65orMvb/g4xb8jlsBjzViaQs22nEoqdSADs4VG+sxtSEXm6GCBcCgph2qdWsEUll22stx Shcjr7OAQEFHCxi42f+pcI55Dne9C5cACbONft7Ax2YfpP2mv/LDPM8eYfaIkwM/9vCPHPwNIewZ 8bpWNwUgQCQAufhcgICOOdVcmQF3pKTZgSzdTwHwNynbJdV2cXMBH5nzERg8OMSB4A8xE01pbkim KABEn1Eiqx4zCFlN7ycq4mAKTogQ9h7hzgBRU41whyBeGCcCZkpWpMigOcLdiKCZ9JPGciUZMBl8 mGwXadDnFbBm3wD1y2LvrT61t3PCF3/xz1GevCOLuKTZVjN3njUvSPZwWLChZjVX2vlPiaX62YZi 2r8oz3YKEVnjwzsJtxwnPIvF5Z7qgDLwuITbcRvgccrb0aLHDqdDTbJP/HnQkb5zw9/ohVZ0Gws6 Wj5Hu6we0wsEPmxbbrZZa9tbb/tfC7G48sBanJOmLYCaWEqyfVYBvRvwsa99B7/lY7+4AY8X0L7t rT/Kv/zOXRwe7EHvDhgeyQuBkonZS3YRUmE5axQkldfNIhhGE+CPJLobyVyAgIwZuPoVxu5hTCTT 5AEJ8rn1bPpDAgCz0feIQNEJWYp4kQEomnWXq+sa4JFBhG3vBWTwKOvdHAv51e4jhYn84wl0nGUC A4rcOgAcp5Leqaqn1k4Um6M13soKcFkLFWhRNZ2ceZ6BED80D0gOEQHL+UnHqZYVYc15WwMhqT9p z7UAnHqkFHA4s3wOoMeHZ05WXe2pDOpWoEPtaYVankPwseBunAix2G0tUOn204KIlbBKVXVVJ3dr pwBHZ2K3fXf7WVvfmt0H1UCi9XJwL9yk+2Tb3vSb0irZQwqK7SOGuxO+9o138Jvf+EV826s/g8/+ xr/xTP5QN3vv9q3/7b/HN29fwT3wcLPUcIk7Bu9YMplSVovWd6GU+fL/s/euwZYlV3ngtzL3OfdR r36/VF3dkhBPYxsEiACHGGRDXZABYw2OYSY8BjMeQqKn1eIh1BjQA6HWE4GQkMFGPDV40BhmrECU ABMzOBx4ICCAMG+EpJZoNZK61VVdj3vP2TvX/MhcmStz5z733Krq7qrq/CJOnXP2I/c+t87Z+e1v fWstr3yE58GTDxOqhNPgHyb0c+nOM7YeYZg+Jx/kOCgkoZbH4N9H/0dl4qVASiiEY2LlYykZUPSL 8qpu8fV1DFq6dA0I5MRtrKjg6hDVGLPXg3aX+Z03c0rnlToSJflYB2XV1eJvsK4/YeeOeyT+8qR7 Gk7e/K25YRSok40y+1K/LhUQ5kypiPU+mH3juNkskUAZSoihHHvZg/YWKKufXkm48u3hq0ItZWVS 2S7LSsljaqz/0yb8HfJekw4gkZB163TEc6ipFopwVD0fE0pHzduRey/G6kZp+nTlhC3rRhP9asJx MQW/qmOUx8s+E+fH0krI1PlkZInT36kLabOdw+zwAjdfdxY3bp3Hcw5/HM878gF843N+74r9oTZc Ov7iv38lPfd99/Mn/vYY+PEOds+TCGfCPMCeYEiDuajgIfzu2H+dXMexd4zpE5lnAwybhMUhv3+3 x77gGAMMiiQkhlccJ5VRiEOoBwIglmeXmhs8k6qVHL/6UgTMzawKtQTCEtQPv4wjYWHjx+BZ2H5U ACzUiugMnJnBEIEWfU40dBilBk0sSpKh1xdg5ksqgrVz+7fxk0FAYnpsmamiobN45LX2dcjrVaZT AKc+8iO0c+dLfaR4FoqHiSk4gAYHDq0KMDjQYnlFEw/gcpGPy6F4ANPhFuXnyFJvNfEo/gNT07Yk RUVDaYEys2VK6Zhqc38gpaNQOfTzKhPqVLpsCr0IeZL3xWfU4QiBHqsgGCXJycZaNfGvGrscS5Md fdyJ9vBZ47ySsMQxOScxJpgH5w60MWBre4HrD5/HjVvncXz7Mfz4F/z8Ff0Dbbi8+L2vfoAA4MRP vZ7d4AkImELoBZAutVEh0zIhsf+d2eJ3yem964C96wncAdQTDn0MmJ91IPieNUwEsuSNp4Z8vxnK CQAr0sAzGxS71IiSmMGwwZfir0luw2LYMN5HUmRTRqPquoUebSAn4Ty4M6ALPusldrbVj1L1yJrV FUp0odhoXAxpiKqHfKYnqJbFSOEoCUONeOjnEiXZUH+TqjF0GJD1dxkCeZHxFSmM4bArHAciH1+x +T+xVAvUy9Ye4KDEYyqbpSQeIkkVKkes17GPqXSUyVJr+DZhJvXrxstKrCIdAEYdXi+ZdJQT+yqV QG+nQdPbZpVA1farCn9Vj5Mdn7NtRoXKZPtyH/VeJgzuvJQuZclvPHoON26dx+1bp/HvvvDnGuF4 muPBb34FnfjJ1zM95j0gw9z7QMwS/rtmAQ7GU99bB8kPQl5FM3vkmzjKTzcYT4cNwM0BswD2jhG6 XYJdhJCfgU/lNWHMMEe4ufXKSEyd9MqCT/11QOc7zJJjMAwIKVTBnUW/bQECemNh5gb2fA/uDOxu MqfItcmXdKdc8Qj9ZSJkknMcVI9QR8K5mN0SPRxTVTOr1/mCeIip1jmcvOXFvG7X1dhaXuMJIB47 x+8dWwpKA6hA+zKq3X2L89NkKfwdVmakyPGGAeycV0HkO2nIkw6iUcfhKxVrkY8pgnFQ4pFVKtWo kQ4gLyym36v02BETLdZlakclk8UF6XE/0uGXI+0vUutUKfRC7ZgKn6xLOjKFRBGOKcWhRjpqxlK9 z1S2Sbat3pcq7ye2r/pIAOTdXNV5GqQW8eriLoQj9q4RokLwPo6OgY0BdmPA9vYebti+gNsOncF7 vuTKcsE3PPV48FteQSf+7RuYhs6XSWdgdpZgd4HdWyRcQX5eEAVE5uQOPhUX8GbU3pMNo2p72YV/ aHBn4OCALoRULOBmhH7bghyjOzf41N2lg1kOYMegzsDNDIatzhtZ9wawNZ6oGO/hiKbTjuCIwIdn obFdB7MbMlpmBqB0zbPn+6jujn4cgRhJ5ouUfi+Jx77QXofKZFtOyNq0OUVEdm7/Nh5N/KtSfC8C sZOsoJZ9Uha6FKIhn1W/L1GEavZNg9XnYi1IvxclJBQdA/MVl1Zbw4HDLgciHMCY6U7JULIu/qek /aK/w7/Jxy5znleoHUxyx2EmSYc8ryoQBkbWXbbuzyD1evx8WUhHOfkjX7Y6PLHPckwvr65bQXrG 2xeEQ/YVIgeoz5iUDReUEJ3pAgsvmc8czMaAra0Fbjx8Hjdtnc26pjY01PDgv/puOvFv3sjdaQvT A/MzwKGPDdi92U/UtATs0hMElu+agfd8SLpt77cxCwCEMA5jdo7RXWBVSTSoc3MT38N5wtBvhUwU Q7ALB+5IqZkE1xGGzaCOzA26cz1gLJxkrizD5DuwX0aIhGNKvbV2/POQa0z0p4SsiRK6Rgf3/cF7 hkgIRo5HBBQp8zGbZXzwuo8EWO1DWQNZxVF9s1z6OphXz2V9nz4jkM63FnKqLNs5fi+f+ujbaOf4 vWOiJZ4PwJdUD0QjqjQXY/59CrDvN0aTjbIoTDV8AmR/zGybdRWPMtRSEg+d410QD5ZtQzzUpyGl scUVvop0xNdTZCLcda8smV4oHfIct6GJ7ahCVoQ0IU3uU6pFmSJ7EMKxlm9jar/aer1vzcdB6jNX zi3WYIjbBf9GaLyGGcNu9tjaWuD67QuNcDRcFI7c/jjO9kdB5wwWR4BhwwLkTZ3kvEIhpENCf0yA cWHiDGZVGMDNALMHdBcAu8c+PbfPrw1AIto0+Nc0AIZ9Om6/ZWBmDGeV98OE9OCZgVkyhk0LuxcK jQU1BIAnHL1fnx9PEQ9CrOga14froxNFJpwbHHyl1H4Ym0idSz/3UuavzA1ckpgVk/dkOi5Qn8Av g99j5457OPZWiWF/mUPkAhxI2dTxmCdTWyM5WOe8iSAm0ymVB8OQ+WQuigQ+hVh5oa4RjyqyvisX QTysie9H1ezKUEuRxhSJR2cxqlBKlJtGbfB3SMpaJAD5nYFflq/z69Np6eJh2RilgoGkcmhVI6vR ocfO1gnzLgiFHueAZKA8bhW1cYqxShIxWp6Nxzm5MGm/MrRSdhmNLehtIhxmPuDQ4V3ceOg8bt1+ vIVUGi4Zn/EfXsUXPrGN7nHrJ13xaC4T+RjmiOXY4cjX94BXR7rz6Ss4O+eVj+6CT7kF0k29JhMA og9EJn3tw7ALv7/rKJIU2c7uOdhd5yuVLnrQ3uCNqNZnxQzb83DTNb6pAgC7lzqgsvGZOK7zSonU KLG7Pez5UOvj/K7PdpGCYnJXPzXhVyZMKTQm1/hVIZKV5KOEOhc95lTWzMnbXsLvf/jH6ORtL+FR uQYJr4RlWf0M502dNLicbKnwyn41NWLabC1cE8bIFJcaHOel1NXnoq7zpdav5rBLGV4pK85VUSMe WY0OU1lGudJhbfqPrXk85D2miUectIXtWz9+LWMlSf458VhFOvSyKdKxqtFbaaYc+0GoSgCq1T1R vJ8iHbX9NPQxVq0jICsgNnWNUBLqyEBaki8jF+R0hxmJR8egmcNso8exIxdww9Z5/MYLxj+8hoZL wZ+/6FX0mb/0Sj5Ph0B7vgqqWSCkunoFxAwMZygqjK5jmEUIx3RBDem94XS57QmD63zIxpdgTy5t fXMzbPjj2AXD7vnlnvAQHPmbkOgTo0BC5v5HZJYGJKEd5wCy+XW492phbLWuEEsHELxXZKb2k5Tf steIYB3iocMOFHwlokLvo1Kwc5MEJIYZtPdDkhmmvCSBcMj7qHLo811FPChc+MpmfNrXcbEmTyE2 przbq2CCeACBsK36f7nCsLZGs2+IZVXFUqBOPAAvY3UqjFIjHp3NviCjMEupdgAxh10TDwAj4lEL s+zbi6VCPErSUaa2ZgRETdzjFFfKSIr/TOp9QTSmwipxv1WkosC+GS9T51GiVDq0qgNkfo5oLpWU WMs+S2U+YHN7iRuOnMPNW+fw3udfOQ2RGq5N/Nk/fTU95z2v5r1Ht+AGA7OUSV9MkkghCSAWHQM8 yZDXw6YPvwAEu/DrTO+vDWx8Jky/LT+sQDz2fDqt9IlJvyH/o5HrRry+EHw4Rym53M0gYWZyHK9t ZulSeXR11+1reSC+j+oMI9QFCRVSdRO5dRWPVR6H4PWgCgmRm1xm9lk+uk5GAQ7mSt3zZkpNEaXD nyKNQ/kmnTeXpRtciKs5lwhZScTWVRsm59GLJx0Cdg5EdEU1j1uFjHyUasfaSsd+oRbdkVCvl9Kw fe8dvDWPR1kkbM0wS6rzkWeu+HEQ39fUjpW9WNS6moG0VDdq9TLGBtT8vKqqwhTpqJAFVvvTfiS4 Ri7K5fI+jK2zTrJtis8Q79SAkYGUrXovpKPzptGNrSX+/EWvuip+QA3XFv7yG17pCYjbgltaGHD6 LjM8AZHXSNcDPwEGX0bnBYh+2xMJTya8OuI6oN8i5RsLKochWAt0ezJwGHfwnWqHTYqKqL8uENwc wdsxjz1cYpM6Dv1ZeufX9b7KKQHecN/lN2VR6YAnK2CG2QshlizEsMLMWGYehvNYiWI+yOYPHY4o SEhGJArUwi2jEAuQ1PRwvmyK9SVqBdYmlJZJ9D2wTmpyzAran3QILqU421OBDlhtKq2i8p9TLZMO JOJRVUPSNiuLh4Vt2ZqogozCLAbxCzRSOxTp8G2uvdToK84p+XGfAmFp23yd3NFUPR2j/cNySuek J/qojLDap5jcpzwdWVgEiiRMoRxLjVceQ48jd4JTiowOr2TbG6TCTYWPY7a9wLHDu/j9F77uqvoB NVx7+MtveCU9+/94DfduCzhr0k9KFLzkg85IiKTeSpqqmxGGTa+OxEqjzqffulBDZJiHfcNvg3rC 5mMc9gHMgmEGX8No2PB1RbxZ3hOZYW5hegO7y7C7A+i8b2IHxyB982QplmnHcgm7BwxHNsM5cewD 41NrQwfepS9WFbNeZE6o1asARn68+PpiwwA6HKHSWiezYFYgaz4a5hUuQ/nxZjqcf0Z+XCqwJn8P +ZyF8XNfOAcYmx9D/426tG5d4nE1In4wISAH8XX4ESjPOS49HiXxKMIvVZ+HMpdyl6sgOswy5e0A kJmsspCGvNYGLOONXLWU2ey9ir2uNJFW/Bwri4LVlIyCGNQMnmtlrNRQkgRgH0LDUfKoEo7ytd5X GUizJl4dw24OOHrkPI4fO41fef6Vb5BqeHrh7nf/IPNjc5jd8OWO4Rf/W6BaI7qg0MceMEvALOF7 w4TlQkSGTUK/qfYNxGT2OMMsvQoyf3yAWfrMFzcnDBsG/Qah30LKkum9X2TjtEN3boAZXAgRpfLt cIlQ0Lld8MYcw7FNuLnxvhD4a6IUOrPnFol8LJa52bREzTshqBGWKfVkRTO6KZTzVdk9N25njJ9b OpvmldpcV6nYmmqcJKPpqYfeTkKCDkI8oteEKEuTBcbZMFdiJ9rLCQIOQDyA8RdNiodNGUvFUMpe ryRrcvNq1yF6PaxNBh9r67U7pHNjJZNlSu3QznJZp5uusaFAPsYftxaOEaVD1leJhlq2Tr+VagZL oTiMJnlt/Jz6ryvJgF5WIQw1lYM4Pz85bpYmW56HJh02hFY6B8wY3WaPm65/HM+57hN49xe/65r+ gTVc3fi0X3wNLz61CVpQ7OeiuDjgKIU2OREMs/TEhNiTj9iILryngdFvebOpgIKnxO4hZJsA83Ps u9/2jH7TYLltsDwEDBv+pskfyxtVZ+cYnZRX51xtMUsHs/CFy8xuH5rLdZnKKwoH9Z58gNl3tJWJ 17kxcShLtk+lherXB6lDMeHnWDVXZaUgdCaLJh7WgOddPIaErVBmssjxpLrrJWSS6FLwV0M2yhON Djgg6fA7xGX7Eg8gEo+odkhxMFE55Ati0hclKh6V2h2ReHRK/SiJR5zUaZJ0xPWqV4Nfpl9TRjpk /coQi14mISEZb8VEr5dn25YEoXKetTFW1vgox8tIjwqrhOWlCTZ6OajYV1rVG/iKo5aBuQPNHLYP 7eH4dafxnKOfwDu/4N30OytOv6HhSsBf/bPvp7/zf38fn/nkIWDP+sJiPcH0ci1IaiANlO4HXFA5 5MZffj8cDKigSDYiwu/MdYhl3ocZABgst0Ml1K3g/9B1Qgxh2ODQjdcfiDiNTY5h9wg0N5idDceS 8u3q8EyAGYLXgxlYqHKtJvzIa/1ZSsVDwiRT0FkwepmGypJRf54cpT/jKigp3pCwf7ZLJcwiyzPS UiMdernevzSqaqdxp9QP7e2Q9dpUGohPnokyJh5liEX7LfKMFv06qR2iXhxE7QAmiEeNcNSUAyBX HPYbYwqlWqKWj0yjFbJSPV65TMYQT0fHvpHbzGG+tcRNx87i9kNn8Mv/4N/QnwH4jTVPvaHhSsB/ +7ofoM/65VfyuUe3gIXxCogDYkp4zOZiT0A4rGMAvX9mG8hASN11s/yaAYTtIWN6QuFmhEVQOMj5 8LDso+uRCAEBQrVTJxk38OEhAJ3jWMeD3DU4UUvzUXkfb2wpz2IJqgfPuxhq4t6BmH2oSRMjKbB2 GXDqobfTzh33cFM9PKbJxxTpqK2Ly8N/dkk4DKWcbakgN9onqB2loVQdL1YnncpkWUU6aBw+ydra q32zbUyhnsgFZ021Y6VZFMCIdJTbFCSgNmaJlT6MeL4V06g+nv5c5bFKpYOQ2tXPHOyW93LcfOgc 7j7ySGvk1tBwhSFeQ0WhoKCW9M73CQH8hG0A7251IKuyPWRCXkc1BzDyc+xXRGy/9ZpY6PdicJXE CQndS4ZkaNDnC06acC0jzxU5dPAVQhLmBwL8cXr/2Q/SAK9EIx4JdfKxQu1Ii2QZpZCKsRhBiEct 71uHWWZdYqhB3YhfoDKFtuLtiATDUk4kivBKXF7AqwwpfsuciIffRzacVjumzKTxddh/X8PoSFmo jIHKGLXxR8pLPVOl/IyAIh21cUONDu4YPGfQ5oDtI7u45ehZfNrRT+JdX/Qz7UfWcM3gT7/+1fTZ /9f389lHtoG9ENroAYBiGwDXAYYl/MHeD6KvDyYJIjHEYv3rGIIJYRlfNyRdj3zmi78pcnKZNRJ2 QTh+6vEi0GEd15Fvh2VC2XYJj4QbM9O7lBEjHgkgEgeGz9KgoYgX1corrMIqwlIzq9bWizIuSrki ItXaT8YTEdY1pZD+Fk5VvebNLplzBwb6Rcxw4cFNNrxrOBg8+ZhimRW1Y+TxAMahFkNjs4/+0sh4 QjoAz0p1mIJ0tkq9UqkgEpBAPErS4dfl7/1rqNd+uVwMZJxaquxokjYYqx0VxSKOMUUiCrWiSiz0 9uXycuyJn0imspSfpdiHkJMQNgXp2O5x5OgFPOv6R/He57+D/gzAb9UP29BwVeNP/slr6DN/6ZV8 4cJhYBGIQR+uiaEXDDj4Phz5+h7BhArnr0HDBmIxMgnZuDnDLH1mjDaRAwAF24X4riS7xXXIf7/w fEBfb4TQmMGXS5dS7wDidZSQq77chdRiKeAlKojqbQIiYNYFA2Y+ZhW6Kqh+1qjtSybtqzNYJIQy n4HnHdzcRlJRhtZjAbLYej48O09ApPJrrABrfTjfWYJdDr60fD/UiVDDJWE67LIO8dCptMrzUQ2x KJUDQPzyCKLaEY69L/EQkgHEEEuZweKPk053FfFwZZilCKuso3ZUlYoV6sVkLQ29rrgY7VuXo/gN a7Uj+9xyjFLk0vsiv0uDYd9KfOaATYfNI3t49s2fxK9+2Y/SH6Oh4drHn/3TV9OJn36A3XIGgJKx M6q0npi7DqCeMqIhPyh9TcquJVEWQfR7caicKg8zSKpN2N8gTqxUmDyT4RSpSRzCzZr42HRnW2Y4 IlDnFRDqnVc7HPmy5dYA/QC2xqsfxoQT5YpaHpaDUo2OMhumCJFkEzyl67lXaRKB4c7CHdqE2+rC vKCuw+Fv6tOMKZEQ2T+QKZ1+PGzYOI5fx6Clg7mwTNk+cp7rKDsNa6EueexHPMiEtFj1HliLeLA1 4FkH3prHL0YWZpEfRNjWzWyUy9zMgLvUn4Up1OewifHWiEfsYltBSTzyvwOSiTLcpXjZ0zPj+COO 1TrTRYQtkiHNqItLoW5kakpN8Qjvudinum1DQ8MTjge/6X5y1/Vwc04hEAElchCvP3peDKEVoCAc xKpaatre2YKswBMQ6uEzanrEvjCmB+wS0Zwatx1SATF/gHRNlPpG/jpowo2cUd6IEMJQvol4HY+9 T2TWVuRCv1bbyX5sk3/PH8/6x6zzj5h4ENbZNH8gqOWp/wzSZxzGy/z/QcqSjH/H4OEgDjevRJ6g OQTvixurOw2XDWPlYx3iMTGRryIe8csE+FAL+VuB1GFWCAPtq3askzorKNWOLLXtGkFZLCyrbEo8 UlhkO62scL46S6N1nb8w8oYDbQ7YPLTAXTc+is859jH88Of/YqM/DU87PPjNr6C7fuYBxmOzkNGS flixzkYtSUJuGiS9PxQri9clpZAIWN/4hF8od4hKhukD8Qj1QSTUAqTrnZsT7K6faN3M+H4vrFQU UViJgCGUZB/yvik10yhHhQMqhKE/r1zXi/C7zkKROQDwx5S6IqI2SBsOE86hH0BEvlp1CLe4zsT5 AUN+7AxCUHTFVgS1ow+hJhfSjUXxaCGXJwSJfJSk4yCFYK4i6JLo+j0X5EVirKPsllomC+Wv47HU pB+LEunlSs2YNJ8WY/oV+b7l9rERFqa3qXk8SBMRA7ANYZYNB9rucfjILp59wyN47/PfQX8B4NfR 0PD0xYf/xf104idfz+Zsl7wRADDkE3BpVh82OP7+xJeh/RpyrYjVUgNHcLMkMjMhlXsHYuEyTTxK eKUD0fsxKsgIpGubJRB8QUgMBGAAycVCZ8pIyIVDdgin7rnyN4g9U4hSwcjOgGf+htQp8mF6ByyH IuWV0vFkyeDX09KPZTj4Phjp5phDhddQyl6qvlIopCbnToMDLTlUMgXIhbDTcG3OgVcKVqbarlQ8 SlapjaRTqochL+PJl82mcZJp1KRno9o8K9WjrNshWKc/y1Sr+6zBnJANHTaZqNlRvq5N6lmarnyW yrJyvxHp0CSlJEDISUfcvzxOMTYVy4R4uJk3lPLWgMPXn8ef/JPXEAD8CRoaGgQPfssr6MRPP8C4 YGMFVMMA9zQOjZpkFAWEdCTZsWwCSSGsokOzYl4ll9QQgV0i831Ez8cQ7uwdx2PE62oAG4JZOjCR 7wkTUk006FzHAAAgAElEQVRpgL9OswHPggoRJmh/DTKpFoZWKpBUbAAqXBPmAEtwM4tSRWdLQO/3 q3W9jUqEQ1Jclga08GQmb78R/tTqGJF0SDIEM8zuECqYqgygWufapoBcVoTgmSIOQJ5GC6Qus3pb AGWfllgXX+Vc6xr6GfEIY+kvaC2V1m83ZulTGS2lt2MV8cjUDu3LEPNo/NHLtzgfs2byXGk6Rb5s ctuSdGiUxyr7rVS2rXpZKkPK8d2c4bYHHL75XCQdDQ0NdTz4TffT3T/v+8AASKQjuzGSByfS4ZK6 USUgIXRDDnDzgoCofbyfwYcTul0XfXAAou/BLnw7eDczWbharh1Ge0KAlAESCIhXFQLxIAc2xk/k Bkmh0BkwMsF3KhNF+frc3I5VV5ncLQFSXFXGiicmWThFSMQYoLcg3bNFGU4zdMaTNmaYC6FvjfGZ l7TsgWEYN5ETNP/HZUNSPmrEY5XaURQSy7oGxi/dhOIRoP0d/n3h8QBy4hEnU5o0lsax11A7ZB/X FaQDBelQF5LJolyrSEdBAqohFuXbGG1TbJtCLjwiN2VqcO11lXiEfd2cgWNLfMaJh/HrX/4jjXg0 NKyBZ93xSfzV3q0AAO4778/oGGZQ1y7xd4ghtDBa6TCLJhfdLmNg34ROlNnYpG4A7JJhF57UdOcG sCUsD4dqn1ILTLI/tAoQanxkKbiQ6ygFopRSUeEYRAyGCX4LqHCTmqyBjHjoDuQAfJiFOS8VEkIc NISQh+6zohSQjHRoYjA4nxJb3HxSeSNsjScXco6Ar3ga63/Y8P9F6Vhyl+tajQ+NnbtfxgBw6kNv JQDYOXGff79mJ95Y52OkdmjioVNpBfpLrImHckNnikpnUinbIo0WWE08aqGWSyUeU2qHJiXrEI+q 7wNY7Qup7KvfU40djF7nxKNKOiYIRzw/l47Jln055mNLfHojHg0NB8JvvuCt9KW/9l0MAB/58E0A W1imUC8jhC/IS44Z8UDxOqiSJtboCIt7hukphW0C+bALjhkv5Dj3nggMMMyD+mDStnAMUzmPpJpA XYvZx5OEgDjnPSHierU2lJwPFyLJlpms/RGIhm4p7xBIh1oWnhMRQDKjlvVDavvGvyt5n4i1YQ4J 4aJIagLb0zU9aiGfhoQw7++cuI99rzZzoL9RaixXq98RD1CEV2QfWQ/k7Yp1TQ+R3QJ8emrwdVAi HQCyrJb4Prurp2py8KgKacC6xEM3los/FkUI1ikUViUSqwiH2jbbvxyr/KyF4iEybLUPzHj3BJf2 ByXi8ew7P96IR0PDReC/fOWbCAC+6NR388MfvQHE/kbMLNibNdUPUnfCrUH8CtQzhlnR/JIB6hPx MEN49Ix+23o/R7ypAGgBcEf52MHfEMWXgSOpSftSzHZhQ74wF3FQREJlVzNtG4zXUv25B5dSXKWa qnOpVgkrAuBcXuDLrSAFOkFCzrnYj6wBrPVZmbPOn1YkGn0kQlHpKY7DjXzkGFyY88mTvvD32Tlx H6Pv9y0lH5SPitoBVIlHRjqsiq+FXG2/bSAeSs6KDNqYpGIE0rN2fxalePjt68RjvzBLzGbpktqR MXRNVIQglOSgQkDk9UpPh9puREZQrC/G9ufK2bJR18xiCNZvEBao8BIMe3PplsMzbvsUfvMFb23E o6HhEvA7O2+gz/+V7+FP4hj4rA1FupA8HkBUIKKKUZvXKF2v3Dy/CRIzqpUsl3DH72YGbp5Lnmwx qvSpbwjL4mRxV1MQJnBGQlBRnfMBOI2vD9E7b1gVAhL9FUoJcUUYpxgzERK/nSYa64RGdu64h0nP X7J/ZwFjW4fcdcAMLHuc+sjF3ayqVNtC7ZBlQN33IUoHMFY7gLHRSNSOAxKPso5H/NxrEo+pFFod ZqkdIyMesqymVKjnqfVMYWx1V5Ftg7Rt9pyNM67XUTOzTo4t48b9OP0dZoz50T389sk3NuLR0HAZ 8PsvfB0993338yceug5g66MWSwKrbrgI4RIAqNUfkvRaeR2vTyVXCNdK3fEWCARnkNfqGscoJvW0 UywzHs+BxssNwDFGXDtvCiEgZOqBhFmkxgYth+TVkDCKEA7JOlkFTTzCtut6MuSufOeOe0QmCSdJ yW8S3rdwywpcwt/Gf52lWmlWBCYRD6L0AAB0XQyxjIiHNeCNTlXI82NK+CJVtJMKd0UBsQniwRlR UZ9dvECh6qgsy4iHXYN4KNJQpr9WicUEEYhhGr1cH6+yzegBr3Bkj5BWFx+mGM+k/UfEI6xjw6Fg GMcKrDxjYO5w63WPV78gDQ0NF4ff++oH6IbbTsNtO/RbXmF0M/bZZB2P1cpgO4BSSWI6bfG7lt+v b0LnvSBuRuE6GCqjkt/OzXyYeZiHiqZxmTyQrsUmXat11kzaNvny3NxXnR42LIYNH+7RKbxR7Vb+ DpKGbbtLYNn77JKSeACricdI/ZD3B6/LceqhtxP3g+9oywz0fQr7FBMrEeHkLS9uTATAzp0vZcRi oReHPNVWMKV4iExlC9Ih6zsbVY79Umi1qTRto6qXTqTSZu8V8dDv5TVrMiKTf9HDpVQ7Rq8LYqHP Oa6fMKRmdyvI9ynf5yEZlT5rJsatgAkozWtCOjQ58Z/Py6bcOcy2lzh++LH6oA0NDReNP/jHr/Mh mIeOoScLs0cxUwXhBoJcUil8TQ4ApYdLh2aCguo6wEZlI1zPQpEvtoiVVgFv8pfrpImKS3R8pEEx vr7otN0sDC7rw7FjwbRwor5QF8cOsb4o2OArlPZy4hUfx7qqx0G2X4FSLdm54x6O85pzsR4IiLxv 5GmMnTvuYWzMY1ryxYZcgHJqJBPDL2R9BgxFRUMRDwCZ2tHZpHbM8g6Dbmbjskz6ixMjZcSDDXlz lNHr1iMeuYnUM/p4F9DViYdWDiZVhFXEoyQEeoySlJTIjsHxMVJOaqqK2n+UESPqjoFXOaLykRQV IR72cI/bbjiDO7c/NXGSDQ0Nl4Lff+Hr6I4Tj8Ad7eE2ObtmZCqmXHdkEg+XBNMjdsjVNxeiYmTj GcqvcyTKSDLZp9f5hclfLyeUDq2MhP1cRxg2CMOGiUqK37kgHovePy4sQHtLr3YA08RjP+g6Hk9E SET7SeShlp+87SVPe/WD+iGFpi4SQfkoTKVdKBYjxcWKBkEj4lGoHfulzwJazUikw5/DWOnQ2/vX /rkkHnE8pXSkMdWPVBMPTb9qk74s4vHEX+6f1eqokJLsWdYVTjOdxRJJByrQ42SfgeN6HfKJOXWB gIAA2nA4euQ8jh9+DG/++//nRTPYhoaG1fivJ99IX/X//m/8xx94BmjowC6oDQTEH3kIoxggpsHr LDbTq986K8VEFillV7bJrkkFcfH1PfxBxMNhejGVpjHjcMqv5+uYhPnCAWbJMD3D7g4we0NUO0Tp wDCkDBKttE+Rh/3UDN0C5DIX/jr1sXdQ5gWRWiMNWQbLzvF7L+kP779ahpK3Qysd1nhvR+gkKJ0H o9lUTKVG/B15F9qyKVwZYnGdIh7xbj0nHpnXIyoZoatsqXRUiAd3Kv6pVZVigh8RDyD+WEfptpSO q99HlMRDLU/qSm5x18eYJB5aBcnuluQWyV/Mcn9IWB7/vuGCZxl2PuDmQ+dw++bpVd+RhoaGy4Bf /bIfpWc841EMhxzcDNm1Sisg3seB9DtXabZSoIw0OSBPCJLCoVSI7CYlv1lLY1e8HeE6qfeNx5gl JQUA7J5Dd35Ad3aJ7twSZrf3Csci+Cek6nUNlzipU7H/yZu/9bIwkVMPvZ1OPfR24sGBBwdWYZ7y mA0Xh/j1ohob1YVdAM82xVCqwykzG0mH3857PDLFA+qLrUMsKoVWh1jkvYRNNIHwYyE+6xBLZirt MDoOUBAPpGetjpRhl6zPS7HdaBtNYMqxgEnSAblzkXH0/5L+vEaNQ4pwKOmWDY/Ujkg8Zg52u8eN 153FrdtnWmfahoYnCb998o105LbH4bZdNJJG6BuLIhwj77MCZZzICFtgCOm4MV1V3ewJ8lIFyXAa 3xdqc2n019ubHuh2Heyug1kMMIvg69DFvySRoYayVpTGQT0fQFTwLxcBaViNUx992yXNGwZQxEOa 7Yi3Q6qUSnO4mScdqVytgZt3WVfCrG+AUjzKMAukUZsQj4J0yI/Oy46lM1s/VCaNTL5CRLSyURIP ARXLtEJD4/d5+Ka+TYaSeEDtK+enLjBCOrjYNxEmRo10+Nchk6VjSFda7/lIagc2BtitHkePnMcd h0/jC49+eOUXpKGh4fLij7/uB+jQHY9jOORCDY6wQqufpK4H6vqQVTh1HEMv2mPmLEUCkhRiGl33 AIzWeZ9eyojJHp0mHuxJx54iG9cg3v/xd9L7P/5Oaj1dLj/S19HanHiE0AuHcEtWt6MzvjGQodR2 2FBW12OUPluEWeRLL190QC9PJ1ir2xH37VJflvjj05O6HjObwDEmBRWSkSkZtTDLKuJRKCF+WTCU 1s7BIPeTqYuD3jceX5MOTYJKlSMSHAZmDrPNHkcO7eLEscfwuccewn2f/Z+a6tHQ0HBpCPNCVMPn HdxmB7c5B2/OgPnMzyXzmQ/fqxvb+KzrRB3o0JSrH2QuW0rsyVtezCdveTHHjBginPrYO9o18zKA gGAcUZksUe2QL4gmHtIkCIg1O0beDiilg0QBCe8DcUiMPi2XfTXhiOsw3r5k/NozEdl8SQxqZEEd rswuqZlPR3U+amOVpKM2tsCMSYf+3Jp0xOV6DB1eIc7OQXwg6BzsxoAjh3Zx53WP4bOOPtxMpg0N TyE+7Rdfw/3fbKM7RzC9lzwp1PkYNZkLIBdSZXvE3i5AUoml3LrAaQNq3D8YzlWBs1jkjDnzwLPa TmB69iXjnTeZSoXVWMtDldqOPVuGIS0ffAYJDc7fwJZl08uaHxrZuMkWUM16OWDhsZO3vJjJmkly sXP7t3EjHpcPnnzc+VKOageQwiw2KR0x1CLGJFUszL9PSgegQhMxAwYxvCJHlpAJoAlGrnTo12XY xZ9rEQZRxGY0Tm3inyIQhaJQTXFFfbnOYqmSHn0+5TYKKQU33yZ99oJ06OPIe8uguUM3G3A4KB7P OfJx/NDnvaf9iBoanmLc/e4fZPM3m7B7AA2KgIRsFiEemozQEEhGD9g9r6S6jmCXHNN0pyApvP61 6ixbEJzxfn4D0wN24XuxmKWDGRgUuuL65m/wYRjHKbtFGsZJOXXnIgEpx8+Ke5WEQmfLVFJgS3CF wOxHRHZu/zYG0NSNJwGefNz9Mh6pHfsRD6lQ2pkR6dBdawGMiIcQhLiuVEs0cbAAZ+OMiYcmHaP9 lfoxCrOE8439FrQyoUMZep18l7XaArXfFPEozqUWf833USGWLNyjwilQpKNUSYI/xGwMmG30OHpo F8ePPIbPPvowHvh7v9x+WA0NVwju+tnXsf3YBuwexXLoGQEBMuIBDrU/Ql8XwF//zODJBA3Ftacg FsSidmiJI9/Gj6n2cV5lsQu/kkTxYH8O0iTOKzecCEg0xzIwMMi5nIAospE1c1tFQGS5bihXIyBE PkvlgASk4ckBAcDJT395oLUhhGItIIqFpZjFkhcPC6RDpWhR70YhFllXFgkrwy6yvQ6x6O3z0Eua yD1JOADxqKkLAEqCUCUeUyqJHh+BINTWleGV2nhAIi/l+ducaMT3GjrMMnew3YAbjp7DXUc/hc87 +hF8z9/51fbDa2i4wnDiXa/n2cdnMIuCgBQhGGlQF6uUCiFBUjJG5KG4TFCvxhJMOCR8aMUTD9MH NSMQl0g8QuM4CausTUAkDTesq6of8l73WNHN5/RzSUBkHhICUhQwe//DP9auhU8gdk7cx+gsTv31 W6p/Z//1NCbV7bAWkL4snfJ0BKUj1u8PxMOnw4ZU1w0hJ4lYlIZS/zwmCaNlyngk6yT/XRMPACrU kG8/pWL48QtSQVhNPOKO4ZATP9aGhoaGg+LBf/kKWt68hJtz3suleNY3Pa6Dr2M0DwqxleJfISsm bFdeX6X2kTbr69d6W/GIlJ1vy6qn8UaUKJ1vqB+VrrWUbmp1YoMo65oc0MRrDdlXt/jQj7gZZcRD sjv3M6WevOXFLGGYhoNh5/i9zEe24Y5sYefZ31n9G/r/tUA6uDOeeOhKpfIlm4UMF+sL0LiZSabO Ipyga3b4ZcUX61pDoVpkPRhQITCK5KQfJqsHUg2AoHj4YmEAdwwmzlUP2c9y8HgM6DYGbG4tcOt1 j+Mzr/843vMlP0FN9WhouHLx4Le8gpbXD56A6BsrfWMW3jtFUCQNNxKQSAbya8yozADGhEOvzzwh 5fULakx9zM4TDDb5HDJCuLlFrVfKOhkvun6IEBDJ2DTFmFRpjnoAtHLqFwkin/20tVFd3VWXPkHI QioTX4KsZDpozNw1yZFwS3mXAIzCGtVsFUzvO2UCnQrFcDm+jKMVGNS20SQifbb0mn0fFgmn6HMq wzuGQZ2DnTlsbC5x85GzuPvIo/jZ5/1UIx0NDVcBHvzWl9OJH38jzx61MKBY5jxePELZdQP4Jq6E VIJdrjcMmGBeLcMpNHhiQ7K/AhvEuiGmL9YR+ZsbhOwUE87FlBe2cE4W4IFBoHS9H1zo1Es+RKNV Csla0dkvU+3sYysO9feJH1DWhclGQjJrlHQ/ecuLOY4dwjTM3MIzF4FTH30bnTx6P4snqQYDBLks MFE3V5VLO4Nhs4PbsL6QmGK5JRkAQphlTkEKDLU9VMGaWALd5pVL40M1P9JhFidN4TQRCUXKMv9H hXhMpslC7TNFNtYhL0BGJOJ4qhV2RjyUwTb6M2Qbg0xyZVshHuE4KdMlPHcOZj5E4vGMY6fxWdf9 bSMeDQ1XGR781pfT8sY+hGCSwTxWPQ1hk1odIlGiXdZiAaObpKhY60cFuSpCsRAkgFwBUaUWpBQ7 dMkEQkpm0CH10IZjssaH3r623lTWaVIjSohWREQBMRRDLydvewlnHWs1CWm4OIinx5UM0YMA4Cv/ /vcxz+wozDKK6wXk2RdJqUh365RtV9s3peKmbcSbIT+MWnqpqB2lMTV9GrVPRozUNgUxmSYTxZhq n3yMlN1SK5lcJR7E43PXY3ZhzNJUqtWO8Josg6yD7Ry2tha4/egZ/PqXX3yr44aGhqceJ37iDdx9 qoNZKiWDAGcZ3QVvTC3rgADI6ndAvU4GVh5vJ5COuvHBwdzKWZaML+vOaXy5LMU6H4AZXDSnehMp fC0QRpiUAAq1Omg5xOyXWLiyVChKI6rGFEmoZc0ogyoPDtLXzC9KplbJismKjDWsjZ07X8q8tYH3 /8Ubq387AoCv+PxXMs9M7u+wY6Uj7eEhVUbjYMzrEQ8zXl8jHtk2hVpRJR0Fu9fbr6t21DJiaqpK Te0AEpmK72WMGvEoz1spIfq1378Iz2ji0fmslkNbC9x13afw3ue3HPWGhmsBJ971ep59YgZaAuTI t05wyNNyVe2OiEgU/Ov4PhAQYIKEKOIhy7zhNBEQX1hM1nNxvDCmFB6LRcZc2k7qfcjxe+ezYIYh FSDL0oAnsmBWQbJbahk0mnzIORBlxANA5lVpoZfLD6P+zYiHDwFopzKSpKazWPQ6Utsj9BUI77Om b0jjsFHrQnhF+rJEo6qSCkeTtvJUACuIByWCU6oisp/2Z2T7aFNtNr4Ks5SmMKxBPBTRYN151iri ocuqq+OCAJr5UMvG5hI3HjuHz7n54UY8GhquITz4L19B/e17GDYBNxOyQDH8ojveZlDXpHhDZ1M4 Bkau1zTeTmfLQIfDVY8tWzmmQgzFTIRMxJDqXxsgdEffN/NlXWhfiBxL+0HCscgY38kdSGbUikm2 mU4vPwgA/tHzXs3cGbgNm8IaQfUAwhdFxfwEmcoRTE9iWJL11bodigjEiR0VtSOc4ah2Rzzz9Dwi EzVlYR3FY8Wy0iRa9Zro/ZCWS3gmIx5AIh0olgnxQL4OYXvqfNXSza0Fbjx0Hr/1j+q51A0NDVc/ nvULr2X38U2YPYJZeAIC4lgXpFqVVIVkymqpUqysVEKi6pEVI0MqKFYqISH8wkSqzghH9YBcCr/E Wh5B/dBVUGlgr3gU9T9GtT/2Uz6EQEwVJyv9B/q91BOp7Q808+llhgEQTKZmRDxGLe+zrrOKeBTP 9Q60xbKgdIgqUFU7asSjnNgxVjtqE/9BiMdIBYnbcFQ7RjVBqHiPclmePpc1fyvJiCYess5wyGZh mNmAbt7j0PYejh873YhHQ8M1jr/+xu+ljeNnfSfcWVJBIqaui1qZtel6LCZ+KX4YlRCtgMi2MYVX X6PDMVQF6gxZuL1QMUjtI+qHVNg2Jq//EQepEI9ym3Jd7XzKfXRa7gri4VdTU0AuIwgAvvwFr+NI PAqPR+lwrhk92ZBPoSKMthkVFqtM3FlRmnhWapxVqoR+n30qNXb5Wt4HxWZMMortFBnIftAF0agq IABgeLztKNOFs30z8iH+jo5hZg7zjSWOHbqA39l5QyMdDQ1PI/zd//i9/NjHjqI7Y2H2ALOkWFJd UPN/ZMuDImKGQgEBVB8WpXoUBtTY3C42llPHkNogQc0QRSZTPxhe9SjMp/4cg/m0HyDl072Skjwi VcKhVYvacu3nmCrdLpjIztDbt94vlw4DIIVCRlktWu2oqRyFAkIYEY+yRkemhmRt4RPxyNSRVYwe apuwb02FiF4PqO2AalOlDAVhGREPtQ2rffznZ2R+DUWoYu0Oy2MFBEj7GMQwi9kc0G0ucejQLu68 /rFGPBoanob4o699Ld10/DG423fRH2G4GaeUWnVTF69PBfGI1zAV9h57Q6hQOvSjVEBolOHnzyON 4ZdR8M1p1SFUQzUmS8uNxcdKMrGO0jH1PLVPrSpqmZ6rPCKwFiBCq3x66Yj6hVY8vMEoJx6A+oJC ERMxMGHFlzR8OcclfFUIh5CZp0ZqR6kmTH0S/eOrqB1VtYQAMFYoGTwmHvJD1ePKsWv1OwxCldJA PEo/BxVkxYRlBjCzAbN5H02lv/GCH27Eo6HhaYrff+Hr6HNPPATcuAe3AbiOUwjbVK6hKAhJgA4t Z4kBermdum5jNFdkN5FyDCExpMo2EALxoJGxk6Ph1ORVTGtEoCQN6xAOWV8pw17dtyQl8nwxJtiG DAQAX/YVD3BMszW+IBhQUzwUO82Mp15F0NVJ43PBruWoNUPpyI9RsmlMb1dTNqqZL8W4VZ+G7Cuk Q5aTIlq145cqhyYgqikcl2mzU8ZSK2GWHndcfxqfe/1D+NHP//ftW9/Q0ID/7j99O//1B26FPWth LxDMkhA74cozkBtP9f26Cq0woTCf6vU+DCPN7OQhIRfTczSh6vCL359j512S99KcbnCqLkjYUdJz JfwSjKnVEIlsJ2m8Nc/G1GugXhtknVTeSsou0EIxBwUBwPO/6g0cGW1F7fDPgVjYfHlcx3XSIe91 9skoxDJBCoB8XY0kxG0qzH40ztT4q4hHefxS7VDbj70e4XUgHrVut/5ZqR1ArHxqNwZsbC5wy9Gz +JzrHsY7v+Dd7cvd0NAQ8cXvfzk/9KGbMH/EhswTirU69iUgkSioAbnYdkDm9dAkxPSJlJQERMiH H59VtkwgH+G9ZMBEAqImf8mAgUMKy4T0YHIO4uWg83ugwSErzQ6MxqsSC93ttlZbZArBjzJahkZC 1gUBwD/4mjcygAMTj7ic8uX7EY/s/YTasR/pmFQ1Rp9un2PsRzyo8vlMulMYEQ8xsRq1LsZiOT9e 6e2QVUHx2NrewzOOnW7VShsaGibxRae+mz/+pzejO0cgRznxEPWiJByFAlIjJpn6IRVNWYhHWi6k YxUBMctQSTR0yKXexeNF5cJxfl7w11CeWQwb1jc0tQQzcEjTBezegO5T54FlH4lMPsCEaiLraphS RLRxtUpkHE499PZ2rV4THeC/JOK78JKXzKSeLGgnNBC+EEHtGPkoKv6QlcRjHzVimiCoY5b/3ZqM TJGUmnJRHluMVKzGKcM/6tdSKj4Z8TCVL6scKygdZuYt6918wLHDF/B7X/0A/cl4r4aGhoaI39l5 Az33fffzI39xI7pzAMlFTt/AIVyq9DWP0/poSFVEhUldPsM1388V3gdiermeEkzPwdfmBzNLTgQG UKmuYe7ojK+I7QB/p+Ynd1bHM8uJrJOGawIdgOBu9gvKNFv/7N+7cptCEYhGTCCf3Gv9X1apGatI QrleY2q5Xlc9RsXbIaQB4TNpRa44hv5cEYpsRMVD/dhjU7lQv8NuDNjaWgBAUzsaGhqe9nBzCzcz WB7uvKE2kCcXLsx2j9GdX643WM0PopUMvV6XZS/3r+0rMAY7d9zDAK4ZBWTn7pfxqQ+9NfssO3e+ lEHklZ6Pvu2iPycBwJd+fQi7RINpTjqAOvHIwjMSaqiEbEYKyD5qxkpDaY1grCAj2frR+0Lt0GqK RcbC6+GecY+WrAOtVjzU31ITD5r5hnBHDl/AH37ND14TX9iGhoYnH8993/38yQ/cgNkZAxoor1aq RIRRyAXFOgm3yHNoYFeGU0yP+KzDLmYAzJKzME0Mh+gqqEDsLwMtcsSbXYNhw6DfNug3KVbPdh1h doExPzNg4xPnYc7uZXVAqGZQrZGMVctL1MI58lwQkUuZkJ9q7Jy4j3lzDsxncNtzDJsdyDHsuQVo LxA9Y3yYyznQ3hKnHry47MtIPsYqRxovT6Ud1/xg47+cqT5H2LdiJtVmzOz9fuvDNjXiEbfbTw2p kI+pomHleaRjcPzccSwdZpF9ouqjmTa8+VSpHZubS9x69HH8P//wh67aL2xDQ8OVg7t/5M3cnaUx AVHeDo1seVBoI9HgfH9NQCgUKYvZLwNH8ym5QECk0JiUUA+qAkkxM+TnlCUjWN+4dHHUYnE4lZFn A8wuMLb/doHZJ86DFmFSlOwXVxCL8vUqrNpuioBU9nuyCcjJ217C1HXZMjmHneP3MoZhXyOsdKHF rIdzERoAACAASURBVAPPLJY3bGFxrIPrCN15h/ljC+/VMQRzYQk6t4v3/+WbLk35+JIXvYmrpKNQ OEpCErM/SrWDaEQ8MtIgSkltwp9UGcbv47lcDPFARaWokJCaLyR+VvnbrEM6gEg8yDLsfGhqR0ND wxOCE+98I88/ZUF9xYCqTKWCbJnM/yXpcL4qauqS61UOWZ73fZFUXOX/iGoHIgGJZEdN3rHMe2fA FlhuGywOG6WoAN2uw+bH99CdvuA74areL1XyobGKYOxHPsrMmP2qpQJRlXkismB27riHY+2TzoKt ydbT4HvlrKNO7Nz9Mub5zI+zMcPeLdvYvb4DG2B+1sHuOZilg9kd0H3izCURD0A8H2ZMOjj/DOP1 inhkpANQmR6yXA1UrFs52aPYBvk2te30j2cyPFNYqrOiOkivs2NMKR5iKo3LKqSD2BOPkMUym/e4 6eg5/PbJNzbi0dDQcNnx4ItfTid+8vU8+/gslmCP1y4hIUAkILHOh1yRolEU3hRKIboQbhxpQLwG EtQcHI4hxxMlQ7ZHIB4IPkMaOFx3Ze4QBZ7i9dsuGbMLicDYJWN+uofpL9KQWvNrAPVlGrogmvhC ZKyyD41ebgwwDOPxLgE7x+/lVPSMwLMO2JiDLYEuLLwa1Ptjrq3CDA7UDz6VeTmgO7tEt21AA9Cd GzBsGJgFYM/tgS7sXfJnIAD44n/2Jl5VxyMWD7OAruehS/Rqc2lpwFxFPlaGWcIZrkVEiv32K0Qm 3WSzsEtlPK2OZEqOTo/VpKM8bigWRp2DmTkcObSLP/ra1zbS0dDQ8ITjrp95gO3Dc1jphFv4Ocq6 HoJRyq3uciv9YAakTrg6/BJTb5Pa4UMwyNJvgRC+EduHLS6Lek7p/DMNjNnZAXZ3gNldgvYG0DB4 IlD6PoD1Qy/rhmWAnLysKoAmKFJwT97yYoYhkCIsXBmj7KC7c/u3MWyYoEXp6CxgDHjDh1xorwed PX/RYZ+dO+7xx+gseGMOdDaSKJ5ZoHcwj59DaUK9GBAAPO8b38yabJRhluxuPygeQJ14ZB4ITKsc UwRi0gNS7O9X5vtqNPLR0NDQADznPa/m/sFDsBdCHZAYNsFKAiLIjKdCQlYQECEdmozE+iBLCb0o EkJJNdc+EDHJ6uu2XTiY3oGWDmavBy0H70PQoRcAMfxSIx81peIgKPc9SG2R/eBcKuO+qo+NNZ4c WN8JmJiBxRK0u7hoA+gUosoSiMipD14ef+LVTT6mtls5LqeQ0QriUYZPtEKTFQ/DPsQjZLR0Gz1u OHoev/tVr2/Eo6Gh4UnF5//K9/Cjf3UDurPiAVFekFIFAapEREiHZL9IFo1fzqPsl7wqKiflJKsk iux6HkmN7o4rl9eeYQbnC5UNzptZF72vlirqR+n9mPJkXCw5mOqcC6xXIXWdnjDRdEuJiCjCxDao HjPrydfe0od1+uGqyrTpgJRGq78Eoz4tapus4qe8LiSz6WJeFQJRoiQnetmUwoHxuprHo0Y8Rvus Qzy0MqKPTchSac3G0DweDQ0NTyl+/4WvIwC46+1v4u6sAfV+1pe+LkI8WEhIOQDnN54Qs2hYB0dw nQ+tSAEywPs2yDFcFzJviEHKOxGPL+8pKCVACqEMQTkJ73XxM3/XP4TJyAFDGT+6CIWjJAhlOm7N 3wH4v41T29bqhQDIGubVjickw1BqYhf2YWOALvwn9M6nvC578GIxCtNc6Ygahe4w67qgYEinwg5R 0YhZHlKKPbROBoISUpKOgnhEaJmvICW1gl8jU2qNOFTHS1/Y2IVXfkRB8eDyOJVzisQjhGtq6ksk HtarHbPtJbYP7eFZNz/SiEdDQ8NTjg/f8120vHUJN/c3TmVn2+yaWyuVYGrzgFxXqbpd1uE8GEnT fIPxdVyhLLcuiIZUA+95sGFCV4+sazpQn+Rrj+xAXN93CnIs/SwPa/xDH6vSodf3WAsZLNag7PxL y8GbSnf3QMse6PurjngA4b/9ud/0lhh2ybJcptJo455pudT58Nsg/0KjeK32r6oiYdzUO6WybfWT qDF01dIKqQDyUEsy0Y5VkvR6QvGQsa2/faCOMdtaxhLplbNtaGhoeMrwzP/9B5k+ugmzRArDTIVf Kp6Q2C9GQi9DetbptunBozCPXN/FdBq3G5TaIesGzpvSOdWQrnch7BLUETf2gJAOyaxCmQmzSvUo MTV+TeUgRYqmti3PR6cRy2eU16HJ3dVUWTWm2pako1zO+o+iJ3MgTvi1CT6+R+X9FDmhnMzo/dep 6ZGZRPUYmnSocWPKbEmQSk8Hivcl8bAMMx8w3+hx67HH8Z+/4s1XzRehoaHh6YMP/o//mj7zl17J ex86ArtLYbKn7BqZ9YKRlzIPhigHaWVYbhhtOg6TXEbJ7xwICwipV1hoOOdv8ChMskDpO2EixO4v RPEmk2yQagzAvfNZJMUkzgZ5915gTBQ0wSjLsOvnErV029o26vWIeJTHKL0r0kF3cJmhdOf4vRdp XjkYdk7cxygVpOJcDgoCgM/7X97iP0Cpcpgx6QAqUlzxfh3FIyM7JXGZGNOvKLYZKSw8UkvKdF7Z N6tMSlixXyIbI4+HhGE6h9lmjyOHL+AP/vHrGuloaGi44vGlv/Zd/NG/ugXdGaPMnrkKAmCkWgDI Kp7m3W8R02rFhEqxEBnH9wKtjJCoHX1QP6DUj55DZg174jM4eDOr8+pHUD08kVK+ET15TxlRp8It 8SQnyMKqfVZsn5GPCeKRqTWDq/ZS2Tl+L5eqx87xe/lyGU93nvnt7MNaIQwkfhX9eZY9aG8RDb+n PrJeXzJPPv5XTz4mQyzAesRjFekotyn3x3hdfpY5asSjpkhkoRd9HFE7yuNmxIbzaqw1c6llTzy2 lrjlurPN29HQ0HDV4cS/fQPPHu08AYml2ItQzAQBGdUCGdLDhPLq1IftVXaMvI/Ly/BLICBl6AX6 tQuZLxKO0aEP/V5IyFQ2jMYBiEcsolbWFVmhgoyIR21b59L59QPQ99WQiiYfwPphl0zJ0BiCnCXV Uq3NCAcTAcFfIz4bWvQwpw9e+yOGXYCSFIQXpRdEJuKLUDsmiccEESkxdcz9SIec9khFkfNRBCMd n+uVS+UYIbRDGwM2txe4/bozrT9LQ0PDVYkH/9V3010/9zo2f7sBs0SoghrCJHIxJU8MWBERidQw +UsmA0AIuxAD7MJ67Q0kPxg59lVOY/VVCgOEi7FNaogghl5MinSwNSB2gAV4UJfxUB8LjkDOhWyU sI4ITIqExAOsHz5Zy7OxClMmV8CbaA1AUqV0FakwZlTIrIbYjdYQYItS7OKNsf6ZO4tYT8SYkGSR ExDujDe/7i4vquhYynZRpEN6s2TeD0UcJokHpW0j9HKTti2JymhMdV5ZPRGjx+Pk76BirHD+kaRH dUTW18MzPiuG1XmPjyHl0s1Wj8NHL+DPX/QqasSjoaHhasaH//n30Oazz2B53QA3Q8pkCddAtqyW 5Tetkk2oW244yYiUucT4NFwOz65LGS86uybvnJ7KrLOlaAVgLf/H+SdMijKHxYwShAnUpKyTqayY qeyXgnTUiEccx/owRW27KmGpobP+PAHAEE7e9pJqTOfUR99GWT2QCnaO38s7J+7jSCZmXayMGvcN D5aqqTXiIdCRESGpFwGvfJD6oxQqyKowyxRhyJYpYpLtX44h++jtynVxOefH1uu00qH3K8MsFTNr vp6rxwcx0Pn6HYcP7+K/fd0PNNLR0NBwTeBPv/7V9Nz33c+fePgYukdmoCWgvaIwDILU70AypkLW ayUjCA3BUCohmrH5M6gg6tpNwVBqwWBHIYQSN/cbGYARapVYL4XQgKi8cAgBIZw3OwKZIJlYwigU A6R6VTpLZlWGSs2cKo9Yl6QS3qH8OPG17gujy8XPZuV/Vb5fBVHpAFLoRIiGJlWGAKqQl5J46Wcd GTmI2qPgyUfnd55Mc1Vj1wjHOiGWct+qOlIjMwXpSK+LddrTofdTptIy80WPmYVkqHgv6BxgGbPN Hjdedxa/s/OGRjwaGhquKUh5gBM//QDbR2YwPcVJ3F+jOV2sCVmjukhAkK7TjjyZGKXrDgy7kHFD xVXkXhBnyc+LnI6BgaM6T2BPQNg/wyrCAYTmdeFNICAyWRIHs0pZIl1N5iwkZR1oBcKoSWRIJGKy UFl4puC5YEMpHGQM4HgtI+nOnS/ldC6UH4dC/ZBMxfDnHKMdE4gl3AFQ73wDu8GfG89n2Hnmt/NU 2fWdO+7hWkgoKh/+AHKSE8Sh2H1/slBsp8fW+1WOly8vSIes0+db7Jcfp1JMB8iyWADkKbXiAWGk wmFzh/nmEnfe+Bh+8wWX3linoaGh4UrFg990P33Gf3gVX/jkNsx540mIg/dxOKUMOz8RRX8HEL0c 8TrdqYHDMhoIOMuxHLtXRPwxXMcwvR/NzcjfYPdJnZDX8h4c1JMQciFRQeRcBvhJXvk+vH8kQCse DrmiUdTaSJ8jTQFZUTCNKeJSqSWiDbCkvCnRULqPFyXzdBRhpbh/Ro78Mm0ijedTKDOZkZcZIBtI IQOdD+XUsPOs7+Cpv0FmOC3v9qvFvMrlNWIRKfA+YZqJZXG/KaWjTNOV10UqbUY6ZFsdTtHkqiip Hp+Dv4NmDluH9nD8utP4jRdc3sY9DQ0NDVci/vxFryIAuOvnXsf92Q5m15MQVgXEAD/pS6quZL1w qUYD4A4+i0XmB0tglyZcqaoNENhwXJbmPorEh0EqWYCSqdUpFaTncMcPkLhUdSHJoISQniDjPEJ5 uXQdEtGQMEZnU9hGCp6VhccmJuLJ9F89xsX2o7lCMaYrE2qFYGWIRe9fEJq11I6CeGRpsoXqMcIq 4qGVjZqCU0uhlWwX4wuHHT7i/R1/Vjl0Q0NDw7WMD//z76Fn//sf4OXZOdzSXyjtOatSbTmm6Zoh kBMVZmEDcOffGCbQMpENBwqps35bUUJcsAOYnuHbfgAmmE/kUi3ZLzEMwJzu9AfEO3w5llZMrjlU jLQAco9HrU4HMCZWzKlhnyDzejC49/9hTN5Lo0MvO8/8dubOelWFGTvP/k6fEtwPsQ6IJx81EqGX Yz3SUS0mVi7LCEblGLpI2Kpt5cWo/ggnqU/vXysUVvk8cQwDn9EyG3D06AX80de+tqkdDQ0NDVcx 2BifdiswPsyS2oZQHmIowzE142jMIrEYtmeg3vnaI7t9MrQCeUpvPB89qVXUDyCqL1N+j1MffRvt 3P0ylrBKlkIbM34UKdH+jmhuBWi5jMXMaHDjcE/IhkFn/TbkG90JQeFZh5PP+S4Gwt9TsosAr245 5w2/AZF8TBlJU142RpP02sSjtt9BSIdC/C+pEaOCeJSkAyjCLuVYogUG4mE3Bhw7eq5VLG1oaHja 4wP/w/cRAPy99/5r3p4v8ejZ7RiWqeHZD7yFfYVTwrDpU3W78yq1tgv2CgMYIj/fEnypA3gFRJrR OfKXcknb9T4Or4KM1I8AH8IJsR/jTaUE59NHY3EzXx8kkgvjQzHVD2WQuubqkAgQX5ulU71mVLZK WYQMcnxUl5cG2LWqhgrxKEymGfHQ3g7l66C9hW9St6Jk+s6J+5gQ/t4hG8n0vS+CJucv2USjcwCC bhWRGU5rE3qVEGgQJsjEeLvRurBv6cOYDMfI+xjn09tw6sIrpEOf01TqrNpfwiwUerTcdN1Z/O5X vb4Rj4aGhoaAP/yaH1zrmviB+7+DAOCZb3kzswXc0R52d+b5gE2+ThoAN0O8dtuFCsNw8H4MgYgE 8ygTvCrhWJkzEQhIIgiSreIzYgBpc08GgHNgBCXEKCeqEBDmaF4dofRxDA606EG9amins1xku9Kw WhKYkqQwTyoe+56TEADHqdaJDq0MDFr2nnQs+337tJx68Ie9wiKhrKJa7KkPvJl2nv2dXvkQwsOU 1SvR/og87II6uZgKoeynfETjabkewmjHXouVagfUuWslA4jFbzIzUc3LEc+xYjCyDLK+R8tNx87i v7ZS6Q0NDQ2XhA9+x3cSAJx45xuZO2CwDN70yobdpVRiIswXuuhY8n4wDMgTFmlcNzDI+GRbuEQS xPRJg1JDpOAkmVSWHcarEyqsoEuVA8iJRyVsMgqTaPIwIha6oU1BPIr9uO/x/od/7GDzT0jV1Wm6 UQlxAFFQfQDQcvCEaW9xoOqkpz70Vtq586UMrbAwxzFOfeDNtHPiPqawPoaAyiwglMqHRk3NCMsn s130+9r2YUw2K4qE1casnU/m4ZD1KWzCujy6oCQjxTKyDhvbS9xw5FwjHg0NDQ2XEQ+++OV01888 wLxngIFgFgauA+wCMHuUsmdi+CVEQvrwmuAJSKcu7SUBidXQEgmJGSgA0BHQSxERrodXNP+YKrc+ pYZUlsdMFnnWnouCdFxyQzjnQopzIgbx2TkQuqDSLIHF8qKOt18IKOu6+6zvSH+RIlMoz3ap/Y1X kJBVy0bjKqViv+qkQKF2CGnRBIPSPlmYZRTGUT4OeS8nIP1ZjFc8NrcXuPnIOfznr3hzIx4NDQ0N lxkf/hf3E+C76S6dwcMfuhE4Y30juqXfhg3gZhSbyElJdQOOoZfBUCxQJgQEoc4HRfahDkzqvfVb kAkkQGqArMKEGTQqDIbGY8SsE+XtkP0HztSPSyEdOyfu4/K8qgXFAO/PCM+Xq/PtKpz667eQ74yr /k4Bo7CLvJ9UOlYs0881NYV1WGUixDLaNzsXHpOOsKyqdhjOwjARliO7ps7Bdg7b23u45chZLAc7 3r6hoaGh4bLhv3zlmwgAnvULr+VhuQEa/AXdAAB5PgAQzJJDQTKZuPyFmwbGMCeYAaCevNGzy4uP VVV5MahapHLrOp20RGmcnMhc8eXhDziXx5CLW73dBGI101omTk2tCedP/XDRx7wYnPrgD9HOifsY nc1IWFI+SiWjRiJWEItrBU31aGhoaHhy8Nff+L3xenv3W9/M3XnyN4U9gS8AZpE8G3DA7DzQXfD+ DxAwxGxOA9Ozn9GESzBGZtFIEBwAaVpXpteGY0n6bdVwWqDa82XfnS5N8VgV/ti5+2W5GiLEY3AX HW65FJx68Ie9AqKwopr7PqD6o1Q3YhdaHQ6pqR4TZCeqGyZJblXVwyrVI5RDj+cg6+RBPqOFrFc9 jhy+gNuPnmkl0xsaGhqeInzoZd9Ji1t6LI869Icd+m2GmwPDJtBvAf0hYHmY0G9Q6Irr/RyuA7gT kyoljwchdZqV+hYaoS18rOWR9TxB3r11RddYjoXMeJxSKxN+pdLpk0EA5JxoSLU7nmziITj1wR+i GPbBGnU+9LJJb4deX4Zr9qvfIcuKsdJ2RQqtbgRXhlq0oVRem9DYL+6XfB62G3Dk0C7uPHoa733+ OxrxaGhoaHgKsXHdLhYXZhjOd6ClTSm2oTrqsEEYNgjzx7wKYnrv4XMWwBy+dPsQpoRABMzAQCFe +Boh3nfBnQkkQROGnCgghCqSedSpsZBlwnghhhKZkQlXh1mMWatR3EVjcCCjYhzOZQXPnipoM6oB UCUHpedjZBIt1Q5TW8axKMxoHGA18Qh+jUg8xL9B8EVhasRDP8KySGaJveJhGKZzmG/0uOHoeTzz ukcb8WhoaGi4AvCX3/BK2jy0gDmyRH9swOJ6h71beixuHLC4ucfipgG7NzL2biAsDhOGGUEyHpnI KyCW4GxxSS+v8GX/N2uSOlGzQ9SatAnKjrg6s6Xmw5CU3ifQd3HqIz9C8fj9EM9nrWJlTxLGyoeg pnYU20z3a+Ese2U0tiyXXfX+ZsJUqsul62yW0lSqVA+teFDYx1qHbjbg+sPnceeRx/CeL/mJK+Y/ o6GhoeHpjj9/0avoC3/1FfzYfAtDb/2l3zhYy3COsNzrsOANb1AdfCquYfKh94HAM/haIMZ4wyrD +z90Gq6YTgcGQl0M7nzlU1J9S6p+D008mGPhslE2jGS01BDCODvH72UhIbW285eEwcXy5sD+KbJP Nup1PiaIx1oZLop4VMM0lJMO1oRClpXl0SOJ4Xw8TTz0MqZANjiSDjIMax1mswG3Hn0czzj0GN79 xe+6ov4zGhoaGhqA3/2q19OX/tp38dm9OXYXMywXHZYDwRiHbt5jeczCXphhmBPsDPDswhcs043o AD//+/AM8rlogPd7sFc+/PTi/PLO+EJc0YQq0r0ycAqmKovq51UkRojIHfewfn85QzL7VS99KlBN ta2ZQaeIRNweSrXI0l0rY5fPRe0PDqZQWNmmkkKrn/X5MoE6B1JEhQyj6wYc2d7DjdvncPv2Gfzs 837qivvPaGhoaGjwuOPwaXyq28bpbhNnsInlogOI0XUOy87fXLpZIBm+64hPVOmkwqdfR0T+RtRx KNvOgXD4lF0O9gwmpNTbUFodRHkjulC3A0BeuwMVUlJDuV4avzEnU2toVLdz4j7OCnap9zvP/HbO KojqNFoJ+wRF5kokHoBKtd23edyqdcpUGonHPiGaSdIRxoNdk3SoZwpKCJGv3c/swyzGOhw9tIub ts/hGdun8a4v+pkr8j+joaGhocHjkF2g23Kwxj8e390AAOzuzkBnO5gF+YJjmxT8hQQs/LWfHIGI YXpPSjikznoVBDkBCWEZ7gxo6fx2QjhCTxTa60fn58uYI4Ve9KRXK8VeQpq+AanRDQApXc4zA90r hYlw8tNfzpoYjSqZRiJDByqb/lQghV0miYXael3SoRWpYtkk6ShUjJUFw2S8IKORWifEg4hhOx9m 2d5Y4Kbtc7j78KP48S/4+Sv6P6ShoaGhAbh14wzO9FtYOIuls7DEOLs3R7/XYXZGwiXAsAHoCcF7 QBiwhMH48u1uhtjx1nWegMRMBwZ4RqDeeTLi4Ccl55L51JqUtVKb8DWC0pI1iitDL7rbLBDCP2pb Cj4UXaW0PI54TdT4bH2jvCudeAA67KLJQY14QK/nbLss0wUptDYqVqZJh/g4rPZ6qP8cCb2E/Ubn IymzBJAN5qBAOgDABH/Hka1dXL95AXce+lQjHg0NDQ1XCW6ancWSLQ51CyyGDnt9h/O7c9Aj89Ch NiSUBALia3wweBFUCfZej2HuCYXpAergC5hZzsIm1DuQteDOwBDBLHoQkzeNAmOVIbz21Ve57uuQ Hi6uQlI08VBjsyEfftEqiB5Pjh/HUePX2tlfwcizXbQaUZ5/mNSrpANqGRC/FNk4BfHQ/Vi4VDSy Wh5FZoscziQzaXwPRFf0fNZje2MRice/+8Kfuzr+RxoaGhoacNju4lg3B+BDMOf6ORYXZjADpfIO DnA2tGihQEAMwD3DLAHAJx+wMeBgRrULxDoebkboNwndBUa365uy2Y5gLcEsBtDSgYYBDAKxydUM QUk8Kj1gMgjx0P1Xgs8DAHjmzY7UO5+BI6RiCNEA32Ev1SrRCgizz3K5CuDDLipkMgqpIK3Ltqmo I9Xlldb1OouFS6KhjyfkQpOO8J5UsTAhHSZktGzMemzPl7hh6zzuPvQI3vHcX2jEo6GhoeEqwos/ 87foVz7wOfzCZ/8xAcD//P99M39wdiPcpoMZDFjucPtgmTCAMz7EYpYE06XMl36LMGwA3S5h/hiD LWGYE9wc6LchkxJm54CtTxpsnDbozhtQz7AXlp4IzIISYuE9IWGiz7wfAk1SyvCMJh7GeNJhDNgS eN6F8Rhw3mciRdBgwnG7QHbcUK8x8hQXElsXWbbLKO1VrauFZZhUeGW0jQqnjMI6nHwdQO7t0CqH EI0i7CKqh5COqFBZh835EofmSxye7+H49mONeDQ0NDRcpRDiAQA/+7yfoue+735+zDgs5xuwZzqY JftQCsObTIMvlK0nIaBQft36uacH4G4kTzhEOZmHucZ5A2q/bXBuYXDsQwbz0z3IdTDD0pOGzisO bjaDOb+Ik78P89BYeRAyIOqIJiDWgmdd8ns4+PReY6LhlQYG+mCCDeoHsatXLJVS7lcJlOF0H8Ix 8Z7VPiVpmcxkMWFbvUwfV9ZRHloBcuJhrE+pNSGVdmYHbM56HJ7v4Rnbp5vHo6GhoeEawf1/+PX8 R6cfx/WbF/CxzSM4u7mF4ULnPRwdw+wa2Au+ER0vg4fClgo+wc0ANwvVswGIV5UQSAsDmAG7xwzm p8M81hkgFB5zc+tVi80O5uyKjrgNK1HvliNqkVYtaPxeP3SND46ejsA4bchG6Rjc8Zh4lOOp1GX/ zIl0GIYxPn3Wkw4fZtmc9dia9Ti2sdvSaRsaGhoannho4yiQVA8dAnEuL3c+OHBnwZszDMc20V+3 Cbc5i8oGTPB9dMan1Pbed0KLHrTsfdZNaBKn+8VQ6D9zlYVdxmZSvzw9M4p1CqP9gNxUGt8XYZaa 2iKVSYMa4wlH2t6EMIsx3lRqTSAfXY+tbtmIR0NDQ8M1hu//o6/lv10cwna3QEcDbtjuMLMDHj+7 BceEL7jrQfzB3zwDe5/cgtk1MAukOUXEcwc4wz61NvQck3mNhnw6AoD+EGHYMPFm3DrnwyDOd4il 5QCdqTLKMik618rrneP3cmxqZ0Sh8ZMcqRoe3BmY5eDJRhm+CePLc2p4d3UQD0A1lou9WETJsOp1 jZRU/B1xOwmrSK0O3QSu1FrkmKopHOnneEyGCaTEl0nv0dkBnXXYsAOOzXdx+9aZRjwaGhoarjG8 5u/+R+powNz0mNsBRIzbjzyOO248jdtuOINbNh7H1sYSdKiH23YYDjsMmwy3wXBzhrOecDiLFG7R 87RJ2ZviF1kcAc7d2qHftlgemWF5bBNubr1HIxQF484AnfWGUUOpaFhBPDROffRtRLsL0HKA2etB Cwez6D3pYA4KhyIcRhEOICM7vmprMr+eevCHqTzuzp0vvSIZSaBbiEoFK+LBCP8/8qIgISurokY3 qiIeJfahCewo1u4wooKIx8M4WMPYni1xw+Y53LH9/7d3bjGWXNUZ/tfeu6pOn77MxYzBF8zYrsAD 9AAAGGJJREFUGMdgLsYQGwgggoIyUVCekih5Iy+RoggwOEhRlAgpDyAi2xASZHIRmSAhQkiwuEgZ IhIklAciJcADESQBjB1iwDbYM9Pd55y67JWHtXfVrjp1esZkZtw9sz6pdE5X1zmnp+eh/l7rX/86 jZN3nVThoSiKchnyoVd8nHbrHI/PNsBMmNUZiBhbxRzfOnsM8zKTCzMPLuTwhZdWv2Vw8Hn0IiIC sQISLQHs5CgPEaoNg8Vhi9mxDOXRCZr1DJyZdgyWXTexAhuUzbk21tY1UFawOyXsbikVFQMRFFUD WlQwsyq0V7irsAzGejkKk7pZGaO+3xbKRVrx0fNyYNzb0YoTE30bcnCqGmNaqQ3/4WZEeCSvlerI YKQ2qJpY+YhppdZ6OOeRhYrHel5iq5hjI1uouVRRFOUy58HXfpgKW8MzYV47lI3FdlngyfkaAMBm HmQZcB6wyR/8if9Q7kvoGVGp/Us7vc8B9RowP0wotwjlJmF+xGJxOEO9mYMzCyYCWws/zYHMtW2U dk/LCk49+qdEtbRUqGrEzEoSoQ4vYgJV3YmYQcAY1Y0cnoGq3rf7W/ZC2i5puyWZUmnNo1FcAD2D aCo6OtXYn04ZFR7pY3itVDXCKethLMthPGxYFNdOtOQVDk3mOFLs4lixjTce+eYF/rUoiqIo+5HP v+GDdHzrR9jISuS2wZqrUNgG08kCWV7D5k33h6un/n0t3s9sd5+SjA4kf4RL+il5ubY8RKjWZY9M PSHUk5DJERNMQ8WiJaaUngvvWwMpNSJC2vyQtuVyjvfx/oJuv72UdP8yQm9sdqklQtwKDzZJayZU N9iFclX8elXFo/c4+BxiGOfbVgsZ3063ROExLUocKuY4lM9wbLKNO7YexpvXH7pAvw5FURRlv/Ox V32EXrD1OA7lcxSuxjQrsZ5X2JrOsTZdwGRS+WBiwEsIGDVod7WIr6P/h3IrTij9Y1t2wTQFUE+p /YPbu+D3gLwnlVKlIM9tcNiJ4+/Y22sRPR5VLVWOeOzVshkGlh2QyZYxunj1eGZQjkotwGmvbGzx HKeiImUoOpJr0k207A+kgFMURVEuMQ+88mMEAG/517fw2bqAIUbVWOS2gSXGGb8G3xAYHlSa3i4X pDlgNLiXEwCELbnx60YEiJkQ3JzDHpnkftVwP1zsae5XIc+d4BkjmXahdPrlAE23DDmP2tClgwyD LMPYBtY1sJZRFBVyJ+Fhm6HqcbiY4frpU7hz8yG8af2bOGQmz/SPriiKojwDnLzrJD1ncgZb2Ryb +Rwb+QKH1uY4tLULt16Bpg38xIdBCIAakqOmbgyXkwMADOCdGFRjC0aW07Fsza08KPg0iFnaJcOK BRFO3PjO1epgxYguee4qKHtxgKseQPi93/S++7i3d4VYnpiR/S5p5SPxbaysegCduTR9j5jlYcTb Id+T3Sw2JJda61G4BrmT8ar1rMRWNscLNh7DLZMf4Kcnj+B5LkdBGew139KyiaIoyhXKO7/6K/zD xSZK77Bb55jVGZ6arWFnnmN2ZgJz2sGUaZl/IDyQGE8JgAdMQ7BzwO0CboeR7zCybQ87b8JRAw3D LCqgqqUqAfQzOdKySroRN3PLAiRkiLTG1ZHsEABdrke8xnuceuj+A3UPlLZLKjwiqfBIDKhjwWC9 rbSpGEvfL4gZOd/FphsrLZeYYupcIzketmlHabNgKjqc7+LW9R/iZdOHcWv2BK6xKjwURVEU4P6X f5Le8/Vf4G/tXo3c1Jg6B0sejSfMTSEjtx6tB6S9V3EnOuQ8gQ3LrpgKIj52GG7OsGWoSiC8pmFQ MxKxPlwiF5NQh3kd7WKy7q92Pt+KRnjf86qS7EP6IWPA6LRKHE9qhUcSFtYTHinp+4XRW0qPUPGI xlLrxFTqgvBYy2psFgtMXCXm0mIbt6w/hpsnP8B19jSeZS02r3uEVHgoiqIoAPB7L/4HetXWt3E4 myE3smXOWQ9y0hJpK/a9Cr48j+2YSDrx0kwITUGoJ5J66nMDdjRYikrLlQqg217rLFDkQJ4BeQZe y+UonIztGrM8KZNOvqwQJbFKcuKmew5UH8a1zxIzaCdEBlenvxOz4t85qJ7EADNKWi8ywRJERxAg zjVwxsNZL+NTWYXC1tjIFjiUzfCc4gxumXwftxeP4oU3fF8Fh6IoirLEb976LwQAd3/lV3neZNgu C1jXoMo94C2oSi6OnZHo66gBLro4CZCknbIBTA1UhuAdIQdAjQVVDraJk6AEtqbbLBtbLERtCJnP HbiQxXQ+MxIzUTOo9rC7ZVA6595M21Y8EFowB7btksajA/2Jl5HKxp7+jghxF/ISxnSlyoF2MRwR +qLD1ciMVD7WXSlVj2yGq7IdHHE7OJ49ocJDURRFOScfuONv6Xe+9su8W+d4Kl9DXXhwQ0Cd3Lha M2lsk3TfSkduiWW8lojhHQAYsJHzpvKy/C20ThiQEdoxDWEJ3kkqqncyMUOWYQGwM62JtR3DHUyz tKIjVEE+/9/3Htj7YRsy1ttCmyaPAucvPGJ1w3nAcW9XS1wQR8Q94ZHZBpmTSkduG0xchTVXIbc1 1m2JLTfH1fkZ3POiL9Crjz98YH/RiqIoyqXl3tv/jp49OYuj67sg69ucKgD9XWMk1gKfczcV047d xtYL4DMCO0I9AcoNg3oaKhjOSNvEWTmsVDfY9lsoVI8okji2a8IW2yFJ26Xd4wLg1HfuO9D3Q5M+ ayddkpJTaiptg8NWxaXbKDjQ+Tqch3EhrTSM0BrDyLIak6zGWl61ptLcNMhtg6krcSTfxdF8BzcU P8Y9L/rCgf4lK4qiKM8MJ+86SddvPIXJtJS9Ly7cy2K7hZMk71gA8dQfvQW6SkfZVTWoQZf5YdDG rcN2C+cQI9MBqZA0LOO5LKO71ITOg11xm3uamSEHBal8WEhCaYycbSNjz0N02ORojaU+HCG3w/gw 0RI20rqmHaG1xLDGw5FH4WpsOPF4HM5mOD55Ane/6J8uz9+8oiiKckn4xGv+gq49fAZ2rQmL5roK SCc4ZLTW1Mk0THKQh7RpGjlsJcFgvrDgLAgNS1IFcUF0mOQA5DrI+/QmQ4HxqgcwbjQ94BkfQJQT Lql2tP8hIZq2uyo8T8RGdA4vtVeit0OEB5IxWmMYzjZwtkFmRHCkwuNwPsO1xWnctvY9vO2FX1Th oSiKovy/+ec3vp+2NndB0xp+2sjG2+QPbQDJuG0/VSKuFPGZHLF9451MvzQTBw6igy11I7bWSiWE SNoyobpBtYcpG5jSw9QSWGYGLZmh36P7YfjAmUvHcOkXrZ8j/TePLJTrvtdd2C7ySbwdZOSXacJ0 CwAJDHNNayy1JNMtUXgczXbwhy/9zIH/xSqKoij7i6s3tlF7g1lWoM4tGuNgZkZuZb67vbW5H8H3 wQZoLOBtbI8wTE3wLvhArOx6oUXT/QHvDMAs4iMaWpk7kVGG8d/gC6GylsyQ6O0I1w+rHKceup/S 5NSDKkSC4ZT7o7MmOeJCuVQdpomlSbXDuHHhER+LrEZm/ZLwmLoSzyq2cfPaY3jvyx48kL9IRVEU ZX9zuJjh6HSGw1u72Dqyi8lzdtBs1e2i1LQCEo/WD+LkaAqgKUiEiBHx0eRiLuVC2ipsTDdqa+Rr Nqa3UwZAaOP4npFUXt8PKUs5ceM7+dRD91P83kHL94gEyTU4gL7oMBjZSDs+yTJW8cgy8Xc46+GC 8HDkMXUlNtwCVxdn8cqNh/Cu2/5RhYeiKIpyUfjka/6cNvIFrpru4JqtM7jl2OO46fk/RH20kiqG 5XaBarrThQa399h+ieebiUFTWPFthPYKWyvVDyPTMG0XwScVj2gy9RDj6XlkfFwuBPHRz+NYEh0j wiNOsqTCI8U5H44uxyOzDQpXIzMNNvM5juQz3LT+BD70io/Tb/zUl1V4KIqiKFc2Y2bSETNqOmq7 5wK7fUqy22XkZx+KDox7O+TrfrUjmk0z2yALFY/C1VhzFaauxNXFNl64/qiaShVFUZRLxuF8htJb GGK8ePNRvPsln6PXf+Ee/i4dg3s8A8AwFbX3e1PLpCw16G6TFLwehmX6JTGHsiW51oUJlyS/jLyX E00jVQ8PqYp4vyQ6hoFiKSeOv0NOJpt023OBU999/76+t45nlCYTLMtTLLxkKh0THlLlaJA7ye4o XI31rMTRYgc3rz+OOze/rcJDURRFuaSs2Qq5kdb/u1/yOQKAL/3cfXT06jNo1jh4O5JxXA/YBeB2 gGwbcDPAhIh27wh24ZGdbcLkDLUjs0wiRNqgMQ9ZRFc1oLKGmdegqgFqD1PWq1su0ffxNPM+hmJk v5GEjA0ER2ipdK2VZIQ2WQgXxYZzHtb6Vng462GNb8dpN7MFrlk7jZds/i/ed/untM2iKIqiXHIK U8OMZJ9/7c3vIS58mGABfCZCBAawJWAXDDdj5GfksItuOpSYYerQBUjSSGnRwFQNqPKgppHv1Y0I jboBNY0Ij6ruqh/RqDpGui13eH7kNftZgIj4SL0czg8EB1rB0d9C2wxaLHLY4O+wpjOXrrsS105P 4xWbD+N3b/u8ig5FURTlGeGBV36Mniqn2K2z5W8Wkv/hXTflEqdaTBVESMkwdSdI2pYLxQ3xsuo+ FQPkvVQ+vAeaBlTVciwqoKz6P8OYsIiPqcgYEyI/QYXkmaITH0l1I0JxqU7SXonVDqA/RmuMh4lp pbZrtWxmC1w7PY07N7+D37r1Swfjt6IoiqJctpxZTPDp1z2wdD/KJjUefuu7yFy/i2Yt7HqxgHdd DDsgHg9TM2wpMek+SxwMFCZZiGTqJRUintsttKlfYxVsKMS3m+Xx2/MUGieOv4P3YwWEAOB5H30P xyoH0J9cGcvriHTnPCxFg2nI7shKbOVzPG/6Y7xh6xv4ped/XYWHoiiKciD47X//df7sv70ck0cd 8jNAdpZhEtOpaRj5tgfVMiZrKg/TMEzpAR/CxLwHWwNTireDvAcaD1qUAAAOS+jki4G5NH2ebLpt t92OBJCdi/0USOYA9KsdSU4HsFp0mOSaVHg447HmKhwtdvHc6ZP42c1v4Bef/x/75h+sKIqiKOfi s1+9HdmTFqYOkeumu9e3u1+ANh+LnQGzBzsClck9NbZlQtgYAeA8k8pH5jpREW+p7YeE8yatqlD/ +xi85gDhzn2JoiiKolxZmLNWttaSGFCbhsJGWsCUIkCYCJTEVETPB4VJF+I4+UKgKByIZOutNWBr xYQKiAmiGal2rBAZMoqLZYPqHobVNg+E+RkfxR0XH0zi/yAerXwQMZgJzvjg9QCcbWCIUbgax9a2 cXz6I7z3ZQ/SvZfkn6EoiqIoFw6/3oDnDmyBJpfFcqaUDA9TMoYDM0wQj4cHODNAzeLTYMCgAcPI 7hYAMEZGci2JnvAkLZnoFQHaRyaS1/mu4sHjIRm916Gqu0pJ0rI59b0P7otOhAHQTrS0LZcgOkR0 cRAbSXw6MVz0ggThkRmPzXyBa6ZncMfWI7qjRVEURTmQvPUrv8bgEBZGYaOtDQKkYtiKl7fOEkKl Iky8uGA2DaZRuUZyQDjsfInn2se4DTeIkzYzxFq52Y5UQzgVLOn7rfp6nyDigxjGNr3xWaLO19GO 0pIcFF6TuQbONpi4Ghv5AtdNT+Pjr/5L0h0tiqIoykHlT+74G6JahIR3IXgsiAVTofV7rFp7z6ng AEQ4WGoXzcmi1kREmDiia2RrbrwmxZglARI/I07ErMwBieeIcOL6t53TIHLiuW+/6CaSUPnwg7HZ frslig4A7Sht3NUyzSps5gvcvPk4Tt51UkWHoiiKcuChmiTl1MrCubh0lTzQLWANAoQBUzOo9jKG W/kQLJZMpMRKRnqkRlGDTqAkoqSHMYCz3WHDYWSBHVsDdlamaPJMDK3A0uTMXgLkUggPIHg+hmIj Ym1srSQjtSHBNDMeG/kCxybb+Ohdf6WiQ1EURbksuO3Tf8Db3xPPhqkA8uLdkD0u6Pk92h0sCe1+ F3Dr0WAiGOZu2UtKMtHCRJ0JlbkVIOzlvJhc4/coLJ5JvB29H4RFpKRfh/fu9sPIw6lHPkDxmkvh CzHA8jK4uBDOpfkdYU/LxNWYuBpbxRw3bTyhwkNRFEW5rKgqBy482IbIdLFCtjtdIjy82RuCtySt E0D8H22rJLZHEt9HbJ9Qdz62YEb9HYkJtauOUGjrmPEU1LH38twdgShGLpUh1QH9CkescjjrQSGx FECyo2WOq4pdfOTOv1bRoSiKolx2HN3cwQ8WDn5mYOfdra4pZMkcealssGFwGNjgZH0t1SwChEla MczSgvG+fWyJlY54Ks378OhXQeJzn5xLH5P3bBfapTDL+9mYLZK8zrMIkLoBiHDqf/74ot7jDQC4 sIfFJFWOKDwscVvpuGH9SXz6dQ+QCg9FURTlcuXLP/9HlOW1VCEc0O5tiWGkBnuPu0JeA0vtplu2 e1QkVmGS6sqw2rH0eSNVjpFKSOsJMZI1svRezgLWXPSldMHzIVLLmq7SYcM4bWYbHCl28fc/82cq OBRFUZQrBs48vCMYA5AJ+RrJnVBECImNI3QNxJERvRnL9+/W05GM0rbVjxVJpelr5ET0e2A5hn3s efpaI1GtHHwi1ISeUlIJaf0fFxFpu4SJlljpsMajsDU2sgUefO2HVXQoiqIoVxRb63P8uLbwCwNf Spqod0CTkbRV9qh8sFg8xIyKMCnDCAIgER4GbZulNZIC/WAwJN8fRq+v/AF4XIikrw/v0YoQz2Ju aTxO3HA3X2wBIobTWOUIe1mumuzglq3HVHgoiqIoVySGGNZ6cC45H97K5Ikv0JlHYzUkQIz2Bs+U VEVSnRBbKab7emmkNm2XxIWvYztd0muH5+Qf0W+rpNcNM0Os6bViLknbJXo+DhczHJtsq5lUURRF uaLZWeSoKwua1vAzA1OKkPBODmrCox9/PfFyCBkTZMdLnH4d5HywT/I9PLqRWgwqH0AnTDwvi4oD gAOAw5MZnj05qyFhiqIoinK5Eascje+Lk+gbiS0YQ6C4vpdl+uViLaBTsaEoiqIoA176md/nM2fX wLUBPZnB7RBMSXBzwM4AN2fYBWAXDDf3Ydkct5tv2+TTygOe23HbdiLXDwymaQUlVj6iCTUZxR01 pvbeh5erH2PhY/HaVe8TPoc849S3773gWuFcw0KKoiiKcsWxOVmI52NuQT6M2caR27Drhfzygrk2 YAxo49WpCfkeQCcMiMRjMYxSj3tfhmFjMel0xQgtgE5MrNg50/1gK0Z2R0Z0+SL5P1R8KIqiKMqA o5NdHD20A7NRwReD3S4+RK03yQsI7Q3bh422qRDpEY2oS+exLCji8zSCvZeimoqZFfkf8XGvTJHB zzcUISduuPuCChAVH4qiKIoy4LOv/xAdKuY4tLULdl3MuqkAW3JvwVwUGj4Ly+gcwWcG3hF8buEL JxUTQhetjrDmZa+wMdO/HpbkAAA/EkAWBYgZOR8ZipuhB2Q4HROFj7MXtAKi4kNRFEVRRlhzFarG gqqwKG5Q8fBBCLBBqHYgWXMfWjAEERGZXb7RR/baxTJstyQsRa8Tga0Fx02356p0rPq+70/VcNwb Yy5c8qkaThVFURRlBbd+6t28eGgTbsfAzYD8NMum2wawFcMuuqoIAJg6VEVYPB+m8nKuYZiq6Xau BBOqPI58cCosxsymI7tf2Jh+SSF93dh7D5+n+GXzaXxOPuynSV77dKditPKhKIqiKCtYzHOYimAq tKKDfHcMqwfSgklOxAqHAXxhpR2TGXBu4DMrbZk8nHcmebTwmQVnFpwZwBl5nrtwzgLB+8HOgJ3p PCMDE+vS9t3z8X6sat8EE+qwnfN0KyIqPhRFURRlhDd98e3c7Ljg84gbbYGllS1E43Hr1PlBhgKg l3J6HkTPSO8zs6S9sodvpP28Mc7XhDr4jDYRNTn3dASIig9FURRFGeE//+s6uCcdTEWgGjAV94TH qu220RMS49XFWBp9G2k0e6gktMZTLAsbYHVqaRQg4fnwewD6+SFpbsjTmXzZKzfkfN9ngPuJXqUo iqIolzE33ncvu8cIpiIJFZtxv+XCUURELwQtZX4ACIZTkvu959aQCgAMkrswE1B72YjLvOzRAEIa KbdChTjEtTOk5ZKS+kEoZo0kXpFYvTCmvy03ff3wefj89FrJOhl5zXmg4kNRFEVREm689z7Otglm IT4PNw/VDO6ER6R3A8aIuRPoC45B9gdH70hmgDoJLRtLKo0CIL5PECNRtPSvlV0x8R3YAvAEikbR 4a6YlLg1d7g9N/n89N9Gzci1iqIoiqIoiqIoiqIoVyz/B+qsYnkldnDTAAAAAElFTkSuQmCC &quot;,\n",
       "                [[-12.184259543301948, 131.86389149415908], [-12.229301207020036, 131.91267001408676]],\n",
       "                {}\n",
       "            );\n",
       "        \n",
       "    \n",
       "                image_overlay_8f88272be66703eb17207ec7abe1e2b4.addTo(map_8da6557b425227eea3f0c58d611ddcd8);\n",
       "    \n",
       "            map_8da6557b425227eea3f0c58d611ddcd8.fitBounds(\n",
       "                [[-12.184342447629419, 131.8640193388886], [-12.229150128868444, 131.91250229970572]],\n",
       "                {}\n",
       "            );\n",
       "        \n",
       "    \n",
       "            var layer_control_f84e03880e3ccbf133c6c370630818aa_layers = {\n",
       "                base_layers : {\n",
       "                    &quot;openstreetmap&quot; : tile_layer_cc4054741ae2c1801efd30a75fe97a08,\n",
       "                },\n",
       "                overlays :  {\n",
       "                    &quot;elevation&quot; : image_overlay_8f88272be66703eb17207ec7abe1e2b4,\n",
       "                },\n",
       "            };\n",
       "            let layer_control_f84e03880e3ccbf133c6c370630818aa = L.control.layers(\n",
       "                layer_control_f84e03880e3ccbf133c6c370630818aa_layers.base_layers,\n",
       "                layer_control_f84e03880e3ccbf133c6c370630818aa_layers.overlays,\n",
       "                {&quot;autoZIndex&quot;: true, &quot;collapsed&quot;: true, &quot;position&quot;: &quot;topright&quot;}\n",
       "            ).addTo(map_8da6557b425227eea3f0c58d611ddcd8);\n",
       "\n",
       "        \n",
       "&lt;/script&gt;\n",
       "&lt;/html&gt;\" style=\"position:absolute;width:100%;height:100%;left:0;top:0;border:none !important;\" allowfullscreen webkitallowfullscreen mozallowfullscreen></iframe></div></div>"
      ],
      "text/plain": [
       "<folium.folium.Map at 0x7fd7e57376d0>"
      ]
     },
     "execution_count": 21,
     "metadata": {},
     "output_type": "execute_result"
    }
   ],
   "source": [
    "ds.elevation.odc.explore()"
   ]
  },
  {
   "cell_type": "markdown",
   "id": "9fcd13e6-db3e-409c-905d-d9f6a9733348",
   "metadata": {},
   "source": [
    "### Export to GeoTIFF files"
   ]
  },
  {
   "cell_type": "code",
   "execution_count": 22,
   "id": "ae5db6ce-c55c-4d3c-8a90-e7db3f792039",
   "metadata": {
    "tags": []
   },
   "outputs": [],
   "source": [
    "# Create output folder if it doesn't exist\n",
    "output_dir = f\"data/interim/{study_area}/{start_date}-{end_date}\"\n",
    "os.makedirs(output_dir, exist_ok=True)\n",
    "\n",
    "# Prepare data for export\n",
    "ds[\"qa_ndwi_freq\"] *= 100  # Convert frequency to %\n",
    "\n",
    "# Prepare for export by correctly setting nodata and dtypes, then\n",
    "# export to file\n",
    "ds_prepared = prepare_for_export(ds, output_location=output_dir)"
   ]
  },
  {
   "cell_type": "markdown",
   "id": "9b564afc-4a09-4eb3-a9a3-cb445822c7ad",
   "metadata": {
    "tags": []
   },
   "source": [
    "## Close Dask client"
   ]
  },
  {
   "cell_type": "code",
   "execution_count": 23,
   "id": "dbad6b6a-081b-4360-9ffe-120c76b43bd2",
   "metadata": {},
   "outputs": [],
   "source": [
    "client.close()"
   ]
  }
 ],
 "metadata": {
  "kernelspec": {
   "display_name": "Python 3 (ipykernel)",
   "language": "python",
   "name": "python3"
  },
  "language_info": {
   "codemirror_mode": {
    "name": "ipython",
    "version": 3
   },
   "file_extension": ".py",
   "mimetype": "text/x-python",
   "name": "python",
   "nbconvert_exporter": "python",
   "pygments_lexer": "ipython3",
   "version": "3.10.13"
  },
  "widgets": {
   "application/vnd.jupyter.widget-state+json": {
    "state": {
     "09b83c8447e5429ab8b77791affb77b1": {
      "model_module": "@jupyter-widgets/base",
      "model_module_version": "2.0.0",
      "model_name": "LayoutModel",
      "state": {}
     },
     "2d309b476393457cb670e8d9f79de1f1": {
      "model_module": "@jupyter-widgets/controls",
      "model_module_version": "2.0.0",
      "model_name": "HTMLStyleModel",
      "state": {
       "description_width": "",
       "font_size": null,
       "text_color": null
      }
     },
     "2f580ce2c7ad481bafe6c27f8f761699": {
      "model_module": "@jupyter-widgets/controls",
      "model_module_version": "2.0.0",
      "model_name": "HTMLModel",
      "state": {
       "layout": "IPY_MODEL_5dd886263fc54d78becaa586f4687d13",
       "style": "IPY_MODEL_2d309b476393457cb670e8d9f79de1f1",
       "value": "100%"
      }
     },
     "486238d907844dffa53ce0eb39cd5d20": {
      "model_module": "jupyter-leaflet",
      "model_module_version": "^0.17",
      "model_name": "LeafletDrawControlModel",
      "state": {
       "_model_module_version": "^0.17",
       "_view_module_version": "^0.17",
       "data": [
        {
         "geometry": {
          "coordinates": [
           [
            [
             131.86409,
             -12.2291
            ],
            [
             131.86409,
             -12.184471
            ],
            [
             131.912498,
             -12.184471
            ],
            [
             131.912498,
             -12.2291
            ],
            [
             131.86409,
             -12.2291
            ]
           ]
          ],
          "type": "Polygon"
         },
         "properties": {
          "style": {
           "clickable": true,
           "color": "#000000",
           "fill": true,
           "fillColor": "#fca45d",
           "fillOpacity": 0.1,
           "opacity": 0.5,
           "stroke": true,
           "weight": 4
          }
         },
         "type": "Feature"
        }
       ],
       "options": [
        "position"
       ],
       "polygon": {
        "shapeOptions": {
         "color": "#000000",
         "editing": {
          "color": "#000000",
          "fillColor": "#fca45d",
          "fillOpacity": 0.1
         },
         "fillColor": "#fca45d",
         "fillOpacity": 0.1,
         "original": {
          "color": "#000000",
          "fillColor": "#fca45d",
          "fillOpacity": 0.1
         }
        }
       },
       "polyline": {},
       "rectangle": {
        "metric": [
         "km",
         "m"
        ],
        "shapeOptions": {
         "color": "#000000",
         "fillColor": "#fca45d",
         "fillOpacity": 0.1
        }
       }
      }
     },
     "54068facec224a1498aeeffe03e0896d": {
      "model_module": "jupyter-leaflet",
      "model_module_version": "^0.17",
      "model_name": "LeafletMapStyleModel",
      "state": {
       "_model_module_version": "^0.17",
       "cursor": "move"
      }
     },
     "54ac00c6fbdb4e10b0451f5c71004ed1": {
      "model_module": "@jupyter-widgets/base",
      "model_module_version": "2.0.0",
      "model_name": "LayoutModel",
      "state": {}
     },
     "5dd886263fc54d78becaa586f4687d13": {
      "model_module": "@jupyter-widgets/base",
      "model_module_version": "2.0.0",
      "model_name": "LayoutModel",
      "state": {}
     },
     "5fdb78a7313b4c96b69a7fe81f26c1f2": {
      "model_module": "@jupyter-widgets/controls",
      "model_module_version": "2.0.0",
      "model_name": "HBoxModel",
      "state": {
       "children": [
        "IPY_MODEL_2f580ce2c7ad481bafe6c27f8f761699",
        "IPY_MODEL_ad96c0a191d846819b259649983d880c",
        "IPY_MODEL_fb317f503e75488b9ce4d26a1fa73084"
       ],
       "layout": "IPY_MODEL_d47f0e0cc89540f782fca43f68f3b34b"
      }
     },
     "61ba5d44e2b24f9492e45c24742b19ad": {
      "model_module": "jupyter-leaflet",
      "model_module_version": "^0.17",
      "model_name": "LeafletAttributionControlModel",
      "state": {
       "_model_module_version": "^0.17",
       "_view_module_version": "^0.17",
       "options": [
        "position",
        "prefix"
       ],
       "position": "bottomright",
       "prefix": "ipyleaflet"
      }
     },
     "62dcf0643b054cada6aacf2461c288c6": {
      "model_module": "jupyter-leaflet",
      "model_module_version": "^0.17",
      "model_name": "LeafletTileLayerModel",
      "state": {
       "_model_module_version": "^0.17",
       "_view_module_version": "^0.17",
       "attribution": "Tiles &copy; Esri &mdash; Source: Esri, i-cubed, USDA, USGS, AEX, GeoEye, Getmapping, Aerogrid, IGN, IGP, UPR-EGP, and the GIS User Community",
       "min_zoom": 1,
       "name": "Esri.WorldImagery",
       "options": [
        "attribution",
        "bounds",
        "detect_retina",
        "max_native_zoom",
        "max_zoom",
        "min_native_zoom",
        "min_zoom",
        "no_wrap",
        "tile_size",
        "tms",
        "zoom_offset"
       ],
       "url": "https://server.arcgisonline.com/ArcGIS/rest/services/World_Imagery/MapServer/tile/{z}/{y}/{x}"
      }
     },
     "63c4fb7e949045d3b3098f01e4811ce0": {
      "model_module": "@jupyter-widgets/controls",
      "model_module_version": "2.0.0",
      "model_name": "HTMLStyleModel",
      "state": {
       "description_width": "",
       "font_size": null,
       "text_color": null
      }
     },
     "64e104c0a86f4ce6980092cb5029cad2": {
      "model_module": "@jupyter-widgets/controls",
      "model_module_version": "2.0.0",
      "model_name": "ButtonStyleModel",
      "state": {
       "button_color": "green",
       "font_family": null,
       "font_size": null,
       "font_style": null,
       "font_variant": null,
       "font_weight": null,
       "text_color": null,
       "text_decoration": null
      }
     },
     "6841e4caba904e32a18fb1e6b85a2a3e": {
      "model_module": "@jupyter-widgets/base",
      "model_module_version": "2.0.0",
      "model_name": "LayoutModel",
      "state": {
       "width": "5em"
      }
     },
     "6911821544db45ea9f1f5cd7d75f3d5c": {
      "model_module": "@jupyter-widgets/base",
      "model_module_version": "2.0.0",
      "model_name": "LayoutModel",
      "state": {
       "flex": "1 0 20em",
       "height": "3em",
       "width": "20em"
      }
     },
     "6ec76e37b9d9430aa854eea65da7ea65": {
      "model_module": "@jupyter-widgets/controls",
      "model_module_version": "2.0.0",
      "model_name": "HTMLModel",
      "state": {
       "layout": "IPY_MODEL_6911821544db45ea9f1f5cd7d75f3d5c",
       "style": "IPY_MODEL_80e03323980541ffa8eb1cb389e5c643",
       "value": "<pre style=\"color:grey\">lat: [-12.3259, -12.1246]\nlon: [131.7724, 132.0522]</pre>"
      }
     },
     "80e03323980541ffa8eb1cb389e5c643": {
      "model_module": "@jupyter-widgets/controls",
      "model_module_version": "2.0.0",
      "model_name": "HTMLStyleModel",
      "state": {
       "description_width": "",
       "font_size": null,
       "text_color": null
      }
     },
     "94827afcd0c14d299b1bb6fbe5aaf564": {
      "model_module": "@jupyter-widgets/base",
      "model_module_version": "2.0.0",
      "model_name": "LayoutModel",
      "state": {
       "height": "600px"
      }
     },
     "ad96c0a191d846819b259649983d880c": {
      "model_module": "@jupyter-widgets/controls",
      "model_module_version": "2.0.0",
      "model_name": "FloatProgressModel",
      "state": {
       "bar_style": "success",
       "layout": "IPY_MODEL_09b83c8447e5429ab8b77791affb77b1",
       "max": 105,
       "style": "IPY_MODEL_bfc13d9d874b48c08647c169001144d9",
       "value": 105
      }
     },
     "b35fec017ff446c8922f44bc1c36fe9e": {
      "model_module": "@jupyter-widgets/controls",
      "model_module_version": "2.0.0",
      "model_name": "ButtonModel",
      "state": {
       "description": "done",
       "disabled": true,
       "layout": "IPY_MODEL_6841e4caba904e32a18fb1e6b85a2a3e",
       "style": "IPY_MODEL_64e104c0a86f4ce6980092cb5029cad2",
       "tooltip": null
      }
     },
     "bfc13d9d874b48c08647c169001144d9": {
      "model_module": "@jupyter-widgets/controls",
      "model_module_version": "2.0.0",
      "model_name": "ProgressStyleModel",
      "state": {
       "description_width": ""
      }
     },
     "cf7e6734dbec4045b140978f265fd22c": {
      "model_module": "jupyter-leaflet",
      "model_module_version": "^0.17",
      "model_name": "LeafletMapStyleModel",
      "state": {
       "_model_module_version": "^0.17"
      }
     },
     "d47f0e0cc89540f782fca43f68f3b34b": {
      "model_module": "@jupyter-widgets/base",
      "model_module_version": "2.0.0",
      "model_name": "LayoutModel",
      "state": {}
     },
     "d66cdec758b84348bcb90fb0a3295fdc": {
      "model_module": "jupyter-leaflet",
      "model_module_version": "^0.17",
      "model_name": "LeafletWidgetControlModel",
      "state": {
       "_model_module": "jupyter-leaflet",
       "_model_module_version": "^0.17",
       "_view_count": null,
       "_view_module": "jupyter-leaflet",
       "_view_module_version": "^0.17",
       "options": [
        "position",
        "transparent_bg"
       ],
       "position": "bottomleft",
       "widget": "IPY_MODEL_6ec76e37b9d9430aa854eea65da7ea65"
      }
     },
     "d97bffb4e6c1475686a17d1a3840fae2": {
      "model_module": "jupyter-leaflet",
      "model_module_version": "^0.17",
      "model_name": "LeafletMapStyleModel",
      "state": {
       "_model_module_version": "^0.17"
      }
     },
     "e27e28f5a5db4ec296e30fdeb00e96e4": {
      "model_module": "jupyter-leaflet",
      "model_module_version": "^0.17",
      "model_name": "LeafletMapModel",
      "state": {
       "_model_module_version": "^0.17",
       "_view_module_version": "^0.17",
       "bottom": 560470,
       "center": [
        -12.2253465230092,
        131.91232681274417
       ],
       "controls": [
        "IPY_MODEL_f3a89794c8b0430783498fe8cddb672c",
        "IPY_MODEL_61ba5d44e2b24f9492e45c24742b19ad",
        "IPY_MODEL_eb5c22d5ae7d4225b046ce77ec8dd34b"
       ],
       "default_style": "IPY_MODEL_d97bffb4e6c1475686a17d1a3840fae2",
       "dragging_style": "IPY_MODEL_54068facec224a1498aeeffe03e0896d",
       "east": 132.05223083496097,
       "fullscreen": false,
       "interpolation": "bilinear",
       "layers": [
        "IPY_MODEL_62dcf0643b054cada6aacf2461c288c6"
       ],
       "layout": "IPY_MODEL_94827afcd0c14d299b1bb6fbe5aaf564",
       "left": 908103,
       "modisdate": "2024-03-07",
       "north": -12.124592890551417,
       "options": [
        "bounce_at_zoom_limits",
        "box_zoom",
        "center",
        "close_popup_on_click",
        "double_click_zoom",
        "dragging",
        "fullscreen",
        "inertia",
        "inertia_deceleration",
        "inertia_max_speed",
        "interpolation",
        "keyboard",
        "keyboard_pan_offset",
        "keyboard_zoom_offset",
        "max_zoom",
        "min_zoom",
        "prefer_canvas",
        "scroll_wheel_zoom",
        "tap",
        "tap_tolerance",
        "touch_zoom",
        "world_copy_jump",
        "zoom",
        "zoom_animation_threshold",
        "zoom_delta",
        "zoom_snap"
       ],
       "prefer_canvas": false,
       "right": 908918,
       "scroll_wheel_zoom": true,
       "south": -12.325915040442611,
       "style": "IPY_MODEL_54068facec224a1498aeeffe03e0896d",
       "top": 559870,
       "west": 131.77242279052737,
       "window_url": "https://app.sandbox.dea.ga.gov.au/user/robbi.bishoptaylor@ga.gov.au/lab/tree/Robbi/dea-intertidal/notebooks/Intertidal_elevation.ipynb"
      }
     },
     "e8ecfaba8b174065993b0d32643882b5": {
      "model_module": "jupyter-leaflet",
      "model_module_version": "^0.17",
      "model_name": "LeafletWidgetControlModel",
      "state": {
       "_model_module": "jupyter-leaflet",
       "_model_module_version": "^0.17",
       "_view_count": null,
       "_view_module": "jupyter-leaflet",
       "_view_module_version": "^0.17",
       "options": [
        "position",
        "transparent_bg"
       ],
       "position": "topright",
       "widget": "IPY_MODEL_b35fec017ff446c8922f44bc1c36fe9e"
      }
     },
     "eb5c22d5ae7d4225b046ce77ec8dd34b": {
      "model_module": "jupyter-leaflet",
      "model_module_version": "^0.17",
      "model_name": "LeafletFullScreenControlModel",
      "state": {
       "_model_module_version": "^0.17",
       "_view_module_version": "^0.17",
       "options": [
        "position"
       ]
      }
     },
     "f3a89794c8b0430783498fe8cddb672c": {
      "model_module": "jupyter-leaflet",
      "model_module_version": "^0.17",
      "model_name": "LeafletZoomControlModel",
      "state": {
       "_model_module_version": "^0.17",
       "_view_module_version": "^0.17",
       "options": [
        "position",
        "zoom_in_text",
        "zoom_in_title",
        "zoom_out_text",
        "zoom_out_title"
       ]
      }
     },
     "fb317f503e75488b9ce4d26a1fa73084": {
      "model_module": "@jupyter-widgets/controls",
      "model_module_version": "2.0.0",
      "model_name": "HTMLModel",
      "state": {
       "layout": "IPY_MODEL_54ac00c6fbdb4e10b0451f5c71004ed1",
       "style": "IPY_MODEL_63c4fb7e949045d3b3098f01e4811ce0",
       "value": " 105/105 [00:48&lt;00:00,  2.12it/s]"
      }
     }
    },
    "version_major": 2,
    "version_minor": 0
   }
  }
 },
 "nbformat": 4,
 "nbformat_minor": 5
}
